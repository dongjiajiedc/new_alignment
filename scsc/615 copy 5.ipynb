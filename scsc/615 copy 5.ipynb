{
 "cells": [
  {
   "cell_type": "code",
   "execution_count": 1,
   "metadata": {},
   "outputs": [],
   "source": [
    "from read_data import *\n",
    "from hyper import *\n",
    "from alignment import *\n",
    "from datasets.preprecossing import *"
   ]
  },
  {
   "cell_type": "code",
   "execution_count": 2,
   "metadata": {},
   "outputs": [
    {
     "data": {
      "text/html": [
       "<div>\n",
       "<style scoped>\n",
       "    .dataframe tbody tr th:only-of-type {\n",
       "        vertical-align: middle;\n",
       "    }\n",
       "\n",
       "    .dataframe tbody tr th {\n",
       "        vertical-align: top;\n",
       "    }\n",
       "\n",
       "    .dataframe thead th {\n",
       "        text-align: right;\n",
       "    }\n",
       "</style>\n",
       "<table border=\"1\" class=\"dataframe\">\n",
       "  <thead>\n",
       "    <tr style=\"text-align: right;\">\n",
       "      <th></th>\n",
       "      <th>APOE</th>\n",
       "      <th>TNFSF8</th>\n",
       "      <th>MFAP4</th>\n",
       "      <th>HLA-DPA1</th>\n",
       "      <th>RP11-796E2.4</th>\n",
       "      <th>CTD-2587M2.1</th>\n",
       "      <th>KIR3DL1</th>\n",
       "      <th>IGLV3-21</th>\n",
       "      <th>TRAV36DV7</th>\n",
       "      <th>TESPA1</th>\n",
       "      <th>...</th>\n",
       "      <th>CD300LG</th>\n",
       "      <th>CD7</th>\n",
       "      <th>ELN</th>\n",
       "      <th>FCER2</th>\n",
       "      <th>KIR2DL1</th>\n",
       "      <th>NELL2</th>\n",
       "      <th>CA4</th>\n",
       "      <th>SOD3</th>\n",
       "      <th>CCL17</th>\n",
       "      <th>FCGR3A</th>\n",
       "    </tr>\n",
       "    <tr>\n",
       "      <th>Unnamed: 0</th>\n",
       "      <th></th>\n",
       "      <th></th>\n",
       "      <th></th>\n",
       "      <th></th>\n",
       "      <th></th>\n",
       "      <th></th>\n",
       "      <th></th>\n",
       "      <th></th>\n",
       "      <th></th>\n",
       "      <th></th>\n",
       "      <th></th>\n",
       "      <th></th>\n",
       "      <th></th>\n",
       "      <th></th>\n",
       "      <th></th>\n",
       "      <th></th>\n",
       "      <th></th>\n",
       "      <th></th>\n",
       "      <th></th>\n",
       "      <th></th>\n",
       "      <th></th>\n",
       "    </tr>\n",
       "  </thead>\n",
       "  <tbody>\n",
       "    <tr>\n",
       "      <th>BC04BLOOD4_218</th>\n",
       "      <td>0.000000</td>\n",
       "      <td>0.0</td>\n",
       "      <td>0.0</td>\n",
       "      <td>1.334971</td>\n",
       "      <td>1.334971</td>\n",
       "      <td>0.0</td>\n",
       "      <td>0.000000</td>\n",
       "      <td>0.0</td>\n",
       "      <td>0.0</td>\n",
       "      <td>0.0</td>\n",
       "      <td>...</td>\n",
       "      <td>0.0</td>\n",
       "      <td>0.000000</td>\n",
       "      <td>0.0</td>\n",
       "      <td>1.613303</td>\n",
       "      <td>0.0</td>\n",
       "      <td>0.000000</td>\n",
       "      <td>0.0</td>\n",
       "      <td>0.0</td>\n",
       "      <td>0.0</td>\n",
       "      <td>0.000000</td>\n",
       "    </tr>\n",
       "    <tr>\n",
       "      <th>BC04BLOOD4_272</th>\n",
       "      <td>0.000000</td>\n",
       "      <td>0.0</td>\n",
       "      <td>0.0</td>\n",
       "      <td>1.230573</td>\n",
       "      <td>0.000000</td>\n",
       "      <td>0.0</td>\n",
       "      <td>0.000000</td>\n",
       "      <td>0.0</td>\n",
       "      <td>0.0</td>\n",
       "      <td>0.0</td>\n",
       "      <td>...</td>\n",
       "      <td>0.0</td>\n",
       "      <td>0.000000</td>\n",
       "      <td>0.0</td>\n",
       "      <td>0.000000</td>\n",
       "      <td>0.0</td>\n",
       "      <td>1.426741</td>\n",
       "      <td>0.0</td>\n",
       "      <td>0.0</td>\n",
       "      <td>0.0</td>\n",
       "      <td>0.000000</td>\n",
       "    </tr>\n",
       "    <tr>\n",
       "      <th>BC04BLOOD4_290</th>\n",
       "      <td>0.000000</td>\n",
       "      <td>0.0</td>\n",
       "      <td>0.0</td>\n",
       "      <td>0.000000</td>\n",
       "      <td>0.000000</td>\n",
       "      <td>0.0</td>\n",
       "      <td>0.000000</td>\n",
       "      <td>0.0</td>\n",
       "      <td>0.0</td>\n",
       "      <td>0.0</td>\n",
       "      <td>...</td>\n",
       "      <td>0.0</td>\n",
       "      <td>0.000000</td>\n",
       "      <td>0.0</td>\n",
       "      <td>0.000000</td>\n",
       "      <td>0.0</td>\n",
       "      <td>0.000000</td>\n",
       "      <td>0.0</td>\n",
       "      <td>0.0</td>\n",
       "      <td>0.0</td>\n",
       "      <td>1.307146</td>\n",
       "    </tr>\n",
       "    <tr>\n",
       "      <th>BC04BLOOD4_340</th>\n",
       "      <td>0.000000</td>\n",
       "      <td>0.0</td>\n",
       "      <td>0.0</td>\n",
       "      <td>1.312234</td>\n",
       "      <td>0.000000</td>\n",
       "      <td>0.0</td>\n",
       "      <td>0.000000</td>\n",
       "      <td>0.0</td>\n",
       "      <td>0.0</td>\n",
       "      <td>0.0</td>\n",
       "      <td>...</td>\n",
       "      <td>0.0</td>\n",
       "      <td>0.000000</td>\n",
       "      <td>0.0</td>\n",
       "      <td>0.000000</td>\n",
       "      <td>0.0</td>\n",
       "      <td>0.000000</td>\n",
       "      <td>0.0</td>\n",
       "      <td>0.0</td>\n",
       "      <td>0.0</td>\n",
       "      <td>0.000000</td>\n",
       "    </tr>\n",
       "    <tr>\n",
       "      <th>BC04BLOOD4_498</th>\n",
       "      <td>0.000000</td>\n",
       "      <td>0.0</td>\n",
       "      <td>0.0</td>\n",
       "      <td>0.000000</td>\n",
       "      <td>0.000000</td>\n",
       "      <td>0.0</td>\n",
       "      <td>0.000000</td>\n",
       "      <td>0.0</td>\n",
       "      <td>0.0</td>\n",
       "      <td>0.0</td>\n",
       "      <td>...</td>\n",
       "      <td>0.0</td>\n",
       "      <td>1.457305</td>\n",
       "      <td>0.0</td>\n",
       "      <td>1.180592</td>\n",
       "      <td>0.0</td>\n",
       "      <td>0.000000</td>\n",
       "      <td>0.0</td>\n",
       "      <td>0.0</td>\n",
       "      <td>0.0</td>\n",
       "      <td>0.000000</td>\n",
       "    </tr>\n",
       "    <tr>\n",
       "      <th>...</th>\n",
       "      <td>...</td>\n",
       "      <td>...</td>\n",
       "      <td>...</td>\n",
       "      <td>...</td>\n",
       "      <td>...</td>\n",
       "      <td>...</td>\n",
       "      <td>...</td>\n",
       "      <td>...</td>\n",
       "      <td>...</td>\n",
       "      <td>...</td>\n",
       "      <td>...</td>\n",
       "      <td>...</td>\n",
       "      <td>...</td>\n",
       "      <td>...</td>\n",
       "      <td>...</td>\n",
       "      <td>...</td>\n",
       "      <td>...</td>\n",
       "      <td>...</td>\n",
       "      <td>...</td>\n",
       "      <td>...</td>\n",
       "      <td>...</td>\n",
       "    </tr>\n",
       "    <tr>\n",
       "      <th>BC06TUMOR3_47372</th>\n",
       "      <td>0.000000</td>\n",
       "      <td>0.0</td>\n",
       "      <td>0.0</td>\n",
       "      <td>0.000000</td>\n",
       "      <td>0.000000</td>\n",
       "      <td>0.0</td>\n",
       "      <td>0.000000</td>\n",
       "      <td>0.0</td>\n",
       "      <td>0.0</td>\n",
       "      <td>0.0</td>\n",
       "      <td>...</td>\n",
       "      <td>0.0</td>\n",
       "      <td>1.465280</td>\n",
       "      <td>0.0</td>\n",
       "      <td>0.000000</td>\n",
       "      <td>0.0</td>\n",
       "      <td>0.000000</td>\n",
       "      <td>0.0</td>\n",
       "      <td>0.0</td>\n",
       "      <td>0.0</td>\n",
       "      <td>1.559980</td>\n",
       "    </tr>\n",
       "    <tr>\n",
       "      <th>BC06TUMOR3_47399</th>\n",
       "      <td>0.831490</td>\n",
       "      <td>0.0</td>\n",
       "      <td>0.0</td>\n",
       "      <td>0.000000</td>\n",
       "      <td>0.000000</td>\n",
       "      <td>0.0</td>\n",
       "      <td>0.000000</td>\n",
       "      <td>0.0</td>\n",
       "      <td>0.0</td>\n",
       "      <td>0.0</td>\n",
       "      <td>...</td>\n",
       "      <td>0.0</td>\n",
       "      <td>0.000000</td>\n",
       "      <td>0.0</td>\n",
       "      <td>0.000000</td>\n",
       "      <td>0.0</td>\n",
       "      <td>0.000000</td>\n",
       "      <td>0.0</td>\n",
       "      <td>0.0</td>\n",
       "      <td>0.0</td>\n",
       "      <td>0.000000</td>\n",
       "    </tr>\n",
       "    <tr>\n",
       "      <th>BC06TUMOR1_57132</th>\n",
       "      <td>0.000000</td>\n",
       "      <td>0.0</td>\n",
       "      <td>0.0</td>\n",
       "      <td>0.000000</td>\n",
       "      <td>0.000000</td>\n",
       "      <td>0.0</td>\n",
       "      <td>0.000000</td>\n",
       "      <td>0.0</td>\n",
       "      <td>0.0</td>\n",
       "      <td>0.0</td>\n",
       "      <td>...</td>\n",
       "      <td>0.0</td>\n",
       "      <td>1.247586</td>\n",
       "      <td>0.0</td>\n",
       "      <td>0.000000</td>\n",
       "      <td>0.0</td>\n",
       "      <td>0.000000</td>\n",
       "      <td>0.0</td>\n",
       "      <td>0.0</td>\n",
       "      <td>0.0</td>\n",
       "      <td>1.361565</td>\n",
       "    </tr>\n",
       "    <tr>\n",
       "      <th>BC06TUMOR1_57214</th>\n",
       "      <td>0.000000</td>\n",
       "      <td>0.0</td>\n",
       "      <td>0.0</td>\n",
       "      <td>0.000000</td>\n",
       "      <td>0.000000</td>\n",
       "      <td>0.0</td>\n",
       "      <td>1.252499</td>\n",
       "      <td>0.0</td>\n",
       "      <td>0.0</td>\n",
       "      <td>0.0</td>\n",
       "      <td>...</td>\n",
       "      <td>0.0</td>\n",
       "      <td>1.347242</td>\n",
       "      <td>0.0</td>\n",
       "      <td>0.000000</td>\n",
       "      <td>0.0</td>\n",
       "      <td>0.000000</td>\n",
       "      <td>0.0</td>\n",
       "      <td>0.0</td>\n",
       "      <td>0.0</td>\n",
       "      <td>1.410353</td>\n",
       "    </tr>\n",
       "    <tr>\n",
       "      <th>BC06TUMOR1_57262</th>\n",
       "      <td>1.140102</td>\n",
       "      <td>0.0</td>\n",
       "      <td>0.0</td>\n",
       "      <td>0.000000</td>\n",
       "      <td>0.000000</td>\n",
       "      <td>0.0</td>\n",
       "      <td>0.000000</td>\n",
       "      <td>0.0</td>\n",
       "      <td>0.0</td>\n",
       "      <td>0.0</td>\n",
       "      <td>...</td>\n",
       "      <td>0.0</td>\n",
       "      <td>1.414203</td>\n",
       "      <td>0.0</td>\n",
       "      <td>0.000000</td>\n",
       "      <td>0.0</td>\n",
       "      <td>0.000000</td>\n",
       "      <td>0.0</td>\n",
       "      <td>0.0</td>\n",
       "      <td>0.0</td>\n",
       "      <td>1.414203</td>\n",
       "    </tr>\n",
       "  </tbody>\n",
       "</table>\n",
       "<p>19676 rows × 513 columns</p>\n",
       "</div>"
      ],
      "text/plain": [
       "                      APOE  TNFSF8  MFAP4  HLA-DPA1  RP11-796E2.4  \\\n",
       "Unnamed: 0                                                          \n",
       "BC04BLOOD4_218    0.000000     0.0    0.0  1.334971      1.334971   \n",
       "BC04BLOOD4_272    0.000000     0.0    0.0  1.230573      0.000000   \n",
       "BC04BLOOD4_290    0.000000     0.0    0.0  0.000000      0.000000   \n",
       "BC04BLOOD4_340    0.000000     0.0    0.0  1.312234      0.000000   \n",
       "BC04BLOOD4_498    0.000000     0.0    0.0  0.000000      0.000000   \n",
       "...                    ...     ...    ...       ...           ...   \n",
       "BC06TUMOR3_47372  0.000000     0.0    0.0  0.000000      0.000000   \n",
       "BC06TUMOR3_47399  0.831490     0.0    0.0  0.000000      0.000000   \n",
       "BC06TUMOR1_57132  0.000000     0.0    0.0  0.000000      0.000000   \n",
       "BC06TUMOR1_57214  0.000000     0.0    0.0  0.000000      0.000000   \n",
       "BC06TUMOR1_57262  1.140102     0.0    0.0  0.000000      0.000000   \n",
       "\n",
       "                  CTD-2587M2.1   KIR3DL1  IGLV3-21  TRAV36DV7  TESPA1  ...  \\\n",
       "Unnamed: 0                                                             ...   \n",
       "BC04BLOOD4_218             0.0  0.000000       0.0        0.0     0.0  ...   \n",
       "BC04BLOOD4_272             0.0  0.000000       0.0        0.0     0.0  ...   \n",
       "BC04BLOOD4_290             0.0  0.000000       0.0        0.0     0.0  ...   \n",
       "BC04BLOOD4_340             0.0  0.000000       0.0        0.0     0.0  ...   \n",
       "BC04BLOOD4_498             0.0  0.000000       0.0        0.0     0.0  ...   \n",
       "...                        ...       ...       ...        ...     ...  ...   \n",
       "BC06TUMOR3_47372           0.0  0.000000       0.0        0.0     0.0  ...   \n",
       "BC06TUMOR3_47399           0.0  0.000000       0.0        0.0     0.0  ...   \n",
       "BC06TUMOR1_57132           0.0  0.000000       0.0        0.0     0.0  ...   \n",
       "BC06TUMOR1_57214           0.0  1.252499       0.0        0.0     0.0  ...   \n",
       "BC06TUMOR1_57262           0.0  0.000000       0.0        0.0     0.0  ...   \n",
       "\n",
       "                  CD300LG       CD7  ELN     FCER2  KIR2DL1     NELL2  CA4  \\\n",
       "Unnamed: 0                                                                   \n",
       "BC04BLOOD4_218        0.0  0.000000  0.0  1.613303      0.0  0.000000  0.0   \n",
       "BC04BLOOD4_272        0.0  0.000000  0.0  0.000000      0.0  1.426741  0.0   \n",
       "BC04BLOOD4_290        0.0  0.000000  0.0  0.000000      0.0  0.000000  0.0   \n",
       "BC04BLOOD4_340        0.0  0.000000  0.0  0.000000      0.0  0.000000  0.0   \n",
       "BC04BLOOD4_498        0.0  1.457305  0.0  1.180592      0.0  0.000000  0.0   \n",
       "...                   ...       ...  ...       ...      ...       ...  ...   \n",
       "BC06TUMOR3_47372      0.0  1.465280  0.0  0.000000      0.0  0.000000  0.0   \n",
       "BC06TUMOR3_47399      0.0  0.000000  0.0  0.000000      0.0  0.000000  0.0   \n",
       "BC06TUMOR1_57132      0.0  1.247586  0.0  0.000000      0.0  0.000000  0.0   \n",
       "BC06TUMOR1_57214      0.0  1.347242  0.0  0.000000      0.0  0.000000  0.0   \n",
       "BC06TUMOR1_57262      0.0  1.414203  0.0  0.000000      0.0  0.000000  0.0   \n",
       "\n",
       "                  SOD3  CCL17    FCGR3A  \n",
       "Unnamed: 0                               \n",
       "BC04BLOOD4_218     0.0    0.0  0.000000  \n",
       "BC04BLOOD4_272     0.0    0.0  0.000000  \n",
       "BC04BLOOD4_290     0.0    0.0  1.307146  \n",
       "BC04BLOOD4_340     0.0    0.0  0.000000  \n",
       "BC04BLOOD4_498     0.0    0.0  0.000000  \n",
       "...                ...    ...       ...  \n",
       "BC06TUMOR3_47372   0.0    0.0  1.559980  \n",
       "BC06TUMOR3_47399   0.0    0.0  0.000000  \n",
       "BC06TUMOR1_57132   0.0    0.0  1.361565  \n",
       "BC06TUMOR1_57214   0.0    0.0  1.410353  \n",
       "BC06TUMOR1_57262   0.0    0.0  1.414203  \n",
       "\n",
       "[19676 rows x 513 columns]"
      ]
     },
     "execution_count": 2,
     "metadata": {},
     "output_type": "execute_result"
    }
   ],
   "source": [
    "datas = pd.read_csv(\"./datas/data2/data_cell.csv\").set_index(\"Unnamed: 0\")\n",
    "datas"
   ]
  },
  {
   "cell_type": "code",
   "execution_count": 3,
   "metadata": {},
   "outputs": [
    {
     "data": {
      "text/html": [
       "<div>\n",
       "<style scoped>\n",
       "    .dataframe tbody tr th:only-of-type {\n",
       "        vertical-align: middle;\n",
       "    }\n",
       "\n",
       "    .dataframe tbody tr th {\n",
       "        vertical-align: top;\n",
       "    }\n",
       "\n",
       "    .dataframe thead th {\n",
       "        text-align: right;\n",
       "    }\n",
       "</style>\n",
       "<table border=\"1\" class=\"dataframe\">\n",
       "  <thead>\n",
       "    <tr style=\"text-align: right;\">\n",
       "      <th></th>\n",
       "      <th>Cell</th>\n",
       "      <th>UMAP_1</th>\n",
       "      <th>UMAP_2</th>\n",
       "      <th>Celltype (malignancy)</th>\n",
       "      <th>Celltype (major-lineage)</th>\n",
       "      <th>Celltype (minor-lineage)</th>\n",
       "      <th>Cluster</th>\n",
       "      <th>Sample</th>\n",
       "      <th>Patient</th>\n",
       "      <th>Source</th>\n",
       "      <th>Gender</th>\n",
       "      <th>Stage</th>\n",
       "      <th>TNMstage</th>\n",
       "    </tr>\n",
       "  </thead>\n",
       "  <tbody>\n",
       "    <tr>\n",
       "      <th>0</th>\n",
       "      <td>BC04BLOOD4_218</td>\n",
       "      <td>-8.800593</td>\n",
       "      <td>14.551758</td>\n",
       "      <td>Immune cells</td>\n",
       "      <td>B</td>\n",
       "      <td>B</td>\n",
       "      <td>10</td>\n",
       "      <td>BC04BLOOD4</td>\n",
       "      <td>BC04</td>\n",
       "      <td>PBMC</td>\n",
       "      <td>Female</td>\n",
       "      <td>Primary</td>\n",
       "      <td>I</td>\n",
       "    </tr>\n",
       "    <tr>\n",
       "      <th>1</th>\n",
       "      <td>BC04BLOOD4_272</td>\n",
       "      <td>-8.305215</td>\n",
       "      <td>11.867059</td>\n",
       "      <td>Immune cells</td>\n",
       "      <td>B</td>\n",
       "      <td>B</td>\n",
       "      <td>15</td>\n",
       "      <td>BC04BLOOD4</td>\n",
       "      <td>BC04</td>\n",
       "      <td>PBMC</td>\n",
       "      <td>Female</td>\n",
       "      <td>Primary</td>\n",
       "      <td>I</td>\n",
       "    </tr>\n",
       "    <tr>\n",
       "      <th>2</th>\n",
       "      <td>BC04BLOOD4_290</td>\n",
       "      <td>-7.171502</td>\n",
       "      <td>12.089576</td>\n",
       "      <td>Immune cells</td>\n",
       "      <td>B</td>\n",
       "      <td>B</td>\n",
       "      <td>15</td>\n",
       "      <td>BC04BLOOD4</td>\n",
       "      <td>BC04</td>\n",
       "      <td>PBMC</td>\n",
       "      <td>Female</td>\n",
       "      <td>Primary</td>\n",
       "      <td>I</td>\n",
       "    </tr>\n",
       "    <tr>\n",
       "      <th>3</th>\n",
       "      <td>BC04BLOOD4_340</td>\n",
       "      <td>-8.384596</td>\n",
       "      <td>12.347529</td>\n",
       "      <td>Immune cells</td>\n",
       "      <td>B</td>\n",
       "      <td>B</td>\n",
       "      <td>15</td>\n",
       "      <td>BC04BLOOD4</td>\n",
       "      <td>BC04</td>\n",
       "      <td>PBMC</td>\n",
       "      <td>Female</td>\n",
       "      <td>Primary</td>\n",
       "      <td>I</td>\n",
       "    </tr>\n",
       "    <tr>\n",
       "      <th>4</th>\n",
       "      <td>BC04BLOOD4_498</td>\n",
       "      <td>-7.047964</td>\n",
       "      <td>12.000837</td>\n",
       "      <td>Immune cells</td>\n",
       "      <td>B</td>\n",
       "      <td>B</td>\n",
       "      <td>15</td>\n",
       "      <td>BC04BLOOD4</td>\n",
       "      <td>BC04</td>\n",
       "      <td>PBMC</td>\n",
       "      <td>Female</td>\n",
       "      <td>Primary</td>\n",
       "      <td>I</td>\n",
       "    </tr>\n",
       "    <tr>\n",
       "      <th>...</th>\n",
       "      <td>...</td>\n",
       "      <td>...</td>\n",
       "      <td>...</td>\n",
       "      <td>...</td>\n",
       "      <td>...</td>\n",
       "      <td>...</td>\n",
       "      <td>...</td>\n",
       "      <td>...</td>\n",
       "      <td>...</td>\n",
       "      <td>...</td>\n",
       "      <td>...</td>\n",
       "      <td>...</td>\n",
       "      <td>...</td>\n",
       "    </tr>\n",
       "    <tr>\n",
       "      <th>19671</th>\n",
       "      <td>BC06TUMOR3_47372</td>\n",
       "      <td>-3.885581</td>\n",
       "      <td>5.348509</td>\n",
       "      <td>Immune cells</td>\n",
       "      <td>NK</td>\n",
       "      <td>NK</td>\n",
       "      <td>13</td>\n",
       "      <td>BC06TUMOR3</td>\n",
       "      <td>BC06</td>\n",
       "      <td>Tumor</td>\n",
       "      <td>Female</td>\n",
       "      <td>Primary</td>\n",
       "      <td>II</td>\n",
       "    </tr>\n",
       "    <tr>\n",
       "      <th>19672</th>\n",
       "      <td>BC06TUMOR3_47399</td>\n",
       "      <td>-0.743853</td>\n",
       "      <td>4.635643</td>\n",
       "      <td>Immune cells</td>\n",
       "      <td>NK</td>\n",
       "      <td>NK</td>\n",
       "      <td>13</td>\n",
       "      <td>BC06TUMOR3</td>\n",
       "      <td>BC06</td>\n",
       "      <td>Tumor</td>\n",
       "      <td>Female</td>\n",
       "      <td>Primary</td>\n",
       "      <td>II</td>\n",
       "    </tr>\n",
       "    <tr>\n",
       "      <th>19673</th>\n",
       "      <td>BC06TUMOR1_57132</td>\n",
       "      <td>-4.653309</td>\n",
       "      <td>5.760456</td>\n",
       "      <td>Immune cells</td>\n",
       "      <td>NK</td>\n",
       "      <td>NK</td>\n",
       "      <td>13</td>\n",
       "      <td>BC06TUMOR1</td>\n",
       "      <td>BC06</td>\n",
       "      <td>Tumor</td>\n",
       "      <td>Female</td>\n",
       "      <td>Primary</td>\n",
       "      <td>II</td>\n",
       "    </tr>\n",
       "    <tr>\n",
       "      <th>19674</th>\n",
       "      <td>BC06TUMOR1_57214</td>\n",
       "      <td>-4.896245</td>\n",
       "      <td>6.304278</td>\n",
       "      <td>Immune cells</td>\n",
       "      <td>NK</td>\n",
       "      <td>NK</td>\n",
       "      <td>19</td>\n",
       "      <td>BC06TUMOR1</td>\n",
       "      <td>BC06</td>\n",
       "      <td>Tumor</td>\n",
       "      <td>Female</td>\n",
       "      <td>Primary</td>\n",
       "      <td>II</td>\n",
       "    </tr>\n",
       "    <tr>\n",
       "      <th>19675</th>\n",
       "      <td>BC06TUMOR1_57262</td>\n",
       "      <td>-4.576339</td>\n",
       "      <td>6.230356</td>\n",
       "      <td>Immune cells</td>\n",
       "      <td>NK</td>\n",
       "      <td>NK</td>\n",
       "      <td>19</td>\n",
       "      <td>BC06TUMOR1</td>\n",
       "      <td>BC06</td>\n",
       "      <td>Tumor</td>\n",
       "      <td>Female</td>\n",
       "      <td>Primary</td>\n",
       "      <td>II</td>\n",
       "    </tr>\n",
       "  </tbody>\n",
       "</table>\n",
       "<p>19676 rows × 13 columns</p>\n",
       "</div>"
      ],
      "text/plain": [
       "                   Cell    UMAP_1     UMAP_2 Celltype (malignancy)  \\\n",
       "0        BC04BLOOD4_218 -8.800593  14.551758          Immune cells   \n",
       "1        BC04BLOOD4_272 -8.305215  11.867059          Immune cells   \n",
       "2        BC04BLOOD4_290 -7.171502  12.089576          Immune cells   \n",
       "3        BC04BLOOD4_340 -8.384596  12.347529          Immune cells   \n",
       "4        BC04BLOOD4_498 -7.047964  12.000837          Immune cells   \n",
       "...                 ...       ...        ...                   ...   \n",
       "19671  BC06TUMOR3_47372 -3.885581   5.348509          Immune cells   \n",
       "19672  BC06TUMOR3_47399 -0.743853   4.635643          Immune cells   \n",
       "19673  BC06TUMOR1_57132 -4.653309   5.760456          Immune cells   \n",
       "19674  BC06TUMOR1_57214 -4.896245   6.304278          Immune cells   \n",
       "19675  BC06TUMOR1_57262 -4.576339   6.230356          Immune cells   \n",
       "\n",
       "      Celltype (major-lineage) Celltype (minor-lineage)  Cluster      Sample  \\\n",
       "0                            B                        B       10  BC04BLOOD4   \n",
       "1                            B                        B       15  BC04BLOOD4   \n",
       "2                            B                        B       15  BC04BLOOD4   \n",
       "3                            B                        B       15  BC04BLOOD4   \n",
       "4                            B                        B       15  BC04BLOOD4   \n",
       "...                        ...                      ...      ...         ...   \n",
       "19671                       NK                       NK       13  BC06TUMOR3   \n",
       "19672                       NK                       NK       13  BC06TUMOR3   \n",
       "19673                       NK                       NK       13  BC06TUMOR1   \n",
       "19674                       NK                       NK       19  BC06TUMOR1   \n",
       "19675                       NK                       NK       19  BC06TUMOR1   \n",
       "\n",
       "      Patient Source  Gender    Stage TNMstage  \n",
       "0        BC04   PBMC  Female  Primary        I  \n",
       "1        BC04   PBMC  Female  Primary        I  \n",
       "2        BC04   PBMC  Female  Primary        I  \n",
       "3        BC04   PBMC  Female  Primary        I  \n",
       "4        BC04   PBMC  Female  Primary        I  \n",
       "...       ...    ...     ...      ...      ...  \n",
       "19671    BC06  Tumor  Female  Primary       II  \n",
       "19672    BC06  Tumor  Female  Primary       II  \n",
       "19673    BC06  Tumor  Female  Primary       II  \n",
       "19674    BC06  Tumor  Female  Primary       II  \n",
       "19675    BC06  Tumor  Female  Primary       II  \n",
       "\n",
       "[19676 rows x 13 columns]"
      ]
     },
     "execution_count": 3,
     "metadata": {},
     "output_type": "execute_result"
    }
   ],
   "source": [
    "celltype  = cell_type1 = pd.read_csv(\"../../../capital/docs/tutorials/BRCA_GSE114727_inDrop_CellMetainfo_table.tsv\",sep=\"\\t\")\n",
    "celltype"
   ]
  },
  {
   "cell_type": "code",
   "execution_count": 4,
   "metadata": {},
   "outputs": [
    {
     "data": {
      "text/html": [
       "<div>\n",
       "<style scoped>\n",
       "    .dataframe tbody tr th:only-of-type {\n",
       "        vertical-align: middle;\n",
       "    }\n",
       "\n",
       "    .dataframe tbody tr th {\n",
       "        vertical-align: top;\n",
       "    }\n",
       "\n",
       "    .dataframe thead th {\n",
       "        text-align: right;\n",
       "    }\n",
       "</style>\n",
       "<table border=\"1\" class=\"dataframe\">\n",
       "  <thead>\n",
       "    <tr style=\"text-align: right;\">\n",
       "      <th></th>\n",
       "      <th>APOE</th>\n",
       "      <th>TNFSF8</th>\n",
       "      <th>MFAP4</th>\n",
       "      <th>HLA-DPA1</th>\n",
       "      <th>RP11-796E2.4</th>\n",
       "      <th>CTD-2587M2.1</th>\n",
       "      <th>KIR3DL1</th>\n",
       "      <th>IGLV3-21</th>\n",
       "      <th>TRAV36DV7</th>\n",
       "      <th>TESPA1</th>\n",
       "      <th>...</th>\n",
       "      <th>CD7</th>\n",
       "      <th>ELN</th>\n",
       "      <th>FCER2</th>\n",
       "      <th>KIR2DL1</th>\n",
       "      <th>NELL2</th>\n",
       "      <th>CA4</th>\n",
       "      <th>SOD3</th>\n",
       "      <th>CCL17</th>\n",
       "      <th>FCGR3A</th>\n",
       "      <th>Celltype</th>\n",
       "    </tr>\n",
       "    <tr>\n",
       "      <th>Unnamed: 0</th>\n",
       "      <th></th>\n",
       "      <th></th>\n",
       "      <th></th>\n",
       "      <th></th>\n",
       "      <th></th>\n",
       "      <th></th>\n",
       "      <th></th>\n",
       "      <th></th>\n",
       "      <th></th>\n",
       "      <th></th>\n",
       "      <th></th>\n",
       "      <th></th>\n",
       "      <th></th>\n",
       "      <th></th>\n",
       "      <th></th>\n",
       "      <th></th>\n",
       "      <th></th>\n",
       "      <th></th>\n",
       "      <th></th>\n",
       "      <th></th>\n",
       "      <th></th>\n",
       "    </tr>\n",
       "  </thead>\n",
       "  <tbody>\n",
       "    <tr>\n",
       "      <th>BC04BLOOD4_218</th>\n",
       "      <td>0.000000</td>\n",
       "      <td>0.0</td>\n",
       "      <td>0.0</td>\n",
       "      <td>1.334971</td>\n",
       "      <td>1.334971</td>\n",
       "      <td>0.0</td>\n",
       "      <td>0.000000</td>\n",
       "      <td>0.0</td>\n",
       "      <td>0.0</td>\n",
       "      <td>0.0</td>\n",
       "      <td>...</td>\n",
       "      <td>0.000000</td>\n",
       "      <td>0.0</td>\n",
       "      <td>1.613303</td>\n",
       "      <td>0.0</td>\n",
       "      <td>0.000000</td>\n",
       "      <td>0.0</td>\n",
       "      <td>0.0</td>\n",
       "      <td>0.0</td>\n",
       "      <td>0.000000</td>\n",
       "      <td>B</td>\n",
       "    </tr>\n",
       "    <tr>\n",
       "      <th>BC04BLOOD4_272</th>\n",
       "      <td>0.000000</td>\n",
       "      <td>0.0</td>\n",
       "      <td>0.0</td>\n",
       "      <td>1.230573</td>\n",
       "      <td>0.000000</td>\n",
       "      <td>0.0</td>\n",
       "      <td>0.000000</td>\n",
       "      <td>0.0</td>\n",
       "      <td>0.0</td>\n",
       "      <td>0.0</td>\n",
       "      <td>...</td>\n",
       "      <td>0.000000</td>\n",
       "      <td>0.0</td>\n",
       "      <td>0.000000</td>\n",
       "      <td>0.0</td>\n",
       "      <td>1.426741</td>\n",
       "      <td>0.0</td>\n",
       "      <td>0.0</td>\n",
       "      <td>0.0</td>\n",
       "      <td>0.000000</td>\n",
       "      <td>B</td>\n",
       "    </tr>\n",
       "    <tr>\n",
       "      <th>BC04BLOOD4_290</th>\n",
       "      <td>0.000000</td>\n",
       "      <td>0.0</td>\n",
       "      <td>0.0</td>\n",
       "      <td>0.000000</td>\n",
       "      <td>0.000000</td>\n",
       "      <td>0.0</td>\n",
       "      <td>0.000000</td>\n",
       "      <td>0.0</td>\n",
       "      <td>0.0</td>\n",
       "      <td>0.0</td>\n",
       "      <td>...</td>\n",
       "      <td>0.000000</td>\n",
       "      <td>0.0</td>\n",
       "      <td>0.000000</td>\n",
       "      <td>0.0</td>\n",
       "      <td>0.000000</td>\n",
       "      <td>0.0</td>\n",
       "      <td>0.0</td>\n",
       "      <td>0.0</td>\n",
       "      <td>1.307146</td>\n",
       "      <td>B</td>\n",
       "    </tr>\n",
       "    <tr>\n",
       "      <th>BC04BLOOD4_340</th>\n",
       "      <td>0.000000</td>\n",
       "      <td>0.0</td>\n",
       "      <td>0.0</td>\n",
       "      <td>1.312234</td>\n",
       "      <td>0.000000</td>\n",
       "      <td>0.0</td>\n",
       "      <td>0.000000</td>\n",
       "      <td>0.0</td>\n",
       "      <td>0.0</td>\n",
       "      <td>0.0</td>\n",
       "      <td>...</td>\n",
       "      <td>0.000000</td>\n",
       "      <td>0.0</td>\n",
       "      <td>0.000000</td>\n",
       "      <td>0.0</td>\n",
       "      <td>0.000000</td>\n",
       "      <td>0.0</td>\n",
       "      <td>0.0</td>\n",
       "      <td>0.0</td>\n",
       "      <td>0.000000</td>\n",
       "      <td>B</td>\n",
       "    </tr>\n",
       "    <tr>\n",
       "      <th>BC04BLOOD4_498</th>\n",
       "      <td>0.000000</td>\n",
       "      <td>0.0</td>\n",
       "      <td>0.0</td>\n",
       "      <td>0.000000</td>\n",
       "      <td>0.000000</td>\n",
       "      <td>0.0</td>\n",
       "      <td>0.000000</td>\n",
       "      <td>0.0</td>\n",
       "      <td>0.0</td>\n",
       "      <td>0.0</td>\n",
       "      <td>...</td>\n",
       "      <td>1.457305</td>\n",
       "      <td>0.0</td>\n",
       "      <td>1.180592</td>\n",
       "      <td>0.0</td>\n",
       "      <td>0.000000</td>\n",
       "      <td>0.0</td>\n",
       "      <td>0.0</td>\n",
       "      <td>0.0</td>\n",
       "      <td>0.000000</td>\n",
       "      <td>B</td>\n",
       "    </tr>\n",
       "    <tr>\n",
       "      <th>...</th>\n",
       "      <td>...</td>\n",
       "      <td>...</td>\n",
       "      <td>...</td>\n",
       "      <td>...</td>\n",
       "      <td>...</td>\n",
       "      <td>...</td>\n",
       "      <td>...</td>\n",
       "      <td>...</td>\n",
       "      <td>...</td>\n",
       "      <td>...</td>\n",
       "      <td>...</td>\n",
       "      <td>...</td>\n",
       "      <td>...</td>\n",
       "      <td>...</td>\n",
       "      <td>...</td>\n",
       "      <td>...</td>\n",
       "      <td>...</td>\n",
       "      <td>...</td>\n",
       "      <td>...</td>\n",
       "      <td>...</td>\n",
       "      <td>...</td>\n",
       "    </tr>\n",
       "    <tr>\n",
       "      <th>BC06TUMOR3_47372</th>\n",
       "      <td>0.000000</td>\n",
       "      <td>0.0</td>\n",
       "      <td>0.0</td>\n",
       "      <td>0.000000</td>\n",
       "      <td>0.000000</td>\n",
       "      <td>0.0</td>\n",
       "      <td>0.000000</td>\n",
       "      <td>0.0</td>\n",
       "      <td>0.0</td>\n",
       "      <td>0.0</td>\n",
       "      <td>...</td>\n",
       "      <td>1.465280</td>\n",
       "      <td>0.0</td>\n",
       "      <td>0.000000</td>\n",
       "      <td>0.0</td>\n",
       "      <td>0.000000</td>\n",
       "      <td>0.0</td>\n",
       "      <td>0.0</td>\n",
       "      <td>0.0</td>\n",
       "      <td>1.559980</td>\n",
       "      <td>NK</td>\n",
       "    </tr>\n",
       "    <tr>\n",
       "      <th>BC06TUMOR3_47399</th>\n",
       "      <td>0.831490</td>\n",
       "      <td>0.0</td>\n",
       "      <td>0.0</td>\n",
       "      <td>0.000000</td>\n",
       "      <td>0.000000</td>\n",
       "      <td>0.0</td>\n",
       "      <td>0.000000</td>\n",
       "      <td>0.0</td>\n",
       "      <td>0.0</td>\n",
       "      <td>0.0</td>\n",
       "      <td>...</td>\n",
       "      <td>0.000000</td>\n",
       "      <td>0.0</td>\n",
       "      <td>0.000000</td>\n",
       "      <td>0.0</td>\n",
       "      <td>0.000000</td>\n",
       "      <td>0.0</td>\n",
       "      <td>0.0</td>\n",
       "      <td>0.0</td>\n",
       "      <td>0.000000</td>\n",
       "      <td>NK</td>\n",
       "    </tr>\n",
       "    <tr>\n",
       "      <th>BC06TUMOR1_57132</th>\n",
       "      <td>0.000000</td>\n",
       "      <td>0.0</td>\n",
       "      <td>0.0</td>\n",
       "      <td>0.000000</td>\n",
       "      <td>0.000000</td>\n",
       "      <td>0.0</td>\n",
       "      <td>0.000000</td>\n",
       "      <td>0.0</td>\n",
       "      <td>0.0</td>\n",
       "      <td>0.0</td>\n",
       "      <td>...</td>\n",
       "      <td>1.247586</td>\n",
       "      <td>0.0</td>\n",
       "      <td>0.000000</td>\n",
       "      <td>0.0</td>\n",
       "      <td>0.000000</td>\n",
       "      <td>0.0</td>\n",
       "      <td>0.0</td>\n",
       "      <td>0.0</td>\n",
       "      <td>1.361565</td>\n",
       "      <td>NK</td>\n",
       "    </tr>\n",
       "    <tr>\n",
       "      <th>BC06TUMOR1_57214</th>\n",
       "      <td>0.000000</td>\n",
       "      <td>0.0</td>\n",
       "      <td>0.0</td>\n",
       "      <td>0.000000</td>\n",
       "      <td>0.000000</td>\n",
       "      <td>0.0</td>\n",
       "      <td>1.252499</td>\n",
       "      <td>0.0</td>\n",
       "      <td>0.0</td>\n",
       "      <td>0.0</td>\n",
       "      <td>...</td>\n",
       "      <td>1.347242</td>\n",
       "      <td>0.0</td>\n",
       "      <td>0.000000</td>\n",
       "      <td>0.0</td>\n",
       "      <td>0.000000</td>\n",
       "      <td>0.0</td>\n",
       "      <td>0.0</td>\n",
       "      <td>0.0</td>\n",
       "      <td>1.410353</td>\n",
       "      <td>NK</td>\n",
       "    </tr>\n",
       "    <tr>\n",
       "      <th>BC06TUMOR1_57262</th>\n",
       "      <td>1.140102</td>\n",
       "      <td>0.0</td>\n",
       "      <td>0.0</td>\n",
       "      <td>0.000000</td>\n",
       "      <td>0.000000</td>\n",
       "      <td>0.0</td>\n",
       "      <td>0.000000</td>\n",
       "      <td>0.0</td>\n",
       "      <td>0.0</td>\n",
       "      <td>0.0</td>\n",
       "      <td>...</td>\n",
       "      <td>1.414203</td>\n",
       "      <td>0.0</td>\n",
       "      <td>0.000000</td>\n",
       "      <td>0.0</td>\n",
       "      <td>0.000000</td>\n",
       "      <td>0.0</td>\n",
       "      <td>0.0</td>\n",
       "      <td>0.0</td>\n",
       "      <td>1.414203</td>\n",
       "      <td>NK</td>\n",
       "    </tr>\n",
       "  </tbody>\n",
       "</table>\n",
       "<p>19676 rows × 514 columns</p>\n",
       "</div>"
      ],
      "text/plain": [
       "                      APOE  TNFSF8  MFAP4  HLA-DPA1  RP11-796E2.4  \\\n",
       "Unnamed: 0                                                          \n",
       "BC04BLOOD4_218    0.000000     0.0    0.0  1.334971      1.334971   \n",
       "BC04BLOOD4_272    0.000000     0.0    0.0  1.230573      0.000000   \n",
       "BC04BLOOD4_290    0.000000     0.0    0.0  0.000000      0.000000   \n",
       "BC04BLOOD4_340    0.000000     0.0    0.0  1.312234      0.000000   \n",
       "BC04BLOOD4_498    0.000000     0.0    0.0  0.000000      0.000000   \n",
       "...                    ...     ...    ...       ...           ...   \n",
       "BC06TUMOR3_47372  0.000000     0.0    0.0  0.000000      0.000000   \n",
       "BC06TUMOR3_47399  0.831490     0.0    0.0  0.000000      0.000000   \n",
       "BC06TUMOR1_57132  0.000000     0.0    0.0  0.000000      0.000000   \n",
       "BC06TUMOR1_57214  0.000000     0.0    0.0  0.000000      0.000000   \n",
       "BC06TUMOR1_57262  1.140102     0.0    0.0  0.000000      0.000000   \n",
       "\n",
       "                  CTD-2587M2.1   KIR3DL1  IGLV3-21  TRAV36DV7  TESPA1  ...  \\\n",
       "Unnamed: 0                                                             ...   \n",
       "BC04BLOOD4_218             0.0  0.000000       0.0        0.0     0.0  ...   \n",
       "BC04BLOOD4_272             0.0  0.000000       0.0        0.0     0.0  ...   \n",
       "BC04BLOOD4_290             0.0  0.000000       0.0        0.0     0.0  ...   \n",
       "BC04BLOOD4_340             0.0  0.000000       0.0        0.0     0.0  ...   \n",
       "BC04BLOOD4_498             0.0  0.000000       0.0        0.0     0.0  ...   \n",
       "...                        ...       ...       ...        ...     ...  ...   \n",
       "BC06TUMOR3_47372           0.0  0.000000       0.0        0.0     0.0  ...   \n",
       "BC06TUMOR3_47399           0.0  0.000000       0.0        0.0     0.0  ...   \n",
       "BC06TUMOR1_57132           0.0  0.000000       0.0        0.0     0.0  ...   \n",
       "BC06TUMOR1_57214           0.0  1.252499       0.0        0.0     0.0  ...   \n",
       "BC06TUMOR1_57262           0.0  0.000000       0.0        0.0     0.0  ...   \n",
       "\n",
       "                       CD7  ELN     FCER2  KIR2DL1     NELL2  CA4  SOD3  \\\n",
       "Unnamed: 0                                                                \n",
       "BC04BLOOD4_218    0.000000  0.0  1.613303      0.0  0.000000  0.0   0.0   \n",
       "BC04BLOOD4_272    0.000000  0.0  0.000000      0.0  1.426741  0.0   0.0   \n",
       "BC04BLOOD4_290    0.000000  0.0  0.000000      0.0  0.000000  0.0   0.0   \n",
       "BC04BLOOD4_340    0.000000  0.0  0.000000      0.0  0.000000  0.0   0.0   \n",
       "BC04BLOOD4_498    1.457305  0.0  1.180592      0.0  0.000000  0.0   0.0   \n",
       "...                    ...  ...       ...      ...       ...  ...   ...   \n",
       "BC06TUMOR3_47372  1.465280  0.0  0.000000      0.0  0.000000  0.0   0.0   \n",
       "BC06TUMOR3_47399  0.000000  0.0  0.000000      0.0  0.000000  0.0   0.0   \n",
       "BC06TUMOR1_57132  1.247586  0.0  0.000000      0.0  0.000000  0.0   0.0   \n",
       "BC06TUMOR1_57214  1.347242  0.0  0.000000      0.0  0.000000  0.0   0.0   \n",
       "BC06TUMOR1_57262  1.414203  0.0  0.000000      0.0  0.000000  0.0   0.0   \n",
       "\n",
       "                  CCL17    FCGR3A  Celltype  \n",
       "Unnamed: 0                                   \n",
       "BC04BLOOD4_218      0.0  0.000000         B  \n",
       "BC04BLOOD4_272      0.0  0.000000         B  \n",
       "BC04BLOOD4_290      0.0  1.307146         B  \n",
       "BC04BLOOD4_340      0.0  0.000000         B  \n",
       "BC04BLOOD4_498      0.0  0.000000         B  \n",
       "...                 ...       ...       ...  \n",
       "BC06TUMOR3_47372    0.0  1.559980        NK  \n",
       "BC06TUMOR3_47399    0.0  0.000000        NK  \n",
       "BC06TUMOR1_57132    0.0  1.361565        NK  \n",
       "BC06TUMOR1_57214    0.0  1.410353        NK  \n",
       "BC06TUMOR1_57262    0.0  1.414203        NK  \n",
       "\n",
       "[19676 rows x 514 columns]"
      ]
     },
     "execution_count": 4,
     "metadata": {},
     "output_type": "execute_result"
    }
   ],
   "source": [
    "adata1 = datas.copy()\n",
    "adata1.loc[list(celltype['Cell']), 'Celltype'] = list(celltype['Celltype (minor-lineage)'])\n",
    "adata1"
   ]
  },
  {
   "cell_type": "code",
   "execution_count": 5,
   "metadata": {},
   "outputs": [
    {
     "name": "stdout",
     "output_type": "stream",
     "text": [
      "remain length: 3130\n",
      "remain length: 3021\n",
      "remain length: 594\n",
      "remain length: 297\n",
      "remain length: 151\n",
      "remain length: 130\n",
      "remain length: 125\n",
      "remain length: 109\n",
      "remain length: 72\n",
      "remain length: 66\n",
      "remain length: 59\n",
      "remain length: 54\n",
      "remain length: 51\n",
      "remain length: 47\n",
      "remain length: 40\n",
      "remain length: 39\n",
      "remain length: 30\n",
      "remain length: 20\n",
      "remain length: 18\n",
      "remain length: 15\n",
      "remain length: 13\n",
      "remain length: 11\n",
      "remain length: 10\n",
      "remain length: 8\n",
      "remain length: 7\n",
      "remain length: 6\n",
      "remain length: 5\n",
      "remain length: 4\n",
      "remain length: 3\n",
      "remain length: 2\n",
      "remain length: 1\n",
      "remain length: 0\n"
     ]
    }
   ],
   "source": [
    "from scipy.spatial import KDTree\n",
    "ans_value = []\n",
    "ans_label = []\n",
    "true_label = [];\n",
    "now_labels = adata1['Celltype'].tolist();\n",
    "c= -111\n",
    "r= 10\n",
    "now_label = 0;\n",
    "now =  datas.values;\n",
    "while len(now) != 0:\n",
    "    rnd = np.random.randint(now.shape[0], size=1);\n",
    "    rand_choice = now[rnd, :].reshape(-1)\n",
    "    tree = KDTree(now);\n",
    "    indices = tree.query_ball_point(rand_choice,r)\n",
    "    points_within_k = now[indices]\n",
    "    now = now.tolist();\n",
    "    if(len(points_within_k)-1 < c):\n",
    "        for i in points_within_k:\n",
    "            ans_value.append(i.tolist())\n",
    "            ans_label.append(now_label);\n",
    "            now_label +=1\n",
    "            now.remove(i.tolist());\n",
    "            true_label.append(now_labels[int(rnd)])\n",
    "    else:\n",
    "        for i in points_within_k:\n",
    "            ans_value.append(i.tolist())\n",
    "            ans_label.append(now_label);\n",
    "            now.remove(i.tolist());            \n",
    "            true_label.append(now_labels[int(rnd)])\n",
    "        now_label+=1;\n",
    "    now = np.array(now);\n",
    "    print(\"remain length: {}\".format(len(now)))\n",
    "    # for i in points_within_k:\n",
    "    #     if(i == rand_choice).all():\n",
    "    #         continue;\n",
    "        \n",
    "    # now.remove(rand_choice)\n",
    "    # now.tolist().remove(rand_choice.tolist())\n",
    "    # now = np.array(now)\n",
    "    # break\n",
    "# rand_choice == now\n",
    "np.save('./datas/try/c_{}_r_{}_label.npy'.format(c,r),np.array(ans_label))\n",
    "np.save('./datas/try/c_{}_r_{}_value.npy'.format(c,r),np.array(ans_value))\n",
    "np.save('./datas/try/c_{}_r_{}_true.npy'.format(c,r),np.array(true_label))\n",
    "\n"
   ]
  },
  {
   "cell_type": "code",
   "execution_count": 6,
   "metadata": {},
   "outputs": [
    {
     "data": {
      "text/html": [
       "<div>\n",
       "<style scoped>\n",
       "    .dataframe tbody tr th:only-of-type {\n",
       "        vertical-align: middle;\n",
       "    }\n",
       "\n",
       "    .dataframe tbody tr th {\n",
       "        vertical-align: top;\n",
       "    }\n",
       "\n",
       "    .dataframe thead th {\n",
       "        text-align: right;\n",
       "    }\n",
       "</style>\n",
       "<table border=\"1\" class=\"dataframe\">\n",
       "  <thead>\n",
       "    <tr style=\"text-align: right;\">\n",
       "      <th></th>\n",
       "      <th>0</th>\n",
       "      <th>1</th>\n",
       "      <th>2</th>\n",
       "      <th>3</th>\n",
       "      <th>4</th>\n",
       "      <th>5</th>\n",
       "      <th>6</th>\n",
       "      <th>7</th>\n",
       "      <th>8</th>\n",
       "      <th>9</th>\n",
       "      <th>...</th>\n",
       "      <th>503</th>\n",
       "      <th>504</th>\n",
       "      <th>505</th>\n",
       "      <th>506</th>\n",
       "      <th>507</th>\n",
       "      <th>508</th>\n",
       "      <th>509</th>\n",
       "      <th>510</th>\n",
       "      <th>511</th>\n",
       "      <th>512</th>\n",
       "    </tr>\n",
       "    <tr>\n",
       "      <th>label</th>\n",
       "      <th></th>\n",
       "      <th></th>\n",
       "      <th></th>\n",
       "      <th></th>\n",
       "      <th></th>\n",
       "      <th></th>\n",
       "      <th></th>\n",
       "      <th></th>\n",
       "      <th></th>\n",
       "      <th></th>\n",
       "      <th></th>\n",
       "      <th></th>\n",
       "      <th></th>\n",
       "      <th></th>\n",
       "      <th></th>\n",
       "      <th></th>\n",
       "      <th></th>\n",
       "      <th></th>\n",
       "      <th></th>\n",
       "      <th></th>\n",
       "      <th></th>\n",
       "    </tr>\n",
       "  </thead>\n",
       "  <tbody>\n",
       "    <tr>\n",
       "      <th>0</th>\n",
       "      <td>0.135754</td>\n",
       "      <td>0.028267</td>\n",
       "      <td>0.009959</td>\n",
       "      <td>0.426708</td>\n",
       "      <td>0.042581</td>\n",
       "      <td>0.001036</td>\n",
       "      <td>0.004559</td>\n",
       "      <td>0.000870</td>\n",
       "      <td>0.001291</td>\n",
       "      <td>0.100306</td>\n",
       "      <td>...</td>\n",
       "      <td>0.004852</td>\n",
       "      <td>0.292606</td>\n",
       "      <td>0.020639</td>\n",
       "      <td>0.010359</td>\n",
       "      <td>0.005390</td>\n",
       "      <td>0.065113</td>\n",
       "      <td>0.002167</td>\n",
       "      <td>0.006342</td>\n",
       "      <td>0.002712</td>\n",
       "      <td>0.164299</td>\n",
       "    </tr>\n",
       "    <tr>\n",
       "      <th>1</th>\n",
       "      <td>0.489180</td>\n",
       "      <td>0.033235</td>\n",
       "      <td>0.000000</td>\n",
       "      <td>0.490612</td>\n",
       "      <td>0.023904</td>\n",
       "      <td>0.000000</td>\n",
       "      <td>0.012194</td>\n",
       "      <td>0.000000</td>\n",
       "      <td>0.000000</td>\n",
       "      <td>0.057382</td>\n",
       "      <td>...</td>\n",
       "      <td>0.000000</td>\n",
       "      <td>0.433077</td>\n",
       "      <td>0.000000</td>\n",
       "      <td>0.009185</td>\n",
       "      <td>0.060406</td>\n",
       "      <td>0.026918</td>\n",
       "      <td>0.000000</td>\n",
       "      <td>0.000000</td>\n",
       "      <td>0.000000</td>\n",
       "      <td>0.257677</td>\n",
       "    </tr>\n",
       "    <tr>\n",
       "      <th>2</th>\n",
       "      <td>0.588229</td>\n",
       "      <td>0.000861</td>\n",
       "      <td>0.618621</td>\n",
       "      <td>0.017889</td>\n",
       "      <td>0.003126</td>\n",
       "      <td>0.001244</td>\n",
       "      <td>0.000346</td>\n",
       "      <td>0.000000</td>\n",
       "      <td>0.000000</td>\n",
       "      <td>0.005329</td>\n",
       "      <td>...</td>\n",
       "      <td>0.003186</td>\n",
       "      <td>0.007531</td>\n",
       "      <td>0.401008</td>\n",
       "      <td>0.000000</td>\n",
       "      <td>0.000459</td>\n",
       "      <td>0.017672</td>\n",
       "      <td>0.004523</td>\n",
       "      <td>0.378810</td>\n",
       "      <td>0.000481</td>\n",
       "      <td>0.002621</td>\n",
       "    </tr>\n",
       "    <tr>\n",
       "      <th>3</th>\n",
       "      <td>0.139450</td>\n",
       "      <td>0.004412</td>\n",
       "      <td>0.000000</td>\n",
       "      <td>0.499353</td>\n",
       "      <td>0.041546</td>\n",
       "      <td>0.012170</td>\n",
       "      <td>0.082722</td>\n",
       "      <td>0.000000</td>\n",
       "      <td>0.000000</td>\n",
       "      <td>0.025530</td>\n",
       "      <td>...</td>\n",
       "      <td>0.023204</td>\n",
       "      <td>0.529162</td>\n",
       "      <td>0.024606</td>\n",
       "      <td>0.017439</td>\n",
       "      <td>0.117937</td>\n",
       "      <td>0.016880</td>\n",
       "      <td>0.013163</td>\n",
       "      <td>0.004123</td>\n",
       "      <td>0.003639</td>\n",
       "      <td>0.523658</td>\n",
       "    </tr>\n",
       "    <tr>\n",
       "      <th>4</th>\n",
       "      <td>0.123274</td>\n",
       "      <td>0.000000</td>\n",
       "      <td>0.000000</td>\n",
       "      <td>1.316043</td>\n",
       "      <td>0.095965</td>\n",
       "      <td>0.000000</td>\n",
       "      <td>0.000000</td>\n",
       "      <td>0.000000</td>\n",
       "      <td>0.000000</td>\n",
       "      <td>0.043296</td>\n",
       "      <td>...</td>\n",
       "      <td>0.007408</td>\n",
       "      <td>0.008536</td>\n",
       "      <td>0.016217</td>\n",
       "      <td>0.201381</td>\n",
       "      <td>0.000000</td>\n",
       "      <td>0.000000</td>\n",
       "      <td>0.000000</td>\n",
       "      <td>0.008063</td>\n",
       "      <td>0.000000</td>\n",
       "      <td>0.047536</td>\n",
       "    </tr>\n",
       "    <tr>\n",
       "      <th>5</th>\n",
       "      <td>0.055500</td>\n",
       "      <td>0.000000</td>\n",
       "      <td>0.000000</td>\n",
       "      <td>0.123679</td>\n",
       "      <td>0.000000</td>\n",
       "      <td>0.000000</td>\n",
       "      <td>0.549312</td>\n",
       "      <td>0.000000</td>\n",
       "      <td>0.000000</td>\n",
       "      <td>0.000000</td>\n",
       "      <td>...</td>\n",
       "      <td>0.000000</td>\n",
       "      <td>0.985437</td>\n",
       "      <td>0.000000</td>\n",
       "      <td>0.000000</td>\n",
       "      <td>0.200540</td>\n",
       "      <td>0.000000</td>\n",
       "      <td>0.000000</td>\n",
       "      <td>0.000000</td>\n",
       "      <td>0.000000</td>\n",
       "      <td>0.843401</td>\n",
       "    </tr>\n",
       "    <tr>\n",
       "      <th>6</th>\n",
       "      <td>0.000000</td>\n",
       "      <td>0.000000</td>\n",
       "      <td>0.000000</td>\n",
       "      <td>0.000000</td>\n",
       "      <td>0.000000</td>\n",
       "      <td>0.000000</td>\n",
       "      <td>0.000000</td>\n",
       "      <td>0.000000</td>\n",
       "      <td>0.000000</td>\n",
       "      <td>0.000000</td>\n",
       "      <td>...</td>\n",
       "      <td>0.000000</td>\n",
       "      <td>1.090740</td>\n",
       "      <td>0.000000</td>\n",
       "      <td>0.000000</td>\n",
       "      <td>0.000000</td>\n",
       "      <td>0.000000</td>\n",
       "      <td>0.000000</td>\n",
       "      <td>0.000000</td>\n",
       "      <td>0.000000</td>\n",
       "      <td>0.000000</td>\n",
       "    </tr>\n",
       "    <tr>\n",
       "      <th>7</th>\n",
       "      <td>0.406411</td>\n",
       "      <td>0.000000</td>\n",
       "      <td>0.797191</td>\n",
       "      <td>0.380706</td>\n",
       "      <td>0.000000</td>\n",
       "      <td>0.000000</td>\n",
       "      <td>0.000000</td>\n",
       "      <td>0.000000</td>\n",
       "      <td>0.000000</td>\n",
       "      <td>0.000000</td>\n",
       "      <td>...</td>\n",
       "      <td>0.000000</td>\n",
       "      <td>0.132341</td>\n",
       "      <td>0.170003</td>\n",
       "      <td>0.000000</td>\n",
       "      <td>0.000000</td>\n",
       "      <td>0.000000</td>\n",
       "      <td>0.000000</td>\n",
       "      <td>0.958817</td>\n",
       "      <td>0.000000</td>\n",
       "      <td>0.422315</td>\n",
       "    </tr>\n",
       "    <tr>\n",
       "      <th>8</th>\n",
       "      <td>0.032313</td>\n",
       "      <td>0.032313</td>\n",
       "      <td>0.000000</td>\n",
       "      <td>0.555307</td>\n",
       "      <td>0.000000</td>\n",
       "      <td>0.000000</td>\n",
       "      <td>0.000000</td>\n",
       "      <td>0.000000</td>\n",
       "      <td>0.000000</td>\n",
       "      <td>0.033318</td>\n",
       "      <td>...</td>\n",
       "      <td>0.295552</td>\n",
       "      <td>0.000000</td>\n",
       "      <td>0.351492</td>\n",
       "      <td>0.000000</td>\n",
       "      <td>0.029367</td>\n",
       "      <td>0.000000</td>\n",
       "      <td>0.169684</td>\n",
       "      <td>0.039265</td>\n",
       "      <td>0.000000</td>\n",
       "      <td>0.029330</td>\n",
       "    </tr>\n",
       "    <tr>\n",
       "      <th>9</th>\n",
       "      <td>0.000000</td>\n",
       "      <td>0.000000</td>\n",
       "      <td>0.000000</td>\n",
       "      <td>0.000000</td>\n",
       "      <td>0.220238</td>\n",
       "      <td>0.000000</td>\n",
       "      <td>0.000000</td>\n",
       "      <td>0.000000</td>\n",
       "      <td>0.000000</td>\n",
       "      <td>0.000000</td>\n",
       "      <td>...</td>\n",
       "      <td>0.000000</td>\n",
       "      <td>1.148834</td>\n",
       "      <td>0.207801</td>\n",
       "      <td>0.000000</td>\n",
       "      <td>0.000000</td>\n",
       "      <td>0.000000</td>\n",
       "      <td>0.000000</td>\n",
       "      <td>0.000000</td>\n",
       "      <td>0.000000</td>\n",
       "      <td>0.399485</td>\n",
       "    </tr>\n",
       "    <tr>\n",
       "      <th>10</th>\n",
       "      <td>0.249255</td>\n",
       "      <td>0.000000</td>\n",
       "      <td>0.000000</td>\n",
       "      <td>0.622710</td>\n",
       "      <td>0.000000</td>\n",
       "      <td>0.000000</td>\n",
       "      <td>0.000000</td>\n",
       "      <td>0.000000</td>\n",
       "      <td>0.000000</td>\n",
       "      <td>0.000000</td>\n",
       "      <td>...</td>\n",
       "      <td>0.000000</td>\n",
       "      <td>0.705865</td>\n",
       "      <td>0.000000</td>\n",
       "      <td>0.000000</td>\n",
       "      <td>0.000000</td>\n",
       "      <td>0.166201</td>\n",
       "      <td>0.000000</td>\n",
       "      <td>0.000000</td>\n",
       "      <td>0.000000</td>\n",
       "      <td>0.356436</td>\n",
       "    </tr>\n",
       "    <tr>\n",
       "      <th>11</th>\n",
       "      <td>0.000000</td>\n",
       "      <td>0.000000</td>\n",
       "      <td>0.266561</td>\n",
       "      <td>0.255807</td>\n",
       "      <td>0.000000</td>\n",
       "      <td>0.000000</td>\n",
       "      <td>0.000000</td>\n",
       "      <td>0.000000</td>\n",
       "      <td>0.000000</td>\n",
       "      <td>0.000000</td>\n",
       "      <td>...</td>\n",
       "      <td>0.000000</td>\n",
       "      <td>0.510678</td>\n",
       "      <td>0.223122</td>\n",
       "      <td>0.000000</td>\n",
       "      <td>0.000000</td>\n",
       "      <td>0.000000</td>\n",
       "      <td>0.000000</td>\n",
       "      <td>0.000000</td>\n",
       "      <td>0.000000</td>\n",
       "      <td>0.564841</td>\n",
       "    </tr>\n",
       "    <tr>\n",
       "      <th>12</th>\n",
       "      <td>1.668597</td>\n",
       "      <td>0.000000</td>\n",
       "      <td>0.000000</td>\n",
       "      <td>1.331701</td>\n",
       "      <td>0.000000</td>\n",
       "      <td>0.000000</td>\n",
       "      <td>0.000000</td>\n",
       "      <td>0.000000</td>\n",
       "      <td>0.000000</td>\n",
       "      <td>0.000000</td>\n",
       "      <td>...</td>\n",
       "      <td>0.000000</td>\n",
       "      <td>0.539808</td>\n",
       "      <td>0.000000</td>\n",
       "      <td>0.000000</td>\n",
       "      <td>0.000000</td>\n",
       "      <td>0.000000</td>\n",
       "      <td>0.000000</td>\n",
       "      <td>0.000000</td>\n",
       "      <td>0.000000</td>\n",
       "      <td>0.410104</td>\n",
       "    </tr>\n",
       "    <tr>\n",
       "      <th>13</th>\n",
       "      <td>0.000000</td>\n",
       "      <td>0.000000</td>\n",
       "      <td>0.000000</td>\n",
       "      <td>0.000000</td>\n",
       "      <td>0.351709</td>\n",
       "      <td>0.000000</td>\n",
       "      <td>0.326552</td>\n",
       "      <td>0.000000</td>\n",
       "      <td>0.000000</td>\n",
       "      <td>0.318837</td>\n",
       "      <td>...</td>\n",
       "      <td>0.000000</td>\n",
       "      <td>0.771654</td>\n",
       "      <td>0.000000</td>\n",
       "      <td>0.000000</td>\n",
       "      <td>0.326552</td>\n",
       "      <td>0.000000</td>\n",
       "      <td>0.000000</td>\n",
       "      <td>0.000000</td>\n",
       "      <td>0.000000</td>\n",
       "      <td>0.318837</td>\n",
       "    </tr>\n",
       "    <tr>\n",
       "      <th>14</th>\n",
       "      <td>0.000000</td>\n",
       "      <td>0.000000</td>\n",
       "      <td>0.000000</td>\n",
       "      <td>0.349287</td>\n",
       "      <td>0.000000</td>\n",
       "      <td>0.000000</td>\n",
       "      <td>0.000000</td>\n",
       "      <td>0.000000</td>\n",
       "      <td>0.000000</td>\n",
       "      <td>0.713735</td>\n",
       "      <td>...</td>\n",
       "      <td>0.000000</td>\n",
       "      <td>0.000000</td>\n",
       "      <td>0.000000</td>\n",
       "      <td>0.000000</td>\n",
       "      <td>0.000000</td>\n",
       "      <td>0.000000</td>\n",
       "      <td>0.000000</td>\n",
       "      <td>0.000000</td>\n",
       "      <td>0.000000</td>\n",
       "      <td>0.000000</td>\n",
       "    </tr>\n",
       "    <tr>\n",
       "      <th>15</th>\n",
       "      <td>0.000000</td>\n",
       "      <td>0.000000</td>\n",
       "      <td>0.000000</td>\n",
       "      <td>1.486492</td>\n",
       "      <td>0.000000</td>\n",
       "      <td>0.000000</td>\n",
       "      <td>0.000000</td>\n",
       "      <td>0.000000</td>\n",
       "      <td>0.000000</td>\n",
       "      <td>0.000000</td>\n",
       "      <td>...</td>\n",
       "      <td>0.000000</td>\n",
       "      <td>1.306603</td>\n",
       "      <td>0.000000</td>\n",
       "      <td>0.000000</td>\n",
       "      <td>0.000000</td>\n",
       "      <td>0.000000</td>\n",
       "      <td>0.000000</td>\n",
       "      <td>0.000000</td>\n",
       "      <td>0.000000</td>\n",
       "      <td>0.000000</td>\n",
       "    </tr>\n",
       "    <tr>\n",
       "      <th>16</th>\n",
       "      <td>0.000000</td>\n",
       "      <td>0.000000</td>\n",
       "      <td>0.000000</td>\n",
       "      <td>0.139588</td>\n",
       "      <td>0.000000</td>\n",
       "      <td>0.000000</td>\n",
       "      <td>0.285218</td>\n",
       "      <td>0.000000</td>\n",
       "      <td>0.000000</td>\n",
       "      <td>0.000000</td>\n",
       "      <td>...</td>\n",
       "      <td>0.000000</td>\n",
       "      <td>1.107205</td>\n",
       "      <td>0.000000</td>\n",
       "      <td>0.000000</td>\n",
       "      <td>0.477784</td>\n",
       "      <td>0.000000</td>\n",
       "      <td>0.000000</td>\n",
       "      <td>0.000000</td>\n",
       "      <td>0.000000</td>\n",
       "      <td>0.984850</td>\n",
       "    </tr>\n",
       "    <tr>\n",
       "      <th>17</th>\n",
       "      <td>0.903198</td>\n",
       "      <td>0.000000</td>\n",
       "      <td>0.646466</td>\n",
       "      <td>0.000000</td>\n",
       "      <td>0.000000</td>\n",
       "      <td>0.000000</td>\n",
       "      <td>0.000000</td>\n",
       "      <td>0.000000</td>\n",
       "      <td>0.000000</td>\n",
       "      <td>0.000000</td>\n",
       "      <td>...</td>\n",
       "      <td>0.000000</td>\n",
       "      <td>0.124188</td>\n",
       "      <td>0.347307</td>\n",
       "      <td>0.000000</td>\n",
       "      <td>0.000000</td>\n",
       "      <td>0.000000</td>\n",
       "      <td>0.000000</td>\n",
       "      <td>0.810363</td>\n",
       "      <td>0.000000</td>\n",
       "      <td>0.000000</td>\n",
       "    </tr>\n",
       "    <tr>\n",
       "      <th>18</th>\n",
       "      <td>0.000000</td>\n",
       "      <td>0.000000</td>\n",
       "      <td>0.000000</td>\n",
       "      <td>0.000000</td>\n",
       "      <td>0.000000</td>\n",
       "      <td>0.000000</td>\n",
       "      <td>0.000000</td>\n",
       "      <td>0.000000</td>\n",
       "      <td>0.000000</td>\n",
       "      <td>0.000000</td>\n",
       "      <td>...</td>\n",
       "      <td>0.000000</td>\n",
       "      <td>0.750950</td>\n",
       "      <td>0.000000</td>\n",
       "      <td>0.000000</td>\n",
       "      <td>0.000000</td>\n",
       "      <td>0.000000</td>\n",
       "      <td>0.000000</td>\n",
       "      <td>0.000000</td>\n",
       "      <td>0.000000</td>\n",
       "      <td>0.659256</td>\n",
       "    </tr>\n",
       "    <tr>\n",
       "      <th>19</th>\n",
       "      <td>0.000000</td>\n",
       "      <td>0.000000</td>\n",
       "      <td>0.000000</td>\n",
       "      <td>0.356537</td>\n",
       "      <td>0.000000</td>\n",
       "      <td>0.000000</td>\n",
       "      <td>0.000000</td>\n",
       "      <td>0.000000</td>\n",
       "      <td>0.000000</td>\n",
       "      <td>0.000000</td>\n",
       "      <td>...</td>\n",
       "      <td>0.000000</td>\n",
       "      <td>0.517448</td>\n",
       "      <td>0.000000</td>\n",
       "      <td>0.505247</td>\n",
       "      <td>0.000000</td>\n",
       "      <td>0.000000</td>\n",
       "      <td>0.000000</td>\n",
       "      <td>0.000000</td>\n",
       "      <td>0.000000</td>\n",
       "      <td>0.291436</td>\n",
       "    </tr>\n",
       "    <tr>\n",
       "      <th>20</th>\n",
       "      <td>0.000000</td>\n",
       "      <td>0.000000</td>\n",
       "      <td>0.000000</td>\n",
       "      <td>0.575057</td>\n",
       "      <td>0.000000</td>\n",
       "      <td>0.000000</td>\n",
       "      <td>0.000000</td>\n",
       "      <td>0.838483</td>\n",
       "      <td>0.000000</td>\n",
       "      <td>0.000000</td>\n",
       "      <td>...</td>\n",
       "      <td>0.000000</td>\n",
       "      <td>0.000000</td>\n",
       "      <td>0.000000</td>\n",
       "      <td>0.000000</td>\n",
       "      <td>0.000000</td>\n",
       "      <td>0.000000</td>\n",
       "      <td>0.000000</td>\n",
       "      <td>0.000000</td>\n",
       "      <td>0.000000</td>\n",
       "      <td>0.000000</td>\n",
       "    </tr>\n",
       "    <tr>\n",
       "      <th>21</th>\n",
       "      <td>0.000000</td>\n",
       "      <td>0.000000</td>\n",
       "      <td>0.000000</td>\n",
       "      <td>0.716777</td>\n",
       "      <td>0.000000</td>\n",
       "      <td>0.000000</td>\n",
       "      <td>0.000000</td>\n",
       "      <td>0.000000</td>\n",
       "      <td>0.000000</td>\n",
       "      <td>0.000000</td>\n",
       "      <td>...</td>\n",
       "      <td>0.000000</td>\n",
       "      <td>0.000000</td>\n",
       "      <td>0.000000</td>\n",
       "      <td>0.000000</td>\n",
       "      <td>0.000000</td>\n",
       "      <td>0.000000</td>\n",
       "      <td>0.000000</td>\n",
       "      <td>0.000000</td>\n",
       "      <td>0.000000</td>\n",
       "      <td>0.000000</td>\n",
       "    </tr>\n",
       "    <tr>\n",
       "      <th>22</th>\n",
       "      <td>0.000000</td>\n",
       "      <td>0.000000</td>\n",
       "      <td>1.093451</td>\n",
       "      <td>0.000000</td>\n",
       "      <td>0.000000</td>\n",
       "      <td>0.000000</td>\n",
       "      <td>0.000000</td>\n",
       "      <td>0.000000</td>\n",
       "      <td>0.000000</td>\n",
       "      <td>0.000000</td>\n",
       "      <td>...</td>\n",
       "      <td>0.000000</td>\n",
       "      <td>1.093451</td>\n",
       "      <td>0.000000</td>\n",
       "      <td>0.000000</td>\n",
       "      <td>0.000000</td>\n",
       "      <td>0.000000</td>\n",
       "      <td>0.000000</td>\n",
       "      <td>0.000000</td>\n",
       "      <td>0.000000</td>\n",
       "      <td>0.000000</td>\n",
       "    </tr>\n",
       "    <tr>\n",
       "      <th>23</th>\n",
       "      <td>0.648711</td>\n",
       "      <td>0.000000</td>\n",
       "      <td>0.000000</td>\n",
       "      <td>0.652385</td>\n",
       "      <td>0.000000</td>\n",
       "      <td>0.000000</td>\n",
       "      <td>0.000000</td>\n",
       "      <td>0.000000</td>\n",
       "      <td>0.000000</td>\n",
       "      <td>0.000000</td>\n",
       "      <td>...</td>\n",
       "      <td>0.000000</td>\n",
       "      <td>1.482187</td>\n",
       "      <td>0.000000</td>\n",
       "      <td>0.000000</td>\n",
       "      <td>0.000000</td>\n",
       "      <td>0.000000</td>\n",
       "      <td>0.000000</td>\n",
       "      <td>0.000000</td>\n",
       "      <td>0.000000</td>\n",
       "      <td>0.000000</td>\n",
       "    </tr>\n",
       "    <tr>\n",
       "      <th>24</th>\n",
       "      <td>0.000000</td>\n",
       "      <td>0.000000</td>\n",
       "      <td>0.000000</td>\n",
       "      <td>0.000000</td>\n",
       "      <td>0.000000</td>\n",
       "      <td>0.000000</td>\n",
       "      <td>0.000000</td>\n",
       "      <td>0.000000</td>\n",
       "      <td>0.000000</td>\n",
       "      <td>0.000000</td>\n",
       "      <td>...</td>\n",
       "      <td>0.000000</td>\n",
       "      <td>0.000000</td>\n",
       "      <td>0.000000</td>\n",
       "      <td>0.000000</td>\n",
       "      <td>1.320291</td>\n",
       "      <td>0.000000</td>\n",
       "      <td>0.000000</td>\n",
       "      <td>0.000000</td>\n",
       "      <td>0.000000</td>\n",
       "      <td>0.000000</td>\n",
       "    </tr>\n",
       "    <tr>\n",
       "      <th>25</th>\n",
       "      <td>0.000000</td>\n",
       "      <td>0.000000</td>\n",
       "      <td>0.000000</td>\n",
       "      <td>0.000000</td>\n",
       "      <td>0.000000</td>\n",
       "      <td>0.000000</td>\n",
       "      <td>0.000000</td>\n",
       "      <td>0.000000</td>\n",
       "      <td>0.000000</td>\n",
       "      <td>0.000000</td>\n",
       "      <td>...</td>\n",
       "      <td>0.000000</td>\n",
       "      <td>0.000000</td>\n",
       "      <td>0.000000</td>\n",
       "      <td>0.000000</td>\n",
       "      <td>0.000000</td>\n",
       "      <td>0.000000</td>\n",
       "      <td>0.000000</td>\n",
       "      <td>0.000000</td>\n",
       "      <td>0.000000</td>\n",
       "      <td>0.000000</td>\n",
       "    </tr>\n",
       "    <tr>\n",
       "      <th>26</th>\n",
       "      <td>1.751946</td>\n",
       "      <td>0.000000</td>\n",
       "      <td>0.000000</td>\n",
       "      <td>0.000000</td>\n",
       "      <td>0.000000</td>\n",
       "      <td>0.000000</td>\n",
       "      <td>0.000000</td>\n",
       "      <td>0.000000</td>\n",
       "      <td>0.000000</td>\n",
       "      <td>0.000000</td>\n",
       "      <td>...</td>\n",
       "      <td>0.000000</td>\n",
       "      <td>0.000000</td>\n",
       "      <td>1.801281</td>\n",
       "      <td>0.000000</td>\n",
       "      <td>0.000000</td>\n",
       "      <td>0.000000</td>\n",
       "      <td>0.000000</td>\n",
       "      <td>0.000000</td>\n",
       "      <td>0.000000</td>\n",
       "      <td>0.000000</td>\n",
       "    </tr>\n",
       "    <tr>\n",
       "      <th>27</th>\n",
       "      <td>1.314295</td>\n",
       "      <td>0.000000</td>\n",
       "      <td>0.000000</td>\n",
       "      <td>0.000000</td>\n",
       "      <td>0.000000</td>\n",
       "      <td>0.000000</td>\n",
       "      <td>0.000000</td>\n",
       "      <td>0.000000</td>\n",
       "      <td>0.000000</td>\n",
       "      <td>0.000000</td>\n",
       "      <td>...</td>\n",
       "      <td>0.000000</td>\n",
       "      <td>1.708094</td>\n",
       "      <td>0.000000</td>\n",
       "      <td>0.000000</td>\n",
       "      <td>0.000000</td>\n",
       "      <td>0.000000</td>\n",
       "      <td>0.000000</td>\n",
       "      <td>0.000000</td>\n",
       "      <td>0.000000</td>\n",
       "      <td>0.000000</td>\n",
       "    </tr>\n",
       "    <tr>\n",
       "      <th>28</th>\n",
       "      <td>0.000000</td>\n",
       "      <td>0.000000</td>\n",
       "      <td>1.540169</td>\n",
       "      <td>0.000000</td>\n",
       "      <td>0.000000</td>\n",
       "      <td>0.000000</td>\n",
       "      <td>0.000000</td>\n",
       "      <td>0.000000</td>\n",
       "      <td>0.000000</td>\n",
       "      <td>0.000000</td>\n",
       "      <td>...</td>\n",
       "      <td>0.000000</td>\n",
       "      <td>0.000000</td>\n",
       "      <td>0.000000</td>\n",
       "      <td>0.000000</td>\n",
       "      <td>0.000000</td>\n",
       "      <td>0.000000</td>\n",
       "      <td>0.000000</td>\n",
       "      <td>1.355471</td>\n",
       "      <td>0.000000</td>\n",
       "      <td>0.000000</td>\n",
       "    </tr>\n",
       "    <tr>\n",
       "      <th>29</th>\n",
       "      <td>0.000000</td>\n",
       "      <td>0.000000</td>\n",
       "      <td>0.000000</td>\n",
       "      <td>1.274043</td>\n",
       "      <td>0.000000</td>\n",
       "      <td>0.000000</td>\n",
       "      <td>0.000000</td>\n",
       "      <td>0.000000</td>\n",
       "      <td>0.000000</td>\n",
       "      <td>0.000000</td>\n",
       "      <td>...</td>\n",
       "      <td>0.000000</td>\n",
       "      <td>1.457253</td>\n",
       "      <td>0.000000</td>\n",
       "      <td>0.000000</td>\n",
       "      <td>0.000000</td>\n",
       "      <td>0.000000</td>\n",
       "      <td>0.000000</td>\n",
       "      <td>0.000000</td>\n",
       "      <td>0.000000</td>\n",
       "      <td>0.000000</td>\n",
       "    </tr>\n",
       "    <tr>\n",
       "      <th>30</th>\n",
       "      <td>0.000000</td>\n",
       "      <td>0.000000</td>\n",
       "      <td>0.000000</td>\n",
       "      <td>0.000000</td>\n",
       "      <td>0.000000</td>\n",
       "      <td>0.000000</td>\n",
       "      <td>0.000000</td>\n",
       "      <td>0.000000</td>\n",
       "      <td>0.000000</td>\n",
       "      <td>0.000000</td>\n",
       "      <td>...</td>\n",
       "      <td>0.000000</td>\n",
       "      <td>0.000000</td>\n",
       "      <td>1.444601</td>\n",
       "      <td>0.000000</td>\n",
       "      <td>0.000000</td>\n",
       "      <td>0.000000</td>\n",
       "      <td>0.000000</td>\n",
       "      <td>0.000000</td>\n",
       "      <td>0.000000</td>\n",
       "      <td>0.000000</td>\n",
       "    </tr>\n",
       "    <tr>\n",
       "      <th>31</th>\n",
       "      <td>0.000000</td>\n",
       "      <td>0.000000</td>\n",
       "      <td>0.000000</td>\n",
       "      <td>0.000000</td>\n",
       "      <td>0.000000</td>\n",
       "      <td>0.000000</td>\n",
       "      <td>0.000000</td>\n",
       "      <td>0.000000</td>\n",
       "      <td>0.000000</td>\n",
       "      <td>0.000000</td>\n",
       "      <td>...</td>\n",
       "      <td>0.000000</td>\n",
       "      <td>0.000000</td>\n",
       "      <td>0.000000</td>\n",
       "      <td>0.000000</td>\n",
       "      <td>0.000000</td>\n",
       "      <td>1.530491</td>\n",
       "      <td>0.000000</td>\n",
       "      <td>0.000000</td>\n",
       "      <td>0.000000</td>\n",
       "      <td>0.000000</td>\n",
       "    </tr>\n",
       "  </tbody>\n",
       "</table>\n",
       "<p>32 rows × 513 columns</p>\n",
       "</div>"
      ],
      "text/plain": [
       "            0         1         2         3         4         5         6    \\\n",
       "label                                                                         \n",
       "0      0.135754  0.028267  0.009959  0.426708  0.042581  0.001036  0.004559   \n",
       "1      0.489180  0.033235  0.000000  0.490612  0.023904  0.000000  0.012194   \n",
       "2      0.588229  0.000861  0.618621  0.017889  0.003126  0.001244  0.000346   \n",
       "3      0.139450  0.004412  0.000000  0.499353  0.041546  0.012170  0.082722   \n",
       "4      0.123274  0.000000  0.000000  1.316043  0.095965  0.000000  0.000000   \n",
       "5      0.055500  0.000000  0.000000  0.123679  0.000000  0.000000  0.549312   \n",
       "6      0.000000  0.000000  0.000000  0.000000  0.000000  0.000000  0.000000   \n",
       "7      0.406411  0.000000  0.797191  0.380706  0.000000  0.000000  0.000000   \n",
       "8      0.032313  0.032313  0.000000  0.555307  0.000000  0.000000  0.000000   \n",
       "9      0.000000  0.000000  0.000000  0.000000  0.220238  0.000000  0.000000   \n",
       "10     0.249255  0.000000  0.000000  0.622710  0.000000  0.000000  0.000000   \n",
       "11     0.000000  0.000000  0.266561  0.255807  0.000000  0.000000  0.000000   \n",
       "12     1.668597  0.000000  0.000000  1.331701  0.000000  0.000000  0.000000   \n",
       "13     0.000000  0.000000  0.000000  0.000000  0.351709  0.000000  0.326552   \n",
       "14     0.000000  0.000000  0.000000  0.349287  0.000000  0.000000  0.000000   \n",
       "15     0.000000  0.000000  0.000000  1.486492  0.000000  0.000000  0.000000   \n",
       "16     0.000000  0.000000  0.000000  0.139588  0.000000  0.000000  0.285218   \n",
       "17     0.903198  0.000000  0.646466  0.000000  0.000000  0.000000  0.000000   \n",
       "18     0.000000  0.000000  0.000000  0.000000  0.000000  0.000000  0.000000   \n",
       "19     0.000000  0.000000  0.000000  0.356537  0.000000  0.000000  0.000000   \n",
       "20     0.000000  0.000000  0.000000  0.575057  0.000000  0.000000  0.000000   \n",
       "21     0.000000  0.000000  0.000000  0.716777  0.000000  0.000000  0.000000   \n",
       "22     0.000000  0.000000  1.093451  0.000000  0.000000  0.000000  0.000000   \n",
       "23     0.648711  0.000000  0.000000  0.652385  0.000000  0.000000  0.000000   \n",
       "24     0.000000  0.000000  0.000000  0.000000  0.000000  0.000000  0.000000   \n",
       "25     0.000000  0.000000  0.000000  0.000000  0.000000  0.000000  0.000000   \n",
       "26     1.751946  0.000000  0.000000  0.000000  0.000000  0.000000  0.000000   \n",
       "27     1.314295  0.000000  0.000000  0.000000  0.000000  0.000000  0.000000   \n",
       "28     0.000000  0.000000  1.540169  0.000000  0.000000  0.000000  0.000000   \n",
       "29     0.000000  0.000000  0.000000  1.274043  0.000000  0.000000  0.000000   \n",
       "30     0.000000  0.000000  0.000000  0.000000  0.000000  0.000000  0.000000   \n",
       "31     0.000000  0.000000  0.000000  0.000000  0.000000  0.000000  0.000000   \n",
       "\n",
       "            7         8         9    ...       503       504       505  \\\n",
       "label                                ...                                 \n",
       "0      0.000870  0.001291  0.100306  ...  0.004852  0.292606  0.020639   \n",
       "1      0.000000  0.000000  0.057382  ...  0.000000  0.433077  0.000000   \n",
       "2      0.000000  0.000000  0.005329  ...  0.003186  0.007531  0.401008   \n",
       "3      0.000000  0.000000  0.025530  ...  0.023204  0.529162  0.024606   \n",
       "4      0.000000  0.000000  0.043296  ...  0.007408  0.008536  0.016217   \n",
       "5      0.000000  0.000000  0.000000  ...  0.000000  0.985437  0.000000   \n",
       "6      0.000000  0.000000  0.000000  ...  0.000000  1.090740  0.000000   \n",
       "7      0.000000  0.000000  0.000000  ...  0.000000  0.132341  0.170003   \n",
       "8      0.000000  0.000000  0.033318  ...  0.295552  0.000000  0.351492   \n",
       "9      0.000000  0.000000  0.000000  ...  0.000000  1.148834  0.207801   \n",
       "10     0.000000  0.000000  0.000000  ...  0.000000  0.705865  0.000000   \n",
       "11     0.000000  0.000000  0.000000  ...  0.000000  0.510678  0.223122   \n",
       "12     0.000000  0.000000  0.000000  ...  0.000000  0.539808  0.000000   \n",
       "13     0.000000  0.000000  0.318837  ...  0.000000  0.771654  0.000000   \n",
       "14     0.000000  0.000000  0.713735  ...  0.000000  0.000000  0.000000   \n",
       "15     0.000000  0.000000  0.000000  ...  0.000000  1.306603  0.000000   \n",
       "16     0.000000  0.000000  0.000000  ...  0.000000  1.107205  0.000000   \n",
       "17     0.000000  0.000000  0.000000  ...  0.000000  0.124188  0.347307   \n",
       "18     0.000000  0.000000  0.000000  ...  0.000000  0.750950  0.000000   \n",
       "19     0.000000  0.000000  0.000000  ...  0.000000  0.517448  0.000000   \n",
       "20     0.838483  0.000000  0.000000  ...  0.000000  0.000000  0.000000   \n",
       "21     0.000000  0.000000  0.000000  ...  0.000000  0.000000  0.000000   \n",
       "22     0.000000  0.000000  0.000000  ...  0.000000  1.093451  0.000000   \n",
       "23     0.000000  0.000000  0.000000  ...  0.000000  1.482187  0.000000   \n",
       "24     0.000000  0.000000  0.000000  ...  0.000000  0.000000  0.000000   \n",
       "25     0.000000  0.000000  0.000000  ...  0.000000  0.000000  0.000000   \n",
       "26     0.000000  0.000000  0.000000  ...  0.000000  0.000000  1.801281   \n",
       "27     0.000000  0.000000  0.000000  ...  0.000000  1.708094  0.000000   \n",
       "28     0.000000  0.000000  0.000000  ...  0.000000  0.000000  0.000000   \n",
       "29     0.000000  0.000000  0.000000  ...  0.000000  1.457253  0.000000   \n",
       "30     0.000000  0.000000  0.000000  ...  0.000000  0.000000  1.444601   \n",
       "31     0.000000  0.000000  0.000000  ...  0.000000  0.000000  0.000000   \n",
       "\n",
       "            506       507       508       509       510       511       512  \n",
       "label                                                                        \n",
       "0      0.010359  0.005390  0.065113  0.002167  0.006342  0.002712  0.164299  \n",
       "1      0.009185  0.060406  0.026918  0.000000  0.000000  0.000000  0.257677  \n",
       "2      0.000000  0.000459  0.017672  0.004523  0.378810  0.000481  0.002621  \n",
       "3      0.017439  0.117937  0.016880  0.013163  0.004123  0.003639  0.523658  \n",
       "4      0.201381  0.000000  0.000000  0.000000  0.008063  0.000000  0.047536  \n",
       "5      0.000000  0.200540  0.000000  0.000000  0.000000  0.000000  0.843401  \n",
       "6      0.000000  0.000000  0.000000  0.000000  0.000000  0.000000  0.000000  \n",
       "7      0.000000  0.000000  0.000000  0.000000  0.958817  0.000000  0.422315  \n",
       "8      0.000000  0.029367  0.000000  0.169684  0.039265  0.000000  0.029330  \n",
       "9      0.000000  0.000000  0.000000  0.000000  0.000000  0.000000  0.399485  \n",
       "10     0.000000  0.000000  0.166201  0.000000  0.000000  0.000000  0.356436  \n",
       "11     0.000000  0.000000  0.000000  0.000000  0.000000  0.000000  0.564841  \n",
       "12     0.000000  0.000000  0.000000  0.000000  0.000000  0.000000  0.410104  \n",
       "13     0.000000  0.326552  0.000000  0.000000  0.000000  0.000000  0.318837  \n",
       "14     0.000000  0.000000  0.000000  0.000000  0.000000  0.000000  0.000000  \n",
       "15     0.000000  0.000000  0.000000  0.000000  0.000000  0.000000  0.000000  \n",
       "16     0.000000  0.477784  0.000000  0.000000  0.000000  0.000000  0.984850  \n",
       "17     0.000000  0.000000  0.000000  0.000000  0.810363  0.000000  0.000000  \n",
       "18     0.000000  0.000000  0.000000  0.000000  0.000000  0.000000  0.659256  \n",
       "19     0.505247  0.000000  0.000000  0.000000  0.000000  0.000000  0.291436  \n",
       "20     0.000000  0.000000  0.000000  0.000000  0.000000  0.000000  0.000000  \n",
       "21     0.000000  0.000000  0.000000  0.000000  0.000000  0.000000  0.000000  \n",
       "22     0.000000  0.000000  0.000000  0.000000  0.000000  0.000000  0.000000  \n",
       "23     0.000000  0.000000  0.000000  0.000000  0.000000  0.000000  0.000000  \n",
       "24     0.000000  1.320291  0.000000  0.000000  0.000000  0.000000  0.000000  \n",
       "25     0.000000  0.000000  0.000000  0.000000  0.000000  0.000000  0.000000  \n",
       "26     0.000000  0.000000  0.000000  0.000000  0.000000  0.000000  0.000000  \n",
       "27     0.000000  0.000000  0.000000  0.000000  0.000000  0.000000  0.000000  \n",
       "28     0.000000  0.000000  0.000000  0.000000  1.355471  0.000000  0.000000  \n",
       "29     0.000000  0.000000  0.000000  0.000000  0.000000  0.000000  0.000000  \n",
       "30     0.000000  0.000000  0.000000  0.000000  0.000000  0.000000  0.000000  \n",
       "31     0.000000  0.000000  1.530491  0.000000  0.000000  0.000000  0.000000  \n",
       "\n",
       "[32 rows x 513 columns]"
      ]
     },
     "execution_count": 6,
     "metadata": {},
     "output_type": "execute_result"
    }
   ],
   "source": [
    "v = pd.DataFrame(ans_value)\n",
    "v['label'] = ans_label\n",
    "ann1  = v.groupby(\"label\").mean()\n",
    "ann1"
   ]
  },
  {
   "cell_type": "code",
   "execution_count": 7,
   "metadata": {},
   "outputs": [
    {
     "data": {
      "text/html": [
       "<div>\n",
       "<style scoped>\n",
       "    .dataframe tbody tr th:only-of-type {\n",
       "        vertical-align: middle;\n",
       "    }\n",
       "\n",
       "    .dataframe tbody tr th {\n",
       "        vertical-align: top;\n",
       "    }\n",
       "\n",
       "    .dataframe thead th {\n",
       "        text-align: right;\n",
       "    }\n",
       "</style>\n",
       "<table border=\"1\" class=\"dataframe\">\n",
       "  <thead>\n",
       "    <tr style=\"text-align: right;\">\n",
       "      <th></th>\n",
       "      <th>0</th>\n",
       "    </tr>\n",
       "    <tr>\n",
       "      <th>label</th>\n",
       "      <th></th>\n",
       "    </tr>\n",
       "  </thead>\n",
       "  <tbody>\n",
       "    <tr>\n",
       "      <th>0</th>\n",
       "      <td>CD4Tn</td>\n",
       "    </tr>\n",
       "    <tr>\n",
       "      <th>1</th>\n",
       "      <td>B</td>\n",
       "    </tr>\n",
       "    <tr>\n",
       "      <th>2</th>\n",
       "      <td>B</td>\n",
       "    </tr>\n",
       "    <tr>\n",
       "      <th>3</th>\n",
       "      <td>B</td>\n",
       "    </tr>\n",
       "    <tr>\n",
       "      <th>4</th>\n",
       "      <td>B</td>\n",
       "    </tr>\n",
       "    <tr>\n",
       "      <th>5</th>\n",
       "      <td>B</td>\n",
       "    </tr>\n",
       "    <tr>\n",
       "      <th>6</th>\n",
       "      <td>B</td>\n",
       "    </tr>\n",
       "    <tr>\n",
       "      <th>7</th>\n",
       "      <td>B</td>\n",
       "    </tr>\n",
       "    <tr>\n",
       "      <th>8</th>\n",
       "      <td>B</td>\n",
       "    </tr>\n",
       "    <tr>\n",
       "      <th>9</th>\n",
       "      <td>B</td>\n",
       "    </tr>\n",
       "    <tr>\n",
       "      <th>10</th>\n",
       "      <td>B</td>\n",
       "    </tr>\n",
       "    <tr>\n",
       "      <th>11</th>\n",
       "      <td>B</td>\n",
       "    </tr>\n",
       "    <tr>\n",
       "      <th>12</th>\n",
       "      <td>B</td>\n",
       "    </tr>\n",
       "    <tr>\n",
       "      <th>13</th>\n",
       "      <td>B</td>\n",
       "    </tr>\n",
       "    <tr>\n",
       "      <th>14</th>\n",
       "      <td>B</td>\n",
       "    </tr>\n",
       "    <tr>\n",
       "      <th>15</th>\n",
       "      <td>B</td>\n",
       "    </tr>\n",
       "    <tr>\n",
       "      <th>16</th>\n",
       "      <td>B</td>\n",
       "    </tr>\n",
       "    <tr>\n",
       "      <th>17</th>\n",
       "      <td>B</td>\n",
       "    </tr>\n",
       "    <tr>\n",
       "      <th>18</th>\n",
       "      <td>B</td>\n",
       "    </tr>\n",
       "    <tr>\n",
       "      <th>19</th>\n",
       "      <td>B</td>\n",
       "    </tr>\n",
       "    <tr>\n",
       "      <th>20</th>\n",
       "      <td>B</td>\n",
       "    </tr>\n",
       "    <tr>\n",
       "      <th>21</th>\n",
       "      <td>B</td>\n",
       "    </tr>\n",
       "    <tr>\n",
       "      <th>22</th>\n",
       "      <td>B</td>\n",
       "    </tr>\n",
       "    <tr>\n",
       "      <th>23</th>\n",
       "      <td>B</td>\n",
       "    </tr>\n",
       "    <tr>\n",
       "      <th>24</th>\n",
       "      <td>B</td>\n",
       "    </tr>\n",
       "    <tr>\n",
       "      <th>25</th>\n",
       "      <td>B</td>\n",
       "    </tr>\n",
       "    <tr>\n",
       "      <th>26</th>\n",
       "      <td>B</td>\n",
       "    </tr>\n",
       "    <tr>\n",
       "      <th>27</th>\n",
       "      <td>B</td>\n",
       "    </tr>\n",
       "    <tr>\n",
       "      <th>28</th>\n",
       "      <td>B</td>\n",
       "    </tr>\n",
       "    <tr>\n",
       "      <th>29</th>\n",
       "      <td>B</td>\n",
       "    </tr>\n",
       "    <tr>\n",
       "      <th>30</th>\n",
       "      <td>B</td>\n",
       "    </tr>\n",
       "    <tr>\n",
       "      <th>31</th>\n",
       "      <td>B</td>\n",
       "    </tr>\n",
       "  </tbody>\n",
       "</table>\n",
       "</div>"
      ],
      "text/plain": [
       "           0\n",
       "label       \n",
       "0      CD4Tn\n",
       "1          B\n",
       "2          B\n",
       "3          B\n",
       "4          B\n",
       "5          B\n",
       "6          B\n",
       "7          B\n",
       "8          B\n",
       "9          B\n",
       "10         B\n",
       "11         B\n",
       "12         B\n",
       "13         B\n",
       "14         B\n",
       "15         B\n",
       "16         B\n",
       "17         B\n",
       "18         B\n",
       "19         B\n",
       "20         B\n",
       "21         B\n",
       "22         B\n",
       "23         B\n",
       "24         B\n",
       "25         B\n",
       "26         B\n",
       "27         B\n",
       "28         B\n",
       "29         B\n",
       "30         B\n",
       "31         B"
      ]
     },
     "execution_count": 7,
     "metadata": {},
     "output_type": "execute_result"
    }
   ],
   "source": [
    "v1 = pd.DataFrame(true_label)\n",
    "v1['label'] = ans_label\n",
    "meta1 = v1.groupby(\"label\").max()\n",
    "meta1"
   ]
  },
  {
   "cell_type": "code",
   "execution_count": 57,
   "metadata": {},
   "outputs": [],
   "source": [
    "v1.to_csv(\"./datas/merge6/true_label.csv\");\n",
    "v.to_csv(\"./datas/merge6/ans_value.csv\")"
   ]
  },
  {
   "cell_type": "code",
   "execution_count": 11,
   "metadata": {},
   "outputs": [
    {
     "name": "stderr",
     "output_type": "stream",
     "text": [
      "/var/folders/bm/69jvgsdj3rxch558kx9yp9y00000gn/T/ipykernel_92487/185932274.py:1: FutureWarning: X.dtype being converted to np.float32 from float64. In the next version of anndata (0.9) conversion will not be automatic. Pass dtype explicitly to avoid this warning. Pass `AnnData(X, dtype=X.dtype, ...)` to get the future behavour.\n",
      "  adata = anndata.AnnData(ann1)\n",
      "/Users/dongjiajie/opt/anaconda3/lib/python3.8/site-packages/anndata/_core/anndata.py:121: ImplicitModificationWarning: Transforming to str index.\n",
      "  warnings.warn(\"Transforming to str index.\", ImplicitModificationWarning)\n"
     ]
    }
   ],
   "source": [
    "adata = anndata.AnnData(ann1)\n",
    "adata.raw = adata\n",
    "# same as adata = adata[:,adata.var['highly_variable']] but inplace\n",
    "sc.tl.pca(\n",
    "    adata,\n",
    "    n_comps=20\n",
    ")\n",
    "sc.pp.neighbors(adata,\n",
    "                n_neighbors=10,\n",
    "                n_pcs=20,\n",
    "                random_state=1234\n",
    "                )\n",
    "sc.tl.diffmap(adata,random_state=1234)\n",
    "sc.tl.umap(adata,random_state=1234)\n",
    "sc.tl.leiden(adata,random_state=1234)\n",
    "sc.tl.paga(adata, groups='leiden')"
   ]
  },
  {
   "cell_type": "code",
   "execution_count": 12,
   "metadata": {},
   "outputs": [],
   "source": [
    "adata.obs['celltype'] = meta1.values.tolist()"
   ]
  },
  {
   "cell_type": "code",
   "execution_count": 13,
   "metadata": {},
   "outputs": [
    {
     "data": {
      "text/html": [
       "<div>\n",
       "<style scoped>\n",
       "    .dataframe tbody tr th:only-of-type {\n",
       "        vertical-align: middle;\n",
       "    }\n",
       "\n",
       "    .dataframe tbody tr th {\n",
       "        vertical-align: top;\n",
       "    }\n",
       "\n",
       "    .dataframe thead th {\n",
       "        text-align: right;\n",
       "    }\n",
       "</style>\n",
       "<table border=\"1\" class=\"dataframe\">\n",
       "  <thead>\n",
       "    <tr style=\"text-align: right;\">\n",
       "      <th></th>\n",
       "      <th>leiden</th>\n",
       "      <th>celltype</th>\n",
       "    </tr>\n",
       "    <tr>\n",
       "      <th>label</th>\n",
       "      <th></th>\n",
       "      <th></th>\n",
       "    </tr>\n",
       "  </thead>\n",
       "  <tbody>\n",
       "    <tr>\n",
       "      <th>0</th>\n",
       "      <td>3</td>\n",
       "      <td>[CD4Tn]</td>\n",
       "    </tr>\n",
       "    <tr>\n",
       "      <th>1</th>\n",
       "      <td>0</td>\n",
       "      <td>[B]</td>\n",
       "    </tr>\n",
       "    <tr>\n",
       "      <th>2</th>\n",
       "      <td>2</td>\n",
       "      <td>[B]</td>\n",
       "    </tr>\n",
       "    <tr>\n",
       "      <th>3</th>\n",
       "      <td>3</td>\n",
       "      <td>[B]</td>\n",
       "    </tr>\n",
       "    <tr>\n",
       "      <th>4</th>\n",
       "      <td>3</td>\n",
       "      <td>[B]</td>\n",
       "    </tr>\n",
       "    <tr>\n",
       "      <th>5</th>\n",
       "      <td>1</td>\n",
       "      <td>[B]</td>\n",
       "    </tr>\n",
       "    <tr>\n",
       "      <th>6</th>\n",
       "      <td>0</td>\n",
       "      <td>[B]</td>\n",
       "    </tr>\n",
       "    <tr>\n",
       "      <th>7</th>\n",
       "      <td>2</td>\n",
       "      <td>[B]</td>\n",
       "    </tr>\n",
       "    <tr>\n",
       "      <th>8</th>\n",
       "      <td>2</td>\n",
       "      <td>[B]</td>\n",
       "    </tr>\n",
       "    <tr>\n",
       "      <th>9</th>\n",
       "      <td>1</td>\n",
       "      <td>[B]</td>\n",
       "    </tr>\n",
       "    <tr>\n",
       "      <th>10</th>\n",
       "      <td>0</td>\n",
       "      <td>[B]</td>\n",
       "    </tr>\n",
       "    <tr>\n",
       "      <th>11</th>\n",
       "      <td>1</td>\n",
       "      <td>[B]</td>\n",
       "    </tr>\n",
       "    <tr>\n",
       "      <th>12</th>\n",
       "      <td>0</td>\n",
       "      <td>[B]</td>\n",
       "    </tr>\n",
       "    <tr>\n",
       "      <th>13</th>\n",
       "      <td>1</td>\n",
       "      <td>[B]</td>\n",
       "    </tr>\n",
       "    <tr>\n",
       "      <th>14</th>\n",
       "      <td>3</td>\n",
       "      <td>[B]</td>\n",
       "    </tr>\n",
       "    <tr>\n",
       "      <th>15</th>\n",
       "      <td>0</td>\n",
       "      <td>[B]</td>\n",
       "    </tr>\n",
       "    <tr>\n",
       "      <th>16</th>\n",
       "      <td>1</td>\n",
       "      <td>[B]</td>\n",
       "    </tr>\n",
       "    <tr>\n",
       "      <th>17</th>\n",
       "      <td>2</td>\n",
       "      <td>[B]</td>\n",
       "    </tr>\n",
       "    <tr>\n",
       "      <th>18</th>\n",
       "      <td>1</td>\n",
       "      <td>[B]</td>\n",
       "    </tr>\n",
       "    <tr>\n",
       "      <th>19</th>\n",
       "      <td>3</td>\n",
       "      <td>[B]</td>\n",
       "    </tr>\n",
       "    <tr>\n",
       "      <th>20</th>\n",
       "      <td>3</td>\n",
       "      <td>[B]</td>\n",
       "    </tr>\n",
       "    <tr>\n",
       "      <th>21</th>\n",
       "      <td>3</td>\n",
       "      <td>[B]</td>\n",
       "    </tr>\n",
       "    <tr>\n",
       "      <th>22</th>\n",
       "      <td>2</td>\n",
       "      <td>[B]</td>\n",
       "    </tr>\n",
       "    <tr>\n",
       "      <th>23</th>\n",
       "      <td>0</td>\n",
       "      <td>[B]</td>\n",
       "    </tr>\n",
       "    <tr>\n",
       "      <th>24</th>\n",
       "      <td>0</td>\n",
       "      <td>[B]</td>\n",
       "    </tr>\n",
       "    <tr>\n",
       "      <th>25</th>\n",
       "      <td>0</td>\n",
       "      <td>[B]</td>\n",
       "    </tr>\n",
       "    <tr>\n",
       "      <th>26</th>\n",
       "      <td>2</td>\n",
       "      <td>[B]</td>\n",
       "    </tr>\n",
       "    <tr>\n",
       "      <th>27</th>\n",
       "      <td>1</td>\n",
       "      <td>[B]</td>\n",
       "    </tr>\n",
       "    <tr>\n",
       "      <th>28</th>\n",
       "      <td>2</td>\n",
       "      <td>[B]</td>\n",
       "    </tr>\n",
       "    <tr>\n",
       "      <th>29</th>\n",
       "      <td>1</td>\n",
       "      <td>[B]</td>\n",
       "    </tr>\n",
       "    <tr>\n",
       "      <th>30</th>\n",
       "      <td>2</td>\n",
       "      <td>[B]</td>\n",
       "    </tr>\n",
       "    <tr>\n",
       "      <th>31</th>\n",
       "      <td>0</td>\n",
       "      <td>[B]</td>\n",
       "    </tr>\n",
       "  </tbody>\n",
       "</table>\n",
       "</div>"
      ],
      "text/plain": [
       "      leiden celltype\n",
       "label                \n",
       "0          3  [CD4Tn]\n",
       "1          0      [B]\n",
       "2          2      [B]\n",
       "3          3      [B]\n",
       "4          3      [B]\n",
       "5          1      [B]\n",
       "6          0      [B]\n",
       "7          2      [B]\n",
       "8          2      [B]\n",
       "9          1      [B]\n",
       "10         0      [B]\n",
       "11         1      [B]\n",
       "12         0      [B]\n",
       "13         1      [B]\n",
       "14         3      [B]\n",
       "15         0      [B]\n",
       "16         1      [B]\n",
       "17         2      [B]\n",
       "18         1      [B]\n",
       "19         3      [B]\n",
       "20         3      [B]\n",
       "21         3      [B]\n",
       "22         2      [B]\n",
       "23         0      [B]\n",
       "24         0      [B]\n",
       "25         0      [B]\n",
       "26         2      [B]\n",
       "27         1      [B]\n",
       "28         2      [B]\n",
       "29         1      [B]\n",
       "30         2      [B]\n",
       "31         0      [B]"
      ]
     },
     "execution_count": 13,
     "metadata": {},
     "output_type": "execute_result"
    }
   ],
   "source": [
    "adata.obs"
   ]
  },
  {
   "cell_type": "code",
   "execution_count": 18,
   "metadata": {},
   "outputs": [
    {
     "data": {
      "text/plain": [
       "AnnData object with n_obs × n_vars = 32 × 513\n",
       "    obs: 'leiden', 'celltype'\n",
       "    uns: 'pca', 'neighbors', 'diffmap_evals', 'umap', 'leiden', 'paga', 'leiden_sizes', 'leiden_colors'\n",
       "    obsm: 'X_pca', 'X_diffmap', 'X_umap'\n",
       "    varm: 'PCs'\n",
       "    obsp: 'distances', 'connectivities'"
      ]
     },
     "execution_count": 18,
     "metadata": {},
     "output_type": "execute_result"
    }
   ],
   "source": [
    "adata"
   ]
  },
  {
   "cell_type": "code",
   "execution_count": 17,
   "metadata": {},
   "outputs": [
    {
     "data": {
      "image/png": "[encoded data removed]",
      "text/plain": [
       "<Figure size 640x480 with 1 Axes>"
      ]
     },
     "metadata": {},
     "output_type": "display_data"
    }
   ],
   "source": [
    "sc.pl.umap(adata, color=\"leiden\")"
   ]
  },
  {
   "cell_type": "code",
   "execution_count": 19,
   "metadata": {},
   "outputs": [],
   "source": [
    "import argparse\n",
    "import json\n",
    "import logging\n",
    "import os\n",
    "import math\n",
    "import numpy as np\n",
    "import torch\n",
    "import torch.utils.data as data\n",
    "from tqdm import tqdm\n",
    "\n",
    "import optim\n",
    "# from config import config_args\n",
    "from datasets.hc_dataset import HCDataset\n",
    "from datasets.loading import load_data\n",
    "from model.hyphc import HypHC\n",
    "from utils.metrics import dasgupta_cost\n",
    "from utils.training import add_flags_from_config, get_savedir\n",
    "\n",
    "import networkx as nx\n",
    "\n",
    "import matplotlib.pyplot as plt\n",
    "from mst import mst\n",
    "\n",
    "from utils.poincare import project,hyp_dist_djj\n",
    "from utils.lca import hyp_lca\n",
    "from utils.math import arctanh, tanh, arcosh\n",
    "\n",
    "from utils.visualization import plot_tree_from_leaves,plot_geodesic\n",
    "\n",
    "\n",
    "\n",
    "from utils.lca import hyp_lca\n",
    "\n",
    "def hyp_lca_numpy(x, y):\n",
    "    \"\"\"Computes the hyperbolic LCA in numpy.\"\"\"\n",
    "    x = torch.from_numpy(x).view((1, 2))\n",
    "    y = torch.from_numpy(y).view((1, 2))\n",
    "    lca = hyp_lca(x, y, return_coord=True)\n",
    "    return lca.view((2,)).numpy()\n",
    "def is_leaf(tree, node):\n",
    "    \"\"\"check if node is a leaf in tree.\"\"\"\n",
    "    return len(list(tree.neighbors(node))) == 0\n",
    "def complete_tree(tree, leaves_embeddings):\n",
    "    \"\"\"Get embeddings of internal nodes from leaves' embeddings using LCA construction.\"\"\"\n",
    "\n",
    "    def _complete_tree(embeddings, node):\n",
    "        children = list(tree.neighbors(node))\n",
    "        if len(children) == 2:\n",
    "            left_c, right_c = children\n",
    "            left_leaf = is_leaf(tree, left_c)\n",
    "            right_leaf = is_leaf(tree, right_c)\n",
    "            if left_leaf and right_leaf:\n",
    "                pass\n",
    "            elif left_leaf and not right_leaf:\n",
    "                embeddings = _complete_tree(embeddings, right_c)\n",
    "            elif right_leaf and not left_leaf:\n",
    "                embeddings = _complete_tree(embeddings, left_c)\n",
    "            else:\n",
    "                embeddings = _complete_tree(embeddings, right_c)\n",
    "                embeddings = _complete_tree(embeddings, left_c)\n",
    "            embeddings[node] = hyp_lca_numpy(embeddings[left_c], embeddings[right_c])\n",
    "        return embeddings\n",
    "\n",
    "    n = leaves_embeddings.shape[0]\n",
    "    tree_embeddings = np.zeros((2 * n - 1, 2))\n",
    "    tree_embeddings[:n, :] = leaves_embeddings\n",
    "    root = max(list(tree.nodes()))\n",
    "    tree_embeddings = _complete_tree(tree_embeddings, root)\n",
    "    return tree_embeddings\n",
    "def train(model,dataloader,optimizer,similarities,epoches):\n",
    "    best_cost = np.inf\n",
    "    best_model = None\n",
    "    counter = 0\n",
    "    for epoch in range(epoches):\n",
    "        model.train()\n",
    "    total_loss = 0.0\n",
    "    with tqdm(total=len(dataloader), unit='ex') as bar:\n",
    "        for step, (triple_ids, triple_similarities) in enumerate(dataloader):\n",
    "            # triple_ids = triple_ids.cuda()\n",
    "            # triple_similarities = triple_similarities.cuda()\n",
    "            loss = model.loss(triple_ids, triple_similarities)\n",
    "            optimizer.zero_grad()\n",
    "            loss.backward()\n",
    "            optimizer.step()\n",
    "            bar.update(1)\n",
    "            bar.set_postfix(loss=f'{loss.item():.6f}')\n",
    "            total_loss += loss\n",
    "    total_loss = total_loss.item() / (step + 1.0)\n",
    "    print(\"\\t Epoch {} | average train loss: {:.6f}\".format(epoch, total_loss))\n",
    "\n",
    "    # keep best embeddings\n",
    "    if (epoch + 1) % 1 == 0:\n",
    "        tree = model.decode_tree(fast_decoding=1)\n",
    "        cost = dasgupta_cost(tree, similarities)\n",
    "        logging.info(\"{}:\\t{:.4f}\".format(\"Dasgupta's cost\", cost))\n",
    "        if cost < best_cost:\n",
    "            counter = 0\n",
    "            best_cost = cost\n",
    "            best_model = model.state_dict()\n",
    "        else:\n",
    "            counter += 1\n",
    "            if counter == 20:\n",
    "#                 logging.info(\"Early stopping.\")\n",
    "                return\n",
    "\n",
    "    # anneal temperature\n",
    "    if (epoch + 1) % 30 == 0:\n",
    "        model.anneal_temperature(0.5)\n",
    "#         logging.info(\"Annealing temperature to: {}\".format(model.temperature))\n",
    "        for param_group in optimizer.param_groups:\n",
    "            param_group['lr'] *= 0.5\n",
    "            lr = param_group['lr']\n",
    "        print(\"Annealing learning rate to: {}\".format(lr))\n",
    "\n",
    "    print(\"Optimization finished.\")\n",
    "    if best_model is not None:\n",
    "        # load best model\n",
    "        model.load_state_dict(best_model)\n",
    "def dist(x,y):\n",
    "    return arcosh(1+ 2*( (x-y).norm(dim=-1, p=2, keepdim=True))/((1- y.norm(dim=-1, p=2, keepdim=True))*(1- x.norm(dim=-1, p=2, keepdim=True))));\n",
    "def plot_tree_from_leaves_djj_1(ax, tree, leaves_embeddings, labels, color_seed=1234):\n",
    "    \"\"\"Plots a tree on leaves embeddings using the LCA construction.\"\"\"\n",
    "    circle = plt.Circle((0, 0), 20.0, color='r', alpha=0.1)\n",
    "    ax.add_artist(circle)\n",
    "    n = leaves_embeddings.shape[0]\n",
    "    embeddings = complete_tree(tree, leaves_embeddings)\n",
    "    colors = get_colors(labels, color_seed)\n",
    "    ax.scatter(embeddings[:n, 0]*20, embeddings[:n, 1]*20, c=colors, s=50, alpha=0.6)\n",
    "    \n",
    "    for n1, n2 in tree.edges():\n",
    "        x1 = embeddings[n1]\n",
    "        x2 = embeddings[n2]\n",
    "        plot_geodesic(x1, x2, ax)\n",
    "    # ax.set_xlim(-1.05, 1.05)\n",
    "    # ax.set_ylim(-1.05, 1.05)\n",
    "    ax.axis(\"off\")\n",
    "    return ax\n",
    "def sl_np_mst_ij(xs, S):\n",
    "    xs = project(xs).detach().cpu()\n",
    "\n",
    "    xs0 = xs[None, :, :]\n",
    "    xs1 = xs[:, None, :]\n",
    "    sim_mat = S(xs0, xs1)  # (n, n)\n",
    "    similarities = sim_mat.numpy()\n",
    "    n = similarities.shape[0]\n",
    "    similarities=similarities.astype('double')\n",
    "    ij, _ = mst.mst(similarities, n)\n",
    "    return ij\n",
    "class  UnionFind:\n",
    "    \n",
    "    def __init__(self, n , pos , c):\n",
    "        self.n = n\n",
    "        self.pos = pos\n",
    "        self.c = c\n",
    "        self.parent = [i for i in range(n)]\n",
    "        self.rank = [0 for i in range(n)]\n",
    "        self.vis = [0 for i in range(2*n-1)]\n",
    "        self.vis2 = [0 for i in range(2*n-1)]\n",
    "        self.mer = [-1 for i in range(2*n-1)]\n",
    "        self._next_id = n\n",
    "        self._tree = [-1 for i in range(2*n-1)]\n",
    "\n",
    "        self._id = [i for i in range(n)]\n",
    "\n",
    "    def _find(self, i):\n",
    "        if self.parent[i] == i:\n",
    "            return i\n",
    "        else:\n",
    "            self.parent[i] = self._find(self.parent[i])\n",
    "            return self.parent[i]\n",
    "\n",
    "    def find(self, i):\n",
    "        if (i < 0) or (i > self.n):\n",
    "            raise ValueError(\"Out of bounds index.\")\n",
    "        return self._find(i)\n",
    "\n",
    "    def union(self,  i,  j, k=True):\n",
    "        root_i = self._find(i)\n",
    "        root_j = self._find(j)\n",
    "        if root_i == root_j:\n",
    "            return False\n",
    "        else:\n",
    "            \n",
    "            if self.rank[root_i] < self.rank[root_j]:\n",
    "                self.parent[root_i] = root_j\n",
    "                if(k):\n",
    "                    self._build(root_j, root_i)\n",
    "                \n",
    "            elif self.rank[root_i] > self.rank[root_j]:\n",
    "                self.parent[root_j] = root_i\n",
    "                if(k):\n",
    "                    self._build(root_i, root_j)\n",
    "                \n",
    "            else:\n",
    "                \n",
    "                self.parent[root_j] = root_i\n",
    "                self.rank[root_i] += 1\n",
    "                if(k):\n",
    "                    self._build(root_i, root_j)\n",
    "                \n",
    "            return True\n",
    "\n",
    "\n",
    "    def merge(self,ij):\n",
    "        for k in range(ij.shape[0]):\n",
    "            a=ij[k,0];\n",
    "            b=ij[k,1];\n",
    "            if(self.mer[a]!=-1):\n",
    "                a=self.mer[a];\n",
    "            if(self.mer[b]!=-1):\n",
    "                b=self.mer[b];\n",
    "            self.union(a, b)\n",
    "\n",
    "    def  _build(self, i, j):\n",
    "#         print(self._tree[0],\"----\")\n",
    "#         if(dist(self.pos[self._id[i]],self.pos[self._id[j]])<self.c):\n",
    "            \n",
    "            \n",
    "#             print(i,j,'-',self._id[i],self._id[j]);\n",
    "#             self.vis[self._id[i]]=1;\n",
    "#             self.vis[self._id[j]]=1;\n",
    "                \n",
    "#             t=np.array(self.pos).tolist()\n",
    "#             new = np.array(hyp_lca(self.pos[self._id[i]],self.pos[self._id[j]])).tolist()\n",
    "#             t.append(new);\n",
    "#             self.pos=torch.tensor(t)\n",
    "#             self.pos[self._id[i]] = torch.tensor(new);\n",
    "#             self.pos[self._id[j]] = torch.tensor(new);\n",
    "            \n",
    "#             self.search(self._id[i]);\n",
    "#             self.search(self._id[j]);\n",
    "\n",
    "#             self._tree[self._id[i]] = self._next_id\n",
    "#             self._tree[self._id[j]] = self._next_id\n",
    "#             self._id[i] = self._next_id\n",
    "#             self._next_id += 1\n",
    "            \n",
    "#         else:\n",
    "            \n",
    "#             t=np.array(self.pos).tolist()\n",
    "#             new = np.array(hyp_lca(self.pos[self._id[i]],self.pos[self._id[j]])).tolist()\n",
    "#             t.append(new);\n",
    "#             self.pos=torch.tensor(t)\n",
    "#             self._tree[self._id[i]] = self._next_id\n",
    "#             self._tree[self._id[j]] = self._next_id\n",
    "#             self._id[i] = self._next_id\n",
    "#             self._next_id += 1\n",
    "        self.vis2[i]=1;\n",
    "        self.vis2[j]=1;\n",
    "        \n",
    "        t=np.array(self.pos).tolist()\n",
    "        new = np.array(hyp_lca(self.pos[self._id[i]],self.pos[self._id[j]])).tolist()\n",
    "        t.append(new);\n",
    "        self.pos=torch.tensor(t)\n",
    "        \n",
    "        self._tree[self._id[i]] = self._next_id\n",
    "        self._tree[self._id[j]] = self._next_id\n",
    "        self._id[i] = self._next_id\n",
    "        self.check(i);\n",
    "        self._next_id += 1\n",
    "\n",
    "    def search(self,k):\n",
    "#         for i in range(len(self.parent)):\n",
    "#             if(self.parent[i]==k):\n",
    "#                 self.parent[i]=self._next_id;\n",
    "#         print(k==-1)\n",
    "\n",
    "        for i in range(len(self._tree)):\n",
    "            if(self.vis[i]):\n",
    "                continue;            \n",
    "            if(self._tree[i]==k):\n",
    "                # print(\"sear\")\n",
    "                self._tree[i]=self._next_id;  \n",
    "                \n",
    "        for i in range(len(self._id)):\n",
    "            if(self.vis[i]):\n",
    "                continue;\n",
    "            if(self._id[i]==k):\n",
    "                # print(\"Sear\")\n",
    "                self._id[i]=self._next_id;  \n",
    "                \n",
    "    def check(self,t):\n",
    "        minnum=math.inf\n",
    "        minns=None;\n",
    "        for i in range(self.n):\n",
    "            if(self.vis[i] or self.vis2[i]):\n",
    "                continue;\n",
    "            distance = dist(self.pos[i],self.pos[-1]);\n",
    "            if(distance<self.c and distance < minnum):\n",
    "                minnum = distance\n",
    "                minns = i;\n",
    "                \n",
    "#                 print(\"merge {} in {}\".format(i,t))\n",
    "#                 self.parent[i]=t;\n",
    "#                 self.vis[i]=1;\n",
    "#                 self.search(i);\n",
    "        if(minns != None):\n",
    "            # print(\"merge {} in {}\".format(minns,self._next_id))\n",
    "            self.vis[minns]=1;\n",
    "            self.rank[minns]=-1;\n",
    "            self.pos[minns] = self.pos[-1]\n",
    "#             self.search(minns);\n",
    "            self.mer[minns]=t;\n",
    "            self.mer[self._next_id] = minns;\n",
    "#             self.union(t,minns,False);\n",
    "        \n",
    "    def parent(self):\n",
    "        return [self.parent[i] for i in range(self.n)]\n",
    "\n",
    "    def tree(self):\n",
    "        return [self._tree[i] for i in range(len(self._tree))]\n",
    "def get_colors(y, color_seed=1234):\n",
    "    \"\"\"random color assignment for label classes.\"\"\"\n",
    "    np.random.seed(color_seed)\n",
    "    colors = {}\n",
    "    for k in np.unique(y):\n",
    "        r = np.random.random()\n",
    "        b = np.random.random()\n",
    "        g = np.random.random()\n",
    "        colors[k] = (r, g, b)\n",
    "    return [colors[k] for k in y]\n",
    "\n",
    "\n",
    "def get_Hyper_tree(data_path,start,end,lable,epoches,model_path=None,save_path='./',c=-1):\n",
    "    np.random.seed(1234)\n",
    "    torch.manual_seed(1234)\n",
    "    # x, y_true, similarities = load_data('../../../cityu/HypHC/data/4_8/4_8.data',start,end,lable)\n",
    "    x, y_true, similarities = load_data(data_path,start,end,lable)\n",
    "    print(\"{} length:{}\".format(data_path,len(y_true)));\n",
    "    dataset = HCDataset(x, y_true, similarities, num_samples=50000)\n",
    "    dataloader = data.DataLoader(dataset, batch_size=32, shuffle=True, num_workers=8, pin_memory=True)\n",
    "    if(model_path ==None):\n",
    "        model = HypHC(dataset.n_nodes, 2, 5e-2, 5e-2 ,0.999)\n",
    "        model.to(\"cpu\")\n",
    "        Optimizer = getattr(optim, 'RAdam')\n",
    "        optimizer = Optimizer(model.parameters(),0.0005)\n",
    "        train(model,dataloader,optimizer,similarities,epoches);\n",
    "        torch.save(model,save_path+'model.pth');\n",
    "    else:\n",
    "        params = torch.load((model_path), map_location=torch.device('cpu'))\n",
    "        model.load_state_dict(params, strict=False)\n",
    "    model.eval()\n",
    "    sim_fn = lambda x, y: torch.sum(x * y, dim=-1)\n",
    "    n=len(x);\n",
    "    d = model.normalize_embeddings(model.embeddings.weight.data)\n",
    "    d = project(d).detach().cpu()\n",
    "    ijs = sl_np_mst_ij(d,sim_fn)\n",
    "    uf = UnionFind(n,d,c)\n",
    "    uf.merge(ijs)\n",
    "    count=0\n",
    "\n",
    "    tree = nx.DiGraph()\n",
    "    for i, j in enumerate(uf.tree()[:-1]):\n",
    "        if(j!=-1):\n",
    "            tree.add_edge(j, i)\n",
    "            \n",
    "    fig = plt.figure(figsize=(15, 15))\n",
    "    ax = fig.add_subplot(111)\n",
    "    circle = plt.Circle((0, 0), 20.0, color='r', alpha=0.1)\n",
    "    ax.add_artist(circle)\n",
    "\n",
    "    n = len(d)\n",
    "    embeddings = np.array(uf.pos)\n",
    "    # for i in range(len(embeddings)):\n",
    "    #     if(np.isnan(embeddings[i][0]) or embeddings[i][0] + embeddings[i][1] == 0):\n",
    "    #         embeddings[i] = embeddings[i-1];\n",
    "    #     pass;\n",
    "    # print(embeddings)\n",
    "    where_are_NaNs = np.isnan(embeddings)\n",
    "    embeddings[where_are_NaNs] = 0\n",
    "    vis = uf.vis\n",
    "    # xlist=[]\n",
    "    # ylist=[]\n",
    "    # labels=[]\n",
    "\n",
    "    # for i in range(n):\n",
    "    #     if(uf.vis[i]!=1):\n",
    "    #         xlist.append(embeddings[i,0]*20);\n",
    "    #         ylist.append(embeddings[i,1]*20);\n",
    "    #         labels.append(y_true[i]);\n",
    "    # # colors = get_colors(labels, 1234)\n",
    "    colors = get_colors(y_true, 1234)\n",
    "\n",
    "    # ax.scatter(xlist, ylist, c=colors, s=50, alpha=0.6)\n",
    "\n",
    "    ax.scatter(embeddings[:n, 0]*20, embeddings[:n, 1]*20, c=colors, s=50, alpha=0.6)\n",
    "\n",
    "    for i in range(len(embeddings)):\n",
    "        if(i<n):\n",
    "            continue;\n",
    "        if(uf.mer[i]!=-1):\n",
    "            # print(i,'pass')\n",
    "            pass;\n",
    "        else:\n",
    "            ax.scatter(embeddings[i][0]*20,embeddings[i][1]*20,color='black',s=20,alpha=0.7)\n",
    "\n",
    "        \n",
    "\n",
    "    for n1, n2 in tree.edges():\n",
    "    #     if(uf.vis[n1]== 1 or uf.vis[n2]== 1 ):\n",
    "    # #         print(\"1\")\n",
    "    #         pass\n",
    "    #     else:\n",
    "    #         x1 = embeddings[n1]\n",
    "    #         x2 = embeddings[n2]\n",
    "    # #         if(n1>=n):\n",
    "    # #             if(uf.mer[n1]!=-1):\n",
    "    # #                 pass;\n",
    "    # #             else:\n",
    "    # #                 count+=1;\n",
    "    # #         if(n2>n):\n",
    "    # #             if(uf.mer[n1]!=-1):\n",
    "    # # # \n",
    "    # #                 pass;\n",
    "    # #             else:\n",
    "    # # #                 ax.scatter(x2[0]*20,x2[1]*20,color='black',s=20,alpha=0.7)\n",
    "    # #                 count+=1\n",
    "        \n",
    "        \n",
    "    #         plot_geodesic(x1, x2, ax)\n",
    "    # #         print(x1,x2,n1,n2)\n",
    "    # #         break\n",
    "    #         pass\n",
    "\n",
    "    #     ax.axis(\"off\")\n",
    "        x1 = embeddings[n1];\n",
    "        x2 = embeddings[n2];\n",
    "        plot_geodesic(x1,x2,ax)\n",
    "    fig.savefig(save_path+\"graph.png\");\n",
    "    np.save(save_path+\"dataxy.npy\",embeddings)\n",
    "    np.save(save_path+\"datalink.npy\",list(tree.edges()))\n",
    "    np.save(save_path+\"datamerge.npy\",uf.mer)"
   ]
  },
  {
   "cell_type": "code",
   "execution_count": 27,
   "metadata": {},
   "outputs": [],
   "source": [
    "def cccfg(\n",
    "        adata,\n",
    "        gene_list,\n",
    "        save_path=\"./\",\n",
    "    ):\n",
    "    groupby = adata.uns[\"capital\"][\"tree\"][\"annotation\"]\n",
    "    filtered_data = adata.raw.to_adata()[:]\n",
    "    filtered_data.to_df().to_csv(save_path+\"data_cell.csv\");\n",
    "    adata.obs.to_csv(save_path+\"data_type.csv\")\n",
    "    cluster_centroid_data = np.empty((0, filtered_data.n_vars))\n",
    "    clustername = filtered_data.obs[groupby].unique().tolist()\n",
    "\n",
    "    for i in clustername:\n",
    "        a_cluster_data = filtered_data[filtered_data.obs[groupby] == \"{}\".format(\n",
    "            i)].to_df()\n",
    "        a_cluster_median = a_cluster_data.mean(axis=0).values\n",
    "        cluster_centroid_data = np.vstack(\n",
    "            (cluster_centroid_data, a_cluster_median)\n",
    "        )\n",
    "    cluster_centroid = pd.DataFrame(\n",
    "        cluster_centroid_data,\n",
    "        index=clustername,\n",
    "        columns=filtered_data.var_names\n",
    "    ).sort_index()\n",
    "    cluster_centroid.to_csv(save_path+\"datas.data\",header=None);\n",
    "    cluster_centroid.to_csv(save_path+\"datas.csv\");\n",
    "\n",
    "    return cluster_centroid"
   ]
  },
  {
   "cell_type": "code",
   "execution_count": 21,
   "metadata": {},
   "outputs": [],
   "source": [
    "set_initial_condition(adata)\n"
   ]
  },
  {
   "cell_type": "code",
   "execution_count": 28,
   "metadata": {},
   "outputs": [
    {
     "data": {
      "text/html": [
       "<div>\n",
       "<style scoped>\n",
       "    .dataframe tbody tr th:only-of-type {\n",
       "        vertical-align: middle;\n",
       "    }\n",
       "\n",
       "    .dataframe tbody tr th {\n",
       "        vertical-align: top;\n",
       "    }\n",
       "\n",
       "    .dataframe thead th {\n",
       "        text-align: right;\n",
       "    }\n",
       "</style>\n",
       "<table border=\"1\" class=\"dataframe\">\n",
       "  <thead>\n",
       "    <tr style=\"text-align: right;\">\n",
       "      <th></th>\n",
       "      <th>0</th>\n",
       "      <th>1</th>\n",
       "      <th>2</th>\n",
       "      <th>3</th>\n",
       "      <th>4</th>\n",
       "      <th>5</th>\n",
       "      <th>6</th>\n",
       "      <th>7</th>\n",
       "      <th>8</th>\n",
       "      <th>9</th>\n",
       "      <th>...</th>\n",
       "      <th>503</th>\n",
       "      <th>504</th>\n",
       "      <th>505</th>\n",
       "      <th>506</th>\n",
       "      <th>507</th>\n",
       "      <th>508</th>\n",
       "      <th>509</th>\n",
       "      <th>510</th>\n",
       "      <th>511</th>\n",
       "      <th>512</th>\n",
       "    </tr>\n",
       "  </thead>\n",
       "  <tbody>\n",
       "    <tr>\n",
       "      <th>0</th>\n",
       "      <td>0.339527</td>\n",
       "      <td>0.003693</td>\n",
       "      <td>0.000000</td>\n",
       "      <td>0.509322</td>\n",
       "      <td>0.002656</td>\n",
       "      <td>0.000000</td>\n",
       "      <td>0.001355</td>\n",
       "      <td>0.000000</td>\n",
       "      <td>0.000000</td>\n",
       "      <td>0.006376</td>\n",
       "      <td>...</td>\n",
       "      <td>0.000000</td>\n",
       "      <td>0.617586</td>\n",
       "      <td>0.000000</td>\n",
       "      <td>0.001021</td>\n",
       "      <td>0.153411</td>\n",
       "      <td>0.191512</td>\n",
       "      <td>0.000000</td>\n",
       "      <td>0.000000</td>\n",
       "      <td>0.000000</td>\n",
       "      <td>0.113802</td>\n",
       "    </tr>\n",
       "    <tr>\n",
       "      <th>1</th>\n",
       "      <td>0.171224</td>\n",
       "      <td>0.000000</td>\n",
       "      <td>0.033320</td>\n",
       "      <td>0.224140</td>\n",
       "      <td>0.071493</td>\n",
       "      <td>0.000000</td>\n",
       "      <td>0.145135</td>\n",
       "      <td>0.000000</td>\n",
       "      <td>0.000000</td>\n",
       "      <td>0.039855</td>\n",
       "      <td>...</td>\n",
       "      <td>0.000000</td>\n",
       "      <td>1.055013</td>\n",
       "      <td>0.053865</td>\n",
       "      <td>0.000000</td>\n",
       "      <td>0.125609</td>\n",
       "      <td>0.000000</td>\n",
       "      <td>0.000000</td>\n",
       "      <td>0.000000</td>\n",
       "      <td>0.000000</td>\n",
       "      <td>0.471334</td>\n",
       "    </tr>\n",
       "    <tr>\n",
       "      <th>2</th>\n",
       "      <td>0.460262</td>\n",
       "      <td>0.004147</td>\n",
       "      <td>0.586987</td>\n",
       "      <td>0.119238</td>\n",
       "      <td>0.000391</td>\n",
       "      <td>0.000156</td>\n",
       "      <td>0.000043</td>\n",
       "      <td>0.000000</td>\n",
       "      <td>0.000000</td>\n",
       "      <td>0.004831</td>\n",
       "      <td>...</td>\n",
       "      <td>0.037342</td>\n",
       "      <td>0.169689</td>\n",
       "      <td>0.564461</td>\n",
       "      <td>0.000000</td>\n",
       "      <td>0.003728</td>\n",
       "      <td>0.002209</td>\n",
       "      <td>0.021776</td>\n",
       "      <td>0.442841</td>\n",
       "      <td>0.000060</td>\n",
       "      <td>0.056783</td>\n",
       "    </tr>\n",
       "    <tr>\n",
       "      <th>3</th>\n",
       "      <td>0.056925</td>\n",
       "      <td>0.004668</td>\n",
       "      <td>0.001423</td>\n",
       "      <td>0.605681</td>\n",
       "      <td>0.025727</td>\n",
       "      <td>0.001887</td>\n",
       "      <td>0.012469</td>\n",
       "      <td>0.119908</td>\n",
       "      <td>0.000184</td>\n",
       "      <td>0.126124</td>\n",
       "      <td>...</td>\n",
       "      <td>0.005066</td>\n",
       "      <td>0.192536</td>\n",
       "      <td>0.008780</td>\n",
       "      <td>0.104918</td>\n",
       "      <td>0.017618</td>\n",
       "      <td>0.011713</td>\n",
       "      <td>0.002190</td>\n",
       "      <td>0.002647</td>\n",
       "      <td>0.000907</td>\n",
       "      <td>0.146704</td>\n",
       "    </tr>\n",
       "  </tbody>\n",
       "</table>\n",
       "<p>4 rows × 513 columns</p>\n",
       "</div>"
      ],
      "text/plain": [
       "        0         1         2         3         4         5         6    \\\n",
       "0  0.339527  0.003693  0.000000  0.509322  0.002656  0.000000  0.001355   \n",
       "1  0.171224  0.000000  0.033320  0.224140  0.071493  0.000000  0.145135   \n",
       "2  0.460262  0.004147  0.586987  0.119238  0.000391  0.000156  0.000043   \n",
       "3  0.056925  0.004668  0.001423  0.605681  0.025727  0.001887  0.012469   \n",
       "\n",
       "        7         8         9    ...       503       504       505       506  \\\n",
       "0  0.000000  0.000000  0.006376  ...  0.000000  0.617586  0.000000  0.001021   \n",
       "1  0.000000  0.000000  0.039855  ...  0.000000  1.055013  0.053865  0.000000   \n",
       "2  0.000000  0.000000  0.004831  ...  0.037342  0.169689  0.564461  0.000000   \n",
       "3  0.119908  0.000184  0.126124  ...  0.005066  0.192536  0.008780  0.104918   \n",
       "\n",
       "        507       508       509       510       511       512  \n",
       "0  0.153411  0.191512  0.000000  0.000000  0.000000  0.113802  \n",
       "1  0.125609  0.000000  0.000000  0.000000  0.000000  0.471334  \n",
       "2  0.003728  0.002209  0.021776  0.442841  0.000060  0.056783  \n",
       "3  0.017618  0.011713  0.002190  0.002647  0.000907  0.146704  \n",
       "\n",
       "[4 rows x 513 columns]"
      ]
     },
     "execution_count": 28,
     "metadata": {},
     "output_type": "execute_result"
    }
   ],
   "source": [
    "cccfg(adata,'','./datas/score/')\n"
   ]
  },
  {
   "cell_type": "code",
   "execution_count": 30,
   "metadata": {},
   "outputs": [
    {
     "name": "stdout",
     "output_type": "stream",
     "text": [
      "./datas/score/datas.data length:4\n",
      "Generating all pairs superset\n"
     ]
    },
    {
     "name": "stderr",
     "output_type": "stream",
     "text": [
      "100%|██████████| 1563/1563 [01:05<00:00, 23.99ex/s, loss=1.479920] "
     ]
    },
    {
     "name": "stdout",
     "output_type": "stream",
     "text": [
      "\t Epoch 9 | average train loss: 1.531212\n",
      "Optimization finished.\n"
     ]
    },
    {
     "name": "stderr",
     "output_type": "stream",
     "text": [
      "\n",
      "/var/folders/bm/69jvgsdj3rxch558kx9yp9y00000gn/T/ipykernel_92487/836080252.py:147: DeprecationWarning: `np.int` is a deprecated alias for the builtin `int`. To silence this warning, use `int` by itself. Doing this will not modify any behavior and is safe. When replacing `np.int`, you may wish to use e.g. `np.int64` or `np.int32` to specify the precision. If you wish to review your current use, check the release note link for additional information.\n",
      "Deprecated in NumPy 1.20; for more details and guidance: https://numpy.org/devdocs/release/1.20.0-notes.html#deprecations\n",
      "  ij, _ = mst.mst(similarities, n)\n"
     ]
    }
   ],
   "source": [
    "x, y_true, similarities = load_data('./datas/score/datas.data',1,514,0)\n",
    "data_path = './datas/score/datas.data'\n",
    "start = 1\n",
    "end =514\n",
    "lable = 0\n",
    "model_path = None;\n",
    "save_path = './datas/score/'\n",
    "epoches=10\n",
    "c=-1\n",
    "np.random.seed(1234)\n",
    "torch.manual_seed(1234)\n",
    "# x, y_true, similarities = load_data('../../../cityu/HypHC/data/4_8/4_8.data',start,end,lable)\n",
    "x, y_true, similarities = load_data(data_path,start,end,lable)\n",
    "print(\"{} length:{}\".format(data_path,len(y_true)));\n",
    "dataset = HCDataset(x, y_true, similarities, num_samples=50000)\n",
    "dataloader = data.DataLoader(dataset, batch_size=32, shuffle=True, num_workers=8, pin_memory=True)\n",
    "if(model_path ==None):\n",
    "    model = HypHC(dataset.n_nodes, 2, 5e-2, 5e-2 ,0.999)\n",
    "    model.to(\"cpu\")\n",
    "    Optimizer = getattr(optim, 'RAdam')\n",
    "    optimizer = Optimizer(model.parameters(),0.0005)\n",
    "    train(model,dataloader,optimizer,similarities,epoches);\n",
    "    torch.save(model,save_path+'model.pth');\n",
    "else:\n",
    "    params = torch.load((model_path), map_location=torch.device('cpu'))\n",
    "    model.load_state_dict(params, strict=False)\n",
    "model.eval()\n",
    "sim_fn = lambda x, y: torch.sum(x * y, dim=-1)\n",
    "n=len(x);\n",
    "d = model.normalize_embeddings(model.embeddings.weight.data)\n",
    "d = project(d).detach().cpu()\n",
    "ijs = sl_np_mst_ij(d,sim_fn)\n",
    "uf = UnionFind(n,d,c)\n",
    "uf.merge(ijs)\n",
    "count=0\n"
   ]
  },
  {
   "cell_type": "code",
   "execution_count": 31,
   "metadata": {},
   "outputs": [
    {
     "data": {
      "image/png": "[encoded data removed]",
      "text/plain": [
       "<Figure size 1500x1500 with 1 Axes>"
      ]
     },
     "metadata": {},
     "output_type": "display_data"
    }
   ],
   "source": [
    "tree = nx.DiGraph()\n",
    "for i, j in enumerate(uf.tree()[:-1]):\n",
    "    if(j!=-1):\n",
    "        tree.add_edge(j, i)\n",
    "        \n",
    "fig = plt.figure(figsize=(15, 15))\n",
    "ax = fig.add_subplot(111)\n",
    "circle = plt.Circle((0, 0), 20.0, color='r', alpha=0.1)\n",
    "ax.add_artist(circle)\n",
    "\n",
    "n = len(d)\n",
    "embeddings = np.array(uf.pos)\n",
    "# for i in range(len(embeddings)):\n",
    "#     if(np.isnan(embeddings[i][0]) or embeddings[i][0] + embeddings[i][1] == 0):\n",
    "#         embeddings[i] = embeddings[i-1];\n",
    "#     pass;\n",
    "# print(embeddings)\n",
    "where_are_NaNs = np.isnan(embeddings)\n",
    "embeddings[where_are_NaNs] = 0\n",
    "vis = uf.vis\n",
    "# xlist=[]\n",
    "# ylist=[]\n",
    "# labels=[]\n",
    "\n",
    "# for i in range(n):\n",
    "#     if(uf.vis[i]!=1):\n",
    "#         xlist.append(embeddings[i,0]*20);\n",
    "#         ylist.append(embeddings[i,1]*20);\n",
    "#         labels.append(y_true[i]);\n",
    "# # colors = get_colors(labels, 1234)\n",
    "colors = get_colors(y_true, 1234)\n",
    "\n",
    "# ax.scatter(xlist, ylist, c=colors, s=50, alpha=0.6)\n",
    "\n",
    "ax.scatter(embeddings[:n, 0]*20, embeddings[:n, 1]*20, c=colors, s=50, alpha=0.6)\n",
    "\n",
    "for i in range(len(embeddings)):\n",
    "    if(i<n):\n",
    "        continue;\n",
    "    if(uf.mer[i]!=-1):\n",
    "        # print(i,'pass')\n",
    "        pass;\n",
    "    else:\n",
    "        ax.scatter(embeddings[i][0]*20,embeddings[i][1]*20,color='black',s=20,alpha=0.7)\n",
    "\n",
    "    \n",
    "\n",
    "for n1, n2 in tree.edges():\n",
    "#     if(uf.vis[n1]== 1 or uf.vis[n2]== 1 ):\n",
    "# #         print(\"1\")\n",
    "#         pass\n",
    "#     else:\n",
    "#         x1 = embeddings[n1]\n",
    "#         x2 = embeddings[n2]\n",
    "# #         if(n1>=n):\n",
    "# #             if(uf.mer[n1]!=-1):\n",
    "# #                 pass;\n",
    "# #             else:\n",
    "# #                 count+=1;\n",
    "# #         if(n2>n):\n",
    "# #             if(uf.mer[n1]!=-1):\n",
    "# # # \n",
    "# #                 pass;\n",
    "# #             else:\n",
    "# # #                 ax.scatter(x2[0]*20,x2[1]*20,color='black',s=20,alpha=0.7)\n",
    "# #                 count+=1\n",
    "    \n",
    "    \n",
    "#         plot_geodesic(x1, x2, ax)\n",
    "# #         print(x1,x2,n1,n2)\n",
    "# #         break\n",
    "#         pass\n",
    "\n",
    "#     ax.axis(\"off\")\n",
    "    x1 = embeddings[n1];\n",
    "    x2 = embeddings[n2];\n",
    "    plot_geodesic(x1,x2,ax)"
   ]
  },
  {
   "cell_type": "code",
   "execution_count": 32,
   "metadata": {},
   "outputs": [],
   "source": [
    "from alignment import node\n",
    "from alignment import show_tree\n",
    "embeddings = np.array(uf.pos)\n"
   ]
  },
  {
   "cell_type": "code",
   "execution_count": 33,
   "metadata": {},
   "outputs": [],
   "source": [
    "nodes1 = [node(name=str(i),son=[]) for i in range(len(uf.tree()))]\n",
    "for i,j in enumerate(uf.tree()):\n",
    "    if(j!=-1):\n",
    "        nodes1[j].son.append(nodes1[i])\n",
    "    nodes1[i].value=embeddings[i];\n",
    "    nodes1[i].subson=0\n",
    "    # if(i==49):\n",
    "    #     break\n"
   ]
  },
  {
   "cell_type": "code",
   "execution_count": 40,
   "metadata": {},
   "outputs": [],
   "source": [
    "def search_tree(now,c,merge_list):\n",
    "    \n",
    "    if(len(now.son) != 2):\n",
    "        return now;\n",
    "    lson = search_tree(now.son[0],c,merge_list);\n",
    "    now.son[0] = lson;\n",
    "    rson = search_tree(now.son[1],c,merge_list);\n",
    "    now.son[1] = rson\n",
    "    # lson = now.son[0]\n",
    "    # rson = now.son[1]\n",
    "    if(np.linalg.norm(lson.value-rson.value)<=c):\n",
    "        if(len(lson.son)>1 and len(rson.son)>1):\n",
    "            pass\n",
    "        elif(len(lson.son)>1):\n",
    "            merge_list.append((rson.name,lson.name))\n",
    "            print(rson.name,lson.name)\n",
    "            now = rson;\n",
    "            now.son.append(lson);\n",
    "        else:\n",
    "            merge_list.append((rson.name,lson.name))\n",
    "            print(rson.name,lson.name)\n",
    "            now = lson;\n",
    "            now.son.append(rson)\n",
    "    # exit(0)\n",
    "    return now;\n",
    "            "
   ]
  },
  {
   "cell_type": "code",
   "execution_count": 41,
   "metadata": {},
   "outputs": [
    {
     "data": {
      "application/vnd.plotly.v1+json": {
       "config": {
        "plotlyServerURL": "https://plot.ly"
       },
       "data": [
        {
         "hoverinfo": "text",
         "marker": {
          "color": [
           0.0038858295883983374,
           0.17212627828121185,
           0.17098428308963776,
           0.17212626338005066,
           0.17182426154613495,
           0.17212626338005066,
           0.17212626338005066
          ],
          "colorscale": [
           [
            0,
            "rgb(253, 224, 197)"
           ],
           [
            0.16666666666666666,
            "rgb(250, 203, 166)"
           ],
           [
            0.3333333333333333,
            "rgb(248, 181, 139)"
           ],
           [
            0.5,
            "rgb(245, 158, 114)"
           ],
           [
            0.6666666666666666,
            "rgb(242, 133, 93)"
           ],
           [
            0.8333333333333334,
            "rgb(239, 106, 76)"
           ],
           [
            1,
            "rgb(235, 74, 64)"
           ]
          ],
          "showscale": true,
          "size": 50,
          "symbol": "circle-dot"
         },
         "mode": "markers+text",
         "opacity": 0.8,
         "text": [
          "6",
          "2",
          "5",
          "3",
          "4",
          "0",
          "1"
         ],
         "textfont": {
          "color": "#000000",
          "family": "sans serif",
          "size": 18
         },
         "type": "scatter",
         "x": [
          5.5,
          3.25,
          7.75,
          6.625,
          8.875,
          8.3125,
          9.4375
         ],
         "y": [
          5,
          3.5,
          3.5,
          2,
          2,
          0.5,
          0.5
         ]
        }
       ],
       "layout": {
        "height": 500,
        "shapes": [
         {
          "layer": "below",
          "line": {
           "color": "#333",
           "width": 4
          },
          "type": "line",
          "x0": 5.5,
          "x1": 5.5,
          "y0": 5,
          "y1": 5
         },
         {
          "layer": "below",
          "line": {
           "color": "#333",
           "width": 4
          },
          "type": "line",
          "x0": 5.5,
          "x1": 3.25,
          "y0": 5,
          "y1": 3.5
         },
         {
          "layer": "below",
          "line": {
           "color": "#333",
           "width": 4
          },
          "type": "line",
          "x0": 5.5,
          "x1": 7.75,
          "y0": 5,
          "y1": 3.5
         },
         {
          "layer": "below",
          "line": {
           "color": "#333",
           "width": 4
          },
          "type": "line",
          "x0": 7.75,
          "x1": 6.625,
          "y0": 3.5,
          "y1": 2
         },
         {
          "layer": "below",
          "line": {
           "color": "#333",
           "width": 4
          },
          "type": "line",
          "x0": 7.75,
          "x1": 8.875,
          "y0": 3.5,
          "y1": 2
         },
         {
          "layer": "below",
          "line": {
           "color": "#333",
           "width": 4
          },
          "type": "line",
          "x0": 8.875,
          "x1": 8.3125,
          "y0": 2,
          "y1": 0.5
         },
         {
          "layer": "below",
          "line": {
           "color": "#333",
           "width": 4
          },
          "type": "line",
          "x0": 8.875,
          "x1": 9.4375,
          "y0": 2,
          "y1": 0.5
         }
        ],
        "template": {
         "data": {
          "bar": [
           {
            "error_x": {
             "color": "#2a3f5f"
            },
            "error_y": {
             "color": "#2a3f5f"
            },
            "marker": {
             "line": {
              "color": "#E5ECF6",
              "width": 0.5
             },
             "pattern": {
              "fillmode": "overlay",
              "size": 10,
              "solidity": 0.2
             }
            },
            "type": "bar"
           }
          ],
          "barpolar": [
           {
            "marker": {
             "line": {
              "color": "#E5ECF6",
              "width": 0.5
             },
             "pattern": {
              "fillmode": "overlay",
              "size": 10,
              "solidity": 0.2
             }
            },
            "type": "barpolar"
           }
          ],
          "carpet": [
           {
            "aaxis": {
             "endlinecolor": "#2a3f5f",
             "gridcolor": "white",
             "linecolor": "white",
             "minorgridcolor": "white",
             "startlinecolor": "#2a3f5f"
            },
            "baxis": {
             "endlinecolor": "#2a3f5f",
             "gridcolor": "white",
             "linecolor": "white",
             "minorgridcolor": "white",
             "startlinecolor": "#2a3f5f"
            },
            "type": "carpet"
           }
          ],
          "choropleth": [
           {
            "colorbar": {
             "outlinewidth": 0,
             "ticks": ""
            },
            "type": "choropleth"
           }
          ],
          "contour": [
           {
            "colorbar": {
             "outlinewidth": 0,
             "ticks": ""
            },
            "colorscale": [
             [
              0,
              "#0d0887"
             ],
             [
              0.1111111111111111,
              "#46039f"
             ],
             [
              0.2222222222222222,
              "#7201a8"
             ],
             [
              0.3333333333333333,
              "#9c179e"
             ],
             [
              0.4444444444444444,
              "#bd3786"
             ],
             [
              0.5555555555555556,
              "#d8576b"
             ],
             [
              0.6666666666666666,
              "#ed7953"
             ],
             [
              0.7777777777777778,
              "#fb9f3a"
             ],
             [
              0.8888888888888888,
              "#fdca26"
             ],
             [
              1,
              "#f0f921"
             ]
            ],
            "type": "contour"
           }
          ],
          "contourcarpet": [
           {
            "colorbar": {
             "outlinewidth": 0,
             "ticks": ""
            },
            "type": "contourcarpet"
           }
          ],
          "heatmap": [
           {
            "colorbar": {
             "outlinewidth": 0,
             "ticks": ""
            },
            "colorscale": [
             [
              0,
              "#0d0887"
             ],
             [
              0.1111111111111111,
              "#46039f"
             ],
             [
              0.2222222222222222,
              "#7201a8"
             ],
             [
              0.3333333333333333,
              "#9c179e"
             ],
             [
              0.4444444444444444,
              "#bd3786"
             ],
             [
              0.5555555555555556,
              "#d8576b"
             ],
             [
              0.6666666666666666,
              "#ed7953"
             ],
             [
              0.7777777777777778,
              "#fb9f3a"
             ],
             [
              0.8888888888888888,
              "#fdca26"
             ],
             [
              1,
              "#f0f921"
             ]
            ],
            "type": "heatmap"
           }
          ],
          "heatmapgl": [
           {
            "colorbar": {
             "outlinewidth": 0,
             "ticks": ""
            },
            "colorscale": [
             [
              0,
              "#0d0887"
             ],
             [
              0.1111111111111111,
              "#46039f"
             ],
             [
              0.2222222222222222,
              "#7201a8"
             ],
             [
              0.3333333333333333,
              "#9c179e"
             ],
             [
              0.4444444444444444,
              "#bd3786"
             ],
             [
              0.5555555555555556,
              "#d8576b"
             ],
             [
              0.6666666666666666,
              "#ed7953"
             ],
             [
              0.7777777777777778,
              "#fb9f3a"
             ],
             [
              0.8888888888888888,
              "#fdca26"
             ],
             [
              1,
              "#f0f921"
             ]
            ],
            "type": "heatmapgl"
           }
          ],
          "histogram": [
           {
            "marker": {
             "pattern": {
              "fillmode": "overlay",
              "size": 10,
              "solidity": 0.2
             }
            },
            "type": "histogram"
           }
          ],
          "histogram2d": [
           {
            "colorbar": {
             "outlinewidth": 0,
             "ticks": ""
            },
            "colorscale": [
             [
              0,
              "#0d0887"
             ],
             [
              0.1111111111111111,
              "#46039f"
             ],
             [
              0.2222222222222222,
              "#7201a8"
             ],
             [
              0.3333333333333333,
              "#9c179e"
             ],
             [
              0.4444444444444444,
              "#bd3786"
             ],
             [
              0.5555555555555556,
              "#d8576b"
             ],
             [
              0.6666666666666666,
              "#ed7953"
             ],
             [
              0.7777777777777778,
              "#fb9f3a"
             ],
             [
              0.8888888888888888,
              "#fdca26"
             ],
             [
              1,
              "#f0f921"
             ]
            ],
            "type": "histogram2d"
           }
          ],
          "histogram2dcontour": [
           {
            "colorbar": {
             "outlinewidth": 0,
             "ticks": ""
            },
            "colorscale": [
             [
              0,
              "#0d0887"
             ],
             [
              0.1111111111111111,
              "#46039f"
             ],
             [
              0.2222222222222222,
              "#7201a8"
             ],
             [
              0.3333333333333333,
              "#9c179e"
             ],
             [
              0.4444444444444444,
              "#bd3786"
             ],
             [
              0.5555555555555556,
              "#d8576b"
             ],
             [
              0.6666666666666666,
              "#ed7953"
             ],
             [
              0.7777777777777778,
              "#fb9f3a"
             ],
             [
              0.8888888888888888,
              "#fdca26"
             ],
             [
              1,
              "#f0f921"
             ]
            ],
            "type": "histogram2dcontour"
           }
          ],
          "mesh3d": [
           {
            "colorbar": {
             "outlinewidth": 0,
             "ticks": ""
            },
            "type": "mesh3d"
           }
          ],
          "parcoords": [
           {
            "line": {
             "colorbar": {
              "outlinewidth": 0,
              "ticks": ""
             }
            },
            "type": "parcoords"
           }
          ],
          "pie": [
           {
            "automargin": true,
            "type": "pie"
           }
          ],
          "scatter": [
           {
            "fillpattern": {
             "fillmode": "overlay",
             "size": 10,
             "solidity": 0.2
            },
            "type": "scatter"
           }
          ],
          "scatter3d": [
           {
            "line": {
             "colorbar": {
              "outlinewidth": 0,
              "ticks": ""
             }
            },
            "marker": {
             "colorbar": {
              "outlinewidth": 0,
              "ticks": ""
             }
            },
            "type": "scatter3d"
           }
          ],
          "scattercarpet": [
           {
            "marker": {
             "colorbar": {
              "outlinewidth": 0,
              "ticks": ""
             }
            },
            "type": "scattercarpet"
           }
          ],
          "scattergeo": [
           {
            "marker": {
             "colorbar": {
              "outlinewidth": 0,
              "ticks": ""
             }
            },
            "type": "scattergeo"
           }
          ],
          "scattergl": [
           {
            "marker": {
             "colorbar": {
              "outlinewidth": 0,
              "ticks": ""
             }
            },
            "type": "scattergl"
           }
          ],
          "scattermapbox": [
           {
            "marker": {
             "colorbar": {
              "outlinewidth": 0,
              "ticks": ""
             }
            },
            "type": "scattermapbox"
           }
          ],
          "scatterpolar": [
           {
            "marker": {
             "colorbar": {
              "outlinewidth": 0,
              "ticks": ""
             }
            },
            "type": "scatterpolar"
           }
          ],
          "scatterpolargl": [
           {
            "marker": {
             "colorbar": {
              "outlinewidth": 0,
              "ticks": ""
             }
            },
            "type": "scatterpolargl"
           }
          ],
          "scatterternary": [
           {
            "marker": {
             "colorbar": {
              "outlinewidth": 0,
              "ticks": ""
             }
            },
            "type": "scatterternary"
           }
          ],
          "surface": [
           {
            "colorbar": {
             "outlinewidth": 0,
             "ticks": ""
            },
            "colorscale": [
             [
              0,
              "#0d0887"
             ],
             [
              0.1111111111111111,
              "#46039f"
             ],
             [
              0.2222222222222222,
              "#7201a8"
             ],
             [
              0.3333333333333333,
              "#9c179e"
             ],
             [
              0.4444444444444444,
              "#bd3786"
             ],
             [
              0.5555555555555556,
              "#d8576b"
             ],
             [
              0.6666666666666666,
              "#ed7953"
             ],
             [
              0.7777777777777778,
              "#fb9f3a"
             ],
             [
              0.8888888888888888,
              "#fdca26"
             ],
             [
              1,
              "#f0f921"
             ]
            ],
            "type": "surface"
           }
          ],
          "table": [
           {
            "cells": {
             "fill": {
              "color": "#EBF0F8"
             },
             "line": {
              "color": "white"
             }
            },
            "header": {
             "fill": {
              "color": "#C8D4E3"
             },
             "line": {
              "color": "white"
             }
            },
            "type": "table"
           }
          ]
         },
         "layout": {
          "annotationdefaults": {
           "arrowcolor": "#2a3f5f",
           "arrowhead": 0,
           "arrowwidth": 1
          },
          "autotypenumbers": "strict",
          "coloraxis": {
           "colorbar": {
            "outlinewidth": 0,
            "ticks": ""
           }
          },
          "colorscale": {
           "diverging": [
            [
             0,
             "#8e0152"
            ],
            [
             0.1,
             "#c51b7d"
            ],
            [
             0.2,
             "#de77ae"
            ],
            [
             0.3,
             "#f1b6da"
            ],
            [
             0.4,
             "#fde0ef"
            ],
            [
             0.5,
             "#f7f7f7"
            ],
            [
             0.6,
             "#e6f5d0"
            ],
            [
             0.7,
             "#b8e186"
            ],
            [
             0.8,
             "#7fbc41"
            ],
            [
             0.9,
             "#4d9221"
            ],
            [
             1,
             "#276419"
            ]
           ],
           "sequential": [
            [
             0,
             "#0d0887"
            ],
            [
             0.1111111111111111,
             "#46039f"
            ],
            [
             0.2222222222222222,
             "#7201a8"
            ],
            [
             0.3333333333333333,
             "#9c179e"
            ],
            [
             0.4444444444444444,
             "#bd3786"
            ],
            [
             0.5555555555555556,
             "#d8576b"
            ],
            [
             0.6666666666666666,
             "#ed7953"
            ],
            [
             0.7777777777777778,
             "#fb9f3a"
            ],
            [
             0.8888888888888888,
             "#fdca26"
            ],
            [
             1,
             "#f0f921"
            ]
           ],
           "sequentialminus": [
            [
             0,
             "#0d0887"
            ],
            [
             0.1111111111111111,
             "#46039f"
            ],
            [
             0.2222222222222222,
             "#7201a8"
            ],
            [
             0.3333333333333333,
             "#9c179e"
            ],
            [
             0.4444444444444444,
             "#bd3786"
            ],
            [
             0.5555555555555556,
             "#d8576b"
            ],
            [
             0.6666666666666666,
             "#ed7953"
            ],
            [
             0.7777777777777778,
             "#fb9f3a"
            ],
            [
             0.8888888888888888,
             "#fdca26"
            ],
            [
             1,
             "#f0f921"
            ]
           ]
          },
          "colorway": [
           "#636efa",
           "#EF553B",
           "#00cc96",
           "#ab63fa",
           "#FFA15A",
           "#19d3f3",
           "#FF6692",
           "#B6E880",
           "#FF97FF",
           "#FECB52"
          ],
          "font": {
           "color": "#2a3f5f"
          },
          "geo": {
           "bgcolor": "white",
           "lakecolor": "white",
           "landcolor": "#E5ECF6",
           "showlakes": true,
           "showland": true,
           "subunitcolor": "white"
          },
          "hoverlabel": {
           "align": "left"
          },
          "hovermode": "closest",
          "mapbox": {
           "style": "light"
          },
          "paper_bgcolor": "white",
          "plot_bgcolor": "#E5ECF6",
          "polar": {
           "angularaxis": {
            "gridcolor": "white",
            "linecolor": "white",
            "ticks": ""
           },
           "bgcolor": "#E5ECF6",
           "radialaxis": {
            "gridcolor": "white",
            "linecolor": "white",
            "ticks": ""
           }
          },
          "scene": {
           "xaxis": {
            "backgroundcolor": "#E5ECF6",
            "gridcolor": "white",
            "gridwidth": 2,
            "linecolor": "white",
            "showbackground": true,
            "ticks": "",
            "zerolinecolor": "white"
           },
           "yaxis": {
            "backgroundcolor": "#E5ECF6",
            "gridcolor": "white",
            "gridwidth": 2,
            "linecolor": "white",
            "showbackground": true,
            "ticks": "",
            "zerolinecolor": "white"
           },
           "zaxis": {
            "backgroundcolor": "#E5ECF6",
            "gridcolor": "white",
            "gridwidth": 2,
            "linecolor": "white",
            "showbackground": true,
            "ticks": "",
            "zerolinecolor": "white"
           }
          },
          "shapedefaults": {
           "line": {
            "color": "#2a3f5f"
           }
          },
          "ternary": {
           "aaxis": {
            "gridcolor": "white",
            "linecolor": "white",
            "ticks": ""
           },
           "baxis": {
            "gridcolor": "white",
            "linecolor": "white",
            "ticks": ""
           },
           "bgcolor": "#E5ECF6",
           "caxis": {
            "gridcolor": "white",
            "linecolor": "white",
            "ticks": ""
           }
          },
          "title": {
           "x": 0.05
          },
          "xaxis": {
           "automargin": true,
           "gridcolor": "white",
           "linecolor": "white",
           "ticks": "",
           "title": {
            "standoff": 15
           },
           "zerolinecolor": "white",
           "zerolinewidth": 2
          },
          "yaxis": {
           "automargin": true,
           "gridcolor": "white",
           "linecolor": "white",
           "ticks": "",
           "title": {
            "standoff": 15
           },
           "zerolinecolor": "white",
           "zerolinewidth": 2
          }
         }
        },
        "width": 1000,
        "xaxis": {
         "showgrid": false,
         "showline": false,
         "showticklabels": false,
         "zeroline": false
        },
        "yaxis": {
         "showgrid": false,
         "showline": false,
         "showticklabels": false,
         "zeroline": false
        }
       }
      }
     },
     "metadata": {},
     "output_type": "display_data"
    }
   ],
   "source": [
    "nodes1 = [node(name=str(i),son=[]) for i in range(len(uf.tree()))]\n",
    "for i,j in enumerate(uf.tree()):\n",
    "    if(j!=-1):\n",
    "        nodes1[j].son.append(nodes1[i])\n",
    "    nodes1[i].value=embeddings[i];\n",
    "    nodes1[i].subson=0\n",
    "    # if(i==49):\n",
    "    #     break\n",
    "show_tree(nodes1[-1]).show_fig()\n"
   ]
  },
  {
   "cell_type": "code",
   "execution_count": 42,
   "metadata": {},
   "outputs": [
    {
     "data": {
      "application/vnd.plotly.v1+json": {
       "config": {
        "plotlyServerURL": "https://plot.ly"
       },
       "data": [
        {
         "hoverinfo": "text",
         "marker": {
          "color": [
           0.0038858295883983374,
           0.17212627828121185,
           0.17098428308963776,
           0.17212626338005066,
           0.17182426154613495,
           0.17212626338005066,
           0.17212626338005066
          ],
          "colorscale": [
           [
            0,
            "rgb(253, 224, 197)"
           ],
           [
            0.16666666666666666,
            "rgb(250, 203, 166)"
           ],
           [
            0.3333333333333333,
            "rgb(248, 181, 139)"
           ],
           [
            0.5,
            "rgb(245, 158, 114)"
           ],
           [
            0.6666666666666666,
            "rgb(242, 133, 93)"
           ],
           [
            0.8333333333333334,
            "rgb(239, 106, 76)"
           ],
           [
            1,
            "rgb(235, 74, 64)"
           ]
          ],
          "showscale": true,
          "size": 50,
          "symbol": "circle-dot"
         },
         "mode": "markers+text",
         "opacity": 0.8,
         "text": [
          "6",
          "2",
          "5",
          "3",
          "4",
          "0",
          "1"
         ],
         "textfont": {
          "color": "#000000",
          "family": "sans serif",
          "size": 18
         },
         "type": "scatter",
         "x": [
          5.5,
          3.25,
          7.75,
          6.625,
          8.875,
          8.3125,
          9.4375
         ],
         "y": [
          5,
          3.5,
          3.5,
          2,
          2,
          0.5,
          0.5
         ]
        }
       ],
       "layout": {
        "height": 500,
        "shapes": [
         {
          "layer": "below",
          "line": {
           "color": "#333",
           "width": 4
          },
          "type": "line",
          "x0": 5.5,
          "x1": 5.5,
          "y0": 5,
          "y1": 5
         },
         {
          "layer": "below",
          "line": {
           "color": "#333",
           "width": 4
          },
          "type": "line",
          "x0": 5.5,
          "x1": 3.25,
          "y0": 5,
          "y1": 3.5
         },
         {
          "layer": "below",
          "line": {
           "color": "#333",
           "width": 4
          },
          "type": "line",
          "x0": 5.5,
          "x1": 7.75,
          "y0": 5,
          "y1": 3.5
         },
         {
          "layer": "below",
          "line": {
           "color": "#333",
           "width": 4
          },
          "type": "line",
          "x0": 7.75,
          "x1": 6.625,
          "y0": 3.5,
          "y1": 2
         },
         {
          "layer": "below",
          "line": {
           "color": "#333",
           "width": 4
          },
          "type": "line",
          "x0": 7.75,
          "x1": 8.875,
          "y0": 3.5,
          "y1": 2
         },
         {
          "layer": "below",
          "line": {
           "color": "#333",
           "width": 4
          },
          "type": "line",
          "x0": 8.875,
          "x1": 8.3125,
          "y0": 2,
          "y1": 0.5
         },
         {
          "layer": "below",
          "line": {
           "color": "#333",
           "width": 4
          },
          "type": "line",
          "x0": 8.875,
          "x1": 9.4375,
          "y0": 2,
          "y1": 0.5
         }
        ],
        "template": {
         "data": {
          "bar": [
           {
            "error_x": {
             "color": "#2a3f5f"
            },
            "error_y": {
             "color": "#2a3f5f"
            },
            "marker": {
             "line": {
              "color": "#E5ECF6",
              "width": 0.5
             },
             "pattern": {
              "fillmode": "overlay",
              "size": 10,
              "solidity": 0.2
             }
            },
            "type": "bar"
           }
          ],
          "barpolar": [
           {
            "marker": {
             "line": {
              "color": "#E5ECF6",
              "width": 0.5
             },
             "pattern": {
              "fillmode": "overlay",
              "size": 10,
              "solidity": 0.2
             }
            },
            "type": "barpolar"
           }
          ],
          "carpet": [
           {
            "aaxis": {
             "endlinecolor": "#2a3f5f",
             "gridcolor": "white",
             "linecolor": "white",
             "minorgridcolor": "white",
             "startlinecolor": "#2a3f5f"
            },
            "baxis": {
             "endlinecolor": "#2a3f5f",
             "gridcolor": "white",
             "linecolor": "white",
             "minorgridcolor": "white",
             "startlinecolor": "#2a3f5f"
            },
            "type": "carpet"
           }
          ],
          "choropleth": [
           {
            "colorbar": {
             "outlinewidth": 0,
             "ticks": ""
            },
            "type": "choropleth"
           }
          ],
          "contour": [
           {
            "colorbar": {
             "outlinewidth": 0,
             "ticks": ""
            },
            "colorscale": [
             [
              0,
              "#0d0887"
             ],
             [
              0.1111111111111111,
              "#46039f"
             ],
             [
              0.2222222222222222,
              "#7201a8"
             ],
             [
              0.3333333333333333,
              "#9c179e"
             ],
             [
              0.4444444444444444,
              "#bd3786"
             ],
             [
              0.5555555555555556,
              "#d8576b"
             ],
             [
              0.6666666666666666,
              "#ed7953"
             ],
             [
              0.7777777777777778,
              "#fb9f3a"
             ],
             [
              0.8888888888888888,
              "#fdca26"
             ],
             [
              1,
              "#f0f921"
             ]
            ],
            "type": "contour"
           }
          ],
          "contourcarpet": [
           {
            "colorbar": {
             "outlinewidth": 0,
             "ticks": ""
            },
            "type": "contourcarpet"
           }
          ],
          "heatmap": [
           {
            "colorbar": {
             "outlinewidth": 0,
             "ticks": ""
            },
            "colorscale": [
             [
              0,
              "#0d0887"
             ],
             [
              0.1111111111111111,
              "#46039f"
             ],
             [
              0.2222222222222222,
              "#7201a8"
             ],
             [
              0.3333333333333333,
              "#9c179e"
             ],
             [
              0.4444444444444444,
              "#bd3786"
             ],
             [
              0.5555555555555556,
              "#d8576b"
             ],
             [
              0.6666666666666666,
              "#ed7953"
             ],
             [
              0.7777777777777778,
              "#fb9f3a"
             ],
             [
              0.8888888888888888,
              "#fdca26"
             ],
             [
              1,
              "#f0f921"
             ]
            ],
            "type": "heatmap"
           }
          ],
          "heatmapgl": [
           {
            "colorbar": {
             "outlinewidth": 0,
             "ticks": ""
            },
            "colorscale": [
             [
              0,
              "#0d0887"
             ],
             [
              0.1111111111111111,
              "#46039f"
             ],
             [
              0.2222222222222222,
              "#7201a8"
             ],
             [
              0.3333333333333333,
              "#9c179e"
             ],
             [
              0.4444444444444444,
              "#bd3786"
             ],
             [
              0.5555555555555556,
              "#d8576b"
             ],
             [
              0.6666666666666666,
              "#ed7953"
             ],
             [
              0.7777777777777778,
              "#fb9f3a"
             ],
             [
              0.8888888888888888,
              "#fdca26"
             ],
             [
              1,
              "#f0f921"
             ]
            ],
            "type": "heatmapgl"
           }
          ],
          "histogram": [
           {
            "marker": {
             "pattern": {
              "fillmode": "overlay",
              "size": 10,
              "solidity": 0.2
             }
            },
            "type": "histogram"
           }
          ],
          "histogram2d": [
           {
            "colorbar": {
             "outlinewidth": 0,
             "ticks": ""
            },
            "colorscale": [
             [
              0,
              "#0d0887"
             ],
             [
              0.1111111111111111,
              "#46039f"
             ],
             [
              0.2222222222222222,
              "#7201a8"
             ],
             [
              0.3333333333333333,
              "#9c179e"
             ],
             [
              0.4444444444444444,
              "#bd3786"
             ],
             [
              0.5555555555555556,
              "#d8576b"
             ],
             [
              0.6666666666666666,
              "#ed7953"
             ],
             [
              0.7777777777777778,
              "#fb9f3a"
             ],
             [
              0.8888888888888888,
              "#fdca26"
             ],
             [
              1,
              "#f0f921"
             ]
            ],
            "type": "histogram2d"
           }
          ],
          "histogram2dcontour": [
           {
            "colorbar": {
             "outlinewidth": 0,
             "ticks": ""
            },
            "colorscale": [
             [
              0,
              "#0d0887"
             ],
             [
              0.1111111111111111,
              "#46039f"
             ],
             [
              0.2222222222222222,
              "#7201a8"
             ],
             [
              0.3333333333333333,
              "#9c179e"
             ],
             [
              0.4444444444444444,
              "#bd3786"
             ],
             [
              0.5555555555555556,
              "#d8576b"
             ],
             [
              0.6666666666666666,
              "#ed7953"
             ],
             [
              0.7777777777777778,
              "#fb9f3a"
             ],
             [
              0.8888888888888888,
              "#fdca26"
             ],
             [
              1,
              "#f0f921"
             ]
            ],
            "type": "histogram2dcontour"
           }
          ],
          "mesh3d": [
           {
            "colorbar": {
             "outlinewidth": 0,
             "ticks": ""
            },
            "type": "mesh3d"
           }
          ],
          "parcoords": [
           {
            "line": {
             "colorbar": {
              "outlinewidth": 0,
              "ticks": ""
             }
            },
            "type": "parcoords"
           }
          ],
          "pie": [
           {
            "automargin": true,
            "type": "pie"
           }
          ],
          "scatter": [
           {
            "fillpattern": {
             "fillmode": "overlay",
             "size": 10,
             "solidity": 0.2
            },
            "type": "scatter"
           }
          ],
          "scatter3d": [
           {
            "line": {
             "colorbar": {
              "outlinewidth": 0,
              "ticks": ""
             }
            },
            "marker": {
             "colorbar": {
              "outlinewidth": 0,
              "ticks": ""
             }
            },
            "type": "scatter3d"
           }
          ],
          "scattercarpet": [
           {
            "marker": {
             "colorbar": {
              "outlinewidth": 0,
              "ticks": ""
             }
            },
            "type": "scattercarpet"
           }
          ],
          "scattergeo": [
           {
            "marker": {
             "colorbar": {
              "outlinewidth": 0,
              "ticks": ""
             }
            },
            "type": "scattergeo"
           }
          ],
          "scattergl": [
           {
            "marker": {
             "colorbar": {
              "outlinewidth": 0,
              "ticks": ""
             }
            },
            "type": "scattergl"
           }
          ],
          "scattermapbox": [
           {
            "marker": {
             "colorbar": {
              "outlinewidth": 0,
              "ticks": ""
             }
            },
            "type": "scattermapbox"
           }
          ],
          "scatterpolar": [
           {
            "marker": {
             "colorbar": {
              "outlinewidth": 0,
              "ticks": ""
             }
            },
            "type": "scatterpolar"
           }
          ],
          "scatterpolargl": [
           {
            "marker": {
             "colorbar": {
              "outlinewidth": 0,
              "ticks": ""
             }
            },
            "type": "scatterpolargl"
           }
          ],
          "scatterternary": [
           {
            "marker": {
             "colorbar": {
              "outlinewidth": 0,
              "ticks": ""
             }
            },
            "type": "scatterternary"
           }
          ],
          "surface": [
           {
            "colorbar": {
             "outlinewidth": 0,
             "ticks": ""
            },
            "colorscale": [
             [
              0,
              "#0d0887"
             ],
             [
              0.1111111111111111,
              "#46039f"
             ],
             [
              0.2222222222222222,
              "#7201a8"
             ],
             [
              0.3333333333333333,
              "#9c179e"
             ],
             [
              0.4444444444444444,
              "#bd3786"
             ],
             [
              0.5555555555555556,
              "#d8576b"
             ],
             [
              0.6666666666666666,
              "#ed7953"
             ],
             [
              0.7777777777777778,
              "#fb9f3a"
             ],
             [
              0.8888888888888888,
              "#fdca26"
             ],
             [
              1,
              "#f0f921"
             ]
            ],
            "type": "surface"
           }
          ],
          "table": [
           {
            "cells": {
             "fill": {
              "color": "#EBF0F8"
             },
             "line": {
              "color": "white"
             }
            },
            "header": {
             "fill": {
              "color": "#C8D4E3"
             },
             "line": {
              "color": "white"
             }
            },
            "type": "table"
           }
          ]
         },
         "layout": {
          "annotationdefaults": {
           "arrowcolor": "#2a3f5f",
           "arrowhead": 0,
           "arrowwidth": 1
          },
          "autotypenumbers": "strict",
          "coloraxis": {
           "colorbar": {
            "outlinewidth": 0,
            "ticks": ""
           }
          },
          "colorscale": {
           "diverging": [
            [
             0,
             "#8e0152"
            ],
            [
             0.1,
             "#c51b7d"
            ],
            [
             0.2,
             "#de77ae"
            ],
            [
             0.3,
             "#f1b6da"
            ],
            [
             0.4,
             "#fde0ef"
            ],
            [
             0.5,
             "#f7f7f7"
            ],
            [
             0.6,
             "#e6f5d0"
            ],
            [
             0.7,
             "#b8e186"
            ],
            [
             0.8,
             "#7fbc41"
            ],
            [
             0.9,
             "#4d9221"
            ],
            [
             1,
             "#276419"
            ]
           ],
           "sequential": [
            [
             0,
             "#0d0887"
            ],
            [
             0.1111111111111111,
             "#46039f"
            ],
            [
             0.2222222222222222,
             "#7201a8"
            ],
            [
             0.3333333333333333,
             "#9c179e"
            ],
            [
             0.4444444444444444,
             "#bd3786"
            ],
            [
             0.5555555555555556,
             "#d8576b"
            ],
            [
             0.6666666666666666,
             "#ed7953"
            ],
            [
             0.7777777777777778,
             "#fb9f3a"
            ],
            [
             0.8888888888888888,
             "#fdca26"
            ],
            [
             1,
             "#f0f921"
            ]
           ],
           "sequentialminus": [
            [
             0,
             "#0d0887"
            ],
            [
             0.1111111111111111,
             "#46039f"
            ],
            [
             0.2222222222222222,
             "#7201a8"
            ],
            [
             0.3333333333333333,
             "#9c179e"
            ],
            [
             0.4444444444444444,
             "#bd3786"
            ],
            [
             0.5555555555555556,
             "#d8576b"
            ],
            [
             0.6666666666666666,
             "#ed7953"
            ],
            [
             0.7777777777777778,
             "#fb9f3a"
            ],
            [
             0.8888888888888888,
             "#fdca26"
            ],
            [
             1,
             "#f0f921"
            ]
           ]
          },
          "colorway": [
           "#636efa",
           "#EF553B",
           "#00cc96",
           "#ab63fa",
           "#FFA15A",
           "#19d3f3",
           "#FF6692",
           "#B6E880",
           "#FF97FF",
           "#FECB52"
          ],
          "font": {
           "color": "#2a3f5f"
          },
          "geo": {
           "bgcolor": "white",
           "lakecolor": "white",
           "landcolor": "#E5ECF6",
           "showlakes": true,
           "showland": true,
           "subunitcolor": "white"
          },
          "hoverlabel": {
           "align": "left"
          },
          "hovermode": "closest",
          "mapbox": {
           "style": "light"
          },
          "paper_bgcolor": "white",
          "plot_bgcolor": "#E5ECF6",
          "polar": {
           "angularaxis": {
            "gridcolor": "white",
            "linecolor": "white",
            "ticks": ""
           },
           "bgcolor": "#E5ECF6",
           "radialaxis": {
            "gridcolor": "white",
            "linecolor": "white",
            "ticks": ""
           }
          },
          "scene": {
           "xaxis": {
            "backgroundcolor": "#E5ECF6",
            "gridcolor": "white",
            "gridwidth": 2,
            "linecolor": "white",
            "showbackground": true,
            "ticks": "",
            "zerolinecolor": "white"
           },
           "yaxis": {
            "backgroundcolor": "#E5ECF6",
            "gridcolor": "white",
            "gridwidth": 2,
            "linecolor": "white",
            "showbackground": true,
            "ticks": "",
            "zerolinecolor": "white"
           },
           "zaxis": {
            "backgroundcolor": "#E5ECF6",
            "gridcolor": "white",
            "gridwidth": 2,
            "linecolor": "white",
            "showbackground": true,
            "ticks": "",
            "zerolinecolor": "white"
           }
          },
          "shapedefaults": {
           "line": {
            "color": "#2a3f5f"
           }
          },
          "ternary": {
           "aaxis": {
            "gridcolor": "white",
            "linecolor": "white",
            "ticks": ""
           },
           "baxis": {
            "gridcolor": "white",
            "linecolor": "white",
            "ticks": ""
           },
           "bgcolor": "#E5ECF6",
           "caxis": {
            "gridcolor": "white",
            "linecolor": "white",
            "ticks": ""
           }
          },
          "title": {
           "x": 0.05
          },
          "xaxis": {
           "automargin": true,
           "gridcolor": "white",
           "linecolor": "white",
           "ticks": "",
           "title": {
            "standoff": 15
           },
           "zerolinecolor": "white",
           "zerolinewidth": 2
          },
          "yaxis": {
           "automargin": true,
           "gridcolor": "white",
           "linecolor": "white",
           "ticks": "",
           "title": {
            "standoff": 15
           },
           "zerolinecolor": "white",
           "zerolinewidth": 2
          }
         }
        },
        "width": 1000,
        "xaxis": {
         "showgrid": false,
         "showline": false,
         "showticklabels": false,
         "zeroline": false
        },
        "yaxis": {
         "showgrid": false,
         "showline": false,
         "showticklabels": false,
         "zeroline": false
        }
       }
      }
     },
     "metadata": {},
     "output_type": "display_data"
    },
    {
     "name": "stdout",
     "output_type": "stream",
     "text": [
      "1 0\n",
      "0 3\n"
     ]
    },
    {
     "data": {
      "application/vnd.plotly.v1+json": {
       "config": {
        "plotlyServerURL": "https://plot.ly"
       },
       "data": [
        {
         "hoverinfo": "text",
         "marker": {
          "color": [
           0.0038858295883983374,
           0.17212627828121185,
           0.17212626338005066,
           0.17212626338005066,
           0.17212626338005066
          ],
          "colorscale": [
           [
            0,
            "rgb(253, 224, 197)"
           ],
           [
            0.16666666666666666,
            "rgb(250, 203, 166)"
           ],
           [
            0.3333333333333333,
            "rgb(248, 181, 139)"
           ],
           [
            0.5,
            "rgb(245, 158, 114)"
           ],
           [
            0.6666666666666666,
            "rgb(242, 133, 93)"
           ],
           [
            0.8333333333333334,
            "rgb(239, 106, 76)"
           ],
           [
            1,
            "rgb(235, 74, 64)"
           ]
          ],
          "showscale": true,
          "size": 50,
          "symbol": "circle-dot"
         },
         "mode": "markers+text",
         "opacity": 0.8,
         "text": [
          "6",
          "2",
          "3",
          "0",
          "1"
         ],
         "textfont": {
          "color": "#000000",
          "family": "sans serif",
          "size": 18
         },
         "type": "scatter",
         "x": [
          5.5,
          3.25,
          7.75,
          7.75,
          7.75
         ],
         "y": [
          5,
          3.5,
          3.5,
          2,
          0.5
         ]
        }
       ],
       "layout": {
        "height": 500,
        "shapes": [
         {
          "layer": "below",
          "line": {
           "color": "#333",
           "width": 4
          },
          "type": "line",
          "x0": 5.5,
          "x1": 5.5,
          "y0": 5,
          "y1": 5
         },
         {
          "layer": "below",
          "line": {
           "color": "#333",
           "width": 4
          },
          "type": "line",
          "x0": 5.5,
          "x1": 3.25,
          "y0": 5,
          "y1": 3.5
         },
         {
          "layer": "below",
          "line": {
           "color": "#333",
           "width": 4
          },
          "type": "line",
          "x0": 5.5,
          "x1": 7.75,
          "y0": 5,
          "y1": 3.5
         },
         {
          "layer": "below",
          "line": {
           "color": "#333",
           "width": 4
          },
          "type": "line",
          "x0": 7.75,
          "x1": 7.75,
          "y0": 3.5,
          "y1": 2
         },
         {
          "layer": "below",
          "line": {
           "color": "#333",
           "width": 4
          },
          "type": "line",
          "x0": 7.75,
          "x1": 7.75,
          "y0": 2,
          "y1": 0.5
         }
        ],
        "template": {
         "data": {
          "bar": [
           {
            "error_x": {
             "color": "#2a3f5f"
            },
            "error_y": {
             "color": "#2a3f5f"
            },
            "marker": {
             "line": {
              "color": "#E5ECF6",
              "width": 0.5
             },
             "pattern": {
              "fillmode": "overlay",
              "size": 10,
              "solidity": 0.2
             }
            },
            "type": "bar"
           }
          ],
          "barpolar": [
           {
            "marker": {
             "line": {
              "color": "#E5ECF6",
              "width": 0.5
             },
             "pattern": {
              "fillmode": "overlay",
              "size": 10,
              "solidity": 0.2
             }
            },
            "type": "barpolar"
           }
          ],
          "carpet": [
           {
            "aaxis": {
             "endlinecolor": "#2a3f5f",
             "gridcolor": "white",
             "linecolor": "white",
             "minorgridcolor": "white",
             "startlinecolor": "#2a3f5f"
            },
            "baxis": {
             "endlinecolor": "#2a3f5f",
             "gridcolor": "white",
             "linecolor": "white",
             "minorgridcolor": "white",
             "startlinecolor": "#2a3f5f"
            },
            "type": "carpet"
           }
          ],
          "choropleth": [
           {
            "colorbar": {
             "outlinewidth": 0,
             "ticks": ""
            },
            "type": "choropleth"
           }
          ],
          "contour": [
           {
            "colorbar": {
             "outlinewidth": 0,
             "ticks": ""
            },
            "colorscale": [
             [
              0,
              "#0d0887"
             ],
             [
              0.1111111111111111,
              "#46039f"
             ],
             [
              0.2222222222222222,
              "#7201a8"
             ],
             [
              0.3333333333333333,
              "#9c179e"
             ],
             [
              0.4444444444444444,
              "#bd3786"
             ],
             [
              0.5555555555555556,
              "#d8576b"
             ],
             [
              0.6666666666666666,
              "#ed7953"
             ],
             [
              0.7777777777777778,
              "#fb9f3a"
             ],
             [
              0.8888888888888888,
              "#fdca26"
             ],
             [
              1,
              "#f0f921"
             ]
            ],
            "type": "contour"
           }
          ],
          "contourcarpet": [
           {
            "colorbar": {
             "outlinewidth": 0,
             "ticks": ""
            },
            "type": "contourcarpet"
           }
          ],
          "heatmap": [
           {
            "colorbar": {
             "outlinewidth": 0,
             "ticks": ""
            },
            "colorscale": [
             [
              0,
              "#0d0887"
             ],
             [
              0.1111111111111111,
              "#46039f"
             ],
             [
              0.2222222222222222,
              "#7201a8"
             ],
             [
              0.3333333333333333,
              "#9c179e"
             ],
             [
              0.4444444444444444,
              "#bd3786"
             ],
             [
              0.5555555555555556,
              "#d8576b"
             ],
             [
              0.6666666666666666,
              "#ed7953"
             ],
             [
              0.7777777777777778,
              "#fb9f3a"
             ],
             [
              0.8888888888888888,
              "#fdca26"
             ],
             [
              1,
              "#f0f921"
             ]
            ],
            "type": "heatmap"
           }
          ],
          "heatmapgl": [
           {
            "colorbar": {
             "outlinewidth": 0,
             "ticks": ""
            },
            "colorscale": [
             [
              0,
              "#0d0887"
             ],
             [
              0.1111111111111111,
              "#46039f"
             ],
             [
              0.2222222222222222,
              "#7201a8"
             ],
             [
              0.3333333333333333,
              "#9c179e"
             ],
             [
              0.4444444444444444,
              "#bd3786"
             ],
             [
              0.5555555555555556,
              "#d8576b"
             ],
             [
              0.6666666666666666,
              "#ed7953"
             ],
             [
              0.7777777777777778,
              "#fb9f3a"
             ],
             [
              0.8888888888888888,
              "#fdca26"
             ],
             [
              1,
              "#f0f921"
             ]
            ],
            "type": "heatmapgl"
           }
          ],
          "histogram": [
           {
            "marker": {
             "pattern": {
              "fillmode": "overlay",
              "size": 10,
              "solidity": 0.2
             }
            },
            "type": "histogram"
           }
          ],
          "histogram2d": [
           {
            "colorbar": {
             "outlinewidth": 0,
             "ticks": ""
            },
            "colorscale": [
             [
              0,
              "#0d0887"
             ],
             [
              0.1111111111111111,
              "#46039f"
             ],
             [
              0.2222222222222222,
              "#7201a8"
             ],
             [
              0.3333333333333333,
              "#9c179e"
             ],
             [
              0.4444444444444444,
              "#bd3786"
             ],
             [
              0.5555555555555556,
              "#d8576b"
             ],
             [
              0.6666666666666666,
              "#ed7953"
             ],
             [
              0.7777777777777778,
              "#fb9f3a"
             ],
             [
              0.8888888888888888,
              "#fdca26"
             ],
             [
              1,
              "#f0f921"
             ]
            ],
            "type": "histogram2d"
           }
          ],
          "histogram2dcontour": [
           {
            "colorbar": {
             "outlinewidth": 0,
             "ticks": ""
            },
            "colorscale": [
             [
              0,
              "#0d0887"
             ],
             [
              0.1111111111111111,
              "#46039f"
             ],
             [
              0.2222222222222222,
              "#7201a8"
             ],
             [
              0.3333333333333333,
              "#9c179e"
             ],
             [
              0.4444444444444444,
              "#bd3786"
             ],
             [
              0.5555555555555556,
              "#d8576b"
             ],
             [
              0.6666666666666666,
              "#ed7953"
             ],
             [
              0.7777777777777778,
              "#fb9f3a"
             ],
             [
              0.8888888888888888,
              "#fdca26"
             ],
             [
              1,
              "#f0f921"
             ]
            ],
            "type": "histogram2dcontour"
           }
          ],
          "mesh3d": [
           {
            "colorbar": {
             "outlinewidth": 0,
             "ticks": ""
            },
            "type": "mesh3d"
           }
          ],
          "parcoords": [
           {
            "line": {
             "colorbar": {
              "outlinewidth": 0,
              "ticks": ""
             }
            },
            "type": "parcoords"
           }
          ],
          "pie": [
           {
            "automargin": true,
            "type": "pie"
           }
          ],
          "scatter": [
           {
            "fillpattern": {
             "fillmode": "overlay",
             "size": 10,
             "solidity": 0.2
            },
            "type": "scatter"
           }
          ],
          "scatter3d": [
           {
            "line": {
             "colorbar": {
              "outlinewidth": 0,
              "ticks": ""
             }
            },
            "marker": {
             "colorbar": {
              "outlinewidth": 0,
              "ticks": ""
             }
            },
            "type": "scatter3d"
           }
          ],
          "scattercarpet": [
           {
            "marker": {
             "colorbar": {
              "outlinewidth": 0,
              "ticks": ""
             }
            },
            "type": "scattercarpet"
           }
          ],
          "scattergeo": [
           {
            "marker": {
             "colorbar": {
              "outlinewidth": 0,
              "ticks": ""
             }
            },
            "type": "scattergeo"
           }
          ],
          "scattergl": [
           {
            "marker": {
             "colorbar": {
              "outlinewidth": 0,
              "ticks": ""
             }
            },
            "type": "scattergl"
           }
          ],
          "scattermapbox": [
           {
            "marker": {
             "colorbar": {
              "outlinewidth": 0,
              "ticks": ""
             }
            },
            "type": "scattermapbox"
           }
          ],
          "scatterpolar": [
           {
            "marker": {
             "colorbar": {
              "outlinewidth": 0,
              "ticks": ""
             }
            },
            "type": "scatterpolar"
           }
          ],
          "scatterpolargl": [
           {
            "marker": {
             "colorbar": {
              "outlinewidth": 0,
              "ticks": ""
             }
            },
            "type": "scatterpolargl"
           }
          ],
          "scatterternary": [
           {
            "marker": {
             "colorbar": {
              "outlinewidth": 0,
              "ticks": ""
             }
            },
            "type": "scatterternary"
           }
          ],
          "surface": [
           {
            "colorbar": {
             "outlinewidth": 0,
             "ticks": ""
            },
            "colorscale": [
             [
              0,
              "#0d0887"
             ],
             [
              0.1111111111111111,
              "#46039f"
             ],
             [
              0.2222222222222222,
              "#7201a8"
             ],
             [
              0.3333333333333333,
              "#9c179e"
             ],
             [
              0.4444444444444444,
              "#bd3786"
             ],
             [
              0.5555555555555556,
              "#d8576b"
             ],
             [
              0.6666666666666666,
              "#ed7953"
             ],
             [
              0.7777777777777778,
              "#fb9f3a"
             ],
             [
              0.8888888888888888,
              "#fdca26"
             ],
             [
              1,
              "#f0f921"
             ]
            ],
            "type": "surface"
           }
          ],
          "table": [
           {
            "cells": {
             "fill": {
              "color": "#EBF0F8"
             },
             "line": {
              "color": "white"
             }
            },
            "header": {
             "fill": {
              "color": "#C8D4E3"
             },
             "line": {
              "color": "white"
             }
            },
            "type": "table"
           }
          ]
         },
         "layout": {
          "annotationdefaults": {
           "arrowcolor": "#2a3f5f",
           "arrowhead": 0,
           "arrowwidth": 1
          },
          "autotypenumbers": "strict",
          "coloraxis": {
           "colorbar": {
            "outlinewidth": 0,
            "ticks": ""
           }
          },
          "colorscale": {
           "diverging": [
            [
             0,
             "#8e0152"
            ],
            [
             0.1,
             "#c51b7d"
            ],
            [
             0.2,
             "#de77ae"
            ],
            [
             0.3,
             "#f1b6da"
            ],
            [
             0.4,
             "#fde0ef"
            ],
            [
             0.5,
             "#f7f7f7"
            ],
            [
             0.6,
             "#e6f5d0"
            ],
            [
             0.7,
             "#b8e186"
            ],
            [
             0.8,
             "#7fbc41"
            ],
            [
             0.9,
             "#4d9221"
            ],
            [
             1,
             "#276419"
            ]
           ],
           "sequential": [
            [
             0,
             "#0d0887"
            ],
            [
             0.1111111111111111,
             "#46039f"
            ],
            [
             0.2222222222222222,
             "#7201a8"
            ],
            [
             0.3333333333333333,
             "#9c179e"
            ],
            [
             0.4444444444444444,
             "#bd3786"
            ],
            [
             0.5555555555555556,
             "#d8576b"
            ],
            [
             0.6666666666666666,
             "#ed7953"
            ],
            [
             0.7777777777777778,
             "#fb9f3a"
            ],
            [
             0.8888888888888888,
             "#fdca26"
            ],
            [
             1,
             "#f0f921"
            ]
           ],
           "sequentialminus": [
            [
             0,
             "#0d0887"
            ],
            [
             0.1111111111111111,
             "#46039f"
            ],
            [
             0.2222222222222222,
             "#7201a8"
            ],
            [
             0.3333333333333333,
             "#9c179e"
            ],
            [
             0.4444444444444444,
             "#bd3786"
            ],
            [
             0.5555555555555556,
             "#d8576b"
            ],
            [
             0.6666666666666666,
             "#ed7953"
            ],
            [
             0.7777777777777778,
             "#fb9f3a"
            ],
            [
             0.8888888888888888,
             "#fdca26"
            ],
            [
             1,
             "#f0f921"
            ]
           ]
          },
          "colorway": [
           "#636efa",
           "#EF553B",
           "#00cc96",
           "#ab63fa",
           "#FFA15A",
           "#19d3f3",
           "#FF6692",
           "#B6E880",
           "#FF97FF",
           "#FECB52"
          ],
          "font": {
           "color": "#2a3f5f"
          },
          "geo": {
           "bgcolor": "white",
           "lakecolor": "white",
           "landcolor": "#E5ECF6",
           "showlakes": true,
           "showland": true,
           "subunitcolor": "white"
          },
          "hoverlabel": {
           "align": "left"
          },
          "hovermode": "closest",
          "mapbox": {
           "style": "light"
          },
          "paper_bgcolor": "white",
          "plot_bgcolor": "#E5ECF6",
          "polar": {
           "angularaxis": {
            "gridcolor": "white",
            "linecolor": "white",
            "ticks": ""
           },
           "bgcolor": "#E5ECF6",
           "radialaxis": {
            "gridcolor": "white",
            "linecolor": "white",
            "ticks": ""
           }
          },
          "scene": {
           "xaxis": {
            "backgroundcolor": "#E5ECF6",
            "gridcolor": "white",
            "gridwidth": 2,
            "linecolor": "white",
            "showbackground": true,
            "ticks": "",
            "zerolinecolor": "white"
           },
           "yaxis": {
            "backgroundcolor": "#E5ECF6",
            "gridcolor": "white",
            "gridwidth": 2,
            "linecolor": "white",
            "showbackground": true,
            "ticks": "",
            "zerolinecolor": "white"
           },
           "zaxis": {
            "backgroundcolor": "#E5ECF6",
            "gridcolor": "white",
            "gridwidth": 2,
            "linecolor": "white",
            "showbackground": true,
            "ticks": "",
            "zerolinecolor": "white"
           }
          },
          "shapedefaults": {
           "line": {
            "color": "#2a3f5f"
           }
          },
          "ternary": {
           "aaxis": {
            "gridcolor": "white",
            "linecolor": "white",
            "ticks": ""
           },
           "baxis": {
            "gridcolor": "white",
            "linecolor": "white",
            "ticks": ""
           },
           "bgcolor": "#E5ECF6",
           "caxis": {
            "gridcolor": "white",
            "linecolor": "white",
            "ticks": ""
           }
          },
          "title": {
           "x": 0.05
          },
          "xaxis": {
           "automargin": true,
           "gridcolor": "white",
           "linecolor": "white",
           "ticks": "",
           "title": {
            "standoff": 15
           },
           "zerolinecolor": "white",
           "zerolinewidth": 2
          },
          "yaxis": {
           "automargin": true,
           "gridcolor": "white",
           "linecolor": "white",
           "ticks": "",
           "title": {
            "standoff": 15
           },
           "zerolinecolor": "white",
           "zerolinewidth": 2
          }
         }
        },
        "width": 1000,
        "xaxis": {
         "showgrid": false,
         "showline": false,
         "showticklabels": false,
         "zeroline": false
        },
        "yaxis": {
         "showgrid": false,
         "showline": false,
         "showticklabels": false,
         "zeroline": false
        }
       }
      }
     },
     "metadata": {},
     "output_type": "display_data"
    }
   ],
   "source": [
    "nodes1 = [node(name=str(i),son=[]) for i in range(len(uf.tree()))]\n",
    "for i,j in enumerate(uf.tree()):\n",
    "    if(j!=-1):\n",
    "        nodes1[j].son.append(nodes1[i])\n",
    "    nodes1[i].value=embeddings[i];\n",
    "    nodes1[i].subson=0\n",
    "    # if(i==49):\n",
    "    #     break\n",
    "show_tree(nodes1[-1]).show_fig()\n",
    "ans_list = []\n",
    "root  = search_tree(nodes1[-1],0.03,ans_list)\n",
    "show_tree(root).show_fig()"
   ]
  },
  {
   "cell_type": "code",
   "execution_count": 59,
   "metadata": {},
   "outputs": [
    {
     "data": {
      "text/html": [
       "<div>\n",
       "<style scoped>\n",
       "    .dataframe tbody tr th:only-of-type {\n",
       "        vertical-align: middle;\n",
       "    }\n",
       "\n",
       "    .dataframe tbody tr th {\n",
       "        vertical-align: top;\n",
       "    }\n",
       "\n",
       "    .dataframe thead th {\n",
       "        text-align: right;\n",
       "    }\n",
       "</style>\n",
       "<table border=\"1\" class=\"dataframe\">\n",
       "  <thead>\n",
       "    <tr style=\"text-align: right;\">\n",
       "      <th></th>\n",
       "      <th>leiden</th>\n",
       "      <th>celltype</th>\n",
       "    </tr>\n",
       "    <tr>\n",
       "      <th>label</th>\n",
       "      <th></th>\n",
       "      <th></th>\n",
       "    </tr>\n",
       "  </thead>\n",
       "  <tbody>\n",
       "    <tr>\n",
       "      <th>0</th>\n",
       "      <td>3</td>\n",
       "      <td>[CD4Tn]</td>\n",
       "    </tr>\n",
       "    <tr>\n",
       "      <th>1</th>\n",
       "      <td>0</td>\n",
       "      <td>[B]</td>\n",
       "    </tr>\n",
       "    <tr>\n",
       "      <th>2</th>\n",
       "      <td>2</td>\n",
       "      <td>[B]</td>\n",
       "    </tr>\n",
       "    <tr>\n",
       "      <th>3</th>\n",
       "      <td>3</td>\n",
       "      <td>[B]</td>\n",
       "    </tr>\n",
       "    <tr>\n",
       "      <th>4</th>\n",
       "      <td>3</td>\n",
       "      <td>[B]</td>\n",
       "    </tr>\n",
       "    <tr>\n",
       "      <th>5</th>\n",
       "      <td>1</td>\n",
       "      <td>[B]</td>\n",
       "    </tr>\n",
       "    <tr>\n",
       "      <th>6</th>\n",
       "      <td>0</td>\n",
       "      <td>[B]</td>\n",
       "    </tr>\n",
       "    <tr>\n",
       "      <th>7</th>\n",
       "      <td>2</td>\n",
       "      <td>[B]</td>\n",
       "    </tr>\n",
       "    <tr>\n",
       "      <th>8</th>\n",
       "      <td>2</td>\n",
       "      <td>[B]</td>\n",
       "    </tr>\n",
       "    <tr>\n",
       "      <th>9</th>\n",
       "      <td>1</td>\n",
       "      <td>[B]</td>\n",
       "    </tr>\n",
       "    <tr>\n",
       "      <th>10</th>\n",
       "      <td>0</td>\n",
       "      <td>[B]</td>\n",
       "    </tr>\n",
       "    <tr>\n",
       "      <th>11</th>\n",
       "      <td>1</td>\n",
       "      <td>[B]</td>\n",
       "    </tr>\n",
       "    <tr>\n",
       "      <th>12</th>\n",
       "      <td>0</td>\n",
       "      <td>[B]</td>\n",
       "    </tr>\n",
       "    <tr>\n",
       "      <th>13</th>\n",
       "      <td>1</td>\n",
       "      <td>[B]</td>\n",
       "    </tr>\n",
       "    <tr>\n",
       "      <th>14</th>\n",
       "      <td>3</td>\n",
       "      <td>[B]</td>\n",
       "    </tr>\n",
       "    <tr>\n",
       "      <th>15</th>\n",
       "      <td>0</td>\n",
       "      <td>[B]</td>\n",
       "    </tr>\n",
       "    <tr>\n",
       "      <th>16</th>\n",
       "      <td>1</td>\n",
       "      <td>[B]</td>\n",
       "    </tr>\n",
       "    <tr>\n",
       "      <th>17</th>\n",
       "      <td>2</td>\n",
       "      <td>[B]</td>\n",
       "    </tr>\n",
       "    <tr>\n",
       "      <th>18</th>\n",
       "      <td>1</td>\n",
       "      <td>[B]</td>\n",
       "    </tr>\n",
       "    <tr>\n",
       "      <th>19</th>\n",
       "      <td>3</td>\n",
       "      <td>[B]</td>\n",
       "    </tr>\n",
       "    <tr>\n",
       "      <th>20</th>\n",
       "      <td>3</td>\n",
       "      <td>[B]</td>\n",
       "    </tr>\n",
       "    <tr>\n",
       "      <th>21</th>\n",
       "      <td>3</td>\n",
       "      <td>[B]</td>\n",
       "    </tr>\n",
       "    <tr>\n",
       "      <th>22</th>\n",
       "      <td>2</td>\n",
       "      <td>[B]</td>\n",
       "    </tr>\n",
       "    <tr>\n",
       "      <th>23</th>\n",
       "      <td>0</td>\n",
       "      <td>[B]</td>\n",
       "    </tr>\n",
       "    <tr>\n",
       "      <th>24</th>\n",
       "      <td>0</td>\n",
       "      <td>[B]</td>\n",
       "    </tr>\n",
       "    <tr>\n",
       "      <th>25</th>\n",
       "      <td>0</td>\n",
       "      <td>[B]</td>\n",
       "    </tr>\n",
       "    <tr>\n",
       "      <th>26</th>\n",
       "      <td>2</td>\n",
       "      <td>[B]</td>\n",
       "    </tr>\n",
       "    <tr>\n",
       "      <th>27</th>\n",
       "      <td>1</td>\n",
       "      <td>[B]</td>\n",
       "    </tr>\n",
       "    <tr>\n",
       "      <th>28</th>\n",
       "      <td>2</td>\n",
       "      <td>[B]</td>\n",
       "    </tr>\n",
       "    <tr>\n",
       "      <th>29</th>\n",
       "      <td>1</td>\n",
       "      <td>[B]</td>\n",
       "    </tr>\n",
       "    <tr>\n",
       "      <th>30</th>\n",
       "      <td>2</td>\n",
       "      <td>[B]</td>\n",
       "    </tr>\n",
       "    <tr>\n",
       "      <th>31</th>\n",
       "      <td>0</td>\n",
       "      <td>[B]</td>\n",
       "    </tr>\n",
       "  </tbody>\n",
       "</table>\n",
       "</div>"
      ],
      "text/plain": [
       "      leiden celltype\n",
       "label                \n",
       "0          3  [CD4Tn]\n",
       "1          0      [B]\n",
       "2          2      [B]\n",
       "3          3      [B]\n",
       "4          3      [B]\n",
       "5          1      [B]\n",
       "6          0      [B]\n",
       "7          2      [B]\n",
       "8          2      [B]\n",
       "9          1      [B]\n",
       "10         0      [B]\n",
       "11         1      [B]\n",
       "12         0      [B]\n",
       "13         1      [B]\n",
       "14         3      [B]\n",
       "15         0      [B]\n",
       "16         1      [B]\n",
       "17         2      [B]\n",
       "18         1      [B]\n",
       "19         3      [B]\n",
       "20         3      [B]\n",
       "21         3      [B]\n",
       "22         2      [B]\n",
       "23         0      [B]\n",
       "24         0      [B]\n",
       "25         0      [B]\n",
       "26         2      [B]\n",
       "27         1      [B]\n",
       "28         2      [B]\n",
       "29         1      [B]\n",
       "30         2      [B]\n",
       "31         0      [B]"
      ]
     },
     "execution_count": 59,
     "metadata": {},
     "output_type": "execute_result"
    }
   ],
   "source": [
    "adata.obs"
   ]
  },
  {
   "cell_type": "code",
   "execution_count": 85,
   "metadata": {},
   "outputs": [
    {
     "data": {
      "text/plain": [
       "0.8484848484848485"
      ]
     },
     "execution_count": 85,
     "metadata": {},
     "output_type": "execute_result"
    }
   ],
   "source": [
    "union =0\n",
    "inter=0\n",
    "for j in range(len(ans_list)):\n",
    "    \n",
    "    l = ans_list[j][0]\n",
    "    l = list(adata.obs[adata.obs['leiden']==l]['celltype'])\n",
    "    r = ans_list[j][1]\n",
    "    r = list(adata.obs[adata.obs['leiden']==r]['celltype'])\n",
    "    inter += len(l)+len(r);\n",
    "    for i in l:\n",
    "        if(r.__contains__(i)):\n",
    "            union +=1;\n",
    "            r.remove(i)\n",
    "\n",
    "2*union / inter"
   ]
  },
  {
   "cell_type": "code",
   "execution_count": 55,
   "metadata": {},
   "outputs": [
    {
     "data": {
      "text/plain": [
       "[('1', '0'), ('0', '3')]"
      ]
     },
     "execution_count": 55,
     "metadata": {},
     "output_type": "execute_result"
    }
   ],
   "source": [
    "ans_list"
   ]
  },
  {
   "cell_type": "code",
   "execution_count": 51,
   "metadata": {},
   "outputs": [],
   "source": [
    "values = [];\n",
    "fathers = [];\n",
    "save_path = \"./datas/merge6/\"\n",
    "def search_merge_tree(now,ids,save_path,values,fathers):\n",
    "    fathers.append(ids);\n",
    "    values.append(now.name);\n",
    "    now_id = len(values)-1;\n",
    "    for son in now.son:\n",
    "        search_merge_tree(son,now_id,save_path,values,fathers)\n",
    "search_merge_tree(root,-1,0,values,fathers)\n",
    "np.save(save_path+\"dataxy.npy\",values)\n",
    "np.save(save_path+\"datalink.npy\",fathers)"
   ]
  },
  {
   "cell_type": "code",
   "execution_count": 32,
   "metadata": {},
   "outputs": [
    {
     "data": {
      "text/html": [
       "<div>\n",
       "<style scoped>\n",
       "    .dataframe tbody tr th:only-of-type {\n",
       "        vertical-align: middle;\n",
       "    }\n",
       "\n",
       "    .dataframe tbody tr th {\n",
       "        vertical-align: top;\n",
       "    }\n",
       "\n",
       "    .dataframe thead th {\n",
       "        text-align: right;\n",
       "    }\n",
       "</style>\n",
       "<table border=\"1\" class=\"dataframe\">\n",
       "  <thead>\n",
       "    <tr style=\"text-align: right;\">\n",
       "      <th></th>\n",
       "      <th>celltype</th>\n",
       "    </tr>\n",
       "    <tr>\n",
       "      <th>leiden</th>\n",
       "      <th></th>\n",
       "    </tr>\n",
       "  </thead>\n",
       "  <tbody>\n",
       "    <tr>\n",
       "      <th>0</th>\n",
       "      <td>[Monocyte]</td>\n",
       "    </tr>\n",
       "    <tr>\n",
       "      <th>1</th>\n",
       "      <td>[cDC2]</td>\n",
       "    </tr>\n",
       "    <tr>\n",
       "      <th>2</th>\n",
       "      <td>[pDC]</td>\n",
       "    </tr>\n",
       "    <tr>\n",
       "      <th>3</th>\n",
       "      <td>[pDC]</td>\n",
       "    </tr>\n",
       "    <tr>\n",
       "      <th>4</th>\n",
       "      <td>[Mast]</td>\n",
       "    </tr>\n",
       "    <tr>\n",
       "      <th>5</th>\n",
       "      <td>[pDC]</td>\n",
       "    </tr>\n",
       "    <tr>\n",
       "      <th>6</th>\n",
       "      <td>[cDC2]</td>\n",
       "    </tr>\n",
       "    <tr>\n",
       "      <th>7</th>\n",
       "      <td>[pDC]</td>\n",
       "    </tr>\n",
       "    <tr>\n",
       "      <th>8</th>\n",
       "      <td>[pDC]</td>\n",
       "    </tr>\n",
       "    <tr>\n",
       "      <th>9</th>\n",
       "      <td>[pDC]</td>\n",
       "    </tr>\n",
       "    <tr>\n",
       "      <th>10</th>\n",
       "      <td>[pDC]</td>\n",
       "    </tr>\n",
       "    <tr>\n",
       "      <th>11</th>\n",
       "      <td>[pDC]</td>\n",
       "    </tr>\n",
       "    <tr>\n",
       "      <th>12</th>\n",
       "      <td>[Fibroblasts]</td>\n",
       "    </tr>\n",
       "    <tr>\n",
       "      <th>13</th>\n",
       "      <td>[pDC]</td>\n",
       "    </tr>\n",
       "    <tr>\n",
       "      <th>14</th>\n",
       "      <td>[pDC]</td>\n",
       "    </tr>\n",
       "    <tr>\n",
       "      <th>15</th>\n",
       "      <td>[pDC]</td>\n",
       "    </tr>\n",
       "    <tr>\n",
       "      <th>16</th>\n",
       "      <td>[cDC2]</td>\n",
       "    </tr>\n",
       "    <tr>\n",
       "      <th>17</th>\n",
       "      <td>[cDC2]</td>\n",
       "    </tr>\n",
       "    <tr>\n",
       "      <th>18</th>\n",
       "      <td>[cDC2]</td>\n",
       "    </tr>\n",
       "  </tbody>\n",
       "</table>\n",
       "</div>"
      ],
      "text/plain": [
       "             celltype\n",
       "leiden               \n",
       "0          [Monocyte]\n",
       "1              [cDC2]\n",
       "2               [pDC]\n",
       "3               [pDC]\n",
       "4              [Mast]\n",
       "5               [pDC]\n",
       "6              [cDC2]\n",
       "7               [pDC]\n",
       "8               [pDC]\n",
       "9               [pDC]\n",
       "10              [pDC]\n",
       "11              [pDC]\n",
       "12      [Fibroblasts]\n",
       "13              [pDC]\n",
       "14              [pDC]\n",
       "15              [pDC]\n",
       "16             [cDC2]\n",
       "17             [cDC2]\n",
       "18             [cDC2]"
      ]
     },
     "execution_count": 32,
     "metadata": {},
     "output_type": "execute_result"
    }
   ],
   "source": [
    "adata.obs.groupby('leiden').max()"
   ]
  },
  {
   "cell_type": "code",
   "execution_count": 64,
   "metadata": {},
   "outputs": [
    {
     "data": {
      "text/html": [
       "<div>\n",
       "<style scoped>\n",
       "    .dataframe tbody tr th:only-of-type {\n",
       "        vertical-align: middle;\n",
       "    }\n",
       "\n",
       "    .dataframe tbody tr th {\n",
       "        vertical-align: top;\n",
       "    }\n",
       "\n",
       "    .dataframe thead th {\n",
       "        text-align: right;\n",
       "    }\n",
       "</style>\n",
       "<table border=\"1\" class=\"dataframe\">\n",
       "  <thead>\n",
       "    <tr style=\"text-align: right;\">\n",
       "      <th></th>\n",
       "      <th>leiden</th>\n",
       "      <th>celltype</th>\n",
       "    </tr>\n",
       "    <tr>\n",
       "      <th>label</th>\n",
       "      <th></th>\n",
       "      <th></th>\n",
       "    </tr>\n",
       "  </thead>\n",
       "  <tbody>\n",
       "    <tr>\n",
       "      <th>0</th>\n",
       "      <td>5</td>\n",
       "      <td>[CD8Tem]</td>\n",
       "    </tr>\n",
       "    <tr>\n",
       "      <th>1</th>\n",
       "      <td>3</td>\n",
       "      <td>[M2]</td>\n",
       "    </tr>\n",
       "    <tr>\n",
       "      <th>2</th>\n",
       "      <td>9</td>\n",
       "      <td>[Endothelial]</td>\n",
       "    </tr>\n",
       "    <tr>\n",
       "      <th>3</th>\n",
       "      <td>12</td>\n",
       "      <td>[CD8Tcm]</td>\n",
       "    </tr>\n",
       "    <tr>\n",
       "      <th>4</th>\n",
       "      <td>15</td>\n",
       "      <td>[Endothelial]</td>\n",
       "    </tr>\n",
       "    <tr>\n",
       "      <th>...</th>\n",
       "      <td>...</td>\n",
       "      <td>...</td>\n",
       "    </tr>\n",
       "    <tr>\n",
       "      <th>18485</th>\n",
       "      <td>12</td>\n",
       "      <td>[B]</td>\n",
       "    </tr>\n",
       "    <tr>\n",
       "      <th>18486</th>\n",
       "      <td>4</td>\n",
       "      <td>[B]</td>\n",
       "    </tr>\n",
       "    <tr>\n",
       "      <th>18487</th>\n",
       "      <td>6</td>\n",
       "      <td>[B]</td>\n",
       "    </tr>\n",
       "    <tr>\n",
       "      <th>18488</th>\n",
       "      <td>0</td>\n",
       "      <td>[B]</td>\n",
       "    </tr>\n",
       "    <tr>\n",
       "      <th>18489</th>\n",
       "      <td>0</td>\n",
       "      <td>[B]</td>\n",
       "    </tr>\n",
       "  </tbody>\n",
       "</table>\n",
       "<p>18490 rows × 2 columns</p>\n",
       "</div>"
      ],
      "text/plain": [
       "      leiden       celltype\n",
       "label                      \n",
       "0          5       [CD8Tem]\n",
       "1          3           [M2]\n",
       "2          9  [Endothelial]\n",
       "3         12       [CD8Tcm]\n",
       "4         15  [Endothelial]\n",
       "...      ...            ...\n",
       "18485     12            [B]\n",
       "18486      4            [B]\n",
       "18487      6            [B]\n",
       "18488      0            [B]\n",
       "18489      0            [B]\n",
       "\n",
       "[18490 rows x 2 columns]"
      ]
     },
     "execution_count": 64,
     "metadata": {},
     "output_type": "execute_result"
    }
   ],
   "source": [
    "adata.obs"
   ]
  },
  {
   "cell_type": "code",
   "execution_count": 62,
   "metadata": {},
   "outputs": [
    {
     "data": {
      "text/html": [
       "<div>\n",
       "<style scoped>\n",
       "    .dataframe tbody tr th:only-of-type {\n",
       "        vertical-align: middle;\n",
       "    }\n",
       "\n",
       "    .dataframe tbody tr th {\n",
       "        vertical-align: top;\n",
       "    }\n",
       "\n",
       "    .dataframe thead th {\n",
       "        text-align: right;\n",
       "    }\n",
       "</style>\n",
       "<table border=\"1\" class=\"dataframe\">\n",
       "  <thead>\n",
       "    <tr style=\"text-align: right;\">\n",
       "      <th></th>\n",
       "      <th>0</th>\n",
       "      <th>label</th>\n",
       "    </tr>\n",
       "  </thead>\n",
       "  <tbody>\n",
       "    <tr>\n",
       "      <th>0</th>\n",
       "      <td>CD8Tem</td>\n",
       "      <td>0</td>\n",
       "    </tr>\n",
       "    <tr>\n",
       "      <th>1</th>\n",
       "      <td>M2</td>\n",
       "      <td>1</td>\n",
       "    </tr>\n",
       "    <tr>\n",
       "      <th>2</th>\n",
       "      <td>Endothelial</td>\n",
       "      <td>2</td>\n",
       "    </tr>\n",
       "    <tr>\n",
       "      <th>3</th>\n",
       "      <td>CD8Tcm</td>\n",
       "      <td>3</td>\n",
       "    </tr>\n",
       "    <tr>\n",
       "      <th>4</th>\n",
       "      <td>Endothelial</td>\n",
       "      <td>4</td>\n",
       "    </tr>\n",
       "    <tr>\n",
       "      <th>...</th>\n",
       "      <td>...</td>\n",
       "      <td>...</td>\n",
       "    </tr>\n",
       "    <tr>\n",
       "      <th>19671</th>\n",
       "      <td>B</td>\n",
       "      <td>18485</td>\n",
       "    </tr>\n",
       "    <tr>\n",
       "      <th>19672</th>\n",
       "      <td>B</td>\n",
       "      <td>18486</td>\n",
       "    </tr>\n",
       "    <tr>\n",
       "      <th>19673</th>\n",
       "      <td>B</td>\n",
       "      <td>18487</td>\n",
       "    </tr>\n",
       "    <tr>\n",
       "      <th>19674</th>\n",
       "      <td>B</td>\n",
       "      <td>18488</td>\n",
       "    </tr>\n",
       "    <tr>\n",
       "      <th>19675</th>\n",
       "      <td>B</td>\n",
       "      <td>18489</td>\n",
       "    </tr>\n",
       "  </tbody>\n",
       "</table>\n",
       "<p>19676 rows × 2 columns</p>\n",
       "</div>"
      ],
      "text/plain": [
       "                 0  label\n",
       "0           CD8Tem      0\n",
       "1               M2      1\n",
       "2      Endothelial      2\n",
       "3           CD8Tcm      3\n",
       "4      Endothelial      4\n",
       "...            ...    ...\n",
       "19671            B  18485\n",
       "19672            B  18486\n",
       "19673            B  18487\n",
       "19674            B  18488\n",
       "19675            B  18489\n",
       "\n",
       "[19676 rows x 2 columns]"
      ]
     },
     "execution_count": 62,
     "metadata": {},
     "output_type": "execute_result"
    }
   ],
   "source": [
    "v1"
   ]
  },
  {
   "cell_type": "code",
   "execution_count": null,
   "metadata": {},
   "outputs": [],
   "source": [
    "15 3\n",
    "3 8\n",
    "8 7\n",
    "9 0\n",
    "0 7\n",
    "14 12\n",
    "5 4\n",
    "4 2\n",
    "2 10"
   ]
  },
  {
   "cell_type": "code",
   "execution_count": 33,
   "metadata": {},
   "outputs": [],
   "source": [
    "ann1.to_csv(\"./datas/merge6/ann1.csv\")\n",
    "meta1.to_csv(\"./datas/merge6/meta1.csv\")"
   ]
  },
  {
   "cell_type": "code",
   "execution_count": 66,
   "metadata": {},
   "outputs": [
    {
     "data": {
      "text/plain": [
       "19676"
      ]
     },
     "execution_count": 66,
     "metadata": {},
     "output_type": "execute_result"
    }
   ],
   "source": [
    "len(true_label)"
   ]
  },
  {
   "cell_type": "code",
   "execution_count": 67,
   "metadata": {},
   "outputs": [
    {
     "data": {
      "text/plain": [
       "19676"
      ]
     },
     "execution_count": 67,
     "metadata": {},
     "output_type": "execute_result"
    }
   ],
   "source": [
    "len(ans_label)"
   ]
  },
  {
   "cell_type": "code",
   "execution_count": 94,
   "metadata": {},
   "outputs": [
    {
     "name": "stdout",
     "output_type": "stream",
     "text": [
      "1.0\n"
     ]
    }
   ],
   "source": [
    "total = len(v1['label'])\n",
    "correct = 0;\n",
    "for i in range(len(v1['label'])):\n",
    "    # print(v1['label'][i]);\n",
    "    # print(v1[0][i])\n",
    "    if(v1[0][i] == meta1[0][v1['label'][i]]):\n",
    "        correct+=1;\n",
    "print(correct/total)"
   ]
  },
  {
   "cell_type": "code",
   "execution_count": 91,
   "metadata": {},
   "outputs": [
    {
     "data": {
      "text/html": [
       "<div>\n",
       "<style scoped>\n",
       "    .dataframe tbody tr th:only-of-type {\n",
       "        vertical-align: middle;\n",
       "    }\n",
       "\n",
       "    .dataframe tbody tr th {\n",
       "        vertical-align: top;\n",
       "    }\n",
       "\n",
       "    .dataframe thead th {\n",
       "        text-align: right;\n",
       "    }\n",
       "</style>\n",
       "<table border=\"1\" class=\"dataframe\">\n",
       "  <thead>\n",
       "    <tr style=\"text-align: right;\">\n",
       "      <th></th>\n",
       "      <th>0</th>\n",
       "      <th>label</th>\n",
       "    </tr>\n",
       "  </thead>\n",
       "  <tbody>\n",
       "    <tr>\n",
       "      <th>0</th>\n",
       "      <td>CD8Tem</td>\n",
       "      <td>0</td>\n",
       "    </tr>\n",
       "    <tr>\n",
       "      <th>1</th>\n",
       "      <td>M2</td>\n",
       "      <td>1</td>\n",
       "    </tr>\n",
       "    <tr>\n",
       "      <th>2</th>\n",
       "      <td>Endothelial</td>\n",
       "      <td>2</td>\n",
       "    </tr>\n",
       "    <tr>\n",
       "      <th>3</th>\n",
       "      <td>CD8Tcm</td>\n",
       "      <td>3</td>\n",
       "    </tr>\n",
       "    <tr>\n",
       "      <th>4</th>\n",
       "      <td>Endothelial</td>\n",
       "      <td>4</td>\n",
       "    </tr>\n",
       "    <tr>\n",
       "      <th>...</th>\n",
       "      <td>...</td>\n",
       "      <td>...</td>\n",
       "    </tr>\n",
       "    <tr>\n",
       "      <th>19671</th>\n",
       "      <td>B</td>\n",
       "      <td>18485</td>\n",
       "    </tr>\n",
       "    <tr>\n",
       "      <th>19672</th>\n",
       "      <td>B</td>\n",
       "      <td>18486</td>\n",
       "    </tr>\n",
       "    <tr>\n",
       "      <th>19673</th>\n",
       "      <td>B</td>\n",
       "      <td>18487</td>\n",
       "    </tr>\n",
       "    <tr>\n",
       "      <th>19674</th>\n",
       "      <td>B</td>\n",
       "      <td>18488</td>\n",
       "    </tr>\n",
       "    <tr>\n",
       "      <th>19675</th>\n",
       "      <td>B</td>\n",
       "      <td>18489</td>\n",
       "    </tr>\n",
       "  </tbody>\n",
       "</table>\n",
       "<p>19676 rows × 2 columns</p>\n",
       "</div>"
      ],
      "text/plain": [
       "                 0  label\n",
       "0           CD8Tem      0\n",
       "1               M2      1\n",
       "2      Endothelial      2\n",
       "3           CD8Tcm      3\n",
       "4      Endothelial      4\n",
       "...            ...    ...\n",
       "19671            B  18485\n",
       "19672            B  18486\n",
       "19673            B  18487\n",
       "19674            B  18488\n",
       "19675            B  18489\n",
       "\n",
       "[19676 rows x 2 columns]"
      ]
     },
     "execution_count": 91,
     "metadata": {},
     "output_type": "execute_result"
    }
   ],
   "source": [
    "v1"
   ]
  },
  {
   "cell_type": "code",
   "execution_count": null,
   "metadata": {},
   "outputs": [],
   "source": []
  }
 ],
 "metadata": {
  "kernelspec": {
   "display_name": "base",
   "language": "python",
   "name": "python3"
  },
  "language_info": {
   "codemirror_mode": {
    "name": "ipython",
    "version": 3
   },
   "file_extension": ".py",
   "mimetype": "text/x-python",
   "name": "python",
   "nbconvert_exporter": "python",
   "pygments_lexer": "ipython3",
   "version": "3.8.16 (default, Mar  1 2023, 21:19:10) \n[Clang 14.0.6 ]"
  },
  "orig_nbformat": 4,
  "vscode": {
   "interpreter": {
    "hash": "c6f9107c7570fe5c9625bfb2661451db78c34fa5b495f83483e2a28949c1d386"
   }
  }
 },
 "nbformat": 4,
 "nbformat_minor": 2
}
