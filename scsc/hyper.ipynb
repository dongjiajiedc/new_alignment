{
 "cells": [
  {
   "cell_type": "code",
   "execution_count": 25,
   "metadata": {},
   "outputs": [],
   "source": [
    "import argparse\n",
    "import json\n",
    "import logging\n",
    "import os\n",
    "import math\n",
    "import numpy as np\n",
    "import torch\n",
    "import torch.utils.data as data\n",
    "from tqdm import tqdm\n",
    "\n",
    "import optim\n",
    "# from config import config_args\n",
    "from datasets.hc_dataset import HCDataset\n",
    "from datasets.loading import load_data\n",
    "from model.hyphc import HypHC\n",
    "from utils.metrics import dasgupta_cost\n",
    "from utils.training import add_flags_from_config, get_savedir\n",
    "\n",
    "import networkx as nx\n",
    "\n",
    "import matplotlib.pyplot as plt\n",
    "from mst import mst\n",
    "\n",
    "from utils.poincare import project,hyp_dist_djj\n",
    "from utils.lca import hyp_lca\n",
    "from utils.math import arctanh, tanh, arcosh\n",
    "\n",
    "from utils.visualization import plot_tree_from_leaves,plot_geodesic"
   ]
  },
  {
   "cell_type": "code",
   "execution_count": 26,
   "metadata": {},
   "outputs": [
    {
     "data": {
      "text/plain": [
       "<torch._C.Generator at 0x7fbacd02b8b0>"
      ]
     },
     "execution_count": 26,
     "metadata": {},
     "output_type": "execute_result"
    }
   ],
   "source": [
    "np.random.seed(1234)\n",
    "torch.manual_seed(1234)\n"
   ]
  },
  {
   "cell_type": "code",
   "execution_count": 27,
   "metadata": {},
   "outputs": [],
   "source": [
    "from utils.lca import hyp_lca\n",
    "\n",
    "def hyp_lca_numpy(x, y):\n",
    "    \"\"\"Computes the hyperbolic LCA in numpy.\"\"\"\n",
    "    x = torch.from_numpy(x).view((1, 2))\n",
    "    y = torch.from_numpy(y).view((1, 2))\n",
    "    lca = hyp_lca(x, y, return_coord=True)\n",
    "    return lca.view((2,)).numpy()\n",
    "def is_leaf(tree, node):\n",
    "    \"\"\"check if node is a leaf in tree.\"\"\"\n",
    "    return len(list(tree.neighbors(node))) == 0\n",
    "def complete_tree(tree, leaves_embeddings):\n",
    "    \"\"\"Get embeddings of internal nodes from leaves' embeddings using LCA construction.\"\"\"\n",
    "\n",
    "    def _complete_tree(embeddings, node):\n",
    "        children = list(tree.neighbors(node))\n",
    "        if len(children) == 2:\n",
    "            left_c, right_c = children\n",
    "            left_leaf = is_leaf(tree, left_c)\n",
    "            right_leaf = is_leaf(tree, right_c)\n",
    "            if left_leaf and right_leaf:\n",
    "                pass\n",
    "            elif left_leaf and not right_leaf:\n",
    "                embeddings = _complete_tree(embeddings, right_c)\n",
    "            elif right_leaf and not left_leaf:\n",
    "                embeddings = _complete_tree(embeddings, left_c)\n",
    "            else:\n",
    "                embeddings = _complete_tree(embeddings, right_c)\n",
    "                embeddings = _complete_tree(embeddings, left_c)\n",
    "            embeddings[node] = hyp_lca_numpy(embeddings[left_c], embeddings[right_c])\n",
    "        return embeddings\n",
    "\n",
    "    n = leaves_embeddings.shape[0]\n",
    "    tree_embeddings = np.zeros((2 * n - 1, 2))\n",
    "    tree_embeddings[:n, :] = leaves_embeddings\n",
    "    root = max(list(tree.nodes()))\n",
    "    tree_embeddings = _complete_tree(tree_embeddings, root)\n",
    "    return tree_embeddings"
   ]
  },
  {
   "cell_type": "code",
   "execution_count": null,
   "metadata": {},
   "outputs": [],
   "source": []
  },
  {
   "cell_type": "code",
   "execution_count": 77,
   "metadata": {},
   "outputs": [
    {
     "name": "stdout",
     "output_type": "stream",
     "text": [
      "Generating all pairs superset\n"
     ]
    }
   ],
   "source": [
    "x, y_true, similarities = load_data('../../../cityu/HypHC/data/4_8/4_8.data',1,514,0)\n",
    "dataset = HCDataset(x, y_true, similarities, num_samples=50000)\n",
    "dataloader = data.DataLoader(dataset, batch_size=32, shuffle=True, num_workers=8, pin_memory=True)\n",
    "model = HypHC(dataset.n_nodes, 2, 5e-2, 5e-2 ,0.999)\n",
    "model.to(\"cpu\")\n",
    "Optimizer = getattr(optim, 'RAdam')\n",
    "optimizer = Optimizer(model.parameters(),0.0005)\n",
    "counter = 0"
   ]
  },
  {
   "cell_type": "code",
   "execution_count": 81,
   "metadata": {},
   "outputs": [
    {
     "name": "stderr",
     "output_type": "stream",
     "text": [
      "100%|██████████| 1563/1563 [00:58<00:00, 26.62ex/s, loss=1.315599] "
     ]
    },
    {
     "name": "stdout",
     "output_type": "stream",
     "text": [
      "\t Epoch 0 | average train loss: 1.295420\n",
      "Optimization finished.\n"
     ]
    },
    {
     "name": "stderr",
     "output_type": "stream",
     "text": [
      "\n"
     ]
    }
   ],
   "source": [
    "train(model,dataloader,optimizer,similarities,1)"
   ]
  },
  {
   "cell_type": "code",
   "execution_count": 80,
   "metadata": {},
   "outputs": [],
   "source": [
    "def train(model,dataloader,optimizer,similarities,epoches):\n",
    "    best_cost = np.inf\n",
    "    best_model = None\n",
    "    for epoch in range(epoches):\n",
    "        model.train()\n",
    "    total_loss = 0.0\n",
    "    with tqdm(total=len(dataloader), unit='ex') as bar:\n",
    "        for step, (triple_ids, triple_similarities) in enumerate(dataloader):\n",
    "            # triple_ids = triple_ids.cuda()\n",
    "            # triple_similarities = triple_similarities.cuda()\n",
    "            loss = model.loss(triple_ids, triple_similarities)\n",
    "            optimizer.zero_grad()\n",
    "            loss.backward()\n",
    "            optimizer.step()\n",
    "            bar.update(1)\n",
    "            bar.set_postfix(loss=f'{loss.item():.6f}')\n",
    "            total_loss += loss\n",
    "    total_loss = total_loss.item() / (step + 1.0)\n",
    "    print(\"\\t Epoch {} | average train loss: {:.6f}\".format(epoch, total_loss))\n",
    "\n",
    "    # keep best embeddings\n",
    "    if (epoch + 1) % 1 == 0:\n",
    "        model.eval()\n",
    "        tree = model.decode_tree(fast_decoding=1)\n",
    "        cost = dasgupta_cost(tree, similarities)\n",
    "        logging.info(\"{}:\\t{:.4f}\".format(\"Dasgupta's cost\", cost))\n",
    "        if cost < best_cost:\n",
    "            counter = 0\n",
    "            best_cost = cost\n",
    "            best_model = model.state_dict()\n",
    "        else:\n",
    "            counter += 1\n",
    "            if counter == 20:\n",
    "#                 logging.info(\"Early stopping.\")\n",
    "                return\n",
    "\n",
    "    # anneal temperature\n",
    "    if (epoch + 1) % 30 == 0:\n",
    "        model.anneal_temperature(0.5)\n",
    "#         logging.info(\"Annealing temperature to: {}\".format(model.temperature))\n",
    "        for param_group in optimizer.param_groups:\n",
    "            param_group['lr'] *= 0.5\n",
    "            lr = param_group['lr']\n",
    "        print(\"Annealing learning rate to: {}\".format(lr))\n",
    "\n",
    "    print(\"Optimization finished.\")\n",
    "    if best_model is not None:\n",
    "        # load best model\n",
    "        model.load_state_dict(best_model)\n",
    "\n"
   ]
  },
  {
   "cell_type": "code",
   "execution_count": 82,
   "metadata": {},
   "outputs": [
    {
     "data": {
      "text/plain": [
       "<bound method Module.eval of HypHC(\n",
       "  (embeddings): Embedding(21, 2)\n",
       ")>"
      ]
     },
     "execution_count": 82,
     "metadata": {},
     "output_type": "execute_result"
    }
   ],
   "source": [
    "model.eval"
   ]
  },
  {
   "cell_type": "code",
   "execution_count": 31,
   "metadata": {},
   "outputs": [],
   "source": [
    "def dist(x,y):\n",
    "    return arcosh(1+ 2*( (x-y).norm(dim=-1, p=2, keepdim=True))/((1- y.norm(dim=-1, p=2, keepdim=True))*(1- x.norm(dim=-1, p=2, keepdim=True))));\n",
    "def plot_tree_from_leaves_djj_1(ax, tree, leaves_embeddings, labels, color_seed=1234):\n",
    "    \"\"\"Plots a tree on leaves embeddings using the LCA construction.\"\"\"\n",
    "    circle = plt.Circle((0, 0), 20.0, color='r', alpha=0.1)\n",
    "    ax.add_artist(circle)\n",
    "    n = leaves_embeddings.shape[0]\n",
    "    embeddings = complete_tree(tree, leaves_embeddings)\n",
    "    colors = get_colors(labels, color_seed)\n",
    "    ax.scatter(embeddings[:n, 0]*20, embeddings[:n, 1]*20, c=colors, s=50, alpha=0.6)\n",
    "    \n",
    "    for n1, n2 in tree.edges():\n",
    "        x1 = embeddings[n1]\n",
    "        x2 = embeddings[n2]\n",
    "        plot_geodesic(x1, x2, ax)\n",
    "    # ax.set_xlim(-1.05, 1.05)\n",
    "    # ax.set_ylim(-1.05, 1.05)\n",
    "    ax.axis(\"off\")\n",
    "    return ax\n",
    "def sl_np_mst_ij(xs, S):\n",
    "    xs = project(xs).detach().cpu()\n",
    "\n",
    "    xs0 = xs[None, :, :]\n",
    "    xs1 = xs[:, None, :]\n",
    "    sim_mat = S(xs0, xs1)  # (n, n)\n",
    "    similarities = sim_mat.numpy()\n",
    "    n = similarities.shape[0]\n",
    "    similarities=similarities.astype('double')\n",
    "    ij, _ = mst.mst(similarities, n)\n",
    "    return ij\n",
    "sim_fn = lambda x, y: torch.sum(x * y, dim=-1)\n",
    "n=len(x);"
   ]
  },
  {
   "cell_type": "code",
   "execution_count": 32,
   "metadata": {},
   "outputs": [
    {
     "name": "stderr",
     "output_type": "stream",
     "text": [
      "/var/folders/bm/69jvgsdj3rxch558kx9yp9y00000gn/T/ipykernel_28087/1330637655.py:29: DeprecationWarning: `np.int` is a deprecated alias for the builtin `int`. To silence this warning, use `int` by itself. Doing this will not modify any behavior and is safe. When replacing `np.int`, you may wish to use e.g. `np.int64` or `np.int32` to specify the precision. If you wish to review your current use, check the release note link for additional information.\n",
      "Deprecated in NumPy 1.20; for more details and guidance: https://numpy.org/devdocs/release/1.20.0-notes.html#deprecations\n",
      "  ij, _ = mst.mst(similarities, n)\n"
     ]
    }
   ],
   "source": [
    "d = model.normalize_embeddings(model.embeddings.weight.data)\n",
    "d = project(d).detach().cpu()\n",
    "ijs = sl_np_mst_ij(d,sim_fn)"
   ]
  },
  {
   "cell_type": "code",
   "execution_count": 33,
   "metadata": {},
   "outputs": [],
   "source": [
    "class  UnionFind:\n",
    "    \n",
    "    def __init__(self, n , pos , c):\n",
    "        self.n = n\n",
    "        self.pos = pos\n",
    "        self.c = c\n",
    "        self.parent = [i for i in range(n)]\n",
    "        self.rank = [0 for i in range(n)]\n",
    "        self.vis = [0 for i in range(2*n-1)]\n",
    "        self.vis2 = [0 for i in range(2*n-1)]\n",
    "        self.mer = [-1 for i in range(2*n-1)]\n",
    "        self._next_id = n\n",
    "        self._tree = [-1 for i in range(2*n-1)]\n",
    "\n",
    "        self._id = [i for i in range(n)]\n",
    "\n",
    "    def _find(self, i):\n",
    "        if self.parent[i] == i:\n",
    "            return i\n",
    "        else:\n",
    "            self.parent[i] = self._find(self.parent[i])\n",
    "            return self.parent[i]\n",
    "\n",
    "    def find(self, i):\n",
    "        if (i < 0) or (i > self.n):\n",
    "            raise ValueError(\"Out of bounds index.\")\n",
    "        return self._find(i)\n",
    "\n",
    "    def union(self,  i,  j, k=True):\n",
    "        root_i = self._find(i)\n",
    "        root_j = self._find(j)\n",
    "        if root_i == root_j:\n",
    "            return False\n",
    "        else:\n",
    "            \n",
    "            if self.rank[root_i] < self.rank[root_j]:\n",
    "                self.parent[root_i] = root_j\n",
    "                if(k):\n",
    "                    self._build(root_j, root_i)\n",
    "                \n",
    "            elif self.rank[root_i] > self.rank[root_j]:\n",
    "                self.parent[root_j] = root_i\n",
    "                if(k):\n",
    "                    self._build(root_i, root_j)\n",
    "                \n",
    "            else:\n",
    "                \n",
    "                self.parent[root_j] = root_i\n",
    "                self.rank[root_i] += 1\n",
    "                if(k):\n",
    "                    self._build(root_i, root_j)\n",
    "                \n",
    "            return True\n",
    "\n",
    "\n",
    "    def merge(self,ij):\n",
    "        for k in range(ij.shape[0]):\n",
    "            a=ij[k,0];\n",
    "            b=ij[k,1];\n",
    "            if(self.mer[a]!=-1):\n",
    "                a=self.mer[a];\n",
    "            if(self.mer[b]!=-1):\n",
    "                b=self.mer[b];\n",
    "            self.union(a, b)\n",
    "\n",
    "    def  _build(self, i, j):\n",
    "#         print(self._tree[0],\"----\")\n",
    "#         if(dist(self.pos[self._id[i]],self.pos[self._id[j]])<self.c):\n",
    "            \n",
    "            \n",
    "#             print(i,j,'-',self._id[i],self._id[j]);\n",
    "#             self.vis[self._id[i]]=1;\n",
    "#             self.vis[self._id[j]]=1;\n",
    "                \n",
    "#             t=np.array(self.pos).tolist()\n",
    "#             new = np.array(hyp_lca(self.pos[self._id[i]],self.pos[self._id[j]])).tolist()\n",
    "#             t.append(new);\n",
    "#             self.pos=torch.tensor(t)\n",
    "#             self.pos[self._id[i]] = torch.tensor(new);\n",
    "#             self.pos[self._id[j]] = torch.tensor(new);\n",
    "            \n",
    "#             self.search(self._id[i]);\n",
    "#             self.search(self._id[j]);\n",
    "\n",
    "#             self._tree[self._id[i]] = self._next_id\n",
    "#             self._tree[self._id[j]] = self._next_id\n",
    "#             self._id[i] = self._next_id\n",
    "#             self._next_id += 1\n",
    "            \n",
    "#         else:\n",
    "            \n",
    "#             t=np.array(self.pos).tolist()\n",
    "#             new = np.array(hyp_lca(self.pos[self._id[i]],self.pos[self._id[j]])).tolist()\n",
    "#             t.append(new);\n",
    "#             self.pos=torch.tensor(t)\n",
    "#             self._tree[self._id[i]] = self._next_id\n",
    "#             self._tree[self._id[j]] = self._next_id\n",
    "#             self._id[i] = self._next_id\n",
    "#             self._next_id += 1\n",
    "        self.vis2[i]=1;\n",
    "        self.vis2[j]=1;\n",
    "        \n",
    "        t=np.array(self.pos).tolist()\n",
    "        new = np.array(hyp_lca(self.pos[self._id[i]],self.pos[self._id[j]])).tolist()\n",
    "        t.append(new);\n",
    "        self.pos=torch.tensor(t)\n",
    "        \n",
    "        self._tree[self._id[i]] = self._next_id\n",
    "        self._tree[self._id[j]] = self._next_id\n",
    "        self._id[i] = self._next_id\n",
    "        self.check(i);\n",
    "        self._next_id += 1\n",
    "\n",
    "    def search(self,k):\n",
    "#         for i in range(len(self.parent)):\n",
    "#             if(self.parent[i]==k):\n",
    "#                 self.parent[i]=self._next_id;\n",
    "#         print(k==-1)\n",
    "\n",
    "        for i in range(len(self._tree)):\n",
    "            if(self.vis[i]):\n",
    "                continue;            \n",
    "            if(self._tree[i]==k):\n",
    "                print(\"sear\")\n",
    "                self._tree[i]=self._next_id;  \n",
    "                \n",
    "        for i in range(len(self._id)):\n",
    "            if(self.vis[i]):\n",
    "                continue;\n",
    "            if(self._id[i]==k):\n",
    "                print(\"Sear\")\n",
    "                self._id[i]=self._next_id;  \n",
    "                \n",
    "    def check(self,t):\n",
    "        minnum=math.inf\n",
    "        minns=None;\n",
    "        for i in range(self.n):\n",
    "            if(self.vis[i] or self.vis2[i]):\n",
    "                continue;\n",
    "            distance = dist(self.pos[i],self.pos[-1]);\n",
    "            if(distance<self.c and distance < minnum):\n",
    "                minnum = distance\n",
    "                minns = i;\n",
    "                \n",
    "#                 print(\"merge {} in {}\".format(i,t))\n",
    "#                 self.parent[i]=t;\n",
    "#                 self.vis[i]=1;\n",
    "#                 self.search(i);\n",
    "        if(minns != None):\n",
    "            print(\"merge {} in {}\".format(minns,self._next_id))\n",
    "            self.vis[minns]=1;\n",
    "            self.rank[minns]=-1;\n",
    "            self.pos[minns] = self.pos[-1]\n",
    "#             self.search(minns);\n",
    "            self.mer[minns]=t;\n",
    "            self.mer[self._next_id] = minns;\n",
    "#             self.union(t,minns,False);\n",
    "        \n",
    "    def parent(self):\n",
    "        return [self.parent[i] for i in range(self.n)]\n",
    "\n",
    "    def tree(self):\n",
    "        return [self._tree[i] for i in range(len(self._tree))]\n",
    "    "
   ]
  },
  {
   "cell_type": "code",
   "execution_count": 43,
   "metadata": {},
   "outputs": [
    {
     "name": "stdout",
     "output_type": "stream",
     "text": [
      "merge 5 in 21\n",
      "merge 15 in 22\n",
      "merge 19 in 23\n",
      "merge 12 in 24\n",
      "merge 18 in 25\n",
      "merge 8 in 26\n",
      "merge 10 in 27\n"
     ]
    }
   ],
   "source": [
    "n=len(x)\n",
    "uf = UnionFind(n,d,1)\n",
    "uf.merge(ijs)"
   ]
  },
  {
   "cell_type": "code",
   "execution_count": 69,
   "metadata": {},
   "outputs": [
    {
     "name": "stdout",
     "output_type": "stream",
     "text": [
      "21 pass\n",
      "22 pass\n",
      "23 pass\n",
      "24 pass\n",
      "25 pass\n",
      "26 pass\n",
      "27 pass\n"
     ]
    },
    {
     "data": {
      "image/png": "[encoded data removed]",
      "text/plain": [
       "<Figure size 1500x1500 with 1 Axes>"
      ]
     },
     "metadata": {},
     "output_type": "display_data"
    }
   ],
   "source": [
    "count=0\n",
    "def get_colors(y, color_seed=1234):\n",
    "    \"\"\"random color assignment for label classes.\"\"\"\n",
    "    np.random.seed(color_seed)\n",
    "    colors = {}\n",
    "    for k in np.unique(y):\n",
    "        r = np.random.random()\n",
    "        b = np.random.random()\n",
    "        g = np.random.random()\n",
    "        colors[k] = (r, g, b)\n",
    "    return [colors[k] for k in y]\n",
    "\n",
    "tree = nx.DiGraph()\n",
    "for i, j in enumerate(uf.tree()[:-1]):\n",
    "    if(j!=-1):\n",
    "        tree.add_edge(j, i)\n",
    "        \n",
    "fig = plt.figure(figsize=(15, 15))\n",
    "ax = fig.add_subplot(111)\n",
    "circle = plt.Circle((0, 0), 20.0, color='r', alpha=0.1)\n",
    "ax.add_artist(circle)\n",
    "\n",
    "n = len(d)\n",
    "embeddings = np.array(uf.pos)\n",
    "# for i in range(len(embeddings)):\n",
    "#     if(np.isnan(embeddings[i][0]) or embeddings[i][0] + embeddings[i][1] == 0):\n",
    "#         embeddings[i] = embeddings[i-1];\n",
    "#     pass;\n",
    "# print(embeddings)\n",
    "where_are_NaNs = np.isnan(embeddings)\n",
    "embeddings[where_are_NaNs] = 0\n",
    "vis = uf.vis\n",
    "# xlist=[]\n",
    "# ylist=[]\n",
    "# labels=[]\n",
    "\n",
    "# for i in range(n):\n",
    "#     if(uf.vis[i]!=1):\n",
    "#         xlist.append(embeddings[i,0]*20);\n",
    "#         ylist.append(embeddings[i,1]*20);\n",
    "#         labels.append(y_true[i]);\n",
    "# # colors = get_colors(labels, 1234)\n",
    "colors = get_colors(y_true, 1234)\n",
    "\n",
    "# ax.scatter(xlist, ylist, c=colors, s=50, alpha=0.6)\n",
    "\n",
    "ax.scatter(embeddings[:n, 0]*20, embeddings[:n, 1]*20, c=colors, s=50, alpha=0.6)\n",
    "\n",
    "for i in range(len(embeddings)):\n",
    "    if(i<n):\n",
    "        continue;\n",
    "    if(uf.mer[i]!=-1):\n",
    "        print(i,'pass')\n",
    "        pass;\n",
    "    else:\n",
    "        ax.scatter(embeddings[i][0]*20,embeddings[i][1]*20,color='black',s=20,alpha=0.7)\n",
    "\n",
    "    \n",
    "\n",
    "for n1, n2 in tree.edges():\n",
    "#     if(uf.vis[n1]== 1 or uf.vis[n2]== 1 ):\n",
    "# #         print(\"1\")\n",
    "#         pass\n",
    "#     else:\n",
    "#         x1 = embeddings[n1]\n",
    "#         x2 = embeddings[n2]\n",
    "# #         if(n1>=n):\n",
    "# #             if(uf.mer[n1]!=-1):\n",
    "# #                 pass;\n",
    "# #             else:\n",
    "# #                 count+=1;\n",
    "# #         if(n2>n):\n",
    "# #             if(uf.mer[n1]!=-1):\n",
    "# # # \n",
    "# #                 pass;\n",
    "# #             else:\n",
    "# # #                 ax.scatter(x2[0]*20,x2[1]*20,color='black',s=20,alpha=0.7)\n",
    "# #                 count+=1\n",
    "    \n",
    "    \n",
    "#         plot_geodesic(x1, x2, ax)\n",
    "# #         print(x1,x2,n1,n2)\n",
    "# #         break\n",
    "#         pass\n",
    "\n",
    "#     ax.axis(\"off\")\n",
    "    x1 = embeddings[n1];\n",
    "    x2 = embeddings[n2];\n",
    "    plot_geodesic(x1,x2,ax)\n"
   ]
  },
  {
   "cell_type": "code",
   "execution_count": 36,
   "metadata": {},
   "outputs": [],
   "source": [
    "np.save(\"./dataxy.npy\",embeddings)"
   ]
  },
  {
   "cell_type": "code",
   "execution_count": 37,
   "metadata": {},
   "outputs": [],
   "source": [
    "np.save(\"./datalink.npy\",list(tree.edges()))"
   ]
  }
 ],
 "metadata": {
  "kernelspec": {
   "display_name": "base",
   "language": "python",
   "name": "python3"
  },
  "language_info": {
   "codemirror_mode": {
    "name": "ipython",
    "version": 3
   },
   "file_extension": ".py",
   "mimetype": "text/x-python",
   "name": "python",
   "nbconvert_exporter": "python",
   "pygments_lexer": "ipython3",
   "version": "3.8.16 (default, Mar  1 2023, 21:19:10) \n[Clang 14.0.6 ]"
  },
  "orig_nbformat": 4,
  "vscode": {
   "interpreter": {
    "hash": "c6f9107c7570fe5c9625bfb2661451db78c34fa5b495f83483e2a28949c1d386"
   }
  }
 },
 "nbformat": 4,
 "nbformat_minor": 2
}
