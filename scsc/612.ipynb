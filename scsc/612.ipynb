{
 "cells": [
  {
   "cell_type": "code",
   "execution_count": 1,
   "metadata": {},
   "outputs": [],
   "source": [
    "import argparse\n",
    "import json\n",
    "import logging\n",
    "import os\n",
    "import math\n",
    "import numpy as np\n",
    "import torch\n",
    "import torch.utils.data as data\n",
    "from tqdm import tqdm\n",
    "\n",
    "import optim\n",
    "# from config import config_args\n",
    "from datasets.hc_dataset import HCDataset\n",
    "from datasets.loading import load_data\n",
    "from model.hyphc import HypHC\n",
    "from utils.metrics import dasgupta_cost\n",
    "from utils.training import add_flags_from_config, get_savedir\n",
    "\n",
    "import networkx as nx\n",
    "\n",
    "import matplotlib.pyplot as plt\n",
    "from mst import mst\n",
    "\n",
    "from utils.poincare import project,hyp_dist_djj\n",
    "from utils.lca import hyp_lca\n",
    "from utils.math import arctanh, tanh, arcosh\n",
    "\n",
    "from utils.visualization import plot_tree_from_leaves,plot_geodesic\n",
    "\n",
    "\n",
    "\n",
    "from utils.lca import hyp_lca\n",
    "\n",
    "def hyp_lca_numpy(x, y):\n",
    "    \"\"\"Computes the hyperbolic LCA in numpy.\"\"\"\n",
    "    x = torch.from_numpy(x).view((1, 2))\n",
    "    y = torch.from_numpy(y).view((1, 2))\n",
    "    lca = hyp_lca(x, y, return_coord=True)\n",
    "    return lca.view((2,)).numpy()\n",
    "def is_leaf(tree, node):\n",
    "    \"\"\"check if node is a leaf in tree.\"\"\"\n",
    "    return len(list(tree.neighbors(node))) == 0\n",
    "def complete_tree(tree, leaves_embeddings):\n",
    "    \"\"\"Get embeddings of internal nodes from leaves' embeddings using LCA construction.\"\"\"\n",
    "\n",
    "    def _complete_tree(embeddings, node):\n",
    "        children = list(tree.neighbors(node))\n",
    "        if len(children) == 2:\n",
    "            left_c, right_c = children\n",
    "            left_leaf = is_leaf(tree, left_c)\n",
    "            right_leaf = is_leaf(tree, right_c)\n",
    "            if left_leaf and right_leaf:\n",
    "                pass\n",
    "            elif left_leaf and not right_leaf:\n",
    "                embeddings = _complete_tree(embeddings, right_c)\n",
    "            elif right_leaf and not left_leaf:\n",
    "                embeddings = _complete_tree(embeddings, left_c)\n",
    "            else:\n",
    "                embeddings = _complete_tree(embeddings, right_c)\n",
    "                embeddings = _complete_tree(embeddings, left_c)\n",
    "            embeddings[node] = hyp_lca_numpy(embeddings[left_c], embeddings[right_c])\n",
    "        return embeddings\n",
    "\n",
    "    n = leaves_embeddings.shape[0]\n",
    "    tree_embeddings = np.zeros((2 * n - 1, 2))\n",
    "    tree_embeddings[:n, :] = leaves_embeddings\n",
    "    root = max(list(tree.nodes()))\n",
    "    tree_embeddings = _complete_tree(tree_embeddings, root)\n",
    "    return tree_embeddings\n",
    "def train(model,dataloader,optimizer,similarities,epoches):\n",
    "    best_cost = np.inf\n",
    "    best_model = None\n",
    "    counter = 0\n",
    "    for epoch in range(epoches):\n",
    "        model.train()\n",
    "    total_loss = 0.0\n",
    "    with tqdm(total=len(dataloader), unit='ex') as bar:\n",
    "        for step, (triple_ids, triple_similarities) in enumerate(dataloader):\n",
    "            # triple_ids = triple_ids.cuda()\n",
    "            # triple_similarities = triple_similarities.cuda()\n",
    "            loss = model.loss(triple_ids, triple_similarities)\n",
    "            optimizer.zero_grad()\n",
    "            loss.backward()\n",
    "            optimizer.step()\n",
    "            bar.update(1)\n",
    "            bar.set_postfix(loss=f'{loss.item():.6f}')\n",
    "            total_loss += loss\n",
    "    total_loss = total_loss.item() / (step + 1.0)\n",
    "    print(\"\\t Epoch {} | average train loss: {:.6f}\".format(epoch, total_loss))\n",
    "\n",
    "    # keep best embeddings\n",
    "    if (epoch + 1) % 1 == 0:\n",
    "        tree = model.decode_tree(fast_decoding=1)\n",
    "        cost = dasgupta_cost(tree, similarities)\n",
    "        logging.info(\"{}:\\t{:.4f}\".format(\"Dasgupta's cost\", cost))\n",
    "        if cost < best_cost:\n",
    "            counter = 0\n",
    "            best_cost = cost\n",
    "            best_model = model.state_dict()\n",
    "        else:\n",
    "            counter += 1\n",
    "            if counter == 20:\n",
    "#                 logging.info(\"Early stopping.\")\n",
    "                return\n",
    "\n",
    "    # anneal temperature\n",
    "    if (epoch + 1) % 30 == 0:\n",
    "        model.anneal_temperature(0.5)\n",
    "#         logging.info(\"Annealing temperature to: {}\".format(model.temperature))\n",
    "        for param_group in optimizer.param_groups:\n",
    "            param_group['lr'] *= 0.5\n",
    "            lr = param_group['lr']\n",
    "        print(\"Annealing learning rate to: {}\".format(lr))\n",
    "\n",
    "    print(\"Optimization finished.\")\n",
    "    if best_model is not None:\n",
    "        # load best model\n",
    "        model.load_state_dict(best_model)\n",
    "def dist(x,y):\n",
    "    return arcosh(1+ 2*( (x-y).norm(dim=-1, p=2, keepdim=True))/((1- y.norm(dim=-1, p=2, keepdim=True))*(1- x.norm(dim=-1, p=2, keepdim=True))));\n",
    "def plot_tree_from_leaves_djj_1(ax, tree, leaves_embeddings, labels, color_seed=1234):\n",
    "    \"\"\"Plots a tree on leaves embeddings using the LCA construction.\"\"\"\n",
    "    circle = plt.Circle((0, 0), 20.0, color='r', alpha=0.1)\n",
    "    ax.add_artist(circle)\n",
    "    n = leaves_embeddings.shape[0]\n",
    "    embeddings = complete_tree(tree, leaves_embeddings)\n",
    "    colors = get_colors(labels, color_seed)\n",
    "    ax.scatter(embeddings[:n, 0]*20, embeddings[:n, 1]*20, c=colors, s=50, alpha=0.6)\n",
    "    \n",
    "    for n1, n2 in tree.edges():\n",
    "        x1 = embeddings[n1]\n",
    "        x2 = embeddings[n2]\n",
    "        plot_geodesic(x1, x2, ax)\n",
    "    # ax.set_xlim(-1.05, 1.05)\n",
    "    # ax.set_ylim(-1.05, 1.05)\n",
    "    ax.axis(\"off\")\n",
    "    return ax\n",
    "def sl_np_mst_ij(xs, S):\n",
    "    xs = project(xs).detach().cpu()\n",
    "\n",
    "    xs0 = xs[None, :, :]\n",
    "    xs1 = xs[:, None, :]\n",
    "    sim_mat = S(xs0, xs1)  # (n, n)\n",
    "    similarities = sim_mat.numpy()\n",
    "    n = similarities.shape[0]\n",
    "    similarities=similarities.astype('double')\n",
    "    ij, _ = mst.mst(similarities, n)\n",
    "    return ij\n",
    "class  UnionFind:\n",
    "    \n",
    "    def __init__(self, n , pos , c):\n",
    "        self.n = n\n",
    "        self.pos = pos\n",
    "        self.c = c\n",
    "        self.parent = [i for i in range(n)]\n",
    "        self.rank = [0 for i in range(n)]\n",
    "        self.vis = [0 for i in range(2*n-1)]\n",
    "        self.vis2 = [0 for i in range(2*n-1)]\n",
    "        self.mer = [-1 for i in range(2*n-1)]\n",
    "        self._next_id = n\n",
    "        self._tree = [-1 for i in range(2*n-1)]\n",
    "\n",
    "        self._id = [i for i in range(n)]\n",
    "\n",
    "    def _find(self, i):\n",
    "        if self.parent[i] == i:\n",
    "            return i\n",
    "        else:\n",
    "            self.parent[i] = self._find(self.parent[i])\n",
    "            return self.parent[i]\n",
    "\n",
    "    def find(self, i):\n",
    "        if (i < 0) or (i > self.n):\n",
    "            raise ValueError(\"Out of bounds index.\")\n",
    "        return self._find(i)\n",
    "\n",
    "    def union(self,  i,  j, k=True):\n",
    "        root_i = self._find(i)\n",
    "        root_j = self._find(j)\n",
    "        if root_i == root_j:\n",
    "            return False\n",
    "        else:\n",
    "            \n",
    "            if self.rank[root_i] < self.rank[root_j]:\n",
    "                self.parent[root_i] = root_j\n",
    "                if(k):\n",
    "                    self._build(root_j, root_i)\n",
    "                \n",
    "            elif self.rank[root_i] > self.rank[root_j]:\n",
    "                self.parent[root_j] = root_i\n",
    "                if(k):\n",
    "                    self._build(root_i, root_j)\n",
    "                \n",
    "            else:\n",
    "                \n",
    "                self.parent[root_j] = root_i\n",
    "                self.rank[root_i] += 1\n",
    "                if(k):\n",
    "                    self._build(root_i, root_j)\n",
    "                \n",
    "            return True\n",
    "\n",
    "\n",
    "    def merge(self,ij):\n",
    "        for k in range(ij.shape[0]):\n",
    "            a=ij[k,0];\n",
    "            b=ij[k,1];\n",
    "            if(self.mer[a]!=-1):\n",
    "                a=self.mer[a];\n",
    "            if(self.mer[b]!=-1):\n",
    "                b=self.mer[b];\n",
    "            self.union(a, b)\n",
    "\n",
    "    def  _build(self, i, j):\n",
    "#         print(self._tree[0],\"----\")\n",
    "#         if(dist(self.pos[self._id[i]],self.pos[self._id[j]])<self.c):\n",
    "            \n",
    "            \n",
    "#             print(i,j,'-',self._id[i],self._id[j]);\n",
    "#             self.vis[self._id[i]]=1;\n",
    "#             self.vis[self._id[j]]=1;\n",
    "                \n",
    "#             t=np.array(self.pos).tolist()\n",
    "#             new = np.array(hyp_lca(self.pos[self._id[i]],self.pos[self._id[j]])).tolist()\n",
    "#             t.append(new);\n",
    "#             self.pos=torch.tensor(t)\n",
    "#             self.pos[self._id[i]] = torch.tensor(new);\n",
    "#             self.pos[self._id[j]] = torch.tensor(new);\n",
    "            \n",
    "#             self.search(self._id[i]);\n",
    "#             self.search(self._id[j]);\n",
    "\n",
    "#             self._tree[self._id[i]] = self._next_id\n",
    "#             self._tree[self._id[j]] = self._next_id\n",
    "#             self._id[i] = self._next_id\n",
    "#             self._next_id += 1\n",
    "            \n",
    "#         else:\n",
    "            \n",
    "#             t=np.array(self.pos).tolist()\n",
    "#             new = np.array(hyp_lca(self.pos[self._id[i]],self.pos[self._id[j]])).tolist()\n",
    "#             t.append(new);\n",
    "#             self.pos=torch.tensor(t)\n",
    "#             self._tree[self._id[i]] = self._next_id\n",
    "#             self._tree[self._id[j]] = self._next_id\n",
    "#             self._id[i] = self._next_id\n",
    "#             self._next_id += 1\n",
    "        self.vis2[i]=1;\n",
    "        self.vis2[j]=1;\n",
    "        \n",
    "        t=np.array(self.pos).tolist()\n",
    "        new = np.array(hyp_lca(self.pos[self._id[i]],self.pos[self._id[j]])).tolist()\n",
    "        t.append(new);\n",
    "        self.pos=torch.tensor(t)\n",
    "        \n",
    "        self._tree[self._id[i]] = self._next_id\n",
    "        self._tree[self._id[j]] = self._next_id\n",
    "        self._id[i] = self._next_id\n",
    "        self.check(i);\n",
    "        self._next_id += 1\n",
    "\n",
    "    def search(self,k):\n",
    "#         for i in range(len(self.parent)):\n",
    "#             if(self.parent[i]==k):\n",
    "#                 self.parent[i]=self._next_id;\n",
    "#         print(k==-1)\n",
    "\n",
    "        for i in range(len(self._tree)):\n",
    "            if(self.vis[i]):\n",
    "                continue;            \n",
    "            if(self._tree[i]==k):\n",
    "                # print(\"sear\")\n",
    "                self._tree[i]=self._next_id;  \n",
    "                \n",
    "        for i in range(len(self._id)):\n",
    "            if(self.vis[i]):\n",
    "                continue;\n",
    "            if(self._id[i]==k):\n",
    "                # print(\"Sear\")\n",
    "                self._id[i]=self._next_id;  \n",
    "                \n",
    "    def check(self,t):\n",
    "        minnum=math.inf\n",
    "        minns=None;\n",
    "        for i in range(self.n):\n",
    "            if(self.vis[i] or self.vis2[i]):\n",
    "                continue;\n",
    "            distance = dist(self.pos[i],self.pos[-1]);\n",
    "            if(distance<self.c and distance < minnum):\n",
    "                minnum = distance\n",
    "                minns = i;\n",
    "                \n",
    "#                 print(\"merge {} in {}\".format(i,t))\n",
    "#                 self.parent[i]=t;\n",
    "#                 self.vis[i]=1;\n",
    "#                 self.search(i);\n",
    "        if(minns != None):\n",
    "            # print(\"merge {} in {}\".format(minns,self._next_id))\n",
    "            self.vis[minns]=1;\n",
    "            self.rank[minns]=-1;\n",
    "            self.pos[minns] = self.pos[-1]\n",
    "#             self.search(minns);\n",
    "            self.mer[minns]=t;\n",
    "            self.mer[self._next_id] = minns;\n",
    "#             self.union(t,minns,False);\n",
    "        \n",
    "    def parent(self):\n",
    "        return [self.parent[i] for i in range(self.n)]\n",
    "\n",
    "    def tree(self):\n",
    "        return [self._tree[i] for i in range(len(self._tree))]\n",
    "def get_colors(y, color_seed=1234):\n",
    "    \"\"\"random color assignment for label classes.\"\"\"\n",
    "    np.random.seed(color_seed)\n",
    "    colors = {}\n",
    "    for k in np.unique(y):\n",
    "        r = np.random.random()\n",
    "        b = np.random.random()\n",
    "        g = np.random.random()\n",
    "        colors[k] = (r, g, b)\n",
    "    return [colors[k] for k in y]\n",
    "\n",
    "\n",
    "def get_Hyper_tree(data_path,start,end,lable,epoches,model_path=None,save_path='./',c=-1):\n",
    "    np.random.seed(1234)\n",
    "    torch.manual_seed(1234)\n",
    "    # x, y_true, similarities = load_data('../../../cityu/HypHC/data/4_8/4_8.data',start,end,lable)\n",
    "    x, y_true, similarities = load_data(data_path,start,end,lable)\n",
    "    print(\"{} length:{}\".format(data_path,len(y_true)));\n",
    "    dataset = HCDataset(x, y_true, similarities, num_samples=50000)\n",
    "    dataloader = data.DataLoader(dataset, batch_size=32, shuffle=True, num_workers=8, pin_memory=True)\n",
    "    if(model_path ==None):\n",
    "        model = HypHC(dataset.n_nodes, 2, 5e-2, 5e-2 ,0.999)\n",
    "        model.to(\"cpu\")\n",
    "        Optimizer = getattr(optim, 'RAdam')\n",
    "        optimizer = Optimizer(model.parameters(),0.0005)\n",
    "        train(model,dataloader,optimizer,similarities,epoches);\n",
    "        torch.save(model,save_path+'model.pth');\n",
    "    else:\n",
    "        params = torch.load((model_path), map_location=torch.device('cpu'))\n",
    "        model.load_state_dict(params, strict=False)\n",
    "    model.eval()\n",
    "    sim_fn = lambda x, y: torch.sum(x * y, dim=-1)\n",
    "    n=len(x);\n",
    "    d = model.normalize_embeddings(model.embeddings.weight.data)\n",
    "    d = project(d).detach().cpu()\n",
    "    ijs = sl_np_mst_ij(d,sim_fn)\n",
    "    uf = UnionFind(n,d,c)\n",
    "    uf.merge(ijs)\n",
    "    count=0\n",
    "\n",
    "    tree = nx.DiGraph()\n",
    "    for i, j in enumerate(uf.tree()[:-1]):\n",
    "        if(j!=-1):\n",
    "            tree.add_edge(j, i)\n",
    "            \n",
    "    fig = plt.figure(figsize=(15, 15))\n",
    "    ax = fig.add_subplot(111)\n",
    "    circle = plt.Circle((0, 0), 20.0, color='r', alpha=0.1)\n",
    "    ax.add_artist(circle)\n",
    "\n",
    "    n = len(d)\n",
    "    embeddings = np.array(uf.pos)\n",
    "    # for i in range(len(embeddings)):\n",
    "    #     if(np.isnan(embeddings[i][0]) or embeddings[i][0] + embeddings[i][1] == 0):\n",
    "    #         embeddings[i] = embeddings[i-1];\n",
    "    #     pass;\n",
    "    # print(embeddings)\n",
    "    where_are_NaNs = np.isnan(embeddings)\n",
    "    embeddings[where_are_NaNs] = 0\n",
    "    vis = uf.vis\n",
    "    # xlist=[]\n",
    "    # ylist=[]\n",
    "    # labels=[]\n",
    "\n",
    "    # for i in range(n):\n",
    "    #     if(uf.vis[i]!=1):\n",
    "    #         xlist.append(embeddings[i,0]*20);\n",
    "    #         ylist.append(embeddings[i,1]*20);\n",
    "    #         labels.append(y_true[i]);\n",
    "    # # colors = get_colors(labels, 1234)\n",
    "    colors = get_colors(y_true, 1234)\n",
    "\n",
    "    # ax.scatter(xlist, ylist, c=colors, s=50, alpha=0.6)\n",
    "\n",
    "    ax.scatter(embeddings[:n, 0]*20, embeddings[:n, 1]*20, c=colors, s=50, alpha=0.6)\n",
    "\n",
    "    for i in range(len(embeddings)):\n",
    "        if(i<n):\n",
    "            continue;\n",
    "        if(uf.mer[i]!=-1):\n",
    "            # print(i,'pass')\n",
    "            pass;\n",
    "        else:\n",
    "            ax.scatter(embeddings[i][0]*20,embeddings[i][1]*20,color='black',s=20,alpha=0.7)\n",
    "\n",
    "        \n",
    "\n",
    "    for n1, n2 in tree.edges():\n",
    "    #     if(uf.vis[n1]== 1 or uf.vis[n2]== 1 ):\n",
    "    # #         print(\"1\")\n",
    "    #         pass\n",
    "    #     else:\n",
    "    #         x1 = embeddings[n1]\n",
    "    #         x2 = embeddings[n2]\n",
    "    # #         if(n1>=n):\n",
    "    # #             if(uf.mer[n1]!=-1):\n",
    "    # #                 pass;\n",
    "    # #             else:\n",
    "    # #                 count+=1;\n",
    "    # #         if(n2>n):\n",
    "    # #             if(uf.mer[n1]!=-1):\n",
    "    # # # \n",
    "    # #                 pass;\n",
    "    # #             else:\n",
    "    # # #                 ax.scatter(x2[0]*20,x2[1]*20,color='black',s=20,alpha=0.7)\n",
    "    # #                 count+=1\n",
    "        \n",
    "        \n",
    "    #         plot_geodesic(x1, x2, ax)\n",
    "    # #         print(x1,x2,n1,n2)\n",
    "    # #         break\n",
    "    #         pass\n",
    "\n",
    "    #     ax.axis(\"off\")\n",
    "        x1 = embeddings[n1];\n",
    "        x2 = embeddings[n2];\n",
    "        plot_geodesic(x1,x2,ax)\n",
    "    fig.savefig(save_path+\"graph.png\");\n",
    "    np.save(save_path+\"dataxy.npy\",embeddings)\n",
    "    np.save(save_path+\"datalink.npy\",list(tree.edges()))\n",
    "    np.save(save_path+\"datamerge.npy\",uf.mer)"
   ]
  },
  {
   "cell_type": "code",
   "execution_count": 2,
   "metadata": {},
   "outputs": [],
   "source": [
    "x, y_true, similarities = load_data('./datas/data1/datas.data',1,514,0)\n"
   ]
  },
  {
   "cell_type": "code",
   "execution_count": 3,
   "metadata": {},
   "outputs": [
    {
     "name": "stdout",
     "output_type": "stream",
     "text": [
      "./datas/data1/datas.data length:26\n",
      "Generating all pairs superset\n"
     ]
    },
    {
     "name": "stderr",
     "output_type": "stream",
     "text": [
      "100%|██████████| 1563/1563 [01:00<00:00, 25.76ex/s, loss=1.377340] \n",
      "/var/folders/bm/69jvgsdj3rxch558kx9yp9y00000gn/T/ipykernel_77600/836080252.py:147: DeprecationWarning: `np.int` is a deprecated alias for the builtin `int`. To silence this warning, use `int` by itself. Doing this will not modify any behavior and is safe. When replacing `np.int`, you may wish to use e.g. `np.int64` or `np.int32` to specify the precision. If you wish to review your current use, check the release note link for additional information.\n",
      "Deprecated in NumPy 1.20; for more details and guidance: https://numpy.org/devdocs/release/1.20.0-notes.html#deprecations\n",
      "  ij, _ = mst.mst(similarities, n)\n"
     ]
    },
    {
     "name": "stdout",
     "output_type": "stream",
     "text": [
      "\t Epoch 9 | average train loss: 1.405255\n",
      "Optimization finished.\n"
     ]
    }
   ],
   "source": [
    "data_path = './datas/data1/datas.data'\n",
    "start = 1\n",
    "end =514\n",
    "lable = 0\n",
    "model_path = None;\n",
    "save_path = './'\n",
    "epoches=10\n",
    "c=-1\n",
    "np.random.seed(1234)\n",
    "torch.manual_seed(1234)\n",
    "# x, y_true, similarities = load_data('../../../cityu/HypHC/data/4_8/4_8.data',start,end,lable)\n",
    "x, y_true, similarities = load_data(data_path,start,end,lable)\n",
    "print(\"{} length:{}\".format(data_path,len(y_true)));\n",
    "dataset = HCDataset(x, y_true, similarities, num_samples=50000)\n",
    "dataloader = data.DataLoader(dataset, batch_size=32, shuffle=True, num_workers=8, pin_memory=True)\n",
    "if(model_path ==None):\n",
    "    model = HypHC(dataset.n_nodes, 2, 5e-2, 5e-2 ,0.999)\n",
    "    model.to(\"cpu\")\n",
    "    Optimizer = getattr(optim, 'RAdam')\n",
    "    optimizer = Optimizer(model.parameters(),0.0005)\n",
    "    train(model,dataloader,optimizer,similarities,epoches);\n",
    "    torch.save(model,save_path+'model.pth');\n",
    "else:\n",
    "    params = torch.load((model_path), map_location=torch.device('cpu'))\n",
    "    model.load_state_dict(params, strict=False)\n",
    "model.eval()\n",
    "sim_fn = lambda x, y: torch.sum(x * y, dim=-1)\n",
    "n=len(x);\n",
    "d = model.normalize_embeddings(model.embeddings.weight.data)\n",
    "d = project(d).detach().cpu()\n",
    "ijs = sl_np_mst_ij(d,sim_fn)\n",
    "uf = UnionFind(n,d,c)\n",
    "uf.merge(ijs)\n",
    "count=0\n"
   ]
  },
  {
   "cell_type": "code",
   "execution_count": 8,
   "metadata": {},
   "outputs": [],
   "source": [
    "from alignment import node\n",
    "from alignment import show_tree\n",
    "embeddings = np.array(uf.pos)\n"
   ]
  },
  {
   "cell_type": "code",
   "execution_count": 30,
   "metadata": {},
   "outputs": [],
   "source": [
    "nodes1 = [node(name=str(i),son=[]) for i in range(len(uf.tree()))]\n",
    "for i,j in enumerate(uf.tree()):\n",
    "    if(j!=-1):\n",
    "        nodes1[j].son.append(nodes1[i])\n",
    "    nodes1[i].value=embeddings[i];\n",
    "    nodes1[i].subson=0\n",
    "    # if(i==49):\n",
    "    #     break\n"
   ]
  },
  {
   "cell_type": "code",
   "execution_count": 31,
   "metadata": {},
   "outputs": [],
   "source": [
    "def search_tree(now,c):\n",
    "    if(len(now.son) != 2):\n",
    "        return now;\n",
    "    lson = search_tree(now.son[0],c);\n",
    "    now.son[0] = lson;\n",
    "    rson = search_tree(now.son[1],c);\n",
    "    now.son[1] = rson\n",
    "    # lson = now.son[0]\n",
    "    # rson = now.son[1]\n",
    "    if(np.linalg.norm(lson.value-rson.value)<=c):\n",
    "        if(len(lson.son)>1 and len(rson.son)>1):\n",
    "            pass\n",
    "        elif(len(lson.son)>1):\n",
    "            now = rson;\n",
    "            now.son.append(lson);\n",
    "        else:\n",
    "            now = lson;\n",
    "            now.son.append(rson)\n",
    "    # exit(0)\n",
    "    return now;\n",
    "            "
   ]
  },
  {
   "cell_type": "code",
   "execution_count": 56,
   "metadata": {},
   "outputs": [
    {
     "data": {
      "application/vnd.plotly.v1+json": {
       "config": {
        "plotlyServerURL": "https://plot.ly"
       },
       "data": [
        {
         "hoverinfo": "text",
         "marker": {
          "color": [
           0.01253793016076088,
           0.21880321204662323,
           0.2668120563030243,
           0.26766109466552734,
           0.26734301447868347,
           0.26766106486320496,
           0.2675221860408783,
           0.26766106486320496,
           0.2676135301589966,
           0.26766106486320496,
           0.26766106486320496,
           0.23823554813861847,
           0.26766106486320496,
           0.2549760043621063,
           0.266938179731369,
           0.26766106486320496,
           0.2676302492618561,
           0.26766106486320496,
           0.2676606774330139,
           0.26766103506088257,
           0.26766106486320496,
           0.2645612061023712,
           0.26766106486320496,
           0.26762375235557556,
           0.26766106486320496,
           0.26766106486320496,
           0.2210981696844101,
           0.2663002610206604,
           0.26738667488098145,
           0.26764848828315735,
           0.26766103506088257,
           0.26766103506088257,
           0.26757967472076416,
           0.26766103506088257,
           0.2676437497138977,
           0.26766103506088257,
           0.26766079664230347,
           0.26766106486320496,
           0.26766106486320496,
           0.2675364911556244,
           0.26766106486320496,
           0.26766106486320496,
           0.2651066184043884,
           0.2672974467277527,
           0.26766106486320496,
           0.26757287979125977,
           0.26766103506088257,
           0.26766109466552734,
           0.2672997713088989,
           0.26766106486320496,
           0.26766106486320496
          ],
          "colorscale": [
           [
            0,
            "rgb(253, 224, 197)"
           ],
           [
            0.16666666666666666,
            "rgb(250, 203, 166)"
           ],
           [
            0.3333333333333333,
            "rgb(248, 181, 139)"
           ],
           [
            0.5,
            "rgb(245, 158, 114)"
           ],
           [
            0.6666666666666666,
            "rgb(242, 133, 93)"
           ],
           [
            0.8333333333333334,
            "rgb(239, 106, 76)"
           ],
           [
            1,
            "rgb(235, 74, 64)"
           ]
          ],
          "showscale": true,
          "size": 50,
          "symbol": "circle-dot"
         },
         "mode": "markers+text",
         "opacity": 0.8,
         "text": [
          "50",
          "48",
          "39",
          "19",
          "37",
          "22",
          "34",
          "15",
          "33",
          "17",
          "18",
          "47",
          "21",
          "46",
          "43",
          "20",
          "30",
          "16",
          "27",
          "14",
          "25",
          "45",
          "23",
          "31",
          "6",
          "24",
          "49",
          "41",
          "35",
          "28",
          "3",
          "4",
          "32",
          "7",
          "29",
          "12",
          "26",
          "8",
          "10",
          "38",
          "11",
          "13",
          "44",
          "40",
          "9",
          "36",
          "0",
          "2",
          "42",
          "1",
          "5"
         ],
         "textfont": {
          "color": "#000000",
          "family": "sans serif",
          "size": 18
         },
         "type": "scatter",
         "x": [
          5.5,
          3.25,
          2.125,
          1.5625,
          2.6875,
          2.40625,
          2.96875,
          2.828125,
          3.109375,
          3.0390625,
          3.1796875,
          4.375,
          3.8125,
          4.9375,
          4.65625,
          4.515625,
          4.796875,
          4.7265625,
          4.8671875,
          4.83203125,
          4.90234375,
          5.21875,
          5.078125,
          5.359375,
          5.2890625,
          5.4296875,
          7.75,
          6.625,
          6.0625,
          5.78125,
          5.640625,
          5.921875,
          6.34375,
          6.203125,
          6.484375,
          6.4140625,
          6.5546875,
          6.51953125,
          6.58984375,
          7.1875,
          6.90625,
          7.46875,
          8.875,
          8.3125,
          8.03125,
          8.59375,
          8.453125,
          8.734375,
          9.4375,
          9.15625,
          9.71875
         ],
         "y": [
          5,
          3.5,
          2,
          0.5,
          0.5,
          -1,
          -1,
          -2.5,
          -2.5,
          -4,
          -4,
          2,
          0.5,
          0.5,
          -1,
          -2.5,
          -2.5,
          -4,
          -4,
          -5.5,
          -5.5,
          -1,
          -2.5,
          -2.5,
          -4,
          -4,
          3.5,
          2,
          0.5,
          -1,
          -2.5,
          -2.5,
          -1,
          -2.5,
          -2.5,
          -4,
          -4,
          -5.5,
          -5.5,
          0.5,
          -1,
          -1,
          2,
          0.5,
          -1,
          -1,
          -2.5,
          -2.5,
          0.5,
          -1,
          -1
         ]
        }
       ],
       "layout": {
        "height": 500,
        "shapes": [
         {
          "layer": "below",
          "line": {
           "color": "#333",
           "width": 4
          },
          "type": "line",
          "x0": 5.5,
          "x1": 5.5,
          "y0": 5,
          "y1": 5
         },
         {
          "layer": "below",
          "line": {
           "color": "#333",
           "width": 4
          },
          "type": "line",
          "x0": 5.5,
          "x1": 3.25,
          "y0": 5,
          "y1": 3.5
         },
         {
          "layer": "below",
          "line": {
           "color": "#333",
           "width": 4
          },
          "type": "line",
          "x0": 3.25,
          "x1": 2.125,
          "y0": 3.5,
          "y1": 2
         },
         {
          "layer": "below",
          "line": {
           "color": "#333",
           "width": 4
          },
          "type": "line",
          "x0": 2.125,
          "x1": 1.5625,
          "y0": 2,
          "y1": 0.5
         },
         {
          "layer": "below",
          "line": {
           "color": "#333",
           "width": 4
          },
          "type": "line",
          "x0": 2.125,
          "x1": 2.6875,
          "y0": 2,
          "y1": 0.5
         },
         {
          "layer": "below",
          "line": {
           "color": "#333",
           "width": 4
          },
          "type": "line",
          "x0": 2.6875,
          "x1": 2.40625,
          "y0": 0.5,
          "y1": -1
         },
         {
          "layer": "below",
          "line": {
           "color": "#333",
           "width": 4
          },
          "type": "line",
          "x0": 2.6875,
          "x1": 2.96875,
          "y0": 0.5,
          "y1": -1
         },
         {
          "layer": "below",
          "line": {
           "color": "#333",
           "width": 4
          },
          "type": "line",
          "x0": 2.96875,
          "x1": 2.828125,
          "y0": -1,
          "y1": -2.5
         },
         {
          "layer": "below",
          "line": {
           "color": "#333",
           "width": 4
          },
          "type": "line",
          "x0": 2.96875,
          "x1": 3.109375,
          "y0": -1,
          "y1": -2.5
         },
         {
          "layer": "below",
          "line": {
           "color": "#333",
           "width": 4
          },
          "type": "line",
          "x0": 3.109375,
          "x1": 3.0390625,
          "y0": -2.5,
          "y1": -4
         },
         {
          "layer": "below",
          "line": {
           "color": "#333",
           "width": 4
          },
          "type": "line",
          "x0": 3.109375,
          "x1": 3.1796875,
          "y0": -2.5,
          "y1": -4
         },
         {
          "layer": "below",
          "line": {
           "color": "#333",
           "width": 4
          },
          "type": "line",
          "x0": 3.25,
          "x1": 4.375,
          "y0": 3.5,
          "y1": 2
         },
         {
          "layer": "below",
          "line": {
           "color": "#333",
           "width": 4
          },
          "type": "line",
          "x0": 4.375,
          "x1": 3.8125,
          "y0": 2,
          "y1": 0.5
         },
         {
          "layer": "below",
          "line": {
           "color": "#333",
           "width": 4
          },
          "type": "line",
          "x0": 4.375,
          "x1": 4.9375,
          "y0": 2,
          "y1": 0.5
         },
         {
          "layer": "below",
          "line": {
           "color": "#333",
           "width": 4
          },
          "type": "line",
          "x0": 4.9375,
          "x1": 4.65625,
          "y0": 0.5,
          "y1": -1
         },
         {
          "layer": "below",
          "line": {
           "color": "#333",
           "width": 4
          },
          "type": "line",
          "x0": 4.65625,
          "x1": 4.515625,
          "y0": -1,
          "y1": -2.5
         },
         {
          "layer": "below",
          "line": {
           "color": "#333",
           "width": 4
          },
          "type": "line",
          "x0": 4.65625,
          "x1": 4.796875,
          "y0": -1,
          "y1": -2.5
         },
         {
          "layer": "below",
          "line": {
           "color": "#333",
           "width": 4
          },
          "type": "line",
          "x0": 4.796875,
          "x1": 4.7265625,
          "y0": -2.5,
          "y1": -4
         },
         {
          "layer": "below",
          "line": {
           "color": "#333",
           "width": 4
          },
          "type": "line",
          "x0": 4.796875,
          "x1": 4.8671875,
          "y0": -2.5,
          "y1": -4
         },
         {
          "layer": "below",
          "line": {
           "color": "#333",
           "width": 4
          },
          "type": "line",
          "x0": 4.8671875,
          "x1": 4.83203125,
          "y0": -4,
          "y1": -5.5
         },
         {
          "layer": "below",
          "line": {
           "color": "#333",
           "width": 4
          },
          "type": "line",
          "x0": 4.8671875,
          "x1": 4.90234375,
          "y0": -4,
          "y1": -5.5
         },
         {
          "layer": "below",
          "line": {
           "color": "#333",
           "width": 4
          },
          "type": "line",
          "x0": 4.9375,
          "x1": 5.21875,
          "y0": 0.5,
          "y1": -1
         },
         {
          "layer": "below",
          "line": {
           "color": "#333",
           "width": 4
          },
          "type": "line",
          "x0": 5.21875,
          "x1": 5.078125,
          "y0": -1,
          "y1": -2.5
         },
         {
          "layer": "below",
          "line": {
           "color": "#333",
           "width": 4
          },
          "type": "line",
          "x0": 5.21875,
          "x1": 5.359375,
          "y0": -1,
          "y1": -2.5
         },
         {
          "layer": "below",
          "line": {
           "color": "#333",
           "width": 4
          },
          "type": "line",
          "x0": 5.359375,
          "x1": 5.2890625,
          "y0": -2.5,
          "y1": -4
         },
         {
          "layer": "below",
          "line": {
           "color": "#333",
           "width": 4
          },
          "type": "line",
          "x0": 5.359375,
          "x1": 5.4296875,
          "y0": -2.5,
          "y1": -4
         },
         {
          "layer": "below",
          "line": {
           "color": "#333",
           "width": 4
          },
          "type": "line",
          "x0": 5.5,
          "x1": 7.75,
          "y0": 5,
          "y1": 3.5
         },
         {
          "layer": "below",
          "line": {
           "color": "#333",
           "width": 4
          },
          "type": "line",
          "x0": 7.75,
          "x1": 6.625,
          "y0": 3.5,
          "y1": 2
         },
         {
          "layer": "below",
          "line": {
           "color": "#333",
           "width": 4
          },
          "type": "line",
          "x0": 6.625,
          "x1": 6.0625,
          "y0": 2,
          "y1": 0.5
         },
         {
          "layer": "below",
          "line": {
           "color": "#333",
           "width": 4
          },
          "type": "line",
          "x0": 6.0625,
          "x1": 5.78125,
          "y0": 0.5,
          "y1": -1
         },
         {
          "layer": "below",
          "line": {
           "color": "#333",
           "width": 4
          },
          "type": "line",
          "x0": 5.78125,
          "x1": 5.640625,
          "y0": -1,
          "y1": -2.5
         },
         {
          "layer": "below",
          "line": {
           "color": "#333",
           "width": 4
          },
          "type": "line",
          "x0": 5.78125,
          "x1": 5.921875,
          "y0": -1,
          "y1": -2.5
         },
         {
          "layer": "below",
          "line": {
           "color": "#333",
           "width": 4
          },
          "type": "line",
          "x0": 6.0625,
          "x1": 6.34375,
          "y0": 0.5,
          "y1": -1
         },
         {
          "layer": "below",
          "line": {
           "color": "#333",
           "width": 4
          },
          "type": "line",
          "x0": 6.34375,
          "x1": 6.203125,
          "y0": -1,
          "y1": -2.5
         },
         {
          "layer": "below",
          "line": {
           "color": "#333",
           "width": 4
          },
          "type": "line",
          "x0": 6.34375,
          "x1": 6.484375,
          "y0": -1,
          "y1": -2.5
         },
         {
          "layer": "below",
          "line": {
           "color": "#333",
           "width": 4
          },
          "type": "line",
          "x0": 6.484375,
          "x1": 6.4140625,
          "y0": -2.5,
          "y1": -4
         },
         {
          "layer": "below",
          "line": {
           "color": "#333",
           "width": 4
          },
          "type": "line",
          "x0": 6.484375,
          "x1": 6.5546875,
          "y0": -2.5,
          "y1": -4
         },
         {
          "layer": "below",
          "line": {
           "color": "#333",
           "width": 4
          },
          "type": "line",
          "x0": 6.5546875,
          "x1": 6.51953125,
          "y0": -4,
          "y1": -5.5
         },
         {
          "layer": "below",
          "line": {
           "color": "#333",
           "width": 4
          },
          "type": "line",
          "x0": 6.5546875,
          "x1": 6.58984375,
          "y0": -4,
          "y1": -5.5
         },
         {
          "layer": "below",
          "line": {
           "color": "#333",
           "width": 4
          },
          "type": "line",
          "x0": 6.625,
          "x1": 7.1875,
          "y0": 2,
          "y1": 0.5
         },
         {
          "layer": "below",
          "line": {
           "color": "#333",
           "width": 4
          },
          "type": "line",
          "x0": 7.1875,
          "x1": 6.90625,
          "y0": 0.5,
          "y1": -1
         },
         {
          "layer": "below",
          "line": {
           "color": "#333",
           "width": 4
          },
          "type": "line",
          "x0": 7.1875,
          "x1": 7.46875,
          "y0": 0.5,
          "y1": -1
         },
         {
          "layer": "below",
          "line": {
           "color": "#333",
           "width": 4
          },
          "type": "line",
          "x0": 7.75,
          "x1": 8.875,
          "y0": 3.5,
          "y1": 2
         },
         {
          "layer": "below",
          "line": {
           "color": "#333",
           "width": 4
          },
          "type": "line",
          "x0": 8.875,
          "x1": 8.3125,
          "y0": 2,
          "y1": 0.5
         },
         {
          "layer": "below",
          "line": {
           "color": "#333",
           "width": 4
          },
          "type": "line",
          "x0": 8.3125,
          "x1": 8.03125,
          "y0": 0.5,
          "y1": -1
         },
         {
          "layer": "below",
          "line": {
           "color": "#333",
           "width": 4
          },
          "type": "line",
          "x0": 8.3125,
          "x1": 8.59375,
          "y0": 0.5,
          "y1": -1
         },
         {
          "layer": "below",
          "line": {
           "color": "#333",
           "width": 4
          },
          "type": "line",
          "x0": 8.59375,
          "x1": 8.453125,
          "y0": -1,
          "y1": -2.5
         },
         {
          "layer": "below",
          "line": {
           "color": "#333",
           "width": 4
          },
          "type": "line",
          "x0": 8.59375,
          "x1": 8.734375,
          "y0": -1,
          "y1": -2.5
         },
         {
          "layer": "below",
          "line": {
           "color": "#333",
           "width": 4
          },
          "type": "line",
          "x0": 8.875,
          "x1": 9.4375,
          "y0": 2,
          "y1": 0.5
         },
         {
          "layer": "below",
          "line": {
           "color": "#333",
           "width": 4
          },
          "type": "line",
          "x0": 9.4375,
          "x1": 9.15625,
          "y0": 0.5,
          "y1": -1
         },
         {
          "layer": "below",
          "line": {
           "color": "#333",
           "width": 4
          },
          "type": "line",
          "x0": 9.4375,
          "x1": 9.71875,
          "y0": 0.5,
          "y1": -1
         }
        ],
        "template": {
         "data": {
          "bar": [
           {
            "error_x": {
             "color": "#2a3f5f"
            },
            "error_y": {
             "color": "#2a3f5f"
            },
            "marker": {
             "line": {
              "color": "#E5ECF6",
              "width": 0.5
             },
             "pattern": {
              "fillmode": "overlay",
              "size": 10,
              "solidity": 0.2
             }
            },
            "type": "bar"
           }
          ],
          "barpolar": [
           {
            "marker": {
             "line": {
              "color": "#E5ECF6",
              "width": 0.5
             },
             "pattern": {
              "fillmode": "overlay",
              "size": 10,
              "solidity": 0.2
             }
            },
            "type": "barpolar"
           }
          ],
          "carpet": [
           {
            "aaxis": {
             "endlinecolor": "#2a3f5f",
             "gridcolor": "white",
             "linecolor": "white",
             "minorgridcolor": "white",
             "startlinecolor": "#2a3f5f"
            },
            "baxis": {
             "endlinecolor": "#2a3f5f",
             "gridcolor": "white",
             "linecolor": "white",
             "minorgridcolor": "white",
             "startlinecolor": "#2a3f5f"
            },
            "type": "carpet"
           }
          ],
          "choropleth": [
           {
            "colorbar": {
             "outlinewidth": 0,
             "ticks": ""
            },
            "type": "choropleth"
           }
          ],
          "contour": [
           {
            "colorbar": {
             "outlinewidth": 0,
             "ticks": ""
            },
            "colorscale": [
             [
              0,
              "#0d0887"
             ],
             [
              0.1111111111111111,
              "#46039f"
             ],
             [
              0.2222222222222222,
              "#7201a8"
             ],
             [
              0.3333333333333333,
              "#9c179e"
             ],
             [
              0.4444444444444444,
              "#bd3786"
             ],
             [
              0.5555555555555556,
              "#d8576b"
             ],
             [
              0.6666666666666666,
              "#ed7953"
             ],
             [
              0.7777777777777778,
              "#fb9f3a"
             ],
             [
              0.8888888888888888,
              "#fdca26"
             ],
             [
              1,
              "#f0f921"
             ]
            ],
            "type": "contour"
           }
          ],
          "contourcarpet": [
           {
            "colorbar": {
             "outlinewidth": 0,
             "ticks": ""
            },
            "type": "contourcarpet"
           }
          ],
          "heatmap": [
           {
            "colorbar": {
             "outlinewidth": 0,
             "ticks": ""
            },
            "colorscale": [
             [
              0,
              "#0d0887"
             ],
             [
              0.1111111111111111,
              "#46039f"
             ],
             [
              0.2222222222222222,
              "#7201a8"
             ],
             [
              0.3333333333333333,
              "#9c179e"
             ],
             [
              0.4444444444444444,
              "#bd3786"
             ],
             [
              0.5555555555555556,
              "#d8576b"
             ],
             [
              0.6666666666666666,
              "#ed7953"
             ],
             [
              0.7777777777777778,
              "#fb9f3a"
             ],
             [
              0.8888888888888888,
              "#fdca26"
             ],
             [
              1,
              "#f0f921"
             ]
            ],
            "type": "heatmap"
           }
          ],
          "heatmapgl": [
           {
            "colorbar": {
             "outlinewidth": 0,
             "ticks": ""
            },
            "colorscale": [
             [
              0,
              "#0d0887"
             ],
             [
              0.1111111111111111,
              "#46039f"
             ],
             [
              0.2222222222222222,
              "#7201a8"
             ],
             [
              0.3333333333333333,
              "#9c179e"
             ],
             [
              0.4444444444444444,
              "#bd3786"
             ],
             [
              0.5555555555555556,
              "#d8576b"
             ],
             [
              0.6666666666666666,
              "#ed7953"
             ],
             [
              0.7777777777777778,
              "#fb9f3a"
             ],
             [
              0.8888888888888888,
              "#fdca26"
             ],
             [
              1,
              "#f0f921"
             ]
            ],
            "type": "heatmapgl"
           }
          ],
          "histogram": [
           {
            "marker": {
             "pattern": {
              "fillmode": "overlay",
              "size": 10,
              "solidity": 0.2
             }
            },
            "type": "histogram"
           }
          ],
          "histogram2d": [
           {
            "colorbar": {
             "outlinewidth": 0,
             "ticks": ""
            },
            "colorscale": [
             [
              0,
              "#0d0887"
             ],
             [
              0.1111111111111111,
              "#46039f"
             ],
             [
              0.2222222222222222,
              "#7201a8"
             ],
             [
              0.3333333333333333,
              "#9c179e"
             ],
             [
              0.4444444444444444,
              "#bd3786"
             ],
             [
              0.5555555555555556,
              "#d8576b"
             ],
             [
              0.6666666666666666,
              "#ed7953"
             ],
             [
              0.7777777777777778,
              "#fb9f3a"
             ],
             [
              0.8888888888888888,
              "#fdca26"
             ],
             [
              1,
              "#f0f921"
             ]
            ],
            "type": "histogram2d"
           }
          ],
          "histogram2dcontour": [
           {
            "colorbar": {
             "outlinewidth": 0,
             "ticks": ""
            },
            "colorscale": [
             [
              0,
              "#0d0887"
             ],
             [
              0.1111111111111111,
              "#46039f"
             ],
             [
              0.2222222222222222,
              "#7201a8"
             ],
             [
              0.3333333333333333,
              "#9c179e"
             ],
             [
              0.4444444444444444,
              "#bd3786"
             ],
             [
              0.5555555555555556,
              "#d8576b"
             ],
             [
              0.6666666666666666,
              "#ed7953"
             ],
             [
              0.7777777777777778,
              "#fb9f3a"
             ],
             [
              0.8888888888888888,
              "#fdca26"
             ],
             [
              1,
              "#f0f921"
             ]
            ],
            "type": "histogram2dcontour"
           }
          ],
          "mesh3d": [
           {
            "colorbar": {
             "outlinewidth": 0,
             "ticks": ""
            },
            "type": "mesh3d"
           }
          ],
          "parcoords": [
           {
            "line": {
             "colorbar": {
              "outlinewidth": 0,
              "ticks": ""
             }
            },
            "type": "parcoords"
           }
          ],
          "pie": [
           {
            "automargin": true,
            "type": "pie"
           }
          ],
          "scatter": [
           {
            "fillpattern": {
             "fillmode": "overlay",
             "size": 10,
             "solidity": 0.2
            },
            "type": "scatter"
           }
          ],
          "scatter3d": [
           {
            "line": {
             "colorbar": {
              "outlinewidth": 0,
              "ticks": ""
             }
            },
            "marker": {
             "colorbar": {
              "outlinewidth": 0,
              "ticks": ""
             }
            },
            "type": "scatter3d"
           }
          ],
          "scattercarpet": [
           {
            "marker": {
             "colorbar": {
              "outlinewidth": 0,
              "ticks": ""
             }
            },
            "type": "scattercarpet"
           }
          ],
          "scattergeo": [
           {
            "marker": {
             "colorbar": {
              "outlinewidth": 0,
              "ticks": ""
             }
            },
            "type": "scattergeo"
           }
          ],
          "scattergl": [
           {
            "marker": {
             "colorbar": {
              "outlinewidth": 0,
              "ticks": ""
             }
            },
            "type": "scattergl"
           }
          ],
          "scattermapbox": [
           {
            "marker": {
             "colorbar": {
              "outlinewidth": 0,
              "ticks": ""
             }
            },
            "type": "scattermapbox"
           }
          ],
          "scatterpolar": [
           {
            "marker": {
             "colorbar": {
              "outlinewidth": 0,
              "ticks": ""
             }
            },
            "type": "scatterpolar"
           }
          ],
          "scatterpolargl": [
           {
            "marker": {
             "colorbar": {
              "outlinewidth": 0,
              "ticks": ""
             }
            },
            "type": "scatterpolargl"
           }
          ],
          "scatterternary": [
           {
            "marker": {
             "colorbar": {
              "outlinewidth": 0,
              "ticks": ""
             }
            },
            "type": "scatterternary"
           }
          ],
          "surface": [
           {
            "colorbar": {
             "outlinewidth": 0,
             "ticks": ""
            },
            "colorscale": [
             [
              0,
              "#0d0887"
             ],
             [
              0.1111111111111111,
              "#46039f"
             ],
             [
              0.2222222222222222,
              "#7201a8"
             ],
             [
              0.3333333333333333,
              "#9c179e"
             ],
             [
              0.4444444444444444,
              "#bd3786"
             ],
             [
              0.5555555555555556,
              "#d8576b"
             ],
             [
              0.6666666666666666,
              "#ed7953"
             ],
             [
              0.7777777777777778,
              "#fb9f3a"
             ],
             [
              0.8888888888888888,
              "#fdca26"
             ],
             [
              1,
              "#f0f921"
             ]
            ],
            "type": "surface"
           }
          ],
          "table": [
           {
            "cells": {
             "fill": {
              "color": "#EBF0F8"
             },
             "line": {
              "color": "white"
             }
            },
            "header": {
             "fill": {
              "color": "#C8D4E3"
             },
             "line": {
              "color": "white"
             }
            },
            "type": "table"
           }
          ]
         },
         "layout": {
          "annotationdefaults": {
           "arrowcolor": "#2a3f5f",
           "arrowhead": 0,
           "arrowwidth": 1
          },
          "autotypenumbers": "strict",
          "coloraxis": {
           "colorbar": {
            "outlinewidth": 0,
            "ticks": ""
           }
          },
          "colorscale": {
           "diverging": [
            [
             0,
             "#8e0152"
            ],
            [
             0.1,
             "#c51b7d"
            ],
            [
             0.2,
             "#de77ae"
            ],
            [
             0.3,
             "#f1b6da"
            ],
            [
             0.4,
             "#fde0ef"
            ],
            [
             0.5,
             "#f7f7f7"
            ],
            [
             0.6,
             "#e6f5d0"
            ],
            [
             0.7,
             "#b8e186"
            ],
            [
             0.8,
             "#7fbc41"
            ],
            [
             0.9,
             "#4d9221"
            ],
            [
             1,
             "#276419"
            ]
           ],
           "sequential": [
            [
             0,
             "#0d0887"
            ],
            [
             0.1111111111111111,
             "#46039f"
            ],
            [
             0.2222222222222222,
             "#7201a8"
            ],
            [
             0.3333333333333333,
             "#9c179e"
            ],
            [
             0.4444444444444444,
             "#bd3786"
            ],
            [
             0.5555555555555556,
             "#d8576b"
            ],
            [
             0.6666666666666666,
             "#ed7953"
            ],
            [
             0.7777777777777778,
             "#fb9f3a"
            ],
            [
             0.8888888888888888,
             "#fdca26"
            ],
            [
             1,
             "#f0f921"
            ]
           ],
           "sequentialminus": [
            [
             0,
             "#0d0887"
            ],
            [
             0.1111111111111111,
             "#46039f"
            ],
            [
             0.2222222222222222,
             "#7201a8"
            ],
            [
             0.3333333333333333,
             "#9c179e"
            ],
            [
             0.4444444444444444,
             "#bd3786"
            ],
            [
             0.5555555555555556,
             "#d8576b"
            ],
            [
             0.6666666666666666,
             "#ed7953"
            ],
            [
             0.7777777777777778,
             "#fb9f3a"
            ],
            [
             0.8888888888888888,
             "#fdca26"
            ],
            [
             1,
             "#f0f921"
            ]
           ]
          },
          "colorway": [
           "#636efa",
           "#EF553B",
           "#00cc96",
           "#ab63fa",
           "#FFA15A",
           "#19d3f3",
           "#FF6692",
           "#B6E880",
           "#FF97FF",
           "#FECB52"
          ],
          "font": {
           "color": "#2a3f5f"
          },
          "geo": {
           "bgcolor": "white",
           "lakecolor": "white",
           "landcolor": "#E5ECF6",
           "showlakes": true,
           "showland": true,
           "subunitcolor": "white"
          },
          "hoverlabel": {
           "align": "left"
          },
          "hovermode": "closest",
          "mapbox": {
           "style": "light"
          },
          "paper_bgcolor": "white",
          "plot_bgcolor": "#E5ECF6",
          "polar": {
           "angularaxis": {
            "gridcolor": "white",
            "linecolor": "white",
            "ticks": ""
           },
           "bgcolor": "#E5ECF6",
           "radialaxis": {
            "gridcolor": "white",
            "linecolor": "white",
            "ticks": ""
           }
          },
          "scene": {
           "xaxis": {
            "backgroundcolor": "#E5ECF6",
            "gridcolor": "white",
            "gridwidth": 2,
            "linecolor": "white",
            "showbackground": true,
            "ticks": "",
            "zerolinecolor": "white"
           },
           "yaxis": {
            "backgroundcolor": "#E5ECF6",
            "gridcolor": "white",
            "gridwidth": 2,
            "linecolor": "white",
            "showbackground": true,
            "ticks": "",
            "zerolinecolor": "white"
           },
           "zaxis": {
            "backgroundcolor": "#E5ECF6",
            "gridcolor": "white",
            "gridwidth": 2,
            "linecolor": "white",
            "showbackground": true,
            "ticks": "",
            "zerolinecolor": "white"
           }
          },
          "shapedefaults": {
           "line": {
            "color": "#2a3f5f"
           }
          },
          "ternary": {
           "aaxis": {
            "gridcolor": "white",
            "linecolor": "white",
            "ticks": ""
           },
           "baxis": {
            "gridcolor": "white",
            "linecolor": "white",
            "ticks": ""
           },
           "bgcolor": "#E5ECF6",
           "caxis": {
            "gridcolor": "white",
            "linecolor": "white",
            "ticks": ""
           }
          },
          "title": {
           "x": 0.05
          },
          "xaxis": {
           "automargin": true,
           "gridcolor": "white",
           "linecolor": "white",
           "ticks": "",
           "title": {
            "standoff": 15
           },
           "zerolinecolor": "white",
           "zerolinewidth": 2
          },
          "yaxis": {
           "automargin": true,
           "gridcolor": "white",
           "linecolor": "white",
           "ticks": "",
           "title": {
            "standoff": 15
           },
           "zerolinecolor": "white",
           "zerolinewidth": 2
          }
         }
        },
        "width": 1000,
        "xaxis": {
         "showgrid": false,
         "showline": false,
         "showticklabels": false,
         "zeroline": false
        },
        "yaxis": {
         "showgrid": false,
         "showline": false,
         "showticklabels": false,
         "zeroline": false
        }
       }
      }
     },
     "metadata": {},
     "output_type": "display_data"
    }
   ],
   "source": [
    "nodes1 = [node(name=str(i),son=[]) for i in range(len(uf.tree()))]\n",
    "for i,j in enumerate(uf.tree()):\n",
    "    if(j!=-1):\n",
    "        nodes1[j].son.append(nodes1[i])\n",
    "    nodes1[i].value=embeddings[i];\n",
    "    nodes1[i].subson=0\n",
    "    # if(i==49):\n",
    "    #     break\n",
    "show_tree(nodes1[50]).show_fig()\n"
   ]
  },
  {
   "cell_type": "code",
   "execution_count": 59,
   "metadata": {},
   "outputs": [
    {
     "data": {
      "application/vnd.plotly.v1+json": {
       "config": {
        "plotlyServerURL": "https://plot.ly"
       },
       "data": [
        {
         "hoverinfo": "text",
         "marker": {
          "color": [
           0.01253793016076088,
           0.21880321204662323,
           0.2668120563030243,
           0.26766109466552734,
           0.26766106486320496,
           0.26766106486320496,
           0.26766106486320496,
           0.26766106486320496,
           0.23823554813861847,
           0.26766106486320496,
           0.2549760043621063,
           0.266938179731369,
           0.26766106486320496,
           0.26766106486320496,
           0.26766103506088257,
           0.26766106486320496,
           0.2645612061023712,
           0.26766106486320496,
           0.26766106486320496,
           0.26766106486320496,
           0.2210981696844101,
           0.2663002610206604,
           0.26766103506088257,
           0.26766103506088257,
           0.26766103506088257,
           0.26766106486320496,
           0.26766106486320496,
           0.26766106486320496,
           0.26766106486320496,
           0.2651066184043884,
           0.26766106486320496,
           0.26766103506088257,
           0.26766109466552734,
           0.2672997713088989,
           0.26766106486320496,
           0.26766106486320496
          ],
          "colorscale": [
           [
            0,
            "rgb(253, 224, 197)"
           ],
           [
            0.16666666666666666,
            "rgb(250, 203, 166)"
           ],
           [
            0.3333333333333333,
            "rgb(248, 181, 139)"
           ],
           [
            0.5,
            "rgb(245, 158, 114)"
           ],
           [
            0.6666666666666666,
            "rgb(242, 133, 93)"
           ],
           [
            0.8333333333333334,
            "rgb(239, 106, 76)"
           ],
           [
            1,
            "rgb(235, 74, 64)"
           ]
          ],
          "showscale": true,
          "size": 50,
          "symbol": "circle-dot"
         },
         "mode": "markers+text",
         "opacity": 0.8,
         "text": [
          "50",
          "48",
          "39",
          "19",
          "22",
          "15",
          "17",
          "18",
          "47",
          "21",
          "46",
          "43",
          "20",
          "16",
          "14",
          "25",
          "45",
          "23",
          "6",
          "24",
          "49",
          "41",
          "4",
          "7",
          "12",
          "8",
          "10",
          "11",
          "13",
          "44",
          "9",
          "0",
          "2",
          "42",
          "1",
          "5"
         ],
         "textfont": {
          "color": "#000000",
          "family": "sans serif",
          "size": 18
         },
         "type": "scatter",
         "x": [
          5.5,
          3.25,
          2.125,
          1.5625,
          2.6875,
          2.6875,
          2.6875,
          2.6875,
          4.375,
          3.8125,
          4.9375,
          4.65625,
          4.515625,
          4.796875,
          4.796875,
          4.796875,
          5.21875,
          5.078125,
          5.359375,
          5.359375,
          7.75,
          6.625,
          6.0625,
          6.0625,
          6.0625,
          6.0625,
          6.0625,
          7.1875,
          7.1875,
          8.875,
          8.3125,
          8.3125,
          8.3125,
          9.4375,
          9.15625,
          9.71875
         ],
         "y": [
          5,
          3.5,
          2,
          0.5,
          0.5,
          -1,
          -2.5,
          -4,
          2,
          0.5,
          0.5,
          -1,
          -2.5,
          -2.5,
          -4,
          -5.5,
          -1,
          -2.5,
          -2.5,
          -4,
          3.5,
          2,
          0.5,
          -1,
          -2.5,
          -4,
          -5.5,
          0.5,
          -1,
          2,
          0.5,
          -1,
          -2.5,
          0.5,
          -1,
          -1
         ]
        }
       ],
       "layout": {
        "height": 500,
        "shapes": [
         {
          "layer": "below",
          "line": {
           "color": "#333",
           "width": 4
          },
          "type": "line",
          "x0": 5.5,
          "x1": 5.5,
          "y0": 5,
          "y1": 5
         },
         {
          "layer": "below",
          "line": {
           "color": "#333",
           "width": 4
          },
          "type": "line",
          "x0": 5.5,
          "x1": 3.25,
          "y0": 5,
          "y1": 3.5
         },
         {
          "layer": "below",
          "line": {
           "color": "#333",
           "width": 4
          },
          "type": "line",
          "x0": 3.25,
          "x1": 2.125,
          "y0": 3.5,
          "y1": 2
         },
         {
          "layer": "below",
          "line": {
           "color": "#333",
           "width": 4
          },
          "type": "line",
          "x0": 2.125,
          "x1": 1.5625,
          "y0": 2,
          "y1": 0.5
         },
         {
          "layer": "below",
          "line": {
           "color": "#333",
           "width": 4
          },
          "type": "line",
          "x0": 2.125,
          "x1": 2.6875,
          "y0": 2,
          "y1": 0.5
         },
         {
          "layer": "below",
          "line": {
           "color": "#333",
           "width": 4
          },
          "type": "line",
          "x0": 2.6875,
          "x1": 2.6875,
          "y0": 0.5,
          "y1": -1
         },
         {
          "layer": "below",
          "line": {
           "color": "#333",
           "width": 4
          },
          "type": "line",
          "x0": 2.6875,
          "x1": 2.6875,
          "y0": -1,
          "y1": -2.5
         },
         {
          "layer": "below",
          "line": {
           "color": "#333",
           "width": 4
          },
          "type": "line",
          "x0": 2.6875,
          "x1": 2.6875,
          "y0": -2.5,
          "y1": -4
         },
         {
          "layer": "below",
          "line": {
           "color": "#333",
           "width": 4
          },
          "type": "line",
          "x0": 3.25,
          "x1": 4.375,
          "y0": 3.5,
          "y1": 2
         },
         {
          "layer": "below",
          "line": {
           "color": "#333",
           "width": 4
          },
          "type": "line",
          "x0": 4.375,
          "x1": 3.8125,
          "y0": 2,
          "y1": 0.5
         },
         {
          "layer": "below",
          "line": {
           "color": "#333",
           "width": 4
          },
          "type": "line",
          "x0": 4.375,
          "x1": 4.9375,
          "y0": 2,
          "y1": 0.5
         },
         {
          "layer": "below",
          "line": {
           "color": "#333",
           "width": 4
          },
          "type": "line",
          "x0": 4.9375,
          "x1": 4.65625,
          "y0": 0.5,
          "y1": -1
         },
         {
          "layer": "below",
          "line": {
           "color": "#333",
           "width": 4
          },
          "type": "line",
          "x0": 4.65625,
          "x1": 4.515625,
          "y0": -1,
          "y1": -2.5
         },
         {
          "layer": "below",
          "line": {
           "color": "#333",
           "width": 4
          },
          "type": "line",
          "x0": 4.65625,
          "x1": 4.796875,
          "y0": -1,
          "y1": -2.5
         },
         {
          "layer": "below",
          "line": {
           "color": "#333",
           "width": 4
          },
          "type": "line",
          "x0": 4.796875,
          "x1": 4.796875,
          "y0": -2.5,
          "y1": -4
         },
         {
          "layer": "below",
          "line": {
           "color": "#333",
           "width": 4
          },
          "type": "line",
          "x0": 4.796875,
          "x1": 4.796875,
          "y0": -4,
          "y1": -5.5
         },
         {
          "layer": "below",
          "line": {
           "color": "#333",
           "width": 4
          },
          "type": "line",
          "x0": 4.9375,
          "x1": 5.21875,
          "y0": 0.5,
          "y1": -1
         },
         {
          "layer": "below",
          "line": {
           "color": "#333",
           "width": 4
          },
          "type": "line",
          "x0": 5.21875,
          "x1": 5.078125,
          "y0": -1,
          "y1": -2.5
         },
         {
          "layer": "below",
          "line": {
           "color": "#333",
           "width": 4
          },
          "type": "line",
          "x0": 5.21875,
          "x1": 5.359375,
          "y0": -1,
          "y1": -2.5
         },
         {
          "layer": "below",
          "line": {
           "color": "#333",
           "width": 4
          },
          "type": "line",
          "x0": 5.359375,
          "x1": 5.359375,
          "y0": -2.5,
          "y1": -4
         },
         {
          "layer": "below",
          "line": {
           "color": "#333",
           "width": 4
          },
          "type": "line",
          "x0": 5.5,
          "x1": 7.75,
          "y0": 5,
          "y1": 3.5
         },
         {
          "layer": "below",
          "line": {
           "color": "#333",
           "width": 4
          },
          "type": "line",
          "x0": 7.75,
          "x1": 6.625,
          "y0": 3.5,
          "y1": 2
         },
         {
          "layer": "below",
          "line": {
           "color": "#333",
           "width": 4
          },
          "type": "line",
          "x0": 6.625,
          "x1": 6.0625,
          "y0": 2,
          "y1": 0.5
         },
         {
          "layer": "below",
          "line": {
           "color": "#333",
           "width": 4
          },
          "type": "line",
          "x0": 6.0625,
          "x1": 6.0625,
          "y0": 0.5,
          "y1": -1
         },
         {
          "layer": "below",
          "line": {
           "color": "#333",
           "width": 4
          },
          "type": "line",
          "x0": 6.0625,
          "x1": 6.0625,
          "y0": -1,
          "y1": -2.5
         },
         {
          "layer": "below",
          "line": {
           "color": "#333",
           "width": 4
          },
          "type": "line",
          "x0": 6.0625,
          "x1": 6.0625,
          "y0": -2.5,
          "y1": -4
         },
         {
          "layer": "below",
          "line": {
           "color": "#333",
           "width": 4
          },
          "type": "line",
          "x0": 6.0625,
          "x1": 6.0625,
          "y0": -4,
          "y1": -5.5
         },
         {
          "layer": "below",
          "line": {
           "color": "#333",
           "width": 4
          },
          "type": "line",
          "x0": 6.625,
          "x1": 7.1875,
          "y0": 2,
          "y1": 0.5
         },
         {
          "layer": "below",
          "line": {
           "color": "#333",
           "width": 4
          },
          "type": "line",
          "x0": 7.1875,
          "x1": 7.1875,
          "y0": 0.5,
          "y1": -1
         },
         {
          "layer": "below",
          "line": {
           "color": "#333",
           "width": 4
          },
          "type": "line",
          "x0": 7.75,
          "x1": 8.875,
          "y0": 3.5,
          "y1": 2
         },
         {
          "layer": "below",
          "line": {
           "color": "#333",
           "width": 4
          },
          "type": "line",
          "x0": 8.875,
          "x1": 8.3125,
          "y0": 2,
          "y1": 0.5
         },
         {
          "layer": "below",
          "line": {
           "color": "#333",
           "width": 4
          },
          "type": "line",
          "x0": 8.3125,
          "x1": 8.3125,
          "y0": 0.5,
          "y1": -1
         },
         {
          "layer": "below",
          "line": {
           "color": "#333",
           "width": 4
          },
          "type": "line",
          "x0": 8.3125,
          "x1": 8.3125,
          "y0": -1,
          "y1": -2.5
         },
         {
          "layer": "below",
          "line": {
           "color": "#333",
           "width": 4
          },
          "type": "line",
          "x0": 8.875,
          "x1": 9.4375,
          "y0": 2,
          "y1": 0.5
         },
         {
          "layer": "below",
          "line": {
           "color": "#333",
           "width": 4
          },
          "type": "line",
          "x0": 9.4375,
          "x1": 9.15625,
          "y0": 0.5,
          "y1": -1
         },
         {
          "layer": "below",
          "line": {
           "color": "#333",
           "width": 4
          },
          "type": "line",
          "x0": 9.4375,
          "x1": 9.71875,
          "y0": 0.5,
          "y1": -1
         }
        ],
        "template": {
         "data": {
          "bar": [
           {
            "error_x": {
             "color": "#2a3f5f"
            },
            "error_y": {
             "color": "#2a3f5f"
            },
            "marker": {
             "line": {
              "color": "#E5ECF6",
              "width": 0.5
             },
             "pattern": {
              "fillmode": "overlay",
              "size": 10,
              "solidity": 0.2
             }
            },
            "type": "bar"
           }
          ],
          "barpolar": [
           {
            "marker": {
             "line": {
              "color": "#E5ECF6",
              "width": 0.5
             },
             "pattern": {
              "fillmode": "overlay",
              "size": 10,
              "solidity": 0.2
             }
            },
            "type": "barpolar"
           }
          ],
          "carpet": [
           {
            "aaxis": {
             "endlinecolor": "#2a3f5f",
             "gridcolor": "white",
             "linecolor": "white",
             "minorgridcolor": "white",
             "startlinecolor": "#2a3f5f"
            },
            "baxis": {
             "endlinecolor": "#2a3f5f",
             "gridcolor": "white",
             "linecolor": "white",
             "minorgridcolor": "white",
             "startlinecolor": "#2a3f5f"
            },
            "type": "carpet"
           }
          ],
          "choropleth": [
           {
            "colorbar": {
             "outlinewidth": 0,
             "ticks": ""
            },
            "type": "choropleth"
           }
          ],
          "contour": [
           {
            "colorbar": {
             "outlinewidth": 0,
             "ticks": ""
            },
            "colorscale": [
             [
              0,
              "#0d0887"
             ],
             [
              0.1111111111111111,
              "#46039f"
             ],
             [
              0.2222222222222222,
              "#7201a8"
             ],
             [
              0.3333333333333333,
              "#9c179e"
             ],
             [
              0.4444444444444444,
              "#bd3786"
             ],
             [
              0.5555555555555556,
              "#d8576b"
             ],
             [
              0.6666666666666666,
              "#ed7953"
             ],
             [
              0.7777777777777778,
              "#fb9f3a"
             ],
             [
              0.8888888888888888,
              "#fdca26"
             ],
             [
              1,
              "#f0f921"
             ]
            ],
            "type": "contour"
           }
          ],
          "contourcarpet": [
           {
            "colorbar": {
             "outlinewidth": 0,
             "ticks": ""
            },
            "type": "contourcarpet"
           }
          ],
          "heatmap": [
           {
            "colorbar": {
             "outlinewidth": 0,
             "ticks": ""
            },
            "colorscale": [
             [
              0,
              "#0d0887"
             ],
             [
              0.1111111111111111,
              "#46039f"
             ],
             [
              0.2222222222222222,
              "#7201a8"
             ],
             [
              0.3333333333333333,
              "#9c179e"
             ],
             [
              0.4444444444444444,
              "#bd3786"
             ],
             [
              0.5555555555555556,
              "#d8576b"
             ],
             [
              0.6666666666666666,
              "#ed7953"
             ],
             [
              0.7777777777777778,
              "#fb9f3a"
             ],
             [
              0.8888888888888888,
              "#fdca26"
             ],
             [
              1,
              "#f0f921"
             ]
            ],
            "type": "heatmap"
           }
          ],
          "heatmapgl": [
           {
            "colorbar": {
             "outlinewidth": 0,
             "ticks": ""
            },
            "colorscale": [
             [
              0,
              "#0d0887"
             ],
             [
              0.1111111111111111,
              "#46039f"
             ],
             [
              0.2222222222222222,
              "#7201a8"
             ],
             [
              0.3333333333333333,
              "#9c179e"
             ],
             [
              0.4444444444444444,
              "#bd3786"
             ],
             [
              0.5555555555555556,
              "#d8576b"
             ],
             [
              0.6666666666666666,
              "#ed7953"
             ],
             [
              0.7777777777777778,
              "#fb9f3a"
             ],
             [
              0.8888888888888888,
              "#fdca26"
             ],
             [
              1,
              "#f0f921"
             ]
            ],
            "type": "heatmapgl"
           }
          ],
          "histogram": [
           {
            "marker": {
             "pattern": {
              "fillmode": "overlay",
              "size": 10,
              "solidity": 0.2
             }
            },
            "type": "histogram"
           }
          ],
          "histogram2d": [
           {
            "colorbar": {
             "outlinewidth": 0,
             "ticks": ""
            },
            "colorscale": [
             [
              0,
              "#0d0887"
             ],
             [
              0.1111111111111111,
              "#46039f"
             ],
             [
              0.2222222222222222,
              "#7201a8"
             ],
             [
              0.3333333333333333,
              "#9c179e"
             ],
             [
              0.4444444444444444,
              "#bd3786"
             ],
             [
              0.5555555555555556,
              "#d8576b"
             ],
             [
              0.6666666666666666,
              "#ed7953"
             ],
             [
              0.7777777777777778,
              "#fb9f3a"
             ],
             [
              0.8888888888888888,
              "#fdca26"
             ],
             [
              1,
              "#f0f921"
             ]
            ],
            "type": "histogram2d"
           }
          ],
          "histogram2dcontour": [
           {
            "colorbar": {
             "outlinewidth": 0,
             "ticks": ""
            },
            "colorscale": [
             [
              0,
              "#0d0887"
             ],
             [
              0.1111111111111111,
              "#46039f"
             ],
             [
              0.2222222222222222,
              "#7201a8"
             ],
             [
              0.3333333333333333,
              "#9c179e"
             ],
             [
              0.4444444444444444,
              "#bd3786"
             ],
             [
              0.5555555555555556,
              "#d8576b"
             ],
             [
              0.6666666666666666,
              "#ed7953"
             ],
             [
              0.7777777777777778,
              "#fb9f3a"
             ],
             [
              0.8888888888888888,
              "#fdca26"
             ],
             [
              1,
              "#f0f921"
             ]
            ],
            "type": "histogram2dcontour"
           }
          ],
          "mesh3d": [
           {
            "colorbar": {
             "outlinewidth": 0,
             "ticks": ""
            },
            "type": "mesh3d"
           }
          ],
          "parcoords": [
           {
            "line": {
             "colorbar": {
              "outlinewidth": 0,
              "ticks": ""
             }
            },
            "type": "parcoords"
           }
          ],
          "pie": [
           {
            "automargin": true,
            "type": "pie"
           }
          ],
          "scatter": [
           {
            "fillpattern": {
             "fillmode": "overlay",
             "size": 10,
             "solidity": 0.2
            },
            "type": "scatter"
           }
          ],
          "scatter3d": [
           {
            "line": {
             "colorbar": {
              "outlinewidth": 0,
              "ticks": ""
             }
            },
            "marker": {
             "colorbar": {
              "outlinewidth": 0,
              "ticks": ""
             }
            },
            "type": "scatter3d"
           }
          ],
          "scattercarpet": [
           {
            "marker": {
             "colorbar": {
              "outlinewidth": 0,
              "ticks": ""
             }
            },
            "type": "scattercarpet"
           }
          ],
          "scattergeo": [
           {
            "marker": {
             "colorbar": {
              "outlinewidth": 0,
              "ticks": ""
             }
            },
            "type": "scattergeo"
           }
          ],
          "scattergl": [
           {
            "marker": {
             "colorbar": {
              "outlinewidth": 0,
              "ticks": ""
             }
            },
            "type": "scattergl"
           }
          ],
          "scattermapbox": [
           {
            "marker": {
             "colorbar": {
              "outlinewidth": 0,
              "ticks": ""
             }
            },
            "type": "scattermapbox"
           }
          ],
          "scatterpolar": [
           {
            "marker": {
             "colorbar": {
              "outlinewidth": 0,
              "ticks": ""
             }
            },
            "type": "scatterpolar"
           }
          ],
          "scatterpolargl": [
           {
            "marker": {
             "colorbar": {
              "outlinewidth": 0,
              "ticks": ""
             }
            },
            "type": "scatterpolargl"
           }
          ],
          "scatterternary": [
           {
            "marker": {
             "colorbar": {
              "outlinewidth": 0,
              "ticks": ""
             }
            },
            "type": "scatterternary"
           }
          ],
          "surface": [
           {
            "colorbar": {
             "outlinewidth": 0,
             "ticks": ""
            },
            "colorscale": [
             [
              0,
              "#0d0887"
             ],
             [
              0.1111111111111111,
              "#46039f"
             ],
             [
              0.2222222222222222,
              "#7201a8"
             ],
             [
              0.3333333333333333,
              "#9c179e"
             ],
             [
              0.4444444444444444,
              "#bd3786"
             ],
             [
              0.5555555555555556,
              "#d8576b"
             ],
             [
              0.6666666666666666,
              "#ed7953"
             ],
             [
              0.7777777777777778,
              "#fb9f3a"
             ],
             [
              0.8888888888888888,
              "#fdca26"
             ],
             [
              1,
              "#f0f921"
             ]
            ],
            "type": "surface"
           }
          ],
          "table": [
           {
            "cells": {
             "fill": {
              "color": "#EBF0F8"
             },
             "line": {
              "color": "white"
             }
            },
            "header": {
             "fill": {
              "color": "#C8D4E3"
             },
             "line": {
              "color": "white"
             }
            },
            "type": "table"
           }
          ]
         },
         "layout": {
          "annotationdefaults": {
           "arrowcolor": "#2a3f5f",
           "arrowhead": 0,
           "arrowwidth": 1
          },
          "autotypenumbers": "strict",
          "coloraxis": {
           "colorbar": {
            "outlinewidth": 0,
            "ticks": ""
           }
          },
          "colorscale": {
           "diverging": [
            [
             0,
             "#8e0152"
            ],
            [
             0.1,
             "#c51b7d"
            ],
            [
             0.2,
             "#de77ae"
            ],
            [
             0.3,
             "#f1b6da"
            ],
            [
             0.4,
             "#fde0ef"
            ],
            [
             0.5,
             "#f7f7f7"
            ],
            [
             0.6,
             "#e6f5d0"
            ],
            [
             0.7,
             "#b8e186"
            ],
            [
             0.8,
             "#7fbc41"
            ],
            [
             0.9,
             "#4d9221"
            ],
            [
             1,
             "#276419"
            ]
           ],
           "sequential": [
            [
             0,
             "#0d0887"
            ],
            [
             0.1111111111111111,
             "#46039f"
            ],
            [
             0.2222222222222222,
             "#7201a8"
            ],
            [
             0.3333333333333333,
             "#9c179e"
            ],
            [
             0.4444444444444444,
             "#bd3786"
            ],
            [
             0.5555555555555556,
             "#d8576b"
            ],
            [
             0.6666666666666666,
             "#ed7953"
            ],
            [
             0.7777777777777778,
             "#fb9f3a"
            ],
            [
             0.8888888888888888,
             "#fdca26"
            ],
            [
             1,
             "#f0f921"
            ]
           ],
           "sequentialminus": [
            [
             0,
             "#0d0887"
            ],
            [
             0.1111111111111111,
             "#46039f"
            ],
            [
             0.2222222222222222,
             "#7201a8"
            ],
            [
             0.3333333333333333,
             "#9c179e"
            ],
            [
             0.4444444444444444,
             "#bd3786"
            ],
            [
             0.5555555555555556,
             "#d8576b"
            ],
            [
             0.6666666666666666,
             "#ed7953"
            ],
            [
             0.7777777777777778,
             "#fb9f3a"
            ],
            [
             0.8888888888888888,
             "#fdca26"
            ],
            [
             1,
             "#f0f921"
            ]
           ]
          },
          "colorway": [
           "#636efa",
           "#EF553B",
           "#00cc96",
           "#ab63fa",
           "#FFA15A",
           "#19d3f3",
           "#FF6692",
           "#B6E880",
           "#FF97FF",
           "#FECB52"
          ],
          "font": {
           "color": "#2a3f5f"
          },
          "geo": {
           "bgcolor": "white",
           "lakecolor": "white",
           "landcolor": "#E5ECF6",
           "showlakes": true,
           "showland": true,
           "subunitcolor": "white"
          },
          "hoverlabel": {
           "align": "left"
          },
          "hovermode": "closest",
          "mapbox": {
           "style": "light"
          },
          "paper_bgcolor": "white",
          "plot_bgcolor": "#E5ECF6",
          "polar": {
           "angularaxis": {
            "gridcolor": "white",
            "linecolor": "white",
            "ticks": ""
           },
           "bgcolor": "#E5ECF6",
           "radialaxis": {
            "gridcolor": "white",
            "linecolor": "white",
            "ticks": ""
           }
          },
          "scene": {
           "xaxis": {
            "backgroundcolor": "#E5ECF6",
            "gridcolor": "white",
            "gridwidth": 2,
            "linecolor": "white",
            "showbackground": true,
            "ticks": "",
            "zerolinecolor": "white"
           },
           "yaxis": {
            "backgroundcolor": "#E5ECF6",
            "gridcolor": "white",
            "gridwidth": 2,
            "linecolor": "white",
            "showbackground": true,
            "ticks": "",
            "zerolinecolor": "white"
           },
           "zaxis": {
            "backgroundcolor": "#E5ECF6",
            "gridcolor": "white",
            "gridwidth": 2,
            "linecolor": "white",
            "showbackground": true,
            "ticks": "",
            "zerolinecolor": "white"
           }
          },
          "shapedefaults": {
           "line": {
            "color": "#2a3f5f"
           }
          },
          "ternary": {
           "aaxis": {
            "gridcolor": "white",
            "linecolor": "white",
            "ticks": ""
           },
           "baxis": {
            "gridcolor": "white",
            "linecolor": "white",
            "ticks": ""
           },
           "bgcolor": "#E5ECF6",
           "caxis": {
            "gridcolor": "white",
            "linecolor": "white",
            "ticks": ""
           }
          },
          "title": {
           "x": 0.05
          },
          "xaxis": {
           "automargin": true,
           "gridcolor": "white",
           "linecolor": "white",
           "ticks": "",
           "title": {
            "standoff": 15
           },
           "zerolinecolor": "white",
           "zerolinewidth": 2
          },
          "yaxis": {
           "automargin": true,
           "gridcolor": "white",
           "linecolor": "white",
           "ticks": "",
           "title": {
            "standoff": 15
           },
           "zerolinecolor": "white",
           "zerolinewidth": 2
          }
         }
        },
        "width": 1000,
        "xaxis": {
         "showgrid": false,
         "showline": false,
         "showticklabels": false,
         "zeroline": false
        },
        "yaxis": {
         "showgrid": false,
         "showline": false,
         "showticklabels": false,
         "zeroline": false
        }
       }
      }
     },
     "metadata": {},
     "output_type": "display_data"
    }
   ],
   "source": [
    "search_tree(nodes1[50],0.018)\n",
    "show_tree(nodes1[50]).show_fig()"
   ]
  },
  {
   "cell_type": "markdown",
   "metadata": {},
   "source": [
    "{0: 'CD8Tcm', 1: 'Malignant', 2: 'CD8Tcm', 3: 'Fibroblasts', 4: 'M1', 5: 'Endothelial', 6: 'B', 7: 'CD8Tex', 8: 'Fibroblasts', 9: 'CD8Tcm', 10: 'CD8Tcm', 11: 'CD8Tex', 12: 'Plasma', 13: 'Myofibroblasts', 14: 'CD8Tcm', 15: 'Malignant', 16: 'Malignant', 17: 'Malignant', 18: 'Malignant', 19: 'CD8Tex', 20: 'Malignant', 21: 'Mast', 22: 'Malignant', 23: 'B', 24: 'Malignant', 25: 'Fibroblasts'}"
   ]
  },
  {
   "cell_type": "code",
   "execution_count": 27,
   "metadata": {},
   "outputs": [
    {
     "data": {
      "text/plain": [
       "[15, 33]"
      ]
     },
     "execution_count": 27,
     "metadata": {},
     "output_type": "execute_result"
    }
   ],
   "source": [
    "nodes1[34].son"
   ]
  },
  {
   "cell_type": "code",
   "execution_count": 114,
   "metadata": {},
   "outputs": [
    {
     "data": {
      "text/plain": [
       "22"
      ]
     },
     "execution_count": 114,
     "metadata": {},
     "output_type": "execute_result"
    }
   ],
   "source": [
    "nodes1[37].son[0]"
   ]
  },
  {
   "cell_type": "code",
   "execution_count": null,
   "metadata": {},
   "outputs": [],
   "source": []
  }
 ],
 "metadata": {
  "kernelspec": {
   "display_name": "base",
   "language": "python",
   "name": "python3"
  },
  "language_info": {
   "codemirror_mode": {
    "name": "ipython",
    "version": 3
   },
   "file_extension": ".py",
   "mimetype": "text/x-python",
   "name": "python",
   "nbconvert_exporter": "python",
   "pygments_lexer": "ipython3",
   "version": "3.8.16 (default, Mar  1 2023, 21:19:10) \n[Clang 14.0.6 ]"
  },
  "orig_nbformat": 4,
  "vscode": {
   "interpreter": {
    "hash": "c6f9107c7570fe5c9625bfb2661451db78c34fa5b495f83483e2a28949c1d386"
   }
  }
 },
 "nbformat": 4,
 "nbformat_minor": 2
}
