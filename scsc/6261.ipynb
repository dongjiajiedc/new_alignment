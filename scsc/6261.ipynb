{
 "cells": [
  {
   "cell_type": "code",
   "execution_count": 45,
   "metadata": {},
   "outputs": [],
   "source": [
    "\n",
    "import numpy as np\n",
    "import pandas as pd\n",
    "import math\n",
    "import plotly.graph_objs as go\n",
    "import os\n",
    "import csv\n",
    "import itertools\n",
    "import tqdm\n",
    "\n",
    "class node:\n",
    "    def __init__(self,value=None,son=[],name=''):\n",
    "        self.value = value;\n",
    "        self.son = son;\n",
    "        self.name =name;\n",
    "        self.f = None;\n",
    "        self.depth=0;\n",
    "        self.subson= [];\n",
    "    def __repr__(self):\n",
    "        return self.name\n",
    "    def __str__(self):\n",
    "        return self.name\n",
    "    def __lt__(self, other):\n",
    "        return self.depth < other.depth\n",
    "class tree_alignment:\n",
    "    def __init__(self,root1,root2,cost1):\n",
    "        self.cost1 = cost1;\n",
    "        self.dp = dict();\n",
    "        self.forestdp = dict();\n",
    "        self.anslist = [];\n",
    "        self.ansnodes = [];\n",
    "        self.root1 = root1;\n",
    "        self.root2 = root2;\n",
    "        self.minn = math.inf;\n",
    "        self.cal_depth(root1,0)\n",
    "        self.cal_depth(root2,0)\n",
    "        pass;\n",
    "\n",
    "    def cal_depth(self, now,d):\n",
    "        now.depth = d;\n",
    "        for i in now.son:\n",
    "            self.cal_depth(i,d+1);\n",
    "            \n",
    "    def cost(self,i,j):\n",
    "        if(i==[] and j==[]):\n",
    "            return 0;\n",
    "        if(i==[]):\n",
    "            # return (j.r-j.l)**2;\n",
    "            # return np.linalg.norm(j.value-self.cost1);\n",
    "            return self.cost1\n",
    "\n",
    "        if(j==[]):\n",
    "            # return (i.r-i.l)**2;\n",
    "            # return np.linalg.norm(i.value-self.cost1);\n",
    "            return self.cost1\n",
    "        # if(i ==[] or j==[]):\n",
    "        #     return self.cost1;\n",
    "        else:\n",
    "            # return (i.l-j.l)**2 + (i.r-j.r)**2;\n",
    "            df = pd.DataFrame(\n",
    "                {\"A\": i.value, \"B\":j.value})\n",
    "            mincost = 1 - df.corr(method=\"spearman\").iloc[0, 1]\n",
    "            return mincost\n",
    "            # return np.linalg.norm(i.value-j.value);\n",
    "    \n",
    "    def cal_tree(self,i,j):\n",
    "        \n",
    "        if(i==[] and j==[]):\n",
    "            return 0;\n",
    "        \n",
    "        if(j==[]):\n",
    "            \n",
    "            if(self.dp.__contains__((i.name,\"Empty\"))):\n",
    "                pass;\n",
    "            else:\n",
    "                self.dp[(i.name,\"Empty\")]=self.cost(i,[]) + self.cal_forest(i.son,[]);\n",
    "                \n",
    "            return self.dp[(i.name,\"Empty\")];\n",
    "        \n",
    "        \n",
    "        if(i==[]):\n",
    "            \n",
    "            if(self.dp.__contains__((\"Empty\",j.name))):\n",
    "                    pass;\n",
    "            else:\n",
    "                self.dp[(\"Empty\",j.name)]=self.cost([],j) + self.cal_forest([],j.son);\n",
    "                \n",
    "            return self.dp[(\"Empty\",j.name)];\n",
    "        \n",
    "        \n",
    "        \n",
    "        if(self.dp.__contains__((i.name,j.name))):\n",
    "            pass;\n",
    "        \n",
    "        else:\n",
    "            temp = self.cal_forest(i.son,j.son) + self.cost(i,j);\n",
    "\n",
    "            temp2 = self.cal_tree([],j);\n",
    "            \n",
    "            if(j.son==[]):\n",
    "                temp3 = temp2 + self.cal_tree(i,[]) - self.cal_tree([],[])\n",
    "\n",
    "                if(temp >temp3):\n",
    "                    temp = temp3;\n",
    "                    # ans = (i.name,\"Empty\");\n",
    "\n",
    "            for son in j.son:\n",
    "                temp3 = temp2 + self.cal_tree(i,son) - self.cal_tree([],son)\n",
    "                # temp = min(temp, temp3)\n",
    "\n",
    "                if(temp>temp3):\n",
    "                    temp = temp3;\n",
    "                    # ans = (i.name,son.name);\n",
    "                # t= self.cal_tree(i,son) - self.cal_tree([],son);\n",
    "                # temp3 = min(temp3,t);\n",
    "            # temp =min(temp,temp3+self.cal_tree([],j));\n",
    "            # temp2 = 100000;\n",
    "            \n",
    "            temp2 = self.cal_tree(i,[]);\n",
    "            \n",
    "            if(i.son==[]):\n",
    "                temp3 = temp2+self.cal_tree([],j) - self.cal_tree([],[]);\n",
    "                # temp = min(temp,temp3)\n",
    "                if(temp>temp3):\n",
    "                    temp = temp3;\n",
    "                    # ans = (\"Empty\",j.name);\n",
    "                \n",
    "            for son in i.son:\n",
    "                temp3= temp2 + self.cal_tree(son,j) - self.cal_tree(son,[]);\n",
    "                # temp = min(temp, temp3)\n",
    "\n",
    "                if(temp>temp3):\n",
    "                    temp = temp3;\n",
    "                    # ans = (son.name,j.name);\n",
    "                    \n",
    "                    \n",
    "            #     t = self.cal_tree(son,j) - self.cal_tree(son,[]);\n",
    "            #     temp2 = min(temp2,t);\n",
    "            # temp = min(temp,temp2 + self.cal_tree(i,[]));\n",
    "            # self.anslist.append(ans);\n",
    "            self.dp[(i.name,j.name)]= temp;\n",
    "            \n",
    "        return self.dp[(i.name,j.name)];\n",
    "    \n",
    "    def cal_forest(self,i,j):\n",
    "\n",
    "        if(i==[] and j==[]):\n",
    "            return 0;\n",
    "        \n",
    "        if(i==[]):\n",
    "            if(self.forestdp.__contains__((\"Empty\",str(j)))):\n",
    "                pass;\n",
    "            else:\n",
    "                sum=0;\n",
    "                for son in j:\n",
    "                    sum+= self.cal_tree([],son);\n",
    "                    \n",
    "                self.forestdp[(\"Empty\",str(j))] = sum;\n",
    "                \n",
    "            return self.forestdp[(\"Empty\",str(j))];\n",
    "            \n",
    "        \n",
    "        \n",
    "        \n",
    "        if(j==[]):\n",
    "            if(self.forestdp.__contains__((str(i),\"Empty\"))):\n",
    "                    pass;\n",
    "            else:\n",
    "                sum=0;\n",
    "                for son in i:\n",
    "                    sum+= self.cal_tree(son,[]);\n",
    "                    \n",
    "                self.forestdp[(str(i),\"Empty\")] = sum;\n",
    "                \n",
    "            return self.forestdp[(str(i),\"Empty\")];\n",
    "            # sum=0;\n",
    "            # for son in i:\n",
    "            #     sum+= self.cal_tree(son,[]);\n",
    "            # return sum;\n",
    "        \n",
    "        \n",
    "        # leni = len(i);\n",
    "        # lenj = len(j);\n",
    "        # temp = min (temp,self.cal_forest(i[0:leni-1],j[0:lenj-1])+ self.cal_tree(i[leni-1],j[lenj-1]));\n",
    "        # temp = min (temp,self.cal_forest(i,j[0:lenj-1])+ self.cal_tree([],j[lenj-1]));\n",
    "        # temp = min (temp,self.cal_forest(i[0:leni-1],j)+ self.cal_tree(i[leni-1],[]));\n",
    "        \n",
    "        # temp2 = self.cost([],j[lenj-1]);\n",
    "        \n",
    "        # for m in range(1,leni):\n",
    "        #     temp = min(temp, temp2 + self.cal_forest(i[0:m],j[0:lenj-1]) + self.cal_forest(i[m:leni],j[lenj-1].son));\n",
    "            \n",
    "        # temp3 = self.cost(i[leni-1],[]);\n",
    "        \n",
    "        # for m in range(1,lenj):\n",
    "        #     temp = min(temp, temp3 + self.cal_forest(i[0:leni-1],j[0:m]) + self.cal_forest(i[leni-1].son,j[m:lenj]));\n",
    "        if(self.forestdp.__contains__((str(i),str(j)))):\n",
    "            pass;\n",
    "        else:\n",
    "            temp = math.inf;\n",
    "\n",
    "            for l in i:\n",
    "                for r in j:\n",
    "                    i1 = i.copy();\n",
    "                    j1 = j.copy();\n",
    "                    i1.remove(l);\n",
    "                    j1.remove(r);\n",
    "                    temp = min(temp,self.cal_forest(i1,j1) + self.cal_tree(l,r));\n",
    "                    \n",
    "            for l in i:\n",
    "                for m in range(1, len(j)+1):\n",
    "                    for r in list(itertools.combinations(j, m)):\n",
    "                        i1 = i.copy();\n",
    "                        j1 = j.copy();\n",
    "                        i1.remove(l);\n",
    "                        temp = min(temp,self.cal_forest(l.son,list(r))+self.cal_forest(i1,list(set(j1)-set(r)))+self.cost(l,[]))\n",
    "                        # temp = min(temp,self.cal_forest(l.son,list(r))+self.cal_forest(i1,list(set(j1)-set(r)))+ 1 )\n",
    "            # for l in i:\n",
    "            #     i1 = i.copy();\n",
    "            #     j1 = j.copy();\n",
    "            #     i1.remove(l);\n",
    "            #     temp =  min(temp,self.cal_forest(l.son,[])+self.cal_forest(i1,j1)+self.cost(l,[]))\n",
    "                \n",
    "            # for m in range(1, len(j)):\n",
    "            #     for r in list(itertools.combinations(j, m)):\n",
    "            #         i1 = i.copy();\n",
    "            #         j1 = j.copy();\n",
    "            #         # i1.remove(l);\n",
    "            #         temp = min(temp,self.cal_forest([],list(r))+self.cal_forest(i1,list(set(j1)-set(r))))\n",
    "                    \n",
    "                    # temp = min(temp,self.cal_forest(l.son,list(r))+self.cal_forest(i1,list(set(j1)-set(r)))+ 1 )\n",
    "                \n",
    "            for r in j:\n",
    "                for m in range(1, len(i)+1):\n",
    "                    for l in list(itertools.combinations(i, m)):\n",
    "                        i1 = i.copy();\n",
    "                        j1 = j.copy();\n",
    "                        j1.remove(r);\n",
    "\n",
    "                        temp = min(temp,self.cal_forest(list(l),r.son)+self.cal_forest(list(set(i1)-set(l)),j1)+self.cost([],r))\n",
    "                        # temp = min(temp,self.cal_forest(list(l),r.son)+self.cal_forest(list(set(i1)-set(l)),j1)+ 1)\n",
    "                        \n",
    "            # for m in range(1, len(i)):\n",
    "            #     for l in list(itertools.combinations(i, m)):\n",
    "            #         i1 = i.copy();\n",
    "            #         j1 = j.copy();\n",
    "            #         # j1.remove(r);\n",
    "            #         temp = min(temp,self.cal_forest(list(l),[])+self.cal_forest(list(set(i1)-set(l)),j1))\n",
    "                    \n",
    "            # for r in j:\n",
    "            #     i1 = i.copy();\n",
    "            #     j1 = j.copy();\n",
    "            #     j1.remove(r);\n",
    "            #     temp  = min(temp, self.cal_forest([],r.son)+ self.cal_forest(i1,j1)+self.cost([],r));\n",
    "                    \n",
    "            self.forestdp[(str(i),str(j))]=temp;\n",
    "        return self.forestdp[(str(i),str(j))];\n",
    "    \n",
    "    def search_alignment_tree(self,i,j,value):\n",
    "        if(i==[] or j==[]):\n",
    "            return ;\n",
    "        temp1 = self.cal_forest(i.son,j.son)\n",
    "        temp = self.cal_forest(i.son,j.son) + self.cost(i,j);\n",
    "        \n",
    "        if(temp == value):\n",
    "            self.anslist.append((i.name,j.name));\n",
    "            self.ansnodes.append((i,j));\n",
    "            self.search_alignment_forest(i.son,j.son,temp1);\n",
    "            return;\n",
    "            \n",
    "        temp2 = self.cal_tree([],j);\n",
    "        \n",
    "        if(j.son==[]):\n",
    "            temp3 = temp2 + self.cal_tree(i,[]) - self.cal_tree([],[])\n",
    "            if(temp3 == value):\n",
    "                # self.anslist.append(\"Empty\",j.name);\n",
    "                # self.anslist.append(i.name,\"Empty\");\n",
    "                return;\n",
    "            \n",
    "        for son in j.son:\n",
    "            temp3 = temp2 + self.cal_tree(i,son) - self.cal_tree([],son)\n",
    "            if(temp3==value):\n",
    "                # self.anslist.append(\"Empty\",j.name);\n",
    "                self.search_alignment_tree(i,son, self.cal_tree(i,son));\n",
    "                return;\n",
    "                # self.anslist.append(i,son);\n",
    "\n",
    "        temp2 = self.cal_tree(i,[]);\n",
    "        \n",
    "        if(i.son==[]):\n",
    "            temp3 = temp2+self.cal_tree([],j) - self.cal_tree([],[]);\n",
    "            \n",
    "            if(temp3 == value):\n",
    "                # self.anslist.append(\"Empty\",j.name);\n",
    "                # self.anslist.append(i.name,\"Empty\");\n",
    "                return;\n",
    "            \n",
    "        for son in i.son:\n",
    "            temp3= temp2 + self.cal_tree(son,j) - self.cal_tree(son,[]);\n",
    "            \n",
    "            if(temp3 == value):\n",
    "                # self.anslist.append(i.name,\"Empty\");\n",
    "                self.search_alignment_tree(son,j,self.cal_tree(son,j));\n",
    "                return;\n",
    "        \n",
    "        return;\n",
    "\n",
    "    def search_alignment_forest(self,i,j,value):\n",
    "        if(i==[] or j==[]):\n",
    "            return;\n",
    "        for l in i:\n",
    "            for r in j:\n",
    "                i1 = i.copy();\n",
    "                j1 = j.copy();\n",
    "                i1.remove(l);\n",
    "                j1.remove(r);\n",
    "\n",
    "                temp1 = self.cal_forest(i1,j1);\n",
    "                if(self.cal_forest(i1,j1)+ self.cal_tree(l,r) == value):\n",
    "                    self.search_alignment_forest(i1,j1,temp1);\n",
    "                    self.search_alignment_tree(l,r,self.cal_tree(l,r));\n",
    "                    return\n",
    "        for l in i:\n",
    "            for m in range(1, len(j)+1):\n",
    "                for r in list(itertools.combinations(j, m)):\n",
    "                    i1 = i.copy();\n",
    "                    j1 = j.copy();\n",
    "                    i1.remove(l);\n",
    "                    temp1 = self.cal_forest(l.son,list(r));\n",
    "                    temp2 = self.cal_forest(i1,list(set(j1)-set(r)));\n",
    "                    if(temp1 + temp2 +self.cost(l,[]) == value):\n",
    "                    # if(temp1 + temp2 +1 == value):\n",
    "\n",
    "                        self.search_alignment_forest(l.son,list(r),temp1);\n",
    "                        self.search_alignment_forest(i1,list(set(j1)-set(r)),temp2);\n",
    "                        return\n",
    "                    # temp = min(temp,self.cal_forest(l.son,list(r))+self.cal_forest(i1,list(set(j1)-set(r)))+self.cost(l,[]))\n",
    "        for r in j:\n",
    "            for m in range(1, len(i)+1):\n",
    "                for l in list(itertools.combinations(i, m)):\n",
    "                    i1 = i.copy();\n",
    "                    j1 = j.copy();\n",
    "                    j1.remove(r);\n",
    "                    temp1 = self.cal_forest(list(l),r.son)\n",
    "                    temp2 = self.cal_forest(list(set(i1)-set(l)),j1);\n",
    "                    # if(self.cal_forest(list(l),r.son)+self.cal_forest(list(set(i1)-set(l)),j1)+self.cost([],r) == value):\n",
    "                    if(temp1+temp2+ self.cost([],r) == value):\n",
    "\n",
    "                        self.search_alignment_forest(list(l),r.son,temp1);\n",
    "                        self.search_alignment_forest(list(set(i1)-set(l)),j1,temp2);\n",
    "                        return;\n",
    "                    # temp = min(temp,self.cal_forest(list(l),r.son)+self.cal_forest(list(set(i1)-set(l)),j1)+self.cost([],r))\n",
    "\n",
    "        return ;\n",
    "    def printdp(self):\n",
    "        temp =list(self.dp.keys());\n",
    "        # temp.sort()\n",
    "        j=temp[0][0];\n",
    "        \n",
    "        for i in temp:\n",
    "            if(i[0]!=j):\n",
    "                print();j=i[0];\n",
    "            print(\"{}={}\".format(i,self.dp[i]),end=\" \");\n",
    "            \n",
    "    def get_dp(self):\n",
    "        return self.dp;\n",
    "    \n",
    "    def get_ans(self):\n",
    "        return self.anslist;\n",
    "    \n",
    "    def run_alignment(self):\n",
    "        self.minn = self.cal_tree(self.root1,self.root2);\n",
    "        print(self.minn);\n",
    "        self.search_alignment_tree(self.root1,self.root2,self.minn);\n",
    "        return self.minn;\n",
    "    \n",
    "    def show_ans(self):\n",
    "        print(\"The mininum cost for alignment is {}\".format(self.minn));\n",
    "        print(\"The alignment edges list is {}\".format(self.anslist));\n",
    "        # print(\"The dp result\");\n",
    "        # self.printdp();\n",
    "        # print(self.anslist);\n",
    "class show_graph:\n",
    "    def __init__(self,ans,root1,root2):\n",
    "        self.ans = ans;\n",
    "        \n",
    "        self.pos_x=[];\n",
    "        self.pos_y=[];\n",
    "        self.edges=[];\n",
    "        self.label_hash = dict(); \n",
    "        self.labels = [];\n",
    "        self.hover_text =[];\n",
    "        self.values=[];\n",
    "        self.cnt = 0;\n",
    "        \n",
    "        self.pos_x_2=[];\n",
    "        self.pos_y_2=[];\n",
    "        self.edges_2=[];\n",
    "        self.label_hash_2 = dict(); \n",
    "        self.labels_2 = []\n",
    "        self.hover_text_2 = []\n",
    "        self.values_2=[];\n",
    "        self.cnt2 = 0;\n",
    "        self.fig = go.Figure();\n",
    "        \n",
    "        self.root1 = root1;\n",
    "        self.root2 = root2;\n",
    "        self.height = 5;\n",
    "        self.run_graph();\n",
    "        \n",
    "    def cal_tree_pos(self,now,l,r,h,f,pos_x,pos_y,edges,label_hash,labels,hover_text,values):\n",
    "        mid = (l+r)/2\n",
    "        pos_x.append(mid);\n",
    "        pos_y.append(h)\n",
    "        label_hash[now.name]=self.cnt;\n",
    "        num_son = len(now.son);\n",
    "        labels.append(\"{}\".format(now.name));\n",
    "        edges.append((f.name,now.name));\n",
    "        hover_text.append(\"connect Empty\");\n",
    "        values.append(np.linalg.norm(now.value));\n",
    "        if(num_son == 0):\n",
    "            return;\n",
    "        length = (r-l)/num_son;\n",
    "        for i in range(num_son):\n",
    "            self.cnt+=1;\n",
    "            self.cal_tree_pos(now.son[i],l+i*length,l+(i+1)*length,h-1.5,now,pos_x,pos_y,edges,label_hash,labels,hover_text,values);\n",
    "            \n",
    "    def cal_tree_pos2(self,now,l,r,h,f,pos_x,pos_y,edges,label_hash,labels,hover_text,values):\n",
    "        mid = (l+r)/2\n",
    "        pos_x.append(mid);\n",
    "        pos_y.append(h)\n",
    "        label_hash[now.name]=self.cnt2;\n",
    "        num_son = len(now.son);\n",
    "        labels.append(\"{}\".format(now.name));\n",
    "        edges.append((f.name,now.name));\n",
    "        hover_text.append(\"connect Empty\");\n",
    "        values.append(np.linalg.norm(now.value))\n",
    "        if(num_son == 0):\n",
    "            return;\n",
    "\n",
    "        length = (r-l)/num_son;\n",
    "        for i in range(num_son):\n",
    "            self.cnt2+=1;\n",
    "            self.cal_tree_pos2(now.son[i],l+i*length,l+(i+1)*length,h-1.5,now,pos_x,pos_y,edges,label_hash,labels,hover_text,values);\n",
    "            \n",
    "    def run_graph(self):\n",
    "        \n",
    "        self.cal_tree_pos(self.root1,1,20,self.height,self.root1, self.pos_x,self.pos_y,self.edges,self.label_hash,self.labels,self.hover_text,self.values);\n",
    "        \n",
    "        self.cal_tree_pos2(self.root2,18,37,self.height-1.5,self.root2, self.pos_x_2,self.pos_y_2,self.edges_2,self.label_hash_2,self.labels_2,self.hover_text_2,self.values_2);\n",
    "        \n",
    "        for i in self.edges:\n",
    "            p1,p2 = i;\n",
    "            index1=self.label_hash[p1];\n",
    "            index2=self.label_hash[p2];\n",
    "\n",
    "            x1=self.pos_x[index1];y1=self.pos_y[index1];\n",
    "            x2=self.pos_x[index2];y2=self.pos_y[index2];\n",
    "            self.fig.add_shape(\n",
    "                type=\"line\",\n",
    "                x0=x1, y0=y1, x1=x2, y1=y2,\n",
    "                line=dict(\n",
    "                    color=\"#333\",\n",
    "                    width=4,\n",
    "                ),\n",
    "                layer=\"below\"\n",
    "            )\n",
    "\n",
    "        for i in self.edges_2:\n",
    "            p1,p2 = i;\n",
    "\n",
    "            index1=self.label_hash_2[p1];\n",
    "            index2=self.label_hash_2[p2];\n",
    "\n",
    "            x1=self.pos_x_2[index1];y1=self.pos_y_2[index1];\n",
    "            x2=self.pos_x_2[index2];y2=self.pos_y_2[index2];\n",
    "            self.fig.add_shape(\n",
    "                type=\"line\",\n",
    "                x0=x1, y0=y1, x1=x2, y1=y2,\n",
    "                line=dict(\n",
    "                    color=\"#333\",\n",
    "                    width=4,\n",
    "                ),\n",
    "                layer=\"below\"\n",
    "            )\n",
    "            \n",
    "        for i in self.ans:\n",
    "            p1,p2 = i;\n",
    "            index1=self.label_hash[p1];\n",
    "            index2=self.label_hash_2[p2];\n",
    "            x1=self.pos_x[index1];y1=self.pos_y[index1];\n",
    "            x2=self.pos_x_2[index2];y2=self.pos_y_2[index2];\n",
    "            self.fig.add_shape(\n",
    "                type=\"line\",\n",
    "                x0=x1, y0=y1, x1=x2, y1=y2,\n",
    "                line=dict(\n",
    "                    color=\"#6175c1\",\n",
    "                    width=4,\n",
    "                ),\n",
    "                layer=\"below\"\n",
    "            )\n",
    "            self.hover_text[index1]=\"connect {}\".format(p2);\n",
    "            self.hover_text_2[index2]=\"connect {}\".format(p1);\n",
    "            \n",
    "        pos_x_final = self.pos_x+self.pos_x_2\n",
    "        pos_y_final = self.pos_y+self.pos_y_2\n",
    "        values_final = self.values + self.values_2\n",
    "        labels_final = self.labels + self.labels_2\n",
    "        self.fig.add_trace(go.Scatter(x=pos_x_final,\n",
    "                        y=pos_y_final,\n",
    "                        mode='markers+text',\n",
    "                        marker=dict(symbol='circle-dot',\n",
    "                                        size=50,\n",
    "                                        # color='#5B91D9',  \n",
    "                                        color=values_final,\n",
    "                                        colorscale=\"peach\",\n",
    "                                        showscale=True,\n",
    "                                        # line=dict(color='rgb(50,50,50)', width=1)\n",
    "                                        ),\n",
    "                        text=labels_final,\n",
    "                        hoverinfo='text',\n",
    "                        hovertext=self.hover_text+self.hover_text_2,\n",
    "                        #textposition=\"top center\",\n",
    "                        textfont=dict(family='sans serif',\n",
    "                        size=18,\n",
    "                        color='#000000'\n",
    "                            ),\n",
    "                        opacity=0.8,\n",
    "                        ))\n",
    "        # fig.add_trace(go.Scatter(x=pos_x_2,\n",
    "        #                   y=pos_y_2,\n",
    "        #                   mode='markers+text',\n",
    "        #                   name='tree2',\n",
    "        #                   marker=dict(symbol='circle-dot',\n",
    "        #                                 size=40,\n",
    "        #                                 color=values_2,\n",
    "        #                                 colorscale=\"orrd\",\n",
    "        #                                 showscale=True,\n",
    "        #                             ),\n",
    "        #                   text=labels_2,\n",
    "        #                   hovertext=hover_text_2,\n",
    "        #                   hoverinfo=\"text\",\n",
    "        #                   textfont=dict(family='sans serif',\n",
    "        #                   size=20,\n",
    "        #                   color='#000'\n",
    "        #                     ),\n",
    "        #                   opacity= 0.8,\n",
    "        #                   showlegend=False,\n",
    "\n",
    "        #                 #   legend=None,\n",
    "        #                 #   color=values_2,\n",
    "        #                 #   color_continuous_scale=\"orrd\",\n",
    "        #                   ))\n",
    "        \n",
    "        self.fig.update_layout(  \n",
    "            xaxis= dict(showline=False, # hide axis line, grid, ticklabels and  title\n",
    "                    zeroline=False,\n",
    "                    showgrid=False,\n",
    "                    showticklabels=False,\n",
    "                    ),\n",
    "            yaxis=dict(showline=False, # hide axis line, grid, ticklabels and  title\n",
    "                    zeroline=False,\n",
    "                    showgrid=False,\n",
    "                    showticklabels=False,\n",
    "                    ),\n",
    "        width=1000, height=500)\n",
    "        \n",
    "        # self.fig.show()\n",
    "    def show_fig(self):\n",
    "        self.fig.show();\n",
    "\n",
    "class show_tree:\n",
    "    def __init__(self,root1):\n",
    "        \n",
    "        self.pos_x=[];\n",
    "        self.pos_y=[];\n",
    "        self.edges=[];\n",
    "        self.label_hash = dict(); \n",
    "        self.labels = [];\n",
    "        self.hover_text =[];\n",
    "        self.values=[];\n",
    "        self.cnt = 0;\n",
    "        self.height=5;\n",
    "        self.fig = go.Figure();\n",
    "        \n",
    "        self.root1 = root1;\n",
    "        self.run_graph();\n",
    "        \n",
    "    def cal_tree_pos(self,now,l,r,h,f,pos_x,pos_y,edges,label_hash,labels,hover_text,values):\n",
    "        mid = (l+r)/2\n",
    "        pos_x.append(mid);\n",
    "        pos_y.append(h)\n",
    "        label_hash[now.name]=self.cnt;\n",
    "        num_son = len(now.son);\n",
    "        labels.append(\"{}\".format(now.name));\n",
    "        edges.append((f.name,now.name));\n",
    "        hover_text.append(\"connect Empty\");\n",
    "        values.append(np.linalg.norm(now.value));\n",
    "        if(num_son == 0):\n",
    "            return;\n",
    "        length = (r-l)/num_son;\n",
    "        for i in range(num_son):\n",
    "            self.cnt+=1;\n",
    "            self.cal_tree_pos(now.son[i],l+i*length,l+(i+1)*length,h-1.5,now,pos_x,pos_y,edges,label_hash,labels,hover_text,values);\n",
    "            \n",
    "\n",
    "    def run_graph(self):\n",
    "        \n",
    "        self.cal_tree_pos(self.root1,1,10,self.height,self.root1, self.pos_x,self.pos_y,self.edges,self.label_hash,self.labels,self.hover_text,self.values);\n",
    "        \n",
    "        \n",
    "        for i in self.edges:\n",
    "            p1,p2 = i;\n",
    "            index1=self.label_hash[p1];\n",
    "            index2=self.label_hash[p2];\n",
    "\n",
    "            x1=self.pos_x[index1];y1=self.pos_y[index1];\n",
    "            x2=self.pos_x[index2];y2=self.pos_y[index2];\n",
    "            self.fig.add_shape(\n",
    "                type=\"line\",\n",
    "                x0=x1, y0=y1, x1=x2, y1=y2,\n",
    "                line=dict(\n",
    "                    color=\"#333\",\n",
    "                    width=4,\n",
    "                ),\n",
    "                layer=\"below\"\n",
    "            )\n",
    "        self.fig.add_trace(go.Scatter(x=self.pos_x,\n",
    "                        y=self.pos_y,\n",
    "                        mode='markers+text',\n",
    "                        marker=dict(symbol='circle-dot',\n",
    "                                        size=50,\n",
    "                                        # color='#5B91D9',  \n",
    "                                        color=self.values,\n",
    "                                        colorscale=\"peach\",\n",
    "                                        showscale=True,\n",
    "                                        # line=dict(color='rgb(50,50,50)', width=1)\n",
    "                                        ),\n",
    "                        text=self.labels,\n",
    "                        hoverinfo='text',\n",
    "                        # hovertext=self.hover_text,\n",
    "                        #textposition=\"top center\",\n",
    "                        textfont=dict(family='sans serif',\n",
    "                        size=18,\n",
    "                        color='#000000'\n",
    "                            ),\n",
    "                        opacity=0.8,\n",
    "                        ))\n",
    "        self.fig.update_layout(  \n",
    "            xaxis= dict(showline=False, # hide axis line, grid, ticklabels and  title\n",
    "                    zeroline=False,\n",
    "                    showgrid=False,\n",
    "                    showticklabels=False,\n",
    "                    ),\n",
    "            yaxis=dict(showline=False, # hide axis line, grid, ticklabels and  title\n",
    "                    zeroline=False,\n",
    "                    showgrid=False,\n",
    "                    showticklabels=False,\n",
    "                    ),\n",
    "        width=1000, height=500)\n",
    "        \n",
    "        # self.fig.show()\n",
    "    def show_fig(self):\n",
    "        self.fig.show();\n",
    "        \n",
    "    "
   ]
  },
  {
   "cell_type": "code",
   "execution_count": 46,
   "metadata": {},
   "outputs": [
    {
     "name": "stderr",
     "output_type": "stream",
     "text": [
      "/var/folders/bm/69jvgsdj3rxch558kx9yp9y00000gn/T/ipykernel_77550/236252659.py:4: DeprecationWarning:\n",
      "\n",
      "`np.int` is a deprecated alias for the builtin `int`. To silence this warning, use `int` by itself. Doing this will not modify any behavior and is safe. When replacing `np.int`, you may wish to use e.g. `np.int64` or `np.int32` to specify the precision. If you wish to review your current use, check the release note link for additional information.\n",
      "Deprecated in NumPy 1.20; for more details and guidance: https://numpy.org/devdocs/release/1.20.0-notes.html#deprecations\n",
      "\n"
     ]
    },
    {
     "data": {
      "application/vnd.plotly.v1+json": {
       "config": {
        "plotlyServerURL": "https://plot.ly"
       },
       "data": [
        {
         "hoverinfo": "text",
         "marker": {
          "color": [
           3.8477103311371907,
           4.285698942083904,
           4.5803323970709755,
           5.163259499697257,
           4.884329253269241,
           4.64251333881706,
           5.470331318067095,
           5.523376059746415,
           4.624152039542267,
           5.543713970284447,
           4.596510232160775,
           4.337194895097432,
           5.53163859704577,
           5.76931393964406,
           5.716131657562999,
           5.334937489163518,
           5.164094607674183,
           4.296467061248915,
           5.530389574716852,
           5.96498584215037,
           5.684698264452725,
           4.039384441364815,
           5.183877591127664,
           3.729288002626349,
           3.288168615514185,
           5.284137215624354,
           7.201855175300284,
           4.349254662172487,
           5.374999911702155,
           4.555590277865986,
           7.506279803401832
          ],
          "colorscale": [
           [
            0,
            "rgb(253, 224, 197)"
           ],
           [
            0.16666666666666666,
            "rgb(250, 203, 166)"
           ],
           [
            0.3333333333333333,
            "rgb(248, 181, 139)"
           ],
           [
            0.5,
            "rgb(245, 158, 114)"
           ],
           [
            0.6666666666666666,
            "rgb(242, 133, 93)"
           ],
           [
            0.8333333333333334,
            "rgb(239, 106, 76)"
           ],
           [
            1,
            "rgb(235, 74, 64)"
           ]
          ],
          "showscale": true,
          "size": 50,
          "symbol": "circle-dot"
         },
         "mode": "markers+text",
         "opacity": 0.8,
         "text": [
          "36",
          "34",
          "25",
          "17",
          "9",
          "11",
          "1",
          "7",
          "32",
          "12",
          "29",
          "6",
          "26",
          "10",
          "3",
          "0",
          "16",
          "35",
          "31",
          "14",
          "18",
          "33",
          "2",
          "30",
          "8",
          "28",
          "15",
          "27",
          "13",
          "4",
          "5"
         ],
         "textfont": {
          "color": "#000000",
          "family": "sans serif",
          "size": 18
         },
         "type": "scatter",
         "x": [
          5.5,
          3.25,
          2.125,
          1.5625,
          2.6875,
          2.6875,
          2.6875,
          2.6875,
          4.375,
          3.8125,
          4.9375,
          4.65625,
          5.21875,
          5.078125,
          5.359375,
          5.359375,
          5.359375,
          7.75,
          6.625,
          6.0625,
          7.1875,
          8.875,
          8.3125,
          9.4375,
          9.15625,
          9.71875,
          9.578125,
          9.859375,
          9.7890625,
          9.9296875,
          9.9296875
         ],
         "y": [
          5,
          3.5,
          2,
          0.5,
          0.5,
          -1,
          -2.5,
          -4,
          2,
          0.5,
          0.5,
          -1,
          -1,
          -2.5,
          -2.5,
          -4,
          -5.5,
          3.5,
          2,
          0.5,
          0.5,
          2,
          0.5,
          0.5,
          -1,
          -1,
          -2.5,
          -2.5,
          -4,
          -4,
          -5.5
         ]
        }
       ],
       "layout": {
        "height": 500,
        "shapes": [
         {
          "layer": "below",
          "line": {
           "color": "#333",
           "width": 4
          },
          "type": "line",
          "x0": 5.5,
          "x1": 5.5,
          "y0": 5,
          "y1": 5
         },
         {
          "layer": "below",
          "line": {
           "color": "#333",
           "width": 4
          },
          "type": "line",
          "x0": 5.5,
          "x1": 3.25,
          "y0": 5,
          "y1": 3.5
         },
         {
          "layer": "below",
          "line": {
           "color": "#333",
           "width": 4
          },
          "type": "line",
          "x0": 3.25,
          "x1": 2.125,
          "y0": 3.5,
          "y1": 2
         },
         {
          "layer": "below",
          "line": {
           "color": "#333",
           "width": 4
          },
          "type": "line",
          "x0": 2.125,
          "x1": 1.5625,
          "y0": 2,
          "y1": 0.5
         },
         {
          "layer": "below",
          "line": {
           "color": "#333",
           "width": 4
          },
          "type": "line",
          "x0": 2.125,
          "x1": 2.6875,
          "y0": 2,
          "y1": 0.5
         },
         {
          "layer": "below",
          "line": {
           "color": "#333",
           "width": 4
          },
          "type": "line",
          "x0": 2.6875,
          "x1": 2.6875,
          "y0": 0.5,
          "y1": -1
         },
         {
          "layer": "below",
          "line": {
           "color": "#333",
           "width": 4
          },
          "type": "line",
          "x0": 2.6875,
          "x1": 2.6875,
          "y0": -1,
          "y1": -2.5
         },
         {
          "layer": "below",
          "line": {
           "color": "#333",
           "width": 4
          },
          "type": "line",
          "x0": 2.6875,
          "x1": 2.6875,
          "y0": -2.5,
          "y1": -4
         },
         {
          "layer": "below",
          "line": {
           "color": "#333",
           "width": 4
          },
          "type": "line",
          "x0": 3.25,
          "x1": 4.375,
          "y0": 3.5,
          "y1": 2
         },
         {
          "layer": "below",
          "line": {
           "color": "#333",
           "width": 4
          },
          "type": "line",
          "x0": 4.375,
          "x1": 3.8125,
          "y0": 2,
          "y1": 0.5
         },
         {
          "layer": "below",
          "line": {
           "color": "#333",
           "width": 4
          },
          "type": "line",
          "x0": 4.375,
          "x1": 4.9375,
          "y0": 2,
          "y1": 0.5
         },
         {
          "layer": "below",
          "line": {
           "color": "#333",
           "width": 4
          },
          "type": "line",
          "x0": 4.9375,
          "x1": 4.65625,
          "y0": 0.5,
          "y1": -1
         },
         {
          "layer": "below",
          "line": {
           "color": "#333",
           "width": 4
          },
          "type": "line",
          "x0": 4.9375,
          "x1": 5.21875,
          "y0": 0.5,
          "y1": -1
         },
         {
          "layer": "below",
          "line": {
           "color": "#333",
           "width": 4
          },
          "type": "line",
          "x0": 5.21875,
          "x1": 5.078125,
          "y0": -1,
          "y1": -2.5
         },
         {
          "layer": "below",
          "line": {
           "color": "#333",
           "width": 4
          },
          "type": "line",
          "x0": 5.21875,
          "x1": 5.359375,
          "y0": -1,
          "y1": -2.5
         },
         {
          "layer": "below",
          "line": {
           "color": "#333",
           "width": 4
          },
          "type": "line",
          "x0": 5.359375,
          "x1": 5.359375,
          "y0": -2.5,
          "y1": -4
         },
         {
          "layer": "below",
          "line": {
           "color": "#333",
           "width": 4
          },
          "type": "line",
          "x0": 5.359375,
          "x1": 5.359375,
          "y0": -4,
          "y1": -5.5
         },
         {
          "layer": "below",
          "line": {
           "color": "#333",
           "width": 4
          },
          "type": "line",
          "x0": 5.5,
          "x1": 7.75,
          "y0": 5,
          "y1": 3.5
         },
         {
          "layer": "below",
          "line": {
           "color": "#333",
           "width": 4
          },
          "type": "line",
          "x0": 7.75,
          "x1": 6.625,
          "y0": 3.5,
          "y1": 2
         },
         {
          "layer": "below",
          "line": {
           "color": "#333",
           "width": 4
          },
          "type": "line",
          "x0": 6.625,
          "x1": 6.0625,
          "y0": 2,
          "y1": 0.5
         },
         {
          "layer": "below",
          "line": {
           "color": "#333",
           "width": 4
          },
          "type": "line",
          "x0": 6.625,
          "x1": 7.1875,
          "y0": 2,
          "y1": 0.5
         },
         {
          "layer": "below",
          "line": {
           "color": "#333",
           "width": 4
          },
          "type": "line",
          "x0": 7.75,
          "x1": 8.875,
          "y0": 3.5,
          "y1": 2
         },
         {
          "layer": "below",
          "line": {
           "color": "#333",
           "width": 4
          },
          "type": "line",
          "x0": 8.875,
          "x1": 8.3125,
          "y0": 2,
          "y1": 0.5
         },
         {
          "layer": "below",
          "line": {
           "color": "#333",
           "width": 4
          },
          "type": "line",
          "x0": 8.875,
          "x1": 9.4375,
          "y0": 2,
          "y1": 0.5
         },
         {
          "layer": "below",
          "line": {
           "color": "#333",
           "width": 4
          },
          "type": "line",
          "x0": 9.4375,
          "x1": 9.15625,
          "y0": 0.5,
          "y1": -1
         },
         {
          "layer": "below",
          "line": {
           "color": "#333",
           "width": 4
          },
          "type": "line",
          "x0": 9.4375,
          "x1": 9.71875,
          "y0": 0.5,
          "y1": -1
         },
         {
          "layer": "below",
          "line": {
           "color": "#333",
           "width": 4
          },
          "type": "line",
          "x0": 9.71875,
          "x1": 9.578125,
          "y0": -1,
          "y1": -2.5
         },
         {
          "layer": "below",
          "line": {
           "color": "#333",
           "width": 4
          },
          "type": "line",
          "x0": 9.71875,
          "x1": 9.859375,
          "y0": -1,
          "y1": -2.5
         },
         {
          "layer": "below",
          "line": {
           "color": "#333",
           "width": 4
          },
          "type": "line",
          "x0": 9.859375,
          "x1": 9.7890625,
          "y0": -2.5,
          "y1": -4
         },
         {
          "layer": "below",
          "line": {
           "color": "#333",
           "width": 4
          },
          "type": "line",
          "x0": 9.859375,
          "x1": 9.9296875,
          "y0": -2.5,
          "y1": -4
         },
         {
          "layer": "below",
          "line": {
           "color": "#333",
           "width": 4
          },
          "type": "line",
          "x0": 9.9296875,
          "x1": 9.9296875,
          "y0": -4,
          "y1": -5.5
         }
        ],
        "template": {
         "data": {
          "bar": [
           {
            "error_x": {
             "color": "#2a3f5f"
            },
            "error_y": {
             "color": "#2a3f5f"
            },
            "marker": {
             "line": {
              "color": "#E5ECF6",
              "width": 0.5
             },
             "pattern": {
              "fillmode": "overlay",
              "size": 10,
              "solidity": 0.2
             }
            },
            "type": "bar"
           }
          ],
          "barpolar": [
           {
            "marker": {
             "line": {
              "color": "#E5ECF6",
              "width": 0.5
             },
             "pattern": {
              "fillmode": "overlay",
              "size": 10,
              "solidity": 0.2
             }
            },
            "type": "barpolar"
           }
          ],
          "carpet": [
           {
            "aaxis": {
             "endlinecolor": "#2a3f5f",
             "gridcolor": "white",
             "linecolor": "white",
             "minorgridcolor": "white",
             "startlinecolor": "#2a3f5f"
            },
            "baxis": {
             "endlinecolor": "#2a3f5f",
             "gridcolor": "white",
             "linecolor": "white",
             "minorgridcolor": "white",
             "startlinecolor": "#2a3f5f"
            },
            "type": "carpet"
           }
          ],
          "choropleth": [
           {
            "colorbar": {
             "outlinewidth": 0,
             "ticks": ""
            },
            "type": "choropleth"
           }
          ],
          "contour": [
           {
            "colorbar": {
             "outlinewidth": 0,
             "ticks": ""
            },
            "colorscale": [
             [
              0,
              "#0d0887"
             ],
             [
              0.1111111111111111,
              "#46039f"
             ],
             [
              0.2222222222222222,
              "#7201a8"
             ],
             [
              0.3333333333333333,
              "#9c179e"
             ],
             [
              0.4444444444444444,
              "#bd3786"
             ],
             [
              0.5555555555555556,
              "#d8576b"
             ],
             [
              0.6666666666666666,
              "#ed7953"
             ],
             [
              0.7777777777777778,
              "#fb9f3a"
             ],
             [
              0.8888888888888888,
              "#fdca26"
             ],
             [
              1,
              "#f0f921"
             ]
            ],
            "type": "contour"
           }
          ],
          "contourcarpet": [
           {
            "colorbar": {
             "outlinewidth": 0,
             "ticks": ""
            },
            "type": "contourcarpet"
           }
          ],
          "heatmap": [
           {
            "colorbar": {
             "outlinewidth": 0,
             "ticks": ""
            },
            "colorscale": [
             [
              0,
              "#0d0887"
             ],
             [
              0.1111111111111111,
              "#46039f"
             ],
             [
              0.2222222222222222,
              "#7201a8"
             ],
             [
              0.3333333333333333,
              "#9c179e"
             ],
             [
              0.4444444444444444,
              "#bd3786"
             ],
             [
              0.5555555555555556,
              "#d8576b"
             ],
             [
              0.6666666666666666,
              "#ed7953"
             ],
             [
              0.7777777777777778,
              "#fb9f3a"
             ],
             [
              0.8888888888888888,
              "#fdca26"
             ],
             [
              1,
              "#f0f921"
             ]
            ],
            "type": "heatmap"
           }
          ],
          "heatmapgl": [
           {
            "colorbar": {
             "outlinewidth": 0,
             "ticks": ""
            },
            "colorscale": [
             [
              0,
              "#0d0887"
             ],
             [
              0.1111111111111111,
              "#46039f"
             ],
             [
              0.2222222222222222,
              "#7201a8"
             ],
             [
              0.3333333333333333,
              "#9c179e"
             ],
             [
              0.4444444444444444,
              "#bd3786"
             ],
             [
              0.5555555555555556,
              "#d8576b"
             ],
             [
              0.6666666666666666,
              "#ed7953"
             ],
             [
              0.7777777777777778,
              "#fb9f3a"
             ],
             [
              0.8888888888888888,
              "#fdca26"
             ],
             [
              1,
              "#f0f921"
             ]
            ],
            "type": "heatmapgl"
           }
          ],
          "histogram": [
           {
            "marker": {
             "pattern": {
              "fillmode": "overlay",
              "size": 10,
              "solidity": 0.2
             }
            },
            "type": "histogram"
           }
          ],
          "histogram2d": [
           {
            "colorbar": {
             "outlinewidth": 0,
             "ticks": ""
            },
            "colorscale": [
             [
              0,
              "#0d0887"
             ],
             [
              0.1111111111111111,
              "#46039f"
             ],
             [
              0.2222222222222222,
              "#7201a8"
             ],
             [
              0.3333333333333333,
              "#9c179e"
             ],
             [
              0.4444444444444444,
              "#bd3786"
             ],
             [
              0.5555555555555556,
              "#d8576b"
             ],
             [
              0.6666666666666666,
              "#ed7953"
             ],
             [
              0.7777777777777778,
              "#fb9f3a"
             ],
             [
              0.8888888888888888,
              "#fdca26"
             ],
             [
              1,
              "#f0f921"
             ]
            ],
            "type": "histogram2d"
           }
          ],
          "histogram2dcontour": [
           {
            "colorbar": {
             "outlinewidth": 0,
             "ticks": ""
            },
            "colorscale": [
             [
              0,
              "#0d0887"
             ],
             [
              0.1111111111111111,
              "#46039f"
             ],
             [
              0.2222222222222222,
              "#7201a8"
             ],
             [
              0.3333333333333333,
              "#9c179e"
             ],
             [
              0.4444444444444444,
              "#bd3786"
             ],
             [
              0.5555555555555556,
              "#d8576b"
             ],
             [
              0.6666666666666666,
              "#ed7953"
             ],
             [
              0.7777777777777778,
              "#fb9f3a"
             ],
             [
              0.8888888888888888,
              "#fdca26"
             ],
             [
              1,
              "#f0f921"
             ]
            ],
            "type": "histogram2dcontour"
           }
          ],
          "mesh3d": [
           {
            "colorbar": {
             "outlinewidth": 0,
             "ticks": ""
            },
            "type": "mesh3d"
           }
          ],
          "parcoords": [
           {
            "line": {
             "colorbar": {
              "outlinewidth": 0,
              "ticks": ""
             }
            },
            "type": "parcoords"
           }
          ],
          "pie": [
           {
            "automargin": true,
            "type": "pie"
           }
          ],
          "scatter": [
           {
            "fillpattern": {
             "fillmode": "overlay",
             "size": 10,
             "solidity": 0.2
            },
            "type": "scatter"
           }
          ],
          "scatter3d": [
           {
            "line": {
             "colorbar": {
              "outlinewidth": 0,
              "ticks": ""
             }
            },
            "marker": {
             "colorbar": {
              "outlinewidth": 0,
              "ticks": ""
             }
            },
            "type": "scatter3d"
           }
          ],
          "scattercarpet": [
           {
            "marker": {
             "colorbar": {
              "outlinewidth": 0,
              "ticks": ""
             }
            },
            "type": "scattercarpet"
           }
          ],
          "scattergeo": [
           {
            "marker": {
             "colorbar": {
              "outlinewidth": 0,
              "ticks": ""
             }
            },
            "type": "scattergeo"
           }
          ],
          "scattergl": [
           {
            "marker": {
             "colorbar": {
              "outlinewidth": 0,
              "ticks": ""
             }
            },
            "type": "scattergl"
           }
          ],
          "scattermapbox": [
           {
            "marker": {
             "colorbar": {
              "outlinewidth": 0,
              "ticks": ""
             }
            },
            "type": "scattermapbox"
           }
          ],
          "scatterpolar": [
           {
            "marker": {
             "colorbar": {
              "outlinewidth": 0,
              "ticks": ""
             }
            },
            "type": "scatterpolar"
           }
          ],
          "scatterpolargl": [
           {
            "marker": {
             "colorbar": {
              "outlinewidth": 0,
              "ticks": ""
             }
            },
            "type": "scatterpolargl"
           }
          ],
          "scatterternary": [
           {
            "marker": {
             "colorbar": {
              "outlinewidth": 0,
              "ticks": ""
             }
            },
            "type": "scatterternary"
           }
          ],
          "surface": [
           {
            "colorbar": {
             "outlinewidth": 0,
             "ticks": ""
            },
            "colorscale": [
             [
              0,
              "#0d0887"
             ],
             [
              0.1111111111111111,
              "#46039f"
             ],
             [
              0.2222222222222222,
              "#7201a8"
             ],
             [
              0.3333333333333333,
              "#9c179e"
             ],
             [
              0.4444444444444444,
              "#bd3786"
             ],
             [
              0.5555555555555556,
              "#d8576b"
             ],
             [
              0.6666666666666666,
              "#ed7953"
             ],
             [
              0.7777777777777778,
              "#fb9f3a"
             ],
             [
              0.8888888888888888,
              "#fdca26"
             ],
             [
              1,
              "#f0f921"
             ]
            ],
            "type": "surface"
           }
          ],
          "table": [
           {
            "cells": {
             "fill": {
              "color": "#EBF0F8"
             },
             "line": {
              "color": "white"
             }
            },
            "header": {
             "fill": {
              "color": "#C8D4E3"
             },
             "line": {
              "color": "white"
             }
            },
            "type": "table"
           }
          ]
         },
         "layout": {
          "annotationdefaults": {
           "arrowcolor": "#2a3f5f",
           "arrowhead": 0,
           "arrowwidth": 1
          },
          "autotypenumbers": "strict",
          "coloraxis": {
           "colorbar": {
            "outlinewidth": 0,
            "ticks": ""
           }
          },
          "colorscale": {
           "diverging": [
            [
             0,
             "#8e0152"
            ],
            [
             0.1,
             "#c51b7d"
            ],
            [
             0.2,
             "#de77ae"
            ],
            [
             0.3,
             "#f1b6da"
            ],
            [
             0.4,
             "#fde0ef"
            ],
            [
             0.5,
             "#f7f7f7"
            ],
            [
             0.6,
             "#e6f5d0"
            ],
            [
             0.7,
             "#b8e186"
            ],
            [
             0.8,
             "#7fbc41"
            ],
            [
             0.9,
             "#4d9221"
            ],
            [
             1,
             "#276419"
            ]
           ],
           "sequential": [
            [
             0,
             "#0d0887"
            ],
            [
             0.1111111111111111,
             "#46039f"
            ],
            [
             0.2222222222222222,
             "#7201a8"
            ],
            [
             0.3333333333333333,
             "#9c179e"
            ],
            [
             0.4444444444444444,
             "#bd3786"
            ],
            [
             0.5555555555555556,
             "#d8576b"
            ],
            [
             0.6666666666666666,
             "#ed7953"
            ],
            [
             0.7777777777777778,
             "#fb9f3a"
            ],
            [
             0.8888888888888888,
             "#fdca26"
            ],
            [
             1,
             "#f0f921"
            ]
           ],
           "sequentialminus": [
            [
             0,
             "#0d0887"
            ],
            [
             0.1111111111111111,
             "#46039f"
            ],
            [
             0.2222222222222222,
             "#7201a8"
            ],
            [
             0.3333333333333333,
             "#9c179e"
            ],
            [
             0.4444444444444444,
             "#bd3786"
            ],
            [
             0.5555555555555556,
             "#d8576b"
            ],
            [
             0.6666666666666666,
             "#ed7953"
            ],
            [
             0.7777777777777778,
             "#fb9f3a"
            ],
            [
             0.8888888888888888,
             "#fdca26"
            ],
            [
             1,
             "#f0f921"
            ]
           ]
          },
          "colorway": [
           "#636efa",
           "#EF553B",
           "#00cc96",
           "#ab63fa",
           "#FFA15A",
           "#19d3f3",
           "#FF6692",
           "#B6E880",
           "#FF97FF",
           "#FECB52"
          ],
          "font": {
           "color": "#2a3f5f"
          },
          "geo": {
           "bgcolor": "white",
           "lakecolor": "white",
           "landcolor": "#E5ECF6",
           "showlakes": true,
           "showland": true,
           "subunitcolor": "white"
          },
          "hoverlabel": {
           "align": "left"
          },
          "hovermode": "closest",
          "mapbox": {
           "style": "light"
          },
          "paper_bgcolor": "white",
          "plot_bgcolor": "#E5ECF6",
          "polar": {
           "angularaxis": {
            "gridcolor": "white",
            "linecolor": "white",
            "ticks": ""
           },
           "bgcolor": "#E5ECF6",
           "radialaxis": {
            "gridcolor": "white",
            "linecolor": "white",
            "ticks": ""
           }
          },
          "scene": {
           "xaxis": {
            "backgroundcolor": "#E5ECF6",
            "gridcolor": "white",
            "gridwidth": 2,
            "linecolor": "white",
            "showbackground": true,
            "ticks": "",
            "zerolinecolor": "white"
           },
           "yaxis": {
            "backgroundcolor": "#E5ECF6",
            "gridcolor": "white",
            "gridwidth": 2,
            "linecolor": "white",
            "showbackground": true,
            "ticks": "",
            "zerolinecolor": "white"
           },
           "zaxis": {
            "backgroundcolor": "#E5ECF6",
            "gridcolor": "white",
            "gridwidth": 2,
            "linecolor": "white",
            "showbackground": true,
            "ticks": "",
            "zerolinecolor": "white"
           }
          },
          "shapedefaults": {
           "line": {
            "color": "#2a3f5f"
           }
          },
          "ternary": {
           "aaxis": {
            "gridcolor": "white",
            "linecolor": "white",
            "ticks": ""
           },
           "baxis": {
            "gridcolor": "white",
            "linecolor": "white",
            "ticks": ""
           },
           "bgcolor": "#E5ECF6",
           "caxis": {
            "gridcolor": "white",
            "linecolor": "white",
            "ticks": ""
           }
          },
          "title": {
           "x": 0.05
          },
          "xaxis": {
           "automargin": true,
           "gridcolor": "white",
           "linecolor": "white",
           "ticks": "",
           "title": {
            "standoff": 15
           },
           "zerolinecolor": "white",
           "zerolinewidth": 2
          },
          "yaxis": {
           "automargin": true,
           "gridcolor": "white",
           "linecolor": "white",
           "ticks": "",
           "title": {
            "standoff": 15
           },
           "zerolinecolor": "white",
           "zerolinewidth": 2
          }
         }
        },
        "width": 1000,
        "xaxis": {
         "showgrid": false,
         "showline": false,
         "showticklabels": false,
         "zeroline": false
        },
        "yaxis": {
         "showgrid": false,
         "showline": false,
         "showticklabels": false,
         "zeroline": false
        }
       }
      }
     },
     "metadata": {},
     "output_type": "display_data"
    }
   ],
   "source": [
    "pos_1 = pd.read_csv(\"./datas/merge6/datas.csv\",index_col=\"Unnamed: 0\").values\n",
    "edge_1 = np.load(\"./datas/merge6/datalink.npy\");\n",
    "father_name1 = np.load(\"./datas/merge6/dataxy.npy\")\n",
    "father_name1 = father_name1.astype(np.int)\n",
    "n1 = len(edge_1)\n",
    "n_points = len(pos_1);\n",
    "nodes1 = [node(name=str(i),son=[]) for i in range(n1)];\n",
    "for i in range(n1):\n",
    "    if(edge_1[i]!=-1):\n",
    "        nodes1[edge_1[i]].son.append(nodes1[i])\n",
    "    nodes1[i].name = str(father_name1[i])\n",
    "    if(father_name1[i]<n_points):\n",
    "        nodes1[i].value = pos_1[father_name1[i]]\n",
    "    else:\n",
    "        nodes1[i].value = 0.0\n",
    "for i in range(n1-1,-1,-1):\n",
    "    if(type(nodes1[i].value) == float):\n",
    "        count = 0;\n",
    "        now = 0;\n",
    "        for son in nodes1[i].son:\n",
    "            if(count==0):\n",
    "                now = son.value;\n",
    "            else:\n",
    "                now = now + son.value;\n",
    "            count += 1\n",
    "        nodes1[i].value = now/count\n",
    "show_tree(nodes1[0]).show_fig()"
   ]
  },
  {
   "cell_type": "code",
   "execution_count": 47,
   "metadata": {},
   "outputs": [
    {
     "name": "stderr",
     "output_type": "stream",
     "text": [
      "/var/folders/bm/69jvgsdj3rxch558kx9yp9y00000gn/T/ipykernel_77550/1405956926.py:4: DeprecationWarning:\n",
      "\n",
      "`np.int` is a deprecated alias for the builtin `int`. To silence this warning, use `int` by itself. Doing this will not modify any behavior and is safe. When replacing `np.int`, you may wish to use e.g. `np.int64` or `np.int32` to specify the precision. If you wish to review your current use, check the release note link for additional information.\n",
      "Deprecated in NumPy 1.20; for more details and guidance: https://numpy.org/devdocs/release/1.20.0-notes.html#deprecations\n",
      "\n"
     ]
    },
    {
     "data": {
      "application/vnd.plotly.v1+json": {
       "config": {
        "plotlyServerURL": "https://plot.ly"
       },
       "data": [
        {
         "hoverinfo": "text",
         "marker": {
          "color": [
           5.149390595619856,
           5.313672416012818,
           5.449968989877282,
           6.947042026992814,
           4.884274044313583,
           6.5038523955664145,
           4.375369062301822,
           8.173771912691857,
           7.258353576692976,
           7.226304887795141,
           7.802120581580199,
           6.607054782631287,
           6.939145716429609,
           6.468937819715311,
           7.652230687692866,
           5.821600919796939,
           5.936130740252502,
           6.150881401653563,
           6.268828572457919,
           6.124265795719515,
           7.108885731206823,
           6.334766105508015,
           6.789430315659634,
           6.403655167125248,
           6.620134610554295,
           6.370546609584951,
           7.1794697128044485,
           5.984057606650498,
           6.249667830252995,
           6.073323003204474
          ],
          "colorscale": [
           [
            0,
            "rgb(253, 224, 197)"
           ],
           [
            0.16666666666666666,
            "rgb(250, 203, 166)"
           ],
           [
            0.3333333333333333,
            "rgb(248, 181, 139)"
           ],
           [
            0.5,
            "rgb(245, 158, 114)"
           ],
           [
            0.6666666666666666,
            "rgb(242, 133, 93)"
           ],
           [
            0.8333333333333334,
            "rgb(239, 106, 76)"
           ],
           [
            1,
            "rgb(235, 74, 64)"
           ]
          ],
          "showscale": true,
          "size": 50,
          "symbol": "circle-dot"
         },
         "mode": "markers+text",
         "opacity": 0.8,
         "text": [
          "30",
          "23",
          "19",
          "7",
          "18",
          "8",
          "3",
          "15",
          "21",
          "0",
          "9",
          "29",
          "13",
          "28",
          "1",
          "27",
          "6",
          "26",
          "24",
          "12",
          "14",
          "25",
          "11",
          "22",
          "10",
          "20",
          "2",
          "17",
          "4",
          "5"
         ],
         "textfont": {
          "color": "#000000",
          "family": "sans serif",
          "size": 18
         },
         "type": "scatter",
         "x": [
          5.5,
          3.25,
          2.125,
          1.5625,
          2.6875,
          2.40625,
          2.96875,
          2.96875,
          4.375,
          3.8125,
          4.9375,
          7.75,
          6.625,
          8.875,
          8.3125,
          9.4375,
          9.15625,
          9.71875,
          9.578125,
          9.5078125,
          9.6484375,
          9.859375,
          9.7890625,
          9.9296875,
          9.89453125,
          9.96484375,
          9.947265625,
          9.982421875,
          9.9736328125,
          9.9912109375
         ],
         "y": [
          5,
          3.5,
          2,
          0.5,
          0.5,
          -1,
          -1,
          -2.5,
          2,
          0.5,
          0.5,
          3.5,
          2,
          2,
          0.5,
          0.5,
          -1,
          -1,
          -2.5,
          -4,
          -4,
          -2.5,
          -4,
          -4,
          -5.5,
          -5.5,
          -7,
          -7,
          -8.5,
          -8.5
         ]
        }
       ],
       "layout": {
        "height": 500,
        "shapes": [
         {
          "layer": "below",
          "line": {
           "color": "#333",
           "width": 4
          },
          "type": "line",
          "x0": 5.5,
          "x1": 5.5,
          "y0": 5,
          "y1": 5
         },
         {
          "layer": "below",
          "line": {
           "color": "#333",
           "width": 4
          },
          "type": "line",
          "x0": 5.5,
          "x1": 3.25,
          "y0": 5,
          "y1": 3.5
         },
         {
          "layer": "below",
          "line": {
           "color": "#333",
           "width": 4
          },
          "type": "line",
          "x0": 3.25,
          "x1": 2.125,
          "y0": 3.5,
          "y1": 2
         },
         {
          "layer": "below",
          "line": {
           "color": "#333",
           "width": 4
          },
          "type": "line",
          "x0": 2.125,
          "x1": 1.5625,
          "y0": 2,
          "y1": 0.5
         },
         {
          "layer": "below",
          "line": {
           "color": "#333",
           "width": 4
          },
          "type": "line",
          "x0": 2.125,
          "x1": 2.6875,
          "y0": 2,
          "y1": 0.5
         },
         {
          "layer": "below",
          "line": {
           "color": "#333",
           "width": 4
          },
          "type": "line",
          "x0": 2.6875,
          "x1": 2.40625,
          "y0": 0.5,
          "y1": -1
         },
         {
          "layer": "below",
          "line": {
           "color": "#333",
           "width": 4
          },
          "type": "line",
          "x0": 2.6875,
          "x1": 2.96875,
          "y0": 0.5,
          "y1": -1
         },
         {
          "layer": "below",
          "line": {
           "color": "#333",
           "width": 4
          },
          "type": "line",
          "x0": 2.96875,
          "x1": 2.96875,
          "y0": -1,
          "y1": -2.5
         },
         {
          "layer": "below",
          "line": {
           "color": "#333",
           "width": 4
          },
          "type": "line",
          "x0": 3.25,
          "x1": 4.375,
          "y0": 3.5,
          "y1": 2
         },
         {
          "layer": "below",
          "line": {
           "color": "#333",
           "width": 4
          },
          "type": "line",
          "x0": 4.375,
          "x1": 3.8125,
          "y0": 2,
          "y1": 0.5
         },
         {
          "layer": "below",
          "line": {
           "color": "#333",
           "width": 4
          },
          "type": "line",
          "x0": 4.375,
          "x1": 4.9375,
          "y0": 2,
          "y1": 0.5
         },
         {
          "layer": "below",
          "line": {
           "color": "#333",
           "width": 4
          },
          "type": "line",
          "x0": 5.5,
          "x1": 7.75,
          "y0": 5,
          "y1": 3.5
         },
         {
          "layer": "below",
          "line": {
           "color": "#333",
           "width": 4
          },
          "type": "line",
          "x0": 7.75,
          "x1": 6.625,
          "y0": 3.5,
          "y1": 2
         },
         {
          "layer": "below",
          "line": {
           "color": "#333",
           "width": 4
          },
          "type": "line",
          "x0": 7.75,
          "x1": 8.875,
          "y0": 3.5,
          "y1": 2
         },
         {
          "layer": "below",
          "line": {
           "color": "#333",
           "width": 4
          },
          "type": "line",
          "x0": 8.875,
          "x1": 8.3125,
          "y0": 2,
          "y1": 0.5
         },
         {
          "layer": "below",
          "line": {
           "color": "#333",
           "width": 4
          },
          "type": "line",
          "x0": 8.875,
          "x1": 9.4375,
          "y0": 2,
          "y1": 0.5
         },
         {
          "layer": "below",
          "line": {
           "color": "#333",
           "width": 4
          },
          "type": "line",
          "x0": 9.4375,
          "x1": 9.15625,
          "y0": 0.5,
          "y1": -1
         },
         {
          "layer": "below",
          "line": {
           "color": "#333",
           "width": 4
          },
          "type": "line",
          "x0": 9.4375,
          "x1": 9.71875,
          "y0": 0.5,
          "y1": -1
         },
         {
          "layer": "below",
          "line": {
           "color": "#333",
           "width": 4
          },
          "type": "line",
          "x0": 9.71875,
          "x1": 9.578125,
          "y0": -1,
          "y1": -2.5
         },
         {
          "layer": "below",
          "line": {
           "color": "#333",
           "width": 4
          },
          "type": "line",
          "x0": 9.578125,
          "x1": 9.5078125,
          "y0": -2.5,
          "y1": -4
         },
         {
          "layer": "below",
          "line": {
           "color": "#333",
           "width": 4
          },
          "type": "line",
          "x0": 9.578125,
          "x1": 9.6484375,
          "y0": -2.5,
          "y1": -4
         },
         {
          "layer": "below",
          "line": {
           "color": "#333",
           "width": 4
          },
          "type": "line",
          "x0": 9.71875,
          "x1": 9.859375,
          "y0": -1,
          "y1": -2.5
         },
         {
          "layer": "below",
          "line": {
           "color": "#333",
           "width": 4
          },
          "type": "line",
          "x0": 9.859375,
          "x1": 9.7890625,
          "y0": -2.5,
          "y1": -4
         },
         {
          "layer": "below",
          "line": {
           "color": "#333",
           "width": 4
          },
          "type": "line",
          "x0": 9.859375,
          "x1": 9.9296875,
          "y0": -2.5,
          "y1": -4
         },
         {
          "layer": "below",
          "line": {
           "color": "#333",
           "width": 4
          },
          "type": "line",
          "x0": 9.9296875,
          "x1": 9.89453125,
          "y0": -4,
          "y1": -5.5
         },
         {
          "layer": "below",
          "line": {
           "color": "#333",
           "width": 4
          },
          "type": "line",
          "x0": 9.9296875,
          "x1": 9.96484375,
          "y0": -4,
          "y1": -5.5
         },
         {
          "layer": "below",
          "line": {
           "color": "#333",
           "width": 4
          },
          "type": "line",
          "x0": 9.96484375,
          "x1": 9.947265625,
          "y0": -5.5,
          "y1": -7
         },
         {
          "layer": "below",
          "line": {
           "color": "#333",
           "width": 4
          },
          "type": "line",
          "x0": 9.96484375,
          "x1": 9.982421875,
          "y0": -5.5,
          "y1": -7
         },
         {
          "layer": "below",
          "line": {
           "color": "#333",
           "width": 4
          },
          "type": "line",
          "x0": 9.982421875,
          "x1": 9.9736328125,
          "y0": -7,
          "y1": -8.5
         },
         {
          "layer": "below",
          "line": {
           "color": "#333",
           "width": 4
          },
          "type": "line",
          "x0": 9.982421875,
          "x1": 9.9912109375,
          "y0": -7,
          "y1": -8.5
         }
        ],
        "template": {
         "data": {
          "bar": [
           {
            "error_x": {
             "color": "#2a3f5f"
            },
            "error_y": {
             "color": "#2a3f5f"
            },
            "marker": {
             "line": {
              "color": "#E5ECF6",
              "width": 0.5
             },
             "pattern": {
              "fillmode": "overlay",
              "size": 10,
              "solidity": 0.2
             }
            },
            "type": "bar"
           }
          ],
          "barpolar": [
           {
            "marker": {
             "line": {
              "color": "#E5ECF6",
              "width": 0.5
             },
             "pattern": {
              "fillmode": "overlay",
              "size": 10,
              "solidity": 0.2
             }
            },
            "type": "barpolar"
           }
          ],
          "carpet": [
           {
            "aaxis": {
             "endlinecolor": "#2a3f5f",
             "gridcolor": "white",
             "linecolor": "white",
             "minorgridcolor": "white",
             "startlinecolor": "#2a3f5f"
            },
            "baxis": {
             "endlinecolor": "#2a3f5f",
             "gridcolor": "white",
             "linecolor": "white",
             "minorgridcolor": "white",
             "startlinecolor": "#2a3f5f"
            },
            "type": "carpet"
           }
          ],
          "choropleth": [
           {
            "colorbar": {
             "outlinewidth": 0,
             "ticks": ""
            },
            "type": "choropleth"
           }
          ],
          "contour": [
           {
            "colorbar": {
             "outlinewidth": 0,
             "ticks": ""
            },
            "colorscale": [
             [
              0,
              "#0d0887"
             ],
             [
              0.1111111111111111,
              "#46039f"
             ],
             [
              0.2222222222222222,
              "#7201a8"
             ],
             [
              0.3333333333333333,
              "#9c179e"
             ],
             [
              0.4444444444444444,
              "#bd3786"
             ],
             [
              0.5555555555555556,
              "#d8576b"
             ],
             [
              0.6666666666666666,
              "#ed7953"
             ],
             [
              0.7777777777777778,
              "#fb9f3a"
             ],
             [
              0.8888888888888888,
              "#fdca26"
             ],
             [
              1,
              "#f0f921"
             ]
            ],
            "type": "contour"
           }
          ],
          "contourcarpet": [
           {
            "colorbar": {
             "outlinewidth": 0,
             "ticks": ""
            },
            "type": "contourcarpet"
           }
          ],
          "heatmap": [
           {
            "colorbar": {
             "outlinewidth": 0,
             "ticks": ""
            },
            "colorscale": [
             [
              0,
              "#0d0887"
             ],
             [
              0.1111111111111111,
              "#46039f"
             ],
             [
              0.2222222222222222,
              "#7201a8"
             ],
             [
              0.3333333333333333,
              "#9c179e"
             ],
             [
              0.4444444444444444,
              "#bd3786"
             ],
             [
              0.5555555555555556,
              "#d8576b"
             ],
             [
              0.6666666666666666,
              "#ed7953"
             ],
             [
              0.7777777777777778,
              "#fb9f3a"
             ],
             [
              0.8888888888888888,
              "#fdca26"
             ],
             [
              1,
              "#f0f921"
             ]
            ],
            "type": "heatmap"
           }
          ],
          "heatmapgl": [
           {
            "colorbar": {
             "outlinewidth": 0,
             "ticks": ""
            },
            "colorscale": [
             [
              0,
              "#0d0887"
             ],
             [
              0.1111111111111111,
              "#46039f"
             ],
             [
              0.2222222222222222,
              "#7201a8"
             ],
             [
              0.3333333333333333,
              "#9c179e"
             ],
             [
              0.4444444444444444,
              "#bd3786"
             ],
             [
              0.5555555555555556,
              "#d8576b"
             ],
             [
              0.6666666666666666,
              "#ed7953"
             ],
             [
              0.7777777777777778,
              "#fb9f3a"
             ],
             [
              0.8888888888888888,
              "#fdca26"
             ],
             [
              1,
              "#f0f921"
             ]
            ],
            "type": "heatmapgl"
           }
          ],
          "histogram": [
           {
            "marker": {
             "pattern": {
              "fillmode": "overlay",
              "size": 10,
              "solidity": 0.2
             }
            },
            "type": "histogram"
           }
          ],
          "histogram2d": [
           {
            "colorbar": {
             "outlinewidth": 0,
             "ticks": ""
            },
            "colorscale": [
             [
              0,
              "#0d0887"
             ],
             [
              0.1111111111111111,
              "#46039f"
             ],
             [
              0.2222222222222222,
              "#7201a8"
             ],
             [
              0.3333333333333333,
              "#9c179e"
             ],
             [
              0.4444444444444444,
              "#bd3786"
             ],
             [
              0.5555555555555556,
              "#d8576b"
             ],
             [
              0.6666666666666666,
              "#ed7953"
             ],
             [
              0.7777777777777778,
              "#fb9f3a"
             ],
             [
              0.8888888888888888,
              "#fdca26"
             ],
             [
              1,
              "#f0f921"
             ]
            ],
            "type": "histogram2d"
           }
          ],
          "histogram2dcontour": [
           {
            "colorbar": {
             "outlinewidth": 0,
             "ticks": ""
            },
            "colorscale": [
             [
              0,
              "#0d0887"
             ],
             [
              0.1111111111111111,
              "#46039f"
             ],
             [
              0.2222222222222222,
              "#7201a8"
             ],
             [
              0.3333333333333333,
              "#9c179e"
             ],
             [
              0.4444444444444444,
              "#bd3786"
             ],
             [
              0.5555555555555556,
              "#d8576b"
             ],
             [
              0.6666666666666666,
              "#ed7953"
             ],
             [
              0.7777777777777778,
              "#fb9f3a"
             ],
             [
              0.8888888888888888,
              "#fdca26"
             ],
             [
              1,
              "#f0f921"
             ]
            ],
            "type": "histogram2dcontour"
           }
          ],
          "mesh3d": [
           {
            "colorbar": {
             "outlinewidth": 0,
             "ticks": ""
            },
            "type": "mesh3d"
           }
          ],
          "parcoords": [
           {
            "line": {
             "colorbar": {
              "outlinewidth": 0,
              "ticks": ""
             }
            },
            "type": "parcoords"
           }
          ],
          "pie": [
           {
            "automargin": true,
            "type": "pie"
           }
          ],
          "scatter": [
           {
            "fillpattern": {
             "fillmode": "overlay",
             "size": 10,
             "solidity": 0.2
            },
            "type": "scatter"
           }
          ],
          "scatter3d": [
           {
            "line": {
             "colorbar": {
              "outlinewidth": 0,
              "ticks": ""
             }
            },
            "marker": {
             "colorbar": {
              "outlinewidth": 0,
              "ticks": ""
             }
            },
            "type": "scatter3d"
           }
          ],
          "scattercarpet": [
           {
            "marker": {
             "colorbar": {
              "outlinewidth": 0,
              "ticks": ""
             }
            },
            "type": "scattercarpet"
           }
          ],
          "scattergeo": [
           {
            "marker": {
             "colorbar": {
              "outlinewidth": 0,
              "ticks": ""
             }
            },
            "type": "scattergeo"
           }
          ],
          "scattergl": [
           {
            "marker": {
             "colorbar": {
              "outlinewidth": 0,
              "ticks": ""
             }
            },
            "type": "scattergl"
           }
          ],
          "scattermapbox": [
           {
            "marker": {
             "colorbar": {
              "outlinewidth": 0,
              "ticks": ""
             }
            },
            "type": "scattermapbox"
           }
          ],
          "scatterpolar": [
           {
            "marker": {
             "colorbar": {
              "outlinewidth": 0,
              "ticks": ""
             }
            },
            "type": "scatterpolar"
           }
          ],
          "scatterpolargl": [
           {
            "marker": {
             "colorbar": {
              "outlinewidth": 0,
              "ticks": ""
             }
            },
            "type": "scatterpolargl"
           }
          ],
          "scatterternary": [
           {
            "marker": {
             "colorbar": {
              "outlinewidth": 0,
              "ticks": ""
             }
            },
            "type": "scatterternary"
           }
          ],
          "surface": [
           {
            "colorbar": {
             "outlinewidth": 0,
             "ticks": ""
            },
            "colorscale": [
             [
              0,
              "#0d0887"
             ],
             [
              0.1111111111111111,
              "#46039f"
             ],
             [
              0.2222222222222222,
              "#7201a8"
             ],
             [
              0.3333333333333333,
              "#9c179e"
             ],
             [
              0.4444444444444444,
              "#bd3786"
             ],
             [
              0.5555555555555556,
              "#d8576b"
             ],
             [
              0.6666666666666666,
              "#ed7953"
             ],
             [
              0.7777777777777778,
              "#fb9f3a"
             ],
             [
              0.8888888888888888,
              "#fdca26"
             ],
             [
              1,
              "#f0f921"
             ]
            ],
            "type": "surface"
           }
          ],
          "table": [
           {
            "cells": {
             "fill": {
              "color": "#EBF0F8"
             },
             "line": {
              "color": "white"
             }
            },
            "header": {
             "fill": {
              "color": "#C8D4E3"
             },
             "line": {
              "color": "white"
             }
            },
            "type": "table"
           }
          ]
         },
         "layout": {
          "annotationdefaults": {
           "arrowcolor": "#2a3f5f",
           "arrowhead": 0,
           "arrowwidth": 1
          },
          "autotypenumbers": "strict",
          "coloraxis": {
           "colorbar": {
            "outlinewidth": 0,
            "ticks": ""
           }
          },
          "colorscale": {
           "diverging": [
            [
             0,
             "#8e0152"
            ],
            [
             0.1,
             "#c51b7d"
            ],
            [
             0.2,
             "#de77ae"
            ],
            [
             0.3,
             "#f1b6da"
            ],
            [
             0.4,
             "#fde0ef"
            ],
            [
             0.5,
             "#f7f7f7"
            ],
            [
             0.6,
             "#e6f5d0"
            ],
            [
             0.7,
             "#b8e186"
            ],
            [
             0.8,
             "#7fbc41"
            ],
            [
             0.9,
             "#4d9221"
            ],
            [
             1,
             "#276419"
            ]
           ],
           "sequential": [
            [
             0,
             "#0d0887"
            ],
            [
             0.1111111111111111,
             "#46039f"
            ],
            [
             0.2222222222222222,
             "#7201a8"
            ],
            [
             0.3333333333333333,
             "#9c179e"
            ],
            [
             0.4444444444444444,
             "#bd3786"
            ],
            [
             0.5555555555555556,
             "#d8576b"
            ],
            [
             0.6666666666666666,
             "#ed7953"
            ],
            [
             0.7777777777777778,
             "#fb9f3a"
            ],
            [
             0.8888888888888888,
             "#fdca26"
            ],
            [
             1,
             "#f0f921"
            ]
           ],
           "sequentialminus": [
            [
             0,
             "#0d0887"
            ],
            [
             0.1111111111111111,
             "#46039f"
            ],
            [
             0.2222222222222222,
             "#7201a8"
            ],
            [
             0.3333333333333333,
             "#9c179e"
            ],
            [
             0.4444444444444444,
             "#bd3786"
            ],
            [
             0.5555555555555556,
             "#d8576b"
            ],
            [
             0.6666666666666666,
             "#ed7953"
            ],
            [
             0.7777777777777778,
             "#fb9f3a"
            ],
            [
             0.8888888888888888,
             "#fdca26"
            ],
            [
             1,
             "#f0f921"
            ]
           ]
          },
          "colorway": [
           "#636efa",
           "#EF553B",
           "#00cc96",
           "#ab63fa",
           "#FFA15A",
           "#19d3f3",
           "#FF6692",
           "#B6E880",
           "#FF97FF",
           "#FECB52"
          ],
          "font": {
           "color": "#2a3f5f"
          },
          "geo": {
           "bgcolor": "white",
           "lakecolor": "white",
           "landcolor": "#E5ECF6",
           "showlakes": true,
           "showland": true,
           "subunitcolor": "white"
          },
          "hoverlabel": {
           "align": "left"
          },
          "hovermode": "closest",
          "mapbox": {
           "style": "light"
          },
          "paper_bgcolor": "white",
          "plot_bgcolor": "#E5ECF6",
          "polar": {
           "angularaxis": {
            "gridcolor": "white",
            "linecolor": "white",
            "ticks": ""
           },
           "bgcolor": "#E5ECF6",
           "radialaxis": {
            "gridcolor": "white",
            "linecolor": "white",
            "ticks": ""
           }
          },
          "scene": {
           "xaxis": {
            "backgroundcolor": "#E5ECF6",
            "gridcolor": "white",
            "gridwidth": 2,
            "linecolor": "white",
            "showbackground": true,
            "ticks": "",
            "zerolinecolor": "white"
           },
           "yaxis": {
            "backgroundcolor": "#E5ECF6",
            "gridcolor": "white",
            "gridwidth": 2,
            "linecolor": "white",
            "showbackground": true,
            "ticks": "",
            "zerolinecolor": "white"
           },
           "zaxis": {
            "backgroundcolor": "#E5ECF6",
            "gridcolor": "white",
            "gridwidth": 2,
            "linecolor": "white",
            "showbackground": true,
            "ticks": "",
            "zerolinecolor": "white"
           }
          },
          "shapedefaults": {
           "line": {
            "color": "#2a3f5f"
           }
          },
          "ternary": {
           "aaxis": {
            "gridcolor": "white",
            "linecolor": "white",
            "ticks": ""
           },
           "baxis": {
            "gridcolor": "white",
            "linecolor": "white",
            "ticks": ""
           },
           "bgcolor": "#E5ECF6",
           "caxis": {
            "gridcolor": "white",
            "linecolor": "white",
            "ticks": ""
           }
          },
          "title": {
           "x": 0.05
          },
          "xaxis": {
           "automargin": true,
           "gridcolor": "white",
           "linecolor": "white",
           "ticks": "",
           "title": {
            "standoff": 15
           },
           "zerolinecolor": "white",
           "zerolinewidth": 2
          },
          "yaxis": {
           "automargin": true,
           "gridcolor": "white",
           "linecolor": "white",
           "ticks": "",
           "title": {
            "standoff": 15
           },
           "zerolinecolor": "white",
           "zerolinewidth": 2
          }
         }
        },
        "width": 1000,
        "xaxis": {
         "showgrid": false,
         "showline": false,
         "showticklabels": false,
         "zeroline": false
        },
        "yaxis": {
         "showgrid": false,
         "showline": false,
         "showticklabels": false,
         "zeroline": false
        }
       }
      }
     },
     "metadata": {},
     "output_type": "display_data"
    }
   ],
   "source": [
    "pos_2 = pd.read_csv(\"./datas/merge5/datas.csv\",index_col=\"Unnamed: 0\").values\n",
    "edge_2 = np.load(\"./datas/merge5/datalink.npy\");\n",
    "father_name2 = np.load(\"./datas/merge5/dataxy.npy\")\n",
    "father_name2 = father_name2.astype(np.int)\n",
    "n2 = len(edge_2)\n",
    "n_points = len(pos_2);\n",
    "nodes2 = [node(name=str(i),son=[]) for i in range(n2)];\n",
    "for i in range(n2):\n",
    "    if(edge_2[i]!=-1):\n",
    "        nodes2[edge_2[i]].son.append(nodes2[i])\n",
    "    nodes2[i].name = str(father_name2[i])\n",
    "    if(father_name2[i]<n_points):\n",
    "        nodes2[i].value = pos_2[father_name2[i]]\n",
    "    else:\n",
    "        nodes2[i].value = 0.0\n",
    "for i in range(n2-1,-1,-1):\n",
    "    if(type(nodes2[i].value) == float):\n",
    "        count = 0;\n",
    "        now = 0;\n",
    "        for son in nodes2[i].son:\n",
    "            if(count==0):\n",
    "                now = son.value;\n",
    "            else:\n",
    "                now = now + son.value;\n",
    "            count += 1\n",
    "        nodes2[i].value = now/count\n",
    "show_tree(nodes2[0]).show_fig()"
   ]
  },
  {
   "cell_type": "code",
   "execution_count": 48,
   "metadata": {},
   "outputs": [
    {
     "name": "stdout",
     "output_type": "stream",
     "text": [
      "24.19595577812322\n",
      "The mininum cost for alignment is 24.19595577812322\n",
      "The alignment edges list is [('36', '30'), ('35', '23'), ('33', '19'), ('30', '18'), ('28', '3'), ('27', '15'), ('8', '8'), ('2', '7'), ('31', '21'), ('18', '0'), ('14', '9'), ('34', '28'), ('32', '25'), ('29', '22'), ('26', '20'), ('3', '17'), ('16', '5'), ('10', '2'), ('6', '10'), ('12', '11'), ('25', '24'), ('7', '12'), ('17', '14')]\n"
     ]
    },
    {
     "data": {
      "application/vnd.plotly.v1+json": {
       "config": {
        "plotlyServerURL": "https://plot.ly"
       },
       "data": [
        {
         "hoverinfo": "text",
         "hovertext": [
          "connect 30",
          "connect 28",
          "connect 24",
          "connect 14",
          "connect Empty",
          "connect Empty",
          "connect Empty",
          "connect 12",
          "connect 25",
          "connect 11",
          "connect 22",
          "connect 10",
          "connect 20",
          "connect 2",
          "connect 17",
          "connect Empty",
          "connect 5",
          "connect 23",
          "connect 21",
          "connect 9",
          "connect 0",
          "connect 19",
          "connect 7",
          "connect 18",
          "connect 8",
          "connect 3",
          "connect Empty",
          "connect 15",
          "connect Empty",
          "connect Empty",
          "connect Empty",
          "connect 36",
          "connect 35",
          "connect 33",
          "connect 2",
          "connect 30",
          "connect 8",
          "connect 28",
          "connect 27",
          "connect 31",
          "connect 18",
          "connect 14",
          "connect Empty",
          "connect Empty",
          "connect 34",
          "connect Empty",
          "connect Empty",
          "connect Empty",
          "connect Empty",
          "connect 25",
          "connect 7",
          "connect 17",
          "connect 32",
          "connect 12",
          "connect 29",
          "connect 6",
          "connect 26",
          "connect 10",
          "connect 3",
          "connect Empty",
          "connect 16"
         ],
         "marker": {
          "color": [
           3.8477103311371907,
           4.285698942083904,
           4.5803323970709755,
           5.163259499697257,
           4.884329253269241,
           4.64251333881706,
           5.470331318067095,
           5.523376059746415,
           4.624152039542267,
           5.543713970284447,
           4.596510232160775,
           4.337194895097432,
           5.53163859704577,
           5.76931393964406,
           5.716131657562999,
           5.334937489163518,
           5.164094607674183,
           4.296467061248915,
           5.530389574716852,
           5.96498584215037,
           5.684698264452725,
           4.039384441364815,
           5.183877591127664,
           3.729288002626349,
           3.288168615514185,
           5.284137215624354,
           7.201855175300284,
           4.349254662172487,
           5.374999911702155,
           4.555590277865986,
           7.506279803401832,
           5.149390595619856,
           5.313672416012818,
           5.449968989877282,
           6.947042026992814,
           4.884274044313583,
           6.5038523955664145,
           4.375369062301822,
           8.173771912691857,
           7.258353576692976,
           7.226304887795141,
           7.802120581580199,
           6.607054782631287,
           6.939145716429609,
           6.468937819715311,
           7.652230687692866,
           5.821600919796939,
           5.936130740252502,
           6.150881401653563,
           6.268828572457919,
           6.124265795719515,
           7.108885731206823,
           6.334766105508015,
           6.789430315659634,
           6.403655167125248,
           6.620134610554295,
           6.370546609584951,
           7.1794697128044485,
           5.984057606650498,
           6.249667830252995,
           6.073323003204474
          ],
          "colorscale": [
           [
            0,
            "rgb(253, 224, 197)"
           ],
           [
            0.16666666666666666,
            "rgb(250, 203, 166)"
           ],
           [
            0.3333333333333333,
            "rgb(248, 181, 139)"
           ],
           [
            0.5,
            "rgb(245, 158, 114)"
           ],
           [
            0.6666666666666666,
            "rgb(242, 133, 93)"
           ],
           [
            0.8333333333333334,
            "rgb(239, 106, 76)"
           ],
           [
            1,
            "rgb(235, 74, 64)"
           ]
          ],
          "showscale": true,
          "size": 50,
          "symbol": "circle-dot"
         },
         "mode": "markers+text",
         "opacity": 0.8,
         "text": [
          "36",
          "34",
          "25",
          "17",
          "9",
          "11",
          "1",
          "7",
          "32",
          "12",
          "29",
          "6",
          "26",
          "10",
          "3",
          "0",
          "16",
          "35",
          "31",
          "14",
          "18",
          "33",
          "2",
          "30",
          "8",
          "28",
          "15",
          "27",
          "13",
          "4",
          "5",
          "30",
          "23",
          "19",
          "7",
          "18",
          "8",
          "3",
          "15",
          "21",
          "0",
          "9",
          "29",
          "13",
          "28",
          "1",
          "27",
          "6",
          "26",
          "24",
          "12",
          "14",
          "25",
          "11",
          "22",
          "10",
          "20",
          "2",
          "17",
          "4",
          "5"
         ],
         "textfont": {
          "color": "#000000",
          "family": "sans serif",
          "size": 18
         },
         "type": "scatter",
         "x": [
          10.5,
          5.75,
          3.375,
          2.1875,
          4.5625,
          4.5625,
          4.5625,
          4.5625,
          8.125,
          6.9375,
          9.3125,
          8.71875,
          9.90625,
          9.609375,
          10.203125,
          10.203125,
          10.203125,
          15.25,
          12.875,
          11.6875,
          14.0625,
          17.625,
          16.4375,
          18.8125,
          18.21875,
          19.40625,
          19.109375,
          19.703125,
          19.5546875,
          19.8515625,
          19.8515625,
          27.5,
          22.75,
          20.375,
          19.1875,
          21.5625,
          20.96875,
          22.15625,
          22.15625,
          25.125,
          23.9375,
          26.3125,
          32.25,
          29.875,
          34.625,
          33.4375,
          35.8125,
          35.21875,
          36.40625,
          36.109375,
          35.9609375,
          36.2578125,
          36.703125,
          36.5546875,
          36.8515625,
          36.77734375,
          36.92578125,
          36.888671875,
          36.962890625,
          36.9443359375,
          36.9814453125
         ],
         "y": [
          5,
          3.5,
          2,
          0.5,
          0.5,
          -1,
          -2.5,
          -4,
          2,
          0.5,
          0.5,
          -1,
          -1,
          -2.5,
          -2.5,
          -4,
          -5.5,
          3.5,
          2,
          0.5,
          0.5,
          2,
          0.5,
          0.5,
          -1,
          -1,
          -2.5,
          -2.5,
          -4,
          -4,
          -5.5,
          3.5,
          2,
          0.5,
          -1,
          -1,
          -2.5,
          -2.5,
          -4,
          0.5,
          -1,
          -1,
          2,
          0.5,
          0.5,
          -1,
          -1,
          -2.5,
          -2.5,
          -4,
          -5.5,
          -5.5,
          -4,
          -5.5,
          -5.5,
          -7,
          -7,
          -8.5,
          -8.5,
          -10,
          -10
         ]
        }
       ],
       "layout": {
        "height": 500,
        "shapes": [
         {
          "layer": "below",
          "line": {
           "color": "#333",
           "width": 4
          },
          "type": "line",
          "x0": 10.5,
          "x1": 10.5,
          "y0": 5,
          "y1": 5
         },
         {
          "layer": "below",
          "line": {
           "color": "#333",
           "width": 4
          },
          "type": "line",
          "x0": 10.5,
          "x1": 5.75,
          "y0": 5,
          "y1": 3.5
         },
         {
          "layer": "below",
          "line": {
           "color": "#333",
           "width": 4
          },
          "type": "line",
          "x0": 5.75,
          "x1": 3.375,
          "y0": 3.5,
          "y1": 2
         },
         {
          "layer": "below",
          "line": {
           "color": "#333",
           "width": 4
          },
          "type": "line",
          "x0": 3.375,
          "x1": 2.1875,
          "y0": 2,
          "y1": 0.5
         },
         {
          "layer": "below",
          "line": {
           "color": "#333",
           "width": 4
          },
          "type": "line",
          "x0": 3.375,
          "x1": 4.5625,
          "y0": 2,
          "y1": 0.5
         },
         {
          "layer": "below",
          "line": {
           "color": "#333",
           "width": 4
          },
          "type": "line",
          "x0": 4.5625,
          "x1": 4.5625,
          "y0": 0.5,
          "y1": -1
         },
         {
          "layer": "below",
          "line": {
           "color": "#333",
           "width": 4
          },
          "type": "line",
          "x0": 4.5625,
          "x1": 4.5625,
          "y0": -1,
          "y1": -2.5
         },
         {
          "layer": "below",
          "line": {
           "color": "#333",
           "width": 4
          },
          "type": "line",
          "x0": 4.5625,
          "x1": 4.5625,
          "y0": -2.5,
          "y1": -4
         },
         {
          "layer": "below",
          "line": {
           "color": "#333",
           "width": 4
          },
          "type": "line",
          "x0": 5.75,
          "x1": 8.125,
          "y0": 3.5,
          "y1": 2
         },
         {
          "layer": "below",
          "line": {
           "color": "#333",
           "width": 4
          },
          "type": "line",
          "x0": 8.125,
          "x1": 6.9375,
          "y0": 2,
          "y1": 0.5
         },
         {
          "layer": "below",
          "line": {
           "color": "#333",
           "width": 4
          },
          "type": "line",
          "x0": 8.125,
          "x1": 9.3125,
          "y0": 2,
          "y1": 0.5
         },
         {
          "layer": "below",
          "line": {
           "color": "#333",
           "width": 4
          },
          "type": "line",
          "x0": 9.3125,
          "x1": 8.71875,
          "y0": 0.5,
          "y1": -1
         },
         {
          "layer": "below",
          "line": {
           "color": "#333",
           "width": 4
          },
          "type": "line",
          "x0": 9.3125,
          "x1": 9.90625,
          "y0": 0.5,
          "y1": -1
         },
         {
          "layer": "below",
          "line": {
           "color": "#333",
           "width": 4
          },
          "type": "line",
          "x0": 9.90625,
          "x1": 9.609375,
          "y0": -1,
          "y1": -2.5
         },
         {
          "layer": "below",
          "line": {
           "color": "#333",
           "width": 4
          },
          "type": "line",
          "x0": 9.90625,
          "x1": 10.203125,
          "y0": -1,
          "y1": -2.5
         },
         {
          "layer": "below",
          "line": {
           "color": "#333",
           "width": 4
          },
          "type": "line",
          "x0": 10.203125,
          "x1": 10.203125,
          "y0": -2.5,
          "y1": -4
         },
         {
          "layer": "below",
          "line": {
           "color": "#333",
           "width": 4
          },
          "type": "line",
          "x0": 10.203125,
          "x1": 10.203125,
          "y0": -4,
          "y1": -5.5
         },
         {
          "layer": "below",
          "line": {
           "color": "#333",
           "width": 4
          },
          "type": "line",
          "x0": 10.5,
          "x1": 15.25,
          "y0": 5,
          "y1": 3.5
         },
         {
          "layer": "below",
          "line": {
           "color": "#333",
           "width": 4
          },
          "type": "line",
          "x0": 15.25,
          "x1": 12.875,
          "y0": 3.5,
          "y1": 2
         },
         {
          "layer": "below",
          "line": {
           "color": "#333",
           "width": 4
          },
          "type": "line",
          "x0": 12.875,
          "x1": 11.6875,
          "y0": 2,
          "y1": 0.5
         },
         {
          "layer": "below",
          "line": {
           "color": "#333",
           "width": 4
          },
          "type": "line",
          "x0": 12.875,
          "x1": 14.0625,
          "y0": 2,
          "y1": 0.5
         },
         {
          "layer": "below",
          "line": {
           "color": "#333",
           "width": 4
          },
          "type": "line",
          "x0": 15.25,
          "x1": 17.625,
          "y0": 3.5,
          "y1": 2
         },
         {
          "layer": "below",
          "line": {
           "color": "#333",
           "width": 4
          },
          "type": "line",
          "x0": 17.625,
          "x1": 16.4375,
          "y0": 2,
          "y1": 0.5
         },
         {
          "layer": "below",
          "line": {
           "color": "#333",
           "width": 4
          },
          "type": "line",
          "x0": 17.625,
          "x1": 18.8125,
          "y0": 2,
          "y1": 0.5
         },
         {
          "layer": "below",
          "line": {
           "color": "#333",
           "width": 4
          },
          "type": "line",
          "x0": 18.8125,
          "x1": 18.21875,
          "y0": 0.5,
          "y1": -1
         },
         {
          "layer": "below",
          "line": {
           "color": "#333",
           "width": 4
          },
          "type": "line",
          "x0": 18.8125,
          "x1": 19.40625,
          "y0": 0.5,
          "y1": -1
         },
         {
          "layer": "below",
          "line": {
           "color": "#333",
           "width": 4
          },
          "type": "line",
          "x0": 19.40625,
          "x1": 19.109375,
          "y0": -1,
          "y1": -2.5
         },
         {
          "layer": "below",
          "line": {
           "color": "#333",
           "width": 4
          },
          "type": "line",
          "x0": 19.40625,
          "x1": 19.703125,
          "y0": -1,
          "y1": -2.5
         },
         {
          "layer": "below",
          "line": {
           "color": "#333",
           "width": 4
          },
          "type": "line",
          "x0": 19.703125,
          "x1": 19.5546875,
          "y0": -2.5,
          "y1": -4
         },
         {
          "layer": "below",
          "line": {
           "color": "#333",
           "width": 4
          },
          "type": "line",
          "x0": 19.703125,
          "x1": 19.8515625,
          "y0": -2.5,
          "y1": -4
         },
         {
          "layer": "below",
          "line": {
           "color": "#333",
           "width": 4
          },
          "type": "line",
          "x0": 19.8515625,
          "x1": 19.8515625,
          "y0": -4,
          "y1": -5.5
         },
         {
          "layer": "below",
          "line": {
           "color": "#333",
           "width": 4
          },
          "type": "line",
          "x0": 27.5,
          "x1": 27.5,
          "y0": 3.5,
          "y1": 3.5
         },
         {
          "layer": "below",
          "line": {
           "color": "#333",
           "width": 4
          },
          "type": "line",
          "x0": 27.5,
          "x1": 22.75,
          "y0": 3.5,
          "y1": 2
         },
         {
          "layer": "below",
          "line": {
           "color": "#333",
           "width": 4
          },
          "type": "line",
          "x0": 22.75,
          "x1": 20.375,
          "y0": 2,
          "y1": 0.5
         },
         {
          "layer": "below",
          "line": {
           "color": "#333",
           "width": 4
          },
          "type": "line",
          "x0": 20.375,
          "x1": 19.1875,
          "y0": 0.5,
          "y1": -1
         },
         {
          "layer": "below",
          "line": {
           "color": "#333",
           "width": 4
          },
          "type": "line",
          "x0": 20.375,
          "x1": 21.5625,
          "y0": 0.5,
          "y1": -1
         },
         {
          "layer": "below",
          "line": {
           "color": "#333",
           "width": 4
          },
          "type": "line",
          "x0": 21.5625,
          "x1": 20.96875,
          "y0": -1,
          "y1": -2.5
         },
         {
          "layer": "below",
          "line": {
           "color": "#333",
           "width": 4
          },
          "type": "line",
          "x0": 21.5625,
          "x1": 22.15625,
          "y0": -1,
          "y1": -2.5
         },
         {
          "layer": "below",
          "line": {
           "color": "#333",
           "width": 4
          },
          "type": "line",
          "x0": 22.15625,
          "x1": 22.15625,
          "y0": -2.5,
          "y1": -4
         },
         {
          "layer": "below",
          "line": {
           "color": "#333",
           "width": 4
          },
          "type": "line",
          "x0": 22.75,
          "x1": 25.125,
          "y0": 2,
          "y1": 0.5
         },
         {
          "layer": "below",
          "line": {
           "color": "#333",
           "width": 4
          },
          "type": "line",
          "x0": 25.125,
          "x1": 23.9375,
          "y0": 0.5,
          "y1": -1
         },
         {
          "layer": "below",
          "line": {
           "color": "#333",
           "width": 4
          },
          "type": "line",
          "x0": 25.125,
          "x1": 26.3125,
          "y0": 0.5,
          "y1": -1
         },
         {
          "layer": "below",
          "line": {
           "color": "#333",
           "width": 4
          },
          "type": "line",
          "x0": 27.5,
          "x1": 32.25,
          "y0": 3.5,
          "y1": 2
         },
         {
          "layer": "below",
          "line": {
           "color": "#333",
           "width": 4
          },
          "type": "line",
          "x0": 32.25,
          "x1": 29.875,
          "y0": 2,
          "y1": 0.5
         },
         {
          "layer": "below",
          "line": {
           "color": "#333",
           "width": 4
          },
          "type": "line",
          "x0": 32.25,
          "x1": 34.625,
          "y0": 2,
          "y1": 0.5
         },
         {
          "layer": "below",
          "line": {
           "color": "#333",
           "width": 4
          },
          "type": "line",
          "x0": 34.625,
          "x1": 33.4375,
          "y0": 0.5,
          "y1": -1
         },
         {
          "layer": "below",
          "line": {
           "color": "#333",
           "width": 4
          },
          "type": "line",
          "x0": 34.625,
          "x1": 35.8125,
          "y0": 0.5,
          "y1": -1
         },
         {
          "layer": "below",
          "line": {
           "color": "#333",
           "width": 4
          },
          "type": "line",
          "x0": 35.8125,
          "x1": 35.21875,
          "y0": -1,
          "y1": -2.5
         },
         {
          "layer": "below",
          "line": {
           "color": "#333",
           "width": 4
          },
          "type": "line",
          "x0": 35.8125,
          "x1": 36.40625,
          "y0": -1,
          "y1": -2.5
         },
         {
          "layer": "below",
          "line": {
           "color": "#333",
           "width": 4
          },
          "type": "line",
          "x0": 36.40625,
          "x1": 36.109375,
          "y0": -2.5,
          "y1": -4
         },
         {
          "layer": "below",
          "line": {
           "color": "#333",
           "width": 4
          },
          "type": "line",
          "x0": 36.109375,
          "x1": 35.9609375,
          "y0": -4,
          "y1": -5.5
         },
         {
          "layer": "below",
          "line": {
           "color": "#333",
           "width": 4
          },
          "type": "line",
          "x0": 36.109375,
          "x1": 36.2578125,
          "y0": -4,
          "y1": -5.5
         },
         {
          "layer": "below",
          "line": {
           "color": "#333",
           "width": 4
          },
          "type": "line",
          "x0": 36.40625,
          "x1": 36.703125,
          "y0": -2.5,
          "y1": -4
         },
         {
          "layer": "below",
          "line": {
           "color": "#333",
           "width": 4
          },
          "type": "line",
          "x0": 36.703125,
          "x1": 36.5546875,
          "y0": -4,
          "y1": -5.5
         },
         {
          "layer": "below",
          "line": {
           "color": "#333",
           "width": 4
          },
          "type": "line",
          "x0": 36.703125,
          "x1": 36.8515625,
          "y0": -4,
          "y1": -5.5
         },
         {
          "layer": "below",
          "line": {
           "color": "#333",
           "width": 4
          },
          "type": "line",
          "x0": 36.8515625,
          "x1": 36.77734375,
          "y0": -5.5,
          "y1": -7
         },
         {
          "layer": "below",
          "line": {
           "color": "#333",
           "width": 4
          },
          "type": "line",
          "x0": 36.8515625,
          "x1": 36.92578125,
          "y0": -5.5,
          "y1": -7
         },
         {
          "layer": "below",
          "line": {
           "color": "#333",
           "width": 4
          },
          "type": "line",
          "x0": 36.92578125,
          "x1": 36.888671875,
          "y0": -7,
          "y1": -8.5
         },
         {
          "layer": "below",
          "line": {
           "color": "#333",
           "width": 4
          },
          "type": "line",
          "x0": 36.92578125,
          "x1": 36.962890625,
          "y0": -7,
          "y1": -8.5
         },
         {
          "layer": "below",
          "line": {
           "color": "#333",
           "width": 4
          },
          "type": "line",
          "x0": 36.962890625,
          "x1": 36.9443359375,
          "y0": -8.5,
          "y1": -10
         },
         {
          "layer": "below",
          "line": {
           "color": "#333",
           "width": 4
          },
          "type": "line",
          "x0": 36.962890625,
          "x1": 36.9814453125,
          "y0": -8.5,
          "y1": -10
         },
         {
          "layer": "below",
          "line": {
           "color": "#6175c1",
           "width": 4
          },
          "type": "line",
          "x0": 10.5,
          "x1": 27.5,
          "y0": 5,
          "y1": 3.5
         },
         {
          "layer": "below",
          "line": {
           "color": "#6175c1",
           "width": 4
          },
          "type": "line",
          "x0": 15.25,
          "x1": 22.75,
          "y0": 3.5,
          "y1": 2
         },
         {
          "layer": "below",
          "line": {
           "color": "#6175c1",
           "width": 4
          },
          "type": "line",
          "x0": 17.625,
          "x1": 20.375,
          "y0": 2,
          "y1": 0.5
         },
         {
          "layer": "below",
          "line": {
           "color": "#6175c1",
           "width": 4
          },
          "type": "line",
          "x0": 18.8125,
          "x1": 21.5625,
          "y0": 0.5,
          "y1": -1
         },
         {
          "layer": "below",
          "line": {
           "color": "#6175c1",
           "width": 4
          },
          "type": "line",
          "x0": 19.40625,
          "x1": 22.15625,
          "y0": -1,
          "y1": -2.5
         },
         {
          "layer": "below",
          "line": {
           "color": "#6175c1",
           "width": 4
          },
          "type": "line",
          "x0": 19.703125,
          "x1": 22.15625,
          "y0": -2.5,
          "y1": -4
         },
         {
          "layer": "below",
          "line": {
           "color": "#6175c1",
           "width": 4
          },
          "type": "line",
          "x0": 18.21875,
          "x1": 20.96875,
          "y0": -1,
          "y1": -2.5
         },
         {
          "layer": "below",
          "line": {
           "color": "#6175c1",
           "width": 4
          },
          "type": "line",
          "x0": 16.4375,
          "x1": 19.1875,
          "y0": 0.5,
          "y1": -1
         },
         {
          "layer": "below",
          "line": {
           "color": "#6175c1",
           "width": 4
          },
          "type": "line",
          "x0": 12.875,
          "x1": 25.125,
          "y0": 2,
          "y1": 0.5
         },
         {
          "layer": "below",
          "line": {
           "color": "#6175c1",
           "width": 4
          },
          "type": "line",
          "x0": 14.0625,
          "x1": 23.9375,
          "y0": 0.5,
          "y1": -1
         },
         {
          "layer": "below",
          "line": {
           "color": "#6175c1",
           "width": 4
          },
          "type": "line",
          "x0": 11.6875,
          "x1": 26.3125,
          "y0": 0.5,
          "y1": -1
         },
         {
          "layer": "below",
          "line": {
           "color": "#6175c1",
           "width": 4
          },
          "type": "line",
          "x0": 5.75,
          "x1": 34.625,
          "y0": 3.5,
          "y1": 0.5
         },
         {
          "layer": "below",
          "line": {
           "color": "#6175c1",
           "width": 4
          },
          "type": "line",
          "x0": 8.125,
          "x1": 36.703125,
          "y0": 2,
          "y1": -4
         },
         {
          "layer": "below",
          "line": {
           "color": "#6175c1",
           "width": 4
          },
          "type": "line",
          "x0": 9.3125,
          "x1": 36.8515625,
          "y0": 0.5,
          "y1": -5.5
         },
         {
          "layer": "below",
          "line": {
           "color": "#6175c1",
           "width": 4
          },
          "type": "line",
          "x0": 9.90625,
          "x1": 36.92578125,
          "y0": -1,
          "y1": -7
         },
         {
          "layer": "below",
          "line": {
           "color": "#6175c1",
           "width": 4
          },
          "type": "line",
          "x0": 10.203125,
          "x1": 36.962890625,
          "y0": -2.5,
          "y1": -8.5
         },
         {
          "layer": "below",
          "line": {
           "color": "#6175c1",
           "width": 4
          },
          "type": "line",
          "x0": 10.203125,
          "x1": 36.9814453125,
          "y0": -5.5,
          "y1": -10
         },
         {
          "layer": "below",
          "line": {
           "color": "#6175c1",
           "width": 4
          },
          "type": "line",
          "x0": 9.609375,
          "x1": 36.888671875,
          "y0": -2.5,
          "y1": -8.5
         },
         {
          "layer": "below",
          "line": {
           "color": "#6175c1",
           "width": 4
          },
          "type": "line",
          "x0": 8.71875,
          "x1": 36.77734375,
          "y0": -1,
          "y1": -7
         },
         {
          "layer": "below",
          "line": {
           "color": "#6175c1",
           "width": 4
          },
          "type": "line",
          "x0": 6.9375,
          "x1": 36.5546875,
          "y0": 0.5,
          "y1": -5.5
         },
         {
          "layer": "below",
          "line": {
           "color": "#6175c1",
           "width": 4
          },
          "type": "line",
          "x0": 3.375,
          "x1": 36.109375,
          "y0": 2,
          "y1": -4
         },
         {
          "layer": "below",
          "line": {
           "color": "#6175c1",
           "width": 4
          },
          "type": "line",
          "x0": 4.5625,
          "x1": 35.9609375,
          "y0": -4,
          "y1": -5.5
         },
         {
          "layer": "below",
          "line": {
           "color": "#6175c1",
           "width": 4
          },
          "type": "line",
          "x0": 2.1875,
          "x1": 36.2578125,
          "y0": 0.5,
          "y1": -5.5
         }
        ],
        "template": {
         "data": {
          "bar": [
           {
            "error_x": {
             "color": "#2a3f5f"
            },
            "error_y": {
             "color": "#2a3f5f"
            },
            "marker": {
             "line": {
              "color": "#E5ECF6",
              "width": 0.5
             },
             "pattern": {
              "fillmode": "overlay",
              "size": 10,
              "solidity": 0.2
             }
            },
            "type": "bar"
           }
          ],
          "barpolar": [
           {
            "marker": {
             "line": {
              "color": "#E5ECF6",
              "width": 0.5
             },
             "pattern": {
              "fillmode": "overlay",
              "size": 10,
              "solidity": 0.2
             }
            },
            "type": "barpolar"
           }
          ],
          "carpet": [
           {
            "aaxis": {
             "endlinecolor": "#2a3f5f",
             "gridcolor": "white",
             "linecolor": "white",
             "minorgridcolor": "white",
             "startlinecolor": "#2a3f5f"
            },
            "baxis": {
             "endlinecolor": "#2a3f5f",
             "gridcolor": "white",
             "linecolor": "white",
             "minorgridcolor": "white",
             "startlinecolor": "#2a3f5f"
            },
            "type": "carpet"
           }
          ],
          "choropleth": [
           {
            "colorbar": {
             "outlinewidth": 0,
             "ticks": ""
            },
            "type": "choropleth"
           }
          ],
          "contour": [
           {
            "colorbar": {
             "outlinewidth": 0,
             "ticks": ""
            },
            "colorscale": [
             [
              0,
              "#0d0887"
             ],
             [
              0.1111111111111111,
              "#46039f"
             ],
             [
              0.2222222222222222,
              "#7201a8"
             ],
             [
              0.3333333333333333,
              "#9c179e"
             ],
             [
              0.4444444444444444,
              "#bd3786"
             ],
             [
              0.5555555555555556,
              "#d8576b"
             ],
             [
              0.6666666666666666,
              "#ed7953"
             ],
             [
              0.7777777777777778,
              "#fb9f3a"
             ],
             [
              0.8888888888888888,
              "#fdca26"
             ],
             [
              1,
              "#f0f921"
             ]
            ],
            "type": "contour"
           }
          ],
          "contourcarpet": [
           {
            "colorbar": {
             "outlinewidth": 0,
             "ticks": ""
            },
            "type": "contourcarpet"
           }
          ],
          "heatmap": [
           {
            "colorbar": {
             "outlinewidth": 0,
             "ticks": ""
            },
            "colorscale": [
             [
              0,
              "#0d0887"
             ],
             [
              0.1111111111111111,
              "#46039f"
             ],
             [
              0.2222222222222222,
              "#7201a8"
             ],
             [
              0.3333333333333333,
              "#9c179e"
             ],
             [
              0.4444444444444444,
              "#bd3786"
             ],
             [
              0.5555555555555556,
              "#d8576b"
             ],
             [
              0.6666666666666666,
              "#ed7953"
             ],
             [
              0.7777777777777778,
              "#fb9f3a"
             ],
             [
              0.8888888888888888,
              "#fdca26"
             ],
             [
              1,
              "#f0f921"
             ]
            ],
            "type": "heatmap"
           }
          ],
          "heatmapgl": [
           {
            "colorbar": {
             "outlinewidth": 0,
             "ticks": ""
            },
            "colorscale": [
             [
              0,
              "#0d0887"
             ],
             [
              0.1111111111111111,
              "#46039f"
             ],
             [
              0.2222222222222222,
              "#7201a8"
             ],
             [
              0.3333333333333333,
              "#9c179e"
             ],
             [
              0.4444444444444444,
              "#bd3786"
             ],
             [
              0.5555555555555556,
              "#d8576b"
             ],
             [
              0.6666666666666666,
              "#ed7953"
             ],
             [
              0.7777777777777778,
              "#fb9f3a"
             ],
             [
              0.8888888888888888,
              "#fdca26"
             ],
             [
              1,
              "#f0f921"
             ]
            ],
            "type": "heatmapgl"
           }
          ],
          "histogram": [
           {
            "marker": {
             "pattern": {
              "fillmode": "overlay",
              "size": 10,
              "solidity": 0.2
             }
            },
            "type": "histogram"
           }
          ],
          "histogram2d": [
           {
            "colorbar": {
             "outlinewidth": 0,
             "ticks": ""
            },
            "colorscale": [
             [
              0,
              "#0d0887"
             ],
             [
              0.1111111111111111,
              "#46039f"
             ],
             [
              0.2222222222222222,
              "#7201a8"
             ],
             [
              0.3333333333333333,
              "#9c179e"
             ],
             [
              0.4444444444444444,
              "#bd3786"
             ],
             [
              0.5555555555555556,
              "#d8576b"
             ],
             [
              0.6666666666666666,
              "#ed7953"
             ],
             [
              0.7777777777777778,
              "#fb9f3a"
             ],
             [
              0.8888888888888888,
              "#fdca26"
             ],
             [
              1,
              "#f0f921"
             ]
            ],
            "type": "histogram2d"
           }
          ],
          "histogram2dcontour": [
           {
            "colorbar": {
             "outlinewidth": 0,
             "ticks": ""
            },
            "colorscale": [
             [
              0,
              "#0d0887"
             ],
             [
              0.1111111111111111,
              "#46039f"
             ],
             [
              0.2222222222222222,
              "#7201a8"
             ],
             [
              0.3333333333333333,
              "#9c179e"
             ],
             [
              0.4444444444444444,
              "#bd3786"
             ],
             [
              0.5555555555555556,
              "#d8576b"
             ],
             [
              0.6666666666666666,
              "#ed7953"
             ],
             [
              0.7777777777777778,
              "#fb9f3a"
             ],
             [
              0.8888888888888888,
              "#fdca26"
             ],
             [
              1,
              "#f0f921"
             ]
            ],
            "type": "histogram2dcontour"
           }
          ],
          "mesh3d": [
           {
            "colorbar": {
             "outlinewidth": 0,
             "ticks": ""
            },
            "type": "mesh3d"
           }
          ],
          "parcoords": [
           {
            "line": {
             "colorbar": {
              "outlinewidth": 0,
              "ticks": ""
             }
            },
            "type": "parcoords"
           }
          ],
          "pie": [
           {
            "automargin": true,
            "type": "pie"
           }
          ],
          "scatter": [
           {
            "fillpattern": {
             "fillmode": "overlay",
             "size": 10,
             "solidity": 0.2
            },
            "type": "scatter"
           }
          ],
          "scatter3d": [
           {
            "line": {
             "colorbar": {
              "outlinewidth": 0,
              "ticks": ""
             }
            },
            "marker": {
             "colorbar": {
              "outlinewidth": 0,
              "ticks": ""
             }
            },
            "type": "scatter3d"
           }
          ],
          "scattercarpet": [
           {
            "marker": {
             "colorbar": {
              "outlinewidth": 0,
              "ticks": ""
             }
            },
            "type": "scattercarpet"
           }
          ],
          "scattergeo": [
           {
            "marker": {
             "colorbar": {
              "outlinewidth": 0,
              "ticks": ""
             }
            },
            "type": "scattergeo"
           }
          ],
          "scattergl": [
           {
            "marker": {
             "colorbar": {
              "outlinewidth": 0,
              "ticks": ""
             }
            },
            "type": "scattergl"
           }
          ],
          "scattermapbox": [
           {
            "marker": {
             "colorbar": {
              "outlinewidth": 0,
              "ticks": ""
             }
            },
            "type": "scattermapbox"
           }
          ],
          "scatterpolar": [
           {
            "marker": {
             "colorbar": {
              "outlinewidth": 0,
              "ticks": ""
             }
            },
            "type": "scatterpolar"
           }
          ],
          "scatterpolargl": [
           {
            "marker": {
             "colorbar": {
              "outlinewidth": 0,
              "ticks": ""
             }
            },
            "type": "scatterpolargl"
           }
          ],
          "scatterternary": [
           {
            "marker": {
             "colorbar": {
              "outlinewidth": 0,
              "ticks": ""
             }
            },
            "type": "scatterternary"
           }
          ],
          "surface": [
           {
            "colorbar": {
             "outlinewidth": 0,
             "ticks": ""
            },
            "colorscale": [
             [
              0,
              "#0d0887"
             ],
             [
              0.1111111111111111,
              "#46039f"
             ],
             [
              0.2222222222222222,
              "#7201a8"
             ],
             [
              0.3333333333333333,
              "#9c179e"
             ],
             [
              0.4444444444444444,
              "#bd3786"
             ],
             [
              0.5555555555555556,
              "#d8576b"
             ],
             [
              0.6666666666666666,
              "#ed7953"
             ],
             [
              0.7777777777777778,
              "#fb9f3a"
             ],
             [
              0.8888888888888888,
              "#fdca26"
             ],
             [
              1,
              "#f0f921"
             ]
            ],
            "type": "surface"
           }
          ],
          "table": [
           {
            "cells": {
             "fill": {
              "color": "#EBF0F8"
             },
             "line": {
              "color": "white"
             }
            },
            "header": {
             "fill": {
              "color": "#C8D4E3"
             },
             "line": {
              "color": "white"
             }
            },
            "type": "table"
           }
          ]
         },
         "layout": {
          "annotationdefaults": {
           "arrowcolor": "#2a3f5f",
           "arrowhead": 0,
           "arrowwidth": 1
          },
          "autotypenumbers": "strict",
          "coloraxis": {
           "colorbar": {
            "outlinewidth": 0,
            "ticks": ""
           }
          },
          "colorscale": {
           "diverging": [
            [
             0,
             "#8e0152"
            ],
            [
             0.1,
             "#c51b7d"
            ],
            [
             0.2,
             "#de77ae"
            ],
            [
             0.3,
             "#f1b6da"
            ],
            [
             0.4,
             "#fde0ef"
            ],
            [
             0.5,
             "#f7f7f7"
            ],
            [
             0.6,
             "#e6f5d0"
            ],
            [
             0.7,
             "#b8e186"
            ],
            [
             0.8,
             "#7fbc41"
            ],
            [
             0.9,
             "#4d9221"
            ],
            [
             1,
             "#276419"
            ]
           ],
           "sequential": [
            [
             0,
             "#0d0887"
            ],
            [
             0.1111111111111111,
             "#46039f"
            ],
            [
             0.2222222222222222,
             "#7201a8"
            ],
            [
             0.3333333333333333,
             "#9c179e"
            ],
            [
             0.4444444444444444,
             "#bd3786"
            ],
            [
             0.5555555555555556,
             "#d8576b"
            ],
            [
             0.6666666666666666,
             "#ed7953"
            ],
            [
             0.7777777777777778,
             "#fb9f3a"
            ],
            [
             0.8888888888888888,
             "#fdca26"
            ],
            [
             1,
             "#f0f921"
            ]
           ],
           "sequentialminus": [
            [
             0,
             "#0d0887"
            ],
            [
             0.1111111111111111,
             "#46039f"
            ],
            [
             0.2222222222222222,
             "#7201a8"
            ],
            [
             0.3333333333333333,
             "#9c179e"
            ],
            [
             0.4444444444444444,
             "#bd3786"
            ],
            [
             0.5555555555555556,
             "#d8576b"
            ],
            [
             0.6666666666666666,
             "#ed7953"
            ],
            [
             0.7777777777777778,
             "#fb9f3a"
            ],
            [
             0.8888888888888888,
             "#fdca26"
            ],
            [
             1,
             "#f0f921"
            ]
           ]
          },
          "colorway": [
           "#636efa",
           "#EF553B",
           "#00cc96",
           "#ab63fa",
           "#FFA15A",
           "#19d3f3",
           "#FF6692",
           "#B6E880",
           "#FF97FF",
           "#FECB52"
          ],
          "font": {
           "color": "#2a3f5f"
          },
          "geo": {
           "bgcolor": "white",
           "lakecolor": "white",
           "landcolor": "#E5ECF6",
           "showlakes": true,
           "showland": true,
           "subunitcolor": "white"
          },
          "hoverlabel": {
           "align": "left"
          },
          "hovermode": "closest",
          "mapbox": {
           "style": "light"
          },
          "paper_bgcolor": "white",
          "plot_bgcolor": "#E5ECF6",
          "polar": {
           "angularaxis": {
            "gridcolor": "white",
            "linecolor": "white",
            "ticks": ""
           },
           "bgcolor": "#E5ECF6",
           "radialaxis": {
            "gridcolor": "white",
            "linecolor": "white",
            "ticks": ""
           }
          },
          "scene": {
           "xaxis": {
            "backgroundcolor": "#E5ECF6",
            "gridcolor": "white",
            "gridwidth": 2,
            "linecolor": "white",
            "showbackground": true,
            "ticks": "",
            "zerolinecolor": "white"
           },
           "yaxis": {
            "backgroundcolor": "#E5ECF6",
            "gridcolor": "white",
            "gridwidth": 2,
            "linecolor": "white",
            "showbackground": true,
            "ticks": "",
            "zerolinecolor": "white"
           },
           "zaxis": {
            "backgroundcolor": "#E5ECF6",
            "gridcolor": "white",
            "gridwidth": 2,
            "linecolor": "white",
            "showbackground": true,
            "ticks": "",
            "zerolinecolor": "white"
           }
          },
          "shapedefaults": {
           "line": {
            "color": "#2a3f5f"
           }
          },
          "ternary": {
           "aaxis": {
            "gridcolor": "white",
            "linecolor": "white",
            "ticks": ""
           },
           "baxis": {
            "gridcolor": "white",
            "linecolor": "white",
            "ticks": ""
           },
           "bgcolor": "#E5ECF6",
           "caxis": {
            "gridcolor": "white",
            "linecolor": "white",
            "ticks": ""
           }
          },
          "title": {
           "x": 0.05
          },
          "xaxis": {
           "automargin": true,
           "gridcolor": "white",
           "linecolor": "white",
           "ticks": "",
           "title": {
            "standoff": 15
           },
           "zerolinecolor": "white",
           "zerolinewidth": 2
          },
          "yaxis": {
           "automargin": true,
           "gridcolor": "white",
           "linecolor": "white",
           "ticks": "",
           "title": {
            "standoff": 15
           },
           "zerolinecolor": "white",
           "zerolinewidth": 2
          }
         }
        },
        "width": 1000,
        "xaxis": {
         "showgrid": false,
         "showline": false,
         "showticklabels": false,
         "zeroline": false
        },
        "yaxis": {
         "showgrid": false,
         "showline": false,
         "showticklabels": false,
         "zeroline": false
        }
       }
      }
     },
     "metadata": {},
     "output_type": "display_data"
    }
   ],
   "source": [
    "T=tree_alignment(nodes1[0],nodes2[0],1);\n",
    "minn = T.run_alignment();\n",
    "T.show_ans();\n",
    "ans = T.get_ans()\n",
    "ans\n",
    "G=show_graph(ans,nodes1[0],nodes2[0]);\n",
    "G.show_fig()"
   ]
  },
  {
   "cell_type": "code",
   "execution_count": 49,
   "metadata": {},
   "outputs": [
    {
     "data": {
      "text/plain": [
       "24.19595577812322"
      ]
     },
     "execution_count": 49,
     "metadata": {},
     "output_type": "execute_result"
    }
   ],
   "source": [
    "minn"
   ]
  },
  {
   "cell_type": "code",
   "execution_count": 50,
   "metadata": {},
   "outputs": [
    {
     "data": {
      "text/plain": [
       "0.39665501275611836"
      ]
     },
     "execution_count": 50,
     "metadata": {},
     "output_type": "execute_result"
    }
   ],
   "source": [
    "minn / (n1+n2)"
   ]
  },
  {
   "cell_type": "code",
   "execution_count": 51,
   "metadata": {},
   "outputs": [
    {
     "data": {
      "text/plain": [
       "True"
      ]
     },
     "execution_count": 51,
     "metadata": {},
     "output_type": "execute_result"
    }
   ],
   "source": [
    "( minn / (n1+n2) ) < 0.4011626866"
   ]
  },
  {
   "cell_type": "code",
   "execution_count": 52,
   "metadata": {},
   "outputs": [
    {
     "data": {
      "text/plain": [
       "{('Empty', '2'): 1,\n",
       " ('Empty', '4'): 1,\n",
       " ('Empty', '5'): 1,\n",
       " ('Empty', '17'): 3,\n",
       " ('Empty', '20'): 5,\n",
       " ('Empty', '10'): 1,\n",
       " ('5', 'Empty'): 1,\n",
       " ('5', '10'): 0.6863946537915789,\n",
       " ('5', '2'): 0.7299368774153189,\n",
       " ('5', '4'): 0.700113340406969,\n",
       " ('5', '5'): 0.68390418699752,\n",
       " ('5', '17'): 2.6839041869975198,\n",
       " ('5', '20'): 4.68390418699752,\n",
       " ('Empty', '22'): 7,\n",
       " ('4', 'Empty'): 2,\n",
       " ('4', '10'): 1.5028836088030588,\n",
       " ('4', '2'): 1.5336647256908083,\n",
       " ('4', '4'): 1.5846944013886208,\n",
       " ('4', '5'): 1.5206927364364509,\n",
       " ('4', '17'): 2.2334767580159474,\n",
       " ('4', '20'): 4.22301563304585,\n",
       " ('5', '22'): 6.68390418699752,\n",
       " ('4', '22'): 6.205128448784368,\n",
       " ('Empty', '11'): 1,\n",
       " ('13', 'Empty'): 1,\n",
       " ('13', '11'): 0.6891637875700077,\n",
       " ('5', '11'): 0.698917053874281,\n",
       " ('4', '11'): 1.5227100715847757,\n",
       " ('13', '10'): 0.6634028853614193,\n",
       " ('13', '2'): 0.7158741878102719,\n",
       " ('13', '4'): 0.7117337289086711,\n",
       " ('13', '5'): 0.6758664146733305,\n",
       " ('13', '17'): 2.6758664146733304,\n",
       " ('13', '20'): 4.67586641467333,\n",
       " ('13', '22'): 6.663402885361419,\n",
       " ('Empty', '25'): 9,\n",
       " ('27', 'Empty'): 4,\n",
       " ('27', '11'): 3.5227100715847754,\n",
       " ('27', '10'): 3.5028836088030584,\n",
       " ('27', '2'): 3.5336647256908087,\n",
       " ('27', '4'): 3.584694401388621,\n",
       " ('27', '5'): 3.520692736436451,\n",
       " ('27', '17'): 2.8729186545553596,\n",
       " ('27', '20'): 3.593325701836415,\n",
       " ('27', '22'): 5.508610509587891,\n",
       " ('13', '25'): 8.66340288536142,\n",
       " ('5', '25'): 8.68390418699752,\n",
       " ('4', '25'): 8.205128448784368,\n",
       " ('27', '25'): 7.508610509587891,\n",
       " ('Empty', '12'): 1,\n",
       " ('Empty', '14'): 1,\n",
       " ('Empty', '24'): 3,\n",
       " ('15', 'Empty'): 1,\n",
       " ('15', '12'): 0.6487935207436666,\n",
       " ('15', '14'): 0.5653926826504325,\n",
       " ('15', '24'): 2.5653926826504323,\n",
       " ('5', '14'): 0.6479728793726995,\n",
       " ('4', '14'): 1.511030605527706,\n",
       " ('13', '12'): 0.7177302528233607,\n",
       " ('5', '12'): 0.713817989667692,\n",
       " ('4', '12'): 1.5566761513122411,\n",
       " ('13', '14'): 0.6501989183382002,\n",
       " ('27', '12'): 3.5566761513122414,\n",
       " ('27', '14'): 3.511030605527706,\n",
       " ('13', '24'): 2.6501989183382,\n",
       " ('5', '24'): 2.6479728793726993,\n",
       " ('4', '24'): 2.164088729077737,\n",
       " ('27', '24'): 2.8194610043971107,\n",
       " ('15', '11'): 0.6352900900646479,\n",
       " ('15', '10'): 0.6071342965256337,\n",
       " ('15', '2'): 0.6383034643957217,\n",
       " ('15', '4'): 0.6569497815913585,\n",
       " ('15', '5'): 0.606063659058484,\n",
       " ('15', '17'): 2.606063659058484,\n",
       " ('15', '20'): 4.606063659058484,\n",
       " ('15', '22'): 6.606063659058485,\n",
       " ('15', '25'): 8.606063659058485,\n",
       " ('Empty', '26'): 13,\n",
       " ('28', 'Empty'): 6,\n",
       " ('28', '12'): 5.556676151312242,\n",
       " ('28', '14'): 5.511030605527706,\n",
       " ('28', '24'): 4.743966814084535,\n",
       " ('28', '11'): 5.5227100715847754,\n",
       " ('28', '10'): 5.502883608803058,\n",
       " ('28', '2'): 5.533664725690809,\n",
       " ('28', '4'): 5.584694401388621,\n",
       " ('28', '5'): 5.520692736436452,\n",
       " ('28', '17'): 4.827345240989562,\n",
       " ('28', '20'): 4.166875281172798,\n",
       " ('28', '22'): 4.840804271712123,\n",
       " ('28', '25'): 6.804994636457588,\n",
       " ('15', '26'): 12.565392682650433,\n",
       " ('13', '26'): 12.6501989183382,\n",
       " ('5', '26'): 12.647972879372698,\n",
       " ('4', '26'): 12.164088729077736,\n",
       " ('27', '26'): 11.455251350564598,\n",
       " ('28', '26'): 10.717273753573506,\n",
       " ('Empty', '6'): 1,\n",
       " ('8', 'Empty'): 1,\n",
       " ('8', '6'): 0.5205079767809667,\n",
       " ('15', '6'): 0.6506393103229982,\n",
       " ('13', '6'): 0.708674928471497,\n",
       " ('5', '6'): 0.7113792133896268,\n",
       " ('4', '6'): 1.5677142872378667,\n",
       " ('27', '6'): 3.567714287237867,\n",
       " ('28', '6'): 5.567714287237866,\n",
       " ('8', '12'): 0.5159814051880396,\n",
       " ('8', '14'): 0.45987642297599163,\n",
       " ('8', '24'): 2.4598764229759915,\n",
       " ('8', '11'): 0.5026899153322502,\n",
       " ('8', '10'): 0.4637803650077519,\n",
       " ('8', '2'): 0.5060847242899176,\n",
       " ('8', '4'): 0.5278970695311873,\n",
       " ('8', '5'): 0.46241115108543385,\n",
       " ('8', '17'): 2.462411151085434,\n",
       " ('8', '20'): 4.462411151085433,\n",
       " ('8', '22'): 6.462411151085433,\n",
       " ('8', '25'): 8.462411151085433,\n",
       " ('8', '26'): 12.459876422975992,\n",
       " ('Empty', '27'): 15,\n",
       " ('30', 'Empty'): 8,\n",
       " ('30', '6'): 7.5205079767809675,\n",
       " ('30', '12'): 7.51598140518804,\n",
       " ('30', '14'): 7.4598764229759915,\n",
       " ('30', '24'): 6.635350122135831,\n",
       " ('30', '11'): 7.502689915332251,\n",
       " ('30', '10'): 7.463780365007752,\n",
       " ('30', '2'): 7.506084724289918,\n",
       " ('30', '4'): 7.527897069531187,\n",
       " ('30', '5'): 7.462411151085433,\n",
       " ('30', '17'): 6.688845002138663,\n",
       " ('30', '20'): 5.988385746281438,\n",
       " ('30', '22'): 5.271177926015649,\n",
       " ('30', '25'): 6.006974753246558,\n",
       " ('30', '26'): 9.907931503397636,\n",
       " ('8', '27'): 14.459876422975992,\n",
       " ('15', '27'): 14.565392682650433,\n",
       " ('13', '27'): 14.650198918338198,\n",
       " ('5', '27'): 14.647972879372698,\n",
       " ('4', '27'): 14.164088729077736,\n",
       " ('27', '27'): 13.455251350564598,\n",
       " ('28', '27'): 12.717273753573508,\n",
       " ('30', '27'): 11.896688949460225,\n",
       " ('Empty', '1'): 1,\n",
       " ('2', 'Empty'): 1,\n",
       " ('2', '1'): 0.5401484284213055,\n",
       " ('8', '1'): 0.5774518363606097,\n",
       " ('15', '1'): 0.7309091232029881,\n",
       " ('13', '1'): 0.7892020101680541,\n",
       " ('5', '1'): 0.799398054991854,\n",
       " ('4', '1'): 1.601746310134926,\n",
       " ('27', '1'): 3.601746310134926,\n",
       " ('28', '1'): 5.601746310134926,\n",
       " ('30', '1'): 7.577451836360609,\n",
       " ('2', '6'): 0.5410287830471534,\n",
       " ('2', '12'): 0.5306229657682913,\n",
       " ('2', '14'): 0.4626682442355481,\n",
       " ('2', '24'): 2.462668244235548,\n",
       " ('2', '11'): 0.48704352673227036,\n",
       " ('2', '10'): 0.452288653757168,\n",
       " ('2', '2'): 0.4673949311533141,\n",
       " ('2', '4'): 0.5499600577946607,\n",
       " ('2', '5'): 0.4765003667998712,\n",
       " ('2', '17'): 2.476500366799871,\n",
       " ('2', '20'): 4.467394931153314,\n",
       " ('2', '22'): 6.452288653757168,\n",
       " ('2', '25'): 8.452288653757169,\n",
       " ('2', '26'): 12.452288653757169,\n",
       " ('2', '27'): 14.452288653757169,\n",
       " ('Empty', '28'): 17,\n",
       " ('33', 'Empty'): 10,\n",
       " ('33', '1'): 9.540148428421306,\n",
       " ('33', '6'): 9.52050797678097,\n",
       " ('33', '12'): 9.51598140518804,\n",
       " ('33', '14'): 9.459876422975992,\n",
       " ('33', '24'): 8.572796195514634,\n",
       " ('33', '11'): 9.48704352673227,\n",
       " ('33', '10'): 9.452288653757169,\n",
       " ('33', '2'): 9.467394931153315,\n",
       " ('33', '4'): 9.527897069531186,\n",
       " ('33', '5'): 9.462411151085433,\n",
       " ('33', '17'): 8.626520614533607,\n",
       " ('33', '20'): 7.776332854220003,\n",
       " ('33', '22'): 7.047529931861618,\n",
       " ('33', '25'): 6.387583464900669,\n",
       " ('33', '26'): 9.08172380621972,\n",
       " ('33', '27'): 11.081661659802304,\n",
       " ('2', '28'): 16.45228865375717,\n",
       " ('8', '28'): 16.45987642297599,\n",
       " ('15', '28'): 16.565392682650433,\n",
       " ('13', '28'): 16.650198918338198,\n",
       " ('5', '28'): 16.6479728793727,\n",
       " ('4', '28'): 16.164088729077736,\n",
       " ('27', '28'): 15.455251350564598,\n",
       " ('28', '28'): 14.717273753573508,\n",
       " ('30', '28'): 13.896688949460227,\n",
       " ('33', '28'): 13.081661659802304,\n",
       " ('14', 'Empty'): 1,\n",
       " ('18', 'Empty'): 1,\n",
       " ('Empty', '13'): 1,\n",
       " ('31', 'Empty'): 3,\n",
       " ('14', '13'): 0.4353539814566506,\n",
       " ('18', '13'): 0.8162033231091015,\n",
       " ('31', '13'): 2.4353539814566507,\n",
       " ('2', '13'): 0.5056251199899474,\n",
       " ('8', '13'): 0.5414168648599151,\n",
       " ('15', '13'): 0.6918414553483191,\n",
       " ('13', '13'): 0.7630673194906996,\n",
       " ('5', '13'): 0.7782498140786336,\n",
       " ('4', '13'): 1.5698582039654347,\n",
       " ('27', '13'): 3.5698582039654347,\n",
       " ('28', '13'): 5.569858203965435,\n",
       " ('30', '13'): 7.541416864859915,\n",
       " ('33', '13'): 9.505625119989947,\n",
       " ('18', '6'): 0.76061917370375,\n",
       " ('18', '12'): 0.7818082145301012,\n",
       " ('18', '14'): 0.7714114853691783,\n",
       " ('18', '24'): 2.7714114853691783,\n",
       " ('18', '11'): 0.7754719447977527,\n",
       " ('18', '10'): 0.7764970519782388,\n",
       " ('18', '2'): 0.7850630842768019,\n",
       " ('18', '4'): 0.7466571274855753,\n",
       " ('18', '5'): 0.7428051496410204,\n",
       " ('18', '17'): 2.74280514964102,\n",
       " ('18', '20'): 4.74280514964102,\n",
       " ('18', '22'): 6.74280514964102,\n",
       " ('18', '25'): 8.74280514964102,\n",
       " ('18', '26'): 12.742805149641022,\n",
       " ('18', '27'): 14.742805149641022,\n",
       " ('14', '1'): 0.4511853296635261,\n",
       " ('18', '1'): 0.831373936252036,\n",
       " ('14', '6'): 0.4585110083813787,\n",
       " ('14', '12'): 0.4335166139738096,\n",
       " ('14', '14'): 0.4294330086845243,\n",
       " ('14', '24'): 2.4071763767203325,\n",
       " ('14', '11'): 0.40021863740032826,\n",
       " ('14', '10'): 0.4102955787815501,\n",
       " ('14', '2'): 0.43377840339794815,\n",
       " ('14', '4'): 0.4498613963208258,\n",
       " ('14', '5'): 0.4071702593765044,\n",
       " ('14', '17'): 2.4071702593765045,\n",
       " ('14', '20'): 4.407170259376505,\n",
       " ('14', '22'): 6.407170259376505,\n",
       " ('14', '25'): 8.39819240755805,\n",
       " ('14', '26'): 12.391529313732569,\n",
       " ('14', '27'): 14.391529313732569,\n",
       " ('31', '1'): 2.451185329663526,\n",
       " ('31', '6'): 2.458511008381379,\n",
       " ('31', '12'): 2.4335166139738096,\n",
       " ('31', '14'): 2.429433008684524,\n",
       " ('31', '24'): 1.7149379700763463,\n",
       " ('31', '11'): 2.4002186374003283,\n",
       " ('31', '10'): 2.4102955787815503,\n",
       " ('31', '2'): 2.433778403397948,\n",
       " ('31', '4'): 2.449861396320826,\n",
       " ('31', '5'): 2.4071702593765045,\n",
       " ('31', '17'): 1.6614053042789458,\n",
       " ('31', '20'): 3.6614053042789454,\n",
       " ('31', '22'): 5.661405304278945,\n",
       " ('31', '25'): 7.654300492147767,\n",
       " ('31', '26'): 11.64788857243177,\n",
       " ('31', '27'): 13.647888572431768,\n",
       " ('14', '28'): 16.39152931373257,\n",
       " ('18', '28'): 16.742805149641022,\n",
       " ('31', '28'): 15.647888572431768,\n",
       " ('Empty', '29'): 19,\n",
       " ('35', 'Empty'): 14,\n",
       " ('35', '13'): 13.43535398145665,\n",
       " ('35', '1'): 13.451185329663527,\n",
       " ('35', '6'): 13.458511008381379,\n",
       " ('35', '12'): 13.433516613973808,\n",
       " ('35', '14'): 13.429433008684523,\n",
       " ('35', '24'): 12.494330668359773,\n",
       " ('35', '11'): 13.400218637400329,\n",
       " ('35', '10'): 13.41029557878155,\n",
       " ('35', '2'): 13.433778403397948,\n",
       " ('35', '4'): 13.449861396320827,\n",
       " ('35', '5'): 13.407170259376503,\n",
       " ('35', '17'): 12.52763968540864,\n",
       " ('35', '20'): 11.68473109662342,\n",
       " ('35', '22'): 10.802971029245988,\n",
       " ('35', '25'): 10.082100904300567,\n",
       " ('35', '26'): 8.720569350477628,\n",
       " ('35', '27'): 10.720569350477628,\n",
       " ('35', '28'): 12.720569350477628,\n",
       " ('14', '29'): 18.39152931373257,\n",
       " ('18', '29'): 18.742805149641022,\n",
       " ('31', '29'): 17.647888572431768,\n",
       " ('2', '29'): 18.452288653757165,\n",
       " ('8', '29'): 18.459876422975995,\n",
       " ('15', '29'): 18.565392682650433,\n",
       " ('13', '29'): 18.650198918338198,\n",
       " ('5', '29'): 18.647972879372702,\n",
       " ('4', '29'): 18.164088729077733,\n",
       " ('27', '29'): 17.455251350564595,\n",
       " ('28', '29'): 16.717273753573508,\n",
       " ('30', '29'): 15.896688949460227,\n",
       " ('33', '29'): 15.065001903190506,\n",
       " ('35', '29'): 14.720569350477628,\n",
       " ('6', 'Empty'): 1,\n",
       " ('10', 'Empty'): 1,\n",
       " ('16', 'Empty'): 1,\n",
       " ('0', 'Empty'): 2,\n",
       " ('3', 'Empty'): 3,\n",
       " ('26', 'Empty'): 5,\n",
       " ('Empty', '9'): 1,\n",
       " ('29', 'Empty'): 7,\n",
       " ('6', '9'): 0.9255376029163523,\n",
       " ('10', '9'): 0.758863823535951,\n",
       " ('16', '9'): 0.7986914644582396,\n",
       " ('0', '9'): 1.7986914644582397,\n",
       " ('3', '9'): 2.7469727825659955,\n",
       " ('26', '9'): 4.7469727825659955,\n",
       " ('29', '9'): 6.7469727825659955,\n",
       " ('Empty', '0'): 1,\n",
       " ('12', 'Empty'): 1,\n",
       " ('12', '0'): 0.93170592829794,\n",
       " ('6', '0'): 1.0437897862701515,\n",
       " ('10', '0'): 0.8736383319323648,\n",
       " ('16', '0'): 0.8992413399556527,\n",
       " ('0', '0'): 1.899241339955653,\n",
       " ('3', '0'): 2.837626962067576,\n",
       " ('26', '0'): 4.837626962067576,\n",
       " ('29', '0'): 6.837626962067576,\n",
       " ('12', '9'): 0.8646071539582741,\n",
       " ('Empty', '21'): 3,\n",
       " ('32', 'Empty'): 9,\n",
       " ('32', '0'): 8.837626962067576,\n",
       " ('32', '9'): 8.746972782565996,\n",
       " ('12', '21'): 2.864607153958274,\n",
       " ('6', '21'): 2.9255376029163522,\n",
       " ('10', '21'): 2.7588638235359513,\n",
       " ('16', '21'): 2.7986914644582397,\n",
       " ('0', '21'): 2.6796323745423587,\n",
       " ('3', '21'): 3.5991155806251918,\n",
       " ('26', '21'): 4.429959608876965,\n",
       " ('29', '21'): 6.429959608876965,\n",
       " ('32', '21'): 8.429959608876965,\n",
       " ('Empty', '15'): 1,\n",
       " ('Empty', '3'): 2,\n",
       " ('7', 'Empty'): 1,\n",
       " ('1', 'Empty'): 2,\n",
       " ('Empty', '8'): 1,\n",
       " ('11', 'Empty'): 3,\n",
       " ('7', '8'): 0.45837468151442085,\n",
       " ('1', '8'): 1.4133263838221697,\n",
       " ('11', '8'): 2.41332638382217,\n",
       " ('7', '15'): 0.872900167111716,\n",
       " ('1', '15'): 1.7640559191315537,\n",
       " ('11', '15'): 2.764055919131554,\n",
       " ('7', '3'): 1.507945149197818,\n",
       " ('1', '3'): 1.2086595603242185,\n",
       " ('11', '3'): 2.1961341358011515,\n",
       " ('Empty', '18'): 4,\n",
       " ('9', 'Empty'): 4,\n",
       " ('9', '8'): 3.41332638382217,\n",
       " ('9', '15'): 3.7572580273792937,\n",
       " ('9', '3'): 3.1381218822989334,\n",
       " ('7', '18'): 3.458374681514421,\n",
       " ('1', '18'): 2.819160621990987,\n",
       " ('11', '18'): 2.646783216065614,\n",
       " ('9', '18'): 3.5908793550498466,\n",
       " ('Empty', '7'): 1,\n",
       " ('17', 'Empty'): 1,\n",
       " ('17', '7'): 0.4011077947532926,\n",
       " ('7', '7'): 0.5779458969642013,\n",
       " ('1', '7'): 1.5089504787270545,\n",
       " ('11', '7'): 2.508950478727055,\n",
       " ('9', '7'): 3.508950478727055,\n",
       " ('17', '8'): 0.42522863363881314,\n",
       " ('17', '15'): 0.7928872922342525,\n",
       " ('17', '3'): 1.5263090530815138,\n",
       " ('17', '18'): 3.425228633638813,\n",
       " ('Empty', '19'): 6,\n",
       " ('25', 'Empty'): 6,\n",
       " ('25', '7'): 5.401107794753292,\n",
       " ('25', '8'): 5.389018738854789,\n",
       " ('25', '15'): 5.747582353181579,\n",
       " ('25', '3'): 5.1381218822989325,\n",
       " ('25', '18'): 3.9253142949122513,\n",
       " ('17', '19'): 5.355506064096702,\n",
       " ('7', '19'): 5.458374681514421,\n",
       " ('1', '19'): 4.819160621990987,\n",
       " ('11', '19'): 4.2858052570154195,\n",
       " ('9', '19'): 4.0954784417210375,\n",
       " ('25', '19'): 4.328719394016851,\n",
       " ('10', '15'): 0.9770822014731149,\n",
       " ('16', '15'): 0.9758029624746596,\n",
       " ('0', '15'): 1.9758029624746598,\n",
       " ('3', '15'): 2.93470700037892,\n",
       " ('26', '15'): 4.9347070003789195,\n",
       " ('10', '3'): 1.6515702865318287,\n",
       " ('16', '3'): 1.6832222810653386,\n",
       " ('0', '3'): 1.6830401887433064,\n",
       " ('3', '3'): 2.601191411929016,\n",
       " ('26', '3'): 4.5815160861976505,\n",
       " ('6', '8'): 0.6993551003456296,\n",
       " ('10', '8'): 0.49191759314231753,\n",
       " ('16', '8'): 0.5545698549532889,\n",
       " ('0', '8'): 1.554569854953289,\n",
       " ('3', '8'): 2.4978279132102643,\n",
       " ('26', '8'): 4.491917593142317,\n",
       " ('6', '15'): 1.0701014500587802,\n",
       " ('6', '3'): 1.8836407648812794,\n",
       " ('29', '8'): 6.491917593142318,\n",
       " ('29', '15'): 6.9347070003789195,\n",
       " ('29', '3'): 6.5815160861976505,\n",
       " ('6', '18'): 3.6993551003456293,\n",
       " ('10', '18'): 3.4919175931423174,\n",
       " ('16', '18'): 3.5545698549532894,\n",
       " ('0', '18'): 3.230381372515204,\n",
       " ('3', '18'): 3.2578094169936267,\n",
       " ('26', '18'): 3.684187183955933,\n",
       " ('29', '18'): 5.684187183955933,\n",
       " ('12', '7'): 0.2708560009956005,\n",
       " ('6', '7'): 0.7268206221620535,\n",
       " ('10', '7'): 0.6688268661644541,\n",
       " ('16', '7'): 0.6459278899199287,\n",
       " ('0', '7'): 1.6459278899199288,\n",
       " ('3', '7'): 2.6360739031611717,\n",
       " ('26', '7'): 4.636073903161172,\n",
       " ('29', '7'): 6.636073903161172,\n",
       " ('12', '8'): 0.4358897543668291,\n",
       " ('12', '15'): 0.8936745994448011,\n",
       " ('12', '3'): 1.7478181663192496,\n",
       " ('12', '18'): 3.435889754366829,\n",
       " ('32', '7'): 8.2708560009956,\n",
       " ('32', '8'): 8.43588975436683,\n",
       " ('32', '15'): 8.8936745994448,\n",
       " ('32', '3'): 8.58151608619765,\n",
       " ('32', '18'): 7.616766529671686,\n",
       " ('12', '19'): 5.2708560009956,\n",
       " ('6', '19'): 5.699355100345629,\n",
       " ('10', '19'): 5.491917593142318,\n",
       " ('16', '19'): 5.554569854953289,\n",
       " ('0', '19'): 5.230381372515204,\n",
       " ('3', '19'): 4.827653938473334,\n",
       " ('26', '19'): 4.551433418988076,\n",
       " ('29', '19'): 5.083861540055738,\n",
       " ('32', '19'): 6.375735106785827,\n",
       " ('7', '9'): 0.6606765598907656,\n",
       " ('1', '9'): 1.4972412845442522,\n",
       " ('11', '9'): 2.497241284544252,\n",
       " ('9', '9'): 3.497241284544252,\n",
       " ('17', '0'): 0.7067148850724363,\n",
       " ('7', '0'): 0.7393259841657387,\n",
       " ('1', '0'): 1.5519378541135138,\n",
       " ('11', '0'): 2.551937854113514,\n",
       " ('9', '0'): 3.551937854113514,\n",
       " ('17', '9'): 0.6721879094506277,\n",
       " ('25', '0'): 5.551937854113515,\n",
       " ('25', '9'): 5.497241284544252,\n",
       " ('17', '21'): 2.672187909450628,\n",
       " ('7', '21'): 2.6606765598907653,\n",
       " ('1', '21'): 2.1887708830688166,\n",
       " ('11', '21'): 3.142005011488722,\n",
       " ('9', '21'): 4.035748481424986,\n",
       " ('25', '21'): 4.786122028263003,\n",
       " ('Empty', '23'): 10,\n",
       " ('34', 'Empty'): 16,\n",
       " ('34', '7'): 15.2708560009956,\n",
       " ('34', '8'): 15.386716349540357,\n",
       " ('34', '15'): 15.747582353181578,\n",
       " ('34', '3'): 15.138121882298933,\n",
       " ('34', '18'): 13.925314294912251,\n",
       " ('34', '19'): 12.5226839839269,\n",
       " ('34', '0'): 15.551937854113515,\n",
       " ('34', '9'): 15.497241284544252,\n",
       " ('34', '21'): 14.786122028263001,\n",
       " ('17', '23'): 9.355506064096701,\n",
       " ('7', '23'): 9.458374681514421,\n",
       " ('1', '23'): 8.819160621990987,\n",
       " ('11', '23'): 8.285805257015419,\n",
       " ('9', '23'): 7.807703726608889,\n",
       " ('25', '23'): 7.234627027869039,\n",
       " ('12', '23'): 9.2708560009956,\n",
       " ('6', '23'): 9.69935510034563,\n",
       " ('10', '23'): 9.491917593142318,\n",
       " ('16', '23'): 9.55456985495329,\n",
       " ('0', '23'): 9.230381372515204,\n",
       " ('3', '23'): 8.827653938473334,\n",
       " ('26', '23'): 8.425115952161477,\n",
       " ('29', '23'): 8.37051908553987,\n",
       " ('32', '23'): 8.676246555905893,\n",
       " ('34', '23'): 11.722141663298967,\n",
       " ('8', '9'): 0.3862372280616976,\n",
       " ('15', '9'): 0.197234282900823,\n",
       " ('13', '9'): 0.30002625131121885,\n",
       " ('5', '9'): 0.22051957706965242,\n",
       " ('4', '9'): 1.2205195770696524,\n",
       " ('27', '9'): 3.220519577069652,\n",
       " ('28', '9'): 5.197234282900823,\n",
       " ('30', '9'): 7.197234282900823,\n",
       " ('2', '0'): 0.386796218232596,\n",
       " ('8', '0'): 0.40190375390452504,\n",
       " ('15', '0'): 0.23867551872717963,\n",
       " ('13', '0'): 0.298893106524475,\n",
       " ('5', '0'): 0.23832263148771615,\n",
       " ('4', '0'): 1.238322631487716,\n",
       " ('27', '0'): 3.2383226314877156,\n",
       " ('28', '0'): 5.225129714827336,\n",
       " ('30', '0'): 7.223646753305815,\n",
       " ('2', '9'): 0.3690478590295778,\n",
       " ('33', '0'): 9.223646753305815,\n",
       " ('33', '9'): 9.197234282900823,\n",
       " ('2', '21'): 2.3678610655941745,\n",
       " ('8', '21'): 2.3862372280616975,\n",
       " ('15', '21'): 2.1900357321319683,\n",
       " ('13', '21'): 2.284649213853313,\n",
       " ('5', '21'): 2.201730432741047,\n",
       " ('4', '21'): 1.5815708590382367,\n",
       " ('27', '21'): 1.7820068627585584,\n",
       " ('28', '21'): 3.6239641284447206,\n",
       " ('30', '21'): 5.623964128444721,\n",
       " ('33', '21'): 7.623964128444721,\n",
       " ('18', '8'): 0.7379905069590253,\n",
       " ('18', '15'): 0.7038589017969363,\n",
       " ('18', '3'): 1.4888849273341922,\n",
       " ('18', '18'): 3.488884927334192,\n",
       " ('14', '7'): 0.6220847956214487,\n",
       " ('18', '7'): 0.7441607520124129,\n",
       " ('14', '8'): 0.5040080147854682,\n",
       " ('14', '15'): 0.7827911787843905,\n",
       " ('14', '3'): 1.4147099398958625,\n",
       " ('14', '18'): 3.4147099398958627,\n",
       " ('31', '7'): 2.622084795621449,\n",
       " ('31', '8'): 2.504008014785468,\n",
       " ('31', '15'): 2.703858901796936,\n",
       " ('31', '3'): 2.0549057190466016,\n",
       " ('31', '18'): 2.406994402938368,\n",
       " ('14', '19'): 5.414709939895863,\n",
       " ('18', '19'): 5.488884927334192,\n",
       " ('31', '19'): 4.406994402938368,\n",
       " ('15', '15'): 0.5887034929827526,\n",
       " ('13', '15'): 0.5883453559608082,\n",
       " ('5', '15'): 0.6149179330176295,\n",
       " ('4', '15'): 1.6149179330176295,\n",
       " ('27', '15'): 3.5651048987937397,\n",
       " ('28', '15'): 5.56510489879374,\n",
       " ('15', '3'): 1.3206975137269001,\n",
       " ('13', '3'): 1.3994147344447887,\n",
       " ('5', '3'): 1.3704571164410466,\n",
       " ('4', '3'): 0.9923384183235736,\n",
       " ('27', '3'): 2.927987866032354,\n",
       " ('28', '3'): 4.867294862542997,\n",
       " ('8', '8'): 0.4971108952257598,\n",
       " ('15', '8'): 0.5837850639764675,\n",
       " ('13', '8'): 0.6234604327634414,\n",
       " ('5', '8'): 0.6065387230624062,\n",
       " ('4', '8'): 1.5755816637731903,\n",
       " ('27', '8'): 3.5755816637731908,\n",
       " ('28', '8'): 5.575581663773191,\n",
       " ('8', '15'): 0.6985968983086668,\n",
       " ('8', '3'): 1.3227337516932718,\n",
       " ('30', '8'): 7.4971108952257595,\n",
       " ('30', '15'): 7.56510489879374,\n",
       " ('30', '3'): 6.850833680206322,\n",
       " ('8', '18'): 3.3227337516932716,\n",
       " ('15', '18'): 3.3206975137269,\n",
       " ('13', '18'): 3.3994147344447887,\n",
       " ('5', '18'): 3.370457116441047,\n",
       " ('4', '18'): 2.8348573539175086,\n",
       " ('27', '18'): 2.0715587471450783,\n",
       " ('28', '18'): 3.94750124283991,\n",
       " ('30', '18'): 5.77898766259627,\n",
       " ('2', '7'): 0.690584427151834,\n",
       " ('8', '7'): 0.6579830568282559,\n",
       " ('15', '7'): 0.7429991340660675,\n",
       " ('13', '7'): 0.7200822877877484,\n",
       " ('5', '7'): 0.7273740966928023,\n",
       " ('4', '7'): 1.6990007209903963,\n",
       " ('27', '7'): 3.699000720990396,\n",
       " ('28', '7'): 5.699000720990396,\n",
       " ('30', '7'): 7.657983056828256,\n",
       " ('2', '8'): 0.5400763707307847,\n",
       " ('2', '15'): 0.5994763001007413,\n",
       " ('2', '3'): 1.2938930482953792,\n",
       " ('2', '18'): 3.293893048295379,\n",
       " ('33', '7'): 9.657983056828257,\n",
       " ('33', '8'): 9.49711089522576,\n",
       " ('33', '15'): 9.560400304888486,\n",
       " ('33', '3'): 8.808320957555438,\n",
       " ('33', '18'): 7.748233721005456,\n",
       " ('2', '19'): 5.293893048295379,\n",
       " ('8', '19'): 5.322733751693271,\n",
       " ('15', '19'): 5.3206975137269,\n",
       " ('13', '19'): 5.39941473444479,\n",
       " ('5', '19'): 5.370457116441047,\n",
       " ('4', '19'): 4.834857353917508,\n",
       " ('27', '19'): 4.071558747145078,\n",
       " ('28', '19'): 3.4247825892727333,\n",
       " ('30', '19'): 5.2065582742622745,\n",
       " ('33', '19'): 7.048072195618328,\n",
       " ('18', '9'): 0.6340601640863008,\n",
       " ('14', '0'): 0.5888752511860325,\n",
       " ('18', '0'): 0.5886146636174642,\n",
       " ('14', '9'): 0.585716099054243,\n",
       " ('31', '0'): 2.5021325673984425,\n",
       " ('31', '9'): 2.5132085137412017,\n",
       " ('14', '21'): 2.585716099054243,\n",
       " ('18', '21'): 2.5886146636174643,\n",
       " ('31', '21'): 1.6783368495691517,\n",
       " ('35', '7'): 13.622084795621447,\n",
       " ('35', '8'): 13.49711089522576,\n",
       " ('35', '15'): 13.560400304888486,\n",
       " ('35', '3'): 12.808320957555438,\n",
       " ('35', '18'): 11.696670240313953,\n",
       " ('35', '19'): 10.932297738232908,\n",
       " ('35', '0'): 13.223646753305815,\n",
       " ('35', '9'): 13.197234282900823,\n",
       " ('35', '21'): 11.623964128444719,\n",
       " ('14', '23'): 9.414709939895863,\n",
       " ('18', '23'): 9.488884927334192,\n",
       " ('31', '23'): 8.406994402938368,\n",
       " ('2', '23'): 9.293893048295379,\n",
       " ('8', '23'): 9.32273375169327,\n",
       " ('15', '23'): 9.190035732131967,\n",
       " ('13', '23'): 9.284649213853314,\n",
       " ('5', '23'): 9.201730432741048,\n",
       " ('4', '23'): 8.581570859038237,\n",
       " ('27', '23'): 7.356757842600819,\n",
       " ('28', '23'): 6.595220993996699,\n",
       " ('30', '23'): 6.152955402808161,\n",
       " ('33', '23'): 7.929333693993223,\n",
       " ('35', '23'): 9.12771161105705,\n",
       " ('16', '11'): 0.3483948989103598,\n",
       " ('0', '11'): 1.1920645099038327,\n",
       " ('16', '10'): 0.25418479794191806,\n",
       " ('16', '2'): 0.2606251421050205,\n",
       " ('16', '4'): 0.28270794146056955,\n",
       " ('16', '5'): 0.22439316480408655,\n",
       " ('16', '17'): 2.2218303948711102,\n",
       " ('16', '20'): 4.218274476233083,\n",
       " ('0', '10'): 1.2366414943463462,\n",
       " ('0', '2'): 1.248318401746289,\n",
       " ('0', '4'): 1.2827079414605693,\n",
       " ('0', '5'): 1.2243931648040864,\n",
       " ('0', '17'): 1.5721409516500073,\n",
       " ('0', '20'): 3.485495440295011,\n",
       " ('16', '22'): 6.218274476233084,\n",
       " ('0', '22'): 5.45081571226857,\n",
       " ('3', '11'): 2.192064509903833,\n",
       " ('3', '10'): 2.2366414943463457,\n",
       " ('3', '2'): 2.248318401746289,\n",
       " ('3', '4'): 2.23952632516385,\n",
       " ('3', '5'): 2.224393164804086,\n",
       " ('3', '17'): 2.447853837952904,\n",
       " ('3', '20'): 2.7905788092644244,\n",
       " ('3', '22'): 4.725910431402481,\n",
       " ('16', '25'): 8.218274476233084,\n",
       " ('0', '25'): 7.383960981970881,\n",
       " ('3', '25'): 6.71400663206209,\n",
       " ('10', '12'): 0.2850070225529273,\n",
       " ('10', '14'): 0.29115932652807375,\n",
       " ('10', '24'): 2.2459711643157054,\n",
       " ('16', '12'): 0.26671068854005964,\n",
       " ('0', '12'): 1.2667106885400594,\n",
       " ('16', '14'): 0.3670337435787524,\n",
       " ('0', '14'): 1.347256337782106,\n",
       " ('3', '12'): 2.2440723587927263,\n",
       " ('3', '14'): 2.347256337782106,\n",
       " ('16', '24'): 2.2667106885400594,\n",
       " ('0', '24'): 1.579333926451277,\n",
       " ('3', '24'): 2.5356392976901896,\n",
       " ('10', '11'): 0.23758614882577123,\n",
       " ('10', '10'): 0.20800799728998087,\n",
       " ('10', '2'): 0.20393649848559303,\n",
       " ('10', '4'): 0.34930973094908024,\n",
       " ('10', '5'): 0.24718131032656432,\n",
       " ('10', '17'): 2.2471813103265643,\n",
       " ('10', '20'): 4.196585439976184,\n",
       " ('10', '22'): 6.185934842820182,\n",
       " ('10', '25'): 8.174148932702689,\n",
       " ('26', '12'): 4.244072358792726,\n",
       " ('26', '14'): 4.291159326528073,\n",
       " ('26', '24'): 2.776262673530388,\n",
       " ('26', '11'): 4.192064509903833,\n",
       " ('26', '10'): 4.208007997289981,\n",
       " ('26', '2'): 4.203936498485593,\n",
       " ('26', '4'): 4.23952632516385,\n",
       " ('26', '5'): 4.224393164804086,\n",
       " ('26', '17'): 2.7121143262325274,\n",
       " ('26', '20'): 2.8368554736716796,\n",
       " ('26', '22'): 3.1891165300973725,\n",
       " ('26', '25'): 5.155913807218755,\n",
       " ('10', '26'): 12.174148932702689,\n",
       " ('16', '26'): 12.218274476233084,\n",
       " ('0', '26'): 11.38396098197088,\n",
       " ('3', '26'): 10.633325303237378,\n",
       " ('26', '26'): 9.155913807218756,\n",
       " ('6', '6'): 0.25533893754211645,\n",
       " ('10', '6'): 0.31152211895286985,\n",
       " ('16', '6'): 0.2143327689579,\n",
       " ('0', '6'): 1.2143327689578998,\n",
       " ('3', '6'): 2.2143327689578998,\n",
       " ('26', '6'): 4.2143327689579,\n",
       " ('6', '12'): 0.37773017657269836,\n",
       " ('6', '14'): 0.4605645162182396,\n",
       " ('6', '24'): 2.3777301765726984,\n",
       " ('6', '11'): 0.42651561092144485,\n",
       " ('6', '10'): 0.3121052146707246,\n",
       " ('6', '2'): 0.32399847643403845,\n",
       " ('6', '4'): 0.37242174891324087,\n",
       " ('6', '5'): 0.3006727979800955,\n",
       " ('6', '17'): 2.3006727979800954,\n",
       " ('6', '20'): 4.293293579695737,\n",
       " ('6', '22'): 6.293151863090031,\n",
       " ('6', '25'): 8.293151863090031,\n",
       " ('6', '26'): 12.293151863090031,\n",
       " ('29', '6'): 6.214332768957899,\n",
       " ('29', '12'): 6.244072358792726,\n",
       " ('29', '14'): 6.291159326528074,\n",
       " ('29', '24'): 4.776262673530388,\n",
       " ('29', '11'): 6.192064509903833,\n",
       " ('29', '10'): 6.208007997289981,\n",
       " ('29', '2'): 6.203936498485593,\n",
       " ('29', '4'): 6.239526325163851,\n",
       " ('29', '5'): 6.224393164804086,\n",
       " ('29', '17'): 4.710963421221391,\n",
       " ('29', '20'): 3.2263871504191126,\n",
       " ('29', '22'): 3.3427898059531964,\n",
       " ('29', '25'): 3.8202035653198374,\n",
       " ('29', '26'): 7.748564387440367,\n",
       " ('6', '27'): 14.255338937542117,\n",
       " ('10', '27'): 14.174148932702689,\n",
       " ('16', '27'): 14.208847742507567,\n",
       " ('0', '27'): 13.38396098197088,\n",
       " ('3', '27'): 12.620378674633352,\n",
       " ('26', '27'): 11.141040713555467,\n",
       " ('29', '27'): 9.599737860384467,\n",
       " ('12', '1'): 0.446935920667346,\n",
       " ('6', '1'): 0.34916428607960315,\n",
       " ('10', '1'): 0.1850433212972732,\n",
       " ('16', '1'): 0.2597567851595982,\n",
       " ('0', '1'): 1.2343672243281645,\n",
       " ('3', '1'): 2.233343307953481,\n",
       " ('26', '1'): 4.1850433212972735,\n",
       " ('29', '1'): 6.1850433212972735,\n",
       " ('12', '6'): 0.510841033119499,\n",
       " ('12', '12'): 0.5197843081884356,\n",
       " ('12', '14'): 0.5470340989020064,\n",
       " ('12', '24'): 2.5197843081884357,\n",
       " ('12', '11'): 0.46155208564778516,\n",
       " ('12', '10'): 0.5016172116896087,\n",
       " ('12', '2'): 0.4782180507998207,\n",
       " ('12', '4'): 0.4925778064529488,\n",
       " ('12', '5'): 0.495791210698282,\n",
       " ('12', '17'): 2.4794024616501034,\n",
       " ('12', '20'): 4.465983102248959,\n",
       " ('12', '22'): 6.465983102248959,\n",
       " ('12', '25'): 8.461153121552451,\n",
       " ('12', '26'): 12.46115312155245,\n",
       " ('12', '27'): 14.46115312155245,\n",
       " ('32', '1'): 8.185043321297274,\n",
       " ('32', '6'): 8.214332768957899,\n",
       " ('32', '12'): 8.244072358792726,\n",
       " ('32', '14'): 8.291159326528074,\n",
       " ('32', '24'): 6.776262673530388,\n",
       " ('32', '11'): 8.192064509903833,\n",
       " ('32', '10'): 8.20800799728998,\n",
       " ('32', '2'): 8.203936498485593,\n",
       " ('32', '4'): 8.239526325163851,\n",
       " ('32', '5'): 8.224393164804086,\n",
       " ('32', '17'): 6.71096342122139,\n",
       " ('32', '20'): 5.226387150419113,\n",
       " ('32', '22'): 4.0719380431686965,\n",
       " ('32', '25'): 4.145957199648294,\n",
       " ('32', '26'): 6.69853578976608,\n",
       " ('32', '27'): 8.600416681576172,\n",
       " ('12', '28'): 16.446935920667347,\n",
       " ('6', '28'): 16.255338937542117,\n",
       " ('10', '28'): 16.16862674145249,\n",
       " ('16', '28'): 16.208847742507565,\n",
       " ('0', '28'): 15.38396098197088,\n",
       " ('3', '28'): 14.605722099318726,\n",
       " ('26', '28'): 12.977408653844641,\n",
       " ('29', '28'): 11.587478011998149,\n",
       " ('32', '28'): 10.368843740382758,\n",
       " ('17', '13'): 0.456233187221621,\n",
       " ('7', '13'): 0.3460269439818253,\n",
       " ('1', '13'): 1.3460269439818253,\n",
       " ('11', '13'): 2.3460269439818253,\n",
       " ('9', '13'): 3.3460269439818253,\n",
       " ('25', '13'): 5.346026943981826,\n",
       " ('12', '13'): 0.46055961321790506,\n",
       " ('6', '13'): 0.30003474802093155,\n",
       " ('10', '13'): 0.18302459948614302,\n",
       " ('16', '13'): 0.2653402387232525,\n",
       " ('0', '13'): 1.1753101439139038,\n",
       " ('3', '13'): 2.1753101439139035,\n",
       " ('26', '13'): 4.1753101439139035,\n",
       " ('29', '13'): 6.175310143913904,\n",
       " ('32', '13'): 8.175310143913904,\n",
       " ('7', '6'): 0.41559525873840875,\n",
       " ('1', '6'): 1.4155952587384086,\n",
       " ('11', '6'): 2.415595258738408,\n",
       " ('7', '12'): 0.36031089276701667,\n",
       " ('7', '14'): 0.385360420208976,\n",
       " ('1', '12'): 1.3603108927670169,\n",
       " ('1', '14'): 1.3785251800291949,\n",
       " ('7', '24'): 2.34618547907881,\n",
       " ('1', '24'): 1.731851756649958,\n",
       " ('7', '11'): 0.3393978127978391,\n",
       " ('7', '10'): 0.3583257660950121,\n",
       " ('7', '2'): 0.3531493728446845,\n",
       " ('7', '4'): 0.38801482377021124,\n",
       " ('7', '5'): 0.35482073847718254,\n",
       " ('7', '17'): 2.344152676531621,\n",
       " ('7', '20'): 4.32585461612143,\n",
       " ('7', '22'): 6.325854616121429,\n",
       " ('1', '11'): 1.3393978127978392,\n",
       " ('1', '10'): 1.358325766095012,\n",
       " ('1', '2'): 1.3531493728446846,\n",
       " ('1', '4'): 1.3880148237702112,\n",
       " ('1', '5'): 1.3548207384771827,\n",
       " ('1', '17'): 1.7441675282834972,\n",
       " ('1', '20'): 3.7105673867292706,\n",
       " ('1', '22'): 5.692252588850037,\n",
       " ('7', '25'): 8.312898657288924,\n",
       " ('1', '25'): 7.683347323822746,\n",
       " ('11', '12'): 2.360310892767017,\n",
       " ('11', '14'): 2.378525180029195,\n",
       " ('11', '24'): 2.7318517566499576,\n",
       " ('11', '11'): 2.336513451793993,\n",
       " ('11', '10'): 2.358325766095012,\n",
       " ('11', '2'): 2.353149372844685,\n",
       " ('11', '4'): 2.3880148237702112,\n",
       " ('11', '5'): 2.3548207384771827,\n",
       " ('11', '17'): 2.744167528283497,\n",
       " ('11', '20'): 3.1342311874244873,\n",
       " ('11', '22'): 5.09273122374043,\n",
       " ('11', '25'): 7.037632384443512,\n",
       " ('7', '26'): 12.310945944595128,\n",
       " ('1', '26'): 11.667962642096441,\n",
       " ('11', '26'): 11.037632384443512,\n",
       " ('9', '6'): 3.415595258738408,\n",
       " ('9', '12'): 3.360310892767017,\n",
       " ('9', '14'): 3.3706509469355854,\n",
       " ('9', '24'): 3.7206687092461754,\n",
       " ('9', '11'): 3.3365134517939925,\n",
       " ('9', '10'): 3.358325766095012,\n",
       " ('9', '2'): 3.353149372844685,\n",
       " ('9', '4'): 3.3880148237702112,\n",
       " ('9', '5'): 3.3548207384771827,\n",
       " ('9', '17'): 3.744167528283497,\n",
       " ('9', '20'): 4.103917203254725,\n",
       " ('9', '22'): 4.488854912847385,\n",
       " ('9', '25'): 6.4295793624227215,\n",
       " ('9', '26'): 10.373374921207171,\n",
       " ('7', '27'): 14.310945944595126,\n",
       " ('1', '27'): 13.667962642096441,\n",
       " ('11', '27'): 13.037632384443512,\n",
       " ('9', '27'): 12.373374921207173,\n",
       " ('17', '1'): 0.44695923548290306,\n",
       " ('7', '1'): 0.31056258346803156,\n",
       " ('1', '1'): 1.3105625834680317,\n",
       " ('11', '1'): 2.310562583468032,\n",
       " ('9', '1'): 3.310562583468032,\n",
       " ('17', '6'): 0.5344049121495418,\n",
       " ('17', '12'): 0.4848582809966713,\n",
       " ('17', '14'): 0.4753595180391239,\n",
       " ('17', '24'): 2.470615011801634,\n",
       " ('17', '11'): 0.4226142512450328,\n",
       " ('17', '10'): 0.47166540138153323,\n",
       " ('17', '2'): 0.4570053061957391,\n",
       " ('17', '4'): 0.51744283502081,\n",
       " ('17', '5'): 0.47552214847657004,\n",
       " ('17', '17'): 2.47552214847657,\n",
       " ('17', '20'): 4.4570053061957395,\n",
       " ('17', '22'): 6.4570053061957395,\n",
       " ('17', '25'): 8.422614251245033,\n",
       " ('17', '26'): 12.422614251245033,\n",
       " ('17', '27'): 14.422614251245033,\n",
       " ('25', '1'): 5.310562583468032,\n",
       " ('25', '6'): 5.415595258738408,\n",
       " ('25', '12'): 5.360310892767018,\n",
       " ('25', '14'): 5.370650946935585,\n",
       " ('25', '24'): 4.251816122133067,\n",
       " ('25', '11'): 5.3365134517939925,\n",
       " ('25', '10'): 5.358325766095012,\n",
       " ('25', '2'): 5.353149372844685,\n",
       " ('25', '4'): 5.388014823770211,\n",
       " ('25', '5'): 5.3548207384771835,\n",
       " ('25', '17'): 4.303626244356697,\n",
       " ('25', '20'): 4.620188975216638,\n",
       " ('25', '22'): 4.990567183623436,\n",
       " ('25', '25'): 5.296639219131759,\n",
       " ('25', '26'): 9.289783562058968,\n",
       " ('25', '27'): 11.289783562058968,\n",
       " ('17', '28'): 16.422614251245033,\n",
       " ('7', '28'): 16.306431641143284,\n",
       " ('1', '28'): 15.667962642096441,\n",
       " ('11', '28'): 15.037632384443512,\n",
       " ('9', '28'): 14.373374921207173,\n",
       " ('25', '28'): 13.224664332969894,\n",
       " ('34', '13'): 15.175310143913904,\n",
       " ('34', '1'): 15.185043321297272,\n",
       " ('34', '6'): 15.214332768957899,\n",
       " ('34', '12'): 15.244072358792728,\n",
       " ('34', '14'): 15.291159326528074,\n",
       " ('34', '24'): 13.77626267353039,\n",
       " ('34', '11'): 15.192064509903833,\n",
       " ('34', '10'): 15.208007997289982,\n",
       " ('34', '2'): 15.203936498485593,\n",
       " ('34', '4'): 15.239526325163851,\n",
       " ('34', '5'): 15.224393164804084,\n",
       " ('34', '17'): 13.71096342122139,\n",
       " ('34', '20'): 12.226387150419114,\n",
       " ('34', '22'): 10.945894337474018,\n",
       " ('34', '25'): 9.75684337496425,\n",
       " ('34', '26'): 8.755445580732369,\n",
       " ('34', '27'): 10.75544558073237,\n",
       " ('34', '28'): 12.741916875811931,\n",
       " ('17', '29'): 18.422614251245037,\n",
       " ('7', '29'): 18.306431641143284,\n",
       " ('1', '29'): 17.66796264209644,\n",
       " ('11', '29'): 17.02722374738202,\n",
       " ('9', '29'): 16.373374921207173,\n",
       " ('25', '29'): 15.223174788968091,\n",
       " ('12', '29'): 18.446935920667343,\n",
       " ('6', '29'): 18.25533893754212,\n",
       " ('10', '29'): 18.156691961231402,\n",
       " ('16', '29'): 18.208847742507565,\n",
       " ('0', '29'): 17.382053518774473,\n",
       " ('3', '29'): 16.605722099318726,\n",
       " ('26', '29'): 14.960307925535016,\n",
       " ('29', '29'): 13.45345491001122,\n",
       " ('32', '29'): 12.368843740382758,\n",
       " ('34', '29'): 14.741916875811931,\n",
       " ('Empty', '30'): 30,\n",
       " ('36', 'Empty'): 31,\n",
       " ('36', '7'): 30.2708560009956,\n",
       " ('36', '8'): 30.386716349540357,\n",
       " ('36', '15'): 30.56040030488849,\n",
       " ('36', '3'): 29.808320957555438,\n",
       " ('36', '18'): 28.503022620637207,\n",
       " ('36', '19'): 27.293110968313474,\n",
       " ('36', '0'): 30.223646753305815,\n",
       " ('36', '9'): 30.197234282900823,\n",
       " ('36', '21'): 28.62396412844472,\n",
       " ('36', '23'): 24.479451599384383,\n",
       " ('36', '13'): 30.175310143913904,\n",
       " ('36', '1'): 30.18504332129727,\n",
       " ('36', '6'): 30.214332768957902,\n",
       " ('36', '12'): 30.244072358792728,\n",
       " ('36', '14'): 30.291159326528074,\n",
       " ('36', '24'): 28.77626267353039,\n",
       " ('36', '11'): 30.19206450990383,\n",
       " ('36', '10'): 30.208007997289982,\n",
       " ('36', '2'): 30.20393649848559,\n",
       " ('36', '4'): 30.23952632516385,\n",
       " ('36', '5'): 30.224393164804084,\n",
       " ('36', '17'): 28.710963421221393,\n",
       " ('36', '20'): 27.226387150419114,\n",
       " ('36', '22'): 25.945894337474016,\n",
       " ('36', '25'): 24.756843374964248,\n",
       " ('36', '26'): 22.786058297567383,\n",
       " ('36', '27'): 22.762582443797776,\n",
       " ('36', '28'): 24.762582443797776,\n",
       " ('36', '29'): 26.74581897098875,\n",
       " ('17', '30'): 29.3555060640967,\n",
       " ('7', '30'): 29.306431641143284,\n",
       " ('1', '30'): 28.625816884642052,\n",
       " ('11', '30'): 28.027223747382024,\n",
       " ('9', '30'): 27.333260811079597,\n",
       " ('25', '30'): 26.052832908838496,\n",
       " ('12', '30'): 29.2708560009956,\n",
       " ('6', '30'): 29.25533893754212,\n",
       " ('10', '30'): 29.156691961231402,\n",
       " ('16', '30'): 29.208847742507565,\n",
       " ('0', '30'): 28.38205351877447,\n",
       " ('3', '30'): 27.605722099318726,\n",
       " ('26', '30'): 25.96030792553502,\n",
       " ('29', '30'): 24.453454910011217,\n",
       " ('32', '30'): 23.181204749700612,\n",
       " ('34', '30'): 19.96352607677662,\n",
       " ('14', '30'): 29.39152931373257,\n",
       " ('18', '30'): 29.48888492733419,\n",
       " ('31', '30'): 28.318563543080163,\n",
       " ('2', '30'): 29.29389304829538,\n",
       " ('8', '30'): 29.32273375169327,\n",
       " ('15', '30'): 29.190035732131967,\n",
       " ('13', '30'): 29.284649213853314,\n",
       " ('5', '30'): 29.201730432741044,\n",
       " ('4', '30'): 28.55501638983923,\n",
       " ('27', '30'): 27.35675784260082,\n",
       " ('28', '30'): 26.283404655067923,\n",
       " ('30', '30'): 25.439284676466077,\n",
       " ('33', '30'): 24.97559160534111,\n",
       " ('35', '30'): 23.88711826558558,\n",
       " ('36', '30'): 24.19595577812322}"
      ]
     },
     "execution_count": 52,
     "metadata": {},
     "output_type": "execute_result"
    }
   ],
   "source": [
    "T.dp"
   ]
  },
  {
   "cell_type": "code",
   "execution_count": 53,
   "metadata": {},
   "outputs": [
    {
     "name": "stdout",
     "output_type": "stream",
     "text": [
      "24.19595577812322\n",
      "The mininum cost for alignment is 24.19595577812322\n",
      "The alignment edges list is [('36', '30'), ('35', '23'), ('33', '19'), ('30', '18'), ('28', '3'), ('27', '15'), ('8', '8'), ('2', '7'), ('31', '21'), ('18', '0'), ('14', '9'), ('34', '28'), ('32', '25'), ('29', '22'), ('26', '20'), ('3', '17'), ('16', '5'), ('10', '2'), ('6', '10'), ('12', '11'), ('25', '24'), ('7', '12'), ('17', '14')]\n"
     ]
    },
    {
     "data": {
      "application/vnd.plotly.v1+json": {
       "config": {
        "plotlyServerURL": "https://plot.ly"
       },
       "data": [
        {
         "hoverinfo": "text",
         "hovertext": [
          "connect 30",
          "connect 28",
          "connect 24",
          "connect 14",
          "connect Empty",
          "connect Empty",
          "connect Empty",
          "connect 12",
          "connect 25",
          "connect 11",
          "connect 22",
          "connect 10",
          "connect 20",
          "connect 2",
          "connect 17",
          "connect Empty",
          "connect 5",
          "connect 23",
          "connect 21",
          "connect 9",
          "connect 0",
          "connect 19",
          "connect 7",
          "connect 18",
          "connect 8",
          "connect 3",
          "connect Empty",
          "connect 15",
          "connect Empty",
          "connect Empty",
          "connect Empty",
          "connect 36",
          "connect 35",
          "connect 33",
          "connect 2",
          "connect 30",
          "connect 8",
          "connect 28",
          "connect 27",
          "connect 31",
          "connect 18",
          "connect 14",
          "connect Empty",
          "connect Empty",
          "connect 34",
          "connect Empty",
          "connect Empty",
          "connect Empty",
          "connect Empty",
          "connect 25",
          "connect 7",
          "connect 17",
          "connect 32",
          "connect 12",
          "connect 29",
          "connect 6",
          "connect 26",
          "connect 10",
          "connect 3",
          "connect Empty",
          "connect 16"
         ],
         "marker": {
          "color": [
           3.8477103311371907,
           4.285698942083904,
           4.5803323970709755,
           5.163259499697257,
           4.884329253269241,
           4.64251333881706,
           5.470331318067095,
           5.523376059746415,
           4.624152039542267,
           5.543713970284447,
           4.596510232160775,
           4.337194895097432,
           5.53163859704577,
           5.76931393964406,
           5.716131657562999,
           5.334937489163518,
           5.164094607674183,
           4.296467061248915,
           5.530389574716852,
           5.96498584215037,
           5.684698264452725,
           4.039384441364815,
           5.183877591127664,
           3.729288002626349,
           3.288168615514185,
           5.284137215624354,
           7.201855175300284,
           4.349254662172487,
           5.374999911702155,
           4.555590277865986,
           7.506279803401832,
           5.149390595619856,
           5.313672416012818,
           5.449968989877282,
           6.947042026992814,
           4.884274044313583,
           6.5038523955664145,
           4.375369062301822,
           8.173771912691857,
           7.258353576692976,
           7.226304887795141,
           7.802120581580199,
           6.607054782631287,
           6.939145716429609,
           6.468937819715311,
           7.652230687692866,
           5.821600919796939,
           5.936130740252502,
           6.150881401653563,
           6.268828572457919,
           6.124265795719515,
           7.108885731206823,
           6.334766105508015,
           6.789430315659634,
           6.403655167125248,
           6.620134610554295,
           6.370546609584951,
           7.1794697128044485,
           5.984057606650498,
           6.249667830252995,
           6.073323003204474
          ],
          "colorscale": [
           [
            0,
            "rgb(253, 224, 197)"
           ],
           [
            0.16666666666666666,
            "rgb(250, 203, 166)"
           ],
           [
            0.3333333333333333,
            "rgb(248, 181, 139)"
           ],
           [
            0.5,
            "rgb(245, 158, 114)"
           ],
           [
            0.6666666666666666,
            "rgb(242, 133, 93)"
           ],
           [
            0.8333333333333334,
            "rgb(239, 106, 76)"
           ],
           [
            1,
            "rgb(235, 74, 64)"
           ]
          ],
          "showscale": true,
          "size": 50,
          "symbol": "circle-dot"
         },
         "mode": "markers+text",
         "opacity": 0.8,
         "text": [
          "36",
          "34",
          "25",
          "17",
          "9",
          "11",
          "1",
          "7",
          "32",
          "12",
          "29",
          "6",
          "26",
          "10",
          "3",
          "0",
          "16",
          "35",
          "31",
          "14",
          "18",
          "33",
          "2",
          "30",
          "8",
          "28",
          "15",
          "27",
          "13",
          "4",
          "5",
          "30",
          "23",
          "19",
          "7",
          "18",
          "8",
          "3",
          "15",
          "21",
          "0",
          "9",
          "29",
          "13",
          "28",
          "1",
          "27",
          "6",
          "26",
          "24",
          "12",
          "14",
          "25",
          "11",
          "22",
          "10",
          "20",
          "2",
          "17",
          "4",
          "5"
         ],
         "textfont": {
          "color": "#000000",
          "family": "sans serif",
          "size": 18
         },
         "type": "scatter",
         "x": [
          10.5,
          5.75,
          3.375,
          2.1875,
          4.5625,
          4.5625,
          4.5625,
          4.5625,
          8.125,
          6.9375,
          9.3125,
          8.71875,
          9.90625,
          9.609375,
          10.203125,
          10.203125,
          10.203125,
          15.25,
          12.875,
          11.6875,
          14.0625,
          17.625,
          16.4375,
          18.8125,
          18.21875,
          19.40625,
          19.109375,
          19.703125,
          19.5546875,
          19.8515625,
          19.8515625,
          27.5,
          22.75,
          20.375,
          19.1875,
          21.5625,
          20.96875,
          22.15625,
          22.15625,
          25.125,
          23.9375,
          26.3125,
          32.25,
          29.875,
          34.625,
          33.4375,
          35.8125,
          35.21875,
          36.40625,
          36.109375,
          35.9609375,
          36.2578125,
          36.703125,
          36.5546875,
          36.8515625,
          36.77734375,
          36.92578125,
          36.888671875,
          36.962890625,
          36.9443359375,
          36.9814453125
         ],
         "y": [
          5,
          3.5,
          2,
          0.5,
          0.5,
          -1,
          -2.5,
          -4,
          2,
          0.5,
          0.5,
          -1,
          -1,
          -2.5,
          -2.5,
          -4,
          -5.5,
          3.5,
          2,
          0.5,
          0.5,
          2,
          0.5,
          0.5,
          -1,
          -1,
          -2.5,
          -2.5,
          -4,
          -4,
          -5.5,
          3.5,
          2,
          0.5,
          -1,
          -1,
          -2.5,
          -2.5,
          -4,
          0.5,
          -1,
          -1,
          2,
          0.5,
          0.5,
          -1,
          -1,
          -2.5,
          -2.5,
          -4,
          -5.5,
          -5.5,
          -4,
          -5.5,
          -5.5,
          -7,
          -7,
          -8.5,
          -8.5,
          -10,
          -10
         ]
        }
       ],
       "layout": {
        "height": 500,
        "shapes": [
         {
          "layer": "below",
          "line": {
           "color": "#333",
           "width": 4
          },
          "type": "line",
          "x0": 10.5,
          "x1": 10.5,
          "y0": 5,
          "y1": 5
         },
         {
          "layer": "below",
          "line": {
           "color": "#333",
           "width": 4
          },
          "type": "line",
          "x0": 10.5,
          "x1": 5.75,
          "y0": 5,
          "y1": 3.5
         },
         {
          "layer": "below",
          "line": {
           "color": "#333",
           "width": 4
          },
          "type": "line",
          "x0": 5.75,
          "x1": 3.375,
          "y0": 3.5,
          "y1": 2
         },
         {
          "layer": "below",
          "line": {
           "color": "#333",
           "width": 4
          },
          "type": "line",
          "x0": 3.375,
          "x1": 2.1875,
          "y0": 2,
          "y1": 0.5
         },
         {
          "layer": "below",
          "line": {
           "color": "#333",
           "width": 4
          },
          "type": "line",
          "x0": 3.375,
          "x1": 4.5625,
          "y0": 2,
          "y1": 0.5
         },
         {
          "layer": "below",
          "line": {
           "color": "#333",
           "width": 4
          },
          "type": "line",
          "x0": 4.5625,
          "x1": 4.5625,
          "y0": 0.5,
          "y1": -1
         },
         {
          "layer": "below",
          "line": {
           "color": "#333",
           "width": 4
          },
          "type": "line",
          "x0": 4.5625,
          "x1": 4.5625,
          "y0": -1,
          "y1": -2.5
         },
         {
          "layer": "below",
          "line": {
           "color": "#333",
           "width": 4
          },
          "type": "line",
          "x0": 4.5625,
          "x1": 4.5625,
          "y0": -2.5,
          "y1": -4
         },
         {
          "layer": "below",
          "line": {
           "color": "#333",
           "width": 4
          },
          "type": "line",
          "x0": 5.75,
          "x1": 8.125,
          "y0": 3.5,
          "y1": 2
         },
         {
          "layer": "below",
          "line": {
           "color": "#333",
           "width": 4
          },
          "type": "line",
          "x0": 8.125,
          "x1": 6.9375,
          "y0": 2,
          "y1": 0.5
         },
         {
          "layer": "below",
          "line": {
           "color": "#333",
           "width": 4
          },
          "type": "line",
          "x0": 8.125,
          "x1": 9.3125,
          "y0": 2,
          "y1": 0.5
         },
         {
          "layer": "below",
          "line": {
           "color": "#333",
           "width": 4
          },
          "type": "line",
          "x0": 9.3125,
          "x1": 8.71875,
          "y0": 0.5,
          "y1": -1
         },
         {
          "layer": "below",
          "line": {
           "color": "#333",
           "width": 4
          },
          "type": "line",
          "x0": 9.3125,
          "x1": 9.90625,
          "y0": 0.5,
          "y1": -1
         },
         {
          "layer": "below",
          "line": {
           "color": "#333",
           "width": 4
          },
          "type": "line",
          "x0": 9.90625,
          "x1": 9.609375,
          "y0": -1,
          "y1": -2.5
         },
         {
          "layer": "below",
          "line": {
           "color": "#333",
           "width": 4
          },
          "type": "line",
          "x0": 9.90625,
          "x1": 10.203125,
          "y0": -1,
          "y1": -2.5
         },
         {
          "layer": "below",
          "line": {
           "color": "#333",
           "width": 4
          },
          "type": "line",
          "x0": 10.203125,
          "x1": 10.203125,
          "y0": -2.5,
          "y1": -4
         },
         {
          "layer": "below",
          "line": {
           "color": "#333",
           "width": 4
          },
          "type": "line",
          "x0": 10.203125,
          "x1": 10.203125,
          "y0": -4,
          "y1": -5.5
         },
         {
          "layer": "below",
          "line": {
           "color": "#333",
           "width": 4
          },
          "type": "line",
          "x0": 10.5,
          "x1": 15.25,
          "y0": 5,
          "y1": 3.5
         },
         {
          "layer": "below",
          "line": {
           "color": "#333",
           "width": 4
          },
          "type": "line",
          "x0": 15.25,
          "x1": 12.875,
          "y0": 3.5,
          "y1": 2
         },
         {
          "layer": "below",
          "line": {
           "color": "#333",
           "width": 4
          },
          "type": "line",
          "x0": 12.875,
          "x1": 11.6875,
          "y0": 2,
          "y1": 0.5
         },
         {
          "layer": "below",
          "line": {
           "color": "#333",
           "width": 4
          },
          "type": "line",
          "x0": 12.875,
          "x1": 14.0625,
          "y0": 2,
          "y1": 0.5
         },
         {
          "layer": "below",
          "line": {
           "color": "#333",
           "width": 4
          },
          "type": "line",
          "x0": 15.25,
          "x1": 17.625,
          "y0": 3.5,
          "y1": 2
         },
         {
          "layer": "below",
          "line": {
           "color": "#333",
           "width": 4
          },
          "type": "line",
          "x0": 17.625,
          "x1": 16.4375,
          "y0": 2,
          "y1": 0.5
         },
         {
          "layer": "below",
          "line": {
           "color": "#333",
           "width": 4
          },
          "type": "line",
          "x0": 17.625,
          "x1": 18.8125,
          "y0": 2,
          "y1": 0.5
         },
         {
          "layer": "below",
          "line": {
           "color": "#333",
           "width": 4
          },
          "type": "line",
          "x0": 18.8125,
          "x1": 18.21875,
          "y0": 0.5,
          "y1": -1
         },
         {
          "layer": "below",
          "line": {
           "color": "#333",
           "width": 4
          },
          "type": "line",
          "x0": 18.8125,
          "x1": 19.40625,
          "y0": 0.5,
          "y1": -1
         },
         {
          "layer": "below",
          "line": {
           "color": "#333",
           "width": 4
          },
          "type": "line",
          "x0": 19.40625,
          "x1": 19.109375,
          "y0": -1,
          "y1": -2.5
         },
         {
          "layer": "below",
          "line": {
           "color": "#333",
           "width": 4
          },
          "type": "line",
          "x0": 19.40625,
          "x1": 19.703125,
          "y0": -1,
          "y1": -2.5
         },
         {
          "layer": "below",
          "line": {
           "color": "#333",
           "width": 4
          },
          "type": "line",
          "x0": 19.703125,
          "x1": 19.5546875,
          "y0": -2.5,
          "y1": -4
         },
         {
          "layer": "below",
          "line": {
           "color": "#333",
           "width": 4
          },
          "type": "line",
          "x0": 19.703125,
          "x1": 19.8515625,
          "y0": -2.5,
          "y1": -4
         },
         {
          "layer": "below",
          "line": {
           "color": "#333",
           "width": 4
          },
          "type": "line",
          "x0": 19.8515625,
          "x1": 19.8515625,
          "y0": -4,
          "y1": -5.5
         },
         {
          "layer": "below",
          "line": {
           "color": "#333",
           "width": 4
          },
          "type": "line",
          "x0": 27.5,
          "x1": 27.5,
          "y0": 3.5,
          "y1": 3.5
         },
         {
          "layer": "below",
          "line": {
           "color": "#333",
           "width": 4
          },
          "type": "line",
          "x0": 27.5,
          "x1": 22.75,
          "y0": 3.5,
          "y1": 2
         },
         {
          "layer": "below",
          "line": {
           "color": "#333",
           "width": 4
          },
          "type": "line",
          "x0": 22.75,
          "x1": 20.375,
          "y0": 2,
          "y1": 0.5
         },
         {
          "layer": "below",
          "line": {
           "color": "#333",
           "width": 4
          },
          "type": "line",
          "x0": 20.375,
          "x1": 19.1875,
          "y0": 0.5,
          "y1": -1
         },
         {
          "layer": "below",
          "line": {
           "color": "#333",
           "width": 4
          },
          "type": "line",
          "x0": 20.375,
          "x1": 21.5625,
          "y0": 0.5,
          "y1": -1
         },
         {
          "layer": "below",
          "line": {
           "color": "#333",
           "width": 4
          },
          "type": "line",
          "x0": 21.5625,
          "x1": 20.96875,
          "y0": -1,
          "y1": -2.5
         },
         {
          "layer": "below",
          "line": {
           "color": "#333",
           "width": 4
          },
          "type": "line",
          "x0": 21.5625,
          "x1": 22.15625,
          "y0": -1,
          "y1": -2.5
         },
         {
          "layer": "below",
          "line": {
           "color": "#333",
           "width": 4
          },
          "type": "line",
          "x0": 22.15625,
          "x1": 22.15625,
          "y0": -2.5,
          "y1": -4
         },
         {
          "layer": "below",
          "line": {
           "color": "#333",
           "width": 4
          },
          "type": "line",
          "x0": 22.75,
          "x1": 25.125,
          "y0": 2,
          "y1": 0.5
         },
         {
          "layer": "below",
          "line": {
           "color": "#333",
           "width": 4
          },
          "type": "line",
          "x0": 25.125,
          "x1": 23.9375,
          "y0": 0.5,
          "y1": -1
         },
         {
          "layer": "below",
          "line": {
           "color": "#333",
           "width": 4
          },
          "type": "line",
          "x0": 25.125,
          "x1": 26.3125,
          "y0": 0.5,
          "y1": -1
         },
         {
          "layer": "below",
          "line": {
           "color": "#333",
           "width": 4
          },
          "type": "line",
          "x0": 27.5,
          "x1": 32.25,
          "y0": 3.5,
          "y1": 2
         },
         {
          "layer": "below",
          "line": {
           "color": "#333",
           "width": 4
          },
          "type": "line",
          "x0": 32.25,
          "x1": 29.875,
          "y0": 2,
          "y1": 0.5
         },
         {
          "layer": "below",
          "line": {
           "color": "#333",
           "width": 4
          },
          "type": "line",
          "x0": 32.25,
          "x1": 34.625,
          "y0": 2,
          "y1": 0.5
         },
         {
          "layer": "below",
          "line": {
           "color": "#333",
           "width": 4
          },
          "type": "line",
          "x0": 34.625,
          "x1": 33.4375,
          "y0": 0.5,
          "y1": -1
         },
         {
          "layer": "below",
          "line": {
           "color": "#333",
           "width": 4
          },
          "type": "line",
          "x0": 34.625,
          "x1": 35.8125,
          "y0": 0.5,
          "y1": -1
         },
         {
          "layer": "below",
          "line": {
           "color": "#333",
           "width": 4
          },
          "type": "line",
          "x0": 35.8125,
          "x1": 35.21875,
          "y0": -1,
          "y1": -2.5
         },
         {
          "layer": "below",
          "line": {
           "color": "#333",
           "width": 4
          },
          "type": "line",
          "x0": 35.8125,
          "x1": 36.40625,
          "y0": -1,
          "y1": -2.5
         },
         {
          "layer": "below",
          "line": {
           "color": "#333",
           "width": 4
          },
          "type": "line",
          "x0": 36.40625,
          "x1": 36.109375,
          "y0": -2.5,
          "y1": -4
         },
         {
          "layer": "below",
          "line": {
           "color": "#333",
           "width": 4
          },
          "type": "line",
          "x0": 36.109375,
          "x1": 35.9609375,
          "y0": -4,
          "y1": -5.5
         },
         {
          "layer": "below",
          "line": {
           "color": "#333",
           "width": 4
          },
          "type": "line",
          "x0": 36.109375,
          "x1": 36.2578125,
          "y0": -4,
          "y1": -5.5
         },
         {
          "layer": "below",
          "line": {
           "color": "#333",
           "width": 4
          },
          "type": "line",
          "x0": 36.40625,
          "x1": 36.703125,
          "y0": -2.5,
          "y1": -4
         },
         {
          "layer": "below",
          "line": {
           "color": "#333",
           "width": 4
          },
          "type": "line",
          "x0": 36.703125,
          "x1": 36.5546875,
          "y0": -4,
          "y1": -5.5
         },
         {
          "layer": "below",
          "line": {
           "color": "#333",
           "width": 4
          },
          "type": "line",
          "x0": 36.703125,
          "x1": 36.8515625,
          "y0": -4,
          "y1": -5.5
         },
         {
          "layer": "below",
          "line": {
           "color": "#333",
           "width": 4
          },
          "type": "line",
          "x0": 36.8515625,
          "x1": 36.77734375,
          "y0": -5.5,
          "y1": -7
         },
         {
          "layer": "below",
          "line": {
           "color": "#333",
           "width": 4
          },
          "type": "line",
          "x0": 36.8515625,
          "x1": 36.92578125,
          "y0": -5.5,
          "y1": -7
         },
         {
          "layer": "below",
          "line": {
           "color": "#333",
           "width": 4
          },
          "type": "line",
          "x0": 36.92578125,
          "x1": 36.888671875,
          "y0": -7,
          "y1": -8.5
         },
         {
          "layer": "below",
          "line": {
           "color": "#333",
           "width": 4
          },
          "type": "line",
          "x0": 36.92578125,
          "x1": 36.962890625,
          "y0": -7,
          "y1": -8.5
         },
         {
          "layer": "below",
          "line": {
           "color": "#333",
           "width": 4
          },
          "type": "line",
          "x0": 36.962890625,
          "x1": 36.9443359375,
          "y0": -8.5,
          "y1": -10
         },
         {
          "layer": "below",
          "line": {
           "color": "#333",
           "width": 4
          },
          "type": "line",
          "x0": 36.962890625,
          "x1": 36.9814453125,
          "y0": -8.5,
          "y1": -10
         },
         {
          "layer": "below",
          "line": {
           "color": "#6175c1",
           "width": 4
          },
          "type": "line",
          "x0": 10.5,
          "x1": 27.5,
          "y0": 5,
          "y1": 3.5
         },
         {
          "layer": "below",
          "line": {
           "color": "#6175c1",
           "width": 4
          },
          "type": "line",
          "x0": 15.25,
          "x1": 22.75,
          "y0": 3.5,
          "y1": 2
         },
         {
          "layer": "below",
          "line": {
           "color": "#6175c1",
           "width": 4
          },
          "type": "line",
          "x0": 17.625,
          "x1": 20.375,
          "y0": 2,
          "y1": 0.5
         },
         {
          "layer": "below",
          "line": {
           "color": "#6175c1",
           "width": 4
          },
          "type": "line",
          "x0": 18.8125,
          "x1": 21.5625,
          "y0": 0.5,
          "y1": -1
         },
         {
          "layer": "below",
          "line": {
           "color": "#6175c1",
           "width": 4
          },
          "type": "line",
          "x0": 19.40625,
          "x1": 22.15625,
          "y0": -1,
          "y1": -2.5
         },
         {
          "layer": "below",
          "line": {
           "color": "#6175c1",
           "width": 4
          },
          "type": "line",
          "x0": 19.703125,
          "x1": 22.15625,
          "y0": -2.5,
          "y1": -4
         },
         {
          "layer": "below",
          "line": {
           "color": "#6175c1",
           "width": 4
          },
          "type": "line",
          "x0": 18.21875,
          "x1": 20.96875,
          "y0": -1,
          "y1": -2.5
         },
         {
          "layer": "below",
          "line": {
           "color": "#6175c1",
           "width": 4
          },
          "type": "line",
          "x0": 16.4375,
          "x1": 19.1875,
          "y0": 0.5,
          "y1": -1
         },
         {
          "layer": "below",
          "line": {
           "color": "#6175c1",
           "width": 4
          },
          "type": "line",
          "x0": 12.875,
          "x1": 25.125,
          "y0": 2,
          "y1": 0.5
         },
         {
          "layer": "below",
          "line": {
           "color": "#6175c1",
           "width": 4
          },
          "type": "line",
          "x0": 14.0625,
          "x1": 23.9375,
          "y0": 0.5,
          "y1": -1
         },
         {
          "layer": "below",
          "line": {
           "color": "#6175c1",
           "width": 4
          },
          "type": "line",
          "x0": 11.6875,
          "x1": 26.3125,
          "y0": 0.5,
          "y1": -1
         },
         {
          "layer": "below",
          "line": {
           "color": "#6175c1",
           "width": 4
          },
          "type": "line",
          "x0": 5.75,
          "x1": 34.625,
          "y0": 3.5,
          "y1": 0.5
         },
         {
          "layer": "below",
          "line": {
           "color": "#6175c1",
           "width": 4
          },
          "type": "line",
          "x0": 8.125,
          "x1": 36.703125,
          "y0": 2,
          "y1": -4
         },
         {
          "layer": "below",
          "line": {
           "color": "#6175c1",
           "width": 4
          },
          "type": "line",
          "x0": 9.3125,
          "x1": 36.8515625,
          "y0": 0.5,
          "y1": -5.5
         },
         {
          "layer": "below",
          "line": {
           "color": "#6175c1",
           "width": 4
          },
          "type": "line",
          "x0": 9.90625,
          "x1": 36.92578125,
          "y0": -1,
          "y1": -7
         },
         {
          "layer": "below",
          "line": {
           "color": "#6175c1",
           "width": 4
          },
          "type": "line",
          "x0": 10.203125,
          "x1": 36.962890625,
          "y0": -2.5,
          "y1": -8.5
         },
         {
          "layer": "below",
          "line": {
           "color": "#6175c1",
           "width": 4
          },
          "type": "line",
          "x0": 10.203125,
          "x1": 36.9814453125,
          "y0": -5.5,
          "y1": -10
         },
         {
          "layer": "below",
          "line": {
           "color": "#6175c1",
           "width": 4
          },
          "type": "line",
          "x0": 9.609375,
          "x1": 36.888671875,
          "y0": -2.5,
          "y1": -8.5
         },
         {
          "layer": "below",
          "line": {
           "color": "#6175c1",
           "width": 4
          },
          "type": "line",
          "x0": 8.71875,
          "x1": 36.77734375,
          "y0": -1,
          "y1": -7
         },
         {
          "layer": "below",
          "line": {
           "color": "#6175c1",
           "width": 4
          },
          "type": "line",
          "x0": 6.9375,
          "x1": 36.5546875,
          "y0": 0.5,
          "y1": -5.5
         },
         {
          "layer": "below",
          "line": {
           "color": "#6175c1",
           "width": 4
          },
          "type": "line",
          "x0": 3.375,
          "x1": 36.109375,
          "y0": 2,
          "y1": -4
         },
         {
          "layer": "below",
          "line": {
           "color": "#6175c1",
           "width": 4
          },
          "type": "line",
          "x0": 4.5625,
          "x1": 35.9609375,
          "y0": -4,
          "y1": -5.5
         },
         {
          "layer": "below",
          "line": {
           "color": "#6175c1",
           "width": 4
          },
          "type": "line",
          "x0": 2.1875,
          "x1": 36.2578125,
          "y0": 0.5,
          "y1": -5.5
         }
        ],
        "template": {
         "data": {
          "bar": [
           {
            "error_x": {
             "color": "#2a3f5f"
            },
            "error_y": {
             "color": "#2a3f5f"
            },
            "marker": {
             "line": {
              "color": "#E5ECF6",
              "width": 0.5
             },
             "pattern": {
              "fillmode": "overlay",
              "size": 10,
              "solidity": 0.2
             }
            },
            "type": "bar"
           }
          ],
          "barpolar": [
           {
            "marker": {
             "line": {
              "color": "#E5ECF6",
              "width": 0.5
             },
             "pattern": {
              "fillmode": "overlay",
              "size": 10,
              "solidity": 0.2
             }
            },
            "type": "barpolar"
           }
          ],
          "carpet": [
           {
            "aaxis": {
             "endlinecolor": "#2a3f5f",
             "gridcolor": "white",
             "linecolor": "white",
             "minorgridcolor": "white",
             "startlinecolor": "#2a3f5f"
            },
            "baxis": {
             "endlinecolor": "#2a3f5f",
             "gridcolor": "white",
             "linecolor": "white",
             "minorgridcolor": "white",
             "startlinecolor": "#2a3f5f"
            },
            "type": "carpet"
           }
          ],
          "choropleth": [
           {
            "colorbar": {
             "outlinewidth": 0,
             "ticks": ""
            },
            "type": "choropleth"
           }
          ],
          "contour": [
           {
            "colorbar": {
             "outlinewidth": 0,
             "ticks": ""
            },
            "colorscale": [
             [
              0,
              "#0d0887"
             ],
             [
              0.1111111111111111,
              "#46039f"
             ],
             [
              0.2222222222222222,
              "#7201a8"
             ],
             [
              0.3333333333333333,
              "#9c179e"
             ],
             [
              0.4444444444444444,
              "#bd3786"
             ],
             [
              0.5555555555555556,
              "#d8576b"
             ],
             [
              0.6666666666666666,
              "#ed7953"
             ],
             [
              0.7777777777777778,
              "#fb9f3a"
             ],
             [
              0.8888888888888888,
              "#fdca26"
             ],
             [
              1,
              "#f0f921"
             ]
            ],
            "type": "contour"
           }
          ],
          "contourcarpet": [
           {
            "colorbar": {
             "outlinewidth": 0,
             "ticks": ""
            },
            "type": "contourcarpet"
           }
          ],
          "heatmap": [
           {
            "colorbar": {
             "outlinewidth": 0,
             "ticks": ""
            },
            "colorscale": [
             [
              0,
              "#0d0887"
             ],
             [
              0.1111111111111111,
              "#46039f"
             ],
             [
              0.2222222222222222,
              "#7201a8"
             ],
             [
              0.3333333333333333,
              "#9c179e"
             ],
             [
              0.4444444444444444,
              "#bd3786"
             ],
             [
              0.5555555555555556,
              "#d8576b"
             ],
             [
              0.6666666666666666,
              "#ed7953"
             ],
             [
              0.7777777777777778,
              "#fb9f3a"
             ],
             [
              0.8888888888888888,
              "#fdca26"
             ],
             [
              1,
              "#f0f921"
             ]
            ],
            "type": "heatmap"
           }
          ],
          "heatmapgl": [
           {
            "colorbar": {
             "outlinewidth": 0,
             "ticks": ""
            },
            "colorscale": [
             [
              0,
              "#0d0887"
             ],
             [
              0.1111111111111111,
              "#46039f"
             ],
             [
              0.2222222222222222,
              "#7201a8"
             ],
             [
              0.3333333333333333,
              "#9c179e"
             ],
             [
              0.4444444444444444,
              "#bd3786"
             ],
             [
              0.5555555555555556,
              "#d8576b"
             ],
             [
              0.6666666666666666,
              "#ed7953"
             ],
             [
              0.7777777777777778,
              "#fb9f3a"
             ],
             [
              0.8888888888888888,
              "#fdca26"
             ],
             [
              1,
              "#f0f921"
             ]
            ],
            "type": "heatmapgl"
           }
          ],
          "histogram": [
           {
            "marker": {
             "pattern": {
              "fillmode": "overlay",
              "size": 10,
              "solidity": 0.2
             }
            },
            "type": "histogram"
           }
          ],
          "histogram2d": [
           {
            "colorbar": {
             "outlinewidth": 0,
             "ticks": ""
            },
            "colorscale": [
             [
              0,
              "#0d0887"
             ],
             [
              0.1111111111111111,
              "#46039f"
             ],
             [
              0.2222222222222222,
              "#7201a8"
             ],
             [
              0.3333333333333333,
              "#9c179e"
             ],
             [
              0.4444444444444444,
              "#bd3786"
             ],
             [
              0.5555555555555556,
              "#d8576b"
             ],
             [
              0.6666666666666666,
              "#ed7953"
             ],
             [
              0.7777777777777778,
              "#fb9f3a"
             ],
             [
              0.8888888888888888,
              "#fdca26"
             ],
             [
              1,
              "#f0f921"
             ]
            ],
            "type": "histogram2d"
           }
          ],
          "histogram2dcontour": [
           {
            "colorbar": {
             "outlinewidth": 0,
             "ticks": ""
            },
            "colorscale": [
             [
              0,
              "#0d0887"
             ],
             [
              0.1111111111111111,
              "#46039f"
             ],
             [
              0.2222222222222222,
              "#7201a8"
             ],
             [
              0.3333333333333333,
              "#9c179e"
             ],
             [
              0.4444444444444444,
              "#bd3786"
             ],
             [
              0.5555555555555556,
              "#d8576b"
             ],
             [
              0.6666666666666666,
              "#ed7953"
             ],
             [
              0.7777777777777778,
              "#fb9f3a"
             ],
             [
              0.8888888888888888,
              "#fdca26"
             ],
             [
              1,
              "#f0f921"
             ]
            ],
            "type": "histogram2dcontour"
           }
          ],
          "mesh3d": [
           {
            "colorbar": {
             "outlinewidth": 0,
             "ticks": ""
            },
            "type": "mesh3d"
           }
          ],
          "parcoords": [
           {
            "line": {
             "colorbar": {
              "outlinewidth": 0,
              "ticks": ""
             }
            },
            "type": "parcoords"
           }
          ],
          "pie": [
           {
            "automargin": true,
            "type": "pie"
           }
          ],
          "scatter": [
           {
            "fillpattern": {
             "fillmode": "overlay",
             "size": 10,
             "solidity": 0.2
            },
            "type": "scatter"
           }
          ],
          "scatter3d": [
           {
            "line": {
             "colorbar": {
              "outlinewidth": 0,
              "ticks": ""
             }
            },
            "marker": {
             "colorbar": {
              "outlinewidth": 0,
              "ticks": ""
             }
            },
            "type": "scatter3d"
           }
          ],
          "scattercarpet": [
           {
            "marker": {
             "colorbar": {
              "outlinewidth": 0,
              "ticks": ""
             }
            },
            "type": "scattercarpet"
           }
          ],
          "scattergeo": [
           {
            "marker": {
             "colorbar": {
              "outlinewidth": 0,
              "ticks": ""
             }
            },
            "type": "scattergeo"
           }
          ],
          "scattergl": [
           {
            "marker": {
             "colorbar": {
              "outlinewidth": 0,
              "ticks": ""
             }
            },
            "type": "scattergl"
           }
          ],
          "scattermapbox": [
           {
            "marker": {
             "colorbar": {
              "outlinewidth": 0,
              "ticks": ""
             }
            },
            "type": "scattermapbox"
           }
          ],
          "scatterpolar": [
           {
            "marker": {
             "colorbar": {
              "outlinewidth": 0,
              "ticks": ""
             }
            },
            "type": "scatterpolar"
           }
          ],
          "scatterpolargl": [
           {
            "marker": {
             "colorbar": {
              "outlinewidth": 0,
              "ticks": ""
             }
            },
            "type": "scatterpolargl"
           }
          ],
          "scatterternary": [
           {
            "marker": {
             "colorbar": {
              "outlinewidth": 0,
              "ticks": ""
             }
            },
            "type": "scatterternary"
           }
          ],
          "surface": [
           {
            "colorbar": {
             "outlinewidth": 0,
             "ticks": ""
            },
            "colorscale": [
             [
              0,
              "#0d0887"
             ],
             [
              0.1111111111111111,
              "#46039f"
             ],
             [
              0.2222222222222222,
              "#7201a8"
             ],
             [
              0.3333333333333333,
              "#9c179e"
             ],
             [
              0.4444444444444444,
              "#bd3786"
             ],
             [
              0.5555555555555556,
              "#d8576b"
             ],
             [
              0.6666666666666666,
              "#ed7953"
             ],
             [
              0.7777777777777778,
              "#fb9f3a"
             ],
             [
              0.8888888888888888,
              "#fdca26"
             ],
             [
              1,
              "#f0f921"
             ]
            ],
            "type": "surface"
           }
          ],
          "table": [
           {
            "cells": {
             "fill": {
              "color": "#EBF0F8"
             },
             "line": {
              "color": "white"
             }
            },
            "header": {
             "fill": {
              "color": "#C8D4E3"
             },
             "line": {
              "color": "white"
             }
            },
            "type": "table"
           }
          ]
         },
         "layout": {
          "annotationdefaults": {
           "arrowcolor": "#2a3f5f",
           "arrowhead": 0,
           "arrowwidth": 1
          },
          "autotypenumbers": "strict",
          "coloraxis": {
           "colorbar": {
            "outlinewidth": 0,
            "ticks": ""
           }
          },
          "colorscale": {
           "diverging": [
            [
             0,
             "#8e0152"
            ],
            [
             0.1,
             "#c51b7d"
            ],
            [
             0.2,
             "#de77ae"
            ],
            [
             0.3,
             "#f1b6da"
            ],
            [
             0.4,
             "#fde0ef"
            ],
            [
             0.5,
             "#f7f7f7"
            ],
            [
             0.6,
             "#e6f5d0"
            ],
            [
             0.7,
             "#b8e186"
            ],
            [
             0.8,
             "#7fbc41"
            ],
            [
             0.9,
             "#4d9221"
            ],
            [
             1,
             "#276419"
            ]
           ],
           "sequential": [
            [
             0,
             "#0d0887"
            ],
            [
             0.1111111111111111,
             "#46039f"
            ],
            [
             0.2222222222222222,
             "#7201a8"
            ],
            [
             0.3333333333333333,
             "#9c179e"
            ],
            [
             0.4444444444444444,
             "#bd3786"
            ],
            [
             0.5555555555555556,
             "#d8576b"
            ],
            [
             0.6666666666666666,
             "#ed7953"
            ],
            [
             0.7777777777777778,
             "#fb9f3a"
            ],
            [
             0.8888888888888888,
             "#fdca26"
            ],
            [
             1,
             "#f0f921"
            ]
           ],
           "sequentialminus": [
            [
             0,
             "#0d0887"
            ],
            [
             0.1111111111111111,
             "#46039f"
            ],
            [
             0.2222222222222222,
             "#7201a8"
            ],
            [
             0.3333333333333333,
             "#9c179e"
            ],
            [
             0.4444444444444444,
             "#bd3786"
            ],
            [
             0.5555555555555556,
             "#d8576b"
            ],
            [
             0.6666666666666666,
             "#ed7953"
            ],
            [
             0.7777777777777778,
             "#fb9f3a"
            ],
            [
             0.8888888888888888,
             "#fdca26"
            ],
            [
             1,
             "#f0f921"
            ]
           ]
          },
          "colorway": [
           "#636efa",
           "#EF553B",
           "#00cc96",
           "#ab63fa",
           "#FFA15A",
           "#19d3f3",
           "#FF6692",
           "#B6E880",
           "#FF97FF",
           "#FECB52"
          ],
          "font": {
           "color": "#2a3f5f"
          },
          "geo": {
           "bgcolor": "white",
           "lakecolor": "white",
           "landcolor": "#E5ECF6",
           "showlakes": true,
           "showland": true,
           "subunitcolor": "white"
          },
          "hoverlabel": {
           "align": "left"
          },
          "hovermode": "closest",
          "mapbox": {
           "style": "light"
          },
          "paper_bgcolor": "white",
          "plot_bgcolor": "#E5ECF6",
          "polar": {
           "angularaxis": {
            "gridcolor": "white",
            "linecolor": "white",
            "ticks": ""
           },
           "bgcolor": "#E5ECF6",
           "radialaxis": {
            "gridcolor": "white",
            "linecolor": "white",
            "ticks": ""
           }
          },
          "scene": {
           "xaxis": {
            "backgroundcolor": "#E5ECF6",
            "gridcolor": "white",
            "gridwidth": 2,
            "linecolor": "white",
            "showbackground": true,
            "ticks": "",
            "zerolinecolor": "white"
           },
           "yaxis": {
            "backgroundcolor": "#E5ECF6",
            "gridcolor": "white",
            "gridwidth": 2,
            "linecolor": "white",
            "showbackground": true,
            "ticks": "",
            "zerolinecolor": "white"
           },
           "zaxis": {
            "backgroundcolor": "#E5ECF6",
            "gridcolor": "white",
            "gridwidth": 2,
            "linecolor": "white",
            "showbackground": true,
            "ticks": "",
            "zerolinecolor": "white"
           }
          },
          "shapedefaults": {
           "line": {
            "color": "#2a3f5f"
           }
          },
          "ternary": {
           "aaxis": {
            "gridcolor": "white",
            "linecolor": "white",
            "ticks": ""
           },
           "baxis": {
            "gridcolor": "white",
            "linecolor": "white",
            "ticks": ""
           },
           "bgcolor": "#E5ECF6",
           "caxis": {
            "gridcolor": "white",
            "linecolor": "white",
            "ticks": ""
           }
          },
          "title": {
           "x": 0.05
          },
          "xaxis": {
           "automargin": true,
           "gridcolor": "white",
           "linecolor": "white",
           "ticks": "",
           "title": {
            "standoff": 15
           },
           "zerolinecolor": "white",
           "zerolinewidth": 2
          },
          "yaxis": {
           "automargin": true,
           "gridcolor": "white",
           "linecolor": "white",
           "ticks": "",
           "title": {
            "standoff": 15
           },
           "zerolinecolor": "white",
           "zerolinewidth": 2
          }
         }
        },
        "width": 1000,
        "xaxis": {
         "showgrid": false,
         "showline": false,
         "showticklabels": false,
         "zeroline": false
        },
        "yaxis": {
         "showgrid": false,
         "showline": false,
         "showticklabels": false,
         "zeroline": false
        }
       }
      }
     },
     "metadata": {},
     "output_type": "display_data"
    }
   ],
   "source": [
    "T=tree_alignment(nodes1[0],nodes2[0],1);\n",
    "minn = T.run_alignment();\n",
    "T.show_ans();\n",
    "ans = T.get_ans()\n",
    "ans\n",
    "G=show_graph(ans,nodes1[0],nodes2[0]);\n",
    "G.show_fig()"
   ]
  },
  {
   "cell_type": "code",
   "execution_count": 54,
   "metadata": {},
   "outputs": [
    {
     "data": {
      "text/plain": [
       "array([2.05689451e-01, 3.17955507e-02, 1.54424650e-01, 5.69279645e-01,\n",
       "       6.45224008e-02, 3.51907131e-03, 8.43458380e-03, 8.37605083e-02,\n",
       "       5.61824339e-03, 7.28908707e-02, 6.98051181e-02, 7.86880253e-02,\n",
       "       3.07946617e-02, 9.90274235e-02, 2.66710957e-02, 1.57165948e-02,\n",
       "       1.62292327e-01, 2.82168088e-02, 2.82457923e-01, 1.32336722e-01,\n",
       "       4.59526031e-01, 2.60793268e-02, 1.77943159e-01, 3.36697894e-02,\n",
       "       1.19533290e+00, 1.50413014e-01, 6.35155444e-03, 6.00033918e-02,\n",
       "       1.24178161e-01, 1.99299751e-01, 7.14386466e-02, 1.00679618e-01,\n",
       "       1.68289159e-02, 3.46061448e-01, 2.14460682e-02, 5.83711531e-03,\n",
       "       3.20290033e-02, 6.08189303e-01, 4.49289117e-02, 1.12502397e-01,\n",
       "       5.23000676e-03, 1.08627508e-01, 4.76812293e-03, 2.64198541e-02,\n",
       "       4.63245659e-02, 3.71618767e-02, 1.01547045e-01, 3.65034382e-02,\n",
       "       2.08888760e-01, 1.84418350e-03, 1.52422050e-01, 9.80916738e-04,\n",
       "       8.88107382e-05, 1.31406523e-01, 1.13445457e-02, 1.14747332e-02,\n",
       "       1.30193540e-01, 1.40825891e-01, 1.29284507e-02, 4.87441253e-01,\n",
       "       1.05898231e-02, 3.42832157e-01, 6.65834427e-02, 2.22174121e-01,\n",
       "       2.62301335e-02, 1.61709307e-01, 1.28977752e-02, 8.28402137e-04,\n",
       "       5.37437275e-02, 4.49031896e-02, 1.38159088e-01, 1.11941121e-02,\n",
       "       2.27910168e-02, 3.88925771e-02, 2.49541907e-01, 5.51057339e-02,\n",
       "       3.53157875e-03, 1.09476979e-01, 9.98397110e-02, 9.08008401e-03,\n",
       "       1.59627793e-01, 1.39951126e-03, 2.74673801e-01, 6.83710342e-04,\n",
       "       1.80230339e-01, 1.36405418e-01, 1.85234058e-01, 1.14703472e-01,\n",
       "       1.10710861e-02, 2.44306047e-02, 2.11287175e-03, 7.99206121e-02,\n",
       "       1.31683247e-03, 4.79630490e-02, 2.45083978e-01, 5.68870238e-03,\n",
       "       3.53276215e-03, 1.58414337e-03, 2.96866599e-01, 2.46567813e-01,\n",
       "       1.17172295e-01, 9.41290682e-03, 2.05123618e-01, 4.68412211e-02,\n",
       "       2.63296830e-01, 3.98355493e-03, 2.38021830e-01, 3.25429153e-03,\n",
       "       1.81785905e-02, 1.07865693e-01, 1.24828577e-02, 1.32234179e-01,\n",
       "       5.68386402e-02, 1.90585551e-01, 9.46611054e-02, 7.94521630e-02,\n",
       "       5.05225900e-01, 2.74382982e-01, 7.50088010e-02, 7.57076392e-05,\n",
       "       1.52023702e-02, 2.77514410e-02, 3.93019549e-02, 1.44496385e-01,\n",
       "       1.40265974e-01, 5.41433624e-02, 3.82447645e-03, 4.21188867e-01,\n",
       "       7.13314239e-04, 4.77511754e-02, 7.10284410e-03, 3.80831969e-03,\n",
       "       1.76691136e-03, 3.11129736e-01, 1.67324375e-02, 1.68269492e-01,\n",
       "       9.79998030e-03, 5.39339371e-02, 4.10223131e-01, 1.06032647e-01,\n",
       "       7.95705354e-02, 3.09169903e-01, 1.07020122e-01, 3.09747438e-01,\n",
       "       8.46417436e-01, 2.36850992e-01, 2.54618490e-01, 2.01994792e-01,\n",
       "       2.63712108e-01, 1.72344051e-02, 1.31130397e-03, 2.03919236e-01,\n",
       "       1.13617664e-01, 7.45209953e-04, 2.28782276e-01, 6.40518069e-01,\n",
       "       1.90943760e-02, 4.15502599e-02, 3.14015789e-01, 4.30355813e-03,\n",
       "       1.18303468e-02, 4.16812976e-01, 4.64656108e-01, 8.47533179e-03,\n",
       "       3.35635027e-02, 1.08786105e-01, 8.22377822e-04, 6.17474675e-04,\n",
       "       4.82823830e-02, 2.29019732e-01, 5.63666055e-02, 2.05092313e-01,\n",
       "       1.43632719e-01, 2.81297679e-02, 1.62434807e-01, 8.06952880e-02,\n",
       "       1.76625712e-01, 5.09636915e-01, 3.25629605e-02, 1.85184488e-01,\n",
       "       3.32633568e-01, 1.39788378e-01, 3.23018291e-01, 2.85278996e-01,\n",
       "       2.20857301e-01, 1.84564423e-02, 1.01231870e-01, 2.15140758e-01,\n",
       "       2.46608639e-02, 1.05137824e-01, 1.65369345e-02, 1.44005181e-01,\n",
       "       1.06832074e-01, 1.47396973e-03, 1.15253210e-01, 7.54196217e-02,\n",
       "       7.92030272e-02, 7.26202953e-01, 1.66431134e-01, 5.52966743e-01,\n",
       "       1.91174573e-01, 3.12129532e-01, 1.22271042e-01, 1.37632045e-01,\n",
       "       2.42935524e-02, 5.08990534e-01, 1.31736493e-01, 7.63594431e-02,\n",
       "       4.75796295e-01, 4.16882356e-02, 9.73840091e-02, 6.71955893e-02,\n",
       "       1.34104967e-01, 1.23135603e-02, 1.22363205e-01, 1.13385608e-01,\n",
       "       3.66159133e-01, 1.17978143e-05, 1.22206034e-01, 9.53647727e-03,\n",
       "       4.59043767e-02, 3.85510351e-03, 5.59255291e-03, 8.98608676e-02,\n",
       "       4.97441161e-02, 1.66970206e-01, 8.06127757e-03, 4.47256486e-03,\n",
       "       1.65399855e-01, 1.02280858e+00, 6.99782508e-04, 4.30781401e-01,\n",
       "       3.15418795e-02, 4.08692466e-02, 1.30023254e-03, 7.47564706e-03,\n",
       "       7.56354771e-02, 8.26905733e-02, 4.62614669e-02, 1.28910079e-02,\n",
       "       4.95116917e-02, 3.91039745e-03, 3.57147152e-01, 2.76584744e-01,\n",
       "       4.10201025e-02, 4.58713580e-02, 1.61894160e-01, 1.19943248e-02,\n",
       "       1.52367275e-02, 8.85509619e-02, 3.26798535e-03, 1.89409323e-03,\n",
       "       1.51201749e-02, 3.10440843e-02, 1.63880894e-01, 1.14322782e-01,\n",
       "       7.51353497e-02, 1.33345597e-01, 2.16241691e-01, 1.54019429e-01,\n",
       "       5.99034650e-02, 1.21923489e-04, 4.96906697e-03, 1.16966732e-02,\n",
       "       1.07949634e-02, 3.56966166e-01, 1.69419887e-01, 1.22947211e-02,\n",
       "       2.10805865e-01, 5.53335907e-02, 9.79290612e-04, 2.95467965e-01,\n",
       "       9.99100843e-02, 4.72614001e-02, 8.03940308e-02, 1.00733046e-02,\n",
       "       6.29595351e-02, 1.92979625e-03, 2.53287810e-02, 1.51815386e-02,\n",
       "       1.43772972e-01, 2.99388650e-02, 8.21275794e-02, 1.58431398e-03,\n",
       "       1.01518830e-01, 1.13189833e-01, 1.54569388e-03, 4.41309468e-01,\n",
       "       3.97844537e-01, 3.00242883e-01, 2.19497805e-01, 4.05450522e-02,\n",
       "       4.02233764e-02, 2.43051044e-02, 3.03181866e-03, 9.89312124e-03,\n",
       "       8.30173750e-03, 1.16408644e-01, 1.92019978e-01, 5.76788814e-02,\n",
       "       7.66224364e-02, 8.63016519e-02, 1.59507230e-01, 3.54832303e-01,\n",
       "       2.67726255e-01, 4.67028686e-01, 5.92074715e-05, 9.95179226e-02,\n",
       "       1.16150233e-01, 9.30152392e-02, 2.39624829e-01, 4.94229264e-02,\n",
       "       3.04833743e-02, 7.60654727e-03, 1.43280618e-02, 1.26272528e-01,\n",
       "       1.69497899e-01, 1.48382693e-02, 1.88728823e+00, 6.00957229e-03,\n",
       "       3.54051242e-01, 9.40955079e-01, 6.65715271e-02, 8.00025570e-02,\n",
       "       9.82404334e-03, 5.50397896e-03, 1.27754481e-01, 2.41806733e-03,\n",
       "       1.44738805e-01, 2.39892199e-01, 4.24405227e-03, 2.39464150e-01,\n",
       "       1.10894610e-01, 3.64580802e-01, 5.57814210e-03, 2.86148165e-01,\n",
       "       1.12357105e-01, 1.18960112e+00, 3.47525776e-04, 4.93296506e-01,\n",
       "       5.49087173e-02, 1.66425415e-02, 3.28123881e-03, 6.73920561e-02,\n",
       "       1.02040965e-01, 1.74790825e-03, 1.57621270e-02, 2.24602861e-01,\n",
       "       7.51713692e-02, 8.68873266e-04, 5.55984860e-02, 6.69320345e-02,\n",
       "       1.17212908e-01, 8.12503119e-02, 3.23426025e-01, 3.29638925e-02,\n",
       "       8.18385445e-02, 4.71753746e-01, 2.74977746e-05, 1.24391440e-01,\n",
       "       5.73424621e-02, 4.00946817e-01, 5.41996889e-02, 1.46957723e-01,\n",
       "       1.55485688e-01, 2.11019213e-01, 1.50878661e-01, 1.55761143e-01,\n",
       "       2.09420776e-02, 1.11134218e-02, 4.90658824e-03, 2.94212614e-01,\n",
       "       1.13751010e-01, 6.68333631e-04, 4.00315089e-01, 1.12628276e-01,\n",
       "       2.35836525e-01, 1.92770810e-01, 1.06871084e-01, 2.00325004e-03,\n",
       "       4.13519792e-02, 1.54305473e-01, 6.07689457e-02, 2.18387312e-02,\n",
       "       2.88265759e-01, 2.27472570e-01, 2.11716329e-02, 8.19556498e-04,\n",
       "       1.60963012e-01, 1.49279893e-01, 4.03129173e-04, 3.82598588e-03,\n",
       "       5.38330665e-03, 2.36227014e-02, 2.30276628e-01, 8.56589053e-03,\n",
       "       8.01552097e-02, 3.05865237e-02, 4.26579253e-01, 8.67999666e-02,\n",
       "       6.14171979e-02, 1.21161845e-01, 2.10887592e-03, 3.44480861e-02,\n",
       "       4.68049888e-03, 5.34340998e-02, 2.81347373e-03, 1.59692272e-01,\n",
       "       4.26485229e-01, 1.78497730e-02, 7.69736481e-02, 6.20102188e-01,\n",
       "       7.81163909e-03, 3.07594261e-01, 1.31747651e-01, 1.51220334e-02,\n",
       "       1.22377609e-01, 1.46177668e-01, 9.59934754e-02, 5.00118599e-02,\n",
       "       4.94967820e-02, 1.59280961e-03, 1.11527293e-01, 3.66091019e-01,\n",
       "       1.34195831e-03, 4.73222899e-01, 2.58921551e-04, 2.85114450e-01,\n",
       "       9.39141238e-02, 6.96728797e-02, 1.11038174e-01, 1.21517472e-01,\n",
       "       9.68296991e-03, 4.12622336e-01, 9.17631835e-06, 8.96215733e-03,\n",
       "       3.59177767e-02, 1.81384651e-01, 3.33122198e-02, 2.12934021e-01,\n",
       "       1.88078944e-01, 4.05238803e-02, 1.04788601e-01, 3.15263432e-01,\n",
       "       4.13379702e-01, 1.22208070e-01, 2.52457688e-04, 6.49200389e-01,\n",
       "       3.73405076e-02, 3.89911589e-01, 1.75498743e-01, 1.32997802e-01,\n",
       "       4.04207130e-02, 2.92007771e-02, 2.21427746e-01, 3.81574748e-03,\n",
       "       7.36192889e-01, 2.08489908e-01, 1.74356816e-01, 3.05928983e-01,\n",
       "       8.95773832e-02, 6.57746549e-01, 1.32478895e-03, 4.51693222e-03,\n",
       "       1.56796579e-01, 2.20070011e-01, 1.11728947e-01, 2.24204747e-01,\n",
       "       3.89997434e-02, 4.03216836e-03, 5.16347922e-02, 5.06766948e-01,\n",
       "       1.34687966e-01, 2.07232056e-01, 1.35651223e-02, 6.50864509e-02,\n",
       "       4.00967161e-02, 3.23432192e-01, 8.51529325e-02, 1.63322073e-01,\n",
       "       1.17665113e-01, 1.59077780e-01, 9.28524047e-02, 1.06019581e-02,\n",
       "       4.69237410e-02, 1.39926314e-01, 1.32749647e-01, 9.95615830e-02,\n",
       "       8.69651883e-02, 7.92406988e-03, 2.60489483e-03, 2.43851025e-02,\n",
       "       2.82839460e-02, 9.24901637e-02, 1.55858838e-01, 2.05054866e-01,\n",
       "       5.51814520e-02, 3.41583703e-01, 1.45267776e-02, 1.77473981e-02,\n",
       "       2.17678495e-01, 2.39274065e-02, 4.21755801e-01, 5.31629470e-03,\n",
       "       4.80613738e-01, 8.41283050e-02, 4.68820068e-02, 5.34224914e-03,\n",
       "       8.63121986e-02, 3.52710883e-03, 1.49260205e-01, 1.76071008e-03,\n",
       "       7.67642930e-02])"
      ]
     },
     "execution_count": 54,
     "metadata": {},
     "output_type": "execute_result"
    }
   ],
   "source": [
    "nodes2[0].value"
   ]
  },
  {
   "cell_type": "code",
   "execution_count": 55,
   "metadata": {},
   "outputs": [
    {
     "ename": "FileNotFoundError",
     "evalue": "[Errno 2] No such file or directory: './1.csv'",
     "output_type": "error",
     "traceback": [
      "\u001b[0;31m---------------------------------------------------------------------------\u001b[0m",
      "\u001b[0;31mFileNotFoundError\u001b[0m                         Traceback (most recent call last)",
      "Cell \u001b[0;32mIn[55], line 3\u001b[0m\n\u001b[1;32m      1\u001b[0m \u001b[39m# pos_1 = np.load(\"../cityu/HypHC/5-15/dataxy.npy\")\u001b[39;00m\n\u001b[1;32m      2\u001b[0m \u001b[39m# pos_2 = np.load(\"../cityu/HypHC/5-16/dataxy.npy\")\u001b[39;00m\n\u001b[0;32m----> 3\u001b[0m pos_1 \u001b[39m=\u001b[39m pd\u001b[39m.\u001b[39;49mread_csv(\u001b[39m\"\u001b[39;49m\u001b[39m./1.csv\u001b[39;49m\u001b[39m\"\u001b[39;49m,index_col\u001b[39m=\u001b[39;49m\u001b[39m\"\u001b[39;49m\u001b[39mUnnamed: 0\u001b[39;49m\u001b[39m\"\u001b[39;49m)\u001b[39m.\u001b[39mvalues\n\u001b[1;32m      4\u001b[0m pos_2 \u001b[39m=\u001b[39m pd\u001b[39m.\u001b[39mread_csv(\u001b[39m\"\u001b[39m\u001b[39m./2.csv\u001b[39m\u001b[39m\"\u001b[39m,index_col\u001b[39m=\u001b[39m\u001b[39m\"\u001b[39m\u001b[39mUnnamed: 0\u001b[39m\u001b[39m\"\u001b[39m)\u001b[39m.\u001b[39mvalues\n\u001b[1;32m      5\u001b[0m edge_1 \u001b[39m=\u001b[39m np\u001b[39m.\u001b[39mload(\u001b[39m\"\u001b[39m\u001b[39m../cityu/HypHC/5-15/datalink.npy\u001b[39m\u001b[39m\"\u001b[39m);\n",
      "File \u001b[0;32m~/opt/anaconda3/lib/python3.8/site-packages/pandas/util/_decorators.py:311\u001b[0m, in \u001b[0;36mdeprecate_nonkeyword_arguments.<locals>.decorate.<locals>.wrapper\u001b[0;34m(*args, **kwargs)\u001b[0m\n\u001b[1;32m    305\u001b[0m \u001b[39mif\u001b[39;00m \u001b[39mlen\u001b[39m(args) \u001b[39m>\u001b[39m num_allow_args:\n\u001b[1;32m    306\u001b[0m     warnings\u001b[39m.\u001b[39mwarn(\n\u001b[1;32m    307\u001b[0m         msg\u001b[39m.\u001b[39mformat(arguments\u001b[39m=\u001b[39marguments),\n\u001b[1;32m    308\u001b[0m         \u001b[39mFutureWarning\u001b[39;00m,\n\u001b[1;32m    309\u001b[0m         stacklevel\u001b[39m=\u001b[39mstacklevel,\n\u001b[1;32m    310\u001b[0m     )\n\u001b[0;32m--> 311\u001b[0m \u001b[39mreturn\u001b[39;00m func(\u001b[39m*\u001b[39;49margs, \u001b[39m*\u001b[39;49m\u001b[39m*\u001b[39;49mkwargs)\n",
      "File \u001b[0;32m~/opt/anaconda3/lib/python3.8/site-packages/pandas/io/parsers/readers.py:678\u001b[0m, in \u001b[0;36mread_csv\u001b[0;34m(filepath_or_buffer, sep, delimiter, header, names, index_col, usecols, squeeze, prefix, mangle_dupe_cols, dtype, engine, converters, true_values, false_values, skipinitialspace, skiprows, skipfooter, nrows, na_values, keep_default_na, na_filter, verbose, skip_blank_lines, parse_dates, infer_datetime_format, keep_date_col, date_parser, dayfirst, cache_dates, iterator, chunksize, compression, thousands, decimal, lineterminator, quotechar, quoting, doublequote, escapechar, comment, encoding, encoding_errors, dialect, error_bad_lines, warn_bad_lines, on_bad_lines, delim_whitespace, low_memory, memory_map, float_precision, storage_options)\u001b[0m\n\u001b[1;32m    663\u001b[0m kwds_defaults \u001b[39m=\u001b[39m _refine_defaults_read(\n\u001b[1;32m    664\u001b[0m     dialect,\n\u001b[1;32m    665\u001b[0m     delimiter,\n\u001b[0;32m   (...)\u001b[0m\n\u001b[1;32m    674\u001b[0m     defaults\u001b[39m=\u001b[39m{\u001b[39m\"\u001b[39m\u001b[39mdelimiter\u001b[39m\u001b[39m\"\u001b[39m: \u001b[39m\"\u001b[39m\u001b[39m,\u001b[39m\u001b[39m\"\u001b[39m},\n\u001b[1;32m    675\u001b[0m )\n\u001b[1;32m    676\u001b[0m kwds\u001b[39m.\u001b[39mupdate(kwds_defaults)\n\u001b[0;32m--> 678\u001b[0m \u001b[39mreturn\u001b[39;00m _read(filepath_or_buffer, kwds)\n",
      "File \u001b[0;32m~/opt/anaconda3/lib/python3.8/site-packages/pandas/io/parsers/readers.py:575\u001b[0m, in \u001b[0;36m_read\u001b[0;34m(filepath_or_buffer, kwds)\u001b[0m\n\u001b[1;32m    572\u001b[0m _validate_names(kwds\u001b[39m.\u001b[39mget(\u001b[39m\"\u001b[39m\u001b[39mnames\u001b[39m\u001b[39m\"\u001b[39m, \u001b[39mNone\u001b[39;00m))\n\u001b[1;32m    574\u001b[0m \u001b[39m# Create the parser.\u001b[39;00m\n\u001b[0;32m--> 575\u001b[0m parser \u001b[39m=\u001b[39m TextFileReader(filepath_or_buffer, \u001b[39m*\u001b[39;49m\u001b[39m*\u001b[39;49mkwds)\n\u001b[1;32m    577\u001b[0m \u001b[39mif\u001b[39;00m chunksize \u001b[39mor\u001b[39;00m iterator:\n\u001b[1;32m    578\u001b[0m     \u001b[39mreturn\u001b[39;00m parser\n",
      "File \u001b[0;32m~/opt/anaconda3/lib/python3.8/site-packages/pandas/io/parsers/readers.py:932\u001b[0m, in \u001b[0;36mTextFileReader.__init__\u001b[0;34m(self, f, engine, **kwds)\u001b[0m\n\u001b[1;32m    929\u001b[0m     \u001b[39mself\u001b[39m\u001b[39m.\u001b[39moptions[\u001b[39m\"\u001b[39m\u001b[39mhas_index_names\u001b[39m\u001b[39m\"\u001b[39m] \u001b[39m=\u001b[39m kwds[\u001b[39m\"\u001b[39m\u001b[39mhas_index_names\u001b[39m\u001b[39m\"\u001b[39m]\n\u001b[1;32m    931\u001b[0m \u001b[39mself\u001b[39m\u001b[39m.\u001b[39mhandles: IOHandles \u001b[39m|\u001b[39m \u001b[39mNone\u001b[39;00m \u001b[39m=\u001b[39m \u001b[39mNone\u001b[39;00m\n\u001b[0;32m--> 932\u001b[0m \u001b[39mself\u001b[39m\u001b[39m.\u001b[39m_engine \u001b[39m=\u001b[39m \u001b[39mself\u001b[39;49m\u001b[39m.\u001b[39;49m_make_engine(f, \u001b[39mself\u001b[39;49m\u001b[39m.\u001b[39;49mengine)\n",
      "File \u001b[0;32m~/opt/anaconda3/lib/python3.8/site-packages/pandas/io/parsers/readers.py:1216\u001b[0m, in \u001b[0;36mTextFileReader._make_engine\u001b[0;34m(self, f, engine)\u001b[0m\n\u001b[1;32m   1212\u001b[0m     mode \u001b[39m=\u001b[39m \u001b[39m\"\u001b[39m\u001b[39mrb\u001b[39m\u001b[39m\"\u001b[39m\n\u001b[1;32m   1213\u001b[0m \u001b[39m# error: No overload variant of \"get_handle\" matches argument types\u001b[39;00m\n\u001b[1;32m   1214\u001b[0m \u001b[39m# \"Union[str, PathLike[str], ReadCsvBuffer[bytes], ReadCsvBuffer[str]]\"\u001b[39;00m\n\u001b[1;32m   1215\u001b[0m \u001b[39m# , \"str\", \"bool\", \"Any\", \"Any\", \"Any\", \"Any\", \"Any\"\u001b[39;00m\n\u001b[0;32m-> 1216\u001b[0m \u001b[39mself\u001b[39m\u001b[39m.\u001b[39mhandles \u001b[39m=\u001b[39m get_handle(  \u001b[39m# type: ignore[call-overload]\u001b[39;49;00m\n\u001b[1;32m   1217\u001b[0m     f,\n\u001b[1;32m   1218\u001b[0m     mode,\n\u001b[1;32m   1219\u001b[0m     encoding\u001b[39m=\u001b[39;49m\u001b[39mself\u001b[39;49m\u001b[39m.\u001b[39;49moptions\u001b[39m.\u001b[39;49mget(\u001b[39m\"\u001b[39;49m\u001b[39mencoding\u001b[39;49m\u001b[39m\"\u001b[39;49m, \u001b[39mNone\u001b[39;49;00m),\n\u001b[1;32m   1220\u001b[0m     compression\u001b[39m=\u001b[39;49m\u001b[39mself\u001b[39;49m\u001b[39m.\u001b[39;49moptions\u001b[39m.\u001b[39;49mget(\u001b[39m\"\u001b[39;49m\u001b[39mcompression\u001b[39;49m\u001b[39m\"\u001b[39;49m, \u001b[39mNone\u001b[39;49;00m),\n\u001b[1;32m   1221\u001b[0m     memory_map\u001b[39m=\u001b[39;49m\u001b[39mself\u001b[39;49m\u001b[39m.\u001b[39;49moptions\u001b[39m.\u001b[39;49mget(\u001b[39m\"\u001b[39;49m\u001b[39mmemory_map\u001b[39;49m\u001b[39m\"\u001b[39;49m, \u001b[39mFalse\u001b[39;49;00m),\n\u001b[1;32m   1222\u001b[0m     is_text\u001b[39m=\u001b[39;49mis_text,\n\u001b[1;32m   1223\u001b[0m     errors\u001b[39m=\u001b[39;49m\u001b[39mself\u001b[39;49m\u001b[39m.\u001b[39;49moptions\u001b[39m.\u001b[39;49mget(\u001b[39m\"\u001b[39;49m\u001b[39mencoding_errors\u001b[39;49m\u001b[39m\"\u001b[39;49m, \u001b[39m\"\u001b[39;49m\u001b[39mstrict\u001b[39;49m\u001b[39m\"\u001b[39;49m),\n\u001b[1;32m   1224\u001b[0m     storage_options\u001b[39m=\u001b[39;49m\u001b[39mself\u001b[39;49m\u001b[39m.\u001b[39;49moptions\u001b[39m.\u001b[39;49mget(\u001b[39m\"\u001b[39;49m\u001b[39mstorage_options\u001b[39;49m\u001b[39m\"\u001b[39;49m, \u001b[39mNone\u001b[39;49;00m),\n\u001b[1;32m   1225\u001b[0m )\n\u001b[1;32m   1226\u001b[0m \u001b[39massert\u001b[39;00m \u001b[39mself\u001b[39m\u001b[39m.\u001b[39mhandles \u001b[39mis\u001b[39;00m \u001b[39mnot\u001b[39;00m \u001b[39mNone\u001b[39;00m\n\u001b[1;32m   1227\u001b[0m f \u001b[39m=\u001b[39m \u001b[39mself\u001b[39m\u001b[39m.\u001b[39mhandles\u001b[39m.\u001b[39mhandle\n",
      "File \u001b[0;32m~/opt/anaconda3/lib/python3.8/site-packages/pandas/io/common.py:786\u001b[0m, in \u001b[0;36mget_handle\u001b[0;34m(path_or_buf, mode, encoding, compression, memory_map, is_text, errors, storage_options)\u001b[0m\n\u001b[1;32m    781\u001b[0m \u001b[39melif\u001b[39;00m \u001b[39misinstance\u001b[39m(handle, \u001b[39mstr\u001b[39m):\n\u001b[1;32m    782\u001b[0m     \u001b[39m# Check whether the filename is to be opened in binary mode.\u001b[39;00m\n\u001b[1;32m    783\u001b[0m     \u001b[39m# Binary mode does not support 'encoding' and 'newline'.\u001b[39;00m\n\u001b[1;32m    784\u001b[0m     \u001b[39mif\u001b[39;00m ioargs\u001b[39m.\u001b[39mencoding \u001b[39mand\u001b[39;00m \u001b[39m\"\u001b[39m\u001b[39mb\u001b[39m\u001b[39m\"\u001b[39m \u001b[39mnot\u001b[39;00m \u001b[39min\u001b[39;00m ioargs\u001b[39m.\u001b[39mmode:\n\u001b[1;32m    785\u001b[0m         \u001b[39m# Encoding\u001b[39;00m\n\u001b[0;32m--> 786\u001b[0m         handle \u001b[39m=\u001b[39m \u001b[39mopen\u001b[39;49m(\n\u001b[1;32m    787\u001b[0m             handle,\n\u001b[1;32m    788\u001b[0m             ioargs\u001b[39m.\u001b[39;49mmode,\n\u001b[1;32m    789\u001b[0m             encoding\u001b[39m=\u001b[39;49mioargs\u001b[39m.\u001b[39;49mencoding,\n\u001b[1;32m    790\u001b[0m             errors\u001b[39m=\u001b[39;49merrors,\n\u001b[1;32m    791\u001b[0m             newline\u001b[39m=\u001b[39;49m\u001b[39m\"\u001b[39;49m\u001b[39m\"\u001b[39;49m,\n\u001b[1;32m    792\u001b[0m         )\n\u001b[1;32m    793\u001b[0m     \u001b[39melse\u001b[39;00m:\n\u001b[1;32m    794\u001b[0m         \u001b[39m# Binary mode\u001b[39;00m\n\u001b[1;32m    795\u001b[0m         handle \u001b[39m=\u001b[39m \u001b[39mopen\u001b[39m(handle, ioargs\u001b[39m.\u001b[39mmode)\n",
      "\u001b[0;31mFileNotFoundError\u001b[0m: [Errno 2] No such file or directory: './1.csv'"
     ]
    }
   ],
   "source": [
    "# pos_1 = np.load(\"../cityu/HypHC/5-15/dataxy.npy\")\n",
    "# pos_2 = np.load(\"../cityu/HypHC/5-16/dataxy.npy\")\n",
    "pos_1 = pd.read_csv(\"./1.csv\",index_col=\"Unnamed: 0\").values\n",
    "pos_2 = pd.read_csv(\"./2.csv\",index_col=\"Unnamed: 0\").values\n",
    "edge_1 = np.load(\"../cityu/HypHC/5-15/datalink.npy\");\n",
    "edge_2 = np.load(\"../cityu/HypHC/5-16/datalink.npy\");\n",
    "n1 = len(pos_1)\n",
    "n2 = len(pos_2)\n",
    "nodes1 = [node(name=str(i),son=[]) for i in range(len(pos_1)*2-1)]\n",
    "nodes2 = [node(name=str(i),son=[]) for i in range(len(pos_2)*2-1)]\n",
    "for i in range(len(edge_1)-1):\n",
    "    nodes1[edge_1[i]].son.append(nodes1[i])\n",
    "for i in range(len(edge_2)-1):\n",
    "    nodes2[edge_2[i]].son.append(nodes2[i])\n",
    "for i in range(len(pos_1)):\n",
    "    nodes1[i].value = pos_1[i];\n",
    "    nodes1[i].subson = [nodes1[i].name];\n",
    "    \n",
    "for i in range(len(pos_2)):\n",
    "    nodes2[i].value = pos_2[i];\n",
    "    nodes2[i].subson = [nodes2[i].name]\n",
    "    \n",
    "    \n",
    "for i in range(len(pos_1),len(pos_1)*2-1):\n",
    "    for son in nodes1[i].son:\n",
    "        nodes1[i].subson.extend(son.subson);\n",
    "    \n",
    "for i in range(len(pos_2),len(pos_2)*2-1):\n",
    "    for son in nodes2[i].son:\n",
    "        nodes2[i].subson.extend(son.subson);\n",
    "        \n",
    "adata1 = pd.read_csv(\"./adata1_cell.csv\")\n",
    "type1 = pd.read_csv(\"./adata1_type.csv\")[['Unnamed: 0','leiden']]\n",
    "datas1 = type1.merge(adata1,how=\"inner\",on=\"Unnamed: 0\")\n",
    "datas1 = datas1.set_index(\"Unnamed: 0\")\n",
    "        \n",
    "adata2 = pd.read_csv(\"./adata2_cell.csv\")\n",
    "type2 = pd.read_csv(\"./adata2_type.csv\")[['Unnamed: 0','leiden']]\n",
    "datas2 = type2.merge(adata2,how=\"inner\",on=\"Unnamed: 0\")\n",
    "datas2 = datas2.set_index(\"Unnamed: 0\")\n",
    "        \n",
    "for i in tqdm.tqdm(range(len(pos_1),len(pos_1)*2-1)):\n",
    "    med = []\n",
    "    for sub in nodes1[i].subson:\n",
    "        subdata = datas1[datas1['leiden']==int(sub)];\n",
    "        med.extend(subdata.values[:,1:].tolist());\n",
    "    med = np.array( med);\n",
    "    p = pd.DataFrame(med);\n",
    "    nodes1[i].value = p.mean(axis=0).values;\n",
    "    \n",
    "for i in tqdm.tqdm(range(len(pos_2),len(pos_2)*2-1)):\n",
    "    med = []\n",
    "    for sub in nodes2[i].subson:\n",
    "        subdata = datas2[datas2['leiden']==int(sub)];\n",
    "        med.extend(subdata.values[:,1:].tolist());\n",
    "    med = np.array( med);\n",
    "    p = pd.DataFrame(med);\n",
    "    nodes2[i].value = p.mean(axis=0).values;\n",
    "\n",
    "# for i in range(len(pos_1),len(pos_1)*2-1):\n",
    "#     sum = np.array([0 for j in range(len(pos_1[0]))],dtype=np.float32);\n",
    "#     med = [];\n",
    "#     for son in nodes1[i].son:\n",
    "#         sum = sum + son.value;\n",
    "#         med.append(son.value);\n",
    "#     sum= sum / max(len(nodes1[i].son),1);\n",
    "#     med = np.array(med);\n",
    "#     p = pd.DataFrame(med);\n",
    "#     nodes1[i].value = p.mean(axis=0).values;\n",
    "#     nodes1[i].value = sum;\n",
    "    \n",
    "\n",
    "    \n",
    "# for i in range(len(pos_2),len(pos_2)*2-1):\n",
    "#     sum = np.array([0 for j in range(len(pos_2[0]))],dtype=np.float32);\n",
    "#     med = [];\n",
    "#     for son in nodes2[i].son:\n",
    "#         sum= sum + son.value;\n",
    "#         med.append(son.value);\n",
    "#     sum= sum / max(len(nodes2[i].son),1);\n",
    "#     med = np.array(med);\n",
    "#     p =pd.DataFrame(med);\n",
    "#     nodes2[i].value = p.mean(axis=0).values;\n",
    "#     nodes2[i].value = sum"
   ]
  }
 ],
 "metadata": {
  "kernelspec": {
   "display_name": "base",
   "language": "python",
   "name": "python3"
  },
  "language_info": {
   "codemirror_mode": {
    "name": "ipython",
    "version": 3
   },
   "file_extension": ".py",
   "mimetype": "text/x-python",
   "name": "python",
   "nbconvert_exporter": "python",
   "pygments_lexer": "ipython3",
   "version": "3.8.16 (default, Mar  1 2023, 21:19:10) \n[Clang 14.0.6 ]"
  },
  "orig_nbformat": 4,
  "vscode": {
   "interpreter": {
    "hash": "c6f9107c7570fe5c9625bfb2661451db78c34fa5b495f83483e2a28949c1d386"
   }
  }
 },
 "nbformat": 4,
 "nbformat_minor": 2
}
