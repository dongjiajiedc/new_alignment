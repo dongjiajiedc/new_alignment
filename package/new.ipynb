{
 "cells": [
  {
   "cell_type": "code",
   "execution_count": 22,
   "metadata": {},
   "outputs": [
    {
     "name": "stderr",
     "output_type": "stream",
     "text": [
      "[d3blocks] >INFO> Cleaning edge_properties and config parameters..\n",
      "[d3blocks] >INFO> Initializing [Chord]\n",
      "[d3blocks] >INFO> filepath is set to [/var/folders/bm/69jvgsdj3rxch558kx9yp9y00000gn/T/d3blocks/chord.html]\n",
      "[d3blocks] >INFO> Import dataset [energy]\n",
      "/var/folders/bm/69jvgsdj3rxch558kx9yp9y00000gn/T/ipykernel_1371/872607378.py:11: SettingWithCopyWarning: \n",
      "A value is trying to be set on a copy of a slice from a DataFrame\n",
      "\n",
      "See the caveats in the documentation: https://pandas.pydata.org/pandas-docs/stable/user_guide/indexing.html#returning-a-view-versus-a-copy\n",
      "  df['source'][i] = '1_'+l[i][0]\n",
      "/var/folders/bm/69jvgsdj3rxch558kx9yp9y00000gn/T/ipykernel_1371/872607378.py:12: SettingWithCopyWarning: \n",
      "A value is trying to be set on a copy of a slice from a DataFrame\n",
      "\n",
      "See the caveats in the documentation: https://pandas.pydata.org/pandas-docs/stable/user_guide/indexing.html#returning-a-view-versus-a-copy\n",
      "  df['target'][i] = '2_'+l[i][1]\n",
      "[d3blocks] >INFO> Cleaning edge_properties and config parameters..\n",
      "[d3blocks] >INFO> Initializing [Chord]\n",
      "[d3blocks] >INFO> filepath is set to [/var/folders/bm/69jvgsdj3rxch558kx9yp9y00000gn/T/d3blocks/chord.html]\n",
      "[d3blocks] >INFO> Node properties are set.\n",
      "[d3blocks] >INFO> Set edge-opacity based on the [source] node-opacity.\n",
      "[d3blocks] >INFO> Set edge-colors based on the [source] node-color.\n",
      "[d3blocks] >INFO> Edge properties are set.\n",
      "[d3blocks] >INFO> File already exists and will be overwritten: [/var/folders/bm/69jvgsdj3rxch558kx9yp9y00000gn/T/d3blocks/chord.html]\n",
      "[d3blocks] >INFO> File not found: [file:////var/folders/bm/69jvgsdj3rxch558kx9yp9y00000gn/T/d3blocks/chord.html]\n",
      "[d3blocks] >INFO> Open browser: file:////var/folders/bm/69jvgsdj3rxch558kx9yp9y00000gn/T/d3blocks/chord.html\n"
     ]
    }
   ],
   "source": [
    "# Load d3blocks\n",
    "from d3blocks import D3Blocks\n",
    "#\n",
    "# Initialize\n",
    "d3 = D3Blocks(chart='Chord', frame=False)\n",
    "#\n",
    "# Load example data\n",
    "df = d3.import_example('energy')\n",
    "df = df[:17]\n",
    "for i in range(len(l)):\n",
    "    df['source'][i] = '1_'+l[i][0]\n",
    "    df['target'][i] = '2_'+l[i][1]\n",
    "    df['weight'] = [1 for i in range(len(df))]\n",
    "\n",
    "\n",
    "df['weight'] = [1 for i in range(len(df))]\n",
    "# Plot\n",
    "d3.chord(df)"
   ]
  },
  {
   "cell_type": "code",
   "execution_count": 20,
   "metadata": {},
   "outputs": [
    {
     "data": {
      "text/plain": [
       "17"
      ]
     },
     "execution_count": 20,
     "metadata": {},
     "output_type": "execute_result"
    }
   ],
   "source": [
    "l =[('16', '18'), ('15', '16'), ('14', '14'), ('13', '13'), ('9', '12'), ('7_CD8Tex', '6_CD8Tex'), ('6_CD8T', '2_CD8T'), ('2_CD8T', '1_CD8T'), ('0_CD8T', '0_CD8T'), ('1_CD8T', '3_CD8T'), ('12', '15'), ('11', '11'), ('10', '10'), ('5_CD4Tconv', '8_CD4Tconv'), ('3_CD4Tconv', '7_CD4Tconv'), ('8_CD4Tconv', '4_CD4Tconv'), ('4_CD8T', '5_CD8T')]\n",
    "len(l)"
   ]
  },
  {
   "cell_type": "code",
   "execution_count": null,
   "metadata": {},
   "outputs": [],
   "source": []
  },
  {
   "cell_type": "code",
   "execution_count": 18,
   "metadata": {},
   "outputs": [
    {
     "name": "stderr",
     "output_type": "stream",
     "text": [
      "[d3blocks] >ERROR> Can not show the chart without the edge_properties and/or node_properties. <return>\"\n"
     ]
    }
   ],
   "source": [
    "d3.show()"
   ]
  },
  {
   "cell_type": "code",
   "execution_count": 5,
   "metadata": {},
   "outputs": [
    {
     "ename": "TypeError",
     "evalue": "'module' object is not callable",
     "output_type": "error",
     "traceback": [
      "\u001b[0;31m---------------------------------------------------------------------------\u001b[0m",
      "\u001b[0;31mTypeError\u001b[0m                                 Traceback (most recent call last)",
      "Cell \u001b[0;32mIn[5], line 1\u001b[0m\n\u001b[0;32m----> 1\u001b[0m \u001b[43md3\u001b[49m\u001b[38;5;241;43m.\u001b[39;49m\u001b[43mchart\u001b[49m\u001b[43m(\u001b[49m\u001b[43m)\u001b[49m\n",
      "\u001b[0;31mTypeError\u001b[0m: 'module' object is not callable"
     ]
    }
   ],
   "source": [
    "d3.chart()"
   ]
  },
  {
   "cell_type": "code",
   "execution_count": 1,
   "metadata": {},
   "outputs": [
    {
     "ename": "NameError",
     "evalue": "name 'd3' is not defined",
     "output_type": "error",
     "traceback": [
      "\u001b[0;31m---------------------------------------------------------------------------\u001b[0m",
      "\u001b[0;31mNameError\u001b[0m                                 Traceback (most recent call last)",
      "Cell \u001b[0;32mIn[1], line 7\u001b[0m\n\u001b[1;32m      4\u001b[0m \u001b[38;5;28;01mfrom\u001b[39;00m \u001b[38;5;21;01md3blocks\u001b[39;00m \u001b[38;5;28;01mimport\u001b[39;00m D3Blocks\n\u001b[1;32m      5\u001b[0m \u001b[38;5;66;03m#\u001b[39;00m\n\u001b[1;32m      6\u001b[0m \u001b[38;5;66;03m# Import example\u001b[39;00m\n\u001b[0;32m----> 7\u001b[0m df \u001b[38;5;241m=\u001b[39m \u001b[43md3\u001b[49m\u001b[38;5;241m.\u001b[39mimport_example(\u001b[38;5;124m'\u001b[39m\u001b[38;5;124menergy\u001b[39m\u001b[38;5;124m'\u001b[39m)\n\u001b[1;32m      8\u001b[0m \u001b[38;5;66;03m#\u001b[39;00m\n\u001b[1;32m      9\u001b[0m \u001b[38;5;66;03m# Custom order of the labels\u001b[39;00m\n\u001b[1;32m     10\u001b[0m d3\u001b[38;5;241m.\u001b[39mchord(df, ordering\u001b[38;5;241m=\u001b[39mnp\u001b[38;5;241m.\u001b[39msort(np\u001b[38;5;241m.\u001b[39munique(df[\u001b[38;5;124m'\u001b[39m\u001b[38;5;124msource\u001b[39m\u001b[38;5;124m'\u001b[39m]\u001b[38;5;241m.\u001b[39mvalues)))\n",
      "\u001b[0;31mNameError\u001b[0m: name 'd3' is not defined"
     ]
    }
   ],
   "source": [
    "# Change the order of the labels.\n",
    "#\n",
    "# Load d3blocks\n",
    "from d3blocks import D3Blocks\n",
    "#\n",
    "# Import example\n",
    "df = d3.import_example('energy')\n",
    "#\n",
    "# Custom order of the labels\n",
    "d3.chord(df, ordering=np.sort(np.unique(df['source'].values)))\n",
    "#\n",
    "# Sort Ascending\n",
    "d3.chord(df, ordering='ascending')\n",
    "#\n",
    "# Sort Descending\n",
    "d3.chord(df, ordering='descending')\n",
    "#\n",
    "# Do not sort\n",
    "d3.chord(df, ordering='')"
   ]
  },
  {
   "cell_type": "code",
   "execution_count": null,
   "metadata": {},
   "outputs": [],
   "source": [
    "import pandas as pd"
   ]
  }
 ],
 "metadata": {
  "kernelspec": {
   "display_name": "base",
   "language": "python",
   "name": "python3"
  },
  "language_info": {
   "codemirror_mode": {
    "name": "ipython",
    "version": 3
   },
   "file_extension": ".py",
   "mimetype": "text/x-python",
   "name": "python",
   "nbconvert_exporter": "python",
   "pygments_lexer": "ipython3",
   "version": "3.8.16"
  }
 },
 "nbformat": 4,
 "nbformat_minor": 2
}
