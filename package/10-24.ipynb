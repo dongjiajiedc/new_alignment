{
 "cells": [
  {
   "cell_type": "code",
   "execution_count": 1,
   "metadata": {},
   "outputs": [],
   "source": [
    "from read_data import *\n",
    "from hyper import *\n",
    "from alignment import *\n",
    "from datasets.preprecossing import *\n",
    "from core import *"
   ]
  },
  {
   "cell_type": "code",
   "execution_count": 2,
   "metadata": {},
   "outputs": [],
   "source": [
    "cell_path1 = './datas/pre3/sample1_1.h5'\n",
    "folder_path1 = \"./datas/pre3/d1/\"\n",
    "radius1 = 147.63807097087118\n",
    "c1= 0.001\n",
    "epoches1 = 15"
   ]
  },
  {
   "cell_type": "code",
   "execution_count": 3,
   "metadata": {},
   "outputs": [],
   "source": [
    "cell_path2 = './datas/pre3/sample2_1.h5'\n",
    "folder_path2 = \"./datas/pre3/d2/\"\n",
    "radius2 = 149.58609561052123\n",
    "c2= 0.001\n",
    "epoches2 =15"
   ]
  },
  {
   "cell_type": "code",
   "execution_count": 4,
   "metadata": {},
   "outputs": [
    {
     "name": "stdout",
     "output_type": "stream",
     "text": [
      "Current timestamp: 1698127542\n"
     ]
    },
    {
     "name": "stderr",
     "output_type": "stream",
     "text": [
      "100%|███████████████████████████████████████| 2300/2300 [04:43<00:00,  8.11it/s]\n"
     ]
    },
    {
     "name": "stdout",
     "output_type": "stream",
     "text": [
      "cell meta score for dataset1: 0.9082608695652173\n",
      "\n"
     ]
    },
    {
     "name": "stderr",
     "output_type": "stream",
     "text": [
      "/Users/dongjiajie/Desktop/alignment/fyp/hyperalignment/package/core.py:33: FutureWarning: X.dtype being converted to np.float32 from float64. In the next version of anndata (0.9) conversion will not be automatic. Pass dtype explicitly to avoid this warning. Pass `AnnData(X, dtype=X.dtype, ...)` to get the future behavour.\n",
      "  adata1 = anndata.AnnData(adata1)\n",
      "/Users/dongjiajie/opt/anaconda3/lib/python3.8/site-packages/anndata/_core/anndata.py:121: ImplicitModificationWarning: Transforming to str index.\n",
      "  warnings.warn(\"Transforming to str index.\", ImplicitModificationWarning)\n",
      " 47%|██████████████████▎                    | 1134/2420 [02:23<06:11,  3.46it/s]"
     ]
    },
    {
     "ename": "KeyboardInterrupt",
     "evalue": "",
     "output_type": "error",
     "traceback": [
      "\u001b[0;31m---------------------------------------------------------------------------\u001b[0m",
      "\u001b[0;31mKeyboardInterrupt\u001b[0m                         Traceback (most recent call last)",
      "\u001b[1;32m/Users/dongjiajie/Desktop/alignment/fyp/hyperalignment/package/10-24.ipynb 单元格 4\u001b[0m line \u001b[0;36m1\n\u001b[0;32m----> <a href='vscode-notebook-cell:/Users/dongjiajie/Desktop/alignment/fyp/hyperalignment/package/10-24.ipynb#X33sZmlsZQ%3D%3D?line=0'>1</a>\u001b[0m alignment_process(cell_path1,cell_path2,folder_path1,folder_path2,radius1,radius2,c1,c2,epoches1,epoches2,contin\u001b[39m=\u001b[39;49m\u001b[39mFalse\u001b[39;49;00m,resolution\u001b[39m=\u001b[39;49m\u001b[39m1\u001b[39;49m,method\u001b[39m=\u001b[39;49m\u001b[39m'\u001b[39;49m\u001b[39mmedian\u001b[39;49m\u001b[39m'\u001b[39;49m)\n",
      "File \u001b[0;32m~/Desktop/alignment/fyp/hyperalignment/package/core.py:39\u001b[0m, in \u001b[0;36malignment_process\u001b[0;34m(cell_path1, cell_path2, folder_path1, folder_path2, radius1, radius2, c1, c2, epoches1, epoches2, contin, resolution, method)\u001b[0m\n\u001b[1;32m     34\u001b[0m adata1\u001b[39m.\u001b[39mobs[\u001b[39m'\u001b[39m\u001b[39mcelltype\u001b[39m\u001b[39m'\u001b[39m] \u001b[39m=\u001b[39m cell_meta\u001b[39m.\u001b[39mvalues\u001b[39m.\u001b[39mreshape(\u001b[39m-\u001b[39m\u001b[39m1\u001b[39m)\n\u001b[1;32m     37\u001b[0m \u001b[39mif\u001b[39;00m(contin\u001b[39m==\u001b[39m\u001b[39mFalse\u001b[39;00m) \u001b[39mor\u001b[39;00m ((os\u001b[39m.\u001b[39mpath\u001b[39m.\u001b[39mexists(folder_path2\u001b[39m+\u001b[39m\u001b[39m'\u001b[39m\u001b[39mmerge_cell_data.csv\u001b[39m\u001b[39m'\u001b[39m) \u001b[39mand\u001b[39;00m os\u001b[39m.\u001b[39mpath\u001b[39m.\u001b[39mexists(folder_path2 \u001b[39m+\u001b[39m \u001b[39m'\u001b[39m\u001b[39mmerge_cell_meta.csv\u001b[39m\u001b[39m'\u001b[39m)) \u001b[39m==\u001b[39m \u001b[39mFalse\u001b[39;00m):\n\u001b[0;32m---> 39\u001b[0m     loss2 \u001b[39m=\u001b[39m merge_by_radius(cell_path2,folder_path2,radius2,method)\n\u001b[1;32m     40\u001b[0m     \u001b[39mprint\u001b[39m(\u001b[39m\"\u001b[39m\u001b[39mcell meta score for dataset2: \u001b[39m\u001b[39m{}\u001b[39;00m\u001b[39m\"\u001b[39m\u001b[39m.\u001b[39mformat(loss2))\n\u001b[1;32m     41\u001b[0m     log2\u001b[39m.\u001b[39mwrite(\u001b[39m\"\u001b[39m\u001b[39mcell meta score for dataset2: \u001b[39m\u001b[39m{}\u001b[39;00m\u001b[39m\\n\u001b[39;00m\u001b[39m\"\u001b[39m\u001b[39m.\u001b[39mformat(loss2))\n",
      "File \u001b[0;32m~/Desktop/alignment/fyp/hyperalignment/package/read_data.py:157\u001b[0m, in \u001b[0;36mmerge_by_radius\u001b[0;34m(cell_path, folder_path, radius, method)\u001b[0m\n\u001b[1;32m    155\u001b[0m indices \u001b[39m=\u001b[39m tree\u001b[39m.\u001b[39mquery_ball_point(rand_choice,r)\n\u001b[1;32m    156\u001b[0m points_within_k \u001b[39m=\u001b[39m now[indices]\n\u001b[0;32m--> 157\u001b[0m now \u001b[39m=\u001b[39m now\u001b[39m.\u001b[39;49mtolist();\n\u001b[1;32m    159\u001b[0m \u001b[39mfor\u001b[39;00m i \u001b[39min\u001b[39;00m points_within_k:\n\u001b[1;32m    160\u001b[0m     ans_value\u001b[39m.\u001b[39mappend(i\u001b[39m.\u001b[39mtolist())\n",
      "\u001b[0;31mKeyboardInterrupt\u001b[0m: "
     ]
    }
   ],
   "source": [
    "alignment_process(cell_path1,cell_path2,folder_path1,folder_path2,radius1,radius2,c1,c2,epoches1,epoches2,contin=False,resolution=1,method='median')\n"
   ]
  },
  {
   "cell_type": "code",
   "execution_count": null,
   "metadata": {},
   "outputs": [],
   "source": []
  }
 ],
 "metadata": {
  "kernelspec": {
   "display_name": "base",
   "language": "python",
   "name": "python3"
  },
  "language_info": {
   "codemirror_mode": {
    "name": "ipython",
    "version": 3
   },
   "file_extension": ".py",
   "mimetype": "text/x-python",
   "name": "python",
   "nbconvert_exporter": "python",
   "pygments_lexer": "ipython3",
   "version": "3.8.16"
  }
 },
 "nbformat": 4,
 "nbformat_minor": 2
}
