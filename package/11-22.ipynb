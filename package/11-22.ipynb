{
 "cells": [
  {
   "cell_type": "code",
   "execution_count": 1,
   "metadata": {},
   "outputs": [],
   "source": [
    "from read_data import *\n",
    "from hyper import *\n",
    "from alignment import *\n",
    "from datasets.preprecossing import *\n",
    "from core import *\n",
    "from datasets.loading import *\n",
    "from datasets.hc_dataset import *\n",
    "from datasets.improve_dataset import  *\n",
    "from datasets.balance_dataset import *\n",
    "from utils.linkage import *\n",
    "from model.improvehc import improvehc\n",
    "from model.balancehc import balancehc\n",
    "\n",
    "from utils.poincare import *\n"
   ]
  },
  {
   "cell_type": "code",
   "execution_count": null,
   "metadata": {},
   "outputs": [],
   "source": []
  },
  {
   "cell_type": "code",
   "execution_count": 2,
   "metadata": {},
   "outputs": [],
   "source": [
    "method = 'average'\n",
    "cell_path1 = './datas/test/A35.h5'\n",
    "folder_path1 = \"./datas/1122/1/\"\n",
    "radius1 = 147.63807097087118 *3\n",
    "c1= 0.001\n",
    "epoches1 = 5\n",
    "cell_path2 = './datas/test/A36.h5'\n",
    "folder_path2 = \"./datas/1122/2/\"\n",
    "radius2 = 149.58609561052123 * 3\n",
    "c2= 0.001\n",
    "epoches2 =5"
   ]
  },
  {
   "cell_type": "code",
   "execution_count": 3,
   "metadata": {},
   "outputs": [
    {
     "name": "stderr",
     "output_type": "stream",
     "text": [
      "100%|██████████████████████████████████████| 4128/4128 [00:27<00:00, 147.68it/s]\n"
     ]
    },
    {
     "name": "stdout",
     "output_type": "stream",
     "text": [
      "cell meta score for dataset1: 0.4723837209302325\n",
      "\n"
     ]
    }
   ],
   "source": [
    "loss1 = merge_by_radius(cell_path1,folder_path1,radius1,method)\n",
    "print(\"cell meta score for dataset1: {}\\n\".format(loss1))\n"
   ]
  },
  {
   "cell_type": "code",
   "execution_count": 4,
   "metadata": {},
   "outputs": [
    {
     "name": "stderr",
     "output_type": "stream",
     "text": [
      "/var/folders/bm/69jvgsdj3rxch558kx9yp9y00000gn/T/ipykernel_1376/1659954021.py:5: FutureWarning: X.dtype being converted to np.float32 from float64. In the next version of anndata (0.9) conversion will not be automatic. Pass dtype explicitly to avoid this warning. Pass `AnnData(X, dtype=X.dtype, ...)` to get the future behavour.\n",
      "  adata1 = anndata.AnnData(adata1)\n",
      "/Users/dongjiajie/opt/anaconda3/lib/python3.8/site-packages/anndata/_core/anndata.py:121: ImplicitModificationWarning: Transforming to str index.\n",
      "  warnings.warn(\"Transforming to str index.\", ImplicitModificationWarning)\n"
     ]
    }
   ],
   "source": [
    "\n",
    "\n",
    "adata1 = pd.read_csv(folder_path1+\"merge_cell_data.csv\")\n",
    "cell_meta = pd.read_csv(folder_path1+\"merge_cell_meta.csv\")\n",
    "cell_meta = cell_meta.set_index(cell_meta.columns[0])\n",
    "adata1 = adata1.set_index(adata1.columns[0])\n",
    "adata1 = anndata.AnnData(adata1)\n",
    "adata1.obs['celltype'] = cell_meta.values.reshape(-1)"
   ]
  },
  {
   "cell_type": "code",
   "execution_count": 5,
   "metadata": {},
   "outputs": [
    {
     "name": "stderr",
     "output_type": "stream",
     "text": [
      "100%|██████████████████████████████████████| 5565/5565 [00:28<00:00, 192.59it/s]\n"
     ]
    },
    {
     "name": "stdout",
     "output_type": "stream",
     "text": [
      "cell meta score for dataset2: 0.4332434860736748\n"
     ]
    }
   ],
   "source": [
    "loss2 = merge_by_radius(cell_path2,folder_path2,radius2,method)\n",
    "print(\"cell meta score for dataset2: {}\".format(loss2))"
   ]
  },
  {
   "cell_type": "code",
   "execution_count": 6,
   "metadata": {},
   "outputs": [
    {
     "name": "stderr",
     "output_type": "stream",
     "text": [
      "/var/folders/bm/69jvgsdj3rxch558kx9yp9y00000gn/T/ipykernel_1376/1560116638.py:5: FutureWarning: X.dtype being converted to np.float32 from float64. In the next version of anndata (0.9) conversion will not be automatic. Pass dtype explicitly to avoid this warning. Pass `AnnData(X, dtype=X.dtype, ...)` to get the future behavour.\n",
      "  adata2 = anndata.AnnData(adata2)\n",
      "/Users/dongjiajie/opt/anaconda3/lib/python3.8/site-packages/anndata/_core/anndata.py:121: ImplicitModificationWarning: Transforming to str index.\n",
      "  warnings.warn(\"Transforming to str index.\", ImplicitModificationWarning)\n"
     ]
    }
   ],
   "source": [
    "\n",
    "adata2 = pd.read_csv(folder_path2+\"merge_cell_data.csv\")\n",
    "cell_meta = pd.read_csv(folder_path2+\"merge_cell_meta.csv\")\n",
    "cell_meta = cell_meta.set_index(cell_meta.columns[0])\n",
    "adata2 = adata2.set_index(adata2.columns[0])\n",
    "adata2 = anndata.AnnData(adata2)\n",
    "adata2.obs['celltype'] = cell_meta.values.reshape(-1)"
   ]
  },
  {
   "cell_type": "code",
   "execution_count": 7,
   "metadata": {},
   "outputs": [
    {
     "name": "stderr",
     "output_type": "stream",
     "text": [
      "/Users/dongjiajie/opt/anaconda3/lib/python3.8/site-packages/scanpy/preprocessing/_highly_variable_genes.py:62: UserWarning: `flavor='seurat_v3'` expects raw count data, but non-integers were found.\n",
      "  warnings.warn(\n",
      "/Users/dongjiajie/opt/anaconda3/lib/python3.8/site-packages/scanpy/preprocessing/_highly_variable_genes.py:62: UserWarning: `flavor='seurat_v3'` expects raw count data, but non-integers were found.\n",
      "  warnings.warn(\n"
     ]
    },
    {
     "name": "stdout",
     "output_type": "stream",
     "text": [
      "870 genes are used to calculate cost of tree alignment.\n",
      "\n",
      "ARI score for adata1:  0.27335297912073997\n",
      "ARI score for adata2:  0.1700514200953091\n"
     ]
    }
   ],
   "source": [
    "preprocessing_cluster(adata1,N_pcs=50,resolution=1)\n",
    "preprocessing_cluster(adata2,N_pcs=50,resolution=1)\n",
    "\n",
    "inter_gene = sort_data(adata1,adata2)\n",
    "\n",
    "tmp1 = calculate_cluster_centroid_for_genes(adata1,inter_gene,folder_path1)\n",
    "tmp2 = calculate_cluster_centroid_for_genes(adata2,inter_gene,folder_path2)\n",
    "\n",
    "ari = adjusted_rand_score(adata1.obs['celltype'].tolist(), adata1.obs['leiden'].tolist())\n",
    "print(\"ARI score for adata1: \", ari)\n",
    "\n",
    "ari = adjusted_rand_score(adata2.obs['celltype'].tolist(), adata2.obs['leiden'].tolist())\n",
    "print(\"ARI score for adata2: \", ari)\n",
    "meta_list1 = []\n",
    "clustername = adata1.obs['leiden'].unique().tolist()\n",
    "clustername = list(map(int, clustername))\n",
    "clustername.sort()\n",
    "for value in clustername:\n",
    "    indices = [i for i, x in enumerate(adata1.obs['leiden']) if x == str(value)]\n",
    "    t = [adata1.obs['celltype'].tolist()[index] for index in indices]\n",
    "    most_common_element = max(t, key=t.count)\n",
    "    meta_list1.append(most_common_element)\n",
    "np.save(folder_path1+'tree_merge.npy',meta_list1)\n",
    "\n",
    "    \n",
    "meta_list2 = []\n",
    "clustername = adata2.obs['leiden'].unique().tolist()\n",
    "clustername = list(map(int, clustername))\n",
    "clustername.sort()\n",
    "for value in clustername:\n",
    "    indices = [i for i, x in enumerate(adata2.obs['leiden']) if x == str(value)]\n",
    "    t = [adata2.obs['celltype'].tolist()[index] for index in indices]\n",
    "    most_common_element = max(t, key=t.count)\n",
    "    meta_list2.append(most_common_element)\n",
    "np.save(folder_path2+'tree_merge.npy',meta_list2)"
   ]
  },
  {
   "cell_type": "code",
   "execution_count": 8,
   "metadata": {},
   "outputs": [],
   "source": [
    "\n",
    "v1 = pd.read_csv(folder_path1+\"merge_labels.csv\")\n",
    "meta = pd.read_csv(folder_path1+\"merge_cell_meta.csv\")\n",
    "meta = meta.set_index(meta.columns[0])\n",
    "meta\n",
    "lisan = []\n",
    "julei = []\n",
    "for i in range(len(v1)):\n",
    "    lisan.append(meta.iloc[v1['label'][i]][0])\n",
    "    julei.append(adata1.obs['leiden'].iloc[v1['label'][i]][0])\n",
    "v1['first']=lisan\n",
    "v1['second']=julei\n",
    "v1.to_csv(folder_path1+'meta_result.csv')\n",
    "\n",
    "v1 = pd.read_csv(folder_path2+\"merge_labels.csv\")\n",
    "meta = pd.read_csv(folder_path2+\"merge_cell_meta.csv\")\n",
    "meta = meta.set_index(meta.columns[0])\n",
    "meta\n",
    "lisan = []\n",
    "julei = []\n",
    "for i in range(len(v1)):\n",
    "    lisan.append(meta.iloc[v1['label'][i]][0])\n",
    "    julei.append(adata2.obs['leiden'].iloc[v1['label'][i]][0])\n",
    "v1['first']=lisan\n",
    "v1['second']=julei\n",
    "v1.to_csv(folder_path2+'meta_result.csv')"
   ]
  },
  {
   "cell_type": "code",
   "execution_count": 18,
   "metadata": {},
   "outputs": [],
   "source": [
    "data_path = folder_path1+'datas.data'\n",
    "start = 1\n",
    "end = tmp1.shape[1]+1\n",
    "lable = 0\n",
    "epoches = epoches1\n",
    "save_path=folder_path1\n",
    "c=0\n",
    "model_path=folder_path1+'model.pth'"
   ]
  },
  {
   "cell_type": "code",
   "execution_count": 19,
   "metadata": {},
   "outputs": [
    {
     "name": "stdout",
     "output_type": "stream",
     "text": [
      "./datas/1122/1/datas.data length:5\n",
      "Generating all pairs superset\n"
     ]
    },
    {
     "data": {
      "text/plain": [
       "HypHC(\n",
       "  (embeddings): Embedding(5, 2)\n",
       ")"
      ]
     },
     "execution_count": 19,
     "metadata": {},
     "output_type": "execute_result"
    }
   ],
   "source": [
    "np.random.seed(1234)\n",
    "torch.manual_seed(1234)\n",
    "x, y_true, similarities = load_data(data_path,start,end,lable)\n",
    "print(\"{} length:{}\".format(data_path,len(y_true)));\n",
    "dataset = HCDataset(x, y_true, similarities, num_samples=50000)\n",
    "dataloader = data.DataLoader(dataset, batch_size=32, shuffle=True, num_workers=8, pin_memory=True)\n",
    "model = HypHC(dataset.n_nodes, 2, 5e-2, 5e-2 ,0.999)\n",
    "\n",
    "if(model_path==None or os.path.exists(model_path)==False):\n",
    "    model.to(\"cpu\")\n",
    "    Optimizer = getattr(optim, 'RAdam')\n",
    "    optimizer = Optimizer(model.parameters(),0.0005)\n",
    "    train(model,dataloader,optimizer,similarities,epoches);\n",
    "    torch.save(model.state_dict(),save_path+'model.pth');\n",
    "else:\n",
    "    params = torch.load((model_path), map_location=torch.device('cpu'))\n",
    "    model.load_state_dict(params, strict=False)\n",
    "model.eval()\n"
   ]
  },
  {
   "cell_type": "code",
   "execution_count": 20,
   "metadata": {},
   "outputs": [
    {
     "data": {
      "image/png": "[encoded data removed]",
      "text/plain": [
       "<Figure size 1500x1500 with 1 Axes>"
      ]
     },
     "metadata": {},
     "output_type": "display_data"
    }
   ],
   "source": [
    "sim_fn = lambda x, y: torch.sum(x * y, dim=-1)\n",
    "n=len(x);\n",
    "leaves_embeddings = model.normalize_embeddings(model.embeddings.weight.data)\n",
    "leaves_embeddings = project(leaves_embeddings).detach().cpu()\n",
    "ijs = sl_np_mst_ij(leaves_embeddings,sim_fn)\n",
    "uf = UnionFind(n,leaves_embeddings)\n",
    "uf.merge(ijs)\n",
    "count=0\n",
    "\n",
    "tree = nx.DiGraph()\n",
    "for i, j in enumerate(uf.tree()[:-1]):\n",
    "    if(j!=-1):\n",
    "        tree.add_edge(j, i)\n",
    "\n",
    "n = len(leaves_embeddings)\n",
    "\n",
    "# embeddings = np.array(uf.pos)\n",
    "embeddings = complete_tree(tree, leaves_embeddings)\n",
    "\n",
    "# where_are_NaNs = np.isnan(embeddings)\n",
    "# embeddings[where_are_NaNs] = 0\n",
    "colors = get_colors(y_true, 1234)\n",
    "fig = plt.figure(figsize=(15, 15))\n",
    "ax = fig.add_subplot(111)\n",
    "circle = plt.Circle((0, 0), 20.0, color='r', alpha=0.1)\n",
    "ax.add_artist(circle)\n",
    "ax.scatter(embeddings[:n, 0]*20, embeddings[:n, 1]*20, c=colors, s=50, alpha=0.6)\n",
    "ax.scatter(embeddings[n:,0]*20,embeddings[n:,1]*20,color = 'black',s=20,alpha=0.6)\n",
    "\n",
    "\n",
    "for n1, n2 in tree.edges():\n",
    "    x1 = embeddings[n1];\n",
    "    x2 = embeddings[n2];\n",
    "    plot_geodesic(x1,x2,ax)\n",
    "fig.savefig(save_path+\"graph.png\");\n",
    "\n",
    "np.save(save_path+'data_hyper_xy.npy',embeddings)\n",
    "# embeddings = np.array(uf.pos)\n",
    "\n",
    "embbedings = torch.tensor(embeddings)\n",
    "nodes1 = [node(name=str(i),son=[]) for i in range(len(uf.tree()))]\n",
    "for i in range(n):\n",
    "    nodes1[i].subson=[i];\n",
    "for i,j in enumerate(uf.tree()):\n",
    "    if(j!=-1):\n",
    "        nodes1[j].son.append(nodes1[i])\n",
    "    nodes1[i].value=torch.tensor(embeddings[i]);\n",
    "    nodes1[j].subson.extend(nodes1[i].subson)\n",
    "ans_list = []\n",
    "root = nodes1[-1];\n",
    "dumpy_node = nodes1[n:]\n",
    "\n",
    "values = [];\n",
    "fathers = [];\n",
    "\n",
    "search_merge_tree(root,-1,0,values,fathers)\n",
    "np.save(save_path+\"dataxy.npy\",values)\n",
    "np.save(save_path+\"datalink.npy\",fathers)\n",
    "# return loss2\n",
    "\n"
   ]
  },
  {
   "cell_type": "code",
   "execution_count": 90,
   "metadata": {},
   "outputs": [],
   "source": [
    "def deep_search_tree(now,depth,path,f):\n",
    "    now.f=f\n",
    "    now.depth=depth;\n",
    "    path.append(now);\n",
    "    now.path=path.copy();\n",
    "    if(f!=now):\n",
    "        now.distance_to_root = f.distance_to_root + hyp_dist(f.value,now.value)\n",
    "    else:\n",
    "        now.distance_to_root = 0\n",
    "        \n",
    "    for i in now.son:\n",
    "        deep_search_tree(i,depth+1,path,now);\n",
    "    path.remove(now)\n",
    "def find_lca(node1,node2):\n",
    "    minnum = min(len(node1.path),len(node2.path));\n",
    "    for i in range(minnum):\n",
    "        if(node1.path[i]!=node2.path[i]):\n",
    "            return node1.path[i-1];\n",
    "    return node1.path[minnum-1];\n",
    "\n",
    "def find_binary_son(nodes_list):\n",
    "    ans = [];\n",
    "    for i in nodes_list:\n",
    "        if(len(i.subson)==2):\n",
    "            ans.append(i)\n",
    "    #     if(len(i.son) ==2 and len(i.son[0].son)==0 and len(i.son[1].son)==0 ):\n",
    "    #         ans.append(i);\n",
    "    return ans;\n"
   ]
  },
  {
   "cell_type": "code",
   "execution_count": 91,
   "metadata": {},
   "outputs": [
    {
     "data": {
      "text/plain": [
       "tensor([1.5035, 1.4049, 1.4049, 1.8913, 1.8913, 1.4473, 0.9258, 0.9411, 0.0000],\n",
       "       dtype=torch.float64)"
      ]
     },
     "execution_count": 91,
     "metadata": {},
     "output_type": "execute_result"
    }
   ],
   "source": [
    "deep_search_tree(root,0,[],root)\n",
    "binary_sons = find_binary_son(nodes1)\n",
    "result = []\n",
    "distances = []\n",
    "for i in binary_sons:\n",
    "    for j in i.rest(n):\n",
    "        result.append([i.subson,j,int(i),int(find_lca(i,nodes1[j]))])\n",
    "result\n",
    "\n",
    "for i in nodes1:\n",
    "    distances.append(i.distance_to_root);\n",
    "distances = torch.tensor(distances)\n",
    "distances"
   ]
  },
  {
   "cell_type": "markdown",
   "metadata": {},
   "source": [
    "start rotate"
   ]
  },
  {
   "cell_type": "code",
   "execution_count": 92,
   "metadata": {},
   "outputs": [
    {
     "data": {
      "text/plain": [
       "[[[3, 4], 0, 5, 6], [[3, 4], 1, 5, 8], [[3, 4], 2, 5, 8]]"
      ]
     },
     "execution_count": 92,
     "metadata": {},
     "output_type": "execute_result"
    }
   ],
   "source": [
    "result"
   ]
  },
  {
   "cell_type": "code",
   "execution_count": 93,
   "metadata": {},
   "outputs": [
    {
     "name": "stderr",
     "output_type": "stream",
     "text": [
      "/var/folders/bm/69jvgsdj3rxch558kx9yp9y00000gn/T/ipykernel_1376/2318901486.py:2: UserWarning: To copy construct from a tensor, it is recommended to use sourceTensor.clone().detach() or sourceTensor.clone().detach().requires_grad_(True), rather than torch.tensor(sourceTensor).\n",
      "  embbedings = torch.tensor(embbedings)\n",
      "/Users/dongjiajie/Desktop/alignment/fyp/hyperalignment/package/datasets/balance_dataset.py:52: VisibleDeprecationWarning: Creating an ndarray from ragged nested sequences (which is a list-or-tuple of lists-or-tuples-or ndarrays with different lengths or shapes) is deprecated. If you meant to do this, you must specify 'dtype=object' when creating the ndarray.\n",
      "  temp = np.array(temp)\n",
      "/Users/dongjiajie/Desktop/alignment/fyp/hyperalignment/package/model/balancehc.py:23: UserWarning: To copy construct from a tensor, it is recommended to use sourceTensor.clone().detach() or sourceTensor.clone().detach().requires_grad_(True), rather than torch.tensor(sourceTensor).\n",
      "  self.embeddings.weight.data = torch.tensor(leaves_embeddings);\n"
     ]
    },
    {
     "name": "stdout",
     "output_type": "stream",
     "text": [
      "\t Epoch 0 | average train loss: 0.359333\n",
      "\t Epoch 1 | average train loss: 0.358927\n",
      "\t Epoch 2 | average train loss: 0.358722\n",
      "\t Epoch 3 | average train loss: 0.358624\n",
      "\t Epoch 4 | average train loss: 0.358401\n",
      "\t Epoch 5 | average train loss: 0.358047\n",
      "\t Epoch 6 | average train loss: 0.357941\n",
      "\t Epoch 7 | average train loss: 0.357743\n",
      "\t Epoch 8 | average train loss: 0.357608\n",
      "\t Epoch 9 | average train loss: 0.357435\n"
     ]
    }
   ],
   "source": [
    "embeddings = complete_tree(tree, leaves_embeddings)\n",
    "embbedings = torch.tensor(embbedings)\n",
    "\n",
    "\n",
    "dataset_test=balance_dataset(similarities,100,embbedings,distances,result)\n",
    "dataloader = data.DataLoader(dataset_test, batch_size=1, shuffle=False, num_workers=8, pin_memory=True)\n",
    "model2 = balancehc(leaves_embeddings,hyperparamter = 1)\n",
    "Optimizer = getattr(optim, 'RAdam')\n",
    "optimizer = Optimizer(model2.parameters(),0.0005)\n",
    "for epoch in range(10):\n",
    "    model2.train()\n",
    "    total_loss = 0.0\n",
    "    for step, datas in enumerate(dataloader):\n",
    "        loss = model2.loss(datas[0],datas[1],datas[2],datas[3],datas[4])\n",
    "        optimizer.zero_grad()\n",
    "        loss.backward()\n",
    "        optimizer.step()\n",
    "        total_loss += loss\n",
    "    total_loss = total_loss.item() / (step + 1.0)\n",
    "    print(\"\\t Epoch {} | average train loss: {:.6f}\".format(epoch, total_loss))"
   ]
  },
  {
   "cell_type": "code",
   "execution_count": 94,
   "metadata": {},
   "outputs": [
    {
     "data": {
      "image/png": "[encoded data removed]",
      "text/plain": [
       "<Figure size 1500x1500 with 1 Axes>"
      ]
     },
     "metadata": {},
     "output_type": "display_data"
    }
   ],
   "source": [
    "temp = model2.embeddings.weight.data\n",
    "\n",
    "after_balance = embeddings.copy();\n",
    "for i in range(len(temp)):\n",
    "    after_balance[i] = temp[i].detach().numpy() \n",
    "# after_balance = model2.normalize_embeddings(torch.tensor(after_balance))\n",
    "after_balance = project(torch.tensor(after_balance))\n",
    "after_balance = np.array(after_balance)\n",
    "colors = get_colors(y_true, 1234)\n",
    "fig = plt.figure(figsize=(15, 15))\n",
    "ax = fig.add_subplot(111)\n",
    "circle = plt.Circle((0, 0), 20.0, color='r', alpha=0.1)\n",
    "ax.add_artist(circle)\n",
    "ax.scatter(after_balance[:n, 0]*20, after_balance[:n, 1]*20, c=colors, s=50, alpha=0.6)\n",
    "ax.scatter(after_balance[n:,0]*20,after_balance[n:,1]*20,color ='black',s=20,alpha=0.6)\n",
    "for n1, n2 in tree.edges():\n",
    "    x1 = after_balance[n1];\n",
    "    x2 = after_balance[n2]\n",
    "    plot_geodesic(x1,x2,ax)\n",
    "fig.savefig(save_path+\"graph_after.png\")\n",
    "np.save(save_path+'data_hyper_xy_after.npy',after_balance)"
   ]
  },
  {
   "cell_type": "code",
   "execution_count": 95,
   "metadata": {},
   "outputs": [
    {
     "data": {
      "text/plain": [
       "array([[list([3, 4]), 0, 5, 6],\n",
       "       [list([3, 4]), 1, 5, 8],\n",
       "       [list([3, 4]), 2, 5, 8],\n",
       "       [list([3, 4]), 0, 5, 6],\n",
       "       [list([3, 4]), 1, 5, 8],\n",
       "       [list([3, 4]), 2, 5, 8],\n",
       "       [list([3, 4]), 0, 5, 6],\n",
       "       [list([3, 4]), 1, 5, 8],\n",
       "       [list([3, 4]), 2, 5, 8],\n",
       "       [list([3, 4]), 0, 5, 6],\n",
       "       [list([3, 4]), 1, 5, 8],\n",
       "       [list([3, 4]), 2, 5, 8],\n",
       "       [list([3, 4]), 0, 5, 6],\n",
       "       [list([3, 4]), 1, 5, 8],\n",
       "       [list([3, 4]), 2, 5, 8],\n",
       "       [list([3, 4]), 0, 5, 6],\n",
       "       [list([3, 4]), 1, 5, 8],\n",
       "       [list([3, 4]), 2, 5, 8],\n",
       "       [list([3, 4]), 0, 5, 6],\n",
       "       [list([3, 4]), 1, 5, 8],\n",
       "       [list([3, 4]), 2, 5, 8],\n",
       "       [list([3, 4]), 0, 5, 6],\n",
       "       [list([3, 4]), 1, 5, 8],\n",
       "       [list([3, 4]), 2, 5, 8],\n",
       "       [list([3, 4]), 0, 5, 6],\n",
       "       [list([3, 4]), 1, 5, 8],\n",
       "       [list([3, 4]), 2, 5, 8],\n",
       "       [list([3, 4]), 0, 5, 6],\n",
       "       [list([3, 4]), 1, 5, 8],\n",
       "       [list([3, 4]), 2, 5, 8],\n",
       "       [list([3, 4]), 0, 5, 6],\n",
       "       [list([3, 4]), 1, 5, 8],\n",
       "       [list([3, 4]), 2, 5, 8],\n",
       "       [list([3, 4]), 0, 5, 6],\n",
       "       [list([3, 4]), 1, 5, 8],\n",
       "       [list([3, 4]), 2, 5, 8],\n",
       "       [list([3, 4]), 0, 5, 6],\n",
       "       [list([3, 4]), 1, 5, 8],\n",
       "       [list([3, 4]), 2, 5, 8],\n",
       "       [list([3, 4]), 0, 5, 6],\n",
       "       [list([3, 4]), 1, 5, 8],\n",
       "       [list([3, 4]), 2, 5, 8],\n",
       "       [list([3, 4]), 0, 5, 6],\n",
       "       [list([3, 4]), 1, 5, 8],\n",
       "       [list([3, 4]), 2, 5, 8],\n",
       "       [list([3, 4]), 0, 5, 6],\n",
       "       [list([3, 4]), 1, 5, 8],\n",
       "       [list([3, 4]), 2, 5, 8],\n",
       "       [list([3, 4]), 0, 5, 6],\n",
       "       [list([3, 4]), 1, 5, 8],\n",
       "       [list([3, 4]), 2, 5, 8],\n",
       "       [list([3, 4]), 0, 5, 6],\n",
       "       [list([3, 4]), 1, 5, 8],\n",
       "       [list([3, 4]), 2, 5, 8],\n",
       "       [list([3, 4]), 0, 5, 6],\n",
       "       [list([3, 4]), 1, 5, 8],\n",
       "       [list([3, 4]), 2, 5, 8],\n",
       "       [list([3, 4]), 0, 5, 6],\n",
       "       [list([3, 4]), 1, 5, 8],\n",
       "       [list([3, 4]), 2, 5, 8],\n",
       "       [list([3, 4]), 0, 5, 6],\n",
       "       [list([3, 4]), 1, 5, 8],\n",
       "       [list([3, 4]), 2, 5, 8],\n",
       "       [list([3, 4]), 0, 5, 6],\n",
       "       [list([3, 4]), 1, 5, 8],\n",
       "       [list([3, 4]), 2, 5, 8],\n",
       "       [list([3, 4]), 0, 5, 6],\n",
       "       [list([3, 4]), 1, 5, 8],\n",
       "       [list([3, 4]), 2, 5, 8],\n",
       "       [list([3, 4]), 0, 5, 6],\n",
       "       [list([3, 4]), 1, 5, 8],\n",
       "       [list([3, 4]), 2, 5, 8],\n",
       "       [list([3, 4]), 0, 5, 6],\n",
       "       [list([3, 4]), 1, 5, 8],\n",
       "       [list([3, 4]), 2, 5, 8],\n",
       "       [list([3, 4]), 0, 5, 6],\n",
       "       [list([3, 4]), 1, 5, 8],\n",
       "       [list([3, 4]), 2, 5, 8],\n",
       "       [list([3, 4]), 0, 5, 6],\n",
       "       [list([3, 4]), 1, 5, 8],\n",
       "       [list([3, 4]), 2, 5, 8],\n",
       "       [list([3, 4]), 0, 5, 6],\n",
       "       [list([3, 4]), 1, 5, 8],\n",
       "       [list([3, 4]), 2, 5, 8],\n",
       "       [list([3, 4]), 0, 5, 6],\n",
       "       [list([3, 4]), 1, 5, 8],\n",
       "       [list([3, 4]), 2, 5, 8],\n",
       "       [list([3, 4]), 0, 5, 6],\n",
       "       [list([3, 4]), 1, 5, 8],\n",
       "       [list([3, 4]), 2, 5, 8],\n",
       "       [list([3, 4]), 0, 5, 6],\n",
       "       [list([3, 4]), 1, 5, 8],\n",
       "       [list([3, 4]), 2, 5, 8],\n",
       "       [list([3, 4]), 0, 5, 6],\n",
       "       [list([3, 4]), 1, 5, 8],\n",
       "       [list([3, 4]), 2, 5, 8],\n",
       "       [list([3, 4]), 0, 5, 6],\n",
       "       [list([3, 4]), 1, 5, 8],\n",
       "       [list([3, 4]), 2, 5, 8],\n",
       "       [list([3, 4]), 1, 5, 8]], dtype=object)"
      ]
     },
     "execution_count": 95,
     "metadata": {},
     "output_type": "execute_result"
    }
   ],
   "source": [
    "dataset_test.datas"
   ]
  },
  {
   "cell_type": "code",
   "execution_count": 96,
   "metadata": {},
   "outputs": [
    {
     "data": {
      "text/plain": [
       "[tensor([3]),\n",
       " tensor([4]),\n",
       " tensor([1]),\n",
       " tensor([2.8522], dtype=torch.float64),\n",
       " tensor([[0.3791, 0.2931]], dtype=torch.float64)]"
      ]
     },
     "execution_count": 96,
     "metadata": {},
     "output_type": "execute_result"
    }
   ],
   "source": [
    "datas"
   ]
  },
  {
   "cell_type": "code",
   "execution_count": 97,
   "metadata": {},
   "outputs": [
    {
     "data": {
      "text/plain": [
       "tensor([[-0.0156, -0.1940],\n",
       "        [ 0.0156,  0.1940],\n",
       "        [ 0.0844,  0.1754],\n",
       "        [-0.1373, -0.1379],\n",
       "        [-0.0841, -0.1755],\n",
       "        [-0.1106, -0.1566],\n",
       "        [-0.0678, -0.1729],\n",
       "        [ 0.0499,  0.1844],\n",
       "        [-0.0094,  0.0031]], dtype=torch.float64)"
      ]
     },
     "execution_count": 97,
     "metadata": {},
     "output_type": "execute_result"
    }
   ],
   "source": [
    "embbedings"
   ]
  },
  {
   "cell_type": "code",
   "execution_count": 98,
   "metadata": {},
   "outputs": [
    {
     "data": {
      "text/plain": [
       "array([[-0.0156496223, -0.1939987838],\n",
       "       [ 0.0155675355,  0.194005385 ],\n",
       "       [ 0.0844255835,  0.1753646433],\n",
       "       [-0.1312892437, -0.1328184605],\n",
       "       [-0.0879420713, -0.181686461 ],\n",
       "       [-0.1105766071, -0.1565524961],\n",
       "       [-0.0678003049, -0.1728939796],\n",
       "       [ 0.0499306278,  0.1844414579],\n",
       "       [-0.0094416775,  0.0031112989]])"
      ]
     },
     "execution_count": 98,
     "metadata": {},
     "output_type": "execute_result"
    }
   ],
   "source": [
    "after_balance"
   ]
  },
  {
   "cell_type": "code",
   "execution_count": 99,
   "metadata": {},
   "outputs": [
    {
     "data": {
      "text/plain": [
       "(tensor([0.6517], dtype=torch.float64), tensor([0.6517], dtype=torch.float64))"
      ]
     },
     "execution_count": 99,
     "metadata": {},
     "output_type": "execute_result"
    }
   ],
   "source": [
    "hyp_dist(torch.tensor(embeddings[1]),torch.tensor(embeddings[2])) ,hyp_dist(torch.tensor(after_balance[1]),torch.tensor(after_balance[2]))"
   ]
  },
  {
   "cell_type": "code",
   "execution_count": 100,
   "metadata": {},
   "outputs": [
    {
     "data": {
      "text/plain": [
       "(tensor([0.6240], dtype=torch.float64), tensor([0.6243], dtype=torch.float64))"
      ]
     },
     "execution_count": 100,
     "metadata": {},
     "output_type": "execute_result"
    }
   ],
   "source": [
    "hyp_dist(torch.tensor(embeddings[3]),torch.tensor(embeddings[4])) ,hyp_dist(torch.tensor(after_balance[3]),torch.tensor(after_balance[4]))"
   ]
  },
  {
   "cell_type": "code",
   "execution_count": 101,
   "metadata": {},
   "outputs": [
    {
     "data": {
      "text/plain": [
       "(tensor([0.4440], dtype=torch.float64), tensor([0.4344], dtype=torch.float64))"
      ]
     },
     "execution_count": 101,
     "metadata": {},
     "output_type": "execute_result"
    }
   ],
   "source": [
    "hyp_dist(torch.tensor(embeddings[3]),torch.tensor(embeddings[5])) ,hyp_dist(torch.tensor(after_balance[3]),torch.tensor(after_balance[5]))"
   ]
  },
  {
   "cell_type": "code",
   "execution_count": 102,
   "metadata": {},
   "outputs": [
    {
     "data": {
      "text/plain": [
       "(tensor([0.4440], dtype=torch.float64), tensor([0.4540], dtype=torch.float64))"
      ]
     },
     "execution_count": 102,
     "metadata": {},
     "output_type": "execute_result"
    }
   ],
   "source": [
    "hyp_dist(torch.tensor(embeddings[4]),torch.tensor(embeddings[5])) ,hyp_dist(torch.tensor(after_balance[4]),torch.tensor(after_balance[5]))"
   ]
  },
  {
   "cell_type": "code",
   "execution_count": null,
   "metadata": {},
   "outputs": [],
   "source": []
  },
  {
   "cell_type": "code",
   "execution_count": null,
   "metadata": {},
   "outputs": [],
   "source": []
  },
  {
   "cell_type": "code",
   "execution_count": null,
   "metadata": {},
   "outputs": [],
   "source": []
  },
  {
   "cell_type": "code",
   "execution_count": 32,
   "metadata": {},
   "outputs": [
    {
     "data": {
      "text/plain": [
       "array([[-0.015649622, -0.19399878 ],\n",
       "       [ 0.015567536,  0.19400539 ],\n",
       "       [ 0.08442558 ,  0.17536464 ],\n",
       "       [-0.13733447 , -0.13791187 ],\n",
       "       [-0.084062986, -0.17553873 ]], dtype=float32)"
      ]
     },
     "execution_count": 32,
     "metadata": {},
     "output_type": "execute_result"
    }
   ],
   "source": [
    "model2.original"
   ]
  },
  {
   "cell_type": "code",
   "execution_count": 42,
   "metadata": {},
   "outputs": [
    {
     "data": {
      "text/plain": [
       "array([2.6, 2.5, 2.2, 2.8, 2.7])"
      ]
     },
     "execution_count": 42,
     "metadata": {},
     "output_type": "execute_result"
    }
   ],
   "source": [
    "np.around(similarities,1).sum(axis=1)"
   ]
  },
  {
   "cell_type": "code",
   "execution_count": null,
   "metadata": {},
   "outputs": [],
   "source": [
    "datas"
   ]
  },
  {
   "cell_type": "code",
   "execution_count": null,
   "metadata": {},
   "outputs": [],
   "source": [
    "loss = model2.loss(datas[0],datas[1],datas[2],datas[3],datas[4])\n",
    "loss"
   ]
  },
  {
   "cell_type": "code",
   "execution_count": null,
   "metadata": {},
   "outputs": [],
   "source": [
    "e1 = model2.embeddings(datas[0]);\n",
    "e2 = model2.embeddings(datas[1]);\n",
    "e3 = model2.embeddings(datas[2]).clone().detach();\n",
    "e1 = model2.normalize_embeddings(e1);\n",
    "e2 = model2.normalize_embeddings(e2);\n",
    "e3 = model2.normalize_embeddings(e3);"
   ]
  },
  {
   "cell_type": "code",
   "execution_count": null,
   "metadata": {},
   "outputs": [],
   "source": [
    "origin_distance = hyp_dist(torch.tensor(model2.original[datas[0]]),torch.tensor(model2.original[datas[1]]));\n",
    "origin_distance"
   ]
  },
  {
   "cell_type": "code",
   "execution_count": null,
   "metadata": {},
   "outputs": [],
   "source": [
    "d1 = hyp_dist(e1,e3) + datas[3];\n",
    "d2 = hyp_dist(e2,e3) + datas[3];\n",
    "lca_norm = torch.cat([d1, d2], dim=-1)\n",
    "weights = torch.softmax(lca_norm / model2.temperature, dim=-1)\n",
    "w_ord = torch.sum(datas[4] * weights, dim=-1, keepdim=True)\n"
   ]
  },
  {
   "cell_type": "code",
   "execution_count": null,
   "metadata": {},
   "outputs": [],
   "source": [
    "total = torch.sum(datas[4], dim=-1, keepdim=True) - w_ord + model2.hyperparamter*torch.abs(origin_distance - hyp_dist(e1,e2));\n",
    "total"
   ]
  },
  {
   "cell_type": "code",
   "execution_count": null,
   "metadata": {},
   "outputs": [],
   "source": [
    "x, y_true, similarities = load_data('./datas/pre3/d1/datas.data',1,1616,0)\n",
    "dataset = HCDataset(x, y_true, similarities, num_samples=50000)\n",
    "dataloader = data.DataLoader(dataset, batch_size=32, shuffle=True, num_workers=8, pin_memory=True)\n",
    "model = HypHC(dataset.n_nodes, 2, 5e-2, 5e-2 ,0.999)\n",
    "params=torch.load('./datas/pre3/d1/model.pth')\n",
    "model.load_state_dict(params, strict=False)\n",
    "sim_fn = lambda x, y: torch.sum(x * y, dim=-1)\n",
    "n=len(x);\n",
    "leaves_embeddings = model.normalize_embeddings(model.embeddings.weight.data)\n",
    "leaves_embeddings = project(leaves_embeddings).detach().cpu()\n",
    "ijs = sl_np_mst_ij(leaves_embeddings,sim_fn)\n",
    "uf = UnionFind(n,leaves_embeddings)\n",
    "uf.merge(ijs)\n",
    "count=0\n",
    "tree = nx.DiGraph()\n",
    "for i, j in enumerate(uf.tree()[:-1]):\n",
    "    if(j!=-1):\n",
    "        tree.add_edge(j, i)\n",
    "n = len(leaves_embeddings)\n",
    "# embeddings = np.array(uf.pos)\n",
    "embeddings = complete_tree(tree, leaves_embeddings)"
   ]
  },
  {
   "cell_type": "code",
   "execution_count": null,
   "metadata": {},
   "outputs": [],
   "source": [
    "nodes1 = [node(name=str(i),son=[]) for i in range(len(uf.tree()))]\n",
    "for i in range(n):\n",
    "    nodes1[i].subson=[i];\n",
    "for i,j in enumerate(uf.tree()):\n",
    "    if(j!=-1):\n",
    "        nodes1[j].son.append(nodes1[i])\n",
    "    nodes1[i].value=embeddings[i];\n",
    "    nodes1[j].subson.extend(nodes1[i].subson)\n",
    "ans_list = []\n",
    "root = nodes1[-1];\n",
    "dumpy_node = nodes1[n:]"
   ]
  },
  {
   "cell_type": "code",
   "execution_count": null,
   "metadata": {},
   "outputs": [],
   "source": [
    "result = []\n",
    "\n",
    "for t in (dumpy_node):\n",
    "    left = t.son[0].subson\n",
    "    right = t.son[1].subson;\n",
    "    out_inner=[];\n",
    "    for i in left:\n",
    "        inner_list=[];\n",
    "        for j in right:\n",
    "            inner_list.append([i,j])\n",
    "        out_inner.append(inner_list)\n",
    "    result.append(out_inner)\n",
    "result"
   ]
  },
  {
   "cell_type": "code",
   "execution_count": null,
   "metadata": {},
   "outputs": [],
   "source": [
    "\n",
    "dataset_test = IMDataset(similarities,2560,leaves_embeddings,result)\n",
    "dataset_test"
   ]
  },
  {
   "cell_type": "code",
   "execution_count": null,
   "metadata": {},
   "outputs": [],
   "source": [
    "len(dataset_test)"
   ]
  },
  {
   "cell_type": "code",
   "execution_count": null,
   "metadata": {},
   "outputs": [],
   "source": [
    "dumpys = [i.value for i in dumpy_node]\n",
    "dumpys"
   ]
  },
  {
   "cell_type": "code",
   "execution_count": null,
   "metadata": {},
   "outputs": [],
   "source": [
    "from model.improvehc import improvehc\n",
    "\n",
    "dataloader = data.DataLoader(dataset_test, batch_size=1, shuffle=True, num_workers=8, pin_memory=True)\n",
    "model = improvehc(leaves_embeddings,dumpys,dataset_test.n_nodes)"
   ]
  },
  {
   "cell_type": "code",
   "execution_count": null,
   "metadata": {},
   "outputs": [],
   "source": [
    "for step,i in enumerate(dataset_test):\n",
    "    print(step,i)\n",
    "    break"
   ]
  },
  {
   "cell_type": "code",
   "execution_count": null,
   "metadata": {},
   "outputs": [],
   "source": [
    "dataset_test[1]"
   ]
  },
  {
   "cell_type": "code",
   "execution_count": null,
   "metadata": {},
   "outputs": [],
   "source": [
    "Optimizer = getattr(optim, 'RAdam')\n",
    "optimizer = Optimizer(model.parameters(),0.05)\n",
    "\n",
    "# train(model,dataloader,optimizer,similarities,epoches);"
   ]
  },
  {
   "cell_type": "code",
   "execution_count": null,
   "metadata": {},
   "outputs": [],
   "source": [
    "for epoch in range(20):\n",
    "    model.train()\n",
    "    total_loss = 0.0\n",
    "    print(model.embeddings.weight.data)\n",
    "    for step, data in enumerate(dataloader):\n",
    "        lca = data[0]\n",
    "        l_and_r = data[1].tolist()\n",
    "        sims = data[2]\n",
    "        loss = model.loss(lca,l_and_r,sims)\n",
    "        optimizer.zero_grad()\n",
    "        loss.backward()\n",
    "        optimizer.step()\n",
    "        total_loss += loss\n",
    "    total_loss = total_loss.item() / (step + 1.0)\n",
    "    print(\"\\t Epoch {} | average train loss: {:.6f}\".format(epoch, total_loss))\n",
    "\n",
    "    # keep best embeddings\n",
    "    # if (epoch + 1) % 1 == 0:\n",
    "#         tree = model.decode_tree(fast_decoding=1)\n",
    "#         cost = dasgupta_cost(tree, similarities)\n",
    "#         logging.info(\"{}:\\t{:.4f}\".format(\"Dasgupta's cost\", cost))\n",
    "#         if cost < best_cost:\n",
    "#             counter = 0\n",
    "#             best_cost = cost\n",
    "#             best_model = model.state_dict()\n",
    "#         else:\n",
    "#             counter += 1\n",
    "#             if counter == 20:\n",
    "# #                 logging.info(\"Early stopping.\")\n",
    "#                 return\n"
   ]
  },
  {
   "cell_type": "code",
   "execution_count": null,
   "metadata": {},
   "outputs": [],
   "source": [
    "d1=torch.tensor(embeddings[0])\n",
    "d2=torch.tensor(embeddings[1])"
   ]
  },
  {
   "cell_type": "code",
   "execution_count": null,
   "metadata": {},
   "outputs": [],
   "source": [
    "hyp_dist_o(d1)+hyp_dist_o(d2)"
   ]
  },
  {
   "cell_type": "code",
   "execution_count": null,
   "metadata": {},
   "outputs": [],
   "source": [
    "hyp_dist(d1,d2)"
   ]
  },
  {
   "cell_type": "code",
   "execution_count": null,
   "metadata": {},
   "outputs": [],
   "source": [
    "similarities"
   ]
  },
  {
   "cell_type": "code",
   "execution_count": null,
   "metadata": {},
   "outputs": [],
   "source": [
    "hyp_dist(torch.tensor(nodes1[0].value),torch.tensor(nodes1[1].value))\n"
   ]
  },
  {
   "cell_type": "code",
   "execution_count": null,
   "metadata": {},
   "outputs": [],
   "source": []
  },
  {
   "cell_type": "code",
   "execution_count": null,
   "metadata": {},
   "outputs": [],
   "source": []
  }
 ],
 "metadata": {
  "kernelspec": {
   "display_name": "base",
   "language": "python",
   "name": "python3"
  },
  "language_info": {
   "codemirror_mode": {
    "name": "ipython",
    "version": 3
   },
   "file_extension": ".py",
   "mimetype": "text/x-python",
   "name": "python",
   "nbconvert_exporter": "python",
   "pygments_lexer": "ipython3",
   "version": "3.8.16"
  }
 },
 "nbformat": 4,
 "nbformat_minor": 2
}
