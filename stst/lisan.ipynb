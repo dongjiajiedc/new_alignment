{
 "cells": [
  {
   "cell_type": "code",
   "execution_count": 38,
   "metadata": {},
   "outputs": [],
   "source": [
    "from read_data import *\n",
    "from hyper import *\n",
    "from alignment import *\n",
    "from copy import *\n",
    "from datasets.preprecossing import *\n",
    "import rpy2\n",
    "from sklearn.metrics.pairwise import cosine_similarity\n",
    "from scipy.cluster import hierarchy\n",
    "from math import sin,cos,pi\n",
    "import scipy \n",
    "from sklearn.metrics import adjusted_rand_score\n",
    "\n",
    "import seaborn as sns\n",
    "argk=10\n",
    "folder_path = './datas/lisan/'\n",
    "# folder_path2 = './datas/ohss/'\n",
    "subsize = 20\n",
    "pcanum = 20\n",
    "tempnum = 1000"
   ]
  },
  {
   "cell_type": "code",
   "execution_count": 8,
   "metadata": {},
   "outputs": [],
   "source": [
    "datas = sc.read_h5ad(\"./datas/nature/151507_preprocessed.h5\")\n",
    "adata_subset = datas[:tempnum,:]\n",
    "sc.write('./datas/nature/lisan.h5',adata_subset)\n",
    "datas = sc.read_h5ad(\"./datas/nature/lisan.h5\")\n",
    "indices = np.random.choice(datas.n_obs, size=subsize, replace=False)\n"
   ]
  },
  {
   "cell_type": "code",
   "execution_count": 149,
   "metadata": {},
   "outputs": [
    {
     "name": "stdout",
     "output_type": "stream",
     "text": [
      "[3, 2, 3, 4, 4, 4, 4, 2, 1, 2, 4, 4, 2, 4, 3, 1, 1, 1, 2, 3, 4, 3, 3, 4, 3, 4, 4, 2, 1, 1, 4, 4, 4, 1, 1, 3, 1, 4, 3, 4, 2, 2, 3, 3, 4, 2, 2, 1, 2, 4, 2, 3, 1, 3, 4, 1, 4, 3, 1, 4, 3, 1, 2, 4, 1, 3, 3, 4, 1, 4, 4, 2, 3, 4, 1, 4, 3, 4, 2, 2, 3, 3, 2, 4, 4, 3, 1, 1, 4, 2, 1, 2, 3, 1, 2, 3, 3, 2, 2, 2, 3, 2, 1, 1, 3, 1, 4, 1, 2, 2, 4, 4, 3, 1, 3, 1, 2, 2, 3, 4, 4, 2, 3, 3, 1, 2, 4, 3, 3, 1, 3, 3, 1, 4, 1, 4, 3, 3, 3, 1, 2, 4, 1, 1, 1, 4, 1, 4, 1, 2, 4, 1, 2, 2, 2, 3, 4, 1, 3, 4, 4, 1, 2, 3, 1, 2, 1, 2, 1, 1, 1, 4, 1, 2, 3, 1, 4, 2, 3, 4, 4, 4, 4, 2, 4, 4, 2, 2, 3, 4, 2, 3, 4, 4, 4, 3, 1, 4, 2, 4, 2, 2, 3, 4, 4, 1, 2, 3, 4, 1, 4, 2, 1, 1, 2, 1, 2, 3, 2, 2, 4, 3, 4, 1, 4, 3, 4, 2, 1, 1, 3, 3, 1, 3, 1, 4, 1, 4, 4, 2, 2, 4, 4, 1, 4, 4, 3, 3, 4, 2, 4, 2, 2, 2, 3, 3, 3, 4, 2, 2, 2, 3, 1, 1, 4, 4, 4, 4, 2, 1, 2, 4, 4, 3, 4, 2, 2, 4, 1, 1, 3, 2, 3, 1, 4, 3, 1, 1, 1, 2, 1, 2, 1, 3, 1, 2, 1, 4, 2, 4, 3, 3, 2, 3, 2, 2, 4, 4, 4, 3, 1, 1, 4, 4, 2, 4, 4, 2, 3, 3, 2, 1, 4, 2, 3, 3, 3, 2, 4, 1, 2, 2, 3, 1, 2, 2, 3, 4, 1, 4, 3, 3, 3, 2, 4, 4, 4, 2, 1, 1, 4, 2, 4, 4, 4, 2, 4, 4, 4, 1, 4, 2, 2, 3, 3, 3, 3, 3, 4, 1, 4, 2, 2, 2, 2, 2, 3, 4, 3, 4, 4, 2, 4, 2, 2, 4, 3, 4, 2, 4, 1, 3, 4, 3, 1, 4, 1, 2, 4, 3, 4, 3, 1, 2, 1, 4, 3, 2, 3, 4, 4, 4, 1, 4, 1, 2, 4, 3, 2, 1, 2, 3, 2, 4, 4, 4, 1, 4, 3, 2, 2, 3, 4, 1, 4, 2, 3, 4, 1, 3, 4, 4, 2, 3, 2, 4, 2, 3, 1, 3, 4, 1, 4, 2, 3, 2, 2, 2, 3, 4, 1, 2, 1, 1, 4, 4, 2, 3, 2, 4, 2, 2, 2, 4, 1, 4, 2, 3, 2, 1, 2, 2, 3, 4, 3, 2, 1, 1, 1, 1, 1, 1, 1, 3, 3, 2, 1, 2, 3, 4, 2, 2, 2, 1, 1, 4, 3, 1, 4, 2, 2, 1, 4, 2, 1, 2, 2, 4, 4, 2, 4, 4, 2, 3, 2, 1, 2, 3, 1, 4, 1, 2, 4, 2, 4, 3, 3, 1, 4, 4, 1, 4, 4, 4, 2, 3, 1, 1, 1, 2, 1, 3, 2, 1, 3, 1, 1, 2, 3, 4, 1, 2, 2, 3, 1, 1, 3, 2, 4, 1, 4, 1, 4, 2, 2, 4, 1, 4, 2, 4, 4, 4, 2, 2, 4, 1, 2, 4, 2, 1, 4, 4, 4, 4, 4, 3, 3, 2, 4, 2, 4, 4, 2, 4, 1, 1, 2, 4, 3, 3, 4, 4, 1, 4, 1, 3, 1, 1, 1, 4, 3, 4, 2, 3, 3, 2, 2, 3, 1, 3, 2, 4, 3, 1, 1, 4, 3, 3, 2, 4, 1, 4, 2, 1, 4, 3, 2, 2, 2, 2, 2, 4, 3, 2, 1, 4, 2, 1, 1, 1, 4, 4, 2, 4, 3, 4, 4, 1, 3, 3, 2, 4, 3, 3, 4, 1, 1, 4, 3, 2, 4, 2, 4, 1, 4, 1, 1, 1, 3, 4, 4, 2, 4, 1, 3, 2, 4, 4, 2, 1, 4, 3, 2, 4, 1, 4, 3, 3, 4, 1, 3, 2, 4, 3, 3, 3, 1, 1, 4, 1, 4, 4, 4, 4, 2, 2, 1, 1, 1, 2, 3, 2, 1, 4, 2, 2, 2, 4, 3, 4, 1, 1, 2, 2, 3, 4, 4, 2, 2, 3, 2, 2, 4, 2, 2, 4, 2, 2, 2, 3, 2, 4, 4, 4, 3, 2, 1, 4, 3, 4, 4, 4, 3, 3, 2, 1, 4, 1, 1, 4, 1, 2, 3, 2, 2, 4, 3, 4, 2, 1, 3, 4, 1, 1, 2, 1, 4, 2, 3, 2, 4, 1, 4, 1, 2, 4, 2, 4, 3, 3, 3, 3, 4, 1, 3, 1, 4, 1, 4, 2, 2, 4, 2, 1, 1, 2, 4, 1, 1, 1, 1, 3, 2, 2, 2, 3, 4, 3, 1, 1, 3, 4, 2, 2, 2, 2, 2, 2, 2, 3, 2, 3, 1, 4, 4, 2, 1, 4, 2, 3, 1, 1, 2, 4, 4, 1, 3, 4, 1, 4, 2, 4, 3, 3, 2, 4, 3, 1, 4, 4, 2, 3, 1, 4, 4, 4, 4, 4, 4, 3, 4, 1, 1, 1, 2, 3, 2, 3, 4, 4, 1, 2, 3, 4, 2, 2, 4, 1, 2, 3, 2, 4, 2, 2, 4, 4, 1, 1, 2, 1, 3, 3, 1, 4, 1, 4, 4, 2, 1, 2, 1, 4, 4, 1, 1, 3, 3, 2, 1, 3, 3, 1, 2, 1, 2, 2, 1, 1, 3, 1, 4, 3, 3, 4, 2, 4, 2, 3, 1, 2, 2, 4, 4, 4, 4, 1, 4, 3, 1, 2, 4, 2, 4, 1, 4, 4, 1, 1, 3, 3, 2, 2, 3, 4, 1, 3, 3, 1, 1, 3, 2, 4, 3, 1, 1, 4, 2, 2, 2, 1]\n"
     ]
    }
   ],
   "source": [
    "def sort_list_by_index(lst, index_lst):\n",
    "    sorted_list = [None] * len(lst) \n",
    "    \n",
    "    for i, index in enumerate(index_lst):\n",
    "        sorted_list[index] = lst[i]  \n",
    "    \n",
    "    return sorted_list\n",
    "\n",
    "# my_list = ['a', 'b', 'c', 'd', 'e']\n",
    "# my_index_list = [3, 0, 4, 2, 1]\n",
    "\n",
    "sorted_list = sort_list_by_index(labels2, ans_index)\n",
    "print(sorted_list)"
   ]
  },
  {
   "cell_type": "code",
   "execution_count": 153,
   "metadata": {},
   "outputs": [
    {
     "data": {
      "text/html": [
       "<div>\n",
       "<style scoped>\n",
       "    .dataframe tbody tr th:only-of-type {\n",
       "        vertical-align: middle;\n",
       "    }\n",
       "\n",
       "    .dataframe tbody tr th {\n",
       "        vertical-align: top;\n",
       "    }\n",
       "\n",
       "    .dataframe thead th {\n",
       "        text-align: right;\n",
       "    }\n",
       "</style>\n",
       "<table border=\"1\" class=\"dataframe\">\n",
       "  <thead>\n",
       "    <tr style=\"text-align: right;\">\n",
       "      <th></th>\n",
       "      <th>in_tissue</th>\n",
       "      <th>array_row</th>\n",
       "      <th>array_col</th>\n",
       "      <th>imagerow</th>\n",
       "      <th>imagecol</th>\n",
       "      <th>sum_umi</th>\n",
       "      <th>sum_gene</th>\n",
       "      <th>subject</th>\n",
       "      <th>position</th>\n",
       "      <th>replicate</th>\n",
       "      <th>...</th>\n",
       "      <th>n_genes_by_counts</th>\n",
       "      <th>log1p_n_genes_by_counts</th>\n",
       "      <th>total_counts</th>\n",
       "      <th>log1p_total_counts</th>\n",
       "      <th>pct_counts_in_top_50_genes</th>\n",
       "      <th>pct_counts_in_top_100_genes</th>\n",
       "      <th>pct_counts_in_top_200_genes</th>\n",
       "      <th>pct_counts_in_top_500_genes</th>\n",
       "      <th>n_counts</th>\n",
       "      <th>julei</th>\n",
       "    </tr>\n",
       "  </thead>\n",
       "  <tbody>\n",
       "    <tr>\n",
       "      <th>AAACAACGAATAGTTC-1</th>\n",
       "      <td>1</td>\n",
       "      <td>0</td>\n",
       "      <td>16</td>\n",
       "      <td>113.141318</td>\n",
       "      <td>147.434749</td>\n",
       "      <td>948</td>\n",
       "      <td>727</td>\n",
       "      <td>Br5292</td>\n",
       "      <td>0</td>\n",
       "      <td>1</td>\n",
       "      <td>...</td>\n",
       "      <td>727</td>\n",
       "      <td>6.590301</td>\n",
       "      <td>948.0</td>\n",
       "      <td>6.855409</td>\n",
       "      <td>22.362869</td>\n",
       "      <td>32.911392</td>\n",
       "      <td>44.409283</td>\n",
       "      <td>76.054852</td>\n",
       "      <td>914.0</td>\n",
       "      <td>3</td>\n",
       "    </tr>\n",
       "    <tr>\n",
       "      <th>AAACAAGTATCTCCCA-1</th>\n",
       "      <td>1</td>\n",
       "      <td>50</td>\n",
       "      <td>102</td>\n",
       "      <td>383.438357</td>\n",
       "      <td>413.051319</td>\n",
       "      <td>4261</td>\n",
       "      <td>2170</td>\n",
       "      <td>Br5292</td>\n",
       "      <td>0</td>\n",
       "      <td>1</td>\n",
       "      <td>...</td>\n",
       "      <td>2170</td>\n",
       "      <td>7.682943</td>\n",
       "      <td>4261.0</td>\n",
       "      <td>8.357493</td>\n",
       "      <td>24.994133</td>\n",
       "      <td>31.471486</td>\n",
       "      <td>40.154893</td>\n",
       "      <td>56.817648</td>\n",
       "      <td>4166.0</td>\n",
       "      <td>2</td>\n",
       "    </tr>\n",
       "    <tr>\n",
       "      <th>AAACAATCTACTAGCA-1</th>\n",
       "      <td>1</td>\n",
       "      <td>3</td>\n",
       "      <td>43</td>\n",
       "      <td>129.522957</td>\n",
       "      <td>231.008109</td>\n",
       "      <td>1969</td>\n",
       "      <td>1093</td>\n",
       "      <td>Br5292</td>\n",
       "      <td>0</td>\n",
       "      <td>1</td>\n",
       "      <td>...</td>\n",
       "      <td>1093</td>\n",
       "      <td>6.997596</td>\n",
       "      <td>1969.0</td>\n",
       "      <td>7.585789</td>\n",
       "      <td>34.128999</td>\n",
       "      <td>42.001016</td>\n",
       "      <td>52.158456</td>\n",
       "      <td>69.883189</td>\n",
       "      <td>1904.0</td>\n",
       "      <td>3</td>\n",
       "    </tr>\n",
       "    <tr>\n",
       "      <th>AAACACCAATAACTGC-1</th>\n",
       "      <td>1</td>\n",
       "      <td>59</td>\n",
       "      <td>19</td>\n",
       "      <td>431.188134</td>\n",
       "      <td>155.805586</td>\n",
       "      <td>3368</td>\n",
       "      <td>1896</td>\n",
       "      <td>Br5292</td>\n",
       "      <td>0</td>\n",
       "      <td>1</td>\n",
       "      <td>...</td>\n",
       "      <td>1896</td>\n",
       "      <td>7.548029</td>\n",
       "      <td>3368.0</td>\n",
       "      <td>8.122372</td>\n",
       "      <td>22.446556</td>\n",
       "      <td>29.928741</td>\n",
       "      <td>39.994062</td>\n",
       "      <td>58.491686</td>\n",
       "      <td>3229.0</td>\n",
       "      <td>4</td>\n",
       "    </tr>\n",
       "    <tr>\n",
       "      <th>AAACAGCTTTCAGAAG-1</th>\n",
       "      <td>1</td>\n",
       "      <td>43</td>\n",
       "      <td>9</td>\n",
       "      <td>344.869499</td>\n",
       "      <td>125.067511</td>\n",
       "      <td>2981</td>\n",
       "      <td>1620</td>\n",
       "      <td>Br5292</td>\n",
       "      <td>0</td>\n",
       "      <td>1</td>\n",
       "      <td>...</td>\n",
       "      <td>1620</td>\n",
       "      <td>7.390799</td>\n",
       "      <td>2981.0</td>\n",
       "      <td>8.000349</td>\n",
       "      <td>27.172090</td>\n",
       "      <td>34.149614</td>\n",
       "      <td>44.112714</td>\n",
       "      <td>62.428715</td>\n",
       "      <td>2909.0</td>\n",
       "      <td>4</td>\n",
       "    </tr>\n",
       "    <tr>\n",
       "      <th>...</th>\n",
       "      <td>...</td>\n",
       "      <td>...</td>\n",
       "      <td>...</td>\n",
       "      <td>...</td>\n",
       "      <td>...</td>\n",
       "      <td>...</td>\n",
       "      <td>...</td>\n",
       "      <td>...</td>\n",
       "      <td>...</td>\n",
       "      <td>...</td>\n",
       "      <td>...</td>\n",
       "      <td>...</td>\n",
       "      <td>...</td>\n",
       "      <td>...</td>\n",
       "      <td>...</td>\n",
       "      <td>...</td>\n",
       "      <td>...</td>\n",
       "      <td>...</td>\n",
       "      <td>...</td>\n",
       "      <td>...</td>\n",
       "      <td>...</td>\n",
       "    </tr>\n",
       "    <tr>\n",
       "      <th>ATTATTATGTCCGTCA-1</th>\n",
       "      <td>1</td>\n",
       "      <td>59</td>\n",
       "      <td>37</td>\n",
       "      <td>431.368152</td>\n",
       "      <td>211.566164</td>\n",
       "      <td>1170</td>\n",
       "      <td>772</td>\n",
       "      <td>Br5292</td>\n",
       "      <td>0</td>\n",
       "      <td>1</td>\n",
       "      <td>...</td>\n",
       "      <td>772</td>\n",
       "      <td>6.650279</td>\n",
       "      <td>1170.0</td>\n",
       "      <td>7.065613</td>\n",
       "      <td>30.854701</td>\n",
       "      <td>39.914530</td>\n",
       "      <td>51.111111</td>\n",
       "      <td>76.752137</td>\n",
       "      <td>1132.0</td>\n",
       "      <td>4</td>\n",
       "    </tr>\n",
       "    <tr>\n",
       "      <th>ATTATTCAGAGTCACT-1</th>\n",
       "      <td>1</td>\n",
       "      <td>67</td>\n",
       "      <td>97</td>\n",
       "      <td>475.022519</td>\n",
       "      <td>397.299744</td>\n",
       "      <td>3891</td>\n",
       "      <td>2091</td>\n",
       "      <td>Br5292</td>\n",
       "      <td>0</td>\n",
       "      <td>1</td>\n",
       "      <td>...</td>\n",
       "      <td>2091</td>\n",
       "      <td>7.645876</td>\n",
       "      <td>3891.0</td>\n",
       "      <td>8.266679</td>\n",
       "      <td>22.076587</td>\n",
       "      <td>29.067078</td>\n",
       "      <td>38.576201</td>\n",
       "      <td>56.206631</td>\n",
       "      <td>3803.0</td>\n",
       "      <td>2</td>\n",
       "    </tr>\n",
       "    <tr>\n",
       "      <th>ATTCAACCATTTAAGG-1</th>\n",
       "      <td>1</td>\n",
       "      <td>58</td>\n",
       "      <td>100</td>\n",
       "      <td>426.552670</td>\n",
       "      <td>406.750689</td>\n",
       "      <td>3492</td>\n",
       "      <td>1845</td>\n",
       "      <td>Br5292</td>\n",
       "      <td>0</td>\n",
       "      <td>1</td>\n",
       "      <td>...</td>\n",
       "      <td>1845</td>\n",
       "      <td>7.520776</td>\n",
       "      <td>3492.0</td>\n",
       "      <td>8.158516</td>\n",
       "      <td>26.116838</td>\n",
       "      <td>33.104238</td>\n",
       "      <td>43.069874</td>\n",
       "      <td>61.483391</td>\n",
       "      <td>3399.0</td>\n",
       "      <td>2</td>\n",
       "    </tr>\n",
       "    <tr>\n",
       "      <th>ATTCACTGATGTTGGA-1</th>\n",
       "      <td>1</td>\n",
       "      <td>56</td>\n",
       "      <td>68</td>\n",
       "      <td>415.481562</td>\n",
       "      <td>307.650776</td>\n",
       "      <td>4317</td>\n",
       "      <td>2194</td>\n",
       "      <td>Br5292</td>\n",
       "      <td>0</td>\n",
       "      <td>1</td>\n",
       "      <td>...</td>\n",
       "      <td>2194</td>\n",
       "      <td>7.693937</td>\n",
       "      <td>4317.0</td>\n",
       "      <td>8.370547</td>\n",
       "      <td>22.330322</td>\n",
       "      <td>29.279592</td>\n",
       "      <td>39.054899</td>\n",
       "      <td>55.733148</td>\n",
       "      <td>4232.0</td>\n",
       "      <td>2</td>\n",
       "    </tr>\n",
       "    <tr>\n",
       "      <th>ATTCAGATGAATCCCT-1</th>\n",
       "      <td>1</td>\n",
       "      <td>1</td>\n",
       "      <td>111</td>\n",
       "      <td>119.396944</td>\n",
       "      <td>441.719187</td>\n",
       "      <td>4441</td>\n",
       "      <td>2223</td>\n",
       "      <td>Br5292</td>\n",
       "      <td>0</td>\n",
       "      <td>1</td>\n",
       "      <td>...</td>\n",
       "      <td>2223</td>\n",
       "      <td>7.707063</td>\n",
       "      <td>4441.0</td>\n",
       "      <td>8.398860</td>\n",
       "      <td>27.336186</td>\n",
       "      <td>33.483450</td>\n",
       "      <td>41.702319</td>\n",
       "      <td>57.509570</td>\n",
       "      <td>4335.0</td>\n",
       "      <td>1</td>\n",
       "    </tr>\n",
       "  </tbody>\n",
       "</table>\n",
       "<p>1000 rows × 25 columns</p>\n",
       "</div>"
      ],
      "text/plain": [
       "                    in_tissue  array_row  array_col    imagerow    imagecol  \\\n",
       "AAACAACGAATAGTTC-1          1          0         16  113.141318  147.434749   \n",
       "AAACAAGTATCTCCCA-1          1         50        102  383.438357  413.051319   \n",
       "AAACAATCTACTAGCA-1          1          3         43  129.522957  231.008109   \n",
       "AAACACCAATAACTGC-1          1         59         19  431.188134  155.805586   \n",
       "AAACAGCTTTCAGAAG-1          1         43          9  344.869499  125.067511   \n",
       "...                       ...        ...        ...         ...         ...   \n",
       "ATTATTATGTCCGTCA-1          1         59         37  431.368152  211.566164   \n",
       "ATTATTCAGAGTCACT-1          1         67         97  475.022519  397.299744   \n",
       "ATTCAACCATTTAAGG-1          1         58        100  426.552670  406.750689   \n",
       "ATTCACTGATGTTGGA-1          1         56         68  415.481562  307.650776   \n",
       "ATTCAGATGAATCCCT-1          1          1        111  119.396944  441.719187   \n",
       "\n",
       "                    sum_umi  sum_gene subject  position  replicate  ...  \\\n",
       "AAACAACGAATAGTTC-1      948       727  Br5292         0          1  ...   \n",
       "AAACAAGTATCTCCCA-1     4261      2170  Br5292         0          1  ...   \n",
       "AAACAATCTACTAGCA-1     1969      1093  Br5292         0          1  ...   \n",
       "AAACACCAATAACTGC-1     3368      1896  Br5292         0          1  ...   \n",
       "AAACAGCTTTCAGAAG-1     2981      1620  Br5292         0          1  ...   \n",
       "...                     ...       ...     ...       ...        ...  ...   \n",
       "ATTATTATGTCCGTCA-1     1170       772  Br5292         0          1  ...   \n",
       "ATTATTCAGAGTCACT-1     3891      2091  Br5292         0          1  ...   \n",
       "ATTCAACCATTTAAGG-1     3492      1845  Br5292         0          1  ...   \n",
       "ATTCACTGATGTTGGA-1     4317      2194  Br5292         0          1  ...   \n",
       "ATTCAGATGAATCCCT-1     4441      2223  Br5292         0          1  ...   \n",
       "\n",
       "                    n_genes_by_counts  log1p_n_genes_by_counts total_counts  \\\n",
       "AAACAACGAATAGTTC-1                727                 6.590301        948.0   \n",
       "AAACAAGTATCTCCCA-1               2170                 7.682943       4261.0   \n",
       "AAACAATCTACTAGCA-1               1093                 6.997596       1969.0   \n",
       "AAACACCAATAACTGC-1               1896                 7.548029       3368.0   \n",
       "AAACAGCTTTCAGAAG-1               1620                 7.390799       2981.0   \n",
       "...                               ...                      ...          ...   \n",
       "ATTATTATGTCCGTCA-1                772                 6.650279       1170.0   \n",
       "ATTATTCAGAGTCACT-1               2091                 7.645876       3891.0   \n",
       "ATTCAACCATTTAAGG-1               1845                 7.520776       3492.0   \n",
       "ATTCACTGATGTTGGA-1               2194                 7.693937       4317.0   \n",
       "ATTCAGATGAATCCCT-1               2223                 7.707063       4441.0   \n",
       "\n",
       "                   log1p_total_counts pct_counts_in_top_50_genes  \\\n",
       "AAACAACGAATAGTTC-1           6.855409                  22.362869   \n",
       "AAACAAGTATCTCCCA-1           8.357493                  24.994133   \n",
       "AAACAATCTACTAGCA-1           7.585789                  34.128999   \n",
       "AAACACCAATAACTGC-1           8.122372                  22.446556   \n",
       "AAACAGCTTTCAGAAG-1           8.000349                  27.172090   \n",
       "...                               ...                        ...   \n",
       "ATTATTATGTCCGTCA-1           7.065613                  30.854701   \n",
       "ATTATTCAGAGTCACT-1           8.266679                  22.076587   \n",
       "ATTCAACCATTTAAGG-1           8.158516                  26.116838   \n",
       "ATTCACTGATGTTGGA-1           8.370547                  22.330322   \n",
       "ATTCAGATGAATCCCT-1           8.398860                  27.336186   \n",
       "\n",
       "                    pct_counts_in_top_100_genes  pct_counts_in_top_200_genes  \\\n",
       "AAACAACGAATAGTTC-1                    32.911392                    44.409283   \n",
       "AAACAAGTATCTCCCA-1                    31.471486                    40.154893   \n",
       "AAACAATCTACTAGCA-1                    42.001016                    52.158456   \n",
       "AAACACCAATAACTGC-1                    29.928741                    39.994062   \n",
       "AAACAGCTTTCAGAAG-1                    34.149614                    44.112714   \n",
       "...                                         ...                          ...   \n",
       "ATTATTATGTCCGTCA-1                    39.914530                    51.111111   \n",
       "ATTATTCAGAGTCACT-1                    29.067078                    38.576201   \n",
       "ATTCAACCATTTAAGG-1                    33.104238                    43.069874   \n",
       "ATTCACTGATGTTGGA-1                    29.279592                    39.054899   \n",
       "ATTCAGATGAATCCCT-1                    33.483450                    41.702319   \n",
       "\n",
       "                    pct_counts_in_top_500_genes  n_counts  julei  \n",
       "AAACAACGAATAGTTC-1                    76.054852     914.0      3  \n",
       "AAACAAGTATCTCCCA-1                    56.817648    4166.0      2  \n",
       "AAACAATCTACTAGCA-1                    69.883189    1904.0      3  \n",
       "AAACACCAATAACTGC-1                    58.491686    3229.0      4  \n",
       "AAACAGCTTTCAGAAG-1                    62.428715    2909.0      4  \n",
       "...                                         ...       ...    ...  \n",
       "ATTATTATGTCCGTCA-1                    76.752137    1132.0      4  \n",
       "ATTATTCAGAGTCACT-1                    56.206631    3803.0      2  \n",
       "ATTCAACCATTTAAGG-1                    61.483391    3399.0      2  \n",
       "ATTCACTGATGTTGGA-1                    55.733148    4232.0      2  \n",
       "ATTCAGATGAATCCCT-1                    57.509570    4335.0      1  \n",
       "\n",
       "[1000 rows x 25 columns]"
      ]
     },
     "execution_count": 153,
     "metadata": {},
     "output_type": "execute_result"
    }
   ],
   "source": [
    "datas.obs['julei']= sorted_list\n",
    "datas.obs"
   ]
  },
  {
   "cell_type": "code",
   "execution_count": 154,
   "metadata": {},
   "outputs": [
    {
     "data": {
      "image/png": "[encoded data removed]",
      "text/plain": [
       "<Figure size 810.02x480 with 2 Axes>"
      ]
     },
     "metadata": {},
     "output_type": "display_data"
    }
   ],
   "source": [
    "sc.pl.scatter(datas,'imagerow', 'imagecol', color='julei', title='Spatial Plot',size=4000)"
   ]
  },
  {
   "cell_type": "code",
   "execution_count": 9,
   "metadata": {},
   "outputs": [
    {
     "data": {
      "image/png": "[encoded data removed]",
      "text/plain": [
       "<Figure size 913x480 with 1 Axes>"
      ]
     },
     "metadata": {},
     "output_type": "display_data"
    }
   ],
   "source": [
    "sc.pl.scatter(datas,'imagerow', 'imagecol', color='layer_guess_reordered', title='Spatial Plot',size=4000)"
   ]
  },
  {
   "cell_type": "code",
   "execution_count": 10,
   "metadata": {},
   "outputs": [],
   "source": [
    "count_sub = datas.to_df()\n",
    "xy_coords = pd.DataFrame(datas.obsm['spatial'],columns=['imagerow','imagecol'],index= datas.obs.index)\n",
    "xy_coords.to_csv(folder_path+\"xy.csv\")\n",
    "datas.obs.to_csv(folder_path+'meta_data.csv');\n",
    "count_sub.T.to_csv(folder_path+\"gene.csv\")"
   ]
  },
  {
   "cell_type": "code",
   "execution_count": null,
   "metadata": {},
   "outputs": [],
   "source": []
  },
  {
   "cell_type": "code",
   "execution_count": 11,
   "metadata": {},
   "outputs": [
    {
     "name": "stdout",
     "output_type": "stream",
     "text": [
      "\n",
      "    WARNING: The R package \"reticulate\" only fixed recently\n",
      "    an issue that caused a segfault when used with rpy2:\n",
      "    https://github.com/rstudio/reticulate/pull/1188\n",
      "    Make sure that you use a version of that package that includes\n",
      "    the fix.\n",
      "    ## Use SCTransform function in Seurat to normalize data. \n"
     ]
    },
    {
     "name": "stderr",
     "output_type": "stream",
     "text": [
      "R[write to console]: Calculating cell attributes from input UMI matrix: log_umi\n",
      "\n",
      "R[write to console]: Variance stabilizing transformation of count matrix of size 9917 by 1000\n",
      "\n",
      "R[write to console]: Model formula is y ~ log_umi\n",
      "\n",
      "R[write to console]: Get Negative Binomial regression parameters per gene\n",
      "\n",
      "R[write to console]: Using 2000 genes, 1000 cells\n",
      "\n"
     ]
    },
    {
     "name": "stdout",
     "output_type": "stream",
     "text": [
      "  |======================================================================| 100%\n"
     ]
    },
    {
     "name": "stderr",
     "output_type": "stream",
     "text": [
      "R[write to console]: Found 22 outliers - those will be ignored in fitting/regularization step\n",
      "\n",
      "\n",
      "R[write to console]: Second step: Get residuals using fitted parameters for 9917 genes\n",
      "\n"
     ]
    },
    {
     "name": "stdout",
     "output_type": "stream",
     "text": [
      "  |======================================================================| 100%\n"
     ]
    },
    {
     "name": "stderr",
     "output_type": "stream",
     "text": [
      "R[write to console]: Computing corrected count matrix for 9917 genes\n",
      "\n"
     ]
    },
    {
     "name": "stdout",
     "output_type": "stream",
     "text": [
      "  |======================================================================| 100%\n"
     ]
    },
    {
     "name": "stderr",
     "output_type": "stream",
     "text": [
      "R[write to console]: Calculating gene attributes\n",
      "\n",
      "R[write to console]: Wall clock passed: Time difference of 14.36548 secs\n",
      "\n",
      "R[write to console]: Determine variable features\n",
      "\n",
      "R[write to console]: Place corrected count matrix in counts slot\n",
      "\n",
      "R[write to console]: Centering data matrix\n",
      "\n",
      "  |                                                                            \n",
      "  |                                                                      |   0%\n",
      "  |                                                                            \n",
      "  |=====                                                                 |   7%\n",
      "  |                                                                            \n",
      "  |==========                                                            |  14%\n",
      "  |                                                                            \n",
      "  |===============                                                       |  21%\n",
      "  |                                                                            \n",
      "  |====================                                                  |  29%\n",
      "  |                                                                            \n",
      "  |=========================                                             |  36%\n",
      "  |                                                                            \n",
      "  |==============================                                        |  43%\n",
      "  |                                                                            \n",
      "  |===================================                                   |  50%\n",
      "  |                                                                            \n",
      "  |========================================                              |  57%\n",
      "  |                                                                            \n",
      "  |=============================================                         |  64%\n",
      "  |                                                                            \n",
      "  |==================================================                    |  71%\n",
      "  |                                                                            \n",
      "  |=======================================================               |  79%\n",
      "  |                                                                            \n",
      "  |============================================================          |  86%\n",
      "  |                                                                            \n",
      "  |=================================================================     |  93%\n",
      "  |                                                                            \n",
      "  |======================================================================| 100%\n",
      "R[write to console]: \n",
      "\n",
      "R[write to console]: Set default assay to SCT\n",
      "\n"
     ]
    },
    {
     "name": "stdout",
     "output_type": "stream",
     "text": [
      "## Use spark.test function in SPARK package to select spatially variable genes. \n",
      "## ===== SPARK INPUT INFORMATION ==== \n",
      "## number of total samples:  1000 \n",
      "## number of total features:  4119 \n",
      "## number of adjusted covariates:  0 \n",
      "# fitting normalized count-based spatial model under the null hypothesis ... \n",
      "## testing Gaussian kernel: 1...\n",
      "## testing Periodic kernel: 1...\n",
      "## testing Gaussian kernel: 2...\n",
      "## testing Periodic kernel: 2...\n",
      "## testing Gaussian kernel: 3...\n",
      "## testing Periodic kernel: 3...\n",
      "## testing Gaussian kernel: 4...\n",
      "## testing Periodic kernel: 4...\n",
      "## testing Gaussian kernel: 5...\n",
      "## testing Periodic kernel: 5...\n",
      "## Identified  295  spatial genes through spark.test function. \n",
      "The  number of significant spatial genes is less than the specified number of spatial genes. \n",
      "## Using  295  significant spatially variable genes. \n",
      "## Selected kernel type is:  gaussian  \n",
      "## The bandwidth is:  0.0793834656303859  \n",
      "## Calculating kernel matrix\n",
      "## Finished calculating kernel matrix.\n",
      "[1] \"Eigen decomposition on kernel matrix!\"\n",
      "[1] \"Using all eigenvectors and eigenvalues in the Kernel matrix!\"\n"
     ]
    }
   ],
   "source": [
    "# robjects.r(\"load(paste0('./datas/pca/DLPFC/LIBD_sample1.RData'))\")\n",
    "from rpy2.robjects.packages import importr\n",
    "import rpy2.robjects as robjects\n",
    "\n",
    "Spatialpc  = importr('SpatialPCA')\n",
    "ggplot2 = importr('ggplot2')\n",
    "scran = importr('scran')\n",
    "bluster = importr('bluster')\n",
    "matrix = importr('Matrix')\n",
    "robjects.r(\"xy_coords <- read.csv('{}',row.names='X')\".format(folder_path + 'xy.csv'))\n",
    "robjects.r(\"xy_coords=as.matrix(xy_coords)\")\n",
    "robjects.r(\"count_temp <- read.csv('{}',row.names='X')\".format(folder_path + 'gene.csv'))\n",
    "robjects.r('my_matrix <- do.call(cbind, count_temp)')\n",
    "robjects.r('my_sparse_matrix <- Matrix(my_matrix, sparse = TRUE)')\n",
    "robjects.r('count_sub <- as(my_sparse_matrix, \"dgCMatrix\")')\n",
    "robjects.r('rownames(count_sub) <- rownames(count_temp)')\n",
    "robjects.r(\"rownames(xy_coords) = colnames(count_sub)\");\n",
    "robjects.r('LIBD = CreateSpatialPCAObject(counts=count_sub, location=xy_coords, project = \"SpatialPCA\",gene.type=\"spatial\",sparkversion=\"spark\",numCores_spark=5,gene.number=3000, customGenelist=NULL,min.loctions = 20, min.features=20)')\n",
    "robjects.r('LIBD = SpatialPCA_buildKernel(LIBD, kerneltype=\"gaussian\", bandwidthtype=\"SJ\",bandwidth.set.by.user=NULL)')\n",
    "robjects.r('LIBD = SpatialPCA_EstimateLoading(LIBD,fast=FALSE,SpatialPCnum={})'.format(pcanum))\n",
    "robjects.r('LIBD = SpatialPCA_SpatialPCs(LIBD, fast=FALSE)')\n",
    "robjects.r('write.csv(as.data.frame(LIBD@SpatialPCs), file = \"{}\")'.format(folder_path + \"pca.csv\"))\n",
    "robjects.globalenv.clear()\n"
   ]
  },
  {
   "cell_type": "code",
   "execution_count": null,
   "metadata": {},
   "outputs": [],
   "source": []
  },
  {
   "cell_type": "code",
   "execution_count": 12,
   "metadata": {},
   "outputs": [
    {
     "data": {
      "text/html": [
       "<div>\n",
       "<style scoped>\n",
       "    .dataframe tbody tr th:only-of-type {\n",
       "        vertical-align: middle;\n",
       "    }\n",
       "\n",
       "    .dataframe tbody tr th {\n",
       "        vertical-align: top;\n",
       "    }\n",
       "\n",
       "    .dataframe thead th {\n",
       "        text-align: right;\n",
       "    }\n",
       "</style>\n",
       "<table border=\"1\" class=\"dataframe\">\n",
       "  <thead>\n",
       "    <tr style=\"text-align: right;\">\n",
       "      <th>Unnamed: 0</th>\n",
       "      <th>1</th>\n",
       "      <th>2</th>\n",
       "      <th>3</th>\n",
       "      <th>4</th>\n",
       "      <th>5</th>\n",
       "      <th>6</th>\n",
       "      <th>7</th>\n",
       "      <th>8</th>\n",
       "      <th>9</th>\n",
       "      <th>10</th>\n",
       "      <th>11</th>\n",
       "      <th>12</th>\n",
       "      <th>13</th>\n",
       "      <th>14</th>\n",
       "      <th>15</th>\n",
       "      <th>16</th>\n",
       "      <th>17</th>\n",
       "      <th>18</th>\n",
       "      <th>19</th>\n",
       "      <th>20</th>\n",
       "    </tr>\n",
       "    <tr>\n",
       "      <th>layer_guess_reordered</th>\n",
       "      <th></th>\n",
       "      <th></th>\n",
       "      <th></th>\n",
       "      <th></th>\n",
       "      <th></th>\n",
       "      <th></th>\n",
       "      <th></th>\n",
       "      <th></th>\n",
       "      <th></th>\n",
       "      <th></th>\n",
       "      <th></th>\n",
       "      <th></th>\n",
       "      <th></th>\n",
       "      <th></th>\n",
       "      <th></th>\n",
       "      <th></th>\n",
       "      <th></th>\n",
       "      <th></th>\n",
       "      <th></th>\n",
       "      <th></th>\n",
       "    </tr>\n",
       "  </thead>\n",
       "  <tbody>\n",
       "    <tr>\n",
       "      <th>Layer1</th>\n",
       "      <td>-2.964958</td>\n",
       "      <td>-0.443682</td>\n",
       "      <td>-0.127157</td>\n",
       "      <td>-0.550023</td>\n",
       "      <td>0.357146</td>\n",
       "      <td>-2.019074</td>\n",
       "      <td>-1.143631</td>\n",
       "      <td>1.314798</td>\n",
       "      <td>-2.311385</td>\n",
       "      <td>0.250460</td>\n",
       "      <td>-1.603056</td>\n",
       "      <td>3.261195</td>\n",
       "      <td>0.114826</td>\n",
       "      <td>0.254280</td>\n",
       "      <td>0.400208</td>\n",
       "      <td>1.065781</td>\n",
       "      <td>-0.912067</td>\n",
       "      <td>-0.057919</td>\n",
       "      <td>-0.235414</td>\n",
       "      <td>-0.545529</td>\n",
       "    </tr>\n",
       "    <tr>\n",
       "      <th>Layer3</th>\n",
       "      <td>3.922670</td>\n",
       "      <td>-0.163161</td>\n",
       "      <td>0.599635</td>\n",
       "      <td>0.886643</td>\n",
       "      <td>1.039973</td>\n",
       "      <td>1.598607</td>\n",
       "      <td>-0.450928</td>\n",
       "      <td>-0.425725</td>\n",
       "      <td>-0.762643</td>\n",
       "      <td>-0.149263</td>\n",
       "      <td>0.925994</td>\n",
       "      <td>-0.369788</td>\n",
       "      <td>0.215386</td>\n",
       "      <td>-1.140284</td>\n",
       "      <td>-0.477412</td>\n",
       "      <td>0.399940</td>\n",
       "      <td>0.467753</td>\n",
       "      <td>0.062338</td>\n",
       "      <td>0.838355</td>\n",
       "      <td>0.133995</td>\n",
       "    </tr>\n",
       "    <tr>\n",
       "      <th>Layer1</th>\n",
       "      <td>-4.159250</td>\n",
       "      <td>7.455989</td>\n",
       "      <td>-1.585604</td>\n",
       "      <td>2.971580</td>\n",
       "      <td>-0.732256</td>\n",
       "      <td>-0.748337</td>\n",
       "      <td>-0.315529</td>\n",
       "      <td>-1.897905</td>\n",
       "      <td>-1.442151</td>\n",
       "      <td>1.182143</td>\n",
       "      <td>0.647268</td>\n",
       "      <td>0.004126</td>\n",
       "      <td>0.565807</td>\n",
       "      <td>0.824697</td>\n",
       "      <td>0.499902</td>\n",
       "      <td>-0.578875</td>\n",
       "      <td>-0.129451</td>\n",
       "      <td>0.479470</td>\n",
       "      <td>1.161956</td>\n",
       "      <td>0.638118</td>\n",
       "    </tr>\n",
       "    <tr>\n",
       "      <th>WM</th>\n",
       "      <td>-11.135783</td>\n",
       "      <td>-5.694550</td>\n",
       "      <td>-2.836121</td>\n",
       "      <td>-2.053079</td>\n",
       "      <td>2.184414</td>\n",
       "      <td>0.237465</td>\n",
       "      <td>0.286835</td>\n",
       "      <td>-0.361176</td>\n",
       "      <td>0.158150</td>\n",
       "      <td>0.398960</td>\n",
       "      <td>-0.005143</td>\n",
       "      <td>-1.991437</td>\n",
       "      <td>-0.068070</td>\n",
       "      <td>0.344343</td>\n",
       "      <td>-1.637242</td>\n",
       "      <td>-0.435950</td>\n",
       "      <td>0.222663</td>\n",
       "      <td>-0.203762</td>\n",
       "      <td>0.385872</td>\n",
       "      <td>-1.071332</td>\n",
       "    </tr>\n",
       "    <tr>\n",
       "      <th>Layer6</th>\n",
       "      <td>1.070935</td>\n",
       "      <td>-1.587744</td>\n",
       "      <td>-0.007008</td>\n",
       "      <td>-0.531028</td>\n",
       "      <td>-1.560630</td>\n",
       "      <td>-0.656481</td>\n",
       "      <td>-2.331968</td>\n",
       "      <td>0.016995</td>\n",
       "      <td>-0.087082</td>\n",
       "      <td>-1.262035</td>\n",
       "      <td>0.137890</td>\n",
       "      <td>-0.362345</td>\n",
       "      <td>-1.106963</td>\n",
       "      <td>0.764147</td>\n",
       "      <td>-1.723261</td>\n",
       "      <td>0.908204</td>\n",
       "      <td>-0.149213</td>\n",
       "      <td>-1.290585</td>\n",
       "      <td>-0.207290</td>\n",
       "      <td>-1.121098</td>\n",
       "    </tr>\n",
       "    <tr>\n",
       "      <th>...</th>\n",
       "      <td>...</td>\n",
       "      <td>...</td>\n",
       "      <td>...</td>\n",
       "      <td>...</td>\n",
       "      <td>...</td>\n",
       "      <td>...</td>\n",
       "      <td>...</td>\n",
       "      <td>...</td>\n",
       "      <td>...</td>\n",
       "      <td>...</td>\n",
       "      <td>...</td>\n",
       "      <td>...</td>\n",
       "      <td>...</td>\n",
       "      <td>...</td>\n",
       "      <td>...</td>\n",
       "      <td>...</td>\n",
       "      <td>...</td>\n",
       "      <td>...</td>\n",
       "      <td>...</td>\n",
       "      <td>...</td>\n",
       "    </tr>\n",
       "    <tr>\n",
       "      <th>WM</th>\n",
       "      <td>-5.205209</td>\n",
       "      <td>-3.112869</td>\n",
       "      <td>-1.250179</td>\n",
       "      <td>-0.984360</td>\n",
       "      <td>0.616819</td>\n",
       "      <td>0.275942</td>\n",
       "      <td>-0.371127</td>\n",
       "      <td>-0.454230</td>\n",
       "      <td>-0.310693</td>\n",
       "      <td>-0.588396</td>\n",
       "      <td>1.223143</td>\n",
       "      <td>2.365099</td>\n",
       "      <td>1.456910</td>\n",
       "      <td>-0.725941</td>\n",
       "      <td>1.807047</td>\n",
       "      <td>-0.637214</td>\n",
       "      <td>1.118682</td>\n",
       "      <td>-0.821894</td>\n",
       "      <td>1.279800</td>\n",
       "      <td>0.901763</td>\n",
       "    </tr>\n",
       "    <tr>\n",
       "      <th>Layer6</th>\n",
       "      <td>0.004318</td>\n",
       "      <td>-4.455804</td>\n",
       "      <td>1.179770</td>\n",
       "      <td>0.049381</td>\n",
       "      <td>-2.407912</td>\n",
       "      <td>-0.254855</td>\n",
       "      <td>0.339173</td>\n",
       "      <td>-0.376891</td>\n",
       "      <td>0.268053</td>\n",
       "      <td>0.557686</td>\n",
       "      <td>1.009514</td>\n",
       "      <td>-0.333847</td>\n",
       "      <td>-0.484829</td>\n",
       "      <td>-0.416200</td>\n",
       "      <td>0.704410</td>\n",
       "      <td>0.043383</td>\n",
       "      <td>1.166264</td>\n",
       "      <td>-0.157042</td>\n",
       "      <td>-0.117816</td>\n",
       "      <td>1.014068</td>\n",
       "    </tr>\n",
       "    <tr>\n",
       "      <th>Layer5</th>\n",
       "      <td>1.290302</td>\n",
       "      <td>-1.351651</td>\n",
       "      <td>1.802553</td>\n",
       "      <td>0.521413</td>\n",
       "      <td>0.102162</td>\n",
       "      <td>0.790476</td>\n",
       "      <td>1.189263</td>\n",
       "      <td>1.541071</td>\n",
       "      <td>0.106984</td>\n",
       "      <td>-0.756747</td>\n",
       "      <td>1.065235</td>\n",
       "      <td>-0.456077</td>\n",
       "      <td>0.591353</td>\n",
       "      <td>-0.397874</td>\n",
       "      <td>0.023774</td>\n",
       "      <td>0.696745</td>\n",
       "      <td>0.344781</td>\n",
       "      <td>0.405003</td>\n",
       "      <td>-1.301847</td>\n",
       "      <td>-0.483848</td>\n",
       "    </tr>\n",
       "    <tr>\n",
       "      <th>Layer5</th>\n",
       "      <td>0.725537</td>\n",
       "      <td>-5.117802</td>\n",
       "      <td>1.881509</td>\n",
       "      <td>0.387844</td>\n",
       "      <td>-1.669088</td>\n",
       "      <td>1.114297</td>\n",
       "      <td>-0.447749</td>\n",
       "      <td>0.363511</td>\n",
       "      <td>-0.054023</td>\n",
       "      <td>2.546703</td>\n",
       "      <td>-0.711382</td>\n",
       "      <td>0.033187</td>\n",
       "      <td>1.228542</td>\n",
       "      <td>-0.162989</td>\n",
       "      <td>-0.213424</td>\n",
       "      <td>-0.535250</td>\n",
       "      <td>-0.750975</td>\n",
       "      <td>-0.784039</td>\n",
       "      <td>-0.228713</td>\n",
       "      <td>0.018082</td>\n",
       "    </tr>\n",
       "    <tr>\n",
       "      <th>Layer3</th>\n",
       "      <td>4.990225</td>\n",
       "      <td>2.166069</td>\n",
       "      <td>-0.000780</td>\n",
       "      <td>-3.602105</td>\n",
       "      <td>-1.266634</td>\n",
       "      <td>0.401253</td>\n",
       "      <td>-0.397566</td>\n",
       "      <td>-0.742510</td>\n",
       "      <td>-0.629437</td>\n",
       "      <td>0.847635</td>\n",
       "      <td>1.139579</td>\n",
       "      <td>-0.793348</td>\n",
       "      <td>1.092844</td>\n",
       "      <td>1.460463</td>\n",
       "      <td>0.005610</td>\n",
       "      <td>-0.225828</td>\n",
       "      <td>0.520507</td>\n",
       "      <td>0.321430</td>\n",
       "      <td>-0.295258</td>\n",
       "      <td>0.438171</td>\n",
       "    </tr>\n",
       "  </tbody>\n",
       "</table>\n",
       "<p>1000 rows × 20 columns</p>\n",
       "</div>"
      ],
      "text/plain": [
       "Unnamed: 0                    1         2         3         4         5   \\\n",
       "layer_guess_reordered                                                      \n",
       "Layer1                 -2.964958 -0.443682 -0.127157 -0.550023  0.357146   \n",
       "Layer3                  3.922670 -0.163161  0.599635  0.886643  1.039973   \n",
       "Layer1                 -4.159250  7.455989 -1.585604  2.971580 -0.732256   \n",
       "WM                    -11.135783 -5.694550 -2.836121 -2.053079  2.184414   \n",
       "Layer6                  1.070935 -1.587744 -0.007008 -0.531028 -1.560630   \n",
       "...                          ...       ...       ...       ...       ...   \n",
       "WM                     -5.205209 -3.112869 -1.250179 -0.984360  0.616819   \n",
       "Layer6                  0.004318 -4.455804  1.179770  0.049381 -2.407912   \n",
       "Layer5                  1.290302 -1.351651  1.802553  0.521413  0.102162   \n",
       "Layer5                  0.725537 -5.117802  1.881509  0.387844 -1.669088   \n",
       "Layer3                  4.990225  2.166069 -0.000780 -3.602105 -1.266634   \n",
       "\n",
       "Unnamed: 0                   6         7         8         9         10  \\\n",
       "layer_guess_reordered                                                     \n",
       "Layer1                -2.019074 -1.143631  1.314798 -2.311385  0.250460   \n",
       "Layer3                 1.598607 -0.450928 -0.425725 -0.762643 -0.149263   \n",
       "Layer1                -0.748337 -0.315529 -1.897905 -1.442151  1.182143   \n",
       "WM                     0.237465  0.286835 -0.361176  0.158150  0.398960   \n",
       "Layer6                -0.656481 -2.331968  0.016995 -0.087082 -1.262035   \n",
       "...                         ...       ...       ...       ...       ...   \n",
       "WM                     0.275942 -0.371127 -0.454230 -0.310693 -0.588396   \n",
       "Layer6                -0.254855  0.339173 -0.376891  0.268053  0.557686   \n",
       "Layer5                 0.790476  1.189263  1.541071  0.106984 -0.756747   \n",
       "Layer5                 1.114297 -0.447749  0.363511 -0.054023  2.546703   \n",
       "Layer3                 0.401253 -0.397566 -0.742510 -0.629437  0.847635   \n",
       "\n",
       "Unnamed: 0                   11        12        13        14        15  \\\n",
       "layer_guess_reordered                                                     \n",
       "Layer1                -1.603056  3.261195  0.114826  0.254280  0.400208   \n",
       "Layer3                 0.925994 -0.369788  0.215386 -1.140284 -0.477412   \n",
       "Layer1                 0.647268  0.004126  0.565807  0.824697  0.499902   \n",
       "WM                    -0.005143 -1.991437 -0.068070  0.344343 -1.637242   \n",
       "Layer6                 0.137890 -0.362345 -1.106963  0.764147 -1.723261   \n",
       "...                         ...       ...       ...       ...       ...   \n",
       "WM                     1.223143  2.365099  1.456910 -0.725941  1.807047   \n",
       "Layer6                 1.009514 -0.333847 -0.484829 -0.416200  0.704410   \n",
       "Layer5                 1.065235 -0.456077  0.591353 -0.397874  0.023774   \n",
       "Layer5                -0.711382  0.033187  1.228542 -0.162989 -0.213424   \n",
       "Layer3                 1.139579 -0.793348  1.092844  1.460463  0.005610   \n",
       "\n",
       "Unnamed: 0                   16        17        18        19        20  \n",
       "layer_guess_reordered                                                    \n",
       "Layer1                 1.065781 -0.912067 -0.057919 -0.235414 -0.545529  \n",
       "Layer3                 0.399940  0.467753  0.062338  0.838355  0.133995  \n",
       "Layer1                -0.578875 -0.129451  0.479470  1.161956  0.638118  \n",
       "WM                    -0.435950  0.222663 -0.203762  0.385872 -1.071332  \n",
       "Layer6                 0.908204 -0.149213 -1.290585 -0.207290 -1.121098  \n",
       "...                         ...       ...       ...       ...       ...  \n",
       "WM                    -0.637214  1.118682 -0.821894  1.279800  0.901763  \n",
       "Layer6                 0.043383  1.166264 -0.157042 -0.117816  1.014068  \n",
       "Layer5                 0.696745  0.344781  0.405003 -1.301847 -0.483848  \n",
       "Layer5                -0.535250 -0.750975 -0.784039 -0.228713  0.018082  \n",
       "Layer3                -0.225828  0.520507  0.321430 -0.295258  0.438171  \n",
       "\n",
       "[1000 rows x 20 columns]"
      ]
     },
     "execution_count": 12,
     "metadata": {},
     "output_type": "execute_result"
    }
   ],
   "source": [
    "adata1 = pd.read_csv(folder_path + 'pca.csv')\n",
    "adata1 = adata1.set_index(adata1.columns[0])\n",
    "adata1 = adata1.T\n",
    "adata1.index = datas.obs.layer_guess_reordered\n",
    "adata1\n",
    "# adata1.to_csv(folder_path+'datas.data',header=None);\n",
    "# adata1.to_csv(folder_path+'datas.csv')"
   ]
  },
  {
   "cell_type": "code",
   "execution_count": 13,
   "metadata": {},
   "outputs": [
    {
     "name": "stdout",
     "output_type": "stream",
     "text": [
      "remain length: 996\n",
      "remain length: 989\n",
      "remain length: 988\n",
      "remain length: 984\n",
      "remain length: 978\n",
      "remain length: 974\n",
      "remain length: 973\n",
      "remain length: 970\n",
      "remain length: 968\n",
      "remain length: 961\n",
      "remain length: 958\n",
      "remain length: 954\n",
      "remain length: 949\n",
      "remain length: 948\n",
      "remain length: 947\n",
      "remain length: 944\n",
      "remain length: 937\n",
      "remain length: 935\n",
      "remain length: 932\n",
      "remain length: 928\n",
      "remain length: 924\n",
      "remain length: 919\n",
      "remain length: 917\n",
      "remain length: 915\n",
      "remain length: 913\n",
      "remain length: 910\n",
      "remain length: 907\n",
      "remain length: 905\n",
      "remain length: 903\n",
      "remain length: 901\n",
      "remain length: 899\n",
      "remain length: 898\n",
      "remain length: 894\n",
      "remain length: 890\n",
      "remain length: 886\n",
      "remain length: 884\n",
      "remain length: 881\n",
      "remain length: 878\n",
      "remain length: 876\n",
      "remain length: 874\n",
      "remain length: 871\n",
      "remain length: 868\n",
      "remain length: 865\n",
      "remain length: 864\n",
      "remain length: 863\n",
      "remain length: 861\n",
      "remain length: 857\n",
      "remain length: 856\n",
      "remain length: 853\n",
      "remain length: 850\n",
      "remain length: 843\n",
      "remain length: 841\n",
      "remain length: 837\n",
      "remain length: 836\n",
      "remain length: 834\n",
      "remain length: 832\n",
      "remain length: 829\n",
      "remain length: 827\n",
      "remain length: 822\n",
      "remain length: 819\n",
      "remain length: 816\n",
      "remain length: 815\n",
      "remain length: 811\n",
      "remain length: 807\n",
      "remain length: 804\n",
      "remain length: 799\n",
      "remain length: 795\n",
      "remain length: 793\n",
      "remain length: 791\n",
      "remain length: 788\n",
      "remain length: 786\n",
      "remain length: 781\n",
      "remain length: 780\n",
      "remain length: 776\n",
      "remain length: 772\n",
      "remain length: 770\n",
      "remain length: 768\n",
      "remain length: 767\n",
      "remain length: 764\n",
      "remain length: 762\n",
      "remain length: 760\n",
      "remain length: 758\n",
      "remain length: 754\n",
      "remain length: 747\n",
      "remain length: 743\n",
      "remain length: 740\n",
      "remain length: 737\n",
      "remain length: 732\n",
      "remain length: 728\n",
      "remain length: 724\n",
      "remain length: 723\n",
      "remain length: 722\n",
      "remain length: 717\n",
      "remain length: 715\n",
      "remain length: 714\n",
      "remain length: 713\n",
      "remain length: 708\n",
      "remain length: 707\n",
      "remain length: 706\n",
      "remain length: 705\n",
      "remain length: 701\n",
      "remain length: 695\n",
      "remain length: 694\n",
      "remain length: 692\n",
      "remain length: 691\n",
      "remain length: 689\n",
      "remain length: 688\n",
      "remain length: 687\n",
      "remain length: 686\n",
      "remain length: 681\n",
      "remain length: 677\n",
      "remain length: 676\n",
      "remain length: 675\n",
      "remain length: 672\n",
      "remain length: 669\n",
      "remain length: 666\n",
      "remain length: 664\n",
      "remain length: 663\n",
      "remain length: 661\n",
      "remain length: 657\n",
      "remain length: 653\n",
      "remain length: 651\n",
      "remain length: 649\n",
      "remain length: 647\n",
      "remain length: 646\n",
      "remain length: 643\n",
      "remain length: 640\n",
      "remain length: 637\n",
      "remain length: 635\n",
      "remain length: 634\n",
      "remain length: 633\n",
      "remain length: 630\n",
      "remain length: 627\n",
      "remain length: 626\n",
      "remain length: 624\n",
      "remain length: 620\n",
      "remain length: 618\n",
      "remain length: 614\n",
      "remain length: 609\n",
      "remain length: 607\n",
      "remain length: 606\n",
      "remain length: 602\n",
      "remain length: 600\n",
      "remain length: 595\n",
      "remain length: 593\n",
      "remain length: 592\n",
      "remain length: 591\n",
      "remain length: 587\n",
      "remain length: 581\n",
      "remain length: 579\n",
      "remain length: 576\n",
      "remain length: 574\n",
      "remain length: 570\n",
      "remain length: 569\n",
      "remain length: 566\n",
      "remain length: 563\n",
      "remain length: 561\n",
      "remain length: 560\n",
      "remain length: 557\n",
      "remain length: 555\n",
      "remain length: 554\n",
      "remain length: 553\n",
      "remain length: 551\n",
      "remain length: 549\n",
      "remain length: 548\n",
      "remain length: 546\n",
      "remain length: 545\n",
      "remain length: 543\n",
      "remain length: 542\n",
      "remain length: 540\n",
      "remain length: 537\n",
      "remain length: 535\n",
      "remain length: 533\n",
      "remain length: 531\n",
      "remain length: 528\n",
      "remain length: 525\n",
      "remain length: 522\n",
      "remain length: 520\n",
      "remain length: 519\n",
      "remain length: 517\n",
      "remain length: 516\n",
      "remain length: 515\n",
      "remain length: 514\n",
      "remain length: 513\n",
      "remain length: 511\n",
      "remain length: 509\n",
      "remain length: 507\n",
      "remain length: 504\n",
      "remain length: 501\n",
      "remain length: 500\n",
      "remain length: 496\n",
      "remain length: 492\n",
      "remain length: 490\n",
      "remain length: 489\n",
      "remain length: 485\n",
      "remain length: 482\n",
      "remain length: 477\n",
      "remain length: 476\n",
      "remain length: 474\n",
      "remain length: 473\n",
      "remain length: 472\n",
      "remain length: 467\n",
      "remain length: 465\n",
      "remain length: 463\n",
      "remain length: 461\n",
      "remain length: 459\n",
      "remain length: 455\n",
      "remain length: 453\n",
      "remain length: 450\n",
      "remain length: 447\n",
      "remain length: 445\n",
      "remain length: 443\n",
      "remain length: 438\n",
      "remain length: 435\n",
      "remain length: 434\n",
      "remain length: 433\n",
      "remain length: 431\n",
      "remain length: 428\n",
      "remain length: 427\n",
      "remain length: 424\n",
      "remain length: 422\n",
      "remain length: 421\n",
      "remain length: 418\n",
      "remain length: 414\n",
      "remain length: 412\n",
      "remain length: 410\n",
      "remain length: 406\n",
      "remain length: 404\n",
      "remain length: 403\n",
      "remain length: 402\n",
      "remain length: 399\n",
      "remain length: 397\n",
      "remain length: 396\n",
      "remain length: 395\n",
      "remain length: 394\n",
      "remain length: 393\n",
      "remain length: 391\n",
      "remain length: 388\n",
      "remain length: 386\n",
      "remain length: 385\n",
      "remain length: 384\n",
      "remain length: 380\n",
      "remain length: 378\n",
      "remain length: 376\n",
      "remain length: 375\n",
      "remain length: 373\n",
      "remain length: 371\n",
      "remain length: 367\n",
      "remain length: 366\n",
      "remain length: 365\n",
      "remain length: 364\n",
      "remain length: 359\n",
      "remain length: 358\n",
      "remain length: 356\n",
      "remain length: 354\n",
      "remain length: 353\n",
      "remain length: 350\n",
      "remain length: 348\n",
      "remain length: 346\n",
      "remain length: 344\n",
      "remain length: 340\n",
      "remain length: 338\n",
      "remain length: 337\n",
      "remain length: 336\n",
      "remain length: 333\n",
      "remain length: 330\n",
      "remain length: 329\n",
      "remain length: 327\n",
      "remain length: 324\n",
      "remain length: 323\n",
      "remain length: 321\n",
      "remain length: 319\n",
      "remain length: 317\n",
      "remain length: 316\n",
      "remain length: 314\n",
      "remain length: 313\n",
      "remain length: 312\n",
      "remain length: 311\n",
      "remain length: 308\n",
      "remain length: 306\n",
      "remain length: 302\n",
      "remain length: 301\n",
      "remain length: 300\n",
      "remain length: 298\n",
      "remain length: 296\n",
      "remain length: 295\n",
      "remain length: 292\n",
      "remain length: 291\n",
      "remain length: 290\n",
      "remain length: 288\n",
      "remain length: 285\n",
      "remain length: 282\n",
      "remain length: 279\n",
      "remain length: 278\n",
      "remain length: 276\n",
      "remain length: 274\n",
      "remain length: 272\n",
      "remain length: 271\n",
      "remain length: 269\n",
      "remain length: 267\n",
      "remain length: 265\n",
      "remain length: 262\n",
      "remain length: 259\n",
      "remain length: 256\n",
      "remain length: 250\n",
      "remain length: 247\n",
      "remain length: 245\n",
      "remain length: 244\n",
      "remain length: 242\n",
      "remain length: 241\n",
      "remain length: 240\n",
      "remain length: 239\n",
      "remain length: 238\n",
      "remain length: 237\n",
      "remain length: 236\n",
      "remain length: 232\n",
      "remain length: 231\n",
      "remain length: 230\n",
      "remain length: 228\n",
      "remain length: 226\n",
      "remain length: 223\n",
      "remain length: 221\n",
      "remain length: 220\n",
      "remain length: 218\n",
      "remain length: 213\n",
      "remain length: 211\n",
      "remain length: 209\n",
      "remain length: 207\n",
      "remain length: 205\n",
      "remain length: 203\n",
      "remain length: 200\n",
      "remain length: 198\n",
      "remain length: 197\n",
      "remain length: 196\n",
      "remain length: 194\n",
      "remain length: 193\n",
      "remain length: 191\n",
      "remain length: 190\n",
      "remain length: 188\n",
      "remain length: 186\n",
      "remain length: 184\n",
      "remain length: 183\n",
      "remain length: 182\n",
      "remain length: 181\n",
      "remain length: 177\n",
      "remain length: 176\n",
      "remain length: 175\n",
      "remain length: 172\n",
      "remain length: 170\n",
      "remain length: 169\n",
      "remain length: 167\n",
      "remain length: 165\n",
      "remain length: 164\n",
      "remain length: 163\n",
      "remain length: 162\n",
      "remain length: 161\n",
      "remain length: 160\n",
      "remain length: 159\n",
      "remain length: 157\n",
      "remain length: 153\n",
      "remain length: 152\n",
      "remain length: 150\n",
      "remain length: 149\n",
      "remain length: 147\n",
      "remain length: 146\n",
      "remain length: 145\n",
      "remain length: 144\n",
      "remain length: 143\n",
      "remain length: 141\n",
      "remain length: 140\n",
      "remain length: 138\n",
      "remain length: 137\n",
      "remain length: 136\n",
      "remain length: 134\n",
      "remain length: 133\n",
      "remain length: 132\n",
      "remain length: 130\n",
      "remain length: 129\n",
      "remain length: 127\n",
      "remain length: 126\n",
      "remain length: 125\n",
      "remain length: 124\n",
      "remain length: 122\n",
      "remain length: 121\n",
      "remain length: 119\n",
      "remain length: 117\n",
      "remain length: 116\n",
      "remain length: 114\n",
      "remain length: 113\n",
      "remain length: 111\n",
      "remain length: 109\n",
      "remain length: 108\n",
      "remain length: 105\n",
      "remain length: 104\n",
      "remain length: 102\n",
      "remain length: 101\n",
      "remain length: 100\n",
      "remain length: 99\n",
      "remain length: 95\n",
      "remain length: 93\n",
      "remain length: 91\n",
      "remain length: 90\n",
      "remain length: 89\n",
      "remain length: 88\n",
      "remain length: 87\n",
      "remain length: 86\n",
      "remain length: 83\n",
      "remain length: 81\n",
      "remain length: 79\n",
      "remain length: 78\n",
      "remain length: 76\n",
      "remain length: 74\n",
      "remain length: 73\n",
      "remain length: 72\n",
      "remain length: 71\n",
      "remain length: 68\n",
      "remain length: 67\n",
      "remain length: 66\n",
      "remain length: 65\n",
      "remain length: 64\n",
      "remain length: 63\n",
      "remain length: 62\n",
      "remain length: 61\n",
      "remain length: 60\n",
      "remain length: 59\n",
      "remain length: 58\n",
      "remain length: 57\n",
      "remain length: 56\n",
      "remain length: 55\n",
      "remain length: 54\n",
      "remain length: 52\n",
      "remain length: 51\n",
      "remain length: 50\n",
      "remain length: 49\n",
      "remain length: 48\n",
      "remain length: 47\n",
      "remain length: 46\n",
      "remain length: 44\n",
      "remain length: 43\n",
      "remain length: 42\n",
      "remain length: 41\n",
      "remain length: 40\n",
      "remain length: 39\n",
      "remain length: 38\n",
      "remain length: 36\n",
      "remain length: 35\n",
      "remain length: 34\n",
      "remain length: 33\n",
      "remain length: 32\n",
      "remain length: 31\n",
      "remain length: 29\n",
      "remain length: 28\n",
      "remain length: 26\n",
      "remain length: 25\n",
      "remain length: 23\n",
      "remain length: 22\n",
      "remain length: 20\n",
      "remain length: 19\n",
      "remain length: 18\n",
      "remain length: 17\n",
      "remain length: 16\n",
      "remain length: 15\n",
      "remain length: 14\n",
      "remain length: 13\n",
      "remain length: 12\n",
      "remain length: 11\n",
      "remain length: 10\n",
      "remain length: 9\n",
      "remain length: 8\n",
      "remain length: 7\n",
      "remain length: 6\n",
      "remain length: 5\n",
      "remain length: 4\n",
      "remain length: 3\n",
      "remain length: 2\n",
      "remain length: 1\n",
      "remain length: 0\n"
     ]
    }
   ],
   "source": [
    "from scipy.spatial import KDTree\n",
    "ans_value = []\n",
    "ans_label = []\n",
    "true_label = [];\n",
    "ans_index = [];\n",
    "now_labels = datas.obs.layer_guess_reordered.tolist();\n",
    "now_index = [i for i in range(len(datas))];\n",
    "r= 2\n",
    "now_label = 0;\n",
    "now =  adata1.values;\n",
    "while len(now) != 0:\n",
    "    rnd = np.random.randint(now.shape[0], size=1);\n",
    "    rand_choice = now[rnd, :].reshape(-1)\n",
    "    tree = KDTree(now);\n",
    "    indices = tree.query_ball_point(rand_choice,r)\n",
    "    points_within_k = now[indices]\n",
    "    now = now.tolist();\n",
    "\n",
    "    for i in points_within_k:\n",
    "        ans_value.append(i.tolist())\n",
    "        ans_label.append(now_label);\n",
    "        index = now.index(i.tolist());\n",
    "        true_label.append(now_labels[index]);\n",
    "        ans_index.append(now_index[index]);\n",
    "        now.pop(index)\n",
    "        now_labels.pop(index)\n",
    "        now_index.pop(index)\n",
    "    now_label+=1;\n",
    "        \n",
    "    now = np.array(now);\n",
    "    print(\"remain length: {}\".format(len(now)))\n",
    "        \n",
    "        \n",
    "np.save(folder_path+'r_{}_label.npy'.format(r),np.array(ans_label))\n",
    "np.save(folder_path+'r_{}_value.npy'.format(r),np.array(ans_value))\n",
    "\n"
   ]
  },
  {
   "cell_type": "code",
   "execution_count": 16,
   "metadata": {},
   "outputs": [
    {
     "data": {
      "text/plain": [
       "Int64Index([1, 2, 3, 4, 5, 6, 7, 8, 9, 10, 11, 12, 13, 14, 15, 16, 17, 18, 19,\n",
       "            20],\n",
       "           dtype='int64', name='Unnamed: 0')"
      ]
     },
     "execution_count": 16,
     "metadata": {},
     "output_type": "execute_result"
    }
   ],
   "source": [
    "adata1.columns"
   ]
  },
  {
   "cell_type": "code",
   "execution_count": 105,
   "metadata": {},
   "outputs": [
    {
     "data": {
      "text/html": [
       "<div>\n",
       "<style scoped>\n",
       "    .dataframe tbody tr th:only-of-type {\n",
       "        vertical-align: middle;\n",
       "    }\n",
       "\n",
       "    .dataframe tbody tr th {\n",
       "        vertical-align: top;\n",
       "    }\n",
       "\n",
       "    .dataframe thead th {\n",
       "        text-align: right;\n",
       "    }\n",
       "</style>\n",
       "<table border=\"1\" class=\"dataframe\">\n",
       "  <thead>\n",
       "    <tr style=\"text-align: right;\">\n",
       "      <th>Unnamed: 0</th>\n",
       "      <th>1</th>\n",
       "      <th>2</th>\n",
       "      <th>3</th>\n",
       "      <th>4</th>\n",
       "      <th>5</th>\n",
       "      <th>6</th>\n",
       "      <th>7</th>\n",
       "      <th>8</th>\n",
       "      <th>9</th>\n",
       "      <th>10</th>\n",
       "      <th>11</th>\n",
       "      <th>12</th>\n",
       "      <th>13</th>\n",
       "      <th>14</th>\n",
       "      <th>15</th>\n",
       "      <th>16</th>\n",
       "      <th>17</th>\n",
       "      <th>18</th>\n",
       "      <th>19</th>\n",
       "      <th>20</th>\n",
       "    </tr>\n",
       "    <tr>\n",
       "      <th>label</th>\n",
       "      <th></th>\n",
       "      <th></th>\n",
       "      <th></th>\n",
       "      <th></th>\n",
       "      <th></th>\n",
       "      <th></th>\n",
       "      <th></th>\n",
       "      <th></th>\n",
       "      <th></th>\n",
       "      <th></th>\n",
       "      <th></th>\n",
       "      <th></th>\n",
       "      <th></th>\n",
       "      <th></th>\n",
       "      <th></th>\n",
       "      <th></th>\n",
       "      <th></th>\n",
       "      <th></th>\n",
       "      <th></th>\n",
       "      <th></th>\n",
       "    </tr>\n",
       "  </thead>\n",
       "  <tbody>\n",
       "    <tr>\n",
       "      <th>0</th>\n",
       "      <td>-0.637017</td>\n",
       "      <td>-3.761666</td>\n",
       "      <td>2.472726</td>\n",
       "      <td>-0.029959</td>\n",
       "      <td>-0.961210</td>\n",
       "      <td>1.639221</td>\n",
       "      <td>-1.360123</td>\n",
       "      <td>0.208320</td>\n",
       "      <td>0.976473</td>\n",
       "      <td>1.524932</td>\n",
       "      <td>-0.523435</td>\n",
       "      <td>0.327094</td>\n",
       "      <td>0.842122</td>\n",
       "      <td>-0.264441</td>\n",
       "      <td>0.443934</td>\n",
       "      <td>0.259029</td>\n",
       "      <td>-1.161676</td>\n",
       "      <td>0.475882</td>\n",
       "      <td>-0.816753</td>\n",
       "      <td>-0.192810</td>\n",
       "    </tr>\n",
       "    <tr>\n",
       "      <th>1</th>\n",
       "      <td>3.135264</td>\n",
       "      <td>-0.380552</td>\n",
       "      <td>1.291586</td>\n",
       "      <td>0.146611</td>\n",
       "      <td>0.816918</td>\n",
       "      <td>1.166526</td>\n",
       "      <td>0.080652</td>\n",
       "      <td>-0.617255</td>\n",
       "      <td>0.027299</td>\n",
       "      <td>-0.319956</td>\n",
       "      <td>0.724084</td>\n",
       "      <td>-0.285387</td>\n",
       "      <td>-0.013586</td>\n",
       "      <td>0.313411</td>\n",
       "      <td>0.004322</td>\n",
       "      <td>0.617724</td>\n",
       "      <td>-1.095062</td>\n",
       "      <td>-0.500627</td>\n",
       "      <td>0.495032</td>\n",
       "      <td>-0.536090</td>\n",
       "    </tr>\n",
       "    <tr>\n",
       "      <th>2</th>\n",
       "      <td>-7.721490</td>\n",
       "      <td>-4.317423</td>\n",
       "      <td>0.758488</td>\n",
       "      <td>-1.937357</td>\n",
       "      <td>2.337619</td>\n",
       "      <td>-0.621116</td>\n",
       "      <td>-2.424020</td>\n",
       "      <td>0.463123</td>\n",
       "      <td>-0.682666</td>\n",
       "      <td>0.157126</td>\n",
       "      <td>0.365606</td>\n",
       "      <td>2.243275</td>\n",
       "      <td>1.110989</td>\n",
       "      <td>-0.051571</td>\n",
       "      <td>0.513874</td>\n",
       "      <td>1.647474</td>\n",
       "      <td>0.206327</td>\n",
       "      <td>0.186266</td>\n",
       "      <td>2.257131</td>\n",
       "      <td>1.587510</td>\n",
       "    </tr>\n",
       "    <tr>\n",
       "      <th>3</th>\n",
       "      <td>0.520848</td>\n",
       "      <td>-2.950717</td>\n",
       "      <td>3.065439</td>\n",
       "      <td>1.562681</td>\n",
       "      <td>-0.100580</td>\n",
       "      <td>0.238658</td>\n",
       "      <td>2.215817</td>\n",
       "      <td>-1.821918</td>\n",
       "      <td>0.820552</td>\n",
       "      <td>1.081110</td>\n",
       "      <td>-0.008000</td>\n",
       "      <td>-1.606315</td>\n",
       "      <td>0.298615</td>\n",
       "      <td>-0.290160</td>\n",
       "      <td>0.669847</td>\n",
       "      <td>-0.147656</td>\n",
       "      <td>-0.038159</td>\n",
       "      <td>0.138784</td>\n",
       "      <td>0.680069</td>\n",
       "      <td>-0.268527</td>\n",
       "    </tr>\n",
       "    <tr>\n",
       "      <th>4</th>\n",
       "      <td>1.395184</td>\n",
       "      <td>-2.326356</td>\n",
       "      <td>-0.867740</td>\n",
       "      <td>1.380162</td>\n",
       "      <td>-1.925509</td>\n",
       "      <td>-0.240684</td>\n",
       "      <td>-0.347372</td>\n",
       "      <td>0.209628</td>\n",
       "      <td>0.850483</td>\n",
       "      <td>-2.066434</td>\n",
       "      <td>0.306661</td>\n",
       "      <td>1.443061</td>\n",
       "      <td>-0.518201</td>\n",
       "      <td>1.534874</td>\n",
       "      <td>-0.925613</td>\n",
       "      <td>0.325230</td>\n",
       "      <td>0.322495</td>\n",
       "      <td>0.108503</td>\n",
       "      <td>-0.310688</td>\n",
       "      <td>-0.460052</td>\n",
       "    </tr>\n",
       "    <tr>\n",
       "      <th>...</th>\n",
       "      <td>...</td>\n",
       "      <td>...</td>\n",
       "      <td>...</td>\n",
       "      <td>...</td>\n",
       "      <td>...</td>\n",
       "      <td>...</td>\n",
       "      <td>...</td>\n",
       "      <td>...</td>\n",
       "      <td>...</td>\n",
       "      <td>...</td>\n",
       "      <td>...</td>\n",
       "      <td>...</td>\n",
       "      <td>...</td>\n",
       "      <td>...</td>\n",
       "      <td>...</td>\n",
       "      <td>...</td>\n",
       "      <td>...</td>\n",
       "      <td>...</td>\n",
       "      <td>...</td>\n",
       "      <td>...</td>\n",
       "    </tr>\n",
       "    <tr>\n",
       "      <th>472</th>\n",
       "      <td>-2.212480</td>\n",
       "      <td>-2.510200</td>\n",
       "      <td>-1.248033</td>\n",
       "      <td>-0.113761</td>\n",
       "      <td>-1.769597</td>\n",
       "      <td>0.977825</td>\n",
       "      <td>-2.637749</td>\n",
       "      <td>-0.072420</td>\n",
       "      <td>0.549361</td>\n",
       "      <td>-1.539443</td>\n",
       "      <td>0.210369</td>\n",
       "      <td>1.140682</td>\n",
       "      <td>-1.560165</td>\n",
       "      <td>0.601994</td>\n",
       "      <td>-0.944272</td>\n",
       "      <td>-0.843338</td>\n",
       "      <td>-0.669159</td>\n",
       "      <td>0.833211</td>\n",
       "      <td>-0.525175</td>\n",
       "      <td>-0.292925</td>\n",
       "    </tr>\n",
       "    <tr>\n",
       "      <th>473</th>\n",
       "      <td>3.290176</td>\n",
       "      <td>3.382806</td>\n",
       "      <td>-1.206629</td>\n",
       "      <td>-2.924299</td>\n",
       "      <td>-1.277149</td>\n",
       "      <td>0.491345</td>\n",
       "      <td>0.462462</td>\n",
       "      <td>-0.095215</td>\n",
       "      <td>0.828496</td>\n",
       "      <td>0.869459</td>\n",
       "      <td>-0.915528</td>\n",
       "      <td>-0.950580</td>\n",
       "      <td>-0.867846</td>\n",
       "      <td>-0.119577</td>\n",
       "      <td>0.431095</td>\n",
       "      <td>0.433190</td>\n",
       "      <td>1.617416</td>\n",
       "      <td>0.816156</td>\n",
       "      <td>0.762349</td>\n",
       "      <td>0.487058</td>\n",
       "    </tr>\n",
       "    <tr>\n",
       "      <th>474</th>\n",
       "      <td>1.829053</td>\n",
       "      <td>-2.390991</td>\n",
       "      <td>0.417237</td>\n",
       "      <td>1.040772</td>\n",
       "      <td>0.049630</td>\n",
       "      <td>1.055611</td>\n",
       "      <td>0.070166</td>\n",
       "      <td>0.613676</td>\n",
       "      <td>-0.751428</td>\n",
       "      <td>0.538048</td>\n",
       "      <td>-1.127653</td>\n",
       "      <td>0.715562</td>\n",
       "      <td>-0.128325</td>\n",
       "      <td>-1.142821</td>\n",
       "      <td>0.551085</td>\n",
       "      <td>-0.046818</td>\n",
       "      <td>0.698465</td>\n",
       "      <td>0.378770</td>\n",
       "      <td>-0.939545</td>\n",
       "      <td>-0.142402</td>\n",
       "    </tr>\n",
       "    <tr>\n",
       "      <th>475</th>\n",
       "      <td>1.704086</td>\n",
       "      <td>-0.031582</td>\n",
       "      <td>0.936143</td>\n",
       "      <td>-2.617279</td>\n",
       "      <td>0.624731</td>\n",
       "      <td>-0.197467</td>\n",
       "      <td>1.240677</td>\n",
       "      <td>1.508655</td>\n",
       "      <td>0.154582</td>\n",
       "      <td>-0.424791</td>\n",
       "      <td>1.082343</td>\n",
       "      <td>0.953987</td>\n",
       "      <td>-0.825801</td>\n",
       "      <td>-0.100715</td>\n",
       "      <td>-0.264543</td>\n",
       "      <td>-0.193148</td>\n",
       "      <td>-1.799404</td>\n",
       "      <td>-0.267433</td>\n",
       "      <td>-0.372163</td>\n",
       "      <td>0.596734</td>\n",
       "    </tr>\n",
       "    <tr>\n",
       "      <th>476</th>\n",
       "      <td>0.077177</td>\n",
       "      <td>-3.292380</td>\n",
       "      <td>0.013447</td>\n",
       "      <td>0.790345</td>\n",
       "      <td>-0.566803</td>\n",
       "      <td>2.111094</td>\n",
       "      <td>1.282800</td>\n",
       "      <td>-0.089242</td>\n",
       "      <td>-0.493391</td>\n",
       "      <td>2.551433</td>\n",
       "      <td>-1.710869</td>\n",
       "      <td>1.226505</td>\n",
       "      <td>1.827462</td>\n",
       "      <td>0.793343</td>\n",
       "      <td>-1.443811</td>\n",
       "      <td>-0.726973</td>\n",
       "      <td>0.746659</td>\n",
       "      <td>0.599936</td>\n",
       "      <td>0.053466</td>\n",
       "      <td>-0.714400</td>\n",
       "    </tr>\n",
       "  </tbody>\n",
       "</table>\n",
       "<p>477 rows × 20 columns</p>\n",
       "</div>"
      ],
      "text/plain": [
       "Unnamed: 0        1         2         3         4         5         6   \\\n",
       "label                                                                    \n",
       "0          -0.637017 -3.761666  2.472726 -0.029959 -0.961210  1.639221   \n",
       "1           3.135264 -0.380552  1.291586  0.146611  0.816918  1.166526   \n",
       "2          -7.721490 -4.317423  0.758488 -1.937357  2.337619 -0.621116   \n",
       "3           0.520848 -2.950717  3.065439  1.562681 -0.100580  0.238658   \n",
       "4           1.395184 -2.326356 -0.867740  1.380162 -1.925509 -0.240684   \n",
       "...              ...       ...       ...       ...       ...       ...   \n",
       "472        -2.212480 -2.510200 -1.248033 -0.113761 -1.769597  0.977825   \n",
       "473         3.290176  3.382806 -1.206629 -2.924299 -1.277149  0.491345   \n",
       "474         1.829053 -2.390991  0.417237  1.040772  0.049630  1.055611   \n",
       "475         1.704086 -0.031582  0.936143 -2.617279  0.624731 -0.197467   \n",
       "476         0.077177 -3.292380  0.013447  0.790345 -0.566803  2.111094   \n",
       "\n",
       "Unnamed: 0        7         8         9         10        11        12  \\\n",
       "label                                                                    \n",
       "0          -1.360123  0.208320  0.976473  1.524932 -0.523435  0.327094   \n",
       "1           0.080652 -0.617255  0.027299 -0.319956  0.724084 -0.285387   \n",
       "2          -2.424020  0.463123 -0.682666  0.157126  0.365606  2.243275   \n",
       "3           2.215817 -1.821918  0.820552  1.081110 -0.008000 -1.606315   \n",
       "4          -0.347372  0.209628  0.850483 -2.066434  0.306661  1.443061   \n",
       "...              ...       ...       ...       ...       ...       ...   \n",
       "472        -2.637749 -0.072420  0.549361 -1.539443  0.210369  1.140682   \n",
       "473         0.462462 -0.095215  0.828496  0.869459 -0.915528 -0.950580   \n",
       "474         0.070166  0.613676 -0.751428  0.538048 -1.127653  0.715562   \n",
       "475         1.240677  1.508655  0.154582 -0.424791  1.082343  0.953987   \n",
       "476         1.282800 -0.089242 -0.493391  2.551433 -1.710869  1.226505   \n",
       "\n",
       "Unnamed: 0        13        14        15        16        17        18  \\\n",
       "label                                                                    \n",
       "0           0.842122 -0.264441  0.443934  0.259029 -1.161676  0.475882   \n",
       "1          -0.013586  0.313411  0.004322  0.617724 -1.095062 -0.500627   \n",
       "2           1.110989 -0.051571  0.513874  1.647474  0.206327  0.186266   \n",
       "3           0.298615 -0.290160  0.669847 -0.147656 -0.038159  0.138784   \n",
       "4          -0.518201  1.534874 -0.925613  0.325230  0.322495  0.108503   \n",
       "...              ...       ...       ...       ...       ...       ...   \n",
       "472        -1.560165  0.601994 -0.944272 -0.843338 -0.669159  0.833211   \n",
       "473        -0.867846 -0.119577  0.431095  0.433190  1.617416  0.816156   \n",
       "474        -0.128325 -1.142821  0.551085 -0.046818  0.698465  0.378770   \n",
       "475        -0.825801 -0.100715 -0.264543 -0.193148 -1.799404 -0.267433   \n",
       "476         1.827462  0.793343 -1.443811 -0.726973  0.746659  0.599936   \n",
       "\n",
       "Unnamed: 0        19        20  \n",
       "label                           \n",
       "0          -0.816753 -0.192810  \n",
       "1           0.495032 -0.536090  \n",
       "2           2.257131  1.587510  \n",
       "3           0.680069 -0.268527  \n",
       "4          -0.310688 -0.460052  \n",
       "...              ...       ...  \n",
       "472        -0.525175 -0.292925  \n",
       "473         0.762349  0.487058  \n",
       "474        -0.939545 -0.142402  \n",
       "475        -0.372163  0.596734  \n",
       "476         0.053466 -0.714400  \n",
       "\n",
       "[477 rows x 20 columns]"
      ]
     },
     "execution_count": 105,
     "metadata": {},
     "output_type": "execute_result"
    }
   ],
   "source": [
    "v = pd.DataFrame(ans_value)\n",
    "v['label'] = ans_label\n",
    "ann  = v.groupby(\"label\").mean()\n",
    "ann.columns = adata1.columns\n",
    "ann.T.to_csv(folder_path +'annT.csv',index=None)\n",
    "ann"
   ]
  },
  {
   "cell_type": "code",
   "execution_count": 101,
   "metadata": {},
   "outputs": [
    {
     "data": {
      "text/html": [
       "<div>\n",
       "<style scoped>\n",
       "    .dataframe tbody tr th:only-of-type {\n",
       "        vertical-align: middle;\n",
       "    }\n",
       "\n",
       "    .dataframe tbody tr th {\n",
       "        vertical-align: top;\n",
       "    }\n",
       "\n",
       "    .dataframe thead th {\n",
       "        text-align: right;\n",
       "    }\n",
       "</style>\n",
       "<table border=\"1\" class=\"dataframe\">\n",
       "  <thead>\n",
       "    <tr style=\"text-align: right;\">\n",
       "      <th></th>\n",
       "      <th>0</th>\n",
       "    </tr>\n",
       "    <tr>\n",
       "      <th>label</th>\n",
       "      <th></th>\n",
       "    </tr>\n",
       "  </thead>\n",
       "  <tbody>\n",
       "    <tr>\n",
       "      <th>0</th>\n",
       "      <td>Layer5</td>\n",
       "    </tr>\n",
       "    <tr>\n",
       "      <th>1</th>\n",
       "      <td>Layer3</td>\n",
       "    </tr>\n",
       "    <tr>\n",
       "      <th>2</th>\n",
       "      <td>WM</td>\n",
       "    </tr>\n",
       "    <tr>\n",
       "      <th>3</th>\n",
       "      <td>Layer5</td>\n",
       "    </tr>\n",
       "    <tr>\n",
       "      <th>4</th>\n",
       "      <td>Layer6</td>\n",
       "    </tr>\n",
       "    <tr>\n",
       "      <th>...</th>\n",
       "      <td>...</td>\n",
       "    </tr>\n",
       "    <tr>\n",
       "      <th>472</th>\n",
       "      <td>Layer6</td>\n",
       "    </tr>\n",
       "    <tr>\n",
       "      <th>473</th>\n",
       "      <td>Layer2</td>\n",
       "    </tr>\n",
       "    <tr>\n",
       "      <th>474</th>\n",
       "      <td>Layer5</td>\n",
       "    </tr>\n",
       "    <tr>\n",
       "      <th>475</th>\n",
       "      <td>Layer3</td>\n",
       "    </tr>\n",
       "    <tr>\n",
       "      <th>476</th>\n",
       "      <td>Layer5</td>\n",
       "    </tr>\n",
       "  </tbody>\n",
       "</table>\n",
       "<p>477 rows × 1 columns</p>\n",
       "</div>"
      ],
      "text/plain": [
       "            0\n",
       "label        \n",
       "0      Layer5\n",
       "1      Layer3\n",
       "2          WM\n",
       "3      Layer5\n",
       "4      Layer6\n",
       "...       ...\n",
       "472    Layer6\n",
       "473    Layer2\n",
       "474    Layer5\n",
       "475    Layer3\n",
       "476    Layer5\n",
       "\n",
       "[477 rows x 1 columns]"
      ]
     },
     "execution_count": 101,
     "metadata": {},
     "output_type": "execute_result"
    }
   ],
   "source": [
    "v1 = pd.DataFrame(true_label)\n",
    "v1['label'] = ans_label\n",
    "meta = v1.groupby(\"label\").max()\n",
    "loss1 = 1-(v1.groupby(\"label\").describe()[0]['count'] - v1.groupby(\"label\").describe()[0]['freq']).sum() / (v1.groupby(\"label\").describe()[0]['count'].sum())\n",
    "# v1['ori_index'] = ans_index\n",
    "meta.to_csv(folder_path + \"meta.csv\")\n",
    "meta"
   ]
  },
  {
   "cell_type": "code",
   "execution_count": 148,
   "metadata": {},
   "outputs": [
    {
     "name": "stdout",
     "output_type": "stream",
     "text": [
      "ARI score for adata1:  0.39293331364514145\n"
     ]
    }
   ],
   "source": [
    "labels1 = v1[0].tolist()\n",
    "labels2 = [];\n",
    "for i in range(len(v1)):\n",
    "    temp = meta1.T[v1.iloc[i]['label'] +1][0];\n",
    "    labels2.append(temp)\n",
    "ari = adjusted_rand_score(labels1, labels2)\n",
    "print(\"ARI score for adata1: \", ari)"
   ]
  },
  {
   "cell_type": "code",
   "execution_count": 129,
   "metadata": {},
   "outputs": [
    {
     "data": {
      "text/plain": [
       "2"
      ]
     },
     "execution_count": 129,
     "metadata": {},
     "output_type": "execute_result"
    }
   ],
   "source": [
    "meta1.T[1][0]"
   ]
  },
  {
   "cell_type": "code",
   "execution_count": 58,
   "metadata": {},
   "outputs": [
    {
     "data": {
      "text/html": [
       "<div>\n",
       "<style scoped>\n",
       "    .dataframe tbody tr th:only-of-type {\n",
       "        vertical-align: middle;\n",
       "    }\n",
       "\n",
       "    .dataframe tbody tr th {\n",
       "        vertical-align: top;\n",
       "    }\n",
       "\n",
       "    .dataframe thead th {\n",
       "        text-align: right;\n",
       "    }\n",
       "</style>\n",
       "<table border=\"1\" class=\"dataframe\">\n",
       "  <thead>\n",
       "    <tr style=\"text-align: right;\">\n",
       "      <th></th>\n",
       "      <th>0</th>\n",
       "      <th>indexs</th>\n",
       "    </tr>\n",
       "  </thead>\n",
       "  <tbody>\n",
       "    <tr>\n",
       "      <th>0</th>\n",
       "      <td>0</td>\n",
       "      <td>152</td>\n",
       "    </tr>\n",
       "    <tr>\n",
       "      <th>1</th>\n",
       "      <td>0</td>\n",
       "      <td>806</td>\n",
       "    </tr>\n",
       "    <tr>\n",
       "      <th>2</th>\n",
       "      <td>0</td>\n",
       "      <td>783</td>\n",
       "    </tr>\n",
       "    <tr>\n",
       "      <th>3</th>\n",
       "      <td>0</td>\n",
       "      <td>944</td>\n",
       "    </tr>\n",
       "    <tr>\n",
       "      <th>4</th>\n",
       "      <td>1</td>\n",
       "      <td>954</td>\n",
       "    </tr>\n",
       "    <tr>\n",
       "      <th>...</th>\n",
       "      <td>...</td>\n",
       "      <td>...</td>\n",
       "    </tr>\n",
       "    <tr>\n",
       "      <th>995</th>\n",
       "      <td>472</td>\n",
       "      <td>5</td>\n",
       "    </tr>\n",
       "    <tr>\n",
       "      <th>996</th>\n",
       "      <td>473</td>\n",
       "      <td>795</td>\n",
       "    </tr>\n",
       "    <tr>\n",
       "      <th>997</th>\n",
       "      <td>474</td>\n",
       "      <td>800</td>\n",
       "    </tr>\n",
       "    <tr>\n",
       "      <th>998</th>\n",
       "      <td>475</td>\n",
       "      <td>91</td>\n",
       "    </tr>\n",
       "    <tr>\n",
       "      <th>999</th>\n",
       "      <td>476</td>\n",
       "      <td>119</td>\n",
       "    </tr>\n",
       "  </tbody>\n",
       "</table>\n",
       "<p>1000 rows × 2 columns</p>\n",
       "</div>"
      ],
      "text/plain": [
       "       0  indexs\n",
       "0      0     152\n",
       "1      0     806\n",
       "2      0     783\n",
       "3      0     944\n",
       "4      1     954\n",
       "..   ...     ...\n",
       "995  472       5\n",
       "996  473     795\n",
       "997  474     800\n",
       "998  475      91\n",
       "999  476     119\n",
       "\n",
       "[1000 rows x 2 columns]"
      ]
     },
     "execution_count": 58,
     "metadata": {},
     "output_type": "execute_result"
    }
   ],
   "source": [
    "v2 = pd.DataFrame(ans_label)\n",
    "v2['indexs'] = ans_index\n",
    "v2"
   ]
  },
  {
   "cell_type": "code",
   "execution_count": null,
   "metadata": {},
   "outputs": [],
   "source": []
  },
  {
   "cell_type": "code",
   "execution_count": 94,
   "metadata": {},
   "outputs": [
    {
     "data": {
      "text/plain": [
       "[7.802177762845962,\n",
       " 7.885978664905614,\n",
       " 0.0,\n",
       " 6.506629892593824,\n",
       " 6.325423086707258,\n",
       " 5.803478568343336,\n",
       " 0.0,\n",
       " 3.585566570626579,\n",
       " 3.082890510909787,\n",
       " 8.386951069514275,\n",
       " 6.186193001694826,\n",
       " 8.311527935791027,\n",
       " 7.87510049742702,\n",
       " 0.0,\n",
       " 0.0,\n",
       " 4.3402420162123105,\n",
       " 11.73802439892143,\n",
       " 3.1148350294331495,\n",
       " 6.183819394371031,\n",
       " 4.726305361126882,\n",
       " 5.875322095867595,\n",
       " 5.472365114347238,\n",
       " 3.10531063800002,\n",
       " 3.1053106379999917,\n",
       " 3.095348009492268,\n",
       " 3.580081000604633,\n",
       " 4.337939592838588,\n",
       " 3.114835029433153,\n",
       " 3.106696337039903,\n",
       " 5.400540239999998,\n",
       " 5.378085064632856,\n",
       " 0.0,\n",
       " 4.729266924896926,\n",
       " 4.7362857013986135,\n",
       " 8.552836657986818,\n",
       " 3.0953480094922554,\n",
       " 6.906955102591971,\n",
       " 5.676282640834884,\n",
       " 3.114835029433171,\n",
       " 3.1053921668246782,\n",
       " 3.580081000604633,\n",
       " 4.341250370547469,\n",
       " 6.751884598760163,\n",
       " 0.0,\n",
       " 0.0,\n",
       " 5.372810029846547,\n",
       " 6.492158780229566,\n",
       " 0.0,\n",
       " 4.150658730703984,\n",
       " 3.5726119724916643,\n",
       " 7.520871664131698,\n",
       " 3.114835029433146,\n",
       " 4.731685578391083,\n",
       " 0.0,\n",
       " 3.126112616540416,\n",
       " 3.082890510909787,\n",
       " 4.337939592838578,\n",
       " 3.105392166824664,\n",
       " 6.742454779895721,\n",
       " 3.580081000604633,\n",
       " 4.13251478656164,\n",
       " 0.0,\n",
       " 8.829165774201448,\n",
       " 7.787898072897963,\n",
       " 4.335176744133345,\n",
       " 4.974017013598167,\n",
       " 4.726305361126888,\n",
       " 3.082808387,\n",
       " 3.10531063800002,\n",
       " 7.519424207441996,\n",
       " 6.218483933790999,\n",
       " 6.05621291869184,\n",
       " 0.0,\n",
       " 4.734871598465922,\n",
       " 4.6561256430587745,\n",
       " 3.103679611763211,\n",
       " 3.114835029433146,\n",
       " 0.0,\n",
       " 3.5726119724916736,\n",
       " 3.114835029433153,\n",
       " 3.103679611763211,\n",
       " 6.188159938048379,\n",
       " 4.723854662950833,\n",
       " 9.420872603715209,\n",
       " 6.409959267697923,\n",
       " 4.355964357704852,\n",
       " 5.68811519597968,\n",
       " 5.472365114347243,\n",
       " 6.504032695297795,\n",
       " 5.879718365177819,\n",
       " 0.0,\n",
       " 0.0,\n",
       " 4.996195708505931,\n",
       " 5.353313415996868,\n",
       " 0.0,\n",
       " 0.0,\n",
       " 6.987073753747465,\n",
       " 0.0,\n",
       " 0.0,\n",
       " 0.0,\n",
       " 6.084156725150546,\n",
       " 9.404479626577329,\n",
       " 0.0,\n",
       " 5.353313415996868,\n",
       " 0.0,\n",
       " 3.095348009492268,\n",
       " 0.0,\n",
       " 0.0,\n",
       " 0.0,\n",
       " 5.953799571933492,\n",
       " 9.137095203961646,\n",
       " 0.0,\n",
       " 0.0,\n",
       " 4.329278376485685,\n",
       " 4.145444880329872,\n",
       " 4.335176744133359,\n",
       " 3.103679611763223,\n",
       " 0.0,\n",
       " 3.105310638000006,\n",
       " 4.24382948128058,\n",
       " 7.539291253903086,\n",
       " 3.082890510909787,\n",
       " 5.364604597787989,\n",
       " 3.082808387,\n",
       " 0.0,\n",
       " 3.593035753097927,\n",
       " 5.6878214390906505,\n",
       " 3.580081000604633,\n",
       " 3.082890510909787,\n",
       " 0.0,\n",
       " 0.0,\n",
       " 4.335176744133377,\n",
       " 4.340242016212309,\n",
       " 0.0,\n",
       " 5.353313415996868,\n",
       " 4.2397289438151535,\n",
       " 3.103679611763211,\n",
       " 6.7967893521584895,\n",
       " 6.893803289519181,\n",
       " 3.103679611763211,\n",
       " 0.0,\n",
       " 5.809215198387418,\n",
       " 3.105310638000006,\n",
       " 5.95865721408691,\n",
       " 3.09534800949228,\n",
       " 0.0,\n",
       " 0.0,\n",
       " 4.658433694610226,\n",
       " 7.778869128248304,\n",
       " 3.114835029433146,\n",
       " 4.132514786561654,\n",
       " 3.114835029433146,\n",
       " 5.798258367191368,\n",
       " 0.0,\n",
       " 4.335176744133348,\n",
       " 3.5726119724916714,\n",
       " 3.1036796117632104,\n",
       " 0.0,\n",
       " 6.179278249755581,\n",
       " 3.114835029433146,\n",
       " 0.0,\n",
       " 0.0,\n",
       " 3.0828905109097873,\n",
       " 3.1053106379999917,\n",
       " 0.0,\n",
       " 6.221455302396839,\n",
       " 0.0,\n",
       " 6.210172845388711,\n",
       " 0.0,\n",
       " 3.105392166824664,\n",
       " 5.693030587979884,\n",
       " 3.1053921668246645,\n",
       " 3.082808387,\n",
       " 5.364604597788,\n",
       " 5.694337888422877,\n",
       " 4.331998286317353,\n",
       " 4.3342711403594745,\n",
       " 3.1053921668246645,\n",
       " 0.0,\n",
       " 3.09534800949228,\n",
       " 0.0,\n",
       " 0.0,\n",
       " 0.0,\n",
       " 0.0,\n",
       " 3.10531063800002,\n",
       " 3.105392166824664,\n",
       " 3.082808387,\n",
       " 3.593035753097927,\n",
       " 7.576632735959098,\n",
       " 0.0,\n",
       " 5.445772101365356,\n",
       " 7.224219416646137,\n",
       " 5.375966253049232,\n",
       " 0.0,\n",
       " 5.860290698346386,\n",
       " 4.3402420162123105,\n",
       " 6.1985397860381735,\n",
       " 0.0,\n",
       " 3.114835029433146,\n",
       " 0.0,\n",
       " 0.0,\n",
       " 7.877355887087086,\n",
       " 3.082808387,\n",
       " 6.210172845388711,\n",
       " 3.105392166824693,\n",
       " 3.103679611763211,\n",
       " 6.478657272155142,\n",
       " 3.1036796117632104,\n",
       " 6.215892820259498,\n",
       " 4.34769066626794,\n",
       " 3.114835029433146,\n",
       " 3.1036796117632353,\n",
       " 7.1478402280246085,\n",
       " 4.3297910622803135,\n",
       " 0.0,\n",
       " 0.0,\n",
       " 5.375966253049225,\n",
       " 3.593035753097943,\n",
       " 0.0,\n",
       " 6.189832130762487,\n",
       " 3.114835029433146,\n",
       " 0.0,\n",
       " 10.444397988384825,\n",
       " 5.879718365177828,\n",
       " 3.082808387,\n",
       " 5.364604597787989,\n",
       " 4.241744500582784,\n",
       " 3.1053106379999917,\n",
       " 0.0,\n",
       " 0.0,\n",
       " 5.706450667998851,\n",
       " 3.1261126165404014,\n",
       " 0.0,\n",
       " 0.0,\n",
       " 0.0,\n",
       " 0.0,\n",
       " 3.114835029433153,\n",
       " 6.751884598760166,\n",
       " 8.21211935195317,\n",
       " 0.0,\n",
       " 0.0,\n",
       " 7.562548740765204,\n",
       " 3.095348009492268,\n",
       " 5.375966253049249,\n",
       " 0.0,\n",
       " 3.0828905109097873,\n",
       " 5.400587119486112,\n",
       " 4.249447676951751,\n",
       " 0.0,\n",
       " 0.0,\n",
       " 0.0,\n",
       " 5.805291262928564,\n",
       " 0.0,\n",
       " 3.114835029433146,\n",
       " 3.1053106379999917,\n",
       " 0.0,\n",
       " 5.694514003806968,\n",
       " 3.10531063800002,\n",
       " 5.400587119486112,\n",
       " 3.1036796117632104,\n",
       " 5.431997520621303,\n",
       " 3.1053921668246645,\n",
       " 0.0,\n",
       " 0.0,\n",
       " 8.163505405665825,\n",
       " 6.909538514645625,\n",
       " 0.0,\n",
       " 3.082808387,\n",
       " 6.202858725398413,\n",
       " 0.0,\n",
       " 3.105310638000006,\n",
       " 3.105310638000006,\n",
       " 3.1053921668246645,\n",
       " 0.0,\n",
       " 3.114835029433153,\n",
       " 0.0,\n",
       " 0.0,\n",
       " 0.0,\n",
       " 5.6881151959796865,\n",
       " 3.09534800949228,\n",
       " 8.265458894732266,\n",
       " 0.0,\n",
       " 0.0,\n",
       " 5.375966253049232,\n",
       " 3.105310638000006,\n",
       " 0.0,\n",
       " 4.145444880329853,\n",
       " 0.0,\n",
       " 0.0,\n",
       " 5.375966253049232,\n",
       " 6.725196349652879,\n",
       " 4.337939592838578,\n",
       " 5.699658748354758,\n",
       " 0.0,\n",
       " 3.1036796117631966,\n",
       " 3.114835029433146,\n",
       " 3.103679611763186,\n",
       " 0.0,\n",
       " 6.210172845388704,\n",
       " 6.210172845388711,\n",
       " 3.1036796117632104,\n",
       " 7.519424207442003,\n",
       " 5.699658748354753,\n",
       " 3.5930357530979435,\n",
       " 7.974616606057225,\n",
       " 4.340242016212322,\n",
       " 5.372810029846547,\n",
       " 0.0,\n",
       " 3.103679611763211,\n",
       " 0.0,\n",
       " 0.0,\n",
       " 0.0,\n",
       " 0.0,\n",
       " 0.0,\n",
       " 0.0,\n",
       " 6.389507696248653,\n",
       " 0.0,\n",
       " 0.0,\n",
       " 3.103679611763211,\n",
       " 5.364604597788,\n",
       " 6.1830352198831475,\n",
       " 3.114835029433146,\n",
       " 0.0,\n",
       " 3.095348009492268,\n",
       " 6.872823312430373,\n",
       " 5.395381009794588,\n",
       " 5.375966253049238,\n",
       " 3.1036796117632104,\n",
       " 3.114835029433146,\n",
       " 3.114835029433146,\n",
       " 4.334271140359475,\n",
       " 5.364604597787989,\n",
       " 0.0,\n",
       " 0.0,\n",
       " 3.114835029433153,\n",
       " 0.0,\n",
       " 3.0953480094922803,\n",
       " 0.0,\n",
       " 5.400540239999998,\n",
       " 8.184449491924514,\n",
       " 3.105392166824664,\n",
       " 0.0,\n",
       " 0.0,\n",
       " 0.0,\n",
       " 7.235946476945235,\n",
       " 0.0,\n",
       " 0.0,\n",
       " 4.145444880329853,\n",
       " 3.114835029433146,\n",
       " 0.0,\n",
       " 3.10531063800002,\n",
       " 3.114835029433146,\n",
       " 0.0,\n",
       " 0.0,\n",
       " 0.0,\n",
       " 0.0,\n",
       " 0.0,\n",
       " 0.0,\n",
       " 3.114835029433146,\n",
       " 4.723435788630213,\n",
       " 0.0,\n",
       " 3.1053106379999917,\n",
       " 0.0,\n",
       " 3.1036796117631966,\n",
       " 0.0,\n",
       " 0.0,\n",
       " 0.0,\n",
       " 0.0,\n",
       " 3.114835029433146,\n",
       " 0.0,\n",
       " 3.082890510909787,\n",
       " 0.0,\n",
       " 0.0,\n",
       " 3.082808387,\n",
       " 0.0,\n",
       " 0.0,\n",
       " 3.114835029433146,\n",
       " 0.0,\n",
       " 3.103679611763207,\n",
       " 0.0,\n",
       " 0.0,\n",
       " 0.0,\n",
       " 3.103679611763211,\n",
       " 0.0,\n",
       " 3.114835029433146,\n",
       " 3.114835029433137,\n",
       " 0.0,\n",
       " 3.1053106379999917,\n",
       " 0.0,\n",
       " 3.114835029433152,\n",
       " 3.114835029433146,\n",
       " 0.0,\n",
       " 3.5856408195475,\n",
       " 0.0,\n",
       " 3.11483502943316,\n",
       " 0.0,\n",
       " 0.0,\n",
       " 0.0,\n",
       " 4.7292669248969235,\n",
       " 3.0828905109097873,\n",
       " 3.105310638000006,\n",
       " 0.0,\n",
       " 0.0,\n",
       " 0.0,\n",
       " 0.0,\n",
       " 0.0,\n",
       " 6.190695092487791,\n",
       " 3.095348009492268,\n",
       " 3.105310638000006,\n",
       " 0.0,\n",
       " 3.1053106379999917,\n",
       " 3.1066963370398906,\n",
       " 0.0,\n",
       " 0.0,\n",
       " 0.0,\n",
       " 6.750259169321559,\n",
       " 0.0,\n",
       " 0.0,\n",
       " 0.0,\n",
       " 0.0,\n",
       " 0.0,\n",
       " 0.0,\n",
       " 0.0,\n",
       " 0.0,\n",
       " 0.0,\n",
       " 0.0,\n",
       " 0.0,\n",
       " 0.0,\n",
       " 0.0,\n",
       " 0.0,\n",
       " 5.364604597787989,\n",
       " 0.0,\n",
       " 0.0,\n",
       " 0.0,\n",
       " 0.0,\n",
       " 0.0,\n",
       " 0.0,\n",
       " 3.0953480094922803,\n",
       " 0.0,\n",
       " 0.0,\n",
       " 0.0,\n",
       " 0.0,\n",
       " 0.0,\n",
       " 0.0,\n",
       " 3.103679611763211,\n",
       " 0.0,\n",
       " 0.0,\n",
       " 0.0,\n",
       " 0.0,\n",
       " 0.0,\n",
       " 3.11483502943316,\n",
       " 0.0,\n",
       " 3.1066963370398715,\n",
       " 0.0,\n",
       " 5.378085064632884,\n",
       " 0.0,\n",
       " 3.103679611763223,\n",
       " 0.0,\n",
       " 0.0,\n",
       " 0.0,\n",
       " 0.0,\n",
       " 0.0,\n",
       " 0.0,\n",
       " 0.0,\n",
       " 0.0,\n",
       " 0.0,\n",
       " 0.0,\n",
       " 0.0,\n",
       " 0.0,\n",
       " 0.0,\n",
       " 0.0,\n",
       " 0.0,\n",
       " 0.0,\n",
       " 0.0,\n",
       " 0.0,\n",
       " 0.0,\n",
       " 0.0]"
      ]
     },
     "execution_count": 94,
     "metadata": {},
     "output_type": "execute_result"
    }
   ],
   "source": [
    "result = v2.groupby(v2.columns[0]).agg({'indexs': list})\n",
    "scores = []\n",
    "for i in range(len(result)):\n",
    "    xys = [];\n",
    "    score = 0;\n",
    "    l = result.iloc[i][0]\n",
    "    for j in l:\n",
    "        xys.append(datas.obsm['spatial'][j])\n",
    "    xys = np.array(xys)\n",
    "    # print(xys)\n",
    "    center = xys.mean(0);\n",
    "    for j in xys:\n",
    "        score += np.linalg.norm(j-center)\n",
    "    score = score/len(xys);\n",
    "    scores.append(score)\n",
    "print(np.array(scores).mean())\n",
    "scores"
   ]
  },
  {
   "cell_type": "code",
   "execution_count": 141,
   "metadata": {},
   "outputs": [
    {
     "name": "stdout",
     "output_type": "stream",
     "text": [
      "2.7677222225698133\n"
     ]
    }
   ],
   "source": [
    "print(np.array(scores).mean())\n"
   ]
  },
  {
   "cell_type": "code",
   "execution_count": 113,
   "metadata": {},
   "outputs": [],
   "source": [
    "Spatialpc  = importr('SpatialPCA')\n",
    "ggplot2 = importr('ggplot2')\n",
    "scran = importr('scran')\n",
    "bluster = importr('bluster')\n",
    "matrix = importr('Matrix')\n",
    "# igraph = importr('igraph')\n",
    "robjects.r(\" xys <- read.csv('{}')\".format(folder_path+'annT.csv'));\n",
    "robjects.r(\"g <- buildSNNGraph(xys,k={})\".format(argk))\n",
    "robjects.r(\"walktrap <- walktrap.community(g)\")\n",
    "robjects.r(\"clusters <- membership(walktrap)\")\n",
    "robjects.r(\"write.csv(clusters,file='{}')\".format(folder_path+'cluster.csv'))\n",
    "robjects.globalenv.clear()\n"
   ]
  },
  {
   "cell_type": "code",
   "execution_count": 123,
   "metadata": {},
   "outputs": [
    {
     "name": "stdout",
     "output_type": "stream",
     "text": [
      "ARI score for adata1:  0.4032542586404715\n"
     ]
    }
   ],
   "source": [
    "meta1 = pd.read_csv(folder_path+'cluster.csv')\n",
    "meta1 = meta1.set_index(meta1.columns[0])\n",
    "meta1['x'].tolist()\n",
    "ari = adjusted_rand_score(meta1['x'].tolist(), meta[0].tolist())\n",
    "print(\"ARI score for adata1: \", ari)"
   ]
  },
  {
   "cell_type": "code",
   "execution_count": 46,
   "metadata": {},
   "outputs": [],
   "source": [
    "import numpy as np\n",
    "from sklearn.neighbors import NearestNeighbors\n",
    "\n",
    "def construct_snn_graph(X, t):\n",
    "    # 计算共享最近邻相似度\n",
    "    neigh = NearestNeighbors(n_neighbors=10, algorithm='kd_tree')\n",
    "    neigh.fit(X)\n",
    "    _, indices = neigh.kneighbors(X)\n",
    "    S = np.zeros((X.shape[0], X.shape[0]))\n",
    "    for i in range(X.shape[0]):\n",
    "        for j in range(i+1, X.shape[0]):\n",
    "            s = len(set(indices[i]) & set(indices[j]))\n",
    "            S[i,j] = S[j,i] = s\n",
    "            print(s);\n",
    "    # 构造SNN Graph\n",
    "    W = np.zeros((X.shape[0], X.shape[0]))\n",
    "    for i in range(X.shape[0]):\n",
    "        for j in range(i+1, X.shape[0]):\n",
    "            if S[i,j] >= t:\n",
    "                W[i,j] = W[j,i] = S[i,j]\n",
    "    # 计算节点度\n",
    "    D = np.sum(W, axis=1)\n",
    "    # 返回SNN Graph\n",
    "    return W, D"
   ]
  },
  {
   "cell_type": "code",
   "execution_count": 40,
   "metadata": {},
   "outputs": [],
   "source": [
    "import numpy as np\n",
    "import networkx as nx\n",
    "\n",
    "def walktrap(G, k):\n",
    "    # 转化为无向图\n",
    "    G = G.to_undirected()\n",
    "    # 节点数\n",
    "    N = G.number_of_nodes()\n",
    "    # 初始化权重矩阵\n",
    "    W = np.zeros((N,N))\n",
    "    # 计算节点之间的相似度\n",
    "    for i in range(N):\n",
    "        for j in range(i+1,N):\n",
    "            W[i,j] = W[j,i] = nx.shortest_path_length(G, i, j)\n",
    "    # 计算相似矩阵\n",
    "    S = np.exp(-W/k)\n",
    "    # 初始化社区\n",
    "    communities = [[i] for i in range(N)]\n",
    "    # 迭代聚类过程\n",
    "    while len(communities) > 1:\n",
    "        # 计算社区之间的相似度\n",
    "        Q = np.zeros((len(communities), len(communities)))\n",
    "        for i in range(len(communities)):\n",
    "            for j in range(i+1, len(communities)):\n",
    "                q = 0\n",
    "                for u in communities[i]:\n",
    "                    for v in communities[j]:\n",
    "                        q += S[u,v]\n",
    "                Q[i,j] = Q[j,i] = q\n",
    "        # 合并相似度最大的两个社区\n",
    "        i, j = np.unravel_index(Q.argmax(), Q.shape)\n",
    "        communities[i] += communities[j]\n",
    "        del communities[j]\n",
    "    # 返回社区划分结果\n",
    "    return communities"
   ]
  },
  {
   "cell_type": "code",
   "execution_count": 30,
   "metadata": {},
   "outputs": [
    {
     "name": "stdout",
     "output_type": "stream",
     "text": [
      "./datas/miss/datas.data length:180\n",
      "Generating all pairs superset\n"
     ]
    },
    {
     "name": "stderr",
     "output_type": "stream",
     "text": [
      "100%|██████████| 1563/1563 [01:06<00:00, 23.47ex/s, loss=0.942357] \n"
     ]
    },
    {
     "name": "stdout",
     "output_type": "stream",
     "text": [
      "\t Epoch 0 | average train loss: 0.895025\n",
      "Optimization finished.\n"
     ]
    },
    {
     "name": "stderr",
     "output_type": "stream",
     "text": [
      "100%|██████████| 1563/1563 [01:06<00:00, 23.62ex/s, loss=0.875078] \n"
     ]
    },
    {
     "name": "stdout",
     "output_type": "stream",
     "text": [
      "\t Epoch 1 | average train loss: 0.807154\n",
      "Optimization finished.\n"
     ]
    },
    {
     "name": "stderr",
     "output_type": "stream",
     "text": [
      "100%|██████████| 1563/1563 [01:05<00:00, 23.77ex/s, loss=0.808951] \n"
     ]
    },
    {
     "name": "stdout",
     "output_type": "stream",
     "text": [
      "\t Epoch 2 | average train loss: 0.796907\n",
      "Optimization finished.\n"
     ]
    },
    {
     "name": "stderr",
     "output_type": "stream",
     "text": [
      "100%|██████████| 1563/1563 [01:04<00:00, 24.21ex/s, loss=0.910374] \n"
     ]
    },
    {
     "name": "stdout",
     "output_type": "stream",
     "text": [
      "\t Epoch 3 | average train loss: 0.792815\n",
      "Optimization finished.\n"
     ]
    },
    {
     "name": "stderr",
     "output_type": "stream",
     "text": [
      "100%|██████████| 1563/1563 [01:04<00:00, 24.37ex/s, loss=0.870321] \n"
     ]
    },
    {
     "name": "stdout",
     "output_type": "stream",
     "text": [
      "\t Epoch 4 | average train loss: 0.791253\n",
      "Optimization finished.\n"
     ]
    },
    {
     "name": "stderr",
     "output_type": "stream",
     "text": [
      "100%|██████████| 1563/1563 [01:05<00:00, 23.88ex/s, loss=0.771963] \n"
     ]
    },
    {
     "name": "stdout",
     "output_type": "stream",
     "text": [
      "\t Epoch 5 | average train loss: 0.790972\n",
      "Optimization finished.\n"
     ]
    },
    {
     "name": "stderr",
     "output_type": "stream",
     "text": [
      "100%|██████████| 1563/1563 [01:04<00:00, 24.17ex/s, loss=0.949714] \n"
     ]
    },
    {
     "name": "stdout",
     "output_type": "stream",
     "text": [
      "\t Epoch 6 | average train loss: 0.790738\n",
      "Optimization finished.\n"
     ]
    },
    {
     "name": "stderr",
     "output_type": "stream",
     "text": [
      "100%|██████████| 1563/1563 [01:07<00:00, 23.21ex/s, loss=0.760655] \n"
     ]
    },
    {
     "name": "stdout",
     "output_type": "stream",
     "text": [
      "\t Epoch 7 | average train loss: 0.790817\n",
      "Optimization finished.\n"
     ]
    },
    {
     "name": "stderr",
     "output_type": "stream",
     "text": [
      "100%|██████████| 1563/1563 [01:05<00:00, 24.01ex/s, loss=0.723801] \n"
     ]
    },
    {
     "name": "stdout",
     "output_type": "stream",
     "text": [
      "\t Epoch 8 | average train loss: 0.790755\n",
      "Optimization finished.\n"
     ]
    },
    {
     "name": "stderr",
     "output_type": "stream",
     "text": [
      "100%|██████████| 1563/1563 [01:04<00:00, 24.20ex/s, loss=0.801402] \n"
     ]
    },
    {
     "name": "stdout",
     "output_type": "stream",
     "text": [
      "\t Epoch 9 | average train loss: 0.790883\n",
      "Optimization finished.\n"
     ]
    },
    {
     "data": {
      "image/png": "[encoded data removed]",
      "text/plain": [
       "<Figure size 1500x1500 with 1 Axes>"
      ]
     },
     "metadata": {},
     "output_type": "display_data"
    }
   ],
   "source": [
    "get_Hyper_tree(folder_path+'datas.data',1,adata1.shape[1]+1,0,10,model_path=None,save_path=folder_path,c=-1)\n"
   ]
  },
  {
   "cell_type": "code",
   "execution_count": 50,
   "metadata": {},
   "outputs": [
    {
     "data": {
      "application/vnd.plotly.v1+json": {
       "config": {
        "plotlyServerURL": "https://plot.ly"
       },
       "data": [
        {
         "hoverinfo": "text",
         "marker": {
          "color": [
           0.6086450449642858,
           0.9521462393705415,
           1.298289081091974,
           1.0852341403533177,
           1.6175593433173217,
           1.0541354118159114,
           1.260717230775618,
           1.7907886150119576,
           1.4916050094139637,
           1.3990989466117232,
           1.8757489344638674,
           1.4851994138759987,
           1.8414981226308202,
           1.238357043890051,
           1.221475358427574,
           1.7929127186510065,
           1.8616468272948312,
           1.8116837975318627,
           1.6443669831980874,
           1.810953324023706,
           1.5451084281774972,
           1.758809435327214,
           1.5541249425171668,
           1.3321960285944212,
           2.0008234194638375,
           2.29959557158432,
           2.339754920455471,
           2.2280406222412004,
           2.4128711629515203,
           2.995416235077086,
           2.1059687163107292,
           2.1314690939296894,
           2.496486819969983,
           2.4085509224806017,
           2.902929469618628,
           1.9815303003262394,
           1.9343024054909053,
           2.0616542538648903,
           2.5262539297634192,
           2.53784272951715,
           2.5799067447178983,
           2.49845927169961,
           2.6915075008503435,
           2.6080217630128377,
           2.868025884702876,
           2.512079059894084,
           3.092033867052828,
           2.0306352378325956,
           1.4921856507835383,
           3.519439308839868,
           4.265520390500715,
           3.998632336314526,
           4.620403391244074,
           2.1002478980093726,
           1.8075965280964086,
           1.8488966041218073,
           2.116017188934696,
           1.7600075903195398,
           1.8863177040195465,
           1.8727104937120413,
           2.3257424572545764,
           1.6935826759752457,
           1.9019536306288423,
           1.7303702649074875,
           2.2839821936044324,
           2.4376174741291745,
           2.2247062547500605,
           2.4984189044413907,
           2.1796783465246667,
           2.2131959250353006,
           2.3793802396246893,
           2.488746408196084,
           2.4832329594995337,
           2.911103140535716,
           2.5801612821752062,
           2.3072944377560876,
           3.3645336909139725,
           3.3128720521166737,
           2.961551246155889,
           2.4689260965203634,
           3.610103716483336,
           3.8212967446180532,
           4.093324625519378,
           4.012155507815652,
           4.210646726135651,
           4.6186218383772975,
           3.856460771086168,
           3.5829738232016566,
           3.4976344575559346,
           3.8901542453511224,
           3.448278541317313,
           4.109629869710268,
           2.830233717216413,
           2.400262808403947,
           2.0075858367274364,
           3.2093965919984706,
           3.34071157646301,
           3.0936719533862247,
           3.640997978685925,
           3.753123590548984,
           3.495559015859894,
           4.135096252352156,
           3.8345689318437346,
           4.454751529911588,
           1.1629447249581832,
           1.6228373010254704,
           1.8864633156087267,
           1.4016628357032768,
           1.383174381283511,
           1.2856656305120515,
           1.783582637217797,
           1.6670997975686284,
           1.9399242601631583,
           1.5775076187305193,
           2.0628724605841273,
           1.2423335346910576,
           1.3900933930856572,
           1.3853708437586865,
           1.3318129431576742,
           1.9829719944788908,
           0.909108256877774,
           1.1616626911336765,
           0.8814522175982163,
           1.2834296180319653,
           1.4404374003985196,
           1.4264367338449562,
           1.979705441314409,
           1.2126237712388759,
           1.182714138429051,
           1.40544095326983,
           1.5814477513407479,
           1.6171103520964167,
           1.3129788094018453,
           1.330987221790268,
           1.5235248267189516,
           1.5370851503343883,
           1.6052272973713826,
           1.6821249111567236,
           0.8494265512093636,
           1.3791282971982768,
           1.3921951713537213,
           1.7007896557946423,
           1.772648386196547,
           1.7225287117045165,
           1.2077447709952875,
           1.4155153130578622,
           1.8385765454350438,
           2.247272043083468,
           1.7322984252798521,
           1.753764005358436,
           1.7113001424309855,
           1.8106185290583736,
           1.6997458125838347,
           1.5199330484243727,
           1.8674273917724598,
           1.6176456539308255,
           2.2010647112506754,
           2.245208566960029,
           2.1703246674257017,
           2.4167347361110156,
           2.034846141793807,
           1.2497075593430282,
           1.064419009603577,
           1.6285418039917428,
           1.3850667085553527,
           1.6186762449686711,
           1.5870870936883008,
           1.4340085064357362,
           2.1754165416547226,
           2.2183956801954743,
           2.1394662481816087,
           1.660261305532463,
           1.8762083266919702,
           1.4900606506786405,
           1.9466373294002688,
           1.500245379346944,
           1.1390432481076551,
           1.388314389391571,
           1.3282391946110164,
           1.8928187742916411,
           1.2419420686464337,
           1.5501299342269161,
           1.5477638417277646,
           1.5535968871081522,
           1.3720102100106755,
           1.790137728794123,
           1.4824747196211436,
           2.0206795365300576,
           1.3252066511453613,
           1.5554266028834165,
           1.4186837944883994,
           1.862911373149731,
           2.3662522225182547,
           2.3988911529698074,
           2.3447457408186776,
           2.314910026430826,
           2.4068508592268847,
           2.560505619636831,
           2.2731817240942664,
           1.9826474930944118,
           2.1416020152861712,
           2.0777464580576432,
           2.6941583686017396,
           2.6529097660161973,
           2.8838551665610304,
           1.6637004998463307,
           1.5856205955937286,
           1.934043442542091,
           2.435086664820069,
           2.395991424462169,
           1.39073055440349,
           2.151417505070843,
           1.1722160093686327,
           1.8308440172076341,
           1.721088392158874,
           1.8416082240019696,
           1.6618916666155232,
           2.200047203297809,
           2.9108212821890467,
           1.6557043205787436,
           1.7340365364372614,
           1.9343231871075537,
           1.7305667473614774,
           1.6965001785680895,
           1.9952092487521365,
           2.1087284129626602,
           1.8496306667975053,
           1.7487572373597782,
           1.5269313695055904,
           1.5090807176433712,
           1.568954761884093,
           1.6132127396583713,
           1.804135169154925,
           1.4282875333000518,
           2.4514104645169117,
           2.0771450535962717,
           2.238393567040762,
           2.1412262787540963,
           2.916832545491732,
           1.652676167978991,
           1.9793035140793602,
           2.3548946354442064,
           1.9454384166508605,
           1.452694201537762,
           1.674613217925479,
           1.5027304757472482,
           2.6025120692051673,
           2.997974809490514,
           2.2602084160517304,
           2.635673819140574,
           1.9410310524457577,
           2.408030485944546,
           2.758967531195279,
           2.3071243455863066,
           2.3125116677318,
           2.3017652199192606,
           2.2731678204499004,
           2.3488024954162303,
           1.5978873720093207,
           2.0618593797195546,
           2.1388824236691355,
           2.2525624453878414,
           2.5768682658507864,
           2.6142003591048932,
           2.4330356791164145,
           2.883634163058901,
           2.544985479380158,
           2.6487269846352426,
           2.470865590135823,
           2.480896703617639,
           2.506592656075013,
           2.403402251246191,
           2.175543005949532,
           2.724341515704573,
           2.674478357707155,
           2.6441421025241794,
           2.8332161617876057,
           2.2430267506462456,
           2.2270516630642225,
           2.431428154476083,
           2.026125846498716,
           3.081712449660521,
           2.1288998622738124,
           2.086326814018793,
           2.2949280212749366,
           2.328358256001093,
           2.4423630871535025,
           2.317188221658637,
           2.3499578184246968,
           2.2208168203509864,
           2.1929583890398923,
           2.4855077517465918,
           2.5197402945957186,
           2.897599617345181,
           2.27842295242944,
           2.6090384024266817,
           2.217705603624366,
           2.345058414329423,
           2.2944524600571774,
           2.4530399360857245,
           2.6224199103989374,
           3.006986744566643,
           2.37895915569518,
           3.070641177615642,
           1.8388278804331228,
           2.4631733301693846,
           2.4329720221619793,
           2.224860160029392,
           2.8427851662118346,
           1.8679894167674973,
           2.680583361434428,
           2.8086750938120164,
           3.0405096534741527,
           2.7683862087526125,
           2.613327578597477,
           2.6284321487877778,
           2.8113025950809893,
           2.57163688608133,
           2.701860084788817,
           2.7247065512101947,
           2.812365632146,
           3.1251376982759496,
           2.940421170886318,
           2.47064069948801,
           2.449986266769624,
           2.752775658938325,
           2.662285169065998,
           2.924155446545797,
           2.336758003856024,
           2.8625205380953895,
           1.9181284138505195,
           1.472392840367532,
           2.4627208779690477,
           2.600520365776402,
           2.803256996597974,
           2.975733011154339,
           2.7338512278357094,
           2.5674608480225394,
           2.5607775989368338,
           3.0838692192350687,
           2.357411584391364,
           2.1046238215092994,
           2.8167595057060186,
           2.6219586652122735,
           2.753063739878839,
           2.6153782507049894,
           2.8789079533111903,
           2.711771153546949,
           2.59306997070088,
           3.058554947265385,
           1.3041306286113847,
           1.4017671420171869,
           1.5602847870820806,
           1.373316360006067,
           1.2824240198287686,
           1.7797789011061547,
           1.8578022629276252,
           1.743189470443102,
           2.000796398343402
          ],
          "colorscale": [
           [
            0,
            "rgb(253, 224, 197)"
           ],
           [
            0.16666666666666666,
            "rgb(250, 203, 166)"
           ],
           [
            0.3333333333333333,
            "rgb(248, 181, 139)"
           ],
           [
            0.5,
            "rgb(245, 158, 114)"
           ],
           [
            0.6666666666666666,
            "rgb(242, 133, 93)"
           ],
           [
            0.8333333333333334,
            "rgb(239, 106, 76)"
           ],
           [
            1,
            "rgb(235, 74, 64)"
           ]
          ],
          "showscale": true,
          "size": 50,
          "symbol": "circle-dot"
         },
         "mode": "markers+text",
         "opacity": 0.8,
         "text": [
          "358",
          "353",
          "175",
          "352",
          "81",
          "350",
          "344",
          "342",
          "332",
          "322",
          "135",
          "248",
          "6",
          "243",
          "52",
          "230",
          "109",
          "170",
          "323",
          "167",
          "287",
          "91",
          "238",
          "122",
          "144",
          "340",
          "327",
          "302",
          "211",
          "22",
          "72",
          "298",
          "181",
          "17",
          "172",
          "294",
          "25",
          "178",
          "317",
          "134",
          "290",
          "89",
          "225",
          "11",
          "138",
          "328",
          "297",
          "237",
          "4",
          "19",
          "251",
          "152",
          "177",
          "316",
          "299",
          "198",
          "61",
          "161",
          "249",
          "184",
          "10",
          "24",
          "245",
          "67",
          "224",
          "174",
          "179",
          "304",
          "283",
          "164",
          "269",
          "29",
          "114",
          "291",
          "206",
          "107",
          "141",
          "286",
          "268",
          "34",
          "257",
          "242",
          "209",
          "96",
          "199",
          "80",
          "162",
          "220",
          "3",
          "76",
          "244",
          "63",
          "189",
          "182",
          "50",
          "123",
          "183",
          "57",
          "132",
          "282",
          "28",
          "233",
          "5",
          "165",
          "343",
          "338",
          "9",
          "331",
          "263",
          "36",
          "258",
          "77",
          "129",
          "330",
          "169",
          "285",
          "12",
          "265",
          "55",
          "100",
          "341",
          "111",
          "326",
          "160",
          "254",
          "0",
          "173",
          "349",
          "347",
          "315",
          "88",
          "131",
          "346",
          "98",
          "166",
          "348",
          "43",
          "142",
          "357",
          "351",
          "307",
          "296",
          "83",
          "154",
          "303",
          "45",
          "267",
          "42",
          "228",
          "37",
          "203",
          "38",
          "86",
          "339",
          "329",
          "1",
          "314",
          "163",
          "280",
          "147",
          "158",
          "337",
          "325",
          "41",
          "46",
          "335",
          "264",
          "65",
          "201",
          "8",
          "105",
          "289",
          "136",
          "260",
          "71",
          "99",
          "356",
          "345",
          "309",
          "53",
          "75",
          "324",
          "171",
          "207",
          "13",
          "145",
          "355",
          "157",
          "354",
          "18",
          "336",
          "333",
          "292",
          "101",
          "276",
          "106",
          "241",
          "2",
          "155",
          "321",
          "94",
          "320",
          "205",
          "16",
          "139",
          "319",
          "293",
          "272",
          "47",
          "117",
          "278",
          "40",
          "84",
          "312",
          "308",
          "275",
          "39",
          "215",
          "21",
          "78",
          "305",
          "73",
          "191",
          "56",
          "87",
          "311",
          "277",
          "253",
          "214",
          "185",
          "60",
          "90",
          "202",
          "66",
          "137",
          "231",
          "168",
          "186",
          "59",
          "125",
          "266",
          "23",
          "252",
          "200",
          "110",
          "116",
          "236",
          "20",
          "216",
          "32",
          "140",
          "301",
          "74",
          "221",
          "159",
          "219",
          "119",
          "120",
          "334",
          "313",
          "70",
          "310",
          "300",
          "194",
          "51",
          "102",
          "273",
          "150",
          "256",
          "54",
          "226",
          "212",
          "31",
          "62",
          "218",
          "126",
          "146",
          "306",
          "271",
          "229",
          "49",
          "82",
          "250",
          "151",
          "192",
          "35",
          "69",
          "295",
          "217",
          "188",
          "95",
          "148",
          "190",
          "93",
          "180",
          "26",
          "133",
          "288",
          "274",
          "193",
          "33",
          "68",
          "259",
          "97",
          "113",
          "284",
          "246",
          "187",
          "143",
          "176",
          "235",
          "213",
          "30",
          "103",
          "227",
          "130",
          "149",
          "281",
          "247",
          "121",
          "232",
          "7",
          "79",
          "270",
          "222",
          "197",
          "92",
          "156",
          "210",
          "112",
          "208",
          "58",
          "124",
          "261",
          "239",
          "115",
          "153",
          "255",
          "223",
          "14",
          "195",
          "118",
          "128",
          "240",
          "15",
          "234",
          "44",
          "204",
          "48",
          "85",
          "318",
          "104",
          "279",
          "196",
          "27",
          "108",
          "262",
          "64",
          "127"
         ],
         "textfont": {
          "color": "#000000",
          "family": "sans serif",
          "size": 18
         },
         "type": "scatter",
         "x": [
          5.5,
          3.25,
          2.125,
          4.375,
          3.8125,
          4.9375,
          4.65625,
          4.515625,
          4.4453125,
          4.41015625,
          4.392578125,
          4.427734375,
          4.4189453125,
          4.4365234375,
          4.43212890625,
          4.44091796875,
          4.438720703125,
          4.443115234375,
          4.48046875,
          4.462890625,
          4.498046875,
          4.4892578125,
          4.5068359375,
          4.50244140625,
          4.51123046875,
          4.5859375,
          4.55078125,
          4.533203125,
          4.5244140625,
          4.52001953125,
          4.52880859375,
          4.5419921875,
          4.53759765625,
          4.535400390625,
          4.539794921875,
          4.54638671875,
          4.544189453125,
          4.548583984375,
          4.568359375,
          4.5595703125,
          4.5771484375,
          4.57275390625,
          4.58154296875,
          4.579345703125,
          4.583740234375,
          4.62109375,
          4.603515625,
          4.5947265625,
          4.59033203125,
          4.59912109375,
          4.6123046875,
          4.60791015625,
          4.61669921875,
          4.638671875,
          4.6298828125,
          4.62548828125,
          4.623291015625,
          4.627685546875,
          4.63427734375,
          4.632080078125,
          4.6309814453125,
          4.6331787109375,
          4.636474609375,
          4.6353759765625,
          4.6375732421875,
          4.63702392578125,
          4.63812255859375,
          4.6474609375,
          4.64306640625,
          4.640869140625,
          4.645263671875,
          4.6441650390625,
          4.6463623046875,
          4.65185546875,
          4.649658203125,
          4.6485595703125,
          4.6507568359375,
          4.654052734375,
          4.6529541015625,
          4.65240478515625,
          4.65350341796875,
          4.653228759765625,
          4.6530914306640625,
          4.653022766113281,
          4.653160095214844,
          4.653125762939453,
          4.653194427490234,
          4.6533660888671875,
          4.653297424316406,
          4.653434753417969,
          4.653778076171875,
          4.6536407470703125,
          4.6539154052734375,
          4.653846740722656,
          4.653812408447266,
          4.653881072998047,
          4.653984069824219,
          4.653949737548828,
          4.654018402099609,
          4.6551513671875,
          4.65460205078125,
          4.65570068359375,
          4.655426025390625,
          4.655975341796875,
          4.796875,
          4.7265625,
          4.69140625,
          4.76171875,
          4.744140625,
          4.7353515625,
          4.7529296875,
          4.74853515625,
          4.75732421875,
          4.779296875,
          4.7705078125,
          4.7880859375,
          4.78369140625,
          4.79248046875,
          4.790283203125,
          4.794677734375,
          4.8671875,
          4.83203125,
          4.90234375,
          4.884765625,
          4.919921875,
          4.9111328125,
          4.9287109375,
          5.21875,
          5.078125,
          5.0078125,
          4.97265625,
          5.04296875,
          5.1484375,
          5.11328125,
          5.18359375,
          5.359375,
          5.2890625,
          5.4296875,
          7.75,
          6.625,
          6.0625,
          5.78125,
          5.640625,
          5.921875,
          6.34375,
          6.203125,
          6.484375,
          6.4140625,
          6.5546875,
          6.51953125,
          6.58984375,
          6.572265625,
          6.607421875,
          7.1875,
          6.90625,
          6.765625,
          7.046875,
          6.9765625,
          7.1171875,
          7.08203125,
          7.15234375,
          7.46875,
          7.328125,
          7.2578125,
          7.3984375,
          7.609375,
          7.5390625,
          7.50390625,
          7.57421875,
          7.556640625,
          7.591796875,
          7.6796875,
          7.64453125,
          7.71484375,
          7.697265625,
          7.732421875,
          8.875,
          8.3125,
          8.03125,
          7.890625,
          8.171875,
          8.59375,
          8.453125,
          8.734375,
          8.6640625,
          8.8046875,
          9.4375,
          9.15625,
          9.71875,
          9.578125,
          9.859375,
          9.7890625,
          9.75390625,
          9.736328125,
          9.771484375,
          9.7626953125,
          9.7802734375,
          9.77587890625,
          9.78466796875,
          9.82421875,
          9.806640625,
          9.841796875,
          9.8330078125,
          9.82861328125,
          9.83740234375,
          9.8505859375,
          9.84619140625,
          9.843994140625,
          9.8428955078125,
          9.8450927734375,
          9.848388671875,
          9.8472900390625,
          9.8494873046875,
          9.85498046875,
          9.852783203125,
          9.8516845703125,
          9.85113525390625,
          9.85223388671875,
          9.851959228515625,
          9.852508544921875,
          9.8538818359375,
          9.85333251953125,
          9.85443115234375,
          9.854156494140625,
          9.854705810546875,
          9.857177734375,
          9.8560791015625,
          9.85552978515625,
          9.855255126953125,
          9.855117797851562,
          9.855049133300781,
          9.855186462402344,
          9.855392456054688,
          9.855323791503906,
          9.855461120605469,
          9.855804443359375,
          9.855667114257812,
          9.855941772460938,
          9.855873107910156,
          9.856010437011719,
          9.85662841796875,
          9.856353759765625,
          9.856903076171875,
          9.856765747070312,
          9.856697082519531,
          9.856834411621094,
          9.857040405273438,
          9.856971740722656,
          9.857109069824219,
          9.857074737548828,
          9.85714340209961,
          9.8582763671875,
          9.85772705078125,
          9.85882568359375,
          9.858551025390625,
          9.859100341796875,
          9.858963012695312,
          9.859237670898438,
          9.9296875,
          9.89453125,
          9.876953125,
          9.912109375,
          9.9033203125,
          9.89892578125,
          9.896728515625,
          9.901123046875,
          9.90771484375,
          9.905517578125,
          9.909912109375,
          9.9088134765625,
          9.9110107421875,
          9.91046142578125,
          9.910186767578125,
          9.910736083984375,
          9.91156005859375,
          9.911285400390625,
          9.911834716796875,
          9.9208984375,
          9.91650390625,
          9.914306640625,
          9.9132080078125,
          9.9154052734375,
          9.918701171875,
          9.9176025390625,
          9.9197998046875,
          9.91925048828125,
          9.92034912109375,
          9.92529296875,
          9.923095703125,
          9.9219970703125,
          9.92144775390625,
          9.92254638671875,
          9.9241943359375,
          9.92364501953125,
          9.92474365234375,
          9.924468994140625,
          9.925018310546875,
          9.927490234375,
          9.9263916015625,
          9.92584228515625,
          9.925567626953125,
          9.926116943359375,
          9.92694091796875,
          9.926666259765625,
          9.927215576171875,
          9.9285888671875,
          9.92803955078125,
          9.927764892578125,
          9.927627563476562,
          9.927902221679688,
          9.928314208984375,
          9.928176879882812,
          9.928108215332031,
          9.928245544433594,
          9.928451538085938,
          9.928382873535156,
          9.928520202636719,
          9.92913818359375,
          9.928863525390625,
          9.928726196289062,
          9.929000854492188,
          9.928932189941406,
          9.929069519042969,
          9.929412841796875,
          9.929275512695312,
          9.929206848144531,
          9.92917251586914,
          9.929241180419922,
          9.929344177246094,
          9.929309844970703,
          9.929378509521484,
          9.929361343383789,
          9.92939567565918,
          9.929550170898438,
          9.929481506347656,
          9.929447174072266,
          9.929515838623047,
          9.929618835449219,
          9.929584503173828,
          9.929567337036133,
          9.929601669311523,
          9.929593086242676,
          9.929610252380371,
          9.92965316772461,
          9.929636001586914,
          9.929670333862305,
          9.929661750793457,
          9.929678916931152,
          9.929674625396729,
          9.929683208465576,
          9.96484375,
          9.947265625,
          9.982421875,
          9.9736328125,
          9.96923828125,
          9.97802734375,
          9.9912109375,
          9.98681640625,
          9.99560546875
         ],
         "y": [
          5,
          3.5,
          2,
          2,
          0.5,
          0.5,
          -1,
          -2.5,
          -4,
          -5.5,
          -7,
          -7,
          -8.5,
          -8.5,
          -10,
          -10,
          -11.5,
          -11.5,
          -5.5,
          -7,
          -7,
          -8.5,
          -8.5,
          -10,
          -10,
          -4,
          -5.5,
          -7,
          -8.5,
          -10,
          -10,
          -8.5,
          -10,
          -11.5,
          -11.5,
          -10,
          -11.5,
          -11.5,
          -7,
          -8.5,
          -8.5,
          -10,
          -10,
          -11.5,
          -11.5,
          -5.5,
          -7,
          -8.5,
          -10,
          -10,
          -8.5,
          -10,
          -10,
          -7,
          -8.5,
          -10,
          -11.5,
          -11.5,
          -10,
          -11.5,
          -13,
          -13,
          -11.5,
          -13,
          -13,
          -14.5,
          -14.5,
          -8.5,
          -10,
          -11.5,
          -11.5,
          -13,
          -13,
          -10,
          -11.5,
          -13,
          -13,
          -11.5,
          -13,
          -14.5,
          -14.5,
          -16,
          -17.5,
          -19,
          -19,
          -20.5,
          -20.5,
          -17.5,
          -19,
          -19,
          -16,
          -17.5,
          -17.5,
          -19,
          -20.5,
          -20.5,
          -19,
          -20.5,
          -20.5,
          -13,
          -14.5,
          -14.5,
          -16,
          -16,
          -2.5,
          -4,
          -5.5,
          -5.5,
          -7,
          -8.5,
          -8.5,
          -10,
          -10,
          -7,
          -8.5,
          -8.5,
          -10,
          -10,
          -11.5,
          -11.5,
          -4,
          -5.5,
          -5.5,
          -7,
          -7,
          -8.5,
          -8.5,
          -1,
          -2.5,
          -4,
          -5.5,
          -5.5,
          -4,
          -5.5,
          -5.5,
          -2.5,
          -4,
          -4,
          3.5,
          2,
          0.5,
          -1,
          -2.5,
          -2.5,
          -1,
          -2.5,
          -2.5,
          -4,
          -4,
          -5.5,
          -5.5,
          -7,
          -7,
          0.5,
          -1,
          -2.5,
          -2.5,
          -4,
          -4,
          -5.5,
          -5.5,
          -1,
          -2.5,
          -4,
          -4,
          -2.5,
          -4,
          -5.5,
          -5.5,
          -7,
          -7,
          -4,
          -5.5,
          -5.5,
          -7,
          -7,
          2,
          0.5,
          -1,
          -2.5,
          -2.5,
          -1,
          -2.5,
          -2.5,
          -4,
          -4,
          0.5,
          -1,
          -1,
          -2.5,
          -2.5,
          -4,
          -5.5,
          -7,
          -7,
          -8.5,
          -8.5,
          -10,
          -10,
          -5.5,
          -7,
          -7,
          -8.5,
          -10,
          -10,
          -8.5,
          -10,
          -11.5,
          -13,
          -13,
          -11.5,
          -13,
          -13,
          -10,
          -11.5,
          -13,
          -14.5,
          -14.5,
          -16,
          -16,
          -13,
          -14.5,
          -14.5,
          -16,
          -16,
          -11.5,
          -13,
          -14.5,
          -16,
          -17.5,
          -19,
          -19,
          -17.5,
          -19,
          -19,
          -16,
          -17.5,
          -17.5,
          -19,
          -19,
          -14.5,
          -16,
          -16,
          -17.5,
          -19,
          -19,
          -17.5,
          -19,
          -19,
          -20.5,
          -20.5,
          -13,
          -14.5,
          -14.5,
          -16,
          -16,
          -17.5,
          -17.5,
          -4,
          -5.5,
          -7,
          -7,
          -8.5,
          -10,
          -11.5,
          -11.5,
          -10,
          -11.5,
          -11.5,
          -13,
          -13,
          -14.5,
          -16,
          -16,
          -14.5,
          -16,
          -16,
          -8.5,
          -10,
          -11.5,
          -13,
          -13,
          -11.5,
          -13,
          -13,
          -14.5,
          -14.5,
          -10,
          -11.5,
          -13,
          -14.5,
          -14.5,
          -13,
          -14.5,
          -14.5,
          -16,
          -16,
          -11.5,
          -13,
          -14.5,
          -16,
          -16,
          -14.5,
          -16,
          -16,
          -13,
          -14.5,
          -16,
          -17.5,
          -17.5,
          -16,
          -17.5,
          -19,
          -19,
          -17.5,
          -19,
          -19,
          -14.5,
          -16,
          -17.5,
          -17.5,
          -19,
          -19,
          -16,
          -17.5,
          -19,
          -20.5,
          -20.5,
          -19,
          -20.5,
          -20.5,
          -22,
          -22,
          -17.5,
          -19,
          -20.5,
          -20.5,
          -19,
          -20.5,
          -22,
          -22,
          -23.5,
          -23.5,
          -20.5,
          -22,
          -22,
          -23.5,
          -23.5,
          -25,
          -25,
          -5.5,
          -7,
          -7,
          -8.5,
          -10,
          -10,
          -8.5,
          -10,
          -10
         ]
        }
       ],
       "layout": {
        "height": 500,
        "shapes": [
         {
          "layer": "below",
          "line": {
           "color": "#333",
           "width": 4
          },
          "type": "line",
          "x0": 5.5,
          "x1": 5.5,
          "y0": 5,
          "y1": 5
         },
         {
          "layer": "below",
          "line": {
           "color": "#333",
           "width": 4
          },
          "type": "line",
          "x0": 5.5,
          "x1": 3.25,
          "y0": 5,
          "y1": 3.5
         },
         {
          "layer": "below",
          "line": {
           "color": "#333",
           "width": 4
          },
          "type": "line",
          "x0": 3.25,
          "x1": 2.125,
          "y0": 3.5,
          "y1": 2
         },
         {
          "layer": "below",
          "line": {
           "color": "#333",
           "width": 4
          },
          "type": "line",
          "x0": 3.25,
          "x1": 4.375,
          "y0": 3.5,
          "y1": 2
         },
         {
          "layer": "below",
          "line": {
           "color": "#333",
           "width": 4
          },
          "type": "line",
          "x0": 4.375,
          "x1": 3.8125,
          "y0": 2,
          "y1": 0.5
         },
         {
          "layer": "below",
          "line": {
           "color": "#333",
           "width": 4
          },
          "type": "line",
          "x0": 4.375,
          "x1": 4.9375,
          "y0": 2,
          "y1": 0.5
         },
         {
          "layer": "below",
          "line": {
           "color": "#333",
           "width": 4
          },
          "type": "line",
          "x0": 4.9375,
          "x1": 4.65625,
          "y0": 0.5,
          "y1": -1
         },
         {
          "layer": "below",
          "line": {
           "color": "#333",
           "width": 4
          },
          "type": "line",
          "x0": 4.65625,
          "x1": 4.515625,
          "y0": -1,
          "y1": -2.5
         },
         {
          "layer": "below",
          "line": {
           "color": "#333",
           "width": 4
          },
          "type": "line",
          "x0": 4.515625,
          "x1": 4.4453125,
          "y0": -2.5,
          "y1": -4
         },
         {
          "layer": "below",
          "line": {
           "color": "#333",
           "width": 4
          },
          "type": "line",
          "x0": 4.4453125,
          "x1": 4.41015625,
          "y0": -4,
          "y1": -5.5
         },
         {
          "layer": "below",
          "line": {
           "color": "#333",
           "width": 4
          },
          "type": "line",
          "x0": 4.41015625,
          "x1": 4.392578125,
          "y0": -5.5,
          "y1": -7
         },
         {
          "layer": "below",
          "line": {
           "color": "#333",
           "width": 4
          },
          "type": "line",
          "x0": 4.41015625,
          "x1": 4.427734375,
          "y0": -5.5,
          "y1": -7
         },
         {
          "layer": "below",
          "line": {
           "color": "#333",
           "width": 4
          },
          "type": "line",
          "x0": 4.427734375,
          "x1": 4.4189453125,
          "y0": -7,
          "y1": -8.5
         },
         {
          "layer": "below",
          "line": {
           "color": "#333",
           "width": 4
          },
          "type": "line",
          "x0": 4.427734375,
          "x1": 4.4365234375,
          "y0": -7,
          "y1": -8.5
         },
         {
          "layer": "below",
          "line": {
           "color": "#333",
           "width": 4
          },
          "type": "line",
          "x0": 4.4365234375,
          "x1": 4.43212890625,
          "y0": -8.5,
          "y1": -10
         },
         {
          "layer": "below",
          "line": {
           "color": "#333",
           "width": 4
          },
          "type": "line",
          "x0": 4.4365234375,
          "x1": 4.44091796875,
          "y0": -8.5,
          "y1": -10
         },
         {
          "layer": "below",
          "line": {
           "color": "#333",
           "width": 4
          },
          "type": "line",
          "x0": 4.44091796875,
          "x1": 4.438720703125,
          "y0": -10,
          "y1": -11.5
         },
         {
          "layer": "below",
          "line": {
           "color": "#333",
           "width": 4
          },
          "type": "line",
          "x0": 4.44091796875,
          "x1": 4.443115234375,
          "y0": -10,
          "y1": -11.5
         },
         {
          "layer": "below",
          "line": {
           "color": "#333",
           "width": 4
          },
          "type": "line",
          "x0": 4.4453125,
          "x1": 4.48046875,
          "y0": -4,
          "y1": -5.5
         },
         {
          "layer": "below",
          "line": {
           "color": "#333",
           "width": 4
          },
          "type": "line",
          "x0": 4.48046875,
          "x1": 4.462890625,
          "y0": -5.5,
          "y1": -7
         },
         {
          "layer": "below",
          "line": {
           "color": "#333",
           "width": 4
          },
          "type": "line",
          "x0": 4.48046875,
          "x1": 4.498046875,
          "y0": -5.5,
          "y1": -7
         },
         {
          "layer": "below",
          "line": {
           "color": "#333",
           "width": 4
          },
          "type": "line",
          "x0": 4.498046875,
          "x1": 4.4892578125,
          "y0": -7,
          "y1": -8.5
         },
         {
          "layer": "below",
          "line": {
           "color": "#333",
           "width": 4
          },
          "type": "line",
          "x0": 4.498046875,
          "x1": 4.5068359375,
          "y0": -7,
          "y1": -8.5
         },
         {
          "layer": "below",
          "line": {
           "color": "#333",
           "width": 4
          },
          "type": "line",
          "x0": 4.5068359375,
          "x1": 4.50244140625,
          "y0": -8.5,
          "y1": -10
         },
         {
          "layer": "below",
          "line": {
           "color": "#333",
           "width": 4
          },
          "type": "line",
          "x0": 4.5068359375,
          "x1": 4.51123046875,
          "y0": -8.5,
          "y1": -10
         },
         {
          "layer": "below",
          "line": {
           "color": "#333",
           "width": 4
          },
          "type": "line",
          "x0": 4.515625,
          "x1": 4.5859375,
          "y0": -2.5,
          "y1": -4
         },
         {
          "layer": "below",
          "line": {
           "color": "#333",
           "width": 4
          },
          "type": "line",
          "x0": 4.5859375,
          "x1": 4.55078125,
          "y0": -4,
          "y1": -5.5
         },
         {
          "layer": "below",
          "line": {
           "color": "#333",
           "width": 4
          },
          "type": "line",
          "x0": 4.55078125,
          "x1": 4.533203125,
          "y0": -5.5,
          "y1": -7
         },
         {
          "layer": "below",
          "line": {
           "color": "#333",
           "width": 4
          },
          "type": "line",
          "x0": 4.533203125,
          "x1": 4.5244140625,
          "y0": -7,
          "y1": -8.5
         },
         {
          "layer": "below",
          "line": {
           "color": "#333",
           "width": 4
          },
          "type": "line",
          "x0": 4.5244140625,
          "x1": 4.52001953125,
          "y0": -8.5,
          "y1": -10
         },
         {
          "layer": "below",
          "line": {
           "color": "#333",
           "width": 4
          },
          "type": "line",
          "x0": 4.5244140625,
          "x1": 4.52880859375,
          "y0": -8.5,
          "y1": -10
         },
         {
          "layer": "below",
          "line": {
           "color": "#333",
           "width": 4
          },
          "type": "line",
          "x0": 4.533203125,
          "x1": 4.5419921875,
          "y0": -7,
          "y1": -8.5
         },
         {
          "layer": "below",
          "line": {
           "color": "#333",
           "width": 4
          },
          "type": "line",
          "x0": 4.5419921875,
          "x1": 4.53759765625,
          "y0": -8.5,
          "y1": -10
         },
         {
          "layer": "below",
          "line": {
           "color": "#333",
           "width": 4
          },
          "type": "line",
          "x0": 4.53759765625,
          "x1": 4.535400390625,
          "y0": -10,
          "y1": -11.5
         },
         {
          "layer": "below",
          "line": {
           "color": "#333",
           "width": 4
          },
          "type": "line",
          "x0": 4.53759765625,
          "x1": 4.539794921875,
          "y0": -10,
          "y1": -11.5
         },
         {
          "layer": "below",
          "line": {
           "color": "#333",
           "width": 4
          },
          "type": "line",
          "x0": 4.5419921875,
          "x1": 4.54638671875,
          "y0": -8.5,
          "y1": -10
         },
         {
          "layer": "below",
          "line": {
           "color": "#333",
           "width": 4
          },
          "type": "line",
          "x0": 4.54638671875,
          "x1": 4.544189453125,
          "y0": -10,
          "y1": -11.5
         },
         {
          "layer": "below",
          "line": {
           "color": "#333",
           "width": 4
          },
          "type": "line",
          "x0": 4.54638671875,
          "x1": 4.548583984375,
          "y0": -10,
          "y1": -11.5
         },
         {
          "layer": "below",
          "line": {
           "color": "#333",
           "width": 4
          },
          "type": "line",
          "x0": 4.55078125,
          "x1": 4.568359375,
          "y0": -5.5,
          "y1": -7
         },
         {
          "layer": "below",
          "line": {
           "color": "#333",
           "width": 4
          },
          "type": "line",
          "x0": 4.568359375,
          "x1": 4.5595703125,
          "y0": -7,
          "y1": -8.5
         },
         {
          "layer": "below",
          "line": {
           "color": "#333",
           "width": 4
          },
          "type": "line",
          "x0": 4.568359375,
          "x1": 4.5771484375,
          "y0": -7,
          "y1": -8.5
         },
         {
          "layer": "below",
          "line": {
           "color": "#333",
           "width": 4
          },
          "type": "line",
          "x0": 4.5771484375,
          "x1": 4.57275390625,
          "y0": -8.5,
          "y1": -10
         },
         {
          "layer": "below",
          "line": {
           "color": "#333",
           "width": 4
          },
          "type": "line",
          "x0": 4.5771484375,
          "x1": 4.58154296875,
          "y0": -8.5,
          "y1": -10
         },
         {
          "layer": "below",
          "line": {
           "color": "#333",
           "width": 4
          },
          "type": "line",
          "x0": 4.58154296875,
          "x1": 4.579345703125,
          "y0": -10,
          "y1": -11.5
         },
         {
          "layer": "below",
          "line": {
           "color": "#333",
           "width": 4
          },
          "type": "line",
          "x0": 4.58154296875,
          "x1": 4.583740234375,
          "y0": -10,
          "y1": -11.5
         },
         {
          "layer": "below",
          "line": {
           "color": "#333",
           "width": 4
          },
          "type": "line",
          "x0": 4.5859375,
          "x1": 4.62109375,
          "y0": -4,
          "y1": -5.5
         },
         {
          "layer": "below",
          "line": {
           "color": "#333",
           "width": 4
          },
          "type": "line",
          "x0": 4.62109375,
          "x1": 4.603515625,
          "y0": -5.5,
          "y1": -7
         },
         {
          "layer": "below",
          "line": {
           "color": "#333",
           "width": 4
          },
          "type": "line",
          "x0": 4.603515625,
          "x1": 4.5947265625,
          "y0": -7,
          "y1": -8.5
         },
         {
          "layer": "below",
          "line": {
           "color": "#333",
           "width": 4
          },
          "type": "line",
          "x0": 4.5947265625,
          "x1": 4.59033203125,
          "y0": -8.5,
          "y1": -10
         },
         {
          "layer": "below",
          "line": {
           "color": "#333",
           "width": 4
          },
          "type": "line",
          "x0": 4.5947265625,
          "x1": 4.59912109375,
          "y0": -8.5,
          "y1": -10
         },
         {
          "layer": "below",
          "line": {
           "color": "#333",
           "width": 4
          },
          "type": "line",
          "x0": 4.603515625,
          "x1": 4.6123046875,
          "y0": -7,
          "y1": -8.5
         },
         {
          "layer": "below",
          "line": {
           "color": "#333",
           "width": 4
          },
          "type": "line",
          "x0": 4.6123046875,
          "x1": 4.60791015625,
          "y0": -8.5,
          "y1": -10
         },
         {
          "layer": "below",
          "line": {
           "color": "#333",
           "width": 4
          },
          "type": "line",
          "x0": 4.6123046875,
          "x1": 4.61669921875,
          "y0": -8.5,
          "y1": -10
         },
         {
          "layer": "below",
          "line": {
           "color": "#333",
           "width": 4
          },
          "type": "line",
          "x0": 4.62109375,
          "x1": 4.638671875,
          "y0": -5.5,
          "y1": -7
         },
         {
          "layer": "below",
          "line": {
           "color": "#333",
           "width": 4
          },
          "type": "line",
          "x0": 4.638671875,
          "x1": 4.6298828125,
          "y0": -7,
          "y1": -8.5
         },
         {
          "layer": "below",
          "line": {
           "color": "#333",
           "width": 4
          },
          "type": "line",
          "x0": 4.6298828125,
          "x1": 4.62548828125,
          "y0": -8.5,
          "y1": -10
         },
         {
          "layer": "below",
          "line": {
           "color": "#333",
           "width": 4
          },
          "type": "line",
          "x0": 4.62548828125,
          "x1": 4.623291015625,
          "y0": -10,
          "y1": -11.5
         },
         {
          "layer": "below",
          "line": {
           "color": "#333",
           "width": 4
          },
          "type": "line",
          "x0": 4.62548828125,
          "x1": 4.627685546875,
          "y0": -10,
          "y1": -11.5
         },
         {
          "layer": "below",
          "line": {
           "color": "#333",
           "width": 4
          },
          "type": "line",
          "x0": 4.6298828125,
          "x1": 4.63427734375,
          "y0": -8.5,
          "y1": -10
         },
         {
          "layer": "below",
          "line": {
           "color": "#333",
           "width": 4
          },
          "type": "line",
          "x0": 4.63427734375,
          "x1": 4.632080078125,
          "y0": -10,
          "y1": -11.5
         },
         {
          "layer": "below",
          "line": {
           "color": "#333",
           "width": 4
          },
          "type": "line",
          "x0": 4.632080078125,
          "x1": 4.6309814453125,
          "y0": -11.5,
          "y1": -13
         },
         {
          "layer": "below",
          "line": {
           "color": "#333",
           "width": 4
          },
          "type": "line",
          "x0": 4.632080078125,
          "x1": 4.6331787109375,
          "y0": -11.5,
          "y1": -13
         },
         {
          "layer": "below",
          "line": {
           "color": "#333",
           "width": 4
          },
          "type": "line",
          "x0": 4.63427734375,
          "x1": 4.636474609375,
          "y0": -10,
          "y1": -11.5
         },
         {
          "layer": "below",
          "line": {
           "color": "#333",
           "width": 4
          },
          "type": "line",
          "x0": 4.636474609375,
          "x1": 4.6353759765625,
          "y0": -11.5,
          "y1": -13
         },
         {
          "layer": "below",
          "line": {
           "color": "#333",
           "width": 4
          },
          "type": "line",
          "x0": 4.636474609375,
          "x1": 4.6375732421875,
          "y0": -11.5,
          "y1": -13
         },
         {
          "layer": "below",
          "line": {
           "color": "#333",
           "width": 4
          },
          "type": "line",
          "x0": 4.6375732421875,
          "x1": 4.63702392578125,
          "y0": -13,
          "y1": -14.5
         },
         {
          "layer": "below",
          "line": {
           "color": "#333",
           "width": 4
          },
          "type": "line",
          "x0": 4.6375732421875,
          "x1": 4.63812255859375,
          "y0": -13,
          "y1": -14.5
         },
         {
          "layer": "below",
          "line": {
           "color": "#333",
           "width": 4
          },
          "type": "line",
          "x0": 4.638671875,
          "x1": 4.6474609375,
          "y0": -7,
          "y1": -8.5
         },
         {
          "layer": "below",
          "line": {
           "color": "#333",
           "width": 4
          },
          "type": "line",
          "x0": 4.6474609375,
          "x1": 4.64306640625,
          "y0": -8.5,
          "y1": -10
         },
         {
          "layer": "below",
          "line": {
           "color": "#333",
           "width": 4
          },
          "type": "line",
          "x0": 4.64306640625,
          "x1": 4.640869140625,
          "y0": -10,
          "y1": -11.5
         },
         {
          "layer": "below",
          "line": {
           "color": "#333",
           "width": 4
          },
          "type": "line",
          "x0": 4.64306640625,
          "x1": 4.645263671875,
          "y0": -10,
          "y1": -11.5
         },
         {
          "layer": "below",
          "line": {
           "color": "#333",
           "width": 4
          },
          "type": "line",
          "x0": 4.645263671875,
          "x1": 4.6441650390625,
          "y0": -11.5,
          "y1": -13
         },
         {
          "layer": "below",
          "line": {
           "color": "#333",
           "width": 4
          },
          "type": "line",
          "x0": 4.645263671875,
          "x1": 4.6463623046875,
          "y0": -11.5,
          "y1": -13
         },
         {
          "layer": "below",
          "line": {
           "color": "#333",
           "width": 4
          },
          "type": "line",
          "x0": 4.6474609375,
          "x1": 4.65185546875,
          "y0": -8.5,
          "y1": -10
         },
         {
          "layer": "below",
          "line": {
           "color": "#333",
           "width": 4
          },
          "type": "line",
          "x0": 4.65185546875,
          "x1": 4.649658203125,
          "y0": -10,
          "y1": -11.5
         },
         {
          "layer": "below",
          "line": {
           "color": "#333",
           "width": 4
          },
          "type": "line",
          "x0": 4.649658203125,
          "x1": 4.6485595703125,
          "y0": -11.5,
          "y1": -13
         },
         {
          "layer": "below",
          "line": {
           "color": "#333",
           "width": 4
          },
          "type": "line",
          "x0": 4.649658203125,
          "x1": 4.6507568359375,
          "y0": -11.5,
          "y1": -13
         },
         {
          "layer": "below",
          "line": {
           "color": "#333",
           "width": 4
          },
          "type": "line",
          "x0": 4.65185546875,
          "x1": 4.654052734375,
          "y0": -10,
          "y1": -11.5
         },
         {
          "layer": "below",
          "line": {
           "color": "#333",
           "width": 4
          },
          "type": "line",
          "x0": 4.654052734375,
          "x1": 4.6529541015625,
          "y0": -11.5,
          "y1": -13
         },
         {
          "layer": "below",
          "line": {
           "color": "#333",
           "width": 4
          },
          "type": "line",
          "x0": 4.6529541015625,
          "x1": 4.65240478515625,
          "y0": -13,
          "y1": -14.5
         },
         {
          "layer": "below",
          "line": {
           "color": "#333",
           "width": 4
          },
          "type": "line",
          "x0": 4.6529541015625,
          "x1": 4.65350341796875,
          "y0": -13,
          "y1": -14.5
         },
         {
          "layer": "below",
          "line": {
           "color": "#333",
           "width": 4
          },
          "type": "line",
          "x0": 4.65350341796875,
          "x1": 4.653228759765625,
          "y0": -14.5,
          "y1": -16
         },
         {
          "layer": "below",
          "line": {
           "color": "#333",
           "width": 4
          },
          "type": "line",
          "x0": 4.653228759765625,
          "x1": 4.6530914306640625,
          "y0": -16,
          "y1": -17.5
         },
         {
          "layer": "below",
          "line": {
           "color": "#333",
           "width": 4
          },
          "type": "line",
          "x0": 4.6530914306640625,
          "x1": 4.653022766113281,
          "y0": -17.5,
          "y1": -19
         },
         {
          "layer": "below",
          "line": {
           "color": "#333",
           "width": 4
          },
          "type": "line",
          "x0": 4.6530914306640625,
          "x1": 4.653160095214844,
          "y0": -17.5,
          "y1": -19
         },
         {
          "layer": "below",
          "line": {
           "color": "#333",
           "width": 4
          },
          "type": "line",
          "x0": 4.653160095214844,
          "x1": 4.653125762939453,
          "y0": -19,
          "y1": -20.5
         },
         {
          "layer": "below",
          "line": {
           "color": "#333",
           "width": 4
          },
          "type": "line",
          "x0": 4.653160095214844,
          "x1": 4.653194427490234,
          "y0": -19,
          "y1": -20.5
         },
         {
          "layer": "below",
          "line": {
           "color": "#333",
           "width": 4
          },
          "type": "line",
          "x0": 4.653228759765625,
          "x1": 4.6533660888671875,
          "y0": -16,
          "y1": -17.5
         },
         {
          "layer": "below",
          "line": {
           "color": "#333",
           "width": 4
          },
          "type": "line",
          "x0": 4.6533660888671875,
          "x1": 4.653297424316406,
          "y0": -17.5,
          "y1": -19
         },
         {
          "layer": "below",
          "line": {
           "color": "#333",
           "width": 4
          },
          "type": "line",
          "x0": 4.6533660888671875,
          "x1": 4.653434753417969,
          "y0": -17.5,
          "y1": -19
         },
         {
          "layer": "below",
          "line": {
           "color": "#333",
           "width": 4
          },
          "type": "line",
          "x0": 4.65350341796875,
          "x1": 4.653778076171875,
          "y0": -14.5,
          "y1": -16
         },
         {
          "layer": "below",
          "line": {
           "color": "#333",
           "width": 4
          },
          "type": "line",
          "x0": 4.653778076171875,
          "x1": 4.6536407470703125,
          "y0": -16,
          "y1": -17.5
         },
         {
          "layer": "below",
          "line": {
           "color": "#333",
           "width": 4
          },
          "type": "line",
          "x0": 4.653778076171875,
          "x1": 4.6539154052734375,
          "y0": -16,
          "y1": -17.5
         },
         {
          "layer": "below",
          "line": {
           "color": "#333",
           "width": 4
          },
          "type": "line",
          "x0": 4.6539154052734375,
          "x1": 4.653846740722656,
          "y0": -17.5,
          "y1": -19
         },
         {
          "layer": "below",
          "line": {
           "color": "#333",
           "width": 4
          },
          "type": "line",
          "x0": 4.653846740722656,
          "x1": 4.653812408447266,
          "y0": -19,
          "y1": -20.5
         },
         {
          "layer": "below",
          "line": {
           "color": "#333",
           "width": 4
          },
          "type": "line",
          "x0": 4.653846740722656,
          "x1": 4.653881072998047,
          "y0": -19,
          "y1": -20.5
         },
         {
          "layer": "below",
          "line": {
           "color": "#333",
           "width": 4
          },
          "type": "line",
          "x0": 4.6539154052734375,
          "x1": 4.653984069824219,
          "y0": -17.5,
          "y1": -19
         },
         {
          "layer": "below",
          "line": {
           "color": "#333",
           "width": 4
          },
          "type": "line",
          "x0": 4.653984069824219,
          "x1": 4.653949737548828,
          "y0": -19,
          "y1": -20.5
         },
         {
          "layer": "below",
          "line": {
           "color": "#333",
           "width": 4
          },
          "type": "line",
          "x0": 4.653984069824219,
          "x1": 4.654018402099609,
          "y0": -19,
          "y1": -20.5
         },
         {
          "layer": "below",
          "line": {
           "color": "#333",
           "width": 4
          },
          "type": "line",
          "x0": 4.654052734375,
          "x1": 4.6551513671875,
          "y0": -11.5,
          "y1": -13
         },
         {
          "layer": "below",
          "line": {
           "color": "#333",
           "width": 4
          },
          "type": "line",
          "x0": 4.6551513671875,
          "x1": 4.65460205078125,
          "y0": -13,
          "y1": -14.5
         },
         {
          "layer": "below",
          "line": {
           "color": "#333",
           "width": 4
          },
          "type": "line",
          "x0": 4.6551513671875,
          "x1": 4.65570068359375,
          "y0": -13,
          "y1": -14.5
         },
         {
          "layer": "below",
          "line": {
           "color": "#333",
           "width": 4
          },
          "type": "line",
          "x0": 4.65570068359375,
          "x1": 4.655426025390625,
          "y0": -14.5,
          "y1": -16
         },
         {
          "layer": "below",
          "line": {
           "color": "#333",
           "width": 4
          },
          "type": "line",
          "x0": 4.65570068359375,
          "x1": 4.655975341796875,
          "y0": -14.5,
          "y1": -16
         },
         {
          "layer": "below",
          "line": {
           "color": "#333",
           "width": 4
          },
          "type": "line",
          "x0": 4.65625,
          "x1": 4.796875,
          "y0": -1,
          "y1": -2.5
         },
         {
          "layer": "below",
          "line": {
           "color": "#333",
           "width": 4
          },
          "type": "line",
          "x0": 4.796875,
          "x1": 4.7265625,
          "y0": -2.5,
          "y1": -4
         },
         {
          "layer": "below",
          "line": {
           "color": "#333",
           "width": 4
          },
          "type": "line",
          "x0": 4.7265625,
          "x1": 4.69140625,
          "y0": -4,
          "y1": -5.5
         },
         {
          "layer": "below",
          "line": {
           "color": "#333",
           "width": 4
          },
          "type": "line",
          "x0": 4.7265625,
          "x1": 4.76171875,
          "y0": -4,
          "y1": -5.5
         },
         {
          "layer": "below",
          "line": {
           "color": "#333",
           "width": 4
          },
          "type": "line",
          "x0": 4.76171875,
          "x1": 4.744140625,
          "y0": -5.5,
          "y1": -7
         },
         {
          "layer": "below",
          "line": {
           "color": "#333",
           "width": 4
          },
          "type": "line",
          "x0": 4.744140625,
          "x1": 4.7353515625,
          "y0": -7,
          "y1": -8.5
         },
         {
          "layer": "below",
          "line": {
           "color": "#333",
           "width": 4
          },
          "type": "line",
          "x0": 4.744140625,
          "x1": 4.7529296875,
          "y0": -7,
          "y1": -8.5
         },
         {
          "layer": "below",
          "line": {
           "color": "#333",
           "width": 4
          },
          "type": "line",
          "x0": 4.7529296875,
          "x1": 4.74853515625,
          "y0": -8.5,
          "y1": -10
         },
         {
          "layer": "below",
          "line": {
           "color": "#333",
           "width": 4
          },
          "type": "line",
          "x0": 4.7529296875,
          "x1": 4.75732421875,
          "y0": -8.5,
          "y1": -10
         },
         {
          "layer": "below",
          "line": {
           "color": "#333",
           "width": 4
          },
          "type": "line",
          "x0": 4.76171875,
          "x1": 4.779296875,
          "y0": -5.5,
          "y1": -7
         },
         {
          "layer": "below",
          "line": {
           "color": "#333",
           "width": 4
          },
          "type": "line",
          "x0": 4.779296875,
          "x1": 4.7705078125,
          "y0": -7,
          "y1": -8.5
         },
         {
          "layer": "below",
          "line": {
           "color": "#333",
           "width": 4
          },
          "type": "line",
          "x0": 4.779296875,
          "x1": 4.7880859375,
          "y0": -7,
          "y1": -8.5
         },
         {
          "layer": "below",
          "line": {
           "color": "#333",
           "width": 4
          },
          "type": "line",
          "x0": 4.7880859375,
          "x1": 4.78369140625,
          "y0": -8.5,
          "y1": -10
         },
         {
          "layer": "below",
          "line": {
           "color": "#333",
           "width": 4
          },
          "type": "line",
          "x0": 4.7880859375,
          "x1": 4.79248046875,
          "y0": -8.5,
          "y1": -10
         },
         {
          "layer": "below",
          "line": {
           "color": "#333",
           "width": 4
          },
          "type": "line",
          "x0": 4.79248046875,
          "x1": 4.790283203125,
          "y0": -10,
          "y1": -11.5
         },
         {
          "layer": "below",
          "line": {
           "color": "#333",
           "width": 4
          },
          "type": "line",
          "x0": 4.79248046875,
          "x1": 4.794677734375,
          "y0": -10,
          "y1": -11.5
         },
         {
          "layer": "below",
          "line": {
           "color": "#333",
           "width": 4
          },
          "type": "line",
          "x0": 4.796875,
          "x1": 4.8671875,
          "y0": -2.5,
          "y1": -4
         },
         {
          "layer": "below",
          "line": {
           "color": "#333",
           "width": 4
          },
          "type": "line",
          "x0": 4.8671875,
          "x1": 4.83203125,
          "y0": -4,
          "y1": -5.5
         },
         {
          "layer": "below",
          "line": {
           "color": "#333",
           "width": 4
          },
          "type": "line",
          "x0": 4.8671875,
          "x1": 4.90234375,
          "y0": -4,
          "y1": -5.5
         },
         {
          "layer": "below",
          "line": {
           "color": "#333",
           "width": 4
          },
          "type": "line",
          "x0": 4.90234375,
          "x1": 4.884765625,
          "y0": -5.5,
          "y1": -7
         },
         {
          "layer": "below",
          "line": {
           "color": "#333",
           "width": 4
          },
          "type": "line",
          "x0": 4.90234375,
          "x1": 4.919921875,
          "y0": -5.5,
          "y1": -7
         },
         {
          "layer": "below",
          "line": {
           "color": "#333",
           "width": 4
          },
          "type": "line",
          "x0": 4.919921875,
          "x1": 4.9111328125,
          "y0": -7,
          "y1": -8.5
         },
         {
          "layer": "below",
          "line": {
           "color": "#333",
           "width": 4
          },
          "type": "line",
          "x0": 4.919921875,
          "x1": 4.9287109375,
          "y0": -7,
          "y1": -8.5
         },
         {
          "layer": "below",
          "line": {
           "color": "#333",
           "width": 4
          },
          "type": "line",
          "x0": 4.9375,
          "x1": 5.21875,
          "y0": 0.5,
          "y1": -1
         },
         {
          "layer": "below",
          "line": {
           "color": "#333",
           "width": 4
          },
          "type": "line",
          "x0": 5.21875,
          "x1": 5.078125,
          "y0": -1,
          "y1": -2.5
         },
         {
          "layer": "below",
          "line": {
           "color": "#333",
           "width": 4
          },
          "type": "line",
          "x0": 5.078125,
          "x1": 5.0078125,
          "y0": -2.5,
          "y1": -4
         },
         {
          "layer": "below",
          "line": {
           "color": "#333",
           "width": 4
          },
          "type": "line",
          "x0": 5.0078125,
          "x1": 4.97265625,
          "y0": -4,
          "y1": -5.5
         },
         {
          "layer": "below",
          "line": {
           "color": "#333",
           "width": 4
          },
          "type": "line",
          "x0": 5.0078125,
          "x1": 5.04296875,
          "y0": -4,
          "y1": -5.5
         },
         {
          "layer": "below",
          "line": {
           "color": "#333",
           "width": 4
          },
          "type": "line",
          "x0": 5.078125,
          "x1": 5.1484375,
          "y0": -2.5,
          "y1": -4
         },
         {
          "layer": "below",
          "line": {
           "color": "#333",
           "width": 4
          },
          "type": "line",
          "x0": 5.1484375,
          "x1": 5.11328125,
          "y0": -4,
          "y1": -5.5
         },
         {
          "layer": "below",
          "line": {
           "color": "#333",
           "width": 4
          },
          "type": "line",
          "x0": 5.1484375,
          "x1": 5.18359375,
          "y0": -4,
          "y1": -5.5
         },
         {
          "layer": "below",
          "line": {
           "color": "#333",
           "width": 4
          },
          "type": "line",
          "x0": 5.21875,
          "x1": 5.359375,
          "y0": -1,
          "y1": -2.5
         },
         {
          "layer": "below",
          "line": {
           "color": "#333",
           "width": 4
          },
          "type": "line",
          "x0": 5.359375,
          "x1": 5.2890625,
          "y0": -2.5,
          "y1": -4
         },
         {
          "layer": "below",
          "line": {
           "color": "#333",
           "width": 4
          },
          "type": "line",
          "x0": 5.359375,
          "x1": 5.4296875,
          "y0": -2.5,
          "y1": -4
         },
         {
          "layer": "below",
          "line": {
           "color": "#333",
           "width": 4
          },
          "type": "line",
          "x0": 5.5,
          "x1": 7.75,
          "y0": 5,
          "y1": 3.5
         },
         {
          "layer": "below",
          "line": {
           "color": "#333",
           "width": 4
          },
          "type": "line",
          "x0": 7.75,
          "x1": 6.625,
          "y0": 3.5,
          "y1": 2
         },
         {
          "layer": "below",
          "line": {
           "color": "#333",
           "width": 4
          },
          "type": "line",
          "x0": 6.625,
          "x1": 6.0625,
          "y0": 2,
          "y1": 0.5
         },
         {
          "layer": "below",
          "line": {
           "color": "#333",
           "width": 4
          },
          "type": "line",
          "x0": 6.0625,
          "x1": 5.78125,
          "y0": 0.5,
          "y1": -1
         },
         {
          "layer": "below",
          "line": {
           "color": "#333",
           "width": 4
          },
          "type": "line",
          "x0": 5.78125,
          "x1": 5.640625,
          "y0": -1,
          "y1": -2.5
         },
         {
          "layer": "below",
          "line": {
           "color": "#333",
           "width": 4
          },
          "type": "line",
          "x0": 5.78125,
          "x1": 5.921875,
          "y0": -1,
          "y1": -2.5
         },
         {
          "layer": "below",
          "line": {
           "color": "#333",
           "width": 4
          },
          "type": "line",
          "x0": 6.0625,
          "x1": 6.34375,
          "y0": 0.5,
          "y1": -1
         },
         {
          "layer": "below",
          "line": {
           "color": "#333",
           "width": 4
          },
          "type": "line",
          "x0": 6.34375,
          "x1": 6.203125,
          "y0": -1,
          "y1": -2.5
         },
         {
          "layer": "below",
          "line": {
           "color": "#333",
           "width": 4
          },
          "type": "line",
          "x0": 6.34375,
          "x1": 6.484375,
          "y0": -1,
          "y1": -2.5
         },
         {
          "layer": "below",
          "line": {
           "color": "#333",
           "width": 4
          },
          "type": "line",
          "x0": 6.484375,
          "x1": 6.4140625,
          "y0": -2.5,
          "y1": -4
         },
         {
          "layer": "below",
          "line": {
           "color": "#333",
           "width": 4
          },
          "type": "line",
          "x0": 6.484375,
          "x1": 6.5546875,
          "y0": -2.5,
          "y1": -4
         },
         {
          "layer": "below",
          "line": {
           "color": "#333",
           "width": 4
          },
          "type": "line",
          "x0": 6.5546875,
          "x1": 6.51953125,
          "y0": -4,
          "y1": -5.5
         },
         {
          "layer": "below",
          "line": {
           "color": "#333",
           "width": 4
          },
          "type": "line",
          "x0": 6.5546875,
          "x1": 6.58984375,
          "y0": -4,
          "y1": -5.5
         },
         {
          "layer": "below",
          "line": {
           "color": "#333",
           "width": 4
          },
          "type": "line",
          "x0": 6.58984375,
          "x1": 6.572265625,
          "y0": -5.5,
          "y1": -7
         },
         {
          "layer": "below",
          "line": {
           "color": "#333",
           "width": 4
          },
          "type": "line",
          "x0": 6.58984375,
          "x1": 6.607421875,
          "y0": -5.5,
          "y1": -7
         },
         {
          "layer": "below",
          "line": {
           "color": "#333",
           "width": 4
          },
          "type": "line",
          "x0": 6.625,
          "x1": 7.1875,
          "y0": 2,
          "y1": 0.5
         },
         {
          "layer": "below",
          "line": {
           "color": "#333",
           "width": 4
          },
          "type": "line",
          "x0": 7.1875,
          "x1": 6.90625,
          "y0": 0.5,
          "y1": -1
         },
         {
          "layer": "below",
          "line": {
           "color": "#333",
           "width": 4
          },
          "type": "line",
          "x0": 6.90625,
          "x1": 6.765625,
          "y0": -1,
          "y1": -2.5
         },
         {
          "layer": "below",
          "line": {
           "color": "#333",
           "width": 4
          },
          "type": "line",
          "x0": 6.90625,
          "x1": 7.046875,
          "y0": -1,
          "y1": -2.5
         },
         {
          "layer": "below",
          "line": {
           "color": "#333",
           "width": 4
          },
          "type": "line",
          "x0": 7.046875,
          "x1": 6.9765625,
          "y0": -2.5,
          "y1": -4
         },
         {
          "layer": "below",
          "line": {
           "color": "#333",
           "width": 4
          },
          "type": "line",
          "x0": 7.046875,
          "x1": 7.1171875,
          "y0": -2.5,
          "y1": -4
         },
         {
          "layer": "below",
          "line": {
           "color": "#333",
           "width": 4
          },
          "type": "line",
          "x0": 7.1171875,
          "x1": 7.08203125,
          "y0": -4,
          "y1": -5.5
         },
         {
          "layer": "below",
          "line": {
           "color": "#333",
           "width": 4
          },
          "type": "line",
          "x0": 7.1171875,
          "x1": 7.15234375,
          "y0": -4,
          "y1": -5.5
         },
         {
          "layer": "below",
          "line": {
           "color": "#333",
           "width": 4
          },
          "type": "line",
          "x0": 7.1875,
          "x1": 7.46875,
          "y0": 0.5,
          "y1": -1
         },
         {
          "layer": "below",
          "line": {
           "color": "#333",
           "width": 4
          },
          "type": "line",
          "x0": 7.46875,
          "x1": 7.328125,
          "y0": -1,
          "y1": -2.5
         },
         {
          "layer": "below",
          "line": {
           "color": "#333",
           "width": 4
          },
          "type": "line",
          "x0": 7.328125,
          "x1": 7.2578125,
          "y0": -2.5,
          "y1": -4
         },
         {
          "layer": "below",
          "line": {
           "color": "#333",
           "width": 4
          },
          "type": "line",
          "x0": 7.328125,
          "x1": 7.3984375,
          "y0": -2.5,
          "y1": -4
         },
         {
          "layer": "below",
          "line": {
           "color": "#333",
           "width": 4
          },
          "type": "line",
          "x0": 7.46875,
          "x1": 7.609375,
          "y0": -1,
          "y1": -2.5
         },
         {
          "layer": "below",
          "line": {
           "color": "#333",
           "width": 4
          },
          "type": "line",
          "x0": 7.609375,
          "x1": 7.5390625,
          "y0": -2.5,
          "y1": -4
         },
         {
          "layer": "below",
          "line": {
           "color": "#333",
           "width": 4
          },
          "type": "line",
          "x0": 7.5390625,
          "x1": 7.50390625,
          "y0": -4,
          "y1": -5.5
         },
         {
          "layer": "below",
          "line": {
           "color": "#333",
           "width": 4
          },
          "type": "line",
          "x0": 7.5390625,
          "x1": 7.57421875,
          "y0": -4,
          "y1": -5.5
         },
         {
          "layer": "below",
          "line": {
           "color": "#333",
           "width": 4
          },
          "type": "line",
          "x0": 7.57421875,
          "x1": 7.556640625,
          "y0": -5.5,
          "y1": -7
         },
         {
          "layer": "below",
          "line": {
           "color": "#333",
           "width": 4
          },
          "type": "line",
          "x0": 7.57421875,
          "x1": 7.591796875,
          "y0": -5.5,
          "y1": -7
         },
         {
          "layer": "below",
          "line": {
           "color": "#333",
           "width": 4
          },
          "type": "line",
          "x0": 7.609375,
          "x1": 7.6796875,
          "y0": -2.5,
          "y1": -4
         },
         {
          "layer": "below",
          "line": {
           "color": "#333",
           "width": 4
          },
          "type": "line",
          "x0": 7.6796875,
          "x1": 7.64453125,
          "y0": -4,
          "y1": -5.5
         },
         {
          "layer": "below",
          "line": {
           "color": "#333",
           "width": 4
          },
          "type": "line",
          "x0": 7.6796875,
          "x1": 7.71484375,
          "y0": -4,
          "y1": -5.5
         },
         {
          "layer": "below",
          "line": {
           "color": "#333",
           "width": 4
          },
          "type": "line",
          "x0": 7.71484375,
          "x1": 7.697265625,
          "y0": -5.5,
          "y1": -7
         },
         {
          "layer": "below",
          "line": {
           "color": "#333",
           "width": 4
          },
          "type": "line",
          "x0": 7.71484375,
          "x1": 7.732421875,
          "y0": -5.5,
          "y1": -7
         },
         {
          "layer": "below",
          "line": {
           "color": "#333",
           "width": 4
          },
          "type": "line",
          "x0": 7.75,
          "x1": 8.875,
          "y0": 3.5,
          "y1": 2
         },
         {
          "layer": "below",
          "line": {
           "color": "#333",
           "width": 4
          },
          "type": "line",
          "x0": 8.875,
          "x1": 8.3125,
          "y0": 2,
          "y1": 0.5
         },
         {
          "layer": "below",
          "line": {
           "color": "#333",
           "width": 4
          },
          "type": "line",
          "x0": 8.3125,
          "x1": 8.03125,
          "y0": 0.5,
          "y1": -1
         },
         {
          "layer": "below",
          "line": {
           "color": "#333",
           "width": 4
          },
          "type": "line",
          "x0": 8.03125,
          "x1": 7.890625,
          "y0": -1,
          "y1": -2.5
         },
         {
          "layer": "below",
          "line": {
           "color": "#333",
           "width": 4
          },
          "type": "line",
          "x0": 8.03125,
          "x1": 8.171875,
          "y0": -1,
          "y1": -2.5
         },
         {
          "layer": "below",
          "line": {
           "color": "#333",
           "width": 4
          },
          "type": "line",
          "x0": 8.3125,
          "x1": 8.59375,
          "y0": 0.5,
          "y1": -1
         },
         {
          "layer": "below",
          "line": {
           "color": "#333",
           "width": 4
          },
          "type": "line",
          "x0": 8.59375,
          "x1": 8.453125,
          "y0": -1,
          "y1": -2.5
         },
         {
          "layer": "below",
          "line": {
           "color": "#333",
           "width": 4
          },
          "type": "line",
          "x0": 8.59375,
          "x1": 8.734375,
          "y0": -1,
          "y1": -2.5
         },
         {
          "layer": "below",
          "line": {
           "color": "#333",
           "width": 4
          },
          "type": "line",
          "x0": 8.734375,
          "x1": 8.6640625,
          "y0": -2.5,
          "y1": -4
         },
         {
          "layer": "below",
          "line": {
           "color": "#333",
           "width": 4
          },
          "type": "line",
          "x0": 8.734375,
          "x1": 8.8046875,
          "y0": -2.5,
          "y1": -4
         },
         {
          "layer": "below",
          "line": {
           "color": "#333",
           "width": 4
          },
          "type": "line",
          "x0": 8.875,
          "x1": 9.4375,
          "y0": 2,
          "y1": 0.5
         },
         {
          "layer": "below",
          "line": {
           "color": "#333",
           "width": 4
          },
          "type": "line",
          "x0": 9.4375,
          "x1": 9.15625,
          "y0": 0.5,
          "y1": -1
         },
         {
          "layer": "below",
          "line": {
           "color": "#333",
           "width": 4
          },
          "type": "line",
          "x0": 9.4375,
          "x1": 9.71875,
          "y0": 0.5,
          "y1": -1
         },
         {
          "layer": "below",
          "line": {
           "color": "#333",
           "width": 4
          },
          "type": "line",
          "x0": 9.71875,
          "x1": 9.578125,
          "y0": -1,
          "y1": -2.5
         },
         {
          "layer": "below",
          "line": {
           "color": "#333",
           "width": 4
          },
          "type": "line",
          "x0": 9.71875,
          "x1": 9.859375,
          "y0": -1,
          "y1": -2.5
         },
         {
          "layer": "below",
          "line": {
           "color": "#333",
           "width": 4
          },
          "type": "line",
          "x0": 9.859375,
          "x1": 9.7890625,
          "y0": -2.5,
          "y1": -4
         },
         {
          "layer": "below",
          "line": {
           "color": "#333",
           "width": 4
          },
          "type": "line",
          "x0": 9.7890625,
          "x1": 9.75390625,
          "y0": -4,
          "y1": -5.5
         },
         {
          "layer": "below",
          "line": {
           "color": "#333",
           "width": 4
          },
          "type": "line",
          "x0": 9.75390625,
          "x1": 9.736328125,
          "y0": -5.5,
          "y1": -7
         },
         {
          "layer": "below",
          "line": {
           "color": "#333",
           "width": 4
          },
          "type": "line",
          "x0": 9.75390625,
          "x1": 9.771484375,
          "y0": -5.5,
          "y1": -7
         },
         {
          "layer": "below",
          "line": {
           "color": "#333",
           "width": 4
          },
          "type": "line",
          "x0": 9.771484375,
          "x1": 9.7626953125,
          "y0": -7,
          "y1": -8.5
         },
         {
          "layer": "below",
          "line": {
           "color": "#333",
           "width": 4
          },
          "type": "line",
          "x0": 9.771484375,
          "x1": 9.7802734375,
          "y0": -7,
          "y1": -8.5
         },
         {
          "layer": "below",
          "line": {
           "color": "#333",
           "width": 4
          },
          "type": "line",
          "x0": 9.7802734375,
          "x1": 9.77587890625,
          "y0": -8.5,
          "y1": -10
         },
         {
          "layer": "below",
          "line": {
           "color": "#333",
           "width": 4
          },
          "type": "line",
          "x0": 9.7802734375,
          "x1": 9.78466796875,
          "y0": -8.5,
          "y1": -10
         },
         {
          "layer": "below",
          "line": {
           "color": "#333",
           "width": 4
          },
          "type": "line",
          "x0": 9.7890625,
          "x1": 9.82421875,
          "y0": -4,
          "y1": -5.5
         },
         {
          "layer": "below",
          "line": {
           "color": "#333",
           "width": 4
          },
          "type": "line",
          "x0": 9.82421875,
          "x1": 9.806640625,
          "y0": -5.5,
          "y1": -7
         },
         {
          "layer": "below",
          "line": {
           "color": "#333",
           "width": 4
          },
          "type": "line",
          "x0": 9.82421875,
          "x1": 9.841796875,
          "y0": -5.5,
          "y1": -7
         },
         {
          "layer": "below",
          "line": {
           "color": "#333",
           "width": 4
          },
          "type": "line",
          "x0": 9.841796875,
          "x1": 9.8330078125,
          "y0": -7,
          "y1": -8.5
         },
         {
          "layer": "below",
          "line": {
           "color": "#333",
           "width": 4
          },
          "type": "line",
          "x0": 9.8330078125,
          "x1": 9.82861328125,
          "y0": -8.5,
          "y1": -10
         },
         {
          "layer": "below",
          "line": {
           "color": "#333",
           "width": 4
          },
          "type": "line",
          "x0": 9.8330078125,
          "x1": 9.83740234375,
          "y0": -8.5,
          "y1": -10
         },
         {
          "layer": "below",
          "line": {
           "color": "#333",
           "width": 4
          },
          "type": "line",
          "x0": 9.841796875,
          "x1": 9.8505859375,
          "y0": -7,
          "y1": -8.5
         },
         {
          "layer": "below",
          "line": {
           "color": "#333",
           "width": 4
          },
          "type": "line",
          "x0": 9.8505859375,
          "x1": 9.84619140625,
          "y0": -8.5,
          "y1": -10
         },
         {
          "layer": "below",
          "line": {
           "color": "#333",
           "width": 4
          },
          "type": "line",
          "x0": 9.84619140625,
          "x1": 9.843994140625,
          "y0": -10,
          "y1": -11.5
         },
         {
          "layer": "below",
          "line": {
           "color": "#333",
           "width": 4
          },
          "type": "line",
          "x0": 9.843994140625,
          "x1": 9.8428955078125,
          "y0": -11.5,
          "y1": -13
         },
         {
          "layer": "below",
          "line": {
           "color": "#333",
           "width": 4
          },
          "type": "line",
          "x0": 9.843994140625,
          "x1": 9.8450927734375,
          "y0": -11.5,
          "y1": -13
         },
         {
          "layer": "below",
          "line": {
           "color": "#333",
           "width": 4
          },
          "type": "line",
          "x0": 9.84619140625,
          "x1": 9.848388671875,
          "y0": -10,
          "y1": -11.5
         },
         {
          "layer": "below",
          "line": {
           "color": "#333",
           "width": 4
          },
          "type": "line",
          "x0": 9.848388671875,
          "x1": 9.8472900390625,
          "y0": -11.5,
          "y1": -13
         },
         {
          "layer": "below",
          "line": {
           "color": "#333",
           "width": 4
          },
          "type": "line",
          "x0": 9.848388671875,
          "x1": 9.8494873046875,
          "y0": -11.5,
          "y1": -13
         },
         {
          "layer": "below",
          "line": {
           "color": "#333",
           "width": 4
          },
          "type": "line",
          "x0": 9.8505859375,
          "x1": 9.85498046875,
          "y0": -8.5,
          "y1": -10
         },
         {
          "layer": "below",
          "line": {
           "color": "#333",
           "width": 4
          },
          "type": "line",
          "x0": 9.85498046875,
          "x1": 9.852783203125,
          "y0": -10,
          "y1": -11.5
         },
         {
          "layer": "below",
          "line": {
           "color": "#333",
           "width": 4
          },
          "type": "line",
          "x0": 9.852783203125,
          "x1": 9.8516845703125,
          "y0": -11.5,
          "y1": -13
         },
         {
          "layer": "below",
          "line": {
           "color": "#333",
           "width": 4
          },
          "type": "line",
          "x0": 9.8516845703125,
          "x1": 9.85113525390625,
          "y0": -13,
          "y1": -14.5
         },
         {
          "layer": "below",
          "line": {
           "color": "#333",
           "width": 4
          },
          "type": "line",
          "x0": 9.8516845703125,
          "x1": 9.85223388671875,
          "y0": -13,
          "y1": -14.5
         },
         {
          "layer": "below",
          "line": {
           "color": "#333",
           "width": 4
          },
          "type": "line",
          "x0": 9.85223388671875,
          "x1": 9.851959228515625,
          "y0": -14.5,
          "y1": -16
         },
         {
          "layer": "below",
          "line": {
           "color": "#333",
           "width": 4
          },
          "type": "line",
          "x0": 9.85223388671875,
          "x1": 9.852508544921875,
          "y0": -14.5,
          "y1": -16
         },
         {
          "layer": "below",
          "line": {
           "color": "#333",
           "width": 4
          },
          "type": "line",
          "x0": 9.852783203125,
          "x1": 9.8538818359375,
          "y0": -11.5,
          "y1": -13
         },
         {
          "layer": "below",
          "line": {
           "color": "#333",
           "width": 4
          },
          "type": "line",
          "x0": 9.8538818359375,
          "x1": 9.85333251953125,
          "y0": -13,
          "y1": -14.5
         },
         {
          "layer": "below",
          "line": {
           "color": "#333",
           "width": 4
          },
          "type": "line",
          "x0": 9.8538818359375,
          "x1": 9.85443115234375,
          "y0": -13,
          "y1": -14.5
         },
         {
          "layer": "below",
          "line": {
           "color": "#333",
           "width": 4
          },
          "type": "line",
          "x0": 9.85443115234375,
          "x1": 9.854156494140625,
          "y0": -14.5,
          "y1": -16
         },
         {
          "layer": "below",
          "line": {
           "color": "#333",
           "width": 4
          },
          "type": "line",
          "x0": 9.85443115234375,
          "x1": 9.854705810546875,
          "y0": -14.5,
          "y1": -16
         },
         {
          "layer": "below",
          "line": {
           "color": "#333",
           "width": 4
          },
          "type": "line",
          "x0": 9.85498046875,
          "x1": 9.857177734375,
          "y0": -10,
          "y1": -11.5
         },
         {
          "layer": "below",
          "line": {
           "color": "#333",
           "width": 4
          },
          "type": "line",
          "x0": 9.857177734375,
          "x1": 9.8560791015625,
          "y0": -11.5,
          "y1": -13
         },
         {
          "layer": "below",
          "line": {
           "color": "#333",
           "width": 4
          },
          "type": "line",
          "x0": 9.8560791015625,
          "x1": 9.85552978515625,
          "y0": -13,
          "y1": -14.5
         },
         {
          "layer": "below",
          "line": {
           "color": "#333",
           "width": 4
          },
          "type": "line",
          "x0": 9.85552978515625,
          "x1": 9.855255126953125,
          "y0": -14.5,
          "y1": -16
         },
         {
          "layer": "below",
          "line": {
           "color": "#333",
           "width": 4
          },
          "type": "line",
          "x0": 9.855255126953125,
          "x1": 9.855117797851562,
          "y0": -16,
          "y1": -17.5
         },
         {
          "layer": "below",
          "line": {
           "color": "#333",
           "width": 4
          },
          "type": "line",
          "x0": 9.855117797851562,
          "x1": 9.855049133300781,
          "y0": -17.5,
          "y1": -19
         },
         {
          "layer": "below",
          "line": {
           "color": "#333",
           "width": 4
          },
          "type": "line",
          "x0": 9.855117797851562,
          "x1": 9.855186462402344,
          "y0": -17.5,
          "y1": -19
         },
         {
          "layer": "below",
          "line": {
           "color": "#333",
           "width": 4
          },
          "type": "line",
          "x0": 9.855255126953125,
          "x1": 9.855392456054688,
          "y0": -16,
          "y1": -17.5
         },
         {
          "layer": "below",
          "line": {
           "color": "#333",
           "width": 4
          },
          "type": "line",
          "x0": 9.855392456054688,
          "x1": 9.855323791503906,
          "y0": -17.5,
          "y1": -19
         },
         {
          "layer": "below",
          "line": {
           "color": "#333",
           "width": 4
          },
          "type": "line",
          "x0": 9.855392456054688,
          "x1": 9.855461120605469,
          "y0": -17.5,
          "y1": -19
         },
         {
          "layer": "below",
          "line": {
           "color": "#333",
           "width": 4
          },
          "type": "line",
          "x0": 9.85552978515625,
          "x1": 9.855804443359375,
          "y0": -14.5,
          "y1": -16
         },
         {
          "layer": "below",
          "line": {
           "color": "#333",
           "width": 4
          },
          "type": "line",
          "x0": 9.855804443359375,
          "x1": 9.855667114257812,
          "y0": -16,
          "y1": -17.5
         },
         {
          "layer": "below",
          "line": {
           "color": "#333",
           "width": 4
          },
          "type": "line",
          "x0": 9.855804443359375,
          "x1": 9.855941772460938,
          "y0": -16,
          "y1": -17.5
         },
         {
          "layer": "below",
          "line": {
           "color": "#333",
           "width": 4
          },
          "type": "line",
          "x0": 9.855941772460938,
          "x1": 9.855873107910156,
          "y0": -17.5,
          "y1": -19
         },
         {
          "layer": "below",
          "line": {
           "color": "#333",
           "width": 4
          },
          "type": "line",
          "x0": 9.855941772460938,
          "x1": 9.856010437011719,
          "y0": -17.5,
          "y1": -19
         },
         {
          "layer": "below",
          "line": {
           "color": "#333",
           "width": 4
          },
          "type": "line",
          "x0": 9.8560791015625,
          "x1": 9.85662841796875,
          "y0": -13,
          "y1": -14.5
         },
         {
          "layer": "below",
          "line": {
           "color": "#333",
           "width": 4
          },
          "type": "line",
          "x0": 9.85662841796875,
          "x1": 9.856353759765625,
          "y0": -14.5,
          "y1": -16
         },
         {
          "layer": "below",
          "line": {
           "color": "#333",
           "width": 4
          },
          "type": "line",
          "x0": 9.85662841796875,
          "x1": 9.856903076171875,
          "y0": -14.5,
          "y1": -16
         },
         {
          "layer": "below",
          "line": {
           "color": "#333",
           "width": 4
          },
          "type": "line",
          "x0": 9.856903076171875,
          "x1": 9.856765747070312,
          "y0": -16,
          "y1": -17.5
         },
         {
          "layer": "below",
          "line": {
           "color": "#333",
           "width": 4
          },
          "type": "line",
          "x0": 9.856765747070312,
          "x1": 9.856697082519531,
          "y0": -17.5,
          "y1": -19
         },
         {
          "layer": "below",
          "line": {
           "color": "#333",
           "width": 4
          },
          "type": "line",
          "x0": 9.856765747070312,
          "x1": 9.856834411621094,
          "y0": -17.5,
          "y1": -19
         },
         {
          "layer": "below",
          "line": {
           "color": "#333",
           "width": 4
          },
          "type": "line",
          "x0": 9.856903076171875,
          "x1": 9.857040405273438,
          "y0": -16,
          "y1": -17.5
         },
         {
          "layer": "below",
          "line": {
           "color": "#333",
           "width": 4
          },
          "type": "line",
          "x0": 9.857040405273438,
          "x1": 9.856971740722656,
          "y0": -17.5,
          "y1": -19
         },
         {
          "layer": "below",
          "line": {
           "color": "#333",
           "width": 4
          },
          "type": "line",
          "x0": 9.857040405273438,
          "x1": 9.857109069824219,
          "y0": -17.5,
          "y1": -19
         },
         {
          "layer": "below",
          "line": {
           "color": "#333",
           "width": 4
          },
          "type": "line",
          "x0": 9.857109069824219,
          "x1": 9.857074737548828,
          "y0": -19,
          "y1": -20.5
         },
         {
          "layer": "below",
          "line": {
           "color": "#333",
           "width": 4
          },
          "type": "line",
          "x0": 9.857109069824219,
          "x1": 9.85714340209961,
          "y0": -19,
          "y1": -20.5
         },
         {
          "layer": "below",
          "line": {
           "color": "#333",
           "width": 4
          },
          "type": "line",
          "x0": 9.857177734375,
          "x1": 9.8582763671875,
          "y0": -11.5,
          "y1": -13
         },
         {
          "layer": "below",
          "line": {
           "color": "#333",
           "width": 4
          },
          "type": "line",
          "x0": 9.8582763671875,
          "x1": 9.85772705078125,
          "y0": -13,
          "y1": -14.5
         },
         {
          "layer": "below",
          "line": {
           "color": "#333",
           "width": 4
          },
          "type": "line",
          "x0": 9.8582763671875,
          "x1": 9.85882568359375,
          "y0": -13,
          "y1": -14.5
         },
         {
          "layer": "below",
          "line": {
           "color": "#333",
           "width": 4
          },
          "type": "line",
          "x0": 9.85882568359375,
          "x1": 9.858551025390625,
          "y0": -14.5,
          "y1": -16
         },
         {
          "layer": "below",
          "line": {
           "color": "#333",
           "width": 4
          },
          "type": "line",
          "x0": 9.85882568359375,
          "x1": 9.859100341796875,
          "y0": -14.5,
          "y1": -16
         },
         {
          "layer": "below",
          "line": {
           "color": "#333",
           "width": 4
          },
          "type": "line",
          "x0": 9.859100341796875,
          "x1": 9.858963012695312,
          "y0": -16,
          "y1": -17.5
         },
         {
          "layer": "below",
          "line": {
           "color": "#333",
           "width": 4
          },
          "type": "line",
          "x0": 9.859100341796875,
          "x1": 9.859237670898438,
          "y0": -16,
          "y1": -17.5
         },
         {
          "layer": "below",
          "line": {
           "color": "#333",
           "width": 4
          },
          "type": "line",
          "x0": 9.859375,
          "x1": 9.9296875,
          "y0": -2.5,
          "y1": -4
         },
         {
          "layer": "below",
          "line": {
           "color": "#333",
           "width": 4
          },
          "type": "line",
          "x0": 9.9296875,
          "x1": 9.89453125,
          "y0": -4,
          "y1": -5.5
         },
         {
          "layer": "below",
          "line": {
           "color": "#333",
           "width": 4
          },
          "type": "line",
          "x0": 9.89453125,
          "x1": 9.876953125,
          "y0": -5.5,
          "y1": -7
         },
         {
          "layer": "below",
          "line": {
           "color": "#333",
           "width": 4
          },
          "type": "line",
          "x0": 9.89453125,
          "x1": 9.912109375,
          "y0": -5.5,
          "y1": -7
         },
         {
          "layer": "below",
          "line": {
           "color": "#333",
           "width": 4
          },
          "type": "line",
          "x0": 9.912109375,
          "x1": 9.9033203125,
          "y0": -7,
          "y1": -8.5
         },
         {
          "layer": "below",
          "line": {
           "color": "#333",
           "width": 4
          },
          "type": "line",
          "x0": 9.9033203125,
          "x1": 9.89892578125,
          "y0": -8.5,
          "y1": -10
         },
         {
          "layer": "below",
          "line": {
           "color": "#333",
           "width": 4
          },
          "type": "line",
          "x0": 9.89892578125,
          "x1": 9.896728515625,
          "y0": -10,
          "y1": -11.5
         },
         {
          "layer": "below",
          "line": {
           "color": "#333",
           "width": 4
          },
          "type": "line",
          "x0": 9.89892578125,
          "x1": 9.901123046875,
          "y0": -10,
          "y1": -11.5
         },
         {
          "layer": "below",
          "line": {
           "color": "#333",
           "width": 4
          },
          "type": "line",
          "x0": 9.9033203125,
          "x1": 9.90771484375,
          "y0": -8.5,
          "y1": -10
         },
         {
          "layer": "below",
          "line": {
           "color": "#333",
           "width": 4
          },
          "type": "line",
          "x0": 9.90771484375,
          "x1": 9.905517578125,
          "y0": -10,
          "y1": -11.5
         },
         {
          "layer": "below",
          "line": {
           "color": "#333",
           "width": 4
          },
          "type": "line",
          "x0": 9.90771484375,
          "x1": 9.909912109375,
          "y0": -10,
          "y1": -11.5
         },
         {
          "layer": "below",
          "line": {
           "color": "#333",
           "width": 4
          },
          "type": "line",
          "x0": 9.909912109375,
          "x1": 9.9088134765625,
          "y0": -11.5,
          "y1": -13
         },
         {
          "layer": "below",
          "line": {
           "color": "#333",
           "width": 4
          },
          "type": "line",
          "x0": 9.909912109375,
          "x1": 9.9110107421875,
          "y0": -11.5,
          "y1": -13
         },
         {
          "layer": "below",
          "line": {
           "color": "#333",
           "width": 4
          },
          "type": "line",
          "x0": 9.9110107421875,
          "x1": 9.91046142578125,
          "y0": -13,
          "y1": -14.5
         },
         {
          "layer": "below",
          "line": {
           "color": "#333",
           "width": 4
          },
          "type": "line",
          "x0": 9.91046142578125,
          "x1": 9.910186767578125,
          "y0": -14.5,
          "y1": -16
         },
         {
          "layer": "below",
          "line": {
           "color": "#333",
           "width": 4
          },
          "type": "line",
          "x0": 9.91046142578125,
          "x1": 9.910736083984375,
          "y0": -14.5,
          "y1": -16
         },
         {
          "layer": "below",
          "line": {
           "color": "#333",
           "width": 4
          },
          "type": "line",
          "x0": 9.9110107421875,
          "x1": 9.91156005859375,
          "y0": -13,
          "y1": -14.5
         },
         {
          "layer": "below",
          "line": {
           "color": "#333",
           "width": 4
          },
          "type": "line",
          "x0": 9.91156005859375,
          "x1": 9.911285400390625,
          "y0": -14.5,
          "y1": -16
         },
         {
          "layer": "below",
          "line": {
           "color": "#333",
           "width": 4
          },
          "type": "line",
          "x0": 9.91156005859375,
          "x1": 9.911834716796875,
          "y0": -14.5,
          "y1": -16
         },
         {
          "layer": "below",
          "line": {
           "color": "#333",
           "width": 4
          },
          "type": "line",
          "x0": 9.912109375,
          "x1": 9.9208984375,
          "y0": -7,
          "y1": -8.5
         },
         {
          "layer": "below",
          "line": {
           "color": "#333",
           "width": 4
          },
          "type": "line",
          "x0": 9.9208984375,
          "x1": 9.91650390625,
          "y0": -8.5,
          "y1": -10
         },
         {
          "layer": "below",
          "line": {
           "color": "#333",
           "width": 4
          },
          "type": "line",
          "x0": 9.91650390625,
          "x1": 9.914306640625,
          "y0": -10,
          "y1": -11.5
         },
         {
          "layer": "below",
          "line": {
           "color": "#333",
           "width": 4
          },
          "type": "line",
          "x0": 9.914306640625,
          "x1": 9.9132080078125,
          "y0": -11.5,
          "y1": -13
         },
         {
          "layer": "below",
          "line": {
           "color": "#333",
           "width": 4
          },
          "type": "line",
          "x0": 9.914306640625,
          "x1": 9.9154052734375,
          "y0": -11.5,
          "y1": -13
         },
         {
          "layer": "below",
          "line": {
           "color": "#333",
           "width": 4
          },
          "type": "line",
          "x0": 9.91650390625,
          "x1": 9.918701171875,
          "y0": -10,
          "y1": -11.5
         },
         {
          "layer": "below",
          "line": {
           "color": "#333",
           "width": 4
          },
          "type": "line",
          "x0": 9.918701171875,
          "x1": 9.9176025390625,
          "y0": -11.5,
          "y1": -13
         },
         {
          "layer": "below",
          "line": {
           "color": "#333",
           "width": 4
          },
          "type": "line",
          "x0": 9.918701171875,
          "x1": 9.9197998046875,
          "y0": -11.5,
          "y1": -13
         },
         {
          "layer": "below",
          "line": {
           "color": "#333",
           "width": 4
          },
          "type": "line",
          "x0": 9.9197998046875,
          "x1": 9.91925048828125,
          "y0": -13,
          "y1": -14.5
         },
         {
          "layer": "below",
          "line": {
           "color": "#333",
           "width": 4
          },
          "type": "line",
          "x0": 9.9197998046875,
          "x1": 9.92034912109375,
          "y0": -13,
          "y1": -14.5
         },
         {
          "layer": "below",
          "line": {
           "color": "#333",
           "width": 4
          },
          "type": "line",
          "x0": 9.9208984375,
          "x1": 9.92529296875,
          "y0": -8.5,
          "y1": -10
         },
         {
          "layer": "below",
          "line": {
           "color": "#333",
           "width": 4
          },
          "type": "line",
          "x0": 9.92529296875,
          "x1": 9.923095703125,
          "y0": -10,
          "y1": -11.5
         },
         {
          "layer": "below",
          "line": {
           "color": "#333",
           "width": 4
          },
          "type": "line",
          "x0": 9.923095703125,
          "x1": 9.9219970703125,
          "y0": -11.5,
          "y1": -13
         },
         {
          "layer": "below",
          "line": {
           "color": "#333",
           "width": 4
          },
          "type": "line",
          "x0": 9.9219970703125,
          "x1": 9.92144775390625,
          "y0": -13,
          "y1": -14.5
         },
         {
          "layer": "below",
          "line": {
           "color": "#333",
           "width": 4
          },
          "type": "line",
          "x0": 9.9219970703125,
          "x1": 9.92254638671875,
          "y0": -13,
          "y1": -14.5
         },
         {
          "layer": "below",
          "line": {
           "color": "#333",
           "width": 4
          },
          "type": "line",
          "x0": 9.923095703125,
          "x1": 9.9241943359375,
          "y0": -11.5,
          "y1": -13
         },
         {
          "layer": "below",
          "line": {
           "color": "#333",
           "width": 4
          },
          "type": "line",
          "x0": 9.9241943359375,
          "x1": 9.92364501953125,
          "y0": -13,
          "y1": -14.5
         },
         {
          "layer": "below",
          "line": {
           "color": "#333",
           "width": 4
          },
          "type": "line",
          "x0": 9.9241943359375,
          "x1": 9.92474365234375,
          "y0": -13,
          "y1": -14.5
         },
         {
          "layer": "below",
          "line": {
           "color": "#333",
           "width": 4
          },
          "type": "line",
          "x0": 9.92474365234375,
          "x1": 9.924468994140625,
          "y0": -14.5,
          "y1": -16
         },
         {
          "layer": "below",
          "line": {
           "color": "#333",
           "width": 4
          },
          "type": "line",
          "x0": 9.92474365234375,
          "x1": 9.925018310546875,
          "y0": -14.5,
          "y1": -16
         },
         {
          "layer": "below",
          "line": {
           "color": "#333",
           "width": 4
          },
          "type": "line",
          "x0": 9.92529296875,
          "x1": 9.927490234375,
          "y0": -10,
          "y1": -11.5
         },
         {
          "layer": "below",
          "line": {
           "color": "#333",
           "width": 4
          },
          "type": "line",
          "x0": 9.927490234375,
          "x1": 9.9263916015625,
          "y0": -11.5,
          "y1": -13
         },
         {
          "layer": "below",
          "line": {
           "color": "#333",
           "width": 4
          },
          "type": "line",
          "x0": 9.9263916015625,
          "x1": 9.92584228515625,
          "y0": -13,
          "y1": -14.5
         },
         {
          "layer": "below",
          "line": {
           "color": "#333",
           "width": 4
          },
          "type": "line",
          "x0": 9.92584228515625,
          "x1": 9.925567626953125,
          "y0": -14.5,
          "y1": -16
         },
         {
          "layer": "below",
          "line": {
           "color": "#333",
           "width": 4
          },
          "type": "line",
          "x0": 9.92584228515625,
          "x1": 9.926116943359375,
          "y0": -14.5,
          "y1": -16
         },
         {
          "layer": "below",
          "line": {
           "color": "#333",
           "width": 4
          },
          "type": "line",
          "x0": 9.9263916015625,
          "x1": 9.92694091796875,
          "y0": -13,
          "y1": -14.5
         },
         {
          "layer": "below",
          "line": {
           "color": "#333",
           "width": 4
          },
          "type": "line",
          "x0": 9.92694091796875,
          "x1": 9.926666259765625,
          "y0": -14.5,
          "y1": -16
         },
         {
          "layer": "below",
          "line": {
           "color": "#333",
           "width": 4
          },
          "type": "line",
          "x0": 9.92694091796875,
          "x1": 9.927215576171875,
          "y0": -14.5,
          "y1": -16
         },
         {
          "layer": "below",
          "line": {
           "color": "#333",
           "width": 4
          },
          "type": "line",
          "x0": 9.927490234375,
          "x1": 9.9285888671875,
          "y0": -11.5,
          "y1": -13
         },
         {
          "layer": "below",
          "line": {
           "color": "#333",
           "width": 4
          },
          "type": "line",
          "x0": 9.9285888671875,
          "x1": 9.92803955078125,
          "y0": -13,
          "y1": -14.5
         },
         {
          "layer": "below",
          "line": {
           "color": "#333",
           "width": 4
          },
          "type": "line",
          "x0": 9.92803955078125,
          "x1": 9.927764892578125,
          "y0": -14.5,
          "y1": -16
         },
         {
          "layer": "below",
          "line": {
           "color": "#333",
           "width": 4
          },
          "type": "line",
          "x0": 9.927764892578125,
          "x1": 9.927627563476562,
          "y0": -16,
          "y1": -17.5
         },
         {
          "layer": "below",
          "line": {
           "color": "#333",
           "width": 4
          },
          "type": "line",
          "x0": 9.927764892578125,
          "x1": 9.927902221679688,
          "y0": -16,
          "y1": -17.5
         },
         {
          "layer": "below",
          "line": {
           "color": "#333",
           "width": 4
          },
          "type": "line",
          "x0": 9.92803955078125,
          "x1": 9.928314208984375,
          "y0": -14.5,
          "y1": -16
         },
         {
          "layer": "below",
          "line": {
           "color": "#333",
           "width": 4
          },
          "type": "line",
          "x0": 9.928314208984375,
          "x1": 9.928176879882812,
          "y0": -16,
          "y1": -17.5
         },
         {
          "layer": "below",
          "line": {
           "color": "#333",
           "width": 4
          },
          "type": "line",
          "x0": 9.928176879882812,
          "x1": 9.928108215332031,
          "y0": -17.5,
          "y1": -19
         },
         {
          "layer": "below",
          "line": {
           "color": "#333",
           "width": 4
          },
          "type": "line",
          "x0": 9.928176879882812,
          "x1": 9.928245544433594,
          "y0": -17.5,
          "y1": -19
         },
         {
          "layer": "below",
          "line": {
           "color": "#333",
           "width": 4
          },
          "type": "line",
          "x0": 9.928314208984375,
          "x1": 9.928451538085938,
          "y0": -16,
          "y1": -17.5
         },
         {
          "layer": "below",
          "line": {
           "color": "#333",
           "width": 4
          },
          "type": "line",
          "x0": 9.928451538085938,
          "x1": 9.928382873535156,
          "y0": -17.5,
          "y1": -19
         },
         {
          "layer": "below",
          "line": {
           "color": "#333",
           "width": 4
          },
          "type": "line",
          "x0": 9.928451538085938,
          "x1": 9.928520202636719,
          "y0": -17.5,
          "y1": -19
         },
         {
          "layer": "below",
          "line": {
           "color": "#333",
           "width": 4
          },
          "type": "line",
          "x0": 9.9285888671875,
          "x1": 9.92913818359375,
          "y0": -13,
          "y1": -14.5
         },
         {
          "layer": "below",
          "line": {
           "color": "#333",
           "width": 4
          },
          "type": "line",
          "x0": 9.92913818359375,
          "x1": 9.928863525390625,
          "y0": -14.5,
          "y1": -16
         },
         {
          "layer": "below",
          "line": {
           "color": "#333",
           "width": 4
          },
          "type": "line",
          "x0": 9.928863525390625,
          "x1": 9.928726196289062,
          "y0": -16,
          "y1": -17.5
         },
         {
          "layer": "below",
          "line": {
           "color": "#333",
           "width": 4
          },
          "type": "line",
          "x0": 9.928863525390625,
          "x1": 9.929000854492188,
          "y0": -16,
          "y1": -17.5
         },
         {
          "layer": "below",
          "line": {
           "color": "#333",
           "width": 4
          },
          "type": "line",
          "x0": 9.929000854492188,
          "x1": 9.928932189941406,
          "y0": -17.5,
          "y1": -19
         },
         {
          "layer": "below",
          "line": {
           "color": "#333",
           "width": 4
          },
          "type": "line",
          "x0": 9.929000854492188,
          "x1": 9.929069519042969,
          "y0": -17.5,
          "y1": -19
         },
         {
          "layer": "below",
          "line": {
           "color": "#333",
           "width": 4
          },
          "type": "line",
          "x0": 9.92913818359375,
          "x1": 9.929412841796875,
          "y0": -14.5,
          "y1": -16
         },
         {
          "layer": "below",
          "line": {
           "color": "#333",
           "width": 4
          },
          "type": "line",
          "x0": 9.929412841796875,
          "x1": 9.929275512695312,
          "y0": -16,
          "y1": -17.5
         },
         {
          "layer": "below",
          "line": {
           "color": "#333",
           "width": 4
          },
          "type": "line",
          "x0": 9.929275512695312,
          "x1": 9.929206848144531,
          "y0": -17.5,
          "y1": -19
         },
         {
          "layer": "below",
          "line": {
           "color": "#333",
           "width": 4
          },
          "type": "line",
          "x0": 9.929206848144531,
          "x1": 9.92917251586914,
          "y0": -19,
          "y1": -20.5
         },
         {
          "layer": "below",
          "line": {
           "color": "#333",
           "width": 4
          },
          "type": "line",
          "x0": 9.929206848144531,
          "x1": 9.929241180419922,
          "y0": -19,
          "y1": -20.5
         },
         {
          "layer": "below",
          "line": {
           "color": "#333",
           "width": 4
          },
          "type": "line",
          "x0": 9.929275512695312,
          "x1": 9.929344177246094,
          "y0": -17.5,
          "y1": -19
         },
         {
          "layer": "below",
          "line": {
           "color": "#333",
           "width": 4
          },
          "type": "line",
          "x0": 9.929344177246094,
          "x1": 9.929309844970703,
          "y0": -19,
          "y1": -20.5
         },
         {
          "layer": "below",
          "line": {
           "color": "#333",
           "width": 4
          },
          "type": "line",
          "x0": 9.929344177246094,
          "x1": 9.929378509521484,
          "y0": -19,
          "y1": -20.5
         },
         {
          "layer": "below",
          "line": {
           "color": "#333",
           "width": 4
          },
          "type": "line",
          "x0": 9.929378509521484,
          "x1": 9.929361343383789,
          "y0": -20.5,
          "y1": -22
         },
         {
          "layer": "below",
          "line": {
           "color": "#333",
           "width": 4
          },
          "type": "line",
          "x0": 9.929378509521484,
          "x1": 9.92939567565918,
          "y0": -20.5,
          "y1": -22
         },
         {
          "layer": "below",
          "line": {
           "color": "#333",
           "width": 4
          },
          "type": "line",
          "x0": 9.929412841796875,
          "x1": 9.929550170898438,
          "y0": -16,
          "y1": -17.5
         },
         {
          "layer": "below",
          "line": {
           "color": "#333",
           "width": 4
          },
          "type": "line",
          "x0": 9.929550170898438,
          "x1": 9.929481506347656,
          "y0": -17.5,
          "y1": -19
         },
         {
          "layer": "below",
          "line": {
           "color": "#333",
           "width": 4
          },
          "type": "line",
          "x0": 9.929481506347656,
          "x1": 9.929447174072266,
          "y0": -19,
          "y1": -20.5
         },
         {
          "layer": "below",
          "line": {
           "color": "#333",
           "width": 4
          },
          "type": "line",
          "x0": 9.929481506347656,
          "x1": 9.929515838623047,
          "y0": -19,
          "y1": -20.5
         },
         {
          "layer": "below",
          "line": {
           "color": "#333",
           "width": 4
          },
          "type": "line",
          "x0": 9.929550170898438,
          "x1": 9.929618835449219,
          "y0": -17.5,
          "y1": -19
         },
         {
          "layer": "below",
          "line": {
           "color": "#333",
           "width": 4
          },
          "type": "line",
          "x0": 9.929618835449219,
          "x1": 9.929584503173828,
          "y0": -19,
          "y1": -20.5
         },
         {
          "layer": "below",
          "line": {
           "color": "#333",
           "width": 4
          },
          "type": "line",
          "x0": 9.929584503173828,
          "x1": 9.929567337036133,
          "y0": -20.5,
          "y1": -22
         },
         {
          "layer": "below",
          "line": {
           "color": "#333",
           "width": 4
          },
          "type": "line",
          "x0": 9.929584503173828,
          "x1": 9.929601669311523,
          "y0": -20.5,
          "y1": -22
         },
         {
          "layer": "below",
          "line": {
           "color": "#333",
           "width": 4
          },
          "type": "line",
          "x0": 9.929601669311523,
          "x1": 9.929593086242676,
          "y0": -22,
          "y1": -23.5
         },
         {
          "layer": "below",
          "line": {
           "color": "#333",
           "width": 4
          },
          "type": "line",
          "x0": 9.929601669311523,
          "x1": 9.929610252380371,
          "y0": -22,
          "y1": -23.5
         },
         {
          "layer": "below",
          "line": {
           "color": "#333",
           "width": 4
          },
          "type": "line",
          "x0": 9.929618835449219,
          "x1": 9.92965316772461,
          "y0": -19,
          "y1": -20.5
         },
         {
          "layer": "below",
          "line": {
           "color": "#333",
           "width": 4
          },
          "type": "line",
          "x0": 9.92965316772461,
          "x1": 9.929636001586914,
          "y0": -20.5,
          "y1": -22
         },
         {
          "layer": "below",
          "line": {
           "color": "#333",
           "width": 4
          },
          "type": "line",
          "x0": 9.92965316772461,
          "x1": 9.929670333862305,
          "y0": -20.5,
          "y1": -22
         },
         {
          "layer": "below",
          "line": {
           "color": "#333",
           "width": 4
          },
          "type": "line",
          "x0": 9.929670333862305,
          "x1": 9.929661750793457,
          "y0": -22,
          "y1": -23.5
         },
         {
          "layer": "below",
          "line": {
           "color": "#333",
           "width": 4
          },
          "type": "line",
          "x0": 9.929670333862305,
          "x1": 9.929678916931152,
          "y0": -22,
          "y1": -23.5
         },
         {
          "layer": "below",
          "line": {
           "color": "#333",
           "width": 4
          },
          "type": "line",
          "x0": 9.929678916931152,
          "x1": 9.929674625396729,
          "y0": -23.5,
          "y1": -25
         },
         {
          "layer": "below",
          "line": {
           "color": "#333",
           "width": 4
          },
          "type": "line",
          "x0": 9.929678916931152,
          "x1": 9.929683208465576,
          "y0": -23.5,
          "y1": -25
         },
         {
          "layer": "below",
          "line": {
           "color": "#333",
           "width": 4
          },
          "type": "line",
          "x0": 9.9296875,
          "x1": 9.96484375,
          "y0": -4,
          "y1": -5.5
         },
         {
          "layer": "below",
          "line": {
           "color": "#333",
           "width": 4
          },
          "type": "line",
          "x0": 9.96484375,
          "x1": 9.947265625,
          "y0": -5.5,
          "y1": -7
         },
         {
          "layer": "below",
          "line": {
           "color": "#333",
           "width": 4
          },
          "type": "line",
          "x0": 9.96484375,
          "x1": 9.982421875,
          "y0": -5.5,
          "y1": -7
         },
         {
          "layer": "below",
          "line": {
           "color": "#333",
           "width": 4
          },
          "type": "line",
          "x0": 9.982421875,
          "x1": 9.9736328125,
          "y0": -7,
          "y1": -8.5
         },
         {
          "layer": "below",
          "line": {
           "color": "#333",
           "width": 4
          },
          "type": "line",
          "x0": 9.9736328125,
          "x1": 9.96923828125,
          "y0": -8.5,
          "y1": -10
         },
         {
          "layer": "below",
          "line": {
           "color": "#333",
           "width": 4
          },
          "type": "line",
          "x0": 9.9736328125,
          "x1": 9.97802734375,
          "y0": -8.5,
          "y1": -10
         },
         {
          "layer": "below",
          "line": {
           "color": "#333",
           "width": 4
          },
          "type": "line",
          "x0": 9.982421875,
          "x1": 9.9912109375,
          "y0": -7,
          "y1": -8.5
         },
         {
          "layer": "below",
          "line": {
           "color": "#333",
           "width": 4
          },
          "type": "line",
          "x0": 9.9912109375,
          "x1": 9.98681640625,
          "y0": -8.5,
          "y1": -10
         },
         {
          "layer": "below",
          "line": {
           "color": "#333",
           "width": 4
          },
          "type": "line",
          "x0": 9.9912109375,
          "x1": 9.99560546875,
          "y0": -8.5,
          "y1": -10
         }
        ],
        "template": {
         "data": {
          "bar": [
           {
            "error_x": {
             "color": "#2a3f5f"
            },
            "error_y": {
             "color": "#2a3f5f"
            },
            "marker": {
             "line": {
              "color": "#E5ECF6",
              "width": 0.5
             },
             "pattern": {
              "fillmode": "overlay",
              "size": 10,
              "solidity": 0.2
             }
            },
            "type": "bar"
           }
          ],
          "barpolar": [
           {
            "marker": {
             "line": {
              "color": "#E5ECF6",
              "width": 0.5
             },
             "pattern": {
              "fillmode": "overlay",
              "size": 10,
              "solidity": 0.2
             }
            },
            "type": "barpolar"
           }
          ],
          "carpet": [
           {
            "aaxis": {
             "endlinecolor": "#2a3f5f",
             "gridcolor": "white",
             "linecolor": "white",
             "minorgridcolor": "white",
             "startlinecolor": "#2a3f5f"
            },
            "baxis": {
             "endlinecolor": "#2a3f5f",
             "gridcolor": "white",
             "linecolor": "white",
             "minorgridcolor": "white",
             "startlinecolor": "#2a3f5f"
            },
            "type": "carpet"
           }
          ],
          "choropleth": [
           {
            "colorbar": {
             "outlinewidth": 0,
             "ticks": ""
            },
            "type": "choropleth"
           }
          ],
          "contour": [
           {
            "colorbar": {
             "outlinewidth": 0,
             "ticks": ""
            },
            "colorscale": [
             [
              0,
              "#0d0887"
             ],
             [
              0.1111111111111111,
              "#46039f"
             ],
             [
              0.2222222222222222,
              "#7201a8"
             ],
             [
              0.3333333333333333,
              "#9c179e"
             ],
             [
              0.4444444444444444,
              "#bd3786"
             ],
             [
              0.5555555555555556,
              "#d8576b"
             ],
             [
              0.6666666666666666,
              "#ed7953"
             ],
             [
              0.7777777777777778,
              "#fb9f3a"
             ],
             [
              0.8888888888888888,
              "#fdca26"
             ],
             [
              1,
              "#f0f921"
             ]
            ],
            "type": "contour"
           }
          ],
          "contourcarpet": [
           {
            "colorbar": {
             "outlinewidth": 0,
             "ticks": ""
            },
            "type": "contourcarpet"
           }
          ],
          "heatmap": [
           {
            "colorbar": {
             "outlinewidth": 0,
             "ticks": ""
            },
            "colorscale": [
             [
              0,
              "#0d0887"
             ],
             [
              0.1111111111111111,
              "#46039f"
             ],
             [
              0.2222222222222222,
              "#7201a8"
             ],
             [
              0.3333333333333333,
              "#9c179e"
             ],
             [
              0.4444444444444444,
              "#bd3786"
             ],
             [
              0.5555555555555556,
              "#d8576b"
             ],
             [
              0.6666666666666666,
              "#ed7953"
             ],
             [
              0.7777777777777778,
              "#fb9f3a"
             ],
             [
              0.8888888888888888,
              "#fdca26"
             ],
             [
              1,
              "#f0f921"
             ]
            ],
            "type": "heatmap"
           }
          ],
          "heatmapgl": [
           {
            "colorbar": {
             "outlinewidth": 0,
             "ticks": ""
            },
            "colorscale": [
             [
              0,
              "#0d0887"
             ],
             [
              0.1111111111111111,
              "#46039f"
             ],
             [
              0.2222222222222222,
              "#7201a8"
             ],
             [
              0.3333333333333333,
              "#9c179e"
             ],
             [
              0.4444444444444444,
              "#bd3786"
             ],
             [
              0.5555555555555556,
              "#d8576b"
             ],
             [
              0.6666666666666666,
              "#ed7953"
             ],
             [
              0.7777777777777778,
              "#fb9f3a"
             ],
             [
              0.8888888888888888,
              "#fdca26"
             ],
             [
              1,
              "#f0f921"
             ]
            ],
            "type": "heatmapgl"
           }
          ],
          "histogram": [
           {
            "marker": {
             "pattern": {
              "fillmode": "overlay",
              "size": 10,
              "solidity": 0.2
             }
            },
            "type": "histogram"
           }
          ],
          "histogram2d": [
           {
            "colorbar": {
             "outlinewidth": 0,
             "ticks": ""
            },
            "colorscale": [
             [
              0,
              "#0d0887"
             ],
             [
              0.1111111111111111,
              "#46039f"
             ],
             [
              0.2222222222222222,
              "#7201a8"
             ],
             [
              0.3333333333333333,
              "#9c179e"
             ],
             [
              0.4444444444444444,
              "#bd3786"
             ],
             [
              0.5555555555555556,
              "#d8576b"
             ],
             [
              0.6666666666666666,
              "#ed7953"
             ],
             [
              0.7777777777777778,
              "#fb9f3a"
             ],
             [
              0.8888888888888888,
              "#fdca26"
             ],
             [
              1,
              "#f0f921"
             ]
            ],
            "type": "histogram2d"
           }
          ],
          "histogram2dcontour": [
           {
            "colorbar": {
             "outlinewidth": 0,
             "ticks": ""
            },
            "colorscale": [
             [
              0,
              "#0d0887"
             ],
             [
              0.1111111111111111,
              "#46039f"
             ],
             [
              0.2222222222222222,
              "#7201a8"
             ],
             [
              0.3333333333333333,
              "#9c179e"
             ],
             [
              0.4444444444444444,
              "#bd3786"
             ],
             [
              0.5555555555555556,
              "#d8576b"
             ],
             [
              0.6666666666666666,
              "#ed7953"
             ],
             [
              0.7777777777777778,
              "#fb9f3a"
             ],
             [
              0.8888888888888888,
              "#fdca26"
             ],
             [
              1,
              "#f0f921"
             ]
            ],
            "type": "histogram2dcontour"
           }
          ],
          "mesh3d": [
           {
            "colorbar": {
             "outlinewidth": 0,
             "ticks": ""
            },
            "type": "mesh3d"
           }
          ],
          "parcoords": [
           {
            "line": {
             "colorbar": {
              "outlinewidth": 0,
              "ticks": ""
             }
            },
            "type": "parcoords"
           }
          ],
          "pie": [
           {
            "automargin": true,
            "type": "pie"
           }
          ],
          "scatter": [
           {
            "fillpattern": {
             "fillmode": "overlay",
             "size": 10,
             "solidity": 0.2
            },
            "type": "scatter"
           }
          ],
          "scatter3d": [
           {
            "line": {
             "colorbar": {
              "outlinewidth": 0,
              "ticks": ""
             }
            },
            "marker": {
             "colorbar": {
              "outlinewidth": 0,
              "ticks": ""
             }
            },
            "type": "scatter3d"
           }
          ],
          "scattercarpet": [
           {
            "marker": {
             "colorbar": {
              "outlinewidth": 0,
              "ticks": ""
             }
            },
            "type": "scattercarpet"
           }
          ],
          "scattergeo": [
           {
            "marker": {
             "colorbar": {
              "outlinewidth": 0,
              "ticks": ""
             }
            },
            "type": "scattergeo"
           }
          ],
          "scattergl": [
           {
            "marker": {
             "colorbar": {
              "outlinewidth": 0,
              "ticks": ""
             }
            },
            "type": "scattergl"
           }
          ],
          "scattermapbox": [
           {
            "marker": {
             "colorbar": {
              "outlinewidth": 0,
              "ticks": ""
             }
            },
            "type": "scattermapbox"
           }
          ],
          "scatterpolar": [
           {
            "marker": {
             "colorbar": {
              "outlinewidth": 0,
              "ticks": ""
             }
            },
            "type": "scatterpolar"
           }
          ],
          "scatterpolargl": [
           {
            "marker": {
             "colorbar": {
              "outlinewidth": 0,
              "ticks": ""
             }
            },
            "type": "scatterpolargl"
           }
          ],
          "scatterternary": [
           {
            "marker": {
             "colorbar": {
              "outlinewidth": 0,
              "ticks": ""
             }
            },
            "type": "scatterternary"
           }
          ],
          "surface": [
           {
            "colorbar": {
             "outlinewidth": 0,
             "ticks": ""
            },
            "colorscale": [
             [
              0,
              "#0d0887"
             ],
             [
              0.1111111111111111,
              "#46039f"
             ],
             [
              0.2222222222222222,
              "#7201a8"
             ],
             [
              0.3333333333333333,
              "#9c179e"
             ],
             [
              0.4444444444444444,
              "#bd3786"
             ],
             [
              0.5555555555555556,
              "#d8576b"
             ],
             [
              0.6666666666666666,
              "#ed7953"
             ],
             [
              0.7777777777777778,
              "#fb9f3a"
             ],
             [
              0.8888888888888888,
              "#fdca26"
             ],
             [
              1,
              "#f0f921"
             ]
            ],
            "type": "surface"
           }
          ],
          "table": [
           {
            "cells": {
             "fill": {
              "color": "#EBF0F8"
             },
             "line": {
              "color": "white"
             }
            },
            "header": {
             "fill": {
              "color": "#C8D4E3"
             },
             "line": {
              "color": "white"
             }
            },
            "type": "table"
           }
          ]
         },
         "layout": {
          "annotationdefaults": {
           "arrowcolor": "#2a3f5f",
           "arrowhead": 0,
           "arrowwidth": 1
          },
          "autotypenumbers": "strict",
          "coloraxis": {
           "colorbar": {
            "outlinewidth": 0,
            "ticks": ""
           }
          },
          "colorscale": {
           "diverging": [
            [
             0,
             "#8e0152"
            ],
            [
             0.1,
             "#c51b7d"
            ],
            [
             0.2,
             "#de77ae"
            ],
            [
             0.3,
             "#f1b6da"
            ],
            [
             0.4,
             "#fde0ef"
            ],
            [
             0.5,
             "#f7f7f7"
            ],
            [
             0.6,
             "#e6f5d0"
            ],
            [
             0.7,
             "#b8e186"
            ],
            [
             0.8,
             "#7fbc41"
            ],
            [
             0.9,
             "#4d9221"
            ],
            [
             1,
             "#276419"
            ]
           ],
           "sequential": [
            [
             0,
             "#0d0887"
            ],
            [
             0.1111111111111111,
             "#46039f"
            ],
            [
             0.2222222222222222,
             "#7201a8"
            ],
            [
             0.3333333333333333,
             "#9c179e"
            ],
            [
             0.4444444444444444,
             "#bd3786"
            ],
            [
             0.5555555555555556,
             "#d8576b"
            ],
            [
             0.6666666666666666,
             "#ed7953"
            ],
            [
             0.7777777777777778,
             "#fb9f3a"
            ],
            [
             0.8888888888888888,
             "#fdca26"
            ],
            [
             1,
             "#f0f921"
            ]
           ],
           "sequentialminus": [
            [
             0,
             "#0d0887"
            ],
            [
             0.1111111111111111,
             "#46039f"
            ],
            [
             0.2222222222222222,
             "#7201a8"
            ],
            [
             0.3333333333333333,
             "#9c179e"
            ],
            [
             0.4444444444444444,
             "#bd3786"
            ],
            [
             0.5555555555555556,
             "#d8576b"
            ],
            [
             0.6666666666666666,
             "#ed7953"
            ],
            [
             0.7777777777777778,
             "#fb9f3a"
            ],
            [
             0.8888888888888888,
             "#fdca26"
            ],
            [
             1,
             "#f0f921"
            ]
           ]
          },
          "colorway": [
           "#636efa",
           "#EF553B",
           "#00cc96",
           "#ab63fa",
           "#FFA15A",
           "#19d3f3",
           "#FF6692",
           "#B6E880",
           "#FF97FF",
           "#FECB52"
          ],
          "font": {
           "color": "#2a3f5f"
          },
          "geo": {
           "bgcolor": "white",
           "lakecolor": "white",
           "landcolor": "#E5ECF6",
           "showlakes": true,
           "showland": true,
           "subunitcolor": "white"
          },
          "hoverlabel": {
           "align": "left"
          },
          "hovermode": "closest",
          "mapbox": {
           "style": "light"
          },
          "paper_bgcolor": "white",
          "plot_bgcolor": "#E5ECF6",
          "polar": {
           "angularaxis": {
            "gridcolor": "white",
            "linecolor": "white",
            "ticks": ""
           },
           "bgcolor": "#E5ECF6",
           "radialaxis": {
            "gridcolor": "white",
            "linecolor": "white",
            "ticks": ""
           }
          },
          "scene": {
           "xaxis": {
            "backgroundcolor": "#E5ECF6",
            "gridcolor": "white",
            "gridwidth": 2,
            "linecolor": "white",
            "showbackground": true,
            "ticks": "",
            "zerolinecolor": "white"
           },
           "yaxis": {
            "backgroundcolor": "#E5ECF6",
            "gridcolor": "white",
            "gridwidth": 2,
            "linecolor": "white",
            "showbackground": true,
            "ticks": "",
            "zerolinecolor": "white"
           },
           "zaxis": {
            "backgroundcolor": "#E5ECF6",
            "gridcolor": "white",
            "gridwidth": 2,
            "linecolor": "white",
            "showbackground": true,
            "ticks": "",
            "zerolinecolor": "white"
           }
          },
          "shapedefaults": {
           "line": {
            "color": "#2a3f5f"
           }
          },
          "ternary": {
           "aaxis": {
            "gridcolor": "white",
            "linecolor": "white",
            "ticks": ""
           },
           "baxis": {
            "gridcolor": "white",
            "linecolor": "white",
            "ticks": ""
           },
           "bgcolor": "#E5ECF6",
           "caxis": {
            "gridcolor": "white",
            "linecolor": "white",
            "ticks": ""
           }
          },
          "title": {
           "x": 0.05
          },
          "xaxis": {
           "automargin": true,
           "gridcolor": "white",
           "linecolor": "white",
           "ticks": "",
           "title": {
            "standoff": 15
           },
           "zerolinecolor": "white",
           "zerolinewidth": 2
          },
          "yaxis": {
           "automargin": true,
           "gridcolor": "white",
           "linecolor": "white",
           "ticks": "",
           "title": {
            "standoff": 15
           },
           "zerolinecolor": "white",
           "zerolinewidth": 2
          }
         }
        },
        "width": 1000,
        "xaxis": {
         "showgrid": false,
         "showline": false,
         "showticklabels": false,
         "zeroline": false
        },
        "yaxis": {
         "showgrid": false,
         "showline": false,
         "showticklabels": false,
         "zeroline": false
        }
       }
      }
     },
     "metadata": {},
     "output_type": "display_data"
    }
   ],
   "source": []
  },
  {
   "cell_type": "code",
   "execution_count": 75,
   "metadata": {},
   "outputs": [],
   "source": [
    "def search_tree(now,c,merge_list):\n",
    "    if(len(now.son) != 2):\n",
    "        return now;\n",
    "    lson = search_tree(now.son[0],c,merge_list);\n",
    "    now.son[0] = lson;\n",
    "    rson = search_tree(now.son[1],c,merge_list);\n",
    "    now.son[1] = rson\n",
    "\n",
    "    if(np.linalg.norm(lson.value-rson.value)<=c):\n",
    "        if(len(lson.son)>1 and len(rson.son)>1):\n",
    "            pass\n",
    "        elif(len(lson.son)>1):\n",
    "            merge_list.append((rson.name,lson.name))\n",
    "            print(rson.name,lson.name)\n",
    "            now = rson;\n",
    "            now.son.append(lson);\n",
    "        else:\n",
    "            merge_list.append((rson.name,lson.name))\n",
    "            print(rson.name,lson.name)\n",
    "            now = lson;\n",
    "            now.son.append(rson)\n",
    "    return now;"
   ]
  },
  {
   "cell_type": "code",
   "execution_count": 101,
   "metadata": {},
   "outputs": [
    {
     "name": "stdout",
     "output_type": "stream",
     "text": [
      "170 109\n",
      "109 52\n",
      "52 6\n",
      "144 122\n",
      "122 91\n",
      "91 167\n",
      "167 322\n",
      "72 22\n",
      "172 17\n",
      "178 25\n",
      "25 17\n",
      "17 22\n",
      "138 11\n",
      "11 89\n",
      "89 134\n",
      "134 22\n",
      "177 152\n",
      "161 61\n",
      "24 10\n",
      "179 174\n",
      "174 67\n",
      "67 10\n",
      "10 61\n",
      "114 29\n",
      "162 80\n",
      "80 96\n",
      "76 3\n",
      "3 96\n",
      "132 57\n",
      "57 182\n",
      "57 63\n",
      "63 96\n",
      "165 5\n",
      "5 28\n",
      "28 268\n",
      "129 77\n",
      "77 36\n",
      "100 55\n",
      "55 12\n",
      "12 169\n",
      "169 36\n",
      "36 9\n",
      "173 0\n",
      "0 160\n",
      "160 111\n",
      "111 9\n",
      "131 88\n",
      "166 98\n",
      "98 88\n",
      "142 43\n",
      "43 88\n",
      "350 81\n",
      "81 175\n",
      "154 83\n",
      "86 38\n",
      "38 37\n",
      "37 42\n",
      "303 83\n",
      "158 147\n",
      "147 163\n",
      "163 1\n",
      "105 8\n",
      "8 65\n",
      "99 71\n",
      "71 136\n",
      "136 65\n",
      "337 1\n",
      "75 53\n",
      "145 13\n",
      "13 171\n",
      "171 53\n",
      "155 2\n",
      "2 106\n",
      "106 101\n",
      "139 16\n",
      "78 21\n",
      "87 56\n",
      "56 73\n",
      "73 275\n",
      "90 60\n",
      "137 66\n",
      "66 60\n",
      "186 168\n",
      "168 60\n",
      "116 110\n",
      "140 32\n",
      "32 20\n",
      "20 110\n",
      "110 23\n",
      "23 168\n",
      "120 119\n",
      "119 159\n",
      "159 74\n",
      "74 23\n",
      "319 16\n",
      "102 51\n",
      "62 31\n",
      "146 126\n",
      "126 31\n",
      "31 54\n",
      "54 150\n",
      "150 51\n",
      "82 49\n",
      "69 35\n",
      "35 151\n",
      "151 49\n",
      "148 95\n",
      "133 26\n",
      "26 93\n",
      "93 95\n",
      "113 97\n",
      "97 193\n",
      "176 143\n",
      "103 30\n",
      "149 130\n",
      "130 30\n",
      "30 143\n",
      "232 121\n",
      "156 92\n",
      "124 58\n",
      "58 112\n",
      "112 92\n",
      "153 115\n",
      "128 118\n",
      "85 48\n",
      "48 44\n",
      "44 15\n",
      "15 223\n",
      "15 115\n",
      "270 121\n",
      "310 70\n",
      "108 27\n",
      "127 64\n",
      "64 27\n",
      "27 104\n",
      "336 18\n",
      "18 157\n",
      "357 175\n"
     ]
    },
    {
     "data": {
      "text/plain": [
       "(38, 138)"
      ]
     },
     "execution_count": 101,
     "metadata": {},
     "output_type": "execute_result"
    }
   ],
   "source": [
    "def search_miss_node(now,anslist,smalllist,n):\n",
    "    if(len(now.son) == 0):\n",
    "        return now;\n",
    "    if(len(now.son)==1):\n",
    "        search_miss_node(now.son[0],anslist,smalllist,n);\n",
    "        return now;\n",
    "    lson = search_miss_node(now.son[0],anslist,smalllist,n);\n",
    "    rson = search_miss_node(now.son[1],anslist,smalllist,n);\n",
    "    if((int(lson.name)<n and int(rson.name)>n )):\n",
    "        smalllist.append(int(lson.name))\n",
    "        anslist.append((lson,rson));\n",
    "    elif (int(lson.name)>n and int(rson.name)<n ):\n",
    "        smalllist.append(int(rson.name))\n",
    "        anslist.append((lson,rson));\n",
    "    return now\n",
    "nodes1,n1 = build_hyper_tree(folder_path)\n",
    "# show_tree(nodes1[0]).show_fig()\n",
    "anslist = [];\n",
    "mergelist= []\n",
    "smalllist = []\n",
    "search_tree(nodes1[0],2,mergelist)\n",
    "search_miss_node(nodes1[0],anslist,smalllist,(n1+1)/2)\n",
    "len(anslist),len(mergelist)"
   ]
  },
  {
   "cell_type": "code",
   "execution_count": 102,
   "metadata": {},
   "outputs": [
    {
     "data": {
      "image/png": "[encoded data removed]",
      "text/plain": [
       "<Figure size 913x480 with 1 Axes>"
      ]
     },
     "metadata": {},
     "output_type": "display_data"
    },
    {
     "data": {
      "image/png": "[encoded data removed]",
      "text/plain": [
       "<Figure size 913x480 with 1 Axes>"
      ]
     },
     "metadata": {},
     "output_type": "display_data"
    }
   ],
   "source": [
    "rest[smalllist,:]\n",
    "sc.pl.scatter(rest[smalllist,:],'imagerow', 'imagecol', color='layer_guess_reordered', title='Spatial Plot',size=4000)\n",
    "sc.pl.scatter(subset,'imagerow', 'imagecol', color='layer_guess_reordered', title='Spatial Plot',size=4000)"
   ]
  },
  {
   "cell_type": "code",
   "execution_count": 88,
   "metadata": {},
   "outputs": [
    {
     "data": {
      "image/png": "[encoded data removed]",
      "text/plain": [
       "<Figure size 913x480 with 1 Axes>"
      ]
     },
     "metadata": {},
     "output_type": "display_data"
    }
   ],
   "source": []
  },
  {
   "cell_type": "code",
   "execution_count": 65,
   "metadata": {},
   "outputs": [
    {
     "data": {
      "text/plain": [
       "array([111, 136,  61, 134,  62, 128, 135, 114,  25,  28,   5,  98,  99,\n",
       "       127,  86,  75,  48, 133, 182, 167])"
      ]
     },
     "execution_count": 65,
     "metadata": {},
     "output_type": "execute_result"
    }
   ],
   "source": []
  },
  {
   "cell_type": "code",
   "execution_count": 66,
   "metadata": {},
   "outputs": [
    {
     "data": {
      "text/plain": [
       "[52,\n",
       " 6,\n",
       " 135,\n",
       " 91,\n",
       " 167,\n",
       " 89,\n",
       " 134,\n",
       " 67,\n",
       " 164,\n",
       " 96,\n",
       " 63,\n",
       " 34,\n",
       " 28,\n",
       " 36,\n",
       " 12,\n",
       " 169,\n",
       " 9,\n",
       " 160,\n",
       " 111,\n",
       " 81,\n",
       " 175,\n",
       " 37,\n",
       " 42,\n",
       " 45,\n",
       " 163,\n",
       " 1,\n",
       " 65,\n",
       " 136,\n",
       " 171,\n",
       " 106,\n",
       " 101,\n",
       " 39,\n",
       " 73,\n",
       " 168,\n",
       " 20,\n",
       " 23,\n",
       " 159,\n",
       " 74,\n",
       " 94,\n",
       " 54,\n",
       " 150,\n",
       " 151,\n",
       " 121,\n",
       " 112,\n",
       " 14,\n",
       " 44,\n",
       " 15,\n",
       " 70,\n",
       " 104,\n",
       " 18,\n",
       " 157]"
      ]
     },
     "execution_count": 66,
     "metadata": {},
     "output_type": "execute_result"
    }
   ],
   "source": [
    "smalllist"
   ]
  },
  {
   "cell_type": "code",
   "execution_count": null,
   "metadata": {},
   "outputs": [],
   "source": []
  }
 ],
 "metadata": {
  "kernelspec": {
   "display_name": "base",
   "language": "python",
   "name": "python3"
  },
  "language_info": {
   "codemirror_mode": {
    "name": "ipython",
    "version": 3
   },
   "file_extension": ".py",
   "mimetype": "text/x-python",
   "name": "python",
   "nbconvert_exporter": "python",
   "pygments_lexer": "ipython3",
   "version": "3.8.16"
  },
  "orig_nbformat": 4
 },
 "nbformat": 4,
 "nbformat_minor": 2
}
