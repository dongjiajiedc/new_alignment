{
 "cells": [
  {
   "cell_type": "code",
   "execution_count": 7,
   "metadata": {},
   "outputs": [],
   "source": [
    "from read_data import *\n",
    "from hyper import *\n",
    "from alignment import *\n",
    "from copy import *\n",
    "from datasets.preprecossing import *\n",
    "import rpy2\n",
    "from sklearn.metrics.pairwise import cosine_similarity\n",
    "from scipy.cluster import hierarchy\n",
    "from math import sin,cos,pi\n",
    "import scipy \n",
    "\n",
    "import seaborn as sns\n",
    "\n",
    "folder_path = './datas/orihy/'\n",
    "folder_path2 = './datas/orihyp/'\n",
    "pcanum = 20\n",
    "tempnum = 200"
   ]
  },
  {
   "cell_type": "code",
   "execution_count": 8,
   "metadata": {},
   "outputs": [],
   "source": [
    "def rotate_spots(grid,spots,theta=0,translation=0,center_correction=0,figsize=(5,5),plot=True):\n",
    "    grid = grid.copy() + center_correction\n",
    "    spots = spots.copy() + center_correction\n",
    "    R = np.array([[np.cos(theta),-np.sin(theta)],[np.sin(theta),np.cos(theta)]])\n",
    "    rotated_spots = np.array([R.dot(spots[i]) for i in range(len(spots))])\n",
    "    rotated_spots += translation\n",
    "\n",
    "    new_spots = grid[np.argmin(scipy.spatial.distance.cdist(rotated_spots,grid),axis=1)]\n",
    "\n",
    "    grid -= center_correction\n",
    "    spots -= center_correction\n",
    "    rotated_spots -= center_correction\n",
    "    new_spots -= center_correction\n",
    "\n",
    "    seen = {}\n",
    "    mapping = []\n",
    "    for i in range(len(new_spots)):\n",
    "        if tuple(new_spots[i]) in seen: continue\n",
    "        seen[tuple(new_spots[i])] = 1\n",
    "        mapping.append(i)\n",
    "\n",
    "    if plot:\n",
    "        fig = plt.figure(figsize=figsize)\n",
    "        sns.scatterplot(x = grid[:,0],y = grid[:,1],linewidth=0,s=100, marker=\".\",alpha=0.2,color='blue')\n",
    "        sns.scatterplot(x = rotated_spots[:,0],y = rotated_spots[:,1],linewidth=0,s=100, marker=\".\",color='red')\n",
    "        sns.scatterplot(x = new_spots[:,0],y = new_spots[:,1],linewidth=0,s=100, marker=\".\",color='green')\n",
    "        plt.show()\n",
    "\n",
    "    return new_spots,mapping\n",
    "\n",
    "def simulate_spatial(adata, rotation_angle):\n",
    "    adata_sim = adata.copy()\n",
    "    grid_size = 800\n",
    "    layer_grid = np.array([[x,y] for x in range(grid_size) for y in range(grid_size)])\n",
    "    new_spots, mappings = rotate_spots(layer_grid, adata.obsm['spatial'], center_correction=-15, theta= rotation_angle)\n",
    "    adata_sim.obsm['spatial'] = new_spots\n",
    "    return adata_sim[mappings, :], mappings"
   ]
  },
  {
   "cell_type": "code",
   "execution_count": 9,
   "metadata": {},
   "outputs": [],
   "source": [
    "def simulate_gene_exp(adata, pc = 0.25, factor = 1):\n",
    "    \"\"\"\n",
    "    Adds noise to gene expression data. The rows are simulated according to a Multinomial distribution, \n",
    "    with the total counts per spot drawn from a Negative Binomial Distribution.\n",
    "    param: pc- Pseudocount to be added to dataframe\n",
    "    param: factor - amount by which we scale the variance (to increase noise)\n",
    "    \"\"\"\n",
    "    adata_sim = adata.copy()\n",
    "    df = pd.DataFrame(adata_sim.X.toarray())\n",
    "    # add pseudocounts \n",
    "    alpha = df.copy().to_numpy() + pc\n",
    "\n",
    "    # get vector of total counts per spot\n",
    "    n = df.sum(axis=1).to_numpy()\n",
    "\n",
    "    # Simulate total counts using negative binomial\n",
    "    mean = np.mean(n)\n",
    "    var = np.var(n)*factor\n",
    "    n = sample_nb(mean, var, len(n)).astype(int)\n",
    "\n",
    "    # Reassign zero counts so we don't divide by 0 in future calcuation\n",
    "    n[n == 0] = 1\n",
    "\n",
    "    # convert to float\n",
    "    alpha = np.array(alpha, dtype=np.float64)\n",
    "    n = np.array(n, dtype=np.float64)\n",
    "\n",
    "    # convert rows to unit vectors\n",
    "    alpha = alpha/alpha.sum(axis=1)[:, None]\n",
    "\n",
    "    dist = np.empty(df.shape)\n",
    "    for i in range(alpha.shape[0]):\n",
    "        dist[i] = np.random.multinomial(n[i], alpha[i])\n",
    "    new_df = pd.DataFrame(dist, index= df.index, columns= df.columns)\n",
    "    adata_sim.X = new_df\n",
    "    return adata_sim\n",
    "\n",
    "def sample_nb(m, v, n = 1):\n",
    "    \"\"\"\n",
    "    param: m - mean\n",
    "    param: v - variance\n",
    "    param: n - number of samples\n",
    "    return: random sample from negative binomial distribution\n",
    "    \"\"\"\n",
    "    r = m**2/(v - m)\n",
    "    p = m/v\n",
    "    samples = np.random.negative_binomial(r, p, n)\n",
    "    return samples"
   ]
  },
  {
   "cell_type": "code",
   "execution_count": 10,
   "metadata": {},
   "outputs": [],
   "source": [
    "datas = sc.read_h5ad(\"./datas/nature/151507_preprocessed.h5\")\n",
    "adata_subset = datas[:tempnum,:]\n",
    "adata_subset\n",
    "sc.write('./datas/nature/adata_subset.h5',adata_subset)"
   ]
  },
  {
   "cell_type": "code",
   "execution_count": 11,
   "metadata": {},
   "outputs": [
    {
     "data": {
      "image/png": "[encoded data removed]",
      "text/plain": [
       "<Figure size 500x500 with 1 Axes>"
      ]
     },
     "metadata": {},
     "output_type": "display_data"
    }
   ],
   "source": [
    "datas = sc.read_h5ad(\"./datas/nature/adata_subset.h5\")\n",
    "datas = simulate_gene_exp(datas)\n",
    "datas,m = simulate_spatial(datas,-pi/12);\n",
    "\n",
    "count_sub = datas.to_df()\n",
    "xy_coords = pd.DataFrame(datas.obsm['spatial'],columns=['imagerow','imagecol'],index= datas.obs.index)\n",
    "xy_coords.to_csv(folder_path+\"xy.csv\")\n",
    "datas.obs.to_csv(folder_path+'meta_data.csv');\n",
    "count_sub.T.to_csv(folder_path+\"gene.csv\")\n",
    "count_sub.to_csv(folder_path+\"datas.data\",header=None);\n",
    "count_sub.to_csv(folder_path+\"datas.csv\");"
   ]
  },
  {
   "cell_type": "code",
   "execution_count": 12,
   "metadata": {},
   "outputs": [
    {
     "name": "stdout",
     "output_type": "stream",
     "text": [
      "./datas/orihy/datas.data length:200\n",
      "Generating all pairs superset\n"
     ]
    },
    {
     "name": "stderr",
     "output_type": "stream",
     "text": [
      "100%|██████████| 1563/1563 [01:01<00:00, 25.29ex/s, loss=1.670165] \n"
     ]
    },
    {
     "name": "stdout",
     "output_type": "stream",
     "text": [
      "\t Epoch 0 | average train loss: 1.633956\n",
      "Optimization finished.\n"
     ]
    },
    {
     "name": "stderr",
     "output_type": "stream",
     "text": [
      "100%|██████████| 1563/1563 [01:01<00:00, 25.53ex/s, loss=1.639381] \n"
     ]
    },
    {
     "name": "stdout",
     "output_type": "stream",
     "text": [
      "\t Epoch 1 | average train loss: 1.622319\n",
      "Optimization finished.\n"
     ]
    },
    {
     "name": "stderr",
     "output_type": "stream",
     "text": [
      "100%|██████████| 1563/1563 [01:01<00:00, 25.30ex/s, loss=1.564773] \n"
     ]
    },
    {
     "name": "stdout",
     "output_type": "stream",
     "text": [
      "\t Epoch 2 | average train loss: 1.620792\n",
      "Optimization finished.\n"
     ]
    },
    {
     "name": "stderr",
     "output_type": "stream",
     "text": [
      "100%|██████████| 1563/1563 [01:01<00:00, 25.58ex/s, loss=1.561027] \n"
     ]
    },
    {
     "name": "stdout",
     "output_type": "stream",
     "text": [
      "\t Epoch 3 | average train loss: 1.620655\n",
      "Optimization finished.\n"
     ]
    },
    {
     "name": "stderr",
     "output_type": "stream",
     "text": [
      "100%|██████████| 1563/1563 [01:01<00:00, 25.56ex/s, loss=1.574744] \n"
     ]
    },
    {
     "name": "stdout",
     "output_type": "stream",
     "text": [
      "\t Epoch 4 | average train loss: 1.619650\n",
      "Optimization finished.\n"
     ]
    },
    {
     "name": "stderr",
     "output_type": "stream",
     "text": [
      "100%|██████████| 1563/1563 [01:01<00:00, 25.31ex/s, loss=1.632675] \n"
     ]
    },
    {
     "name": "stdout",
     "output_type": "stream",
     "text": [
      "\t Epoch 5 | average train loss: 1.619004\n",
      "Optimization finished.\n"
     ]
    },
    {
     "name": "stderr",
     "output_type": "stream",
     "text": [
      "100%|██████████| 1563/1563 [01:01<00:00, 25.28ex/s, loss=1.611286] \n"
     ]
    },
    {
     "name": "stdout",
     "output_type": "stream",
     "text": [
      "\t Epoch 6 | average train loss: 1.618620\n",
      "Optimization finished.\n"
     ]
    },
    {
     "name": "stderr",
     "output_type": "stream",
     "text": [
      "100%|██████████| 1563/1563 [01:03<00:00, 24.67ex/s, loss=1.645635] \n"
     ]
    },
    {
     "name": "stdout",
     "output_type": "stream",
     "text": [
      "\t Epoch 7 | average train loss: 1.618395\n",
      "Optimization finished.\n"
     ]
    },
    {
     "name": "stderr",
     "output_type": "stream",
     "text": [
      "100%|██████████| 1563/1563 [01:02<00:00, 25.02ex/s, loss=1.586335] \n"
     ]
    },
    {
     "name": "stdout",
     "output_type": "stream",
     "text": [
      "\t Epoch 8 | average train loss: 1.618459\n",
      "Optimization finished.\n"
     ]
    },
    {
     "name": "stderr",
     "output_type": "stream",
     "text": [
      "100%|██████████| 1563/1563 [01:00<00:00, 25.86ex/s, loss=1.606965] \n"
     ]
    },
    {
     "name": "stdout",
     "output_type": "stream",
     "text": [
      "\t Epoch 9 | average train loss: 1.618339\n",
      "Optimization finished.\n"
     ]
    },
    {
     "data": {
      "image/png": "[encoded data removed]",
      "text/plain": [
       "<Figure size 1500x1500 with 1 Axes>"
      ]
     },
     "metadata": {},
     "output_type": "display_data"
    }
   ],
   "source": [
    "get_Hyper_tree(folder_path+'datas.data',1,count_sub.shape[1]+1,0,10,model_path=None,save_path=folder_path,c=-1)\n"
   ]
  },
  {
   "cell_type": "code",
   "execution_count": 13,
   "metadata": {},
   "outputs": [],
   "source": [
    "# adata1 = datas.to_df()\n",
    "# similarity_matrix = 1 - cosine_similarity(adata1)\n",
    "# n=len(similarity_matrix);\n",
    "# Z = hierarchy.linkage(similarity_matrix, 'ward')\n",
    "\n",
    "# nodes1 = [node(name=str(i),son=[]) for i in range(2*n-1)]\n",
    "# for i in range(n):\n",
    "#     nodes1[i].value = adata1.iloc[i].to_numpy()\n",
    "# for i in range(n-1):\n",
    "#     nodes1[n+i].son.append(nodes1[int(Z[i][0])])\n",
    "#     nodes1[n+i].son.append(nodes1[int(Z[i][1])])\n",
    "#     nodes1[n+i].value = nodes1[n+i].son[0].value  + nodes1[n+i].son[1].value\n",
    "#     nodes1[n+i].value /=2\n"
   ]
  },
  {
   "cell_type": "code",
   "execution_count": 14,
   "metadata": {},
   "outputs": [],
   "source": [
    "datas = sc.read_h5ad(\"./datas/nature/adata_subset.h5\")\n",
    "\n",
    "count_sub = datas.to_df()\n",
    "xy_coords = pd.DataFrame(datas.obsm['spatial'],columns=['imagerow','imagecol'],index= datas.obs.index)\n",
    "xy_coords.to_csv(folder_path2+\"xy.csv\")\n",
    "datas.obs.to_csv(folder_path2+'meta_data.csv');\n",
    "count_sub.T.to_csv(folder_path2+\"gene.csv\")\n",
    "count_sub.to_csv(folder_path2+\"datas.data\",header=None);\n",
    "count_sub.to_csv(folder_path2+\"datas.csv\");"
   ]
  },
  {
   "cell_type": "code",
   "execution_count": 15,
   "metadata": {},
   "outputs": [
    {
     "data": {
      "text/plain": [
       "9948"
      ]
     },
     "execution_count": 15,
     "metadata": {},
     "output_type": "execute_result"
    }
   ],
   "source": [
    "count_sub.shape[1]"
   ]
  },
  {
   "cell_type": "code",
   "execution_count": 16,
   "metadata": {},
   "outputs": [
    {
     "name": "stdout",
     "output_type": "stream",
     "text": [
      "./datas/orihyp/datas.data length:200\n",
      "Generating all pairs superset\n"
     ]
    },
    {
     "name": "stderr",
     "output_type": "stream",
     "text": [
      "100%|██████████| 1563/1563 [01:01<00:00, 25.60ex/s, loss=1.880449] \n"
     ]
    },
    {
     "name": "stdout",
     "output_type": "stream",
     "text": [
      "\t Epoch 0 | average train loss: 1.876872\n",
      "Optimization finished.\n"
     ]
    },
    {
     "name": "stderr",
     "output_type": "stream",
     "text": [
      "100%|██████████| 1563/1563 [01:01<00:00, 25.40ex/s, loss=1.885633] \n"
     ]
    },
    {
     "name": "stdout",
     "output_type": "stream",
     "text": [
      "\t Epoch 1 | average train loss: 1.870654\n",
      "Optimization finished.\n"
     ]
    },
    {
     "name": "stderr",
     "output_type": "stream",
     "text": [
      "100%|██████████| 1563/1563 [00:59<00:00, 26.19ex/s, loss=1.836428] \n"
     ]
    },
    {
     "name": "stdout",
     "output_type": "stream",
     "text": [
      "\t Epoch 2 | average train loss: 1.869662\n",
      "Optimization finished.\n"
     ]
    },
    {
     "name": "stderr",
     "output_type": "stream",
     "text": [
      "100%|██████████| 1563/1563 [00:59<00:00, 26.18ex/s, loss=1.846960] \n"
     ]
    },
    {
     "name": "stdout",
     "output_type": "stream",
     "text": [
      "\t Epoch 3 | average train loss: 1.869274\n",
      "Optimization finished.\n"
     ]
    },
    {
     "name": "stderr",
     "output_type": "stream",
     "text": [
      "100%|██████████| 1563/1563 [00:59<00:00, 26.27ex/s, loss=1.859673] \n"
     ]
    },
    {
     "name": "stdout",
     "output_type": "stream",
     "text": [
      "\t Epoch 4 | average train loss: 1.868864\n",
      "Optimization finished.\n"
     ]
    },
    {
     "name": "stderr",
     "output_type": "stream",
     "text": [
      "100%|██████████| 1563/1563 [00:59<00:00, 26.11ex/s, loss=1.856070] \n"
     ]
    },
    {
     "name": "stdout",
     "output_type": "stream",
     "text": [
      "\t Epoch 5 | average train loss: 1.868597\n",
      "Optimization finished.\n"
     ]
    },
    {
     "name": "stderr",
     "output_type": "stream",
     "text": [
      "100%|██████████| 1563/1563 [00:59<00:00, 26.11ex/s, loss=1.853251] \n"
     ]
    },
    {
     "name": "stdout",
     "output_type": "stream",
     "text": [
      "\t Epoch 6 | average train loss: 1.868473\n",
      "Optimization finished.\n"
     ]
    },
    {
     "name": "stderr",
     "output_type": "stream",
     "text": [
      "100%|██████████| 1563/1563 [00:59<00:00, 26.10ex/s, loss=1.895562] \n"
     ]
    },
    {
     "name": "stdout",
     "output_type": "stream",
     "text": [
      "\t Epoch 7 | average train loss: 1.868455\n",
      "Optimization finished.\n"
     ]
    },
    {
     "name": "stderr",
     "output_type": "stream",
     "text": [
      "100%|██████████| 1563/1563 [01:00<00:00, 26.00ex/s, loss=1.845177] \n"
     ]
    },
    {
     "name": "stdout",
     "output_type": "stream",
     "text": [
      "\t Epoch 8 | average train loss: 1.868399\n",
      "Optimization finished.\n"
     ]
    },
    {
     "name": "stderr",
     "output_type": "stream",
     "text": [
      "100%|██████████| 1563/1563 [00:59<00:00, 26.17ex/s, loss=1.860744] \n"
     ]
    },
    {
     "name": "stdout",
     "output_type": "stream",
     "text": [
      "\t Epoch 9 | average train loss: 1.868375\n",
      "Optimization finished.\n"
     ]
    },
    {
     "data": {
      "image/png": "[encoded data removed]",
      "text/plain": [
       "<Figure size 1500x1500 with 1 Axes>"
      ]
     },
     "metadata": {},
     "output_type": "display_data"
    }
   ],
   "source": [
    "get_Hyper_tree(folder_path2+'datas.data',1,count_sub.shape[1]+1,0,10,model_path=None,save_path=folder_path2,c=-1)\n"
   ]
  },
  {
   "cell_type": "code",
   "execution_count": 17,
   "metadata": {},
   "outputs": [
    {
     "data": {
      "application/vnd.plotly.v1+json": {
       "config": {
        "plotlyServerURL": "https://plot.ly"
       },
       "data": [
        {
         "hoverinfo": "text",
         "marker": {
          "color": [
           102.46637811450996,
           76.26939590657005,
           63.336896829573206,
           61,
           73.57479187874064,
           46.26013402488151,
           111.4136436887332,
           95.00507284975629,
           99.26678955125173,
           97.86214794290998,
           109.61470162573997,
           122.7921679257527,
           145.0646407640401,
           161.77762515255316,
           134.29817571359635,
           208.26185440449723,
           69,
           104.0937734539151,
           94.17138631240384,
           50.80354318352215,
           145.96574940718114,
           118.10485939409945,
           159.9617141693599,
           273.7772817455824,
           58.762232769015846,
           81.67599861648463,
           55.33534132902769,
           114.45304714161175,
           103.1746092796091,
           133.1521685891747,
           163.5328713133846,
           155.85570249432647,
           187.28854743416642,
           108.10874155219827,
           57.06137047074842,
           166.7183253274816,
           188.18607812481773,
           155.7562197795003,
           98.58706890992347,
           67.85450887745044,
           58.215118311311535,
           85.58000642673498,
           74.18220810949214,
           104.49760762811749,
           118.9915963419266,
           103.04368005850722,
           133.26747071209837,
           82.50454532933323,
           73.85797181076664,
           102.95144486601438,
           189.9029357329686,
           228.3538920185071,
           326.92659726611413,
           141.24092891226678,
           158.63480072165754,
           90.87904048789248,
           239.0083680543424,
           98.24459272652109,
           156.73863595170147,
           55.91958512006326,
           131.18666746686287,
           126.57568604149456,
           153.50895739337167,
           104.01738887080371,
           137.93068911594693,
           157.4357011608231,
           124.78982330302419,
           150.02333151880077,
           106.82228231974825,
           120.49066353871572,
           100.7869039111729,
           73.08513870822166,
           79.01898506055365,
           71.15300415302224,
           55.82114294781145,
           91.50956234186677,
           77.64019577512668,
           112.39217054581694,
           137.97247764224528,
           128.1387635518986,
           105.51258811156136,
           105.256828757093,
           110.54467422721007,
           110.78357278947091,
           114.97173565707357,
           123.99193522161028,
           113.05750749065716,
           157.02324606467508,
           233.55941428253325,
           87.26367639946187,
           80.79603950689662,
           98.77586686534318,
           103.32231124011889,
           96.27564593395361,
           116.17228585166085,
           113.41075786714416,
           126.25371281669304,
           96.58060105424899,
           78.31347265956222,
           69.3685807840985,
           93.4237657130133,
           119.00525198494392,
           162.837342154679,
           82.3407554009556,
           68.31544481301428,
           103.4456378974,
           149.28357623854006,
           162.82153583476037,
           133.4353776177817,
           197.38705415417166,
           198.06996182619926,
           225.2302988054671,
           219.05649956118626,
           214.69513268819114,
           234.4674817538671,
           237.49421045574985,
           166.16558007000125,
           322.07297309771275,
           173.94944502305296,
           174.1436188896969,
           178.8021258131807,
           145.68823734262145,
           128.296531519757,
           170.0918869317405,
           198.501889159776,
           150.30635382444748,
           214.65543792610984,
           236.66062198853447,
           238.81373494839028,
           244.95101551126504,
           197.195215776144,
           164.0822964246905,
           238.10147521592552,
           251.34040662018512,
           233.17214670710564,
           271.87864940079425,
           205.31195776184103,
           198.92299594405384,
           200.4120754844877,
           202.72272614584318,
           185.26952494946383,
           214.15415008820165,
           160.7752701754844,
           180.48407131932723,
           214.2008403344861,
           155.15153882575578,
           144.90255346266332,
           164.0822964246905,
           131.74976280813564,
           222.15707290880823,
           225.84640024763496,
           219.81412032499307,
           238.22190096038685,
           248.98516139662445,
           227.48406537601704,
           275.47448590171194,
           302.02886865331266,
           405.7302059250704,
           204.33000269172416,
           208.4178495234993,
           207.39093519245242,
           251.8815213175631,
           257.2800031094527,
           251.85750559592225,
           247.43888134244384,
           262.04734782096153,
           258.081382513346,
           273.6516946777418,
           280.7952991059501,
           275.5122501813667,
           229.15144486164274,
           232.42321165582032,
           262.79638030231695,
           321.9409883814113,
           209.7754752109979,
           283.2595982486736,
           144.07289821475794,
           205.20788335399058,
           228.98908270919816,
           186.35913329509773,
           171.3942822850284,
           205.0729291008445,
           194.6561070195333,
           220.43508114635475,
           214.50874108063755,
           231.6559949580412,
           191.74201417529753,
           278.3684608571883,
           226.99876719824832,
           219.30968578986656,
           197.5650901443623,
           195.56604542967065,
           197.48924021323288,
           198.9360764165213,
           174.0976737351766,
           229.29293491078175,
           212.26163101229577,
           253.06916050755768,
           337.17354581876674,
           175.45939701252823,
           202.0843341899614,
           207.16177253537873,
           201.66881885903928,
           204.11271395971394,
           204.82248411734489,
           212.15796002035842,
           205.2364490045567,
           242.27468591972212,
           264.31893613587357,
           247.71556269237507,
           288.82347550017465,
           223.11467062925288,
           244.0092211372349,
           277.9946042641835,
           216.43705782513308,
           205.34148387503194,
           199.90247622278218,
           215.6362678215332,
           222.34882504749154,
           213.34479135896427,
           220.22488506070334,
           212.12496317029732,
           235.55523437242184,
           254.32951067463642,
           278.2948077129719,
           237.51210495467384,
           229.95434329448966,
           252.32320543303186,
           218.73878438044846,
           215.8350064285217,
           189.15866356051473,
           250.76682396202253,
           224.27958914365192,
           205.00762180953174,
           188.98015768857852,
           172.70205557549104,
           212.14146223687627,
           224.12273423283057,
           199.45174855087132,
           254.03346236273677,
           245.2801182847506,
           255.6441847935329,
           277.758888246623,
           240.0542581896851,
           226.17913254763357,
           260.97353793057255,
           340.2058200560361,
           187.45866210981023,
           198.38094666575216,
           182.33485678827293,
           237.19822521864492,
           227.95284600109733,
           255.4740691342274,
           206.6228448163465,
           249.2522410882197,
           262.9925735643499,
           253.70652336902967,
           276.5165004118199,
           267.71253239249,
           291.41808454521146,
           197.37021051820358,
           391.9961734507111,
           238.52987234306732,
           246.92711475251153,
           237.02953402477084,
           202.85554724205844,
           219.50398629637687,
           243.26939799325356,
           201.63333057805696,
           189.31024057747115,
           201.4919353224838,
           181.94873934710293,
           203.8309655081877,
           211.16581162678773,
           201.10507203946895,
           180.7097119692243,
           229.9717373939676,
           162.56767821433633,
           174.86852203870197,
           155.40270267920053,
           158.31929762350515,
           157.1050603895368,
           169.58183865025168,
           153.20574401764446,
           232.8757456564317,
           239.5801921216177,
           226.43666332994752,
           217.20137545605,
           183.23755073674172,
           257.71253364941333,
           255.71859533479375,
           267.76295486866735,
           238.2177312879963,
           188.84385083978773,
           292.4760673969752,
           317.88048068417163,
           274.17877379549276,
           363.3703345073728,
           194.84352696458765,
           254.42538275617275,
           251.98635875777086,
           245.92275209910937,
           264.7744323004017,
           297.3281015982176,
           242.70146270675832,
           260.4568852276706,
           338.87608354677377,
           187.08195062592222,
           150.25644744901965,
           186.09137540466511,
           120.57362895757927,
           227.40135223872352,
           195.0564020994953,
           265.75458603756965,
           259.83263844251746,
           282.6853374336915,
           227.26133385859438,
           220.2827728171225,
           209.56383275746796,
           240.12704970494266,
           236.970948575453,
           246.12633316043207,
           246.525860712421,
           252.7502472797999,
           239.11294402436687,
           272.52476951646065,
           290.85219614092654,
           262.8003044138267,
           230.83726681365815,
           227.98135888708094,
           257.7789750930048,
           209.55667491158567,
           237.79061167337957,
           309.71922768856314,
           172.36443948796398,
           148.73466307488647,
           203.64184245876388,
           219.63919054539767,
           239.08718826769032,
           279.12183719659055,
           206.0776173556944,
           209.24626639440905,
           210.08435805647215,
           204.62893246068603,
           221.5981723751349,
           224.76877007271273,
           229.9391223780764,
           202.74558796062615,
           182.0370841339753,
           208.14898510441986,
           164.71794073506382,
           227.3740722905758,
           232.29937580630732,
           229.21905461806617,
           253.3298245371042,
           212.09785477462992,
           233.54656923192,
           201.30076999355964,
           139.0448755921493,
           146.34628240922282,
           151.50907563575194,
           145.0514994751864,
           139.63165830140383,
           155.62374497485916,
           149.06039044628858,
           169.7586522095413,
           133.80640073556876,
           113.45483682946268,
           110.50791826833044,
           121.90980272316087,
           157.00406228416662,
           192.13276659643455,
           126.51991856985158,
           116.77422125623445,
           131.93630091828405,
           157.96835126062436,
           111.73517798795507,
           117.75822688882505,
           112.30316113093166,
           103.60863863597476,
           103.58571330062848,
           106.98364360966586,
           115.65465835840769,
           102.38652255057792,
           112.76524287208359,
           97.70363350459388,
           137.78997477479086,
           145.3994497926316,
           135.060388692429,
           138.32570260078205,
           135.32178085954973,
           118.8202423831899,
           109.24284873619875,
           134.00373129133382,
           154.58310871502098,
           161.31645917264612,
           153.52768479984317,
           157.78466338652817,
           157.73712308775
          ],
          "colorscale": [
           [
            0,
            "rgb(253, 224, 197)"
           ],
           [
            0.16666666666666666,
            "rgb(250, 203, 166)"
           ],
           [
            0.3333333333333333,
            "rgb(248, 181, 139)"
           ],
           [
            0.5,
            "rgb(245, 158, 114)"
           ],
           [
            0.6666666666666666,
            "rgb(242, 133, 93)"
           ],
           [
            0.8333333333333334,
            "rgb(239, 106, 76)"
           ],
           [
            1,
            "rgb(235, 74, 64)"
           ]
          ],
          "showscale": true,
          "size": 50,
          "symbol": "circle-dot"
         },
         "mode": "markers+text",
         "opacity": 0.8,
         "text": [
          "398",
          "394",
          "381",
          "56",
          "319",
          "0",
          "104",
          "393",
          "385",
          "88",
          "379",
          "374",
          "363",
          "77",
          "299",
          "46",
          "195",
          "370",
          "269",
          "69",
          "79",
          "335",
          "239",
          "97",
          "137",
          "313",
          "191",
          "294",
          "6",
          "286",
          "226",
          "123",
          "198",
          "265",
          "163",
          "252",
          "11",
          "110",
          "378",
          "361",
          "75",
          "358",
          "185",
          "324",
          "54",
          "197",
          "369",
          "221",
          "171",
          "181",
          "362",
          "263",
          "18",
          "156",
          "311",
          "20",
          "23",
          "389",
          "3",
          "106",
          "397",
          "395",
          "153",
          "386",
          "359",
          "96",
          "344",
          "152",
          "230",
          "63",
          "122",
          "367",
          "83",
          "347",
          "57",
          "310",
          "92",
          "150",
          "396",
          "391",
          "375",
          "112",
          "353",
          "60",
          "301",
          "138",
          "155",
          "382",
          "99",
          "377",
          "159",
          "372",
          "338",
          "174",
          "332",
          "136",
          "179",
          "368",
          "341",
          "114",
          "188",
          "348",
          "194",
          "306",
          "14",
          "178",
          "392",
          "384",
          "121",
          "383",
          "376",
          "329",
          "213",
          "5",
          "26",
          "264",
          "184",
          "190",
          "357",
          "147",
          "345",
          "318",
          "199",
          "308",
          "101",
          "180",
          "340",
          "201",
          "7",
          "31",
          "322",
          "126",
          "321",
          "84",
          "212",
          "27",
          "192",
          "380",
          "73",
          "373",
          "336",
          "102",
          "328",
          "202",
          "98",
          "133",
          "231",
          "103",
          "130",
          "371",
          "364",
          "350",
          "330",
          "297",
          "183",
          "285",
          "279",
          "8",
          "275",
          "108",
          "160",
          "284",
          "165",
          "268",
          "144",
          "219",
          "143",
          "217",
          "33",
          "186",
          "323",
          "309",
          "272",
          "17",
          "218",
          "28",
          "132",
          "296",
          "22",
          "293",
          "164",
          "245",
          "134",
          "240",
          "128",
          "232",
          "16",
          "74",
          "317",
          "305",
          "267",
          "242",
          "87",
          "237",
          "49",
          "234",
          "162",
          "205",
          "15",
          "61",
          "251",
          "151",
          "238",
          "13",
          "200",
          "86",
          "125",
          "277",
          "244",
          "44",
          "52",
          "256",
          "207",
          "105",
          "172",
          "250",
          "124",
          "214",
          "168",
          "206",
          "55",
          "68",
          "312",
          "261",
          "175",
          "223",
          "40",
          "193",
          "302",
          "228",
          "107",
          "142",
          "291",
          "283",
          "253",
          "67",
          "167",
          "270",
          "115",
          "146",
          "289",
          "254",
          "141",
          "247",
          "145",
          "222",
          "36",
          "215",
          "94",
          "176",
          "271",
          "204",
          "58",
          "196",
          "262",
          "236",
          "148",
          "235",
          "129",
          "208",
          "39",
          "47",
          "260",
          "173",
          "177",
          "346",
          "315",
          "93",
          "139",
          "339",
          "21",
          "337",
          "287",
          "64",
          "203",
          "43",
          "157",
          "303",
          "38",
          "257",
          "76",
          "248",
          "127",
          "170",
          "351",
          "307",
          "249",
          "224",
          "166",
          "220",
          "34",
          "90",
          "241",
          "41",
          "229",
          "9",
          "225",
          "62",
          "169",
          "288",
          "243",
          "59",
          "210",
          "12",
          "50",
          "282",
          "149",
          "281",
          "216",
          "25",
          "116",
          "278",
          "4",
          "209",
          "10",
          "45",
          "334",
          "276",
          "109",
          "154",
          "304",
          "292",
          "48",
          "290",
          "161",
          "211",
          "29",
          "140",
          "300",
          "273",
          "1",
          "182",
          "298",
          "120",
          "258",
          "32",
          "78",
          "366",
          "342",
          "70",
          "326",
          "111",
          "320",
          "119",
          "316",
          "30",
          "71",
          "365",
          "327",
          "135",
          "187",
          "331",
          "91",
          "295",
          "37",
          "266",
          "117",
          "189",
          "390",
          "280",
          "80",
          "274",
          "82",
          "246",
          "19",
          "35",
          "388",
          "360",
          "81",
          "95",
          "387",
          "65",
          "356",
          "349",
          "233",
          "2",
          "227",
          "24",
          "42",
          "343",
          "72",
          "333",
          "118",
          "259",
          "85",
          "100",
          "355",
          "113",
          "354",
          "131",
          "352",
          "314",
          "51",
          "53",
          "325",
          "66",
          "255",
          "89",
          "158"
         ],
         "textfont": {
          "color": "#000000",
          "family": "sans serif",
          "size": 18
         },
         "type": "scatter",
         "x": [
          5.5,
          3.25,
          2.125,
          1.5625,
          2.6875,
          2.40625,
          2.96875,
          4.375,
          3.8125,
          3.53125,
          4.09375,
          3.953125,
          3.8828125,
          3.84765625,
          3.91796875,
          3.900390625,
          3.935546875,
          4.0234375,
          3.98828125,
          3.970703125,
          4.005859375,
          4.05859375,
          4.041015625,
          4.0322265625,
          4.0498046875,
          4.076171875,
          4.0673828125,
          4.0849609375,
          4.08056640625,
          4.08935546875,
          4.087158203125,
          4.0860595703125,
          4.0882568359375,
          4.091552734375,
          4.0904541015625,
          4.0926513671875,
          4.09210205078125,
          4.09320068359375,
          4.234375,
          4.1640625,
          4.12890625,
          4.19921875,
          4.181640625,
          4.216796875,
          4.2080078125,
          4.2255859375,
          4.3046875,
          4.26953125,
          4.251953125,
          4.287109375,
          4.33984375,
          4.322265625,
          4.3134765625,
          4.3310546875,
          4.357421875,
          4.3486328125,
          4.3662109375,
          4.9375,
          4.65625,
          5.21875,
          7.75,
          6.625,
          6.0625,
          7.1875,
          6.90625,
          6.765625,
          7.046875,
          6.9765625,
          7.1171875,
          7.08203125,
          7.15234375,
          7.46875,
          7.328125,
          7.609375,
          7.5390625,
          7.6796875,
          7.64453125,
          7.71484375,
          8.875,
          8.3125,
          8.03125,
          7.890625,
          8.171875,
          8.1015625,
          8.2421875,
          8.20703125,
          8.27734375,
          8.59375,
          8.453125,
          8.734375,
          8.6640625,
          8.8046875,
          8.76953125,
          8.751953125,
          8.787109375,
          8.7783203125,
          8.7958984375,
          8.83984375,
          8.822265625,
          8.8134765625,
          8.8310546875,
          8.857421875,
          8.8486328125,
          8.8662109375,
          8.86181640625,
          8.87060546875,
          9.4375,
          9.15625,
          9.015625,
          9.296875,
          9.2265625,
          9.19140625,
          9.173828125,
          9.1650390625,
          9.1826171875,
          9.208984375,
          9.2001953125,
          9.2177734375,
          9.26171875,
          9.244140625,
          9.279296875,
          9.2705078125,
          9.26611328125,
          9.27490234375,
          9.272705078125,
          9.277099609375,
          9.2880859375,
          9.28369140625,
          9.281494140625,
          9.285888671875,
          9.29248046875,
          9.290283203125,
          9.294677734375,
          9.2935791015625,
          9.2957763671875,
          9.29522705078125,
          9.29632568359375,
          9.3671875,
          9.33203125,
          9.40234375,
          9.384765625,
          9.3759765625,
          9.3935546875,
          9.38916015625,
          9.386962890625,
          9.391357421875,
          9.39794921875,
          9.395751953125,
          9.400146484375,
          9.419921875,
          9.4111328125,
          9.40673828125,
          9.404541015625,
          9.4034423828125,
          9.40289306640625,
          9.40399169921875,
          9.403717041015625,
          9.403579711914062,
          9.403854370117188,
          9.403785705566406,
          9.403923034667969,
          9.404266357421875,
          9.404129028320312,
          9.404403686523438,
          9.404335021972656,
          9.404472351074219,
          9.404438018798828,
          9.40450668334961,
          9.404489517211914,
          9.404523849487305,
          9.4056396484375,
          9.40509033203125,
          9.404815673828125,
          9.404678344726562,
          9.404953002929688,
          9.404884338378906,
          9.405021667480469,
          9.405364990234375,
          9.405227661132812,
          9.405502319335938,
          9.405433654785156,
          9.405570983886719,
          9.405536651611328,
          9.40560531616211,
          9.405588150024414,
          9.405622482299805,
          9.405613899230957,
          9.405631065368652,
          9.40618896484375,
          9.405914306640625,
          9.405776977539062,
          9.405708312988281,
          9.40567398071289,
          9.405742645263672,
          9.405725479125977,
          9.405759811401367,
          9.40575122833252,
          9.405768394470215,
          9.405764102935791,
          9.405772686004639,
          9.405845642089844,
          9.405811309814453,
          9.405879974365234,
          9.405862808227539,
          9.40589714050293,
          9.405888557434082,
          9.405905723571777,
          9.406051635742188,
          9.405982971191406,
          9.405948638916016,
          9.406017303466797,
          9.406120300292969,
          9.406085968017578,
          9.406068801879883,
          9.406103134155273,
          9.40615463256836,
          9.406137466430664,
          9.406171798706055,
          9.406163215637207,
          9.406180381774902,
          9.406176090240479,
          9.406184673309326,
          9.406463623046875,
          9.406326293945312,
          9.406257629394531,
          9.406394958496094,
          9.406360626220703,
          9.406429290771484,
          9.406600952148438,
          9.406532287597656,
          9.406497955322266,
          9.406566619873047,
          9.406669616699219,
          9.406635284423828,
          9.406618118286133,
          9.406609535217285,
          9.40662670135498,
          9.406652450561523,
          9.406643867492676,
          9.406661033630371,
          9.40670394897461,
          9.406686782836914,
          9.406678199768066,
          9.406695365905762,
          9.406691074371338,
          9.406699657440186,
          9.406697511672974,
          9.406701803207397,
          9.406700730323792,
          9.406702876091003,
          9.406721115112305,
          9.406712532043457,
          9.406708240509033,
          9.40671682357788,
          9.406729698181152,
          9.406725406646729,
          9.406723260879517,
          9.40672755241394,
          9.406726479530334,
          9.406728625297546,
          9.406728088855743,
          9.40672916173935,
          9.406733989715576,
          9.406731843948364,
          9.406736135482788,
          9.408935546875,
          9.4078369140625,
          9.40728759765625,
          9.40838623046875,
          9.4100341796875,
          9.40948486328125,
          9.41058349609375,
          9.410308837890625,
          9.410171508789062,
          9.410446166992188,
          9.410377502441406,
          9.410514831542969,
          9.410858154296875,
          9.410720825195312,
          9.410995483398438,
          9.410926818847656,
          9.411064147949219,
          9.411029815673828,
          9.41109848022461,
          9.41552734375,
          9.413330078125,
          9.4122314453125,
          9.41168212890625,
          9.411407470703125,
          9.411956787109375,
          9.411819458007812,
          9.412094116210938,
          9.41278076171875,
          9.412506103515625,
          9.413055419921875,
          9.412918090820312,
          9.413192749023438,
          9.413124084472656,
          9.413261413574219,
          9.4144287109375,
          9.41387939453125,
          9.413604736328125,
          9.414154052734375,
          9.414016723632812,
          9.414291381835938,
          9.41497802734375,
          9.414703369140625,
          9.415252685546875,
          9.415115356445312,
          9.415046691894531,
          9.415184020996094,
          9.415390014648438,
          9.415321350097656,
          9.415458679199219,
          9.415424346923828,
          9.41549301147461,
          9.417724609375,
          9.4166259765625,
          9.41607666015625,
          9.41717529296875,
          9.4188232421875,
          9.41827392578125,
          9.417999267578125,
          9.418548583984375,
          9.418411254882812,
          9.418685913085938,
          9.418617248535156,
          9.418754577636719,
          9.41937255859375,
          9.419097900390625,
          9.418960571289062,
          9.419235229492188,
          9.419647216796875,
          9.419509887695312,
          9.419784545898438,
          9.419715881347656,
          9.419853210449219,
          9.4287109375,
          9.42431640625,
          9.422119140625,
          9.426513671875,
          9.4254150390625,
          9.4276123046875,
          9.42706298828125,
          9.42816162109375,
          9.427886962890625,
          9.428436279296875,
          9.43310546875,
          9.430908203125,
          9.4298095703125,
          9.4320068359375,
          9.435302734375,
          9.4342041015625,
          9.4364013671875,
          9.43585205078125,
          9.43695068359375,
          9.436676025390625,
          9.437225341796875,
          9.71875,
          9.578125,
          9.5078125,
          9.6484375,
          9.61328125,
          9.68359375,
          9.666015625,
          9.701171875,
          9.859375,
          9.7890625,
          9.75390625,
          9.82421875,
          9.9296875,
          9.89453125,
          9.96484375,
          9.947265625,
          9.9384765625,
          9.93408203125,
          9.94287109375,
          9.940673828125,
          9.945068359375,
          9.9560546875,
          9.95166015625,
          9.96044921875,
          9.958251953125,
          9.962646484375,
          9.9615478515625,
          9.9637451171875,
          9.982421875,
          9.9736328125,
          9.9912109375,
          9.98681640625,
          9.99560546875,
          9.993408203125,
          9.9923095703125,
          9.9945068359375,
          9.997802734375,
          9.9967041015625,
          9.9989013671875,
          9.99835205078125,
          9.99945068359375
         ],
         "y": [
          5,
          3.5,
          2,
          0.5,
          0.5,
          -1,
          -1,
          2,
          0.5,
          -1,
          -1,
          -2.5,
          -4,
          -5.5,
          -5.5,
          -7,
          -7,
          -4,
          -5.5,
          -7,
          -7,
          -5.5,
          -7,
          -8.5,
          -8.5,
          -7,
          -8.5,
          -8.5,
          -10,
          -10,
          -11.5,
          -13,
          -13,
          -11.5,
          -13,
          -13,
          -14.5,
          -14.5,
          -2.5,
          -4,
          -5.5,
          -5.5,
          -7,
          -7,
          -8.5,
          -8.5,
          -4,
          -5.5,
          -7,
          -7,
          -5.5,
          -7,
          -8.5,
          -8.5,
          -7,
          -8.5,
          -8.5,
          0.5,
          -1,
          -1,
          3.5,
          2,
          0.5,
          0.5,
          -1,
          -2.5,
          -2.5,
          -4,
          -4,
          -5.5,
          -5.5,
          -1,
          -2.5,
          -2.5,
          -4,
          -4,
          -5.5,
          -5.5,
          2,
          0.5,
          -1,
          -2.5,
          -2.5,
          -4,
          -4,
          -5.5,
          -5.5,
          -1,
          -2.5,
          -2.5,
          -4,
          -4,
          -5.5,
          -7,
          -7,
          -8.5,
          -8.5,
          -5.5,
          -7,
          -8.5,
          -8.5,
          -7,
          -8.5,
          -8.5,
          -10,
          -10,
          0.5,
          -1,
          -2.5,
          -2.5,
          -4,
          -5.5,
          -7,
          -8.5,
          -8.5,
          -7,
          -8.5,
          -8.5,
          -5.5,
          -7,
          -7,
          -8.5,
          -10,
          -10,
          -11.5,
          -11.5,
          -8.5,
          -10,
          -11.5,
          -11.5,
          -10,
          -11.5,
          -11.5,
          -13,
          -13,
          -14.5,
          -14.5,
          -4,
          -5.5,
          -5.5,
          -7,
          -8.5,
          -8.5,
          -10,
          -11.5,
          -11.5,
          -10,
          -11.5,
          -11.5,
          -7,
          -8.5,
          -10,
          -11.5,
          -13,
          -14.5,
          -14.5,
          -16,
          -17.5,
          -17.5,
          -19,
          -19,
          -16,
          -17.5,
          -17.5,
          -19,
          -19,
          -20.5,
          -20.5,
          -22,
          -22,
          -13,
          -14.5,
          -16,
          -17.5,
          -17.5,
          -19,
          -19,
          -16,
          -17.5,
          -17.5,
          -19,
          -19,
          -20.5,
          -20.5,
          -22,
          -22,
          -23.5,
          -23.5,
          -14.5,
          -16,
          -17.5,
          -19,
          -20.5,
          -20.5,
          -22,
          -22,
          -23.5,
          -23.5,
          -25,
          -25,
          -19,
          -20.5,
          -20.5,
          -22,
          -22,
          -23.5,
          -23.5,
          -17.5,
          -19,
          -20.5,
          -20.5,
          -19,
          -20.5,
          -22,
          -22,
          -20.5,
          -22,
          -22,
          -23.5,
          -23.5,
          -25,
          -25,
          -16,
          -17.5,
          -19,
          -19,
          -20.5,
          -20.5,
          -17.5,
          -19,
          -20.5,
          -20.5,
          -19,
          -20.5,
          -22,
          -23.5,
          -23.5,
          -22,
          -23.5,
          -23.5,
          -20.5,
          -22,
          -23.5,
          -23.5,
          -25,
          -25,
          -26.5,
          -26.5,
          -28,
          -28,
          -22,
          -23.5,
          -25,
          -25,
          -23.5,
          -25,
          -26.5,
          -26.5,
          -28,
          -28,
          -29.5,
          -29.5,
          -25,
          -26.5,
          -26.5,
          -11.5,
          -13,
          -14.5,
          -14.5,
          -13,
          -14.5,
          -14.5,
          -16,
          -17.5,
          -17.5,
          -19,
          -19,
          -16,
          -17.5,
          -17.5,
          -19,
          -19,
          -20.5,
          -20.5,
          -10,
          -11.5,
          -13,
          -14.5,
          -16,
          -16,
          -17.5,
          -17.5,
          -14.5,
          -16,
          -16,
          -17.5,
          -17.5,
          -19,
          -19,
          -13,
          -14.5,
          -16,
          -16,
          -17.5,
          -17.5,
          -14.5,
          -16,
          -16,
          -17.5,
          -19,
          -19,
          -17.5,
          -19,
          -19,
          -20.5,
          -20.5,
          -11.5,
          -13,
          -14.5,
          -14.5,
          -13,
          -14.5,
          -16,
          -16,
          -17.5,
          -17.5,
          -19,
          -19,
          -14.5,
          -16,
          -17.5,
          -17.5,
          -16,
          -17.5,
          -17.5,
          -19,
          -19,
          -8.5,
          -10,
          -11.5,
          -11.5,
          -13,
          -13,
          -14.5,
          -14.5,
          -16,
          -16,
          -10,
          -11.5,
          -13,
          -13,
          -11.5,
          -13,
          -13,
          -14.5,
          -14.5,
          -16,
          -16,
          -1,
          -2.5,
          -4,
          -4,
          -5.5,
          -5.5,
          -7,
          -7,
          -2.5,
          -4,
          -5.5,
          -5.5,
          -4,
          -5.5,
          -5.5,
          -7,
          -8.5,
          -10,
          -10,
          -11.5,
          -11.5,
          -8.5,
          -10,
          -10,
          -11.5,
          -11.5,
          -13,
          -13,
          -7,
          -8.5,
          -8.5,
          -10,
          -10,
          -11.5,
          -13,
          -13,
          -11.5,
          -13,
          -13,
          -14.5,
          -14.5
         ]
        }
       ],
       "layout": {
        "height": 500,
        "shapes": [
         {
          "layer": "below",
          "line": {
           "color": "#333",
           "width": 4
          },
          "type": "line",
          "x0": 5.5,
          "x1": 5.5,
          "y0": 5,
          "y1": 5
         },
         {
          "layer": "below",
          "line": {
           "color": "#333",
           "width": 4
          },
          "type": "line",
          "x0": 5.5,
          "x1": 3.25,
          "y0": 5,
          "y1": 3.5
         },
         {
          "layer": "below",
          "line": {
           "color": "#333",
           "width": 4
          },
          "type": "line",
          "x0": 3.25,
          "x1": 2.125,
          "y0": 3.5,
          "y1": 2
         },
         {
          "layer": "below",
          "line": {
           "color": "#333",
           "width": 4
          },
          "type": "line",
          "x0": 2.125,
          "x1": 1.5625,
          "y0": 2,
          "y1": 0.5
         },
         {
          "layer": "below",
          "line": {
           "color": "#333",
           "width": 4
          },
          "type": "line",
          "x0": 2.125,
          "x1": 2.6875,
          "y0": 2,
          "y1": 0.5
         },
         {
          "layer": "below",
          "line": {
           "color": "#333",
           "width": 4
          },
          "type": "line",
          "x0": 2.6875,
          "x1": 2.40625,
          "y0": 0.5,
          "y1": -1
         },
         {
          "layer": "below",
          "line": {
           "color": "#333",
           "width": 4
          },
          "type": "line",
          "x0": 2.6875,
          "x1": 2.96875,
          "y0": 0.5,
          "y1": -1
         },
         {
          "layer": "below",
          "line": {
           "color": "#333",
           "width": 4
          },
          "type": "line",
          "x0": 3.25,
          "x1": 4.375,
          "y0": 3.5,
          "y1": 2
         },
         {
          "layer": "below",
          "line": {
           "color": "#333",
           "width": 4
          },
          "type": "line",
          "x0": 4.375,
          "x1": 3.8125,
          "y0": 2,
          "y1": 0.5
         },
         {
          "layer": "below",
          "line": {
           "color": "#333",
           "width": 4
          },
          "type": "line",
          "x0": 3.8125,
          "x1": 3.53125,
          "y0": 0.5,
          "y1": -1
         },
         {
          "layer": "below",
          "line": {
           "color": "#333",
           "width": 4
          },
          "type": "line",
          "x0": 3.8125,
          "x1": 4.09375,
          "y0": 0.5,
          "y1": -1
         },
         {
          "layer": "below",
          "line": {
           "color": "#333",
           "width": 4
          },
          "type": "line",
          "x0": 4.09375,
          "x1": 3.953125,
          "y0": -1,
          "y1": -2.5
         },
         {
          "layer": "below",
          "line": {
           "color": "#333",
           "width": 4
          },
          "type": "line",
          "x0": 3.953125,
          "x1": 3.8828125,
          "y0": -2.5,
          "y1": -4
         },
         {
          "layer": "below",
          "line": {
           "color": "#333",
           "width": 4
          },
          "type": "line",
          "x0": 3.8828125,
          "x1": 3.84765625,
          "y0": -4,
          "y1": -5.5
         },
         {
          "layer": "below",
          "line": {
           "color": "#333",
           "width": 4
          },
          "type": "line",
          "x0": 3.8828125,
          "x1": 3.91796875,
          "y0": -4,
          "y1": -5.5
         },
         {
          "layer": "below",
          "line": {
           "color": "#333",
           "width": 4
          },
          "type": "line",
          "x0": 3.91796875,
          "x1": 3.900390625,
          "y0": -5.5,
          "y1": -7
         },
         {
          "layer": "below",
          "line": {
           "color": "#333",
           "width": 4
          },
          "type": "line",
          "x0": 3.91796875,
          "x1": 3.935546875,
          "y0": -5.5,
          "y1": -7
         },
         {
          "layer": "below",
          "line": {
           "color": "#333",
           "width": 4
          },
          "type": "line",
          "x0": 3.953125,
          "x1": 4.0234375,
          "y0": -2.5,
          "y1": -4
         },
         {
          "layer": "below",
          "line": {
           "color": "#333",
           "width": 4
          },
          "type": "line",
          "x0": 4.0234375,
          "x1": 3.98828125,
          "y0": -4,
          "y1": -5.5
         },
         {
          "layer": "below",
          "line": {
           "color": "#333",
           "width": 4
          },
          "type": "line",
          "x0": 3.98828125,
          "x1": 3.970703125,
          "y0": -5.5,
          "y1": -7
         },
         {
          "layer": "below",
          "line": {
           "color": "#333",
           "width": 4
          },
          "type": "line",
          "x0": 3.98828125,
          "x1": 4.005859375,
          "y0": -5.5,
          "y1": -7
         },
         {
          "layer": "below",
          "line": {
           "color": "#333",
           "width": 4
          },
          "type": "line",
          "x0": 4.0234375,
          "x1": 4.05859375,
          "y0": -4,
          "y1": -5.5
         },
         {
          "layer": "below",
          "line": {
           "color": "#333",
           "width": 4
          },
          "type": "line",
          "x0": 4.05859375,
          "x1": 4.041015625,
          "y0": -5.5,
          "y1": -7
         },
         {
          "layer": "below",
          "line": {
           "color": "#333",
           "width": 4
          },
          "type": "line",
          "x0": 4.041015625,
          "x1": 4.0322265625,
          "y0": -7,
          "y1": -8.5
         },
         {
          "layer": "below",
          "line": {
           "color": "#333",
           "width": 4
          },
          "type": "line",
          "x0": 4.041015625,
          "x1": 4.0498046875,
          "y0": -7,
          "y1": -8.5
         },
         {
          "layer": "below",
          "line": {
           "color": "#333",
           "width": 4
          },
          "type": "line",
          "x0": 4.05859375,
          "x1": 4.076171875,
          "y0": -5.5,
          "y1": -7
         },
         {
          "layer": "below",
          "line": {
           "color": "#333",
           "width": 4
          },
          "type": "line",
          "x0": 4.076171875,
          "x1": 4.0673828125,
          "y0": -7,
          "y1": -8.5
         },
         {
          "layer": "below",
          "line": {
           "color": "#333",
           "width": 4
          },
          "type": "line",
          "x0": 4.076171875,
          "x1": 4.0849609375,
          "y0": -7,
          "y1": -8.5
         },
         {
          "layer": "below",
          "line": {
           "color": "#333",
           "width": 4
          },
          "type": "line",
          "x0": 4.0849609375,
          "x1": 4.08056640625,
          "y0": -8.5,
          "y1": -10
         },
         {
          "layer": "below",
          "line": {
           "color": "#333",
           "width": 4
          },
          "type": "line",
          "x0": 4.0849609375,
          "x1": 4.08935546875,
          "y0": -8.5,
          "y1": -10
         },
         {
          "layer": "below",
          "line": {
           "color": "#333",
           "width": 4
          },
          "type": "line",
          "x0": 4.08935546875,
          "x1": 4.087158203125,
          "y0": -10,
          "y1": -11.5
         },
         {
          "layer": "below",
          "line": {
           "color": "#333",
           "width": 4
          },
          "type": "line",
          "x0": 4.087158203125,
          "x1": 4.0860595703125,
          "y0": -11.5,
          "y1": -13
         },
         {
          "layer": "below",
          "line": {
           "color": "#333",
           "width": 4
          },
          "type": "line",
          "x0": 4.087158203125,
          "x1": 4.0882568359375,
          "y0": -11.5,
          "y1": -13
         },
         {
          "layer": "below",
          "line": {
           "color": "#333",
           "width": 4
          },
          "type": "line",
          "x0": 4.08935546875,
          "x1": 4.091552734375,
          "y0": -10,
          "y1": -11.5
         },
         {
          "layer": "below",
          "line": {
           "color": "#333",
           "width": 4
          },
          "type": "line",
          "x0": 4.091552734375,
          "x1": 4.0904541015625,
          "y0": -11.5,
          "y1": -13
         },
         {
          "layer": "below",
          "line": {
           "color": "#333",
           "width": 4
          },
          "type": "line",
          "x0": 4.091552734375,
          "x1": 4.0926513671875,
          "y0": -11.5,
          "y1": -13
         },
         {
          "layer": "below",
          "line": {
           "color": "#333",
           "width": 4
          },
          "type": "line",
          "x0": 4.0926513671875,
          "x1": 4.09210205078125,
          "y0": -13,
          "y1": -14.5
         },
         {
          "layer": "below",
          "line": {
           "color": "#333",
           "width": 4
          },
          "type": "line",
          "x0": 4.0926513671875,
          "x1": 4.09320068359375,
          "y0": -13,
          "y1": -14.5
         },
         {
          "layer": "below",
          "line": {
           "color": "#333",
           "width": 4
          },
          "type": "line",
          "x0": 4.09375,
          "x1": 4.234375,
          "y0": -1,
          "y1": -2.5
         },
         {
          "layer": "below",
          "line": {
           "color": "#333",
           "width": 4
          },
          "type": "line",
          "x0": 4.234375,
          "x1": 4.1640625,
          "y0": -2.5,
          "y1": -4
         },
         {
          "layer": "below",
          "line": {
           "color": "#333",
           "width": 4
          },
          "type": "line",
          "x0": 4.1640625,
          "x1": 4.12890625,
          "y0": -4,
          "y1": -5.5
         },
         {
          "layer": "below",
          "line": {
           "color": "#333",
           "width": 4
          },
          "type": "line",
          "x0": 4.1640625,
          "x1": 4.19921875,
          "y0": -4,
          "y1": -5.5
         },
         {
          "layer": "below",
          "line": {
           "color": "#333",
           "width": 4
          },
          "type": "line",
          "x0": 4.19921875,
          "x1": 4.181640625,
          "y0": -5.5,
          "y1": -7
         },
         {
          "layer": "below",
          "line": {
           "color": "#333",
           "width": 4
          },
          "type": "line",
          "x0": 4.19921875,
          "x1": 4.216796875,
          "y0": -5.5,
          "y1": -7
         },
         {
          "layer": "below",
          "line": {
           "color": "#333",
           "width": 4
          },
          "type": "line",
          "x0": 4.216796875,
          "x1": 4.2080078125,
          "y0": -7,
          "y1": -8.5
         },
         {
          "layer": "below",
          "line": {
           "color": "#333",
           "width": 4
          },
          "type": "line",
          "x0": 4.216796875,
          "x1": 4.2255859375,
          "y0": -7,
          "y1": -8.5
         },
         {
          "layer": "below",
          "line": {
           "color": "#333",
           "width": 4
          },
          "type": "line",
          "x0": 4.234375,
          "x1": 4.3046875,
          "y0": -2.5,
          "y1": -4
         },
         {
          "layer": "below",
          "line": {
           "color": "#333",
           "width": 4
          },
          "type": "line",
          "x0": 4.3046875,
          "x1": 4.26953125,
          "y0": -4,
          "y1": -5.5
         },
         {
          "layer": "below",
          "line": {
           "color": "#333",
           "width": 4
          },
          "type": "line",
          "x0": 4.26953125,
          "x1": 4.251953125,
          "y0": -5.5,
          "y1": -7
         },
         {
          "layer": "below",
          "line": {
           "color": "#333",
           "width": 4
          },
          "type": "line",
          "x0": 4.26953125,
          "x1": 4.287109375,
          "y0": -5.5,
          "y1": -7
         },
         {
          "layer": "below",
          "line": {
           "color": "#333",
           "width": 4
          },
          "type": "line",
          "x0": 4.3046875,
          "x1": 4.33984375,
          "y0": -4,
          "y1": -5.5
         },
         {
          "layer": "below",
          "line": {
           "color": "#333",
           "width": 4
          },
          "type": "line",
          "x0": 4.33984375,
          "x1": 4.322265625,
          "y0": -5.5,
          "y1": -7
         },
         {
          "layer": "below",
          "line": {
           "color": "#333",
           "width": 4
          },
          "type": "line",
          "x0": 4.322265625,
          "x1": 4.3134765625,
          "y0": -7,
          "y1": -8.5
         },
         {
          "layer": "below",
          "line": {
           "color": "#333",
           "width": 4
          },
          "type": "line",
          "x0": 4.322265625,
          "x1": 4.3310546875,
          "y0": -7,
          "y1": -8.5
         },
         {
          "layer": "below",
          "line": {
           "color": "#333",
           "width": 4
          },
          "type": "line",
          "x0": 4.33984375,
          "x1": 4.357421875,
          "y0": -5.5,
          "y1": -7
         },
         {
          "layer": "below",
          "line": {
           "color": "#333",
           "width": 4
          },
          "type": "line",
          "x0": 4.357421875,
          "x1": 4.3486328125,
          "y0": -7,
          "y1": -8.5
         },
         {
          "layer": "below",
          "line": {
           "color": "#333",
           "width": 4
          },
          "type": "line",
          "x0": 4.357421875,
          "x1": 4.3662109375,
          "y0": -7,
          "y1": -8.5
         },
         {
          "layer": "below",
          "line": {
           "color": "#333",
           "width": 4
          },
          "type": "line",
          "x0": 4.375,
          "x1": 4.9375,
          "y0": 2,
          "y1": 0.5
         },
         {
          "layer": "below",
          "line": {
           "color": "#333",
           "width": 4
          },
          "type": "line",
          "x0": 4.9375,
          "x1": 4.65625,
          "y0": 0.5,
          "y1": -1
         },
         {
          "layer": "below",
          "line": {
           "color": "#333",
           "width": 4
          },
          "type": "line",
          "x0": 4.9375,
          "x1": 5.21875,
          "y0": 0.5,
          "y1": -1
         },
         {
          "layer": "below",
          "line": {
           "color": "#333",
           "width": 4
          },
          "type": "line",
          "x0": 5.5,
          "x1": 7.75,
          "y0": 5,
          "y1": 3.5
         },
         {
          "layer": "below",
          "line": {
           "color": "#333",
           "width": 4
          },
          "type": "line",
          "x0": 7.75,
          "x1": 6.625,
          "y0": 3.5,
          "y1": 2
         },
         {
          "layer": "below",
          "line": {
           "color": "#333",
           "width": 4
          },
          "type": "line",
          "x0": 6.625,
          "x1": 6.0625,
          "y0": 2,
          "y1": 0.5
         },
         {
          "layer": "below",
          "line": {
           "color": "#333",
           "width": 4
          },
          "type": "line",
          "x0": 6.625,
          "x1": 7.1875,
          "y0": 2,
          "y1": 0.5
         },
         {
          "layer": "below",
          "line": {
           "color": "#333",
           "width": 4
          },
          "type": "line",
          "x0": 7.1875,
          "x1": 6.90625,
          "y0": 0.5,
          "y1": -1
         },
         {
          "layer": "below",
          "line": {
           "color": "#333",
           "width": 4
          },
          "type": "line",
          "x0": 6.90625,
          "x1": 6.765625,
          "y0": -1,
          "y1": -2.5
         },
         {
          "layer": "below",
          "line": {
           "color": "#333",
           "width": 4
          },
          "type": "line",
          "x0": 6.90625,
          "x1": 7.046875,
          "y0": -1,
          "y1": -2.5
         },
         {
          "layer": "below",
          "line": {
           "color": "#333",
           "width": 4
          },
          "type": "line",
          "x0": 7.046875,
          "x1": 6.9765625,
          "y0": -2.5,
          "y1": -4
         },
         {
          "layer": "below",
          "line": {
           "color": "#333",
           "width": 4
          },
          "type": "line",
          "x0": 7.046875,
          "x1": 7.1171875,
          "y0": -2.5,
          "y1": -4
         },
         {
          "layer": "below",
          "line": {
           "color": "#333",
           "width": 4
          },
          "type": "line",
          "x0": 7.1171875,
          "x1": 7.08203125,
          "y0": -4,
          "y1": -5.5
         },
         {
          "layer": "below",
          "line": {
           "color": "#333",
           "width": 4
          },
          "type": "line",
          "x0": 7.1171875,
          "x1": 7.15234375,
          "y0": -4,
          "y1": -5.5
         },
         {
          "layer": "below",
          "line": {
           "color": "#333",
           "width": 4
          },
          "type": "line",
          "x0": 7.1875,
          "x1": 7.46875,
          "y0": 0.5,
          "y1": -1
         },
         {
          "layer": "below",
          "line": {
           "color": "#333",
           "width": 4
          },
          "type": "line",
          "x0": 7.46875,
          "x1": 7.328125,
          "y0": -1,
          "y1": -2.5
         },
         {
          "layer": "below",
          "line": {
           "color": "#333",
           "width": 4
          },
          "type": "line",
          "x0": 7.46875,
          "x1": 7.609375,
          "y0": -1,
          "y1": -2.5
         },
         {
          "layer": "below",
          "line": {
           "color": "#333",
           "width": 4
          },
          "type": "line",
          "x0": 7.609375,
          "x1": 7.5390625,
          "y0": -2.5,
          "y1": -4
         },
         {
          "layer": "below",
          "line": {
           "color": "#333",
           "width": 4
          },
          "type": "line",
          "x0": 7.609375,
          "x1": 7.6796875,
          "y0": -2.5,
          "y1": -4
         },
         {
          "layer": "below",
          "line": {
           "color": "#333",
           "width": 4
          },
          "type": "line",
          "x0": 7.6796875,
          "x1": 7.64453125,
          "y0": -4,
          "y1": -5.5
         },
         {
          "layer": "below",
          "line": {
           "color": "#333",
           "width": 4
          },
          "type": "line",
          "x0": 7.6796875,
          "x1": 7.71484375,
          "y0": -4,
          "y1": -5.5
         },
         {
          "layer": "below",
          "line": {
           "color": "#333",
           "width": 4
          },
          "type": "line",
          "x0": 7.75,
          "x1": 8.875,
          "y0": 3.5,
          "y1": 2
         },
         {
          "layer": "below",
          "line": {
           "color": "#333",
           "width": 4
          },
          "type": "line",
          "x0": 8.875,
          "x1": 8.3125,
          "y0": 2,
          "y1": 0.5
         },
         {
          "layer": "below",
          "line": {
           "color": "#333",
           "width": 4
          },
          "type": "line",
          "x0": 8.3125,
          "x1": 8.03125,
          "y0": 0.5,
          "y1": -1
         },
         {
          "layer": "below",
          "line": {
           "color": "#333",
           "width": 4
          },
          "type": "line",
          "x0": 8.03125,
          "x1": 7.890625,
          "y0": -1,
          "y1": -2.5
         },
         {
          "layer": "below",
          "line": {
           "color": "#333",
           "width": 4
          },
          "type": "line",
          "x0": 8.03125,
          "x1": 8.171875,
          "y0": -1,
          "y1": -2.5
         },
         {
          "layer": "below",
          "line": {
           "color": "#333",
           "width": 4
          },
          "type": "line",
          "x0": 8.171875,
          "x1": 8.1015625,
          "y0": -2.5,
          "y1": -4
         },
         {
          "layer": "below",
          "line": {
           "color": "#333",
           "width": 4
          },
          "type": "line",
          "x0": 8.171875,
          "x1": 8.2421875,
          "y0": -2.5,
          "y1": -4
         },
         {
          "layer": "below",
          "line": {
           "color": "#333",
           "width": 4
          },
          "type": "line",
          "x0": 8.2421875,
          "x1": 8.20703125,
          "y0": -4,
          "y1": -5.5
         },
         {
          "layer": "below",
          "line": {
           "color": "#333",
           "width": 4
          },
          "type": "line",
          "x0": 8.2421875,
          "x1": 8.27734375,
          "y0": -4,
          "y1": -5.5
         },
         {
          "layer": "below",
          "line": {
           "color": "#333",
           "width": 4
          },
          "type": "line",
          "x0": 8.3125,
          "x1": 8.59375,
          "y0": 0.5,
          "y1": -1
         },
         {
          "layer": "below",
          "line": {
           "color": "#333",
           "width": 4
          },
          "type": "line",
          "x0": 8.59375,
          "x1": 8.453125,
          "y0": -1,
          "y1": -2.5
         },
         {
          "layer": "below",
          "line": {
           "color": "#333",
           "width": 4
          },
          "type": "line",
          "x0": 8.59375,
          "x1": 8.734375,
          "y0": -1,
          "y1": -2.5
         },
         {
          "layer": "below",
          "line": {
           "color": "#333",
           "width": 4
          },
          "type": "line",
          "x0": 8.734375,
          "x1": 8.6640625,
          "y0": -2.5,
          "y1": -4
         },
         {
          "layer": "below",
          "line": {
           "color": "#333",
           "width": 4
          },
          "type": "line",
          "x0": 8.734375,
          "x1": 8.8046875,
          "y0": -2.5,
          "y1": -4
         },
         {
          "layer": "below",
          "line": {
           "color": "#333",
           "width": 4
          },
          "type": "line",
          "x0": 8.8046875,
          "x1": 8.76953125,
          "y0": -4,
          "y1": -5.5
         },
         {
          "layer": "below",
          "line": {
           "color": "#333",
           "width": 4
          },
          "type": "line",
          "x0": 8.76953125,
          "x1": 8.751953125,
          "y0": -5.5,
          "y1": -7
         },
         {
          "layer": "below",
          "line": {
           "color": "#333",
           "width": 4
          },
          "type": "line",
          "x0": 8.76953125,
          "x1": 8.787109375,
          "y0": -5.5,
          "y1": -7
         },
         {
          "layer": "below",
          "line": {
           "color": "#333",
           "width": 4
          },
          "type": "line",
          "x0": 8.787109375,
          "x1": 8.7783203125,
          "y0": -7,
          "y1": -8.5
         },
         {
          "layer": "below",
          "line": {
           "color": "#333",
           "width": 4
          },
          "type": "line",
          "x0": 8.787109375,
          "x1": 8.7958984375,
          "y0": -7,
          "y1": -8.5
         },
         {
          "layer": "below",
          "line": {
           "color": "#333",
           "width": 4
          },
          "type": "line",
          "x0": 8.8046875,
          "x1": 8.83984375,
          "y0": -4,
          "y1": -5.5
         },
         {
          "layer": "below",
          "line": {
           "color": "#333",
           "width": 4
          },
          "type": "line",
          "x0": 8.83984375,
          "x1": 8.822265625,
          "y0": -5.5,
          "y1": -7
         },
         {
          "layer": "below",
          "line": {
           "color": "#333",
           "width": 4
          },
          "type": "line",
          "x0": 8.822265625,
          "x1": 8.8134765625,
          "y0": -7,
          "y1": -8.5
         },
         {
          "layer": "below",
          "line": {
           "color": "#333",
           "width": 4
          },
          "type": "line",
          "x0": 8.822265625,
          "x1": 8.8310546875,
          "y0": -7,
          "y1": -8.5
         },
         {
          "layer": "below",
          "line": {
           "color": "#333",
           "width": 4
          },
          "type": "line",
          "x0": 8.83984375,
          "x1": 8.857421875,
          "y0": -5.5,
          "y1": -7
         },
         {
          "layer": "below",
          "line": {
           "color": "#333",
           "width": 4
          },
          "type": "line",
          "x0": 8.857421875,
          "x1": 8.8486328125,
          "y0": -7,
          "y1": -8.5
         },
         {
          "layer": "below",
          "line": {
           "color": "#333",
           "width": 4
          },
          "type": "line",
          "x0": 8.857421875,
          "x1": 8.8662109375,
          "y0": -7,
          "y1": -8.5
         },
         {
          "layer": "below",
          "line": {
           "color": "#333",
           "width": 4
          },
          "type": "line",
          "x0": 8.8662109375,
          "x1": 8.86181640625,
          "y0": -8.5,
          "y1": -10
         },
         {
          "layer": "below",
          "line": {
           "color": "#333",
           "width": 4
          },
          "type": "line",
          "x0": 8.8662109375,
          "x1": 8.87060546875,
          "y0": -8.5,
          "y1": -10
         },
         {
          "layer": "below",
          "line": {
           "color": "#333",
           "width": 4
          },
          "type": "line",
          "x0": 8.875,
          "x1": 9.4375,
          "y0": 2,
          "y1": 0.5
         },
         {
          "layer": "below",
          "line": {
           "color": "#333",
           "width": 4
          },
          "type": "line",
          "x0": 9.4375,
          "x1": 9.15625,
          "y0": 0.5,
          "y1": -1
         },
         {
          "layer": "below",
          "line": {
           "color": "#333",
           "width": 4
          },
          "type": "line",
          "x0": 9.15625,
          "x1": 9.015625,
          "y0": -1,
          "y1": -2.5
         },
         {
          "layer": "below",
          "line": {
           "color": "#333",
           "width": 4
          },
          "type": "line",
          "x0": 9.15625,
          "x1": 9.296875,
          "y0": -1,
          "y1": -2.5
         },
         {
          "layer": "below",
          "line": {
           "color": "#333",
           "width": 4
          },
          "type": "line",
          "x0": 9.296875,
          "x1": 9.2265625,
          "y0": -2.5,
          "y1": -4
         },
         {
          "layer": "below",
          "line": {
           "color": "#333",
           "width": 4
          },
          "type": "line",
          "x0": 9.2265625,
          "x1": 9.19140625,
          "y0": -4,
          "y1": -5.5
         },
         {
          "layer": "below",
          "line": {
           "color": "#333",
           "width": 4
          },
          "type": "line",
          "x0": 9.19140625,
          "x1": 9.173828125,
          "y0": -5.5,
          "y1": -7
         },
         {
          "layer": "below",
          "line": {
           "color": "#333",
           "width": 4
          },
          "type": "line",
          "x0": 9.173828125,
          "x1": 9.1650390625,
          "y0": -7,
          "y1": -8.5
         },
         {
          "layer": "below",
          "line": {
           "color": "#333",
           "width": 4
          },
          "type": "line",
          "x0": 9.173828125,
          "x1": 9.1826171875,
          "y0": -7,
          "y1": -8.5
         },
         {
          "layer": "below",
          "line": {
           "color": "#333",
           "width": 4
          },
          "type": "line",
          "x0": 9.19140625,
          "x1": 9.208984375,
          "y0": -5.5,
          "y1": -7
         },
         {
          "layer": "below",
          "line": {
           "color": "#333",
           "width": 4
          },
          "type": "line",
          "x0": 9.208984375,
          "x1": 9.2001953125,
          "y0": -7,
          "y1": -8.5
         },
         {
          "layer": "below",
          "line": {
           "color": "#333",
           "width": 4
          },
          "type": "line",
          "x0": 9.208984375,
          "x1": 9.2177734375,
          "y0": -7,
          "y1": -8.5
         },
         {
          "layer": "below",
          "line": {
           "color": "#333",
           "width": 4
          },
          "type": "line",
          "x0": 9.2265625,
          "x1": 9.26171875,
          "y0": -4,
          "y1": -5.5
         },
         {
          "layer": "below",
          "line": {
           "color": "#333",
           "width": 4
          },
          "type": "line",
          "x0": 9.26171875,
          "x1": 9.244140625,
          "y0": -5.5,
          "y1": -7
         },
         {
          "layer": "below",
          "line": {
           "color": "#333",
           "width": 4
          },
          "type": "line",
          "x0": 9.26171875,
          "x1": 9.279296875,
          "y0": -5.5,
          "y1": -7
         },
         {
          "layer": "below",
          "line": {
           "color": "#333",
           "width": 4
          },
          "type": "line",
          "x0": 9.279296875,
          "x1": 9.2705078125,
          "y0": -7,
          "y1": -8.5
         },
         {
          "layer": "below",
          "line": {
           "color": "#333",
           "width": 4
          },
          "type": "line",
          "x0": 9.2705078125,
          "x1": 9.26611328125,
          "y0": -8.5,
          "y1": -10
         },
         {
          "layer": "below",
          "line": {
           "color": "#333",
           "width": 4
          },
          "type": "line",
          "x0": 9.2705078125,
          "x1": 9.27490234375,
          "y0": -8.5,
          "y1": -10
         },
         {
          "layer": "below",
          "line": {
           "color": "#333",
           "width": 4
          },
          "type": "line",
          "x0": 9.27490234375,
          "x1": 9.272705078125,
          "y0": -10,
          "y1": -11.5
         },
         {
          "layer": "below",
          "line": {
           "color": "#333",
           "width": 4
          },
          "type": "line",
          "x0": 9.27490234375,
          "x1": 9.277099609375,
          "y0": -10,
          "y1": -11.5
         },
         {
          "layer": "below",
          "line": {
           "color": "#333",
           "width": 4
          },
          "type": "line",
          "x0": 9.279296875,
          "x1": 9.2880859375,
          "y0": -7,
          "y1": -8.5
         },
         {
          "layer": "below",
          "line": {
           "color": "#333",
           "width": 4
          },
          "type": "line",
          "x0": 9.2880859375,
          "x1": 9.28369140625,
          "y0": -8.5,
          "y1": -10
         },
         {
          "layer": "below",
          "line": {
           "color": "#333",
           "width": 4
          },
          "type": "line",
          "x0": 9.28369140625,
          "x1": 9.281494140625,
          "y0": -10,
          "y1": -11.5
         },
         {
          "layer": "below",
          "line": {
           "color": "#333",
           "width": 4
          },
          "type": "line",
          "x0": 9.28369140625,
          "x1": 9.285888671875,
          "y0": -10,
          "y1": -11.5
         },
         {
          "layer": "below",
          "line": {
           "color": "#333",
           "width": 4
          },
          "type": "line",
          "x0": 9.2880859375,
          "x1": 9.29248046875,
          "y0": -8.5,
          "y1": -10
         },
         {
          "layer": "below",
          "line": {
           "color": "#333",
           "width": 4
          },
          "type": "line",
          "x0": 9.29248046875,
          "x1": 9.290283203125,
          "y0": -10,
          "y1": -11.5
         },
         {
          "layer": "below",
          "line": {
           "color": "#333",
           "width": 4
          },
          "type": "line",
          "x0": 9.29248046875,
          "x1": 9.294677734375,
          "y0": -10,
          "y1": -11.5
         },
         {
          "layer": "below",
          "line": {
           "color": "#333",
           "width": 4
          },
          "type": "line",
          "x0": 9.294677734375,
          "x1": 9.2935791015625,
          "y0": -11.5,
          "y1": -13
         },
         {
          "layer": "below",
          "line": {
           "color": "#333",
           "width": 4
          },
          "type": "line",
          "x0": 9.294677734375,
          "x1": 9.2957763671875,
          "y0": -11.5,
          "y1": -13
         },
         {
          "layer": "below",
          "line": {
           "color": "#333",
           "width": 4
          },
          "type": "line",
          "x0": 9.2957763671875,
          "x1": 9.29522705078125,
          "y0": -13,
          "y1": -14.5
         },
         {
          "layer": "below",
          "line": {
           "color": "#333",
           "width": 4
          },
          "type": "line",
          "x0": 9.2957763671875,
          "x1": 9.29632568359375,
          "y0": -13,
          "y1": -14.5
         },
         {
          "layer": "below",
          "line": {
           "color": "#333",
           "width": 4
          },
          "type": "line",
          "x0": 9.296875,
          "x1": 9.3671875,
          "y0": -2.5,
          "y1": -4
         },
         {
          "layer": "below",
          "line": {
           "color": "#333",
           "width": 4
          },
          "type": "line",
          "x0": 9.3671875,
          "x1": 9.33203125,
          "y0": -4,
          "y1": -5.5
         },
         {
          "layer": "below",
          "line": {
           "color": "#333",
           "width": 4
          },
          "type": "line",
          "x0": 9.3671875,
          "x1": 9.40234375,
          "y0": -4,
          "y1": -5.5
         },
         {
          "layer": "below",
          "line": {
           "color": "#333",
           "width": 4
          },
          "type": "line",
          "x0": 9.40234375,
          "x1": 9.384765625,
          "y0": -5.5,
          "y1": -7
         },
         {
          "layer": "below",
          "line": {
           "color": "#333",
           "width": 4
          },
          "type": "line",
          "x0": 9.384765625,
          "x1": 9.3759765625,
          "y0": -7,
          "y1": -8.5
         },
         {
          "layer": "below",
          "line": {
           "color": "#333",
           "width": 4
          },
          "type": "line",
          "x0": 9.384765625,
          "x1": 9.3935546875,
          "y0": -7,
          "y1": -8.5
         },
         {
          "layer": "below",
          "line": {
           "color": "#333",
           "width": 4
          },
          "type": "line",
          "x0": 9.3935546875,
          "x1": 9.38916015625,
          "y0": -8.5,
          "y1": -10
         },
         {
          "layer": "below",
          "line": {
           "color": "#333",
           "width": 4
          },
          "type": "line",
          "x0": 9.38916015625,
          "x1": 9.386962890625,
          "y0": -10,
          "y1": -11.5
         },
         {
          "layer": "below",
          "line": {
           "color": "#333",
           "width": 4
          },
          "type": "line",
          "x0": 9.38916015625,
          "x1": 9.391357421875,
          "y0": -10,
          "y1": -11.5
         },
         {
          "layer": "below",
          "line": {
           "color": "#333",
           "width": 4
          },
          "type": "line",
          "x0": 9.3935546875,
          "x1": 9.39794921875,
          "y0": -8.5,
          "y1": -10
         },
         {
          "layer": "below",
          "line": {
           "color": "#333",
           "width": 4
          },
          "type": "line",
          "x0": 9.39794921875,
          "x1": 9.395751953125,
          "y0": -10,
          "y1": -11.5
         },
         {
          "layer": "below",
          "line": {
           "color": "#333",
           "width": 4
          },
          "type": "line",
          "x0": 9.39794921875,
          "x1": 9.400146484375,
          "y0": -10,
          "y1": -11.5
         },
         {
          "layer": "below",
          "line": {
           "color": "#333",
           "width": 4
          },
          "type": "line",
          "x0": 9.40234375,
          "x1": 9.419921875,
          "y0": -5.5,
          "y1": -7
         },
         {
          "layer": "below",
          "line": {
           "color": "#333",
           "width": 4
          },
          "type": "line",
          "x0": 9.419921875,
          "x1": 9.4111328125,
          "y0": -7,
          "y1": -8.5
         },
         {
          "layer": "below",
          "line": {
           "color": "#333",
           "width": 4
          },
          "type": "line",
          "x0": 9.4111328125,
          "x1": 9.40673828125,
          "y0": -8.5,
          "y1": -10
         },
         {
          "layer": "below",
          "line": {
           "color": "#333",
           "width": 4
          },
          "type": "line",
          "x0": 9.40673828125,
          "x1": 9.404541015625,
          "y0": -10,
          "y1": -11.5
         },
         {
          "layer": "below",
          "line": {
           "color": "#333",
           "width": 4
          },
          "type": "line",
          "x0": 9.404541015625,
          "x1": 9.4034423828125,
          "y0": -11.5,
          "y1": -13
         },
         {
          "layer": "below",
          "line": {
           "color": "#333",
           "width": 4
          },
          "type": "line",
          "x0": 9.4034423828125,
          "x1": 9.40289306640625,
          "y0": -13,
          "y1": -14.5
         },
         {
          "layer": "below",
          "line": {
           "color": "#333",
           "width": 4
          },
          "type": "line",
          "x0": 9.4034423828125,
          "x1": 9.40399169921875,
          "y0": -13,
          "y1": -14.5
         },
         {
          "layer": "below",
          "line": {
           "color": "#333",
           "width": 4
          },
          "type": "line",
          "x0": 9.40399169921875,
          "x1": 9.403717041015625,
          "y0": -14.5,
          "y1": -16
         },
         {
          "layer": "below",
          "line": {
           "color": "#333",
           "width": 4
          },
          "type": "line",
          "x0": 9.403717041015625,
          "x1": 9.403579711914062,
          "y0": -16,
          "y1": -17.5
         },
         {
          "layer": "below",
          "line": {
           "color": "#333",
           "width": 4
          },
          "type": "line",
          "x0": 9.403717041015625,
          "x1": 9.403854370117188,
          "y0": -16,
          "y1": -17.5
         },
         {
          "layer": "below",
          "line": {
           "color": "#333",
           "width": 4
          },
          "type": "line",
          "x0": 9.403854370117188,
          "x1": 9.403785705566406,
          "y0": -17.5,
          "y1": -19
         },
         {
          "layer": "below",
          "line": {
           "color": "#333",
           "width": 4
          },
          "type": "line",
          "x0": 9.403854370117188,
          "x1": 9.403923034667969,
          "y0": -17.5,
          "y1": -19
         },
         {
          "layer": "below",
          "line": {
           "color": "#333",
           "width": 4
          },
          "type": "line",
          "x0": 9.40399169921875,
          "x1": 9.404266357421875,
          "y0": -14.5,
          "y1": -16
         },
         {
          "layer": "below",
          "line": {
           "color": "#333",
           "width": 4
          },
          "type": "line",
          "x0": 9.404266357421875,
          "x1": 9.404129028320312,
          "y0": -16,
          "y1": -17.5
         },
         {
          "layer": "below",
          "line": {
           "color": "#333",
           "width": 4
          },
          "type": "line",
          "x0": 9.404266357421875,
          "x1": 9.404403686523438,
          "y0": -16,
          "y1": -17.5
         },
         {
          "layer": "below",
          "line": {
           "color": "#333",
           "width": 4
          },
          "type": "line",
          "x0": 9.404403686523438,
          "x1": 9.404335021972656,
          "y0": -17.5,
          "y1": -19
         },
         {
          "layer": "below",
          "line": {
           "color": "#333",
           "width": 4
          },
          "type": "line",
          "x0": 9.404403686523438,
          "x1": 9.404472351074219,
          "y0": -17.5,
          "y1": -19
         },
         {
          "layer": "below",
          "line": {
           "color": "#333",
           "width": 4
          },
          "type": "line",
          "x0": 9.404472351074219,
          "x1": 9.404438018798828,
          "y0": -19,
          "y1": -20.5
         },
         {
          "layer": "below",
          "line": {
           "color": "#333",
           "width": 4
          },
          "type": "line",
          "x0": 9.404472351074219,
          "x1": 9.40450668334961,
          "y0": -19,
          "y1": -20.5
         },
         {
          "layer": "below",
          "line": {
           "color": "#333",
           "width": 4
          },
          "type": "line",
          "x0": 9.40450668334961,
          "x1": 9.404489517211914,
          "y0": -20.5,
          "y1": -22
         },
         {
          "layer": "below",
          "line": {
           "color": "#333",
           "width": 4
          },
          "type": "line",
          "x0": 9.40450668334961,
          "x1": 9.404523849487305,
          "y0": -20.5,
          "y1": -22
         },
         {
          "layer": "below",
          "line": {
           "color": "#333",
           "width": 4
          },
          "type": "line",
          "x0": 9.404541015625,
          "x1": 9.4056396484375,
          "y0": -11.5,
          "y1": -13
         },
         {
          "layer": "below",
          "line": {
           "color": "#333",
           "width": 4
          },
          "type": "line",
          "x0": 9.4056396484375,
          "x1": 9.40509033203125,
          "y0": -13,
          "y1": -14.5
         },
         {
          "layer": "below",
          "line": {
           "color": "#333",
           "width": 4
          },
          "type": "line",
          "x0": 9.40509033203125,
          "x1": 9.404815673828125,
          "y0": -14.5,
          "y1": -16
         },
         {
          "layer": "below",
          "line": {
           "color": "#333",
           "width": 4
          },
          "type": "line",
          "x0": 9.404815673828125,
          "x1": 9.404678344726562,
          "y0": -16,
          "y1": -17.5
         },
         {
          "layer": "below",
          "line": {
           "color": "#333",
           "width": 4
          },
          "type": "line",
          "x0": 9.404815673828125,
          "x1": 9.404953002929688,
          "y0": -16,
          "y1": -17.5
         },
         {
          "layer": "below",
          "line": {
           "color": "#333",
           "width": 4
          },
          "type": "line",
          "x0": 9.404953002929688,
          "x1": 9.404884338378906,
          "y0": -17.5,
          "y1": -19
         },
         {
          "layer": "below",
          "line": {
           "color": "#333",
           "width": 4
          },
          "type": "line",
          "x0": 9.404953002929688,
          "x1": 9.405021667480469,
          "y0": -17.5,
          "y1": -19
         },
         {
          "layer": "below",
          "line": {
           "color": "#333",
           "width": 4
          },
          "type": "line",
          "x0": 9.40509033203125,
          "x1": 9.405364990234375,
          "y0": -14.5,
          "y1": -16
         },
         {
          "layer": "below",
          "line": {
           "color": "#333",
           "width": 4
          },
          "type": "line",
          "x0": 9.405364990234375,
          "x1": 9.405227661132812,
          "y0": -16,
          "y1": -17.5
         },
         {
          "layer": "below",
          "line": {
           "color": "#333",
           "width": 4
          },
          "type": "line",
          "x0": 9.405364990234375,
          "x1": 9.405502319335938,
          "y0": -16,
          "y1": -17.5
         },
         {
          "layer": "below",
          "line": {
           "color": "#333",
           "width": 4
          },
          "type": "line",
          "x0": 9.405502319335938,
          "x1": 9.405433654785156,
          "y0": -17.5,
          "y1": -19
         },
         {
          "layer": "below",
          "line": {
           "color": "#333",
           "width": 4
          },
          "type": "line",
          "x0": 9.405502319335938,
          "x1": 9.405570983886719,
          "y0": -17.5,
          "y1": -19
         },
         {
          "layer": "below",
          "line": {
           "color": "#333",
           "width": 4
          },
          "type": "line",
          "x0": 9.405570983886719,
          "x1": 9.405536651611328,
          "y0": -19,
          "y1": -20.5
         },
         {
          "layer": "below",
          "line": {
           "color": "#333",
           "width": 4
          },
          "type": "line",
          "x0": 9.405570983886719,
          "x1": 9.40560531616211,
          "y0": -19,
          "y1": -20.5
         },
         {
          "layer": "below",
          "line": {
           "color": "#333",
           "width": 4
          },
          "type": "line",
          "x0": 9.40560531616211,
          "x1": 9.405588150024414,
          "y0": -20.5,
          "y1": -22
         },
         {
          "layer": "below",
          "line": {
           "color": "#333",
           "width": 4
          },
          "type": "line",
          "x0": 9.40560531616211,
          "x1": 9.405622482299805,
          "y0": -20.5,
          "y1": -22
         },
         {
          "layer": "below",
          "line": {
           "color": "#333",
           "width": 4
          },
          "type": "line",
          "x0": 9.405622482299805,
          "x1": 9.405613899230957,
          "y0": -22,
          "y1": -23.5
         },
         {
          "layer": "below",
          "line": {
           "color": "#333",
           "width": 4
          },
          "type": "line",
          "x0": 9.405622482299805,
          "x1": 9.405631065368652,
          "y0": -22,
          "y1": -23.5
         },
         {
          "layer": "below",
          "line": {
           "color": "#333",
           "width": 4
          },
          "type": "line",
          "x0": 9.4056396484375,
          "x1": 9.40618896484375,
          "y0": -13,
          "y1": -14.5
         },
         {
          "layer": "below",
          "line": {
           "color": "#333",
           "width": 4
          },
          "type": "line",
          "x0": 9.40618896484375,
          "x1": 9.405914306640625,
          "y0": -14.5,
          "y1": -16
         },
         {
          "layer": "below",
          "line": {
           "color": "#333",
           "width": 4
          },
          "type": "line",
          "x0": 9.405914306640625,
          "x1": 9.405776977539062,
          "y0": -16,
          "y1": -17.5
         },
         {
          "layer": "below",
          "line": {
           "color": "#333",
           "width": 4
          },
          "type": "line",
          "x0": 9.405776977539062,
          "x1": 9.405708312988281,
          "y0": -17.5,
          "y1": -19
         },
         {
          "layer": "below",
          "line": {
           "color": "#333",
           "width": 4
          },
          "type": "line",
          "x0": 9.405708312988281,
          "x1": 9.40567398071289,
          "y0": -19,
          "y1": -20.5
         },
         {
          "layer": "below",
          "line": {
           "color": "#333",
           "width": 4
          },
          "type": "line",
          "x0": 9.405708312988281,
          "x1": 9.405742645263672,
          "y0": -19,
          "y1": -20.5
         },
         {
          "layer": "below",
          "line": {
           "color": "#333",
           "width": 4
          },
          "type": "line",
          "x0": 9.405742645263672,
          "x1": 9.405725479125977,
          "y0": -20.5,
          "y1": -22
         },
         {
          "layer": "below",
          "line": {
           "color": "#333",
           "width": 4
          },
          "type": "line",
          "x0": 9.405742645263672,
          "x1": 9.405759811401367,
          "y0": -20.5,
          "y1": -22
         },
         {
          "layer": "below",
          "line": {
           "color": "#333",
           "width": 4
          },
          "type": "line",
          "x0": 9.405759811401367,
          "x1": 9.40575122833252,
          "y0": -22,
          "y1": -23.5
         },
         {
          "layer": "below",
          "line": {
           "color": "#333",
           "width": 4
          },
          "type": "line",
          "x0": 9.405759811401367,
          "x1": 9.405768394470215,
          "y0": -22,
          "y1": -23.5
         },
         {
          "layer": "below",
          "line": {
           "color": "#333",
           "width": 4
          },
          "type": "line",
          "x0": 9.405768394470215,
          "x1": 9.405764102935791,
          "y0": -23.5,
          "y1": -25
         },
         {
          "layer": "below",
          "line": {
           "color": "#333",
           "width": 4
          },
          "type": "line",
          "x0": 9.405768394470215,
          "x1": 9.405772686004639,
          "y0": -23.5,
          "y1": -25
         },
         {
          "layer": "below",
          "line": {
           "color": "#333",
           "width": 4
          },
          "type": "line",
          "x0": 9.405776977539062,
          "x1": 9.405845642089844,
          "y0": -17.5,
          "y1": -19
         },
         {
          "layer": "below",
          "line": {
           "color": "#333",
           "width": 4
          },
          "type": "line",
          "x0": 9.405845642089844,
          "x1": 9.405811309814453,
          "y0": -19,
          "y1": -20.5
         },
         {
          "layer": "below",
          "line": {
           "color": "#333",
           "width": 4
          },
          "type": "line",
          "x0": 9.405845642089844,
          "x1": 9.405879974365234,
          "y0": -19,
          "y1": -20.5
         },
         {
          "layer": "below",
          "line": {
           "color": "#333",
           "width": 4
          },
          "type": "line",
          "x0": 9.405879974365234,
          "x1": 9.405862808227539,
          "y0": -20.5,
          "y1": -22
         },
         {
          "layer": "below",
          "line": {
           "color": "#333",
           "width": 4
          },
          "type": "line",
          "x0": 9.405879974365234,
          "x1": 9.40589714050293,
          "y0": -20.5,
          "y1": -22
         },
         {
          "layer": "below",
          "line": {
           "color": "#333",
           "width": 4
          },
          "type": "line",
          "x0": 9.40589714050293,
          "x1": 9.405888557434082,
          "y0": -22,
          "y1": -23.5
         },
         {
          "layer": "below",
          "line": {
           "color": "#333",
           "width": 4
          },
          "type": "line",
          "x0": 9.40589714050293,
          "x1": 9.405905723571777,
          "y0": -22,
          "y1": -23.5
         },
         {
          "layer": "below",
          "line": {
           "color": "#333",
           "width": 4
          },
          "type": "line",
          "x0": 9.405914306640625,
          "x1": 9.406051635742188,
          "y0": -16,
          "y1": -17.5
         },
         {
          "layer": "below",
          "line": {
           "color": "#333",
           "width": 4
          },
          "type": "line",
          "x0": 9.406051635742188,
          "x1": 9.405982971191406,
          "y0": -17.5,
          "y1": -19
         },
         {
          "layer": "below",
          "line": {
           "color": "#333",
           "width": 4
          },
          "type": "line",
          "x0": 9.405982971191406,
          "x1": 9.405948638916016,
          "y0": -19,
          "y1": -20.5
         },
         {
          "layer": "below",
          "line": {
           "color": "#333",
           "width": 4
          },
          "type": "line",
          "x0": 9.405982971191406,
          "x1": 9.406017303466797,
          "y0": -19,
          "y1": -20.5
         },
         {
          "layer": "below",
          "line": {
           "color": "#333",
           "width": 4
          },
          "type": "line",
          "x0": 9.406051635742188,
          "x1": 9.406120300292969,
          "y0": -17.5,
          "y1": -19
         },
         {
          "layer": "below",
          "line": {
           "color": "#333",
           "width": 4
          },
          "type": "line",
          "x0": 9.406120300292969,
          "x1": 9.406085968017578,
          "y0": -19,
          "y1": -20.5
         },
         {
          "layer": "below",
          "line": {
           "color": "#333",
           "width": 4
          },
          "type": "line",
          "x0": 9.406085968017578,
          "x1": 9.406068801879883,
          "y0": -20.5,
          "y1": -22
         },
         {
          "layer": "below",
          "line": {
           "color": "#333",
           "width": 4
          },
          "type": "line",
          "x0": 9.406085968017578,
          "x1": 9.406103134155273,
          "y0": -20.5,
          "y1": -22
         },
         {
          "layer": "below",
          "line": {
           "color": "#333",
           "width": 4
          },
          "type": "line",
          "x0": 9.406120300292969,
          "x1": 9.40615463256836,
          "y0": -19,
          "y1": -20.5
         },
         {
          "layer": "below",
          "line": {
           "color": "#333",
           "width": 4
          },
          "type": "line",
          "x0": 9.40615463256836,
          "x1": 9.406137466430664,
          "y0": -20.5,
          "y1": -22
         },
         {
          "layer": "below",
          "line": {
           "color": "#333",
           "width": 4
          },
          "type": "line",
          "x0": 9.40615463256836,
          "x1": 9.406171798706055,
          "y0": -20.5,
          "y1": -22
         },
         {
          "layer": "below",
          "line": {
           "color": "#333",
           "width": 4
          },
          "type": "line",
          "x0": 9.406171798706055,
          "x1": 9.406163215637207,
          "y0": -22,
          "y1": -23.5
         },
         {
          "layer": "below",
          "line": {
           "color": "#333",
           "width": 4
          },
          "type": "line",
          "x0": 9.406171798706055,
          "x1": 9.406180381774902,
          "y0": -22,
          "y1": -23.5
         },
         {
          "layer": "below",
          "line": {
           "color": "#333",
           "width": 4
          },
          "type": "line",
          "x0": 9.406180381774902,
          "x1": 9.406176090240479,
          "y0": -23.5,
          "y1": -25
         },
         {
          "layer": "below",
          "line": {
           "color": "#333",
           "width": 4
          },
          "type": "line",
          "x0": 9.406180381774902,
          "x1": 9.406184673309326,
          "y0": -23.5,
          "y1": -25
         },
         {
          "layer": "below",
          "line": {
           "color": "#333",
           "width": 4
          },
          "type": "line",
          "x0": 9.40618896484375,
          "x1": 9.406463623046875,
          "y0": -14.5,
          "y1": -16
         },
         {
          "layer": "below",
          "line": {
           "color": "#333",
           "width": 4
          },
          "type": "line",
          "x0": 9.406463623046875,
          "x1": 9.406326293945312,
          "y0": -16,
          "y1": -17.5
         },
         {
          "layer": "below",
          "line": {
           "color": "#333",
           "width": 4
          },
          "type": "line",
          "x0": 9.406326293945312,
          "x1": 9.406257629394531,
          "y0": -17.5,
          "y1": -19
         },
         {
          "layer": "below",
          "line": {
           "color": "#333",
           "width": 4
          },
          "type": "line",
          "x0": 9.406326293945312,
          "x1": 9.406394958496094,
          "y0": -17.5,
          "y1": -19
         },
         {
          "layer": "below",
          "line": {
           "color": "#333",
           "width": 4
          },
          "type": "line",
          "x0": 9.406394958496094,
          "x1": 9.406360626220703,
          "y0": -19,
          "y1": -20.5
         },
         {
          "layer": "below",
          "line": {
           "color": "#333",
           "width": 4
          },
          "type": "line",
          "x0": 9.406394958496094,
          "x1": 9.406429290771484,
          "y0": -19,
          "y1": -20.5
         },
         {
          "layer": "below",
          "line": {
           "color": "#333",
           "width": 4
          },
          "type": "line",
          "x0": 9.406463623046875,
          "x1": 9.406600952148438,
          "y0": -16,
          "y1": -17.5
         },
         {
          "layer": "below",
          "line": {
           "color": "#333",
           "width": 4
          },
          "type": "line",
          "x0": 9.406600952148438,
          "x1": 9.406532287597656,
          "y0": -17.5,
          "y1": -19
         },
         {
          "layer": "below",
          "line": {
           "color": "#333",
           "width": 4
          },
          "type": "line",
          "x0": 9.406532287597656,
          "x1": 9.406497955322266,
          "y0": -19,
          "y1": -20.5
         },
         {
          "layer": "below",
          "line": {
           "color": "#333",
           "width": 4
          },
          "type": "line",
          "x0": 9.406532287597656,
          "x1": 9.406566619873047,
          "y0": -19,
          "y1": -20.5
         },
         {
          "layer": "below",
          "line": {
           "color": "#333",
           "width": 4
          },
          "type": "line",
          "x0": 9.406600952148438,
          "x1": 9.406669616699219,
          "y0": -17.5,
          "y1": -19
         },
         {
          "layer": "below",
          "line": {
           "color": "#333",
           "width": 4
          },
          "type": "line",
          "x0": 9.406669616699219,
          "x1": 9.406635284423828,
          "y0": -19,
          "y1": -20.5
         },
         {
          "layer": "below",
          "line": {
           "color": "#333",
           "width": 4
          },
          "type": "line",
          "x0": 9.406635284423828,
          "x1": 9.406618118286133,
          "y0": -20.5,
          "y1": -22
         },
         {
          "layer": "below",
          "line": {
           "color": "#333",
           "width": 4
          },
          "type": "line",
          "x0": 9.406618118286133,
          "x1": 9.406609535217285,
          "y0": -22,
          "y1": -23.5
         },
         {
          "layer": "below",
          "line": {
           "color": "#333",
           "width": 4
          },
          "type": "line",
          "x0": 9.406618118286133,
          "x1": 9.40662670135498,
          "y0": -22,
          "y1": -23.5
         },
         {
          "layer": "below",
          "line": {
           "color": "#333",
           "width": 4
          },
          "type": "line",
          "x0": 9.406635284423828,
          "x1": 9.406652450561523,
          "y0": -20.5,
          "y1": -22
         },
         {
          "layer": "below",
          "line": {
           "color": "#333",
           "width": 4
          },
          "type": "line",
          "x0": 9.406652450561523,
          "x1": 9.406643867492676,
          "y0": -22,
          "y1": -23.5
         },
         {
          "layer": "below",
          "line": {
           "color": "#333",
           "width": 4
          },
          "type": "line",
          "x0": 9.406652450561523,
          "x1": 9.406661033630371,
          "y0": -22,
          "y1": -23.5
         },
         {
          "layer": "below",
          "line": {
           "color": "#333",
           "width": 4
          },
          "type": "line",
          "x0": 9.406669616699219,
          "x1": 9.40670394897461,
          "y0": -19,
          "y1": -20.5
         },
         {
          "layer": "below",
          "line": {
           "color": "#333",
           "width": 4
          },
          "type": "line",
          "x0": 9.40670394897461,
          "x1": 9.406686782836914,
          "y0": -20.5,
          "y1": -22
         },
         {
          "layer": "below",
          "line": {
           "color": "#333",
           "width": 4
          },
          "type": "line",
          "x0": 9.406686782836914,
          "x1": 9.406678199768066,
          "y0": -22,
          "y1": -23.5
         },
         {
          "layer": "below",
          "line": {
           "color": "#333",
           "width": 4
          },
          "type": "line",
          "x0": 9.406686782836914,
          "x1": 9.406695365905762,
          "y0": -22,
          "y1": -23.5
         },
         {
          "layer": "below",
          "line": {
           "color": "#333",
           "width": 4
          },
          "type": "line",
          "x0": 9.406695365905762,
          "x1": 9.406691074371338,
          "y0": -23.5,
          "y1": -25
         },
         {
          "layer": "below",
          "line": {
           "color": "#333",
           "width": 4
          },
          "type": "line",
          "x0": 9.406695365905762,
          "x1": 9.406699657440186,
          "y0": -23.5,
          "y1": -25
         },
         {
          "layer": "below",
          "line": {
           "color": "#333",
           "width": 4
          },
          "type": "line",
          "x0": 9.406699657440186,
          "x1": 9.406697511672974,
          "y0": -25,
          "y1": -26.5
         },
         {
          "layer": "below",
          "line": {
           "color": "#333",
           "width": 4
          },
          "type": "line",
          "x0": 9.406699657440186,
          "x1": 9.406701803207397,
          "y0": -25,
          "y1": -26.5
         },
         {
          "layer": "below",
          "line": {
           "color": "#333",
           "width": 4
          },
          "type": "line",
          "x0": 9.406701803207397,
          "x1": 9.406700730323792,
          "y0": -26.5,
          "y1": -28
         },
         {
          "layer": "below",
          "line": {
           "color": "#333",
           "width": 4
          },
          "type": "line",
          "x0": 9.406701803207397,
          "x1": 9.406702876091003,
          "y0": -26.5,
          "y1": -28
         },
         {
          "layer": "below",
          "line": {
           "color": "#333",
           "width": 4
          },
          "type": "line",
          "x0": 9.40670394897461,
          "x1": 9.406721115112305,
          "y0": -20.5,
          "y1": -22
         },
         {
          "layer": "below",
          "line": {
           "color": "#333",
           "width": 4
          },
          "type": "line",
          "x0": 9.406721115112305,
          "x1": 9.406712532043457,
          "y0": -22,
          "y1": -23.5
         },
         {
          "layer": "below",
          "line": {
           "color": "#333",
           "width": 4
          },
          "type": "line",
          "x0": 9.406712532043457,
          "x1": 9.406708240509033,
          "y0": -23.5,
          "y1": -25
         },
         {
          "layer": "below",
          "line": {
           "color": "#333",
           "width": 4
          },
          "type": "line",
          "x0": 9.406712532043457,
          "x1": 9.40671682357788,
          "y0": -23.5,
          "y1": -25
         },
         {
          "layer": "below",
          "line": {
           "color": "#333",
           "width": 4
          },
          "type": "line",
          "x0": 9.406721115112305,
          "x1": 9.406729698181152,
          "y0": -22,
          "y1": -23.5
         },
         {
          "layer": "below",
          "line": {
           "color": "#333",
           "width": 4
          },
          "type": "line",
          "x0": 9.406729698181152,
          "x1": 9.406725406646729,
          "y0": -23.5,
          "y1": -25
         },
         {
          "layer": "below",
          "line": {
           "color": "#333",
           "width": 4
          },
          "type": "line",
          "x0": 9.406725406646729,
          "x1": 9.406723260879517,
          "y0": -25,
          "y1": -26.5
         },
         {
          "layer": "below",
          "line": {
           "color": "#333",
           "width": 4
          },
          "type": "line",
          "x0": 9.406725406646729,
          "x1": 9.40672755241394,
          "y0": -25,
          "y1": -26.5
         },
         {
          "layer": "below",
          "line": {
           "color": "#333",
           "width": 4
          },
          "type": "line",
          "x0": 9.40672755241394,
          "x1": 9.406726479530334,
          "y0": -26.5,
          "y1": -28
         },
         {
          "layer": "below",
          "line": {
           "color": "#333",
           "width": 4
          },
          "type": "line",
          "x0": 9.40672755241394,
          "x1": 9.406728625297546,
          "y0": -26.5,
          "y1": -28
         },
         {
          "layer": "below",
          "line": {
           "color": "#333",
           "width": 4
          },
          "type": "line",
          "x0": 9.406728625297546,
          "x1": 9.406728088855743,
          "y0": -28,
          "y1": -29.5
         },
         {
          "layer": "below",
          "line": {
           "color": "#333",
           "width": 4
          },
          "type": "line",
          "x0": 9.406728625297546,
          "x1": 9.40672916173935,
          "y0": -28,
          "y1": -29.5
         },
         {
          "layer": "below",
          "line": {
           "color": "#333",
           "width": 4
          },
          "type": "line",
          "x0": 9.406729698181152,
          "x1": 9.406733989715576,
          "y0": -23.5,
          "y1": -25
         },
         {
          "layer": "below",
          "line": {
           "color": "#333",
           "width": 4
          },
          "type": "line",
          "x0": 9.406733989715576,
          "x1": 9.406731843948364,
          "y0": -25,
          "y1": -26.5
         },
         {
          "layer": "below",
          "line": {
           "color": "#333",
           "width": 4
          },
          "type": "line",
          "x0": 9.406733989715576,
          "x1": 9.406736135482788,
          "y0": -25,
          "y1": -26.5
         },
         {
          "layer": "below",
          "line": {
           "color": "#333",
           "width": 4
          },
          "type": "line",
          "x0": 9.40673828125,
          "x1": 9.408935546875,
          "y0": -10,
          "y1": -11.5
         },
         {
          "layer": "below",
          "line": {
           "color": "#333",
           "width": 4
          },
          "type": "line",
          "x0": 9.408935546875,
          "x1": 9.4078369140625,
          "y0": -11.5,
          "y1": -13
         },
         {
          "layer": "below",
          "line": {
           "color": "#333",
           "width": 4
          },
          "type": "line",
          "x0": 9.4078369140625,
          "x1": 9.40728759765625,
          "y0": -13,
          "y1": -14.5
         },
         {
          "layer": "below",
          "line": {
           "color": "#333",
           "width": 4
          },
          "type": "line",
          "x0": 9.4078369140625,
          "x1": 9.40838623046875,
          "y0": -13,
          "y1": -14.5
         },
         {
          "layer": "below",
          "line": {
           "color": "#333",
           "width": 4
          },
          "type": "line",
          "x0": 9.408935546875,
          "x1": 9.4100341796875,
          "y0": -11.5,
          "y1": -13
         },
         {
          "layer": "below",
          "line": {
           "color": "#333",
           "width": 4
          },
          "type": "line",
          "x0": 9.4100341796875,
          "x1": 9.40948486328125,
          "y0": -13,
          "y1": -14.5
         },
         {
          "layer": "below",
          "line": {
           "color": "#333",
           "width": 4
          },
          "type": "line",
          "x0": 9.4100341796875,
          "x1": 9.41058349609375,
          "y0": -13,
          "y1": -14.5
         },
         {
          "layer": "below",
          "line": {
           "color": "#333",
           "width": 4
          },
          "type": "line",
          "x0": 9.41058349609375,
          "x1": 9.410308837890625,
          "y0": -14.5,
          "y1": -16
         },
         {
          "layer": "below",
          "line": {
           "color": "#333",
           "width": 4
          },
          "type": "line",
          "x0": 9.410308837890625,
          "x1": 9.410171508789062,
          "y0": -16,
          "y1": -17.5
         },
         {
          "layer": "below",
          "line": {
           "color": "#333",
           "width": 4
          },
          "type": "line",
          "x0": 9.410308837890625,
          "x1": 9.410446166992188,
          "y0": -16,
          "y1": -17.5
         },
         {
          "layer": "below",
          "line": {
           "color": "#333",
           "width": 4
          },
          "type": "line",
          "x0": 9.410446166992188,
          "x1": 9.410377502441406,
          "y0": -17.5,
          "y1": -19
         },
         {
          "layer": "below",
          "line": {
           "color": "#333",
           "width": 4
          },
          "type": "line",
          "x0": 9.410446166992188,
          "x1": 9.410514831542969,
          "y0": -17.5,
          "y1": -19
         },
         {
          "layer": "below",
          "line": {
           "color": "#333",
           "width": 4
          },
          "type": "line",
          "x0": 9.41058349609375,
          "x1": 9.410858154296875,
          "y0": -14.5,
          "y1": -16
         },
         {
          "layer": "below",
          "line": {
           "color": "#333",
           "width": 4
          },
          "type": "line",
          "x0": 9.410858154296875,
          "x1": 9.410720825195312,
          "y0": -16,
          "y1": -17.5
         },
         {
          "layer": "below",
          "line": {
           "color": "#333",
           "width": 4
          },
          "type": "line",
          "x0": 9.410858154296875,
          "x1": 9.410995483398438,
          "y0": -16,
          "y1": -17.5
         },
         {
          "layer": "below",
          "line": {
           "color": "#333",
           "width": 4
          },
          "type": "line",
          "x0": 9.410995483398438,
          "x1": 9.410926818847656,
          "y0": -17.5,
          "y1": -19
         },
         {
          "layer": "below",
          "line": {
           "color": "#333",
           "width": 4
          },
          "type": "line",
          "x0": 9.410995483398438,
          "x1": 9.411064147949219,
          "y0": -17.5,
          "y1": -19
         },
         {
          "layer": "below",
          "line": {
           "color": "#333",
           "width": 4
          },
          "type": "line",
          "x0": 9.411064147949219,
          "x1": 9.411029815673828,
          "y0": -19,
          "y1": -20.5
         },
         {
          "layer": "below",
          "line": {
           "color": "#333",
           "width": 4
          },
          "type": "line",
          "x0": 9.411064147949219,
          "x1": 9.41109848022461,
          "y0": -19,
          "y1": -20.5
         },
         {
          "layer": "below",
          "line": {
           "color": "#333",
           "width": 4
          },
          "type": "line",
          "x0": 9.4111328125,
          "x1": 9.41552734375,
          "y0": -8.5,
          "y1": -10
         },
         {
          "layer": "below",
          "line": {
           "color": "#333",
           "width": 4
          },
          "type": "line",
          "x0": 9.41552734375,
          "x1": 9.413330078125,
          "y0": -10,
          "y1": -11.5
         },
         {
          "layer": "below",
          "line": {
           "color": "#333",
           "width": 4
          },
          "type": "line",
          "x0": 9.413330078125,
          "x1": 9.4122314453125,
          "y0": -11.5,
          "y1": -13
         },
         {
          "layer": "below",
          "line": {
           "color": "#333",
           "width": 4
          },
          "type": "line",
          "x0": 9.4122314453125,
          "x1": 9.41168212890625,
          "y0": -13,
          "y1": -14.5
         },
         {
          "layer": "below",
          "line": {
           "color": "#333",
           "width": 4
          },
          "type": "line",
          "x0": 9.41168212890625,
          "x1": 9.411407470703125,
          "y0": -14.5,
          "y1": -16
         },
         {
          "layer": "below",
          "line": {
           "color": "#333",
           "width": 4
          },
          "type": "line",
          "x0": 9.41168212890625,
          "x1": 9.411956787109375,
          "y0": -14.5,
          "y1": -16
         },
         {
          "layer": "below",
          "line": {
           "color": "#333",
           "width": 4
          },
          "type": "line",
          "x0": 9.411956787109375,
          "x1": 9.411819458007812,
          "y0": -16,
          "y1": -17.5
         },
         {
          "layer": "below",
          "line": {
           "color": "#333",
           "width": 4
          },
          "type": "line",
          "x0": 9.411956787109375,
          "x1": 9.412094116210938,
          "y0": -16,
          "y1": -17.5
         },
         {
          "layer": "below",
          "line": {
           "color": "#333",
           "width": 4
          },
          "type": "line",
          "x0": 9.4122314453125,
          "x1": 9.41278076171875,
          "y0": -13,
          "y1": -14.5
         },
         {
          "layer": "below",
          "line": {
           "color": "#333",
           "width": 4
          },
          "type": "line",
          "x0": 9.41278076171875,
          "x1": 9.412506103515625,
          "y0": -14.5,
          "y1": -16
         },
         {
          "layer": "below",
          "line": {
           "color": "#333",
           "width": 4
          },
          "type": "line",
          "x0": 9.41278076171875,
          "x1": 9.413055419921875,
          "y0": -14.5,
          "y1": -16
         },
         {
          "layer": "below",
          "line": {
           "color": "#333",
           "width": 4
          },
          "type": "line",
          "x0": 9.413055419921875,
          "x1": 9.412918090820312,
          "y0": -16,
          "y1": -17.5
         },
         {
          "layer": "below",
          "line": {
           "color": "#333",
           "width": 4
          },
          "type": "line",
          "x0": 9.413055419921875,
          "x1": 9.413192749023438,
          "y0": -16,
          "y1": -17.5
         },
         {
          "layer": "below",
          "line": {
           "color": "#333",
           "width": 4
          },
          "type": "line",
          "x0": 9.413192749023438,
          "x1": 9.413124084472656,
          "y0": -17.5,
          "y1": -19
         },
         {
          "layer": "below",
          "line": {
           "color": "#333",
           "width": 4
          },
          "type": "line",
          "x0": 9.413192749023438,
          "x1": 9.413261413574219,
          "y0": -17.5,
          "y1": -19
         },
         {
          "layer": "below",
          "line": {
           "color": "#333",
           "width": 4
          },
          "type": "line",
          "x0": 9.413330078125,
          "x1": 9.4144287109375,
          "y0": -11.5,
          "y1": -13
         },
         {
          "layer": "below",
          "line": {
           "color": "#333",
           "width": 4
          },
          "type": "line",
          "x0": 9.4144287109375,
          "x1": 9.41387939453125,
          "y0": -13,
          "y1": -14.5
         },
         {
          "layer": "below",
          "line": {
           "color": "#333",
           "width": 4
          },
          "type": "line",
          "x0": 9.41387939453125,
          "x1": 9.413604736328125,
          "y0": -14.5,
          "y1": -16
         },
         {
          "layer": "below",
          "line": {
           "color": "#333",
           "width": 4
          },
          "type": "line",
          "x0": 9.41387939453125,
          "x1": 9.414154052734375,
          "y0": -14.5,
          "y1": -16
         },
         {
          "layer": "below",
          "line": {
           "color": "#333",
           "width": 4
          },
          "type": "line",
          "x0": 9.414154052734375,
          "x1": 9.414016723632812,
          "y0": -16,
          "y1": -17.5
         },
         {
          "layer": "below",
          "line": {
           "color": "#333",
           "width": 4
          },
          "type": "line",
          "x0": 9.414154052734375,
          "x1": 9.414291381835938,
          "y0": -16,
          "y1": -17.5
         },
         {
          "layer": "below",
          "line": {
           "color": "#333",
           "width": 4
          },
          "type": "line",
          "x0": 9.4144287109375,
          "x1": 9.41497802734375,
          "y0": -13,
          "y1": -14.5
         },
         {
          "layer": "below",
          "line": {
           "color": "#333",
           "width": 4
          },
          "type": "line",
          "x0": 9.41497802734375,
          "x1": 9.414703369140625,
          "y0": -14.5,
          "y1": -16
         },
         {
          "layer": "below",
          "line": {
           "color": "#333",
           "width": 4
          },
          "type": "line",
          "x0": 9.41497802734375,
          "x1": 9.415252685546875,
          "y0": -14.5,
          "y1": -16
         },
         {
          "layer": "below",
          "line": {
           "color": "#333",
           "width": 4
          },
          "type": "line",
          "x0": 9.415252685546875,
          "x1": 9.415115356445312,
          "y0": -16,
          "y1": -17.5
         },
         {
          "layer": "below",
          "line": {
           "color": "#333",
           "width": 4
          },
          "type": "line",
          "x0": 9.415115356445312,
          "x1": 9.415046691894531,
          "y0": -17.5,
          "y1": -19
         },
         {
          "layer": "below",
          "line": {
           "color": "#333",
           "width": 4
          },
          "type": "line",
          "x0": 9.415115356445312,
          "x1": 9.415184020996094,
          "y0": -17.5,
          "y1": -19
         },
         {
          "layer": "below",
          "line": {
           "color": "#333",
           "width": 4
          },
          "type": "line",
          "x0": 9.415252685546875,
          "x1": 9.415390014648438,
          "y0": -16,
          "y1": -17.5
         },
         {
          "layer": "below",
          "line": {
           "color": "#333",
           "width": 4
          },
          "type": "line",
          "x0": 9.415390014648438,
          "x1": 9.415321350097656,
          "y0": -17.5,
          "y1": -19
         },
         {
          "layer": "below",
          "line": {
           "color": "#333",
           "width": 4
          },
          "type": "line",
          "x0": 9.415390014648438,
          "x1": 9.415458679199219,
          "y0": -17.5,
          "y1": -19
         },
         {
          "layer": "below",
          "line": {
           "color": "#333",
           "width": 4
          },
          "type": "line",
          "x0": 9.415458679199219,
          "x1": 9.415424346923828,
          "y0": -19,
          "y1": -20.5
         },
         {
          "layer": "below",
          "line": {
           "color": "#333",
           "width": 4
          },
          "type": "line",
          "x0": 9.415458679199219,
          "x1": 9.41549301147461,
          "y0": -19,
          "y1": -20.5
         },
         {
          "layer": "below",
          "line": {
           "color": "#333",
           "width": 4
          },
          "type": "line",
          "x0": 9.41552734375,
          "x1": 9.417724609375,
          "y0": -10,
          "y1": -11.5
         },
         {
          "layer": "below",
          "line": {
           "color": "#333",
           "width": 4
          },
          "type": "line",
          "x0": 9.417724609375,
          "x1": 9.4166259765625,
          "y0": -11.5,
          "y1": -13
         },
         {
          "layer": "below",
          "line": {
           "color": "#333",
           "width": 4
          },
          "type": "line",
          "x0": 9.4166259765625,
          "x1": 9.41607666015625,
          "y0": -13,
          "y1": -14.5
         },
         {
          "layer": "below",
          "line": {
           "color": "#333",
           "width": 4
          },
          "type": "line",
          "x0": 9.4166259765625,
          "x1": 9.41717529296875,
          "y0": -13,
          "y1": -14.5
         },
         {
          "layer": "below",
          "line": {
           "color": "#333",
           "width": 4
          },
          "type": "line",
          "x0": 9.417724609375,
          "x1": 9.4188232421875,
          "y0": -11.5,
          "y1": -13
         },
         {
          "layer": "below",
          "line": {
           "color": "#333",
           "width": 4
          },
          "type": "line",
          "x0": 9.4188232421875,
          "x1": 9.41827392578125,
          "y0": -13,
          "y1": -14.5
         },
         {
          "layer": "below",
          "line": {
           "color": "#333",
           "width": 4
          },
          "type": "line",
          "x0": 9.41827392578125,
          "x1": 9.417999267578125,
          "y0": -14.5,
          "y1": -16
         },
         {
          "layer": "below",
          "line": {
           "color": "#333",
           "width": 4
          },
          "type": "line",
          "x0": 9.41827392578125,
          "x1": 9.418548583984375,
          "y0": -14.5,
          "y1": -16
         },
         {
          "layer": "below",
          "line": {
           "color": "#333",
           "width": 4
          },
          "type": "line",
          "x0": 9.418548583984375,
          "x1": 9.418411254882812,
          "y0": -16,
          "y1": -17.5
         },
         {
          "layer": "below",
          "line": {
           "color": "#333",
           "width": 4
          },
          "type": "line",
          "x0": 9.418548583984375,
          "x1": 9.418685913085938,
          "y0": -16,
          "y1": -17.5
         },
         {
          "layer": "below",
          "line": {
           "color": "#333",
           "width": 4
          },
          "type": "line",
          "x0": 9.418685913085938,
          "x1": 9.418617248535156,
          "y0": -17.5,
          "y1": -19
         },
         {
          "layer": "below",
          "line": {
           "color": "#333",
           "width": 4
          },
          "type": "line",
          "x0": 9.418685913085938,
          "x1": 9.418754577636719,
          "y0": -17.5,
          "y1": -19
         },
         {
          "layer": "below",
          "line": {
           "color": "#333",
           "width": 4
          },
          "type": "line",
          "x0": 9.4188232421875,
          "x1": 9.41937255859375,
          "y0": -13,
          "y1": -14.5
         },
         {
          "layer": "below",
          "line": {
           "color": "#333",
           "width": 4
          },
          "type": "line",
          "x0": 9.41937255859375,
          "x1": 9.419097900390625,
          "y0": -14.5,
          "y1": -16
         },
         {
          "layer": "below",
          "line": {
           "color": "#333",
           "width": 4
          },
          "type": "line",
          "x0": 9.419097900390625,
          "x1": 9.418960571289062,
          "y0": -16,
          "y1": -17.5
         },
         {
          "layer": "below",
          "line": {
           "color": "#333",
           "width": 4
          },
          "type": "line",
          "x0": 9.419097900390625,
          "x1": 9.419235229492188,
          "y0": -16,
          "y1": -17.5
         },
         {
          "layer": "below",
          "line": {
           "color": "#333",
           "width": 4
          },
          "type": "line",
          "x0": 9.41937255859375,
          "x1": 9.419647216796875,
          "y0": -14.5,
          "y1": -16
         },
         {
          "layer": "below",
          "line": {
           "color": "#333",
           "width": 4
          },
          "type": "line",
          "x0": 9.419647216796875,
          "x1": 9.419509887695312,
          "y0": -16,
          "y1": -17.5
         },
         {
          "layer": "below",
          "line": {
           "color": "#333",
           "width": 4
          },
          "type": "line",
          "x0": 9.419647216796875,
          "x1": 9.419784545898438,
          "y0": -16,
          "y1": -17.5
         },
         {
          "layer": "below",
          "line": {
           "color": "#333",
           "width": 4
          },
          "type": "line",
          "x0": 9.419784545898438,
          "x1": 9.419715881347656,
          "y0": -17.5,
          "y1": -19
         },
         {
          "layer": "below",
          "line": {
           "color": "#333",
           "width": 4
          },
          "type": "line",
          "x0": 9.419784545898438,
          "x1": 9.419853210449219,
          "y0": -17.5,
          "y1": -19
         },
         {
          "layer": "below",
          "line": {
           "color": "#333",
           "width": 4
          },
          "type": "line",
          "x0": 9.419921875,
          "x1": 9.4287109375,
          "y0": -7,
          "y1": -8.5
         },
         {
          "layer": "below",
          "line": {
           "color": "#333",
           "width": 4
          },
          "type": "line",
          "x0": 9.4287109375,
          "x1": 9.42431640625,
          "y0": -8.5,
          "y1": -10
         },
         {
          "layer": "below",
          "line": {
           "color": "#333",
           "width": 4
          },
          "type": "line",
          "x0": 9.42431640625,
          "x1": 9.422119140625,
          "y0": -10,
          "y1": -11.5
         },
         {
          "layer": "below",
          "line": {
           "color": "#333",
           "width": 4
          },
          "type": "line",
          "x0": 9.42431640625,
          "x1": 9.426513671875,
          "y0": -10,
          "y1": -11.5
         },
         {
          "layer": "below",
          "line": {
           "color": "#333",
           "width": 4
          },
          "type": "line",
          "x0": 9.426513671875,
          "x1": 9.4254150390625,
          "y0": -11.5,
          "y1": -13
         },
         {
          "layer": "below",
          "line": {
           "color": "#333",
           "width": 4
          },
          "type": "line",
          "x0": 9.426513671875,
          "x1": 9.4276123046875,
          "y0": -11.5,
          "y1": -13
         },
         {
          "layer": "below",
          "line": {
           "color": "#333",
           "width": 4
          },
          "type": "line",
          "x0": 9.4276123046875,
          "x1": 9.42706298828125,
          "y0": -13,
          "y1": -14.5
         },
         {
          "layer": "below",
          "line": {
           "color": "#333",
           "width": 4
          },
          "type": "line",
          "x0": 9.4276123046875,
          "x1": 9.42816162109375,
          "y0": -13,
          "y1": -14.5
         },
         {
          "layer": "below",
          "line": {
           "color": "#333",
           "width": 4
          },
          "type": "line",
          "x0": 9.42816162109375,
          "x1": 9.427886962890625,
          "y0": -14.5,
          "y1": -16
         },
         {
          "layer": "below",
          "line": {
           "color": "#333",
           "width": 4
          },
          "type": "line",
          "x0": 9.42816162109375,
          "x1": 9.428436279296875,
          "y0": -14.5,
          "y1": -16
         },
         {
          "layer": "below",
          "line": {
           "color": "#333",
           "width": 4
          },
          "type": "line",
          "x0": 9.4287109375,
          "x1": 9.43310546875,
          "y0": -8.5,
          "y1": -10
         },
         {
          "layer": "below",
          "line": {
           "color": "#333",
           "width": 4
          },
          "type": "line",
          "x0": 9.43310546875,
          "x1": 9.430908203125,
          "y0": -10,
          "y1": -11.5
         },
         {
          "layer": "below",
          "line": {
           "color": "#333",
           "width": 4
          },
          "type": "line",
          "x0": 9.430908203125,
          "x1": 9.4298095703125,
          "y0": -11.5,
          "y1": -13
         },
         {
          "layer": "below",
          "line": {
           "color": "#333",
           "width": 4
          },
          "type": "line",
          "x0": 9.430908203125,
          "x1": 9.4320068359375,
          "y0": -11.5,
          "y1": -13
         },
         {
          "layer": "below",
          "line": {
           "color": "#333",
           "width": 4
          },
          "type": "line",
          "x0": 9.43310546875,
          "x1": 9.435302734375,
          "y0": -10,
          "y1": -11.5
         },
         {
          "layer": "below",
          "line": {
           "color": "#333",
           "width": 4
          },
          "type": "line",
          "x0": 9.435302734375,
          "x1": 9.4342041015625,
          "y0": -11.5,
          "y1": -13
         },
         {
          "layer": "below",
          "line": {
           "color": "#333",
           "width": 4
          },
          "type": "line",
          "x0": 9.435302734375,
          "x1": 9.4364013671875,
          "y0": -11.5,
          "y1": -13
         },
         {
          "layer": "below",
          "line": {
           "color": "#333",
           "width": 4
          },
          "type": "line",
          "x0": 9.4364013671875,
          "x1": 9.43585205078125,
          "y0": -13,
          "y1": -14.5
         },
         {
          "layer": "below",
          "line": {
           "color": "#333",
           "width": 4
          },
          "type": "line",
          "x0": 9.4364013671875,
          "x1": 9.43695068359375,
          "y0": -13,
          "y1": -14.5
         },
         {
          "layer": "below",
          "line": {
           "color": "#333",
           "width": 4
          },
          "type": "line",
          "x0": 9.43695068359375,
          "x1": 9.436676025390625,
          "y0": -14.5,
          "y1": -16
         },
         {
          "layer": "below",
          "line": {
           "color": "#333",
           "width": 4
          },
          "type": "line",
          "x0": 9.43695068359375,
          "x1": 9.437225341796875,
          "y0": -14.5,
          "y1": -16
         },
         {
          "layer": "below",
          "line": {
           "color": "#333",
           "width": 4
          },
          "type": "line",
          "x0": 9.4375,
          "x1": 9.71875,
          "y0": 0.5,
          "y1": -1
         },
         {
          "layer": "below",
          "line": {
           "color": "#333",
           "width": 4
          },
          "type": "line",
          "x0": 9.71875,
          "x1": 9.578125,
          "y0": -1,
          "y1": -2.5
         },
         {
          "layer": "below",
          "line": {
           "color": "#333",
           "width": 4
          },
          "type": "line",
          "x0": 9.578125,
          "x1": 9.5078125,
          "y0": -2.5,
          "y1": -4
         },
         {
          "layer": "below",
          "line": {
           "color": "#333",
           "width": 4
          },
          "type": "line",
          "x0": 9.578125,
          "x1": 9.6484375,
          "y0": -2.5,
          "y1": -4
         },
         {
          "layer": "below",
          "line": {
           "color": "#333",
           "width": 4
          },
          "type": "line",
          "x0": 9.6484375,
          "x1": 9.61328125,
          "y0": -4,
          "y1": -5.5
         },
         {
          "layer": "below",
          "line": {
           "color": "#333",
           "width": 4
          },
          "type": "line",
          "x0": 9.6484375,
          "x1": 9.68359375,
          "y0": -4,
          "y1": -5.5
         },
         {
          "layer": "below",
          "line": {
           "color": "#333",
           "width": 4
          },
          "type": "line",
          "x0": 9.68359375,
          "x1": 9.666015625,
          "y0": -5.5,
          "y1": -7
         },
         {
          "layer": "below",
          "line": {
           "color": "#333",
           "width": 4
          },
          "type": "line",
          "x0": 9.68359375,
          "x1": 9.701171875,
          "y0": -5.5,
          "y1": -7
         },
         {
          "layer": "below",
          "line": {
           "color": "#333",
           "width": 4
          },
          "type": "line",
          "x0": 9.71875,
          "x1": 9.859375,
          "y0": -1,
          "y1": -2.5
         },
         {
          "layer": "below",
          "line": {
           "color": "#333",
           "width": 4
          },
          "type": "line",
          "x0": 9.859375,
          "x1": 9.7890625,
          "y0": -2.5,
          "y1": -4
         },
         {
          "layer": "below",
          "line": {
           "color": "#333",
           "width": 4
          },
          "type": "line",
          "x0": 9.7890625,
          "x1": 9.75390625,
          "y0": -4,
          "y1": -5.5
         },
         {
          "layer": "below",
          "line": {
           "color": "#333",
           "width": 4
          },
          "type": "line",
          "x0": 9.7890625,
          "x1": 9.82421875,
          "y0": -4,
          "y1": -5.5
         },
         {
          "layer": "below",
          "line": {
           "color": "#333",
           "width": 4
          },
          "type": "line",
          "x0": 9.859375,
          "x1": 9.9296875,
          "y0": -2.5,
          "y1": -4
         },
         {
          "layer": "below",
          "line": {
           "color": "#333",
           "width": 4
          },
          "type": "line",
          "x0": 9.9296875,
          "x1": 9.89453125,
          "y0": -4,
          "y1": -5.5
         },
         {
          "layer": "below",
          "line": {
           "color": "#333",
           "width": 4
          },
          "type": "line",
          "x0": 9.9296875,
          "x1": 9.96484375,
          "y0": -4,
          "y1": -5.5
         },
         {
          "layer": "below",
          "line": {
           "color": "#333",
           "width": 4
          },
          "type": "line",
          "x0": 9.96484375,
          "x1": 9.947265625,
          "y0": -5.5,
          "y1": -7
         },
         {
          "layer": "below",
          "line": {
           "color": "#333",
           "width": 4
          },
          "type": "line",
          "x0": 9.947265625,
          "x1": 9.9384765625,
          "y0": -7,
          "y1": -8.5
         },
         {
          "layer": "below",
          "line": {
           "color": "#333",
           "width": 4
          },
          "type": "line",
          "x0": 9.9384765625,
          "x1": 9.93408203125,
          "y0": -8.5,
          "y1": -10
         },
         {
          "layer": "below",
          "line": {
           "color": "#333",
           "width": 4
          },
          "type": "line",
          "x0": 9.9384765625,
          "x1": 9.94287109375,
          "y0": -8.5,
          "y1": -10
         },
         {
          "layer": "below",
          "line": {
           "color": "#333",
           "width": 4
          },
          "type": "line",
          "x0": 9.94287109375,
          "x1": 9.940673828125,
          "y0": -10,
          "y1": -11.5
         },
         {
          "layer": "below",
          "line": {
           "color": "#333",
           "width": 4
          },
          "type": "line",
          "x0": 9.94287109375,
          "x1": 9.945068359375,
          "y0": -10,
          "y1": -11.5
         },
         {
          "layer": "below",
          "line": {
           "color": "#333",
           "width": 4
          },
          "type": "line",
          "x0": 9.947265625,
          "x1": 9.9560546875,
          "y0": -7,
          "y1": -8.5
         },
         {
          "layer": "below",
          "line": {
           "color": "#333",
           "width": 4
          },
          "type": "line",
          "x0": 9.9560546875,
          "x1": 9.95166015625,
          "y0": -8.5,
          "y1": -10
         },
         {
          "layer": "below",
          "line": {
           "color": "#333",
           "width": 4
          },
          "type": "line",
          "x0": 9.9560546875,
          "x1": 9.96044921875,
          "y0": -8.5,
          "y1": -10
         },
         {
          "layer": "below",
          "line": {
           "color": "#333",
           "width": 4
          },
          "type": "line",
          "x0": 9.96044921875,
          "x1": 9.958251953125,
          "y0": -10,
          "y1": -11.5
         },
         {
          "layer": "below",
          "line": {
           "color": "#333",
           "width": 4
          },
          "type": "line",
          "x0": 9.96044921875,
          "x1": 9.962646484375,
          "y0": -10,
          "y1": -11.5
         },
         {
          "layer": "below",
          "line": {
           "color": "#333",
           "width": 4
          },
          "type": "line",
          "x0": 9.962646484375,
          "x1": 9.9615478515625,
          "y0": -11.5,
          "y1": -13
         },
         {
          "layer": "below",
          "line": {
           "color": "#333",
           "width": 4
          },
          "type": "line",
          "x0": 9.962646484375,
          "x1": 9.9637451171875,
          "y0": -11.5,
          "y1": -13
         },
         {
          "layer": "below",
          "line": {
           "color": "#333",
           "width": 4
          },
          "type": "line",
          "x0": 9.96484375,
          "x1": 9.982421875,
          "y0": -5.5,
          "y1": -7
         },
         {
          "layer": "below",
          "line": {
           "color": "#333",
           "width": 4
          },
          "type": "line",
          "x0": 9.982421875,
          "x1": 9.9736328125,
          "y0": -7,
          "y1": -8.5
         },
         {
          "layer": "below",
          "line": {
           "color": "#333",
           "width": 4
          },
          "type": "line",
          "x0": 9.982421875,
          "x1": 9.9912109375,
          "y0": -7,
          "y1": -8.5
         },
         {
          "layer": "below",
          "line": {
           "color": "#333",
           "width": 4
          },
          "type": "line",
          "x0": 9.9912109375,
          "x1": 9.98681640625,
          "y0": -8.5,
          "y1": -10
         },
         {
          "layer": "below",
          "line": {
           "color": "#333",
           "width": 4
          },
          "type": "line",
          "x0": 9.9912109375,
          "x1": 9.99560546875,
          "y0": -8.5,
          "y1": -10
         },
         {
          "layer": "below",
          "line": {
           "color": "#333",
           "width": 4
          },
          "type": "line",
          "x0": 9.99560546875,
          "x1": 9.993408203125,
          "y0": -10,
          "y1": -11.5
         },
         {
          "layer": "below",
          "line": {
           "color": "#333",
           "width": 4
          },
          "type": "line",
          "x0": 9.993408203125,
          "x1": 9.9923095703125,
          "y0": -11.5,
          "y1": -13
         },
         {
          "layer": "below",
          "line": {
           "color": "#333",
           "width": 4
          },
          "type": "line",
          "x0": 9.993408203125,
          "x1": 9.9945068359375,
          "y0": -11.5,
          "y1": -13
         },
         {
          "layer": "below",
          "line": {
           "color": "#333",
           "width": 4
          },
          "type": "line",
          "x0": 9.99560546875,
          "x1": 9.997802734375,
          "y0": -10,
          "y1": -11.5
         },
         {
          "layer": "below",
          "line": {
           "color": "#333",
           "width": 4
          },
          "type": "line",
          "x0": 9.997802734375,
          "x1": 9.9967041015625,
          "y0": -11.5,
          "y1": -13
         },
         {
          "layer": "below",
          "line": {
           "color": "#333",
           "width": 4
          },
          "type": "line",
          "x0": 9.997802734375,
          "x1": 9.9989013671875,
          "y0": -11.5,
          "y1": -13
         },
         {
          "layer": "below",
          "line": {
           "color": "#333",
           "width": 4
          },
          "type": "line",
          "x0": 9.9989013671875,
          "x1": 9.99835205078125,
          "y0": -13,
          "y1": -14.5
         },
         {
          "layer": "below",
          "line": {
           "color": "#333",
           "width": 4
          },
          "type": "line",
          "x0": 9.9989013671875,
          "x1": 9.99945068359375,
          "y0": -13,
          "y1": -14.5
         }
        ],
        "template": {
         "data": {
          "bar": [
           {
            "error_x": {
             "color": "#2a3f5f"
            },
            "error_y": {
             "color": "#2a3f5f"
            },
            "marker": {
             "line": {
              "color": "#E5ECF6",
              "width": 0.5
             },
             "pattern": {
              "fillmode": "overlay",
              "size": 10,
              "solidity": 0.2
             }
            },
            "type": "bar"
           }
          ],
          "barpolar": [
           {
            "marker": {
             "line": {
              "color": "#E5ECF6",
              "width": 0.5
             },
             "pattern": {
              "fillmode": "overlay",
              "size": 10,
              "solidity": 0.2
             }
            },
            "type": "barpolar"
           }
          ],
          "carpet": [
           {
            "aaxis": {
             "endlinecolor": "#2a3f5f",
             "gridcolor": "white",
             "linecolor": "white",
             "minorgridcolor": "white",
             "startlinecolor": "#2a3f5f"
            },
            "baxis": {
             "endlinecolor": "#2a3f5f",
             "gridcolor": "white",
             "linecolor": "white",
             "minorgridcolor": "white",
             "startlinecolor": "#2a3f5f"
            },
            "type": "carpet"
           }
          ],
          "choropleth": [
           {
            "colorbar": {
             "outlinewidth": 0,
             "ticks": ""
            },
            "type": "choropleth"
           }
          ],
          "contour": [
           {
            "colorbar": {
             "outlinewidth": 0,
             "ticks": ""
            },
            "colorscale": [
             [
              0,
              "#0d0887"
             ],
             [
              0.1111111111111111,
              "#46039f"
             ],
             [
              0.2222222222222222,
              "#7201a8"
             ],
             [
              0.3333333333333333,
              "#9c179e"
             ],
             [
              0.4444444444444444,
              "#bd3786"
             ],
             [
              0.5555555555555556,
              "#d8576b"
             ],
             [
              0.6666666666666666,
              "#ed7953"
             ],
             [
              0.7777777777777778,
              "#fb9f3a"
             ],
             [
              0.8888888888888888,
              "#fdca26"
             ],
             [
              1,
              "#f0f921"
             ]
            ],
            "type": "contour"
           }
          ],
          "contourcarpet": [
           {
            "colorbar": {
             "outlinewidth": 0,
             "ticks": ""
            },
            "type": "contourcarpet"
           }
          ],
          "heatmap": [
           {
            "colorbar": {
             "outlinewidth": 0,
             "ticks": ""
            },
            "colorscale": [
             [
              0,
              "#0d0887"
             ],
             [
              0.1111111111111111,
              "#46039f"
             ],
             [
              0.2222222222222222,
              "#7201a8"
             ],
             [
              0.3333333333333333,
              "#9c179e"
             ],
             [
              0.4444444444444444,
              "#bd3786"
             ],
             [
              0.5555555555555556,
              "#d8576b"
             ],
             [
              0.6666666666666666,
              "#ed7953"
             ],
             [
              0.7777777777777778,
              "#fb9f3a"
             ],
             [
              0.8888888888888888,
              "#fdca26"
             ],
             [
              1,
              "#f0f921"
             ]
            ],
            "type": "heatmap"
           }
          ],
          "heatmapgl": [
           {
            "colorbar": {
             "outlinewidth": 0,
             "ticks": ""
            },
            "colorscale": [
             [
              0,
              "#0d0887"
             ],
             [
              0.1111111111111111,
              "#46039f"
             ],
             [
              0.2222222222222222,
              "#7201a8"
             ],
             [
              0.3333333333333333,
              "#9c179e"
             ],
             [
              0.4444444444444444,
              "#bd3786"
             ],
             [
              0.5555555555555556,
              "#d8576b"
             ],
             [
              0.6666666666666666,
              "#ed7953"
             ],
             [
              0.7777777777777778,
              "#fb9f3a"
             ],
             [
              0.8888888888888888,
              "#fdca26"
             ],
             [
              1,
              "#f0f921"
             ]
            ],
            "type": "heatmapgl"
           }
          ],
          "histogram": [
           {
            "marker": {
             "pattern": {
              "fillmode": "overlay",
              "size": 10,
              "solidity": 0.2
             }
            },
            "type": "histogram"
           }
          ],
          "histogram2d": [
           {
            "colorbar": {
             "outlinewidth": 0,
             "ticks": ""
            },
            "colorscale": [
             [
              0,
              "#0d0887"
             ],
             [
              0.1111111111111111,
              "#46039f"
             ],
             [
              0.2222222222222222,
              "#7201a8"
             ],
             [
              0.3333333333333333,
              "#9c179e"
             ],
             [
              0.4444444444444444,
              "#bd3786"
             ],
             [
              0.5555555555555556,
              "#d8576b"
             ],
             [
              0.6666666666666666,
              "#ed7953"
             ],
             [
              0.7777777777777778,
              "#fb9f3a"
             ],
             [
              0.8888888888888888,
              "#fdca26"
             ],
             [
              1,
              "#f0f921"
             ]
            ],
            "type": "histogram2d"
           }
          ],
          "histogram2dcontour": [
           {
            "colorbar": {
             "outlinewidth": 0,
             "ticks": ""
            },
            "colorscale": [
             [
              0,
              "#0d0887"
             ],
             [
              0.1111111111111111,
              "#46039f"
             ],
             [
              0.2222222222222222,
              "#7201a8"
             ],
             [
              0.3333333333333333,
              "#9c179e"
             ],
             [
              0.4444444444444444,
              "#bd3786"
             ],
             [
              0.5555555555555556,
              "#d8576b"
             ],
             [
              0.6666666666666666,
              "#ed7953"
             ],
             [
              0.7777777777777778,
              "#fb9f3a"
             ],
             [
              0.8888888888888888,
              "#fdca26"
             ],
             [
              1,
              "#f0f921"
             ]
            ],
            "type": "histogram2dcontour"
           }
          ],
          "mesh3d": [
           {
            "colorbar": {
             "outlinewidth": 0,
             "ticks": ""
            },
            "type": "mesh3d"
           }
          ],
          "parcoords": [
           {
            "line": {
             "colorbar": {
              "outlinewidth": 0,
              "ticks": ""
             }
            },
            "type": "parcoords"
           }
          ],
          "pie": [
           {
            "automargin": true,
            "type": "pie"
           }
          ],
          "scatter": [
           {
            "fillpattern": {
             "fillmode": "overlay",
             "size": 10,
             "solidity": 0.2
            },
            "type": "scatter"
           }
          ],
          "scatter3d": [
           {
            "line": {
             "colorbar": {
              "outlinewidth": 0,
              "ticks": ""
             }
            },
            "marker": {
             "colorbar": {
              "outlinewidth": 0,
              "ticks": ""
             }
            },
            "type": "scatter3d"
           }
          ],
          "scattercarpet": [
           {
            "marker": {
             "colorbar": {
              "outlinewidth": 0,
              "ticks": ""
             }
            },
            "type": "scattercarpet"
           }
          ],
          "scattergeo": [
           {
            "marker": {
             "colorbar": {
              "outlinewidth": 0,
              "ticks": ""
             }
            },
            "type": "scattergeo"
           }
          ],
          "scattergl": [
           {
            "marker": {
             "colorbar": {
              "outlinewidth": 0,
              "ticks": ""
             }
            },
            "type": "scattergl"
           }
          ],
          "scattermapbox": [
           {
            "marker": {
             "colorbar": {
              "outlinewidth": 0,
              "ticks": ""
             }
            },
            "type": "scattermapbox"
           }
          ],
          "scatterpolar": [
           {
            "marker": {
             "colorbar": {
              "outlinewidth": 0,
              "ticks": ""
             }
            },
            "type": "scatterpolar"
           }
          ],
          "scatterpolargl": [
           {
            "marker": {
             "colorbar": {
              "outlinewidth": 0,
              "ticks": ""
             }
            },
            "type": "scatterpolargl"
           }
          ],
          "scatterternary": [
           {
            "marker": {
             "colorbar": {
              "outlinewidth": 0,
              "ticks": ""
             }
            },
            "type": "scatterternary"
           }
          ],
          "surface": [
           {
            "colorbar": {
             "outlinewidth": 0,
             "ticks": ""
            },
            "colorscale": [
             [
              0,
              "#0d0887"
             ],
             [
              0.1111111111111111,
              "#46039f"
             ],
             [
              0.2222222222222222,
              "#7201a8"
             ],
             [
              0.3333333333333333,
              "#9c179e"
             ],
             [
              0.4444444444444444,
              "#bd3786"
             ],
             [
              0.5555555555555556,
              "#d8576b"
             ],
             [
              0.6666666666666666,
              "#ed7953"
             ],
             [
              0.7777777777777778,
              "#fb9f3a"
             ],
             [
              0.8888888888888888,
              "#fdca26"
             ],
             [
              1,
              "#f0f921"
             ]
            ],
            "type": "surface"
           }
          ],
          "table": [
           {
            "cells": {
             "fill": {
              "color": "#EBF0F8"
             },
             "line": {
              "color": "white"
             }
            },
            "header": {
             "fill": {
              "color": "#C8D4E3"
             },
             "line": {
              "color": "white"
             }
            },
            "type": "table"
           }
          ]
         },
         "layout": {
          "annotationdefaults": {
           "arrowcolor": "#2a3f5f",
           "arrowhead": 0,
           "arrowwidth": 1
          },
          "autotypenumbers": "strict",
          "coloraxis": {
           "colorbar": {
            "outlinewidth": 0,
            "ticks": ""
           }
          },
          "colorscale": {
           "diverging": [
            [
             0,
             "#8e0152"
            ],
            [
             0.1,
             "#c51b7d"
            ],
            [
             0.2,
             "#de77ae"
            ],
            [
             0.3,
             "#f1b6da"
            ],
            [
             0.4,
             "#fde0ef"
            ],
            [
             0.5,
             "#f7f7f7"
            ],
            [
             0.6,
             "#e6f5d0"
            ],
            [
             0.7,
             "#b8e186"
            ],
            [
             0.8,
             "#7fbc41"
            ],
            [
             0.9,
             "#4d9221"
            ],
            [
             1,
             "#276419"
            ]
           ],
           "sequential": [
            [
             0,
             "#0d0887"
            ],
            [
             0.1111111111111111,
             "#46039f"
            ],
            [
             0.2222222222222222,
             "#7201a8"
            ],
            [
             0.3333333333333333,
             "#9c179e"
            ],
            [
             0.4444444444444444,
             "#bd3786"
            ],
            [
             0.5555555555555556,
             "#d8576b"
            ],
            [
             0.6666666666666666,
             "#ed7953"
            ],
            [
             0.7777777777777778,
             "#fb9f3a"
            ],
            [
             0.8888888888888888,
             "#fdca26"
            ],
            [
             1,
             "#f0f921"
            ]
           ],
           "sequentialminus": [
            [
             0,
             "#0d0887"
            ],
            [
             0.1111111111111111,
             "#46039f"
            ],
            [
             0.2222222222222222,
             "#7201a8"
            ],
            [
             0.3333333333333333,
             "#9c179e"
            ],
            [
             0.4444444444444444,
             "#bd3786"
            ],
            [
             0.5555555555555556,
             "#d8576b"
            ],
            [
             0.6666666666666666,
             "#ed7953"
            ],
            [
             0.7777777777777778,
             "#fb9f3a"
            ],
            [
             0.8888888888888888,
             "#fdca26"
            ],
            [
             1,
             "#f0f921"
            ]
           ]
          },
          "colorway": [
           "#636efa",
           "#EF553B",
           "#00cc96",
           "#ab63fa",
           "#FFA15A",
           "#19d3f3",
           "#FF6692",
           "#B6E880",
           "#FF97FF",
           "#FECB52"
          ],
          "font": {
           "color": "#2a3f5f"
          },
          "geo": {
           "bgcolor": "white",
           "lakecolor": "white",
           "landcolor": "#E5ECF6",
           "showlakes": true,
           "showland": true,
           "subunitcolor": "white"
          },
          "hoverlabel": {
           "align": "left"
          },
          "hovermode": "closest",
          "mapbox": {
           "style": "light"
          },
          "paper_bgcolor": "white",
          "plot_bgcolor": "#E5ECF6",
          "polar": {
           "angularaxis": {
            "gridcolor": "white",
            "linecolor": "white",
            "ticks": ""
           },
           "bgcolor": "#E5ECF6",
           "radialaxis": {
            "gridcolor": "white",
            "linecolor": "white",
            "ticks": ""
           }
          },
          "scene": {
           "xaxis": {
            "backgroundcolor": "#E5ECF6",
            "gridcolor": "white",
            "gridwidth": 2,
            "linecolor": "white",
            "showbackground": true,
            "ticks": "",
            "zerolinecolor": "white"
           },
           "yaxis": {
            "backgroundcolor": "#E5ECF6",
            "gridcolor": "white",
            "gridwidth": 2,
            "linecolor": "white",
            "showbackground": true,
            "ticks": "",
            "zerolinecolor": "white"
           },
           "zaxis": {
            "backgroundcolor": "#E5ECF6",
            "gridcolor": "white",
            "gridwidth": 2,
            "linecolor": "white",
            "showbackground": true,
            "ticks": "",
            "zerolinecolor": "white"
           }
          },
          "shapedefaults": {
           "line": {
            "color": "#2a3f5f"
           }
          },
          "ternary": {
           "aaxis": {
            "gridcolor": "white",
            "linecolor": "white",
            "ticks": ""
           },
           "baxis": {
            "gridcolor": "white",
            "linecolor": "white",
            "ticks": ""
           },
           "bgcolor": "#E5ECF6",
           "caxis": {
            "gridcolor": "white",
            "linecolor": "white",
            "ticks": ""
           }
          },
          "title": {
           "x": 0.05
          },
          "xaxis": {
           "automargin": true,
           "gridcolor": "white",
           "linecolor": "white",
           "ticks": "",
           "title": {
            "standoff": 15
           },
           "zerolinecolor": "white",
           "zerolinewidth": 2
          },
          "yaxis": {
           "automargin": true,
           "gridcolor": "white",
           "linecolor": "white",
           "ticks": "",
           "title": {
            "standoff": 15
           },
           "zerolinecolor": "white",
           "zerolinewidth": 2
          }
         }
        },
        "width": 1000,
        "xaxis": {
         "showgrid": false,
         "showline": false,
         "showticklabels": false,
         "zeroline": false
        },
        "yaxis": {
         "showgrid": false,
         "showline": false,
         "showticklabels": false,
         "zeroline": false
        }
       }
      }
     },
     "metadata": {},
     "output_type": "display_data"
    }
   ],
   "source": [
    "nodes2,n2 = build_hyper_tree(folder_path2)\n",
    "show_tree(nodes2[0]).show_fig()"
   ]
  },
  {
   "cell_type": "code",
   "execution_count": 18,
   "metadata": {},
   "outputs": [
    {
     "name": "stdout",
     "output_type": "stream",
     "text": [
      "The mininum cost for alignment is 472.30305043026533\n",
      "The alignment edges list is [('398', '398'), ('397', '397'), ('396', '396'), ('394', '391'), ('393', '375'), ('347', '353'), ('339', '301'), ('258', '155'), ('97', '138'), ('135', '60'), ('110', '112'), ('392', '382'), ('386', '377'), ('384', '372'), ('380', '368'), ('361', '348'), ('345', '306'), ('163', '178'), ('159', '14'), ('75', '194'), ('121', '341'), ('181', '338'), ('81', '159'), ('188', '99'), ('390', '392'), ('387', '384'), ('385', '383'), ('377', '380'), ('376', '373'), ('369', '371'), ('357', '366'), ('316', '365'), ('279', '327'), ('130', '135'), ('122', '187'), ('141', '331'), ('70', '70'), ('340', '364'), ('335', '351'), ('328', '307'), ('327', '249'), ('192', '224'), ('91', '241'), ('10', '10'), ('303', '334'), ('236', '300'), ('220', '298'), ('179', '258'), ('43', '120'), ('94', '1'), ('198', '290'), ('325', '350'), ('322', '346'), ('314', '315'), ('256', '139'), ('39', '93'), ('296', '337'), ('294', '303'), ('151', '127'), ('103', '38'), ('252', '287'), ('184', '157'), ('13', '43'), ('311', '330'), ('305', '323'), ('299', '317'), ('298', '305'), ('271', '267'), ('226', '251'), ('128', '200'), ('93', '151'), ('212', '242'), ('211', '237'), ('210', '234'), ('203', '205'), ('176', '61'), ('35', '15'), ('149', '162'), ('144', '49'), ('146', '87'), ('225', '277'), ('222', '256'), ('208', '250'), ('200', '214'), ('108', '206'), ('90', '168'), ('105', '124'), ('201', '207'), ('172', '172'), ('61', '105'), ('209', '244'), ('131', '52'), ('45', '44'), ('287', '312'), ('285', '302'), ('282', '291'), ('280', '283'), ('206', '253'), ('167', '167'), ('115', '67'), ('270', '270'), ('263', '146'), ('145', '115'), ('269', '289'), ('266', '271'), ('254', '204'), ('215', '196'), ('65', '58'), ('249', '262'), ('234', '236'), ('47', '148'), ('205', '235'), ('204', '208'), ('182', '39'), ('177', '47'), ('111', '129'), ('214', '260'), ('175', '173'), ('68', '177'), ('238', '247'), ('227', '222'), ('213', '215'), ('173', '94'), ('34', '176'), ('36', '36'), ('168', '145'), ('66', '228'), ('237', '261'), ('233', '223'), ('62', '40'), ('15', '193'), ('102', '175'), ('250', '245'), ('248', '240'), ('217', '232'), ('157', '16'), ('55', '74'), ('44', '128'), ('89', '134'), ('284', '285'), ('259', '279'), ('8', '8'), ('245', '275'), ('125', '108'), ('71', '160'), ('260', '284'), ('247', '268'), ('243', '219'), ('232', '217'), ('186', '186'), ('85', '33'), ('180', '143'), ('148', '144'), ('32', '165'), ('363', '336'), ('330', '328'), ('309', '202'), ('156', '133'), ('52', '98'), ('78', '103'), ('142', '102'), ('7', '73'), ('372', '376'), ('368', '345'), ('356', '318'), ('189', '101'), ('118', '199'), ('341', '340'), ('333', '322'), ('304', '212'), ('79', '192'), ('77', '27'), ('23', '84'), ('241', '201'), ('162', '7'), ('11', '31'), ('366', '329'), ('152', '264'), ('67', '5'), ('31', '121'), ('370', '390'), ('360', '388'), ('329', '387'), ('320', '356'), ('318', '349'), ('315', '233'), ('290', '227'), ('230', '24'), ('147', '42'), ('138', '2'), ('291', '343'), ('289', '333'), ('283', '118'), ('276', '259'), ('265', '85'), ('119', '100'), ('54', '72'), ('308', '352'), ('272', '314'), ('170', '51'), ('40', '53'), ('165', '325'), ('60', '65'), ('17', '360'), ('343', '280'), ('323', '274'), ('218', '246'), ('96', '19'), ('72', '35'), ('99', '82'), ('196', '80'), ('382', '395'), ('381', '386'), ('378', '367'), ('355', '347'), ('349', '310'), ('231', '92'), ('150', '150'), ('158', '57'), ('332', '83'), ('344', '359'), ('337', '344'), ('251', '230'), ('41', '122'), ('5', '63'), ('22', '152'), ('143', '96'), ('190', '153'), ('395', '394'), ('365', '374'), ('362', '363'), ('352', '299'), ('199', '195'), ('153', '46'), ('48', '77'), ('351', '370'), ('350', '335'), ('338', '294'), ('331', '286'), ('312', '265'), ('281', '252'), ('73', '110'), ('18', '11'), ('33', '163'), ('301', '226'), ('63', '198'), ('9', '123'), ('306', '6'), ('319', '239'), ('262', '97'), ('132', '137'), ('336', '269'), ('240', '79'), ('69', '69'), ('391', '378'), ('358', '369'), ('342', '362'), ('326', '263'), ('293', '18'), ('154', '156'), ('324', '311'), ('20', '20'), ('88', '23'), ('334', '221'), ('137', '181'), ('56', '171'), ('353', '358'), ('267', '324'), ('195', '197'), ('161', '54'), ('83', '185')]\n",
      "average cost for one node:0.5918584591857962\n"
     ]
    }
   ],
   "source": [
    "nodes1,n1 = build_hyper_tree(folder_path)\n",
    "# show_tree(nodes1[0]).show_fig()\n",
    "nodes2,n2 = build_hyper_tree(folder_path2)\n",
    "# show_tree(nodes2[0]).show_fig()\n",
    "T=tree_alignment(nodes1[0],nodes2[0],1);\n",
    "minn = T.run_alignment();\n",
    "T.show_ans();\n",
    "ans = T.get_ans()\n",
    "G=show_graph(ans,nodes1[0],nodes2[0]);\n",
    "# G.show_fig()\n",
    "print(\"average cost for one node:{}\".format(minn/(n1+n2)))"
   ]
  },
  {
   "cell_type": "code",
   "execution_count": 21,
   "metadata": {},
   "outputs": [
    {
     "name": "stdout",
     "output_type": "stream",
     "text": [
      "0.05\n"
     ]
    }
   ],
   "source": [
    "all = 200;\n",
    "count =0;\n",
    "for i in range(200):\n",
    "    if(ans.__contains__( (str(i),str(i)) ) ):\n",
    "        count +=1\n",
    "print(count/all);"
   ]
  },
  {
   "cell_type": "code",
   "execution_count": 24,
   "metadata": {},
   "outputs": [
    {
     "data": {
      "application/vnd.plotly.v1+json": {
       "config": {
        "plotlyServerURL": "https://plot.ly"
       },
       "data": [
        {
         "hoverinfo": "text",
         "hovertext": [
          "connect 398",
          "connect 394",
          "connect Empty",
          "connect Empty",
          "connect Empty",
          "connect Empty",
          "connect 374",
          "connect 370",
          "connect 269",
          "connect 69",
          "connect 79",
          "connect Empty",
          "connect Empty",
          "connect 335",
          "connect 239",
          "connect 137",
          "connect 97",
          "connect Empty",
          "connect Empty",
          "connect 294",
          "connect 6",
          "connect Empty",
          "connect Empty",
          "connect Empty",
          "connect Empty",
          "connect 286",
          "connect 226",
          "connect 123",
          "connect 198",
          "connect 265",
          "connect Empty",
          "connect Empty",
          "connect 163",
          "connect 252",
          "connect 11",
          "connect 110",
          "connect 363",
          "connect 77",
          "connect 299",
          "connect 46",
          "connect 195",
          "connect 378",
          "connect Empty",
          "connect Empty",
          "connect Empty",
          "connect Empty",
          "connect 358",
          "connect 185",
          "connect 324",
          "connect 54",
          "connect 197",
          "connect Empty",
          "connect Empty",
          "connect 369",
          "connect 221",
          "connect 171",
          "connect 181",
          "connect 362",
          "connect 311",
          "connect 23",
          "connect Empty",
          "connect 20",
          "connect Empty",
          "connect 263",
          "connect 156",
          "connect 18",
          "connect Empty",
          "connect Empty",
          "connect 397",
          "connect Empty",
          "connect 395",
          "connect Empty",
          "connect Empty",
          "connect 153",
          "connect 386",
          "connect 359",
          "connect Empty",
          "connect 96",
          "connect Empty",
          "connect Empty",
          "connect Empty",
          "connect 344",
          "connect 152",
          "connect 230",
          "connect 63",
          "connect 122",
          "connect 367",
          "connect 83",
          "connect Empty",
          "connect Empty",
          "connect Empty",
          "connect Empty",
          "connect Empty",
          "connect Empty",
          "connect Empty",
          "connect Empty",
          "connect 347",
          "connect Empty",
          "connect Empty",
          "connect Empty",
          "connect Empty",
          "connect 57",
          "connect 310",
          "connect 150",
          "connect 92",
          "connect Empty",
          "connect Empty",
          "connect Empty",
          "connect Empty",
          "connect Empty",
          "connect Empty",
          "connect Empty",
          "connect 396",
          "connect 392",
          "connect Empty",
          "connect Empty",
          "connect 390",
          "connect 280",
          "connect 80",
          "connect 274",
          "connect 82",
          "connect 246",
          "connect 35",
          "connect 19",
          "connect 388",
          "connect 360",
          "connect 387",
          "connect 65",
          "connect 356",
          "connect 352",
          "connect 325",
          "connect 314",
          "connect 53",
          "connect 51",
          "connect 349",
          "connect 343",
          "connect 72",
          "connect 333",
          "connect 259",
          "connect Empty",
          "connect 100",
          "connect Empty",
          "connect 85",
          "connect Empty",
          "connect Empty",
          "connect 118",
          "connect Empty",
          "connect Empty",
          "connect 233",
          "connect 2",
          "connect 227",
          "connect 42",
          "connect 24",
          "connect Empty",
          "connect Empty",
          "connect 384",
          "connect Empty",
          "connect Empty",
          "connect Empty",
          "connect Empty",
          "connect 121",
          "connect 383",
          "connect 376",
          "connect 329",
          "connect 5",
          "connect 264",
          "connect 345",
          "connect 340",
          "connect 201",
          "connect 31",
          "connect 7",
          "connect 322",
          "connect 84",
          "connect 212",
          "connect 27",
          "connect 192",
          "connect 318",
          "connect 199",
          "connect 101",
          "connect 380",
          "connect Empty",
          "connect 73",
          "connect Empty",
          "connect Empty",
          "connect Empty",
          "connect Empty",
          "connect Empty",
          "connect 373",
          "connect 336",
          "connect 102",
          "connect 328",
          "connect 103",
          "connect 202",
          "connect 98",
          "connect 133",
          "connect Empty",
          "connect Empty",
          "connect 371",
          "connect Empty",
          "connect Empty",
          "connect Empty",
          "connect Empty",
          "connect Empty",
          "connect Empty",
          "connect Empty",
          "connect Empty",
          "connect 364",
          "connect 350",
          "connect Empty",
          "connect Empty",
          "connect Empty",
          "connect Empty",
          "connect 330",
          "connect 285",
          "connect 284",
          "connect 165",
          "connect 268",
          "connect 144",
          "connect 219",
          "connect 143",
          "connect 217",
          "connect 33",
          "connect 186",
          "connect Empty",
          "connect Empty",
          "connect 279",
          "connect 275",
          "connect 160",
          "connect 108",
          "connect Empty",
          "connect Empty",
          "connect Empty",
          "connect Empty",
          "connect Empty",
          "connect 8",
          "connect Empty",
          "connect 323",
          "connect 245",
          "connect 134",
          "connect 240",
          "connect 128",
          "connect 232",
          "connect 74",
          "connect 16",
          "connect 317",
          "connect 312",
          "connect 261",
          "connect 175",
          "connect 223",
          "connect 193",
          "connect 40",
          "connect 302",
          "connect 228",
          "connect 291",
          "connect 289",
          "connect 247",
          "connect 145",
          "connect 222",
          "connect 36",
          "connect 215",
          "connect 176",
          "connect 94",
          "connect 271",
          "connect Empty",
          "connect Empty",
          "connect 262",
          "connect 260",
          "connect 177",
          "connect 173",
          "connect 236",
          "connect 235",
          "connect 129",
          "connect 208",
          "connect 47",
          "connect 39",
          "connect Empty",
          "connect 148",
          "connect Empty",
          "connect Empty",
          "connect Empty",
          "connect 204",
          "connect Empty",
          "connect Empty",
          "connect Empty",
          "connect Empty",
          "connect 58",
          "connect 196",
          "connect Empty",
          "connect Empty",
          "connect 283",
          "connect 270",
          "connect 115",
          "connect 146",
          "connect Empty",
          "connect Empty",
          "connect Empty",
          "connect Empty",
          "connect Empty",
          "connect Empty",
          "connect 253",
          "connect 67",
          "connect 167",
          "connect 305",
          "connect Empty",
          "connect Empty",
          "connect Empty",
          "connect Empty",
          "connect Empty",
          "connect Empty",
          "connect 277",
          "connect 244",
          "connect 44",
          "connect 52",
          "connect Empty",
          "connect Empty",
          "connect Empty",
          "connect Empty",
          "connect 256",
          "connect Empty",
          "connect Empty",
          "connect 207",
          "connect 105",
          "connect 172",
          "connect 250",
          "connect 124",
          "connect 214",
          "connect 168",
          "connect 206",
          "connect 267",
          "connect 242",
          "connect 87",
          "connect 237",
          "connect 49",
          "connect 234",
          "connect 162",
          "connect 205",
          "connect 15",
          "connect 61",
          "connect 251",
          "connect 151",
          "connect 200",
          "connect 346",
          "connect 337",
          "connect 287",
          "connect 43",
          "connect 157",
          "connect 303",
          "connect 38",
          "connect 127",
          "connect 315",
          "connect 93",
          "connect 139",
          "connect Empty",
          "connect Empty",
          "connect 351",
          "connect 334",
          "connect 290",
          "connect 300",
          "connect 1",
          "connect 298",
          "connect 120",
          "connect 258",
          "connect 307",
          "connect 10",
          "connect 249",
          "connect 241",
          "connect 224",
          "connect 366",
          "connect 70",
          "connect 365",
          "connect 331",
          "connect 327",
          "connect 187",
          "connect 135",
          "connect 391",
          "connect 382",
          "connect 99",
          "connect 377",
          "connect 159",
          "connect 372",
          "connect 338",
          "connect 368",
          "connect 341",
          "connect 348",
          "connect 194",
          "connect 306",
          "connect 14",
          "connect 178",
          "connect 375",
          "connect 112",
          "connect 353",
          "connect 60",
          "connect 301",
          "connect Empty",
          "connect Empty",
          "connect 138",
          "connect 155",
          "connect Empty",
          "connect Empty",
          "connect 398",
          "connect 395",
          "connect Empty",
          "connect Empty",
          "connect Empty",
          "connect Empty",
          "connect Empty",
          "connect Empty",
          "connect Empty",
          "connect Empty",
          "connect Empty",
          "connect 365",
          "connect 362",
          "connect 48",
          "connect 352",
          "connect 153",
          "connect 199",
          "connect 351",
          "connect 336",
          "connect 69",
          "connect 240",
          "connect 350",
          "connect 319",
          "connect 262",
          "connect 132",
          "connect Empty",
          "connect Empty",
          "connect 338",
          "connect 306",
          "connect 331",
          "connect 301",
          "connect 9",
          "connect 63",
          "connect 312",
          "connect 33",
          "connect 281",
          "connect 18",
          "connect 73",
          "connect 391",
          "connect Empty",
          "connect Empty",
          "connect 353",
          "connect 83",
          "connect 267",
          "connect 161",
          "connect 195",
          "connect 358",
          "connect 334",
          "connect 56",
          "connect 137",
          "connect 342",
          "connect 326",
          "connect 293",
          "connect 154",
          "connect 324",
          "connect 20",
          "connect 88",
          "connect Empty",
          "connect Empty",
          "connect Empty",
          "connect 397",
          "connect 382",
          "connect 190",
          "connect 381",
          "connect 344",
          "connect 143",
          "connect 337",
          "connect 22",
          "connect 251",
          "connect 5",
          "connect 41",
          "connect 378",
          "connect 332",
          "connect 355",
          "connect 158",
          "connect 349",
          "connect 231",
          "connect 150",
          "connect 396",
          "connect 394",
          "connect 393",
          "connect 110",
          "connect 347",
          "connect 135",
          "connect 339",
          "connect 97",
          "connect 258",
          "connect 392",
          "connect 188",
          "connect 386",
          "connect 81",
          "connect 384",
          "connect 181",
          "connect Empty",
          "connect Empty",
          "connect Empty",
          "connect Empty",
          "connect 380",
          "connect 121",
          "connect Empty",
          "connect Empty",
          "connect 361",
          "connect 75",
          "connect 345",
          "connect 159",
          "connect 163",
          "connect 390",
          "connect 387",
          "connect 31",
          "connect 385",
          "connect 372",
          "connect 366",
          "connect Empty",
          "connect 67",
          "connect Empty",
          "connect 152",
          "connect Empty",
          "connect Empty",
          "connect Empty",
          "connect Empty",
          "connect 368",
          "connect 356",
          "connect 118",
          "connect Empty",
          "connect 189",
          "connect Empty",
          "connect 341",
          "connect 241",
          "connect 162",
          "connect 11",
          "connect 333",
          "connect Empty",
          "connect Empty",
          "connect 23",
          "connect 304",
          "connect 77",
          "connect 79",
          "connect 377",
          "connect 7",
          "connect 376",
          "connect 363",
          "connect 142",
          "connect 330",
          "connect 309",
          "connect 52",
          "connect 156",
          "connect Empty",
          "connect 78",
          "connect Empty",
          "connect 369",
          "connect 340",
          "connect 325",
          "connect 311",
          "connect Empty",
          "connect Empty",
          "connect 284",
          "connect 259",
          "connect 8",
          "connect 245",
          "connect 125",
          "connect 71",
          "connect 260",
          "connect 32",
          "connect 247",
          "connect 148",
          "connect 243",
          "connect 180",
          "connect 232",
          "connect 85",
          "connect 186",
          "connect 305",
          "connect Empty",
          "connect Empty",
          "connect Empty",
          "connect Empty",
          "connect Empty",
          "connect Empty",
          "connect Empty",
          "connect Empty",
          "connect Empty",
          "connect Empty",
          "connect 250",
          "connect 89",
          "connect 248",
          "connect 44",
          "connect 217",
          "connect 157",
          "connect 55",
          "connect 299",
          "connect 298",
          "connect 271",
          "connect 212",
          "connect 146",
          "connect 211",
          "connect 144",
          "connect 210",
          "connect 149",
          "connect 203",
          "connect 35",
          "connect 176",
          "connect 226",
          "connect 93",
          "connect Empty",
          "connect Empty",
          "connect 128",
          "connect Empty",
          "connect Empty",
          "connect 225",
          "connect 209",
          "connect 45",
          "connect 131",
          "connect 222",
          "connect 201",
          "connect 61",
          "connect 172",
          "connect 208",
          "connect 105",
          "connect 200",
          "connect 90",
          "connect 108",
          "connect Empty",
          "connect Empty",
          "connect 287",
          "connect 237",
          "connect 102",
          "connect 233",
          "connect 62",
          "connect 15",
          "connect 285",
          "connect 66",
          "connect Empty",
          "connect Empty",
          "connect 282",
          "connect 280",
          "connect 206",
          "connect 115",
          "connect 167",
          "connect 270",
          "connect 145",
          "connect 263",
          "connect 269",
          "connect Empty",
          "connect Empty",
          "connect 238",
          "connect 168",
          "connect 227",
          "connect 36",
          "connect 213",
          "connect 173",
          "connect 34",
          "connect 266",
          "connect 254",
          "connect 65",
          "connect 215",
          "connect 249",
          "connect 234",
          "connect 47",
          "connect 205",
          "connect 111",
          "connect 204",
          "connect 182",
          "connect 177",
          "connect 214",
          "connect 175",
          "connect 68",
          "connect 322",
          "connect 314",
          "connect 39",
          "connect 256",
          "connect Empty",
          "connect Empty",
          "connect 296",
          "connect 252",
          "connect Empty",
          "connect Empty",
          "connect 13",
          "connect 184",
          "connect 294",
          "connect 103",
          "connect Empty",
          "connect Empty",
          "connect Empty",
          "connect 151",
          "connect Empty",
          "connect 335",
          "connect 328",
          "connect 327",
          "connect 192",
          "connect Empty",
          "connect Empty",
          "connect Empty",
          "connect Empty",
          "connect 91",
          "connect Empty",
          "connect Empty",
          "connect Empty",
          "connect Empty",
          "connect Empty",
          "connect Empty",
          "connect Empty",
          "connect Empty",
          "connect Empty",
          "connect Empty",
          "connect Empty",
          "connect Empty",
          "connect Empty",
          "connect Empty",
          "connect Empty",
          "connect Empty",
          "connect Empty",
          "connect Empty",
          "connect Empty",
          "connect Empty",
          "connect Empty",
          "connect 10",
          "connect Empty",
          "connect 303",
          "connect Empty",
          "connect Empty",
          "connect Empty",
          "connect Empty",
          "connect Empty",
          "connect Empty",
          "connect 198",
          "connect Empty",
          "connect Empty",
          "connect Empty",
          "connect Empty",
          "connect 236",
          "connect Empty",
          "connect 94",
          "connect Empty",
          "connect 220",
          "connect 43",
          "connect 179",
          "connect Empty",
          "connect Empty",
          "connect 357",
          "connect Empty",
          "connect 70",
          "connect Empty",
          "connect Empty",
          "connect Empty",
          "connect Empty",
          "connect Empty",
          "connect Empty",
          "connect Empty",
          "connect 316",
          "connect 279",
          "connect 130",
          "connect 122",
          "connect 141",
          "connect Empty",
          "connect Empty",
          "connect Empty",
          "connect Empty",
          "connect Empty",
          "connect Empty",
          "connect 370",
          "connect 343",
          "connect 196",
          "connect 323",
          "connect 99",
          "connect 218",
          "connect 96",
          "connect 72",
          "connect 360",
          "connect 17",
          "connect Empty",
          "connect Empty",
          "connect 329",
          "connect 60",
          "connect 320",
          "connect 318",
          "connect 315",
          "connect 138",
          "connect 290",
          "connect 230",
          "connect 147",
          "connect 291",
          "connect 54",
          "connect 289",
          "connect 283",
          "connect 276",
          "connect 265",
          "connect 119",
          "connect Empty",
          "connect Empty",
          "connect Empty",
          "connect Empty",
          "connect 308",
          "connect 272",
          "connect 170",
          "connect 40",
          "connect 165",
          "connect Empty",
          "connect Empty",
          "connect Empty",
          "connect Empty"
         ],
         "marker": {
          "color": [
           55.52570511589674,
           44.923908284486764,
           50.19249885718303,
           49.55552441453929,
           68.18357573492314,
           51.43928459844674,
           57.1271138874815,
           57.71052873569194,
           78.71149852467555,
           70.49113419430843,
           107.81929326423912,
           70.24243731534378,
           166.59531806146293,
           41.11289953059137,
           42.70977639838448,
           46.52956049652737,
           47.44997365647319,
           25.099800796022265,
           79.89993742175271,
           42.8141423042667,
           42.965829446200615,
           50.22947341949744,
           45.40099117860754,
           34.14674215792775,
           67.23838189605696,
           46.731446853270015,
           50.69763308084511,
           49.92995093127971,
           63.76519426771944,
           48.67044791246532,
           41.44876355212541,
           44.88875137492688,
           53.879495172096775,
           64.42631449958937,
           47.46577714522327,
           94.0744386111339,
           60.97950475364653,
           55.910642993977454,
           77.58221445666526,
           100.8265837961398,
           71.596089278675,
           45.020067275821916,
           62.132922030112184,
           76.43951857514541,
           74.20916385460761,
           37.26812753651738,
           44.88178918002267,
           65.50572494064927,
           35.96526101670889,
           47.97916214358062,
           39.14077158156185,
           38.971506518384686,
           59.53990258641679,
           30.353966482982088,
           31.096623610932426,
           48.61069841094653,
           29.13760456866693,
           38.47015888971607,
           56.133768802744754,
           81.7129120763665,
           46.4327470649756,
           62.353829072479584,
           47.81213235152768,
           27.71845053389529,
           31.937438845342623,
           35.131894341182345,
           46.50806381693394,
           41.44876355212541,
           68.24497809910233,
           66.54281029846119,
           60.94282979496414,
           74.68935667148298,
           79.93747556684536,
           85.79044235810886,
           51.74521367886961,
           49.20143544653956,
           58.85469395044035,
           67.50555532695068,
           62.621881159862966,
           89.74408058473828,
           50.21951811795888,
           44.90406440401581,
           41.24318125460256,
           57.6064232529672,
           77.85242449660768,
           50.46781152378217,
           57.44340795241435,
           64.23929871970896,
           59.85398900658168,
           52.67826876426369,
           84.00595217006948,
           79.39300976786306,
           63.190189111918315,
           116.72189169131899,
           56.46663146274975,
           59.36328831862332,
           63.8918764398104,
           57.203037506761824,
           70.78135347674555,
           55.48648484090518,
           68.19090848492928,
           58.83026432033091,
           78.95568377260753,
           91.02197536858887,
           81.82297965730655,
           65.97726881282674,
           117.7497346069196,
           78.6197335279127,
           105.01428474260061,
           70.13023598990667,
           55.62373594069352,
           105.65509926170151,
           72.60508754186068,
           93.30455893912269,
           89.00242332309682,
           117.41805653305627,
           69.98788148340334,
           71.05114794991,
           79.98124780221924,
           73.43406906879122,
           90.29396436085858,
           70.06604027629933,
           85.28188553262645,
           70.71067811865476,
           74.03253190753135,
           58.762232769015846,
           99.4391962334702,
           131.36590120727678,
           77.19105349866896,
           71.69640855719344,
           67.7864293203293,
           88.229813555283,
           63.30876716537765,
           127.12985487288185,
           87.19441616833902,
           90.86251203741838,
           116.52896635600952,
           74.1096105441123,
           83.38277699861045,
           94.70216470598758,
           112.80957406177899,
           94.51983918733676,
           80.422322771728,
           86.44073113989724,
           89.9166280506559,
           70.51595564125896,
           76.98051701567093,
           78.14089838234521,
           90.11849837852382,
           96.50388593212193,
           96.66372121949372,
           87.49857141690943,
           119.93123029469847,
           164.3380661928331,
           97.43202758846806,
           102.35984226445069,
           129.422032513788,
           132.8457752433249,
           140.97960845455628,
           130.8816259067712,
           175.95169791735458,
           79.53453643227533,
           74.29546035719477,
           83.19254774317228,
           63.93746945258312,
           117.94914158229385,
           70.9732288877292,
           76.83372875892462,
           68.93837828089663,
           92.0869154657707,
           60.43177971895251,
           92.15984754761696,
           107.40577265678041,
           91.73194645269444,
           77.76888838089432,
           123.89915253947461,
           71.76872577940895,
           75.7099729229908,
           84.21995013059554,
           87.52720940673125,
           89.50724481850617,
           93.76566535784833,
           97.04734669222029,
           126.03570922560003,
           80.39123086506389,
           85.66212698736823,
           90.30503861911582,
           89.69299673985381,
           84.28022454882284,
           84.46892919884802,
           94.4570007993055,
           91.7986928011505,
           109.23598308249896,
           115.83609109426992,
           118.99579824514814,
           99.87052489215647,
           105.65509926170151,
           103.95404339451066,
           115.07334617538503,
           123.74166638606415,
           119.1322794208186,
           138.80561948278606,
           118.55378526221759,
           97.68069267238609,
           97.93731295589764,
           81.23422923866515,
           124.07909256726619,
           119.85517888607866,
           147.69610280456305,
           170.01323477894303,
           111.70496855556605,
           244.64259645450136,
           130.33479587761735,
           118.22298350204582,
           137.45901377774393,
           165.41463055002117,
           120.426001656619,
           134.4730456262518,
           117.02003033669065,
           121.50720143267229,
           125.95931882953322,
           132.3518039166826,
           135.82341477079717,
           103.56165132422329,
           81.76796438703852,
           134.6576678098949,
           201.7746267497477,
           261.1876719908503,
           161.8919392681427,
           73.18982169673595,
           68.84765791223403,
           87.73539764542018,
           105.24257693538296,
           80.53570636680354,
           87.73254812211943,
           85.93602271457529,
           145.86085532999775,
           160.83561095105773,
           179.17868176767013,
           157.40354189153433,
           187.8270481054313,
           137.01277312717966,
           170.02940922087566,
           117.92370414806346,
           134.66101492673096,
           127.93239440570107,
           104.82455580635674,
           88.11923740024082,
           131.32307489546534,
           134.3837787830064,
           141.43549766589715,
           155.94870049074925,
           177.64290022401684,
           145.6981993763604,
           156.14446084113,
           178.98769161593208,
           170.5608395851756,
           198.11328829737798,
           268.3057956884271,
           139.0233793288021,
           106.51760417883985,
           185.29436041067197,
           136.95170332262666,
           155.36507535680275,
           177.53309550616189,
           142.34105719187278,
           124.33623767832128,
           104.62313319720452,
           158.27823602757266,
           165.9959525108971,
           126.33932483593539,
           134.40982106974178,
           130.0596017216722,
           145.84923722803626,
           130.41472309520884,
           213.7755832643195,
           216.0972003520638,
           227.71912523984454,
           123.55012267294597,
           121.20643547270912,
           137.66910056363412,
           125.8729518204765,
           162.71946718201852,
           117.983049630021,
           222.28135324403618,
           326.32039470434574,
           132.713978163568,
           121.90159966136622,
           158.8395416764982,
           137.82152748210274,
           159.6674277991601,
           141.4814475470194,
           192.53506174201104,
           172.3745920952389,
           231.93102422918759,
           122.2278865480378,
           142.84957122791795,
           113.51266449167687,
           135.74976979722655,
           103.45772083319834,
           88.19297024139736,
           131.98484761517133,
           143.80380515845803,
           147.48029529398156,
           174.29285699649313,
           132.73940635696695,
           143.9930553880985,
           135.48062592119953,
           145.0578037144401,
           138.39415676593114,
           183.09765154146572,
           171.1899529762188,
           216.69563908856125,
           100.33781320027111,
           108.44353369380767,
           101.76115187658796,
           85.70297544426332,
           127.40026736628145,
           139.71421724362915,
           137.04378862246912,
           155.19101133764158,
           119.0546093185812,
           205.31682834098135,
           120.84235598497739,
           113.15476127852509,
           139.27490800571366,
           122.55610959882824,
           171.94766645697754,
           155.52238396469653,
           173.1245148910171,
           214.69746155928345,
           141.11481362706044,
           151.2349166032765,
           142.95125917598628,
           158.52760012060992,
           138.42777900407128,
           195.33304891901935,
           97.84681905918046,
           144.1405564024227,
           191.3818173181559,
           110.3675676999362,
           94.79937697580085,
           89.24124606929242,
           91.0659101969557,
           80.95677859203639,
           115.55085460523432,
           95.94790253048787,
           114.5512985522207,
           92.43376006633075,
           105.68910776423462,
           116.16367762773353,
           106.72745663605032,
           85.89528508596965,
           142.97901943991644,
           131.31914845139684,
           129.34377642546238,
           155.08062419270823,
           118.88124326402378,
           88.13058492941029,
           161.54256405046937,
           108.23585357911675,
           233.09440147716975,
           140.79084664849486,
           169.8705389406886,
           125.33255762171297,
           122.60505699195282,
           147.6312974948063,
           101.54655644087593,
           78.45380806563821,
           135.05855211722061,
           128.64291663360248,
           157.57934509319423,
           171.33592734741887,
           168.76907299620981,
           54.79774434814385,
           48.32114300519106,
           48.23898838076935,
           60.722577722890684,
           76.88953114696434,
           57.49718063740169,
           63.733821476512766,
           64.90726557944033,
           70.12132343303284,
           76.90456748464294,
           98.41239759298622,
           77.24150438721401,
           81.16033513977132,
           96.591925128346,
           68.04611975757692,
           89.50977600240098,
           56.62351681280491,
           65.70388116390082,
           57.198257184987725,
           52.306787322488084,
           72.62962549813953,
           95.69743988216194,
           63.452738317585634,
           85.83122974768565,
           56.07138307550475,
           102.46637811450996,
           76.26939590657005,
           63.336896829573206,
           61,
           73.57479187874064,
           46.26013402488151,
           111.4136436887332,
           95.00507284975629,
           99.26678955125173,
           97.86214794290998,
           109.61470162573997,
           122.7921679257527,
           145.0646407640401,
           161.77762515255316,
           134.29817571359635,
           208.26185440449723,
           69,
           104.0937734539151,
           94.17138631240384,
           50.80354318352215,
           145.96574940718114,
           118.10485939409945,
           159.9617141693599,
           273.7772817455824,
           58.762232769015846,
           81.67599861648463,
           55.33534132902769,
           114.45304714161175,
           103.1746092796091,
           133.1521685891747,
           163.5328713133846,
           155.85570249432647,
           187.28854743416642,
           108.10874155219827,
           57.06137047074842,
           166.7183253274816,
           188.18607812481773,
           155.7562197795003,
           98.58706890992347,
           67.85450887745044,
           58.215118311311535,
           85.58000642673498,
           74.18220810949214,
           104.49760762811749,
           118.9915963419266,
           103.04368005850722,
           133.26747071209837,
           82.50454532933323,
           73.85797181076664,
           102.95144486601438,
           189.9029357329686,
           228.3538920185071,
           326.92659726611413,
           141.24092891226678,
           158.63480072165754,
           90.87904048789248,
           239.0083680543424,
           98.24459272652109,
           156.73863595170147,
           55.91958512006326,
           131.18666746686287,
           126.57568604149456,
           153.50895739337167,
           104.01738887080371,
           137.93068911594693,
           157.4357011608231,
           124.78982330302419,
           150.02333151880077,
           106.82228231974825,
           120.49066353871572,
           100.7869039111729,
           73.08513870822166,
           79.01898506055365,
           71.15300415302224,
           55.82114294781145,
           91.50956234186677,
           77.64019577512668,
           112.39217054581694,
           137.97247764224528,
           128.1387635518986,
           105.51258811156136,
           105.256828757093,
           110.54467422721007,
           110.78357278947091,
           114.97173565707357,
           123.99193522161028,
           113.05750749065716,
           157.02324606467508,
           233.55941428253325,
           87.26367639946187,
           80.79603950689662,
           98.77586686534318,
           103.32231124011889,
           96.27564593395361,
           116.17228585166085,
           113.41075786714416,
           126.25371281669304,
           96.58060105424899,
           78.31347265956222,
           69.3685807840985,
           93.4237657130133,
           119.00525198494392,
           162.837342154679,
           82.3407554009556,
           68.31544481301428,
           103.4456378974,
           149.28357623854006,
           162.82153583476037,
           133.4353776177817,
           197.38705415417166,
           198.06996182619926,
           225.2302988054671,
           219.05649956118626,
           214.69513268819114,
           234.4674817538671,
           237.49421045574985,
           166.16558007000125,
           322.07297309771275,
           173.94944502305296,
           174.1436188896969,
           178.8021258131807,
           145.68823734262145,
           128.296531519757,
           170.0918869317405,
           198.501889159776,
           150.30635382444748,
           214.65543792610984,
           236.66062198853447,
           238.81373494839028,
           244.95101551126504,
           197.195215776144,
           164.0822964246905,
           238.10147521592552,
           251.34040662018512,
           233.17214670710564,
           271.87864940079425,
           205.31195776184103,
           198.92299594405384,
           200.4120754844877,
           202.72272614584318,
           185.26952494946383,
           214.15415008820165,
           160.7752701754844,
           180.48407131932723,
           214.2008403344861,
           155.15153882575578,
           144.90255346266332,
           164.0822964246905,
           131.74976280813564,
           222.15707290880823,
           225.84640024763496,
           219.81412032499307,
           238.22190096038685,
           248.98516139662445,
           227.48406537601704,
           275.47448590171194,
           302.02886865331266,
           405.7302059250704,
           204.33000269172416,
           208.4178495234993,
           207.39093519245242,
           251.8815213175631,
           257.2800031094527,
           251.85750559592225,
           247.43888134244384,
           262.04734782096153,
           258.081382513346,
           273.6516946777418,
           280.7952991059501,
           275.5122501813667,
           229.15144486164274,
           232.42321165582032,
           262.79638030231695,
           321.9409883814113,
           209.7754752109979,
           283.2595982486736,
           144.07289821475794,
           205.20788335399058,
           228.98908270919816,
           186.35913329509773,
           171.3942822850284,
           205.0729291008445,
           194.6561070195333,
           220.43508114635475,
           214.50874108063755,
           231.6559949580412,
           191.74201417529753,
           278.3684608571883,
           226.99876719824832,
           219.30968578986656,
           197.5650901443623,
           195.56604542967065,
           197.48924021323288,
           198.9360764165213,
           174.0976737351766,
           229.29293491078175,
           212.26163101229577,
           253.06916050755768,
           337.17354581876674,
           175.45939701252823,
           202.0843341899614,
           207.16177253537873,
           201.66881885903928,
           204.11271395971394,
           204.82248411734489,
           212.15796002035842,
           205.2364490045567,
           242.27468591972212,
           264.31893613587357,
           247.71556269237507,
           288.82347550017465,
           223.11467062925288,
           244.0092211372349,
           277.9946042641835,
           216.43705782513308,
           205.34148387503194,
           199.90247622278218,
           215.6362678215332,
           222.34882504749154,
           213.34479135896427,
           220.22488506070334,
           212.12496317029732,
           235.55523437242184,
           254.32951067463642,
           278.2948077129719,
           237.51210495467384,
           229.95434329448966,
           252.32320543303186,
           218.73878438044846,
           215.8350064285217,
           189.15866356051473,
           250.76682396202253,
           224.27958914365192,
           205.00762180953174,
           188.98015768857852,
           172.70205557549104,
           212.14146223687627,
           224.12273423283057,
           199.45174855087132,
           254.03346236273677,
           245.2801182847506,
           255.6441847935329,
           277.758888246623,
           240.0542581896851,
           226.17913254763357,
           260.97353793057255,
           340.2058200560361,
           187.45866210981023,
           198.38094666575216,
           182.33485678827293,
           237.19822521864492,
           227.95284600109733,
           255.4740691342274,
           206.6228448163465,
           249.2522410882197,
           262.9925735643499,
           253.70652336902967,
           276.5165004118199,
           267.71253239249,
           291.41808454521146,
           197.37021051820358,
           391.9961734507111,
           238.52987234306732,
           246.92711475251153,
           237.02953402477084,
           202.85554724205844,
           219.50398629637687,
           243.26939799325356,
           201.63333057805696,
           189.31024057747115,
           201.4919353224838,
           181.94873934710293,
           203.8309655081877,
           211.16581162678773,
           201.10507203946895,
           180.7097119692243,
           229.9717373939676,
           162.56767821433633,
           174.86852203870197,
           155.40270267920053,
           158.31929762350515,
           157.1050603895368,
           169.58183865025168,
           153.20574401764446,
           232.8757456564317,
           239.5801921216177,
           226.43666332994752,
           217.20137545605,
           183.23755073674172,
           257.71253364941333,
           255.71859533479375,
           267.76295486866735,
           238.2177312879963,
           188.84385083978773,
           292.4760673969752,
           317.88048068417163,
           274.17877379549276,
           363.3703345073728,
           194.84352696458765,
           254.42538275617275,
           251.98635875777086,
           245.92275209910937,
           264.7744323004017,
           297.3281015982176,
           242.70146270675832,
           260.4568852276706,
           338.87608354677377,
           187.08195062592222,
           150.25644744901965,
           186.09137540466511,
           120.57362895757927,
           227.40135223872352,
           195.0564020994953,
           265.75458603756965,
           259.83263844251746,
           282.6853374336915,
           227.26133385859438,
           220.2827728171225,
           209.56383275746796,
           240.12704970494266,
           236.970948575453,
           246.12633316043207,
           246.525860712421,
           252.7502472797999,
           239.11294402436687,
           272.52476951646065,
           290.85219614092654,
           262.8003044138267,
           230.83726681365815,
           227.98135888708094,
           257.7789750930048,
           209.55667491158567,
           237.79061167337957,
           309.71922768856314,
           172.36443948796398,
           148.73466307488647,
           203.64184245876388,
           219.63919054539767,
           239.08718826769032,
           279.12183719659055,
           206.0776173556944,
           209.24626639440905,
           210.08435805647215,
           204.62893246068603,
           221.5981723751349,
           224.76877007271273,
           229.9391223780764,
           202.74558796062615,
           182.0370841339753,
           208.14898510441986,
           164.71794073506382,
           227.3740722905758,
           232.29937580630732,
           229.21905461806617,
           253.3298245371042,
           212.09785477462992,
           233.54656923192,
           201.30076999355964,
           139.0448755921493,
           146.34628240922282,
           151.50907563575194,
           145.0514994751864,
           139.63165830140383,
           155.62374497485916,
           149.06039044628858,
           169.7586522095413,
           133.80640073556876,
           113.45483682946268,
           110.50791826833044,
           121.90980272316087,
           157.00406228416662,
           192.13276659643455,
           126.51991856985158,
           116.77422125623445,
           131.93630091828405,
           157.96835126062436,
           111.73517798795507,
           117.75822688882505,
           112.30316113093166,
           103.60863863597476,
           103.58571330062848,
           106.98364360966586,
           115.65465835840769,
           102.38652255057792,
           112.76524287208359,
           97.70363350459388,
           137.78997477479086,
           145.3994497926316,
           135.060388692429,
           138.32570260078205,
           135.32178085954973,
           118.8202423831899,
           109.24284873619875,
           134.00373129133382,
           154.58310871502098,
           161.31645917264612,
           153.52768479984317,
           157.78466338652817,
           157.73712308775
          ],
          "colorscale": [
           [
            0,
            "rgb(253, 224, 197)"
           ],
           [
            0.16666666666666666,
            "rgb(250, 203, 166)"
           ],
           [
            0.3333333333333333,
            "rgb(248, 181, 139)"
           ],
           [
            0.5,
            "rgb(245, 158, 114)"
           ],
           [
            0.6666666666666666,
            "rgb(242, 133, 93)"
           ],
           [
            0.8333333333333334,
            "rgb(239, 106, 76)"
           ],
           [
            1,
            "rgb(235, 74, 64)"
           ]
          ],
          "showscale": true,
          "size": 50,
          "symbol": "circle-dot"
         },
         "mode": "markers+text",
         "opacity": 0.8,
         "text": [
          "398",
          "395",
          "375",
          "277",
          "53",
          "171",
          "365",
          "351",
          "336",
          "69",
          "240",
          "6",
          "117",
          "350",
          "319",
          "132",
          "262",
          "59",
          "109",
          "338",
          "306",
          "193",
          "235",
          "49",
          "58",
          "331",
          "301",
          "9",
          "63",
          "312",
          "275",
          "14",
          "33",
          "281",
          "18",
          "73",
          "362",
          "48",
          "352",
          "153",
          "199",
          "391",
          "321",
          "0",
          "191",
          "388",
          "353",
          "83",
          "267",
          "161",
          "195",
          "367",
          "106",
          "358",
          "334",
          "56",
          "137",
          "342",
          "324",
          "88",
          "302",
          "20",
          "92",
          "326",
          "154",
          "293",
          "3",
          "185",
          "397",
          "389",
          "382",
          "239",
          "187",
          "190",
          "381",
          "344",
          "300",
          "143",
          "292",
          "24",
          "86",
          "337",
          "22",
          "251",
          "5",
          "41",
          "378",
          "332",
          "219",
          "42",
          "174",
          "257",
          "1",
          "57",
          "374",
          "95",
          "355",
          "317",
          "178",
          "253",
          "116",
          "158",
          "349",
          "150",
          "231",
          "51",
          "123",
          "383",
          "114",
          "348",
          "84",
          "197",
          "396",
          "390",
          "373",
          "101",
          "370",
          "343",
          "196",
          "323",
          "99",
          "218",
          "72",
          "96",
          "360",
          "17",
          "329",
          "60",
          "320",
          "308",
          "165",
          "272",
          "40",
          "170",
          "318",
          "291",
          "54",
          "289",
          "276",
          "242",
          "119",
          "155",
          "265",
          "82",
          "133",
          "283",
          "164",
          "183",
          "315",
          "138",
          "290",
          "147",
          "230",
          "112",
          "169",
          "387",
          "379",
          "136",
          "364",
          "2",
          "31",
          "385",
          "372",
          "366",
          "67",
          "152",
          "368",
          "341",
          "241",
          "11",
          "162",
          "333",
          "23",
          "304",
          "77",
          "79",
          "356",
          "118",
          "189",
          "377",
          "346",
          "7",
          "297",
          "100",
          "288",
          "76",
          "126",
          "376",
          "363",
          "142",
          "330",
          "78",
          "309",
          "52",
          "156",
          "371",
          "46",
          "369",
          "310",
          "27",
          "286",
          "26",
          "28",
          "359",
          "354",
          "25",
          "340",
          "325",
          "313",
          "278",
          "74",
          "98",
          "311",
          "284",
          "260",
          "32",
          "247",
          "148",
          "243",
          "180",
          "232",
          "85",
          "186",
          "264",
          "12",
          "259",
          "245",
          "71",
          "125",
          "246",
          "29",
          "244",
          "113",
          "221",
          "8",
          "134",
          "305",
          "250",
          "89",
          "248",
          "44",
          "217",
          "55",
          "157",
          "299",
          "287",
          "237",
          "102",
          "233",
          "15",
          "62",
          "285",
          "66",
          "282",
          "269",
          "238",
          "168",
          "227",
          "36",
          "213",
          "34",
          "173",
          "266",
          "255",
          "64",
          "249",
          "214",
          "68",
          "175",
          "234",
          "205",
          "111",
          "204",
          "177",
          "182",
          "228",
          "47",
          "80",
          "261",
          "38",
          "254",
          "4",
          "229",
          "16",
          "216",
          "65",
          "215",
          "87",
          "124",
          "280",
          "270",
          "145",
          "263",
          "19",
          "30",
          "274",
          "166",
          "273",
          "127",
          "206",
          "115",
          "167",
          "298",
          "268",
          "140",
          "207",
          "129",
          "139",
          "295",
          "225",
          "209",
          "45",
          "131",
          "224",
          "37",
          "223",
          "160",
          "222",
          "202",
          "107",
          "201",
          "61",
          "172",
          "208",
          "105",
          "200",
          "90",
          "108",
          "271",
          "212",
          "146",
          "211",
          "144",
          "210",
          "149",
          "203",
          "35",
          "176",
          "226",
          "93",
          "128",
          "322",
          "296",
          "252",
          "13",
          "184",
          "294",
          "103",
          "151",
          "314",
          "39",
          "256",
          "50",
          "194",
          "335",
          "303",
          "198",
          "236",
          "94",
          "220",
          "43",
          "179",
          "328",
          "10",
          "327",
          "91",
          "192",
          "357",
          "70",
          "316",
          "141",
          "279",
          "122",
          "130",
          "394",
          "392",
          "188",
          "386",
          "81",
          "384",
          "181",
          "380",
          "121",
          "361",
          "75",
          "345",
          "159",
          "163",
          "393",
          "110",
          "347",
          "135",
          "339",
          "21",
          "307",
          "97",
          "258",
          "104",
          "120",
          "398",
          "394",
          "381",
          "56",
          "319",
          "0",
          "104",
          "393",
          "385",
          "88",
          "379",
          "374",
          "363",
          "77",
          "299",
          "46",
          "195",
          "370",
          "269",
          "69",
          "79",
          "335",
          "239",
          "97",
          "137",
          "313",
          "191",
          "294",
          "6",
          "286",
          "226",
          "123",
          "198",
          "265",
          "163",
          "252",
          "11",
          "110",
          "378",
          "361",
          "75",
          "358",
          "185",
          "324",
          "54",
          "197",
          "369",
          "221",
          "171",
          "181",
          "362",
          "263",
          "18",
          "156",
          "311",
          "20",
          "23",
          "389",
          "3",
          "106",
          "397",
          "395",
          "153",
          "386",
          "359",
          "96",
          "344",
          "152",
          "230",
          "63",
          "122",
          "367",
          "83",
          "347",
          "57",
          "310",
          "92",
          "150",
          "396",
          "391",
          "375",
          "112",
          "353",
          "60",
          "301",
          "138",
          "155",
          "382",
          "99",
          "377",
          "159",
          "372",
          "338",
          "174",
          "332",
          "136",
          "179",
          "368",
          "341",
          "114",
          "188",
          "348",
          "194",
          "306",
          "14",
          "178",
          "392",
          "384",
          "121",
          "383",
          "376",
          "329",
          "213",
          "5",
          "26",
          "264",
          "184",
          "190",
          "357",
          "147",
          "345",
          "318",
          "199",
          "308",
          "101",
          "180",
          "340",
          "201",
          "7",
          "31",
          "322",
          "126",
          "321",
          "84",
          "212",
          "27",
          "192",
          "380",
          "73",
          "373",
          "336",
          "102",
          "328",
          "202",
          "98",
          "133",
          "231",
          "103",
          "130",
          "371",
          "364",
          "350",
          "330",
          "297",
          "183",
          "285",
          "279",
          "8",
          "275",
          "108",
          "160",
          "284",
          "165",
          "268",
          "144",
          "219",
          "143",
          "217",
          "33",
          "186",
          "323",
          "309",
          "272",
          "17",
          "218",
          "28",
          "132",
          "296",
          "22",
          "293",
          "164",
          "245",
          "134",
          "240",
          "128",
          "232",
          "16",
          "74",
          "317",
          "305",
          "267",
          "242",
          "87",
          "237",
          "49",
          "234",
          "162",
          "205",
          "15",
          "61",
          "251",
          "151",
          "238",
          "13",
          "200",
          "86",
          "125",
          "277",
          "244",
          "44",
          "52",
          "256",
          "207",
          "105",
          "172",
          "250",
          "124",
          "214",
          "168",
          "206",
          "55",
          "68",
          "312",
          "261",
          "175",
          "223",
          "40",
          "193",
          "302",
          "228",
          "107",
          "142",
          "291",
          "283",
          "253",
          "67",
          "167",
          "270",
          "115",
          "146",
          "289",
          "254",
          "141",
          "247",
          "145",
          "222",
          "36",
          "215",
          "94",
          "176",
          "271",
          "204",
          "58",
          "196",
          "262",
          "236",
          "148",
          "235",
          "129",
          "208",
          "39",
          "47",
          "260",
          "173",
          "177",
          "346",
          "315",
          "93",
          "139",
          "339",
          "21",
          "337",
          "287",
          "64",
          "203",
          "43",
          "157",
          "303",
          "38",
          "257",
          "76",
          "248",
          "127",
          "170",
          "351",
          "307",
          "249",
          "224",
          "166",
          "220",
          "34",
          "90",
          "241",
          "41",
          "229",
          "9",
          "225",
          "62",
          "169",
          "288",
          "243",
          "59",
          "210",
          "12",
          "50",
          "282",
          "149",
          "281",
          "216",
          "25",
          "116",
          "278",
          "4",
          "209",
          "10",
          "45",
          "334",
          "276",
          "109",
          "154",
          "304",
          "292",
          "48",
          "290",
          "161",
          "211",
          "29",
          "140",
          "300",
          "273",
          "1",
          "182",
          "298",
          "120",
          "258",
          "32",
          "78",
          "366",
          "342",
          "70",
          "326",
          "111",
          "320",
          "119",
          "316",
          "30",
          "71",
          "365",
          "327",
          "135",
          "187",
          "331",
          "91",
          "295",
          "37",
          "266",
          "117",
          "189",
          "390",
          "280",
          "80",
          "274",
          "82",
          "246",
          "19",
          "35",
          "388",
          "360",
          "81",
          "95",
          "387",
          "65",
          "356",
          "349",
          "233",
          "2",
          "227",
          "24",
          "42",
          "343",
          "72",
          "333",
          "118",
          "259",
          "85",
          "100",
          "355",
          "113",
          "354",
          "131",
          "352",
          "314",
          "51",
          "53",
          "325",
          "66",
          "255",
          "89",
          "158"
         ],
         "textfont": {
          "color": "#000000",
          "family": "sans serif",
          "size": 18
         },
         "type": "scatter",
         "x": [
          10.5,
          5.75,
          3.375,
          2.1875,
          1.59375,
          2.78125,
          4.5625,
          3.96875,
          3.671875,
          3.5234375,
          3.8203125,
          3.74609375,
          3.89453125,
          4.265625,
          4.1171875,
          4.04296875,
          4.19140625,
          4.154296875,
          4.228515625,
          4.4140625,
          4.33984375,
          4.302734375,
          4.376953125,
          4.3583984375,
          4.3955078125,
          4.48828125,
          4.451171875,
          4.4326171875,
          4.4697265625,
          4.525390625,
          4.5068359375,
          4.49755859375,
          4.51611328125,
          4.5439453125,
          4.53466796875,
          4.55322265625,
          5.15625,
          4.859375,
          5.453125,
          5.3046875,
          5.6015625,
          8.125,
          6.9375,
          6.34375,
          7.53125,
          9.3125,
          8.71875,
          8.421875,
          9.015625,
          8.8671875,
          9.1640625,
          9.90625,
          9.609375,
          10.203125,
          10.0546875,
          9.98046875,
          10.12890625,
          10.3515625,
          10.27734375,
          10.240234375,
          10.314453125,
          10.2958984375,
          10.3330078125,
          10.42578125,
          10.388671875,
          10.462890625,
          10.4443359375,
          10.4814453125,
          15.25,
          12.875,
          11.6875,
          11.09375,
          10.796875,
          11.390625,
          12.28125,
          11.984375,
          11.8359375,
          11.76171875,
          11.91015625,
          11.873046875,
          11.947265625,
          12.1328125,
          12.05859375,
          12.20703125,
          12.169921875,
          12.244140625,
          12.578125,
          12.4296875,
          12.35546875,
          12.318359375,
          12.392578125,
          12.50390625,
          12.466796875,
          12.541015625,
          12.7265625,
          12.65234375,
          12.80078125,
          12.763671875,
          12.7451171875,
          12.7822265625,
          12.77294921875,
          12.79150390625,
          12.837890625,
          12.8193359375,
          12.8564453125,
          12.84716796875,
          12.86572265625,
          14.0625,
          13.46875,
          14.65625,
          14.359375,
          14.953125,
          17.625,
          16.4375,
          15.84375,
          15.546875,
          16.140625,
          15.9921875,
          15.91796875,
          16.06640625,
          16.029296875,
          16.103515625,
          16.0849609375,
          16.1220703125,
          16.2890625,
          16.21484375,
          16.36328125,
          16.326171875,
          16.400390625,
          16.3818359375,
          16.37255859375,
          16.39111328125,
          16.386474609375,
          16.395751953125,
          16.4189453125,
          16.40966796875,
          16.405029296875,
          16.414306640625,
          16.4119873046875,
          16.41082763671875,
          16.410247802734375,
          16.411407470703125,
          16.41314697265625,
          16.412567138671875,
          16.413726806640625,
          16.4166259765625,
          16.41546630859375,
          16.41778564453125,
          16.42822265625,
          16.423583984375,
          16.432861328125,
          16.4305419921875,
          16.4351806640625,
          16.43402099609375,
          16.43634033203125,
          17.03125,
          16.734375,
          16.5859375,
          16.8828125,
          16.80859375,
          16.95703125,
          17.328125,
          17.1796875,
          17.10546875,
          17.068359375,
          17.142578125,
          17.25390625,
          17.216796875,
          17.1982421875,
          17.18896484375,
          17.20751953125,
          17.2353515625,
          17.22607421875,
          17.24462890625,
          17.239990234375,
          17.249267578125,
          17.291015625,
          17.2724609375,
          17.3095703125,
          17.4765625,
          17.40234375,
          17.365234375,
          17.439453125,
          17.4208984375,
          17.4580078125,
          17.44873046875,
          17.46728515625,
          17.55078125,
          17.513671875,
          17.4951171875,
          17.5322265625,
          17.52294921875,
          17.54150390625,
          17.536865234375,
          17.546142578125,
          17.587890625,
          17.5693359375,
          17.6064453125,
          17.59716796875,
          17.592529296875,
          17.601806640625,
          17.5994873046875,
          17.6041259765625,
          17.61572265625,
          17.611083984375,
          17.6087646484375,
          17.6134033203125,
          17.61224365234375,
          17.611663818359375,
          17.611373901367188,
          17.611228942871094,
          17.61151885986328,
          17.611953735351562,
          17.61180877685547,
          17.611736297607422,
          17.6117000579834,
          17.611772537231445,
          17.611754417419434,
          17.611790657043457,
          17.61178159713745,
          17.611799716949463,
          17.61179518699646,
          17.611804246902466,
          17.611881256103516,
          17.611845016479492,
          17.61191749572754,
          17.611899375915527,
          17.61189031600952,
          17.611908435821533,
          17.61193561553955,
          17.611926555633545,
          17.611944675445557,
          17.611940145492554,
          17.61194920539856,
          17.611946940422058,
          17.61195147037506,
          17.612098693847656,
          17.61202621459961,
          17.611989974975586,
          17.612062454223633,
          17.61204433441162,
          17.612080574035645,
          17.61207151412964,
          17.61208963394165,
          17.612171173095703,
          17.61213493347168,
          17.612116813659668,
          17.612107753753662,
          17.612125873565674,
          17.61212134361267,
          17.612130403518677,
          17.61215305328369,
          17.612143993377686,
          17.612162113189697,
          17.612157583236694,
          17.612155318260193,
          17.612154185771942,
          17.612156450748444,
          17.61215588450432,
          17.61215701699257,
          17.612156733870506,
          17.61215730011463,
          17.612159848213196,
          17.612158715724945,
          17.61215814948082,
          17.61215928196907,
          17.612158998847008,
          17.612158857285976,
          17.61215914040804,
          17.612159565091133,
          17.6121594235301,
          17.612159352749586,
          17.612159494310617,
          17.61215945892036,
          17.612159529700875,
          17.612159706652164,
          17.61215963587165,
          17.61215977743268,
          17.612160980701447,
          17.61216041445732,
          17.612161546945572,
          17.61216126382351,
          17.612161830067635,
          17.612161688506603,
          17.612161971628666,
          17.61216190084815,
          17.61216204240918,
          17.612162007018924,
          17.61216207779944,
          17.6121666431427,
          17.6121643781662,
          17.612163245677948,
          17.61216551065445,
          17.612164944410324,
          17.612166076898575,
          17.6121689081192,
          17.61216777563095,
          17.612170040607452,
          17.612169474363327,
          17.612170606851578,
          17.612170323729515,
          17.61217088997364,
          17.612207412719727,
          17.612189292907715,
          17.61218023300171,
          17.61219835281372,
          17.612193822860718,
          17.612202882766724,
          17.61222553253174,
          17.612216472625732,
          17.61221194267273,
          17.612209677696228,
          17.61221420764923,
          17.612221002578735,
          17.612218737602234,
          17.612223267555237,
          17.612222135066986,
          17.612224400043488,
          17.612223833799362,
          17.6122235506773,
          17.612224116921425,
          17.612223975360394,
          17.612224258482456,
          17.612224966287613,
          17.61222468316555,
          17.612225249409676,
          17.612225107848644,
          17.612225390970707,
          17.612234592437744,
          17.61223006248474,
          17.61222779750824,
          17.612232327461243,
          17.612231194972992,
          17.612233459949493,
          17.612232893705368,
          17.61223402619362,
          17.612233743071556,
          17.61223430931568,
          17.612239122390747,
          17.612236857414246,
          17.61224138736725,
          17.612823486328125,
          17.612533569335938,
          17.612388610839844,
          17.612316131591797,
          17.61246109008789,
          17.61267852783203,
          17.612606048583984,
          17.612751007080078,
          17.613113403320312,
          17.61296844482422,
          17.613258361816406,
          17.61318588256836,
          17.613330841064453,
          17.61456298828125,
          17.613983154296875,
          17.613693237304688,
          17.614273071289062,
          17.61412811279297,
          17.614418029785156,
          17.61434555053711,
          17.614490509033203,
          17.615142822265625,
          17.614852905273438,
          17.615432739257812,
          17.61528778076172,
          17.615577697753906,
          17.620361328125,
          17.6180419921875,
          17.6226806640625,
          17.62152099609375,
          17.62384033203125,
          17.623260498046875,
          17.624420166015625,
          18.8125,
          18.21875,
          17.921875,
          18.515625,
          18.3671875,
          18.6640625,
          18.58984375,
          18.73828125,
          18.701171875,
          18.775390625,
          18.7568359375,
          18.7939453125,
          18.78466796875,
          18.80322265625,
          19.40625,
          19.109375,
          19.703125,
          19.5546875,
          19.8515625,
          19.77734375,
          19.92578125,
          19.888671875,
          19.962890625,
          19.9443359375,
          19.9814453125,
          27.5,
          22.75,
          20.375,
          19.1875,
          21.5625,
          20.96875,
          22.15625,
          25.125,
          23.9375,
          23.34375,
          24.53125,
          24.234375,
          24.0859375,
          24.01171875,
          24.16015625,
          24.123046875,
          24.197265625,
          24.3828125,
          24.30859375,
          24.271484375,
          24.345703125,
          24.45703125,
          24.419921875,
          24.4013671875,
          24.4384765625,
          24.494140625,
          24.4755859375,
          24.5126953125,
          24.50341796875,
          24.52197265625,
          24.517333984375,
          24.5150146484375,
          24.5196533203125,
          24.526611328125,
          24.5242919921875,
          24.5289306640625,
          24.52777099609375,
          24.53009033203125,
          24.828125,
          24.6796875,
          24.60546875,
          24.75390625,
          24.716796875,
          24.791015625,
          24.7724609375,
          24.8095703125,
          24.9765625,
          24.90234375,
          24.865234375,
          24.939453125,
          25.05078125,
          25.013671875,
          24.9951171875,
          25.0322265625,
          25.087890625,
          25.0693359375,
          25.1064453125,
          26.3125,
          25.71875,
          26.90625,
          32.25,
          29.875,
          28.6875,
          31.0625,
          30.46875,
          30.171875,
          30.765625,
          30.6171875,
          30.9140625,
          30.83984375,
          30.98828125,
          31.65625,
          31.359375,
          31.953125,
          31.8046875,
          32.1015625,
          32.02734375,
          32.17578125,
          34.625,
          33.4375,
          32.84375,
          32.546875,
          33.140625,
          32.9921875,
          33.2890625,
          33.21484375,
          33.36328125,
          34.03125,
          33.734375,
          34.328125,
          34.1796875,
          34.4765625,
          34.40234375,
          34.365234375,
          34.439453125,
          34.4208984375,
          34.4580078125,
          34.55078125,
          34.513671875,
          34.4951171875,
          34.5322265625,
          34.587890625,
          34.5693359375,
          34.6064453125,
          34.59716796875,
          34.61572265625,
          35.8125,
          35.21875,
          34.921875,
          35.515625,
          35.3671875,
          35.29296875,
          35.255859375,
          35.2373046875,
          35.2744140625,
          35.330078125,
          35.3115234375,
          35.3486328125,
          35.44140625,
          35.404296875,
          35.478515625,
          35.4599609375,
          35.45068359375,
          35.46923828125,
          35.464599609375,
          35.473876953125,
          35.4970703125,
          35.48779296875,
          35.483154296875,
          35.492431640625,
          35.50634765625,
          35.501708984375,
          35.510986328125,
          35.5086669921875,
          35.5133056640625,
          35.51214599609375,
          35.51446533203125,
          35.6640625,
          35.58984375,
          35.73828125,
          35.701171875,
          35.6826171875,
          35.7197265625,
          35.71044921875,
          35.705810546875,
          35.715087890625,
          35.72900390625,
          35.724365234375,
          35.733642578125,
          35.775390625,
          35.7568359375,
          35.74755859375,
          35.742919921875,
          35.7406005859375,
          35.73944091796875,
          35.74176025390625,
          35.741180419921875,
          35.74089050292969,
          35.74147033691406,
          35.74132537841797,
          35.741615295410156,
          35.742340087890625,
          35.74205017089844,
          35.74263000488281,
          35.74248504638672,
          35.742774963378906,
          35.74270248413086,
          35.74284744262695,
          35.74281120300293,
          35.74288368225098,
          35.7452392578125,
          35.74407958984375,
          35.743499755859375,
          35.74320983886719,
          35.74378967285156,
          35.74364471435547,
          35.743934631347656,
          35.744659423828125,
          35.74436950683594,
          35.74494934082031,
          35.74480438232422,
          35.745094299316406,
          35.74502182006836,
          35.74516677856445,
          35.74513053894043,
          35.74520301818848,
          35.745184898376465,
          35.74522113800049,
          35.74639892578125,
          35.745819091796875,
          35.74552917480469,
          35.745384216308594,
          35.74531173706055,
          35.74545669555664,
          35.74542045593262,
          35.745492935180664,
          35.74547481536865,
          35.745511054992676,
          35.74550199508667,
          35.74552011489868,
          35.74567413330078,
          35.745601654052734,
          35.74574661254883,
          35.745710372924805,
          35.74578285217285,
          35.74576473236084,
          35.74580097198486,
          35.74610900878906,
          35.74596405029297,
          35.74589157104492,
          35.746036529541016,
          35.746253967285156,
          35.74618148803711,
          35.746145248413086,
          35.74621772766113,
          35.7463264465332,
          35.74629020690918,
          35.74636268615723,
          35.746344566345215,
          35.74638080596924,
          35.74637174606323,
          35.746389865875244,
          35.746978759765625,
          35.74668884277344,
          35.746543884277344,
          35.74683380126953,
          35.746761322021484,
          35.74690628051758,
          35.74726867675781,
          35.74712371826172,
          35.74705123901367,
          35.747196197509766,
          35.747413635253906,
          35.74734115600586,
          35.747304916381836,
          35.747286796569824,
          35.74732303619385,
          35.74737739562988,
          35.74735927581787,
          35.747395515441895,
          35.74748611450195,
          35.74744987487793,
          35.74743175506592,
          35.74746799468994,
          35.747458934783936,
          35.74747705459595,
          35.747472524642944,
          35.74748158454895,
          35.74747931957245,
          35.74748384952545,
          35.74752235412598,
          35.747504234313965,
          35.74749517440796,
          35.74751329421997,
          35.74754047393799,
          35.74753141403198,
          35.74752688407898,
          35.747535943984985,
          35.747533679008484,
          35.74753820896149,
          35.747537076473236,
          35.74753934144974,
          35.747549533843994,
          35.74754500389099,
          35.747554063797,
          35.752197265625,
          35.7498779296875,
          35.74871826171875,
          35.75103759765625,
          35.7545166015625,
          35.75335693359375,
          35.75567626953125,
          35.755096435546875,
          35.75480651855469,
          35.75538635253906,
          35.75524139404297,
          35.755531311035156,
          35.756256103515625,
          35.75596618652344,
          35.75654602050781,
          35.75640106201172,
          35.756690979003906,
          35.75661849975586,
          35.75676345825195,
          35.76611328125,
          35.761474609375,
          35.7591552734375,
          35.75799560546875,
          35.757415771484375,
          35.758575439453125,
          35.75828552246094,
          35.75886535644531,
          35.76031494140625,
          35.759735107421875,
          35.760894775390625,
          35.76060485839844,
          35.76118469238281,
          35.76103973388672,
          35.761329650878906,
          35.7637939453125,
          35.76263427734375,
          35.762054443359375,
          35.763214111328125,
          35.76292419433594,
          35.76350402832031,
          35.76495361328125,
          35.764373779296875,
          35.765533447265625,
          35.76524353027344,
          35.765098571777344,
          35.76538848876953,
          35.76582336425781,
          35.76567840576172,
          35.765968322753906,
          35.76589584350586,
          35.76604080200195,
          35.770751953125,
          35.7684326171875,
          35.76727294921875,
          35.76959228515625,
          35.7730712890625,
          35.77191162109375,
          35.771331787109375,
          35.772491455078125,
          35.77220153808594,
          35.77278137207031,
          35.77263641357422,
          35.772926330566406,
          35.77423095703125,
          35.773651123046875,
          35.77336120605469,
          35.77394104003906,
          35.774810791015625,
          35.77452087402344,
          35.77510070800781,
          35.77495574951172,
          35.775245666503906,
          35.7939453125,
          35.78466796875,
          35.780029296875,
          35.789306640625,
          35.7869873046875,
          35.7916259765625,
          35.79046630859375,
          35.79278564453125,
          35.792205810546875,
          35.793365478515625,
          35.80322265625,
          35.798583984375,
          35.7962646484375,
          35.8009033203125,
          35.807861328125,
          35.8055419921875,
          35.8101806640625,
          35.80902099609375,
          35.81134033203125,
          35.810760498046875,
          35.811920166015625,
          36.40625,
          36.109375,
          35.9609375,
          36.2578125,
          36.18359375,
          36.33203125,
          36.294921875,
          36.369140625,
          36.703125,
          36.5546875,
          36.48046875,
          36.62890625,
          36.8515625,
          36.77734375,
          36.92578125,
          36.888671875,
          36.8701171875,
          36.86083984375,
          36.87939453125,
          36.874755859375,
          36.884033203125,
          36.9072265625,
          36.89794921875,
          36.91650390625,
          36.911865234375,
          36.921142578125,
          36.9188232421875,
          36.9234619140625,
          36.962890625,
          36.9443359375,
          36.9814453125,
          36.97216796875,
          36.99072265625,
          36.986083984375,
          36.9837646484375,
          36.9884033203125,
          36.995361328125,
          36.9930419921875,
          36.9976806640625,
          36.99652099609375,
          36.99884033203125
         ],
         "y": [
          5,
          3.5,
          2,
          0.5,
          -1,
          -1,
          0.5,
          -1,
          -2.5,
          -4,
          -4,
          -5.5,
          -5.5,
          -2.5,
          -4,
          -5.5,
          -5.5,
          -7,
          -7,
          -4,
          -5.5,
          -7,
          -7,
          -8.5,
          -8.5,
          -5.5,
          -7,
          -8.5,
          -8.5,
          -7,
          -8.5,
          -10,
          -10,
          -8.5,
          -10,
          -10,
          -1,
          -2.5,
          -2.5,
          -4,
          -4,
          2,
          0.5,
          -1,
          -1,
          0.5,
          -1,
          -2.5,
          -2.5,
          -4,
          -4,
          -1,
          -2.5,
          -2.5,
          -4,
          -5.5,
          -5.5,
          -4,
          -5.5,
          -7,
          -7,
          -8.5,
          -8.5,
          -5.5,
          -7,
          -7,
          -8.5,
          -8.5,
          3.5,
          2,
          0.5,
          -1,
          -2.5,
          -2.5,
          -1,
          -2.5,
          -4,
          -5.5,
          -5.5,
          -7,
          -7,
          -4,
          -5.5,
          -5.5,
          -7,
          -7,
          -2.5,
          -4,
          -5.5,
          -7,
          -7,
          -5.5,
          -7,
          -7,
          -4,
          -5.5,
          -5.5,
          -7,
          -8.5,
          -8.5,
          -10,
          -10,
          -7,
          -8.5,
          -8.5,
          -10,
          -10,
          0.5,
          -1,
          -1,
          -2.5,
          -2.5,
          2,
          0.5,
          -1,
          -2.5,
          -2.5,
          -4,
          -5.5,
          -5.5,
          -7,
          -7,
          -8.5,
          -8.5,
          -4,
          -5.5,
          -5.5,
          -7,
          -7,
          -8.5,
          -10,
          -10,
          -11.5,
          -11.5,
          -8.5,
          -10,
          -11.5,
          -11.5,
          -13,
          -14.5,
          -16,
          -16,
          -14.5,
          -16,
          -16,
          -13,
          -14.5,
          -14.5,
          -10,
          -11.5,
          -11.5,
          -13,
          -13,
          -14.5,
          -14.5,
          -1,
          -2.5,
          -4,
          -4,
          -5.5,
          -5.5,
          -2.5,
          -4,
          -5.5,
          -7,
          -7,
          -5.5,
          -7,
          -8.5,
          -10,
          -10,
          -8.5,
          -10,
          -10,
          -11.5,
          -11.5,
          -7,
          -8.5,
          -8.5,
          -4,
          -5.5,
          -7,
          -7,
          -8.5,
          -8.5,
          -10,
          -10,
          -5.5,
          -7,
          -8.5,
          -8.5,
          -10,
          -10,
          -11.5,
          -11.5,
          -7,
          -8.5,
          -8.5,
          -10,
          -11.5,
          -11.5,
          -13,
          -13,
          -10,
          -11.5,
          -13,
          -13,
          -14.5,
          -16,
          -17.5,
          -19,
          -19,
          -17.5,
          -19,
          -20.5,
          -22,
          -22,
          -23.5,
          -23.5,
          -25,
          -25,
          -26.5,
          -26.5,
          -20.5,
          -22,
          -22,
          -23.5,
          -25,
          -25,
          -23.5,
          -25,
          -25,
          -26.5,
          -26.5,
          -28,
          -28,
          -19,
          -20.5,
          -22,
          -22,
          -23.5,
          -23.5,
          -25,
          -25,
          -20.5,
          -22,
          -23.5,
          -25,
          -25,
          -26.5,
          -26.5,
          -23.5,
          -25,
          -25,
          -26.5,
          -28,
          -29.5,
          -29.5,
          -31,
          -31,
          -32.5,
          -32.5,
          -28,
          -29.5,
          -31,
          -31,
          -32.5,
          -34,
          -34,
          -32.5,
          -34,
          -35.5,
          -35.5,
          -37,
          -37,
          -34,
          -35.5,
          -35.5,
          -29.5,
          -31,
          -31,
          -32.5,
          -32.5,
          -34,
          -34,
          -35.5,
          -35.5,
          -37,
          -37,
          -26.5,
          -28,
          -29.5,
          -29.5,
          -31,
          -31,
          -28,
          -29.5,
          -29.5,
          -31,
          -31,
          -32.5,
          -32.5,
          -22,
          -23.5,
          -25,
          -25,
          -26.5,
          -26.5,
          -23.5,
          -25,
          -26.5,
          -28,
          -28,
          -26.5,
          -28,
          -28,
          -29.5,
          -29.5,
          -31,
          -32.5,
          -32.5,
          -34,
          -34,
          -31,
          -32.5,
          -32.5,
          -34,
          -34,
          -25,
          -26.5,
          -28,
          -28,
          -29.5,
          -29.5,
          -31,
          -31,
          -32.5,
          -32.5,
          -26.5,
          -28,
          -28,
          -16,
          -17.5,
          -19,
          -20.5,
          -20.5,
          -19,
          -20.5,
          -20.5,
          -17.5,
          -19,
          -19,
          -20.5,
          -20.5,
          -14.5,
          -16,
          -17.5,
          -17.5,
          -19,
          -19,
          -20.5,
          -20.5,
          -16,
          -17.5,
          -17.5,
          -19,
          -19,
          -11.5,
          -13,
          -13,
          -14.5,
          -14.5,
          -16,
          -16,
          0.5,
          -1,
          -2.5,
          -2.5,
          -4,
          -4,
          -5.5,
          -5.5,
          -7,
          -7,
          -8.5,
          -8.5,
          -10,
          -10,
          -1,
          -2.5,
          -2.5,
          -4,
          -4,
          -5.5,
          -5.5,
          -7,
          -7,
          -8.5,
          -8.5,
          3.5,
          2,
          0.5,
          -1,
          -1,
          -2.5,
          -2.5,
          0.5,
          -1,
          -2.5,
          -2.5,
          -4,
          -5.5,
          -7,
          -7,
          -8.5,
          -8.5,
          -5.5,
          -7,
          -8.5,
          -8.5,
          -7,
          -8.5,
          -10,
          -10,
          -8.5,
          -10,
          -10,
          -11.5,
          -11.5,
          -13,
          -14.5,
          -14.5,
          -13,
          -14.5,
          -14.5,
          -16,
          -16,
          -4,
          -5.5,
          -7,
          -7,
          -8.5,
          -8.5,
          -10,
          -10,
          -5.5,
          -7,
          -8.5,
          -8.5,
          -7,
          -8.5,
          -10,
          -10,
          -8.5,
          -10,
          -10,
          -1,
          -2.5,
          -2.5,
          2,
          0.5,
          -1,
          -1,
          -2.5,
          -4,
          -4,
          -5.5,
          -5.5,
          -7,
          -7,
          -2.5,
          -4,
          -4,
          -5.5,
          -5.5,
          -7,
          -7,
          0.5,
          -1,
          -2.5,
          -4,
          -4,
          -5.5,
          -5.5,
          -7,
          -7,
          -2.5,
          -4,
          -4,
          -5.5,
          -5.5,
          -7,
          -8.5,
          -8.5,
          -10,
          -10,
          -7,
          -8.5,
          -10,
          -10,
          -8.5,
          -10,
          -10,
          -11.5,
          -11.5,
          -1,
          -2.5,
          -4,
          -4,
          -5.5,
          -7,
          -8.5,
          -10,
          -10,
          -8.5,
          -10,
          -10,
          -7,
          -8.5,
          -8.5,
          -10,
          -11.5,
          -11.5,
          -13,
          -13,
          -10,
          -11.5,
          -13,
          -13,
          -11.5,
          -13,
          -13,
          -14.5,
          -14.5,
          -16,
          -16,
          -5.5,
          -7,
          -7,
          -8.5,
          -10,
          -10,
          -11.5,
          -13,
          -13,
          -11.5,
          -13,
          -13,
          -8.5,
          -10,
          -11.5,
          -13,
          -14.5,
          -16,
          -16,
          -17.5,
          -19,
          -19,
          -20.5,
          -20.5,
          -17.5,
          -19,
          -19,
          -20.5,
          -20.5,
          -22,
          -22,
          -23.5,
          -23.5,
          -14.5,
          -16,
          -17.5,
          -19,
          -19,
          -20.5,
          -20.5,
          -17.5,
          -19,
          -19,
          -20.5,
          -20.5,
          -22,
          -22,
          -23.5,
          -23.5,
          -25,
          -25,
          -16,
          -17.5,
          -19,
          -20.5,
          -22,
          -22,
          -23.5,
          -23.5,
          -25,
          -25,
          -26.5,
          -26.5,
          -20.5,
          -22,
          -22,
          -23.5,
          -23.5,
          -25,
          -25,
          -19,
          -20.5,
          -22,
          -22,
          -20.5,
          -22,
          -23.5,
          -23.5,
          -22,
          -23.5,
          -23.5,
          -25,
          -25,
          -26.5,
          -26.5,
          -17.5,
          -19,
          -20.5,
          -20.5,
          -22,
          -22,
          -19,
          -20.5,
          -22,
          -22,
          -20.5,
          -22,
          -23.5,
          -25,
          -25,
          -23.5,
          -25,
          -25,
          -22,
          -23.5,
          -25,
          -25,
          -26.5,
          -26.5,
          -28,
          -28,
          -29.5,
          -29.5,
          -23.5,
          -25,
          -26.5,
          -26.5,
          -25,
          -26.5,
          -28,
          -28,
          -29.5,
          -29.5,
          -31,
          -31,
          -26.5,
          -28,
          -28,
          -13,
          -14.5,
          -16,
          -16,
          -14.5,
          -16,
          -16,
          -17.5,
          -19,
          -19,
          -20.5,
          -20.5,
          -17.5,
          -19,
          -19,
          -20.5,
          -20.5,
          -22,
          -22,
          -11.5,
          -13,
          -14.5,
          -16,
          -17.5,
          -17.5,
          -19,
          -19,
          -16,
          -17.5,
          -17.5,
          -19,
          -19,
          -20.5,
          -20.5,
          -14.5,
          -16,
          -17.5,
          -17.5,
          -19,
          -19,
          -16,
          -17.5,
          -17.5,
          -19,
          -20.5,
          -20.5,
          -19,
          -20.5,
          -20.5,
          -22,
          -22,
          -13,
          -14.5,
          -16,
          -16,
          -14.5,
          -16,
          -17.5,
          -17.5,
          -19,
          -19,
          -20.5,
          -20.5,
          -16,
          -17.5,
          -19,
          -19,
          -17.5,
          -19,
          -19,
          -20.5,
          -20.5,
          -10,
          -11.5,
          -13,
          -13,
          -14.5,
          -14.5,
          -16,
          -16,
          -17.5,
          -17.5,
          -11.5,
          -13,
          -14.5,
          -14.5,
          -13,
          -14.5,
          -14.5,
          -16,
          -16,
          -17.5,
          -17.5,
          -2.5,
          -4,
          -5.5,
          -5.5,
          -7,
          -7,
          -8.5,
          -8.5,
          -4,
          -5.5,
          -7,
          -7,
          -5.5,
          -7,
          -7,
          -8.5,
          -10,
          -11.5,
          -11.5,
          -13,
          -13,
          -10,
          -11.5,
          -11.5,
          -13,
          -13,
          -14.5,
          -14.5,
          -8.5,
          -10,
          -10,
          -11.5,
          -11.5,
          -13,
          -14.5,
          -14.5,
          -13,
          -14.5,
          -14.5,
          -16,
          -16
         ]
        }
       ],
       "layout": {
        "height": 500,
        "shapes": [
         {
          "layer": "below",
          "line": {
           "color": "#333",
           "width": 4
          },
          "type": "line",
          "x0": 10.5,
          "x1": 10.5,
          "y0": 5,
          "y1": 5
         },
         {
          "layer": "below",
          "line": {
           "color": "#333",
           "width": 4
          },
          "type": "line",
          "x0": 10.5,
          "x1": 5.75,
          "y0": 5,
          "y1": 3.5
         },
         {
          "layer": "below",
          "line": {
           "color": "#333",
           "width": 4
          },
          "type": "line",
          "x0": 5.75,
          "x1": 3.375,
          "y0": 3.5,
          "y1": 2
         },
         {
          "layer": "below",
          "line": {
           "color": "#333",
           "width": 4
          },
          "type": "line",
          "x0": 3.375,
          "x1": 2.1875,
          "y0": 2,
          "y1": 0.5
         },
         {
          "layer": "below",
          "line": {
           "color": "#333",
           "width": 4
          },
          "type": "line",
          "x0": 2.1875,
          "x1": 1.59375,
          "y0": 0.5,
          "y1": -1
         },
         {
          "layer": "below",
          "line": {
           "color": "#333",
           "width": 4
          },
          "type": "line",
          "x0": 2.1875,
          "x1": 2.78125,
          "y0": 0.5,
          "y1": -1
         },
         {
          "layer": "below",
          "line": {
           "color": "#333",
           "width": 4
          },
          "type": "line",
          "x0": 3.375,
          "x1": 4.5625,
          "y0": 2,
          "y1": 0.5
         },
         {
          "layer": "below",
          "line": {
           "color": "#333",
           "width": 4
          },
          "type": "line",
          "x0": 4.5625,
          "x1": 3.96875,
          "y0": 0.5,
          "y1": -1
         },
         {
          "layer": "below",
          "line": {
           "color": "#333",
           "width": 4
          },
          "type": "line",
          "x0": 3.96875,
          "x1": 3.671875,
          "y0": -1,
          "y1": -2.5
         },
         {
          "layer": "below",
          "line": {
           "color": "#333",
           "width": 4
          },
          "type": "line",
          "x0": 3.671875,
          "x1": 3.5234375,
          "y0": -2.5,
          "y1": -4
         },
         {
          "layer": "below",
          "line": {
           "color": "#333",
           "width": 4
          },
          "type": "line",
          "x0": 3.671875,
          "x1": 3.8203125,
          "y0": -2.5,
          "y1": -4
         },
         {
          "layer": "below",
          "line": {
           "color": "#333",
           "width": 4
          },
          "type": "line",
          "x0": 3.8203125,
          "x1": 3.74609375,
          "y0": -4,
          "y1": -5.5
         },
         {
          "layer": "below",
          "line": {
           "color": "#333",
           "width": 4
          },
          "type": "line",
          "x0": 3.8203125,
          "x1": 3.89453125,
          "y0": -4,
          "y1": -5.5
         },
         {
          "layer": "below",
          "line": {
           "color": "#333",
           "width": 4
          },
          "type": "line",
          "x0": 3.96875,
          "x1": 4.265625,
          "y0": -1,
          "y1": -2.5
         },
         {
          "layer": "below",
          "line": {
           "color": "#333",
           "width": 4
          },
          "type": "line",
          "x0": 4.265625,
          "x1": 4.1171875,
          "y0": -2.5,
          "y1": -4
         },
         {
          "layer": "below",
          "line": {
           "color": "#333",
           "width": 4
          },
          "type": "line",
          "x0": 4.1171875,
          "x1": 4.04296875,
          "y0": -4,
          "y1": -5.5
         },
         {
          "layer": "below",
          "line": {
           "color": "#333",
           "width": 4
          },
          "type": "line",
          "x0": 4.1171875,
          "x1": 4.19140625,
          "y0": -4,
          "y1": -5.5
         },
         {
          "layer": "below",
          "line": {
           "color": "#333",
           "width": 4
          },
          "type": "line",
          "x0": 4.19140625,
          "x1": 4.154296875,
          "y0": -5.5,
          "y1": -7
         },
         {
          "layer": "below",
          "line": {
           "color": "#333",
           "width": 4
          },
          "type": "line",
          "x0": 4.19140625,
          "x1": 4.228515625,
          "y0": -5.5,
          "y1": -7
         },
         {
          "layer": "below",
          "line": {
           "color": "#333",
           "width": 4
          },
          "type": "line",
          "x0": 4.265625,
          "x1": 4.4140625,
          "y0": -2.5,
          "y1": -4
         },
         {
          "layer": "below",
          "line": {
           "color": "#333",
           "width": 4
          },
          "type": "line",
          "x0": 4.4140625,
          "x1": 4.33984375,
          "y0": -4,
          "y1": -5.5
         },
         {
          "layer": "below",
          "line": {
           "color": "#333",
           "width": 4
          },
          "type": "line",
          "x0": 4.33984375,
          "x1": 4.302734375,
          "y0": -5.5,
          "y1": -7
         },
         {
          "layer": "below",
          "line": {
           "color": "#333",
           "width": 4
          },
          "type": "line",
          "x0": 4.33984375,
          "x1": 4.376953125,
          "y0": -5.5,
          "y1": -7
         },
         {
          "layer": "below",
          "line": {
           "color": "#333",
           "width": 4
          },
          "type": "line",
          "x0": 4.376953125,
          "x1": 4.3583984375,
          "y0": -7,
          "y1": -8.5
         },
         {
          "layer": "below",
          "line": {
           "color": "#333",
           "width": 4
          },
          "type": "line",
          "x0": 4.376953125,
          "x1": 4.3955078125,
          "y0": -7,
          "y1": -8.5
         },
         {
          "layer": "below",
          "line": {
           "color": "#333",
           "width": 4
          },
          "type": "line",
          "x0": 4.4140625,
          "x1": 4.48828125,
          "y0": -4,
          "y1": -5.5
         },
         {
          "layer": "below",
          "line": {
           "color": "#333",
           "width": 4
          },
          "type": "line",
          "x0": 4.48828125,
          "x1": 4.451171875,
          "y0": -5.5,
          "y1": -7
         },
         {
          "layer": "below",
          "line": {
           "color": "#333",
           "width": 4
          },
          "type": "line",
          "x0": 4.451171875,
          "x1": 4.4326171875,
          "y0": -7,
          "y1": -8.5
         },
         {
          "layer": "below",
          "line": {
           "color": "#333",
           "width": 4
          },
          "type": "line",
          "x0": 4.451171875,
          "x1": 4.4697265625,
          "y0": -7,
          "y1": -8.5
         },
         {
          "layer": "below",
          "line": {
           "color": "#333",
           "width": 4
          },
          "type": "line",
          "x0": 4.48828125,
          "x1": 4.525390625,
          "y0": -5.5,
          "y1": -7
         },
         {
          "layer": "below",
          "line": {
           "color": "#333",
           "width": 4
          },
          "type": "line",
          "x0": 4.525390625,
          "x1": 4.5068359375,
          "y0": -7,
          "y1": -8.5
         },
         {
          "layer": "below",
          "line": {
           "color": "#333",
           "width": 4
          },
          "type": "line",
          "x0": 4.5068359375,
          "x1": 4.49755859375,
          "y0": -8.5,
          "y1": -10
         },
         {
          "layer": "below",
          "line": {
           "color": "#333",
           "width": 4
          },
          "type": "line",
          "x0": 4.5068359375,
          "x1": 4.51611328125,
          "y0": -8.5,
          "y1": -10
         },
         {
          "layer": "below",
          "line": {
           "color": "#333",
           "width": 4
          },
          "type": "line",
          "x0": 4.525390625,
          "x1": 4.5439453125,
          "y0": -7,
          "y1": -8.5
         },
         {
          "layer": "below",
          "line": {
           "color": "#333",
           "width": 4
          },
          "type": "line",
          "x0": 4.5439453125,
          "x1": 4.53466796875,
          "y0": -8.5,
          "y1": -10
         },
         {
          "layer": "below",
          "line": {
           "color": "#333",
           "width": 4
          },
          "type": "line",
          "x0": 4.5439453125,
          "x1": 4.55322265625,
          "y0": -8.5,
          "y1": -10
         },
         {
          "layer": "below",
          "line": {
           "color": "#333",
           "width": 4
          },
          "type": "line",
          "x0": 4.5625,
          "x1": 5.15625,
          "y0": 0.5,
          "y1": -1
         },
         {
          "layer": "below",
          "line": {
           "color": "#333",
           "width": 4
          },
          "type": "line",
          "x0": 5.15625,
          "x1": 4.859375,
          "y0": -1,
          "y1": -2.5
         },
         {
          "layer": "below",
          "line": {
           "color": "#333",
           "width": 4
          },
          "type": "line",
          "x0": 5.15625,
          "x1": 5.453125,
          "y0": -1,
          "y1": -2.5
         },
         {
          "layer": "below",
          "line": {
           "color": "#333",
           "width": 4
          },
          "type": "line",
          "x0": 5.453125,
          "x1": 5.3046875,
          "y0": -2.5,
          "y1": -4
         },
         {
          "layer": "below",
          "line": {
           "color": "#333",
           "width": 4
          },
          "type": "line",
          "x0": 5.453125,
          "x1": 5.6015625,
          "y0": -2.5,
          "y1": -4
         },
         {
          "layer": "below",
          "line": {
           "color": "#333",
           "width": 4
          },
          "type": "line",
          "x0": 5.75,
          "x1": 8.125,
          "y0": 3.5,
          "y1": 2
         },
         {
          "layer": "below",
          "line": {
           "color": "#333",
           "width": 4
          },
          "type": "line",
          "x0": 8.125,
          "x1": 6.9375,
          "y0": 2,
          "y1": 0.5
         },
         {
          "layer": "below",
          "line": {
           "color": "#333",
           "width": 4
          },
          "type": "line",
          "x0": 6.9375,
          "x1": 6.34375,
          "y0": 0.5,
          "y1": -1
         },
         {
          "layer": "below",
          "line": {
           "color": "#333",
           "width": 4
          },
          "type": "line",
          "x0": 6.9375,
          "x1": 7.53125,
          "y0": 0.5,
          "y1": -1
         },
         {
          "layer": "below",
          "line": {
           "color": "#333",
           "width": 4
          },
          "type": "line",
          "x0": 8.125,
          "x1": 9.3125,
          "y0": 2,
          "y1": 0.5
         },
         {
          "layer": "below",
          "line": {
           "color": "#333",
           "width": 4
          },
          "type": "line",
          "x0": 9.3125,
          "x1": 8.71875,
          "y0": 0.5,
          "y1": -1
         },
         {
          "layer": "below",
          "line": {
           "color": "#333",
           "width": 4
          },
          "type": "line",
          "x0": 8.71875,
          "x1": 8.421875,
          "y0": -1,
          "y1": -2.5
         },
         {
          "layer": "below",
          "line": {
           "color": "#333",
           "width": 4
          },
          "type": "line",
          "x0": 8.71875,
          "x1": 9.015625,
          "y0": -1,
          "y1": -2.5
         },
         {
          "layer": "below",
          "line": {
           "color": "#333",
           "width": 4
          },
          "type": "line",
          "x0": 9.015625,
          "x1": 8.8671875,
          "y0": -2.5,
          "y1": -4
         },
         {
          "layer": "below",
          "line": {
           "color": "#333",
           "width": 4
          },
          "type": "line",
          "x0": 9.015625,
          "x1": 9.1640625,
          "y0": -2.5,
          "y1": -4
         },
         {
          "layer": "below",
          "line": {
           "color": "#333",
           "width": 4
          },
          "type": "line",
          "x0": 9.3125,
          "x1": 9.90625,
          "y0": 0.5,
          "y1": -1
         },
         {
          "layer": "below",
          "line": {
           "color": "#333",
           "width": 4
          },
          "type": "line",
          "x0": 9.90625,
          "x1": 9.609375,
          "y0": -1,
          "y1": -2.5
         },
         {
          "layer": "below",
          "line": {
           "color": "#333",
           "width": 4
          },
          "type": "line",
          "x0": 9.90625,
          "x1": 10.203125,
          "y0": -1,
          "y1": -2.5
         },
         {
          "layer": "below",
          "line": {
           "color": "#333",
           "width": 4
          },
          "type": "line",
          "x0": 10.203125,
          "x1": 10.0546875,
          "y0": -2.5,
          "y1": -4
         },
         {
          "layer": "below",
          "line": {
           "color": "#333",
           "width": 4
          },
          "type": "line",
          "x0": 10.0546875,
          "x1": 9.98046875,
          "y0": -4,
          "y1": -5.5
         },
         {
          "layer": "below",
          "line": {
           "color": "#333",
           "width": 4
          },
          "type": "line",
          "x0": 10.0546875,
          "x1": 10.12890625,
          "y0": -4,
          "y1": -5.5
         },
         {
          "layer": "below",
          "line": {
           "color": "#333",
           "width": 4
          },
          "type": "line",
          "x0": 10.203125,
          "x1": 10.3515625,
          "y0": -2.5,
          "y1": -4
         },
         {
          "layer": "below",
          "line": {
           "color": "#333",
           "width": 4
          },
          "type": "line",
          "x0": 10.3515625,
          "x1": 10.27734375,
          "y0": -4,
          "y1": -5.5
         },
         {
          "layer": "below",
          "line": {
           "color": "#333",
           "width": 4
          },
          "type": "line",
          "x0": 10.27734375,
          "x1": 10.240234375,
          "y0": -5.5,
          "y1": -7
         },
         {
          "layer": "below",
          "line": {
           "color": "#333",
           "width": 4
          },
          "type": "line",
          "x0": 10.27734375,
          "x1": 10.314453125,
          "y0": -5.5,
          "y1": -7
         },
         {
          "layer": "below",
          "line": {
           "color": "#333",
           "width": 4
          },
          "type": "line",
          "x0": 10.314453125,
          "x1": 10.2958984375,
          "y0": -7,
          "y1": -8.5
         },
         {
          "layer": "below",
          "line": {
           "color": "#333",
           "width": 4
          },
          "type": "line",
          "x0": 10.314453125,
          "x1": 10.3330078125,
          "y0": -7,
          "y1": -8.5
         },
         {
          "layer": "below",
          "line": {
           "color": "#333",
           "width": 4
          },
          "type": "line",
          "x0": 10.3515625,
          "x1": 10.42578125,
          "y0": -4,
          "y1": -5.5
         },
         {
          "layer": "below",
          "line": {
           "color": "#333",
           "width": 4
          },
          "type": "line",
          "x0": 10.42578125,
          "x1": 10.388671875,
          "y0": -5.5,
          "y1": -7
         },
         {
          "layer": "below",
          "line": {
           "color": "#333",
           "width": 4
          },
          "type": "line",
          "x0": 10.42578125,
          "x1": 10.462890625,
          "y0": -5.5,
          "y1": -7
         },
         {
          "layer": "below",
          "line": {
           "color": "#333",
           "width": 4
          },
          "type": "line",
          "x0": 10.462890625,
          "x1": 10.4443359375,
          "y0": -7,
          "y1": -8.5
         },
         {
          "layer": "below",
          "line": {
           "color": "#333",
           "width": 4
          },
          "type": "line",
          "x0": 10.462890625,
          "x1": 10.4814453125,
          "y0": -7,
          "y1": -8.5
         },
         {
          "layer": "below",
          "line": {
           "color": "#333",
           "width": 4
          },
          "type": "line",
          "x0": 10.5,
          "x1": 15.25,
          "y0": 5,
          "y1": 3.5
         },
         {
          "layer": "below",
          "line": {
           "color": "#333",
           "width": 4
          },
          "type": "line",
          "x0": 15.25,
          "x1": 12.875,
          "y0": 3.5,
          "y1": 2
         },
         {
          "layer": "below",
          "line": {
           "color": "#333",
           "width": 4
          },
          "type": "line",
          "x0": 12.875,
          "x1": 11.6875,
          "y0": 2,
          "y1": 0.5
         },
         {
          "layer": "below",
          "line": {
           "color": "#333",
           "width": 4
          },
          "type": "line",
          "x0": 11.6875,
          "x1": 11.09375,
          "y0": 0.5,
          "y1": -1
         },
         {
          "layer": "below",
          "line": {
           "color": "#333",
           "width": 4
          },
          "type": "line",
          "x0": 11.09375,
          "x1": 10.796875,
          "y0": -1,
          "y1": -2.5
         },
         {
          "layer": "below",
          "line": {
           "color": "#333",
           "width": 4
          },
          "type": "line",
          "x0": 11.09375,
          "x1": 11.390625,
          "y0": -1,
          "y1": -2.5
         },
         {
          "layer": "below",
          "line": {
           "color": "#333",
           "width": 4
          },
          "type": "line",
          "x0": 11.6875,
          "x1": 12.28125,
          "y0": 0.5,
          "y1": -1
         },
         {
          "layer": "below",
          "line": {
           "color": "#333",
           "width": 4
          },
          "type": "line",
          "x0": 12.28125,
          "x1": 11.984375,
          "y0": -1,
          "y1": -2.5
         },
         {
          "layer": "below",
          "line": {
           "color": "#333",
           "width": 4
          },
          "type": "line",
          "x0": 11.984375,
          "x1": 11.8359375,
          "y0": -2.5,
          "y1": -4
         },
         {
          "layer": "below",
          "line": {
           "color": "#333",
           "width": 4
          },
          "type": "line",
          "x0": 11.8359375,
          "x1": 11.76171875,
          "y0": -4,
          "y1": -5.5
         },
         {
          "layer": "below",
          "line": {
           "color": "#333",
           "width": 4
          },
          "type": "line",
          "x0": 11.8359375,
          "x1": 11.91015625,
          "y0": -4,
          "y1": -5.5
         },
         {
          "layer": "below",
          "line": {
           "color": "#333",
           "width": 4
          },
          "type": "line",
          "x0": 11.91015625,
          "x1": 11.873046875,
          "y0": -5.5,
          "y1": -7
         },
         {
          "layer": "below",
          "line": {
           "color": "#333",
           "width": 4
          },
          "type": "line",
          "x0": 11.91015625,
          "x1": 11.947265625,
          "y0": -5.5,
          "y1": -7
         },
         {
          "layer": "below",
          "line": {
           "color": "#333",
           "width": 4
          },
          "type": "line",
          "x0": 11.984375,
          "x1": 12.1328125,
          "y0": -2.5,
          "y1": -4
         },
         {
          "layer": "below",
          "line": {
           "color": "#333",
           "width": 4
          },
          "type": "line",
          "x0": 12.1328125,
          "x1": 12.05859375,
          "y0": -4,
          "y1": -5.5
         },
         {
          "layer": "below",
          "line": {
           "color": "#333",
           "width": 4
          },
          "type": "line",
          "x0": 12.1328125,
          "x1": 12.20703125,
          "y0": -4,
          "y1": -5.5
         },
         {
          "layer": "below",
          "line": {
           "color": "#333",
           "width": 4
          },
          "type": "line",
          "x0": 12.20703125,
          "x1": 12.169921875,
          "y0": -5.5,
          "y1": -7
         },
         {
          "layer": "below",
          "line": {
           "color": "#333",
           "width": 4
          },
          "type": "line",
          "x0": 12.20703125,
          "x1": 12.244140625,
          "y0": -5.5,
          "y1": -7
         },
         {
          "layer": "below",
          "line": {
           "color": "#333",
           "width": 4
          },
          "type": "line",
          "x0": 12.28125,
          "x1": 12.578125,
          "y0": -1,
          "y1": -2.5
         },
         {
          "layer": "below",
          "line": {
           "color": "#333",
           "width": 4
          },
          "type": "line",
          "x0": 12.578125,
          "x1": 12.4296875,
          "y0": -2.5,
          "y1": -4
         },
         {
          "layer": "below",
          "line": {
           "color": "#333",
           "width": 4
          },
          "type": "line",
          "x0": 12.4296875,
          "x1": 12.35546875,
          "y0": -4,
          "y1": -5.5
         },
         {
          "layer": "below",
          "line": {
           "color": "#333",
           "width": 4
          },
          "type": "line",
          "x0": 12.35546875,
          "x1": 12.318359375,
          "y0": -5.5,
          "y1": -7
         },
         {
          "layer": "below",
          "line": {
           "color": "#333",
           "width": 4
          },
          "type": "line",
          "x0": 12.35546875,
          "x1": 12.392578125,
          "y0": -5.5,
          "y1": -7
         },
         {
          "layer": "below",
          "line": {
           "color": "#333",
           "width": 4
          },
          "type": "line",
          "x0": 12.4296875,
          "x1": 12.50390625,
          "y0": -4,
          "y1": -5.5
         },
         {
          "layer": "below",
          "line": {
           "color": "#333",
           "width": 4
          },
          "type": "line",
          "x0": 12.50390625,
          "x1": 12.466796875,
          "y0": -5.5,
          "y1": -7
         },
         {
          "layer": "below",
          "line": {
           "color": "#333",
           "width": 4
          },
          "type": "line",
          "x0": 12.50390625,
          "x1": 12.541015625,
          "y0": -5.5,
          "y1": -7
         },
         {
          "layer": "below",
          "line": {
           "color": "#333",
           "width": 4
          },
          "type": "line",
          "x0": 12.578125,
          "x1": 12.7265625,
          "y0": -2.5,
          "y1": -4
         },
         {
          "layer": "below",
          "line": {
           "color": "#333",
           "width": 4
          },
          "type": "line",
          "x0": 12.7265625,
          "x1": 12.65234375,
          "y0": -4,
          "y1": -5.5
         },
         {
          "layer": "below",
          "line": {
           "color": "#333",
           "width": 4
          },
          "type": "line",
          "x0": 12.7265625,
          "x1": 12.80078125,
          "y0": -4,
          "y1": -5.5
         },
         {
          "layer": "below",
          "line": {
           "color": "#333",
           "width": 4
          },
          "type": "line",
          "x0": 12.80078125,
          "x1": 12.763671875,
          "y0": -5.5,
          "y1": -7
         },
         {
          "layer": "below",
          "line": {
           "color": "#333",
           "width": 4
          },
          "type": "line",
          "x0": 12.763671875,
          "x1": 12.7451171875,
          "y0": -7,
          "y1": -8.5
         },
         {
          "layer": "below",
          "line": {
           "color": "#333",
           "width": 4
          },
          "type": "line",
          "x0": 12.763671875,
          "x1": 12.7822265625,
          "y0": -7,
          "y1": -8.5
         },
         {
          "layer": "below",
          "line": {
           "color": "#333",
           "width": 4
          },
          "type": "line",
          "x0": 12.7822265625,
          "x1": 12.77294921875,
          "y0": -8.5,
          "y1": -10
         },
         {
          "layer": "below",
          "line": {
           "color": "#333",
           "width": 4
          },
          "type": "line",
          "x0": 12.7822265625,
          "x1": 12.79150390625,
          "y0": -8.5,
          "y1": -10
         },
         {
          "layer": "below",
          "line": {
           "color": "#333",
           "width": 4
          },
          "type": "line",
          "x0": 12.80078125,
          "x1": 12.837890625,
          "y0": -5.5,
          "y1": -7
         },
         {
          "layer": "below",
          "line": {
           "color": "#333",
           "width": 4
          },
          "type": "line",
          "x0": 12.837890625,
          "x1": 12.8193359375,
          "y0": -7,
          "y1": -8.5
         },
         {
          "layer": "below",
          "line": {
           "color": "#333",
           "width": 4
          },
          "type": "line",
          "x0": 12.837890625,
          "x1": 12.8564453125,
          "y0": -7,
          "y1": -8.5
         },
         {
          "layer": "below",
          "line": {
           "color": "#333",
           "width": 4
          },
          "type": "line",
          "x0": 12.8564453125,
          "x1": 12.84716796875,
          "y0": -8.5,
          "y1": -10
         },
         {
          "layer": "below",
          "line": {
           "color": "#333",
           "width": 4
          },
          "type": "line",
          "x0": 12.8564453125,
          "x1": 12.86572265625,
          "y0": -8.5,
          "y1": -10
         },
         {
          "layer": "below",
          "line": {
           "color": "#333",
           "width": 4
          },
          "type": "line",
          "x0": 12.875,
          "x1": 14.0625,
          "y0": 2,
          "y1": 0.5
         },
         {
          "layer": "below",
          "line": {
           "color": "#333",
           "width": 4
          },
          "type": "line",
          "x0": 14.0625,
          "x1": 13.46875,
          "y0": 0.5,
          "y1": -1
         },
         {
          "layer": "below",
          "line": {
           "color": "#333",
           "width": 4
          },
          "type": "line",
          "x0": 14.0625,
          "x1": 14.65625,
          "y0": 0.5,
          "y1": -1
         },
         {
          "layer": "below",
          "line": {
           "color": "#333",
           "width": 4
          },
          "type": "line",
          "x0": 14.65625,
          "x1": 14.359375,
          "y0": -1,
          "y1": -2.5
         },
         {
          "layer": "below",
          "line": {
           "color": "#333",
           "width": 4
          },
          "type": "line",
          "x0": 14.65625,
          "x1": 14.953125,
          "y0": -1,
          "y1": -2.5
         },
         {
          "layer": "below",
          "line": {
           "color": "#333",
           "width": 4
          },
          "type": "line",
          "x0": 15.25,
          "x1": 17.625,
          "y0": 3.5,
          "y1": 2
         },
         {
          "layer": "below",
          "line": {
           "color": "#333",
           "width": 4
          },
          "type": "line",
          "x0": 17.625,
          "x1": 16.4375,
          "y0": 2,
          "y1": 0.5
         },
         {
          "layer": "below",
          "line": {
           "color": "#333",
           "width": 4
          },
          "type": "line",
          "x0": 16.4375,
          "x1": 15.84375,
          "y0": 0.5,
          "y1": -1
         },
         {
          "layer": "below",
          "line": {
           "color": "#333",
           "width": 4
          },
          "type": "line",
          "x0": 15.84375,
          "x1": 15.546875,
          "y0": -1,
          "y1": -2.5
         },
         {
          "layer": "below",
          "line": {
           "color": "#333",
           "width": 4
          },
          "type": "line",
          "x0": 15.84375,
          "x1": 16.140625,
          "y0": -1,
          "y1": -2.5
         },
         {
          "layer": "below",
          "line": {
           "color": "#333",
           "width": 4
          },
          "type": "line",
          "x0": 16.140625,
          "x1": 15.9921875,
          "y0": -2.5,
          "y1": -4
         },
         {
          "layer": "below",
          "line": {
           "color": "#333",
           "width": 4
          },
          "type": "line",
          "x0": 15.9921875,
          "x1": 15.91796875,
          "y0": -4,
          "y1": -5.5
         },
         {
          "layer": "below",
          "line": {
           "color": "#333",
           "width": 4
          },
          "type": "line",
          "x0": 15.9921875,
          "x1": 16.06640625,
          "y0": -4,
          "y1": -5.5
         },
         {
          "layer": "below",
          "line": {
           "color": "#333",
           "width": 4
          },
          "type": "line",
          "x0": 16.06640625,
          "x1": 16.029296875,
          "y0": -5.5,
          "y1": -7
         },
         {
          "layer": "below",
          "line": {
           "color": "#333",
           "width": 4
          },
          "type": "line",
          "x0": 16.06640625,
          "x1": 16.103515625,
          "y0": -5.5,
          "y1": -7
         },
         {
          "layer": "below",
          "line": {
           "color": "#333",
           "width": 4
          },
          "type": "line",
          "x0": 16.103515625,
          "x1": 16.0849609375,
          "y0": -7,
          "y1": -8.5
         },
         {
          "layer": "below",
          "line": {
           "color": "#333",
           "width": 4
          },
          "type": "line",
          "x0": 16.103515625,
          "x1": 16.1220703125,
          "y0": -7,
          "y1": -8.5
         },
         {
          "layer": "below",
          "line": {
           "color": "#333",
           "width": 4
          },
          "type": "line",
          "x0": 16.140625,
          "x1": 16.2890625,
          "y0": -2.5,
          "y1": -4
         },
         {
          "layer": "below",
          "line": {
           "color": "#333",
           "width": 4
          },
          "type": "line",
          "x0": 16.2890625,
          "x1": 16.21484375,
          "y0": -4,
          "y1": -5.5
         },
         {
          "layer": "below",
          "line": {
           "color": "#333",
           "width": 4
          },
          "type": "line",
          "x0": 16.2890625,
          "x1": 16.36328125,
          "y0": -4,
          "y1": -5.5
         },
         {
          "layer": "below",
          "line": {
           "color": "#333",
           "width": 4
          },
          "type": "line",
          "x0": 16.36328125,
          "x1": 16.326171875,
          "y0": -5.5,
          "y1": -7
         },
         {
          "layer": "below",
          "line": {
           "color": "#333",
           "width": 4
          },
          "type": "line",
          "x0": 16.36328125,
          "x1": 16.400390625,
          "y0": -5.5,
          "y1": -7
         },
         {
          "layer": "below",
          "line": {
           "color": "#333",
           "width": 4
          },
          "type": "line",
          "x0": 16.400390625,
          "x1": 16.3818359375,
          "y0": -7,
          "y1": -8.5
         },
         {
          "layer": "below",
          "line": {
           "color": "#333",
           "width": 4
          },
          "type": "line",
          "x0": 16.3818359375,
          "x1": 16.37255859375,
          "y0": -8.5,
          "y1": -10
         },
         {
          "layer": "below",
          "line": {
           "color": "#333",
           "width": 4
          },
          "type": "line",
          "x0": 16.3818359375,
          "x1": 16.39111328125,
          "y0": -8.5,
          "y1": -10
         },
         {
          "layer": "below",
          "line": {
           "color": "#333",
           "width": 4
          },
          "type": "line",
          "x0": 16.39111328125,
          "x1": 16.386474609375,
          "y0": -10,
          "y1": -11.5
         },
         {
          "layer": "below",
          "line": {
           "color": "#333",
           "width": 4
          },
          "type": "line",
          "x0": 16.39111328125,
          "x1": 16.395751953125,
          "y0": -10,
          "y1": -11.5
         },
         {
          "layer": "below",
          "line": {
           "color": "#333",
           "width": 4
          },
          "type": "line",
          "x0": 16.400390625,
          "x1": 16.4189453125,
          "y0": -7,
          "y1": -8.5
         },
         {
          "layer": "below",
          "line": {
           "color": "#333",
           "width": 4
          },
          "type": "line",
          "x0": 16.4189453125,
          "x1": 16.40966796875,
          "y0": -8.5,
          "y1": -10
         },
         {
          "layer": "below",
          "line": {
           "color": "#333",
           "width": 4
          },
          "type": "line",
          "x0": 16.40966796875,
          "x1": 16.405029296875,
          "y0": -10,
          "y1": -11.5
         },
         {
          "layer": "below",
          "line": {
           "color": "#333",
           "width": 4
          },
          "type": "line",
          "x0": 16.40966796875,
          "x1": 16.414306640625,
          "y0": -10,
          "y1": -11.5
         },
         {
          "layer": "below",
          "line": {
           "color": "#333",
           "width": 4
          },
          "type": "line",
          "x0": 16.414306640625,
          "x1": 16.4119873046875,
          "y0": -11.5,
          "y1": -13
         },
         {
          "layer": "below",
          "line": {
           "color": "#333",
           "width": 4
          },
          "type": "line",
          "x0": 16.4119873046875,
          "x1": 16.41082763671875,
          "y0": -13,
          "y1": -14.5
         },
         {
          "layer": "below",
          "line": {
           "color": "#333",
           "width": 4
          },
          "type": "line",
          "x0": 16.41082763671875,
          "x1": 16.410247802734375,
          "y0": -14.5,
          "y1": -16
         },
         {
          "layer": "below",
          "line": {
           "color": "#333",
           "width": 4
          },
          "type": "line",
          "x0": 16.41082763671875,
          "x1": 16.411407470703125,
          "y0": -14.5,
          "y1": -16
         },
         {
          "layer": "below",
          "line": {
           "color": "#333",
           "width": 4
          },
          "type": "line",
          "x0": 16.4119873046875,
          "x1": 16.41314697265625,
          "y0": -13,
          "y1": -14.5
         },
         {
          "layer": "below",
          "line": {
           "color": "#333",
           "width": 4
          },
          "type": "line",
          "x0": 16.41314697265625,
          "x1": 16.412567138671875,
          "y0": -14.5,
          "y1": -16
         },
         {
          "layer": "below",
          "line": {
           "color": "#333",
           "width": 4
          },
          "type": "line",
          "x0": 16.41314697265625,
          "x1": 16.413726806640625,
          "y0": -14.5,
          "y1": -16
         },
         {
          "layer": "below",
          "line": {
           "color": "#333",
           "width": 4
          },
          "type": "line",
          "x0": 16.414306640625,
          "x1": 16.4166259765625,
          "y0": -11.5,
          "y1": -13
         },
         {
          "layer": "below",
          "line": {
           "color": "#333",
           "width": 4
          },
          "type": "line",
          "x0": 16.4166259765625,
          "x1": 16.41546630859375,
          "y0": -13,
          "y1": -14.5
         },
         {
          "layer": "below",
          "line": {
           "color": "#333",
           "width": 4
          },
          "type": "line",
          "x0": 16.4166259765625,
          "x1": 16.41778564453125,
          "y0": -13,
          "y1": -14.5
         },
         {
          "layer": "below",
          "line": {
           "color": "#333",
           "width": 4
          },
          "type": "line",
          "x0": 16.4189453125,
          "x1": 16.42822265625,
          "y0": -8.5,
          "y1": -10
         },
         {
          "layer": "below",
          "line": {
           "color": "#333",
           "width": 4
          },
          "type": "line",
          "x0": 16.42822265625,
          "x1": 16.423583984375,
          "y0": -10,
          "y1": -11.5
         },
         {
          "layer": "below",
          "line": {
           "color": "#333",
           "width": 4
          },
          "type": "line",
          "x0": 16.42822265625,
          "x1": 16.432861328125,
          "y0": -10,
          "y1": -11.5
         },
         {
          "layer": "below",
          "line": {
           "color": "#333",
           "width": 4
          },
          "type": "line",
          "x0": 16.432861328125,
          "x1": 16.4305419921875,
          "y0": -11.5,
          "y1": -13
         },
         {
          "layer": "below",
          "line": {
           "color": "#333",
           "width": 4
          },
          "type": "line",
          "x0": 16.432861328125,
          "x1": 16.4351806640625,
          "y0": -11.5,
          "y1": -13
         },
         {
          "layer": "below",
          "line": {
           "color": "#333",
           "width": 4
          },
          "type": "line",
          "x0": 16.4351806640625,
          "x1": 16.43402099609375,
          "y0": -13,
          "y1": -14.5
         },
         {
          "layer": "below",
          "line": {
           "color": "#333",
           "width": 4
          },
          "type": "line",
          "x0": 16.4351806640625,
          "x1": 16.43634033203125,
          "y0": -13,
          "y1": -14.5
         },
         {
          "layer": "below",
          "line": {
           "color": "#333",
           "width": 4
          },
          "type": "line",
          "x0": 16.4375,
          "x1": 17.03125,
          "y0": 0.5,
          "y1": -1
         },
         {
          "layer": "below",
          "line": {
           "color": "#333",
           "width": 4
          },
          "type": "line",
          "x0": 17.03125,
          "x1": 16.734375,
          "y0": -1,
          "y1": -2.5
         },
         {
          "layer": "below",
          "line": {
           "color": "#333",
           "width": 4
          },
          "type": "line",
          "x0": 16.734375,
          "x1": 16.5859375,
          "y0": -2.5,
          "y1": -4
         },
         {
          "layer": "below",
          "line": {
           "color": "#333",
           "width": 4
          },
          "type": "line",
          "x0": 16.734375,
          "x1": 16.8828125,
          "y0": -2.5,
          "y1": -4
         },
         {
          "layer": "below",
          "line": {
           "color": "#333",
           "width": 4
          },
          "type": "line",
          "x0": 16.8828125,
          "x1": 16.80859375,
          "y0": -4,
          "y1": -5.5
         },
         {
          "layer": "below",
          "line": {
           "color": "#333",
           "width": 4
          },
          "type": "line",
          "x0": 16.8828125,
          "x1": 16.95703125,
          "y0": -4,
          "y1": -5.5
         },
         {
          "layer": "below",
          "line": {
           "color": "#333",
           "width": 4
          },
          "type": "line",
          "x0": 17.03125,
          "x1": 17.328125,
          "y0": -1,
          "y1": -2.5
         },
         {
          "layer": "below",
          "line": {
           "color": "#333",
           "width": 4
          },
          "type": "line",
          "x0": 17.328125,
          "x1": 17.1796875,
          "y0": -2.5,
          "y1": -4
         },
         {
          "layer": "below",
          "line": {
           "color": "#333",
           "width": 4
          },
          "type": "line",
          "x0": 17.1796875,
          "x1": 17.10546875,
          "y0": -4,
          "y1": -5.5
         },
         {
          "layer": "below",
          "line": {
           "color": "#333",
           "width": 4
          },
          "type": "line",
          "x0": 17.10546875,
          "x1": 17.068359375,
          "y0": -5.5,
          "y1": -7
         },
         {
          "layer": "below",
          "line": {
           "color": "#333",
           "width": 4
          },
          "type": "line",
          "x0": 17.10546875,
          "x1": 17.142578125,
          "y0": -5.5,
          "y1": -7
         },
         {
          "layer": "below",
          "line": {
           "color": "#333",
           "width": 4
          },
          "type": "line",
          "x0": 17.1796875,
          "x1": 17.25390625,
          "y0": -4,
          "y1": -5.5
         },
         {
          "layer": "below",
          "line": {
           "color": "#333",
           "width": 4
          },
          "type": "line",
          "x0": 17.25390625,
          "x1": 17.216796875,
          "y0": -5.5,
          "y1": -7
         },
         {
          "layer": "below",
          "line": {
           "color": "#333",
           "width": 4
          },
          "type": "line",
          "x0": 17.216796875,
          "x1": 17.1982421875,
          "y0": -7,
          "y1": -8.5
         },
         {
          "layer": "below",
          "line": {
           "color": "#333",
           "width": 4
          },
          "type": "line",
          "x0": 17.1982421875,
          "x1": 17.18896484375,
          "y0": -8.5,
          "y1": -10
         },
         {
          "layer": "below",
          "line": {
           "color": "#333",
           "width": 4
          },
          "type": "line",
          "x0": 17.1982421875,
          "x1": 17.20751953125,
          "y0": -8.5,
          "y1": -10
         },
         {
          "layer": "below",
          "line": {
           "color": "#333",
           "width": 4
          },
          "type": "line",
          "x0": 17.216796875,
          "x1": 17.2353515625,
          "y0": -7,
          "y1": -8.5
         },
         {
          "layer": "below",
          "line": {
           "color": "#333",
           "width": 4
          },
          "type": "line",
          "x0": 17.2353515625,
          "x1": 17.22607421875,
          "y0": -8.5,
          "y1": -10
         },
         {
          "layer": "below",
          "line": {
           "color": "#333",
           "width": 4
          },
          "type": "line",
          "x0": 17.2353515625,
          "x1": 17.24462890625,
          "y0": -8.5,
          "y1": -10
         },
         {
          "layer": "below",
          "line": {
           "color": "#333",
           "width": 4
          },
          "type": "line",
          "x0": 17.24462890625,
          "x1": 17.239990234375,
          "y0": -10,
          "y1": -11.5
         },
         {
          "layer": "below",
          "line": {
           "color": "#333",
           "width": 4
          },
          "type": "line",
          "x0": 17.24462890625,
          "x1": 17.249267578125,
          "y0": -10,
          "y1": -11.5
         },
         {
          "layer": "below",
          "line": {
           "color": "#333",
           "width": 4
          },
          "type": "line",
          "x0": 17.25390625,
          "x1": 17.291015625,
          "y0": -5.5,
          "y1": -7
         },
         {
          "layer": "below",
          "line": {
           "color": "#333",
           "width": 4
          },
          "type": "line",
          "x0": 17.291015625,
          "x1": 17.2724609375,
          "y0": -7,
          "y1": -8.5
         },
         {
          "layer": "below",
          "line": {
           "color": "#333",
           "width": 4
          },
          "type": "line",
          "x0": 17.291015625,
          "x1": 17.3095703125,
          "y0": -7,
          "y1": -8.5
         },
         {
          "layer": "below",
          "line": {
           "color": "#333",
           "width": 4
          },
          "type": "line",
          "x0": 17.328125,
          "x1": 17.4765625,
          "y0": -2.5,
          "y1": -4
         },
         {
          "layer": "below",
          "line": {
           "color": "#333",
           "width": 4
          },
          "type": "line",
          "x0": 17.4765625,
          "x1": 17.40234375,
          "y0": -4,
          "y1": -5.5
         },
         {
          "layer": "below",
          "line": {
           "color": "#333",
           "width": 4
          },
          "type": "line",
          "x0": 17.40234375,
          "x1": 17.365234375,
          "y0": -5.5,
          "y1": -7
         },
         {
          "layer": "below",
          "line": {
           "color": "#333",
           "width": 4
          },
          "type": "line",
          "x0": 17.40234375,
          "x1": 17.439453125,
          "y0": -5.5,
          "y1": -7
         },
         {
          "layer": "below",
          "line": {
           "color": "#333",
           "width": 4
          },
          "type": "line",
          "x0": 17.439453125,
          "x1": 17.4208984375,
          "y0": -7,
          "y1": -8.5
         },
         {
          "layer": "below",
          "line": {
           "color": "#333",
           "width": 4
          },
          "type": "line",
          "x0": 17.439453125,
          "x1": 17.4580078125,
          "y0": -7,
          "y1": -8.5
         },
         {
          "layer": "below",
          "line": {
           "color": "#333",
           "width": 4
          },
          "type": "line",
          "x0": 17.4580078125,
          "x1": 17.44873046875,
          "y0": -8.5,
          "y1": -10
         },
         {
          "layer": "below",
          "line": {
           "color": "#333",
           "width": 4
          },
          "type": "line",
          "x0": 17.4580078125,
          "x1": 17.46728515625,
          "y0": -8.5,
          "y1": -10
         },
         {
          "layer": "below",
          "line": {
           "color": "#333",
           "width": 4
          },
          "type": "line",
          "x0": 17.4765625,
          "x1": 17.55078125,
          "y0": -4,
          "y1": -5.5
         },
         {
          "layer": "below",
          "line": {
           "color": "#333",
           "width": 4
          },
          "type": "line",
          "x0": 17.55078125,
          "x1": 17.513671875,
          "y0": -5.5,
          "y1": -7
         },
         {
          "layer": "below",
          "line": {
           "color": "#333",
           "width": 4
          },
          "type": "line",
          "x0": 17.513671875,
          "x1": 17.4951171875,
          "y0": -7,
          "y1": -8.5
         },
         {
          "layer": "below",
          "line": {
           "color": "#333",
           "width": 4
          },
          "type": "line",
          "x0": 17.513671875,
          "x1": 17.5322265625,
          "y0": -7,
          "y1": -8.5
         },
         {
          "layer": "below",
          "line": {
           "color": "#333",
           "width": 4
          },
          "type": "line",
          "x0": 17.5322265625,
          "x1": 17.52294921875,
          "y0": -8.5,
          "y1": -10
         },
         {
          "layer": "below",
          "line": {
           "color": "#333",
           "width": 4
          },
          "type": "line",
          "x0": 17.5322265625,
          "x1": 17.54150390625,
          "y0": -8.5,
          "y1": -10
         },
         {
          "layer": "below",
          "line": {
           "color": "#333",
           "width": 4
          },
          "type": "line",
          "x0": 17.54150390625,
          "x1": 17.536865234375,
          "y0": -10,
          "y1": -11.5
         },
         {
          "layer": "below",
          "line": {
           "color": "#333",
           "width": 4
          },
          "type": "line",
          "x0": 17.54150390625,
          "x1": 17.546142578125,
          "y0": -10,
          "y1": -11.5
         },
         {
          "layer": "below",
          "line": {
           "color": "#333",
           "width": 4
          },
          "type": "line",
          "x0": 17.55078125,
          "x1": 17.587890625,
          "y0": -5.5,
          "y1": -7
         },
         {
          "layer": "below",
          "line": {
           "color": "#333",
           "width": 4
          },
          "type": "line",
          "x0": 17.587890625,
          "x1": 17.5693359375,
          "y0": -7,
          "y1": -8.5
         },
         {
          "layer": "below",
          "line": {
           "color": "#333",
           "width": 4
          },
          "type": "line",
          "x0": 17.587890625,
          "x1": 17.6064453125,
          "y0": -7,
          "y1": -8.5
         },
         {
          "layer": "below",
          "line": {
           "color": "#333",
           "width": 4
          },
          "type": "line",
          "x0": 17.6064453125,
          "x1": 17.59716796875,
          "y0": -8.5,
          "y1": -10
         },
         {
          "layer": "below",
          "line": {
           "color": "#333",
           "width": 4
          },
          "type": "line",
          "x0": 17.59716796875,
          "x1": 17.592529296875,
          "y0": -10,
          "y1": -11.5
         },
         {
          "layer": "below",
          "line": {
           "color": "#333",
           "width": 4
          },
          "type": "line",
          "x0": 17.59716796875,
          "x1": 17.601806640625,
          "y0": -10,
          "y1": -11.5
         },
         {
          "layer": "below",
          "line": {
           "color": "#333",
           "width": 4
          },
          "type": "line",
          "x0": 17.601806640625,
          "x1": 17.5994873046875,
          "y0": -11.5,
          "y1": -13
         },
         {
          "layer": "below",
          "line": {
           "color": "#333",
           "width": 4
          },
          "type": "line",
          "x0": 17.601806640625,
          "x1": 17.6041259765625,
          "y0": -11.5,
          "y1": -13
         },
         {
          "layer": "below",
          "line": {
           "color": "#333",
           "width": 4
          },
          "type": "line",
          "x0": 17.6064453125,
          "x1": 17.61572265625,
          "y0": -8.5,
          "y1": -10
         },
         {
          "layer": "below",
          "line": {
           "color": "#333",
           "width": 4
          },
          "type": "line",
          "x0": 17.61572265625,
          "x1": 17.611083984375,
          "y0": -10,
          "y1": -11.5
         },
         {
          "layer": "below",
          "line": {
           "color": "#333",
           "width": 4
          },
          "type": "line",
          "x0": 17.611083984375,
          "x1": 17.6087646484375,
          "y0": -11.5,
          "y1": -13
         },
         {
          "layer": "below",
          "line": {
           "color": "#333",
           "width": 4
          },
          "type": "line",
          "x0": 17.611083984375,
          "x1": 17.6134033203125,
          "y0": -11.5,
          "y1": -13
         },
         {
          "layer": "below",
          "line": {
           "color": "#333",
           "width": 4
          },
          "type": "line",
          "x0": 17.6134033203125,
          "x1": 17.61224365234375,
          "y0": -13,
          "y1": -14.5
         },
         {
          "layer": "below",
          "line": {
           "color": "#333",
           "width": 4
          },
          "type": "line",
          "x0": 17.61224365234375,
          "x1": 17.611663818359375,
          "y0": -14.5,
          "y1": -16
         },
         {
          "layer": "below",
          "line": {
           "color": "#333",
           "width": 4
          },
          "type": "line",
          "x0": 17.611663818359375,
          "x1": 17.611373901367188,
          "y0": -16,
          "y1": -17.5
         },
         {
          "layer": "below",
          "line": {
           "color": "#333",
           "width": 4
          },
          "type": "line",
          "x0": 17.611373901367188,
          "x1": 17.611228942871094,
          "y0": -17.5,
          "y1": -19
         },
         {
          "layer": "below",
          "line": {
           "color": "#333",
           "width": 4
          },
          "type": "line",
          "x0": 17.611373901367188,
          "x1": 17.61151885986328,
          "y0": -17.5,
          "y1": -19
         },
         {
          "layer": "below",
          "line": {
           "color": "#333",
           "width": 4
          },
          "type": "line",
          "x0": 17.611663818359375,
          "x1": 17.611953735351562,
          "y0": -16,
          "y1": -17.5
         },
         {
          "layer": "below",
          "line": {
           "color": "#333",
           "width": 4
          },
          "type": "line",
          "x0": 17.611953735351562,
          "x1": 17.61180877685547,
          "y0": -17.5,
          "y1": -19
         },
         {
          "layer": "below",
          "line": {
           "color": "#333",
           "width": 4
          },
          "type": "line",
          "x0": 17.61180877685547,
          "x1": 17.611736297607422,
          "y0": -19,
          "y1": -20.5
         },
         {
          "layer": "below",
          "line": {
           "color": "#333",
           "width": 4
          },
          "type": "line",
          "x0": 17.611736297607422,
          "x1": 17.6117000579834,
          "y0": -20.5,
          "y1": -22
         },
         {
          "layer": "below",
          "line": {
           "color": "#333",
           "width": 4
          },
          "type": "line",
          "x0": 17.611736297607422,
          "x1": 17.611772537231445,
          "y0": -20.5,
          "y1": -22
         },
         {
          "layer": "below",
          "line": {
           "color": "#333",
           "width": 4
          },
          "type": "line",
          "x0": 17.611772537231445,
          "x1": 17.611754417419434,
          "y0": -22,
          "y1": -23.5
         },
         {
          "layer": "below",
          "line": {
           "color": "#333",
           "width": 4
          },
          "type": "line",
          "x0": 17.611772537231445,
          "x1": 17.611790657043457,
          "y0": -22,
          "y1": -23.5
         },
         {
          "layer": "below",
          "line": {
           "color": "#333",
           "width": 4
          },
          "type": "line",
          "x0": 17.611790657043457,
          "x1": 17.61178159713745,
          "y0": -23.5,
          "y1": -25
         },
         {
          "layer": "below",
          "line": {
           "color": "#333",
           "width": 4
          },
          "type": "line",
          "x0": 17.611790657043457,
          "x1": 17.611799716949463,
          "y0": -23.5,
          "y1": -25
         },
         {
          "layer": "below",
          "line": {
           "color": "#333",
           "width": 4
          },
          "type": "line",
          "x0": 17.611799716949463,
          "x1": 17.61179518699646,
          "y0": -25,
          "y1": -26.5
         },
         {
          "layer": "below",
          "line": {
           "color": "#333",
           "width": 4
          },
          "type": "line",
          "x0": 17.611799716949463,
          "x1": 17.611804246902466,
          "y0": -25,
          "y1": -26.5
         },
         {
          "layer": "below",
          "line": {
           "color": "#333",
           "width": 4
          },
          "type": "line",
          "x0": 17.61180877685547,
          "x1": 17.611881256103516,
          "y0": -19,
          "y1": -20.5
         },
         {
          "layer": "below",
          "line": {
           "color": "#333",
           "width": 4
          },
          "type": "line",
          "x0": 17.611881256103516,
          "x1": 17.611845016479492,
          "y0": -20.5,
          "y1": -22
         },
         {
          "layer": "below",
          "line": {
           "color": "#333",
           "width": 4
          },
          "type": "line",
          "x0": 17.611881256103516,
          "x1": 17.61191749572754,
          "y0": -20.5,
          "y1": -22
         },
         {
          "layer": "below",
          "line": {
           "color": "#333",
           "width": 4
          },
          "type": "line",
          "x0": 17.61191749572754,
          "x1": 17.611899375915527,
          "y0": -22,
          "y1": -23.5
         },
         {
          "layer": "below",
          "line": {
           "color": "#333",
           "width": 4
          },
          "type": "line",
          "x0": 17.611899375915527,
          "x1": 17.61189031600952,
          "y0": -23.5,
          "y1": -25
         },
         {
          "layer": "below",
          "line": {
           "color": "#333",
           "width": 4
          },
          "type": "line",
          "x0": 17.611899375915527,
          "x1": 17.611908435821533,
          "y0": -23.5,
          "y1": -25
         },
         {
          "layer": "below",
          "line": {
           "color": "#333",
           "width": 4
          },
          "type": "line",
          "x0": 17.61191749572754,
          "x1": 17.61193561553955,
          "y0": -22,
          "y1": -23.5
         },
         {
          "layer": "below",
          "line": {
           "color": "#333",
           "width": 4
          },
          "type": "line",
          "x0": 17.61193561553955,
          "x1": 17.611926555633545,
          "y0": -23.5,
          "y1": -25
         },
         {
          "layer": "below",
          "line": {
           "color": "#333",
           "width": 4
          },
          "type": "line",
          "x0": 17.61193561553955,
          "x1": 17.611944675445557,
          "y0": -23.5,
          "y1": -25
         },
         {
          "layer": "below",
          "line": {
           "color": "#333",
           "width": 4
          },
          "type": "line",
          "x0": 17.611944675445557,
          "x1": 17.611940145492554,
          "y0": -25,
          "y1": -26.5
         },
         {
          "layer": "below",
          "line": {
           "color": "#333",
           "width": 4
          },
          "type": "line",
          "x0": 17.611944675445557,
          "x1": 17.61194920539856,
          "y0": -25,
          "y1": -26.5
         },
         {
          "layer": "below",
          "line": {
           "color": "#333",
           "width": 4
          },
          "type": "line",
          "x0": 17.61194920539856,
          "x1": 17.611946940422058,
          "y0": -26.5,
          "y1": -28
         },
         {
          "layer": "below",
          "line": {
           "color": "#333",
           "width": 4
          },
          "type": "line",
          "x0": 17.61194920539856,
          "x1": 17.61195147037506,
          "y0": -26.5,
          "y1": -28
         },
         {
          "layer": "below",
          "line": {
           "color": "#333",
           "width": 4
          },
          "type": "line",
          "x0": 17.611953735351562,
          "x1": 17.612098693847656,
          "y0": -17.5,
          "y1": -19
         },
         {
          "layer": "below",
          "line": {
           "color": "#333",
           "width": 4
          },
          "type": "line",
          "x0": 17.612098693847656,
          "x1": 17.61202621459961,
          "y0": -19,
          "y1": -20.5
         },
         {
          "layer": "below",
          "line": {
           "color": "#333",
           "width": 4
          },
          "type": "line",
          "x0": 17.61202621459961,
          "x1": 17.611989974975586,
          "y0": -20.5,
          "y1": -22
         },
         {
          "layer": "below",
          "line": {
           "color": "#333",
           "width": 4
          },
          "type": "line",
          "x0": 17.61202621459961,
          "x1": 17.612062454223633,
          "y0": -20.5,
          "y1": -22
         },
         {
          "layer": "below",
          "line": {
           "color": "#333",
           "width": 4
          },
          "type": "line",
          "x0": 17.612062454223633,
          "x1": 17.61204433441162,
          "y0": -22,
          "y1": -23.5
         },
         {
          "layer": "below",
          "line": {
           "color": "#333",
           "width": 4
          },
          "type": "line",
          "x0": 17.612062454223633,
          "x1": 17.612080574035645,
          "y0": -22,
          "y1": -23.5
         },
         {
          "layer": "below",
          "line": {
           "color": "#333",
           "width": 4
          },
          "type": "line",
          "x0": 17.612080574035645,
          "x1": 17.61207151412964,
          "y0": -23.5,
          "y1": -25
         },
         {
          "layer": "below",
          "line": {
           "color": "#333",
           "width": 4
          },
          "type": "line",
          "x0": 17.612080574035645,
          "x1": 17.61208963394165,
          "y0": -23.5,
          "y1": -25
         },
         {
          "layer": "below",
          "line": {
           "color": "#333",
           "width": 4
          },
          "type": "line",
          "x0": 17.612098693847656,
          "x1": 17.612171173095703,
          "y0": -19,
          "y1": -20.5
         },
         {
          "layer": "below",
          "line": {
           "color": "#333",
           "width": 4
          },
          "type": "line",
          "x0": 17.612171173095703,
          "x1": 17.61213493347168,
          "y0": -20.5,
          "y1": -22
         },
         {
          "layer": "below",
          "line": {
           "color": "#333",
           "width": 4
          },
          "type": "line",
          "x0": 17.61213493347168,
          "x1": 17.612116813659668,
          "y0": -22,
          "y1": -23.5
         },
         {
          "layer": "below",
          "line": {
           "color": "#333",
           "width": 4
          },
          "type": "line",
          "x0": 17.612116813659668,
          "x1": 17.612107753753662,
          "y0": -23.5,
          "y1": -25
         },
         {
          "layer": "below",
          "line": {
           "color": "#333",
           "width": 4
          },
          "type": "line",
          "x0": 17.612116813659668,
          "x1": 17.612125873565674,
          "y0": -23.5,
          "y1": -25
         },
         {
          "layer": "below",
          "line": {
           "color": "#333",
           "width": 4
          },
          "type": "line",
          "x0": 17.612125873565674,
          "x1": 17.61212134361267,
          "y0": -25,
          "y1": -26.5
         },
         {
          "layer": "below",
          "line": {
           "color": "#333",
           "width": 4
          },
          "type": "line",
          "x0": 17.612125873565674,
          "x1": 17.612130403518677,
          "y0": -25,
          "y1": -26.5
         },
         {
          "layer": "below",
          "line": {
           "color": "#333",
           "width": 4
          },
          "type": "line",
          "x0": 17.61213493347168,
          "x1": 17.61215305328369,
          "y0": -22,
          "y1": -23.5
         },
         {
          "layer": "below",
          "line": {
           "color": "#333",
           "width": 4
          },
          "type": "line",
          "x0": 17.61215305328369,
          "x1": 17.612143993377686,
          "y0": -23.5,
          "y1": -25
         },
         {
          "layer": "below",
          "line": {
           "color": "#333",
           "width": 4
          },
          "type": "line",
          "x0": 17.61215305328369,
          "x1": 17.612162113189697,
          "y0": -23.5,
          "y1": -25
         },
         {
          "layer": "below",
          "line": {
           "color": "#333",
           "width": 4
          },
          "type": "line",
          "x0": 17.612162113189697,
          "x1": 17.612157583236694,
          "y0": -25,
          "y1": -26.5
         },
         {
          "layer": "below",
          "line": {
           "color": "#333",
           "width": 4
          },
          "type": "line",
          "x0": 17.612157583236694,
          "x1": 17.612155318260193,
          "y0": -26.5,
          "y1": -28
         },
         {
          "layer": "below",
          "line": {
           "color": "#333",
           "width": 4
          },
          "type": "line",
          "x0": 17.612155318260193,
          "x1": 17.612154185771942,
          "y0": -28,
          "y1": -29.5
         },
         {
          "layer": "below",
          "line": {
           "color": "#333",
           "width": 4
          },
          "type": "line",
          "x0": 17.612155318260193,
          "x1": 17.612156450748444,
          "y0": -28,
          "y1": -29.5
         },
         {
          "layer": "below",
          "line": {
           "color": "#333",
           "width": 4
          },
          "type": "line",
          "x0": 17.612156450748444,
          "x1": 17.61215588450432,
          "y0": -29.5,
          "y1": -31
         },
         {
          "layer": "below",
          "line": {
           "color": "#333",
           "width": 4
          },
          "type": "line",
          "x0": 17.612156450748444,
          "x1": 17.61215701699257,
          "y0": -29.5,
          "y1": -31
         },
         {
          "layer": "below",
          "line": {
           "color": "#333",
           "width": 4
          },
          "type": "line",
          "x0": 17.61215701699257,
          "x1": 17.612156733870506,
          "y0": -31,
          "y1": -32.5
         },
         {
          "layer": "below",
          "line": {
           "color": "#333",
           "width": 4
          },
          "type": "line",
          "x0": 17.61215701699257,
          "x1": 17.61215730011463,
          "y0": -31,
          "y1": -32.5
         },
         {
          "layer": "below",
          "line": {
           "color": "#333",
           "width": 4
          },
          "type": "line",
          "x0": 17.612157583236694,
          "x1": 17.612159848213196,
          "y0": -26.5,
          "y1": -28
         },
         {
          "layer": "below",
          "line": {
           "color": "#333",
           "width": 4
          },
          "type": "line",
          "x0": 17.612159848213196,
          "x1": 17.612158715724945,
          "y0": -28,
          "y1": -29.5
         },
         {
          "layer": "below",
          "line": {
           "color": "#333",
           "width": 4
          },
          "type": "line",
          "x0": 17.612158715724945,
          "x1": 17.61215814948082,
          "y0": -29.5,
          "y1": -31
         },
         {
          "layer": "below",
          "line": {
           "color": "#333",
           "width": 4
          },
          "type": "line",
          "x0": 17.612158715724945,
          "x1": 17.61215928196907,
          "y0": -29.5,
          "y1": -31
         },
         {
          "layer": "below",
          "line": {
           "color": "#333",
           "width": 4
          },
          "type": "line",
          "x0": 17.61215928196907,
          "x1": 17.612158998847008,
          "y0": -31,
          "y1": -32.5
         },
         {
          "layer": "below",
          "line": {
           "color": "#333",
           "width": 4
          },
          "type": "line",
          "x0": 17.612158998847008,
          "x1": 17.612158857285976,
          "y0": -32.5,
          "y1": -34
         },
         {
          "layer": "below",
          "line": {
           "color": "#333",
           "width": 4
          },
          "type": "line",
          "x0": 17.612158998847008,
          "x1": 17.61215914040804,
          "y0": -32.5,
          "y1": -34
         },
         {
          "layer": "below",
          "line": {
           "color": "#333",
           "width": 4
          },
          "type": "line",
          "x0": 17.61215928196907,
          "x1": 17.612159565091133,
          "y0": -31,
          "y1": -32.5
         },
         {
          "layer": "below",
          "line": {
           "color": "#333",
           "width": 4
          },
          "type": "line",
          "x0": 17.612159565091133,
          "x1": 17.6121594235301,
          "y0": -32.5,
          "y1": -34
         },
         {
          "layer": "below",
          "line": {
           "color": "#333",
           "width": 4
          },
          "type": "line",
          "x0": 17.6121594235301,
          "x1": 17.612159352749586,
          "y0": -34,
          "y1": -35.5
         },
         {
          "layer": "below",
          "line": {
           "color": "#333",
           "width": 4
          },
          "type": "line",
          "x0": 17.6121594235301,
          "x1": 17.612159494310617,
          "y0": -34,
          "y1": -35.5
         },
         {
          "layer": "below",
          "line": {
           "color": "#333",
           "width": 4
          },
          "type": "line",
          "x0": 17.612159494310617,
          "x1": 17.61215945892036,
          "y0": -35.5,
          "y1": -37
         },
         {
          "layer": "below",
          "line": {
           "color": "#333",
           "width": 4
          },
          "type": "line",
          "x0": 17.612159494310617,
          "x1": 17.612159529700875,
          "y0": -35.5,
          "y1": -37
         },
         {
          "layer": "below",
          "line": {
           "color": "#333",
           "width": 4
          },
          "type": "line",
          "x0": 17.612159565091133,
          "x1": 17.612159706652164,
          "y0": -32.5,
          "y1": -34
         },
         {
          "layer": "below",
          "line": {
           "color": "#333",
           "width": 4
          },
          "type": "line",
          "x0": 17.612159706652164,
          "x1": 17.61215963587165,
          "y0": -34,
          "y1": -35.5
         },
         {
          "layer": "below",
          "line": {
           "color": "#333",
           "width": 4
          },
          "type": "line",
          "x0": 17.612159706652164,
          "x1": 17.61215977743268,
          "y0": -34,
          "y1": -35.5
         },
         {
          "layer": "below",
          "line": {
           "color": "#333",
           "width": 4
          },
          "type": "line",
          "x0": 17.612159848213196,
          "x1": 17.612160980701447,
          "y0": -28,
          "y1": -29.5
         },
         {
          "layer": "below",
          "line": {
           "color": "#333",
           "width": 4
          },
          "type": "line",
          "x0": 17.612160980701447,
          "x1": 17.61216041445732,
          "y0": -29.5,
          "y1": -31
         },
         {
          "layer": "below",
          "line": {
           "color": "#333",
           "width": 4
          },
          "type": "line",
          "x0": 17.612160980701447,
          "x1": 17.612161546945572,
          "y0": -29.5,
          "y1": -31
         },
         {
          "layer": "below",
          "line": {
           "color": "#333",
           "width": 4
          },
          "type": "line",
          "x0": 17.612161546945572,
          "x1": 17.61216126382351,
          "y0": -31,
          "y1": -32.5
         },
         {
          "layer": "below",
          "line": {
           "color": "#333",
           "width": 4
          },
          "type": "line",
          "x0": 17.612161546945572,
          "x1": 17.612161830067635,
          "y0": -31,
          "y1": -32.5
         },
         {
          "layer": "below",
          "line": {
           "color": "#333",
           "width": 4
          },
          "type": "line",
          "x0": 17.612161830067635,
          "x1": 17.612161688506603,
          "y0": -32.5,
          "y1": -34
         },
         {
          "layer": "below",
          "line": {
           "color": "#333",
           "width": 4
          },
          "type": "line",
          "x0": 17.612161830067635,
          "x1": 17.612161971628666,
          "y0": -32.5,
          "y1": -34
         },
         {
          "layer": "below",
          "line": {
           "color": "#333",
           "width": 4
          },
          "type": "line",
          "x0": 17.612161971628666,
          "x1": 17.61216190084815,
          "y0": -34,
          "y1": -35.5
         },
         {
          "layer": "below",
          "line": {
           "color": "#333",
           "width": 4
          },
          "type": "line",
          "x0": 17.612161971628666,
          "x1": 17.61216204240918,
          "y0": -34,
          "y1": -35.5
         },
         {
          "layer": "below",
          "line": {
           "color": "#333",
           "width": 4
          },
          "type": "line",
          "x0": 17.61216204240918,
          "x1": 17.612162007018924,
          "y0": -35.5,
          "y1": -37
         },
         {
          "layer": "below",
          "line": {
           "color": "#333",
           "width": 4
          },
          "type": "line",
          "x0": 17.61216204240918,
          "x1": 17.61216207779944,
          "y0": -35.5,
          "y1": -37
         },
         {
          "layer": "below",
          "line": {
           "color": "#333",
           "width": 4
          },
          "type": "line",
          "x0": 17.612162113189697,
          "x1": 17.6121666431427,
          "y0": -25,
          "y1": -26.5
         },
         {
          "layer": "below",
          "line": {
           "color": "#333",
           "width": 4
          },
          "type": "line",
          "x0": 17.6121666431427,
          "x1": 17.6121643781662,
          "y0": -26.5,
          "y1": -28
         },
         {
          "layer": "below",
          "line": {
           "color": "#333",
           "width": 4
          },
          "type": "line",
          "x0": 17.6121643781662,
          "x1": 17.612163245677948,
          "y0": -28,
          "y1": -29.5
         },
         {
          "layer": "below",
          "line": {
           "color": "#333",
           "width": 4
          },
          "type": "line",
          "x0": 17.6121643781662,
          "x1": 17.61216551065445,
          "y0": -28,
          "y1": -29.5
         },
         {
          "layer": "below",
          "line": {
           "color": "#333",
           "width": 4
          },
          "type": "line",
          "x0": 17.61216551065445,
          "x1": 17.612164944410324,
          "y0": -29.5,
          "y1": -31
         },
         {
          "layer": "below",
          "line": {
           "color": "#333",
           "width": 4
          },
          "type": "line",
          "x0": 17.61216551065445,
          "x1": 17.612166076898575,
          "y0": -29.5,
          "y1": -31
         },
         {
          "layer": "below",
          "line": {
           "color": "#333",
           "width": 4
          },
          "type": "line",
          "x0": 17.6121666431427,
          "x1": 17.6121689081192,
          "y0": -26.5,
          "y1": -28
         },
         {
          "layer": "below",
          "line": {
           "color": "#333",
           "width": 4
          },
          "type": "line",
          "x0": 17.6121689081192,
          "x1": 17.61216777563095,
          "y0": -28,
          "y1": -29.5
         },
         {
          "layer": "below",
          "line": {
           "color": "#333",
           "width": 4
          },
          "type": "line",
          "x0": 17.6121689081192,
          "x1": 17.612170040607452,
          "y0": -28,
          "y1": -29.5
         },
         {
          "layer": "below",
          "line": {
           "color": "#333",
           "width": 4
          },
          "type": "line",
          "x0": 17.612170040607452,
          "x1": 17.612169474363327,
          "y0": -29.5,
          "y1": -31
         },
         {
          "layer": "below",
          "line": {
           "color": "#333",
           "width": 4
          },
          "type": "line",
          "x0": 17.612170040607452,
          "x1": 17.612170606851578,
          "y0": -29.5,
          "y1": -31
         },
         {
          "layer": "below",
          "line": {
           "color": "#333",
           "width": 4
          },
          "type": "line",
          "x0": 17.612170606851578,
          "x1": 17.612170323729515,
          "y0": -31,
          "y1": -32.5
         },
         {
          "layer": "below",
          "line": {
           "color": "#333",
           "width": 4
          },
          "type": "line",
          "x0": 17.612170606851578,
          "x1": 17.61217088997364,
          "y0": -31,
          "y1": -32.5
         },
         {
          "layer": "below",
          "line": {
           "color": "#333",
           "width": 4
          },
          "type": "line",
          "x0": 17.612171173095703,
          "x1": 17.612207412719727,
          "y0": -20.5,
          "y1": -22
         },
         {
          "layer": "below",
          "line": {
           "color": "#333",
           "width": 4
          },
          "type": "line",
          "x0": 17.612207412719727,
          "x1": 17.612189292907715,
          "y0": -22,
          "y1": -23.5
         },
         {
          "layer": "below",
          "line": {
           "color": "#333",
           "width": 4
          },
          "type": "line",
          "x0": 17.612189292907715,
          "x1": 17.61218023300171,
          "y0": -23.5,
          "y1": -25
         },
         {
          "layer": "below",
          "line": {
           "color": "#333",
           "width": 4
          },
          "type": "line",
          "x0": 17.612189292907715,
          "x1": 17.61219835281372,
          "y0": -23.5,
          "y1": -25
         },
         {
          "layer": "below",
          "line": {
           "color": "#333",
           "width": 4
          },
          "type": "line",
          "x0": 17.61219835281372,
          "x1": 17.612193822860718,
          "y0": -25,
          "y1": -26.5
         },
         {
          "layer": "below",
          "line": {
           "color": "#333",
           "width": 4
          },
          "type": "line",
          "x0": 17.61219835281372,
          "x1": 17.612202882766724,
          "y0": -25,
          "y1": -26.5
         },
         {
          "layer": "below",
          "line": {
           "color": "#333",
           "width": 4
          },
          "type": "line",
          "x0": 17.612207412719727,
          "x1": 17.61222553253174,
          "y0": -22,
          "y1": -23.5
         },
         {
          "layer": "below",
          "line": {
           "color": "#333",
           "width": 4
          },
          "type": "line",
          "x0": 17.61222553253174,
          "x1": 17.612216472625732,
          "y0": -23.5,
          "y1": -25
         },
         {
          "layer": "below",
          "line": {
           "color": "#333",
           "width": 4
          },
          "type": "line",
          "x0": 17.612216472625732,
          "x1": 17.61221194267273,
          "y0": -25,
          "y1": -26.5
         },
         {
          "layer": "below",
          "line": {
           "color": "#333",
           "width": 4
          },
          "type": "line",
          "x0": 17.61221194267273,
          "x1": 17.612209677696228,
          "y0": -26.5,
          "y1": -28
         },
         {
          "layer": "below",
          "line": {
           "color": "#333",
           "width": 4
          },
          "type": "line",
          "x0": 17.61221194267273,
          "x1": 17.61221420764923,
          "y0": -26.5,
          "y1": -28
         },
         {
          "layer": "below",
          "line": {
           "color": "#333",
           "width": 4
          },
          "type": "line",
          "x0": 17.612216472625732,
          "x1": 17.612221002578735,
          "y0": -25,
          "y1": -26.5
         },
         {
          "layer": "below",
          "line": {
           "color": "#333",
           "width": 4
          },
          "type": "line",
          "x0": 17.612221002578735,
          "x1": 17.612218737602234,
          "y0": -26.5,
          "y1": -28
         },
         {
          "layer": "below",
          "line": {
           "color": "#333",
           "width": 4
          },
          "type": "line",
          "x0": 17.612221002578735,
          "x1": 17.612223267555237,
          "y0": -26.5,
          "y1": -28
         },
         {
          "layer": "below",
          "line": {
           "color": "#333",
           "width": 4
          },
          "type": "line",
          "x0": 17.612223267555237,
          "x1": 17.612222135066986,
          "y0": -28,
          "y1": -29.5
         },
         {
          "layer": "below",
          "line": {
           "color": "#333",
           "width": 4
          },
          "type": "line",
          "x0": 17.612223267555237,
          "x1": 17.612224400043488,
          "y0": -28,
          "y1": -29.5
         },
         {
          "layer": "below",
          "line": {
           "color": "#333",
           "width": 4
          },
          "type": "line",
          "x0": 17.612224400043488,
          "x1": 17.612223833799362,
          "y0": -29.5,
          "y1": -31
         },
         {
          "layer": "below",
          "line": {
           "color": "#333",
           "width": 4
          },
          "type": "line",
          "x0": 17.612223833799362,
          "x1": 17.6122235506773,
          "y0": -31,
          "y1": -32.5
         },
         {
          "layer": "below",
          "line": {
           "color": "#333",
           "width": 4
          },
          "type": "line",
          "x0": 17.612223833799362,
          "x1": 17.612224116921425,
          "y0": -31,
          "y1": -32.5
         },
         {
          "layer": "below",
          "line": {
           "color": "#333",
           "width": 4
          },
          "type": "line",
          "x0": 17.612224116921425,
          "x1": 17.612223975360394,
          "y0": -32.5,
          "y1": -34
         },
         {
          "layer": "below",
          "line": {
           "color": "#333",
           "width": 4
          },
          "type": "line",
          "x0": 17.612224116921425,
          "x1": 17.612224258482456,
          "y0": -32.5,
          "y1": -34
         },
         {
          "layer": "below",
          "line": {
           "color": "#333",
           "width": 4
          },
          "type": "line",
          "x0": 17.612224400043488,
          "x1": 17.612224966287613,
          "y0": -29.5,
          "y1": -31
         },
         {
          "layer": "below",
          "line": {
           "color": "#333",
           "width": 4
          },
          "type": "line",
          "x0": 17.612224966287613,
          "x1": 17.61222468316555,
          "y0": -31,
          "y1": -32.5
         },
         {
          "layer": "below",
          "line": {
           "color": "#333",
           "width": 4
          },
          "type": "line",
          "x0": 17.612224966287613,
          "x1": 17.612225249409676,
          "y0": -31,
          "y1": -32.5
         },
         {
          "layer": "below",
          "line": {
           "color": "#333",
           "width": 4
          },
          "type": "line",
          "x0": 17.612225249409676,
          "x1": 17.612225107848644,
          "y0": -32.5,
          "y1": -34
         },
         {
          "layer": "below",
          "line": {
           "color": "#333",
           "width": 4
          },
          "type": "line",
          "x0": 17.612225249409676,
          "x1": 17.612225390970707,
          "y0": -32.5,
          "y1": -34
         },
         {
          "layer": "below",
          "line": {
           "color": "#333",
           "width": 4
          },
          "type": "line",
          "x0": 17.61222553253174,
          "x1": 17.612234592437744,
          "y0": -23.5,
          "y1": -25
         },
         {
          "layer": "below",
          "line": {
           "color": "#333",
           "width": 4
          },
          "type": "line",
          "x0": 17.612234592437744,
          "x1": 17.61223006248474,
          "y0": -25,
          "y1": -26.5
         },
         {
          "layer": "below",
          "line": {
           "color": "#333",
           "width": 4
          },
          "type": "line",
          "x0": 17.61223006248474,
          "x1": 17.61222779750824,
          "y0": -26.5,
          "y1": -28
         },
         {
          "layer": "below",
          "line": {
           "color": "#333",
           "width": 4
          },
          "type": "line",
          "x0": 17.61223006248474,
          "x1": 17.612232327461243,
          "y0": -26.5,
          "y1": -28
         },
         {
          "layer": "below",
          "line": {
           "color": "#333",
           "width": 4
          },
          "type": "line",
          "x0": 17.612232327461243,
          "x1": 17.612231194972992,
          "y0": -28,
          "y1": -29.5
         },
         {
          "layer": "below",
          "line": {
           "color": "#333",
           "width": 4
          },
          "type": "line",
          "x0": 17.612232327461243,
          "x1": 17.612233459949493,
          "y0": -28,
          "y1": -29.5
         },
         {
          "layer": "below",
          "line": {
           "color": "#333",
           "width": 4
          },
          "type": "line",
          "x0": 17.612233459949493,
          "x1": 17.612232893705368,
          "y0": -29.5,
          "y1": -31
         },
         {
          "layer": "below",
          "line": {
           "color": "#333",
           "width": 4
          },
          "type": "line",
          "x0": 17.612233459949493,
          "x1": 17.61223402619362,
          "y0": -29.5,
          "y1": -31
         },
         {
          "layer": "below",
          "line": {
           "color": "#333",
           "width": 4
          },
          "type": "line",
          "x0": 17.61223402619362,
          "x1": 17.612233743071556,
          "y0": -31,
          "y1": -32.5
         },
         {
          "layer": "below",
          "line": {
           "color": "#333",
           "width": 4
          },
          "type": "line",
          "x0": 17.61223402619362,
          "x1": 17.61223430931568,
          "y0": -31,
          "y1": -32.5
         },
         {
          "layer": "below",
          "line": {
           "color": "#333",
           "width": 4
          },
          "type": "line",
          "x0": 17.612234592437744,
          "x1": 17.612239122390747,
          "y0": -25,
          "y1": -26.5
         },
         {
          "layer": "below",
          "line": {
           "color": "#333",
           "width": 4
          },
          "type": "line",
          "x0": 17.612239122390747,
          "x1": 17.612236857414246,
          "y0": -26.5,
          "y1": -28
         },
         {
          "layer": "below",
          "line": {
           "color": "#333",
           "width": 4
          },
          "type": "line",
          "x0": 17.612239122390747,
          "x1": 17.61224138736725,
          "y0": -26.5,
          "y1": -28
         },
         {
          "layer": "below",
          "line": {
           "color": "#333",
           "width": 4
          },
          "type": "line",
          "x0": 17.61224365234375,
          "x1": 17.612823486328125,
          "y0": -14.5,
          "y1": -16
         },
         {
          "layer": "below",
          "line": {
           "color": "#333",
           "width": 4
          },
          "type": "line",
          "x0": 17.612823486328125,
          "x1": 17.612533569335938,
          "y0": -16,
          "y1": -17.5
         },
         {
          "layer": "below",
          "line": {
           "color": "#333",
           "width": 4
          },
          "type": "line",
          "x0": 17.612533569335938,
          "x1": 17.612388610839844,
          "y0": -17.5,
          "y1": -19
         },
         {
          "layer": "below",
          "line": {
           "color": "#333",
           "width": 4
          },
          "type": "line",
          "x0": 17.612388610839844,
          "x1": 17.612316131591797,
          "y0": -19,
          "y1": -20.5
         },
         {
          "layer": "below",
          "line": {
           "color": "#333",
           "width": 4
          },
          "type": "line",
          "x0": 17.612388610839844,
          "x1": 17.61246109008789,
          "y0": -19,
          "y1": -20.5
         },
         {
          "layer": "below",
          "line": {
           "color": "#333",
           "width": 4
          },
          "type": "line",
          "x0": 17.612533569335938,
          "x1": 17.61267852783203,
          "y0": -17.5,
          "y1": -19
         },
         {
          "layer": "below",
          "line": {
           "color": "#333",
           "width": 4
          },
          "type": "line",
          "x0": 17.61267852783203,
          "x1": 17.612606048583984,
          "y0": -19,
          "y1": -20.5
         },
         {
          "layer": "below",
          "line": {
           "color": "#333",
           "width": 4
          },
          "type": "line",
          "x0": 17.61267852783203,
          "x1": 17.612751007080078,
          "y0": -19,
          "y1": -20.5
         },
         {
          "layer": "below",
          "line": {
           "color": "#333",
           "width": 4
          },
          "type": "line",
          "x0": 17.612823486328125,
          "x1": 17.613113403320312,
          "y0": -16,
          "y1": -17.5
         },
         {
          "layer": "below",
          "line": {
           "color": "#333",
           "width": 4
          },
          "type": "line",
          "x0": 17.613113403320312,
          "x1": 17.61296844482422,
          "y0": -17.5,
          "y1": -19
         },
         {
          "layer": "below",
          "line": {
           "color": "#333",
           "width": 4
          },
          "type": "line",
          "x0": 17.613113403320312,
          "x1": 17.613258361816406,
          "y0": -17.5,
          "y1": -19
         },
         {
          "layer": "below",
          "line": {
           "color": "#333",
           "width": 4
          },
          "type": "line",
          "x0": 17.613258361816406,
          "x1": 17.61318588256836,
          "y0": -19,
          "y1": -20.5
         },
         {
          "layer": "below",
          "line": {
           "color": "#333",
           "width": 4
          },
          "type": "line",
          "x0": 17.613258361816406,
          "x1": 17.613330841064453,
          "y0": -19,
          "y1": -20.5
         },
         {
          "layer": "below",
          "line": {
           "color": "#333",
           "width": 4
          },
          "type": "line",
          "x0": 17.6134033203125,
          "x1": 17.61456298828125,
          "y0": -13,
          "y1": -14.5
         },
         {
          "layer": "below",
          "line": {
           "color": "#333",
           "width": 4
          },
          "type": "line",
          "x0": 17.61456298828125,
          "x1": 17.613983154296875,
          "y0": -14.5,
          "y1": -16
         },
         {
          "layer": "below",
          "line": {
           "color": "#333",
           "width": 4
          },
          "type": "line",
          "x0": 17.613983154296875,
          "x1": 17.613693237304688,
          "y0": -16,
          "y1": -17.5
         },
         {
          "layer": "below",
          "line": {
           "color": "#333",
           "width": 4
          },
          "type": "line",
          "x0": 17.613983154296875,
          "x1": 17.614273071289062,
          "y0": -16,
          "y1": -17.5
         },
         {
          "layer": "below",
          "line": {
           "color": "#333",
           "width": 4
          },
          "type": "line",
          "x0": 17.614273071289062,
          "x1": 17.61412811279297,
          "y0": -17.5,
          "y1": -19
         },
         {
          "layer": "below",
          "line": {
           "color": "#333",
           "width": 4
          },
          "type": "line",
          "x0": 17.614273071289062,
          "x1": 17.614418029785156,
          "y0": -17.5,
          "y1": -19
         },
         {
          "layer": "below",
          "line": {
           "color": "#333",
           "width": 4
          },
          "type": "line",
          "x0": 17.614418029785156,
          "x1": 17.61434555053711,
          "y0": -19,
          "y1": -20.5
         },
         {
          "layer": "below",
          "line": {
           "color": "#333",
           "width": 4
          },
          "type": "line",
          "x0": 17.614418029785156,
          "x1": 17.614490509033203,
          "y0": -19,
          "y1": -20.5
         },
         {
          "layer": "below",
          "line": {
           "color": "#333",
           "width": 4
          },
          "type": "line",
          "x0": 17.61456298828125,
          "x1": 17.615142822265625,
          "y0": -14.5,
          "y1": -16
         },
         {
          "layer": "below",
          "line": {
           "color": "#333",
           "width": 4
          },
          "type": "line",
          "x0": 17.615142822265625,
          "x1": 17.614852905273438,
          "y0": -16,
          "y1": -17.5
         },
         {
          "layer": "below",
          "line": {
           "color": "#333",
           "width": 4
          },
          "type": "line",
          "x0": 17.615142822265625,
          "x1": 17.615432739257812,
          "y0": -16,
          "y1": -17.5
         },
         {
          "layer": "below",
          "line": {
           "color": "#333",
           "width": 4
          },
          "type": "line",
          "x0": 17.615432739257812,
          "x1": 17.61528778076172,
          "y0": -17.5,
          "y1": -19
         },
         {
          "layer": "below",
          "line": {
           "color": "#333",
           "width": 4
          },
          "type": "line",
          "x0": 17.615432739257812,
          "x1": 17.615577697753906,
          "y0": -17.5,
          "y1": -19
         },
         {
          "layer": "below",
          "line": {
           "color": "#333",
           "width": 4
          },
          "type": "line",
          "x0": 17.61572265625,
          "x1": 17.620361328125,
          "y0": -10,
          "y1": -11.5
         },
         {
          "layer": "below",
          "line": {
           "color": "#333",
           "width": 4
          },
          "type": "line",
          "x0": 17.620361328125,
          "x1": 17.6180419921875,
          "y0": -11.5,
          "y1": -13
         },
         {
          "layer": "below",
          "line": {
           "color": "#333",
           "width": 4
          },
          "type": "line",
          "x0": 17.620361328125,
          "x1": 17.6226806640625,
          "y0": -11.5,
          "y1": -13
         },
         {
          "layer": "below",
          "line": {
           "color": "#333",
           "width": 4
          },
          "type": "line",
          "x0": 17.6226806640625,
          "x1": 17.62152099609375,
          "y0": -13,
          "y1": -14.5
         },
         {
          "layer": "below",
          "line": {
           "color": "#333",
           "width": 4
          },
          "type": "line",
          "x0": 17.6226806640625,
          "x1": 17.62384033203125,
          "y0": -13,
          "y1": -14.5
         },
         {
          "layer": "below",
          "line": {
           "color": "#333",
           "width": 4
          },
          "type": "line",
          "x0": 17.62384033203125,
          "x1": 17.623260498046875,
          "y0": -14.5,
          "y1": -16
         },
         {
          "layer": "below",
          "line": {
           "color": "#333",
           "width": 4
          },
          "type": "line",
          "x0": 17.62384033203125,
          "x1": 17.624420166015625,
          "y0": -14.5,
          "y1": -16
         },
         {
          "layer": "below",
          "line": {
           "color": "#333",
           "width": 4
          },
          "type": "line",
          "x0": 17.625,
          "x1": 18.8125,
          "y0": 2,
          "y1": 0.5
         },
         {
          "layer": "below",
          "line": {
           "color": "#333",
           "width": 4
          },
          "type": "line",
          "x0": 18.8125,
          "x1": 18.21875,
          "y0": 0.5,
          "y1": -1
         },
         {
          "layer": "below",
          "line": {
           "color": "#333",
           "width": 4
          },
          "type": "line",
          "x0": 18.21875,
          "x1": 17.921875,
          "y0": -1,
          "y1": -2.5
         },
         {
          "layer": "below",
          "line": {
           "color": "#333",
           "width": 4
          },
          "type": "line",
          "x0": 18.21875,
          "x1": 18.515625,
          "y0": -1,
          "y1": -2.5
         },
         {
          "layer": "below",
          "line": {
           "color": "#333",
           "width": 4
          },
          "type": "line",
          "x0": 18.515625,
          "x1": 18.3671875,
          "y0": -2.5,
          "y1": -4
         },
         {
          "layer": "below",
          "line": {
           "color": "#333",
           "width": 4
          },
          "type": "line",
          "x0": 18.515625,
          "x1": 18.6640625,
          "y0": -2.5,
          "y1": -4
         },
         {
          "layer": "below",
          "line": {
           "color": "#333",
           "width": 4
          },
          "type": "line",
          "x0": 18.6640625,
          "x1": 18.58984375,
          "y0": -4,
          "y1": -5.5
         },
         {
          "layer": "below",
          "line": {
           "color": "#333",
           "width": 4
          },
          "type": "line",
          "x0": 18.6640625,
          "x1": 18.73828125,
          "y0": -4,
          "y1": -5.5
         },
         {
          "layer": "below",
          "line": {
           "color": "#333",
           "width": 4
          },
          "type": "line",
          "x0": 18.73828125,
          "x1": 18.701171875,
          "y0": -5.5,
          "y1": -7
         },
         {
          "layer": "below",
          "line": {
           "color": "#333",
           "width": 4
          },
          "type": "line",
          "x0": 18.73828125,
          "x1": 18.775390625,
          "y0": -5.5,
          "y1": -7
         },
         {
          "layer": "below",
          "line": {
           "color": "#333",
           "width": 4
          },
          "type": "line",
          "x0": 18.775390625,
          "x1": 18.7568359375,
          "y0": -7,
          "y1": -8.5
         },
         {
          "layer": "below",
          "line": {
           "color": "#333",
           "width": 4
          },
          "type": "line",
          "x0": 18.775390625,
          "x1": 18.7939453125,
          "y0": -7,
          "y1": -8.5
         },
         {
          "layer": "below",
          "line": {
           "color": "#333",
           "width": 4
          },
          "type": "line",
          "x0": 18.7939453125,
          "x1": 18.78466796875,
          "y0": -8.5,
          "y1": -10
         },
         {
          "layer": "below",
          "line": {
           "color": "#333",
           "width": 4
          },
          "type": "line",
          "x0": 18.7939453125,
          "x1": 18.80322265625,
          "y0": -8.5,
          "y1": -10
         },
         {
          "layer": "below",
          "line": {
           "color": "#333",
           "width": 4
          },
          "type": "line",
          "x0": 18.8125,
          "x1": 19.40625,
          "y0": 0.5,
          "y1": -1
         },
         {
          "layer": "below",
          "line": {
           "color": "#333",
           "width": 4
          },
          "type": "line",
          "x0": 19.40625,
          "x1": 19.109375,
          "y0": -1,
          "y1": -2.5
         },
         {
          "layer": "below",
          "line": {
           "color": "#333",
           "width": 4
          },
          "type": "line",
          "x0": 19.40625,
          "x1": 19.703125,
          "y0": -1,
          "y1": -2.5
         },
         {
          "layer": "below",
          "line": {
           "color": "#333",
           "width": 4
          },
          "type": "line",
          "x0": 19.703125,
          "x1": 19.5546875,
          "y0": -2.5,
          "y1": -4
         },
         {
          "layer": "below",
          "line": {
           "color": "#333",
           "width": 4
          },
          "type": "line",
          "x0": 19.703125,
          "x1": 19.8515625,
          "y0": -2.5,
          "y1": -4
         },
         {
          "layer": "below",
          "line": {
           "color": "#333",
           "width": 4
          },
          "type": "line",
          "x0": 19.8515625,
          "x1": 19.77734375,
          "y0": -4,
          "y1": -5.5
         },
         {
          "layer": "below",
          "line": {
           "color": "#333",
           "width": 4
          },
          "type": "line",
          "x0": 19.8515625,
          "x1": 19.92578125,
          "y0": -4,
          "y1": -5.5
         },
         {
          "layer": "below",
          "line": {
           "color": "#333",
           "width": 4
          },
          "type": "line",
          "x0": 19.92578125,
          "x1": 19.888671875,
          "y0": -5.5,
          "y1": -7
         },
         {
          "layer": "below",
          "line": {
           "color": "#333",
           "width": 4
          },
          "type": "line",
          "x0": 19.92578125,
          "x1": 19.962890625,
          "y0": -5.5,
          "y1": -7
         },
         {
          "layer": "below",
          "line": {
           "color": "#333",
           "width": 4
          },
          "type": "line",
          "x0": 19.962890625,
          "x1": 19.9443359375,
          "y0": -7,
          "y1": -8.5
         },
         {
          "layer": "below",
          "line": {
           "color": "#333",
           "width": 4
          },
          "type": "line",
          "x0": 19.962890625,
          "x1": 19.9814453125,
          "y0": -7,
          "y1": -8.5
         },
         {
          "layer": "below",
          "line": {
           "color": "#333",
           "width": 4
          },
          "type": "line",
          "x0": 27.5,
          "x1": 27.5,
          "y0": 3.5,
          "y1": 3.5
         },
         {
          "layer": "below",
          "line": {
           "color": "#333",
           "width": 4
          },
          "type": "line",
          "x0": 27.5,
          "x1": 22.75,
          "y0": 3.5,
          "y1": 2
         },
         {
          "layer": "below",
          "line": {
           "color": "#333",
           "width": 4
          },
          "type": "line",
          "x0": 22.75,
          "x1": 20.375,
          "y0": 2,
          "y1": 0.5
         },
         {
          "layer": "below",
          "line": {
           "color": "#333",
           "width": 4
          },
          "type": "line",
          "x0": 20.375,
          "x1": 19.1875,
          "y0": 0.5,
          "y1": -1
         },
         {
          "layer": "below",
          "line": {
           "color": "#333",
           "width": 4
          },
          "type": "line",
          "x0": 20.375,
          "x1": 21.5625,
          "y0": 0.5,
          "y1": -1
         },
         {
          "layer": "below",
          "line": {
           "color": "#333",
           "width": 4
          },
          "type": "line",
          "x0": 21.5625,
          "x1": 20.96875,
          "y0": -1,
          "y1": -2.5
         },
         {
          "layer": "below",
          "line": {
           "color": "#333",
           "width": 4
          },
          "type": "line",
          "x0": 21.5625,
          "x1": 22.15625,
          "y0": -1,
          "y1": -2.5
         },
         {
          "layer": "below",
          "line": {
           "color": "#333",
           "width": 4
          },
          "type": "line",
          "x0": 22.75,
          "x1": 25.125,
          "y0": 2,
          "y1": 0.5
         },
         {
          "layer": "below",
          "line": {
           "color": "#333",
           "width": 4
          },
          "type": "line",
          "x0": 25.125,
          "x1": 23.9375,
          "y0": 0.5,
          "y1": -1
         },
         {
          "layer": "below",
          "line": {
           "color": "#333",
           "width": 4
          },
          "type": "line",
          "x0": 23.9375,
          "x1": 23.34375,
          "y0": -1,
          "y1": -2.5
         },
         {
          "layer": "below",
          "line": {
           "color": "#333",
           "width": 4
          },
          "type": "line",
          "x0": 23.9375,
          "x1": 24.53125,
          "y0": -1,
          "y1": -2.5
         },
         {
          "layer": "below",
          "line": {
           "color": "#333",
           "width": 4
          },
          "type": "line",
          "x0": 24.53125,
          "x1": 24.234375,
          "y0": -2.5,
          "y1": -4
         },
         {
          "layer": "below",
          "line": {
           "color": "#333",
           "width": 4
          },
          "type": "line",
          "x0": 24.234375,
          "x1": 24.0859375,
          "y0": -4,
          "y1": -5.5
         },
         {
          "layer": "below",
          "line": {
           "color": "#333",
           "width": 4
          },
          "type": "line",
          "x0": 24.0859375,
          "x1": 24.01171875,
          "y0": -5.5,
          "y1": -7
         },
         {
          "layer": "below",
          "line": {
           "color": "#333",
           "width": 4
          },
          "type": "line",
          "x0": 24.0859375,
          "x1": 24.16015625,
          "y0": -5.5,
          "y1": -7
         },
         {
          "layer": "below",
          "line": {
           "color": "#333",
           "width": 4
          },
          "type": "line",
          "x0": 24.16015625,
          "x1": 24.123046875,
          "y0": -7,
          "y1": -8.5
         },
         {
          "layer": "below",
          "line": {
           "color": "#333",
           "width": 4
          },
          "type": "line",
          "x0": 24.16015625,
          "x1": 24.197265625,
          "y0": -7,
          "y1": -8.5
         },
         {
          "layer": "below",
          "line": {
           "color": "#333",
           "width": 4
          },
          "type": "line",
          "x0": 24.234375,
          "x1": 24.3828125,
          "y0": -4,
          "y1": -5.5
         },
         {
          "layer": "below",
          "line": {
           "color": "#333",
           "width": 4
          },
          "type": "line",
          "x0": 24.3828125,
          "x1": 24.30859375,
          "y0": -5.5,
          "y1": -7
         },
         {
          "layer": "below",
          "line": {
           "color": "#333",
           "width": 4
          },
          "type": "line",
          "x0": 24.30859375,
          "x1": 24.271484375,
          "y0": -7,
          "y1": -8.5
         },
         {
          "layer": "below",
          "line": {
           "color": "#333",
           "width": 4
          },
          "type": "line",
          "x0": 24.30859375,
          "x1": 24.345703125,
          "y0": -7,
          "y1": -8.5
         },
         {
          "layer": "below",
          "line": {
           "color": "#333",
           "width": 4
          },
          "type": "line",
          "x0": 24.3828125,
          "x1": 24.45703125,
          "y0": -5.5,
          "y1": -7
         },
         {
          "layer": "below",
          "line": {
           "color": "#333",
           "width": 4
          },
          "type": "line",
          "x0": 24.45703125,
          "x1": 24.419921875,
          "y0": -7,
          "y1": -8.5
         },
         {
          "layer": "below",
          "line": {
           "color": "#333",
           "width": 4
          },
          "type": "line",
          "x0": 24.419921875,
          "x1": 24.4013671875,
          "y0": -8.5,
          "y1": -10
         },
         {
          "layer": "below",
          "line": {
           "color": "#333",
           "width": 4
          },
          "type": "line",
          "x0": 24.419921875,
          "x1": 24.4384765625,
          "y0": -8.5,
          "y1": -10
         },
         {
          "layer": "below",
          "line": {
           "color": "#333",
           "width": 4
          },
          "type": "line",
          "x0": 24.45703125,
          "x1": 24.494140625,
          "y0": -7,
          "y1": -8.5
         },
         {
          "layer": "below",
          "line": {
           "color": "#333",
           "width": 4
          },
          "type": "line",
          "x0": 24.494140625,
          "x1": 24.4755859375,
          "y0": -8.5,
          "y1": -10
         },
         {
          "layer": "below",
          "line": {
           "color": "#333",
           "width": 4
          },
          "type": "line",
          "x0": 24.494140625,
          "x1": 24.5126953125,
          "y0": -8.5,
          "y1": -10
         },
         {
          "layer": "below",
          "line": {
           "color": "#333",
           "width": 4
          },
          "type": "line",
          "x0": 24.5126953125,
          "x1": 24.50341796875,
          "y0": -10,
          "y1": -11.5
         },
         {
          "layer": "below",
          "line": {
           "color": "#333",
           "width": 4
          },
          "type": "line",
          "x0": 24.5126953125,
          "x1": 24.52197265625,
          "y0": -10,
          "y1": -11.5
         },
         {
          "layer": "below",
          "line": {
           "color": "#333",
           "width": 4
          },
          "type": "line",
          "x0": 24.52197265625,
          "x1": 24.517333984375,
          "y0": -11.5,
          "y1": -13
         },
         {
          "layer": "below",
          "line": {
           "color": "#333",
           "width": 4
          },
          "type": "line",
          "x0": 24.517333984375,
          "x1": 24.5150146484375,
          "y0": -13,
          "y1": -14.5
         },
         {
          "layer": "below",
          "line": {
           "color": "#333",
           "width": 4
          },
          "type": "line",
          "x0": 24.517333984375,
          "x1": 24.5196533203125,
          "y0": -13,
          "y1": -14.5
         },
         {
          "layer": "below",
          "line": {
           "color": "#333",
           "width": 4
          },
          "type": "line",
          "x0": 24.52197265625,
          "x1": 24.526611328125,
          "y0": -11.5,
          "y1": -13
         },
         {
          "layer": "below",
          "line": {
           "color": "#333",
           "width": 4
          },
          "type": "line",
          "x0": 24.526611328125,
          "x1": 24.5242919921875,
          "y0": -13,
          "y1": -14.5
         },
         {
          "layer": "below",
          "line": {
           "color": "#333",
           "width": 4
          },
          "type": "line",
          "x0": 24.526611328125,
          "x1": 24.5289306640625,
          "y0": -13,
          "y1": -14.5
         },
         {
          "layer": "below",
          "line": {
           "color": "#333",
           "width": 4
          },
          "type": "line",
          "x0": 24.5289306640625,
          "x1": 24.52777099609375,
          "y0": -14.5,
          "y1": -16
         },
         {
          "layer": "below",
          "line": {
           "color": "#333",
           "width": 4
          },
          "type": "line",
          "x0": 24.5289306640625,
          "x1": 24.53009033203125,
          "y0": -14.5,
          "y1": -16
         },
         {
          "layer": "below",
          "line": {
           "color": "#333",
           "width": 4
          },
          "type": "line",
          "x0": 24.53125,
          "x1": 24.828125,
          "y0": -2.5,
          "y1": -4
         },
         {
          "layer": "below",
          "line": {
           "color": "#333",
           "width": 4
          },
          "type": "line",
          "x0": 24.828125,
          "x1": 24.6796875,
          "y0": -4,
          "y1": -5.5
         },
         {
          "layer": "below",
          "line": {
           "color": "#333",
           "width": 4
          },
          "type": "line",
          "x0": 24.6796875,
          "x1": 24.60546875,
          "y0": -5.5,
          "y1": -7
         },
         {
          "layer": "below",
          "line": {
           "color": "#333",
           "width": 4
          },
          "type": "line",
          "x0": 24.6796875,
          "x1": 24.75390625,
          "y0": -5.5,
          "y1": -7
         },
         {
          "layer": "below",
          "line": {
           "color": "#333",
           "width": 4
          },
          "type": "line",
          "x0": 24.75390625,
          "x1": 24.716796875,
          "y0": -7,
          "y1": -8.5
         },
         {
          "layer": "below",
          "line": {
           "color": "#333",
           "width": 4
          },
          "type": "line",
          "x0": 24.75390625,
          "x1": 24.791015625,
          "y0": -7,
          "y1": -8.5
         },
         {
          "layer": "below",
          "line": {
           "color": "#333",
           "width": 4
          },
          "type": "line",
          "x0": 24.791015625,
          "x1": 24.7724609375,
          "y0": -8.5,
          "y1": -10
         },
         {
          "layer": "below",
          "line": {
           "color": "#333",
           "width": 4
          },
          "type": "line",
          "x0": 24.791015625,
          "x1": 24.8095703125,
          "y0": -8.5,
          "y1": -10
         },
         {
          "layer": "below",
          "line": {
           "color": "#333",
           "width": 4
          },
          "type": "line",
          "x0": 24.828125,
          "x1": 24.9765625,
          "y0": -4,
          "y1": -5.5
         },
         {
          "layer": "below",
          "line": {
           "color": "#333",
           "width": 4
          },
          "type": "line",
          "x0": 24.9765625,
          "x1": 24.90234375,
          "y0": -5.5,
          "y1": -7
         },
         {
          "layer": "below",
          "line": {
           "color": "#333",
           "width": 4
          },
          "type": "line",
          "x0": 24.90234375,
          "x1": 24.865234375,
          "y0": -7,
          "y1": -8.5
         },
         {
          "layer": "below",
          "line": {
           "color": "#333",
           "width": 4
          },
          "type": "line",
          "x0": 24.90234375,
          "x1": 24.939453125,
          "y0": -7,
          "y1": -8.5
         },
         {
          "layer": "below",
          "line": {
           "color": "#333",
           "width": 4
          },
          "type": "line",
          "x0": 24.9765625,
          "x1": 25.05078125,
          "y0": -5.5,
          "y1": -7
         },
         {
          "layer": "below",
          "line": {
           "color": "#333",
           "width": 4
          },
          "type": "line",
          "x0": 25.05078125,
          "x1": 25.013671875,
          "y0": -7,
          "y1": -8.5
         },
         {
          "layer": "below",
          "line": {
           "color": "#333",
           "width": 4
          },
          "type": "line",
          "x0": 25.013671875,
          "x1": 24.9951171875,
          "y0": -8.5,
          "y1": -10
         },
         {
          "layer": "below",
          "line": {
           "color": "#333",
           "width": 4
          },
          "type": "line",
          "x0": 25.013671875,
          "x1": 25.0322265625,
          "y0": -8.5,
          "y1": -10
         },
         {
          "layer": "below",
          "line": {
           "color": "#333",
           "width": 4
          },
          "type": "line",
          "x0": 25.05078125,
          "x1": 25.087890625,
          "y0": -7,
          "y1": -8.5
         },
         {
          "layer": "below",
          "line": {
           "color": "#333",
           "width": 4
          },
          "type": "line",
          "x0": 25.087890625,
          "x1": 25.0693359375,
          "y0": -8.5,
          "y1": -10
         },
         {
          "layer": "below",
          "line": {
           "color": "#333",
           "width": 4
          },
          "type": "line",
          "x0": 25.087890625,
          "x1": 25.1064453125,
          "y0": -8.5,
          "y1": -10
         },
         {
          "layer": "below",
          "line": {
           "color": "#333",
           "width": 4
          },
          "type": "line",
          "x0": 25.125,
          "x1": 26.3125,
          "y0": 0.5,
          "y1": -1
         },
         {
          "layer": "below",
          "line": {
           "color": "#333",
           "width": 4
          },
          "type": "line",
          "x0": 26.3125,
          "x1": 25.71875,
          "y0": -1,
          "y1": -2.5
         },
         {
          "layer": "below",
          "line": {
           "color": "#333",
           "width": 4
          },
          "type": "line",
          "x0": 26.3125,
          "x1": 26.90625,
          "y0": -1,
          "y1": -2.5
         },
         {
          "layer": "below",
          "line": {
           "color": "#333",
           "width": 4
          },
          "type": "line",
          "x0": 27.5,
          "x1": 32.25,
          "y0": 3.5,
          "y1": 2
         },
         {
          "layer": "below",
          "line": {
           "color": "#333",
           "width": 4
          },
          "type": "line",
          "x0": 32.25,
          "x1": 29.875,
          "y0": 2,
          "y1": 0.5
         },
         {
          "layer": "below",
          "line": {
           "color": "#333",
           "width": 4
          },
          "type": "line",
          "x0": 29.875,
          "x1": 28.6875,
          "y0": 0.5,
          "y1": -1
         },
         {
          "layer": "below",
          "line": {
           "color": "#333",
           "width": 4
          },
          "type": "line",
          "x0": 29.875,
          "x1": 31.0625,
          "y0": 0.5,
          "y1": -1
         },
         {
          "layer": "below",
          "line": {
           "color": "#333",
           "width": 4
          },
          "type": "line",
          "x0": 31.0625,
          "x1": 30.46875,
          "y0": -1,
          "y1": -2.5
         },
         {
          "layer": "below",
          "line": {
           "color": "#333",
           "width": 4
          },
          "type": "line",
          "x0": 30.46875,
          "x1": 30.171875,
          "y0": -2.5,
          "y1": -4
         },
         {
          "layer": "below",
          "line": {
           "color": "#333",
           "width": 4
          },
          "type": "line",
          "x0": 30.46875,
          "x1": 30.765625,
          "y0": -2.5,
          "y1": -4
         },
         {
          "layer": "below",
          "line": {
           "color": "#333",
           "width": 4
          },
          "type": "line",
          "x0": 30.765625,
          "x1": 30.6171875,
          "y0": -4,
          "y1": -5.5
         },
         {
          "layer": "below",
          "line": {
           "color": "#333",
           "width": 4
          },
          "type": "line",
          "x0": 30.765625,
          "x1": 30.9140625,
          "y0": -4,
          "y1": -5.5
         },
         {
          "layer": "below",
          "line": {
           "color": "#333",
           "width": 4
          },
          "type": "line",
          "x0": 30.9140625,
          "x1": 30.83984375,
          "y0": -5.5,
          "y1": -7
         },
         {
          "layer": "below",
          "line": {
           "color": "#333",
           "width": 4
          },
          "type": "line",
          "x0": 30.9140625,
          "x1": 30.98828125,
          "y0": -5.5,
          "y1": -7
         },
         {
          "layer": "below",
          "line": {
           "color": "#333",
           "width": 4
          },
          "type": "line",
          "x0": 31.0625,
          "x1": 31.65625,
          "y0": -1,
          "y1": -2.5
         },
         {
          "layer": "below",
          "line": {
           "color": "#333",
           "width": 4
          },
          "type": "line",
          "x0": 31.65625,
          "x1": 31.359375,
          "y0": -2.5,
          "y1": -4
         },
         {
          "layer": "below",
          "line": {
           "color": "#333",
           "width": 4
          },
          "type": "line",
          "x0": 31.65625,
          "x1": 31.953125,
          "y0": -2.5,
          "y1": -4
         },
         {
          "layer": "below",
          "line": {
           "color": "#333",
           "width": 4
          },
          "type": "line",
          "x0": 31.953125,
          "x1": 31.8046875,
          "y0": -4,
          "y1": -5.5
         },
         {
          "layer": "below",
          "line": {
           "color": "#333",
           "width": 4
          },
          "type": "line",
          "x0": 31.953125,
          "x1": 32.1015625,
          "y0": -4,
          "y1": -5.5
         },
         {
          "layer": "below",
          "line": {
           "color": "#333",
           "width": 4
          },
          "type": "line",
          "x0": 32.1015625,
          "x1": 32.02734375,
          "y0": -5.5,
          "y1": -7
         },
         {
          "layer": "below",
          "line": {
           "color": "#333",
           "width": 4
          },
          "type": "line",
          "x0": 32.1015625,
          "x1": 32.17578125,
          "y0": -5.5,
          "y1": -7
         },
         {
          "layer": "below",
          "line": {
           "color": "#333",
           "width": 4
          },
          "type": "line",
          "x0": 32.25,
          "x1": 34.625,
          "y0": 2,
          "y1": 0.5
         },
         {
          "layer": "below",
          "line": {
           "color": "#333",
           "width": 4
          },
          "type": "line",
          "x0": 34.625,
          "x1": 33.4375,
          "y0": 0.5,
          "y1": -1
         },
         {
          "layer": "below",
          "line": {
           "color": "#333",
           "width": 4
          },
          "type": "line",
          "x0": 33.4375,
          "x1": 32.84375,
          "y0": -1,
          "y1": -2.5
         },
         {
          "layer": "below",
          "line": {
           "color": "#333",
           "width": 4
          },
          "type": "line",
          "x0": 32.84375,
          "x1": 32.546875,
          "y0": -2.5,
          "y1": -4
         },
         {
          "layer": "below",
          "line": {
           "color": "#333",
           "width": 4
          },
          "type": "line",
          "x0": 32.84375,
          "x1": 33.140625,
          "y0": -2.5,
          "y1": -4
         },
         {
          "layer": "below",
          "line": {
           "color": "#333",
           "width": 4
          },
          "type": "line",
          "x0": 33.140625,
          "x1": 32.9921875,
          "y0": -4,
          "y1": -5.5
         },
         {
          "layer": "below",
          "line": {
           "color": "#333",
           "width": 4
          },
          "type": "line",
          "x0": 33.140625,
          "x1": 33.2890625,
          "y0": -4,
          "y1": -5.5
         },
         {
          "layer": "below",
          "line": {
           "color": "#333",
           "width": 4
          },
          "type": "line",
          "x0": 33.2890625,
          "x1": 33.21484375,
          "y0": -5.5,
          "y1": -7
         },
         {
          "layer": "below",
          "line": {
           "color": "#333",
           "width": 4
          },
          "type": "line",
          "x0": 33.2890625,
          "x1": 33.36328125,
          "y0": -5.5,
          "y1": -7
         },
         {
          "layer": "below",
          "line": {
           "color": "#333",
           "width": 4
          },
          "type": "line",
          "x0": 33.4375,
          "x1": 34.03125,
          "y0": -1,
          "y1": -2.5
         },
         {
          "layer": "below",
          "line": {
           "color": "#333",
           "width": 4
          },
          "type": "line",
          "x0": 34.03125,
          "x1": 33.734375,
          "y0": -2.5,
          "y1": -4
         },
         {
          "layer": "below",
          "line": {
           "color": "#333",
           "width": 4
          },
          "type": "line",
          "x0": 34.03125,
          "x1": 34.328125,
          "y0": -2.5,
          "y1": -4
         },
         {
          "layer": "below",
          "line": {
           "color": "#333",
           "width": 4
          },
          "type": "line",
          "x0": 34.328125,
          "x1": 34.1796875,
          "y0": -4,
          "y1": -5.5
         },
         {
          "layer": "below",
          "line": {
           "color": "#333",
           "width": 4
          },
          "type": "line",
          "x0": 34.328125,
          "x1": 34.4765625,
          "y0": -4,
          "y1": -5.5
         },
         {
          "layer": "below",
          "line": {
           "color": "#333",
           "width": 4
          },
          "type": "line",
          "x0": 34.4765625,
          "x1": 34.40234375,
          "y0": -5.5,
          "y1": -7
         },
         {
          "layer": "below",
          "line": {
           "color": "#333",
           "width": 4
          },
          "type": "line",
          "x0": 34.40234375,
          "x1": 34.365234375,
          "y0": -7,
          "y1": -8.5
         },
         {
          "layer": "below",
          "line": {
           "color": "#333",
           "width": 4
          },
          "type": "line",
          "x0": 34.40234375,
          "x1": 34.439453125,
          "y0": -7,
          "y1": -8.5
         },
         {
          "layer": "below",
          "line": {
           "color": "#333",
           "width": 4
          },
          "type": "line",
          "x0": 34.439453125,
          "x1": 34.4208984375,
          "y0": -8.5,
          "y1": -10
         },
         {
          "layer": "below",
          "line": {
           "color": "#333",
           "width": 4
          },
          "type": "line",
          "x0": 34.439453125,
          "x1": 34.4580078125,
          "y0": -8.5,
          "y1": -10
         },
         {
          "layer": "below",
          "line": {
           "color": "#333",
           "width": 4
          },
          "type": "line",
          "x0": 34.4765625,
          "x1": 34.55078125,
          "y0": -5.5,
          "y1": -7
         },
         {
          "layer": "below",
          "line": {
           "color": "#333",
           "width": 4
          },
          "type": "line",
          "x0": 34.55078125,
          "x1": 34.513671875,
          "y0": -7,
          "y1": -8.5
         },
         {
          "layer": "below",
          "line": {
           "color": "#333",
           "width": 4
          },
          "type": "line",
          "x0": 34.513671875,
          "x1": 34.4951171875,
          "y0": -8.5,
          "y1": -10
         },
         {
          "layer": "below",
          "line": {
           "color": "#333",
           "width": 4
          },
          "type": "line",
          "x0": 34.513671875,
          "x1": 34.5322265625,
          "y0": -8.5,
          "y1": -10
         },
         {
          "layer": "below",
          "line": {
           "color": "#333",
           "width": 4
          },
          "type": "line",
          "x0": 34.55078125,
          "x1": 34.587890625,
          "y0": -7,
          "y1": -8.5
         },
         {
          "layer": "below",
          "line": {
           "color": "#333",
           "width": 4
          },
          "type": "line",
          "x0": 34.587890625,
          "x1": 34.5693359375,
          "y0": -8.5,
          "y1": -10
         },
         {
          "layer": "below",
          "line": {
           "color": "#333",
           "width": 4
          },
          "type": "line",
          "x0": 34.587890625,
          "x1": 34.6064453125,
          "y0": -8.5,
          "y1": -10
         },
         {
          "layer": "below",
          "line": {
           "color": "#333",
           "width": 4
          },
          "type": "line",
          "x0": 34.6064453125,
          "x1": 34.59716796875,
          "y0": -10,
          "y1": -11.5
         },
         {
          "layer": "below",
          "line": {
           "color": "#333",
           "width": 4
          },
          "type": "line",
          "x0": 34.6064453125,
          "x1": 34.61572265625,
          "y0": -10,
          "y1": -11.5
         },
         {
          "layer": "below",
          "line": {
           "color": "#333",
           "width": 4
          },
          "type": "line",
          "x0": 34.625,
          "x1": 35.8125,
          "y0": 0.5,
          "y1": -1
         },
         {
          "layer": "below",
          "line": {
           "color": "#333",
           "width": 4
          },
          "type": "line",
          "x0": 35.8125,
          "x1": 35.21875,
          "y0": -1,
          "y1": -2.5
         },
         {
          "layer": "below",
          "line": {
           "color": "#333",
           "width": 4
          },
          "type": "line",
          "x0": 35.21875,
          "x1": 34.921875,
          "y0": -2.5,
          "y1": -4
         },
         {
          "layer": "below",
          "line": {
           "color": "#333",
           "width": 4
          },
          "type": "line",
          "x0": 35.21875,
          "x1": 35.515625,
          "y0": -2.5,
          "y1": -4
         },
         {
          "layer": "below",
          "line": {
           "color": "#333",
           "width": 4
          },
          "type": "line",
          "x0": 35.515625,
          "x1": 35.3671875,
          "y0": -4,
          "y1": -5.5
         },
         {
          "layer": "below",
          "line": {
           "color": "#333",
           "width": 4
          },
          "type": "line",
          "x0": 35.3671875,
          "x1": 35.29296875,
          "y0": -5.5,
          "y1": -7
         },
         {
          "layer": "below",
          "line": {
           "color": "#333",
           "width": 4
          },
          "type": "line",
          "x0": 35.29296875,
          "x1": 35.255859375,
          "y0": -7,
          "y1": -8.5
         },
         {
          "layer": "below",
          "line": {
           "color": "#333",
           "width": 4
          },
          "type": "line",
          "x0": 35.255859375,
          "x1": 35.2373046875,
          "y0": -8.5,
          "y1": -10
         },
         {
          "layer": "below",
          "line": {
           "color": "#333",
           "width": 4
          },
          "type": "line",
          "x0": 35.255859375,
          "x1": 35.2744140625,
          "y0": -8.5,
          "y1": -10
         },
         {
          "layer": "below",
          "line": {
           "color": "#333",
           "width": 4
          },
          "type": "line",
          "x0": 35.29296875,
          "x1": 35.330078125,
          "y0": -7,
          "y1": -8.5
         },
         {
          "layer": "below",
          "line": {
           "color": "#333",
           "width": 4
          },
          "type": "line",
          "x0": 35.330078125,
          "x1": 35.3115234375,
          "y0": -8.5,
          "y1": -10
         },
         {
          "layer": "below",
          "line": {
           "color": "#333",
           "width": 4
          },
          "type": "line",
          "x0": 35.330078125,
          "x1": 35.3486328125,
          "y0": -8.5,
          "y1": -10
         },
         {
          "layer": "below",
          "line": {
           "color": "#333",
           "width": 4
          },
          "type": "line",
          "x0": 35.3671875,
          "x1": 35.44140625,
          "y0": -5.5,
          "y1": -7
         },
         {
          "layer": "below",
          "line": {
           "color": "#333",
           "width": 4
          },
          "type": "line",
          "x0": 35.44140625,
          "x1": 35.404296875,
          "y0": -7,
          "y1": -8.5
         },
         {
          "layer": "below",
          "line": {
           "color": "#333",
           "width": 4
          },
          "type": "line",
          "x0": 35.44140625,
          "x1": 35.478515625,
          "y0": -7,
          "y1": -8.5
         },
         {
          "layer": "below",
          "line": {
           "color": "#333",
           "width": 4
          },
          "type": "line",
          "x0": 35.478515625,
          "x1": 35.4599609375,
          "y0": -8.5,
          "y1": -10
         },
         {
          "layer": "below",
          "line": {
           "color": "#333",
           "width": 4
          },
          "type": "line",
          "x0": 35.4599609375,
          "x1": 35.45068359375,
          "y0": -10,
          "y1": -11.5
         },
         {
          "layer": "below",
          "line": {
           "color": "#333",
           "width": 4
          },
          "type": "line",
          "x0": 35.4599609375,
          "x1": 35.46923828125,
          "y0": -10,
          "y1": -11.5
         },
         {
          "layer": "below",
          "line": {
           "color": "#333",
           "width": 4
          },
          "type": "line",
          "x0": 35.46923828125,
          "x1": 35.464599609375,
          "y0": -11.5,
          "y1": -13
         },
         {
          "layer": "below",
          "line": {
           "color": "#333",
           "width": 4
          },
          "type": "line",
          "x0": 35.46923828125,
          "x1": 35.473876953125,
          "y0": -11.5,
          "y1": -13
         },
         {
          "layer": "below",
          "line": {
           "color": "#333",
           "width": 4
          },
          "type": "line",
          "x0": 35.478515625,
          "x1": 35.4970703125,
          "y0": -8.5,
          "y1": -10
         },
         {
          "layer": "below",
          "line": {
           "color": "#333",
           "width": 4
          },
          "type": "line",
          "x0": 35.4970703125,
          "x1": 35.48779296875,
          "y0": -10,
          "y1": -11.5
         },
         {
          "layer": "below",
          "line": {
           "color": "#333",
           "width": 4
          },
          "type": "line",
          "x0": 35.48779296875,
          "x1": 35.483154296875,
          "y0": -11.5,
          "y1": -13
         },
         {
          "layer": "below",
          "line": {
           "color": "#333",
           "width": 4
          },
          "type": "line",
          "x0": 35.48779296875,
          "x1": 35.492431640625,
          "y0": -11.5,
          "y1": -13
         },
         {
          "layer": "below",
          "line": {
           "color": "#333",
           "width": 4
          },
          "type": "line",
          "x0": 35.4970703125,
          "x1": 35.50634765625,
          "y0": -10,
          "y1": -11.5
         },
         {
          "layer": "below",
          "line": {
           "color": "#333",
           "width": 4
          },
          "type": "line",
          "x0": 35.50634765625,
          "x1": 35.501708984375,
          "y0": -11.5,
          "y1": -13
         },
         {
          "layer": "below",
          "line": {
           "color": "#333",
           "width": 4
          },
          "type": "line",
          "x0": 35.50634765625,
          "x1": 35.510986328125,
          "y0": -11.5,
          "y1": -13
         },
         {
          "layer": "below",
          "line": {
           "color": "#333",
           "width": 4
          },
          "type": "line",
          "x0": 35.510986328125,
          "x1": 35.5086669921875,
          "y0": -13,
          "y1": -14.5
         },
         {
          "layer": "below",
          "line": {
           "color": "#333",
           "width": 4
          },
          "type": "line",
          "x0": 35.510986328125,
          "x1": 35.5133056640625,
          "y0": -13,
          "y1": -14.5
         },
         {
          "layer": "below",
          "line": {
           "color": "#333",
           "width": 4
          },
          "type": "line",
          "x0": 35.5133056640625,
          "x1": 35.51214599609375,
          "y0": -14.5,
          "y1": -16
         },
         {
          "layer": "below",
          "line": {
           "color": "#333",
           "width": 4
          },
          "type": "line",
          "x0": 35.5133056640625,
          "x1": 35.51446533203125,
          "y0": -14.5,
          "y1": -16
         },
         {
          "layer": "below",
          "line": {
           "color": "#333",
           "width": 4
          },
          "type": "line",
          "x0": 35.515625,
          "x1": 35.6640625,
          "y0": -4,
          "y1": -5.5
         },
         {
          "layer": "below",
          "line": {
           "color": "#333",
           "width": 4
          },
          "type": "line",
          "x0": 35.6640625,
          "x1": 35.58984375,
          "y0": -5.5,
          "y1": -7
         },
         {
          "layer": "below",
          "line": {
           "color": "#333",
           "width": 4
          },
          "type": "line",
          "x0": 35.6640625,
          "x1": 35.73828125,
          "y0": -5.5,
          "y1": -7
         },
         {
          "layer": "below",
          "line": {
           "color": "#333",
           "width": 4
          },
          "type": "line",
          "x0": 35.73828125,
          "x1": 35.701171875,
          "y0": -7,
          "y1": -8.5
         },
         {
          "layer": "below",
          "line": {
           "color": "#333",
           "width": 4
          },
          "type": "line",
          "x0": 35.701171875,
          "x1": 35.6826171875,
          "y0": -8.5,
          "y1": -10
         },
         {
          "layer": "below",
          "line": {
           "color": "#333",
           "width": 4
          },
          "type": "line",
          "x0": 35.701171875,
          "x1": 35.7197265625,
          "y0": -8.5,
          "y1": -10
         },
         {
          "layer": "below",
          "line": {
           "color": "#333",
           "width": 4
          },
          "type": "line",
          "x0": 35.7197265625,
          "x1": 35.71044921875,
          "y0": -10,
          "y1": -11.5
         },
         {
          "layer": "below",
          "line": {
           "color": "#333",
           "width": 4
          },
          "type": "line",
          "x0": 35.71044921875,
          "x1": 35.705810546875,
          "y0": -11.5,
          "y1": -13
         },
         {
          "layer": "below",
          "line": {
           "color": "#333",
           "width": 4
          },
          "type": "line",
          "x0": 35.71044921875,
          "x1": 35.715087890625,
          "y0": -11.5,
          "y1": -13
         },
         {
          "layer": "below",
          "line": {
           "color": "#333",
           "width": 4
          },
          "type": "line",
          "x0": 35.7197265625,
          "x1": 35.72900390625,
          "y0": -10,
          "y1": -11.5
         },
         {
          "layer": "below",
          "line": {
           "color": "#333",
           "width": 4
          },
          "type": "line",
          "x0": 35.72900390625,
          "x1": 35.724365234375,
          "y0": -11.5,
          "y1": -13
         },
         {
          "layer": "below",
          "line": {
           "color": "#333",
           "width": 4
          },
          "type": "line",
          "x0": 35.72900390625,
          "x1": 35.733642578125,
          "y0": -11.5,
          "y1": -13
         },
         {
          "layer": "below",
          "line": {
           "color": "#333",
           "width": 4
          },
          "type": "line",
          "x0": 35.73828125,
          "x1": 35.775390625,
          "y0": -7,
          "y1": -8.5
         },
         {
          "layer": "below",
          "line": {
           "color": "#333",
           "width": 4
          },
          "type": "line",
          "x0": 35.775390625,
          "x1": 35.7568359375,
          "y0": -8.5,
          "y1": -10
         },
         {
          "layer": "below",
          "line": {
           "color": "#333",
           "width": 4
          },
          "type": "line",
          "x0": 35.7568359375,
          "x1": 35.74755859375,
          "y0": -10,
          "y1": -11.5
         },
         {
          "layer": "below",
          "line": {
           "color": "#333",
           "width": 4
          },
          "type": "line",
          "x0": 35.74755859375,
          "x1": 35.742919921875,
          "y0": -11.5,
          "y1": -13
         },
         {
          "layer": "below",
          "line": {
           "color": "#333",
           "width": 4
          },
          "type": "line",
          "x0": 35.742919921875,
          "x1": 35.7406005859375,
          "y0": -13,
          "y1": -14.5
         },
         {
          "layer": "below",
          "line": {
           "color": "#333",
           "width": 4
          },
          "type": "line",
          "x0": 35.7406005859375,
          "x1": 35.73944091796875,
          "y0": -14.5,
          "y1": -16
         },
         {
          "layer": "below",
          "line": {
           "color": "#333",
           "width": 4
          },
          "type": "line",
          "x0": 35.7406005859375,
          "x1": 35.74176025390625,
          "y0": -14.5,
          "y1": -16
         },
         {
          "layer": "below",
          "line": {
           "color": "#333",
           "width": 4
          },
          "type": "line",
          "x0": 35.74176025390625,
          "x1": 35.741180419921875,
          "y0": -16,
          "y1": -17.5
         },
         {
          "layer": "below",
          "line": {
           "color": "#333",
           "width": 4
          },
          "type": "line",
          "x0": 35.741180419921875,
          "x1": 35.74089050292969,
          "y0": -17.5,
          "y1": -19
         },
         {
          "layer": "below",
          "line": {
           "color": "#333",
           "width": 4
          },
          "type": "line",
          "x0": 35.741180419921875,
          "x1": 35.74147033691406,
          "y0": -17.5,
          "y1": -19
         },
         {
          "layer": "below",
          "line": {
           "color": "#333",
           "width": 4
          },
          "type": "line",
          "x0": 35.74147033691406,
          "x1": 35.74132537841797,
          "y0": -19,
          "y1": -20.5
         },
         {
          "layer": "below",
          "line": {
           "color": "#333",
           "width": 4
          },
          "type": "line",
          "x0": 35.74147033691406,
          "x1": 35.741615295410156,
          "y0": -19,
          "y1": -20.5
         },
         {
          "layer": "below",
          "line": {
           "color": "#333",
           "width": 4
          },
          "type": "line",
          "x0": 35.74176025390625,
          "x1": 35.742340087890625,
          "y0": -16,
          "y1": -17.5
         },
         {
          "layer": "below",
          "line": {
           "color": "#333",
           "width": 4
          },
          "type": "line",
          "x0": 35.742340087890625,
          "x1": 35.74205017089844,
          "y0": -17.5,
          "y1": -19
         },
         {
          "layer": "below",
          "line": {
           "color": "#333",
           "width": 4
          },
          "type": "line",
          "x0": 35.742340087890625,
          "x1": 35.74263000488281,
          "y0": -17.5,
          "y1": -19
         },
         {
          "layer": "below",
          "line": {
           "color": "#333",
           "width": 4
          },
          "type": "line",
          "x0": 35.74263000488281,
          "x1": 35.74248504638672,
          "y0": -19,
          "y1": -20.5
         },
         {
          "layer": "below",
          "line": {
           "color": "#333",
           "width": 4
          },
          "type": "line",
          "x0": 35.74263000488281,
          "x1": 35.742774963378906,
          "y0": -19,
          "y1": -20.5
         },
         {
          "layer": "below",
          "line": {
           "color": "#333",
           "width": 4
          },
          "type": "line",
          "x0": 35.742774963378906,
          "x1": 35.74270248413086,
          "y0": -20.5,
          "y1": -22
         },
         {
          "layer": "below",
          "line": {
           "color": "#333",
           "width": 4
          },
          "type": "line",
          "x0": 35.742774963378906,
          "x1": 35.74284744262695,
          "y0": -20.5,
          "y1": -22
         },
         {
          "layer": "below",
          "line": {
           "color": "#333",
           "width": 4
          },
          "type": "line",
          "x0": 35.74284744262695,
          "x1": 35.74281120300293,
          "y0": -22,
          "y1": -23.5
         },
         {
          "layer": "below",
          "line": {
           "color": "#333",
           "width": 4
          },
          "type": "line",
          "x0": 35.74284744262695,
          "x1": 35.74288368225098,
          "y0": -22,
          "y1": -23.5
         },
         {
          "layer": "below",
          "line": {
           "color": "#333",
           "width": 4
          },
          "type": "line",
          "x0": 35.742919921875,
          "x1": 35.7452392578125,
          "y0": -13,
          "y1": -14.5
         },
         {
          "layer": "below",
          "line": {
           "color": "#333",
           "width": 4
          },
          "type": "line",
          "x0": 35.7452392578125,
          "x1": 35.74407958984375,
          "y0": -14.5,
          "y1": -16
         },
         {
          "layer": "below",
          "line": {
           "color": "#333",
           "width": 4
          },
          "type": "line",
          "x0": 35.74407958984375,
          "x1": 35.743499755859375,
          "y0": -16,
          "y1": -17.5
         },
         {
          "layer": "below",
          "line": {
           "color": "#333",
           "width": 4
          },
          "type": "line",
          "x0": 35.743499755859375,
          "x1": 35.74320983886719,
          "y0": -17.5,
          "y1": -19
         },
         {
          "layer": "below",
          "line": {
           "color": "#333",
           "width": 4
          },
          "type": "line",
          "x0": 35.743499755859375,
          "x1": 35.74378967285156,
          "y0": -17.5,
          "y1": -19
         },
         {
          "layer": "below",
          "line": {
           "color": "#333",
           "width": 4
          },
          "type": "line",
          "x0": 35.74378967285156,
          "x1": 35.74364471435547,
          "y0": -19,
          "y1": -20.5
         },
         {
          "layer": "below",
          "line": {
           "color": "#333",
           "width": 4
          },
          "type": "line",
          "x0": 35.74378967285156,
          "x1": 35.743934631347656,
          "y0": -19,
          "y1": -20.5
         },
         {
          "layer": "below",
          "line": {
           "color": "#333",
           "width": 4
          },
          "type": "line",
          "x0": 35.74407958984375,
          "x1": 35.744659423828125,
          "y0": -16,
          "y1": -17.5
         },
         {
          "layer": "below",
          "line": {
           "color": "#333",
           "width": 4
          },
          "type": "line",
          "x0": 35.744659423828125,
          "x1": 35.74436950683594,
          "y0": -17.5,
          "y1": -19
         },
         {
          "layer": "below",
          "line": {
           "color": "#333",
           "width": 4
          },
          "type": "line",
          "x0": 35.744659423828125,
          "x1": 35.74494934082031,
          "y0": -17.5,
          "y1": -19
         },
         {
          "layer": "below",
          "line": {
           "color": "#333",
           "width": 4
          },
          "type": "line",
          "x0": 35.74494934082031,
          "x1": 35.74480438232422,
          "y0": -19,
          "y1": -20.5
         },
         {
          "layer": "below",
          "line": {
           "color": "#333",
           "width": 4
          },
          "type": "line",
          "x0": 35.74494934082031,
          "x1": 35.745094299316406,
          "y0": -19,
          "y1": -20.5
         },
         {
          "layer": "below",
          "line": {
           "color": "#333",
           "width": 4
          },
          "type": "line",
          "x0": 35.745094299316406,
          "x1": 35.74502182006836,
          "y0": -20.5,
          "y1": -22
         },
         {
          "layer": "below",
          "line": {
           "color": "#333",
           "width": 4
          },
          "type": "line",
          "x0": 35.745094299316406,
          "x1": 35.74516677856445,
          "y0": -20.5,
          "y1": -22
         },
         {
          "layer": "below",
          "line": {
           "color": "#333",
           "width": 4
          },
          "type": "line",
          "x0": 35.74516677856445,
          "x1": 35.74513053894043,
          "y0": -22,
          "y1": -23.5
         },
         {
          "layer": "below",
          "line": {
           "color": "#333",
           "width": 4
          },
          "type": "line",
          "x0": 35.74516677856445,
          "x1": 35.74520301818848,
          "y0": -22,
          "y1": -23.5
         },
         {
          "layer": "below",
          "line": {
           "color": "#333",
           "width": 4
          },
          "type": "line",
          "x0": 35.74520301818848,
          "x1": 35.745184898376465,
          "y0": -23.5,
          "y1": -25
         },
         {
          "layer": "below",
          "line": {
           "color": "#333",
           "width": 4
          },
          "type": "line",
          "x0": 35.74520301818848,
          "x1": 35.74522113800049,
          "y0": -23.5,
          "y1": -25
         },
         {
          "layer": "below",
          "line": {
           "color": "#333",
           "width": 4
          },
          "type": "line",
          "x0": 35.7452392578125,
          "x1": 35.74639892578125,
          "y0": -14.5,
          "y1": -16
         },
         {
          "layer": "below",
          "line": {
           "color": "#333",
           "width": 4
          },
          "type": "line",
          "x0": 35.74639892578125,
          "x1": 35.745819091796875,
          "y0": -16,
          "y1": -17.5
         },
         {
          "layer": "below",
          "line": {
           "color": "#333",
           "width": 4
          },
          "type": "line",
          "x0": 35.745819091796875,
          "x1": 35.74552917480469,
          "y0": -17.5,
          "y1": -19
         },
         {
          "layer": "below",
          "line": {
           "color": "#333",
           "width": 4
          },
          "type": "line",
          "x0": 35.74552917480469,
          "x1": 35.745384216308594,
          "y0": -19,
          "y1": -20.5
         },
         {
          "layer": "below",
          "line": {
           "color": "#333",
           "width": 4
          },
          "type": "line",
          "x0": 35.745384216308594,
          "x1": 35.74531173706055,
          "y0": -20.5,
          "y1": -22
         },
         {
          "layer": "below",
          "line": {
           "color": "#333",
           "width": 4
          },
          "type": "line",
          "x0": 35.745384216308594,
          "x1": 35.74545669555664,
          "y0": -20.5,
          "y1": -22
         },
         {
          "layer": "below",
          "line": {
           "color": "#333",
           "width": 4
          },
          "type": "line",
          "x0": 35.74545669555664,
          "x1": 35.74542045593262,
          "y0": -22,
          "y1": -23.5
         },
         {
          "layer": "below",
          "line": {
           "color": "#333",
           "width": 4
          },
          "type": "line",
          "x0": 35.74545669555664,
          "x1": 35.745492935180664,
          "y0": -22,
          "y1": -23.5
         },
         {
          "layer": "below",
          "line": {
           "color": "#333",
           "width": 4
          },
          "type": "line",
          "x0": 35.745492935180664,
          "x1": 35.74547481536865,
          "y0": -23.5,
          "y1": -25
         },
         {
          "layer": "below",
          "line": {
           "color": "#333",
           "width": 4
          },
          "type": "line",
          "x0": 35.745492935180664,
          "x1": 35.745511054992676,
          "y0": -23.5,
          "y1": -25
         },
         {
          "layer": "below",
          "line": {
           "color": "#333",
           "width": 4
          },
          "type": "line",
          "x0": 35.745511054992676,
          "x1": 35.74550199508667,
          "y0": -25,
          "y1": -26.5
         },
         {
          "layer": "below",
          "line": {
           "color": "#333",
           "width": 4
          },
          "type": "line",
          "x0": 35.745511054992676,
          "x1": 35.74552011489868,
          "y0": -25,
          "y1": -26.5
         },
         {
          "layer": "below",
          "line": {
           "color": "#333",
           "width": 4
          },
          "type": "line",
          "x0": 35.74552917480469,
          "x1": 35.74567413330078,
          "y0": -19,
          "y1": -20.5
         },
         {
          "layer": "below",
          "line": {
           "color": "#333",
           "width": 4
          },
          "type": "line",
          "x0": 35.74567413330078,
          "x1": 35.745601654052734,
          "y0": -20.5,
          "y1": -22
         },
         {
          "layer": "below",
          "line": {
           "color": "#333",
           "width": 4
          },
          "type": "line",
          "x0": 35.74567413330078,
          "x1": 35.74574661254883,
          "y0": -20.5,
          "y1": -22
         },
         {
          "layer": "below",
          "line": {
           "color": "#333",
           "width": 4
          },
          "type": "line",
          "x0": 35.74574661254883,
          "x1": 35.745710372924805,
          "y0": -22,
          "y1": -23.5
         },
         {
          "layer": "below",
          "line": {
           "color": "#333",
           "width": 4
          },
          "type": "line",
          "x0": 35.74574661254883,
          "x1": 35.74578285217285,
          "y0": -22,
          "y1": -23.5
         },
         {
          "layer": "below",
          "line": {
           "color": "#333",
           "width": 4
          },
          "type": "line",
          "x0": 35.74578285217285,
          "x1": 35.74576473236084,
          "y0": -23.5,
          "y1": -25
         },
         {
          "layer": "below",
          "line": {
           "color": "#333",
           "width": 4
          },
          "type": "line",
          "x0": 35.74578285217285,
          "x1": 35.74580097198486,
          "y0": -23.5,
          "y1": -25
         },
         {
          "layer": "below",
          "line": {
           "color": "#333",
           "width": 4
          },
          "type": "line",
          "x0": 35.745819091796875,
          "x1": 35.74610900878906,
          "y0": -17.5,
          "y1": -19
         },
         {
          "layer": "below",
          "line": {
           "color": "#333",
           "width": 4
          },
          "type": "line",
          "x0": 35.74610900878906,
          "x1": 35.74596405029297,
          "y0": -19,
          "y1": -20.5
         },
         {
          "layer": "below",
          "line": {
           "color": "#333",
           "width": 4
          },
          "type": "line",
          "x0": 35.74596405029297,
          "x1": 35.74589157104492,
          "y0": -20.5,
          "y1": -22
         },
         {
          "layer": "below",
          "line": {
           "color": "#333",
           "width": 4
          },
          "type": "line",
          "x0": 35.74596405029297,
          "x1": 35.746036529541016,
          "y0": -20.5,
          "y1": -22
         },
         {
          "layer": "below",
          "line": {
           "color": "#333",
           "width": 4
          },
          "type": "line",
          "x0": 35.74610900878906,
          "x1": 35.746253967285156,
          "y0": -19,
          "y1": -20.5
         },
         {
          "layer": "below",
          "line": {
           "color": "#333",
           "width": 4
          },
          "type": "line",
          "x0": 35.746253967285156,
          "x1": 35.74618148803711,
          "y0": -20.5,
          "y1": -22
         },
         {
          "layer": "below",
          "line": {
           "color": "#333",
           "width": 4
          },
          "type": "line",
          "x0": 35.74618148803711,
          "x1": 35.746145248413086,
          "y0": -22,
          "y1": -23.5
         },
         {
          "layer": "below",
          "line": {
           "color": "#333",
           "width": 4
          },
          "type": "line",
          "x0": 35.74618148803711,
          "x1": 35.74621772766113,
          "y0": -22,
          "y1": -23.5
         },
         {
          "layer": "below",
          "line": {
           "color": "#333",
           "width": 4
          },
          "type": "line",
          "x0": 35.746253967285156,
          "x1": 35.7463264465332,
          "y0": -20.5,
          "y1": -22
         },
         {
          "layer": "below",
          "line": {
           "color": "#333",
           "width": 4
          },
          "type": "line",
          "x0": 35.7463264465332,
          "x1": 35.74629020690918,
          "y0": -22,
          "y1": -23.5
         },
         {
          "layer": "below",
          "line": {
           "color": "#333",
           "width": 4
          },
          "type": "line",
          "x0": 35.7463264465332,
          "x1": 35.74636268615723,
          "y0": -22,
          "y1": -23.5
         },
         {
          "layer": "below",
          "line": {
           "color": "#333",
           "width": 4
          },
          "type": "line",
          "x0": 35.74636268615723,
          "x1": 35.746344566345215,
          "y0": -23.5,
          "y1": -25
         },
         {
          "layer": "below",
          "line": {
           "color": "#333",
           "width": 4
          },
          "type": "line",
          "x0": 35.74636268615723,
          "x1": 35.74638080596924,
          "y0": -23.5,
          "y1": -25
         },
         {
          "layer": "below",
          "line": {
           "color": "#333",
           "width": 4
          },
          "type": "line",
          "x0": 35.74638080596924,
          "x1": 35.74637174606323,
          "y0": -25,
          "y1": -26.5
         },
         {
          "layer": "below",
          "line": {
           "color": "#333",
           "width": 4
          },
          "type": "line",
          "x0": 35.74638080596924,
          "x1": 35.746389865875244,
          "y0": -25,
          "y1": -26.5
         },
         {
          "layer": "below",
          "line": {
           "color": "#333",
           "width": 4
          },
          "type": "line",
          "x0": 35.74639892578125,
          "x1": 35.746978759765625,
          "y0": -16,
          "y1": -17.5
         },
         {
          "layer": "below",
          "line": {
           "color": "#333",
           "width": 4
          },
          "type": "line",
          "x0": 35.746978759765625,
          "x1": 35.74668884277344,
          "y0": -17.5,
          "y1": -19
         },
         {
          "layer": "below",
          "line": {
           "color": "#333",
           "width": 4
          },
          "type": "line",
          "x0": 35.74668884277344,
          "x1": 35.746543884277344,
          "y0": -19,
          "y1": -20.5
         },
         {
          "layer": "below",
          "line": {
           "color": "#333",
           "width": 4
          },
          "type": "line",
          "x0": 35.74668884277344,
          "x1": 35.74683380126953,
          "y0": -19,
          "y1": -20.5
         },
         {
          "layer": "below",
          "line": {
           "color": "#333",
           "width": 4
          },
          "type": "line",
          "x0": 35.74683380126953,
          "x1": 35.746761322021484,
          "y0": -20.5,
          "y1": -22
         },
         {
          "layer": "below",
          "line": {
           "color": "#333",
           "width": 4
          },
          "type": "line",
          "x0": 35.74683380126953,
          "x1": 35.74690628051758,
          "y0": -20.5,
          "y1": -22
         },
         {
          "layer": "below",
          "line": {
           "color": "#333",
           "width": 4
          },
          "type": "line",
          "x0": 35.746978759765625,
          "x1": 35.74726867675781,
          "y0": -17.5,
          "y1": -19
         },
         {
          "layer": "below",
          "line": {
           "color": "#333",
           "width": 4
          },
          "type": "line",
          "x0": 35.74726867675781,
          "x1": 35.74712371826172,
          "y0": -19,
          "y1": -20.5
         },
         {
          "layer": "below",
          "line": {
           "color": "#333",
           "width": 4
          },
          "type": "line",
          "x0": 35.74712371826172,
          "x1": 35.74705123901367,
          "y0": -20.5,
          "y1": -22
         },
         {
          "layer": "below",
          "line": {
           "color": "#333",
           "width": 4
          },
          "type": "line",
          "x0": 35.74712371826172,
          "x1": 35.747196197509766,
          "y0": -20.5,
          "y1": -22
         },
         {
          "layer": "below",
          "line": {
           "color": "#333",
           "width": 4
          },
          "type": "line",
          "x0": 35.74726867675781,
          "x1": 35.747413635253906,
          "y0": -19,
          "y1": -20.5
         },
         {
          "layer": "below",
          "line": {
           "color": "#333",
           "width": 4
          },
          "type": "line",
          "x0": 35.747413635253906,
          "x1": 35.74734115600586,
          "y0": -20.5,
          "y1": -22
         },
         {
          "layer": "below",
          "line": {
           "color": "#333",
           "width": 4
          },
          "type": "line",
          "x0": 35.74734115600586,
          "x1": 35.747304916381836,
          "y0": -22,
          "y1": -23.5
         },
         {
          "layer": "below",
          "line": {
           "color": "#333",
           "width": 4
          },
          "type": "line",
          "x0": 35.747304916381836,
          "x1": 35.747286796569824,
          "y0": -23.5,
          "y1": -25
         },
         {
          "layer": "below",
          "line": {
           "color": "#333",
           "width": 4
          },
          "type": "line",
          "x0": 35.747304916381836,
          "x1": 35.74732303619385,
          "y0": -23.5,
          "y1": -25
         },
         {
          "layer": "below",
          "line": {
           "color": "#333",
           "width": 4
          },
          "type": "line",
          "x0": 35.74734115600586,
          "x1": 35.74737739562988,
          "y0": -22,
          "y1": -23.5
         },
         {
          "layer": "below",
          "line": {
           "color": "#333",
           "width": 4
          },
          "type": "line",
          "x0": 35.74737739562988,
          "x1": 35.74735927581787,
          "y0": -23.5,
          "y1": -25
         },
         {
          "layer": "below",
          "line": {
           "color": "#333",
           "width": 4
          },
          "type": "line",
          "x0": 35.74737739562988,
          "x1": 35.747395515441895,
          "y0": -23.5,
          "y1": -25
         },
         {
          "layer": "below",
          "line": {
           "color": "#333",
           "width": 4
          },
          "type": "line",
          "x0": 35.747413635253906,
          "x1": 35.74748611450195,
          "y0": -20.5,
          "y1": -22
         },
         {
          "layer": "below",
          "line": {
           "color": "#333",
           "width": 4
          },
          "type": "line",
          "x0": 35.74748611450195,
          "x1": 35.74744987487793,
          "y0": -22,
          "y1": -23.5
         },
         {
          "layer": "below",
          "line": {
           "color": "#333",
           "width": 4
          },
          "type": "line",
          "x0": 35.74744987487793,
          "x1": 35.74743175506592,
          "y0": -23.5,
          "y1": -25
         },
         {
          "layer": "below",
          "line": {
           "color": "#333",
           "width": 4
          },
          "type": "line",
          "x0": 35.74744987487793,
          "x1": 35.74746799468994,
          "y0": -23.5,
          "y1": -25
         },
         {
          "layer": "below",
          "line": {
           "color": "#333",
           "width": 4
          },
          "type": "line",
          "x0": 35.74746799468994,
          "x1": 35.747458934783936,
          "y0": -25,
          "y1": -26.5
         },
         {
          "layer": "below",
          "line": {
           "color": "#333",
           "width": 4
          },
          "type": "line",
          "x0": 35.74746799468994,
          "x1": 35.74747705459595,
          "y0": -25,
          "y1": -26.5
         },
         {
          "layer": "below",
          "line": {
           "color": "#333",
           "width": 4
          },
          "type": "line",
          "x0": 35.74747705459595,
          "x1": 35.747472524642944,
          "y0": -26.5,
          "y1": -28
         },
         {
          "layer": "below",
          "line": {
           "color": "#333",
           "width": 4
          },
          "type": "line",
          "x0": 35.74747705459595,
          "x1": 35.74748158454895,
          "y0": -26.5,
          "y1": -28
         },
         {
          "layer": "below",
          "line": {
           "color": "#333",
           "width": 4
          },
          "type": "line",
          "x0": 35.74748158454895,
          "x1": 35.74747931957245,
          "y0": -28,
          "y1": -29.5
         },
         {
          "layer": "below",
          "line": {
           "color": "#333",
           "width": 4
          },
          "type": "line",
          "x0": 35.74748158454895,
          "x1": 35.74748384952545,
          "y0": -28,
          "y1": -29.5
         },
         {
          "layer": "below",
          "line": {
           "color": "#333",
           "width": 4
          },
          "type": "line",
          "x0": 35.74748611450195,
          "x1": 35.74752235412598,
          "y0": -22,
          "y1": -23.5
         },
         {
          "layer": "below",
          "line": {
           "color": "#333",
           "width": 4
          },
          "type": "line",
          "x0": 35.74752235412598,
          "x1": 35.747504234313965,
          "y0": -23.5,
          "y1": -25
         },
         {
          "layer": "below",
          "line": {
           "color": "#333",
           "width": 4
          },
          "type": "line",
          "x0": 35.747504234313965,
          "x1": 35.74749517440796,
          "y0": -25,
          "y1": -26.5
         },
         {
          "layer": "below",
          "line": {
           "color": "#333",
           "width": 4
          },
          "type": "line",
          "x0": 35.747504234313965,
          "x1": 35.74751329421997,
          "y0": -25,
          "y1": -26.5
         },
         {
          "layer": "below",
          "line": {
           "color": "#333",
           "width": 4
          },
          "type": "line",
          "x0": 35.74752235412598,
          "x1": 35.74754047393799,
          "y0": -23.5,
          "y1": -25
         },
         {
          "layer": "below",
          "line": {
           "color": "#333",
           "width": 4
          },
          "type": "line",
          "x0": 35.74754047393799,
          "x1": 35.74753141403198,
          "y0": -25,
          "y1": -26.5
         },
         {
          "layer": "below",
          "line": {
           "color": "#333",
           "width": 4
          },
          "type": "line",
          "x0": 35.74753141403198,
          "x1": 35.74752688407898,
          "y0": -26.5,
          "y1": -28
         },
         {
          "layer": "below",
          "line": {
           "color": "#333",
           "width": 4
          },
          "type": "line",
          "x0": 35.74753141403198,
          "x1": 35.747535943984985,
          "y0": -26.5,
          "y1": -28
         },
         {
          "layer": "below",
          "line": {
           "color": "#333",
           "width": 4
          },
          "type": "line",
          "x0": 35.747535943984985,
          "x1": 35.747533679008484,
          "y0": -28,
          "y1": -29.5
         },
         {
          "layer": "below",
          "line": {
           "color": "#333",
           "width": 4
          },
          "type": "line",
          "x0": 35.747535943984985,
          "x1": 35.74753820896149,
          "y0": -28,
          "y1": -29.5
         },
         {
          "layer": "below",
          "line": {
           "color": "#333",
           "width": 4
          },
          "type": "line",
          "x0": 35.74753820896149,
          "x1": 35.747537076473236,
          "y0": -29.5,
          "y1": -31
         },
         {
          "layer": "below",
          "line": {
           "color": "#333",
           "width": 4
          },
          "type": "line",
          "x0": 35.74753820896149,
          "x1": 35.74753934144974,
          "y0": -29.5,
          "y1": -31
         },
         {
          "layer": "below",
          "line": {
           "color": "#333",
           "width": 4
          },
          "type": "line",
          "x0": 35.74754047393799,
          "x1": 35.747549533843994,
          "y0": -25,
          "y1": -26.5
         },
         {
          "layer": "below",
          "line": {
           "color": "#333",
           "width": 4
          },
          "type": "line",
          "x0": 35.747549533843994,
          "x1": 35.74754500389099,
          "y0": -26.5,
          "y1": -28
         },
         {
          "layer": "below",
          "line": {
           "color": "#333",
           "width": 4
          },
          "type": "line",
          "x0": 35.747549533843994,
          "x1": 35.747554063797,
          "y0": -26.5,
          "y1": -28
         },
         {
          "layer": "below",
          "line": {
           "color": "#333",
           "width": 4
          },
          "type": "line",
          "x0": 35.74755859375,
          "x1": 35.752197265625,
          "y0": -11.5,
          "y1": -13
         },
         {
          "layer": "below",
          "line": {
           "color": "#333",
           "width": 4
          },
          "type": "line",
          "x0": 35.752197265625,
          "x1": 35.7498779296875,
          "y0": -13,
          "y1": -14.5
         },
         {
          "layer": "below",
          "line": {
           "color": "#333",
           "width": 4
          },
          "type": "line",
          "x0": 35.7498779296875,
          "x1": 35.74871826171875,
          "y0": -14.5,
          "y1": -16
         },
         {
          "layer": "below",
          "line": {
           "color": "#333",
           "width": 4
          },
          "type": "line",
          "x0": 35.7498779296875,
          "x1": 35.75103759765625,
          "y0": -14.5,
          "y1": -16
         },
         {
          "layer": "below",
          "line": {
           "color": "#333",
           "width": 4
          },
          "type": "line",
          "x0": 35.752197265625,
          "x1": 35.7545166015625,
          "y0": -13,
          "y1": -14.5
         },
         {
          "layer": "below",
          "line": {
           "color": "#333",
           "width": 4
          },
          "type": "line",
          "x0": 35.7545166015625,
          "x1": 35.75335693359375,
          "y0": -14.5,
          "y1": -16
         },
         {
          "layer": "below",
          "line": {
           "color": "#333",
           "width": 4
          },
          "type": "line",
          "x0": 35.7545166015625,
          "x1": 35.75567626953125,
          "y0": -14.5,
          "y1": -16
         },
         {
          "layer": "below",
          "line": {
           "color": "#333",
           "width": 4
          },
          "type": "line",
          "x0": 35.75567626953125,
          "x1": 35.755096435546875,
          "y0": -16,
          "y1": -17.5
         },
         {
          "layer": "below",
          "line": {
           "color": "#333",
           "width": 4
          },
          "type": "line",
          "x0": 35.755096435546875,
          "x1": 35.75480651855469,
          "y0": -17.5,
          "y1": -19
         },
         {
          "layer": "below",
          "line": {
           "color": "#333",
           "width": 4
          },
          "type": "line",
          "x0": 35.755096435546875,
          "x1": 35.75538635253906,
          "y0": -17.5,
          "y1": -19
         },
         {
          "layer": "below",
          "line": {
           "color": "#333",
           "width": 4
          },
          "type": "line",
          "x0": 35.75538635253906,
          "x1": 35.75524139404297,
          "y0": -19,
          "y1": -20.5
         },
         {
          "layer": "below",
          "line": {
           "color": "#333",
           "width": 4
          },
          "type": "line",
          "x0": 35.75538635253906,
          "x1": 35.755531311035156,
          "y0": -19,
          "y1": -20.5
         },
         {
          "layer": "below",
          "line": {
           "color": "#333",
           "width": 4
          },
          "type": "line",
          "x0": 35.75567626953125,
          "x1": 35.756256103515625,
          "y0": -16,
          "y1": -17.5
         },
         {
          "layer": "below",
          "line": {
           "color": "#333",
           "width": 4
          },
          "type": "line",
          "x0": 35.756256103515625,
          "x1": 35.75596618652344,
          "y0": -17.5,
          "y1": -19
         },
         {
          "layer": "below",
          "line": {
           "color": "#333",
           "width": 4
          },
          "type": "line",
          "x0": 35.756256103515625,
          "x1": 35.75654602050781,
          "y0": -17.5,
          "y1": -19
         },
         {
          "layer": "below",
          "line": {
           "color": "#333",
           "width": 4
          },
          "type": "line",
          "x0": 35.75654602050781,
          "x1": 35.75640106201172,
          "y0": -19,
          "y1": -20.5
         },
         {
          "layer": "below",
          "line": {
           "color": "#333",
           "width": 4
          },
          "type": "line",
          "x0": 35.75654602050781,
          "x1": 35.756690979003906,
          "y0": -19,
          "y1": -20.5
         },
         {
          "layer": "below",
          "line": {
           "color": "#333",
           "width": 4
          },
          "type": "line",
          "x0": 35.756690979003906,
          "x1": 35.75661849975586,
          "y0": -20.5,
          "y1": -22
         },
         {
          "layer": "below",
          "line": {
           "color": "#333",
           "width": 4
          },
          "type": "line",
          "x0": 35.756690979003906,
          "x1": 35.75676345825195,
          "y0": -20.5,
          "y1": -22
         },
         {
          "layer": "below",
          "line": {
           "color": "#333",
           "width": 4
          },
          "type": "line",
          "x0": 35.7568359375,
          "x1": 35.76611328125,
          "y0": -10,
          "y1": -11.5
         },
         {
          "layer": "below",
          "line": {
           "color": "#333",
           "width": 4
          },
          "type": "line",
          "x0": 35.76611328125,
          "x1": 35.761474609375,
          "y0": -11.5,
          "y1": -13
         },
         {
          "layer": "below",
          "line": {
           "color": "#333",
           "width": 4
          },
          "type": "line",
          "x0": 35.761474609375,
          "x1": 35.7591552734375,
          "y0": -13,
          "y1": -14.5
         },
         {
          "layer": "below",
          "line": {
           "color": "#333",
           "width": 4
          },
          "type": "line",
          "x0": 35.7591552734375,
          "x1": 35.75799560546875,
          "y0": -14.5,
          "y1": -16
         },
         {
          "layer": "below",
          "line": {
           "color": "#333",
           "width": 4
          },
          "type": "line",
          "x0": 35.75799560546875,
          "x1": 35.757415771484375,
          "y0": -16,
          "y1": -17.5
         },
         {
          "layer": "below",
          "line": {
           "color": "#333",
           "width": 4
          },
          "type": "line",
          "x0": 35.75799560546875,
          "x1": 35.758575439453125,
          "y0": -16,
          "y1": -17.5
         },
         {
          "layer": "below",
          "line": {
           "color": "#333",
           "width": 4
          },
          "type": "line",
          "x0": 35.758575439453125,
          "x1": 35.75828552246094,
          "y0": -17.5,
          "y1": -19
         },
         {
          "layer": "below",
          "line": {
           "color": "#333",
           "width": 4
          },
          "type": "line",
          "x0": 35.758575439453125,
          "x1": 35.75886535644531,
          "y0": -17.5,
          "y1": -19
         },
         {
          "layer": "below",
          "line": {
           "color": "#333",
           "width": 4
          },
          "type": "line",
          "x0": 35.7591552734375,
          "x1": 35.76031494140625,
          "y0": -14.5,
          "y1": -16
         },
         {
          "layer": "below",
          "line": {
           "color": "#333",
           "width": 4
          },
          "type": "line",
          "x0": 35.76031494140625,
          "x1": 35.759735107421875,
          "y0": -16,
          "y1": -17.5
         },
         {
          "layer": "below",
          "line": {
           "color": "#333",
           "width": 4
          },
          "type": "line",
          "x0": 35.76031494140625,
          "x1": 35.760894775390625,
          "y0": -16,
          "y1": -17.5
         },
         {
          "layer": "below",
          "line": {
           "color": "#333",
           "width": 4
          },
          "type": "line",
          "x0": 35.760894775390625,
          "x1": 35.76060485839844,
          "y0": -17.5,
          "y1": -19
         },
         {
          "layer": "below",
          "line": {
           "color": "#333",
           "width": 4
          },
          "type": "line",
          "x0": 35.760894775390625,
          "x1": 35.76118469238281,
          "y0": -17.5,
          "y1": -19
         },
         {
          "layer": "below",
          "line": {
           "color": "#333",
           "width": 4
          },
          "type": "line",
          "x0": 35.76118469238281,
          "x1": 35.76103973388672,
          "y0": -19,
          "y1": -20.5
         },
         {
          "layer": "below",
          "line": {
           "color": "#333",
           "width": 4
          },
          "type": "line",
          "x0": 35.76118469238281,
          "x1": 35.761329650878906,
          "y0": -19,
          "y1": -20.5
         },
         {
          "layer": "below",
          "line": {
           "color": "#333",
           "width": 4
          },
          "type": "line",
          "x0": 35.761474609375,
          "x1": 35.7637939453125,
          "y0": -13,
          "y1": -14.5
         },
         {
          "layer": "below",
          "line": {
           "color": "#333",
           "width": 4
          },
          "type": "line",
          "x0": 35.7637939453125,
          "x1": 35.76263427734375,
          "y0": -14.5,
          "y1": -16
         },
         {
          "layer": "below",
          "line": {
           "color": "#333",
           "width": 4
          },
          "type": "line",
          "x0": 35.76263427734375,
          "x1": 35.762054443359375,
          "y0": -16,
          "y1": -17.5
         },
         {
          "layer": "below",
          "line": {
           "color": "#333",
           "width": 4
          },
          "type": "line",
          "x0": 35.76263427734375,
          "x1": 35.763214111328125,
          "y0": -16,
          "y1": -17.5
         },
         {
          "layer": "below",
          "line": {
           "color": "#333",
           "width": 4
          },
          "type": "line",
          "x0": 35.763214111328125,
          "x1": 35.76292419433594,
          "y0": -17.5,
          "y1": -19
         },
         {
          "layer": "below",
          "line": {
           "color": "#333",
           "width": 4
          },
          "type": "line",
          "x0": 35.763214111328125,
          "x1": 35.76350402832031,
          "y0": -17.5,
          "y1": -19
         },
         {
          "layer": "below",
          "line": {
           "color": "#333",
           "width": 4
          },
          "type": "line",
          "x0": 35.7637939453125,
          "x1": 35.76495361328125,
          "y0": -14.5,
          "y1": -16
         },
         {
          "layer": "below",
          "line": {
           "color": "#333",
           "width": 4
          },
          "type": "line",
          "x0": 35.76495361328125,
          "x1": 35.764373779296875,
          "y0": -16,
          "y1": -17.5
         },
         {
          "layer": "below",
          "line": {
           "color": "#333",
           "width": 4
          },
          "type": "line",
          "x0": 35.76495361328125,
          "x1": 35.765533447265625,
          "y0": -16,
          "y1": -17.5
         },
         {
          "layer": "below",
          "line": {
           "color": "#333",
           "width": 4
          },
          "type": "line",
          "x0": 35.765533447265625,
          "x1": 35.76524353027344,
          "y0": -17.5,
          "y1": -19
         },
         {
          "layer": "below",
          "line": {
           "color": "#333",
           "width": 4
          },
          "type": "line",
          "x0": 35.76524353027344,
          "x1": 35.765098571777344,
          "y0": -19,
          "y1": -20.5
         },
         {
          "layer": "below",
          "line": {
           "color": "#333",
           "width": 4
          },
          "type": "line",
          "x0": 35.76524353027344,
          "x1": 35.76538848876953,
          "y0": -19,
          "y1": -20.5
         },
         {
          "layer": "below",
          "line": {
           "color": "#333",
           "width": 4
          },
          "type": "line",
          "x0": 35.765533447265625,
          "x1": 35.76582336425781,
          "y0": -17.5,
          "y1": -19
         },
         {
          "layer": "below",
          "line": {
           "color": "#333",
           "width": 4
          },
          "type": "line",
          "x0": 35.76582336425781,
          "x1": 35.76567840576172,
          "y0": -19,
          "y1": -20.5
         },
         {
          "layer": "below",
          "line": {
           "color": "#333",
           "width": 4
          },
          "type": "line",
          "x0": 35.76582336425781,
          "x1": 35.765968322753906,
          "y0": -19,
          "y1": -20.5
         },
         {
          "layer": "below",
          "line": {
           "color": "#333",
           "width": 4
          },
          "type": "line",
          "x0": 35.765968322753906,
          "x1": 35.76589584350586,
          "y0": -20.5,
          "y1": -22
         },
         {
          "layer": "below",
          "line": {
           "color": "#333",
           "width": 4
          },
          "type": "line",
          "x0": 35.765968322753906,
          "x1": 35.76604080200195,
          "y0": -20.5,
          "y1": -22
         },
         {
          "layer": "below",
          "line": {
           "color": "#333",
           "width": 4
          },
          "type": "line",
          "x0": 35.76611328125,
          "x1": 35.770751953125,
          "y0": -11.5,
          "y1": -13
         },
         {
          "layer": "below",
          "line": {
           "color": "#333",
           "width": 4
          },
          "type": "line",
          "x0": 35.770751953125,
          "x1": 35.7684326171875,
          "y0": -13,
          "y1": -14.5
         },
         {
          "layer": "below",
          "line": {
           "color": "#333",
           "width": 4
          },
          "type": "line",
          "x0": 35.7684326171875,
          "x1": 35.76727294921875,
          "y0": -14.5,
          "y1": -16
         },
         {
          "layer": "below",
          "line": {
           "color": "#333",
           "width": 4
          },
          "type": "line",
          "x0": 35.7684326171875,
          "x1": 35.76959228515625,
          "y0": -14.5,
          "y1": -16
         },
         {
          "layer": "below",
          "line": {
           "color": "#333",
           "width": 4
          },
          "type": "line",
          "x0": 35.770751953125,
          "x1": 35.7730712890625,
          "y0": -13,
          "y1": -14.5
         },
         {
          "layer": "below",
          "line": {
           "color": "#333",
           "width": 4
          },
          "type": "line",
          "x0": 35.7730712890625,
          "x1": 35.77191162109375,
          "y0": -14.5,
          "y1": -16
         },
         {
          "layer": "below",
          "line": {
           "color": "#333",
           "width": 4
          },
          "type": "line",
          "x0": 35.77191162109375,
          "x1": 35.771331787109375,
          "y0": -16,
          "y1": -17.5
         },
         {
          "layer": "below",
          "line": {
           "color": "#333",
           "width": 4
          },
          "type": "line",
          "x0": 35.77191162109375,
          "x1": 35.772491455078125,
          "y0": -16,
          "y1": -17.5
         },
         {
          "layer": "below",
          "line": {
           "color": "#333",
           "width": 4
          },
          "type": "line",
          "x0": 35.772491455078125,
          "x1": 35.77220153808594,
          "y0": -17.5,
          "y1": -19
         },
         {
          "layer": "below",
          "line": {
           "color": "#333",
           "width": 4
          },
          "type": "line",
          "x0": 35.772491455078125,
          "x1": 35.77278137207031,
          "y0": -17.5,
          "y1": -19
         },
         {
          "layer": "below",
          "line": {
           "color": "#333",
           "width": 4
          },
          "type": "line",
          "x0": 35.77278137207031,
          "x1": 35.77263641357422,
          "y0": -19,
          "y1": -20.5
         },
         {
          "layer": "below",
          "line": {
           "color": "#333",
           "width": 4
          },
          "type": "line",
          "x0": 35.77278137207031,
          "x1": 35.772926330566406,
          "y0": -19,
          "y1": -20.5
         },
         {
          "layer": "below",
          "line": {
           "color": "#333",
           "width": 4
          },
          "type": "line",
          "x0": 35.7730712890625,
          "x1": 35.77423095703125,
          "y0": -14.5,
          "y1": -16
         },
         {
          "layer": "below",
          "line": {
           "color": "#333",
           "width": 4
          },
          "type": "line",
          "x0": 35.77423095703125,
          "x1": 35.773651123046875,
          "y0": -16,
          "y1": -17.5
         },
         {
          "layer": "below",
          "line": {
           "color": "#333",
           "width": 4
          },
          "type": "line",
          "x0": 35.773651123046875,
          "x1": 35.77336120605469,
          "y0": -17.5,
          "y1": -19
         },
         {
          "layer": "below",
          "line": {
           "color": "#333",
           "width": 4
          },
          "type": "line",
          "x0": 35.773651123046875,
          "x1": 35.77394104003906,
          "y0": -17.5,
          "y1": -19
         },
         {
          "layer": "below",
          "line": {
           "color": "#333",
           "width": 4
          },
          "type": "line",
          "x0": 35.77423095703125,
          "x1": 35.774810791015625,
          "y0": -16,
          "y1": -17.5
         },
         {
          "layer": "below",
          "line": {
           "color": "#333",
           "width": 4
          },
          "type": "line",
          "x0": 35.774810791015625,
          "x1": 35.77452087402344,
          "y0": -17.5,
          "y1": -19
         },
         {
          "layer": "below",
          "line": {
           "color": "#333",
           "width": 4
          },
          "type": "line",
          "x0": 35.774810791015625,
          "x1": 35.77510070800781,
          "y0": -17.5,
          "y1": -19
         },
         {
          "layer": "below",
          "line": {
           "color": "#333",
           "width": 4
          },
          "type": "line",
          "x0": 35.77510070800781,
          "x1": 35.77495574951172,
          "y0": -19,
          "y1": -20.5
         },
         {
          "layer": "below",
          "line": {
           "color": "#333",
           "width": 4
          },
          "type": "line",
          "x0": 35.77510070800781,
          "x1": 35.775245666503906,
          "y0": -19,
          "y1": -20.5
         },
         {
          "layer": "below",
          "line": {
           "color": "#333",
           "width": 4
          },
          "type": "line",
          "x0": 35.775390625,
          "x1": 35.7939453125,
          "y0": -8.5,
          "y1": -10
         },
         {
          "layer": "below",
          "line": {
           "color": "#333",
           "width": 4
          },
          "type": "line",
          "x0": 35.7939453125,
          "x1": 35.78466796875,
          "y0": -10,
          "y1": -11.5
         },
         {
          "layer": "below",
          "line": {
           "color": "#333",
           "width": 4
          },
          "type": "line",
          "x0": 35.78466796875,
          "x1": 35.780029296875,
          "y0": -11.5,
          "y1": -13
         },
         {
          "layer": "below",
          "line": {
           "color": "#333",
           "width": 4
          },
          "type": "line",
          "x0": 35.78466796875,
          "x1": 35.789306640625,
          "y0": -11.5,
          "y1": -13
         },
         {
          "layer": "below",
          "line": {
           "color": "#333",
           "width": 4
          },
          "type": "line",
          "x0": 35.789306640625,
          "x1": 35.7869873046875,
          "y0": -13,
          "y1": -14.5
         },
         {
          "layer": "below",
          "line": {
           "color": "#333",
           "width": 4
          },
          "type": "line",
          "x0": 35.789306640625,
          "x1": 35.7916259765625,
          "y0": -13,
          "y1": -14.5
         },
         {
          "layer": "below",
          "line": {
           "color": "#333",
           "width": 4
          },
          "type": "line",
          "x0": 35.7916259765625,
          "x1": 35.79046630859375,
          "y0": -14.5,
          "y1": -16
         },
         {
          "layer": "below",
          "line": {
           "color": "#333",
           "width": 4
          },
          "type": "line",
          "x0": 35.7916259765625,
          "x1": 35.79278564453125,
          "y0": -14.5,
          "y1": -16
         },
         {
          "layer": "below",
          "line": {
           "color": "#333",
           "width": 4
          },
          "type": "line",
          "x0": 35.79278564453125,
          "x1": 35.792205810546875,
          "y0": -16,
          "y1": -17.5
         },
         {
          "layer": "below",
          "line": {
           "color": "#333",
           "width": 4
          },
          "type": "line",
          "x0": 35.79278564453125,
          "x1": 35.793365478515625,
          "y0": -16,
          "y1": -17.5
         },
         {
          "layer": "below",
          "line": {
           "color": "#333",
           "width": 4
          },
          "type": "line",
          "x0": 35.7939453125,
          "x1": 35.80322265625,
          "y0": -10,
          "y1": -11.5
         },
         {
          "layer": "below",
          "line": {
           "color": "#333",
           "width": 4
          },
          "type": "line",
          "x0": 35.80322265625,
          "x1": 35.798583984375,
          "y0": -11.5,
          "y1": -13
         },
         {
          "layer": "below",
          "line": {
           "color": "#333",
           "width": 4
          },
          "type": "line",
          "x0": 35.798583984375,
          "x1": 35.7962646484375,
          "y0": -13,
          "y1": -14.5
         },
         {
          "layer": "below",
          "line": {
           "color": "#333",
           "width": 4
          },
          "type": "line",
          "x0": 35.798583984375,
          "x1": 35.8009033203125,
          "y0": -13,
          "y1": -14.5
         },
         {
          "layer": "below",
          "line": {
           "color": "#333",
           "width": 4
          },
          "type": "line",
          "x0": 35.80322265625,
          "x1": 35.807861328125,
          "y0": -11.5,
          "y1": -13
         },
         {
          "layer": "below",
          "line": {
           "color": "#333",
           "width": 4
          },
          "type": "line",
          "x0": 35.807861328125,
          "x1": 35.8055419921875,
          "y0": -13,
          "y1": -14.5
         },
         {
          "layer": "below",
          "line": {
           "color": "#333",
           "width": 4
          },
          "type": "line",
          "x0": 35.807861328125,
          "x1": 35.8101806640625,
          "y0": -13,
          "y1": -14.5
         },
         {
          "layer": "below",
          "line": {
           "color": "#333",
           "width": 4
          },
          "type": "line",
          "x0": 35.8101806640625,
          "x1": 35.80902099609375,
          "y0": -14.5,
          "y1": -16
         },
         {
          "layer": "below",
          "line": {
           "color": "#333",
           "width": 4
          },
          "type": "line",
          "x0": 35.8101806640625,
          "x1": 35.81134033203125,
          "y0": -14.5,
          "y1": -16
         },
         {
          "layer": "below",
          "line": {
           "color": "#333",
           "width": 4
          },
          "type": "line",
          "x0": 35.81134033203125,
          "x1": 35.810760498046875,
          "y0": -16,
          "y1": -17.5
         },
         {
          "layer": "below",
          "line": {
           "color": "#333",
           "width": 4
          },
          "type": "line",
          "x0": 35.81134033203125,
          "x1": 35.811920166015625,
          "y0": -16,
          "y1": -17.5
         },
         {
          "layer": "below",
          "line": {
           "color": "#333",
           "width": 4
          },
          "type": "line",
          "x0": 35.8125,
          "x1": 36.40625,
          "y0": -1,
          "y1": -2.5
         },
         {
          "layer": "below",
          "line": {
           "color": "#333",
           "width": 4
          },
          "type": "line",
          "x0": 36.40625,
          "x1": 36.109375,
          "y0": -2.5,
          "y1": -4
         },
         {
          "layer": "below",
          "line": {
           "color": "#333",
           "width": 4
          },
          "type": "line",
          "x0": 36.109375,
          "x1": 35.9609375,
          "y0": -4,
          "y1": -5.5
         },
         {
          "layer": "below",
          "line": {
           "color": "#333",
           "width": 4
          },
          "type": "line",
          "x0": 36.109375,
          "x1": 36.2578125,
          "y0": -4,
          "y1": -5.5
         },
         {
          "layer": "below",
          "line": {
           "color": "#333",
           "width": 4
          },
          "type": "line",
          "x0": 36.2578125,
          "x1": 36.18359375,
          "y0": -5.5,
          "y1": -7
         },
         {
          "layer": "below",
          "line": {
           "color": "#333",
           "width": 4
          },
          "type": "line",
          "x0": 36.2578125,
          "x1": 36.33203125,
          "y0": -5.5,
          "y1": -7
         },
         {
          "layer": "below",
          "line": {
           "color": "#333",
           "width": 4
          },
          "type": "line",
          "x0": 36.33203125,
          "x1": 36.294921875,
          "y0": -7,
          "y1": -8.5
         },
         {
          "layer": "below",
          "line": {
           "color": "#333",
           "width": 4
          },
          "type": "line",
          "x0": 36.33203125,
          "x1": 36.369140625,
          "y0": -7,
          "y1": -8.5
         },
         {
          "layer": "below",
          "line": {
           "color": "#333",
           "width": 4
          },
          "type": "line",
          "x0": 36.40625,
          "x1": 36.703125,
          "y0": -2.5,
          "y1": -4
         },
         {
          "layer": "below",
          "line": {
           "color": "#333",
           "width": 4
          },
          "type": "line",
          "x0": 36.703125,
          "x1": 36.5546875,
          "y0": -4,
          "y1": -5.5
         },
         {
          "layer": "below",
          "line": {
           "color": "#333",
           "width": 4
          },
          "type": "line",
          "x0": 36.5546875,
          "x1": 36.48046875,
          "y0": -5.5,
          "y1": -7
         },
         {
          "layer": "below",
          "line": {
           "color": "#333",
           "width": 4
          },
          "type": "line",
          "x0": 36.5546875,
          "x1": 36.62890625,
          "y0": -5.5,
          "y1": -7
         },
         {
          "layer": "below",
          "line": {
           "color": "#333",
           "width": 4
          },
          "type": "line",
          "x0": 36.703125,
          "x1": 36.8515625,
          "y0": -4,
          "y1": -5.5
         },
         {
          "layer": "below",
          "line": {
           "color": "#333",
           "width": 4
          },
          "type": "line",
          "x0": 36.8515625,
          "x1": 36.77734375,
          "y0": -5.5,
          "y1": -7
         },
         {
          "layer": "below",
          "line": {
           "color": "#333",
           "width": 4
          },
          "type": "line",
          "x0": 36.8515625,
          "x1": 36.92578125,
          "y0": -5.5,
          "y1": -7
         },
         {
          "layer": "below",
          "line": {
           "color": "#333",
           "width": 4
          },
          "type": "line",
          "x0": 36.92578125,
          "x1": 36.888671875,
          "y0": -7,
          "y1": -8.5
         },
         {
          "layer": "below",
          "line": {
           "color": "#333",
           "width": 4
          },
          "type": "line",
          "x0": 36.888671875,
          "x1": 36.8701171875,
          "y0": -8.5,
          "y1": -10
         },
         {
          "layer": "below",
          "line": {
           "color": "#333",
           "width": 4
          },
          "type": "line",
          "x0": 36.8701171875,
          "x1": 36.86083984375,
          "y0": -10,
          "y1": -11.5
         },
         {
          "layer": "below",
          "line": {
           "color": "#333",
           "width": 4
          },
          "type": "line",
          "x0": 36.8701171875,
          "x1": 36.87939453125,
          "y0": -10,
          "y1": -11.5
         },
         {
          "layer": "below",
          "line": {
           "color": "#333",
           "width": 4
          },
          "type": "line",
          "x0": 36.87939453125,
          "x1": 36.874755859375,
          "y0": -11.5,
          "y1": -13
         },
         {
          "layer": "below",
          "line": {
           "color": "#333",
           "width": 4
          },
          "type": "line",
          "x0": 36.87939453125,
          "x1": 36.884033203125,
          "y0": -11.5,
          "y1": -13
         },
         {
          "layer": "below",
          "line": {
           "color": "#333",
           "width": 4
          },
          "type": "line",
          "x0": 36.888671875,
          "x1": 36.9072265625,
          "y0": -8.5,
          "y1": -10
         },
         {
          "layer": "below",
          "line": {
           "color": "#333",
           "width": 4
          },
          "type": "line",
          "x0": 36.9072265625,
          "x1": 36.89794921875,
          "y0": -10,
          "y1": -11.5
         },
         {
          "layer": "below",
          "line": {
           "color": "#333",
           "width": 4
          },
          "type": "line",
          "x0": 36.9072265625,
          "x1": 36.91650390625,
          "y0": -10,
          "y1": -11.5
         },
         {
          "layer": "below",
          "line": {
           "color": "#333",
           "width": 4
          },
          "type": "line",
          "x0": 36.91650390625,
          "x1": 36.911865234375,
          "y0": -11.5,
          "y1": -13
         },
         {
          "layer": "below",
          "line": {
           "color": "#333",
           "width": 4
          },
          "type": "line",
          "x0": 36.91650390625,
          "x1": 36.921142578125,
          "y0": -11.5,
          "y1": -13
         },
         {
          "layer": "below",
          "line": {
           "color": "#333",
           "width": 4
          },
          "type": "line",
          "x0": 36.921142578125,
          "x1": 36.9188232421875,
          "y0": -13,
          "y1": -14.5
         },
         {
          "layer": "below",
          "line": {
           "color": "#333",
           "width": 4
          },
          "type": "line",
          "x0": 36.921142578125,
          "x1": 36.9234619140625,
          "y0": -13,
          "y1": -14.5
         },
         {
          "layer": "below",
          "line": {
           "color": "#333",
           "width": 4
          },
          "type": "line",
          "x0": 36.92578125,
          "x1": 36.962890625,
          "y0": -7,
          "y1": -8.5
         },
         {
          "layer": "below",
          "line": {
           "color": "#333",
           "width": 4
          },
          "type": "line",
          "x0": 36.962890625,
          "x1": 36.9443359375,
          "y0": -8.5,
          "y1": -10
         },
         {
          "layer": "below",
          "line": {
           "color": "#333",
           "width": 4
          },
          "type": "line",
          "x0": 36.962890625,
          "x1": 36.9814453125,
          "y0": -8.5,
          "y1": -10
         },
         {
          "layer": "below",
          "line": {
           "color": "#333",
           "width": 4
          },
          "type": "line",
          "x0": 36.9814453125,
          "x1": 36.97216796875,
          "y0": -10,
          "y1": -11.5
         },
         {
          "layer": "below",
          "line": {
           "color": "#333",
           "width": 4
          },
          "type": "line",
          "x0": 36.9814453125,
          "x1": 36.99072265625,
          "y0": -10,
          "y1": -11.5
         },
         {
          "layer": "below",
          "line": {
           "color": "#333",
           "width": 4
          },
          "type": "line",
          "x0": 36.99072265625,
          "x1": 36.986083984375,
          "y0": -11.5,
          "y1": -13
         },
         {
          "layer": "below",
          "line": {
           "color": "#333",
           "width": 4
          },
          "type": "line",
          "x0": 36.986083984375,
          "x1": 36.9837646484375,
          "y0": -13,
          "y1": -14.5
         },
         {
          "layer": "below",
          "line": {
           "color": "#333",
           "width": 4
          },
          "type": "line",
          "x0": 36.986083984375,
          "x1": 36.9884033203125,
          "y0": -13,
          "y1": -14.5
         },
         {
          "layer": "below",
          "line": {
           "color": "#333",
           "width": 4
          },
          "type": "line",
          "x0": 36.99072265625,
          "x1": 36.995361328125,
          "y0": -11.5,
          "y1": -13
         },
         {
          "layer": "below",
          "line": {
           "color": "#333",
           "width": 4
          },
          "type": "line",
          "x0": 36.995361328125,
          "x1": 36.9930419921875,
          "y0": -13,
          "y1": -14.5
         },
         {
          "layer": "below",
          "line": {
           "color": "#333",
           "width": 4
          },
          "type": "line",
          "x0": 36.995361328125,
          "x1": 36.9976806640625,
          "y0": -13,
          "y1": -14.5
         },
         {
          "layer": "below",
          "line": {
           "color": "#333",
           "width": 4
          },
          "type": "line",
          "x0": 36.9976806640625,
          "x1": 36.99652099609375,
          "y0": -14.5,
          "y1": -16
         },
         {
          "layer": "below",
          "line": {
           "color": "#333",
           "width": 4
          },
          "type": "line",
          "x0": 36.9976806640625,
          "x1": 36.99884033203125,
          "y0": -14.5,
          "y1": -16
         },
         {
          "layer": "below",
          "line": {
           "color": "#6175c1",
           "width": 4
          },
          "type": "line",
          "x0": 10.5,
          "x1": 27.5,
          "y0": 5,
          "y1": 3.5
         },
         {
          "layer": "below",
          "line": {
           "color": "#6175c1",
           "width": 4
          },
          "type": "line",
          "x0": 15.25,
          "x1": 32.25,
          "y0": 3.5,
          "y1": 2
         },
         {
          "layer": "below",
          "line": {
           "color": "#6175c1",
           "width": 4
          },
          "type": "line",
          "x0": 17.625,
          "x1": 34.625,
          "y0": 2,
          "y1": 0.5
         },
         {
          "layer": "below",
          "line": {
           "color": "#6175c1",
           "width": 4
          },
          "type": "line",
          "x0": 18.8125,
          "x1": 33.4375,
          "y0": 0.5,
          "y1": -1
         },
         {
          "layer": "below",
          "line": {
           "color": "#6175c1",
           "width": 4
          },
          "type": "line",
          "x0": 19.40625,
          "x1": 32.84375,
          "y0": -1,
          "y1": -2.5
         },
         {
          "layer": "below",
          "line": {
           "color": "#6175c1",
           "width": 4
          },
          "type": "line",
          "x0": 19.703125,
          "x1": 33.140625,
          "y0": -2.5,
          "y1": -4
         },
         {
          "layer": "below",
          "line": {
           "color": "#6175c1",
           "width": 4
          },
          "type": "line",
          "x0": 19.8515625,
          "x1": 33.2890625,
          "y0": -4,
          "y1": -5.5
         },
         {
          "layer": "below",
          "line": {
           "color": "#6175c1",
           "width": 4
          },
          "type": "line",
          "x0": 19.962890625,
          "x1": 33.36328125,
          "y0": -7,
          "y1": -7
         },
         {
          "layer": "below",
          "line": {
           "color": "#6175c1",
           "width": 4
          },
          "type": "line",
          "x0": 19.888671875,
          "x1": 33.21484375,
          "y0": -7,
          "y1": -7
         },
         {
          "layer": "below",
          "line": {
           "color": "#6175c1",
           "width": 4
          },
          "type": "line",
          "x0": 19.5546875,
          "x1": 32.9921875,
          "y0": -4,
          "y1": -5.5
         },
         {
          "layer": "below",
          "line": {
           "color": "#6175c1",
           "width": 4
          },
          "type": "line",
          "x0": 19.109375,
          "x1": 32.546875,
          "y0": -2.5,
          "y1": -4
         },
         {
          "layer": "below",
          "line": {
           "color": "#6175c1",
           "width": 4
          },
          "type": "line",
          "x0": 18.21875,
          "x1": 34.03125,
          "y0": -1,
          "y1": -2.5
         },
         {
          "layer": "below",
          "line": {
           "color": "#6175c1",
           "width": 4
          },
          "type": "line",
          "x0": 18.515625,
          "x1": 34.328125,
          "y0": -2.5,
          "y1": -4
         },
         {
          "layer": "below",
          "line": {
           "color": "#6175c1",
           "width": 4
          },
          "type": "line",
          "x0": 18.6640625,
          "x1": 34.4765625,
          "y0": -4,
          "y1": -5.5
         },
         {
          "layer": "below",
          "line": {
           "color": "#6175c1",
           "width": 4
          },
          "type": "line",
          "x0": 18.73828125,
          "x1": 34.55078125,
          "y0": -5.5,
          "y1": -7
         },
         {
          "layer": "below",
          "line": {
           "color": "#6175c1",
           "width": 4
          },
          "type": "line",
          "x0": 18.775390625,
          "x1": 34.587890625,
          "y0": -7,
          "y1": -8.5
         },
         {
          "layer": "below",
          "line": {
           "color": "#6175c1",
           "width": 4
          },
          "type": "line",
          "x0": 18.7939453125,
          "x1": 34.6064453125,
          "y0": -8.5,
          "y1": -10
         },
         {
          "layer": "below",
          "line": {
           "color": "#6175c1",
           "width": 4
          },
          "type": "line",
          "x0": 18.80322265625,
          "x1": 34.61572265625,
          "y0": -10,
          "y1": -11.5
         },
         {
          "layer": "below",
          "line": {
           "color": "#6175c1",
           "width": 4
          },
          "type": "line",
          "x0": 18.78466796875,
          "x1": 34.59716796875,
          "y0": -10,
          "y1": -11.5
         },
         {
          "layer": "below",
          "line": {
           "color": "#6175c1",
           "width": 4
          },
          "type": "line",
          "x0": 18.7568359375,
          "x1": 34.5693359375,
          "y0": -8.5,
          "y1": -10
         },
         {
          "layer": "below",
          "line": {
           "color": "#6175c1",
           "width": 4
          },
          "type": "line",
          "x0": 18.701171875,
          "x1": 34.513671875,
          "y0": -7,
          "y1": -8.5
         },
         {
          "layer": "below",
          "line": {
           "color": "#6175c1",
           "width": 4
          },
          "type": "line",
          "x0": 18.58984375,
          "x1": 34.40234375,
          "y0": -5.5,
          "y1": -7
         },
         {
          "layer": "below",
          "line": {
           "color": "#6175c1",
           "width": 4
          },
          "type": "line",
          "x0": 18.3671875,
          "x1": 34.1796875,
          "y0": -4,
          "y1": -5.5
         },
         {
          "layer": "below",
          "line": {
           "color": "#6175c1",
           "width": 4
          },
          "type": "line",
          "x0": 17.921875,
          "x1": 33.734375,
          "y0": -2.5,
          "y1": -4
         },
         {
          "layer": "below",
          "line": {
           "color": "#6175c1",
           "width": 4
          },
          "type": "line",
          "x0": 16.4375,
          "x1": 35.8125,
          "y0": 0.5,
          "y1": -1
         },
         {
          "layer": "below",
          "line": {
           "color": "#6175c1",
           "width": 4
          },
          "type": "line",
          "x0": 17.03125,
          "x1": 35.21875,
          "y0": -1,
          "y1": -2.5
         },
         {
          "layer": "below",
          "line": {
           "color": "#6175c1",
           "width": 4
          },
          "type": "line",
          "x0": 17.328125,
          "x1": 35.515625,
          "y0": -2.5,
          "y1": -4
         },
         {
          "layer": "below",
          "line": {
           "color": "#6175c1",
           "width": 4
          },
          "type": "line",
          "x0": 17.4765625,
          "x1": 35.6640625,
          "y0": -4,
          "y1": -5.5
         },
         {
          "layer": "below",
          "line": {
           "color": "#6175c1",
           "width": 4
          },
          "type": "line",
          "x0": 17.55078125,
          "x1": 35.73828125,
          "y0": -5.5,
          "y1": -7
         },
         {
          "layer": "below",
          "line": {
           "color": "#6175c1",
           "width": 4
          },
          "type": "line",
          "x0": 17.6064453125,
          "x1": 35.775390625,
          "y0": -8.5,
          "y1": -8.5
         },
         {
          "layer": "below",
          "line": {
           "color": "#6175c1",
           "width": 4
          },
          "type": "line",
          "x0": 17.620361328125,
          "x1": 35.7939453125,
          "y0": -11.5,
          "y1": -10
         },
         {
          "layer": "below",
          "line": {
           "color": "#6175c1",
           "width": 4
          },
          "type": "line",
          "x0": 17.6226806640625,
          "x1": 35.80322265625,
          "y0": -13,
          "y1": -11.5
         },
         {
          "layer": "below",
          "line": {
           "color": "#6175c1",
           "width": 4
          },
          "type": "line",
          "x0": 17.62384033203125,
          "x1": 35.798583984375,
          "y0": -14.5,
          "y1": -13
         },
         {
          "layer": "below",
          "line": {
           "color": "#6175c1",
           "width": 4
          },
          "type": "line",
          "x0": 17.624420166015625,
          "x1": 35.7962646484375,
          "y0": -16,
          "y1": -14.5
         },
         {
          "layer": "below",
          "line": {
           "color": "#6175c1",
           "width": 4
          },
          "type": "line",
          "x0": 17.623260498046875,
          "x1": 35.8009033203125,
          "y0": -16,
          "y1": -14.5
         },
         {
          "layer": "below",
          "line": {
           "color": "#6175c1",
           "width": 4
          },
          "type": "line",
          "x0": 17.62152099609375,
          "x1": 35.807861328125,
          "y0": -14.5,
          "y1": -13
         },
         {
          "layer": "below",
          "line": {
           "color": "#6175c1",
           "width": 4
          },
          "type": "line",
          "x0": 17.6180419921875,
          "x1": 35.780029296875,
          "y0": -13,
          "y1": -13
         },
         {
          "layer": "below",
          "line": {
           "color": "#6175c1",
           "width": 4
          },
          "type": "line",
          "x0": 17.6134033203125,
          "x1": 35.7568359375,
          "y0": -13,
          "y1": -10
         },
         {
          "layer": "below",
          "line": {
           "color": "#6175c1",
           "width": 4
          },
          "type": "line",
          "x0": 17.61456298828125,
          "x1": 35.76611328125,
          "y0": -14.5,
          "y1": -11.5
         },
         {
          "layer": "below",
          "line": {
           "color": "#6175c1",
           "width": 4
          },
          "type": "line",
          "x0": 17.615142822265625,
          "x1": 35.761474609375,
          "y0": -16,
          "y1": -13
         },
         {
          "layer": "below",
          "line": {
           "color": "#6175c1",
           "width": 4
          },
          "type": "line",
          "x0": 17.615432739257812,
          "x1": 35.7591552734375,
          "y0": -17.5,
          "y1": -14.5
         },
         {
          "layer": "below",
          "line": {
           "color": "#6175c1",
           "width": 4
          },
          "type": "line",
          "x0": 17.615577697753906,
          "x1": 35.75799560546875,
          "y0": -19,
          "y1": -16
         },
         {
          "layer": "below",
          "line": {
           "color": "#6175c1",
           "width": 4
          },
          "type": "line",
          "x0": 17.61528778076172,
          "x1": 35.76031494140625,
          "y0": -19,
          "y1": -16
         },
         {
          "layer": "below",
          "line": {
           "color": "#6175c1",
           "width": 4
          },
          "type": "line",
          "x0": 17.614852905273438,
          "x1": 35.76589584350586,
          "y0": -17.5,
          "y1": -22
         },
         {
          "layer": "below",
          "line": {
           "color": "#6175c1",
           "width": 4
          },
          "type": "line",
          "x0": 17.613983154296875,
          "x1": 35.770751953125,
          "y0": -16,
          "y1": -13
         },
         {
          "layer": "below",
          "line": {
           "color": "#6175c1",
           "width": 4
          },
          "type": "line",
          "x0": 17.614273071289062,
          "x1": 35.77423095703125,
          "y0": -17.5,
          "y1": -16
         },
         {
          "layer": "below",
          "line": {
           "color": "#6175c1",
           "width": 4
          },
          "type": "line",
          "x0": 17.614418029785156,
          "x1": 35.774810791015625,
          "y0": -19,
          "y1": -17.5
         },
         {
          "layer": "below",
          "line": {
           "color": "#6175c1",
           "width": 4
          },
          "type": "line",
          "x0": 17.614490509033203,
          "x1": 35.77510070800781,
          "y0": -20.5,
          "y1": -19
         },
         {
          "layer": "below",
          "line": {
           "color": "#6175c1",
           "width": 4
          },
          "type": "line",
          "x0": 17.61434555053711,
          "x1": 35.77452087402344,
          "y0": -20.5,
          "y1": -19
         },
         {
          "layer": "below",
          "line": {
           "color": "#6175c1",
           "width": 4
          },
          "type": "line",
          "x0": 17.61412811279297,
          "x1": 35.77336120605469,
          "y0": -19,
          "y1": -19
         },
         {
          "layer": "below",
          "line": {
           "color": "#6175c1",
           "width": 4
          },
          "type": "line",
          "x0": 17.613693237304688,
          "x1": 35.772491455078125,
          "y0": -17.5,
          "y1": -17.5
         },
         {
          "layer": "below",
          "line": {
           "color": "#6175c1",
           "width": 4
          },
          "type": "line",
          "x0": 17.61224365234375,
          "x1": 35.74755859375,
          "y0": -14.5,
          "y1": -11.5
         },
         {
          "layer": "below",
          "line": {
           "color": "#6175c1",
           "width": 4
          },
          "type": "line",
          "x0": 17.612823486328125,
          "x1": 35.752197265625,
          "y0": -16,
          "y1": -13
         },
         {
          "layer": "below",
          "line": {
           "color": "#6175c1",
           "width": 4
          },
          "type": "line",
          "x0": 17.613113403320312,
          "x1": 35.7498779296875,
          "y0": -17.5,
          "y1": -14.5
         },
         {
          "layer": "below",
          "line": {
           "color": "#6175c1",
           "width": 4
          },
          "type": "line",
          "x0": 17.613258361816406,
          "x1": 35.75103759765625,
          "y0": -19,
          "y1": -16
         },
         {
          "layer": "below",
          "line": {
           "color": "#6175c1",
           "width": 4
          },
          "type": "line",
          "x0": 17.61296844482422,
          "x1": 35.74871826171875,
          "y0": -19,
          "y1": -16
         },
         {
          "layer": "below",
          "line": {
           "color": "#6175c1",
           "width": 4
          },
          "type": "line",
          "x0": 17.612533569335938,
          "x1": 35.75567626953125,
          "y0": -17.5,
          "y1": -16
         },
         {
          "layer": "below",
          "line": {
           "color": "#6175c1",
           "width": 4
          },
          "type": "line",
          "x0": 17.61267852783203,
          "x1": 35.756256103515625,
          "y0": -19,
          "y1": -17.5
         },
         {
          "layer": "below",
          "line": {
           "color": "#6175c1",
           "width": 4
          },
          "type": "line",
          "x0": 17.612751007080078,
          "x1": 35.75661849975586,
          "y0": -20.5,
          "y1": -22
         },
         {
          "layer": "below",
          "line": {
           "color": "#6175c1",
           "width": 4
          },
          "type": "line",
          "x0": 17.612606048583984,
          "x1": 35.75596618652344,
          "y0": -20.5,
          "y1": -19
         },
         {
          "layer": "below",
          "line": {
           "color": "#6175c1",
           "width": 4
          },
          "type": "line",
          "x0": 17.612388610839844,
          "x1": 35.755096435546875,
          "y0": -19,
          "y1": -17.5
         },
         {
          "layer": "below",
          "line": {
           "color": "#6175c1",
           "width": 4
          },
          "type": "line",
          "x0": 17.61246109008789,
          "x1": 35.755531311035156,
          "y0": -20.5,
          "y1": -20.5
         },
         {
          "layer": "below",
          "line": {
           "color": "#6175c1",
           "width": 4
          },
          "type": "line",
          "x0": 17.612316131591797,
          "x1": 35.75524139404297,
          "y0": -20.5,
          "y1": -20.5
         },
         {
          "layer": "below",
          "line": {
           "color": "#6175c1",
           "width": 4
          },
          "type": "line",
          "x0": 17.611953735351562,
          "x1": 35.742919921875,
          "y0": -17.5,
          "y1": -13
         },
         {
          "layer": "below",
          "line": {
           "color": "#6175c1",
           "width": 4
          },
          "type": "line",
          "x0": 17.612098693847656,
          "x1": 35.7452392578125,
          "y0": -19,
          "y1": -14.5
         },
         {
          "layer": "below",
          "line": {
           "color": "#6175c1",
           "width": 4
          },
          "type": "line",
          "x0": 17.612171173095703,
          "x1": 35.74639892578125,
          "y0": -20.5,
          "y1": -16
         },
         {
          "layer": "below",
          "line": {
           "color": "#6175c1",
           "width": 4
          },
          "type": "line",
          "x0": 17.612207412719727,
          "x1": 35.745819091796875,
          "y0": -22,
          "y1": -17.5
         },
         {
          "layer": "below",
          "line": {
           "color": "#6175c1",
           "width": 4
          },
          "type": "line",
          "x0": 17.612234592437744,
          "x1": 35.74552917480469,
          "y0": -25,
          "y1": -19
         },
         {
          "layer": "below",
          "line": {
           "color": "#6175c1",
           "width": 4
          },
          "type": "line",
          "x0": 17.612239122390747,
          "x1": 35.74567413330078,
          "y0": -26.5,
          "y1": -20.5
         },
         {
          "layer": "below",
          "line": {
           "color": "#6175c1",
           "width": 4
          },
          "type": "line",
          "x0": 17.61224138736725,
          "x1": 35.74578285217285,
          "y0": -28,
          "y1": -23.5
         },
         {
          "layer": "below",
          "line": {
           "color": "#6175c1",
           "width": 4
          },
          "type": "line",
          "x0": 17.612236857414246,
          "x1": 35.745601654052734,
          "y0": -28,
          "y1": -22
         },
         {
          "layer": "below",
          "line": {
           "color": "#6175c1",
           "width": 4
          },
          "type": "line",
          "x0": 17.61223006248474,
          "x1": 35.745384216308594,
          "y0": -26.5,
          "y1": -20.5
         },
         {
          "layer": "below",
          "line": {
           "color": "#6175c1",
           "width": 4
          },
          "type": "line",
          "x0": 17.612232327461243,
          "x1": 35.74545669555664,
          "y0": -28,
          "y1": -22
         },
         {
          "layer": "below",
          "line": {
           "color": "#6175c1",
           "width": 4
          },
          "type": "line",
          "x0": 17.612233459949493,
          "x1": 35.745492935180664,
          "y0": -29.5,
          "y1": -23.5
         },
         {
          "layer": "below",
          "line": {
           "color": "#6175c1",
           "width": 4
          },
          "type": "line",
          "x0": 17.61223402619362,
          "x1": 35.745511054992676,
          "y0": -31,
          "y1": -25
         },
         {
          "layer": "below",
          "line": {
           "color": "#6175c1",
           "width": 4
          },
          "type": "line",
          "x0": 17.61223430931568,
          "x1": 35.74552011489868,
          "y0": -32.5,
          "y1": -26.5
         },
         {
          "layer": "below",
          "line": {
           "color": "#6175c1",
           "width": 4
          },
          "type": "line",
          "x0": 17.612233743071556,
          "x1": 35.74550199508667,
          "y0": -32.5,
          "y1": -26.5
         },
         {
          "layer": "below",
          "line": {
           "color": "#6175c1",
           "width": 4
          },
          "type": "line",
          "x0": 17.612232893705368,
          "x1": 35.74547481536865,
          "y0": -31,
          "y1": -25
         },
         {
          "layer": "below",
          "line": {
           "color": "#6175c1",
           "width": 4
          },
          "type": "line",
          "x0": 17.612231194972992,
          "x1": 35.74542045593262,
          "y0": -29.5,
          "y1": -23.5
         },
         {
          "layer": "below",
          "line": {
           "color": "#6175c1",
           "width": 4
          },
          "type": "line",
          "x0": 17.61222779750824,
          "x1": 35.74531173706055,
          "y0": -28,
          "y1": -22
         },
         {
          "layer": "below",
          "line": {
           "color": "#6175c1",
           "width": 4
          },
          "type": "line",
          "x0": 17.612216472625732,
          "x1": 35.74610900878906,
          "y0": -25,
          "y1": -19
         },
         {
          "layer": "below",
          "line": {
           "color": "#6175c1",
           "width": 4
          },
          "type": "line",
          "x0": 17.612224400043488,
          "x1": 35.746253967285156,
          "y0": -29.5,
          "y1": -20.5
         },
         {
          "layer": "below",
          "line": {
           "color": "#6175c1",
           "width": 4
          },
          "type": "line",
          "x0": 17.612224966287613,
          "x1": 35.7463264465332,
          "y0": -31,
          "y1": -22
         },
         {
          "layer": "below",
          "line": {
           "color": "#6175c1",
           "width": 4
          },
          "type": "line",
          "x0": 17.612225249409676,
          "x1": 35.74636268615723,
          "y0": -32.5,
          "y1": -23.5
         },
         {
          "layer": "below",
          "line": {
           "color": "#6175c1",
           "width": 4
          },
          "type": "line",
          "x0": 17.612225390970707,
          "x1": 35.74638080596924,
          "y0": -34,
          "y1": -25
         },
         {
          "layer": "below",
          "line": {
           "color": "#6175c1",
           "width": 4
          },
          "type": "line",
          "x0": 17.612225107848644,
          "x1": 35.746344566345215,
          "y0": -34,
          "y1": -25
         },
         {
          "layer": "below",
          "line": {
           "color": "#6175c1",
           "width": 4
          },
          "type": "line",
          "x0": 17.61222468316555,
          "x1": 35.74629020690918,
          "y0": -32.5,
          "y1": -23.5
         },
         {
          "layer": "below",
          "line": {
           "color": "#6175c1",
           "width": 4
          },
          "type": "line",
          "x0": 17.612224116921425,
          "x1": 35.74618148803711,
          "y0": -32.5,
          "y1": -22
         },
         {
          "layer": "below",
          "line": {
           "color": "#6175c1",
           "width": 4
          },
          "type": "line",
          "x0": 17.612224258482456,
          "x1": 35.74621772766113,
          "y0": -34,
          "y1": -23.5
         },
         {
          "layer": "below",
          "line": {
           "color": "#6175c1",
           "width": 4
          },
          "type": "line",
          "x0": 17.612223975360394,
          "x1": 35.746145248413086,
          "y0": -34,
          "y1": -23.5
         },
         {
          "layer": "below",
          "line": {
           "color": "#6175c1",
           "width": 4
          },
          "type": "line",
          "x0": 17.61221194267273,
          "x1": 35.74596405029297,
          "y0": -26.5,
          "y1": -20.5
         },
         {
          "layer": "below",
          "line": {
           "color": "#6175c1",
           "width": 4
          },
          "type": "line",
          "x0": 17.61221420764923,
          "x1": 35.746036529541016,
          "y0": -28,
          "y1": -22
         },
         {
          "layer": "below",
          "line": {
           "color": "#6175c1",
           "width": 4
          },
          "type": "line",
          "x0": 17.612209677696228,
          "x1": 35.74589157104492,
          "y0": -28,
          "y1": -22
         },
         {
          "layer": "below",
          "line": {
           "color": "#6175c1",
           "width": 4
          },
          "type": "line",
          "x0": 17.61213493347168,
          "x1": 35.746978759765625,
          "y0": -22,
          "y1": -17.5
         },
         {
          "layer": "below",
          "line": {
           "color": "#6175c1",
           "width": 4
          },
          "type": "line",
          "x0": 17.61215305328369,
          "x1": 35.74726867675781,
          "y0": -23.5,
          "y1": -19
         },
         {
          "layer": "below",
          "line": {
           "color": "#6175c1",
           "width": 4
          },
          "type": "line",
          "x0": 17.612162113189697,
          "x1": 35.747413635253906,
          "y0": -25,
          "y1": -20.5
         },
         {
          "layer": "below",
          "line": {
           "color": "#6175c1",
           "width": 4
          },
          "type": "line",
          "x0": 17.6121666431427,
          "x1": 35.74734115600586,
          "y0": -26.5,
          "y1": -22
         },
         {
          "layer": "below",
          "line": {
           "color": "#6175c1",
           "width": 4
          },
          "type": "line",
          "x0": 17.612170606851578,
          "x1": 35.747304916381836,
          "y0": -31,
          "y1": -23.5
         },
         {
          "layer": "below",
          "line": {
           "color": "#6175c1",
           "width": 4
          },
          "type": "line",
          "x0": 17.61217088997364,
          "x1": 35.74732303619385,
          "y0": -32.5,
          "y1": -25
         },
         {
          "layer": "below",
          "line": {
           "color": "#6175c1",
           "width": 4
          },
          "type": "line",
          "x0": 17.612170323729515,
          "x1": 35.747286796569824,
          "y0": -32.5,
          "y1": -25
         },
         {
          "layer": "below",
          "line": {
           "color": "#6175c1",
           "width": 4
          },
          "type": "line",
          "x0": 17.6121643781662,
          "x1": 35.74737739562988,
          "y0": -28,
          "y1": -23.5
         },
         {
          "layer": "below",
          "line": {
           "color": "#6175c1",
           "width": 4
          },
          "type": "line",
          "x0": 17.61216551065445,
          "x1": 35.747395515441895,
          "y0": -29.5,
          "y1": -25
         },
         {
          "layer": "below",
          "line": {
           "color": "#6175c1",
           "width": 4
          },
          "type": "line",
          "x0": 17.612163245677948,
          "x1": 35.74735927581787,
          "y0": -29.5,
          "y1": -25
         },
         {
          "layer": "below",
          "line": {
           "color": "#6175c1",
           "width": 4
          },
          "type": "line",
          "x0": 17.612157583236694,
          "x1": 35.74748611450195,
          "y0": -26.5,
          "y1": -22
         },
         {
          "layer": "below",
          "line": {
           "color": "#6175c1",
           "width": 4
          },
          "type": "line",
          "x0": 17.612159848213196,
          "x1": 35.74752235412598,
          "y0": -28,
          "y1": -23.5
         },
         {
          "layer": "below",
          "line": {
           "color": "#6175c1",
           "width": 4
          },
          "type": "line",
          "x0": 17.612161546945572,
          "x1": 35.747504234313965,
          "y0": -31,
          "y1": -25
         },
         {
          "layer": "below",
          "line": {
           "color": "#6175c1",
           "width": 4
          },
          "type": "line",
          "x0": 17.61216204240918,
          "x1": 35.74751329421997,
          "y0": -35.5,
          "y1": -26.5
         },
         {
          "layer": "below",
          "line": {
           "color": "#6175c1",
           "width": 4
          },
          "type": "line",
          "x0": 17.61216190084815,
          "x1": 35.74749517440796,
          "y0": -35.5,
          "y1": -26.5
         },
         {
          "layer": "below",
          "line": {
           "color": "#6175c1",
           "width": 4
          },
          "type": "line",
          "x0": 17.61215928196907,
          "x1": 35.74754047393799,
          "y0": -31,
          "y1": -25
         },
         {
          "layer": "below",
          "line": {
           "color": "#6175c1",
           "width": 4
          },
          "type": "line",
          "x0": 17.612159565091133,
          "x1": 35.74753141403198,
          "y0": -32.5,
          "y1": -26.5
         },
         {
          "layer": "below",
          "line": {
           "color": "#6175c1",
           "width": 4
          },
          "type": "line",
          "x0": 17.61215963587165,
          "x1": 35.74752688407898,
          "y0": -35.5,
          "y1": -28
         },
         {
          "layer": "below",
          "line": {
           "color": "#6175c1",
           "width": 4
          },
          "type": "line",
          "x0": 17.6121594235301,
          "x1": 35.747535943984985,
          "y0": -34,
          "y1": -28
         },
         {
          "layer": "below",
          "line": {
           "color": "#6175c1",
           "width": 4
          },
          "type": "line",
          "x0": 17.612159494310617,
          "x1": 35.74753820896149,
          "y0": -35.5,
          "y1": -29.5
         },
         {
          "layer": "below",
          "line": {
           "color": "#6175c1",
           "width": 4
          },
          "type": "line",
          "x0": 17.612159529700875,
          "x1": 35.747537076473236,
          "y0": -37,
          "y1": -31
         },
         {
          "layer": "below",
          "line": {
           "color": "#6175c1",
           "width": 4
          },
          "type": "line",
          "x0": 17.61215945892036,
          "x1": 35.74753934144974,
          "y0": -37,
          "y1": -31
         },
         {
          "layer": "below",
          "line": {
           "color": "#6175c1",
           "width": 4
          },
          "type": "line",
          "x0": 17.612159352749586,
          "x1": 35.747533679008484,
          "y0": -35.5,
          "y1": -29.5
         },
         {
          "layer": "below",
          "line": {
           "color": "#6175c1",
           "width": 4
          },
          "type": "line",
          "x0": 17.612158998847008,
          "x1": 35.747549533843994,
          "y0": -32.5,
          "y1": -26.5
         },
         {
          "layer": "below",
          "line": {
           "color": "#6175c1",
           "width": 4
          },
          "type": "line",
          "x0": 17.61215914040804,
          "x1": 35.74754500389099,
          "y0": -34,
          "y1": -28
         },
         {
          "layer": "below",
          "line": {
           "color": "#6175c1",
           "width": 4
          },
          "type": "line",
          "x0": 17.612158857285976,
          "x1": 35.747554063797,
          "y0": -34,
          "y1": -28
         },
         {
          "layer": "below",
          "line": {
           "color": "#6175c1",
           "width": 4
          },
          "type": "line",
          "x0": 17.612155318260193,
          "x1": 35.74746799468994,
          "y0": -28,
          "y1": -25
         },
         {
          "layer": "below",
          "line": {
           "color": "#6175c1",
           "width": 4
          },
          "type": "line",
          "x0": 17.612156450748444,
          "x1": 35.74747705459595,
          "y0": -29.5,
          "y1": -26.5
         },
         {
          "layer": "below",
          "line": {
           "color": "#6175c1",
           "width": 4
          },
          "type": "line",
          "x0": 17.61215701699257,
          "x1": 35.74748158454895,
          "y0": -31,
          "y1": -28
         },
         {
          "layer": "below",
          "line": {
           "color": "#6175c1",
           "width": 4
          },
          "type": "line",
          "x0": 17.61215730011463,
          "x1": 35.74747931957245,
          "y0": -32.5,
          "y1": -29.5
         },
         {
          "layer": "below",
          "line": {
           "color": "#6175c1",
           "width": 4
          },
          "type": "line",
          "x0": 17.612156733870506,
          "x1": 35.74748384952545,
          "y0": -32.5,
          "y1": -29.5
         },
         {
          "layer": "below",
          "line": {
           "color": "#6175c1",
           "width": 4
          },
          "type": "line",
          "x0": 17.61215588450432,
          "x1": 35.747472524642944,
          "y0": -31,
          "y1": -28
         },
         {
          "layer": "below",
          "line": {
           "color": "#6175c1",
           "width": 4
          },
          "type": "line",
          "x0": 17.612154185771942,
          "x1": 35.747458934783936,
          "y0": -29.5,
          "y1": -26.5
         },
         {
          "layer": "below",
          "line": {
           "color": "#6175c1",
           "width": 4
          },
          "type": "line",
          "x0": 17.612143993377686,
          "x1": 35.74712371826172,
          "y0": -25,
          "y1": -20.5
         },
         {
          "layer": "below",
          "line": {
           "color": "#6175c1",
           "width": 4
          },
          "type": "line",
          "x0": 17.612116813659668,
          "x1": 35.74668884277344,
          "y0": -23.5,
          "y1": -19
         },
         {
          "layer": "below",
          "line": {
           "color": "#6175c1",
           "width": 4
          },
          "type": "line",
          "x0": 17.612125873565674,
          "x1": 35.74683380126953,
          "y0": -25,
          "y1": -20.5
         },
         {
          "layer": "below",
          "line": {
           "color": "#6175c1",
           "width": 4
          },
          "type": "line",
          "x0": 17.612130403518677,
          "x1": 35.746761322021484,
          "y0": -26.5,
          "y1": -22
         },
         {
          "layer": "below",
          "line": {
           "color": "#6175c1",
           "width": 4
          },
          "type": "line",
          "x0": 17.61212134361267,
          "x1": 35.74690628051758,
          "y0": -26.5,
          "y1": -22
         },
         {
          "layer": "below",
          "line": {
           "color": "#6175c1",
           "width": 4
          },
          "type": "line",
          "x0": 17.612107753753662,
          "x1": 35.746543884277344,
          "y0": -25,
          "y1": -20.5
         },
         {
          "layer": "below",
          "line": {
           "color": "#6175c1",
           "width": 4
          },
          "type": "line",
          "x0": 17.61202621459961,
          "x1": 35.745094299316406,
          "y0": -20.5,
          "y1": -20.5
         },
         {
          "layer": "below",
          "line": {
           "color": "#6175c1",
           "width": 4
          },
          "type": "line",
          "x0": 17.612062454223633,
          "x1": 35.74516677856445,
          "y0": -22,
          "y1": -22
         },
         {
          "layer": "below",
          "line": {
           "color": "#6175c1",
           "width": 4
          },
          "type": "line",
          "x0": 17.612080574035645,
          "x1": 35.74520301818848,
          "y0": -23.5,
          "y1": -23.5
         },
         {
          "layer": "below",
          "line": {
           "color": "#6175c1",
           "width": 4
          },
          "type": "line",
          "x0": 17.61208963394165,
          "x1": 35.745184898376465,
          "y0": -25,
          "y1": -25
         },
         {
          "layer": "below",
          "line": {
           "color": "#6175c1",
           "width": 4
          },
          "type": "line",
          "x0": 17.61207151412964,
          "x1": 35.74522113800049,
          "y0": -25,
          "y1": -25
         },
         {
          "layer": "below",
          "line": {
           "color": "#6175c1",
           "width": 4
          },
          "type": "line",
          "x0": 17.61204433441162,
          "x1": 35.74513053894043,
          "y0": -23.5,
          "y1": -23.5
         },
         {
          "layer": "below",
          "line": {
           "color": "#6175c1",
           "width": 4
          },
          "type": "line",
          "x0": 17.611989974975586,
          "x1": 35.74502182006836,
          "y0": -22,
          "y1": -22
         },
         {
          "layer": "below",
          "line": {
           "color": "#6175c1",
           "width": 4
          },
          "type": "line",
          "x0": 17.61180877685547,
          "x1": 35.74176025390625,
          "y0": -19,
          "y1": -16
         },
         {
          "layer": "below",
          "line": {
           "color": "#6175c1",
           "width": 4
          },
          "type": "line",
          "x0": 17.61191749572754,
          "x1": 35.741180419921875,
          "y0": -22,
          "y1": -17.5
         },
         {
          "layer": "below",
          "line": {
           "color": "#6175c1",
           "width": 4
          },
          "type": "line",
          "x0": 17.611946940422058,
          "x1": 35.74089050292969,
          "y0": -28,
          "y1": -19
         },
         {
          "layer": "below",
          "line": {
           "color": "#6175c1",
           "width": 4
          },
          "type": "line",
          "x0": 17.611899375915527,
          "x1": 35.74147033691406,
          "y0": -23.5,
          "y1": -19
         },
         {
          "layer": "below",
          "line": {
           "color": "#6175c1",
           "width": 4
          },
          "type": "line",
          "x0": 17.611908435821533,
          "x1": 35.74132537841797,
          "y0": -25,
          "y1": -20.5
         },
         {
          "layer": "below",
          "line": {
           "color": "#6175c1",
           "width": 4
          },
          "type": "line",
          "x0": 17.61189031600952,
          "x1": 35.741615295410156,
          "y0": -25,
          "y1": -20.5
         },
         {
          "layer": "below",
          "line": {
           "color": "#6175c1",
           "width": 4
          },
          "type": "line",
          "x0": 17.611736297607422,
          "x1": 35.742340087890625,
          "y0": -20.5,
          "y1": -17.5
         },
         {
          "layer": "below",
          "line": {
           "color": "#6175c1",
           "width": 4
          },
          "type": "line",
          "x0": 17.611772537231445,
          "x1": 35.74263000488281,
          "y0": -22,
          "y1": -19
         },
         {
          "layer": "below",
          "line": {
           "color": "#6175c1",
           "width": 4
          },
          "type": "line",
          "x0": 17.611790657043457,
          "x1": 35.742774963378906,
          "y0": -23.5,
          "y1": -20.5
         },
         {
          "layer": "below",
          "line": {
           "color": "#6175c1",
           "width": 4
          },
          "type": "line",
          "x0": 17.611799716949463,
          "x1": 35.74284744262695,
          "y0": -25,
          "y1": -22
         },
         {
          "layer": "below",
          "line": {
           "color": "#6175c1",
           "width": 4
          },
          "type": "line",
          "x0": 17.611804246902466,
          "x1": 35.74288368225098,
          "y0": -26.5,
          "y1": -23.5
         },
         {
          "layer": "below",
          "line": {
           "color": "#6175c1",
           "width": 4
          },
          "type": "line",
          "x0": 17.61179518699646,
          "x1": 35.74281120300293,
          "y0": -26.5,
          "y1": -23.5
         },
         {
          "layer": "below",
          "line": {
           "color": "#6175c1",
           "width": 4
          },
          "type": "line",
          "x0": 17.61178159713745,
          "x1": 35.74270248413086,
          "y0": -25,
          "y1": -22
         },
         {
          "layer": "below",
          "line": {
           "color": "#6175c1",
           "width": 4
          },
          "type": "line",
          "x0": 17.611754417419434,
          "x1": 35.74248504638672,
          "y0": -23.5,
          "y1": -20.5
         },
         {
          "layer": "below",
          "line": {
           "color": "#6175c1",
           "width": 4
          },
          "type": "line",
          "x0": 17.6117000579834,
          "x1": 35.74205017089844,
          "y0": -22,
          "y1": -19
         },
         {
          "layer": "below",
          "line": {
           "color": "#6175c1",
           "width": 4
          },
          "type": "line",
          "x0": 17.513671875,
          "x1": 35.701171875,
          "y0": -7,
          "y1": -8.5
         },
         {
          "layer": "below",
          "line": {
           "color": "#6175c1",
           "width": 4
          },
          "type": "line",
          "x0": 17.5322265625,
          "x1": 35.7197265625,
          "y0": -8.5,
          "y1": -10
         },
         {
          "layer": "below",
          "line": {
           "color": "#6175c1",
           "width": 4
          },
          "type": "line",
          "x0": 17.54150390625,
          "x1": 35.71044921875,
          "y0": -10,
          "y1": -11.5
         },
         {
          "layer": "below",
          "line": {
           "color": "#6175c1",
           "width": 4
          },
          "type": "line",
          "x0": 17.546142578125,
          "x1": 35.715087890625,
          "y0": -11.5,
          "y1": -13
         },
         {
          "layer": "below",
          "line": {
           "color": "#6175c1",
           "width": 4
          },
          "type": "line",
          "x0": 17.536865234375,
          "x1": 35.705810546875,
          "y0": -11.5,
          "y1": -13
         },
         {
          "layer": "below",
          "line": {
           "color": "#6175c1",
           "width": 4
          },
          "type": "line",
          "x0": 17.52294921875,
          "x1": 35.724365234375,
          "y0": -10,
          "y1": -13
         },
         {
          "layer": "below",
          "line": {
           "color": "#6175c1",
           "width": 4
          },
          "type": "line",
          "x0": 17.4951171875,
          "x1": 35.6826171875,
          "y0": -8.5,
          "y1": -10
         },
         {
          "layer": "below",
          "line": {
           "color": "#6175c1",
           "width": 4
          },
          "type": "line",
          "x0": 17.365234375,
          "x1": 35.58984375,
          "y0": -7,
          "y1": -7
         },
         {
          "layer": "below",
          "line": {
           "color": "#6175c1",
           "width": 4
          },
          "type": "line",
          "x0": 17.1796875,
          "x1": 35.3671875,
          "y0": -4,
          "y1": -5.5
         },
         {
          "layer": "below",
          "line": {
           "color": "#6175c1",
           "width": 4
          },
          "type": "line",
          "x0": 17.25390625,
          "x1": 35.478515625,
          "y0": -5.5,
          "y1": -8.5
         },
         {
          "layer": "below",
          "line": {
           "color": "#6175c1",
           "width": 4
          },
          "type": "line",
          "x0": 17.291015625,
          "x1": 35.4599609375,
          "y0": -7,
          "y1": -10
         },
         {
          "layer": "below",
          "line": {
           "color": "#6175c1",
           "width": 4
          },
          "type": "line",
          "x0": 17.3095703125,
          "x1": 35.464599609375,
          "y0": -8.5,
          "y1": -13
         },
         {
          "layer": "below",
          "line": {
           "color": "#6175c1",
           "width": 4
          },
          "type": "line",
          "x0": 17.2724609375,
          "x1": 35.45068359375,
          "y0": -8.5,
          "y1": -11.5
         },
         {
          "layer": "below",
          "line": {
           "color": "#6175c1",
           "width": 4
          },
          "type": "line",
          "x0": 17.216796875,
          "x1": 35.4970703125,
          "y0": -7,
          "y1": -10
         },
         {
          "layer": "below",
          "line": {
           "color": "#6175c1",
           "width": 4
          },
          "type": "line",
          "x0": 17.2353515625,
          "x1": 35.50634765625,
          "y0": -8.5,
          "y1": -11.5
         },
         {
          "layer": "below",
          "line": {
           "color": "#6175c1",
           "width": 4
          },
          "type": "line",
          "x0": 17.24462890625,
          "x1": 35.5133056640625,
          "y0": -10,
          "y1": -14.5
         },
         {
          "layer": "below",
          "line": {
           "color": "#6175c1",
           "width": 4
          },
          "type": "line",
          "x0": 17.249267578125,
          "x1": 35.51446533203125,
          "y0": -11.5,
          "y1": -16
         },
         {
          "layer": "below",
          "line": {
           "color": "#6175c1",
           "width": 4
          },
          "type": "line",
          "x0": 17.239990234375,
          "x1": 35.51214599609375,
          "y0": -11.5,
          "y1": -16
         },
         {
          "layer": "below",
          "line": {
           "color": "#6175c1",
           "width": 4
          },
          "type": "line",
          "x0": 17.22607421875,
          "x1": 35.5086669921875,
          "y0": -10,
          "y1": -14.5
         },
         {
          "layer": "below",
          "line": {
           "color": "#6175c1",
           "width": 4
          },
          "type": "line",
          "x0": 17.1982421875,
          "x1": 35.48779296875,
          "y0": -8.5,
          "y1": -11.5
         },
         {
          "layer": "below",
          "line": {
           "color": "#6175c1",
           "width": 4
          },
          "type": "line",
          "x0": 17.20751953125,
          "x1": 35.483154296875,
          "y0": -10,
          "y1": -13
         },
         {
          "layer": "below",
          "line": {
           "color": "#6175c1",
           "width": 4
          },
          "type": "line",
          "x0": 17.18896484375,
          "x1": 35.492431640625,
          "y0": -10,
          "y1": -13
         },
         {
          "layer": "below",
          "line": {
           "color": "#6175c1",
           "width": 4
          },
          "type": "line",
          "x0": 17.10546875,
          "x1": 35.29296875,
          "y0": -5.5,
          "y1": -7
         },
         {
          "layer": "below",
          "line": {
           "color": "#6175c1",
           "width": 4
          },
          "type": "line",
          "x0": 17.142578125,
          "x1": 35.330078125,
          "y0": -7,
          "y1": -8.5
         },
         {
          "layer": "below",
          "line": {
           "color": "#6175c1",
           "width": 4
          },
          "type": "line",
          "x0": 17.068359375,
          "x1": 35.2373046875,
          "y0": -7,
          "y1": -10
         },
         {
          "layer": "below",
          "line": {
           "color": "#6175c1",
           "width": 4
          },
          "type": "line",
          "x0": 16.95703125,
          "x1": 34.921875,
          "y0": -5.5,
          "y1": -4
         },
         {
          "layer": "below",
          "line": {
           "color": "#6175c1",
           "width": 4
          },
          "type": "line",
          "x0": 16.140625,
          "x1": 36.40625,
          "y0": -2.5,
          "y1": -2.5
         },
         {
          "layer": "below",
          "line": {
           "color": "#6175c1",
           "width": 4
          },
          "type": "line",
          "x0": 16.2890625,
          "x1": 36.703125,
          "y0": -4,
          "y1": -4
         },
         {
          "layer": "below",
          "line": {
           "color": "#6175c1",
           "width": 4
          },
          "type": "line",
          "x0": 16.36328125,
          "x1": 36.8515625,
          "y0": -5.5,
          "y1": -5.5
         },
         {
          "layer": "below",
          "line": {
           "color": "#6175c1",
           "width": 4
          },
          "type": "line",
          "x0": 16.400390625,
          "x1": 36.92578125,
          "y0": -7,
          "y1": -7
         },
         {
          "layer": "below",
          "line": {
           "color": "#6175c1",
           "width": 4
          },
          "type": "line",
          "x0": 16.4189453125,
          "x1": 36.888671875,
          "y0": -8.5,
          "y1": -8.5
         },
         {
          "layer": "below",
          "line": {
           "color": "#6175c1",
           "width": 4
          },
          "type": "line",
          "x0": 16.42822265625,
          "x1": 36.8701171875,
          "y0": -10,
          "y1": -10
         },
         {
          "layer": "below",
          "line": {
           "color": "#6175c1",
           "width": 4
          },
          "type": "line",
          "x0": 16.432861328125,
          "x1": 36.87939453125,
          "y0": -11.5,
          "y1": -11.5
         },
         {
          "layer": "below",
          "line": {
           "color": "#6175c1",
           "width": 4
          },
          "type": "line",
          "x0": 16.4351806640625,
          "x1": 36.874755859375,
          "y0": -13,
          "y1": -13
         },
         {
          "layer": "below",
          "line": {
           "color": "#6175c1",
           "width": 4
          },
          "type": "line",
          "x0": 16.4305419921875,
          "x1": 36.884033203125,
          "y0": -13,
          "y1": -13
         },
         {
          "layer": "below",
          "line": {
           "color": "#6175c1",
           "width": 4
          },
          "type": "line",
          "x0": 16.423583984375,
          "x1": 36.86083984375,
          "y0": -11.5,
          "y1": -11.5
         },
         {
          "layer": "below",
          "line": {
           "color": "#6175c1",
           "width": 4
          },
          "type": "line",
          "x0": 16.40966796875,
          "x1": 36.9072265625,
          "y0": -10,
          "y1": -10
         },
         {
          "layer": "below",
          "line": {
           "color": "#6175c1",
           "width": 4
          },
          "type": "line",
          "x0": 16.414306640625,
          "x1": 36.91650390625,
          "y0": -11.5,
          "y1": -11.5
         },
         {
          "layer": "below",
          "line": {
           "color": "#6175c1",
           "width": 4
          },
          "type": "line",
          "x0": 16.4166259765625,
          "x1": 36.911865234375,
          "y0": -13,
          "y1": -13
         },
         {
          "layer": "below",
          "line": {
           "color": "#6175c1",
           "width": 4
          },
          "type": "line",
          "x0": 16.4119873046875,
          "x1": 36.921142578125,
          "y0": -13,
          "y1": -13
         },
         {
          "layer": "below",
          "line": {
           "color": "#6175c1",
           "width": 4
          },
          "type": "line",
          "x0": 16.41314697265625,
          "x1": 36.9188232421875,
          "y0": -14.5,
          "y1": -14.5
         },
         {
          "layer": "below",
          "line": {
           "color": "#6175c1",
           "width": 4
          },
          "type": "line",
          "x0": 16.410247802734375,
          "x1": 36.9234619140625,
          "y0": -16,
          "y1": -14.5
         },
         {
          "layer": "below",
          "line": {
           "color": "#6175c1",
           "width": 4
          },
          "type": "line",
          "x0": 16.405029296875,
          "x1": 36.89794921875,
          "y0": -11.5,
          "y1": -11.5
         },
         {
          "layer": "below",
          "line": {
           "color": "#6175c1",
           "width": 4
          },
          "type": "line",
          "x0": 16.3818359375,
          "x1": 36.99072265625,
          "y0": -8.5,
          "y1": -11.5
         },
         {
          "layer": "below",
          "line": {
           "color": "#6175c1",
           "width": 4
          },
          "type": "line",
          "x0": 16.39111328125,
          "x1": 36.986083984375,
          "y0": -10,
          "y1": -13
         },
         {
          "layer": "below",
          "line": {
           "color": "#6175c1",
           "width": 4
          },
          "type": "line",
          "x0": 16.395751953125,
          "x1": 36.9837646484375,
          "y0": -11.5,
          "y1": -14.5
         },
         {
          "layer": "below",
          "line": {
           "color": "#6175c1",
           "width": 4
          },
          "type": "line",
          "x0": 16.386474609375,
          "x1": 36.9884033203125,
          "y0": -11.5,
          "y1": -14.5
         },
         {
          "layer": "below",
          "line": {
           "color": "#6175c1",
           "width": 4
          },
          "type": "line",
          "x0": 16.37255859375,
          "x1": 36.995361328125,
          "y0": -10,
          "y1": -13
         },
         {
          "layer": "below",
          "line": {
           "color": "#6175c1",
           "width": 4
          },
          "type": "line",
          "x0": 16.326171875,
          "x1": 36.77734375,
          "y0": -7,
          "y1": -7
         },
         {
          "layer": "below",
          "line": {
           "color": "#6175c1",
           "width": 4
          },
          "type": "line",
          "x0": 16.21484375,
          "x1": 36.5546875,
          "y0": -5.5,
          "y1": -5.5
         },
         {
          "layer": "below",
          "line": {
           "color": "#6175c1",
           "width": 4
          },
          "type": "line",
          "x0": 15.9921875,
          "x1": 36.109375,
          "y0": -4,
          "y1": -4
         },
         {
          "layer": "below",
          "line": {
           "color": "#6175c1",
           "width": 4
          },
          "type": "line",
          "x0": 16.06640625,
          "x1": 36.2578125,
          "y0": -5.5,
          "y1": -5.5
         },
         {
          "layer": "below",
          "line": {
           "color": "#6175c1",
           "width": 4
          },
          "type": "line",
          "x0": 16.103515625,
          "x1": 36.33203125,
          "y0": -7,
          "y1": -7
         },
         {
          "layer": "below",
          "line": {
           "color": "#6175c1",
           "width": 4
          },
          "type": "line",
          "x0": 16.1220703125,
          "x1": 36.294921875,
          "y0": -8.5,
          "y1": -8.5
         },
         {
          "layer": "below",
          "line": {
           "color": "#6175c1",
           "width": 4
          },
          "type": "line",
          "x0": 16.0849609375,
          "x1": 36.369140625,
          "y0": -8.5,
          "y1": -8.5
         },
         {
          "layer": "below",
          "line": {
           "color": "#6175c1",
           "width": 4
          },
          "type": "line",
          "x0": 16.029296875,
          "x1": 36.18359375,
          "y0": -7,
          "y1": -7
         },
         {
          "layer": "below",
          "line": {
           "color": "#6175c1",
           "width": 4
          },
          "type": "line",
          "x0": 15.91796875,
          "x1": 35.9609375,
          "y0": -5.5,
          "y1": -5.5
         },
         {
          "layer": "below",
          "line": {
           "color": "#6175c1",
           "width": 4
          },
          "type": "line",
          "x0": 11.6875,
          "x1": 29.875,
          "y0": 0.5,
          "y1": 0.5
         },
         {
          "layer": "below",
          "line": {
           "color": "#6175c1",
           "width": 4
          },
          "type": "line",
          "x0": 12.28125,
          "x1": 31.0625,
          "y0": -1,
          "y1": -1
         },
         {
          "layer": "below",
          "line": {
           "color": "#6175c1",
           "width": 4
          },
          "type": "line",
          "x0": 12.578125,
          "x1": 31.65625,
          "y0": -2.5,
          "y1": -2.5
         },
         {
          "layer": "below",
          "line": {
           "color": "#6175c1",
           "width": 4
          },
          "type": "line",
          "x0": 12.80078125,
          "x1": 31.953125,
          "y0": -5.5,
          "y1": -4
         },
         {
          "layer": "below",
          "line": {
           "color": "#6175c1",
           "width": 4
          },
          "type": "line",
          "x0": 12.837890625,
          "x1": 32.1015625,
          "y0": -7,
          "y1": -5.5
         },
         {
          "layer": "below",
          "line": {
           "color": "#6175c1",
           "width": 4
          },
          "type": "line",
          "x0": 12.8564453125,
          "x1": 32.02734375,
          "y0": -8.5,
          "y1": -7
         },
         {
          "layer": "below",
          "line": {
           "color": "#6175c1",
           "width": 4
          },
          "type": "line",
          "x0": 12.8193359375,
          "x1": 32.17578125,
          "y0": -8.5,
          "y1": -7
         },
         {
          "layer": "below",
          "line": {
           "color": "#6175c1",
           "width": 4
          },
          "type": "line",
          "x0": 12.79150390625,
          "x1": 31.8046875,
          "y0": -10,
          "y1": -5.5
         },
         {
          "layer": "below",
          "line": {
           "color": "#6175c1",
           "width": 4
          },
          "type": "line",
          "x0": 12.4296875,
          "x1": 31.359375,
          "y0": -4,
          "y1": -4
         },
         {
          "layer": "below",
          "line": {
           "color": "#6175c1",
           "width": 4
          },
          "type": "line",
          "x0": 11.984375,
          "x1": 30.46875,
          "y0": -2.5,
          "y1": -2.5
         },
         {
          "layer": "below",
          "line": {
           "color": "#6175c1",
           "width": 4
          },
          "type": "line",
          "x0": 12.1328125,
          "x1": 30.765625,
          "y0": -4,
          "y1": -4
         },
         {
          "layer": "below",
          "line": {
           "color": "#6175c1",
           "width": 4
          },
          "type": "line",
          "x0": 12.20703125,
          "x1": 30.9140625,
          "y0": -5.5,
          "y1": -5.5
         },
         {
          "layer": "below",
          "line": {
           "color": "#6175c1",
           "width": 4
          },
          "type": "line",
          "x0": 12.244140625,
          "x1": 30.98828125,
          "y0": -7,
          "y1": -7
         },
         {
          "layer": "below",
          "line": {
           "color": "#6175c1",
           "width": 4
          },
          "type": "line",
          "x0": 12.169921875,
          "x1": 30.83984375,
          "y0": -7,
          "y1": -7
         },
         {
          "layer": "below",
          "line": {
           "color": "#6175c1",
           "width": 4
          },
          "type": "line",
          "x0": 12.05859375,
          "x1": 30.6171875,
          "y0": -5.5,
          "y1": -5.5
         },
         {
          "layer": "below",
          "line": {
           "color": "#6175c1",
           "width": 4
          },
          "type": "line",
          "x0": 11.76171875,
          "x1": 30.171875,
          "y0": -5.5,
          "y1": -4
         },
         {
          "layer": "below",
          "line": {
           "color": "#6175c1",
           "width": 4
          },
          "type": "line",
          "x0": 11.390625,
          "x1": 28.6875,
          "y0": -2.5,
          "y1": -1
         },
         {
          "layer": "below",
          "line": {
           "color": "#6175c1",
           "width": 4
          },
          "type": "line",
          "x0": 5.75,
          "x1": 22.75,
          "y0": 3.5,
          "y1": 2
         },
         {
          "layer": "below",
          "line": {
           "color": "#6175c1",
           "width": 4
          },
          "type": "line",
          "x0": 4.5625,
          "x1": 24.234375,
          "y0": 0.5,
          "y1": -4
         },
         {
          "layer": "below",
          "line": {
           "color": "#6175c1",
           "width": 4
          },
          "type": "line",
          "x0": 5.15625,
          "x1": 24.0859375,
          "y0": -1,
          "y1": -5.5
         },
         {
          "layer": "below",
          "line": {
           "color": "#6175c1",
           "width": 4
          },
          "type": "line",
          "x0": 5.453125,
          "x1": 24.16015625,
          "y0": -2.5,
          "y1": -7
         },
         {
          "layer": "below",
          "line": {
           "color": "#6175c1",
           "width": 4
          },
          "type": "line",
          "x0": 5.6015625,
          "x1": 24.197265625,
          "y0": -4,
          "y1": -8.5
         },
         {
          "layer": "below",
          "line": {
           "color": "#6175c1",
           "width": 4
          },
          "type": "line",
          "x0": 5.3046875,
          "x1": 24.123046875,
          "y0": -4,
          "y1": -8.5
         },
         {
          "layer": "below",
          "line": {
           "color": "#6175c1",
           "width": 4
          },
          "type": "line",
          "x0": 4.859375,
          "x1": 24.01171875,
          "y0": -2.5,
          "y1": -7
         },
         {
          "layer": "below",
          "line": {
           "color": "#6175c1",
           "width": 4
          },
          "type": "line",
          "x0": 3.96875,
          "x1": 24.3828125,
          "y0": -1,
          "y1": -5.5
         },
         {
          "layer": "below",
          "line": {
           "color": "#6175c1",
           "width": 4
          },
          "type": "line",
          "x0": 4.265625,
          "x1": 24.45703125,
          "y0": -2.5,
          "y1": -7
         },
         {
          "layer": "below",
          "line": {
           "color": "#6175c1",
           "width": 4
          },
          "type": "line",
          "x0": 4.4140625,
          "x1": 24.5126953125,
          "y0": -4,
          "y1": -10
         },
         {
          "layer": "below",
          "line": {
           "color": "#6175c1",
           "width": 4
          },
          "type": "line",
          "x0": 4.48828125,
          "x1": 24.52197265625,
          "y0": -5.5,
          "y1": -11.5
         },
         {
          "layer": "below",
          "line": {
           "color": "#6175c1",
           "width": 4
          },
          "type": "line",
          "x0": 4.525390625,
          "x1": 24.526611328125,
          "y0": -7,
          "y1": -13
         },
         {
          "layer": "below",
          "line": {
           "color": "#6175c1",
           "width": 4
          },
          "type": "line",
          "x0": 4.5439453125,
          "x1": 24.5289306640625,
          "y0": -8.5,
          "y1": -14.5
         },
         {
          "layer": "below",
          "line": {
           "color": "#6175c1",
           "width": 4
          },
          "type": "line",
          "x0": 4.55322265625,
          "x1": 24.53009033203125,
          "y0": -10,
          "y1": -16
         },
         {
          "layer": "below",
          "line": {
           "color": "#6175c1",
           "width": 4
          },
          "type": "line",
          "x0": 4.53466796875,
          "x1": 24.52777099609375,
          "y0": -10,
          "y1": -16
         },
         {
          "layer": "below",
          "line": {
           "color": "#6175c1",
           "width": 4
          },
          "type": "line",
          "x0": 4.51611328125,
          "x1": 24.5242919921875,
          "y0": -10,
          "y1": -14.5
         },
         {
          "layer": "below",
          "line": {
           "color": "#6175c1",
           "width": 4
          },
          "type": "line",
          "x0": 4.451171875,
          "x1": 24.517333984375,
          "y0": -7,
          "y1": -13
         },
         {
          "layer": "below",
          "line": {
           "color": "#6175c1",
           "width": 4
          },
          "type": "line",
          "x0": 4.4697265625,
          "x1": 24.5196533203125,
          "y0": -8.5,
          "y1": -14.5
         },
         {
          "layer": "below",
          "line": {
           "color": "#6175c1",
           "width": 4
          },
          "type": "line",
          "x0": 4.4326171875,
          "x1": 24.5150146484375,
          "y0": -8.5,
          "y1": -14.5
         },
         {
          "layer": "below",
          "line": {
           "color": "#6175c1",
           "width": 4
          },
          "type": "line",
          "x0": 4.33984375,
          "x1": 24.50341796875,
          "y0": -5.5,
          "y1": -11.5
         },
         {
          "layer": "below",
          "line": {
           "color": "#6175c1",
           "width": 4
          },
          "type": "line",
          "x0": 4.1171875,
          "x1": 24.419921875,
          "y0": -4,
          "y1": -8.5
         },
         {
          "layer": "below",
          "line": {
           "color": "#6175c1",
           "width": 4
          },
          "type": "line",
          "x0": 4.19140625,
          "x1": 24.4013671875,
          "y0": -5.5,
          "y1": -10
         },
         {
          "layer": "below",
          "line": {
           "color": "#6175c1",
           "width": 4
          },
          "type": "line",
          "x0": 4.04296875,
          "x1": 24.4384765625,
          "y0": -5.5,
          "y1": -10
         },
         {
          "layer": "below",
          "line": {
           "color": "#6175c1",
           "width": 4
          },
          "type": "line",
          "x0": 3.671875,
          "x1": 24.30859375,
          "y0": -2.5,
          "y1": -7
         },
         {
          "layer": "below",
          "line": {
           "color": "#6175c1",
           "width": 4
          },
          "type": "line",
          "x0": 3.8203125,
          "x1": 24.345703125,
          "y0": -4,
          "y1": -8.5
         },
         {
          "layer": "below",
          "line": {
           "color": "#6175c1",
           "width": 4
          },
          "type": "line",
          "x0": 3.5234375,
          "x1": 24.271484375,
          "y0": -4,
          "y1": -8.5
         },
         {
          "layer": "below",
          "line": {
           "color": "#6175c1",
           "width": 4
          },
          "type": "line",
          "x0": 8.125,
          "x1": 24.828125,
          "y0": 2,
          "y1": -4
         },
         {
          "layer": "below",
          "line": {
           "color": "#6175c1",
           "width": 4
          },
          "type": "line",
          "x0": 10.203125,
          "x1": 24.9765625,
          "y0": -2.5,
          "y1": -5.5
         },
         {
          "layer": "below",
          "line": {
           "color": "#6175c1",
           "width": 4
          },
          "type": "line",
          "x0": 10.3515625,
          "x1": 25.05078125,
          "y0": -4,
          "y1": -7
         },
         {
          "layer": "below",
          "line": {
           "color": "#6175c1",
           "width": 4
          },
          "type": "line",
          "x0": 10.42578125,
          "x1": 25.013671875,
          "y0": -5.5,
          "y1": -8.5
         },
         {
          "layer": "below",
          "line": {
           "color": "#6175c1",
           "width": 4
          },
          "type": "line",
          "x0": 10.462890625,
          "x1": 24.9951171875,
          "y0": -7,
          "y1": -10
         },
         {
          "layer": "below",
          "line": {
           "color": "#6175c1",
           "width": 4
          },
          "type": "line",
          "x0": 10.388671875,
          "x1": 25.0322265625,
          "y0": -7,
          "y1": -10
         },
         {
          "layer": "below",
          "line": {
           "color": "#6175c1",
           "width": 4
          },
          "type": "line",
          "x0": 10.27734375,
          "x1": 25.087890625,
          "y0": -5.5,
          "y1": -8.5
         },
         {
          "layer": "below",
          "line": {
           "color": "#6175c1",
           "width": 4
          },
          "type": "line",
          "x0": 10.2958984375,
          "x1": 25.0693359375,
          "y0": -8.5,
          "y1": -10
         },
         {
          "layer": "below",
          "line": {
           "color": "#6175c1",
           "width": 4
          },
          "type": "line",
          "x0": 10.240234375,
          "x1": 25.1064453125,
          "y0": -7,
          "y1": -10
         },
         {
          "layer": "below",
          "line": {
           "color": "#6175c1",
           "width": 4
          },
          "type": "line",
          "x0": 10.0546875,
          "x1": 24.90234375,
          "y0": -4,
          "y1": -7
         },
         {
          "layer": "below",
          "line": {
           "color": "#6175c1",
           "width": 4
          },
          "type": "line",
          "x0": 10.12890625,
          "x1": 24.939453125,
          "y0": -5.5,
          "y1": -8.5
         },
         {
          "layer": "below",
          "line": {
           "color": "#6175c1",
           "width": 4
          },
          "type": "line",
          "x0": 9.98046875,
          "x1": 24.865234375,
          "y0": -5.5,
          "y1": -8.5
         },
         {
          "layer": "below",
          "line": {
           "color": "#6175c1",
           "width": 4
          },
          "type": "line",
          "x0": 8.71875,
          "x1": 24.75390625,
          "y0": -1,
          "y1": -7
         },
         {
          "layer": "below",
          "line": {
           "color": "#6175c1",
           "width": 4
          },
          "type": "line",
          "x0": 9.015625,
          "x1": 24.791015625,
          "y0": -2.5,
          "y1": -8.5
         },
         {
          "layer": "below",
          "line": {
           "color": "#6175c1",
           "width": 4
          },
          "type": "line",
          "x0": 9.1640625,
          "x1": 24.8095703125,
          "y0": -4,
          "y1": -10
         },
         {
          "layer": "below",
          "line": {
           "color": "#6175c1",
           "width": 4
          },
          "type": "line",
          "x0": 8.8671875,
          "x1": 24.7724609375,
          "y0": -4,
          "y1": -10
         },
         {
          "layer": "below",
          "line": {
           "color": "#6175c1",
           "width": 4
          },
          "type": "line",
          "x0": 8.421875,
          "x1": 24.716796875,
          "y0": -2.5,
          "y1": -8.5
         }
        ],
        "template": {
         "data": {
          "bar": [
           {
            "error_x": {
             "color": "#2a3f5f"
            },
            "error_y": {
             "color": "#2a3f5f"
            },
            "marker": {
             "line": {
              "color": "#E5ECF6",
              "width": 0.5
             },
             "pattern": {
              "fillmode": "overlay",
              "size": 10,
              "solidity": 0.2
             }
            },
            "type": "bar"
           }
          ],
          "barpolar": [
           {
            "marker": {
             "line": {
              "color": "#E5ECF6",
              "width": 0.5
             },
             "pattern": {
              "fillmode": "overlay",
              "size": 10,
              "solidity": 0.2
             }
            },
            "type": "barpolar"
           }
          ],
          "carpet": [
           {
            "aaxis": {
             "endlinecolor": "#2a3f5f",
             "gridcolor": "white",
             "linecolor": "white",
             "minorgridcolor": "white",
             "startlinecolor": "#2a3f5f"
            },
            "baxis": {
             "endlinecolor": "#2a3f5f",
             "gridcolor": "white",
             "linecolor": "white",
             "minorgridcolor": "white",
             "startlinecolor": "#2a3f5f"
            },
            "type": "carpet"
           }
          ],
          "choropleth": [
           {
            "colorbar": {
             "outlinewidth": 0,
             "ticks": ""
            },
            "type": "choropleth"
           }
          ],
          "contour": [
           {
            "colorbar": {
             "outlinewidth": 0,
             "ticks": ""
            },
            "colorscale": [
             [
              0,
              "#0d0887"
             ],
             [
              0.1111111111111111,
              "#46039f"
             ],
             [
              0.2222222222222222,
              "#7201a8"
             ],
             [
              0.3333333333333333,
              "#9c179e"
             ],
             [
              0.4444444444444444,
              "#bd3786"
             ],
             [
              0.5555555555555556,
              "#d8576b"
             ],
             [
              0.6666666666666666,
              "#ed7953"
             ],
             [
              0.7777777777777778,
              "#fb9f3a"
             ],
             [
              0.8888888888888888,
              "#fdca26"
             ],
             [
              1,
              "#f0f921"
             ]
            ],
            "type": "contour"
           }
          ],
          "contourcarpet": [
           {
            "colorbar": {
             "outlinewidth": 0,
             "ticks": ""
            },
            "type": "contourcarpet"
           }
          ],
          "heatmap": [
           {
            "colorbar": {
             "outlinewidth": 0,
             "ticks": ""
            },
            "colorscale": [
             [
              0,
              "#0d0887"
             ],
             [
              0.1111111111111111,
              "#46039f"
             ],
             [
              0.2222222222222222,
              "#7201a8"
             ],
             [
              0.3333333333333333,
              "#9c179e"
             ],
             [
              0.4444444444444444,
              "#bd3786"
             ],
             [
              0.5555555555555556,
              "#d8576b"
             ],
             [
              0.6666666666666666,
              "#ed7953"
             ],
             [
              0.7777777777777778,
              "#fb9f3a"
             ],
             [
              0.8888888888888888,
              "#fdca26"
             ],
             [
              1,
              "#f0f921"
             ]
            ],
            "type": "heatmap"
           }
          ],
          "heatmapgl": [
           {
            "colorbar": {
             "outlinewidth": 0,
             "ticks": ""
            },
            "colorscale": [
             [
              0,
              "#0d0887"
             ],
             [
              0.1111111111111111,
              "#46039f"
             ],
             [
              0.2222222222222222,
              "#7201a8"
             ],
             [
              0.3333333333333333,
              "#9c179e"
             ],
             [
              0.4444444444444444,
              "#bd3786"
             ],
             [
              0.5555555555555556,
              "#d8576b"
             ],
             [
              0.6666666666666666,
              "#ed7953"
             ],
             [
              0.7777777777777778,
              "#fb9f3a"
             ],
             [
              0.8888888888888888,
              "#fdca26"
             ],
             [
              1,
              "#f0f921"
             ]
            ],
            "type": "heatmapgl"
           }
          ],
          "histogram": [
           {
            "marker": {
             "pattern": {
              "fillmode": "overlay",
              "size": 10,
              "solidity": 0.2
             }
            },
            "type": "histogram"
           }
          ],
          "histogram2d": [
           {
            "colorbar": {
             "outlinewidth": 0,
             "ticks": ""
            },
            "colorscale": [
             [
              0,
              "#0d0887"
             ],
             [
              0.1111111111111111,
              "#46039f"
             ],
             [
              0.2222222222222222,
              "#7201a8"
             ],
             [
              0.3333333333333333,
              "#9c179e"
             ],
             [
              0.4444444444444444,
              "#bd3786"
             ],
             [
              0.5555555555555556,
              "#d8576b"
             ],
             [
              0.6666666666666666,
              "#ed7953"
             ],
             [
              0.7777777777777778,
              "#fb9f3a"
             ],
             [
              0.8888888888888888,
              "#fdca26"
             ],
             [
              1,
              "#f0f921"
             ]
            ],
            "type": "histogram2d"
           }
          ],
          "histogram2dcontour": [
           {
            "colorbar": {
             "outlinewidth": 0,
             "ticks": ""
            },
            "colorscale": [
             [
              0,
              "#0d0887"
             ],
             [
              0.1111111111111111,
              "#46039f"
             ],
             [
              0.2222222222222222,
              "#7201a8"
             ],
             [
              0.3333333333333333,
              "#9c179e"
             ],
             [
              0.4444444444444444,
              "#bd3786"
             ],
             [
              0.5555555555555556,
              "#d8576b"
             ],
             [
              0.6666666666666666,
              "#ed7953"
             ],
             [
              0.7777777777777778,
              "#fb9f3a"
             ],
             [
              0.8888888888888888,
              "#fdca26"
             ],
             [
              1,
              "#f0f921"
             ]
            ],
            "type": "histogram2dcontour"
           }
          ],
          "mesh3d": [
           {
            "colorbar": {
             "outlinewidth": 0,
             "ticks": ""
            },
            "type": "mesh3d"
           }
          ],
          "parcoords": [
           {
            "line": {
             "colorbar": {
              "outlinewidth": 0,
              "ticks": ""
             }
            },
            "type": "parcoords"
           }
          ],
          "pie": [
           {
            "automargin": true,
            "type": "pie"
           }
          ],
          "scatter": [
           {
            "fillpattern": {
             "fillmode": "overlay",
             "size": 10,
             "solidity": 0.2
            },
            "type": "scatter"
           }
          ],
          "scatter3d": [
           {
            "line": {
             "colorbar": {
              "outlinewidth": 0,
              "ticks": ""
             }
            },
            "marker": {
             "colorbar": {
              "outlinewidth": 0,
              "ticks": ""
             }
            },
            "type": "scatter3d"
           }
          ],
          "scattercarpet": [
           {
            "marker": {
             "colorbar": {
              "outlinewidth": 0,
              "ticks": ""
             }
            },
            "type": "scattercarpet"
           }
          ],
          "scattergeo": [
           {
            "marker": {
             "colorbar": {
              "outlinewidth": 0,
              "ticks": ""
             }
            },
            "type": "scattergeo"
           }
          ],
          "scattergl": [
           {
            "marker": {
             "colorbar": {
              "outlinewidth": 0,
              "ticks": ""
             }
            },
            "type": "scattergl"
           }
          ],
          "scattermapbox": [
           {
            "marker": {
             "colorbar": {
              "outlinewidth": 0,
              "ticks": ""
             }
            },
            "type": "scattermapbox"
           }
          ],
          "scatterpolar": [
           {
            "marker": {
             "colorbar": {
              "outlinewidth": 0,
              "ticks": ""
             }
            },
            "type": "scatterpolar"
           }
          ],
          "scatterpolargl": [
           {
            "marker": {
             "colorbar": {
              "outlinewidth": 0,
              "ticks": ""
             }
            },
            "type": "scatterpolargl"
           }
          ],
          "scatterternary": [
           {
            "marker": {
             "colorbar": {
              "outlinewidth": 0,
              "ticks": ""
             }
            },
            "type": "scatterternary"
           }
          ],
          "surface": [
           {
            "colorbar": {
             "outlinewidth": 0,
             "ticks": ""
            },
            "colorscale": [
             [
              0,
              "#0d0887"
             ],
             [
              0.1111111111111111,
              "#46039f"
             ],
             [
              0.2222222222222222,
              "#7201a8"
             ],
             [
              0.3333333333333333,
              "#9c179e"
             ],
             [
              0.4444444444444444,
              "#bd3786"
             ],
             [
              0.5555555555555556,
              "#d8576b"
             ],
             [
              0.6666666666666666,
              "#ed7953"
             ],
             [
              0.7777777777777778,
              "#fb9f3a"
             ],
             [
              0.8888888888888888,
              "#fdca26"
             ],
             [
              1,
              "#f0f921"
             ]
            ],
            "type": "surface"
           }
          ],
          "table": [
           {
            "cells": {
             "fill": {
              "color": "#EBF0F8"
             },
             "line": {
              "color": "white"
             }
            },
            "header": {
             "fill": {
              "color": "#C8D4E3"
             },
             "line": {
              "color": "white"
             }
            },
            "type": "table"
           }
          ]
         },
         "layout": {
          "annotationdefaults": {
           "arrowcolor": "#2a3f5f",
           "arrowhead": 0,
           "arrowwidth": 1
          },
          "autotypenumbers": "strict",
          "coloraxis": {
           "colorbar": {
            "outlinewidth": 0,
            "ticks": ""
           }
          },
          "colorscale": {
           "diverging": [
            [
             0,
             "#8e0152"
            ],
            [
             0.1,
             "#c51b7d"
            ],
            [
             0.2,
             "#de77ae"
            ],
            [
             0.3,
             "#f1b6da"
            ],
            [
             0.4,
             "#fde0ef"
            ],
            [
             0.5,
             "#f7f7f7"
            ],
            [
             0.6,
             "#e6f5d0"
            ],
            [
             0.7,
             "#b8e186"
            ],
            [
             0.8,
             "#7fbc41"
            ],
            [
             0.9,
             "#4d9221"
            ],
            [
             1,
             "#276419"
            ]
           ],
           "sequential": [
            [
             0,
             "#0d0887"
            ],
            [
             0.1111111111111111,
             "#46039f"
            ],
            [
             0.2222222222222222,
             "#7201a8"
            ],
            [
             0.3333333333333333,
             "#9c179e"
            ],
            [
             0.4444444444444444,
             "#bd3786"
            ],
            [
             0.5555555555555556,
             "#d8576b"
            ],
            [
             0.6666666666666666,
             "#ed7953"
            ],
            [
             0.7777777777777778,
             "#fb9f3a"
            ],
            [
             0.8888888888888888,
             "#fdca26"
            ],
            [
             1,
             "#f0f921"
            ]
           ],
           "sequentialminus": [
            [
             0,
             "#0d0887"
            ],
            [
             0.1111111111111111,
             "#46039f"
            ],
            [
             0.2222222222222222,
             "#7201a8"
            ],
            [
             0.3333333333333333,
             "#9c179e"
            ],
            [
             0.4444444444444444,
             "#bd3786"
            ],
            [
             0.5555555555555556,
             "#d8576b"
            ],
            [
             0.6666666666666666,
             "#ed7953"
            ],
            [
             0.7777777777777778,
             "#fb9f3a"
            ],
            [
             0.8888888888888888,
             "#fdca26"
            ],
            [
             1,
             "#f0f921"
            ]
           ]
          },
          "colorway": [
           "#636efa",
           "#EF553B",
           "#00cc96",
           "#ab63fa",
           "#FFA15A",
           "#19d3f3",
           "#FF6692",
           "#B6E880",
           "#FF97FF",
           "#FECB52"
          ],
          "font": {
           "color": "#2a3f5f"
          },
          "geo": {
           "bgcolor": "white",
           "lakecolor": "white",
           "landcolor": "#E5ECF6",
           "showlakes": true,
           "showland": true,
           "subunitcolor": "white"
          },
          "hoverlabel": {
           "align": "left"
          },
          "hovermode": "closest",
          "mapbox": {
           "style": "light"
          },
          "paper_bgcolor": "white",
          "plot_bgcolor": "#E5ECF6",
          "polar": {
           "angularaxis": {
            "gridcolor": "white",
            "linecolor": "white",
            "ticks": ""
           },
           "bgcolor": "#E5ECF6",
           "radialaxis": {
            "gridcolor": "white",
            "linecolor": "white",
            "ticks": ""
           }
          },
          "scene": {
           "xaxis": {
            "backgroundcolor": "#E5ECF6",
            "gridcolor": "white",
            "gridwidth": 2,
            "linecolor": "white",
            "showbackground": true,
            "ticks": "",
            "zerolinecolor": "white"
           },
           "yaxis": {
            "backgroundcolor": "#E5ECF6",
            "gridcolor": "white",
            "gridwidth": 2,
            "linecolor": "white",
            "showbackground": true,
            "ticks": "",
            "zerolinecolor": "white"
           },
           "zaxis": {
            "backgroundcolor": "#E5ECF6",
            "gridcolor": "white",
            "gridwidth": 2,
            "linecolor": "white",
            "showbackground": true,
            "ticks": "",
            "zerolinecolor": "white"
           }
          },
          "shapedefaults": {
           "line": {
            "color": "#2a3f5f"
           }
          },
          "ternary": {
           "aaxis": {
            "gridcolor": "white",
            "linecolor": "white",
            "ticks": ""
           },
           "baxis": {
            "gridcolor": "white",
            "linecolor": "white",
            "ticks": ""
           },
           "bgcolor": "#E5ECF6",
           "caxis": {
            "gridcolor": "white",
            "linecolor": "white",
            "ticks": ""
           }
          },
          "title": {
           "x": 0.05
          },
          "xaxis": {
           "automargin": true,
           "gridcolor": "white",
           "linecolor": "white",
           "ticks": "",
           "title": {
            "standoff": 15
           },
           "zerolinecolor": "white",
           "zerolinewidth": 2
          },
          "yaxis": {
           "automargin": true,
           "gridcolor": "white",
           "linecolor": "white",
           "ticks": "",
           "title": {
            "standoff": 15
           },
           "zerolinecolor": "white",
           "zerolinewidth": 2
          }
         }
        },
        "width": 1000,
        "xaxis": {
         "showgrid": false,
         "showline": false,
         "showticklabels": false,
         "zeroline": false
        },
        "yaxis": {
         "showgrid": false,
         "showline": false,
         "showticklabels": false,
         "zeroline": false
        }
       }
      }
     },
     "metadata": {},
     "output_type": "display_data"
    }
   ],
   "source": [
    "G.show_fig()\n"
   ]
  },
  {
   "cell_type": "code",
   "execution_count": null,
   "metadata": {},
   "outputs": [],
   "source": []
  }
 ],
 "metadata": {
  "kernelspec": {
   "display_name": "base",
   "language": "python",
   "name": "python3"
  },
  "language_info": {
   "codemirror_mode": {
    "name": "ipython",
    "version": 3
   },
   "file_extension": ".py",
   "mimetype": "text/x-python",
   "name": "python",
   "nbconvert_exporter": "python",
   "pygments_lexer": "ipython3",
   "version": "3.8.16"
  },
  "orig_nbformat": 4
 },
 "nbformat": 4,
 "nbformat_minor": 2
}
