{
 "cells": [
  {
   "cell_type": "code",
   "execution_count": 1,
   "metadata": {},
   "outputs": [],
   "source": [
    "from read_data import *\n",
    "from hyper import *\n",
    "from alignment import *\n",
    "from copy import *\n",
    "from datasets.preprecossing import *\n",
    "import rpy2\n",
    "from sklearn.metrics.pairwise import cosine_similarity\n",
    "from scipy.cluster import hierarchy\n",
    "from math import sin,cos,pi\n",
    "import scipy \n",
    "\n",
    "import seaborn as sns\n",
    "\n",
    "folder_path = './datas/ohs/'\n",
    "folder_path2 = './datas/ohss/'\n",
    "pcanum = 20\n",
    "tempnum = 200"
   ]
  },
  {
   "cell_type": "code",
   "execution_count": 2,
   "metadata": {},
   "outputs": [],
   "source": [
    "def rotate_spots(grid,spots,theta=0,translation=0,center_correction=0,figsize=(5,5),plot=True):\n",
    "    grid = grid.copy() + center_correction\n",
    "    spots = spots.copy() + center_correction\n",
    "    R = np.array([[np.cos(theta),-np.sin(theta)],[np.sin(theta),np.cos(theta)]])\n",
    "    rotated_spots = np.array([R.dot(spots[i]) for i in range(len(spots))])\n",
    "    rotated_spots += translation\n",
    "\n",
    "    new_spots = grid[np.argmin(scipy.spatial.distance.cdist(rotated_spots,grid),axis=1)]\n",
    "\n",
    "    grid -= center_correction\n",
    "    spots -= center_correction\n",
    "    rotated_spots -= center_correction\n",
    "    new_spots -= center_correction\n",
    "\n",
    "    seen = {}\n",
    "    mapping = []\n",
    "    for i in range(len(new_spots)):\n",
    "        if tuple(new_spots[i]) in seen: continue\n",
    "        seen[tuple(new_spots[i])] = 1\n",
    "        mapping.append(i)\n",
    "\n",
    "    if plot:\n",
    "        fig = plt.figure(figsize=figsize)\n",
    "        sns.scatterplot(x = grid[:,0],y = grid[:,1],linewidth=0,s=100, marker=\".\",alpha=0.2,color='blue')\n",
    "        sns.scatterplot(x = rotated_spots[:,0],y = rotated_spots[:,1],linewidth=0,s=100, marker=\".\",color='red')\n",
    "        sns.scatterplot(x = new_spots[:,0],y = new_spots[:,1],linewidth=0,s=100, marker=\".\",color='green')\n",
    "        plt.show()\n",
    "\n",
    "    return new_spots,mapping\n",
    "\n",
    "def simulate_spatial(adata, rotation_angle):\n",
    "    adata_sim = adata.copy()\n",
    "    grid_size = 800\n",
    "    layer_grid = np.array([[x,y] for x in range(grid_size) for y in range(grid_size)])\n",
    "    new_spots, mappings = rotate_spots(layer_grid, adata.obsm['spatial'], center_correction=-15, theta= rotation_angle)\n",
    "    adata_sim.obsm['spatial'] = new_spots\n",
    "    return adata_sim[mappings, :], mappings"
   ]
  },
  {
   "cell_type": "code",
   "execution_count": 3,
   "metadata": {},
   "outputs": [],
   "source": [
    "def simulate_gene_exp(adata, pc = 0.25, factor = 1):\n",
    "    \"\"\"\n",
    "    Adds noise to gene expression data. The rows are simulated according to a Multinomial distribution, \n",
    "    with the total counts per spot drawn from a Negative Binomial Distribution.\n",
    "    param: pc- Pseudocount to be added to dataframe\n",
    "    param: factor - amount by which we scale the variance (to increase noise)\n",
    "    \"\"\"\n",
    "    adata_sim = adata.copy()\n",
    "    df = pd.DataFrame(adata_sim.X.toarray())\n",
    "    # add pseudocounts \n",
    "    alpha = df.copy().to_numpy() + pc\n",
    "\n",
    "    # get vector of total counts per spot\n",
    "    n = df.sum(axis=1).to_numpy()\n",
    "\n",
    "    # Simulate total counts using negative binomial\n",
    "    mean = np.mean(n)\n",
    "    var = np.var(n)*factor\n",
    "    n = sample_nb(mean, var, len(n)).astype(int)\n",
    "\n",
    "    # Reassign zero counts so we don't divide by 0 in future calcuation\n",
    "    n[n == 0] = 1\n",
    "\n",
    "    # convert to float\n",
    "    alpha = np.array(alpha, dtype=np.float64)\n",
    "    n = np.array(n, dtype=np.float64)\n",
    "\n",
    "    # convert rows to unit vectors\n",
    "    alpha = alpha/alpha.sum(axis=1)[:, None]\n",
    "\n",
    "    dist = np.empty(df.shape)\n",
    "    for i in range(alpha.shape[0]):\n",
    "        dist[i] = np.random.multinomial(n[i], alpha[i])\n",
    "    new_df = pd.DataFrame(dist, index= df.index, columns= df.columns)\n",
    "    adata_sim.X = new_df\n",
    "    return adata_sim\n",
    "\n",
    "def sample_nb(m, v, n = 1):\n",
    "    \"\"\"\n",
    "    param: m - mean\n",
    "    param: v - variance\n",
    "    param: n - number of samples\n",
    "    return: random sample from negative binomial distribution\n",
    "    \"\"\"\n",
    "    r = m**2/(v - m)\n",
    "    p = m/v\n",
    "    samples = np.random.negative_binomial(r, p, n)\n",
    "    return samples"
   ]
  },
  {
   "cell_type": "code",
   "execution_count": 4,
   "metadata": {},
   "outputs": [],
   "source": [
    "datas = sc.read_h5ad(\"./datas/nature/151507_preprocessed.h5\")\n",
    "adata_subset = datas[:tempnum,:]\n",
    "adata_subset\n",
    "sc.write('./datas/nature/adata_subset.h5',adata_subset)"
   ]
  },
  {
   "cell_type": "code",
   "execution_count": 5,
   "metadata": {},
   "outputs": [
    {
     "data": {
      "image/png": "[encoded data removed]",
      "text/plain": [
       "<Figure size 500x500 with 1 Axes>"
      ]
     },
     "metadata": {},
     "output_type": "display_data"
    }
   ],
   "source": [
    "datas = sc.read_h5ad(\"./datas/nature/adata_subset.h5\")\n",
    "datas = simulate_gene_exp(datas)\n",
    "datas,m = simulate_spatial(datas,-pi/12);\n",
    "\n",
    "count_sub = datas.to_df()\n",
    "xy_coords = pd.DataFrame(datas.obsm['spatial'],columns=['imagerow','imagecol'],index= datas.obs.index)\n",
    "xy_coords.to_csv(folder_path+\"xy.csv\")\n",
    "datas.obs.to_csv(folder_path+'meta_data.csv');\n",
    "count_sub.T.to_csv(folder_path+\"gene.csv\")\n",
    "# count_sub.to_csv(folder_path+\"datas.data\",header=None);\n",
    "# count_sub.to_csv(folder_path+\"datas.csv\");"
   ]
  },
  {
   "cell_type": "code",
   "execution_count": 6,
   "metadata": {},
   "outputs": [
    {
     "name": "stderr",
     "output_type": "stream",
     "text": [
      "/Users/dongjiajie/opt/anaconda3/lib/python3.8/site-packages/pandas/core/generic.py:5604: ImplicitModificationWarning: Trying to modify attribute `.obs` of view, initializing view as actual.\n",
      "  self[name] = value\n",
      "/Users/dongjiajie/opt/anaconda3/lib/python3.8/contextlib.py:120: FutureWarning: X.dtype being converted to np.float32 from float64. In the next version of anndata (0.9) conversion will not be automatic. Pass dtype explicitly to avoid this warning. Pass `AnnData(X, dtype=X.dtype, ...)` to get the future behavour.\n",
      "  next(self.gen)\n"
     ]
    },
    {
     "data": {
      "image/png": "[encoded data removed]",
      "text/plain": [
       "<Figure size 913x480 with 1 Axes>"
      ]
     },
     "metadata": {},
     "output_type": "display_data"
    }
   ],
   "source": [
    "coords = datas.obsm['spatial']\n",
    "datas.obs.imagerow = coords[:,0]\n",
    "datas.obs.imagecol = coords[:,1]\n",
    "\n",
    "sc.pl.scatter(datas,'imagerow', 'imagecol', color='layer_guess_reordered', title='Spatial Plot',size=4000)"
   ]
  },
  {
   "cell_type": "code",
   "execution_count": 7,
   "metadata": {},
   "outputs": [
    {
     "name": "stdout",
     "output_type": "stream",
     "text": [
      "\n",
      "    WARNING: The R package \"reticulate\" only fixed recently\n",
      "    an issue that caused a segfault when used with rpy2:\n",
      "    https://github.com/rstudio/reticulate/pull/1188\n",
      "    Make sure that you use a version of that package that includes\n",
      "    the fix.\n",
      "    ## Use SCTransform function in Seurat to normalize data. \n"
     ]
    },
    {
     "name": "stderr",
     "output_type": "stream",
     "text": [
      "R[write to console]: Calculating cell attributes from input UMI matrix: log_umi\n",
      "\n",
      "R[write to console]: Variance stabilizing transformation of count matrix of size 9723 by 200\n",
      "\n",
      "R[write to console]: Model formula is y ~ log_umi\n",
      "\n",
      "R[write to console]: Get Negative Binomial regression parameters per gene\n",
      "\n",
      "R[write to console]: Using 2000 genes, 200 cells\n",
      "\n"
     ]
    },
    {
     "name": "stdout",
     "output_type": "stream",
     "text": [
      "  |======================================================================| 100%\n"
     ]
    },
    {
     "name": "stderr",
     "output_type": "stream",
     "text": [
      "R[write to console]: Second step: Get residuals using fitted parameters for 9723 genes\n",
      "\n"
     ]
    },
    {
     "name": "stdout",
     "output_type": "stream",
     "text": [
      "  |======================================================================| 100%\n"
     ]
    },
    {
     "name": "stderr",
     "output_type": "stream",
     "text": [
      "R[write to console]: Computing corrected count matrix for 9723 genes\n",
      "\n"
     ]
    },
    {
     "name": "stdout",
     "output_type": "stream",
     "text": [
      "  |======================================================================| 100%\n"
     ]
    },
    {
     "name": "stderr",
     "output_type": "stream",
     "text": [
      "R[write to console]: Calculating gene attributes\n",
      "\n",
      "R[write to console]: Wall clock passed: Time difference of 4.013856 secs\n",
      "\n",
      "R[write to console]: Determine variable features\n",
      "\n",
      "R[write to console]: Place corrected count matrix in counts slot\n",
      "\n",
      "R[write to console]: Centering data matrix\n",
      "\n",
      "  |                                                                            \n",
      "  |                                                                      |   0%\n",
      "  |                                                                            \n",
      "  |=====                                                                 |   8%\n",
      "  |                                                                            \n",
      "  |===========                                                           |  15%\n",
      "  |                                                                            \n",
      "  |================                                                      |  23%\n",
      "  |                                                                            \n",
      "  |======================                                                |  31%\n",
      "  |                                                                            \n",
      "  |===========================                                           |  38%\n",
      "  |                                                                            \n",
      "  |================================                                      |  46%\n",
      "  |                                                                            \n",
      "  |======================================                                |  54%\n",
      "  |                                                                            \n",
      "  |===========================================                           |  62%\n",
      "  |                                                                            \n",
      "  |================================================                      |  69%\n",
      "  |                                                                            \n",
      "  |======================================================                |  77%\n",
      "  |                                                                            \n",
      "  |===========================================================           |  85%\n",
      "  |                                                                            \n",
      "  |=================================================================     |  92%\n",
      "  |                                                                            \n",
      "  |======================================================================| 100%\n",
      "R[write to console]: \n",
      "\n",
      "R[write to console]: Set default assay to SCT\n",
      "\n"
     ]
    },
    {
     "name": "stdout",
     "output_type": "stream",
     "text": [
      "## Use spark.test function in SPARK package to select spatially variable genes. \n",
      "## ===== SPARK INPUT INFORMATION ==== \n",
      "## number of total samples:  200 \n",
      "## number of total features:  9723 \n",
      "## number of adjusted covariates:  0 \n",
      "# fitting normalized count-based spatial model under the null hypothesis ... \n",
      "## testing Gaussian kernel: 1...\n",
      "## testing Periodic kernel: 1...\n",
      "## testing Gaussian kernel: 2...\n",
      "## testing Periodic kernel: 2...\n",
      "## testing Gaussian kernel: 3...\n",
      "## testing Periodic kernel: 3...\n",
      "## testing Gaussian kernel: 4...\n",
      "## testing Periodic kernel: 4...\n",
      "## testing Gaussian kernel: 5...\n",
      "## testing Periodic kernel: 5...\n",
      "## Identified  21  spatial genes through spark.test function. \n",
      "The  number of significant spatial genes is less than the specified number of spatial genes. \n",
      "## Using  21  significant spatially variable genes. \n",
      "## Selected kernel type is:  gaussian  \n",
      "## The bandwidth is:  0.253976436196006  \n",
      "## Calculating kernel matrix\n",
      "## Finished calculating kernel matrix.\n",
      "[1] \"Eigen decomposition on kernel matrix!\"\n",
      "[1] \"Using all eigenvectors and eigenvalues in the Kernel matrix!\"\n"
     ]
    }
   ],
   "source": [
    "# robjects.r(\"load(paste0('./datas/pca/DLPFC/LIBD_sample1.RData'))\")\n",
    "from rpy2.robjects.packages import importr\n",
    "import rpy2.robjects as robjects\n",
    "\n",
    "Spatialpc  = importr('SpatialPCA')\n",
    "ggplot2 = importr('ggplot2')\n",
    "matrix = importr('Matrix')\n",
    "robjects.r(\"xy_coords <- read.csv('{}',row.names='X')\".format(folder_path + 'xy.csv'))\n",
    "robjects.r(\"xy_coords=as.matrix(xy_coords)\")\n",
    "robjects.r(\"count_temp <- read.csv('{}',row.names='X')\".format(folder_path + 'gene.csv'))\n",
    "robjects.r('my_matrix <- do.call(cbind, count_temp)')\n",
    "robjects.r('my_sparse_matrix <- Matrix(my_matrix, sparse = TRUE)')\n",
    "robjects.r('count_sub <- as(my_sparse_matrix, \"dgCMatrix\")')\n",
    "robjects.r('rownames(count_sub) <- rownames(count_temp)')\n",
    "robjects.r(\"rownames(xy_coords) = colnames(count_sub)\");\n",
    "robjects.r('LIBD = CreateSpatialPCAObject(counts=count_sub, location=xy_coords, project = \"SpatialPCA\",gene.type=\"spatial\",sparkversion=\"spark\",numCores_spark=5,gene.number=3000, customGenelist=NULL,min.loctions = 20, min.features=20)')\n",
    "robjects.r('LIBD = SpatialPCA_buildKernel(LIBD, kerneltype=\"gaussian\", bandwidthtype=\"SJ\",bandwidth.set.by.user=NULL)')\n",
    "robjects.r('LIBD = SpatialPCA_EstimateLoading(LIBD,fast=FALSE,SpatialPCnum={})'.format(pcanum))\n",
    "robjects.r('LIBD = SpatialPCA_SpatialPCs(LIBD, fast=FALSE)')\n",
    "robjects.r('write.csv(as.data.frame(LIBD@SpatialPCs), file = \"{}\")'.format(folder_path + \"pca.csv\"))"
   ]
  },
  {
   "cell_type": "code",
   "execution_count": 8,
   "metadata": {},
   "outputs": [],
   "source": [
    "adata1 = pd.read_csv(folder_path + 'pca.csv')\n",
    "adata1 = adata1.set_index(adata1.columns[0])\n",
    "adata1 = adata1.T\n",
    "adata1.index = datas.obs.layer_guess_reordered\n",
    "adata1.to_csv(folder_path+'datas.data',header=None);\n",
    "adata1.to_csv(folder_path+'datas.csv')"
   ]
  },
  {
   "cell_type": "code",
   "execution_count": null,
   "metadata": {},
   "outputs": [],
   "source": []
  },
  {
   "cell_type": "code",
   "execution_count": 10,
   "metadata": {},
   "outputs": [
    {
     "name": "stdout",
     "output_type": "stream",
     "text": [
      "./datas/ohs/datas.data length:200\n",
      "Generating all pairs superset\n"
     ]
    },
    {
     "name": "stderr",
     "output_type": "stream",
     "text": [
      "  0%|          | 0/1563 [00:00<?, ?ex/s]"
     ]
    },
    {
     "name": "stderr",
     "output_type": "stream",
     "text": [
      "100%|██████████| 1563/1563 [01:05<00:00, 23.84ex/s, loss=0.873810] \n"
     ]
    },
    {
     "name": "stdout",
     "output_type": "stream",
     "text": [
      "\t Epoch 0 | average train loss: 0.894071\n",
      "Optimization finished.\n"
     ]
    },
    {
     "name": "stderr",
     "output_type": "stream",
     "text": [
      "100%|██████████| 1563/1563 [01:00<00:00, 25.90ex/s, loss=0.978856] \n"
     ]
    },
    {
     "name": "stdout",
     "output_type": "stream",
     "text": [
      "\t Epoch 1 | average train loss: 0.823918\n",
      "Optimization finished.\n"
     ]
    },
    {
     "name": "stderr",
     "output_type": "stream",
     "text": [
      "100%|██████████| 1563/1563 [01:05<00:00, 23.72ex/s, loss=0.867760] \n"
     ]
    },
    {
     "name": "stdout",
     "output_type": "stream",
     "text": [
      "\t Epoch 2 | average train loss: 0.822796\n",
      "Optimization finished.\n"
     ]
    },
    {
     "name": "stderr",
     "output_type": "stream",
     "text": [
      "100%|██████████| 1563/1563 [01:02<00:00, 24.91ex/s, loss=0.989529] \n"
     ]
    },
    {
     "name": "stdout",
     "output_type": "stream",
     "text": [
      "\t Epoch 3 | average train loss: 0.819202\n",
      "Optimization finished.\n"
     ]
    },
    {
     "name": "stderr",
     "output_type": "stream",
     "text": [
      "100%|██████████| 1563/1563 [01:02<00:00, 25.17ex/s, loss=0.864089] \n"
     ]
    },
    {
     "name": "stdout",
     "output_type": "stream",
     "text": [
      "\t Epoch 4 | average train loss: 0.819308\n",
      "Optimization finished.\n"
     ]
    },
    {
     "name": "stderr",
     "output_type": "stream",
     "text": [
      "100%|██████████| 1563/1563 [01:02<00:00, 25.11ex/s, loss=0.849488] \n"
     ]
    },
    {
     "name": "stdout",
     "output_type": "stream",
     "text": [
      "\t Epoch 5 | average train loss: 0.818920\n",
      "Optimization finished.\n"
     ]
    },
    {
     "name": "stderr",
     "output_type": "stream",
     "text": [
      "100%|██████████| 1563/1563 [01:02<00:00, 24.88ex/s, loss=0.692520] \n"
     ]
    },
    {
     "name": "stdout",
     "output_type": "stream",
     "text": [
      "\t Epoch 6 | average train loss: 0.817309\n",
      "Optimization finished.\n"
     ]
    },
    {
     "name": "stderr",
     "output_type": "stream",
     "text": [
      "100%|██████████| 1563/1563 [01:02<00:00, 25.19ex/s, loss=0.905821] \n"
     ]
    },
    {
     "name": "stdout",
     "output_type": "stream",
     "text": [
      "\t Epoch 7 | average train loss: 0.817419\n",
      "Optimization finished.\n"
     ]
    },
    {
     "name": "stderr",
     "output_type": "stream",
     "text": [
      "100%|██████████| 1563/1563 [01:02<00:00, 25.07ex/s, loss=0.739945] \n"
     ]
    },
    {
     "name": "stdout",
     "output_type": "stream",
     "text": [
      "\t Epoch 8 | average train loss: 0.817405\n",
      "Optimization finished.\n"
     ]
    },
    {
     "name": "stderr",
     "output_type": "stream",
     "text": [
      "100%|██████████| 1563/1563 [01:02<00:00, 25.18ex/s, loss=0.708180] \n"
     ]
    },
    {
     "name": "stdout",
     "output_type": "stream",
     "text": [
      "\t Epoch 9 | average train loss: 0.817236\n",
      "Optimization finished.\n"
     ]
    },
    {
     "data": {
      "image/png": "[encoded data removed]",
      "text/plain": [
       "<Figure size 1500x1500 with 1 Axes>"
      ]
     },
     "metadata": {},
     "output_type": "display_data"
    }
   ],
   "source": [
    "get_Hyper_tree(folder_path+'datas.data',1,adata1.shape[1]+1,0,10,model_path=None,save_path=folder_path,c=-1)\n"
   ]
  },
  {
   "cell_type": "code",
   "execution_count": 11,
   "metadata": {},
   "outputs": [],
   "source": [
    "datas = sc.read_h5ad(\"./datas/nature/adata_subset.h5\")\n",
    "\n",
    "count_sub = datas.to_df()\n",
    "xy_coords = pd.DataFrame(datas.obsm['spatial'],columns=['imagerow','imagecol'],index= datas.obs.index)\n",
    "xy_coords.to_csv(folder_path2+\"xy.csv\")\n",
    "datas.obs.to_csv(folder_path2+'meta_data.csv');\n",
    "count_sub.T.to_csv(folder_path2+\"gene.csv\")\n",
    "# count_sub.to_csv(folder_path2+\"datas.data\",header=None);\n",
    "# count_sub.to_csv(folder_path2+\"datas.csv\");\n"
   ]
  },
  {
   "cell_type": "code",
   "execution_count": 12,
   "metadata": {},
   "outputs": [
    {
     "name": "stdout",
     "output_type": "stream",
     "text": [
      "\u001b[0;31mSignature:\u001b[0m\n",
      "\u001b[0msc\u001b[0m\u001b[0;34m.\u001b[0m\u001b[0mpl\u001b[0m\u001b[0;34m.\u001b[0m\u001b[0mscatter\u001b[0m\u001b[0;34m(\u001b[0m\u001b[0;34m\u001b[0m\n",
      "\u001b[0;34m\u001b[0m    \u001b[0madata\u001b[0m\u001b[0;34m:\u001b[0m \u001b[0manndata\u001b[0m\u001b[0;34m.\u001b[0m\u001b[0m_core\u001b[0m\u001b[0;34m.\u001b[0m\u001b[0manndata\u001b[0m\u001b[0;34m.\u001b[0m\u001b[0mAnnData\u001b[0m\u001b[0;34m,\u001b[0m\u001b[0;34m\u001b[0m\n",
      "\u001b[0;34m\u001b[0m    \u001b[0mx\u001b[0m\u001b[0;34m:\u001b[0m \u001b[0mUnion\u001b[0m\u001b[0;34m[\u001b[0m\u001b[0mstr\u001b[0m\u001b[0;34m,\u001b[0m \u001b[0mNoneType\u001b[0m\u001b[0;34m]\u001b[0m \u001b[0;34m=\u001b[0m \u001b[0;32mNone\u001b[0m\u001b[0;34m,\u001b[0m\u001b[0;34m\u001b[0m\n",
      "\u001b[0;34m\u001b[0m    \u001b[0my\u001b[0m\u001b[0;34m:\u001b[0m \u001b[0mUnion\u001b[0m\u001b[0;34m[\u001b[0m\u001b[0mstr\u001b[0m\u001b[0;34m,\u001b[0m \u001b[0mNoneType\u001b[0m\u001b[0;34m]\u001b[0m \u001b[0;34m=\u001b[0m \u001b[0;32mNone\u001b[0m\u001b[0;34m,\u001b[0m\u001b[0;34m\u001b[0m\n",
      "\u001b[0;34m\u001b[0m    \u001b[0mcolor\u001b[0m\u001b[0;34m:\u001b[0m \u001b[0mUnion\u001b[0m\u001b[0;34m[\u001b[0m\u001b[0mstr\u001b[0m\u001b[0;34m,\u001b[0m \u001b[0mCollection\u001b[0m\u001b[0;34m[\u001b[0m\u001b[0mstr\u001b[0m\u001b[0;34m]\u001b[0m\u001b[0;34m]\u001b[0m \u001b[0;34m=\u001b[0m \u001b[0;32mNone\u001b[0m\u001b[0;34m,\u001b[0m\u001b[0;34m\u001b[0m\n",
      "\u001b[0;34m\u001b[0m    \u001b[0muse_raw\u001b[0m\u001b[0;34m:\u001b[0m \u001b[0mUnion\u001b[0m\u001b[0;34m[\u001b[0m\u001b[0mbool\u001b[0m\u001b[0;34m,\u001b[0m \u001b[0mNoneType\u001b[0m\u001b[0;34m]\u001b[0m \u001b[0;34m=\u001b[0m \u001b[0;32mNone\u001b[0m\u001b[0;34m,\u001b[0m\u001b[0;34m\u001b[0m\n",
      "\u001b[0;34m\u001b[0m    \u001b[0mlayers\u001b[0m\u001b[0;34m:\u001b[0m \u001b[0mUnion\u001b[0m\u001b[0;34m[\u001b[0m\u001b[0mstr\u001b[0m\u001b[0;34m,\u001b[0m \u001b[0mCollection\u001b[0m\u001b[0;34m[\u001b[0m\u001b[0mstr\u001b[0m\u001b[0;34m]\u001b[0m\u001b[0;34m]\u001b[0m \u001b[0;34m=\u001b[0m \u001b[0;32mNone\u001b[0m\u001b[0;34m,\u001b[0m\u001b[0;34m\u001b[0m\n",
      "\u001b[0;34m\u001b[0m    \u001b[0msort_order\u001b[0m\u001b[0;34m:\u001b[0m \u001b[0mbool\u001b[0m \u001b[0;34m=\u001b[0m \u001b[0;32mTrue\u001b[0m\u001b[0;34m,\u001b[0m\u001b[0;34m\u001b[0m\n",
      "\u001b[0;34m\u001b[0m    \u001b[0malpha\u001b[0m\u001b[0;34m:\u001b[0m \u001b[0mUnion\u001b[0m\u001b[0;34m[\u001b[0m\u001b[0mfloat\u001b[0m\u001b[0;34m,\u001b[0m \u001b[0mNoneType\u001b[0m\u001b[0;34m]\u001b[0m \u001b[0;34m=\u001b[0m \u001b[0;32mNone\u001b[0m\u001b[0;34m,\u001b[0m\u001b[0;34m\u001b[0m\n",
      "\u001b[0;34m\u001b[0m    \u001b[0mbasis\u001b[0m\u001b[0;34m:\u001b[0m \u001b[0mUnion\u001b[0m\u001b[0;34m[\u001b[0m\u001b[0mLiteral\u001b[0m\u001b[0;34m[\u001b[0m\u001b[0;34m'pca'\u001b[0m\u001b[0;34m,\u001b[0m \u001b[0;34m'tsne'\u001b[0m\u001b[0;34m,\u001b[0m \u001b[0;34m'umap'\u001b[0m\u001b[0;34m,\u001b[0m \u001b[0;34m'diffmap'\u001b[0m\u001b[0;34m,\u001b[0m \u001b[0;34m'draw_graph_fr'\u001b[0m\u001b[0;34m]\u001b[0m\u001b[0;34m,\u001b[0m \u001b[0mNoneType\u001b[0m\u001b[0;34m]\u001b[0m \u001b[0;34m=\u001b[0m \u001b[0;32mNone\u001b[0m\u001b[0;34m,\u001b[0m\u001b[0;34m\u001b[0m\n",
      "\u001b[0;34m\u001b[0m    \u001b[0mgroups\u001b[0m\u001b[0;34m:\u001b[0m \u001b[0mUnion\u001b[0m\u001b[0;34m[\u001b[0m\u001b[0mstr\u001b[0m\u001b[0;34m,\u001b[0m \u001b[0mIterable\u001b[0m\u001b[0;34m[\u001b[0m\u001b[0mstr\u001b[0m\u001b[0;34m]\u001b[0m\u001b[0;34m]\u001b[0m \u001b[0;34m=\u001b[0m \u001b[0;32mNone\u001b[0m\u001b[0;34m,\u001b[0m\u001b[0;34m\u001b[0m\n",
      "\u001b[0;34m\u001b[0m    \u001b[0mcomponents\u001b[0m\u001b[0;34m:\u001b[0m \u001b[0mUnion\u001b[0m\u001b[0;34m[\u001b[0m\u001b[0mstr\u001b[0m\u001b[0;34m,\u001b[0m \u001b[0mCollection\u001b[0m\u001b[0;34m[\u001b[0m\u001b[0mstr\u001b[0m\u001b[0;34m]\u001b[0m\u001b[0;34m]\u001b[0m \u001b[0;34m=\u001b[0m \u001b[0;32mNone\u001b[0m\u001b[0;34m,\u001b[0m\u001b[0;34m\u001b[0m\n",
      "\u001b[0;34m\u001b[0m    \u001b[0mprojection\u001b[0m\u001b[0;34m:\u001b[0m \u001b[0mLiteral\u001b[0m\u001b[0;34m[\u001b[0m\u001b[0;34m'2d'\u001b[0m\u001b[0;34m,\u001b[0m \u001b[0;34m'3d'\u001b[0m\u001b[0;34m]\u001b[0m \u001b[0;34m=\u001b[0m \u001b[0;34m'2d'\u001b[0m\u001b[0;34m,\u001b[0m\u001b[0;34m\u001b[0m\n",
      "\u001b[0;34m\u001b[0m    \u001b[0mlegend_loc\u001b[0m\u001b[0;34m:\u001b[0m \u001b[0mstr\u001b[0m \u001b[0;34m=\u001b[0m \u001b[0;34m'right margin'\u001b[0m\u001b[0;34m,\u001b[0m\u001b[0;34m\u001b[0m\n",
      "\u001b[0;34m\u001b[0m    \u001b[0mlegend_fontsize\u001b[0m\u001b[0;34m:\u001b[0m \u001b[0mUnion\u001b[0m\u001b[0;34m[\u001b[0m\u001b[0mint\u001b[0m\u001b[0;34m,\u001b[0m \u001b[0mfloat\u001b[0m\u001b[0;34m,\u001b[0m \u001b[0mLiteral\u001b[0m\u001b[0;34m[\u001b[0m\u001b[0;34m'xx-small'\u001b[0m\u001b[0;34m,\u001b[0m \u001b[0;34m'x-small'\u001b[0m\u001b[0;34m,\u001b[0m \u001b[0;34m'small'\u001b[0m\u001b[0;34m,\u001b[0m \u001b[0;34m'medium'\u001b[0m\u001b[0;34m,\u001b[0m \u001b[0;34m'large'\u001b[0m\u001b[0;34m,\u001b[0m \u001b[0;34m'x-large'\u001b[0m\u001b[0;34m,\u001b[0m \u001b[0;34m'xx-large'\u001b[0m\u001b[0;34m]\u001b[0m\u001b[0;34m,\u001b[0m \u001b[0mNoneType\u001b[0m\u001b[0;34m]\u001b[0m \u001b[0;34m=\u001b[0m \u001b[0;32mNone\u001b[0m\u001b[0;34m,\u001b[0m\u001b[0;34m\u001b[0m\n",
      "\u001b[0;34m\u001b[0m    \u001b[0mlegend_fontweight\u001b[0m\u001b[0;34m:\u001b[0m \u001b[0mUnion\u001b[0m\u001b[0;34m[\u001b[0m\u001b[0mint\u001b[0m\u001b[0;34m,\u001b[0m \u001b[0mLiteral\u001b[0m\u001b[0;34m[\u001b[0m\u001b[0;34m'light'\u001b[0m\u001b[0;34m,\u001b[0m \u001b[0;34m'normal'\u001b[0m\u001b[0;34m,\u001b[0m \u001b[0;34m'medium'\u001b[0m\u001b[0;34m,\u001b[0m \u001b[0;34m'semibold'\u001b[0m\u001b[0;34m,\u001b[0m \u001b[0;34m'bold'\u001b[0m\u001b[0;34m,\u001b[0m \u001b[0;34m'heavy'\u001b[0m\u001b[0;34m,\u001b[0m \u001b[0;34m'black'\u001b[0m\u001b[0;34m]\u001b[0m\u001b[0;34m,\u001b[0m \u001b[0mNoneType\u001b[0m\u001b[0;34m]\u001b[0m \u001b[0;34m=\u001b[0m \u001b[0;32mNone\u001b[0m\u001b[0;34m,\u001b[0m\u001b[0;34m\u001b[0m\n",
      "\u001b[0;34m\u001b[0m    \u001b[0mlegend_fontoutline\u001b[0m\u001b[0;34m:\u001b[0m \u001b[0mfloat\u001b[0m \u001b[0;34m=\u001b[0m \u001b[0;32mNone\u001b[0m\u001b[0;34m,\u001b[0m\u001b[0;34m\u001b[0m\n",
      "\u001b[0;34m\u001b[0m    \u001b[0mcolor_map\u001b[0m\u001b[0;34m:\u001b[0m \u001b[0mUnion\u001b[0m\u001b[0;34m[\u001b[0m\u001b[0mstr\u001b[0m\u001b[0;34m,\u001b[0m \u001b[0mmatplotlib\u001b[0m\u001b[0;34m.\u001b[0m\u001b[0mcolors\u001b[0m\u001b[0;34m.\u001b[0m\u001b[0mColormap\u001b[0m\u001b[0;34m]\u001b[0m \u001b[0;34m=\u001b[0m \u001b[0;32mNone\u001b[0m\u001b[0;34m,\u001b[0m\u001b[0;34m\u001b[0m\n",
      "\u001b[0;34m\u001b[0m    \u001b[0mpalette\u001b[0m\u001b[0;34m:\u001b[0m \u001b[0mUnion\u001b[0m\u001b[0;34m[\u001b[0m\u001b[0mcycler\u001b[0m\u001b[0;34m.\u001b[0m\u001b[0mCycler\u001b[0m\u001b[0;34m,\u001b[0m \u001b[0mmatplotlib\u001b[0m\u001b[0;34m.\u001b[0m\u001b[0mcolors\u001b[0m\u001b[0;34m.\u001b[0m\u001b[0mListedColormap\u001b[0m\u001b[0;34m,\u001b[0m \u001b[0mstr\u001b[0m\u001b[0;34m,\u001b[0m \u001b[0mTuple\u001b[0m\u001b[0;34m[\u001b[0m\u001b[0mfloat\u001b[0m\u001b[0;34m,\u001b[0m \u001b[0;34m...\u001b[0m\u001b[0;34m]\u001b[0m\u001b[0;34m,\u001b[0m \u001b[0mSequence\u001b[0m\u001b[0;34m[\u001b[0m\u001b[0mUnion\u001b[0m\u001b[0;34m[\u001b[0m\u001b[0mstr\u001b[0m\u001b[0;34m,\u001b[0m \u001b[0mTuple\u001b[0m\u001b[0;34m[\u001b[0m\u001b[0mfloat\u001b[0m\u001b[0;34m,\u001b[0m \u001b[0;34m...\u001b[0m\u001b[0;34m]\u001b[0m\u001b[0;34m]\u001b[0m\u001b[0;34m]\u001b[0m\u001b[0;34m]\u001b[0m \u001b[0;34m=\u001b[0m \u001b[0;32mNone\u001b[0m\u001b[0;34m,\u001b[0m\u001b[0;34m\u001b[0m\n",
      "\u001b[0;34m\u001b[0m    \u001b[0mframeon\u001b[0m\u001b[0;34m:\u001b[0m \u001b[0mUnion\u001b[0m\u001b[0;34m[\u001b[0m\u001b[0mbool\u001b[0m\u001b[0;34m,\u001b[0m \u001b[0mNoneType\u001b[0m\u001b[0;34m]\u001b[0m \u001b[0;34m=\u001b[0m \u001b[0;32mNone\u001b[0m\u001b[0;34m,\u001b[0m\u001b[0;34m\u001b[0m\n",
      "\u001b[0;34m\u001b[0m    \u001b[0mright_margin\u001b[0m\u001b[0;34m:\u001b[0m \u001b[0mUnion\u001b[0m\u001b[0;34m[\u001b[0m\u001b[0mfloat\u001b[0m\u001b[0;34m,\u001b[0m \u001b[0mNoneType\u001b[0m\u001b[0;34m]\u001b[0m \u001b[0;34m=\u001b[0m \u001b[0;32mNone\u001b[0m\u001b[0;34m,\u001b[0m\u001b[0;34m\u001b[0m\n",
      "\u001b[0;34m\u001b[0m    \u001b[0mleft_margin\u001b[0m\u001b[0;34m:\u001b[0m \u001b[0mUnion\u001b[0m\u001b[0;34m[\u001b[0m\u001b[0mfloat\u001b[0m\u001b[0;34m,\u001b[0m \u001b[0mNoneType\u001b[0m\u001b[0;34m]\u001b[0m \u001b[0;34m=\u001b[0m \u001b[0;32mNone\u001b[0m\u001b[0;34m,\u001b[0m\u001b[0;34m\u001b[0m\n",
      "\u001b[0;34m\u001b[0m    \u001b[0msize\u001b[0m\u001b[0;34m:\u001b[0m \u001b[0mUnion\u001b[0m\u001b[0;34m[\u001b[0m\u001b[0mint\u001b[0m\u001b[0;34m,\u001b[0m \u001b[0mfloat\u001b[0m\u001b[0;34m,\u001b[0m \u001b[0mNoneType\u001b[0m\u001b[0;34m]\u001b[0m \u001b[0;34m=\u001b[0m \u001b[0;32mNone\u001b[0m\u001b[0;34m,\u001b[0m\u001b[0;34m\u001b[0m\n",
      "\u001b[0;34m\u001b[0m    \u001b[0mtitle\u001b[0m\u001b[0;34m:\u001b[0m \u001b[0mUnion\u001b[0m\u001b[0;34m[\u001b[0m\u001b[0mstr\u001b[0m\u001b[0;34m,\u001b[0m \u001b[0mNoneType\u001b[0m\u001b[0;34m]\u001b[0m \u001b[0;34m=\u001b[0m \u001b[0;32mNone\u001b[0m\u001b[0;34m,\u001b[0m\u001b[0;34m\u001b[0m\n",
      "\u001b[0;34m\u001b[0m    \u001b[0mshow\u001b[0m\u001b[0;34m:\u001b[0m \u001b[0mUnion\u001b[0m\u001b[0;34m[\u001b[0m\u001b[0mbool\u001b[0m\u001b[0;34m,\u001b[0m \u001b[0mNoneType\u001b[0m\u001b[0;34m]\u001b[0m \u001b[0;34m=\u001b[0m \u001b[0;32mNone\u001b[0m\u001b[0;34m,\u001b[0m\u001b[0;34m\u001b[0m\n",
      "\u001b[0;34m\u001b[0m    \u001b[0msave\u001b[0m\u001b[0;34m:\u001b[0m \u001b[0mUnion\u001b[0m\u001b[0;34m[\u001b[0m\u001b[0mstr\u001b[0m\u001b[0;34m,\u001b[0m \u001b[0mbool\u001b[0m\u001b[0;34m,\u001b[0m \u001b[0mNoneType\u001b[0m\u001b[0;34m]\u001b[0m \u001b[0;34m=\u001b[0m \u001b[0;32mNone\u001b[0m\u001b[0;34m,\u001b[0m\u001b[0;34m\u001b[0m\n",
      "\u001b[0;34m\u001b[0m    \u001b[0max\u001b[0m\u001b[0;34m:\u001b[0m \u001b[0mUnion\u001b[0m\u001b[0;34m[\u001b[0m\u001b[0mmatplotlib\u001b[0m\u001b[0;34m.\u001b[0m\u001b[0maxes\u001b[0m\u001b[0;34m.\u001b[0m\u001b[0m_axes\u001b[0m\u001b[0;34m.\u001b[0m\u001b[0mAxes\u001b[0m\u001b[0;34m,\u001b[0m \u001b[0mNoneType\u001b[0m\u001b[0;34m]\u001b[0m \u001b[0;34m=\u001b[0m \u001b[0;32mNone\u001b[0m\u001b[0;34m,\u001b[0m\u001b[0;34m\u001b[0m\n",
      "\u001b[0;34m\u001b[0m\u001b[0;34m)\u001b[0m\u001b[0;34m\u001b[0m\u001b[0;34m\u001b[0m\u001b[0m\n",
      "\u001b[0;31mDocstring:\u001b[0m\n",
      "Scatter plot along observations or variables axes.\n",
      "\n",
      "Color the plot using annotations of observations (`.obs`), variables\n",
      "(`.var`) or expression of genes (`.var_names`).\n",
      "\n",
      "Parameters\n",
      "----------\n",
      "adata : AnnData\n",
      "    Annotated data matrix.\n",
      "x : typing.Union[str, NoneType], optional (default: None)\n",
      "    x coordinate.\n",
      "y : typing.Union[str, NoneType], optional (default: None)\n",
      "    y coordinate.\n",
      "color : typing.Union[str, typing.Collection[str]], optional (default: None)\n",
      "    Keys for annotations of observations/cells or variables/genes,\n",
      "    or a hex color specification, e.g.,\n",
      "    `'ann1'`, `'#fe57a1'`, or `['ann1', 'ann2']`.\n",
      "use_raw : typing.Union[bool, NoneType], optional (default: None)\n",
      "    Whether to use `raw` attribute of `adata`. Defaults to `True` if `.raw` is present.\n",
      "layers : typing.Union[str, typing.Collection[str]], optional (default: None)\n",
      "    Use the `layers` attribute of `adata` if present: specify the layer for\n",
      "    `x`, `y` and `color`. If `layers` is a string, then it is expanded to\n",
      "    `(layers, layers, layers)`.\n",
      "basis : typing.Union[typing.Literal['pca', 'tsne', 'umap', 'diffmap', 'draw_graph_fr'], NoneType], optional (default: None)\n",
      "    String that denotes a plotting tool that computed coordinates.\n",
      "sort_order : bool, optional (default: True)\n",
      "    For continuous annotations used as color parameter, plot data points\n",
      "    with higher values on top of others.\n",
      "groups : typing.Union[str, typing.Iterable[str]], optional (default: None)\n",
      "    Restrict to a few categories in categorical observation annotation.\n",
      "    The default is not to restrict to any groups.\n",
      "dimensions\n",
      "    0-indexed dimensions of the embedding to plot as integers. E.g. [(0, 1), (1, 2)].\n",
      "    Unlike `components`, this argument is used in the same way as `colors`, e.g. is\n",
      "    used to specify a single plot at a time. Will eventually replace the components\n",
      "    argument.\n",
      "components : typing.Union[str, typing.Collection[str]], optional (default: None)\n",
      "    For instance, `['1,2', '2,3']`. To plot all available components use\n",
      "    `components='all'`.\n",
      "projection : typing.Literal['2d', '3d'], optional (default: '2d')\n",
      "    Projection of plot (default: `'2d'`).\n",
      "legend_loc : str, optional (default: 'right margin')\n",
      "    Location of legend, either `'on data'`, `'right margin'` or a valid keyword\n",
      "    for the `loc` parameter of :class:`~matplotlib.legend.Legend`.\n",
      "legend_fontsize : typing.Union[int, float, typing.Literal['xx-small', 'x-small', 'small', 'medium', 'large', 'x-large', 'xx-large'], NoneType], optional (default: None)\n",
      "    Numeric size in pt or string describing the size.\n",
      "    See :meth:`~matplotlib.text.Text.set_fontsize`.\n",
      "legend_fontweight : typing.Union[int, typing.Literal['light', 'normal', 'medium', 'semibold', 'bold', 'heavy', 'black'], NoneType], optional (default: None)\n",
      "    Legend font weight. A numeric value in range 0-1000 or a string.\n",
      "    Defaults to `'bold'` if `legend_loc == 'on data'`, otherwise to `'normal'`.\n",
      "    See :meth:`~matplotlib.text.Text.set_fontweight`.\n",
      "legend_fontoutline : float, optional (default: None)\n",
      "    Line width of the legend font outline in pt. Draws a white outline using\n",
      "    the path effect :class:`~matplotlib.patheffects.withStroke`.\n",
      "colorbar_loc\n",
      "    Where to place the colorbar for continous variables. If `None`, no colorbar\n",
      "    is added.\n",
      "size : typing.Union[int, float, NoneType], optional (default: None)\n",
      "    Point size. If `None`, is automatically computed as 120000 / n_cells.\n",
      "    Can be a sequence containing the size for each cell. The order should be\n",
      "    the same as in adata.obs.\n",
      "color_map : typing.Union[str, matplotlib.colors.Colormap], optional (default: None)\n",
      "    Color map to use for continous variables. Can be a name or a\n",
      "    :class:`~matplotlib.colors.Colormap` instance (e.g. `\"magma`\", `\"viridis\"`\n",
      "    or `mpl.cm.cividis`), see :func:`~matplotlib.cm.get_cmap`.\n",
      "    If `None`, the value of `mpl.rcParams[\"image.cmap\"]` is used.\n",
      "    The default `color_map` can be set using :func:`~scanpy.set_figure_params`.\n",
      "palette : typing.Union[cycler.Cycler, matplotlib.colors.ListedColormap, str, typing.Tuple[float, ...], typing.Sequence[typing.Union[str, typing.Tuple[float, ...]]]], optional (default: None)\n",
      "    Colors to use for plotting categorical annotation groups.\n",
      "    The palette can be a valid :class:`~matplotlib.colors.ListedColormap` name\n",
      "    (`'Set2'`, `'tab20'`, …), a :class:`~cycler.Cycler` object, a dict mapping\n",
      "    categories to colors, or a sequence of colors. Colors must be valid to\n",
      "    matplotlib. (see :func:`~matplotlib.colors.is_color_like`).\n",
      "    If `None`, `mpl.rcParams[\"axes.prop_cycle\"]` is used unless the categorical\n",
      "    variable already has colors stored in `adata.uns[\"{var}_colors\"]`.\n",
      "    If provided, values of `adata.uns[\"{var}_colors\"]` will be set.\n",
      "na_color\n",
      "    Color to use for null or masked values. Can be anything matplotlib accepts as a\n",
      "    color. Used for all points if `color=None`.\n",
      "na_in_legend\n",
      "    If there are missing values, whether they get an entry in the legend. Currently\n",
      "    only implemented for categorical legends.\n",
      "frameon : typing.Union[bool, NoneType], optional (default: None)\n",
      "    Draw a frame around the scatter plot. Defaults to value set in\n",
      "    :func:`~scanpy.set_figure_params`, defaults to `True`.\n",
      "title : typing.Union[str, NoneType], optional (default: None)\n",
      "    Provide title for panels either as string or list of strings,\n",
      "    e.g. `['title1', 'title2', ...]`.\n",
      "\n",
      "show : typing.Union[bool, NoneType], optional (default: None)\n",
      "     Show the plot, do not return axis.\n",
      "save : typing.Union[str, bool, NoneType], optional (default: None)\n",
      "    If `True` or a `str`, save the figure.\n",
      "    A string is appended to the default filename.\n",
      "    Infer the filetype if ending on {`'.pdf'`, `'.png'`, `'.svg'`}.\n",
      "ax : typing.Union[matplotlib.axes._axes.Axes, NoneType], optional (default: None)\n",
      "    A matplotlib axes object. Only works if plotting a single component.\n",
      "\n",
      "Returns\n",
      "-------\n",
      "If `show==False` a :class:`~matplotlib.axes.Axes` or a list of it.\n",
      "\u001b[0;31mFile:\u001b[0m      ~/opt/anaconda3/lib/python3.8/site-packages/scanpy/plotting/_anndata.py\n",
      "\u001b[0;31mType:\u001b[0m      function"
     ]
    }
   ],
   "source": [
    "sc.pl.scatter?"
   ]
  },
  {
   "cell_type": "code",
   "execution_count": 13,
   "metadata": {},
   "outputs": [
    {
     "data": {
      "image/png": "[encoded data removed]",
      "text/plain": [
       "<Figure size 913x480 with 1 Axes>"
      ]
     },
     "metadata": {},
     "output_type": "display_data"
    }
   ],
   "source": [
    "coords = datas.obsm['spatial']\n",
    "datas.obs.imagerow = coords[:,0]\n",
    "datas.obs.imagecol = coords[:,1]\n",
    "\n",
    "sc.pl.scatter(datas,'imagerow', 'imagecol', color='layer_guess_reordered', title='Spatial Plot',size=3000)"
   ]
  },
  {
   "cell_type": "code",
   "execution_count": 14,
   "metadata": {},
   "outputs": [
    {
     "name": "stdout",
     "output_type": "stream",
     "text": [
      "## Use SCTransform function in Seurat to normalize data. \n"
     ]
    },
    {
     "name": "stderr",
     "output_type": "stream",
     "text": [
      "WARNING:rpy2.rinterface_lib.callbacks:R[write to console]: Calculating cell attributes from input UMI matrix: log_umi\n",
      "\n",
      "WARNING:rpy2.rinterface_lib.callbacks:R[write to console]: Variance stabilizing transformation of count matrix of size 4547 by 200\n",
      "\n",
      "WARNING:rpy2.rinterface_lib.callbacks:R[write to console]: Model formula is y ~ log_umi\n",
      "\n",
      "WARNING:rpy2.rinterface_lib.callbacks:R[write to console]: Get Negative Binomial regression parameters per gene\n",
      "\n",
      "WARNING:rpy2.rinterface_lib.callbacks:R[write to console]: Using 2000 genes, 200 cells\n",
      "\n"
     ]
    },
    {
     "name": "stdout",
     "output_type": "stream",
     "text": [
      "  |======================================================================| 100%\n"
     ]
    },
    {
     "name": "stderr",
     "output_type": "stream",
     "text": [
      "WARNING:rpy2.rinterface_lib.callbacks:R[write to console]: Found 20 outliers - those will be ignored in fitting/regularization step\n",
      "\n",
      "\n",
      "WARNING:rpy2.rinterface_lib.callbacks:R[write to console]: Second step: Get residuals using fitted parameters for 4547 genes\n",
      "\n"
     ]
    },
    {
     "name": "stdout",
     "output_type": "stream",
     "text": [
      "  |======================================================================| 100%\n"
     ]
    },
    {
     "name": "stderr",
     "output_type": "stream",
     "text": [
      "WARNING:rpy2.rinterface_lib.callbacks:R[write to console]: Computing corrected count matrix for 4547 genes\n",
      "\n"
     ]
    },
    {
     "name": "stdout",
     "output_type": "stream",
     "text": [
      "  |======================================================================| 100%\n"
     ]
    },
    {
     "name": "stderr",
     "output_type": "stream",
     "text": [
      "WARNING:rpy2.rinterface_lib.callbacks:R[write to console]: Calculating gene attributes\n",
      "\n",
      "WARNING:rpy2.rinterface_lib.callbacks:R[write to console]: Wall clock passed: Time difference of 2.709024 secs\n",
      "\n",
      "WARNING:rpy2.rinterface_lib.callbacks:R[write to console]: Determine variable features\n",
      "\n",
      "WARNING:rpy2.rinterface_lib.callbacks:R[write to console]: Place corrected count matrix in counts slot\n",
      "\n",
      "WARNING:rpy2.rinterface_lib.callbacks:R[write to console]: Centering data matrix\n",
      "\n",
      "  |                                                                            \n",
      "  |                                                                      |   0%\n",
      "  |                                                                            \n",
      "  |==========                                                            |  14%\n",
      "  |                                                                            \n",
      "  |====================                                                  |  29%\n",
      "  |                                                                            \n",
      "  |==============================                                        |  43%\n",
      "  |                                                                            \n",
      "  |========================================                              |  57%\n",
      "  |                                                                            \n",
      "  |==================================================                    |  71%\n",
      "  |                                                                            \n",
      "  |============================================================          |  86%\n",
      "  |                                                                            \n",
      "  |======================================================================| 100%\n",
      "WARNING:rpy2.rinterface_lib.callbacks:R[write to console]: \n",
      "\n",
      "WARNING:rpy2.rinterface_lib.callbacks:R[write to console]: Set default assay to SCT\n",
      "\n"
     ]
    },
    {
     "name": "stdout",
     "output_type": "stream",
     "text": [
      "## Use spark.test function in SPARK package to select spatially variable genes. \n",
      "## ===== SPARK INPUT INFORMATION ==== \n",
      "## number of total samples:  200 \n",
      "## number of total features:  4547 \n",
      "## number of adjusted covariates:  0 \n",
      "# fitting normalized count-based spatial model under the null hypothesis ... \n",
      "## testing Gaussian kernel: 1...\n",
      "## testing Periodic kernel: 1...\n",
      "## testing Gaussian kernel: 2...\n",
      "## testing Periodic kernel: 2...\n",
      "## testing Gaussian kernel: 3...\n",
      "## testing Periodic kernel: 3...\n",
      "## testing Gaussian kernel: 4...\n",
      "## testing Periodic kernel: 4...\n",
      "## testing Gaussian kernel: 5...\n",
      "## testing Periodic kernel: 5...\n",
      "## Identified  27  spatial genes through spark.test function. \n",
      "The  number of significant spatial genes is less than the specified number of spatial genes. \n",
      "## Using  27  significant spatially variable genes. \n",
      "## Selected kernel type is:  gaussian  \n",
      "## The bandwidth is:  0.292332161645348  \n",
      "## Calculating kernel matrix\n",
      "## Finished calculating kernel matrix.\n",
      "[1] \"Eigen decomposition on kernel matrix!\"\n",
      "[1] \"Using all eigenvectors and eigenvalues in the Kernel matrix!\"\n"
     ]
    }
   ],
   "source": [
    "# robjects.r(\"load(paste0('./datas/pca/DLPFC/LIBD_sample1.RData'))\")\n",
    "from rpy2.robjects.packages import importr\n",
    "import rpy2.robjects as robjects\n",
    "\n",
    "Spatialpc  = importr('SpatialPCA')\n",
    "ggplot2 = importr('ggplot2')\n",
    "matrix = importr('Matrix')\n",
    "robjects.r(\"xy_coords <- read.csv('{}',row.names='X')\".format(folder_path2 + 'xy.csv'))\n",
    "robjects.r(\"xy_coords=as.matrix(xy_coords)\")\n",
    "robjects.r(\"count_temp <- read.csv('{}',row.names='X')\".format(folder_path2 + 'gene.csv'))\n",
    "robjects.r('my_matrix <- do.call(cbind, count_temp)')\n",
    "robjects.r('my_sparse_matrix <- Matrix(my_matrix, sparse = TRUE)')\n",
    "robjects.r('count_sub <- as(my_sparse_matrix, \"dgCMatrix\")')\n",
    "robjects.r('rownames(count_sub) <- rownames(count_temp)')\n",
    "robjects.r(\"rownames(xy_coords) = colnames(count_sub)\");\n",
    "robjects.r('LIBD = CreateSpatialPCAObject(counts=count_sub, location=xy_coords, project = \"SpatialPCA\",gene.type=\"spatial\",sparkversion=\"spark\",numCores_spark=5,gene.number=3000, customGenelist=NULL,min.loctions = 20, min.features=20)')\n",
    "robjects.r('LIBD = SpatialPCA_buildKernel(LIBD, kerneltype=\"gaussian\", bandwidthtype=\"SJ\",bandwidth.set.by.user=NULL)')\n",
    "robjects.r('LIBD = SpatialPCA_EstimateLoading(LIBD,fast=FALSE,SpatialPCnum={})'.format(pcanum))\n",
    "robjects.r('LIBD = SpatialPCA_SpatialPCs(LIBD, fast=FALSE)')\n",
    "robjects.r('write.csv(as.data.frame(LIBD@SpatialPCs), file = \"{}\")'.format(folder_path2 + \"pca.csv\"))"
   ]
  },
  {
   "cell_type": "code",
   "execution_count": 15,
   "metadata": {},
   "outputs": [],
   "source": [
    "adata2 = pd.read_csv(folder_path2 + 'pca.csv')\n",
    "adata2 = adata2.set_index(adata2.columns[0])\n",
    "adata2 = adata2.T\n",
    "adata2.index = datas.obs.layer_guess_reordered\n",
    "\n",
    "adata2.to_csv(folder_path2+'datas.data',header=None);\n",
    "adata2.to_csv(folder_path2+'datas.csv')"
   ]
  },
  {
   "cell_type": "code",
   "execution_count": 16,
   "metadata": {},
   "outputs": [
    {
     "name": "stdout",
     "output_type": "stream",
     "text": [
      "./datas/ohss/datas.data length:200\n",
      "Generating all pairs superset\n"
     ]
    },
    {
     "name": "stderr",
     "output_type": "stream",
     "text": [
      "100%|██████████| 1563/1563 [01:01<00:00, 25.29ex/s, loss=0.974849] \n"
     ]
    },
    {
     "name": "stdout",
     "output_type": "stream",
     "text": [
      "\t Epoch 0 | average train loss: 0.868402\n",
      "Optimization finished.\n"
     ]
    },
    {
     "name": "stderr",
     "output_type": "stream",
     "text": [
      "100%|██████████| 1563/1563 [01:01<00:00, 25.36ex/s, loss=0.988336] \n"
     ]
    },
    {
     "name": "stdout",
     "output_type": "stream",
     "text": [
      "\t Epoch 1 | average train loss: 0.813120\n",
      "Optimization finished.\n"
     ]
    },
    {
     "name": "stderr",
     "output_type": "stream",
     "text": [
      "100%|██████████| 1563/1563 [01:04<00:00, 24.17ex/s, loss=0.791284] \n"
     ]
    },
    {
     "name": "stdout",
     "output_type": "stream",
     "text": [
      "\t Epoch 2 | average train loss: 0.811946\n",
      "Optimization finished.\n"
     ]
    },
    {
     "name": "stderr",
     "output_type": "stream",
     "text": [
      "100%|██████████| 1563/1563 [01:00<00:00, 25.95ex/s, loss=0.922073] \n"
     ]
    },
    {
     "name": "stdout",
     "output_type": "stream",
     "text": [
      "\t Epoch 3 | average train loss: 0.811281\n",
      "Optimization finished.\n"
     ]
    },
    {
     "name": "stderr",
     "output_type": "stream",
     "text": [
      "100%|██████████| 1563/1563 [01:00<00:00, 25.84ex/s, loss=0.827796] \n"
     ]
    },
    {
     "name": "stdout",
     "output_type": "stream",
     "text": [
      "\t Epoch 4 | average train loss: 0.810943\n",
      "Optimization finished.\n"
     ]
    },
    {
     "name": "stderr",
     "output_type": "stream",
     "text": [
      "100%|██████████| 1563/1563 [01:00<00:00, 25.75ex/s, loss=0.779026] \n"
     ]
    },
    {
     "name": "stdout",
     "output_type": "stream",
     "text": [
      "\t Epoch 5 | average train loss: 0.810976\n",
      "Optimization finished.\n"
     ]
    },
    {
     "name": "stderr",
     "output_type": "stream",
     "text": [
      "100%|██████████| 1563/1563 [01:00<00:00, 25.93ex/s, loss=0.727094] \n"
     ]
    },
    {
     "name": "stdout",
     "output_type": "stream",
     "text": [
      "\t Epoch 6 | average train loss: 0.811028\n",
      "Optimization finished.\n"
     ]
    },
    {
     "name": "stderr",
     "output_type": "stream",
     "text": [
      "100%|██████████| 1563/1563 [01:00<00:00, 25.98ex/s, loss=0.750082] \n"
     ]
    },
    {
     "name": "stdout",
     "output_type": "stream",
     "text": [
      "\t Epoch 7 | average train loss: 0.806715\n",
      "Optimization finished.\n"
     ]
    },
    {
     "name": "stderr",
     "output_type": "stream",
     "text": [
      "100%|██████████| 1563/1563 [01:02<00:00, 24.88ex/s, loss=0.795802] \n"
     ]
    },
    {
     "name": "stdout",
     "output_type": "stream",
     "text": [
      "\t Epoch 8 | average train loss: 0.806396\n",
      "Optimization finished.\n"
     ]
    },
    {
     "name": "stderr",
     "output_type": "stream",
     "text": [
      "100%|██████████| 1563/1563 [01:00<00:00, 26.03ex/s, loss=0.698785] \n"
     ]
    },
    {
     "name": "stdout",
     "output_type": "stream",
     "text": [
      "\t Epoch 9 | average train loss: 0.806755\n",
      "Optimization finished.\n"
     ]
    },
    {
     "data": {
      "image/png": "[encoded data removed]",
      "text/plain": [
       "<Figure size 1500x1500 with 1 Axes>"
      ]
     },
     "metadata": {},
     "output_type": "display_data"
    }
   ],
   "source": [
    "get_Hyper_tree(folder_path2+'datas.data',1,adata2.shape[1]+1,0,10,model_path=None,save_path=folder_path2,c=-1)\n"
   ]
  },
  {
   "cell_type": "code",
   "execution_count": 17,
   "metadata": {},
   "outputs": [
    {
     "data": {
      "application/vnd.plotly.v1+json": {
       "config": {
        "plotlyServerURL": "https://plot.ly"
       },
       "data": [
        {
         "hoverinfo": "text",
         "marker": {
          "color": [
           0.8744608686703125,
           1.818319929473203,
           2.455169150026791,
           3.182428085567506,
           2.0955193021695817,
           2.2037440437191744,
           2.07485728442032,
           2.4506605056845476,
           3.3999441351613098,
           1.8298745577843487,
           1.9439680144420675,
           1.9852043148779421,
           1.9551698103104407,
           2.4629000008033466,
           2.1134034673200333,
           2.353298943891294,
           2.658979104494173,
           2.775279349343123,
           3.3875846865332364,
           3.5373772758245234,
           3.562432543504903,
           3.8930730827238764,
           3.2832737164293277,
           2.152939431701581,
           2.21268692704377,
           2.1982271336310433,
           2.5209182704156627,
           2.278581933559823,
           2.0178439321401225,
           2.0026107838072535,
           2.2054737660161603,
           2.5561314731975067,
           2.449877293670045,
           2.8060737981632853,
           3.3060403868948334,
           2.6944816881556664,
           3.6838599431987946,
           2.0954871970110722,
           2.523236599688247,
           2.1563138275517426,
           2.2767817977683458,
           3.138180752091237,
           3.2061234346697876,
           3.395427324661037,
           2.6510807742925406,
           2.724322897101394,
           3.1296613167449707,
           3.4548186182922174,
           3.03443866464094,
           3.848000782921136,
           2.4080892807187104,
           3.0261653132662065,
           2.2710932709714013,
           2.229325758468283,
           3.0108279531598763,
           1.9893014483890088,
           2.628187357732969,
           2.5845965337885373,
           2.9314712090157022,
           1.4858788192907215,
           1.600901441504474,
           2.439293372859903,
           2.137370709506092,
           2.2420498552257113,
           2.2250721204623787,
           2.3044948658290125,
           2.143743621679315,
           2.6198204073786373,
           3.5417562478110285,
           1.9260259414360714,
           1.869769066693092,
           2.478508787443611,
           2.006201376389596,
           2.2209769189397104,
           1.8749664962775288,
           1.8337166431906644,
           2.112896607561398,
           2.1563118555130685,
           2.371477572238745,
           2.234085446873685,
           2.5419784093390465,
           2.2681705228064177,
           2.607602843222424,
           3.2200113034136324,
           2.968921349728847,
           3.7314767210950075,
           2.56562980169246,
           2.705705796683717,
           2.8241550577185173,
           2.6931269995522253,
           2.502937868265947,
           2.5454648081627815,
           2.8237150282313417,
           2.871449833636533,
           2.829286473187814,
           2.128886875907103,
           2.596437079387641,
           2.672243857968044,
           2.3541009684872303,
           1.9540537736263528,
           2.0687588785976225,
           2.656184626792215,
           2.9965883078596964,
           3.105775855329453,
           2.8942415242256967,
           3.0461423317415877,
           3.2999562716963218,
           3.408933280943743,
           3.2609393375134466,
           2.9114564356574575,
           3.037945060192493,
           2.968811988129396,
           2.602495909075569,
           2.6269565802588386,
           2.7454944376250796,
           3.150007707447074,
           2.5931475220318583,
           3.2623328272076866,
           2.3947564800367025,
           3.370290822784012,
           2.015183758286271,
           2.548312682791372,
           3.37160705275163,
           2.0454252487638556,
           2.6388917759066253,
           2.8549709181576137,
           3.4977283044238003,
           2.6549921229481046,
           2.6358697139409824,
           2.7033252859553025,
           2.5091795181733576,
           3.1316878251976683,
           3.15998366895135,
           3.3689620548051242,
           3.8456098712896107,
           3.0177124204286137,
           2.5988485081166424,
           2.352511924880079,
           2.8286463946993057,
           3.055227435530988,
           3.3214644147272674,
           2.9940687256018066,
           2.670458891161492,
           3.1298344196424726,
           2.525262732744979,
           2.9711293757724895,
           2.442274307692571,
           1.9832518973701985,
           2.801540019697193,
           2.6084313266057033,
           3.2012381917071404,
           3.542389067800328,
           3.4552477516232707,
           1.909988210032366,
           2.0776803783246702,
           1.854734882223272,
           2.9311712619520374,
           3.0644827624434905,
           3.2105397052552425,
           3.4033798395841326,
           3.171265268733112,
           3.3317934507486164,
           3.444635910718882,
           3.2475976677672564,
           2.8621414972371384,
           2.7502383367764667,
           2.8394336368210786,
           2.8503293904301947,
           2.9299914369349476,
           3.470205182625663,
           3.046119276323851,
           3.182911162959091,
           3.092325327781322,
           3.644129406562825,
           3.0611978785681013,
           1.951160700172246,
           2.363014017182473,
           2.5881034960670553,
           2.7464569897799653,
           3.0238916265885663,
           3.1174559680698812,
           2.9383007907994254,
           3.0372819480902744,
           2.8695684206190117,
           2.6995169422571794,
           3.2920176547904827,
           2.4270782956111185,
           2.5076999237221407,
           3.1134918744577638,
           2.089175354947515,
           2.7048575786479696,
           2.048743613354331,
           2.2295004374086616,
           3.0725483065378483,
           1.7424054180226067,
           2.1020173566430866,
           2.0807081492328807,
           2.3228747550134607,
           2.7079471738796186,
           2.1141435729585596,
           2.0499379377055433,
           2.764777538355893,
           2.9415176104474963,
           2.693221708414942,
           2.369976095890592,
           3.232706148216389,
           1.9434392788427866,
           2.515831336471883,
           2.0556786443295705,
           1.7191064527487954,
           2.1469150108646837,
           2.5481106823763526,
           2.1095628419283843,
           1.5933599267836833,
           1.906843030921547,
           1.8058500820754033,
           2.0854819303007397,
           1.697532897739881,
           1.8984211355268379,
           2.2602244165027385,
           0.7313813828575546,
           0.8812220045662711,
           1.2843942361170324,
           1.4502808053339287,
           1.9536684903089094,
           1.4565913953755067,
           2.3042381106680776,
           1.1924220358089155,
           1.6415638543401434,
           1.7581873165411797,
           1.2655548591118413,
           1.583445080130714,
           1.8929148984879578,
           2.4408959012683775,
           1.5671455402999486,
           1.9011727486610142,
           1.5640895637072925,
           1.6555889267168904,
           1.8596044708222552,
           1.2369444653651434,
           1.9488465979443907,
           1.6791002781144901,
           1.984703975820207,
           2.1704354685709033,
           2.1453514450052444,
           1.9108006858468742,
           2.6080837130260432,
           2.926552159548896,
           2.681732683765687,
           2.5286933151346482,
           2.814783927409061,
           2.367174871140343,
           1.8654639716635937,
           2.330621605999687,
           2.111307872182585,
           2.5429622164500745,
           2.400351075580825,
           2.6523615297194625,
           3.434061984981363,
           2.226106054739335,
           1.9020088224913545,
           2.6857268700229433,
           1.6070202093021098,
           1.7673053146015845,
           2.243375148164645,
           1.9575973438760939,
           1.9019038699738633,
           2.897675156733076,
           2.9353863126542965,
           3.408477339127205,
           3.4183204294811453,
           4.135536092221772,
           3.1065254541494705,
           3.426315671970728,
           4.327635785375654,
           3.7389029322226683,
           5.054625790870741,
           2.6404816105134006,
           2.937231670090129,
           4.277332719263993,
           2.425149172055309,
           2.4785917673501605,
           2.724457340340424,
           3.079762329610382,
           2.633940798245404,
           2.749524499242238,
           2.3672463189662794,
           3.647853020090116,
           2.5769446773392515,
           3.0137441634332096,
           3.4740322026079324,
           3.135212522583916,
           2.5567207324315824,
           4.8031100166211935,
           3.956933228476071,
           3.242767404544649,
           5.035491044640101,
           4.923884005663234,
           5.151563827902901,
           2.692048158954509,
           4.473346076747838,
           1.6230067431246615,
           2.284335240032961,
           2.5155464633705273,
           2.450429888513296,
           2.92388682662247,
           2.943469432761073,
           3.675455510993406,
           2.144097605846933,
           1.6157766871414405,
           1.5493816161739524,
           1.8510936222893897,
           1.8833573889717776,
           1.8518639045567462,
           2.2934584615801716,
           2.3094348649484737,
           2.87979985994652,
           3.009417355081026,
           2.9073578586570052,
           2.938529498957479,
           3.026838827578718,
           3.6034127051842573,
           3.405190719876646,
           3.884407108084884,
           2.787677664360213,
           3.0943650217185197,
           4.096893021678296,
           2.4065697090205083,
           2.032776254846489,
           3.178826890053347,
           4.251300227298083,
           2.8814148175612027,
           2.5875989866280404,
           2.195459632548063,
           2.463938179261855,
           2.2844315569123013,
           3.4555356300858624,
           4.066594247832971,
           3.0702745178750575,
           4.540673279621999,
           2.564758406696898,
           1.4975083815298151,
           1.652801700963541,
           2.1549135163842172,
           1.7080355930771056,
           2.454231822186445,
           1.6748129480617913,
           1.6899369405297935,
           1.6620827357119847,
           2.042601656150176,
           1.9961697353298973,
           1.8499127435990077,
           2.159385369035531,
           2.475930746640473,
           2.4941599510164822,
           2.619603556797134,
           2.646313694683324,
           2.625725589484895,
           1.931409699165174,
           2.197699663533317,
           2.019873973956317,
           2.4490014246574936,
           1.7348237056385993,
           1.7893990296125795,
           2.1106463316553,
           2.3079848885469705,
           2.4558322188738275,
           1.7126144447174676,
           2.046061948838074,
           2.400919199699833,
           1.9243517889451576,
           2.2902138544836617,
           2.35554462689158,
           1.6453815740288997,
           1.7412932957965315,
           1.6019360746064368,
           1.7114361042823514,
           1.6735013050826921,
           2.0705335506428257,
           2.04872481633228,
           1.1608000822208748,
           1.79246026529807,
           2.281930404157937,
           1.3877351502562565,
           2.041984526234284,
           2.1751771543650857,
           1.9336790072196324,
           1.0786711240836417,
           1.7718388843042387,
           1.8686396374378937,
           1.4710597771224827,
           2.059622601613934,
           1.1158345695975938,
           1.6886363129215505,
           1.973209629540331,
           2.462614780283532,
           1.3916216642533676,
           1.954672678768608,
           1.7751840603146736
          ],
          "colorscale": [
           [
            0,
            "rgb(253, 224, 197)"
           ],
           [
            0.16666666666666666,
            "rgb(250, 203, 166)"
           ],
           [
            0.3333333333333333,
            "rgb(248, 181, 139)"
           ],
           [
            0.5,
            "rgb(245, 158, 114)"
           ],
           [
            0.6666666666666666,
            "rgb(242, 133, 93)"
           ],
           [
            0.8333333333333334,
            "rgb(239, 106, 76)"
           ],
           [
            1,
            "rgb(235, 74, 64)"
           ]
          ],
          "showscale": true,
          "size": 50,
          "symbol": "circle-dot"
         },
         "mode": "markers+text",
         "opacity": 0.8,
         "text": [
          "398",
          "387",
          "369",
          "188",
          "366",
          "330",
          "85",
          "264",
          "22",
          "250",
          "130",
          "249",
          "66",
          "80",
          "360",
          "358",
          "334",
          "62",
          "320",
          "155",
          "308",
          "21",
          "35",
          "355",
          "338",
          "310",
          "183",
          "301",
          "269",
          "212",
          "78",
          "98",
          "257",
          "45",
          "137",
          "281",
          "81",
          "265",
          "167",
          "251",
          "177",
          "216",
          "51",
          "178",
          "337",
          "43",
          "332",
          "138",
          "304",
          "65",
          "213",
          "24",
          "122",
          "350",
          "104",
          "336",
          "289",
          "9",
          "165",
          "302",
          "92",
          "117",
          "359",
          "298",
          "42",
          "100",
          "349",
          "261",
          "127",
          "245",
          "72",
          "158",
          "323",
          "60",
          "114",
          "379",
          "367",
          "28",
          "363",
          "262",
          "95",
          "143",
          "311",
          "206",
          "17",
          "157",
          "283",
          "238",
          "136",
          "174",
          "252",
          "53",
          "205",
          "112",
          "118",
          "376",
          "373",
          "356",
          "316",
          "228",
          "41",
          "134",
          "279",
          "146",
          "148",
          "348",
          "305",
          "87",
          "175",
          "343",
          "16",
          "52",
          "364",
          "339",
          "295",
          "139",
          "241",
          "47",
          "221",
          "33",
          "91",
          "333",
          "86",
          "125",
          "354",
          "234",
          "15",
          "105",
          "351",
          "318",
          "170",
          "259",
          "128",
          "256",
          "74",
          "131",
          "345",
          "303",
          "272",
          "215",
          "29",
          "76",
          "232",
          "2",
          "204",
          "38",
          "61",
          "291",
          "282",
          "151",
          "231",
          "8",
          "129",
          "288",
          "19",
          "64",
          "331",
          "309",
          "230",
          "124",
          "142",
          "248",
          "93",
          "103",
          "313",
          "242",
          "166",
          "227",
          "36",
          "107",
          "243",
          "102",
          "235",
          "90",
          "172",
          "375",
          "362",
          "344",
          "326",
          "297",
          "161",
          "266",
          "115",
          "144",
          "319",
          "113",
          "132",
          "341",
          "164",
          "284",
          "58",
          "173",
          "353",
          "68",
          "293",
          "154",
          "263",
          "240",
          "55",
          "239",
          "40",
          "225",
          "169",
          "218",
          "145",
          "168",
          "247",
          "34",
          "94",
          "372",
          "357",
          "77",
          "196",
          "365",
          "1",
          "253",
          "70",
          "226",
          "109",
          "133",
          "397",
          "395",
          "393",
          "381",
          "25",
          "361",
          "120",
          "296",
          "82",
          "116",
          "391",
          "315",
          "50",
          "193",
          "377",
          "44",
          "328",
          "30",
          "49",
          "394",
          "96",
          "390",
          "370",
          "347",
          "322",
          "73",
          "307",
          "32",
          "194",
          "324",
          "119",
          "153",
          "368",
          "286",
          "201",
          "99",
          "184",
          "255",
          "141",
          "210",
          "26",
          "37",
          "352",
          "186",
          "346",
          "329",
          "0",
          "306",
          "48",
          "299",
          "220",
          "6",
          "192",
          "287",
          "236",
          "20",
          "88",
          "270",
          "209",
          "106",
          "162",
          "223",
          "126",
          "156",
          "342",
          "278",
          "27",
          "159",
          "340",
          "317",
          "254",
          "224",
          "7",
          "171",
          "237",
          "23",
          "219",
          "185",
          "197",
          "276",
          "75",
          "123",
          "335",
          "274",
          "198",
          "217",
          "18",
          "31",
          "325",
          "222",
          "202",
          "4",
          "46",
          "211",
          "54",
          "187",
          "314",
          "280",
          "203",
          "12",
          "152",
          "208",
          "63",
          "150",
          "294",
          "267",
          "83",
          "258",
          "5",
          "229",
          "3",
          "97",
          "290",
          "246",
          "79",
          "190",
          "260",
          "181",
          "214",
          "69",
          "121",
          "388",
          "292",
          "101",
          "271",
          "67",
          "140",
          "386",
          "382",
          "84",
          "182",
          "384",
          "374",
          "268",
          "110",
          "233",
          "11",
          "199",
          "300",
          "10",
          "275",
          "111",
          "273",
          "179",
          "244",
          "56",
          "189",
          "383",
          "312",
          "59",
          "285",
          "135",
          "147",
          "380",
          "13",
          "327",
          "39",
          "321",
          "160",
          "180",
          "396",
          "385",
          "57",
          "277",
          "200",
          "163",
          "191",
          "207",
          "14",
          "71",
          "392",
          "149",
          "389",
          "371",
          "108",
          "176",
          "378",
          "89",
          "195"
         ],
         "textfont": {
          "color": "#000000",
          "family": "sans serif",
          "size": 18
         },
         "type": "scatter",
         "x": [
          5.5,
          3.25,
          2.125,
          1.5625,
          2.6875,
          2.40625,
          2.265625,
          2.546875,
          2.4765625,
          2.6171875,
          2.58203125,
          2.65234375,
          2.634765625,
          2.669921875,
          2.96875,
          2.828125,
          2.7578125,
          2.72265625,
          2.79296875,
          2.775390625,
          2.810546875,
          2.8017578125,
          2.8193359375,
          2.8984375,
          2.86328125,
          2.845703125,
          2.8369140625,
          2.8544921875,
          2.85009765625,
          2.847900390625,
          2.8468017578125,
          2.8489990234375,
          2.852294921875,
          2.8511962890625,
          2.8533935546875,
          2.85888671875,
          2.856689453125,
          2.861083984375,
          2.8599853515625,
          2.8621826171875,
          2.86163330078125,
          2.86273193359375,
          2.862457275390625,
          2.863006591796875,
          2.880859375,
          2.8720703125,
          2.8896484375,
          2.88525390625,
          2.89404296875,
          2.891845703125,
          2.896240234375,
          2.8951416015625,
          2.8973388671875,
          2.93359375,
          2.916015625,
          2.951171875,
          2.9423828125,
          2.93798828125,
          2.94677734375,
          2.9599609375,
          2.95556640625,
          2.96435546875,
          3.109375,
          3.0390625,
          3.00390625,
          3.07421875,
          3.1796875,
          3.14453125,
          3.126953125,
          3.162109375,
          3.1533203125,
          3.1708984375,
          3.21484375,
          3.197265625,
          3.232421875,
          4.375,
          3.8125,
          3.53125,
          4.09375,
          3.953125,
          3.8828125,
          4.0234375,
          4.234375,
          4.1640625,
          4.12890625,
          4.19921875,
          4.3046875,
          4.26953125,
          4.251953125,
          4.287109375,
          4.33984375,
          4.322265625,
          4.357421875,
          4.3486328125,
          4.3662109375,
          4.9375,
          4.65625,
          4.515625,
          4.4453125,
          4.41015625,
          4.392578125,
          4.427734375,
          4.48046875,
          4.462890625,
          4.498046875,
          4.5859375,
          4.55078125,
          4.533203125,
          4.568359375,
          4.62109375,
          4.603515625,
          4.638671875,
          4.796875,
          4.7265625,
          4.69140625,
          4.673828125,
          4.708984375,
          4.7001953125,
          4.7177734375,
          4.71337890625,
          4.72216796875,
          4.76171875,
          4.744140625,
          4.779296875,
          4.8671875,
          4.83203125,
          4.814453125,
          4.849609375,
          4.90234375,
          4.884765625,
          4.8759765625,
          4.8935546875,
          4.88916015625,
          4.89794921875,
          4.895751953125,
          4.900146484375,
          4.919921875,
          4.9111328125,
          4.90673828125,
          4.904541015625,
          4.9034423828125,
          4.9056396484375,
          4.908935546875,
          4.9078369140625,
          4.9100341796875,
          4.90948486328125,
          4.91058349609375,
          4.91552734375,
          4.913330078125,
          4.9122314453125,
          4.9144287109375,
          4.91387939453125,
          4.91497802734375,
          4.917724609375,
          4.9166259765625,
          4.9188232421875,
          4.9287109375,
          4.92431640625,
          4.922119140625,
          4.9210205078125,
          4.9232177734375,
          4.926513671875,
          4.9254150390625,
          4.9276123046875,
          4.93310546875,
          4.930908203125,
          4.9298095703125,
          4.9320068359375,
          4.93145751953125,
          4.93255615234375,
          4.935302734375,
          4.9342041015625,
          4.9364013671875,
          4.93585205078125,
          4.93695068359375,
          5.21875,
          5.078125,
          5.0078125,
          4.97265625,
          4.955078125,
          4.9462890625,
          4.9638671875,
          4.95947265625,
          4.96826171875,
          4.990234375,
          4.9814453125,
          4.9990234375,
          5.04296875,
          5.025390625,
          5.060546875,
          5.0517578125,
          5.0693359375,
          5.1484375,
          5.11328125,
          5.18359375,
          5.166015625,
          5.201171875,
          5.1923828125,
          5.18798828125,
          5.19677734375,
          5.194580078125,
          5.198974609375,
          5.1978759765625,
          5.2000732421875,
          5.19952392578125,
          5.20062255859375,
          5.2099609375,
          5.20556640625,
          5.21435546875,
          5.359375,
          5.2890625,
          5.25390625,
          5.32421875,
          5.4296875,
          5.39453125,
          5.46484375,
          5.447265625,
          5.482421875,
          5.4736328125,
          5.4912109375,
          7.75,
          6.625,
          6.0625,
          5.78125,
          5.640625,
          5.921875,
          5.8515625,
          5.9921875,
          5.95703125,
          6.02734375,
          6.34375,
          6.203125,
          6.1328125,
          6.2734375,
          6.484375,
          6.4140625,
          6.5546875,
          6.51953125,
          6.58984375,
          7.1875,
          6.90625,
          7.46875,
          7.328125,
          7.2578125,
          7.22265625,
          7.205078125,
          7.240234375,
          7.2314453125,
          7.2490234375,
          7.29296875,
          7.275390625,
          7.310546875,
          7.3984375,
          7.36328125,
          7.345703125,
          7.3369140625,
          7.3544921875,
          7.380859375,
          7.3720703125,
          7.3896484375,
          7.38525390625,
          7.39404296875,
          7.43359375,
          7.416015625,
          7.451171875,
          7.4423828125,
          7.43798828125,
          7.44677734375,
          7.444580078125,
          7.448974609375,
          7.4478759765625,
          7.44732666015625,
          7.44842529296875,
          7.4500732421875,
          7.44952392578125,
          7.449249267578125,
          7.449798583984375,
          7.45062255859375,
          7.450347900390625,
          7.4502105712890625,
          7.4504852294921875,
          7.450897216796875,
          7.4507598876953125,
          7.4510345458984375,
          7.4599609375,
          7.45556640625,
          7.453369140625,
          7.457763671875,
          7.46435546875,
          7.462158203125,
          7.4610595703125,
          7.46051025390625,
          7.460235595703125,
          7.460784912109375,
          7.46160888671875,
          7.461334228515625,
          7.461883544921875,
          7.4617462158203125,
          7.4620208740234375,
          7.4632568359375,
          7.46270751953125,
          7.46380615234375,
          7.466552734375,
          7.4654541015625,
          7.46490478515625,
          7.46600341796875,
          7.465728759765625,
          7.466278076171875,
          7.4676513671875,
          7.46710205078125,
          7.466827392578125,
          7.4666900634765625,
          7.4669647216796875,
          7.467376708984375,
          7.4672393798828125,
          7.4675140380859375,
          7.46820068359375,
          7.467926025390625,
          7.4677886962890625,
          7.467720031738281,
          7.467857360839844,
          7.4680633544921875,
          7.467994689941406,
          7.468132019042969,
          7.468475341796875,
          7.4683380126953125,
          7.468269348144531,
          7.468406677246094,
          7.468372344970703,
          7.468441009521484,
          7.468423843383789,
          7.46845817565918,
          7.4686126708984375,
          7.468544006347656,
          7.468509674072266,
          7.468578338623047,
          7.468681335449219,
          7.468647003173828,
          7.468715667724609,
          7.468698501586914,
          7.468732833862305,
          7.609375,
          7.5390625,
          7.50390625,
          7.57421875,
          7.556640625,
          7.591796875,
          7.6796875,
          7.64453125,
          7.626953125,
          7.662109375,
          7.71484375,
          7.697265625,
          7.6884765625,
          7.68408203125,
          7.69287109375,
          7.690673828125,
          7.695068359375,
          7.7060546875,
          7.70166015625,
          7.71044921875,
          7.708251953125,
          7.712646484375,
          7.7115478515625,
          7.7137451171875,
          7.71319580078125,
          7.71429443359375,
          7.732421875,
          7.7236328125,
          7.71923828125,
          7.72802734375,
          7.725830078125,
          7.730224609375,
          7.7412109375,
          7.73681640625,
          7.74560546875,
          7.743408203125,
          7.747802734375,
          7.7467041015625,
          7.7489013671875,
          8.875,
          8.3125,
          8.03125,
          8.59375,
          8.453125,
          8.3828125,
          8.5234375,
          8.734375,
          8.6640625,
          8.8046875,
          9.4375,
          9.15625,
          9.71875,
          9.578125,
          9.5078125,
          9.6484375,
          9.859375,
          9.7890625,
          9.9296875
         ],
         "y": [
          5,
          3.5,
          2,
          0.5,
          0.5,
          -1,
          -2.5,
          -2.5,
          -4,
          -4,
          -5.5,
          -5.5,
          -7,
          -7,
          -1,
          -2.5,
          -4,
          -5.5,
          -5.5,
          -7,
          -7,
          -8.5,
          -8.5,
          -4,
          -5.5,
          -7,
          -8.5,
          -8.5,
          -10,
          -11.5,
          -13,
          -13,
          -11.5,
          -13,
          -13,
          -10,
          -11.5,
          -11.5,
          -13,
          -13,
          -14.5,
          -14.5,
          -16,
          -16,
          -7,
          -8.5,
          -8.5,
          -10,
          -10,
          -11.5,
          -11.5,
          -13,
          -13,
          -5.5,
          -7,
          -7,
          -8.5,
          -10,
          -10,
          -8.5,
          -10,
          -10,
          -2.5,
          -4,
          -5.5,
          -5.5,
          -4,
          -5.5,
          -7,
          -7,
          -8.5,
          -8.5,
          -5.5,
          -7,
          -7,
          2,
          0.5,
          -1,
          -1,
          -2.5,
          -4,
          -4,
          -2.5,
          -4,
          -5.5,
          -5.5,
          -4,
          -5.5,
          -7,
          -7,
          -5.5,
          -7,
          -7,
          -8.5,
          -8.5,
          0.5,
          -1,
          -2.5,
          -4,
          -5.5,
          -7,
          -7,
          -5.5,
          -7,
          -7,
          -4,
          -5.5,
          -7,
          -7,
          -5.5,
          -7,
          -7,
          -2.5,
          -4,
          -5.5,
          -7,
          -7,
          -8.5,
          -8.5,
          -10,
          -10,
          -5.5,
          -7,
          -7,
          -4,
          -5.5,
          -7,
          -7,
          -5.5,
          -7,
          -8.5,
          -8.5,
          -10,
          -10,
          -11.5,
          -11.5,
          -7,
          -8.5,
          -10,
          -11.5,
          -13,
          -13,
          -11.5,
          -13,
          -13,
          -14.5,
          -14.5,
          -10,
          -11.5,
          -13,
          -13,
          -14.5,
          -14.5,
          -11.5,
          -13,
          -13,
          -8.5,
          -10,
          -11.5,
          -13,
          -13,
          -11.5,
          -13,
          -13,
          -10,
          -11.5,
          -13,
          -13,
          -14.5,
          -14.5,
          -11.5,
          -13,
          -13,
          -14.5,
          -14.5,
          -1,
          -2.5,
          -4,
          -5.5,
          -7,
          -8.5,
          -8.5,
          -10,
          -10,
          -7,
          -8.5,
          -8.5,
          -5.5,
          -7,
          -7,
          -8.5,
          -8.5,
          -4,
          -5.5,
          -5.5,
          -7,
          -7,
          -8.5,
          -10,
          -10,
          -11.5,
          -11.5,
          -13,
          -13,
          -14.5,
          -14.5,
          -8.5,
          -10,
          -10,
          -2.5,
          -4,
          -5.5,
          -5.5,
          -4,
          -5.5,
          -5.5,
          -7,
          -7,
          -8.5,
          -8.5,
          3.5,
          2,
          0.5,
          -1,
          -2.5,
          -2.5,
          -4,
          -4,
          -5.5,
          -5.5,
          -1,
          -2.5,
          -4,
          -4,
          -2.5,
          -4,
          -4,
          -5.5,
          -5.5,
          0.5,
          -1,
          -1,
          -2.5,
          -4,
          -5.5,
          -7,
          -7,
          -8.5,
          -8.5,
          -5.5,
          -7,
          -7,
          -4,
          -5.5,
          -7,
          -8.5,
          -8.5,
          -7,
          -8.5,
          -8.5,
          -10,
          -10,
          -5.5,
          -7,
          -7,
          -8.5,
          -10,
          -10,
          -11.5,
          -11.5,
          -13,
          -14.5,
          -14.5,
          -13,
          -14.5,
          -16,
          -16,
          -14.5,
          -16,
          -17.5,
          -17.5,
          -16,
          -17.5,
          -17.5,
          -8.5,
          -10,
          -11.5,
          -11.5,
          -10,
          -11.5,
          -13,
          -14.5,
          -16,
          -16,
          -14.5,
          -16,
          -16,
          -17.5,
          -17.5,
          -13,
          -14.5,
          -14.5,
          -11.5,
          -13,
          -14.5,
          -14.5,
          -16,
          -16,
          -13,
          -14.5,
          -16,
          -17.5,
          -17.5,
          -16,
          -17.5,
          -17.5,
          -14.5,
          -16,
          -17.5,
          -19,
          -19,
          -17.5,
          -19,
          -19,
          -16,
          -17.5,
          -19,
          -19,
          -20.5,
          -20.5,
          -22,
          -22,
          -17.5,
          -19,
          -20.5,
          -20.5,
          -19,
          -20.5,
          -20.5,
          -22,
          -22,
          -2.5,
          -4,
          -5.5,
          -5.5,
          -7,
          -7,
          -4,
          -5.5,
          -7,
          -7,
          -5.5,
          -7,
          -8.5,
          -10,
          -10,
          -11.5,
          -11.5,
          -8.5,
          -10,
          -10,
          -11.5,
          -11.5,
          -13,
          -13,
          -14.5,
          -14.5,
          -7,
          -8.5,
          -10,
          -10,
          -11.5,
          -11.5,
          -8.5,
          -10,
          -10,
          -11.5,
          -11.5,
          -13,
          -13,
          2,
          0.5,
          -1,
          -1,
          -2.5,
          -4,
          -4,
          -2.5,
          -4,
          -4,
          0.5,
          -1,
          -1,
          -2.5,
          -4,
          -4,
          -2.5,
          -4,
          -4
         ]
        }
       ],
       "layout": {
        "height": 500,
        "shapes": [
         {
          "layer": "below",
          "line": {
           "color": "#333",
           "width": 4
          },
          "type": "line",
          "x0": 5.5,
          "x1": 5.5,
          "y0": 5,
          "y1": 5
         },
         {
          "layer": "below",
          "line": {
           "color": "#333",
           "width": 4
          },
          "type": "line",
          "x0": 5.5,
          "x1": 3.25,
          "y0": 5,
          "y1": 3.5
         },
         {
          "layer": "below",
          "line": {
           "color": "#333",
           "width": 4
          },
          "type": "line",
          "x0": 3.25,
          "x1": 2.125,
          "y0": 3.5,
          "y1": 2
         },
         {
          "layer": "below",
          "line": {
           "color": "#333",
           "width": 4
          },
          "type": "line",
          "x0": 2.125,
          "x1": 1.5625,
          "y0": 2,
          "y1": 0.5
         },
         {
          "layer": "below",
          "line": {
           "color": "#333",
           "width": 4
          },
          "type": "line",
          "x0": 2.125,
          "x1": 2.6875,
          "y0": 2,
          "y1": 0.5
         },
         {
          "layer": "below",
          "line": {
           "color": "#333",
           "width": 4
          },
          "type": "line",
          "x0": 2.6875,
          "x1": 2.40625,
          "y0": 0.5,
          "y1": -1
         },
         {
          "layer": "below",
          "line": {
           "color": "#333",
           "width": 4
          },
          "type": "line",
          "x0": 2.40625,
          "x1": 2.265625,
          "y0": -1,
          "y1": -2.5
         },
         {
          "layer": "below",
          "line": {
           "color": "#333",
           "width": 4
          },
          "type": "line",
          "x0": 2.40625,
          "x1": 2.546875,
          "y0": -1,
          "y1": -2.5
         },
         {
          "layer": "below",
          "line": {
           "color": "#333",
           "width": 4
          },
          "type": "line",
          "x0": 2.546875,
          "x1": 2.4765625,
          "y0": -2.5,
          "y1": -4
         },
         {
          "layer": "below",
          "line": {
           "color": "#333",
           "width": 4
          },
          "type": "line",
          "x0": 2.546875,
          "x1": 2.6171875,
          "y0": -2.5,
          "y1": -4
         },
         {
          "layer": "below",
          "line": {
           "color": "#333",
           "width": 4
          },
          "type": "line",
          "x0": 2.6171875,
          "x1": 2.58203125,
          "y0": -4,
          "y1": -5.5
         },
         {
          "layer": "below",
          "line": {
           "color": "#333",
           "width": 4
          },
          "type": "line",
          "x0": 2.6171875,
          "x1": 2.65234375,
          "y0": -4,
          "y1": -5.5
         },
         {
          "layer": "below",
          "line": {
           "color": "#333",
           "width": 4
          },
          "type": "line",
          "x0": 2.65234375,
          "x1": 2.634765625,
          "y0": -5.5,
          "y1": -7
         },
         {
          "layer": "below",
          "line": {
           "color": "#333",
           "width": 4
          },
          "type": "line",
          "x0": 2.65234375,
          "x1": 2.669921875,
          "y0": -5.5,
          "y1": -7
         },
         {
          "layer": "below",
          "line": {
           "color": "#333",
           "width": 4
          },
          "type": "line",
          "x0": 2.6875,
          "x1": 2.96875,
          "y0": 0.5,
          "y1": -1
         },
         {
          "layer": "below",
          "line": {
           "color": "#333",
           "width": 4
          },
          "type": "line",
          "x0": 2.96875,
          "x1": 2.828125,
          "y0": -1,
          "y1": -2.5
         },
         {
          "layer": "below",
          "line": {
           "color": "#333",
           "width": 4
          },
          "type": "line",
          "x0": 2.828125,
          "x1": 2.7578125,
          "y0": -2.5,
          "y1": -4
         },
         {
          "layer": "below",
          "line": {
           "color": "#333",
           "width": 4
          },
          "type": "line",
          "x0": 2.7578125,
          "x1": 2.72265625,
          "y0": -4,
          "y1": -5.5
         },
         {
          "layer": "below",
          "line": {
           "color": "#333",
           "width": 4
          },
          "type": "line",
          "x0": 2.7578125,
          "x1": 2.79296875,
          "y0": -4,
          "y1": -5.5
         },
         {
          "layer": "below",
          "line": {
           "color": "#333",
           "width": 4
          },
          "type": "line",
          "x0": 2.79296875,
          "x1": 2.775390625,
          "y0": -5.5,
          "y1": -7
         },
         {
          "layer": "below",
          "line": {
           "color": "#333",
           "width": 4
          },
          "type": "line",
          "x0": 2.79296875,
          "x1": 2.810546875,
          "y0": -5.5,
          "y1": -7
         },
         {
          "layer": "below",
          "line": {
           "color": "#333",
           "width": 4
          },
          "type": "line",
          "x0": 2.810546875,
          "x1": 2.8017578125,
          "y0": -7,
          "y1": -8.5
         },
         {
          "layer": "below",
          "line": {
           "color": "#333",
           "width": 4
          },
          "type": "line",
          "x0": 2.810546875,
          "x1": 2.8193359375,
          "y0": -7,
          "y1": -8.5
         },
         {
          "layer": "below",
          "line": {
           "color": "#333",
           "width": 4
          },
          "type": "line",
          "x0": 2.828125,
          "x1": 2.8984375,
          "y0": -2.5,
          "y1": -4
         },
         {
          "layer": "below",
          "line": {
           "color": "#333",
           "width": 4
          },
          "type": "line",
          "x0": 2.8984375,
          "x1": 2.86328125,
          "y0": -4,
          "y1": -5.5
         },
         {
          "layer": "below",
          "line": {
           "color": "#333",
           "width": 4
          },
          "type": "line",
          "x0": 2.86328125,
          "x1": 2.845703125,
          "y0": -5.5,
          "y1": -7
         },
         {
          "layer": "below",
          "line": {
           "color": "#333",
           "width": 4
          },
          "type": "line",
          "x0": 2.845703125,
          "x1": 2.8369140625,
          "y0": -7,
          "y1": -8.5
         },
         {
          "layer": "below",
          "line": {
           "color": "#333",
           "width": 4
          },
          "type": "line",
          "x0": 2.845703125,
          "x1": 2.8544921875,
          "y0": -7,
          "y1": -8.5
         },
         {
          "layer": "below",
          "line": {
           "color": "#333",
           "width": 4
          },
          "type": "line",
          "x0": 2.8544921875,
          "x1": 2.85009765625,
          "y0": -8.5,
          "y1": -10
         },
         {
          "layer": "below",
          "line": {
           "color": "#333",
           "width": 4
          },
          "type": "line",
          "x0": 2.85009765625,
          "x1": 2.847900390625,
          "y0": -10,
          "y1": -11.5
         },
         {
          "layer": "below",
          "line": {
           "color": "#333",
           "width": 4
          },
          "type": "line",
          "x0": 2.847900390625,
          "x1": 2.8468017578125,
          "y0": -11.5,
          "y1": -13
         },
         {
          "layer": "below",
          "line": {
           "color": "#333",
           "width": 4
          },
          "type": "line",
          "x0": 2.847900390625,
          "x1": 2.8489990234375,
          "y0": -11.5,
          "y1": -13
         },
         {
          "layer": "below",
          "line": {
           "color": "#333",
           "width": 4
          },
          "type": "line",
          "x0": 2.85009765625,
          "x1": 2.852294921875,
          "y0": -10,
          "y1": -11.5
         },
         {
          "layer": "below",
          "line": {
           "color": "#333",
           "width": 4
          },
          "type": "line",
          "x0": 2.852294921875,
          "x1": 2.8511962890625,
          "y0": -11.5,
          "y1": -13
         },
         {
          "layer": "below",
          "line": {
           "color": "#333",
           "width": 4
          },
          "type": "line",
          "x0": 2.852294921875,
          "x1": 2.8533935546875,
          "y0": -11.5,
          "y1": -13
         },
         {
          "layer": "below",
          "line": {
           "color": "#333",
           "width": 4
          },
          "type": "line",
          "x0": 2.8544921875,
          "x1": 2.85888671875,
          "y0": -8.5,
          "y1": -10
         },
         {
          "layer": "below",
          "line": {
           "color": "#333",
           "width": 4
          },
          "type": "line",
          "x0": 2.85888671875,
          "x1": 2.856689453125,
          "y0": -10,
          "y1": -11.5
         },
         {
          "layer": "below",
          "line": {
           "color": "#333",
           "width": 4
          },
          "type": "line",
          "x0": 2.85888671875,
          "x1": 2.861083984375,
          "y0": -10,
          "y1": -11.5
         },
         {
          "layer": "below",
          "line": {
           "color": "#333",
           "width": 4
          },
          "type": "line",
          "x0": 2.861083984375,
          "x1": 2.8599853515625,
          "y0": -11.5,
          "y1": -13
         },
         {
          "layer": "below",
          "line": {
           "color": "#333",
           "width": 4
          },
          "type": "line",
          "x0": 2.861083984375,
          "x1": 2.8621826171875,
          "y0": -11.5,
          "y1": -13
         },
         {
          "layer": "below",
          "line": {
           "color": "#333",
           "width": 4
          },
          "type": "line",
          "x0": 2.8621826171875,
          "x1": 2.86163330078125,
          "y0": -13,
          "y1": -14.5
         },
         {
          "layer": "below",
          "line": {
           "color": "#333",
           "width": 4
          },
          "type": "line",
          "x0": 2.8621826171875,
          "x1": 2.86273193359375,
          "y0": -13,
          "y1": -14.5
         },
         {
          "layer": "below",
          "line": {
           "color": "#333",
           "width": 4
          },
          "type": "line",
          "x0": 2.86273193359375,
          "x1": 2.862457275390625,
          "y0": -14.5,
          "y1": -16
         },
         {
          "layer": "below",
          "line": {
           "color": "#333",
           "width": 4
          },
          "type": "line",
          "x0": 2.86273193359375,
          "x1": 2.863006591796875,
          "y0": -14.5,
          "y1": -16
         },
         {
          "layer": "below",
          "line": {
           "color": "#333",
           "width": 4
          },
          "type": "line",
          "x0": 2.86328125,
          "x1": 2.880859375,
          "y0": -5.5,
          "y1": -7
         },
         {
          "layer": "below",
          "line": {
           "color": "#333",
           "width": 4
          },
          "type": "line",
          "x0": 2.880859375,
          "x1": 2.8720703125,
          "y0": -7,
          "y1": -8.5
         },
         {
          "layer": "below",
          "line": {
           "color": "#333",
           "width": 4
          },
          "type": "line",
          "x0": 2.880859375,
          "x1": 2.8896484375,
          "y0": -7,
          "y1": -8.5
         },
         {
          "layer": "below",
          "line": {
           "color": "#333",
           "width": 4
          },
          "type": "line",
          "x0": 2.8896484375,
          "x1": 2.88525390625,
          "y0": -8.5,
          "y1": -10
         },
         {
          "layer": "below",
          "line": {
           "color": "#333",
           "width": 4
          },
          "type": "line",
          "x0": 2.8896484375,
          "x1": 2.89404296875,
          "y0": -8.5,
          "y1": -10
         },
         {
          "layer": "below",
          "line": {
           "color": "#333",
           "width": 4
          },
          "type": "line",
          "x0": 2.89404296875,
          "x1": 2.891845703125,
          "y0": -10,
          "y1": -11.5
         },
         {
          "layer": "below",
          "line": {
           "color": "#333",
           "width": 4
          },
          "type": "line",
          "x0": 2.89404296875,
          "x1": 2.896240234375,
          "y0": -10,
          "y1": -11.5
         },
         {
          "layer": "below",
          "line": {
           "color": "#333",
           "width": 4
          },
          "type": "line",
          "x0": 2.896240234375,
          "x1": 2.8951416015625,
          "y0": -11.5,
          "y1": -13
         },
         {
          "layer": "below",
          "line": {
           "color": "#333",
           "width": 4
          },
          "type": "line",
          "x0": 2.896240234375,
          "x1": 2.8973388671875,
          "y0": -11.5,
          "y1": -13
         },
         {
          "layer": "below",
          "line": {
           "color": "#333",
           "width": 4
          },
          "type": "line",
          "x0": 2.8984375,
          "x1": 2.93359375,
          "y0": -4,
          "y1": -5.5
         },
         {
          "layer": "below",
          "line": {
           "color": "#333",
           "width": 4
          },
          "type": "line",
          "x0": 2.93359375,
          "x1": 2.916015625,
          "y0": -5.5,
          "y1": -7
         },
         {
          "layer": "below",
          "line": {
           "color": "#333",
           "width": 4
          },
          "type": "line",
          "x0": 2.93359375,
          "x1": 2.951171875,
          "y0": -5.5,
          "y1": -7
         },
         {
          "layer": "below",
          "line": {
           "color": "#333",
           "width": 4
          },
          "type": "line",
          "x0": 2.951171875,
          "x1": 2.9423828125,
          "y0": -7,
          "y1": -8.5
         },
         {
          "layer": "below",
          "line": {
           "color": "#333",
           "width": 4
          },
          "type": "line",
          "x0": 2.9423828125,
          "x1": 2.93798828125,
          "y0": -8.5,
          "y1": -10
         },
         {
          "layer": "below",
          "line": {
           "color": "#333",
           "width": 4
          },
          "type": "line",
          "x0": 2.9423828125,
          "x1": 2.94677734375,
          "y0": -8.5,
          "y1": -10
         },
         {
          "layer": "below",
          "line": {
           "color": "#333",
           "width": 4
          },
          "type": "line",
          "x0": 2.951171875,
          "x1": 2.9599609375,
          "y0": -7,
          "y1": -8.5
         },
         {
          "layer": "below",
          "line": {
           "color": "#333",
           "width": 4
          },
          "type": "line",
          "x0": 2.9599609375,
          "x1": 2.95556640625,
          "y0": -8.5,
          "y1": -10
         },
         {
          "layer": "below",
          "line": {
           "color": "#333",
           "width": 4
          },
          "type": "line",
          "x0": 2.9599609375,
          "x1": 2.96435546875,
          "y0": -8.5,
          "y1": -10
         },
         {
          "layer": "below",
          "line": {
           "color": "#333",
           "width": 4
          },
          "type": "line",
          "x0": 2.96875,
          "x1": 3.109375,
          "y0": -1,
          "y1": -2.5
         },
         {
          "layer": "below",
          "line": {
           "color": "#333",
           "width": 4
          },
          "type": "line",
          "x0": 3.109375,
          "x1": 3.0390625,
          "y0": -2.5,
          "y1": -4
         },
         {
          "layer": "below",
          "line": {
           "color": "#333",
           "width": 4
          },
          "type": "line",
          "x0": 3.0390625,
          "x1": 3.00390625,
          "y0": -4,
          "y1": -5.5
         },
         {
          "layer": "below",
          "line": {
           "color": "#333",
           "width": 4
          },
          "type": "line",
          "x0": 3.0390625,
          "x1": 3.07421875,
          "y0": -4,
          "y1": -5.5
         },
         {
          "layer": "below",
          "line": {
           "color": "#333",
           "width": 4
          },
          "type": "line",
          "x0": 3.109375,
          "x1": 3.1796875,
          "y0": -2.5,
          "y1": -4
         },
         {
          "layer": "below",
          "line": {
           "color": "#333",
           "width": 4
          },
          "type": "line",
          "x0": 3.1796875,
          "x1": 3.14453125,
          "y0": -4,
          "y1": -5.5
         },
         {
          "layer": "below",
          "line": {
           "color": "#333",
           "width": 4
          },
          "type": "line",
          "x0": 3.14453125,
          "x1": 3.126953125,
          "y0": -5.5,
          "y1": -7
         },
         {
          "layer": "below",
          "line": {
           "color": "#333",
           "width": 4
          },
          "type": "line",
          "x0": 3.14453125,
          "x1": 3.162109375,
          "y0": -5.5,
          "y1": -7
         },
         {
          "layer": "below",
          "line": {
           "color": "#333",
           "width": 4
          },
          "type": "line",
          "x0": 3.162109375,
          "x1": 3.1533203125,
          "y0": -7,
          "y1": -8.5
         },
         {
          "layer": "below",
          "line": {
           "color": "#333",
           "width": 4
          },
          "type": "line",
          "x0": 3.162109375,
          "x1": 3.1708984375,
          "y0": -7,
          "y1": -8.5
         },
         {
          "layer": "below",
          "line": {
           "color": "#333",
           "width": 4
          },
          "type": "line",
          "x0": 3.1796875,
          "x1": 3.21484375,
          "y0": -4,
          "y1": -5.5
         },
         {
          "layer": "below",
          "line": {
           "color": "#333",
           "width": 4
          },
          "type": "line",
          "x0": 3.21484375,
          "x1": 3.197265625,
          "y0": -5.5,
          "y1": -7
         },
         {
          "layer": "below",
          "line": {
           "color": "#333",
           "width": 4
          },
          "type": "line",
          "x0": 3.21484375,
          "x1": 3.232421875,
          "y0": -5.5,
          "y1": -7
         },
         {
          "layer": "below",
          "line": {
           "color": "#333",
           "width": 4
          },
          "type": "line",
          "x0": 3.25,
          "x1": 4.375,
          "y0": 3.5,
          "y1": 2
         },
         {
          "layer": "below",
          "line": {
           "color": "#333",
           "width": 4
          },
          "type": "line",
          "x0": 4.375,
          "x1": 3.8125,
          "y0": 2,
          "y1": 0.5
         },
         {
          "layer": "below",
          "line": {
           "color": "#333",
           "width": 4
          },
          "type": "line",
          "x0": 3.8125,
          "x1": 3.53125,
          "y0": 0.5,
          "y1": -1
         },
         {
          "layer": "below",
          "line": {
           "color": "#333",
           "width": 4
          },
          "type": "line",
          "x0": 3.8125,
          "x1": 4.09375,
          "y0": 0.5,
          "y1": -1
         },
         {
          "layer": "below",
          "line": {
           "color": "#333",
           "width": 4
          },
          "type": "line",
          "x0": 4.09375,
          "x1": 3.953125,
          "y0": -1,
          "y1": -2.5
         },
         {
          "layer": "below",
          "line": {
           "color": "#333",
           "width": 4
          },
          "type": "line",
          "x0": 3.953125,
          "x1": 3.8828125,
          "y0": -2.5,
          "y1": -4
         },
         {
          "layer": "below",
          "line": {
           "color": "#333",
           "width": 4
          },
          "type": "line",
          "x0": 3.953125,
          "x1": 4.0234375,
          "y0": -2.5,
          "y1": -4
         },
         {
          "layer": "below",
          "line": {
           "color": "#333",
           "width": 4
          },
          "type": "line",
          "x0": 4.09375,
          "x1": 4.234375,
          "y0": -1,
          "y1": -2.5
         },
         {
          "layer": "below",
          "line": {
           "color": "#333",
           "width": 4
          },
          "type": "line",
          "x0": 4.234375,
          "x1": 4.1640625,
          "y0": -2.5,
          "y1": -4
         },
         {
          "layer": "below",
          "line": {
           "color": "#333",
           "width": 4
          },
          "type": "line",
          "x0": 4.1640625,
          "x1": 4.12890625,
          "y0": -4,
          "y1": -5.5
         },
         {
          "layer": "below",
          "line": {
           "color": "#333",
           "width": 4
          },
          "type": "line",
          "x0": 4.1640625,
          "x1": 4.19921875,
          "y0": -4,
          "y1": -5.5
         },
         {
          "layer": "below",
          "line": {
           "color": "#333",
           "width": 4
          },
          "type": "line",
          "x0": 4.234375,
          "x1": 4.3046875,
          "y0": -2.5,
          "y1": -4
         },
         {
          "layer": "below",
          "line": {
           "color": "#333",
           "width": 4
          },
          "type": "line",
          "x0": 4.3046875,
          "x1": 4.26953125,
          "y0": -4,
          "y1": -5.5
         },
         {
          "layer": "below",
          "line": {
           "color": "#333",
           "width": 4
          },
          "type": "line",
          "x0": 4.26953125,
          "x1": 4.251953125,
          "y0": -5.5,
          "y1": -7
         },
         {
          "layer": "below",
          "line": {
           "color": "#333",
           "width": 4
          },
          "type": "line",
          "x0": 4.26953125,
          "x1": 4.287109375,
          "y0": -5.5,
          "y1": -7
         },
         {
          "layer": "below",
          "line": {
           "color": "#333",
           "width": 4
          },
          "type": "line",
          "x0": 4.3046875,
          "x1": 4.33984375,
          "y0": -4,
          "y1": -5.5
         },
         {
          "layer": "below",
          "line": {
           "color": "#333",
           "width": 4
          },
          "type": "line",
          "x0": 4.33984375,
          "x1": 4.322265625,
          "y0": -5.5,
          "y1": -7
         },
         {
          "layer": "below",
          "line": {
           "color": "#333",
           "width": 4
          },
          "type": "line",
          "x0": 4.33984375,
          "x1": 4.357421875,
          "y0": -5.5,
          "y1": -7
         },
         {
          "layer": "below",
          "line": {
           "color": "#333",
           "width": 4
          },
          "type": "line",
          "x0": 4.357421875,
          "x1": 4.3486328125,
          "y0": -7,
          "y1": -8.5
         },
         {
          "layer": "below",
          "line": {
           "color": "#333",
           "width": 4
          },
          "type": "line",
          "x0": 4.357421875,
          "x1": 4.3662109375,
          "y0": -7,
          "y1": -8.5
         },
         {
          "layer": "below",
          "line": {
           "color": "#333",
           "width": 4
          },
          "type": "line",
          "x0": 4.375,
          "x1": 4.9375,
          "y0": 2,
          "y1": 0.5
         },
         {
          "layer": "below",
          "line": {
           "color": "#333",
           "width": 4
          },
          "type": "line",
          "x0": 4.9375,
          "x1": 4.65625,
          "y0": 0.5,
          "y1": -1
         },
         {
          "layer": "below",
          "line": {
           "color": "#333",
           "width": 4
          },
          "type": "line",
          "x0": 4.65625,
          "x1": 4.515625,
          "y0": -1,
          "y1": -2.5
         },
         {
          "layer": "below",
          "line": {
           "color": "#333",
           "width": 4
          },
          "type": "line",
          "x0": 4.515625,
          "x1": 4.4453125,
          "y0": -2.5,
          "y1": -4
         },
         {
          "layer": "below",
          "line": {
           "color": "#333",
           "width": 4
          },
          "type": "line",
          "x0": 4.4453125,
          "x1": 4.41015625,
          "y0": -4,
          "y1": -5.5
         },
         {
          "layer": "below",
          "line": {
           "color": "#333",
           "width": 4
          },
          "type": "line",
          "x0": 4.41015625,
          "x1": 4.392578125,
          "y0": -5.5,
          "y1": -7
         },
         {
          "layer": "below",
          "line": {
           "color": "#333",
           "width": 4
          },
          "type": "line",
          "x0": 4.41015625,
          "x1": 4.427734375,
          "y0": -5.5,
          "y1": -7
         },
         {
          "layer": "below",
          "line": {
           "color": "#333",
           "width": 4
          },
          "type": "line",
          "x0": 4.4453125,
          "x1": 4.48046875,
          "y0": -4,
          "y1": -5.5
         },
         {
          "layer": "below",
          "line": {
           "color": "#333",
           "width": 4
          },
          "type": "line",
          "x0": 4.48046875,
          "x1": 4.462890625,
          "y0": -5.5,
          "y1": -7
         },
         {
          "layer": "below",
          "line": {
           "color": "#333",
           "width": 4
          },
          "type": "line",
          "x0": 4.48046875,
          "x1": 4.498046875,
          "y0": -5.5,
          "y1": -7
         },
         {
          "layer": "below",
          "line": {
           "color": "#333",
           "width": 4
          },
          "type": "line",
          "x0": 4.515625,
          "x1": 4.5859375,
          "y0": -2.5,
          "y1": -4
         },
         {
          "layer": "below",
          "line": {
           "color": "#333",
           "width": 4
          },
          "type": "line",
          "x0": 4.5859375,
          "x1": 4.55078125,
          "y0": -4,
          "y1": -5.5
         },
         {
          "layer": "below",
          "line": {
           "color": "#333",
           "width": 4
          },
          "type": "line",
          "x0": 4.55078125,
          "x1": 4.533203125,
          "y0": -5.5,
          "y1": -7
         },
         {
          "layer": "below",
          "line": {
           "color": "#333",
           "width": 4
          },
          "type": "line",
          "x0": 4.55078125,
          "x1": 4.568359375,
          "y0": -5.5,
          "y1": -7
         },
         {
          "layer": "below",
          "line": {
           "color": "#333",
           "width": 4
          },
          "type": "line",
          "x0": 4.5859375,
          "x1": 4.62109375,
          "y0": -4,
          "y1": -5.5
         },
         {
          "layer": "below",
          "line": {
           "color": "#333",
           "width": 4
          },
          "type": "line",
          "x0": 4.62109375,
          "x1": 4.603515625,
          "y0": -5.5,
          "y1": -7
         },
         {
          "layer": "below",
          "line": {
           "color": "#333",
           "width": 4
          },
          "type": "line",
          "x0": 4.62109375,
          "x1": 4.638671875,
          "y0": -5.5,
          "y1": -7
         },
         {
          "layer": "below",
          "line": {
           "color": "#333",
           "width": 4
          },
          "type": "line",
          "x0": 4.65625,
          "x1": 4.796875,
          "y0": -1,
          "y1": -2.5
         },
         {
          "layer": "below",
          "line": {
           "color": "#333",
           "width": 4
          },
          "type": "line",
          "x0": 4.796875,
          "x1": 4.7265625,
          "y0": -2.5,
          "y1": -4
         },
         {
          "layer": "below",
          "line": {
           "color": "#333",
           "width": 4
          },
          "type": "line",
          "x0": 4.7265625,
          "x1": 4.69140625,
          "y0": -4,
          "y1": -5.5
         },
         {
          "layer": "below",
          "line": {
           "color": "#333",
           "width": 4
          },
          "type": "line",
          "x0": 4.69140625,
          "x1": 4.673828125,
          "y0": -5.5,
          "y1": -7
         },
         {
          "layer": "below",
          "line": {
           "color": "#333",
           "width": 4
          },
          "type": "line",
          "x0": 4.69140625,
          "x1": 4.708984375,
          "y0": -5.5,
          "y1": -7
         },
         {
          "layer": "below",
          "line": {
           "color": "#333",
           "width": 4
          },
          "type": "line",
          "x0": 4.708984375,
          "x1": 4.7001953125,
          "y0": -7,
          "y1": -8.5
         },
         {
          "layer": "below",
          "line": {
           "color": "#333",
           "width": 4
          },
          "type": "line",
          "x0": 4.708984375,
          "x1": 4.7177734375,
          "y0": -7,
          "y1": -8.5
         },
         {
          "layer": "below",
          "line": {
           "color": "#333",
           "width": 4
          },
          "type": "line",
          "x0": 4.7177734375,
          "x1": 4.71337890625,
          "y0": -8.5,
          "y1": -10
         },
         {
          "layer": "below",
          "line": {
           "color": "#333",
           "width": 4
          },
          "type": "line",
          "x0": 4.7177734375,
          "x1": 4.72216796875,
          "y0": -8.5,
          "y1": -10
         },
         {
          "layer": "below",
          "line": {
           "color": "#333",
           "width": 4
          },
          "type": "line",
          "x0": 4.7265625,
          "x1": 4.76171875,
          "y0": -4,
          "y1": -5.5
         },
         {
          "layer": "below",
          "line": {
           "color": "#333",
           "width": 4
          },
          "type": "line",
          "x0": 4.76171875,
          "x1": 4.744140625,
          "y0": -5.5,
          "y1": -7
         },
         {
          "layer": "below",
          "line": {
           "color": "#333",
           "width": 4
          },
          "type": "line",
          "x0": 4.76171875,
          "x1": 4.779296875,
          "y0": -5.5,
          "y1": -7
         },
         {
          "layer": "below",
          "line": {
           "color": "#333",
           "width": 4
          },
          "type": "line",
          "x0": 4.796875,
          "x1": 4.8671875,
          "y0": -2.5,
          "y1": -4
         },
         {
          "layer": "below",
          "line": {
           "color": "#333",
           "width": 4
          },
          "type": "line",
          "x0": 4.8671875,
          "x1": 4.83203125,
          "y0": -4,
          "y1": -5.5
         },
         {
          "layer": "below",
          "line": {
           "color": "#333",
           "width": 4
          },
          "type": "line",
          "x0": 4.83203125,
          "x1": 4.814453125,
          "y0": -5.5,
          "y1": -7
         },
         {
          "layer": "below",
          "line": {
           "color": "#333",
           "width": 4
          },
          "type": "line",
          "x0": 4.83203125,
          "x1": 4.849609375,
          "y0": -5.5,
          "y1": -7
         },
         {
          "layer": "below",
          "line": {
           "color": "#333",
           "width": 4
          },
          "type": "line",
          "x0": 4.8671875,
          "x1": 4.90234375,
          "y0": -4,
          "y1": -5.5
         },
         {
          "layer": "below",
          "line": {
           "color": "#333",
           "width": 4
          },
          "type": "line",
          "x0": 4.90234375,
          "x1": 4.884765625,
          "y0": -5.5,
          "y1": -7
         },
         {
          "layer": "below",
          "line": {
           "color": "#333",
           "width": 4
          },
          "type": "line",
          "x0": 4.884765625,
          "x1": 4.8759765625,
          "y0": -7,
          "y1": -8.5
         },
         {
          "layer": "below",
          "line": {
           "color": "#333",
           "width": 4
          },
          "type": "line",
          "x0": 4.884765625,
          "x1": 4.8935546875,
          "y0": -7,
          "y1": -8.5
         },
         {
          "layer": "below",
          "line": {
           "color": "#333",
           "width": 4
          },
          "type": "line",
          "x0": 4.8935546875,
          "x1": 4.88916015625,
          "y0": -8.5,
          "y1": -10
         },
         {
          "layer": "below",
          "line": {
           "color": "#333",
           "width": 4
          },
          "type": "line",
          "x0": 4.8935546875,
          "x1": 4.89794921875,
          "y0": -8.5,
          "y1": -10
         },
         {
          "layer": "below",
          "line": {
           "color": "#333",
           "width": 4
          },
          "type": "line",
          "x0": 4.89794921875,
          "x1": 4.895751953125,
          "y0": -10,
          "y1": -11.5
         },
         {
          "layer": "below",
          "line": {
           "color": "#333",
           "width": 4
          },
          "type": "line",
          "x0": 4.89794921875,
          "x1": 4.900146484375,
          "y0": -10,
          "y1": -11.5
         },
         {
          "layer": "below",
          "line": {
           "color": "#333",
           "width": 4
          },
          "type": "line",
          "x0": 4.90234375,
          "x1": 4.919921875,
          "y0": -5.5,
          "y1": -7
         },
         {
          "layer": "below",
          "line": {
           "color": "#333",
           "width": 4
          },
          "type": "line",
          "x0": 4.919921875,
          "x1": 4.9111328125,
          "y0": -7,
          "y1": -8.5
         },
         {
          "layer": "below",
          "line": {
           "color": "#333",
           "width": 4
          },
          "type": "line",
          "x0": 4.9111328125,
          "x1": 4.90673828125,
          "y0": -8.5,
          "y1": -10
         },
         {
          "layer": "below",
          "line": {
           "color": "#333",
           "width": 4
          },
          "type": "line",
          "x0": 4.90673828125,
          "x1": 4.904541015625,
          "y0": -10,
          "y1": -11.5
         },
         {
          "layer": "below",
          "line": {
           "color": "#333",
           "width": 4
          },
          "type": "line",
          "x0": 4.904541015625,
          "x1": 4.9034423828125,
          "y0": -11.5,
          "y1": -13
         },
         {
          "layer": "below",
          "line": {
           "color": "#333",
           "width": 4
          },
          "type": "line",
          "x0": 4.904541015625,
          "x1": 4.9056396484375,
          "y0": -11.5,
          "y1": -13
         },
         {
          "layer": "below",
          "line": {
           "color": "#333",
           "width": 4
          },
          "type": "line",
          "x0": 4.90673828125,
          "x1": 4.908935546875,
          "y0": -10,
          "y1": -11.5
         },
         {
          "layer": "below",
          "line": {
           "color": "#333",
           "width": 4
          },
          "type": "line",
          "x0": 4.908935546875,
          "x1": 4.9078369140625,
          "y0": -11.5,
          "y1": -13
         },
         {
          "layer": "below",
          "line": {
           "color": "#333",
           "width": 4
          },
          "type": "line",
          "x0": 4.908935546875,
          "x1": 4.9100341796875,
          "y0": -11.5,
          "y1": -13
         },
         {
          "layer": "below",
          "line": {
           "color": "#333",
           "width": 4
          },
          "type": "line",
          "x0": 4.9100341796875,
          "x1": 4.90948486328125,
          "y0": -13,
          "y1": -14.5
         },
         {
          "layer": "below",
          "line": {
           "color": "#333",
           "width": 4
          },
          "type": "line",
          "x0": 4.9100341796875,
          "x1": 4.91058349609375,
          "y0": -13,
          "y1": -14.5
         },
         {
          "layer": "below",
          "line": {
           "color": "#333",
           "width": 4
          },
          "type": "line",
          "x0": 4.9111328125,
          "x1": 4.91552734375,
          "y0": -8.5,
          "y1": -10
         },
         {
          "layer": "below",
          "line": {
           "color": "#333",
           "width": 4
          },
          "type": "line",
          "x0": 4.91552734375,
          "x1": 4.913330078125,
          "y0": -10,
          "y1": -11.5
         },
         {
          "layer": "below",
          "line": {
           "color": "#333",
           "width": 4
          },
          "type": "line",
          "x0": 4.913330078125,
          "x1": 4.9122314453125,
          "y0": -11.5,
          "y1": -13
         },
         {
          "layer": "below",
          "line": {
           "color": "#333",
           "width": 4
          },
          "type": "line",
          "x0": 4.913330078125,
          "x1": 4.9144287109375,
          "y0": -11.5,
          "y1": -13
         },
         {
          "layer": "below",
          "line": {
           "color": "#333",
           "width": 4
          },
          "type": "line",
          "x0": 4.9144287109375,
          "x1": 4.91387939453125,
          "y0": -13,
          "y1": -14.5
         },
         {
          "layer": "below",
          "line": {
           "color": "#333",
           "width": 4
          },
          "type": "line",
          "x0": 4.9144287109375,
          "x1": 4.91497802734375,
          "y0": -13,
          "y1": -14.5
         },
         {
          "layer": "below",
          "line": {
           "color": "#333",
           "width": 4
          },
          "type": "line",
          "x0": 4.91552734375,
          "x1": 4.917724609375,
          "y0": -10,
          "y1": -11.5
         },
         {
          "layer": "below",
          "line": {
           "color": "#333",
           "width": 4
          },
          "type": "line",
          "x0": 4.917724609375,
          "x1": 4.9166259765625,
          "y0": -11.5,
          "y1": -13
         },
         {
          "layer": "below",
          "line": {
           "color": "#333",
           "width": 4
          },
          "type": "line",
          "x0": 4.917724609375,
          "x1": 4.9188232421875,
          "y0": -11.5,
          "y1": -13
         },
         {
          "layer": "below",
          "line": {
           "color": "#333",
           "width": 4
          },
          "type": "line",
          "x0": 4.919921875,
          "x1": 4.9287109375,
          "y0": -7,
          "y1": -8.5
         },
         {
          "layer": "below",
          "line": {
           "color": "#333",
           "width": 4
          },
          "type": "line",
          "x0": 4.9287109375,
          "x1": 4.92431640625,
          "y0": -8.5,
          "y1": -10
         },
         {
          "layer": "below",
          "line": {
           "color": "#333",
           "width": 4
          },
          "type": "line",
          "x0": 4.92431640625,
          "x1": 4.922119140625,
          "y0": -10,
          "y1": -11.5
         },
         {
          "layer": "below",
          "line": {
           "color": "#333",
           "width": 4
          },
          "type": "line",
          "x0": 4.922119140625,
          "x1": 4.9210205078125,
          "y0": -11.5,
          "y1": -13
         },
         {
          "layer": "below",
          "line": {
           "color": "#333",
           "width": 4
          },
          "type": "line",
          "x0": 4.922119140625,
          "x1": 4.9232177734375,
          "y0": -11.5,
          "y1": -13
         },
         {
          "layer": "below",
          "line": {
           "color": "#333",
           "width": 4
          },
          "type": "line",
          "x0": 4.92431640625,
          "x1": 4.926513671875,
          "y0": -10,
          "y1": -11.5
         },
         {
          "layer": "below",
          "line": {
           "color": "#333",
           "width": 4
          },
          "type": "line",
          "x0": 4.926513671875,
          "x1": 4.9254150390625,
          "y0": -11.5,
          "y1": -13
         },
         {
          "layer": "below",
          "line": {
           "color": "#333",
           "width": 4
          },
          "type": "line",
          "x0": 4.926513671875,
          "x1": 4.9276123046875,
          "y0": -11.5,
          "y1": -13
         },
         {
          "layer": "below",
          "line": {
           "color": "#333",
           "width": 4
          },
          "type": "line",
          "x0": 4.9287109375,
          "x1": 4.93310546875,
          "y0": -8.5,
          "y1": -10
         },
         {
          "layer": "below",
          "line": {
           "color": "#333",
           "width": 4
          },
          "type": "line",
          "x0": 4.93310546875,
          "x1": 4.930908203125,
          "y0": -10,
          "y1": -11.5
         },
         {
          "layer": "below",
          "line": {
           "color": "#333",
           "width": 4
          },
          "type": "line",
          "x0": 4.930908203125,
          "x1": 4.9298095703125,
          "y0": -11.5,
          "y1": -13
         },
         {
          "layer": "below",
          "line": {
           "color": "#333",
           "width": 4
          },
          "type": "line",
          "x0": 4.930908203125,
          "x1": 4.9320068359375,
          "y0": -11.5,
          "y1": -13
         },
         {
          "layer": "below",
          "line": {
           "color": "#333",
           "width": 4
          },
          "type": "line",
          "x0": 4.9320068359375,
          "x1": 4.93145751953125,
          "y0": -13,
          "y1": -14.5
         },
         {
          "layer": "below",
          "line": {
           "color": "#333",
           "width": 4
          },
          "type": "line",
          "x0": 4.9320068359375,
          "x1": 4.93255615234375,
          "y0": -13,
          "y1": -14.5
         },
         {
          "layer": "below",
          "line": {
           "color": "#333",
           "width": 4
          },
          "type": "line",
          "x0": 4.93310546875,
          "x1": 4.935302734375,
          "y0": -10,
          "y1": -11.5
         },
         {
          "layer": "below",
          "line": {
           "color": "#333",
           "width": 4
          },
          "type": "line",
          "x0": 4.935302734375,
          "x1": 4.9342041015625,
          "y0": -11.5,
          "y1": -13
         },
         {
          "layer": "below",
          "line": {
           "color": "#333",
           "width": 4
          },
          "type": "line",
          "x0": 4.935302734375,
          "x1": 4.9364013671875,
          "y0": -11.5,
          "y1": -13
         },
         {
          "layer": "below",
          "line": {
           "color": "#333",
           "width": 4
          },
          "type": "line",
          "x0": 4.9364013671875,
          "x1": 4.93585205078125,
          "y0": -13,
          "y1": -14.5
         },
         {
          "layer": "below",
          "line": {
           "color": "#333",
           "width": 4
          },
          "type": "line",
          "x0": 4.9364013671875,
          "x1": 4.93695068359375,
          "y0": -13,
          "y1": -14.5
         },
         {
          "layer": "below",
          "line": {
           "color": "#333",
           "width": 4
          },
          "type": "line",
          "x0": 4.9375,
          "x1": 5.21875,
          "y0": 0.5,
          "y1": -1
         },
         {
          "layer": "below",
          "line": {
           "color": "#333",
           "width": 4
          },
          "type": "line",
          "x0": 5.21875,
          "x1": 5.078125,
          "y0": -1,
          "y1": -2.5
         },
         {
          "layer": "below",
          "line": {
           "color": "#333",
           "width": 4
          },
          "type": "line",
          "x0": 5.078125,
          "x1": 5.0078125,
          "y0": -2.5,
          "y1": -4
         },
         {
          "layer": "below",
          "line": {
           "color": "#333",
           "width": 4
          },
          "type": "line",
          "x0": 5.0078125,
          "x1": 4.97265625,
          "y0": -4,
          "y1": -5.5
         },
         {
          "layer": "below",
          "line": {
           "color": "#333",
           "width": 4
          },
          "type": "line",
          "x0": 4.97265625,
          "x1": 4.955078125,
          "y0": -5.5,
          "y1": -7
         },
         {
          "layer": "below",
          "line": {
           "color": "#333",
           "width": 4
          },
          "type": "line",
          "x0": 4.955078125,
          "x1": 4.9462890625,
          "y0": -7,
          "y1": -8.5
         },
         {
          "layer": "below",
          "line": {
           "color": "#333",
           "width": 4
          },
          "type": "line",
          "x0": 4.955078125,
          "x1": 4.9638671875,
          "y0": -7,
          "y1": -8.5
         },
         {
          "layer": "below",
          "line": {
           "color": "#333",
           "width": 4
          },
          "type": "line",
          "x0": 4.9638671875,
          "x1": 4.95947265625,
          "y0": -8.5,
          "y1": -10
         },
         {
          "layer": "below",
          "line": {
           "color": "#333",
           "width": 4
          },
          "type": "line",
          "x0": 4.9638671875,
          "x1": 4.96826171875,
          "y0": -8.5,
          "y1": -10
         },
         {
          "layer": "below",
          "line": {
           "color": "#333",
           "width": 4
          },
          "type": "line",
          "x0": 4.97265625,
          "x1": 4.990234375,
          "y0": -5.5,
          "y1": -7
         },
         {
          "layer": "below",
          "line": {
           "color": "#333",
           "width": 4
          },
          "type": "line",
          "x0": 4.990234375,
          "x1": 4.9814453125,
          "y0": -7,
          "y1": -8.5
         },
         {
          "layer": "below",
          "line": {
           "color": "#333",
           "width": 4
          },
          "type": "line",
          "x0": 4.990234375,
          "x1": 4.9990234375,
          "y0": -7,
          "y1": -8.5
         },
         {
          "layer": "below",
          "line": {
           "color": "#333",
           "width": 4
          },
          "type": "line",
          "x0": 5.0078125,
          "x1": 5.04296875,
          "y0": -4,
          "y1": -5.5
         },
         {
          "layer": "below",
          "line": {
           "color": "#333",
           "width": 4
          },
          "type": "line",
          "x0": 5.04296875,
          "x1": 5.025390625,
          "y0": -5.5,
          "y1": -7
         },
         {
          "layer": "below",
          "line": {
           "color": "#333",
           "width": 4
          },
          "type": "line",
          "x0": 5.04296875,
          "x1": 5.060546875,
          "y0": -5.5,
          "y1": -7
         },
         {
          "layer": "below",
          "line": {
           "color": "#333",
           "width": 4
          },
          "type": "line",
          "x0": 5.060546875,
          "x1": 5.0517578125,
          "y0": -7,
          "y1": -8.5
         },
         {
          "layer": "below",
          "line": {
           "color": "#333",
           "width": 4
          },
          "type": "line",
          "x0": 5.060546875,
          "x1": 5.0693359375,
          "y0": -7,
          "y1": -8.5
         },
         {
          "layer": "below",
          "line": {
           "color": "#333",
           "width": 4
          },
          "type": "line",
          "x0": 5.078125,
          "x1": 5.1484375,
          "y0": -2.5,
          "y1": -4
         },
         {
          "layer": "below",
          "line": {
           "color": "#333",
           "width": 4
          },
          "type": "line",
          "x0": 5.1484375,
          "x1": 5.11328125,
          "y0": -4,
          "y1": -5.5
         },
         {
          "layer": "below",
          "line": {
           "color": "#333",
           "width": 4
          },
          "type": "line",
          "x0": 5.1484375,
          "x1": 5.18359375,
          "y0": -4,
          "y1": -5.5
         },
         {
          "layer": "below",
          "line": {
           "color": "#333",
           "width": 4
          },
          "type": "line",
          "x0": 5.18359375,
          "x1": 5.166015625,
          "y0": -5.5,
          "y1": -7
         },
         {
          "layer": "below",
          "line": {
           "color": "#333",
           "width": 4
          },
          "type": "line",
          "x0": 5.18359375,
          "x1": 5.201171875,
          "y0": -5.5,
          "y1": -7
         },
         {
          "layer": "below",
          "line": {
           "color": "#333",
           "width": 4
          },
          "type": "line",
          "x0": 5.201171875,
          "x1": 5.1923828125,
          "y0": -7,
          "y1": -8.5
         },
         {
          "layer": "below",
          "line": {
           "color": "#333",
           "width": 4
          },
          "type": "line",
          "x0": 5.1923828125,
          "x1": 5.18798828125,
          "y0": -8.5,
          "y1": -10
         },
         {
          "layer": "below",
          "line": {
           "color": "#333",
           "width": 4
          },
          "type": "line",
          "x0": 5.1923828125,
          "x1": 5.19677734375,
          "y0": -8.5,
          "y1": -10
         },
         {
          "layer": "below",
          "line": {
           "color": "#333",
           "width": 4
          },
          "type": "line",
          "x0": 5.19677734375,
          "x1": 5.194580078125,
          "y0": -10,
          "y1": -11.5
         },
         {
          "layer": "below",
          "line": {
           "color": "#333",
           "width": 4
          },
          "type": "line",
          "x0": 5.19677734375,
          "x1": 5.198974609375,
          "y0": -10,
          "y1": -11.5
         },
         {
          "layer": "below",
          "line": {
           "color": "#333",
           "width": 4
          },
          "type": "line",
          "x0": 5.198974609375,
          "x1": 5.1978759765625,
          "y0": -11.5,
          "y1": -13
         },
         {
          "layer": "below",
          "line": {
           "color": "#333",
           "width": 4
          },
          "type": "line",
          "x0": 5.198974609375,
          "x1": 5.2000732421875,
          "y0": -11.5,
          "y1": -13
         },
         {
          "layer": "below",
          "line": {
           "color": "#333",
           "width": 4
          },
          "type": "line",
          "x0": 5.2000732421875,
          "x1": 5.19952392578125,
          "y0": -13,
          "y1": -14.5
         },
         {
          "layer": "below",
          "line": {
           "color": "#333",
           "width": 4
          },
          "type": "line",
          "x0": 5.2000732421875,
          "x1": 5.20062255859375,
          "y0": -13,
          "y1": -14.5
         },
         {
          "layer": "below",
          "line": {
           "color": "#333",
           "width": 4
          },
          "type": "line",
          "x0": 5.201171875,
          "x1": 5.2099609375,
          "y0": -7,
          "y1": -8.5
         },
         {
          "layer": "below",
          "line": {
           "color": "#333",
           "width": 4
          },
          "type": "line",
          "x0": 5.2099609375,
          "x1": 5.20556640625,
          "y0": -8.5,
          "y1": -10
         },
         {
          "layer": "below",
          "line": {
           "color": "#333",
           "width": 4
          },
          "type": "line",
          "x0": 5.2099609375,
          "x1": 5.21435546875,
          "y0": -8.5,
          "y1": -10
         },
         {
          "layer": "below",
          "line": {
           "color": "#333",
           "width": 4
          },
          "type": "line",
          "x0": 5.21875,
          "x1": 5.359375,
          "y0": -1,
          "y1": -2.5
         },
         {
          "layer": "below",
          "line": {
           "color": "#333",
           "width": 4
          },
          "type": "line",
          "x0": 5.359375,
          "x1": 5.2890625,
          "y0": -2.5,
          "y1": -4
         },
         {
          "layer": "below",
          "line": {
           "color": "#333",
           "width": 4
          },
          "type": "line",
          "x0": 5.2890625,
          "x1": 5.25390625,
          "y0": -4,
          "y1": -5.5
         },
         {
          "layer": "below",
          "line": {
           "color": "#333",
           "width": 4
          },
          "type": "line",
          "x0": 5.2890625,
          "x1": 5.32421875,
          "y0": -4,
          "y1": -5.5
         },
         {
          "layer": "below",
          "line": {
           "color": "#333",
           "width": 4
          },
          "type": "line",
          "x0": 5.359375,
          "x1": 5.4296875,
          "y0": -2.5,
          "y1": -4
         },
         {
          "layer": "below",
          "line": {
           "color": "#333",
           "width": 4
          },
          "type": "line",
          "x0": 5.4296875,
          "x1": 5.39453125,
          "y0": -4,
          "y1": -5.5
         },
         {
          "layer": "below",
          "line": {
           "color": "#333",
           "width": 4
          },
          "type": "line",
          "x0": 5.4296875,
          "x1": 5.46484375,
          "y0": -4,
          "y1": -5.5
         },
         {
          "layer": "below",
          "line": {
           "color": "#333",
           "width": 4
          },
          "type": "line",
          "x0": 5.46484375,
          "x1": 5.447265625,
          "y0": -5.5,
          "y1": -7
         },
         {
          "layer": "below",
          "line": {
           "color": "#333",
           "width": 4
          },
          "type": "line",
          "x0": 5.46484375,
          "x1": 5.482421875,
          "y0": -5.5,
          "y1": -7
         },
         {
          "layer": "below",
          "line": {
           "color": "#333",
           "width": 4
          },
          "type": "line",
          "x0": 5.482421875,
          "x1": 5.4736328125,
          "y0": -7,
          "y1": -8.5
         },
         {
          "layer": "below",
          "line": {
           "color": "#333",
           "width": 4
          },
          "type": "line",
          "x0": 5.482421875,
          "x1": 5.4912109375,
          "y0": -7,
          "y1": -8.5
         },
         {
          "layer": "below",
          "line": {
           "color": "#333",
           "width": 4
          },
          "type": "line",
          "x0": 5.5,
          "x1": 7.75,
          "y0": 5,
          "y1": 3.5
         },
         {
          "layer": "below",
          "line": {
           "color": "#333",
           "width": 4
          },
          "type": "line",
          "x0": 7.75,
          "x1": 6.625,
          "y0": 3.5,
          "y1": 2
         },
         {
          "layer": "below",
          "line": {
           "color": "#333",
           "width": 4
          },
          "type": "line",
          "x0": 6.625,
          "x1": 6.0625,
          "y0": 2,
          "y1": 0.5
         },
         {
          "layer": "below",
          "line": {
           "color": "#333",
           "width": 4
          },
          "type": "line",
          "x0": 6.0625,
          "x1": 5.78125,
          "y0": 0.5,
          "y1": -1
         },
         {
          "layer": "below",
          "line": {
           "color": "#333",
           "width": 4
          },
          "type": "line",
          "x0": 5.78125,
          "x1": 5.640625,
          "y0": -1,
          "y1": -2.5
         },
         {
          "layer": "below",
          "line": {
           "color": "#333",
           "width": 4
          },
          "type": "line",
          "x0": 5.78125,
          "x1": 5.921875,
          "y0": -1,
          "y1": -2.5
         },
         {
          "layer": "below",
          "line": {
           "color": "#333",
           "width": 4
          },
          "type": "line",
          "x0": 5.921875,
          "x1": 5.8515625,
          "y0": -2.5,
          "y1": -4
         },
         {
          "layer": "below",
          "line": {
           "color": "#333",
           "width": 4
          },
          "type": "line",
          "x0": 5.921875,
          "x1": 5.9921875,
          "y0": -2.5,
          "y1": -4
         },
         {
          "layer": "below",
          "line": {
           "color": "#333",
           "width": 4
          },
          "type": "line",
          "x0": 5.9921875,
          "x1": 5.95703125,
          "y0": -4,
          "y1": -5.5
         },
         {
          "layer": "below",
          "line": {
           "color": "#333",
           "width": 4
          },
          "type": "line",
          "x0": 5.9921875,
          "x1": 6.02734375,
          "y0": -4,
          "y1": -5.5
         },
         {
          "layer": "below",
          "line": {
           "color": "#333",
           "width": 4
          },
          "type": "line",
          "x0": 6.0625,
          "x1": 6.34375,
          "y0": 0.5,
          "y1": -1
         },
         {
          "layer": "below",
          "line": {
           "color": "#333",
           "width": 4
          },
          "type": "line",
          "x0": 6.34375,
          "x1": 6.203125,
          "y0": -1,
          "y1": -2.5
         },
         {
          "layer": "below",
          "line": {
           "color": "#333",
           "width": 4
          },
          "type": "line",
          "x0": 6.203125,
          "x1": 6.1328125,
          "y0": -2.5,
          "y1": -4
         },
         {
          "layer": "below",
          "line": {
           "color": "#333",
           "width": 4
          },
          "type": "line",
          "x0": 6.203125,
          "x1": 6.2734375,
          "y0": -2.5,
          "y1": -4
         },
         {
          "layer": "below",
          "line": {
           "color": "#333",
           "width": 4
          },
          "type": "line",
          "x0": 6.34375,
          "x1": 6.484375,
          "y0": -1,
          "y1": -2.5
         },
         {
          "layer": "below",
          "line": {
           "color": "#333",
           "width": 4
          },
          "type": "line",
          "x0": 6.484375,
          "x1": 6.4140625,
          "y0": -2.5,
          "y1": -4
         },
         {
          "layer": "below",
          "line": {
           "color": "#333",
           "width": 4
          },
          "type": "line",
          "x0": 6.484375,
          "x1": 6.5546875,
          "y0": -2.5,
          "y1": -4
         },
         {
          "layer": "below",
          "line": {
           "color": "#333",
           "width": 4
          },
          "type": "line",
          "x0": 6.5546875,
          "x1": 6.51953125,
          "y0": -4,
          "y1": -5.5
         },
         {
          "layer": "below",
          "line": {
           "color": "#333",
           "width": 4
          },
          "type": "line",
          "x0": 6.5546875,
          "x1": 6.58984375,
          "y0": -4,
          "y1": -5.5
         },
         {
          "layer": "below",
          "line": {
           "color": "#333",
           "width": 4
          },
          "type": "line",
          "x0": 6.625,
          "x1": 7.1875,
          "y0": 2,
          "y1": 0.5
         },
         {
          "layer": "below",
          "line": {
           "color": "#333",
           "width": 4
          },
          "type": "line",
          "x0": 7.1875,
          "x1": 6.90625,
          "y0": 0.5,
          "y1": -1
         },
         {
          "layer": "below",
          "line": {
           "color": "#333",
           "width": 4
          },
          "type": "line",
          "x0": 7.1875,
          "x1": 7.46875,
          "y0": 0.5,
          "y1": -1
         },
         {
          "layer": "below",
          "line": {
           "color": "#333",
           "width": 4
          },
          "type": "line",
          "x0": 7.46875,
          "x1": 7.328125,
          "y0": -1,
          "y1": -2.5
         },
         {
          "layer": "below",
          "line": {
           "color": "#333",
           "width": 4
          },
          "type": "line",
          "x0": 7.328125,
          "x1": 7.2578125,
          "y0": -2.5,
          "y1": -4
         },
         {
          "layer": "below",
          "line": {
           "color": "#333",
           "width": 4
          },
          "type": "line",
          "x0": 7.2578125,
          "x1": 7.22265625,
          "y0": -4,
          "y1": -5.5
         },
         {
          "layer": "below",
          "line": {
           "color": "#333",
           "width": 4
          },
          "type": "line",
          "x0": 7.22265625,
          "x1": 7.205078125,
          "y0": -5.5,
          "y1": -7
         },
         {
          "layer": "below",
          "line": {
           "color": "#333",
           "width": 4
          },
          "type": "line",
          "x0": 7.22265625,
          "x1": 7.240234375,
          "y0": -5.5,
          "y1": -7
         },
         {
          "layer": "below",
          "line": {
           "color": "#333",
           "width": 4
          },
          "type": "line",
          "x0": 7.240234375,
          "x1": 7.2314453125,
          "y0": -7,
          "y1": -8.5
         },
         {
          "layer": "below",
          "line": {
           "color": "#333",
           "width": 4
          },
          "type": "line",
          "x0": 7.240234375,
          "x1": 7.2490234375,
          "y0": -7,
          "y1": -8.5
         },
         {
          "layer": "below",
          "line": {
           "color": "#333",
           "width": 4
          },
          "type": "line",
          "x0": 7.2578125,
          "x1": 7.29296875,
          "y0": -4,
          "y1": -5.5
         },
         {
          "layer": "below",
          "line": {
           "color": "#333",
           "width": 4
          },
          "type": "line",
          "x0": 7.29296875,
          "x1": 7.275390625,
          "y0": -5.5,
          "y1": -7
         },
         {
          "layer": "below",
          "line": {
           "color": "#333",
           "width": 4
          },
          "type": "line",
          "x0": 7.29296875,
          "x1": 7.310546875,
          "y0": -5.5,
          "y1": -7
         },
         {
          "layer": "below",
          "line": {
           "color": "#333",
           "width": 4
          },
          "type": "line",
          "x0": 7.328125,
          "x1": 7.3984375,
          "y0": -2.5,
          "y1": -4
         },
         {
          "layer": "below",
          "line": {
           "color": "#333",
           "width": 4
          },
          "type": "line",
          "x0": 7.3984375,
          "x1": 7.36328125,
          "y0": -4,
          "y1": -5.5
         },
         {
          "layer": "below",
          "line": {
           "color": "#333",
           "width": 4
          },
          "type": "line",
          "x0": 7.36328125,
          "x1": 7.345703125,
          "y0": -5.5,
          "y1": -7
         },
         {
          "layer": "below",
          "line": {
           "color": "#333",
           "width": 4
          },
          "type": "line",
          "x0": 7.345703125,
          "x1": 7.3369140625,
          "y0": -7,
          "y1": -8.5
         },
         {
          "layer": "below",
          "line": {
           "color": "#333",
           "width": 4
          },
          "type": "line",
          "x0": 7.345703125,
          "x1": 7.3544921875,
          "y0": -7,
          "y1": -8.5
         },
         {
          "layer": "below",
          "line": {
           "color": "#333",
           "width": 4
          },
          "type": "line",
          "x0": 7.36328125,
          "x1": 7.380859375,
          "y0": -5.5,
          "y1": -7
         },
         {
          "layer": "below",
          "line": {
           "color": "#333",
           "width": 4
          },
          "type": "line",
          "x0": 7.380859375,
          "x1": 7.3720703125,
          "y0": -7,
          "y1": -8.5
         },
         {
          "layer": "below",
          "line": {
           "color": "#333",
           "width": 4
          },
          "type": "line",
          "x0": 7.380859375,
          "x1": 7.3896484375,
          "y0": -7,
          "y1": -8.5
         },
         {
          "layer": "below",
          "line": {
           "color": "#333",
           "width": 4
          },
          "type": "line",
          "x0": 7.3896484375,
          "x1": 7.38525390625,
          "y0": -8.5,
          "y1": -10
         },
         {
          "layer": "below",
          "line": {
           "color": "#333",
           "width": 4
          },
          "type": "line",
          "x0": 7.3896484375,
          "x1": 7.39404296875,
          "y0": -8.5,
          "y1": -10
         },
         {
          "layer": "below",
          "line": {
           "color": "#333",
           "width": 4
          },
          "type": "line",
          "x0": 7.3984375,
          "x1": 7.43359375,
          "y0": -4,
          "y1": -5.5
         },
         {
          "layer": "below",
          "line": {
           "color": "#333",
           "width": 4
          },
          "type": "line",
          "x0": 7.43359375,
          "x1": 7.416015625,
          "y0": -5.5,
          "y1": -7
         },
         {
          "layer": "below",
          "line": {
           "color": "#333",
           "width": 4
          },
          "type": "line",
          "x0": 7.43359375,
          "x1": 7.451171875,
          "y0": -5.5,
          "y1": -7
         },
         {
          "layer": "below",
          "line": {
           "color": "#333",
           "width": 4
          },
          "type": "line",
          "x0": 7.451171875,
          "x1": 7.4423828125,
          "y0": -7,
          "y1": -8.5
         },
         {
          "layer": "below",
          "line": {
           "color": "#333",
           "width": 4
          },
          "type": "line",
          "x0": 7.4423828125,
          "x1": 7.43798828125,
          "y0": -8.5,
          "y1": -10
         },
         {
          "layer": "below",
          "line": {
           "color": "#333",
           "width": 4
          },
          "type": "line",
          "x0": 7.4423828125,
          "x1": 7.44677734375,
          "y0": -8.5,
          "y1": -10
         },
         {
          "layer": "below",
          "line": {
           "color": "#333",
           "width": 4
          },
          "type": "line",
          "x0": 7.44677734375,
          "x1": 7.444580078125,
          "y0": -10,
          "y1": -11.5
         },
         {
          "layer": "below",
          "line": {
           "color": "#333",
           "width": 4
          },
          "type": "line",
          "x0": 7.44677734375,
          "x1": 7.448974609375,
          "y0": -10,
          "y1": -11.5
         },
         {
          "layer": "below",
          "line": {
           "color": "#333",
           "width": 4
          },
          "type": "line",
          "x0": 7.448974609375,
          "x1": 7.4478759765625,
          "y0": -11.5,
          "y1": -13
         },
         {
          "layer": "below",
          "line": {
           "color": "#333",
           "width": 4
          },
          "type": "line",
          "x0": 7.4478759765625,
          "x1": 7.44732666015625,
          "y0": -13,
          "y1": -14.5
         },
         {
          "layer": "below",
          "line": {
           "color": "#333",
           "width": 4
          },
          "type": "line",
          "x0": 7.4478759765625,
          "x1": 7.44842529296875,
          "y0": -13,
          "y1": -14.5
         },
         {
          "layer": "below",
          "line": {
           "color": "#333",
           "width": 4
          },
          "type": "line",
          "x0": 7.448974609375,
          "x1": 7.4500732421875,
          "y0": -11.5,
          "y1": -13
         },
         {
          "layer": "below",
          "line": {
           "color": "#333",
           "width": 4
          },
          "type": "line",
          "x0": 7.4500732421875,
          "x1": 7.44952392578125,
          "y0": -13,
          "y1": -14.5
         },
         {
          "layer": "below",
          "line": {
           "color": "#333",
           "width": 4
          },
          "type": "line",
          "x0": 7.44952392578125,
          "x1": 7.449249267578125,
          "y0": -14.5,
          "y1": -16
         },
         {
          "layer": "below",
          "line": {
           "color": "#333",
           "width": 4
          },
          "type": "line",
          "x0": 7.44952392578125,
          "x1": 7.449798583984375,
          "y0": -14.5,
          "y1": -16
         },
         {
          "layer": "below",
          "line": {
           "color": "#333",
           "width": 4
          },
          "type": "line",
          "x0": 7.4500732421875,
          "x1": 7.45062255859375,
          "y0": -13,
          "y1": -14.5
         },
         {
          "layer": "below",
          "line": {
           "color": "#333",
           "width": 4
          },
          "type": "line",
          "x0": 7.45062255859375,
          "x1": 7.450347900390625,
          "y0": -14.5,
          "y1": -16
         },
         {
          "layer": "below",
          "line": {
           "color": "#333",
           "width": 4
          },
          "type": "line",
          "x0": 7.450347900390625,
          "x1": 7.4502105712890625,
          "y0": -16,
          "y1": -17.5
         },
         {
          "layer": "below",
          "line": {
           "color": "#333",
           "width": 4
          },
          "type": "line",
          "x0": 7.450347900390625,
          "x1": 7.4504852294921875,
          "y0": -16,
          "y1": -17.5
         },
         {
          "layer": "below",
          "line": {
           "color": "#333",
           "width": 4
          },
          "type": "line",
          "x0": 7.45062255859375,
          "x1": 7.450897216796875,
          "y0": -14.5,
          "y1": -16
         },
         {
          "layer": "below",
          "line": {
           "color": "#333",
           "width": 4
          },
          "type": "line",
          "x0": 7.450897216796875,
          "x1": 7.4507598876953125,
          "y0": -16,
          "y1": -17.5
         },
         {
          "layer": "below",
          "line": {
           "color": "#333",
           "width": 4
          },
          "type": "line",
          "x0": 7.450897216796875,
          "x1": 7.4510345458984375,
          "y0": -16,
          "y1": -17.5
         },
         {
          "layer": "below",
          "line": {
           "color": "#333",
           "width": 4
          },
          "type": "line",
          "x0": 7.451171875,
          "x1": 7.4599609375,
          "y0": -7,
          "y1": -8.5
         },
         {
          "layer": "below",
          "line": {
           "color": "#333",
           "width": 4
          },
          "type": "line",
          "x0": 7.4599609375,
          "x1": 7.45556640625,
          "y0": -8.5,
          "y1": -10
         },
         {
          "layer": "below",
          "line": {
           "color": "#333",
           "width": 4
          },
          "type": "line",
          "x0": 7.45556640625,
          "x1": 7.453369140625,
          "y0": -10,
          "y1": -11.5
         },
         {
          "layer": "below",
          "line": {
           "color": "#333",
           "width": 4
          },
          "type": "line",
          "x0": 7.45556640625,
          "x1": 7.457763671875,
          "y0": -10,
          "y1": -11.5
         },
         {
          "layer": "below",
          "line": {
           "color": "#333",
           "width": 4
          },
          "type": "line",
          "x0": 7.4599609375,
          "x1": 7.46435546875,
          "y0": -8.5,
          "y1": -10
         },
         {
          "layer": "below",
          "line": {
           "color": "#333",
           "width": 4
          },
          "type": "line",
          "x0": 7.46435546875,
          "x1": 7.462158203125,
          "y0": -10,
          "y1": -11.5
         },
         {
          "layer": "below",
          "line": {
           "color": "#333",
           "width": 4
          },
          "type": "line",
          "x0": 7.462158203125,
          "x1": 7.4610595703125,
          "y0": -11.5,
          "y1": -13
         },
         {
          "layer": "below",
          "line": {
           "color": "#333",
           "width": 4
          },
          "type": "line",
          "x0": 7.4610595703125,
          "x1": 7.46051025390625,
          "y0": -13,
          "y1": -14.5
         },
         {
          "layer": "below",
          "line": {
           "color": "#333",
           "width": 4
          },
          "type": "line",
          "x0": 7.46051025390625,
          "x1": 7.460235595703125,
          "y0": -14.5,
          "y1": -16
         },
         {
          "layer": "below",
          "line": {
           "color": "#333",
           "width": 4
          },
          "type": "line",
          "x0": 7.46051025390625,
          "x1": 7.460784912109375,
          "y0": -14.5,
          "y1": -16
         },
         {
          "layer": "below",
          "line": {
           "color": "#333",
           "width": 4
          },
          "type": "line",
          "x0": 7.4610595703125,
          "x1": 7.46160888671875,
          "y0": -13,
          "y1": -14.5
         },
         {
          "layer": "below",
          "line": {
           "color": "#333",
           "width": 4
          },
          "type": "line",
          "x0": 7.46160888671875,
          "x1": 7.461334228515625,
          "y0": -14.5,
          "y1": -16
         },
         {
          "layer": "below",
          "line": {
           "color": "#333",
           "width": 4
          },
          "type": "line",
          "x0": 7.46160888671875,
          "x1": 7.461883544921875,
          "y0": -14.5,
          "y1": -16
         },
         {
          "layer": "below",
          "line": {
           "color": "#333",
           "width": 4
          },
          "type": "line",
          "x0": 7.461883544921875,
          "x1": 7.4617462158203125,
          "y0": -16,
          "y1": -17.5
         },
         {
          "layer": "below",
          "line": {
           "color": "#333",
           "width": 4
          },
          "type": "line",
          "x0": 7.461883544921875,
          "x1": 7.4620208740234375,
          "y0": -16,
          "y1": -17.5
         },
         {
          "layer": "below",
          "line": {
           "color": "#333",
           "width": 4
          },
          "type": "line",
          "x0": 7.462158203125,
          "x1": 7.4632568359375,
          "y0": -11.5,
          "y1": -13
         },
         {
          "layer": "below",
          "line": {
           "color": "#333",
           "width": 4
          },
          "type": "line",
          "x0": 7.4632568359375,
          "x1": 7.46270751953125,
          "y0": -13,
          "y1": -14.5
         },
         {
          "layer": "below",
          "line": {
           "color": "#333",
           "width": 4
          },
          "type": "line",
          "x0": 7.4632568359375,
          "x1": 7.46380615234375,
          "y0": -13,
          "y1": -14.5
         },
         {
          "layer": "below",
          "line": {
           "color": "#333",
           "width": 4
          },
          "type": "line",
          "x0": 7.46435546875,
          "x1": 7.466552734375,
          "y0": -10,
          "y1": -11.5
         },
         {
          "layer": "below",
          "line": {
           "color": "#333",
           "width": 4
          },
          "type": "line",
          "x0": 7.466552734375,
          "x1": 7.4654541015625,
          "y0": -11.5,
          "y1": -13
         },
         {
          "layer": "below",
          "line": {
           "color": "#333",
           "width": 4
          },
          "type": "line",
          "x0": 7.4654541015625,
          "x1": 7.46490478515625,
          "y0": -13,
          "y1": -14.5
         },
         {
          "layer": "below",
          "line": {
           "color": "#333",
           "width": 4
          },
          "type": "line",
          "x0": 7.4654541015625,
          "x1": 7.46600341796875,
          "y0": -13,
          "y1": -14.5
         },
         {
          "layer": "below",
          "line": {
           "color": "#333",
           "width": 4
          },
          "type": "line",
          "x0": 7.46600341796875,
          "x1": 7.465728759765625,
          "y0": -14.5,
          "y1": -16
         },
         {
          "layer": "below",
          "line": {
           "color": "#333",
           "width": 4
          },
          "type": "line",
          "x0": 7.46600341796875,
          "x1": 7.466278076171875,
          "y0": -14.5,
          "y1": -16
         },
         {
          "layer": "below",
          "line": {
           "color": "#333",
           "width": 4
          },
          "type": "line",
          "x0": 7.466552734375,
          "x1": 7.4676513671875,
          "y0": -11.5,
          "y1": -13
         },
         {
          "layer": "below",
          "line": {
           "color": "#333",
           "width": 4
          },
          "type": "line",
          "x0": 7.4676513671875,
          "x1": 7.46710205078125,
          "y0": -13,
          "y1": -14.5
         },
         {
          "layer": "below",
          "line": {
           "color": "#333",
           "width": 4
          },
          "type": "line",
          "x0": 7.46710205078125,
          "x1": 7.466827392578125,
          "y0": -14.5,
          "y1": -16
         },
         {
          "layer": "below",
          "line": {
           "color": "#333",
           "width": 4
          },
          "type": "line",
          "x0": 7.466827392578125,
          "x1": 7.4666900634765625,
          "y0": -16,
          "y1": -17.5
         },
         {
          "layer": "below",
          "line": {
           "color": "#333",
           "width": 4
          },
          "type": "line",
          "x0": 7.466827392578125,
          "x1": 7.4669647216796875,
          "y0": -16,
          "y1": -17.5
         },
         {
          "layer": "below",
          "line": {
           "color": "#333",
           "width": 4
          },
          "type": "line",
          "x0": 7.46710205078125,
          "x1": 7.467376708984375,
          "y0": -14.5,
          "y1": -16
         },
         {
          "layer": "below",
          "line": {
           "color": "#333",
           "width": 4
          },
          "type": "line",
          "x0": 7.467376708984375,
          "x1": 7.4672393798828125,
          "y0": -16,
          "y1": -17.5
         },
         {
          "layer": "below",
          "line": {
           "color": "#333",
           "width": 4
          },
          "type": "line",
          "x0": 7.467376708984375,
          "x1": 7.4675140380859375,
          "y0": -16,
          "y1": -17.5
         },
         {
          "layer": "below",
          "line": {
           "color": "#333",
           "width": 4
          },
          "type": "line",
          "x0": 7.4676513671875,
          "x1": 7.46820068359375,
          "y0": -13,
          "y1": -14.5
         },
         {
          "layer": "below",
          "line": {
           "color": "#333",
           "width": 4
          },
          "type": "line",
          "x0": 7.46820068359375,
          "x1": 7.467926025390625,
          "y0": -14.5,
          "y1": -16
         },
         {
          "layer": "below",
          "line": {
           "color": "#333",
           "width": 4
          },
          "type": "line",
          "x0": 7.467926025390625,
          "x1": 7.4677886962890625,
          "y0": -16,
          "y1": -17.5
         },
         {
          "layer": "below",
          "line": {
           "color": "#333",
           "width": 4
          },
          "type": "line",
          "x0": 7.4677886962890625,
          "x1": 7.467720031738281,
          "y0": -17.5,
          "y1": -19
         },
         {
          "layer": "below",
          "line": {
           "color": "#333",
           "width": 4
          },
          "type": "line",
          "x0": 7.4677886962890625,
          "x1": 7.467857360839844,
          "y0": -17.5,
          "y1": -19
         },
         {
          "layer": "below",
          "line": {
           "color": "#333",
           "width": 4
          },
          "type": "line",
          "x0": 7.467926025390625,
          "x1": 7.4680633544921875,
          "y0": -16,
          "y1": -17.5
         },
         {
          "layer": "below",
          "line": {
           "color": "#333",
           "width": 4
          },
          "type": "line",
          "x0": 7.4680633544921875,
          "x1": 7.467994689941406,
          "y0": -17.5,
          "y1": -19
         },
         {
          "layer": "below",
          "line": {
           "color": "#333",
           "width": 4
          },
          "type": "line",
          "x0": 7.4680633544921875,
          "x1": 7.468132019042969,
          "y0": -17.5,
          "y1": -19
         },
         {
          "layer": "below",
          "line": {
           "color": "#333",
           "width": 4
          },
          "type": "line",
          "x0": 7.46820068359375,
          "x1": 7.468475341796875,
          "y0": -14.5,
          "y1": -16
         },
         {
          "layer": "below",
          "line": {
           "color": "#333",
           "width": 4
          },
          "type": "line",
          "x0": 7.468475341796875,
          "x1": 7.4683380126953125,
          "y0": -16,
          "y1": -17.5
         },
         {
          "layer": "below",
          "line": {
           "color": "#333",
           "width": 4
          },
          "type": "line",
          "x0": 7.4683380126953125,
          "x1": 7.468269348144531,
          "y0": -17.5,
          "y1": -19
         },
         {
          "layer": "below",
          "line": {
           "color": "#333",
           "width": 4
          },
          "type": "line",
          "x0": 7.4683380126953125,
          "x1": 7.468406677246094,
          "y0": -17.5,
          "y1": -19
         },
         {
          "layer": "below",
          "line": {
           "color": "#333",
           "width": 4
          },
          "type": "line",
          "x0": 7.468406677246094,
          "x1": 7.468372344970703,
          "y0": -19,
          "y1": -20.5
         },
         {
          "layer": "below",
          "line": {
           "color": "#333",
           "width": 4
          },
          "type": "line",
          "x0": 7.468406677246094,
          "x1": 7.468441009521484,
          "y0": -19,
          "y1": -20.5
         },
         {
          "layer": "below",
          "line": {
           "color": "#333",
           "width": 4
          },
          "type": "line",
          "x0": 7.468441009521484,
          "x1": 7.468423843383789,
          "y0": -20.5,
          "y1": -22
         },
         {
          "layer": "below",
          "line": {
           "color": "#333",
           "width": 4
          },
          "type": "line",
          "x0": 7.468441009521484,
          "x1": 7.46845817565918,
          "y0": -20.5,
          "y1": -22
         },
         {
          "layer": "below",
          "line": {
           "color": "#333",
           "width": 4
          },
          "type": "line",
          "x0": 7.468475341796875,
          "x1": 7.4686126708984375,
          "y0": -16,
          "y1": -17.5
         },
         {
          "layer": "below",
          "line": {
           "color": "#333",
           "width": 4
          },
          "type": "line",
          "x0": 7.4686126708984375,
          "x1": 7.468544006347656,
          "y0": -17.5,
          "y1": -19
         },
         {
          "layer": "below",
          "line": {
           "color": "#333",
           "width": 4
          },
          "type": "line",
          "x0": 7.468544006347656,
          "x1": 7.468509674072266,
          "y0": -19,
          "y1": -20.5
         },
         {
          "layer": "below",
          "line": {
           "color": "#333",
           "width": 4
          },
          "type": "line",
          "x0": 7.468544006347656,
          "x1": 7.468578338623047,
          "y0": -19,
          "y1": -20.5
         },
         {
          "layer": "below",
          "line": {
           "color": "#333",
           "width": 4
          },
          "type": "line",
          "x0": 7.4686126708984375,
          "x1": 7.468681335449219,
          "y0": -17.5,
          "y1": -19
         },
         {
          "layer": "below",
          "line": {
           "color": "#333",
           "width": 4
          },
          "type": "line",
          "x0": 7.468681335449219,
          "x1": 7.468647003173828,
          "y0": -19,
          "y1": -20.5
         },
         {
          "layer": "below",
          "line": {
           "color": "#333",
           "width": 4
          },
          "type": "line",
          "x0": 7.468681335449219,
          "x1": 7.468715667724609,
          "y0": -19,
          "y1": -20.5
         },
         {
          "layer": "below",
          "line": {
           "color": "#333",
           "width": 4
          },
          "type": "line",
          "x0": 7.468715667724609,
          "x1": 7.468698501586914,
          "y0": -20.5,
          "y1": -22
         },
         {
          "layer": "below",
          "line": {
           "color": "#333",
           "width": 4
          },
          "type": "line",
          "x0": 7.468715667724609,
          "x1": 7.468732833862305,
          "y0": -20.5,
          "y1": -22
         },
         {
          "layer": "below",
          "line": {
           "color": "#333",
           "width": 4
          },
          "type": "line",
          "x0": 7.46875,
          "x1": 7.609375,
          "y0": -1,
          "y1": -2.5
         },
         {
          "layer": "below",
          "line": {
           "color": "#333",
           "width": 4
          },
          "type": "line",
          "x0": 7.609375,
          "x1": 7.5390625,
          "y0": -2.5,
          "y1": -4
         },
         {
          "layer": "below",
          "line": {
           "color": "#333",
           "width": 4
          },
          "type": "line",
          "x0": 7.5390625,
          "x1": 7.50390625,
          "y0": -4,
          "y1": -5.5
         },
         {
          "layer": "below",
          "line": {
           "color": "#333",
           "width": 4
          },
          "type": "line",
          "x0": 7.5390625,
          "x1": 7.57421875,
          "y0": -4,
          "y1": -5.5
         },
         {
          "layer": "below",
          "line": {
           "color": "#333",
           "width": 4
          },
          "type": "line",
          "x0": 7.57421875,
          "x1": 7.556640625,
          "y0": -5.5,
          "y1": -7
         },
         {
          "layer": "below",
          "line": {
           "color": "#333",
           "width": 4
          },
          "type": "line",
          "x0": 7.57421875,
          "x1": 7.591796875,
          "y0": -5.5,
          "y1": -7
         },
         {
          "layer": "below",
          "line": {
           "color": "#333",
           "width": 4
          },
          "type": "line",
          "x0": 7.609375,
          "x1": 7.6796875,
          "y0": -2.5,
          "y1": -4
         },
         {
          "layer": "below",
          "line": {
           "color": "#333",
           "width": 4
          },
          "type": "line",
          "x0": 7.6796875,
          "x1": 7.64453125,
          "y0": -4,
          "y1": -5.5
         },
         {
          "layer": "below",
          "line": {
           "color": "#333",
           "width": 4
          },
          "type": "line",
          "x0": 7.64453125,
          "x1": 7.626953125,
          "y0": -5.5,
          "y1": -7
         },
         {
          "layer": "below",
          "line": {
           "color": "#333",
           "width": 4
          },
          "type": "line",
          "x0": 7.64453125,
          "x1": 7.662109375,
          "y0": -5.5,
          "y1": -7
         },
         {
          "layer": "below",
          "line": {
           "color": "#333",
           "width": 4
          },
          "type": "line",
          "x0": 7.6796875,
          "x1": 7.71484375,
          "y0": -4,
          "y1": -5.5
         },
         {
          "layer": "below",
          "line": {
           "color": "#333",
           "width": 4
          },
          "type": "line",
          "x0": 7.71484375,
          "x1": 7.697265625,
          "y0": -5.5,
          "y1": -7
         },
         {
          "layer": "below",
          "line": {
           "color": "#333",
           "width": 4
          },
          "type": "line",
          "x0": 7.697265625,
          "x1": 7.6884765625,
          "y0": -7,
          "y1": -8.5
         },
         {
          "layer": "below",
          "line": {
           "color": "#333",
           "width": 4
          },
          "type": "line",
          "x0": 7.6884765625,
          "x1": 7.68408203125,
          "y0": -8.5,
          "y1": -10
         },
         {
          "layer": "below",
          "line": {
           "color": "#333",
           "width": 4
          },
          "type": "line",
          "x0": 7.6884765625,
          "x1": 7.69287109375,
          "y0": -8.5,
          "y1": -10
         },
         {
          "layer": "below",
          "line": {
           "color": "#333",
           "width": 4
          },
          "type": "line",
          "x0": 7.69287109375,
          "x1": 7.690673828125,
          "y0": -10,
          "y1": -11.5
         },
         {
          "layer": "below",
          "line": {
           "color": "#333",
           "width": 4
          },
          "type": "line",
          "x0": 7.69287109375,
          "x1": 7.695068359375,
          "y0": -10,
          "y1": -11.5
         },
         {
          "layer": "below",
          "line": {
           "color": "#333",
           "width": 4
          },
          "type": "line",
          "x0": 7.697265625,
          "x1": 7.7060546875,
          "y0": -7,
          "y1": -8.5
         },
         {
          "layer": "below",
          "line": {
           "color": "#333",
           "width": 4
          },
          "type": "line",
          "x0": 7.7060546875,
          "x1": 7.70166015625,
          "y0": -8.5,
          "y1": -10
         },
         {
          "layer": "below",
          "line": {
           "color": "#333",
           "width": 4
          },
          "type": "line",
          "x0": 7.7060546875,
          "x1": 7.71044921875,
          "y0": -8.5,
          "y1": -10
         },
         {
          "layer": "below",
          "line": {
           "color": "#333",
           "width": 4
          },
          "type": "line",
          "x0": 7.71044921875,
          "x1": 7.708251953125,
          "y0": -10,
          "y1": -11.5
         },
         {
          "layer": "below",
          "line": {
           "color": "#333",
           "width": 4
          },
          "type": "line",
          "x0": 7.71044921875,
          "x1": 7.712646484375,
          "y0": -10,
          "y1": -11.5
         },
         {
          "layer": "below",
          "line": {
           "color": "#333",
           "width": 4
          },
          "type": "line",
          "x0": 7.712646484375,
          "x1": 7.7115478515625,
          "y0": -11.5,
          "y1": -13
         },
         {
          "layer": "below",
          "line": {
           "color": "#333",
           "width": 4
          },
          "type": "line",
          "x0": 7.712646484375,
          "x1": 7.7137451171875,
          "y0": -11.5,
          "y1": -13
         },
         {
          "layer": "below",
          "line": {
           "color": "#333",
           "width": 4
          },
          "type": "line",
          "x0": 7.7137451171875,
          "x1": 7.71319580078125,
          "y0": -13,
          "y1": -14.5
         },
         {
          "layer": "below",
          "line": {
           "color": "#333",
           "width": 4
          },
          "type": "line",
          "x0": 7.7137451171875,
          "x1": 7.71429443359375,
          "y0": -13,
          "y1": -14.5
         },
         {
          "layer": "below",
          "line": {
           "color": "#333",
           "width": 4
          },
          "type": "line",
          "x0": 7.71484375,
          "x1": 7.732421875,
          "y0": -5.5,
          "y1": -7
         },
         {
          "layer": "below",
          "line": {
           "color": "#333",
           "width": 4
          },
          "type": "line",
          "x0": 7.732421875,
          "x1": 7.7236328125,
          "y0": -7,
          "y1": -8.5
         },
         {
          "layer": "below",
          "line": {
           "color": "#333",
           "width": 4
          },
          "type": "line",
          "x0": 7.7236328125,
          "x1": 7.71923828125,
          "y0": -8.5,
          "y1": -10
         },
         {
          "layer": "below",
          "line": {
           "color": "#333",
           "width": 4
          },
          "type": "line",
          "x0": 7.7236328125,
          "x1": 7.72802734375,
          "y0": -8.5,
          "y1": -10
         },
         {
          "layer": "below",
          "line": {
           "color": "#333",
           "width": 4
          },
          "type": "line",
          "x0": 7.72802734375,
          "x1": 7.725830078125,
          "y0": -10,
          "y1": -11.5
         },
         {
          "layer": "below",
          "line": {
           "color": "#333",
           "width": 4
          },
          "type": "line",
          "x0": 7.72802734375,
          "x1": 7.730224609375,
          "y0": -10,
          "y1": -11.5
         },
         {
          "layer": "below",
          "line": {
           "color": "#333",
           "width": 4
          },
          "type": "line",
          "x0": 7.732421875,
          "x1": 7.7412109375,
          "y0": -7,
          "y1": -8.5
         },
         {
          "layer": "below",
          "line": {
           "color": "#333",
           "width": 4
          },
          "type": "line",
          "x0": 7.7412109375,
          "x1": 7.73681640625,
          "y0": -8.5,
          "y1": -10
         },
         {
          "layer": "below",
          "line": {
           "color": "#333",
           "width": 4
          },
          "type": "line",
          "x0": 7.7412109375,
          "x1": 7.74560546875,
          "y0": -8.5,
          "y1": -10
         },
         {
          "layer": "below",
          "line": {
           "color": "#333",
           "width": 4
          },
          "type": "line",
          "x0": 7.74560546875,
          "x1": 7.743408203125,
          "y0": -10,
          "y1": -11.5
         },
         {
          "layer": "below",
          "line": {
           "color": "#333",
           "width": 4
          },
          "type": "line",
          "x0": 7.74560546875,
          "x1": 7.747802734375,
          "y0": -10,
          "y1": -11.5
         },
         {
          "layer": "below",
          "line": {
           "color": "#333",
           "width": 4
          },
          "type": "line",
          "x0": 7.747802734375,
          "x1": 7.7467041015625,
          "y0": -11.5,
          "y1": -13
         },
         {
          "layer": "below",
          "line": {
           "color": "#333",
           "width": 4
          },
          "type": "line",
          "x0": 7.747802734375,
          "x1": 7.7489013671875,
          "y0": -11.5,
          "y1": -13
         },
         {
          "layer": "below",
          "line": {
           "color": "#333",
           "width": 4
          },
          "type": "line",
          "x0": 7.75,
          "x1": 8.875,
          "y0": 3.5,
          "y1": 2
         },
         {
          "layer": "below",
          "line": {
           "color": "#333",
           "width": 4
          },
          "type": "line",
          "x0": 8.875,
          "x1": 8.3125,
          "y0": 2,
          "y1": 0.5
         },
         {
          "layer": "below",
          "line": {
           "color": "#333",
           "width": 4
          },
          "type": "line",
          "x0": 8.3125,
          "x1": 8.03125,
          "y0": 0.5,
          "y1": -1
         },
         {
          "layer": "below",
          "line": {
           "color": "#333",
           "width": 4
          },
          "type": "line",
          "x0": 8.3125,
          "x1": 8.59375,
          "y0": 0.5,
          "y1": -1
         },
         {
          "layer": "below",
          "line": {
           "color": "#333",
           "width": 4
          },
          "type": "line",
          "x0": 8.59375,
          "x1": 8.453125,
          "y0": -1,
          "y1": -2.5
         },
         {
          "layer": "below",
          "line": {
           "color": "#333",
           "width": 4
          },
          "type": "line",
          "x0": 8.453125,
          "x1": 8.3828125,
          "y0": -2.5,
          "y1": -4
         },
         {
          "layer": "below",
          "line": {
           "color": "#333",
           "width": 4
          },
          "type": "line",
          "x0": 8.453125,
          "x1": 8.5234375,
          "y0": -2.5,
          "y1": -4
         },
         {
          "layer": "below",
          "line": {
           "color": "#333",
           "width": 4
          },
          "type": "line",
          "x0": 8.59375,
          "x1": 8.734375,
          "y0": -1,
          "y1": -2.5
         },
         {
          "layer": "below",
          "line": {
           "color": "#333",
           "width": 4
          },
          "type": "line",
          "x0": 8.734375,
          "x1": 8.6640625,
          "y0": -2.5,
          "y1": -4
         },
         {
          "layer": "below",
          "line": {
           "color": "#333",
           "width": 4
          },
          "type": "line",
          "x0": 8.734375,
          "x1": 8.8046875,
          "y0": -2.5,
          "y1": -4
         },
         {
          "layer": "below",
          "line": {
           "color": "#333",
           "width": 4
          },
          "type": "line",
          "x0": 8.875,
          "x1": 9.4375,
          "y0": 2,
          "y1": 0.5
         },
         {
          "layer": "below",
          "line": {
           "color": "#333",
           "width": 4
          },
          "type": "line",
          "x0": 9.4375,
          "x1": 9.15625,
          "y0": 0.5,
          "y1": -1
         },
         {
          "layer": "below",
          "line": {
           "color": "#333",
           "width": 4
          },
          "type": "line",
          "x0": 9.4375,
          "x1": 9.71875,
          "y0": 0.5,
          "y1": -1
         },
         {
          "layer": "below",
          "line": {
           "color": "#333",
           "width": 4
          },
          "type": "line",
          "x0": 9.71875,
          "x1": 9.578125,
          "y0": -1,
          "y1": -2.5
         },
         {
          "layer": "below",
          "line": {
           "color": "#333",
           "width": 4
          },
          "type": "line",
          "x0": 9.578125,
          "x1": 9.5078125,
          "y0": -2.5,
          "y1": -4
         },
         {
          "layer": "below",
          "line": {
           "color": "#333",
           "width": 4
          },
          "type": "line",
          "x0": 9.578125,
          "x1": 9.6484375,
          "y0": -2.5,
          "y1": -4
         },
         {
          "layer": "below",
          "line": {
           "color": "#333",
           "width": 4
          },
          "type": "line",
          "x0": 9.71875,
          "x1": 9.859375,
          "y0": -1,
          "y1": -2.5
         },
         {
          "layer": "below",
          "line": {
           "color": "#333",
           "width": 4
          },
          "type": "line",
          "x0": 9.859375,
          "x1": 9.7890625,
          "y0": -2.5,
          "y1": -4
         },
         {
          "layer": "below",
          "line": {
           "color": "#333",
           "width": 4
          },
          "type": "line",
          "x0": 9.859375,
          "x1": 9.9296875,
          "y0": -2.5,
          "y1": -4
         }
        ],
        "template": {
         "data": {
          "bar": [
           {
            "error_x": {
             "color": "#2a3f5f"
            },
            "error_y": {
             "color": "#2a3f5f"
            },
            "marker": {
             "line": {
              "color": "#E5ECF6",
              "width": 0.5
             },
             "pattern": {
              "fillmode": "overlay",
              "size": 10,
              "solidity": 0.2
             }
            },
            "type": "bar"
           }
          ],
          "barpolar": [
           {
            "marker": {
             "line": {
              "color": "#E5ECF6",
              "width": 0.5
             },
             "pattern": {
              "fillmode": "overlay",
              "size": 10,
              "solidity": 0.2
             }
            },
            "type": "barpolar"
           }
          ],
          "carpet": [
           {
            "aaxis": {
             "endlinecolor": "#2a3f5f",
             "gridcolor": "white",
             "linecolor": "white",
             "minorgridcolor": "white",
             "startlinecolor": "#2a3f5f"
            },
            "baxis": {
             "endlinecolor": "#2a3f5f",
             "gridcolor": "white",
             "linecolor": "white",
             "minorgridcolor": "white",
             "startlinecolor": "#2a3f5f"
            },
            "type": "carpet"
           }
          ],
          "choropleth": [
           {
            "colorbar": {
             "outlinewidth": 0,
             "ticks": ""
            },
            "type": "choropleth"
           }
          ],
          "contour": [
           {
            "colorbar": {
             "outlinewidth": 0,
             "ticks": ""
            },
            "colorscale": [
             [
              0,
              "#0d0887"
             ],
             [
              0.1111111111111111,
              "#46039f"
             ],
             [
              0.2222222222222222,
              "#7201a8"
             ],
             [
              0.3333333333333333,
              "#9c179e"
             ],
             [
              0.4444444444444444,
              "#bd3786"
             ],
             [
              0.5555555555555556,
              "#d8576b"
             ],
             [
              0.6666666666666666,
              "#ed7953"
             ],
             [
              0.7777777777777778,
              "#fb9f3a"
             ],
             [
              0.8888888888888888,
              "#fdca26"
             ],
             [
              1,
              "#f0f921"
             ]
            ],
            "type": "contour"
           }
          ],
          "contourcarpet": [
           {
            "colorbar": {
             "outlinewidth": 0,
             "ticks": ""
            },
            "type": "contourcarpet"
           }
          ],
          "heatmap": [
           {
            "colorbar": {
             "outlinewidth": 0,
             "ticks": ""
            },
            "colorscale": [
             [
              0,
              "#0d0887"
             ],
             [
              0.1111111111111111,
              "#46039f"
             ],
             [
              0.2222222222222222,
              "#7201a8"
             ],
             [
              0.3333333333333333,
              "#9c179e"
             ],
             [
              0.4444444444444444,
              "#bd3786"
             ],
             [
              0.5555555555555556,
              "#d8576b"
             ],
             [
              0.6666666666666666,
              "#ed7953"
             ],
             [
              0.7777777777777778,
              "#fb9f3a"
             ],
             [
              0.8888888888888888,
              "#fdca26"
             ],
             [
              1,
              "#f0f921"
             ]
            ],
            "type": "heatmap"
           }
          ],
          "heatmapgl": [
           {
            "colorbar": {
             "outlinewidth": 0,
             "ticks": ""
            },
            "colorscale": [
             [
              0,
              "#0d0887"
             ],
             [
              0.1111111111111111,
              "#46039f"
             ],
             [
              0.2222222222222222,
              "#7201a8"
             ],
             [
              0.3333333333333333,
              "#9c179e"
             ],
             [
              0.4444444444444444,
              "#bd3786"
             ],
             [
              0.5555555555555556,
              "#d8576b"
             ],
             [
              0.6666666666666666,
              "#ed7953"
             ],
             [
              0.7777777777777778,
              "#fb9f3a"
             ],
             [
              0.8888888888888888,
              "#fdca26"
             ],
             [
              1,
              "#f0f921"
             ]
            ],
            "type": "heatmapgl"
           }
          ],
          "histogram": [
           {
            "marker": {
             "pattern": {
              "fillmode": "overlay",
              "size": 10,
              "solidity": 0.2
             }
            },
            "type": "histogram"
           }
          ],
          "histogram2d": [
           {
            "colorbar": {
             "outlinewidth": 0,
             "ticks": ""
            },
            "colorscale": [
             [
              0,
              "#0d0887"
             ],
             [
              0.1111111111111111,
              "#46039f"
             ],
             [
              0.2222222222222222,
              "#7201a8"
             ],
             [
              0.3333333333333333,
              "#9c179e"
             ],
             [
              0.4444444444444444,
              "#bd3786"
             ],
             [
              0.5555555555555556,
              "#d8576b"
             ],
             [
              0.6666666666666666,
              "#ed7953"
             ],
             [
              0.7777777777777778,
              "#fb9f3a"
             ],
             [
              0.8888888888888888,
              "#fdca26"
             ],
             [
              1,
              "#f0f921"
             ]
            ],
            "type": "histogram2d"
           }
          ],
          "histogram2dcontour": [
           {
            "colorbar": {
             "outlinewidth": 0,
             "ticks": ""
            },
            "colorscale": [
             [
              0,
              "#0d0887"
             ],
             [
              0.1111111111111111,
              "#46039f"
             ],
             [
              0.2222222222222222,
              "#7201a8"
             ],
             [
              0.3333333333333333,
              "#9c179e"
             ],
             [
              0.4444444444444444,
              "#bd3786"
             ],
             [
              0.5555555555555556,
              "#d8576b"
             ],
             [
              0.6666666666666666,
              "#ed7953"
             ],
             [
              0.7777777777777778,
              "#fb9f3a"
             ],
             [
              0.8888888888888888,
              "#fdca26"
             ],
             [
              1,
              "#f0f921"
             ]
            ],
            "type": "histogram2dcontour"
           }
          ],
          "mesh3d": [
           {
            "colorbar": {
             "outlinewidth": 0,
             "ticks": ""
            },
            "type": "mesh3d"
           }
          ],
          "parcoords": [
           {
            "line": {
             "colorbar": {
              "outlinewidth": 0,
              "ticks": ""
             }
            },
            "type": "parcoords"
           }
          ],
          "pie": [
           {
            "automargin": true,
            "type": "pie"
           }
          ],
          "scatter": [
           {
            "fillpattern": {
             "fillmode": "overlay",
             "size": 10,
             "solidity": 0.2
            },
            "type": "scatter"
           }
          ],
          "scatter3d": [
           {
            "line": {
             "colorbar": {
              "outlinewidth": 0,
              "ticks": ""
             }
            },
            "marker": {
             "colorbar": {
              "outlinewidth": 0,
              "ticks": ""
             }
            },
            "type": "scatter3d"
           }
          ],
          "scattercarpet": [
           {
            "marker": {
             "colorbar": {
              "outlinewidth": 0,
              "ticks": ""
             }
            },
            "type": "scattercarpet"
           }
          ],
          "scattergeo": [
           {
            "marker": {
             "colorbar": {
              "outlinewidth": 0,
              "ticks": ""
             }
            },
            "type": "scattergeo"
           }
          ],
          "scattergl": [
           {
            "marker": {
             "colorbar": {
              "outlinewidth": 0,
              "ticks": ""
             }
            },
            "type": "scattergl"
           }
          ],
          "scattermapbox": [
           {
            "marker": {
             "colorbar": {
              "outlinewidth": 0,
              "ticks": ""
             }
            },
            "type": "scattermapbox"
           }
          ],
          "scatterpolar": [
           {
            "marker": {
             "colorbar": {
              "outlinewidth": 0,
              "ticks": ""
             }
            },
            "type": "scatterpolar"
           }
          ],
          "scatterpolargl": [
           {
            "marker": {
             "colorbar": {
              "outlinewidth": 0,
              "ticks": ""
             }
            },
            "type": "scatterpolargl"
           }
          ],
          "scatterternary": [
           {
            "marker": {
             "colorbar": {
              "outlinewidth": 0,
              "ticks": ""
             }
            },
            "type": "scatterternary"
           }
          ],
          "surface": [
           {
            "colorbar": {
             "outlinewidth": 0,
             "ticks": ""
            },
            "colorscale": [
             [
              0,
              "#0d0887"
             ],
             [
              0.1111111111111111,
              "#46039f"
             ],
             [
              0.2222222222222222,
              "#7201a8"
             ],
             [
              0.3333333333333333,
              "#9c179e"
             ],
             [
              0.4444444444444444,
              "#bd3786"
             ],
             [
              0.5555555555555556,
              "#d8576b"
             ],
             [
              0.6666666666666666,
              "#ed7953"
             ],
             [
              0.7777777777777778,
              "#fb9f3a"
             ],
             [
              0.8888888888888888,
              "#fdca26"
             ],
             [
              1,
              "#f0f921"
             ]
            ],
            "type": "surface"
           }
          ],
          "table": [
           {
            "cells": {
             "fill": {
              "color": "#EBF0F8"
             },
             "line": {
              "color": "white"
             }
            },
            "header": {
             "fill": {
              "color": "#C8D4E3"
             },
             "line": {
              "color": "white"
             }
            },
            "type": "table"
           }
          ]
         },
         "layout": {
          "annotationdefaults": {
           "arrowcolor": "#2a3f5f",
           "arrowhead": 0,
           "arrowwidth": 1
          },
          "autotypenumbers": "strict",
          "coloraxis": {
           "colorbar": {
            "outlinewidth": 0,
            "ticks": ""
           }
          },
          "colorscale": {
           "diverging": [
            [
             0,
             "#8e0152"
            ],
            [
             0.1,
             "#c51b7d"
            ],
            [
             0.2,
             "#de77ae"
            ],
            [
             0.3,
             "#f1b6da"
            ],
            [
             0.4,
             "#fde0ef"
            ],
            [
             0.5,
             "#f7f7f7"
            ],
            [
             0.6,
             "#e6f5d0"
            ],
            [
             0.7,
             "#b8e186"
            ],
            [
             0.8,
             "#7fbc41"
            ],
            [
             0.9,
             "#4d9221"
            ],
            [
             1,
             "#276419"
            ]
           ],
           "sequential": [
            [
             0,
             "#0d0887"
            ],
            [
             0.1111111111111111,
             "#46039f"
            ],
            [
             0.2222222222222222,
             "#7201a8"
            ],
            [
             0.3333333333333333,
             "#9c179e"
            ],
            [
             0.4444444444444444,
             "#bd3786"
            ],
            [
             0.5555555555555556,
             "#d8576b"
            ],
            [
             0.6666666666666666,
             "#ed7953"
            ],
            [
             0.7777777777777778,
             "#fb9f3a"
            ],
            [
             0.8888888888888888,
             "#fdca26"
            ],
            [
             1,
             "#f0f921"
            ]
           ],
           "sequentialminus": [
            [
             0,
             "#0d0887"
            ],
            [
             0.1111111111111111,
             "#46039f"
            ],
            [
             0.2222222222222222,
             "#7201a8"
            ],
            [
             0.3333333333333333,
             "#9c179e"
            ],
            [
             0.4444444444444444,
             "#bd3786"
            ],
            [
             0.5555555555555556,
             "#d8576b"
            ],
            [
             0.6666666666666666,
             "#ed7953"
            ],
            [
             0.7777777777777778,
             "#fb9f3a"
            ],
            [
             0.8888888888888888,
             "#fdca26"
            ],
            [
             1,
             "#f0f921"
            ]
           ]
          },
          "colorway": [
           "#636efa",
           "#EF553B",
           "#00cc96",
           "#ab63fa",
           "#FFA15A",
           "#19d3f3",
           "#FF6692",
           "#B6E880",
           "#FF97FF",
           "#FECB52"
          ],
          "font": {
           "color": "#2a3f5f"
          },
          "geo": {
           "bgcolor": "white",
           "lakecolor": "white",
           "landcolor": "#E5ECF6",
           "showlakes": true,
           "showland": true,
           "subunitcolor": "white"
          },
          "hoverlabel": {
           "align": "left"
          },
          "hovermode": "closest",
          "mapbox": {
           "style": "light"
          },
          "paper_bgcolor": "white",
          "plot_bgcolor": "#E5ECF6",
          "polar": {
           "angularaxis": {
            "gridcolor": "white",
            "linecolor": "white",
            "ticks": ""
           },
           "bgcolor": "#E5ECF6",
           "radialaxis": {
            "gridcolor": "white",
            "linecolor": "white",
            "ticks": ""
           }
          },
          "scene": {
           "xaxis": {
            "backgroundcolor": "#E5ECF6",
            "gridcolor": "white",
            "gridwidth": 2,
            "linecolor": "white",
            "showbackground": true,
            "ticks": "",
            "zerolinecolor": "white"
           },
           "yaxis": {
            "backgroundcolor": "#E5ECF6",
            "gridcolor": "white",
            "gridwidth": 2,
            "linecolor": "white",
            "showbackground": true,
            "ticks": "",
            "zerolinecolor": "white"
           },
           "zaxis": {
            "backgroundcolor": "#E5ECF6",
            "gridcolor": "white",
            "gridwidth": 2,
            "linecolor": "white",
            "showbackground": true,
            "ticks": "",
            "zerolinecolor": "white"
           }
          },
          "shapedefaults": {
           "line": {
            "color": "#2a3f5f"
           }
          },
          "ternary": {
           "aaxis": {
            "gridcolor": "white",
            "linecolor": "white",
            "ticks": ""
           },
           "baxis": {
            "gridcolor": "white",
            "linecolor": "white",
            "ticks": ""
           },
           "bgcolor": "#E5ECF6",
           "caxis": {
            "gridcolor": "white",
            "linecolor": "white",
            "ticks": ""
           }
          },
          "title": {
           "x": 0.05
          },
          "xaxis": {
           "automargin": true,
           "gridcolor": "white",
           "linecolor": "white",
           "ticks": "",
           "title": {
            "standoff": 15
           },
           "zerolinecolor": "white",
           "zerolinewidth": 2
          },
          "yaxis": {
           "automargin": true,
           "gridcolor": "white",
           "linecolor": "white",
           "ticks": "",
           "title": {
            "standoff": 15
           },
           "zerolinecolor": "white",
           "zerolinewidth": 2
          }
         }
        },
        "width": 1000,
        "xaxis": {
         "showgrid": false,
         "showline": false,
         "showticklabels": false,
         "zeroline": false
        },
        "yaxis": {
         "showgrid": false,
         "showline": false,
         "showticklabels": false,
         "zeroline": false
        }
       }
      }
     },
     "metadata": {},
     "output_type": "display_data"
    }
   ],
   "source": [
    "nodes2,n2 = build_hyper_tree(folder_path2)\n",
    "show_tree(nodes2[0]).show_fig()"
   ]
  },
  {
   "cell_type": "code",
   "execution_count": 18,
   "metadata": {},
   "outputs": [
    {
     "name": "stdout",
     "output_type": "stream",
     "text": [
      "The mininum cost for alignment is 516.4751879699248\n",
      "The alignment edges list is [('398', '398'), ('395', '387'), ('390', '376'), ('374', '362'), ('370', '353'), ('332', '293'), ('313', '240'), ('288', '239'), ('174', '40'), ('112', '169'), ('85', '55'), ('217', '247'), ('95', '94'), ('53', '34'), ('136', '68'), ('343', '344'), ('339', '297'), ('130', '161'), ('2', '144'), ('323', '341'), ('289', '284'), ('65', '58'), ('19', '173'), ('131', '164'), ('388', '373'), ('381', '364'), ('369', '339'), ('178', '86'), ('239', '295'), ('227', '241'), ('215', '221'), ('138', '91'), ('66', '33'), ('155', '47'), ('158', '139'), ('328', '354'), ('322', '345'), ('299', '303'), ('264', '291'), ('241', '288'), ('92', '19'), ('42', '64'), ('211', '231'), ('122', '8'), ('114', '129'), ('229', '232'), ('104', '2'), ('24', '38'), ('286', '331'), ('163', '93'), ('283', '313'), ('188', '166'), ('96', '235'), ('311', '318'), ('263', '259'), ('214', '256'), ('137', '131'), ('60', '74'), ('51', '128'), ('100', '170'), ('363', '356'), ('269', '305'), ('195', '87'), ('14', '175'), ('212', '316'), ('191', '146'), ('57', '228'), ('393', '366'), ('392', '358'), ('382', '355'), ('373', '350'), ('243', '336'), ('210', '302'), ('157', '92'), ('102', '117'), ('129', '165'), ('64', '104'), ('371', '338'), ('344', '337'), ('314', '332'), ('310', '213'), ('93', '24'), ('22', '122'), ('107', '138'), ('175', '43'), ('282', '310'), ('274', '269'), ('248', '212'), ('166', '78'), ('103', '98'), ('221', '257'), ('142', '45'), ('74', '137'), ('222', '265'), ('172', '177'), ('127', '216'), ('238', '320'), ('151', '308'), ('143', '155'), ('386', '359'), ('201', '298'), ('128', '100'), ('43', '42'), ('361', '349'), ('345', '261'), ('200', '245'), ('80', '72'), ('38', '158'), ('35', '127'), ('301', '323'), ('76', '114'), ('21', '60'), ('389', '397'), ('387', '395'), ('385', '370'), ('379', '368'), ('377', '286'), ('366', '201'), ('25', '99'), ('267', '184'), ('372', '255'), ('349', '210'), ('216', '26'), ('7', '37'), ('186', '141'), ('368', '352'), ('362', '340'), ('356', '335'), ('334', '325'), ('333', '314'), ('318', '294'), ('317', '290'), ('307', '246'), ('110', '190'), ('67', '79'), ('18', '181'), ('261', '267'), ('152', '5'), ('48', '83'), ('254', '280'), ('246', '208'), ('99', '150'), ('39', '63'), ('119', '152'), ('302', '222'), ('190', '46'), ('182', '187'), ('219', '217'), ('140', '31'), ('101', '18'), ('308', '317'), ('290', '254'), ('284', '237'), ('251', '219'), ('153', '185'), ('121', '197'), ('162', '23'), ('160', '171'), ('231', '276'), ('187', '123'), ('46', '75'), ('358', '329'), ('353', '306'), ('324', '299'), ('305', '220'), ('73', '192'), ('12', '6'), ('303', '287'), ('298', '270'), ('291', '209'), ('198', '162'), ('135', '106'), ('208', '223'), ('111', '126'), ('26', '156'), ('97', '236'), ('79', '48'), ('32', '0'), ('4', '153'), ('384', '388'), ('337', '292'), ('77', '101'), ('297', '271'), ('278', '140'), ('116', '67'), ('364', '386'), ('350', '384'), ('329', '374'), ('327', '268'), ('250', '233'), ('146', '199'), ('15', '11'), ('161', '110'), ('312', '300'), ('272', '275'), ('271', '111'), ('253', '273'), ('206', '244'), ('165', '189'), ('132', '56'), ('144', '179'), ('45', '10'), ('315', '383'), ('237', '380'), ('225', '327'), ('202', '321'), ('148', '160'), ('36', '180'), ('168', '39'), ('68', '13'), ('279', '312'), ('255', '285'), ('134', '147'), ('139', '135'), ('86', '59'), ('341', '382'), ('98', '84'), ('87', '182'), ('378', '396'), ('359', '385'), ('326', '277'), ('245', '207'), ('59', '14'), ('5', '71'), ('236', '200'), ('179', '191'), ('23', '163'), ('156', '57'), ('330', '392'), ('309', '378'), ('192', '195'), ('184', '89'), ('54', '149')]\n",
      "average cost for one node:0.6472120149999058\n"
     ]
    }
   ],
   "source": [
    "nodes1,n1 = build_hyper_tree(folder_path)\n",
    "# show_tree(nodes1[0]).show_fig()\n",
    "nodes2,n2 = build_hyper_tree(folder_path2)\n",
    "# show_tree(nodes2[0]).show_fig()\n",
    "T=tree_alignment(nodes1[0],nodes2[0],1);\n",
    "minn = T.run_alignment();\n",
    "T.show_ans();\n",
    "ans = T.get_ans()\n",
    "G=show_graph(ans,nodes1[0],nodes2[0]);\n",
    "# G.show_fig()\n",
    "print(\"average cost for one node:{}\".format(minn/(n1+n2)))"
   ]
  },
  {
   "cell_type": "code",
   "execution_count": 24,
   "metadata": {},
   "outputs": [
    {
     "data": {
      "text/plain": [
       "'Layer1'"
      ]
     },
     "execution_count": 24,
     "metadata": {},
     "output_type": "execute_result"
    }
   ],
   "source": [
    "datas = sc.read_h5ad('./datas/nature/adata_subset.h5')\n",
    "datas.obs.layer_guess_reordered"
   ]
  },
  {
   "cell_type": "code",
   "execution_count": 32,
   "metadata": {},
   "outputs": [
    {
     "name": "stdout",
     "output_type": "stream",
     "text": [
      "0.095\n"
     ]
    }
   ],
   "source": [
    "all = 200;\n",
    "count =0;\n",
    "for i,j in ans:\n",
    "    i = int(i);\n",
    "    j = int(j);\n",
    "    if(i<200 and j<200):\n",
    "        # all+=1\n",
    "        if(datas.obs.layer_guess_reordered[i] == datas.obs.layer_guess_reordered[j]):\n",
    "            count+=1;\n",
    "print(count/all)"
   ]
  },
  {
   "cell_type": "code",
   "execution_count": 31,
   "metadata": {},
   "outputs": [
    {
     "data": {
      "text/plain": [
       "19"
      ]
     },
     "execution_count": 31,
     "metadata": {},
     "output_type": "execute_result"
    }
   ],
   "source": [
    "count"
   ]
  },
  {
   "cell_type": "code",
   "execution_count": null,
   "metadata": {},
   "outputs": [],
   "source": []
  },
  {
   "cell_type": "code",
   "execution_count": null,
   "metadata": {},
   "outputs": [],
   "source": []
  }
 ],
 "metadata": {
  "kernelspec": {
   "display_name": "base",
   "language": "python",
   "name": "python3"
  },
  "language_info": {
   "codemirror_mode": {
    "name": "ipython",
    "version": 3
   },
   "file_extension": ".py",
   "mimetype": "text/x-python",
   "name": "python",
   "nbconvert_exporter": "python",
   "pygments_lexer": "ipython3",
   "version": "3.8.16"
  },
  "orig_nbformat": 4
 },
 "nbformat": 4,
 "nbformat_minor": 2
}
