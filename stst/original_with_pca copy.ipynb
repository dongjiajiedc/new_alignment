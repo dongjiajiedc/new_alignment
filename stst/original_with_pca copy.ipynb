{
 "cells": [
  {
   "cell_type": "code",
   "execution_count": 1,
   "metadata": {},
   "outputs": [],
   "source": [
    "from read_data import *\n",
    "from hyper import *\n",
    "from alignment import *\n",
    "from copy import *\n",
    "from datasets.preprecossing import *\n",
    "import rpy2\n",
    "from sklearn.metrics.pairwise import cosine_similarity\n",
    "from scipy.cluster import hierarchy\n",
    "from math import sin,cos,pi\n",
    "import scipy\n",
    "\n",
    "import seaborn as sns\n",
    "\n",
    "folder_path = './datas/101/'\n",
    "folder_path2 = './datas/100/'\n",
    "pcanum = 20\n",
    "tempnum = 200"
   ]
  },
  {
   "cell_type": "code",
   "execution_count": 2,
   "metadata": {},
   "outputs": [],
   "source": [
    "def rotate_spots(grid,spots,theta=0,translation=0,center_correction=0,figsize=(5,5),plot=True):\n",
    "    grid = grid.copy() + center_correction\n",
    "    spots = spots.copy() + center_correction\n",
    "    R = np.array([[np.cos(theta),-np.sin(theta)],[np.sin(theta),np.cos(theta)]])\n",
    "    rotated_spots = np.array([R.dot(spots[i]) for i in range(len(spots))])\n",
    "    rotated_spots += translation\n",
    "\n",
    "    new_spots = grid[np.argmin(scipy.spatial.distance.cdist(rotated_spots,grid),axis=1)]\n",
    "\n",
    "    grid -= center_correction\n",
    "    spots -= center_correction\n",
    "    rotated_spots -= center_correction\n",
    "    new_spots -= center_correction\n",
    "\n",
    "    seen = {}\n",
    "    mapping = []\n",
    "    for i in range(len(new_spots)):\n",
    "        if tuple(new_spots[i]) in seen: continue\n",
    "        seen[tuple(new_spots[i])] = 1\n",
    "        mapping.append(i)\n",
    "\n",
    "    if plot:\n",
    "        fig = plt.figure(figsize=figsize)\n",
    "        sns.scatterplot(x = grid[:,0],y = grid[:,1],linewidth=0,s=100, marker=\".\",alpha=0.2,color='blue')\n",
    "        sns.scatterplot(x = rotated_spots[:,0],y = rotated_spots[:,1],linewidth=0,s=100, marker=\".\",color='red')\n",
    "        sns.scatterplot(x = new_spots[:,0],y = new_spots[:,1],linewidth=0,s=100, marker=\".\",color='green')\n",
    "        plt.show()\n",
    "\n",
    "    return new_spots,mapping\n",
    "\n",
    "def simulate_spatial(adata, rotation_angle):\n",
    "    adata_sim = adata.copy()\n",
    "    grid_size = 800\n",
    "    layer_grid = np.array([[x,y] for x in range(grid_size) for y in range(grid_size)])\n",
    "    new_spots, mappings = rotate_spots(layer_grid, adata.obsm['spatial'], center_correction=-15, theta= rotation_angle)\n",
    "    adata_sim.obsm['spatial'] = new_spots\n",
    "    return adata_sim[mappings, :], mappings"
   ]
  },
  {
   "cell_type": "code",
   "execution_count": 3,
   "metadata": {},
   "outputs": [],
   "source": [
    "def simulate_gene_exp(adata, pc = 0.25, factor = 1):\n",
    "    \"\"\"\n",
    "    Adds noise to gene expression data. The rows are simulated according to a Multinomial distribution, \n",
    "    with the total counts per spot drawn from a Negative Binomial Distribution.\n",
    "    param: pc- Pseudocount to be added to dataframe\n",
    "    param: factor - amount by which we scale the variance (to increase noise)\n",
    "    \"\"\"\n",
    "    adata_sim = adata.copy()\n",
    "    df = pd.DataFrame(adata_sim.X.toarray())\n",
    "    # add pseudocounts \n",
    "    alpha = df.copy().to_numpy() + pc\n",
    "\n",
    "    # get vector of total counts per spot\n",
    "    n = df.sum(axis=1).to_numpy()\n",
    "\n",
    "    # Simulate total counts using negative binomial\n",
    "    mean = np.mean(n)\n",
    "    var = np.var(n)*factor\n",
    "    n = sample_nb(mean, var, len(n)).astype(int)\n",
    "\n",
    "    # Reassign zero counts so we don't divide by 0 in future calcuation\n",
    "    n[n == 0] = 1\n",
    "\n",
    "    # convert to float\n",
    "    alpha = np.array(alpha, dtype=np.float64)\n",
    "    n = np.array(n, dtype=np.float64)\n",
    "\n",
    "    # convert rows to unit vectors\n",
    "    alpha = alpha/alpha.sum(axis=1)[:, None]\n",
    "\n",
    "    dist = np.empty(df.shape)\n",
    "    for i in range(alpha.shape[0]):\n",
    "        dist[i] = np.random.multinomial(n[i], alpha[i])\n",
    "    new_df = pd.DataFrame(dist, index= df.index, columns= df.columns)\n",
    "    adata_sim.X = new_df\n",
    "    return adata_sim\n",
    "\n",
    "def sample_nb(m, v, n = 1):\n",
    "    \"\"\"\n",
    "    param: m - mean\n",
    "    param: v - variance\n",
    "    param: n - number of samples\n",
    "    return: random sample from negative binomial distribution\n",
    "    \"\"\"\n",
    "    r = m**2/(v - m)\n",
    "    p = m/v\n",
    "    samples = np.random.negative_binomial(r, p, n)\n",
    "    return samples"
   ]
  },
  {
   "cell_type": "code",
   "execution_count": 4,
   "metadata": {},
   "outputs": [],
   "source": [
    "datas = sc.read_h5ad(\"./datas/nature/151507_preprocessed.h5\")\n",
    "adata_subset = datas[:tempnum,:]\n",
    "adata_subset\n",
    "sc.write('./datas/nature/adata_subset.h5',adata_subset)"
   ]
  },
  {
   "cell_type": "code",
   "execution_count": 5,
   "metadata": {},
   "outputs": [
    {
     "data": {
      "image/png": "[encoded data removed]",
      "text/plain": [
       "<Figure size 500x500 with 1 Axes>"
      ]
     },
     "metadata": {},
     "output_type": "display_data"
    }
   ],
   "source": [
    "datas = sc.read_h5ad(\"./datas/nature/adata_subset.h5\")\n",
    "datas = simulate_gene_exp(datas)\n",
    "datas,m = simulate_spatial(datas,-pi/12);\n",
    "\n",
    "count_sub = datas.to_df()\n",
    "xy_coords = pd.DataFrame(datas.obsm['spatial'],columns=['imagerow','imagecol'],index= datas.obs.index)\n",
    "xy_coords.to_csv(folder_path+\"xy.csv\")\n",
    "datas.obs.to_csv(folder_path+'meta_data.csv');\n",
    "count_sub.T.to_csv(folder_path+\"gene.csv\")"
   ]
  },
  {
   "cell_type": "code",
   "execution_count": 6,
   "metadata": {},
   "outputs": [
    {
     "data": {
      "text/plain": [
       "View of AnnData object with n_obs × n_vars = 200 × 9948\n",
       "    obs: 'in_tissue', 'array_row', 'array_col', 'imagerow', 'imagecol', 'sum_umi', 'sum_gene', 'subject', 'position', 'replicate', 'discard', 'cell_count', 'layer_guess', 'layer_guess_reordered', 'layer_guess_reordered_short', 'n_genes_by_counts', 'log1p_n_genes_by_counts', 'total_counts', 'log1p_total_counts', 'pct_counts_in_top_50_genes', 'pct_counts_in_top_100_genes', 'pct_counts_in_top_200_genes', 'pct_counts_in_top_500_genes', 'n_counts'\n",
       "    var: 'gene_ids', 'feature_types', 'genome', 'n_cells_by_counts', 'mean_counts', 'log1p_mean_counts', 'pct_dropout_by_counts', 'total_counts', 'log1p_total_counts', 'n_counts'\n",
       "    uns: 'layer_guess_reordered_colors'\n",
       "    obsm: 'spatial'"
      ]
     },
     "execution_count": 6,
     "metadata": {},
     "output_type": "execute_result"
    }
   ],
   "source": [
    "datas"
   ]
  },
  {
   "cell_type": "code",
   "execution_count": 7,
   "metadata": {},
   "outputs": [
    {
     "name": "stdout",
     "output_type": "stream",
     "text": [
      "\n",
      "    WARNING: The R package \"reticulate\" only fixed recently\n",
      "    an issue that caused a segfault when used with rpy2:\n",
      "    https://github.com/rstudio/reticulate/pull/1188\n",
      "    Make sure that you use a version of that package that includes\n",
      "    the fix.\n",
      "    ## Use SCTransform function in Seurat to normalize data. \n"
     ]
    },
    {
     "name": "stderr",
     "output_type": "stream",
     "text": [
      "R[write to console]: Calculating cell attributes from input UMI matrix: log_umi\n",
      "\n",
      "R[write to console]: Variance stabilizing transformation of count matrix of size 9760 by 200\n",
      "\n",
      "R[write to console]: Model formula is y ~ log_umi\n",
      "\n",
      "R[write to console]: Get Negative Binomial regression parameters per gene\n",
      "\n",
      "R[write to console]: Using 2000 genes, 200 cells\n",
      "\n"
     ]
    },
    {
     "name": "stdout",
     "output_type": "stream",
     "text": [
      "  |======================================================================| 100%\n"
     ]
    },
    {
     "name": "stderr",
     "output_type": "stream",
     "text": [
      "R[write to console]: Second step: Get residuals using fitted parameters for 9760 genes\n",
      "\n"
     ]
    },
    {
     "name": "stdout",
     "output_type": "stream",
     "text": [
      "  |======================================================================| 100%\n"
     ]
    },
    {
     "name": "stderr",
     "output_type": "stream",
     "text": [
      "R[write to console]: Computing corrected count matrix for 9760 genes\n",
      "\n"
     ]
    },
    {
     "name": "stdout",
     "output_type": "stream",
     "text": [
      "  |======================================================================| 100%\n"
     ]
    },
    {
     "name": "stderr",
     "output_type": "stream",
     "text": [
      "R[write to console]: Calculating gene attributes\n",
      "\n",
      "R[write to console]: Wall clock passed: Time difference of 3.789024 secs\n",
      "\n",
      "R[write to console]: Determine variable features\n",
      "\n",
      "R[write to console]: Place corrected count matrix in counts slot\n",
      "\n",
      "R[write to console]: Centering data matrix\n",
      "\n",
      "  |                                                                            \n",
      "  |                                                                      |   0%\n",
      "  |                                                                            \n",
      "  |=====                                                                 |   7%\n",
      "  |                                                                            \n",
      "  |==========                                                            |  14%\n",
      "  |                                                                            \n",
      "  |===============                                                       |  21%\n",
      "  |                                                                            \n",
      "  |====================                                                  |  29%\n",
      "  |                                                                            \n",
      "  |=========================                                             |  36%\n",
      "  |                                                                            \n",
      "  |==============================                                        |  43%\n",
      "  |                                                                            \n",
      "  |===================================                                   |  50%\n",
      "  |                                                                            \n",
      "  |========================================                              |  57%\n",
      "  |                                                                            \n",
      "  |=============================================                         |  64%\n",
      "  |                                                                            \n",
      "  |==================================================                    |  71%\n",
      "  |                                                                            \n",
      "  |=======================================================               |  79%\n",
      "  |                                                                            \n",
      "  |============================================================          |  86%\n",
      "  |                                                                            \n",
      "  |=================================================================     |  93%\n",
      "  |                                                                            \n",
      "  |======================================================================| 100%\n",
      "R[write to console]: \n",
      "\n",
      "R[write to console]: Set default assay to SCT\n",
      "\n"
     ]
    },
    {
     "name": "stdout",
     "output_type": "stream",
     "text": [
      "## Use spark.test function in SPARK package to select spatially variable genes. \n",
      "## ===== SPARK INPUT INFORMATION ==== \n",
      "## number of total samples:  200 \n",
      "## number of total features:  9760 \n",
      "## number of adjusted covariates:  0 \n",
      "# fitting normalized count-based spatial model under the null hypothesis ... \n",
      "## testing Gaussian kernel: 1...\n",
      "## testing Periodic kernel: 1...\n",
      "## testing Gaussian kernel: 2...\n",
      "## testing Periodic kernel: 2...\n",
      "## testing Gaussian kernel: 3...\n",
      "## testing Periodic kernel: 3...\n",
      "## testing Gaussian kernel: 4...\n",
      "## testing Periodic kernel: 4...\n",
      "## testing Gaussian kernel: 5...\n",
      "## testing Periodic kernel: 5...\n",
      "## Identified  21  spatial genes through spark.test function. \n",
      "The  number of significant spatial genes is less than the specified number of spatial genes. \n",
      "## Using  21  significant spatially variable genes. \n",
      "## Selected kernel type is:  gaussian  \n",
      "## The bandwidth is:  0.236685413938515  \n",
      "## Calculating kernel matrix\n",
      "## Finished calculating kernel matrix.\n",
      "[1] \"Eigen decomposition on kernel matrix!\"\n",
      "[1] \"Using all eigenvectors and eigenvalues in the Kernel matrix!\"\n"
     ]
    }
   ],
   "source": [
    "# robjects.r(\"load(paste0('./datas/pca/DLPFC/LIBD_sample1.RData'))\")\n",
    "from rpy2.robjects.packages import importr\n",
    "import rpy2.robjects as robjects\n",
    "\n",
    "Spatialpc  = importr('SpatialPCA')\n",
    "ggplot2 = importr('ggplot2')\n",
    "matrix = importr('Matrix')\n",
    "robjects.r(\"xy_coords <- read.csv('{}',row.names='X')\".format(folder_path + 'xy.csv'))\n",
    "robjects.r(\"xy_coords=as.matrix(xy_coords)\")\n",
    "robjects.r(\"count_temp <- read.csv('{}',row.names='X')\".format(folder_path + 'gene.csv'))\n",
    "robjects.r('my_matrix <- do.call(cbind, count_temp)')\n",
    "robjects.r('my_sparse_matrix <- Matrix(my_matrix, sparse = TRUE)')\n",
    "robjects.r('count_sub <- as(my_sparse_matrix, \"dgCMatrix\")')\n",
    "robjects.r('rownames(count_sub) <- rownames(count_temp)')\n",
    "robjects.r(\"rownames(xy_coords) = colnames(count_sub)\");\n",
    "robjects.r('LIBD = CreateSpatialPCAObject(counts=count_sub, location=xy_coords, project = \"SpatialPCA\",gene.type=\"spatial\",sparkversion=\"spark\",numCores_spark=5,gene.number=3000, customGenelist=NULL,min.loctions = 20, min.features=20)')\n",
    "robjects.r('LIBD = SpatialPCA_buildKernel(LIBD, kerneltype=\"gaussian\", bandwidthtype=\"SJ\",bandwidth.set.by.user=NULL)')\n",
    "robjects.r('LIBD = SpatialPCA_EstimateLoading(LIBD,fast=FALSE,SpatialPCnum={})'.format(pcanum))\n",
    "robjects.r('LIBD = SpatialPCA_SpatialPCs(LIBD, fast=FALSE)')\n",
    "robjects.r('write.csv(as.data.frame(LIBD@SpatialPCs), file = \"{}\")'.format(folder_path + \"pca.csv\"))"
   ]
  },
  {
   "cell_type": "code",
   "execution_count": 8,
   "metadata": {},
   "outputs": [
    {
     "name": "stderr",
     "output_type": "stream",
     "text": [
      "/var/folders/bm/69jvgsdj3rxch558kx9yp9y00000gn/T/ipykernel_10196/3124441846.py:3: FutureWarning: The default value of regex will change from True to False in a future version. In addition, single character regular expressions will *not* be treated as literal strings when regex=True.\n",
      "  adata1.index = adata1.index.str.replace('.', '-')\n"
     ]
    }
   ],
   "source": [
    "adata1 = pd.read_csv(folder_path+\"pca.csv\")\n",
    "adata1 = adata1.set_index(adata1.columns[0]).T\n",
    "adata1.index = adata1.index.str.replace('.', '-')\n",
    "similarity_matrix = 1 - cosine_similarity(adata1)\n",
    "n=len(similarity_matrix);\n",
    "Z = hierarchy.linkage(similarity_matrix, 'ward')\n",
    "\n",
    "nodes1 = [node(name=str(i),son=[]) for i in range(2*n-1)]\n",
    "for i in range(n):\n",
    "    nodes1[i].value = adata1.iloc[i].to_numpy()\n",
    "for i in range(n-1):\n",
    "    nodes1[n+i].son.append(nodes1[int(Z[i][0])])\n",
    "    nodes1[n+i].son.append(nodes1[int(Z[i][1])])\n",
    "    nodes1[n+i].value = nodes1[n+i].son[0].value  + nodes1[n+i].son[1].value\n",
    "    nodes1[n+i].value /=2\n"
   ]
  },
  {
   "cell_type": "code",
   "execution_count": 9,
   "metadata": {},
   "outputs": [
    {
     "name": "stderr",
     "output_type": "stream",
     "text": [
      "/var/folders/bm/69jvgsdj3rxch558kx9yp9y00000gn/T/ipykernel_10196/2141407943.py:3: FutureWarning: The default value of regex will change from True to False in a future version. In addition, single character regular expressions will *not* be treated as literal strings when regex=True.\n",
      "  adata2.index = adata2.index.str.replace('.', '-')\n"
     ]
    }
   ],
   "source": [
    "adata2 = pd.read_csv(folder_path2+\"pca.csv\")\n",
    "adata2 = adata2.set_index(adata2.columns[0]).T\n",
    "adata2.index = adata2.index.str.replace('.', '-')\n",
    "similarity_matrix = 1 - cosine_similarity(adata2)\n",
    "n=len(similarity_matrix);\n",
    "Z = hierarchy.linkage(similarity_matrix, 'ward')\n",
    "\n",
    "nodes2 = [node(name=str(i),son=[]) for i in range(2*n-1)]\n",
    "for i in range(n):\n",
    "    nodes2[i].value = adata2.iloc[i].to_numpy()\n",
    "for i in range(n-1):\n",
    "    nodes2[n+i].son.append(nodes2[int(Z[i][0])])\n",
    "    nodes2[n+i].son.append(nodes2[int(Z[i][1])])\n",
    "    nodes2[n+i].value = nodes2[n+i].son[0].value  + nodes2[n+i].son[1].value\n",
    "    nodes2[n+i].value /=2\n"
   ]
  },
  {
   "cell_type": "code",
   "execution_count": 10,
   "metadata": {},
   "outputs": [
    {
     "name": "stdout",
     "output_type": "stream",
     "text": [
      "The mininum cost for alignment is 442.8285714285714\n",
      "The alignment edges list is [('398', '398'), ('397', '397'), ('395', '390'), ('393', '386'), ('383', '376'), ('378', '353'), ('373', '314'), ('329', '304'), ('288', '262'), ('259', '247'), ('241', '214'), ('207', '202'), ('15', '185'), ('8', '197'), ('47', '88'), ('90', '6'), ('36', '106'), ('125', '20'), ('260', '259'), ('115', '69'), ('210', '240'), ('202', '217'), ('146', '171'), ('16', '75'), ('148', '3'), ('319', '327'), ('286', '243'), ('176', '63'), ('77', '150'), ('284', '288'), ('253', '241'), ('221', '230'), ('145', '31'), ('133', '181'), ('70', '83'), ('34', '141'), ('332', '237'), ('301', '204'), ('127', '192'), ('157', '23'), ('17', '156'), ('370', '362'), ('364', '354'), ('330', '311'), ('275', '265'), ('108', '199'), ('50', '11'), ('215', '210'), ('109', '194'), ('71', '126'), ('222', '294'), ('98', '119'), ('62', '32'), ('335', '346'), ('285', '287'), ('165', '54'), ('45', '5'), ('282', '298'), ('204', '256'), ('173', '184'), ('40', '37'), ('220', '244'), ('91', '26'), ('41', '73'), ('392', '371'), ('387', '352'), ('382', '329'), ('359', '273'), ('19', '187'), ('64', '162'), ('346', '232'), ('304', '121'), ('29', '7'), ('356', '309'), ('21', '190'), ('65', '140'), ('381', '366'), ('368', '286'), ('80', '101'), ('261', '245'), ('143', '99'), ('28', '153'), ('349', '358'), ('341', '334'), ('315', '292'), ('250', '255'), ('172', '97'), ('103', '12'), ('166', '152'), ('302', '231'), ('142', '48'), ('105', '18'), ('271', '313'), ('227', '272'), ('107', '198'), ('93', '27'), ('33', '79'), ('394', '394'), ('391', '392'), ('389', '391'), ('379', '375'), ('376', '369'), ('314', '332'), ('270', '120'), ('54', '176'), ('328', '341'), ('245', '323'), ('97', '49'), ('12', '44'), ('48', '25'), ('283', '357'), ('246', '325'), ('156', '182'), ('23', '30'), ('192', '116'), ('375', '380'), ('366', '355'), ('340', '322'), ('179', '50'), ('198', '108'), ('333', '321'), ('182', '89'), ('116', '149'), ('305', '347'), ('110', '160'), ('243', '312'), ('189', '186'), ('67', '46'), ('380', '381'), ('365', '359'), ('350', '305'), ('307', '223'), ('187', '111'), ('162', '110'), ('255', '249'), ('121', '67'), ('7', '189'), ('291', '284'), ('186', '13'), ('46', '39'), ('363', '361'), ('342', '336'), ('268', '318'), ('238', '225'), ('153', '135'), ('99', '59'), ('101', '56'), ('160', '179'), ('119', '4'), ('386', '384'), ('377', '377'), ('263', '293'), ('39', '123'), ('13', '0'), ('318', '342'), ('190', '96'), ('140', '195'), ('369', '364'), ('278', '82'), ('351', '316'), ('308', '253'), ('193', '14'), ('84', '191'), ('293', '279'), ('196', '57'), ('132', '163'), ('396', '396'), ('390', '395'), ('385', '387'), ('371', '370'), ('343', '349'), ('287', '344'), ('247', '307'), ('213', '266'), ('178', '117'), ('138', '78'), ('137', '9'), ('155', '154'), ('81', '177'), ('212', '274'), ('51', '71'), ('24', '109'), ('367', '382'), ('344', '351'), ('267', '300'), ('240', '271'), ('95', '165'), ('53', '45'), ('131', '167'), ('331', '317'), ('217', '218'), ('174', '98'), ('112', '62'), ('158', '43'), ('310', '337'), ('205', '235'), ('136', '173'), ('118', '40'), ('72', '91'), ('384', '389'), ('374', '368'), ('361', '261'), ('298', '215'), ('123', '136'), ('0', '118'), ('96', '2'), ('338', '222'), ('269', '112'), ('130', '174'), ('353', '388'), ('279', '372'), ('258', '350'), ('236', '339'), ('208', '221'), ('163', '66'), ('57', '85'), ('201', '310'), ('191', '157'), ('14', '80'), ('92', '17'), ('195', '252'), ('272', '374'), ('254', '281'), ('114', '81'), ('122', '24'), ('239', '363'), ('209', '216'), ('100', '137'), ('42', '178'), ('60', '138'), ('388', '393'), ('362', '379'), ('347', '348'), ('326', '315'), ('264', '278'), ('219', '220'), ('194', '68'), ('126', '169'), ('11', '164'), ('199', '55'), ('306', '328'), ('297', '308'), ('37', '196'), ('31', '34'), ('141', '132'), ('317', '254'), ('184', '145'), ('79', '77'), ('358', '385'), ('345', '365'), ('320', '319'), ('277', '229'), ('106', '52'), ('20', '134'), ('233', '213'), ('181', '139'), ('83', '86'), ('56', '124'), ('323', '373'), ('300', '360'), ('280', '331'), ('256', '280'), ('225', '239'), ('200', '207'), ('197', '93'), ('185', '107'), ('88', '33'), ('6', '129'), ('3', '103'), ('249', '269'), ('228', '226'), ('75', '170'), ('69', '151'), ('171', '61'), ('230', '306'), ('214', '224'), ('159', '38'), ('63', '29'), ('150', '142')]\n"
     ]
    }
   ],
   "source": [
    "T=tree_alignment(nodes1[-1],nodes2[-1],1);\n",
    "minn = T.run_alignment();\n",
    "T.show_ans();\n",
    "ans = T.get_ans()\n"
   ]
  },
  {
   "cell_type": "code",
   "execution_count": 11,
   "metadata": {},
   "outputs": [
    {
     "data": {
      "text/plain": [
       "0.5549230218403151"
      ]
     },
     "execution_count": 11,
     "metadata": {},
     "output_type": "execute_result"
    }
   ],
   "source": [
    "minn/2/(2*n-1)"
   ]
  },
  {
   "cell_type": "code",
   "execution_count": 12,
   "metadata": {},
   "outputs": [
    {
     "name": "stdout",
     "output_type": "stream",
     "text": [
      "0.0\n"
     ]
    }
   ],
   "source": [
    "all = n;\n",
    "count =0;\n",
    "for i in range(n):\n",
    "    if(ans.__contains__( (str(i),str(i)) ) ):\n",
    "        count +=1\n",
    "print(count/all);"
   ]
  },
  {
   "cell_type": "code",
   "execution_count": null,
   "metadata": {},
   "outputs": [],
   "source": []
  }
 ],
 "metadata": {
  "kernelspec": {
   "display_name": "base",
   "language": "python",
   "name": "python3"
  },
  "language_info": {
   "codemirror_mode": {
    "name": "ipython",
    "version": 3
   },
   "file_extension": ".py",
   "mimetype": "text/x-python",
   "name": "python",
   "nbconvert_exporter": "python",
   "pygments_lexer": "ipython3",
   "version": "3.8.16"
  },
  "orig_nbformat": 4
 },
 "nbformat": 4,
 "nbformat_minor": 2
}
