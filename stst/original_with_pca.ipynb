{
 "cells": [
  {
   "cell_type": "code",
   "execution_count": 20,
   "metadata": {},
   "outputs": [],
   "source": [
    "from read_data import *\n",
    "from hyper import *\n",
    "from alignment import *\n",
    "from copy import *\n",
    "from datasets.preprecossing import *\n",
    "import rpy2\n",
    "from sklearn.metrics.pairwise import cosine_similarity\n",
    "from scipy.cluster import hierarchy\n",
    "\n",
    "\n",
    "folder_path = './datas/100/'\n",
    "pcanum = 20\n",
    "tempnum = 200"
   ]
  },
  {
   "cell_type": "code",
   "execution_count": 8,
   "metadata": {},
   "outputs": [],
   "source": [
    "def simulate_gene_exp(adata, pc = 0.25, factor = 1):\n",
    "    \"\"\"\n",
    "    Adds noise to gene expression data. The rows are simulated according to a Multinomial distribution, \n",
    "    with the total counts per spot drawn from a Negative Binomial Distribution.\n",
    "    param: pc- Pseudocount to be added to dataframe\n",
    "    param: factor - amount by which we scale the variance (to increase noise)\n",
    "    \"\"\"\n",
    "    adata_sim = adata.copy()\n",
    "    df = pd.DataFrame(adata_sim.X.toarray())\n",
    "    # add pseudocounts \n",
    "    alpha = df.copy().to_numpy() + pc\n",
    "\n",
    "    # get vector of total counts per spot\n",
    "    n = df.sum(axis=1).to_numpy()\n",
    "\n",
    "    # Simulate total counts using negative binomial\n",
    "    mean = np.mean(n)\n",
    "    var = np.var(n)*factor\n",
    "    n = sample_nb(mean, var, len(n)).astype(int)\n",
    "\n",
    "    # Reassign zero counts so we don't divide by 0 in future calcuation\n",
    "    n[n == 0] = 1\n",
    "\n",
    "    # convert to float\n",
    "    alpha = np.array(alpha, dtype=np.float64)\n",
    "    n = np.array(n, dtype=np.float64)\n",
    "\n",
    "    # convert rows to unit vectors\n",
    "    alpha = alpha/alpha.sum(axis=1)[:, None]\n",
    "\n",
    "    dist = np.empty(df.shape)\n",
    "    for i in range(alpha.shape[0]):\n",
    "        dist[i] = np.random.multinomial(n[i], alpha[i])\n",
    "    new_df = pd.DataFrame(dist, index= df.index, columns= df.columns)\n",
    "    adata_sim.X = new_df\n",
    "    return adata_sim\n",
    "\n",
    "def sample_nb(m, v, n = 1):\n",
    "    \"\"\"\n",
    "    param: m - mean\n",
    "    param: v - variance\n",
    "    param: n - number of samples\n",
    "    return: random sample from negative binomial distribution\n",
    "    \"\"\"\n",
    "    r = m**2/(v - m)\n",
    "    p = m/v\n",
    "    samples = np.random.negative_binomial(r, p, n)\n",
    "    return samples"
   ]
  },
  {
   "cell_type": "code",
   "execution_count": 2,
   "metadata": {},
   "outputs": [],
   "source": [
    "datas = sc.read_h5ad(\"./datas/nature/151507_preprocessed.h5\")\n",
    "adata_subset = datas[:tempnum,:]\n",
    "adata_subset\n",
    "sc.write('./datas/nature/adata_subset.h5',adata_subset)"
   ]
  },
  {
   "cell_type": "code",
   "execution_count": 3,
   "metadata": {},
   "outputs": [],
   "source": [
    "datas = sc.read_h5ad(\"./datas/nature/adata_subset.h5\")\n",
    "count_sub = datas.to_df()\n",
    "xy_coords = datas.obs[['imagerow',\"imagecol\"]]\n",
    "xy_coords.to_csv(folder_path+\"xy.csv\")\n",
    "datas.obs.to_csv(folder_path+'meta_data.csv');\n",
    "count_sub.T.to_csv(folder_path+\"gene.csv\")"
   ]
  },
  {
   "cell_type": "code",
   "execution_count": 4,
   "metadata": {},
   "outputs": [
    {
     "name": "stdout",
     "output_type": "stream",
     "text": [
      "\n",
      "    WARNING: The R package \"reticulate\" only fixed recently\n",
      "    an issue that caused a segfault when used with rpy2:\n",
      "    https://github.com/rstudio/reticulate/pull/1188\n",
      "    Make sure that you use a version of that package that includes\n",
      "    the fix.\n",
      "    ## Use SCTransform function in Seurat to normalize data. \n"
     ]
    },
    {
     "name": "stderr",
     "output_type": "stream",
     "text": [
      "R[write to console]: Calculating cell attributes from input UMI matrix: log_umi\n",
      "\n",
      "R[write to console]: Variance stabilizing transformation of count matrix of size 4547 by 200\n",
      "\n",
      "R[write to console]: Model formula is y ~ log_umi\n",
      "\n",
      "R[write to console]: Get Negative Binomial regression parameters per gene\n",
      "\n",
      "R[write to console]: Using 2000 genes, 200 cells\n",
      "\n"
     ]
    },
    {
     "name": "stdout",
     "output_type": "stream",
     "text": [
      "  |======================================================================| 100%\n"
     ]
    },
    {
     "name": "stderr",
     "output_type": "stream",
     "text": [
      "R[write to console]: Found 20 outliers - those will be ignored in fitting/regularization step\n",
      "\n",
      "\n",
      "R[write to console]: Second step: Get residuals using fitted parameters for 4547 genes\n",
      "\n"
     ]
    },
    {
     "name": "stdout",
     "output_type": "stream",
     "text": [
      "  |======================================================================| 100%\n"
     ]
    },
    {
     "name": "stderr",
     "output_type": "stream",
     "text": [
      "R[write to console]: Computing corrected count matrix for 4547 genes\n",
      "\n"
     ]
    },
    {
     "name": "stdout",
     "output_type": "stream",
     "text": [
      "  |======================================================================| 100%\n"
     ]
    },
    {
     "name": "stderr",
     "output_type": "stream",
     "text": [
      "R[write to console]: Calculating gene attributes\n",
      "\n",
      "R[write to console]: Wall clock passed: Time difference of 4.406548 secs\n",
      "\n",
      "R[write to console]: Determine variable features\n",
      "\n",
      "R[write to console]: Place corrected count matrix in counts slot\n",
      "\n",
      "R[write to console]: Centering data matrix\n",
      "\n",
      "  |                                                                            \n",
      "  |                                                                      |   0%\n",
      "  |                                                                            \n",
      "  |==========                                                            |  14%\n",
      "  |                                                                            \n",
      "  |====================                                                  |  29%\n",
      "  |                                                                            \n",
      "  |==============================                                        |  43%\n",
      "  |                                                                            \n",
      "  |========================================                              |  57%\n",
      "  |                                                                            \n",
      "  |==================================================                    |  71%\n",
      "  |                                                                            \n",
      "  |============================================================          |  86%\n",
      "  |                                                                            \n",
      "  |======================================================================| 100%\n",
      "R[write to console]: \n",
      "\n",
      "R[write to console]: Set default assay to SCT\n",
      "\n"
     ]
    },
    {
     "name": "stdout",
     "output_type": "stream",
     "text": [
      "## Use spark.test function in SPARK package to select spatially variable genes. \n",
      "## ===== SPARK INPUT INFORMATION ==== \n",
      "## number of total samples:  200 \n",
      "## number of total features:  4547 \n",
      "## number of adjusted covariates:  0 \n",
      "# fitting normalized count-based spatial model under the null hypothesis ... \n",
      "## testing Gaussian kernel: 1...\n",
      "## testing Periodic kernel: 1...\n",
      "## testing Gaussian kernel: 2...\n",
      "## testing Periodic kernel: 2...\n",
      "## testing Gaussian kernel: 3...\n",
      "## testing Periodic kernel: 3...\n",
      "## testing Gaussian kernel: 4...\n",
      "## testing Periodic kernel: 4...\n",
      "## testing Gaussian kernel: 5...\n",
      "## testing Periodic kernel: 5...\n",
      "## Identified  27  spatial genes through spark.test function. \n",
      "The  number of significant spatial genes is less than the specified number of spatial genes. \n",
      "## Using  27  significant spatially variable genes. \n",
      "## Selected kernel type is:  gaussian  \n",
      "## The bandwidth is:  0.292332161645348  \n",
      "## Calculating kernel matrix\n",
      "## Finished calculating kernel matrix.\n",
      "[1] \"Eigen decomposition on kernel matrix!\"\n",
      "[1] \"Using all eigenvectors and eigenvalues in the Kernel matrix!\"\n"
     ]
    }
   ],
   "source": [
    "# robjects.r(\"load(paste0('./datas/pca/DLPFC/LIBD_sample1.RData'))\")\n",
    "from rpy2.robjects.packages import importr\n",
    "import rpy2.robjects as robjects\n",
    "\n",
    "Spatialpc  = importr('SpatialPCA')\n",
    "ggplot2 = importr('ggplot2')\n",
    "matrix = importr('Matrix')\n",
    "robjects.r(\"xy_coords <- read.csv('{}',row.names='X')\".format(folder_path + 'xy.csv'))\n",
    "robjects.r(\"xy_coords=as.matrix(xy_coords)\")\n",
    "robjects.r(\"count_temp <- read.csv('{}',row.names='X')\".format(folder_path + 'gene.csv'))\n",
    "robjects.r('my_matrix <- do.call(cbind, count_temp)')\n",
    "robjects.r('my_sparse_matrix <- Matrix(my_matrix, sparse = TRUE)')\n",
    "robjects.r('count_sub <- as(my_sparse_matrix, \"dgCMatrix\")')\n",
    "robjects.r('rownames(count_sub) <- rownames(count_temp)')\n",
    "robjects.r(\"rownames(xy_coords) = colnames(count_sub)\");\n",
    "robjects.r('LIBD = CreateSpatialPCAObject(counts=count_sub, location=xy_coords, project = \"SpatialPCA\",gene.type=\"spatial\",sparkversion=\"spark\",numCores_spark=5,gene.number=3000, customGenelist=NULL,min.loctions = 20, min.features=20)')\n",
    "robjects.r('LIBD = SpatialPCA_buildKernel(LIBD, kerneltype=\"gaussian\", bandwidthtype=\"SJ\",bandwidth.set.by.user=NULL)')\n",
    "robjects.r('LIBD = SpatialPCA_EstimateLoading(LIBD,fast=FALSE,SpatialPCnum={})'.format(pcanum))\n",
    "robjects.r('LIBD = SpatialPCA_SpatialPCs(LIBD, fast=FALSE)')\n",
    "robjects.r('write.csv(as.data.frame(LIBD@SpatialPCs), file = \"{}\")'.format(folder_path + \"pca.csv\"))"
   ]
  },
  {
   "cell_type": "code",
   "execution_count": 51,
   "metadata": {},
   "outputs": [
    {
     "name": "stderr",
     "output_type": "stream",
     "text": [
      "/var/folders/bm/69jvgsdj3rxch558kx9yp9y00000gn/T/ipykernel_2704/3690497418.py:3: FutureWarning: The default value of regex will change from True to False in a future version. In addition, single character regular expressions will *not* be treated as literal strings when regex=True.\n",
      "  adata1.index = adata1.index.str.replace('.', '-')\n"
     ]
    },
    {
     "data": {
      "image/png": "[encoded data removed]",
      "text/plain": [
       "<Figure size 1000x700 with 1 Axes>"
      ]
     },
     "metadata": {},
     "output_type": "display_data"
    }
   ],
   "source": [
    "adata1 = pd.read_csv(folder_path+\"pca.csv\")\n",
    "adata1 = adata1.set_index(adata1.columns[0]).T\n",
    "adata1.index = adata1.index.str.replace('.', '-')\n",
    "similarity_matrix = 1 - cosine_similarity(adata1)\n",
    "n=len(similarity_matrix);\n",
    "Z = hierarchy.linkage(similarity_matrix, 'ward')\n",
    "\n",
    "plt.figure(figsize=(10, 7))\n",
    "dn = hierarchy.dendrogram(Z)\n",
    "plt.show()\n",
    "\n",
    "# adata1 = anndata.AnnData(adata1)\n",
    "\n",
    "# cell_meta = pd.read_csv(folder_path+\"meta_data.csv\")\n",
    "# cell_meta = cell_meta.set_index(cell_meta.columns[0])\n",
    "# adata1.obs = cell_meta\n",
    "# adata1.obsm['X_pca'] = adata1.to_df()\n",
    "# # # adata1.obs['celltype'] = cell_meta.values\n",
    "\n",
    "\n"
   ]
  },
  {
   "cell_type": "code",
   "execution_count": 52,
   "metadata": {},
   "outputs": [
    {
     "data": {
      "text/plain": [
       "array([ 76.         , 128.         ,   0.283565793,   2.         ])"
      ]
     },
     "execution_count": 52,
     "metadata": {},
     "output_type": "execute_result"
    }
   ],
   "source": [
    "Z[6]"
   ]
  },
  {
   "cell_type": "code",
   "execution_count": 54,
   "metadata": {},
   "outputs": [
    {
     "data": {
      "text/plain": [
       "[0,\n",
       " 1,\n",
       " 2,\n",
       " 3,\n",
       " 4,\n",
       " 5,\n",
       " 6,\n",
       " 7,\n",
       " 8,\n",
       " 9,\n",
       " 10,\n",
       " 11,\n",
       " 12,\n",
       " 13,\n",
       " 14,\n",
       " 15,\n",
       " 16,\n",
       " 17,\n",
       " 18,\n",
       " 19,\n",
       " 20,\n",
       " 21,\n",
       " 22,\n",
       " 23,\n",
       " 24,\n",
       " 25,\n",
       " 26,\n",
       " 27,\n",
       " 28,\n",
       " 29,\n",
       " 30,\n",
       " 31,\n",
       " 32,\n",
       " 33,\n",
       " 34,\n",
       " 35,\n",
       " 36,\n",
       " 37,\n",
       " 38,\n",
       " 39,\n",
       " 40,\n",
       " 41,\n",
       " 42,\n",
       " 43,\n",
       " 44,\n",
       " 45,\n",
       " 46,\n",
       " 47,\n",
       " 48,\n",
       " 49,\n",
       " 50,\n",
       " 51,\n",
       " 52,\n",
       " 53,\n",
       " 54,\n",
       " 55,\n",
       " 56,\n",
       " 57,\n",
       " 58,\n",
       " 59,\n",
       " 60,\n",
       " 61,\n",
       " 62,\n",
       " 63,\n",
       " 64,\n",
       " 65,\n",
       " 66,\n",
       " 67,\n",
       " 68,\n",
       " 69,\n",
       " 70,\n",
       " 71,\n",
       " 72,\n",
       " 73,\n",
       " 74,\n",
       " 75,\n",
       " 76,\n",
       " 77,\n",
       " 78,\n",
       " 79,\n",
       " 80,\n",
       " 81,\n",
       " 82,\n",
       " 83,\n",
       " 84,\n",
       " 85,\n",
       " 86,\n",
       " 87,\n",
       " 88,\n",
       " 89,\n",
       " 90,\n",
       " 91,\n",
       " 92,\n",
       " 93,\n",
       " 94,\n",
       " 95,\n",
       " 96,\n",
       " 97,\n",
       " 98,\n",
       " 99,\n",
       " 100,\n",
       " 101,\n",
       " 102,\n",
       " 103,\n",
       " 104,\n",
       " 105,\n",
       " 106,\n",
       " 107,\n",
       " 108,\n",
       " 109,\n",
       " 110,\n",
       " 111,\n",
       " 112,\n",
       " 113,\n",
       " 114,\n",
       " 115,\n",
       " 116,\n",
       " 117,\n",
       " 118,\n",
       " 119,\n",
       " 120,\n",
       " 121,\n",
       " 122,\n",
       " 123,\n",
       " 124,\n",
       " 125,\n",
       " 126,\n",
       " 127,\n",
       " 128,\n",
       " 129,\n",
       " 130,\n",
       " 131,\n",
       " 132,\n",
       " 133,\n",
       " 134,\n",
       " 135,\n",
       " 136,\n",
       " 137,\n",
       " 138,\n",
       " 139,\n",
       " 140,\n",
       " 141,\n",
       " 142,\n",
       " 143,\n",
       " 144,\n",
       " 145,\n",
       " 146,\n",
       " 147,\n",
       " 148,\n",
       " 149,\n",
       " 150,\n",
       " 151,\n",
       " 152,\n",
       " 153,\n",
       " 154,\n",
       " 155,\n",
       " 156,\n",
       " 157,\n",
       " 158,\n",
       " 159,\n",
       " 160,\n",
       " 161,\n",
       " 162,\n",
       " 163,\n",
       " 164,\n",
       " 165,\n",
       " 166,\n",
       " 167,\n",
       " 168,\n",
       " 169,\n",
       " 170,\n",
       " 171,\n",
       " 172,\n",
       " 173,\n",
       " 174,\n",
       " 175,\n",
       " 176,\n",
       " 177,\n",
       " 178,\n",
       " 179,\n",
       " 180,\n",
       " 181,\n",
       " 182,\n",
       " 183,\n",
       " 184,\n",
       " 185,\n",
       " 186,\n",
       " 187,\n",
       " 188,\n",
       " 189,\n",
       " 190,\n",
       " 191,\n",
       " 192,\n",
       " 193,\n",
       " 194,\n",
       " 195,\n",
       " 196,\n",
       " 197,\n",
       " 198,\n",
       " 199,\n",
       " 200,\n",
       " 201,\n",
       " 202,\n",
       " 203,\n",
       " 204,\n",
       " 205,\n",
       " 206,\n",
       " 207,\n",
       " 208,\n",
       " 209,\n",
       " 210,\n",
       " 211,\n",
       " 212,\n",
       " 213,\n",
       " 214,\n",
       " 215,\n",
       " 216,\n",
       " 217,\n",
       " 218,\n",
       " 219,\n",
       " 220,\n",
       " 221,\n",
       " 222,\n",
       " 223,\n",
       " 224,\n",
       " 225,\n",
       " 226,\n",
       " 227,\n",
       " 228,\n",
       " 229,\n",
       " 230,\n",
       " 231,\n",
       " 232,\n",
       " 233,\n",
       " 234,\n",
       " 235,\n",
       " 236,\n",
       " 237,\n",
       " 238,\n",
       " 239,\n",
       " 240,\n",
       " 241,\n",
       " 242,\n",
       " 243,\n",
       " 244,\n",
       " 245,\n",
       " 246,\n",
       " 247,\n",
       " 248,\n",
       " 249,\n",
       " 250,\n",
       " 251,\n",
       " 252,\n",
       " 253,\n",
       " 254,\n",
       " 255,\n",
       " 256,\n",
       " 257,\n",
       " 258,\n",
       " 259,\n",
       " 260,\n",
       " 261,\n",
       " 262,\n",
       " 263,\n",
       " 264,\n",
       " 265,\n",
       " 266,\n",
       " 267,\n",
       " 268,\n",
       " 269,\n",
       " 270,\n",
       " 271,\n",
       " 272,\n",
       " 273,\n",
       " 274,\n",
       " 275,\n",
       " 276,\n",
       " 277,\n",
       " 278,\n",
       " 279,\n",
       " 280,\n",
       " 281,\n",
       " 282,\n",
       " 283,\n",
       " 284,\n",
       " 285,\n",
       " 286,\n",
       " 287,\n",
       " 288,\n",
       " 289,\n",
       " 290,\n",
       " 291,\n",
       " 292,\n",
       " 293,\n",
       " 294,\n",
       " 295,\n",
       " 296,\n",
       " 297,\n",
       " 298,\n",
       " 299,\n",
       " 300,\n",
       " 301,\n",
       " 302,\n",
       " 303,\n",
       " 304,\n",
       " 305,\n",
       " 306,\n",
       " 307,\n",
       " 308,\n",
       " 309,\n",
       " 310,\n",
       " 311,\n",
       " 312,\n",
       " 313,\n",
       " 314,\n",
       " 315,\n",
       " 316,\n",
       " 317,\n",
       " 318,\n",
       " 319,\n",
       " 320,\n",
       " 321,\n",
       " 322,\n",
       " 323,\n",
       " 324,\n",
       " 325,\n",
       " 326,\n",
       " 327,\n",
       " 328,\n",
       " 329,\n",
       " 330,\n",
       " 331,\n",
       " 332,\n",
       " 333,\n",
       " 334,\n",
       " 335,\n",
       " 336,\n",
       " 337,\n",
       " 338,\n",
       " 339,\n",
       " 340,\n",
       " 341,\n",
       " 342,\n",
       " 343,\n",
       " 344,\n",
       " 345,\n",
       " 346,\n",
       " 347,\n",
       " 348,\n",
       " 349,\n",
       " 350,\n",
       " 351,\n",
       " 352,\n",
       " 353,\n",
       " 354,\n",
       " 355,\n",
       " 356,\n",
       " 357,\n",
       " 358,\n",
       " 359,\n",
       " 360,\n",
       " 361,\n",
       " 362,\n",
       " 363,\n",
       " 364,\n",
       " 365,\n",
       " 366,\n",
       " 367,\n",
       " 368,\n",
       " 369,\n",
       " 370,\n",
       " 371,\n",
       " 372,\n",
       " 373,\n",
       " 374,\n",
       " 375,\n",
       " 376,\n",
       " 377,\n",
       " 378,\n",
       " 379,\n",
       " 380,\n",
       " 381,\n",
       " 382,\n",
       " 383,\n",
       " 384,\n",
       " 385,\n",
       " 386,\n",
       " 387,\n",
       " 388,\n",
       " 389,\n",
       " 390,\n",
       " 391,\n",
       " 392,\n",
       " 393,\n",
       " 394,\n",
       " 395,\n",
       " 396,\n",
       " 397,\n",
       " 398]"
      ]
     },
     "execution_count": 54,
     "metadata": {},
     "output_type": "execute_result"
    }
   ],
   "source": [
    "nodes1 = [node(name=str(i),son=[]) for i in range(2*n-1)]\n",
    "nodes1\n"
   ]
  },
  {
   "cell_type": "code",
   "execution_count": 74,
   "metadata": {},
   "outputs": [
    {
     "data": {
      "text/plain": [
       "[0,\n",
       " 1,\n",
       " 2,\n",
       " 3,\n",
       " 4,\n",
       " 5,\n",
       " 6,\n",
       " 7,\n",
       " 8,\n",
       " 9,\n",
       " 10,\n",
       " 11,\n",
       " 12,\n",
       " 13,\n",
       " 14,\n",
       " 15,\n",
       " 16,\n",
       " 17,\n",
       " 18,\n",
       " 19,\n",
       " 20,\n",
       " 21,\n",
       " 22,\n",
       " 23,\n",
       " 24,\n",
       " 25,\n",
       " 26,\n",
       " 27,\n",
       " 28,\n",
       " 29,\n",
       " 30,\n",
       " 31,\n",
       " 32,\n",
       " 33,\n",
       " 34,\n",
       " 35,\n",
       " 36,\n",
       " 37,\n",
       " 38,\n",
       " 39,\n",
       " 40,\n",
       " 41,\n",
       " 42,\n",
       " 43,\n",
       " 44,\n",
       " 45,\n",
       " 46,\n",
       " 47,\n",
       " 48,\n",
       " 49,\n",
       " 50,\n",
       " 51,\n",
       " 52,\n",
       " 53,\n",
       " 54,\n",
       " 55,\n",
       " 56,\n",
       " 57,\n",
       " 58,\n",
       " 59,\n",
       " 60,\n",
       " 61,\n",
       " 62,\n",
       " 63,\n",
       " 64,\n",
       " 65,\n",
       " 66,\n",
       " 67,\n",
       " 68,\n",
       " 69,\n",
       " 70,\n",
       " 71,\n",
       " 72,\n",
       " 73,\n",
       " 74,\n",
       " 75,\n",
       " 76,\n",
       " 77,\n",
       " 78,\n",
       " 79,\n",
       " 80,\n",
       " 81,\n",
       " 82,\n",
       " 83,\n",
       " 84,\n",
       " 85,\n",
       " 86,\n",
       " 87,\n",
       " 88,\n",
       " 89,\n",
       " 90,\n",
       " 91,\n",
       " 92,\n",
       " 93,\n",
       " 94,\n",
       " 95,\n",
       " 96,\n",
       " 97,\n",
       " 98,\n",
       " 99,\n",
       " 100,\n",
       " 101,\n",
       " 102,\n",
       " 103,\n",
       " 104,\n",
       " 105,\n",
       " 106,\n",
       " 107,\n",
       " 108,\n",
       " 109,\n",
       " 110,\n",
       " 111,\n",
       " 112,\n",
       " 113,\n",
       " 114,\n",
       " 115,\n",
       " 116,\n",
       " 117,\n",
       " 118,\n",
       " 119,\n",
       " 120,\n",
       " 121,\n",
       " 122,\n",
       " 123,\n",
       " 124,\n",
       " 125,\n",
       " 126,\n",
       " 127,\n",
       " 128,\n",
       " 129,\n",
       " 130,\n",
       " 131,\n",
       " 132,\n",
       " 133,\n",
       " 134,\n",
       " 135,\n",
       " 136,\n",
       " 137,\n",
       " 138,\n",
       " 139,\n",
       " 140,\n",
       " 141,\n",
       " 142,\n",
       " 143,\n",
       " 144,\n",
       " 145,\n",
       " 146,\n",
       " 147,\n",
       " 148,\n",
       " 149,\n",
       " 150,\n",
       " 151,\n",
       " 152,\n",
       " 153,\n",
       " 154,\n",
       " 155,\n",
       " 156,\n",
       " 157,\n",
       " 158,\n",
       " 159,\n",
       " 160,\n",
       " 161,\n",
       " 162,\n",
       " 163,\n",
       " 164,\n",
       " 165,\n",
       " 166,\n",
       " 167,\n",
       " 168,\n",
       " 169,\n",
       " 170,\n",
       " 171,\n",
       " 172,\n",
       " 173,\n",
       " 174,\n",
       " 175,\n",
       " 176,\n",
       " 177,\n",
       " 178,\n",
       " 179,\n",
       " 180,\n",
       " 181,\n",
       " 182,\n",
       " 183,\n",
       " 184,\n",
       " 185,\n",
       " 186,\n",
       " 187,\n",
       " 188,\n",
       " 189,\n",
       " 190,\n",
       " 191,\n",
       " 192,\n",
       " 193,\n",
       " 194,\n",
       " 195,\n",
       " 196,\n",
       " 197,\n",
       " 198,\n",
       " 199,\n",
       " 200,\n",
       " 201,\n",
       " 202,\n",
       " 203,\n",
       " 204,\n",
       " 205,\n",
       " 206,\n",
       " 207,\n",
       " 208,\n",
       " 209,\n",
       " 210,\n",
       " 211,\n",
       " 212,\n",
       " 213,\n",
       " 214,\n",
       " 215,\n",
       " 216,\n",
       " 217,\n",
       " 218,\n",
       " 219,\n",
       " 220,\n",
       " 221,\n",
       " 222,\n",
       " 223,\n",
       " 224,\n",
       " 225,\n",
       " 226,\n",
       " 227,\n",
       " 228,\n",
       " 229,\n",
       " 230,\n",
       " 231,\n",
       " 232,\n",
       " 233,\n",
       " 234,\n",
       " 235,\n",
       " 236,\n",
       " 237,\n",
       " 238,\n",
       " 239,\n",
       " 240,\n",
       " 241,\n",
       " 242,\n",
       " 243,\n",
       " 244,\n",
       " 245,\n",
       " 246,\n",
       " 247,\n",
       " 248,\n",
       " 249,\n",
       " 250,\n",
       " 251,\n",
       " 252,\n",
       " 253,\n",
       " 254,\n",
       " 255,\n",
       " 256,\n",
       " 257,\n",
       " 258,\n",
       " 259,\n",
       " 260,\n",
       " 261,\n",
       " 262,\n",
       " 263,\n",
       " 264,\n",
       " 265,\n",
       " 266,\n",
       " 267,\n",
       " 268,\n",
       " 269,\n",
       " 270,\n",
       " 271,\n",
       " 272,\n",
       " 273,\n",
       " 274,\n",
       " 275,\n",
       " 276,\n",
       " 277,\n",
       " 278,\n",
       " 279,\n",
       " 280,\n",
       " 281,\n",
       " 282,\n",
       " 283,\n",
       " 284,\n",
       " 285,\n",
       " 286,\n",
       " 287,\n",
       " 288,\n",
       " 289,\n",
       " 290,\n",
       " 291,\n",
       " 292,\n",
       " 293,\n",
       " 294,\n",
       " 295,\n",
       " 296,\n",
       " 297,\n",
       " 298,\n",
       " 299,\n",
       " 300,\n",
       " 301,\n",
       " 302,\n",
       " 303,\n",
       " 304,\n",
       " 305,\n",
       " 306,\n",
       " 307,\n",
       " 308,\n",
       " 309,\n",
       " 310,\n",
       " 311,\n",
       " 312,\n",
       " 313,\n",
       " 314,\n",
       " 315,\n",
       " 316,\n",
       " 317,\n",
       " 318,\n",
       " 319,\n",
       " 320,\n",
       " 321,\n",
       " 322,\n",
       " 323,\n",
       " 324,\n",
       " 325,\n",
       " 326,\n",
       " 327,\n",
       " 328,\n",
       " 329,\n",
       " 330,\n",
       " 331,\n",
       " 332,\n",
       " 333,\n",
       " 334,\n",
       " 335,\n",
       " 336,\n",
       " 337,\n",
       " 338,\n",
       " 339,\n",
       " 340,\n",
       " 341,\n",
       " 342,\n",
       " 343,\n",
       " 344,\n",
       " 345,\n",
       " 346,\n",
       " 347,\n",
       " 348,\n",
       " 349,\n",
       " 350,\n",
       " 351,\n",
       " 352,\n",
       " 353,\n",
       " 354,\n",
       " 355,\n",
       " 356,\n",
       " 357,\n",
       " 358,\n",
       " 359,\n",
       " 360,\n",
       " 361,\n",
       " 362,\n",
       " 363,\n",
       " 364,\n",
       " 365,\n",
       " 366,\n",
       " 367,\n",
       " 368,\n",
       " 369,\n",
       " 370,\n",
       " 371,\n",
       " 372,\n",
       " 373,\n",
       " 374,\n",
       " 375,\n",
       " 376,\n",
       " 377,\n",
       " 378,\n",
       " 379,\n",
       " 380,\n",
       " 381,\n",
       " 382,\n",
       " 383,\n",
       " 384,\n",
       " 385,\n",
       " 386,\n",
       " 387,\n",
       " 388,\n",
       " 389,\n",
       " 390,\n",
       " 391,\n",
       " 392,\n",
       " 393,\n",
       " 394,\n",
       " 395,\n",
       " 396,\n",
       " 397,\n",
       " 398]"
      ]
     },
     "execution_count": 74,
     "metadata": {},
     "output_type": "execute_result"
    }
   ],
   "source": [
    "nodes1 = [node(name=str(i),son=[]) for i in range(2*n-1)]\n",
    "for i in range(n):\n",
    "    nodes1[i].value = adata1.iloc[i].to_numpy()\n",
    "for i in range(n-1):\n",
    "    nodes1[n+i].son.append(nodes1[int(Z[i][0])])\n",
    "    nodes1[n+i].son.append(nodes1[int(Z[i][1])])\n",
    "    nodes1[n+i].value = nodes1[n+i].son[0].value  + nodes1[n+i].son[1].value\n",
    "    nodes1[n+i].value /=2\n",
    "nodes1"
   ]
  },
  {
   "cell_type": "code",
   "execution_count": 75,
   "metadata": {},
   "outputs": [
    {
     "name": "stdout",
     "output_type": "stream",
     "text": [
      "[-0.8382089789 -0.1004083088  0.6683814071 -0.718965581  -0.2808907229\n",
      " -0.6082409965  0.5002680746  0.0174020417  0.167783445  -0.7603260178\n",
      " -0.5641957362  0.2465130398  0.1242813961  0.0069710042  0.0428486679\n",
      "  0.0091287348 -0.1235367111  0.319749791  -0.3156837737  0.1469202901]\n",
      "[ 0.4334920036  0.3637648345 -1.5027261924  0.0991578946 -0.5032194333\n",
      "  0.183738227   0.4504389899 -0.0266963566 -0.0671604044  0.2557483486\n",
      "  0.1635766681  0.2586414054 -0.3848342869 -0.2832850403  0.0668690327\n",
      " -0.147467383  -0.0357592077  0.324277406   0.1805709577 -0.0041897989]\n",
      "[ 2.0657157135  0.1477130549  1.825777155  -0.212611377  -0.5243784612\n",
      " -1.0909750858 -0.4331048154 -0.0682182557 -0.1582310262  0.4696475241\n",
      " -0.0638557534  0.0197824322 -0.1067255585 -0.1803747408  0.0591726606\n",
      " -0.4106985543  0.0509394287  0.0172023399  0.0158892366  0.0380280547]\n",
      "[-3.8085228181  0.3288907705  0.6874236919 -0.7111166623 -0.2245622337\n",
      "  0.7769370419  0.0743133908 -0.5123809673  0.8378055809 -0.5123942818\n",
      "  0.3916503212  0.0567063667 -0.1899286862  0.0746952759 -0.0736769644\n",
      " -0.4306232193 -0.0919472998  0.2453951575  0.037319798  -0.3694991367]\n",
      "[-0.8810316832 -0.2185652662 -0.0937927322  0.5069960989  0.7077194794\n",
      "  0.1815066157 -0.6033365922 -0.8596201725  0.1786484091  0.1783787856\n",
      " -0.575666435  -0.1039808541  0.0747155653 -0.2723614543 -0.1681151411\n",
      " -0.0568663227 -0.1156623881 -0.3654626438 -0.1886699061  0.0144792071]\n",
      "[-1.4091094746 -0.0727290822  0.1904697936  0.2405244395  0.5509316139\n",
      "  0.3840252038 -0.33223922   -1.0049171228  0.1430798737  0.0463864615\n",
      " -0.3174237589 -0.1079586899 -0.085436861  -0.1211302702 -0.0879626682\n",
      " -0.252456912  -0.1472618461 -0.4510597647 -0.0211514336 -0.1478460542]\n",
      "[-3.6912934188e+00  4.7744854817e-01  1.2369307327e+00 -5.8827454314e-01\n",
      " -1.4816245299e-01  8.0355010374e-01  8.5146668084e-02  5.9854057504e-01\n",
      " -1.4703545798e-01  1.3127392521e-01  3.3926373576e-01 -3.2765669011e-01\n",
      " -2.4927393122e-03 -1.3540232509e-01 -1.7942078543e-02 -1.5014822620e-01\n",
      " -5.3731844842e-02  4.6189241346e-02 -1.2128035892e-01 -1.3265506376e-01]\n",
      "[-1.5781926291  0.1662509971 -1.2258180788  0.6737368019  0.4611322543\n",
      " -0.5627484229  0.6330953892  0.5771639072  0.2052661428  0.5586249052\n",
      "  0.1323565144  0.2814436245 -0.2862560627 -0.3881862975  0.0634884658\n",
      " -0.1445628214 -0.2545372028  0.1292009907  0.0929340968  0.0088152768]\n",
      "[ 3.078417039   0.0666178563 -0.942731107  -0.2816856228  1.0620442514\n",
      " -0.2341843973 -0.541373493   0.318348215   0.4161140264 -0.2564758558\n",
      "  0.1558954877 -0.147595312  -0.10670994   -0.2747088384  0.0899672179\n",
      "  0.3092971061  0.1779609265  0.038239066   0.0435292957 -0.1071195718]\n",
      "[ 1.0228617993  1.011236912  -1.6480499599 -0.6603696939 -0.1723724467\n",
      "  0.4822675209  0.7034242269 -0.018132453   0.1408545788  0.1402078073\n",
      " -0.5730346589 -0.3644144718 -0.281094009   0.0666059588 -0.0876551693\n",
      "  0.0279321126  0.3041238088 -0.089681271   0.0863442814  0.0337547484]\n",
      "[-1.2692624566 -1.0297933602  0.3962099723  0.7103292056 -0.9550081337\n",
      " -0.2876934397 -0.1192006256  0.2137822428  0.2587120047 -0.2691759314\n",
      "  0.0625257631  0.2654510676  0.0173619357  0.0662931522  0.1616493167\n",
      "  0.2585795177  0.0408867066 -0.2577561279 -0.214542794  -0.1285406049]\n",
      "[-1.8734832296 -1.1008232156  0.5959301468  1.0597533316  0.3923462944\n",
      "  0.1568411842  0.0773706055 -0.1678535726 -0.3931713878  0.5019160716\n",
      " -0.014492485   0.1468412441 -0.0065251399 -0.1353259501  0.1100814007\n",
      "  0.2749568894  0.1075602048  0.0413503738  0.2062398463  0.0124359059]\n",
      "[-2.4530486077  0.2578109273 -1.0954804317  0.4866485453  0.6925108918\n",
      " -0.3050534816 -0.1227221907  0.0956874934  0.1080426624  0.2287643142\n",
      "  0.2362707856  0.3227650713  0.2986137843 -0.0039352108 -0.1606389628\n",
      "  0.096278008  -0.0371083739 -0.2664395459  0.1456321127  0.27467873  ]\n",
      "[-0.8161035188 -0.7897947913 -0.0830616304  0.5146717425 -0.7170217514\n",
      "  0.205993974  -0.4209642424  0.0409939371  0.2278633471 -0.3194372107\n",
      " -0.5638671092  0.1352861956  0.1550770534 -0.032586664   0.1173501318\n",
      "  0.0813138415  0.074980199  -0.2992169193 -0.2655252644  0.1836019804]\n",
      "[-0.0284021643  0.7255300025  0.9582025995 -0.2947382776 -0.1323923316\n",
      " -0.7240849698  0.2882514635 -0.4046279781  0.1744183244  0.6136919929\n",
      " -0.3597383212  0.0849023655 -0.104695476  -0.1129715295 -0.0929953624\n",
      "  0.4745633649  0.0115888272  0.0385431775  0.0894838211  0.0876416542]\n",
      "[ 2.9868733316 -0.1567853816 -1.0234811793 -0.360889615   1.0707464953\n",
      " -0.2283526123 -0.5000290468  0.2690588371  0.4147089235 -0.2490980394\n",
      "  0.1605858044 -0.2349516023 -0.1020902024 -0.2956424316  0.1147302175\n",
      "  0.3210914392  0.2097445386  0.0256405458  0.0459046327 -0.1158412847]\n",
      "[ 2.4116269307 -1.4213943838  0.1138028903 -0.2888534995  0.1272124257\n",
      "  0.6646945072 -0.1723808173  0.1869067023  0.350735284  -0.020542481\n",
      "  0.4010206878  0.2915363593 -0.4661518686 -0.1734497489 -0.0097354572\n",
      "  0.2272776602 -0.0716275414 -0.0903995896 -0.0308869553  0.3018742897]\n",
      "[ 2.5494633293  0.9119173069 -0.4078126066 -0.0282144279  0.820327889\n",
      " -0.1399919633 -0.5748544327  0.0571750241  0.2567138728  0.0279262706\n",
      "  0.338751558   0.0726839637 -0.2393099421 -0.1474441544  0.0068494036\n",
      " -0.0105349961  0.0065956666 -0.039839419  -0.0400598395 -0.1436951612]\n",
      "[-2.3029797829 -0.2177912074 -1.0959712531  0.8037982885  0.903940904\n",
      " -0.5322742706  0.3292639875  0.1002005433  0.215642065   0.264014253\n",
      "  0.0451447721  0.0936802908 -0.0508977919 -0.0815437077 -0.1340144585\n",
      " -0.0271945207 -0.0914450886 -0.1337851185  0.2187166631  0.132976174 ]\n",
      "[ 0.7186224623 -0.2373176942  1.1716544956 -0.8770307976 -0.352185485\n",
      " -0.471833895   0.2719650033  0.2063899106  0.0802529971 -0.8227704099\n",
      " -0.4468531633  0.1314644929  0.0536697824 -0.2135556454  0.1290176183\n",
      " -0.1694119644 -0.2739451041  0.0864328974 -0.1417949893  0.2050116847]\n",
      "[-3.3281995119  0.8409093185  0.4883130349 -0.5127090545 -0.9014680941\n",
      "  0.5449827617  0.2613018719  0.3805854366 -0.1913517334 -0.0531350823\n",
      "  0.1890201296  0.2102002117  0.0700581395  0.0938571671 -0.2455968342\n",
      "  0.3451418732  0.0954049336 -0.1459219421 -0.1671761471 -0.0201698509]\n",
      "[ 2.5196926366e+00  2.4290520243e+00  6.8615007044e-02  1.2441335823e+00\n",
      "  5.4319953520e-02 -1.6349908083e-01 -6.7512814974e-01  4.9260017393e-01\n",
      "  9.1808664152e-02 -1.8845881769e-01 -2.8092788823e-01  1.5246631681e-01\n",
      " -3.6842652669e-01  2.7143579996e-01 -4.1792792458e-01  2.9539020127e-01\n",
      " -5.7728279236e-02  7.3312477485e-02 -1.9729773922e-03  1.8873470607e-03]\n",
      "[ 2.6305506294e+00  1.7079307243e+00 -4.3230311619e-01  5.0820684653e-01\n",
      "  4.2251195691e-01 -1.1367161515e-01 -7.8263306023e-01  3.7470573551e-01\n",
      "  2.6556466291e-01 -7.9540726279e-02  3.5768121608e-02  2.6753172939e-01\n",
      " -3.5890123989e-01 -3.8674913925e-02 -2.0480671285e-01  2.9845425863e-02\n",
      " -5.2557240999e-02 -4.9826533902e-04  7.5777144400e-02 -4.3914730832e-02]\n",
      "[-2.7473934884  1.2029568543 -0.4735771497 -0.2476971152 -0.3050925857\n",
      "  0.0941179191 -0.224977301   0.1353700906 -0.0108401636  0.0292148153\n",
      "  0.5171392812  0.528591963   0.3869333028  0.1408633175 -0.291713246\n",
      "  0.2638854481  0.0066508739 -0.2560952811 -0.1442925412  0.3243465615]\n",
      "[ 1.0936785489  2.167098831  -0.0468979314  1.3987634723 -0.6660034412\n",
      "  0.1992275512  0.0769092675 -0.4291757231 -0.2982087512 -0.1850254119\n",
      " -0.0191180183 -0.2093185367  0.380736703  -0.4542621911  0.1992315155\n",
      "  0.1331099071  0.0873509503 -0.0947557285 -0.1048857048  0.1716106312]\n",
      "[ 0.4257244311 -0.9847771381 -0.7353942519 -0.1214305468 -0.1966931451\n",
      "  0.313611715  -0.7202422482 -0.6882926918 -0.2966292712 -0.0699712689\n",
      " -0.4413138914  0.0137135055  0.4468690952 -0.0519690181 -0.2312335962\n",
      "  0.0639631753 -0.1082187005  0.6024445699  0.2413292498  0.0056972042]\n",
      "[-1.4934880047 -0.3689108247  0.2995595925  0.4132675891  0.1078553248\n",
      "  0.2917029414 -0.223956431  -0.5757434003  0.2636905057 -0.1214615524\n",
      " -0.3287244625 -0.1260353182 -0.016423234  -0.1303524452  0.0818982543\n",
      " -0.1192142003 -0.0413365028 -0.4576689833 -0.1973172149 -0.1250391369]\n",
      "[-1.6922842756 -0.4629880013 -0.6019736722  0.3968664758  0.8089125885\n",
      " -0.7674438254  0.2051684385 -0.5161065325  0.3144844371 -0.2298134265\n",
      "  0.1505436716 -0.1042279284 -0.1963940833  0.2715518338  0.2215341963\n",
      " -0.1883861946  0.0936004665 -0.1776072155  0.1232087227  0.1281450333]\n",
      "[ 1.2500930600e+00  6.2447486339e-01  2.1568403256e-01 -9.9045817596e-01\n",
      "  8.6513905786e-01 -2.4028759159e-01  1.2946737766e-01  6.4177095199e-04\n",
      " -5.3987916219e-01  1.3698881821e-01 -4.0094849316e-02 -3.9834251546e-02\n",
      " -2.6083205716e-01  6.2181912133e-01  7.9166889092e-03 -8.2286540680e-02\n",
      " -7.0522269140e-02 -1.5038467385e-01 -1.6769430808e-01 -1.2577802607e-01]\n",
      "[ 2.8181466758e+00 -3.9431456153e-01  1.2292981925e+00 -4.3934667721e-01\n",
      "  9.7078775399e-02 -7.9531392656e-01 -4.4167201739e-02  2.8637727116e-02\n",
      " -3.1323635068e-01 -2.4396235078e-03 -9.9546283777e-02  5.6090718945e-01\n",
      "  2.8748091851e-01 -1.3575799230e-01  5.8378442881e-02 -2.5790723507e-02\n",
      " -3.8488871830e-02 -1.5217674354e-01  1.3064078283e-01 -1.2754635783e-01]\n",
      "[-0.0267115119 -1.281737657  -0.2095272178  0.6696213324 -0.1737597394\n",
      " -0.2520819012  0.4028654996  0.2352028708 -0.0575927236 -0.3331590632\n",
      " -0.3065377284 -0.0060799688  0.1010632045  0.1208842541 -0.1050488174\n",
      "  0.0823892252 -0.1167459081  0.1295868624 -0.111188114   0.0026928972]\n",
      "[-3.32628717   -0.3565196239  0.7466029055 -0.2422052819 -0.3636510997\n",
      "  0.5948770711 -0.0738498316  0.5692723441 -0.7432810184  0.0831634676\n",
      " -0.1084711243 -0.0152182371 -0.2772966572 -0.1869580237 -0.1621304581\n",
      "  0.3604453222  0.1870566795 -0.0840086161  0.05857681   -0.0322881622]\n",
      "[-2.0345605314 -1.2228661702  0.1898462733  0.3493418526 -0.0874505103\n",
      "  0.5873127038 -0.7078654136  0.3559803221 -1.1342849266  0.3213415323\n",
      " -0.3185665531 -0.0908952583 -0.0901255666 -0.2845447927  0.1124404009\n",
      "  0.0475055287  0.393307884   0.1627687422  0.0765826308  0.0276014425]\n",
      "[ 2.8923126909 -0.374231918   0.2134125742  0.0526971484 -0.3602997396\n",
      "  1.4156190231  0.309808151  -0.0920767615 -0.1964601937  0.0179648335\n",
      "  0.1200366704  0.4689255793  0.1899383772  0.2014133768 -0.3222774172\n",
      " -0.0921292159  0.2344210288 -0.166516733   0.1471162089 -0.0150238756]\n",
      "[ 1.6511260876 -1.260612729  -0.5321382001  0.2270152411 -0.7922558991\n",
      " -0.5615840291  0.4216394092  0.268595884   0.2538911509  0.176570841\n",
      "  0.3398055012 -0.383301221   0.1483903516  0.0697481961 -0.1245036872\n",
      "  0.067966974   0.1757973706  0.1993005156 -0.0879818336  0.054515745 ]\n",
      "[ 2.0635990944  2.1680289996 -0.2348026635  0.8251965958 -0.0772719074\n",
      "  0.0783301207 -0.7053891902  0.3531899109  0.1832474965  0.0078779424\n",
      " -0.0974009769  0.3167556032 -0.4117587722  0.0042132742 -0.2654295101\n",
      " -0.1798808794 -0.1142375554 -0.0500079157  0.1372207388 -0.0193322457]\n",
      "[ 2.4192504887  0.0396341283 -0.8574926471 -0.4397071505  1.0026003578\n",
      " -0.2632473551 -0.4501050041 -0.1068613483  0.4070528828  0.0310074723\n",
      "  0.3584357502 -0.1758811638 -0.1118192672 -0.2888900002  0.1102867386\n",
      "  0.1339675089  0.0842598424 -0.0740523853 -0.0566456173 -0.2131243208]\n",
      "[-2.3392198145 -0.4784615887  0.5841295189  0.5387007852  0.0829592026\n",
      "  0.1057582257  0.2914866691 -0.5839928759  0.4129487179 -0.1674271418\n",
      "  0.1855564121 -0.1025163632  0.0720427137 -0.0512541608 -0.0814006543\n",
      "  0.1382240118 -0.3144122442 -0.0521584753  0.0621079472 -0.2329970846]\n",
      "[ 2.4640911032 -0.1900554658  1.207992137  -0.3480308285  0.1538826696\n",
      " -0.8041062868  0.0760093728 -0.0212128463 -0.2799780251  0.1353633382\n",
      " -0.0374065577  0.4844706249  0.2256955267 -0.1467803623 -0.0910943024\n",
      "  0.0301678036  0.0216055287 -0.1545339748  0.0947380732 -0.1226500168]\n",
      "[-0.7731848334 -0.8164723642 -0.1529274498  0.6485855552 -0.1598036434\n",
      "  0.326058718  -0.4265109135 -0.1396905555  0.1606506559 -0.1738395187\n",
      " -0.7469076293  0.0491701146  0.1722552673 -0.1634020701  0.004249799\n",
      "  0.0274163256 -0.0417972828 -0.2587949496 -0.3149260412  0.214209017 ]\n",
      "[ 1.1882457699  0.1010204366 -1.1017150265 -0.1762794393 -0.5509502578\n",
      "  0.012848318  -0.3360811779 -0.7386265305 -0.2570258776 -0.1723483602\n",
      "  0.4792916313  0.0386001609 -0.3344537544  0.1886468825  0.1152411976\n",
      "  0.1170116904 -0.0854327085  0.2091625584 -0.1064369118 -0.0962212333]\n",
      "[ 1.2535492525  0.2884717001 -1.0807020807 -0.2815363318 -0.4944008043\n",
      " -0.0423232298  0.0375401848 -0.677776488  -0.4370580659 -0.2578354457\n",
      "  0.5036788613 -0.0537121151 -0.2626612707  0.1138448667 -0.0501692219\n",
      "  0.0649333599 -0.1026947953  0.1388294635 -0.1788235609 -0.080059089 ]\n",
      "[ 1.4118468838  0.9472036199  0.3477562378 -0.1198515113 -0.4478967511\n",
      "  0.5614267433 -0.0509702018  0.6087227153  0.4822585855  0.437935602\n",
      " -0.4628901484 -0.0462238665  0.3496588628  0.0662374563  0.2938186656\n",
      " -0.0683137506 -0.3545357412  0.1163091214  0.1459101359 -0.131396736 ]\n",
      "[ 1.3404606326  1.6008748582  0.1573253182 -0.1445131413 -0.4358020105\n",
      "  0.0220408618  0.0961787299 -0.5411526744 -1.0451788951 -0.226195132\n",
      "  0.5605312506 -0.3981081418  0.3900817837 -0.5686930692  0.4716656301\n",
      "  0.2855924425 -0.2290164693 -0.1511692635  0.089500416   0.2121143632]\n",
      "[-6.8918437360e-04 -8.3043123889e-01 -8.1855889125e-01 -1.6495995745e-01\n",
      " -1.4255478897e-01  2.9979139224e-01 -8.8055862687e-01 -5.8710110369e-01\n",
      " -3.4341668478e-01 -8.2537935641e-02 -4.1368877149e-01 -2.0666885609e-02\n",
      "  5.0650690210e-01  4.6460003741e-02 -2.2271303774e-01  3.1285109595e-02\n",
      " -4.1536795499e-02  5.8713058132e-01  2.1262216139e-01 -8.1499212377e-03]\n",
      "[ 1.4477356007  1.4050692057 -0.8634679427 -0.8160465428 -0.4954037165\n",
      " -0.0888649037  0.5957523687 -0.5557109422 -0.844509406  -0.2122062774\n",
      "  0.4438195267 -0.2710059316  0.2087889182 -0.4352764947 -0.2359531108\n",
      "  0.1756205246 -0.2525614468 -0.0753986515 -0.2204974411  0.0949328798]\n",
      "[-0.9480372425  0.0575726116 -1.2996292601 -0.170012549   0.0159170596\n",
      " -0.0709883403 -0.7921935588  0.0198401915 -0.0701772052  0.165909949\n",
      " -0.0793491836  0.3093090299  0.1906998144  0.0211181858  0.2034433569\n",
      "  0.0112763135  0.0543100898  0.0901853462 -0.1828717931 -0.1909849285]\n",
      "[ 2.6643824119 -0.5321521262 -1.0956093225 -0.4470343617  0.9738881178\n",
      " -0.1653032785 -0.4130674215  0.2263185188  0.3273690415 -0.2579438601\n",
      "  0.0881943161 -0.3940546252 -0.1532611353 -0.2737292018  0.1092222931\n",
      "  0.3481569308  0.2803818872 -0.0035008596  0.0692785158 -0.1054535379]\n",
      "[-2.3866150872 -0.0478378617 -1.115097994   0.6911061117  0.8365220933\n",
      " -0.4055227581  0.0966951684  0.0949788117  0.1591278378  0.2598131874\n",
      "  0.1091316176  0.1985754045  0.1303079968 -0.051172622  -0.1451857708\n",
      "  0.038918481  -0.0598559123 -0.2087808617  0.2048098314  0.1978247955]\n",
      "[ 0.0588714924 -1.1883011792 -0.6903787172  0.3878170685 -0.1602557821\n",
      " -0.0637946762 -0.3353779899 -0.646719296  -0.5244313397  0.2914496611\n",
      " -0.4031149404  0.0951685512  0.269222399  -0.2060121854 -0.0612438794\n",
      " -0.1504343005 -0.08425441    0.3979357975  0.0257875459 -0.1270941114]\n",
      "[-0.0432832188  0.4057382237 -1.3664821988  0.2595957192 -0.3818996697\n",
      "  0.013781016   0.4247054233  0.3672051472  0.0871951727  0.508548387\n",
      "  0.2635088957  0.4207267851 -0.2770278964 -0.4439562555  0.1577160815\n",
      " -0.1974802415 -0.1693189952  0.3372849584  0.1656095627 -0.0217095127]\n",
      "[ 1.1282347885  2.428346587  -0.2944801553  1.4199376448 -0.7293341745\n",
      "  0.1675807786 -0.0181456533 -0.2918024777 -0.0451234906 -0.1419841081\n",
      " -0.2604472225  0.0442150508  0.2874362033 -0.3759629446 -0.0489022055\n",
      "  0.0865832524  0.0936473587 -0.079672401  -0.0923332519  0.1073937962]\n",
      "[ 2.4948202443 -1.3766511891  0.0431309147  0.3393420313  0.1411582332\n",
      "  0.1129717059  0.0153876274  0.0547493128  0.2531025387  0.2363882576\n",
      "  0.3304904389 -0.3519197494  0.3720680106  0.0598554563  0.0048805306\n",
      " -0.0032632615  0.0591719135  0.159533571  -0.0103238681  0.132249437 ]\n",
      "[ 2.1743345348  0.5084697636  0.9883472218 -0.0382104385  0.1733479219\n",
      "  0.0397386806 -0.0517831327  0.0122775394  0.1609269706  0.235775353\n",
      "  0.1748117466  0.1007890789  0.0615314472 -0.2025679595 -0.3118095643\n",
      "  0.3520782099 -0.0300331742  0.1576594067  0.0301132795 -0.2559164051]\n",
      "[-1.8564166239 -0.1465768286  0.3833009093  0.1881368937  0.349819434\n",
      "  0.4801044851 -0.038165959  -0.9163915623  0.1983083681 -0.1215678216\n",
      " -0.1092758411 -0.1346835837 -0.1186489934 -0.0618655202 -0.0504405204\n",
      " -0.276413349  -0.2130952787 -0.34488885    0.0373821767 -0.2626222064]\n",
      "[ 1.7090325719 -1.6769820473 -0.4966306256  0.1937259504 -0.7483669772\n",
      "  0.2521740001 -0.0291708302 -0.2547012407  0.1352257609  0.2384281794\n",
      " -0.3288568986 -0.2164372733 -0.2131219142 -0.220758284  -0.2661496878\n",
      " -0.0317124146 -0.0743650633 -0.2401175711  0.0275997307 -0.4078059854]\n",
      "[-0.9117125439 -1.1227923624 -0.3727786756  0.8808021492  0.7510444483\n",
      " -0.1207118174  0.2963271528  0.5146601326 -0.5412951644 -0.5964489623\n",
      " -0.0635882237  0.0652690596 -0.5689211197  0.3039816619 -0.0138769341\n",
      " -0.2255595274 -0.4019894749  0.0843154404 -0.151043717   0.2703545053]\n",
      "[ 0.0874093194  0.4118648744  1.3465315517 -0.0465032737 -0.5370446307\n",
      " -1.1776310416  0.1257972841 -0.5154131034  0.0304631817  0.9996792442\n",
      " -0.2501991316  0.1161655728 -0.1698574497  0.0834416655 -0.0426149528\n",
      " -0.0040674005  0.3246534728  0.0683094843 -0.0333813928  0.1808547391]\n",
      "[ 1.8774755529 -1.5636403907 -0.531580118   0.0494353732 -0.4493890103\n",
      "  0.3356178632  0.0472168368 -0.2412590182  0.0971524067 -0.0120784137\n",
      " -0.3339980899 -0.008668855  -0.2335501745 -0.4107225257 -0.3291146016\n",
      "  0.0691155104 -0.0077181541 -0.2529467557  0.083514979  -0.3971895733]\n",
      "[-0.7791362537 -1.4872192947 -0.2270164237  1.1327769299  0.7071760829\n",
      "  0.1286694212  0.1212522476  0.2775361857 -0.42446731   -0.2161935524\n",
      " -0.4339675386  0.0902209042 -0.2305391639 -0.0601476768 -0.3111122846\n",
      " -0.1367812208 -0.4779487803  0.1380939771 -0.35750043    0.1774227618]\n",
      "[ 1.4819214944  0.8137981648  0.3852964647 -0.2236300556 -0.3593437845\n",
      "  0.5447828612 -0.0421228377  0.5876440186  0.5090208239  0.4747765677\n",
      " -0.4235777637 -0.0553359797  0.3725844418  0.0740831839  0.3016461533\n",
      "  0.026069875  -0.3679080551  0.1698939131  0.1116840188 -0.1524253486]\n",
      "[ 2.0306843663  0.4170632708  0.4771285716  0.1363824629  0.3583575749\n",
      "  0.5663293435  0.5211055004 -0.2640304974  0.1720736098  0.2920517209\n",
      " -0.0704715303  0.3356237096  0.4810918795 -0.2006007427 -0.0167651905\n",
      "  0.1088018471  0.0860533451  0.0675008798 -0.3194265756  0.0101072008]\n",
      "[ 1.4617136411  1.6053177573 -0.3698711601 -0.92967882   -0.3789900189\n",
      " -0.0661482129  0.1484314557 -0.4766879774 -0.9383652456 -0.1807959211\n",
      "  0.3737649514 -0.3031856322  0.1153102681 -0.4157410149  0.1840575588\n",
      "  0.3133635097 -0.258331814  -0.1577164459  0.0970458188  0.1614527292]\n",
      "[-3.1666936296e+00 -1.5318114085e-01  6.5322991659e-01  2.1517986292e-01\n",
      "  6.1208534982e-02  2.2102766128e-01  2.9270111627e-02 -6.5498587868e-01\n",
      "  6.0893615632e-01 -1.3582978340e-01  1.7276368410e-01 -6.2457324572e-02\n",
      "  7.3211768222e-05 -3.4187326205e-02 -1.0037029682e-01  2.1253951846e-01\n",
      " -2.8845026944e-01  8.5140662279e-02  1.2908010021e-01 -4.3644224727e-02]\n",
      "[ 0.9956707716 -0.3930320347  0.779818366  -0.4969219862  0.1692876211\n",
      " -0.5544402986  0.168100325   0.080074761   0.1700462899 -0.7711217783\n",
      " -0.432484973   0.022410625   0.0405247996 -0.2523977205 -0.0414005646\n",
      " -0.0817785878  0.065633373   0.2684556041 -0.215739926   0.2463094353]\n",
      "[ 2.3898183046  2.4429502848  0.2222327492  1.4220911852 -0.0170068954\n",
      " -0.1251051797 -0.5847449776  0.4161869916  0.0460550902 -0.1922462321\n",
      " -0.2431219167  0.0477791543 -0.3433895869  0.2800733732 -0.3674546086\n",
      "  0.2900312465 -0.040636123   0.0812194698 -0.0276922108  0.0088744676]\n",
      "[ 1.3778896392  0.834380629   0.4380522357 -0.3675657826  0.3160370234\n",
      "  0.2066810789 -0.0477783122  0.3524590428 -0.1238653026  0.3273937711\n",
      " -0.1124285261 -0.3159984997 -0.1210280873  0.4834777123  0.1436786311\n",
      "  0.0969756572 -0.3338971033  0.0632307585 -0.0270059053 -0.0461687186]\n",
      "[-1.5763403617 -1.1241980067  0.5537791814  1.097474815  -0.1489006592\n",
      " -0.4953739385  0.3557687444 -0.0611362622  0.10152838    0.0924359315\n",
      "  0.2532546191  0.2488524823  0.1224856704 -0.0398027237 -0.0504306754\n",
      "  0.3747126746 -0.1398227728 -0.0635021785 -0.0048424805 -0.1937046953]\n",
      "[ 2.0501495704 -1.5833543878 -0.4309944636  0.0614242077 -1.3109695095\n",
      "  0.2242769977 -0.1870803302 -0.0234964556  0.191063575   0.5991009078\n",
      " -0.0165555527 -0.4926182021 -0.0362440172  0.0552543454 -0.1913282586\n",
      "  0.0046793665 -0.1749389544 -0.110251068  -0.0450083005  0.110695423 ]\n",
      "[-4.2995281549e+00  3.7648119676e-01  9.9403162270e-01 -5.3056001945e-01\n",
      "  4.6124382540e-02  2.9004335132e-01 -3.8995239521e-01 -2.2197887760e-01\n",
      "  3.9680909406e-01  3.3161359493e-02  5.7026516208e-02 -1.3098661704e-01\n",
      " -3.2703221164e-01 -1.8544876072e-01 -6.1485948941e-02  2.0523717077e-01\n",
      " -2.7146726822e-03  1.3847506583e-01  1.3088056466e-01  1.7414727660e-01]\n",
      "[ 0.7237969373 -0.9903741042 -0.4282575769  0.2225257982 -1.3263487615\n",
      " -0.7341830934  0.2608392757  0.2732027292  0.1585685828 -0.2017490761\n",
      "  0.1196033961 -0.0238291301  0.0210110501  0.1055770274 -0.1303775829\n",
      "  0.1305734524  0.1810761531  0.0965285668  0.0234440684  0.0409372059]\n",
      "[ 0.2386030584  0.1438215579 -1.3556274165  0.1116866194 -0.5582181055\n",
      "  0.1073682994 -0.3811508115 -0.2362266538  0.0946115157  0.4113011683\n",
      "  0.2179499021  0.5131961856 -0.4280348055 -0.1939287206  0.4573463155\n",
      "  0.0199198127 -0.1217599113  0.2967497032 -0.028295632  -0.1293077292]\n",
      "[ 1.0451463639  0.6051930464  1.0657209116 -0.1933930894  0.0832801679\n",
      " -0.4823091591  0.1051011525 -0.1936820796  0.1348376482  0.4263300242\n",
      " -0.0853328841  0.0505107656 -0.0639056911 -0.2490928076 -0.2761939397\n",
      "  0.458442219  -0.0461955942  0.0554828175  0.0517964811 -0.0769276402]\n",
      "[-1.5411594475e+00 -4.7918096585e-01  3.6690657382e-01  4.7236518840e-01\n",
      " -4.8296723859e-02  1.9939819189e-01 -1.3748714235e-01 -4.3175365214e-01\n",
      "  2.8156758405e-01 -1.6354410626e-01 -2.3795819399e-01 -9.9880026412e-02\n",
      " -5.1112255592e-04 -1.0955799061e-01  1.0575900180e-01 -4.8383476278e-02\n",
      " -3.4229333028e-02 -4.1858112840e-01 -2.1022666829e-01 -1.4994555484e-01]\n",
      "[ 3.1322997074 -0.3425349059  1.7967793339 -0.5422377808 -0.2086391717\n",
      " -0.6366933451 -0.4287060042  0.0816806905 -0.0686059722 -0.4846002415\n",
      " -0.1052362858  0.2072563904  0.0079279281 -0.377337684   0.2453789437\n",
      " -0.3562692608 -0.2024478512 -0.0810429879  0.160778216   0.0414077199]\n",
      "[-4.1826698284  0.419839289   0.7772968343 -0.4891782087 -0.1215286524\n",
      "  0.3183660562 -0.2957384369 -0.5818597713  0.859203713  -0.2354503809\n",
      "  0.1959289975 -0.0630704147 -0.1724505353 -0.0480582719 -0.1165476628\n",
      "  0.0625689347 -0.1495726598  0.1950594383  0.068553979   0.0591486054]\n",
      "[ 2.7004984092e+00  3.7925767311e-01  9.8801415960e-01  7.4151634257e-02\n",
      "  1.7935579808e-01  2.0602882920e-01 -6.5422162325e-04 -3.4189477612e-02\n",
      " -1.7742822886e-02  9.8157874400e-02  3.2371428439e-01  2.6925416399e-01\n",
      "  1.1740025269e-01 -1.0290327649e-01 -3.6352560445e-01  1.6199407927e-01\n",
      "  1.1363502416e-01  7.2195526926e-02  6.3819288169e-02 -2.7975334752e-01]\n",
      "[ 1.2014767444 -1.1142400021 -0.4924846192  0.1620539115 -1.6871957029\n",
      " -0.6814564529  0.0377067377  0.1946110552  0.1712486363  0.0480937214\n",
      "  0.2642707068 -0.1119233902 -0.1066268432  0.1037108956 -0.1313543193\n",
      "  0.0765859203  0.0999624441  0.0549981743  0.0662427085  0.109662658 ]\n",
      "[ 5.6720975340e-01  7.7158405393e-01 -1.5919968272e+00 -2.8567035450e-01\n",
      " -1.2949236674e-01  4.0561128203e-01  7.2581325132e-01  3.3021803570e-01\n",
      "  2.7986982208e-01  3.1772879447e-01 -3.2472488475e-01 -3.2178021408e-01\n",
      " -5.8092473090e-02  3.8827427245e-02 -7.0016389139e-02 -1.4365661805e-01\n",
      "  2.6811986310e-01  1.4781601405e-03  1.5227430102e-01 -8.9118798646e-03]\n",
      "[-1.9275994264 -0.2242284935 -0.5082083829  0.0594718171  0.5338204721\n",
      " -0.1907303065 -0.2183441348  0.0872991339  0.4036444647 -0.2744018677\n",
      "  0.2351908325 -0.2501673141  0.7163585725  0.1386623145 -0.3504204693\n",
      " -0.3512095439  0.2366943692 -0.1434978753  0.593034276   0.3219540682]\n",
      "[ 1.8554623457  0.9273112073  0.1844504963  0.2935408752  0.0589809536\n",
      "  0.5099958551  0.5562612917 -0.3587931264 -0.0300488661  0.04162443\n",
      "  0.0170354729  0.1454832769  0.691986385  -0.495870126  -0.007618833\n",
      "  0.1914060144  0.0359608192  0.0319805451 -0.3916059406  0.0109095834]\n",
      "[ 1.5721219637e+00  2.8089458285e+00 -2.8330435895e-01  1.4970565336e+00\n",
      " -5.3048894384e-01 -3.4912779739e-02 -4.6211927047e-01  8.2387912112e-02\n",
      "  9.7901354424e-02 -7.1788271309e-02 -3.6783479875e-01  2.1510597213e-01\n",
      " -1.6416857274e-01  2.6761509775e-02 -3.8493688273e-01  9.6565970935e-02\n",
      "  2.1342476347e-03 -4.2286664749e-02 -1.9929081856e-02  3.1478353047e-02]\n",
      "[ 0.0368891229 -0.2298907683  0.6859846691 -0.6081125576 -0.0009441763\n",
      " -0.6449134234  0.3360164399  0.0585351311  0.1677443804 -0.8081795788\n",
      " -0.5483875751  0.1133714682  0.0674573706 -0.1419227064 -0.0350191046\n",
      " -0.0267299488  0.0318889734  0.3307939102 -0.3060833645  0.2055759896]\n",
      "[-3.764049066  -0.0386573047  0.9678882244 -0.4437127958 -0.4216126577\n",
      "  0.6174306946  0.1374274722  0.569107043  -0.5416565047  0.0680116128\n",
      " -0.0551863658 -0.0865986235 -0.2579287101 -0.1387867865 -0.167087017\n",
      "  0.3576102328  0.1339726703 -0.060662275   0.0589029209 -0.0654560269]\n",
      "[-0.6118507053 -0.8882005167 -0.0525948851  0.4306185789 -1.4369190866\n",
      " -0.1310878152 -0.346746499   0.275018785   0.2174159079 -0.4415160167\n",
      " -0.20414486    0.2852918758  0.0624271336  0.1538121047  0.1424234844\n",
      "  0.1796095144  0.1353838909 -0.2278029396 -0.1239448532  0.1096141749]\n",
      "[ 1.5274585374  0.9279882939  0.4871687526 -0.2475678546  0.3315030379\n",
      "  0.2339991618 -0.1150162672  0.3244741499 -0.1578960886  0.3023552491\n",
      " -0.0276184113 -0.2745003535 -0.1912970667  0.4478604482  0.1040279785\n",
      " -0.0089213341 -0.288940744   0.0309412933 -0.0393510812 -0.0492432092]\n",
      "[ 3.0085818946e+00 -1.3414695510e+00  5.5701061459e-01 -2.1518746543e-02\n",
      " -3.0054945884e-02  2.5562506741e-03 -2.1888869182e-01 -4.5069176874e-03\n",
      "  8.1972875992e-02  4.6056988370e-02  1.6543932797e-01 -1.8902386838e-02\n",
      "  2.7614140274e-01 -6.4440163537e-02  7.3640102055e-02 -5.7240713645e-02\n",
      " -1.1361444050e-01  4.0277463352e-02  7.2400822965e-02  1.0777578879e-01]\n",
      "[ 2.9917096399 -1.3635736609  0.4402152029 -0.4518196778 -0.2090041791\n",
      " -0.0857732085 -0.1663719699  0.1287223964 -0.2257172693  0.061752867\n",
      " -0.0641234404  0.2254095446  0.3168955807  0.0282546284  0.0944749096\n",
      "  0.0745472746 -0.2508726928 -0.1597534601  0.061317209  -0.0184958745]\n",
      "[-4.6881748325e+00  5.1528506398e-01  1.3412165454e+00 -7.7689399084e-01\n",
      " -1.2534993629e-01  5.5502954351e-01  6.9958045591e-04  5.4783555956e-01\n",
      " -1.0073838180e-01  1.3217204572e-01  2.0762333176e-01 -3.0165503694e-01\n",
      " -1.8463755830e-01 -2.0927037295e-01 -7.6004064546e-02  8.6447340766e-02\n",
      "  4.6387829043e-02  1.4131600763e-01  5.6725159841e-02 -1.4953160483e-02]\n",
      "[-0.2437917555  0.6371060179 -1.0620319232 -0.1870060819  0.0392006835\n",
      " -0.5301032923  0.1328783024  0.889826495   0.3960793866  0.5152239285\n",
      "  0.4990933245 -0.2300071693  0.5195156884 -0.1614618431 -0.1216058947\n",
      " -0.2341980636 -0.0526145375 -0.0581993754  0.0649797574 -0.0147181108]\n",
      "[ 3.2478673233 -0.1083853697 -0.4401646054 -0.273456376   1.0272869192\n",
      " -0.061065098  -0.3079292687  0.7345061407  0.1771877603 -0.5876898058\n",
      " -0.1581148739 -0.0796201051 -0.1339969886 -0.153718003   0.0320254106\n",
      "  0.4626643799  0.2700524526  0.0965504268  0.0944924994 -0.0379111691]\n",
      "[ 1.3381674927  0.3517094888 -0.8839489452 -0.3388889754 -0.3486669548\n",
      " -0.0407074771  0.1910937501 -0.5589328973 -0.4844362625 -0.2548154841\n",
      "  0.5684731795 -0.0883635438 -0.1327295354  0.0481279214 -0.1004531052\n",
      "  0.0537257946 -0.1187685683  0.0607199908 -0.297997167  -0.0901584269]\n",
      "[ 0.4996161145  0.7612147749  0.71407561   -0.3646613454  0.0166111247\n",
      " -0.3249191477  0.143309638  -0.1176219305  0.2846585966  0.4619260906\n",
      " -0.3138719374 -0.0865991369 -0.0190568762 -0.1607107425 -0.0883810788\n",
      "  0.6552443682 -0.2129048653  0.166341809   0.1048161072 -0.0544533783]\n",
      "[ 2.9380017217 -0.2475194472  0.4392151332  0.0319434008 -0.0865842017\n",
      "  1.359944186   0.31080268   -0.2638317939 -0.0587162746  0.1123560579\n",
      "  0.2329912164  0.8484360249  0.0174663301  0.2318209406 -0.0697995407\n",
      " -0.1167512418  0.2159897931  0.0736868783  0.0926260704  0.1786220885]\n",
      "[ 1.0360018627 -0.0107105723 -1.1320103799 -0.1155063068 -0.5734993285\n",
      "  0.0735599305 -0.6593066105 -0.7343588885 -0.0578908768 -0.0269002213\n",
      "  0.4153094756  0.1499464482 -0.355329326   0.1873685213  0.2758292609\n",
      "  0.1569475799 -0.0713644749  0.2517167303 -0.0720706663 -0.120667756 ]\n",
      "[ 2.1193714981  0.3908411231  1.1114985802 -0.0556687937  0.2146086996\n",
      " -0.2665834989  0.0217824831 -0.0597967913 -0.0262209327  0.2088888064\n",
      "  0.195546707   0.1399562695  0.0256395136 -0.2357585071 -0.4081565205\n",
      "  0.2795907491  0.038876687  -0.0078720054  0.0520894326 -0.2236577704]\n",
      "[-0.2970282138  0.7222572963 -0.3476543339 -1.0337029008  0.4077409184\n",
      " -0.6094497711  0.3797671324  0.0149221615 -0.357086906   0.1513986129\n",
      " -0.709847657  -0.1025616034 -0.0465098566  0.6366483298  0.3034455355\n",
      "  0.2726917615 -0.1256781407 -0.0783857496  0.2222192691  0.0806777404]\n",
      "[-2.3143260527  0.4898505455 -1.2264425415  0.3966255524  0.5107780083\n",
      " -0.2924812053 -0.089740159   0.3077991653 -0.0683333167  0.3348432596\n",
      "  0.1883774571  0.5385952388  0.2231976402 -0.0621116731  0.0387892468\n",
      "  0.0994671478 -0.1065779965 -0.2188825518 -0.0635081246  0.1582753641]\n",
      "[ 1.4149568714  1.4728162719 -0.3314655948 -0.9811719733 -0.2219506845\n",
      " -0.0034075285  0.0466422354 -0.3855875477 -0.7829763848 -0.1463941959\n",
      "  0.2162909548 -0.2512721378 -0.0267270175 -0.294970125   0.2481308289\n",
      "  0.3132336082 -0.1917926926 -0.1677075765  0.1386327284  0.1178328476]\n",
      "[-1.9214698122 -0.3253306715 -0.8659072256 -0.1237476615 -0.1179492927\n",
      " -0.0303550213 -0.8613046933  0.2166838388 -0.8406462883 -0.0774597658\n",
      " -0.1909766672  0.1261230241  0.5004216461  0.0078721482 -0.1660858321\n",
      " -0.072558299   0.0784869872  0.196781235  -0.0488631149 -0.0660427597]\n",
      "[ 1.3390355995  1.2474680015  0.1934810216  0.1332689516 -0.6164623384\n",
      "  0.5336921298  0.0244885529  0.4591285259  0.4611459341  0.3226759933\n",
      " -0.5699572793  0.1911097062  0.3708878808 -0.03913621    0.2123713726\n",
      " -0.2558992293 -0.2059335558  0.0105712271  0.2244771133 -0.096545829 ]\n",
      "[-1.4350274798 -0.1412965519 -1.1176899082 -0.1987301594  0.0160152083\n",
      " -0.0914037114 -0.8373236561  0.0604089917 -0.4643767471 -0.0441818735\n",
      " -0.170458887   0.1765790565  0.4631211065  0.0667738994 -0.0820474109\n",
      " -0.047828412   0.0544986019  0.1734413829 -0.0811783517 -0.1298176268]\n",
      "[ 2.9062051749 -0.5790958481  0.5912756315 -0.4201361135  0.1059634742\n",
      " -0.1443859696  0.2089047923  0.1896071917 -0.4698174211 -0.0057589673\n",
      "  0.056425375   0.326893091   0.3570878909  0.0477394774 -0.2321660852\n",
      "  0.0508207499 -0.0338204066 -0.3347231917  0.1552836761 -0.2395380025]\n",
      "[ 2.7471364012 -0.3453409054  0.564921343  -0.1418644285  0.19652259\n",
      "  1.0954290576  0.27179967   -0.2817095801  0.0756578589  0.3966246683\n",
      "  0.187296628   0.8474255112 -0.052360066   0.2866043278  0.1014718395\n",
      " -0.0890753587  0.1309307237  0.195513949   0.0067646133  0.2738882526]\n",
      "[ 1.1669958693  2.1877203054 -0.4284019849  1.0116003884 -0.8029306361\n",
      "  0.3117203945  0.1473334181 -0.1424438464  0.2713538099 -0.0998569638\n",
      " -0.5190539941  0.3949380535  0.4213197563 -0.4564080436 -0.1395717531\n",
      " -0.0629202404  0.0597528771 -0.0622708498  0.0241548325  0.0083939095]\n",
      "[ 2.225412521  -0.6831771181  0.8617687483 -0.2509770663  0.3265948971\n",
      " -0.3331391779 -0.073088178   0.0379117324  0.1813077682 -0.5651113946\n",
      " -0.1675257451 -0.0603578073  0.0697706648 -0.3074086757 -0.0087058252\n",
      " -0.1426296964  0.0537756222  0.1701164805 -0.0430304063  0.2496595273]\n",
      "[-3.8914273408e+00  4.7197141074e-01  9.6814343160e-01 -6.1171206557e-01\n",
      " -7.0485844647e-01  6.6148782791e-01  3.6203978849e-01  5.5161222711e-01\n",
      " -3.0290968650e-01  1.3410739406e-03  6.9049945815e-02 -7.1540262977e-02\n",
      " -7.6195056573e-02 -1.0158323461e-02 -1.7034282336e-01  2.8821049499e-01\n",
      "  8.1977370092e-02 -5.8336376187e-02 -5.2849201096e-02 -1.2581079062e-01]\n",
      "[ 3.0032393326 -0.1500156215  0.3870040568  0.1054994893 -0.2345746308\n",
      "  1.3685926428  0.3171038603 -0.1777810269 -0.188386621  -0.0085031777\n",
      "  0.2237611378  0.6637334887  0.1712146855  0.230333199  -0.2454277998\n",
      " -0.1239998569  0.2649753249 -0.0592726856  0.1456235997  0.0124691461]\n",
      "[-0.3612054127  0.2800305668 -1.3685356427  0.3068399088 -0.3745652403\n",
      "  0.0078540174  0.024638256   0.2453460716  0.1240162644  0.6331387796\n",
      "  0.1528692611  0.6321861062 -0.399655303  -0.4123686751  0.4487743672\n",
      " -0.0827557887 -0.2133930567  0.2870195023 -0.0030529014 -0.1060580654]\n",
      "[ 0.4186783234  0.0831314845 -1.3212509232  0.0377999418 -0.5732884943\n",
      "  0.1148926023 -0.5598778377 -0.3971747209  0.0967012791  0.3226609662\n",
      "  0.2433133065  0.4388813373 -0.4102241485 -0.0865582559  0.4514610323\n",
      "  0.0700265952 -0.0920871204  0.2837956905 -0.0509032005 -0.1421585715]\n",
      "[-1.3363397506 -1.3383588244  0.3973609655  1.2578769067  0.0146586813\n",
      " -0.5196924601  0.3414419284 -0.0815060359 -0.2012960026  0.3600786456\n",
      "  0.208928787   0.4194765846  0.0955448628 -0.0386575589 -0.0488912228\n",
      "  0.2744495901 -0.0625453828  0.0352263166  0.0894993998 -0.1373568823]\n",
      "[-1.3172544465 -1.3309845878  0.3324661398  1.2446290353  0.1841459266\n",
      " -0.3100409135  0.2530560365 -0.1408971335 -0.3835387366  0.4928228935\n",
      "  0.1091437379  0.3722985438  0.0962242512 -0.0733564977  0.0156971838\n",
      "  0.1764623761  0.0258131276  0.0826187822  0.1260505531 -0.0864152977]\n",
      "[ 1.6801116625  0.2076063371  1.7525369475 -0.2763484071 -0.6825765036\n",
      " -0.9688295996 -0.4144232253  0.02456542   -0.179011076   0.5109594385\n",
      " -0.0355797833 -0.2037201867 -0.1973498075 -0.1650356484  0.014881844\n",
      " -0.5002717458  0.0091889011 -0.019106682  -0.022396975   0.034385201 ]\n",
      "[ 2.3663309301 -1.6382063835 -0.4821719888 -0.1256352053 -1.0715325723\n",
      "  0.2045132469 -0.1392320504  0.1396038121  0.103528805   0.7323159111\n",
      "  0.0594968921 -0.5592937896  0.0892362905  0.0706227251 -0.1904583347\n",
      "  0.0365529504 -0.2297388295 -0.0900026877 -0.1683545214  0.2717395873]\n",
      "[ 1.078855862   0.6907670497  0.343993054  -0.4478342424 -0.0260357637\n",
      "  0.2848064265  0.0213569692  0.4878124718  0.3481478238  0.4513180428\n",
      " -0.3553436355 -0.3355802449  0.1960287466  0.2120282206  0.2314527273\n",
      "  0.4503796966 -0.5068699252  0.2432745471  0.0485794422 -0.1152419694]\n",
      "[ 2.3346669427 -1.5680232739 -0.1033046792 -0.3068816365 -0.1361251385\n",
      "  0.6136490623 -0.2011854944  0.0571220577  0.3579610839 -0.1863117746\n",
      "  0.1547173201  0.3086984711 -0.4444601986 -0.3133046579 -0.1223113641\n",
      "  0.2807345461 -0.1089483387 -0.04362398    0.1757527328  0.2362500819]\n",
      "[ 0.3526813471 -1.0701207334 -0.3753743272  0.7277089961  0.5199383669\n",
      " -0.1200297411  0.4079121756  0.2698077586 -0.0645834688 -0.4249378979\n",
      "  0.1486917929 -0.3034380686  0.1489469359  0.4096476265  0.2552258762\n",
      "  0.1510826301 -0.071466191   0.1692298859  0.1142986616 -0.059851128 ]\n",
      "[ 0.803988857   0.8541090877 -1.7031737655 -0.4332229278 -0.1890666629\n",
      "  0.474623818   0.7951894428  0.1122093555  0.17914834    0.2014586917\n",
      " -0.4638139468 -0.3398831648 -0.2209730814  0.0393470551 -0.1029657338\n",
      " -0.076348835   0.3016303659 -0.0174112057  0.1346858668  0.0167700793]\n",
      "[ 1.6672162062  0.1822115249  1.6909633185 -0.1017294593 -0.3957940743\n",
      " -1.2001447177 -0.2305703375 -0.2428191593 -0.1098864588  0.6697345696\n",
      " -0.1113938609  0.1952220057 -0.0530984024 -0.102150769   0.0059291004\n",
      " -0.2239623857  0.1692077561  0.0615446209 -0.002363867   0.0787928671]\n",
      "[-2.1299733107 -0.8291957921 -0.3111365402  0.082955561  -0.252971914\n",
      "  0.3061567445 -0.8693840012  0.3792123955 -1.1358073022  0.0819308559\n",
      " -0.253198893   0.0039498814  0.2154418282 -0.1680634006 -0.0628396533\n",
      " -0.024995345   0.2438806367  0.1948504351 -0.0030635353 -0.0052538554]\n",
      "[ 0.3736392868 -1.7144817824 -0.3296171947  0.6569325189 -0.9596270766\n",
      " -0.5181321826 -0.0209521738 -0.2520065891 -0.0431222351  0.1513459377\n",
      " -0.0769819675  0.3160083779 -0.3427427314 -0.0171697932 -0.1015631158\n",
      " -0.0618165465 -0.2110493782 -0.0179760568  0.0736452098 -0.3524414499]\n",
      "[-1.6431648883  0.1953157657 -1.3018491811  0.6708956044  0.3658033637\n",
      " -0.3337280731  0.4423793719  0.5415113898  0.0937211584  0.6345363386\n",
      "  0.0182010051  0.4705355295 -0.2721659964 -0.366890916   0.2166077926\n",
      " -0.0673817588 -0.2441320499  0.0837990491  0.0233831086 -0.018621529 ]\n",
      "[ 1.3484931255  1.2656645276  0.3438653671  0.1838758209 -0.483862829\n",
      "  0.5582685793 -0.1624050308  0.6260146579  0.3136371788  0.3248196486\n",
      " -0.3840859798 -0.1220895774  0.1158960143  0.0955628537  0.1932956192\n",
      " -0.1898328769 -0.3538640632  0.0347012527  0.1649731047 -0.0742011638]\n",
      "[-0.6961900606 -0.0815039249  0.2768421907 -0.3765004033  0.1717780591\n",
      " -0.7565761437  0.303907997  -0.0479272605  0.1566037354 -0.6475057836\n",
      " -0.550460197   0.057692121   0.0533643616 -0.0347595347 -0.1516120085\n",
      "  0.0323007562  0.2567035285  0.4612220153 -0.3987004538  0.1098530379]\n",
      "[ 3.0514012401e+00 -1.0237939569e+00  9.1551695409e-01 -9.4005792455e-02\n",
      "  1.9384527138e-01 -1.2241971687e-01 -2.5020498293e-01 -2.8442190896e-02\n",
      "  1.3625043204e-01 -2.7617041308e-01  7.5983043907e-02  1.7719941237e-03\n",
      "  1.7978890844e-01 -2.2608915190e-01  8.4216079534e-02 -1.4796553698e-01\n",
      " -6.5083719245e-02  6.5882247842e-02  1.1276249260e-01  1.6272431390e-01]\n",
      "[ 1.746230097   0.0064675757 -0.0391187195 -0.196918658   0.2888859522\n",
      "  0.2890042125  0.3211156344 -0.1418474913 -0.2556425415  0.004459056\n",
      "  0.620139347   0.0278255317  0.0976046777 -0.1108456517 -0.0438057651\n",
      "  0.0826957555 -0.048751582  -0.0634585109 -0.557528568  -0.0731335414]\n",
      "[-2.1016452658 -0.9689755112  0.6650164989  0.9465383125  0.3965944184\n",
      "  0.2043137783  0.0456565077 -0.2136076191 -0.2902961112  0.4456340261\n",
      " -0.0239883943  0.0991754326 -0.0464475072 -0.1386819242  0.0956004573\n",
      "  0.3221350676  0.0692887586  0.0215967808  0.2191266232  0.0325373134]\n",
      "[ 2.6348101523  1.9021056213 -0.4416353842  0.6181209682  0.3305237933\n",
      " -0.1329286374 -0.815667183   0.4411541094  0.2619610363 -0.1055152059\n",
      " -0.0608679543  0.3142642594 -0.3779365006  0.0079269794 -0.2770452658\n",
      "  0.0688064593 -0.065419007   0.0061159829  0.0897966499 -0.0292237922]\n",
      "[ 2.8842066783  0.3093111736  0.9388443687  0.1058288047  0.1515543331\n",
      "  0.3232111722  0.0487309513 -0.0546218682 -0.1044384842  0.0392788878\n",
      "  0.3621854145  0.3468920512  0.1551465792 -0.0347286754 -0.370436775\n",
      "  0.080271306   0.1687344527  0.026555719   0.0895865119 -0.2750382067]\n",
      "[ 3.1007978696  0.134021809   0.6536663783  0.1504343421 -0.0535584103\n",
      "  0.9821299877  0.2267030081 -0.1689082902 -0.1928468053 -0.0166714004\n",
      "  0.3355972475  0.6222407276  0.2209610051  0.1961845404 -0.2630128619\n",
      " -0.0990463993  0.2677090573  0.0092584695  0.134862479  -0.1225917752]\n",
      "[ 1.1667415109  0.6947702204  0.2660299704 -0.775839716   0.6364426572\n",
      " -0.0997471438  0.1001518274  0.168675438  -0.375424698   0.2462640216\n",
      " -0.1531766509 -0.2229560125 -0.1709294615  0.6500260713  0.1177648608\n",
      "  0.115012604  -0.2205334605 -0.0176937816 -0.0636983701 -0.0470695309]\n",
      "[ 2.2472291743 -0.0260712737  1.5482166769 -0.2417293149 -0.0850478197\n",
      " -1.0699028981 -0.12278298   -0.1474086499 -0.1766675717  0.3350329748\n",
      " -0.1078751031  0.4425523808  0.1216542656 -0.1577947573  0.028191805\n",
      " -0.1013398968  0.0771809823 -0.0198807215  0.0602971045 -0.0056362228]\n",
      "[ 1.7556991531 -1.2015766561 -0.2968155873  0.5370908809  0.344342482\n",
      "  0.0778627784  0.2368703849  0.1374739678  0.2687773894  0.092819295\n",
      "  0.3546738618 -0.4860420703  0.4476907295  0.2275338409  0.1041101227\n",
      "  0.1339520131  0.1473608059  0.2040815528  0.0244927469  0.0200925965]\n",
      "[ 0.880228202  -1.0042635192 -0.4612069119  0.1876607023 -1.4917861627\n",
      " -0.7590823323  0.1911252795  0.2602877267  0.166212554  -0.1339256266\n",
      "  0.1921881671 -0.0420713318 -0.026719492   0.1055990202 -0.1327197322\n",
      "  0.116248758   0.1753473072  0.0852389691  0.0444454586  0.0646414713]\n",
      "[ 2.2334107606e+00 -1.1201473113e+00  8.3361307661e-02  3.5305445173e-01\n",
      "  4.4901127440e-01  9.0110886369e-02 -3.6303478125e-02  1.7332235866e-02\n",
      "  2.5635407213e-01  6.4873315924e-02  2.4154610356e-01 -3.6902645184e-01\n",
      "  3.5159400845e-01  1.7378221563e-02 -1.9138937514e-03  5.2822143974e-03\n",
      "  1.4447540231e-01  1.8731905789e-01  1.6747879489e-03  1.5858706862e-01]\n",
      "[-0.6763943959 -1.5222379308 -0.1924012731  1.0796700342  0.5487529767\n",
      "  0.1076746814  0.1989283472  0.2603873958 -0.3717206613 -0.2696425887\n",
      " -0.4763179344  0.0755205574 -0.1480933856  0.0083993548 -0.2353928757\n",
      " -0.0993103545 -0.4374993492  0.1215632175 -0.2974304386  0.1488966105]\n",
      "[ 1.7714746120e+00  1.4152565317e-01  1.6468465204e+00 -1.3165523895e-01\n",
      " -2.8410943908e-01 -1.1781136922e+00 -1.6816662872e-01 -2.4284023989e-01\n",
      " -1.1313198462e-01  5.9142857544e-01 -1.2001786193e-01  2.9388921958e-01\n",
      "  1.2267282759e-03 -1.1696109148e-01  6.0810100746e-03 -1.5948147355e-01\n",
      "  1.5281506432e-01  4.4765701370e-02  1.3112901798e-02  6.5567717112e-02]\n",
      "[ 1.2083937012e+00  1.7058882980e+00  9.1996431641e-01  2.1335420162e+00\n",
      " -4.0205348281e-01  2.3671880346e-01  1.7288917778e-01 -2.6762534871e-01\n",
      " -3.1968722848e-01 -2.9481143264e-01  2.8485409690e-01 -6.4646506653e-01\n",
      " -3.3968050261e-02 -2.7918358651e-02  3.6593645491e-01  6.4398053861e-02\n",
      "  5.0094690850e-02  1.3334224367e-02 -2.1091240079e-03  1.0604676245e-01]\n",
      "[ 1.5506968021  1.7069375558  1.042582051   2.1760163971 -0.2744799994\n",
      "  0.2194162728  0.11972276   -0.0548875771 -0.1839283831 -0.3378286364\n",
      "  0.2208259468 -0.5921401909 -0.1438078421  0.0998713726  0.2181961274\n",
      "  0.1079381603  0.0439770285  0.108321143  -0.024967622   0.0553505905]\n",
      "[ 2.8063645607 -1.2010112024  0.500589852   0.1418376662  0.2447170908\n",
      "  0.032318486  -0.1604024514 -0.0201667299  0.1985627583 -0.015104453\n",
      "  0.1947902826 -0.1729173382  0.2728385438 -0.0995363532  0.0231034078\n",
      " -0.0841434452  0.007259715   0.119539343   0.0554923495  0.1725714903]\n",
      "[-0.8693704693 -0.2797788363 -0.8651866883 -0.0768152454  0.4535822391\n",
      " -0.7207123818  0.0722107365 -0.2195231251  0.1341962408 -0.0412363633\n",
      "  0.1956864851 -0.0277158122 -0.0999545468 -0.0108493266  0.4850157468\n",
      " -0.0202577009  0.2347845794 -0.2500739132 -0.058959277   0.1106072981]\n",
      "[-2.9717415456 -0.7210615862  0.6343739095 -0.0505051496 -0.2220598705\n",
      "  0.6060891695 -0.2947858411  0.5487587955 -0.9105556013  0.1519520575\n",
      " -0.1902813667 -0.0408135878 -0.3110353024 -0.2551760316 -0.0885624585\n",
      "  0.3074142568  0.2595164691 -0.051853844   0.0870051393 -0.006906298 ]\n",
      "[ 2.4495285821 -0.4347908788  1.4787535635 -0.6474688597 -0.0817648472\n",
      " -0.4736228031 -0.1271359968  0.1502258473  0.0674492386 -0.7656137408\n",
      " -0.2424984935  0.0867398614 -0.0194604605 -0.3989203563  0.1533679035\n",
      " -0.2816039023 -0.1881546461  0.0051640739  0.0367652076  0.1893787355]\n",
      "[ 1.5745063117  0.7016128968  0.3223916805 -0.7889629139  0.8713835855\n",
      " -0.1270385709  0.0075422231 -0.0426460851 -0.4350998663  0.1743083471\n",
      "  0.139577043  -0.0302228519 -0.2903135956  0.4917052108 -0.0148730348\n",
      " -0.1238644214 -0.0720905587 -0.1370282154 -0.1977500346 -0.1573379027]\n",
      "[ 2.1296930227 -1.5821609321 -0.3230884368 -0.2160839476 -0.2920749131\n",
      "  0.4730906748 -0.0841828721 -0.1302541027  0.222819252  -0.2385075542\n",
      " -0.1167140887  0.2894101034 -0.3425873237 -0.4406031364 -0.2503417308\n",
      "  0.2550259436 -0.0965298903 -0.05554821    0.2359599767  0.0119033661]\n",
      "[ 1.2460990655 -1.0917952853 -0.531448143   0.1682119438 -1.2538184121\n",
      " -0.7547796269  0.3181209325  0.2627389383  0.2015407811  0.0129174918\n",
      "  0.2652565769 -0.2068520755  0.0185390134  0.0654074017 -0.155955049\n",
      "  0.0867975928  0.184268798   0.1433424433 -0.0103454922  0.0653286361]\n",
      "[ 2.4371002765 -1.5098824321  0.0548154216 -0.3008840053  0.0295829248\n",
      "  0.6813598786 -0.1636282613  0.1646611181  0.3645704789 -0.0708175883\n",
      "  0.3176034854  0.3252595735 -0.4906370124 -0.2302736176 -0.0502400078\n",
      "  0.2445071925 -0.0833939664 -0.0871206021  0.0521441458  0.3101234758]\n",
      "[-0.8756074948 -1.1149835256  0.2157570796  0.617258938  -1.4989760639\n",
      " -0.3259404476 -0.2809340603  0.3367899954  0.2227199818 -0.3715647103\n",
      "  0.0855287309  0.4006601014 -0.0473488662  0.201065184   0.1770033311\n",
      "  0.2590865276  0.0669067293 -0.2138144984 -0.123523613  -0.0595952663]\n",
      "[ 2.3166346075 -1.3312431623  0.0631314521 -0.2883288339  0.1112329545\n",
      "  0.6012909022 -0.2603460964  0.1551267359  0.3496600413 -0.0572494742\n",
      "  0.432265107   0.221419483  -0.4147721714 -0.1353343763  0.0168493768\n",
      "  0.2376198575 -0.0772047212 -0.0691906477 -0.0485278955  0.2512410291]\n",
      "[-0.5926626015  0.5362589647 -1.1219588466  0.0058716499  0.1581163575\n",
      " -0.7424123661  0.2609040524  0.8584753508  0.3591805291  0.5024775462\n",
      "  0.5534445471 -0.0606718098  0.2843695579 -0.3330231316 -0.0851704815\n",
      " -0.2361911911 -0.113956728   0.0276238995  0.0551559091  0.009504473 ]\n",
      "[-3.6763446153 -0.0567381061  0.9321633186 -0.1372635042  0.183232594\n",
      "  0.3389920155 -0.3073100708 -0.2522866429  0.1416250929  0.1524765061\n",
      " -0.066102751  -0.1088280809 -0.3385759203 -0.1918877811 -0.0041500201\n",
      "  0.3160996797  0.0077089688  0.0544242875  0.1892705131  0.1605823039]\n",
      "[ 2.1919455851e+00 -2.9541062347e-02  6.5736954165e-01 -4.3201868487e-02\n",
      "  5.6411445922e-01  6.0818959225e-01  4.4010741358e-01 -2.1808429284e-01\n",
      "  1.9926768774e-01  4.8333500587e-01 -1.6054901112e-03  4.3832421940e-01\n",
      "  2.5058540860e-01  2.0942006643e-02  1.5776549693e-02  6.2801622854e-02\n",
      "  9.6361186401e-02  9.5665740461e-02 -2.7644481964e-01  8.5469311635e-02]\n",
      "[-2.5258571765  0.6439907854 -1.0007833711 -0.0899344522  0.0635076769\n",
      " -0.2705509476 -0.4202015923  0.4244411903 -0.4984422884  0.0083650935\n",
      "  0.2368225785  0.5436131402  0.4624669804  0.0398891523 -0.0922909776\n",
      "  0.069341543  -0.0861328475 -0.1766981311 -0.2275225837  0.0644449954]\n",
      "[-1.6560443754 -0.3640022804 -0.9386981512 -0.1447157116 -0.0860550414\n",
      " -0.0154274359 -0.8921023772  0.0944520235 -0.744601368  -0.076742404\n",
      " -0.2379597129  0.096417456   0.5245668923  0.035424598  -0.1665404098\n",
      " -0.0786036262  0.0734812861  0.2549850736 -0.0224595537 -0.0807802004]\n",
      "[ 5.6173085885e-01  5.6704828783e-01 -1.6383956756e+00 -9.6336165079e-02\n",
      " -3.5556897885e-01  3.0497888877e-01  7.5171448845e-01  1.0050783301e-01\n",
      "  6.6514105638e-04  2.0525819144e-01 -7.0316609454e-02 -4.7880172322e-02\n",
      " -2.7959178889e-01 -1.7516769308e-01 -9.0968680079e-02 -1.7311907875e-01\n",
      "  1.2622660242e-01  1.9703893239e-01  2.0392204142e-01  1.8490001020e-02]\n",
      "[ 1.7505366465e+00  1.8734490263e+00  9.6510309500e-01  2.1017652403e+00\n",
      " -2.2300200143e-01  1.6151097522e-01 -9.2604503967e-04  4.0072613451e-02\n",
      " -1.4649466937e-01 -3.1745247866e-01  1.3783925073e-01 -5.0706914993e-01\n",
      " -1.8504154436e-01  1.5549626648e-01  1.0804249734e-01  1.5592513155e-01\n",
      "  3.7513895784e-02  1.1991753458e-01 -4.4077572106e-02  4.5755241047e-02]\n",
      "[-2.5947527091  1.075421606  -0.6354011047 -0.1512091942 -0.0563566716\n",
      "  0.0302149158 -0.3112356245  0.0561449523  0.121482446   0.0685394198\n",
      "  0.5244341575  0.4532263539  0.4398225498  0.1352961436 -0.2921030372\n",
      "  0.2016806806  0.0478865008 -0.2658613893 -0.0270533382  0.3919166415]\n",
      "[ 3.0802798131e+00  1.2809789768e+00  6.2564206364e-01  8.1549669683e-01\n",
      "  5.4542443589e-01 -1.2232140957e-02 -3.2150064648e-01  8.0719097681e-01\n",
      "  2.7264179678e-02 -5.2454750328e-01 -2.1656666077e-01  1.6501318342e-03\n",
      " -2.7223946563e-01  1.7636442227e-01 -1.5463617844e-01  4.3628373948e-01\n",
      "  4.1516135243e-02  2.0300416445e-01  2.5105636151e-02 -5.5679319071e-03]\n",
      "[ 1.6567907398  1.5185138319  0.3676871698  0.4217328229 -0.1249995241\n",
      "  0.398708567  -0.3641735964  0.4209645395  0.0358385266  0.2094247993\n",
      " -0.0670628934 -0.0731979147 -0.2661998935  0.1569149526  0.0134612334\n",
      " -0.275036296  -0.2396846144 -0.0239447817  0.0976013931 -0.0287949136]\n",
      "[-3.4530104891 -0.0513400812  0.7670026411  0.0563690155  0.1253939745\n",
      "  0.2537123071 -0.1909924442 -0.5261818495  0.4583613527  0.0182667634\n",
      "  0.0532044198 -0.0549718504 -0.1523104041 -0.0971081188 -0.049387746\n",
      "  0.284496108  -0.1489696251  0.077773791   0.1595728518  0.1000679993]\n",
      "[-0.9004498171 -0.673851937  -0.887784728  -0.1214356038 -0.1257898436\n",
      "  0.176386655  -0.9565342821 -0.2785398835 -0.637578354  -0.0484081849\n",
      " -0.3932364451 -0.0185632397  0.5640512272  0.0503597611 -0.1951435567\n",
      " -0.0664820018  0.0512040202  0.4870870194  0.1057555183 -0.041920218 ]\n",
      "[ 2.4028251119 -1.5943999199 -0.0860671698 -0.2892934532 -0.1482993339\n",
      "  0.6650158227 -0.1094870726  0.0772184072  0.3329574779 -0.1674902248\n",
      "  0.1346162356  0.3648312683 -0.479466724  -0.3396556341 -0.1427114305\n",
      "  0.2620170153 -0.0905373313 -0.0876125906  0.1738641279  0.2430071643]\n",
      "[-1.6801648057  0.4427445493 -1.365972893   0.0890597706  0.1786487142\n",
      " -0.2147956792 -0.3426776335  0.382830821  -0.142306933   0.3477698546\n",
      "  0.0319796219  0.5660008762  0.1349093943 -0.0993153385  0.2797122289\n",
      "  0.0125139869 -0.0490721748 -0.0777242598 -0.2469526682 -0.0897177254]\n",
      "[-0.1589044567  0.506408676   1.2308776248 -0.1247712133 -0.4319771349\n",
      " -1.1026262304  0.2591429823 -0.559405655   0.0860275603  0.9112381976\n",
      " -0.3255434256  0.178837377  -0.1451865369  0.0597712959 -0.0318981011\n",
      "  0.1482584789  0.2740453204  0.0413383796  0.0040564263  0.1907773432]\n",
      "[ 2.2319971456 -1.5479142977 -0.347355336  -0.0060448033 -0.9488332628\n",
      "  0.7145206328 -0.1012636067 -0.0426119674  0.1452811635  0.5587343949\n",
      " -0.1970745418 -0.4922103542  0.0548504645  0.0271049089 -0.2879046\n",
      "  0.0152050291 -0.1188120207 -0.2307630022 -0.0471717169 -0.0392221785]\n",
      "[ 1.3706174149  1.3990473087 -1.3344941033 -1.0241467016 -0.563557946\n",
      " -0.0419160581  0.6656581161 -0.5324292675 -0.6876549574 -0.208436367\n",
      "  0.1152065137 -0.3013064869 -0.1288658866 -0.2891476655 -0.3111928023\n",
      "  0.1468536634 -0.1430938689 -0.0782764823 -0.0343068953  0.1230360142]\n",
      "[ 2.3437010127 -0.424970022   0.7190056783 -0.1369797438  0.6857441844\n",
      "  0.6819438168  0.3677091678 -0.1754002203  0.1706375123  0.5551754177\n",
      "  0.1479971828  0.4914012578  0.0273550961  0.1167065985  0.0259763954\n",
      "  0.05500379    0.0911795807  0.093552338  -0.2840113654  0.187980532 ]\n",
      "[ 1.2657408965  1.1942572478 -1.2679745182 -0.9504232019 -0.1092535145\n",
      "  0.3633648602  0.38763474   -0.1480113664 -0.0306206418  0.05840321\n",
      " -0.48926597   -0.291867252  -0.2887633956  0.0226855829  0.0103113958\n",
      "  0.1844633961  0.1904078585 -0.1528685641  0.0446507414  0.0510354145]\n",
      "[ 2.302353939  -1.6089130149 -0.5210266244 -0.0784422249 -1.1215084491\n",
      "  0.0328886356 -0.1078353327  0.1508319857  0.1323773809  0.6933134795\n",
      "  0.1322913419 -0.5421812506  0.0592875951  0.0480109323 -0.1768893285\n",
      "  0.024857203  -0.1838228195 -0.039706738  -0.16965499    0.2802567417]\n",
      "[ 1.9413679789 -1.6377267535 -0.3880334197  0.1312249632 -1.1173453567\n",
      "  0.3890376744 -0.1440935496 -0.1287753656  0.1906297293  0.4821791342\n",
      " -0.1797135175 -0.413804831  -0.088315544  -0.0093477367 -0.222757761\n",
      " -0.0127243692 -0.1370903794 -0.1842447071 -0.0026423989 -0.1171996793]\n",
      "[ 2.1121578378  0.1858183377  0.5811366161  0.0432941191  0.4771454825\n",
      "  0.5843926812  0.4844827375 -0.2377049061  0.191763196   0.394159339\n",
      " -0.0406935743  0.386816669   0.367674864  -0.0834538479 -0.0037424651\n",
      "  0.0850352636  0.0933955664  0.0810152978 -0.3008524986  0.0403504549]\n",
      "[-4.3953730108e+00  5.5837425437e-01  7.6635679391e-01 -7.7071673842e-01\n",
      " -2.8037837372e-01  4.9049907120e-01 -2.0988151298e-01 -5.4492388867e-01\n",
      "  1.0496878676e+00 -4.3335974274e-01  3.4289884841e-01 -1.1107263507e-02\n",
      " -1.7110669942e-01  2.1011200917e-02 -1.3242491340e-01 -2.0415794823e-01\n",
      " -9.3899296510e-02  2.8510558894e-01  2.0348060076e-03 -1.0435006633e-01]\n",
      "[ 2.5359632284 -0.4838474805  0.6527364947 -0.2399621596  0.449575111\n",
      "  0.8640118751  0.2803719762 -0.2357922054  0.1569004007  0.5832522393\n",
      "  0.1293373046  0.7209538028 -0.0798008289  0.2784723118  0.1254568532\n",
      " -0.0399110931  0.0883660981  0.1833683213 -0.0854345522  0.2965548318]\n",
      "[ 1.2360813207 -0.0173555695 -0.9881870708 -0.1749899692 -0.496984129\n",
      "  0.0406126848 -0.5550547864 -0.7244526747 -0.14379396   -0.1477671425\n",
      "  0.5027167393  0.0392174683 -0.2974753204  0.2446673132  0.1869898618\n",
      "  0.161918348  -0.0813985858  0.1999881963 -0.1224879772 -0.11190249  ]\n",
      "[ 1.4520492606  0.2206004707  1.6730497548 -0.3246946141 -0.7370327483\n",
      " -0.8799014443 -0.3712136862  0.0772151064 -0.1918473084  0.5057147745\n",
      " -0.0254046899 -0.289674692  -0.2230391791 -0.1523007703 -0.0052315351\n",
      " -0.524782326  -0.0213511606 -0.042711847  -0.0389828057  0.0286077083]\n",
      "[ 2.7585013476 -1.3372677377 -0.0510583291 -0.4976645584 -0.3728056831\n",
      "  0.3736433733  0.0696523554  0.2634365989 -0.3356046601  0.3663006571\n",
      " -0.1049774203 -0.0855482864  0.3451921314  0.1992266985 -0.1816541198\n",
      "  0.1087735    -0.2475513254 -0.3206622756  0.0069444529  0.0034037079]\n",
      "[ 3.8694953993e-01 -1.1001659970e+00 -2.3632311321e-01  3.4231194083e-01\n",
      " -1.9529433315e+00 -5.6357801504e-01 -1.9700430515e-01  2.3425454883e-01\n",
      "  1.3732432147e-01 -2.4329077072e-01  1.8800967093e-01  2.4276267735e-01\n",
      " -1.6104687315e-01  2.4431523337e-01 -1.2139990540e-03  1.5678260361e-01\n",
      "  6.4748353347e-02 -4.9973340881e-02  1.2642257168e-01  2.9089942952e-02]\n",
      "[ 1.0029896514  0.4463767934 -1.5618521203 -0.2354762304 -0.6392098577\n",
      "  0.0936104556  0.4297377041 -0.6030116527 -0.4103623991 -0.1644372244\n",
      "  0.1842893415 -0.0109285681 -0.4576998575 -0.0577167919 -0.139094898\n",
      " -0.0297536642 -0.0154188763  0.2282998214  0.0553188673  0.00483567  ]\n",
      "[ 1.3685568658  1.7195168454  0.9840943783  2.1862492949 -0.3461655545\n",
      "  0.229522961   0.1486111556 -0.1670508119 -0.2451993518 -0.3131375681\n",
      "  0.2532317077 -0.6268274753 -0.0942901464  0.0435497902  0.2884269564\n",
      "  0.0819134611  0.0486693041  0.0610837927 -0.0163415978  0.0796198874]\n",
      "[-5.3971875411e-01 -6.8876709754e-01 -2.4121465191e-01  8.5690519181e-01\n",
      "  8.0183075669e-01  7.0456649586e-04 -4.1823697942e-01 -3.8136019890e-01\n",
      " -3.5382541857e-03  1.6016420786e-01 -4.8834547581e-01 -4.5785505487e-02\n",
      "  9.0748717704e-02 -3.3740851411e-01 -3.5198361527e-01  8.4872973114e-02\n",
      " -2.6018498011e-01  2.0347871730e-04 -3.0421994209e-01  2.8742343703e-02]\n",
      "[-1.2350194632 -0.8558361138  0.288891881   0.5729955228 -0.939672632\n",
      " -0.0538953444 -0.2855784389  0.1552002452  0.303040891  -0.3318357668\n",
      " -0.1314951656  0.18719809    0.0473521339  0.0459500668  0.2181738367\n",
      "  0.1734420239  0.0993096337 -0.3433428498 -0.2650105785 -0.0439904151]\n",
      "[-3.7166756767 -0.3406394337  1.0717651989 -0.3197536161 -0.0543191748\n",
      "  0.5822976005 -0.0832112905  0.4289810228 -0.5480189782  0.1867586874\n",
      " -0.1578076669 -0.178326566  -0.4261379576 -0.2485154671 -0.0688969803\n",
      "  0.353817931   0.1711860807 -0.0179135634  0.1686348307  0.0180171936]\n",
      "[-0.3324448949 -1.4458256734 -0.1921955619  0.9143488354  0.3629459147\n",
      " -0.0996259031  0.4267086505  0.2999767308 -0.2668269759 -0.3970438576\n",
      " -0.287158475  -0.0150225747 -0.0532538379  0.1973349896 -0.0723349508\n",
      " -0.0101600601 -0.3104816693  0.1535551021 -0.1328760555  0.0281953722]\n",
      "[ 1.0614963404  0.6854924066 -1.6860933691 -0.4271611588 -0.6089370443\n",
      "  0.1195950832  0.7059390702 -0.5391508676 -0.4447227339 -0.1920263536\n",
      "  0.0360089638 -0.1431530422 -0.4310847606 -0.1073307045 -0.2738659655\n",
      " -0.0392808714  0.0225078342  0.1480984788  0.0630946769  0.0455421755]\n",
      "[-1.9840139308 -0.6471433879  0.5756502842  0.6920547968  0.0227343678\n",
      " -0.0468711423  0.3001021298 -0.4262130872  0.3140450868 -0.12300683\n",
      "  0.1508036331 -0.0659759351  0.0811575304 -0.0724301426 -0.041203652\n",
      "  0.1769649736 -0.2421719953 -0.1305023049 -0.0105523586 -0.2456576161]\n",
      "[-4.5185021678  0.7245472109  1.3018252835 -0.7508209012  0.0186228347\n",
      "  0.5091824905 -0.2622573912  0.5178898386  0.1395381562  0.1348984419\n",
      "  0.4464701374 -0.240589711  -0.0876118805 -0.2520758254 -0.0709353886\n",
      " -0.1173278472  0.0806990476  0.2344901209 -0.0142768994  0.033386881 ]\n",
      "[-0.6078653634 -0.0276756357 -1.2818739008 -0.1906237047 -0.0438540184\n",
      " -0.0032495616 -0.88428576   -0.1136325605  0.0331899238  0.1761012701\n",
      " -0.0718503341  0.2710981373  0.1258957212  0.0413144897  0.2412782962\n",
      "  0.0412094741  0.0607310428  0.1331639625 -0.1606601038 -0.2031841925]\n",
      "[-1.4048904933e+00  3.6695534086e-01 -1.4079722787e+00  2.4815789912e-01\n",
      "  1.1776308408e-01 -1.5056658369e-01 -1.7649680804e-01  4.0592715282e-01\n",
      " -1.2485743761e-02  5.3698772346e-01 -4.3766419514e-03  6.1066285668e-01\n",
      " -8.9298025525e-02 -2.1956841699e-01  4.0988667878e-01  5.6492288079e-04\n",
      " -9.8599755795e-02 -3.1006850309e-03 -2.0314650274e-01 -1.0976942285e-01]\n",
      "[ 1.149274871   2.3957363619 -0.4616650619  1.0700978326 -0.8666202546\n",
      "  0.2657470056 -0.0413082882  0.0201140408  0.309761194  -0.0663501995\n",
      " -0.5674835529  0.4597348419  0.2163460332 -0.3283434301 -0.2277233698\n",
      " -0.1564782006  0.010904083  -0.0836634423  0.1160845688 -0.012468453 ]\n",
      "[-1.4369124693 -1.2339195992  0.509587232   1.1236770389 -0.2729404552\n",
      " -0.5852164886  0.3255406973  0.0182816117  0.0551541156  0.1057057138\n",
      "  0.2645320036  0.3387854297  0.0916375324 -0.0169596479 -0.0458157981\n",
      "  0.3669720499 -0.1132545475 -0.0556597344 -0.0168137084 -0.1938903691]\n",
      "[-1.4750368137 -0.1495605076 -1.0366730031  0.2794192843  0.7192579799\n",
      " -0.9645100884  0.3327024567 -0.0082341304  0.3239153021  0.067506122\n",
      "  0.2613767765 -0.082970246  -0.2320491488 -0.0476947369  0.1570936747\n",
      " -0.1360760129  0.0785583456 -0.1088196875  0.0072951862  0.0855916114]\n",
      "[-0.103823706   0.6373986542  1.0926999601 -0.2345987478 -0.2311268948\n",
      " -0.9000984142  0.3119308669 -0.4921099522  0.1347355265  0.7217446988\n",
      " -0.3515176406  0.1637879451 -0.1167545766 -0.0535574995 -0.0727167108\n",
      "  0.3466560557  0.1233746854  0.0190497795  0.0555742925  0.140951594 ]\n",
      "[-2.6031394126  1.2096945451 -0.4048944094 -0.3043222819 -0.3620183142\n",
      "  0.1786009911 -0.216658497   0.0638960406  0.1445707383  0.0343305154\n",
      "  0.4991068419  0.4244360604  0.3734912385  0.1594726413 -0.2958005774\n",
      "  0.2268159365  0.1000679928 -0.2281844779 -0.0855782233  0.340095612 ]\n",
      "[-0.3067910471 -1.1227597131 -0.0055896681  0.4913812048 -1.8605028237\n",
      " -0.4223946882 -0.3039623843  0.3185135273  0.1659836007 -0.3790855606\n",
      "  0.1293724101  0.4052390403 -0.1192317738  0.2762008244  0.1122360704\n",
      "  0.221681786   0.0624397695 -0.1371452713  0.0272369214 -0.0118042733]\n",
      "[-2.0832759459e+00 -9.0652453736e-01  6.3802544974e-01  1.0202153335e+00\n",
      "  3.3807188587e-01 -1.2028311648e-03  1.9805621756e-01 -2.9469338383e-01\n",
      " -7.1552257163e-02  3.4157119976e-01  9.4183189803e-02  1.3636497660e-01\n",
      "  6.2771161444e-02 -9.1569560842e-02  1.1448451823e-02  3.6878338405e-01\n",
      " -7.0841049085e-02  1.4775784424e-02  1.9565444277e-01 -1.8790847395e-02]\n",
      "[-0.4795239549  0.8780064527  0.3436114277 -0.5756959175 -0.0788740322\n",
      " -0.5087494694  0.3492666407 -0.2383989156  0.2147928797  0.4849425718\n",
      " -0.6281451598 -0.0768566602 -0.0093403121  0.0601263095  0.1455396894\n",
      "  0.6698439511 -0.1944891373  0.1032502919  0.2186551262  0.0736648707]\n",
      "[ 1.228415063  -1.2309909819 -0.3909896652  0.49165388   -0.1013646581\n",
      " -0.3313475053  0.570910483   0.2630835255  0.2207358694 -0.0779912641\n",
      "  0.2549393255 -0.3792088345  0.3095983087  0.2255569549  0.0300664508\n",
      "  0.1545807603  0.1307747057  0.236132176  -0.0118918532 -0.089277201 ]\n",
      "[-4.7746809971  0.7637254321  1.2722906738 -0.8318112545 -0.0093453609\n",
      "  0.41165504   -0.3157550094  0.3781837696  0.2475664666  0.0953753932\n",
      "  0.3718646132 -0.2218632744 -0.1648217332 -0.2492132582 -0.0827876791\n",
      " -0.0476410112  0.0889633298  0.2511895358  0.026040661   0.0828968026]\n",
      "[-1.8542050154 -0.5105842113 -0.2451739248  0.4908251961  0.8171951431\n",
      " -0.6068965113  0.1058764237 -0.4874190343  0.3992286876 -0.3139964246\n",
      "  0.1809187871 -0.1642416606  0.1203582992  0.3692667122 -0.0553248689\n",
      " -0.3244933399  0.0078105643 -0.159040532   0.3077882782  0.1514020561]\n",
      "[-1.6875506246 -1.2536835982  0.4765537276  0.9756233578  0.3377775061\n",
      "  0.3436595337 -0.1270774937 -0.0510988293 -0.6881244131  0.5774089068\n",
      " -0.136925727   0.090440918  -0.0475718727 -0.18952359    0.197711096\n",
      "  0.1380605963  0.2682519981  0.1047227194  0.1760682853  0.029704122 ]\n",
      "[ 2.3687460273 -1.5812115969 -0.0946859245 -0.2980875448 -0.1422122362\n",
      "  0.6393324425 -0.1553362835  0.0671702325  0.3454592809 -0.1769009997\n",
      "  0.1446667778  0.3367648697 -0.4619634613 -0.326480146  -0.1325113973\n",
      "  0.2713757807 -0.099742835  -0.0656182853  0.1748084303  0.2396286231]\n",
      "[ 2.3641307691 -1.376318773   0.0884671712 -0.2885911667  0.1192226901\n",
      "  0.6329927047 -0.2163634568  0.1710167191  0.3501976627 -0.0388959776\n",
      "  0.4166428974  0.2564779212 -0.44046202   -0.1543920626  0.0035569598\n",
      "  0.2324487589 -0.0744161313 -0.0797951186 -0.0397074254  0.2765576594]\n",
      "[-4.6465915824e+00  7.4413632151e-01  1.2870579786e+00 -7.9131607788e-01\n",
      "  4.6387369163e-03  4.6041876525e-01 -2.8900620033e-01  4.4803680413e-01\n",
      "  1.9355231140e-01  1.1513691751e-01  4.0916737534e-01 -2.3122649271e-01\n",
      " -1.2621680688e-01 -2.5064454183e-01 -7.6861533887e-02 -8.2484429200e-02\n",
      "  8.4831188710e-02  2.4283982837e-01  5.8818808196e-03  5.8141841780e-02]\n",
      "[ 2.3343424345 -1.6235596992 -0.5015993066 -0.1020387151 -1.0965205107\n",
      "  0.1187009412 -0.1235336915  0.1452178989  0.117953093   0.7128146953\n",
      "  0.095894117  -0.5507375201  0.0742619428  0.0593168287 -0.1836738316\n",
      "  0.0307050767 -0.2067808245 -0.0648547129 -0.1690047557  0.2759981645]\n",
      "[-2.6752664505  1.2063256997 -0.4392357795 -0.2760096986 -0.33355545\n",
      "  0.1363594551 -0.220817899   0.0996330656  0.0668652873  0.0317726654\n",
      "  0.5081230615  0.4765140117  0.3802122706  0.1501679794 -0.2937569117\n",
      "  0.2453506923  0.0533594333 -0.2421398795 -0.1149353823  0.3322210868]\n",
      "[ 2.4006155228 -1.4431006026  0.0716412964 -0.294737586   0.0744028075\n",
      "  0.6571762916 -0.1899958591  0.1678389186  0.3573840708 -0.0548567829\n",
      "  0.3671231914  0.2908687473 -0.4655495162 -0.1923328401 -0.023341524\n",
      "  0.2384779757 -0.0789050489 -0.0834578604  0.0062183602  0.2933405676]\n",
      "[ 2.7923525438  0.3442844234  0.9634292641  0.0899902195  0.1654550656\n",
      "  0.2646200007  0.0240383648 -0.0444056729 -0.0610906535  0.0687183811\n",
      "  0.3429498494  0.3080731076  0.136273416  -0.0688159759 -0.3669811897\n",
      "  0.1211326926  0.1411847384  0.049375623   0.0767029001 -0.2773957771]\n",
      "[ 2.9706205271 -0.1987675344  0.413109595   0.068721445  -0.1605794162\n",
      "  1.3642684144  0.3139532702 -0.2208064104 -0.1235514478  0.0519264401\n",
      "  0.2283761771  0.7560847568  0.0943405078  0.2310770698 -0.1576136702\n",
      " -0.1203755493  0.240482559   0.0072070963  0.1191248351  0.0955456173]\n",
      "[-3.5646775522 -0.0540390936  0.8495829799 -0.0404472443  0.1543132843\n",
      "  0.2963521613 -0.2491512575 -0.3892342462  0.2999932228  0.0853716347\n",
      " -0.0064491656 -0.0818999656 -0.2454431622 -0.14449795   -0.0267688831\n",
      "  0.3002978938 -0.0706303282  0.0660990392  0.1744216824  0.1303251516]\n",
      "[ 2.6326803909  1.8050181728 -0.4369692502  0.5631639073  0.3765178751\n",
      " -0.1233001263 -0.7991501216  0.4079299225  0.2637628496 -0.0925279661\n",
      " -0.0125499164  0.2908979944 -0.3684188702 -0.0153739672 -0.2409259893\n",
      "  0.0493259426 -0.058988124   0.0028088588  0.0827868972 -0.0365692615]\n",
      "[-2.0924606058e+00 -9.3775002426e-01  6.5152097431e-01  9.8337682298e-01\n",
      "  3.6733315213e-01  1.0155547359e-01  1.2185636264e-01 -2.5415050145e-01\n",
      " -1.8092418416e-01  3.9360261295e-01  3.5097397767e-02  1.1777020461e-01\n",
      "  8.1618271425e-03 -1.1512574254e-01  5.3524454553e-02  3.4545922583e-01\n",
      " -7.7614524127e-04  1.8186282608e-02  2.0739053299e-01  6.8732330211e-03]\n",
      "[ 2.4547554706  2.4360011546  0.1454238781  1.3331123838  0.0186565291\n",
      " -0.1443021303 -0.6299365637  0.4543935828  0.0689318772 -0.1903525249\n",
      " -0.2620249025  0.1001227355 -0.3559080568  0.2757545866 -0.3926912666\n",
      "  0.2927107239 -0.0491822011  0.0772659736 -0.0148325941  0.0053809073]\n",
      "[ 1.1581353701e+00  2.2917283336e+00 -4.4503352335e-01  1.0408491105e+00\n",
      " -8.3477544536e-01  2.8873370002e-01  5.3012564953e-02 -6.1164902803e-02\n",
      "  2.9055750191e-01 -8.3103581625e-02 -5.4326877350e-01  4.2733644773e-01\n",
      "  3.1883289472e-01 -3.9237573689e-01 -1.8364756149e-01 -1.0969922052e-01\n",
      "  3.5328480058e-02 -7.2967146011e-02  7.0119700665e-02 -2.0372717720e-03]\n",
      "[ 2.9074732277 -1.2712403767  0.5288002333  0.0601594598  0.1073310725\n",
      "  0.0174373683 -0.1896455716 -0.0123368238  0.1402678171  0.0154762677\n",
      "  0.1801148053 -0.0959098625  0.2744899733 -0.0819882584  0.0483717549\n",
      " -0.0706920794 -0.0531773628  0.0799084032  0.0639465863  0.1401736396]\n",
      "[-4.6673832075e+00  6.2971069275e-01  1.3141372620e+00 -7.8410503436e-01\n",
      " -6.0355599686e-02  5.0772415438e-01 -1.4415330994e-01  4.9793618185e-01\n",
      "  4.6406964803e-02  1.2365448162e-01  3.0839535355e-01 -2.6644076482e-01\n",
      " -1.5542718259e-01 -2.2995745739e-01 -7.6432799217e-02  1.9814557833e-03\n",
      "  6.5609508877e-02  1.9207791800e-01  3.1303520330e-02  2.1594340648e-02]\n",
      "[ 1.7193454091  0.161868589   1.6689049194 -0.1166923491 -0.3399517567\n",
      " -1.1891292049 -0.1993684831 -0.2428296996 -0.1115092217  0.6305815725\n",
      " -0.1157058614  0.2445556126 -0.0259358371 -0.1095559303  0.0060050553\n",
      " -0.1917219296  0.1610114102  0.0531551612  0.0053745174  0.0721802921]\n",
      "[ 1.2884752835  1.7127025717  0.9520293474  2.1598956555 -0.3741095186\n",
      "  0.2331208822  0.1607501667 -0.2173380803 -0.2824432901 -0.3039745004\n",
      "  0.2690429023 -0.6366462709 -0.0641290983  0.0078157158  0.3271817056\n",
      "  0.0731557575  0.0493819975  0.0372090085 -0.0092253609  0.0928333249]\n",
      "[-4.2890214196  0.4891067717  0.7718268141 -0.6299474736 -0.200953513\n",
      "  0.4044325637 -0.2528099749 -0.56339183    0.9544457903 -0.3344050618\n",
      "  0.2694139229 -0.0370888391 -0.1717786174 -0.0135235355 -0.1244862881\n",
      " -0.0707945068 -0.1217359781  0.2400825136  0.0352943925 -0.0226007305]\n",
      "[ 1.4383352562  1.5390670146 -0.3506683774 -0.9554253967 -0.3004703517\n",
      " -0.0347778707  0.0975368455 -0.4311377625 -0.8606708152 -0.1635950585\n",
      "  0.2950279531 -0.277228885   0.0442916253 -0.3553555699  0.2160941939\n",
      "  0.3132985589 -0.2250622533 -0.1627120112  0.1178392736  0.1396427884]\n",
      "[ 3.0326451853 -0.0450837626 -0.9831061432 -0.3212876189  1.0663953733\n",
      " -0.2312685048 -0.5207012699  0.2937035261  0.4154114749 -0.2527869476\n",
      "  0.158240646  -0.1912734571 -0.1044000712 -0.285175635   0.1023487177\n",
      "  0.3151942726  0.1938527326  0.0319398059  0.0447169642 -0.1114804283]\n",
      "[ 1.9957587746 -1.6105405707 -0.4095139417  0.0963245854 -1.2141574331\n",
      "  0.3066573361 -0.1655869399 -0.0761359106  0.1908466522  0.540640021\n",
      " -0.0981345351 -0.4532115166 -0.0622797806  0.0229533043 -0.2070430098\n",
      " -0.0040225014 -0.1560146669 -0.1472478876 -0.0238253497 -0.0032521281]\n",
      "[ 1.4526740883  0.8811844615  0.4626104941 -0.3075668186  0.3237700307\n",
      "  0.2203401204 -0.0813972897  0.3384665963 -0.1408806956  0.3148745101\n",
      " -0.0700234687 -0.2952494266 -0.156162577   0.4656690802  0.1238533048\n",
      "  0.0440271615 -0.3114189237  0.0470860259 -0.0331784933 -0.0477059639]\n",
      "[ 1.5660804616  0.2141034039  1.7127933512 -0.3005215106 -0.7098046259\n",
      " -0.924365522  -0.3928184558  0.0508902632 -0.1854291922  0.5083371065\n",
      " -0.0304922366 -0.2466974393 -0.2101944933 -0.1586682093  0.0048251544\n",
      " -0.5125270359 -0.0060811298 -0.0309092645 -0.0306898904  0.0314964547]\n",
      "[-1.3267970986 -1.3346717061  0.3649135526  1.251252971   0.0994023039\n",
      " -0.4148666868  0.2972489825 -0.1112015847 -0.2924173696  0.4264507696\n",
      "  0.1590362624  0.3958875642  0.095884557  -0.0560070283 -0.0165970195\n",
      "  0.2254559831 -0.0183661276  0.0589225494  0.1077749765 -0.11188609  ]\n",
      "[ 2.6411188895e+00 -2.9218501365e-01  1.2186451647e+00 -3.9368875286e-01\n",
      "  1.2548072248e-01 -7.9971010667e-01  1.5921085515e-02  3.7124404213e-03\n",
      " -2.9660718788e-01  6.6461857339e-02 -6.8476420717e-02  5.2268890720e-01\n",
      "  2.5658822263e-01 -1.4126917728e-01 -1.6357929768e-02  2.1885400408e-03\n",
      " -8.4416715649e-03 -1.5335535920e-01  1.1268942799e-01 -1.2509818733e-01]\n",
      "[-0.7277653248 -1.5047286127 -0.2097088484  1.1062234821  0.6279645298\n",
      "  0.1181720513  0.1600902974  0.2689617908 -0.3980939857 -0.2429180706\n",
      " -0.4551427365  0.0828707308 -0.1893162747 -0.025874161  -0.2732525802\n",
      " -0.1180457877 -0.4577240648  0.1298285973 -0.3274654343  0.1631596861]\n",
      "[ 2.1520517115e+00  7.8138637665e-02  6.1925307885e-01  4.6125295530e-05\n",
      "  5.2062997084e-01  5.9629113674e-01  4.6229507553e-01 -2.2789459945e-01\n",
      "  1.9551544185e-01  4.3874717245e-01 -2.1149532228e-02  4.1257044422e-01\n",
      "  3.0913013632e-01 -3.1255920639e-02  6.0170422739e-03  7.3918443226e-02\n",
      "  9.4878376379e-02  8.8340519136e-02 -2.8864865910e-01  6.2909883269e-02]\n",
      "[ 2.4398321206 -0.4544087513  0.6858710865 -0.1884709517  0.5676596477\n",
      "  0.7729778459  0.324040572  -0.2055962128  0.1637689565  0.5692138285\n",
      "  0.1386672437  0.6061775303 -0.0262228664  0.1975894551  0.0757166243\n",
      "  0.0075463485  0.0897728394  0.1384603297 -0.1847229588  0.2422676819]\n",
      "[ 1.4468841891  0.8805008923  0.3665263512 -0.1717407834 -0.4036202678\n",
      "  0.5531048022 -0.0465465197  0.598183367   0.4956397047  0.4563560848\n",
      " -0.443233956  -0.0507799231  0.3611216523  0.0701603201  0.2977324095\n",
      " -0.0211219378 -0.3612218981  0.1431015173  0.1287970774 -0.1419110423]\n",
      "[ 2.3641155024e+00 -1.2483992502e+00  6.3246111165e-02  3.4619824154e-01\n",
      "  2.9508475379e-01  1.0154129614e-01 -1.0457925376e-02  3.6040774347e-02\n",
      "  2.5472830544e-01  1.5063078677e-01  2.8601827121e-01 -3.6047310061e-01\n",
      "  3.6183100950e-01  3.8616838918e-02  1.4833184148e-03  1.0094764269e-03\n",
      "  1.0182365791e-01  1.7342631444e-01 -4.3245400871e-03  1.4541825283e-01]\n",
      "[-3.5214814233 -0.3485795288  0.9091840522 -0.280979449  -0.2089851373\n",
      "  0.5885873358 -0.078530561   0.4991266834 -0.6456499983  0.1349610775\n",
      " -0.1331393956 -0.0967724016 -0.3517173074 -0.2177367454 -0.1155137192\n",
      "  0.3571316266  0.1791213801 -0.0509610898  0.1136058204 -0.0071354843]\n",
      "[-2.3447974351 -0.1328145345 -1.1055346235  0.7474522001  0.8702314987\n",
      " -0.4688985144  0.2129795779  0.0975896775  0.1873849514  0.2619137202\n",
      "  0.0771381949  0.1461278476  0.0397051025 -0.0663581649 -0.1396001146\n",
      "  0.0058619802 -0.0756505004 -0.1712829901  0.2117632472  0.1654004847]\n",
      "[-1.6106787587  0.1807833814 -1.2638336299  0.6723162031  0.413467809\n",
      " -0.448238248   0.5377373805  0.5593376485  0.1494936506  0.5965806219\n",
      "  0.0752787598  0.375989577  -0.2792110295 -0.3775386068  0.1400481292\n",
      " -0.1059722901 -0.2493346264  0.1065000199  0.0581586027 -0.0049031261]\n",
      "[ 1.1109566687  2.297722709  -0.1706890434  1.4093505586 -0.6976688079\n",
      "  0.1834041649  0.0293818071 -0.3604891004 -0.1716661209 -0.16350476\n",
      " -0.1397826204 -0.0825517429  0.3340864532 -0.4151125679  0.075164655\n",
      "  0.1098465798  0.0904991545 -0.0872140647 -0.0986094783  0.1395022137]\n",
      "[ 0.8020125697 -0.9973188117 -0.4447322444  0.2050932503 -1.4090674621\n",
      " -0.7466327129  0.2259822776  0.266745228   0.1623905684 -0.1678373514\n",
      "  0.1558957816 -0.032950231  -0.002854221   0.1055880238 -0.1315486576\n",
      "  0.1234111052  0.1782117302  0.090883768   0.0339447635  0.0527893386]\n",
      "[ 1.2121635453  0.0418324336 -1.0449510486 -0.1756347042 -0.5239671934\n",
      "  0.0267305014 -0.4455679821 -0.7315396026 -0.2004099188 -0.1600577513\n",
      "  0.4910041853  0.0389088146 -0.3159645374  0.2166570979  0.1511155297\n",
      "  0.1394650192 -0.0834156471  0.2045753773 -0.1144624445 -0.1040618617]\n",
      "[ 1.6506167243  1.790193291   1.003842573   2.1388908187 -0.2487410004\n",
      "  0.190463624   0.0593983575 -0.0074074818 -0.1652115262 -0.3276405576\n",
      "  0.1793325988 -0.5496046704 -0.1644246932  0.1276838196  0.1631193124\n",
      "  0.1319316459  0.0407454622  0.1141193388 -0.0345225971  0.0505529158]\n",
      "[-2.6350095798  1.1408736529 -0.5373184421 -0.2136094464 -0.1949560608\n",
      "  0.0832871854 -0.2660267618  0.077889009   0.0941738667  0.0501560426\n",
      "  0.5162786095  0.4648701828  0.4100174102  0.1427320615 -0.2929299744\n",
      "  0.2235156864  0.0506229671 -0.2540006344 -0.0709943602  0.3620688641]\n",
      "[ 1.3437643625  1.2565662645  0.2686731944  0.1585723863 -0.5501625837\n",
      "  0.5459803545 -0.0689582389  0.5425715919  0.3873915565  0.3237478209\n",
      " -0.4770216295  0.0345100644  0.2433919475  0.0282133218  0.2028334959\n",
      " -0.2228660531 -0.2798988095  0.0226362399  0.194725109  -0.0853734964]\n",
      "[ 2.931466609  -0.2864997262  0.3132610846  0.0607092967 -0.2604395779\n",
      "  1.3899437187  0.3118807106 -0.1564415859 -0.1600058207  0.0349456368\n",
      "  0.1742064237  0.612505168   0.1421394425  0.2162452233 -0.2399455437\n",
      " -0.1062523826  0.2374517939 -0.0796548183  0.133120522   0.0402608709]\n",
      "[-4.0487721189  0.4089987711  0.729625253  -0.6705320679 -0.2127578733\n",
      "  0.5906848028 -0.0892482921 -0.5378863987  0.8961256856 -0.4233996718\n",
      "  0.3305321221  0.0098087638 -0.1808536518  0.0305858702 -0.0990816263\n",
      " -0.2507088631 -0.1068416389  0.2427388355  0.0363070952 -0.1960499336]\n",
      "[-3.6427652447 -0.1936184167  0.9385361383 -0.3623461224 -0.3152988975\n",
      "  0.6030090152  0.0294484556  0.5341168632 -0.5936532515  0.1014863452\n",
      " -0.0941628807 -0.0916855125 -0.3048230087 -0.1782617659 -0.1413003681\n",
      "  0.3573709297  0.1565470252 -0.0558116824  0.0862543707 -0.0362957556]\n",
      "[ 2.1468530165  0.4496554433  1.049922901  -0.0469396161  0.1939783107\n",
      " -0.1134224092 -0.0150003248 -0.0237596259  0.067353019   0.2223320797\n",
      "  0.1851792268  0.1203726742  0.0435854804 -0.2191632333 -0.3599830424\n",
      "  0.3158344795  0.0044217564  0.0748937007  0.041101356  -0.2397870877]\n",
      "[-3.3656855909 -0.1036101172  0.7514064482  0.0873663093  0.1077609096\n",
      "  0.2586899113 -0.1099405729 -0.5221100625  0.4544646896 -0.0252290743\n",
      "  0.0831572592 -0.0721786451 -0.1226849752 -0.0893426381 -0.0635695899\n",
      "  0.2564187061 -0.1795402988  0.0756198508  0.1517508913  0.0433404634]\n",
      "[-1.5173237261 -0.4240458953  0.3332330831  0.4428163887  0.0297793005\n",
      "  0.2455505667 -0.1807217867 -0.5037485262  0.2726290449 -0.1425028293\n",
      " -0.2833413283 -0.1129576723 -0.0084671783 -0.1199552179  0.0938286281\n",
      " -0.0837988383 -0.0377829179 -0.4381250558 -0.2037719416 -0.1374923459]\n",
      "[-1.7887570938 -0.344666476  -0.9023026884 -0.1342316865 -0.1020021671\n",
      " -0.0228912286 -0.8767035352  0.1555679312 -0.7926238282 -0.0771010849\n",
      " -0.21446819    0.1112702401  0.5124942692  0.0216483731 -0.166313121\n",
      " -0.0755809626  0.0759841367  0.2258831543 -0.0356613343 -0.07341148  ]\n",
      "[-1.2521409599 -0.942814737   0.3425509266  0.6416623642 -0.9473403829\n",
      " -0.1707943921 -0.2023895322  0.184491244   0.2808764478 -0.3005058491\n",
      " -0.0344847013  0.2263245788  0.0323570348  0.0561216095  0.1899115767\n",
      "  0.2160107708  0.0700981701 -0.3005494889 -0.2397766862 -0.08626551  ]\n",
      "[-4.1793383131  0.5535796205  1.2755339973 -0.6861897888 -0.1042590263\n",
      "  0.6556371291 -0.0295033209  0.5482383784 -0.0503142466  0.1274642034\n",
      "  0.3238295447 -0.2970487275 -0.078959961  -0.1826798912 -0.0471874389\n",
      " -0.0740833852  0.005938832   0.1191335797 -0.0449884193 -0.0555303616]\n",
      "[ 2.7909141448e+00 -3.8866289238e-01  1.6377664487e+00 -5.9485332026e-01\n",
      " -1.4520200944e-01 -5.5515807407e-01 -2.7792100048e-01  1.1595326888e-01\n",
      " -5.7836680175e-04 -6.2510699115e-01 -1.7386738963e-01  1.4699812591e-01\n",
      " -5.7662661888e-03 -3.8812902019e-01  1.9937342360e-01 -3.1893658154e-01\n",
      " -1.9530124864e-01 -3.7939456988e-02  9.8771711815e-02  1.1539322768e-01]\n",
      "[-1.5066264155 -1.1790588029  0.5316832067  1.1105759269 -0.2109205572\n",
      " -0.5402952136  0.3406547208 -0.0214273253  0.0783412478  0.0990708227\n",
      "  0.2588933113  0.293818956   0.1070616014 -0.0283811858 -0.0481232368\n",
      "  0.3708423623 -0.1265386601 -0.0595809564 -0.0108280944 -0.1937975322]\n",
      "[ 1.0322429959  0.5659346    -1.6239727447 -0.3313186946 -0.624073451\n",
      "  0.1066027694  0.5678383872 -0.5710812601 -0.4275425665 -0.178231789\n",
      "  0.1101491527 -0.0770408051 -0.4443923091 -0.0825237482 -0.2064804317\n",
      " -0.0345172678  0.0035444789  0.1881991501  0.0592067721  0.0251889228]\n",
      "[ 2.7259478370e+00 -2.7248171695e-03 -9.2029939513e-01 -3.8049738471e-01\n",
      "  1.0344978656e+00 -2.4725792993e-01 -4.8540313698e-01  9.3421088889e-02\n",
      "  4.1123217887e-01 -1.1088973767e-01  2.5833819812e-01 -1.8357731049e-01\n",
      " -1.0810966918e-01 -2.8703281760e-01  1.0631772815e-01  2.2458089075e-01\n",
      "  1.3905628748e-01 -2.1056289706e-02 -5.9643265816e-03 -1.6230237452e-01]\n",
      "[ 1.2084172855  0.6596225419  0.2408570015 -0.883148946   0.7507908575\n",
      " -0.1700173677  0.1148096025  0.0846586045 -0.4576519301  0.1916264199\n",
      " -0.0966357501 -0.131395132  -0.2158807593  0.6359225963  0.0628407748\n",
      "  0.0163630317 -0.1455278648 -0.0840392277 -0.1156963391 -0.0864237785]\n",
      "[-0.0661129352  0.6814643284  1.0254512798 -0.2646685127 -0.1817596132\n",
      " -0.812091692   0.3000911652 -0.4483689652  0.1545769255  0.6677183458\n",
      " -0.3556279809  0.1243451553 -0.1107250263 -0.0832645145 -0.0828560366\n",
      "  0.4106097103  0.0674817563  0.0287964785  0.0725290568  0.1142966241]\n",
      "[ 1.223787905  -1.1030176437 -0.5119663811  0.1651329276 -1.4705070575\n",
      " -0.7181180399  0.1779138351  0.2286749968  0.1863947087  0.0305056066\n",
      "  0.2647636419 -0.1593877328 -0.0440439149  0.0845591487 -0.1436546841\n",
      "  0.0816917565  0.1421156211  0.0991703088  0.0279486081  0.087495647 ]\n",
      "[-2.3836873302  0.3738307364 -1.1609614866  0.4416370489  0.60164445\n",
      " -0.2987673435 -0.1062311748  0.2017433293  0.0198546728  0.2818037869\n",
      "  0.2123241214  0.4306801551  0.2609057123 -0.0330234419 -0.060924858\n",
      "  0.0978725779 -0.0718431852 -0.2426610488  0.041061994   0.2164770471]\n",
      "[-2.1616168726 -0.5628024883  0.5798899015  0.615377791   0.0528467852\n",
      "  0.0294435417  0.2957943995 -0.5051029816  0.3634969024 -0.1452169859\n",
      "  0.1681800226 -0.0842461492  0.076600122  -0.0618421517 -0.0613021531\n",
      "  0.1575944927 -0.2782921197 -0.0913303901  0.0257777943 -0.2393273504]\n",
      "[ 2.249219525  -1.5816862645 -0.2088871807 -0.2570857462 -0.2171435747\n",
      "  0.5562115587 -0.1197595778 -0.0315419351  0.2841392664 -0.2077042769\n",
      "  0.0139763445  0.3130874865 -0.4022753925 -0.3835416412 -0.191426564\n",
      "  0.2632008622 -0.0981363626 -0.0605832477  0.2053842035  0.1257659946]\n",
      "[ 2.2831697901 -1.5857369985 -0.4244773213 -0.0540417592 -1.0226768868\n",
      "  0.416610787  -0.1123986491  0.0513029657  0.1316171283  0.6357745451\n",
      " -0.0505902124 -0.5214739371  0.0645562036  0.0432108688 -0.2357892158\n",
      "  0.0229550529 -0.1627964226 -0.1478088575 -0.1080882363  0.118387993 ]\n",
      "[-4.1741501369  0.3927399839  0.8618284378 -0.6005460437 -0.0833167454\n",
      "  0.4403640771 -0.2396003436 -0.3799326381  0.6464673898 -0.1951191562\n",
      "  0.1937793191 -0.0605889266 -0.2539429317 -0.0774314453 -0.0802837876\n",
      " -0.0227358461 -0.0547781558  0.1906069507  0.0835938299 -0.0109513285]\n",
      "[ 2.9495914338e+00 -1.3174070188e+00  4.8450771809e-01 -1.9583010900e-01\n",
      " -5.0836553318e-02 -3.4167920110e-02 -1.7800877075e-01  5.8192786326e-02\n",
      " -4.2724726098e-02  3.8614567365e-02  5.7995682432e-02  6.4749841055e-02\n",
      "  2.9569277697e-01 -2.6866814971e-02  7.1423332262e-02  1.9275975867e-03\n",
      " -1.5202502780e-01 -3.9922528458e-02  6.2631897625e-02  6.0838882527e-02]\n",
      "[ 1.8925305613  0.154790822   1.7473410372 -0.1646518631 -0.4321651089\n",
      " -1.1400521454 -0.3162366493 -0.1555239777 -0.134870124   0.5501145483\n",
      " -0.0897808074  0.1321690224 -0.0663306978 -0.1449653355  0.0325888579\n",
      " -0.301210242   0.1059754195  0.0351787505  0.010631877   0.0551041734]\n",
      "[-4.035382827   0.5127755156  1.1218387145 -0.6489509272 -0.4045587364\n",
      "  0.6585624785  0.1662682338  0.5499253028 -0.1766119665  0.0644026387\n",
      "  0.1964397452 -0.1842944952 -0.0775775088 -0.0964191074 -0.1087651311\n",
      "  0.1070635549  0.0439581011  0.0303986017 -0.0489188102 -0.0906705761]\n",
      "[ 1.7932540624 -1.620311219  -0.5141053718  0.1215806618 -0.5988779938\n",
      "  0.2938959316  0.0090230033 -0.2479801294  0.1161890838  0.1131748828\n",
      " -0.3314274943 -0.1125530642 -0.2233360444 -0.3157404049 -0.2976321447\n",
      "  0.0187015479 -0.0410416087 -0.2465321634  0.0555573549 -0.4024977793]\n",
      "[ 2.5934842609 -0.3998748283  0.6253962147 -0.1651676901  0.3820911188\n",
      "  0.9342034517  0.297920121  -0.2436528965  0.1197134077  0.4829192484\n",
      "  0.1629819358  0.7268015207 -0.0392914662  0.2420968915  0.0885942319\n",
      " -0.0407645051  0.1103517816  0.1669871393 -0.0889791728  0.2580779672]\n",
      "[-1.7805169271 -1.1772534069  0.5362419372  1.0176883447  0.3650619003\n",
      "  0.2502503589 -0.0248534441 -0.109476201  -0.5406479005  0.5396624892\n",
      " -0.075709106   0.118641081  -0.0270485063 -0.1624247701  0.1538962483\n",
      "  0.2065087428  0.1879061015  0.0730365466  0.1911540658  0.0210700139]\n",
      "[ 0.6855993052  0.8128465708 -1.6475852963 -0.3594466411 -0.1592795148\n",
      "  0.44011755    0.760501347   0.2212136956  0.229509081   0.2595937431\n",
      " -0.3942694158 -0.3308316894 -0.1395327772  0.0390872411 -0.0864910615\n",
      " -0.1100027265  0.2848751145 -0.0079665228  0.1434800839  0.0039290997]\n",
      "[ 1.2958583726  0.3200905945 -0.9823255129 -0.3102126536 -0.4215338796\n",
      " -0.0415153535  0.1143169674 -0.6183546926 -0.4607471642 -0.2563254649\n",
      "  0.5360760204 -0.0710378295 -0.1976954031  0.0809863941 -0.0753111636\n",
      "  0.0593295772 -0.1107316818  0.0997747271 -0.238410364  -0.085108758 ]\n",
      "[ 2.6384068806 -0.8534855375  0.8886428512 -0.1724914294  0.2602200842\n",
      " -0.2277794474 -0.1616465805  0.0047347707  0.1587791001 -0.4206409038\n",
      " -0.0457713506 -0.0292929066  0.1247797866 -0.2667489138  0.0377551272\n",
      " -0.1452976167 -0.0056540485  0.1179993642  0.0348660431  0.2061919206]\n",
      "[ 2.0913680389  0.2476009542  0.5481908252  0.0682142941  0.4394937729\n",
      "  0.5813102401  0.4917002879 -0.2459625484  0.1837945258  0.3653994467\n",
      " -0.0458105313  0.3740970769  0.3951110079 -0.1159283317 -0.0053740741\n",
      "  0.0913601452  0.0904658607  0.0779206994 -0.3040376173  0.036508542 ]\n",
      "[ 2.2591772825  2.3020150771 -0.0446893927  1.0791544898 -0.0293076892\n",
      " -0.0329860048 -0.6676628769  0.4037917468  0.1260896869 -0.0912372912\n",
      " -0.1797129397  0.2084391694 -0.3838334145  0.1399839304 -0.3290603883\n",
      "  0.0564149222 -0.0817098783  0.013629029   0.0611940724 -0.0069756692]\n",
      "[ 1.4091765078  1.4020582572 -1.098981023  -0.9200966222 -0.5294808313\n",
      " -0.0653904809  0.6307052424 -0.5440701049 -0.7660821817 -0.2103213222\n",
      "  0.2795130202 -0.2861562092  0.0399615158 -0.3622120801 -0.2735729565\n",
      "  0.161237094  -0.1978276579 -0.0768375669 -0.1274021682  0.108984447 ]\n",
      "[-1.7732446455 -0.4867861063 -0.4235737985  0.4438458359  0.8130538658\n",
      " -0.6871701684  0.1555224311 -0.5017627834  0.3568565624 -0.2719049255\n",
      "  0.1657312293 -0.1342347945 -0.038017892   0.320409273   0.0831046637\n",
      " -0.2564397672  0.0507055154 -0.1683238738  0.2154985004  0.1397735447]\n",
      "[-1.5425276495  0.4048499451 -1.3869725858  0.1686088348  0.1482058992\n",
      " -0.1826811315 -0.2595872208  0.3943789869 -0.0773963384  0.4423787891\n",
      "  0.01380149    0.5883318664  0.0228056844 -0.1594418777  0.3447994538\n",
      "  0.0065394549 -0.0738359653 -0.0404124724 -0.2250495855 -0.0997435741]\n",
      "[ 0.3286406909  0.1134765212 -1.3384391698  0.0747432806 -0.5657532999\n",
      "  0.1111304509 -0.4705143246 -0.3167006874  0.0956563974  0.3669810672\n",
      "  0.2306316043  0.4760387615 -0.419129477  -0.1402434883  0.4544036739\n",
      "  0.0449732039 -0.1069235159  0.2902726969 -0.0395994163 -0.1357331503]\n",
      "[ 1.3651286669  2.5503370811 -0.3641689412  1.268952822  -0.6826321946\n",
      "  0.1269104601 -0.2045533528  0.0106115047  0.1942294282 -0.0774459265\n",
      " -0.4555517861  0.3212212099  0.077332161  -0.1828071136 -0.2842922221\n",
      " -0.0065666248  0.0187313638 -0.0576269054  0.0250953094  0.0147205406]\n",
      "[-0.7437291    -1.0015920211  0.0815810972  0.5239387584 -1.4679475753\n",
      " -0.2285141314 -0.3138402797  0.3059043902  0.2200679448 -0.4065403635\n",
      " -0.0593080645  0.3429759886  0.0075391337  0.1774386444  0.1597134078\n",
      "  0.219348021   0.1011453101 -0.220808719  -0.1237342331  0.0250094543]\n",
      "[ 4.9761143124e-01  4.6540656114e-01 -1.5705609340e+00  1.4108647508e-03\n",
      " -4.2939420608e-01  2.4435855791e-01  6.0107673918e-01  3.6905738191e-02\n",
      " -3.3247631694e-02  2.3050327003e-01  4.6630029308e-02  1.0538061654e-01\n",
      " -3.3221303790e-01 -2.2922636667e-01 -1.2049823666e-02 -1.6029323090e-01\n",
      "  4.5233697380e-02  2.6065816921e-01  1.9224649959e-01  7.1501010633e-03]\n",
      "[ 2.1394642824e+00 -1.5981387846e+00 -4.1699563148e-01  2.1141413133e-02\n",
      " -1.1184171599e+00  3.6163406155e-01 -1.3899279451e-01 -1.2416472430e-02\n",
      "  1.6123189022e-01  5.8820728303e-01 -7.4362373766e-02 -4.8734272683e-01\n",
      "  1.1382115324e-03  3.3082086566e-02 -2.2141611280e-01  9.4662757656e-03\n",
      " -1.5940554476e-01 -1.4752837254e-01 -6.5956793008e-02  5.7567932441e-02]\n",
      "[-0.0357475687  0.4591367752  1.2887045882 -0.0856372435 -0.4845108828\n",
      " -1.140128636   0.1924701332 -0.5374093792  0.058245371   0.9554587209\n",
      " -0.2878712786  0.1475014749 -0.1575219933  0.0716064807 -0.037256527\n",
      "  0.0720955392  0.2993493966  0.054823932  -0.0146624832  0.1858160412]\n",
      "[ 3.0161322393 -0.0762389586  0.4834637314  0.1055718194 -0.1569989941\n",
      "  1.1860368532  0.2692918593 -0.1626749381 -0.176426313   0.0091371182\n",
      "  0.2549018356  0.6173729478  0.1815502238  0.2062148819 -0.2514792028\n",
      " -0.102649391   0.2525804256 -0.0351981744  0.1339915005 -0.0411654521]\n",
      "[ 1.2380426678  2.424029895  -0.2674289923  1.3391516903 -0.6901505012\n",
      "  0.1551573125 -0.0875857728 -0.1749387979  0.0112816536 -0.1204753432\n",
      " -0.2976672033  0.1193347335  0.2057093071 -0.2989598407 -0.1045637835\n",
      "  0.0516399775  0.0546152592 -0.072420485  -0.0367570845  0.0771113772]\n",
      "[ 1.7293055114  0.184447113   1.7300671942 -0.2325866868 -0.5709848674\n",
      " -1.0322088337 -0.3545275525 -0.0523168572 -0.1601496581  0.5292258274\n",
      " -0.060136522  -0.0572642085 -0.1382625956 -0.1518167724  0.0187070062\n",
      " -0.4068686389  0.0499471449  0.002134743  -0.0100290067  0.043300314 ]\n",
      "[ 1.124082704   0.0155609306 -1.0884807143 -0.1455705055 -0.548733261\n",
      "  0.0501452159 -0.5524372963 -0.7329492455 -0.1291503978 -0.0934789863\n",
      "  0.4531568304  0.0944276314 -0.3356469317  0.2020128096  0.2134723953\n",
      "  0.1482062995 -0.077390061   0.2281460538 -0.0932665554 -0.1123648088]\n",
      "[-0.7946441761 -0.8031335777 -0.1179945401  0.5816286489 -0.4384126974\n",
      "  0.266026346  -0.4237375779 -0.0493483092  0.1942570015 -0.2466383647\n",
      " -0.6553873692  0.0922281551  0.1636661603 -0.097994367   0.0607999654\n",
      "  0.0543650835  0.0165914581 -0.2790059344 -0.2902256528  0.1989054987]\n",
      "[ 2.6951651244 -0.2674384717 -1.0079543588 -0.4137658732  1.0041929917\n",
      " -0.2062806042 -0.4492352792  0.1598698038  0.3693006102 -0.1844167989\n",
      "  0.1732662571 -0.2888159679 -0.1306854022 -0.2803810097  0.1077700106\n",
      "  0.2863689108  0.2097190873 -0.0122785747  0.0316570946 -0.1338779562]\n",
      "[-1.6118922868 -0.2429815139 -1.0099962983 -0.166480923  -0.0429934794\n",
      " -0.05714747   -0.8570135957  0.1079884615 -0.6285002876 -0.0606414792\n",
      " -0.1924635385  0.1439246483  0.4878076878  0.0442111362 -0.124180266\n",
      " -0.0617046873  0.0652413693  0.1996622686 -0.058419843  -0.1016145534]\n",
      "[-1.6327630492 -0.1096529554  0.2868853514  0.2143306666  0.4503755239\n",
      "  0.4320648444 -0.1852025895 -0.9606543425  0.1706941209 -0.03759068\n",
      " -0.2133498    -0.1213211368 -0.1020429272 -0.0914978952 -0.0692015943\n",
      " -0.2644351305 -0.1801785624 -0.3979743074  0.0081153715 -0.2052341303]\n",
      "[-3.3072533952 -0.4573400014  0.7864550239 -0.206425636  -0.268679384\n",
      "  0.6045490923 -0.1326686927  0.5414378294 -0.7521044264  0.1267192013\n",
      " -0.1422221237 -0.0662495501 -0.3079291556 -0.2167188988 -0.1149314133\n",
      "  0.3323925933  0.2080317472 -0.0538327632  0.086629755  -0.0216010268]\n",
      "[ 1.3914617986  0.6806177193  0.281624341  -0.8360559299  0.8110872215\n",
      " -0.1485279693  0.0611759128  0.0210062597 -0.4463758982  0.1829673835\n",
      "  0.0214706465 -0.080808992  -0.2530971775  0.5638139036  0.02398387\n",
      " -0.0537506949 -0.1088092118 -0.1105337215 -0.1567231868 -0.1218808406]\n",
      "[ 2.7160165171 -0.340423953   1.4282058067 -0.4942710366 -0.0098606435\n",
      " -0.6774340904 -0.1309999575  0.0598328546 -0.1485927773 -0.2793225669\n",
      " -0.1211719052  0.3348435166  0.1254109782 -0.2646990987  0.0915077469\n",
      " -0.1583740207 -0.1018714601 -0.0956474081  0.1057305699 -0.0048524798]\n",
      "[ 1.4695460039  1.7514479314  0.9779359602  2.1493932371 -0.3114252595\n",
      "  0.2117922531  0.1100742621 -0.1123727811 -0.2238274082 -0.315807529\n",
      "  0.2241877505 -0.5931254707 -0.1142768958  0.0677497677  0.245150509\n",
      "  0.1025437017  0.0450637298  0.0756641737 -0.021873979   0.0716931203]\n",
      "[-2.4547722533  0.5089107609 -1.0808724288  0.1758512983  0.3325760635\n",
      " -0.2846591456 -0.2632163836  0.3130922598 -0.2392938078  0.1450844402\n",
      "  0.2245733499  0.4871466476  0.3616863463  0.0034328552 -0.0766079178\n",
      "  0.0836070605 -0.0789880164 -0.20967959   -0.0932302948  0.1404610212]\n",
      "[-0.7671995197 -0.0909561169  0.4726117989 -0.5477329921 -0.0545563319\n",
      " -0.6824085701  0.4020880358 -0.0152626094  0.1621935902 -0.7039159007\n",
      " -0.5573279666  0.1521025804  0.0888228788 -0.0138942652 -0.0543816703\n",
      "  0.0207147455  0.0665834087  0.3904859032 -0.3571921137  0.128386664 ]\n",
      "[-2.082266921  -1.0260309812 -0.0606451335  0.2161487068 -0.1702112121\n",
      "  0.4467347241 -0.7886247074  0.3675963588 -1.1350461144  0.2016361941\n",
      " -0.285882723  -0.0434726885  0.0626581308 -0.2263040967  0.0248003738\n",
      "  0.0112550918  0.3185942604  0.1788095887  0.0367595477  0.0111737935]\n",
      "[ 2.4970487101 -0.050958897  -0.2396416625 -0.235187517   0.6580864357\n",
      "  0.1139695573  0.0065931828  0.2963293247 -0.0392273906 -0.2916153749\n",
      "  0.2310122366 -0.0258972867 -0.0181961554 -0.1322818273 -0.0058901773\n",
      "  0.2726800677  0.1106504353  0.0165459579 -0.2315180343 -0.0555223552]\n",
      "[ 2.3249175239 -1.5123934335 -0.0686229421 -0.2759116661 -0.0713703836\n",
      "  0.6066939251 -0.1548777184  0.0681484918  0.3207616686 -0.1312805299\n",
      "  0.190549768   0.3019781169 -0.4339124543 -0.2879372407 -0.107384044\n",
      "  0.2508394189 -0.0885207058 -0.072020554   0.1058012819  0.2095532811]\n",
      "[ 1.9579840112  1.9102644545  0.1614988885  0.7504436563 -0.0771536066\n",
      "  0.1828612811 -0.5159182367  0.4123781431  0.0809641067  0.059093754\n",
      " -0.1233879165  0.0676206274 -0.325016654   0.1484494415 -0.1577995774\n",
      " -0.1093106869 -0.1606972463 -0.0051578764  0.0793977327 -0.0178852914]\n",
      "[-1.8394702994 -0.4934241918  0.4565614923  0.5290970899  0.0413130428\n",
      "  0.1374970542  0.0575363064 -0.5044257539  0.3180629736 -0.1438599076\n",
      " -0.0575806528 -0.0986019107  0.0340664719 -0.0908986848  0.0162632375\n",
      "  0.0368978272 -0.1580375188 -0.264727723  -0.0889970736 -0.1884098481]\n",
      "[ 1.2628700256  0.785633971   0.3552597026 -0.3097875129 -0.2148280158\n",
      "  0.4189556144 -0.0125947753  0.5429979194  0.4218937643  0.4538370638\n",
      " -0.3992887958 -0.193180084   0.2785751994  0.1410942703  0.2645925684\n",
      "  0.2146288794 -0.4340459117  0.1931880322  0.0886882598 -0.1285765059]\n",
      "[ 1.3374587021  1.2981577525 -1.1834777706 -0.9352599121 -0.3193671729\n",
      "  0.1489871897  0.5091699912 -0.3460407357 -0.3983514118 -0.0759590561\n",
      " -0.1048764749 -0.2890117306 -0.1244009399 -0.1697632486 -0.1316307804\n",
      "  0.172850245  -0.0037098997 -0.1148530655 -0.0413757134  0.0800099308]\n",
      "[ 2.7723060277 -0.7162906928  0.7399592413 -0.2963137714  0.1830917792\n",
      " -0.1860827085  0.0236291059  0.0971709812 -0.1555191605 -0.2131999356\n",
      "  0.0053270122  0.1488000922  0.2409338388 -0.1095047182 -0.097205479\n",
      " -0.0472384334 -0.0197372276 -0.1083619138  0.0950748596 -0.0166730409]\n",
      "[ 2.8540463907 -1.3273373782  0.2167246945 -0.3467473337 -0.2118211182\n",
      "  0.1697377266 -0.0541782077  0.1608146926 -0.1891646931  0.2024576122\n",
      " -0.0234908689 -0.0103992227  0.3204424542  0.0861799418 -0.0551153937\n",
      "  0.0553505488 -0.1997881766 -0.180292402   0.0347881753  0.0321212952]\n",
      "[ 2.4696027801  0.3969699334  1.0066760826  0.0215253017  0.1797166881\n",
      "  0.0755987958  0.00451902   -0.0340826494  0.0031311827  0.1455252304\n",
      "  0.2640645381  0.2142228909  0.0899294482 -0.1439896046 -0.3634821161\n",
      "  0.2184835861  0.0728032474  0.0621346618  0.058902128  -0.2585914324]\n",
      "[-3.6817911694e+00  6.7684241703e-01  8.0507587469e-01 -5.8082999082e-01\n",
      " -6.5301341526e-01  6.0177262007e-01  2.1378505286e-01  4.6525536970e-01\n",
      " -1.8398184996e-01  5.6337781655e-03  1.9272993742e-01  1.2952858230e-02\n",
      " -3.7596846367e-03 -1.2809701322e-03 -1.7718098266e-01  2.2610271403e-01\n",
      "  6.9681517312e-02 -5.7761670165e-02 -1.0804747866e-01 -5.5420213489e-02]\n",
      "[-1.4167117570e+00 -1.2568652545e+00  4.4829837968e-01  1.1809144490e+00\n",
      " -5.5759126652e-02 -4.7758095017e-01  3.1895185167e-01 -6.6314454972e-02\n",
      " -1.0703806090e-01  2.6276079612e-01  2.0896478689e-01  3.4485326011e-01\n",
      "  1.0147307919e-01 -4.2194107031e-02 -3.2360128124e-02  2.9814917268e-01\n",
      " -7.2452393855e-02 -3.2920351082e-04  4.8473441022e-02 -1.5284181110e-01]\n",
      "[ 2.4816228457 -0.1832476133  1.4882112418 -0.3680001757 -0.0474542316\n",
      " -0.8736684942 -0.1268914687 -0.0437878976 -0.1626301745  0.0278552039\n",
      " -0.1145235041  0.3886979487  0.1235326219 -0.211246928   0.059849776\n",
      " -0.1298569588 -0.0123452389 -0.0577640648  0.0830138372 -0.0052443513]\n",
      "[ 0.8542305522  0.9120417414 -1.6478176281 -0.5099081675 -0.1658259807\n",
      "  0.4611925354  0.731962787   0.1015406213  0.1851818299  0.1999007752\n",
      " -0.4836520373 -0.3476230806 -0.2103133931  0.0528466    -0.0870731154\n",
      " -0.041035307   0.2944994617 -0.0488238969  0.1149121826  0.0188419241]\n",
      "[ 1.4397705753 -1.2458018554 -0.4615639326  0.3593345605 -0.4468102786\n",
      " -0.4464657672  0.4962749461  0.2658397047  0.2373135102  0.0492897884\n",
      "  0.2973724134 -0.3812550277  0.2289943301  0.1476525755 -0.0472186182\n",
      "  0.1112738671  0.1532860381  0.2177163458 -0.0499368434 -0.017380728 ]\n",
      "[-1.1722036415 -0.2146696719 -0.9509298457  0.1013020194  0.5864201095\n",
      " -0.8426112351  0.2024565966 -0.1138786278  0.2290557715  0.0131348794\n",
      "  0.2285316308 -0.0553430291 -0.1660018478 -0.0292720318  0.3210547108\n",
      " -0.0781668569  0.1566714625 -0.1794468004 -0.0258320454  0.0980994548]\n",
      "[ 2.4678710794e+00  1.1041450920e+00  4.0504627998e-01  5.5451878601e-01\n",
      "  3.0220269473e-01  2.4888185707e-01  1.1738032263e-01  2.2419892523e-01\n",
      " -1.3923432353e-03 -2.4146153662e-01 -9.9765593939e-02  7.3566704357e-02\n",
      "  2.0987345969e-01 -1.5975285186e-01 -8.1127505720e-02  3.1384487694e-01\n",
      "  3.8738477231e-02  1.1749235476e-01 -1.8325015222e-01  2.6708257347e-03]\n",
      "[-1.9364887665 -1.0575017156  0.5938814557  1.0005325838  0.3661975262\n",
      "  0.1759029163  0.0485014593 -0.1818133512 -0.3607860423  0.4666325511\n",
      " -0.0203058541  0.1182056428 -0.0094433396 -0.1387752563  0.1037103515\n",
      "  0.2759839843  0.0935649781  0.0456114146  0.1992722994  0.0139716235]\n",
      "[-0.7779513029  0.014948488  -1.2907515805 -0.1803181269 -0.0139684794\n",
      " -0.037118951  -0.8382396594 -0.0468961845 -0.0184936407  0.1710056095\n",
      " -0.0755997589  0.2902035836  0.1582977678  0.0312163378  0.2223608266\n",
      "  0.0262428938  0.0575205663  0.1116746544 -0.1717659484 -0.1970845605]\n",
      "[-1.8504220359 -0.3555072999 -0.4658910907  0.2516588265  0.6734371689\n",
      " -0.4389502374 -0.0314108519 -0.2072318248  0.3802505135 -0.2731533966\n",
      "  0.2004610309 -0.1922010543  0.3391703402  0.2295357937 -0.1336579028\n",
      " -0.3038246556  0.1436999423 -0.1559108745  0.4042663882  0.2308638065]\n",
      "[-3.9279706531  0.5347912005  0.8334521563 -0.5906880173 -0.3681650803\n",
      "  0.5210683486 -0.0129076454  0.0426613658  0.2312427699 -0.094742689\n",
      "  0.1932546283 -0.0238180342 -0.1288513082 -0.0393562077 -0.1287323851\n",
      "  0.1016834339  0.0074516807  0.0664226403 -0.0122268244 -0.033185771 ]\n",
      "[ 1.9663591724 -1.6092250018 -0.4655505016  0.0713610375 -0.8586475768\n",
      "  0.3277649966 -0.0649848956 -0.1301983009  0.138710487   0.3506910829\n",
      " -0.202894934  -0.2999478955 -0.1110989164 -0.1413291592 -0.2595241288\n",
      "  0.0140839118 -0.1002235767 -0.197030268  -0.0051997191 -0.1724649235]\n",
      "[-0.0509302519  0.5703005518  1.157077934  -0.1751528781 -0.333135248\n",
      " -0.976110164   0.2462806492 -0.4928891722  0.1064111482  0.8115885334\n",
      " -0.3217496298  0.1359233151 -0.1341235098 -0.0058290169 -0.0600562818\n",
      "  0.2413526247  0.1834155764  0.0418102052  0.0289332868  0.1500563326]\n",
      "[ 1.3893979444  1.5699709364 -0.0966715296 -0.549969269  -0.3681361811\n",
      " -0.0063685045  0.0968577877 -0.4861452185 -0.9529248552 -0.1948950953\n",
      "  0.4277796018 -0.3376685134  0.2171867045 -0.4620243196  0.343879912\n",
      "  0.2994455007 -0.2270393613 -0.1569406374  0.1036698448  0.1758785758]\n",
      "[-8.1973893432e-01 -1.3137604876e+00 -2.9124376200e-01  9.9351281565e-01\n",
      "  6.8950448905e-01 -1.2698830616e-03  2.2820872510e-01  3.9181096167e-01\n",
      " -4.6969457504e-01 -4.1968351642e-01 -2.5936548009e-01  7.4069895177e-02\n",
      " -3.7911869724e-01  1.3905375046e-01 -1.4356475712e-01 -1.7180265755e-01\n",
      " -4.2985676982e-01  1.0707201885e-01 -2.3925457562e-01  2.1675709570e-01]\n",
      "[ 2.6090809466e+00 -1.2878683142e+00  1.3998540282e-01 -2.7454607043e-04\n",
      "  4.1631817791e-02  1.3563951137e-01 -3.2318066532e-02  9.8427733470e-02\n",
      "  3.2781806162e-02  1.7654419950e-01  1.3126370115e-01 -1.8543616163e-01\n",
      "  3.4113673183e-01  6.2398390338e-02 -2.6816037665e-02  2.8180012621e-02\n",
      " -4.8982259334e-02 -3.4330437857e-03  1.5231817597e-02  8.8769774032e-02]\n",
      "[ 2.5910718601  1.3584677398 -0.4223909284  0.2674747397  0.5984228821\n",
      " -0.1316460448 -0.6870022772  0.2325524733  0.2602383612 -0.0323008477\n",
      "  0.1631008208  0.1817909791 -0.3038644062 -0.0814090608 -0.1170382929\n",
      "  0.0193954732 -0.0261962287 -0.0185152801  0.0213635288 -0.0901322114]\n",
      "[-0.4182271785  0.5866824913 -1.0919953849 -0.090567216   0.0986585205\n",
      " -0.6362578292  0.1968911774  0.8741509229  0.3776299579  0.5088507374\n",
      "  0.5262689358 -0.1453394895  0.4019426232 -0.2472424874 -0.1033881881\n",
      " -0.2351946274 -0.0832856328 -0.0152877379  0.0600678333 -0.0026068189]\n",
      "[-0.2022443158  0.3428843953 -1.3675089208  0.283217814  -0.378232455\n",
      "  0.0108175167  0.2246718397  0.3062756094  0.1056057185  0.5708435833\n",
      "  0.2081890784  0.5264564456 -0.3383415997 -0.4281624653  0.3032452244\n",
      " -0.1401180151 -0.1913560259  0.3121522304  0.0812783306 -0.0638837891]\n",
      "[ 0.029091154  -1.009366209  -0.7544688042  0.1114285555 -0.1514052855\n",
      "  0.117998358  -0.6079683084 -0.6169101998 -0.4339240123  0.1044558627\n",
      " -0.4084018559  0.0372508328  0.3878646505 -0.0797760908 -0.1419784585\n",
      " -0.0595745955 -0.0628956028  0.4925331894  0.1192048536 -0.0676220163]\n",
      "[ 1.303317194   1.0211001178  0.3119664485 -0.0756075633 -0.3824952997\n",
      "  0.4824679844 -0.0407765071  0.5427847556  0.4046426604  0.3887924424\n",
      " -0.4381552127 -0.0793350098  0.2609835735  0.0846537961  0.2337130322\n",
      " -0.0041185869 -0.3569723606  0.107912136   0.1417066844 -0.1069750011]\n",
      "[-0.1795782034 -1.3637816652 -0.2008613899  0.7919850839  0.0945930877\n",
      " -0.1758539021  0.414787075   0.2675898008 -0.1622098497 -0.3651014604\n",
      " -0.2968481017 -0.0105512717  0.0239046833  0.1591096219 -0.0886918841\n",
      "  0.0361145826 -0.2136137887  0.1415709822 -0.1220320847  0.0154441347]\n",
      "[ 1.0129002373 -1.0501682277 -0.4783493128  0.1851130889 -1.4397872598\n",
      " -0.7323753764  0.2019480563  0.2477101124  0.1743926386 -0.0686658724\n",
      "  0.2103297117 -0.0961689819 -0.0234490679  0.0950735862 -0.1376016709\n",
      "  0.1025514309  0.1601636756  0.0950270384  0.0309466858  0.0701424928]\n",
      "[-3.336469493  -0.2804750593  0.7689307361 -0.0595296634 -0.0804592372\n",
      "  0.4316195018 -0.1213046328  0.0096638835 -0.1488198684  0.0507450635\n",
      " -0.0295324322 -0.0692140976 -0.2153070654 -0.1530307684 -0.0892505016\n",
      "  0.2944056497  0.0142457242  0.0108935438  0.1191903231  0.0108697183]\n",
      "[ 1.5977348642e+00 -1.2236892558e+00 -3.7918975998e-01  4.4821272074e-01\n",
      " -5.1233898311e-02 -1.8430149440e-01  3.6657266549e-01  2.0165683626e-01\n",
      "  2.5304544978e-01  7.1054541721e-02  3.2602313758e-01 -4.3364854900e-01\n",
      "  3.3834252980e-01  1.8759320821e-01  2.8445752250e-02  1.2261294009e-01\n",
      "  1.5032342201e-01  2.1089894929e-01 -1.2722048239e-02  1.3559342428e-03]\n",
      "[-1.5766032041  0.2928166633 -1.3254031079  0.420462519   0.2808368541\n",
      " -0.3154596897  0.1390750799  0.4768583177  0.0360486561  0.5194797055\n",
      "  0.0445401249  0.4821607217 -0.1282026726 -0.2684902422  0.2424237915\n",
      " -0.0497164176 -0.1615852958  0.0330437737 -0.0834454914 -0.0523233501]\n",
      "[ 0.857146617  -0.3151748645  0.9757364308 -0.6869763919 -0.091448932\n",
      " -0.5131370968  0.2200326641  0.1432323358  0.1251496435 -0.7969460941\n",
      " -0.4396690682  0.0769375589  0.047097291  -0.2329766829  0.0438085268\n",
      " -0.1255952761 -0.1041558656  0.1774442507 -0.1787674577  0.22566056  ]\n",
      "[ 2.8048082501 -0.2380568935  0.5544299731 -0.0297979354  0.1125460624\n",
      "  1.0601201525  0.2836059902 -0.2031639173 -0.0283564526  0.2460281833\n",
      "  0.2089418857  0.6720872343  0.0711293788  0.2241558867 -0.0814424855\n",
      " -0.071706948   0.1814661036  0.0658944825  0.0225061639  0.1084562576]\n",
      "[ 0.3802944134 -1.4073238897 -0.2829701539  0.4996222298 -1.456285204\n",
      " -0.5408550988 -0.1089782395 -0.0088760201  0.0471010432 -0.0459724165\n",
      "  0.0555138517  0.2793855276 -0.2518948023  0.1135727201 -0.0513885574\n",
      "  0.0474830286 -0.0731505124 -0.0339746989  0.1000338907 -0.1616757535]\n",
      "[ 2.5961069173e+00 -1.5919868434e-01 -6.2379801064e-01 -3.2447669512e-01\n",
      "  8.3113971369e-01 -4.6155523490e-02 -2.2132104820e-01  2.2809956427e-01\n",
      "  1.6503660980e-01 -2.3801608690e-01  2.0213924683e-01 -1.5735662728e-01\n",
      " -7.4440778827e-02 -2.0633141851e-01  5.0939916662e-02  2.7952448925e-01\n",
      "  1.6018476131e-01  2.1336916190e-03 -9.9930469869e-02 -9.4700155704e-02]\n",
      "[-2.3997848442  0.1880481132 -1.0932035262  0.4616517492  0.6014037811\n",
      " -0.37677883   -0.0251184028  0.2053409686 -0.0259544282  0.2034990802\n",
      "  0.1508557724  0.3166372476  0.2006957244 -0.0314626548 -0.1081040162\n",
      "  0.0447345203 -0.0773192584 -0.19048129    0.0592664762  0.152930753 ]\n",
      "[ 2.2804854095  0.3222854438  0.7774334539  0.0448697979  0.3096052305\n",
      "  0.328454518   0.248109654  -0.1400225989  0.0934628543  0.2554623385\n",
      "  0.1091270034  0.2941599839  0.2425202281 -0.1299589682 -0.1844280951\n",
      "  0.1549218656  0.0816345541  0.0700276806 -0.1225677447 -0.1110414452]\n",
      "[-6.7972884422e-01 -1.0012637926e+00 -2.6622920695e-01  9.2520900373e-01\n",
      "  7.4566762287e-01 -2.8265828289e-04 -9.5014127159e-02  5.2253813835e-03\n",
      " -2.3661641461e-01 -1.2975965428e-01 -3.7385547795e-01  1.4142194845e-02\n",
      " -1.4418498977e-01 -9.9177381821e-02 -2.4777418620e-01 -4.3464842217e-02\n",
      " -3.4502087496e-01  5.3637748785e-02 -2.7173725886e-01  1.2274971970e-01]\n",
      "[ 1.2099705383  0.1678257626 -1.0354031136 -0.2278915796 -0.4851335703\n",
      "  0.0043149312 -0.2190601645 -0.6756519691 -0.294948781  -0.1749022256\n",
      "  0.4946164254  0.011694901  -0.2666711674  0.1414996018  0.0690806159\n",
      "  0.1037679384 -0.0940608714  0.1639603905 -0.1658384597 -0.0987367834]\n",
      "[ 1.3872259376  0.3948200797  1.3978940529 -0.2129898881 -0.2438523498\n",
      " -0.7572589964 -0.1247132    -0.1229994684 -0.0126560049  0.4777779258\n",
      " -0.0727347031 -0.0033767214 -0.1010841433 -0.20045479   -0.1287434668\n",
      "  0.0257867901  0.0018757753  0.0288087803  0.0208837372 -0.0168136631]\n",
      "[ 1.9602725839  0.9926647768  0.4338283871  0.1234759837  0.3129863627\n",
      "  0.2346109887  0.0179915164  0.2813327608 -0.0711365194  0.0367064868\n",
      " -0.0848945313 -0.1108413611  0.0268554414  0.1529581142  0.0213628995\n",
      "  0.1789360192 -0.1363402232  0.0822891903 -0.1082143228 -0.0225175691]\n",
      "[-0.5252600736 -1.0621758671  0.0379957146  0.5076599816 -1.6642251995\n",
      " -0.3254544098 -0.308901332   0.3122089588  0.1930257728 -0.3928129621\n",
      "  0.0350321728  0.3741075145 -0.05584632    0.2268197344  0.1359747391\n",
      "  0.2205149035  0.0817925398 -0.1789769951 -0.0482486559  0.0066025905]\n",
      "[ 0.2274077926 -0.9970716736 -0.7449315281 -0.0050009956 -0.1740492153\n",
      "  0.2158050365 -0.6641052783 -0.6526014458 -0.3652766417  0.0172422969\n",
      " -0.4248578736  0.0254821691  0.4173668729 -0.0658725544 -0.1866060274\n",
      "  0.0021942899 -0.0855571517  0.5474888797  0.1802670517 -0.0309624061]\n",
      "[-0.3882760844  0.8001318745 -0.0020214531 -0.8046994091  0.1644334431\n",
      " -0.5590996202  0.3645168866 -0.1117383771 -0.0711470132  0.3181705924\n",
      " -0.6689964084 -0.0897091318 -0.0279250844  0.3483873196  0.2244926125\n",
      "  0.4712678563 -0.160083639   0.0124322712  0.2204371977  0.0771713055]\n",
      "[-1.023392568  -0.8729741574  0.1122781933  0.6116455065 -0.6928765401\n",
      "  0.047615977  -0.3130635551  0.0675714674  0.2375667247 -0.2735721069\n",
      " -0.3449360352  0.159276367   0.0980115976 -0.0209363788  0.1253557711\n",
      "  0.1351879272  0.0433448141 -0.2897777117 -0.2650011695  0.0563199944]\n",
      "[ 0.6759209917  0.6887241513 -1.6091892811 -0.2542486514 -0.2976100934\n",
      "  0.3527755467  0.6665197631  0.0692231797  0.0759670991  0.2152020226\n",
      " -0.218511004  -0.121121232  -0.2712632155 -0.0881898834 -0.0495614695\n",
      " -0.1006642689  0.1698665795  0.1059171362  0.1535793411  0.0129960126]\n",
      "[ 2.6906934871 -1.0020795035  0.4399723221 -0.1482941588  0.1123617985\n",
      " -0.0252215986 -0.0043444803  0.0977993573 -0.0613686772 -0.018327868\n",
      "  0.0682953567 -0.0183180347  0.2910352853 -0.0235531639 -0.0620107583\n",
      " -0.0095292104 -0.0343597435 -0.0558974788  0.0551533386  0.0360483665]\n",
      "[-1.7361166743 -0.3015385736  0.3717234219  0.3717138782  0.2458442834\n",
      "  0.2847809493 -0.0638331415 -0.7325400482  0.2443785473 -0.0907252938\n",
      " -0.1354652264 -0.1099615238 -0.0339882276 -0.09119829   -0.0264691784\n",
      " -0.1137686517 -0.1691080406 -0.3313510152 -0.0404408511 -0.1968219892]\n",
      "[-0.83920056   -0.3294517245 -1.0892681542 -0.1508768653 -0.0698791615\n",
      "  0.069633852  -0.8973869708 -0.162718034  -0.3280359974  0.0612987123\n",
      " -0.234418102   0.135820172   0.3611744975  0.0407880494  0.013608635\n",
      " -0.020119554   0.0543622933  0.2993808369 -0.0330052151 -0.1195023893]\n",
      "[ 1.7820470183 -1.4164571288 -0.4223701308  0.2597868791 -0.4549407376\n",
      "  0.0717317511  0.1507938849  0.0357292677  0.1958779684  0.2108728123\n",
      "  0.0615641018 -0.3667982223  0.1136218067  0.0231320245 -0.1155391883\n",
      "  0.068348426   0.0250499226  0.0069343407 -0.0089608837 -0.0855544946]\n",
      "[ 0.8540819938  0.6273293757 -1.6165810129 -0.292783673  -0.4608417722\n",
      "  0.229689158   0.6171790751 -0.2509290402 -0.1757877337  0.0184851168\n",
      " -0.0541809257 -0.0990810186 -0.3578277623 -0.0853568158 -0.1280209506\n",
      " -0.0675907684  0.0867055292  0.1470581431  0.1063930566  0.0190924677]\n",
      "[ 2.2756722220e+00  1.1755662583e+00  5.7187293398e-03  1.9547536171e-01\n",
      "  4.5570462239e-01  5.1482471967e-02 -3.3450538037e-01  2.5694261702e-01\n",
      "  9.4550920880e-02  2.2028195020e-03  3.9103144770e-02  3.5474808963e-02\n",
      " -1.3850448241e-01  3.5774526673e-02 -4.7837696675e-02  9.9165746226e-02\n",
      " -8.1268225954e-02  3.1886955108e-02 -4.3425396968e-02 -5.6324890236e-02]\n",
      "[ 1.3634283233  1.4340643445 -0.6400746501 -0.7426145905 -0.343751677\n",
      "  0.0713093426  0.3030138895 -0.4160929771 -0.6756381335 -0.1354270757\n",
      "  0.1614515635 -0.313340122   0.0463928823 -0.3158937841  0.1061245658\n",
      "  0.2361478729 -0.1153746305 -0.1358968514  0.0311470657  0.1279442533]\n",
      "[-1.3744034228  0.0390734957 -1.1381664768  0.2608822692  0.4336284818\n",
      " -0.5790354624  0.1707658382  0.181489845   0.1325522138  0.2663072924\n",
      "  0.1365358778  0.2134088463 -0.1471022602 -0.148881137   0.2817392511\n",
      " -0.0639416372 -0.0024569167 -0.0732015133 -0.0546387684  0.0228880523]\n",
      "[-3.6322200731  0.1271580706  0.8011914462 -0.3251088403 -0.2243121588\n",
      "  0.4763439252 -0.0671061391  0.0261626246  0.0412114508 -0.0219988127\n",
      "  0.081861098  -0.0465160659 -0.1720791868 -0.0961934881 -0.1089914434\n",
      "  0.1980445418  0.0108487025  0.038658092   0.0534817494 -0.0111580263]\n",
      "[-2.0093778438 -1.0417663484  0.2666181611  0.6083406453  0.097993157\n",
      "  0.3113188202 -0.3700616241  0.0928915038 -0.7479160784  0.3341343726\n",
      " -0.1530942886  0.0373664772  0.0266073956 -0.1825396765  0.0642553626\n",
      "  0.1436195381  0.2060796192  0.1122105017  0.1180159236  0.0125727085]\n",
      "[-0.3102357472  0.4647834433 -1.2297521528  0.096325299  -0.1397869672\n",
      " -0.3127201563  0.2107815085  0.5902132661  0.2416178382  0.5398471603\n",
      "  0.3672290071  0.190558478   0.0318005117 -0.3377024763  0.0999285182\n",
      " -0.1876563212 -0.1373208294  0.1484322462  0.0706730819 -0.033245304 ]\n",
      "[ 1.6306506026  1.4656822861  0.2367326685  0.3374180465 -0.2298244532\n",
      "  0.3326646328 -0.2783473719  0.4775814494  0.2428033835  0.2239430982\n",
      " -0.2807715646 -0.0058571912 -0.0320165403  0.1165516188  0.0379567274\n",
      " -0.0567146369 -0.2588348034  0.0513771298  0.1105522086 -0.0624301463]\n",
      "[ 0.0865515718 -1.2169511993 -0.2881178585  0.75984704    0.3072657273\n",
      " -0.1479418216  0.4113496253  0.2686987797 -0.1133966593 -0.3950196791\n",
      " -0.0740781544 -0.1569946701  0.0864258096  0.2843786242  0.083266996\n",
      "  0.0935986063 -0.1425399899  0.1554004341 -0.0038667116 -0.0222034967]\n",
      "[-2.1251034401e+00 -8.3729593349e-02 -7.7954730844e-01  3.5665528785e-01\n",
      "  6.3742047501e-01 -4.0786453369e-01 -2.8264627340e-02 -9.4542806507e-04\n",
      "  1.7714804267e-01 -3.4827158207e-02  1.7565840165e-01  6.2218096667e-02\n",
      "  2.6993303231e-01  9.9036569440e-02 -1.2088095951e-01 -1.2954506763e-01\n",
      "  3.3190341949e-02 -1.7319608228e-01  2.3176643221e-01  1.9189727971e-01]\n",
      "[-1.2200521625e+00 -1.0649197059e+00  2.8028828648e-01  8.9627997775e-01\n",
      " -3.7431783339e-01 -2.1498248661e-01  2.9441482849e-03  6.2850620035e-04\n",
      "  6.5264331883e-02 -5.4056553877e-03 -6.7985624177e-02  2.5206481354e-01\n",
      "  9.9742338383e-02 -3.1565242903e-02  4.6497821464e-02  2.1666854993e-01\n",
      " -1.4553789864e-02 -1.4505345759e-01 -1.0826386424e-01 -4.8260908365e-02]\n",
      "[ 2.5426468298e+00  4.2114275163e-02  6.6593171349e-01  7.5359312776e-03\n",
      "  2.1107564644e-01  6.9428733522e-01  2.6585782208e-01 -1.7159325811e-01\n",
      "  3.2553200819e-02  2.5074526093e-01  1.5903444458e-01  4.8312360908e-01\n",
      "  1.5682480343e-01  4.7098459255e-02 -1.3293529027e-01  4.1607458785e-02\n",
      "  1.3155032882e-01  6.7961081539e-02 -5.0030790391e-02 -1.2925938276e-03]\n",
      "[-0.7803802637 -0.6099145294 -0.1800109696  0.7161025513  0.7266935512\n",
      "  0.0906119787 -0.3491753597 -0.4271973956 -0.0289840027  0.0243095657\n",
      " -0.4747609565 -0.0449193296 -0.0347347122 -0.1857694181 -0.2079446636\n",
      " -0.0501655825 -0.2303416316 -0.1559124475 -0.2302035825  0.0686144634]\n",
      "[-1.872747259  -0.671652461   0.3191707915  0.4900272618  0.1719187202\n",
      "  0.2980498847 -0.2169473828 -0.3198242722 -0.2517687655  0.1217045394\n",
      " -0.1442797575 -0.0362975233 -0.003690416  -0.1368689832  0.0188930921\n",
      "  0.0149254432  0.0184857893 -0.1095702568  0.0387875362 -0.0921246403]\n",
      "[ 0.9845810592  1.2563313531  0.8460057851  0.8923659459 -0.1474070674\n",
      " -0.0565634473  0.12669195   -0.1149973558  0.0304155942  0.0730592808\n",
      " -0.0448420934 -0.3398623038 -0.066666886  -0.0464804874  0.0783847151\n",
      "  0.378894035  -0.0839205677  0.1210029913  0.0414710641  0.008619871 ]\n",
      "[-0.0070205645  0.1702048917  0.9215313015 -0.3916327179 -0.1670397121\n",
      " -0.8105117937  0.2911485445 -0.2171770205  0.1370777643  0.0017044773\n",
      " -0.4350686024  0.1246473916 -0.0333330696 -0.0738758616 -0.0475376932\n",
      "  0.107311338   0.1076522749  0.1863020577 -0.1385750389  0.1778161611]\n",
      "[ 2.5078055055 -1.2572364685  0.18567469   -0.2121029124  0.0204957074\n",
      "  0.2907361633 -0.0796110994  0.0829739246  0.1296964957 -0.074804199\n",
      "  0.1294225623  0.1418300411 -0.0714385845 -0.1557452023 -0.0846974012\n",
      "  0.1206551043 -0.0614402246 -0.0639590164  0.0804773102  0.1228008238]\n",
      "[-1.8684978634 -0.1633555536 -0.8947718034  0.0950871824  0.2972134978\n",
      " -0.2325060019 -0.4426391115  0.0535215167 -0.2256761225 -0.0477343187\n",
      " -0.0084025684  0.1030713725  0.3788703601  0.0716238528 -0.1225306127\n",
      " -0.0956248775  0.0492158556  0.0132330932  0.0866732946  0.0451413631]\n",
      "[ 1.9531614123  1.3206242722  0.1212256989  0.2664467041  0.1129400846\n",
      "  0.1920735524 -0.3064263761  0.3672620332  0.1686771522  0.1130729589\n",
      " -0.1208342099  0.0148088089 -0.0852605113  0.0761630727 -0.0049404847\n",
      "  0.0212255547 -0.1700515147  0.0416320425  0.0335634058 -0.0593775183]\n",
      "[ 1.1221862773  0.0398226076  1.1868152418 -0.44998314   -0.1676506409\n",
      " -0.6351980466  0.047659732   0.0101164337  0.0562468193 -0.1595840841\n",
      " -0.2562018856  0.0367804188 -0.0269934262 -0.2167157365 -0.04246747\n",
      " -0.049904243  -0.0511400451  0.1031265155 -0.0789418602  0.1044234485]\n",
      "[ 0.303851103  -1.2021977816 -0.513950841   0.2473106171 -0.8151672097\n",
      " -0.1625250311 -0.3865417589 -0.330738733  -0.1590877993 -0.0143650598\n",
      " -0.184672011   0.1524338484  0.0827360353  0.0238500828 -0.1189972924\n",
      "  0.0248386593 -0.0793538321  0.2567570904  0.1401504712 -0.0963190798]\n",
      "[ 0.5913613424  0.3704029484 -1.4775100914 -0.1090201962 -0.513297536\n",
      "  0.1704098045  0.0733323753 -0.2838148638 -0.0400656682  0.192733092\n",
      "  0.0882253393  0.1884788714 -0.3884786196 -0.112800152   0.1631913616\n",
      " -0.0113087822 -0.0101089933  0.21866542    0.0333968202 -0.0583203413]\n",
      "[-1.6214506431 -0.062141029  -1.0164691401  0.1779847258  0.3654209898\n",
      " -0.4057707321 -0.1359366366  0.1175056808 -0.0465619543  0.1092864869\n",
      "  0.0640666547  0.1582401094  0.1158840499 -0.0386286421  0.0796043192\n",
      " -0.0797832574  0.0233794695 -0.0299842101  0.0160172631  0.0340147077]\n",
      "[ 1.6723116054  1.0006209958  0.20142502   -0.2848046129  0.4620136531\n",
      "  0.0217727915 -0.1226252317  0.1941341464 -0.138849373   0.1480201712\n",
      " -0.0496817817 -0.0330000916 -0.1691788444  0.3199884882  0.0095216927\n",
      " -0.0162625701 -0.1394303632 -0.0344508395 -0.0615798905 -0.0906291794]\n",
      "[ 2.5121348377 -0.0705666691  1.0770714776 -0.1802321222  0.0818107074\n",
      " -0.0896905795  0.0694831767 -0.1076905779 -0.0650384868  0.1393002324\n",
      "  0.0222554702  0.4359107789  0.1401787127 -0.0820742344 -0.0365427571\n",
      " -0.04412475    0.059602545   0.0050985084  0.0164915234 -0.0032684726]\n",
      "[ 1.1113118635  1.8401806241  0.2892883964  1.1157588181 -0.4187787843\n",
      "  0.0492969326  0.0195530886 -0.1449680768  0.0208486239 -0.0237080312\n",
      " -0.1712546483 -0.1102637852  0.0695212106 -0.1727201641 -0.0130895342\n",
      "  0.2152670062 -0.0146526543  0.0242912531  0.0023569898  0.0428656241]\n",
      "[ 0.1952013374 -1.2095744905 -0.4010343498  0.5035788286 -0.2539507412\n",
      " -0.1552334264  0.0124039332 -0.0310199766 -0.1362422293 -0.2046923695\n",
      " -0.1293750827 -0.0022804109  0.0845809224  0.1541143535 -0.0178651482\n",
      "  0.0592186328 -0.110946911   0.2060787622  0.0681418798 -0.0592612882]\n",
      "[-3.1336148264  0.6340158617  0.131936502  -0.2693591434 -0.2096341098\n",
      "  0.2798155553 -0.1665664504  0.0520258168  0.0676926587  0.0140786149\n",
      "  0.2990698538  0.2091770584  0.1189691117  0.0232692867 -0.2009607089\n",
      "  0.2107801141  0.0307358348 -0.1076712712 -0.0087563054  0.1754554189]\n",
      "[-0.5777378021  0.3545878788  0.2352951729 -0.6762162006  0.0549385556\n",
      " -0.6207540951  0.3833024612 -0.0635004932  0.0455232885 -0.1928726542\n",
      " -0.6131621875  0.0311967243  0.0304488972  0.1672465272  0.0850554711\n",
      "  0.2459913009 -0.0467501152  0.2014590872 -0.068377458   0.1027789848]\n",
      "[-1.0002162131 -0.8374171177  0.0501386585  0.8061912645  0.1761878589\n",
      " -0.062185254  -0.1731156057 -0.2132844447  0.0181401646  0.0094519551\n",
      " -0.2713732903  0.1035727419  0.0325038131 -0.1086673305 -0.0807234211\n",
      "  0.0832514837 -0.1224477107 -0.1504829526 -0.1692337234  0.0101767775]\n",
      "[ 1.3974736278 -1.2333126782 -0.4503597218  0.222449984  -0.9473639987\n",
      " -0.3303218127  0.1763709706  0.14171969    0.1851353035  0.07110347\n",
      "  0.1359469068 -0.2314836021  0.0450863694  0.0591028054 -0.1265704296\n",
      "  0.0854499284  0.0926067991  0.0509806895  0.0109929011 -0.0077060009]\n",
      "[-0.5747181536  0.0676658594 -1.1595101535 -0.0272757832 -0.1048330644\n",
      " -0.1215431521 -0.3433027311  0.2137476161 -0.0432090796  0.3005729363\n",
      "  0.0664054526  0.163189325   0.1964875046 -0.1484572134  0.0567685766\n",
      " -0.1038879376 -0.041479268   0.2239065416  0.0188339334 -0.0763738466]\n",
      "[-0.7627381433 -0.9497964924  0.0440671865  0.6569256231 -0.7440186703\n",
      " -0.1938198319 -0.2410084689  0.049462257   0.1055829687 -0.1916805035\n",
      " -0.1181705588  0.2388401282 -0.0116712535  0.059076202   0.027625659\n",
      "  0.1518831936 -0.0203275855 -0.1647299738 -0.1087411896  0.008389684 ]\n",
      "[ 1.2866994308  0.8009450535 -0.8377388819 -0.485253085  -0.4144426236\n",
      "  0.0378121369  0.0419768625 -0.5458724731 -0.4852934572 -0.1551646507\n",
      "  0.3280339945 -0.1508226105 -0.1101391425 -0.0871970911  0.0876025908\n",
      "  0.1699579056 -0.1047177509  0.0140317695 -0.067345697   0.0146037349]\n",
      "[ 2.5541208775 -0.1148826767  0.2266367335 -0.2523544087  0.4564752106\n",
      " -0.0679230515 -0.0759189358  0.0602044932  0.0499990615 -0.0493579272\n",
      "  0.1121973585  0.1392770758  0.0328689669 -0.1442028264  0.0071985798\n",
      "  0.1176998696  0.1098936531  0.0036161    -0.0417194732 -0.0489843141]\n",
      "[-0.2923791833  0.2623963853  0.5784132372 -0.5339244592 -0.0560505783\n",
      " -0.7156329444  0.3372255029 -0.1403387569  0.0913005264 -0.0955840884\n",
      " -0.524115395   0.077922058  -0.0014420862  0.0466853328  0.018758889\n",
      "  0.1766513194  0.0304510799  0.1938805725 -0.1034762485  0.1402975729]\n",
      "[ 2.5309631915 -0.6860595726  0.2061557117 -0.2322286606  0.238485459\n",
      "  0.1114065559 -0.0777650176  0.0715892089  0.0898477786 -0.0620810631\n",
      "  0.1208099604  0.1405535585 -0.0192848088 -0.1499740144 -0.0387494107\n",
      "  0.1191774869  0.0242267143 -0.0301714582  0.0193789185  0.0369082548]\n",
      "[-2.5031810427 -0.0188182996  0.2255536468  0.1103340592 -0.0188576948\n",
      "  0.28893272   -0.1917569166 -0.1338992277 -0.0920380534  0.0678915771\n",
      "  0.0773950481  0.0864397676  0.0576393479 -0.0567998483 -0.0910338084\n",
      "  0.1128527787  0.0246108121 -0.108620764   0.0150156154  0.0416653893]\n",
      "[ 0.9390303866  0.585674001  -1.1576244866 -0.2971366406 -0.4638700798\n",
      "  0.1041109707  0.0576546189 -0.4148436684 -0.2626795627  0.0187842207\n",
      "  0.2081296669  0.0188281305 -0.2493088811 -0.0999986216  0.1253969762\n",
      "  0.0793245617 -0.0574133721  0.1163485948 -0.0169744384 -0.0218583032]\n",
      "[ 1.3918117345  1.4204008099  0.2453567082  0.4154771026  0.0216174344\n",
      "  0.0355348621 -0.0515360715  0.0245830348 -0.0590003745  0.06215607\n",
      " -0.110468215  -0.0716319384 -0.0498288169  0.073634162  -0.0017839208\n",
      "  0.0995022181 -0.0770415088 -0.0050797932 -0.0296114504 -0.0238817777]\n",
      "[ 1.2569990059  0.7301117088  0.716085975  -0.0172530187 -0.0730166032\n",
      " -0.2998315923 -0.0019381697  0.0173497342 -0.0013767776 -0.0487140071\n",
      " -0.1833350503 -0.0174257598 -0.0384111215 -0.0715407872 -0.0221256954\n",
      "  0.0247989875 -0.0640907769  0.0490233612 -0.0542766553  0.0402708354]\n",
      "[-2.0623158429 -0.0404796643 -0.3954577467  0.1441593925  0.1732816475\n",
      " -0.0584190061 -0.1638467766 -0.0081967734 -0.0693000039  0.088589032\n",
      "  0.0707308514  0.1223399385  0.0867616989 -0.0477142452 -0.0057147446\n",
      "  0.0165347607  0.0239951408 -0.069302487   0.0155164393  0.0378400485]\n",
      "[-0.1897584081 -0.5709543155 -0.7802722517  0.2381515227 -0.1793919028\n",
      " -0.1383882893 -0.1654493989  0.0913638197 -0.0897256544  0.0479402834\n",
      " -0.0314848151  0.0804544571  0.1405342135  0.00282857    0.0194517142\n",
      " -0.0223346524 -0.0762130895  0.2149926519  0.0434879066 -0.0678175674]\n",
      "[-0.4762482757 -0.760375404  -0.3681025326  0.4475385729 -0.4617052865\n",
      " -0.1661040606 -0.2032289339  0.0704130384  0.0079286571 -0.07187011\n",
      " -0.0748276869  0.1596472926  0.06443148    0.030952386   0.0235386866\n",
      "  0.0647742706 -0.0482703375  0.025131339  -0.0326266415 -0.0297139417]\n",
      "[ 1.9642184097 -0.9596861254 -0.122102005  -0.0048893383 -0.3544392698\n",
      " -0.1094576284  0.0493029765  0.1066544494  0.137491541   0.0045112034\n",
      "  0.1283784336 -0.0454650218  0.0129007803 -0.0454356045 -0.0826599201\n",
      "  0.1023137077  0.0584167567  0.0104046157  0.0151859098  0.014601127 ]\n",
      "[-0.3843137295 -0.2489895094  0.1051553523 -0.0431929432 -0.2588779324\n",
      " -0.4408685025  0.0669982845 -0.0349628592  0.0496145918 -0.0837270992\n",
      " -0.2994715409  0.1187846753  0.0314946969  0.0388188594  0.0211487878\n",
      "  0.120712795  -0.0089096288  0.1095059557 -0.068051445   0.0552918156]\n",
      "[ 1.0980146962e+00  6.5789285487e-01 -2.2076925580e-01 -1.5719482966e-01\n",
      " -2.6844334154e-01 -9.7860310786e-02  2.7858224571e-02 -1.9874696709e-01\n",
      " -1.3202817016e-01 -1.4964893202e-02  1.2397308282e-02  7.0118533324e-04\n",
      " -1.4386000131e-01 -8.5769704396e-02  5.1635640429e-02  5.2061774613e-02\n",
      " -6.0752074537e-02  8.2685977955e-02 -3.5625546847e-02  9.2062660975e-03]\n",
      "[ 1.5311165529e+00 -1.5089663528e-01 -1.7143563041e-01 -8.1042083963e-02\n",
      " -3.1144130569e-01 -1.0365896958e-01  3.8580600553e-02 -4.6046258822e-02\n",
      "  2.7316854414e-03 -5.2268448861e-03  7.0387870937e-02 -2.2381918240e-02\n",
      " -6.5479610513e-02 -6.5602654445e-02 -1.5512139853e-02  7.7187741150e-02\n",
      " -1.1676589219e-03  4.6545296809e-02 -1.0219818533e-02  1.1903696538e-02]\n",
      "[-1.2233147862 -0.1447345868 -0.1451511972  0.0504832247 -0.0427981424\n",
      " -0.2496437543 -0.0484242461 -0.0215798163 -0.0098427061  0.0024309664\n",
      " -0.1143703448  0.1205623069  0.0591281979 -0.0044476929  0.0077170216\n",
      "  0.0686237778  0.007542756   0.0201017344 -0.0262675029  0.0465659321]\n",
      "[ 0.1539008834 -0.1478156111 -0.1582934138 -0.0152794296 -0.1771197241\n",
      " -0.1766513619 -0.0049218228 -0.0338130376 -0.0035555103 -0.0013979392\n",
      " -0.0219912369  0.0490901943 -0.0031757063 -0.0350251737 -0.0038975591\n",
      "  0.0729057595  0.0031875485  0.0333235156 -0.0182436607  0.0292348143]\n"
     ]
    }
   ],
   "source": [
    "for i in range(len(nodes1)):\n",
    "    print(nodes1[i].value)"
   ]
  },
  {
   "cell_type": "code",
   "execution_count": 76,
   "metadata": {},
   "outputs": [
    {
     "data": {
      "application/vnd.plotly.v1+json": {
       "config": {
        "plotlyServerURL": "https://plot.ly"
       },
       "data": [
        {
         "hoverinfo": "text",
         "marker": {
          "color": [
           0.382561521391818,
           1.5928243137524576,
           2.2375135471950816,
           2.2216441611564943,
           2.2960018302927523,
           2.1703574281826477,
           2.0854819303007397,
           2.2602244165027385,
           2.4437184136544565,
           2.5481106823763526,
           2.369976095890592,
           2.4340846089700867,
           2.827675404839543,
           2.691048135738714,
           2.7079471738796186,
           2.7048575786479696,
           3.070319588485832,
           2.9988233213587945,
           3.0725483065378483,
           2.9415176104474963,
           3.158711684497829,
           3.1134918744577638,
           3.260345054576328,
           3.2920176547904827,
           3.232706148216389,
           2.280933277841044,
           2.4270782956111185,
           2.2667447421228566,
           2.515831336471883,
           2.1095628419283843,
           2.6723440707305235,
           2.86132161190487,
           2.972642919735723,
           3.0331043292074087,
           3.105775855329453,
           2.964930148178788,
           3.037945060192493,
           2.8942415242256967,
           2.9581330878327665,
           2.8695684206190117,
           3.076529531335254,
           3.0372819480902744,
           3.1174559680698812,
           2.930758813392941,
           3.017817858473508,
           3.182911162959091,
           3.004474812712946,
           2.6549921229481046,
           3.4033798395841326,
           2.9550856724058576,
           2.8042003434106224,
           2.968811988129396,
           2.656184626792215,
           3.231933024968534,
           3.2609393375134466,
           3.2990963136109697,
           3.408933280943743,
           3.253390971008778,
           3.37160705275163,
           3.150007707447074,
           2.638765222871224,
           2.894206515726011,
           3.2151421306798924,
           3.2623328272076866,
           3.2065581569219868,
           2.9299914369349476,
           3.517091963614845,
           3.542389067800328,
           3.4977283044238003,
           2.6807735214368096,
           3.644129406562825,
           2.0454252487638556,
           2.790556942632915,
           3.0996710047891427,
           3.0177124204286137,
           3.260881319228735,
           3.1408290383203794,
           3.3214644147272674,
           2.9711293757724895,
           3.4919561705075663,
           3.8456098712896107,
           3.171265268733112,
           2.8160856322054717,
           3.188015598165662,
           3.0753713834153626,
           3.2475976677672564,
           2.938585225378207,
           2.8394336368210786,
           3.0611978785681013,
           3.404312540830724,
           3.4552477516232707,
           3.3984033583777316,
           3.370290822784012,
           3.4494096507938337,
           3.444635910718882,
           3.470205182625663,
           2.5575136998121066,
           2.483734185816409,
           2.442274307692571,
           2.5535632317690515,
           2.6084313266057033,
           2.5091795181733576,
           2.781108050545884,
           3.074222287390123,
           2.9940687256018066,
           3.15998366895135,
           2.532553493669543,
           2.5454648081627815,
           2.5419784093390465,
           1.377295744219651,
           1.81091333347554,
           1.8398809520020194,
           1.8748738711687956,
           1.8686396374378937,
           1.8984211355268379,
           2.184529756844882,
           2.388010100164306,
           2.2767817977683458,
           2.5209182704156627,
           2.12595512868844,
           1.9750681922615683,
           1.906843030921547,
           2.1020173566430866,
           2.4312740389970084,
           2.5845965337885373,
           2.3126252312902102,
           2.2054737660161603,
           2.439293372859903,
           2.0419259294010392,
           1.9743554971009578,
           2.032066818250737,
           2.0687588785976225,
           2.015183758286271,
           2.038593434734345,
           2.0556786443295705,
           2.0427871884394624,
           2.0499379377055433,
           2.048743613354331,
           2.466174146255597,
           2.573777174695041,
           2.523236599688247,
           2.8429250398765182,
           2.8060737981632853,
           2.9314712090157022,
           2.630173217647978,
           2.724322897101394,
           2.65993385304324,
           2.775279349343123,
           2.5561314731975067,
           1.6663698784329908,
           1.8665095592848844,
           1.909988210032366,
           2.0776803783246702,
           1.854734882223272,
           2.2463892139253248,
           1.869769066693092,
           2.8490012563741005,
           2.7797776415364366,
           2.871449833636533,
           2.6931269995522253,
           2.9623958828414856,
           3.1298344196424726,
           2.8242238938096778,
           2.829286473187814,
           2.8241550577185173,
           2.059705262117336,
           2.0964157373162715,
           2.133170760357698,
           2.2681705228064177,
           2.0306065792782775,
           2.1563118555130685,
           1.9439680144420675,
           2.4551801246526095,
           2.6540744757412336,
           3.156200222665017,
           2.968921349728847,
           3.468464474227018,
           3.3999441351613098,
           3.5417562478110285,
           2.320355581650198,
           2.010490651502232,
           1.9551698103104407,
           2.07485728442032,
           2.8802085705636573,
           2.4629000008033466,
           3.7314767210950075,
           2.3956580592166326,
           2.9621813931735024,
           2.478508787443611,
           3.5453497085203427,
           3.2832737164293277,
           3.866992353907617,
           3.8930730827238764,
           3.848000782921136,
           2.081672932456157,
           2.2672535243163,
           2.3044948658290125,
           2.2710932709714013,
           1.998833029019345,
           1.8749664962775288,
           2.2195674383435975,
           2.2250721204623787,
           2.2209769189397104,
           2.505073986266105,
           3.176551425088357,
           3.0999256392721,
           3.0261653132662065,
           3.2061234346697876,
           3.3337544848937712,
           3.6838599431987946,
           3.089245967034487,
           3.0108279531598763,
           3.182428085567506,
           2.10180467102579,
           1.600901441504474,
           3.4093253671691155,
           3.34834052380959,
           3.3060403868948334,
           3.395427324661037,
           3.491169565683122,
           3.4548186182922174,
           3.5373772758245234,
           1.2834919359600918,
           2.131217542113146,
           2.025354102007414,
           2.031804189306551,
           1.937802762715202,
           1.6748129480617913,
           2.2844315569123013,
           2.371140920658592,
           2.5502338301411664,
           2.5567207324315824,
           2.564758406696898,
           2.3524967420454277,
           2.425149172055309,
           2.3094348649484737,
           2.2175880580957905,
           2.286862218793126,
           2.1549135163842172,
           2.4508933549838554,
           2.5429622164500745,
           2.367174871140343,
           2.4767835324027128,
           2.314492140595832,
           2.463938179261855,
           2.3848278473042686,
           2.3672463189662794,
           2.450429888513296,
           2.8351738019726502,
           2.9312862205937904,
           2.943469432761073,
           2.9353863126542965,
           2.903691230413104,
           3.026838827578718,
           2.893654250851756,
           2.938529498957479,
           2.8814148175612027,
           2.556625532647796,
           2.1702623012888953,
           2.0889904911420794,
           2.1377968527906592,
           2.032776254846489,
           2.2934584615801716,
           2.1629379386506766,
           1.8996295285699096,
           1.9020088224913545,
           1.9108006858468742,
           2.5340077061007453,
           2.6857268700229433,
           2.400351075580825,
           2.5768051407862655,
           2.8333745316334316,
           2.926552159548896,
           2.814783927409061,
           2.6347329695574246,
           2.6936294845114666,
           2.724457340340424,
           2.681732683765687,
           2.619603556797134,
           2.646313694683324,
           2.625725589484895,
           3.277965805339119,
           3.118090616322205,
           3.079762329610382,
           3.1716429604976413,
           3.242767404544649,
           3.1065254541494705,
           3.7874545525675174,
           4.161574186519069,
           4.439019573949531,
           4.540673279621999,
           4.420557242817494,
           4.251300227298083,
           4.629678180537911,
           4.473346076747838,
           4.8031100166211935,
           4.028225228512482,
           3.7389029322226683,
           4.394805849734887,
           4.277332719263993,
           4.570762270920045,
           4.135536092221772,
           5.036069633797669,
           5.054625790870741,
           5.035491044640101,
           4.923884005663234,
           5.151563827902901,
           3.496071743224303,
           3.556546431350316,
           3.405190719876646,
           3.7538388986345996,
           3.884407108084884,
           3.647853020090116,
           3.671865333907831,
           3.434061984981363,
           3.9695468975411496,
           4.096893021678296,
           3.859419309884898,
           3.675455510993406,
           4.066594247832971,
           0.8001573073318328,
           1.3503890574512525,
           1.4796818423772156,
           1.6415638543401434,
           1.9988321896738759,
           1.8449996417310426,
           1.7718388843042387,
           1.9336790072196324,
           2.219342393660168,
           2.281930404157937,
           2.1751771543650857,
           1.4430249611093524,
           1.7084531055980259,
           1.9019038699738633,
           1.6230067431246615,
           1.7205739842686418,
           1.9488465979443907,
           1.7751840603146736,
           1.2160915403223151,
           1.6597703821044896,
           2.286320084281215,
           2.4408959012683775,
           2.1798141058958405,
           2.042601656150176,
           2.35554462689158,
           1.6254261302762427,
           1.9643327183472334,
           2.428106422908746,
           2.4625231434858663,
           2.4941599510164822,
           2.4490014246574936,
           2.4510674913671164,
           2.454231822186445,
           2.4558322188738275,
           1.8055370676504312,
           2.1109620505714313,
           2.197699663533317,
           2.04872481633228,
           1.6897403737057233,
           1.7412932957965315,
           1.7114361042823514,
           1.6769912565320635,
           1.8510936222893897,
           1.8638803640307742,
           1.7893990296125795,
           2.265834926081506,
           2.3079848885469705,
           2.341938524718434,
           2.400919199699833,
           2.2902138544836617,
           1.1007091294649989,
           1.476538783008719,
           1.6895535599994553,
           1.7581873165411797,
           1.7907992905780759,
           1.6555889267168904,
           1.9961697353298973,
           1.737473704156447,
           2.255990035477899,
           2.3042381106680776,
           2.462614780283532,
           1.8475284595066628,
           1.9536684903089094,
           1.7892945836691905,
           1.9011727486610142,
           1.8596044708222552,
           1.4578583849339737,
           1.8135590865921194,
           2.0705335506428257,
           1.8138946015457516,
           1.8833573889717776,
           1.7673053146015845,
           1.7527639183960961,
           1.9840170563904913,
           1.954672678768608,
           2.059622601613934,
           1.899439600899783,
           1.8929148984879578,
           1.973209629540331
          ],
          "colorscale": [
           [
            0,
            "rgb(253, 224, 197)"
           ],
           [
            0.16666666666666666,
            "rgb(250, 203, 166)"
           ],
           [
            0.3333333333333333,
            "rgb(248, 181, 139)"
           ],
           [
            0.5,
            "rgb(245, 158, 114)"
           ],
           [
            0.6666666666666666,
            "rgb(242, 133, 93)"
           ],
           [
            0.8333333333333334,
            "rgb(239, 106, 76)"
           ],
           [
            1,
            "rgb(235, 74, 64)"
           ]
          ],
          "showscale": true,
          "size": 50,
          "symbol": "circle-dot"
         },
         "mode": "markers+text",
         "opacity": 0.8,
         "text": [
          "398",
          "396",
          "393",
          "379",
          "326",
          "234",
          "70",
          "133",
          "254",
          "77",
          "145",
          "348",
          "315",
          "263",
          "55",
          "58",
          "278",
          "220",
          "68",
          "169",
          "258",
          "164",
          "203",
          "113",
          "168",
          "328",
          "132",
          "308",
          "34",
          "196",
          "385",
          "365",
          "296",
          "205",
          "146",
          "201",
          "16",
          "148",
          "257",
          "144",
          "200",
          "115",
          "161",
          "345",
          "301",
          "102",
          "268",
          "105",
          "124",
          "319",
          "229",
          "52",
          "134",
          "302",
          "175",
          "260",
          "87",
          "213",
          "86",
          "139",
          "383",
          "333",
          "285",
          "47",
          "251",
          "36",
          "219",
          "8",
          "15",
          "295",
          "90",
          "125",
          "373",
          "306",
          "131",
          "290",
          "224",
          "29",
          "38",
          "248",
          "74",
          "142",
          "360",
          "331",
          "264",
          "103",
          "227",
          "166",
          "172",
          "280",
          "129",
          "239",
          "33",
          "207",
          "93",
          "107",
          "335",
          "269",
          "61",
          "226",
          "151",
          "170",
          "303",
          "206",
          "76",
          "128",
          "242",
          "53",
          "95",
          "395",
          "387",
          "370",
          "274",
          "71",
          "109",
          "349",
          "250",
          "177",
          "183",
          "344",
          "277",
          "1",
          "154",
          "307",
          "9",
          "266",
          "78",
          "117",
          "382",
          "337",
          "267",
          "41",
          "91",
          "283",
          "94",
          "235",
          "40",
          "173",
          "351",
          "300",
          "167",
          "271",
          "45",
          "165",
          "317",
          "43",
          "218",
          "62",
          "98",
          "389",
          "368",
          "330",
          "19",
          "64",
          "338",
          "72",
          "282",
          "222",
          "112",
          "174",
          "261",
          "2",
          "215",
          "118",
          "136",
          "388",
          "372",
          "289",
          "143",
          "252",
          "28",
          "130",
          "367",
          "350",
          "320",
          "17",
          "209",
          "22",
          "127",
          "339",
          "221",
          "66",
          "85",
          "310",
          "80",
          "157",
          "356",
          "297",
          "158",
          "270",
          "35",
          "211",
          "21",
          "65",
          "324",
          "238",
          "100",
          "122",
          "299",
          "114",
          "228",
          "42",
          "60",
          "374",
          "281",
          "233",
          "24",
          "51",
          "275",
          "81",
          "212",
          "104",
          "188",
          "363",
          "92",
          "291",
          "216",
          "137",
          "178",
          "236",
          "138",
          "155",
          "397",
          "390",
          "371",
          "352",
          "309",
          "140",
          "190",
          "329",
          "232",
          "7",
          "121",
          "273",
          "162",
          "187",
          "366",
          "286",
          "101",
          "245",
          "99",
          "153",
          "358",
          "313",
          "79",
          "272",
          "27",
          "198",
          "334",
          "231",
          "18",
          "48",
          "292",
          "152",
          "255",
          "12",
          "97",
          "386",
          "362",
          "346",
          "287",
          "5",
          "54",
          "298",
          "244",
          "26",
          "73",
          "256",
          "37",
          "184",
          "354",
          "294",
          "32",
          "119",
          "311",
          "210",
          "126",
          "194",
          "265",
          "11",
          "199",
          "376",
          "237",
          "156",
          "204",
          "23",
          "192",
          "353",
          "314",
          "259",
          "69",
          "240",
          "3",
          "217",
          "75",
          "171",
          "304",
          "20",
          "262",
          "106",
          "247",
          "6",
          "214",
          "88",
          "202",
          "185",
          "197",
          "327",
          "243",
          "63",
          "208",
          "150",
          "159",
          "288",
          "141",
          "241",
          "83",
          "230",
          "31",
          "181",
          "394",
          "384",
          "364",
          "82",
          "316",
          "253",
          "14",
          "191",
          "279",
          "57",
          "163",
          "377",
          "293",
          "0",
          "123",
          "342",
          "96",
          "195",
          "392",
          "381",
          "340",
          "193",
          "276",
          "84",
          "147",
          "378",
          "359",
          "305",
          "223",
          "110",
          "111",
          "249",
          "67",
          "189",
          "343",
          "246",
          "10",
          "180",
          "284",
          "13",
          "39",
          "361",
          "4",
          "336",
          "179",
          "318",
          "56",
          "225",
          "59",
          "135",
          "391",
          "375",
          "357",
          "116",
          "325",
          "30",
          "182",
          "369",
          "332",
          "120",
          "176",
          "341",
          "25",
          "323",
          "44",
          "49",
          "380",
          "347",
          "160",
          "312",
          "46",
          "186",
          "355",
          "321",
          "89",
          "149",
          "322",
          "50",
          "108"
         ],
         "textfont": {
          "color": "#000000",
          "family": "sans serif",
          "size": 18
         },
         "type": "scatter",
         "x": [
          5.5,
          3.25,
          2.125,
          1.5625,
          1.28125,
          1.140625,
          1.0703125,
          1.2109375,
          1.421875,
          1.3515625,
          1.4921875,
          1.84375,
          1.703125,
          1.6328125,
          1.59765625,
          1.66796875,
          1.7734375,
          1.73828125,
          1.720703125,
          1.755859375,
          1.80859375,
          1.791015625,
          1.826171875,
          1.8173828125,
          1.8349609375,
          1.984375,
          1.9140625,
          2.0546875,
          2.01953125,
          2.08984375,
          2.6875,
          2.40625,
          2.265625,
          2.1953125,
          2.16015625,
          2.23046875,
          2.212890625,
          2.248046875,
          2.3359375,
          2.30078125,
          2.37109375,
          2.353515625,
          2.388671875,
          2.546875,
          2.4765625,
          2.44140625,
          2.51171875,
          2.494140625,
          2.529296875,
          2.6171875,
          2.58203125,
          2.564453125,
          2.599609375,
          2.65234375,
          2.634765625,
          2.669921875,
          2.6611328125,
          2.6787109375,
          2.67431640625,
          2.68310546875,
          2.96875,
          2.828125,
          2.7578125,
          2.72265625,
          2.79296875,
          2.775390625,
          2.810546875,
          2.8017578125,
          2.8193359375,
          2.8984375,
          2.86328125,
          2.93359375,
          3.109375,
          3.0390625,
          3.00390625,
          3.07421875,
          3.056640625,
          3.0478515625,
          3.0654296875,
          3.091796875,
          3.0830078125,
          3.1005859375,
          3.1796875,
          3.14453125,
          3.126953125,
          3.1181640625,
          3.1357421875,
          3.13134765625,
          3.14013671875,
          3.162109375,
          3.1533203125,
          3.1708984375,
          3.16650390625,
          3.17529296875,
          3.173095703125,
          3.177490234375,
          3.21484375,
          3.197265625,
          3.1884765625,
          3.2060546875,
          3.20166015625,
          3.21044921875,
          3.232421875,
          3.2236328125,
          3.21923828125,
          3.22802734375,
          3.2412109375,
          3.23681640625,
          3.24560546875,
          4.375,
          3.8125,
          3.53125,
          3.390625,
          3.3203125,
          3.4609375,
          3.671875,
          3.6015625,
          3.56640625,
          3.63671875,
          3.7421875,
          3.70703125,
          3.689453125,
          3.724609375,
          3.77734375,
          3.759765625,
          3.794921875,
          3.7861328125,
          3.8037109375,
          4.09375,
          3.953125,
          3.8828125,
          3.84765625,
          3.91796875,
          4.0234375,
          3.98828125,
          4.05859375,
          4.041015625,
          4.076171875,
          4.234375,
          4.1640625,
          4.12890625,
          4.19921875,
          4.181640625,
          4.216796875,
          4.3046875,
          4.26953125,
          4.33984375,
          4.322265625,
          4.357421875,
          4.9375,
          4.65625,
          4.515625,
          4.4453125,
          4.5859375,
          4.796875,
          4.7265625,
          4.8671875,
          4.83203125,
          4.814453125,
          4.849609375,
          4.90234375,
          4.884765625,
          4.919921875,
          4.9111328125,
          4.9287109375,
          5.21875,
          5.078125,
          5.0078125,
          4.97265625,
          5.04296875,
          5.025390625,
          5.060546875,
          5.1484375,
          5.11328125,
          5.095703125,
          5.0869140625,
          5.1044921875,
          5.10009765625,
          5.10888671875,
          5.130859375,
          5.1220703125,
          5.11767578125,
          5.12646484375,
          5.1396484375,
          5.13525390625,
          5.14404296875,
          5.18359375,
          5.166015625,
          5.1572265625,
          5.1748046875,
          5.17041015625,
          5.17919921875,
          5.177001953125,
          5.181396484375,
          5.201171875,
          5.1923828125,
          5.18798828125,
          5.19677734375,
          5.2099609375,
          5.20556640625,
          5.21435546875,
          5.212158203125,
          5.216552734375,
          5.359375,
          5.2890625,
          5.25390625,
          5.236328125,
          5.271484375,
          5.32421875,
          5.306640625,
          5.341796875,
          5.3330078125,
          5.3505859375,
          5.4296875,
          5.39453125,
          5.46484375,
          5.447265625,
          5.4384765625,
          5.4560546875,
          5.482421875,
          5.4736328125,
          5.4912109375,
          7.75,
          6.625,
          6.0625,
          5.78125,
          5.640625,
          5.5703125,
          5.7109375,
          5.921875,
          5.8515625,
          5.81640625,
          5.88671875,
          5.9921875,
          5.95703125,
          6.02734375,
          6.34375,
          6.203125,
          6.1328125,
          6.2734375,
          6.23828125,
          6.30859375,
          6.484375,
          6.4140625,
          6.37890625,
          6.44921875,
          6.431640625,
          6.466796875,
          6.5546875,
          6.51953125,
          6.501953125,
          6.537109375,
          6.58984375,
          6.572265625,
          6.607421875,
          6.5986328125,
          6.6162109375,
          7.1875,
          6.90625,
          6.765625,
          6.6953125,
          6.66015625,
          6.73046875,
          6.8359375,
          6.80078125,
          6.783203125,
          6.818359375,
          6.87109375,
          6.853515625,
          6.888671875,
          7.046875,
          6.9765625,
          6.94140625,
          7.01171875,
          7.1171875,
          7.08203125,
          7.064453125,
          7.099609375,
          7.15234375,
          7.134765625,
          7.169921875,
          7.46875,
          7.328125,
          7.2578125,
          7.3984375,
          7.36328125,
          7.43359375,
          7.609375,
          7.5390625,
          7.50390625,
          7.486328125,
          7.521484375,
          7.5126953125,
          7.5302734375,
          7.52587890625,
          7.53466796875,
          7.57421875,
          7.556640625,
          7.591796875,
          7.5830078125,
          7.6005859375,
          7.59619140625,
          7.60498046875,
          7.602783203125,
          7.607177734375,
          7.6060791015625,
          7.6082763671875,
          7.6796875,
          7.64453125,
          7.626953125,
          7.662109375,
          7.6533203125,
          7.6708984375,
          7.71484375,
          7.697265625,
          7.732421875,
          7.7236328125,
          7.7412109375,
          7.73681640625,
          7.74560546875,
          8.875,
          8.3125,
          8.03125,
          7.890625,
          8.171875,
          8.1015625,
          8.06640625,
          8.13671875,
          8.2421875,
          8.20703125,
          8.27734375,
          8.59375,
          8.453125,
          8.3828125,
          8.5234375,
          8.734375,
          8.6640625,
          8.8046875,
          9.4375,
          9.15625,
          9.015625,
          8.9453125,
          9.0859375,
          9.05078125,
          9.12109375,
          9.296875,
          9.2265625,
          9.19140625,
          9.173828125,
          9.1650390625,
          9.1826171875,
          9.208984375,
          9.2001953125,
          9.2177734375,
          9.26171875,
          9.244140625,
          9.2353515625,
          9.2529296875,
          9.279296875,
          9.2705078125,
          9.2880859375,
          9.3671875,
          9.33203125,
          9.40234375,
          9.384765625,
          9.419921875,
          9.4111328125,
          9.4287109375,
          9.42431640625,
          9.43310546875,
          9.71875,
          9.578125,
          9.5078125,
          9.47265625,
          9.54296875,
          9.525390625,
          9.560546875,
          9.6484375,
          9.61328125,
          9.595703125,
          9.630859375,
          9.68359375,
          9.666015625,
          9.701171875,
          9.6923828125,
          9.7099609375,
          9.859375,
          9.7890625,
          9.75390625,
          9.82421875,
          9.806640625,
          9.841796875,
          9.9296875,
          9.89453125,
          9.876953125,
          9.912109375,
          9.96484375,
          9.947265625,
          9.982421875
         ],
         "y": [
          5,
          3.5,
          2,
          0.5,
          -1,
          -2.5,
          -4,
          -4,
          -2.5,
          -4,
          -4,
          -1,
          -2.5,
          -4,
          -5.5,
          -5.5,
          -4,
          -5.5,
          -7,
          -7,
          -5.5,
          -7,
          -7,
          -8.5,
          -8.5,
          -2.5,
          -4,
          -4,
          -5.5,
          -5.5,
          0.5,
          -1,
          -2.5,
          -4,
          -5.5,
          -5.5,
          -7,
          -7,
          -4,
          -5.5,
          -5.5,
          -7,
          -7,
          -2.5,
          -4,
          -5.5,
          -5.5,
          -7,
          -7,
          -4,
          -5.5,
          -7,
          -7,
          -5.5,
          -7,
          -7,
          -8.5,
          -8.5,
          -10,
          -10,
          -1,
          -2.5,
          -4,
          -5.5,
          -5.5,
          -7,
          -7,
          -8.5,
          -8.5,
          -4,
          -5.5,
          -5.5,
          -2.5,
          -4,
          -5.5,
          -5.5,
          -7,
          -8.5,
          -8.5,
          -7,
          -8.5,
          -8.5,
          -4,
          -5.5,
          -7,
          -8.5,
          -8.5,
          -10,
          -10,
          -7,
          -8.5,
          -8.5,
          -10,
          -10,
          -11.5,
          -11.5,
          -5.5,
          -7,
          -8.5,
          -8.5,
          -10,
          -10,
          -7,
          -8.5,
          -10,
          -10,
          -8.5,
          -10,
          -10,
          2,
          0.5,
          -1,
          -2.5,
          -4,
          -4,
          -2.5,
          -4,
          -5.5,
          -5.5,
          -4,
          -5.5,
          -7,
          -7,
          -5.5,
          -7,
          -7,
          -8.5,
          -8.5,
          -1,
          -2.5,
          -4,
          -5.5,
          -5.5,
          -4,
          -5.5,
          -5.5,
          -7,
          -7,
          -2.5,
          -4,
          -5.5,
          -5.5,
          -7,
          -7,
          -4,
          -5.5,
          -5.5,
          -7,
          -7,
          0.5,
          -1,
          -2.5,
          -4,
          -4,
          -2.5,
          -4,
          -4,
          -5.5,
          -7,
          -7,
          -5.5,
          -7,
          -7,
          -8.5,
          -8.5,
          -1,
          -2.5,
          -4,
          -5.5,
          -5.5,
          -7,
          -7,
          -4,
          -5.5,
          -7,
          -8.5,
          -8.5,
          -10,
          -10,
          -7,
          -8.5,
          -10,
          -10,
          -8.5,
          -10,
          -10,
          -5.5,
          -7,
          -8.5,
          -8.5,
          -10,
          -10,
          -11.5,
          -11.5,
          -7,
          -8.5,
          -10,
          -10,
          -8.5,
          -10,
          -10,
          -11.5,
          -11.5,
          -2.5,
          -4,
          -5.5,
          -7,
          -7,
          -5.5,
          -7,
          -7,
          -8.5,
          -8.5,
          -4,
          -5.5,
          -5.5,
          -7,
          -8.5,
          -8.5,
          -7,
          -8.5,
          -8.5,
          3.5,
          2,
          0.5,
          -1,
          -2.5,
          -4,
          -4,
          -2.5,
          -4,
          -5.5,
          -5.5,
          -4,
          -5.5,
          -5.5,
          -1,
          -2.5,
          -4,
          -4,
          -5.5,
          -5.5,
          -2.5,
          -4,
          -5.5,
          -5.5,
          -7,
          -7,
          -4,
          -5.5,
          -7,
          -7,
          -5.5,
          -7,
          -7,
          -8.5,
          -8.5,
          0.5,
          -1,
          -2.5,
          -4,
          -5.5,
          -5.5,
          -4,
          -5.5,
          -7,
          -7,
          -5.5,
          -7,
          -7,
          -2.5,
          -4,
          -5.5,
          -5.5,
          -4,
          -5.5,
          -7,
          -7,
          -5.5,
          -7,
          -7,
          -1,
          -2.5,
          -4,
          -4,
          -5.5,
          -5.5,
          -2.5,
          -4,
          -5.5,
          -7,
          -7,
          -8.5,
          -8.5,
          -10,
          -10,
          -5.5,
          -7,
          -7,
          -8.5,
          -8.5,
          -10,
          -10,
          -11.5,
          -11.5,
          -13,
          -13,
          -4,
          -5.5,
          -7,
          -7,
          -8.5,
          -8.5,
          -5.5,
          -7,
          -7,
          -8.5,
          -8.5,
          -10,
          -10,
          2,
          0.5,
          -1,
          -2.5,
          -2.5,
          -4,
          -5.5,
          -5.5,
          -4,
          -5.5,
          -5.5,
          -1,
          -2.5,
          -4,
          -4,
          -2.5,
          -4,
          -4,
          0.5,
          -1,
          -2.5,
          -4,
          -4,
          -5.5,
          -5.5,
          -2.5,
          -4,
          -5.5,
          -7,
          -8.5,
          -8.5,
          -7,
          -8.5,
          -8.5,
          -5.5,
          -7,
          -8.5,
          -8.5,
          -7,
          -8.5,
          -8.5,
          -4,
          -5.5,
          -5.5,
          -7,
          -7,
          -8.5,
          -8.5,
          -10,
          -10,
          -1,
          -2.5,
          -4,
          -5.5,
          -5.5,
          -7,
          -7,
          -4,
          -5.5,
          -7,
          -7,
          -5.5,
          -7,
          -7,
          -8.5,
          -8.5,
          -2.5,
          -4,
          -5.5,
          -5.5,
          -7,
          -7,
          -4,
          -5.5,
          -7,
          -7,
          -5.5,
          -7,
          -7
         ]
        }
       ],
       "layout": {
        "height": 500,
        "shapes": [
         {
          "layer": "below",
          "line": {
           "color": "#333",
           "width": 4
          },
          "type": "line",
          "x0": 5.5,
          "x1": 5.5,
          "y0": 5,
          "y1": 5
         },
         {
          "layer": "below",
          "line": {
           "color": "#333",
           "width": 4
          },
          "type": "line",
          "x0": 5.5,
          "x1": 3.25,
          "y0": 5,
          "y1": 3.5
         },
         {
          "layer": "below",
          "line": {
           "color": "#333",
           "width": 4
          },
          "type": "line",
          "x0": 3.25,
          "x1": 2.125,
          "y0": 3.5,
          "y1": 2
         },
         {
          "layer": "below",
          "line": {
           "color": "#333",
           "width": 4
          },
          "type": "line",
          "x0": 2.125,
          "x1": 1.5625,
          "y0": 2,
          "y1": 0.5
         },
         {
          "layer": "below",
          "line": {
           "color": "#333",
           "width": 4
          },
          "type": "line",
          "x0": 1.5625,
          "x1": 1.28125,
          "y0": 0.5,
          "y1": -1
         },
         {
          "layer": "below",
          "line": {
           "color": "#333",
           "width": 4
          },
          "type": "line",
          "x0": 1.28125,
          "x1": 1.140625,
          "y0": -1,
          "y1": -2.5
         },
         {
          "layer": "below",
          "line": {
           "color": "#333",
           "width": 4
          },
          "type": "line",
          "x0": 1.140625,
          "x1": 1.0703125,
          "y0": -2.5,
          "y1": -4
         },
         {
          "layer": "below",
          "line": {
           "color": "#333",
           "width": 4
          },
          "type": "line",
          "x0": 1.140625,
          "x1": 1.2109375,
          "y0": -2.5,
          "y1": -4
         },
         {
          "layer": "below",
          "line": {
           "color": "#333",
           "width": 4
          },
          "type": "line",
          "x0": 1.28125,
          "x1": 1.421875,
          "y0": -1,
          "y1": -2.5
         },
         {
          "layer": "below",
          "line": {
           "color": "#333",
           "width": 4
          },
          "type": "line",
          "x0": 1.421875,
          "x1": 1.3515625,
          "y0": -2.5,
          "y1": -4
         },
         {
          "layer": "below",
          "line": {
           "color": "#333",
           "width": 4
          },
          "type": "line",
          "x0": 1.421875,
          "x1": 1.4921875,
          "y0": -2.5,
          "y1": -4
         },
         {
          "layer": "below",
          "line": {
           "color": "#333",
           "width": 4
          },
          "type": "line",
          "x0": 1.5625,
          "x1": 1.84375,
          "y0": 0.5,
          "y1": -1
         },
         {
          "layer": "below",
          "line": {
           "color": "#333",
           "width": 4
          },
          "type": "line",
          "x0": 1.84375,
          "x1": 1.703125,
          "y0": -1,
          "y1": -2.5
         },
         {
          "layer": "below",
          "line": {
           "color": "#333",
           "width": 4
          },
          "type": "line",
          "x0": 1.703125,
          "x1": 1.6328125,
          "y0": -2.5,
          "y1": -4
         },
         {
          "layer": "below",
          "line": {
           "color": "#333",
           "width": 4
          },
          "type": "line",
          "x0": 1.6328125,
          "x1": 1.59765625,
          "y0": -4,
          "y1": -5.5
         },
         {
          "layer": "below",
          "line": {
           "color": "#333",
           "width": 4
          },
          "type": "line",
          "x0": 1.6328125,
          "x1": 1.66796875,
          "y0": -4,
          "y1": -5.5
         },
         {
          "layer": "below",
          "line": {
           "color": "#333",
           "width": 4
          },
          "type": "line",
          "x0": 1.703125,
          "x1": 1.7734375,
          "y0": -2.5,
          "y1": -4
         },
         {
          "layer": "below",
          "line": {
           "color": "#333",
           "width": 4
          },
          "type": "line",
          "x0": 1.7734375,
          "x1": 1.73828125,
          "y0": -4,
          "y1": -5.5
         },
         {
          "layer": "below",
          "line": {
           "color": "#333",
           "width": 4
          },
          "type": "line",
          "x0": 1.73828125,
          "x1": 1.720703125,
          "y0": -5.5,
          "y1": -7
         },
         {
          "layer": "below",
          "line": {
           "color": "#333",
           "width": 4
          },
          "type": "line",
          "x0": 1.73828125,
          "x1": 1.755859375,
          "y0": -5.5,
          "y1": -7
         },
         {
          "layer": "below",
          "line": {
           "color": "#333",
           "width": 4
          },
          "type": "line",
          "x0": 1.7734375,
          "x1": 1.80859375,
          "y0": -4,
          "y1": -5.5
         },
         {
          "layer": "below",
          "line": {
           "color": "#333",
           "width": 4
          },
          "type": "line",
          "x0": 1.80859375,
          "x1": 1.791015625,
          "y0": -5.5,
          "y1": -7
         },
         {
          "layer": "below",
          "line": {
           "color": "#333",
           "width": 4
          },
          "type": "line",
          "x0": 1.80859375,
          "x1": 1.826171875,
          "y0": -5.5,
          "y1": -7
         },
         {
          "layer": "below",
          "line": {
           "color": "#333",
           "width": 4
          },
          "type": "line",
          "x0": 1.826171875,
          "x1": 1.8173828125,
          "y0": -7,
          "y1": -8.5
         },
         {
          "layer": "below",
          "line": {
           "color": "#333",
           "width": 4
          },
          "type": "line",
          "x0": 1.826171875,
          "x1": 1.8349609375,
          "y0": -7,
          "y1": -8.5
         },
         {
          "layer": "below",
          "line": {
           "color": "#333",
           "width": 4
          },
          "type": "line",
          "x0": 1.84375,
          "x1": 1.984375,
          "y0": -1,
          "y1": -2.5
         },
         {
          "layer": "below",
          "line": {
           "color": "#333",
           "width": 4
          },
          "type": "line",
          "x0": 1.984375,
          "x1": 1.9140625,
          "y0": -2.5,
          "y1": -4
         },
         {
          "layer": "below",
          "line": {
           "color": "#333",
           "width": 4
          },
          "type": "line",
          "x0": 1.984375,
          "x1": 2.0546875,
          "y0": -2.5,
          "y1": -4
         },
         {
          "layer": "below",
          "line": {
           "color": "#333",
           "width": 4
          },
          "type": "line",
          "x0": 2.0546875,
          "x1": 2.01953125,
          "y0": -4,
          "y1": -5.5
         },
         {
          "layer": "below",
          "line": {
           "color": "#333",
           "width": 4
          },
          "type": "line",
          "x0": 2.0546875,
          "x1": 2.08984375,
          "y0": -4,
          "y1": -5.5
         },
         {
          "layer": "below",
          "line": {
           "color": "#333",
           "width": 4
          },
          "type": "line",
          "x0": 2.125,
          "x1": 2.6875,
          "y0": 2,
          "y1": 0.5
         },
         {
          "layer": "below",
          "line": {
           "color": "#333",
           "width": 4
          },
          "type": "line",
          "x0": 2.6875,
          "x1": 2.40625,
          "y0": 0.5,
          "y1": -1
         },
         {
          "layer": "below",
          "line": {
           "color": "#333",
           "width": 4
          },
          "type": "line",
          "x0": 2.40625,
          "x1": 2.265625,
          "y0": -1,
          "y1": -2.5
         },
         {
          "layer": "below",
          "line": {
           "color": "#333",
           "width": 4
          },
          "type": "line",
          "x0": 2.265625,
          "x1": 2.1953125,
          "y0": -2.5,
          "y1": -4
         },
         {
          "layer": "below",
          "line": {
           "color": "#333",
           "width": 4
          },
          "type": "line",
          "x0": 2.1953125,
          "x1": 2.16015625,
          "y0": -4,
          "y1": -5.5
         },
         {
          "layer": "below",
          "line": {
           "color": "#333",
           "width": 4
          },
          "type": "line",
          "x0": 2.1953125,
          "x1": 2.23046875,
          "y0": -4,
          "y1": -5.5
         },
         {
          "layer": "below",
          "line": {
           "color": "#333",
           "width": 4
          },
          "type": "line",
          "x0": 2.23046875,
          "x1": 2.212890625,
          "y0": -5.5,
          "y1": -7
         },
         {
          "layer": "below",
          "line": {
           "color": "#333",
           "width": 4
          },
          "type": "line",
          "x0": 2.23046875,
          "x1": 2.248046875,
          "y0": -5.5,
          "y1": -7
         },
         {
          "layer": "below",
          "line": {
           "color": "#333",
           "width": 4
          },
          "type": "line",
          "x0": 2.265625,
          "x1": 2.3359375,
          "y0": -2.5,
          "y1": -4
         },
         {
          "layer": "below",
          "line": {
           "color": "#333",
           "width": 4
          },
          "type": "line",
          "x0": 2.3359375,
          "x1": 2.30078125,
          "y0": -4,
          "y1": -5.5
         },
         {
          "layer": "below",
          "line": {
           "color": "#333",
           "width": 4
          },
          "type": "line",
          "x0": 2.3359375,
          "x1": 2.37109375,
          "y0": -4,
          "y1": -5.5
         },
         {
          "layer": "below",
          "line": {
           "color": "#333",
           "width": 4
          },
          "type": "line",
          "x0": 2.37109375,
          "x1": 2.353515625,
          "y0": -5.5,
          "y1": -7
         },
         {
          "layer": "below",
          "line": {
           "color": "#333",
           "width": 4
          },
          "type": "line",
          "x0": 2.37109375,
          "x1": 2.388671875,
          "y0": -5.5,
          "y1": -7
         },
         {
          "layer": "below",
          "line": {
           "color": "#333",
           "width": 4
          },
          "type": "line",
          "x0": 2.40625,
          "x1": 2.546875,
          "y0": -1,
          "y1": -2.5
         },
         {
          "layer": "below",
          "line": {
           "color": "#333",
           "width": 4
          },
          "type": "line",
          "x0": 2.546875,
          "x1": 2.4765625,
          "y0": -2.5,
          "y1": -4
         },
         {
          "layer": "below",
          "line": {
           "color": "#333",
           "width": 4
          },
          "type": "line",
          "x0": 2.4765625,
          "x1": 2.44140625,
          "y0": -4,
          "y1": -5.5
         },
         {
          "layer": "below",
          "line": {
           "color": "#333",
           "width": 4
          },
          "type": "line",
          "x0": 2.4765625,
          "x1": 2.51171875,
          "y0": -4,
          "y1": -5.5
         },
         {
          "layer": "below",
          "line": {
           "color": "#333",
           "width": 4
          },
          "type": "line",
          "x0": 2.51171875,
          "x1": 2.494140625,
          "y0": -5.5,
          "y1": -7
         },
         {
          "layer": "below",
          "line": {
           "color": "#333",
           "width": 4
          },
          "type": "line",
          "x0": 2.51171875,
          "x1": 2.529296875,
          "y0": -5.5,
          "y1": -7
         },
         {
          "layer": "below",
          "line": {
           "color": "#333",
           "width": 4
          },
          "type": "line",
          "x0": 2.546875,
          "x1": 2.6171875,
          "y0": -2.5,
          "y1": -4
         },
         {
          "layer": "below",
          "line": {
           "color": "#333",
           "width": 4
          },
          "type": "line",
          "x0": 2.6171875,
          "x1": 2.58203125,
          "y0": -4,
          "y1": -5.5
         },
         {
          "layer": "below",
          "line": {
           "color": "#333",
           "width": 4
          },
          "type": "line",
          "x0": 2.58203125,
          "x1": 2.564453125,
          "y0": -5.5,
          "y1": -7
         },
         {
          "layer": "below",
          "line": {
           "color": "#333",
           "width": 4
          },
          "type": "line",
          "x0": 2.58203125,
          "x1": 2.599609375,
          "y0": -5.5,
          "y1": -7
         },
         {
          "layer": "below",
          "line": {
           "color": "#333",
           "width": 4
          },
          "type": "line",
          "x0": 2.6171875,
          "x1": 2.65234375,
          "y0": -4,
          "y1": -5.5
         },
         {
          "layer": "below",
          "line": {
           "color": "#333",
           "width": 4
          },
          "type": "line",
          "x0": 2.65234375,
          "x1": 2.634765625,
          "y0": -5.5,
          "y1": -7
         },
         {
          "layer": "below",
          "line": {
           "color": "#333",
           "width": 4
          },
          "type": "line",
          "x0": 2.65234375,
          "x1": 2.669921875,
          "y0": -5.5,
          "y1": -7
         },
         {
          "layer": "below",
          "line": {
           "color": "#333",
           "width": 4
          },
          "type": "line",
          "x0": 2.669921875,
          "x1": 2.6611328125,
          "y0": -7,
          "y1": -8.5
         },
         {
          "layer": "below",
          "line": {
           "color": "#333",
           "width": 4
          },
          "type": "line",
          "x0": 2.669921875,
          "x1": 2.6787109375,
          "y0": -7,
          "y1": -8.5
         },
         {
          "layer": "below",
          "line": {
           "color": "#333",
           "width": 4
          },
          "type": "line",
          "x0": 2.6787109375,
          "x1": 2.67431640625,
          "y0": -8.5,
          "y1": -10
         },
         {
          "layer": "below",
          "line": {
           "color": "#333",
           "width": 4
          },
          "type": "line",
          "x0": 2.6787109375,
          "x1": 2.68310546875,
          "y0": -8.5,
          "y1": -10
         },
         {
          "layer": "below",
          "line": {
           "color": "#333",
           "width": 4
          },
          "type": "line",
          "x0": 2.6875,
          "x1": 2.96875,
          "y0": 0.5,
          "y1": -1
         },
         {
          "layer": "below",
          "line": {
           "color": "#333",
           "width": 4
          },
          "type": "line",
          "x0": 2.96875,
          "x1": 2.828125,
          "y0": -1,
          "y1": -2.5
         },
         {
          "layer": "below",
          "line": {
           "color": "#333",
           "width": 4
          },
          "type": "line",
          "x0": 2.828125,
          "x1": 2.7578125,
          "y0": -2.5,
          "y1": -4
         },
         {
          "layer": "below",
          "line": {
           "color": "#333",
           "width": 4
          },
          "type": "line",
          "x0": 2.7578125,
          "x1": 2.72265625,
          "y0": -4,
          "y1": -5.5
         },
         {
          "layer": "below",
          "line": {
           "color": "#333",
           "width": 4
          },
          "type": "line",
          "x0": 2.7578125,
          "x1": 2.79296875,
          "y0": -4,
          "y1": -5.5
         },
         {
          "layer": "below",
          "line": {
           "color": "#333",
           "width": 4
          },
          "type": "line",
          "x0": 2.79296875,
          "x1": 2.775390625,
          "y0": -5.5,
          "y1": -7
         },
         {
          "layer": "below",
          "line": {
           "color": "#333",
           "width": 4
          },
          "type": "line",
          "x0": 2.79296875,
          "x1": 2.810546875,
          "y0": -5.5,
          "y1": -7
         },
         {
          "layer": "below",
          "line": {
           "color": "#333",
           "width": 4
          },
          "type": "line",
          "x0": 2.810546875,
          "x1": 2.8017578125,
          "y0": -7,
          "y1": -8.5
         },
         {
          "layer": "below",
          "line": {
           "color": "#333",
           "width": 4
          },
          "type": "line",
          "x0": 2.810546875,
          "x1": 2.8193359375,
          "y0": -7,
          "y1": -8.5
         },
         {
          "layer": "below",
          "line": {
           "color": "#333",
           "width": 4
          },
          "type": "line",
          "x0": 2.828125,
          "x1": 2.8984375,
          "y0": -2.5,
          "y1": -4
         },
         {
          "layer": "below",
          "line": {
           "color": "#333",
           "width": 4
          },
          "type": "line",
          "x0": 2.8984375,
          "x1": 2.86328125,
          "y0": -4,
          "y1": -5.5
         },
         {
          "layer": "below",
          "line": {
           "color": "#333",
           "width": 4
          },
          "type": "line",
          "x0": 2.8984375,
          "x1": 2.93359375,
          "y0": -4,
          "y1": -5.5
         },
         {
          "layer": "below",
          "line": {
           "color": "#333",
           "width": 4
          },
          "type": "line",
          "x0": 2.96875,
          "x1": 3.109375,
          "y0": -1,
          "y1": -2.5
         },
         {
          "layer": "below",
          "line": {
           "color": "#333",
           "width": 4
          },
          "type": "line",
          "x0": 3.109375,
          "x1": 3.0390625,
          "y0": -2.5,
          "y1": -4
         },
         {
          "layer": "below",
          "line": {
           "color": "#333",
           "width": 4
          },
          "type": "line",
          "x0": 3.0390625,
          "x1": 3.00390625,
          "y0": -4,
          "y1": -5.5
         },
         {
          "layer": "below",
          "line": {
           "color": "#333",
           "width": 4
          },
          "type": "line",
          "x0": 3.0390625,
          "x1": 3.07421875,
          "y0": -4,
          "y1": -5.5
         },
         {
          "layer": "below",
          "line": {
           "color": "#333",
           "width": 4
          },
          "type": "line",
          "x0": 3.07421875,
          "x1": 3.056640625,
          "y0": -5.5,
          "y1": -7
         },
         {
          "layer": "below",
          "line": {
           "color": "#333",
           "width": 4
          },
          "type": "line",
          "x0": 3.056640625,
          "x1": 3.0478515625,
          "y0": -7,
          "y1": -8.5
         },
         {
          "layer": "below",
          "line": {
           "color": "#333",
           "width": 4
          },
          "type": "line",
          "x0": 3.056640625,
          "x1": 3.0654296875,
          "y0": -7,
          "y1": -8.5
         },
         {
          "layer": "below",
          "line": {
           "color": "#333",
           "width": 4
          },
          "type": "line",
          "x0": 3.07421875,
          "x1": 3.091796875,
          "y0": -5.5,
          "y1": -7
         },
         {
          "layer": "below",
          "line": {
           "color": "#333",
           "width": 4
          },
          "type": "line",
          "x0": 3.091796875,
          "x1": 3.0830078125,
          "y0": -7,
          "y1": -8.5
         },
         {
          "layer": "below",
          "line": {
           "color": "#333",
           "width": 4
          },
          "type": "line",
          "x0": 3.091796875,
          "x1": 3.1005859375,
          "y0": -7,
          "y1": -8.5
         },
         {
          "layer": "below",
          "line": {
           "color": "#333",
           "width": 4
          },
          "type": "line",
          "x0": 3.109375,
          "x1": 3.1796875,
          "y0": -2.5,
          "y1": -4
         },
         {
          "layer": "below",
          "line": {
           "color": "#333",
           "width": 4
          },
          "type": "line",
          "x0": 3.1796875,
          "x1": 3.14453125,
          "y0": -4,
          "y1": -5.5
         },
         {
          "layer": "below",
          "line": {
           "color": "#333",
           "width": 4
          },
          "type": "line",
          "x0": 3.14453125,
          "x1": 3.126953125,
          "y0": -5.5,
          "y1": -7
         },
         {
          "layer": "below",
          "line": {
           "color": "#333",
           "width": 4
          },
          "type": "line",
          "x0": 3.126953125,
          "x1": 3.1181640625,
          "y0": -7,
          "y1": -8.5
         },
         {
          "layer": "below",
          "line": {
           "color": "#333",
           "width": 4
          },
          "type": "line",
          "x0": 3.126953125,
          "x1": 3.1357421875,
          "y0": -7,
          "y1": -8.5
         },
         {
          "layer": "below",
          "line": {
           "color": "#333",
           "width": 4
          },
          "type": "line",
          "x0": 3.1357421875,
          "x1": 3.13134765625,
          "y0": -8.5,
          "y1": -10
         },
         {
          "layer": "below",
          "line": {
           "color": "#333",
           "width": 4
          },
          "type": "line",
          "x0": 3.1357421875,
          "x1": 3.14013671875,
          "y0": -8.5,
          "y1": -10
         },
         {
          "layer": "below",
          "line": {
           "color": "#333",
           "width": 4
          },
          "type": "line",
          "x0": 3.14453125,
          "x1": 3.162109375,
          "y0": -5.5,
          "y1": -7
         },
         {
          "layer": "below",
          "line": {
           "color": "#333",
           "width": 4
          },
          "type": "line",
          "x0": 3.162109375,
          "x1": 3.1533203125,
          "y0": -7,
          "y1": -8.5
         },
         {
          "layer": "below",
          "line": {
           "color": "#333",
           "width": 4
          },
          "type": "line",
          "x0": 3.162109375,
          "x1": 3.1708984375,
          "y0": -7,
          "y1": -8.5
         },
         {
          "layer": "below",
          "line": {
           "color": "#333",
           "width": 4
          },
          "type": "line",
          "x0": 3.1708984375,
          "x1": 3.16650390625,
          "y0": -8.5,
          "y1": -10
         },
         {
          "layer": "below",
          "line": {
           "color": "#333",
           "width": 4
          },
          "type": "line",
          "x0": 3.1708984375,
          "x1": 3.17529296875,
          "y0": -8.5,
          "y1": -10
         },
         {
          "layer": "below",
          "line": {
           "color": "#333",
           "width": 4
          },
          "type": "line",
          "x0": 3.17529296875,
          "x1": 3.173095703125,
          "y0": -10,
          "y1": -11.5
         },
         {
          "layer": "below",
          "line": {
           "color": "#333",
           "width": 4
          },
          "type": "line",
          "x0": 3.17529296875,
          "x1": 3.177490234375,
          "y0": -10,
          "y1": -11.5
         },
         {
          "layer": "below",
          "line": {
           "color": "#333",
           "width": 4
          },
          "type": "line",
          "x0": 3.1796875,
          "x1": 3.21484375,
          "y0": -4,
          "y1": -5.5
         },
         {
          "layer": "below",
          "line": {
           "color": "#333",
           "width": 4
          },
          "type": "line",
          "x0": 3.21484375,
          "x1": 3.197265625,
          "y0": -5.5,
          "y1": -7
         },
         {
          "layer": "below",
          "line": {
           "color": "#333",
           "width": 4
          },
          "type": "line",
          "x0": 3.197265625,
          "x1": 3.1884765625,
          "y0": -7,
          "y1": -8.5
         },
         {
          "layer": "below",
          "line": {
           "color": "#333",
           "width": 4
          },
          "type": "line",
          "x0": 3.197265625,
          "x1": 3.2060546875,
          "y0": -7,
          "y1": -8.5
         },
         {
          "layer": "below",
          "line": {
           "color": "#333",
           "width": 4
          },
          "type": "line",
          "x0": 3.2060546875,
          "x1": 3.20166015625,
          "y0": -8.5,
          "y1": -10
         },
         {
          "layer": "below",
          "line": {
           "color": "#333",
           "width": 4
          },
          "type": "line",
          "x0": 3.2060546875,
          "x1": 3.21044921875,
          "y0": -8.5,
          "y1": -10
         },
         {
          "layer": "below",
          "line": {
           "color": "#333",
           "width": 4
          },
          "type": "line",
          "x0": 3.21484375,
          "x1": 3.232421875,
          "y0": -5.5,
          "y1": -7
         },
         {
          "layer": "below",
          "line": {
           "color": "#333",
           "width": 4
          },
          "type": "line",
          "x0": 3.232421875,
          "x1": 3.2236328125,
          "y0": -7,
          "y1": -8.5
         },
         {
          "layer": "below",
          "line": {
           "color": "#333",
           "width": 4
          },
          "type": "line",
          "x0": 3.2236328125,
          "x1": 3.21923828125,
          "y0": -8.5,
          "y1": -10
         },
         {
          "layer": "below",
          "line": {
           "color": "#333",
           "width": 4
          },
          "type": "line",
          "x0": 3.2236328125,
          "x1": 3.22802734375,
          "y0": -8.5,
          "y1": -10
         },
         {
          "layer": "below",
          "line": {
           "color": "#333",
           "width": 4
          },
          "type": "line",
          "x0": 3.232421875,
          "x1": 3.2412109375,
          "y0": -7,
          "y1": -8.5
         },
         {
          "layer": "below",
          "line": {
           "color": "#333",
           "width": 4
          },
          "type": "line",
          "x0": 3.2412109375,
          "x1": 3.23681640625,
          "y0": -8.5,
          "y1": -10
         },
         {
          "layer": "below",
          "line": {
           "color": "#333",
           "width": 4
          },
          "type": "line",
          "x0": 3.2412109375,
          "x1": 3.24560546875,
          "y0": -8.5,
          "y1": -10
         },
         {
          "layer": "below",
          "line": {
           "color": "#333",
           "width": 4
          },
          "type": "line",
          "x0": 3.25,
          "x1": 4.375,
          "y0": 3.5,
          "y1": 2
         },
         {
          "layer": "below",
          "line": {
           "color": "#333",
           "width": 4
          },
          "type": "line",
          "x0": 4.375,
          "x1": 3.8125,
          "y0": 2,
          "y1": 0.5
         },
         {
          "layer": "below",
          "line": {
           "color": "#333",
           "width": 4
          },
          "type": "line",
          "x0": 3.8125,
          "x1": 3.53125,
          "y0": 0.5,
          "y1": -1
         },
         {
          "layer": "below",
          "line": {
           "color": "#333",
           "width": 4
          },
          "type": "line",
          "x0": 3.53125,
          "x1": 3.390625,
          "y0": -1,
          "y1": -2.5
         },
         {
          "layer": "below",
          "line": {
           "color": "#333",
           "width": 4
          },
          "type": "line",
          "x0": 3.390625,
          "x1": 3.3203125,
          "y0": -2.5,
          "y1": -4
         },
         {
          "layer": "below",
          "line": {
           "color": "#333",
           "width": 4
          },
          "type": "line",
          "x0": 3.390625,
          "x1": 3.4609375,
          "y0": -2.5,
          "y1": -4
         },
         {
          "layer": "below",
          "line": {
           "color": "#333",
           "width": 4
          },
          "type": "line",
          "x0": 3.53125,
          "x1": 3.671875,
          "y0": -1,
          "y1": -2.5
         },
         {
          "layer": "below",
          "line": {
           "color": "#333",
           "width": 4
          },
          "type": "line",
          "x0": 3.671875,
          "x1": 3.6015625,
          "y0": -2.5,
          "y1": -4
         },
         {
          "layer": "below",
          "line": {
           "color": "#333",
           "width": 4
          },
          "type": "line",
          "x0": 3.6015625,
          "x1": 3.56640625,
          "y0": -4,
          "y1": -5.5
         },
         {
          "layer": "below",
          "line": {
           "color": "#333",
           "width": 4
          },
          "type": "line",
          "x0": 3.6015625,
          "x1": 3.63671875,
          "y0": -4,
          "y1": -5.5
         },
         {
          "layer": "below",
          "line": {
           "color": "#333",
           "width": 4
          },
          "type": "line",
          "x0": 3.671875,
          "x1": 3.7421875,
          "y0": -2.5,
          "y1": -4
         },
         {
          "layer": "below",
          "line": {
           "color": "#333",
           "width": 4
          },
          "type": "line",
          "x0": 3.7421875,
          "x1": 3.70703125,
          "y0": -4,
          "y1": -5.5
         },
         {
          "layer": "below",
          "line": {
           "color": "#333",
           "width": 4
          },
          "type": "line",
          "x0": 3.70703125,
          "x1": 3.689453125,
          "y0": -5.5,
          "y1": -7
         },
         {
          "layer": "below",
          "line": {
           "color": "#333",
           "width": 4
          },
          "type": "line",
          "x0": 3.70703125,
          "x1": 3.724609375,
          "y0": -5.5,
          "y1": -7
         },
         {
          "layer": "below",
          "line": {
           "color": "#333",
           "width": 4
          },
          "type": "line",
          "x0": 3.7421875,
          "x1": 3.77734375,
          "y0": -4,
          "y1": -5.5
         },
         {
          "layer": "below",
          "line": {
           "color": "#333",
           "width": 4
          },
          "type": "line",
          "x0": 3.77734375,
          "x1": 3.759765625,
          "y0": -5.5,
          "y1": -7
         },
         {
          "layer": "below",
          "line": {
           "color": "#333",
           "width": 4
          },
          "type": "line",
          "x0": 3.77734375,
          "x1": 3.794921875,
          "y0": -5.5,
          "y1": -7
         },
         {
          "layer": "below",
          "line": {
           "color": "#333",
           "width": 4
          },
          "type": "line",
          "x0": 3.794921875,
          "x1": 3.7861328125,
          "y0": -7,
          "y1": -8.5
         },
         {
          "layer": "below",
          "line": {
           "color": "#333",
           "width": 4
          },
          "type": "line",
          "x0": 3.794921875,
          "x1": 3.8037109375,
          "y0": -7,
          "y1": -8.5
         },
         {
          "layer": "below",
          "line": {
           "color": "#333",
           "width": 4
          },
          "type": "line",
          "x0": 3.8125,
          "x1": 4.09375,
          "y0": 0.5,
          "y1": -1
         },
         {
          "layer": "below",
          "line": {
           "color": "#333",
           "width": 4
          },
          "type": "line",
          "x0": 4.09375,
          "x1": 3.953125,
          "y0": -1,
          "y1": -2.5
         },
         {
          "layer": "below",
          "line": {
           "color": "#333",
           "width": 4
          },
          "type": "line",
          "x0": 3.953125,
          "x1": 3.8828125,
          "y0": -2.5,
          "y1": -4
         },
         {
          "layer": "below",
          "line": {
           "color": "#333",
           "width": 4
          },
          "type": "line",
          "x0": 3.8828125,
          "x1": 3.84765625,
          "y0": -4,
          "y1": -5.5
         },
         {
          "layer": "below",
          "line": {
           "color": "#333",
           "width": 4
          },
          "type": "line",
          "x0": 3.8828125,
          "x1": 3.91796875,
          "y0": -4,
          "y1": -5.5
         },
         {
          "layer": "below",
          "line": {
           "color": "#333",
           "width": 4
          },
          "type": "line",
          "x0": 3.953125,
          "x1": 4.0234375,
          "y0": -2.5,
          "y1": -4
         },
         {
          "layer": "below",
          "line": {
           "color": "#333",
           "width": 4
          },
          "type": "line",
          "x0": 4.0234375,
          "x1": 3.98828125,
          "y0": -4,
          "y1": -5.5
         },
         {
          "layer": "below",
          "line": {
           "color": "#333",
           "width": 4
          },
          "type": "line",
          "x0": 4.0234375,
          "x1": 4.05859375,
          "y0": -4,
          "y1": -5.5
         },
         {
          "layer": "below",
          "line": {
           "color": "#333",
           "width": 4
          },
          "type": "line",
          "x0": 4.05859375,
          "x1": 4.041015625,
          "y0": -5.5,
          "y1": -7
         },
         {
          "layer": "below",
          "line": {
           "color": "#333",
           "width": 4
          },
          "type": "line",
          "x0": 4.05859375,
          "x1": 4.076171875,
          "y0": -5.5,
          "y1": -7
         },
         {
          "layer": "below",
          "line": {
           "color": "#333",
           "width": 4
          },
          "type": "line",
          "x0": 4.09375,
          "x1": 4.234375,
          "y0": -1,
          "y1": -2.5
         },
         {
          "layer": "below",
          "line": {
           "color": "#333",
           "width": 4
          },
          "type": "line",
          "x0": 4.234375,
          "x1": 4.1640625,
          "y0": -2.5,
          "y1": -4
         },
         {
          "layer": "below",
          "line": {
           "color": "#333",
           "width": 4
          },
          "type": "line",
          "x0": 4.1640625,
          "x1": 4.12890625,
          "y0": -4,
          "y1": -5.5
         },
         {
          "layer": "below",
          "line": {
           "color": "#333",
           "width": 4
          },
          "type": "line",
          "x0": 4.1640625,
          "x1": 4.19921875,
          "y0": -4,
          "y1": -5.5
         },
         {
          "layer": "below",
          "line": {
           "color": "#333",
           "width": 4
          },
          "type": "line",
          "x0": 4.19921875,
          "x1": 4.181640625,
          "y0": -5.5,
          "y1": -7
         },
         {
          "layer": "below",
          "line": {
           "color": "#333",
           "width": 4
          },
          "type": "line",
          "x0": 4.19921875,
          "x1": 4.216796875,
          "y0": -5.5,
          "y1": -7
         },
         {
          "layer": "below",
          "line": {
           "color": "#333",
           "width": 4
          },
          "type": "line",
          "x0": 4.234375,
          "x1": 4.3046875,
          "y0": -2.5,
          "y1": -4
         },
         {
          "layer": "below",
          "line": {
           "color": "#333",
           "width": 4
          },
          "type": "line",
          "x0": 4.3046875,
          "x1": 4.26953125,
          "y0": -4,
          "y1": -5.5
         },
         {
          "layer": "below",
          "line": {
           "color": "#333",
           "width": 4
          },
          "type": "line",
          "x0": 4.3046875,
          "x1": 4.33984375,
          "y0": -4,
          "y1": -5.5
         },
         {
          "layer": "below",
          "line": {
           "color": "#333",
           "width": 4
          },
          "type": "line",
          "x0": 4.33984375,
          "x1": 4.322265625,
          "y0": -5.5,
          "y1": -7
         },
         {
          "layer": "below",
          "line": {
           "color": "#333",
           "width": 4
          },
          "type": "line",
          "x0": 4.33984375,
          "x1": 4.357421875,
          "y0": -5.5,
          "y1": -7
         },
         {
          "layer": "below",
          "line": {
           "color": "#333",
           "width": 4
          },
          "type": "line",
          "x0": 4.375,
          "x1": 4.9375,
          "y0": 2,
          "y1": 0.5
         },
         {
          "layer": "below",
          "line": {
           "color": "#333",
           "width": 4
          },
          "type": "line",
          "x0": 4.9375,
          "x1": 4.65625,
          "y0": 0.5,
          "y1": -1
         },
         {
          "layer": "below",
          "line": {
           "color": "#333",
           "width": 4
          },
          "type": "line",
          "x0": 4.65625,
          "x1": 4.515625,
          "y0": -1,
          "y1": -2.5
         },
         {
          "layer": "below",
          "line": {
           "color": "#333",
           "width": 4
          },
          "type": "line",
          "x0": 4.515625,
          "x1": 4.4453125,
          "y0": -2.5,
          "y1": -4
         },
         {
          "layer": "below",
          "line": {
           "color": "#333",
           "width": 4
          },
          "type": "line",
          "x0": 4.515625,
          "x1": 4.5859375,
          "y0": -2.5,
          "y1": -4
         },
         {
          "layer": "below",
          "line": {
           "color": "#333",
           "width": 4
          },
          "type": "line",
          "x0": 4.65625,
          "x1": 4.796875,
          "y0": -1,
          "y1": -2.5
         },
         {
          "layer": "below",
          "line": {
           "color": "#333",
           "width": 4
          },
          "type": "line",
          "x0": 4.796875,
          "x1": 4.7265625,
          "y0": -2.5,
          "y1": -4
         },
         {
          "layer": "below",
          "line": {
           "color": "#333",
           "width": 4
          },
          "type": "line",
          "x0": 4.796875,
          "x1": 4.8671875,
          "y0": -2.5,
          "y1": -4
         },
         {
          "layer": "below",
          "line": {
           "color": "#333",
           "width": 4
          },
          "type": "line",
          "x0": 4.8671875,
          "x1": 4.83203125,
          "y0": -4,
          "y1": -5.5
         },
         {
          "layer": "below",
          "line": {
           "color": "#333",
           "width": 4
          },
          "type": "line",
          "x0": 4.83203125,
          "x1": 4.814453125,
          "y0": -5.5,
          "y1": -7
         },
         {
          "layer": "below",
          "line": {
           "color": "#333",
           "width": 4
          },
          "type": "line",
          "x0": 4.83203125,
          "x1": 4.849609375,
          "y0": -5.5,
          "y1": -7
         },
         {
          "layer": "below",
          "line": {
           "color": "#333",
           "width": 4
          },
          "type": "line",
          "x0": 4.8671875,
          "x1": 4.90234375,
          "y0": -4,
          "y1": -5.5
         },
         {
          "layer": "below",
          "line": {
           "color": "#333",
           "width": 4
          },
          "type": "line",
          "x0": 4.90234375,
          "x1": 4.884765625,
          "y0": -5.5,
          "y1": -7
         },
         {
          "layer": "below",
          "line": {
           "color": "#333",
           "width": 4
          },
          "type": "line",
          "x0": 4.90234375,
          "x1": 4.919921875,
          "y0": -5.5,
          "y1": -7
         },
         {
          "layer": "below",
          "line": {
           "color": "#333",
           "width": 4
          },
          "type": "line",
          "x0": 4.919921875,
          "x1": 4.9111328125,
          "y0": -7,
          "y1": -8.5
         },
         {
          "layer": "below",
          "line": {
           "color": "#333",
           "width": 4
          },
          "type": "line",
          "x0": 4.919921875,
          "x1": 4.9287109375,
          "y0": -7,
          "y1": -8.5
         },
         {
          "layer": "below",
          "line": {
           "color": "#333",
           "width": 4
          },
          "type": "line",
          "x0": 4.9375,
          "x1": 5.21875,
          "y0": 0.5,
          "y1": -1
         },
         {
          "layer": "below",
          "line": {
           "color": "#333",
           "width": 4
          },
          "type": "line",
          "x0": 5.21875,
          "x1": 5.078125,
          "y0": -1,
          "y1": -2.5
         },
         {
          "layer": "below",
          "line": {
           "color": "#333",
           "width": 4
          },
          "type": "line",
          "x0": 5.078125,
          "x1": 5.0078125,
          "y0": -2.5,
          "y1": -4
         },
         {
          "layer": "below",
          "line": {
           "color": "#333",
           "width": 4
          },
          "type": "line",
          "x0": 5.0078125,
          "x1": 4.97265625,
          "y0": -4,
          "y1": -5.5
         },
         {
          "layer": "below",
          "line": {
           "color": "#333",
           "width": 4
          },
          "type": "line",
          "x0": 5.0078125,
          "x1": 5.04296875,
          "y0": -4,
          "y1": -5.5
         },
         {
          "layer": "below",
          "line": {
           "color": "#333",
           "width": 4
          },
          "type": "line",
          "x0": 5.04296875,
          "x1": 5.025390625,
          "y0": -5.5,
          "y1": -7
         },
         {
          "layer": "below",
          "line": {
           "color": "#333",
           "width": 4
          },
          "type": "line",
          "x0": 5.04296875,
          "x1": 5.060546875,
          "y0": -5.5,
          "y1": -7
         },
         {
          "layer": "below",
          "line": {
           "color": "#333",
           "width": 4
          },
          "type": "line",
          "x0": 5.078125,
          "x1": 5.1484375,
          "y0": -2.5,
          "y1": -4
         },
         {
          "layer": "below",
          "line": {
           "color": "#333",
           "width": 4
          },
          "type": "line",
          "x0": 5.1484375,
          "x1": 5.11328125,
          "y0": -4,
          "y1": -5.5
         },
         {
          "layer": "below",
          "line": {
           "color": "#333",
           "width": 4
          },
          "type": "line",
          "x0": 5.11328125,
          "x1": 5.095703125,
          "y0": -5.5,
          "y1": -7
         },
         {
          "layer": "below",
          "line": {
           "color": "#333",
           "width": 4
          },
          "type": "line",
          "x0": 5.095703125,
          "x1": 5.0869140625,
          "y0": -7,
          "y1": -8.5
         },
         {
          "layer": "below",
          "line": {
           "color": "#333",
           "width": 4
          },
          "type": "line",
          "x0": 5.095703125,
          "x1": 5.1044921875,
          "y0": -7,
          "y1": -8.5
         },
         {
          "layer": "below",
          "line": {
           "color": "#333",
           "width": 4
          },
          "type": "line",
          "x0": 5.1044921875,
          "x1": 5.10009765625,
          "y0": -8.5,
          "y1": -10
         },
         {
          "layer": "below",
          "line": {
           "color": "#333",
           "width": 4
          },
          "type": "line",
          "x0": 5.1044921875,
          "x1": 5.10888671875,
          "y0": -8.5,
          "y1": -10
         },
         {
          "layer": "below",
          "line": {
           "color": "#333",
           "width": 4
          },
          "type": "line",
          "x0": 5.11328125,
          "x1": 5.130859375,
          "y0": -5.5,
          "y1": -7
         },
         {
          "layer": "below",
          "line": {
           "color": "#333",
           "width": 4
          },
          "type": "line",
          "x0": 5.130859375,
          "x1": 5.1220703125,
          "y0": -7,
          "y1": -8.5
         },
         {
          "layer": "below",
          "line": {
           "color": "#333",
           "width": 4
          },
          "type": "line",
          "x0": 5.1220703125,
          "x1": 5.11767578125,
          "y0": -8.5,
          "y1": -10
         },
         {
          "layer": "below",
          "line": {
           "color": "#333",
           "width": 4
          },
          "type": "line",
          "x0": 5.1220703125,
          "x1": 5.12646484375,
          "y0": -8.5,
          "y1": -10
         },
         {
          "layer": "below",
          "line": {
           "color": "#333",
           "width": 4
          },
          "type": "line",
          "x0": 5.130859375,
          "x1": 5.1396484375,
          "y0": -7,
          "y1": -8.5
         },
         {
          "layer": "below",
          "line": {
           "color": "#333",
           "width": 4
          },
          "type": "line",
          "x0": 5.1396484375,
          "x1": 5.13525390625,
          "y0": -8.5,
          "y1": -10
         },
         {
          "layer": "below",
          "line": {
           "color": "#333",
           "width": 4
          },
          "type": "line",
          "x0": 5.1396484375,
          "x1": 5.14404296875,
          "y0": -8.5,
          "y1": -10
         },
         {
          "layer": "below",
          "line": {
           "color": "#333",
           "width": 4
          },
          "type": "line",
          "x0": 5.1484375,
          "x1": 5.18359375,
          "y0": -4,
          "y1": -5.5
         },
         {
          "layer": "below",
          "line": {
           "color": "#333",
           "width": 4
          },
          "type": "line",
          "x0": 5.18359375,
          "x1": 5.166015625,
          "y0": -5.5,
          "y1": -7
         },
         {
          "layer": "below",
          "line": {
           "color": "#333",
           "width": 4
          },
          "type": "line",
          "x0": 5.166015625,
          "x1": 5.1572265625,
          "y0": -7,
          "y1": -8.5
         },
         {
          "layer": "below",
          "line": {
           "color": "#333",
           "width": 4
          },
          "type": "line",
          "x0": 5.166015625,
          "x1": 5.1748046875,
          "y0": -7,
          "y1": -8.5
         },
         {
          "layer": "below",
          "line": {
           "color": "#333",
           "width": 4
          },
          "type": "line",
          "x0": 5.1748046875,
          "x1": 5.17041015625,
          "y0": -8.5,
          "y1": -10
         },
         {
          "layer": "below",
          "line": {
           "color": "#333",
           "width": 4
          },
          "type": "line",
          "x0": 5.1748046875,
          "x1": 5.17919921875,
          "y0": -8.5,
          "y1": -10
         },
         {
          "layer": "below",
          "line": {
           "color": "#333",
           "width": 4
          },
          "type": "line",
          "x0": 5.17919921875,
          "x1": 5.177001953125,
          "y0": -10,
          "y1": -11.5
         },
         {
          "layer": "below",
          "line": {
           "color": "#333",
           "width": 4
          },
          "type": "line",
          "x0": 5.17919921875,
          "x1": 5.181396484375,
          "y0": -10,
          "y1": -11.5
         },
         {
          "layer": "below",
          "line": {
           "color": "#333",
           "width": 4
          },
          "type": "line",
          "x0": 5.18359375,
          "x1": 5.201171875,
          "y0": -5.5,
          "y1": -7
         },
         {
          "layer": "below",
          "line": {
           "color": "#333",
           "width": 4
          },
          "type": "line",
          "x0": 5.201171875,
          "x1": 5.1923828125,
          "y0": -7,
          "y1": -8.5
         },
         {
          "layer": "below",
          "line": {
           "color": "#333",
           "width": 4
          },
          "type": "line",
          "x0": 5.1923828125,
          "x1": 5.18798828125,
          "y0": -8.5,
          "y1": -10
         },
         {
          "layer": "below",
          "line": {
           "color": "#333",
           "width": 4
          },
          "type": "line",
          "x0": 5.1923828125,
          "x1": 5.19677734375,
          "y0": -8.5,
          "y1": -10
         },
         {
          "layer": "below",
          "line": {
           "color": "#333",
           "width": 4
          },
          "type": "line",
          "x0": 5.201171875,
          "x1": 5.2099609375,
          "y0": -7,
          "y1": -8.5
         },
         {
          "layer": "below",
          "line": {
           "color": "#333",
           "width": 4
          },
          "type": "line",
          "x0": 5.2099609375,
          "x1": 5.20556640625,
          "y0": -8.5,
          "y1": -10
         },
         {
          "layer": "below",
          "line": {
           "color": "#333",
           "width": 4
          },
          "type": "line",
          "x0": 5.2099609375,
          "x1": 5.21435546875,
          "y0": -8.5,
          "y1": -10
         },
         {
          "layer": "below",
          "line": {
           "color": "#333",
           "width": 4
          },
          "type": "line",
          "x0": 5.21435546875,
          "x1": 5.212158203125,
          "y0": -10,
          "y1": -11.5
         },
         {
          "layer": "below",
          "line": {
           "color": "#333",
           "width": 4
          },
          "type": "line",
          "x0": 5.21435546875,
          "x1": 5.216552734375,
          "y0": -10,
          "y1": -11.5
         },
         {
          "layer": "below",
          "line": {
           "color": "#333",
           "width": 4
          },
          "type": "line",
          "x0": 5.21875,
          "x1": 5.359375,
          "y0": -1,
          "y1": -2.5
         },
         {
          "layer": "below",
          "line": {
           "color": "#333",
           "width": 4
          },
          "type": "line",
          "x0": 5.359375,
          "x1": 5.2890625,
          "y0": -2.5,
          "y1": -4
         },
         {
          "layer": "below",
          "line": {
           "color": "#333",
           "width": 4
          },
          "type": "line",
          "x0": 5.2890625,
          "x1": 5.25390625,
          "y0": -4,
          "y1": -5.5
         },
         {
          "layer": "below",
          "line": {
           "color": "#333",
           "width": 4
          },
          "type": "line",
          "x0": 5.25390625,
          "x1": 5.236328125,
          "y0": -5.5,
          "y1": -7
         },
         {
          "layer": "below",
          "line": {
           "color": "#333",
           "width": 4
          },
          "type": "line",
          "x0": 5.25390625,
          "x1": 5.271484375,
          "y0": -5.5,
          "y1": -7
         },
         {
          "layer": "below",
          "line": {
           "color": "#333",
           "width": 4
          },
          "type": "line",
          "x0": 5.2890625,
          "x1": 5.32421875,
          "y0": -4,
          "y1": -5.5
         },
         {
          "layer": "below",
          "line": {
           "color": "#333",
           "width": 4
          },
          "type": "line",
          "x0": 5.32421875,
          "x1": 5.306640625,
          "y0": -5.5,
          "y1": -7
         },
         {
          "layer": "below",
          "line": {
           "color": "#333",
           "width": 4
          },
          "type": "line",
          "x0": 5.32421875,
          "x1": 5.341796875,
          "y0": -5.5,
          "y1": -7
         },
         {
          "layer": "below",
          "line": {
           "color": "#333",
           "width": 4
          },
          "type": "line",
          "x0": 5.341796875,
          "x1": 5.3330078125,
          "y0": -7,
          "y1": -8.5
         },
         {
          "layer": "below",
          "line": {
           "color": "#333",
           "width": 4
          },
          "type": "line",
          "x0": 5.341796875,
          "x1": 5.3505859375,
          "y0": -7,
          "y1": -8.5
         },
         {
          "layer": "below",
          "line": {
           "color": "#333",
           "width": 4
          },
          "type": "line",
          "x0": 5.359375,
          "x1": 5.4296875,
          "y0": -2.5,
          "y1": -4
         },
         {
          "layer": "below",
          "line": {
           "color": "#333",
           "width": 4
          },
          "type": "line",
          "x0": 5.4296875,
          "x1": 5.39453125,
          "y0": -4,
          "y1": -5.5
         },
         {
          "layer": "below",
          "line": {
           "color": "#333",
           "width": 4
          },
          "type": "line",
          "x0": 5.4296875,
          "x1": 5.46484375,
          "y0": -4,
          "y1": -5.5
         },
         {
          "layer": "below",
          "line": {
           "color": "#333",
           "width": 4
          },
          "type": "line",
          "x0": 5.46484375,
          "x1": 5.447265625,
          "y0": -5.5,
          "y1": -7
         },
         {
          "layer": "below",
          "line": {
           "color": "#333",
           "width": 4
          },
          "type": "line",
          "x0": 5.447265625,
          "x1": 5.4384765625,
          "y0": -7,
          "y1": -8.5
         },
         {
          "layer": "below",
          "line": {
           "color": "#333",
           "width": 4
          },
          "type": "line",
          "x0": 5.447265625,
          "x1": 5.4560546875,
          "y0": -7,
          "y1": -8.5
         },
         {
          "layer": "below",
          "line": {
           "color": "#333",
           "width": 4
          },
          "type": "line",
          "x0": 5.46484375,
          "x1": 5.482421875,
          "y0": -5.5,
          "y1": -7
         },
         {
          "layer": "below",
          "line": {
           "color": "#333",
           "width": 4
          },
          "type": "line",
          "x0": 5.482421875,
          "x1": 5.4736328125,
          "y0": -7,
          "y1": -8.5
         },
         {
          "layer": "below",
          "line": {
           "color": "#333",
           "width": 4
          },
          "type": "line",
          "x0": 5.482421875,
          "x1": 5.4912109375,
          "y0": -7,
          "y1": -8.5
         },
         {
          "layer": "below",
          "line": {
           "color": "#333",
           "width": 4
          },
          "type": "line",
          "x0": 5.5,
          "x1": 7.75,
          "y0": 5,
          "y1": 3.5
         },
         {
          "layer": "below",
          "line": {
           "color": "#333",
           "width": 4
          },
          "type": "line",
          "x0": 7.75,
          "x1": 6.625,
          "y0": 3.5,
          "y1": 2
         },
         {
          "layer": "below",
          "line": {
           "color": "#333",
           "width": 4
          },
          "type": "line",
          "x0": 6.625,
          "x1": 6.0625,
          "y0": 2,
          "y1": 0.5
         },
         {
          "layer": "below",
          "line": {
           "color": "#333",
           "width": 4
          },
          "type": "line",
          "x0": 6.0625,
          "x1": 5.78125,
          "y0": 0.5,
          "y1": -1
         },
         {
          "layer": "below",
          "line": {
           "color": "#333",
           "width": 4
          },
          "type": "line",
          "x0": 5.78125,
          "x1": 5.640625,
          "y0": -1,
          "y1": -2.5
         },
         {
          "layer": "below",
          "line": {
           "color": "#333",
           "width": 4
          },
          "type": "line",
          "x0": 5.640625,
          "x1": 5.5703125,
          "y0": -2.5,
          "y1": -4
         },
         {
          "layer": "below",
          "line": {
           "color": "#333",
           "width": 4
          },
          "type": "line",
          "x0": 5.640625,
          "x1": 5.7109375,
          "y0": -2.5,
          "y1": -4
         },
         {
          "layer": "below",
          "line": {
           "color": "#333",
           "width": 4
          },
          "type": "line",
          "x0": 5.78125,
          "x1": 5.921875,
          "y0": -1,
          "y1": -2.5
         },
         {
          "layer": "below",
          "line": {
           "color": "#333",
           "width": 4
          },
          "type": "line",
          "x0": 5.921875,
          "x1": 5.8515625,
          "y0": -2.5,
          "y1": -4
         },
         {
          "layer": "below",
          "line": {
           "color": "#333",
           "width": 4
          },
          "type": "line",
          "x0": 5.8515625,
          "x1": 5.81640625,
          "y0": -4,
          "y1": -5.5
         },
         {
          "layer": "below",
          "line": {
           "color": "#333",
           "width": 4
          },
          "type": "line",
          "x0": 5.8515625,
          "x1": 5.88671875,
          "y0": -4,
          "y1": -5.5
         },
         {
          "layer": "below",
          "line": {
           "color": "#333",
           "width": 4
          },
          "type": "line",
          "x0": 5.921875,
          "x1": 5.9921875,
          "y0": -2.5,
          "y1": -4
         },
         {
          "layer": "below",
          "line": {
           "color": "#333",
           "width": 4
          },
          "type": "line",
          "x0": 5.9921875,
          "x1": 5.95703125,
          "y0": -4,
          "y1": -5.5
         },
         {
          "layer": "below",
          "line": {
           "color": "#333",
           "width": 4
          },
          "type": "line",
          "x0": 5.9921875,
          "x1": 6.02734375,
          "y0": -4,
          "y1": -5.5
         },
         {
          "layer": "below",
          "line": {
           "color": "#333",
           "width": 4
          },
          "type": "line",
          "x0": 6.0625,
          "x1": 6.34375,
          "y0": 0.5,
          "y1": -1
         },
         {
          "layer": "below",
          "line": {
           "color": "#333",
           "width": 4
          },
          "type": "line",
          "x0": 6.34375,
          "x1": 6.203125,
          "y0": -1,
          "y1": -2.5
         },
         {
          "layer": "below",
          "line": {
           "color": "#333",
           "width": 4
          },
          "type": "line",
          "x0": 6.203125,
          "x1": 6.1328125,
          "y0": -2.5,
          "y1": -4
         },
         {
          "layer": "below",
          "line": {
           "color": "#333",
           "width": 4
          },
          "type": "line",
          "x0": 6.203125,
          "x1": 6.2734375,
          "y0": -2.5,
          "y1": -4
         },
         {
          "layer": "below",
          "line": {
           "color": "#333",
           "width": 4
          },
          "type": "line",
          "x0": 6.2734375,
          "x1": 6.23828125,
          "y0": -4,
          "y1": -5.5
         },
         {
          "layer": "below",
          "line": {
           "color": "#333",
           "width": 4
          },
          "type": "line",
          "x0": 6.2734375,
          "x1": 6.30859375,
          "y0": -4,
          "y1": -5.5
         },
         {
          "layer": "below",
          "line": {
           "color": "#333",
           "width": 4
          },
          "type": "line",
          "x0": 6.34375,
          "x1": 6.484375,
          "y0": -1,
          "y1": -2.5
         },
         {
          "layer": "below",
          "line": {
           "color": "#333",
           "width": 4
          },
          "type": "line",
          "x0": 6.484375,
          "x1": 6.4140625,
          "y0": -2.5,
          "y1": -4
         },
         {
          "layer": "below",
          "line": {
           "color": "#333",
           "width": 4
          },
          "type": "line",
          "x0": 6.4140625,
          "x1": 6.37890625,
          "y0": -4,
          "y1": -5.5
         },
         {
          "layer": "below",
          "line": {
           "color": "#333",
           "width": 4
          },
          "type": "line",
          "x0": 6.4140625,
          "x1": 6.44921875,
          "y0": -4,
          "y1": -5.5
         },
         {
          "layer": "below",
          "line": {
           "color": "#333",
           "width": 4
          },
          "type": "line",
          "x0": 6.44921875,
          "x1": 6.431640625,
          "y0": -5.5,
          "y1": -7
         },
         {
          "layer": "below",
          "line": {
           "color": "#333",
           "width": 4
          },
          "type": "line",
          "x0": 6.44921875,
          "x1": 6.466796875,
          "y0": -5.5,
          "y1": -7
         },
         {
          "layer": "below",
          "line": {
           "color": "#333",
           "width": 4
          },
          "type": "line",
          "x0": 6.484375,
          "x1": 6.5546875,
          "y0": -2.5,
          "y1": -4
         },
         {
          "layer": "below",
          "line": {
           "color": "#333",
           "width": 4
          },
          "type": "line",
          "x0": 6.5546875,
          "x1": 6.51953125,
          "y0": -4,
          "y1": -5.5
         },
         {
          "layer": "below",
          "line": {
           "color": "#333",
           "width": 4
          },
          "type": "line",
          "x0": 6.51953125,
          "x1": 6.501953125,
          "y0": -5.5,
          "y1": -7
         },
         {
          "layer": "below",
          "line": {
           "color": "#333",
           "width": 4
          },
          "type": "line",
          "x0": 6.51953125,
          "x1": 6.537109375,
          "y0": -5.5,
          "y1": -7
         },
         {
          "layer": "below",
          "line": {
           "color": "#333",
           "width": 4
          },
          "type": "line",
          "x0": 6.5546875,
          "x1": 6.58984375,
          "y0": -4,
          "y1": -5.5
         },
         {
          "layer": "below",
          "line": {
           "color": "#333",
           "width": 4
          },
          "type": "line",
          "x0": 6.58984375,
          "x1": 6.572265625,
          "y0": -5.5,
          "y1": -7
         },
         {
          "layer": "below",
          "line": {
           "color": "#333",
           "width": 4
          },
          "type": "line",
          "x0": 6.58984375,
          "x1": 6.607421875,
          "y0": -5.5,
          "y1": -7
         },
         {
          "layer": "below",
          "line": {
           "color": "#333",
           "width": 4
          },
          "type": "line",
          "x0": 6.607421875,
          "x1": 6.5986328125,
          "y0": -7,
          "y1": -8.5
         },
         {
          "layer": "below",
          "line": {
           "color": "#333",
           "width": 4
          },
          "type": "line",
          "x0": 6.607421875,
          "x1": 6.6162109375,
          "y0": -7,
          "y1": -8.5
         },
         {
          "layer": "below",
          "line": {
           "color": "#333",
           "width": 4
          },
          "type": "line",
          "x0": 6.625,
          "x1": 7.1875,
          "y0": 2,
          "y1": 0.5
         },
         {
          "layer": "below",
          "line": {
           "color": "#333",
           "width": 4
          },
          "type": "line",
          "x0": 7.1875,
          "x1": 6.90625,
          "y0": 0.5,
          "y1": -1
         },
         {
          "layer": "below",
          "line": {
           "color": "#333",
           "width": 4
          },
          "type": "line",
          "x0": 6.90625,
          "x1": 6.765625,
          "y0": -1,
          "y1": -2.5
         },
         {
          "layer": "below",
          "line": {
           "color": "#333",
           "width": 4
          },
          "type": "line",
          "x0": 6.765625,
          "x1": 6.6953125,
          "y0": -2.5,
          "y1": -4
         },
         {
          "layer": "below",
          "line": {
           "color": "#333",
           "width": 4
          },
          "type": "line",
          "x0": 6.6953125,
          "x1": 6.66015625,
          "y0": -4,
          "y1": -5.5
         },
         {
          "layer": "below",
          "line": {
           "color": "#333",
           "width": 4
          },
          "type": "line",
          "x0": 6.6953125,
          "x1": 6.73046875,
          "y0": -4,
          "y1": -5.5
         },
         {
          "layer": "below",
          "line": {
           "color": "#333",
           "width": 4
          },
          "type": "line",
          "x0": 6.765625,
          "x1": 6.8359375,
          "y0": -2.5,
          "y1": -4
         },
         {
          "layer": "below",
          "line": {
           "color": "#333",
           "width": 4
          },
          "type": "line",
          "x0": 6.8359375,
          "x1": 6.80078125,
          "y0": -4,
          "y1": -5.5
         },
         {
          "layer": "below",
          "line": {
           "color": "#333",
           "width": 4
          },
          "type": "line",
          "x0": 6.80078125,
          "x1": 6.783203125,
          "y0": -5.5,
          "y1": -7
         },
         {
          "layer": "below",
          "line": {
           "color": "#333",
           "width": 4
          },
          "type": "line",
          "x0": 6.80078125,
          "x1": 6.818359375,
          "y0": -5.5,
          "y1": -7
         },
         {
          "layer": "below",
          "line": {
           "color": "#333",
           "width": 4
          },
          "type": "line",
          "x0": 6.8359375,
          "x1": 6.87109375,
          "y0": -4,
          "y1": -5.5
         },
         {
          "layer": "below",
          "line": {
           "color": "#333",
           "width": 4
          },
          "type": "line",
          "x0": 6.87109375,
          "x1": 6.853515625,
          "y0": -5.5,
          "y1": -7
         },
         {
          "layer": "below",
          "line": {
           "color": "#333",
           "width": 4
          },
          "type": "line",
          "x0": 6.87109375,
          "x1": 6.888671875,
          "y0": -5.5,
          "y1": -7
         },
         {
          "layer": "below",
          "line": {
           "color": "#333",
           "width": 4
          },
          "type": "line",
          "x0": 6.90625,
          "x1": 7.046875,
          "y0": -1,
          "y1": -2.5
         },
         {
          "layer": "below",
          "line": {
           "color": "#333",
           "width": 4
          },
          "type": "line",
          "x0": 7.046875,
          "x1": 6.9765625,
          "y0": -2.5,
          "y1": -4
         },
         {
          "layer": "below",
          "line": {
           "color": "#333",
           "width": 4
          },
          "type": "line",
          "x0": 6.9765625,
          "x1": 6.94140625,
          "y0": -4,
          "y1": -5.5
         },
         {
          "layer": "below",
          "line": {
           "color": "#333",
           "width": 4
          },
          "type": "line",
          "x0": 6.9765625,
          "x1": 7.01171875,
          "y0": -4,
          "y1": -5.5
         },
         {
          "layer": "below",
          "line": {
           "color": "#333",
           "width": 4
          },
          "type": "line",
          "x0": 7.046875,
          "x1": 7.1171875,
          "y0": -2.5,
          "y1": -4
         },
         {
          "layer": "below",
          "line": {
           "color": "#333",
           "width": 4
          },
          "type": "line",
          "x0": 7.1171875,
          "x1": 7.08203125,
          "y0": -4,
          "y1": -5.5
         },
         {
          "layer": "below",
          "line": {
           "color": "#333",
           "width": 4
          },
          "type": "line",
          "x0": 7.08203125,
          "x1": 7.064453125,
          "y0": -5.5,
          "y1": -7
         },
         {
          "layer": "below",
          "line": {
           "color": "#333",
           "width": 4
          },
          "type": "line",
          "x0": 7.08203125,
          "x1": 7.099609375,
          "y0": -5.5,
          "y1": -7
         },
         {
          "layer": "below",
          "line": {
           "color": "#333",
           "width": 4
          },
          "type": "line",
          "x0": 7.1171875,
          "x1": 7.15234375,
          "y0": -4,
          "y1": -5.5
         },
         {
          "layer": "below",
          "line": {
           "color": "#333",
           "width": 4
          },
          "type": "line",
          "x0": 7.15234375,
          "x1": 7.134765625,
          "y0": -5.5,
          "y1": -7
         },
         {
          "layer": "below",
          "line": {
           "color": "#333",
           "width": 4
          },
          "type": "line",
          "x0": 7.15234375,
          "x1": 7.169921875,
          "y0": -5.5,
          "y1": -7
         },
         {
          "layer": "below",
          "line": {
           "color": "#333",
           "width": 4
          },
          "type": "line",
          "x0": 7.1875,
          "x1": 7.46875,
          "y0": 0.5,
          "y1": -1
         },
         {
          "layer": "below",
          "line": {
           "color": "#333",
           "width": 4
          },
          "type": "line",
          "x0": 7.46875,
          "x1": 7.328125,
          "y0": -1,
          "y1": -2.5
         },
         {
          "layer": "below",
          "line": {
           "color": "#333",
           "width": 4
          },
          "type": "line",
          "x0": 7.328125,
          "x1": 7.2578125,
          "y0": -2.5,
          "y1": -4
         },
         {
          "layer": "below",
          "line": {
           "color": "#333",
           "width": 4
          },
          "type": "line",
          "x0": 7.328125,
          "x1": 7.3984375,
          "y0": -2.5,
          "y1": -4
         },
         {
          "layer": "below",
          "line": {
           "color": "#333",
           "width": 4
          },
          "type": "line",
          "x0": 7.3984375,
          "x1": 7.36328125,
          "y0": -4,
          "y1": -5.5
         },
         {
          "layer": "below",
          "line": {
           "color": "#333",
           "width": 4
          },
          "type": "line",
          "x0": 7.3984375,
          "x1": 7.43359375,
          "y0": -4,
          "y1": -5.5
         },
         {
          "layer": "below",
          "line": {
           "color": "#333",
           "width": 4
          },
          "type": "line",
          "x0": 7.46875,
          "x1": 7.609375,
          "y0": -1,
          "y1": -2.5
         },
         {
          "layer": "below",
          "line": {
           "color": "#333",
           "width": 4
          },
          "type": "line",
          "x0": 7.609375,
          "x1": 7.5390625,
          "y0": -2.5,
          "y1": -4
         },
         {
          "layer": "below",
          "line": {
           "color": "#333",
           "width": 4
          },
          "type": "line",
          "x0": 7.5390625,
          "x1": 7.50390625,
          "y0": -4,
          "y1": -5.5
         },
         {
          "layer": "below",
          "line": {
           "color": "#333",
           "width": 4
          },
          "type": "line",
          "x0": 7.50390625,
          "x1": 7.486328125,
          "y0": -5.5,
          "y1": -7
         },
         {
          "layer": "below",
          "line": {
           "color": "#333",
           "width": 4
          },
          "type": "line",
          "x0": 7.50390625,
          "x1": 7.521484375,
          "y0": -5.5,
          "y1": -7
         },
         {
          "layer": "below",
          "line": {
           "color": "#333",
           "width": 4
          },
          "type": "line",
          "x0": 7.521484375,
          "x1": 7.5126953125,
          "y0": -7,
          "y1": -8.5
         },
         {
          "layer": "below",
          "line": {
           "color": "#333",
           "width": 4
          },
          "type": "line",
          "x0": 7.521484375,
          "x1": 7.5302734375,
          "y0": -7,
          "y1": -8.5
         },
         {
          "layer": "below",
          "line": {
           "color": "#333",
           "width": 4
          },
          "type": "line",
          "x0": 7.5302734375,
          "x1": 7.52587890625,
          "y0": -8.5,
          "y1": -10
         },
         {
          "layer": "below",
          "line": {
           "color": "#333",
           "width": 4
          },
          "type": "line",
          "x0": 7.5302734375,
          "x1": 7.53466796875,
          "y0": -8.5,
          "y1": -10
         },
         {
          "layer": "below",
          "line": {
           "color": "#333",
           "width": 4
          },
          "type": "line",
          "x0": 7.5390625,
          "x1": 7.57421875,
          "y0": -4,
          "y1": -5.5
         },
         {
          "layer": "below",
          "line": {
           "color": "#333",
           "width": 4
          },
          "type": "line",
          "x0": 7.57421875,
          "x1": 7.556640625,
          "y0": -5.5,
          "y1": -7
         },
         {
          "layer": "below",
          "line": {
           "color": "#333",
           "width": 4
          },
          "type": "line",
          "x0": 7.57421875,
          "x1": 7.591796875,
          "y0": -5.5,
          "y1": -7
         },
         {
          "layer": "below",
          "line": {
           "color": "#333",
           "width": 4
          },
          "type": "line",
          "x0": 7.591796875,
          "x1": 7.5830078125,
          "y0": -7,
          "y1": -8.5
         },
         {
          "layer": "below",
          "line": {
           "color": "#333",
           "width": 4
          },
          "type": "line",
          "x0": 7.591796875,
          "x1": 7.6005859375,
          "y0": -7,
          "y1": -8.5
         },
         {
          "layer": "below",
          "line": {
           "color": "#333",
           "width": 4
          },
          "type": "line",
          "x0": 7.6005859375,
          "x1": 7.59619140625,
          "y0": -8.5,
          "y1": -10
         },
         {
          "layer": "below",
          "line": {
           "color": "#333",
           "width": 4
          },
          "type": "line",
          "x0": 7.6005859375,
          "x1": 7.60498046875,
          "y0": -8.5,
          "y1": -10
         },
         {
          "layer": "below",
          "line": {
           "color": "#333",
           "width": 4
          },
          "type": "line",
          "x0": 7.60498046875,
          "x1": 7.602783203125,
          "y0": -10,
          "y1": -11.5
         },
         {
          "layer": "below",
          "line": {
           "color": "#333",
           "width": 4
          },
          "type": "line",
          "x0": 7.60498046875,
          "x1": 7.607177734375,
          "y0": -10,
          "y1": -11.5
         },
         {
          "layer": "below",
          "line": {
           "color": "#333",
           "width": 4
          },
          "type": "line",
          "x0": 7.607177734375,
          "x1": 7.6060791015625,
          "y0": -11.5,
          "y1": -13
         },
         {
          "layer": "below",
          "line": {
           "color": "#333",
           "width": 4
          },
          "type": "line",
          "x0": 7.607177734375,
          "x1": 7.6082763671875,
          "y0": -11.5,
          "y1": -13
         },
         {
          "layer": "below",
          "line": {
           "color": "#333",
           "width": 4
          },
          "type": "line",
          "x0": 7.609375,
          "x1": 7.6796875,
          "y0": -2.5,
          "y1": -4
         },
         {
          "layer": "below",
          "line": {
           "color": "#333",
           "width": 4
          },
          "type": "line",
          "x0": 7.6796875,
          "x1": 7.64453125,
          "y0": -4,
          "y1": -5.5
         },
         {
          "layer": "below",
          "line": {
           "color": "#333",
           "width": 4
          },
          "type": "line",
          "x0": 7.64453125,
          "x1": 7.626953125,
          "y0": -5.5,
          "y1": -7
         },
         {
          "layer": "below",
          "line": {
           "color": "#333",
           "width": 4
          },
          "type": "line",
          "x0": 7.64453125,
          "x1": 7.662109375,
          "y0": -5.5,
          "y1": -7
         },
         {
          "layer": "below",
          "line": {
           "color": "#333",
           "width": 4
          },
          "type": "line",
          "x0": 7.662109375,
          "x1": 7.6533203125,
          "y0": -7,
          "y1": -8.5
         },
         {
          "layer": "below",
          "line": {
           "color": "#333",
           "width": 4
          },
          "type": "line",
          "x0": 7.662109375,
          "x1": 7.6708984375,
          "y0": -7,
          "y1": -8.5
         },
         {
          "layer": "below",
          "line": {
           "color": "#333",
           "width": 4
          },
          "type": "line",
          "x0": 7.6796875,
          "x1": 7.71484375,
          "y0": -4,
          "y1": -5.5
         },
         {
          "layer": "below",
          "line": {
           "color": "#333",
           "width": 4
          },
          "type": "line",
          "x0": 7.71484375,
          "x1": 7.697265625,
          "y0": -5.5,
          "y1": -7
         },
         {
          "layer": "below",
          "line": {
           "color": "#333",
           "width": 4
          },
          "type": "line",
          "x0": 7.71484375,
          "x1": 7.732421875,
          "y0": -5.5,
          "y1": -7
         },
         {
          "layer": "below",
          "line": {
           "color": "#333",
           "width": 4
          },
          "type": "line",
          "x0": 7.732421875,
          "x1": 7.7236328125,
          "y0": -7,
          "y1": -8.5
         },
         {
          "layer": "below",
          "line": {
           "color": "#333",
           "width": 4
          },
          "type": "line",
          "x0": 7.732421875,
          "x1": 7.7412109375,
          "y0": -7,
          "y1": -8.5
         },
         {
          "layer": "below",
          "line": {
           "color": "#333",
           "width": 4
          },
          "type": "line",
          "x0": 7.7412109375,
          "x1": 7.73681640625,
          "y0": -8.5,
          "y1": -10
         },
         {
          "layer": "below",
          "line": {
           "color": "#333",
           "width": 4
          },
          "type": "line",
          "x0": 7.7412109375,
          "x1": 7.74560546875,
          "y0": -8.5,
          "y1": -10
         },
         {
          "layer": "below",
          "line": {
           "color": "#333",
           "width": 4
          },
          "type": "line",
          "x0": 7.75,
          "x1": 8.875,
          "y0": 3.5,
          "y1": 2
         },
         {
          "layer": "below",
          "line": {
           "color": "#333",
           "width": 4
          },
          "type": "line",
          "x0": 8.875,
          "x1": 8.3125,
          "y0": 2,
          "y1": 0.5
         },
         {
          "layer": "below",
          "line": {
           "color": "#333",
           "width": 4
          },
          "type": "line",
          "x0": 8.3125,
          "x1": 8.03125,
          "y0": 0.5,
          "y1": -1
         },
         {
          "layer": "below",
          "line": {
           "color": "#333",
           "width": 4
          },
          "type": "line",
          "x0": 8.03125,
          "x1": 7.890625,
          "y0": -1,
          "y1": -2.5
         },
         {
          "layer": "below",
          "line": {
           "color": "#333",
           "width": 4
          },
          "type": "line",
          "x0": 8.03125,
          "x1": 8.171875,
          "y0": -1,
          "y1": -2.5
         },
         {
          "layer": "below",
          "line": {
           "color": "#333",
           "width": 4
          },
          "type": "line",
          "x0": 8.171875,
          "x1": 8.1015625,
          "y0": -2.5,
          "y1": -4
         },
         {
          "layer": "below",
          "line": {
           "color": "#333",
           "width": 4
          },
          "type": "line",
          "x0": 8.1015625,
          "x1": 8.06640625,
          "y0": -4,
          "y1": -5.5
         },
         {
          "layer": "below",
          "line": {
           "color": "#333",
           "width": 4
          },
          "type": "line",
          "x0": 8.1015625,
          "x1": 8.13671875,
          "y0": -4,
          "y1": -5.5
         },
         {
          "layer": "below",
          "line": {
           "color": "#333",
           "width": 4
          },
          "type": "line",
          "x0": 8.171875,
          "x1": 8.2421875,
          "y0": -2.5,
          "y1": -4
         },
         {
          "layer": "below",
          "line": {
           "color": "#333",
           "width": 4
          },
          "type": "line",
          "x0": 8.2421875,
          "x1": 8.20703125,
          "y0": -4,
          "y1": -5.5
         },
         {
          "layer": "below",
          "line": {
           "color": "#333",
           "width": 4
          },
          "type": "line",
          "x0": 8.2421875,
          "x1": 8.27734375,
          "y0": -4,
          "y1": -5.5
         },
         {
          "layer": "below",
          "line": {
           "color": "#333",
           "width": 4
          },
          "type": "line",
          "x0": 8.3125,
          "x1": 8.59375,
          "y0": 0.5,
          "y1": -1
         },
         {
          "layer": "below",
          "line": {
           "color": "#333",
           "width": 4
          },
          "type": "line",
          "x0": 8.59375,
          "x1": 8.453125,
          "y0": -1,
          "y1": -2.5
         },
         {
          "layer": "below",
          "line": {
           "color": "#333",
           "width": 4
          },
          "type": "line",
          "x0": 8.453125,
          "x1": 8.3828125,
          "y0": -2.5,
          "y1": -4
         },
         {
          "layer": "below",
          "line": {
           "color": "#333",
           "width": 4
          },
          "type": "line",
          "x0": 8.453125,
          "x1": 8.5234375,
          "y0": -2.5,
          "y1": -4
         },
         {
          "layer": "below",
          "line": {
           "color": "#333",
           "width": 4
          },
          "type": "line",
          "x0": 8.59375,
          "x1": 8.734375,
          "y0": -1,
          "y1": -2.5
         },
         {
          "layer": "below",
          "line": {
           "color": "#333",
           "width": 4
          },
          "type": "line",
          "x0": 8.734375,
          "x1": 8.6640625,
          "y0": -2.5,
          "y1": -4
         },
         {
          "layer": "below",
          "line": {
           "color": "#333",
           "width": 4
          },
          "type": "line",
          "x0": 8.734375,
          "x1": 8.8046875,
          "y0": -2.5,
          "y1": -4
         },
         {
          "layer": "below",
          "line": {
           "color": "#333",
           "width": 4
          },
          "type": "line",
          "x0": 8.875,
          "x1": 9.4375,
          "y0": 2,
          "y1": 0.5
         },
         {
          "layer": "below",
          "line": {
           "color": "#333",
           "width": 4
          },
          "type": "line",
          "x0": 9.4375,
          "x1": 9.15625,
          "y0": 0.5,
          "y1": -1
         },
         {
          "layer": "below",
          "line": {
           "color": "#333",
           "width": 4
          },
          "type": "line",
          "x0": 9.15625,
          "x1": 9.015625,
          "y0": -1,
          "y1": -2.5
         },
         {
          "layer": "below",
          "line": {
           "color": "#333",
           "width": 4
          },
          "type": "line",
          "x0": 9.015625,
          "x1": 8.9453125,
          "y0": -2.5,
          "y1": -4
         },
         {
          "layer": "below",
          "line": {
           "color": "#333",
           "width": 4
          },
          "type": "line",
          "x0": 9.015625,
          "x1": 9.0859375,
          "y0": -2.5,
          "y1": -4
         },
         {
          "layer": "below",
          "line": {
           "color": "#333",
           "width": 4
          },
          "type": "line",
          "x0": 9.0859375,
          "x1": 9.05078125,
          "y0": -4,
          "y1": -5.5
         },
         {
          "layer": "below",
          "line": {
           "color": "#333",
           "width": 4
          },
          "type": "line",
          "x0": 9.0859375,
          "x1": 9.12109375,
          "y0": -4,
          "y1": -5.5
         },
         {
          "layer": "below",
          "line": {
           "color": "#333",
           "width": 4
          },
          "type": "line",
          "x0": 9.15625,
          "x1": 9.296875,
          "y0": -1,
          "y1": -2.5
         },
         {
          "layer": "below",
          "line": {
           "color": "#333",
           "width": 4
          },
          "type": "line",
          "x0": 9.296875,
          "x1": 9.2265625,
          "y0": -2.5,
          "y1": -4
         },
         {
          "layer": "below",
          "line": {
           "color": "#333",
           "width": 4
          },
          "type": "line",
          "x0": 9.2265625,
          "x1": 9.19140625,
          "y0": -4,
          "y1": -5.5
         },
         {
          "layer": "below",
          "line": {
           "color": "#333",
           "width": 4
          },
          "type": "line",
          "x0": 9.19140625,
          "x1": 9.173828125,
          "y0": -5.5,
          "y1": -7
         },
         {
          "layer": "below",
          "line": {
           "color": "#333",
           "width": 4
          },
          "type": "line",
          "x0": 9.173828125,
          "x1": 9.1650390625,
          "y0": -7,
          "y1": -8.5
         },
         {
          "layer": "below",
          "line": {
           "color": "#333",
           "width": 4
          },
          "type": "line",
          "x0": 9.173828125,
          "x1": 9.1826171875,
          "y0": -7,
          "y1": -8.5
         },
         {
          "layer": "below",
          "line": {
           "color": "#333",
           "width": 4
          },
          "type": "line",
          "x0": 9.19140625,
          "x1": 9.208984375,
          "y0": -5.5,
          "y1": -7
         },
         {
          "layer": "below",
          "line": {
           "color": "#333",
           "width": 4
          },
          "type": "line",
          "x0": 9.208984375,
          "x1": 9.2001953125,
          "y0": -7,
          "y1": -8.5
         },
         {
          "layer": "below",
          "line": {
           "color": "#333",
           "width": 4
          },
          "type": "line",
          "x0": 9.208984375,
          "x1": 9.2177734375,
          "y0": -7,
          "y1": -8.5
         },
         {
          "layer": "below",
          "line": {
           "color": "#333",
           "width": 4
          },
          "type": "line",
          "x0": 9.2265625,
          "x1": 9.26171875,
          "y0": -4,
          "y1": -5.5
         },
         {
          "layer": "below",
          "line": {
           "color": "#333",
           "width": 4
          },
          "type": "line",
          "x0": 9.26171875,
          "x1": 9.244140625,
          "y0": -5.5,
          "y1": -7
         },
         {
          "layer": "below",
          "line": {
           "color": "#333",
           "width": 4
          },
          "type": "line",
          "x0": 9.244140625,
          "x1": 9.2353515625,
          "y0": -7,
          "y1": -8.5
         },
         {
          "layer": "below",
          "line": {
           "color": "#333",
           "width": 4
          },
          "type": "line",
          "x0": 9.244140625,
          "x1": 9.2529296875,
          "y0": -7,
          "y1": -8.5
         },
         {
          "layer": "below",
          "line": {
           "color": "#333",
           "width": 4
          },
          "type": "line",
          "x0": 9.26171875,
          "x1": 9.279296875,
          "y0": -5.5,
          "y1": -7
         },
         {
          "layer": "below",
          "line": {
           "color": "#333",
           "width": 4
          },
          "type": "line",
          "x0": 9.279296875,
          "x1": 9.2705078125,
          "y0": -7,
          "y1": -8.5
         },
         {
          "layer": "below",
          "line": {
           "color": "#333",
           "width": 4
          },
          "type": "line",
          "x0": 9.279296875,
          "x1": 9.2880859375,
          "y0": -7,
          "y1": -8.5
         },
         {
          "layer": "below",
          "line": {
           "color": "#333",
           "width": 4
          },
          "type": "line",
          "x0": 9.296875,
          "x1": 9.3671875,
          "y0": -2.5,
          "y1": -4
         },
         {
          "layer": "below",
          "line": {
           "color": "#333",
           "width": 4
          },
          "type": "line",
          "x0": 9.3671875,
          "x1": 9.33203125,
          "y0": -4,
          "y1": -5.5
         },
         {
          "layer": "below",
          "line": {
           "color": "#333",
           "width": 4
          },
          "type": "line",
          "x0": 9.3671875,
          "x1": 9.40234375,
          "y0": -4,
          "y1": -5.5
         },
         {
          "layer": "below",
          "line": {
           "color": "#333",
           "width": 4
          },
          "type": "line",
          "x0": 9.40234375,
          "x1": 9.384765625,
          "y0": -5.5,
          "y1": -7
         },
         {
          "layer": "below",
          "line": {
           "color": "#333",
           "width": 4
          },
          "type": "line",
          "x0": 9.40234375,
          "x1": 9.419921875,
          "y0": -5.5,
          "y1": -7
         },
         {
          "layer": "below",
          "line": {
           "color": "#333",
           "width": 4
          },
          "type": "line",
          "x0": 9.419921875,
          "x1": 9.4111328125,
          "y0": -7,
          "y1": -8.5
         },
         {
          "layer": "below",
          "line": {
           "color": "#333",
           "width": 4
          },
          "type": "line",
          "x0": 9.419921875,
          "x1": 9.4287109375,
          "y0": -7,
          "y1": -8.5
         },
         {
          "layer": "below",
          "line": {
           "color": "#333",
           "width": 4
          },
          "type": "line",
          "x0": 9.4287109375,
          "x1": 9.42431640625,
          "y0": -8.5,
          "y1": -10
         },
         {
          "layer": "below",
          "line": {
           "color": "#333",
           "width": 4
          },
          "type": "line",
          "x0": 9.4287109375,
          "x1": 9.43310546875,
          "y0": -8.5,
          "y1": -10
         },
         {
          "layer": "below",
          "line": {
           "color": "#333",
           "width": 4
          },
          "type": "line",
          "x0": 9.4375,
          "x1": 9.71875,
          "y0": 0.5,
          "y1": -1
         },
         {
          "layer": "below",
          "line": {
           "color": "#333",
           "width": 4
          },
          "type": "line",
          "x0": 9.71875,
          "x1": 9.578125,
          "y0": -1,
          "y1": -2.5
         },
         {
          "layer": "below",
          "line": {
           "color": "#333",
           "width": 4
          },
          "type": "line",
          "x0": 9.578125,
          "x1": 9.5078125,
          "y0": -2.5,
          "y1": -4
         },
         {
          "layer": "below",
          "line": {
           "color": "#333",
           "width": 4
          },
          "type": "line",
          "x0": 9.5078125,
          "x1": 9.47265625,
          "y0": -4,
          "y1": -5.5
         },
         {
          "layer": "below",
          "line": {
           "color": "#333",
           "width": 4
          },
          "type": "line",
          "x0": 9.5078125,
          "x1": 9.54296875,
          "y0": -4,
          "y1": -5.5
         },
         {
          "layer": "below",
          "line": {
           "color": "#333",
           "width": 4
          },
          "type": "line",
          "x0": 9.54296875,
          "x1": 9.525390625,
          "y0": -5.5,
          "y1": -7
         },
         {
          "layer": "below",
          "line": {
           "color": "#333",
           "width": 4
          },
          "type": "line",
          "x0": 9.54296875,
          "x1": 9.560546875,
          "y0": -5.5,
          "y1": -7
         },
         {
          "layer": "below",
          "line": {
           "color": "#333",
           "width": 4
          },
          "type": "line",
          "x0": 9.578125,
          "x1": 9.6484375,
          "y0": -2.5,
          "y1": -4
         },
         {
          "layer": "below",
          "line": {
           "color": "#333",
           "width": 4
          },
          "type": "line",
          "x0": 9.6484375,
          "x1": 9.61328125,
          "y0": -4,
          "y1": -5.5
         },
         {
          "layer": "below",
          "line": {
           "color": "#333",
           "width": 4
          },
          "type": "line",
          "x0": 9.61328125,
          "x1": 9.595703125,
          "y0": -5.5,
          "y1": -7
         },
         {
          "layer": "below",
          "line": {
           "color": "#333",
           "width": 4
          },
          "type": "line",
          "x0": 9.61328125,
          "x1": 9.630859375,
          "y0": -5.5,
          "y1": -7
         },
         {
          "layer": "below",
          "line": {
           "color": "#333",
           "width": 4
          },
          "type": "line",
          "x0": 9.6484375,
          "x1": 9.68359375,
          "y0": -4,
          "y1": -5.5
         },
         {
          "layer": "below",
          "line": {
           "color": "#333",
           "width": 4
          },
          "type": "line",
          "x0": 9.68359375,
          "x1": 9.666015625,
          "y0": -5.5,
          "y1": -7
         },
         {
          "layer": "below",
          "line": {
           "color": "#333",
           "width": 4
          },
          "type": "line",
          "x0": 9.68359375,
          "x1": 9.701171875,
          "y0": -5.5,
          "y1": -7
         },
         {
          "layer": "below",
          "line": {
           "color": "#333",
           "width": 4
          },
          "type": "line",
          "x0": 9.701171875,
          "x1": 9.6923828125,
          "y0": -7,
          "y1": -8.5
         },
         {
          "layer": "below",
          "line": {
           "color": "#333",
           "width": 4
          },
          "type": "line",
          "x0": 9.701171875,
          "x1": 9.7099609375,
          "y0": -7,
          "y1": -8.5
         },
         {
          "layer": "below",
          "line": {
           "color": "#333",
           "width": 4
          },
          "type": "line",
          "x0": 9.71875,
          "x1": 9.859375,
          "y0": -1,
          "y1": -2.5
         },
         {
          "layer": "below",
          "line": {
           "color": "#333",
           "width": 4
          },
          "type": "line",
          "x0": 9.859375,
          "x1": 9.7890625,
          "y0": -2.5,
          "y1": -4
         },
         {
          "layer": "below",
          "line": {
           "color": "#333",
           "width": 4
          },
          "type": "line",
          "x0": 9.7890625,
          "x1": 9.75390625,
          "y0": -4,
          "y1": -5.5
         },
         {
          "layer": "below",
          "line": {
           "color": "#333",
           "width": 4
          },
          "type": "line",
          "x0": 9.7890625,
          "x1": 9.82421875,
          "y0": -4,
          "y1": -5.5
         },
         {
          "layer": "below",
          "line": {
           "color": "#333",
           "width": 4
          },
          "type": "line",
          "x0": 9.82421875,
          "x1": 9.806640625,
          "y0": -5.5,
          "y1": -7
         },
         {
          "layer": "below",
          "line": {
           "color": "#333",
           "width": 4
          },
          "type": "line",
          "x0": 9.82421875,
          "x1": 9.841796875,
          "y0": -5.5,
          "y1": -7
         },
         {
          "layer": "below",
          "line": {
           "color": "#333",
           "width": 4
          },
          "type": "line",
          "x0": 9.859375,
          "x1": 9.9296875,
          "y0": -2.5,
          "y1": -4
         },
         {
          "layer": "below",
          "line": {
           "color": "#333",
           "width": 4
          },
          "type": "line",
          "x0": 9.9296875,
          "x1": 9.89453125,
          "y0": -4,
          "y1": -5.5
         },
         {
          "layer": "below",
          "line": {
           "color": "#333",
           "width": 4
          },
          "type": "line",
          "x0": 9.89453125,
          "x1": 9.876953125,
          "y0": -5.5,
          "y1": -7
         },
         {
          "layer": "below",
          "line": {
           "color": "#333",
           "width": 4
          },
          "type": "line",
          "x0": 9.89453125,
          "x1": 9.912109375,
          "y0": -5.5,
          "y1": -7
         },
         {
          "layer": "below",
          "line": {
           "color": "#333",
           "width": 4
          },
          "type": "line",
          "x0": 9.9296875,
          "x1": 9.96484375,
          "y0": -4,
          "y1": -5.5
         },
         {
          "layer": "below",
          "line": {
           "color": "#333",
           "width": 4
          },
          "type": "line",
          "x0": 9.96484375,
          "x1": 9.947265625,
          "y0": -5.5,
          "y1": -7
         },
         {
          "layer": "below",
          "line": {
           "color": "#333",
           "width": 4
          },
          "type": "line",
          "x0": 9.96484375,
          "x1": 9.982421875,
          "y0": -5.5,
          "y1": -7
         }
        ],
        "template": {
         "data": {
          "bar": [
           {
            "error_x": {
             "color": "#2a3f5f"
            },
            "error_y": {
             "color": "#2a3f5f"
            },
            "marker": {
             "line": {
              "color": "#E5ECF6",
              "width": 0.5
             },
             "pattern": {
              "fillmode": "overlay",
              "size": 10,
              "solidity": 0.2
             }
            },
            "type": "bar"
           }
          ],
          "barpolar": [
           {
            "marker": {
             "line": {
              "color": "#E5ECF6",
              "width": 0.5
             },
             "pattern": {
              "fillmode": "overlay",
              "size": 10,
              "solidity": 0.2
             }
            },
            "type": "barpolar"
           }
          ],
          "carpet": [
           {
            "aaxis": {
             "endlinecolor": "#2a3f5f",
             "gridcolor": "white",
             "linecolor": "white",
             "minorgridcolor": "white",
             "startlinecolor": "#2a3f5f"
            },
            "baxis": {
             "endlinecolor": "#2a3f5f",
             "gridcolor": "white",
             "linecolor": "white",
             "minorgridcolor": "white",
             "startlinecolor": "#2a3f5f"
            },
            "type": "carpet"
           }
          ],
          "choropleth": [
           {
            "colorbar": {
             "outlinewidth": 0,
             "ticks": ""
            },
            "type": "choropleth"
           }
          ],
          "contour": [
           {
            "colorbar": {
             "outlinewidth": 0,
             "ticks": ""
            },
            "colorscale": [
             [
              0,
              "#0d0887"
             ],
             [
              0.1111111111111111,
              "#46039f"
             ],
             [
              0.2222222222222222,
              "#7201a8"
             ],
             [
              0.3333333333333333,
              "#9c179e"
             ],
             [
              0.4444444444444444,
              "#bd3786"
             ],
             [
              0.5555555555555556,
              "#d8576b"
             ],
             [
              0.6666666666666666,
              "#ed7953"
             ],
             [
              0.7777777777777778,
              "#fb9f3a"
             ],
             [
              0.8888888888888888,
              "#fdca26"
             ],
             [
              1,
              "#f0f921"
             ]
            ],
            "type": "contour"
           }
          ],
          "contourcarpet": [
           {
            "colorbar": {
             "outlinewidth": 0,
             "ticks": ""
            },
            "type": "contourcarpet"
           }
          ],
          "heatmap": [
           {
            "colorbar": {
             "outlinewidth": 0,
             "ticks": ""
            },
            "colorscale": [
             [
              0,
              "#0d0887"
             ],
             [
              0.1111111111111111,
              "#46039f"
             ],
             [
              0.2222222222222222,
              "#7201a8"
             ],
             [
              0.3333333333333333,
              "#9c179e"
             ],
             [
              0.4444444444444444,
              "#bd3786"
             ],
             [
              0.5555555555555556,
              "#d8576b"
             ],
             [
              0.6666666666666666,
              "#ed7953"
             ],
             [
              0.7777777777777778,
              "#fb9f3a"
             ],
             [
              0.8888888888888888,
              "#fdca26"
             ],
             [
              1,
              "#f0f921"
             ]
            ],
            "type": "heatmap"
           }
          ],
          "heatmapgl": [
           {
            "colorbar": {
             "outlinewidth": 0,
             "ticks": ""
            },
            "colorscale": [
             [
              0,
              "#0d0887"
             ],
             [
              0.1111111111111111,
              "#46039f"
             ],
             [
              0.2222222222222222,
              "#7201a8"
             ],
             [
              0.3333333333333333,
              "#9c179e"
             ],
             [
              0.4444444444444444,
              "#bd3786"
             ],
             [
              0.5555555555555556,
              "#d8576b"
             ],
             [
              0.6666666666666666,
              "#ed7953"
             ],
             [
              0.7777777777777778,
              "#fb9f3a"
             ],
             [
              0.8888888888888888,
              "#fdca26"
             ],
             [
              1,
              "#f0f921"
             ]
            ],
            "type": "heatmapgl"
           }
          ],
          "histogram": [
           {
            "marker": {
             "pattern": {
              "fillmode": "overlay",
              "size": 10,
              "solidity": 0.2
             }
            },
            "type": "histogram"
           }
          ],
          "histogram2d": [
           {
            "colorbar": {
             "outlinewidth": 0,
             "ticks": ""
            },
            "colorscale": [
             [
              0,
              "#0d0887"
             ],
             [
              0.1111111111111111,
              "#46039f"
             ],
             [
              0.2222222222222222,
              "#7201a8"
             ],
             [
              0.3333333333333333,
              "#9c179e"
             ],
             [
              0.4444444444444444,
              "#bd3786"
             ],
             [
              0.5555555555555556,
              "#d8576b"
             ],
             [
              0.6666666666666666,
              "#ed7953"
             ],
             [
              0.7777777777777778,
              "#fb9f3a"
             ],
             [
              0.8888888888888888,
              "#fdca26"
             ],
             [
              1,
              "#f0f921"
             ]
            ],
            "type": "histogram2d"
           }
          ],
          "histogram2dcontour": [
           {
            "colorbar": {
             "outlinewidth": 0,
             "ticks": ""
            },
            "colorscale": [
             [
              0,
              "#0d0887"
             ],
             [
              0.1111111111111111,
              "#46039f"
             ],
             [
              0.2222222222222222,
              "#7201a8"
             ],
             [
              0.3333333333333333,
              "#9c179e"
             ],
             [
              0.4444444444444444,
              "#bd3786"
             ],
             [
              0.5555555555555556,
              "#d8576b"
             ],
             [
              0.6666666666666666,
              "#ed7953"
             ],
             [
              0.7777777777777778,
              "#fb9f3a"
             ],
             [
              0.8888888888888888,
              "#fdca26"
             ],
             [
              1,
              "#f0f921"
             ]
            ],
            "type": "histogram2dcontour"
           }
          ],
          "mesh3d": [
           {
            "colorbar": {
             "outlinewidth": 0,
             "ticks": ""
            },
            "type": "mesh3d"
           }
          ],
          "parcoords": [
           {
            "line": {
             "colorbar": {
              "outlinewidth": 0,
              "ticks": ""
             }
            },
            "type": "parcoords"
           }
          ],
          "pie": [
           {
            "automargin": true,
            "type": "pie"
           }
          ],
          "scatter": [
           {
            "fillpattern": {
             "fillmode": "overlay",
             "size": 10,
             "solidity": 0.2
            },
            "type": "scatter"
           }
          ],
          "scatter3d": [
           {
            "line": {
             "colorbar": {
              "outlinewidth": 0,
              "ticks": ""
             }
            },
            "marker": {
             "colorbar": {
              "outlinewidth": 0,
              "ticks": ""
             }
            },
            "type": "scatter3d"
           }
          ],
          "scattercarpet": [
           {
            "marker": {
             "colorbar": {
              "outlinewidth": 0,
              "ticks": ""
             }
            },
            "type": "scattercarpet"
           }
          ],
          "scattergeo": [
           {
            "marker": {
             "colorbar": {
              "outlinewidth": 0,
              "ticks": ""
             }
            },
            "type": "scattergeo"
           }
          ],
          "scattergl": [
           {
            "marker": {
             "colorbar": {
              "outlinewidth": 0,
              "ticks": ""
             }
            },
            "type": "scattergl"
           }
          ],
          "scattermapbox": [
           {
            "marker": {
             "colorbar": {
              "outlinewidth": 0,
              "ticks": ""
             }
            },
            "type": "scattermapbox"
           }
          ],
          "scatterpolar": [
           {
            "marker": {
             "colorbar": {
              "outlinewidth": 0,
              "ticks": ""
             }
            },
            "type": "scatterpolar"
           }
          ],
          "scatterpolargl": [
           {
            "marker": {
             "colorbar": {
              "outlinewidth": 0,
              "ticks": ""
             }
            },
            "type": "scatterpolargl"
           }
          ],
          "scatterternary": [
           {
            "marker": {
             "colorbar": {
              "outlinewidth": 0,
              "ticks": ""
             }
            },
            "type": "scatterternary"
           }
          ],
          "surface": [
           {
            "colorbar": {
             "outlinewidth": 0,
             "ticks": ""
            },
            "colorscale": [
             [
              0,
              "#0d0887"
             ],
             [
              0.1111111111111111,
              "#46039f"
             ],
             [
              0.2222222222222222,
              "#7201a8"
             ],
             [
              0.3333333333333333,
              "#9c179e"
             ],
             [
              0.4444444444444444,
              "#bd3786"
             ],
             [
              0.5555555555555556,
              "#d8576b"
             ],
             [
              0.6666666666666666,
              "#ed7953"
             ],
             [
              0.7777777777777778,
              "#fb9f3a"
             ],
             [
              0.8888888888888888,
              "#fdca26"
             ],
             [
              1,
              "#f0f921"
             ]
            ],
            "type": "surface"
           }
          ],
          "table": [
           {
            "cells": {
             "fill": {
              "color": "#EBF0F8"
             },
             "line": {
              "color": "white"
             }
            },
            "header": {
             "fill": {
              "color": "#C8D4E3"
             },
             "line": {
              "color": "white"
             }
            },
            "type": "table"
           }
          ]
         },
         "layout": {
          "annotationdefaults": {
           "arrowcolor": "#2a3f5f",
           "arrowhead": 0,
           "arrowwidth": 1
          },
          "autotypenumbers": "strict",
          "coloraxis": {
           "colorbar": {
            "outlinewidth": 0,
            "ticks": ""
           }
          },
          "colorscale": {
           "diverging": [
            [
             0,
             "#8e0152"
            ],
            [
             0.1,
             "#c51b7d"
            ],
            [
             0.2,
             "#de77ae"
            ],
            [
             0.3,
             "#f1b6da"
            ],
            [
             0.4,
             "#fde0ef"
            ],
            [
             0.5,
             "#f7f7f7"
            ],
            [
             0.6,
             "#e6f5d0"
            ],
            [
             0.7,
             "#b8e186"
            ],
            [
             0.8,
             "#7fbc41"
            ],
            [
             0.9,
             "#4d9221"
            ],
            [
             1,
             "#276419"
            ]
           ],
           "sequential": [
            [
             0,
             "#0d0887"
            ],
            [
             0.1111111111111111,
             "#46039f"
            ],
            [
             0.2222222222222222,
             "#7201a8"
            ],
            [
             0.3333333333333333,
             "#9c179e"
            ],
            [
             0.4444444444444444,
             "#bd3786"
            ],
            [
             0.5555555555555556,
             "#d8576b"
            ],
            [
             0.6666666666666666,
             "#ed7953"
            ],
            [
             0.7777777777777778,
             "#fb9f3a"
            ],
            [
             0.8888888888888888,
             "#fdca26"
            ],
            [
             1,
             "#f0f921"
            ]
           ],
           "sequentialminus": [
            [
             0,
             "#0d0887"
            ],
            [
             0.1111111111111111,
             "#46039f"
            ],
            [
             0.2222222222222222,
             "#7201a8"
            ],
            [
             0.3333333333333333,
             "#9c179e"
            ],
            [
             0.4444444444444444,
             "#bd3786"
            ],
            [
             0.5555555555555556,
             "#d8576b"
            ],
            [
             0.6666666666666666,
             "#ed7953"
            ],
            [
             0.7777777777777778,
             "#fb9f3a"
            ],
            [
             0.8888888888888888,
             "#fdca26"
            ],
            [
             1,
             "#f0f921"
            ]
           ]
          },
          "colorway": [
           "#636efa",
           "#EF553B",
           "#00cc96",
           "#ab63fa",
           "#FFA15A",
           "#19d3f3",
           "#FF6692",
           "#B6E880",
           "#FF97FF",
           "#FECB52"
          ],
          "font": {
           "color": "#2a3f5f"
          },
          "geo": {
           "bgcolor": "white",
           "lakecolor": "white",
           "landcolor": "#E5ECF6",
           "showlakes": true,
           "showland": true,
           "subunitcolor": "white"
          },
          "hoverlabel": {
           "align": "left"
          },
          "hovermode": "closest",
          "mapbox": {
           "style": "light"
          },
          "paper_bgcolor": "white",
          "plot_bgcolor": "#E5ECF6",
          "polar": {
           "angularaxis": {
            "gridcolor": "white",
            "linecolor": "white",
            "ticks": ""
           },
           "bgcolor": "#E5ECF6",
           "radialaxis": {
            "gridcolor": "white",
            "linecolor": "white",
            "ticks": ""
           }
          },
          "scene": {
           "xaxis": {
            "backgroundcolor": "#E5ECF6",
            "gridcolor": "white",
            "gridwidth": 2,
            "linecolor": "white",
            "showbackground": true,
            "ticks": "",
            "zerolinecolor": "white"
           },
           "yaxis": {
            "backgroundcolor": "#E5ECF6",
            "gridcolor": "white",
            "gridwidth": 2,
            "linecolor": "white",
            "showbackground": true,
            "ticks": "",
            "zerolinecolor": "white"
           },
           "zaxis": {
            "backgroundcolor": "#E5ECF6",
            "gridcolor": "white",
            "gridwidth": 2,
            "linecolor": "white",
            "showbackground": true,
            "ticks": "",
            "zerolinecolor": "white"
           }
          },
          "shapedefaults": {
           "line": {
            "color": "#2a3f5f"
           }
          },
          "ternary": {
           "aaxis": {
            "gridcolor": "white",
            "linecolor": "white",
            "ticks": ""
           },
           "baxis": {
            "gridcolor": "white",
            "linecolor": "white",
            "ticks": ""
           },
           "bgcolor": "#E5ECF6",
           "caxis": {
            "gridcolor": "white",
            "linecolor": "white",
            "ticks": ""
           }
          },
          "title": {
           "x": 0.05
          },
          "xaxis": {
           "automargin": true,
           "gridcolor": "white",
           "linecolor": "white",
           "ticks": "",
           "title": {
            "standoff": 15
           },
           "zerolinecolor": "white",
           "zerolinewidth": 2
          },
          "yaxis": {
           "automargin": true,
           "gridcolor": "white",
           "linecolor": "white",
           "ticks": "",
           "title": {
            "standoff": 15
           },
           "zerolinecolor": "white",
           "zerolinewidth": 2
          }
         }
        },
        "width": 1000,
        "xaxis": {
         "showgrid": false,
         "showline": false,
         "showticklabels": false,
         "zeroline": false
        },
        "yaxis": {
         "showgrid": false,
         "showline": false,
         "showticklabels": false,
         "zeroline": false
        }
       }
      }
     },
     "metadata": {},
     "output_type": "display_data"
    }
   ],
   "source": [
    "show_tree(nodes1[-1]).show_fig()\n"
   ]
  },
  {
   "cell_type": "code",
   "execution_count": null,
   "metadata": {},
   "outputs": [],
   "source": []
  }
 ],
 "metadata": {
  "kernelspec": {
   "display_name": "base",
   "language": "python",
   "name": "python3"
  },
  "language_info": {
   "codemirror_mode": {
    "name": "ipython",
    "version": 3
   },
   "file_extension": ".py",
   "mimetype": "text/x-python",
   "name": "python",
   "nbconvert_exporter": "python",
   "pygments_lexer": "ipython3",
   "version": "3.8.16"
  },
  "orig_nbformat": 4
 },
 "nbformat": 4,
 "nbformat_minor": 2
}
