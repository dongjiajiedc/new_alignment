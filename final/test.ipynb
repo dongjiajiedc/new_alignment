{
 "cells": [
  {
   "cell_type": "code",
   "execution_count": 10,
   "metadata": {},
   "outputs": [],
   "source": [
    "from hyper import *\n",
    "from alignment import *\n",
    "from datasets.preprecossing import *\n",
    "from core import *\n",
    "from datasets.loading import *\n",
    "from datasets.hc_dataset import *\n",
    "from datasets.balance_dataset import *\n",
    "from utils.linkage import *\n",
    "from model.balancehc import balancehc\n",
    "\n",
    "from utils.poincare import *\n"
   ]
  },
  {
   "cell_type": "code",
   "execution_count": 11,
   "metadata": {},
   "outputs": [],
   "source": [
    "cell_path1 = './datas/23/2/BRCA_GSE110686.h5ad'\n",
    "folder_path1 = './datas/23/2/'\n",
    "radius1 = 0\n",
    "c1 =0\n",
    "epoches1 =20\n",
    "cell_path2 = \"./datas/23/3/CRC_GSE146771.h5ad\" \n",
    "folder_path2 = \"./datas/23/3/\" \n",
    "radius2 = 0\n",
    "c2 =0\n",
    "epoches2 = 20\n",
    "contin = False\n",
    "resolution=1\n",
    "method='average'\n",
    "alignment=1\n",
    "n_pca=50\n",
    "meta_col = 'Celltype..major.lineage.'\n",
    "mst = True\n"
   ]
  },
  {
   "cell_type": "code",
   "execution_count": 3,
   "metadata": {},
   "outputs": [
    {
     "ename": "NameError",
     "evalue": "name 'tmp1' is not defined",
     "output_type": "error",
     "traceback": [
      "\u001b[0;31m---------------------------------------------------------------------------\u001b[0m",
      "\u001b[0;31mNameError\u001b[0m                                 Traceback (most recent call last)",
      "Cell \u001b[0;32mIn[3], line 1\u001b[0m\n\u001b[0;32m----> 1\u001b[0m get_Hyper_tree(folder_path1\u001b[38;5;241m+\u001b[39m\u001b[38;5;124m'\u001b[39m\u001b[38;5;124mdatas.data\u001b[39m\u001b[38;5;124m'\u001b[39m,\u001b[38;5;241m1\u001b[39m,\u001b[43mtmp1\u001b[49m\u001b[38;5;241m.\u001b[39mshape[\u001b[38;5;241m1\u001b[39m]\u001b[38;5;241m+\u001b[39m\u001b[38;5;241m1\u001b[39m,\u001b[38;5;241m0\u001b[39m,epoches1,epoches1,save_path\u001b[38;5;241m=\u001b[39mfolder_path1,mst\u001b[38;5;241m=\u001b[39mmst)\n",
      "\u001b[0;31mNameError\u001b[0m: name 'tmp1' is not defined"
     ]
    }
   ],
   "source": [
    "    get_Hyper_tree(folder_path1+'datas.data',1,tmp1.shape[1]+1,0,epoches1,epoches1,save_path=folder_path1,mst=mst)\n"
   ]
  },
  {
   "cell_type": "code",
   "execution_count": 13,
   "metadata": {},
   "outputs": [
    {
     "name": "stdout",
     "output_type": "stream",
     "text": [
      "./datas/23/2/datas.data length:10\n",
      "Generating all pairs superset\n",
      "\t Epoch 0 | average train loss: 0.966356\n",
      "Optimization finished.\n",
      "\t Epoch 1 | average train loss: 0.941207\n",
      "Optimization finished.\n",
      "\t Epoch 2 | average train loss: 0.941279\n",
      "Optimization finished.\n",
      "\t Epoch 3 | average train loss: 0.940414\n",
      "Optimization finished.\n",
      "\t Epoch 4 | average train loss: 0.940350\n",
      "Optimization finished.\n",
      "\t Epoch 5 | average train loss: 0.940468\n",
      "Optimization finished.\n",
      "\t Epoch 6 | average train loss: 0.941214\n",
      "Optimization finished.\n",
      "\t Epoch 7 | average train loss: 0.940824\n",
      "Optimization finished.\n",
      "\t Epoch 8 | average train loss: 0.940168\n",
      "Optimization finished.\n",
      "\t Epoch 9 | average train loss: 0.939446\n",
      "Optimization finished.\n",
      "\t Epoch 10 | average train loss: 0.939698\n",
      "Optimization finished.\n",
      "\t Epoch 11 | average train loss: 0.938994\n",
      "Optimization finished.\n",
      "\t Epoch 12 | average train loss: 0.940198\n",
      "Optimization finished.\n",
      "\t Epoch 13 | average train loss: 0.940589\n",
      "Optimization finished.\n",
      "\t Epoch 14 | average train loss: 0.939682\n",
      "Optimization finished.\n",
      "\t Epoch 15 | average train loss: 0.939953\n",
      "Optimization finished.\n",
      "\t Epoch 16 | average train loss: 0.941084\n",
      "Optimization finished.\n",
      "\t Epoch 17 | average train loss: 0.940519\n",
      "Optimization finished.\n",
      "\t Epoch 18 | average train loss: 0.940264\n",
      "Optimization finished.\n",
      "\t Epoch 19 | average train loss: 0.939095\n",
      "Optimization finished.\n"
     ]
    }
   ],
   "source": [
    "np.random.seed(1234)\n",
    "torch.manual_seed(1234)\n",
    "x, y_true, similarities = load_data(folder_path1+'datas.data',1,51,0)\n",
    "print(\"{} length:{}\".format(folder_path1+'datas.data',len(y_true)));\n",
    "dataset = HCDataset(x, y_true, similarities, num_samples=50000)\n",
    "dataloader = data.DataLoader(dataset, batch_size=32, shuffle=True, pin_memory=True)\n",
    "model = HypHC(dataset.n_nodes, 2, 5e-2, 5e-2 ,0.999)\n",
    "\n",
    "if(None==None or os.path.exists('model_path')==False):\n",
    "    model.to(\"cpu\")\n",
    "    Optimizer = getattr(optim, 'RAdam')\n",
    "    optimizer = Optimizer(model.parameters(),0.0005)\n",
    "    train(model,dataloader,optimizer,similarities,epoches1);\n",
    "    # torch.save(model.state_dict(),save_path+'model.pth');\n",
    "else:\n",
    "    # params = torch.load((model_path), map_location=torch.device('cpu'))\n",
    "    model.load_state_dict(params, strict=False)\n",
    "\n",
    "model.eval()\n",
    "\n",
    "sim_fn = lambda x, y: torch.sum(x * y, dim=-1)\n",
    "n=len(x);\n",
    "leaves_embeddings = model.normalize_embeddings(model.embeddings.weight.data)\n",
    "leaves_embeddings = project(leaves_embeddings).detach().cpu()\n",
    "ijs = sl_np_mst_ij(leaves_embeddings,sim_fn)\n",
    "uf = UnionFind(n)\n",
    "uf.merge(ijs)\n",
    "\n",
    "tree = nx.DiGraph()\n",
    "for i, j in enumerate(uf.tree()[:-1]):\n",
    "    if(j!=-1):\n",
    "        tree.add_edge(j, i)\n",
    "\n",
    "# fig = plt.figure(figsize=(15, 15))\n",
    "# ax = fig.add_subplot(111)\n",
    "# circle = plt.Circle((0, 0), 20.0, color='r', alpha=0.1)\n",
    "# ax.add_artist(circle)\n",
    "\n",
    "n = len(leaves_embeddings)\n",
    "embeddings = complete_tree(tree, leaves_embeddings)"
   ]
  },
  {
   "cell_type": "code",
   "execution_count": 15,
   "metadata": {},
   "outputs": [],
   "source": [
    "nodes1 = [node(name=str(i),son=[]) for i in range(len(uf.tree()))]\n",
    "for i in range(n):\n",
    "    nodes1[i].subson=[i];\n",
    "for i,j in enumerate(uf.tree()):\n",
    "    if(j!=-1):\n",
    "        nodes1[j].son.append(nodes1[i])\n",
    "    nodes1[i].value=torch.tensor(embeddings[i]);\n",
    "    nodes1[j].subson.extend(nodes1[i].subson)\n",
    "root = nodes1[-1];\n",
    "\n",
    "values = [];\n",
    "fathers = [];\n",
    "xys = [];\n",
    "search_merge_tree(root,-1,0,values,fathers,xys)"
   ]
  },
  {
   "cell_type": "code",
   "execution_count": 20,
   "metadata": {},
   "outputs": [
    {
     "data": {
      "text/plain": [
       "18"
      ]
     },
     "execution_count": 20,
     "metadata": {},
     "output_type": "execute_result"
    }
   ],
   "source": [
    "root"
   ]
  },
  {
   "cell_type": "code",
   "execution_count": 21,
   "metadata": {},
   "outputs": [],
   "source": [
    "deep_search_tree(root,0,[],root)\n",
    "result = []\n",
    "distances = []\n",
    "for index in range(n,len(nodes1)):\n",
    "    i = nodes1[index]\n",
    "    if(len(i.subson)==2):\n",
    "        for j in i.rest(n):\n",
    "            result.append([i.subson,j,int(i),1,int(j)])\n",
    "            \n",
    "for index in range(n,len(nodes1)-1):\n",
    "    i = nodes1[index]\n",
    "    for i1 in range(len(i.subson)):\n",
    "        for i2 in range(i1+1,len(i.subson)):\n",
    "            for j in i.rest(n):\n",
    "                result.append([[i.subson[i1],i.subson[i2]],j,int(i),0,int(i.f)])\n",
    "        \n",
    "for i in nodes1:\n",
    "    distances.append(i.distance_to_root);"
   ]
  },
  {
   "cell_type": "code",
   "execution_count": 31,
   "metadata": {},
   "outputs": [
    {
     "data": {
      "text/plain": [
       "[[0, 6], 1, 10, 1, 1]"
      ]
     },
     "execution_count": 31,
     "metadata": {},
     "output_type": "execute_result"
    }
   ],
   "source": [
    "result[0]"
   ]
  },
  {
   "cell_type": "code",
   "execution_count": null,
   "metadata": {},
   "outputs": [],
   "source": [
    "python run_sc.py -cp1 './datas/120/3/sample1_small.h5' -f1 \"./datas/120/3/\" -r1 25 -c1 0.1 -e1 10 -cp2 './datas/120/4/sample1_small.h5' -f2 \"./datas/120/4/\" -r2 25 -c2 0.1 -e2 10 --contin False --alignment 1 --resolution 1 --n_pca 500\n"
   ]
  },
  {
   "cell_type": "code",
   "execution_count": 4,
   "metadata": {},
   "outputs": [
    {
     "name": "stdout",
     "output_type": "stream",
     "text": [
      "dataset1 find files and skip merging\n"
     ]
    },
    {
     "name": "stderr",
     "output_type": "stream",
     "text": [
      "/var/folders/bm/69jvgsdj3rxch558kx9yp9y00000gn/T/ipykernel_96918/2407986756.py:12: FutureWarning: X.dtype being converted to np.float32 from float64. In the next version of anndata (0.9) conversion will not be automatic. Pass dtype explicitly to avoid this warning. Pass `AnnData(X, dtype=X.dtype, ...)` to get the future behavour.\n",
      "  adata1 = anndata.AnnData(adata1)\n",
      "/Users/dongjiajie/opt/anaconda3/lib/python3.8/site-packages/anndata/_core/anndata.py:121: ImplicitModificationWarning: Transforming to str index.\n",
      "  warnings.warn(\"Transforming to str index.\", ImplicitModificationWarning)\n"
     ]
    },
    {
     "name": "stdout",
     "output_type": "stream",
     "text": [
      "dataset2 find files and skip merging\n"
     ]
    },
    {
     "name": "stderr",
     "output_type": "stream",
     "text": [
      "/var/folders/bm/69jvgsdj3rxch558kx9yp9y00000gn/T/ipykernel_96918/2407986756.py:26: FutureWarning: X.dtype being converted to np.float32 from float64. In the next version of anndata (0.9) conversion will not be automatic. Pass dtype explicitly to avoid this warning. Pass `AnnData(X, dtype=X.dtype, ...)` to get the future behavour.\n",
      "  adata2 = anndata.AnnData(adata2)\n",
      "/Users/dongjiajie/opt/anaconda3/lib/python3.8/site-packages/anndata/_core/anndata.py:121: ImplicitModificationWarning: Transforming to str index.\n",
      "  warnings.warn(\"Transforming to str index.\", ImplicitModificationWarning)\n"
     ]
    },
    {
     "name": "stdout",
     "output_type": "stream",
     "text": [
      "100 2163\n"
     ]
    },
    {
     "name": "stderr",
     "output_type": "stream",
     "text": [
      "2024-03-03 23:25:44.350787: I tensorflow/core/platform/cpu_feature_guard.cc:182] This TensorFlow binary is optimized to use available CPU instructions in performance-critical operations.\n",
      "To enable the following instructions: AVX2 AVX512F AVX512_VNNI FMA, in other operations, rebuild TensorFlow with the appropriate compiler flags.\n"
     ]
    },
    {
     "name": "stdout",
     "output_type": "stream",
     "text": [
      "100 2024\n"
     ]
    },
    {
     "name": "stderr",
     "output_type": "stream",
     "text": [
      "/Users/dongjiajie/opt/anaconda3/lib/python3.8/site-packages/scanpy/preprocessing/_highly_variable_genes.py:62: UserWarning: `flavor='seurat_v3'` expects raw count data, but non-integers were found.\n",
      "  warnings.warn(\n",
      "/Users/dongjiajie/opt/anaconda3/lib/python3.8/site-packages/scanpy/preprocessing/_highly_variable_genes.py:62: UserWarning: `flavor='seurat_v3'` expects raw count data, but non-integers were found.\n",
      "  warnings.warn(\n"
     ]
    },
    {
     "name": "stdout",
     "output_type": "stream",
     "text": [
      "1105 genes are used to calculate cost of tree alignment.\n",
      "\n",
      "ARI score for adata1:  0.35161095995020375\n",
      "ARI score for adata2:  0.42728188566778075\n",
      "./datas/120/3/datas.data length:5\n",
      "Generating all pairs superset\n",
      "\t Epoch 0 | average train loss: 0.900289\n",
      "Optimization finished.\n",
      "\t Epoch 1 | average train loss: 0.895928\n",
      "Optimization finished.\n",
      "\t Epoch 2 | average train loss: 0.895030\n",
      "Optimization finished.\n",
      "\t Epoch 3 | average train loss: 0.896863\n",
      "Optimization finished.\n",
      "\t Epoch 4 | average train loss: 0.897756\n",
      "Optimization finished.\n"
     ]
    },
    {
     "name": "stderr",
     "output_type": "stream",
     "text": [
      "/Users/dongjiajie/Desktop/alignment/fyp/hyperalignment/final/datasets/balance_dataset.py:54: VisibleDeprecationWarning: Creating an ndarray from ragged nested sequences (which is a list-or-tuple of lists-or-tuples-or ndarrays with different lengths or shapes) is deprecated. If you meant to do this, you must specify 'dtype=object' when creating the ndarray.\n",
      "  temp = np.array(temp)\n",
      "/Users/dongjiajie/Desktop/alignment/fyp/hyperalignment/final/hyper.py:346: UserWarning: To copy construct from a tensor, it is recommended to use sourceTensor.clone().detach() or sourceTensor.clone().detach().requires_grad_(True), rather than torch.tensor(sourceTensor).\n",
      "  model2 = balancehc(nodes1,torch.tensor(embeddings),hyperparamter = 1)\n",
      "/Users/dongjiajie/Desktop/alignment/fyp/hyperalignment/final/model/balancehc.py:22: UserWarning: To copy construct from a tensor, it is recommended to use sourceTensor.clone().detach() or sourceTensor.clone().detach().requires_grad_(True), rather than torch.tensor(sourceTensor).\n",
      "  self.embeddings.weight.data = torch.tensor(embeddings);\n"
     ]
    },
    {
     "name": "stdout",
     "output_type": "stream",
     "text": [
      "\t Epoch 0 | average train loss: 0.366166\n"
     ]
    },
    {
     "name": "stderr",
     "output_type": "stream",
     "text": [
      "/Users/dongjiajie/Desktop/alignment/fyp/hyperalignment/final/model/balancehc.py:46: UserWarning: To copy construct from a tensor, it is recommended to use sourceTensor.clone().detach() or sourceTensor.clone().detach().requires_grad_(True), rather than torch.tensor(sourceTensor).\n",
      "  origin_distance = hyp_dist(torch.tensor(self.original[i]),torch.tensor(self.original[j]));\n",
      "/Users/dongjiajie/Desktop/alignment/fyp/hyperalignment/final/model/balancehc.py:71: UserWarning: To copy construct from a tensor, it is recommended to use sourceTensor.clone().detach() or sourceTensor.clone().detach().requires_grad_(True), rather than torch.tensor(sourceTensor).\n",
      "  origin_distance = hyp_dist(torch.tensor(self.original[int(nodef.son[0])]),torch.tensor(self.original[k])) + hyp_dist(torch.tensor(self.original[int(nodef.son[1])]),torch.tensor(self.original[k]));\n",
      "/Users/dongjiajie/Desktop/alignment/fyp/hyperalignment/final/model/balancehc.py:92: UserWarning: To copy construct from a tensor, it is recommended to use sourceTensor.clone().detach() or sourceTensor.clone().detach().requires_grad_(True), rather than torch.tensor(sourceTensor).\n",
      "  total = torch.sum(sims, dim=-1, keepdim=True) - w_ord + self.hyperparamter*torch.abs(origin_distance - hyp_dist(torch.tensor(self.original[int(nodef.son[0])]),e3) - hyp_dist(torch.tensor(self.original[int(nodef.son[1])]),e3));\n"
     ]
    },
    {
     "name": "stdout",
     "output_type": "stream",
     "text": [
      "\t Epoch 1 | average train loss: 0.366592\n",
      "\t Epoch 2 | average train loss: 0.367283\n",
      "\t Epoch 3 | average train loss: 0.366894\n",
      "\t Epoch 4 | average train loss: 0.363955\n",
      "./datas/120/4/datas.data length:3\n",
      "Generating all pairs superset\n",
      "\t Epoch 0 | average train loss: 0.745610\n",
      "Optimization finished.\n",
      "\t Epoch 1 | average train loss: 0.702685\n",
      "Optimization finished.\n",
      "\t Epoch 2 | average train loss: 0.713906\n",
      "Optimization finished.\n",
      "\t Epoch 3 | average train loss: 0.687782\n",
      "Optimization finished.\n",
      "\t Epoch 4 | average train loss: 0.691657\n",
      "Optimization finished.\n",
      "\t Epoch 0 | average train loss: 0.188568\n",
      "\t Epoch 1 | average train loss: 0.176657\n",
      "\t Epoch 2 | average train loss: 0.185171\n",
      "\t Epoch 3 | average train loss: 0.179024\n",
      "\t Epoch 4 | average train loss: 0.184698\n",
      "The mininum cost for alignment is 4.211409806398651\n",
      "The alignment edges list is [('8', '4'), ('6', '3'), ('2_CD8T', '1_CD8T'), ('0_CD8T', '0_CD8T'), ('1_CD4Tconv', '2_CD4Tconv')]\n",
      "average cost for one node:0.3008149861713322\n",
      "\n",
      "correct alignment rate:1.0\n"
     ]
    },
    {
     "data": {
      "text/plain": [
       "1.0"
      ]
     },
     "execution_count": 4,
     "metadata": {},
     "output_type": "execute_result"
    }
   ],
   "source": [
    "if (contin==False) or ((os.path.exists(folder_path1+'merge_cell_data.csv') and os.path.exists(folder_path1 + 'merge_cell_meta.csv')) == False):\n",
    "    loss1 = merge_by_radius(cell_path1,folder_path1,radius1,method,meta_col)\n",
    "    print(\"cell meta score for dataset1: {}\\n\".format(loss1))\n",
    "else:\n",
    "    print(\"dataset1 find files and skip merging\")\n",
    "\n",
    "\n",
    "adata1 = sc.read_h5ad(folder_path1+ 'adata.h5ad')\n",
    "\n",
    "if(contin==False) or ((os.path.exists(folder_path2+'merge_cell_data.csv') and os.path.exists(folder_path2 + 'merge_cell_meta.csv')) == False):\n",
    "    loss2 = merge_by_radius(cell_path2,folder_path2,radius2,method,meta_col)\n",
    "    print(\"cell meta score for dataset2: {}\".format(loss2))\n",
    "else:\n",
    "    print(\"dataset2 find files and skip merging\")\n",
    "\n",
    "adata2 = sc.read_h5ad(folder_path2+ 'adata.h5ad')\n",
    "\n",
    "\n",
    "preprocessing_cluster(adata1,N_pcs=n_pca,resolution=resolution)\n",
    "preprocessing_cluster(adata2,N_pcs=n_pca,resolution=resolution)\n",
    "\n",
    "inter_gene = sort_data(adata1,adata2)\n",
    "\n",
    "tmp1 = calculate_cluster_centroid_for_genes(adata1,inter_gene,folder_path1) \n",
    "tmp2 = calculate_cluster_centroid_for_genes(adata2,inter_gene,folder_path2)\n",
    "\n",
    "\n",
    "meta_list1 = calculate_cluster_celltype(adata1);\n",
    "meta_list2 = calculate_cluster_celltype(adata2);\n",
    "calculate_meta_ori(folder_path1,adata1);\n",
    "calculate_meta_ori(folder_path2,adata2);\n",
    "\n",
    "if(contin==False) or ((os.path.exists(folder_path1 + 'dataxy.npy') and os.path.exists(folder_path1+'data1link.npy') and os.path.exists(folder_path1+'dataname.npy')) == False):\n",
    "    get_Hyper_tree(folder_path1+'datas.data',1,tmp1.shape[1]+1,0,epoches1,epoches1,save_path=folder_path1,mst=mst)\n",
    "else:\n",
    "    print(\"dataset1 find files and skip embedding\");\n",
    "\n",
    "if(contin==False) or ((os.path.exists(folder_path2 + 'dataxy.npy') and os.path.exists(folder_path2+'data1link.npy') and os.path.exists(folder_path1+'dataname.npy')) == False):\n",
    "    get_Hyper_tree(folder_path2+'datas.data',1,tmp2.shape[1]+1,0,epoches2,epoches2,save_path=folder_path2,mst=mst)\n",
    "else:\n",
    "    print(\"dataset2 find files and skip embedding\")\n",
    "\n",
    "    \n",
    "nodes1 = build_hyper_tree_from_folder(folder_path1,mst)\n",
    "nodes2 = build_hyper_tree_from_folder(folder_path2,mst)\n",
    "\n",
    "merge_list1 = [];\n",
    "merge_list2 = [];\n",
    "nodes1[0] = search_tree(nodes1[0],c1,merge_list1)\n",
    "nodes2[0] = search_tree(nodes2[0],c2,merge_list2)\n",
    "\n",
    "for i in range(len(nodes1)):\n",
    "    if(int(nodes1[i].name)<len(meta_list1)):\n",
    "        nodes1[i].name= nodes1[i].name +'_'+ meta_list1[int(nodes1[i].name)];\n",
    "        \n",
    "for i in range(len(nodes2)):\n",
    "    if(int(nodes2[i].name)<len(meta_list2)):\n",
    "        nodes2[i].name= nodes2[i].name +'_'+ meta_list2[int(nodes2[i].name)];  \n",
    "        \n",
    "rate = 0;        \n",
    "if(alignment==1):\n",
    "    rate,anslist,ans = run_alignment(nodes1,nodes2,folder_path1,folder_path2,meta_list1,meta_list2);\n",
    "elif(alignment==2):\n",
    "    rate = run_alignment_linear(nodes1,nodes2);"
   ]
  },
  {
   "cell_type": "code",
   "execution_count": 7,
   "metadata": {},
   "outputs": [
    {
     "data": {
      "text/plain": [
       "AnnData object with n_obs × n_vars = 5000 × 16701\n",
       "    obs: 'orig.ident', 'nCount_RNA', 'nFeature_RNA', 'UMAP_1', 'UMAP_2', 'Cluster', 'Celltype..malignancy.', 'Celltype..major.lineage.', 'Celltype..minor.lineage.', 'Patient', 'Sample', 'Tissue', 'celltype'\n",
       "    var: 'features'"
      ]
     },
     "execution_count": 7,
     "metadata": {},
     "output_type": "execute_result"
    }
   ],
   "source": [
    "ori1 = sc.read_h5ad(cell_path1)\n",
    "ori1"
   ]
  },
  {
   "cell_type": "code",
   "execution_count": 8,
   "metadata": {},
   "outputs": [
    {
     "data": {
      "text/plain": [
       "AnnData object with n_obs × n_vars = 5000 × 16701\n",
       "    obs: 'orig.ident', 'nCount_RNA', 'nFeature_RNA', 'UMAP_1', 'UMAP_2', 'Cluster', 'Celltype..malignancy.', 'Celltype..major.lineage.', 'Celltype..minor.lineage.', 'Patient', 'Sample', 'Tissue', 'celltype'\n",
       "    var: 'features'"
      ]
     },
     "execution_count": 8,
     "metadata": {},
     "output_type": "execute_result"
    }
   ],
   "source": [
    "ori2 = sc.read_h5ad(cell_path2)\n",
    "ori2"
   ]
  },
  {
   "cell_type": "code",
   "execution_count": 10,
   "metadata": {},
   "outputs": [
    {
     "data": {
      "text/html": [
       "<div>\n",
       "<style scoped>\n",
       "    .dataframe tbody tr th:only-of-type {\n",
       "        vertical-align: middle;\n",
       "    }\n",
       "\n",
       "    .dataframe tbody tr th {\n",
       "        vertical-align: top;\n",
       "    }\n",
       "\n",
       "    .dataframe thead th {\n",
       "        text-align: right;\n",
       "    }\n",
       "</style>\n",
       "<table border=\"1\" class=\"dataframe\">\n",
       "  <thead>\n",
       "    <tr style=\"text-align: right;\">\n",
       "      <th></th>\n",
       "      <th>orig.ident</th>\n",
       "      <th>nCount_RNA</th>\n",
       "      <th>nFeature_RNA</th>\n",
       "      <th>UMAP_1</th>\n",
       "      <th>UMAP_2</th>\n",
       "      <th>Cluster</th>\n",
       "      <th>Celltype..malignancy.</th>\n",
       "      <th>Celltype..major.lineage.</th>\n",
       "      <th>Celltype..minor.lineage.</th>\n",
       "      <th>Patient</th>\n",
       "      <th>Sample</th>\n",
       "      <th>Tissue</th>\n",
       "      <th>celltype</th>\n",
       "    </tr>\n",
       "  </thead>\n",
       "  <tbody>\n",
       "    <tr>\n",
       "      <th>Tcells_PP@TTCTACAGTCACTTCC</th>\n",
       "      <td>1</td>\n",
       "      <td>2641.725803</td>\n",
       "      <td>1555</td>\n",
       "      <td>-5.280918</td>\n",
       "      <td>5.104487</td>\n",
       "      <td>8</td>\n",
       "      <td>Immune cells</td>\n",
       "      <td>CD8T</td>\n",
       "      <td>CD8Teff</td>\n",
       "      <td>Tcells_PP</td>\n",
       "      <td>Tcells_PP</td>\n",
       "      <td>Tumor</td>\n",
       "      <td>CD8T</td>\n",
       "    </tr>\n",
       "    <tr>\n",
       "      <th>CART_RP@AAATGCCGTTTGCATG</th>\n",
       "      <td>0</td>\n",
       "      <td>2162.938686</td>\n",
       "      <td>1179</td>\n",
       "      <td>2.772011</td>\n",
       "      <td>-6.456879</td>\n",
       "      <td>1</td>\n",
       "      <td>Immune cells</td>\n",
       "      <td>CD8T</td>\n",
       "      <td>CD8Teff</td>\n",
       "      <td>CART_RP</td>\n",
       "      <td>CART_RP</td>\n",
       "      <td>Tumor</td>\n",
       "      <td>CD8T</td>\n",
       "    </tr>\n",
       "    <tr>\n",
       "      <th>Tcells_RP@AACACGTCACCGCTAG</th>\n",
       "      <td>1</td>\n",
       "      <td>1715.759559</td>\n",
       "      <td>795</td>\n",
       "      <td>1.092078</td>\n",
       "      <td>-3.652448</td>\n",
       "      <td>6</td>\n",
       "      <td>Immune cells</td>\n",
       "      <td>CD8T</td>\n",
       "      <td>CD8Teff</td>\n",
       "      <td>Tcells_RP</td>\n",
       "      <td>Tcells_RP</td>\n",
       "      <td>Tumor</td>\n",
       "      <td>CD8T</td>\n",
       "    </tr>\n",
       "    <tr>\n",
       "      <th>CART_RP@CTGTTTAGTAAGAGAG</th>\n",
       "      <td>0</td>\n",
       "      <td>1809.857327</td>\n",
       "      <td>916</td>\n",
       "      <td>0.734953</td>\n",
       "      <td>-6.490685</td>\n",
       "      <td>1</td>\n",
       "      <td>Immune cells</td>\n",
       "      <td>CD8T</td>\n",
       "      <td>CD8Teff</td>\n",
       "      <td>CART_RP</td>\n",
       "      <td>CART_RP</td>\n",
       "      <td>Tumor</td>\n",
       "      <td>CD8T</td>\n",
       "    </tr>\n",
       "    <tr>\n",
       "      <th>CART_PP@GACAGAGTCCGAATGT</th>\n",
       "      <td>0</td>\n",
       "      <td>3195.854236</td>\n",
       "      <td>3425</td>\n",
       "      <td>-3.039640</td>\n",
       "      <td>10.285129</td>\n",
       "      <td>15</td>\n",
       "      <td>Immune cells</td>\n",
       "      <td>CD8T</td>\n",
       "      <td>CD8Teff</td>\n",
       "      <td>CART_PP</td>\n",
       "      <td>CART_PP</td>\n",
       "      <td>Tumor</td>\n",
       "      <td>CD8T</td>\n",
       "    </tr>\n",
       "    <tr>\n",
       "      <th>...</th>\n",
       "      <td>...</td>\n",
       "      <td>...</td>\n",
       "      <td>...</td>\n",
       "      <td>...</td>\n",
       "      <td>...</td>\n",
       "      <td>...</td>\n",
       "      <td>...</td>\n",
       "      <td>...</td>\n",
       "      <td>...</td>\n",
       "      <td>...</td>\n",
       "      <td>...</td>\n",
       "      <td>...</td>\n",
       "      <td>...</td>\n",
       "    </tr>\n",
       "    <tr>\n",
       "      <th>CART_PP@ATGAGGGAGTTCGCAT</th>\n",
       "      <td>0</td>\n",
       "      <td>2469.901828</td>\n",
       "      <td>1489</td>\n",
       "      <td>-5.185951</td>\n",
       "      <td>5.364392</td>\n",
       "      <td>8</td>\n",
       "      <td>Immune cells</td>\n",
       "      <td>CD8T</td>\n",
       "      <td>CD8Teff</td>\n",
       "      <td>CART_PP</td>\n",
       "      <td>CART_PP</td>\n",
       "      <td>Tumor</td>\n",
       "      <td>CD8T</td>\n",
       "    </tr>\n",
       "    <tr>\n",
       "      <th>Tcells_RP@GAGTCCGAGGATGCGT</th>\n",
       "      <td>1</td>\n",
       "      <td>1727.467654</td>\n",
       "      <td>870</td>\n",
       "      <td>-3.970054</td>\n",
       "      <td>-5.204175</td>\n",
       "      <td>3</td>\n",
       "      <td>Immune cells</td>\n",
       "      <td>CD4Tconv</td>\n",
       "      <td>Th17</td>\n",
       "      <td>Tcells_RP</td>\n",
       "      <td>Tcells_RP</td>\n",
       "      <td>Tumor</td>\n",
       "      <td>CD4Tconv</td>\n",
       "    </tr>\n",
       "    <tr>\n",
       "      <th>Tcells_RP@CCCAGTTAGCCCTAAT</th>\n",
       "      <td>1</td>\n",
       "      <td>1842.613875</td>\n",
       "      <td>901</td>\n",
       "      <td>1.804658</td>\n",
       "      <td>-5.202508</td>\n",
       "      <td>0</td>\n",
       "      <td>Immune cells</td>\n",
       "      <td>CD8T</td>\n",
       "      <td>CD8Teff</td>\n",
       "      <td>Tcells_RP</td>\n",
       "      <td>Tcells_RP</td>\n",
       "      <td>Tumor</td>\n",
       "      <td>CD8T</td>\n",
       "    </tr>\n",
       "    <tr>\n",
       "      <th>Tcells_PP@GATGAAAGTCAGCTAT</th>\n",
       "      <td>1</td>\n",
       "      <td>2547.830697</td>\n",
       "      <td>1687</td>\n",
       "      <td>-2.821990</td>\n",
       "      <td>2.794468</td>\n",
       "      <td>9</td>\n",
       "      <td>Immune cells</td>\n",
       "      <td>CD8Tex</td>\n",
       "      <td>CD8Tex</td>\n",
       "      <td>Tcells_PP</td>\n",
       "      <td>Tcells_PP</td>\n",
       "      <td>Tumor</td>\n",
       "      <td>CD8Tex</td>\n",
       "    </tr>\n",
       "    <tr>\n",
       "      <th>CART_PP@GACTGCGAGCGAGAAA</th>\n",
       "      <td>0</td>\n",
       "      <td>2849.422890</td>\n",
       "      <td>2297</td>\n",
       "      <td>-3.220832</td>\n",
       "      <td>9.152536</td>\n",
       "      <td>7</td>\n",
       "      <td>Immune cells</td>\n",
       "      <td>CD8T</td>\n",
       "      <td>CD8Teff</td>\n",
       "      <td>CART_PP</td>\n",
       "      <td>CART_PP</td>\n",
       "      <td>Tumor</td>\n",
       "      <td>CD8T</td>\n",
       "    </tr>\n",
       "  </tbody>\n",
       "</table>\n",
       "<p>5000 rows × 13 columns</p>\n",
       "</div>"
      ],
      "text/plain": [
       "                            orig.ident   nCount_RNA  nFeature_RNA    UMAP_1  \\\n",
       "Tcells_PP@TTCTACAGTCACTTCC           1  2641.725803          1555 -5.280918   \n",
       "CART_RP@AAATGCCGTTTGCATG             0  2162.938686          1179  2.772011   \n",
       "Tcells_RP@AACACGTCACCGCTAG           1  1715.759559           795  1.092078   \n",
       "CART_RP@CTGTTTAGTAAGAGAG             0  1809.857327           916  0.734953   \n",
       "CART_PP@GACAGAGTCCGAATGT             0  3195.854236          3425 -3.039640   \n",
       "...                                ...          ...           ...       ...   \n",
       "CART_PP@ATGAGGGAGTTCGCAT             0  2469.901828          1489 -5.185951   \n",
       "Tcells_RP@GAGTCCGAGGATGCGT           1  1727.467654           870 -3.970054   \n",
       "Tcells_RP@CCCAGTTAGCCCTAAT           1  1842.613875           901  1.804658   \n",
       "Tcells_PP@GATGAAAGTCAGCTAT           1  2547.830697          1687 -2.821990   \n",
       "CART_PP@GACTGCGAGCGAGAAA             0  2849.422890          2297 -3.220832   \n",
       "\n",
       "                               UMAP_2  Cluster Celltype..malignancy.  \\\n",
       "Tcells_PP@TTCTACAGTCACTTCC   5.104487        8          Immune cells   \n",
       "CART_RP@AAATGCCGTTTGCATG    -6.456879        1          Immune cells   \n",
       "Tcells_RP@AACACGTCACCGCTAG  -3.652448        6          Immune cells   \n",
       "CART_RP@CTGTTTAGTAAGAGAG    -6.490685        1          Immune cells   \n",
       "CART_PP@GACAGAGTCCGAATGT    10.285129       15          Immune cells   \n",
       "...                               ...      ...                   ...   \n",
       "CART_PP@ATGAGGGAGTTCGCAT     5.364392        8          Immune cells   \n",
       "Tcells_RP@GAGTCCGAGGATGCGT  -5.204175        3          Immune cells   \n",
       "Tcells_RP@CCCAGTTAGCCCTAAT  -5.202508        0          Immune cells   \n",
       "Tcells_PP@GATGAAAGTCAGCTAT   2.794468        9          Immune cells   \n",
       "CART_PP@GACTGCGAGCGAGAAA     9.152536        7          Immune cells   \n",
       "\n",
       "                           Celltype..major.lineage. Celltype..minor.lineage.  \\\n",
       "Tcells_PP@TTCTACAGTCACTTCC                     CD8T                  CD8Teff   \n",
       "CART_RP@AAATGCCGTTTGCATG                       CD8T                  CD8Teff   \n",
       "Tcells_RP@AACACGTCACCGCTAG                     CD8T                  CD8Teff   \n",
       "CART_RP@CTGTTTAGTAAGAGAG                       CD8T                  CD8Teff   \n",
       "CART_PP@GACAGAGTCCGAATGT                       CD8T                  CD8Teff   \n",
       "...                                             ...                      ...   \n",
       "CART_PP@ATGAGGGAGTTCGCAT                       CD8T                  CD8Teff   \n",
       "Tcells_RP@GAGTCCGAGGATGCGT                 CD4Tconv                     Th17   \n",
       "Tcells_RP@CCCAGTTAGCCCTAAT                     CD8T                  CD8Teff   \n",
       "Tcells_PP@GATGAAAGTCAGCTAT                   CD8Tex                   CD8Tex   \n",
       "CART_PP@GACTGCGAGCGAGAAA                       CD8T                  CD8Teff   \n",
       "\n",
       "                              Patient     Sample Tissue  celltype  \n",
       "Tcells_PP@TTCTACAGTCACTTCC  Tcells_PP  Tcells_PP  Tumor      CD8T  \n",
       "CART_RP@AAATGCCGTTTGCATG      CART_RP    CART_RP  Tumor      CD8T  \n",
       "Tcells_RP@AACACGTCACCGCTAG  Tcells_RP  Tcells_RP  Tumor      CD8T  \n",
       "CART_RP@CTGTTTAGTAAGAGAG      CART_RP    CART_RP  Tumor      CD8T  \n",
       "CART_PP@GACAGAGTCCGAATGT      CART_PP    CART_PP  Tumor      CD8T  \n",
       "...                               ...        ...    ...       ...  \n",
       "CART_PP@ATGAGGGAGTTCGCAT      CART_PP    CART_PP  Tumor      CD8T  \n",
       "Tcells_RP@GAGTCCGAGGATGCGT  Tcells_RP  Tcells_RP  Tumor  CD4Tconv  \n",
       "Tcells_RP@CCCAGTTAGCCCTAAT  Tcells_RP  Tcells_RP  Tumor      CD8T  \n",
       "Tcells_PP@GATGAAAGTCAGCTAT  Tcells_PP  Tcells_PP  Tumor    CD8Tex  \n",
       "CART_PP@GACTGCGAGCGAGAAA      CART_PP    CART_PP  Tumor      CD8T  \n",
       "\n",
       "[5000 rows x 13 columns]"
      ]
     },
     "execution_count": 10,
     "metadata": {},
     "output_type": "execute_result"
    }
   ],
   "source": [
    "ori1.obs"
   ]
  },
  {
   "cell_type": "code",
   "execution_count": 9,
   "metadata": {},
   "outputs": [
    {
     "data": {
      "text/html": [
       "<div>\n",
       "<style scoped>\n",
       "    .dataframe tbody tr th:only-of-type {\n",
       "        vertical-align: middle;\n",
       "    }\n",
       "\n",
       "    .dataframe tbody tr th {\n",
       "        vertical-align: top;\n",
       "    }\n",
       "\n",
       "    .dataframe thead th {\n",
       "        text-align: right;\n",
       "    }\n",
       "</style>\n",
       "<table border=\"1\" class=\"dataframe\">\n",
       "  <thead>\n",
       "    <tr style=\"text-align: right;\">\n",
       "      <th></th>\n",
       "      <th>Unnamed: 0</th>\n",
       "      <th>0</th>\n",
       "      <th>label</th>\n",
       "      <th>first</th>\n",
       "      <th>second</th>\n",
       "    </tr>\n",
       "  </thead>\n",
       "  <tbody>\n",
       "    <tr>\n",
       "      <th>0</th>\n",
       "      <td>0</td>\n",
       "      <td>CD8T</td>\n",
       "      <td>0</td>\n",
       "      <td>CD8Tex</td>\n",
       "      <td>2</td>\n",
       "    </tr>\n",
       "    <tr>\n",
       "      <th>1</th>\n",
       "      <td>1</td>\n",
       "      <td>CD8T</td>\n",
       "      <td>0</td>\n",
       "      <td>CD8Tex</td>\n",
       "      <td>2</td>\n",
       "    </tr>\n",
       "    <tr>\n",
       "      <th>2</th>\n",
       "      <td>2</td>\n",
       "      <td>CD8T</td>\n",
       "      <td>0</td>\n",
       "      <td>CD8Tex</td>\n",
       "      <td>2</td>\n",
       "    </tr>\n",
       "    <tr>\n",
       "      <th>3</th>\n",
       "      <td>3</td>\n",
       "      <td>CD8T</td>\n",
       "      <td>0</td>\n",
       "      <td>CD8Tex</td>\n",
       "      <td>2</td>\n",
       "    </tr>\n",
       "    <tr>\n",
       "      <th>4</th>\n",
       "      <td>4</td>\n",
       "      <td>CD8T</td>\n",
       "      <td>0</td>\n",
       "      <td>CD8Tex</td>\n",
       "      <td>2</td>\n",
       "    </tr>\n",
       "    <tr>\n",
       "      <th>...</th>\n",
       "      <td>...</td>\n",
       "      <td>...</td>\n",
       "      <td>...</td>\n",
       "      <td>...</td>\n",
       "      <td>...</td>\n",
       "    </tr>\n",
       "    <tr>\n",
       "      <th>4995</th>\n",
       "      <td>4995</td>\n",
       "      <td>CD8T</td>\n",
       "      <td>1979</td>\n",
       "      <td>CD8T</td>\n",
       "      <td>2</td>\n",
       "    </tr>\n",
       "    <tr>\n",
       "      <th>4996</th>\n",
       "      <td>4996</td>\n",
       "      <td>CD8T</td>\n",
       "      <td>1980</td>\n",
       "      <td>CD8T</td>\n",
       "      <td>0</td>\n",
       "    </tr>\n",
       "    <tr>\n",
       "      <th>4997</th>\n",
       "      <td>4997</td>\n",
       "      <td>CD8T</td>\n",
       "      <td>1981</td>\n",
       "      <td>CD8T</td>\n",
       "      <td>1</td>\n",
       "    </tr>\n",
       "    <tr>\n",
       "      <th>4998</th>\n",
       "      <td>4998</td>\n",
       "      <td>CD8T</td>\n",
       "      <td>1982</td>\n",
       "      <td>CD8T</td>\n",
       "      <td>0</td>\n",
       "    </tr>\n",
       "    <tr>\n",
       "      <th>4999</th>\n",
       "      <td>4999</td>\n",
       "      <td>CD4Tconv</td>\n",
       "      <td>1983</td>\n",
       "      <td>CD4Tconv</td>\n",
       "      <td>1</td>\n",
       "    </tr>\n",
       "  </tbody>\n",
       "</table>\n",
       "<p>5000 rows × 5 columns</p>\n",
       "</div>"
      ],
      "text/plain": [
       "      Unnamed: 0         0  label     first  second\n",
       "0              0      CD8T      0    CD8Tex       2\n",
       "1              1      CD8T      0    CD8Tex       2\n",
       "2              2      CD8T      0    CD8Tex       2\n",
       "3              3      CD8T      0    CD8Tex       2\n",
       "4              4      CD8T      0    CD8Tex       2\n",
       "...          ...       ...    ...       ...     ...\n",
       "4995        4995      CD8T   1979      CD8T       2\n",
       "4996        4996      CD8T   1980      CD8T       0\n",
       "4997        4997      CD8T   1981      CD8T       1\n",
       "4998        4998      CD8T   1982      CD8T       0\n",
       "4999        4999  CD4Tconv   1983  CD4Tconv       1\n",
       "\n",
       "[5000 rows x 5 columns]"
      ]
     },
     "execution_count": 9,
     "metadata": {},
     "output_type": "execute_result"
    }
   ],
   "source": [
    "meta = pd.read_csv('./datas/120/3/meta_result.csv')\n",
    "meta"
   ]
  },
  {
   "cell_type": "code",
   "execution_count": 6,
   "metadata": {},
   "outputs": [
    {
     "data": {
      "text/plain": [
       "AnnData object with n_obs × n_vars = 1547 × 2024\n",
       "    obs: 'celltype', 'leiden'\n",
       "    uns: 'pca', 'neighbors', 'diffmap_evals', 'umap', 'leiden', 'paga', 'leiden_sizes'\n",
       "    obsm: 'X_pca', 'X_diffmap', 'X_umap'\n",
       "    varm: 'PCs'\n",
       "    obsp: 'distances', 'connectivities'"
      ]
     },
     "execution_count": 6,
     "metadata": {},
     "output_type": "execute_result"
    }
   ],
   "source": [
    "adata2"
   ]
  },
  {
   "cell_type": "code",
   "execution_count": 5,
   "metadata": {},
   "outputs": [
    {
     "data": {
      "text/plain": [
       "AnnData object with n_obs × n_vars = 1984 × 2163\n",
       "    obs: 'celltype', 'leiden'\n",
       "    uns: 'pca', 'neighbors', 'diffmap_evals', 'umap', 'leiden', 'paga', 'leiden_sizes'\n",
       "    obsm: 'X_pca', 'X_diffmap', 'X_umap'\n",
       "    varm: 'PCs'\n",
       "    obsp: 'distances', 'connectivities'"
      ]
     },
     "execution_count": 5,
     "metadata": {},
     "output_type": "execute_result"
    }
   ],
   "source": [
    "adata1"
   ]
  },
  {
   "cell_type": "code",
   "execution_count": 15,
   "metadata": {},
   "outputs": [
    {
     "name": "stdout",
     "output_type": "stream",
     "text": [
      "The mininum cost for alignment is 4.460909902554654\n",
      "The alignment edges list is [('12', '12'), ('11', '11'), ('9', '10'), ('6_CD4Tconv', '5_CD4Tconv'), ('2_CD4Tconv', '2_CD4Tconv'), ('0_CD8T', '0_CD8T'), ('8', '8'), ('7', '7'), ('5_CD8Tex', '3_CD8T'), ('4_CD8T', '1_CD8T'), ('1_CD8T', '6_CD8T')]\n"
     ]
    }
   ],
   "source": [
    "T=tree_alignment(nodes1[0],nodes2[0],1);\n",
    "minn = T.run_alignment();\n",
    "T.show_ans();\n",
    "ans = T.get_ans()\n",
    "G=show_graph(ans,nodes1[0],nodes2[0])"
   ]
  },
  {
   "cell_type": "code",
   "execution_count": 16,
   "metadata": {},
   "outputs": [
    {
     "data": {
      "text/plain": [
       "[('12', '12'),\n",
       " ('11', '11'),\n",
       " ('9', '10'),\n",
       " ('6_CD4Tconv', '5_CD4Tconv'),\n",
       " ('2_CD4Tconv', '2_CD4Tconv'),\n",
       " ('0_CD8T', '0_CD8T'),\n",
       " ('8', '8'),\n",
       " ('7', '7'),\n",
       " ('5_CD8Tex', '3_CD8T'),\n",
       " ('4_CD8T', '1_CD8T'),\n",
       " ('1_CD8T', '6_CD8T')]"
      ]
     },
     "execution_count": 16,
     "metadata": {},
     "output_type": "execute_result"
    }
   ],
   "source": [
    "ans"
   ]
  },
  {
   "cell_type": "code",
   "execution_count": 17,
   "metadata": {},
   "outputs": [
    {
     "data": {
      "text/plain": [
       "[['12', '8', '1_CD8T'],\n",
       " ['12', '8', '7', '4_CD8T'],\n",
       " ['12', '8', '7', '5_CD8Tex'],\n",
       " ['12', '11', '0_CD8T'],\n",
       " ['12', '11', '10', '3_CD4Tconv'],\n",
       " ['12', '11', '10', '9', '2_CD4Tconv'],\n",
       " ['12', '11', '10', '9', '6_CD4Tconv']]"
      ]
     },
     "execution_count": 17,
     "metadata": {},
     "output_type": "execute_result"
    }
   ],
   "source": [
    "anslist_dist = dict(ans)\n",
    "anslist_dist.keys()\n",
    "def search_lineage(now,path,anss):\n",
    "    path.append(now.name)\n",
    "    if(now.son==[]):\n",
    "        anss.append(path);\n",
    "        return\n",
    "    \n",
    "    for i in now.son:\n",
    "        search_lineage(i,path.copy(),anss);\n",
    "temp1 = []\n",
    "search_lineage(nodes1[0],[],temp1)\n",
    "temp1"
   ]
  },
  {
   "cell_type": "code",
   "execution_count": 18,
   "metadata": {},
   "outputs": [
    {
     "data": {
      "text/plain": [
       "{'12': '12',\n",
       " '11': '11',\n",
       " '9': '10',\n",
       " '6_CD4Tconv': '5_CD4Tconv',\n",
       " '2_CD4Tconv': '2_CD4Tconv',\n",
       " '0_CD8T': '0_CD8T',\n",
       " '8': '8',\n",
       " '7': '7',\n",
       " '5_CD8Tex': '3_CD8T',\n",
       " '4_CD8T': '1_CD8T',\n",
       " '1_CD8T': '6_CD8T'}"
      ]
     },
     "execution_count": 18,
     "metadata": {},
     "output_type": "execute_result"
    }
   ],
   "source": [
    "anslist_dist"
   ]
  },
  {
   "cell_type": "code",
   "execution_count": 19,
   "metadata": {},
   "outputs": [
    {
     "data": {
      "text/plain": [
       "([['12', '8', '6_CD8T'],\n",
       "  ['12', '8', '7', '1_CD8T'],\n",
       "  ['12', '8', '7', '3_CD8T'],\n",
       "  ['12', '11', '0_CD8T'],\n",
       "  ['12', '11'],\n",
       "  ['12', '11', '10', '2_CD4Tconv'],\n",
       "  ['12', '11', '10', '5_CD4Tconv']],\n",
       " [['12', '8', '1_CD8T'],\n",
       "  ['12', '8', '7', '4_CD8T'],\n",
       "  ['12', '8', '7', '5_CD8Tex'],\n",
       "  ['12', '11', '0_CD8T'],\n",
       "  ['12', '11'],\n",
       "  ['12', '11', '9', '2_CD4Tconv'],\n",
       "  ['12', '11', '9', '6_CD4Tconv']])"
      ]
     },
     "execution_count": 19,
     "metadata": {},
     "output_type": "execute_result"
    }
   ],
   "source": [
    "route1 = []\n",
    "route2 = []\n",
    "\n",
    "for i in temp1:\n",
    "    r1 = []\n",
    "    r2 = []\n",
    "    for j in i:\n",
    "        if j in anslist_dist.keys():\n",
    "            r1.append(j)\n",
    "            r2.append(anslist_dist[j])\n",
    "    route1.append(r1)\n",
    "    route2.append(r2)\n",
    "route2,route1\n"
   ]
  },
  {
   "cell_type": "code",
   "execution_count": 20,
   "metadata": {},
   "outputs": [
    {
     "data": {
      "application/vnd.plotly.v1+json": {
       "config": {
        "plotlyServerURL": "https://plot.ly"
       },
       "data": [
        {
         "hoverinfo": "text",
         "marker": {
          "color": [
           30.039786686087705,
           32.56496149409541,
           32.20247695499612,
           33.15930107830557,
           33.6932520899934,
           33.382316220504904,
           27.638026956105364,
           28.215255106256684,
           27.01446074952954,
           29.53646163822344,
           23.90403954752543,
           23.17969268461129,
           25.919634788639275
          ],
          "colorscale": [
           [
            0,
            "rgb(253, 224, 197)"
           ],
           [
            0.16666666666666666,
            "rgb(250, 203, 166)"
           ],
           [
            0.3333333333333333,
            "rgb(248, 181, 139)"
           ],
           [
            0.5,
            "rgb(245, 158, 114)"
           ],
           [
            0.6666666666666666,
            "rgb(242, 133, 93)"
           ],
           [
            0.8333333333333334,
            "rgb(239, 106, 76)"
           ],
           [
            1,
            "rgb(235, 74, 64)"
           ]
          ],
          "showscale": true,
          "size": 50,
          "symbol": "circle-dot"
         },
         "mode": "markers+text",
         "opacity": 0.8,
         "text": [
          "12",
          "8",
          "1",
          "7",
          "4",
          "5",
          "11",
          "0",
          "10",
          "3",
          "9",
          "2",
          "6"
         ],
         "textfont": {
          "color": "#000000",
          "family": "sans serif",
          "size": 18
         },
         "type": "scatter",
         "x": [
          5.5,
          3.25,
          2.125,
          4.375,
          3.8125,
          4.9375,
          7.75,
          6.625,
          8.875,
          8.3125,
          9.4375,
          9.15625,
          9.71875
         ],
         "y": [
          5,
          3.5,
          2,
          2,
          0.5,
          0.5,
          3.5,
          2,
          2,
          0.5,
          0.5,
          -1,
          -1
         ]
        }
       ],
       "layout": {
        "height": 500,
        "shapes": [
         {
          "layer": "below",
          "line": {
           "color": "#333",
           "width": 4
          },
          "type": "line",
          "x0": 5.5,
          "x1": 5.5,
          "y0": 5,
          "y1": 5
         },
         {
          "layer": "below",
          "line": {
           "color": "#333",
           "width": 4
          },
          "type": "line",
          "x0": 5.5,
          "x1": 3.25,
          "y0": 5,
          "y1": 3.5
         },
         {
          "layer": "below",
          "line": {
           "color": "#333",
           "width": 4
          },
          "type": "line",
          "x0": 3.25,
          "x1": 2.125,
          "y0": 3.5,
          "y1": 2
         },
         {
          "layer": "below",
          "line": {
           "color": "#333",
           "width": 4
          },
          "type": "line",
          "x0": 3.25,
          "x1": 4.375,
          "y0": 3.5,
          "y1": 2
         },
         {
          "layer": "below",
          "line": {
           "color": "#333",
           "width": 4
          },
          "type": "line",
          "x0": 4.375,
          "x1": 3.8125,
          "y0": 2,
          "y1": 0.5
         },
         {
          "layer": "below",
          "line": {
           "color": "#333",
           "width": 4
          },
          "type": "line",
          "x0": 4.375,
          "x1": 4.9375,
          "y0": 2,
          "y1": 0.5
         },
         {
          "layer": "below",
          "line": {
           "color": "#333",
           "width": 4
          },
          "type": "line",
          "x0": 5.5,
          "x1": 7.75,
          "y0": 5,
          "y1": 3.5
         },
         {
          "layer": "below",
          "line": {
           "color": "#333",
           "width": 4
          },
          "type": "line",
          "x0": 7.75,
          "x1": 6.625,
          "y0": 3.5,
          "y1": 2
         },
         {
          "layer": "below",
          "line": {
           "color": "#333",
           "width": 4
          },
          "type": "line",
          "x0": 7.75,
          "x1": 8.875,
          "y0": 3.5,
          "y1": 2
         },
         {
          "layer": "below",
          "line": {
           "color": "#333",
           "width": 4
          },
          "type": "line",
          "x0": 8.875,
          "x1": 8.3125,
          "y0": 2,
          "y1": 0.5
         },
         {
          "layer": "below",
          "line": {
           "color": "#333",
           "width": 4
          },
          "type": "line",
          "x0": 8.875,
          "x1": 9.4375,
          "y0": 2,
          "y1": 0.5
         },
         {
          "layer": "below",
          "line": {
           "color": "#333",
           "width": 4
          },
          "type": "line",
          "x0": 9.4375,
          "x1": 9.15625,
          "y0": 0.5,
          "y1": -1
         },
         {
          "layer": "below",
          "line": {
           "color": "#333",
           "width": 4
          },
          "type": "line",
          "x0": 9.4375,
          "x1": 9.71875,
          "y0": 0.5,
          "y1": -1
         }
        ],
        "template": {
         "data": {
          "bar": [
           {
            "error_x": {
             "color": "#2a3f5f"
            },
            "error_y": {
             "color": "#2a3f5f"
            },
            "marker": {
             "line": {
              "color": "#E5ECF6",
              "width": 0.5
             },
             "pattern": {
              "fillmode": "overlay",
              "size": 10,
              "solidity": 0.2
             }
            },
            "type": "bar"
           }
          ],
          "barpolar": [
           {
            "marker": {
             "line": {
              "color": "#E5ECF6",
              "width": 0.5
             },
             "pattern": {
              "fillmode": "overlay",
              "size": 10,
              "solidity": 0.2
             }
            },
            "type": "barpolar"
           }
          ],
          "carpet": [
           {
            "aaxis": {
             "endlinecolor": "#2a3f5f",
             "gridcolor": "white",
             "linecolor": "white",
             "minorgridcolor": "white",
             "startlinecolor": "#2a3f5f"
            },
            "baxis": {
             "endlinecolor": "#2a3f5f",
             "gridcolor": "white",
             "linecolor": "white",
             "minorgridcolor": "white",
             "startlinecolor": "#2a3f5f"
            },
            "type": "carpet"
           }
          ],
          "choropleth": [
           {
            "colorbar": {
             "outlinewidth": 0,
             "ticks": ""
            },
            "type": "choropleth"
           }
          ],
          "contour": [
           {
            "colorbar": {
             "outlinewidth": 0,
             "ticks": ""
            },
            "colorscale": [
             [
              0,
              "#0d0887"
             ],
             [
              0.1111111111111111,
              "#46039f"
             ],
             [
              0.2222222222222222,
              "#7201a8"
             ],
             [
              0.3333333333333333,
              "#9c179e"
             ],
             [
              0.4444444444444444,
              "#bd3786"
             ],
             [
              0.5555555555555556,
              "#d8576b"
             ],
             [
              0.6666666666666666,
              "#ed7953"
             ],
             [
              0.7777777777777778,
              "#fb9f3a"
             ],
             [
              0.8888888888888888,
              "#fdca26"
             ],
             [
              1,
              "#f0f921"
             ]
            ],
            "type": "contour"
           }
          ],
          "contourcarpet": [
           {
            "colorbar": {
             "outlinewidth": 0,
             "ticks": ""
            },
            "type": "contourcarpet"
           }
          ],
          "heatmap": [
           {
            "colorbar": {
             "outlinewidth": 0,
             "ticks": ""
            },
            "colorscale": [
             [
              0,
              "#0d0887"
             ],
             [
              0.1111111111111111,
              "#46039f"
             ],
             [
              0.2222222222222222,
              "#7201a8"
             ],
             [
              0.3333333333333333,
              "#9c179e"
             ],
             [
              0.4444444444444444,
              "#bd3786"
             ],
             [
              0.5555555555555556,
              "#d8576b"
             ],
             [
              0.6666666666666666,
              "#ed7953"
             ],
             [
              0.7777777777777778,
              "#fb9f3a"
             ],
             [
              0.8888888888888888,
              "#fdca26"
             ],
             [
              1,
              "#f0f921"
             ]
            ],
            "type": "heatmap"
           }
          ],
          "heatmapgl": [
           {
            "colorbar": {
             "outlinewidth": 0,
             "ticks": ""
            },
            "colorscale": [
             [
              0,
              "#0d0887"
             ],
             [
              0.1111111111111111,
              "#46039f"
             ],
             [
              0.2222222222222222,
              "#7201a8"
             ],
             [
              0.3333333333333333,
              "#9c179e"
             ],
             [
              0.4444444444444444,
              "#bd3786"
             ],
             [
              0.5555555555555556,
              "#d8576b"
             ],
             [
              0.6666666666666666,
              "#ed7953"
             ],
             [
              0.7777777777777778,
              "#fb9f3a"
             ],
             [
              0.8888888888888888,
              "#fdca26"
             ],
             [
              1,
              "#f0f921"
             ]
            ],
            "type": "heatmapgl"
           }
          ],
          "histogram": [
           {
            "marker": {
             "pattern": {
              "fillmode": "overlay",
              "size": 10,
              "solidity": 0.2
             }
            },
            "type": "histogram"
           }
          ],
          "histogram2d": [
           {
            "colorbar": {
             "outlinewidth": 0,
             "ticks": ""
            },
            "colorscale": [
             [
              0,
              "#0d0887"
             ],
             [
              0.1111111111111111,
              "#46039f"
             ],
             [
              0.2222222222222222,
              "#7201a8"
             ],
             [
              0.3333333333333333,
              "#9c179e"
             ],
             [
              0.4444444444444444,
              "#bd3786"
             ],
             [
              0.5555555555555556,
              "#d8576b"
             ],
             [
              0.6666666666666666,
              "#ed7953"
             ],
             [
              0.7777777777777778,
              "#fb9f3a"
             ],
             [
              0.8888888888888888,
              "#fdca26"
             ],
             [
              1,
              "#f0f921"
             ]
            ],
            "type": "histogram2d"
           }
          ],
          "histogram2dcontour": [
           {
            "colorbar": {
             "outlinewidth": 0,
             "ticks": ""
            },
            "colorscale": [
             [
              0,
              "#0d0887"
             ],
             [
              0.1111111111111111,
              "#46039f"
             ],
             [
              0.2222222222222222,
              "#7201a8"
             ],
             [
              0.3333333333333333,
              "#9c179e"
             ],
             [
              0.4444444444444444,
              "#bd3786"
             ],
             [
              0.5555555555555556,
              "#d8576b"
             ],
             [
              0.6666666666666666,
              "#ed7953"
             ],
             [
              0.7777777777777778,
              "#fb9f3a"
             ],
             [
              0.8888888888888888,
              "#fdca26"
             ],
             [
              1,
              "#f0f921"
             ]
            ],
            "type": "histogram2dcontour"
           }
          ],
          "mesh3d": [
           {
            "colorbar": {
             "outlinewidth": 0,
             "ticks": ""
            },
            "type": "mesh3d"
           }
          ],
          "parcoords": [
           {
            "line": {
             "colorbar": {
              "outlinewidth": 0,
              "ticks": ""
             }
            },
            "type": "parcoords"
           }
          ],
          "pie": [
           {
            "automargin": true,
            "type": "pie"
           }
          ],
          "scatter": [
           {
            "fillpattern": {
             "fillmode": "overlay",
             "size": 10,
             "solidity": 0.2
            },
            "type": "scatter"
           }
          ],
          "scatter3d": [
           {
            "line": {
             "colorbar": {
              "outlinewidth": 0,
              "ticks": ""
             }
            },
            "marker": {
             "colorbar": {
              "outlinewidth": 0,
              "ticks": ""
             }
            },
            "type": "scatter3d"
           }
          ],
          "scattercarpet": [
           {
            "marker": {
             "colorbar": {
              "outlinewidth": 0,
              "ticks": ""
             }
            },
            "type": "scattercarpet"
           }
          ],
          "scattergeo": [
           {
            "marker": {
             "colorbar": {
              "outlinewidth": 0,
              "ticks": ""
             }
            },
            "type": "scattergeo"
           }
          ],
          "scattergl": [
           {
            "marker": {
             "colorbar": {
              "outlinewidth": 0,
              "ticks": ""
             }
            },
            "type": "scattergl"
           }
          ],
          "scattermapbox": [
           {
            "marker": {
             "colorbar": {
              "outlinewidth": 0,
              "ticks": ""
             }
            },
            "type": "scattermapbox"
           }
          ],
          "scatterpolar": [
           {
            "marker": {
             "colorbar": {
              "outlinewidth": 0,
              "ticks": ""
             }
            },
            "type": "scatterpolar"
           }
          ],
          "scatterpolargl": [
           {
            "marker": {
             "colorbar": {
              "outlinewidth": 0,
              "ticks": ""
             }
            },
            "type": "scatterpolargl"
           }
          ],
          "scatterternary": [
           {
            "marker": {
             "colorbar": {
              "outlinewidth": 0,
              "ticks": ""
             }
            },
            "type": "scatterternary"
           }
          ],
          "surface": [
           {
            "colorbar": {
             "outlinewidth": 0,
             "ticks": ""
            },
            "colorscale": [
             [
              0,
              "#0d0887"
             ],
             [
              0.1111111111111111,
              "#46039f"
             ],
             [
              0.2222222222222222,
              "#7201a8"
             ],
             [
              0.3333333333333333,
              "#9c179e"
             ],
             [
              0.4444444444444444,
              "#bd3786"
             ],
             [
              0.5555555555555556,
              "#d8576b"
             ],
             [
              0.6666666666666666,
              "#ed7953"
             ],
             [
              0.7777777777777778,
              "#fb9f3a"
             ],
             [
              0.8888888888888888,
              "#fdca26"
             ],
             [
              1,
              "#f0f921"
             ]
            ],
            "type": "surface"
           }
          ],
          "table": [
           {
            "cells": {
             "fill": {
              "color": "#EBF0F8"
             },
             "line": {
              "color": "white"
             }
            },
            "header": {
             "fill": {
              "color": "#C8D4E3"
             },
             "line": {
              "color": "white"
             }
            },
            "type": "table"
           }
          ]
         },
         "layout": {
          "annotationdefaults": {
           "arrowcolor": "#2a3f5f",
           "arrowhead": 0,
           "arrowwidth": 1
          },
          "autotypenumbers": "strict",
          "coloraxis": {
           "colorbar": {
            "outlinewidth": 0,
            "ticks": ""
           }
          },
          "colorscale": {
           "diverging": [
            [
             0,
             "#8e0152"
            ],
            [
             0.1,
             "#c51b7d"
            ],
            [
             0.2,
             "#de77ae"
            ],
            [
             0.3,
             "#f1b6da"
            ],
            [
             0.4,
             "#fde0ef"
            ],
            [
             0.5,
             "#f7f7f7"
            ],
            [
             0.6,
             "#e6f5d0"
            ],
            [
             0.7,
             "#b8e186"
            ],
            [
             0.8,
             "#7fbc41"
            ],
            [
             0.9,
             "#4d9221"
            ],
            [
             1,
             "#276419"
            ]
           ],
           "sequential": [
            [
             0,
             "#0d0887"
            ],
            [
             0.1111111111111111,
             "#46039f"
            ],
            [
             0.2222222222222222,
             "#7201a8"
            ],
            [
             0.3333333333333333,
             "#9c179e"
            ],
            [
             0.4444444444444444,
             "#bd3786"
            ],
            [
             0.5555555555555556,
             "#d8576b"
            ],
            [
             0.6666666666666666,
             "#ed7953"
            ],
            [
             0.7777777777777778,
             "#fb9f3a"
            ],
            [
             0.8888888888888888,
             "#fdca26"
            ],
            [
             1,
             "#f0f921"
            ]
           ],
           "sequentialminus": [
            [
             0,
             "#0d0887"
            ],
            [
             0.1111111111111111,
             "#46039f"
            ],
            [
             0.2222222222222222,
             "#7201a8"
            ],
            [
             0.3333333333333333,
             "#9c179e"
            ],
            [
             0.4444444444444444,
             "#bd3786"
            ],
            [
             0.5555555555555556,
             "#d8576b"
            ],
            [
             0.6666666666666666,
             "#ed7953"
            ],
            [
             0.7777777777777778,
             "#fb9f3a"
            ],
            [
             0.8888888888888888,
             "#fdca26"
            ],
            [
             1,
             "#f0f921"
            ]
           ]
          },
          "colorway": [
           "#636efa",
           "#EF553B",
           "#00cc96",
           "#ab63fa",
           "#FFA15A",
           "#19d3f3",
           "#FF6692",
           "#B6E880",
           "#FF97FF",
           "#FECB52"
          ],
          "font": {
           "color": "#2a3f5f"
          },
          "geo": {
           "bgcolor": "white",
           "lakecolor": "white",
           "landcolor": "#E5ECF6",
           "showlakes": true,
           "showland": true,
           "subunitcolor": "white"
          },
          "hoverlabel": {
           "align": "left"
          },
          "hovermode": "closest",
          "mapbox": {
           "style": "light"
          },
          "paper_bgcolor": "white",
          "plot_bgcolor": "#E5ECF6",
          "polar": {
           "angularaxis": {
            "gridcolor": "white",
            "linecolor": "white",
            "ticks": ""
           },
           "bgcolor": "#E5ECF6",
           "radialaxis": {
            "gridcolor": "white",
            "linecolor": "white",
            "ticks": ""
           }
          },
          "scene": {
           "xaxis": {
            "backgroundcolor": "#E5ECF6",
            "gridcolor": "white",
            "gridwidth": 2,
            "linecolor": "white",
            "showbackground": true,
            "ticks": "",
            "zerolinecolor": "white"
           },
           "yaxis": {
            "backgroundcolor": "#E5ECF6",
            "gridcolor": "white",
            "gridwidth": 2,
            "linecolor": "white",
            "showbackground": true,
            "ticks": "",
            "zerolinecolor": "white"
           },
           "zaxis": {
            "backgroundcolor": "#E5ECF6",
            "gridcolor": "white",
            "gridwidth": 2,
            "linecolor": "white",
            "showbackground": true,
            "ticks": "",
            "zerolinecolor": "white"
           }
          },
          "shapedefaults": {
           "line": {
            "color": "#2a3f5f"
           }
          },
          "ternary": {
           "aaxis": {
            "gridcolor": "white",
            "linecolor": "white",
            "ticks": ""
           },
           "baxis": {
            "gridcolor": "white",
            "linecolor": "white",
            "ticks": ""
           },
           "bgcolor": "#E5ECF6",
           "caxis": {
            "gridcolor": "white",
            "linecolor": "white",
            "ticks": ""
           }
          },
          "title": {
           "x": 0.05
          },
          "xaxis": {
           "automargin": true,
           "gridcolor": "white",
           "linecolor": "white",
           "ticks": "",
           "title": {
            "standoff": 15
           },
           "zerolinecolor": "white",
           "zerolinewidth": 2
          },
          "yaxis": {
           "automargin": true,
           "gridcolor": "white",
           "linecolor": "white",
           "ticks": "",
           "title": {
            "standoff": 15
           },
           "zerolinecolor": "white",
           "zerolinewidth": 2
          }
         }
        },
        "width": 1000,
        "xaxis": {
         "showgrid": false,
         "showline": false,
         "showticklabels": false,
         "zeroline": false
        },
        "yaxis": {
         "showgrid": false,
         "showline": false,
         "showticklabels": false,
         "zeroline": false
        }
       }
      }
     },
     "metadata": {},
     "output_type": "display_data"
    }
   ],
   "source": [
    "show_the_tree(folder_path1)"
   ]
  },
  {
   "cell_type": "code",
   "execution_count": 21,
   "metadata": {},
   "outputs": [
    {
     "data": {
      "text/plain": [
       "[['12', '8', '1_CD8T'],\n",
       " ['12', '8', '7', '4_CD8T'],\n",
       " ['12', '8', '7', '5_CD8Tex'],\n",
       " ['12', '11', '0_CD8T'],\n",
       " ['12', '11'],\n",
       " ['12', '11', '9', '2_CD4Tconv'],\n",
       " ['12', '11', '9', '6_CD4Tconv']]"
      ]
     },
     "execution_count": 21,
     "metadata": {},
     "output_type": "execute_result"
    }
   ],
   "source": [
    "route1"
   ]
  },
  {
   "cell_type": "code",
   "execution_count": 22,
   "metadata": {},
   "outputs": [
    {
     "data": {
      "application/vnd.plotly.v1+json": {
       "config": {
        "plotlyServerURL": "https://plot.ly"
       },
       "data": [
        {
         "hoverinfo": "text",
         "marker": {
          "color": [
           29.15937764991018,
           31.251496548585216,
           31.17174710050613,
           32.22012552336967,
           32.53824160395692,
           32.18197191783649,
           27.00809958717563,
           28.834383849383855,
           28.223815697592617,
           30.243613895068524,
           24.69425502044369,
           23.979113777195355,
           25.930306810727732
          ],
          "colorscale": [
           [
            0,
            "rgb(253, 224, 197)"
           ],
           [
            0.16666666666666666,
            "rgb(250, 203, 166)"
           ],
           [
            0.3333333333333333,
            "rgb(248, 181, 139)"
           ],
           [
            0.5,
            "rgb(245, 158, 114)"
           ],
           [
            0.6666666666666666,
            "rgb(242, 133, 93)"
           ],
           [
            0.8333333333333334,
            "rgb(239, 106, 76)"
           ],
           [
            1,
            "rgb(235, 74, 64)"
           ]
          ],
          "showscale": true,
          "size": 50,
          "symbol": "circle-dot"
         },
         "mode": "markers+text",
         "opacity": 0.8,
         "text": [
          "12",
          "8",
          "6",
          "7",
          "1",
          "3",
          "11",
          "9",
          "0",
          "4",
          "10",
          "2",
          "5"
         ],
         "textfont": {
          "color": "#000000",
          "family": "sans serif",
          "size": 18
         },
         "type": "scatter",
         "x": [
          5.5,
          3.25,
          2.125,
          4.375,
          3.8125,
          4.9375,
          7.75,
          6.625,
          6.0625,
          7.1875,
          8.875,
          8.3125,
          9.4375
         ],
         "y": [
          5,
          3.5,
          2,
          2,
          0.5,
          0.5,
          3.5,
          2,
          0.5,
          0.5,
          2,
          0.5,
          0.5
         ]
        }
       ],
       "layout": {
        "height": 500,
        "shapes": [
         {
          "layer": "below",
          "line": {
           "color": "#333",
           "width": 4
          },
          "type": "line",
          "x0": 5.5,
          "x1": 5.5,
          "y0": 5,
          "y1": 5
         },
         {
          "layer": "below",
          "line": {
           "color": "#333",
           "width": 4
          },
          "type": "line",
          "x0": 5.5,
          "x1": 3.25,
          "y0": 5,
          "y1": 3.5
         },
         {
          "layer": "below",
          "line": {
           "color": "#333",
           "width": 4
          },
          "type": "line",
          "x0": 3.25,
          "x1": 2.125,
          "y0": 3.5,
          "y1": 2
         },
         {
          "layer": "below",
          "line": {
           "color": "#333",
           "width": 4
          },
          "type": "line",
          "x0": 3.25,
          "x1": 4.375,
          "y0": 3.5,
          "y1": 2
         },
         {
          "layer": "below",
          "line": {
           "color": "#333",
           "width": 4
          },
          "type": "line",
          "x0": 4.375,
          "x1": 3.8125,
          "y0": 2,
          "y1": 0.5
         },
         {
          "layer": "below",
          "line": {
           "color": "#333",
           "width": 4
          },
          "type": "line",
          "x0": 4.375,
          "x1": 4.9375,
          "y0": 2,
          "y1": 0.5
         },
         {
          "layer": "below",
          "line": {
           "color": "#333",
           "width": 4
          },
          "type": "line",
          "x0": 5.5,
          "x1": 7.75,
          "y0": 5,
          "y1": 3.5
         },
         {
          "layer": "below",
          "line": {
           "color": "#333",
           "width": 4
          },
          "type": "line",
          "x0": 7.75,
          "x1": 6.625,
          "y0": 3.5,
          "y1": 2
         },
         {
          "layer": "below",
          "line": {
           "color": "#333",
           "width": 4
          },
          "type": "line",
          "x0": 6.625,
          "x1": 6.0625,
          "y0": 2,
          "y1": 0.5
         },
         {
          "layer": "below",
          "line": {
           "color": "#333",
           "width": 4
          },
          "type": "line",
          "x0": 6.625,
          "x1": 7.1875,
          "y0": 2,
          "y1": 0.5
         },
         {
          "layer": "below",
          "line": {
           "color": "#333",
           "width": 4
          },
          "type": "line",
          "x0": 7.75,
          "x1": 8.875,
          "y0": 3.5,
          "y1": 2
         },
         {
          "layer": "below",
          "line": {
           "color": "#333",
           "width": 4
          },
          "type": "line",
          "x0": 8.875,
          "x1": 8.3125,
          "y0": 2,
          "y1": 0.5
         },
         {
          "layer": "below",
          "line": {
           "color": "#333",
           "width": 4
          },
          "type": "line",
          "x0": 8.875,
          "x1": 9.4375,
          "y0": 2,
          "y1": 0.5
         }
        ],
        "template": {
         "data": {
          "bar": [
           {
            "error_x": {
             "color": "#2a3f5f"
            },
            "error_y": {
             "color": "#2a3f5f"
            },
            "marker": {
             "line": {
              "color": "#E5ECF6",
              "width": 0.5
             },
             "pattern": {
              "fillmode": "overlay",
              "size": 10,
              "solidity": 0.2
             }
            },
            "type": "bar"
           }
          ],
          "barpolar": [
           {
            "marker": {
             "line": {
              "color": "#E5ECF6",
              "width": 0.5
             },
             "pattern": {
              "fillmode": "overlay",
              "size": 10,
              "solidity": 0.2
             }
            },
            "type": "barpolar"
           }
          ],
          "carpet": [
           {
            "aaxis": {
             "endlinecolor": "#2a3f5f",
             "gridcolor": "white",
             "linecolor": "white",
             "minorgridcolor": "white",
             "startlinecolor": "#2a3f5f"
            },
            "baxis": {
             "endlinecolor": "#2a3f5f",
             "gridcolor": "white",
             "linecolor": "white",
             "minorgridcolor": "white",
             "startlinecolor": "#2a3f5f"
            },
            "type": "carpet"
           }
          ],
          "choropleth": [
           {
            "colorbar": {
             "outlinewidth": 0,
             "ticks": ""
            },
            "type": "choropleth"
           }
          ],
          "contour": [
           {
            "colorbar": {
             "outlinewidth": 0,
             "ticks": ""
            },
            "colorscale": [
             [
              0,
              "#0d0887"
             ],
             [
              0.1111111111111111,
              "#46039f"
             ],
             [
              0.2222222222222222,
              "#7201a8"
             ],
             [
              0.3333333333333333,
              "#9c179e"
             ],
             [
              0.4444444444444444,
              "#bd3786"
             ],
             [
              0.5555555555555556,
              "#d8576b"
             ],
             [
              0.6666666666666666,
              "#ed7953"
             ],
             [
              0.7777777777777778,
              "#fb9f3a"
             ],
             [
              0.8888888888888888,
              "#fdca26"
             ],
             [
              1,
              "#f0f921"
             ]
            ],
            "type": "contour"
           }
          ],
          "contourcarpet": [
           {
            "colorbar": {
             "outlinewidth": 0,
             "ticks": ""
            },
            "type": "contourcarpet"
           }
          ],
          "heatmap": [
           {
            "colorbar": {
             "outlinewidth": 0,
             "ticks": ""
            },
            "colorscale": [
             [
              0,
              "#0d0887"
             ],
             [
              0.1111111111111111,
              "#46039f"
             ],
             [
              0.2222222222222222,
              "#7201a8"
             ],
             [
              0.3333333333333333,
              "#9c179e"
             ],
             [
              0.4444444444444444,
              "#bd3786"
             ],
             [
              0.5555555555555556,
              "#d8576b"
             ],
             [
              0.6666666666666666,
              "#ed7953"
             ],
             [
              0.7777777777777778,
              "#fb9f3a"
             ],
             [
              0.8888888888888888,
              "#fdca26"
             ],
             [
              1,
              "#f0f921"
             ]
            ],
            "type": "heatmap"
           }
          ],
          "heatmapgl": [
           {
            "colorbar": {
             "outlinewidth": 0,
             "ticks": ""
            },
            "colorscale": [
             [
              0,
              "#0d0887"
             ],
             [
              0.1111111111111111,
              "#46039f"
             ],
             [
              0.2222222222222222,
              "#7201a8"
             ],
             [
              0.3333333333333333,
              "#9c179e"
             ],
             [
              0.4444444444444444,
              "#bd3786"
             ],
             [
              0.5555555555555556,
              "#d8576b"
             ],
             [
              0.6666666666666666,
              "#ed7953"
             ],
             [
              0.7777777777777778,
              "#fb9f3a"
             ],
             [
              0.8888888888888888,
              "#fdca26"
             ],
             [
              1,
              "#f0f921"
             ]
            ],
            "type": "heatmapgl"
           }
          ],
          "histogram": [
           {
            "marker": {
             "pattern": {
              "fillmode": "overlay",
              "size": 10,
              "solidity": 0.2
             }
            },
            "type": "histogram"
           }
          ],
          "histogram2d": [
           {
            "colorbar": {
             "outlinewidth": 0,
             "ticks": ""
            },
            "colorscale": [
             [
              0,
              "#0d0887"
             ],
             [
              0.1111111111111111,
              "#46039f"
             ],
             [
              0.2222222222222222,
              "#7201a8"
             ],
             [
              0.3333333333333333,
              "#9c179e"
             ],
             [
              0.4444444444444444,
              "#bd3786"
             ],
             [
              0.5555555555555556,
              "#d8576b"
             ],
             [
              0.6666666666666666,
              "#ed7953"
             ],
             [
              0.7777777777777778,
              "#fb9f3a"
             ],
             [
              0.8888888888888888,
              "#fdca26"
             ],
             [
              1,
              "#f0f921"
             ]
            ],
            "type": "histogram2d"
           }
          ],
          "histogram2dcontour": [
           {
            "colorbar": {
             "outlinewidth": 0,
             "ticks": ""
            },
            "colorscale": [
             [
              0,
              "#0d0887"
             ],
             [
              0.1111111111111111,
              "#46039f"
             ],
             [
              0.2222222222222222,
              "#7201a8"
             ],
             [
              0.3333333333333333,
              "#9c179e"
             ],
             [
              0.4444444444444444,
              "#bd3786"
             ],
             [
              0.5555555555555556,
              "#d8576b"
             ],
             [
              0.6666666666666666,
              "#ed7953"
             ],
             [
              0.7777777777777778,
              "#fb9f3a"
             ],
             [
              0.8888888888888888,
              "#fdca26"
             ],
             [
              1,
              "#f0f921"
             ]
            ],
            "type": "histogram2dcontour"
           }
          ],
          "mesh3d": [
           {
            "colorbar": {
             "outlinewidth": 0,
             "ticks": ""
            },
            "type": "mesh3d"
           }
          ],
          "parcoords": [
           {
            "line": {
             "colorbar": {
              "outlinewidth": 0,
              "ticks": ""
             }
            },
            "type": "parcoords"
           }
          ],
          "pie": [
           {
            "automargin": true,
            "type": "pie"
           }
          ],
          "scatter": [
           {
            "fillpattern": {
             "fillmode": "overlay",
             "size": 10,
             "solidity": 0.2
            },
            "type": "scatter"
           }
          ],
          "scatter3d": [
           {
            "line": {
             "colorbar": {
              "outlinewidth": 0,
              "ticks": ""
             }
            },
            "marker": {
             "colorbar": {
              "outlinewidth": 0,
              "ticks": ""
             }
            },
            "type": "scatter3d"
           }
          ],
          "scattercarpet": [
           {
            "marker": {
             "colorbar": {
              "outlinewidth": 0,
              "ticks": ""
             }
            },
            "type": "scattercarpet"
           }
          ],
          "scattergeo": [
           {
            "marker": {
             "colorbar": {
              "outlinewidth": 0,
              "ticks": ""
             }
            },
            "type": "scattergeo"
           }
          ],
          "scattergl": [
           {
            "marker": {
             "colorbar": {
              "outlinewidth": 0,
              "ticks": ""
             }
            },
            "type": "scattergl"
           }
          ],
          "scattermapbox": [
           {
            "marker": {
             "colorbar": {
              "outlinewidth": 0,
              "ticks": ""
             }
            },
            "type": "scattermapbox"
           }
          ],
          "scatterpolar": [
           {
            "marker": {
             "colorbar": {
              "outlinewidth": 0,
              "ticks": ""
             }
            },
            "type": "scatterpolar"
           }
          ],
          "scatterpolargl": [
           {
            "marker": {
             "colorbar": {
              "outlinewidth": 0,
              "ticks": ""
             }
            },
            "type": "scatterpolargl"
           }
          ],
          "scatterternary": [
           {
            "marker": {
             "colorbar": {
              "outlinewidth": 0,
              "ticks": ""
             }
            },
            "type": "scatterternary"
           }
          ],
          "surface": [
           {
            "colorbar": {
             "outlinewidth": 0,
             "ticks": ""
            },
            "colorscale": [
             [
              0,
              "#0d0887"
             ],
             [
              0.1111111111111111,
              "#46039f"
             ],
             [
              0.2222222222222222,
              "#7201a8"
             ],
             [
              0.3333333333333333,
              "#9c179e"
             ],
             [
              0.4444444444444444,
              "#bd3786"
             ],
             [
              0.5555555555555556,
              "#d8576b"
             ],
             [
              0.6666666666666666,
              "#ed7953"
             ],
             [
              0.7777777777777778,
              "#fb9f3a"
             ],
             [
              0.8888888888888888,
              "#fdca26"
             ],
             [
              1,
              "#f0f921"
             ]
            ],
            "type": "surface"
           }
          ],
          "table": [
           {
            "cells": {
             "fill": {
              "color": "#EBF0F8"
             },
             "line": {
              "color": "white"
             }
            },
            "header": {
             "fill": {
              "color": "#C8D4E3"
             },
             "line": {
              "color": "white"
             }
            },
            "type": "table"
           }
          ]
         },
         "layout": {
          "annotationdefaults": {
           "arrowcolor": "#2a3f5f",
           "arrowhead": 0,
           "arrowwidth": 1
          },
          "autotypenumbers": "strict",
          "coloraxis": {
           "colorbar": {
            "outlinewidth": 0,
            "ticks": ""
           }
          },
          "colorscale": {
           "diverging": [
            [
             0,
             "#8e0152"
            ],
            [
             0.1,
             "#c51b7d"
            ],
            [
             0.2,
             "#de77ae"
            ],
            [
             0.3,
             "#f1b6da"
            ],
            [
             0.4,
             "#fde0ef"
            ],
            [
             0.5,
             "#f7f7f7"
            ],
            [
             0.6,
             "#e6f5d0"
            ],
            [
             0.7,
             "#b8e186"
            ],
            [
             0.8,
             "#7fbc41"
            ],
            [
             0.9,
             "#4d9221"
            ],
            [
             1,
             "#276419"
            ]
           ],
           "sequential": [
            [
             0,
             "#0d0887"
            ],
            [
             0.1111111111111111,
             "#46039f"
            ],
            [
             0.2222222222222222,
             "#7201a8"
            ],
            [
             0.3333333333333333,
             "#9c179e"
            ],
            [
             0.4444444444444444,
             "#bd3786"
            ],
            [
             0.5555555555555556,
             "#d8576b"
            ],
            [
             0.6666666666666666,
             "#ed7953"
            ],
            [
             0.7777777777777778,
             "#fb9f3a"
            ],
            [
             0.8888888888888888,
             "#fdca26"
            ],
            [
             1,
             "#f0f921"
            ]
           ],
           "sequentialminus": [
            [
             0,
             "#0d0887"
            ],
            [
             0.1111111111111111,
             "#46039f"
            ],
            [
             0.2222222222222222,
             "#7201a8"
            ],
            [
             0.3333333333333333,
             "#9c179e"
            ],
            [
             0.4444444444444444,
             "#bd3786"
            ],
            [
             0.5555555555555556,
             "#d8576b"
            ],
            [
             0.6666666666666666,
             "#ed7953"
            ],
            [
             0.7777777777777778,
             "#fb9f3a"
            ],
            [
             0.8888888888888888,
             "#fdca26"
            ],
            [
             1,
             "#f0f921"
            ]
           ]
          },
          "colorway": [
           "#636efa",
           "#EF553B",
           "#00cc96",
           "#ab63fa",
           "#FFA15A",
           "#19d3f3",
           "#FF6692",
           "#B6E880",
           "#FF97FF",
           "#FECB52"
          ],
          "font": {
           "color": "#2a3f5f"
          },
          "geo": {
           "bgcolor": "white",
           "lakecolor": "white",
           "landcolor": "#E5ECF6",
           "showlakes": true,
           "showland": true,
           "subunitcolor": "white"
          },
          "hoverlabel": {
           "align": "left"
          },
          "hovermode": "closest",
          "mapbox": {
           "style": "light"
          },
          "paper_bgcolor": "white",
          "plot_bgcolor": "#E5ECF6",
          "polar": {
           "angularaxis": {
            "gridcolor": "white",
            "linecolor": "white",
            "ticks": ""
           },
           "bgcolor": "#E5ECF6",
           "radialaxis": {
            "gridcolor": "white",
            "linecolor": "white",
            "ticks": ""
           }
          },
          "scene": {
           "xaxis": {
            "backgroundcolor": "#E5ECF6",
            "gridcolor": "white",
            "gridwidth": 2,
            "linecolor": "white",
            "showbackground": true,
            "ticks": "",
            "zerolinecolor": "white"
           },
           "yaxis": {
            "backgroundcolor": "#E5ECF6",
            "gridcolor": "white",
            "gridwidth": 2,
            "linecolor": "white",
            "showbackground": true,
            "ticks": "",
            "zerolinecolor": "white"
           },
           "zaxis": {
            "backgroundcolor": "#E5ECF6",
            "gridcolor": "white",
            "gridwidth": 2,
            "linecolor": "white",
            "showbackground": true,
            "ticks": "",
            "zerolinecolor": "white"
           }
          },
          "shapedefaults": {
           "line": {
            "color": "#2a3f5f"
           }
          },
          "ternary": {
           "aaxis": {
            "gridcolor": "white",
            "linecolor": "white",
            "ticks": ""
           },
           "baxis": {
            "gridcolor": "white",
            "linecolor": "white",
            "ticks": ""
           },
           "bgcolor": "#E5ECF6",
           "caxis": {
            "gridcolor": "white",
            "linecolor": "white",
            "ticks": ""
           }
          },
          "title": {
           "x": 0.05
          },
          "xaxis": {
           "automargin": true,
           "gridcolor": "white",
           "linecolor": "white",
           "ticks": "",
           "title": {
            "standoff": 15
           },
           "zerolinecolor": "white",
           "zerolinewidth": 2
          },
          "yaxis": {
           "automargin": true,
           "gridcolor": "white",
           "linecolor": "white",
           "ticks": "",
           "title": {
            "standoff": 15
           },
           "zerolinecolor": "white",
           "zerolinewidth": 2
          }
         }
        },
        "width": 1000,
        "xaxis": {
         "showgrid": false,
         "showline": false,
         "showticklabels": false,
         "zeroline": false
        },
        "yaxis": {
         "showgrid": false,
         "showline": false,
         "showticklabels": false,
         "zeroline": false
        }
       }
      }
     },
     "metadata": {},
     "output_type": "display_data"
    }
   ],
   "source": [
    "show_the_tree(folder_path2)"
   ]
  },
  {
   "cell_type": "code",
   "execution_count": 25,
   "metadata": {},
   "outputs": [
    {
     "data": {
      "text/html": [
       "<div>\n",
       "<style scoped>\n",
       "    .dataframe tbody tr th:only-of-type {\n",
       "        vertical-align: middle;\n",
       "    }\n",
       "\n",
       "    .dataframe tbody tr th {\n",
       "        vertical-align: top;\n",
       "    }\n",
       "\n",
       "    .dataframe thead th {\n",
       "        text-align: right;\n",
       "    }\n",
       "</style>\n",
       "<table border=\"1\" class=\"dataframe\">\n",
       "  <thead>\n",
       "    <tr style=\"text-align: right;\">\n",
       "      <th></th>\n",
       "      <th>cluster</th>\n",
       "      <th>dpt_pseudotime</th>\n",
       "    </tr>\n",
       "  </thead>\n",
       "  <tbody>\n",
       "    <tr>\n",
       "      <th>0</th>\n",
       "      <td>12</td>\n",
       "      <td>0.000000</td>\n",
       "    </tr>\n",
       "    <tr>\n",
       "      <th>1</th>\n",
       "      <td>8</td>\n",
       "      <td>0.484134</td>\n",
       "    </tr>\n",
       "    <tr>\n",
       "      <th>2</th>\n",
       "      <td>1_CD8T</td>\n",
       "      <td>0.351462</td>\n",
       "    </tr>\n",
       "    <tr>\n",
       "      <th>3</th>\n",
       "      <td>7</td>\n",
       "      <td>0.593160</td>\n",
       "    </tr>\n",
       "    <tr>\n",
       "      <th>4</th>\n",
       "      <td>4_CD8T</td>\n",
       "      <td>0.445189</td>\n",
       "    </tr>\n",
       "    <tr>\n",
       "      <th>5</th>\n",
       "      <td>5_CD8Tex</td>\n",
       "      <td>0.448726</td>\n",
       "    </tr>\n",
       "    <tr>\n",
       "      <th>6</th>\n",
       "      <td>11</td>\n",
       "      <td>0.669826</td>\n",
       "    </tr>\n",
       "    <tr>\n",
       "      <th>7</th>\n",
       "      <td>0_CD8T</td>\n",
       "      <td>0.413974</td>\n",
       "    </tr>\n",
       "    <tr>\n",
       "      <th>8</th>\n",
       "      <td>10</td>\n",
       "      <td>0.776318</td>\n",
       "    </tr>\n",
       "    <tr>\n",
       "      <th>9</th>\n",
       "      <td>3_CD4Tconv</td>\n",
       "      <td>0.545269</td>\n",
       "    </tr>\n",
       "    <tr>\n",
       "      <th>10</th>\n",
       "      <td>9</td>\n",
       "      <td>1.000000</td>\n",
       "    </tr>\n",
       "    <tr>\n",
       "      <th>11</th>\n",
       "      <td>2_CD4Tconv</td>\n",
       "      <td>0.985198</td>\n",
       "    </tr>\n",
       "    <tr>\n",
       "      <th>12</th>\n",
       "      <td>6_CD4Tconv</td>\n",
       "      <td>0.988281</td>\n",
       "    </tr>\n",
       "  </tbody>\n",
       "</table>\n",
       "</div>"
      ],
      "text/plain": [
       "       cluster  dpt_pseudotime\n",
       "0           12        0.000000\n",
       "1            8        0.484134\n",
       "2       1_CD8T        0.351462\n",
       "3            7        0.593160\n",
       "4       4_CD8T        0.445189\n",
       "5     5_CD8Tex        0.448726\n",
       "6           11        0.669826\n",
       "7       0_CD8T        0.413974\n",
       "8           10        0.776318\n",
       "9   3_CD4Tconv        0.545269\n",
       "10           9        1.000000\n",
       "11  2_CD4Tconv        0.985198\n",
       "12  6_CD4Tconv        0.988281"
      ]
     },
     "execution_count": 25,
     "metadata": {},
     "output_type": "execute_result"
    }
   ],
   "source": [
    "adata1.obs['cluster'] = [i.name for i in nodes1]\n",
    "adata1.obs"
   ]
  },
  {
   "cell_type": "code",
   "execution_count": 26,
   "metadata": {},
   "outputs": [
    {
     "data": {
      "text/plain": [
       "array([4.97558154e-03, 1.91218686e+00, 5.32756805e-01, 1.34270394e+00,\n",
       "       1.90427661e+00, 9.85828280e-01, 8.17756262e-03, 6.82527572e-03,\n",
       "       1.30788937e-01, 2.86819384e-04, 1.38684297e+00, 1.23750091e+00,\n",
       "       2.76699364e-02, 5.58766365e-01, 1.95800085e-02, 1.49019372e+00,\n",
       "       1.76119898e-02, 5.61720550e-01, 2.95884386e-02, 4.95642377e-03,\n",
       "       1.78397369e+00, 1.33042455e+00, 3.16735059e-02, 9.32600424e-02,\n",
       "       5.59931174e-02, 2.19713688e-01, 1.92287058e-01, 7.37559274e-02,\n",
       "       9.20618400e-02, 2.50943433e-02, 5.71054989e-04, 3.83690349e-03,\n",
       "       2.06112629e-03, 2.54351627e-02, 1.34101498e+00, 3.50452513e-02,\n",
       "       1.97483916e-02, 2.22080224e-03, 5.63521087e-01, 2.39541242e-03,\n",
       "       2.04178262e+00, 1.12984431e+00, 6.56114995e-01, 3.28297585e-01,\n",
       "       1.13829947e+00, 1.12031960e+00, 5.74269518e-02, 5.22707961e-03,\n",
       "       6.87986791e-01, 4.58287179e-01, 1.27944732e+00, 1.28603792e+00,\n",
       "       1.19943060e-01, 5.97069832e-03, 9.35334623e-01, 1.47757316e+00,\n",
       "       1.16757655e+00, 1.49444067e+00, 1.25174499e+00, 1.59985514e-03,\n",
       "       8.73140432e-03, 1.86562748e-03, 1.08130026e+00, 7.16737032e-01,\n",
       "       6.62727058e-01, 8.40841085e-02, 2.24991366e-02, 9.03656125e-01,\n",
       "       1.34975386e+00, 8.06424487e-03, 1.34693718e+00, 3.73798376e-03,\n",
       "       2.52570081e+00, 3.91202927e-01, 2.26286501e-01, 5.90709550e-03,\n",
       "       5.68859512e-03, 1.16465545e+00, 4.77747945e-03, 6.06024265e-01,\n",
       "       1.42846537e+00, 1.01871312e+00, 4.37690550e-03, 2.05564666e+00,\n",
       "       8.26987267e-01, 7.34434053e-02, 1.13361573e+00, 1.03166628e+00,\n",
       "       1.86238563e+00, 5.47398860e-03, 7.63286889e-01, 1.09146151e-03,\n",
       "       5.98538714e-03, 8.07703435e-01, 1.20413613e+00, 2.48093891e+00,\n",
       "       4.97598462e-02, 8.26545835e-01, 3.73056114e-01, 1.08886361e+00,\n",
       "       8.99841428e-01, 1.38890743e-03, 2.33079446e-03, 2.16149865e-03,\n",
       "       3.13789099e-02, 1.31897454e-03, 5.36401197e-02, 1.07283795e+00,\n",
       "       2.20699921e-01, 1.84894484e-02, 3.16637188e-01, 2.09715796e+00,\n",
       "       7.96820223e-01, 6.50367292e-04, 1.49123240e+00, 1.85365416e-03,\n",
       "       3.38085651e-01, 1.69314027e+00, 2.25266051e+00, 3.33296740e-03,\n",
       "       1.96792302e-03, 2.42801104e-03, 1.35865188e+00, 4.78621811e-01,\n",
       "       1.12538422e-02, 2.96031618e+00, 1.42669857e+00, 1.19898987e+00,\n",
       "       5.17277002e-01, 2.15517413e-02, 1.77118357e-03, 1.82449468e-03,\n",
       "       5.06991506e-01, 5.70420176e-04, 2.37105227e+00, 1.23542547e-03,\n",
       "       2.76858538e-01, 1.50831580e+00, 8.34435999e-01, 1.47524834e+00,\n",
       "       1.29230637e-02, 5.77519014e-02, 3.88626099e-01, 2.25871921e+00,\n",
       "       1.08418512e+00, 7.02806175e-01, 8.63971949e-01, 3.99504565e-02,\n",
       "       2.25805920e-02, 6.95692748e-03, 1.50500638e-02, 1.83237512e-02,\n",
       "       1.73367888e-01, 8.65235209e-01, 1.66955543e+00, 2.09082508e+00,\n",
       "       1.04105401e+00, 7.20258709e-03, 1.33121657e+00, 8.41692865e-01,\n",
       "       5.04519790e-03, 8.13959539e-01, 9.48159606e-04, 2.66574719e-03,\n",
       "       1.12531912e+00, 1.08677125e+00, 1.30415820e-02, 9.07553673e-01,\n",
       "       1.31075680e+00, 1.18399000e+00, 5.17055206e-02, 1.19676316e+00,\n",
       "       9.32451487e-01, 1.11216033e+00, 9.39025485e-04, 4.75121230e-01,\n",
       "       6.53057098e-02, 1.06498487e-02, 7.94586182e-01, 2.42847979e-01,\n",
       "       9.31791379e-04, 2.15848789e-01, 5.21991625e-02, 1.46749866e+00,\n",
       "       8.27683657e-02, 4.01556585e-03, 1.45573056e+00, 2.00471617e-02,\n",
       "       1.21943164e+00, 1.71699598e-02, 1.04204786e+00, 2.00301170e+00,\n",
       "       1.64685786e-01, 1.44674385e+00, 8.91241372e-01, 9.17942047e-01,\n",
       "       1.93242598e-02, 4.16471856e-03, 1.95334360e-01, 9.00806129e-01,\n",
       "       8.40467751e-01, 8.54601339e-03, 4.19624755e-03, 9.48245049e-01,\n",
       "       1.08616054e-03, 1.88685041e-02, 1.73220560e-02, 1.02673089e-02,\n",
       "       5.21819759e-03, 1.16755476e-03, 1.03247261e+00, 1.11380657e-02,\n",
       "       2.82568596e-02, 1.48225152e+00, 2.15656403e-03, 1.15201616e+00,\n",
       "       2.98095662e-02, 1.57026398e+00, 1.12801790e+00, 3.43096592e-02,\n",
       "       1.29989457e+00, 1.77178705e+00, 8.89421165e-01, 6.42445385e-02,\n",
       "       1.29787827e+00, 4.53281812e-02, 1.21128011e+00, 2.53802091e-01,\n",
       "       2.16759206e-03, 2.16492009e-03, 1.40856540e+00, 2.50957790e-03,\n",
       "       1.56315887e+00, 1.85721868e-03, 8.97144841e-04, 1.24750662e+00,\n",
       "       2.26814323e-03, 1.34919500e+00, 8.54989663e-02, 1.91358733e+00,\n",
       "       1.89780202e-02, 1.43705541e-03, 5.43679409e-02, 4.85232740e-04,\n",
       "       1.43326998e+00, 3.86267565e-02, 7.43580284e-03, 4.85663209e-03,\n",
       "       2.75683198e-02, 7.70001626e-03, 2.81497953e-03, 8.53757441e-01,\n",
       "       4.09399211e-01, 4.48936135e-01, 8.48463085e-03, 1.32295594e-01,\n",
       "       1.41634932e-03, 2.11112797e-01, 1.03135097e+00, 3.76446825e-03,\n",
       "       2.23977175e-02, 2.70964615e-02, 1.38677307e-03, 1.20905828e+00,\n",
       "       1.15290678e+00, 7.75681529e-03, 1.29586812e-02, 2.55151046e-03,\n",
       "       7.59166181e-02, 3.63032848e-01, 7.75650918e-01, 6.92652166e-01,\n",
       "       3.16733867e-03, 1.96907762e-03, 2.96115372e-02, 7.20019102e-01,\n",
       "       1.09982538e+00, 9.99586377e-03, 6.99318826e-01, 1.13715057e-03,\n",
       "       6.45166755e-01, 1.10733914e+00, 1.27992678e+00, 2.95059085e-01,\n",
       "       9.38285589e-02, 4.29150043e-03, 1.63454521e+00, 2.90796917e-04,\n",
       "       6.62290771e-03, 4.77602473e-03, 8.35703731e-01, 2.35914326e+00,\n",
       "       1.22418582e+00, 5.19866496e-03, 1.83787802e-03, 1.26326776e+00,\n",
       "       1.06685667e-03, 3.20718437e-01, 1.24915570e-01, 3.67464215e-01,\n",
       "       9.97408807e-01, 1.10867631e+00, 6.04546047e-04, 1.14916563e+00,\n",
       "       2.14472716e-03, 6.09936810e+00, 2.61360011e-03, 1.00978172e+00,\n",
       "       1.21354987e-03, 8.56848713e-03, 3.56223644e-03, 9.68475699e-01,\n",
       "       1.45415515e-01, 3.36276391e-03, 1.07173848e+00, 2.94743199e-03,\n",
       "       7.65272276e-03, 2.48312545e+00, 2.37531111e-01, 3.41979600e-02,\n",
       "       4.09328006e-03, 2.11799797e-03, 2.16348059e-02, 7.27514969e-04,\n",
       "       3.74793494e-03, 2.55489480e-02, 1.49727118e+00, 1.31406200e+00,\n",
       "       9.68669534e-01, 3.35692195e-03, 6.24344870e-02, 3.78259867e-01,\n",
       "       8.67577195e-01, 1.89044011e+00, 4.81791049e-03, 3.87371719e-01,\n",
       "       9.00409162e-01, 1.07634009e-03, 1.08857584e+00, 7.81297013e-02,\n",
       "       1.05535388e+00, 1.21758723e+00, 1.51393458e-03, 1.01036429e+00,\n",
       "       1.16031587e+00, 8.15195501e-01, 1.35152411e+00, 1.34172216e-01,\n",
       "       5.33296494e-03, 6.24811471e-01, 1.57955480e+00, 4.13718354e-03,\n",
       "       1.02754002e-02, 5.43256879e-01, 1.59826234e-03, 6.38858914e-01,\n",
       "       1.03749382e+00, 8.16640735e-01, 2.26027775e+00, 3.11698818e+00,\n",
       "       3.91035490e-02, 2.78593996e-03, 1.85489190e+00, 1.19891707e-02,\n",
       "       5.25326189e-03, 8.24696898e-01, 9.46546137e-01, 2.05371428e+00,\n",
       "       8.85276962e-03, 1.45563101e-02, 1.34693801e+00, 6.25282943e-01,\n",
       "       6.73661381e-03, 8.66196454e-02, 5.11101505e-04, 1.81368399e+00,\n",
       "       1.28767645e+00, 7.53478110e-01, 1.94991875e+00, 1.17279804e+00,\n",
       "       8.67383301e-01, 5.75553114e-03, 1.09970924e-02, 2.82135746e-03,\n",
       "       2.33608985e+00, 5.14242519e-03, 1.72766508e-03, 2.83784658e-01,\n",
       "       9.41225648e-01, 1.33474088e+00, 6.52523562e-02, 1.49666858e+00,\n",
       "       2.86069233e-02, 1.66840184e+00, 1.33989407e-02, 1.24544287e+00,\n",
       "       1.69692540e+00, 1.84731148e-02, 1.04246184e-03, 9.57277417e-01,\n",
       "       9.76801336e-01, 8.99322331e-03, 3.30573833e-03, 4.69216332e-02,\n",
       "       2.22547329e-03, 1.70209062e+00, 1.76963229e-02, 5.10643423e-03,\n",
       "       1.08948112e+00, 9.20577109e-01, 2.05838308e-01, 1.93092734e-01,\n",
       "       7.85815064e-03, 3.91211092e-01, 9.03990790e-02, 4.99119610e-03,\n",
       "       5.23375673e-03, 3.75434337e-03, 1.01889884e-02, 3.53945613e-01,\n",
       "       2.43132100e-01, 6.10419363e-03, 6.68981054e-04, 1.30022037e+00,\n",
       "       2.00655699e+00, 1.02168165e-01, 3.58660403e-03, 1.17131984e+00,\n",
       "       1.36006284e+00, 1.72919542e-01, 2.03213286e+00, 4.14631941e-04,\n",
       "       3.41517292e-02, 1.51304435e-02, 3.13405239e-04, 1.75946310e-01,\n",
       "       2.94639519e-03, 1.42461705e+00, 4.56547015e-04, 1.05760498e-02,\n",
       "       1.18771484e-02, 2.49230377e-02, 2.67521408e-03, 2.22294736e+00,\n",
       "       3.50548187e-03, 1.25940377e-02, 2.03937711e-03, 2.99529940e-01,\n",
       "       1.02219367e+00, 7.98972070e-01, 1.26341367e+00, 6.14294291e-01,\n",
       "       1.17704558e+00, 4.85289916e-02, 2.41830666e-03, 1.93630147e+00,\n",
       "       2.40753841e+00, 9.95362043e-01, 4.27704537e-03, 1.74707491e-02,\n",
       "       2.49705999e-03, 8.60862434e-01, 5.20560928e-02, 1.65318453e-03,\n",
       "       1.25569654e+00, 2.09375286e+00, 6.50500273e-03, 6.82120491e-03,\n",
       "       1.14111532e-03, 3.05300318e-02, 6.35896623e-02, 4.94760215e-01,\n",
       "       2.14248967e+00, 4.30560671e-04, 7.54925683e-02, 1.35775894e-01,\n",
       "       1.80429360e-03, 4.98913229e-03, 2.41672266e-02, 5.95284440e-03,\n",
       "       3.96490563e-03, 6.98675052e-04, 1.49731629e-03, 2.79484153e+00,\n",
       "       7.35624833e-03, 1.04500282e+00, 4.78661694e-02, 1.89413317e-02,\n",
       "       8.60978067e-02, 2.40103793e+00, 1.80762839e+00, 2.24666693e-03,\n",
       "       1.15746660e-02, 1.19582570e+00, 5.35179581e-03, 2.26816607e+00,\n",
       "       2.02516653e-02, 2.48224807e+00, 1.49886427e-03, 1.15297876e-01,\n",
       "       1.00447215e-01, 1.04457593e+00, 2.44313255e-02, 5.25418553e-04,\n",
       "       4.93440544e-03, 2.90113850e-03, 1.86455846e-02, 1.89116526e+00,\n",
       "       4.19301361e-01, 1.32058764e+00, 3.60522931e-03, 1.08124893e-02,\n",
       "       2.50987662e-03, 9.35177319e-03, 2.74095102e-03, 1.08936119e+00,\n",
       "       4.75913547e-02, 1.34909619e-02, 7.12267729e-03, 8.09219608e-04,\n",
       "       4.21681926e-02, 6.84522511e-03, 1.17695916e+00, 1.25156760e+00,\n",
       "       1.16774952e-03, 9.14408624e-01, 3.20377480e-03, 4.55212686e-03,\n",
       "       5.22392755e-03, 3.48995179e-02, 8.31359804e-01, 2.16638833e-01,\n",
       "       1.02127552e+00, 2.87542323e-04, 3.04561428e-04, 1.85122353e-03,\n",
       "       3.57267320e-01, 9.89617765e-01, 5.16544329e-03, 1.54322791e+00,\n",
       "       2.04339814e+00, 1.16981757e+00, 1.67225511e-03, 5.73479943e-02,\n",
       "       1.50966072e+00, 1.64299384e-01, 2.25293532e-01, 3.04649472e+00,\n",
       "       1.45736113e-01, 1.57274697e-02, 1.28249621e+00, 3.85980145e-03,\n",
       "       4.25160490e-03, 1.43925697e-01, 1.53385496e+00, 1.55031824e+00,\n",
       "       2.39683405e-01, 7.86860764e-01, 9.93772317e-03, 4.12329808e-02,\n",
       "       2.83118396e-04, 1.13377321e+00, 9.32547808e-01, 9.79640126e-01,\n",
       "       3.28308716e-03, 1.17409444e+00, 6.68264832e-03, 9.91340075e-03,\n",
       "       2.06505880e-03, 1.86692253e-02, 2.74690166e-02, 2.19567627e-01,\n",
       "       4.03939252e-04, 1.72110009e+00, 1.42388500e-03, 1.22607977e-03,\n",
       "       1.26481497e+00, 1.32802796e+00, 3.49761033e-03, 7.77307630e-01,\n",
       "       1.08851595e-02, 3.98312867e-01, 1.76993676e-03, 1.64780079e-03,\n",
       "       2.63658345e-01, 2.61837840e-02, 4.01723292e-03, 1.28785026e+00,\n",
       "       1.50296779e-03, 5.48538845e-03, 2.94218883e-02, 2.79157626e-04,\n",
       "       3.24132681e+00, 9.10601735e-01, 1.23277150e-01, 1.78855157e+00,\n",
       "       1.60570361e-03, 4.63414984e-03, 2.33652517e-02, 3.55021149e-01,\n",
       "       6.58939651e-04, 1.61080271e-01, 3.20440321e-03, 7.25496233e-01,\n",
       "       1.25272507e-02, 1.35928346e-03, 6.77107453e-01, 1.08255827e+00,\n",
       "       1.11246490e+00, 1.17378795e+00, 1.64241884e-02, 1.40361845e+00,\n",
       "       2.26940122e-03, 1.05833650e+00, 1.95679113e-01, 7.05802292e-02,\n",
       "       8.45339671e-02, 9.90631044e-01, 1.32924092e+00, 4.18854691e-03,\n",
       "       2.04611689e-01, 6.85546454e-03, 1.45087193e-03, 8.72611906e-03,\n",
       "       1.12606050e-03, 3.53243784e-04, 1.22709250e+00, 3.74972038e-02,\n",
       "       8.96764159e-01, 9.89054516e-03, 1.15485084e+00, 1.40889275e+00,\n",
       "       2.46480610e-02, 2.64695859e+00, 5.40377259e-01, 2.99424440e-01,\n",
       "       4.30671003e-04, 1.13272453e-02, 1.03927962e-02, 8.18811655e-02,\n",
       "       1.01791108e-02, 1.16986055e-02, 1.11464107e+00, 2.74886639e-04,\n",
       "       5.95176756e-01, 1.28667212e+00, 1.07182431e+00, 2.36406513e-02,\n",
       "       6.66974306e-01, 1.48871851e+00, 2.21637234e-01, 1.36810732e+00,\n",
       "       1.01397419e-02, 2.65028924e-01, 1.22273910e+00, 1.61964965e+00,\n",
       "       1.02068055e+00, 1.57987142e+00, 3.22404318e-02, 1.24724895e-01,\n",
       "       3.25695463e-02, 6.78137690e-02, 1.73178411e+00, 1.10484600e+00,\n",
       "       4.36775610e-02, 8.18327516e-02, 5.71495056e-01, 3.70929856e-03,\n",
       "       7.49833230e-03, 7.75709515e-03, 2.17575841e-02, 1.14210444e-02,\n",
       "       1.26123893e+00, 8.54836345e-01, 1.94005808e-03, 9.28872228e-01,\n",
       "       7.74553930e-03, 6.31245691e-03, 1.57636344e+00, 1.15973890e+00,\n",
       "       2.55543529e-03, 8.63343384e-03, 2.07767382e-01, 4.90633864e-03,\n",
       "       9.05449569e-01, 6.79194974e-03, 1.38596618e+00, 8.39223802e-01,\n",
       "       6.26450598e-01, 4.47676510e-01, 3.85662355e-02, 6.60096109e-03,\n",
       "       1.33140731e+00, 7.70065608e-03, 7.06637744e-03, 7.01810718e-01,\n",
       "       1.80913046e-01, 6.19596196e-03, 8.77339509e-04, 5.19183045e-03,\n",
       "       1.14993191e+00, 7.24645019e-01, 2.05525160e+00, 1.25118744e+00,\n",
       "       1.14126313e+00, 1.66854179e+00, 2.34562694e-03, 4.98246923e-02,\n",
       "       3.04523390e-03, 2.61547983e-01, 1.56219482e-01, 2.74408818e-03,\n",
       "       1.03115931e-01, 1.59344816e+00, 1.56933200e+00, 1.64823495e-02,\n",
       "       1.15788639e+00, 9.71495867e-01, 3.87744955e-03, 1.12488031e+00,\n",
       "       1.12954187e+00, 1.11191133e-02, 9.71540511e-01, 5.32788895e-02,\n",
       "       5.66879334e-03, 1.66518676e+00, 1.28167415e+00, 5.46461605e-02,\n",
       "       3.57733130e-01, 1.31813514e+00, 8.08165610e-01, 2.47227028e-02,\n",
       "       5.28130949e-01, 9.86720741e-01, 1.81033358e-03, 1.62244022e+00,\n",
       "       1.05757093e+00, 1.98902750e+00, 1.09336209e+00, 4.15277295e-03,\n",
       "       1.17476210e-01, 1.15592277e+00, 2.87357974e-03, 4.08974104e-03,\n",
       "       1.05162847e+00, 1.12238456e-03, 1.00596297e+00, 1.69559265e-03,\n",
       "       6.82418840e-03, 1.65148557e-03, 1.64186463e-01, 2.77986193e+00,\n",
       "       1.27981567e+00, 5.87426242e-04, 1.69270623e+00, 2.05232215e+00,\n",
       "       4.16017979e-01, 1.14833773e-03, 9.34933960e-01, 2.02806592e-02,\n",
       "       1.44356042e-01, 2.64740372e+00, 1.61390547e-02, 1.16588581e+00,\n",
       "       2.03128085e-01, 1.80181742e-01, 1.21761274e+00, 1.98627025e-01,\n",
       "       7.87664147e-04, 8.94313678e-03, 2.43008867e-01, 1.65052689e-03,\n",
       "       6.99431479e-01, 1.11740899e+00, 3.68527949e-01, 8.07601735e-02,\n",
       "       1.08981764e+00, 7.23365578e-04, 4.32062428e-03, 1.09828591e+00,\n",
       "       1.22461040e-02, 6.27996819e-03, 4.57849622e-01, 1.26440451e-03,\n",
       "       1.40388757e-01, 1.34943286e-02, 1.05180478e+00, 1.02869380e+00,\n",
       "       7.79459178e-02, 7.70537019e-01, 1.15505612e+00, 3.03653389e-01,\n",
       "       1.67777501e-02, 1.78582001e+00, 8.65952671e-03, 1.19568837e+00,\n",
       "       4.68095094e-01, 2.96100479e-04, 8.65435600e-01, 8.68193030e-01,\n",
       "       5.64941525e-01, 1.19207315e-01, 3.88164371e-01, 6.45384425e-03,\n",
       "       1.01949973e-03, 8.17158911e-03, 1.13732743e+00, 7.87371844e-02,\n",
       "       2.60872929e-03, 2.11577594e-01, 1.26125324e+00, 1.91251258e-03,\n",
       "       1.35558227e-03, 1.18899494e-02, 8.85155082e-01, 1.06267765e-01,\n",
       "       3.19466321e-03, 4.88521473e-04, 9.37318895e-03, 1.96084395e-01,\n",
       "       7.28225708e-02, 6.18030317e-03, 1.30106354e+00, 4.82156686e-03,\n",
       "       7.29848118e-03, 1.90194522e-03, 1.59499596e-03, 2.03710538e-03,\n",
       "       1.32363454e-01, 8.28376174e-01, 8.29561278e-02, 4.51112464e-02,\n",
       "       9.93309855e-01, 8.95464242e-01, 9.07573849e-03, 1.53293461e-03,\n",
       "       2.12951340e-02, 1.03078985e+00, 4.60781716e-02, 1.77041188e-01,\n",
       "       3.74376867e-03, 1.73458224e-03, 1.92727774e-01, 9.81083333e-01,\n",
       "       7.99524318e-03, 3.00876843e-03, 1.44622552e+00, 6.52657216e-03,\n",
       "       8.83329734e-02, 1.97705317e+00, 9.96399045e-01, 1.63322523e-01,\n",
       "       3.92362118e-01, 6.13708049e-03, 1.43583560e+00, 2.49514654e-02,\n",
       "       1.57367578e-03, 1.82350528e+00, 2.80261159e-01, 1.66117579e-01,\n",
       "       9.06286001e-01, 6.04898036e-01, 3.25259491e-04, 1.09648335e+00,\n",
       "       1.82101759e-03, 1.03594792e+00, 1.45756340e+00, 1.00931630e-03,\n",
       "       3.76962707e-03, 9.28140700e-01, 1.10571772e-01, 1.08630335e+00,\n",
       "       6.50971383e-03, 1.32251787e+00, 9.45612669e-01, 6.78324979e-03,\n",
       "       5.00711496e-04, 1.03109050e+00, 2.47002125e+00, 2.36876891e-03,\n",
       "       1.04843359e-02, 1.76105835e-02, 2.01976672e-02, 2.08448898e-02,\n",
       "       2.78042102e+00, 3.16171185e-03, 7.17116743e-02, 2.72522509e-01,\n",
       "       4.20869747e-03, 1.05835414e+00, 1.21956313e+00, 2.43259268e-03,\n",
       "       9.45576839e-03, 1.07821205e-03, 2.27160053e-03, 1.14841061e-03,\n",
       "       7.32607916e-02, 1.44695252e-01, 1.23401749e+00, 6.08557137e-03,\n",
       "       1.06817496e+00, 2.72877235e-03, 1.61299277e-02, 3.27305146e-03,\n",
       "       1.62782967e+00, 5.99515676e-01, 3.10447719e-02, 1.12035304e-01,\n",
       "       1.08476245e+00, 2.03274584e+00, 5.25042135e-03, 1.78817165e+00,\n",
       "       1.31875718e+00, 1.03125262e+00, 4.16236697e-03, 1.66807207e-03,\n",
       "       4.22293156e-01, 4.04406944e-03, 1.06327236e+00, 9.75650176e-03,\n",
       "       3.39729316e-03, 1.03893924e+00, 1.62176207e-01, 1.50599587e-03,\n",
       "       1.03070855e+00, 9.69310224e-01, 2.11233497e+00, 1.37687009e-02,\n",
       "       1.47826850e+00, 1.95477283e+00, 5.75514674e-01, 1.63348473e-03,\n",
       "       3.66953522e-01, 2.78515458e+00, 8.55034530e-01, 1.63235271e+00,\n",
       "       1.47536607e-03, 1.07469261e+00, 1.35535312e+00, 6.68176683e-03,\n",
       "       2.99973623e-03, 1.12093878e+00, 9.89036620e-01, 3.79852299e-03,\n",
       "       1.33116487e-02, 7.53695726e-01, 1.06873922e-02, 1.65216362e+00,\n",
       "       8.62297177e-01, 1.09012556e+00, 6.46538043e-04, 1.58557117e+00,\n",
       "       2.15545669e-02, 2.17711404e-02, 8.48165512e-01, 1.34345543e+00,\n",
       "       6.54010894e-03, 2.89708585e-03, 6.09072042e-04, 2.51736069e+00,\n",
       "       2.84547508e-01, 9.12652373e-01, 9.64895561e-02, 1.19183343e-02,\n",
       "       2.10773908e-02, 2.15915751e+00, 1.90130305e+00, 1.46482941e-02,\n",
       "       5.52744865e-01, 9.39164590e-03, 3.69887781e+00, 2.19704350e-03,\n",
       "       6.46610141e-01, 3.09975028e+00], dtype=float32)"
      ]
     },
     "execution_count": 26,
     "metadata": {},
     "output_type": "execute_result"
    }
   ],
   "source": [
    "adata1.X.mean(axis=0)"
   ]
  },
  {
   "cell_type": "code",
   "execution_count": 24,
   "metadata": {},
   "outputs": [
    {
     "data": {
      "text/plain": [
       "AnnData object with n_obs × n_vars = 13 × 974\n",
       "    obs: 'cluster', 'dpt_pseudotime'\n",
       "    var: 'xroot'\n",
       "    uns: 'neighbors', 'diffmap_evals', 'iroot'\n",
       "    obsm: 'X_diffmap'\n",
       "    obsp: 'distances', 'connectivities'"
      ]
     },
     "execution_count": 24,
     "metadata": {},
     "output_type": "execute_result"
    }
   ],
   "source": [
    "data1 = []\n",
    "for i in nodes1:\n",
    "    data1.append(i.value)\n",
    "data1 = np.array(data1)\n",
    "adata1 = sc.AnnData(data1,dtype=np.float32)\n",
    "adata1.obs['cluster'] = [i.name for i in nodes1]\n",
    "sc.pp.neighbors(adata1,use_rep='X',n_neighbors=5)\n",
    "sc.tl.diffmap(adata1)\n",
    "adata1.var['xroot'] = adata1.X.mean(axis=0)\n",
    "# adata1.uns['iroot'] = 0\n",
    "# Compute diffusion pseudotime\n",
    "sc.tl.dpt(adata1)\n",
    "adata1"
   ]
  },
  {
   "cell_type": "code",
   "execution_count": 27,
   "metadata": {},
   "outputs": [
    {
     "data": {
      "text/plain": [
       "AnnData object with n_obs × n_vars = 13 × 974\n",
       "    obs: 'cluster', 'dpt_pseudotime'\n",
       "    var: 'xroot'\n",
       "    uns: 'neighbors', 'diffmap_evals', 'iroot'\n",
       "    obsm: 'X_diffmap'\n",
       "    obsp: 'distances', 'connectivities'"
      ]
     },
     "execution_count": 27,
     "metadata": {},
     "output_type": "execute_result"
    }
   ],
   "source": [
    "data2 = []\n",
    "for i in nodes2:\n",
    "    data2.append(i.value)\n",
    "data2 = np.array(data2)\n",
    "adata2 = sc.AnnData(data2,dtype=np.float32)\n",
    "adata2.obs['cluster'] = [i.name for i in nodes2]\n",
    "sc.pp.neighbors(adata2,use_rep='X',n_neighbors=5)\n",
    "sc.tl.diffmap(adata2)\n",
    "adata2.var['xroot'] = adata2.X.mean(axis=0)\n",
    "# adata1.uns['iroot'] = 0\n",
    "# Compute diffusion pseudotime\n",
    "sc.tl.dpt(adata2)\n",
    "adata2"
   ]
  },
  {
   "cell_type": "code",
   "execution_count": 28,
   "metadata": {},
   "outputs": [
    {
     "data": {
      "text/html": [
       "<div>\n",
       "<style scoped>\n",
       "    .dataframe tbody tr th:only-of-type {\n",
       "        vertical-align: middle;\n",
       "    }\n",
       "\n",
       "    .dataframe tbody tr th {\n",
       "        vertical-align: top;\n",
       "    }\n",
       "\n",
       "    .dataframe thead th {\n",
       "        text-align: right;\n",
       "    }\n",
       "</style>\n",
       "<table border=\"1\" class=\"dataframe\">\n",
       "  <thead>\n",
       "    <tr style=\"text-align: right;\">\n",
       "      <th></th>\n",
       "      <th>cluster</th>\n",
       "      <th>dpt_pseudotime</th>\n",
       "    </tr>\n",
       "  </thead>\n",
       "  <tbody>\n",
       "    <tr>\n",
       "      <th>0</th>\n",
       "      <td>12</td>\n",
       "      <td>0.000000</td>\n",
       "    </tr>\n",
       "    <tr>\n",
       "      <th>1</th>\n",
       "      <td>8</td>\n",
       "      <td>0.484134</td>\n",
       "    </tr>\n",
       "    <tr>\n",
       "      <th>2</th>\n",
       "      <td>1_CD8T</td>\n",
       "      <td>0.351462</td>\n",
       "    </tr>\n",
       "    <tr>\n",
       "      <th>3</th>\n",
       "      <td>7</td>\n",
       "      <td>0.593160</td>\n",
       "    </tr>\n",
       "    <tr>\n",
       "      <th>4</th>\n",
       "      <td>4_CD8T</td>\n",
       "      <td>0.445189</td>\n",
       "    </tr>\n",
       "    <tr>\n",
       "      <th>5</th>\n",
       "      <td>5_CD8Tex</td>\n",
       "      <td>0.448726</td>\n",
       "    </tr>\n",
       "    <tr>\n",
       "      <th>6</th>\n",
       "      <td>11</td>\n",
       "      <td>0.669826</td>\n",
       "    </tr>\n",
       "    <tr>\n",
       "      <th>7</th>\n",
       "      <td>0_CD8T</td>\n",
       "      <td>0.413974</td>\n",
       "    </tr>\n",
       "    <tr>\n",
       "      <th>8</th>\n",
       "      <td>10</td>\n",
       "      <td>0.776318</td>\n",
       "    </tr>\n",
       "    <tr>\n",
       "      <th>9</th>\n",
       "      <td>3_CD4Tconv</td>\n",
       "      <td>0.545269</td>\n",
       "    </tr>\n",
       "    <tr>\n",
       "      <th>10</th>\n",
       "      <td>9</td>\n",
       "      <td>1.000000</td>\n",
       "    </tr>\n",
       "    <tr>\n",
       "      <th>11</th>\n",
       "      <td>2_CD4Tconv</td>\n",
       "      <td>0.985198</td>\n",
       "    </tr>\n",
       "    <tr>\n",
       "      <th>12</th>\n",
       "      <td>6_CD4Tconv</td>\n",
       "      <td>0.988281</td>\n",
       "    </tr>\n",
       "  </tbody>\n",
       "</table>\n",
       "</div>"
      ],
      "text/plain": [
       "       cluster  dpt_pseudotime\n",
       "0           12        0.000000\n",
       "1            8        0.484134\n",
       "2       1_CD8T        0.351462\n",
       "3            7        0.593160\n",
       "4       4_CD8T        0.445189\n",
       "5     5_CD8Tex        0.448726\n",
       "6           11        0.669826\n",
       "7       0_CD8T        0.413974\n",
       "8           10        0.776318\n",
       "9   3_CD4Tconv        0.545269\n",
       "10           9        1.000000\n",
       "11  2_CD4Tconv        0.985198\n",
       "12  6_CD4Tconv        0.988281"
      ]
     },
     "execution_count": 28,
     "metadata": {},
     "output_type": "execute_result"
    }
   ],
   "source": [
    "adata1.obs"
   ]
  },
  {
   "cell_type": "code",
   "execution_count": 29,
   "metadata": {},
   "outputs": [
    {
     "data": {
      "text/html": [
       "<div>\n",
       "<style scoped>\n",
       "    .dataframe tbody tr th:only-of-type {\n",
       "        vertical-align: middle;\n",
       "    }\n",
       "\n",
       "    .dataframe tbody tr th {\n",
       "        vertical-align: top;\n",
       "    }\n",
       "\n",
       "    .dataframe thead th {\n",
       "        text-align: right;\n",
       "    }\n",
       "</style>\n",
       "<table border=\"1\" class=\"dataframe\">\n",
       "  <thead>\n",
       "    <tr style=\"text-align: right;\">\n",
       "      <th></th>\n",
       "      <th>cluster</th>\n",
       "      <th>dpt_pseudotime</th>\n",
       "    </tr>\n",
       "  </thead>\n",
       "  <tbody>\n",
       "    <tr>\n",
       "      <th>0</th>\n",
       "      <td>12</td>\n",
       "      <td>0.000000</td>\n",
       "    </tr>\n",
       "    <tr>\n",
       "      <th>1</th>\n",
       "      <td>8</td>\n",
       "      <td>0.440135</td>\n",
       "    </tr>\n",
       "    <tr>\n",
       "      <th>2</th>\n",
       "      <td>6_CD8T</td>\n",
       "      <td>0.104250</td>\n",
       "    </tr>\n",
       "    <tr>\n",
       "      <th>3</th>\n",
       "      <td>7</td>\n",
       "      <td>0.906648</td>\n",
       "    </tr>\n",
       "    <tr>\n",
       "      <th>4</th>\n",
       "      <td>1_CD8T</td>\n",
       "      <td>0.845788</td>\n",
       "    </tr>\n",
       "    <tr>\n",
       "      <th>5</th>\n",
       "      <td>3_CD8T</td>\n",
       "      <td>0.850794</td>\n",
       "    </tr>\n",
       "    <tr>\n",
       "      <th>6</th>\n",
       "      <td>11</td>\n",
       "      <td>0.477240</td>\n",
       "    </tr>\n",
       "    <tr>\n",
       "      <th>7</th>\n",
       "      <td>9</td>\n",
       "      <td>0.282752</td>\n",
       "    </tr>\n",
       "    <tr>\n",
       "      <th>8</th>\n",
       "      <td>0_CD8T</td>\n",
       "      <td>0.197373</td>\n",
       "    </tr>\n",
       "    <tr>\n",
       "      <th>9</th>\n",
       "      <td>4_CD4Tconv</td>\n",
       "      <td>0.258326</td>\n",
       "    </tr>\n",
       "    <tr>\n",
       "      <th>10</th>\n",
       "      <td>10</td>\n",
       "      <td>1.000000</td>\n",
       "    </tr>\n",
       "    <tr>\n",
       "      <th>11</th>\n",
       "      <td>2_CD4Tconv</td>\n",
       "      <td>0.917767</td>\n",
       "    </tr>\n",
       "    <tr>\n",
       "      <th>12</th>\n",
       "      <td>5_CD4Tconv</td>\n",
       "      <td>0.936118</td>\n",
       "    </tr>\n",
       "  </tbody>\n",
       "</table>\n",
       "</div>"
      ],
      "text/plain": [
       "       cluster  dpt_pseudotime\n",
       "0           12        0.000000\n",
       "1            8        0.440135\n",
       "2       6_CD8T        0.104250\n",
       "3            7        0.906648\n",
       "4       1_CD8T        0.845788\n",
       "5       3_CD8T        0.850794\n",
       "6           11        0.477240\n",
       "7            9        0.282752\n",
       "8       0_CD8T        0.197373\n",
       "9   4_CD4Tconv        0.258326\n",
       "10          10        1.000000\n",
       "11  2_CD4Tconv        0.917767\n",
       "12  5_CD4Tconv        0.936118"
      ]
     },
     "execution_count": 29,
     "metadata": {},
     "output_type": "execute_result"
    }
   ],
   "source": [
    "adata2.obs"
   ]
  },
  {
   "cell_type": "code",
   "execution_count": 33,
   "metadata": {},
   "outputs": [
    {
     "data": {
      "text/plain": [
       "[0.9882808327674866]"
      ]
     },
     "execution_count": 33,
     "metadata": {},
     "output_type": "execute_result"
    }
   ],
   "source": [
    "adata1.obs[adata1.obs['cluster']==route1[i][j]]['dpt_pseudotime'].tolist()"
   ]
  },
  {
   "cell_type": "code",
   "execution_count": 35,
   "metadata": {},
   "outputs": [
    {
     "name": "stdout",
     "output_type": "stream",
     "text": [
      "[0.0, 0.4841344356536865, 0.3514615297317505] [0.0, 0.44013532996177673, 0.1042499989271164]\n",
      "0.8524153984872863\n",
      "[0.0, 0.4841344356536865, 0.5931600332260132, 0.44518929719924927] [0.0, 0.44013532996177673, 0.9066480994224548, 0.8457878828048706]\n",
      "0.8892901026949482\n",
      "[0.0, 0.4841344356536865, 0.5931600332260132, 0.44872599840164185] [0.0, 0.44013532996177673, 0.9066480994224548, 0.8507938981056213]\n",
      "0.8899761130844883\n",
      "[0.0, 0.6698257923126221, 0.41397374868392944] [0.0, 0.4772396385669708, 0.19737288355827332]\n",
      "0.972531515904382\n",
      "[0.0, 0.6698257923126221] [0.0, 0.4772396385669708]\n",
      "1.0\n",
      "[0.0, 0.6698257923126221, 1.0, 0.9851980805397034] [0.0, 0.4772396385669708, 1.0, 0.9177668690681458]\n",
      "0.9810000560113723\n",
      "[0.0, 0.6698257923126221, 1.0, 0.9882808327674866] [0.0, 0.4772396385669708, 1.0, 0.9361177086830139]\n",
      "0.9810329668098544\n"
     ]
    }
   ],
   "source": [
    "atc = []\n",
    "for i in range(len(route1)):\n",
    "    pt1 = []\n",
    "    pt2 = []\n",
    "    for j in range(len(route1[i])):\n",
    "        pt1.append(adata1.obs[adata1.obs['cluster']==route1[i][j]]['dpt_pseudotime'].tolist()[0])\n",
    "        pt2.append(adata2.obs[adata2.obs['cluster']==route2[i][j]]['dpt_pseudotime'].tolist()[0])\n",
    "    atc.append(pd.Series.corr(pd.Series(pt1),pd.Series(pt2)))\n",
    "    print(pt1,pt2)\n",
    "    print(pd.Series.corr(pd.Series(pt1),pd.Series(pt2)))\n",
    "atc = np.array(atc)"
   ]
  },
  {
   "cell_type": "code",
   "execution_count": 34,
   "metadata": {},
   "outputs": [
    {
     "data": {
      "text/plain": [
       "0.9380351647131902"
      ]
     },
     "execution_count": 34,
     "metadata": {},
     "output_type": "execute_result"
    }
   ],
   "source": [
    "atc.mean()"
   ]
  },
  {
   "cell_type": "code",
   "execution_count": 81,
   "metadata": {},
   "outputs": [
    {
     "data": {
      "text/plain": [
       "0.9690175823565952"
      ]
     },
     "execution_count": 81,
     "metadata": {},
     "output_type": "execute_result"
    }
   ],
   "source": [
    "((atc + 1 )/2).mean()"
   ]
  },
  {
   "cell_type": "code",
   "execution_count": 43,
   "metadata": {},
   "outputs": [
    {
     "data": {
      "text/plain": [
       "[['1_CD8T'],\n",
       " ['4_CD8T'],\n",
       " ['5_CD8Tex'],\n",
       " ['0_CD8T'],\n",
       " ['2_CD4Tconv'],\n",
       " ['6_CD4Tconv']]"
      ]
     },
     "execution_count": 43,
     "metadata": {},
     "output_type": "execute_result"
    }
   ],
   "source": [
    "cell_route1= [ ]\n",
    "for i in route1:\n",
    "    t1 = []\n",
    "    for j in i:\n",
    "        if(len(j.split('_')) !=1):\n",
    "            t1.append(j);\n",
    "    if(len(t1)!=0):\n",
    "        cell_route1.append(t1);\n",
    "cell_route1"
   ]
  },
  {
   "cell_type": "code",
   "execution_count": 44,
   "metadata": {},
   "outputs": [
    {
     "data": {
      "text/plain": [
       "[['6_CD8T'],\n",
       " ['1_CD8T'],\n",
       " ['3_CD8T'],\n",
       " ['0_CD8T'],\n",
       " ['2_CD4Tconv'],\n",
       " ['5_CD4Tconv']]"
      ]
     },
     "execution_count": 44,
     "metadata": {},
     "output_type": "execute_result"
    }
   ],
   "source": [
    "cell_route2= [ ]\n",
    "for i in route2:\n",
    "    t1 = []\n",
    "    for j in i:\n",
    "        if(len(j.split('_')) !=1):\n",
    "            t1.append(j);\n",
    "    if(len(t1)!=0):\n",
    "        cell_route2.append(t1);\n",
    "cell_route2"
   ]
  },
  {
   "cell_type": "code",
   "execution_count": 48,
   "metadata": {},
   "outputs": [
    {
     "name": "stdout",
     "output_type": "stream",
     "text": [
      "['1_CD8T'] ['6_CD8T']\n",
      "['4_CD8T'] ['1_CD8T']\n",
      "['5_CD8Tex'] ['3_CD8T']\n",
      "['0_CD8T'] ['0_CD8T']\n",
      "['2_CD4Tconv'] ['2_CD4Tconv']\n",
      "['6_CD4Tconv'] ['5_CD4Tconv']\n"
     ]
    }
   ],
   "source": [
    "for i,j in zip(cell_route1,cell_route2):\n",
    "    print(i,j)"
   ]
  },
  {
   "cell_type": "code",
   "execution_count": 38,
   "metadata": {},
   "outputs": [
    {
     "data": {
      "text/plain": [
       "([['12', '8', '1_CD8T'],\n",
       "  ['12', '8', '7', '4_CD8T'],\n",
       "  ['12', '8', '7', '5_CD8Tex'],\n",
       "  ['12', '11', '0_CD8T'],\n",
       "  ['12', '11'],\n",
       "  ['12', '11', '9', '2_CD4Tconv'],\n",
       "  ['12', '11', '9', '6_CD4Tconv']],\n",
       " [['12', '8', '6_CD8T'],\n",
       "  ['12', '8', '7', '1_CD8T'],\n",
       "  ['12', '8', '7', '3_CD8T'],\n",
       "  ['12', '11', '0_CD8T'],\n",
       "  ['12', '11'],\n",
       "  ['12', '11', '10', '2_CD4Tconv'],\n",
       "  ['12', '11', '10', '5_CD4Tconv']])"
      ]
     },
     "execution_count": 38,
     "metadata": {},
     "output_type": "execute_result"
    }
   ],
   "source": [
    "route1,route2"
   ]
  },
  {
   "cell_type": "code",
   "execution_count": null,
   "metadata": {},
   "outputs": [],
   "source": []
  },
  {
   "cell_type": "code",
   "execution_count": null,
   "metadata": {},
   "outputs": [],
   "source": []
  },
  {
   "cell_type": "code",
   "execution_count": null,
   "metadata": {},
   "outputs": [],
   "source": []
  },
  {
   "cell_type": "code",
   "execution_count": 159,
   "metadata": {},
   "outputs": [],
   "source": [
    "data1 = pd.read_csv('./datas/120/1/meta_result.csv')\n",
    "data1 = data1.set_index(data1.columns[0])\n",
    "gene1 = pd.read_csv('./datas/120/1/merge_values.csv')\n",
    "gene1 = gene1.set_index(gene1.columns[0])\n",
    "merged_df1 = pd.merge(data1['second'], gene1, left_index=True, right_index=True)\n",
    "merged_df1 = merged_df1.drop('second',axis=1)\n",
    "merged_df1 = merged_df1.drop('label',axis=1)\n",
    "merged_df1.index = merged_df1.index.astype(str)\n",
    "\n",
    "adata1 = sc.AnnData(merged_df1,dtype=np.float32)\n",
    "# sc.tl.pca(\n",
    "#     adata1,\n",
    "#     n_comps=1000,\n",
    "#     random_state=1234,\n",
    "# )\n",
    "sc.pp.neighbors(adata1,use_rep='X')\n",
    "sc.tl.diffmap(adata1)\n"
   ]
  },
  {
   "cell_type": "code",
   "execution_count": 160,
   "metadata": {},
   "outputs": [
    {
     "data": {
      "text/plain": [
       "AnnData object with n_obs × n_vars = 5000 × 16701\n",
       "    obs: 'dpt_pseudotime'\n",
       "    var: 'xroot'\n",
       "    uns: 'neighbors', 'diffmap_evals', 'iroot'\n",
       "    obsm: 'X_diffmap'\n",
       "    obsp: 'distances', 'connectivities'"
      ]
     },
     "execution_count": 160,
     "metadata": {},
     "output_type": "execute_result"
    }
   ],
   "source": [
    "adata1.var['xroot'] = adata1.X.mean(axis=0)\n",
    "# adata1.uns['iroot'] = 0\n",
    "# Compute diffusion pseudotime\n",
    "sc.tl.dpt(adata1)\n",
    "adata1"
   ]
  },
  {
   "cell_type": "code",
   "execution_count": 161,
   "metadata": {},
   "outputs": [
    {
     "data": {
      "text/html": [
       "<div>\n",
       "<style scoped>\n",
       "    .dataframe tbody tr th:only-of-type {\n",
       "        vertical-align: middle;\n",
       "    }\n",
       "\n",
       "    .dataframe tbody tr th {\n",
       "        vertical-align: top;\n",
       "    }\n",
       "\n",
       "    .dataframe thead th {\n",
       "        text-align: right;\n",
       "    }\n",
       "</style>\n",
       "<table border=\"1\" class=\"dataframe\">\n",
       "  <thead>\n",
       "    <tr style=\"text-align: right;\">\n",
       "      <th></th>\n",
       "      <th>dpt_pseudotime</th>\n",
       "    </tr>\n",
       "    <tr>\n",
       "      <th>Unnamed: 0</th>\n",
       "      <th></th>\n",
       "    </tr>\n",
       "  </thead>\n",
       "  <tbody>\n",
       "    <tr>\n",
       "      <th>0</th>\n",
       "      <td>0.378134</td>\n",
       "    </tr>\n",
       "    <tr>\n",
       "      <th>1</th>\n",
       "      <td>0.405823</td>\n",
       "    </tr>\n",
       "    <tr>\n",
       "      <th>2</th>\n",
       "      <td>0.362443</td>\n",
       "    </tr>\n",
       "    <tr>\n",
       "      <th>3</th>\n",
       "      <td>0.175145</td>\n",
       "    </tr>\n",
       "    <tr>\n",
       "      <th>4</th>\n",
       "      <td>0.000000</td>\n",
       "    </tr>\n",
       "    <tr>\n",
       "      <th>...</th>\n",
       "      <td>...</td>\n",
       "    </tr>\n",
       "    <tr>\n",
       "      <th>4995</th>\n",
       "      <td>0.283985</td>\n",
       "    </tr>\n",
       "    <tr>\n",
       "      <th>4996</th>\n",
       "      <td>0.252008</td>\n",
       "    </tr>\n",
       "    <tr>\n",
       "      <th>4997</th>\n",
       "      <td>0.257369</td>\n",
       "    </tr>\n",
       "    <tr>\n",
       "      <th>4998</th>\n",
       "      <td>0.257017</td>\n",
       "    </tr>\n",
       "    <tr>\n",
       "      <th>4999</th>\n",
       "      <td>0.209098</td>\n",
       "    </tr>\n",
       "  </tbody>\n",
       "</table>\n",
       "<p>5000 rows × 1 columns</p>\n",
       "</div>"
      ],
      "text/plain": [
       "            dpt_pseudotime\n",
       "Unnamed: 0                \n",
       "0                 0.378134\n",
       "1                 0.405823\n",
       "2                 0.362443\n",
       "3                 0.175145\n",
       "4                 0.000000\n",
       "...                    ...\n",
       "4995              0.283985\n",
       "4996              0.252008\n",
       "4997              0.257369\n",
       "4998              0.257017\n",
       "4999              0.209098\n",
       "\n",
       "[5000 rows x 1 columns]"
      ]
     },
     "execution_count": 161,
     "metadata": {},
     "output_type": "execute_result"
    }
   ],
   "source": [
    "adata1.obs"
   ]
  },
  {
   "cell_type": "code",
   "execution_count": 4,
   "metadata": {},
   "outputs": [],
   "source": [
    "data2 = pd.read_csv('./datas/120/2/meta_result.csv')\n",
    "data2 = data2.set_index(data2.columns[0])\n",
    "gene2 = pd.read_csv('./datas/120/2/merge_values.csv')\n",
    "gene2 = gene2.set_index(gene2.columns[0])\n",
    "merged_df2 = pd.merge(data2['second'], gene2, left_index=True, right_index=True)\n",
    "merged_df2 = merged_df2.drop('second',axis=1)\n",
    "merged_df2 = merged_df2.drop('label',axis=1)\n",
    "merged_df2.index = merged_df2.index.astype(str)\n",
    "\n",
    "adata2 = sc.AnnData(merged_df2,dtype=np.float32)\n",
    "# sc.tl.pca(\n",
    "#     adata2,\n",
    "#     n_comps=1000,\n",
    "#     random_state=1234,\n",
    "# )\n",
    "sc.pp.neighbors(adata2,use_rep='X')\n",
    "sc.tl.diffmap(adata2)\n"
   ]
  },
  {
   "cell_type": "code",
   "execution_count": 6,
   "metadata": {},
   "outputs": [
    {
     "data": {
      "text/plain": [
       "array([[0., 0., 0., ..., 0., 0., 0.],\n",
       "       [0., 0., 0., ..., 0., 0., 0.],\n",
       "       [0., 0., 0., ..., 0., 0., 0.],\n",
       "       ...,\n",
       "       [0., 0., 0., ..., 0., 0., 0.],\n",
       "       [0., 0., 0., ..., 0., 0., 0.],\n",
       "       [0., 0., 0., ..., 0., 0., 0.]], dtype=float32)"
      ]
     },
     "execution_count": 6,
     "metadata": {},
     "output_type": "execute_result"
    }
   ],
   "source": [
    "adata2.X"
   ]
  },
  {
   "cell_type": "code",
   "execution_count": 5,
   "metadata": {},
   "outputs": [
    {
     "data": {
      "text/plain": [
       "array([0.0007342072, 0.017018905 , 0.004596726 , ..., 0.          ,\n",
       "       0.0003981525, 0.0001986793], dtype=float32)"
      ]
     },
     "execution_count": 5,
     "metadata": {},
     "output_type": "execute_result"
    }
   ],
   "source": [
    "adata2.X.mean(axis=0)"
   ]
  },
  {
   "cell_type": "code",
   "execution_count": 162,
   "metadata": {},
   "outputs": [
    {
     "data": {
      "text/plain": [
       "AnnData object with n_obs × n_vars = 5000 × 16701\n",
       "    obs: 'dpt_pseudotime'\n",
       "    var: 'xroot'\n",
       "    uns: 'neighbors', 'diffmap_evals', 'iroot'\n",
       "    obsm: 'X_diffmap'\n",
       "    obsp: 'distances', 'connectivities'"
      ]
     },
     "execution_count": 162,
     "metadata": {},
     "output_type": "execute_result"
    }
   ],
   "source": [
    "adata2.var['xroot'] = adata2.X.mean(axis=0)\n",
    "\n",
    "# adata2.uns['iroot'] = 0\n",
    "\n",
    "# Compute diffusion pseudotime\n",
    "sc.tl.dpt(adata2)\n",
    "adata2"
   ]
  },
  {
   "cell_type": "code",
   "execution_count": 163,
   "metadata": {},
   "outputs": [
    {
     "data": {
      "text/html": [
       "<div>\n",
       "<style scoped>\n",
       "    .dataframe tbody tr th:only-of-type {\n",
       "        vertical-align: middle;\n",
       "    }\n",
       "\n",
       "    .dataframe tbody tr th {\n",
       "        vertical-align: top;\n",
       "    }\n",
       "\n",
       "    .dataframe thead th {\n",
       "        text-align: right;\n",
       "    }\n",
       "</style>\n",
       "<table border=\"1\" class=\"dataframe\">\n",
       "  <thead>\n",
       "    <tr style=\"text-align: right;\">\n",
       "      <th></th>\n",
       "      <th>dpt_pseudotime</th>\n",
       "    </tr>\n",
       "    <tr>\n",
       "      <th>Unnamed: 0</th>\n",
       "      <th></th>\n",
       "    </tr>\n",
       "  </thead>\n",
       "  <tbody>\n",
       "    <tr>\n",
       "      <th>0</th>\n",
       "      <td>0.378134</td>\n",
       "    </tr>\n",
       "    <tr>\n",
       "      <th>1</th>\n",
       "      <td>0.405823</td>\n",
       "    </tr>\n",
       "    <tr>\n",
       "      <th>2</th>\n",
       "      <td>0.362443</td>\n",
       "    </tr>\n",
       "    <tr>\n",
       "      <th>3</th>\n",
       "      <td>0.175145</td>\n",
       "    </tr>\n",
       "    <tr>\n",
       "      <th>4</th>\n",
       "      <td>0.000000</td>\n",
       "    </tr>\n",
       "    <tr>\n",
       "      <th>...</th>\n",
       "      <td>...</td>\n",
       "    </tr>\n",
       "    <tr>\n",
       "      <th>4995</th>\n",
       "      <td>0.283985</td>\n",
       "    </tr>\n",
       "    <tr>\n",
       "      <th>4996</th>\n",
       "      <td>0.252008</td>\n",
       "    </tr>\n",
       "    <tr>\n",
       "      <th>4997</th>\n",
       "      <td>0.257369</td>\n",
       "    </tr>\n",
       "    <tr>\n",
       "      <th>4998</th>\n",
       "      <td>0.257017</td>\n",
       "    </tr>\n",
       "    <tr>\n",
       "      <th>4999</th>\n",
       "      <td>0.209098</td>\n",
       "    </tr>\n",
       "  </tbody>\n",
       "</table>\n",
       "<p>5000 rows × 1 columns</p>\n",
       "</div>"
      ],
      "text/plain": [
       "            dpt_pseudotime\n",
       "Unnamed: 0                \n",
       "0                 0.378134\n",
       "1                 0.405823\n",
       "2                 0.362443\n",
       "3                 0.175145\n",
       "4                 0.000000\n",
       "...                    ...\n",
       "4995              0.283985\n",
       "4996              0.252008\n",
       "4997              0.257369\n",
       "4998              0.257017\n",
       "4999              0.209098\n",
       "\n",
       "[5000 rows x 1 columns]"
      ]
     },
     "execution_count": 163,
     "metadata": {},
     "output_type": "execute_result"
    }
   ],
   "source": [
    "adata1.obs"
   ]
  },
  {
   "cell_type": "code",
   "execution_count": 164,
   "metadata": {},
   "outputs": [
    {
     "data": {
      "text/html": [
       "<div>\n",
       "<style scoped>\n",
       "    .dataframe tbody tr th:only-of-type {\n",
       "        vertical-align: middle;\n",
       "    }\n",
       "\n",
       "    .dataframe tbody tr th {\n",
       "        vertical-align: top;\n",
       "    }\n",
       "\n",
       "    .dataframe thead th {\n",
       "        text-align: right;\n",
       "    }\n",
       "</style>\n",
       "<table border=\"1\" class=\"dataframe\">\n",
       "  <thead>\n",
       "    <tr style=\"text-align: right;\">\n",
       "      <th></th>\n",
       "      <th>dpt_pseudotime</th>\n",
       "    </tr>\n",
       "    <tr>\n",
       "      <th>Unnamed: 0</th>\n",
       "      <th></th>\n",
       "    </tr>\n",
       "  </thead>\n",
       "  <tbody>\n",
       "    <tr>\n",
       "      <th>0</th>\n",
       "      <td>0.403861</td>\n",
       "    </tr>\n",
       "    <tr>\n",
       "      <th>1</th>\n",
       "      <td>0.246074</td>\n",
       "    </tr>\n",
       "    <tr>\n",
       "      <th>2</th>\n",
       "      <td>0.048426</td>\n",
       "    </tr>\n",
       "    <tr>\n",
       "      <th>3</th>\n",
       "      <td>0.065390</td>\n",
       "    </tr>\n",
       "    <tr>\n",
       "      <th>4</th>\n",
       "      <td>0.107219</td>\n",
       "    </tr>\n",
       "    <tr>\n",
       "      <th>...</th>\n",
       "      <td>...</td>\n",
       "    </tr>\n",
       "    <tr>\n",
       "      <th>4995</th>\n",
       "      <td>0.130869</td>\n",
       "    </tr>\n",
       "    <tr>\n",
       "      <th>4996</th>\n",
       "      <td>0.129924</td>\n",
       "    </tr>\n",
       "    <tr>\n",
       "      <th>4997</th>\n",
       "      <td>0.145103</td>\n",
       "    </tr>\n",
       "    <tr>\n",
       "      <th>4998</th>\n",
       "      <td>0.134560</td>\n",
       "    </tr>\n",
       "    <tr>\n",
       "      <th>4999</th>\n",
       "      <td>0.107967</td>\n",
       "    </tr>\n",
       "  </tbody>\n",
       "</table>\n",
       "<p>5000 rows × 1 columns</p>\n",
       "</div>"
      ],
      "text/plain": [
       "            dpt_pseudotime\n",
       "Unnamed: 0                \n",
       "0                 0.403861\n",
       "1                 0.246074\n",
       "2                 0.048426\n",
       "3                 0.065390\n",
       "4                 0.107219\n",
       "...                    ...\n",
       "4995              0.130869\n",
       "4996              0.129924\n",
       "4997              0.145103\n",
       "4998              0.134560\n",
       "4999              0.107967\n",
       "\n",
       "[5000 rows x 1 columns]"
      ]
     },
     "execution_count": 164,
     "metadata": {},
     "output_type": "execute_result"
    }
   ],
   "source": [
    "adata2.obs"
   ]
  },
  {
   "cell_type": "code",
   "execution_count": 165,
   "metadata": {},
   "outputs": [],
   "source": [
    "adata1.obs['second'] = data1['second'].tolist()\n",
    "adata2.obs['second'] = data2['second'].tolist()\n"
   ]
  },
  {
   "cell_type": "code",
   "execution_count": 187,
   "metadata": {},
   "outputs": [
    {
     "data": {
      "text/plain": [
       "0.8207450087293368"
      ]
     },
     "execution_count": 187,
     "metadata": {},
     "output_type": "execute_result"
    }
   ],
   "source": [
    "atc1 = []\n",
    "atc2 = []\n",
    "for i,j in anslist:\n",
    "\n",
    "    pt1 = adata1.obs[adata1.obs['second']==i]['dpt_pseudotime']\n",
    "    atc1.append(pt1.mean())\n",
    "    pt2 = adata2.obs[adata2.obs['second']==i]['dpt_pseudotime']\n",
    "    atc2.append(pt2.mean())\n",
    "(pd.Series.corr(pd.Series(atc1),pd.Series(atc2)) +1) /2"
   ]
  },
  {
   "cell_type": "code",
   "execution_count": 168,
   "metadata": {},
   "outputs": [
    {
     "data": {
      "text/plain": [
       "([0.3513510227203369,\n",
       "  0.405419260263443,\n",
       "  0.2694925367832184,\n",
       "  0.1640537977218628,\n",
       "  0.1475425511598587,\n",
       "  0.16928182542324066],\n",
       " [0.12122153490781784,\n",
       "  0.19314150512218475,\n",
       "  0.1360488086938858,\n",
       "  0.15845853090286255,\n",
       "  0.08551795035600662,\n",
       "  0.08991791307926178])"
      ]
     },
     "execution_count": 168,
     "metadata": {},
     "output_type": "execute_result"
    }
   ],
   "source": [
    "atc1,atc2"
   ]
  },
  {
   "cell_type": "code",
   "execution_count": 186,
   "metadata": {},
   "outputs": [
    {
     "data": {
      "text/plain": [
       "[12,\n",
       " 8,\n",
       " 1_CD8T,\n",
       " 7,\n",
       " 4_CD8T,\n",
       " 5_CD8Tex,\n",
       " 11,\n",
       " 0_CD8T,\n",
       " 10,\n",
       " 3_CD4Tconv,\n",
       " 9,\n",
       " 2_CD4Tconv,\n",
       " 6_CD4Tconv]"
      ]
     },
     "execution_count": 186,
     "metadata": {},
     "output_type": "execute_result"
    }
   ],
   "source": [
    "nodes1"
   ]
  },
  {
   "cell_type": "code",
   "execution_count": null,
   "metadata": {},
   "outputs": [],
   "source": []
  }
 ],
 "metadata": {
  "kernelspec": {
   "display_name": "base",
   "language": "python",
   "name": "python3"
  },
  "language_info": {
   "codemirror_mode": {
    "name": "ipython",
    "version": 3
   },
   "file_extension": ".py",
   "mimetype": "text/x-python",
   "name": "python",
   "nbconvert_exporter": "python",
   "pygments_lexer": "ipython3",
   "version": "3.8.16"
  }
 },
 "nbformat": 4,
 "nbformat_minor": 2
}
