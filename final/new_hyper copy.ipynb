{
 "cells": [
  {
   "cell_type": "code",
   "execution_count": 2,
   "metadata": {},
   "outputs": [],
   "source": [
    "from hyper import *\n",
    "from alignment import *\n",
    "from datasets.preprecossing import *\n",
    "from core import *\n",
    "from datasets.loading import *\n",
    "from datasets.hc_dataset import *\n",
    "from datasets.balance_dataset import *\n",
    "from utils.linkage import *\n",
    "from model.balancehc import balancehc\n",
    "\n",
    "from utils.poincare import *\n",
    "import scib\n",
    "import shutil\n",
    "\n"
   ]
  },
  {
   "cell_type": "code",
   "execution_count": null,
   "metadata": {},
   "outputs": [],
   "source": [
    "datas =sc.read_h5ad('./datas/111/BRCA_GSE110686.h5ad')\n",
    "datas"
   ]
  },
  {
   "cell_type": "code",
   "execution_count": null,
   "metadata": {},
   "outputs": [],
   "source": [
    "datas = datas[datas.obs[datas.obs['Celltype..major.lineage.'] =='CD4Tconv'].index]\n",
    "datas.obs"
   ]
  },
  {
   "cell_type": "code",
   "execution_count": null,
   "metadata": {},
   "outputs": [],
   "source": [
    "datas.to_df().index.tolist()"
   ]
  },
  {
   "cell_type": "code",
   "execution_count": null,
   "metadata": {},
   "outputs": [],
   "source": []
  },
  {
   "cell_type": "code",
   "execution_count": null,
   "metadata": {},
   "outputs": [],
   "source": [
    "genes.index.tolist()"
   ]
  },
  {
   "cell_type": "code",
   "execution_count": null,
   "metadata": {},
   "outputs": [],
   "source": [
    "meta_list2 = datas.obs['Celltype..minor.lineage.'][genes.index.tolist()].tolist()\n",
    "meta_list2"
   ]
  },
  {
   "cell_type": "code",
   "execution_count": null,
   "metadata": {},
   "outputs": [],
   "source": [
    "meta_list1 = datas.obs['Celltype..major.lineage.'][genes.index.tolist()].tolist()\n",
    "meta_list1"
   ]
  },
  {
   "cell_type": "code",
   "execution_count": null,
   "metadata": {},
   "outputs": [],
   "source": [
    "genes = pd.read_csv('./datas/111/BRCA_GSE110686_marker.csv',index_col=0)\n",
    "genes"
   ]
  },
  {
   "cell_type": "code",
   "execution_count": null,
   "metadata": {},
   "outputs": [],
   "source": [
    "adata1.obs"
   ]
  },
  {
   "cell_type": "code",
   "execution_count": null,
   "metadata": {},
   "outputs": [],
   "source": []
  },
  {
   "cell_type": "code",
   "execution_count": null,
   "metadata": {},
   "outputs": [],
   "source": [
    "genes = pd.merge(genes,t,left_index=True,right_index=True)\n",
    "genes"
   ]
  },
  {
   "cell_type": "code",
   "execution_count": null,
   "metadata": {},
   "outputs": [],
   "source": [
    "genes"
   ]
  },
  {
   "cell_type": "code",
   "execution_count": null,
   "metadata": {},
   "outputs": [],
   "source": [
    "genes=genes.T[t.index.tolist()].T\n",
    "genes"
   ]
  },
  {
   "cell_type": "code",
   "execution_count": null,
   "metadata": {},
   "outputs": [],
   "source": [
    "t"
   ]
  },
  {
   "cell_type": "code",
   "execution_count": null,
   "metadata": {},
   "outputs": [],
   "source": [
    "t= pd.get_dummies(adata1.obs, columns=['celltype'])\n",
    "t=t.drop('celltype1',axis=1)\n",
    "t\n"
   ]
  },
  {
   "cell_type": "code",
   "execution_count": null,
   "metadata": {},
   "outputs": [],
   "source": []
  },
  {
   "cell_type": "code",
   "execution_count": null,
   "metadata": {},
   "outputs": [],
   "source": [
    "t= np.array(genes)\n",
    "t"
   ]
  },
  {
   "cell_type": "code",
   "execution_count": null,
   "metadata": {},
   "outputs": [],
   "source": [
    "genes"
   ]
  },
  {
   "cell_type": "code",
   "execution_count": null,
   "metadata": {},
   "outputs": [],
   "source": [
    "unique_rows = np.unique(t, axis=0)\n",
    "unique_rows.shape"
   ]
  },
  {
   "cell_type": "code",
   "execution_count": null,
   "metadata": {},
   "outputs": [],
   "source": [
    "adata1.obs['leiden'].unique()"
   ]
  },
  {
   "cell_type": "code",
   "execution_count": 5,
   "metadata": {},
   "outputs": [
    {
     "data": {
      "text/plain": [
       "<All keys matched successfully>"
      ]
     },
     "execution_count": 5,
     "metadata": {},
     "output_type": "execute_result"
    }
   ],
   "source": [
    "meta_list1 = np.load(folder_path1+'meta_list.npy')\n",
    "adata1 = sc.read_h5ad(folder_path1+\"save.h5ad\")\n",
    "params = torch.load((folder_path1+'model4.pth'), map_location=torch.device('cpu'))\n",
    "model = HypHC(44, 2, 5e-2, 5e-2 ,0.999)\n",
    "\n",
    "model.load_state_dict(params, strict=False)"
   ]
  },
  {
   "cell_type": "code",
   "execution_count": null,
   "metadata": {},
   "outputs": [],
   "source": [
    "adata1.write_h5ad(folder_path1+\"save.h5ad\")\n",
    "np.save(folder_path1+'meta_list.npy',np.array(meta_list1))"
   ]
  },
  {
   "cell_type": "code",
   "execution_count": null,
   "metadata": {},
   "outputs": [],
   "source": [
    "celltypes = []\n",
    "for i in genes.values:\n",
    "    for j in range(len(unique_rows)):\n",
    "        if((i == unique_rows[j]).all()):\n",
    "            celltypes.append(str(j))\n",
    "print(celltypes)"
   ]
  },
  {
   "cell_type": "markdown",
   "metadata": {},
   "source": []
  },
  {
   "cell_type": "code",
   "execution_count": null,
   "metadata": {},
   "outputs": [],
   "source": [
    "len(celltypes)"
   ]
  },
  {
   "cell_type": "code",
   "execution_count": null,
   "metadata": {},
   "outputs": [],
   "source": [
    "adata1 = sc.AnnData(genes)\n",
    "adata1"
   ]
  },
  {
   "cell_type": "code",
   "execution_count": null,
   "metadata": {},
   "outputs": [],
   "source": [
    "adata1.obs['leiden'] = celltypes\n",
    "adata1.obs"
   ]
  },
  {
   "cell_type": "code",
   "execution_count": null,
   "metadata": {},
   "outputs": [],
   "source": [
    "adata1.obs['celltype'] = meta_list2\n",
    "adata1.obs"
   ]
  },
  {
   "cell_type": "code",
   "execution_count": null,
   "metadata": {},
   "outputs": [],
   "source": [
    "adata1.obs"
   ]
  },
  {
   "cell_type": "code",
   "execution_count": null,
   "metadata": {},
   "outputs": [],
   "source": [
    "adata1.obs['celltype1'] = meta_list1\n",
    "adata1.obs"
   ]
  },
  {
   "cell_type": "code",
   "execution_count": null,
   "metadata": {},
   "outputs": [],
   "source": [
    "adata1 = adata1[adata1.obs[adata1.obs['celltype1'] =='CD4Tconv'].index]\n",
    "adata1"
   ]
  },
  {
   "cell_type": "code",
   "execution_count": 4,
   "metadata": {},
   "outputs": [],
   "source": [
    "cell_path1 = './datas/111/CHOL_GSE142784.h5ad'\n",
    "folder_path1 = './datas/miss/1/'\n",
    "radius1 = 0\n",
    "c1 =0\n",
    "epoches1 =  50\n",
    "epoches2 =  10\n",
    "contin = False\n",
    "resolution=2\n",
    "method='average'\n",
    "alignment=1\n",
    "n_pca=50\n",
    "meta_col = 'Celltype..major.lineage.'\n",
    "mst = False\n"
   ]
  },
  {
   "cell_type": "code",
   "execution_count": 5,
   "metadata": {},
   "outputs": [
    {
     "data": {
      "text/plain": [
       "'./datas/111/CHOL_GSE142784.h5ad'"
      ]
     },
     "execution_count": 5,
     "metadata": {},
     "output_type": "execute_result"
    }
   ],
   "source": [
    "cell_path1"
   ]
  },
  {
   "cell_type": "code",
   "execution_count": 6,
   "metadata": {},
   "outputs": [],
   "source": [
    "data_path=folder_path1+'datas.data'\n",
    "start=1\n",
    "end=50\n",
    "label=0\n",
    "epoches1=10\n",
    "epoches2=10\n",
    "model_path=None\n",
    "model_path2=None\n",
    "save_path='./', \n",
    "mst = False,\n",
    "rotate = True\n"
   ]
  },
  {
   "cell_type": "code",
   "execution_count": null,
   "metadata": {},
   "outputs": [],
   "source": [
    "adata1 = sc.read_h5ad(folder_path1+ 'adata.h5ad')"
   ]
  },
  {
   "cell_type": "code",
   "execution_count": null,
   "metadata": {},
   "outputs": [],
   "source": [
    "adata1"
   ]
  },
  {
   "cell_type": "code",
   "execution_count": null,
   "metadata": {},
   "outputs": [],
   "source": [
    "sc.pp.highly_variable_genes(\n",
    "    adata1,\n",
    "    min_mean=0.0125,\n",
    "    max_mean=3,\n",
    "    min_disp=0.5,\n",
    "    n_top_genes=2000\n",
    ")\n",
    "adata1._inplace_subset_var(adata1.var['highly_variable'])\n"
   ]
  },
  {
   "cell_type": "code",
   "execution_count": null,
   "metadata": {},
   "outputs": [],
   "source": [
    "\n",
    "\n",
    "\n",
    "preprocessing_cluster(adata1,N_pcs=10,resolution=5)\n",
    "\n",
    "inter_gene = sort_data(adata1,adata1)\n",
    "\n",
    "tmp1 = calculate_cluster_centroid_for_genes(adata1,inter_gene,folder_path1) \n",
    "\n",
    "\n",
    "meta_list1 = calculate_cluster_celltype(adata1);\n",
    "calculate_meta_ori(folder_path1,adata1);"
   ]
  },
  {
   "cell_type": "code",
   "execution_count": null,
   "metadata": {},
   "outputs": [],
   "source": [
    "sc.pp.neighbors(adata1,\n",
    "                n_neighbors=30,\n",
    "                random_state=1234,\n",
    "                use_rep='X'\n",
    "                )\n",
    "sc.tl.diffmap(adata1,random_state=1234)\n",
    "sc.tl.umap(adata1,random_state=1234)\n"
   ]
  },
  {
   "cell_type": "code",
   "execution_count": null,
   "metadata": {},
   "outputs": [],
   "source": [
    "sc.tl.leiden(adata1,random_state=1234,resolution = 9)\n",
    "sc.tl.paga(adata1, groups='leiden')"
   ]
  },
  {
   "cell_type": "code",
   "execution_count": null,
   "metadata": {},
   "outputs": [],
   "source": [
    "inter_gene = adata1.var.index.tolist()\n",
    "tmp1 = calculate_cluster_centroid_for_genes(adata1,inter_gene,folder_path1,X_dimension='X') \n",
    "meta_list1 = calculate_cluster_celltype(adata1);"
   ]
  },
  {
   "cell_type": "code",
   "execution_count": null,
   "metadata": {},
   "outputs": [],
   "source": [
    "adata1"
   ]
  },
  {
   "cell_type": "code",
   "execution_count": null,
   "metadata": {},
   "outputs": [],
   "source": [
    "meta_list1"
   ]
  },
  {
   "cell_type": "code",
   "execution_count": null,
   "metadata": {},
   "outputs": [],
   "source": [
    "sc.pp.filter_genes(adata1, min_cells=3)\n",
    "adata1"
   ]
  },
  {
   "cell_type": "code",
   "execution_count": null,
   "metadata": {},
   "outputs": [],
   "source": [
    "adata1.obs.groupby('leiden').describe()"
   ]
  },
  {
   "cell_type": "code",
   "execution_count": null,
   "metadata": {},
   "outputs": [],
   "source": [
    "adata1"
   ]
  },
  {
   "cell_type": "code",
   "execution_count": null,
   "metadata": {},
   "outputs": [],
   "source": [
    "len(meta_list1)"
   ]
  },
  {
   "cell_type": "code",
   "execution_count": null,
   "metadata": {},
   "outputs": [],
   "source": [
    "def add_meta(now,meta_list,merge):\n",
    "    if(int(now.name)<len(meta_list)):\n",
    "        now.name= now.name +'_'+ meta_list[int(now.name)];\n",
    "    merge.append(now)\n",
    "    for i in now.son:\n",
    "        add_meta(i,meta_list,merge)\n",
    "def remove_meta(now):\n",
    "    if(len(now.name.split('_')) >1):\n",
    "        now.name = now.name.split('_')[0]\n",
    "    for i in now.son:\n",
    "        remove_meta(i)"
   ]
  },
  {
   "cell_type": "code",
   "execution_count": 6,
   "metadata": {},
   "outputs": [
    {
     "data": {
      "text/plain": [
       "<function core.add_meta(now, meta_list, merge)>"
      ]
     },
     "execution_count": 6,
     "metadata": {},
     "output_type": "execute_result"
    }
   ],
   "source": [
    "add_meta"
   ]
  },
  {
   "cell_type": "code",
   "execution_count": null,
   "metadata": {},
   "outputs": [],
   "source": [
    "tmp1.shape[1]+1"
   ]
  },
  {
   "cell_type": "code",
   "execution_count": null,
   "metadata": {},
   "outputs": [],
   "source": [
    "adata1.var"
   ]
  },
  {
   "cell_type": "code",
   "execution_count": 27,
   "metadata": {},
   "outputs": [
    {
     "name": "stdout",
     "output_type": "stream",
     "text": [
      "./datas/miss/1/datas.data length:44\n",
      "Generating all pairs 13244\n"
     ]
    },
    {
     "name": "stdout",
     "output_type": "stream",
     "text": [
      "\t Epoch 0 | average train loss: 0.949100\n",
      "Optimization finished.\n",
      "\t Epoch 1 | average train loss: 0.893398\n",
      "Optimization finished.\n",
      "\t Epoch 2 | average train loss: 0.886148\n",
      "Optimization finished.\n",
      "\t Epoch 3 | average train loss: 0.883789\n",
      "Optimization finished.\n",
      "\t Epoch 4 | average train loss: 0.881823\n",
      "Optimization finished.\n",
      "\t Epoch 5 | average train loss: 0.879715\n",
      "Optimization finished.\n",
      "\t Epoch 6 | average train loss: 0.879312\n",
      "Optimization finished.\n",
      "\t Epoch 7 | average train loss: 0.879304\n",
      "Optimization finished.\n",
      "\t Epoch 8 | average train loss: 0.879123\n",
      "Optimization finished.\n",
      "\t Epoch 9 | average train loss: 0.879063\n",
      "Optimization finished.\n",
      "\t Epoch 10 | average train loss: 0.879035\n",
      "Optimization finished.\n",
      "\t Epoch 11 | average train loss: 0.878968\n",
      "Optimization finished.\n",
      "\t Epoch 12 | average train loss: 0.878934\n",
      "Optimization finished.\n",
      "\t Epoch 13 | average train loss: 0.878900\n",
      "Optimization finished.\n",
      "\t Epoch 14 | average train loss: 0.878853\n",
      "Optimization finished.\n",
      "\t Epoch 15 | average train loss: 0.878869\n",
      "Optimization finished.\n",
      "\t Epoch 16 | average train loss: 0.878977\n",
      "Optimization finished.\n",
      "\t Epoch 17 | average train loss: 0.878949\n",
      "Optimization finished.\n",
      "\t Epoch 18 | average train loss: 0.879142\n",
      "Optimization finished.\n",
      "\t Epoch 19 | average train loss: 0.878971\n",
      "Optimization finished.\n",
      "\t Epoch 20 | average train loss: 0.878913\n",
      "Optimization finished.\n",
      "\t Epoch 21 | average train loss: 0.878944\n",
      "Optimization finished.\n",
      "\t Epoch 22 | average train loss: 0.878889\n",
      "Optimization finished.\n",
      "\t Epoch 23 | average train loss: 0.878938\n",
      "Optimization finished.\n",
      "\t Epoch 24 | average train loss: 0.878941\n",
      "early stopping.\n"
     ]
    }
   ],
   "source": [
    "np.random.seed(1234)\n",
    "torch.manual_seed(1234)\n",
    "x, y_true, similarities = load_data(data_path,start,637,label)\n",
    "print(\"{} length:{}\".format(data_path,len(y_true)));\n",
    "dataset = HCDataset(x, y_true, similarities, num_samples=-1)\n",
    "dataloader = data.DataLoader(dataset, batch_size=32, shuffle=True, pin_memory=True)\n",
    "model = HypHC(dataset.n_nodes, 2, 5e-2, 5e-2 ,0.999)\n",
    "\n",
    "# model.to(\"cpu\")\n",
    "Optimizer = getattr(optim, 'RAdam')\n",
    "optimizer = Optimizer(model.parameters(),0.0005)\n",
    "train(model,dataloader,optimizer,similarities,100);\n"
   ]
  },
  {
   "cell_type": "code",
   "execution_count": null,
   "metadata": {},
   "outputs": [],
   "source": [
    "torch.save(model.state_dict(),folder_path1+'model4.pth');\n"
   ]
  },
  {
   "cell_type": "code",
   "execution_count": 7,
   "metadata": {},
   "outputs": [],
   "source": [
    "x=[0 for i in range(44)]"
   ]
  },
  {
   "cell_type": "code",
   "execution_count": 28,
   "metadata": {},
   "outputs": [
    {
     "name": "stderr",
     "output_type": "stream",
     "text": [
      "/Users/dongjiajie/Desktop/alignment/fyp/hyperalignment/final/utils/mst.py:4: DeprecationWarning:\n",
      "\n",
      "`np.int` is a deprecated alias for the builtin `int`. To silence this warning, use `int` by itself. Doing this will not modify any behavior and is safe. When replacing `np.int`, you may wish to use e.g. `np.int64` or `np.int32` to specify the precision. If you wish to review your current use, check the release note link for additional information.\n",
      "Deprecated in NumPy 1.20; for more details and guidance: https://numpy.org/devdocs/release/1.20.0-notes.html#deprecations\n",
      "\n",
      "/Users/dongjiajie/Desktop/alignment/fyp/hyperalignment/final/utils/mst.py:10: DeprecationWarning:\n",
      "\n",
      "`np.int` is a deprecated alias for the builtin `int`. To silence this warning, use `int` by itself. Doing this will not modify any behavior and is safe. When replacing `np.int`, you may wish to use e.g. `np.int64` or `np.int32` to specify the precision. If you wish to review your current use, check the release note link for additional information.\n",
      "Deprecated in NumPy 1.20; for more details and guidance: https://numpy.org/devdocs/release/1.20.0-notes.html#deprecations\n",
      "\n",
      "/Users/dongjiajie/Desktop/alignment/fyp/hyperalignment/final/utils/mst.py:15: DeprecationWarning:\n",
      "\n",
      "`np.int` is a deprecated alias for the builtin `int`. To silence this warning, use `int` by itself. Doing this will not modify any behavior and is safe. When replacing `np.int`, you may wish to use e.g. `np.int64` or `np.int32` to specify the precision. If you wish to review your current use, check the release note link for additional information.\n",
      "Deprecated in NumPy 1.20; for more details and guidance: https://numpy.org/devdocs/release/1.20.0-notes.html#deprecations\n",
      "\n"
     ]
    }
   ],
   "source": [
    "model.eval()\n",
    "\n",
    "sim_fn = lambda x, y: torch.sum(x * y, dim=-1)\n",
    "n=len(x);\n",
    "leaves_embeddings = model.normalize_embeddings(model.embeddings.weight.data)\n",
    "leaves_embeddings = project(leaves_embeddings).detach().cpu()\n",
    "ijs = sl_np_mst_ij(leaves_embeddings,sim_fn)\n",
    "uf = UnionFind(n)\n",
    "uf.merge(ijs)\n",
    "\n",
    "tree = nx.DiGraph()\n",
    "for i, j in enumerate(uf.tree()[:-1]):\n",
    "    if(j!=-1):\n",
    "        tree.add_edge(j, i)\n",
    "\n",
    "n = len(leaves_embeddings)\n",
    "embeddings = complete_tree(tree, leaves_embeddings)"
   ]
  },
  {
   "cell_type": "code",
   "execution_count": 30,
   "metadata": {},
   "outputs": [
    {
     "data": {
      "image/png": "[encoded data removed]",
      "text/plain": [
       "<Figure size 1500x1500 with 1 Axes>"
      ]
     },
     "metadata": {},
     "output_type": "display_data"
    }
   ],
   "source": [
    "colors = get_colors(meta_list1, 1234)\n",
    "fig = plt.figure(figsize=(15, 15))\n",
    "ax = fig.add_subplot(111)\n",
    "circle = plt.Circle((0, 0), 1.0, color='r', alpha=0.1)\n",
    "ax.add_artist(circle)\n",
    "ax.scatter(embeddings[:n, 0], embeddings[:n, 1], c=colors, s=50, alpha=0.6)\n",
    "# ax.scatter(embeddings[n:,0],embeddings[n:,1],color ='black',s=20,alpha=0.6)\n",
    "for n1, n2 in tree.edges():\n",
    "    x1 = embeddings[n1];\n",
    "    x2 = embeddings[n2]\n",
    "    plot_geodesic(x1,x2,ax)"
   ]
  },
  {
   "cell_type": "code",
   "execution_count": 31,
   "metadata": {},
   "outputs": [],
   "source": [
    "\n",
    "nodes1 = [node(name=str(i),son=[]) for i in range(len(uf.tree()))]\n",
    "for i in range(n):\n",
    "    nodes1[i].subson=[i];\n",
    "for i,j in enumerate(uf.tree()):\n",
    "    if(j!=-1):\n",
    "        nodes1[j].son.append(nodes1[i])\n",
    "    nodes1[i].value=torch.tensor(embeddings[i]);\n",
    "    nodes1[i].hyper=torch.tensor(embeddings[i])\n",
    "root = nodes1[-1];"
   ]
  },
  {
   "cell_type": "code",
   "execution_count": 32,
   "metadata": {},
   "outputs": [
    {
     "data": {
      "text/plain": [
       "44"
      ]
     },
     "execution_count": 32,
     "metadata": {},
     "output_type": "execute_result"
    }
   ],
   "source": [
    "n"
   ]
  },
  {
   "cell_type": "code",
   "execution_count": 33,
   "metadata": {},
   "outputs": [],
   "source": [
    "def rotate(nodes,embeddings,epoches2):\n",
    "    deep_search_tree(root,0,[],root)\n",
    "    result = []\n",
    "    distances = []\n",
    "    for i in nodes:\n",
    "        if(int(i)>=n):\n",
    "            if(int(i.son[0]) <n and int(i.son[1])<n ):\n",
    "                for i1,j1 in itertools.combinations(i.subson,2):\n",
    "                    for j in i.rest(n):\n",
    "                        result.append([[i1,j1],j,int(i),1,int(j)])\n",
    "                    \n",
    "    for i in nodes[:-1]:\n",
    "        if(int(i)>=n and len(i.son)>=2):\n",
    "            for i1 in range(len(i.subson)):\n",
    "                for i2 in range(i1+1,len(i.subson)):\n",
    "                    for j in i.rest(n):\n",
    "                        result.append([[i.subson[i1],i.subson[i2]],j,int(i),0,int(i.f)])\n",
    "            \n",
    "    for i in nodes:\n",
    "        distances.append(i.distance_to_root);\n",
    "    distances = torch.tensor(distances)\n",
    "\n",
    "    dataset_test = balance_dataset(similarities,len(result),embeddings,distances,result)\n",
    "    dataloader = data.DataLoader(dataset_test, batch_size=1, shuffle=False, pin_memory=True)\n",
    "    model2 = balancehc(nodes1,torch.tensor(embeddings),hyperparamter = 1)\n",
    "    Optimizer = getattr(optim, 'RAdam')\n",
    "    optimizer = Optimizer(model2.parameters(),0.0005)\n",
    "    train2(model2,dataloader,optimizer,epoches2)\n",
    "    temp = model2.embeddings.weight.data\n",
    "    return temp"
   ]
  },
  {
   "cell_type": "code",
   "execution_count": null,
   "metadata": {},
   "outputs": [],
   "source": [
    "temp = rotate(nodes1,embeddings,20)\n",
    "for i in nodes1:\n",
    "    i.hyper = temp[int(i)]\n",
    "    i.value =  temp[int(i)]\n",
    "embeddings = temp.numpy();\n",
    "root = nodes1[-1]"
   ]
  },
  {
   "cell_type": "code",
   "execution_count": 34,
   "metadata": {},
   "outputs": [
    {
     "name": "stdout",
     "output_type": "stream",
     "text": [
      "{'empty': '#fff', 'Th2': '#1a759f', 'Th17': '#168aad', 'CD4Tn': '#34a0a4', 'Tfh': '#52b69a'}\n"
     ]
    },
    {
     "data": {
      "application/vnd.plotly.v1+json": {
       "config": {
        "plotlyServerURL": "https://plot.ly"
       },
       "data": [
        {
         "hoverinfo": "text",
         "hovertext": [
          "86",
          "83",
          "75",
          "51",
          "49",
          "80",
          "70",
          "53",
          "68",
          "78",
          "64",
          "59",
          "48",
          "65",
          "52",
          "60",
          "85",
          "82",
          "77",
          "72",
          "62",
          "61",
          "74",
          "56",
          "50",
          "79",
          "67",
          "66",
          "54",
          "73",
          "63",
          "58",
          "84",
          "55",
          "44",
          "47",
          "81",
          "71",
          "57",
          "45",
          "76",
          "69",
          "46"
         ],
         "legendgroup": "empty",
         "marker": {
          "color": "#fff",
          "size": 10,
          "symbol": "circle-dot"
         },
         "mode": "markers+text",
         "name": "empty",
         "type": "scatter",
         "x": [
          5.5,
          3.25,
          2.125,
          2.6875,
          2.96875,
          4.375,
          3.8125,
          3.53125,
          4.09375,
          4.9375,
          4.65625,
          4.796875,
          4.8671875,
          5.21875,
          5.078125,
          5.359375,
          7.75,
          6.625,
          6.0625,
          5.78125,
          5.921875,
          5.9921875,
          6.34375,
          6.484375,
          6.5546875,
          7.1875,
          6.90625,
          7.046875,
          7.1171875,
          7.46875,
          7.609375,
          7.6796875,
          8.875,
          8.3125,
          8.03125,
          8.59375,
          9.4375,
          9.15625,
          9.296875,
          9.3671875,
          9.71875,
          9.859375,
          9.9296875
         ],
         "y": [
          5,
          3.5,
          2,
          0.5,
          -1,
          2,
          0.5,
          -1,
          -1,
          0.5,
          -1,
          -2.5,
          -4,
          -1,
          -2.5,
          -2.5,
          3.5,
          2,
          0.5,
          -1,
          -2.5,
          -4,
          -1,
          -2.5,
          -4,
          0.5,
          -1,
          -2.5,
          -4,
          -1,
          -2.5,
          -4,
          2,
          0.5,
          -1,
          -1,
          0.5,
          -1,
          -2.5,
          -4,
          -1,
          -2.5,
          -4
         ]
        },
        {
         "hoverinfo": "text",
         "hovertext": [
          "36_Th2",
          "32_Th2",
          "28_Th2",
          "40_Th2",
          "4_Th2",
          "8_Th2",
          "0_Th2",
          "12_Th2",
          "20_Th2",
          "24_Th2",
          "16_Th2"
         ],
         "legendgroup": "Th2",
         "marker": {
          "color": "#1a759f",
          "size": 10,
          "symbol": "circle-dot"
         },
         "mode": "markers+text",
         "name": "Th2",
         "type": "scatter",
         "x": [
          2.828125,
          3.390625,
          4.515625,
          5.2890625,
          5.8515625,
          6.51953125,
          6.9765625,
          7.64453125,
          7.890625,
          9.015625,
          9.578125
         ],
         "y": [
          -2.5,
          -2.5,
          -2.5,
          -4,
          -4,
          -5.5,
          -4,
          -5.5,
          -2.5,
          -2.5,
          -2.5
         ]
        },
        {
         "hoverinfo": "text",
         "hovertext": [
          "37_Th17",
          "33_Th17",
          "29_Th17",
          "41_Th17",
          "5_Th17",
          "9_Th17",
          "1_Th17",
          "13_Th17",
          "21_Th17",
          "25_Th17",
          "17_Th17"
         ],
         "legendgroup": "Th17",
         "marker": {
          "color": "#168aad",
          "size": 10,
          "symbol": "circle-dot"
         },
         "mode": "markers+text",
         "name": "Th17",
         "type": "scatter",
         "x": [
          1.5625,
          3.953125,
          4.83203125,
          5.4296875,
          5.95703125,
          6.58984375,
          7.08203125,
          7.328125,
          8.453125,
          9.2265625,
          9.89453125
         ],
         "y": [
          0.5,
          -2.5,
          -5.5,
          -4,
          -5.5,
          -5.5,
          -5.5,
          -2.5,
          -2.5,
          -4,
          -5.5
         ]
        },
        {
         "hoverinfo": "text",
         "hovertext": [
          "39_CD4Tn",
          "35_CD4Tn",
          "31_CD4Tn",
          "43_CD4Tn",
          "7_CD4Tn",
          "11_CD4Tn",
          "3_CD4Tn",
          "15_CD4Tn",
          "23_CD4Tn",
          "27_CD4Tn",
          "19_CD4Tn"
         ],
         "legendgroup": "CD4Tn",
         "marker": {
          "color": "#34a0a4",
          "size": 10,
          "symbol": "circle-dot"
         },
         "mode": "markers+text",
         "name": "CD4Tn",
         "type": "scatter",
         "x": [
          3.109375,
          3.671875,
          4.90234375,
          5.1484375,
          5.640625,
          6.4140625,
          6.765625,
          7.71484375,
          8.171875,
          9.40234375,
          9.7890625
         ],
         "y": [
          -2.5,
          -2.5,
          -5.5,
          -4,
          -2.5,
          -4,
          -2.5,
          -5.5,
          -2.5,
          -5.5,
          -4
         ]
        },
        {
         "hoverinfo": "text",
         "hovertext": [
          "38_Tfh",
          "34_Tfh",
          "30_Tfh",
          "42_Tfh",
          "6_Tfh",
          "10_Tfh",
          "2_Tfh",
          "14_Tfh",
          "22_Tfh",
          "26_Tfh",
          "18_Tfh"
         ],
         "legendgroup": "Tfh",
         "marker": {
          "color": "#52b69a",
          "size": 10,
          "symbol": "circle-dot"
         },
         "mode": "markers+text",
         "name": "Tfh",
         "type": "scatter",
         "x": [
          2.40625,
          4.234375,
          4.7265625,
          5.0078125,
          6.02734375,
          6.203125,
          7.15234375,
          7.5390625,
          8.734375,
          9.33203125,
          9.96484375
         ],
         "y": [
          -1,
          -2.5,
          -4,
          -4,
          -5.5,
          -2.5,
          -5.5,
          -4,
          -2.5,
          -5.5,
          -5.5
         ]
        }
       ],
       "layout": {
        "height": 500,
        "shapes": [
         {
          "layer": "below",
          "line": {
           "color": "#333",
           "width": 2
          },
          "type": "line",
          "x0": 5.5,
          "x1": 5.5,
          "y0": 5,
          "y1": 5
         },
         {
          "layer": "below",
          "line": {
           "color": "#333",
           "width": 2
          },
          "type": "line",
          "x0": 5.5,
          "x1": 3.25,
          "y0": 5,
          "y1": 3.5
         },
         {
          "layer": "below",
          "line": {
           "color": "#333",
           "width": 2
          },
          "type": "line",
          "x0": 3.25,
          "x1": 2.125,
          "y0": 3.5,
          "y1": 2
         },
         {
          "layer": "below",
          "line": {
           "color": "#333",
           "width": 2
          },
          "type": "line",
          "x0": 2.125,
          "x1": 1.5625,
          "y0": 2,
          "y1": 0.5
         },
         {
          "layer": "below",
          "line": {
           "color": "#333",
           "width": 2
          },
          "type": "line",
          "x0": 2.125,
          "x1": 2.6875,
          "y0": 2,
          "y1": 0.5
         },
         {
          "layer": "below",
          "line": {
           "color": "#333",
           "width": 2
          },
          "type": "line",
          "x0": 2.6875,
          "x1": 2.40625,
          "y0": 0.5,
          "y1": -1
         },
         {
          "layer": "below",
          "line": {
           "color": "#333",
           "width": 2
          },
          "type": "line",
          "x0": 2.6875,
          "x1": 2.96875,
          "y0": 0.5,
          "y1": -1
         },
         {
          "layer": "below",
          "line": {
           "color": "#333",
           "width": 2
          },
          "type": "line",
          "x0": 2.96875,
          "x1": 2.828125,
          "y0": -1,
          "y1": -2.5
         },
         {
          "layer": "below",
          "line": {
           "color": "#333",
           "width": 2
          },
          "type": "line",
          "x0": 2.96875,
          "x1": 3.109375,
          "y0": -1,
          "y1": -2.5
         },
         {
          "layer": "below",
          "line": {
           "color": "#333",
           "width": 2
          },
          "type": "line",
          "x0": 3.25,
          "x1": 4.375,
          "y0": 3.5,
          "y1": 2
         },
         {
          "layer": "below",
          "line": {
           "color": "#333",
           "width": 2
          },
          "type": "line",
          "x0": 4.375,
          "x1": 3.8125,
          "y0": 2,
          "y1": 0.5
         },
         {
          "layer": "below",
          "line": {
           "color": "#333",
           "width": 2
          },
          "type": "line",
          "x0": 3.8125,
          "x1": 3.53125,
          "y0": 0.5,
          "y1": -1
         },
         {
          "layer": "below",
          "line": {
           "color": "#333",
           "width": 2
          },
          "type": "line",
          "x0": 3.53125,
          "x1": 3.390625,
          "y0": -1,
          "y1": -2.5
         },
         {
          "layer": "below",
          "line": {
           "color": "#333",
           "width": 2
          },
          "type": "line",
          "x0": 3.53125,
          "x1": 3.671875,
          "y0": -1,
          "y1": -2.5
         },
         {
          "layer": "below",
          "line": {
           "color": "#333",
           "width": 2
          },
          "type": "line",
          "x0": 3.8125,
          "x1": 4.09375,
          "y0": 0.5,
          "y1": -1
         },
         {
          "layer": "below",
          "line": {
           "color": "#333",
           "width": 2
          },
          "type": "line",
          "x0": 4.09375,
          "x1": 3.953125,
          "y0": -1,
          "y1": -2.5
         },
         {
          "layer": "below",
          "line": {
           "color": "#333",
           "width": 2
          },
          "type": "line",
          "x0": 4.09375,
          "x1": 4.234375,
          "y0": -1,
          "y1": -2.5
         },
         {
          "layer": "below",
          "line": {
           "color": "#333",
           "width": 2
          },
          "type": "line",
          "x0": 4.375,
          "x1": 4.9375,
          "y0": 2,
          "y1": 0.5
         },
         {
          "layer": "below",
          "line": {
           "color": "#333",
           "width": 2
          },
          "type": "line",
          "x0": 4.9375,
          "x1": 4.65625,
          "y0": 0.5,
          "y1": -1
         },
         {
          "layer": "below",
          "line": {
           "color": "#333",
           "width": 2
          },
          "type": "line",
          "x0": 4.65625,
          "x1": 4.515625,
          "y0": -1,
          "y1": -2.5
         },
         {
          "layer": "below",
          "line": {
           "color": "#333",
           "width": 2
          },
          "type": "line",
          "x0": 4.65625,
          "x1": 4.796875,
          "y0": -1,
          "y1": -2.5
         },
         {
          "layer": "below",
          "line": {
           "color": "#333",
           "width": 2
          },
          "type": "line",
          "x0": 4.796875,
          "x1": 4.7265625,
          "y0": -2.5,
          "y1": -4
         },
         {
          "layer": "below",
          "line": {
           "color": "#333",
           "width": 2
          },
          "type": "line",
          "x0": 4.796875,
          "x1": 4.8671875,
          "y0": -2.5,
          "y1": -4
         },
         {
          "layer": "below",
          "line": {
           "color": "#333",
           "width": 2
          },
          "type": "line",
          "x0": 4.8671875,
          "x1": 4.83203125,
          "y0": -4,
          "y1": -5.5
         },
         {
          "layer": "below",
          "line": {
           "color": "#333",
           "width": 2
          },
          "type": "line",
          "x0": 4.8671875,
          "x1": 4.90234375,
          "y0": -4,
          "y1": -5.5
         },
         {
          "layer": "below",
          "line": {
           "color": "#333",
           "width": 2
          },
          "type": "line",
          "x0": 4.9375,
          "x1": 5.21875,
          "y0": 0.5,
          "y1": -1
         },
         {
          "layer": "below",
          "line": {
           "color": "#333",
           "width": 2
          },
          "type": "line",
          "x0": 5.21875,
          "x1": 5.078125,
          "y0": -1,
          "y1": -2.5
         },
         {
          "layer": "below",
          "line": {
           "color": "#333",
           "width": 2
          },
          "type": "line",
          "x0": 5.078125,
          "x1": 5.0078125,
          "y0": -2.5,
          "y1": -4
         },
         {
          "layer": "below",
          "line": {
           "color": "#333",
           "width": 2
          },
          "type": "line",
          "x0": 5.078125,
          "x1": 5.1484375,
          "y0": -2.5,
          "y1": -4
         },
         {
          "layer": "below",
          "line": {
           "color": "#333",
           "width": 2
          },
          "type": "line",
          "x0": 5.21875,
          "x1": 5.359375,
          "y0": -1,
          "y1": -2.5
         },
         {
          "layer": "below",
          "line": {
           "color": "#333",
           "width": 2
          },
          "type": "line",
          "x0": 5.359375,
          "x1": 5.2890625,
          "y0": -2.5,
          "y1": -4
         },
         {
          "layer": "below",
          "line": {
           "color": "#333",
           "width": 2
          },
          "type": "line",
          "x0": 5.359375,
          "x1": 5.4296875,
          "y0": -2.5,
          "y1": -4
         },
         {
          "layer": "below",
          "line": {
           "color": "#333",
           "width": 2
          },
          "type": "line",
          "x0": 5.5,
          "x1": 7.75,
          "y0": 5,
          "y1": 3.5
         },
         {
          "layer": "below",
          "line": {
           "color": "#333",
           "width": 2
          },
          "type": "line",
          "x0": 7.75,
          "x1": 6.625,
          "y0": 3.5,
          "y1": 2
         },
         {
          "layer": "below",
          "line": {
           "color": "#333",
           "width": 2
          },
          "type": "line",
          "x0": 6.625,
          "x1": 6.0625,
          "y0": 2,
          "y1": 0.5
         },
         {
          "layer": "below",
          "line": {
           "color": "#333",
           "width": 2
          },
          "type": "line",
          "x0": 6.0625,
          "x1": 5.78125,
          "y0": 0.5,
          "y1": -1
         },
         {
          "layer": "below",
          "line": {
           "color": "#333",
           "width": 2
          },
          "type": "line",
          "x0": 5.78125,
          "x1": 5.640625,
          "y0": -1,
          "y1": -2.5
         },
         {
          "layer": "below",
          "line": {
           "color": "#333",
           "width": 2
          },
          "type": "line",
          "x0": 5.78125,
          "x1": 5.921875,
          "y0": -1,
          "y1": -2.5
         },
         {
          "layer": "below",
          "line": {
           "color": "#333",
           "width": 2
          },
          "type": "line",
          "x0": 5.921875,
          "x1": 5.8515625,
          "y0": -2.5,
          "y1": -4
         },
         {
          "layer": "below",
          "line": {
           "color": "#333",
           "width": 2
          },
          "type": "line",
          "x0": 5.921875,
          "x1": 5.9921875,
          "y0": -2.5,
          "y1": -4
         },
         {
          "layer": "below",
          "line": {
           "color": "#333",
           "width": 2
          },
          "type": "line",
          "x0": 5.9921875,
          "x1": 5.95703125,
          "y0": -4,
          "y1": -5.5
         },
         {
          "layer": "below",
          "line": {
           "color": "#333",
           "width": 2
          },
          "type": "line",
          "x0": 5.9921875,
          "x1": 6.02734375,
          "y0": -4,
          "y1": -5.5
         },
         {
          "layer": "below",
          "line": {
           "color": "#333",
           "width": 2
          },
          "type": "line",
          "x0": 6.0625,
          "x1": 6.34375,
          "y0": 0.5,
          "y1": -1
         },
         {
          "layer": "below",
          "line": {
           "color": "#333",
           "width": 2
          },
          "type": "line",
          "x0": 6.34375,
          "x1": 6.203125,
          "y0": -1,
          "y1": -2.5
         },
         {
          "layer": "below",
          "line": {
           "color": "#333",
           "width": 2
          },
          "type": "line",
          "x0": 6.34375,
          "x1": 6.484375,
          "y0": -1,
          "y1": -2.5
         },
         {
          "layer": "below",
          "line": {
           "color": "#333",
           "width": 2
          },
          "type": "line",
          "x0": 6.484375,
          "x1": 6.4140625,
          "y0": -2.5,
          "y1": -4
         },
         {
          "layer": "below",
          "line": {
           "color": "#333",
           "width": 2
          },
          "type": "line",
          "x0": 6.484375,
          "x1": 6.5546875,
          "y0": -2.5,
          "y1": -4
         },
         {
          "layer": "below",
          "line": {
           "color": "#333",
           "width": 2
          },
          "type": "line",
          "x0": 6.5546875,
          "x1": 6.51953125,
          "y0": -4,
          "y1": -5.5
         },
         {
          "layer": "below",
          "line": {
           "color": "#333",
           "width": 2
          },
          "type": "line",
          "x0": 6.5546875,
          "x1": 6.58984375,
          "y0": -4,
          "y1": -5.5
         },
         {
          "layer": "below",
          "line": {
           "color": "#333",
           "width": 2
          },
          "type": "line",
          "x0": 6.625,
          "x1": 7.1875,
          "y0": 2,
          "y1": 0.5
         },
         {
          "layer": "below",
          "line": {
           "color": "#333",
           "width": 2
          },
          "type": "line",
          "x0": 7.1875,
          "x1": 6.90625,
          "y0": 0.5,
          "y1": -1
         },
         {
          "layer": "below",
          "line": {
           "color": "#333",
           "width": 2
          },
          "type": "line",
          "x0": 6.90625,
          "x1": 6.765625,
          "y0": -1,
          "y1": -2.5
         },
         {
          "layer": "below",
          "line": {
           "color": "#333",
           "width": 2
          },
          "type": "line",
          "x0": 6.90625,
          "x1": 7.046875,
          "y0": -1,
          "y1": -2.5
         },
         {
          "layer": "below",
          "line": {
           "color": "#333",
           "width": 2
          },
          "type": "line",
          "x0": 7.046875,
          "x1": 6.9765625,
          "y0": -2.5,
          "y1": -4
         },
         {
          "layer": "below",
          "line": {
           "color": "#333",
           "width": 2
          },
          "type": "line",
          "x0": 7.046875,
          "x1": 7.1171875,
          "y0": -2.5,
          "y1": -4
         },
         {
          "layer": "below",
          "line": {
           "color": "#333",
           "width": 2
          },
          "type": "line",
          "x0": 7.1171875,
          "x1": 7.08203125,
          "y0": -4,
          "y1": -5.5
         },
         {
          "layer": "below",
          "line": {
           "color": "#333",
           "width": 2
          },
          "type": "line",
          "x0": 7.1171875,
          "x1": 7.15234375,
          "y0": -4,
          "y1": -5.5
         },
         {
          "layer": "below",
          "line": {
           "color": "#333",
           "width": 2
          },
          "type": "line",
          "x0": 7.1875,
          "x1": 7.46875,
          "y0": 0.5,
          "y1": -1
         },
         {
          "layer": "below",
          "line": {
           "color": "#333",
           "width": 2
          },
          "type": "line",
          "x0": 7.46875,
          "x1": 7.328125,
          "y0": -1,
          "y1": -2.5
         },
         {
          "layer": "below",
          "line": {
           "color": "#333",
           "width": 2
          },
          "type": "line",
          "x0": 7.46875,
          "x1": 7.609375,
          "y0": -1,
          "y1": -2.5
         },
         {
          "layer": "below",
          "line": {
           "color": "#333",
           "width": 2
          },
          "type": "line",
          "x0": 7.609375,
          "x1": 7.5390625,
          "y0": -2.5,
          "y1": -4
         },
         {
          "layer": "below",
          "line": {
           "color": "#333",
           "width": 2
          },
          "type": "line",
          "x0": 7.609375,
          "x1": 7.6796875,
          "y0": -2.5,
          "y1": -4
         },
         {
          "layer": "below",
          "line": {
           "color": "#333",
           "width": 2
          },
          "type": "line",
          "x0": 7.6796875,
          "x1": 7.64453125,
          "y0": -4,
          "y1": -5.5
         },
         {
          "layer": "below",
          "line": {
           "color": "#333",
           "width": 2
          },
          "type": "line",
          "x0": 7.6796875,
          "x1": 7.71484375,
          "y0": -4,
          "y1": -5.5
         },
         {
          "layer": "below",
          "line": {
           "color": "#333",
           "width": 2
          },
          "type": "line",
          "x0": 7.75,
          "x1": 8.875,
          "y0": 3.5,
          "y1": 2
         },
         {
          "layer": "below",
          "line": {
           "color": "#333",
           "width": 2
          },
          "type": "line",
          "x0": 8.875,
          "x1": 8.3125,
          "y0": 2,
          "y1": 0.5
         },
         {
          "layer": "below",
          "line": {
           "color": "#333",
           "width": 2
          },
          "type": "line",
          "x0": 8.3125,
          "x1": 8.03125,
          "y0": 0.5,
          "y1": -1
         },
         {
          "layer": "below",
          "line": {
           "color": "#333",
           "width": 2
          },
          "type": "line",
          "x0": 8.03125,
          "x1": 7.890625,
          "y0": -1,
          "y1": -2.5
         },
         {
          "layer": "below",
          "line": {
           "color": "#333",
           "width": 2
          },
          "type": "line",
          "x0": 8.03125,
          "x1": 8.171875,
          "y0": -1,
          "y1": -2.5
         },
         {
          "layer": "below",
          "line": {
           "color": "#333",
           "width": 2
          },
          "type": "line",
          "x0": 8.3125,
          "x1": 8.59375,
          "y0": 0.5,
          "y1": -1
         },
         {
          "layer": "below",
          "line": {
           "color": "#333",
           "width": 2
          },
          "type": "line",
          "x0": 8.59375,
          "x1": 8.453125,
          "y0": -1,
          "y1": -2.5
         },
         {
          "layer": "below",
          "line": {
           "color": "#333",
           "width": 2
          },
          "type": "line",
          "x0": 8.59375,
          "x1": 8.734375,
          "y0": -1,
          "y1": -2.5
         },
         {
          "layer": "below",
          "line": {
           "color": "#333",
           "width": 2
          },
          "type": "line",
          "x0": 8.875,
          "x1": 9.4375,
          "y0": 2,
          "y1": 0.5
         },
         {
          "layer": "below",
          "line": {
           "color": "#333",
           "width": 2
          },
          "type": "line",
          "x0": 9.4375,
          "x1": 9.15625,
          "y0": 0.5,
          "y1": -1
         },
         {
          "layer": "below",
          "line": {
           "color": "#333",
           "width": 2
          },
          "type": "line",
          "x0": 9.15625,
          "x1": 9.015625,
          "y0": -1,
          "y1": -2.5
         },
         {
          "layer": "below",
          "line": {
           "color": "#333",
           "width": 2
          },
          "type": "line",
          "x0": 9.15625,
          "x1": 9.296875,
          "y0": -1,
          "y1": -2.5
         },
         {
          "layer": "below",
          "line": {
           "color": "#333",
           "width": 2
          },
          "type": "line",
          "x0": 9.296875,
          "x1": 9.2265625,
          "y0": -2.5,
          "y1": -4
         },
         {
          "layer": "below",
          "line": {
           "color": "#333",
           "width": 2
          },
          "type": "line",
          "x0": 9.296875,
          "x1": 9.3671875,
          "y0": -2.5,
          "y1": -4
         },
         {
          "layer": "below",
          "line": {
           "color": "#333",
           "width": 2
          },
          "type": "line",
          "x0": 9.3671875,
          "x1": 9.33203125,
          "y0": -4,
          "y1": -5.5
         },
         {
          "layer": "below",
          "line": {
           "color": "#333",
           "width": 2
          },
          "type": "line",
          "x0": 9.3671875,
          "x1": 9.40234375,
          "y0": -4,
          "y1": -5.5
         },
         {
          "layer": "below",
          "line": {
           "color": "#333",
           "width": 2
          },
          "type": "line",
          "x0": 9.4375,
          "x1": 9.71875,
          "y0": 0.5,
          "y1": -1
         },
         {
          "layer": "below",
          "line": {
           "color": "#333",
           "width": 2
          },
          "type": "line",
          "x0": 9.71875,
          "x1": 9.578125,
          "y0": -1,
          "y1": -2.5
         },
         {
          "layer": "below",
          "line": {
           "color": "#333",
           "width": 2
          },
          "type": "line",
          "x0": 9.71875,
          "x1": 9.859375,
          "y0": -1,
          "y1": -2.5
         },
         {
          "layer": "below",
          "line": {
           "color": "#333",
           "width": 2
          },
          "type": "line",
          "x0": 9.859375,
          "x1": 9.7890625,
          "y0": -2.5,
          "y1": -4
         },
         {
          "layer": "below",
          "line": {
           "color": "#333",
           "width": 2
          },
          "type": "line",
          "x0": 9.859375,
          "x1": 9.9296875,
          "y0": -2.5,
          "y1": -4
         },
         {
          "layer": "below",
          "line": {
           "color": "#333",
           "width": 2
          },
          "type": "line",
          "x0": 9.9296875,
          "x1": 9.89453125,
          "y0": -4,
          "y1": -5.5
         },
         {
          "layer": "below",
          "line": {
           "color": "#333",
           "width": 2
          },
          "type": "line",
          "x0": 9.9296875,
          "x1": 9.96484375,
          "y0": -4,
          "y1": -5.5
         }
        ],
        "template": {
         "data": {
          "bar": [
           {
            "error_x": {
             "color": "#2a3f5f"
            },
            "error_y": {
             "color": "#2a3f5f"
            },
            "marker": {
             "line": {
              "color": "#E5ECF6",
              "width": 0.5
             },
             "pattern": {
              "fillmode": "overlay",
              "size": 10,
              "solidity": 0.2
             }
            },
            "type": "bar"
           }
          ],
          "barpolar": [
           {
            "marker": {
             "line": {
              "color": "#E5ECF6",
              "width": 0.5
             },
             "pattern": {
              "fillmode": "overlay",
              "size": 10,
              "solidity": 0.2
             }
            },
            "type": "barpolar"
           }
          ],
          "carpet": [
           {
            "aaxis": {
             "endlinecolor": "#2a3f5f",
             "gridcolor": "white",
             "linecolor": "white",
             "minorgridcolor": "white",
             "startlinecolor": "#2a3f5f"
            },
            "baxis": {
             "endlinecolor": "#2a3f5f",
             "gridcolor": "white",
             "linecolor": "white",
             "minorgridcolor": "white",
             "startlinecolor": "#2a3f5f"
            },
            "type": "carpet"
           }
          ],
          "choropleth": [
           {
            "colorbar": {
             "outlinewidth": 0,
             "ticks": ""
            },
            "type": "choropleth"
           }
          ],
          "contour": [
           {
            "colorbar": {
             "outlinewidth": 0,
             "ticks": ""
            },
            "colorscale": [
             [
              0,
              "#0d0887"
             ],
             [
              0.1111111111111111,
              "#46039f"
             ],
             [
              0.2222222222222222,
              "#7201a8"
             ],
             [
              0.3333333333333333,
              "#9c179e"
             ],
             [
              0.4444444444444444,
              "#bd3786"
             ],
             [
              0.5555555555555556,
              "#d8576b"
             ],
             [
              0.6666666666666666,
              "#ed7953"
             ],
             [
              0.7777777777777778,
              "#fb9f3a"
             ],
             [
              0.8888888888888888,
              "#fdca26"
             ],
             [
              1,
              "#f0f921"
             ]
            ],
            "type": "contour"
           }
          ],
          "contourcarpet": [
           {
            "colorbar": {
             "outlinewidth": 0,
             "ticks": ""
            },
            "type": "contourcarpet"
           }
          ],
          "heatmap": [
           {
            "colorbar": {
             "outlinewidth": 0,
             "ticks": ""
            },
            "colorscale": [
             [
              0,
              "#0d0887"
             ],
             [
              0.1111111111111111,
              "#46039f"
             ],
             [
              0.2222222222222222,
              "#7201a8"
             ],
             [
              0.3333333333333333,
              "#9c179e"
             ],
             [
              0.4444444444444444,
              "#bd3786"
             ],
             [
              0.5555555555555556,
              "#d8576b"
             ],
             [
              0.6666666666666666,
              "#ed7953"
             ],
             [
              0.7777777777777778,
              "#fb9f3a"
             ],
             [
              0.8888888888888888,
              "#fdca26"
             ],
             [
              1,
              "#f0f921"
             ]
            ],
            "type": "heatmap"
           }
          ],
          "heatmapgl": [
           {
            "colorbar": {
             "outlinewidth": 0,
             "ticks": ""
            },
            "colorscale": [
             [
              0,
              "#0d0887"
             ],
             [
              0.1111111111111111,
              "#46039f"
             ],
             [
              0.2222222222222222,
              "#7201a8"
             ],
             [
              0.3333333333333333,
              "#9c179e"
             ],
             [
              0.4444444444444444,
              "#bd3786"
             ],
             [
              0.5555555555555556,
              "#d8576b"
             ],
             [
              0.6666666666666666,
              "#ed7953"
             ],
             [
              0.7777777777777778,
              "#fb9f3a"
             ],
             [
              0.8888888888888888,
              "#fdca26"
             ],
             [
              1,
              "#f0f921"
             ]
            ],
            "type": "heatmapgl"
           }
          ],
          "histogram": [
           {
            "marker": {
             "pattern": {
              "fillmode": "overlay",
              "size": 10,
              "solidity": 0.2
             }
            },
            "type": "histogram"
           }
          ],
          "histogram2d": [
           {
            "colorbar": {
             "outlinewidth": 0,
             "ticks": ""
            },
            "colorscale": [
             [
              0,
              "#0d0887"
             ],
             [
              0.1111111111111111,
              "#46039f"
             ],
             [
              0.2222222222222222,
              "#7201a8"
             ],
             [
              0.3333333333333333,
              "#9c179e"
             ],
             [
              0.4444444444444444,
              "#bd3786"
             ],
             [
              0.5555555555555556,
              "#d8576b"
             ],
             [
              0.6666666666666666,
              "#ed7953"
             ],
             [
              0.7777777777777778,
              "#fb9f3a"
             ],
             [
              0.8888888888888888,
              "#fdca26"
             ],
             [
              1,
              "#f0f921"
             ]
            ],
            "type": "histogram2d"
           }
          ],
          "histogram2dcontour": [
           {
            "colorbar": {
             "outlinewidth": 0,
             "ticks": ""
            },
            "colorscale": [
             [
              0,
              "#0d0887"
             ],
             [
              0.1111111111111111,
              "#46039f"
             ],
             [
              0.2222222222222222,
              "#7201a8"
             ],
             [
              0.3333333333333333,
              "#9c179e"
             ],
             [
              0.4444444444444444,
              "#bd3786"
             ],
             [
              0.5555555555555556,
              "#d8576b"
             ],
             [
              0.6666666666666666,
              "#ed7953"
             ],
             [
              0.7777777777777778,
              "#fb9f3a"
             ],
             [
              0.8888888888888888,
              "#fdca26"
             ],
             [
              1,
              "#f0f921"
             ]
            ],
            "type": "histogram2dcontour"
           }
          ],
          "mesh3d": [
           {
            "colorbar": {
             "outlinewidth": 0,
             "ticks": ""
            },
            "type": "mesh3d"
           }
          ],
          "parcoords": [
           {
            "line": {
             "colorbar": {
              "outlinewidth": 0,
              "ticks": ""
             }
            },
            "type": "parcoords"
           }
          ],
          "pie": [
           {
            "automargin": true,
            "type": "pie"
           }
          ],
          "scatter": [
           {
            "fillpattern": {
             "fillmode": "overlay",
             "size": 10,
             "solidity": 0.2
            },
            "type": "scatter"
           }
          ],
          "scatter3d": [
           {
            "line": {
             "colorbar": {
              "outlinewidth": 0,
              "ticks": ""
             }
            },
            "marker": {
             "colorbar": {
              "outlinewidth": 0,
              "ticks": ""
             }
            },
            "type": "scatter3d"
           }
          ],
          "scattercarpet": [
           {
            "marker": {
             "colorbar": {
              "outlinewidth": 0,
              "ticks": ""
             }
            },
            "type": "scattercarpet"
           }
          ],
          "scattergeo": [
           {
            "marker": {
             "colorbar": {
              "outlinewidth": 0,
              "ticks": ""
             }
            },
            "type": "scattergeo"
           }
          ],
          "scattergl": [
           {
            "marker": {
             "colorbar": {
              "outlinewidth": 0,
              "ticks": ""
             }
            },
            "type": "scattergl"
           }
          ],
          "scattermapbox": [
           {
            "marker": {
             "colorbar": {
              "outlinewidth": 0,
              "ticks": ""
             }
            },
            "type": "scattermapbox"
           }
          ],
          "scatterpolar": [
           {
            "marker": {
             "colorbar": {
              "outlinewidth": 0,
              "ticks": ""
             }
            },
            "type": "scatterpolar"
           }
          ],
          "scatterpolargl": [
           {
            "marker": {
             "colorbar": {
              "outlinewidth": 0,
              "ticks": ""
             }
            },
            "type": "scatterpolargl"
           }
          ],
          "scatterternary": [
           {
            "marker": {
             "colorbar": {
              "outlinewidth": 0,
              "ticks": ""
             }
            },
            "type": "scatterternary"
           }
          ],
          "surface": [
           {
            "colorbar": {
             "outlinewidth": 0,
             "ticks": ""
            },
            "colorscale": [
             [
              0,
              "#0d0887"
             ],
             [
              0.1111111111111111,
              "#46039f"
             ],
             [
              0.2222222222222222,
              "#7201a8"
             ],
             [
              0.3333333333333333,
              "#9c179e"
             ],
             [
              0.4444444444444444,
              "#bd3786"
             ],
             [
              0.5555555555555556,
              "#d8576b"
             ],
             [
              0.6666666666666666,
              "#ed7953"
             ],
             [
              0.7777777777777778,
              "#fb9f3a"
             ],
             [
              0.8888888888888888,
              "#fdca26"
             ],
             [
              1,
              "#f0f921"
             ]
            ],
            "type": "surface"
           }
          ],
          "table": [
           {
            "cells": {
             "fill": {
              "color": "#EBF0F8"
             },
             "line": {
              "color": "white"
             }
            },
            "header": {
             "fill": {
              "color": "#C8D4E3"
             },
             "line": {
              "color": "white"
             }
            },
            "type": "table"
           }
          ]
         },
         "layout": {
          "annotationdefaults": {
           "arrowcolor": "#2a3f5f",
           "arrowhead": 0,
           "arrowwidth": 1
          },
          "autotypenumbers": "strict",
          "coloraxis": {
           "colorbar": {
            "outlinewidth": 0,
            "ticks": ""
           }
          },
          "colorscale": {
           "diverging": [
            [
             0,
             "#8e0152"
            ],
            [
             0.1,
             "#c51b7d"
            ],
            [
             0.2,
             "#de77ae"
            ],
            [
             0.3,
             "#f1b6da"
            ],
            [
             0.4,
             "#fde0ef"
            ],
            [
             0.5,
             "#f7f7f7"
            ],
            [
             0.6,
             "#e6f5d0"
            ],
            [
             0.7,
             "#b8e186"
            ],
            [
             0.8,
             "#7fbc41"
            ],
            [
             0.9,
             "#4d9221"
            ],
            [
             1,
             "#276419"
            ]
           ],
           "sequential": [
            [
             0,
             "#0d0887"
            ],
            [
             0.1111111111111111,
             "#46039f"
            ],
            [
             0.2222222222222222,
             "#7201a8"
            ],
            [
             0.3333333333333333,
             "#9c179e"
            ],
            [
             0.4444444444444444,
             "#bd3786"
            ],
            [
             0.5555555555555556,
             "#d8576b"
            ],
            [
             0.6666666666666666,
             "#ed7953"
            ],
            [
             0.7777777777777778,
             "#fb9f3a"
            ],
            [
             0.8888888888888888,
             "#fdca26"
            ],
            [
             1,
             "#f0f921"
            ]
           ],
           "sequentialminus": [
            [
             0,
             "#0d0887"
            ],
            [
             0.1111111111111111,
             "#46039f"
            ],
            [
             0.2222222222222222,
             "#7201a8"
            ],
            [
             0.3333333333333333,
             "#9c179e"
            ],
            [
             0.4444444444444444,
             "#bd3786"
            ],
            [
             0.5555555555555556,
             "#d8576b"
            ],
            [
             0.6666666666666666,
             "#ed7953"
            ],
            [
             0.7777777777777778,
             "#fb9f3a"
            ],
            [
             0.8888888888888888,
             "#fdca26"
            ],
            [
             1,
             "#f0f921"
            ]
           ]
          },
          "colorway": [
           "#636efa",
           "#EF553B",
           "#00cc96",
           "#ab63fa",
           "#FFA15A",
           "#19d3f3",
           "#FF6692",
           "#B6E880",
           "#FF97FF",
           "#FECB52"
          ],
          "font": {
           "color": "#2a3f5f"
          },
          "geo": {
           "bgcolor": "white",
           "lakecolor": "white",
           "landcolor": "#E5ECF6",
           "showlakes": true,
           "showland": true,
           "subunitcolor": "white"
          },
          "hoverlabel": {
           "align": "left"
          },
          "hovermode": "closest",
          "mapbox": {
           "style": "light"
          },
          "paper_bgcolor": "white",
          "plot_bgcolor": "#E5ECF6",
          "polar": {
           "angularaxis": {
            "gridcolor": "white",
            "linecolor": "white",
            "ticks": ""
           },
           "bgcolor": "#E5ECF6",
           "radialaxis": {
            "gridcolor": "white",
            "linecolor": "white",
            "ticks": ""
           }
          },
          "scene": {
           "xaxis": {
            "backgroundcolor": "#E5ECF6",
            "gridcolor": "white",
            "gridwidth": 2,
            "linecolor": "white",
            "showbackground": true,
            "ticks": "",
            "zerolinecolor": "white"
           },
           "yaxis": {
            "backgroundcolor": "#E5ECF6",
            "gridcolor": "white",
            "gridwidth": 2,
            "linecolor": "white",
            "showbackground": true,
            "ticks": "",
            "zerolinecolor": "white"
           },
           "zaxis": {
            "backgroundcolor": "#E5ECF6",
            "gridcolor": "white",
            "gridwidth": 2,
            "linecolor": "white",
            "showbackground": true,
            "ticks": "",
            "zerolinecolor": "white"
           }
          },
          "shapedefaults": {
           "line": {
            "color": "#2a3f5f"
           }
          },
          "ternary": {
           "aaxis": {
            "gridcolor": "white",
            "linecolor": "white",
            "ticks": ""
           },
           "baxis": {
            "gridcolor": "white",
            "linecolor": "white",
            "ticks": ""
           },
           "bgcolor": "#E5ECF6",
           "caxis": {
            "gridcolor": "white",
            "linecolor": "white",
            "ticks": ""
           }
          },
          "title": {
           "x": 0.05
          },
          "xaxis": {
           "automargin": true,
           "gridcolor": "white",
           "linecolor": "white",
           "ticks": "",
           "title": {
            "standoff": 15
           },
           "zerolinecolor": "white",
           "zerolinewidth": 2
          },
          "yaxis": {
           "automargin": true,
           "gridcolor": "white",
           "linecolor": "white",
           "ticks": "",
           "title": {
            "standoff": 15
           },
           "zerolinecolor": "white",
           "zerolinewidth": 2
          }
         }
        },
        "width": 1000,
        "xaxis": {
         "showgrid": false,
         "showline": false,
         "showticklabels": false,
         "zeroline": false
        },
        "yaxis": {
         "showgrid": false,
         "showline": false,
         "showticklabels": false,
         "zeroline": false
        }
       }
      }
     },
     "metadata": {},
     "output_type": "display_data"
    }
   ],
   "source": [
    "add_meta(root,meta_list1,[])\n",
    "show_tree(root,color=['#184e77','#1a759f','#168aad',\"#34a0a4\",'#52b69a','#99d98c','#76c893','#99d98c']).show_fig()\n",
    "remove_meta(root);"
   ]
  },
  {
   "cell_type": "code",
   "execution_count": 18,
   "metadata": {},
   "outputs": [
    {
     "data": {
      "text/plain": [
       "tensor([1.0469], dtype=torch.float64)"
      ]
     },
     "execution_count": 18,
     "metadata": {},
     "output_type": "execute_result"
    }
   ],
   "source": [
    "hyp_dist(embeddings[39],embeddings[63])"
   ]
  },
  {
   "cell_type": "code",
   "execution_count": 19,
   "metadata": {},
   "outputs": [
    {
     "data": {
      "text/plain": [
       "tensor([1.0469], dtype=torch.float64)"
      ]
     },
     "execution_count": 19,
     "metadata": {},
     "output_type": "execute_result"
    }
   ],
   "source": [
    "hyp_dist(embeddings[37],embeddings[63])"
   ]
  },
  {
   "cell_type": "code",
   "execution_count": 15,
   "metadata": {},
   "outputs": [
    {
     "data": {
      "text/plain": [
       "array([-0.70361656,  0.41195869])"
      ]
     },
     "execution_count": 15,
     "metadata": {},
     "output_type": "execute_result"
    }
   ],
   "source": [
    "embeddings[33]\n",
    "embeddings[34]"
   ]
  },
  {
   "cell_type": "code",
   "execution_count": null,
   "metadata": {},
   "outputs": [],
   "source": [
    "temp,root = merge_points(root,nodes1,embeddings,0,0.2,100,n)\n",
    "for i in nodes1:\n",
    "    i.hyper = temp[int(i)]\n",
    "    i.value =  temp[int(i)]\n",
    "embeddings = temp.numpy();\n",
    "add_meta(root,meta_list1,[])\n",
    "show_tree(root,color=['#184e77','#1a759f','#168aad',\"#34a0a4\",'#52b69a','#99d98c','#76c893','#99d98c']).show_fig()\n",
    "remove_meta(root);"
   ]
  },
  {
   "cell_type": "code",
   "execution_count": null,
   "metadata": {},
   "outputs": [],
   "source": [
    "temp,root = merge_points(root,nodes1,embeddings,0,0.5,100,n)\n",
    "for i in nodes1:\n",
    "    i.hyper = temp[int(i)]\n",
    "    i.value =  temp[int(i)]\n",
    "embeddings = temp.numpy();\n",
    "add_meta(root,meta_list1,[])\n",
    "show_tree(root,color=['#184e77','#1a759f','#168aad',\"#34a0a4\",'#52b69a','#99d98c','#76c893','#99d98c']).show_fig()\n",
    "remove_meta(root);"
   ]
  },
  {
   "cell_type": "code",
   "execution_count": null,
   "metadata": {},
   "outputs": [],
   "source": [
    "temp,root = merge_points(root,nodes1,embeddings,0,0.7,100,n)\n",
    "for i in nodes1:\n",
    "    i.hyper = temp[int(i)]\n",
    "    i.value =  temp[int(i)]\n",
    "embeddings = temp.numpy();\n",
    "add_meta(root,meta_list1,[])\n",
    "show_tree(root,color=['#184e77','#1a759f','#168aad',\"#34a0a4\",'#52b69a','#99d98c','#76c893','#99d98c']).show_fig()\n",
    "remove_meta(root);"
   ]
  },
  {
   "cell_type": "code",
   "execution_count": null,
   "metadata": {},
   "outputs": [],
   "source": [
    "temp = rotate(nodes1,embeddings,10)\n",
    "for i in nodes1:\n",
    "    i.hyper = temp[int(i)]\n",
    "    i.value =  temp[int(i)]\n",
    "embeddings = temp.numpy();\n",
    "root = nodes1[-1]"
   ]
  },
  {
   "cell_type": "code",
   "execution_count": null,
   "metadata": {},
   "outputs": [],
   "source": [
    "temp,root = merge_points(root,nodes1,embeddings,0,3,100,n)\n",
    "for i in nodes1:\n",
    "    i.hyper = temp[int(i)]\n",
    "    i.value =  temp[int(i)]\n",
    "embeddings = temp.numpy();\n",
    "add_meta(root,meta_list1,[])\n",
    "show_tree(root,color=['#184e77','#1a759f','#168aad',\"#34a0a4\",'#52b69a','#99d98c','#76c893','#99d98c']).show_fig()\n",
    "remove_meta(root);"
   ]
  },
  {
   "cell_type": "code",
   "execution_count": null,
   "metadata": {},
   "outputs": [],
   "source": [
    "temp,root = merge_points(root,nodes1,embeddings,0,3,100,n)\n",
    "for i in nodes1:\n",
    "    i.hyper = temp[int(i)]\n",
    "    i.value =  temp[int(i)]\n",
    "embeddings = temp.numpy();\n",
    "add_meta(root,meta_list1,[])\n",
    "show_tree(root,color=['#184e77','#1a759f','#168aad',\"#34a0a4\",'#52b69a','#99d98c','#76c893','#99d98c']).show_fig()\n",
    "remove_meta(root);"
   ]
  },
  {
   "cell_type": "code",
   "execution_count": null,
   "metadata": {},
   "outputs": [],
   "source": [
    "temp,root = merge_points(root,nodes1,embeddings,0,3,100,n)\n",
    "for i in nodes1:\n",
    "    i.hyper = temp[int(i)]\n",
    "    i.value =  temp[int(i)]\n",
    "embeddings = temp.numpy();\n",
    "add_meta(root,meta_list1,[])\n",
    "show_tree(root,color=['#184e77','#1a759f','#168aad',\"#34a0a4\",'#52b69a','#99d98c','#76c893','#99d98c']).show_fig()\n",
    "remove_meta(root);"
   ]
  },
  {
   "cell_type": "code",
   "execution_count": null,
   "metadata": {},
   "outputs": [],
   "source": [
    "temp,root = merge_points(root,nodes1,embeddings,0,3,100,n)\n",
    "for i in nodes1:\n",
    "    i.hyper = temp[int(i)]\n",
    "    i.value =  temp[int(i)]\n",
    "embeddings = temp.numpy();\n",
    "add_meta(root,meta_list1,[])\n",
    "show_tree(root,color=['#184e77','#1a759f','#168aad',\"#34a0a4\",'#52b69a','#99d98c','#76c893','#99d98c']).show_fig()\n",
    "remove_meta(root);"
   ]
  },
  {
   "cell_type": "code",
   "execution_count": null,
   "metadata": {},
   "outputs": [],
   "source": [
    "temp,root = merge_points(root,nodes1,embeddings,0,3,100,n)\n",
    "for i in nodes1:\n",
    "    i.hyper = temp[int(i)]\n",
    "    i.value =  temp[int(i)]\n",
    "embeddings = temp.numpy();\n",
    "add_meta(root,meta_list1,[])\n",
    "show_tree(root,color=['#184e77','#1a759f','#168aad',\"#34a0a4\",'#52b69a','#99d98c','#76c893','#99d98c']).show_fig()\n",
    "remove_meta(root);"
   ]
  },
  {
   "cell_type": "code",
   "execution_count": null,
   "metadata": {},
   "outputs": [],
   "source": [
    "temp,root = merge_points(root,nodes1,embeddings,0,3,100,n)\n",
    "for i in nodes1:\n",
    "    i.hyper = temp[int(i)]\n",
    "    i.value =  temp[int(i)]\n",
    "embeddings = temp.numpy();\n",
    "add_meta(root,meta_list1,[])\n",
    "show_tree(root,color=['#184e77','#1a759f','#168aad',\"#34a0a4\",'#52b69a','#99d98c','#76c893','#99d98c']).show_fig()\n",
    "remove_meta(root);"
   ]
  },
  {
   "cell_type": "code",
   "execution_count": null,
   "metadata": {},
   "outputs": [],
   "source": [
    "color  =set(meta_list1)\n"
   ]
  },
  {
   "cell_type": "code",
   "execution_count": null,
   "metadata": {},
   "outputs": [],
   "source": [
    "color"
   ]
  },
  {
   "cell_type": "code",
   "execution_count": null,
   "metadata": {},
   "outputs": [],
   "source": [
    "['#184e77','#1e6091','#1a759f','#168aad',\"#34a0a4\",'#52b69a','#99d98c','#76c893','#99d98c']"
   ]
  },
  {
   "cell_type": "code",
   "execution_count": null,
   "metadata": {},
   "outputs": [],
   "source": [
    "add_meta(root,meta_list1,[])\n",
    "show_tree(root,color=['#184e77','#1a759f','#168aad',\"#34a0a4\",'#52b69a','#99d98c','#76c893','#99d98c']).show_fig()\n",
    "remove_meta(root);"
   ]
  },
  {
   "cell_type": "code",
   "execution_count": null,
   "metadata": {},
   "outputs": [],
   "source": [
    "temp,root = merge_points(root,nodes1,embeddings,5,2,100,n)\n",
    "for i in nodes1:\n",
    "    i.hyper = temp[int(i)]\n",
    "    i.value =  temp[int(i)]\n",
    "embeddings = temp.numpy();\n",
    "add_meta(root,meta_list1,[])\n",
    "show_tree(root,color=['#184e77','#1a759f','#168aad',\"#34a0a4\",'#52b69a','#99d98c','#76c893','#99d98c']).show_fig()\n",
    "remove_meta(root);"
   ]
  },
  {
   "cell_type": "code",
   "execution_count": null,
   "metadata": {},
   "outputs": [],
   "source": [
    "temp,root = merge_points(root,nodes1,embeddings,5,2,100,n)\n",
    "for i in nodes1:\n",
    "    i.hyper = temp[int(i)]\n",
    "    i.value =  temp[int(i)]\n",
    "embeddings = temp.numpy();\n",
    "add_meta(root,meta_list1,[])\n",
    "show_tree(root,color=['#184e77','#1a759f','#168aad',\"#34a0a4\",'#52b69a','#99d98c','#76c893','#99d98c']).show_fig()\n",
    "remove_meta(root);"
   ]
  },
  {
   "cell_type": "code",
   "execution_count": null,
   "metadata": {},
   "outputs": [],
   "source": [
    "temp,root = merge_points(root,nodes1,embeddings,5,2,100,n)\n",
    "for i in nodes1:\n",
    "    i.hyper = temp[int(i)]\n",
    "    i.value =  temp[int(i)]\n",
    "embeddings = temp.numpy();\n",
    "add_meta(root,meta_list1,[])\n",
    "show_tree(root,color=['#184e77','#1a759f','#168aad',\"#34a0a4\",'#52b69a','#99d98c','#76c893','#99d98c']).show_fig()\n",
    "remove_meta(root);"
   ]
  },
  {
   "cell_type": "code",
   "execution_count": null,
   "metadata": {},
   "outputs": [],
   "source": [
    "temp,root = merge_points(root,nodes1,embeddings,5,3,100,n)\n",
    "for i in nodes1:\n",
    "    i.hyper = temp[int(i)]\n",
    "    i.value =  temp[int(i)]\n",
    "embeddings = temp.numpy();\n",
    "add_meta(root,meta_list1,[])\n",
    "show_tree(root,color=['#184e77','#1a759f','#168aad',\"#34a0a4\",'#52b69a','#99d98c','#76c893','#99d98c']).show_fig()\n",
    "remove_meta(root);"
   ]
  },
  {
   "cell_type": "code",
   "execution_count": null,
   "metadata": {},
   "outputs": [],
   "source": [
    "temp,root = merge_points(root,nodes1,embeddings,5,4,100,n)\n",
    "for i in nodes1:\n",
    "    i.hyper = temp[int(i)]\n",
    "    i.value =  temp[int(i)]\n",
    "embeddings = temp.numpy();\n",
    "add_meta(root,meta_list1,[])\n",
    "show_tree(root,color=['#184e77','#1a759f','#168aad',\"#34a0a4\",'#52b69a','#99d98c','#76c893','#99d98c']).show_fig()\n",
    "remove_meta(root);"
   ]
  },
  {
   "cell_type": "code",
   "execution_count": null,
   "metadata": {},
   "outputs": [],
   "source": [
    "temp,root = merge_points(root,nodes1,embeddings,5,5,100,n)\n",
    "for i in nodes1:\n",
    "    i.hyper = temp[int(i)]\n",
    "    i.value =  temp[int(i)]\n",
    "embeddings = temp.numpy();\n",
    "add_meta(root,meta_list1,[])\n",
    "show_tree(root,color=['#184e77','#1a759f','#168aad',\"#34a0a4\",'#52b69a','#99d98c','#76c893','#99d98c']).show_fig()\n",
    "remove_meta(root);"
   ]
  },
  {
   "cell_type": "code",
   "execution_count": null,
   "metadata": {},
   "outputs": [],
   "source": [
    "temp,root = merge_points(root,nodes1,embeddings,5,6,100,n)\n",
    "for i in nodes1:\n",
    "    i.hyper = temp[int(i)]\n",
    "    i.value =  temp[int(i)]\n",
    "embeddings = temp.numpy();\n",
    "add_meta(root,meta_list1,[])\n",
    "show_tree(root,color=['#184e77','#1a759f','#168aad',\"#34a0a4\",'#52b69a','#99d98c','#76c893','#99d98c']).show_fig()\n",
    "remove_meta(root);"
   ]
  },
  {
   "cell_type": "code",
   "execution_count": null,
   "metadata": {},
   "outputs": [],
   "source": [
    "temp,root = merge_points(root,nodes1,embeddings,5,7,100,n)\n",
    "for i in nodes1:\n",
    "    i.hyper = temp[int(i)]\n",
    "    i.value =  temp[int(i)]\n",
    "embeddings = temp.numpy();\n",
    "add_meta(root,meta_list1,[])\n",
    "show_tree(root,color=['#184e77','#1a759f','#168aad',\"#34a0a4\",'#52b69a','#99d98c','#76c893','#99d98c']).show_fig()\n",
    "remove_meta(root);"
   ]
  },
  {
   "cell_type": "code",
   "execution_count": null,
   "metadata": {},
   "outputs": [],
   "source": [
    "embeddings"
   ]
  },
  {
   "cell_type": "code",
   "execution_count": null,
   "metadata": {},
   "outputs": [],
   "source": [
    "temp,root = merge_points(root,nodes1,embeddings,5,7,100,n)\n",
    "for i in nodes1:\n",
    "    i.hyper = temp[int(i)]\n",
    "    i.value =  temp[int(i)]\n",
    "embeddings = temp.numpy();\n",
    "add_meta(root,meta_list1,[])\n",
    "show_tree(root,color=['#184e77','#1a759f','#168aad',\"#34a0a4\",'#52b69a','#99d98c','#76c893','#99d98c']).show_fig()\n",
    "remove_meta(root);"
   ]
  },
  {
   "cell_type": "markdown",
   "metadata": {},
   "source": []
  },
  {
   "cell_type": "code",
   "execution_count": null,
   "metadata": {},
   "outputs": [],
   "source": [
    "temp,root = merge_points(root,nodes1,embeddings,5,2,100,n)\n",
    "for i in nodes1:\n",
    "    i.hyper = temp[int(i)]\n",
    "    i.value =  temp[int(i)]\n",
    "embeddings = temp.numpy();\n",
    "add_meta(root,meta_list1,[])\n",
    "show_tree(root,color=['#184e77','#1a759f','#168aad',\"#34a0a4\",'#52b69a','#99d98c','#76c893','#99d98c']).show_fig()\n",
    "remove_meta(root);"
   ]
  },
  {
   "cell_type": "code",
   "execution_count": null,
   "metadata": {},
   "outputs": [],
   "source": [
    "temp,root = merge_points(root,nodes1,embeddings,5,2,100,n)\n",
    "for i in nodes1:\n",
    "    i.hyper = temp[int(i)]\n",
    "    i.value =  temp[int(i)]\n",
    "embeddings = temp.numpy();\n",
    "add_meta(root,meta_list1,[])\n",
    "show_tree(root,color=['#184e77','#1a759f','#168aad',\"#34a0a4\",'#52b69a','#99d98c','#76c893','#99d98c']).show_fig()\n",
    "remove_meta(root);"
   ]
  },
  {
   "cell_type": "code",
   "execution_count": null,
   "metadata": {},
   "outputs": [],
   "source": [
    "temp,root = merge_points(root,nodes1,embeddings,5,2,100,n)\n",
    "for i in nodes1:\n",
    "    i.hyper = temp[int(i)]\n",
    "    i.value =  temp[int(i)]\n",
    "embeddings = temp.numpy();\n",
    "add_meta(root,meta_list1,[])\n",
    "show_tree(root,color=['#184e77','#1a759f','#168aad',\"#34a0a4\",'#52b69a','#99d98c','#76c893','#99d98c']).show_fig()\n",
    "remove_meta(root);"
   ]
  },
  {
   "cell_type": "code",
   "execution_count": null,
   "metadata": {},
   "outputs": [],
   "source": [
    "def merge_points(root,nodes,embeddings,epoches,c1,c2,n):\n",
    "    root,_ = search_tree(root,c1,c2,n)\n",
    "    print(_)\n",
    "    if(_ == True):\n",
    "        return embeddings,root\n",
    "    nodes_merge = [];\n",
    "    add_meta(root,[],nodes_merge)\n",
    "    for i in nodes_merge:\n",
    "        if(int(i)<n):\n",
    "            i.subson = [int(i)]\n",
    "        else:\n",
    "            i.subson=[]\n",
    "    deep_search_tree(nodes_merge[0],0,[],nodes_merge[0])\n",
    "    result = []\n",
    "    distances = []\n",
    "    for i in nodes_merge:\n",
    "        if(int(i)>=n):\n",
    "            if(int(i.son[0]) <n and int(i.son[1])<n ):\n",
    "                for i1,j1 in itertools.combinations(i.subson,2):\n",
    "                    for j in i.rest(n):\n",
    "                        result.append([[i1,j1],j,int(i),1,int(j)])\n",
    "    for i in nodes_merge[1:]:\n",
    "        if(int(i)>=n and len(i.son)>=2):\n",
    "            for i1 in range(len(i.subson)):\n",
    "                for i2 in range(i1+1,len(i.subson)):\n",
    "                    for j in i.rest(n):\n",
    "                        result.append([[i.subson[i1],i.subson[i2]],j,int(i),0,int(i.f)])\n",
    "    if(len(result)==0):\n",
    "        print('finish');\n",
    "        return torch.tensor(embeddings),root\n",
    "    \n",
    "    for i in nodes_merge:\n",
    "        distances.append(i.distance_to_root);\n",
    "    distances = torch.tensor(distances)\n",
    "    dataset_test = balance_dataset(similarities,len(result),embeddings,distances,result)\n",
    "    dataloader = data.DataLoader(dataset_test, batch_size=1, shuffle=False, pin_memory=True)\n",
    "    model2 = balancehc(nodes,torch.tensor(embeddings),hyperparamter = 1)\n",
    "    Optimizer = getattr(optim, 'RAdam')\n",
    "    optimizer = Optimizer(model2.parameters(),0.0005)\n",
    "    train3(model2,dataloader,optimizer,epoches)\n",
    "    temp = model2.embeddings.weight.data\n",
    "    return temp,nodes_merge[0]"
   ]
  },
  {
   "cell_type": "code",
   "execution_count": null,
   "metadata": {},
   "outputs": [],
   "source": [
    "temp,root = merge_points(root,nodes1,embeddings,10,1,1.2,n)\n",
    "for i in nodes1:\n",
    "    i.hyper = temp[int(i)]\n",
    "    i.value =  temp[int(i)]\n",
    "embeddings = temp.numpy();"
   ]
  },
  {
   "cell_type": "code",
   "execution_count": null,
   "metadata": {},
   "outputs": [],
   "source": [
    "temp,root = merge_points(root,nodes1,embeddings,5,1,1.2,n)\n",
    "for i in nodes1:\n",
    "    i.hyper = temp[int(i)]\n",
    "    i.value =  temp[int(i)]\n",
    "embeddings = temp.numpy();\n",
    "add_meta(root,meta_list1,[])\n",
    "show_tree(root,color=['#184e77','#1a759f','#168aad',\"#34a0a4\",'#52b69a','#99d98c','#76c893','#99d98c']).show_fig()\n",
    "remove_meta(root);"
   ]
  },
  {
   "cell_type": "code",
   "execution_count": null,
   "metadata": {},
   "outputs": [],
   "source": [
    "temp,root = merge_points(root,nodes1,embeddings,5,1,10,n)\n",
    "for i in nodes1:\n",
    "    i.hyper = temp[int(i)]\n",
    "    i.value =  temp[int(i)]\n",
    "embeddings = temp.numpy();\n",
    "add_meta(root,meta_list1,[])\n",
    "show_tree(root,color=['#184e77','#1a759f','#168aad',\"#34a0a4\",'#52b69a','#99d98c','#76c893','#99d98c']).show_fig()\n",
    "remove_meta(root);"
   ]
  },
  {
   "cell_type": "code",
   "execution_count": null,
   "metadata": {},
   "outputs": [],
   "source": [
    "temp,root = merge_points(root,nodes1,embeddings,5,1,10,n)\n",
    "for i in nodes1:\n",
    "    i.hyper = temp[int(i)]\n",
    "    i.value =  temp[int(i)]\n",
    "embeddings = temp.numpy();\n",
    "add_meta(root,meta_list1,[])\n",
    "show_tree(root,color=['#184e77','#1a759f','#168aad',\"#34a0a4\",'#52b69a','#99d98c','#76c893','#99d98c']).show_fig()\n",
    "remove_meta(root);"
   ]
  },
  {
   "cell_type": "code",
   "execution_count": null,
   "metadata": {},
   "outputs": [],
   "source": [
    "temp,root = merge_points(root,nodes1,embeddings,5,1,10,n)\n",
    "for i in nodes1:\n",
    "    i.hyper = temp[int(i)]\n",
    "    i.value =  temp[int(i)]\n",
    "embeddings = temp.numpy();\n",
    "add_meta(root,meta_list1,[])\n",
    "show_tree(root,color=['#184e77','#1a759f','#168aad',\"#34a0a4\",'#52b69a','#99d98c','#76c893','#99d98c']).show_fig()\n",
    "remove_meta(root);"
   ]
  },
  {
   "cell_type": "code",
   "execution_count": null,
   "metadata": {},
   "outputs": [],
   "source": [
    "embeddings = temp;\n",
    "add_meta(root,meta_list1,[])\n",
    "show_tree(root,color=['#184e77','#1a759f','#168aad',\"#34a0a4\",'#52b69a','#99d98c','#76c893','#99d98c']).show_fig()\n",
    "remove_meta(root);"
   ]
  },
  {
   "cell_type": "code",
   "execution_count": null,
   "metadata": {},
   "outputs": [],
   "source": [
    "temp,root = merge_points(root,nodes1,embeddings,5,2,10000,n)\n",
    "for i in nodes1:\n",
    "    i.hyper = temp[int(i)]\n",
    "    i.value =  temp[int(i)]\n",
    "embeddings = temp;\n",
    "add_meta(root,meta_list1,[])\n",
    "show_tree(root,color=['#184e77','#1a759f','#168aad',\"#34a0a4\",'#52b69a','#99d98c','#76c893','#99d98c']).show_fig()\n",
    "remove_meta(root);"
   ]
  },
  {
   "cell_type": "code",
   "execution_count": null,
   "metadata": {},
   "outputs": [],
   "source": [
    "temp,root = merge_points(root,nodes1,embeddings,5,2,10,n)\n",
    "for i in nodes1:\n",
    "    i.hyper = temp[int(i)]\n",
    "    i.value =  temp[int(i)]\n",
    "embeddings = temp;\n",
    "add_meta(root,meta_list1,[])\n",
    "show_tree(root,color=['#184e77','#1a759f','#168aad',\"#34a0a4\",'#52b69a','#99d98c','#76c893','#99d98c']).show_fig()\n",
    "remove_meta(root);"
   ]
  },
  {
   "cell_type": "code",
   "execution_count": null,
   "metadata": {},
   "outputs": [],
   "source": [
    "temp,root = merge_points(root,nodes1,embeddings,5,2,10,n)\n",
    "for i in nodes1:\n",
    "    i.hyper = temp[int(i)]\n",
    "    i.value =  temp[int(i)]\n",
    "embeddings = temp;\n",
    "add_meta(root,meta_list1,[])\n",
    "show_tree(root,color=['#184e77','#1a759f','#168aad',\"#34a0a4\",'#52b69a','#99d98c','#76c893','#99d98c']).show_fig()\n",
    "remove_meta(root);"
   ]
  },
  {
   "cell_type": "code",
   "execution_count": null,
   "metadata": {},
   "outputs": [],
   "source": [
    "temp,root = merge_points(root,nodes1,embeddings,5,2,10,n)\n",
    "for i in nodes1:\n",
    "    i.hyper = temp[int(i)]\n",
    "    i.value =  temp[int(i)]\n",
    "embeddings = temp;\n",
    "add_meta(root,meta_list1,[])\n",
    "show_tree(root,color=['#184e77','#1a759f','#168aad',\"#34a0a4\",'#52b69a','#99d98c','#76c893','#99d98c']).show_fig()\n",
    "remove_meta(root);"
   ]
  },
  {
   "cell_type": "code",
   "execution_count": null,
   "metadata": {},
   "outputs": [],
   "source": [
    "temp,root = merge_points(root,nodes1,embeddings,5,2,10,n)\n",
    "for i in nodes1:\n",
    "    i.hyper = temp[int(i)]\n",
    "    i.value =  temp[int(i)]\n",
    "embeddings = temp;\n",
    "add_meta(root,meta_list1,[])\n",
    "show_tree(root,color=['#184e77','#1a759f','#168aad',\"#34a0a4\",'#52b69a','#99d98c','#76c893','#99d98c']).show_fig()\n",
    "remove_meta(root);"
   ]
  },
  {
   "cell_type": "code",
   "execution_count": null,
   "metadata": {},
   "outputs": [],
   "source": [
    "add_meta(root,meta_list1,[])\n",
    "show_tree(root,color=['#184e77','#1a759f','#168aad',\"#34a0a4\",'#52b69a','#99d98c','#76c893','#99d98c']).show_fig()\n",
    "remove_meta(root);"
   ]
  },
  {
   "cell_type": "code",
   "execution_count": null,
   "metadata": {},
   "outputs": [],
   "source": [
    "add_meta(root,meta_list1,[])\n",
    "show_tree(root).show_fig()\n",
    "remove_meta(root);"
   ]
  },
  {
   "cell_type": "code",
   "execution_count": 8,
   "metadata": {},
   "outputs": [
    {
     "ename": "NameError",
     "evalue": "name 'root' is not defined",
     "output_type": "error",
     "traceback": [
      "\u001b[0;31m---------------------------------------------------------------------------\u001b[0m",
      "\u001b[0;31mNameError\u001b[0m                                 Traceback (most recent call last)",
      "Cell \u001b[0;32mIn[8], line 1\u001b[0m\n\u001b[0;32m----> 1\u001b[0m T\u001b[38;5;241m=\u001b[39mtree_alignment(\u001b[43mroot\u001b[49m,root,\u001b[38;5;241m1\u001b[39m);\n\u001b[1;32m      2\u001b[0m minn \u001b[38;5;241m=\u001b[39m T\u001b[38;5;241m.\u001b[39mrun_alignment();\n\u001b[1;32m      3\u001b[0m T\u001b[38;5;241m.\u001b[39mshow_ans();\n",
      "\u001b[0;31mNameError\u001b[0m: name 'root' is not defined"
     ]
    }
   ],
   "source": [
    "T=tree_alignment(root,root,1);\n",
    "minn = T.run_alignment();\n",
    "T.show_ans();\n",
    "ans = T.get_ans()\n",
    "t=show_graph(ans,root,root);"
   ]
  },
  {
   "cell_type": "code",
   "execution_count": 9,
   "metadata": {},
   "outputs": [
    {
     "ename": "NameError",
     "evalue": "name 't' is not defined",
     "output_type": "error",
     "traceback": [
      "\u001b[0;31m---------------------------------------------------------------------------\u001b[0m",
      "\u001b[0;31mNameError\u001b[0m                                 Traceback (most recent call last)",
      "Cell \u001b[0;32mIn[9], line 7\u001b[0m\n\u001b[1;32m      5\u001b[0m fig \u001b[38;5;241m=\u001b[39m plt\u001b[38;5;241m.\u001b[39mfigure()\n\u001b[1;32m      6\u001b[0m ax \u001b[38;5;241m=\u001b[39m fig\u001b[38;5;241m.\u001b[39madd_subplot(projection\u001b[38;5;241m=\u001b[39m\u001b[38;5;124m'\u001b[39m\u001b[38;5;124m3d\u001b[39m\u001b[38;5;124m'\u001b[39m)\n\u001b[0;32m----> 7\u001b[0m ax\u001b[38;5;241m.\u001b[39mscatter(\u001b[43mt\u001b[49m\u001b[38;5;241m.\u001b[39mpos_x,t\u001b[38;5;241m.\u001b[39mpos_y,\u001b[38;5;241m0\u001b[39m)\n\u001b[1;32m      8\u001b[0m \u001b[38;5;66;03m# ax.scatter(show_tree(root).pos_x,show_tree(root).pos_y,1)\u001b[39;00m\n\u001b[1;32m      9\u001b[0m \u001b[38;5;28;01mfor\u001b[39;00m i \u001b[38;5;129;01min\u001b[39;00m t\u001b[38;5;241m.\u001b[39medges:\n",
      "\u001b[0;31mNameError\u001b[0m: name 't' is not defined"
     ]
    },
    {
     "data": {
      "image/png": "[encoded data removed]",
      "text/plain": [
       "<Figure size 640x480 with 1 Axes>"
      ]
     },
     "metadata": {},
     "output_type": "display_data"
    }
   ],
   "source": [
    " \n",
    "import numpy as np\n",
    "import matplotlib.pyplot as plt\n",
    " \n",
    " \n",
    "fig = plt.figure()\n",
    "ax = fig.add_subplot(projection='3d')\n",
    "ax.scatter(t.pos_x,t.pos_y,0)\n",
    "# ax.scatter(show_tree(root).pos_x,show_tree(root).pos_y,1)\n",
    "for i in t.edges:\n",
    "    p1,p2 = i;\n",
    "    index1=t.label_hash[p1];\n",
    "    index2=t.label_hash[p2];\n",
    "    \n",
    "    x1=t.pos_x[index1];y1=t.pos_y[index1];\n",
    "    x2=t.pos_x[index2];y2=t.pos_y[index2];\n",
    "    ax.plot([x1,x2],[y1,y2],[0,0],color='black')\n",
    "plt.show()"
   ]
  },
  {
   "cell_type": "code",
   "execution_count": 10,
   "metadata": {},
   "outputs": [
    {
     "ename": "NameError",
     "evalue": "name 't' is not defined",
     "output_type": "error",
     "traceback": [
      "\u001b[0;31m---------------------------------------------------------------------------\u001b[0m",
      "\u001b[0;31mNameError\u001b[0m                                 Traceback (most recent call last)",
      "Cell \u001b[0;32mIn[10], line 1\u001b[0m\n\u001b[0;32m----> 1\u001b[0m \u001b[43mt\u001b[49m\n",
      "\u001b[0;31mNameError\u001b[0m: name 't' is not defined"
     ]
    }
   ],
   "source": [
    "t"
   ]
  },
  {
   "cell_type": "code",
   "execution_count": 11,
   "metadata": {},
   "outputs": [
    {
     "ename": "NameError",
     "evalue": "name 'x' is not defined",
     "output_type": "error",
     "traceback": [
      "\u001b[0;31m---------------------------------------------------------------------------\u001b[0m",
      "\u001b[0;31mNameError\u001b[0m                                 Traceback (most recent call last)",
      "Cell \u001b[0;32mIn[11], line 1\u001b[0m\n\u001b[0;32m----> 1\u001b[0m \u001b[43mx\u001b[49m\n",
      "\u001b[0;31mNameError\u001b[0m: name 'x' is not defined"
     ]
    }
   ],
   "source": [
    "x"
   ]
  },
  {
   "cell_type": "code",
   "execution_count": 12,
   "metadata": {},
   "outputs": [
    {
     "ename": "NameError",
     "evalue": "name 't' is not defined",
     "output_type": "error",
     "traceback": [
      "\u001b[0;31m---------------------------------------------------------------------------\u001b[0m",
      "\u001b[0;31mNameError\u001b[0m                                 Traceback (most recent call last)",
      "Cell \u001b[0;32mIn[12], line 1\u001b[0m\n\u001b[0;32m----> 1\u001b[0m \u001b[43mt\u001b[49m\u001b[38;5;241m.\u001b[39mpos_x_2\n",
      "\u001b[0;31mNameError\u001b[0m: name 't' is not defined"
     ]
    }
   ],
   "source": [
    "t.pos_x_2"
   ]
  },
  {
   "cell_type": "code",
   "execution_count": 13,
   "metadata": {},
   "outputs": [
    {
     "ename": "NameError",
     "evalue": "name 't' is not defined",
     "output_type": "error",
     "traceback": [
      "\u001b[0;31m---------------------------------------------------------------------------\u001b[0m",
      "\u001b[0;31mNameError\u001b[0m                                 Traceback (most recent call last)",
      "Cell \u001b[0;32mIn[13], line 5\u001b[0m\n\u001b[1;32m      3\u001b[0m s \u001b[38;5;241m=\u001b[39m \u001b[38;5;241m13\u001b[39m\n\u001b[1;32m      4\u001b[0m \u001b[38;5;66;03m# Helix equation\u001b[39;00m\n\u001b[0;32m----> 5\u001b[0m x, y, z \u001b[38;5;241m=\u001b[39m\u001b[43mt\u001b[49m\u001b[38;5;241m.\u001b[39mpos_x,t\u001b[38;5;241m.\u001b[39mpos_y,[\u001b[38;5;241m0\u001b[39m \u001b[38;5;28;01mfor\u001b[39;00m i \u001b[38;5;129;01min\u001b[39;00m t\u001b[38;5;241m.\u001b[39mpos_x]\n\u001b[1;32m      6\u001b[0m x\u001b[38;5;241m=\u001b[39mnp\u001b[38;5;241m.\u001b[39marray(x)\n\u001b[1;32m      7\u001b[0m y\u001b[38;5;241m=\u001b[39mnp\u001b[38;5;241m.\u001b[39marray(y)\n",
      "\u001b[0;31mNameError\u001b[0m: name 't' is not defined"
     ]
    }
   ],
   "source": [
    "import plotly.graph_objects as go\n",
    "import numpy as np\n",
    "s = 13\n",
    "# Helix equation\n",
    "x, y, z =t.pos_x,t.pos_y,[0 for i in t.pos_x]\n",
    "x=np.array(x)\n",
    "y=np.array(y)\n",
    "layout = go.Layout(\n",
    "    scene=dict(\n",
    "        zaxis=dict(\n",
    "            range=[0, 1]  # Set the desired z-axis range\n",
    "        )\n",
    "    ),\n",
    "    \n",
    ")\n",
    "fig = go.Figure(data=[go.Scatter3d(x=x, y=y, z=z,mode='markers',marker=dict(size=3))],layout=layout)\n",
    "x, y, z =t.pos_x_2,t.pos_y_2,[0.5 for i in t.pos_x]\n",
    "x=np.array(x)-s\n",
    "y=np.array(y)\n",
    "\n",
    "fig.add_trace(go.Scatter3d(x=x, y=y, z=z,mode='markers',marker=dict(size=3)))\n",
    "for i in t.edges:\n",
    "    p1,p2 = i;\n",
    "    index1=t.label_hash[p1];\n",
    "    index2=t.label_hash[p2];\n",
    "    \n",
    "    x1=t.pos_x[index1];y1=t.pos_y[index1];\n",
    "    x2=t.pos_x[index2];y2=t.pos_y[index2];\n",
    "    fig.add_trace(go.Scatter3d(x=[x1,x2], y=[y1,y2], z=[0,0],mode='lines',line=dict(\n",
    "                    color=\"#333\",\n",
    "                    width=4,\n",
    "                ),))\n",
    "for i in t.edges_2:\n",
    "    p1,p2 = i;\n",
    "    index1=t.label_hash_2[p1];\n",
    "    index2=t.label_hash_2[p2];\n",
    "    \n",
    "    x1=t.pos_x_2[index1]-s;y1=t.pos_y_2[index1];\n",
    "    x2=t.pos_x_2[index2]-s;y2=t.pos_y_2[index2];\n",
    "    fig.add_trace(go.Scatter3d(x=[x1,x2], y=[y1,y2], z=[0.5,0.5],mode='lines',line=dict(\n",
    "                    color=\"#acd\",\n",
    "                    width=4,\n",
    "                ),))\n",
    "    for i in t.ans:\n",
    "        p1,p2 = i;\n",
    "        index1=t.label_hash[p1];\n",
    "        index2=t.label_hash_2[p2];\n",
    "        x1=t.pos_x[index1];y1=t.pos_y[index1];\n",
    "        x2=t.pos_x_2[index2]-s;y2=t.pos_y_2[index2];\n",
    "        fig.add_trace(go.Scatter3d(x=[x1,x2], y=[y1,y2], z=[0,0.5],mode='lines',line=dict(\n",
    "                    color=\"#345681\",\n",
    "                    width=4,\n",
    "                ),))\n",
    "fig.update_layout(showlegend=False)\n",
    "fig.update_layout(\n",
    "    showlegend=False,\n",
    "    xaxis=dict(visible=False),\n",
    "    yaxis=dict(visible=False),\n",
    ")\n",
    "fig.show()"
   ]
  },
  {
   "cell_type": "code",
   "execution_count": null,
   "metadata": {},
   "outputs": [],
   "source": []
  },
  {
   "cell_type": "code",
   "execution_count": null,
   "metadata": {},
   "outputs": [],
   "source": []
  }
 ],
 "metadata": {
  "kernelspec": {
   "display_name": "base",
   "language": "python",
   "name": "python3"
  },
  "language_info": {
   "codemirror_mode": {
    "name": "ipython",
    "version": 3
   },
   "file_extension": ".py",
   "mimetype": "text/x-python",
   "name": "python",
   "nbconvert_exporter": "python",
   "pygments_lexer": "ipython3",
   "version": "3.8.16"
  }
 },
 "nbformat": 4,
 "nbformat_minor": 2
}
