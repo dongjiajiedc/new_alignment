{
 "cells": [
  {
   "cell_type": "code",
   "execution_count": 1,
   "metadata": {},
   "outputs": [],
   "source": [
    "from hyper import *\n",
    "from alignment import *\n",
    "from datasets.preprecossing import *\n",
    "from core import *\n",
    "from datasets.loading import *\n",
    "from datasets.hc_dataset import *\n",
    "from datasets.balance_dataset import *\n",
    "from utils.linkage import *\n",
    "from model.balancehc import balancehc\n",
    "\n",
    "from utils.poincare import *\n",
    "import scib\n",
    "import shutil"
   ]
  },
  {
   "cell_type": "code",
   "execution_count": 2,
   "metadata": {},
   "outputs": [],
   "source": [
    "import os\n",
    "import numpy as np\n",
    "import pandas as pd\n",
    "import scib\n",
    "\n",
    "import scanpy as sc\n",
    "from pathlib import Path\n",
    "import rpy2.robjects as robjects\n",
    "from rpy2.robjects import pandas2ri\n",
    "from os.path import exists\n",
    "def get_count_data(adata,counts_location=None):\n",
    "    \n",
    "    data = adata.layers[counts_location].copy() if counts_location else adata.X.copy()\n",
    "    if not isinstance(data, np.ndarray):\n",
    "        data= data.toarray()\n",
    "    data_df = pd.DataFrame(data,index=adata.obs_names,columns=adata.var_names).transpose()\n",
    "    return data_df\n",
    "\n",
    "\n",
    "def check_paths(output_folder,output_prefix=None):\n",
    "    # Create relative path\n",
    "    output_path = os.path.join(os.getcwd(), output_folder)\n",
    "\n",
    "    # Make sure that the folder exists\n",
    "    Path(output_path).mkdir(parents=True, exist_ok=True)\n",
    "\n",
    "    if os.path.exists(os.path.join(output_path, f\"{output_prefix}assigned_locations.csv\")):\n",
    "        print(\"\\033[91mWARNING\\033[0m: Running this will overwrite previous results, choose a new\"\n",
    "              \" 'output_folder' or 'output_prefix'\")\n",
    "    return output_path\n",
    "def remove_batch_effect(pseudo_bulk, bulk_adata, out_dir, project='',batch_effect=True):\n",
    "    \"\"\"\n",
    "    Remove batch effect between pseudo_bulk and input bulk data.\n",
    "\n",
    "    Parameters\n",
    "    ----------\n",
    "    pseudo_bulk : anndata.AnnData\n",
    "        An :class:`~anndata.AnnData` containing the pseudo expression.\n",
    "    bulk_adata : anndata.AnnData\n",
    "        An :class:`~anndata.AnnData` containing the input expression.\n",
    "    out_dir : string, optional\n",
    "        The path to save the output file.\n",
    "    project : string, optional\n",
    "        The prefix of output file.\n",
    "        \n",
    "    Returns\n",
    "    -------\n",
    "    Returns the expression after removing batch effect.\n",
    "\n",
    "    \"\"\"\n",
    "    out_dir = check_paths(out_dir+'/batch_effect')\n",
    "    if batch_effect:\n",
    "        if exists(f'{out_dir}/{project}_batch_effected.txt'):\n",
    "            print(f'{out_dir}/{project}_batch_effected.txt already exists, skipping batch effect.')\n",
    "            bulk_data = pd.read_csv(f\"{out_dir}/{project}_batch_effected.txt\",sep='\\t').T\n",
    "        else:\n",
    "            \n",
    "            save=True\n",
    "            # check path, file will be stored in out_dir+'/batch_effect'\n",
    "            pseudo_bulk_df = get_count_data(pseudo_bulk)\n",
    "            input_bulk_df= get_count_data(bulk_adata)\n",
    "\n",
    "            bulk = pd.concat([pseudo_bulk_df,input_bulk_df], axis=1)\n",
    "\n",
    "            cells = np.append(pseudo_bulk.obs_names, bulk_adata.obs_names)\n",
    "            batch = np.append(np.ones((1,len(pseudo_bulk.obs_names))), np.ones((1,len(bulk_adata.obs_names)))+1)\n",
    "            if save:\n",
    "                bulk.to_csv(out_dir+f\"/{project}_before_batch_effected.txt\",sep='\\t')\n",
    "            meta = pd.DataFrame({\"batch\": batch,\"cells\":cells})\n",
    "            # get r script path\n",
    "            robjects.r.source('./combat.R')\n",
    "            pandas2ri.activate()\n",
    "            robjects.r.run_combat(bulk, meta, out_dir, project)\n",
    "            # stop auto trans from pandas to r dataframe\n",
    "            pandas2ri.deactivate()\n",
    "            # add layer\n",
    "            if exists(f'{out_dir}/{project}_batch_effected.txt'):\n",
    "                bulk_data = pd.read_csv(f\"{out_dir}/{project}_batch_effected.txt\",sep='\\t').T\n",
    "                print(bulk_data.shape)\n",
    "            else:\n",
    "                raise ValueError('The batch_effected data is not available')\n",
    "        bulk_data.clip(lower=0,inplace=True)\n",
    "        # print(pseudo_bulk)\n",
    "        # print(pseudo_bulk.obs_names)\n",
    "        pseudo_bulk.layers[\"batch_effected\"] = bulk_data.loc[pseudo_bulk.obs_names,:].values\n",
    "        bulk_adata.layers[\"batch_effected\"] = bulk_data.loc[bulk_adata.obs_names,:].values\n",
    "    else:\n",
    "        pseudo_bulk_df = get_count_data(pseudo_bulk)\n",
    "        input_bulk_df= get_count_data(bulk_adata)\n",
    "        bulk = pd.concat([pseudo_bulk_df,input_bulk_df], axis=1)\n",
    "        bulk.to_csv(out_dir+f\"/{project}_batch_effected.txt\",sep='\\t')\n",
    "\n",
    "    return pseudo_bulk,bulk_adata"
   ]
  },
  {
   "cell_type": "code",
   "execution_count": null,
   "metadata": {},
   "outputs": [],
   "source": []
  },
  {
   "cell_type": "code",
   "execution_count": 3,
   "metadata": {},
   "outputs": [],
   "source": [
    "cell_path1 = './datas/23/2/BRCA_GSE110686.h5ad'\n",
    "folder_path1 = './datas/testing/1/'\n",
    "radius1 = 0\n",
    "cell_path2 = \"./datas/23/3/CRC_GSE146771.h5ad\" \n",
    "folder_path2 = './datas/testing/2/'\n",
    "radius2 = 0\n",
    "contin = False\n",
    "resolution=1\n",
    "method='average'\n",
    "alignment=1\n",
    "n_pca=10\n",
    "meta_col = 'Celltype..major.lineage.'\n",
    "mst = False\n",
    "epoches2 = 3\n",
    "epoches1 =10\n",
    "c1=0\n",
    "c2=0"
   ]
  },
  {
   "cell_type": "code",
   "execution_count": 4,
   "metadata": {},
   "outputs": [],
   "source": [
    "a='01'"
   ]
  },
  {
   "cell_type": "code",
   "execution_count": 5,
   "metadata": {},
   "outputs": [],
   "source": [
    "cell_path1 = '../eval/datas/l/CRC_GSE146771.h5ad'\n",
    "cell_path2 = '../eval/datas/l/CHOL_GSE142784.h5ad'\n"
   ]
  },
  {
   "cell_type": "code",
   "execution_count": 6,
   "metadata": {},
   "outputs": [
    {
     "name": "stderr",
     "output_type": "stream",
     "text": [
      "/Users/dongjiajie/opt/anaconda3/lib/python3.8/site-packages/anndata/_io/specs/methods.py:590: OldFormatWarning: Element '/obs/orig.ident' was written without encoding metadata.\n",
      "  return read_elem(dataset)\n",
      "/Users/dongjiajie/opt/anaconda3/lib/python3.8/site-packages/anndata/_io/specs/methods.py:590: OldFormatWarning: Element '/obs/nCount_RNA' was written without encoding metadata.\n",
      "  return read_elem(dataset)\n",
      "/Users/dongjiajie/opt/anaconda3/lib/python3.8/site-packages/anndata/_io/specs/methods.py:590: OldFormatWarning: Element '/obs/nFeature_RNA' was written without encoding metadata.\n",
      "  return read_elem(dataset)\n",
      "/Users/dongjiajie/opt/anaconda3/lib/python3.8/site-packages/anndata/_io/specs/methods.py:590: OldFormatWarning: Element '/obs/UMAP_1' was written without encoding metadata.\n",
      "  return read_elem(dataset)\n",
      "/Users/dongjiajie/opt/anaconda3/lib/python3.8/site-packages/anndata/_io/specs/methods.py:590: OldFormatWarning: Element '/obs/UMAP_2' was written without encoding metadata.\n",
      "  return read_elem(dataset)\n",
      "/Users/dongjiajie/opt/anaconda3/lib/python3.8/site-packages/anndata/_io/specs/methods.py:590: OldFormatWarning: Element '/obs/Celltype..malignancy.' was written without encoding metadata.\n",
      "  return read_elem(dataset)\n",
      "/Users/dongjiajie/opt/anaconda3/lib/python3.8/site-packages/anndata/_io/specs/methods.py:590: OldFormatWarning: Element '/obs/Celltype..major.lineage.' was written without encoding metadata.\n",
      "  return read_elem(dataset)\n",
      "/Users/dongjiajie/opt/anaconda3/lib/python3.8/site-packages/anndata/_io/specs/methods.py:590: OldFormatWarning: Element '/obs/Celltype_minor' was written without encoding metadata.\n",
      "  return read_elem(dataset)\n",
      "/Users/dongjiajie/opt/anaconda3/lib/python3.8/site-packages/anndata/_io/specs/methods.py:590: OldFormatWarning: Element '/obs/Cluster' was written without encoding metadata.\n",
      "  return read_elem(dataset)\n",
      "/Users/dongjiajie/opt/anaconda3/lib/python3.8/site-packages/anndata/_io/specs/methods.py:590: OldFormatWarning: Element '/obs/Patient' was written without encoding metadata.\n",
      "  return read_elem(dataset)\n",
      "/Users/dongjiajie/opt/anaconda3/lib/python3.8/site-packages/anndata/_io/specs/methods.py:590: OldFormatWarning: Element '/obs/Sample' was written without encoding metadata.\n",
      "  return read_elem(dataset)\n",
      "/Users/dongjiajie/opt/anaconda3/lib/python3.8/site-packages/anndata/_io/specs/methods.py:590: OldFormatWarning: Element '/obs/Source' was written without encoding metadata.\n",
      "  return read_elem(dataset)\n",
      "/Users/dongjiajie/opt/anaconda3/lib/python3.8/site-packages/anndata/_io/specs/methods.py:590: OldFormatWarning: Element '/obs/Gender' was written without encoding metadata.\n",
      "  return read_elem(dataset)\n",
      "/Users/dongjiajie/opt/anaconda3/lib/python3.8/site-packages/anndata/_io/specs/methods.py:590: OldFormatWarning: Element '/obs/Stage' was written without encoding metadata.\n",
      "  return read_elem(dataset)\n",
      "/Users/dongjiajie/opt/anaconda3/lib/python3.8/site-packages/anndata/_io/specs/methods.py:590: OldFormatWarning: Element '/obs/TNMstage' was written without encoding metadata.\n",
      "  return read_elem(dataset)\n",
      "/Users/dongjiajie/opt/anaconda3/lib/python3.8/site-packages/anndata/_io/specs/methods.py:590: OldFormatWarning: Element '/obs/_index' was written without encoding metadata.\n",
      "  return read_elem(dataset)\n",
      "/Users/dongjiajie/opt/anaconda3/lib/python3.8/site-packages/anndata/_io/h5ad.py:238: OldFormatWarning: Element '/obsm' was written without encoding metadata.\n",
      "  d[k] = read_elem(f[k])\n",
      "/Users/dongjiajie/opt/anaconda3/lib/python3.8/site-packages/anndata/_io/specs/methods.py:590: OldFormatWarning: Element '/var/features' was written without encoding metadata.\n",
      "  return read_elem(dataset)\n",
      "/Users/dongjiajie/opt/anaconda3/lib/python3.8/site-packages/anndata/_io/specs/methods.py:590: OldFormatWarning: Element '/var/_index' was written without encoding metadata.\n",
      "  return read_elem(dataset)\n",
      "/Users/dongjiajie/opt/anaconda3/lib/python3.8/site-packages/anndata/_io/h5ad.py:238: OldFormatWarning: Element '/varm' was written without encoding metadata.\n",
      "  d[k] = read_elem(f[k])\n",
      "/Users/dongjiajie/opt/anaconda3/lib/python3.8/site-packages/anndata/_io/h5ad.py:272: OldFormatWarning: Element '/raw/var' was written without encoding metadata.\n",
      "  raw[v] = read_elem(f[f\"raw/{v}\"])\n",
      "/Users/dongjiajie/opt/anaconda3/lib/python3.8/site-packages/anndata/_io/specs/methods.py:92: OldFormatWarning: Element '/raw/var/_index' was written without encoding metadata.\n",
      "  return {k: read_elem(v) for k, v in elem.items()}\n",
      "100%|████████████████████████████████| 10468/10468 [00:00<00:00, 6128695.46it/s]\n",
      "/Users/dongjiajie/Desktop/alignment/fyp/hyperalignment/final/core.py:136: FutureWarning: X.dtype being converted to np.float32 from float64. In the next version of anndata (0.9) conversion will not be automatic. Pass dtype explicitly to avoid this warning. Pass `AnnData(X, dtype=X.dtype, ...)` to get the future behavour.\n",
      "  adata = sc.AnnData(ann);\n",
      "/Users/dongjiajie/opt/anaconda3/lib/python3.8/site-packages/anndata/_core/anndata.py:121: ImplicitModificationWarning: Transforming to str index.\n",
      "  warnings.warn(\"Transforming to str index.\", ImplicitModificationWarning)\n"
     ]
    },
    {
     "data": {
      "text/plain": [
       "1.0"
      ]
     },
     "execution_count": 6,
     "metadata": {},
     "output_type": "execute_result"
    }
   ],
   "source": [
    "loss1 = merge_by_radius(cell_path1,folder_path1,radius1,method,meta_col)\n",
    "loss1"
   ]
  },
  {
   "cell_type": "code",
   "execution_count": null,
   "metadata": {},
   "outputs": [],
   "source": []
  },
  {
   "cell_type": "code",
   "execution_count": 7,
   "metadata": {},
   "outputs": [
    {
     "name": "stderr",
     "output_type": "stream",
     "text": [
      "/Users/dongjiajie/opt/anaconda3/lib/python3.8/site-packages/anndata/_io/specs/methods.py:590: OldFormatWarning: Element '/obs/orig.ident' was written without encoding metadata.\n",
      "  return read_elem(dataset)\n",
      "/Users/dongjiajie/opt/anaconda3/lib/python3.8/site-packages/anndata/_io/specs/methods.py:590: OldFormatWarning: Element '/obs/nCount_RNA' was written without encoding metadata.\n",
      "  return read_elem(dataset)\n",
      "/Users/dongjiajie/opt/anaconda3/lib/python3.8/site-packages/anndata/_io/specs/methods.py:590: OldFormatWarning: Element '/obs/nFeature_RNA' was written without encoding metadata.\n",
      "  return read_elem(dataset)\n",
      "/Users/dongjiajie/opt/anaconda3/lib/python3.8/site-packages/anndata/_io/specs/methods.py:590: OldFormatWarning: Element '/obs/UMAP_1' was written without encoding metadata.\n",
      "  return read_elem(dataset)\n",
      "/Users/dongjiajie/opt/anaconda3/lib/python3.8/site-packages/anndata/_io/specs/methods.py:590: OldFormatWarning: Element '/obs/UMAP_2' was written without encoding metadata.\n",
      "  return read_elem(dataset)\n",
      "/Users/dongjiajie/opt/anaconda3/lib/python3.8/site-packages/anndata/_io/specs/methods.py:590: OldFormatWarning: Element '/obs/Cluster' was written without encoding metadata.\n",
      "  return read_elem(dataset)\n",
      "/Users/dongjiajie/opt/anaconda3/lib/python3.8/site-packages/anndata/_io/specs/methods.py:590: OldFormatWarning: Element '/obs/Celltype..malignancy.' was written without encoding metadata.\n",
      "  return read_elem(dataset)\n",
      "/Users/dongjiajie/opt/anaconda3/lib/python3.8/site-packages/anndata/_io/specs/methods.py:590: OldFormatWarning: Element '/obs/Celltype..major.lineage.' was written without encoding metadata.\n",
      "  return read_elem(dataset)\n",
      "/Users/dongjiajie/opt/anaconda3/lib/python3.8/site-packages/anndata/_io/specs/methods.py:590: OldFormatWarning: Element '/obs/Celltype_minor' was written without encoding metadata.\n",
      "  return read_elem(dataset)\n",
      "/Users/dongjiajie/opt/anaconda3/lib/python3.8/site-packages/anndata/_io/specs/methods.py:590: OldFormatWarning: Element '/obs/Patient' was written without encoding metadata.\n",
      "  return read_elem(dataset)\n",
      "/Users/dongjiajie/opt/anaconda3/lib/python3.8/site-packages/anndata/_io/specs/methods.py:590: OldFormatWarning: Element '/obs/Sample' was written without encoding metadata.\n",
      "  return read_elem(dataset)\n",
      "/Users/dongjiajie/opt/anaconda3/lib/python3.8/site-packages/anndata/_io/specs/methods.py:590: OldFormatWarning: Element '/obs/Source' was written without encoding metadata.\n",
      "  return read_elem(dataset)\n",
      "/Users/dongjiajie/opt/anaconda3/lib/python3.8/site-packages/anndata/_io/specs/methods.py:590: OldFormatWarning: Element '/obs/_index' was written without encoding metadata.\n",
      "  return read_elem(dataset)\n",
      "/Users/dongjiajie/opt/anaconda3/lib/python3.8/site-packages/anndata/_io/h5ad.py:238: OldFormatWarning: Element '/obsm' was written without encoding metadata.\n",
      "  d[k] = read_elem(f[k])\n",
      "/Users/dongjiajie/opt/anaconda3/lib/python3.8/site-packages/anndata/_io/specs/methods.py:590: OldFormatWarning: Element '/var/features' was written without encoding metadata.\n",
      "  return read_elem(dataset)\n",
      "/Users/dongjiajie/opt/anaconda3/lib/python3.8/site-packages/anndata/_io/specs/methods.py:590: OldFormatWarning: Element '/var/_index' was written without encoding metadata.\n",
      "  return read_elem(dataset)\n",
      "/Users/dongjiajie/opt/anaconda3/lib/python3.8/site-packages/anndata/_io/h5ad.py:238: OldFormatWarning: Element '/varm' was written without encoding metadata.\n",
      "  d[k] = read_elem(f[k])\n",
      "/Users/dongjiajie/opt/anaconda3/lib/python3.8/site-packages/anndata/_io/h5ad.py:272: OldFormatWarning: Element '/raw/var' was written without encoding metadata.\n",
      "  raw[v] = read_elem(f[f\"raw/{v}\"])\n",
      "/Users/dongjiajie/opt/anaconda3/lib/python3.8/site-packages/anndata/_io/specs/methods.py:92: OldFormatWarning: Element '/raw/var/_index' was written without encoding metadata.\n",
      "  return {k: read_elem(v) for k, v in elem.items()}\n",
      "100%|████████████████████████████████| 10526/10526 [00:00<00:00, 9474086.67it/s]\n",
      "/Users/dongjiajie/Desktop/alignment/fyp/hyperalignment/final/core.py:136: FutureWarning: X.dtype being converted to np.float32 from float64. In the next version of anndata (0.9) conversion will not be automatic. Pass dtype explicitly to avoid this warning. Pass `AnnData(X, dtype=X.dtype, ...)` to get the future behavour.\n",
      "  adata = sc.AnnData(ann);\n",
      "/Users/dongjiajie/opt/anaconda3/lib/python3.8/site-packages/anndata/_core/anndata.py:121: ImplicitModificationWarning: Transforming to str index.\n",
      "  warnings.warn(\"Transforming to str index.\", ImplicitModificationWarning)\n"
     ]
    },
    {
     "data": {
      "text/plain": [
       "1.0"
      ]
     },
     "execution_count": 7,
     "metadata": {},
     "output_type": "execute_result"
    }
   ],
   "source": [
    "loss2 = merge_by_radius(cell_path2,folder_path2,radius2,method,meta_col)\n",
    "loss2"
   ]
  },
  {
   "cell_type": "code",
   "execution_count": 8,
   "metadata": {},
   "outputs": [],
   "source": [
    "adata1 = sc.read_h5ad(folder_path1+ 'adata.h5ad')\n",
    "adata2 = sc.read_h5ad(folder_path2+ 'adata.h5ad')"
   ]
  },
  {
   "cell_type": "code",
   "execution_count": 9,
   "metadata": {},
   "outputs": [
    {
     "name": "stderr",
     "output_type": "stream",
     "text": [
      "2024-04-01 16:39:40.422216: I tensorflow/core/platform/cpu_feature_guard.cc:182] This TensorFlow binary is optimized to use available CPU instructions in performance-critical operations.\n",
      "To enable the following instructions: AVX2 AVX512F AVX512_VNNI FMA, in other operations, rebuild TensorFlow with the appropriate compiler flags.\n"
     ]
    }
   ],
   "source": [
    "\n",
    "\n",
    "preprocessing_cluster(adata1,N_pcs=n_pca,resolution=resolution)\n",
    "preprocessing_cluster(adata2,N_pcs=n_pca,resolution=resolution)\n",
    "\n",
    "inter_gene = sort_data(adata1,adata2)\n",
    "\n",
    "tmp1 = calculate_cluster_centroid_for_genes(adata1,inter_gene,folder_path1)\n",
    "tmp2 = calculate_cluster_centroid_for_genes(adata2,inter_gene,folder_path2)\n",
    "\n",
    "# ari = adjusted_rand_score(adata1.obs['celltype'].tolist(), adata1.obs['leiden'].tolist())\n",
    "# print(\"ARI score for adata1: \", ari)\n",
    "# log1.write(\"ARI score for adata1: \"+ str(ari)+'\\n')\n",
    "\n",
    "# ari = adjusted_rand_score(adata2.obs['celltype'].tolist(), adata2.obs['leiden'].tolist())\n",
    "# print(\"ARI score for adata2: \", ari)\n",
    "# log2.write(\"ARI score for adata2: \"+ str(ari)+'\\n')\n",
    "\n",
    "meta_list1 = calculate_cluster_celltype(adata1);\n",
    "meta_list2 = calculate_cluster_celltype(adata2);\n",
    "calculate_meta_ori(folder_path1,adata1);\n",
    "calculate_meta_ori(folder_path2,adata2);"
   ]
  },
  {
   "cell_type": "code",
   "execution_count": 10,
   "metadata": {},
   "outputs": [
    {
     "name": "stdout",
     "output_type": "stream",
     "text": [
      "./datas/testing/1/datas.data length:16\n",
      "Generating all pairs superset\n",
      "\t Epoch 0 | average train loss: 0.948671\n",
      "Optimization finished.\n",
      "\t Epoch 1 | average train loss: 0.934838\n",
      "Optimization finished.\n",
      "\t Epoch 2 | average train loss: 0.933562\n",
      "Optimization finished.\n",
      "\t Epoch 3 | average train loss: 0.933247\n",
      "Optimization finished.\n",
      "\t Epoch 4 | average train loss: 0.926780\n",
      "Optimization finished.\n",
      "\t Epoch 5 | average train loss: 0.918468\n",
      "Optimization finished.\n",
      "\t Epoch 6 | average train loss: 0.917662\n",
      "Optimization finished.\n",
      "\t Epoch 7 | average train loss: 0.917303\n",
      "Optimization finished.\n",
      "\t Epoch 8 | average train loss: 0.917419\n",
      "Optimization finished.\n",
      "\t Epoch 9 | average train loss: 0.916684\n",
      "Optimization finished.\n"
     ]
    },
    {
     "name": "stderr",
     "output_type": "stream",
     "text": [
      "/Users/dongjiajie/Desktop/alignment/fyp/hyperalignment/final/utils/mst.py:4: DeprecationWarning: `np.int` is a deprecated alias for the builtin `int`. To silence this warning, use `int` by itself. Doing this will not modify any behavior and is safe. When replacing `np.int`, you may wish to use e.g. `np.int64` or `np.int32` to specify the precision. If you wish to review your current use, check the release note link for additional information.\n",
      "Deprecated in NumPy 1.20; for more details and guidance: https://numpy.org/devdocs/release/1.20.0-notes.html#deprecations\n",
      "  ij = np.empty((n - 1, 2), dtype=np.int)\n",
      "/Users/dongjiajie/Desktop/alignment/fyp/hyperalignment/final/utils/mst.py:10: DeprecationWarning: `np.int` is a deprecated alias for the builtin `int`. To silence this warning, use `int` by itself. Doing this will not modify any behavior and is safe. When replacing `np.int`, you may wish to use e.g. `np.int64` or `np.int32` to specify the precision. If you wish to review your current use, check the release note link for additional information.\n",
      "Deprecated in NumPy 1.20; for more details and guidance: https://numpy.org/devdocs/release/1.20.0-notes.html#deprecations\n",
      "  merged = np.zeros(n, dtype=np.int)\n",
      "/Users/dongjiajie/Desktop/alignment/fyp/hyperalignment/final/utils/mst.py:15: DeprecationWarning: `np.int` is a deprecated alias for the builtin `int`. To silence this warning, use `int` by itself. Doing this will not modify any behavior and is safe. When replacing `np.int`, you may wish to use e.g. `np.int64` or `np.int32` to specify the precision. If you wish to review your current use, check the release note link for additional information.\n",
      "Deprecated in NumPy 1.20; for more details and guidance: https://numpy.org/devdocs/release/1.20.0-notes.html#deprecations\n",
      "  j = np.empty(n, dtype=np.int)\n",
      "/Users/dongjiajie/Desktop/alignment/fyp/hyperalignment/final/datasets/balance_dataset.py:54: VisibleDeprecationWarning: Creating an ndarray from ragged nested sequences (which is a list-or-tuple of lists-or-tuples-or ndarrays with different lengths or shapes) is deprecated. If you meant to do this, you must specify 'dtype=object' when creating the ndarray.\n",
      "  temp = np.array(temp)\n",
      "/Users/dongjiajie/Desktop/alignment/fyp/hyperalignment/final/model/balancehc.py:22: UserWarning: To copy construct from a tensor, it is recommended to use sourceTensor.clone().detach() or sourceTensor.clone().detach().requires_grad_(True), rather than torch.tensor(sourceTensor).\n",
      "  self.embeddings.weight.data = torch.tensor(embeddings);\n"
     ]
    },
    {
     "name": "stdout",
     "output_type": "stream",
     "text": [
      "\t Epoch 0 | average train loss1: 0.466618\n",
      "\t Epoch 0 | average train loss2: 0.442840\n",
      "\t Epoch 1 | average train loss1: 0.477281\n"
     ]
    },
    {
     "name": "stderr",
     "output_type": "stream",
     "text": [
      "/Users/dongjiajie/Desktop/alignment/fyp/hyperalignment/final/model/balancehc.py:46: UserWarning: To copy construct from a tensor, it is recommended to use sourceTensor.clone().detach() or sourceTensor.clone().detach().requires_grad_(True), rather than torch.tensor(sourceTensor).\n",
      "  origin_distance = hyp_dist(torch.tensor(self.original[i]),torch.tensor(self.original[j]));\n",
      "/Users/dongjiajie/Desktop/alignment/fyp/hyperalignment/final/model/balancehc.py:71: UserWarning: To copy construct from a tensor, it is recommended to use sourceTensor.clone().detach() or sourceTensor.clone().detach().requires_grad_(True), rather than torch.tensor(sourceTensor).\n",
      "  origin_distance = hyp_dist(torch.tensor(self.original[int(nodef.son[0])]),torch.tensor(self.original[k])) + hyp_dist(torch.tensor(self.original[int(nodef.son[1])]),torch.tensor(self.original[k]));\n",
      "/Users/dongjiajie/Desktop/alignment/fyp/hyperalignment/final/model/balancehc.py:92: UserWarning: To copy construct from a tensor, it is recommended to use sourceTensor.clone().detach() or sourceTensor.clone().detach().requires_grad_(True), rather than torch.tensor(sourceTensor).\n",
      "  total = torch.sum(sims, dim=-1, keepdim=True) - w_ord + self.hyperparamter*torch.abs(origin_distance - hyp_dist(torch.tensor(self.original[int(nodef.son[0])]),e3) - hyp_dist(torch.tensor(self.original[int(nodef.son[1])]),e3));\n"
     ]
    },
    {
     "name": "stdout",
     "output_type": "stream",
     "text": [
      "\t Epoch 1 | average train loss2: 0.442729\n",
      "\t Epoch 2 | average train loss1: 0.472414\n",
      "\t Epoch 2 | average train loss2: 0.440571\n"
     ]
    },
    {
     "name": "stderr",
     "output_type": "stream",
     "text": [
      "/Users/dongjiajie/Desktop/alignment/fyp/hyperalignment/final/alignment.py:804: DeprecationWarning: `np.int` is a deprecated alias for the builtin `int`. To silence this warning, use `int` by itself. Doing this will not modify any behavior and is safe. When replacing `np.int`, you may wish to use e.g. `np.int64` or `np.int32` to specify the precision. If you wish to review your current use, check the release note link for additional information.\n",
      "Deprecated in NumPy 1.20; for more details and guidance: https://numpy.org/devdocs/release/1.20.0-notes.html#deprecations\n",
      "  father_name = father_name.astype(np.int)\n"
     ]
    }
   ],
   "source": [
    "embeddings1,nodes1 = get_Hyper_tree(folder_path1 +'datas.data',1,tmp1.shape[1]+1,0,epoches1,epoches2,save_path=folder_path1)\n",
    "nos1 = build_hyper_tree_from_folder(folder_path1)\n"
   ]
  },
  {
   "cell_type": "code",
   "execution_count": 11,
   "metadata": {},
   "outputs": [
    {
     "name": "stderr",
     "output_type": "stream",
     "text": [
      "/Users/dongjiajie/Desktop/alignment/fyp/hyperalignment/final/alignment.py:799: DeprecationWarning: `np.int` is a deprecated alias for the builtin `int`. To silence this warning, use `int` by itself. Doing this will not modify any behavior and is safe. When replacing `np.int`, you may wish to use e.g. `np.int64` or `np.int32` to specify the precision. If you wish to review your current use, check the release note link for additional information.\n",
      "Deprecated in NumPy 1.20; for more details and guidance: https://numpy.org/devdocs/release/1.20.0-notes.html#deprecations\n",
      "  father_name = father_name.astype(np.int)\n"
     ]
    },
    {
     "name": "stdout",
     "output_type": "stream",
     "text": [
      "True\n",
      "{'B': '#b808e7', 'CD8Tex': '#1261e5', 'Malignant': '#15e5d5', 'NK': '#639701', 'Plasma': '#f4ea02', 'CD8T': '#0f0892', 'empty': '#fff', 'Treg': '#9eb351', 'CD4Tconv': '#c01829', 'Fibroblasts': '#eeb3dc', 'Mast': '#d2682c', 'Mono/Macro': '#a3e7aa'}\n"
     ]
    },
    {
     "data": {
      "application/vnd.plotly.v1+json": {
       "config": {
        "plotlyServerURL": "https://plot.ly"
       },
       "data": [
        {
         "hoverinfo": "text",
         "hovertext": [
          "11_B"
         ],
         "legendgroup": "B",
         "marker": {
          "color": "#b808e7",
          "size": 10,
          "symbol": "circle-dot"
         },
         "mode": "markers+text",
         "name": "B",
         "type": "scatter",
         "x": [
          9.859375
         ],
         "y": [
          -2.5
         ]
        },
        {
         "hoverinfo": "text",
         "hovertext": [
          "12_CD8Tex"
         ],
         "legendgroup": "CD8Tex",
         "marker": {
          "color": "#1261e5",
          "size": 10,
          "symbol": "circle-dot"
         },
         "mode": "markers+text",
         "name": "CD8Tex",
         "type": "scatter",
         "x": [
          2.40625
         ],
         "y": [
          -1
         ]
        },
        {
         "hoverinfo": "text",
         "hovertext": [
          "4_Malignant",
          "13_Malignant"
         ],
         "legendgroup": "Malignant",
         "marker": {
          "color": "#15e5d5",
          "size": 10,
          "symbol": "circle-dot"
         },
         "mode": "markers+text",
         "name": "Malignant",
         "type": "scatter",
         "x": [
          5.78125,
          6.90625
         ],
         "y": [
          -1,
          -1
         ]
        },
        {
         "hoverinfo": "text",
         "hovertext": [
          "10_NK",
          "0_NK",
          "2_NK"
         ],
         "legendgroup": "NK",
         "marker": {
          "color": "#639701",
          "size": 10,
          "symbol": "circle-dot"
         },
         "mode": "markers+text",
         "name": "NK",
         "type": "scatter",
         "x": [
          3.8125,
          5.078125,
          5.359375
         ],
         "y": [
          0.5,
          -2.5,
          -2.5
         ]
        },
        {
         "hoverinfo": "text",
         "hovertext": [
          "9_Plasma"
         ],
         "legendgroup": "Plasma",
         "marker": {
          "color": "#f4ea02",
          "size": 10,
          "symbol": "circle-dot"
         },
         "mode": "markers+text",
         "name": "Plasma",
         "type": "scatter",
         "x": [
          9.15625
         ],
         "y": [
          -1
         ]
        },
        {
         "hoverinfo": "text",
         "hovertext": [
          "5_CD8T"
         ],
         "legendgroup": "CD8T",
         "marker": {
          "color": "#0f0892",
          "size": 10,
          "symbol": "circle-dot"
         },
         "mode": "markers+text",
         "name": "CD8T",
         "type": "scatter",
         "x": [
          4.65625
         ],
         "y": [
          -1
         ]
        },
        {
         "hoverinfo": "text",
         "hovertext": [
          "30",
          "28",
          "23",
          "19",
          "17",
          "27",
          "24",
          "20",
          "29",
          "25",
          "16",
          "18",
          "26",
          "22",
          "21"
         ],
         "legendgroup": "empty",
         "marker": {
          "color": "#fff",
          "size": 10,
          "symbol": "circle-dot"
         },
         "mode": "markers+text",
         "name": "empty",
         "type": "scatter",
         "x": [
          5.5,
          3.25,
          2.125,
          2.6875,
          2.96875,
          4.375,
          4.9375,
          5.21875,
          7.75,
          6.625,
          6.0625,
          7.1875,
          8.875,
          9.4375,
          9.71875
         ],
         "y": [
          5,
          3.5,
          2,
          0.5,
          -1,
          2,
          0.5,
          -1,
          3.5,
          2,
          0.5,
          0.5,
          2,
          0.5,
          -1
         ]
        },
        {
         "hoverinfo": "text",
         "hovertext": [
          "7_Treg"
         ],
         "legendgroup": "Treg",
         "marker": {
          "color": "#9eb351",
          "size": 10,
          "symbol": "circle-dot"
         },
         "mode": "markers+text",
         "name": "Treg",
         "type": "scatter",
         "x": [
          3.109375
         ],
         "y": [
          -2.5
         ]
        },
        {
         "hoverinfo": "text",
         "hovertext": [
          "3_CD4Tconv",
          "1_CD4Tconv"
         ],
         "legendgroup": "CD4Tconv",
         "marker": {
          "color": "#c01829",
          "size": 10,
          "symbol": "circle-dot"
         },
         "mode": "markers+text",
         "name": "CD4Tconv",
         "type": "scatter",
         "x": [
          1.5625,
          2.828125
         ],
         "y": [
          0.5,
          -2.5
         ]
        },
        {
         "hoverinfo": "text",
         "hovertext": [
          "15_Fibroblasts"
         ],
         "legendgroup": "Fibroblasts",
         "marker": {
          "color": "#eeb3dc",
          "size": 10,
          "symbol": "circle-dot"
         },
         "mode": "markers+text",
         "name": "Fibroblasts",
         "type": "scatter",
         "x": [
          7.46875
         ],
         "y": [
          -1
         ]
        },
        {
         "hoverinfo": "text",
         "hovertext": [
          "14_Mast"
         ],
         "legendgroup": "Mast",
         "marker": {
          "color": "#d2682c",
          "size": 10,
          "symbol": "circle-dot"
         },
         "mode": "markers+text",
         "name": "Mast",
         "type": "scatter",
         "x": [
          6.34375
         ],
         "y": [
          -1
         ]
        },
        {
         "hoverinfo": "text",
         "hovertext": [
          "8_Mono/Macro",
          "6_Mono/Macro"
         ],
         "legendgroup": "Mono/Macro",
         "marker": {
          "color": "#a3e7aa",
          "size": 10,
          "symbol": "circle-dot"
         },
         "mode": "markers+text",
         "name": "Mono/Macro",
         "type": "scatter",
         "x": [
          8.3125,
          9.578125
         ],
         "y": [
          0.5,
          -2.5
         ]
        }
       ],
       "layout": {
        "height": 500,
        "shapes": [
         {
          "layer": "below",
          "line": {
           "color": "#333",
           "width": 2
          },
          "type": "line",
          "x0": 5.5,
          "x1": 5.5,
          "y0": 5,
          "y1": 5
         },
         {
          "layer": "below",
          "line": {
           "color": "#333",
           "width": 2
          },
          "type": "line",
          "x0": 5.5,
          "x1": 3.25,
          "y0": 5,
          "y1": 3.5
         },
         {
          "layer": "below",
          "line": {
           "color": "#333",
           "width": 2
          },
          "type": "line",
          "x0": 3.25,
          "x1": 2.125,
          "y0": 3.5,
          "y1": 2
         },
         {
          "layer": "below",
          "line": {
           "color": "#333",
           "width": 2
          },
          "type": "line",
          "x0": 2.125,
          "x1": 1.5625,
          "y0": 2,
          "y1": 0.5
         },
         {
          "layer": "below",
          "line": {
           "color": "#333",
           "width": 2
          },
          "type": "line",
          "x0": 2.125,
          "x1": 2.6875,
          "y0": 2,
          "y1": 0.5
         },
         {
          "layer": "below",
          "line": {
           "color": "#333",
           "width": 2
          },
          "type": "line",
          "x0": 2.6875,
          "x1": 2.40625,
          "y0": 0.5,
          "y1": -1
         },
         {
          "layer": "below",
          "line": {
           "color": "#333",
           "width": 2
          },
          "type": "line",
          "x0": 2.6875,
          "x1": 2.96875,
          "y0": 0.5,
          "y1": -1
         },
         {
          "layer": "below",
          "line": {
           "color": "#333",
           "width": 2
          },
          "type": "line",
          "x0": 2.96875,
          "x1": 2.828125,
          "y0": -1,
          "y1": -2.5
         },
         {
          "layer": "below",
          "line": {
           "color": "#333",
           "width": 2
          },
          "type": "line",
          "x0": 2.96875,
          "x1": 3.109375,
          "y0": -1,
          "y1": -2.5
         },
         {
          "layer": "below",
          "line": {
           "color": "#333",
           "width": 2
          },
          "type": "line",
          "x0": 3.25,
          "x1": 4.375,
          "y0": 3.5,
          "y1": 2
         },
         {
          "layer": "below",
          "line": {
           "color": "#333",
           "width": 2
          },
          "type": "line",
          "x0": 4.375,
          "x1": 3.8125,
          "y0": 2,
          "y1": 0.5
         },
         {
          "layer": "below",
          "line": {
           "color": "#333",
           "width": 2
          },
          "type": "line",
          "x0": 4.375,
          "x1": 4.9375,
          "y0": 2,
          "y1": 0.5
         },
         {
          "layer": "below",
          "line": {
           "color": "#333",
           "width": 2
          },
          "type": "line",
          "x0": 4.9375,
          "x1": 4.65625,
          "y0": 0.5,
          "y1": -1
         },
         {
          "layer": "below",
          "line": {
           "color": "#333",
           "width": 2
          },
          "type": "line",
          "x0": 4.9375,
          "x1": 5.21875,
          "y0": 0.5,
          "y1": -1
         },
         {
          "layer": "below",
          "line": {
           "color": "#333",
           "width": 2
          },
          "type": "line",
          "x0": 5.21875,
          "x1": 5.078125,
          "y0": -1,
          "y1": -2.5
         },
         {
          "layer": "below",
          "line": {
           "color": "#333",
           "width": 2
          },
          "type": "line",
          "x0": 5.21875,
          "x1": 5.359375,
          "y0": -1,
          "y1": -2.5
         },
         {
          "layer": "below",
          "line": {
           "color": "#333",
           "width": 2
          },
          "type": "line",
          "x0": 5.5,
          "x1": 7.75,
          "y0": 5,
          "y1": 3.5
         },
         {
          "layer": "below",
          "line": {
           "color": "#333",
           "width": 2
          },
          "type": "line",
          "x0": 7.75,
          "x1": 6.625,
          "y0": 3.5,
          "y1": 2
         },
         {
          "layer": "below",
          "line": {
           "color": "#333",
           "width": 2
          },
          "type": "line",
          "x0": 6.625,
          "x1": 6.0625,
          "y0": 2,
          "y1": 0.5
         },
         {
          "layer": "below",
          "line": {
           "color": "#333",
           "width": 2
          },
          "type": "line",
          "x0": 6.0625,
          "x1": 5.78125,
          "y0": 0.5,
          "y1": -1
         },
         {
          "layer": "below",
          "line": {
           "color": "#333",
           "width": 2
          },
          "type": "line",
          "x0": 6.0625,
          "x1": 6.34375,
          "y0": 0.5,
          "y1": -1
         },
         {
          "layer": "below",
          "line": {
           "color": "#333",
           "width": 2
          },
          "type": "line",
          "x0": 6.625,
          "x1": 7.1875,
          "y0": 2,
          "y1": 0.5
         },
         {
          "layer": "below",
          "line": {
           "color": "#333",
           "width": 2
          },
          "type": "line",
          "x0": 7.1875,
          "x1": 6.90625,
          "y0": 0.5,
          "y1": -1
         },
         {
          "layer": "below",
          "line": {
           "color": "#333",
           "width": 2
          },
          "type": "line",
          "x0": 7.1875,
          "x1": 7.46875,
          "y0": 0.5,
          "y1": -1
         },
         {
          "layer": "below",
          "line": {
           "color": "#333",
           "width": 2
          },
          "type": "line",
          "x0": 7.75,
          "x1": 8.875,
          "y0": 3.5,
          "y1": 2
         },
         {
          "layer": "below",
          "line": {
           "color": "#333",
           "width": 2
          },
          "type": "line",
          "x0": 8.875,
          "x1": 8.3125,
          "y0": 2,
          "y1": 0.5
         },
         {
          "layer": "below",
          "line": {
           "color": "#333",
           "width": 2
          },
          "type": "line",
          "x0": 8.875,
          "x1": 9.4375,
          "y0": 2,
          "y1": 0.5
         },
         {
          "layer": "below",
          "line": {
           "color": "#333",
           "width": 2
          },
          "type": "line",
          "x0": 9.4375,
          "x1": 9.15625,
          "y0": 0.5,
          "y1": -1
         },
         {
          "layer": "below",
          "line": {
           "color": "#333",
           "width": 2
          },
          "type": "line",
          "x0": 9.4375,
          "x1": 9.71875,
          "y0": 0.5,
          "y1": -1
         },
         {
          "layer": "below",
          "line": {
           "color": "#333",
           "width": 2
          },
          "type": "line",
          "x0": 9.71875,
          "x1": 9.578125,
          "y0": -1,
          "y1": -2.5
         },
         {
          "layer": "below",
          "line": {
           "color": "#333",
           "width": 2
          },
          "type": "line",
          "x0": 9.71875,
          "x1": 9.859375,
          "y0": -1,
          "y1": -2.5
         }
        ],
        "template": {
         "data": {
          "bar": [
           {
            "error_x": {
             "color": "#2a3f5f"
            },
            "error_y": {
             "color": "#2a3f5f"
            },
            "marker": {
             "line": {
              "color": "#E5ECF6",
              "width": 0.5
             },
             "pattern": {
              "fillmode": "overlay",
              "size": 10,
              "solidity": 0.2
             }
            },
            "type": "bar"
           }
          ],
          "barpolar": [
           {
            "marker": {
             "line": {
              "color": "#E5ECF6",
              "width": 0.5
             },
             "pattern": {
              "fillmode": "overlay",
              "size": 10,
              "solidity": 0.2
             }
            },
            "type": "barpolar"
           }
          ],
          "carpet": [
           {
            "aaxis": {
             "endlinecolor": "#2a3f5f",
             "gridcolor": "white",
             "linecolor": "white",
             "minorgridcolor": "white",
             "startlinecolor": "#2a3f5f"
            },
            "baxis": {
             "endlinecolor": "#2a3f5f",
             "gridcolor": "white",
             "linecolor": "white",
             "minorgridcolor": "white",
             "startlinecolor": "#2a3f5f"
            },
            "type": "carpet"
           }
          ],
          "choropleth": [
           {
            "colorbar": {
             "outlinewidth": 0,
             "ticks": ""
            },
            "type": "choropleth"
           }
          ],
          "contour": [
           {
            "colorbar": {
             "outlinewidth": 0,
             "ticks": ""
            },
            "colorscale": [
             [
              0,
              "#0d0887"
             ],
             [
              0.1111111111111111,
              "#46039f"
             ],
             [
              0.2222222222222222,
              "#7201a8"
             ],
             [
              0.3333333333333333,
              "#9c179e"
             ],
             [
              0.4444444444444444,
              "#bd3786"
             ],
             [
              0.5555555555555556,
              "#d8576b"
             ],
             [
              0.6666666666666666,
              "#ed7953"
             ],
             [
              0.7777777777777778,
              "#fb9f3a"
             ],
             [
              0.8888888888888888,
              "#fdca26"
             ],
             [
              1,
              "#f0f921"
             ]
            ],
            "type": "contour"
           }
          ],
          "contourcarpet": [
           {
            "colorbar": {
             "outlinewidth": 0,
             "ticks": ""
            },
            "type": "contourcarpet"
           }
          ],
          "heatmap": [
           {
            "colorbar": {
             "outlinewidth": 0,
             "ticks": ""
            },
            "colorscale": [
             [
              0,
              "#0d0887"
             ],
             [
              0.1111111111111111,
              "#46039f"
             ],
             [
              0.2222222222222222,
              "#7201a8"
             ],
             [
              0.3333333333333333,
              "#9c179e"
             ],
             [
              0.4444444444444444,
              "#bd3786"
             ],
             [
              0.5555555555555556,
              "#d8576b"
             ],
             [
              0.6666666666666666,
              "#ed7953"
             ],
             [
              0.7777777777777778,
              "#fb9f3a"
             ],
             [
              0.8888888888888888,
              "#fdca26"
             ],
             [
              1,
              "#f0f921"
             ]
            ],
            "type": "heatmap"
           }
          ],
          "heatmapgl": [
           {
            "colorbar": {
             "outlinewidth": 0,
             "ticks": ""
            },
            "colorscale": [
             [
              0,
              "#0d0887"
             ],
             [
              0.1111111111111111,
              "#46039f"
             ],
             [
              0.2222222222222222,
              "#7201a8"
             ],
             [
              0.3333333333333333,
              "#9c179e"
             ],
             [
              0.4444444444444444,
              "#bd3786"
             ],
             [
              0.5555555555555556,
              "#d8576b"
             ],
             [
              0.6666666666666666,
              "#ed7953"
             ],
             [
              0.7777777777777778,
              "#fb9f3a"
             ],
             [
              0.8888888888888888,
              "#fdca26"
             ],
             [
              1,
              "#f0f921"
             ]
            ],
            "type": "heatmapgl"
           }
          ],
          "histogram": [
           {
            "marker": {
             "pattern": {
              "fillmode": "overlay",
              "size": 10,
              "solidity": 0.2
             }
            },
            "type": "histogram"
           }
          ],
          "histogram2d": [
           {
            "colorbar": {
             "outlinewidth": 0,
             "ticks": ""
            },
            "colorscale": [
             [
              0,
              "#0d0887"
             ],
             [
              0.1111111111111111,
              "#46039f"
             ],
             [
              0.2222222222222222,
              "#7201a8"
             ],
             [
              0.3333333333333333,
              "#9c179e"
             ],
             [
              0.4444444444444444,
              "#bd3786"
             ],
             [
              0.5555555555555556,
              "#d8576b"
             ],
             [
              0.6666666666666666,
              "#ed7953"
             ],
             [
              0.7777777777777778,
              "#fb9f3a"
             ],
             [
              0.8888888888888888,
              "#fdca26"
             ],
             [
              1,
              "#f0f921"
             ]
            ],
            "type": "histogram2d"
           }
          ],
          "histogram2dcontour": [
           {
            "colorbar": {
             "outlinewidth": 0,
             "ticks": ""
            },
            "colorscale": [
             [
              0,
              "#0d0887"
             ],
             [
              0.1111111111111111,
              "#46039f"
             ],
             [
              0.2222222222222222,
              "#7201a8"
             ],
             [
              0.3333333333333333,
              "#9c179e"
             ],
             [
              0.4444444444444444,
              "#bd3786"
             ],
             [
              0.5555555555555556,
              "#d8576b"
             ],
             [
              0.6666666666666666,
              "#ed7953"
             ],
             [
              0.7777777777777778,
              "#fb9f3a"
             ],
             [
              0.8888888888888888,
              "#fdca26"
             ],
             [
              1,
              "#f0f921"
             ]
            ],
            "type": "histogram2dcontour"
           }
          ],
          "mesh3d": [
           {
            "colorbar": {
             "outlinewidth": 0,
             "ticks": ""
            },
            "type": "mesh3d"
           }
          ],
          "parcoords": [
           {
            "line": {
             "colorbar": {
              "outlinewidth": 0,
              "ticks": ""
             }
            },
            "type": "parcoords"
           }
          ],
          "pie": [
           {
            "automargin": true,
            "type": "pie"
           }
          ],
          "scatter": [
           {
            "fillpattern": {
             "fillmode": "overlay",
             "size": 10,
             "solidity": 0.2
            },
            "type": "scatter"
           }
          ],
          "scatter3d": [
           {
            "line": {
             "colorbar": {
              "outlinewidth": 0,
              "ticks": ""
             }
            },
            "marker": {
             "colorbar": {
              "outlinewidth": 0,
              "ticks": ""
             }
            },
            "type": "scatter3d"
           }
          ],
          "scattercarpet": [
           {
            "marker": {
             "colorbar": {
              "outlinewidth": 0,
              "ticks": ""
             }
            },
            "type": "scattercarpet"
           }
          ],
          "scattergeo": [
           {
            "marker": {
             "colorbar": {
              "outlinewidth": 0,
              "ticks": ""
             }
            },
            "type": "scattergeo"
           }
          ],
          "scattergl": [
           {
            "marker": {
             "colorbar": {
              "outlinewidth": 0,
              "ticks": ""
             }
            },
            "type": "scattergl"
           }
          ],
          "scattermapbox": [
           {
            "marker": {
             "colorbar": {
              "outlinewidth": 0,
              "ticks": ""
             }
            },
            "type": "scattermapbox"
           }
          ],
          "scatterpolar": [
           {
            "marker": {
             "colorbar": {
              "outlinewidth": 0,
              "ticks": ""
             }
            },
            "type": "scatterpolar"
           }
          ],
          "scatterpolargl": [
           {
            "marker": {
             "colorbar": {
              "outlinewidth": 0,
              "ticks": ""
             }
            },
            "type": "scatterpolargl"
           }
          ],
          "scatterternary": [
           {
            "marker": {
             "colorbar": {
              "outlinewidth": 0,
              "ticks": ""
             }
            },
            "type": "scatterternary"
           }
          ],
          "surface": [
           {
            "colorbar": {
             "outlinewidth": 0,
             "ticks": ""
            },
            "colorscale": [
             [
              0,
              "#0d0887"
             ],
             [
              0.1111111111111111,
              "#46039f"
             ],
             [
              0.2222222222222222,
              "#7201a8"
             ],
             [
              0.3333333333333333,
              "#9c179e"
             ],
             [
              0.4444444444444444,
              "#bd3786"
             ],
             [
              0.5555555555555556,
              "#d8576b"
             ],
             [
              0.6666666666666666,
              "#ed7953"
             ],
             [
              0.7777777777777778,
              "#fb9f3a"
             ],
             [
              0.8888888888888888,
              "#fdca26"
             ],
             [
              1,
              "#f0f921"
             ]
            ],
            "type": "surface"
           }
          ],
          "table": [
           {
            "cells": {
             "fill": {
              "color": "#EBF0F8"
             },
             "line": {
              "color": "white"
             }
            },
            "header": {
             "fill": {
              "color": "#C8D4E3"
             },
             "line": {
              "color": "white"
             }
            },
            "type": "table"
           }
          ]
         },
         "layout": {
          "annotationdefaults": {
           "arrowcolor": "#2a3f5f",
           "arrowhead": 0,
           "arrowwidth": 1
          },
          "autotypenumbers": "strict",
          "coloraxis": {
           "colorbar": {
            "outlinewidth": 0,
            "ticks": ""
           }
          },
          "colorscale": {
           "diverging": [
            [
             0,
             "#8e0152"
            ],
            [
             0.1,
             "#c51b7d"
            ],
            [
             0.2,
             "#de77ae"
            ],
            [
             0.3,
             "#f1b6da"
            ],
            [
             0.4,
             "#fde0ef"
            ],
            [
             0.5,
             "#f7f7f7"
            ],
            [
             0.6,
             "#e6f5d0"
            ],
            [
             0.7,
             "#b8e186"
            ],
            [
             0.8,
             "#7fbc41"
            ],
            [
             0.9,
             "#4d9221"
            ],
            [
             1,
             "#276419"
            ]
           ],
           "sequential": [
            [
             0,
             "#0d0887"
            ],
            [
             0.1111111111111111,
             "#46039f"
            ],
            [
             0.2222222222222222,
             "#7201a8"
            ],
            [
             0.3333333333333333,
             "#9c179e"
            ],
            [
             0.4444444444444444,
             "#bd3786"
            ],
            [
             0.5555555555555556,
             "#d8576b"
            ],
            [
             0.6666666666666666,
             "#ed7953"
            ],
            [
             0.7777777777777778,
             "#fb9f3a"
            ],
            [
             0.8888888888888888,
             "#fdca26"
            ],
            [
             1,
             "#f0f921"
            ]
           ],
           "sequentialminus": [
            [
             0,
             "#0d0887"
            ],
            [
             0.1111111111111111,
             "#46039f"
            ],
            [
             0.2222222222222222,
             "#7201a8"
            ],
            [
             0.3333333333333333,
             "#9c179e"
            ],
            [
             0.4444444444444444,
             "#bd3786"
            ],
            [
             0.5555555555555556,
             "#d8576b"
            ],
            [
             0.6666666666666666,
             "#ed7953"
            ],
            [
             0.7777777777777778,
             "#fb9f3a"
            ],
            [
             0.8888888888888888,
             "#fdca26"
            ],
            [
             1,
             "#f0f921"
            ]
           ]
          },
          "colorway": [
           "#636efa",
           "#EF553B",
           "#00cc96",
           "#ab63fa",
           "#FFA15A",
           "#19d3f3",
           "#FF6692",
           "#B6E880",
           "#FF97FF",
           "#FECB52"
          ],
          "font": {
           "color": "#2a3f5f"
          },
          "geo": {
           "bgcolor": "white",
           "lakecolor": "white",
           "landcolor": "#E5ECF6",
           "showlakes": true,
           "showland": true,
           "subunitcolor": "white"
          },
          "hoverlabel": {
           "align": "left"
          },
          "hovermode": "closest",
          "mapbox": {
           "style": "light"
          },
          "paper_bgcolor": "white",
          "plot_bgcolor": "#E5ECF6",
          "polar": {
           "angularaxis": {
            "gridcolor": "white",
            "linecolor": "white",
            "ticks": ""
           },
           "bgcolor": "#E5ECF6",
           "radialaxis": {
            "gridcolor": "white",
            "linecolor": "white",
            "ticks": ""
           }
          },
          "scene": {
           "xaxis": {
            "backgroundcolor": "#E5ECF6",
            "gridcolor": "white",
            "gridwidth": 2,
            "linecolor": "white",
            "showbackground": true,
            "ticks": "",
            "zerolinecolor": "white"
           },
           "yaxis": {
            "backgroundcolor": "#E5ECF6",
            "gridcolor": "white",
            "gridwidth": 2,
            "linecolor": "white",
            "showbackground": true,
            "ticks": "",
            "zerolinecolor": "white"
           },
           "zaxis": {
            "backgroundcolor": "#E5ECF6",
            "gridcolor": "white",
            "gridwidth": 2,
            "linecolor": "white",
            "showbackground": true,
            "ticks": "",
            "zerolinecolor": "white"
           }
          },
          "shapedefaults": {
           "line": {
            "color": "#2a3f5f"
           }
          },
          "ternary": {
           "aaxis": {
            "gridcolor": "white",
            "linecolor": "white",
            "ticks": ""
           },
           "baxis": {
            "gridcolor": "white",
            "linecolor": "white",
            "ticks": ""
           },
           "bgcolor": "#E5ECF6",
           "caxis": {
            "gridcolor": "white",
            "linecolor": "white",
            "ticks": ""
           }
          },
          "title": {
           "x": 0.05
          },
          "xaxis": {
           "automargin": true,
           "gridcolor": "white",
           "linecolor": "white",
           "ticks": "",
           "title": {
            "standoff": 15
           },
           "zerolinecolor": "white",
           "zerolinewidth": 2
          },
          "yaxis": {
           "automargin": true,
           "gridcolor": "white",
           "linecolor": "white",
           "ticks": "",
           "title": {
            "standoff": 15
           },
           "zerolinecolor": "white",
           "zerolinewidth": 2
          }
         }
        },
        "width": 1000,
        "xaxis": {
         "showgrid": false,
         "showline": false,
         "showticklabels": false,
         "zeroline": false
        },
        "yaxis": {
         "showgrid": false,
         "showline": false,
         "showticklabels": false,
         "zeroline": false
        }
       }
      }
     },
     "metadata": {},
     "output_type": "display_data"
    }
   ],
   "source": [
    "merge_points_with_c(embeddings1,nodes1,folder_path1 +'datas.data',1,tmp1.shape[1]+1,0,folder_path1,epoches2,c1,c2)\n",
    "nos1 = build_hyper_tree_from_folder(folder_path1,True)\n",
    "add_meta(nos1[0],meta_list1,[])\n",
    "show_tree(nos1[0],color=['#184e77','#1a759f','#168aad',\"#34a0a4\",'#52b69a','#99d98c','#76c893','#99d98c']).show_fig()\n",
    "remove_meta(nos1[0]);"
   ]
  },
  {
   "cell_type": "code",
   "execution_count": 12,
   "metadata": {},
   "outputs": [
    {
     "name": "stdout",
     "output_type": "stream",
     "text": [
      "./datas/testing/2/datas.data length:22\n",
      "Generating all pairs superset\n",
      "\t Epoch 0 | average train loss: 0.928577\n",
      "Optimization finished.\n",
      "\t Epoch 1 | average train loss: 0.906281\n",
      "Optimization finished.\n",
      "\t Epoch 2 | average train loss: 0.904692\n",
      "Optimization finished.\n",
      "\t Epoch 3 | average train loss: 0.904675\n",
      "Optimization finished.\n",
      "\t Epoch 4 | average train loss: 0.903639\n",
      "Optimization finished.\n",
      "\t Epoch 5 | average train loss: 0.905249\n",
      "Optimization finished.\n",
      "\t Epoch 6 | average train loss: 0.904139\n",
      "Optimization finished.\n",
      "\t Epoch 7 | average train loss: 0.904516\n",
      "Optimization finished.\n",
      "\t Epoch 8 | average train loss: 0.904160\n",
      "Optimization finished.\n",
      "\t Epoch 9 | average train loss: 0.903831\n",
      "Optimization finished.\n"
     ]
    },
    {
     "name": "stderr",
     "output_type": "stream",
     "text": [
      "/Users/dongjiajie/Desktop/alignment/fyp/hyperalignment/final/utils/mst.py:4: DeprecationWarning:\n",
      "\n",
      "`np.int` is a deprecated alias for the builtin `int`. To silence this warning, use `int` by itself. Doing this will not modify any behavior and is safe. When replacing `np.int`, you may wish to use e.g. `np.int64` or `np.int32` to specify the precision. If you wish to review your current use, check the release note link for additional information.\n",
      "Deprecated in NumPy 1.20; for more details and guidance: https://numpy.org/devdocs/release/1.20.0-notes.html#deprecations\n",
      "\n",
      "/Users/dongjiajie/Desktop/alignment/fyp/hyperalignment/final/utils/mst.py:10: DeprecationWarning:\n",
      "\n",
      "`np.int` is a deprecated alias for the builtin `int`. To silence this warning, use `int` by itself. Doing this will not modify any behavior and is safe. When replacing `np.int`, you may wish to use e.g. `np.int64` or `np.int32` to specify the precision. If you wish to review your current use, check the release note link for additional information.\n",
      "Deprecated in NumPy 1.20; for more details and guidance: https://numpy.org/devdocs/release/1.20.0-notes.html#deprecations\n",
      "\n",
      "/Users/dongjiajie/Desktop/alignment/fyp/hyperalignment/final/utils/mst.py:15: DeprecationWarning:\n",
      "\n",
      "`np.int` is a deprecated alias for the builtin `int`. To silence this warning, use `int` by itself. Doing this will not modify any behavior and is safe. When replacing `np.int`, you may wish to use e.g. `np.int64` or `np.int32` to specify the precision. If you wish to review your current use, check the release note link for additional information.\n",
      "Deprecated in NumPy 1.20; for more details and guidance: https://numpy.org/devdocs/release/1.20.0-notes.html#deprecations\n",
      "\n",
      "/Users/dongjiajie/Desktop/alignment/fyp/hyperalignment/final/datasets/balance_dataset.py:54: VisibleDeprecationWarning:\n",
      "\n",
      "Creating an ndarray from ragged nested sequences (which is a list-or-tuple of lists-or-tuples-or ndarrays with different lengths or shapes) is deprecated. If you meant to do this, you must specify 'dtype=object' when creating the ndarray.\n",
      "\n",
      "/Users/dongjiajie/Desktop/alignment/fyp/hyperalignment/final/model/balancehc.py:22: UserWarning:\n",
      "\n",
      "To copy construct from a tensor, it is recommended to use sourceTensor.clone().detach() or sourceTensor.clone().detach().requires_grad_(True), rather than torch.tensor(sourceTensor).\n",
      "\n"
     ]
    },
    {
     "name": "stdout",
     "output_type": "stream",
     "text": [
      "\t Epoch 0 | average train loss1: 0.484856\n",
      "\t Epoch 0 | average train loss2: 0.445113\n"
     ]
    },
    {
     "name": "stderr",
     "output_type": "stream",
     "text": [
      "/Users/dongjiajie/Desktop/alignment/fyp/hyperalignment/final/model/balancehc.py:46: UserWarning:\n",
      "\n",
      "To copy construct from a tensor, it is recommended to use sourceTensor.clone().detach() or sourceTensor.clone().detach().requires_grad_(True), rather than torch.tensor(sourceTensor).\n",
      "\n"
     ]
    },
    {
     "name": "stdout",
     "output_type": "stream",
     "text": [
      "\t Epoch 1 | average train loss1: 0.503168\n"
     ]
    },
    {
     "name": "stderr",
     "output_type": "stream",
     "text": [
      "/Users/dongjiajie/Desktop/alignment/fyp/hyperalignment/final/model/balancehc.py:71: UserWarning:\n",
      "\n",
      "To copy construct from a tensor, it is recommended to use sourceTensor.clone().detach() or sourceTensor.clone().detach().requires_grad_(True), rather than torch.tensor(sourceTensor).\n",
      "\n",
      "/Users/dongjiajie/Desktop/alignment/fyp/hyperalignment/final/model/balancehc.py:92: UserWarning:\n",
      "\n",
      "To copy construct from a tensor, it is recommended to use sourceTensor.clone().detach() or sourceTensor.clone().detach().requires_grad_(True), rather than torch.tensor(sourceTensor).\n",
      "\n"
     ]
    },
    {
     "name": "stdout",
     "output_type": "stream",
     "text": [
      "\t Epoch 1 | average train loss2: 0.444082\n",
      "\t Epoch 2 | average train loss1: 0.497186\n",
      "\t Epoch 2 | average train loss2: 0.444064\n"
     ]
    },
    {
     "name": "stderr",
     "output_type": "stream",
     "text": [
      "/Users/dongjiajie/Desktop/alignment/fyp/hyperalignment/final/alignment.py:804: DeprecationWarning:\n",
      "\n",
      "`np.int` is a deprecated alias for the builtin `int`. To silence this warning, use `int` by itself. Doing this will not modify any behavior and is safe. When replacing `np.int`, you may wish to use e.g. `np.int64` or `np.int32` to specify the precision. If you wish to review your current use, check the release note link for additional information.\n",
      "Deprecated in NumPy 1.20; for more details and guidance: https://numpy.org/devdocs/release/1.20.0-notes.html#deprecations\n",
      "\n"
     ]
    }
   ],
   "source": [
    "embeddings2,nodes2 = get_Hyper_tree(folder_path2 +'datas.data',1,tmp2.shape[1]+1,0,epoches1,epoches2,save_path=folder_path2)\n",
    "nos2 = build_hyper_tree_from_folder(folder_path2)\n"
   ]
  },
  {
   "cell_type": "code",
   "execution_count": 13,
   "metadata": {},
   "outputs": [
    {
     "name": "stdout",
     "output_type": "stream",
     "text": [
      "True\n"
     ]
    },
    {
     "name": "stderr",
     "output_type": "stream",
     "text": [
      "/Users/dongjiajie/Desktop/alignment/fyp/hyperalignment/final/alignment.py:799: DeprecationWarning:\n",
      "\n",
      "`np.int` is a deprecated alias for the builtin `int`. To silence this warning, use `int` by itself. Doing this will not modify any behavior and is safe. When replacing `np.int`, you may wish to use e.g. `np.int64` or `np.int32` to specify the precision. If you wish to review your current use, check the release note link for additional information.\n",
      "Deprecated in NumPy 1.20; for more details and guidance: https://numpy.org/devdocs/release/1.20.0-notes.html#deprecations\n",
      "\n"
     ]
    }
   ],
   "source": [
    "merge_points_with_c(embeddings2,nodes2,folder_path2 +'datas.data',1,tmp2.shape[1]+1,0,folder_path2,epoches2,c1,c2)\n",
    "nos2 = build_hyper_tree_from_folder(folder_path2,True)"
   ]
  },
  {
   "cell_type": "code",
   "execution_count": 14,
   "metadata": {},
   "outputs": [
    {
     "name": "stderr",
     "output_type": "stream",
     "text": [
      "/Users/dongjiajie/Desktop/alignment/fyp/hyperalignment/final/alignment.py:799: DeprecationWarning:\n",
      "\n",
      "`np.int` is a deprecated alias for the builtin `int`. To silence this warning, use `int` by itself. Doing this will not modify any behavior and is safe. When replacing `np.int`, you may wish to use e.g. `np.int64` or `np.int32` to specify the precision. If you wish to review your current use, check the release note link for additional information.\n",
      "Deprecated in NumPy 1.20; for more details and guidance: https://numpy.org/devdocs/release/1.20.0-notes.html#deprecations\n",
      "\n",
      "/Users/dongjiajie/Desktop/alignment/fyp/hyperalignment/final/alignment.py:799: DeprecationWarning:\n",
      "\n",
      "`np.int` is a deprecated alias for the builtin `int`. To silence this warning, use `int` by itself. Doing this will not modify any behavior and is safe. When replacing `np.int`, you may wish to use e.g. `np.int64` or `np.int32` to specify the precision. If you wish to review your current use, check the release note link for additional information.\n",
      "Deprecated in NumPy 1.20; for more details and guidance: https://numpy.org/devdocs/release/1.20.0-notes.html#deprecations\n",
      "\n"
     ]
    },
    {
     "name": "stdout",
     "output_type": "stream",
     "text": [
      "The mininum cost for alignment is 37.21212121212122\n",
      "The alignment edges list is [('30', '42'), ('29', '40'), ('26', '30'), ('22', '29'), ('21', '23'), ('11_B', '6_Endothelial'), ('6_Mono/Macro', '16_Endothelial'), ('9_Plasma', '1_Myofibroblasts'), ('8_Mono/Macro', '0_Endothelial'), ('25', '39'), ('18', '38'), ('15_Fibroblasts', '19_Hepatocytes'), ('13_Malignant', '12_Fibroblasts'), ('16', '35'), ('14_Mast', '18_CD8T'), ('4_Malignant', '3_Fibroblasts'), ('28', '41'), ('27', '36'), ('24', '32'), ('20', '27'), ('2_NK', '25'), ('0_NK', '2_Myofibroblasts'), ('5_CD8T', '9_Myofibroblasts'), ('10_NK', '4_Endothelial'), ('23', '37'), ('19', '33'), ('17', '26'), ('7_Treg', '11_Cholangiocyte'), ('1_CD4Tconv', '13_Malignant'), ('12_CD8Tex', '14_Endothelial'), ('3_CD4Tconv', '10_Hepatocytes')]\n",
      "average cost for one node:0.5028665028665029\n",
      "\n",
      "correct alignment rate:0.0\n"
     ]
    }
   ],
   "source": [
    "nodes1 = build_hyper_tree_from_folder(folder_path1,True)\n",
    "nodes2 = build_hyper_tree_from_folder(folder_path2,True)\n",
    "\n",
    "nodes_merge1 = [];\n",
    "nodes_merge2 = [];\n",
    "add_meta(nodes1[0],meta_list1,[])\n",
    "add_meta(nodes2[0],meta_list2,[])\n",
    "\n",
    "rate,anslist,ans = run_alignment(nodes1,nodes2,folder_path1,folder_path2,meta_list1,meta_list2);\n"
   ]
  },
  {
   "cell_type": "code",
   "execution_count": 15,
   "metadata": {},
   "outputs": [],
   "source": [
    "anslist_dist = dict(ans)\n",
    "anslist_dist.keys()\n",
    "def search_lineage(now,path,anss):\n",
    "    path.append(now.name)\n",
    "    if(now.son==[]):\n",
    "        anss.append(path);\n",
    "        return\n",
    "    \n",
    "    for i in now.son:\n",
    "        search_lineage(i,path.copy(),anss);\n",
    "temp1 = []\n",
    "search_lineage(nodes1[0],[],temp1)\n",
    "temp1\n",
    "route1 = []\n",
    "route2 = []\n",
    "\n",
    "for i in temp1:\n",
    "    r1 = []\n",
    "    r2 = []\n",
    "    for j in i:\n",
    "        if j in anslist_dist.keys():\n",
    "            r1.append(j)\n",
    "            r2.append(anslist_dist[j])\n",
    "    route1.append(r1)\n",
    "    route2.append(r2)\n",
    "adata1.obs.index = [i+'_1' for i in adata1.obs.index]\n",
    "adata2.obs.index = [i+'_2' for i in adata2.obs.index]"
   ]
  },
  {
   "cell_type": "code",
   "execution_count": 16,
   "metadata": {},
   "outputs": [
    {
     "name": "stderr",
     "output_type": "stream",
     "text": [
      "WARNING:rpy2.rinterface_lib.callbacks:R[write to console]: Loading required package: mgcv\n",
      "\n",
      "WARNING:rpy2.rinterface_lib.callbacks:R[write to console]: Loading required package: nlme\n",
      "\n",
      "WARNING:rpy2.rinterface_lib.callbacks:R[write to console]: This is mgcv 1.9-0. For overview type 'help(\"mgcv-package\")'.\n",
      "\n",
      "WARNING:rpy2.rinterface_lib.callbacks:R[write to console]: Loading required package: genefilter\n",
      "\n",
      "WARNING:rpy2.rinterface_lib.callbacks:R[write to console]: Loading required package: BiocParallel\n",
      "\n",
      "/Users/dongjiajie/opt/anaconda3/lib/python3.8/site-packages/rpy2/robjects/pandas2ri.py:368: DeprecationWarning:\n",
      "\n",
      "The global conversion available with activate() is deprecated and will be removed in the next major release. Use a local converter.\n",
      "\n",
      "/Users/dongjiajie/opt/anaconda3/lib/python3.8/site-packages/rpy2/robjects/numpy2ri.py:241: DeprecationWarning:\n",
      "\n",
      "The global conversion available with activate() is deprecated and will be removed in the next major release. Use a local converter.\n",
      "\n"
     ]
    },
    {
     "name": "stdout",
     "output_type": "stream",
     "text": [
      "Found 106 genes with uniform expression within a single batch (all zeros); these will not be adjusted for batch.\n"
     ]
    },
    {
     "name": "stderr",
     "output_type": "stream",
     "text": [
      "WARNING:rpy2.rinterface_lib.callbacks:R[write to console]: Found2batches\n",
      "\n",
      "WARNING:rpy2.rinterface_lib.callbacks:R[write to console]: Adjusting for0covariate(s) or covariate level(s)\n",
      "\n",
      "WARNING:rpy2.rinterface_lib.callbacks:R[write to console]: Standardizing Data across genes\n",
      "\n",
      "WARNING:rpy2.rinterface_lib.callbacks:R[write to console]: Fitting L/S model and finding priors\n",
      "\n",
      "WARNING:rpy2.rinterface_lib.callbacks:R[write to console]: Finding parametric adjustments\n",
      "\n",
      "WARNING:rpy2.rinterface_lib.callbacks:R[write to console]: Adjusting the Data\n",
      "\n",
      "\n"
     ]
    },
    {
     "name": "stdout",
     "output_type": "stream",
     "text": [
      "(1425, 452)\n"
     ]
    },
    {
     "name": "stderr",
     "output_type": "stream",
     "text": [
      "/Users/dongjiajie/opt/anaconda3/lib/python3.8/site-packages/scib/metrics/trajectory.py:120: ImplicitModificationWarning:\n",
      "\n",
      "Trying to modify attribute `.obs` of view, initializing view as actual.\n",
      "\n",
      "/Users/dongjiajie/opt/anaconda3/lib/python3.8/site-packages/scib/metrics/trajectory.py:120: ImplicitModificationWarning:\n",
      "\n",
      "Trying to modify attribute `.obs` of view, initializing view as actual.\n",
      "\n",
      "/Users/dongjiajie/opt/anaconda3/lib/python3.8/site-packages/rpy2/robjects/pandas2ri.py:368: DeprecationWarning:\n",
      "\n",
      "The global conversion available with activate() is deprecated and will be removed in the next major release. Use a local converter.\n",
      "\n",
      "/Users/dongjiajie/opt/anaconda3/lib/python3.8/site-packages/rpy2/robjects/numpy2ri.py:241: DeprecationWarning:\n",
      "\n",
      "The global conversion available with activate() is deprecated and will be removed in the next major release. Use a local converter.\n",
      "\n"
     ]
    },
    {
     "name": "stdout",
     "output_type": "stream",
     "text": [
      "Found 86 genes with uniform expression within a single batch (all zeros); these will not be adjusted for batch.\n"
     ]
    },
    {
     "name": "stderr",
     "output_type": "stream",
     "text": [
      "WARNING:rpy2.rinterface_lib.callbacks:R[write to console]: Found2batches\n",
      "\n",
      "WARNING:rpy2.rinterface_lib.callbacks:R[write to console]: Adjusting for0covariate(s) or covariate level(s)\n",
      "\n",
      "WARNING:rpy2.rinterface_lib.callbacks:R[write to console]: Standardizing Data across genes\n",
      "\n",
      "WARNING:rpy2.rinterface_lib.callbacks:R[write to console]: Fitting L/S model and finding priors\n",
      "\n",
      "WARNING:rpy2.rinterface_lib.callbacks:R[write to console]: Finding parametric adjustments\n",
      "\n",
      "WARNING:rpy2.rinterface_lib.callbacks:R[write to console]: Adjusting the Data\n",
      "\n",
      "\n"
     ]
    },
    {
     "name": "stdout",
     "output_type": "stream",
     "text": [
      "(492, 452)\n"
     ]
    },
    {
     "name": "stderr",
     "output_type": "stream",
     "text": [
      "/Users/dongjiajie/opt/anaconda3/lib/python3.8/site-packages/scib/metrics/trajectory.py:120: ImplicitModificationWarning:\n",
      "\n",
      "Trying to modify attribute `.obs` of view, initializing view as actual.\n",
      "\n",
      "/Users/dongjiajie/opt/anaconda3/lib/python3.8/site-packages/scib/metrics/trajectory.py:120: ImplicitModificationWarning:\n",
      "\n",
      "Trying to modify attribute `.obs` of view, initializing view as actual.\n",
      "\n",
      "/Users/dongjiajie/opt/anaconda3/lib/python3.8/site-packages/rpy2/robjects/pandas2ri.py:368: DeprecationWarning:\n",
      "\n",
      "The global conversion available with activate() is deprecated and will be removed in the next major release. Use a local converter.\n",
      "\n",
      "/Users/dongjiajie/opt/anaconda3/lib/python3.8/site-packages/rpy2/robjects/numpy2ri.py:241: DeprecationWarning:\n",
      "\n",
      "The global conversion available with activate() is deprecated and will be removed in the next major release. Use a local converter.\n",
      "\n"
     ]
    },
    {
     "name": "stdout",
     "output_type": "stream",
     "text": [
      "Found 70 genes with uniform expression within a single batch (all zeros); these will not be adjusted for batch.\n"
     ]
    },
    {
     "name": "stderr",
     "output_type": "stream",
     "text": [
      "WARNING:rpy2.rinterface_lib.callbacks:R[write to console]: Found2batches\n",
      "\n",
      "WARNING:rpy2.rinterface_lib.callbacks:R[write to console]: Adjusting for0covariate(s) or covariate level(s)\n",
      "\n",
      "WARNING:rpy2.rinterface_lib.callbacks:R[write to console]: Standardizing Data across genes\n",
      "\n",
      "WARNING:rpy2.rinterface_lib.callbacks:R[write to console]: Fitting L/S model and finding priors\n",
      "\n",
      "WARNING:rpy2.rinterface_lib.callbacks:R[write to console]: Finding parametric adjustments\n",
      "\n",
      "WARNING:rpy2.rinterface_lib.callbacks:R[write to console]: Adjusting the Data\n",
      "\n",
      "\n"
     ]
    },
    {
     "name": "stdout",
     "output_type": "stream",
     "text": [
      "(1245, 452)\n"
     ]
    },
    {
     "name": "stderr",
     "output_type": "stream",
     "text": [
      "/Users/dongjiajie/opt/anaconda3/lib/python3.8/site-packages/scib/metrics/trajectory.py:120: ImplicitModificationWarning:\n",
      "\n",
      "Trying to modify attribute `.obs` of view, initializing view as actual.\n",
      "\n",
      "/Users/dongjiajie/opt/anaconda3/lib/python3.8/site-packages/scib/metrics/trajectory.py:120: ImplicitModificationWarning:\n",
      "\n",
      "Trying to modify attribute `.obs` of view, initializing view as actual.\n",
      "\n",
      "/Users/dongjiajie/opt/anaconda3/lib/python3.8/site-packages/rpy2/robjects/pandas2ri.py:368: DeprecationWarning:\n",
      "\n",
      "The global conversion available with activate() is deprecated and will be removed in the next major release. Use a local converter.\n",
      "\n",
      "/Users/dongjiajie/opt/anaconda3/lib/python3.8/site-packages/rpy2/robjects/numpy2ri.py:241: DeprecationWarning:\n",
      "\n",
      "The global conversion available with activate() is deprecated and will be removed in the next major release. Use a local converter.\n",
      "\n"
     ]
    },
    {
     "name": "stdout",
     "output_type": "stream",
     "text": [
      "Found 85 genes with uniform expression within a single batch (all zeros); these will not be adjusted for batch.\n"
     ]
    },
    {
     "name": "stderr",
     "output_type": "stream",
     "text": [
      "WARNING:rpy2.rinterface_lib.callbacks:R[write to console]: Found2batches\n",
      "\n",
      "WARNING:rpy2.rinterface_lib.callbacks:R[write to console]: Adjusting for0covariate(s) or covariate level(s)\n",
      "\n",
      "WARNING:rpy2.rinterface_lib.callbacks:R[write to console]: Standardizing Data across genes\n",
      "\n",
      "WARNING:rpy2.rinterface_lib.callbacks:R[write to console]: Fitting L/S model and finding priors\n",
      "\n",
      "WARNING:rpy2.rinterface_lib.callbacks:R[write to console]: Finding parametric adjustments\n",
      "\n",
      "WARNING:rpy2.rinterface_lib.callbacks:R[write to console]: Adjusting the Data\n",
      "\n",
      "\n"
     ]
    },
    {
     "name": "stdout",
     "output_type": "stream",
     "text": [
      "(960, 452)\n"
     ]
    },
    {
     "name": "stderr",
     "output_type": "stream",
     "text": [
      "/Users/dongjiajie/opt/anaconda3/lib/python3.8/site-packages/scib/metrics/trajectory.py:120: ImplicitModificationWarning:\n",
      "\n",
      "Trying to modify attribute `.obs` of view, initializing view as actual.\n",
      "\n",
      "/Users/dongjiajie/opt/anaconda3/lib/python3.8/site-packages/scib/metrics/trajectory.py:120: ImplicitModificationWarning:\n",
      "\n",
      "Trying to modify attribute `.obs` of view, initializing view as actual.\n",
      "\n",
      "/Users/dongjiajie/opt/anaconda3/lib/python3.8/site-packages/rpy2/robjects/pandas2ri.py:368: DeprecationWarning:\n",
      "\n",
      "The global conversion available with activate() is deprecated and will be removed in the next major release. Use a local converter.\n",
      "\n",
      "/Users/dongjiajie/opt/anaconda3/lib/python3.8/site-packages/rpy2/robjects/numpy2ri.py:241: DeprecationWarning:\n",
      "\n",
      "The global conversion available with activate() is deprecated and will be removed in the next major release. Use a local converter.\n",
      "\n"
     ]
    },
    {
     "name": "stdout",
     "output_type": "stream",
     "text": [
      "Found 65 genes with uniform expression within a single batch (all zeros); these will not be adjusted for batch.\n"
     ]
    },
    {
     "name": "stderr",
     "output_type": "stream",
     "text": [
      "WARNING:rpy2.rinterface_lib.callbacks:R[write to console]: Found2batches\n",
      "\n",
      "WARNING:rpy2.rinterface_lib.callbacks:R[write to console]: Adjusting for0covariate(s) or covariate level(s)\n",
      "\n",
      "WARNING:rpy2.rinterface_lib.callbacks:R[write to console]: Standardizing Data across genes\n",
      "\n",
      "WARNING:rpy2.rinterface_lib.callbacks:R[write to console]: Fitting L/S model and finding priors\n",
      "\n",
      "WARNING:rpy2.rinterface_lib.callbacks:R[write to console]: Finding parametric adjustments\n",
      "\n",
      "WARNING:rpy2.rinterface_lib.callbacks:R[write to console]: Adjusting the Data\n",
      "\n",
      "\n"
     ]
    },
    {
     "name": "stdout",
     "output_type": "stream",
     "text": [
      "(1306, 452)\n"
     ]
    },
    {
     "name": "stderr",
     "output_type": "stream",
     "text": [
      "/Users/dongjiajie/opt/anaconda3/lib/python3.8/site-packages/scib/metrics/trajectory.py:120: ImplicitModificationWarning:\n",
      "\n",
      "Trying to modify attribute `.obs` of view, initializing view as actual.\n",
      "\n",
      "/Users/dongjiajie/opt/anaconda3/lib/python3.8/site-packages/scib/metrics/trajectory.py:120: ImplicitModificationWarning:\n",
      "\n",
      "Trying to modify attribute `.obs` of view, initializing view as actual.\n",
      "\n",
      "/Users/dongjiajie/opt/anaconda3/lib/python3.8/site-packages/rpy2/robjects/pandas2ri.py:368: DeprecationWarning:\n",
      "\n",
      "The global conversion available with activate() is deprecated and will be removed in the next major release. Use a local converter.\n",
      "\n",
      "/Users/dongjiajie/opt/anaconda3/lib/python3.8/site-packages/rpy2/robjects/numpy2ri.py:241: DeprecationWarning:\n",
      "\n",
      "The global conversion available with activate() is deprecated and will be removed in the next major release. Use a local converter.\n",
      "\n"
     ]
    },
    {
     "name": "stdout",
     "output_type": "stream",
     "text": [
      "Found 75 genes with uniform expression within a single batch (all zeros); these will not be adjusted for batch.\n"
     ]
    },
    {
     "name": "stderr",
     "output_type": "stream",
     "text": [
      "WARNING:rpy2.rinterface_lib.callbacks:R[write to console]: Found2batches\n",
      "\n",
      "WARNING:rpy2.rinterface_lib.callbacks:R[write to console]: Adjusting for0covariate(s) or covariate level(s)\n",
      "\n",
      "WARNING:rpy2.rinterface_lib.callbacks:R[write to console]: Standardizing Data across genes\n",
      "\n",
      "WARNING:rpy2.rinterface_lib.callbacks:R[write to console]: Fitting L/S model and finding priors\n",
      "\n",
      "WARNING:rpy2.rinterface_lib.callbacks:R[write to console]: Finding parametric adjustments\n",
      "\n",
      "WARNING:rpy2.rinterface_lib.callbacks:R[write to console]: Adjusting the Data\n",
      "\n",
      "\n"
     ]
    },
    {
     "name": "stdout",
     "output_type": "stream",
     "text": [
      "(1305, 452)\n"
     ]
    },
    {
     "name": "stderr",
     "output_type": "stream",
     "text": [
      "/Users/dongjiajie/opt/anaconda3/lib/python3.8/site-packages/scib/metrics/trajectory.py:120: ImplicitModificationWarning:\n",
      "\n",
      "Trying to modify attribute `.obs` of view, initializing view as actual.\n",
      "\n",
      "/Users/dongjiajie/opt/anaconda3/lib/python3.8/site-packages/scib/metrics/trajectory.py:120: ImplicitModificationWarning:\n",
      "\n",
      "Trying to modify attribute `.obs` of view, initializing view as actual.\n",
      "\n",
      "/Users/dongjiajie/opt/anaconda3/lib/python3.8/site-packages/rpy2/robjects/pandas2ri.py:368: DeprecationWarning:\n",
      "\n",
      "The global conversion available with activate() is deprecated and will be removed in the next major release. Use a local converter.\n",
      "\n",
      "/Users/dongjiajie/opt/anaconda3/lib/python3.8/site-packages/rpy2/robjects/numpy2ri.py:241: DeprecationWarning:\n",
      "\n",
      "The global conversion available with activate() is deprecated and will be removed in the next major release. Use a local converter.\n",
      "\n"
     ]
    },
    {
     "name": "stdout",
     "output_type": "stream",
     "text": [
      "Found 69 genes with uniform expression within a single batch (all zeros); these will not be adjusted for batch.\n"
     ]
    },
    {
     "name": "stderr",
     "output_type": "stream",
     "text": [
      "WARNING:rpy2.rinterface_lib.callbacks:R[write to console]: Found2batches\n",
      "\n",
      "WARNING:rpy2.rinterface_lib.callbacks:R[write to console]: Adjusting for0covariate(s) or covariate level(s)\n",
      "\n",
      "WARNING:rpy2.rinterface_lib.callbacks:R[write to console]: Standardizing Data across genes\n",
      "\n",
      "WARNING:rpy2.rinterface_lib.callbacks:R[write to console]: Fitting L/S model and finding priors\n",
      "\n",
      "WARNING:rpy2.rinterface_lib.callbacks:R[write to console]: Finding parametric adjustments\n",
      "\n",
      "WARNING:rpy2.rinterface_lib.callbacks:R[write to console]: Adjusting the Data\n",
      "\n",
      "\n"
     ]
    },
    {
     "name": "stdout",
     "output_type": "stream",
     "text": [
      "(2188, 452)\n"
     ]
    },
    {
     "name": "stderr",
     "output_type": "stream",
     "text": [
      "/Users/dongjiajie/opt/anaconda3/lib/python3.8/site-packages/scib/metrics/trajectory.py:120: ImplicitModificationWarning:\n",
      "\n",
      "Trying to modify attribute `.obs` of view, initializing view as actual.\n",
      "\n",
      "/Users/dongjiajie/opt/anaconda3/lib/python3.8/site-packages/scib/metrics/trajectory.py:120: ImplicitModificationWarning:\n",
      "\n",
      "Trying to modify attribute `.obs` of view, initializing view as actual.\n",
      "\n",
      "/Users/dongjiajie/opt/anaconda3/lib/python3.8/site-packages/rpy2/robjects/pandas2ri.py:368: DeprecationWarning:\n",
      "\n",
      "The global conversion available with activate() is deprecated and will be removed in the next major release. Use a local converter.\n",
      "\n",
      "/Users/dongjiajie/opt/anaconda3/lib/python3.8/site-packages/rpy2/robjects/numpy2ri.py:241: DeprecationWarning:\n",
      "\n",
      "The global conversion available with activate() is deprecated and will be removed in the next major release. Use a local converter.\n",
      "\n"
     ]
    },
    {
     "name": "stdout",
     "output_type": "stream",
     "text": [
      "Found 43 genes with uniform expression within a single batch (all zeros); these will not be adjusted for batch.\n"
     ]
    },
    {
     "name": "stderr",
     "output_type": "stream",
     "text": [
      "WARNING:rpy2.rinterface_lib.callbacks:R[write to console]: Found2batches\n",
      "\n",
      "WARNING:rpy2.rinterface_lib.callbacks:R[write to console]: Adjusting for0covariate(s) or covariate level(s)\n",
      "\n",
      "WARNING:rpy2.rinterface_lib.callbacks:R[write to console]: Standardizing Data across genes\n",
      "\n",
      "WARNING:rpy2.rinterface_lib.callbacks:R[write to console]: Fitting L/S model and finding priors\n",
      "\n",
      "WARNING:rpy2.rinterface_lib.callbacks:R[write to console]: Finding parametric adjustments\n",
      "\n",
      "WARNING:rpy2.rinterface_lib.callbacks:R[write to console]: Adjusting the Data\n",
      "\n",
      "\n"
     ]
    },
    {
     "name": "stdout",
     "output_type": "stream",
     "text": [
      "(1687, 452)\n"
     ]
    },
    {
     "name": "stderr",
     "output_type": "stream",
     "text": [
      "/Users/dongjiajie/opt/anaconda3/lib/python3.8/site-packages/scib/metrics/trajectory.py:120: ImplicitModificationWarning:\n",
      "\n",
      "Trying to modify attribute `.obs` of view, initializing view as actual.\n",
      "\n",
      "/Users/dongjiajie/opt/anaconda3/lib/python3.8/site-packages/scib/metrics/trajectory.py:120: ImplicitModificationWarning:\n",
      "\n",
      "Trying to modify attribute `.obs` of view, initializing view as actual.\n",
      "\n",
      "/Users/dongjiajie/opt/anaconda3/lib/python3.8/site-packages/rpy2/robjects/pandas2ri.py:368: DeprecationWarning:\n",
      "\n",
      "The global conversion available with activate() is deprecated and will be removed in the next major release. Use a local converter.\n",
      "\n",
      "/Users/dongjiajie/opt/anaconda3/lib/python3.8/site-packages/rpy2/robjects/numpy2ri.py:241: DeprecationWarning:\n",
      "\n",
      "The global conversion available with activate() is deprecated and will be removed in the next major release. Use a local converter.\n",
      "\n"
     ]
    },
    {
     "name": "stdout",
     "output_type": "stream",
     "text": [
      "Found 199 genes with uniform expression within a single batch (all zeros); these will not be adjusted for batch.\n"
     ]
    },
    {
     "name": "stderr",
     "output_type": "stream",
     "text": [
      "WARNING:rpy2.rinterface_lib.callbacks:R[write to console]: Found2batches\n",
      "\n",
      "WARNING:rpy2.rinterface_lib.callbacks:R[write to console]: Adjusting for0covariate(s) or covariate level(s)\n",
      "\n",
      "WARNING:rpy2.rinterface_lib.callbacks:R[write to console]: Standardizing Data across genes\n",
      "\n",
      "WARNING:rpy2.rinterface_lib.callbacks:R[write to console]: Fitting L/S model and finding priors\n",
      "\n",
      "WARNING:rpy2.rinterface_lib.callbacks:R[write to console]: Finding parametric adjustments\n",
      "\n",
      "WARNING:rpy2.rinterface_lib.callbacks:R[write to console]: Adjusting the Data\n",
      "\n",
      "\n"
     ]
    },
    {
     "name": "stdout",
     "output_type": "stream",
     "text": [
      "(385, 452)\n"
     ]
    },
    {
     "name": "stderr",
     "output_type": "stream",
     "text": [
      "/Users/dongjiajie/opt/anaconda3/lib/python3.8/site-packages/scib/metrics/trajectory.py:120: ImplicitModificationWarning:\n",
      "\n",
      "Trying to modify attribute `.obs` of view, initializing view as actual.\n",
      "\n",
      "/Users/dongjiajie/opt/anaconda3/lib/python3.8/site-packages/scib/metrics/trajectory.py:120: ImplicitModificationWarning:\n",
      "\n",
      "Trying to modify attribute `.obs` of view, initializing view as actual.\n",
      "\n",
      "/Users/dongjiajie/opt/anaconda3/lib/python3.8/site-packages/rpy2/robjects/pandas2ri.py:368: DeprecationWarning:\n",
      "\n",
      "The global conversion available with activate() is deprecated and will be removed in the next major release. Use a local converter.\n",
      "\n",
      "/Users/dongjiajie/opt/anaconda3/lib/python3.8/site-packages/rpy2/robjects/numpy2ri.py:241: DeprecationWarning:\n",
      "\n",
      "The global conversion available with activate() is deprecated and will be removed in the next major release. Use a local converter.\n",
      "\n"
     ]
    },
    {
     "name": "stdout",
     "output_type": "stream",
     "text": [
      "Found 134 genes with uniform expression within a single batch (all zeros); these will not be adjusted for batch.\n"
     ]
    },
    {
     "name": "stderr",
     "output_type": "stream",
     "text": [
      "WARNING:rpy2.rinterface_lib.callbacks:R[write to console]: Found2batches\n",
      "\n",
      "WARNING:rpy2.rinterface_lib.callbacks:R[write to console]: Adjusting for0covariate(s) or covariate level(s)\n",
      "\n",
      "WARNING:rpy2.rinterface_lib.callbacks:R[write to console]: Standardizing Data across genes\n",
      "\n",
      "WARNING:rpy2.rinterface_lib.callbacks:R[write to console]: Fitting L/S model and finding priors\n",
      "\n",
      "WARNING:rpy2.rinterface_lib.callbacks:R[write to console]: Finding parametric adjustments\n",
      "\n",
      "WARNING:rpy2.rinterface_lib.callbacks:R[write to console]: Adjusting the Data\n",
      "\n",
      "\n"
     ]
    },
    {
     "name": "stdout",
     "output_type": "stream",
     "text": [
      "(498, 452)\n"
     ]
    },
    {
     "name": "stderr",
     "output_type": "stream",
     "text": [
      "/Users/dongjiajie/opt/anaconda3/lib/python3.8/site-packages/scib/metrics/trajectory.py:120: ImplicitModificationWarning:\n",
      "\n",
      "Trying to modify attribute `.obs` of view, initializing view as actual.\n",
      "\n",
      "/Users/dongjiajie/opt/anaconda3/lib/python3.8/site-packages/scib/metrics/trajectory.py:120: ImplicitModificationWarning:\n",
      "\n",
      "Trying to modify attribute `.obs` of view, initializing view as actual.\n",
      "\n",
      "/Users/dongjiajie/opt/anaconda3/lib/python3.8/site-packages/rpy2/robjects/pandas2ri.py:368: DeprecationWarning:\n",
      "\n",
      "The global conversion available with activate() is deprecated and will be removed in the next major release. Use a local converter.\n",
      "\n",
      "/Users/dongjiajie/opt/anaconda3/lib/python3.8/site-packages/rpy2/robjects/numpy2ri.py:241: DeprecationWarning:\n",
      "\n",
      "The global conversion available with activate() is deprecated and will be removed in the next major release. Use a local converter.\n",
      "\n"
     ]
    },
    {
     "name": "stdout",
     "output_type": "stream",
     "text": [
      "Found 202 genes with uniform expression within a single batch (all zeros); these will not be adjusted for batch.\n"
     ]
    },
    {
     "name": "stderr",
     "output_type": "stream",
     "text": [
      "WARNING:rpy2.rinterface_lib.callbacks:R[write to console]: Found2batches\n",
      "\n",
      "WARNING:rpy2.rinterface_lib.callbacks:R[write to console]: Adjusting for0covariate(s) or covariate level(s)\n",
      "\n",
      "WARNING:rpy2.rinterface_lib.callbacks:R[write to console]: Standardizing Data across genes\n",
      "\n",
      "WARNING:rpy2.rinterface_lib.callbacks:R[write to console]: Fitting L/S model and finding priors\n",
      "\n",
      "WARNING:rpy2.rinterface_lib.callbacks:R[write to console]: Finding parametric adjustments\n",
      "\n",
      "WARNING:rpy2.rinterface_lib.callbacks:R[write to console]: Adjusting the Data\n",
      "\n",
      "\n"
     ]
    },
    {
     "name": "stdout",
     "output_type": "stream",
     "text": [
      "(311, 452)\n"
     ]
    },
    {
     "name": "stderr",
     "output_type": "stream",
     "text": [
      "/Users/dongjiajie/opt/anaconda3/lib/python3.8/site-packages/scib/metrics/trajectory.py:120: ImplicitModificationWarning:\n",
      "\n",
      "Trying to modify attribute `.obs` of view, initializing view as actual.\n",
      "\n",
      "/Users/dongjiajie/opt/anaconda3/lib/python3.8/site-packages/scib/metrics/trajectory.py:120: ImplicitModificationWarning:\n",
      "\n",
      "Trying to modify attribute `.obs` of view, initializing view as actual.\n",
      "\n",
      "/Users/dongjiajie/opt/anaconda3/lib/python3.8/site-packages/rpy2/robjects/pandas2ri.py:368: DeprecationWarning:\n",
      "\n",
      "The global conversion available with activate() is deprecated and will be removed in the next major release. Use a local converter.\n",
      "\n",
      "/Users/dongjiajie/opt/anaconda3/lib/python3.8/site-packages/rpy2/robjects/numpy2ri.py:241: DeprecationWarning:\n",
      "\n",
      "The global conversion available with activate() is deprecated and will be removed in the next major release. Use a local converter.\n",
      "\n"
     ]
    },
    {
     "name": "stdout",
     "output_type": "stream",
     "text": [
      "Found 85 genes with uniform expression within a single batch (all zeros); these will not be adjusted for batch.\n"
     ]
    },
    {
     "name": "stderr",
     "output_type": "stream",
     "text": [
      "WARNING:rpy2.rinterface_lib.callbacks:R[write to console]: Found2batches\n",
      "\n",
      "WARNING:rpy2.rinterface_lib.callbacks:R[write to console]: Adjusting for0covariate(s) or covariate level(s)\n",
      "\n",
      "WARNING:rpy2.rinterface_lib.callbacks:R[write to console]: Standardizing Data across genes\n",
      "\n",
      "WARNING:rpy2.rinterface_lib.callbacks:R[write to console]: Fitting L/S model and finding priors\n",
      "\n",
      "WARNING:rpy2.rinterface_lib.callbacks:R[write to console]: Finding parametric adjustments\n",
      "\n",
      "WARNING:rpy2.rinterface_lib.callbacks:R[write to console]: Adjusting the Data\n",
      "\n",
      "\n"
     ]
    },
    {
     "name": "stdout",
     "output_type": "stream",
     "text": [
      "(1837, 452)\n"
     ]
    },
    {
     "name": "stderr",
     "output_type": "stream",
     "text": [
      "/Users/dongjiajie/opt/anaconda3/lib/python3.8/site-packages/scib/metrics/trajectory.py:120: ImplicitModificationWarning:\n",
      "\n",
      "Trying to modify attribute `.obs` of view, initializing view as actual.\n",
      "\n",
      "/Users/dongjiajie/opt/anaconda3/lib/python3.8/site-packages/scib/metrics/trajectory.py:120: ImplicitModificationWarning:\n",
      "\n",
      "Trying to modify attribute `.obs` of view, initializing view as actual.\n",
      "\n",
      "/Users/dongjiajie/opt/anaconda3/lib/python3.8/site-packages/rpy2/robjects/pandas2ri.py:368: DeprecationWarning:\n",
      "\n",
      "The global conversion available with activate() is deprecated and will be removed in the next major release. Use a local converter.\n",
      "\n",
      "/Users/dongjiajie/opt/anaconda3/lib/python3.8/site-packages/rpy2/robjects/numpy2ri.py:241: DeprecationWarning:\n",
      "\n",
      "The global conversion available with activate() is deprecated and will be removed in the next major release. Use a local converter.\n",
      "\n"
     ]
    },
    {
     "name": "stdout",
     "output_type": "stream",
     "text": [
      "Found 113 genes with uniform expression within a single batch (all zeros); these will not be adjusted for batch.\n"
     ]
    },
    {
     "name": "stderr",
     "output_type": "stream",
     "text": [
      "WARNING:rpy2.rinterface_lib.callbacks:R[write to console]: Found2batches\n",
      "\n",
      "WARNING:rpy2.rinterface_lib.callbacks:R[write to console]: Adjusting for0covariate(s) or covariate level(s)\n",
      "\n",
      "WARNING:rpy2.rinterface_lib.callbacks:R[write to console]: Standardizing Data across genes\n",
      "\n",
      "WARNING:rpy2.rinterface_lib.callbacks:R[write to console]: Fitting L/S model and finding priors\n",
      "\n",
      "WARNING:rpy2.rinterface_lib.callbacks:R[write to console]: Finding parametric adjustments\n",
      "\n",
      "WARNING:rpy2.rinterface_lib.callbacks:R[write to console]: Adjusting the Data\n",
      "\n",
      "\n"
     ]
    },
    {
     "name": "stdout",
     "output_type": "stream",
     "text": [
      "(1796, 452)\n"
     ]
    },
    {
     "name": "stderr",
     "output_type": "stream",
     "text": [
      "/Users/dongjiajie/opt/anaconda3/lib/python3.8/site-packages/scib/metrics/trajectory.py:120: ImplicitModificationWarning:\n",
      "\n",
      "Trying to modify attribute `.obs` of view, initializing view as actual.\n",
      "\n",
      "/Users/dongjiajie/opt/anaconda3/lib/python3.8/site-packages/scib/metrics/trajectory.py:120: ImplicitModificationWarning:\n",
      "\n",
      "Trying to modify attribute `.obs` of view, initializing view as actual.\n",
      "\n",
      "/Users/dongjiajie/opt/anaconda3/lib/python3.8/site-packages/rpy2/robjects/pandas2ri.py:368: DeprecationWarning:\n",
      "\n",
      "The global conversion available with activate() is deprecated and will be removed in the next major release. Use a local converter.\n",
      "\n",
      "/Users/dongjiajie/opt/anaconda3/lib/python3.8/site-packages/rpy2/robjects/numpy2ri.py:241: DeprecationWarning:\n",
      "\n",
      "The global conversion available with activate() is deprecated and will be removed in the next major release. Use a local converter.\n",
      "\n"
     ]
    },
    {
     "name": "stdout",
     "output_type": "stream",
     "text": [
      "Found 124 genes with uniform expression within a single batch (all zeros); these will not be adjusted for batch.\n"
     ]
    },
    {
     "name": "stderr",
     "output_type": "stream",
     "text": [
      "WARNING:rpy2.rinterface_lib.callbacks:R[write to console]: Found2batches\n",
      "\n",
      "WARNING:rpy2.rinterface_lib.callbacks:R[write to console]: Adjusting for0covariate(s) or covariate level(s)\n",
      "\n",
      "WARNING:rpy2.rinterface_lib.callbacks:R[write to console]: Standardizing Data across genes\n",
      "\n",
      "WARNING:rpy2.rinterface_lib.callbacks:R[write to console]: Fitting L/S model and finding priors\n",
      "\n",
      "WARNING:rpy2.rinterface_lib.callbacks:R[write to console]: Finding parametric adjustments\n",
      "\n",
      "WARNING:rpy2.rinterface_lib.callbacks:R[write to console]: Adjusting the Data\n",
      "\n",
      "\n"
     ]
    },
    {
     "name": "stdout",
     "output_type": "stream",
     "text": [
      "(898, 452)\n"
     ]
    },
    {
     "name": "stderr",
     "output_type": "stream",
     "text": [
      "/Users/dongjiajie/opt/anaconda3/lib/python3.8/site-packages/scib/metrics/trajectory.py:120: ImplicitModificationWarning:\n",
      "\n",
      "Trying to modify attribute `.obs` of view, initializing view as actual.\n",
      "\n",
      "/Users/dongjiajie/opt/anaconda3/lib/python3.8/site-packages/scib/metrics/trajectory.py:120: ImplicitModificationWarning:\n",
      "\n",
      "Trying to modify attribute `.obs` of view, initializing view as actual.\n",
      "\n",
      "/Users/dongjiajie/opt/anaconda3/lib/python3.8/site-packages/rpy2/robjects/pandas2ri.py:368: DeprecationWarning:\n",
      "\n",
      "The global conversion available with activate() is deprecated and will be removed in the next major release. Use a local converter.\n",
      "\n",
      "/Users/dongjiajie/opt/anaconda3/lib/python3.8/site-packages/rpy2/robjects/numpy2ri.py:241: DeprecationWarning:\n",
      "\n",
      "The global conversion available with activate() is deprecated and will be removed in the next major release. Use a local converter.\n",
      "\n"
     ]
    },
    {
     "name": "stdout",
     "output_type": "stream",
     "text": [
      "Found 102 genes with uniform expression within a single batch (all zeros); these will not be adjusted for batch.\n"
     ]
    },
    {
     "name": "stderr",
     "output_type": "stream",
     "text": [
      "WARNING:rpy2.rinterface_lib.callbacks:R[write to console]: Found2batches\n",
      "\n",
      "WARNING:rpy2.rinterface_lib.callbacks:R[write to console]: Adjusting for0covariate(s) or covariate level(s)\n",
      "\n",
      "WARNING:rpy2.rinterface_lib.callbacks:R[write to console]: Standardizing Data across genes\n",
      "\n",
      "WARNING:rpy2.rinterface_lib.callbacks:R[write to console]: Fitting L/S model and finding priors\n",
      "\n",
      "WARNING:rpy2.rinterface_lib.callbacks:R[write to console]: Finding parametric adjustments\n",
      "\n",
      "WARNING:rpy2.rinterface_lib.callbacks:R[write to console]: Adjusting the Data\n",
      "\n",
      "\n"
     ]
    },
    {
     "name": "stdout",
     "output_type": "stream",
     "text": [
      "(1194, 452)\n"
     ]
    },
    {
     "name": "stderr",
     "output_type": "stream",
     "text": [
      "/Users/dongjiajie/opt/anaconda3/lib/python3.8/site-packages/scib/metrics/trajectory.py:120: ImplicitModificationWarning:\n",
      "\n",
      "Trying to modify attribute `.obs` of view, initializing view as actual.\n",
      "\n",
      "/Users/dongjiajie/opt/anaconda3/lib/python3.8/site-packages/scib/metrics/trajectory.py:120: ImplicitModificationWarning:\n",
      "\n",
      "Trying to modify attribute `.obs` of view, initializing view as actual.\n",
      "\n"
     ]
    },
    {
     "data": {
      "text/plain": [
       "0.7103639737577235"
      ]
     },
     "execution_count": 16,
     "metadata": {},
     "output_type": "execute_result"
    }
   ],
   "source": [
    "score = [];\n",
    "\n",
    "\n",
    "for i,j in zip(route1,route2):\n",
    "    try:\n",
    "        shutil.rmtree('./batch_effect/', ignore_errors=True)\n",
    "\n",
    "        cells1 = [ ]\n",
    "        cells2 = [ ]\n",
    "        for k,t in zip(i,j):\n",
    "            num1 = int(k.split('_')[0])\n",
    "            num2 = int(t.split('_')[0])\n",
    "            if(len(k.split('_'))>1):\n",
    "                cells1.append(str(num1));\n",
    "            if(len(t.split('_'))>1):\n",
    "                cells2.append(str(num2));\n",
    "        if(cells1==[] or cells2 ==[]):\n",
    "            continue;\n",
    "        \n",
    "        sub_adata1 = adata1[adata1.obs['leiden'].isin(cells1),inter_gene].copy();\n",
    "        sub_adata2 = adata2[adata2.obs['leiden'].isin(cells2),inter_gene].copy();\n",
    "\n",
    "        adata1_after,adata2_after = remove_batch_effect(sub_adata1.copy(),sub_adata2.copy(),'./')\n",
    "        \n",
    "        sc.pp.neighbors(sub_adata1,use_rep='X')\n",
    "        sc.tl.diffmap(sub_adata1)\n",
    "        sub_adata1.uns['iroot'] = 0\n",
    "        sc.tl.dpt(sub_adata1)\n",
    "        \n",
    "        \n",
    "        sc.pp.neighbors(sub_adata2,use_rep='X')\n",
    "        sc.tl.diffmap(sub_adata2)\n",
    "        sub_adata2.uns['iroot'] = 0\n",
    "        sc.tl.dpt(sub_adata2)\n",
    "        \n",
    "        \n",
    "        adata1_after.obsm['batch_effected'] = adata1_after.layers['batch_effected']\n",
    "        adata2_after.obsm['batch_effected'] = adata2_after.layers['batch_effected']\n",
    "        \n",
    "        sc.pp.neighbors(adata1_after,use_rep='batch_effected')\n",
    "        sc.tl.diffmap(adata1_after)\n",
    "        adata1_after.uns['iroot'] = 0\n",
    "        sc.tl.dpt(adata1_after)\n",
    "\n",
    "        sc.pp.neighbors(adata2_after,use_rep='batch_effected')\n",
    "        sc.tl.diffmap(adata2_after)\n",
    "        adata2_after.uns['iroot'] = 0\n",
    "        sc.tl.dpt(adata2_after)\n",
    "        \n",
    "        score.append( scib.me.trajectory_conservation(sub_adata1, adata1_after, label_key=\"celltype\"))\n",
    "        score.append( scib.me.trajectory_conservation(sub_adata2, adata2_after, label_key=\"celltype\"))\n",
    "        shutil.rmtree('./batch_effect/', ignore_errors=True)\n",
    "    except:\n",
    "        print(cells1,cells2)\n",
    "        pass;\n",
    "np.array(score).mean()"
   ]
  },
  {
   "cell_type": "code",
   "execution_count": 17,
   "metadata": {},
   "outputs": [
    {
     "ename": "SyntaxError",
     "evalue": "invalid syntax (2233746869.py, line 1)",
     "output_type": "error",
     "traceback": [
      "\u001b[0;36m  Cell \u001b[0;32mIn[17], line 1\u001b[0;36m\u001b[0m\n\u001b[0;31m    dataset 2,3\u001b[0m\n\u001b[0m            ^\u001b[0m\n\u001b[0;31mSyntaxError\u001b[0m\u001b[0;31m:\u001b[0m invalid syntax\n"
     ]
    }
   ],
   "source": [
    "dataset 2,3\n",
    "0.7363553783165343 resolution 2\n",
    "0.6287202582397375 resolution 1\n",
    "0.8110650815902893 1 10 10\n",
    "0.925147975679354 1 10 10 10,3\n"
   ]
  },
  {
   "cell_type": "code",
   "execution_count": null,
   "metadata": {},
   "outputs": [],
   "source": [
    "0.8773509847484813"
   ]
  },
  {
   "cell_type": "code",
   "execution_count": null,
   "metadata": {},
   "outputs": [],
   "source": [
    "0.8280230942114288\n",
    "0.8246860465100816\n",
    "0.8248684913094871"
   ]
  },
  {
   "cell_type": "code",
   "execution_count": null,
   "metadata": {},
   "outputs": [],
   "source": []
  }
 ],
 "metadata": {
  "kernelspec": {
   "display_name": "base",
   "language": "python",
   "name": "python3"
  },
  "language_info": {
   "codemirror_mode": {
    "name": "ipython",
    "version": 3
   },
   "file_extension": ".py",
   "mimetype": "text/x-python",
   "name": "python",
   "nbconvert_exporter": "python",
   "pygments_lexer": "ipython3",
   "version": "3.8.16"
  }
 },
 "nbformat": 4,
 "nbformat_minor": 2
}
