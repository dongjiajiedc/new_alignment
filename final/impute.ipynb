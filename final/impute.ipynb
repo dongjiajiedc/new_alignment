{
 "cells": [
  {
   "cell_type": "code",
   "execution_count": 1,
   "metadata": {},
   "outputs": [],
   "source": [
    "from hyper import *\n",
    "from alignment import *\n",
    "from datasets.preprecossing import *\n",
    "from core import *\n",
    "from datasets.loading import *\n",
    "from datasets.hc_dataset import *\n",
    "from datasets.balance_dataset import *\n",
    "from utils.linkage import *\n",
    "from model.balancehc import balancehc\n",
    "\n",
    "from utils.poincare import *\n",
    "import scib\n",
    "import shutil\n",
    "\n"
   ]
  },
  {
   "cell_type": "code",
   "execution_count": 2,
   "metadata": {},
   "outputs": [],
   "source": [
    "cell_path1 = './datas/111/CHOL_GSE142784.h5ad'\n",
    "folder_path1 = './datas/impute/'\n",
    "radius1 = 0\n",
    "c1 =0\n",
    "epoches1 =  50\n",
    "epoches2 =  10\n",
    "contin = False\n",
    "resolution=2\n",
    "method='average'\n",
    "alignment=1\n",
    "n_pca=50\n",
    "meta_col = 'Celltype..major.lineage.'\n",
    "mst = False\n"
   ]
  },
  {
   "cell_type": "code",
   "execution_count": 3,
   "metadata": {},
   "outputs": [
    {
     "data": {
      "text/plain": [
       "AnnData object with n_obs × n_vars = 2452 × 636\n",
       "    obs: 'celltype', 'celltype1', 'leiden'\n",
       "    var: 'n_cells'"
      ]
     },
     "execution_count": 3,
     "metadata": {},
     "output_type": "execute_result"
    }
   ],
   "source": [
    "adata1 = sc.read_h5ad('./datas/miss/1/'+\"save.h5ad\")\n",
    "adata1"
   ]
  },
  {
   "cell_type": "code",
   "execution_count": 4,
   "metadata": {},
   "outputs": [
    {
     "name": "stderr",
     "output_type": "stream",
     "text": [
      "/Users/dongjiajie/opt/anaconda3/lib/python3.8/site-packages/anndata/_io/specs/methods.py:590: OldFormatWarning: Element '/obs/orig.ident' was written without encoding metadata.\n",
      "  return read_elem(dataset)\n",
      "/Users/dongjiajie/opt/anaconda3/lib/python3.8/site-packages/anndata/_io/specs/methods.py:590: OldFormatWarning: Element '/obs/nCount_RNA' was written without encoding metadata.\n",
      "  return read_elem(dataset)\n",
      "/Users/dongjiajie/opt/anaconda3/lib/python3.8/site-packages/anndata/_io/specs/methods.py:590: OldFormatWarning: Element '/obs/nFeature_RNA' was written without encoding metadata.\n",
      "  return read_elem(dataset)\n",
      "/Users/dongjiajie/opt/anaconda3/lib/python3.8/site-packages/anndata/_io/specs/methods.py:590: OldFormatWarning: Element '/obs/UMAP_1' was written without encoding metadata.\n",
      "  return read_elem(dataset)\n",
      "/Users/dongjiajie/opt/anaconda3/lib/python3.8/site-packages/anndata/_io/specs/methods.py:590: OldFormatWarning: Element '/obs/UMAP_2' was written without encoding metadata.\n",
      "  return read_elem(dataset)\n",
      "/Users/dongjiajie/opt/anaconda3/lib/python3.8/site-packages/anndata/_io/specs/methods.py:590: OldFormatWarning: Element '/obs/Celltype..malignancy.' was written without encoding metadata.\n",
      "  return read_elem(dataset)\n",
      "/Users/dongjiajie/opt/anaconda3/lib/python3.8/site-packages/anndata/_io/specs/methods.py:590: OldFormatWarning: Element '/obs/Celltype..major.lineage.' was written without encoding metadata.\n",
      "  return read_elem(dataset)\n",
      "/Users/dongjiajie/opt/anaconda3/lib/python3.8/site-packages/anndata/_io/specs/methods.py:590: OldFormatWarning: Element '/obs/Celltype..minor.lineage.' was written without encoding metadata.\n",
      "  return read_elem(dataset)\n",
      "/Users/dongjiajie/opt/anaconda3/lib/python3.8/site-packages/anndata/_io/specs/methods.py:590: OldFormatWarning: Element '/obs/Cluster' was written without encoding metadata.\n",
      "  return read_elem(dataset)\n",
      "/Users/dongjiajie/opt/anaconda3/lib/python3.8/site-packages/anndata/_io/specs/methods.py:590: OldFormatWarning: Element '/obs/Patient' was written without encoding metadata.\n",
      "  return read_elem(dataset)\n",
      "/Users/dongjiajie/opt/anaconda3/lib/python3.8/site-packages/anndata/_io/specs/methods.py:590: OldFormatWarning: Element '/obs/Source' was written without encoding metadata.\n",
      "  return read_elem(dataset)\n",
      "/Users/dongjiajie/opt/anaconda3/lib/python3.8/site-packages/anndata/_io/specs/methods.py:590: OldFormatWarning: Element '/obs/Gender' was written without encoding metadata.\n",
      "  return read_elem(dataset)\n",
      "/Users/dongjiajie/opt/anaconda3/lib/python3.8/site-packages/anndata/_io/specs/methods.py:590: OldFormatWarning: Element '/obs/Stage' was written without encoding metadata.\n",
      "  return read_elem(dataset)\n",
      "/Users/dongjiajie/opt/anaconda3/lib/python3.8/site-packages/anndata/_io/specs/methods.py:590: OldFormatWarning: Element '/obs/_index' was written without encoding metadata.\n",
      "  return read_elem(dataset)\n",
      "/Users/dongjiajie/opt/anaconda3/lib/python3.8/site-packages/anndata/_io/h5ad.py:238: OldFormatWarning: Element '/obsm' was written without encoding metadata.\n",
      "  d[k] = read_elem(f[k])\n",
      "/Users/dongjiajie/opt/anaconda3/lib/python3.8/site-packages/anndata/_io/specs/methods.py:590: OldFormatWarning: Element '/var/features' was written without encoding metadata.\n",
      "  return read_elem(dataset)\n",
      "/Users/dongjiajie/opt/anaconda3/lib/python3.8/site-packages/anndata/_io/specs/methods.py:590: OldFormatWarning: Element '/var/_index' was written without encoding metadata.\n",
      "  return read_elem(dataset)\n",
      "/Users/dongjiajie/opt/anaconda3/lib/python3.8/site-packages/anndata/_io/h5ad.py:238: OldFormatWarning: Element '/varm' was written without encoding metadata.\n",
      "  d[k] = read_elem(f[k])\n",
      "/Users/dongjiajie/opt/anaconda3/lib/python3.8/site-packages/anndata/_io/h5ad.py:272: OldFormatWarning: Element '/raw/var' was written without encoding metadata.\n",
      "  raw[v] = read_elem(f[f\"raw/{v}\"])\n",
      "/Users/dongjiajie/opt/anaconda3/lib/python3.8/site-packages/anndata/_io/specs/methods.py:92: OldFormatWarning: Element '/raw/var/_index' was written without encoding metadata.\n",
      "  return {k: read_elem(v) for k, v in elem.items()}\n"
     ]
    },
    {
     "data": {
      "text/plain": [
       "AnnData object with n_obs × n_vars = 6035 × 12750\n",
       "    obs: 'orig.ident', 'nCount_RNA', 'nFeature_RNA', 'UMAP_1', 'UMAP_2', 'Celltype..malignancy.', 'Celltype..major.lineage.', 'Celltype..minor.lineage.', 'Cluster', 'Patient', 'Source', 'Gender', 'Stage'\n",
       "    var: 'features'"
      ]
     },
     "execution_count": 4,
     "metadata": {},
     "output_type": "execute_result"
    }
   ],
   "source": [
    "datas =sc.read_h5ad('./datas/111/BRCA_GSE110686.h5ad')\n",
    "datas"
   ]
  },
  {
   "cell_type": "code",
   "execution_count": 5,
   "metadata": {},
   "outputs": [],
   "source": [
    "adata = datas[adata1.obs.index.tolist(),[ i for i in adata1.var.index if i in datas.var.index]]"
   ]
  },
  {
   "cell_type": "code",
   "execution_count": 6,
   "metadata": {},
   "outputs": [
    {
     "name": "stderr",
     "output_type": "stream",
     "text": [
      "/Users/dongjiajie/opt/anaconda3/lib/python3.8/site-packages/scanpy/preprocessing/_simple.py:140: ImplicitModificationWarning: Trying to modify attribute `.obs` of view, initializing view as actual.\n",
      "  adata.obs['n_genes'] = number\n",
      "/Users/dongjiajie/opt/anaconda3/lib/python3.8/contextlib.py:120: FutureWarning: X.dtype being converted to np.float32 from float64. In the next version of anndata (0.9) conversion will not be automatic. Pass dtype explicitly to avoid this warning. Pass `AnnData(X, dtype=X.dtype, ...)` to get the future behavour.\n",
      "  next(self.gen)\n"
     ]
    },
    {
     "data": {
      "text/plain": [
       "AnnData object with n_obs × n_vars = 1803 × 627\n",
       "    obs: 'orig.ident', 'nCount_RNA', 'nFeature_RNA', 'UMAP_1', 'UMAP_2', 'Celltype..malignancy.', 'Celltype..major.lineage.', 'Celltype..minor.lineage.', 'Cluster', 'Patient', 'Source', 'Gender', 'Stage', 'n_genes'\n",
       "    var: 'features', 'n_cells'\n",
       "    uns: 'log1p'"
      ]
     },
     "execution_count": 6,
     "metadata": {},
     "output_type": "execute_result"
    }
   ],
   "source": [
    "sc.pp.filter_cells(adata, min_genes=200)\n",
    "sc.pp.filter_genes(adata, min_cells=3)\n",
    "sc.pp.normalize_total(adata, exclude_highly_expressed=True)\n",
    "sc.pp.log1p(adata)\n",
    "adata"
   ]
  },
  {
   "cell_type": "code",
   "execution_count": 7,
   "metadata": {},
   "outputs": [
    {
     "data": {
      "text/html": [
       "<div>\n",
       "<style scoped>\n",
       "    .dataframe tbody tr th:only-of-type {\n",
       "        vertical-align: middle;\n",
       "    }\n",
       "\n",
       "    .dataframe tbody tr th {\n",
       "        vertical-align: top;\n",
       "    }\n",
       "\n",
       "    .dataframe thead th {\n",
       "        text-align: right;\n",
       "    }\n",
       "</style>\n",
       "<table border=\"1\" class=\"dataframe\">\n",
       "  <thead>\n",
       "    <tr style=\"text-align: right;\">\n",
       "      <th></th>\n",
       "      <th>GZMK</th>\n",
       "      <th>TMSB4X</th>\n",
       "      <th>CCL5</th>\n",
       "      <th>RPS27</th>\n",
       "      <th>MALAT1</th>\n",
       "      <th>RPL10</th>\n",
       "      <th>RPL41</th>\n",
       "      <th>GZMA</th>\n",
       "      <th>RPS14</th>\n",
       "      <th>RPS18</th>\n",
       "      <th>...</th>\n",
       "      <th>COPZ1</th>\n",
       "      <th>ARPC4</th>\n",
       "      <th>NOP10</th>\n",
       "      <th>UBE2D2</th>\n",
       "      <th>NDUFA1</th>\n",
       "      <th>EDF1</th>\n",
       "      <th>ATP5C1</th>\n",
       "      <th>C12orf57</th>\n",
       "      <th>ISCU</th>\n",
       "      <th>COX8A</th>\n",
       "    </tr>\n",
       "  </thead>\n",
       "  <tbody>\n",
       "    <tr>\n",
       "      <th>CTCCTAGTCTGGCGTG-2</th>\n",
       "      <td>0.000000</td>\n",
       "      <td>1.921308</td>\n",
       "      <td>0.000000</td>\n",
       "      <td>1.666132</td>\n",
       "      <td>1.962387</td>\n",
       "      <td>1.591665</td>\n",
       "      <td>1.625788</td>\n",
       "      <td>0.000000</td>\n",
       "      <td>1.535567</td>\n",
       "      <td>1.591665</td>\n",
       "      <td>...</td>\n",
       "      <td>0.000000</td>\n",
       "      <td>0.842998</td>\n",
       "      <td>0.000000</td>\n",
       "      <td>0.000000</td>\n",
       "      <td>1.161456</td>\n",
       "      <td>1.161456</td>\n",
       "      <td>1.161456</td>\n",
       "      <td>0.000000</td>\n",
       "      <td>1.049278</td>\n",
       "      <td>1.049278</td>\n",
       "    </tr>\n",
       "    <tr>\n",
       "      <th>GACCTGGAGTAATCCC-3</th>\n",
       "      <td>0.000000</td>\n",
       "      <td>1.840963</td>\n",
       "      <td>1.722969</td>\n",
       "      <td>1.537971</td>\n",
       "      <td>2.073319</td>\n",
       "      <td>1.566072</td>\n",
       "      <td>1.611526</td>\n",
       "      <td>1.412280</td>\n",
       "      <td>1.537971</td>\n",
       "      <td>1.504655</td>\n",
       "      <td>...</td>\n",
       "      <td>0.000000</td>\n",
       "      <td>0.000000</td>\n",
       "      <td>0.000000</td>\n",
       "      <td>1.039355</td>\n",
       "      <td>0.000000</td>\n",
       "      <td>1.039355</td>\n",
       "      <td>0.000000</td>\n",
       "      <td>0.000000</td>\n",
       "      <td>1.039355</td>\n",
       "      <td>1.237123</td>\n",
       "    </tr>\n",
       "    <tr>\n",
       "      <th>ATCTGCCAGTGTCCAT-3</th>\n",
       "      <td>0.000000</td>\n",
       "      <td>1.926578</td>\n",
       "      <td>0.000000</td>\n",
       "      <td>1.885430</td>\n",
       "      <td>2.077634</td>\n",
       "      <td>1.819139</td>\n",
       "      <td>1.848099</td>\n",
       "      <td>0.000000</td>\n",
       "      <td>1.713696</td>\n",
       "      <td>1.728801</td>\n",
       "      <td>...</td>\n",
       "      <td>0.000000</td>\n",
       "      <td>0.000000</td>\n",
       "      <td>0.897057</td>\n",
       "      <td>0.000000</td>\n",
       "      <td>0.000000</td>\n",
       "      <td>0.897057</td>\n",
       "      <td>0.897057</td>\n",
       "      <td>0.000000</td>\n",
       "      <td>1.114027</td>\n",
       "      <td>0.000000</td>\n",
       "    </tr>\n",
       "    <tr>\n",
       "      <th>GTCCTCAAGTGCCATT-2</th>\n",
       "      <td>0.000000</td>\n",
       "      <td>1.886820</td>\n",
       "      <td>0.000000</td>\n",
       "      <td>1.505638</td>\n",
       "      <td>2.003457</td>\n",
       "      <td>1.402717</td>\n",
       "      <td>1.546978</td>\n",
       "      <td>0.000000</td>\n",
       "      <td>1.337273</td>\n",
       "      <td>1.428529</td>\n",
       "      <td>...</td>\n",
       "      <td>1.053973</td>\n",
       "      <td>0.849874</td>\n",
       "      <td>0.849874</td>\n",
       "      <td>0.849874</td>\n",
       "      <td>1.053973</td>\n",
       "      <td>1.053973</td>\n",
       "      <td>0.000000</td>\n",
       "      <td>0.000000</td>\n",
       "      <td>1.053973</td>\n",
       "      <td>1.164785</td>\n",
       "    </tr>\n",
       "    <tr>\n",
       "      <th>CTGCCTATCGACGGAA-2</th>\n",
       "      <td>1.500692</td>\n",
       "      <td>1.840829</td>\n",
       "      <td>0.000000</td>\n",
       "      <td>1.712664</td>\n",
       "      <td>2.012981</td>\n",
       "      <td>1.759788</td>\n",
       "      <td>1.752875</td>\n",
       "      <td>1.187163</td>\n",
       "      <td>1.693138</td>\n",
       "      <td>1.824428</td>\n",
       "      <td>...</td>\n",
       "      <td>0.000000</td>\n",
       "      <td>0.982330</td>\n",
       "      <td>0.000000</td>\n",
       "      <td>0.982330</td>\n",
       "      <td>0.982330</td>\n",
       "      <td>0.982330</td>\n",
       "      <td>0.000000</td>\n",
       "      <td>0.000000</td>\n",
       "      <td>0.000000</td>\n",
       "      <td>0.000000</td>\n",
       "    </tr>\n",
       "    <tr>\n",
       "      <th>...</th>\n",
       "      <td>...</td>\n",
       "      <td>...</td>\n",
       "      <td>...</td>\n",
       "      <td>...</td>\n",
       "      <td>...</td>\n",
       "      <td>...</td>\n",
       "      <td>...</td>\n",
       "      <td>...</td>\n",
       "      <td>...</td>\n",
       "      <td>...</td>\n",
       "      <td>...</td>\n",
       "      <td>...</td>\n",
       "      <td>...</td>\n",
       "      <td>...</td>\n",
       "      <td>...</td>\n",
       "      <td>...</td>\n",
       "      <td>...</td>\n",
       "      <td>...</td>\n",
       "      <td>...</td>\n",
       "      <td>...</td>\n",
       "      <td>...</td>\n",
       "    </tr>\n",
       "    <tr>\n",
       "      <th>CCCAGTTGTTGCCTCT-1</th>\n",
       "      <td>0.000000</td>\n",
       "      <td>1.839163</td>\n",
       "      <td>0.000000</td>\n",
       "      <td>1.425017</td>\n",
       "      <td>1.967950</td>\n",
       "      <td>1.570438</td>\n",
       "      <td>1.555748</td>\n",
       "      <td>0.000000</td>\n",
       "      <td>1.347443</td>\n",
       "      <td>1.596426</td>\n",
       "      <td>...</td>\n",
       "      <td>0.000000</td>\n",
       "      <td>1.110478</td>\n",
       "      <td>0.907109</td>\n",
       "      <td>0.000000</td>\n",
       "      <td>1.110478</td>\n",
       "      <td>0.907109</td>\n",
       "      <td>0.000000</td>\n",
       "      <td>0.000000</td>\n",
       "      <td>0.000000</td>\n",
       "      <td>0.907109</td>\n",
       "    </tr>\n",
       "    <tr>\n",
       "      <th>TCGTACCTCCGGGTGT-2</th>\n",
       "      <td>1.063754</td>\n",
       "      <td>1.878248</td>\n",
       "      <td>1.269226</td>\n",
       "      <td>1.760878</td>\n",
       "      <td>2.216599</td>\n",
       "      <td>1.771520</td>\n",
       "      <td>1.760878</td>\n",
       "      <td>1.504371</td>\n",
       "      <td>1.634852</td>\n",
       "      <td>1.815990</td>\n",
       "      <td>...</td>\n",
       "      <td>0.000000</td>\n",
       "      <td>0.000000</td>\n",
       "      <td>1.063754</td>\n",
       "      <td>0.000000</td>\n",
       "      <td>0.000000</td>\n",
       "      <td>1.063754</td>\n",
       "      <td>0.000000</td>\n",
       "      <td>0.000000</td>\n",
       "      <td>0.000000</td>\n",
       "      <td>0.000000</td>\n",
       "    </tr>\n",
       "    <tr>\n",
       "      <th>CGATCGGTCATCTGTT-1</th>\n",
       "      <td>0.000000</td>\n",
       "      <td>1.984022</td>\n",
       "      <td>1.490012</td>\n",
       "      <td>1.389917</td>\n",
       "      <td>2.123082</td>\n",
       "      <td>1.644066</td>\n",
       "      <td>1.644066</td>\n",
       "      <td>1.389917</td>\n",
       "      <td>1.605485</td>\n",
       "      <td>1.644066</td>\n",
       "      <td>...</td>\n",
       "      <td>1.389917</td>\n",
       "      <td>1.199988</td>\n",
       "      <td>1.199988</td>\n",
       "      <td>1.199988</td>\n",
       "      <td>1.389917</td>\n",
       "      <td>0.000000</td>\n",
       "      <td>1.199988</td>\n",
       "      <td>1.389917</td>\n",
       "      <td>1.199988</td>\n",
       "      <td>0.000000</td>\n",
       "    </tr>\n",
       "    <tr>\n",
       "      <th>AACTCTTAGCCACCTG-3</th>\n",
       "      <td>0.000000</td>\n",
       "      <td>1.838000</td>\n",
       "      <td>0.000000</td>\n",
       "      <td>1.710487</td>\n",
       "      <td>2.038023</td>\n",
       "      <td>1.679675</td>\n",
       "      <td>1.686362</td>\n",
       "      <td>1.339627</td>\n",
       "      <td>1.514875</td>\n",
       "      <td>1.649562</td>\n",
       "      <td>...</td>\n",
       "      <td>0.000000</td>\n",
       "      <td>0.000000</td>\n",
       "      <td>0.897775</td>\n",
       "      <td>0.000000</td>\n",
       "      <td>0.000000</td>\n",
       "      <td>0.897775</td>\n",
       "      <td>0.000000</td>\n",
       "      <td>0.897775</td>\n",
       "      <td>0.897775</td>\n",
       "      <td>0.897775</td>\n",
       "    </tr>\n",
       "    <tr>\n",
       "      <th>GGATTACTCCAGTAGT-2</th>\n",
       "      <td>0.606950</td>\n",
       "      <td>1.752005</td>\n",
       "      <td>1.239395</td>\n",
       "      <td>1.467109</td>\n",
       "      <td>1.800092</td>\n",
       "      <td>1.431013</td>\n",
       "      <td>1.332558</td>\n",
       "      <td>0.917362</td>\n",
       "      <td>1.365561</td>\n",
       "      <td>1.306495</td>\n",
       "      <td>...</td>\n",
       "      <td>0.000000</td>\n",
       "      <td>0.606950</td>\n",
       "      <td>0.994252</td>\n",
       "      <td>0.606950</td>\n",
       "      <td>0.000000</td>\n",
       "      <td>0.804703</td>\n",
       "      <td>0.804703</td>\n",
       "      <td>0.000000</td>\n",
       "      <td>0.804703</td>\n",
       "      <td>0.804703</td>\n",
       "    </tr>\n",
       "  </tbody>\n",
       "</table>\n",
       "<p>1803 rows × 627 columns</p>\n",
       "</div>"
      ],
      "text/plain": [
       "                        GZMK    TMSB4X      CCL5     RPS27    MALAT1  \\\n",
       "CTCCTAGTCTGGCGTG-2  0.000000  1.921308  0.000000  1.666132  1.962387   \n",
       "GACCTGGAGTAATCCC-3  0.000000  1.840963  1.722969  1.537971  2.073319   \n",
       "ATCTGCCAGTGTCCAT-3  0.000000  1.926578  0.000000  1.885430  2.077634   \n",
       "GTCCTCAAGTGCCATT-2  0.000000  1.886820  0.000000  1.505638  2.003457   \n",
       "CTGCCTATCGACGGAA-2  1.500692  1.840829  0.000000  1.712664  2.012981   \n",
       "...                      ...       ...       ...       ...       ...   \n",
       "CCCAGTTGTTGCCTCT-1  0.000000  1.839163  0.000000  1.425017  1.967950   \n",
       "TCGTACCTCCGGGTGT-2  1.063754  1.878248  1.269226  1.760878  2.216599   \n",
       "CGATCGGTCATCTGTT-1  0.000000  1.984022  1.490012  1.389917  2.123082   \n",
       "AACTCTTAGCCACCTG-3  0.000000  1.838000  0.000000  1.710487  2.038023   \n",
       "GGATTACTCCAGTAGT-2  0.606950  1.752005  1.239395  1.467109  1.800092   \n",
       "\n",
       "                       RPL10     RPL41      GZMA     RPS14     RPS18  ...  \\\n",
       "CTCCTAGTCTGGCGTG-2  1.591665  1.625788  0.000000  1.535567  1.591665  ...   \n",
       "GACCTGGAGTAATCCC-3  1.566072  1.611526  1.412280  1.537971  1.504655  ...   \n",
       "ATCTGCCAGTGTCCAT-3  1.819139  1.848099  0.000000  1.713696  1.728801  ...   \n",
       "GTCCTCAAGTGCCATT-2  1.402717  1.546978  0.000000  1.337273  1.428529  ...   \n",
       "CTGCCTATCGACGGAA-2  1.759788  1.752875  1.187163  1.693138  1.824428  ...   \n",
       "...                      ...       ...       ...       ...       ...  ...   \n",
       "CCCAGTTGTTGCCTCT-1  1.570438  1.555748  0.000000  1.347443  1.596426  ...   \n",
       "TCGTACCTCCGGGTGT-2  1.771520  1.760878  1.504371  1.634852  1.815990  ...   \n",
       "CGATCGGTCATCTGTT-1  1.644066  1.644066  1.389917  1.605485  1.644066  ...   \n",
       "AACTCTTAGCCACCTG-3  1.679675  1.686362  1.339627  1.514875  1.649562  ...   \n",
       "GGATTACTCCAGTAGT-2  1.431013  1.332558  0.917362  1.365561  1.306495  ...   \n",
       "\n",
       "                       COPZ1     ARPC4     NOP10    UBE2D2    NDUFA1  \\\n",
       "CTCCTAGTCTGGCGTG-2  0.000000  0.842998  0.000000  0.000000  1.161456   \n",
       "GACCTGGAGTAATCCC-3  0.000000  0.000000  0.000000  1.039355  0.000000   \n",
       "ATCTGCCAGTGTCCAT-3  0.000000  0.000000  0.897057  0.000000  0.000000   \n",
       "GTCCTCAAGTGCCATT-2  1.053973  0.849874  0.849874  0.849874  1.053973   \n",
       "CTGCCTATCGACGGAA-2  0.000000  0.982330  0.000000  0.982330  0.982330   \n",
       "...                      ...       ...       ...       ...       ...   \n",
       "CCCAGTTGTTGCCTCT-1  0.000000  1.110478  0.907109  0.000000  1.110478   \n",
       "TCGTACCTCCGGGTGT-2  0.000000  0.000000  1.063754  0.000000  0.000000   \n",
       "CGATCGGTCATCTGTT-1  1.389917  1.199988  1.199988  1.199988  1.389917   \n",
       "AACTCTTAGCCACCTG-3  0.000000  0.000000  0.897775  0.000000  0.000000   \n",
       "GGATTACTCCAGTAGT-2  0.000000  0.606950  0.994252  0.606950  0.000000   \n",
       "\n",
       "                        EDF1    ATP5C1  C12orf57      ISCU     COX8A  \n",
       "CTCCTAGTCTGGCGTG-2  1.161456  1.161456  0.000000  1.049278  1.049278  \n",
       "GACCTGGAGTAATCCC-3  1.039355  0.000000  0.000000  1.039355  1.237123  \n",
       "ATCTGCCAGTGTCCAT-3  0.897057  0.897057  0.000000  1.114027  0.000000  \n",
       "GTCCTCAAGTGCCATT-2  1.053973  0.000000  0.000000  1.053973  1.164785  \n",
       "CTGCCTATCGACGGAA-2  0.982330  0.000000  0.000000  0.000000  0.000000  \n",
       "...                      ...       ...       ...       ...       ...  \n",
       "CCCAGTTGTTGCCTCT-1  0.907109  0.000000  0.000000  0.000000  0.907109  \n",
       "TCGTACCTCCGGGTGT-2  1.063754  0.000000  0.000000  0.000000  0.000000  \n",
       "CGATCGGTCATCTGTT-1  0.000000  1.199988  1.389917  1.199988  0.000000  \n",
       "AACTCTTAGCCACCTG-3  0.897775  0.000000  0.897775  0.897775  0.897775  \n",
       "GGATTACTCCAGTAGT-2  0.804703  0.804703  0.000000  0.804703  0.804703  \n",
       "\n",
       "[1803 rows x 627 columns]"
      ]
     },
     "execution_count": 7,
     "metadata": {},
     "output_type": "execute_result"
    }
   ],
   "source": [
    "sc.pp.highly_variable_genes(\n",
    "    adata,\n",
    "    min_mean=0.0125,\n",
    "    max_mean=3,\n",
    "    min_disp=0.5,\n",
    "    n_top_genes=2000\n",
    ")\n",
    "adata.raw = adata\n",
    "adata._inplace_subset_var(adata.var['highly_variable'])\n",
    "adata.to_df()"
   ]
  },
  {
   "cell_type": "code",
   "execution_count": 402,
   "metadata": {},
   "outputs": [
    {
     "data": {
      "text/plain": [
       "Tfh      799\n",
       "Th17     394\n",
       "CD4Tn    371\n",
       "Th2      239\n",
       "Name: Celltype..minor.lineage., dtype: int64"
      ]
     },
     "execution_count": 402,
     "metadata": {},
     "output_type": "execute_result"
    }
   ],
   "source": [
    "adata.obs['Celltype..minor.lineage.'].value_counts()"
   ]
  },
  {
   "cell_type": "code",
   "execution_count": 419,
   "metadata": {},
   "outputs": [
    {
     "data": {
      "text/plain": [
       "['GTTACAGAGACAAGCC-3',\n",
       " 'CTCACACGTTCAACCA-2',\n",
       " 'CCATTCGTCTAACCGA-1',\n",
       " 'TTTGTCAGTGTGGTTT-1',\n",
       " 'GTTAAGCGTCCGAACC-2',\n",
       " 'ACTGAGTGTCGGCATC-2',\n",
       " 'ACTATCTGTCTAGCGC-1',\n",
       " 'GCCTCTAGTCAACATC-1',\n",
       " 'CCTTCCCTCGAGAACG-1',\n",
       " 'CTGCCTATCGACGGAA-2',\n",
       " 'CAGCATATCGATGAGG-2',\n",
       " 'ATTGGTGGTTATGCGT-1',\n",
       " 'TACTTGTCAGGGTATG-2',\n",
       " 'GAAATGATCACTCCTG-3',\n",
       " 'TGCGCAGCACCTCGTT-2',\n",
       " 'GATGCTAAGAGGTACC-1',\n",
       " 'AGCTCTCCACAGGTTT-3',\n",
       " 'GGTGTTATCAGCCTAA-2',\n",
       " 'TGACTTTAGCAGCGTA-2',\n",
       " 'ACGGCCATCAGCTCGG-3',\n",
       " 'CAGCATATCACTCTTA-2',\n",
       " 'AGAGCGATCCAATGGT-2',\n",
       " 'CGCTATCTCCTACAGA-1',\n",
       " 'TCTATTGTCTATCCTA-3',\n",
       " 'GTGCATATCACCTCGT-3',\n",
       " 'CGTGAGCGTATTACCG-2',\n",
       " 'TTGAACGCACTATCTT-1',\n",
       " 'ACTGCTCTCTTCAACT-3',\n",
       " 'TTGACTTTCTTCTGGC-1',\n",
       " 'GACCTGGGTAGTGAAT-2',\n",
       " 'GAATAAGGTGGTAACG-1',\n",
       " 'ACTGAACGTTCCATGA-2',\n",
       " 'CTGATCCGTCTCAACA-1',\n",
       " 'GTCACGGTCACCAGGC-1',\n",
       " 'TTCTTAGTCTACTTAC-2',\n",
       " 'TGTGTTTTCAAACAAG-2',\n",
       " 'TAGTGGTTCCAGATCA-1',\n",
       " 'GGTATTGGTGCTGTAT-1',\n",
       " 'CACAAACTCTGTGCAA-1',\n",
       " 'ACGGGCTTCTGGCGTG-1',\n",
       " 'GTTACAGGTCGCATAT-1',\n",
       " 'ACTTTCATCTGCAAGT-1',\n",
       " 'TTCGAAGTCCATTCTA-1',\n",
       " 'CTCGTACGTCCCTTGT-3',\n",
       " 'AGCTTGAGTCAGATAA-1',\n",
       " 'GTTACAGTCAAACAAG-2',\n",
       " 'GTGCTTCTCGGATGTT-1',\n",
       " 'ATGTGTGTCTTCAACT-3',\n",
       " 'CAGAGAGGTCGGCACT-1',\n",
       " 'CCTAGCTGTTTAGGAA-2',\n",
       " 'TTGAACGCAATGGAAT-1',\n",
       " 'CGGGTCATCGTACGGC-2',\n",
       " 'CCTTTCTAGTACGACG-1',\n",
       " 'CAACTAGTCGCTGATA-2',\n",
       " 'GCGGGTTAGATCCCAT-2',\n",
       " 'ATAACGCGTGCCTGCA-1',\n",
       " 'TTCTCCTGTCCGAACC-1',\n",
       " 'GTAACGTCAAAGGCGT-1',\n",
       " 'ATTCTACGTTGTCTTT-1',\n",
       " 'ATTCTACCATCGTCGG-3',\n",
       " 'TATCTCAAGTAACCCT-2',\n",
       " 'CGTCCATTCAGCTTAG-2',\n",
       " 'TAGCCGGCAGCTGCAC-1',\n",
       " 'ATGAGGGGTGCACCAC-1',\n",
       " 'CACATTTAGAAACCGC-2',\n",
       " 'CTCGTCAAGATCACGG-2',\n",
       " 'CTCGTACAGCGCCTCA-1',\n",
       " 'TCGCGAGGTCCTCTTG-2',\n",
       " 'AAGCCGCGTCTGCGGT-1',\n",
       " 'TGAAAGACAGCTTAAC-1',\n",
       " 'GTGTTAGAGGTGTGGT-1',\n",
       " 'TCTGAGATCCACGAAT-2',\n",
       " 'ATCTACTCATCAGTAC-2',\n",
       " 'GAACATCAGTGAACGC-1',\n",
       " 'GAGGTGAAGACTGTAA-2',\n",
       " 'GAATGAAGTTATCCGA-1',\n",
       " 'TACCTTAGTCTGCGGT-3',\n",
       " 'CCGGGATGTTCCATGA-2',\n",
       " 'GACGTGCGTTAAGACA-2',\n",
       " 'CATCGGGTCCTCAACC-1',\n",
       " 'TGACTAGAGGGTCGAT-3',\n",
       " 'TTCGGTCCAATGAATG-2',\n",
       " 'TATCTCATCTGGTGTA-2',\n",
       " 'AGATCTGTCAGTTGAC-1',\n",
       " 'ATCGAGTCAATGGTCT-1',\n",
       " 'TGGCCAGGTGTAACGG-2',\n",
       " 'GGCTGGTCACATGTGT-3',\n",
       " 'CACCTTGGTACATGTC-3',\n",
       " 'TCAATCTGTCCGAACC-2',\n",
       " 'TTAACTCAGCGACGTA-1',\n",
       " 'TCTCTAAGTAGGCTGA-2',\n",
       " 'CACCAGGCATCCCATC-2',\n",
       " 'GGGAGATAGCTAGTTC-2',\n",
       " 'CACATTTAGCTCCTCT-1',\n",
       " 'GACGTTATCCAATGGT-2',\n",
       " 'TCATTACGTCTCTTAT-3',\n",
       " 'GCTTGAACAGGATCGA-2',\n",
       " 'AGCTCTCTCACCAGGC-1',\n",
       " 'TGGGAAGTCAGCATGT-2',\n",
       " 'CGACTTCAGCCTATGT-1',\n",
       " 'CATTCGCTCGTTGCCT-3',\n",
       " 'GTGGGTCGTACAGACG-2',\n",
       " 'AGATCTGTCCAGAGGA-2',\n",
       " 'ATGAGGGAGTGTGGCA-2',\n",
       " 'CTCGTCACACAGGCCT-2',\n",
       " 'CCACCTATCCTGCAGG-3',\n",
       " 'GATTCAGTCTGCTTGC-2',\n",
       " 'GTTTCTAAGTGAACAT-2',\n",
       " 'GTTCATTCATGGAATA-3',\n",
       " 'CGATGTAAGACACTAA-2',\n",
       " 'ACACCGGGTACCCAAT-2',\n",
       " 'CGGGTCATCATTGCGA-3',\n",
       " 'CGCCAAGGTGAAGGCT-2',\n",
       " 'AAGTCTGAGTGTCCAT-2',\n",
       " 'ACTGTCCTCCAAACAC-1',\n",
       " 'TAAGAGAAGTGAACGC-1',\n",
       " 'GTGCATATCCCAGGTG-2',\n",
       " 'TCGAGGCGTGAAAGAG-1',\n",
       " 'TAAGTGCGTAAACACA-1',\n",
       " 'GTCATTTTCGCGTAGC-2',\n",
       " 'TCGGGACTCTGCGACG-2',\n",
       " 'CCGGGATTCAATAAGG-3',\n",
       " 'TACTCGCTCACAAACC-3',\n",
       " 'AGCGTATAGCAATCTC-3',\n",
       " 'AGGTCCGGTCTCCCTA-2',\n",
       " 'CTGCGGAAGAGGTACC-2',\n",
       " 'GACGTTAAGGTGCACA-2',\n",
       " 'GTTACAGCAGGGATTG-1',\n",
       " 'ACATGGTTCAGCTGGC-2',\n",
       " 'CACCTTGAGCTAGGCA-3',\n",
       " 'CAACCAAAGAAGGTTT-2',\n",
       " 'GTGCTTCTCAGTTTGG-2',\n",
       " 'CGACCTTTCACAACGT-3',\n",
       " 'CGTCACTGTACTTGAC-3',\n",
       " 'ACGGGCTTCTTGAGAC-3',\n",
       " 'ATCCGAAAGATCGATA-2',\n",
       " 'AGTTGGTGTCATGCCG-1',\n",
       " 'CTAACTTTCACTCTTA-2',\n",
       " 'ACACCAAAGATGTAAC-2',\n",
       " 'AGGGATGTCACTGGGC-1',\n",
       " 'ACGCCGAGTTGAACTC-3',\n",
       " 'GATCGATCAGACGCTC-3',\n",
       " 'GTCACGGCACCTCGGA-3',\n",
       " 'AGCTTGACATGCCTTC-2',\n",
       " 'TTGCGTCCACATCTTT-2',\n",
       " 'CTACACCAGAGCTGCA-3',\n",
       " 'GTGAAGGCATCACCCT-1',\n",
       " 'GCCTCTATCCGTCAAA-1',\n",
       " 'TGCTGCTTCAGTGCAT-1',\n",
       " 'CCGTGGACAGGGTACA-2',\n",
       " 'GACTAACTCAAGATCC-1',\n",
       " 'AACTTTCTCCGAAGAG-2',\n",
       " 'CGTTAGACACTTACGA-1',\n",
       " 'AACACGTAGCAATATG-3',\n",
       " 'CGATTGACACAAGTAA-2',\n",
       " 'TGCGTGGGTCAGAATA-3',\n",
       " 'GCTGCGAGTAAGGATT-1',\n",
       " 'CGGAGCTCAGTATAAG-2',\n",
       " 'GCCTCTAGTATGAATG-2',\n",
       " 'CAACTAGTCTAACCGA-3',\n",
       " 'GAATGAACAGTTTACG-2',\n",
       " 'TTTACTGAGCCTTGAT-2',\n",
       " 'TTTACTGCAGTAACGG-1',\n",
       " 'GCTCTGTAGCTGTTCA-1',\n",
       " 'CGTTCTGGTATTCGTG-3',\n",
       " 'CACACAATCATAGCAC-1',\n",
       " 'GGCTGGTTCCCAAGTA-1',\n",
       " 'CATCAAGAGACTAGGC-2',\n",
       " 'TGGCGCATCTCAACTT-3',\n",
       " 'GTGGGTCGTAACGTTC-2',\n",
       " 'GGAAAGCGTAGCGTGA-2',\n",
       " 'CTGCGGAAGCCAGTTT-2',\n",
       " 'AAACGGGAGTGAAGTT-3',\n",
       " 'CGTCAGGTCCCTAACC-2',\n",
       " 'TTCTACAAGAGGTTGC-2',\n",
       " 'AGGGATGGTACTCGCG-2',\n",
       " 'GGCCGATCAGTAAGAT-3',\n",
       " 'GATGAGGCAACTGCTA-2',\n",
       " 'TCATTTGTCTGGCGTG-2',\n",
       " 'TCTCATATCGCAAGCC-2',\n",
       " 'CCCAATCGTGGTACAG-2',\n",
       " 'TTAGGCACATACGCTA-1',\n",
       " 'GCGACCAAGGGTTTCT-1',\n",
       " 'CGGAGTCAGCTGCGAA-2',\n",
       " 'GCTTCCATCGTAGATC-3',\n",
       " 'AGCATACTCGCCGTGA-2',\n",
       " 'GTGTTAGGTCATATCG-1',\n",
       " 'CTGATCCGTGCACCAC-3',\n",
       " 'CACAGGCAGTGTCCAT-1',\n",
       " 'TGTCCCAAGGAGCGTT-2',\n",
       " 'GCATACAAGGGTCTCC-2',\n",
       " 'GTTCTCGTCCATGCTC-1',\n",
       " 'GTACTTTCAAACGTGG-2',\n",
       " 'CTCATTAAGACTAGAT-1',\n",
       " 'GAATGAATCATGTCCC-2',\n",
       " 'CTACGTCAGGCTATCT-2',\n",
       " 'GATGAGGTCCGCGGTA-2',\n",
       " 'TCAATCTAGCACAGGT-1',\n",
       " 'AGATCTGAGGTGGGTT-2',\n",
       " 'ATCCGAAGTGACGCCT-2',\n",
       " 'TGCGTGGAGATGTGTA-2',\n",
       " 'GCTGCTTCACCTCGGA-3',\n",
       " 'TGTATTCGTAGGGACT-3',\n",
       " 'GTGAAGGGTGACAAAT-1',\n",
       " 'ATCCACCAGAGCTGCA-3',\n",
       " 'GACGCGTCACAGGAGT-1',\n",
       " 'TTGGCAATCACCTCGT-2',\n",
       " 'TGCTACCCACAGGTTT-2',\n",
       " 'ACGAGGAAGTGGTAGC-2',\n",
       " 'GTCTCGTAGAAGGTGA-1',\n",
       " 'GGGAATGAGGGCACTA-1',\n",
       " 'CTGCTGTGTTCGCGAC-1',\n",
       " 'GTACTTTCACGCTTTC-2',\n",
       " 'GGCAATTCATGCAATC-1',\n",
       " 'AACGTTGAGCTAGTTC-3',\n",
       " 'TGAGCATCATGGTTGT-2',\n",
       " 'TCTCTAACAAACGCGA-1',\n",
       " 'TACTCGCGTGCGCTTG-1',\n",
       " 'GCGAGAAGTGACTCAT-1',\n",
       " 'TCGGTAAGTGCGATAG-1',\n",
       " 'ACGCAGCTCAGATAAG-3',\n",
       " 'CTAGAGTAGGGAGTAA-1',\n",
       " 'TACGGGCGTCACTTCC-2',\n",
       " 'CTGTGCTTCAATACCG-3',\n",
       " 'ATAGACCCAAGCTGTT-2',\n",
       " 'TCAGGTACATCGGTTA-2',\n",
       " 'CCCAATCAGTCGCCGT-2',\n",
       " 'CTAGTGAAGTACGCGA-1',\n",
       " 'TCTTTCCCATGGTCTA-1',\n",
       " 'CAGCTAACAAGTAGTA-3',\n",
       " 'TCAGGATCACTCAGGC-1',\n",
       " 'ACAGCTAAGCAACGGT-2',\n",
       " 'TGGTTAGTCACCGTAA-2',\n",
       " 'CGCTATCGTGGCAAAC-2',\n",
       " 'GAACATCTCCCTTGTG-2',\n",
       " 'GACTGCGTCTCAAACG-3',\n",
       " 'CTCTACGTCAACGGGA-2',\n",
       " 'ATCTGCCAGTGTCCAT-3',\n",
       " 'TGCGGGTGTTTAAGCC-1',\n",
       " 'TTCTCCTGTACACCGC-1',\n",
       " 'CACAAACAGGAGTTGC-2',\n",
       " 'TTCTACAGTAGTGAAT-2',\n",
       " 'TGCCCTAAGCCCTAAT-1',\n",
       " 'ACCAGTAGTGCTGTAT-1',\n",
       " 'GTAGGCCAGTAATCCC-1',\n",
       " 'TCAGCAAGTCATGCAT-3',\n",
       " 'CCGTACTAGCGCTCCA-1',\n",
       " 'ACGCCGAAGCTAGTGG-1',\n",
       " 'GATGCTACAAGTCTGT-2',\n",
       " 'ACGCAGCAGAGAGCTC-2',\n",
       " 'GGGCACTCAGCCTTGG-1',\n",
       " 'TCTATTGCAAGCCGTC-2',\n",
       " 'TCAGCTCTCCACTGGG-2',\n",
       " 'ACCAGTAGTTATTCTC-1',\n",
       " 'CGAGAAGGTGCAACGA-1',\n",
       " 'GCACATATCAGAGCTT-2',\n",
       " 'TCATTTGGTAGAAAGG-2',\n",
       " 'AAGCCGCTCCAGTAGT-1',\n",
       " 'TACAGTGGTCAACTGT-1',\n",
       " 'CGGTTAATCTCGTATT-2',\n",
       " 'CAACCAAAGCACACAG-1',\n",
       " 'ATCCGAACAGCTGTGC-2',\n",
       " 'AGTGAGGCACAGTCGC-2',\n",
       " 'CGTGTAAGTGCCTGCA-1',\n",
       " 'ACGGAGACAAGAAAGG-2',\n",
       " 'CTCAGAAGTTGTTTGG-2',\n",
       " 'CCGGTAGTCGTTACAG-2',\n",
       " 'CTAAGACTCCGTAGGC-2',\n",
       " 'TGGGCGTCAAGCGATG-3',\n",
       " 'AGATCTGCACCGAATT-2',\n",
       " 'TTTGTCAGTCCGTGAC-2',\n",
       " 'TTGGAACAGCTGCCCA-2',\n",
       " 'CAAGATCGTCGAATCT-2',\n",
       " 'TCAGCAAGTCGTGGCT-3',\n",
       " 'GGCCGATCACCTCGTT-2',\n",
       " 'CGACTTCCATGCAATC-2',\n",
       " 'ACGATACAGTACTTGC-2',\n",
       " 'CTGAAACTCGCCAGCA-2',\n",
       " 'GTAGGCCCACATAACC-2',\n",
       " 'CGCCAAGCACGGTGTC-1',\n",
       " 'AGAGCTTCATAGGATA-1',\n",
       " 'AGTTGGTCAGGCTGAA-2',\n",
       " 'CAGAGAGGTTACAGAA-1',\n",
       " 'TGCTACCGTCTTGTCC-3',\n",
       " 'TGACGGCAGGATTCGG-3',\n",
       " 'CGAGCACTCTGCCAGG-2',\n",
       " 'CATATGGAGTCACGCC-2',\n",
       " 'CGTGAGCAGCGATATA-1',\n",
       " 'TCGGGACCAAAGCGGT-1',\n",
       " 'AGTTGGTGTTGCCTCT-3',\n",
       " 'ATCTACTCACTAAGTC-1',\n",
       " 'TCTCTAACAGTCTTCC-1',\n",
       " 'GACGCGTTCTTAACCT-2',\n",
       " 'TGTGGTAGTCATCCCT-1',\n",
       " 'CATCAAGAGTCATGCT-1',\n",
       " 'GAGTCCGGTCATATGC-2',\n",
       " 'CGCTTCACACATGACT-1',\n",
       " 'CATATTCTCACATAGC-2',\n",
       " 'AGTCTTTGTAGGCTGA-1',\n",
       " 'ACGATACAGATGGGTC-1',\n",
       " 'GGACAAGCATAAGACA-2',\n",
       " 'AGCGTCGGTTACCAGT-2',\n",
       " 'TGGGCGTGTGAACCTT-3',\n",
       " 'GTGGGTCAGCTGCAAG-2',\n",
       " 'GAACGGACAGCAGTTT-1',\n",
       " 'GCGAGAAAGGCTACGA-1',\n",
       " 'TTCTCCTAGATGAGAG-1',\n",
       " 'AGTCTTTAGGAACTGC-2',\n",
       " 'CTCTAATCAGCTGCTG-1',\n",
       " 'ATTTCTGTCGTAGGTT-1',\n",
       " 'GCCAAATAGTAGGCCA-2',\n",
       " 'GGCGTGTGTTGACGTT-3',\n",
       " 'AGGTCATAGCACCGCT-2',\n",
       " 'TCAACGAAGCTGAACG-1',\n",
       " 'CACAGGCTCGAACGGA-2',\n",
       " 'CTGTGCTGTTAAGACA-2',\n",
       " 'CGACCTTGTTGGAGGT-2',\n",
       " 'TTTATGCCACGTCTCT-1',\n",
       " 'CCTTACGTCGATAGAA-2',\n",
       " 'ACGGGTCAGCCACGTC-1',\n",
       " 'GCATGATCATCTGGTA-2',\n",
       " 'GTTAAGCAGTGTACCT-2',\n",
       " 'CCACCTATCGACGGAA-1',\n",
       " 'GGCCGATAGATATGCA-3',\n",
       " 'TTCTACAGTTGGTGGA-2',\n",
       " 'GCGAGAAAGGATATAC-1',\n",
       " 'CGTCCATCACTCTGTC-1',\n",
       " 'GCGAGAATCCGCGGTA-1',\n",
       " 'GCATGTACAAGGTGTG-2',\n",
       " 'CAGCTAACAGCCAATT-2',\n",
       " 'ATCTACTGTCGGCTCA-2',\n",
       " 'CGTGAGCTCCTAGAAC-3',\n",
       " 'GATTCAGGTGGTCCGT-1',\n",
       " 'GGCGTGTGTTAAGTAG-1',\n",
       " 'GCTGCAGTCATCTGCC-2',\n",
       " 'GATGAGGAGCAGGCTA-2',\n",
       " 'TCCACACCATGAACCT-2',\n",
       " 'CGTGTCTAGTGTGAAT-2',\n",
       " 'GACACGCCAGGTGGAT-2',\n",
       " 'AACTGGTTCTCTGTCG-1',\n",
       " 'TTCCCAGGTGTTGAGG-2',\n",
       " 'TGTTCCGGTTCTGTTT-2',\n",
       " 'GGAGCAAAGAATTCCC-2',\n",
       " 'GAAATGACACAGACTT-1',\n",
       " 'TGCTACCAGTTCCACA-2',\n",
       " 'CCGGTAGTCCTTGGTC-1',\n",
       " 'CATGACAGTCCCTTGT-1',\n",
       " 'TTAGTTCGTCACCTAA-3',\n",
       " 'CGTAGGCTCCAAACAC-1',\n",
       " 'GGCAATTCACGCTTTC-1',\n",
       " 'CGGAGCTCATCCGTGG-3',\n",
       " 'CATCAGATCCTGTAGA-1',\n",
       " 'CTGATAGGTCCCTTGT-2',\n",
       " 'CGCGGTACAAAGTCAA-2',\n",
       " 'CGGACACAGTCTTGCA-2',\n",
       " 'TTCTACAGTCATCCCT-1',\n",
       " 'CCTACACCAGCGTTCG-1',\n",
       " 'CGGAGCTCACCAACCG-2',\n",
       " 'GAAGCAGTCCTAGTGA-1',\n",
       " 'CCTCTGAGTGTGCGTC-1',\n",
       " 'GGAACTTCAATCGAAA-2',\n",
       " 'CCTAGCTTCGACAGCC-2',\n",
       " 'CTGGTCTCATCCCATC-2',\n",
       " 'CCATTCGTCATCGGAT-2',\n",
       " 'CTCGGGATCATCACCC-1',\n",
       " 'GTACGTAGTACCGGCT-2',\n",
       " 'TCAGGATAGAATAGGG-2',\n",
       " 'AGAGCTTTCAGTACGT-1',\n",
       " 'CCACTACTCTCACATT-1',\n",
       " 'TGAGCATTCCGTAGGC-2',\n",
       " 'ACGGCCATCAGGATCT-1',\n",
       " 'CTTAACTTCAACACTG-2',\n",
       " 'AAACGGGCAGCTTAAC-1',\n",
       " 'CAGCATAAGCCTTGAT-1',\n",
       " 'CCCAATCCATTTGCCC-2',\n",
       " 'GAGGTGAGTTGGTAAA-1',\n",
       " 'TCAACGAGTACGAAAT-2',\n",
       " 'AGGCCGTGTTATCACG-1',\n",
       " 'CAACTAGAGAATAGGG-2',\n",
       " 'CTCGGGATCCCTAACC-1',\n",
       " 'CAACTAGCAAACGCGA-2',\n",
       " 'TATTACCCACAGACAG-2',\n",
       " 'AACACGTCATTAACCG-2',\n",
       " 'ACAGCTACATGAACCT-1',\n",
       " 'TGGACGCGTCAATGTC-2',\n",
       " 'CTAGAGTCAACTGCGC-1',\n",
       " 'TCAGGATGTAGCGCAA-2',\n",
       " 'TACCTATAGGTGCTTT-2',\n",
       " 'CCTTCCCGTAGCGTCC-1',\n",
       " 'GGTATTGAGCAATATG-1',\n",
       " 'TACGGGCTCAGAGGTG-2',\n",
       " 'CTTGGCTAGTGCGTGA-2',\n",
       " 'TACTTGTCATTATCTC-2',\n",
       " 'ATCCGAAGTCTAGTGT-2',\n",
       " 'TGGGAAGCAAGTCTAC-1',\n",
       " 'AGACGTTAGTCGAGTG-3',\n",
       " 'ACGCCGAGTTACCGAT-2',\n",
       " 'TGCCCATGTGGTCTCG-2',\n",
       " 'CTCGAAACACGTCTCT-2',\n",
       " 'TGCCCTATCCAAAGTC-2',\n",
       " 'AGGTCCGGTAGCCTCG-2',\n",
       " 'GACTGCGGTACAGTGG-2',\n",
       " 'CATCAGACAACGCACC-2',\n",
       " 'CCCTCCTAGAGTGACC-1',\n",
       " 'TCATTTGTCGCCCTTA-1',\n",
       " 'AGATTGCGTTCGGCAC-2',\n",
       " 'AACTCTTCAATGGATA-1',\n",
       " 'TCGTAGAGTATGAATG-1',\n",
       " 'CGAGCACTCGGCCGAT-1',\n",
       " 'GCGAGAAGTCTTTCAT-2',\n",
       " 'TGACTAGAGAGTCTGG-1',\n",
       " 'CGGAGCTTCATCGCTC-2',\n",
       " 'CTCGTACAGGCTACGA-3',\n",
       " 'ACATACGGTCAGAATA-2',\n",
       " 'TATCAGGAGCTGAACG-1',\n",
       " 'GAAATGACATAGTAAG-1',\n",
       " 'CGTAGCGAGTCTCGGC-2',\n",
       " 'GGGTCTGGTACTCTCC-1',\n",
       " 'CGCGTTTGTAGATTAG-1',\n",
       " 'ACATCAGCATTTCACT-1',\n",
       " 'TTTGTCAGTCCCTACT-2',\n",
       " 'TAGTTGGCATTAACCG-2',\n",
       " 'AATCGGTTCCGCGGTA-2',\n",
       " 'CCTAGCTGTCTTGATG-2',\n",
       " 'TTATGCTCATGTCGAT-1',\n",
       " 'CTCTGGTAGTTTAGGA-1',\n",
       " 'CCCAGTTGTTGCCTCT-1',\n",
       " 'GTCACAACAGATGAGC-3',\n",
       " 'GCGCAGTGTAACGCGA-1',\n",
       " 'ATGAGGGTCACCCTCA-2',\n",
       " 'CACACTCCAATAGCAA-3',\n",
       " 'TCCCGATTCTTCGGTC-2',\n",
       " 'CTAGTGATCACGATGT-1',\n",
       " 'GCTGCAGCAATGTTGC-2',\n",
       " 'ATCCACCAGTAGCCGA-1',\n",
       " 'CACATAGTCGTACCGG-2',\n",
       " 'CACCAGGTCACAACGT-1',\n",
       " 'CCTACCAGTGGCAAAC-1',\n",
       " 'AATCGGTTCTGTCCGT-1',\n",
       " 'GATCGCGAGGCACATG-1',\n",
       " 'CGCTATCTCAACGGGA-2',\n",
       " 'CAGTAACAGTAAGTAC-2',\n",
       " 'GTACTTTCACGTTGGC-2',\n",
       " 'AGCGGTCCACCAACCG-2',\n",
       " 'TCAGATGAGAATAGGG-1',\n",
       " 'CTCTAATGTACAAGTA-1',\n",
       " 'TAAGTGCAGTTACGGG-1',\n",
       " 'ACGATGTGTCATGCAT-2',\n",
       " 'CGTTGGGCACTATCTT-2',\n",
       " 'TAGTGGTTCTGTCTCG-1',\n",
       " 'GGCAATTCATGGTCAT-2',\n",
       " 'ATGAGGGTCCACGACG-2',\n",
       " 'CGTGAGCAGGTACTCT-2',\n",
       " 'CGTTCTGAGACAGACC-1',\n",
       " 'ATAAGAGTCTTACCTA-2',\n",
       " 'ACTTTCAGTCAACATC-1',\n",
       " 'GAACCTAAGTAGATGT-1',\n",
       " 'GCCAAATGTCTCTTTA-2',\n",
       " 'AAGCCGCTCCCTTGCA-1',\n",
       " 'TTGCGTCTCCTTTCGG-3',\n",
       " 'GTGAAGGAGCTGCGAA-3',\n",
       " 'CAGCGACTCAGTTGAC-1',\n",
       " 'TACGGGCGTTGGGACA-2',\n",
       " 'TCTTTCCAGCCACGCT-1',\n",
       " 'CGACCTTGTAAACCTC-2',\n",
       " 'GACGCGTGTACTCTCC-2',\n",
       " 'ACTGAACTCTAACTCT-2',\n",
       " 'CATATTCTCGGAGCAA-2',\n",
       " 'CTGATCCGTATCAGTC-1',\n",
       " 'CGGACACAGTACACCT-2',\n",
       " 'CTCCTAGTCTGGCGTG-2',\n",
       " 'CACACTCGTACAGTTC-1',\n",
       " 'CATATGGAGCTGAAAT-1',\n",
       " 'CACTCCACATGTAAGA-2',\n",
       " 'AAAGATGTCTTCGAGA-3',\n",
       " 'GATCGCGTCTGCTTGC-1',\n",
       " 'TCTTCGGAGCGATAGC-2',\n",
       " 'GATCTAGGTGGTCTCG-1',\n",
       " 'TTGGAACTCCACGACG-1',\n",
       " 'GGATTACTCTGAAAGA-2',\n",
       " 'CGGTTAAAGCCAACAG-1',\n",
       " 'TCGGTAATCATCTGTT-2',\n",
       " 'TCAGCAATCACGACTA-2',\n",
       " 'TGTGTTTGTGCACTTA-2',\n",
       " 'AAACGGGCAGTACACT-1',\n",
       " 'GGACGTCAGTTAGCGG-1',\n",
       " 'CTTAACTCATCCTTGC-2',\n",
       " 'CGAACATGTTAAGAAC-1',\n",
       " 'CTTAGGAGTACGAAAT-1',\n",
       " 'CTCACACGTACCGCTG-2',\n",
       " 'GGACAAGCATGCGCAC-1',\n",
       " 'TTGGAACTCCGTACAA-1',\n",
       " 'ACGTCAAAGAAGATTC-2',\n",
       " 'CAGCAGCGTAACGCGA-1',\n",
       " 'GGGAATGTCCCTTGTG-2',\n",
       " 'GTTTCTAGTTCCATGA-2',\n",
       " 'CCTTTCTGTAATAGCA-1',\n",
       " 'CTACACCCAACGATCT-1',\n",
       " 'CTGATAGGTCCGTGAC-1',\n",
       " 'CTAGCCTAGATGCCTT-1',\n",
       " 'CGGCTAGGTGTTGAGG-2',\n",
       " 'TGCGCAGCAATCGGTT-1',\n",
       " 'GTCACGGCAAACCTAC-2',\n",
       " 'AGGGATGTCGTAGGTT-2',\n",
       " 'AGCATACTCCAATGGT-1',\n",
       " 'GGATGTTAGTAGCGGT-2',\n",
       " 'CGACCTTCATGTAGTC-2',\n",
       " 'TAGGCATTCACGACTA-1',\n",
       " 'GATCGATGTGTCTGAT-2',\n",
       " 'TCGAGGCGTTACGCGC-1',\n",
       " 'ACGGGTCTCTCGCATC-2',\n",
       " 'CTGCGGATCGCGTAGC-1',\n",
       " 'ATCATCTTCGAATCCA-1',\n",
       " 'TGGGCGTAGCAGGTCA-1',\n",
       " 'CTCGAAAGTTCCAACA-2',\n",
       " 'ACTGTCCAGTGCCAGA-1',\n",
       " 'CCTCTGAGTCATTAGC-1',\n",
       " 'CACACCTAGAGTAATC-1',\n",
       " 'GGGACCTCACGCATCG-1',\n",
       " 'TCTATTGTCAGCTCTC-1',\n",
       " 'GGAAAGCGTGTGACGA-1',\n",
       " 'AGATTGCGTGAAAGAG-2',\n",
       " 'CAGCGACTCTGCGTAA-2',\n",
       " 'GAATAAGTCCACGTGG-2',\n",
       " 'CATGCCTCATCGGTTA-2',\n",
       " 'CTGCTGTTCAGAGACG-2',\n",
       " 'ACACTGACAGCCACCA-2',\n",
       " 'CACACAATCTATGTGG-2',\n",
       " 'CAGCGACTCCCATTAT-1',\n",
       " 'TCTTCGGTCTACTCAT-2',\n",
       " 'AGAGCGAGTATTCGTG-2',\n",
       " 'TACGGGCCATGTTCCC-1',\n",
       " 'CACACTCCAGCATACT-1',\n",
       " 'GTTAAGCAGAACAATC-2',\n",
       " 'TGACGGCCACCAACCG-2',\n",
       " 'TTTGTCACACACTGCG-1',\n",
       " 'TGCGTGGCAAACTGTC-1',\n",
       " 'CGAATGTCACTGAAGG-1',\n",
       " 'CCACGGACAGCTCGCA-2',\n",
       " 'TTAGTTCTCAGAGACG-2',\n",
       " 'ATAACGCAGTTAGGTA-1',\n",
       " 'TAGGCATTCTGGGCCA-2',\n",
       " 'AGGGAGTAGCGTAATA-2',\n",
       " 'TGACTAGGTTTAGGAA-2',\n",
       " 'CCCTCCTTCCTGTAGA-2',\n",
       " 'AACTCCCGTTACGACT-1',\n",
       " 'GTCCTCACATTCTCAT-1',\n",
       " 'CAACTAGAGGACTGGT-1',\n",
       " 'TTCGGTCAGGAATCGC-1',\n",
       " 'GCTTCCACATTCCTCG-2',\n",
       " 'CTAGCCTGTGTGAAAT-1',\n",
       " 'TCAGCTCTCTGTCTAT-2',\n",
       " 'AGATTGCGTGATGTGG-2',\n",
       " 'GGACAGACAGACGCTC-2',\n",
       " 'GAGTCCGAGGATGGAA-1',\n",
       " 'TGGTTCCAGACAAGCC-2',\n",
       " 'GAAACTCCAAGAAGAG-1',\n",
       " 'TAGACCAAGTGACTCT-1',\n",
       " 'CACTCCAGTCTGGAGA-1',\n",
       " 'CTGCCTAAGGGTCTCC-1',\n",
       " 'CGATGGCGTCCGTTAA-1',\n",
       " 'TCGCGTTGTAGCGATG-1',\n",
       " 'TGGCGCACACGTAAGG-2',\n",
       " 'TTCTACATCTTGCAAG-2',\n",
       " 'TCGTACCCATTCGACA-2',\n",
       " 'AAGACCTCAAACAACA-2',\n",
       " 'GGGAGATTCCGAATGT-1',\n",
       " 'TAGTGGTCACACTGCG-2',\n",
       " 'ACGGGTCAGTTCCACA-1',\n",
       " 'CCGTACTAGCCAGTAG-2',\n",
       " 'TCTGAGAGTGGACGAT-2',\n",
       " 'GAGCAGATCATTATCC-2',\n",
       " 'CTCTACGGTTGGACCC-1',\n",
       " 'TTAGGACCACAGAGGT-2',\n",
       " 'GAATGAAAGAAACGAG-2',\n",
       " 'AACTGGTAGTGGGTTG-2',\n",
       " 'TCTCTAAGTGCAGTAG-1',\n",
       " 'CACAGGCGTTGTGGCC-2',\n",
       " 'AACTCTTAGACCGGAT-2',\n",
       " 'TGTGGTACACAGACAG-1',\n",
       " 'CGGCTAGAGCTTATCG-2',\n",
       " 'CGTTCTGCACATCCAA-1',\n",
       " 'TCGGTAAGTCATATGC-1',\n",
       " 'TCGCGAGTCTGATTCT-2',\n",
       " 'TGACAACGTACTCGCG-2',\n",
       " 'ATTGGACAGGACTGGT-1',\n",
       " 'ATCTACTGTAGGGTAC-2',\n",
       " 'CTAGAGTAGGAACTGC-1',\n",
       " 'ACCAGTATCTTGAGAC-2',\n",
       " 'GTCCTCACAGTTCCCT-2',\n",
       " 'ACGATACTCAAGGTAA-1',\n",
       " 'CACATAGAGCCCTAAT-1',\n",
       " 'CCTATTAGTTAGAACA-1',\n",
       " 'GGTGTTAGTCGCGTGT-2',\n",
       " 'CACCAGGTCGTCCAGG-1',\n",
       " 'CTCATTACATGGTCTA-1',\n",
       " 'TTGTAGGAGGTGCACA-1',\n",
       " 'GCATACACAATAGAGT-2',\n",
       " 'CATCGAACATGCCTAA-1',\n",
       " 'CGGAGTCGTAGAGTGC-1',\n",
       " 'CATATGGAGATGTCGG-2',\n",
       " 'CCACCTACATCGTCGG-2',\n",
       " 'CACAGGCGTTGCGTTA-2',\n",
       " 'TTGACTTAGCTAGGCA-2',\n",
       " 'TGGCGCACAGGTCCAC-2',\n",
       " 'CTCTGGTGTGTAAGTA-1',\n",
       " 'ACCTTTATCCGCAGTG-1',\n",
       " 'CATGCCTAGTGACATA-1',\n",
       " 'TGGCGCACACATTTCT-2',\n",
       " 'GGGTCTGTCCCTCAGT-2',\n",
       " 'TACTTGTCACATGACT-1',\n",
       " 'CACCTTGGTTCGCTAA-2',\n",
       " 'AGTTGGTAGTGGACGT-1',\n",
       " 'AGATTGCCACGCTTTC-2',\n",
       " 'GGGACCTTCCAAATGC-1',\n",
       " 'ACAGCCGAGCTGGAAC-2',\n",
       " 'GTCTCGTCACTGTTAG-2',\n",
       " 'CAACTAGGTACCAGTT-1',\n",
       " 'GTCGGGTTCCACGTTC-2',\n",
       " 'GATGAGGCATTACGAC-1',\n",
       " 'TTTACTGCAATCTACG-1',\n",
       " 'CTGCGGAGTCTAGCCG-2',\n",
       " 'ACGAGCCCATCCTAGA-1',\n",
       " 'ACCAGTATCTTACCTA-2',\n",
       " 'TAAGTGCTCCGTCAAA-2',\n",
       " 'TTAGGACAGAGTACAT-1',\n",
       " 'TAGCCGGTCTCTAGGA-2',\n",
       " 'GACTAACCAGTTTACG-2',\n",
       " 'GAAACTCAGCACACAG-1',\n",
       " 'GTACGTAAGCAGATCG-1',\n",
       " 'AGCGTCGCACCAGTTA-2',\n",
       " 'CGTGTAATCACATGCA-1',\n",
       " 'GATGAAATCAAAGTAG-2',\n",
       " 'GTGCGGTGTCTTGCGG-1',\n",
       " 'GCCTCTATCTTCCTTC-1',\n",
       " 'GCTCCTAAGACTAAGT-1',\n",
       " 'CTCACACTCCGAGCCA-1',\n",
       " 'TGAGAGGAGGAGTAGA-2',\n",
       " 'ATAACGCCAGAGTGTG-2',\n",
       " 'GTACTCCCATGCTAGT-1',\n",
       " 'AACTCCCTCAAGATCC-1',\n",
       " 'TAGGCATGTTCGCTAA-1',\n",
       " 'CGGGTCAAGCACAGGT-1',\n",
       " 'CACACAATCGGAAACG-1',\n",
       " 'CGTAGCGTCGTCTGAA-1',\n",
       " 'CTACCCATCCACGTTC-1',\n",
       " 'TCGGGACAGACCTTTG-1',\n",
       " 'TAAACCGGTACGCTGC-1',\n",
       " 'CCTACCAAGTCACGCC-2',\n",
       " 'CGTCTACGTGGGTCAA-2',\n",
       " 'CCAGCGATCCTTTCTC-2',\n",
       " 'TTTGGTTAGAGCCCAA-2',\n",
       " 'CCTTACGCATGCTAGT-1',\n",
       " 'TCTTTCCGTCCGAAGA-1',\n",
       " 'CATATTCTCTAACCGA-1',\n",
       " 'CTGCGGAAGCCGGTAA-2',\n",
       " 'TCAGCAAAGTTGCAGG-1',\n",
       " 'ACAGCTAGTAGGGACT-2',\n",
       " 'ACTGTCCCACTTCTGC-2',\n",
       " 'GGTGTTAAGTCGAGTG-2',\n",
       " 'GAAATGAAGGACCACA-2',\n",
       " 'TTCTCCTGTGCAGTAG-2',\n",
       " 'TACCTTACACCAGCAC-1',\n",
       " 'GTCGTAACAGCCAGAA-1',\n",
       " 'GGATTACCAGGGTTAG-1',\n",
       " 'ACTTTCACAGGACGTA-2',\n",
       " 'ACCGTAAAGAATTGTG-2',\n",
       " 'TGTGTTTAGCGCTCCA-2',\n",
       " 'GTCACGGTCTTGACGA-1',\n",
       " 'AAAGCAAGTTTCCACC-1',\n",
       " 'CTGTTTAAGATCGGGT-2',\n",
       " 'CCAGCGAAGATCTGCT-1',\n",
       " 'TACTTACGTTCAGGCC-1',\n",
       " 'ATGCGATAGTGAAGTT-1',\n",
       " 'CTCGAGGCATCACGTA-1',\n",
       " 'ACCCACTTCGAATGGG-1',\n",
       " 'AGGGAGTTCGCACTCT-2',\n",
       " 'GGCGACTCAATCCAAC-1',\n",
       " 'GACTGCGCATCGGACC-2',\n",
       " 'GTAACGTGTGCTAGCC-2',\n",
       " 'CGAGCACAGGTGACCA-2',\n",
       " 'AAGGTTCAGGGAAACA-1',\n",
       " 'GTTTCTAAGACTTGAA-1',\n",
       " 'AAGGTTCCAAGCGTAG-1',\n",
       " 'CCTACACCACCTGGTG-2',\n",
       " 'GGGAGATAGGGTATCG-2',\n",
       " 'CATGACACAGATCCAT-1',\n",
       " 'CCTTTCTCACCTCGTT-2',\n",
       " 'AGACGTTCATCGATGT-2',\n",
       " 'TCGTACCTCCGGGTGT-2',\n",
       " 'CATGACATCGCTAGCG-3',\n",
       " 'CCTTACGCAAACCCAT-1',\n",
       " 'ACTTACTAGGAATTAC-1',\n",
       " 'CACATTTCACCCATTC-1',\n",
       " 'TACCTATTCATCATTC-1',\n",
       " 'ACACCCTCATCGACGC-1',\n",
       " 'CTCGGAGCAGTAGAGC-2',\n",
       " 'AAATGCCGTCTAACGT-1',\n",
       " 'TACGGATCACAACGCC-1',\n",
       " 'CTGTGCTCAGCGATCC-1',\n",
       " 'ACGCCGACATCCGGGT-1',\n",
       " 'TACGGATAGTTAGGTA-1',\n",
       " 'GGGTCTGTCACCGTAA-2',\n",
       " 'CGAGAAGGTAAACCTC-1',\n",
       " 'GAGCAGACACCAACCG-2',\n",
       " 'TCAATCTAGATCTGCT-1',\n",
       " 'CGGGTCAGTCCCTTGT-2',\n",
       " 'GCAGTTAAGAGACTTA-1',\n",
       " 'TCAGATGCATATACGC-1',\n",
       " 'GGGATGATCAGGCCCA-2',\n",
       " 'TGGTTAGTCCCGACTT-2',\n",
       " 'ACGTCAATCACGCGGT-1',\n",
       " 'AGGCCGTCAAGCGATG-2',\n",
       " 'CTGCTGTGTAAGCACG-1',\n",
       " 'ACTGTCCAGATCTGCT-1',\n",
       " 'CTCGAGGTCGCGGATC-1',\n",
       " 'GCGGGTTAGTGTACGG-1',\n",
       " 'TCTCTAAAGGCATTGG-3',\n",
       " 'GCTGCAGAGCTGAAAT-3',\n",
       " 'CACATTTTCGAACTGT-3',\n",
       " 'GAGTCCGAGAAGATTC-3',\n",
       " 'ACGGAGAAGTTCGCGC-3',\n",
       " 'TCATTACGTTACGTCA-3',\n",
       " 'CCGGTAGGTACGCTGC-3',\n",
       " 'ACGCCGAAGCAGCCTC-3',\n",
       " 'TGCCCATGTCTCTCTG-3',\n",
       " 'GCAGCCATCTCTGCTG-3',\n",
       " 'CTCGAGGTCTCGTTTA-3',\n",
       " 'CCGTTCACATAAGACA-3',\n",
       " 'ACATCAGAGCGATAGC-3',\n",
       " 'CGATCGGTCATCTGTT-1',\n",
       " 'ACACTGACATAAAGGT-3',\n",
       " 'GTAACGTTCAACGCTA-3',\n",
       " 'GACCAATGTGCAGTAG-3',\n",
       " 'CACACTCTCGGTTAAC-3',\n",
       " 'TATCTCAAGCATCATC-3',\n",
       " 'AACACGTGTTCCCGAG-3',\n",
       " 'TCAGCTCAGCAGCGTA-3',\n",
       " 'CGTCACTAGCAGGCTA-3',\n",
       " 'CTTCTCTCAGGCTGAA-1',\n",
       " 'GTTCATTTCGGAATCT-3',\n",
       " 'ATTGGACCATCTCGCT-3',\n",
       " 'GATGAAAAGTCGTTTG-3',\n",
       " 'CGGCTAGCAGGGCATA-3',\n",
       " 'CGCTATCCAGATGAGC-3',\n",
       " 'AACTCTTAGGCATGGT-3',\n",
       " 'ACCGTAATCAAGAAGT-2',\n",
       " 'TACGGATGTCGAAAGC-3',\n",
       " 'GTCGTAAGTCCTCTTG-3',\n",
       " 'GTGCGGTAGCCGATTT-3',\n",
       " 'AACTCAGGTTCCACTC-3',\n",
       " 'GTTCTCGCAGGTCTCG-3',\n",
       " 'CTTCTCTAGTAGCCGA-3',\n",
       " 'CACTCCATCGCCTGTT-3',\n",
       " 'GACACGCCAGCCTATA-3',\n",
       " 'GCGGGTTCACATTCGA-3',\n",
       " 'CCTATTAGTCGTTGTA-3',\n",
       " 'AGATCTGAGCTCCTTC-3',\n",
       " 'ACGTCAACACAGGCCT-3',\n",
       " 'TCACGAATCAGTGCAT-3',\n",
       " 'CACACTCGTCTGCAAT-3',\n",
       " 'GCCTCTACACACCGCA-3',\n",
       " 'GACTAACCACTTACGA-3',\n",
       " 'CGTAGCGCATCCCACT-3',\n",
       " 'AATCGGTTCCTCGCAT-3',\n",
       " 'ATTATCCTCGCGCCAA-3',\n",
       " 'CGGAGTCTCGTCTGCT-2',\n",
       " 'CCAGCGACATCTACGA-3',\n",
       " 'CCGGGATAGACTGTAA-3',\n",
       " 'AGCCTAAAGACGCAAC-3',\n",
       " 'GCGAGAAAGAGCAATT-3',\n",
       " 'GCTCCTACAACCGCCA-3',\n",
       " 'TAGAGCTGTGCAGTAG-3',\n",
       " 'ACGAGCCGTATTAGCC-3',\n",
       " 'AAGGAGCCACGTGAGA-3',\n",
       " 'GCGCAACTCTGCGACG-3',\n",
       " 'CGCGTTTAGCAGCCTC-3',\n",
       " 'GAATAAGAGCTCTCGG-3',\n",
       " 'ACGAGCCCATGTTGAC-3',\n",
       " 'GCCTCTATCACATGCA-3',\n",
       " 'CACATAGGTACAGTGG-3',\n",
       " 'TCTGGAAAGTCATGCT-3',\n",
       " 'TGAAAGATCCAAACAC-3',\n",
       " 'CAGAGAGTCCCGGATG-3',\n",
       " 'TGAGCATTCTTACCGC-3',\n",
       " 'CATCGAAGTAACGCGA-3',\n",
       " 'GTGTGCGTCCATGAGT-3',\n",
       " 'ATCATGGAGGAATGGA-3',\n",
       " 'CCTTCCCGTCAATGTC-3',\n",
       " 'TTTATGCAGGGATCTG-3',\n",
       " 'AGGCCACGTGAGGCTA-3',\n",
       " 'TGCTACCCACGGTTTA-3',\n",
       " 'GTCATTTAGGCCGAAT-3',\n",
       " 'ACCCACTCAGCTGCTG-1',\n",
       " 'TAAACCGGTGCCTTGG-3',\n",
       " 'CTCGTCAAGGGCTTCC-3',\n",
       " 'GTGCAGCTCTGTCTAT-3',\n",
       " 'GTATCTTCATCCGGGT-3',\n",
       " 'GACGTTACAGCATGAG-3',\n",
       " 'GGGCACTCAAACCTAC-3',\n",
       " 'AAGACCTCAACCGCCA-3',\n",
       " 'GGTGTTAGTGTGAAAT-3',\n",
       " 'TGAGAGGGTGTGGCTC-3',\n",
       " 'GAAATGAGTCCTAGCG-3',\n",
       " 'TTCTACACATGCTGGC-3',\n",
       " 'TTTGCGCAGAGGTAGA-3',\n",
       " 'TGTATTCGTTCTGAAC-3',\n",
       " 'ATTCTACGTTCATGGT-3',\n",
       " 'GCATGTATCACCTCGT-3',\n",
       " 'ACGGCCAGTAAGAGAG-3',\n",
       " 'GGGCATCTCACGAAGG-3',\n",
       " 'ATCATGGAGCCCAGCT-3',\n",
       " 'GTCTTCGCAAGCCCAC-3',\n",
       " 'GATCGTAGTCAACATC-2',\n",
       " 'CGTCACTTCAGCTTAG-3',\n",
       " 'TGTCCCATCACCTCGT-3',\n",
       " 'GCATGATTCCATGAAC-3',\n",
       " 'TGCGGGTAGGGCTTGA-3',\n",
       " 'TATGCCCCAGGCTCAC-3',\n",
       " 'GTGTTAGTCCCATTTA-3',\n",
       " 'TGAGAGGCATCTACGA-3',\n",
       " 'TTTGCGCAGGAATGGA-3',\n",
       " 'CGATTGAGTCAATGTC-3',\n",
       " 'CCGTACTTCCCACTTG-3',\n",
       " 'GCAATCACAGCTGTAT-3',\n",
       " 'CTCGAGGCAAGTTGTC-3',\n",
       " 'ACTTTCATCTACGAGT-3',\n",
       " 'TTTATGCAGCCTCGTG-3',\n",
       " 'CGCCAAGCACAGAGGT-3',\n",
       " 'GTACGTAAGCTCCTTC-3',\n",
       " 'GGACGTCCAGGGTACA-3',\n",
       " 'TCAGGTATCTCGCTTG-3',\n",
       " 'TTAGTTCGTTCCACTC-3',\n",
       " 'CAGTCCTAGAAACCAT-3',\n",
       " 'TCGGGACGTCTAGTGT-3',\n",
       " 'ATCATCTTCCTTGACC-3',\n",
       " 'TCAGCAACACAGCCCA-3',\n",
       " 'CGCGTTTTCCACGTGG-3',\n",
       " 'AGTGGGAAGAGAACAG-3',\n",
       " 'AAGTCTGGTTAGTGGG-3',\n",
       " 'CGTCTACTCACCCTCA-2',\n",
       " 'TAGAGCTCACCGATAT-3',\n",
       " 'CGCGTTTAGAGTCTGG-3',\n",
       " 'AACTCTTAGCCACCTG-3',\n",
       " 'AGTGAGGCAAGCGATG-3',\n",
       " 'CGTCTACGTAGTAGTA-3',\n",
       " 'AGGCCACAGAGGTAGA-3',\n",
       " 'AATCGGTCAGCCACCA-1',\n",
       " 'CCGGGATAGAAGGTTT-3',\n",
       " 'TTTGTCACAAGGTTTC-3',\n",
       " 'CTGTTTATCACTTCAT-3',\n",
       " 'CACAGTAAGGATTCGG-3',\n",
       " 'CACATAGGTGTTTGTG-3',\n",
       " 'CGATCGGGTGAAATCA-3',\n",
       " 'AGATCTGTCTCTGCTG-3',\n",
       " 'GACGCGTTCCTTAATC-3',\n",
       " 'GGCAATTGTGTGACCC-3',\n",
       " 'CGAACATAGTATGACA-3',\n",
       " 'TCATTACGTGAGGGAG-3',\n",
       " 'CGTGTCTGTAGCGTGA-3',\n",
       " 'AGAATAGAGTATCTCG-3',\n",
       " 'GGGACCTAGTTAACGA-3',\n",
       " 'AAGGAGCTCTGTCCGT-3',\n",
       " 'ACTGAACTCGCAAGCC-1',\n",
       " 'TATTACCTCGGCGCAT-3',\n",
       " 'CACAAACCATATGGTC-3',\n",
       " 'GCTTGAAAGTGTCCAT-3',\n",
       " 'CACATAGAGTCGATAA-2',\n",
       " 'AGATCTGGTAAAGTCA-3',\n",
       " 'AGCGTCGTCTTGACGA-1',\n",
       " 'TCTGGAACAAGCGAGT-3',\n",
       " 'TAGTTGGCAGGCAGTA-1',\n",
       " 'TACTTACAGACAAGCC-3',\n",
       " 'CAACCAAGTCCAGTGC-3',\n",
       " 'GAATAAGTCATGTAGC-3',\n",
       " 'TTGGAACGTCTGCCAG-3',\n",
       " 'ATAAGAGGTCAACATC-3',\n",
       " 'TTCTTAGTCACCAGGC-3',\n",
       " 'CAGCTAAAGGCCCTTG-3',\n",
       " 'TGGTTCCGTGAGGGTT-3',\n",
       " 'TCTATTGAGCCCAGCT-3',\n",
       " 'ACGGGCTGTCAAGCGA-3',\n",
       " 'AGCAGCCGTGTTCTTT-3',\n",
       " 'TCACAAGGTCAGAAGC-3',\n",
       " 'GCGAGAATCAATACCG-3',\n",
       " 'ACACCCTCACGGTAAG-3',\n",
       " 'ACTATCTGTCATACTG-3',\n",
       " 'GTAACTGGTCCGAAGA-3',\n",
       " 'TTCGAAGTCGAGGTAG-3',\n",
       " 'ACGGGCTCAAGAAGAG-3',\n",
       " 'CCTACCAAGTACGTTC-3',\n",
       " 'GTCACAAGTATGCTTG-3',\n",
       " 'GGATGTTCATGCATGT-3',\n",
       " 'GTTCGGGAGCTCAACT-3',\n",
       " 'CTGGTCTTCTCTGCTG-3',\n",
       " 'TTAGGACTCACGCGGT-3',\n",
       " 'CGTGTAATCATTATCC-3',\n",
       " 'TGGTTAGGTTGGTTTG-3',\n",
       " 'TGGGAAGGTATATGGA-3',\n",
       " 'ACAGCTATCCGTTGCT-3',\n",
       " 'TCTTCGGAGCTAAACA-3',\n",
       " 'TGTTCCGGTACTTCTT-3',\n",
       " 'TTCTCAATCAGCTTAG-2',\n",
       " 'GCGGGTTAGCCATCGC-3',\n",
       " 'GCATGCGGTCTCTCGT-3',\n",
       " 'AACTCAGCAGGTGGAT-3',\n",
       " 'GTATCTTAGTCACGCC-3',\n",
       " 'CCACCTAAGCGACGTA-3',\n",
       " 'AACTTTCAGTGGCACA-1',\n",
       " 'ATGAGGGGTCAACATC-3',\n",
       " 'GACCTGGAGTAATCCC-3',\n",
       " 'CAAGAAATCTGTGCAA-3',\n",
       " 'ATCTACTTCGCGGATC-3',\n",
       " 'TGGTTCCAGCTTATCG-3',\n",
       " 'ATCTACTCACCTCGGA-3',\n",
       " 'GTAACGTCATGTTCCC-3',\n",
       " 'ATTTCTGCAGCCTGTG-3',\n",
       " 'GACTAACGTTCGTCTC-3',\n",
       " 'TTGTAGGTCTGTCAAG-3',\n",
       " 'TTTGGTTTCTCAACTT-1',\n",
       " 'CAGCTGGTCACAATGC-3',\n",
       " 'TGGACGCCATCTCCCA-3',\n",
       " 'GAAATGAAGCAGGCTA-3',\n",
       " 'GCGCAACGTAAGGGCT-3',\n",
       " 'CTAATGGGTTGTGGAG-3',\n",
       " 'GCAGCCAGTCTCGTTC-3',\n",
       " 'TGCCCTAGTTGCGCAC-2',\n",
       " 'CAAGGCCGTCAAGCGA-3',\n",
       " 'ACACCAAGTGGCAAAC-1',\n",
       " 'AAGGCAGTCACTCTTA-3',\n",
       " 'CAACCTCAGGCAGTCA-3',\n",
       " 'TGTTCCGTCATAGCAC-3',\n",
       " 'GTCTTCGCAGATTGCT-3',\n",
       " 'GACACGCCACGGTGTC-3',\n",
       " 'ATTATCCTCCGCTGTT-3',\n",
       " 'TGAGCATGTTGATTCG-3',\n",
       " 'TGCACCTAGGAGTAGA-3',\n",
       " 'CCTTTCTTCTTGCATT-3',\n",
       " 'GATCGATCACGAAAGC-3',\n",
       " 'CGTGTCTGTACTTAGC-3',\n",
       " 'CACACAAGTAGTAGTA-3',\n",
       " 'CGAGCACGTATCTGCA-3',\n",
       " 'GCTTCCATCAACACTG-3',\n",
       " 'GGCGTGTCAATAGCGG-3',\n",
       " 'TGACTAGCACAGAGGT-3',\n",
       " 'TAGGCATCAATGGTCT-3',\n",
       " 'TTTACTGGTCTCTCTG-3',\n",
       " 'GTTAAGCGTATTACCG-3',\n",
       " 'TGCGCAGGTCCGCTGA-3',\n",
       " 'CTGTGCTGTGGTACAG-3',\n",
       " 'CCACGGAAGATCTGAA-3',\n",
       " 'ATTTCTGAGCCCGAAA-3',\n",
       " 'TGACTAGGTCCGTTAA-3',\n",
       " 'CTAAGACTCGCCAAAT-3',\n",
       " 'GTTCGGGAGGCTAGGT-3',\n",
       " 'CGTCAGGTCCGAATGT-3']"
      ]
     },
     "execution_count": 419,
     "metadata": {},
     "output_type": "execute_result"
    }
   ],
   "source": [
    "t=adata.obs['Celltype..minor.lineage.'].groupby(adata.obs['Celltype..minor.lineage.']).apply(lambda x: x.sample(239)).index\n",
    "ins = []\n",
    "for i,j in t:\n",
    "    ins.append(j)\n",
    "ins"
   ]
  },
  {
   "cell_type": "code",
   "execution_count": 435,
   "metadata": {},
   "outputs": [],
   "source": [
    "tm = adata[ins]"
   ]
  },
  {
   "cell_type": "code",
   "execution_count": 700,
   "metadata": {},
   "outputs": [
    {
     "data": {
      "text/plain": [
       "(36, 10)"
      ]
     },
     "execution_count": 700,
     "metadata": {},
     "output_type": "execute_result"
    }
   ],
   "source": [
    "resolution = 5\n",
    "n_pca = 10\n",
    "preprocessing_cluster(tm,N_pcs=n_pca,resolution=resolution)\n",
    "\n",
    "inter_gene = sort_data(tm,tm)\n",
    "\n",
    "tmp1 = calculate_cluster_centroid_for_genes(tm,inter_gene,folder_path1)\n",
    "meta_list = calculate_cluster_celltype(tm,meta_col='Celltype..minor.lineage.');\n",
    "tmp1.shape"
   ]
  },
  {
   "cell_type": "code",
   "execution_count": 613,
   "metadata": {},
   "outputs": [],
   "source": [
    "def rotate(nodes,embeddings,epoches2,n,similarities):\n",
    "    deep_search_tree(root,0,[],root)\n",
    "    result1 = []\n",
    "    result2 = []\n",
    "\n",
    "    distances = []\n",
    "    for i in nodes:\n",
    "        if(int(i)>=n):\n",
    "            if(int(i.son[0]) <n and int(i.son[1])<n ):\n",
    "                for i1,j1 in itertools.combinations(i.subson,2):\n",
    "                    for j in i.rest(n):\n",
    "                        result1.append([[i1,j1],j,int(i),1,int(j)])\n",
    "                    \n",
    "    for i in nodes[:-1]:\n",
    "        if(int(i)>=n and len(i.son)>=2):\n",
    "            for i1 in range(len(i.subson)):\n",
    "                for i2 in range(i1+1,len(i.subson)):\n",
    "                    for j in i.rest(n):\n",
    "                        result2.append([[i.subson[i1],i.subson[i2]],j,int(i),0,int(i.f)])\n",
    "            \n",
    "    for i in nodes:\n",
    "        distances.append(i.distance_to_root);\n",
    "    distances = torch.tensor(distances)\n",
    "    print(len(result1),len(result2))\n",
    "    dataset_test1 = balance_dataset(similarities,len(result1),embeddings,distances,result1)\n",
    "    dataloader1 = data.DataLoader(dataset_test1, batch_size=1, shuffle=True, pin_memory=True)\n",
    "    \n",
    "    dataset_test2 = balance_dataset(similarities,min(1000,len(result2)),embeddings,distances,result2)\n",
    "    dataloader2 = data.DataLoader(dataset_test2, batch_size=1, shuffle=True, pin_memory=True)    \n",
    "    \n",
    "    model2 = balancehc(nodes1,torch.tensor(embeddings),hyperparamter = 1)\n",
    "    \n",
    "    Optimizer = getattr(optim, 'RAdam')\n",
    "    optimizer = Optimizer(model2.parameters(),0.0005)\n",
    "    train3(model2,dataloader1,dataloader2,optimizer,epoches2)\n",
    "    temp = model2.embeddings.weight.data\n",
    "    return temp"
   ]
  },
  {
   "cell_type": "code",
   "execution_count": 615,
   "metadata": {},
   "outputs": [],
   "source": [
    "def merge_points(similarities,root,nodes,embeddings,epoches,c1,c2,n):\n",
    "    root,_ = search_tree(root,c1,c2,n)\n",
    "    if(_ == True):\n",
    "        return embeddings,root\n",
    "    nodes_merge = [];\n",
    "    add_meta(root,[],nodes_merge)\n",
    "    print(nodes_merge)\n",
    "    for i in nodes_merge:\n",
    "        if(int(i)<n):\n",
    "            i.subson = [int(i)]\n",
    "        else:\n",
    "            i.subson=[]\n",
    "    deep_search_tree(root,0,[],root)\n",
    "    result1 = []\n",
    "    result2 = []\n",
    "\n",
    "    distances = []\n",
    "    for i in nodes_merge:\n",
    "        if(int(i)>=n):\n",
    "            if(int(i.son[0]) <n and int(i.son[1])<n ):\n",
    "                for i1,j1 in itertools.combinations(i.subson,2):\n",
    "                    for j in i.rest(n):\n",
    "                        result1.append([[i1,j1],j,int(i),1,int(j)])\n",
    "                    \n",
    "    for i in nodes_merge[1:]:\n",
    "        if(int(i)>=n and len(i.son)>=2):\n",
    "            for i1 in range(len(i.subson)):\n",
    "                for i2 in range(i1+1,len(i.subson)):\n",
    "                    for j in i.rest(n):\n",
    "                        result2.append([[i.subson[i1],i.subson[i2]],j,int(i),0,int(i.f)])\n",
    "            \n",
    "    for i in nodes:\n",
    "        distances.append(i.distance_to_root);\n",
    "    distances = torch.tensor(distances)\n",
    "    print(len(result1),len(result2))\n",
    "    model2 = balancehc(nodes,torch.tensor(embeddings),hyperparamter = 1)\n",
    "    if(len(result1) !=0 and len(result2)!=0):\n",
    "        \n",
    "        dataset_test1 = balance_dataset(similarities,len(result1),embeddings,distances,result1)\n",
    "        dataloader1 = data.DataLoader(dataset_test1, batch_size=1, shuffle=True, pin_memory=True)\n",
    "        \n",
    "        dataset_test2 = balance_dataset(similarities,min(1000,len(result2)),embeddings,distances,result2)\n",
    "        dataloader2 = data.DataLoader(dataset_test2, batch_size=1, shuffle=True, pin_memory=True)    \n",
    "        \n",
    "        \n",
    "        Optimizer = getattr(optim, 'RAdam')\n",
    "        optimizer = Optimizer(model2.parameters(),0.0005)\n",
    "        train3(model2,dataloader1,dataloader2,optimizer,epoches)\n",
    "    temp = model2.embeddings.weight.data\n",
    "    return temp,nodes_merge[0]"
   ]
  },
  {
   "cell_type": "code",
   "execution_count": 1119,
   "metadata": {},
   "outputs": [
    {
     "data": {
      "text/plain": [
       "View of AnnData object with n_obs × n_vars = 956 × 627\n",
       "    obs: 'orig.ident', 'nCount_RNA', 'nFeature_RNA', 'UMAP_1', 'UMAP_2', 'Celltype..malignancy.', 'Celltype..major.lineage.', 'Celltype..minor.lineage.', 'Cluster', 'Patient', 'Source', 'Gender', 'Stage', 'n_genes', 'leiden'\n",
       "    var: 'features', 'n_cells', 'highly_variable', 'means', 'dispersions', 'dispersions_norm'\n",
       "    uns: 'log1p', 'hvg', 'pca', 'neighbors', 'diffmap_evals', 'umap', 'leiden', 'paga', 'leiden_sizes'\n",
       "    obsm: 'X_pca', 'X_diffmap', 'X_umap'\n",
       "    varm: 'PCs'\n",
       "    obsp: 'distances', 'connectivities'"
      ]
     },
     "execution_count": 1119,
     "metadata": {},
     "output_type": "execute_result"
    }
   ],
   "source": [
    "l1=[]\n",
    "for i in range(len(meta_list)):\n",
    "    if(meta_list[i]=='CD4Tn' or meta_list[i]=='Th17' or meta_list[i]=='Th2' or meta_list[i]=='Tfh' ):\n",
    "        l1.append(str(i))\n",
    "l1\n",
    "nocd4 = tm[tm.obs[tm.obs['leiden'].isin(l1)].index]\n",
    "\n",
    "nocd4"
   ]
  },
  {
   "cell_type": "code",
   "execution_count": 1154,
   "metadata": {},
   "outputs": [
    {
     "data": {
      "text/plain": [
       "View of AnnData object with n_obs × n_vars = 235 × 627\n",
       "    obs: 'orig.ident', 'nCount_RNA', 'nFeature_RNA', 'UMAP_1', 'UMAP_2', 'Celltype..malignancy.', 'Celltype..major.lineage.', 'Celltype..minor.lineage.', 'Cluster', 'Patient', 'Source', 'Gender', 'Stage', 'n_genes', 'leiden'\n",
       "    var: 'features', 'n_cells', 'highly_variable', 'means', 'dispersions', 'dispersions_norm'\n",
       "    uns: 'log1p', 'hvg', 'pca', 'neighbors', 'diffmap_evals', 'umap', 'leiden', 'paga', 'leiden_sizes'\n",
       "    obsm: 'X_pca', 'X_diffmap', 'X_umap'\n",
       "    varm: 'PCs'\n",
       "    obsp: 'distances', 'connectivities'"
      ]
     },
     "execution_count": 1154,
     "metadata": {},
     "output_type": "execute_result"
    }
   ],
   "source": [
    "l2=[]\n",
    "for i in range(len(meta_list)):\n",
    "    if(meta_list[i]=='CD4T1n' or meta_list[i]=='Th117' or meta_list[i]=='Th2'):\n",
    "        l2.append(str(i))\n",
    "l2\n",
    "noth2 = tm[tm.obs[tm.obs['leiden'].isin(l2)].index]\n",
    "noth2"
   ]
  },
  {
   "cell_type": "code",
   "execution_count": 1155,
   "metadata": {},
   "outputs": [
    {
     "data": {
      "text/plain": [
       "(['0',\n",
       "  '1',\n",
       "  '2',\n",
       "  '3',\n",
       "  '4',\n",
       "  '5',\n",
       "  '6',\n",
       "  '7',\n",
       "  '8',\n",
       "  '9',\n",
       "  '10',\n",
       "  '11',\n",
       "  '12',\n",
       "  '13',\n",
       "  '14',\n",
       "  '15',\n",
       "  '16',\n",
       "  '17',\n",
       "  '18',\n",
       "  '19',\n",
       "  '20',\n",
       "  '21',\n",
       "  '22',\n",
       "  '23',\n",
       "  '24',\n",
       "  '25',\n",
       "  '26',\n",
       "  '27',\n",
       "  '28',\n",
       "  '29',\n",
       "  '30',\n",
       "  '31',\n",
       "  '32',\n",
       "  '33',\n",
       "  '34',\n",
       "  '35'],\n",
       " ['0', '2', '4', '12', '23', '24', '27', '33', '35'])"
      ]
     },
     "execution_count": 1155,
     "metadata": {},
     "output_type": "execute_result"
    }
   ],
   "source": [
    "l1,l2"
   ]
  },
  {
   "cell_type": "code",
   "execution_count": 1156,
   "metadata": {},
   "outputs": [],
   "source": [
    "inter_gene = nocd4.var.index.tolist()\n",
    "\n",
    "tmp1 = calculate_cluster_centroid_for_genes(nocd4,inter_gene,'./datas/impute/1/')\n",
    "tmp2 = calculate_cluster_centroid_for_genes(noth2,inter_gene,'./datas/impute/2/')\n",
    "\n",
    "\n",
    "meta_list1 = calculate_cluster_celltype(nocd4,meta_col='Celltype..minor.lineage.');\n",
    "meta_list2 = calculate_cluster_celltype(noth2,meta_col='Celltype..minor.lineage.');"
   ]
  },
  {
   "cell_type": "code",
   "execution_count": 1157,
   "metadata": {},
   "outputs": [
    {
     "data": {
      "text/plain": [
       "['Th2',\n",
       " 'Tfh',\n",
       " 'Th2',\n",
       " 'Th17',\n",
       " 'Th2',\n",
       " 'Th17',\n",
       " 'CD4Tn',\n",
       " 'Tfh',\n",
       " 'Tfh',\n",
       " 'CD4Tn',\n",
       " 'CD4Tn',\n",
       " 'Th17',\n",
       " 'Th2',\n",
       " 'Th17',\n",
       " 'Tfh',\n",
       " 'Tfh',\n",
       " 'CD4Tn',\n",
       " 'Tfh',\n",
       " 'Th17',\n",
       " 'Th17',\n",
       " 'Tfh',\n",
       " 'Th17',\n",
       " 'CD4Tn',\n",
       " 'Th2',\n",
       " 'Th2',\n",
       " 'CD4Tn',\n",
       " 'Th17',\n",
       " 'Th2',\n",
       " 'Tfh',\n",
       " 'CD4Tn',\n",
       " 'CD4Tn',\n",
       " 'CD4Tn',\n",
       " 'CD4Tn',\n",
       " 'Th2',\n",
       " 'CD4Tn',\n",
       " 'Th2']"
      ]
     },
     "execution_count": 1157,
     "metadata": {},
     "output_type": "execute_result"
    }
   ],
   "source": [
    "meta_list1"
   ]
  },
  {
   "cell_type": "code",
   "execution_count": 1158,
   "metadata": {},
   "outputs": [
    {
     "name": "stdout",
     "output_type": "stream",
     "text": [
      "./datas/impute/1/datas.data length:36\n",
      "Generating all pairs superset\n"
     ]
    }
   ],
   "source": [
    "data_path = './datas/impute/1/' + 'datas.data'\n",
    "np.random.seed(1234)\n",
    "torch.manual_seed(1234)\n",
    "x, y_true, similarities = load_data(data_path,1,tmp1.shape[1]+1,0)\n",
    "print(\"{} length:{}\".format(data_path,len(y_true)));\n",
    "dataset = HCDataset(x, y_true, similarities, num_samples=50000)\n",
    "dataloader = data.DataLoader(dataset, batch_size=32, shuffle=True, pin_memory=True)\n",
    "model = HypHC(dataset.n_nodes, 2, 5e-2, 5e-2 ,0.999)\n",
    "\n",
    "# model.to(\"cpu\")\n",
    "Optimizer = getattr(optim, 'RAdam')\n",
    "optimizer = Optimizer(model.parameters(),0.0005)\n"
   ]
  },
  {
   "cell_type": "code",
   "execution_count": 1159,
   "metadata": {},
   "outputs": [
    {
     "name": "stdout",
     "output_type": "stream",
     "text": [
      "\t Epoch 0 | average train loss: 0.951537\n",
      "Optimization finished.\n",
      "\t Epoch 1 | average train loss: 0.934960\n",
      "Optimization finished.\n",
      "\t Epoch 2 | average train loss: 0.933930\n",
      "Optimization finished.\n",
      "\t Epoch 3 | average train loss: 0.933857\n",
      "Optimization finished.\n",
      "\t Epoch 4 | average train loss: 0.931397\n",
      "Optimization finished.\n",
      "\t Epoch 5 | average train loss: 0.930864\n",
      "Optimization finished.\n",
      "\t Epoch 6 | average train loss: 0.931161\n",
      "Optimization finished.\n",
      "\t Epoch 7 | average train loss: 0.931041\n",
      "Optimization finished.\n",
      "\t Epoch 8 | average train loss: 0.931168\n",
      "Optimization finished.\n",
      "\t Epoch 9 | average train loss: 0.930860\n",
      "Optimization finished.\n",
      "\t Epoch 10 | average train loss: 0.931157\n",
      "Optimization finished.\n",
      "\t Epoch 11 | average train loss: 0.930287\n",
      "Optimization finished.\n",
      "\t Epoch 12 | average train loss: 0.931265\n",
      "Optimization finished.\n",
      "\t Epoch 13 | average train loss: 0.931215\n",
      "Optimization finished.\n",
      "\t Epoch 14 | average train loss: 0.930593\n",
      "Optimization finished.\n",
      "\t Epoch 15 | average train loss: 0.930806\n",
      "Optimization finished.\n",
      "\t Epoch 16 | average train loss: 0.930806\n",
      "Optimization finished.\n",
      "\t Epoch 17 | average train loss: 0.931171\n",
      "Optimization finished.\n",
      "\t Epoch 18 | average train loss: 0.931171\n",
      "Optimization finished.\n",
      "\t Epoch 19 | average train loss: 0.930814\n",
      "Optimization finished.\n",
      "\t Epoch 20 | average train loss: 0.930665\n",
      "Optimization finished.\n",
      "\t Epoch 21 | average train loss: 0.930777\n",
      "Optimization finished.\n",
      "\t Epoch 22 | average train loss: 0.930693\n",
      "Optimization finished.\n",
      "\t Epoch 23 | average train loss: 0.930538\n",
      "early stopping.\n"
     ]
    }
   ],
   "source": [
    "train(model,dataloader,optimizer,similarities,30);\n"
   ]
  },
  {
   "cell_type": "code",
   "execution_count": 1160,
   "metadata": {},
   "outputs": [],
   "source": [
    "torch.save(model.state_dict(),'./datas/impute/1/' +'model3.pth');\n"
   ]
  },
  {
   "cell_type": "code",
   "execution_count": 1161,
   "metadata": {},
   "outputs": [
    {
     "data": {
      "text/plain": [
       "<All keys matched successfully>"
      ]
     },
     "execution_count": 1161,
     "metadata": {},
     "output_type": "execute_result"
    }
   ],
   "source": [
    "params = torch.load(('./datas/impute/1/'+'model3.pth'), map_location=torch.device('cpu'))\n",
    "model.load_state_dict(params)"
   ]
  },
  {
   "cell_type": "code",
   "execution_count": 1162,
   "metadata": {},
   "outputs": [
    {
     "name": "stderr",
     "output_type": "stream",
     "text": [
      "/Users/dongjiajie/Desktop/alignment/fyp/hyperalignment/final/utils/mst.py:4: DeprecationWarning:\n",
      "\n",
      "`np.int` is a deprecated alias for the builtin `int`. To silence this warning, use `int` by itself. Doing this will not modify any behavior and is safe. When replacing `np.int`, you may wish to use e.g. `np.int64` or `np.int32` to specify the precision. If you wish to review your current use, check the release note link for additional information.\n",
      "Deprecated in NumPy 1.20; for more details and guidance: https://numpy.org/devdocs/release/1.20.0-notes.html#deprecations\n",
      "\n",
      "/Users/dongjiajie/Desktop/alignment/fyp/hyperalignment/final/utils/mst.py:10: DeprecationWarning:\n",
      "\n",
      "`np.int` is a deprecated alias for the builtin `int`. To silence this warning, use `int` by itself. Doing this will not modify any behavior and is safe. When replacing `np.int`, you may wish to use e.g. `np.int64` or `np.int32` to specify the precision. If you wish to review your current use, check the release note link for additional information.\n",
      "Deprecated in NumPy 1.20; for more details and guidance: https://numpy.org/devdocs/release/1.20.0-notes.html#deprecations\n",
      "\n",
      "/Users/dongjiajie/Desktop/alignment/fyp/hyperalignment/final/utils/mst.py:15: DeprecationWarning:\n",
      "\n",
      "`np.int` is a deprecated alias for the builtin `int`. To silence this warning, use `int` by itself. Doing this will not modify any behavior and is safe. When replacing `np.int`, you may wish to use e.g. `np.int64` or `np.int32` to specify the precision. If you wish to review your current use, check the release note link for additional information.\n",
      "Deprecated in NumPy 1.20; for more details and guidance: https://numpy.org/devdocs/release/1.20.0-notes.html#deprecations\n",
      "\n"
     ]
    },
    {
     "data": {
      "image/png": "[encoded data removed]",
      "text/plain": [
       "<Figure size 1500x1500 with 1 Axes>"
      ]
     },
     "metadata": {},
     "output_type": "display_data"
    }
   ],
   "source": [
    "model.eval()\n",
    "\n",
    "sim_fn = lambda x, y: torch.sum(x * y, dim=-1)\n",
    "n=len(x);\n",
    "leaves_embeddings = model.normalize_embeddings(model.embeddings.weight.data)\n",
    "leaves_embeddings = project(leaves_embeddings).detach().cpu()\n",
    "ijs = sl_np_mst_ij(leaves_embeddings,sim_fn)\n",
    "uf = UnionFind(n)\n",
    "uf.merge(ijs)\n",
    "\n",
    "tree = nx.DiGraph()\n",
    "for i, j in enumerate(uf.tree()[:-1]):\n",
    "    if(j!=-1):\n",
    "        tree.add_edge(j, i)\n",
    "\n",
    "n = len(leaves_embeddings)\n",
    "embeddings = complete_tree(tree, leaves_embeddings)\n",
    "colors = get_colors(meta_list1, 1234)\n",
    "fig = plt.figure(figsize=(15, 15))\n",
    "ax = fig.add_subplot(111)\n",
    "circle = plt.Circle((0, 0), 1.0, color='r', alpha=0.1)\n",
    "ax.add_artist(circle)\n",
    "ax.scatter(embeddings[:n, 0], embeddings[:n, 1], c=colors, s=50, alpha=0.6)\n",
    "# ax.scatter(embeddings[n:,0],embeddings[n:,1],color ='black',s=20,alpha=0.6)\n",
    "for n1, n2 in tree.edges():\n",
    "    x1 = embeddings[n1];\n",
    "    x2 = embeddings[n2]\n",
    "    plot_geodesic(x1,x2,ax)"
   ]
  },
  {
   "cell_type": "code",
   "execution_count": 1163,
   "metadata": {},
   "outputs": [
    {
     "name": "stdout",
     "output_type": "stream",
     "text": [
      "{'CD4Tn': '#184e77', 'Th17': '#1a759f', 'Th2': '#168aad', 'empty': '#fff', 'Tfh': '#52b69a'}\n"
     ]
    },
    {
     "data": {
      "application/vnd.plotly.v1+json": {
       "config": {
        "plotlyServerURL": "https://plot.ly"
       },
       "data": [
        {
         "hoverinfo": "text",
         "hovertext": [
          "16_CD4Tn",
          "22_CD4Tn",
          "25_CD4Tn",
          "6_CD4Tn",
          "31_CD4Tn",
          "9_CD4Tn",
          "29_CD4Tn",
          "32_CD4Tn",
          "10_CD4Tn",
          "34_CD4Tn",
          "30_CD4Tn"
         ],
         "legendgroup": "CD4Tn",
         "marker": {
          "color": "#184e77",
          "size": 10,
          "symbol": "circle-dot"
         },
         "mode": "markers+text",
         "name": "CD4Tn",
         "type": "scatter",
         "x": [
          3.53125,
          4.09375,
          4.65625,
          5.0078125,
          5.1484375,
          5.2890625,
          5.4296875,
          7.046875,
          8.20703125,
          8.27734375,
          9.578125
         ],
         "y": [
          -1,
          -1,
          -1,
          -4,
          -4,
          -4,
          -4,
          -2.5,
          -5.5,
          -5.5,
          -2.5
         ]
        },
        {
         "hoverinfo": "text",
         "hovertext": [
          "5_Th17",
          "11_Th17",
          "26_Th17",
          "18_Th17",
          "3_Th17",
          "13_Th17",
          "21_Th17",
          "19_Th17"
         ],
         "legendgroup": "Th17",
         "marker": {
          "color": "#1a759f",
          "size": 10,
          "symbol": "circle-dot"
         },
         "mode": "markers+text",
         "name": "Th17",
         "type": "scatter",
         "x": [
          6.34375,
          7.8203125,
          7.92578125,
          8.013671875,
          8.1015625,
          8.76953125,
          9.015625,
          9.3671875
         ],
         "y": [
          -1,
          -4,
          -5.5,
          -7,
          -4,
          -5.5,
          -2.5,
          -4
         ]
        },
        {
         "hoverinfo": "text",
         "hovertext": [
          "35_Th2",
          "2_Th2",
          "0_Th2",
          "4_Th2",
          "24_Th2",
          "27_Th2",
          "33_Th2",
          "12_Th2",
          "23_Th2"
         ],
         "legendgroup": "Th2",
         "marker": {
          "color": "#168aad",
          "size": 10,
          "symbol": "circle-dot"
         },
         "mode": "markers+text",
         "name": "Th2",
         "type": "scatter",
         "x": [
          2.125,
          7.978515625,
          8.3828125,
          8.5234375,
          8.62890625,
          8.69921875,
          8.822265625,
          8.8486328125,
          8.8662109375
         ],
         "y": [
          2,
          -7,
          -4,
          -4,
          -5.5,
          -5.5,
          -7,
          -8.5,
          -8.5
         ]
        },
        {
         "hoverinfo": "text",
         "hovertext": [
          "70",
          "66",
          "57",
          "40",
          "56",
          "49",
          "39",
          "42",
          "69",
          "51",
          "45",
          "48",
          "36",
          "38",
          "37",
          "68",
          "65",
          "63",
          "55",
          "53",
          "50",
          "58",
          "52",
          "64",
          "61",
          "62",
          "47",
          "60",
          "46",
          "44",
          "67",
          "54",
          "41",
          "59",
          "43"
         ],
         "legendgroup": "empty",
         "marker": {
          "color": "#fff",
          "size": 10,
          "symbol": "circle-dot"
         },
         "mode": "markers+text",
         "name": "empty",
         "type": "scatter",
         "x": [
          5.5,
          3.25,
          4.375,
          3.8125,
          4.9375,
          5.21875,
          5.078125,
          5.359375,
          7.75,
          6.625,
          6.0625,
          7.1875,
          6.90625,
          7.46875,
          7.609375,
          8.875,
          8.3125,
          8.03125,
          7.890625,
          7.9609375,
          7.99609375,
          8.171875,
          8.2421875,
          8.59375,
          8.453125,
          8.734375,
          8.6640625,
          8.8046875,
          8.83984375,
          8.857421875,
          9.4375,
          9.15625,
          9.296875,
          9.71875,
          9.859375
         ],
         "y": [
          5,
          3.5,
          2,
          0.5,
          0.5,
          -1,
          -2.5,
          -2.5,
          3.5,
          2,
          0.5,
          0.5,
          -1,
          -1,
          -2.5,
          2,
          0.5,
          -1,
          -2.5,
          -4,
          -5.5,
          -2.5,
          -4,
          -1,
          -2.5,
          -2.5,
          -4,
          -4,
          -5.5,
          -7,
          0.5,
          -1,
          -2.5,
          -1,
          -2.5
         ]
        },
        {
         "hoverinfo": "text",
         "hovertext": [
          "1_Tfh",
          "28_Tfh",
          "20_Tfh",
          "7_Tfh",
          "14_Tfh",
          "15_Tfh",
          "8_Tfh",
          "17_Tfh"
         ],
         "legendgroup": "Tfh",
         "marker": {
          "color": "#52b69a",
          "size": 10,
          "symbol": "circle-dot"
         },
         "mode": "markers+text",
         "name": "Tfh",
         "type": "scatter",
         "x": [
          5.78125,
          6.765625,
          7.328125,
          7.5390625,
          7.6796875,
          9.2265625,
          9.7890625,
          9.9296875
         ],
         "y": [
          -1,
          -2.5,
          -2.5,
          -4,
          -4,
          -4,
          -4,
          -4
         ]
        }
       ],
       "layout": {
        "height": 500,
        "shapes": [
         {
          "layer": "below",
          "line": {
           "color": "#333",
           "width": 2
          },
          "type": "line",
          "x0": 5.5,
          "x1": 5.5,
          "y0": 5,
          "y1": 5
         },
         {
          "layer": "below",
          "line": {
           "color": "#333",
           "width": 2
          },
          "type": "line",
          "x0": 5.5,
          "x1": 3.25,
          "y0": 5,
          "y1": 3.5
         },
         {
          "layer": "below",
          "line": {
           "color": "#333",
           "width": 2
          },
          "type": "line",
          "x0": 3.25,
          "x1": 2.125,
          "y0": 3.5,
          "y1": 2
         },
         {
          "layer": "below",
          "line": {
           "color": "#333",
           "width": 2
          },
          "type": "line",
          "x0": 3.25,
          "x1": 4.375,
          "y0": 3.5,
          "y1": 2
         },
         {
          "layer": "below",
          "line": {
           "color": "#333",
           "width": 2
          },
          "type": "line",
          "x0": 4.375,
          "x1": 3.8125,
          "y0": 2,
          "y1": 0.5
         },
         {
          "layer": "below",
          "line": {
           "color": "#333",
           "width": 2
          },
          "type": "line",
          "x0": 3.8125,
          "x1": 3.53125,
          "y0": 0.5,
          "y1": -1
         },
         {
          "layer": "below",
          "line": {
           "color": "#333",
           "width": 2
          },
          "type": "line",
          "x0": 3.8125,
          "x1": 4.09375,
          "y0": 0.5,
          "y1": -1
         },
         {
          "layer": "below",
          "line": {
           "color": "#333",
           "width": 2
          },
          "type": "line",
          "x0": 4.375,
          "x1": 4.9375,
          "y0": 2,
          "y1": 0.5
         },
         {
          "layer": "below",
          "line": {
           "color": "#333",
           "width": 2
          },
          "type": "line",
          "x0": 4.9375,
          "x1": 4.65625,
          "y0": 0.5,
          "y1": -1
         },
         {
          "layer": "below",
          "line": {
           "color": "#333",
           "width": 2
          },
          "type": "line",
          "x0": 4.9375,
          "x1": 5.21875,
          "y0": 0.5,
          "y1": -1
         },
         {
          "layer": "below",
          "line": {
           "color": "#333",
           "width": 2
          },
          "type": "line",
          "x0": 5.21875,
          "x1": 5.078125,
          "y0": -1,
          "y1": -2.5
         },
         {
          "layer": "below",
          "line": {
           "color": "#333",
           "width": 2
          },
          "type": "line",
          "x0": 5.078125,
          "x1": 5.0078125,
          "y0": -2.5,
          "y1": -4
         },
         {
          "layer": "below",
          "line": {
           "color": "#333",
           "width": 2
          },
          "type": "line",
          "x0": 5.078125,
          "x1": 5.1484375,
          "y0": -2.5,
          "y1": -4
         },
         {
          "layer": "below",
          "line": {
           "color": "#333",
           "width": 2
          },
          "type": "line",
          "x0": 5.21875,
          "x1": 5.359375,
          "y0": -1,
          "y1": -2.5
         },
         {
          "layer": "below",
          "line": {
           "color": "#333",
           "width": 2
          },
          "type": "line",
          "x0": 5.359375,
          "x1": 5.2890625,
          "y0": -2.5,
          "y1": -4
         },
         {
          "layer": "below",
          "line": {
           "color": "#333",
           "width": 2
          },
          "type": "line",
          "x0": 5.359375,
          "x1": 5.4296875,
          "y0": -2.5,
          "y1": -4
         },
         {
          "layer": "below",
          "line": {
           "color": "#333",
           "width": 2
          },
          "type": "line",
          "x0": 5.5,
          "x1": 7.75,
          "y0": 5,
          "y1": 3.5
         },
         {
          "layer": "below",
          "line": {
           "color": "#333",
           "width": 2
          },
          "type": "line",
          "x0": 7.75,
          "x1": 6.625,
          "y0": 3.5,
          "y1": 2
         },
         {
          "layer": "below",
          "line": {
           "color": "#333",
           "width": 2
          },
          "type": "line",
          "x0": 6.625,
          "x1": 6.0625,
          "y0": 2,
          "y1": 0.5
         },
         {
          "layer": "below",
          "line": {
           "color": "#333",
           "width": 2
          },
          "type": "line",
          "x0": 6.0625,
          "x1": 5.78125,
          "y0": 0.5,
          "y1": -1
         },
         {
          "layer": "below",
          "line": {
           "color": "#333",
           "width": 2
          },
          "type": "line",
          "x0": 6.0625,
          "x1": 6.34375,
          "y0": 0.5,
          "y1": -1
         },
         {
          "layer": "below",
          "line": {
           "color": "#333",
           "width": 2
          },
          "type": "line",
          "x0": 6.625,
          "x1": 7.1875,
          "y0": 2,
          "y1": 0.5
         },
         {
          "layer": "below",
          "line": {
           "color": "#333",
           "width": 2
          },
          "type": "line",
          "x0": 7.1875,
          "x1": 6.90625,
          "y0": 0.5,
          "y1": -1
         },
         {
          "layer": "below",
          "line": {
           "color": "#333",
           "width": 2
          },
          "type": "line",
          "x0": 6.90625,
          "x1": 6.765625,
          "y0": -1,
          "y1": -2.5
         },
         {
          "layer": "below",
          "line": {
           "color": "#333",
           "width": 2
          },
          "type": "line",
          "x0": 6.90625,
          "x1": 7.046875,
          "y0": -1,
          "y1": -2.5
         },
         {
          "layer": "below",
          "line": {
           "color": "#333",
           "width": 2
          },
          "type": "line",
          "x0": 7.1875,
          "x1": 7.46875,
          "y0": 0.5,
          "y1": -1
         },
         {
          "layer": "below",
          "line": {
           "color": "#333",
           "width": 2
          },
          "type": "line",
          "x0": 7.46875,
          "x1": 7.328125,
          "y0": -1,
          "y1": -2.5
         },
         {
          "layer": "below",
          "line": {
           "color": "#333",
           "width": 2
          },
          "type": "line",
          "x0": 7.46875,
          "x1": 7.609375,
          "y0": -1,
          "y1": -2.5
         },
         {
          "layer": "below",
          "line": {
           "color": "#333",
           "width": 2
          },
          "type": "line",
          "x0": 7.609375,
          "x1": 7.5390625,
          "y0": -2.5,
          "y1": -4
         },
         {
          "layer": "below",
          "line": {
           "color": "#333",
           "width": 2
          },
          "type": "line",
          "x0": 7.609375,
          "x1": 7.6796875,
          "y0": -2.5,
          "y1": -4
         },
         {
          "layer": "below",
          "line": {
           "color": "#333",
           "width": 2
          },
          "type": "line",
          "x0": 7.75,
          "x1": 8.875,
          "y0": 3.5,
          "y1": 2
         },
         {
          "layer": "below",
          "line": {
           "color": "#333",
           "width": 2
          },
          "type": "line",
          "x0": 8.875,
          "x1": 8.3125,
          "y0": 2,
          "y1": 0.5
         },
         {
          "layer": "below",
          "line": {
           "color": "#333",
           "width": 2
          },
          "type": "line",
          "x0": 8.3125,
          "x1": 8.03125,
          "y0": 0.5,
          "y1": -1
         },
         {
          "layer": "below",
          "line": {
           "color": "#333",
           "width": 2
          },
          "type": "line",
          "x0": 8.03125,
          "x1": 7.890625,
          "y0": -1,
          "y1": -2.5
         },
         {
          "layer": "below",
          "line": {
           "color": "#333",
           "width": 2
          },
          "type": "line",
          "x0": 7.890625,
          "x1": 7.8203125,
          "y0": -2.5,
          "y1": -4
         },
         {
          "layer": "below",
          "line": {
           "color": "#333",
           "width": 2
          },
          "type": "line",
          "x0": 7.890625,
          "x1": 7.9609375,
          "y0": -2.5,
          "y1": -4
         },
         {
          "layer": "below",
          "line": {
           "color": "#333",
           "width": 2
          },
          "type": "line",
          "x0": 7.9609375,
          "x1": 7.92578125,
          "y0": -4,
          "y1": -5.5
         },
         {
          "layer": "below",
          "line": {
           "color": "#333",
           "width": 2
          },
          "type": "line",
          "x0": 7.9609375,
          "x1": 7.99609375,
          "y0": -4,
          "y1": -5.5
         },
         {
          "layer": "below",
          "line": {
           "color": "#333",
           "width": 2
          },
          "type": "line",
          "x0": 7.99609375,
          "x1": 7.978515625,
          "y0": -5.5,
          "y1": -7
         },
         {
          "layer": "below",
          "line": {
           "color": "#333",
           "width": 2
          },
          "type": "line",
          "x0": 7.99609375,
          "x1": 8.013671875,
          "y0": -5.5,
          "y1": -7
         },
         {
          "layer": "below",
          "line": {
           "color": "#333",
           "width": 2
          },
          "type": "line",
          "x0": 8.03125,
          "x1": 8.171875,
          "y0": -1,
          "y1": -2.5
         },
         {
          "layer": "below",
          "line": {
           "color": "#333",
           "width": 2
          },
          "type": "line",
          "x0": 8.171875,
          "x1": 8.1015625,
          "y0": -2.5,
          "y1": -4
         },
         {
          "layer": "below",
          "line": {
           "color": "#333",
           "width": 2
          },
          "type": "line",
          "x0": 8.171875,
          "x1": 8.2421875,
          "y0": -2.5,
          "y1": -4
         },
         {
          "layer": "below",
          "line": {
           "color": "#333",
           "width": 2
          },
          "type": "line",
          "x0": 8.2421875,
          "x1": 8.20703125,
          "y0": -4,
          "y1": -5.5
         },
         {
          "layer": "below",
          "line": {
           "color": "#333",
           "width": 2
          },
          "type": "line",
          "x0": 8.2421875,
          "x1": 8.27734375,
          "y0": -4,
          "y1": -5.5
         },
         {
          "layer": "below",
          "line": {
           "color": "#333",
           "width": 2
          },
          "type": "line",
          "x0": 8.3125,
          "x1": 8.59375,
          "y0": 0.5,
          "y1": -1
         },
         {
          "layer": "below",
          "line": {
           "color": "#333",
           "width": 2
          },
          "type": "line",
          "x0": 8.59375,
          "x1": 8.453125,
          "y0": -1,
          "y1": -2.5
         },
         {
          "layer": "below",
          "line": {
           "color": "#333",
           "width": 2
          },
          "type": "line",
          "x0": 8.453125,
          "x1": 8.3828125,
          "y0": -2.5,
          "y1": -4
         },
         {
          "layer": "below",
          "line": {
           "color": "#333",
           "width": 2
          },
          "type": "line",
          "x0": 8.453125,
          "x1": 8.5234375,
          "y0": -2.5,
          "y1": -4
         },
         {
          "layer": "below",
          "line": {
           "color": "#333",
           "width": 2
          },
          "type": "line",
          "x0": 8.59375,
          "x1": 8.734375,
          "y0": -1,
          "y1": -2.5
         },
         {
          "layer": "below",
          "line": {
           "color": "#333",
           "width": 2
          },
          "type": "line",
          "x0": 8.734375,
          "x1": 8.6640625,
          "y0": -2.5,
          "y1": -4
         },
         {
          "layer": "below",
          "line": {
           "color": "#333",
           "width": 2
          },
          "type": "line",
          "x0": 8.6640625,
          "x1": 8.62890625,
          "y0": -4,
          "y1": -5.5
         },
         {
          "layer": "below",
          "line": {
           "color": "#333",
           "width": 2
          },
          "type": "line",
          "x0": 8.6640625,
          "x1": 8.69921875,
          "y0": -4,
          "y1": -5.5
         },
         {
          "layer": "below",
          "line": {
           "color": "#333",
           "width": 2
          },
          "type": "line",
          "x0": 8.734375,
          "x1": 8.8046875,
          "y0": -2.5,
          "y1": -4
         },
         {
          "layer": "below",
          "line": {
           "color": "#333",
           "width": 2
          },
          "type": "line",
          "x0": 8.8046875,
          "x1": 8.76953125,
          "y0": -4,
          "y1": -5.5
         },
         {
          "layer": "below",
          "line": {
           "color": "#333",
           "width": 2
          },
          "type": "line",
          "x0": 8.8046875,
          "x1": 8.83984375,
          "y0": -4,
          "y1": -5.5
         },
         {
          "layer": "below",
          "line": {
           "color": "#333",
           "width": 2
          },
          "type": "line",
          "x0": 8.83984375,
          "x1": 8.822265625,
          "y0": -5.5,
          "y1": -7
         },
         {
          "layer": "below",
          "line": {
           "color": "#333",
           "width": 2
          },
          "type": "line",
          "x0": 8.83984375,
          "x1": 8.857421875,
          "y0": -5.5,
          "y1": -7
         },
         {
          "layer": "below",
          "line": {
           "color": "#333",
           "width": 2
          },
          "type": "line",
          "x0": 8.857421875,
          "x1": 8.8486328125,
          "y0": -7,
          "y1": -8.5
         },
         {
          "layer": "below",
          "line": {
           "color": "#333",
           "width": 2
          },
          "type": "line",
          "x0": 8.857421875,
          "x1": 8.8662109375,
          "y0": -7,
          "y1": -8.5
         },
         {
          "layer": "below",
          "line": {
           "color": "#333",
           "width": 2
          },
          "type": "line",
          "x0": 8.875,
          "x1": 9.4375,
          "y0": 2,
          "y1": 0.5
         },
         {
          "layer": "below",
          "line": {
           "color": "#333",
           "width": 2
          },
          "type": "line",
          "x0": 9.4375,
          "x1": 9.15625,
          "y0": 0.5,
          "y1": -1
         },
         {
          "layer": "below",
          "line": {
           "color": "#333",
           "width": 2
          },
          "type": "line",
          "x0": 9.15625,
          "x1": 9.015625,
          "y0": -1,
          "y1": -2.5
         },
         {
          "layer": "below",
          "line": {
           "color": "#333",
           "width": 2
          },
          "type": "line",
          "x0": 9.15625,
          "x1": 9.296875,
          "y0": -1,
          "y1": -2.5
         },
         {
          "layer": "below",
          "line": {
           "color": "#333",
           "width": 2
          },
          "type": "line",
          "x0": 9.296875,
          "x1": 9.2265625,
          "y0": -2.5,
          "y1": -4
         },
         {
          "layer": "below",
          "line": {
           "color": "#333",
           "width": 2
          },
          "type": "line",
          "x0": 9.296875,
          "x1": 9.3671875,
          "y0": -2.5,
          "y1": -4
         },
         {
          "layer": "below",
          "line": {
           "color": "#333",
           "width": 2
          },
          "type": "line",
          "x0": 9.4375,
          "x1": 9.71875,
          "y0": 0.5,
          "y1": -1
         },
         {
          "layer": "below",
          "line": {
           "color": "#333",
           "width": 2
          },
          "type": "line",
          "x0": 9.71875,
          "x1": 9.578125,
          "y0": -1,
          "y1": -2.5
         },
         {
          "layer": "below",
          "line": {
           "color": "#333",
           "width": 2
          },
          "type": "line",
          "x0": 9.71875,
          "x1": 9.859375,
          "y0": -1,
          "y1": -2.5
         },
         {
          "layer": "below",
          "line": {
           "color": "#333",
           "width": 2
          },
          "type": "line",
          "x0": 9.859375,
          "x1": 9.7890625,
          "y0": -2.5,
          "y1": -4
         },
         {
          "layer": "below",
          "line": {
           "color": "#333",
           "width": 2
          },
          "type": "line",
          "x0": 9.859375,
          "x1": 9.9296875,
          "y0": -2.5,
          "y1": -4
         }
        ],
        "template": {
         "data": {
          "bar": [
           {
            "error_x": {
             "color": "#2a3f5f"
            },
            "error_y": {
             "color": "#2a3f5f"
            },
            "marker": {
             "line": {
              "color": "#E5ECF6",
              "width": 0.5
             },
             "pattern": {
              "fillmode": "overlay",
              "size": 10,
              "solidity": 0.2
             }
            },
            "type": "bar"
           }
          ],
          "barpolar": [
           {
            "marker": {
             "line": {
              "color": "#E5ECF6",
              "width": 0.5
             },
             "pattern": {
              "fillmode": "overlay",
              "size": 10,
              "solidity": 0.2
             }
            },
            "type": "barpolar"
           }
          ],
          "carpet": [
           {
            "aaxis": {
             "endlinecolor": "#2a3f5f",
             "gridcolor": "white",
             "linecolor": "white",
             "minorgridcolor": "white",
             "startlinecolor": "#2a3f5f"
            },
            "baxis": {
             "endlinecolor": "#2a3f5f",
             "gridcolor": "white",
             "linecolor": "white",
             "minorgridcolor": "white",
             "startlinecolor": "#2a3f5f"
            },
            "type": "carpet"
           }
          ],
          "choropleth": [
           {
            "colorbar": {
             "outlinewidth": 0,
             "ticks": ""
            },
            "type": "choropleth"
           }
          ],
          "contour": [
           {
            "colorbar": {
             "outlinewidth": 0,
             "ticks": ""
            },
            "colorscale": [
             [
              0,
              "#0d0887"
             ],
             [
              0.1111111111111111,
              "#46039f"
             ],
             [
              0.2222222222222222,
              "#7201a8"
             ],
             [
              0.3333333333333333,
              "#9c179e"
             ],
             [
              0.4444444444444444,
              "#bd3786"
             ],
             [
              0.5555555555555556,
              "#d8576b"
             ],
             [
              0.6666666666666666,
              "#ed7953"
             ],
             [
              0.7777777777777778,
              "#fb9f3a"
             ],
             [
              0.8888888888888888,
              "#fdca26"
             ],
             [
              1,
              "#f0f921"
             ]
            ],
            "type": "contour"
           }
          ],
          "contourcarpet": [
           {
            "colorbar": {
             "outlinewidth": 0,
             "ticks": ""
            },
            "type": "contourcarpet"
           }
          ],
          "heatmap": [
           {
            "colorbar": {
             "outlinewidth": 0,
             "ticks": ""
            },
            "colorscale": [
             [
              0,
              "#0d0887"
             ],
             [
              0.1111111111111111,
              "#46039f"
             ],
             [
              0.2222222222222222,
              "#7201a8"
             ],
             [
              0.3333333333333333,
              "#9c179e"
             ],
             [
              0.4444444444444444,
              "#bd3786"
             ],
             [
              0.5555555555555556,
              "#d8576b"
             ],
             [
              0.6666666666666666,
              "#ed7953"
             ],
             [
              0.7777777777777778,
              "#fb9f3a"
             ],
             [
              0.8888888888888888,
              "#fdca26"
             ],
             [
              1,
              "#f0f921"
             ]
            ],
            "type": "heatmap"
           }
          ],
          "heatmapgl": [
           {
            "colorbar": {
             "outlinewidth": 0,
             "ticks": ""
            },
            "colorscale": [
             [
              0,
              "#0d0887"
             ],
             [
              0.1111111111111111,
              "#46039f"
             ],
             [
              0.2222222222222222,
              "#7201a8"
             ],
             [
              0.3333333333333333,
              "#9c179e"
             ],
             [
              0.4444444444444444,
              "#bd3786"
             ],
             [
              0.5555555555555556,
              "#d8576b"
             ],
             [
              0.6666666666666666,
              "#ed7953"
             ],
             [
              0.7777777777777778,
              "#fb9f3a"
             ],
             [
              0.8888888888888888,
              "#fdca26"
             ],
             [
              1,
              "#f0f921"
             ]
            ],
            "type": "heatmapgl"
           }
          ],
          "histogram": [
           {
            "marker": {
             "pattern": {
              "fillmode": "overlay",
              "size": 10,
              "solidity": 0.2
             }
            },
            "type": "histogram"
           }
          ],
          "histogram2d": [
           {
            "colorbar": {
             "outlinewidth": 0,
             "ticks": ""
            },
            "colorscale": [
             [
              0,
              "#0d0887"
             ],
             [
              0.1111111111111111,
              "#46039f"
             ],
             [
              0.2222222222222222,
              "#7201a8"
             ],
             [
              0.3333333333333333,
              "#9c179e"
             ],
             [
              0.4444444444444444,
              "#bd3786"
             ],
             [
              0.5555555555555556,
              "#d8576b"
             ],
             [
              0.6666666666666666,
              "#ed7953"
             ],
             [
              0.7777777777777778,
              "#fb9f3a"
             ],
             [
              0.8888888888888888,
              "#fdca26"
             ],
             [
              1,
              "#f0f921"
             ]
            ],
            "type": "histogram2d"
           }
          ],
          "histogram2dcontour": [
           {
            "colorbar": {
             "outlinewidth": 0,
             "ticks": ""
            },
            "colorscale": [
             [
              0,
              "#0d0887"
             ],
             [
              0.1111111111111111,
              "#46039f"
             ],
             [
              0.2222222222222222,
              "#7201a8"
             ],
             [
              0.3333333333333333,
              "#9c179e"
             ],
             [
              0.4444444444444444,
              "#bd3786"
             ],
             [
              0.5555555555555556,
              "#d8576b"
             ],
             [
              0.6666666666666666,
              "#ed7953"
             ],
             [
              0.7777777777777778,
              "#fb9f3a"
             ],
             [
              0.8888888888888888,
              "#fdca26"
             ],
             [
              1,
              "#f0f921"
             ]
            ],
            "type": "histogram2dcontour"
           }
          ],
          "mesh3d": [
           {
            "colorbar": {
             "outlinewidth": 0,
             "ticks": ""
            },
            "type": "mesh3d"
           }
          ],
          "parcoords": [
           {
            "line": {
             "colorbar": {
              "outlinewidth": 0,
              "ticks": ""
             }
            },
            "type": "parcoords"
           }
          ],
          "pie": [
           {
            "automargin": true,
            "type": "pie"
           }
          ],
          "scatter": [
           {
            "fillpattern": {
             "fillmode": "overlay",
             "size": 10,
             "solidity": 0.2
            },
            "type": "scatter"
           }
          ],
          "scatter3d": [
           {
            "line": {
             "colorbar": {
              "outlinewidth": 0,
              "ticks": ""
             }
            },
            "marker": {
             "colorbar": {
              "outlinewidth": 0,
              "ticks": ""
             }
            },
            "type": "scatter3d"
           }
          ],
          "scattercarpet": [
           {
            "marker": {
             "colorbar": {
              "outlinewidth": 0,
              "ticks": ""
             }
            },
            "type": "scattercarpet"
           }
          ],
          "scattergeo": [
           {
            "marker": {
             "colorbar": {
              "outlinewidth": 0,
              "ticks": ""
             }
            },
            "type": "scattergeo"
           }
          ],
          "scattergl": [
           {
            "marker": {
             "colorbar": {
              "outlinewidth": 0,
              "ticks": ""
             }
            },
            "type": "scattergl"
           }
          ],
          "scattermapbox": [
           {
            "marker": {
             "colorbar": {
              "outlinewidth": 0,
              "ticks": ""
             }
            },
            "type": "scattermapbox"
           }
          ],
          "scatterpolar": [
           {
            "marker": {
             "colorbar": {
              "outlinewidth": 0,
              "ticks": ""
             }
            },
            "type": "scatterpolar"
           }
          ],
          "scatterpolargl": [
           {
            "marker": {
             "colorbar": {
              "outlinewidth": 0,
              "ticks": ""
             }
            },
            "type": "scatterpolargl"
           }
          ],
          "scatterternary": [
           {
            "marker": {
             "colorbar": {
              "outlinewidth": 0,
              "ticks": ""
             }
            },
            "type": "scatterternary"
           }
          ],
          "surface": [
           {
            "colorbar": {
             "outlinewidth": 0,
             "ticks": ""
            },
            "colorscale": [
             [
              0,
              "#0d0887"
             ],
             [
              0.1111111111111111,
              "#46039f"
             ],
             [
              0.2222222222222222,
              "#7201a8"
             ],
             [
              0.3333333333333333,
              "#9c179e"
             ],
             [
              0.4444444444444444,
              "#bd3786"
             ],
             [
              0.5555555555555556,
              "#d8576b"
             ],
             [
              0.6666666666666666,
              "#ed7953"
             ],
             [
              0.7777777777777778,
              "#fb9f3a"
             ],
             [
              0.8888888888888888,
              "#fdca26"
             ],
             [
              1,
              "#f0f921"
             ]
            ],
            "type": "surface"
           }
          ],
          "table": [
           {
            "cells": {
             "fill": {
              "color": "#EBF0F8"
             },
             "line": {
              "color": "white"
             }
            },
            "header": {
             "fill": {
              "color": "#C8D4E3"
             },
             "line": {
              "color": "white"
             }
            },
            "type": "table"
           }
          ]
         },
         "layout": {
          "annotationdefaults": {
           "arrowcolor": "#2a3f5f",
           "arrowhead": 0,
           "arrowwidth": 1
          },
          "autotypenumbers": "strict",
          "coloraxis": {
           "colorbar": {
            "outlinewidth": 0,
            "ticks": ""
           }
          },
          "colorscale": {
           "diverging": [
            [
             0,
             "#8e0152"
            ],
            [
             0.1,
             "#c51b7d"
            ],
            [
             0.2,
             "#de77ae"
            ],
            [
             0.3,
             "#f1b6da"
            ],
            [
             0.4,
             "#fde0ef"
            ],
            [
             0.5,
             "#f7f7f7"
            ],
            [
             0.6,
             "#e6f5d0"
            ],
            [
             0.7,
             "#b8e186"
            ],
            [
             0.8,
             "#7fbc41"
            ],
            [
             0.9,
             "#4d9221"
            ],
            [
             1,
             "#276419"
            ]
           ],
           "sequential": [
            [
             0,
             "#0d0887"
            ],
            [
             0.1111111111111111,
             "#46039f"
            ],
            [
             0.2222222222222222,
             "#7201a8"
            ],
            [
             0.3333333333333333,
             "#9c179e"
            ],
            [
             0.4444444444444444,
             "#bd3786"
            ],
            [
             0.5555555555555556,
             "#d8576b"
            ],
            [
             0.6666666666666666,
             "#ed7953"
            ],
            [
             0.7777777777777778,
             "#fb9f3a"
            ],
            [
             0.8888888888888888,
             "#fdca26"
            ],
            [
             1,
             "#f0f921"
            ]
           ],
           "sequentialminus": [
            [
             0,
             "#0d0887"
            ],
            [
             0.1111111111111111,
             "#46039f"
            ],
            [
             0.2222222222222222,
             "#7201a8"
            ],
            [
             0.3333333333333333,
             "#9c179e"
            ],
            [
             0.4444444444444444,
             "#bd3786"
            ],
            [
             0.5555555555555556,
             "#d8576b"
            ],
            [
             0.6666666666666666,
             "#ed7953"
            ],
            [
             0.7777777777777778,
             "#fb9f3a"
            ],
            [
             0.8888888888888888,
             "#fdca26"
            ],
            [
             1,
             "#f0f921"
            ]
           ]
          },
          "colorway": [
           "#636efa",
           "#EF553B",
           "#00cc96",
           "#ab63fa",
           "#FFA15A",
           "#19d3f3",
           "#FF6692",
           "#B6E880",
           "#FF97FF",
           "#FECB52"
          ],
          "font": {
           "color": "#2a3f5f"
          },
          "geo": {
           "bgcolor": "white",
           "lakecolor": "white",
           "landcolor": "#E5ECF6",
           "showlakes": true,
           "showland": true,
           "subunitcolor": "white"
          },
          "hoverlabel": {
           "align": "left"
          },
          "hovermode": "closest",
          "mapbox": {
           "style": "light"
          },
          "paper_bgcolor": "white",
          "plot_bgcolor": "#E5ECF6",
          "polar": {
           "angularaxis": {
            "gridcolor": "white",
            "linecolor": "white",
            "ticks": ""
           },
           "bgcolor": "#E5ECF6",
           "radialaxis": {
            "gridcolor": "white",
            "linecolor": "white",
            "ticks": ""
           }
          },
          "scene": {
           "xaxis": {
            "backgroundcolor": "#E5ECF6",
            "gridcolor": "white",
            "gridwidth": 2,
            "linecolor": "white",
            "showbackground": true,
            "ticks": "",
            "zerolinecolor": "white"
           },
           "yaxis": {
            "backgroundcolor": "#E5ECF6",
            "gridcolor": "white",
            "gridwidth": 2,
            "linecolor": "white",
            "showbackground": true,
            "ticks": "",
            "zerolinecolor": "white"
           },
           "zaxis": {
            "backgroundcolor": "#E5ECF6",
            "gridcolor": "white",
            "gridwidth": 2,
            "linecolor": "white",
            "showbackground": true,
            "ticks": "",
            "zerolinecolor": "white"
           }
          },
          "shapedefaults": {
           "line": {
            "color": "#2a3f5f"
           }
          },
          "ternary": {
           "aaxis": {
            "gridcolor": "white",
            "linecolor": "white",
            "ticks": ""
           },
           "baxis": {
            "gridcolor": "white",
            "linecolor": "white",
            "ticks": ""
           },
           "bgcolor": "#E5ECF6",
           "caxis": {
            "gridcolor": "white",
            "linecolor": "white",
            "ticks": ""
           }
          },
          "title": {
           "x": 0.05
          },
          "xaxis": {
           "automargin": true,
           "gridcolor": "white",
           "linecolor": "white",
           "ticks": "",
           "title": {
            "standoff": 15
           },
           "zerolinecolor": "white",
           "zerolinewidth": 2
          },
          "yaxis": {
           "automargin": true,
           "gridcolor": "white",
           "linecolor": "white",
           "ticks": "",
           "title": {
            "standoff": 15
           },
           "zerolinecolor": "white",
           "zerolinewidth": 2
          }
         }
        },
        "width": 1000,
        "xaxis": {
         "showgrid": false,
         "showline": false,
         "showticklabels": false,
         "zeroline": false
        },
        "yaxis": {
         "showgrid": false,
         "showline": false,
         "showticklabels": false,
         "zeroline": false
        }
       }
      }
     },
     "metadata": {},
     "output_type": "display_data"
    }
   ],
   "source": [
    "\n",
    "nodes1 = [node(name=str(i),son=[]) for i in range(len(uf.tree()))]\n",
    "for i in range(n):\n",
    "    nodes1[i].subson=[i];\n",
    "for i,j in enumerate(uf.tree()):\n",
    "    if(j!=-1):\n",
    "        nodes1[j].son.append(nodes1[i])\n",
    "    nodes1[i].value=torch.tensor(embeddings[i]);\n",
    "    nodes1[i].hyper=torch.tensor(embeddings[i])\n",
    "root = nodes1[-1];\n",
    "add_meta(root,meta_list1,[])\n",
    "show_tree(root,color=['#184e77','#1a759f','#168aad',\"#34a0a4\",'#52b69a','#99d98c','#76c893','#99d98c']).show_fig()\n",
    "remove_meta(root);"
   ]
  },
  {
   "cell_type": "code",
   "execution_count": 1164,
   "metadata": {},
   "outputs": [
    {
     "name": "stdout",
     "output_type": "stream",
     "text": [
      "442 14906\n"
     ]
    },
    {
     "name": "stderr",
     "output_type": "stream",
     "text": [
      "/Users/dongjiajie/Desktop/alignment/fyp/hyperalignment/final/datasets/balance_dataset.py:54: VisibleDeprecationWarning:\n",
      "\n",
      "Creating an ndarray from ragged nested sequences (which is a list-or-tuple of lists-or-tuples-or ndarrays with different lengths or shapes) is deprecated. If you meant to do this, you must specify 'dtype=object' when creating the ndarray.\n",
      "\n",
      "/Users/dongjiajie/Desktop/alignment/fyp/hyperalignment/final/model/balancehc.py:22: UserWarning:\n",
      "\n",
      "To copy construct from a tensor, it is recommended to use sourceTensor.clone().detach() or sourceTensor.clone().detach().requires_grad_(True), rather than torch.tensor(sourceTensor).\n",
      "\n"
     ]
    },
    {
     "name": "stdout",
     "output_type": "stream",
     "text": [
      "\t Epoch 0 | average train loss1: 0.496937\n",
      "\t Epoch 0 | average train loss2: 0.461389\n"
     ]
    },
    {
     "name": "stderr",
     "output_type": "stream",
     "text": [
      "/Users/dongjiajie/Desktop/alignment/fyp/hyperalignment/final/model/balancehc.py:46: UserWarning:\n",
      "\n",
      "To copy construct from a tensor, it is recommended to use sourceTensor.clone().detach() or sourceTensor.clone().detach().requires_grad_(True), rather than torch.tensor(sourceTensor).\n",
      "\n"
     ]
    },
    {
     "name": "stdout",
     "output_type": "stream",
     "text": [
      "\t Epoch 1 | average train loss1: 0.503657\n"
     ]
    },
    {
     "name": "stderr",
     "output_type": "stream",
     "text": [
      "/Users/dongjiajie/Desktop/alignment/fyp/hyperalignment/final/model/balancehc.py:71: UserWarning:\n",
      "\n",
      "To copy construct from a tensor, it is recommended to use sourceTensor.clone().detach() or sourceTensor.clone().detach().requires_grad_(True), rather than torch.tensor(sourceTensor).\n",
      "\n",
      "/Users/dongjiajie/Desktop/alignment/fyp/hyperalignment/final/model/balancehc.py:92: UserWarning:\n",
      "\n",
      "To copy construct from a tensor, it is recommended to use sourceTensor.clone().detach() or sourceTensor.clone().detach().requires_grad_(True), rather than torch.tensor(sourceTensor).\n",
      "\n"
     ]
    },
    {
     "name": "stdout",
     "output_type": "stream",
     "text": [
      "\t Epoch 1 | average train loss2: 0.458815\n",
      "\t Epoch 2 | average train loss1: 0.502254\n",
      "\t Epoch 2 | average train loss2: 0.458133\n"
     ]
    }
   ],
   "source": [
    "temp = rotate(nodes1,embeddings,3,n,similarities)\n",
    "for i in nodes1:\n",
    "    i.hyper = temp[int(i)]\n",
    "    i.value =  temp[int(i)]\n",
    "embeddings = temp.numpy();\n",
    "root = nodes1[-1]"
   ]
  },
  {
   "cell_type": "code",
   "execution_count": 1165,
   "metadata": {},
   "outputs": [
    {
     "data": {
      "text/plain": [
       "(tensor([0.5403], dtype=torch.float64),\n",
       " tensor([2.5192], dtype=torch.float64),\n",
       " tensor([2.5116], dtype=torch.float64))"
      ]
     },
     "execution_count": 1165,
     "metadata": {},
     "output_type": "execute_result"
    }
   ],
   "source": [
    "hyp_dist(nodes1[5].hyper,nodes1[1].hyper),hyp_dist(nodes1[5].hyper,nodes1[2].hyper),hyp_dist(nodes1[1].hyper,nodes1[2].hyper)"
   ]
  },
  {
   "cell_type": "code",
   "execution_count": 1166,
   "metadata": {},
   "outputs": [
    {
     "data": {
      "text/plain": [
       "(tensor([2.5642], dtype=torch.float64),\n",
       " tensor([2.1227], dtype=torch.float64),\n",
       " tensor([2.3657], dtype=torch.float64))"
      ]
     },
     "execution_count": 1166,
     "metadata": {},
     "output_type": "execute_result"
    }
   ],
   "source": [
    "hyp_dist(nodes1[3].hyper,nodes1[6].hyper),hyp_dist(nodes1[4].hyper,nodes1[6].hyper),hyp_dist(nodes1[3].hyper,nodes1[4].hyper)"
   ]
  },
  {
   "cell_type": "code",
   "execution_count": 1167,
   "metadata": {},
   "outputs": [
    {
     "name": "stdout",
     "output_type": "stream",
     "text": [
      "40 16\n",
      "39 31\n",
      "42 9\n",
      "45 5\n",
      "36 32\n",
      "37 14\n",
      "50 2\n",
      "52 34\n",
      "61 4\n",
      "47 27\n",
      "44 23\n",
      "41 15\n",
      "43 8\n",
      "[70, 66, 35, 57, 16, 22, 56, 25, 49, 31, 6, 9, 29, 69, 51, 5, 1, 48, 32, 28, 38, 20, 14, 7, 68, 65, 63, 55, 11, 53, 26, 2, 18, 58, 3, 34, 10, 64, 4, 0, 62, 27, 24, 60, 13, 46, 33, 23, 12, 67, 54, 21, 15, 19, 59, 30, 8, 17]\n",
      "786 14464\n"
     ]
    },
    {
     "name": "stdout",
     "output_type": "stream",
     "text": [
      "\t Epoch 0 | average train loss1: 0.486008\n",
      "\t Epoch 0 | average train loss2: 0.465080\n",
      "\t Epoch 1 | average train loss1: 0.488203\n",
      "\t Epoch 1 | average train loss2: 0.463159\n",
      "\t Epoch 2 | average train loss1: 0.486962\n",
      "\t Epoch 2 | average train loss2: 0.462252\n",
      "{'CD4Tn': '#184e77', 'Th17': '#1a759f', 'Th2': '#168aad', 'empty': '#fff', 'Tfh': '#52b69a'}\n"
     ]
    },
    {
     "data": {
      "application/vnd.plotly.v1+json": {
       "config": {
        "plotlyServerURL": "https://plot.ly"
       },
       "data": [
        {
         "hoverinfo": "text",
         "hovertext": [
          "16_CD4Tn",
          "22_CD4Tn",
          "25_CD4Tn",
          "31_CD4Tn",
          "6_CD4Tn",
          "9_CD4Tn",
          "29_CD4Tn",
          "32_CD4Tn",
          "34_CD4Tn",
          "10_CD4Tn",
          "30_CD4Tn"
         ],
         "legendgroup": "CD4Tn",
         "marker": {
          "color": "#184e77",
          "size": 10,
          "symbol": "circle-dot"
         },
         "mode": "markers+text",
         "name": "CD4Tn",
         "type": "scatter",
         "x": [
          3.8125,
          3.8125,
          4.65625,
          5.078125,
          5.078125,
          5.359375,
          5.359375,
          6.90625,
          8.2421875,
          8.2421875,
          9.578125
         ],
         "y": [
          0.5,
          -1,
          -1,
          -2.5,
          -4,
          -2.5,
          -4,
          -1,
          -4,
          -5.5,
          -2.5
         ]
        },
        {
         "hoverinfo": "text",
         "hovertext": [
          "5_Th17",
          "11_Th17",
          "26_Th17",
          "18_Th17",
          "3_Th17",
          "13_Th17",
          "21_Th17",
          "19_Th17"
         ],
         "legendgroup": "Th17",
         "marker": {
          "color": "#1a759f",
          "size": 10,
          "symbol": "circle-dot"
         },
         "mode": "markers+text",
         "name": "Th17",
         "type": "scatter",
         "x": [
          6.0625,
          7.8203125,
          7.92578125,
          7.99609375,
          8.1015625,
          8.76953125,
          9.015625,
          9.296875
         ],
         "y": [
          0.5,
          -4,
          -5.5,
          -7,
          -4,
          -5.5,
          -2.5,
          -4
         ]
        },
        {
         "hoverinfo": "text",
         "hovertext": [
          "35_Th2",
          "2_Th2",
          "4_Th2",
          "0_Th2",
          "27_Th2",
          "24_Th2",
          "33_Th2",
          "23_Th2",
          "12_Th2"
         ],
         "legendgroup": "Th2",
         "marker": {
          "color": "#168aad",
          "size": 10,
          "symbol": "circle-dot"
         },
         "mode": "markers+text",
         "name": "Th2",
         "type": "scatter",
         "x": [
          2.125,
          7.99609375,
          8.453125,
          8.453125,
          8.6640625,
          8.6640625,
          8.822265625,
          8.857421875,
          8.857421875
         ],
         "y": [
          2,
          -5.5,
          -2.5,
          -4,
          -4,
          -5.5,
          -7,
          -7,
          -8.5
         ]
        },
        {
         "hoverinfo": "text",
         "hovertext": [
          "70",
          "66",
          "57",
          "56",
          "49",
          "69",
          "51",
          "48",
          "38",
          "68",
          "65",
          "63",
          "55",
          "53",
          "58",
          "64",
          "62",
          "60",
          "46",
          "67",
          "54",
          "59"
         ],
         "legendgroup": "empty",
         "marker": {
          "color": "#fff",
          "size": 10,
          "symbol": "circle-dot"
         },
         "mode": "markers+text",
         "name": "empty",
         "type": "scatter",
         "x": [
          5.5,
          3.25,
          4.375,
          4.9375,
          5.21875,
          7.75,
          6.625,
          7.1875,
          7.46875,
          8.875,
          8.3125,
          8.03125,
          7.890625,
          7.9609375,
          8.171875,
          8.59375,
          8.734375,
          8.8046875,
          8.83984375,
          9.4375,
          9.15625,
          9.71875
         ],
         "y": [
          5,
          3.5,
          2,
          0.5,
          -1,
          3.5,
          2,
          0.5,
          -1,
          2,
          0.5,
          -1,
          -2.5,
          -4,
          -2.5,
          -1,
          -2.5,
          -4,
          -5.5,
          0.5,
          -1,
          -1
         ]
        },
        {
         "hoverinfo": "text",
         "hovertext": [
          "1_Tfh",
          "28_Tfh",
          "20_Tfh",
          "14_Tfh",
          "7_Tfh",
          "15_Tfh",
          "8_Tfh",
          "17_Tfh"
         ],
         "legendgroup": "Tfh",
         "marker": {
          "color": "#52b69a",
          "size": 10,
          "symbol": "circle-dot"
         },
         "mode": "markers+text",
         "name": "Tfh",
         "type": "scatter",
         "x": [
          6.0625,
          6.90625,
          7.328125,
          7.609375,
          7.609375,
          9.296875,
          9.859375,
          9.859375
         ],
         "y": [
          -1,
          -2.5,
          -2.5,
          -2.5,
          -4,
          -2.5,
          -2.5,
          -4
         ]
        }
       ],
       "layout": {
        "height": 500,
        "shapes": [
         {
          "layer": "below",
          "line": {
           "color": "#333",
           "width": 2
          },
          "type": "line",
          "x0": 5.5,
          "x1": 5.5,
          "y0": 5,
          "y1": 5
         },
         {
          "layer": "below",
          "line": {
           "color": "#333",
           "width": 2
          },
          "type": "line",
          "x0": 5.5,
          "x1": 3.25,
          "y0": 5,
          "y1": 3.5
         },
         {
          "layer": "below",
          "line": {
           "color": "#333",
           "width": 2
          },
          "type": "line",
          "x0": 3.25,
          "x1": 2.125,
          "y0": 3.5,
          "y1": 2
         },
         {
          "layer": "below",
          "line": {
           "color": "#333",
           "width": 2
          },
          "type": "line",
          "x0": 3.25,
          "x1": 4.375,
          "y0": 3.5,
          "y1": 2
         },
         {
          "layer": "below",
          "line": {
           "color": "#333",
           "width": 2
          },
          "type": "line",
          "x0": 4.375,
          "x1": 3.8125,
          "y0": 2,
          "y1": 0.5
         },
         {
          "layer": "below",
          "line": {
           "color": "#333",
           "width": 2
          },
          "type": "line",
          "x0": 3.8125,
          "x1": 3.8125,
          "y0": 0.5,
          "y1": -1
         },
         {
          "layer": "below",
          "line": {
           "color": "#333",
           "width": 2
          },
          "type": "line",
          "x0": 4.375,
          "x1": 4.9375,
          "y0": 2,
          "y1": 0.5
         },
         {
          "layer": "below",
          "line": {
           "color": "#333",
           "width": 2
          },
          "type": "line",
          "x0": 4.9375,
          "x1": 4.65625,
          "y0": 0.5,
          "y1": -1
         },
         {
          "layer": "below",
          "line": {
           "color": "#333",
           "width": 2
          },
          "type": "line",
          "x0": 4.9375,
          "x1": 5.21875,
          "y0": 0.5,
          "y1": -1
         },
         {
          "layer": "below",
          "line": {
           "color": "#333",
           "width": 2
          },
          "type": "line",
          "x0": 5.21875,
          "x1": 5.078125,
          "y0": -1,
          "y1": -2.5
         },
         {
          "layer": "below",
          "line": {
           "color": "#333",
           "width": 2
          },
          "type": "line",
          "x0": 5.078125,
          "x1": 5.078125,
          "y0": -2.5,
          "y1": -4
         },
         {
          "layer": "below",
          "line": {
           "color": "#333",
           "width": 2
          },
          "type": "line",
          "x0": 5.21875,
          "x1": 5.359375,
          "y0": -1,
          "y1": -2.5
         },
         {
          "layer": "below",
          "line": {
           "color": "#333",
           "width": 2
          },
          "type": "line",
          "x0": 5.359375,
          "x1": 5.359375,
          "y0": -2.5,
          "y1": -4
         },
         {
          "layer": "below",
          "line": {
           "color": "#333",
           "width": 2
          },
          "type": "line",
          "x0": 5.5,
          "x1": 7.75,
          "y0": 5,
          "y1": 3.5
         },
         {
          "layer": "below",
          "line": {
           "color": "#333",
           "width": 2
          },
          "type": "line",
          "x0": 7.75,
          "x1": 6.625,
          "y0": 3.5,
          "y1": 2
         },
         {
          "layer": "below",
          "line": {
           "color": "#333",
           "width": 2
          },
          "type": "line",
          "x0": 6.625,
          "x1": 6.0625,
          "y0": 2,
          "y1": 0.5
         },
         {
          "layer": "below",
          "line": {
           "color": "#333",
           "width": 2
          },
          "type": "line",
          "x0": 6.0625,
          "x1": 6.0625,
          "y0": 0.5,
          "y1": -1
         },
         {
          "layer": "below",
          "line": {
           "color": "#333",
           "width": 2
          },
          "type": "line",
          "x0": 6.625,
          "x1": 7.1875,
          "y0": 2,
          "y1": 0.5
         },
         {
          "layer": "below",
          "line": {
           "color": "#333",
           "width": 2
          },
          "type": "line",
          "x0": 7.1875,
          "x1": 6.90625,
          "y0": 0.5,
          "y1": -1
         },
         {
          "layer": "below",
          "line": {
           "color": "#333",
           "width": 2
          },
          "type": "line",
          "x0": 6.90625,
          "x1": 6.90625,
          "y0": -1,
          "y1": -2.5
         },
         {
          "layer": "below",
          "line": {
           "color": "#333",
           "width": 2
          },
          "type": "line",
          "x0": 7.1875,
          "x1": 7.46875,
          "y0": 0.5,
          "y1": -1
         },
         {
          "layer": "below",
          "line": {
           "color": "#333",
           "width": 2
          },
          "type": "line",
          "x0": 7.46875,
          "x1": 7.328125,
          "y0": -1,
          "y1": -2.5
         },
         {
          "layer": "below",
          "line": {
           "color": "#333",
           "width": 2
          },
          "type": "line",
          "x0": 7.46875,
          "x1": 7.609375,
          "y0": -1,
          "y1": -2.5
         },
         {
          "layer": "below",
          "line": {
           "color": "#333",
           "width": 2
          },
          "type": "line",
          "x0": 7.609375,
          "x1": 7.609375,
          "y0": -2.5,
          "y1": -4
         },
         {
          "layer": "below",
          "line": {
           "color": "#333",
           "width": 2
          },
          "type": "line",
          "x0": 7.75,
          "x1": 8.875,
          "y0": 3.5,
          "y1": 2
         },
         {
          "layer": "below",
          "line": {
           "color": "#333",
           "width": 2
          },
          "type": "line",
          "x0": 8.875,
          "x1": 8.3125,
          "y0": 2,
          "y1": 0.5
         },
         {
          "layer": "below",
          "line": {
           "color": "#333",
           "width": 2
          },
          "type": "line",
          "x0": 8.3125,
          "x1": 8.03125,
          "y0": 0.5,
          "y1": -1
         },
         {
          "layer": "below",
          "line": {
           "color": "#333",
           "width": 2
          },
          "type": "line",
          "x0": 8.03125,
          "x1": 7.890625,
          "y0": -1,
          "y1": -2.5
         },
         {
          "layer": "below",
          "line": {
           "color": "#333",
           "width": 2
          },
          "type": "line",
          "x0": 7.890625,
          "x1": 7.8203125,
          "y0": -2.5,
          "y1": -4
         },
         {
          "layer": "below",
          "line": {
           "color": "#333",
           "width": 2
          },
          "type": "line",
          "x0": 7.890625,
          "x1": 7.9609375,
          "y0": -2.5,
          "y1": -4
         },
         {
          "layer": "below",
          "line": {
           "color": "#333",
           "width": 2
          },
          "type": "line",
          "x0": 7.9609375,
          "x1": 7.92578125,
          "y0": -4,
          "y1": -5.5
         },
         {
          "layer": "below",
          "line": {
           "color": "#333",
           "width": 2
          },
          "type": "line",
          "x0": 7.9609375,
          "x1": 7.99609375,
          "y0": -4,
          "y1": -5.5
         },
         {
          "layer": "below",
          "line": {
           "color": "#333",
           "width": 2
          },
          "type": "line",
          "x0": 7.99609375,
          "x1": 7.99609375,
          "y0": -5.5,
          "y1": -7
         },
         {
          "layer": "below",
          "line": {
           "color": "#333",
           "width": 2
          },
          "type": "line",
          "x0": 8.03125,
          "x1": 8.171875,
          "y0": -1,
          "y1": -2.5
         },
         {
          "layer": "below",
          "line": {
           "color": "#333",
           "width": 2
          },
          "type": "line",
          "x0": 8.171875,
          "x1": 8.1015625,
          "y0": -2.5,
          "y1": -4
         },
         {
          "layer": "below",
          "line": {
           "color": "#333",
           "width": 2
          },
          "type": "line",
          "x0": 8.171875,
          "x1": 8.2421875,
          "y0": -2.5,
          "y1": -4
         },
         {
          "layer": "below",
          "line": {
           "color": "#333",
           "width": 2
          },
          "type": "line",
          "x0": 8.2421875,
          "x1": 8.2421875,
          "y0": -4,
          "y1": -5.5
         },
         {
          "layer": "below",
          "line": {
           "color": "#333",
           "width": 2
          },
          "type": "line",
          "x0": 8.3125,
          "x1": 8.59375,
          "y0": 0.5,
          "y1": -1
         },
         {
          "layer": "below",
          "line": {
           "color": "#333",
           "width": 2
          },
          "type": "line",
          "x0": 8.59375,
          "x1": 8.453125,
          "y0": -1,
          "y1": -2.5
         },
         {
          "layer": "below",
          "line": {
           "color": "#333",
           "width": 2
          },
          "type": "line",
          "x0": 8.453125,
          "x1": 8.453125,
          "y0": -2.5,
          "y1": -4
         },
         {
          "layer": "below",
          "line": {
           "color": "#333",
           "width": 2
          },
          "type": "line",
          "x0": 8.59375,
          "x1": 8.734375,
          "y0": -1,
          "y1": -2.5
         },
         {
          "layer": "below",
          "line": {
           "color": "#333",
           "width": 2
          },
          "type": "line",
          "x0": 8.734375,
          "x1": 8.6640625,
          "y0": -2.5,
          "y1": -4
         },
         {
          "layer": "below",
          "line": {
           "color": "#333",
           "width": 2
          },
          "type": "line",
          "x0": 8.6640625,
          "x1": 8.6640625,
          "y0": -4,
          "y1": -5.5
         },
         {
          "layer": "below",
          "line": {
           "color": "#333",
           "width": 2
          },
          "type": "line",
          "x0": 8.734375,
          "x1": 8.8046875,
          "y0": -2.5,
          "y1": -4
         },
         {
          "layer": "below",
          "line": {
           "color": "#333",
           "width": 2
          },
          "type": "line",
          "x0": 8.8046875,
          "x1": 8.76953125,
          "y0": -4,
          "y1": -5.5
         },
         {
          "layer": "below",
          "line": {
           "color": "#333",
           "width": 2
          },
          "type": "line",
          "x0": 8.8046875,
          "x1": 8.83984375,
          "y0": -4,
          "y1": -5.5
         },
         {
          "layer": "below",
          "line": {
           "color": "#333",
           "width": 2
          },
          "type": "line",
          "x0": 8.83984375,
          "x1": 8.822265625,
          "y0": -5.5,
          "y1": -7
         },
         {
          "layer": "below",
          "line": {
           "color": "#333",
           "width": 2
          },
          "type": "line",
          "x0": 8.83984375,
          "x1": 8.857421875,
          "y0": -5.5,
          "y1": -7
         },
         {
          "layer": "below",
          "line": {
           "color": "#333",
           "width": 2
          },
          "type": "line",
          "x0": 8.857421875,
          "x1": 8.857421875,
          "y0": -7,
          "y1": -8.5
         },
         {
          "layer": "below",
          "line": {
           "color": "#333",
           "width": 2
          },
          "type": "line",
          "x0": 8.875,
          "x1": 9.4375,
          "y0": 2,
          "y1": 0.5
         },
         {
          "layer": "below",
          "line": {
           "color": "#333",
           "width": 2
          },
          "type": "line",
          "x0": 9.4375,
          "x1": 9.15625,
          "y0": 0.5,
          "y1": -1
         },
         {
          "layer": "below",
          "line": {
           "color": "#333",
           "width": 2
          },
          "type": "line",
          "x0": 9.15625,
          "x1": 9.015625,
          "y0": -1,
          "y1": -2.5
         },
         {
          "layer": "below",
          "line": {
           "color": "#333",
           "width": 2
          },
          "type": "line",
          "x0": 9.15625,
          "x1": 9.296875,
          "y0": -1,
          "y1": -2.5
         },
         {
          "layer": "below",
          "line": {
           "color": "#333",
           "width": 2
          },
          "type": "line",
          "x0": 9.296875,
          "x1": 9.296875,
          "y0": -2.5,
          "y1": -4
         },
         {
          "layer": "below",
          "line": {
           "color": "#333",
           "width": 2
          },
          "type": "line",
          "x0": 9.4375,
          "x1": 9.71875,
          "y0": 0.5,
          "y1": -1
         },
         {
          "layer": "below",
          "line": {
           "color": "#333",
           "width": 2
          },
          "type": "line",
          "x0": 9.71875,
          "x1": 9.578125,
          "y0": -1,
          "y1": -2.5
         },
         {
          "layer": "below",
          "line": {
           "color": "#333",
           "width": 2
          },
          "type": "line",
          "x0": 9.71875,
          "x1": 9.859375,
          "y0": -1,
          "y1": -2.5
         },
         {
          "layer": "below",
          "line": {
           "color": "#333",
           "width": 2
          },
          "type": "line",
          "x0": 9.859375,
          "x1": 9.859375,
          "y0": -2.5,
          "y1": -4
         }
        ],
        "template": {
         "data": {
          "bar": [
           {
            "error_x": {
             "color": "#2a3f5f"
            },
            "error_y": {
             "color": "#2a3f5f"
            },
            "marker": {
             "line": {
              "color": "#E5ECF6",
              "width": 0.5
             },
             "pattern": {
              "fillmode": "overlay",
              "size": 10,
              "solidity": 0.2
             }
            },
            "type": "bar"
           }
          ],
          "barpolar": [
           {
            "marker": {
             "line": {
              "color": "#E5ECF6",
              "width": 0.5
             },
             "pattern": {
              "fillmode": "overlay",
              "size": 10,
              "solidity": 0.2
             }
            },
            "type": "barpolar"
           }
          ],
          "carpet": [
           {
            "aaxis": {
             "endlinecolor": "#2a3f5f",
             "gridcolor": "white",
             "linecolor": "white",
             "minorgridcolor": "white",
             "startlinecolor": "#2a3f5f"
            },
            "baxis": {
             "endlinecolor": "#2a3f5f",
             "gridcolor": "white",
             "linecolor": "white",
             "minorgridcolor": "white",
             "startlinecolor": "#2a3f5f"
            },
            "type": "carpet"
           }
          ],
          "choropleth": [
           {
            "colorbar": {
             "outlinewidth": 0,
             "ticks": ""
            },
            "type": "choropleth"
           }
          ],
          "contour": [
           {
            "colorbar": {
             "outlinewidth": 0,
             "ticks": ""
            },
            "colorscale": [
             [
              0,
              "#0d0887"
             ],
             [
              0.1111111111111111,
              "#46039f"
             ],
             [
              0.2222222222222222,
              "#7201a8"
             ],
             [
              0.3333333333333333,
              "#9c179e"
             ],
             [
              0.4444444444444444,
              "#bd3786"
             ],
             [
              0.5555555555555556,
              "#d8576b"
             ],
             [
              0.6666666666666666,
              "#ed7953"
             ],
             [
              0.7777777777777778,
              "#fb9f3a"
             ],
             [
              0.8888888888888888,
              "#fdca26"
             ],
             [
              1,
              "#f0f921"
             ]
            ],
            "type": "contour"
           }
          ],
          "contourcarpet": [
           {
            "colorbar": {
             "outlinewidth": 0,
             "ticks": ""
            },
            "type": "contourcarpet"
           }
          ],
          "heatmap": [
           {
            "colorbar": {
             "outlinewidth": 0,
             "ticks": ""
            },
            "colorscale": [
             [
              0,
              "#0d0887"
             ],
             [
              0.1111111111111111,
              "#46039f"
             ],
             [
              0.2222222222222222,
              "#7201a8"
             ],
             [
              0.3333333333333333,
              "#9c179e"
             ],
             [
              0.4444444444444444,
              "#bd3786"
             ],
             [
              0.5555555555555556,
              "#d8576b"
             ],
             [
              0.6666666666666666,
              "#ed7953"
             ],
             [
              0.7777777777777778,
              "#fb9f3a"
             ],
             [
              0.8888888888888888,
              "#fdca26"
             ],
             [
              1,
              "#f0f921"
             ]
            ],
            "type": "heatmap"
           }
          ],
          "heatmapgl": [
           {
            "colorbar": {
             "outlinewidth": 0,
             "ticks": ""
            },
            "colorscale": [
             [
              0,
              "#0d0887"
             ],
             [
              0.1111111111111111,
              "#46039f"
             ],
             [
              0.2222222222222222,
              "#7201a8"
             ],
             [
              0.3333333333333333,
              "#9c179e"
             ],
             [
              0.4444444444444444,
              "#bd3786"
             ],
             [
              0.5555555555555556,
              "#d8576b"
             ],
             [
              0.6666666666666666,
              "#ed7953"
             ],
             [
              0.7777777777777778,
              "#fb9f3a"
             ],
             [
              0.8888888888888888,
              "#fdca26"
             ],
             [
              1,
              "#f0f921"
             ]
            ],
            "type": "heatmapgl"
           }
          ],
          "histogram": [
           {
            "marker": {
             "pattern": {
              "fillmode": "overlay",
              "size": 10,
              "solidity": 0.2
             }
            },
            "type": "histogram"
           }
          ],
          "histogram2d": [
           {
            "colorbar": {
             "outlinewidth": 0,
             "ticks": ""
            },
            "colorscale": [
             [
              0,
              "#0d0887"
             ],
             [
              0.1111111111111111,
              "#46039f"
             ],
             [
              0.2222222222222222,
              "#7201a8"
             ],
             [
              0.3333333333333333,
              "#9c179e"
             ],
             [
              0.4444444444444444,
              "#bd3786"
             ],
             [
              0.5555555555555556,
              "#d8576b"
             ],
             [
              0.6666666666666666,
              "#ed7953"
             ],
             [
              0.7777777777777778,
              "#fb9f3a"
             ],
             [
              0.8888888888888888,
              "#fdca26"
             ],
             [
              1,
              "#f0f921"
             ]
            ],
            "type": "histogram2d"
           }
          ],
          "histogram2dcontour": [
           {
            "colorbar": {
             "outlinewidth": 0,
             "ticks": ""
            },
            "colorscale": [
             [
              0,
              "#0d0887"
             ],
             [
              0.1111111111111111,
              "#46039f"
             ],
             [
              0.2222222222222222,
              "#7201a8"
             ],
             [
              0.3333333333333333,
              "#9c179e"
             ],
             [
              0.4444444444444444,
              "#bd3786"
             ],
             [
              0.5555555555555556,
              "#d8576b"
             ],
             [
              0.6666666666666666,
              "#ed7953"
             ],
             [
              0.7777777777777778,
              "#fb9f3a"
             ],
             [
              0.8888888888888888,
              "#fdca26"
             ],
             [
              1,
              "#f0f921"
             ]
            ],
            "type": "histogram2dcontour"
           }
          ],
          "mesh3d": [
           {
            "colorbar": {
             "outlinewidth": 0,
             "ticks": ""
            },
            "type": "mesh3d"
           }
          ],
          "parcoords": [
           {
            "line": {
             "colorbar": {
              "outlinewidth": 0,
              "ticks": ""
             }
            },
            "type": "parcoords"
           }
          ],
          "pie": [
           {
            "automargin": true,
            "type": "pie"
           }
          ],
          "scatter": [
           {
            "fillpattern": {
             "fillmode": "overlay",
             "size": 10,
             "solidity": 0.2
            },
            "type": "scatter"
           }
          ],
          "scatter3d": [
           {
            "line": {
             "colorbar": {
              "outlinewidth": 0,
              "ticks": ""
             }
            },
            "marker": {
             "colorbar": {
              "outlinewidth": 0,
              "ticks": ""
             }
            },
            "type": "scatter3d"
           }
          ],
          "scattercarpet": [
           {
            "marker": {
             "colorbar": {
              "outlinewidth": 0,
              "ticks": ""
             }
            },
            "type": "scattercarpet"
           }
          ],
          "scattergeo": [
           {
            "marker": {
             "colorbar": {
              "outlinewidth": 0,
              "ticks": ""
             }
            },
            "type": "scattergeo"
           }
          ],
          "scattergl": [
           {
            "marker": {
             "colorbar": {
              "outlinewidth": 0,
              "ticks": ""
             }
            },
            "type": "scattergl"
           }
          ],
          "scattermapbox": [
           {
            "marker": {
             "colorbar": {
              "outlinewidth": 0,
              "ticks": ""
             }
            },
            "type": "scattermapbox"
           }
          ],
          "scatterpolar": [
           {
            "marker": {
             "colorbar": {
              "outlinewidth": 0,
              "ticks": ""
             }
            },
            "type": "scatterpolar"
           }
          ],
          "scatterpolargl": [
           {
            "marker": {
             "colorbar": {
              "outlinewidth": 0,
              "ticks": ""
             }
            },
            "type": "scatterpolargl"
           }
          ],
          "scatterternary": [
           {
            "marker": {
             "colorbar": {
              "outlinewidth": 0,
              "ticks": ""
             }
            },
            "type": "scatterternary"
           }
          ],
          "surface": [
           {
            "colorbar": {
             "outlinewidth": 0,
             "ticks": ""
            },
            "colorscale": [
             [
              0,
              "#0d0887"
             ],
             [
              0.1111111111111111,
              "#46039f"
             ],
             [
              0.2222222222222222,
              "#7201a8"
             ],
             [
              0.3333333333333333,
              "#9c179e"
             ],
             [
              0.4444444444444444,
              "#bd3786"
             ],
             [
              0.5555555555555556,
              "#d8576b"
             ],
             [
              0.6666666666666666,
              "#ed7953"
             ],
             [
              0.7777777777777778,
              "#fb9f3a"
             ],
             [
              0.8888888888888888,
              "#fdca26"
             ],
             [
              1,
              "#f0f921"
             ]
            ],
            "type": "surface"
           }
          ],
          "table": [
           {
            "cells": {
             "fill": {
              "color": "#EBF0F8"
             },
             "line": {
              "color": "white"
             }
            },
            "header": {
             "fill": {
              "color": "#C8D4E3"
             },
             "line": {
              "color": "white"
             }
            },
            "type": "table"
           }
          ]
         },
         "layout": {
          "annotationdefaults": {
           "arrowcolor": "#2a3f5f",
           "arrowhead": 0,
           "arrowwidth": 1
          },
          "autotypenumbers": "strict",
          "coloraxis": {
           "colorbar": {
            "outlinewidth": 0,
            "ticks": ""
           }
          },
          "colorscale": {
           "diverging": [
            [
             0,
             "#8e0152"
            ],
            [
             0.1,
             "#c51b7d"
            ],
            [
             0.2,
             "#de77ae"
            ],
            [
             0.3,
             "#f1b6da"
            ],
            [
             0.4,
             "#fde0ef"
            ],
            [
             0.5,
             "#f7f7f7"
            ],
            [
             0.6,
             "#e6f5d0"
            ],
            [
             0.7,
             "#b8e186"
            ],
            [
             0.8,
             "#7fbc41"
            ],
            [
             0.9,
             "#4d9221"
            ],
            [
             1,
             "#276419"
            ]
           ],
           "sequential": [
            [
             0,
             "#0d0887"
            ],
            [
             0.1111111111111111,
             "#46039f"
            ],
            [
             0.2222222222222222,
             "#7201a8"
            ],
            [
             0.3333333333333333,
             "#9c179e"
            ],
            [
             0.4444444444444444,
             "#bd3786"
            ],
            [
             0.5555555555555556,
             "#d8576b"
            ],
            [
             0.6666666666666666,
             "#ed7953"
            ],
            [
             0.7777777777777778,
             "#fb9f3a"
            ],
            [
             0.8888888888888888,
             "#fdca26"
            ],
            [
             1,
             "#f0f921"
            ]
           ],
           "sequentialminus": [
            [
             0,
             "#0d0887"
            ],
            [
             0.1111111111111111,
             "#46039f"
            ],
            [
             0.2222222222222222,
             "#7201a8"
            ],
            [
             0.3333333333333333,
             "#9c179e"
            ],
            [
             0.4444444444444444,
             "#bd3786"
            ],
            [
             0.5555555555555556,
             "#d8576b"
            ],
            [
             0.6666666666666666,
             "#ed7953"
            ],
            [
             0.7777777777777778,
             "#fb9f3a"
            ],
            [
             0.8888888888888888,
             "#fdca26"
            ],
            [
             1,
             "#f0f921"
            ]
           ]
          },
          "colorway": [
           "#636efa",
           "#EF553B",
           "#00cc96",
           "#ab63fa",
           "#FFA15A",
           "#19d3f3",
           "#FF6692",
           "#B6E880",
           "#FF97FF",
           "#FECB52"
          ],
          "font": {
           "color": "#2a3f5f"
          },
          "geo": {
           "bgcolor": "white",
           "lakecolor": "white",
           "landcolor": "#E5ECF6",
           "showlakes": true,
           "showland": true,
           "subunitcolor": "white"
          },
          "hoverlabel": {
           "align": "left"
          },
          "hovermode": "closest",
          "mapbox": {
           "style": "light"
          },
          "paper_bgcolor": "white",
          "plot_bgcolor": "#E5ECF6",
          "polar": {
           "angularaxis": {
            "gridcolor": "white",
            "linecolor": "white",
            "ticks": ""
           },
           "bgcolor": "#E5ECF6",
           "radialaxis": {
            "gridcolor": "white",
            "linecolor": "white",
            "ticks": ""
           }
          },
          "scene": {
           "xaxis": {
            "backgroundcolor": "#E5ECF6",
            "gridcolor": "white",
            "gridwidth": 2,
            "linecolor": "white",
            "showbackground": true,
            "ticks": "",
            "zerolinecolor": "white"
           },
           "yaxis": {
            "backgroundcolor": "#E5ECF6",
            "gridcolor": "white",
            "gridwidth": 2,
            "linecolor": "white",
            "showbackground": true,
            "ticks": "",
            "zerolinecolor": "white"
           },
           "zaxis": {
            "backgroundcolor": "#E5ECF6",
            "gridcolor": "white",
            "gridwidth": 2,
            "linecolor": "white",
            "showbackground": true,
            "ticks": "",
            "zerolinecolor": "white"
           }
          },
          "shapedefaults": {
           "line": {
            "color": "#2a3f5f"
           }
          },
          "ternary": {
           "aaxis": {
            "gridcolor": "white",
            "linecolor": "white",
            "ticks": ""
           },
           "baxis": {
            "gridcolor": "white",
            "linecolor": "white",
            "ticks": ""
           },
           "bgcolor": "#E5ECF6",
           "caxis": {
            "gridcolor": "white",
            "linecolor": "white",
            "ticks": ""
           }
          },
          "title": {
           "x": 0.05
          },
          "xaxis": {
           "automargin": true,
           "gridcolor": "white",
           "linecolor": "white",
           "ticks": "",
           "title": {
            "standoff": 15
           },
           "zerolinecolor": "white",
           "zerolinewidth": 2
          },
          "yaxis": {
           "automargin": true,
           "gridcolor": "white",
           "linecolor": "white",
           "ticks": "",
           "title": {
            "standoff": 15
           },
           "zerolinecolor": "white",
           "zerolinewidth": 2
          }
         }
        },
        "width": 1000,
        "xaxis": {
         "showgrid": false,
         "showline": false,
         "showticklabels": false,
         "zeroline": false
        },
        "yaxis": {
         "showgrid": false,
         "showline": false,
         "showticklabels": false,
         "zeroline": false
        }
       }
      }
     },
     "metadata": {},
     "output_type": "display_data"
    }
   ],
   "source": [
    "temp,root = merge_points(similarities,root,nodes1,embeddings,3,2,2,n)\n",
    "for i in nodes1:\n",
    "    i.hyper = temp[int(i)]\n",
    "    i.value =  temp[int(i)]\n",
    "embeddings = temp.numpy();\n",
    "add_meta(root,meta_list1,[])\n",
    "show_tree(root,color=['#184e77','#1a759f','#168aad',\"#34a0a4\",'#52b69a','#99d98c','#76c893','#99d98c']).show_fig()\n",
    "remove_meta(root);"
   ]
  },
  {
   "cell_type": "code",
   "execution_count": 1168,
   "metadata": {},
   "outputs": [],
   "source": [
    "names = [];\n",
    "fathers = [];\n",
    "xys = [];\n",
    "search_merge_tree(root,-1,0,names,fathers,xys)\n",
    "np.save('./datas/impute/1/'+\"dataname_merge.npy\",names)\n",
    "np.save('./datas/impute/1/'+\"datalink_merge.npy\",fathers)\n",
    "np.save('./datas/impute/1/'+\"dataxy_merge.npy\",[i.numpy() for i in xys]) "
   ]
  },
  {
   "cell_type": "code",
   "execution_count": 1169,
   "metadata": {},
   "outputs": [
    {
     "name": "stdout",
     "output_type": "stream",
     "text": [
      "./datas/impute/2/datas.data length:9\n",
      "Generating all pairs superset\n"
     ]
    }
   ],
   "source": [
    "data_path = './datas/impute/2/' + 'datas.data'\n",
    "np.random.seed(1234)\n",
    "torch.manual_seed(1234)\n",
    "x, y_true, similarities = load_data(data_path,1,tmp2.shape[1]+1,0)\n",
    "print(\"{} length:{}\".format(data_path,len(y_true)));\n",
    "dataset = HCDataset(x, y_true, similarities, num_samples=50000)\n",
    "dataloader = data.DataLoader(dataset, batch_size=32, shuffle=True, pin_memory=True)\n",
    "model = HypHC(dataset.n_nodes, 2, 5e-2, 5e-2 ,0.999)\n",
    "\n",
    "# model.to(\"cpu\")\n",
    "Optimizer = getattr(optim, 'RAdam')\n",
    "optimizer = Optimizer(model.parameters(),0.0005)\n"
   ]
  },
  {
   "cell_type": "code",
   "execution_count": 1170,
   "metadata": {},
   "outputs": [
    {
     "name": "stdout",
     "output_type": "stream",
     "text": [
      "\t Epoch 0 | average train loss: 0.900142\n",
      "Optimization finished.\n",
      "\t Epoch 1 | average train loss: 0.890259\n",
      "Optimization finished.\n",
      "\t Epoch 2 | average train loss: 0.888527\n",
      "Optimization finished.\n",
      "\t Epoch 3 | average train loss: 0.887319\n",
      "Optimization finished.\n",
      "\t Epoch 4 | average train loss: 0.887150\n",
      "Optimization finished.\n",
      "\t Epoch 5 | average train loss: 0.887416\n",
      "Optimization finished.\n",
      "\t Epoch 6 | average train loss: 0.887682\n",
      "Optimization finished.\n",
      "\t Epoch 7 | average train loss: 0.888524\n",
      "Optimization finished.\n",
      "\t Epoch 8 | average train loss: 0.885011\n",
      "Optimization finished.\n",
      "\t Epoch 9 | average train loss: 0.885373\n",
      "Optimization finished.\n",
      "\t Epoch 10 | average train loss: 0.883547\n",
      "Optimization finished.\n",
      "\t Epoch 11 | average train loss: 0.885982\n",
      "Optimization finished.\n",
      "\t Epoch 12 | average train loss: 0.885388\n",
      "Optimization finished.\n",
      "\t Epoch 13 | average train loss: 0.885074\n",
      "Optimization finished.\n",
      "\t Epoch 14 | average train loss: 0.884273\n",
      "Optimization finished.\n",
      "\t Epoch 15 | average train loss: 0.886045\n",
      "Optimization finished.\n",
      "\t Epoch 16 | average train loss: 0.885542\n",
      "Optimization finished.\n",
      "\t Epoch 17 | average train loss: 0.885658\n",
      "Optimization finished.\n",
      "\t Epoch 18 | average train loss: 0.887116\n",
      "Optimization finished.\n",
      "\t Epoch 19 | average train loss: 0.887550\n",
      "Optimization finished.\n",
      "\t Epoch 20 | average train loss: 0.883390\n",
      "Optimization finished.\n",
      "\t Epoch 21 | average train loss: 0.885599\n",
      "Optimization finished.\n",
      "\t Epoch 22 | average train loss: 0.887522\n",
      "Optimization finished.\n",
      "\t Epoch 23 | average train loss: 0.885595\n",
      "Optimization finished.\n",
      "\t Epoch 24 | average train loss: 0.884803\n",
      "Optimization finished.\n",
      "\t Epoch 25 | average train loss: 0.887670\n",
      "Optimization finished.\n",
      "\t Epoch 26 | average train loss: 0.885616\n",
      "Optimization finished.\n",
      "\t Epoch 27 | average train loss: 0.885508\n",
      "Optimization finished.\n",
      "\t Epoch 28 | average train loss: 0.886335\n",
      "Optimization finished.\n",
      "\t Epoch 29 | average train loss: 0.885445\n",
      "Annealing learning rate to: 0.00025\n",
      "Optimization finished.\n"
     ]
    }
   ],
   "source": [
    "train(model,dataloader,optimizer,similarities,30);\n"
   ]
  },
  {
   "cell_type": "code",
   "execution_count": 1171,
   "metadata": {},
   "outputs": [],
   "source": [
    "torch.save(model.state_dict(),'./datas/impute/2/' +'model3.pth');\n"
   ]
  },
  {
   "cell_type": "code",
   "execution_count": 1172,
   "metadata": {},
   "outputs": [
    {
     "data": {
      "text/plain": [
       "<All keys matched successfully>"
      ]
     },
     "execution_count": 1172,
     "metadata": {},
     "output_type": "execute_result"
    }
   ],
   "source": [
    "params = torch.load(('./datas/impute/2/'+'model3.pth'), map_location=torch.device('cpu'))\n",
    "model.load_state_dict(params)"
   ]
  },
  {
   "cell_type": "code",
   "execution_count": 1173,
   "metadata": {},
   "outputs": [
    {
     "data": {
      "image/png": "[encoded data removed]",
      "text/plain": [
       "<Figure size 1500x1500 with 1 Axes>"
      ]
     },
     "metadata": {},
     "output_type": "display_data"
    }
   ],
   "source": [
    "model.eval()\n",
    "\n",
    "sim_fn = lambda x, y: torch.sum(x * y, dim=-1)\n",
    "n=len(x);\n",
    "leaves_embeddings = model.normalize_embeddings(model.embeddings.weight.data)\n",
    "leaves_embeddings = project(leaves_embeddings).detach().cpu()\n",
    "ijs = sl_np_mst_ij(leaves_embeddings,sim_fn)\n",
    "uf = UnionFind(n)\n",
    "uf.merge(ijs)\n",
    "\n",
    "tree = nx.DiGraph()\n",
    "for i, j in enumerate(uf.tree()[:-1]):\n",
    "    if(j!=-1):\n",
    "        tree.add_edge(j, i)\n",
    "\n",
    "n = len(leaves_embeddings)\n",
    "embeddings = complete_tree(tree, leaves_embeddings)\n",
    "colors = get_colors(meta_list2, 1234)\n",
    "fig = plt.figure(figsize=(15, 15))\n",
    "ax = fig.add_subplot(111)\n",
    "circle = plt.Circle((0, 0), 1.0, color='r', alpha=0.1)\n",
    "ax.add_artist(circle)\n",
    "ax.scatter(embeddings[:n, 0], embeddings[:n, 1], c=colors, s=50, alpha=0.6)\n",
    "# ax.scatter(embeddings[n:,0],embeddings[n:,1],color ='black',s=20,alpha=0.6)\n",
    "for n1, n2 in tree.edges():\n",
    "    x1 = embeddings[n1];\n",
    "    x2 = embeddings[n2]\n",
    "    plot_geodesic(x1,x2,ax)"
   ]
  },
  {
   "cell_type": "code",
   "execution_count": 1174,
   "metadata": {},
   "outputs": [
    {
     "name": "stdout",
     "output_type": "stream",
     "text": [
      "{'empty': '#fff', 'Th2': '#1a759f'}\n"
     ]
    },
    {
     "data": {
      "application/vnd.plotly.v1+json": {
       "config": {
        "plotlyServerURL": "https://plot.ly"
       },
       "data": [
        {
         "hoverinfo": "text",
         "hovertext": [
          "16",
          "12",
          "10",
          "15",
          "11",
          "14",
          "9",
          "13"
         ],
         "legendgroup": "empty",
         "marker": {
          "color": "#fff",
          "size": 10,
          "symbol": "circle-dot"
         },
         "mode": "markers+text",
         "name": "empty",
         "type": "scatter",
         "x": [
          5.5,
          3.25,
          4.375,
          7.75,
          6.625,
          8.875,
          8.3125,
          9.4375
         ],
         "y": [
          5,
          3.5,
          2,
          3.5,
          2,
          2,
          0.5,
          0.5
         ]
        },
        {
         "hoverinfo": "text",
         "hovertext": [
          "1_Th2",
          "0_Th2",
          "5_Th2",
          "6_Th2",
          "7_Th2",
          "2_Th2",
          "8_Th2",
          "3_Th2",
          "4_Th2"
         ],
         "legendgroup": "Th2",
         "marker": {
          "color": "#1a759f",
          "size": 10,
          "symbol": "circle-dot"
         },
         "mode": "markers+text",
         "name": "Th2",
         "type": "scatter",
         "x": [
          2.125,
          3.8125,
          4.9375,
          6.0625,
          7.1875,
          8.03125,
          8.59375,
          9.15625,
          9.71875
         ],
         "y": [
          2,
          0.5,
          0.5,
          0.5,
          0.5,
          -1,
          -1,
          -1,
          -1
         ]
        }
       ],
       "layout": {
        "height": 500,
        "shapes": [
         {
          "layer": "below",
          "line": {
           "color": "#333",
           "width": 2
          },
          "type": "line",
          "x0": 5.5,
          "x1": 5.5,
          "y0": 5,
          "y1": 5
         },
         {
          "layer": "below",
          "line": {
           "color": "#333",
           "width": 2
          },
          "type": "line",
          "x0": 5.5,
          "x1": 3.25,
          "y0": 5,
          "y1": 3.5
         },
         {
          "layer": "below",
          "line": {
           "color": "#333",
           "width": 2
          },
          "type": "line",
          "x0": 3.25,
          "x1": 2.125,
          "y0": 3.5,
          "y1": 2
         },
         {
          "layer": "below",
          "line": {
           "color": "#333",
           "width": 2
          },
          "type": "line",
          "x0": 3.25,
          "x1": 4.375,
          "y0": 3.5,
          "y1": 2
         },
         {
          "layer": "below",
          "line": {
           "color": "#333",
           "width": 2
          },
          "type": "line",
          "x0": 4.375,
          "x1": 3.8125,
          "y0": 2,
          "y1": 0.5
         },
         {
          "layer": "below",
          "line": {
           "color": "#333",
           "width": 2
          },
          "type": "line",
          "x0": 4.375,
          "x1": 4.9375,
          "y0": 2,
          "y1": 0.5
         },
         {
          "layer": "below",
          "line": {
           "color": "#333",
           "width": 2
          },
          "type": "line",
          "x0": 5.5,
          "x1": 7.75,
          "y0": 5,
          "y1": 3.5
         },
         {
          "layer": "below",
          "line": {
           "color": "#333",
           "width": 2
          },
          "type": "line",
          "x0": 7.75,
          "x1": 6.625,
          "y0": 3.5,
          "y1": 2
         },
         {
          "layer": "below",
          "line": {
           "color": "#333",
           "width": 2
          },
          "type": "line",
          "x0": 6.625,
          "x1": 6.0625,
          "y0": 2,
          "y1": 0.5
         },
         {
          "layer": "below",
          "line": {
           "color": "#333",
           "width": 2
          },
          "type": "line",
          "x0": 6.625,
          "x1": 7.1875,
          "y0": 2,
          "y1": 0.5
         },
         {
          "layer": "below",
          "line": {
           "color": "#333",
           "width": 2
          },
          "type": "line",
          "x0": 7.75,
          "x1": 8.875,
          "y0": 3.5,
          "y1": 2
         },
         {
          "layer": "below",
          "line": {
           "color": "#333",
           "width": 2
          },
          "type": "line",
          "x0": 8.875,
          "x1": 8.3125,
          "y0": 2,
          "y1": 0.5
         },
         {
          "layer": "below",
          "line": {
           "color": "#333",
           "width": 2
          },
          "type": "line",
          "x0": 8.3125,
          "x1": 8.03125,
          "y0": 0.5,
          "y1": -1
         },
         {
          "layer": "below",
          "line": {
           "color": "#333",
           "width": 2
          },
          "type": "line",
          "x0": 8.3125,
          "x1": 8.59375,
          "y0": 0.5,
          "y1": -1
         },
         {
          "layer": "below",
          "line": {
           "color": "#333",
           "width": 2
          },
          "type": "line",
          "x0": 8.875,
          "x1": 9.4375,
          "y0": 2,
          "y1": 0.5
         },
         {
          "layer": "below",
          "line": {
           "color": "#333",
           "width": 2
          },
          "type": "line",
          "x0": 9.4375,
          "x1": 9.15625,
          "y0": 0.5,
          "y1": -1
         },
         {
          "layer": "below",
          "line": {
           "color": "#333",
           "width": 2
          },
          "type": "line",
          "x0": 9.4375,
          "x1": 9.71875,
          "y0": 0.5,
          "y1": -1
         }
        ],
        "template": {
         "data": {
          "bar": [
           {
            "error_x": {
             "color": "#2a3f5f"
            },
            "error_y": {
             "color": "#2a3f5f"
            },
            "marker": {
             "line": {
              "color": "#E5ECF6",
              "width": 0.5
             },
             "pattern": {
              "fillmode": "overlay",
              "size": 10,
              "solidity": 0.2
             }
            },
            "type": "bar"
           }
          ],
          "barpolar": [
           {
            "marker": {
             "line": {
              "color": "#E5ECF6",
              "width": 0.5
             },
             "pattern": {
              "fillmode": "overlay",
              "size": 10,
              "solidity": 0.2
             }
            },
            "type": "barpolar"
           }
          ],
          "carpet": [
           {
            "aaxis": {
             "endlinecolor": "#2a3f5f",
             "gridcolor": "white",
             "linecolor": "white",
             "minorgridcolor": "white",
             "startlinecolor": "#2a3f5f"
            },
            "baxis": {
             "endlinecolor": "#2a3f5f",
             "gridcolor": "white",
             "linecolor": "white",
             "minorgridcolor": "white",
             "startlinecolor": "#2a3f5f"
            },
            "type": "carpet"
           }
          ],
          "choropleth": [
           {
            "colorbar": {
             "outlinewidth": 0,
             "ticks": ""
            },
            "type": "choropleth"
           }
          ],
          "contour": [
           {
            "colorbar": {
             "outlinewidth": 0,
             "ticks": ""
            },
            "colorscale": [
             [
              0,
              "#0d0887"
             ],
             [
              0.1111111111111111,
              "#46039f"
             ],
             [
              0.2222222222222222,
              "#7201a8"
             ],
             [
              0.3333333333333333,
              "#9c179e"
             ],
             [
              0.4444444444444444,
              "#bd3786"
             ],
             [
              0.5555555555555556,
              "#d8576b"
             ],
             [
              0.6666666666666666,
              "#ed7953"
             ],
             [
              0.7777777777777778,
              "#fb9f3a"
             ],
             [
              0.8888888888888888,
              "#fdca26"
             ],
             [
              1,
              "#f0f921"
             ]
            ],
            "type": "contour"
           }
          ],
          "contourcarpet": [
           {
            "colorbar": {
             "outlinewidth": 0,
             "ticks": ""
            },
            "type": "contourcarpet"
           }
          ],
          "heatmap": [
           {
            "colorbar": {
             "outlinewidth": 0,
             "ticks": ""
            },
            "colorscale": [
             [
              0,
              "#0d0887"
             ],
             [
              0.1111111111111111,
              "#46039f"
             ],
             [
              0.2222222222222222,
              "#7201a8"
             ],
             [
              0.3333333333333333,
              "#9c179e"
             ],
             [
              0.4444444444444444,
              "#bd3786"
             ],
             [
              0.5555555555555556,
              "#d8576b"
             ],
             [
              0.6666666666666666,
              "#ed7953"
             ],
             [
              0.7777777777777778,
              "#fb9f3a"
             ],
             [
              0.8888888888888888,
              "#fdca26"
             ],
             [
              1,
              "#f0f921"
             ]
            ],
            "type": "heatmap"
           }
          ],
          "heatmapgl": [
           {
            "colorbar": {
             "outlinewidth": 0,
             "ticks": ""
            },
            "colorscale": [
             [
              0,
              "#0d0887"
             ],
             [
              0.1111111111111111,
              "#46039f"
             ],
             [
              0.2222222222222222,
              "#7201a8"
             ],
             [
              0.3333333333333333,
              "#9c179e"
             ],
             [
              0.4444444444444444,
              "#bd3786"
             ],
             [
              0.5555555555555556,
              "#d8576b"
             ],
             [
              0.6666666666666666,
              "#ed7953"
             ],
             [
              0.7777777777777778,
              "#fb9f3a"
             ],
             [
              0.8888888888888888,
              "#fdca26"
             ],
             [
              1,
              "#f0f921"
             ]
            ],
            "type": "heatmapgl"
           }
          ],
          "histogram": [
           {
            "marker": {
             "pattern": {
              "fillmode": "overlay",
              "size": 10,
              "solidity": 0.2
             }
            },
            "type": "histogram"
           }
          ],
          "histogram2d": [
           {
            "colorbar": {
             "outlinewidth": 0,
             "ticks": ""
            },
            "colorscale": [
             [
              0,
              "#0d0887"
             ],
             [
              0.1111111111111111,
              "#46039f"
             ],
             [
              0.2222222222222222,
              "#7201a8"
             ],
             [
              0.3333333333333333,
              "#9c179e"
             ],
             [
              0.4444444444444444,
              "#bd3786"
             ],
             [
              0.5555555555555556,
              "#d8576b"
             ],
             [
              0.6666666666666666,
              "#ed7953"
             ],
             [
              0.7777777777777778,
              "#fb9f3a"
             ],
             [
              0.8888888888888888,
              "#fdca26"
             ],
             [
              1,
              "#f0f921"
             ]
            ],
            "type": "histogram2d"
           }
          ],
          "histogram2dcontour": [
           {
            "colorbar": {
             "outlinewidth": 0,
             "ticks": ""
            },
            "colorscale": [
             [
              0,
              "#0d0887"
             ],
             [
              0.1111111111111111,
              "#46039f"
             ],
             [
              0.2222222222222222,
              "#7201a8"
             ],
             [
              0.3333333333333333,
              "#9c179e"
             ],
             [
              0.4444444444444444,
              "#bd3786"
             ],
             [
              0.5555555555555556,
              "#d8576b"
             ],
             [
              0.6666666666666666,
              "#ed7953"
             ],
             [
              0.7777777777777778,
              "#fb9f3a"
             ],
             [
              0.8888888888888888,
              "#fdca26"
             ],
             [
              1,
              "#f0f921"
             ]
            ],
            "type": "histogram2dcontour"
           }
          ],
          "mesh3d": [
           {
            "colorbar": {
             "outlinewidth": 0,
             "ticks": ""
            },
            "type": "mesh3d"
           }
          ],
          "parcoords": [
           {
            "line": {
             "colorbar": {
              "outlinewidth": 0,
              "ticks": ""
             }
            },
            "type": "parcoords"
           }
          ],
          "pie": [
           {
            "automargin": true,
            "type": "pie"
           }
          ],
          "scatter": [
           {
            "fillpattern": {
             "fillmode": "overlay",
             "size": 10,
             "solidity": 0.2
            },
            "type": "scatter"
           }
          ],
          "scatter3d": [
           {
            "line": {
             "colorbar": {
              "outlinewidth": 0,
              "ticks": ""
             }
            },
            "marker": {
             "colorbar": {
              "outlinewidth": 0,
              "ticks": ""
             }
            },
            "type": "scatter3d"
           }
          ],
          "scattercarpet": [
           {
            "marker": {
             "colorbar": {
              "outlinewidth": 0,
              "ticks": ""
             }
            },
            "type": "scattercarpet"
           }
          ],
          "scattergeo": [
           {
            "marker": {
             "colorbar": {
              "outlinewidth": 0,
              "ticks": ""
             }
            },
            "type": "scattergeo"
           }
          ],
          "scattergl": [
           {
            "marker": {
             "colorbar": {
              "outlinewidth": 0,
              "ticks": ""
             }
            },
            "type": "scattergl"
           }
          ],
          "scattermapbox": [
           {
            "marker": {
             "colorbar": {
              "outlinewidth": 0,
              "ticks": ""
             }
            },
            "type": "scattermapbox"
           }
          ],
          "scatterpolar": [
           {
            "marker": {
             "colorbar": {
              "outlinewidth": 0,
              "ticks": ""
             }
            },
            "type": "scatterpolar"
           }
          ],
          "scatterpolargl": [
           {
            "marker": {
             "colorbar": {
              "outlinewidth": 0,
              "ticks": ""
             }
            },
            "type": "scatterpolargl"
           }
          ],
          "scatterternary": [
           {
            "marker": {
             "colorbar": {
              "outlinewidth": 0,
              "ticks": ""
             }
            },
            "type": "scatterternary"
           }
          ],
          "surface": [
           {
            "colorbar": {
             "outlinewidth": 0,
             "ticks": ""
            },
            "colorscale": [
             [
              0,
              "#0d0887"
             ],
             [
              0.1111111111111111,
              "#46039f"
             ],
             [
              0.2222222222222222,
              "#7201a8"
             ],
             [
              0.3333333333333333,
              "#9c179e"
             ],
             [
              0.4444444444444444,
              "#bd3786"
             ],
             [
              0.5555555555555556,
              "#d8576b"
             ],
             [
              0.6666666666666666,
              "#ed7953"
             ],
             [
              0.7777777777777778,
              "#fb9f3a"
             ],
             [
              0.8888888888888888,
              "#fdca26"
             ],
             [
              1,
              "#f0f921"
             ]
            ],
            "type": "surface"
           }
          ],
          "table": [
           {
            "cells": {
             "fill": {
              "color": "#EBF0F8"
             },
             "line": {
              "color": "white"
             }
            },
            "header": {
             "fill": {
              "color": "#C8D4E3"
             },
             "line": {
              "color": "white"
             }
            },
            "type": "table"
           }
          ]
         },
         "layout": {
          "annotationdefaults": {
           "arrowcolor": "#2a3f5f",
           "arrowhead": 0,
           "arrowwidth": 1
          },
          "autotypenumbers": "strict",
          "coloraxis": {
           "colorbar": {
            "outlinewidth": 0,
            "ticks": ""
           }
          },
          "colorscale": {
           "diverging": [
            [
             0,
             "#8e0152"
            ],
            [
             0.1,
             "#c51b7d"
            ],
            [
             0.2,
             "#de77ae"
            ],
            [
             0.3,
             "#f1b6da"
            ],
            [
             0.4,
             "#fde0ef"
            ],
            [
             0.5,
             "#f7f7f7"
            ],
            [
             0.6,
             "#e6f5d0"
            ],
            [
             0.7,
             "#b8e186"
            ],
            [
             0.8,
             "#7fbc41"
            ],
            [
             0.9,
             "#4d9221"
            ],
            [
             1,
             "#276419"
            ]
           ],
           "sequential": [
            [
             0,
             "#0d0887"
            ],
            [
             0.1111111111111111,
             "#46039f"
            ],
            [
             0.2222222222222222,
             "#7201a8"
            ],
            [
             0.3333333333333333,
             "#9c179e"
            ],
            [
             0.4444444444444444,
             "#bd3786"
            ],
            [
             0.5555555555555556,
             "#d8576b"
            ],
            [
             0.6666666666666666,
             "#ed7953"
            ],
            [
             0.7777777777777778,
             "#fb9f3a"
            ],
            [
             0.8888888888888888,
             "#fdca26"
            ],
            [
             1,
             "#f0f921"
            ]
           ],
           "sequentialminus": [
            [
             0,
             "#0d0887"
            ],
            [
             0.1111111111111111,
             "#46039f"
            ],
            [
             0.2222222222222222,
             "#7201a8"
            ],
            [
             0.3333333333333333,
             "#9c179e"
            ],
            [
             0.4444444444444444,
             "#bd3786"
            ],
            [
             0.5555555555555556,
             "#d8576b"
            ],
            [
             0.6666666666666666,
             "#ed7953"
            ],
            [
             0.7777777777777778,
             "#fb9f3a"
            ],
            [
             0.8888888888888888,
             "#fdca26"
            ],
            [
             1,
             "#f0f921"
            ]
           ]
          },
          "colorway": [
           "#636efa",
           "#EF553B",
           "#00cc96",
           "#ab63fa",
           "#FFA15A",
           "#19d3f3",
           "#FF6692",
           "#B6E880",
           "#FF97FF",
           "#FECB52"
          ],
          "font": {
           "color": "#2a3f5f"
          },
          "geo": {
           "bgcolor": "white",
           "lakecolor": "white",
           "landcolor": "#E5ECF6",
           "showlakes": true,
           "showland": true,
           "subunitcolor": "white"
          },
          "hoverlabel": {
           "align": "left"
          },
          "hovermode": "closest",
          "mapbox": {
           "style": "light"
          },
          "paper_bgcolor": "white",
          "plot_bgcolor": "#E5ECF6",
          "polar": {
           "angularaxis": {
            "gridcolor": "white",
            "linecolor": "white",
            "ticks": ""
           },
           "bgcolor": "#E5ECF6",
           "radialaxis": {
            "gridcolor": "white",
            "linecolor": "white",
            "ticks": ""
           }
          },
          "scene": {
           "xaxis": {
            "backgroundcolor": "#E5ECF6",
            "gridcolor": "white",
            "gridwidth": 2,
            "linecolor": "white",
            "showbackground": true,
            "ticks": "",
            "zerolinecolor": "white"
           },
           "yaxis": {
            "backgroundcolor": "#E5ECF6",
            "gridcolor": "white",
            "gridwidth": 2,
            "linecolor": "white",
            "showbackground": true,
            "ticks": "",
            "zerolinecolor": "white"
           },
           "zaxis": {
            "backgroundcolor": "#E5ECF6",
            "gridcolor": "white",
            "gridwidth": 2,
            "linecolor": "white",
            "showbackground": true,
            "ticks": "",
            "zerolinecolor": "white"
           }
          },
          "shapedefaults": {
           "line": {
            "color": "#2a3f5f"
           }
          },
          "ternary": {
           "aaxis": {
            "gridcolor": "white",
            "linecolor": "white",
            "ticks": ""
           },
           "baxis": {
            "gridcolor": "white",
            "linecolor": "white",
            "ticks": ""
           },
           "bgcolor": "#E5ECF6",
           "caxis": {
            "gridcolor": "white",
            "linecolor": "white",
            "ticks": ""
           }
          },
          "title": {
           "x": 0.05
          },
          "xaxis": {
           "automargin": true,
           "gridcolor": "white",
           "linecolor": "white",
           "ticks": "",
           "title": {
            "standoff": 15
           },
           "zerolinecolor": "white",
           "zerolinewidth": 2
          },
          "yaxis": {
           "automargin": true,
           "gridcolor": "white",
           "linecolor": "white",
           "ticks": "",
           "title": {
            "standoff": 15
           },
           "zerolinecolor": "white",
           "zerolinewidth": 2
          }
         }
        },
        "width": 1000,
        "xaxis": {
         "showgrid": false,
         "showline": false,
         "showticklabels": false,
         "zeroline": false
        },
        "yaxis": {
         "showgrid": false,
         "showline": false,
         "showticklabels": false,
         "zeroline": false
        }
       }
      }
     },
     "metadata": {},
     "output_type": "display_data"
    }
   ],
   "source": [
    "\n",
    "nodes1 = [node(name=str(i),son=[]) for i in range(len(uf.tree()))]\n",
    "for i in range(n):\n",
    "    nodes1[i].subson=[i];\n",
    "for i,j in enumerate(uf.tree()):\n",
    "    if(j!=-1):\n",
    "        nodes1[j].son.append(nodes1[i])\n",
    "    nodes1[i].value=torch.tensor(embeddings[i]);\n",
    "    nodes1[i].hyper=torch.tensor(embeddings[i])\n",
    "root = nodes1[-1];\n",
    "add_meta(root,meta_list2,[])\n",
    "show_tree(root,color=['#184e77','#1a759f','#168aad',\"#34a0a4\",'#52b69a','#99d98c','#76c893','#99d98c']).show_fig()\n",
    "remove_meta(root);"
   ]
  },
  {
   "cell_type": "code",
   "execution_count": 1175,
   "metadata": {},
   "outputs": [
    {
     "name": "stdout",
     "output_type": "stream",
     "text": [
      "28 121\n",
      "\t Epoch 0 | average train loss1: 0.427450\n"
     ]
    },
    {
     "name": "stdout",
     "output_type": "stream",
     "text": [
      "\t Epoch 0 | average train loss2: 0.398918\n",
      "\t Epoch 1 | average train loss1: 0.432769\n",
      "\t Epoch 1 | average train loss2: 0.394275\n",
      "\t Epoch 2 | average train loss1: 0.423827\n",
      "\t Epoch 2 | average train loss2: 0.394728\n"
     ]
    }
   ],
   "source": [
    "temp = rotate(nodes1,embeddings,3,n,similarities)\n",
    "for i in nodes1:\n",
    "    i.hyper = temp[int(i)]\n",
    "    i.value =  temp[int(i)]\n",
    "embeddings = temp.numpy();\n",
    "root = nodes1[-1]"
   ]
  },
  {
   "cell_type": "code",
   "execution_count": 1176,
   "metadata": {},
   "outputs": [
    {
     "data": {
      "text/plain": [
       "(tensor([1.2490], dtype=torch.float64),\n",
       " tensor([0.4629], dtype=torch.float64),\n",
       " tensor([1.2546], dtype=torch.float64))"
      ]
     },
     "execution_count": 1176,
     "metadata": {},
     "output_type": "execute_result"
    }
   ],
   "source": [
    "hyp_dist(nodes1[1].hyper,nodes1[6].hyper),hyp_dist(nodes1[2].hyper,nodes1[6].hyper),hyp_dist(nodes1[2].hyper,nodes1[1].hyper)"
   ]
  },
  {
   "cell_type": "code",
   "execution_count": 1177,
   "metadata": {},
   "outputs": [
    {
     "data": {
      "text/plain": [
       "(tensor([1.2486], dtype=torch.float64),\n",
       " tensor([0.3215], dtype=torch.float64),\n",
       " tensor([1.2480], dtype=torch.float64))"
      ]
     },
     "execution_count": 1177,
     "metadata": {},
     "output_type": "execute_result"
    }
   ],
   "source": [
    "hyp_dist(nodes1[0].hyper,nodes1[7].hyper),hyp_dist(nodes1[4].hyper,nodes1[7].hyper),hyp_dist(nodes1[0].hyper,nodes1[4].hyper)"
   ]
  },
  {
   "cell_type": "code",
   "execution_count": 1178,
   "metadata": {},
   "outputs": [
    {
     "name": "stdout",
     "output_type": "stream",
     "text": [
      "10 5\n",
      "11 6\n",
      "9 8\n",
      "13 3\n",
      "[16, 12, 1, 5, 0, 15, 6, 7, 14, 8, 2, 3, 4]\n",
      "48 93\n"
     ]
    },
    {
     "name": "stdout",
     "output_type": "stream",
     "text": [
      "\t Epoch 0 | average train loss1: 0.396438\n",
      "\t Epoch 0 | average train loss2: 0.379208\n",
      "\t Epoch 1 | average train loss1: 0.391861\n",
      "\t Epoch 1 | average train loss2: 0.380525\n",
      "\t Epoch 2 | average train loss1: 0.393710\n",
      "\t Epoch 2 | average train loss2: 0.378758\n",
      "{'empty': '#fff', 'Th2': '#1a759f'}\n"
     ]
    },
    {
     "data": {
      "application/vnd.plotly.v1+json": {
       "config": {
        "plotlyServerURL": "https://plot.ly"
       },
       "data": [
        {
         "hoverinfo": "text",
         "hovertext": [
          "16",
          "12",
          "15",
          "14"
         ],
         "legendgroup": "empty",
         "marker": {
          "color": "#fff",
          "size": 10,
          "symbol": "circle-dot"
         },
         "mode": "markers+text",
         "name": "empty",
         "type": "scatter",
         "x": [
          5.5,
          3.25,
          7.75,
          8.875
         ],
         "y": [
          5,
          3.5,
          3.5,
          2
         ]
        },
        {
         "hoverinfo": "text",
         "hovertext": [
          "1_Th2",
          "5_Th2",
          "0_Th2",
          "6_Th2",
          "7_Th2",
          "8_Th2",
          "2_Th2",
          "3_Th2",
          "4_Th2"
         ],
         "legendgroup": "Th2",
         "marker": {
          "color": "#1a759f",
          "size": 10,
          "symbol": "circle-dot"
         },
         "mode": "markers+text",
         "name": "Th2",
         "type": "scatter",
         "x": [
          2.125,
          4.375,
          4.375,
          6.625,
          6.625,
          8.3125,
          8.3125,
          9.4375,
          9.4375
         ],
         "y": [
          2,
          2,
          0.5,
          2,
          0.5,
          0.5,
          -1,
          0.5,
          -1
         ]
        }
       ],
       "layout": {
        "height": 500,
        "shapes": [
         {
          "layer": "below",
          "line": {
           "color": "#333",
           "width": 2
          },
          "type": "line",
          "x0": 5.5,
          "x1": 5.5,
          "y0": 5,
          "y1": 5
         },
         {
          "layer": "below",
          "line": {
           "color": "#333",
           "width": 2
          },
          "type": "line",
          "x0": 5.5,
          "x1": 3.25,
          "y0": 5,
          "y1": 3.5
         },
         {
          "layer": "below",
          "line": {
           "color": "#333",
           "width": 2
          },
          "type": "line",
          "x0": 3.25,
          "x1": 2.125,
          "y0": 3.5,
          "y1": 2
         },
         {
          "layer": "below",
          "line": {
           "color": "#333",
           "width": 2
          },
          "type": "line",
          "x0": 3.25,
          "x1": 4.375,
          "y0": 3.5,
          "y1": 2
         },
         {
          "layer": "below",
          "line": {
           "color": "#333",
           "width": 2
          },
          "type": "line",
          "x0": 4.375,
          "x1": 4.375,
          "y0": 2,
          "y1": 0.5
         },
         {
          "layer": "below",
          "line": {
           "color": "#333",
           "width": 2
          },
          "type": "line",
          "x0": 5.5,
          "x1": 7.75,
          "y0": 5,
          "y1": 3.5
         },
         {
          "layer": "below",
          "line": {
           "color": "#333",
           "width": 2
          },
          "type": "line",
          "x0": 7.75,
          "x1": 6.625,
          "y0": 3.5,
          "y1": 2
         },
         {
          "layer": "below",
          "line": {
           "color": "#333",
           "width": 2
          },
          "type": "line",
          "x0": 6.625,
          "x1": 6.625,
          "y0": 2,
          "y1": 0.5
         },
         {
          "layer": "below",
          "line": {
           "color": "#333",
           "width": 2
          },
          "type": "line",
          "x0": 7.75,
          "x1": 8.875,
          "y0": 3.5,
          "y1": 2
         },
         {
          "layer": "below",
          "line": {
           "color": "#333",
           "width": 2
          },
          "type": "line",
          "x0": 8.875,
          "x1": 8.3125,
          "y0": 2,
          "y1": 0.5
         },
         {
          "layer": "below",
          "line": {
           "color": "#333",
           "width": 2
          },
          "type": "line",
          "x0": 8.3125,
          "x1": 8.3125,
          "y0": 0.5,
          "y1": -1
         },
         {
          "layer": "below",
          "line": {
           "color": "#333",
           "width": 2
          },
          "type": "line",
          "x0": 8.875,
          "x1": 9.4375,
          "y0": 2,
          "y1": 0.5
         },
         {
          "layer": "below",
          "line": {
           "color": "#333",
           "width": 2
          },
          "type": "line",
          "x0": 9.4375,
          "x1": 9.4375,
          "y0": 0.5,
          "y1": -1
         }
        ],
        "template": {
         "data": {
          "bar": [
           {
            "error_x": {
             "color": "#2a3f5f"
            },
            "error_y": {
             "color": "#2a3f5f"
            },
            "marker": {
             "line": {
              "color": "#E5ECF6",
              "width": 0.5
             },
             "pattern": {
              "fillmode": "overlay",
              "size": 10,
              "solidity": 0.2
             }
            },
            "type": "bar"
           }
          ],
          "barpolar": [
           {
            "marker": {
             "line": {
              "color": "#E5ECF6",
              "width": 0.5
             },
             "pattern": {
              "fillmode": "overlay",
              "size": 10,
              "solidity": 0.2
             }
            },
            "type": "barpolar"
           }
          ],
          "carpet": [
           {
            "aaxis": {
             "endlinecolor": "#2a3f5f",
             "gridcolor": "white",
             "linecolor": "white",
             "minorgridcolor": "white",
             "startlinecolor": "#2a3f5f"
            },
            "baxis": {
             "endlinecolor": "#2a3f5f",
             "gridcolor": "white",
             "linecolor": "white",
             "minorgridcolor": "white",
             "startlinecolor": "#2a3f5f"
            },
            "type": "carpet"
           }
          ],
          "choropleth": [
           {
            "colorbar": {
             "outlinewidth": 0,
             "ticks": ""
            },
            "type": "choropleth"
           }
          ],
          "contour": [
           {
            "colorbar": {
             "outlinewidth": 0,
             "ticks": ""
            },
            "colorscale": [
             [
              0,
              "#0d0887"
             ],
             [
              0.1111111111111111,
              "#46039f"
             ],
             [
              0.2222222222222222,
              "#7201a8"
             ],
             [
              0.3333333333333333,
              "#9c179e"
             ],
             [
              0.4444444444444444,
              "#bd3786"
             ],
             [
              0.5555555555555556,
              "#d8576b"
             ],
             [
              0.6666666666666666,
              "#ed7953"
             ],
             [
              0.7777777777777778,
              "#fb9f3a"
             ],
             [
              0.8888888888888888,
              "#fdca26"
             ],
             [
              1,
              "#f0f921"
             ]
            ],
            "type": "contour"
           }
          ],
          "contourcarpet": [
           {
            "colorbar": {
             "outlinewidth": 0,
             "ticks": ""
            },
            "type": "contourcarpet"
           }
          ],
          "heatmap": [
           {
            "colorbar": {
             "outlinewidth": 0,
             "ticks": ""
            },
            "colorscale": [
             [
              0,
              "#0d0887"
             ],
             [
              0.1111111111111111,
              "#46039f"
             ],
             [
              0.2222222222222222,
              "#7201a8"
             ],
             [
              0.3333333333333333,
              "#9c179e"
             ],
             [
              0.4444444444444444,
              "#bd3786"
             ],
             [
              0.5555555555555556,
              "#d8576b"
             ],
             [
              0.6666666666666666,
              "#ed7953"
             ],
             [
              0.7777777777777778,
              "#fb9f3a"
             ],
             [
              0.8888888888888888,
              "#fdca26"
             ],
             [
              1,
              "#f0f921"
             ]
            ],
            "type": "heatmap"
           }
          ],
          "heatmapgl": [
           {
            "colorbar": {
             "outlinewidth": 0,
             "ticks": ""
            },
            "colorscale": [
             [
              0,
              "#0d0887"
             ],
             [
              0.1111111111111111,
              "#46039f"
             ],
             [
              0.2222222222222222,
              "#7201a8"
             ],
             [
              0.3333333333333333,
              "#9c179e"
             ],
             [
              0.4444444444444444,
              "#bd3786"
             ],
             [
              0.5555555555555556,
              "#d8576b"
             ],
             [
              0.6666666666666666,
              "#ed7953"
             ],
             [
              0.7777777777777778,
              "#fb9f3a"
             ],
             [
              0.8888888888888888,
              "#fdca26"
             ],
             [
              1,
              "#f0f921"
             ]
            ],
            "type": "heatmapgl"
           }
          ],
          "histogram": [
           {
            "marker": {
             "pattern": {
              "fillmode": "overlay",
              "size": 10,
              "solidity": 0.2
             }
            },
            "type": "histogram"
           }
          ],
          "histogram2d": [
           {
            "colorbar": {
             "outlinewidth": 0,
             "ticks": ""
            },
            "colorscale": [
             [
              0,
              "#0d0887"
             ],
             [
              0.1111111111111111,
              "#46039f"
             ],
             [
              0.2222222222222222,
              "#7201a8"
             ],
             [
              0.3333333333333333,
              "#9c179e"
             ],
             [
              0.4444444444444444,
              "#bd3786"
             ],
             [
              0.5555555555555556,
              "#d8576b"
             ],
             [
              0.6666666666666666,
              "#ed7953"
             ],
             [
              0.7777777777777778,
              "#fb9f3a"
             ],
             [
              0.8888888888888888,
              "#fdca26"
             ],
             [
              1,
              "#f0f921"
             ]
            ],
            "type": "histogram2d"
           }
          ],
          "histogram2dcontour": [
           {
            "colorbar": {
             "outlinewidth": 0,
             "ticks": ""
            },
            "colorscale": [
             [
              0,
              "#0d0887"
             ],
             [
              0.1111111111111111,
              "#46039f"
             ],
             [
              0.2222222222222222,
              "#7201a8"
             ],
             [
              0.3333333333333333,
              "#9c179e"
             ],
             [
              0.4444444444444444,
              "#bd3786"
             ],
             [
              0.5555555555555556,
              "#d8576b"
             ],
             [
              0.6666666666666666,
              "#ed7953"
             ],
             [
              0.7777777777777778,
              "#fb9f3a"
             ],
             [
              0.8888888888888888,
              "#fdca26"
             ],
             [
              1,
              "#f0f921"
             ]
            ],
            "type": "histogram2dcontour"
           }
          ],
          "mesh3d": [
           {
            "colorbar": {
             "outlinewidth": 0,
             "ticks": ""
            },
            "type": "mesh3d"
           }
          ],
          "parcoords": [
           {
            "line": {
             "colorbar": {
              "outlinewidth": 0,
              "ticks": ""
             }
            },
            "type": "parcoords"
           }
          ],
          "pie": [
           {
            "automargin": true,
            "type": "pie"
           }
          ],
          "scatter": [
           {
            "fillpattern": {
             "fillmode": "overlay",
             "size": 10,
             "solidity": 0.2
            },
            "type": "scatter"
           }
          ],
          "scatter3d": [
           {
            "line": {
             "colorbar": {
              "outlinewidth": 0,
              "ticks": ""
             }
            },
            "marker": {
             "colorbar": {
              "outlinewidth": 0,
              "ticks": ""
             }
            },
            "type": "scatter3d"
           }
          ],
          "scattercarpet": [
           {
            "marker": {
             "colorbar": {
              "outlinewidth": 0,
              "ticks": ""
             }
            },
            "type": "scattercarpet"
           }
          ],
          "scattergeo": [
           {
            "marker": {
             "colorbar": {
              "outlinewidth": 0,
              "ticks": ""
             }
            },
            "type": "scattergeo"
           }
          ],
          "scattergl": [
           {
            "marker": {
             "colorbar": {
              "outlinewidth": 0,
              "ticks": ""
             }
            },
            "type": "scattergl"
           }
          ],
          "scattermapbox": [
           {
            "marker": {
             "colorbar": {
              "outlinewidth": 0,
              "ticks": ""
             }
            },
            "type": "scattermapbox"
           }
          ],
          "scatterpolar": [
           {
            "marker": {
             "colorbar": {
              "outlinewidth": 0,
              "ticks": ""
             }
            },
            "type": "scatterpolar"
           }
          ],
          "scatterpolargl": [
           {
            "marker": {
             "colorbar": {
              "outlinewidth": 0,
              "ticks": ""
             }
            },
            "type": "scatterpolargl"
           }
          ],
          "scatterternary": [
           {
            "marker": {
             "colorbar": {
              "outlinewidth": 0,
              "ticks": ""
             }
            },
            "type": "scatterternary"
           }
          ],
          "surface": [
           {
            "colorbar": {
             "outlinewidth": 0,
             "ticks": ""
            },
            "colorscale": [
             [
              0,
              "#0d0887"
             ],
             [
              0.1111111111111111,
              "#46039f"
             ],
             [
              0.2222222222222222,
              "#7201a8"
             ],
             [
              0.3333333333333333,
              "#9c179e"
             ],
             [
              0.4444444444444444,
              "#bd3786"
             ],
             [
              0.5555555555555556,
              "#d8576b"
             ],
             [
              0.6666666666666666,
              "#ed7953"
             ],
             [
              0.7777777777777778,
              "#fb9f3a"
             ],
             [
              0.8888888888888888,
              "#fdca26"
             ],
             [
              1,
              "#f0f921"
             ]
            ],
            "type": "surface"
           }
          ],
          "table": [
           {
            "cells": {
             "fill": {
              "color": "#EBF0F8"
             },
             "line": {
              "color": "white"
             }
            },
            "header": {
             "fill": {
              "color": "#C8D4E3"
             },
             "line": {
              "color": "white"
             }
            },
            "type": "table"
           }
          ]
         },
         "layout": {
          "annotationdefaults": {
           "arrowcolor": "#2a3f5f",
           "arrowhead": 0,
           "arrowwidth": 1
          },
          "autotypenumbers": "strict",
          "coloraxis": {
           "colorbar": {
            "outlinewidth": 0,
            "ticks": ""
           }
          },
          "colorscale": {
           "diverging": [
            [
             0,
             "#8e0152"
            ],
            [
             0.1,
             "#c51b7d"
            ],
            [
             0.2,
             "#de77ae"
            ],
            [
             0.3,
             "#f1b6da"
            ],
            [
             0.4,
             "#fde0ef"
            ],
            [
             0.5,
             "#f7f7f7"
            ],
            [
             0.6,
             "#e6f5d0"
            ],
            [
             0.7,
             "#b8e186"
            ],
            [
             0.8,
             "#7fbc41"
            ],
            [
             0.9,
             "#4d9221"
            ],
            [
             1,
             "#276419"
            ]
           ],
           "sequential": [
            [
             0,
             "#0d0887"
            ],
            [
             0.1111111111111111,
             "#46039f"
            ],
            [
             0.2222222222222222,
             "#7201a8"
            ],
            [
             0.3333333333333333,
             "#9c179e"
            ],
            [
             0.4444444444444444,
             "#bd3786"
            ],
            [
             0.5555555555555556,
             "#d8576b"
            ],
            [
             0.6666666666666666,
             "#ed7953"
            ],
            [
             0.7777777777777778,
             "#fb9f3a"
            ],
            [
             0.8888888888888888,
             "#fdca26"
            ],
            [
             1,
             "#f0f921"
            ]
           ],
           "sequentialminus": [
            [
             0,
             "#0d0887"
            ],
            [
             0.1111111111111111,
             "#46039f"
            ],
            [
             0.2222222222222222,
             "#7201a8"
            ],
            [
             0.3333333333333333,
             "#9c179e"
            ],
            [
             0.4444444444444444,
             "#bd3786"
            ],
            [
             0.5555555555555556,
             "#d8576b"
            ],
            [
             0.6666666666666666,
             "#ed7953"
            ],
            [
             0.7777777777777778,
             "#fb9f3a"
            ],
            [
             0.8888888888888888,
             "#fdca26"
            ],
            [
             1,
             "#f0f921"
            ]
           ]
          },
          "colorway": [
           "#636efa",
           "#EF553B",
           "#00cc96",
           "#ab63fa",
           "#FFA15A",
           "#19d3f3",
           "#FF6692",
           "#B6E880",
           "#FF97FF",
           "#FECB52"
          ],
          "font": {
           "color": "#2a3f5f"
          },
          "geo": {
           "bgcolor": "white",
           "lakecolor": "white",
           "landcolor": "#E5ECF6",
           "showlakes": true,
           "showland": true,
           "subunitcolor": "white"
          },
          "hoverlabel": {
           "align": "left"
          },
          "hovermode": "closest",
          "mapbox": {
           "style": "light"
          },
          "paper_bgcolor": "white",
          "plot_bgcolor": "#E5ECF6",
          "polar": {
           "angularaxis": {
            "gridcolor": "white",
            "linecolor": "white",
            "ticks": ""
           },
           "bgcolor": "#E5ECF6",
           "radialaxis": {
            "gridcolor": "white",
            "linecolor": "white",
            "ticks": ""
           }
          },
          "scene": {
           "xaxis": {
            "backgroundcolor": "#E5ECF6",
            "gridcolor": "white",
            "gridwidth": 2,
            "linecolor": "white",
            "showbackground": true,
            "ticks": "",
            "zerolinecolor": "white"
           },
           "yaxis": {
            "backgroundcolor": "#E5ECF6",
            "gridcolor": "white",
            "gridwidth": 2,
            "linecolor": "white",
            "showbackground": true,
            "ticks": "",
            "zerolinecolor": "white"
           },
           "zaxis": {
            "backgroundcolor": "#E5ECF6",
            "gridcolor": "white",
            "gridwidth": 2,
            "linecolor": "white",
            "showbackground": true,
            "ticks": "",
            "zerolinecolor": "white"
           }
          },
          "shapedefaults": {
           "line": {
            "color": "#2a3f5f"
           }
          },
          "ternary": {
           "aaxis": {
            "gridcolor": "white",
            "linecolor": "white",
            "ticks": ""
           },
           "baxis": {
            "gridcolor": "white",
            "linecolor": "white",
            "ticks": ""
           },
           "bgcolor": "#E5ECF6",
           "caxis": {
            "gridcolor": "white",
            "linecolor": "white",
            "ticks": ""
           }
          },
          "title": {
           "x": 0.05
          },
          "xaxis": {
           "automargin": true,
           "gridcolor": "white",
           "linecolor": "white",
           "ticks": "",
           "title": {
            "standoff": 15
           },
           "zerolinecolor": "white",
           "zerolinewidth": 2
          },
          "yaxis": {
           "automargin": true,
           "gridcolor": "white",
           "linecolor": "white",
           "ticks": "",
           "title": {
            "standoff": 15
           },
           "zerolinecolor": "white",
           "zerolinewidth": 2
          }
         }
        },
        "width": 1000,
        "xaxis": {
         "showgrid": false,
         "showline": false,
         "showticklabels": false,
         "zeroline": false
        },
        "yaxis": {
         "showgrid": false,
         "showline": false,
         "showticklabels": false,
         "zeroline": false
        }
       }
      }
     },
     "metadata": {},
     "output_type": "display_data"
    }
   ],
   "source": [
    "temp,root = merge_points(similarities,root,nodes1,embeddings,3,2,2,n)\n",
    "for i in nodes1:\n",
    "    i.hyper = temp[int(i)]\n",
    "    i.value =  temp[int(i)]\n",
    "embeddings = temp.numpy();\n",
    "add_meta(root,meta_list2,[])\n",
    "show_tree(root,color=['#184e77','#1a759f','#168aad',\"#34a0a4\",'#52b69a','#99d98c','#76c893','#99d98c']).show_fig()\n",
    "remove_meta(root);"
   ]
  },
  {
   "cell_type": "code",
   "execution_count": 1179,
   "metadata": {},
   "outputs": [],
   "source": [
    "names = [];\n",
    "fathers = [];\n",
    "xys = [];\n",
    "search_merge_tree(root,-1,0,names,fathers,xys)\n",
    "np.save('./datas/impute/2/'+\"dataname_merge.npy\",names)\n",
    "np.save('./datas/impute/2/'+\"datalink_merge.npy\",fathers)\n",
    "np.save('./datas/impute/2/'+\"dataxy_merge.npy\",[i.numpy() for i in xys]) "
   ]
  },
  {
   "cell_type": "code",
   "execution_count": null,
   "metadata": {},
   "outputs": [],
   "source": []
  },
  {
   "cell_type": "code",
   "execution_count": 1180,
   "metadata": {},
   "outputs": [
    {
     "name": "stderr",
     "output_type": "stream",
     "text": [
      "/Users/dongjiajie/Desktop/alignment/fyp/hyperalignment/final/alignment.py:797: DeprecationWarning:\n",
      "\n",
      "`np.int` is a deprecated alias for the builtin `int`. To silence this warning, use `int` by itself. Doing this will not modify any behavior and is safe. When replacing `np.int`, you may wish to use e.g. `np.int64` or `np.int32` to specify the precision. If you wish to review your current use, check the release note link for additional information.\n",
      "Deprecated in NumPy 1.20; for more details and guidance: https://numpy.org/devdocs/release/1.20.0-notes.html#deprecations\n",
      "\n",
      "/Users/dongjiajie/Desktop/alignment/fyp/hyperalignment/final/alignment.py:797: DeprecationWarning:\n",
      "\n",
      "`np.int` is a deprecated alias for the builtin `int`. To silence this warning, use `int` by itself. Doing this will not modify any behavior and is safe. When replacing `np.int`, you may wish to use e.g. `np.int64` or `np.int32` to specify the precision. If you wish to review your current use, check the release note link for additional information.\n",
      "Deprecated in NumPy 1.20; for more details and guidance: https://numpy.org/devdocs/release/1.20.0-notes.html#deprecations\n",
      "\n"
     ]
    },
    {
     "name": "stdout",
     "output_type": "stream",
     "text": [
      "The mininum cost for alignment is 53.13333333333333\n",
      "The alignment edges list is [('70', '16'), ('64', '15'), ('62', '14'), ('46', '3_Th2'), ('23_Th2', '4_Th2'), ('27_Th2', '8_Th2'), ('24_Th2', '2_Th2'), ('4_Th2', '6_Th2'), ('0_Th2', '7_Th2'), ('56', '12'), ('31_CD4Tn', '5_Th2'), ('6_CD4Tn', '0_Th2'), ('25_CD4Tn', '1_Th2')]\n",
      "average cost for one node:0.748356807511737\n",
      "\n",
      "correct alignment rate:0.625\n"
     ]
    }
   ],
   "source": [
    "nodes1 = build_hyper_tree_from_folder('./datas/impute/1/',True)\n",
    "nodes2 = build_hyper_tree_from_folder('./datas/impute/2/',True)\n",
    "nodes_merge1 = [];\n",
    "nodes_merge2 = [];\n",
    "add_meta(nodes1[0],meta_list1,[])\n",
    "add_meta(nodes2[0],meta_list2,[])\n",
    "\n",
    "        \n",
    "\n",
    "rate,anslist,ans = run_alignment(nodes1,nodes2,'./datas/impute/1/','./datas/impute/2/',meta_list1,meta_list2);\n"
   ]
  },
  {
   "cell_type": "code",
   "execution_count": 1181,
   "metadata": {},
   "outputs": [
    {
     "data": {
      "text/plain": [
       "0.8571428571428571"
      ]
     },
     "execution_count": 1181,
     "metadata": {},
     "output_type": "execute_result"
    }
   ],
   "source": [
    "0.8571428571428571"
   ]
  },
  {
   "cell_type": "code",
   "execution_count": 1182,
   "metadata": {},
   "outputs": [
    {
     "data": {
      "text/plain": [
       "[('70', '16'),\n",
       " ('64', '15'),\n",
       " ('62', '14'),\n",
       " ('46', '3_Th2'),\n",
       " ('23_Th2', '4_Th2'),\n",
       " ('27_Th2', '8_Th2'),\n",
       " ('24_Th2', '2_Th2'),\n",
       " ('4_Th2', '6_Th2'),\n",
       " ('0_Th2', '7_Th2'),\n",
       " ('56', '12'),\n",
       " ('31_CD4Tn', '5_Th2'),\n",
       " ('6_CD4Tn', '0_Th2'),\n",
       " ('25_CD4Tn', '1_Th2')]"
      ]
     },
     "execution_count": 1182,
     "metadata": {},
     "output_type": "execute_result"
    }
   ],
   "source": [
    "ans"
   ]
  },
  {
   "cell_type": "code",
   "execution_count": 1183,
   "metadata": {},
   "outputs": [
    {
     "data": {
      "text/plain": [
       "['Th2',\n",
       " 'Tfh',\n",
       " 'Th2',\n",
       " 'Th17',\n",
       " 'Th2',\n",
       " 'Th17',\n",
       " 'CD4Tn',\n",
       " 'Tfh',\n",
       " 'Tfh',\n",
       " 'CD4Tn',\n",
       " 'CD4Tn',\n",
       " 'Th17',\n",
       " 'Th2',\n",
       " 'Th17',\n",
       " 'Tfh',\n",
       " 'Tfh',\n",
       " 'CD4Tn',\n",
       " 'Tfh',\n",
       " 'Th17',\n",
       " 'Th17',\n",
       " 'Tfh',\n",
       " 'Th17',\n",
       " 'CD4Tn',\n",
       " 'Th2',\n",
       " 'Th2',\n",
       " 'CD4Tn',\n",
       " 'Th17',\n",
       " 'Th2',\n",
       " 'Tfh',\n",
       " 'CD4Tn',\n",
       " 'CD4Tn',\n",
       " 'CD4Tn',\n",
       " 'CD4Tn',\n",
       " 'Th2',\n",
       " 'CD4Tn',\n",
       " 'Th2']"
      ]
     },
     "execution_count": 1183,
     "metadata": {},
     "output_type": "execute_result"
    }
   ],
   "source": [
    "meta_list1"
   ]
  },
  {
   "cell_type": "code",
   "execution_count": 1184,
   "metadata": {},
   "outputs": [
    {
     "data": {
      "text/plain": [
       "['Th2', 'Th2', 'Th2', 'Th2', 'Th2', 'Th2', 'Th2', 'Th2', 'Th2']"
      ]
     },
     "execution_count": 1184,
     "metadata": {},
     "output_type": "execute_result"
    }
   ],
   "source": [
    "meta_list2"
   ]
  },
  {
   "cell_type": "code",
   "execution_count": 1185,
   "metadata": {},
   "outputs": [
    {
     "data": {
      "text/plain": [
       "(58, 13)"
      ]
     },
     "execution_count": 1185,
     "metadata": {},
     "output_type": "execute_result"
    }
   ],
   "source": [
    "len(nodes1),len(nodes2)"
   ]
  },
  {
   "cell_type": "code",
   "execution_count": null,
   "metadata": {},
   "outputs": [],
   "source": []
  },
  {
   "cell_type": "code",
   "execution_count": null,
   "metadata": {},
   "outputs": [],
   "source": []
  },
  {
   "cell_type": "code",
   "execution_count": null,
   "metadata": {},
   "outputs": [],
   "source": []
  }
 ],
 "metadata": {
  "kernelspec": {
   "display_name": "base",
   "language": "python",
   "name": "python3"
  },
  "language_info": {
   "codemirror_mode": {
    "name": "ipython",
    "version": 3
   },
   "file_extension": ".py",
   "mimetype": "text/x-python",
   "name": "python",
   "nbconvert_exporter": "python",
   "pygments_lexer": "ipython3",
   "version": "3.8.16"
  }
 },
 "nbformat": 4,
 "nbformat_minor": 2
}
