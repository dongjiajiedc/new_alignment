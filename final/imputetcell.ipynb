{
 "cells": [
  {
   "cell_type": "code",
   "execution_count": 1,
   "metadata": {},
   "outputs": [],
   "source": [
    "from hyper import *\n",
    "from alignment import *\n",
    "from datasets.preprecossing import *\n",
    "from core import *\n",
    "from datasets.loading import *\n",
    "from datasets.hc_dataset import *\n",
    "from datasets.balance_dataset import *\n",
    "from utils.linkage import *\n",
    "from model.balancehc import balancehc\n",
    "\n",
    "from utils.poincare import *\n",
    "import scib\n",
    "import shutil\n",
    "\n"
   ]
  },
  {
   "cell_type": "code",
   "execution_count": 2,
   "metadata": {},
   "outputs": [],
   "source": [
    "cell_path1 = './datas/321/Tcell_raw_counts02_v2.h5ad'\n",
    "folder_path1 = './datas/321/'\n",
    "radius1 = 0\n",
    "c1 =0\n",
    "epoches1 =  50\n",
    "epoches2 =  10\n",
    "contin = False\n",
    "resolution=2\n",
    "method='average'\n",
    "alignment=1\n",
    "n_pca=50\n",
    "meta_col = 'Celltype..major.lineage.'\n",
    "ms = False\n"
   ]
  },
  {
   "cell_type": "code",
   "execution_count": 3,
   "metadata": {},
   "outputs": [
    {
     "name": "stderr",
     "output_type": "stream",
     "text": [
      "/Users/dongjiajie/opt/anaconda3/lib/python3.8/site-packages/anndata/_io/specs/methods.py:584: OldFormatWarning: Element '/obs/__categories/Sample name' was written without encoding metadata.\n",
      "  categories = read_elem(categories_dset)\n",
      "/Users/dongjiajie/opt/anaconda3/lib/python3.8/site-packages/anndata/_io/specs/methods.py:587: OldFormatWarning: Element '/obs/Sample name' was written without encoding metadata.\n",
      "  read_elem(dataset), categories, ordered=ordered\n",
      "/Users/dongjiajie/opt/anaconda3/lib/python3.8/site-packages/anndata/_io/specs/methods.py:584: OldFormatWarning: Element '/obs/__categories/Diagnosis' was written without encoding metadata.\n",
      "  categories = read_elem(categories_dset)\n",
      "/Users/dongjiajie/opt/anaconda3/lib/python3.8/site-packages/anndata/_io/specs/methods.py:587: OldFormatWarning: Element '/obs/Diagnosis' was written without encoding metadata.\n",
      "  read_elem(dataset), categories, ordered=ordered\n",
      "/Users/dongjiajie/opt/anaconda3/lib/python3.8/site-packages/anndata/_io/specs/methods.py:584: OldFormatWarning: Element '/obs/__categories/Age' was written without encoding metadata.\n",
      "  categories = read_elem(categories_dset)\n",
      "/Users/dongjiajie/opt/anaconda3/lib/python3.8/site-packages/anndata/_io/specs/methods.py:587: OldFormatWarning: Element '/obs/Age' was written without encoding metadata.\n",
      "  read_elem(dataset), categories, ordered=ordered\n",
      "/Users/dongjiajie/opt/anaconda3/lib/python3.8/site-packages/anndata/_io/specs/methods.py:584: OldFormatWarning: Element '/obs/__categories/sample name' was written without encoding metadata.\n",
      "  categories = read_elem(categories_dset)\n",
      "/Users/dongjiajie/opt/anaconda3/lib/python3.8/site-packages/anndata/_io/specs/methods.py:587: OldFormatWarning: Element '/obs/sample name' was written without encoding metadata.\n",
      "  read_elem(dataset), categories, ordered=ordered\n",
      "/Users/dongjiajie/opt/anaconda3/lib/python3.8/site-packages/anndata/_io/specs/methods.py:584: OldFormatWarning: Element '/obs/__categories/Region code' was written without encoding metadata.\n",
      "  categories = read_elem(categories_dset)\n",
      "/Users/dongjiajie/opt/anaconda3/lib/python3.8/site-packages/anndata/_io/specs/methods.py:587: OldFormatWarning: Element '/obs/Region code' was written without encoding metadata.\n",
      "  read_elem(dataset), categories, ordered=ordered\n",
      "/Users/dongjiajie/opt/anaconda3/lib/python3.8/site-packages/anndata/_io/specs/methods.py:584: OldFormatWarning: Element '/obs/__categories/Fraction' was written without encoding metadata.\n",
      "  categories = read_elem(categories_dset)\n",
      "/Users/dongjiajie/opt/anaconda3/lib/python3.8/site-packages/anndata/_io/specs/methods.py:587: OldFormatWarning: Element '/obs/Fraction' was written without encoding metadata.\n",
      "  read_elem(dataset), categories, ordered=ordered\n",
      "/Users/dongjiajie/opt/anaconda3/lib/python3.8/site-packages/anndata/_io/specs/methods.py:584: OldFormatWarning: Element '/obs/__categories/Region' was written without encoding metadata.\n",
      "  categories = read_elem(categories_dset)\n",
      "/Users/dongjiajie/opt/anaconda3/lib/python3.8/site-packages/anndata/_io/specs/methods.py:587: OldFormatWarning: Element '/obs/Region' was written without encoding metadata.\n",
      "  read_elem(dataset), categories, ordered=ordered\n",
      "/Users/dongjiajie/opt/anaconda3/lib/python3.8/site-packages/anndata/_io/specs/methods.py:584: OldFormatWarning: Element '/obs/__categories/10X' was written without encoding metadata.\n",
      "  categories = read_elem(categories_dset)\n",
      "/Users/dongjiajie/opt/anaconda3/lib/python3.8/site-packages/anndata/_io/specs/methods.py:587: OldFormatWarning: Element '/obs/10X' was written without encoding metadata.\n",
      "  read_elem(dataset), categories, ordered=ordered\n",
      "/Users/dongjiajie/opt/anaconda3/lib/python3.8/site-packages/anndata/_io/specs/methods.py:584: OldFormatWarning: Element '/obs/__categories/batch' was written without encoding metadata.\n",
      "  categories = read_elem(categories_dset)\n",
      "/Users/dongjiajie/opt/anaconda3/lib/python3.8/site-packages/anndata/_io/specs/methods.py:587: OldFormatWarning: Element '/obs/batch' was written without encoding metadata.\n",
      "  read_elem(dataset), categories, ordered=ordered\n",
      "/Users/dongjiajie/opt/anaconda3/lib/python3.8/site-packages/anndata/_io/specs/methods.py:590: OldFormatWarning: Element '/obs/n_genes' was written without encoding metadata.\n",
      "  return read_elem(dataset)\n",
      "/Users/dongjiajie/opt/anaconda3/lib/python3.8/site-packages/anndata/_io/specs/methods.py:590: OldFormatWarning: Element '/obs/n_genes_by_counts' was written without encoding metadata.\n",
      "  return read_elem(dataset)\n",
      "/Users/dongjiajie/opt/anaconda3/lib/python3.8/site-packages/anndata/_io/specs/methods.py:590: OldFormatWarning: Element '/obs/total_counts' was written without encoding metadata.\n",
      "  return read_elem(dataset)\n",
      "/Users/dongjiajie/opt/anaconda3/lib/python3.8/site-packages/anndata/_io/specs/methods.py:590: OldFormatWarning: Element '/obs/total_counts_mt' was written without encoding metadata.\n",
      "  return read_elem(dataset)\n",
      "/Users/dongjiajie/opt/anaconda3/lib/python3.8/site-packages/anndata/_io/specs/methods.py:590: OldFormatWarning: Element '/obs/pct_counts_mt' was written without encoding metadata.\n",
      "  return read_elem(dataset)\n",
      "/Users/dongjiajie/opt/anaconda3/lib/python3.8/site-packages/anndata/_io/specs/methods.py:590: OldFormatWarning: Element '/obs/doublet_scores' was written without encoding metadata.\n",
      "  return read_elem(dataset)\n",
      "/Users/dongjiajie/opt/anaconda3/lib/python3.8/site-packages/anndata/_io/specs/methods.py:590: OldFormatWarning: Element '/obs/predicted_doublets' was written without encoding metadata.\n",
      "  return read_elem(dataset)\n",
      "/Users/dongjiajie/opt/anaconda3/lib/python3.8/site-packages/anndata/_io/specs/methods.py:590: OldFormatWarning: Element '/obs/S_score' was written without encoding metadata.\n",
      "  return read_elem(dataset)\n",
      "/Users/dongjiajie/opt/anaconda3/lib/python3.8/site-packages/anndata/_io/specs/methods.py:590: OldFormatWarning: Element '/obs/G2M_score' was written without encoding metadata.\n",
      "  return read_elem(dataset)\n",
      "/Users/dongjiajie/opt/anaconda3/lib/python3.8/site-packages/anndata/_io/specs/methods.py:584: OldFormatWarning: Element '/obs/__categories/phase' was written without encoding metadata.\n",
      "  categories = read_elem(categories_dset)\n",
      "/Users/dongjiajie/opt/anaconda3/lib/python3.8/site-packages/anndata/_io/specs/methods.py:587: OldFormatWarning: Element '/obs/phase' was written without encoding metadata.\n",
      "  read_elem(dataset), categories, ordered=ordered\n",
      "/Users/dongjiajie/opt/anaconda3/lib/python3.8/site-packages/anndata/_io/specs/methods.py:584: OldFormatWarning: Element '/obs/__categories/productive' was written without encoding metadata.\n",
      "  categories = read_elem(categories_dset)\n",
      "/Users/dongjiajie/opt/anaconda3/lib/python3.8/site-packages/anndata/_io/specs/methods.py:587: OldFormatWarning: Element '/obs/productive' was written without encoding metadata.\n",
      "  read_elem(dataset), categories, ordered=ordered\n",
      "/Users/dongjiajie/opt/anaconda3/lib/python3.8/site-packages/anndata/_io/specs/methods.py:584: OldFormatWarning: Element '/obs/__categories/annotation' was written without encoding metadata.\n",
      "  categories = read_elem(categories_dset)\n",
      "/Users/dongjiajie/opt/anaconda3/lib/python3.8/site-packages/anndata/_io/specs/methods.py:587: OldFormatWarning: Element '/obs/annotation' was written without encoding metadata.\n",
      "  read_elem(dataset), categories, ordered=ordered\n",
      "/Users/dongjiajie/opt/anaconda3/lib/python3.8/site-packages/anndata/_io/specs/methods.py:584: OldFormatWarning: Element '/obs/__categories/Gender' was written without encoding metadata.\n",
      "  categories = read_elem(categories_dset)\n",
      "/Users/dongjiajie/opt/anaconda3/lib/python3.8/site-packages/anndata/_io/specs/methods.py:587: OldFormatWarning: Element '/obs/Gender' was written without encoding metadata.\n",
      "  read_elem(dataset), categories, ordered=ordered\n",
      "/Users/dongjiajie/opt/anaconda3/lib/python3.8/site-packages/anndata/_io/specs/methods.py:590: OldFormatWarning: Element '/obs/_index' was written without encoding metadata.\n",
      "  return read_elem(dataset)\n",
      "/Users/dongjiajie/opt/anaconda3/lib/python3.8/site-packages/anndata/_io/specs/methods.py:590: OldFormatWarning: Element '/var/gene_ids' was written without encoding metadata.\n",
      "  return read_elem(dataset)\n",
      "/Users/dongjiajie/opt/anaconda3/lib/python3.8/site-packages/anndata/_io/specs/methods.py:584: OldFormatWarning: Element '/var/__categories/feature_types' was written without encoding metadata.\n",
      "  categories = read_elem(categories_dset)\n",
      "/Users/dongjiajie/opt/anaconda3/lib/python3.8/site-packages/anndata/_io/specs/methods.py:587: OldFormatWarning: Element '/var/feature_types' was written without encoding metadata.\n",
      "  read_elem(dataset), categories, ordered=ordered\n",
      "/Users/dongjiajie/opt/anaconda3/lib/python3.8/site-packages/anndata/_io/specs/methods.py:590: OldFormatWarning: Element '/var/_index' was written without encoding metadata.\n",
      "  return read_elem(dataset)\n"
     ]
    },
    {
     "data": {
      "text/plain": [
       "AnnData object with n_obs × n_vars = 38633 × 33538\n",
       "    obs: 'Sample name', 'Diagnosis', 'Age', 'sample name', 'Region code', 'Fraction', 'Region', '10X', 'batch', 'n_genes', 'n_genes_by_counts', 'total_counts', 'total_counts_mt', 'pct_counts_mt', 'doublet_scores', 'predicted_doublets', 'S_score', 'G2M_score', 'phase', 'productive', 'annotation', 'Gender'\n",
       "    var: 'gene_ids', 'feature_types'"
      ]
     },
     "execution_count": 3,
     "metadata": {},
     "output_type": "execute_result"
    }
   ],
   "source": [
    "adata = sc.read_h5ad(cell_path1)\n",
    "adata"
   ]
  },
  {
   "cell_type": "code",
   "execution_count": 4,
   "metadata": {},
   "outputs": [],
   "source": [
    "t=list(adata.obs['annotation'].unique())\n",
    "t.remove('NK cell')\n",
    "t.remove('NK T cell')\n",
    "t.remove('LTi-like NCR- ILC3')\n",
    "t.remove('LTi-like NCR+ ILC3')\n",
    "t = ['gdT','TRGV2 gdT','TRGV4 gdT','TRGV5/7 gdT','TRDV2/TRGV9 gdT']\n",
    "adata = adata[adata.obs[adata.obs['annotation'].isin(t)].index]"
   ]
  },
  {
   "cell_type": "code",
   "execution_count": 5,
   "metadata": {},
   "outputs": [
    {
     "name": "stderr",
     "output_type": "stream",
     "text": [
      "/Users/dongjiajie/opt/anaconda3/lib/python3.8/site-packages/scanpy/preprocessing/_simple.py:140: ImplicitModificationWarning: Trying to modify attribute `.obs` of view, initializing view as actual.\n",
      "  adata.obs['n_genes'] = number\n"
     ]
    },
    {
     "data": {
      "text/plain": [
       "AnnData object with n_obs × n_vars = 4201 × 16562\n",
       "    obs: 'Sample name', 'Diagnosis', 'Age', 'sample name', 'Region code', 'Fraction', 'Region', '10X', 'batch', 'n_genes', 'n_genes_by_counts', 'total_counts', 'total_counts_mt', 'pct_counts_mt', 'doublet_scores', 'predicted_doublets', 'S_score', 'G2M_score', 'phase', 'productive', 'annotation', 'Gender'\n",
       "    var: 'gene_ids', 'feature_types', 'n_cells'\n",
       "    uns: 'log1p'"
      ]
     },
     "execution_count": 5,
     "metadata": {},
     "output_type": "execute_result"
    }
   ],
   "source": [
    "sc.pp.filter_cells(adata, min_genes=200)\n",
    "sc.pp.filter_genes(adata, min_cells=3)\n",
    "sc.pp.normalize_total(adata, exclude_highly_expressed=True)\n",
    "sc.pp.log1p(adata)\n",
    "adata"
   ]
  },
  {
   "cell_type": "code",
   "execution_count": 6,
   "metadata": {},
   "outputs": [
    {
     "data": {
      "text/html": [
       "<div>\n",
       "<style scoped>\n",
       "    .dataframe tbody tr th:only-of-type {\n",
       "        vertical-align: middle;\n",
       "    }\n",
       "\n",
       "    .dataframe tbody tr th {\n",
       "        vertical-align: top;\n",
       "    }\n",
       "\n",
       "    .dataframe thead th {\n",
       "        text-align: right;\n",
       "    }\n",
       "</style>\n",
       "<table border=\"1\" class=\"dataframe\">\n",
       "  <thead>\n",
       "    <tr style=\"text-align: right;\">\n",
       "      <th></th>\n",
       "      <th>HES4</th>\n",
       "      <th>ISG15</th>\n",
       "      <th>TNFRSF18</th>\n",
       "      <th>FO704657.1</th>\n",
       "      <th>CALML6</th>\n",
       "      <th>CHD5</th>\n",
       "      <th>Z98884.1</th>\n",
       "      <th>TNFRSF9</th>\n",
       "      <th>AL096855.1</th>\n",
       "      <th>AL139424.3</th>\n",
       "      <th>...</th>\n",
       "      <th>MT-ATP8</th>\n",
       "      <th>MT-ATP6</th>\n",
       "      <th>MT-CO3</th>\n",
       "      <th>MT-ND3</th>\n",
       "      <th>MT-ND4L</th>\n",
       "      <th>MT-ND5</th>\n",
       "      <th>MT-ND6</th>\n",
       "      <th>MT-CYB</th>\n",
       "      <th>AC145212.1</th>\n",
       "      <th>AL354822.1</th>\n",
       "    </tr>\n",
       "  </thead>\n",
       "  <tbody>\n",
       "    <tr>\n",
       "      <th>AAACCTGAGGAGTTTA-1-4918STDY7333456</th>\n",
       "      <td>0.000000</td>\n",
       "      <td>0.000000</td>\n",
       "      <td>0.0</td>\n",
       "      <td>0.0</td>\n",
       "      <td>0.0</td>\n",
       "      <td>0.0</td>\n",
       "      <td>0.0</td>\n",
       "      <td>0.000000</td>\n",
       "      <td>0.0</td>\n",
       "      <td>0.0</td>\n",
       "      <td>...</td>\n",
       "      <td>0.000000</td>\n",
       "      <td>2.657428</td>\n",
       "      <td>3.083581</td>\n",
       "      <td>2.657428</td>\n",
       "      <td>0.000000</td>\n",
       "      <td>1.062717</td>\n",
       "      <td>0.000000</td>\n",
       "      <td>2.657428</td>\n",
       "      <td>0.0</td>\n",
       "      <td>0.0</td>\n",
       "    </tr>\n",
       "    <tr>\n",
       "      <th>AAACGGGAGGCGATAC-1-4918STDY7333456</th>\n",
       "      <td>0.000000</td>\n",
       "      <td>0.000000</td>\n",
       "      <td>0.0</td>\n",
       "      <td>0.0</td>\n",
       "      <td>0.0</td>\n",
       "      <td>0.0</td>\n",
       "      <td>0.0</td>\n",
       "      <td>0.000000</td>\n",
       "      <td>0.0</td>\n",
       "      <td>0.0</td>\n",
       "      <td>...</td>\n",
       "      <td>0.976708</td>\n",
       "      <td>3.114586</td>\n",
       "      <td>3.251750</td>\n",
       "      <td>2.766401</td>\n",
       "      <td>0.000000</td>\n",
       "      <td>0.976708</td>\n",
       "      <td>0.000000</td>\n",
       "      <td>3.313866</td>\n",
       "      <td>0.0</td>\n",
       "      <td>0.0</td>\n",
       "    </tr>\n",
       "    <tr>\n",
       "      <th>AAATGCCAGTAGCCGA-1-4918STDY7333456</th>\n",
       "      <td>0.731941</td>\n",
       "      <td>0.000000</td>\n",
       "      <td>0.0</td>\n",
       "      <td>0.0</td>\n",
       "      <td>0.0</td>\n",
       "      <td>0.0</td>\n",
       "      <td>0.0</td>\n",
       "      <td>0.000000</td>\n",
       "      <td>0.0</td>\n",
       "      <td>0.0</td>\n",
       "      <td>...</td>\n",
       "      <td>0.000000</td>\n",
       "      <td>2.962430</td>\n",
       "      <td>3.117164</td>\n",
       "      <td>3.369257</td>\n",
       "      <td>1.150010</td>\n",
       "      <td>2.011521</td>\n",
       "      <td>0.000000</td>\n",
       "      <td>3.163844</td>\n",
       "      <td>0.0</td>\n",
       "      <td>0.0</td>\n",
       "    </tr>\n",
       "    <tr>\n",
       "      <th>AACACGTTCCGGGTGT-1-4918STDY7333456</th>\n",
       "      <td>0.000000</td>\n",
       "      <td>0.000000</td>\n",
       "      <td>0.0</td>\n",
       "      <td>0.0</td>\n",
       "      <td>0.0</td>\n",
       "      <td>0.0</td>\n",
       "      <td>0.0</td>\n",
       "      <td>0.000000</td>\n",
       "      <td>0.0</td>\n",
       "      <td>0.0</td>\n",
       "      <td>...</td>\n",
       "      <td>0.000000</td>\n",
       "      <td>2.739031</td>\n",
       "      <td>2.270392</td>\n",
       "      <td>2.270392</td>\n",
       "      <td>0.894944</td>\n",
       "      <td>1.359539</td>\n",
       "      <td>0.000000</td>\n",
       "      <td>2.108514</td>\n",
       "      <td>0.0</td>\n",
       "      <td>0.0</td>\n",
       "    </tr>\n",
       "    <tr>\n",
       "      <th>AACTGGTAGTTAAGTG-1-4918STDY7333456</th>\n",
       "      <td>0.000000</td>\n",
       "      <td>0.889410</td>\n",
       "      <td>0.0</td>\n",
       "      <td>0.0</td>\n",
       "      <td>0.0</td>\n",
       "      <td>0.0</td>\n",
       "      <td>0.0</td>\n",
       "      <td>0.000000</td>\n",
       "      <td>0.0</td>\n",
       "      <td>0.0</td>\n",
       "      <td>...</td>\n",
       "      <td>0.000000</td>\n",
       "      <td>3.047931</td>\n",
       "      <td>2.901659</td>\n",
       "      <td>3.113755</td>\n",
       "      <td>1.352579</td>\n",
       "      <td>0.889410</td>\n",
       "      <td>0.000000</td>\n",
       "      <td>3.047931</td>\n",
       "      <td>0.0</td>\n",
       "      <td>0.0</td>\n",
       "    </tr>\n",
       "    <tr>\n",
       "      <th>...</th>\n",
       "      <td>...</td>\n",
       "      <td>...</td>\n",
       "      <td>...</td>\n",
       "      <td>...</td>\n",
       "      <td>...</td>\n",
       "      <td>...</td>\n",
       "      <td>...</td>\n",
       "      <td>...</td>\n",
       "      <td>...</td>\n",
       "      <td>...</td>\n",
       "      <td>...</td>\n",
       "      <td>...</td>\n",
       "      <td>...</td>\n",
       "      <td>...</td>\n",
       "      <td>...</td>\n",
       "      <td>...</td>\n",
       "      <td>...</td>\n",
       "      <td>...</td>\n",
       "      <td>...</td>\n",
       "      <td>...</td>\n",
       "      <td>...</td>\n",
       "    </tr>\n",
       "    <tr>\n",
       "      <th>TGAGCATAGGTGCACA-1-WTDAtest7770718</th>\n",
       "      <td>0.000000</td>\n",
       "      <td>0.668724</td>\n",
       "      <td>0.0</td>\n",
       "      <td>0.0</td>\n",
       "      <td>0.0</td>\n",
       "      <td>0.0</td>\n",
       "      <td>0.0</td>\n",
       "      <td>0.000000</td>\n",
       "      <td>0.0</td>\n",
       "      <td>0.0</td>\n",
       "      <td>...</td>\n",
       "      <td>0.000000</td>\n",
       "      <td>2.258184</td>\n",
       "      <td>2.948805</td>\n",
       "      <td>1.903668</td>\n",
       "      <td>0.000000</td>\n",
       "      <td>1.065913</td>\n",
       "      <td>0.668724</td>\n",
       "      <td>2.948805</td>\n",
       "      <td>0.0</td>\n",
       "      <td>0.0</td>\n",
       "    </tr>\n",
       "    <tr>\n",
       "      <th>TGAGCCGTCTTGCATT-1-WTDAtest7770718</th>\n",
       "      <td>0.000000</td>\n",
       "      <td>0.682030</td>\n",
       "      <td>0.0</td>\n",
       "      <td>0.0</td>\n",
       "      <td>0.0</td>\n",
       "      <td>0.0</td>\n",
       "      <td>0.0</td>\n",
       "      <td>0.000000</td>\n",
       "      <td>0.0</td>\n",
       "      <td>0.0</td>\n",
       "      <td>...</td>\n",
       "      <td>0.000000</td>\n",
       "      <td>2.177375</td>\n",
       "      <td>2.974504</td>\n",
       "      <td>2.059905</td>\n",
       "      <td>0.000000</td>\n",
       "      <td>1.083762</td>\n",
       "      <td>0.000000</td>\n",
       "      <td>2.869268</td>\n",
       "      <td>0.0</td>\n",
       "      <td>0.0</td>\n",
       "    </tr>\n",
       "    <tr>\n",
       "      <th>TGCACCTCAGACAAAT-1-WTDAtest7770718</th>\n",
       "      <td>0.000000</td>\n",
       "      <td>0.000000</td>\n",
       "      <td>0.0</td>\n",
       "      <td>0.0</td>\n",
       "      <td>0.0</td>\n",
       "      <td>0.0</td>\n",
       "      <td>0.0</td>\n",
       "      <td>0.685193</td>\n",
       "      <td>0.0</td>\n",
       "      <td>0.0</td>\n",
       "      <td>...</td>\n",
       "      <td>0.000000</td>\n",
       "      <td>2.288221</td>\n",
       "      <td>2.980564</td>\n",
       "      <td>2.288221</td>\n",
       "      <td>0.685193</td>\n",
       "      <td>0.000000</td>\n",
       "      <td>0.000000</td>\n",
       "      <td>2.757622</td>\n",
       "      <td>0.0</td>\n",
       "      <td>0.0</td>\n",
       "    </tr>\n",
       "    <tr>\n",
       "      <th>TGCACCTGTCGAGATG-1-WTDAtest7770718</th>\n",
       "      <td>0.000000</td>\n",
       "      <td>0.000000</td>\n",
       "      <td>0.0</td>\n",
       "      <td>0.0</td>\n",
       "      <td>0.0</td>\n",
       "      <td>0.0</td>\n",
       "      <td>0.0</td>\n",
       "      <td>0.000000</td>\n",
       "      <td>0.0</td>\n",
       "      <td>0.0</td>\n",
       "      <td>...</td>\n",
       "      <td>0.000000</td>\n",
       "      <td>2.252945</td>\n",
       "      <td>3.082653</td>\n",
       "      <td>1.062081</td>\n",
       "      <td>0.000000</td>\n",
       "      <td>0.000000</td>\n",
       "      <td>0.000000</td>\n",
       "      <td>2.781242</td>\n",
       "      <td>0.0</td>\n",
       "      <td>0.0</td>\n",
       "    </tr>\n",
       "    <tr>\n",
       "      <th>GGTGTTAAGCCCAGCT-1-WTDAtest7770719</th>\n",
       "      <td>0.000000</td>\n",
       "      <td>0.000000</td>\n",
       "      <td>0.0</td>\n",
       "      <td>0.0</td>\n",
       "      <td>0.0</td>\n",
       "      <td>0.0</td>\n",
       "      <td>0.0</td>\n",
       "      <td>0.000000</td>\n",
       "      <td>0.0</td>\n",
       "      <td>0.0</td>\n",
       "      <td>...</td>\n",
       "      <td>0.000000</td>\n",
       "      <td>1.528151</td>\n",
       "      <td>2.811917</td>\n",
       "      <td>2.243101</td>\n",
       "      <td>0.789918</td>\n",
       "      <td>1.225665</td>\n",
       "      <td>0.000000</td>\n",
       "      <td>2.363278</td>\n",
       "      <td>0.0</td>\n",
       "      <td>0.0</td>\n",
       "    </tr>\n",
       "  </tbody>\n",
       "</table>\n",
       "<p>4201 rows × 2000 columns</p>\n",
       "</div>"
      ],
      "text/plain": [
       "                                        HES4     ISG15  TNFRSF18  FO704657.1  \\\n",
       "AAACCTGAGGAGTTTA-1-4918STDY7333456  0.000000  0.000000       0.0         0.0   \n",
       "AAACGGGAGGCGATAC-1-4918STDY7333456  0.000000  0.000000       0.0         0.0   \n",
       "AAATGCCAGTAGCCGA-1-4918STDY7333456  0.731941  0.000000       0.0         0.0   \n",
       "AACACGTTCCGGGTGT-1-4918STDY7333456  0.000000  0.000000       0.0         0.0   \n",
       "AACTGGTAGTTAAGTG-1-4918STDY7333456  0.000000  0.889410       0.0         0.0   \n",
       "...                                      ...       ...       ...         ...   \n",
       "TGAGCATAGGTGCACA-1-WTDAtest7770718  0.000000  0.668724       0.0         0.0   \n",
       "TGAGCCGTCTTGCATT-1-WTDAtest7770718  0.000000  0.682030       0.0         0.0   \n",
       "TGCACCTCAGACAAAT-1-WTDAtest7770718  0.000000  0.000000       0.0         0.0   \n",
       "TGCACCTGTCGAGATG-1-WTDAtest7770718  0.000000  0.000000       0.0         0.0   \n",
       "GGTGTTAAGCCCAGCT-1-WTDAtest7770719  0.000000  0.000000       0.0         0.0   \n",
       "\n",
       "                                    CALML6  CHD5  Z98884.1   TNFRSF9  \\\n",
       "AAACCTGAGGAGTTTA-1-4918STDY7333456     0.0   0.0       0.0  0.000000   \n",
       "AAACGGGAGGCGATAC-1-4918STDY7333456     0.0   0.0       0.0  0.000000   \n",
       "AAATGCCAGTAGCCGA-1-4918STDY7333456     0.0   0.0       0.0  0.000000   \n",
       "AACACGTTCCGGGTGT-1-4918STDY7333456     0.0   0.0       0.0  0.000000   \n",
       "AACTGGTAGTTAAGTG-1-4918STDY7333456     0.0   0.0       0.0  0.000000   \n",
       "...                                    ...   ...       ...       ...   \n",
       "TGAGCATAGGTGCACA-1-WTDAtest7770718     0.0   0.0       0.0  0.000000   \n",
       "TGAGCCGTCTTGCATT-1-WTDAtest7770718     0.0   0.0       0.0  0.000000   \n",
       "TGCACCTCAGACAAAT-1-WTDAtest7770718     0.0   0.0       0.0  0.685193   \n",
       "TGCACCTGTCGAGATG-1-WTDAtest7770718     0.0   0.0       0.0  0.000000   \n",
       "GGTGTTAAGCCCAGCT-1-WTDAtest7770719     0.0   0.0       0.0  0.000000   \n",
       "\n",
       "                                    AL096855.1  AL139424.3  ...   MT-ATP8  \\\n",
       "AAACCTGAGGAGTTTA-1-4918STDY7333456         0.0         0.0  ...  0.000000   \n",
       "AAACGGGAGGCGATAC-1-4918STDY7333456         0.0         0.0  ...  0.976708   \n",
       "AAATGCCAGTAGCCGA-1-4918STDY7333456         0.0         0.0  ...  0.000000   \n",
       "AACACGTTCCGGGTGT-1-4918STDY7333456         0.0         0.0  ...  0.000000   \n",
       "AACTGGTAGTTAAGTG-1-4918STDY7333456         0.0         0.0  ...  0.000000   \n",
       "...                                        ...         ...  ...       ...   \n",
       "TGAGCATAGGTGCACA-1-WTDAtest7770718         0.0         0.0  ...  0.000000   \n",
       "TGAGCCGTCTTGCATT-1-WTDAtest7770718         0.0         0.0  ...  0.000000   \n",
       "TGCACCTCAGACAAAT-1-WTDAtest7770718         0.0         0.0  ...  0.000000   \n",
       "TGCACCTGTCGAGATG-1-WTDAtest7770718         0.0         0.0  ...  0.000000   \n",
       "GGTGTTAAGCCCAGCT-1-WTDAtest7770719         0.0         0.0  ...  0.000000   \n",
       "\n",
       "                                     MT-ATP6    MT-CO3    MT-ND3   MT-ND4L  \\\n",
       "AAACCTGAGGAGTTTA-1-4918STDY7333456  2.657428  3.083581  2.657428  0.000000   \n",
       "AAACGGGAGGCGATAC-1-4918STDY7333456  3.114586  3.251750  2.766401  0.000000   \n",
       "AAATGCCAGTAGCCGA-1-4918STDY7333456  2.962430  3.117164  3.369257  1.150010   \n",
       "AACACGTTCCGGGTGT-1-4918STDY7333456  2.739031  2.270392  2.270392  0.894944   \n",
       "AACTGGTAGTTAAGTG-1-4918STDY7333456  3.047931  2.901659  3.113755  1.352579   \n",
       "...                                      ...       ...       ...       ...   \n",
       "TGAGCATAGGTGCACA-1-WTDAtest7770718  2.258184  2.948805  1.903668  0.000000   \n",
       "TGAGCCGTCTTGCATT-1-WTDAtest7770718  2.177375  2.974504  2.059905  0.000000   \n",
       "TGCACCTCAGACAAAT-1-WTDAtest7770718  2.288221  2.980564  2.288221  0.685193   \n",
       "TGCACCTGTCGAGATG-1-WTDAtest7770718  2.252945  3.082653  1.062081  0.000000   \n",
       "GGTGTTAAGCCCAGCT-1-WTDAtest7770719  1.528151  2.811917  2.243101  0.789918   \n",
       "\n",
       "                                      MT-ND5    MT-ND6    MT-CYB  AC145212.1  \\\n",
       "AAACCTGAGGAGTTTA-1-4918STDY7333456  1.062717  0.000000  2.657428         0.0   \n",
       "AAACGGGAGGCGATAC-1-4918STDY7333456  0.976708  0.000000  3.313866         0.0   \n",
       "AAATGCCAGTAGCCGA-1-4918STDY7333456  2.011521  0.000000  3.163844         0.0   \n",
       "AACACGTTCCGGGTGT-1-4918STDY7333456  1.359539  0.000000  2.108514         0.0   \n",
       "AACTGGTAGTTAAGTG-1-4918STDY7333456  0.889410  0.000000  3.047931         0.0   \n",
       "...                                      ...       ...       ...         ...   \n",
       "TGAGCATAGGTGCACA-1-WTDAtest7770718  1.065913  0.668724  2.948805         0.0   \n",
       "TGAGCCGTCTTGCATT-1-WTDAtest7770718  1.083762  0.000000  2.869268         0.0   \n",
       "TGCACCTCAGACAAAT-1-WTDAtest7770718  0.000000  0.000000  2.757622         0.0   \n",
       "TGCACCTGTCGAGATG-1-WTDAtest7770718  0.000000  0.000000  2.781242         0.0   \n",
       "GGTGTTAAGCCCAGCT-1-WTDAtest7770719  1.225665  0.000000  2.363278         0.0   \n",
       "\n",
       "                                    AL354822.1  \n",
       "AAACCTGAGGAGTTTA-1-4918STDY7333456         0.0  \n",
       "AAACGGGAGGCGATAC-1-4918STDY7333456         0.0  \n",
       "AAATGCCAGTAGCCGA-1-4918STDY7333456         0.0  \n",
       "AACACGTTCCGGGTGT-1-4918STDY7333456         0.0  \n",
       "AACTGGTAGTTAAGTG-1-4918STDY7333456         0.0  \n",
       "...                                        ...  \n",
       "TGAGCATAGGTGCACA-1-WTDAtest7770718         0.0  \n",
       "TGAGCCGTCTTGCATT-1-WTDAtest7770718         0.0  \n",
       "TGCACCTCAGACAAAT-1-WTDAtest7770718         0.0  \n",
       "TGCACCTGTCGAGATG-1-WTDAtest7770718         0.0  \n",
       "GGTGTTAAGCCCAGCT-1-WTDAtest7770719         0.0  \n",
       "\n",
       "[4201 rows x 2000 columns]"
      ]
     },
     "execution_count": 6,
     "metadata": {},
     "output_type": "execute_result"
    }
   ],
   "source": [
    "sc.pp.highly_variable_genes(\n",
    "    adata,\n",
    "    min_mean=0.0125,\n",
    "    max_mean=3,\n",
    "    min_disp=0.5,\n",
    "    n_top_genes=2000\n",
    ")\n",
    "adata.raw = adata\n",
    "adata._inplace_subset_var(adata.var['highly_variable'])\n",
    "adata.to_df()"
   ]
  },
  {
   "cell_type": "code",
   "execution_count": 81,
   "metadata": {},
   "outputs": [
    {
     "data": {
      "text/plain": [
       "(39, 10)"
      ]
     },
     "execution_count": 81,
     "metadata": {},
     "output_type": "execute_result"
    }
   ],
   "source": [
    "resolution = 4\n",
    "n_pca = 10\n",
    "preprocessing_cluster(adata,N_pcs=n_pca,resolution=resolution)\n",
    "\n",
    "inter_gene = sort_data(adata,adata)\n",
    "\n",
    "tmp1 = calculate_cluster_centroid_for_genes(adata,inter_gene,folder_path1)\n",
    "meta_list = calculate_cluster_celltype(adata,meta_col='annotation');\n",
    "tmp1.shape"
   ]
  },
  {
   "cell_type": "code",
   "execution_count": 82,
   "metadata": {},
   "outputs": [],
   "source": [
    "def rotate(nodes,embeddings,epoches2,n,similarities):\n",
    "    deep_search_tree(root,0,[],root)\n",
    "    result1 = []\n",
    "    result2 = []\n",
    "\n",
    "    distances = []\n",
    "    for i in nodes:\n",
    "        if(int(i)>=n):\n",
    "            if(int(i.son[0]) <n and int(i.son[1])<n ):\n",
    "                for i1,j1 in itertools.combinations(i.subson,2):\n",
    "                    for j in i.rest(n):\n",
    "                        result1.append([[i1,j1],j,int(i),1,int(j)])\n",
    "                    \n",
    "    for i in nodes[:-1]:\n",
    "        if(int(i)>=n and len(i.son)>=2):\n",
    "            for i1 in range(len(i.subson)):\n",
    "                for i2 in range(i1+1,len(i.subson)):\n",
    "                    for j in i.rest(n):\n",
    "                        result2.append([[i.subson[i1],i.subson[i2]],j,int(i),0,int(i.f)])\n",
    "            \n",
    "    for i in nodes:\n",
    "        distances.append(i.distance_to_root);\n",
    "    distances = torch.tensor(distances)\n",
    "    print(len(result1),len(result2))\n",
    "    dataset_test1 = balance_dataset(similarities,len(result1),embeddings,distances,result1)\n",
    "    dataloader1 = data.DataLoader(dataset_test1, batch_size=1, shuffle=True, pin_memory=True)\n",
    "    \n",
    "    dataset_test2 = balance_dataset(similarities,min(1000,len(result2)),embeddings,distances,result2)\n",
    "    dataloader2 = data.DataLoader(dataset_test2, batch_size=1, shuffle=True, pin_memory=True)    \n",
    "    \n",
    "    model2 = balancehc(nodes,torch.tensor(embeddings),hyperparamter = 1)\n",
    "    \n",
    "    Optimizer = getattr(optim, 'RAdam')\n",
    "    optimizer = Optimizer(model2.parameters(),0.0005)\n",
    "    train3(model2,dataloader1,dataloader2,optimizer,epoches2)\n",
    "    temp = model2.embeddings.weight.data\n",
    "    return temp"
   ]
  },
  {
   "cell_type": "code",
   "execution_count": 83,
   "metadata": {},
   "outputs": [],
   "source": [
    "def merge_points(similarities,root,nodes,embeddings,epoches,c1,c2,n):\n",
    "    root,_ = search_tree(root,c1,c2,n)\n",
    "    if(_ == True):\n",
    "        return embeddings,root\n",
    "    nodes_merge = [];\n",
    "    add_meta(root,[],nodes_merge)\n",
    "    print(nodes_merge)\n",
    "    for i in nodes_merge:\n",
    "        if(int(i)<n):\n",
    "            i.subson = [int(i)]\n",
    "        else:\n",
    "            i.subson=[]\n",
    "    deep_search_tree(root,0,[],root)\n",
    "    result1 = []\n",
    "    result2 = []\n",
    "\n",
    "    distances = []\n",
    "    for i in nodes_merge:\n",
    "        if(int(i)>=n):\n",
    "            if(int(i.son[0]) <n and int(i.son[1])<n ):\n",
    "                for i1,j1 in itertools.combinations(i.subson,2):\n",
    "                    for j in i.rest(n):\n",
    "                        result1.append([[i1,j1],j,int(i),1,int(j)])\n",
    "                    \n",
    "    for i in nodes_merge[1:]:\n",
    "        if(int(i)>=n and len(i.son)>=2):\n",
    "            for i1 in range(len(i.subson)):\n",
    "                for i2 in range(i1+1,len(i.subson)):\n",
    "                    for j in i.rest(n):\n",
    "                        result2.append([[i.subson[i1],i.subson[i2]],j,int(i),0,int(i.f)])\n",
    "            \n",
    "    for i in nodes:\n",
    "        distances.append(i.distance_to_root);\n",
    "    distances = torch.tensor(distances)\n",
    "    print(len(result1),len(result2))\n",
    "    model2 = balancehc(nodes,torch.tensor(embeddings),hyperparamter = 1)\n",
    "    if(len(result1) !=0 and len(result2)!=0):\n",
    "        \n",
    "        dataset_test1 = balance_dataset(similarities,len(result1),embeddings,distances,result1)\n",
    "        dataloader1 = data.DataLoader(dataset_test1, batch_size=1, shuffle=True, pin_memory=True)\n",
    "        \n",
    "        dataset_test2 = balance_dataset(similarities,min(1000,len(result2)),embeddings,distances,result2)\n",
    "        dataloader2 = data.DataLoader(dataset_test2, batch_size=1, shuffle=True, pin_memory=True)    \n",
    "        \n",
    "        \n",
    "        Optimizer = getattr(optim, 'RAdam')\n",
    "        optimizer = Optimizer(model2.parameters(),0.0005)\n",
    "        train3(model2,dataloader1,dataloader2,optimizer,epoches)\n",
    "    temp = model2.embeddings.weight.data\n",
    "    return temp,nodes_merge[0]"
   ]
  },
  {
   "cell_type": "code",
   "execution_count": 84,
   "metadata": {},
   "outputs": [
    {
     "data": {
      "text/plain": [
       "['TRGV5/7 gdT',\n",
       " 'TRGV4 gdT',\n",
       " 'TRGV2 gdT',\n",
       " 'TRGV2 gdT',\n",
       " 'TRGV4 gdT',\n",
       " 'TRGV2 gdT',\n",
       " 'gdT',\n",
       " 'TRGV4 gdT',\n",
       " 'gdT',\n",
       " 'gdT',\n",
       " 'gdT',\n",
       " 'TRGV2 gdT',\n",
       " 'gdT',\n",
       " 'TRGV4 gdT',\n",
       " 'TRGV5/7 gdT',\n",
       " 'TRGV2 gdT',\n",
       " 'TRGV5/7 gdT',\n",
       " 'TRGV4 gdT',\n",
       " 'gdT',\n",
       " 'gdT',\n",
       " 'gdT',\n",
       " 'gdT',\n",
       " 'gdT',\n",
       " 'TRGV2 gdT',\n",
       " 'TRDV2/TRGV9 gdT',\n",
       " 'gdT',\n",
       " 'gdT',\n",
       " 'gdT',\n",
       " 'gdT',\n",
       " 'gdT',\n",
       " 'gdT',\n",
       " 'gdT',\n",
       " 'gdT',\n",
       " 'gdT',\n",
       " 'TRGV2 gdT',\n",
       " 'TRGV2 gdT',\n",
       " 'TRGV5/7 gdT',\n",
       " 'TRDV2/TRGV9 gdT',\n",
       " 'gdT']"
      ]
     },
     "execution_count": 84,
     "metadata": {},
     "output_type": "execute_result"
    }
   ],
   "source": [
    "meta_list"
   ]
  },
  {
   "cell_type": "code",
   "execution_count": 165,
   "metadata": {},
   "outputs": [
    {
     "data": {
      "text/plain": [
       "View of AnnData object with n_obs × n_vars = 1326 × 2000\n",
       "    obs: 'Sample name', 'Diagnosis', 'Age', 'sample name', 'Region code', 'Fraction', 'Region', '10X', 'batch', 'n_genes', 'n_genes_by_counts', 'total_counts', 'total_counts_mt', 'pct_counts_mt', 'doublet_scores', 'predicted_doublets', 'S_score', 'G2M_score', 'phase', 'productive', 'annotation', 'Gender', 'leiden'\n",
       "    var: 'gene_ids', 'feature_types', 'n_cells', 'highly_variable', 'means', 'dispersions', 'dispersions_norm'\n",
       "    uns: 'log1p', 'hvg', 'pca', 'neighbors', 'diffmap_evals', 'umap', 'leiden', 'paga', 'leiden_sizes'\n",
       "    obsm: 'X_pca', 'X_diffmap', 'X_umap'\n",
       "    varm: 'PCs'\n",
       "    obsp: 'distances', 'connectivities'"
      ]
     },
     "execution_count": 165,
     "metadata": {},
     "output_type": "execute_result"
    }
   ],
   "source": [
    "l1=[]\n",
    "for i in range(len(meta_list)):\n",
    "    if(meta_list[i]=='TRGV12 gdT' or meta_list[i]=='TRGV5/7 gdT'or meta_list[i]=='TRGV4 gdT'or meta_list[i]=='TRDV2/TRGV9 gdT'):\n",
    "        l1.append(str(i))\n",
    "l1\n",
    "nocd4 = adata[adata.obs[adata.obs['leiden'].isin(l1)].index]\n",
    "\n",
    "nocd4"
   ]
  },
  {
   "cell_type": "code",
   "execution_count": 166,
   "metadata": {},
   "outputs": [
    {
     "data": {
      "text/plain": [
       "View of AnnData object with n_obs × n_vars = 831 × 2000\n",
       "    obs: 'Sample name', 'Diagnosis', 'Age', 'sample name', 'Region code', 'Fraction', 'Region', '10X', 'batch', 'n_genes', 'n_genes_by_counts', 'total_counts', 'total_counts_mt', 'pct_counts_mt', 'doublet_scores', 'predicted_doublets', 'S_score', 'G2M_score', 'phase', 'productive', 'annotation', 'Gender', 'leiden'\n",
       "    var: 'gene_ids', 'feature_types', 'n_cells', 'highly_variable', 'means', 'dispersions', 'dispersions_norm'\n",
       "    uns: 'log1p', 'hvg', 'pca', 'neighbors', 'diffmap_evals', 'umap', 'leiden', 'paga', 'leiden_sizes'\n",
       "    obsm: 'X_pca', 'X_diffmap', 'X_umap'\n",
       "    varm: 'PCs'\n",
       "    obsp: 'distances', 'connectivities'"
      ]
     },
     "execution_count": 166,
     "metadata": {},
     "output_type": "execute_result"
    }
   ],
   "source": [
    "l2=[]\n",
    "for i in range(len(meta_list)):\n",
    "    if(meta_list[i]=='TRGV12 gdT' or meta_list[i]=='TRGV51/7 gdT'or meta_list[i]=='TRGV4 gdT'or meta_list[i]=='TRDV2/TRGV9 gdT'):\n",
    "        l2.append(str(i))\n",
    "l2\n",
    "noth2 = adata[adata.obs[adata.obs['leiden'].isin(l2)].index]\n",
    "noth2"
   ]
  },
  {
   "cell_type": "code",
   "execution_count": 167,
   "metadata": {},
   "outputs": [
    {
     "data": {
      "text/plain": [
       "(['0', '1', '4', '7', '13', '14', '16', '17', '24', '36', '37'],\n",
       " ['1', '4', '7', '13', '17', '24', '37'])"
      ]
     },
     "execution_count": 167,
     "metadata": {},
     "output_type": "execute_result"
    }
   ],
   "source": [
    "l1,l2"
   ]
  },
  {
   "cell_type": "code",
   "execution_count": 168,
   "metadata": {},
   "outputs": [],
   "source": [
    "inter_gene = nocd4.var.index.tolist()\n",
    "\n",
    "tmp1 = calculate_cluster_centroid_for_genes(nocd4,inter_gene,'./datas/t/1/')\n",
    "tmp2 = calculate_cluster_centroid_for_genes(noth2,inter_gene,'./datas/t/2/')\n",
    "\n",
    "\n",
    "meta_list1 = calculate_cluster_celltype(nocd4,meta_col='annotation');\n",
    "meta_list2 = calculate_cluster_celltype(noth2,meta_col='annotation');"
   ]
  },
  {
   "cell_type": "code",
   "execution_count": 169,
   "metadata": {},
   "outputs": [
    {
     "name": "stdout",
     "output_type": "stream",
     "text": [
      "./datas/t/1/datas.data length:11\n",
      "Generating all pairs superset\n"
     ]
    }
   ],
   "source": [
    "data_path = './datas/t/1/' + 'datas.data'\n",
    "np.random.seed(1234)\n",
    "torch.manual_seed(1234)\n",
    "x, y_true, similarities = load_data(data_path,1,tmp1.shape[1]+1,0)\n",
    "print(\"{} length:{}\".format(data_path,len(y_true)));\n",
    "dataset = HCDataset(x, y_true, similarities, num_samples=50000)\n",
    "dataloader = data.DataLoader(dataset, batch_size=32, shuffle=True, pin_memory=True)\n",
    "model = HypHC(dataset.n_nodes, 2, 5e-2, 5e-2 ,0.999)\n",
    "\n",
    "# model.to(\"cpu\")\n",
    "Optimizer = getattr(optim, 'RAdam')\n",
    "optimizer = Optimizer(model.parameters(),0.0005)\n"
   ]
  },
  {
   "cell_type": "code",
   "execution_count": 170,
   "metadata": {},
   "outputs": [
    {
     "name": "stdout",
     "output_type": "stream",
     "text": [
      "\t Epoch 0 | average train loss: 0.859989\n",
      "Optimization finished.\n",
      "\t Epoch 1 | average train loss: 0.843753\n",
      "Optimization finished.\n",
      "\t Epoch 2 | average train loss: 0.839943\n",
      "Optimization finished.\n",
      "\t Epoch 3 | average train loss: 0.822063\n",
      "Optimization finished.\n",
      "\t Epoch 4 | average train loss: 0.819760\n",
      "Optimization finished.\n",
      "\t Epoch 5 | average train loss: 0.811600\n",
      "Optimization finished.\n",
      "\t Epoch 6 | average train loss: 0.813202\n",
      "Optimization finished.\n",
      "\t Epoch 7 | average train loss: 0.812970\n",
      "Optimization finished.\n",
      "\t Epoch 8 | average train loss: 0.811482\n",
      "Optimization finished.\n",
      "\t Epoch 9 | average train loss: 0.811486\n",
      "Optimization finished.\n",
      "\t Epoch 10 | average train loss: 0.809597\n",
      "Optimization finished.\n",
      "\t Epoch 11 | average train loss: 0.807908\n",
      "Optimization finished.\n",
      "\t Epoch 12 | average train loss: 0.808991\n",
      "Optimization finished.\n",
      "\t Epoch 13 | average train loss: 0.808878\n",
      "Optimization finished.\n",
      "\t Epoch 14 | average train loss: 0.810932\n",
      "Optimization finished.\n",
      "\t Epoch 15 | average train loss: 0.809597\n",
      "Optimization finished.\n",
      "\t Epoch 16 | average train loss: 0.810552\n",
      "Optimization finished.\n",
      "\t Epoch 17 | average train loss: 0.807447\n",
      "Optimization finished.\n",
      "\t Epoch 18 | average train loss: 0.808830\n",
      "Optimization finished.\n",
      "\t Epoch 19 | average train loss: 0.809434\n",
      "Optimization finished.\n"
     ]
    }
   ],
   "source": [
    "train(model,dataloader,optimizer,similarities,20);\n"
   ]
  },
  {
   "cell_type": "code",
   "execution_count": 171,
   "metadata": {},
   "outputs": [],
   "source": [
    "torch.save(model.state_dict(),'./datas/t/1/' +'model3.pth');\n"
   ]
  },
  {
   "cell_type": "code",
   "execution_count": 172,
   "metadata": {},
   "outputs": [
    {
     "data": {
      "text/plain": [
       "<All keys matched successfully>"
      ]
     },
     "execution_count": 172,
     "metadata": {},
     "output_type": "execute_result"
    }
   ],
   "source": [
    "params = torch.load(('./datas/t/1/'+'model3.pth'), map_location=torch.device('cpu'))\n",
    "model.load_state_dict(params)"
   ]
  },
  {
   "cell_type": "code",
   "execution_count": 173,
   "metadata": {},
   "outputs": [
    {
     "name": "stderr",
     "output_type": "stream",
     "text": [
      "/Users/dongjiajie/Desktop/alignment/fyp/hyperalignment/final/utils/mst.py:4: DeprecationWarning:\n",
      "\n",
      "`np.int` is a deprecated alias for the builtin `int`. To silence this warning, use `int` by itself. Doing this will not modify any behavior and is safe. When replacing `np.int`, you may wish to use e.g. `np.int64` or `np.int32` to specify the precision. If you wish to review your current use, check the release note link for additional information.\n",
      "Deprecated in NumPy 1.20; for more details and guidance: https://numpy.org/devdocs/release/1.20.0-notes.html#deprecations\n",
      "\n",
      "/Users/dongjiajie/Desktop/alignment/fyp/hyperalignment/final/utils/mst.py:10: DeprecationWarning:\n",
      "\n",
      "`np.int` is a deprecated alias for the builtin `int`. To silence this warning, use `int` by itself. Doing this will not modify any behavior and is safe. When replacing `np.int`, you may wish to use e.g. `np.int64` or `np.int32` to specify the precision. If you wish to review your current use, check the release note link for additional information.\n",
      "Deprecated in NumPy 1.20; for more details and guidance: https://numpy.org/devdocs/release/1.20.0-notes.html#deprecations\n",
      "\n",
      "/Users/dongjiajie/Desktop/alignment/fyp/hyperalignment/final/utils/mst.py:15: DeprecationWarning:\n",
      "\n",
      "`np.int` is a deprecated alias for the builtin `int`. To silence this warning, use `int` by itself. Doing this will not modify any behavior and is safe. When replacing `np.int`, you may wish to use e.g. `np.int64` or `np.int32` to specify the precision. If you wish to review your current use, check the release note link for additional information.\n",
      "Deprecated in NumPy 1.20; for more details and guidance: https://numpy.org/devdocs/release/1.20.0-notes.html#deprecations\n",
      "\n"
     ]
    },
    {
     "data": {
      "image/png": "[encoded data removed]",
      "text/plain": [
       "<Figure size 1500x1500 with 1 Axes>"
      ]
     },
     "metadata": {},
     "output_type": "display_data"
    }
   ],
   "source": [
    "model.eval()\n",
    "\n",
    "sim_fn = lambda x, y: torch.sum(x * y, dim=-1)\n",
    "n=len(x);\n",
    "leaves_embeddings = model.normalize_embeddings(model.embeddings.weight.data)\n",
    "leaves_embeddings = project(leaves_embeddings).detach().cpu()\n",
    "ijs = sl_np_mst_ij(leaves_embeddings,sim_fn)\n",
    "uf = UnionFind(n)\n",
    "uf.merge(ijs)\n",
    "\n",
    "tree = nx.DiGraph()\n",
    "for i, j in enumerate(uf.tree()[:-1]):\n",
    "    if(j!=-1):\n",
    "        tree.add_edge(j, i)\n",
    "\n",
    "n = len(leaves_embeddings)\n",
    "embeddings = complete_tree(tree, leaves_embeddings)\n",
    "colors = get_colors(meta_list1, 1234)\n",
    "fig = plt.figure(figsize=(15, 15))\n",
    "ax = fig.add_subplot(111)\n",
    "circle = plt.Circle((0, 0), 1.0, color='r', alpha=0.1)\n",
    "ax.add_artist(circle)\n",
    "ax.scatter(embeddings[:n, 0], embeddings[:n, 1], c=colors, s=50, alpha=0.6)\n",
    "# ax.scatter(embeddings[n:,0],embeddings[n:,1],color ='black',s=20,alpha=0.6)\n",
    "for n1, n2 in tree.edges():\n",
    "    x1 = embeddings[n1];\n",
    "    x2 = embeddings[n2]\n",
    "    plot_geodesic(x1,x2,ax)"
   ]
  },
  {
   "cell_type": "code",
   "execution_count": 174,
   "metadata": {},
   "outputs": [
    {
     "name": "stdout",
     "output_type": "stream",
     "text": [
      "{'TRGV4 gdT': '#184e77', 'empty': '#fff', 'TRGV5/7 gdT': '#168aad', 'TRDV2/TRGV9 gdT': '#34a0a4'}\n"
     ]
    },
    {
     "data": {
      "application/vnd.plotly.v1+json": {
       "config": {
        "plotlyServerURL": "https://plot.ly"
       },
       "data": [
        {
         "hoverinfo": "text",
         "hovertext": [
          "1_TRGV4 gdT",
          "2_TRGV4 gdT",
          "3_TRGV4 gdT",
          "7_TRGV4 gdT",
          "4_TRGV4 gdT"
         ],
         "legendgroup": "TRGV4 gdT",
         "marker": {
          "color": "#184e77",
          "size": 10,
          "symbol": "circle-dot"
         },
         "mode": "markers+text",
         "name": "TRGV4 gdT",
         "type": "scatter",
         "x": [
          1.5625,
          2.6875,
          3.8125,
          4.9375,
          9.15625
         ],
         "y": [
          0.5,
          0.5,
          0.5,
          0.5,
          -1
         ]
        },
        {
         "hoverinfo": "text",
         "hovertext": [
          "20",
          "16",
          "12",
          "13",
          "19",
          "14",
          "18",
          "11",
          "17",
          "15"
         ],
         "legendgroup": "empty",
         "marker": {
          "color": "#fff",
          "size": 10,
          "symbol": "circle-dot"
         },
         "mode": "markers+text",
         "name": "empty",
         "type": "scatter",
         "x": [
          5.5,
          3.25,
          2.125,
          4.375,
          7.75,
          6.625,
          8.875,
          8.3125,
          9.4375,
          9.71875
         ],
         "y": [
          5,
          3.5,
          2,
          2,
          3.5,
          2,
          2,
          0.5,
          0.5,
          -1
         ]
        },
        {
         "hoverinfo": "text",
         "hovertext": [
          "0_TRGV5/7 gdT",
          "9_TRGV5/7 gdT",
          "5_TRGV5/7 gdT",
          "6_TRGV5/7 gdT"
         ],
         "legendgroup": "TRGV5/7 gdT",
         "marker": {
          "color": "#168aad",
          "size": 10,
          "symbol": "circle-dot"
         },
         "mode": "markers+text",
         "name": "TRGV5/7 gdT",
         "type": "scatter",
         "x": [
          8.03125,
          8.59375,
          9.578125,
          9.859375
         ],
         "y": [
          -1,
          -1,
          -2.5,
          -2.5
         ]
        },
        {
         "hoverinfo": "text",
         "hovertext": [
          "8_TRDV2/TRGV9 gdT",
          "10_TRDV2/TRGV9 gdT"
         ],
         "legendgroup": "TRDV2/TRGV9 gdT",
         "marker": {
          "color": "#34a0a4",
          "size": 10,
          "symbol": "circle-dot"
         },
         "mode": "markers+text",
         "name": "TRDV2/TRGV9 gdT",
         "type": "scatter",
         "x": [
          6.0625,
          7.1875
         ],
         "y": [
          0.5,
          0.5
         ]
        }
       ],
       "layout": {
        "height": 500,
        "shapes": [
         {
          "layer": "below",
          "line": {
           "color": "#333",
           "width": 2
          },
          "type": "line",
          "x0": 5.5,
          "x1": 5.5,
          "y0": 5,
          "y1": 5
         },
         {
          "layer": "below",
          "line": {
           "color": "#333",
           "width": 2
          },
          "type": "line",
          "x0": 5.5,
          "x1": 3.25,
          "y0": 5,
          "y1": 3.5
         },
         {
          "layer": "below",
          "line": {
           "color": "#333",
           "width": 2
          },
          "type": "line",
          "x0": 3.25,
          "x1": 2.125,
          "y0": 3.5,
          "y1": 2
         },
         {
          "layer": "below",
          "line": {
           "color": "#333",
           "width": 2
          },
          "type": "line",
          "x0": 2.125,
          "x1": 1.5625,
          "y0": 2,
          "y1": 0.5
         },
         {
          "layer": "below",
          "line": {
           "color": "#333",
           "width": 2
          },
          "type": "line",
          "x0": 2.125,
          "x1": 2.6875,
          "y0": 2,
          "y1": 0.5
         },
         {
          "layer": "below",
          "line": {
           "color": "#333",
           "width": 2
          },
          "type": "line",
          "x0": 3.25,
          "x1": 4.375,
          "y0": 3.5,
          "y1": 2
         },
         {
          "layer": "below",
          "line": {
           "color": "#333",
           "width": 2
          },
          "type": "line",
          "x0": 4.375,
          "x1": 3.8125,
          "y0": 2,
          "y1": 0.5
         },
         {
          "layer": "below",
          "line": {
           "color": "#333",
           "width": 2
          },
          "type": "line",
          "x0": 4.375,
          "x1": 4.9375,
          "y0": 2,
          "y1": 0.5
         },
         {
          "layer": "below",
          "line": {
           "color": "#333",
           "width": 2
          },
          "type": "line",
          "x0": 5.5,
          "x1": 7.75,
          "y0": 5,
          "y1": 3.5
         },
         {
          "layer": "below",
          "line": {
           "color": "#333",
           "width": 2
          },
          "type": "line",
          "x0": 7.75,
          "x1": 6.625,
          "y0": 3.5,
          "y1": 2
         },
         {
          "layer": "below",
          "line": {
           "color": "#333",
           "width": 2
          },
          "type": "line",
          "x0": 6.625,
          "x1": 6.0625,
          "y0": 2,
          "y1": 0.5
         },
         {
          "layer": "below",
          "line": {
           "color": "#333",
           "width": 2
          },
          "type": "line",
          "x0": 6.625,
          "x1": 7.1875,
          "y0": 2,
          "y1": 0.5
         },
         {
          "layer": "below",
          "line": {
           "color": "#333",
           "width": 2
          },
          "type": "line",
          "x0": 7.75,
          "x1": 8.875,
          "y0": 3.5,
          "y1": 2
         },
         {
          "layer": "below",
          "line": {
           "color": "#333",
           "width": 2
          },
          "type": "line",
          "x0": 8.875,
          "x1": 8.3125,
          "y0": 2,
          "y1": 0.5
         },
         {
          "layer": "below",
          "line": {
           "color": "#333",
           "width": 2
          },
          "type": "line",
          "x0": 8.3125,
          "x1": 8.03125,
          "y0": 0.5,
          "y1": -1
         },
         {
          "layer": "below",
          "line": {
           "color": "#333",
           "width": 2
          },
          "type": "line",
          "x0": 8.3125,
          "x1": 8.59375,
          "y0": 0.5,
          "y1": -1
         },
         {
          "layer": "below",
          "line": {
           "color": "#333",
           "width": 2
          },
          "type": "line",
          "x0": 8.875,
          "x1": 9.4375,
          "y0": 2,
          "y1": 0.5
         },
         {
          "layer": "below",
          "line": {
           "color": "#333",
           "width": 2
          },
          "type": "line",
          "x0": 9.4375,
          "x1": 9.15625,
          "y0": 0.5,
          "y1": -1
         },
         {
          "layer": "below",
          "line": {
           "color": "#333",
           "width": 2
          },
          "type": "line",
          "x0": 9.4375,
          "x1": 9.71875,
          "y0": 0.5,
          "y1": -1
         },
         {
          "layer": "below",
          "line": {
           "color": "#333",
           "width": 2
          },
          "type": "line",
          "x0": 9.71875,
          "x1": 9.578125,
          "y0": -1,
          "y1": -2.5
         },
         {
          "layer": "below",
          "line": {
           "color": "#333",
           "width": 2
          },
          "type": "line",
          "x0": 9.71875,
          "x1": 9.859375,
          "y0": -1,
          "y1": -2.5
         }
        ],
        "template": {
         "data": {
          "bar": [
           {
            "error_x": {
             "color": "#2a3f5f"
            },
            "error_y": {
             "color": "#2a3f5f"
            },
            "marker": {
             "line": {
              "color": "#E5ECF6",
              "width": 0.5
             },
             "pattern": {
              "fillmode": "overlay",
              "size": 10,
              "solidity": 0.2
             }
            },
            "type": "bar"
           }
          ],
          "barpolar": [
           {
            "marker": {
             "line": {
              "color": "#E5ECF6",
              "width": 0.5
             },
             "pattern": {
              "fillmode": "overlay",
              "size": 10,
              "solidity": 0.2
             }
            },
            "type": "barpolar"
           }
          ],
          "carpet": [
           {
            "aaxis": {
             "endlinecolor": "#2a3f5f",
             "gridcolor": "white",
             "linecolor": "white",
             "minorgridcolor": "white",
             "startlinecolor": "#2a3f5f"
            },
            "baxis": {
             "endlinecolor": "#2a3f5f",
             "gridcolor": "white",
             "linecolor": "white",
             "minorgridcolor": "white",
             "startlinecolor": "#2a3f5f"
            },
            "type": "carpet"
           }
          ],
          "choropleth": [
           {
            "colorbar": {
             "outlinewidth": 0,
             "ticks": ""
            },
            "type": "choropleth"
           }
          ],
          "contour": [
           {
            "colorbar": {
             "outlinewidth": 0,
             "ticks": ""
            },
            "colorscale": [
             [
              0,
              "#0d0887"
             ],
             [
              0.1111111111111111,
              "#46039f"
             ],
             [
              0.2222222222222222,
              "#7201a8"
             ],
             [
              0.3333333333333333,
              "#9c179e"
             ],
             [
              0.4444444444444444,
              "#bd3786"
             ],
             [
              0.5555555555555556,
              "#d8576b"
             ],
             [
              0.6666666666666666,
              "#ed7953"
             ],
             [
              0.7777777777777778,
              "#fb9f3a"
             ],
             [
              0.8888888888888888,
              "#fdca26"
             ],
             [
              1,
              "#f0f921"
             ]
            ],
            "type": "contour"
           }
          ],
          "contourcarpet": [
           {
            "colorbar": {
             "outlinewidth": 0,
             "ticks": ""
            },
            "type": "contourcarpet"
           }
          ],
          "heatmap": [
           {
            "colorbar": {
             "outlinewidth": 0,
             "ticks": ""
            },
            "colorscale": [
             [
              0,
              "#0d0887"
             ],
             [
              0.1111111111111111,
              "#46039f"
             ],
             [
              0.2222222222222222,
              "#7201a8"
             ],
             [
              0.3333333333333333,
              "#9c179e"
             ],
             [
              0.4444444444444444,
              "#bd3786"
             ],
             [
              0.5555555555555556,
              "#d8576b"
             ],
             [
              0.6666666666666666,
              "#ed7953"
             ],
             [
              0.7777777777777778,
              "#fb9f3a"
             ],
             [
              0.8888888888888888,
              "#fdca26"
             ],
             [
              1,
              "#f0f921"
             ]
            ],
            "type": "heatmap"
           }
          ],
          "heatmapgl": [
           {
            "colorbar": {
             "outlinewidth": 0,
             "ticks": ""
            },
            "colorscale": [
             [
              0,
              "#0d0887"
             ],
             [
              0.1111111111111111,
              "#46039f"
             ],
             [
              0.2222222222222222,
              "#7201a8"
             ],
             [
              0.3333333333333333,
              "#9c179e"
             ],
             [
              0.4444444444444444,
              "#bd3786"
             ],
             [
              0.5555555555555556,
              "#d8576b"
             ],
             [
              0.6666666666666666,
              "#ed7953"
             ],
             [
              0.7777777777777778,
              "#fb9f3a"
             ],
             [
              0.8888888888888888,
              "#fdca26"
             ],
             [
              1,
              "#f0f921"
             ]
            ],
            "type": "heatmapgl"
           }
          ],
          "histogram": [
           {
            "marker": {
             "pattern": {
              "fillmode": "overlay",
              "size": 10,
              "solidity": 0.2
             }
            },
            "type": "histogram"
           }
          ],
          "histogram2d": [
           {
            "colorbar": {
             "outlinewidth": 0,
             "ticks": ""
            },
            "colorscale": [
             [
              0,
              "#0d0887"
             ],
             [
              0.1111111111111111,
              "#46039f"
             ],
             [
              0.2222222222222222,
              "#7201a8"
             ],
             [
              0.3333333333333333,
              "#9c179e"
             ],
             [
              0.4444444444444444,
              "#bd3786"
             ],
             [
              0.5555555555555556,
              "#d8576b"
             ],
             [
              0.6666666666666666,
              "#ed7953"
             ],
             [
              0.7777777777777778,
              "#fb9f3a"
             ],
             [
              0.8888888888888888,
              "#fdca26"
             ],
             [
              1,
              "#f0f921"
             ]
            ],
            "type": "histogram2d"
           }
          ],
          "histogram2dcontour": [
           {
            "colorbar": {
             "outlinewidth": 0,
             "ticks": ""
            },
            "colorscale": [
             [
              0,
              "#0d0887"
             ],
             [
              0.1111111111111111,
              "#46039f"
             ],
             [
              0.2222222222222222,
              "#7201a8"
             ],
             [
              0.3333333333333333,
              "#9c179e"
             ],
             [
              0.4444444444444444,
              "#bd3786"
             ],
             [
              0.5555555555555556,
              "#d8576b"
             ],
             [
              0.6666666666666666,
              "#ed7953"
             ],
             [
              0.7777777777777778,
              "#fb9f3a"
             ],
             [
              0.8888888888888888,
              "#fdca26"
             ],
             [
              1,
              "#f0f921"
             ]
            ],
            "type": "histogram2dcontour"
           }
          ],
          "mesh3d": [
           {
            "colorbar": {
             "outlinewidth": 0,
             "ticks": ""
            },
            "type": "mesh3d"
           }
          ],
          "parcoords": [
           {
            "line": {
             "colorbar": {
              "outlinewidth": 0,
              "ticks": ""
             }
            },
            "type": "parcoords"
           }
          ],
          "pie": [
           {
            "automargin": true,
            "type": "pie"
           }
          ],
          "scatter": [
           {
            "fillpattern": {
             "fillmode": "overlay",
             "size": 10,
             "solidity": 0.2
            },
            "type": "scatter"
           }
          ],
          "scatter3d": [
           {
            "line": {
             "colorbar": {
              "outlinewidth": 0,
              "ticks": ""
             }
            },
            "marker": {
             "colorbar": {
              "outlinewidth": 0,
              "ticks": ""
             }
            },
            "type": "scatter3d"
           }
          ],
          "scattercarpet": [
           {
            "marker": {
             "colorbar": {
              "outlinewidth": 0,
              "ticks": ""
             }
            },
            "type": "scattercarpet"
           }
          ],
          "scattergeo": [
           {
            "marker": {
             "colorbar": {
              "outlinewidth": 0,
              "ticks": ""
             }
            },
            "type": "scattergeo"
           }
          ],
          "scattergl": [
           {
            "marker": {
             "colorbar": {
              "outlinewidth": 0,
              "ticks": ""
             }
            },
            "type": "scattergl"
           }
          ],
          "scattermapbox": [
           {
            "marker": {
             "colorbar": {
              "outlinewidth": 0,
              "ticks": ""
             }
            },
            "type": "scattermapbox"
           }
          ],
          "scatterpolar": [
           {
            "marker": {
             "colorbar": {
              "outlinewidth": 0,
              "ticks": ""
             }
            },
            "type": "scatterpolar"
           }
          ],
          "scatterpolargl": [
           {
            "marker": {
             "colorbar": {
              "outlinewidth": 0,
              "ticks": ""
             }
            },
            "type": "scatterpolargl"
           }
          ],
          "scatterternary": [
           {
            "marker": {
             "colorbar": {
              "outlinewidth": 0,
              "ticks": ""
             }
            },
            "type": "scatterternary"
           }
          ],
          "surface": [
           {
            "colorbar": {
             "outlinewidth": 0,
             "ticks": ""
            },
            "colorscale": [
             [
              0,
              "#0d0887"
             ],
             [
              0.1111111111111111,
              "#46039f"
             ],
             [
              0.2222222222222222,
              "#7201a8"
             ],
             [
              0.3333333333333333,
              "#9c179e"
             ],
             [
              0.4444444444444444,
              "#bd3786"
             ],
             [
              0.5555555555555556,
              "#d8576b"
             ],
             [
              0.6666666666666666,
              "#ed7953"
             ],
             [
              0.7777777777777778,
              "#fb9f3a"
             ],
             [
              0.8888888888888888,
              "#fdca26"
             ],
             [
              1,
              "#f0f921"
             ]
            ],
            "type": "surface"
           }
          ],
          "table": [
           {
            "cells": {
             "fill": {
              "color": "#EBF0F8"
             },
             "line": {
              "color": "white"
             }
            },
            "header": {
             "fill": {
              "color": "#C8D4E3"
             },
             "line": {
              "color": "white"
             }
            },
            "type": "table"
           }
          ]
         },
         "layout": {
          "annotationdefaults": {
           "arrowcolor": "#2a3f5f",
           "arrowhead": 0,
           "arrowwidth": 1
          },
          "autotypenumbers": "strict",
          "coloraxis": {
           "colorbar": {
            "outlinewidth": 0,
            "ticks": ""
           }
          },
          "colorscale": {
           "diverging": [
            [
             0,
             "#8e0152"
            ],
            [
             0.1,
             "#c51b7d"
            ],
            [
             0.2,
             "#de77ae"
            ],
            [
             0.3,
             "#f1b6da"
            ],
            [
             0.4,
             "#fde0ef"
            ],
            [
             0.5,
             "#f7f7f7"
            ],
            [
             0.6,
             "#e6f5d0"
            ],
            [
             0.7,
             "#b8e186"
            ],
            [
             0.8,
             "#7fbc41"
            ],
            [
             0.9,
             "#4d9221"
            ],
            [
             1,
             "#276419"
            ]
           ],
           "sequential": [
            [
             0,
             "#0d0887"
            ],
            [
             0.1111111111111111,
             "#46039f"
            ],
            [
             0.2222222222222222,
             "#7201a8"
            ],
            [
             0.3333333333333333,
             "#9c179e"
            ],
            [
             0.4444444444444444,
             "#bd3786"
            ],
            [
             0.5555555555555556,
             "#d8576b"
            ],
            [
             0.6666666666666666,
             "#ed7953"
            ],
            [
             0.7777777777777778,
             "#fb9f3a"
            ],
            [
             0.8888888888888888,
             "#fdca26"
            ],
            [
             1,
             "#f0f921"
            ]
           ],
           "sequentialminus": [
            [
             0,
             "#0d0887"
            ],
            [
             0.1111111111111111,
             "#46039f"
            ],
            [
             0.2222222222222222,
             "#7201a8"
            ],
            [
             0.3333333333333333,
             "#9c179e"
            ],
            [
             0.4444444444444444,
             "#bd3786"
            ],
            [
             0.5555555555555556,
             "#d8576b"
            ],
            [
             0.6666666666666666,
             "#ed7953"
            ],
            [
             0.7777777777777778,
             "#fb9f3a"
            ],
            [
             0.8888888888888888,
             "#fdca26"
            ],
            [
             1,
             "#f0f921"
            ]
           ]
          },
          "colorway": [
           "#636efa",
           "#EF553B",
           "#00cc96",
           "#ab63fa",
           "#FFA15A",
           "#19d3f3",
           "#FF6692",
           "#B6E880",
           "#FF97FF",
           "#FECB52"
          ],
          "font": {
           "color": "#2a3f5f"
          },
          "geo": {
           "bgcolor": "white",
           "lakecolor": "white",
           "landcolor": "#E5ECF6",
           "showlakes": true,
           "showland": true,
           "subunitcolor": "white"
          },
          "hoverlabel": {
           "align": "left"
          },
          "hovermode": "closest",
          "mapbox": {
           "style": "light"
          },
          "paper_bgcolor": "white",
          "plot_bgcolor": "#E5ECF6",
          "polar": {
           "angularaxis": {
            "gridcolor": "white",
            "linecolor": "white",
            "ticks": ""
           },
           "bgcolor": "#E5ECF6",
           "radialaxis": {
            "gridcolor": "white",
            "linecolor": "white",
            "ticks": ""
           }
          },
          "scene": {
           "xaxis": {
            "backgroundcolor": "#E5ECF6",
            "gridcolor": "white",
            "gridwidth": 2,
            "linecolor": "white",
            "showbackground": true,
            "ticks": "",
            "zerolinecolor": "white"
           },
           "yaxis": {
            "backgroundcolor": "#E5ECF6",
            "gridcolor": "white",
            "gridwidth": 2,
            "linecolor": "white",
            "showbackground": true,
            "ticks": "",
            "zerolinecolor": "white"
           },
           "zaxis": {
            "backgroundcolor": "#E5ECF6",
            "gridcolor": "white",
            "gridwidth": 2,
            "linecolor": "white",
            "showbackground": true,
            "ticks": "",
            "zerolinecolor": "white"
           }
          },
          "shapedefaults": {
           "line": {
            "color": "#2a3f5f"
           }
          },
          "ternary": {
           "aaxis": {
            "gridcolor": "white",
            "linecolor": "white",
            "ticks": ""
           },
           "baxis": {
            "gridcolor": "white",
            "linecolor": "white",
            "ticks": ""
           },
           "bgcolor": "#E5ECF6",
           "caxis": {
            "gridcolor": "white",
            "linecolor": "white",
            "ticks": ""
           }
          },
          "title": {
           "x": 0.05
          },
          "xaxis": {
           "automargin": true,
           "gridcolor": "white",
           "linecolor": "white",
           "ticks": "",
           "title": {
            "standoff": 15
           },
           "zerolinecolor": "white",
           "zerolinewidth": 2
          },
          "yaxis": {
           "automargin": true,
           "gridcolor": "white",
           "linecolor": "white",
           "ticks": "",
           "title": {
            "standoff": 15
           },
           "zerolinecolor": "white",
           "zerolinewidth": 2
          }
         }
        },
        "width": 1000,
        "xaxis": {
         "showgrid": false,
         "showline": false,
         "showticklabels": false,
         "zeroline": false
        },
        "yaxis": {
         "showgrid": false,
         "showline": false,
         "showticklabels": false,
         "zeroline": false
        }
       }
      }
     },
     "metadata": {},
     "output_type": "display_data"
    }
   ],
   "source": [
    "\n",
    "nodes1 = [node(name=str(i),son=[]) for i in range(len(uf.tree()))]\n",
    "for i in range(n):\n",
    "    nodes1[i].subson=[i];\n",
    "for i,j in enumerate(uf.tree()):\n",
    "    if(j!=-1):\n",
    "        nodes1[j].son.append(nodes1[i])\n",
    "    nodes1[i].value=torch.tensor(embeddings[i]);\n",
    "    nodes1[i].hyper=torch.tensor(embeddings[i])\n",
    "root = nodes1[-1];\n",
    "add_meta(root,meta_list1,[])\n",
    "show_tree(root,color=['#184e77','#1a759f','#168aad',\"#34a0a4\",'#52b69a','#99d98c','#76c893','#99d98c']).show_fig()\n",
    "remove_meta(root);"
   ]
  },
  {
   "cell_type": "code",
   "execution_count": 175,
   "metadata": {},
   "outputs": [
    {
     "name": "stdout",
     "output_type": "stream",
     "text": [
      "45 255\n",
      "\t Epoch 0 | average train loss1: 0.416287\n"
     ]
    },
    {
     "name": "stderr",
     "output_type": "stream",
     "text": [
      "/Users/dongjiajie/Desktop/alignment/fyp/hyperalignment/final/datasets/balance_dataset.py:54: VisibleDeprecationWarning:\n",
      "\n",
      "Creating an ndarray from ragged nested sequences (which is a list-or-tuple of lists-or-tuples-or ndarrays with different lengths or shapes) is deprecated. If you meant to do this, you must specify 'dtype=object' when creating the ndarray.\n",
      "\n",
      "/Users/dongjiajie/Desktop/alignment/fyp/hyperalignment/final/model/balancehc.py:22: UserWarning:\n",
      "\n",
      "To copy construct from a tensor, it is recommended to use sourceTensor.clone().detach() or sourceTensor.clone().detach().requires_grad_(True), rather than torch.tensor(sourceTensor).\n",
      "\n"
     ]
    },
    {
     "name": "stdout",
     "output_type": "stream",
     "text": [
      "\t Epoch 0 | average train loss2: 0.368832\n",
      "\t Epoch 1 | average train loss1: 0.428930\n"
     ]
    },
    {
     "name": "stderr",
     "output_type": "stream",
     "text": [
      "/Users/dongjiajie/Desktop/alignment/fyp/hyperalignment/final/model/balancehc.py:46: UserWarning:\n",
      "\n",
      "To copy construct from a tensor, it is recommended to use sourceTensor.clone().detach() or sourceTensor.clone().detach().requires_grad_(True), rather than torch.tensor(sourceTensor).\n",
      "\n",
      "/Users/dongjiajie/Desktop/alignment/fyp/hyperalignment/final/model/balancehc.py:71: UserWarning:\n",
      "\n",
      "To copy construct from a tensor, it is recommended to use sourceTensor.clone().detach() or sourceTensor.clone().detach().requires_grad_(True), rather than torch.tensor(sourceTensor).\n",
      "\n",
      "/Users/dongjiajie/Desktop/alignment/fyp/hyperalignment/final/model/balancehc.py:92: UserWarning:\n",
      "\n",
      "To copy construct from a tensor, it is recommended to use sourceTensor.clone().detach() or sourceTensor.clone().detach().requires_grad_(True), rather than torch.tensor(sourceTensor).\n",
      "\n"
     ]
    },
    {
     "name": "stdout",
     "output_type": "stream",
     "text": [
      "\t Epoch 1 | average train loss2: 0.369350\n",
      "\t Epoch 2 | average train loss1: 0.418986\n",
      "\t Epoch 2 | average train loss2: 0.368431\n"
     ]
    }
   ],
   "source": [
    "temp = rotate(nodes1,embeddings,3,n,similarities)\n",
    "for i in nodes1:\n",
    "    i.hyper = temp[int(i)]\n",
    "    i.value =  temp[int(i)]\n",
    "embeddings = temp.numpy();\n",
    "root = nodes1[-1]"
   ]
  },
  {
   "cell_type": "code",
   "execution_count": 176,
   "metadata": {},
   "outputs": [
    {
     "name": "stdout",
     "output_type": "stream",
     "text": [
      "12 2\n",
      "13 3\n",
      "14 8\n",
      "11 9\n",
      "15 5\n",
      "[20, 16, 2, 1, 3, 7, 19, 8, 10, 18, 9, 0, 17, 4, 5, 6]\n",
      "66 210\n",
      "\t Epoch 0 | average train loss1: 0.352897\n",
      "\t Epoch 0 | average train loss2: 0.354138\n",
      "\t Epoch 1 | average train loss1: 0.355347\n",
      "\t Epoch 1 | average train loss2: 0.353779\n",
      "\t Epoch 2 | average train loss1: 0.354766\n",
      "\t Epoch 2 | average train loss2: 0.353181\n",
      "{'TRGV4 gdT': '#184e77', 'empty': '#fff', 'TRGV5/7 gdT': '#168aad', 'TRDV2/TRGV9 gdT': '#34a0a4'}\n"
     ]
    },
    {
     "data": {
      "application/vnd.plotly.v1+json": {
       "config": {
        "plotlyServerURL": "https://plot.ly"
       },
       "data": [
        {
         "hoverinfo": "text",
         "hovertext": [
          "2_TRGV4 gdT",
          "1_TRGV4 gdT",
          "3_TRGV4 gdT",
          "7_TRGV4 gdT",
          "4_TRGV4 gdT"
         ],
         "legendgroup": "TRGV4 gdT",
         "marker": {
          "color": "#184e77",
          "size": 10,
          "symbol": "circle-dot"
         },
         "mode": "markers+text",
         "name": "TRGV4 gdT",
         "type": "scatter",
         "x": [
          2.125,
          2.125,
          4.375,
          4.375,
          9.15625
         ],
         "y": [
          2,
          0.5,
          2,
          0.5,
          -1
         ]
        },
        {
         "hoverinfo": "text",
         "hovertext": [
          "20",
          "16",
          "19",
          "18",
          "17"
         ],
         "legendgroup": "empty",
         "marker": {
          "color": "#fff",
          "size": 10,
          "symbol": "circle-dot"
         },
         "mode": "markers+text",
         "name": "empty",
         "type": "scatter",
         "x": [
          5.5,
          3.25,
          7.75,
          8.875,
          9.4375
         ],
         "y": [
          5,
          3.5,
          3.5,
          2,
          0.5
         ]
        },
        {
         "hoverinfo": "text",
         "hovertext": [
          "9_TRGV5/7 gdT",
          "0_TRGV5/7 gdT",
          "5_TRGV5/7 gdT",
          "6_TRGV5/7 gdT"
         ],
         "legendgroup": "TRGV5/7 gdT",
         "marker": {
          "color": "#168aad",
          "size": 10,
          "symbol": "circle-dot"
         },
         "mode": "markers+text",
         "name": "TRGV5/7 gdT",
         "type": "scatter",
         "x": [
          8.3125,
          8.3125,
          9.71875,
          9.71875
         ],
         "y": [
          0.5,
          -1,
          -1,
          -2.5
         ]
        },
        {
         "hoverinfo": "text",
         "hovertext": [
          "8_TRDV2/TRGV9 gdT",
          "10_TRDV2/TRGV9 gdT"
         ],
         "legendgroup": "TRDV2/TRGV9 gdT",
         "marker": {
          "color": "#34a0a4",
          "size": 10,
          "symbol": "circle-dot"
         },
         "mode": "markers+text",
         "name": "TRDV2/TRGV9 gdT",
         "type": "scatter",
         "x": [
          6.625,
          6.625
         ],
         "y": [
          2,
          0.5
         ]
        }
       ],
       "layout": {
        "height": 500,
        "shapes": [
         {
          "layer": "below",
          "line": {
           "color": "#333",
           "width": 2
          },
          "type": "line",
          "x0": 5.5,
          "x1": 5.5,
          "y0": 5,
          "y1": 5
         },
         {
          "layer": "below",
          "line": {
           "color": "#333",
           "width": 2
          },
          "type": "line",
          "x0": 5.5,
          "x1": 3.25,
          "y0": 5,
          "y1": 3.5
         },
         {
          "layer": "below",
          "line": {
           "color": "#333",
           "width": 2
          },
          "type": "line",
          "x0": 3.25,
          "x1": 2.125,
          "y0": 3.5,
          "y1": 2
         },
         {
          "layer": "below",
          "line": {
           "color": "#333",
           "width": 2
          },
          "type": "line",
          "x0": 2.125,
          "x1": 2.125,
          "y0": 2,
          "y1": 0.5
         },
         {
          "layer": "below",
          "line": {
           "color": "#333",
           "width": 2
          },
          "type": "line",
          "x0": 3.25,
          "x1": 4.375,
          "y0": 3.5,
          "y1": 2
         },
         {
          "layer": "below",
          "line": {
           "color": "#333",
           "width": 2
          },
          "type": "line",
          "x0": 4.375,
          "x1": 4.375,
          "y0": 2,
          "y1": 0.5
         },
         {
          "layer": "below",
          "line": {
           "color": "#333",
           "width": 2
          },
          "type": "line",
          "x0": 5.5,
          "x1": 7.75,
          "y0": 5,
          "y1": 3.5
         },
         {
          "layer": "below",
          "line": {
           "color": "#333",
           "width": 2
          },
          "type": "line",
          "x0": 7.75,
          "x1": 6.625,
          "y0": 3.5,
          "y1": 2
         },
         {
          "layer": "below",
          "line": {
           "color": "#333",
           "width": 2
          },
          "type": "line",
          "x0": 6.625,
          "x1": 6.625,
          "y0": 2,
          "y1": 0.5
         },
         {
          "layer": "below",
          "line": {
           "color": "#333",
           "width": 2
          },
          "type": "line",
          "x0": 7.75,
          "x1": 8.875,
          "y0": 3.5,
          "y1": 2
         },
         {
          "layer": "below",
          "line": {
           "color": "#333",
           "width": 2
          },
          "type": "line",
          "x0": 8.875,
          "x1": 8.3125,
          "y0": 2,
          "y1": 0.5
         },
         {
          "layer": "below",
          "line": {
           "color": "#333",
           "width": 2
          },
          "type": "line",
          "x0": 8.3125,
          "x1": 8.3125,
          "y0": 0.5,
          "y1": -1
         },
         {
          "layer": "below",
          "line": {
           "color": "#333",
           "width": 2
          },
          "type": "line",
          "x0": 8.875,
          "x1": 9.4375,
          "y0": 2,
          "y1": 0.5
         },
         {
          "layer": "below",
          "line": {
           "color": "#333",
           "width": 2
          },
          "type": "line",
          "x0": 9.4375,
          "x1": 9.15625,
          "y0": 0.5,
          "y1": -1
         },
         {
          "layer": "below",
          "line": {
           "color": "#333",
           "width": 2
          },
          "type": "line",
          "x0": 9.4375,
          "x1": 9.71875,
          "y0": 0.5,
          "y1": -1
         },
         {
          "layer": "below",
          "line": {
           "color": "#333",
           "width": 2
          },
          "type": "line",
          "x0": 9.71875,
          "x1": 9.71875,
          "y0": -1,
          "y1": -2.5
         }
        ],
        "template": {
         "data": {
          "bar": [
           {
            "error_x": {
             "color": "#2a3f5f"
            },
            "error_y": {
             "color": "#2a3f5f"
            },
            "marker": {
             "line": {
              "color": "#E5ECF6",
              "width": 0.5
             },
             "pattern": {
              "fillmode": "overlay",
              "size": 10,
              "solidity": 0.2
             }
            },
            "type": "bar"
           }
          ],
          "barpolar": [
           {
            "marker": {
             "line": {
              "color": "#E5ECF6",
              "width": 0.5
             },
             "pattern": {
              "fillmode": "overlay",
              "size": 10,
              "solidity": 0.2
             }
            },
            "type": "barpolar"
           }
          ],
          "carpet": [
           {
            "aaxis": {
             "endlinecolor": "#2a3f5f",
             "gridcolor": "white",
             "linecolor": "white",
             "minorgridcolor": "white",
             "startlinecolor": "#2a3f5f"
            },
            "baxis": {
             "endlinecolor": "#2a3f5f",
             "gridcolor": "white",
             "linecolor": "white",
             "minorgridcolor": "white",
             "startlinecolor": "#2a3f5f"
            },
            "type": "carpet"
           }
          ],
          "choropleth": [
           {
            "colorbar": {
             "outlinewidth": 0,
             "ticks": ""
            },
            "type": "choropleth"
           }
          ],
          "contour": [
           {
            "colorbar": {
             "outlinewidth": 0,
             "ticks": ""
            },
            "colorscale": [
             [
              0,
              "#0d0887"
             ],
             [
              0.1111111111111111,
              "#46039f"
             ],
             [
              0.2222222222222222,
              "#7201a8"
             ],
             [
              0.3333333333333333,
              "#9c179e"
             ],
             [
              0.4444444444444444,
              "#bd3786"
             ],
             [
              0.5555555555555556,
              "#d8576b"
             ],
             [
              0.6666666666666666,
              "#ed7953"
             ],
             [
              0.7777777777777778,
              "#fb9f3a"
             ],
             [
              0.8888888888888888,
              "#fdca26"
             ],
             [
              1,
              "#f0f921"
             ]
            ],
            "type": "contour"
           }
          ],
          "contourcarpet": [
           {
            "colorbar": {
             "outlinewidth": 0,
             "ticks": ""
            },
            "type": "contourcarpet"
           }
          ],
          "heatmap": [
           {
            "colorbar": {
             "outlinewidth": 0,
             "ticks": ""
            },
            "colorscale": [
             [
              0,
              "#0d0887"
             ],
             [
              0.1111111111111111,
              "#46039f"
             ],
             [
              0.2222222222222222,
              "#7201a8"
             ],
             [
              0.3333333333333333,
              "#9c179e"
             ],
             [
              0.4444444444444444,
              "#bd3786"
             ],
             [
              0.5555555555555556,
              "#d8576b"
             ],
             [
              0.6666666666666666,
              "#ed7953"
             ],
             [
              0.7777777777777778,
              "#fb9f3a"
             ],
             [
              0.8888888888888888,
              "#fdca26"
             ],
             [
              1,
              "#f0f921"
             ]
            ],
            "type": "heatmap"
           }
          ],
          "heatmapgl": [
           {
            "colorbar": {
             "outlinewidth": 0,
             "ticks": ""
            },
            "colorscale": [
             [
              0,
              "#0d0887"
             ],
             [
              0.1111111111111111,
              "#46039f"
             ],
             [
              0.2222222222222222,
              "#7201a8"
             ],
             [
              0.3333333333333333,
              "#9c179e"
             ],
             [
              0.4444444444444444,
              "#bd3786"
             ],
             [
              0.5555555555555556,
              "#d8576b"
             ],
             [
              0.6666666666666666,
              "#ed7953"
             ],
             [
              0.7777777777777778,
              "#fb9f3a"
             ],
             [
              0.8888888888888888,
              "#fdca26"
             ],
             [
              1,
              "#f0f921"
             ]
            ],
            "type": "heatmapgl"
           }
          ],
          "histogram": [
           {
            "marker": {
             "pattern": {
              "fillmode": "overlay",
              "size": 10,
              "solidity": 0.2
             }
            },
            "type": "histogram"
           }
          ],
          "histogram2d": [
           {
            "colorbar": {
             "outlinewidth": 0,
             "ticks": ""
            },
            "colorscale": [
             [
              0,
              "#0d0887"
             ],
             [
              0.1111111111111111,
              "#46039f"
             ],
             [
              0.2222222222222222,
              "#7201a8"
             ],
             [
              0.3333333333333333,
              "#9c179e"
             ],
             [
              0.4444444444444444,
              "#bd3786"
             ],
             [
              0.5555555555555556,
              "#d8576b"
             ],
             [
              0.6666666666666666,
              "#ed7953"
             ],
             [
              0.7777777777777778,
              "#fb9f3a"
             ],
             [
              0.8888888888888888,
              "#fdca26"
             ],
             [
              1,
              "#f0f921"
             ]
            ],
            "type": "histogram2d"
           }
          ],
          "histogram2dcontour": [
           {
            "colorbar": {
             "outlinewidth": 0,
             "ticks": ""
            },
            "colorscale": [
             [
              0,
              "#0d0887"
             ],
             [
              0.1111111111111111,
              "#46039f"
             ],
             [
              0.2222222222222222,
              "#7201a8"
             ],
             [
              0.3333333333333333,
              "#9c179e"
             ],
             [
              0.4444444444444444,
              "#bd3786"
             ],
             [
              0.5555555555555556,
              "#d8576b"
             ],
             [
              0.6666666666666666,
              "#ed7953"
             ],
             [
              0.7777777777777778,
              "#fb9f3a"
             ],
             [
              0.8888888888888888,
              "#fdca26"
             ],
             [
              1,
              "#f0f921"
             ]
            ],
            "type": "histogram2dcontour"
           }
          ],
          "mesh3d": [
           {
            "colorbar": {
             "outlinewidth": 0,
             "ticks": ""
            },
            "type": "mesh3d"
           }
          ],
          "parcoords": [
           {
            "line": {
             "colorbar": {
              "outlinewidth": 0,
              "ticks": ""
             }
            },
            "type": "parcoords"
           }
          ],
          "pie": [
           {
            "automargin": true,
            "type": "pie"
           }
          ],
          "scatter": [
           {
            "fillpattern": {
             "fillmode": "overlay",
             "size": 10,
             "solidity": 0.2
            },
            "type": "scatter"
           }
          ],
          "scatter3d": [
           {
            "line": {
             "colorbar": {
              "outlinewidth": 0,
              "ticks": ""
             }
            },
            "marker": {
             "colorbar": {
              "outlinewidth": 0,
              "ticks": ""
             }
            },
            "type": "scatter3d"
           }
          ],
          "scattercarpet": [
           {
            "marker": {
             "colorbar": {
              "outlinewidth": 0,
              "ticks": ""
             }
            },
            "type": "scattercarpet"
           }
          ],
          "scattergeo": [
           {
            "marker": {
             "colorbar": {
              "outlinewidth": 0,
              "ticks": ""
             }
            },
            "type": "scattergeo"
           }
          ],
          "scattergl": [
           {
            "marker": {
             "colorbar": {
              "outlinewidth": 0,
              "ticks": ""
             }
            },
            "type": "scattergl"
           }
          ],
          "scattermapbox": [
           {
            "marker": {
             "colorbar": {
              "outlinewidth": 0,
              "ticks": ""
             }
            },
            "type": "scattermapbox"
           }
          ],
          "scatterpolar": [
           {
            "marker": {
             "colorbar": {
              "outlinewidth": 0,
              "ticks": ""
             }
            },
            "type": "scatterpolar"
           }
          ],
          "scatterpolargl": [
           {
            "marker": {
             "colorbar": {
              "outlinewidth": 0,
              "ticks": ""
             }
            },
            "type": "scatterpolargl"
           }
          ],
          "scatterternary": [
           {
            "marker": {
             "colorbar": {
              "outlinewidth": 0,
              "ticks": ""
             }
            },
            "type": "scatterternary"
           }
          ],
          "surface": [
           {
            "colorbar": {
             "outlinewidth": 0,
             "ticks": ""
            },
            "colorscale": [
             [
              0,
              "#0d0887"
             ],
             [
              0.1111111111111111,
              "#46039f"
             ],
             [
              0.2222222222222222,
              "#7201a8"
             ],
             [
              0.3333333333333333,
              "#9c179e"
             ],
             [
              0.4444444444444444,
              "#bd3786"
             ],
             [
              0.5555555555555556,
              "#d8576b"
             ],
             [
              0.6666666666666666,
              "#ed7953"
             ],
             [
              0.7777777777777778,
              "#fb9f3a"
             ],
             [
              0.8888888888888888,
              "#fdca26"
             ],
             [
              1,
              "#f0f921"
             ]
            ],
            "type": "surface"
           }
          ],
          "table": [
           {
            "cells": {
             "fill": {
              "color": "#EBF0F8"
             },
             "line": {
              "color": "white"
             }
            },
            "header": {
             "fill": {
              "color": "#C8D4E3"
             },
             "line": {
              "color": "white"
             }
            },
            "type": "table"
           }
          ]
         },
         "layout": {
          "annotationdefaults": {
           "arrowcolor": "#2a3f5f",
           "arrowhead": 0,
           "arrowwidth": 1
          },
          "autotypenumbers": "strict",
          "coloraxis": {
           "colorbar": {
            "outlinewidth": 0,
            "ticks": ""
           }
          },
          "colorscale": {
           "diverging": [
            [
             0,
             "#8e0152"
            ],
            [
             0.1,
             "#c51b7d"
            ],
            [
             0.2,
             "#de77ae"
            ],
            [
             0.3,
             "#f1b6da"
            ],
            [
             0.4,
             "#fde0ef"
            ],
            [
             0.5,
             "#f7f7f7"
            ],
            [
             0.6,
             "#e6f5d0"
            ],
            [
             0.7,
             "#b8e186"
            ],
            [
             0.8,
             "#7fbc41"
            ],
            [
             0.9,
             "#4d9221"
            ],
            [
             1,
             "#276419"
            ]
           ],
           "sequential": [
            [
             0,
             "#0d0887"
            ],
            [
             0.1111111111111111,
             "#46039f"
            ],
            [
             0.2222222222222222,
             "#7201a8"
            ],
            [
             0.3333333333333333,
             "#9c179e"
            ],
            [
             0.4444444444444444,
             "#bd3786"
            ],
            [
             0.5555555555555556,
             "#d8576b"
            ],
            [
             0.6666666666666666,
             "#ed7953"
            ],
            [
             0.7777777777777778,
             "#fb9f3a"
            ],
            [
             0.8888888888888888,
             "#fdca26"
            ],
            [
             1,
             "#f0f921"
            ]
           ],
           "sequentialminus": [
            [
             0,
             "#0d0887"
            ],
            [
             0.1111111111111111,
             "#46039f"
            ],
            [
             0.2222222222222222,
             "#7201a8"
            ],
            [
             0.3333333333333333,
             "#9c179e"
            ],
            [
             0.4444444444444444,
             "#bd3786"
            ],
            [
             0.5555555555555556,
             "#d8576b"
            ],
            [
             0.6666666666666666,
             "#ed7953"
            ],
            [
             0.7777777777777778,
             "#fb9f3a"
            ],
            [
             0.8888888888888888,
             "#fdca26"
            ],
            [
             1,
             "#f0f921"
            ]
           ]
          },
          "colorway": [
           "#636efa",
           "#EF553B",
           "#00cc96",
           "#ab63fa",
           "#FFA15A",
           "#19d3f3",
           "#FF6692",
           "#B6E880",
           "#FF97FF",
           "#FECB52"
          ],
          "font": {
           "color": "#2a3f5f"
          },
          "geo": {
           "bgcolor": "white",
           "lakecolor": "white",
           "landcolor": "#E5ECF6",
           "showlakes": true,
           "showland": true,
           "subunitcolor": "white"
          },
          "hoverlabel": {
           "align": "left"
          },
          "hovermode": "closest",
          "mapbox": {
           "style": "light"
          },
          "paper_bgcolor": "white",
          "plot_bgcolor": "#E5ECF6",
          "polar": {
           "angularaxis": {
            "gridcolor": "white",
            "linecolor": "white",
            "ticks": ""
           },
           "bgcolor": "#E5ECF6",
           "radialaxis": {
            "gridcolor": "white",
            "linecolor": "white",
            "ticks": ""
           }
          },
          "scene": {
           "xaxis": {
            "backgroundcolor": "#E5ECF6",
            "gridcolor": "white",
            "gridwidth": 2,
            "linecolor": "white",
            "showbackground": true,
            "ticks": "",
            "zerolinecolor": "white"
           },
           "yaxis": {
            "backgroundcolor": "#E5ECF6",
            "gridcolor": "white",
            "gridwidth": 2,
            "linecolor": "white",
            "showbackground": true,
            "ticks": "",
            "zerolinecolor": "white"
           },
           "zaxis": {
            "backgroundcolor": "#E5ECF6",
            "gridcolor": "white",
            "gridwidth": 2,
            "linecolor": "white",
            "showbackground": true,
            "ticks": "",
            "zerolinecolor": "white"
           }
          },
          "shapedefaults": {
           "line": {
            "color": "#2a3f5f"
           }
          },
          "ternary": {
           "aaxis": {
            "gridcolor": "white",
            "linecolor": "white",
            "ticks": ""
           },
           "baxis": {
            "gridcolor": "white",
            "linecolor": "white",
            "ticks": ""
           },
           "bgcolor": "#E5ECF6",
           "caxis": {
            "gridcolor": "white",
            "linecolor": "white",
            "ticks": ""
           }
          },
          "title": {
           "x": 0.05
          },
          "xaxis": {
           "automargin": true,
           "gridcolor": "white",
           "linecolor": "white",
           "ticks": "",
           "title": {
            "standoff": 15
           },
           "zerolinecolor": "white",
           "zerolinewidth": 2
          },
          "yaxis": {
           "automargin": true,
           "gridcolor": "white",
           "linecolor": "white",
           "ticks": "",
           "title": {
            "standoff": 15
           },
           "zerolinecolor": "white",
           "zerolinewidth": 2
          }
         }
        },
        "width": 1000,
        "xaxis": {
         "showgrid": false,
         "showline": false,
         "showticklabels": false,
         "zeroline": false
        },
        "yaxis": {
         "showgrid": false,
         "showline": false,
         "showticklabels": false,
         "zeroline": false
        }
       }
      }
     },
     "metadata": {},
     "output_type": "display_data"
    }
   ],
   "source": [
    "temp,root = merge_points(similarities,root,nodes1,embeddings,3,2,2,n)\n",
    "for i in nodes1:\n",
    "    i.hyper = temp[int(i)]\n",
    "    i.value =  temp[int(i)]\n",
    "embeddings = temp.numpy();\n",
    "add_meta(root,meta_list1,[])\n",
    "show_tree(root,color=['#184e77','#1a759f','#168aad',\"#34a0a4\",'#52b69a','#99d98c','#76c893','#99d98c']).show_fig()\n",
    "remove_meta(root);"
   ]
  },
  {
   "cell_type": "code",
   "execution_count": 177,
   "metadata": {},
   "outputs": [],
   "source": [
    "names = [];\n",
    "fathers = [];\n",
    "xys = [];\n",
    "search_merge_tree(root,-1,0,names,fathers,xys)\n",
    "np.save('./datas/t/1/'+\"dataname_merge.npy\",names)\n",
    "np.save('./datas/t/1/'+\"datalink_merge.npy\",fathers)\n",
    "np.save('./datas/t/1/'+\"dataxy_merge.npy\",[i.numpy() for i in xys]) "
   ]
  },
  {
   "cell_type": "code",
   "execution_count": 178,
   "metadata": {},
   "outputs": [
    {
     "name": "stdout",
     "output_type": "stream",
     "text": [
      "./datas/t/2/datas.data length:7\n",
      "Generating all pairs superset\n"
     ]
    }
   ],
   "source": [
    "data_path = './datas/t/2/' + 'datas.data'\n",
    "np.random.seed(1234)\n",
    "torch.manual_seed(1234)\n",
    "x, y_true, similarities = load_data(data_path,1,tmp2.shape[1]+1,0)\n",
    "print(\"{} length:{}\".format(data_path,len(y_true)));\n",
    "dataset = HCDataset(x, y_true, similarities, num_samples=50000)\n",
    "dataloader = data.DataLoader(dataset, batch_size=32, shuffle=True, pin_memory=True)\n",
    "model = HypHC(dataset.n_nodes, 2, 5e-2, 5e-2 ,0.999)\n",
    "\n",
    "# model.to(\"cpu\")\n",
    "Optimizer = getattr(optim, 'RAdam')\n",
    "optimizer = Optimizer(model.parameters(),0.0005)\n"
   ]
  },
  {
   "cell_type": "code",
   "execution_count": 179,
   "metadata": {},
   "outputs": [
    {
     "name": "stdout",
     "output_type": "stream",
     "text": [
      "\t Epoch 0 | average train loss: 0.795439\n",
      "Optimization finished.\n",
      "\t Epoch 1 | average train loss: 0.785024\n",
      "Optimization finished.\n",
      "\t Epoch 2 | average train loss: 0.783690\n",
      "Optimization finished.\n",
      "\t Epoch 3 | average train loss: 0.778664\n",
      "Optimization finished.\n",
      "\t Epoch 4 | average train loss: 0.782753\n",
      "Optimization finished.\n",
      "\t Epoch 5 | average train loss: 0.787471\n",
      "Optimization finished.\n",
      "\t Epoch 6 | average train loss: 0.786475\n",
      "Optimization finished.\n",
      "\t Epoch 7 | average train loss: 0.786964\n",
      "Optimization finished.\n",
      "\t Epoch 8 | average train loss: 0.785678\n",
      "Optimization finished.\n",
      "\t Epoch 9 | average train loss: 0.785112\n",
      "Optimization finished.\n",
      "\t Epoch 10 | average train loss: 0.784169\n",
      "Optimization finished.\n",
      "\t Epoch 11 | average train loss: 0.782752\n",
      "Optimization finished.\n",
      "\t Epoch 12 | average train loss: 0.782809\n",
      "Optimization finished.\n",
      "\t Epoch 13 | average train loss: 0.785452\n",
      "Optimization finished.\n",
      "\t Epoch 14 | average train loss: 0.782407\n",
      "Optimization finished.\n",
      "\t Epoch 15 | average train loss: 0.783831\n",
      "Optimization finished.\n",
      "\t Epoch 16 | average train loss: 0.785420\n",
      "Optimization finished.\n",
      "\t Epoch 17 | average train loss: 0.785528\n",
      "Optimization finished.\n",
      "\t Epoch 18 | average train loss: 0.785856\n",
      "Optimization finished.\n",
      "\t Epoch 19 | average train loss: 0.785871\n",
      "Optimization finished.\n"
     ]
    }
   ],
   "source": [
    "train(model,dataloader,optimizer,similarities,20);\n"
   ]
  },
  {
   "cell_type": "code",
   "execution_count": 180,
   "metadata": {},
   "outputs": [],
   "source": [
    "torch.save(model.state_dict(),'./datas/t/2/' +'model3.pth');\n"
   ]
  },
  {
   "cell_type": "code",
   "execution_count": 181,
   "metadata": {},
   "outputs": [
    {
     "data": {
      "text/plain": [
       "<All keys matched successfully>"
      ]
     },
     "execution_count": 181,
     "metadata": {},
     "output_type": "execute_result"
    }
   ],
   "source": [
    "params = torch.load(('./datas/t/2/'+'model3.pth'), map_location=torch.device('cpu'))\n",
    "model.load_state_dict(params)"
   ]
  },
  {
   "cell_type": "code",
   "execution_count": 285,
   "metadata": {},
   "outputs": [
    {
     "name": "stderr",
     "output_type": "stream",
     "text": [
      "/Users/dongjiajie/Desktop/alignment/fyp/hyperalignment/final/utils/mst.py:4: DeprecationWarning:\n",
      "\n",
      "`np.int` is a deprecated alias for the builtin `int`. To silence this warning, use `int` by itself. Doing this will not modify any behavior and is safe. When replacing `np.int`, you may wish to use e.g. `np.int64` or `np.int32` to specify the precision. If you wish to review your current use, check the release note link for additional information.\n",
      "Deprecated in NumPy 1.20; for more details and guidance: https://numpy.org/devdocs/release/1.20.0-notes.html#deprecations\n",
      "\n",
      "/Users/dongjiajie/Desktop/alignment/fyp/hyperalignment/final/utils/mst.py:10: DeprecationWarning:\n",
      "\n",
      "`np.int` is a deprecated alias for the builtin `int`. To silence this warning, use `int` by itself. Doing this will not modify any behavior and is safe. When replacing `np.int`, you may wish to use e.g. `np.int64` or `np.int32` to specify the precision. If you wish to review your current use, check the release note link for additional information.\n",
      "Deprecated in NumPy 1.20; for more details and guidance: https://numpy.org/devdocs/release/1.20.0-notes.html#deprecations\n",
      "\n",
      "/Users/dongjiajie/Desktop/alignment/fyp/hyperalignment/final/utils/mst.py:15: DeprecationWarning:\n",
      "\n",
      "`np.int` is a deprecated alias for the builtin `int`. To silence this warning, use `int` by itself. Doing this will not modify any behavior and is safe. When replacing `np.int`, you may wish to use e.g. `np.int64` or `np.int32` to specify the precision. If you wish to review your current use, check the release note link for additional information.\n",
      "Deprecated in NumPy 1.20; for more details and guidance: https://numpy.org/devdocs/release/1.20.0-notes.html#deprecations\n",
      "\n"
     ]
    },
    {
     "data": {
      "image/png": "[encoded data removed]",
      "text/plain": [
       "<Figure size 1500x1500 with 1 Axes>"
      ]
     },
     "metadata": {},
     "output_type": "display_data"
    }
   ],
   "source": [
    "model.eval()\n",
    "\n",
    "sim_fn = lambda x, y: torch.sum(x * y, dim=-1)\n",
    "n=len(x);\n",
    "leaves_embeddings = model.normalize_embeddings(model.embeddings.weight.data)\n",
    "leaves_embeddings = project(leaves_embeddings).detach().cpu()\n",
    "ijs = sl_np_mst_ij(leaves_embeddings,sim_fn)\n",
    "uf = UnionFind(n)\n",
    "uf.merge(ijs)\n",
    "\n",
    "tree = nx.DiGraph()\n",
    "for i, j in enumerate(uf.tree()[:-1]):\n",
    "    if(j!=-1):\n",
    "        tree.add_edge(j, i)\n",
    "\n",
    "n = len(leaves_embeddings)\n",
    "embeddings = complete_tree(tree, leaves_embeddings)\n",
    "colors = get_colors(meta_list2, 1234)\n",
    "fig = plt.figure(figsize=(15, 15))\n",
    "ax = fig.add_subplot(111)\n",
    "circle = plt.Circle((0, 0), 1.0, color='r', alpha=0.1)\n",
    "ax.add_artist(circle)\n",
    "ax.scatter(embeddings[:n, 0], embeddings[:n, 1], c=colors, s=50, alpha=0.6)\n",
    "# ax.scatter(embeddings[n:,0],embeddings[n:,1],color ='black',s=20,alpha=0.6)\n",
    "for n1, n2 in tree.edges():\n",
    "    x1 = embeddings[n1];\n",
    "    x2 = embeddings[n2]\n",
    "    plot_geodesic(x1,x2,ax)"
   ]
  },
  {
   "cell_type": "code",
   "execution_count": 286,
   "metadata": {},
   "outputs": [
    {
     "data": {
      "text/plain": [
       "['V4', 'V4', 'V4', 'V4', 'V4', 'V2/9', 'V2/9']"
      ]
     },
     "execution_count": 286,
     "metadata": {},
     "output_type": "execute_result"
    }
   ],
   "source": [
    "meta_list2"
   ]
  },
  {
   "cell_type": "code",
   "execution_count": 301,
   "metadata": {},
   "outputs": [
    {
     "name": "stdout",
     "output_type": "stream",
     "text": [
      "{'empty': '#fff', 'V4': '#1a759f', 'V2/9': '#168aad'}\n"
     ]
    },
    {
     "data": {
      "application/vnd.plotly.v1+json": {
       "config": {
        "plotlyServerURL": "https://plot.ly"
       },
       "data": [
        {
         "hoverinfo": "text",
         "hovertext": [
          "12",
          "10",
          "9",
          "7",
          "11",
          "8"
         ],
         "legendgroup": "empty",
         "marker": {
          "color": "#fff",
          "size": 30,
          "symbol": "circle-dot"
         },
         "mode": "markers+text",
         "name": "empty",
         "type": "scatter",
         "x": [
          5.5,
          3.25,
          4.375,
          4.9375,
          7.75,
          8.875
         ],
         "y": [
          5,
          3.5,
          2,
          0.5,
          3.5,
          2
         ]
        },
        {
         "hoverinfo": "text",
         "hovertext": [
          "2_V4",
          "4_V4",
          "0_V4",
          "1_V4",
          "3_V4"
         ],
         "legendgroup": "V4",
         "marker": {
          "color": "#1a759f",
          "size": 30,
          "symbol": "circle-dot"
         },
         "mode": "markers+text",
         "name": "V4",
         "type": "scatter",
         "x": [
          2.125,
          3.8125,
          4.65625,
          5.21875,
          6.625
         ],
         "y": [
          2,
          0.5,
          -1,
          -1,
          2
         ]
        },
        {
         "hoverinfo": "text",
         "hovertext": [
          "5_V2/9",
          "6_V2/9"
         ],
         "legendgroup": "V2/9",
         "marker": {
          "color": "#168aad",
          "size": 30,
          "symbol": "circle-dot"
         },
         "mode": "markers+text",
         "name": "V2/9",
         "type": "scatter",
         "x": [
          8.3125,
          9.4375
         ],
         "y": [
          0.5,
          0.5
         ]
        }
       ],
       "layout": {
        "height": 500,
        "shapes": [
         {
          "layer": "below",
          "line": {
           "color": "#333",
           "width": 2
          },
          "type": "line",
          "x0": 5.5,
          "x1": 5.5,
          "y0": 5,
          "y1": 5
         },
         {
          "layer": "below",
          "line": {
           "color": "#333",
           "width": 2
          },
          "type": "line",
          "x0": 5.5,
          "x1": 3.25,
          "y0": 5,
          "y1": 3.5
         },
         {
          "layer": "below",
          "line": {
           "color": "#333",
           "width": 2
          },
          "type": "line",
          "x0": 3.25,
          "x1": 2.125,
          "y0": 3.5,
          "y1": 2
         },
         {
          "layer": "below",
          "line": {
           "color": "#333",
           "width": 2
          },
          "type": "line",
          "x0": 3.25,
          "x1": 4.375,
          "y0": 3.5,
          "y1": 2
         },
         {
          "layer": "below",
          "line": {
           "color": "#333",
           "width": 2
          },
          "type": "line",
          "x0": 4.375,
          "x1": 3.8125,
          "y0": 2,
          "y1": 0.5
         },
         {
          "layer": "below",
          "line": {
           "color": "#333",
           "width": 2
          },
          "type": "line",
          "x0": 4.375,
          "x1": 4.9375,
          "y0": 2,
          "y1": 0.5
         },
         {
          "layer": "below",
          "line": {
           "color": "#333",
           "width": 2
          },
          "type": "line",
          "x0": 4.9375,
          "x1": 4.65625,
          "y0": 0.5,
          "y1": -1
         },
         {
          "layer": "below",
          "line": {
           "color": "#333",
           "width": 2
          },
          "type": "line",
          "x0": 4.9375,
          "x1": 5.21875,
          "y0": 0.5,
          "y1": -1
         },
         {
          "layer": "below",
          "line": {
           "color": "#333",
           "width": 2
          },
          "type": "line",
          "x0": 5.5,
          "x1": 7.75,
          "y0": 5,
          "y1": 3.5
         },
         {
          "layer": "below",
          "line": {
           "color": "#333",
           "width": 2
          },
          "type": "line",
          "x0": 7.75,
          "x1": 6.625,
          "y0": 3.5,
          "y1": 2
         },
         {
          "layer": "below",
          "line": {
           "color": "#333",
           "width": 2
          },
          "type": "line",
          "x0": 7.75,
          "x1": 8.875,
          "y0": 3.5,
          "y1": 2
         },
         {
          "layer": "below",
          "line": {
           "color": "#333",
           "width": 2
          },
          "type": "line",
          "x0": 8.875,
          "x1": 8.3125,
          "y0": 2,
          "y1": 0.5
         },
         {
          "layer": "below",
          "line": {
           "color": "#333",
           "width": 2
          },
          "type": "line",
          "x0": 8.875,
          "x1": 9.4375,
          "y0": 2,
          "y1": 0.5
         }
        ],
        "template": {
         "data": {
          "bar": [
           {
            "error_x": {
             "color": "#2a3f5f"
            },
            "error_y": {
             "color": "#2a3f5f"
            },
            "marker": {
             "line": {
              "color": "#E5ECF6",
              "width": 0.5
             },
             "pattern": {
              "fillmode": "overlay",
              "size": 10,
              "solidity": 0.2
             }
            },
            "type": "bar"
           }
          ],
          "barpolar": [
           {
            "marker": {
             "line": {
              "color": "#E5ECF6",
              "width": 0.5
             },
             "pattern": {
              "fillmode": "overlay",
              "size": 10,
              "solidity": 0.2
             }
            },
            "type": "barpolar"
           }
          ],
          "carpet": [
           {
            "aaxis": {
             "endlinecolor": "#2a3f5f",
             "gridcolor": "white",
             "linecolor": "white",
             "minorgridcolor": "white",
             "startlinecolor": "#2a3f5f"
            },
            "baxis": {
             "endlinecolor": "#2a3f5f",
             "gridcolor": "white",
             "linecolor": "white",
             "minorgridcolor": "white",
             "startlinecolor": "#2a3f5f"
            },
            "type": "carpet"
           }
          ],
          "choropleth": [
           {
            "colorbar": {
             "outlinewidth": 0,
             "ticks": ""
            },
            "type": "choropleth"
           }
          ],
          "contour": [
           {
            "colorbar": {
             "outlinewidth": 0,
             "ticks": ""
            },
            "colorscale": [
             [
              0,
              "#0d0887"
             ],
             [
              0.1111111111111111,
              "#46039f"
             ],
             [
              0.2222222222222222,
              "#7201a8"
             ],
             [
              0.3333333333333333,
              "#9c179e"
             ],
             [
              0.4444444444444444,
              "#bd3786"
             ],
             [
              0.5555555555555556,
              "#d8576b"
             ],
             [
              0.6666666666666666,
              "#ed7953"
             ],
             [
              0.7777777777777778,
              "#fb9f3a"
             ],
             [
              0.8888888888888888,
              "#fdca26"
             ],
             [
              1,
              "#f0f921"
             ]
            ],
            "type": "contour"
           }
          ],
          "contourcarpet": [
           {
            "colorbar": {
             "outlinewidth": 0,
             "ticks": ""
            },
            "type": "contourcarpet"
           }
          ],
          "heatmap": [
           {
            "colorbar": {
             "outlinewidth": 0,
             "ticks": ""
            },
            "colorscale": [
             [
              0,
              "#0d0887"
             ],
             [
              0.1111111111111111,
              "#46039f"
             ],
             [
              0.2222222222222222,
              "#7201a8"
             ],
             [
              0.3333333333333333,
              "#9c179e"
             ],
             [
              0.4444444444444444,
              "#bd3786"
             ],
             [
              0.5555555555555556,
              "#d8576b"
             ],
             [
              0.6666666666666666,
              "#ed7953"
             ],
             [
              0.7777777777777778,
              "#fb9f3a"
             ],
             [
              0.8888888888888888,
              "#fdca26"
             ],
             [
              1,
              "#f0f921"
             ]
            ],
            "type": "heatmap"
           }
          ],
          "heatmapgl": [
           {
            "colorbar": {
             "outlinewidth": 0,
             "ticks": ""
            },
            "colorscale": [
             [
              0,
              "#0d0887"
             ],
             [
              0.1111111111111111,
              "#46039f"
             ],
             [
              0.2222222222222222,
              "#7201a8"
             ],
             [
              0.3333333333333333,
              "#9c179e"
             ],
             [
              0.4444444444444444,
              "#bd3786"
             ],
             [
              0.5555555555555556,
              "#d8576b"
             ],
             [
              0.6666666666666666,
              "#ed7953"
             ],
             [
              0.7777777777777778,
              "#fb9f3a"
             ],
             [
              0.8888888888888888,
              "#fdca26"
             ],
             [
              1,
              "#f0f921"
             ]
            ],
            "type": "heatmapgl"
           }
          ],
          "histogram": [
           {
            "marker": {
             "pattern": {
              "fillmode": "overlay",
              "size": 10,
              "solidity": 0.2
             }
            },
            "type": "histogram"
           }
          ],
          "histogram2d": [
           {
            "colorbar": {
             "outlinewidth": 0,
             "ticks": ""
            },
            "colorscale": [
             [
              0,
              "#0d0887"
             ],
             [
              0.1111111111111111,
              "#46039f"
             ],
             [
              0.2222222222222222,
              "#7201a8"
             ],
             [
              0.3333333333333333,
              "#9c179e"
             ],
             [
              0.4444444444444444,
              "#bd3786"
             ],
             [
              0.5555555555555556,
              "#d8576b"
             ],
             [
              0.6666666666666666,
              "#ed7953"
             ],
             [
              0.7777777777777778,
              "#fb9f3a"
             ],
             [
              0.8888888888888888,
              "#fdca26"
             ],
             [
              1,
              "#f0f921"
             ]
            ],
            "type": "histogram2d"
           }
          ],
          "histogram2dcontour": [
           {
            "colorbar": {
             "outlinewidth": 0,
             "ticks": ""
            },
            "colorscale": [
             [
              0,
              "#0d0887"
             ],
             [
              0.1111111111111111,
              "#46039f"
             ],
             [
              0.2222222222222222,
              "#7201a8"
             ],
             [
              0.3333333333333333,
              "#9c179e"
             ],
             [
              0.4444444444444444,
              "#bd3786"
             ],
             [
              0.5555555555555556,
              "#d8576b"
             ],
             [
              0.6666666666666666,
              "#ed7953"
             ],
             [
              0.7777777777777778,
              "#fb9f3a"
             ],
             [
              0.8888888888888888,
              "#fdca26"
             ],
             [
              1,
              "#f0f921"
             ]
            ],
            "type": "histogram2dcontour"
           }
          ],
          "mesh3d": [
           {
            "colorbar": {
             "outlinewidth": 0,
             "ticks": ""
            },
            "type": "mesh3d"
           }
          ],
          "parcoords": [
           {
            "line": {
             "colorbar": {
              "outlinewidth": 0,
              "ticks": ""
             }
            },
            "type": "parcoords"
           }
          ],
          "pie": [
           {
            "automargin": true,
            "type": "pie"
           }
          ],
          "scatter": [
           {
            "fillpattern": {
             "fillmode": "overlay",
             "size": 10,
             "solidity": 0.2
            },
            "type": "scatter"
           }
          ],
          "scatter3d": [
           {
            "line": {
             "colorbar": {
              "outlinewidth": 0,
              "ticks": ""
             }
            },
            "marker": {
             "colorbar": {
              "outlinewidth": 0,
              "ticks": ""
             }
            },
            "type": "scatter3d"
           }
          ],
          "scattercarpet": [
           {
            "marker": {
             "colorbar": {
              "outlinewidth": 0,
              "ticks": ""
             }
            },
            "type": "scattercarpet"
           }
          ],
          "scattergeo": [
           {
            "marker": {
             "colorbar": {
              "outlinewidth": 0,
              "ticks": ""
             }
            },
            "type": "scattergeo"
           }
          ],
          "scattergl": [
           {
            "marker": {
             "colorbar": {
              "outlinewidth": 0,
              "ticks": ""
             }
            },
            "type": "scattergl"
           }
          ],
          "scattermapbox": [
           {
            "marker": {
             "colorbar": {
              "outlinewidth": 0,
              "ticks": ""
             }
            },
            "type": "scattermapbox"
           }
          ],
          "scatterpolar": [
           {
            "marker": {
             "colorbar": {
              "outlinewidth": 0,
              "ticks": ""
             }
            },
            "type": "scatterpolar"
           }
          ],
          "scatterpolargl": [
           {
            "marker": {
             "colorbar": {
              "outlinewidth": 0,
              "ticks": ""
             }
            },
            "type": "scatterpolargl"
           }
          ],
          "scatterternary": [
           {
            "marker": {
             "colorbar": {
              "outlinewidth": 0,
              "ticks": ""
             }
            },
            "type": "scatterternary"
           }
          ],
          "surface": [
           {
            "colorbar": {
             "outlinewidth": 0,
             "ticks": ""
            },
            "colorscale": [
             [
              0,
              "#0d0887"
             ],
             [
              0.1111111111111111,
              "#46039f"
             ],
             [
              0.2222222222222222,
              "#7201a8"
             ],
             [
              0.3333333333333333,
              "#9c179e"
             ],
             [
              0.4444444444444444,
              "#bd3786"
             ],
             [
              0.5555555555555556,
              "#d8576b"
             ],
             [
              0.6666666666666666,
              "#ed7953"
             ],
             [
              0.7777777777777778,
              "#fb9f3a"
             ],
             [
              0.8888888888888888,
              "#fdca26"
             ],
             [
              1,
              "#f0f921"
             ]
            ],
            "type": "surface"
           }
          ],
          "table": [
           {
            "cells": {
             "fill": {
              "color": "#EBF0F8"
             },
             "line": {
              "color": "white"
             }
            },
            "header": {
             "fill": {
              "color": "#C8D4E3"
             },
             "line": {
              "color": "white"
             }
            },
            "type": "table"
           }
          ]
         },
         "layout": {
          "annotationdefaults": {
           "arrowcolor": "#2a3f5f",
           "arrowhead": 0,
           "arrowwidth": 1
          },
          "autotypenumbers": "strict",
          "coloraxis": {
           "colorbar": {
            "outlinewidth": 0,
            "ticks": ""
           }
          },
          "colorscale": {
           "diverging": [
            [
             0,
             "#8e0152"
            ],
            [
             0.1,
             "#c51b7d"
            ],
            [
             0.2,
             "#de77ae"
            ],
            [
             0.3,
             "#f1b6da"
            ],
            [
             0.4,
             "#fde0ef"
            ],
            [
             0.5,
             "#f7f7f7"
            ],
            [
             0.6,
             "#e6f5d0"
            ],
            [
             0.7,
             "#b8e186"
            ],
            [
             0.8,
             "#7fbc41"
            ],
            [
             0.9,
             "#4d9221"
            ],
            [
             1,
             "#276419"
            ]
           ],
           "sequential": [
            [
             0,
             "#0d0887"
            ],
            [
             0.1111111111111111,
             "#46039f"
            ],
            [
             0.2222222222222222,
             "#7201a8"
            ],
            [
             0.3333333333333333,
             "#9c179e"
            ],
            [
             0.4444444444444444,
             "#bd3786"
            ],
            [
             0.5555555555555556,
             "#d8576b"
            ],
            [
             0.6666666666666666,
             "#ed7953"
            ],
            [
             0.7777777777777778,
             "#fb9f3a"
            ],
            [
             0.8888888888888888,
             "#fdca26"
            ],
            [
             1,
             "#f0f921"
            ]
           ],
           "sequentialminus": [
            [
             0,
             "#0d0887"
            ],
            [
             0.1111111111111111,
             "#46039f"
            ],
            [
             0.2222222222222222,
             "#7201a8"
            ],
            [
             0.3333333333333333,
             "#9c179e"
            ],
            [
             0.4444444444444444,
             "#bd3786"
            ],
            [
             0.5555555555555556,
             "#d8576b"
            ],
            [
             0.6666666666666666,
             "#ed7953"
            ],
            [
             0.7777777777777778,
             "#fb9f3a"
            ],
            [
             0.8888888888888888,
             "#fdca26"
            ],
            [
             1,
             "#f0f921"
            ]
           ]
          },
          "colorway": [
           "#636efa",
           "#EF553B",
           "#00cc96",
           "#ab63fa",
           "#FFA15A",
           "#19d3f3",
           "#FF6692",
           "#B6E880",
           "#FF97FF",
           "#FECB52"
          ],
          "font": {
           "color": "#2a3f5f"
          },
          "geo": {
           "bgcolor": "white",
           "lakecolor": "white",
           "landcolor": "#E5ECF6",
           "showlakes": true,
           "showland": true,
           "subunitcolor": "white"
          },
          "hoverlabel": {
           "align": "left"
          },
          "hovermode": "closest",
          "mapbox": {
           "style": "light"
          },
          "paper_bgcolor": "white",
          "plot_bgcolor": "#E5ECF6",
          "polar": {
           "angularaxis": {
            "gridcolor": "white",
            "linecolor": "white",
            "ticks": ""
           },
           "bgcolor": "#E5ECF6",
           "radialaxis": {
            "gridcolor": "white",
            "linecolor": "white",
            "ticks": ""
           }
          },
          "scene": {
           "xaxis": {
            "backgroundcolor": "#E5ECF6",
            "gridcolor": "white",
            "gridwidth": 2,
            "linecolor": "white",
            "showbackground": true,
            "ticks": "",
            "zerolinecolor": "white"
           },
           "yaxis": {
            "backgroundcolor": "#E5ECF6",
            "gridcolor": "white",
            "gridwidth": 2,
            "linecolor": "white",
            "showbackground": true,
            "ticks": "",
            "zerolinecolor": "white"
           },
           "zaxis": {
            "backgroundcolor": "#E5ECF6",
            "gridcolor": "white",
            "gridwidth": 2,
            "linecolor": "white",
            "showbackground": true,
            "ticks": "",
            "zerolinecolor": "white"
           }
          },
          "shapedefaults": {
           "line": {
            "color": "#2a3f5f"
           }
          },
          "ternary": {
           "aaxis": {
            "gridcolor": "white",
            "linecolor": "white",
            "ticks": ""
           },
           "baxis": {
            "gridcolor": "white",
            "linecolor": "white",
            "ticks": ""
           },
           "bgcolor": "#E5ECF6",
           "caxis": {
            "gridcolor": "white",
            "linecolor": "white",
            "ticks": ""
           }
          },
          "title": {
           "x": 0.05
          },
          "xaxis": {
           "automargin": true,
           "gridcolor": "white",
           "linecolor": "white",
           "ticks": "",
           "title": {
            "standoff": 15
           },
           "zerolinecolor": "white",
           "zerolinewidth": 2
          },
          "yaxis": {
           "automargin": true,
           "gridcolor": "white",
           "linecolor": "white",
           "ticks": "",
           "title": {
            "standoff": 15
           },
           "zerolinecolor": "white",
           "zerolinewidth": 2
          }
         }
        },
        "width": 1000,
        "xaxis": {
         "showgrid": false,
         "showline": false,
         "showticklabels": false,
         "zeroline": false
        },
        "yaxis": {
         "showgrid": false,
         "showline": false,
         "showticklabels": false,
         "zeroline": false
        }
       }
      }
     },
     "metadata": {},
     "output_type": "display_data"
    }
   ],
   "source": [
    "\n",
    "nodes1 = [node(name=str(i),son=[]) for i in range(len(uf.tree()))]\n",
    "for i in range(n):\n",
    "    nodes1[i].subson=[i];\n",
    "for i,j in enumerate(uf.tree()):\n",
    "    if(j!=-1):\n",
    "        nodes1[j].son.append(nodes1[i])\n",
    "    nodes1[i].value=torch.tensor(embeddings[i]);\n",
    "    nodes1[i].hyper=torch.tensor(embeddings[i])\n",
    "root = nodes1[-1];\n",
    "add_meta(root,meta_list2,[])\n",
    "show_tree(root,color=['#184e77','#1a759f','#168aad',\"#34a0a4\",'#52b69a','#99d98c','#76c893','#99d98c']).show_fig()\n",
    "remove_meta(root);"
   ]
  },
  {
   "cell_type": "code",
   "execution_count": 302,
   "metadata": {},
   "outputs": [
    {
     "name": "stdout",
     "output_type": "stream",
     "text": [
      "{'empty': '#fff', 'V4': '#1a759f', 'V2/9': '#168aad'}\n"
     ]
    }
   ],
   "source": [
    "add_meta(root,meta_list2,[])\n",
    "\n",
    "t= show_tree(root,color=['#184e77','#1a759f','#168aad',\"#34a0a4\",'#52b69a','#99d98c','#76c893','#99d98c'])"
   ]
  },
  {
   "cell_type": "code",
   "execution_count": 303,
   "metadata": {},
   "outputs": [
    {
     "data": {
      "application/vnd.plotly.v1+json": {
       "config": {
        "plotlyServerURL": "https://plot.ly"
       },
       "data": [
        {
         "hoverinfo": "text",
         "hovertext": [
          "12",
          "10",
          "9",
          "7",
          "11",
          "8"
         ],
         "legendgroup": "empty",
         "marker": {
          "color": "#fff",
          "size": 30,
          "symbol": "circle-dot"
         },
         "mode": "markers+text",
         "name": "empty",
         "type": "scatter",
         "x": [
          5.5,
          3.25,
          4.375,
          4.9375,
          7.75,
          8.875
         ],
         "y": [
          5,
          3.5,
          2,
          0.5,
          3.5,
          2
         ]
        },
        {
         "hoverinfo": "text",
         "hovertext": [
          "2_V4",
          "4_V4",
          "0_V4",
          "1_V4",
          "3_V4"
         ],
         "legendgroup": "V4",
         "marker": {
          "color": "#1a759f",
          "size": 30,
          "symbol": "circle-dot"
         },
         "mode": "markers+text",
         "name": "V4",
         "type": "scatter",
         "x": [
          2.125,
          3.8125,
          4.65625,
          5.21875,
          6.625
         ],
         "y": [
          2,
          0.5,
          -1,
          -1,
          2
         ]
        },
        {
         "hoverinfo": "text",
         "hovertext": [
          "5_V2/9",
          "6_V2/9"
         ],
         "legendgroup": "V2/9",
         "marker": {
          "color": "#168aad",
          "size": 30,
          "symbol": "circle-dot"
         },
         "mode": "markers+text",
         "name": "V2/9",
         "type": "scatter",
         "x": [
          8.3125,
          9.4375
         ],
         "y": [
          0.5,
          0.5
         ]
        }
       ],
       "layout": {
        "height": 500,
        "paper_bgcolor": "rgba(0,0,0,0)",
        "plot_bgcolor": "rgba(0,0,0,0)",
        "shapes": [
         {
          "layer": "below",
          "line": {
           "color": "#333",
           "width": 2
          },
          "type": "line",
          "x0": 5.5,
          "x1": 5.5,
          "y0": 5,
          "y1": 5
         },
         {
          "layer": "below",
          "line": {
           "color": "#333",
           "width": 2
          },
          "type": "line",
          "x0": 5.5,
          "x1": 3.25,
          "y0": 5,
          "y1": 3.5
         },
         {
          "layer": "below",
          "line": {
           "color": "#333",
           "width": 2
          },
          "type": "line",
          "x0": 3.25,
          "x1": 2.125,
          "y0": 3.5,
          "y1": 2
         },
         {
          "layer": "below",
          "line": {
           "color": "#333",
           "width": 2
          },
          "type": "line",
          "x0": 3.25,
          "x1": 4.375,
          "y0": 3.5,
          "y1": 2
         },
         {
          "layer": "below",
          "line": {
           "color": "#333",
           "width": 2
          },
          "type": "line",
          "x0": 4.375,
          "x1": 3.8125,
          "y0": 2,
          "y1": 0.5
         },
         {
          "layer": "below",
          "line": {
           "color": "#333",
           "width": 2
          },
          "type": "line",
          "x0": 4.375,
          "x1": 4.9375,
          "y0": 2,
          "y1": 0.5
         },
         {
          "layer": "below",
          "line": {
           "color": "#333",
           "width": 2
          },
          "type": "line",
          "x0": 4.9375,
          "x1": 4.65625,
          "y0": 0.5,
          "y1": -1
         },
         {
          "layer": "below",
          "line": {
           "color": "#333",
           "width": 2
          },
          "type": "line",
          "x0": 4.9375,
          "x1": 5.21875,
          "y0": 0.5,
          "y1": -1
         },
         {
          "layer": "below",
          "line": {
           "color": "#333",
           "width": 2
          },
          "type": "line",
          "x0": 5.5,
          "x1": 7.75,
          "y0": 5,
          "y1": 3.5
         },
         {
          "layer": "below",
          "line": {
           "color": "#333",
           "width": 2
          },
          "type": "line",
          "x0": 7.75,
          "x1": 6.625,
          "y0": 3.5,
          "y1": 2
         },
         {
          "layer": "below",
          "line": {
           "color": "#333",
           "width": 2
          },
          "type": "line",
          "x0": 7.75,
          "x1": 8.875,
          "y0": 3.5,
          "y1": 2
         },
         {
          "layer": "below",
          "line": {
           "color": "#333",
           "width": 2
          },
          "type": "line",
          "x0": 8.875,
          "x1": 8.3125,
          "y0": 2,
          "y1": 0.5
         },
         {
          "layer": "below",
          "line": {
           "color": "#333",
           "width": 2
          },
          "type": "line",
          "x0": 8.875,
          "x1": 9.4375,
          "y0": 2,
          "y1": 0.5
         }
        ],
        "template": {
         "data": {
          "bar": [
           {
            "error_x": {
             "color": "#2a3f5f"
            },
            "error_y": {
             "color": "#2a3f5f"
            },
            "marker": {
             "line": {
              "color": "#E5ECF6",
              "width": 0.5
             },
             "pattern": {
              "fillmode": "overlay",
              "size": 10,
              "solidity": 0.2
             }
            },
            "type": "bar"
           }
          ],
          "barpolar": [
           {
            "marker": {
             "line": {
              "color": "#E5ECF6",
              "width": 0.5
             },
             "pattern": {
              "fillmode": "overlay",
              "size": 10,
              "solidity": 0.2
             }
            },
            "type": "barpolar"
           }
          ],
          "carpet": [
           {
            "aaxis": {
             "endlinecolor": "#2a3f5f",
             "gridcolor": "white",
             "linecolor": "white",
             "minorgridcolor": "white",
             "startlinecolor": "#2a3f5f"
            },
            "baxis": {
             "endlinecolor": "#2a3f5f",
             "gridcolor": "white",
             "linecolor": "white",
             "minorgridcolor": "white",
             "startlinecolor": "#2a3f5f"
            },
            "type": "carpet"
           }
          ],
          "choropleth": [
           {
            "colorbar": {
             "outlinewidth": 0,
             "ticks": ""
            },
            "type": "choropleth"
           }
          ],
          "contour": [
           {
            "colorbar": {
             "outlinewidth": 0,
             "ticks": ""
            },
            "colorscale": [
             [
              0,
              "#0d0887"
             ],
             [
              0.1111111111111111,
              "#46039f"
             ],
             [
              0.2222222222222222,
              "#7201a8"
             ],
             [
              0.3333333333333333,
              "#9c179e"
             ],
             [
              0.4444444444444444,
              "#bd3786"
             ],
             [
              0.5555555555555556,
              "#d8576b"
             ],
             [
              0.6666666666666666,
              "#ed7953"
             ],
             [
              0.7777777777777778,
              "#fb9f3a"
             ],
             [
              0.8888888888888888,
              "#fdca26"
             ],
             [
              1,
              "#f0f921"
             ]
            ],
            "type": "contour"
           }
          ],
          "contourcarpet": [
           {
            "colorbar": {
             "outlinewidth": 0,
             "ticks": ""
            },
            "type": "contourcarpet"
           }
          ],
          "heatmap": [
           {
            "colorbar": {
             "outlinewidth": 0,
             "ticks": ""
            },
            "colorscale": [
             [
              0,
              "#0d0887"
             ],
             [
              0.1111111111111111,
              "#46039f"
             ],
             [
              0.2222222222222222,
              "#7201a8"
             ],
             [
              0.3333333333333333,
              "#9c179e"
             ],
             [
              0.4444444444444444,
              "#bd3786"
             ],
             [
              0.5555555555555556,
              "#d8576b"
             ],
             [
              0.6666666666666666,
              "#ed7953"
             ],
             [
              0.7777777777777778,
              "#fb9f3a"
             ],
             [
              0.8888888888888888,
              "#fdca26"
             ],
             [
              1,
              "#f0f921"
             ]
            ],
            "type": "heatmap"
           }
          ],
          "heatmapgl": [
           {
            "colorbar": {
             "outlinewidth": 0,
             "ticks": ""
            },
            "colorscale": [
             [
              0,
              "#0d0887"
             ],
             [
              0.1111111111111111,
              "#46039f"
             ],
             [
              0.2222222222222222,
              "#7201a8"
             ],
             [
              0.3333333333333333,
              "#9c179e"
             ],
             [
              0.4444444444444444,
              "#bd3786"
             ],
             [
              0.5555555555555556,
              "#d8576b"
             ],
             [
              0.6666666666666666,
              "#ed7953"
             ],
             [
              0.7777777777777778,
              "#fb9f3a"
             ],
             [
              0.8888888888888888,
              "#fdca26"
             ],
             [
              1,
              "#f0f921"
             ]
            ],
            "type": "heatmapgl"
           }
          ],
          "histogram": [
           {
            "marker": {
             "pattern": {
              "fillmode": "overlay",
              "size": 10,
              "solidity": 0.2
             }
            },
            "type": "histogram"
           }
          ],
          "histogram2d": [
           {
            "colorbar": {
             "outlinewidth": 0,
             "ticks": ""
            },
            "colorscale": [
             [
              0,
              "#0d0887"
             ],
             [
              0.1111111111111111,
              "#46039f"
             ],
             [
              0.2222222222222222,
              "#7201a8"
             ],
             [
              0.3333333333333333,
              "#9c179e"
             ],
             [
              0.4444444444444444,
              "#bd3786"
             ],
             [
              0.5555555555555556,
              "#d8576b"
             ],
             [
              0.6666666666666666,
              "#ed7953"
             ],
             [
              0.7777777777777778,
              "#fb9f3a"
             ],
             [
              0.8888888888888888,
              "#fdca26"
             ],
             [
              1,
              "#f0f921"
             ]
            ],
            "type": "histogram2d"
           }
          ],
          "histogram2dcontour": [
           {
            "colorbar": {
             "outlinewidth": 0,
             "ticks": ""
            },
            "colorscale": [
             [
              0,
              "#0d0887"
             ],
             [
              0.1111111111111111,
              "#46039f"
             ],
             [
              0.2222222222222222,
              "#7201a8"
             ],
             [
              0.3333333333333333,
              "#9c179e"
             ],
             [
              0.4444444444444444,
              "#bd3786"
             ],
             [
              0.5555555555555556,
              "#d8576b"
             ],
             [
              0.6666666666666666,
              "#ed7953"
             ],
             [
              0.7777777777777778,
              "#fb9f3a"
             ],
             [
              0.8888888888888888,
              "#fdca26"
             ],
             [
              1,
              "#f0f921"
             ]
            ],
            "type": "histogram2dcontour"
           }
          ],
          "mesh3d": [
           {
            "colorbar": {
             "outlinewidth": 0,
             "ticks": ""
            },
            "type": "mesh3d"
           }
          ],
          "parcoords": [
           {
            "line": {
             "colorbar": {
              "outlinewidth": 0,
              "ticks": ""
             }
            },
            "type": "parcoords"
           }
          ],
          "pie": [
           {
            "automargin": true,
            "type": "pie"
           }
          ],
          "scatter": [
           {
            "fillpattern": {
             "fillmode": "overlay",
             "size": 10,
             "solidity": 0.2
            },
            "type": "scatter"
           }
          ],
          "scatter3d": [
           {
            "line": {
             "colorbar": {
              "outlinewidth": 0,
              "ticks": ""
             }
            },
            "marker": {
             "colorbar": {
              "outlinewidth": 0,
              "ticks": ""
             }
            },
            "type": "scatter3d"
           }
          ],
          "scattercarpet": [
           {
            "marker": {
             "colorbar": {
              "outlinewidth": 0,
              "ticks": ""
             }
            },
            "type": "scattercarpet"
           }
          ],
          "scattergeo": [
           {
            "marker": {
             "colorbar": {
              "outlinewidth": 0,
              "ticks": ""
             }
            },
            "type": "scattergeo"
           }
          ],
          "scattergl": [
           {
            "marker": {
             "colorbar": {
              "outlinewidth": 0,
              "ticks": ""
             }
            },
            "type": "scattergl"
           }
          ],
          "scattermapbox": [
           {
            "marker": {
             "colorbar": {
              "outlinewidth": 0,
              "ticks": ""
             }
            },
            "type": "scattermapbox"
           }
          ],
          "scatterpolar": [
           {
            "marker": {
             "colorbar": {
              "outlinewidth": 0,
              "ticks": ""
             }
            },
            "type": "scatterpolar"
           }
          ],
          "scatterpolargl": [
           {
            "marker": {
             "colorbar": {
              "outlinewidth": 0,
              "ticks": ""
             }
            },
            "type": "scatterpolargl"
           }
          ],
          "scatterternary": [
           {
            "marker": {
             "colorbar": {
              "outlinewidth": 0,
              "ticks": ""
             }
            },
            "type": "scatterternary"
           }
          ],
          "surface": [
           {
            "colorbar": {
             "outlinewidth": 0,
             "ticks": ""
            },
            "colorscale": [
             [
              0,
              "#0d0887"
             ],
             [
              0.1111111111111111,
              "#46039f"
             ],
             [
              0.2222222222222222,
              "#7201a8"
             ],
             [
              0.3333333333333333,
              "#9c179e"
             ],
             [
              0.4444444444444444,
              "#bd3786"
             ],
             [
              0.5555555555555556,
              "#d8576b"
             ],
             [
              0.6666666666666666,
              "#ed7953"
             ],
             [
              0.7777777777777778,
              "#fb9f3a"
             ],
             [
              0.8888888888888888,
              "#fdca26"
             ],
             [
              1,
              "#f0f921"
             ]
            ],
            "type": "surface"
           }
          ],
          "table": [
           {
            "cells": {
             "fill": {
              "color": "#EBF0F8"
             },
             "line": {
              "color": "white"
             }
            },
            "header": {
             "fill": {
              "color": "#C8D4E3"
             },
             "line": {
              "color": "white"
             }
            },
            "type": "table"
           }
          ]
         },
         "layout": {
          "annotationdefaults": {
           "arrowcolor": "#2a3f5f",
           "arrowhead": 0,
           "arrowwidth": 1
          },
          "autotypenumbers": "strict",
          "coloraxis": {
           "colorbar": {
            "outlinewidth": 0,
            "ticks": ""
           }
          },
          "colorscale": {
           "diverging": [
            [
             0,
             "#8e0152"
            ],
            [
             0.1,
             "#c51b7d"
            ],
            [
             0.2,
             "#de77ae"
            ],
            [
             0.3,
             "#f1b6da"
            ],
            [
             0.4,
             "#fde0ef"
            ],
            [
             0.5,
             "#f7f7f7"
            ],
            [
             0.6,
             "#e6f5d0"
            ],
            [
             0.7,
             "#b8e186"
            ],
            [
             0.8,
             "#7fbc41"
            ],
            [
             0.9,
             "#4d9221"
            ],
            [
             1,
             "#276419"
            ]
           ],
           "sequential": [
            [
             0,
             "#0d0887"
            ],
            [
             0.1111111111111111,
             "#46039f"
            ],
            [
             0.2222222222222222,
             "#7201a8"
            ],
            [
             0.3333333333333333,
             "#9c179e"
            ],
            [
             0.4444444444444444,
             "#bd3786"
            ],
            [
             0.5555555555555556,
             "#d8576b"
            ],
            [
             0.6666666666666666,
             "#ed7953"
            ],
            [
             0.7777777777777778,
             "#fb9f3a"
            ],
            [
             0.8888888888888888,
             "#fdca26"
            ],
            [
             1,
             "#f0f921"
            ]
           ],
           "sequentialminus": [
            [
             0,
             "#0d0887"
            ],
            [
             0.1111111111111111,
             "#46039f"
            ],
            [
             0.2222222222222222,
             "#7201a8"
            ],
            [
             0.3333333333333333,
             "#9c179e"
            ],
            [
             0.4444444444444444,
             "#bd3786"
            ],
            [
             0.5555555555555556,
             "#d8576b"
            ],
            [
             0.6666666666666666,
             "#ed7953"
            ],
            [
             0.7777777777777778,
             "#fb9f3a"
            ],
            [
             0.8888888888888888,
             "#fdca26"
            ],
            [
             1,
             "#f0f921"
            ]
           ]
          },
          "colorway": [
           "#636efa",
           "#EF553B",
           "#00cc96",
           "#ab63fa",
           "#FFA15A",
           "#19d3f3",
           "#FF6692",
           "#B6E880",
           "#FF97FF",
           "#FECB52"
          ],
          "font": {
           "color": "#2a3f5f"
          },
          "geo": {
           "bgcolor": "white",
           "lakecolor": "white",
           "landcolor": "#E5ECF6",
           "showlakes": true,
           "showland": true,
           "subunitcolor": "white"
          },
          "hoverlabel": {
           "align": "left"
          },
          "hovermode": "closest",
          "mapbox": {
           "style": "light"
          },
          "paper_bgcolor": "white",
          "plot_bgcolor": "#E5ECF6",
          "polar": {
           "angularaxis": {
            "gridcolor": "white",
            "linecolor": "white",
            "ticks": ""
           },
           "bgcolor": "#E5ECF6",
           "radialaxis": {
            "gridcolor": "white",
            "linecolor": "white",
            "ticks": ""
           }
          },
          "scene": {
           "xaxis": {
            "backgroundcolor": "#E5ECF6",
            "gridcolor": "white",
            "gridwidth": 2,
            "linecolor": "white",
            "showbackground": true,
            "ticks": "",
            "zerolinecolor": "white"
           },
           "yaxis": {
            "backgroundcolor": "#E5ECF6",
            "gridcolor": "white",
            "gridwidth": 2,
            "linecolor": "white",
            "showbackground": true,
            "ticks": "",
            "zerolinecolor": "white"
           },
           "zaxis": {
            "backgroundcolor": "#E5ECF6",
            "gridcolor": "white",
            "gridwidth": 2,
            "linecolor": "white",
            "showbackground": true,
            "ticks": "",
            "zerolinecolor": "white"
           }
          },
          "shapedefaults": {
           "line": {
            "color": "#2a3f5f"
           }
          },
          "ternary": {
           "aaxis": {
            "gridcolor": "white",
            "linecolor": "white",
            "ticks": ""
           },
           "baxis": {
            "gridcolor": "white",
            "linecolor": "white",
            "ticks": ""
           },
           "bgcolor": "#E5ECF6",
           "caxis": {
            "gridcolor": "white",
            "linecolor": "white",
            "ticks": ""
           }
          },
          "title": {
           "x": 0.05
          },
          "xaxis": {
           "automargin": true,
           "gridcolor": "white",
           "linecolor": "white",
           "ticks": "",
           "title": {
            "standoff": 15
           },
           "zerolinecolor": "white",
           "zerolinewidth": 2
          },
          "yaxis": {
           "automargin": true,
           "gridcolor": "white",
           "linecolor": "white",
           "ticks": "",
           "title": {
            "standoff": 15
           },
           "zerolinecolor": "white",
           "zerolinewidth": 2
          }
         }
        },
        "width": 1000,
        "xaxis": {
         "showgrid": false,
         "showline": false,
         "showticklabels": false,
         "zeroline": false
        },
        "yaxis": {
         "showgrid": false,
         "showline": false,
         "showticklabels": false,
         "zeroline": false
        }
       }
      }
     },
     "metadata": {},
     "output_type": "display_data"
    }
   ],
   "source": [
    "remove_meta(root);\n",
    "t.fig.update_layout(\n",
    "    paper_bgcolor='rgba(0,0,0,0)',\n",
    "    plot_bgcolor='rgba(0,0,0,0)',\n",
    ")\n",
    "\n",
    "t.fig.show()"
   ]
  },
  {
   "cell_type": "code",
   "execution_count": 304,
   "metadata": {},
   "outputs": [],
   "source": [
    "class show_tree:\n",
    "    def __init__(self,root1,color=None):\n",
    "        \n",
    "        self.pos_x=[];\n",
    "        self.pos_y=[];\n",
    "        self.edges=[];\n",
    "        self.label_hash = dict(); \n",
    "        self.labels = [];\n",
    "        self.hover_text =[];\n",
    "        self.values=[];\n",
    "        self.cnt = 0;\n",
    "        self.height=5;\n",
    "        self.celltypes = [];\n",
    "        self.fig = go.Figure();\n",
    "        self.color = color;\n",
    "        self.root1 = root1;\n",
    "        self.run_graph();\n",
    "        \n",
    "    def cal_tree_pos(self,now,l,r,h,f,pos_x,pos_y,edges,label_hash,labels,hover_text,values,celltypes):\n",
    "        mid = (l+r)/2\n",
    "        pos_x.append(mid);\n",
    "        pos_y.append(h)\n",
    "        label_hash[now.name]=self.cnt;\n",
    "        num_son = len(now.son);\n",
    "        labels.append(\"{}\".format(now.name));\n",
    "        if(len(now.name.split('_')) >1):\n",
    "            celltypes.append(now.name.split('_')[1])\n",
    "        else:\n",
    "            celltypes.append('empty');\n",
    "        edges.append((f.name,now.name));\n",
    "        hover_text.append(\"connect Empty\");\n",
    "        values.append(np.linalg.norm(now.value));\n",
    "        if(num_son == 0):\n",
    "            return;\n",
    "        length = (r-l)/num_son;\n",
    "        for i in range(num_son):\n",
    "            self.cnt+=1;\n",
    "            self.cal_tree_pos(now.son[i],l+i*length,l+(i+1)*length,h-1.5,now,pos_x,pos_y,edges,label_hash,labels,hover_text,values,celltypes);\n",
    "            \n",
    "\n",
    "    def run_graph(self):\n",
    "        \n",
    "        self.cal_tree_pos(self.root1,1,10,self.height,self.root1, self.pos_x,self.pos_y,self.edges,self.label_hash,self.labels,self.hover_text,self.values,self.celltypes);\n",
    "        \n",
    "        unique_categories = list(set(self.celltypes))\n",
    "        if(self.color == None):\n",
    "            category_colors = {cat: f'#{random.randint(0, 0xFFFFFF):06x}' for cat in unique_categories}\n",
    "        elif(len(self.color)>= len(unique_categories)):\n",
    "            category_colors = {cat: col  for cat,col in zip(unique_categories,self.color[:len(unique_categories)])}\n",
    "        else:\n",
    "            category_colors = {cat: f'#{random.randint(0, 0xFFFFFF):06x}' for cat in unique_categories}\n",
    "            \n",
    "        category_colors['empty'] = '#fff'\n",
    "        print(category_colors)\n",
    "        for i in self.edges:\n",
    "            p1,p2 = i;\n",
    "            index1=self.label_hash[p1];\n",
    "            index2=self.label_hash[p2];\n",
    "\n",
    "            x1=self.pos_x[index1];y1=self.pos_y[index1];\n",
    "            x2=self.pos_x[index2];y2=self.pos_y[index2];\n",
    "            self.fig.add_shape(\n",
    "                type=\"line\",\n",
    "                x0=x1, y0=y1, x1=x2, y1=y2,\n",
    "                line=dict(\n",
    "                    color=\"#333\",\n",
    "                    width=2,\n",
    "                ),\n",
    "                layer=\"below\"\n",
    "            )\n",
    "        # Iterate over unique cell types\n",
    "        for cell_type in unique_categories:\n",
    "            indexs = [i for i in range(len(self.celltypes)) if self.celltypes[i] == cell_type]\n",
    "            x_cell = [self.pos_x[i] for i in indexs]\n",
    "            y_cell = [self.pos_y[i] for i in indexs]\n",
    "            \n",
    "            # Add scatter trace for the current cell type\n",
    "            self.fig.add_trace(go.Scatter(\n",
    "                x=x_cell,\n",
    "                y=y_cell,\n",
    "                mode='markers+text',\n",
    "                name=cell_type,\n",
    "                legendgroup=cell_type,\n",
    "                marker=dict(\n",
    "                    symbol='circle-dot',\n",
    "                    size=30,\n",
    "                    color=category_colors[cell_type]  # Set color based on cell type\n",
    "                ),\n",
    "                # text=[self.labels[i] for i in indexs],\n",
    "                hoverinfo='text',\n",
    "                hovertext=[self.labels[i] for i in indexs],\n",
    "                # #textposition=\"top center\",\n",
    "                # textfont=dict(family='sans serif',\n",
    "                # size=18,\n",
    "                # color='#000000'\n",
    "                # ),\n",
    "                # opacity=0.8,\n",
    "            ))\n",
    "\n",
    "        # self.fig.add_trace(go.Scatter(x=self.pos_x,\n",
    "        #                 y=self.pos_y,\n",
    "        #                 mode='markers+text',\n",
    "        #                 marker=dict(symbol='circle-dot',\n",
    "        #                                 size=50,\n",
    "        #                                 # color='#5B91D9',  \n",
    "        #                                 # color=self.values,\n",
    "        #                                 color=[category_colors[cat] for cat in self.celltypes],\n",
    "        #                                 # colorscale=\"peach\",\n",
    "        #                                 # showscale=True,\n",
    "        #                                 # line=dict(color='rgb(50,50,50)', width=1)\n",
    "        #                                 ),\n",
    "        #                 text=self.labels,\n",
    "        #                 hoverinfo='text',\n",
    "        #                 # hovertext=self.hover_text,\n",
    "        #                 #textposition=\"top center\",\n",
    "        #                 textfont=dict(family='sans serif',\n",
    "        #                 size=18,\n",
    "        #                 color='#000000'\n",
    "        #                     ),\n",
    "        #                 opacity=0.8,\n",
    "        #                 ))\n",
    "        self.fig.update_layout(  \n",
    "            xaxis= dict(showline=False, # hide axis line, grid, ticklabels and  title\n",
    "                    zeroline=False,\n",
    "                    showgrid=False,\n",
    "                    showticklabels=False,\n",
    "                    ),\n",
    "            yaxis=dict(showline=False, # hide axis line, grid, ticklabels and  title\n",
    "                    zeroline=False,\n",
    "                    showgrid=False,\n",
    "                    showticklabels=False,\n",
    "                    ),\n",
    "        width=1000, height=500\n",
    "        )\n",
    "        \n",
    "        # self.fig.show()\n",
    "    def show_fig(self):\n",
    "        self.fig.show();\n",
    "       "
   ]
  },
  {
   "cell_type": "markdown",
   "metadata": {},
   "source": []
  },
  {
   "cell_type": "code",
   "execution_count": 305,
   "metadata": {},
   "outputs": [
    {
     "name": "stdout",
     "output_type": "stream",
     "text": [
      "10 52\n",
      "\t Epoch 0 | average train loss1: 0.338440\n"
     ]
    },
    {
     "name": "stderr",
     "output_type": "stream",
     "text": [
      "/Users/dongjiajie/Desktop/alignment/fyp/hyperalignment/final/datasets/balance_dataset.py:54: VisibleDeprecationWarning:\n",
      "\n",
      "Creating an ndarray from ragged nested sequences (which is a list-or-tuple of lists-or-tuples-or ndarrays with different lengths or shapes) is deprecated. If you meant to do this, you must specify 'dtype=object' when creating the ndarray.\n",
      "\n",
      "/Users/dongjiajie/Desktop/alignment/fyp/hyperalignment/final/model/balancehc.py:22: UserWarning:\n",
      "\n",
      "To copy construct from a tensor, it is recommended to use sourceTensor.clone().detach() or sourceTensor.clone().detach().requires_grad_(True), rather than torch.tensor(sourceTensor).\n",
      "\n"
     ]
    },
    {
     "name": "stdout",
     "output_type": "stream",
     "text": [
      "\t Epoch 0 | average train loss2: 0.298772\n",
      "\t Epoch 1 | average train loss1: 0.337037\n"
     ]
    },
    {
     "name": "stderr",
     "output_type": "stream",
     "text": [
      "/Users/dongjiajie/Desktop/alignment/fyp/hyperalignment/final/model/balancehc.py:46: UserWarning:\n",
      "\n",
      "To copy construct from a tensor, it is recommended to use sourceTensor.clone().detach() or sourceTensor.clone().detach().requires_grad_(True), rather than torch.tensor(sourceTensor).\n",
      "\n",
      "/Users/dongjiajie/Desktop/alignment/fyp/hyperalignment/final/model/balancehc.py:71: UserWarning:\n",
      "\n",
      "To copy construct from a tensor, it is recommended to use sourceTensor.clone().detach() or sourceTensor.clone().detach().requires_grad_(True), rather than torch.tensor(sourceTensor).\n",
      "\n",
      "/Users/dongjiajie/Desktop/alignment/fyp/hyperalignment/final/model/balancehc.py:92: UserWarning:\n",
      "\n",
      "To copy construct from a tensor, it is recommended to use sourceTensor.clone().detach() or sourceTensor.clone().detach().requires_grad_(True), rather than torch.tensor(sourceTensor).\n",
      "\n"
     ]
    },
    {
     "name": "stdout",
     "output_type": "stream",
     "text": [
      "\t Epoch 1 | average train loss2: 0.297618\n",
      "\t Epoch 2 | average train loss1: 0.337547\n",
      "\t Epoch 2 | average train loss2: 0.297399\n"
     ]
    }
   ],
   "source": [
    "temp = rotate(nodes1,embeddings,3,n,similarities)\n",
    "for i in nodes1:\n",
    "    i.hyper = temp[int(i)]\n",
    "    i.value =  temp[int(i)]\n",
    "embeddings = temp.numpy();\n",
    "root = nodes1[-1]"
   ]
  },
  {
   "cell_type": "code",
   "execution_count": 306,
   "metadata": {},
   "outputs": [
    {
     "name": "stdout",
     "output_type": "stream",
     "text": [
      "7 0\n",
      "8 6\n",
      "[12, 10, 2, 9, 4, 0, 1, 11, 3, 6, 5]\n",
      "24 42\n",
      "\t Epoch 0 | average train loss1: 0.303663\n",
      "\t Epoch 0 | average train loss2: 0.290753\n",
      "\t Epoch 1 | average train loss1: 0.301816\n",
      "\t Epoch 1 | average train loss2: 0.290362\n",
      "\t Epoch 2 | average train loss1: 0.302855\n",
      "\t Epoch 2 | average train loss2: 0.290403\n",
      "{'empty': '#fff', 'V4': '#1a759f', 'V2/9': '#168aad'}\n"
     ]
    },
    {
     "data": {
      "application/vnd.plotly.v1+json": {
       "config": {
        "plotlyServerURL": "https://plot.ly"
       },
       "data": [
        {
         "hoverinfo": "text",
         "hovertext": [
          "12",
          "10",
          "9",
          "11"
         ],
         "legendgroup": "empty",
         "marker": {
          "color": "#fff",
          "size": 30,
          "symbol": "circle-dot"
         },
         "mode": "markers+text",
         "name": "empty",
         "type": "scatter",
         "x": [
          5.5,
          3.25,
          4.375,
          7.75
         ],
         "y": [
          5,
          3.5,
          2,
          3.5
         ]
        },
        {
         "hoverinfo": "text",
         "hovertext": [
          "2_V4",
          "4_V4",
          "0_V4",
          "1_V4",
          "3_V4"
         ],
         "legendgroup": "V4",
         "marker": {
          "color": "#1a759f",
          "size": 30,
          "symbol": "circle-dot"
         },
         "mode": "markers+text",
         "name": "V4",
         "type": "scatter",
         "x": [
          2.125,
          3.8125,
          4.9375,
          4.9375,
          6.625
         ],
         "y": [
          2,
          0.5,
          0.5,
          -1,
          2
         ]
        },
        {
         "hoverinfo": "text",
         "hovertext": [
          "6_V2/9",
          "5_V2/9"
         ],
         "legendgroup": "V2/9",
         "marker": {
          "color": "#168aad",
          "size": 30,
          "symbol": "circle-dot"
         },
         "mode": "markers+text",
         "name": "V2/9",
         "type": "scatter",
         "x": [
          8.875,
          8.875
         ],
         "y": [
          2,
          0.5
         ]
        }
       ],
       "layout": {
        "height": 500,
        "shapes": [
         {
          "layer": "below",
          "line": {
           "color": "#333",
           "width": 2
          },
          "type": "line",
          "x0": 5.5,
          "x1": 5.5,
          "y0": 5,
          "y1": 5
         },
         {
          "layer": "below",
          "line": {
           "color": "#333",
           "width": 2
          },
          "type": "line",
          "x0": 5.5,
          "x1": 3.25,
          "y0": 5,
          "y1": 3.5
         },
         {
          "layer": "below",
          "line": {
           "color": "#333",
           "width": 2
          },
          "type": "line",
          "x0": 3.25,
          "x1": 2.125,
          "y0": 3.5,
          "y1": 2
         },
         {
          "layer": "below",
          "line": {
           "color": "#333",
           "width": 2
          },
          "type": "line",
          "x0": 3.25,
          "x1": 4.375,
          "y0": 3.5,
          "y1": 2
         },
         {
          "layer": "below",
          "line": {
           "color": "#333",
           "width": 2
          },
          "type": "line",
          "x0": 4.375,
          "x1": 3.8125,
          "y0": 2,
          "y1": 0.5
         },
         {
          "layer": "below",
          "line": {
           "color": "#333",
           "width": 2
          },
          "type": "line",
          "x0": 4.375,
          "x1": 4.9375,
          "y0": 2,
          "y1": 0.5
         },
         {
          "layer": "below",
          "line": {
           "color": "#333",
           "width": 2
          },
          "type": "line",
          "x0": 4.9375,
          "x1": 4.9375,
          "y0": 0.5,
          "y1": -1
         },
         {
          "layer": "below",
          "line": {
           "color": "#333",
           "width": 2
          },
          "type": "line",
          "x0": 5.5,
          "x1": 7.75,
          "y0": 5,
          "y1": 3.5
         },
         {
          "layer": "below",
          "line": {
           "color": "#333",
           "width": 2
          },
          "type": "line",
          "x0": 7.75,
          "x1": 6.625,
          "y0": 3.5,
          "y1": 2
         },
         {
          "layer": "below",
          "line": {
           "color": "#333",
           "width": 2
          },
          "type": "line",
          "x0": 7.75,
          "x1": 8.875,
          "y0": 3.5,
          "y1": 2
         },
         {
          "layer": "below",
          "line": {
           "color": "#333",
           "width": 2
          },
          "type": "line",
          "x0": 8.875,
          "x1": 8.875,
          "y0": 2,
          "y1": 0.5
         }
        ],
        "template": {
         "data": {
          "bar": [
           {
            "error_x": {
             "color": "#2a3f5f"
            },
            "error_y": {
             "color": "#2a3f5f"
            },
            "marker": {
             "line": {
              "color": "#E5ECF6",
              "width": 0.5
             },
             "pattern": {
              "fillmode": "overlay",
              "size": 10,
              "solidity": 0.2
             }
            },
            "type": "bar"
           }
          ],
          "barpolar": [
           {
            "marker": {
             "line": {
              "color": "#E5ECF6",
              "width": 0.5
             },
             "pattern": {
              "fillmode": "overlay",
              "size": 10,
              "solidity": 0.2
             }
            },
            "type": "barpolar"
           }
          ],
          "carpet": [
           {
            "aaxis": {
             "endlinecolor": "#2a3f5f",
             "gridcolor": "white",
             "linecolor": "white",
             "minorgridcolor": "white",
             "startlinecolor": "#2a3f5f"
            },
            "baxis": {
             "endlinecolor": "#2a3f5f",
             "gridcolor": "white",
             "linecolor": "white",
             "minorgridcolor": "white",
             "startlinecolor": "#2a3f5f"
            },
            "type": "carpet"
           }
          ],
          "choropleth": [
           {
            "colorbar": {
             "outlinewidth": 0,
             "ticks": ""
            },
            "type": "choropleth"
           }
          ],
          "contour": [
           {
            "colorbar": {
             "outlinewidth": 0,
             "ticks": ""
            },
            "colorscale": [
             [
              0,
              "#0d0887"
             ],
             [
              0.1111111111111111,
              "#46039f"
             ],
             [
              0.2222222222222222,
              "#7201a8"
             ],
             [
              0.3333333333333333,
              "#9c179e"
             ],
             [
              0.4444444444444444,
              "#bd3786"
             ],
             [
              0.5555555555555556,
              "#d8576b"
             ],
             [
              0.6666666666666666,
              "#ed7953"
             ],
             [
              0.7777777777777778,
              "#fb9f3a"
             ],
             [
              0.8888888888888888,
              "#fdca26"
             ],
             [
              1,
              "#f0f921"
             ]
            ],
            "type": "contour"
           }
          ],
          "contourcarpet": [
           {
            "colorbar": {
             "outlinewidth": 0,
             "ticks": ""
            },
            "type": "contourcarpet"
           }
          ],
          "heatmap": [
           {
            "colorbar": {
             "outlinewidth": 0,
             "ticks": ""
            },
            "colorscale": [
             [
              0,
              "#0d0887"
             ],
             [
              0.1111111111111111,
              "#46039f"
             ],
             [
              0.2222222222222222,
              "#7201a8"
             ],
             [
              0.3333333333333333,
              "#9c179e"
             ],
             [
              0.4444444444444444,
              "#bd3786"
             ],
             [
              0.5555555555555556,
              "#d8576b"
             ],
             [
              0.6666666666666666,
              "#ed7953"
             ],
             [
              0.7777777777777778,
              "#fb9f3a"
             ],
             [
              0.8888888888888888,
              "#fdca26"
             ],
             [
              1,
              "#f0f921"
             ]
            ],
            "type": "heatmap"
           }
          ],
          "heatmapgl": [
           {
            "colorbar": {
             "outlinewidth": 0,
             "ticks": ""
            },
            "colorscale": [
             [
              0,
              "#0d0887"
             ],
             [
              0.1111111111111111,
              "#46039f"
             ],
             [
              0.2222222222222222,
              "#7201a8"
             ],
             [
              0.3333333333333333,
              "#9c179e"
             ],
             [
              0.4444444444444444,
              "#bd3786"
             ],
             [
              0.5555555555555556,
              "#d8576b"
             ],
             [
              0.6666666666666666,
              "#ed7953"
             ],
             [
              0.7777777777777778,
              "#fb9f3a"
             ],
             [
              0.8888888888888888,
              "#fdca26"
             ],
             [
              1,
              "#f0f921"
             ]
            ],
            "type": "heatmapgl"
           }
          ],
          "histogram": [
           {
            "marker": {
             "pattern": {
              "fillmode": "overlay",
              "size": 10,
              "solidity": 0.2
             }
            },
            "type": "histogram"
           }
          ],
          "histogram2d": [
           {
            "colorbar": {
             "outlinewidth": 0,
             "ticks": ""
            },
            "colorscale": [
             [
              0,
              "#0d0887"
             ],
             [
              0.1111111111111111,
              "#46039f"
             ],
             [
              0.2222222222222222,
              "#7201a8"
             ],
             [
              0.3333333333333333,
              "#9c179e"
             ],
             [
              0.4444444444444444,
              "#bd3786"
             ],
             [
              0.5555555555555556,
              "#d8576b"
             ],
             [
              0.6666666666666666,
              "#ed7953"
             ],
             [
              0.7777777777777778,
              "#fb9f3a"
             ],
             [
              0.8888888888888888,
              "#fdca26"
             ],
             [
              1,
              "#f0f921"
             ]
            ],
            "type": "histogram2d"
           }
          ],
          "histogram2dcontour": [
           {
            "colorbar": {
             "outlinewidth": 0,
             "ticks": ""
            },
            "colorscale": [
             [
              0,
              "#0d0887"
             ],
             [
              0.1111111111111111,
              "#46039f"
             ],
             [
              0.2222222222222222,
              "#7201a8"
             ],
             [
              0.3333333333333333,
              "#9c179e"
             ],
             [
              0.4444444444444444,
              "#bd3786"
             ],
             [
              0.5555555555555556,
              "#d8576b"
             ],
             [
              0.6666666666666666,
              "#ed7953"
             ],
             [
              0.7777777777777778,
              "#fb9f3a"
             ],
             [
              0.8888888888888888,
              "#fdca26"
             ],
             [
              1,
              "#f0f921"
             ]
            ],
            "type": "histogram2dcontour"
           }
          ],
          "mesh3d": [
           {
            "colorbar": {
             "outlinewidth": 0,
             "ticks": ""
            },
            "type": "mesh3d"
           }
          ],
          "parcoords": [
           {
            "line": {
             "colorbar": {
              "outlinewidth": 0,
              "ticks": ""
             }
            },
            "type": "parcoords"
           }
          ],
          "pie": [
           {
            "automargin": true,
            "type": "pie"
           }
          ],
          "scatter": [
           {
            "fillpattern": {
             "fillmode": "overlay",
             "size": 10,
             "solidity": 0.2
            },
            "type": "scatter"
           }
          ],
          "scatter3d": [
           {
            "line": {
             "colorbar": {
              "outlinewidth": 0,
              "ticks": ""
             }
            },
            "marker": {
             "colorbar": {
              "outlinewidth": 0,
              "ticks": ""
             }
            },
            "type": "scatter3d"
           }
          ],
          "scattercarpet": [
           {
            "marker": {
             "colorbar": {
              "outlinewidth": 0,
              "ticks": ""
             }
            },
            "type": "scattercarpet"
           }
          ],
          "scattergeo": [
           {
            "marker": {
             "colorbar": {
              "outlinewidth": 0,
              "ticks": ""
             }
            },
            "type": "scattergeo"
           }
          ],
          "scattergl": [
           {
            "marker": {
             "colorbar": {
              "outlinewidth": 0,
              "ticks": ""
             }
            },
            "type": "scattergl"
           }
          ],
          "scattermapbox": [
           {
            "marker": {
             "colorbar": {
              "outlinewidth": 0,
              "ticks": ""
             }
            },
            "type": "scattermapbox"
           }
          ],
          "scatterpolar": [
           {
            "marker": {
             "colorbar": {
              "outlinewidth": 0,
              "ticks": ""
             }
            },
            "type": "scatterpolar"
           }
          ],
          "scatterpolargl": [
           {
            "marker": {
             "colorbar": {
              "outlinewidth": 0,
              "ticks": ""
             }
            },
            "type": "scatterpolargl"
           }
          ],
          "scatterternary": [
           {
            "marker": {
             "colorbar": {
              "outlinewidth": 0,
              "ticks": ""
             }
            },
            "type": "scatterternary"
           }
          ],
          "surface": [
           {
            "colorbar": {
             "outlinewidth": 0,
             "ticks": ""
            },
            "colorscale": [
             [
              0,
              "#0d0887"
             ],
             [
              0.1111111111111111,
              "#46039f"
             ],
             [
              0.2222222222222222,
              "#7201a8"
             ],
             [
              0.3333333333333333,
              "#9c179e"
             ],
             [
              0.4444444444444444,
              "#bd3786"
             ],
             [
              0.5555555555555556,
              "#d8576b"
             ],
             [
              0.6666666666666666,
              "#ed7953"
             ],
             [
              0.7777777777777778,
              "#fb9f3a"
             ],
             [
              0.8888888888888888,
              "#fdca26"
             ],
             [
              1,
              "#f0f921"
             ]
            ],
            "type": "surface"
           }
          ],
          "table": [
           {
            "cells": {
             "fill": {
              "color": "#EBF0F8"
             },
             "line": {
              "color": "white"
             }
            },
            "header": {
             "fill": {
              "color": "#C8D4E3"
             },
             "line": {
              "color": "white"
             }
            },
            "type": "table"
           }
          ]
         },
         "layout": {
          "annotationdefaults": {
           "arrowcolor": "#2a3f5f",
           "arrowhead": 0,
           "arrowwidth": 1
          },
          "autotypenumbers": "strict",
          "coloraxis": {
           "colorbar": {
            "outlinewidth": 0,
            "ticks": ""
           }
          },
          "colorscale": {
           "diverging": [
            [
             0,
             "#8e0152"
            ],
            [
             0.1,
             "#c51b7d"
            ],
            [
             0.2,
             "#de77ae"
            ],
            [
             0.3,
             "#f1b6da"
            ],
            [
             0.4,
             "#fde0ef"
            ],
            [
             0.5,
             "#f7f7f7"
            ],
            [
             0.6,
             "#e6f5d0"
            ],
            [
             0.7,
             "#b8e186"
            ],
            [
             0.8,
             "#7fbc41"
            ],
            [
             0.9,
             "#4d9221"
            ],
            [
             1,
             "#276419"
            ]
           ],
           "sequential": [
            [
             0,
             "#0d0887"
            ],
            [
             0.1111111111111111,
             "#46039f"
            ],
            [
             0.2222222222222222,
             "#7201a8"
            ],
            [
             0.3333333333333333,
             "#9c179e"
            ],
            [
             0.4444444444444444,
             "#bd3786"
            ],
            [
             0.5555555555555556,
             "#d8576b"
            ],
            [
             0.6666666666666666,
             "#ed7953"
            ],
            [
             0.7777777777777778,
             "#fb9f3a"
            ],
            [
             0.8888888888888888,
             "#fdca26"
            ],
            [
             1,
             "#f0f921"
            ]
           ],
           "sequentialminus": [
            [
             0,
             "#0d0887"
            ],
            [
             0.1111111111111111,
             "#46039f"
            ],
            [
             0.2222222222222222,
             "#7201a8"
            ],
            [
             0.3333333333333333,
             "#9c179e"
            ],
            [
             0.4444444444444444,
             "#bd3786"
            ],
            [
             0.5555555555555556,
             "#d8576b"
            ],
            [
             0.6666666666666666,
             "#ed7953"
            ],
            [
             0.7777777777777778,
             "#fb9f3a"
            ],
            [
             0.8888888888888888,
             "#fdca26"
            ],
            [
             1,
             "#f0f921"
            ]
           ]
          },
          "colorway": [
           "#636efa",
           "#EF553B",
           "#00cc96",
           "#ab63fa",
           "#FFA15A",
           "#19d3f3",
           "#FF6692",
           "#B6E880",
           "#FF97FF",
           "#FECB52"
          ],
          "font": {
           "color": "#2a3f5f"
          },
          "geo": {
           "bgcolor": "white",
           "lakecolor": "white",
           "landcolor": "#E5ECF6",
           "showlakes": true,
           "showland": true,
           "subunitcolor": "white"
          },
          "hoverlabel": {
           "align": "left"
          },
          "hovermode": "closest",
          "mapbox": {
           "style": "light"
          },
          "paper_bgcolor": "white",
          "plot_bgcolor": "#E5ECF6",
          "polar": {
           "angularaxis": {
            "gridcolor": "white",
            "linecolor": "white",
            "ticks": ""
           },
           "bgcolor": "#E5ECF6",
           "radialaxis": {
            "gridcolor": "white",
            "linecolor": "white",
            "ticks": ""
           }
          },
          "scene": {
           "xaxis": {
            "backgroundcolor": "#E5ECF6",
            "gridcolor": "white",
            "gridwidth": 2,
            "linecolor": "white",
            "showbackground": true,
            "ticks": "",
            "zerolinecolor": "white"
           },
           "yaxis": {
            "backgroundcolor": "#E5ECF6",
            "gridcolor": "white",
            "gridwidth": 2,
            "linecolor": "white",
            "showbackground": true,
            "ticks": "",
            "zerolinecolor": "white"
           },
           "zaxis": {
            "backgroundcolor": "#E5ECF6",
            "gridcolor": "white",
            "gridwidth": 2,
            "linecolor": "white",
            "showbackground": true,
            "ticks": "",
            "zerolinecolor": "white"
           }
          },
          "shapedefaults": {
           "line": {
            "color": "#2a3f5f"
           }
          },
          "ternary": {
           "aaxis": {
            "gridcolor": "white",
            "linecolor": "white",
            "ticks": ""
           },
           "baxis": {
            "gridcolor": "white",
            "linecolor": "white",
            "ticks": ""
           },
           "bgcolor": "#E5ECF6",
           "caxis": {
            "gridcolor": "white",
            "linecolor": "white",
            "ticks": ""
           }
          },
          "title": {
           "x": 0.05
          },
          "xaxis": {
           "automargin": true,
           "gridcolor": "white",
           "linecolor": "white",
           "ticks": "",
           "title": {
            "standoff": 15
           },
           "zerolinecolor": "white",
           "zerolinewidth": 2
          },
          "yaxis": {
           "automargin": true,
           "gridcolor": "white",
           "linecolor": "white",
           "ticks": "",
           "title": {
            "standoff": 15
           },
           "zerolinecolor": "white",
           "zerolinewidth": 2
          }
         }
        },
        "width": 1000,
        "xaxis": {
         "showgrid": false,
         "showline": false,
         "showticklabels": false,
         "zeroline": false
        },
        "yaxis": {
         "showgrid": false,
         "showline": false,
         "showticklabels": false,
         "zeroline": false
        }
       }
      }
     },
     "metadata": {},
     "output_type": "display_data"
    }
   ],
   "source": [
    "temp,root = merge_points(similarities,root,nodes1,embeddings,3,2,2,n)\n",
    "for i in nodes1:\n",
    "    i.hyper = temp[int(i)]\n",
    "    i.value =  temp[int(i)]\n",
    "embeddings = temp.numpy();\n",
    "add_meta(root,meta_list2,[])\n",
    "show_tree(root,color=['#184e77','#1a759f','#168aad',\"#34a0a4\",'#52b69a','#99d98c','#76c893','#99d98c']).show_fig()\n",
    "remove_meta(root);"
   ]
  },
  {
   "cell_type": "code",
   "execution_count": 307,
   "metadata": {},
   "outputs": [
    {
     "data": {
      "text/plain": [
       "[0, 1, 2, 3, 4, 5, 6, 7, 8, 9, 10, 11, 12]"
      ]
     },
     "execution_count": 307,
     "metadata": {},
     "output_type": "execute_result"
    }
   ],
   "source": [
    "nodes1"
   ]
  },
  {
   "cell_type": "code",
   "execution_count": 308,
   "metadata": {},
   "outputs": [
    {
     "data": {
      "text/plain": [
       "(tensor([0.5468], dtype=torch.float64), tensor([0.5170], dtype=torch.float64))"
      ]
     },
     "execution_count": 308,
     "metadata": {},
     "output_type": "execute_result"
    }
   ],
   "source": [
    "hyp_dist(nodes1[3].hyper,nodes1[6].hyper),hyp_dist(nodes1[4].hyper,nodes1[0].hyper)"
   ]
  },
  {
   "cell_type": "code",
   "execution_count": 309,
   "metadata": {},
   "outputs": [
    {
     "name": "stdout",
     "output_type": "stream",
     "text": [
      "9 4\n",
      "[12, 10, 2, 4, 0, 1, 11, 3, 6, 5]\n",
      "30 30\n",
      "\t Epoch 0 | average train loss1: 0.262817\n"
     ]
    },
    {
     "name": "stdout",
     "output_type": "stream",
     "text": [
      "\t Epoch 0 | average train loss2: 0.248299\n",
      "\t Epoch 1 | average train loss1: 0.263979\n",
      "\t Epoch 1 | average train loss2: 0.248559\n",
      "\t Epoch 2 | average train loss1: 0.264850\n",
      "\t Epoch 2 | average train loss2: 0.248532\n",
      "{'empty': '#fff', 'V4': '#1a759f', 'V2/9': '#168aad'}\n"
     ]
    },
    {
     "data": {
      "application/vnd.plotly.v1+json": {
       "config": {
        "plotlyServerURL": "https://plot.ly"
       },
       "data": [
        {
         "hoverinfo": "text",
         "hovertext": [
          "12",
          "10",
          "11"
         ],
         "legendgroup": "empty",
         "marker": {
          "color": "#fff",
          "size": 30,
          "symbol": "circle-dot"
         },
         "mode": "markers+text",
         "name": "empty",
         "type": "scatter",
         "x": [
          5.5,
          3.25,
          7.75
         ],
         "y": [
          5,
          3.5,
          3.5
         ]
        },
        {
         "hoverinfo": "text",
         "hovertext": [
          "2_V4",
          "4_V4",
          "0_V4",
          "1_V4",
          "3_V4"
         ],
         "legendgroup": "V4",
         "marker": {
          "color": "#1a759f",
          "size": 30,
          "symbol": "circle-dot"
         },
         "mode": "markers+text",
         "name": "V4",
         "type": "scatter",
         "x": [
          2.125,
          4.375,
          4.375,
          4.375,
          6.625
         ],
         "y": [
          2,
          2,
          0.5,
          -1,
          2
         ]
        },
        {
         "hoverinfo": "text",
         "hovertext": [
          "6_V2/9",
          "5_V2/9"
         ],
         "legendgroup": "V2/9",
         "marker": {
          "color": "#168aad",
          "size": 30,
          "symbol": "circle-dot"
         },
         "mode": "markers+text",
         "name": "V2/9",
         "type": "scatter",
         "x": [
          8.875,
          8.875
         ],
         "y": [
          2,
          0.5
         ]
        }
       ],
       "layout": {
        "height": 500,
        "shapes": [
         {
          "layer": "below",
          "line": {
           "color": "#333",
           "width": 2
          },
          "type": "line",
          "x0": 5.5,
          "x1": 5.5,
          "y0": 5,
          "y1": 5
         },
         {
          "layer": "below",
          "line": {
           "color": "#333",
           "width": 2
          },
          "type": "line",
          "x0": 5.5,
          "x1": 3.25,
          "y0": 5,
          "y1": 3.5
         },
         {
          "layer": "below",
          "line": {
           "color": "#333",
           "width": 2
          },
          "type": "line",
          "x0": 3.25,
          "x1": 2.125,
          "y0": 3.5,
          "y1": 2
         },
         {
          "layer": "below",
          "line": {
           "color": "#333",
           "width": 2
          },
          "type": "line",
          "x0": 3.25,
          "x1": 4.375,
          "y0": 3.5,
          "y1": 2
         },
         {
          "layer": "below",
          "line": {
           "color": "#333",
           "width": 2
          },
          "type": "line",
          "x0": 4.375,
          "x1": 4.375,
          "y0": 2,
          "y1": 0.5
         },
         {
          "layer": "below",
          "line": {
           "color": "#333",
           "width": 2
          },
          "type": "line",
          "x0": 4.375,
          "x1": 4.375,
          "y0": 0.5,
          "y1": -1
         },
         {
          "layer": "below",
          "line": {
           "color": "#333",
           "width": 2
          },
          "type": "line",
          "x0": 5.5,
          "x1": 7.75,
          "y0": 5,
          "y1": 3.5
         },
         {
          "layer": "below",
          "line": {
           "color": "#333",
           "width": 2
          },
          "type": "line",
          "x0": 7.75,
          "x1": 6.625,
          "y0": 3.5,
          "y1": 2
         },
         {
          "layer": "below",
          "line": {
           "color": "#333",
           "width": 2
          },
          "type": "line",
          "x0": 7.75,
          "x1": 8.875,
          "y0": 3.5,
          "y1": 2
         },
         {
          "layer": "below",
          "line": {
           "color": "#333",
           "width": 2
          },
          "type": "line",
          "x0": 8.875,
          "x1": 8.875,
          "y0": 2,
          "y1": 0.5
         }
        ],
        "template": {
         "data": {
          "bar": [
           {
            "error_x": {
             "color": "#2a3f5f"
            },
            "error_y": {
             "color": "#2a3f5f"
            },
            "marker": {
             "line": {
              "color": "#E5ECF6",
              "width": 0.5
             },
             "pattern": {
              "fillmode": "overlay",
              "size": 10,
              "solidity": 0.2
             }
            },
            "type": "bar"
           }
          ],
          "barpolar": [
           {
            "marker": {
             "line": {
              "color": "#E5ECF6",
              "width": 0.5
             },
             "pattern": {
              "fillmode": "overlay",
              "size": 10,
              "solidity": 0.2
             }
            },
            "type": "barpolar"
           }
          ],
          "carpet": [
           {
            "aaxis": {
             "endlinecolor": "#2a3f5f",
             "gridcolor": "white",
             "linecolor": "white",
             "minorgridcolor": "white",
             "startlinecolor": "#2a3f5f"
            },
            "baxis": {
             "endlinecolor": "#2a3f5f",
             "gridcolor": "white",
             "linecolor": "white",
             "minorgridcolor": "white",
             "startlinecolor": "#2a3f5f"
            },
            "type": "carpet"
           }
          ],
          "choropleth": [
           {
            "colorbar": {
             "outlinewidth": 0,
             "ticks": ""
            },
            "type": "choropleth"
           }
          ],
          "contour": [
           {
            "colorbar": {
             "outlinewidth": 0,
             "ticks": ""
            },
            "colorscale": [
             [
              0,
              "#0d0887"
             ],
             [
              0.1111111111111111,
              "#46039f"
             ],
             [
              0.2222222222222222,
              "#7201a8"
             ],
             [
              0.3333333333333333,
              "#9c179e"
             ],
             [
              0.4444444444444444,
              "#bd3786"
             ],
             [
              0.5555555555555556,
              "#d8576b"
             ],
             [
              0.6666666666666666,
              "#ed7953"
             ],
             [
              0.7777777777777778,
              "#fb9f3a"
             ],
             [
              0.8888888888888888,
              "#fdca26"
             ],
             [
              1,
              "#f0f921"
             ]
            ],
            "type": "contour"
           }
          ],
          "contourcarpet": [
           {
            "colorbar": {
             "outlinewidth": 0,
             "ticks": ""
            },
            "type": "contourcarpet"
           }
          ],
          "heatmap": [
           {
            "colorbar": {
             "outlinewidth": 0,
             "ticks": ""
            },
            "colorscale": [
             [
              0,
              "#0d0887"
             ],
             [
              0.1111111111111111,
              "#46039f"
             ],
             [
              0.2222222222222222,
              "#7201a8"
             ],
             [
              0.3333333333333333,
              "#9c179e"
             ],
             [
              0.4444444444444444,
              "#bd3786"
             ],
             [
              0.5555555555555556,
              "#d8576b"
             ],
             [
              0.6666666666666666,
              "#ed7953"
             ],
             [
              0.7777777777777778,
              "#fb9f3a"
             ],
             [
              0.8888888888888888,
              "#fdca26"
             ],
             [
              1,
              "#f0f921"
             ]
            ],
            "type": "heatmap"
           }
          ],
          "heatmapgl": [
           {
            "colorbar": {
             "outlinewidth": 0,
             "ticks": ""
            },
            "colorscale": [
             [
              0,
              "#0d0887"
             ],
             [
              0.1111111111111111,
              "#46039f"
             ],
             [
              0.2222222222222222,
              "#7201a8"
             ],
             [
              0.3333333333333333,
              "#9c179e"
             ],
             [
              0.4444444444444444,
              "#bd3786"
             ],
             [
              0.5555555555555556,
              "#d8576b"
             ],
             [
              0.6666666666666666,
              "#ed7953"
             ],
             [
              0.7777777777777778,
              "#fb9f3a"
             ],
             [
              0.8888888888888888,
              "#fdca26"
             ],
             [
              1,
              "#f0f921"
             ]
            ],
            "type": "heatmapgl"
           }
          ],
          "histogram": [
           {
            "marker": {
             "pattern": {
              "fillmode": "overlay",
              "size": 10,
              "solidity": 0.2
             }
            },
            "type": "histogram"
           }
          ],
          "histogram2d": [
           {
            "colorbar": {
             "outlinewidth": 0,
             "ticks": ""
            },
            "colorscale": [
             [
              0,
              "#0d0887"
             ],
             [
              0.1111111111111111,
              "#46039f"
             ],
             [
              0.2222222222222222,
              "#7201a8"
             ],
             [
              0.3333333333333333,
              "#9c179e"
             ],
             [
              0.4444444444444444,
              "#bd3786"
             ],
             [
              0.5555555555555556,
              "#d8576b"
             ],
             [
              0.6666666666666666,
              "#ed7953"
             ],
             [
              0.7777777777777778,
              "#fb9f3a"
             ],
             [
              0.8888888888888888,
              "#fdca26"
             ],
             [
              1,
              "#f0f921"
             ]
            ],
            "type": "histogram2d"
           }
          ],
          "histogram2dcontour": [
           {
            "colorbar": {
             "outlinewidth": 0,
             "ticks": ""
            },
            "colorscale": [
             [
              0,
              "#0d0887"
             ],
             [
              0.1111111111111111,
              "#46039f"
             ],
             [
              0.2222222222222222,
              "#7201a8"
             ],
             [
              0.3333333333333333,
              "#9c179e"
             ],
             [
              0.4444444444444444,
              "#bd3786"
             ],
             [
              0.5555555555555556,
              "#d8576b"
             ],
             [
              0.6666666666666666,
              "#ed7953"
             ],
             [
              0.7777777777777778,
              "#fb9f3a"
             ],
             [
              0.8888888888888888,
              "#fdca26"
             ],
             [
              1,
              "#f0f921"
             ]
            ],
            "type": "histogram2dcontour"
           }
          ],
          "mesh3d": [
           {
            "colorbar": {
             "outlinewidth": 0,
             "ticks": ""
            },
            "type": "mesh3d"
           }
          ],
          "parcoords": [
           {
            "line": {
             "colorbar": {
              "outlinewidth": 0,
              "ticks": ""
             }
            },
            "type": "parcoords"
           }
          ],
          "pie": [
           {
            "automargin": true,
            "type": "pie"
           }
          ],
          "scatter": [
           {
            "fillpattern": {
             "fillmode": "overlay",
             "size": 10,
             "solidity": 0.2
            },
            "type": "scatter"
           }
          ],
          "scatter3d": [
           {
            "line": {
             "colorbar": {
              "outlinewidth": 0,
              "ticks": ""
             }
            },
            "marker": {
             "colorbar": {
              "outlinewidth": 0,
              "ticks": ""
             }
            },
            "type": "scatter3d"
           }
          ],
          "scattercarpet": [
           {
            "marker": {
             "colorbar": {
              "outlinewidth": 0,
              "ticks": ""
             }
            },
            "type": "scattercarpet"
           }
          ],
          "scattergeo": [
           {
            "marker": {
             "colorbar": {
              "outlinewidth": 0,
              "ticks": ""
             }
            },
            "type": "scattergeo"
           }
          ],
          "scattergl": [
           {
            "marker": {
             "colorbar": {
              "outlinewidth": 0,
              "ticks": ""
             }
            },
            "type": "scattergl"
           }
          ],
          "scattermapbox": [
           {
            "marker": {
             "colorbar": {
              "outlinewidth": 0,
              "ticks": ""
             }
            },
            "type": "scattermapbox"
           }
          ],
          "scatterpolar": [
           {
            "marker": {
             "colorbar": {
              "outlinewidth": 0,
              "ticks": ""
             }
            },
            "type": "scatterpolar"
           }
          ],
          "scatterpolargl": [
           {
            "marker": {
             "colorbar": {
              "outlinewidth": 0,
              "ticks": ""
             }
            },
            "type": "scatterpolargl"
           }
          ],
          "scatterternary": [
           {
            "marker": {
             "colorbar": {
              "outlinewidth": 0,
              "ticks": ""
             }
            },
            "type": "scatterternary"
           }
          ],
          "surface": [
           {
            "colorbar": {
             "outlinewidth": 0,
             "ticks": ""
            },
            "colorscale": [
             [
              0,
              "#0d0887"
             ],
             [
              0.1111111111111111,
              "#46039f"
             ],
             [
              0.2222222222222222,
              "#7201a8"
             ],
             [
              0.3333333333333333,
              "#9c179e"
             ],
             [
              0.4444444444444444,
              "#bd3786"
             ],
             [
              0.5555555555555556,
              "#d8576b"
             ],
             [
              0.6666666666666666,
              "#ed7953"
             ],
             [
              0.7777777777777778,
              "#fb9f3a"
             ],
             [
              0.8888888888888888,
              "#fdca26"
             ],
             [
              1,
              "#f0f921"
             ]
            ],
            "type": "surface"
           }
          ],
          "table": [
           {
            "cells": {
             "fill": {
              "color": "#EBF0F8"
             },
             "line": {
              "color": "white"
             }
            },
            "header": {
             "fill": {
              "color": "#C8D4E3"
             },
             "line": {
              "color": "white"
             }
            },
            "type": "table"
           }
          ]
         },
         "layout": {
          "annotationdefaults": {
           "arrowcolor": "#2a3f5f",
           "arrowhead": 0,
           "arrowwidth": 1
          },
          "autotypenumbers": "strict",
          "coloraxis": {
           "colorbar": {
            "outlinewidth": 0,
            "ticks": ""
           }
          },
          "colorscale": {
           "diverging": [
            [
             0,
             "#8e0152"
            ],
            [
             0.1,
             "#c51b7d"
            ],
            [
             0.2,
             "#de77ae"
            ],
            [
             0.3,
             "#f1b6da"
            ],
            [
             0.4,
             "#fde0ef"
            ],
            [
             0.5,
             "#f7f7f7"
            ],
            [
             0.6,
             "#e6f5d0"
            ],
            [
             0.7,
             "#b8e186"
            ],
            [
             0.8,
             "#7fbc41"
            ],
            [
             0.9,
             "#4d9221"
            ],
            [
             1,
             "#276419"
            ]
           ],
           "sequential": [
            [
             0,
             "#0d0887"
            ],
            [
             0.1111111111111111,
             "#46039f"
            ],
            [
             0.2222222222222222,
             "#7201a8"
            ],
            [
             0.3333333333333333,
             "#9c179e"
            ],
            [
             0.4444444444444444,
             "#bd3786"
            ],
            [
             0.5555555555555556,
             "#d8576b"
            ],
            [
             0.6666666666666666,
             "#ed7953"
            ],
            [
             0.7777777777777778,
             "#fb9f3a"
            ],
            [
             0.8888888888888888,
             "#fdca26"
            ],
            [
             1,
             "#f0f921"
            ]
           ],
           "sequentialminus": [
            [
             0,
             "#0d0887"
            ],
            [
             0.1111111111111111,
             "#46039f"
            ],
            [
             0.2222222222222222,
             "#7201a8"
            ],
            [
             0.3333333333333333,
             "#9c179e"
            ],
            [
             0.4444444444444444,
             "#bd3786"
            ],
            [
             0.5555555555555556,
             "#d8576b"
            ],
            [
             0.6666666666666666,
             "#ed7953"
            ],
            [
             0.7777777777777778,
             "#fb9f3a"
            ],
            [
             0.8888888888888888,
             "#fdca26"
            ],
            [
             1,
             "#f0f921"
            ]
           ]
          },
          "colorway": [
           "#636efa",
           "#EF553B",
           "#00cc96",
           "#ab63fa",
           "#FFA15A",
           "#19d3f3",
           "#FF6692",
           "#B6E880",
           "#FF97FF",
           "#FECB52"
          ],
          "font": {
           "color": "#2a3f5f"
          },
          "geo": {
           "bgcolor": "white",
           "lakecolor": "white",
           "landcolor": "#E5ECF6",
           "showlakes": true,
           "showland": true,
           "subunitcolor": "white"
          },
          "hoverlabel": {
           "align": "left"
          },
          "hovermode": "closest",
          "mapbox": {
           "style": "light"
          },
          "paper_bgcolor": "white",
          "plot_bgcolor": "#E5ECF6",
          "polar": {
           "angularaxis": {
            "gridcolor": "white",
            "linecolor": "white",
            "ticks": ""
           },
           "bgcolor": "#E5ECF6",
           "radialaxis": {
            "gridcolor": "white",
            "linecolor": "white",
            "ticks": ""
           }
          },
          "scene": {
           "xaxis": {
            "backgroundcolor": "#E5ECF6",
            "gridcolor": "white",
            "gridwidth": 2,
            "linecolor": "white",
            "showbackground": true,
            "ticks": "",
            "zerolinecolor": "white"
           },
           "yaxis": {
            "backgroundcolor": "#E5ECF6",
            "gridcolor": "white",
            "gridwidth": 2,
            "linecolor": "white",
            "showbackground": true,
            "ticks": "",
            "zerolinecolor": "white"
           },
           "zaxis": {
            "backgroundcolor": "#E5ECF6",
            "gridcolor": "white",
            "gridwidth": 2,
            "linecolor": "white",
            "showbackground": true,
            "ticks": "",
            "zerolinecolor": "white"
           }
          },
          "shapedefaults": {
           "line": {
            "color": "#2a3f5f"
           }
          },
          "ternary": {
           "aaxis": {
            "gridcolor": "white",
            "linecolor": "white",
            "ticks": ""
           },
           "baxis": {
            "gridcolor": "white",
            "linecolor": "white",
            "ticks": ""
           },
           "bgcolor": "#E5ECF6",
           "caxis": {
            "gridcolor": "white",
            "linecolor": "white",
            "ticks": ""
           }
          },
          "title": {
           "x": 0.05
          },
          "xaxis": {
           "automargin": true,
           "gridcolor": "white",
           "linecolor": "white",
           "ticks": "",
           "title": {
            "standoff": 15
           },
           "zerolinecolor": "white",
           "zerolinewidth": 2
          },
          "yaxis": {
           "automargin": true,
           "gridcolor": "white",
           "linecolor": "white",
           "ticks": "",
           "title": {
            "standoff": 15
           },
           "zerolinecolor": "white",
           "zerolinewidth": 2
          }
         }
        },
        "width": 1000,
        "xaxis": {
         "showgrid": false,
         "showline": false,
         "showticklabels": false,
         "zeroline": false
        },
        "yaxis": {
         "showgrid": false,
         "showline": false,
         "showticklabels": false,
         "zeroline": false
        }
       }
      }
     },
     "metadata": {},
     "output_type": "display_data"
    }
   ],
   "source": [
    "temp,root = merge_points(similarities,root,nodes1,embeddings,3,2,0.53,n)\n",
    "for i in nodes1:\n",
    "    i.hyper = temp[int(i)]\n",
    "    i.value =  temp[int(i)]\n",
    "embeddings = temp.numpy();\n",
    "add_meta(root,meta_list2,[])\n",
    "show_tree(root,color=['#184e77','#1a759f','#168aad',\"#34a0a4\",'#52b69a','#99d98c','#76c893','#99d98c']).show_fig()\n",
    "remove_meta(root);"
   ]
  },
  {
   "cell_type": "code",
   "execution_count": 310,
   "metadata": {},
   "outputs": [],
   "source": [
    "names = [];\n",
    "fathers = [];\n",
    "xys = [];\n",
    "search_merge_tree(root,-1,0,names,fathers,xys)\n",
    "np.save('./datas/t/2/'+\"dataname_merge.npy\",names)\n",
    "np.save('./datas/t/2/'+\"datalink_merge.npy\",fathers)\n",
    "np.save('./datas/t/2/'+\"dataxy_merge.npy\",[i.numpy() for i in xys]) "
   ]
  },
  {
   "cell_type": "code",
   "execution_count": 311,
   "metadata": {},
   "outputs": [
    {
     "name": "stderr",
     "output_type": "stream",
     "text": [
      "/Users/dongjiajie/Desktop/alignment/fyp/hyperalignment/final/alignment.py:799: DeprecationWarning:\n",
      "\n",
      "`np.int` is a deprecated alias for the builtin `int`. To silence this warning, use `int` by itself. Doing this will not modify any behavior and is safe. When replacing `np.int`, you may wish to use e.g. `np.int64` or `np.int32` to specify the precision. If you wish to review your current use, check the release note link for additional information.\n",
      "Deprecated in NumPy 1.20; for more details and guidance: https://numpy.org/devdocs/release/1.20.0-notes.html#deprecations\n",
      "\n",
      "/Users/dongjiajie/Desktop/alignment/fyp/hyperalignment/final/alignment.py:799: DeprecationWarning:\n",
      "\n",
      "`np.int` is a deprecated alias for the builtin `int`. To silence this warning, use `int` by itself. Doing this will not modify any behavior and is safe. When replacing `np.int`, you may wish to use e.g. `np.int64` or `np.int32` to specify the precision. If you wish to review your current use, check the release note link for additional information.\n",
      "Deprecated in NumPy 1.20; for more details and guidance: https://numpy.org/devdocs/release/1.20.0-notes.html#deprecations\n",
      "\n"
     ]
    },
    {
     "name": "stdout",
     "output_type": "stream",
     "text": [
      "The mininum cost for alignment is 11.224242424242425\n",
      "The alignment edges list is [('20', '12'), ('19', '11'), ('4_V4', '3_V4'), ('8_V2/9', '6_V2/9'), ('10_V2/9', '5_V2/9'), ('16', '10'), ('2_V4', '0_V4'), ('1_V4', '1_V4'), ('3_V4', '2_V4')]\n",
      "average cost for one node:0.4317016317016317\n",
      "\n",
      "correct alignment rate:1.0\n"
     ]
    }
   ],
   "source": [
    "nodes1 = build_hyper_tree_from_folder('./datas/t/1/',True)\n",
    "nodes2 = build_hyper_tree_from_folder('./datas/t/2/',True)\n",
    "nodes_merge1 = [];\n",
    "nodes_merge2 = [];\n",
    "add_meta(nodes1[0],meta_list1,[])\n",
    "add_meta(nodes2[0],meta_list2,[])\n",
    "\n",
    "        \n",
    "\n",
    "rate,anslist,ans = run_alignment(nodes1,nodes2,'./datas/t/1/','./datas/t/2/',meta_list1,meta_list2);\n"
   ]
  },
  {
   "cell_type": "code",
   "execution_count": 312,
   "metadata": {},
   "outputs": [
    {
     "data": {
      "text/plain": [
       "[('20', '12'),\n",
       " ('19', '11'),\n",
       " ('4_V4', '3_V4'),\n",
       " ('8_V2/9', '6_V2/9'),\n",
       " ('10_V2/9', '5_V2/9'),\n",
       " ('16', '10'),\n",
       " ('2_V4', '0_V4'),\n",
       " ('1_V4', '1_V4'),\n",
       " ('3_V4', '2_V4')]"
      ]
     },
     "execution_count": 312,
     "metadata": {},
     "output_type": "execute_result"
    }
   ],
   "source": [
    "ans"
   ]
  },
  {
   "cell_type": "code",
   "execution_count": 313,
   "metadata": {},
   "outputs": [],
   "source": [
    "meta_list1=['V5/7',\n",
    " 'V4',\n",
    " 'V4',\n",
    " 'V4',\n",
    " 'V4',\n",
    "'V5/7', 'V5/7',\n",
    " 'V4',\n",
    " 'V2/9',\n",
    "'V5/7',\n",
    "'V2/9',]"
   ]
  },
  {
   "cell_type": "code",
   "execution_count": 314,
   "metadata": {},
   "outputs": [],
   "source": [
    "meta_list2=[ 'V4',\n",
    " 'V4',\n",
    " 'V4',\n",
    " 'V4',\n",
    " 'V4',\n",
    "  'V2/9',\n",
    " 'V2/9',\n",
    "\n",
    "]"
   ]
  },
  {
   "cell_type": "code",
   "execution_count": 315,
   "metadata": {},
   "outputs": [
    {
     "data": {
      "text/plain": [
       "['V5/7', 'V4', 'V4', 'V4', 'V4', 'V5/7', 'V5/7', 'V4', 'V2/9', 'V5/7', 'V2/9']"
      ]
     },
     "execution_count": 315,
     "metadata": {},
     "output_type": "execute_result"
    }
   ],
   "source": [
    "meta_list1"
   ]
  },
  {
   "cell_type": "code",
   "execution_count": 316,
   "metadata": {},
   "outputs": [
    {
     "data": {
      "text/plain": [
       "['V4', 'V4', 'V4', 'V4', 'V4', 'V2/9', 'V2/9']"
      ]
     },
     "execution_count": 316,
     "metadata": {},
     "output_type": "execute_result"
    }
   ],
   "source": [
    "meta_list2"
   ]
  },
  {
   "cell_type": "code",
   "execution_count": 317,
   "metadata": {},
   "outputs": [
    {
     "name": "stdout",
     "output_type": "stream",
     "text": [
      "{'empty': '#fff', 'V5/7': '#1a759f', 'V4': '#168aad', 'V2/9': '#34a0a4'}\n"
     ]
    },
    {
     "data": {
      "application/vnd.plotly.v1+json": {
       "config": {
        "plotlyServerURL": "https://plot.ly"
       },
       "data": [
        {
         "hoverinfo": "text",
         "hovertext": [
          "connect 12",
          "connect 10",
          "connect 11",
          "connect Empty",
          "connect Empty",
          "connect 20",
          "connect 16",
          "connect 19"
         ],
         "legendgroup": "empty",
         "marker": {
          "color": "#fff",
          "size": 30,
          "symbol": "circle-dot"
         },
         "mode": "markers+text",
         "name": "empty",
         "text": [
          "20",
          "16",
          "19",
          "18",
          "17",
          "12",
          "10",
          "11"
         ],
         "textfont": {
          "color": "#000000",
          "family": "sans serif",
          "size": 15
         },
         "type": "scatter",
         "x": [
          10.5,
          5.75,
          15.25,
          17.625,
          18.8125,
          27.5,
          22.75,
          32.25
         ],
         "y": [
          5,
          3.5,
          3.5,
          2,
          0.5,
          3.5,
          2,
          2
         ]
        },
        {
         "hoverinfo": "text",
         "hovertext": [
          "connect Empty",
          "connect Empty",
          "connect Empty",
          "connect Empty"
         ],
         "legendgroup": "V5/7",
         "marker": {
          "color": "#1a759f",
          "size": 30,
          "symbol": "circle-dot"
         },
         "mode": "markers+text",
         "name": "V5/7",
         "text": [
          "9_V5/7",
          "0_V5/7",
          "5_V5/7",
          "6_V5/7"
         ],
         "textfont": {
          "color": "#000000",
          "family": "sans serif",
          "size": 15
         },
         "type": "scatter",
         "x": [
          16.4375,
          16.4375,
          19.40625,
          19.40625
         ],
         "y": [
          0.5,
          -1,
          -1,
          -2.5
         ]
        },
        {
         "hoverinfo": "text",
         "hovertext": [
          "connect 0_V4",
          "connect 1_V4",
          "connect 2_V4",
          "connect Empty",
          "connect 3_V4",
          "connect 3_V4",
          "connect Empty",
          "connect 2_V4",
          "connect 1_V4",
          "connect 4_V4"
         ],
         "legendgroup": "V4",
         "marker": {
          "color": "#168aad",
          "size": 30,
          "symbol": "circle-dot"
         },
         "mode": "markers+text",
         "name": "V4",
         "text": [
          "2_V4",
          "1_V4",
          "3_V4",
          "7_V4",
          "4_V4",
          "2_V4",
          "4_V4",
          "0_V4",
          "1_V4",
          "3_V4"
         ],
         "textfont": {
          "color": "#000000",
          "family": "sans serif",
          "size": 15
         },
         "type": "scatter",
         "x": [
          3.375,
          3.375,
          8.125,
          8.125,
          18.21875,
          20.375,
          25.125,
          25.125,
          25.125,
          29.875
         ],
         "y": [
          2,
          0.5,
          2,
          0.5,
          -1,
          0.5,
          0.5,
          -1,
          -2.5,
          0.5
         ]
        },
        {
         "hoverinfo": "text",
         "hovertext": [
          "connect 6_V2/9",
          "connect 5_V2/9",
          "connect 8_V2/9",
          "connect 10_V2/9"
         ],
         "legendgroup": "V2/9",
         "marker": {
          "color": "#34a0a4",
          "size": 30,
          "symbol": "circle-dot"
         },
         "mode": "markers+text",
         "name": "V2/9",
         "text": [
          "8_V2/9",
          "10_V2/9",
          "6_V2/9",
          "5_V2/9"
         ],
         "textfont": {
          "color": "#000000",
          "family": "sans serif",
          "size": 15
         },
         "type": "scatter",
         "x": [
          12.875,
          12.875,
          34.625,
          34.625
         ],
         "y": [
          2,
          0.5,
          0.5,
          -1
         ]
        }
       ],
       "layout": {
        "height": 500,
        "paper_bgcolor": "rgba(0,0,0,0)",
        "plot_bgcolor": "rgba(0,0,0,0)",
        "shapes": [
         {
          "layer": "below",
          "line": {
           "color": "#333",
           "width": 4
          },
          "type": "line",
          "x0": 10.5,
          "x1": 10.5,
          "y0": 5,
          "y1": 5
         },
         {
          "layer": "below",
          "line": {
           "color": "#333",
           "width": 4
          },
          "type": "line",
          "x0": 10.5,
          "x1": 5.75,
          "y0": 5,
          "y1": 3.5
         },
         {
          "layer": "below",
          "line": {
           "color": "#333",
           "width": 4
          },
          "type": "line",
          "x0": 5.75,
          "x1": 3.375,
          "y0": 3.5,
          "y1": 2
         },
         {
          "layer": "below",
          "line": {
           "color": "#333",
           "width": 4
          },
          "type": "line",
          "x0": 3.375,
          "x1": 3.375,
          "y0": 2,
          "y1": 0.5
         },
         {
          "layer": "below",
          "line": {
           "color": "#333",
           "width": 4
          },
          "type": "line",
          "x0": 5.75,
          "x1": 8.125,
          "y0": 3.5,
          "y1": 2
         },
         {
          "layer": "below",
          "line": {
           "color": "#333",
           "width": 4
          },
          "type": "line",
          "x0": 8.125,
          "x1": 8.125,
          "y0": 2,
          "y1": 0.5
         },
         {
          "layer": "below",
          "line": {
           "color": "#333",
           "width": 4
          },
          "type": "line",
          "x0": 10.5,
          "x1": 15.25,
          "y0": 5,
          "y1": 3.5
         },
         {
          "layer": "below",
          "line": {
           "color": "#333",
           "width": 4
          },
          "type": "line",
          "x0": 15.25,
          "x1": 12.875,
          "y0": 3.5,
          "y1": 2
         },
         {
          "layer": "below",
          "line": {
           "color": "#333",
           "width": 4
          },
          "type": "line",
          "x0": 12.875,
          "x1": 12.875,
          "y0": 2,
          "y1": 0.5
         },
         {
          "layer": "below",
          "line": {
           "color": "#333",
           "width": 4
          },
          "type": "line",
          "x0": 15.25,
          "x1": 17.625,
          "y0": 3.5,
          "y1": 2
         },
         {
          "layer": "below",
          "line": {
           "color": "#333",
           "width": 4
          },
          "type": "line",
          "x0": 17.625,
          "x1": 16.4375,
          "y0": 2,
          "y1": 0.5
         },
         {
          "layer": "below",
          "line": {
           "color": "#333",
           "width": 4
          },
          "type": "line",
          "x0": 16.4375,
          "x1": 16.4375,
          "y0": 0.5,
          "y1": -1
         },
         {
          "layer": "below",
          "line": {
           "color": "#333",
           "width": 4
          },
          "type": "line",
          "x0": 17.625,
          "x1": 18.8125,
          "y0": 2,
          "y1": 0.5
         },
         {
          "layer": "below",
          "line": {
           "color": "#333",
           "width": 4
          },
          "type": "line",
          "x0": 18.8125,
          "x1": 18.21875,
          "y0": 0.5,
          "y1": -1
         },
         {
          "layer": "below",
          "line": {
           "color": "#333",
           "width": 4
          },
          "type": "line",
          "x0": 18.8125,
          "x1": 19.40625,
          "y0": 0.5,
          "y1": -1
         },
         {
          "layer": "below",
          "line": {
           "color": "#333",
           "width": 4
          },
          "type": "line",
          "x0": 19.40625,
          "x1": 19.40625,
          "y0": -1,
          "y1": -2.5
         },
         {
          "layer": "below",
          "line": {
           "color": "#333",
           "width": 4
          },
          "type": "line",
          "x0": 27.5,
          "x1": 27.5,
          "y0": 3.5,
          "y1": 3.5
         },
         {
          "layer": "below",
          "line": {
           "color": "#333",
           "width": 4
          },
          "type": "line",
          "x0": 27.5,
          "x1": 22.75,
          "y0": 3.5,
          "y1": 2
         },
         {
          "layer": "below",
          "line": {
           "color": "#333",
           "width": 4
          },
          "type": "line",
          "x0": 22.75,
          "x1": 20.375,
          "y0": 2,
          "y1": 0.5
         },
         {
          "layer": "below",
          "line": {
           "color": "#333",
           "width": 4
          },
          "type": "line",
          "x0": 22.75,
          "x1": 25.125,
          "y0": 2,
          "y1": 0.5
         },
         {
          "layer": "below",
          "line": {
           "color": "#333",
           "width": 4
          },
          "type": "line",
          "x0": 25.125,
          "x1": 25.125,
          "y0": 0.5,
          "y1": -1
         },
         {
          "layer": "below",
          "line": {
           "color": "#333",
           "width": 4
          },
          "type": "line",
          "x0": 25.125,
          "x1": 25.125,
          "y0": -1,
          "y1": -2.5
         },
         {
          "layer": "below",
          "line": {
           "color": "#333",
           "width": 4
          },
          "type": "line",
          "x0": 27.5,
          "x1": 32.25,
          "y0": 3.5,
          "y1": 2
         },
         {
          "layer": "below",
          "line": {
           "color": "#333",
           "width": 4
          },
          "type": "line",
          "x0": 32.25,
          "x1": 29.875,
          "y0": 2,
          "y1": 0.5
         },
         {
          "layer": "below",
          "line": {
           "color": "#333",
           "width": 4
          },
          "type": "line",
          "x0": 32.25,
          "x1": 34.625,
          "y0": 2,
          "y1": 0.5
         },
         {
          "layer": "below",
          "line": {
           "color": "#333",
           "width": 4
          },
          "type": "line",
          "x0": 34.625,
          "x1": 34.625,
          "y0": 0.5,
          "y1": -1
         },
         {
          "layer": "below",
          "line": {
           "color": "#6175c1",
           "width": 4
          },
          "type": "line",
          "x0": 10.5,
          "x1": 27.5,
          "y0": 5,
          "y1": 3.5
         },
         {
          "layer": "below",
          "line": {
           "color": "#6175c1",
           "width": 4
          },
          "type": "line",
          "x0": 15.25,
          "x1": 32.25,
          "y0": 3.5,
          "y1": 2
         },
         {
          "layer": "below",
          "line": {
           "color": "#6175c1",
           "width": 4
          },
          "type": "line",
          "x0": 18.21875,
          "x1": 29.875,
          "y0": -1,
          "y1": 0.5
         },
         {
          "layer": "below",
          "line": {
           "color": "#6175c1",
           "width": 4
          },
          "type": "line",
          "x0": 12.875,
          "x1": 34.625,
          "y0": 2,
          "y1": 0.5
         },
         {
          "layer": "below",
          "line": {
           "color": "#6175c1",
           "width": 4
          },
          "type": "line",
          "x0": 12.875,
          "x1": 34.625,
          "y0": 0.5,
          "y1": -1
         },
         {
          "layer": "below",
          "line": {
           "color": "#6175c1",
           "width": 4
          },
          "type": "line",
          "x0": 5.75,
          "x1": 22.75,
          "y0": 3.5,
          "y1": 2
         },
         {
          "layer": "below",
          "line": {
           "color": "#6175c1",
           "width": 4
          },
          "type": "line",
          "x0": 3.375,
          "x1": 25.125,
          "y0": 2,
          "y1": -1
         },
         {
          "layer": "below",
          "line": {
           "color": "#6175c1",
           "width": 4
          },
          "type": "line",
          "x0": 3.375,
          "x1": 25.125,
          "y0": 0.5,
          "y1": -2.5
         },
         {
          "layer": "below",
          "line": {
           "color": "#6175c1",
           "width": 4
          },
          "type": "line",
          "x0": 8.125,
          "x1": 20.375,
          "y0": 2,
          "y1": 0.5
         }
        ],
        "template": {
         "data": {
          "bar": [
           {
            "error_x": {
             "color": "#2a3f5f"
            },
            "error_y": {
             "color": "#2a3f5f"
            },
            "marker": {
             "line": {
              "color": "#E5ECF6",
              "width": 0.5
             },
             "pattern": {
              "fillmode": "overlay",
              "size": 10,
              "solidity": 0.2
             }
            },
            "type": "bar"
           }
          ],
          "barpolar": [
           {
            "marker": {
             "line": {
              "color": "#E5ECF6",
              "width": 0.5
             },
             "pattern": {
              "fillmode": "overlay",
              "size": 10,
              "solidity": 0.2
             }
            },
            "type": "barpolar"
           }
          ],
          "carpet": [
           {
            "aaxis": {
             "endlinecolor": "#2a3f5f",
             "gridcolor": "white",
             "linecolor": "white",
             "minorgridcolor": "white",
             "startlinecolor": "#2a3f5f"
            },
            "baxis": {
             "endlinecolor": "#2a3f5f",
             "gridcolor": "white",
             "linecolor": "white",
             "minorgridcolor": "white",
             "startlinecolor": "#2a3f5f"
            },
            "type": "carpet"
           }
          ],
          "choropleth": [
           {
            "colorbar": {
             "outlinewidth": 0,
             "ticks": ""
            },
            "type": "choropleth"
           }
          ],
          "contour": [
           {
            "colorbar": {
             "outlinewidth": 0,
             "ticks": ""
            },
            "colorscale": [
             [
              0,
              "#0d0887"
             ],
             [
              0.1111111111111111,
              "#46039f"
             ],
             [
              0.2222222222222222,
              "#7201a8"
             ],
             [
              0.3333333333333333,
              "#9c179e"
             ],
             [
              0.4444444444444444,
              "#bd3786"
             ],
             [
              0.5555555555555556,
              "#d8576b"
             ],
             [
              0.6666666666666666,
              "#ed7953"
             ],
             [
              0.7777777777777778,
              "#fb9f3a"
             ],
             [
              0.8888888888888888,
              "#fdca26"
             ],
             [
              1,
              "#f0f921"
             ]
            ],
            "type": "contour"
           }
          ],
          "contourcarpet": [
           {
            "colorbar": {
             "outlinewidth": 0,
             "ticks": ""
            },
            "type": "contourcarpet"
           }
          ],
          "heatmap": [
           {
            "colorbar": {
             "outlinewidth": 0,
             "ticks": ""
            },
            "colorscale": [
             [
              0,
              "#0d0887"
             ],
             [
              0.1111111111111111,
              "#46039f"
             ],
             [
              0.2222222222222222,
              "#7201a8"
             ],
             [
              0.3333333333333333,
              "#9c179e"
             ],
             [
              0.4444444444444444,
              "#bd3786"
             ],
             [
              0.5555555555555556,
              "#d8576b"
             ],
             [
              0.6666666666666666,
              "#ed7953"
             ],
             [
              0.7777777777777778,
              "#fb9f3a"
             ],
             [
              0.8888888888888888,
              "#fdca26"
             ],
             [
              1,
              "#f0f921"
             ]
            ],
            "type": "heatmap"
           }
          ],
          "heatmapgl": [
           {
            "colorbar": {
             "outlinewidth": 0,
             "ticks": ""
            },
            "colorscale": [
             [
              0,
              "#0d0887"
             ],
             [
              0.1111111111111111,
              "#46039f"
             ],
             [
              0.2222222222222222,
              "#7201a8"
             ],
             [
              0.3333333333333333,
              "#9c179e"
             ],
             [
              0.4444444444444444,
              "#bd3786"
             ],
             [
              0.5555555555555556,
              "#d8576b"
             ],
             [
              0.6666666666666666,
              "#ed7953"
             ],
             [
              0.7777777777777778,
              "#fb9f3a"
             ],
             [
              0.8888888888888888,
              "#fdca26"
             ],
             [
              1,
              "#f0f921"
             ]
            ],
            "type": "heatmapgl"
           }
          ],
          "histogram": [
           {
            "marker": {
             "pattern": {
              "fillmode": "overlay",
              "size": 10,
              "solidity": 0.2
             }
            },
            "type": "histogram"
           }
          ],
          "histogram2d": [
           {
            "colorbar": {
             "outlinewidth": 0,
             "ticks": ""
            },
            "colorscale": [
             [
              0,
              "#0d0887"
             ],
             [
              0.1111111111111111,
              "#46039f"
             ],
             [
              0.2222222222222222,
              "#7201a8"
             ],
             [
              0.3333333333333333,
              "#9c179e"
             ],
             [
              0.4444444444444444,
              "#bd3786"
             ],
             [
              0.5555555555555556,
              "#d8576b"
             ],
             [
              0.6666666666666666,
              "#ed7953"
             ],
             [
              0.7777777777777778,
              "#fb9f3a"
             ],
             [
              0.8888888888888888,
              "#fdca26"
             ],
             [
              1,
              "#f0f921"
             ]
            ],
            "type": "histogram2d"
           }
          ],
          "histogram2dcontour": [
           {
            "colorbar": {
             "outlinewidth": 0,
             "ticks": ""
            },
            "colorscale": [
             [
              0,
              "#0d0887"
             ],
             [
              0.1111111111111111,
              "#46039f"
             ],
             [
              0.2222222222222222,
              "#7201a8"
             ],
             [
              0.3333333333333333,
              "#9c179e"
             ],
             [
              0.4444444444444444,
              "#bd3786"
             ],
             [
              0.5555555555555556,
              "#d8576b"
             ],
             [
              0.6666666666666666,
              "#ed7953"
             ],
             [
              0.7777777777777778,
              "#fb9f3a"
             ],
             [
              0.8888888888888888,
              "#fdca26"
             ],
             [
              1,
              "#f0f921"
             ]
            ],
            "type": "histogram2dcontour"
           }
          ],
          "mesh3d": [
           {
            "colorbar": {
             "outlinewidth": 0,
             "ticks": ""
            },
            "type": "mesh3d"
           }
          ],
          "parcoords": [
           {
            "line": {
             "colorbar": {
              "outlinewidth": 0,
              "ticks": ""
             }
            },
            "type": "parcoords"
           }
          ],
          "pie": [
           {
            "automargin": true,
            "type": "pie"
           }
          ],
          "scatter": [
           {
            "fillpattern": {
             "fillmode": "overlay",
             "size": 10,
             "solidity": 0.2
            },
            "type": "scatter"
           }
          ],
          "scatter3d": [
           {
            "line": {
             "colorbar": {
              "outlinewidth": 0,
              "ticks": ""
             }
            },
            "marker": {
             "colorbar": {
              "outlinewidth": 0,
              "ticks": ""
             }
            },
            "type": "scatter3d"
           }
          ],
          "scattercarpet": [
           {
            "marker": {
             "colorbar": {
              "outlinewidth": 0,
              "ticks": ""
             }
            },
            "type": "scattercarpet"
           }
          ],
          "scattergeo": [
           {
            "marker": {
             "colorbar": {
              "outlinewidth": 0,
              "ticks": ""
             }
            },
            "type": "scattergeo"
           }
          ],
          "scattergl": [
           {
            "marker": {
             "colorbar": {
              "outlinewidth": 0,
              "ticks": ""
             }
            },
            "type": "scattergl"
           }
          ],
          "scattermapbox": [
           {
            "marker": {
             "colorbar": {
              "outlinewidth": 0,
              "ticks": ""
             }
            },
            "type": "scattermapbox"
           }
          ],
          "scatterpolar": [
           {
            "marker": {
             "colorbar": {
              "outlinewidth": 0,
              "ticks": ""
             }
            },
            "type": "scatterpolar"
           }
          ],
          "scatterpolargl": [
           {
            "marker": {
             "colorbar": {
              "outlinewidth": 0,
              "ticks": ""
             }
            },
            "type": "scatterpolargl"
           }
          ],
          "scatterternary": [
           {
            "marker": {
             "colorbar": {
              "outlinewidth": 0,
              "ticks": ""
             }
            },
            "type": "scatterternary"
           }
          ],
          "surface": [
           {
            "colorbar": {
             "outlinewidth": 0,
             "ticks": ""
            },
            "colorscale": [
             [
              0,
              "#0d0887"
             ],
             [
              0.1111111111111111,
              "#46039f"
             ],
             [
              0.2222222222222222,
              "#7201a8"
             ],
             [
              0.3333333333333333,
              "#9c179e"
             ],
             [
              0.4444444444444444,
              "#bd3786"
             ],
             [
              0.5555555555555556,
              "#d8576b"
             ],
             [
              0.6666666666666666,
              "#ed7953"
             ],
             [
              0.7777777777777778,
              "#fb9f3a"
             ],
             [
              0.8888888888888888,
              "#fdca26"
             ],
             [
              1,
              "#f0f921"
             ]
            ],
            "type": "surface"
           }
          ],
          "table": [
           {
            "cells": {
             "fill": {
              "color": "#EBF0F8"
             },
             "line": {
              "color": "white"
             }
            },
            "header": {
             "fill": {
              "color": "#C8D4E3"
             },
             "line": {
              "color": "white"
             }
            },
            "type": "table"
           }
          ]
         },
         "layout": {
          "annotationdefaults": {
           "arrowcolor": "#2a3f5f",
           "arrowhead": 0,
           "arrowwidth": 1
          },
          "autotypenumbers": "strict",
          "coloraxis": {
           "colorbar": {
            "outlinewidth": 0,
            "ticks": ""
           }
          },
          "colorscale": {
           "diverging": [
            [
             0,
             "#8e0152"
            ],
            [
             0.1,
             "#c51b7d"
            ],
            [
             0.2,
             "#de77ae"
            ],
            [
             0.3,
             "#f1b6da"
            ],
            [
             0.4,
             "#fde0ef"
            ],
            [
             0.5,
             "#f7f7f7"
            ],
            [
             0.6,
             "#e6f5d0"
            ],
            [
             0.7,
             "#b8e186"
            ],
            [
             0.8,
             "#7fbc41"
            ],
            [
             0.9,
             "#4d9221"
            ],
            [
             1,
             "#276419"
            ]
           ],
           "sequential": [
            [
             0,
             "#0d0887"
            ],
            [
             0.1111111111111111,
             "#46039f"
            ],
            [
             0.2222222222222222,
             "#7201a8"
            ],
            [
             0.3333333333333333,
             "#9c179e"
            ],
            [
             0.4444444444444444,
             "#bd3786"
            ],
            [
             0.5555555555555556,
             "#d8576b"
            ],
            [
             0.6666666666666666,
             "#ed7953"
            ],
            [
             0.7777777777777778,
             "#fb9f3a"
            ],
            [
             0.8888888888888888,
             "#fdca26"
            ],
            [
             1,
             "#f0f921"
            ]
           ],
           "sequentialminus": [
            [
             0,
             "#0d0887"
            ],
            [
             0.1111111111111111,
             "#46039f"
            ],
            [
             0.2222222222222222,
             "#7201a8"
            ],
            [
             0.3333333333333333,
             "#9c179e"
            ],
            [
             0.4444444444444444,
             "#bd3786"
            ],
            [
             0.5555555555555556,
             "#d8576b"
            ],
            [
             0.6666666666666666,
             "#ed7953"
            ],
            [
             0.7777777777777778,
             "#fb9f3a"
            ],
            [
             0.8888888888888888,
             "#fdca26"
            ],
            [
             1,
             "#f0f921"
            ]
           ]
          },
          "colorway": [
           "#636efa",
           "#EF553B",
           "#00cc96",
           "#ab63fa",
           "#FFA15A",
           "#19d3f3",
           "#FF6692",
           "#B6E880",
           "#FF97FF",
           "#FECB52"
          ],
          "font": {
           "color": "#2a3f5f"
          },
          "geo": {
           "bgcolor": "white",
           "lakecolor": "white",
           "landcolor": "#E5ECF6",
           "showlakes": true,
           "showland": true,
           "subunitcolor": "white"
          },
          "hoverlabel": {
           "align": "left"
          },
          "hovermode": "closest",
          "mapbox": {
           "style": "light"
          },
          "paper_bgcolor": "white",
          "plot_bgcolor": "#E5ECF6",
          "polar": {
           "angularaxis": {
            "gridcolor": "white",
            "linecolor": "white",
            "ticks": ""
           },
           "bgcolor": "#E5ECF6",
           "radialaxis": {
            "gridcolor": "white",
            "linecolor": "white",
            "ticks": ""
           }
          },
          "scene": {
           "xaxis": {
            "backgroundcolor": "#E5ECF6",
            "gridcolor": "white",
            "gridwidth": 2,
            "linecolor": "white",
            "showbackground": true,
            "ticks": "",
            "zerolinecolor": "white"
           },
           "yaxis": {
            "backgroundcolor": "#E5ECF6",
            "gridcolor": "white",
            "gridwidth": 2,
            "linecolor": "white",
            "showbackground": true,
            "ticks": "",
            "zerolinecolor": "white"
           },
           "zaxis": {
            "backgroundcolor": "#E5ECF6",
            "gridcolor": "white",
            "gridwidth": 2,
            "linecolor": "white",
            "showbackground": true,
            "ticks": "",
            "zerolinecolor": "white"
           }
          },
          "shapedefaults": {
           "line": {
            "color": "#2a3f5f"
           }
          },
          "ternary": {
           "aaxis": {
            "gridcolor": "white",
            "linecolor": "white",
            "ticks": ""
           },
           "baxis": {
            "gridcolor": "white",
            "linecolor": "white",
            "ticks": ""
           },
           "bgcolor": "#E5ECF6",
           "caxis": {
            "gridcolor": "white",
            "linecolor": "white",
            "ticks": ""
           }
          },
          "title": {
           "x": 0.05
          },
          "xaxis": {
           "automargin": true,
           "gridcolor": "white",
           "linecolor": "white",
           "ticks": "",
           "title": {
            "standoff": 15
           },
           "zerolinecolor": "white",
           "zerolinewidth": 2
          },
          "yaxis": {
           "automargin": true,
           "gridcolor": "white",
           "linecolor": "white",
           "ticks": "",
           "title": {
            "standoff": 15
           },
           "zerolinecolor": "white",
           "zerolinewidth": 2
          }
         }
        },
        "width": 1000,
        "xaxis": {
         "showgrid": false,
         "showline": false,
         "showticklabels": false,
         "zeroline": false
        },
        "yaxis": {
         "showgrid": false,
         "showline": false,
         "showticklabels": false,
         "zeroline": false
        }
       }
      }
     },
     "metadata": {},
     "output_type": "display_data"
    }
   ],
   "source": [
    "t=show_graph(ans,nodes1[0],nodes2[0],color=['#184e77','#1a759f','#168aad',\"#34a0a4\",'#52b69a','#99d98c','#76c893','#99d98c'])\n",
    "t.fig.update_layout(\n",
    "    paper_bgcolor='rgba(0,0,0,0)',\n",
    "    plot_bgcolor='rgba(0,0,0,0)',\n",
    ")\n",
    "\n",
    "t.fig.show()"
   ]
  },
  {
   "cell_type": "code",
   "execution_count": 274,
   "metadata": {},
   "outputs": [
    {
     "data": {
      "text/plain": [
       "[12, 10, 2_V4, 9, 4_V4, 0_V4, 1_V4, 11, 3_V4, 6_V2/9, 5_V2/9]"
      ]
     },
     "execution_count": 274,
     "metadata": {},
     "output_type": "execute_result"
    }
   ],
   "source": [
    "nodes2"
   ]
  },
  {
   "cell_type": "code",
   "execution_count": 277,
   "metadata": {},
   "outputs": [
    {
     "data": {
      "text/plain": [
       "array([[0.9326125]], dtype=float32)"
      ]
     },
     "execution_count": 277,
     "metadata": {},
     "output_type": "execute_result"
    }
   ],
   "source": [
    "cosine_similarity(np.array(adata[adata.obs[adata.obs['leiden']=='1'].index].to_df().mean()).reshape(1,-1),np.array(g).reshape(1,-1))"
   ]
  },
  {
   "cell_type": "code",
   "execution_count": 282,
   "metadata": {},
   "outputs": [
    {
     "data": {
      "text/plain": [
       "array([[0.7312241]], dtype=float32)"
      ]
     },
     "execution_count": 282,
     "metadata": {},
     "output_type": "execute_result"
    }
   ],
   "source": [
    "cosine_similarity(np.array(adata[adata.obs[adata.obs['leiden']=='0'].index].to_df().mean()).reshape(1,-1),np.array(g).reshape(1,-1))"
   ]
  },
  {
   "cell_type": "code",
   "execution_count": 281,
   "metadata": {},
   "outputs": [
    {
     "data": {
      "text/plain": [
       "array([[0.9615905556]])"
      ]
     },
     "execution_count": 281,
     "metadata": {},
     "output_type": "execute_result"
    }
   ],
   "source": [
    "a1 = adata[adata.obs[adata.obs['leiden']=='1'].index].to_df().mean()\n",
    "a2 = adata[adata.obs[adata.obs['leiden']=='17'].index].to_df().mean()\n",
    "\n",
    "a=hyp_dist(nodes1[3].hyper,nodes1[4].hyper).numpy()\n",
    "b= hyp_dist(nodes1[3].hyper,nodes1[5].hyper).numpy()\n",
    "r = a1*a/(a+b) + a2*b/(a+b)\n",
    "g = adata[adata.obs[adata.obs['leiden']=='7'].index].to_df().mean()\n",
    "from sklearn.metrics.pairwise import cosine_similarity\n",
    "cosine_similarity(np.array(r).reshape(1,-1),np.array(g).reshape(1,-1))"
   ]
  },
  {
   "cell_type": "code",
   "execution_count": 272,
   "metadata": {},
   "outputs": [
    {
     "data": {
      "text/html": [
       "<div>\n",
       "<style scoped>\n",
       "    .dataframe tbody tr th:only-of-type {\n",
       "        vertical-align: middle;\n",
       "    }\n",
       "\n",
       "    .dataframe tbody tr th {\n",
       "        vertical-align: top;\n",
       "    }\n",
       "\n",
       "    .dataframe thead tr th {\n",
       "        text-align: left;\n",
       "    }\n",
       "\n",
       "    .dataframe thead tr:last-of-type th {\n",
       "        text-align: right;\n",
       "    }\n",
       "</style>\n",
       "<table border=\"1\" class=\"dataframe\">\n",
       "  <thead>\n",
       "    <tr>\n",
       "      <th></th>\n",
       "      <th colspan=\"4\" halign=\"left\">annotation</th>\n",
       "    </tr>\n",
       "    <tr>\n",
       "      <th></th>\n",
       "      <th>count</th>\n",
       "      <th>unique</th>\n",
       "      <th>top</th>\n",
       "      <th>freq</th>\n",
       "    </tr>\n",
       "    <tr>\n",
       "      <th>leiden</th>\n",
       "      <th></th>\n",
       "      <th></th>\n",
       "      <th></th>\n",
       "      <th></th>\n",
       "    </tr>\n",
       "  </thead>\n",
       "  <tbody>\n",
       "    <tr>\n",
       "      <th>0</th>\n",
       "      <td>197</td>\n",
       "      <td>4</td>\n",
       "      <td>TRGV5/7 gdT</td>\n",
       "      <td>185</td>\n",
       "    </tr>\n",
       "    <tr>\n",
       "      <th>1</th>\n",
       "      <td>163</td>\n",
       "      <td>4</td>\n",
       "      <td>TRGV4 gdT</td>\n",
       "      <td>96</td>\n",
       "    </tr>\n",
       "    <tr>\n",
       "      <th>2</th>\n",
       "      <td>156</td>\n",
       "      <td>5</td>\n",
       "      <td>TRGV2 gdT</td>\n",
       "      <td>73</td>\n",
       "    </tr>\n",
       "    <tr>\n",
       "      <th>3</th>\n",
       "      <td>153</td>\n",
       "      <td>5</td>\n",
       "      <td>TRGV2 gdT</td>\n",
       "      <td>104</td>\n",
       "    </tr>\n",
       "    <tr>\n",
       "      <th>4</th>\n",
       "      <td>149</td>\n",
       "      <td>4</td>\n",
       "      <td>TRGV4 gdT</td>\n",
       "      <td>111</td>\n",
       "    </tr>\n",
       "    <tr>\n",
       "      <th>5</th>\n",
       "      <td>145</td>\n",
       "      <td>3</td>\n",
       "      <td>TRGV2 gdT</td>\n",
       "      <td>73</td>\n",
       "    </tr>\n",
       "    <tr>\n",
       "      <th>6</th>\n",
       "      <td>141</td>\n",
       "      <td>4</td>\n",
       "      <td>gdT</td>\n",
       "      <td>130</td>\n",
       "    </tr>\n",
       "    <tr>\n",
       "      <th>7</th>\n",
       "      <td>141</td>\n",
       "      <td>3</td>\n",
       "      <td>TRGV4 gdT</td>\n",
       "      <td>83</td>\n",
       "    </tr>\n",
       "    <tr>\n",
       "      <th>8</th>\n",
       "      <td>135</td>\n",
       "      <td>2</td>\n",
       "      <td>gdT</td>\n",
       "      <td>133</td>\n",
       "    </tr>\n",
       "    <tr>\n",
       "      <th>9</th>\n",
       "      <td>129</td>\n",
       "      <td>4</td>\n",
       "      <td>gdT</td>\n",
       "      <td>125</td>\n",
       "    </tr>\n",
       "    <tr>\n",
       "      <th>10</th>\n",
       "      <td>122</td>\n",
       "      <td>3</td>\n",
       "      <td>gdT</td>\n",
       "      <td>119</td>\n",
       "    </tr>\n",
       "    <tr>\n",
       "      <th>11</th>\n",
       "      <td>122</td>\n",
       "      <td>3</td>\n",
       "      <td>TRGV2 gdT</td>\n",
       "      <td>72</td>\n",
       "    </tr>\n",
       "    <tr>\n",
       "      <th>12</th>\n",
       "      <td>121</td>\n",
       "      <td>2</td>\n",
       "      <td>gdT</td>\n",
       "      <td>119</td>\n",
       "    </tr>\n",
       "    <tr>\n",
       "      <th>13</th>\n",
       "      <td>121</td>\n",
       "      <td>4</td>\n",
       "      <td>TRGV4 gdT</td>\n",
       "      <td>61</td>\n",
       "    </tr>\n",
       "    <tr>\n",
       "      <th>14</th>\n",
       "      <td>119</td>\n",
       "      <td>2</td>\n",
       "      <td>TRGV5/7 gdT</td>\n",
       "      <td>117</td>\n",
       "    </tr>\n",
       "    <tr>\n",
       "      <th>15</th>\n",
       "      <td>117</td>\n",
       "      <td>3</td>\n",
       "      <td>TRGV2 gdT</td>\n",
       "      <td>65</td>\n",
       "    </tr>\n",
       "    <tr>\n",
       "      <th>16</th>\n",
       "      <td>116</td>\n",
       "      <td>4</td>\n",
       "      <td>TRGV5/7 gdT</td>\n",
       "      <td>112</td>\n",
       "    </tr>\n",
       "    <tr>\n",
       "      <th>17</th>\n",
       "      <td>111</td>\n",
       "      <td>4</td>\n",
       "      <td>TRGV4 gdT</td>\n",
       "      <td>79</td>\n",
       "    </tr>\n",
       "    <tr>\n",
       "      <th>18</th>\n",
       "      <td>109</td>\n",
       "      <td>4</td>\n",
       "      <td>gdT</td>\n",
       "      <td>97</td>\n",
       "    </tr>\n",
       "    <tr>\n",
       "      <th>19</th>\n",
       "      <td>103</td>\n",
       "      <td>3</td>\n",
       "      <td>gdT</td>\n",
       "      <td>92</td>\n",
       "    </tr>\n",
       "    <tr>\n",
       "      <th>20</th>\n",
       "      <td>101</td>\n",
       "      <td>4</td>\n",
       "      <td>gdT</td>\n",
       "      <td>93</td>\n",
       "    </tr>\n",
       "    <tr>\n",
       "      <th>21</th>\n",
       "      <td>101</td>\n",
       "      <td>2</td>\n",
       "      <td>gdT</td>\n",
       "      <td>98</td>\n",
       "    </tr>\n",
       "    <tr>\n",
       "      <th>22</th>\n",
       "      <td>98</td>\n",
       "      <td>2</td>\n",
       "      <td>gdT</td>\n",
       "      <td>97</td>\n",
       "    </tr>\n",
       "    <tr>\n",
       "      <th>23</th>\n",
       "      <td>97</td>\n",
       "      <td>3</td>\n",
       "      <td>TRGV2 gdT</td>\n",
       "      <td>80</td>\n",
       "    </tr>\n",
       "    <tr>\n",
       "      <th>24</th>\n",
       "      <td>96</td>\n",
       "      <td>3</td>\n",
       "      <td>TRDV2/TRGV9 gdT</td>\n",
       "      <td>89</td>\n",
       "    </tr>\n",
       "    <tr>\n",
       "      <th>25</th>\n",
       "      <td>88</td>\n",
       "      <td>2</td>\n",
       "      <td>gdT</td>\n",
       "      <td>86</td>\n",
       "    </tr>\n",
       "    <tr>\n",
       "      <th>26</th>\n",
       "      <td>86</td>\n",
       "      <td>3</td>\n",
       "      <td>gdT</td>\n",
       "      <td>84</td>\n",
       "    </tr>\n",
       "    <tr>\n",
       "      <th>27</th>\n",
       "      <td>86</td>\n",
       "      <td>5</td>\n",
       "      <td>gdT</td>\n",
       "      <td>46</td>\n",
       "    </tr>\n",
       "    <tr>\n",
       "      <th>28</th>\n",
       "      <td>85</td>\n",
       "      <td>3</td>\n",
       "      <td>gdT</td>\n",
       "      <td>81</td>\n",
       "    </tr>\n",
       "    <tr>\n",
       "      <th>29</th>\n",
       "      <td>84</td>\n",
       "      <td>2</td>\n",
       "      <td>gdT</td>\n",
       "      <td>83</td>\n",
       "    </tr>\n",
       "    <tr>\n",
       "      <th>30</th>\n",
       "      <td>83</td>\n",
       "      <td>2</td>\n",
       "      <td>gdT</td>\n",
       "      <td>80</td>\n",
       "    </tr>\n",
       "    <tr>\n",
       "      <th>31</th>\n",
       "      <td>82</td>\n",
       "      <td>1</td>\n",
       "      <td>gdT</td>\n",
       "      <td>82</td>\n",
       "    </tr>\n",
       "    <tr>\n",
       "      <th>32</th>\n",
       "      <td>81</td>\n",
       "      <td>4</td>\n",
       "      <td>gdT</td>\n",
       "      <td>74</td>\n",
       "    </tr>\n",
       "    <tr>\n",
       "      <th>33</th>\n",
       "      <td>76</td>\n",
       "      <td>1</td>\n",
       "      <td>gdT</td>\n",
       "      <td>76</td>\n",
       "    </tr>\n",
       "    <tr>\n",
       "      <th>34</th>\n",
       "      <td>75</td>\n",
       "      <td>4</td>\n",
       "      <td>TRGV2 gdT</td>\n",
       "      <td>31</td>\n",
       "    </tr>\n",
       "    <tr>\n",
       "      <th>35</th>\n",
       "      <td>74</td>\n",
       "      <td>3</td>\n",
       "      <td>TRGV2 gdT</td>\n",
       "      <td>36</td>\n",
       "    </tr>\n",
       "    <tr>\n",
       "      <th>36</th>\n",
       "      <td>63</td>\n",
       "      <td>3</td>\n",
       "      <td>TRGV5/7 gdT</td>\n",
       "      <td>58</td>\n",
       "    </tr>\n",
       "    <tr>\n",
       "      <th>37</th>\n",
       "      <td>50</td>\n",
       "      <td>1</td>\n",
       "      <td>TRDV2/TRGV9 gdT</td>\n",
       "      <td>50</td>\n",
       "    </tr>\n",
       "    <tr>\n",
       "      <th>38</th>\n",
       "      <td>25</td>\n",
       "      <td>1</td>\n",
       "      <td>gdT</td>\n",
       "      <td>25</td>\n",
       "    </tr>\n",
       "  </tbody>\n",
       "</table>\n",
       "</div>"
      ],
      "text/plain": [
       "       annotation                             \n",
       "            count unique              top freq\n",
       "leiden                                        \n",
       "0             197      4      TRGV5/7 gdT  185\n",
       "1             163      4        TRGV4 gdT   96\n",
       "2             156      5        TRGV2 gdT   73\n",
       "3             153      5        TRGV2 gdT  104\n",
       "4             149      4        TRGV4 gdT  111\n",
       "5             145      3        TRGV2 gdT   73\n",
       "6             141      4              gdT  130\n",
       "7             141      3        TRGV4 gdT   83\n",
       "8             135      2              gdT  133\n",
       "9             129      4              gdT  125\n",
       "10            122      3              gdT  119\n",
       "11            122      3        TRGV2 gdT   72\n",
       "12            121      2              gdT  119\n",
       "13            121      4        TRGV4 gdT   61\n",
       "14            119      2      TRGV5/7 gdT  117\n",
       "15            117      3        TRGV2 gdT   65\n",
       "16            116      4      TRGV5/7 gdT  112\n",
       "17            111      4        TRGV4 gdT   79\n",
       "18            109      4              gdT   97\n",
       "19            103      3              gdT   92\n",
       "20            101      4              gdT   93\n",
       "21            101      2              gdT   98\n",
       "22             98      2              gdT   97\n",
       "23             97      3        TRGV2 gdT   80\n",
       "24             96      3  TRDV2/TRGV9 gdT   89\n",
       "25             88      2              gdT   86\n",
       "26             86      3              gdT   84\n",
       "27             86      5              gdT   46\n",
       "28             85      3              gdT   81\n",
       "29             84      2              gdT   83\n",
       "30             83      2              gdT   80\n",
       "31             82      1              gdT   82\n",
       "32             81      4              gdT   74\n",
       "33             76      1              gdT   76\n",
       "34             75      4        TRGV2 gdT   31\n",
       "35             74      3        TRGV2 gdT   36\n",
       "36             63      3      TRGV5/7 gdT   58\n",
       "37             50      1  TRDV2/TRGV9 gdT   50\n",
       "38             25      1              gdT   25"
      ]
     },
     "execution_count": 272,
     "metadata": {},
     "output_type": "execute_result"
    }
   ],
   "source": [
    "adata.obs[['annotation','leiden']].groupby('leiden').describe()"
   ]
  },
  {
   "cell_type": "code",
   "execution_count": 261,
   "metadata": {},
   "outputs": [
    {
     "name": "stdout",
     "output_type": "stream",
     "text": [
      "{'empty': '#fff', 'V5/7': '#1a759f', 'V4': '#168aad', 'V2/9': '#34a0a4'}\n"
     ]
    },
    {
     "data": {
      "application/vnd.plotly.v1+json": {
       "config": {
        "plotlyServerURL": "https://plot.ly"
       },
       "data": [
        {
         "hoverinfo": "text",
         "hovertext": [
          "connect 12",
          "connect 10",
          "connect 11",
          "connect Empty",
          "connect Empty",
          "connect 20",
          "connect 16",
          "connect 3_V4",
          "connect 19"
         ],
         "legendgroup": "empty",
         "marker": {
          "color": "#fff",
          "size": 30,
          "symbol": "circle-dot"
         },
         "mode": "markers+text",
         "name": "empty",
         "text": [
          "20",
          "16",
          "19",
          "18",
          "17",
          "12",
          "10",
          "9",
          "11"
         ],
         "textfont": {
          "color": "#000000",
          "family": "sans serif",
          "size": 15
         },
         "type": "scatter",
         "x": [
          10.5,
          5.75,
          15.25,
          17.625,
          18.8125,
          27.5,
          22.75,
          25.125,
          32.25
         ],
         "y": [
          5,
          3.5,
          3.5,
          2,
          0.5,
          3.5,
          2,
          0.5,
          2
         ]
        },
        {
         "hoverinfo": "text",
         "hovertext": [
          "connect Empty",
          "connect Empty",
          "connect Empty",
          "connect Empty"
         ],
         "legendgroup": "V5/7",
         "marker": {
          "color": "#1a759f",
          "size": 30,
          "symbol": "circle-dot"
         },
         "mode": "markers+text",
         "name": "V5/7",
         "text": [
          "9_V5/7",
          "0_V5/7",
          "5_V5/7",
          "6_V5/7"
         ],
         "textfont": {
          "color": "#000000",
          "family": "sans serif",
          "size": 15
         },
         "type": "scatter",
         "x": [
          16.4375,
          16.4375,
          19.40625,
          19.40625
         ],
         "y": [
          0.5,
          -1,
          -1,
          -2.5
         ]
        },
        {
         "hoverinfo": "text",
         "hovertext": [
          "connect Empty",
          "connect 2_V4",
          "connect 9",
          "connect 4_V4",
          "connect 3_V4",
          "connect 1_V4",
          "connect 7_V4",
          "connect Empty",
          "connect Empty",
          "connect 4_V4"
         ],
         "legendgroup": "V4",
         "marker": {
          "color": "#168aad",
          "size": 30,
          "symbol": "circle-dot"
         },
         "mode": "markers+text",
         "name": "V4",
         "text": [
          "2_V4",
          "1_V4",
          "3_V4",
          "7_V4",
          "4_V4",
          "2_V4",
          "4_V4",
          "0_V4",
          "1_V4",
          "3_V4"
         ],
         "textfont": {
          "color": "#000000",
          "family": "sans serif",
          "size": 15
         },
         "type": "scatter",
         "x": [
          3.375,
          3.375,
          8.125,
          8.125,
          18.21875,
          20.375,
          23.9375,
          26.3125,
          26.3125,
          29.875
         ],
         "y": [
          2,
          0.5,
          2,
          0.5,
          -1,
          0.5,
          -1,
          -1,
          -2.5,
          0.5
         ]
        },
        {
         "hoverinfo": "text",
         "hovertext": [
          "connect 6_V2/9",
          "connect 5_V2/9",
          "connect 8_V2/9",
          "connect 10_V2/9"
         ],
         "legendgroup": "V2/9",
         "marker": {
          "color": "#34a0a4",
          "size": 30,
          "symbol": "circle-dot"
         },
         "mode": "markers+text",
         "name": "V2/9",
         "text": [
          "8_V2/9",
          "10_V2/9",
          "6_V2/9",
          "5_V2/9"
         ],
         "textfont": {
          "color": "#000000",
          "family": "sans serif",
          "size": 15
         },
         "type": "scatter",
         "x": [
          12.875,
          12.875,
          34.625,
          34.625
         ],
         "y": [
          2,
          0.5,
          0.5,
          -1
         ]
        }
       ],
       "layout": {
        "height": 500,
        "shapes": [
         {
          "layer": "below",
          "line": {
           "color": "#333",
           "width": 4
          },
          "type": "line",
          "x0": 10.5,
          "x1": 10.5,
          "y0": 5,
          "y1": 5
         },
         {
          "layer": "below",
          "line": {
           "color": "#333",
           "width": 4
          },
          "type": "line",
          "x0": 10.5,
          "x1": 5.75,
          "y0": 5,
          "y1": 3.5
         },
         {
          "layer": "below",
          "line": {
           "color": "#333",
           "width": 4
          },
          "type": "line",
          "x0": 5.75,
          "x1": 3.375,
          "y0": 3.5,
          "y1": 2
         },
         {
          "layer": "below",
          "line": {
           "color": "#333",
           "width": 4
          },
          "type": "line",
          "x0": 3.375,
          "x1": 3.375,
          "y0": 2,
          "y1": 0.5
         },
         {
          "layer": "below",
          "line": {
           "color": "#333",
           "width": 4
          },
          "type": "line",
          "x0": 5.75,
          "x1": 8.125,
          "y0": 3.5,
          "y1": 2
         },
         {
          "layer": "below",
          "line": {
           "color": "#333",
           "width": 4
          },
          "type": "line",
          "x0": 8.125,
          "x1": 8.125,
          "y0": 2,
          "y1": 0.5
         },
         {
          "layer": "below",
          "line": {
           "color": "#333",
           "width": 4
          },
          "type": "line",
          "x0": 10.5,
          "x1": 15.25,
          "y0": 5,
          "y1": 3.5
         },
         {
          "layer": "below",
          "line": {
           "color": "#333",
           "width": 4
          },
          "type": "line",
          "x0": 15.25,
          "x1": 12.875,
          "y0": 3.5,
          "y1": 2
         },
         {
          "layer": "below",
          "line": {
           "color": "#333",
           "width": 4
          },
          "type": "line",
          "x0": 12.875,
          "x1": 12.875,
          "y0": 2,
          "y1": 0.5
         },
         {
          "layer": "below",
          "line": {
           "color": "#333",
           "width": 4
          },
          "type": "line",
          "x0": 15.25,
          "x1": 17.625,
          "y0": 3.5,
          "y1": 2
         },
         {
          "layer": "below",
          "line": {
           "color": "#333",
           "width": 4
          },
          "type": "line",
          "x0": 17.625,
          "x1": 16.4375,
          "y0": 2,
          "y1": 0.5
         },
         {
          "layer": "below",
          "line": {
           "color": "#333",
           "width": 4
          },
          "type": "line",
          "x0": 16.4375,
          "x1": 16.4375,
          "y0": 0.5,
          "y1": -1
         },
         {
          "layer": "below",
          "line": {
           "color": "#333",
           "width": 4
          },
          "type": "line",
          "x0": 17.625,
          "x1": 18.8125,
          "y0": 2,
          "y1": 0.5
         },
         {
          "layer": "below",
          "line": {
           "color": "#333",
           "width": 4
          },
          "type": "line",
          "x0": 18.8125,
          "x1": 18.21875,
          "y0": 0.5,
          "y1": -1
         },
         {
          "layer": "below",
          "line": {
           "color": "#333",
           "width": 4
          },
          "type": "line",
          "x0": 18.8125,
          "x1": 19.40625,
          "y0": 0.5,
          "y1": -1
         },
         {
          "layer": "below",
          "line": {
           "color": "#333",
           "width": 4
          },
          "type": "line",
          "x0": 19.40625,
          "x1": 19.40625,
          "y0": -1,
          "y1": -2.5
         },
         {
          "layer": "below",
          "line": {
           "color": "#333",
           "width": 4
          },
          "type": "line",
          "x0": 27.5,
          "x1": 27.5,
          "y0": 3.5,
          "y1": 3.5
         },
         {
          "layer": "below",
          "line": {
           "color": "#333",
           "width": 4
          },
          "type": "line",
          "x0": 27.5,
          "x1": 22.75,
          "y0": 3.5,
          "y1": 2
         },
         {
          "layer": "below",
          "line": {
           "color": "#333",
           "width": 4
          },
          "type": "line",
          "x0": 22.75,
          "x1": 20.375,
          "y0": 2,
          "y1": 0.5
         },
         {
          "layer": "below",
          "line": {
           "color": "#333",
           "width": 4
          },
          "type": "line",
          "x0": 22.75,
          "x1": 25.125,
          "y0": 2,
          "y1": 0.5
         },
         {
          "layer": "below",
          "line": {
           "color": "#333",
           "width": 4
          },
          "type": "line",
          "x0": 25.125,
          "x1": 23.9375,
          "y0": 0.5,
          "y1": -1
         },
         {
          "layer": "below",
          "line": {
           "color": "#333",
           "width": 4
          },
          "type": "line",
          "x0": 25.125,
          "x1": 26.3125,
          "y0": 0.5,
          "y1": -1
         },
         {
          "layer": "below",
          "line": {
           "color": "#333",
           "width": 4
          },
          "type": "line",
          "x0": 26.3125,
          "x1": 26.3125,
          "y0": -1,
          "y1": -2.5
         },
         {
          "layer": "below",
          "line": {
           "color": "#333",
           "width": 4
          },
          "type": "line",
          "x0": 27.5,
          "x1": 32.25,
          "y0": 3.5,
          "y1": 2
         },
         {
          "layer": "below",
          "line": {
           "color": "#333",
           "width": 4
          },
          "type": "line",
          "x0": 32.25,
          "x1": 29.875,
          "y0": 2,
          "y1": 0.5
         },
         {
          "layer": "below",
          "line": {
           "color": "#333",
           "width": 4
          },
          "type": "line",
          "x0": 32.25,
          "x1": 34.625,
          "y0": 2,
          "y1": 0.5
         },
         {
          "layer": "below",
          "line": {
           "color": "#333",
           "width": 4
          },
          "type": "line",
          "x0": 34.625,
          "x1": 34.625,
          "y0": 0.5,
          "y1": -1
         },
         {
          "layer": "below",
          "line": {
           "color": "#6175c1",
           "width": 4
          },
          "type": "line",
          "x0": 10.5,
          "x1": 27.5,
          "y0": 5,
          "y1": 3.5
         },
         {
          "layer": "below",
          "line": {
           "color": "#6175c1",
           "width": 4
          },
          "type": "line",
          "x0": 15.25,
          "x1": 32.25,
          "y0": 3.5,
          "y1": 2
         },
         {
          "layer": "below",
          "line": {
           "color": "#6175c1",
           "width": 4
          },
          "type": "line",
          "x0": 18.21875,
          "x1": 29.875,
          "y0": -1,
          "y1": 0.5
         },
         {
          "layer": "below",
          "line": {
           "color": "#6175c1",
           "width": 4
          },
          "type": "line",
          "x0": 12.875,
          "x1": 34.625,
          "y0": 2,
          "y1": 0.5
         },
         {
          "layer": "below",
          "line": {
           "color": "#6175c1",
           "width": 4
          },
          "type": "line",
          "x0": 12.875,
          "x1": 34.625,
          "y0": 0.5,
          "y1": -1
         },
         {
          "layer": "below",
          "line": {
           "color": "#6175c1",
           "width": 4
          },
          "type": "line",
          "x0": 5.75,
          "x1": 22.75,
          "y0": 3.5,
          "y1": 2
         },
         {
          "layer": "below",
          "line": {
           "color": "#6175c1",
           "width": 4
          },
          "type": "line",
          "x0": 8.125,
          "x1": 25.125,
          "y0": 2,
          "y1": 0.5
         },
         {
          "layer": "below",
          "line": {
           "color": "#6175c1",
           "width": 4
          },
          "type": "line",
          "x0": 8.125,
          "x1": 23.9375,
          "y0": 0.5,
          "y1": -1
         },
         {
          "layer": "below",
          "line": {
           "color": "#6175c1",
           "width": 4
          },
          "type": "line",
          "x0": 3.375,
          "x1": 20.375,
          "y0": 0.5,
          "y1": 0.5
         }
        ],
        "template": {
         "data": {
          "bar": [
           {
            "error_x": {
             "color": "#2a3f5f"
            },
            "error_y": {
             "color": "#2a3f5f"
            },
            "marker": {
             "line": {
              "color": "#E5ECF6",
              "width": 0.5
             },
             "pattern": {
              "fillmode": "overlay",
              "size": 10,
              "solidity": 0.2
             }
            },
            "type": "bar"
           }
          ],
          "barpolar": [
           {
            "marker": {
             "line": {
              "color": "#E5ECF6",
              "width": 0.5
             },
             "pattern": {
              "fillmode": "overlay",
              "size": 10,
              "solidity": 0.2
             }
            },
            "type": "barpolar"
           }
          ],
          "carpet": [
           {
            "aaxis": {
             "endlinecolor": "#2a3f5f",
             "gridcolor": "white",
             "linecolor": "white",
             "minorgridcolor": "white",
             "startlinecolor": "#2a3f5f"
            },
            "baxis": {
             "endlinecolor": "#2a3f5f",
             "gridcolor": "white",
             "linecolor": "white",
             "minorgridcolor": "white",
             "startlinecolor": "#2a3f5f"
            },
            "type": "carpet"
           }
          ],
          "choropleth": [
           {
            "colorbar": {
             "outlinewidth": 0,
             "ticks": ""
            },
            "type": "choropleth"
           }
          ],
          "contour": [
           {
            "colorbar": {
             "outlinewidth": 0,
             "ticks": ""
            },
            "colorscale": [
             [
              0,
              "#0d0887"
             ],
             [
              0.1111111111111111,
              "#46039f"
             ],
             [
              0.2222222222222222,
              "#7201a8"
             ],
             [
              0.3333333333333333,
              "#9c179e"
             ],
             [
              0.4444444444444444,
              "#bd3786"
             ],
             [
              0.5555555555555556,
              "#d8576b"
             ],
             [
              0.6666666666666666,
              "#ed7953"
             ],
             [
              0.7777777777777778,
              "#fb9f3a"
             ],
             [
              0.8888888888888888,
              "#fdca26"
             ],
             [
              1,
              "#f0f921"
             ]
            ],
            "type": "contour"
           }
          ],
          "contourcarpet": [
           {
            "colorbar": {
             "outlinewidth": 0,
             "ticks": ""
            },
            "type": "contourcarpet"
           }
          ],
          "heatmap": [
           {
            "colorbar": {
             "outlinewidth": 0,
             "ticks": ""
            },
            "colorscale": [
             [
              0,
              "#0d0887"
             ],
             [
              0.1111111111111111,
              "#46039f"
             ],
             [
              0.2222222222222222,
              "#7201a8"
             ],
             [
              0.3333333333333333,
              "#9c179e"
             ],
             [
              0.4444444444444444,
              "#bd3786"
             ],
             [
              0.5555555555555556,
              "#d8576b"
             ],
             [
              0.6666666666666666,
              "#ed7953"
             ],
             [
              0.7777777777777778,
              "#fb9f3a"
             ],
             [
              0.8888888888888888,
              "#fdca26"
             ],
             [
              1,
              "#f0f921"
             ]
            ],
            "type": "heatmap"
           }
          ],
          "heatmapgl": [
           {
            "colorbar": {
             "outlinewidth": 0,
             "ticks": ""
            },
            "colorscale": [
             [
              0,
              "#0d0887"
             ],
             [
              0.1111111111111111,
              "#46039f"
             ],
             [
              0.2222222222222222,
              "#7201a8"
             ],
             [
              0.3333333333333333,
              "#9c179e"
             ],
             [
              0.4444444444444444,
              "#bd3786"
             ],
             [
              0.5555555555555556,
              "#d8576b"
             ],
             [
              0.6666666666666666,
              "#ed7953"
             ],
             [
              0.7777777777777778,
              "#fb9f3a"
             ],
             [
              0.8888888888888888,
              "#fdca26"
             ],
             [
              1,
              "#f0f921"
             ]
            ],
            "type": "heatmapgl"
           }
          ],
          "histogram": [
           {
            "marker": {
             "pattern": {
              "fillmode": "overlay",
              "size": 10,
              "solidity": 0.2
             }
            },
            "type": "histogram"
           }
          ],
          "histogram2d": [
           {
            "colorbar": {
             "outlinewidth": 0,
             "ticks": ""
            },
            "colorscale": [
             [
              0,
              "#0d0887"
             ],
             [
              0.1111111111111111,
              "#46039f"
             ],
             [
              0.2222222222222222,
              "#7201a8"
             ],
             [
              0.3333333333333333,
              "#9c179e"
             ],
             [
              0.4444444444444444,
              "#bd3786"
             ],
             [
              0.5555555555555556,
              "#d8576b"
             ],
             [
              0.6666666666666666,
              "#ed7953"
             ],
             [
              0.7777777777777778,
              "#fb9f3a"
             ],
             [
              0.8888888888888888,
              "#fdca26"
             ],
             [
              1,
              "#f0f921"
             ]
            ],
            "type": "histogram2d"
           }
          ],
          "histogram2dcontour": [
           {
            "colorbar": {
             "outlinewidth": 0,
             "ticks": ""
            },
            "colorscale": [
             [
              0,
              "#0d0887"
             ],
             [
              0.1111111111111111,
              "#46039f"
             ],
             [
              0.2222222222222222,
              "#7201a8"
             ],
             [
              0.3333333333333333,
              "#9c179e"
             ],
             [
              0.4444444444444444,
              "#bd3786"
             ],
             [
              0.5555555555555556,
              "#d8576b"
             ],
             [
              0.6666666666666666,
              "#ed7953"
             ],
             [
              0.7777777777777778,
              "#fb9f3a"
             ],
             [
              0.8888888888888888,
              "#fdca26"
             ],
             [
              1,
              "#f0f921"
             ]
            ],
            "type": "histogram2dcontour"
           }
          ],
          "mesh3d": [
           {
            "colorbar": {
             "outlinewidth": 0,
             "ticks": ""
            },
            "type": "mesh3d"
           }
          ],
          "parcoords": [
           {
            "line": {
             "colorbar": {
              "outlinewidth": 0,
              "ticks": ""
             }
            },
            "type": "parcoords"
           }
          ],
          "pie": [
           {
            "automargin": true,
            "type": "pie"
           }
          ],
          "scatter": [
           {
            "fillpattern": {
             "fillmode": "overlay",
             "size": 10,
             "solidity": 0.2
            },
            "type": "scatter"
           }
          ],
          "scatter3d": [
           {
            "line": {
             "colorbar": {
              "outlinewidth": 0,
              "ticks": ""
             }
            },
            "marker": {
             "colorbar": {
              "outlinewidth": 0,
              "ticks": ""
             }
            },
            "type": "scatter3d"
           }
          ],
          "scattercarpet": [
           {
            "marker": {
             "colorbar": {
              "outlinewidth": 0,
              "ticks": ""
             }
            },
            "type": "scattercarpet"
           }
          ],
          "scattergeo": [
           {
            "marker": {
             "colorbar": {
              "outlinewidth": 0,
              "ticks": ""
             }
            },
            "type": "scattergeo"
           }
          ],
          "scattergl": [
           {
            "marker": {
             "colorbar": {
              "outlinewidth": 0,
              "ticks": ""
             }
            },
            "type": "scattergl"
           }
          ],
          "scattermapbox": [
           {
            "marker": {
             "colorbar": {
              "outlinewidth": 0,
              "ticks": ""
             }
            },
            "type": "scattermapbox"
           }
          ],
          "scatterpolar": [
           {
            "marker": {
             "colorbar": {
              "outlinewidth": 0,
              "ticks": ""
             }
            },
            "type": "scatterpolar"
           }
          ],
          "scatterpolargl": [
           {
            "marker": {
             "colorbar": {
              "outlinewidth": 0,
              "ticks": ""
             }
            },
            "type": "scatterpolargl"
           }
          ],
          "scatterternary": [
           {
            "marker": {
             "colorbar": {
              "outlinewidth": 0,
              "ticks": ""
             }
            },
            "type": "scatterternary"
           }
          ],
          "surface": [
           {
            "colorbar": {
             "outlinewidth": 0,
             "ticks": ""
            },
            "colorscale": [
             [
              0,
              "#0d0887"
             ],
             [
              0.1111111111111111,
              "#46039f"
             ],
             [
              0.2222222222222222,
              "#7201a8"
             ],
             [
              0.3333333333333333,
              "#9c179e"
             ],
             [
              0.4444444444444444,
              "#bd3786"
             ],
             [
              0.5555555555555556,
              "#d8576b"
             ],
             [
              0.6666666666666666,
              "#ed7953"
             ],
             [
              0.7777777777777778,
              "#fb9f3a"
             ],
             [
              0.8888888888888888,
              "#fdca26"
             ],
             [
              1,
              "#f0f921"
             ]
            ],
            "type": "surface"
           }
          ],
          "table": [
           {
            "cells": {
             "fill": {
              "color": "#EBF0F8"
             },
             "line": {
              "color": "white"
             }
            },
            "header": {
             "fill": {
              "color": "#C8D4E3"
             },
             "line": {
              "color": "white"
             }
            },
            "type": "table"
           }
          ]
         },
         "layout": {
          "annotationdefaults": {
           "arrowcolor": "#2a3f5f",
           "arrowhead": 0,
           "arrowwidth": 1
          },
          "autotypenumbers": "strict",
          "coloraxis": {
           "colorbar": {
            "outlinewidth": 0,
            "ticks": ""
           }
          },
          "colorscale": {
           "diverging": [
            [
             0,
             "#8e0152"
            ],
            [
             0.1,
             "#c51b7d"
            ],
            [
             0.2,
             "#de77ae"
            ],
            [
             0.3,
             "#f1b6da"
            ],
            [
             0.4,
             "#fde0ef"
            ],
            [
             0.5,
             "#f7f7f7"
            ],
            [
             0.6,
             "#e6f5d0"
            ],
            [
             0.7,
             "#b8e186"
            ],
            [
             0.8,
             "#7fbc41"
            ],
            [
             0.9,
             "#4d9221"
            ],
            [
             1,
             "#276419"
            ]
           ],
           "sequential": [
            [
             0,
             "#0d0887"
            ],
            [
             0.1111111111111111,
             "#46039f"
            ],
            [
             0.2222222222222222,
             "#7201a8"
            ],
            [
             0.3333333333333333,
             "#9c179e"
            ],
            [
             0.4444444444444444,
             "#bd3786"
            ],
            [
             0.5555555555555556,
             "#d8576b"
            ],
            [
             0.6666666666666666,
             "#ed7953"
            ],
            [
             0.7777777777777778,
             "#fb9f3a"
            ],
            [
             0.8888888888888888,
             "#fdca26"
            ],
            [
             1,
             "#f0f921"
            ]
           ],
           "sequentialminus": [
            [
             0,
             "#0d0887"
            ],
            [
             0.1111111111111111,
             "#46039f"
            ],
            [
             0.2222222222222222,
             "#7201a8"
            ],
            [
             0.3333333333333333,
             "#9c179e"
            ],
            [
             0.4444444444444444,
             "#bd3786"
            ],
            [
             0.5555555555555556,
             "#d8576b"
            ],
            [
             0.6666666666666666,
             "#ed7953"
            ],
            [
             0.7777777777777778,
             "#fb9f3a"
            ],
            [
             0.8888888888888888,
             "#fdca26"
            ],
            [
             1,
             "#f0f921"
            ]
           ]
          },
          "colorway": [
           "#636efa",
           "#EF553B",
           "#00cc96",
           "#ab63fa",
           "#FFA15A",
           "#19d3f3",
           "#FF6692",
           "#B6E880",
           "#FF97FF",
           "#FECB52"
          ],
          "font": {
           "color": "#2a3f5f"
          },
          "geo": {
           "bgcolor": "white",
           "lakecolor": "white",
           "landcolor": "#E5ECF6",
           "showlakes": true,
           "showland": true,
           "subunitcolor": "white"
          },
          "hoverlabel": {
           "align": "left"
          },
          "hovermode": "closest",
          "mapbox": {
           "style": "light"
          },
          "paper_bgcolor": "white",
          "plot_bgcolor": "#E5ECF6",
          "polar": {
           "angularaxis": {
            "gridcolor": "white",
            "linecolor": "white",
            "ticks": ""
           },
           "bgcolor": "#E5ECF6",
           "radialaxis": {
            "gridcolor": "white",
            "linecolor": "white",
            "ticks": ""
           }
          },
          "scene": {
           "xaxis": {
            "backgroundcolor": "#E5ECF6",
            "gridcolor": "white",
            "gridwidth": 2,
            "linecolor": "white",
            "showbackground": true,
            "ticks": "",
            "zerolinecolor": "white"
           },
           "yaxis": {
            "backgroundcolor": "#E5ECF6",
            "gridcolor": "white",
            "gridwidth": 2,
            "linecolor": "white",
            "showbackground": true,
            "ticks": "",
            "zerolinecolor": "white"
           },
           "zaxis": {
            "backgroundcolor": "#E5ECF6",
            "gridcolor": "white",
            "gridwidth": 2,
            "linecolor": "white",
            "showbackground": true,
            "ticks": "",
            "zerolinecolor": "white"
           }
          },
          "shapedefaults": {
           "line": {
            "color": "#2a3f5f"
           }
          },
          "ternary": {
           "aaxis": {
            "gridcolor": "white",
            "linecolor": "white",
            "ticks": ""
           },
           "baxis": {
            "gridcolor": "white",
            "linecolor": "white",
            "ticks": ""
           },
           "bgcolor": "#E5ECF6",
           "caxis": {
            "gridcolor": "white",
            "linecolor": "white",
            "ticks": ""
           }
          },
          "title": {
           "x": 0.05
          },
          "xaxis": {
           "automargin": true,
           "gridcolor": "white",
           "linecolor": "white",
           "ticks": "",
           "title": {
            "standoff": 15
           },
           "zerolinecolor": "white",
           "zerolinewidth": 2
          },
          "yaxis": {
           "automargin": true,
           "gridcolor": "white",
           "linecolor": "white",
           "ticks": "",
           "title": {
            "standoff": 15
           },
           "zerolinecolor": "white",
           "zerolinewidth": 2
          }
         }
        },
        "width": 1000,
        "xaxis": {
         "showgrid": false,
         "showline": false,
         "showticklabels": false,
         "zeroline": false
        },
        "yaxis": {
         "showgrid": false,
         "showline": false,
         "showticklabels": false,
         "zeroline": false
        }
       }
      }
     },
     "metadata": {},
     "output_type": "display_data"
    }
   ],
   "source": [
    ".show_fig()"
   ]
  },
  {
   "cell_type": "code",
   "execution_count": 260,
   "metadata": {},
   "outputs": [],
   "source": [
    "class show_graph:\n",
    "    def __init__(self,ans,root1,root2,color=None):\n",
    "        self.ans = ans;\n",
    "        \n",
    "        self.pos_x=[];\n",
    "        self.pos_y=[];\n",
    "        self.edges=[];\n",
    "        self.label_hash = dict(); \n",
    "        self.labels = [];\n",
    "        self.hover_text =[];\n",
    "        self.values=[];\n",
    "        self.cnt = 0;\n",
    "        self.celltypes1=[]\n",
    "        self.celltypes2=[]\n",
    "\n",
    "        self.color = color;\n",
    "        self.pos_x_2=[];\n",
    "        self.pos_y_2=[];\n",
    "        self.edges_2=[];\n",
    "        self.label_hash_2 = dict(); \n",
    "        self.labels_2 = []\n",
    "        self.hover_text_2 = []\n",
    "        self.values_2=[];\n",
    "        self.cnt2 = 0;\n",
    "        self.fig = go.Figure();\n",
    "        \n",
    "        self.root1 = root1;\n",
    "        self.root2 = root2;\n",
    "        self.height = 5;\n",
    "        self.run_graph();\n",
    "        \n",
    "    def cal_tree_pos(self,now,l,r,h,f,pos_x,pos_y,edges,label_hash,labels,hover_text,values,celltype):\n",
    "        mid = (l+r)/2\n",
    "        pos_x.append(mid);\n",
    "        pos_y.append(h)\n",
    "        label_hash[now.name]=self.cnt;\n",
    "        num_son = len(now.son);\n",
    "        labels.append(\"{}\".format(now.name));\n",
    "        if(len(now.name.split('_')) >1):\n",
    "            celltype.append(now.name.split('_')[1])\n",
    "        else:\n",
    "            celltype.append('empty');\n",
    "        \n",
    "        edges.append((f.name,now.name));\n",
    "        hover_text.append(\"connect Empty\");\n",
    "        values.append(np.linalg.norm(now.value));\n",
    "        if(num_son == 0):\n",
    "            return;\n",
    "        length = (r-l)/num_son;\n",
    "        for i in range(num_son):\n",
    "            self.cnt+=1;\n",
    "            self.cal_tree_pos(now.son[i],l+i*length,l+(i+1)*length,h-1.5,now,pos_x,pos_y,edges,label_hash,labels,hover_text,values,celltype);\n",
    "            \n",
    "    def cal_tree_pos2(self,now,l,r,h,f,pos_x,pos_y,edges,label_hash,labels,hover_text,values,celltype):\n",
    "        mid = (l+r)/2\n",
    "        pos_x.append(mid);\n",
    "        pos_y.append(h)\n",
    "        label_hash[now.name]=self.cnt2;\n",
    "        num_son = len(now.son);\n",
    "        labels.append(\"{}\".format(now.name));\n",
    "        if(len(now.name.split('_')) >1):\n",
    "            celltype.append(now.name.split('_')[1])\n",
    "        else:\n",
    "            celltype.append('empty');\n",
    "        edges.append((f.name,now.name));\n",
    "        hover_text.append(\"connect Empty\");\n",
    "        values.append(np.linalg.norm(now.value))\n",
    "        if(num_son == 0):\n",
    "            return;\n",
    "\n",
    "        length = (r-l)/num_son;\n",
    "        for i in range(num_son):\n",
    "            self.cnt2+=1;\n",
    "            self.cal_tree_pos2(now.son[i],l+i*length,l+(i+1)*length,h-1.5,now,pos_x,pos_y,edges,label_hash,labels,hover_text,values,celltype);\n",
    "            \n",
    "    def run_graph(self):\n",
    "        \n",
    "        self.cal_tree_pos(self.root1,1,20,self.height,self.root1, self.pos_x,self.pos_y,self.edges,self.label_hash,self.labels,self.hover_text,self.values,self.celltypes1);\n",
    "        \n",
    "        self.cal_tree_pos2(self.root2,18,37,self.height-1.5,self.root2, self.pos_x_2,self.pos_y_2,self.edges_2,self.label_hash_2,self.labels_2,self.hover_text_2,self.values_2,self.celltypes2);\n",
    "        unique_categories = list(set(self.celltypes1+self.celltypes2))\n",
    "        if(self.color == None):\n",
    "            category_colors = {cat: f'#{random.randint(0, 0xFFFFFF):06x}' for cat in unique_categories}\n",
    "        elif(len(self.color)>= len(unique_categories)):\n",
    "            category_colors = {cat: col  for cat,col in zip(unique_categories,self.color[:len(unique_categories)])}\n",
    "        else:\n",
    "            category_colors = {cat: f'#{random.randint(0, 0xFFFFFF):06x}' for cat in unique_categories}\n",
    "            \n",
    "        category_colors['empty'] = '#fff'        \n",
    "        print(category_colors)\n",
    "        \n",
    "        for i in self.edges:\n",
    "            p1,p2 = i;\n",
    "            index1=self.label_hash[p1];\n",
    "            index2=self.label_hash[p2];\n",
    "\n",
    "            x1=self.pos_x[index1];y1=self.pos_y[index1];\n",
    "            x2=self.pos_x[index2];y2=self.pos_y[index2];\n",
    "            self.fig.add_shape(\n",
    "                type=\"line\",\n",
    "                x0=x1, y0=y1, x1=x2, y1=y2,\n",
    "                line=dict(\n",
    "                    color=\"#333\",\n",
    "                    width=4,\n",
    "                ),\n",
    "                layer=\"below\"\n",
    "            )\n",
    "\n",
    "        for i in self.edges_2:\n",
    "            p1,p2 = i;\n",
    "\n",
    "            index1=self.label_hash_2[p1];\n",
    "            index2=self.label_hash_2[p2];\n",
    "\n",
    "            x1=self.pos_x_2[index1];y1=self.pos_y_2[index1];\n",
    "            x2=self.pos_x_2[index2];y2=self.pos_y_2[index2];\n",
    "            self.fig.add_shape(\n",
    "                type=\"line\",\n",
    "                x0=x1, y0=y1, x1=x2, y1=y2,\n",
    "                line=dict(\n",
    "                    color=\"#333\",\n",
    "                    width=4,\n",
    "                ),\n",
    "                layer=\"below\"\n",
    "            )\n",
    "            \n",
    "        for i in self.ans:\n",
    "            p1,p2 = i;\n",
    "            index1=self.label_hash[p1];\n",
    "            index2=self.label_hash_2[p2];\n",
    "            x1=self.pos_x[index1];y1=self.pos_y[index1];\n",
    "            x2=self.pos_x_2[index2];y2=self.pos_y_2[index2];\n",
    "            self.fig.add_shape(\n",
    "                type=\"line\",\n",
    "                x0=x1, y0=y1, x1=x2, y1=y2,\n",
    "                line=dict(\n",
    "                    color=\"#6175c1\",\n",
    "                    width=4,\n",
    "                ),\n",
    "                layer=\"below\"\n",
    "            )\n",
    "            self.hover_text[index1]=\"connect {}\".format(p2);\n",
    "            self.hover_text_2[index2]=\"connect {}\".format(p1);\n",
    "          \n",
    "        for cell_type in unique_categories:\n",
    "            indexs = [i for i in range(len(self.celltypes1)) if self.celltypes1[i] == cell_type]\n",
    "            x_cell1 = [self.pos_x[i] for i in indexs]\n",
    "            y_cell1 = [self.pos_y[i] for i in indexs]\n",
    "            label1 = [self.hover_text[i] for i in indexs]\n",
    "            name1 = [self.labels[i] for i in indexs]\n",
    "            indexs = [i for i in range(len(self.celltypes2)) if self.celltypes2[i] == cell_type]\n",
    "            x_cell2 = [self.pos_x_2[i] for i in indexs]\n",
    "            y_cell2 = [self.pos_y_2[i] for i in indexs]\n",
    "            label2 = [self.hover_text_2[i] for i in indexs]\n",
    "            name2 = [self.labels_2[i] for i in indexs]\n",
    "            x_cell = x_cell1+x_cell2\n",
    "            y_cell = y_cell1 + y_cell2\n",
    "            label = label1+label2\n",
    "            # Add scatter trace for the current cell type\n",
    "            self.fig.add_trace(go.Scatter(\n",
    "                x=x_cell,\n",
    "                y=y_cell,\n",
    "                mode='markers+text',\n",
    "                name=cell_type,\n",
    "                legendgroup=cell_type,\n",
    "                marker=dict(\n",
    "                    symbol='circle-dot',\n",
    "                    size=30,\n",
    "                    color=category_colors[cell_type]  # Set color based on cell type\n",
    "                ),\n",
    "                hoverinfo='text',\n",
    "                hovertext=label,\n",
    "                text = name1+name2,\n",
    "                textfont=dict(family='sans serif',\n",
    "                size=15,\n",
    "                color='#000000'\n",
    "                    ),\n",
    "            ))\n",
    "        # pos_x_final = self.pos_x+self.pos_x_2\n",
    "        # pos_y_final = self.pos_y+self.pos_y_2\n",
    "        # values_final = self.values + self.values_2\n",
    "        # labels_final = self.labels + self.labels_2\n",
    "        # self.fig.add_trace(go.Scatter(x=pos_x_final,\n",
    "        #                 y=pos_y_final,\n",
    "        #                 mode='markers+text',\n",
    "        #                 marker=dict(symbol='circle-dot',\n",
    "        #                                 size=50,\n",
    "        #                                 color=values_final,\n",
    "        #                                 colorscale=\"peach\",\n",
    "        #                                 ),\n",
    "        #                 text=labels_final,\n",
    "        #                 hoverinfo='text',\n",
    "        #                 hovertext=self.hover_text+self.hover_text_2,\n",
    "        #                 textfont=dict(family='sans serif',\n",
    "        #                 size=18,\n",
    "        #                 color='#000000'\n",
    "        #                     ),\n",
    "        #                 opacity=0.8,\n",
    "        #                 ))\n",
    "        \n",
    "        self.fig.update_layout(  \n",
    "            xaxis= dict(showline=False, # hide axis line, grid, ticklabels and  title\n",
    "                    zeroline=False,\n",
    "                    showgrid=False,\n",
    "                    showticklabels=False,\n",
    "                    ),\n",
    "            yaxis=dict(showline=False, # hide axis line, grid, ticklabels and  title\n",
    "                    zeroline=False,\n",
    "                    showgrid=False,\n",
    "                    showticklabels=False,\n",
    "                    ),\n",
    "        width=1000, height=500)\n",
    "        \n",
    "        # self.fig.show()\n",
    "    def show_fig(self):\n",
    "        self.fig.show();\n",
    "    def save_fig(self,path):\n",
    "        self.fig.write_image(path)\n"
   ]
  },
  {
   "cell_type": "code",
   "execution_count": 213,
   "metadata": {},
   "outputs": [],
   "source": [
    "class show_graph:\n",
    "    def __init__(self,ans,root1,root2):\n",
    "        self.ans = ans;\n",
    "        \n",
    "        self.pos_x=[];\n",
    "        self.pos_y=[];\n",
    "        self.edges=[];\n",
    "        self.label_hash = dict(); \n",
    "        self.labels = [];\n",
    "        self.hover_text =[];\n",
    "        self.values=[];\n",
    "        self.cnt = 0;\n",
    "        \n",
    "        self.pos_x_2=[];\n",
    "        self.pos_y_2=[];\n",
    "        self.edges_2=[];\n",
    "        self.label_hash_2 = dict(); \n",
    "        self.labels_2 = []\n",
    "        self.hover_text_2 = []\n",
    "        self.values_2=[];\n",
    "        self.cnt2 = 0;\n",
    "        self.fig = go.Figure();\n",
    "        \n",
    "        self.root1 = root1;\n",
    "        self.root2 = root2;\n",
    "        self.height = 5;\n",
    "        self.run_graph();\n",
    "        \n",
    "    def cal_tree_pos(self,now,l,r,h,f,pos_x,pos_y,edges,label_hash,labels,hover_text,values):\n",
    "        mid = (l+r)/2\n",
    "        pos_x.append(mid);\n",
    "        pos_y.append(h)\n",
    "        label_hash[now.name]=self.cnt;\n",
    "        num_son = len(now.son);\n",
    "        labels.append(\"{}\".format(now.name));\n",
    "        edges.append((f.name,now.name));\n",
    "        hover_text.append(\"connect Empty\");\n",
    "        values.append(np.linalg.norm(now.value));\n",
    "        if(num_son == 0):\n",
    "            return;\n",
    "        length = (r-l)/num_son;\n",
    "        for i in range(num_son):\n",
    "            self.cnt+=1;\n",
    "            self.cal_tree_pos(now.son[i],l+i*length,l+(i+1)*length,h-1.5,now,pos_x,pos_y,edges,label_hash,labels,hover_text,values);\n",
    "            \n",
    "    def cal_tree_pos2(self,now,l,r,h,f,pos_x,pos_y,edges,label_hash,labels,hover_text,values):\n",
    "        mid = (l+r)/2\n",
    "        pos_x.append(mid);\n",
    "        pos_y.append(h)\n",
    "        label_hash[now.name]=self.cnt2;\n",
    "        num_son = len(now.son);\n",
    "        labels.append(\"{}\".format(now.name));\n",
    "        edges.append((f.name,now.name));\n",
    "        hover_text.append(\"connect Empty\");\n",
    "        values.append(np.linalg.norm(now.value))\n",
    "        if(num_son == 0):\n",
    "            return;\n",
    "\n",
    "        length = (r-l)/num_son;\n",
    "        for i in range(num_son):\n",
    "            self.cnt2+=1;\n",
    "            self.cal_tree_pos2(now.son[i],l+i*length,l+(i+1)*length,h-1.5,now,pos_x,pos_y,edges,label_hash,labels,hover_text,values);\n",
    "            \n",
    "    def run_graph(self):\n",
    "        \n",
    "        self.cal_tree_pos(self.root1,1,20,self.height,self.root1, self.pos_x,self.pos_y,self.edges,self.label_hash,self.labels,self.hover_text,self.values);\n",
    "        \n",
    "        self.cal_tree_pos2(self.root2,25,39,self.height-1.5,self.root2, self.pos_x_2,self.pos_y_2,self.edges_2,self.label_hash_2,self.labels_2,self.hover_text_2,self.values_2);\n",
    "        \n",
    "        for i in self.edges:\n",
    "            p1,p2 = i;\n",
    "            index1=self.label_hash[p1];\n",
    "            index2=self.label_hash[p2];\n",
    "\n",
    "            x1=self.pos_x[index1];y1=self.pos_y[index1];\n",
    "            x2=self.pos_x[index2];y2=self.pos_y[index2];\n",
    "            self.fig.add_shape(\n",
    "                type=\"line\",\n",
    "                x0=x1, y0=y1, x1=x2, y1=y2,\n",
    "                line=dict(\n",
    "                    color=\"#333\",\n",
    "                    width=4,\n",
    "                ),\n",
    "                layer=\"below\"\n",
    "            )\n",
    "\n",
    "        for i in self.edges_2:\n",
    "            p1,p2 = i;\n",
    "\n",
    "            index1=self.label_hash_2[p1];\n",
    "            index2=self.label_hash_2[p2];\n",
    "\n",
    "            x1=self.pos_x_2[index1];y1=self.pos_y_2[index1];\n",
    "            x2=self.pos_x_2[index2];y2=self.pos_y_2[index2];\n",
    "            self.fig.add_shape(\n",
    "                type=\"line\",\n",
    "                x0=x1, y0=y1, x1=x2, y1=y2,\n",
    "                line=dict(\n",
    "                    color=\"#333\",\n",
    "                    width=4,\n",
    "                ),\n",
    "                layer=\"below\"\n",
    "            )\n",
    "            \n",
    "        for i in self.ans:\n",
    "            p1,p2 = i;\n",
    "            index1=self.label_hash[p1];\n",
    "            index2=self.label_hash_2[p2];\n",
    "            x1=self.pos_x[index1];y1=self.pos_y[index1];\n",
    "            x2=self.pos_x_2[index2];y2=self.pos_y_2[index2];\n",
    "            self.fig.add_shape(\n",
    "                type=\"line\",\n",
    "                x0=x1, y0=y1, x1=x2, y1=y2,\n",
    "                line=dict(\n",
    "                    color=\"#6175c1\",\n",
    "                    width=4,\n",
    "                ),\n",
    "                layer=\"below\"\n",
    "            )\n",
    "            self.hover_text[index1]=\"connect {}\".format(p2);\n",
    "            self.hover_text_2[index2]=\"connect {}\".format(p1);\n",
    "            \n",
    "        pos_x_final = self.pos_x+self.pos_x_2\n",
    "        pos_y_final = self.pos_y+self.pos_y_2\n",
    "        values_final = self.values + self.values_2\n",
    "        labels_final = self.labels + self.labels_2\n",
    "        self.fig.add_trace(go.Scatter(x=pos_x_final,\n",
    "                        y=pos_y_final,\n",
    "                        mode='markers+text',\n",
    "                        marker=dict(symbol='circle-dot',\n",
    "                                        size=44,\n",
    "                                        # color='#5B91D9',  \n",
    "                                        color=values_final,\n",
    "                                        colorscale=\"peach\",\n",
    "                                        # line=dict(color='rgb(50,50,50)', width=1)\n",
    "                                        ),\n",
    "                        text=labels_final,\n",
    "                        hoverinfo='text',\n",
    "                        hovertext=self.hover_text+self.hover_text_2,\n",
    "                        #textposition=\"top center\",\n",
    "                        textfont=dict(family='sans serif',\n",
    "                        size=18,\n",
    "                        color='#000000'\n",
    "                            ),\n",
    "                        opacity=0.8,\n",
    "                        ))\n",
    "\n",
    "        self.fig.update_layout(  \n",
    "            xaxis= dict(showline=False, # hide axis line, grid, ticklabels and  title\n",
    "                    zeroline=False,\n",
    "                    showgrid=False,\n",
    "                    showticklabels=False,\n",
    "                    ),\n",
    "            yaxis=dict(showline=False, # hide axis line, grid, ticklabels and  title\n",
    "                    zeroline=False,\n",
    "                    showgrid=False,\n",
    "                    showticklabels=False,\n",
    "                    ),\n",
    "        width=1000, height=500)\n",
    "        \n",
    "        # self.fig.show()\n",
    "    def show_fig(self):\n",
    "        self.fig.show();\n",
    "    def save_fig(self,path):\n",
    "        self.fig.write_image(path)\n"
   ]
  },
  {
   "cell_type": "code",
   "execution_count": null,
   "metadata": {},
   "outputs": [],
   "source": []
  },
  {
   "cell_type": "code",
   "execution_count": null,
   "metadata": {},
   "outputs": [],
   "source": []
  }
 ],
 "metadata": {
  "kernelspec": {
   "display_name": "base",
   "language": "python",
   "name": "python3"
  },
  "language_info": {
   "codemirror_mode": {
    "name": "ipython",
    "version": 3
   },
   "file_extension": ".py",
   "mimetype": "text/x-python",
   "name": "python",
   "nbconvert_exporter": "python",
   "pygments_lexer": "ipython3",
   "version": "3.8.16"
  }
 },
 "nbformat": 4,
 "nbformat_minor": 2
}
