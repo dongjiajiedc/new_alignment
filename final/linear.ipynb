{
 "cells": [
  {
   "cell_type": "code",
   "execution_count": 1,
   "metadata": {},
   "outputs": [],
   "source": [
    "from hyper import *\n",
    "from alignment import *\n",
    "from datasets.preprecossing import *\n",
    "from core import *\n",
    "from datasets.loading import *\n",
    "from datasets.hc_dataset import *\n",
    "from datasets.balance_dataset import *\n",
    "from utils.linkage import *\n",
    "from model.balancehc import balancehc\n",
    "\n",
    "from utils.poincare import *\n",
    "import scib\n",
    "import shutil\n",
    "\n"
   ]
  },
  {
   "cell_type": "code",
   "execution_count": 54,
   "metadata": {},
   "outputs": [],
   "source": [
    "meta_list1=['Th17',\n",
    " 'Th17',\n",
    " 'CD4Tn',\n",
    " 'CD4Tn',\n",
    " 'CD4Tn',\n",
    " 'Th17',\n",
    " 'Th17',\n",
    " 'CD4Tn',\n",
    " 'Th17',\n",
    " 'Th17',\n",
    " 'Th17',\n",
    " 'CD4Tn',\n",
    " 'CD4Tn',\n",
    " 'Th17',\n",
    " 'CD4Tn',\n",
    " 'CD4Tn',\n",
    " 'CD4Tn',\n",
    " 'CD4Tn',\n",
    " 'CD4Tn']\n",
    "meta_list2=['Th17', 'Th17', 'Th17', 'Th17', 'Th17', 'Th17', 'Th17', 'Th17']\n",
    "\n",
    "\n"
   ]
  },
  {
   "cell_type": "code",
   "execution_count": 55,
   "metadata": {},
   "outputs": [
    {
     "name": "stderr",
     "output_type": "stream",
     "text": [
      "/Users/dongjiajie/Desktop/alignment/fyp/hyperalignment/final/alignment.py:799: DeprecationWarning:\n",
      "\n",
      "`np.int` is a deprecated alias for the builtin `int`. To silence this warning, use `int` by itself. Doing this will not modify any behavior and is safe. When replacing `np.int`, you may wish to use e.g. `np.int64` or `np.int32` to specify the precision. If you wish to review your current use, check the release note link for additional information.\n",
      "Deprecated in NumPy 1.20; for more details and guidance: https://numpy.org/devdocs/release/1.20.0-notes.html#deprecations\n",
      "\n",
      "/Users/dongjiajie/Desktop/alignment/fyp/hyperalignment/final/alignment.py:799: DeprecationWarning:\n",
      "\n",
      "`np.int` is a deprecated alias for the builtin `int`. To silence this warning, use `int` by itself. Doing this will not modify any behavior and is safe. When replacing `np.int`, you may wish to use e.g. `np.int64` or `np.int32` to specify the precision. If you wish to review your current use, check the release note link for additional information.\n",
      "Deprecated in NumPy 1.20; for more details and guidance: https://numpy.org/devdocs/release/1.20.0-notes.html#deprecations\n",
      "\n",
      "/Users/dongjiajie/opt/anaconda3/lib/python3.8/site-packages/pulp/pulp.py:1352: UserWarning:\n",
      "\n",
      "Spaces are not permitted in the name. Converted to '_'\n",
      "\n"
     ]
    },
    {
     "name": "stdout",
     "output_type": "stream",
     "text": [
      "Welcome to the CBC MILP Solver \n",
      "Version: 2.10.3 \n",
      "Build Date: Dec 15 2019 \n",
      "\n",
      "command line - /Users/dongjiajie/opt/anaconda3/lib/python3.8/site-packages/pulp/solverdir/cbc/osx/64/cbc /var/folders/bm/69jvgsdj3rxch558kx9yp9y00000gn/T/0c3009ad0f074f9db5a61a22885d4c9a-pulp.mps timeMode elapsed branch printingOptions all solution /var/folders/bm/69jvgsdj3rxch558kx9yp9y00000gn/T/0c3009ad0f074f9db5a61a22885d4c9a-pulp.sol (default strategy 1)\n",
      "At line 2 NAME          MODEL\n",
      "At line 3 ROWS\n",
      "At line 3721 COLUMNS\n",
      "At line 16438 RHS\n",
      "At line 20155 BOUNDS\n",
      "At line 20559 ENDATA\n",
      "Problem MODEL has 3716 rows, 403 columns and 11512 elements\n",
      "Coin0008I MODEL read with 0 errors\n",
      "Option for timeMode changed from cpu to elapsed\n",
      "Continuous objective value is 0.521153 - 0.00 seconds\n",
      "Cgl0004I processed model has 3713 rows, 402 columns (402 integer (402 of which binary)) and 11475 elements\n",
      "Cbc0038I Initial state - 0 integers unsatisfied sum - 0\n",
      "Cbc0038I Solution found of 0.521153\n",
      "Cbc0038I Before mini branch and bound, 402 integers at bound fixed and 0 continuous\n",
      "Cbc0038I Mini branch and bound did not improve solution (0.05 seconds)\n",
      "Cbc0038I After 0.05 seconds - Feasibility pump exiting with objective of 0.521153 - took 0.00 seconds\n",
      "Cbc0012I Integer solution of 0.52115342 found by feasibility pump after 0 iterations and 0 nodes (0.05 seconds)\n",
      "Cbc0001I Search completed - best objective 0.5211534159133584, took 0 iterations and 0 nodes (0.05 seconds)\n",
      "Cbc0035I Maximum depth 0, 0 variables fixed on reduced cost\n",
      "Cuts at root node changed objective from 0.521153 to 0.521153\n",
      "Probing was tried 0 times and created 0 cuts of which 0 were active after adding rounds of cuts (0.000 seconds)\n",
      "Gomory was tried 0 times and created 0 cuts of which 0 were active after adding rounds of cuts (0.000 seconds)\n",
      "Knapsack was tried 0 times and created 0 cuts of which 0 were active after adding rounds of cuts (0.000 seconds)\n",
      "Clique was tried 0 times and created 0 cuts of which 0 were active after adding rounds of cuts (0.000 seconds)\n",
      "MixedIntegerRounding2 was tried 0 times and created 0 cuts of which 0 were active after adding rounds of cuts (0.000 seconds)\n",
      "FlowCover was tried 0 times and created 0 cuts of which 0 were active after adding rounds of cuts (0.000 seconds)\n",
      "TwoMirCuts was tried 0 times and created 0 cuts of which 0 were active after adding rounds of cuts (0.000 seconds)\n",
      "ZeroHalf was tried 0 times and created 0 cuts of which 0 were active after adding rounds of cuts (0.000 seconds)\n",
      "\n",
      "Result - Optimal solution found\n",
      "\n",
      "Objective value:                0.52115342\n",
      "Enumerated nodes:               0\n",
      "Total iterations:               0\n",
      "Time (CPU seconds):             0.03\n",
      "Time (Wallclock seconds):       0.06\n",
      "\n",
      "Option for printingOptions changed from normal to all\n",
      "Total time (CPU seconds):       0.04   (Wallclock seconds):       0.08\n",
      "\n",
      "SOLUTION:\n",
      "\t\tx_0_0 = 1.0\n",
      "\t\tx_0_1 = 0.0\n",
      "\t\tx_0_10 = 0.0\n",
      "\t\tx_0_11 = 0.0\n",
      "\t\tx_0_12 = 0.0\n",
      "\t\tx_0_13 = 0.0\n",
      "\t\tx_0_14 = 0.0\n",
      "\t\tx_0_15 = 0.0\n",
      "\t\tx_0_16 = 0.0\n",
      "\t\tx_0_17 = 0.0\n",
      "\t\tx_0_18 = 0.0\n",
      "\t\tx_0_19 = 0.0\n",
      "\t\tx_0_2 = 0.0\n",
      "\t\tx_0_20 = 0.0\n",
      "\t\tx_0_21 = 0.0\n",
      "\t\tx_0_22 = 0.0\n",
      "\t\tx_0_23 = 0.0\n",
      "\t\tx_0_24 = 0.0\n",
      "\t\tx_0_25 = 0.0\n",
      "\t\tx_0_26 = 0.0\n",
      "\t\tx_0_27 = 0.0\n",
      "\t\tx_0_28 = 0.0\n",
      "\t\tx_0_29 = 0.0\n",
      "\t\tx_0_3 = 0.0\n",
      "\t\tx_0_30 = 0.0\n",
      "\t\tx_0_4 = 0.0\n",
      "\t\tx_0_5 = 0.0\n",
      "\t\tx_0_6 = 0.0\n",
      "\t\tx_0_7 = 0.0\n",
      "\t\tx_0_8 = 0.0\n",
      "\t\tx_0_9 = 0.0\n",
      "\t\tx_10_0 = 0.0\n",
      "\t\tx_10_1 = 0.0\n",
      "\t\tx_10_10 = 0.0\n",
      "\t\tx_10_11 = 0.0\n",
      "\t\tx_10_12 = 0.0\n",
      "\t\tx_10_13 = 0.0\n",
      "\t\tx_10_14 = 0.0\n",
      "\t\tx_10_15 = 0.0\n",
      "\t\tx_10_16 = 0.0\n",
      "\t\tx_10_17 = 0.0\n",
      "\t\tx_10_18 = 0.0\n",
      "\t\tx_10_19 = 0.0\n",
      "\t\tx_10_2 = 0.0\n",
      "\t\tx_10_20 = 0.0\n",
      "\t\tx_10_21 = 0.0\n",
      "\t\tx_10_22 = 0.0\n",
      "\t\tx_10_23 = 0.0\n",
      "\t\tx_10_24 = 0.0\n",
      "\t\tx_10_25 = 0.0\n",
      "\t\tx_10_26 = 1.0\n",
      "\t\tx_10_27 = 0.0\n",
      "\t\tx_10_28 = 0.0\n",
      "\t\tx_10_29 = 0.0\n",
      "\t\tx_10_3 = 0.0\n",
      "\t\tx_10_30 = 0.0\n",
      "\t\tx_10_4 = 0.0\n",
      "\t\tx_10_5 = 0.0\n",
      "\t\tx_10_6 = 0.0\n",
      "\t\tx_10_7 = 0.0\n",
      "\t\tx_10_8 = 0.0\n",
      "\t\tx_10_9 = 0.0\n",
      "\t\tx_11_0 = 0.0\n",
      "\t\tx_11_1 = 0.0\n",
      "\t\tx_11_10 = 0.0\n",
      "\t\tx_11_11 = 0.0\n",
      "\t\tx_11_12 = 0.0\n",
      "\t\tx_11_13 = 0.0\n",
      "\t\tx_11_14 = 0.0\n",
      "\t\tx_11_15 = 0.0\n",
      "\t\tx_11_16 = 0.0\n",
      "\t\tx_11_17 = 0.0\n",
      "\t\tx_11_18 = 0.0\n",
      "\t\tx_11_19 = 0.0\n",
      "\t\tx_11_2 = 0.0\n",
      "\t\tx_11_20 = 0.0\n",
      "\t\tx_11_21 = 0.0\n",
      "\t\tx_11_22 = 0.0\n",
      "\t\tx_11_23 = 0.0\n",
      "\t\tx_11_24 = 0.0\n",
      "\t\tx_11_25 = 0.0\n",
      "\t\tx_11_26 = 0.0\n",
      "\t\tx_11_27 = 0.0\n",
      "\t\tx_11_28 = 0.0\n",
      "\t\tx_11_29 = 1.0\n",
      "\t\tx_11_3 = 0.0\n",
      "\t\tx_11_30 = 0.0\n",
      "\t\tx_11_4 = 0.0\n",
      "\t\tx_11_5 = 0.0\n",
      "\t\tx_11_6 = 0.0\n",
      "\t\tx_11_7 = 0.0\n",
      "\t\tx_11_8 = 0.0\n",
      "\t\tx_11_9 = 0.0\n",
      "\t\tx_12_0 = 0.0\n",
      "\t\tx_12_1 = 0.0\n",
      "\t\tx_12_10 = 0.0\n",
      "\t\tx_12_11 = 0.0\n",
      "\t\tx_12_12 = 0.0\n",
      "\t\tx_12_13 = 0.0\n",
      "\t\tx_12_14 = 0.0\n",
      "\t\tx_12_15 = 0.0\n",
      "\t\tx_12_16 = 0.0\n",
      "\t\tx_12_17 = 0.0\n",
      "\t\tx_12_18 = 0.0\n",
      "\t\tx_12_19 = 0.0\n",
      "\t\tx_12_2 = 0.0\n",
      "\t\tx_12_20 = 0.0\n",
      "\t\tx_12_21 = 0.0\n",
      "\t\tx_12_22 = 0.0\n",
      "\t\tx_12_23 = 0.0\n",
      "\t\tx_12_24 = 0.0\n",
      "\t\tx_12_25 = 0.0\n",
      "\t\tx_12_26 = 0.0\n",
      "\t\tx_12_27 = 0.0\n",
      "\t\tx_12_28 = 0.0\n",
      "\t\tx_12_29 = 1.0\n",
      "\t\tx_12_3 = 0.0\n",
      "\t\tx_12_30 = 0.0\n",
      "\t\tx_12_4 = 0.0\n",
      "\t\tx_12_5 = 0.0\n",
      "\t\tx_12_6 = 0.0\n",
      "\t\tx_12_7 = 0.0\n",
      "\t\tx_12_8 = 0.0\n",
      "\t\tx_12_9 = 0.0\n",
      "\t\tx_1_0 = 0.0\n",
      "\t\tx_1_1 = 0.0\n",
      "\t\tx_1_10 = 0.0\n",
      "\t\tx_1_11 = 0.0\n",
      "\t\tx_1_12 = 0.0\n",
      "\t\tx_1_13 = 0.0\n",
      "\t\tx_1_14 = 0.0\n",
      "\t\tx_1_15 = 0.0\n",
      "\t\tx_1_16 = 0.0\n",
      "\t\tx_1_17 = 0.0\n",
      "\t\tx_1_18 = 0.0\n",
      "\t\tx_1_19 = 0.0\n",
      "\t\tx_1_2 = 0.0\n",
      "\t\tx_1_20 = 0.0\n",
      "\t\tx_1_21 = 1.0\n",
      "\t\tx_1_22 = 0.0\n",
      "\t\tx_1_23 = 0.0\n",
      "\t\tx_1_24 = 0.0\n",
      "\t\tx_1_25 = 0.0\n",
      "\t\tx_1_26 = 0.0\n",
      "\t\tx_1_27 = 0.0\n",
      "\t\tx_1_28 = 0.0\n",
      "\t\tx_1_29 = 0.0\n",
      "\t\tx_1_3 = 0.0\n",
      "\t\tx_1_30 = 0.0\n",
      "\t\tx_1_4 = 0.0\n",
      "\t\tx_1_5 = 0.0\n",
      "\t\tx_1_6 = 0.0\n",
      "\t\tx_1_7 = 0.0\n",
      "\t\tx_1_8 = 0.0\n",
      "\t\tx_1_9 = 0.0\n",
      "\t\tx_2_0 = 0.0\n",
      "\t\tx_2_1 = 0.0\n",
      "\t\tx_2_10 = 0.0\n",
      "\t\tx_2_11 = 0.0\n",
      "\t\tx_2_12 = 0.0\n",
      "\t\tx_2_13 = 0.0\n",
      "\t\tx_2_14 = 0.0\n",
      "\t\tx_2_15 = 0.0\n",
      "\t\tx_2_16 = 0.0\n",
      "\t\tx_2_17 = 0.0\n",
      "\t\tx_2_18 = 0.0\n",
      "\t\tx_2_19 = 0.0\n",
      "\t\tx_2_2 = 0.0\n",
      "\t\tx_2_20 = 0.0\n",
      "\t\tx_2_21 = 0.0\n",
      "\t\tx_2_22 = 0.0\n",
      "\t\tx_2_23 = 1.0\n",
      "\t\tx_2_24 = 0.0\n",
      "\t\tx_2_25 = 0.0\n",
      "\t\tx_2_26 = 0.0\n",
      "\t\tx_2_27 = 0.0\n",
      "\t\tx_2_28 = 0.0\n",
      "\t\tx_2_29 = 0.0\n",
      "\t\tx_2_3 = 0.0\n",
      "\t\tx_2_30 = 0.0\n",
      "\t\tx_2_4 = 0.0\n",
      "\t\tx_2_5 = 0.0\n",
      "\t\tx_2_6 = 0.0\n",
      "\t\tx_2_7 = 0.0\n",
      "\t\tx_2_8 = 0.0\n",
      "\t\tx_2_9 = 0.0\n",
      "\t\tx_3_0 = 0.0\n",
      "\t\tx_3_1 = 0.0\n",
      "\t\tx_3_10 = 0.0\n",
      "\t\tx_3_11 = 0.0\n",
      "\t\tx_3_12 = 0.0\n",
      "\t\tx_3_13 = 0.0\n",
      "\t\tx_3_14 = 0.0\n",
      "\t\tx_3_15 = 0.0\n",
      "\t\tx_3_16 = 0.0\n",
      "\t\tx_3_17 = 0.0\n",
      "\t\tx_3_18 = 0.0\n",
      "\t\tx_3_19 = 0.0\n",
      "\t\tx_3_2 = 0.0\n",
      "\t\tx_3_20 = 0.0\n",
      "\t\tx_3_21 = 0.0\n",
      "\t\tx_3_22 = 1.0\n",
      "\t\tx_3_23 = 0.0\n",
      "\t\tx_3_24 = 0.0\n",
      "\t\tx_3_25 = 0.0\n",
      "\t\tx_3_26 = 0.0\n",
      "\t\tx_3_27 = 0.0\n",
      "\t\tx_3_28 = 0.0\n",
      "\t\tx_3_29 = 0.0\n",
      "\t\tx_3_3 = 0.0\n",
      "\t\tx_3_30 = 0.0\n",
      "\t\tx_3_4 = 0.0\n",
      "\t\tx_3_5 = 0.0\n",
      "\t\tx_3_6 = 0.0\n",
      "\t\tx_3_7 = 0.0\n",
      "\t\tx_3_8 = 0.0\n",
      "\t\tx_3_9 = 0.0\n",
      "\t\tx_4_0 = 0.0\n",
      "\t\tx_4_1 = 0.0\n",
      "\t\tx_4_10 = 0.0\n",
      "\t\tx_4_11 = 0.0\n",
      "\t\tx_4_12 = 0.0\n",
      "\t\tx_4_13 = 0.0\n",
      "\t\tx_4_14 = 0.0\n",
      "\t\tx_4_15 = 0.0\n",
      "\t\tx_4_16 = 0.0\n",
      "\t\tx_4_17 = 0.0\n",
      "\t\tx_4_18 = 0.0\n",
      "\t\tx_4_19 = 0.0\n",
      "\t\tx_4_2 = 0.0\n",
      "\t\tx_4_20 = 0.0\n",
      "\t\tx_4_21 = 0.0\n",
      "\t\tx_4_22 = 1.0\n",
      "\t\tx_4_23 = 0.0\n",
      "\t\tx_4_24 = 0.0\n",
      "\t\tx_4_25 = 0.0\n",
      "\t\tx_4_26 = 0.0\n",
      "\t\tx_4_27 = 0.0\n",
      "\t\tx_4_28 = 0.0\n",
      "\t\tx_4_29 = 0.0\n",
      "\t\tx_4_3 = 0.0\n",
      "\t\tx_4_30 = 0.0\n",
      "\t\tx_4_4 = 0.0\n",
      "\t\tx_4_5 = 0.0\n",
      "\t\tx_4_6 = 0.0\n",
      "\t\tx_4_7 = 0.0\n",
      "\t\tx_4_8 = 0.0\n",
      "\t\tx_4_9 = 0.0\n",
      "\t\tx_5_0 = 0.0\n",
      "\t\tx_5_1 = 0.0\n",
      "\t\tx_5_10 = 0.0\n",
      "\t\tx_5_11 = 0.0\n",
      "\t\tx_5_12 = 0.0\n",
      "\t\tx_5_13 = 0.0\n",
      "\t\tx_5_14 = 0.0\n",
      "\t\tx_5_15 = 0.0\n",
      "\t\tx_5_16 = 0.0\n",
      "\t\tx_5_17 = 0.0\n",
      "\t\tx_5_18 = 0.0\n",
      "\t\tx_5_19 = 0.0\n",
      "\t\tx_5_2 = 0.0\n",
      "\t\tx_5_20 = 0.0\n",
      "\t\tx_5_21 = 0.0\n",
      "\t\tx_5_22 = 0.0\n",
      "\t\tx_5_23 = 0.0\n",
      "\t\tx_5_24 = 0.0\n",
      "\t\tx_5_25 = 1.0\n",
      "\t\tx_5_26 = 0.0\n",
      "\t\tx_5_27 = 0.0\n",
      "\t\tx_5_28 = 0.0\n",
      "\t\tx_5_29 = 0.0\n",
      "\t\tx_5_3 = 0.0\n",
      "\t\tx_5_30 = 0.0\n",
      "\t\tx_5_4 = 0.0\n",
      "\t\tx_5_5 = 0.0\n",
      "\t\tx_5_6 = 0.0\n",
      "\t\tx_5_7 = 0.0\n",
      "\t\tx_5_8 = 0.0\n",
      "\t\tx_5_9 = 0.0\n",
      "\t\tx_6_0 = 0.0\n",
      "\t\tx_6_1 = 0.0\n",
      "\t\tx_6_10 = 0.0\n",
      "\t\tx_6_11 = 0.0\n",
      "\t\tx_6_12 = 0.0\n",
      "\t\tx_6_13 = 0.0\n",
      "\t\tx_6_14 = 0.0\n",
      "\t\tx_6_15 = 0.0\n",
      "\t\tx_6_16 = 0.0\n",
      "\t\tx_6_17 = 0.0\n",
      "\t\tx_6_18 = 0.0\n",
      "\t\tx_6_19 = 0.0\n",
      "\t\tx_6_2 = 0.0\n",
      "\t\tx_6_20 = 0.0\n",
      "\t\tx_6_21 = 0.0\n",
      "\t\tx_6_22 = 0.0\n",
      "\t\tx_6_23 = 0.0\n",
      "\t\tx_6_24 = 0.0\n",
      "\t\tx_6_25 = 0.0\n",
      "\t\tx_6_26 = 0.0\n",
      "\t\tx_6_27 = 0.0\n",
      "\t\tx_6_28 = 0.0\n",
      "\t\tx_6_29 = 1.0\n",
      "\t\tx_6_3 = 0.0\n",
      "\t\tx_6_30 = 0.0\n",
      "\t\tx_6_4 = 0.0\n",
      "\t\tx_6_5 = 0.0\n",
      "\t\tx_6_6 = 0.0\n",
      "\t\tx_6_7 = 0.0\n",
      "\t\tx_6_8 = 0.0\n",
      "\t\tx_6_9 = 0.0\n",
      "\t\tx_7_0 = 0.0\n",
      "\t\tx_7_1 = 0.0\n",
      "\t\tx_7_10 = 0.0\n",
      "\t\tx_7_11 = 0.0\n",
      "\t\tx_7_12 = 0.0\n",
      "\t\tx_7_13 = 0.0\n",
      "\t\tx_7_14 = 0.0\n",
      "\t\tx_7_15 = 0.0\n",
      "\t\tx_7_16 = 0.0\n",
      "\t\tx_7_17 = 0.0\n",
      "\t\tx_7_18 = 0.0\n",
      "\t\tx_7_19 = 0.0\n",
      "\t\tx_7_2 = 0.0\n",
      "\t\tx_7_20 = 0.0\n",
      "\t\tx_7_21 = 0.0\n",
      "\t\tx_7_22 = 0.0\n",
      "\t\tx_7_23 = 0.0\n",
      "\t\tx_7_24 = 0.0\n",
      "\t\tx_7_25 = 0.0\n",
      "\t\tx_7_26 = 0.0\n",
      "\t\tx_7_27 = 1.0\n",
      "\t\tx_7_28 = 0.0\n",
      "\t\tx_7_29 = 0.0\n",
      "\t\tx_7_3 = 0.0\n",
      "\t\tx_7_30 = 0.0\n",
      "\t\tx_7_4 = 0.0\n",
      "\t\tx_7_5 = 0.0\n",
      "\t\tx_7_6 = 0.0\n",
      "\t\tx_7_7 = 0.0\n",
      "\t\tx_7_8 = 0.0\n",
      "\t\tx_7_9 = 0.0\n",
      "\t\tx_8_0 = 0.0\n",
      "\t\tx_8_1 = 0.0\n",
      "\t\tx_8_10 = 0.0\n",
      "\t\tx_8_11 = 0.0\n",
      "\t\tx_8_12 = 0.0\n",
      "\t\tx_8_13 = 0.0\n",
      "\t\tx_8_14 = 0.0\n",
      "\t\tx_8_15 = 0.0\n",
      "\t\tx_8_16 = 0.0\n",
      "\t\tx_8_17 = 0.0\n",
      "\t\tx_8_18 = 0.0\n",
      "\t\tx_8_19 = 0.0\n",
      "\t\tx_8_2 = 0.0\n",
      "\t\tx_8_20 = 0.0\n",
      "\t\tx_8_21 = 0.0\n",
      "\t\tx_8_22 = 0.0\n",
      "\t\tx_8_23 = 0.0\n",
      "\t\tx_8_24 = 0.0\n",
      "\t\tx_8_25 = 0.0\n",
      "\t\tx_8_26 = 0.0\n",
      "\t\tx_8_27 = 0.0\n",
      "\t\tx_8_28 = 1.0\n",
      "\t\tx_8_29 = 0.0\n",
      "\t\tx_8_3 = 0.0\n",
      "\t\tx_8_30 = 0.0\n",
      "\t\tx_8_4 = 0.0\n",
      "\t\tx_8_5 = 0.0\n",
      "\t\tx_8_6 = 0.0\n",
      "\t\tx_8_7 = 0.0\n",
      "\t\tx_8_8 = 0.0\n",
      "\t\tx_8_9 = 0.0\n",
      "\t\tx_9_0 = 0.0\n",
      "\t\tx_9_1 = 0.0\n",
      "\t\tx_9_10 = 0.0\n",
      "\t\tx_9_11 = 0.0\n",
      "\t\tx_9_12 = 0.0\n",
      "\t\tx_9_13 = 0.0\n",
      "\t\tx_9_14 = 0.0\n",
      "\t\tx_9_15 = 0.0\n",
      "\t\tx_9_16 = 0.0\n",
      "\t\tx_9_17 = 0.0\n",
      "\t\tx_9_18 = 0.0\n",
      "\t\tx_9_19 = 0.0\n",
      "\t\tx_9_2 = 0.0\n",
      "\t\tx_9_20 = 0.0\n",
      "\t\tx_9_21 = 0.0\n",
      "\t\tx_9_22 = 0.0\n",
      "\t\tx_9_23 = 0.0\n",
      "\t\tx_9_24 = 0.0\n",
      "\t\tx_9_25 = 1.0\n",
      "\t\tx_9_26 = 0.0\n",
      "\t\tx_9_27 = 0.0\n",
      "\t\tx_9_28 = 0.0\n",
      "\t\tx_9_29 = 0.0\n",
      "\t\tx_9_3 = 0.0\n",
      "\t\tx_9_30 = 0.0\n",
      "\t\tx_9_4 = 0.0\n",
      "\t\tx_9_5 = 0.0\n",
      "\t\tx_9_6 = 0.0\n",
      "\t\tx_9_7 = 0.0\n",
      "\t\tx_9_8 = 0.0\n",
      "\t\tx_9_9 = 0.0\n",
      "\n",
      "\n",
      "OBJECTIVE VALUE: 0.5211534159133322\n",
      "correct alignment rate:1.0\n"
     ]
    }
   ],
   "source": [
    "nodes1 = build_hyper_tree_from_folder('./datas/impute/1/',True)\n",
    "nodes2 = build_hyper_tree_from_folder('./datas/impute/2/',True)\n",
    "nodes_merge1 = [];\n",
    "nodes_merge2 = [];\n",
    "add_meta(nodes1[0],meta_list1,[])\n",
    "add_meta(nodes2[0],meta_list2,[])\n",
    "\n",
    "        \n",
    "\n",
    "rate= run_alignment_linear(nodes2,nodes1);"
   ]
  },
  {
   "cell_type": "code",
   "execution_count": 56,
   "metadata": {},
   "outputs": [
    {
     "data": {
      "text/plain": [
       "[14_36,\n",
       " 2_Th17_5_Th17,\n",
       " 3_Th17_6_Th17,\n",
       " 7_Th17_6_Th17,\n",
       " 11_25,\n",
       " 1_Th17_0_Th17,\n",
       " 6_Th17_9_Th17,\n",
       " 5_Th17_9_Th17,\n",
       " 13_27,\n",
       " 0_Th17_6_Th17,\n",
       " 12_22,\n",
       " 4_Th17_8_Th17,\n",
       " 10_27]"
      ]
     },
     "execution_count": 56,
     "metadata": {},
     "output_type": "execute_result"
    }
   ],
   "source": [
    "rate[1]"
   ]
  },
  {
   "cell_type": "code",
   "execution_count": 57,
   "metadata": {},
   "outputs": [
    {
     "data": {
      "text/plain": [
       "14_36"
      ]
     },
     "execution_count": 57,
     "metadata": {},
     "output_type": "execute_result"
    }
   ],
   "source": [
    "result_node = rate[1]\n",
    "\n",
    "root=find_indegree(rate[1],0)[0]\n",
    "root"
   ]
  },
  {
   "cell_type": "code",
   "execution_count": 58,
   "metadata": {},
   "outputs": [],
   "source": [
    "vis = result_node.copy()\n",
    "nbs = find_indegree(vis,0)\n",
    "vis.remove(nbs[0]);\n",
    "while(len(nbs)!=0):\n",
    "    nod = nbs[0]\n",
    "    nbs.pop(0)\n",
    "    sons = find_indegree(nod.edge,1);\n",
    "    for i in sons:\n",
    "        i.f = nod;\n",
    "    for i in nod.edge:\n",
    "        i.indegree = i.indegree - 1;\n",
    "    rs = find_indegree(vis,0)\n",
    "    \n",
    "    for i in rs:\n",
    "        vis.remove(i)\n",
    "    nbs.extend(rs)\n"
   ]
  },
  {
   "cell_type": "code",
   "execution_count": 59,
   "metadata": {},
   "outputs": [
    {
     "name": "stdout",
     "output_type": "stream",
     "text": [
      "[14_36, 2_Th17_5_Th17, 3_Th17_6_Th17, 7_Th17_6_Th17, 11_25, 1_Th17_0_Th17, 6_Th17_9_Th17, 5_Th17_9_Th17, 13_27, 0_Th17_6_Th17, 12_22, 4_Th17_8_Th17, 10_27]\n",
      "14_36 None\n",
      "2_Th17_5_Th17 10_27\n",
      "3_Th17_6_Th17 10_27\n",
      "7_Th17_6_Th17 3_Th17_6_Th17\n",
      "11_25 14_36\n",
      "1_Th17_0_Th17 11_25\n",
      "6_Th17_9_Th17 11_25\n",
      "5_Th17_9_Th17 6_Th17_9_Th17\n",
      "13_27 14_36\n",
      "0_Th17_6_Th17 13_27\n",
      "12_22 13_27\n",
      "4_Th17_8_Th17 12_22\n",
      "10_27 13_27\n"
     ]
    }
   ],
   "source": [
    "nodes_ = [node(name=str(i),value=0,son=[]) for i in result_node]\n",
    "print(nodes_)\n",
    "for i in result_node:\n",
    "    print(i,i.f)\n",
    "    if(i.f):\n",
    "        index1 = [j for j in nodes_ if(str(j)==str(i))];\n",
    "        index2 = [j for j in nodes_ if(str(j)==str(i.f))];\n",
    "        index2[0].son.append(index1[0]);"
   ]
  },
  {
   "cell_type": "code",
   "execution_count": 60,
   "metadata": {},
   "outputs": [
    {
     "name": "stdout",
     "output_type": "stream",
     "text": [
      "{'22': '#9cb76e', '25': '#73d831', '27': '#6ac841', 'Th17': '#c331a2', '36': '#bb8106', 'empty': '#fff'}\n"
     ]
    },
    {
     "data": {
      "application/vnd.plotly.v1+json": {
       "config": {
        "plotlyServerURL": "https://plot.ly"
       },
       "data": [
        {
         "hoverinfo": "text",
         "hovertext": [
          "12_22"
         ],
         "legendgroup": "22",
         "marker": {
          "color": "#9cb76e",
          "size": 10,
          "symbol": "circle-dot"
         },
         "mode": "markers+text",
         "name": "22",
         "type": "scatter",
         "x": [
          7.75
         ],
         "y": [
          2
         ]
        },
        {
         "hoverinfo": "text",
         "hovertext": [
          "11_25"
         ],
         "legendgroup": "25",
         "marker": {
          "color": "#73d831",
          "size": 10,
          "symbol": "circle-dot"
         },
         "mode": "markers+text",
         "name": "25",
         "type": "scatter",
         "x": [
          3.25
         ],
         "y": [
          3.5
         ]
        },
        {
         "hoverinfo": "text",
         "hovertext": [
          "13_27",
          "10_27"
         ],
         "legendgroup": "27",
         "marker": {
          "color": "#6ac841",
          "size": 10,
          "symbol": "circle-dot"
         },
         "mode": "markers+text",
         "name": "27",
         "type": "scatter",
         "x": [
          7.75,
          9.25
         ],
         "y": [
          3.5,
          2
         ]
        },
        {
         "hoverinfo": "text",
         "hovertext": [
          "1_Th17_0_Th17",
          "6_Th17_9_Th17",
          "5_Th17_9_Th17",
          "0_Th17_6_Th17",
          "4_Th17_8_Th17",
          "2_Th17_5_Th17",
          "3_Th17_6_Th17",
          "7_Th17_6_Th17"
         ],
         "legendgroup": "Th17",
         "marker": {
          "color": "#c331a2",
          "size": 10,
          "symbol": "circle-dot"
         },
         "mode": "markers+text",
         "name": "Th17",
         "type": "scatter",
         "x": [
          2.125,
          4.375,
          4.375,
          6.25,
          7.75,
          8.875,
          9.625,
          9.625
         ],
         "y": [
          2,
          2,
          0.5,
          2,
          0.5,
          0.5,
          0.5,
          -1
         ]
        },
        {
         "hoverinfo": "text",
         "hovertext": [
          "14_36"
         ],
         "legendgroup": "36",
         "marker": {
          "color": "#bb8106",
          "size": 10,
          "symbol": "circle-dot"
         },
         "mode": "markers+text",
         "name": "36",
         "type": "scatter",
         "x": [
          5.5
         ],
         "y": [
          5
         ]
        }
       ],
       "layout": {
        "height": 500,
        "shapes": [
         {
          "layer": "below",
          "line": {
           "color": "#333",
           "width": 2
          },
          "type": "line",
          "x0": 5.5,
          "x1": 5.5,
          "y0": 5,
          "y1": 5
         },
         {
          "layer": "below",
          "line": {
           "color": "#333",
           "width": 2
          },
          "type": "line",
          "x0": 5.5,
          "x1": 3.25,
          "y0": 5,
          "y1": 3.5
         },
         {
          "layer": "below",
          "line": {
           "color": "#333",
           "width": 2
          },
          "type": "line",
          "x0": 3.25,
          "x1": 2.125,
          "y0": 3.5,
          "y1": 2
         },
         {
          "layer": "below",
          "line": {
           "color": "#333",
           "width": 2
          },
          "type": "line",
          "x0": 3.25,
          "x1": 4.375,
          "y0": 3.5,
          "y1": 2
         },
         {
          "layer": "below",
          "line": {
           "color": "#333",
           "width": 2
          },
          "type": "line",
          "x0": 4.375,
          "x1": 4.375,
          "y0": 2,
          "y1": 0.5
         },
         {
          "layer": "below",
          "line": {
           "color": "#333",
           "width": 2
          },
          "type": "line",
          "x0": 5.5,
          "x1": 7.75,
          "y0": 5,
          "y1": 3.5
         },
         {
          "layer": "below",
          "line": {
           "color": "#333",
           "width": 2
          },
          "type": "line",
          "x0": 7.75,
          "x1": 6.25,
          "y0": 3.5,
          "y1": 2
         },
         {
          "layer": "below",
          "line": {
           "color": "#333",
           "width": 2
          },
          "type": "line",
          "x0": 7.75,
          "x1": 7.75,
          "y0": 3.5,
          "y1": 2
         },
         {
          "layer": "below",
          "line": {
           "color": "#333",
           "width": 2
          },
          "type": "line",
          "x0": 7.75,
          "x1": 7.75,
          "y0": 2,
          "y1": 0.5
         },
         {
          "layer": "below",
          "line": {
           "color": "#333",
           "width": 2
          },
          "type": "line",
          "x0": 7.75,
          "x1": 9.25,
          "y0": 3.5,
          "y1": 2
         },
         {
          "layer": "below",
          "line": {
           "color": "#333",
           "width": 2
          },
          "type": "line",
          "x0": 9.25,
          "x1": 8.875,
          "y0": 2,
          "y1": 0.5
         },
         {
          "layer": "below",
          "line": {
           "color": "#333",
           "width": 2
          },
          "type": "line",
          "x0": 9.25,
          "x1": 9.625,
          "y0": 2,
          "y1": 0.5
         },
         {
          "layer": "below",
          "line": {
           "color": "#333",
           "width": 2
          },
          "type": "line",
          "x0": 9.625,
          "x1": 9.625,
          "y0": 0.5,
          "y1": -1
         }
        ],
        "template": {
         "data": {
          "bar": [
           {
            "error_x": {
             "color": "#2a3f5f"
            },
            "error_y": {
             "color": "#2a3f5f"
            },
            "marker": {
             "line": {
              "color": "#E5ECF6",
              "width": 0.5
             },
             "pattern": {
              "fillmode": "overlay",
              "size": 10,
              "solidity": 0.2
             }
            },
            "type": "bar"
           }
          ],
          "barpolar": [
           {
            "marker": {
             "line": {
              "color": "#E5ECF6",
              "width": 0.5
             },
             "pattern": {
              "fillmode": "overlay",
              "size": 10,
              "solidity": 0.2
             }
            },
            "type": "barpolar"
           }
          ],
          "carpet": [
           {
            "aaxis": {
             "endlinecolor": "#2a3f5f",
             "gridcolor": "white",
             "linecolor": "white",
             "minorgridcolor": "white",
             "startlinecolor": "#2a3f5f"
            },
            "baxis": {
             "endlinecolor": "#2a3f5f",
             "gridcolor": "white",
             "linecolor": "white",
             "minorgridcolor": "white",
             "startlinecolor": "#2a3f5f"
            },
            "type": "carpet"
           }
          ],
          "choropleth": [
           {
            "colorbar": {
             "outlinewidth": 0,
             "ticks": ""
            },
            "type": "choropleth"
           }
          ],
          "contour": [
           {
            "colorbar": {
             "outlinewidth": 0,
             "ticks": ""
            },
            "colorscale": [
             [
              0,
              "#0d0887"
             ],
             [
              0.1111111111111111,
              "#46039f"
             ],
             [
              0.2222222222222222,
              "#7201a8"
             ],
             [
              0.3333333333333333,
              "#9c179e"
             ],
             [
              0.4444444444444444,
              "#bd3786"
             ],
             [
              0.5555555555555556,
              "#d8576b"
             ],
             [
              0.6666666666666666,
              "#ed7953"
             ],
             [
              0.7777777777777778,
              "#fb9f3a"
             ],
             [
              0.8888888888888888,
              "#fdca26"
             ],
             [
              1,
              "#f0f921"
             ]
            ],
            "type": "contour"
           }
          ],
          "contourcarpet": [
           {
            "colorbar": {
             "outlinewidth": 0,
             "ticks": ""
            },
            "type": "contourcarpet"
           }
          ],
          "heatmap": [
           {
            "colorbar": {
             "outlinewidth": 0,
             "ticks": ""
            },
            "colorscale": [
             [
              0,
              "#0d0887"
             ],
             [
              0.1111111111111111,
              "#46039f"
             ],
             [
              0.2222222222222222,
              "#7201a8"
             ],
             [
              0.3333333333333333,
              "#9c179e"
             ],
             [
              0.4444444444444444,
              "#bd3786"
             ],
             [
              0.5555555555555556,
              "#d8576b"
             ],
             [
              0.6666666666666666,
              "#ed7953"
             ],
             [
              0.7777777777777778,
              "#fb9f3a"
             ],
             [
              0.8888888888888888,
              "#fdca26"
             ],
             [
              1,
              "#f0f921"
             ]
            ],
            "type": "heatmap"
           }
          ],
          "heatmapgl": [
           {
            "colorbar": {
             "outlinewidth": 0,
             "ticks": ""
            },
            "colorscale": [
             [
              0,
              "#0d0887"
             ],
             [
              0.1111111111111111,
              "#46039f"
             ],
             [
              0.2222222222222222,
              "#7201a8"
             ],
             [
              0.3333333333333333,
              "#9c179e"
             ],
             [
              0.4444444444444444,
              "#bd3786"
             ],
             [
              0.5555555555555556,
              "#d8576b"
             ],
             [
              0.6666666666666666,
              "#ed7953"
             ],
             [
              0.7777777777777778,
              "#fb9f3a"
             ],
             [
              0.8888888888888888,
              "#fdca26"
             ],
             [
              1,
              "#f0f921"
             ]
            ],
            "type": "heatmapgl"
           }
          ],
          "histogram": [
           {
            "marker": {
             "pattern": {
              "fillmode": "overlay",
              "size": 10,
              "solidity": 0.2
             }
            },
            "type": "histogram"
           }
          ],
          "histogram2d": [
           {
            "colorbar": {
             "outlinewidth": 0,
             "ticks": ""
            },
            "colorscale": [
             [
              0,
              "#0d0887"
             ],
             [
              0.1111111111111111,
              "#46039f"
             ],
             [
              0.2222222222222222,
              "#7201a8"
             ],
             [
              0.3333333333333333,
              "#9c179e"
             ],
             [
              0.4444444444444444,
              "#bd3786"
             ],
             [
              0.5555555555555556,
              "#d8576b"
             ],
             [
              0.6666666666666666,
              "#ed7953"
             ],
             [
              0.7777777777777778,
              "#fb9f3a"
             ],
             [
              0.8888888888888888,
              "#fdca26"
             ],
             [
              1,
              "#f0f921"
             ]
            ],
            "type": "histogram2d"
           }
          ],
          "histogram2dcontour": [
           {
            "colorbar": {
             "outlinewidth": 0,
             "ticks": ""
            },
            "colorscale": [
             [
              0,
              "#0d0887"
             ],
             [
              0.1111111111111111,
              "#46039f"
             ],
             [
              0.2222222222222222,
              "#7201a8"
             ],
             [
              0.3333333333333333,
              "#9c179e"
             ],
             [
              0.4444444444444444,
              "#bd3786"
             ],
             [
              0.5555555555555556,
              "#d8576b"
             ],
             [
              0.6666666666666666,
              "#ed7953"
             ],
             [
              0.7777777777777778,
              "#fb9f3a"
             ],
             [
              0.8888888888888888,
              "#fdca26"
             ],
             [
              1,
              "#f0f921"
             ]
            ],
            "type": "histogram2dcontour"
           }
          ],
          "mesh3d": [
           {
            "colorbar": {
             "outlinewidth": 0,
             "ticks": ""
            },
            "type": "mesh3d"
           }
          ],
          "parcoords": [
           {
            "line": {
             "colorbar": {
              "outlinewidth": 0,
              "ticks": ""
             }
            },
            "type": "parcoords"
           }
          ],
          "pie": [
           {
            "automargin": true,
            "type": "pie"
           }
          ],
          "scatter": [
           {
            "fillpattern": {
             "fillmode": "overlay",
             "size": 10,
             "solidity": 0.2
            },
            "type": "scatter"
           }
          ],
          "scatter3d": [
           {
            "line": {
             "colorbar": {
              "outlinewidth": 0,
              "ticks": ""
             }
            },
            "marker": {
             "colorbar": {
              "outlinewidth": 0,
              "ticks": ""
             }
            },
            "type": "scatter3d"
           }
          ],
          "scattercarpet": [
           {
            "marker": {
             "colorbar": {
              "outlinewidth": 0,
              "ticks": ""
             }
            },
            "type": "scattercarpet"
           }
          ],
          "scattergeo": [
           {
            "marker": {
             "colorbar": {
              "outlinewidth": 0,
              "ticks": ""
             }
            },
            "type": "scattergeo"
           }
          ],
          "scattergl": [
           {
            "marker": {
             "colorbar": {
              "outlinewidth": 0,
              "ticks": ""
             }
            },
            "type": "scattergl"
           }
          ],
          "scattermapbox": [
           {
            "marker": {
             "colorbar": {
              "outlinewidth": 0,
              "ticks": ""
             }
            },
            "type": "scattermapbox"
           }
          ],
          "scatterpolar": [
           {
            "marker": {
             "colorbar": {
              "outlinewidth": 0,
              "ticks": ""
             }
            },
            "type": "scatterpolar"
           }
          ],
          "scatterpolargl": [
           {
            "marker": {
             "colorbar": {
              "outlinewidth": 0,
              "ticks": ""
             }
            },
            "type": "scatterpolargl"
           }
          ],
          "scatterternary": [
           {
            "marker": {
             "colorbar": {
              "outlinewidth": 0,
              "ticks": ""
             }
            },
            "type": "scatterternary"
           }
          ],
          "surface": [
           {
            "colorbar": {
             "outlinewidth": 0,
             "ticks": ""
            },
            "colorscale": [
             [
              0,
              "#0d0887"
             ],
             [
              0.1111111111111111,
              "#46039f"
             ],
             [
              0.2222222222222222,
              "#7201a8"
             ],
             [
              0.3333333333333333,
              "#9c179e"
             ],
             [
              0.4444444444444444,
              "#bd3786"
             ],
             [
              0.5555555555555556,
              "#d8576b"
             ],
             [
              0.6666666666666666,
              "#ed7953"
             ],
             [
              0.7777777777777778,
              "#fb9f3a"
             ],
             [
              0.8888888888888888,
              "#fdca26"
             ],
             [
              1,
              "#f0f921"
             ]
            ],
            "type": "surface"
           }
          ],
          "table": [
           {
            "cells": {
             "fill": {
              "color": "#EBF0F8"
             },
             "line": {
              "color": "white"
             }
            },
            "header": {
             "fill": {
              "color": "#C8D4E3"
             },
             "line": {
              "color": "white"
             }
            },
            "type": "table"
           }
          ]
         },
         "layout": {
          "annotationdefaults": {
           "arrowcolor": "#2a3f5f",
           "arrowhead": 0,
           "arrowwidth": 1
          },
          "autotypenumbers": "strict",
          "coloraxis": {
           "colorbar": {
            "outlinewidth": 0,
            "ticks": ""
           }
          },
          "colorscale": {
           "diverging": [
            [
             0,
             "#8e0152"
            ],
            [
             0.1,
             "#c51b7d"
            ],
            [
             0.2,
             "#de77ae"
            ],
            [
             0.3,
             "#f1b6da"
            ],
            [
             0.4,
             "#fde0ef"
            ],
            [
             0.5,
             "#f7f7f7"
            ],
            [
             0.6,
             "#e6f5d0"
            ],
            [
             0.7,
             "#b8e186"
            ],
            [
             0.8,
             "#7fbc41"
            ],
            [
             0.9,
             "#4d9221"
            ],
            [
             1,
             "#276419"
            ]
           ],
           "sequential": [
            [
             0,
             "#0d0887"
            ],
            [
             0.1111111111111111,
             "#46039f"
            ],
            [
             0.2222222222222222,
             "#7201a8"
            ],
            [
             0.3333333333333333,
             "#9c179e"
            ],
            [
             0.4444444444444444,
             "#bd3786"
            ],
            [
             0.5555555555555556,
             "#d8576b"
            ],
            [
             0.6666666666666666,
             "#ed7953"
            ],
            [
             0.7777777777777778,
             "#fb9f3a"
            ],
            [
             0.8888888888888888,
             "#fdca26"
            ],
            [
             1,
             "#f0f921"
            ]
           ],
           "sequentialminus": [
            [
             0,
             "#0d0887"
            ],
            [
             0.1111111111111111,
             "#46039f"
            ],
            [
             0.2222222222222222,
             "#7201a8"
            ],
            [
             0.3333333333333333,
             "#9c179e"
            ],
            [
             0.4444444444444444,
             "#bd3786"
            ],
            [
             0.5555555555555556,
             "#d8576b"
            ],
            [
             0.6666666666666666,
             "#ed7953"
            ],
            [
             0.7777777777777778,
             "#fb9f3a"
            ],
            [
             0.8888888888888888,
             "#fdca26"
            ],
            [
             1,
             "#f0f921"
            ]
           ]
          },
          "colorway": [
           "#636efa",
           "#EF553B",
           "#00cc96",
           "#ab63fa",
           "#FFA15A",
           "#19d3f3",
           "#FF6692",
           "#B6E880",
           "#FF97FF",
           "#FECB52"
          ],
          "font": {
           "color": "#2a3f5f"
          },
          "geo": {
           "bgcolor": "white",
           "lakecolor": "white",
           "landcolor": "#E5ECF6",
           "showlakes": true,
           "showland": true,
           "subunitcolor": "white"
          },
          "hoverlabel": {
           "align": "left"
          },
          "hovermode": "closest",
          "mapbox": {
           "style": "light"
          },
          "paper_bgcolor": "white",
          "plot_bgcolor": "#E5ECF6",
          "polar": {
           "angularaxis": {
            "gridcolor": "white",
            "linecolor": "white",
            "ticks": ""
           },
           "bgcolor": "#E5ECF6",
           "radialaxis": {
            "gridcolor": "white",
            "linecolor": "white",
            "ticks": ""
           }
          },
          "scene": {
           "xaxis": {
            "backgroundcolor": "#E5ECF6",
            "gridcolor": "white",
            "gridwidth": 2,
            "linecolor": "white",
            "showbackground": true,
            "ticks": "",
            "zerolinecolor": "white"
           },
           "yaxis": {
            "backgroundcolor": "#E5ECF6",
            "gridcolor": "white",
            "gridwidth": 2,
            "linecolor": "white",
            "showbackground": true,
            "ticks": "",
            "zerolinecolor": "white"
           },
           "zaxis": {
            "backgroundcolor": "#E5ECF6",
            "gridcolor": "white",
            "gridwidth": 2,
            "linecolor": "white",
            "showbackground": true,
            "ticks": "",
            "zerolinecolor": "white"
           }
          },
          "shapedefaults": {
           "line": {
            "color": "#2a3f5f"
           }
          },
          "ternary": {
           "aaxis": {
            "gridcolor": "white",
            "linecolor": "white",
            "ticks": ""
           },
           "baxis": {
            "gridcolor": "white",
            "linecolor": "white",
            "ticks": ""
           },
           "bgcolor": "#E5ECF6",
           "caxis": {
            "gridcolor": "white",
            "linecolor": "white",
            "ticks": ""
           }
          },
          "title": {
           "x": 0.05
          },
          "xaxis": {
           "automargin": true,
           "gridcolor": "white",
           "linecolor": "white",
           "ticks": "",
           "title": {
            "standoff": 15
           },
           "zerolinecolor": "white",
           "zerolinewidth": 2
          },
          "yaxis": {
           "automargin": true,
           "gridcolor": "white",
           "linecolor": "white",
           "ticks": "",
           "title": {
            "standoff": 15
           },
           "zerolinecolor": "white",
           "zerolinewidth": 2
          }
         }
        },
        "width": 1000,
        "xaxis": {
         "showgrid": false,
         "showline": false,
         "showticklabels": false,
         "zeroline": false
        },
        "yaxis": {
         "showgrid": false,
         "showline": false,
         "showticklabels": false,
         "zeroline": false
        }
       }
      }
     },
     "metadata": {},
     "output_type": "display_data"
    }
   ],
   "source": [
    "show_tree(nodes_[0]).show_fig()"
   ]
  },
  {
   "cell_type": "code",
   "execution_count": 72,
   "metadata": {},
   "outputs": [
    {
     "name": "stderr",
     "output_type": "stream",
     "text": [
      "/Users/dongjiajie/Desktop/alignment/fyp/hyperalignment/final/alignment.py:799: DeprecationWarning:\n",
      "\n",
      "`np.int` is a deprecated alias for the builtin `int`. To silence this warning, use `int` by itself. Doing this will not modify any behavior and is safe. When replacing `np.int`, you may wish to use e.g. `np.int64` or `np.int32` to specify the precision. If you wish to review your current use, check the release note link for additional information.\n",
      "Deprecated in NumPy 1.20; for more details and guidance: https://numpy.org/devdocs/release/1.20.0-notes.html#deprecations\n",
      "\n",
      "/Users/dongjiajie/Desktop/alignment/fyp/hyperalignment/final/alignment.py:799: DeprecationWarning:\n",
      "\n",
      "`np.int` is a deprecated alias for the builtin `int`. To silence this warning, use `int` by itself. Doing this will not modify any behavior and is safe. When replacing `np.int`, you may wish to use e.g. `np.int64` or `np.int32` to specify the precision. If you wish to review your current use, check the release note link for additional information.\n",
      "Deprecated in NumPy 1.20; for more details and guidance: https://numpy.org/devdocs/release/1.20.0-notes.html#deprecations\n",
      "\n"
     ]
    }
   ],
   "source": [
    "nodes1 = build_hyper_tree_from_folder('./datas/impute/1/',True)\n",
    "nodes2 = build_hyper_tree_from_folder('./datas/impute/2/',True)\n",
    "nodes_merge1 = [];\n",
    "nodes_merge2 = [];\n",
    "add_meta(nodes1[0],meta_list1,[])\n",
    "add_meta(nodes2[0],meta_list2,[])"
   ]
  },
  {
   "cell_type": "code",
   "execution_count": 78,
   "metadata": {},
   "outputs": [
    {
     "ename": "KeyError",
     "evalue": "'14'",
     "output_type": "error",
     "traceback": [
      "\u001b[0;31m---------------------------------------------------------------------------\u001b[0m",
      "\u001b[0;31mKeyError\u001b[0m                                  Traceback (most recent call last)",
      "Cell \u001b[0;32mIn[78], line 1\u001b[0m\n\u001b[0;32m----> 1\u001b[0m t\u001b[38;5;241m=\u001b[39m\u001b[43mshow_graph\u001b[49m\u001b[43m(\u001b[49m\u001b[43mrate\u001b[49m\u001b[43m[\u001b[49m\u001b[38;5;241;43m2\u001b[39;49m\u001b[43m]\u001b[49m\u001b[43m,\u001b[49m\u001b[43mnodes1\u001b[49m\u001b[43m[\u001b[49m\u001b[38;5;241;43m0\u001b[39;49m\u001b[43m]\u001b[49m\u001b[43m,\u001b[49m\u001b[43mnodes1\u001b[49m\u001b[43m[\u001b[49m\u001b[38;5;241;43m0\u001b[39;49m\u001b[43m]\u001b[49m\u001b[43m)\u001b[49m;\n\u001b[1;32m      2\u001b[0m t\u001b[38;5;241m.\u001b[39mshow_fig()\n",
      "File \u001b[0;32m~/Desktop/alignment/fyp/hyperalignment/final/alignment.py:465\u001b[0m, in \u001b[0;36mshow_graph.__init__\u001b[0;34m(self, ans, root1, root2)\u001b[0m\n\u001b[1;32m    463\u001b[0m \u001b[38;5;28mself\u001b[39m\u001b[38;5;241m.\u001b[39mroot2 \u001b[38;5;241m=\u001b[39m root2;\n\u001b[1;32m    464\u001b[0m \u001b[38;5;28mself\u001b[39m\u001b[38;5;241m.\u001b[39mheight \u001b[38;5;241m=\u001b[39m \u001b[38;5;241m5\u001b[39m;\n\u001b[0;32m--> 465\u001b[0m \u001b[38;5;28;43mself\u001b[39;49m\u001b[38;5;241;43m.\u001b[39;49m\u001b[43mrun_graph\u001b[49m\u001b[43m(\u001b[49m\u001b[43m)\u001b[49m\n",
      "File \u001b[0;32m~/Desktop/alignment/fyp/hyperalignment/final/alignment.py:545\u001b[0m, in \u001b[0;36mshow_graph.run_graph\u001b[0;34m(self)\u001b[0m\n\u001b[1;32m    543\u001b[0m \u001b[38;5;28;01mfor\u001b[39;00m i \u001b[38;5;129;01min\u001b[39;00m \u001b[38;5;28mself\u001b[39m\u001b[38;5;241m.\u001b[39mans:\n\u001b[1;32m    544\u001b[0m     p1,p2 \u001b[38;5;241m=\u001b[39m i;\n\u001b[0;32m--> 545\u001b[0m     index1\u001b[38;5;241m=\u001b[39m\u001b[38;5;28;43mself\u001b[39;49m\u001b[38;5;241;43m.\u001b[39;49m\u001b[43mlabel_hash\u001b[49m\u001b[43m[\u001b[49m\u001b[43mp1\u001b[49m\u001b[43m]\u001b[49m;\n\u001b[1;32m    546\u001b[0m     index2\u001b[38;5;241m=\u001b[39m\u001b[38;5;28mself\u001b[39m\u001b[38;5;241m.\u001b[39mlabel_hash_2[p2];\n\u001b[1;32m    547\u001b[0m     x1\u001b[38;5;241m=\u001b[39m\u001b[38;5;28mself\u001b[39m\u001b[38;5;241m.\u001b[39mpos_x[index1];y1\u001b[38;5;241m=\u001b[39m\u001b[38;5;28mself\u001b[39m\u001b[38;5;241m.\u001b[39mpos_y[index1];\n",
      "\u001b[0;31mKeyError\u001b[0m: '14'"
     ]
    }
   ],
   "source": [
    "\n",
    "t=show_graph(rate[2],nodes1[0],nodes1[0]);\n",
    "t.show_fig()"
   ]
  },
  {
   "cell_type": "code",
   "execution_count": 77,
   "metadata": {},
   "outputs": [
    {
     "data": {
      "application/vnd.plotly.v1+json": {
       "config": {
        "plotlyServerURL": "https://plot.ly"
       },
       "data": [
        {
         "marker": {
          "size": 3
         },
         "mode": "markers",
         "type": "scatter3d",
         "x": [
          10.5,
          5.75,
          3.375,
          2.1875,
          4.5625,
          3.96875,
          3.96875,
          5.15625,
          4.859375,
          5.453125,
          5.453125,
          8.125,
          6.9375,
          6.34375,
          7.53125,
          7.53125,
          9.3125,
          9.3125,
          15.25,
          12.875,
          11.6875,
          14.0625,
          13.46875,
          14.65625,
          14.65625,
          17.625,
          16.4375,
          18.8125,
          18.21875,
          19.40625,
          19.40625
         ],
         "y": [
          5,
          3.5,
          2,
          0.5,
          0.5,
          -1,
          -2.5,
          -1,
          -2.5,
          -2.5,
          -4,
          2,
          0.5,
          -1,
          -1,
          -2.5,
          0.5,
          -1,
          3.5,
          2,
          0.5,
          0.5,
          -1,
          -1,
          -2.5,
          2,
          0.5,
          0.5,
          -1,
          -1,
          -2.5
         ],
         "z": [
          0,
          0,
          0,
          0,
          0,
          0,
          0,
          0,
          0,
          0,
          0,
          0,
          0,
          0,
          0,
          0,
          0,
          0,
          0,
          0,
          0,
          0,
          0,
          0,
          0,
          0,
          0,
          0,
          0,
          0,
          0
         ]
        },
        {
         "marker": {
          "size": 3
         },
         "mode": "markers",
         "type": "scatter3d",
         "x": [
          14.5,
          9.75,
          7.375,
          12.125,
          12.125,
          19.25,
          16.875,
          21.625,
          20.4375,
          22.8125,
          22.21875,
          23.40625,
          23.40625
         ],
         "y": [
          3.5,
          2,
          0.5,
          0.5,
          -1,
          2,
          0.5,
          0.5,
          -1,
          -1,
          -2.5,
          -2.5,
          -4
         ],
         "z": [
          0.5,
          0.5,
          0.5,
          0.5,
          0.5,
          0.5,
          0.5,
          0.5,
          0.5,
          0.5,
          0.5,
          0.5,
          0.5,
          0.5,
          0.5,
          0.5,
          0.5,
          0.5,
          0.5,
          0.5,
          0.5,
          0.5,
          0.5,
          0.5,
          0.5,
          0.5,
          0.5,
          0.5,
          0.5,
          0.5,
          0.5
         ]
        },
        {
         "line": {
          "color": "#333",
          "width": 4
         },
         "mode": "lines",
         "type": "scatter3d",
         "x": [
          10.5,
          10.5
         ],
         "y": [
          5,
          5
         ],
         "z": [
          0,
          0
         ]
        },
        {
         "line": {
          "color": "#333",
          "width": 4
         },
         "mode": "lines",
         "type": "scatter3d",
         "x": [
          10.5,
          5.75
         ],
         "y": [
          5,
          3.5
         ],
         "z": [
          0,
          0
         ]
        },
        {
         "line": {
          "color": "#333",
          "width": 4
         },
         "mode": "lines",
         "type": "scatter3d",
         "x": [
          5.75,
          3.375
         ],
         "y": [
          3.5,
          2
         ],
         "z": [
          0,
          0
         ]
        },
        {
         "line": {
          "color": "#333",
          "width": 4
         },
         "mode": "lines",
         "type": "scatter3d",
         "x": [
          3.375,
          2.1875
         ],
         "y": [
          2,
          0.5
         ],
         "z": [
          0,
          0
         ]
        },
        {
         "line": {
          "color": "#333",
          "width": 4
         },
         "mode": "lines",
         "type": "scatter3d",
         "x": [
          3.375,
          4.5625
         ],
         "y": [
          2,
          0.5
         ],
         "z": [
          0,
          0
         ]
        },
        {
         "line": {
          "color": "#333",
          "width": 4
         },
         "mode": "lines",
         "type": "scatter3d",
         "x": [
          4.5625,
          3.96875
         ],
         "y": [
          0.5,
          -1
         ],
         "z": [
          0,
          0
         ]
        },
        {
         "line": {
          "color": "#333",
          "width": 4
         },
         "mode": "lines",
         "type": "scatter3d",
         "x": [
          3.96875,
          3.96875
         ],
         "y": [
          -1,
          -2.5
         ],
         "z": [
          0,
          0
         ]
        },
        {
         "line": {
          "color": "#333",
          "width": 4
         },
         "mode": "lines",
         "type": "scatter3d",
         "x": [
          4.5625,
          5.15625
         ],
         "y": [
          0.5,
          -1
         ],
         "z": [
          0,
          0
         ]
        },
        {
         "line": {
          "color": "#333",
          "width": 4
         },
         "mode": "lines",
         "type": "scatter3d",
         "x": [
          5.15625,
          4.859375
         ],
         "y": [
          -1,
          -2.5
         ],
         "z": [
          0,
          0
         ]
        },
        {
         "line": {
          "color": "#333",
          "width": 4
         },
         "mode": "lines",
         "type": "scatter3d",
         "x": [
          5.15625,
          5.453125
         ],
         "y": [
          -1,
          -2.5
         ],
         "z": [
          0,
          0
         ]
        },
        {
         "line": {
          "color": "#333",
          "width": 4
         },
         "mode": "lines",
         "type": "scatter3d",
         "x": [
          5.453125,
          5.453125
         ],
         "y": [
          -2.5,
          -4
         ],
         "z": [
          0,
          0
         ]
        },
        {
         "line": {
          "color": "#333",
          "width": 4
         },
         "mode": "lines",
         "type": "scatter3d",
         "x": [
          5.75,
          8.125
         ],
         "y": [
          3.5,
          2
         ],
         "z": [
          0,
          0
         ]
        },
        {
         "line": {
          "color": "#333",
          "width": 4
         },
         "mode": "lines",
         "type": "scatter3d",
         "x": [
          8.125,
          6.9375
         ],
         "y": [
          2,
          0.5
         ],
         "z": [
          0,
          0
         ]
        },
        {
         "line": {
          "color": "#333",
          "width": 4
         },
         "mode": "lines",
         "type": "scatter3d",
         "x": [
          6.9375,
          6.34375
         ],
         "y": [
          0.5,
          -1
         ],
         "z": [
          0,
          0
         ]
        },
        {
         "line": {
          "color": "#333",
          "width": 4
         },
         "mode": "lines",
         "type": "scatter3d",
         "x": [
          6.9375,
          7.53125
         ],
         "y": [
          0.5,
          -1
         ],
         "z": [
          0,
          0
         ]
        },
        {
         "line": {
          "color": "#333",
          "width": 4
         },
         "mode": "lines",
         "type": "scatter3d",
         "x": [
          7.53125,
          7.53125
         ],
         "y": [
          -1,
          -2.5
         ],
         "z": [
          0,
          0
         ]
        },
        {
         "line": {
          "color": "#333",
          "width": 4
         },
         "mode": "lines",
         "type": "scatter3d",
         "x": [
          8.125,
          9.3125
         ],
         "y": [
          2,
          0.5
         ],
         "z": [
          0,
          0
         ]
        },
        {
         "line": {
          "color": "#333",
          "width": 4
         },
         "mode": "lines",
         "type": "scatter3d",
         "x": [
          9.3125,
          9.3125
         ],
         "y": [
          0.5,
          -1
         ],
         "z": [
          0,
          0
         ]
        },
        {
         "line": {
          "color": "#333",
          "width": 4
         },
         "mode": "lines",
         "type": "scatter3d",
         "x": [
          10.5,
          15.25
         ],
         "y": [
          5,
          3.5
         ],
         "z": [
          0,
          0
         ]
        },
        {
         "line": {
          "color": "#333",
          "width": 4
         },
         "mode": "lines",
         "type": "scatter3d",
         "x": [
          15.25,
          12.875
         ],
         "y": [
          3.5,
          2
         ],
         "z": [
          0,
          0
         ]
        },
        {
         "line": {
          "color": "#333",
          "width": 4
         },
         "mode": "lines",
         "type": "scatter3d",
         "x": [
          12.875,
          11.6875
         ],
         "y": [
          2,
          0.5
         ],
         "z": [
          0,
          0
         ]
        },
        {
         "line": {
          "color": "#333",
          "width": 4
         },
         "mode": "lines",
         "type": "scatter3d",
         "x": [
          12.875,
          14.0625
         ],
         "y": [
          2,
          0.5
         ],
         "z": [
          0,
          0
         ]
        },
        {
         "line": {
          "color": "#333",
          "width": 4
         },
         "mode": "lines",
         "type": "scatter3d",
         "x": [
          14.0625,
          13.46875
         ],
         "y": [
          0.5,
          -1
         ],
         "z": [
          0,
          0
         ]
        },
        {
         "line": {
          "color": "#333",
          "width": 4
         },
         "mode": "lines",
         "type": "scatter3d",
         "x": [
          14.0625,
          14.65625
         ],
         "y": [
          0.5,
          -1
         ],
         "z": [
          0,
          0
         ]
        },
        {
         "line": {
          "color": "#333",
          "width": 4
         },
         "mode": "lines",
         "type": "scatter3d",
         "x": [
          14.65625,
          14.65625
         ],
         "y": [
          -1,
          -2.5
         ],
         "z": [
          0,
          0
         ]
        },
        {
         "line": {
          "color": "#333",
          "width": 4
         },
         "mode": "lines",
         "type": "scatter3d",
         "x": [
          15.25,
          17.625
         ],
         "y": [
          3.5,
          2
         ],
         "z": [
          0,
          0
         ]
        },
        {
         "line": {
          "color": "#333",
          "width": 4
         },
         "mode": "lines",
         "type": "scatter3d",
         "x": [
          17.625,
          16.4375
         ],
         "y": [
          2,
          0.5
         ],
         "z": [
          0,
          0
         ]
        },
        {
         "line": {
          "color": "#333",
          "width": 4
         },
         "mode": "lines",
         "type": "scatter3d",
         "x": [
          17.625,
          18.8125
         ],
         "y": [
          2,
          0.5
         ],
         "z": [
          0,
          0
         ]
        },
        {
         "line": {
          "color": "#333",
          "width": 4
         },
         "mode": "lines",
         "type": "scatter3d",
         "x": [
          18.8125,
          18.21875
         ],
         "y": [
          0.5,
          -1
         ],
         "z": [
          0,
          0
         ]
        },
        {
         "line": {
          "color": "#333",
          "width": 4
         },
         "mode": "lines",
         "type": "scatter3d",
         "x": [
          18.8125,
          19.40625
         ],
         "y": [
          0.5,
          -1
         ],
         "z": [
          0,
          0
         ]
        },
        {
         "line": {
          "color": "#333",
          "width": 4
         },
         "mode": "lines",
         "type": "scatter3d",
         "x": [
          19.40625,
          19.40625
         ],
         "y": [
          -1,
          -2.5
         ],
         "z": [
          0,
          0
         ]
        },
        {
         "line": {
          "color": "#acd",
          "width": 4
         },
         "mode": "lines",
         "type": "scatter3d",
         "x": [
          14.5,
          14.5
         ],
         "y": [
          3.5,
          3.5
         ],
         "z": [
          0.5,
          0.5
         ]
        },
        {
         "line": {
          "color": "#345681",
          "width": 4
         },
         "mode": "lines",
         "type": "scatter3d",
         "x": [
          15.25,
          14.5
         ],
         "y": [
          3.5,
          3.5
         ],
         "z": [
          0,
          0.5
         ]
        },
        {
         "line": {
          "color": "#345681",
          "width": 4
         },
         "mode": "lines",
         "type": "scatter3d",
         "x": [
          17.625,
          21.625
         ],
         "y": [
          2,
          0.5
         ],
         "z": [
          0,
          0.5
         ]
        },
        {
         "line": {
          "color": "#345681",
          "width": 4
         },
         "mode": "lines",
         "type": "scatter3d",
         "x": [
          18.8125,
          22.8125
         ],
         "y": [
          0.5,
          -1
         ],
         "z": [
          0,
          0.5
         ]
        },
        {
         "line": {
          "color": "#345681",
          "width": 4
         },
         "mode": "lines",
         "type": "scatter3d",
         "x": [
          19.40625,
          23.40625
         ],
         "y": [
          -1,
          -2.5
         ],
         "z": [
          0,
          0.5
         ]
        },
        {
         "line": {
          "color": "#345681",
          "width": 4
         },
         "mode": "lines",
         "type": "scatter3d",
         "x": [
          19.40625,
          23.40625
         ],
         "y": [
          -2.5,
          -4
         ],
         "z": [
          0,
          0.5
         ]
        },
        {
         "line": {
          "color": "#345681",
          "width": 4
         },
         "mode": "lines",
         "type": "scatter3d",
         "x": [
          18.21875,
          22.21875
         ],
         "y": [
          -1,
          -2.5
         ],
         "z": [
          0,
          0.5
         ]
        },
        {
         "line": {
          "color": "#345681",
          "width": 4
         },
         "mode": "lines",
         "type": "scatter3d",
         "x": [
          16.4375,
          20.4375
         ],
         "y": [
          0.5,
          -1
         ],
         "z": [
          0,
          0.5
         ]
        },
        {
         "line": {
          "color": "#345681",
          "width": 4
         },
         "mode": "lines",
         "type": "scatter3d",
         "x": [
          12.875,
          9.75
         ],
         "y": [
          2,
          2
         ],
         "z": [
          0,
          0.5
         ]
        },
        {
         "line": {
          "color": "#345681",
          "width": 4
         },
         "mode": "lines",
         "type": "scatter3d",
         "x": [
          14.0625,
          12.125
         ],
         "y": [
          0.5,
          0.5
         ],
         "z": [
          0,
          0.5
         ]
        },
        {
         "line": {
          "color": "#345681",
          "width": 4
         },
         "mode": "lines",
         "type": "scatter3d",
         "x": [
          13.46875,
          12.125
         ],
         "y": [
          -1,
          -1
         ],
         "z": [
          0,
          0.5
         ]
        },
        {
         "line": {
          "color": "#345681",
          "width": 4
         },
         "mode": "lines",
         "type": "scatter3d",
         "x": [
          11.6875,
          7.375
         ],
         "y": [
          0.5,
          0.5
         ],
         "z": [
          0,
          0.5
         ]
        },
        {
         "line": {
          "color": "#acd",
          "width": 4
         },
         "mode": "lines",
         "type": "scatter3d",
         "x": [
          14.5,
          9.75
         ],
         "y": [
          3.5,
          2
         ],
         "z": [
          0.5,
          0.5
         ]
        },
        {
         "line": {
          "color": "#345681",
          "width": 4
         },
         "mode": "lines",
         "type": "scatter3d",
         "x": [
          15.25,
          14.5
         ],
         "y": [
          3.5,
          3.5
         ],
         "z": [
          0,
          0.5
         ]
        },
        {
         "line": {
          "color": "#345681",
          "width": 4
         },
         "mode": "lines",
         "type": "scatter3d",
         "x": [
          17.625,
          21.625
         ],
         "y": [
          2,
          0.5
         ],
         "z": [
          0,
          0.5
         ]
        },
        {
         "line": {
          "color": "#345681",
          "width": 4
         },
         "mode": "lines",
         "type": "scatter3d",
         "x": [
          18.8125,
          22.8125
         ],
         "y": [
          0.5,
          -1
         ],
         "z": [
          0,
          0.5
         ]
        },
        {
         "line": {
          "color": "#345681",
          "width": 4
         },
         "mode": "lines",
         "type": "scatter3d",
         "x": [
          19.40625,
          23.40625
         ],
         "y": [
          -1,
          -2.5
         ],
         "z": [
          0,
          0.5
         ]
        },
        {
         "line": {
          "color": "#345681",
          "width": 4
         },
         "mode": "lines",
         "type": "scatter3d",
         "x": [
          19.40625,
          23.40625
         ],
         "y": [
          -2.5,
          -4
         ],
         "z": [
          0,
          0.5
         ]
        },
        {
         "line": {
          "color": "#345681",
          "width": 4
         },
         "mode": "lines",
         "type": "scatter3d",
         "x": [
          18.21875,
          22.21875
         ],
         "y": [
          -1,
          -2.5
         ],
         "z": [
          0,
          0.5
         ]
        },
        {
         "line": {
          "color": "#345681",
          "width": 4
         },
         "mode": "lines",
         "type": "scatter3d",
         "x": [
          16.4375,
          20.4375
         ],
         "y": [
          0.5,
          -1
         ],
         "z": [
          0,
          0.5
         ]
        },
        {
         "line": {
          "color": "#345681",
          "width": 4
         },
         "mode": "lines",
         "type": "scatter3d",
         "x": [
          12.875,
          9.75
         ],
         "y": [
          2,
          2
         ],
         "z": [
          0,
          0.5
         ]
        },
        {
         "line": {
          "color": "#345681",
          "width": 4
         },
         "mode": "lines",
         "type": "scatter3d",
         "x": [
          14.0625,
          12.125
         ],
         "y": [
          0.5,
          0.5
         ],
         "z": [
          0,
          0.5
         ]
        },
        {
         "line": {
          "color": "#345681",
          "width": 4
         },
         "mode": "lines",
         "type": "scatter3d",
         "x": [
          13.46875,
          12.125
         ],
         "y": [
          -1,
          -1
         ],
         "z": [
          0,
          0.5
         ]
        },
        {
         "line": {
          "color": "#345681",
          "width": 4
         },
         "mode": "lines",
         "type": "scatter3d",
         "x": [
          11.6875,
          7.375
         ],
         "y": [
          0.5,
          0.5
         ],
         "z": [
          0,
          0.5
         ]
        },
        {
         "line": {
          "color": "#acd",
          "width": 4
         },
         "mode": "lines",
         "type": "scatter3d",
         "x": [
          9.75,
          7.375
         ],
         "y": [
          2,
          0.5
         ],
         "z": [
          0.5,
          0.5
         ]
        },
        {
         "line": {
          "color": "#345681",
          "width": 4
         },
         "mode": "lines",
         "type": "scatter3d",
         "x": [
          15.25,
          14.5
         ],
         "y": [
          3.5,
          3.5
         ],
         "z": [
          0,
          0.5
         ]
        },
        {
         "line": {
          "color": "#345681",
          "width": 4
         },
         "mode": "lines",
         "type": "scatter3d",
         "x": [
          17.625,
          21.625
         ],
         "y": [
          2,
          0.5
         ],
         "z": [
          0,
          0.5
         ]
        },
        {
         "line": {
          "color": "#345681",
          "width": 4
         },
         "mode": "lines",
         "type": "scatter3d",
         "x": [
          18.8125,
          22.8125
         ],
         "y": [
          0.5,
          -1
         ],
         "z": [
          0,
          0.5
         ]
        },
        {
         "line": {
          "color": "#345681",
          "width": 4
         },
         "mode": "lines",
         "type": "scatter3d",
         "x": [
          19.40625,
          23.40625
         ],
         "y": [
          -1,
          -2.5
         ],
         "z": [
          0,
          0.5
         ]
        },
        {
         "line": {
          "color": "#345681",
          "width": 4
         },
         "mode": "lines",
         "type": "scatter3d",
         "x": [
          19.40625,
          23.40625
         ],
         "y": [
          -2.5,
          -4
         ],
         "z": [
          0,
          0.5
         ]
        },
        {
         "line": {
          "color": "#345681",
          "width": 4
         },
         "mode": "lines",
         "type": "scatter3d",
         "x": [
          18.21875,
          22.21875
         ],
         "y": [
          -1,
          -2.5
         ],
         "z": [
          0,
          0.5
         ]
        },
        {
         "line": {
          "color": "#345681",
          "width": 4
         },
         "mode": "lines",
         "type": "scatter3d",
         "x": [
          16.4375,
          20.4375
         ],
         "y": [
          0.5,
          -1
         ],
         "z": [
          0,
          0.5
         ]
        },
        {
         "line": {
          "color": "#345681",
          "width": 4
         },
         "mode": "lines",
         "type": "scatter3d",
         "x": [
          12.875,
          9.75
         ],
         "y": [
          2,
          2
         ],
         "z": [
          0,
          0.5
         ]
        },
        {
         "line": {
          "color": "#345681",
          "width": 4
         },
         "mode": "lines",
         "type": "scatter3d",
         "x": [
          14.0625,
          12.125
         ],
         "y": [
          0.5,
          0.5
         ],
         "z": [
          0,
          0.5
         ]
        },
        {
         "line": {
          "color": "#345681",
          "width": 4
         },
         "mode": "lines",
         "type": "scatter3d",
         "x": [
          13.46875,
          12.125
         ],
         "y": [
          -1,
          -1
         ],
         "z": [
          0,
          0.5
         ]
        },
        {
         "line": {
          "color": "#345681",
          "width": 4
         },
         "mode": "lines",
         "type": "scatter3d",
         "x": [
          11.6875,
          7.375
         ],
         "y": [
          0.5,
          0.5
         ],
         "z": [
          0,
          0.5
         ]
        },
        {
         "line": {
          "color": "#acd",
          "width": 4
         },
         "mode": "lines",
         "type": "scatter3d",
         "x": [
          9.75,
          12.125
         ],
         "y": [
          2,
          0.5
         ],
         "z": [
          0.5,
          0.5
         ]
        },
        {
         "line": {
          "color": "#345681",
          "width": 4
         },
         "mode": "lines",
         "type": "scatter3d",
         "x": [
          15.25,
          14.5
         ],
         "y": [
          3.5,
          3.5
         ],
         "z": [
          0,
          0.5
         ]
        },
        {
         "line": {
          "color": "#345681",
          "width": 4
         },
         "mode": "lines",
         "type": "scatter3d",
         "x": [
          17.625,
          21.625
         ],
         "y": [
          2,
          0.5
         ],
         "z": [
          0,
          0.5
         ]
        },
        {
         "line": {
          "color": "#345681",
          "width": 4
         },
         "mode": "lines",
         "type": "scatter3d",
         "x": [
          18.8125,
          22.8125
         ],
         "y": [
          0.5,
          -1
         ],
         "z": [
          0,
          0.5
         ]
        },
        {
         "line": {
          "color": "#345681",
          "width": 4
         },
         "mode": "lines",
         "type": "scatter3d",
         "x": [
          19.40625,
          23.40625
         ],
         "y": [
          -1,
          -2.5
         ],
         "z": [
          0,
          0.5
         ]
        },
        {
         "line": {
          "color": "#345681",
          "width": 4
         },
         "mode": "lines",
         "type": "scatter3d",
         "x": [
          19.40625,
          23.40625
         ],
         "y": [
          -2.5,
          -4
         ],
         "z": [
          0,
          0.5
         ]
        },
        {
         "line": {
          "color": "#345681",
          "width": 4
         },
         "mode": "lines",
         "type": "scatter3d",
         "x": [
          18.21875,
          22.21875
         ],
         "y": [
          -1,
          -2.5
         ],
         "z": [
          0,
          0.5
         ]
        },
        {
         "line": {
          "color": "#345681",
          "width": 4
         },
         "mode": "lines",
         "type": "scatter3d",
         "x": [
          16.4375,
          20.4375
         ],
         "y": [
          0.5,
          -1
         ],
         "z": [
          0,
          0.5
         ]
        },
        {
         "line": {
          "color": "#345681",
          "width": 4
         },
         "mode": "lines",
         "type": "scatter3d",
         "x": [
          12.875,
          9.75
         ],
         "y": [
          2,
          2
         ],
         "z": [
          0,
          0.5
         ]
        },
        {
         "line": {
          "color": "#345681",
          "width": 4
         },
         "mode": "lines",
         "type": "scatter3d",
         "x": [
          14.0625,
          12.125
         ],
         "y": [
          0.5,
          0.5
         ],
         "z": [
          0,
          0.5
         ]
        },
        {
         "line": {
          "color": "#345681",
          "width": 4
         },
         "mode": "lines",
         "type": "scatter3d",
         "x": [
          13.46875,
          12.125
         ],
         "y": [
          -1,
          -1
         ],
         "z": [
          0,
          0.5
         ]
        },
        {
         "line": {
          "color": "#345681",
          "width": 4
         },
         "mode": "lines",
         "type": "scatter3d",
         "x": [
          11.6875,
          7.375
         ],
         "y": [
          0.5,
          0.5
         ],
         "z": [
          0,
          0.5
         ]
        },
        {
         "line": {
          "color": "#acd",
          "width": 4
         },
         "mode": "lines",
         "type": "scatter3d",
         "x": [
          12.125,
          12.125
         ],
         "y": [
          0.5,
          -1
         ],
         "z": [
          0.5,
          0.5
         ]
        },
        {
         "line": {
          "color": "#345681",
          "width": 4
         },
         "mode": "lines",
         "type": "scatter3d",
         "x": [
          15.25,
          14.5
         ],
         "y": [
          3.5,
          3.5
         ],
         "z": [
          0,
          0.5
         ]
        },
        {
         "line": {
          "color": "#345681",
          "width": 4
         },
         "mode": "lines",
         "type": "scatter3d",
         "x": [
          17.625,
          21.625
         ],
         "y": [
          2,
          0.5
         ],
         "z": [
          0,
          0.5
         ]
        },
        {
         "line": {
          "color": "#345681",
          "width": 4
         },
         "mode": "lines",
         "type": "scatter3d",
         "x": [
          18.8125,
          22.8125
         ],
         "y": [
          0.5,
          -1
         ],
         "z": [
          0,
          0.5
         ]
        },
        {
         "line": {
          "color": "#345681",
          "width": 4
         },
         "mode": "lines",
         "type": "scatter3d",
         "x": [
          19.40625,
          23.40625
         ],
         "y": [
          -1,
          -2.5
         ],
         "z": [
          0,
          0.5
         ]
        },
        {
         "line": {
          "color": "#345681",
          "width": 4
         },
         "mode": "lines",
         "type": "scatter3d",
         "x": [
          19.40625,
          23.40625
         ],
         "y": [
          -2.5,
          -4
         ],
         "z": [
          0,
          0.5
         ]
        },
        {
         "line": {
          "color": "#345681",
          "width": 4
         },
         "mode": "lines",
         "type": "scatter3d",
         "x": [
          18.21875,
          22.21875
         ],
         "y": [
          -1,
          -2.5
         ],
         "z": [
          0,
          0.5
         ]
        },
        {
         "line": {
          "color": "#345681",
          "width": 4
         },
         "mode": "lines",
         "type": "scatter3d",
         "x": [
          16.4375,
          20.4375
         ],
         "y": [
          0.5,
          -1
         ],
         "z": [
          0,
          0.5
         ]
        },
        {
         "line": {
          "color": "#345681",
          "width": 4
         },
         "mode": "lines",
         "type": "scatter3d",
         "x": [
          12.875,
          9.75
         ],
         "y": [
          2,
          2
         ],
         "z": [
          0,
          0.5
         ]
        },
        {
         "line": {
          "color": "#345681",
          "width": 4
         },
         "mode": "lines",
         "type": "scatter3d",
         "x": [
          14.0625,
          12.125
         ],
         "y": [
          0.5,
          0.5
         ],
         "z": [
          0,
          0.5
         ]
        },
        {
         "line": {
          "color": "#345681",
          "width": 4
         },
         "mode": "lines",
         "type": "scatter3d",
         "x": [
          13.46875,
          12.125
         ],
         "y": [
          -1,
          -1
         ],
         "z": [
          0,
          0.5
         ]
        },
        {
         "line": {
          "color": "#345681",
          "width": 4
         },
         "mode": "lines",
         "type": "scatter3d",
         "x": [
          11.6875,
          7.375
         ],
         "y": [
          0.5,
          0.5
         ],
         "z": [
          0,
          0.5
         ]
        },
        {
         "line": {
          "color": "#acd",
          "width": 4
         },
         "mode": "lines",
         "type": "scatter3d",
         "x": [
          14.5,
          19.25
         ],
         "y": [
          3.5,
          2
         ],
         "z": [
          0.5,
          0.5
         ]
        },
        {
         "line": {
          "color": "#345681",
          "width": 4
         },
         "mode": "lines",
         "type": "scatter3d",
         "x": [
          15.25,
          14.5
         ],
         "y": [
          3.5,
          3.5
         ],
         "z": [
          0,
          0.5
         ]
        },
        {
         "line": {
          "color": "#345681",
          "width": 4
         },
         "mode": "lines",
         "type": "scatter3d",
         "x": [
          17.625,
          21.625
         ],
         "y": [
          2,
          0.5
         ],
         "z": [
          0,
          0.5
         ]
        },
        {
         "line": {
          "color": "#345681",
          "width": 4
         },
         "mode": "lines",
         "type": "scatter3d",
         "x": [
          18.8125,
          22.8125
         ],
         "y": [
          0.5,
          -1
         ],
         "z": [
          0,
          0.5
         ]
        },
        {
         "line": {
          "color": "#345681",
          "width": 4
         },
         "mode": "lines",
         "type": "scatter3d",
         "x": [
          19.40625,
          23.40625
         ],
         "y": [
          -1,
          -2.5
         ],
         "z": [
          0,
          0.5
         ]
        },
        {
         "line": {
          "color": "#345681",
          "width": 4
         },
         "mode": "lines",
         "type": "scatter3d",
         "x": [
          19.40625,
          23.40625
         ],
         "y": [
          -2.5,
          -4
         ],
         "z": [
          0,
          0.5
         ]
        },
        {
         "line": {
          "color": "#345681",
          "width": 4
         },
         "mode": "lines",
         "type": "scatter3d",
         "x": [
          18.21875,
          22.21875
         ],
         "y": [
          -1,
          -2.5
         ],
         "z": [
          0,
          0.5
         ]
        },
        {
         "line": {
          "color": "#345681",
          "width": 4
         },
         "mode": "lines",
         "type": "scatter3d",
         "x": [
          16.4375,
          20.4375
         ],
         "y": [
          0.5,
          -1
         ],
         "z": [
          0,
          0.5
         ]
        },
        {
         "line": {
          "color": "#345681",
          "width": 4
         },
         "mode": "lines",
         "type": "scatter3d",
         "x": [
          12.875,
          9.75
         ],
         "y": [
          2,
          2
         ],
         "z": [
          0,
          0.5
         ]
        },
        {
         "line": {
          "color": "#345681",
          "width": 4
         },
         "mode": "lines",
         "type": "scatter3d",
         "x": [
          14.0625,
          12.125
         ],
         "y": [
          0.5,
          0.5
         ],
         "z": [
          0,
          0.5
         ]
        },
        {
         "line": {
          "color": "#345681",
          "width": 4
         },
         "mode": "lines",
         "type": "scatter3d",
         "x": [
          13.46875,
          12.125
         ],
         "y": [
          -1,
          -1
         ],
         "z": [
          0,
          0.5
         ]
        },
        {
         "line": {
          "color": "#345681",
          "width": 4
         },
         "mode": "lines",
         "type": "scatter3d",
         "x": [
          11.6875,
          7.375
         ],
         "y": [
          0.5,
          0.5
         ],
         "z": [
          0,
          0.5
         ]
        },
        {
         "line": {
          "color": "#acd",
          "width": 4
         },
         "mode": "lines",
         "type": "scatter3d",
         "x": [
          19.25,
          16.875
         ],
         "y": [
          2,
          0.5
         ],
         "z": [
          0.5,
          0.5
         ]
        },
        {
         "line": {
          "color": "#345681",
          "width": 4
         },
         "mode": "lines",
         "type": "scatter3d",
         "x": [
          15.25,
          14.5
         ],
         "y": [
          3.5,
          3.5
         ],
         "z": [
          0,
          0.5
         ]
        },
        {
         "line": {
          "color": "#345681",
          "width": 4
         },
         "mode": "lines",
         "type": "scatter3d",
         "x": [
          17.625,
          21.625
         ],
         "y": [
          2,
          0.5
         ],
         "z": [
          0,
          0.5
         ]
        },
        {
         "line": {
          "color": "#345681",
          "width": 4
         },
         "mode": "lines",
         "type": "scatter3d",
         "x": [
          18.8125,
          22.8125
         ],
         "y": [
          0.5,
          -1
         ],
         "z": [
          0,
          0.5
         ]
        },
        {
         "line": {
          "color": "#345681",
          "width": 4
         },
         "mode": "lines",
         "type": "scatter3d",
         "x": [
          19.40625,
          23.40625
         ],
         "y": [
          -1,
          -2.5
         ],
         "z": [
          0,
          0.5
         ]
        },
        {
         "line": {
          "color": "#345681",
          "width": 4
         },
         "mode": "lines",
         "type": "scatter3d",
         "x": [
          19.40625,
          23.40625
         ],
         "y": [
          -2.5,
          -4
         ],
         "z": [
          0,
          0.5
         ]
        },
        {
         "line": {
          "color": "#345681",
          "width": 4
         },
         "mode": "lines",
         "type": "scatter3d",
         "x": [
          18.21875,
          22.21875
         ],
         "y": [
          -1,
          -2.5
         ],
         "z": [
          0,
          0.5
         ]
        },
        {
         "line": {
          "color": "#345681",
          "width": 4
         },
         "mode": "lines",
         "type": "scatter3d",
         "x": [
          16.4375,
          20.4375
         ],
         "y": [
          0.5,
          -1
         ],
         "z": [
          0,
          0.5
         ]
        },
        {
         "line": {
          "color": "#345681",
          "width": 4
         },
         "mode": "lines",
         "type": "scatter3d",
         "x": [
          12.875,
          9.75
         ],
         "y": [
          2,
          2
         ],
         "z": [
          0,
          0.5
         ]
        },
        {
         "line": {
          "color": "#345681",
          "width": 4
         },
         "mode": "lines",
         "type": "scatter3d",
         "x": [
          14.0625,
          12.125
         ],
         "y": [
          0.5,
          0.5
         ],
         "z": [
          0,
          0.5
         ]
        },
        {
         "line": {
          "color": "#345681",
          "width": 4
         },
         "mode": "lines",
         "type": "scatter3d",
         "x": [
          13.46875,
          12.125
         ],
         "y": [
          -1,
          -1
         ],
         "z": [
          0,
          0.5
         ]
        },
        {
         "line": {
          "color": "#345681",
          "width": 4
         },
         "mode": "lines",
         "type": "scatter3d",
         "x": [
          11.6875,
          7.375
         ],
         "y": [
          0.5,
          0.5
         ],
         "z": [
          0,
          0.5
         ]
        },
        {
         "line": {
          "color": "#acd",
          "width": 4
         },
         "mode": "lines",
         "type": "scatter3d",
         "x": [
          19.25,
          21.625
         ],
         "y": [
          2,
          0.5
         ],
         "z": [
          0.5,
          0.5
         ]
        },
        {
         "line": {
          "color": "#345681",
          "width": 4
         },
         "mode": "lines",
         "type": "scatter3d",
         "x": [
          15.25,
          14.5
         ],
         "y": [
          3.5,
          3.5
         ],
         "z": [
          0,
          0.5
         ]
        },
        {
         "line": {
          "color": "#345681",
          "width": 4
         },
         "mode": "lines",
         "type": "scatter3d",
         "x": [
          17.625,
          21.625
         ],
         "y": [
          2,
          0.5
         ],
         "z": [
          0,
          0.5
         ]
        },
        {
         "line": {
          "color": "#345681",
          "width": 4
         },
         "mode": "lines",
         "type": "scatter3d",
         "x": [
          18.8125,
          22.8125
         ],
         "y": [
          0.5,
          -1
         ],
         "z": [
          0,
          0.5
         ]
        },
        {
         "line": {
          "color": "#345681",
          "width": 4
         },
         "mode": "lines",
         "type": "scatter3d",
         "x": [
          19.40625,
          23.40625
         ],
         "y": [
          -1,
          -2.5
         ],
         "z": [
          0,
          0.5
         ]
        },
        {
         "line": {
          "color": "#345681",
          "width": 4
         },
         "mode": "lines",
         "type": "scatter3d",
         "x": [
          19.40625,
          23.40625
         ],
         "y": [
          -2.5,
          -4
         ],
         "z": [
          0,
          0.5
         ]
        },
        {
         "line": {
          "color": "#345681",
          "width": 4
         },
         "mode": "lines",
         "type": "scatter3d",
         "x": [
          18.21875,
          22.21875
         ],
         "y": [
          -1,
          -2.5
         ],
         "z": [
          0,
          0.5
         ]
        },
        {
         "line": {
          "color": "#345681",
          "width": 4
         },
         "mode": "lines",
         "type": "scatter3d",
         "x": [
          16.4375,
          20.4375
         ],
         "y": [
          0.5,
          -1
         ],
         "z": [
          0,
          0.5
         ]
        },
        {
         "line": {
          "color": "#345681",
          "width": 4
         },
         "mode": "lines",
         "type": "scatter3d",
         "x": [
          12.875,
          9.75
         ],
         "y": [
          2,
          2
         ],
         "z": [
          0,
          0.5
         ]
        },
        {
         "line": {
          "color": "#345681",
          "width": 4
         },
         "mode": "lines",
         "type": "scatter3d",
         "x": [
          14.0625,
          12.125
         ],
         "y": [
          0.5,
          0.5
         ],
         "z": [
          0,
          0.5
         ]
        },
        {
         "line": {
          "color": "#345681",
          "width": 4
         },
         "mode": "lines",
         "type": "scatter3d",
         "x": [
          13.46875,
          12.125
         ],
         "y": [
          -1,
          -1
         ],
         "z": [
          0,
          0.5
         ]
        },
        {
         "line": {
          "color": "#345681",
          "width": 4
         },
         "mode": "lines",
         "type": "scatter3d",
         "x": [
          11.6875,
          7.375
         ],
         "y": [
          0.5,
          0.5
         ],
         "z": [
          0,
          0.5
         ]
        },
        {
         "line": {
          "color": "#acd",
          "width": 4
         },
         "mode": "lines",
         "type": "scatter3d",
         "x": [
          21.625,
          20.4375
         ],
         "y": [
          0.5,
          -1
         ],
         "z": [
          0.5,
          0.5
         ]
        },
        {
         "line": {
          "color": "#345681",
          "width": 4
         },
         "mode": "lines",
         "type": "scatter3d",
         "x": [
          15.25,
          14.5
         ],
         "y": [
          3.5,
          3.5
         ],
         "z": [
          0,
          0.5
         ]
        },
        {
         "line": {
          "color": "#345681",
          "width": 4
         },
         "mode": "lines",
         "type": "scatter3d",
         "x": [
          17.625,
          21.625
         ],
         "y": [
          2,
          0.5
         ],
         "z": [
          0,
          0.5
         ]
        },
        {
         "line": {
          "color": "#345681",
          "width": 4
         },
         "mode": "lines",
         "type": "scatter3d",
         "x": [
          18.8125,
          22.8125
         ],
         "y": [
          0.5,
          -1
         ],
         "z": [
          0,
          0.5
         ]
        },
        {
         "line": {
          "color": "#345681",
          "width": 4
         },
         "mode": "lines",
         "type": "scatter3d",
         "x": [
          19.40625,
          23.40625
         ],
         "y": [
          -1,
          -2.5
         ],
         "z": [
          0,
          0.5
         ]
        },
        {
         "line": {
          "color": "#345681",
          "width": 4
         },
         "mode": "lines",
         "type": "scatter3d",
         "x": [
          19.40625,
          23.40625
         ],
         "y": [
          -2.5,
          -4
         ],
         "z": [
          0,
          0.5
         ]
        },
        {
         "line": {
          "color": "#345681",
          "width": 4
         },
         "mode": "lines",
         "type": "scatter3d",
         "x": [
          18.21875,
          22.21875
         ],
         "y": [
          -1,
          -2.5
         ],
         "z": [
          0,
          0.5
         ]
        },
        {
         "line": {
          "color": "#345681",
          "width": 4
         },
         "mode": "lines",
         "type": "scatter3d",
         "x": [
          16.4375,
          20.4375
         ],
         "y": [
          0.5,
          -1
         ],
         "z": [
          0,
          0.5
         ]
        },
        {
         "line": {
          "color": "#345681",
          "width": 4
         },
         "mode": "lines",
         "type": "scatter3d",
         "x": [
          12.875,
          9.75
         ],
         "y": [
          2,
          2
         ],
         "z": [
          0,
          0.5
         ]
        },
        {
         "line": {
          "color": "#345681",
          "width": 4
         },
         "mode": "lines",
         "type": "scatter3d",
         "x": [
          14.0625,
          12.125
         ],
         "y": [
          0.5,
          0.5
         ],
         "z": [
          0,
          0.5
         ]
        },
        {
         "line": {
          "color": "#345681",
          "width": 4
         },
         "mode": "lines",
         "type": "scatter3d",
         "x": [
          13.46875,
          12.125
         ],
         "y": [
          -1,
          -1
         ],
         "z": [
          0,
          0.5
         ]
        },
        {
         "line": {
          "color": "#345681",
          "width": 4
         },
         "mode": "lines",
         "type": "scatter3d",
         "x": [
          11.6875,
          7.375
         ],
         "y": [
          0.5,
          0.5
         ],
         "z": [
          0,
          0.5
         ]
        },
        {
         "line": {
          "color": "#acd",
          "width": 4
         },
         "mode": "lines",
         "type": "scatter3d",
         "x": [
          21.625,
          22.8125
         ],
         "y": [
          0.5,
          -1
         ],
         "z": [
          0.5,
          0.5
         ]
        },
        {
         "line": {
          "color": "#345681",
          "width": 4
         },
         "mode": "lines",
         "type": "scatter3d",
         "x": [
          15.25,
          14.5
         ],
         "y": [
          3.5,
          3.5
         ],
         "z": [
          0,
          0.5
         ]
        },
        {
         "line": {
          "color": "#345681",
          "width": 4
         },
         "mode": "lines",
         "type": "scatter3d",
         "x": [
          17.625,
          21.625
         ],
         "y": [
          2,
          0.5
         ],
         "z": [
          0,
          0.5
         ]
        },
        {
         "line": {
          "color": "#345681",
          "width": 4
         },
         "mode": "lines",
         "type": "scatter3d",
         "x": [
          18.8125,
          22.8125
         ],
         "y": [
          0.5,
          -1
         ],
         "z": [
          0,
          0.5
         ]
        },
        {
         "line": {
          "color": "#345681",
          "width": 4
         },
         "mode": "lines",
         "type": "scatter3d",
         "x": [
          19.40625,
          23.40625
         ],
         "y": [
          -1,
          -2.5
         ],
         "z": [
          0,
          0.5
         ]
        },
        {
         "line": {
          "color": "#345681",
          "width": 4
         },
         "mode": "lines",
         "type": "scatter3d",
         "x": [
          19.40625,
          23.40625
         ],
         "y": [
          -2.5,
          -4
         ],
         "z": [
          0,
          0.5
         ]
        },
        {
         "line": {
          "color": "#345681",
          "width": 4
         },
         "mode": "lines",
         "type": "scatter3d",
         "x": [
          18.21875,
          22.21875
         ],
         "y": [
          -1,
          -2.5
         ],
         "z": [
          0,
          0.5
         ]
        },
        {
         "line": {
          "color": "#345681",
          "width": 4
         },
         "mode": "lines",
         "type": "scatter3d",
         "x": [
          16.4375,
          20.4375
         ],
         "y": [
          0.5,
          -1
         ],
         "z": [
          0,
          0.5
         ]
        },
        {
         "line": {
          "color": "#345681",
          "width": 4
         },
         "mode": "lines",
         "type": "scatter3d",
         "x": [
          12.875,
          9.75
         ],
         "y": [
          2,
          2
         ],
         "z": [
          0,
          0.5
         ]
        },
        {
         "line": {
          "color": "#345681",
          "width": 4
         },
         "mode": "lines",
         "type": "scatter3d",
         "x": [
          14.0625,
          12.125
         ],
         "y": [
          0.5,
          0.5
         ],
         "z": [
          0,
          0.5
         ]
        },
        {
         "line": {
          "color": "#345681",
          "width": 4
         },
         "mode": "lines",
         "type": "scatter3d",
         "x": [
          13.46875,
          12.125
         ],
         "y": [
          -1,
          -1
         ],
         "z": [
          0,
          0.5
         ]
        },
        {
         "line": {
          "color": "#345681",
          "width": 4
         },
         "mode": "lines",
         "type": "scatter3d",
         "x": [
          11.6875,
          7.375
         ],
         "y": [
          0.5,
          0.5
         ],
         "z": [
          0,
          0.5
         ]
        },
        {
         "line": {
          "color": "#acd",
          "width": 4
         },
         "mode": "lines",
         "type": "scatter3d",
         "x": [
          22.8125,
          22.21875
         ],
         "y": [
          -1,
          -2.5
         ],
         "z": [
          0.5,
          0.5
         ]
        },
        {
         "line": {
          "color": "#345681",
          "width": 4
         },
         "mode": "lines",
         "type": "scatter3d",
         "x": [
          15.25,
          14.5
         ],
         "y": [
          3.5,
          3.5
         ],
         "z": [
          0,
          0.5
         ]
        },
        {
         "line": {
          "color": "#345681",
          "width": 4
         },
         "mode": "lines",
         "type": "scatter3d",
         "x": [
          17.625,
          21.625
         ],
         "y": [
          2,
          0.5
         ],
         "z": [
          0,
          0.5
         ]
        },
        {
         "line": {
          "color": "#345681",
          "width": 4
         },
         "mode": "lines",
         "type": "scatter3d",
         "x": [
          18.8125,
          22.8125
         ],
         "y": [
          0.5,
          -1
         ],
         "z": [
          0,
          0.5
         ]
        },
        {
         "line": {
          "color": "#345681",
          "width": 4
         },
         "mode": "lines",
         "type": "scatter3d",
         "x": [
          19.40625,
          23.40625
         ],
         "y": [
          -1,
          -2.5
         ],
         "z": [
          0,
          0.5
         ]
        },
        {
         "line": {
          "color": "#345681",
          "width": 4
         },
         "mode": "lines",
         "type": "scatter3d",
         "x": [
          19.40625,
          23.40625
         ],
         "y": [
          -2.5,
          -4
         ],
         "z": [
          0,
          0.5
         ]
        },
        {
         "line": {
          "color": "#345681",
          "width": 4
         },
         "mode": "lines",
         "type": "scatter3d",
         "x": [
          18.21875,
          22.21875
         ],
         "y": [
          -1,
          -2.5
         ],
         "z": [
          0,
          0.5
         ]
        },
        {
         "line": {
          "color": "#345681",
          "width": 4
         },
         "mode": "lines",
         "type": "scatter3d",
         "x": [
          16.4375,
          20.4375
         ],
         "y": [
          0.5,
          -1
         ],
         "z": [
          0,
          0.5
         ]
        },
        {
         "line": {
          "color": "#345681",
          "width": 4
         },
         "mode": "lines",
         "type": "scatter3d",
         "x": [
          12.875,
          9.75
         ],
         "y": [
          2,
          2
         ],
         "z": [
          0,
          0.5
         ]
        },
        {
         "line": {
          "color": "#345681",
          "width": 4
         },
         "mode": "lines",
         "type": "scatter3d",
         "x": [
          14.0625,
          12.125
         ],
         "y": [
          0.5,
          0.5
         ],
         "z": [
          0,
          0.5
         ]
        },
        {
         "line": {
          "color": "#345681",
          "width": 4
         },
         "mode": "lines",
         "type": "scatter3d",
         "x": [
          13.46875,
          12.125
         ],
         "y": [
          -1,
          -1
         ],
         "z": [
          0,
          0.5
         ]
        },
        {
         "line": {
          "color": "#345681",
          "width": 4
         },
         "mode": "lines",
         "type": "scatter3d",
         "x": [
          11.6875,
          7.375
         ],
         "y": [
          0.5,
          0.5
         ],
         "z": [
          0,
          0.5
         ]
        },
        {
         "line": {
          "color": "#acd",
          "width": 4
         },
         "mode": "lines",
         "type": "scatter3d",
         "x": [
          22.8125,
          23.40625
         ],
         "y": [
          -1,
          -2.5
         ],
         "z": [
          0.5,
          0.5
         ]
        },
        {
         "line": {
          "color": "#345681",
          "width": 4
         },
         "mode": "lines",
         "type": "scatter3d",
         "x": [
          15.25,
          14.5
         ],
         "y": [
          3.5,
          3.5
         ],
         "z": [
          0,
          0.5
         ]
        },
        {
         "line": {
          "color": "#345681",
          "width": 4
         },
         "mode": "lines",
         "type": "scatter3d",
         "x": [
          17.625,
          21.625
         ],
         "y": [
          2,
          0.5
         ],
         "z": [
          0,
          0.5
         ]
        },
        {
         "line": {
          "color": "#345681",
          "width": 4
         },
         "mode": "lines",
         "type": "scatter3d",
         "x": [
          18.8125,
          22.8125
         ],
         "y": [
          0.5,
          -1
         ],
         "z": [
          0,
          0.5
         ]
        },
        {
         "line": {
          "color": "#345681",
          "width": 4
         },
         "mode": "lines",
         "type": "scatter3d",
         "x": [
          19.40625,
          23.40625
         ],
         "y": [
          -1,
          -2.5
         ],
         "z": [
          0,
          0.5
         ]
        },
        {
         "line": {
          "color": "#345681",
          "width": 4
         },
         "mode": "lines",
         "type": "scatter3d",
         "x": [
          19.40625,
          23.40625
         ],
         "y": [
          -2.5,
          -4
         ],
         "z": [
          0,
          0.5
         ]
        },
        {
         "line": {
          "color": "#345681",
          "width": 4
         },
         "mode": "lines",
         "type": "scatter3d",
         "x": [
          18.21875,
          22.21875
         ],
         "y": [
          -1,
          -2.5
         ],
         "z": [
          0,
          0.5
         ]
        },
        {
         "line": {
          "color": "#345681",
          "width": 4
         },
         "mode": "lines",
         "type": "scatter3d",
         "x": [
          16.4375,
          20.4375
         ],
         "y": [
          0.5,
          -1
         ],
         "z": [
          0,
          0.5
         ]
        },
        {
         "line": {
          "color": "#345681",
          "width": 4
         },
         "mode": "lines",
         "type": "scatter3d",
         "x": [
          12.875,
          9.75
         ],
         "y": [
          2,
          2
         ],
         "z": [
          0,
          0.5
         ]
        },
        {
         "line": {
          "color": "#345681",
          "width": 4
         },
         "mode": "lines",
         "type": "scatter3d",
         "x": [
          14.0625,
          12.125
         ],
         "y": [
          0.5,
          0.5
         ],
         "z": [
          0,
          0.5
         ]
        },
        {
         "line": {
          "color": "#345681",
          "width": 4
         },
         "mode": "lines",
         "type": "scatter3d",
         "x": [
          13.46875,
          12.125
         ],
         "y": [
          -1,
          -1
         ],
         "z": [
          0,
          0.5
         ]
        },
        {
         "line": {
          "color": "#345681",
          "width": 4
         },
         "mode": "lines",
         "type": "scatter3d",
         "x": [
          11.6875,
          7.375
         ],
         "y": [
          0.5,
          0.5
         ],
         "z": [
          0,
          0.5
         ]
        },
        {
         "line": {
          "color": "#acd",
          "width": 4
         },
         "mode": "lines",
         "type": "scatter3d",
         "x": [
          23.40625,
          23.40625
         ],
         "y": [
          -2.5,
          -4
         ],
         "z": [
          0.5,
          0.5
         ]
        },
        {
         "line": {
          "color": "#345681",
          "width": 4
         },
         "mode": "lines",
         "type": "scatter3d",
         "x": [
          15.25,
          14.5
         ],
         "y": [
          3.5,
          3.5
         ],
         "z": [
          0,
          0.5
         ]
        },
        {
         "line": {
          "color": "#345681",
          "width": 4
         },
         "mode": "lines",
         "type": "scatter3d",
         "x": [
          17.625,
          21.625
         ],
         "y": [
          2,
          0.5
         ],
         "z": [
          0,
          0.5
         ]
        },
        {
         "line": {
          "color": "#345681",
          "width": 4
         },
         "mode": "lines",
         "type": "scatter3d",
         "x": [
          18.8125,
          22.8125
         ],
         "y": [
          0.5,
          -1
         ],
         "z": [
          0,
          0.5
         ]
        },
        {
         "line": {
          "color": "#345681",
          "width": 4
         },
         "mode": "lines",
         "type": "scatter3d",
         "x": [
          19.40625,
          23.40625
         ],
         "y": [
          -1,
          -2.5
         ],
         "z": [
          0,
          0.5
         ]
        },
        {
         "line": {
          "color": "#345681",
          "width": 4
         },
         "mode": "lines",
         "type": "scatter3d",
         "x": [
          19.40625,
          23.40625
         ],
         "y": [
          -2.5,
          -4
         ],
         "z": [
          0,
          0.5
         ]
        },
        {
         "line": {
          "color": "#345681",
          "width": 4
         },
         "mode": "lines",
         "type": "scatter3d",
         "x": [
          18.21875,
          22.21875
         ],
         "y": [
          -1,
          -2.5
         ],
         "z": [
          0,
          0.5
         ]
        },
        {
         "line": {
          "color": "#345681",
          "width": 4
         },
         "mode": "lines",
         "type": "scatter3d",
         "x": [
          16.4375,
          20.4375
         ],
         "y": [
          0.5,
          -1
         ],
         "z": [
          0,
          0.5
         ]
        },
        {
         "line": {
          "color": "#345681",
          "width": 4
         },
         "mode": "lines",
         "type": "scatter3d",
         "x": [
          12.875,
          9.75
         ],
         "y": [
          2,
          2
         ],
         "z": [
          0,
          0.5
         ]
        },
        {
         "line": {
          "color": "#345681",
          "width": 4
         },
         "mode": "lines",
         "type": "scatter3d",
         "x": [
          14.0625,
          12.125
         ],
         "y": [
          0.5,
          0.5
         ],
         "z": [
          0,
          0.5
         ]
        },
        {
         "line": {
          "color": "#345681",
          "width": 4
         },
         "mode": "lines",
         "type": "scatter3d",
         "x": [
          13.46875,
          12.125
         ],
         "y": [
          -1,
          -1
         ],
         "z": [
          0,
          0.5
         ]
        },
        {
         "line": {
          "color": "#345681",
          "width": 4
         },
         "mode": "lines",
         "type": "scatter3d",
         "x": [
          11.6875,
          7.375
         ],
         "y": [
          0.5,
          0.5
         ],
         "z": [
          0,
          0.5
         ]
        }
       ],
       "layout": {
        "scene": {
         "zaxis": {
          "range": [
           0,
           1
          ]
         }
        },
        "showlegend": false,
        "template": {
         "data": {
          "bar": [
           {
            "error_x": {
             "color": "#2a3f5f"
            },
            "error_y": {
             "color": "#2a3f5f"
            },
            "marker": {
             "line": {
              "color": "#E5ECF6",
              "width": 0.5
             },
             "pattern": {
              "fillmode": "overlay",
              "size": 10,
              "solidity": 0.2
             }
            },
            "type": "bar"
           }
          ],
          "barpolar": [
           {
            "marker": {
             "line": {
              "color": "#E5ECF6",
              "width": 0.5
             },
             "pattern": {
              "fillmode": "overlay",
              "size": 10,
              "solidity": 0.2
             }
            },
            "type": "barpolar"
           }
          ],
          "carpet": [
           {
            "aaxis": {
             "endlinecolor": "#2a3f5f",
             "gridcolor": "white",
             "linecolor": "white",
             "minorgridcolor": "white",
             "startlinecolor": "#2a3f5f"
            },
            "baxis": {
             "endlinecolor": "#2a3f5f",
             "gridcolor": "white",
             "linecolor": "white",
             "minorgridcolor": "white",
             "startlinecolor": "#2a3f5f"
            },
            "type": "carpet"
           }
          ],
          "choropleth": [
           {
            "colorbar": {
             "outlinewidth": 0,
             "ticks": ""
            },
            "type": "choropleth"
           }
          ],
          "contour": [
           {
            "colorbar": {
             "outlinewidth": 0,
             "ticks": ""
            },
            "colorscale": [
             [
              0,
              "#0d0887"
             ],
             [
              0.1111111111111111,
              "#46039f"
             ],
             [
              0.2222222222222222,
              "#7201a8"
             ],
             [
              0.3333333333333333,
              "#9c179e"
             ],
             [
              0.4444444444444444,
              "#bd3786"
             ],
             [
              0.5555555555555556,
              "#d8576b"
             ],
             [
              0.6666666666666666,
              "#ed7953"
             ],
             [
              0.7777777777777778,
              "#fb9f3a"
             ],
             [
              0.8888888888888888,
              "#fdca26"
             ],
             [
              1,
              "#f0f921"
             ]
            ],
            "type": "contour"
           }
          ],
          "contourcarpet": [
           {
            "colorbar": {
             "outlinewidth": 0,
             "ticks": ""
            },
            "type": "contourcarpet"
           }
          ],
          "heatmap": [
           {
            "colorbar": {
             "outlinewidth": 0,
             "ticks": ""
            },
            "colorscale": [
             [
              0,
              "#0d0887"
             ],
             [
              0.1111111111111111,
              "#46039f"
             ],
             [
              0.2222222222222222,
              "#7201a8"
             ],
             [
              0.3333333333333333,
              "#9c179e"
             ],
             [
              0.4444444444444444,
              "#bd3786"
             ],
             [
              0.5555555555555556,
              "#d8576b"
             ],
             [
              0.6666666666666666,
              "#ed7953"
             ],
             [
              0.7777777777777778,
              "#fb9f3a"
             ],
             [
              0.8888888888888888,
              "#fdca26"
             ],
             [
              1,
              "#f0f921"
             ]
            ],
            "type": "heatmap"
           }
          ],
          "heatmapgl": [
           {
            "colorbar": {
             "outlinewidth": 0,
             "ticks": ""
            },
            "colorscale": [
             [
              0,
              "#0d0887"
             ],
             [
              0.1111111111111111,
              "#46039f"
             ],
             [
              0.2222222222222222,
              "#7201a8"
             ],
             [
              0.3333333333333333,
              "#9c179e"
             ],
             [
              0.4444444444444444,
              "#bd3786"
             ],
             [
              0.5555555555555556,
              "#d8576b"
             ],
             [
              0.6666666666666666,
              "#ed7953"
             ],
             [
              0.7777777777777778,
              "#fb9f3a"
             ],
             [
              0.8888888888888888,
              "#fdca26"
             ],
             [
              1,
              "#f0f921"
             ]
            ],
            "type": "heatmapgl"
           }
          ],
          "histogram": [
           {
            "marker": {
             "pattern": {
              "fillmode": "overlay",
              "size": 10,
              "solidity": 0.2
             }
            },
            "type": "histogram"
           }
          ],
          "histogram2d": [
           {
            "colorbar": {
             "outlinewidth": 0,
             "ticks": ""
            },
            "colorscale": [
             [
              0,
              "#0d0887"
             ],
             [
              0.1111111111111111,
              "#46039f"
             ],
             [
              0.2222222222222222,
              "#7201a8"
             ],
             [
              0.3333333333333333,
              "#9c179e"
             ],
             [
              0.4444444444444444,
              "#bd3786"
             ],
             [
              0.5555555555555556,
              "#d8576b"
             ],
             [
              0.6666666666666666,
              "#ed7953"
             ],
             [
              0.7777777777777778,
              "#fb9f3a"
             ],
             [
              0.8888888888888888,
              "#fdca26"
             ],
             [
              1,
              "#f0f921"
             ]
            ],
            "type": "histogram2d"
           }
          ],
          "histogram2dcontour": [
           {
            "colorbar": {
             "outlinewidth": 0,
             "ticks": ""
            },
            "colorscale": [
             [
              0,
              "#0d0887"
             ],
             [
              0.1111111111111111,
              "#46039f"
             ],
             [
              0.2222222222222222,
              "#7201a8"
             ],
             [
              0.3333333333333333,
              "#9c179e"
             ],
             [
              0.4444444444444444,
              "#bd3786"
             ],
             [
              0.5555555555555556,
              "#d8576b"
             ],
             [
              0.6666666666666666,
              "#ed7953"
             ],
             [
              0.7777777777777778,
              "#fb9f3a"
             ],
             [
              0.8888888888888888,
              "#fdca26"
             ],
             [
              1,
              "#f0f921"
             ]
            ],
            "type": "histogram2dcontour"
           }
          ],
          "mesh3d": [
           {
            "colorbar": {
             "outlinewidth": 0,
             "ticks": ""
            },
            "type": "mesh3d"
           }
          ],
          "parcoords": [
           {
            "line": {
             "colorbar": {
              "outlinewidth": 0,
              "ticks": ""
             }
            },
            "type": "parcoords"
           }
          ],
          "pie": [
           {
            "automargin": true,
            "type": "pie"
           }
          ],
          "scatter": [
           {
            "fillpattern": {
             "fillmode": "overlay",
             "size": 10,
             "solidity": 0.2
            },
            "type": "scatter"
           }
          ],
          "scatter3d": [
           {
            "line": {
             "colorbar": {
              "outlinewidth": 0,
              "ticks": ""
             }
            },
            "marker": {
             "colorbar": {
              "outlinewidth": 0,
              "ticks": ""
             }
            },
            "type": "scatter3d"
           }
          ],
          "scattercarpet": [
           {
            "marker": {
             "colorbar": {
              "outlinewidth": 0,
              "ticks": ""
             }
            },
            "type": "scattercarpet"
           }
          ],
          "scattergeo": [
           {
            "marker": {
             "colorbar": {
              "outlinewidth": 0,
              "ticks": ""
             }
            },
            "type": "scattergeo"
           }
          ],
          "scattergl": [
           {
            "marker": {
             "colorbar": {
              "outlinewidth": 0,
              "ticks": ""
             }
            },
            "type": "scattergl"
           }
          ],
          "scattermapbox": [
           {
            "marker": {
             "colorbar": {
              "outlinewidth": 0,
              "ticks": ""
             }
            },
            "type": "scattermapbox"
           }
          ],
          "scatterpolar": [
           {
            "marker": {
             "colorbar": {
              "outlinewidth": 0,
              "ticks": ""
             }
            },
            "type": "scatterpolar"
           }
          ],
          "scatterpolargl": [
           {
            "marker": {
             "colorbar": {
              "outlinewidth": 0,
              "ticks": ""
             }
            },
            "type": "scatterpolargl"
           }
          ],
          "scatterternary": [
           {
            "marker": {
             "colorbar": {
              "outlinewidth": 0,
              "ticks": ""
             }
            },
            "type": "scatterternary"
           }
          ],
          "surface": [
           {
            "colorbar": {
             "outlinewidth": 0,
             "ticks": ""
            },
            "colorscale": [
             [
              0,
              "#0d0887"
             ],
             [
              0.1111111111111111,
              "#46039f"
             ],
             [
              0.2222222222222222,
              "#7201a8"
             ],
             [
              0.3333333333333333,
              "#9c179e"
             ],
             [
              0.4444444444444444,
              "#bd3786"
             ],
             [
              0.5555555555555556,
              "#d8576b"
             ],
             [
              0.6666666666666666,
              "#ed7953"
             ],
             [
              0.7777777777777778,
              "#fb9f3a"
             ],
             [
              0.8888888888888888,
              "#fdca26"
             ],
             [
              1,
              "#f0f921"
             ]
            ],
            "type": "surface"
           }
          ],
          "table": [
           {
            "cells": {
             "fill": {
              "color": "#EBF0F8"
             },
             "line": {
              "color": "white"
             }
            },
            "header": {
             "fill": {
              "color": "#C8D4E3"
             },
             "line": {
              "color": "white"
             }
            },
            "type": "table"
           }
          ]
         },
         "layout": {
          "annotationdefaults": {
           "arrowcolor": "#2a3f5f",
           "arrowhead": 0,
           "arrowwidth": 1
          },
          "autotypenumbers": "strict",
          "coloraxis": {
           "colorbar": {
            "outlinewidth": 0,
            "ticks": ""
           }
          },
          "colorscale": {
           "diverging": [
            [
             0,
             "#8e0152"
            ],
            [
             0.1,
             "#c51b7d"
            ],
            [
             0.2,
             "#de77ae"
            ],
            [
             0.3,
             "#f1b6da"
            ],
            [
             0.4,
             "#fde0ef"
            ],
            [
             0.5,
             "#f7f7f7"
            ],
            [
             0.6,
             "#e6f5d0"
            ],
            [
             0.7,
             "#b8e186"
            ],
            [
             0.8,
             "#7fbc41"
            ],
            [
             0.9,
             "#4d9221"
            ],
            [
             1,
             "#276419"
            ]
           ],
           "sequential": [
            [
             0,
             "#0d0887"
            ],
            [
             0.1111111111111111,
             "#46039f"
            ],
            [
             0.2222222222222222,
             "#7201a8"
            ],
            [
             0.3333333333333333,
             "#9c179e"
            ],
            [
             0.4444444444444444,
             "#bd3786"
            ],
            [
             0.5555555555555556,
             "#d8576b"
            ],
            [
             0.6666666666666666,
             "#ed7953"
            ],
            [
             0.7777777777777778,
             "#fb9f3a"
            ],
            [
             0.8888888888888888,
             "#fdca26"
            ],
            [
             1,
             "#f0f921"
            ]
           ],
           "sequentialminus": [
            [
             0,
             "#0d0887"
            ],
            [
             0.1111111111111111,
             "#46039f"
            ],
            [
             0.2222222222222222,
             "#7201a8"
            ],
            [
             0.3333333333333333,
             "#9c179e"
            ],
            [
             0.4444444444444444,
             "#bd3786"
            ],
            [
             0.5555555555555556,
             "#d8576b"
            ],
            [
             0.6666666666666666,
             "#ed7953"
            ],
            [
             0.7777777777777778,
             "#fb9f3a"
            ],
            [
             0.8888888888888888,
             "#fdca26"
            ],
            [
             1,
             "#f0f921"
            ]
           ]
          },
          "colorway": [
           "#636efa",
           "#EF553B",
           "#00cc96",
           "#ab63fa",
           "#FFA15A",
           "#19d3f3",
           "#FF6692",
           "#B6E880",
           "#FF97FF",
           "#FECB52"
          ],
          "font": {
           "color": "#2a3f5f"
          },
          "geo": {
           "bgcolor": "white",
           "lakecolor": "white",
           "landcolor": "#E5ECF6",
           "showlakes": true,
           "showland": true,
           "subunitcolor": "white"
          },
          "hoverlabel": {
           "align": "left"
          },
          "hovermode": "closest",
          "mapbox": {
           "style": "light"
          },
          "paper_bgcolor": "white",
          "plot_bgcolor": "#E5ECF6",
          "polar": {
           "angularaxis": {
            "gridcolor": "white",
            "linecolor": "white",
            "ticks": ""
           },
           "bgcolor": "#E5ECF6",
           "radialaxis": {
            "gridcolor": "white",
            "linecolor": "white",
            "ticks": ""
           }
          },
          "scene": {
           "xaxis": {
            "backgroundcolor": "#E5ECF6",
            "gridcolor": "white",
            "gridwidth": 2,
            "linecolor": "white",
            "showbackground": true,
            "ticks": "",
            "zerolinecolor": "white"
           },
           "yaxis": {
            "backgroundcolor": "#E5ECF6",
            "gridcolor": "white",
            "gridwidth": 2,
            "linecolor": "white",
            "showbackground": true,
            "ticks": "",
            "zerolinecolor": "white"
           },
           "zaxis": {
            "backgroundcolor": "#E5ECF6",
            "gridcolor": "white",
            "gridwidth": 2,
            "linecolor": "white",
            "showbackground": true,
            "ticks": "",
            "zerolinecolor": "white"
           }
          },
          "shapedefaults": {
           "line": {
            "color": "#2a3f5f"
           }
          },
          "ternary": {
           "aaxis": {
            "gridcolor": "white",
            "linecolor": "white",
            "ticks": ""
           },
           "baxis": {
            "gridcolor": "white",
            "linecolor": "white",
            "ticks": ""
           },
           "bgcolor": "#E5ECF6",
           "caxis": {
            "gridcolor": "white",
            "linecolor": "white",
            "ticks": ""
           }
          },
          "title": {
           "x": 0.05
          },
          "xaxis": {
           "automargin": true,
           "gridcolor": "white",
           "linecolor": "white",
           "ticks": "",
           "title": {
            "standoff": 15
           },
           "zerolinecolor": "white",
           "zerolinewidth": 2
          },
          "yaxis": {
           "automargin": true,
           "gridcolor": "white",
           "linecolor": "white",
           "ticks": "",
           "title": {
            "standoff": 15
           },
           "zerolinecolor": "white",
           "zerolinewidth": 2
          }
         }
        },
        "xaxis": {
         "visible": false
        },
        "yaxis": {
         "visible": false
        }
       }
      }
     },
     "metadata": {},
     "output_type": "display_data"
    }
   ],
   "source": [
    "import plotly.graph_objects as go\n",
    "import numpy as np\n",
    "s = 13\n",
    "# Helix equation\n",
    "x, y, z =t.pos_x,t.pos_y,[0 for i in t.pos_x]\n",
    "x=np.array(x)\n",
    "y=np.array(y)\n",
    "layout = go.Layout(\n",
    "    scene=dict(\n",
    "        zaxis=dict(\n",
    "            range=[0, 1]  # Set the desired z-axis range\n",
    "        )\n",
    "    ),\n",
    "    \n",
    ")\n",
    "fig = go.Figure(data=[go.Scatter3d(x=x, y=y, z=z,mode='markers',marker=dict(size=3))],layout=layout)\n",
    "x, y, z =t.pos_x_2,t.pos_y_2,[0.5 for i in t.pos_x]\n",
    "x=np.array(x)-s\n",
    "y=np.array(y)\n",
    "\n",
    "fig.add_trace(go.Scatter3d(x=x, y=y, z=z,mode='markers',marker=dict(size=3)))\n",
    "for i in t.edges:\n",
    "    p1,p2 = i;\n",
    "    index1=t.label_hash[p1];\n",
    "    index2=t.label_hash[p2];\n",
    "    \n",
    "    x1=t.pos_x[index1];y1=t.pos_y[index1];\n",
    "    x2=t.pos_x[index2];y2=t.pos_y[index2];\n",
    "    fig.add_trace(go.Scatter3d(x=[x1,x2], y=[y1,y2], z=[0,0],mode='lines',line=dict(\n",
    "                    color=\"#333\",\n",
    "                    width=4,\n",
    "                ),))\n",
    "for i in t.edges_2:\n",
    "    p1,p2 = i;\n",
    "    index1=t.label_hash_2[p1];\n",
    "    index2=t.label_hash_2[p2];\n",
    "    \n",
    "    x1=t.pos_x_2[index1]-s;y1=t.pos_y_2[index1];\n",
    "    x2=t.pos_x_2[index2]-s;y2=t.pos_y_2[index2];\n",
    "    fig.add_trace(go.Scatter3d(x=[x1,x2], y=[y1,y2], z=[0.5,0.5],mode='lines',line=dict(\n",
    "                    color=\"#acd\",\n",
    "                    width=4,\n",
    "                ),))\n",
    "    for i in t.ans:\n",
    "        p1,p2 = i;\n",
    "        index1=t.label_hash[p1];\n",
    "        index2=t.label_hash_2[p2];\n",
    "        x1=t.pos_x[index1];y1=t.pos_y[index1];\n",
    "        x2=t.pos_x_2[index2]-s;y2=t.pos_y_2[index2];\n",
    "        fig.add_trace(go.Scatter3d(x=[x1,x2], y=[y1,y2], z=[0,0.5],mode='lines',line=dict(\n",
    "                    color=\"#345681\",\n",
    "                    width=4,\n",
    "                ),))\n",
    "fig.update_layout(showlegend=False)\n",
    "fig.update_layout(\n",
    "    showlegend=False,\n",
    "    xaxis=dict(visible=False),\n",
    "    yaxis=dict(visible=False),\n",
    ")\n",
    "fig.show()"
   ]
  },
  {
   "cell_type": "code",
   "execution_count": 76,
   "metadata": {},
   "outputs": [
    {
     "name": "stderr",
     "output_type": "stream",
     "text": [
      "/Users/dongjiajie/Desktop/alignment/fyp/hyperalignment/final/alignment.py:799: DeprecationWarning:\n",
      "\n",
      "`np.int` is a deprecated alias for the builtin `int`. To silence this warning, use `int` by itself. Doing this will not modify any behavior and is safe. When replacing `np.int`, you may wish to use e.g. `np.int64` or `np.int32` to specify the precision. If you wish to review your current use, check the release note link for additional information.\n",
      "Deprecated in NumPy 1.20; for more details and guidance: https://numpy.org/devdocs/release/1.20.0-notes.html#deprecations\n",
      "\n",
      "/Users/dongjiajie/Desktop/alignment/fyp/hyperalignment/final/alignment.py:799: DeprecationWarning:\n",
      "\n",
      "`np.int` is a deprecated alias for the builtin `int`. To silence this warning, use `int` by itself. Doing this will not modify any behavior and is safe. When replacing `np.int`, you may wish to use e.g. `np.int64` or `np.int32` to specify the precision. If you wish to review your current use, check the release note link for additional information.\n",
      "Deprecated in NumPy 1.20; for more details and guidance: https://numpy.org/devdocs/release/1.20.0-notes.html#deprecations\n",
      "\n"
     ]
    },
    {
     "name": "stdout",
     "output_type": "stream",
     "text": [
      "The mininum cost for alignment is 23.83030303030303\n",
      "The alignment edges list is [('35', '14'), ('27', '12'), ('22', '10'), ('6_Th17', '3_Th17'), ('13_Th17', '7_Th17'), ('8_Th17', '2_Th17'), ('5_Th17', '4_Th17'), ('26', '11'), ('25', '6_Th17'), ('9_Th17', '5_Th17'), ('10_Th17', '1_Th17')]\n"
     ]
    },
    {
     "data": {
      "application/vnd.plotly.v1+json": {
       "config": {
        "plotlyServerURL": "https://plot.ly"
       },
       "data": [
        {
         "hoverinfo": "text",
         "hovertext": [
          "connect Empty",
          "connect Empty",
          "connect Empty",
          "connect Empty",
          "connect Empty",
          "connect Empty",
          "connect Empty",
          "connect Empty",
          "connect Empty",
          "connect Empty",
          "connect Empty",
          "connect Empty",
          "connect Empty",
          "connect Empty",
          "connect Empty",
          "connect Empty",
          "connect Empty",
          "connect Empty",
          "connect 14",
          "connect 11",
          "connect 1_Th17",
          "connect 6_Th17",
          "connect 5_Th17",
          "connect Empty",
          "connect Empty",
          "connect 12",
          "connect 4_Th17",
          "connect 10",
          "connect 2_Th17",
          "connect 3_Th17",
          "connect 7_Th17",
          "connect 35",
          "connect 26",
          "connect 10_Th17",
          "connect 25",
          "connect 9_Th17",
          "connect Empty",
          "connect Empty",
          "connect 27",
          "connect 5_Th17",
          "connect 22",
          "connect 8_Th17",
          "connect 6_Th17",
          "connect 13_Th17"
         ],
         "marker": {
          "color": [
           1.5596716423305161,
           3.165666468133835,
           3.371752267013469,
           3.7991773533689828,
           3.005464899133906,
           3.330872930065815,
           3.330872930065815,
           2.992783935865425,
           2.9359931311247704,
           3.4536101724087356,
           3.4536101724087356,
           3.27608868647224,
           2.7851462201365527,
           3.2279207800468894,
           3.010288228291664,
           3.010288228291664,
           4.130971452099098,
           4.130971452099098,
           3.5600451564735742,
           3.5632969101406697,
           4.377571848038011,
           3.2293908230190644,
           3.945968067348105,
           3.0523437089310326,
           3.0523437089310326,
           4.031545248378232,
           3.831214064599398,
           4.515107042560432,
           4.632396763393548,
           4.580282905807608,
           4.580282905807608,
           3.402848893031457,
           3.25634584173919,
           3.0523437089310326,
           3.945968067348105,
           3.945968067348105,
           3.9462359676019902,
           4.087313773094286,
           4.283922328833648,
           4.632396763393548,
           4.062152374031009,
           3.831214064599398,
           4.580282905807608,
           4.580282905807608
          ],
          "colorscale": [
           [
            0,
            "rgb(253, 224, 197)"
           ],
           [
            0.16666666666666666,
            "rgb(250, 203, 166)"
           ],
           [
            0.3333333333333333,
            "rgb(248, 181, 139)"
           ],
           [
            0.5,
            "rgb(245, 158, 114)"
           ],
           [
            0.6666666666666666,
            "rgb(242, 133, 93)"
           ],
           [
            0.8333333333333334,
            "rgb(239, 106, 76)"
           ],
           [
            1,
            "rgb(235, 74, 64)"
           ]
          ],
          "showscale": true,
          "size": 50,
          "symbol": "circle-dot"
         },
         "mode": "markers+text",
         "opacity": 0.8,
         "text": [
          "36",
          "34",
          "32",
          "7_CD4Tn",
          "31",
          "16_CD4Tn",
          "14_CD4Tn",
          "28",
          "11_CD4Tn",
          "3_CD4Tn",
          "2_CD4Tn",
          "33",
          "29",
          "17_CD4Tn",
          "15_CD4Tn",
          "4_CD4Tn",
          "18_CD4Tn",
          "12_CD4Tn",
          "35",
          "26",
          "10_Th17",
          "25",
          "9_Th17",
          "0_Th17",
          "1_Th17",
          "27",
          "5_Th17",
          "22",
          "8_Th17",
          "6_Th17",
          "13_Th17",
          "14",
          "11",
          "1_Th17",
          "6_Th17",
          "5_Th17",
          "13",
          "0_Th17",
          "12",
          "4_Th17",
          "10",
          "2_Th17",
          "3_Th17",
          "7_Th17"
         ],
         "textfont": {
          "color": "#000000",
          "family": "sans serif",
          "size": 18
         },
         "type": "scatter",
         "x": [
          10.5,
          5.75,
          3.375,
          2.1875,
          4.5625,
          3.96875,
          3.96875,
          5.15625,
          4.859375,
          5.453125,
          5.453125,
          8.125,
          6.9375,
          6.34375,
          7.53125,
          7.53125,
          9.3125,
          9.3125,
          15.25,
          12.875,
          11.6875,
          14.0625,
          13.46875,
          14.65625,
          14.65625,
          17.625,
          16.4375,
          18.8125,
          18.21875,
          19.40625,
          19.40625,
          27.5,
          22.75,
          20.375,
          25.125,
          25.125,
          32.25,
          29.875,
          34.625,
          33.4375,
          35.8125,
          35.21875,
          36.40625,
          36.40625
         ],
         "y": [
          5,
          3.5,
          2,
          0.5,
          0.5,
          -1,
          -2.5,
          -1,
          -2.5,
          -2.5,
          -4,
          2,
          0.5,
          -1,
          -1,
          -2.5,
          0.5,
          -1,
          3.5,
          2,
          0.5,
          0.5,
          -1,
          -1,
          -2.5,
          2,
          0.5,
          0.5,
          -1,
          -1,
          -2.5,
          3.5,
          2,
          0.5,
          0.5,
          -1,
          2,
          0.5,
          0.5,
          -1,
          -1,
          -2.5,
          -2.5,
          -4
         ]
        }
       ],
       "layout": {
        "height": 500,
        "shapes": [
         {
          "layer": "below",
          "line": {
           "color": "#333",
           "width": 4
          },
          "type": "line",
          "x0": 10.5,
          "x1": 10.5,
          "y0": 5,
          "y1": 5
         },
         {
          "layer": "below",
          "line": {
           "color": "#333",
           "width": 4
          },
          "type": "line",
          "x0": 10.5,
          "x1": 5.75,
          "y0": 5,
          "y1": 3.5
         },
         {
          "layer": "below",
          "line": {
           "color": "#333",
           "width": 4
          },
          "type": "line",
          "x0": 5.75,
          "x1": 3.375,
          "y0": 3.5,
          "y1": 2
         },
         {
          "layer": "below",
          "line": {
           "color": "#333",
           "width": 4
          },
          "type": "line",
          "x0": 3.375,
          "x1": 2.1875,
          "y0": 2,
          "y1": 0.5
         },
         {
          "layer": "below",
          "line": {
           "color": "#333",
           "width": 4
          },
          "type": "line",
          "x0": 3.375,
          "x1": 4.5625,
          "y0": 2,
          "y1": 0.5
         },
         {
          "layer": "below",
          "line": {
           "color": "#333",
           "width": 4
          },
          "type": "line",
          "x0": 4.5625,
          "x1": 3.96875,
          "y0": 0.5,
          "y1": -1
         },
         {
          "layer": "below",
          "line": {
           "color": "#333",
           "width": 4
          },
          "type": "line",
          "x0": 3.96875,
          "x1": 3.96875,
          "y0": -1,
          "y1": -2.5
         },
         {
          "layer": "below",
          "line": {
           "color": "#333",
           "width": 4
          },
          "type": "line",
          "x0": 4.5625,
          "x1": 5.15625,
          "y0": 0.5,
          "y1": -1
         },
         {
          "layer": "below",
          "line": {
           "color": "#333",
           "width": 4
          },
          "type": "line",
          "x0": 5.15625,
          "x1": 4.859375,
          "y0": -1,
          "y1": -2.5
         },
         {
          "layer": "below",
          "line": {
           "color": "#333",
           "width": 4
          },
          "type": "line",
          "x0": 5.15625,
          "x1": 5.453125,
          "y0": -1,
          "y1": -2.5
         },
         {
          "layer": "below",
          "line": {
           "color": "#333",
           "width": 4
          },
          "type": "line",
          "x0": 5.453125,
          "x1": 5.453125,
          "y0": -2.5,
          "y1": -4
         },
         {
          "layer": "below",
          "line": {
           "color": "#333",
           "width": 4
          },
          "type": "line",
          "x0": 5.75,
          "x1": 8.125,
          "y0": 3.5,
          "y1": 2
         },
         {
          "layer": "below",
          "line": {
           "color": "#333",
           "width": 4
          },
          "type": "line",
          "x0": 8.125,
          "x1": 6.9375,
          "y0": 2,
          "y1": 0.5
         },
         {
          "layer": "below",
          "line": {
           "color": "#333",
           "width": 4
          },
          "type": "line",
          "x0": 6.9375,
          "x1": 6.34375,
          "y0": 0.5,
          "y1": -1
         },
         {
          "layer": "below",
          "line": {
           "color": "#333",
           "width": 4
          },
          "type": "line",
          "x0": 6.9375,
          "x1": 7.53125,
          "y0": 0.5,
          "y1": -1
         },
         {
          "layer": "below",
          "line": {
           "color": "#333",
           "width": 4
          },
          "type": "line",
          "x0": 7.53125,
          "x1": 7.53125,
          "y0": -1,
          "y1": -2.5
         },
         {
          "layer": "below",
          "line": {
           "color": "#333",
           "width": 4
          },
          "type": "line",
          "x0": 8.125,
          "x1": 9.3125,
          "y0": 2,
          "y1": 0.5
         },
         {
          "layer": "below",
          "line": {
           "color": "#333",
           "width": 4
          },
          "type": "line",
          "x0": 9.3125,
          "x1": 9.3125,
          "y0": 0.5,
          "y1": -1
         },
         {
          "layer": "below",
          "line": {
           "color": "#333",
           "width": 4
          },
          "type": "line",
          "x0": 10.5,
          "x1": 15.25,
          "y0": 5,
          "y1": 3.5
         },
         {
          "layer": "below",
          "line": {
           "color": "#333",
           "width": 4
          },
          "type": "line",
          "x0": 15.25,
          "x1": 12.875,
          "y0": 3.5,
          "y1": 2
         },
         {
          "layer": "below",
          "line": {
           "color": "#333",
           "width": 4
          },
          "type": "line",
          "x0": 12.875,
          "x1": 11.6875,
          "y0": 2,
          "y1": 0.5
         },
         {
          "layer": "below",
          "line": {
           "color": "#333",
           "width": 4
          },
          "type": "line",
          "x0": 12.875,
          "x1": 14.0625,
          "y0": 2,
          "y1": 0.5
         },
         {
          "layer": "below",
          "line": {
           "color": "#333",
           "width": 4
          },
          "type": "line",
          "x0": 14.0625,
          "x1": 13.46875,
          "y0": 0.5,
          "y1": -1
         },
         {
          "layer": "below",
          "line": {
           "color": "#333",
           "width": 4
          },
          "type": "line",
          "x0": 14.0625,
          "x1": 14.65625,
          "y0": 0.5,
          "y1": -1
         },
         {
          "layer": "below",
          "line": {
           "color": "#333",
           "width": 4
          },
          "type": "line",
          "x0": 14.65625,
          "x1": 14.65625,
          "y0": -1,
          "y1": -2.5
         },
         {
          "layer": "below",
          "line": {
           "color": "#333",
           "width": 4
          },
          "type": "line",
          "x0": 15.25,
          "x1": 17.625,
          "y0": 3.5,
          "y1": 2
         },
         {
          "layer": "below",
          "line": {
           "color": "#333",
           "width": 4
          },
          "type": "line",
          "x0": 17.625,
          "x1": 16.4375,
          "y0": 2,
          "y1": 0.5
         },
         {
          "layer": "below",
          "line": {
           "color": "#333",
           "width": 4
          },
          "type": "line",
          "x0": 17.625,
          "x1": 18.8125,
          "y0": 2,
          "y1": 0.5
         },
         {
          "layer": "below",
          "line": {
           "color": "#333",
           "width": 4
          },
          "type": "line",
          "x0": 18.8125,
          "x1": 18.21875,
          "y0": 0.5,
          "y1": -1
         },
         {
          "layer": "below",
          "line": {
           "color": "#333",
           "width": 4
          },
          "type": "line",
          "x0": 18.8125,
          "x1": 19.40625,
          "y0": 0.5,
          "y1": -1
         },
         {
          "layer": "below",
          "line": {
           "color": "#333",
           "width": 4
          },
          "type": "line",
          "x0": 19.40625,
          "x1": 19.40625,
          "y0": -1,
          "y1": -2.5
         },
         {
          "layer": "below",
          "line": {
           "color": "#333",
           "width": 4
          },
          "type": "line",
          "x0": 27.5,
          "x1": 27.5,
          "y0": 3.5,
          "y1": 3.5
         },
         {
          "layer": "below",
          "line": {
           "color": "#333",
           "width": 4
          },
          "type": "line",
          "x0": 27.5,
          "x1": 22.75,
          "y0": 3.5,
          "y1": 2
         },
         {
          "layer": "below",
          "line": {
           "color": "#333",
           "width": 4
          },
          "type": "line",
          "x0": 22.75,
          "x1": 20.375,
          "y0": 2,
          "y1": 0.5
         },
         {
          "layer": "below",
          "line": {
           "color": "#333",
           "width": 4
          },
          "type": "line",
          "x0": 22.75,
          "x1": 25.125,
          "y0": 2,
          "y1": 0.5
         },
         {
          "layer": "below",
          "line": {
           "color": "#333",
           "width": 4
          },
          "type": "line",
          "x0": 25.125,
          "x1": 25.125,
          "y0": 0.5,
          "y1": -1
         },
         {
          "layer": "below",
          "line": {
           "color": "#333",
           "width": 4
          },
          "type": "line",
          "x0": 27.5,
          "x1": 32.25,
          "y0": 3.5,
          "y1": 2
         },
         {
          "layer": "below",
          "line": {
           "color": "#333",
           "width": 4
          },
          "type": "line",
          "x0": 32.25,
          "x1": 29.875,
          "y0": 2,
          "y1": 0.5
         },
         {
          "layer": "below",
          "line": {
           "color": "#333",
           "width": 4
          },
          "type": "line",
          "x0": 32.25,
          "x1": 34.625,
          "y0": 2,
          "y1": 0.5
         },
         {
          "layer": "below",
          "line": {
           "color": "#333",
           "width": 4
          },
          "type": "line",
          "x0": 34.625,
          "x1": 33.4375,
          "y0": 0.5,
          "y1": -1
         },
         {
          "layer": "below",
          "line": {
           "color": "#333",
           "width": 4
          },
          "type": "line",
          "x0": 34.625,
          "x1": 35.8125,
          "y0": 0.5,
          "y1": -1
         },
         {
          "layer": "below",
          "line": {
           "color": "#333",
           "width": 4
          },
          "type": "line",
          "x0": 35.8125,
          "x1": 35.21875,
          "y0": -1,
          "y1": -2.5
         },
         {
          "layer": "below",
          "line": {
           "color": "#333",
           "width": 4
          },
          "type": "line",
          "x0": 35.8125,
          "x1": 36.40625,
          "y0": -1,
          "y1": -2.5
         },
         {
          "layer": "below",
          "line": {
           "color": "#333",
           "width": 4
          },
          "type": "line",
          "x0": 36.40625,
          "x1": 36.40625,
          "y0": -2.5,
          "y1": -4
         },
         {
          "layer": "below",
          "line": {
           "color": "#6175c1",
           "width": 4
          },
          "type": "line",
          "x0": 15.25,
          "x1": 27.5,
          "y0": 3.5,
          "y1": 3.5
         },
         {
          "layer": "below",
          "line": {
           "color": "#6175c1",
           "width": 4
          },
          "type": "line",
          "x0": 17.625,
          "x1": 34.625,
          "y0": 2,
          "y1": 0.5
         },
         {
          "layer": "below",
          "line": {
           "color": "#6175c1",
           "width": 4
          },
          "type": "line",
          "x0": 18.8125,
          "x1": 35.8125,
          "y0": 0.5,
          "y1": -1
         },
         {
          "layer": "below",
          "line": {
           "color": "#6175c1",
           "width": 4
          },
          "type": "line",
          "x0": 19.40625,
          "x1": 36.40625,
          "y0": -1,
          "y1": -2.5
         },
         {
          "layer": "below",
          "line": {
           "color": "#6175c1",
           "width": 4
          },
          "type": "line",
          "x0": 19.40625,
          "x1": 36.40625,
          "y0": -2.5,
          "y1": -4
         },
         {
          "layer": "below",
          "line": {
           "color": "#6175c1",
           "width": 4
          },
          "type": "line",
          "x0": 18.21875,
          "x1": 35.21875,
          "y0": -1,
          "y1": -2.5
         },
         {
          "layer": "below",
          "line": {
           "color": "#6175c1",
           "width": 4
          },
          "type": "line",
          "x0": 16.4375,
          "x1": 33.4375,
          "y0": 0.5,
          "y1": -1
         },
         {
          "layer": "below",
          "line": {
           "color": "#6175c1",
           "width": 4
          },
          "type": "line",
          "x0": 12.875,
          "x1": 22.75,
          "y0": 2,
          "y1": 2
         },
         {
          "layer": "below",
          "line": {
           "color": "#6175c1",
           "width": 4
          },
          "type": "line",
          "x0": 14.0625,
          "x1": 25.125,
          "y0": 0.5,
          "y1": 0.5
         },
         {
          "layer": "below",
          "line": {
           "color": "#6175c1",
           "width": 4
          },
          "type": "line",
          "x0": 13.46875,
          "x1": 25.125,
          "y0": -1,
          "y1": -1
         },
         {
          "layer": "below",
          "line": {
           "color": "#6175c1",
           "width": 4
          },
          "type": "line",
          "x0": 11.6875,
          "x1": 20.375,
          "y0": 0.5,
          "y1": 0.5
         }
        ],
        "template": {
         "data": {
          "bar": [
           {
            "error_x": {
             "color": "#2a3f5f"
            },
            "error_y": {
             "color": "#2a3f5f"
            },
            "marker": {
             "line": {
              "color": "#E5ECF6",
              "width": 0.5
             },
             "pattern": {
              "fillmode": "overlay",
              "size": 10,
              "solidity": 0.2
             }
            },
            "type": "bar"
           }
          ],
          "barpolar": [
           {
            "marker": {
             "line": {
              "color": "#E5ECF6",
              "width": 0.5
             },
             "pattern": {
              "fillmode": "overlay",
              "size": 10,
              "solidity": 0.2
             }
            },
            "type": "barpolar"
           }
          ],
          "carpet": [
           {
            "aaxis": {
             "endlinecolor": "#2a3f5f",
             "gridcolor": "white",
             "linecolor": "white",
             "minorgridcolor": "white",
             "startlinecolor": "#2a3f5f"
            },
            "baxis": {
             "endlinecolor": "#2a3f5f",
             "gridcolor": "white",
             "linecolor": "white",
             "minorgridcolor": "white",
             "startlinecolor": "#2a3f5f"
            },
            "type": "carpet"
           }
          ],
          "choropleth": [
           {
            "colorbar": {
             "outlinewidth": 0,
             "ticks": ""
            },
            "type": "choropleth"
           }
          ],
          "contour": [
           {
            "colorbar": {
             "outlinewidth": 0,
             "ticks": ""
            },
            "colorscale": [
             [
              0,
              "#0d0887"
             ],
             [
              0.1111111111111111,
              "#46039f"
             ],
             [
              0.2222222222222222,
              "#7201a8"
             ],
             [
              0.3333333333333333,
              "#9c179e"
             ],
             [
              0.4444444444444444,
              "#bd3786"
             ],
             [
              0.5555555555555556,
              "#d8576b"
             ],
             [
              0.6666666666666666,
              "#ed7953"
             ],
             [
              0.7777777777777778,
              "#fb9f3a"
             ],
             [
              0.8888888888888888,
              "#fdca26"
             ],
             [
              1,
              "#f0f921"
             ]
            ],
            "type": "contour"
           }
          ],
          "contourcarpet": [
           {
            "colorbar": {
             "outlinewidth": 0,
             "ticks": ""
            },
            "type": "contourcarpet"
           }
          ],
          "heatmap": [
           {
            "colorbar": {
             "outlinewidth": 0,
             "ticks": ""
            },
            "colorscale": [
             [
              0,
              "#0d0887"
             ],
             [
              0.1111111111111111,
              "#46039f"
             ],
             [
              0.2222222222222222,
              "#7201a8"
             ],
             [
              0.3333333333333333,
              "#9c179e"
             ],
             [
              0.4444444444444444,
              "#bd3786"
             ],
             [
              0.5555555555555556,
              "#d8576b"
             ],
             [
              0.6666666666666666,
              "#ed7953"
             ],
             [
              0.7777777777777778,
              "#fb9f3a"
             ],
             [
              0.8888888888888888,
              "#fdca26"
             ],
             [
              1,
              "#f0f921"
             ]
            ],
            "type": "heatmap"
           }
          ],
          "heatmapgl": [
           {
            "colorbar": {
             "outlinewidth": 0,
             "ticks": ""
            },
            "colorscale": [
             [
              0,
              "#0d0887"
             ],
             [
              0.1111111111111111,
              "#46039f"
             ],
             [
              0.2222222222222222,
              "#7201a8"
             ],
             [
              0.3333333333333333,
              "#9c179e"
             ],
             [
              0.4444444444444444,
              "#bd3786"
             ],
             [
              0.5555555555555556,
              "#d8576b"
             ],
             [
              0.6666666666666666,
              "#ed7953"
             ],
             [
              0.7777777777777778,
              "#fb9f3a"
             ],
             [
              0.8888888888888888,
              "#fdca26"
             ],
             [
              1,
              "#f0f921"
             ]
            ],
            "type": "heatmapgl"
           }
          ],
          "histogram": [
           {
            "marker": {
             "pattern": {
              "fillmode": "overlay",
              "size": 10,
              "solidity": 0.2
             }
            },
            "type": "histogram"
           }
          ],
          "histogram2d": [
           {
            "colorbar": {
             "outlinewidth": 0,
             "ticks": ""
            },
            "colorscale": [
             [
              0,
              "#0d0887"
             ],
             [
              0.1111111111111111,
              "#46039f"
             ],
             [
              0.2222222222222222,
              "#7201a8"
             ],
             [
              0.3333333333333333,
              "#9c179e"
             ],
             [
              0.4444444444444444,
              "#bd3786"
             ],
             [
              0.5555555555555556,
              "#d8576b"
             ],
             [
              0.6666666666666666,
              "#ed7953"
             ],
             [
              0.7777777777777778,
              "#fb9f3a"
             ],
             [
              0.8888888888888888,
              "#fdca26"
             ],
             [
              1,
              "#f0f921"
             ]
            ],
            "type": "histogram2d"
           }
          ],
          "histogram2dcontour": [
           {
            "colorbar": {
             "outlinewidth": 0,
             "ticks": ""
            },
            "colorscale": [
             [
              0,
              "#0d0887"
             ],
             [
              0.1111111111111111,
              "#46039f"
             ],
             [
              0.2222222222222222,
              "#7201a8"
             ],
             [
              0.3333333333333333,
              "#9c179e"
             ],
             [
              0.4444444444444444,
              "#bd3786"
             ],
             [
              0.5555555555555556,
              "#d8576b"
             ],
             [
              0.6666666666666666,
              "#ed7953"
             ],
             [
              0.7777777777777778,
              "#fb9f3a"
             ],
             [
              0.8888888888888888,
              "#fdca26"
             ],
             [
              1,
              "#f0f921"
             ]
            ],
            "type": "histogram2dcontour"
           }
          ],
          "mesh3d": [
           {
            "colorbar": {
             "outlinewidth": 0,
             "ticks": ""
            },
            "type": "mesh3d"
           }
          ],
          "parcoords": [
           {
            "line": {
             "colorbar": {
              "outlinewidth": 0,
              "ticks": ""
             }
            },
            "type": "parcoords"
           }
          ],
          "pie": [
           {
            "automargin": true,
            "type": "pie"
           }
          ],
          "scatter": [
           {
            "fillpattern": {
             "fillmode": "overlay",
             "size": 10,
             "solidity": 0.2
            },
            "type": "scatter"
           }
          ],
          "scatter3d": [
           {
            "line": {
             "colorbar": {
              "outlinewidth": 0,
              "ticks": ""
             }
            },
            "marker": {
             "colorbar": {
              "outlinewidth": 0,
              "ticks": ""
             }
            },
            "type": "scatter3d"
           }
          ],
          "scattercarpet": [
           {
            "marker": {
             "colorbar": {
              "outlinewidth": 0,
              "ticks": ""
             }
            },
            "type": "scattercarpet"
           }
          ],
          "scattergeo": [
           {
            "marker": {
             "colorbar": {
              "outlinewidth": 0,
              "ticks": ""
             }
            },
            "type": "scattergeo"
           }
          ],
          "scattergl": [
           {
            "marker": {
             "colorbar": {
              "outlinewidth": 0,
              "ticks": ""
             }
            },
            "type": "scattergl"
           }
          ],
          "scattermapbox": [
           {
            "marker": {
             "colorbar": {
              "outlinewidth": 0,
              "ticks": ""
             }
            },
            "type": "scattermapbox"
           }
          ],
          "scatterpolar": [
           {
            "marker": {
             "colorbar": {
              "outlinewidth": 0,
              "ticks": ""
             }
            },
            "type": "scatterpolar"
           }
          ],
          "scatterpolargl": [
           {
            "marker": {
             "colorbar": {
              "outlinewidth": 0,
              "ticks": ""
             }
            },
            "type": "scatterpolargl"
           }
          ],
          "scatterternary": [
           {
            "marker": {
             "colorbar": {
              "outlinewidth": 0,
              "ticks": ""
             }
            },
            "type": "scatterternary"
           }
          ],
          "surface": [
           {
            "colorbar": {
             "outlinewidth": 0,
             "ticks": ""
            },
            "colorscale": [
             [
              0,
              "#0d0887"
             ],
             [
              0.1111111111111111,
              "#46039f"
             ],
             [
              0.2222222222222222,
              "#7201a8"
             ],
             [
              0.3333333333333333,
              "#9c179e"
             ],
             [
              0.4444444444444444,
              "#bd3786"
             ],
             [
              0.5555555555555556,
              "#d8576b"
             ],
             [
              0.6666666666666666,
              "#ed7953"
             ],
             [
              0.7777777777777778,
              "#fb9f3a"
             ],
             [
              0.8888888888888888,
              "#fdca26"
             ],
             [
              1,
              "#f0f921"
             ]
            ],
            "type": "surface"
           }
          ],
          "table": [
           {
            "cells": {
             "fill": {
              "color": "#EBF0F8"
             },
             "line": {
              "color": "white"
             }
            },
            "header": {
             "fill": {
              "color": "#C8D4E3"
             },
             "line": {
              "color": "white"
             }
            },
            "type": "table"
           }
          ]
         },
         "layout": {
          "annotationdefaults": {
           "arrowcolor": "#2a3f5f",
           "arrowhead": 0,
           "arrowwidth": 1
          },
          "autotypenumbers": "strict",
          "coloraxis": {
           "colorbar": {
            "outlinewidth": 0,
            "ticks": ""
           }
          },
          "colorscale": {
           "diverging": [
            [
             0,
             "#8e0152"
            ],
            [
             0.1,
             "#c51b7d"
            ],
            [
             0.2,
             "#de77ae"
            ],
            [
             0.3,
             "#f1b6da"
            ],
            [
             0.4,
             "#fde0ef"
            ],
            [
             0.5,
             "#f7f7f7"
            ],
            [
             0.6,
             "#e6f5d0"
            ],
            [
             0.7,
             "#b8e186"
            ],
            [
             0.8,
             "#7fbc41"
            ],
            [
             0.9,
             "#4d9221"
            ],
            [
             1,
             "#276419"
            ]
           ],
           "sequential": [
            [
             0,
             "#0d0887"
            ],
            [
             0.1111111111111111,
             "#46039f"
            ],
            [
             0.2222222222222222,
             "#7201a8"
            ],
            [
             0.3333333333333333,
             "#9c179e"
            ],
            [
             0.4444444444444444,
             "#bd3786"
            ],
            [
             0.5555555555555556,
             "#d8576b"
            ],
            [
             0.6666666666666666,
             "#ed7953"
            ],
            [
             0.7777777777777778,
             "#fb9f3a"
            ],
            [
             0.8888888888888888,
             "#fdca26"
            ],
            [
             1,
             "#f0f921"
            ]
           ],
           "sequentialminus": [
            [
             0,
             "#0d0887"
            ],
            [
             0.1111111111111111,
             "#46039f"
            ],
            [
             0.2222222222222222,
             "#7201a8"
            ],
            [
             0.3333333333333333,
             "#9c179e"
            ],
            [
             0.4444444444444444,
             "#bd3786"
            ],
            [
             0.5555555555555556,
             "#d8576b"
            ],
            [
             0.6666666666666666,
             "#ed7953"
            ],
            [
             0.7777777777777778,
             "#fb9f3a"
            ],
            [
             0.8888888888888888,
             "#fdca26"
            ],
            [
             1,
             "#f0f921"
            ]
           ]
          },
          "colorway": [
           "#636efa",
           "#EF553B",
           "#00cc96",
           "#ab63fa",
           "#FFA15A",
           "#19d3f3",
           "#FF6692",
           "#B6E880",
           "#FF97FF",
           "#FECB52"
          ],
          "font": {
           "color": "#2a3f5f"
          },
          "geo": {
           "bgcolor": "white",
           "lakecolor": "white",
           "landcolor": "#E5ECF6",
           "showlakes": true,
           "showland": true,
           "subunitcolor": "white"
          },
          "hoverlabel": {
           "align": "left"
          },
          "hovermode": "closest",
          "mapbox": {
           "style": "light"
          },
          "paper_bgcolor": "white",
          "plot_bgcolor": "#E5ECF6",
          "polar": {
           "angularaxis": {
            "gridcolor": "white",
            "linecolor": "white",
            "ticks": ""
           },
           "bgcolor": "#E5ECF6",
           "radialaxis": {
            "gridcolor": "white",
            "linecolor": "white",
            "ticks": ""
           }
          },
          "scene": {
           "xaxis": {
            "backgroundcolor": "#E5ECF6",
            "gridcolor": "white",
            "gridwidth": 2,
            "linecolor": "white",
            "showbackground": true,
            "ticks": "",
            "zerolinecolor": "white"
           },
           "yaxis": {
            "backgroundcolor": "#E5ECF6",
            "gridcolor": "white",
            "gridwidth": 2,
            "linecolor": "white",
            "showbackground": true,
            "ticks": "",
            "zerolinecolor": "white"
           },
           "zaxis": {
            "backgroundcolor": "#E5ECF6",
            "gridcolor": "white",
            "gridwidth": 2,
            "linecolor": "white",
            "showbackground": true,
            "ticks": "",
            "zerolinecolor": "white"
           }
          },
          "shapedefaults": {
           "line": {
            "color": "#2a3f5f"
           }
          },
          "ternary": {
           "aaxis": {
            "gridcolor": "white",
            "linecolor": "white",
            "ticks": ""
           },
           "baxis": {
            "gridcolor": "white",
            "linecolor": "white",
            "ticks": ""
           },
           "bgcolor": "#E5ECF6",
           "caxis": {
            "gridcolor": "white",
            "linecolor": "white",
            "ticks": ""
           }
          },
          "title": {
           "x": 0.05
          },
          "xaxis": {
           "automargin": true,
           "gridcolor": "white",
           "linecolor": "white",
           "ticks": "",
           "title": {
            "standoff": 15
           },
           "zerolinecolor": "white",
           "zerolinewidth": 2
          },
          "yaxis": {
           "automargin": true,
           "gridcolor": "white",
           "linecolor": "white",
           "ticks": "",
           "title": {
            "standoff": 15
           },
           "zerolinecolor": "white",
           "zerolinewidth": 2
          }
         }
        },
        "width": 1000,
        "xaxis": {
         "showgrid": false,
         "showline": false,
         "showticklabels": false,
         "zeroline": false
        },
        "yaxis": {
         "showgrid": false,
         "showline": false,
         "showticklabels": false,
         "zeroline": false
        }
       }
      }
     },
     "metadata": {},
     "output_type": "display_data"
    }
   ],
   "source": [
    "nodes1 = build_hyper_tree_from_folder('./datas/impute/1/',True)\n",
    "nodes2 = build_hyper_tree_from_folder('./datas/impute/2/',True)\n",
    "nodes_merge1 = [];\n",
    "nodes_merge2 = [];\n",
    "add_meta(nodes1[0],meta_list1,[])\n",
    "add_meta(nodes2[0],meta_list2,[])\n",
    "T=tree_alignment(nodes1[0],nodes2[0],1);\n",
    "minn = T.run_alignment();\n",
    "T.show_ans();\n",
    "ans = T.get_ans()\n",
    "t=show_graph(ans,nodes1[0],nodes2[0]);\n",
    "t.show_fig()"
   ]
  },
  {
   "cell_type": "code",
   "execution_count": null,
   "metadata": {},
   "outputs": [],
   "source": []
  },
  {
   "cell_type": "code",
   "execution_count": null,
   "metadata": {},
   "outputs": [
    {
     "data": {
      "text/plain": [
       "['Th17', 'Th17', 'Th17', 'Th17', 'Th17', 'Th17', 'Th17', 'Th17']"
      ]
     },
     "metadata": {},
     "output_type": "display_data"
    }
   ],
   "source": [
    "meta_list2"
   ]
  }
 ],
 "metadata": {
  "kernelspec": {
   "display_name": "base",
   "language": "python",
   "name": "python3"
  },
  "language_info": {
   "codemirror_mode": {
    "name": "ipython",
    "version": 3
   },
   "file_extension": ".py",
   "mimetype": "text/x-python",
   "name": "python",
   "nbconvert_exporter": "python",
   "pygments_lexer": "ipython3",
   "version": "3.8.16"
  }
 },
 "nbformat": 4,
 "nbformat_minor": 2
}
