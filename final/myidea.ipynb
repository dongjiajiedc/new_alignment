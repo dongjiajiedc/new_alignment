{
 "cells": [
  {
   "cell_type": "code",
   "execution_count": 2,
   "metadata": {},
   "outputs": [],
   "source": [
    "from hyper import *\n",
    "from alignment import *\n",
    "from datasets.preprecossing import *\n",
    "from core import *\n",
    "from datasets.loading import *\n",
    "from datasets.hc_dataset import *\n",
    "from datasets.balance_dataset import *\n",
    "from utils.linkage import *\n",
    "from model.balancehc import balancehc\n",
    "\n",
    "from utils.poincare import *\n",
    "import scib\n",
    "import shutil\n",
    "\n"
   ]
  },
  {
   "cell_type": "code",
   "execution_count": 3,
   "metadata": {},
   "outputs": [],
   "source": [
    "cell_path1 = './datas/111/CHOL_GSE142784.h5ad'\n",
    "folder_path1 = './datas/i/'\n",
    "radius1 = 0\n",
    "c1 =0\n",
    "epoches1 =  50\n",
    "epoches2 =  10\n",
    "contin = False\n",
    "resolution=2\n",
    "method='average'\n",
    "alignment=1\n",
    "n_pca=50\n",
    "meta_col = 'Celltype..major.lineage.'\n",
    "mst = False\n"
   ]
  },
  {
   "cell_type": "code",
   "execution_count": 4,
   "metadata": {},
   "outputs": [
    {
     "data": {
      "text/plain": [
       "AnnData object with n_obs × n_vars = 2452 × 636\n",
       "    obs: 'celltype', 'celltype1', 'leiden'\n",
       "    var: 'n_cells'"
      ]
     },
     "execution_count": 4,
     "metadata": {},
     "output_type": "execute_result"
    }
   ],
   "source": [
    "adata1 = sc.read_h5ad('./datas/miss/1/'+\"save.h5ad\")\n",
    "adata1"
   ]
  },
  {
   "cell_type": "code",
   "execution_count": 5,
   "metadata": {},
   "outputs": [
    {
     "name": "stderr",
     "output_type": "stream",
     "text": [
      "/Users/dongjiajie/opt/anaconda3/lib/python3.8/site-packages/anndata/_io/specs/methods.py:590: OldFormatWarning: Element '/obs/orig.ident' was written without encoding metadata.\n",
      "  return read_elem(dataset)\n",
      "/Users/dongjiajie/opt/anaconda3/lib/python3.8/site-packages/anndata/_io/specs/methods.py:590: OldFormatWarning: Element '/obs/nCount_RNA' was written without encoding metadata.\n",
      "  return read_elem(dataset)\n",
      "/Users/dongjiajie/opt/anaconda3/lib/python3.8/site-packages/anndata/_io/specs/methods.py:590: OldFormatWarning: Element '/obs/nFeature_RNA' was written without encoding metadata.\n",
      "  return read_elem(dataset)\n",
      "/Users/dongjiajie/opt/anaconda3/lib/python3.8/site-packages/anndata/_io/specs/methods.py:590: OldFormatWarning: Element '/obs/UMAP_1' was written without encoding metadata.\n",
      "  return read_elem(dataset)\n",
      "/Users/dongjiajie/opt/anaconda3/lib/python3.8/site-packages/anndata/_io/specs/methods.py:590: OldFormatWarning: Element '/obs/UMAP_2' was written without encoding metadata.\n",
      "  return read_elem(dataset)\n",
      "/Users/dongjiajie/opt/anaconda3/lib/python3.8/site-packages/anndata/_io/specs/methods.py:590: OldFormatWarning: Element '/obs/Celltype..malignancy.' was written without encoding metadata.\n",
      "  return read_elem(dataset)\n",
      "/Users/dongjiajie/opt/anaconda3/lib/python3.8/site-packages/anndata/_io/specs/methods.py:590: OldFormatWarning: Element '/obs/Celltype..major.lineage.' was written without encoding metadata.\n",
      "  return read_elem(dataset)\n",
      "/Users/dongjiajie/opt/anaconda3/lib/python3.8/site-packages/anndata/_io/specs/methods.py:590: OldFormatWarning: Element '/obs/Celltype..minor.lineage.' was written without encoding metadata.\n",
      "  return read_elem(dataset)\n",
      "/Users/dongjiajie/opt/anaconda3/lib/python3.8/site-packages/anndata/_io/specs/methods.py:590: OldFormatWarning: Element '/obs/Cluster' was written without encoding metadata.\n",
      "  return read_elem(dataset)\n",
      "/Users/dongjiajie/opt/anaconda3/lib/python3.8/site-packages/anndata/_io/specs/methods.py:590: OldFormatWarning: Element '/obs/Patient' was written without encoding metadata.\n",
      "  return read_elem(dataset)\n",
      "/Users/dongjiajie/opt/anaconda3/lib/python3.8/site-packages/anndata/_io/specs/methods.py:590: OldFormatWarning: Element '/obs/Source' was written without encoding metadata.\n",
      "  return read_elem(dataset)\n",
      "/Users/dongjiajie/opt/anaconda3/lib/python3.8/site-packages/anndata/_io/specs/methods.py:590: OldFormatWarning: Element '/obs/Gender' was written without encoding metadata.\n",
      "  return read_elem(dataset)\n",
      "/Users/dongjiajie/opt/anaconda3/lib/python3.8/site-packages/anndata/_io/specs/methods.py:590: OldFormatWarning: Element '/obs/Stage' was written without encoding metadata.\n",
      "  return read_elem(dataset)\n",
      "/Users/dongjiajie/opt/anaconda3/lib/python3.8/site-packages/anndata/_io/specs/methods.py:590: OldFormatWarning: Element '/obs/_index' was written without encoding metadata.\n",
      "  return read_elem(dataset)\n",
      "/Users/dongjiajie/opt/anaconda3/lib/python3.8/site-packages/anndata/_io/h5ad.py:238: OldFormatWarning: Element '/obsm' was written without encoding metadata.\n",
      "  d[k] = read_elem(f[k])\n",
      "/Users/dongjiajie/opt/anaconda3/lib/python3.8/site-packages/anndata/_io/specs/methods.py:590: OldFormatWarning: Element '/var/features' was written without encoding metadata.\n",
      "  return read_elem(dataset)\n",
      "/Users/dongjiajie/opt/anaconda3/lib/python3.8/site-packages/anndata/_io/specs/methods.py:590: OldFormatWarning: Element '/var/_index' was written without encoding metadata.\n",
      "  return read_elem(dataset)\n",
      "/Users/dongjiajie/opt/anaconda3/lib/python3.8/site-packages/anndata/_io/h5ad.py:238: OldFormatWarning: Element '/varm' was written without encoding metadata.\n",
      "  d[k] = read_elem(f[k])\n",
      "/Users/dongjiajie/opt/anaconda3/lib/python3.8/site-packages/anndata/_io/h5ad.py:272: OldFormatWarning: Element '/raw/var' was written without encoding metadata.\n",
      "  raw[v] = read_elem(f[f\"raw/{v}\"])\n",
      "/Users/dongjiajie/opt/anaconda3/lib/python3.8/site-packages/anndata/_io/specs/methods.py:92: OldFormatWarning: Element '/raw/var/_index' was written without encoding metadata.\n",
      "  return {k: read_elem(v) for k, v in elem.items()}\n"
     ]
    },
    {
     "data": {
      "text/plain": [
       "AnnData object with n_obs × n_vars = 6035 × 12750\n",
       "    obs: 'orig.ident', 'nCount_RNA', 'nFeature_RNA', 'UMAP_1', 'UMAP_2', 'Celltype..malignancy.', 'Celltype..major.lineage.', 'Celltype..minor.lineage.', 'Cluster', 'Patient', 'Source', 'Gender', 'Stage'\n",
       "    var: 'features'"
      ]
     },
     "execution_count": 5,
     "metadata": {},
     "output_type": "execute_result"
    }
   ],
   "source": [
    "datas =sc.read_h5ad('./datas/111/BRCA_GSE110686.h5ad')\n",
    "datas"
   ]
  },
  {
   "cell_type": "code",
   "execution_count": 6,
   "metadata": {},
   "outputs": [],
   "source": [
    "adata = datas[adata1.obs.index.tolist(),[ i for i in adata1.var.index if i in datas.var.index]]"
   ]
  },
  {
   "cell_type": "code",
   "execution_count": 7,
   "metadata": {},
   "outputs": [
    {
     "name": "stderr",
     "output_type": "stream",
     "text": [
      "/Users/dongjiajie/opt/anaconda3/lib/python3.8/site-packages/scanpy/preprocessing/_simple.py:140: ImplicitModificationWarning: Trying to modify attribute `.obs` of view, initializing view as actual.\n",
      "  adata.obs['n_genes'] = number\n",
      "/Users/dongjiajie/opt/anaconda3/lib/python3.8/contextlib.py:120: FutureWarning: X.dtype being converted to np.float32 from float64. In the next version of anndata (0.9) conversion will not be automatic. Pass dtype explicitly to avoid this warning. Pass `AnnData(X, dtype=X.dtype, ...)` to get the future behavour.\n",
      "  next(self.gen)\n"
     ]
    },
    {
     "data": {
      "text/plain": [
       "AnnData object with n_obs × n_vars = 1803 × 627\n",
       "    obs: 'orig.ident', 'nCount_RNA', 'nFeature_RNA', 'UMAP_1', 'UMAP_2', 'Celltype..malignancy.', 'Celltype..major.lineage.', 'Celltype..minor.lineage.', 'Cluster', 'Patient', 'Source', 'Gender', 'Stage', 'n_genes'\n",
       "    var: 'features', 'n_cells'\n",
       "    uns: 'log1p'"
      ]
     },
     "execution_count": 7,
     "metadata": {},
     "output_type": "execute_result"
    }
   ],
   "source": [
    "sc.pp.filter_cells(adata, min_genes=200)\n",
    "sc.pp.filter_genes(adata, min_cells=3)\n",
    "sc.pp.normalize_total(adata, exclude_highly_expressed=True)\n",
    "sc.pp.log1p(adata)\n",
    "adata"
   ]
  },
  {
   "cell_type": "code",
   "execution_count": 8,
   "metadata": {},
   "outputs": [
    {
     "data": {
      "text/html": [
       "<div>\n",
       "<style scoped>\n",
       "    .dataframe tbody tr th:only-of-type {\n",
       "        vertical-align: middle;\n",
       "    }\n",
       "\n",
       "    .dataframe tbody tr th {\n",
       "        vertical-align: top;\n",
       "    }\n",
       "\n",
       "    .dataframe thead th {\n",
       "        text-align: right;\n",
       "    }\n",
       "</style>\n",
       "<table border=\"1\" class=\"dataframe\">\n",
       "  <thead>\n",
       "    <tr style=\"text-align: right;\">\n",
       "      <th></th>\n",
       "      <th>GZMK</th>\n",
       "      <th>TMSB4X</th>\n",
       "      <th>CCL5</th>\n",
       "      <th>RPS27</th>\n",
       "      <th>MALAT1</th>\n",
       "      <th>RPL10</th>\n",
       "      <th>RPL41</th>\n",
       "      <th>GZMA</th>\n",
       "      <th>RPS14</th>\n",
       "      <th>RPS18</th>\n",
       "      <th>...</th>\n",
       "      <th>COPZ1</th>\n",
       "      <th>ARPC4</th>\n",
       "      <th>NOP10</th>\n",
       "      <th>UBE2D2</th>\n",
       "      <th>NDUFA1</th>\n",
       "      <th>EDF1</th>\n",
       "      <th>ATP5C1</th>\n",
       "      <th>C12orf57</th>\n",
       "      <th>ISCU</th>\n",
       "      <th>COX8A</th>\n",
       "    </tr>\n",
       "  </thead>\n",
       "  <tbody>\n",
       "    <tr>\n",
       "      <th>CTCCTAGTCTGGCGTG-2</th>\n",
       "      <td>0.000000</td>\n",
       "      <td>1.921308</td>\n",
       "      <td>0.000000</td>\n",
       "      <td>1.666132</td>\n",
       "      <td>1.962387</td>\n",
       "      <td>1.591665</td>\n",
       "      <td>1.625788</td>\n",
       "      <td>0.000000</td>\n",
       "      <td>1.535567</td>\n",
       "      <td>1.591665</td>\n",
       "      <td>...</td>\n",
       "      <td>0.000000</td>\n",
       "      <td>0.842998</td>\n",
       "      <td>0.000000</td>\n",
       "      <td>0.000000</td>\n",
       "      <td>1.161456</td>\n",
       "      <td>1.161456</td>\n",
       "      <td>1.161456</td>\n",
       "      <td>0.000000</td>\n",
       "      <td>1.049278</td>\n",
       "      <td>1.049278</td>\n",
       "    </tr>\n",
       "    <tr>\n",
       "      <th>GACCTGGAGTAATCCC-3</th>\n",
       "      <td>0.000000</td>\n",
       "      <td>1.840963</td>\n",
       "      <td>1.722969</td>\n",
       "      <td>1.537971</td>\n",
       "      <td>2.073319</td>\n",
       "      <td>1.566072</td>\n",
       "      <td>1.611526</td>\n",
       "      <td>1.412280</td>\n",
       "      <td>1.537971</td>\n",
       "      <td>1.504655</td>\n",
       "      <td>...</td>\n",
       "      <td>0.000000</td>\n",
       "      <td>0.000000</td>\n",
       "      <td>0.000000</td>\n",
       "      <td>1.039355</td>\n",
       "      <td>0.000000</td>\n",
       "      <td>1.039355</td>\n",
       "      <td>0.000000</td>\n",
       "      <td>0.000000</td>\n",
       "      <td>1.039355</td>\n",
       "      <td>1.237123</td>\n",
       "    </tr>\n",
       "    <tr>\n",
       "      <th>ATCTGCCAGTGTCCAT-3</th>\n",
       "      <td>0.000000</td>\n",
       "      <td>1.926578</td>\n",
       "      <td>0.000000</td>\n",
       "      <td>1.885430</td>\n",
       "      <td>2.077634</td>\n",
       "      <td>1.819139</td>\n",
       "      <td>1.848099</td>\n",
       "      <td>0.000000</td>\n",
       "      <td>1.713696</td>\n",
       "      <td>1.728801</td>\n",
       "      <td>...</td>\n",
       "      <td>0.000000</td>\n",
       "      <td>0.000000</td>\n",
       "      <td>0.897057</td>\n",
       "      <td>0.000000</td>\n",
       "      <td>0.000000</td>\n",
       "      <td>0.897057</td>\n",
       "      <td>0.897057</td>\n",
       "      <td>0.000000</td>\n",
       "      <td>1.114027</td>\n",
       "      <td>0.000000</td>\n",
       "    </tr>\n",
       "    <tr>\n",
       "      <th>GTCCTCAAGTGCCATT-2</th>\n",
       "      <td>0.000000</td>\n",
       "      <td>1.886820</td>\n",
       "      <td>0.000000</td>\n",
       "      <td>1.505638</td>\n",
       "      <td>2.003457</td>\n",
       "      <td>1.402717</td>\n",
       "      <td>1.546978</td>\n",
       "      <td>0.000000</td>\n",
       "      <td>1.337273</td>\n",
       "      <td>1.428529</td>\n",
       "      <td>...</td>\n",
       "      <td>1.053973</td>\n",
       "      <td>0.849874</td>\n",
       "      <td>0.849874</td>\n",
       "      <td>0.849874</td>\n",
       "      <td>1.053973</td>\n",
       "      <td>1.053973</td>\n",
       "      <td>0.000000</td>\n",
       "      <td>0.000000</td>\n",
       "      <td>1.053973</td>\n",
       "      <td>1.164785</td>\n",
       "    </tr>\n",
       "    <tr>\n",
       "      <th>CTGCCTATCGACGGAA-2</th>\n",
       "      <td>1.500692</td>\n",
       "      <td>1.840829</td>\n",
       "      <td>0.000000</td>\n",
       "      <td>1.712664</td>\n",
       "      <td>2.012981</td>\n",
       "      <td>1.759788</td>\n",
       "      <td>1.752875</td>\n",
       "      <td>1.187163</td>\n",
       "      <td>1.693138</td>\n",
       "      <td>1.824428</td>\n",
       "      <td>...</td>\n",
       "      <td>0.000000</td>\n",
       "      <td>0.982330</td>\n",
       "      <td>0.000000</td>\n",
       "      <td>0.982330</td>\n",
       "      <td>0.982330</td>\n",
       "      <td>0.982330</td>\n",
       "      <td>0.000000</td>\n",
       "      <td>0.000000</td>\n",
       "      <td>0.000000</td>\n",
       "      <td>0.000000</td>\n",
       "    </tr>\n",
       "    <tr>\n",
       "      <th>...</th>\n",
       "      <td>...</td>\n",
       "      <td>...</td>\n",
       "      <td>...</td>\n",
       "      <td>...</td>\n",
       "      <td>...</td>\n",
       "      <td>...</td>\n",
       "      <td>...</td>\n",
       "      <td>...</td>\n",
       "      <td>...</td>\n",
       "      <td>...</td>\n",
       "      <td>...</td>\n",
       "      <td>...</td>\n",
       "      <td>...</td>\n",
       "      <td>...</td>\n",
       "      <td>...</td>\n",
       "      <td>...</td>\n",
       "      <td>...</td>\n",
       "      <td>...</td>\n",
       "      <td>...</td>\n",
       "      <td>...</td>\n",
       "      <td>...</td>\n",
       "    </tr>\n",
       "    <tr>\n",
       "      <th>CCCAGTTGTTGCCTCT-1</th>\n",
       "      <td>0.000000</td>\n",
       "      <td>1.839163</td>\n",
       "      <td>0.000000</td>\n",
       "      <td>1.425017</td>\n",
       "      <td>1.967950</td>\n",
       "      <td>1.570438</td>\n",
       "      <td>1.555748</td>\n",
       "      <td>0.000000</td>\n",
       "      <td>1.347443</td>\n",
       "      <td>1.596426</td>\n",
       "      <td>...</td>\n",
       "      <td>0.000000</td>\n",
       "      <td>1.110478</td>\n",
       "      <td>0.907109</td>\n",
       "      <td>0.000000</td>\n",
       "      <td>1.110478</td>\n",
       "      <td>0.907109</td>\n",
       "      <td>0.000000</td>\n",
       "      <td>0.000000</td>\n",
       "      <td>0.000000</td>\n",
       "      <td>0.907109</td>\n",
       "    </tr>\n",
       "    <tr>\n",
       "      <th>TCGTACCTCCGGGTGT-2</th>\n",
       "      <td>1.063754</td>\n",
       "      <td>1.878248</td>\n",
       "      <td>1.269226</td>\n",
       "      <td>1.760878</td>\n",
       "      <td>2.216599</td>\n",
       "      <td>1.771520</td>\n",
       "      <td>1.760878</td>\n",
       "      <td>1.504371</td>\n",
       "      <td>1.634852</td>\n",
       "      <td>1.815990</td>\n",
       "      <td>...</td>\n",
       "      <td>0.000000</td>\n",
       "      <td>0.000000</td>\n",
       "      <td>1.063754</td>\n",
       "      <td>0.000000</td>\n",
       "      <td>0.000000</td>\n",
       "      <td>1.063754</td>\n",
       "      <td>0.000000</td>\n",
       "      <td>0.000000</td>\n",
       "      <td>0.000000</td>\n",
       "      <td>0.000000</td>\n",
       "    </tr>\n",
       "    <tr>\n",
       "      <th>CGATCGGTCATCTGTT-1</th>\n",
       "      <td>0.000000</td>\n",
       "      <td>1.984022</td>\n",
       "      <td>1.490012</td>\n",
       "      <td>1.389917</td>\n",
       "      <td>2.123082</td>\n",
       "      <td>1.644066</td>\n",
       "      <td>1.644066</td>\n",
       "      <td>1.389917</td>\n",
       "      <td>1.605485</td>\n",
       "      <td>1.644066</td>\n",
       "      <td>...</td>\n",
       "      <td>1.389917</td>\n",
       "      <td>1.199988</td>\n",
       "      <td>1.199988</td>\n",
       "      <td>1.199988</td>\n",
       "      <td>1.389917</td>\n",
       "      <td>0.000000</td>\n",
       "      <td>1.199988</td>\n",
       "      <td>1.389917</td>\n",
       "      <td>1.199988</td>\n",
       "      <td>0.000000</td>\n",
       "    </tr>\n",
       "    <tr>\n",
       "      <th>AACTCTTAGCCACCTG-3</th>\n",
       "      <td>0.000000</td>\n",
       "      <td>1.838000</td>\n",
       "      <td>0.000000</td>\n",
       "      <td>1.710487</td>\n",
       "      <td>2.038023</td>\n",
       "      <td>1.679675</td>\n",
       "      <td>1.686362</td>\n",
       "      <td>1.339627</td>\n",
       "      <td>1.514875</td>\n",
       "      <td>1.649562</td>\n",
       "      <td>...</td>\n",
       "      <td>0.000000</td>\n",
       "      <td>0.000000</td>\n",
       "      <td>0.897775</td>\n",
       "      <td>0.000000</td>\n",
       "      <td>0.000000</td>\n",
       "      <td>0.897775</td>\n",
       "      <td>0.000000</td>\n",
       "      <td>0.897775</td>\n",
       "      <td>0.897775</td>\n",
       "      <td>0.897775</td>\n",
       "    </tr>\n",
       "    <tr>\n",
       "      <th>GGATTACTCCAGTAGT-2</th>\n",
       "      <td>0.606950</td>\n",
       "      <td>1.752005</td>\n",
       "      <td>1.239395</td>\n",
       "      <td>1.467109</td>\n",
       "      <td>1.800092</td>\n",
       "      <td>1.431013</td>\n",
       "      <td>1.332558</td>\n",
       "      <td>0.917362</td>\n",
       "      <td>1.365561</td>\n",
       "      <td>1.306495</td>\n",
       "      <td>...</td>\n",
       "      <td>0.000000</td>\n",
       "      <td>0.606950</td>\n",
       "      <td>0.994252</td>\n",
       "      <td>0.606950</td>\n",
       "      <td>0.000000</td>\n",
       "      <td>0.804703</td>\n",
       "      <td>0.804703</td>\n",
       "      <td>0.000000</td>\n",
       "      <td>0.804703</td>\n",
       "      <td>0.804703</td>\n",
       "    </tr>\n",
       "  </tbody>\n",
       "</table>\n",
       "<p>1803 rows × 627 columns</p>\n",
       "</div>"
      ],
      "text/plain": [
       "                        GZMK    TMSB4X      CCL5     RPS27    MALAT1  \\\n",
       "CTCCTAGTCTGGCGTG-2  0.000000  1.921308  0.000000  1.666132  1.962387   \n",
       "GACCTGGAGTAATCCC-3  0.000000  1.840963  1.722969  1.537971  2.073319   \n",
       "ATCTGCCAGTGTCCAT-3  0.000000  1.926578  0.000000  1.885430  2.077634   \n",
       "GTCCTCAAGTGCCATT-2  0.000000  1.886820  0.000000  1.505638  2.003457   \n",
       "CTGCCTATCGACGGAA-2  1.500692  1.840829  0.000000  1.712664  2.012981   \n",
       "...                      ...       ...       ...       ...       ...   \n",
       "CCCAGTTGTTGCCTCT-1  0.000000  1.839163  0.000000  1.425017  1.967950   \n",
       "TCGTACCTCCGGGTGT-2  1.063754  1.878248  1.269226  1.760878  2.216599   \n",
       "CGATCGGTCATCTGTT-1  0.000000  1.984022  1.490012  1.389917  2.123082   \n",
       "AACTCTTAGCCACCTG-3  0.000000  1.838000  0.000000  1.710487  2.038023   \n",
       "GGATTACTCCAGTAGT-2  0.606950  1.752005  1.239395  1.467109  1.800092   \n",
       "\n",
       "                       RPL10     RPL41      GZMA     RPS14     RPS18  ...  \\\n",
       "CTCCTAGTCTGGCGTG-2  1.591665  1.625788  0.000000  1.535567  1.591665  ...   \n",
       "GACCTGGAGTAATCCC-3  1.566072  1.611526  1.412280  1.537971  1.504655  ...   \n",
       "ATCTGCCAGTGTCCAT-3  1.819139  1.848099  0.000000  1.713696  1.728801  ...   \n",
       "GTCCTCAAGTGCCATT-2  1.402717  1.546978  0.000000  1.337273  1.428529  ...   \n",
       "CTGCCTATCGACGGAA-2  1.759788  1.752875  1.187163  1.693138  1.824428  ...   \n",
       "...                      ...       ...       ...       ...       ...  ...   \n",
       "CCCAGTTGTTGCCTCT-1  1.570438  1.555748  0.000000  1.347443  1.596426  ...   \n",
       "TCGTACCTCCGGGTGT-2  1.771520  1.760878  1.504371  1.634852  1.815990  ...   \n",
       "CGATCGGTCATCTGTT-1  1.644066  1.644066  1.389917  1.605485  1.644066  ...   \n",
       "AACTCTTAGCCACCTG-3  1.679675  1.686362  1.339627  1.514875  1.649562  ...   \n",
       "GGATTACTCCAGTAGT-2  1.431013  1.332558  0.917362  1.365561  1.306495  ...   \n",
       "\n",
       "                       COPZ1     ARPC4     NOP10    UBE2D2    NDUFA1  \\\n",
       "CTCCTAGTCTGGCGTG-2  0.000000  0.842998  0.000000  0.000000  1.161456   \n",
       "GACCTGGAGTAATCCC-3  0.000000  0.000000  0.000000  1.039355  0.000000   \n",
       "ATCTGCCAGTGTCCAT-3  0.000000  0.000000  0.897057  0.000000  0.000000   \n",
       "GTCCTCAAGTGCCATT-2  1.053973  0.849874  0.849874  0.849874  1.053973   \n",
       "CTGCCTATCGACGGAA-2  0.000000  0.982330  0.000000  0.982330  0.982330   \n",
       "...                      ...       ...       ...       ...       ...   \n",
       "CCCAGTTGTTGCCTCT-1  0.000000  1.110478  0.907109  0.000000  1.110478   \n",
       "TCGTACCTCCGGGTGT-2  0.000000  0.000000  1.063754  0.000000  0.000000   \n",
       "CGATCGGTCATCTGTT-1  1.389917  1.199988  1.199988  1.199988  1.389917   \n",
       "AACTCTTAGCCACCTG-3  0.000000  0.000000  0.897775  0.000000  0.000000   \n",
       "GGATTACTCCAGTAGT-2  0.000000  0.606950  0.994252  0.606950  0.000000   \n",
       "\n",
       "                        EDF1    ATP5C1  C12orf57      ISCU     COX8A  \n",
       "CTCCTAGTCTGGCGTG-2  1.161456  1.161456  0.000000  1.049278  1.049278  \n",
       "GACCTGGAGTAATCCC-3  1.039355  0.000000  0.000000  1.039355  1.237123  \n",
       "ATCTGCCAGTGTCCAT-3  0.897057  0.897057  0.000000  1.114027  0.000000  \n",
       "GTCCTCAAGTGCCATT-2  1.053973  0.000000  0.000000  1.053973  1.164785  \n",
       "CTGCCTATCGACGGAA-2  0.982330  0.000000  0.000000  0.000000  0.000000  \n",
       "...                      ...       ...       ...       ...       ...  \n",
       "CCCAGTTGTTGCCTCT-1  0.907109  0.000000  0.000000  0.000000  0.907109  \n",
       "TCGTACCTCCGGGTGT-2  1.063754  0.000000  0.000000  0.000000  0.000000  \n",
       "CGATCGGTCATCTGTT-1  0.000000  1.199988  1.389917  1.199988  0.000000  \n",
       "AACTCTTAGCCACCTG-3  0.897775  0.000000  0.897775  0.897775  0.897775  \n",
       "GGATTACTCCAGTAGT-2  0.804703  0.804703  0.000000  0.804703  0.804703  \n",
       "\n",
       "[1803 rows x 627 columns]"
      ]
     },
     "execution_count": 8,
     "metadata": {},
     "output_type": "execute_result"
    }
   ],
   "source": [
    "sc.pp.highly_variable_genes(\n",
    "    adata,\n",
    "    min_mean=0.0125,\n",
    "    max_mean=3,\n",
    "    min_disp=0.5,\n",
    "    n_top_genes=2000\n",
    ")\n",
    "adata.raw = adata\n",
    "adata._inplace_subset_var(adata.var['highly_variable'])\n",
    "adata.to_df()"
   ]
  },
  {
   "cell_type": "code",
   "execution_count": 9,
   "metadata": {},
   "outputs": [
    {
     "data": {
      "text/plain": [
       "Tfh      799\n",
       "Th17     394\n",
       "CD4Tn    371\n",
       "Th2      239\n",
       "Name: Celltype..minor.lineage., dtype: int64"
      ]
     },
     "execution_count": 9,
     "metadata": {},
     "output_type": "execute_result"
    }
   ],
   "source": [
    "adata.obs['Celltype..minor.lineage.'].value_counts()"
   ]
  },
  {
   "cell_type": "code",
   "execution_count": 10,
   "metadata": {},
   "outputs": [
    {
     "data": {
      "text/plain": [
       "['TTAGGCACATACGCTA-1',\n",
       " 'ACTGCTCTCTTCAACT-3',\n",
       " 'TCGTAGAAGACATAAC-1',\n",
       " 'ACGCCGATCTCCAACC-1',\n",
       " 'TCAGCAAAGCGTGTCC-3',\n",
       " 'GTCGGGTCACAGCCCA-1',\n",
       " 'CATCGGGTCCTCAACC-1',\n",
       " 'GTTCTCGTCCATGCTC-1',\n",
       " 'TACCTATGTACGAAAT-2',\n",
       " 'CAGCATATCGATGAGG-2',\n",
       " 'TACTCGCTCACAAACC-3',\n",
       " 'CGAGCACTCGTCGTTC-3',\n",
       " 'TCTCATATCGCAAGCC-2',\n",
       " 'AGTGAGGGTAGAGCTG-2',\n",
       " 'CACACAATCATAGCAC-1',\n",
       " 'TGTATTCTCATGCATG-2',\n",
       " 'TCGAGGCTCGGCGGTT-1',\n",
       " 'GTGGGTCGTAACGTTC-2',\n",
       " 'ATTCTACGTTGTCTTT-1',\n",
       " 'GGACGTCAGCTGTCTA-2',\n",
       " 'CGCTATCTCCTACAGA-1',\n",
       " 'GCAAACTCATCGATTG-1',\n",
       " 'CTCTAATCAGATGAGC-2',\n",
       " 'GGTATTGTCCGTCATC-1',\n",
       " 'CACCAGGCATCCCATC-2',\n",
       " 'TCGCGAGGTCCTCTTG-2',\n",
       " 'TCATTACGTCTCTTAT-3',\n",
       " 'CGTAGGCTCGCCATAA-2',\n",
       " 'GAATGAATCATGTCCC-2',\n",
       " 'ACTGTCCTCCAAACAC-1',\n",
       " 'TGAGCATCATGGTTGT-2',\n",
       " 'CCATGTCCAAGCTGTT-2',\n",
       " 'CGACCTTTCACAACGT-3',\n",
       " 'AACGTTGAGCTAGTTC-3',\n",
       " 'CATCAAGAGACTAGGC-2',\n",
       " 'TAGCCGGCAGCTGCAC-1',\n",
       " 'GTCAAGTTCCTCATTA-1',\n",
       " 'CTGATCCGTCTCAACA-1',\n",
       " 'GCCTCTATCCGTCAAA-1',\n",
       " 'CGACCTTCATGGGAAC-2',\n",
       " 'TCTTTCCTCATCTGCC-3',\n",
       " 'TCTCTAAGTAGGCTGA-2',\n",
       " 'TTAACTCAGCGACGTA-1',\n",
       " 'AGAGCGATCCAATGGT-2',\n",
       " 'GCCAAATAGAGAACAG-3',\n",
       " 'CGGGTCATCATTGCGA-3',\n",
       " 'CAGAATCGTACTTCTT-1',\n",
       " 'TACGGGCGTCACTTCC-2',\n",
       " 'CTCGTACTCTCTTGAT-2',\n",
       " 'TGCTACCCACAGGTTT-2',\n",
       " 'TGGGAAGTCAGCATGT-2',\n",
       " 'GTGTTAGTCGCTTAGA-3',\n",
       " 'CATGGCGCAGTTCATG-1',\n",
       " 'GTTACAGCAGGGATTG-1',\n",
       " 'GATCGATCAGACGCTC-3',\n",
       " 'TTGACTTCATAGAAAC-3',\n",
       " 'TACAGTGAGGGCTCTC-1',\n",
       " 'GACGTTATCCAATGGT-2',\n",
       " 'CATTCGCTCGTTGCCT-3',\n",
       " 'CGCTATCGTGGCAAAC-2',\n",
       " 'TGACAACGTTAGATGA-2',\n",
       " 'CAGTAACAGCGGCTTC-1',\n",
       " 'ATGTGTGTCTTCAACT-3',\n",
       " 'CTCCTAGCAACACCTA-3',\n",
       " 'GTTCGGGCAATCCGAT-2',\n",
       " 'TCTATTGTCTATCCTA-3',\n",
       " 'AGATCTGTCCAGAGGA-2',\n",
       " 'TTCGGTCCAATGAATG-2',\n",
       " 'ACATACGGTAAATACG-2',\n",
       " 'TGCGCAGCACCTCGTT-2',\n",
       " 'AAAGATGCAGTTCATG-1',\n",
       " 'GACTGCGTCTCAAACG-3',\n",
       " 'CACCTTGAGCTAGGCA-3',\n",
       " 'GAACATCAGTGAACGC-1',\n",
       " 'CTACGTCGTAGCCTCG-1',\n",
       " 'AGCATACTCGCCGTGA-2',\n",
       " 'CACATTTAGCTCCTCT-1',\n",
       " 'CTGCCTATCGACGGAA-2',\n",
       " 'ATAGACCCAAGCTGTT-2',\n",
       " 'GCGAGAAGTGACTCAT-1',\n",
       " 'CAGAGAGGTCGGCACT-1',\n",
       " 'CTGCGGAAGCCAGTTT-2',\n",
       " 'TTGAACGCAATGGAAT-1',\n",
       " 'ATCGAGTCAATGGTCT-1',\n",
       " 'CACAGGCAGTGTCCAT-1',\n",
       " 'GAACATCCAAATTGCC-1',\n",
       " 'TGGCCAGGTGTAACGG-2',\n",
       " 'GCTCTGTAGCTGTTCA-1',\n",
       " 'GTCACGGCACCTCGGA-3',\n",
       " 'GGGCATCAGTATTGGA-2',\n",
       " 'GTGGGTCGTACAGACG-2',\n",
       " 'AAGTCTGAGTGTCCAT-2',\n",
       " 'GAGGTGAAGTGGTAAT-1',\n",
       " 'TGGTTAGTCACCGTAA-2',\n",
       " 'CGGAGTCAGCTGCGAA-2',\n",
       " 'CCGTGGACAGGGTACA-2',\n",
       " 'AACACGTAGCAATATG-3',\n",
       " 'TGGACGCCACCTGGTG-1',\n",
       " 'GTCACGGTCACCAGGC-1',\n",
       " 'GTGCTTCTCAGTTTGG-2',\n",
       " 'AGCAGCCCAGCCACCA-2',\n",
       " 'CGTCAGGTCCCTAACC-2',\n",
       " 'CCTTCCCTCGAGAACG-1',\n",
       " 'TCGGGACTCTGCGACG-2',\n",
       " 'ACACCAAAGCCACTAT-1',\n",
       " 'ACAGCTAAGCAACGGT-2',\n",
       " 'GTAGGCCTCACAGGCC-2',\n",
       " 'TTCGGTCGTGAACCTT-2',\n",
       " 'AGCGTATCAAGAGGCT-3',\n",
       " 'ATCTGCCAGTGTCCAT-3',\n",
       " 'TATCTCATCTGGTGTA-2',\n",
       " 'GATGAGGCAACTGCTA-2',\n",
       " 'TGTCCCAAGGAGCGTT-2',\n",
       " 'CTACACCAGAGCTGCA-3',\n",
       " 'GTTACAGTCAAACAAG-2',\n",
       " 'CAACCTCGTCCCGACA-2',\n",
       " 'TAAGAGAAGTGAACGC-1',\n",
       " 'ACGATACGTCATGCCG-1',\n",
       " 'CCTACACGTCGCGTGT-3',\n",
       " 'GGAAAGCGTAGCGTGA-2',\n",
       " 'AGCTTGACATGCCTTC-2',\n",
       " 'CTCGTCACACAGGCCT-2',\n",
       " 'ACATGGTTCAGCTGGC-2',\n",
       " 'AGCGTATAGCAATCTC-3',\n",
       " 'CCCAATCAGTCGCCGT-2',\n",
       " 'TGAAAGACAGCTTAAC-1',\n",
       " 'AGCGGTCAGAAACGCC-2',\n",
       " 'TGCCCTACAGGCTGAA-3',\n",
       " 'GACCTGGGTAGTGAAT-2',\n",
       " 'GCGGGTTAGATCCCAT-2',\n",
       " 'TACTCGCGTGCGCTTG-1',\n",
       " 'GGGAGATAGCTAGTTC-2',\n",
       " 'TTCTCCTGTCCGAACC-1',\n",
       " 'AGTTGGTGTCATGCCG-1',\n",
       " 'CGTGAGCGTATTACCG-2',\n",
       " 'TTGGCAATCACCTCGT-2',\n",
       " 'TGTGTTTTCAAACAAG-2',\n",
       " 'GCTGCGAGTAAGGATT-1',\n",
       " 'GAGGTGAAGACTGTAA-2',\n",
       " 'AGCTTGAGTCAGATAA-1',\n",
       " 'CCACCTATCCTGCAGG-3',\n",
       " 'CACAAACTCTGTGCAA-1',\n",
       " 'CACCTTGAGCCCAACC-2',\n",
       " 'TATCAGGTCTGCAGTA-2',\n",
       " 'AAACGGGAGTGAAGTT-3',\n",
       " 'CCTTACGAGCGATAGC-1',\n",
       " 'CAACCAAAGAAGGTTT-2',\n",
       " 'GTTTCTAAGTGAACAT-2',\n",
       " 'ACGGGCTTCTTGAGAC-3',\n",
       " 'TAAGAGAGTCGTGGCT-3',\n",
       " 'CGAGCACGTACAGTTC-3',\n",
       " 'ACTATCTGTCTAGCGC-1',\n",
       " 'GTTACAGGTCGCATAT-1',\n",
       " 'TACTTGTCAGGGTATG-2',\n",
       " 'CTGATCCGTTGGTTTG-2',\n",
       " 'TGCCCATAGGCCGAAT-2',\n",
       " 'CTCACACGTTCAACCA-2',\n",
       " 'TACCTTAGTCTGCGGT-3',\n",
       " 'AGCTCTCTCACCAGGC-1',\n",
       " 'TCAGGTACATCGGTTA-2',\n",
       " 'AGGGATGGTACTCGCG-2',\n",
       " 'GACGTTAAGTTTCCTT-2',\n",
       " 'ACGCCGAGTTGAACTC-3',\n",
       " 'TAAGTGCGTAAACACA-1',\n",
       " 'GTCTCGTAGAAGGTGA-1',\n",
       " 'CGTTAGAAGATGCGAC-1',\n",
       " 'GTCATTTTCGCGTAGC-2',\n",
       " 'TTTGTCACACCGAAAG-2',\n",
       " 'CTAGAGTAGGGAGTAA-1',\n",
       " 'GCGACCACAAGCCCAC-1',\n",
       " 'CAGCTAACAAGTAGTA-3',\n",
       " 'TCTTTCCCATGGTCTA-1',\n",
       " 'ACTGAACGTTCCATGA-2',\n",
       " 'TCTGAGATCCACGAAT-2',\n",
       " 'AAGTCTGTCCCTAATT-3',\n",
       " 'CGATTGACACAAGTAA-2',\n",
       " 'AGACGTTCAGACGCTC-1',\n",
       " 'AAGTCTGGTGTCGCTG-2',\n",
       " 'GTGCATATCCCAGGTG-2',\n",
       " 'CTCGTACAGCGCCTCA-1',\n",
       " 'CCAATCCCAGATCGGA-1',\n",
       " 'AAAGATGGTCAACTGT-1',\n",
       " 'ACGATGTGTTTGGCGC-1',\n",
       " 'CACCTTGGTACATGTC-3',\n",
       " 'GTACTTTCACGCTTTC-2',\n",
       " 'CTCTGGTTCTCGCTTG-2',\n",
       " 'ACACCGGGTACCCAAT-2',\n",
       " 'GTAACGTCAAAGGCGT-1',\n",
       " 'CAACTAGTCGCTGATA-2',\n",
       " 'ACGAGGAAGTGGTAGC-2',\n",
       " 'CTAGAGTAGCTAACTC-1',\n",
       " 'CGTCCATTCAGCTTAG-2',\n",
       " 'AGGTCCGGTCTCCCTA-2',\n",
       " 'AAGCCGCCACAGCCCA-1',\n",
       " 'ATTGGTGGTTATGCGT-1',\n",
       " 'ATCCGAAGTGACGCCT-2',\n",
       " 'TGGCGCATCTCAACTT-3',\n",
       " 'GTGCTTCCAGTAAGCG-1',\n",
       " 'TGTGTTTCACCACGTG-1',\n",
       " 'CGACTTCAGCCTATGT-1',\n",
       " 'ACGTCAACAGTCCTTC-1',\n",
       " 'AGGGATGTCACTGGGC-1',\n",
       " 'GTGAAGGCATCACCCT-1',\n",
       " 'ATCCGAAAGATCGATA-2',\n",
       " 'GTACTTTAGGACTGGT-2',\n",
       " 'GCATACAAGGGTCTCC-2',\n",
       " 'CTCGTACGTCCCTTGT-3',\n",
       " 'GGCCGATCAGTAAGAT-3',\n",
       " 'GACGTTAAGGTGCACA-2',\n",
       " 'GTACTTTCAATTGCTG-3',\n",
       " 'CTCATTAAGACTAGAT-1',\n",
       " 'CCGGGATTCAATAAGG-3',\n",
       " 'CGATGGCAGGTACTCT-3',\n",
       " 'GTGAAGGGTGACAAAT-1',\n",
       " 'GGGTTGCAGGTAGCTG-3',\n",
       " 'CACATTTAGAAACCGC-2',\n",
       " 'CGAGAAGCAGGCTCAC-2',\n",
       " 'TGCTGCTTCAGTGCAT-1',\n",
       " 'CGTTCTGGTATTCGTG-3',\n",
       " 'TCAATCTGTCCGAACC-2',\n",
       " 'GGTGTTATCAGCCTAA-2',\n",
       " 'CTCTACGTCAACGGGA-2',\n",
       " 'GTGCATATCACCTCGT-3',\n",
       " 'CGTTAGACACTTACGA-1',\n",
       " 'GCATGTACAGGTCTCG-1',\n",
       " 'CTAGTGAAGTACGCGA-1',\n",
       " 'GCAAACTTCTCTTATG-2',\n",
       " 'TTGACTTTCTTCTGGC-1',\n",
       " 'GGCCGATAGAGTGAGA-3',\n",
       " 'CTCGGAGTCCCAAGAT-1',\n",
       " 'TTCGAAGTCCATTCTA-1',\n",
       " 'CTGCTGTGTTCGCGAC-1',\n",
       " 'GGACAAGAGTAGGTGC-1',\n",
       " 'TGTATTCGTAGGGACT-3',\n",
       " 'CCATTCGTCTAACCGA-1',\n",
       " 'CCACCTACACCCATGG-2',\n",
       " 'CGTGAGCCACACATGT-3',\n",
       " 'GGGATGATCAAAGTAG-2',\n",
       " 'TATCTCACATCGTCGG-3',\n",
       " 'GATCGCGTCTTATCTG-1',\n",
       " 'CCGTTCACATTCCTCG-1',\n",
       " 'GGGATGACAATCCGAT-1',\n",
       " 'CCTCTGAGTGTGCGTC-1',\n",
       " 'CTACCCAAGTGTTGAA-1',\n",
       " 'ACGGGTCGTGATGATA-1',\n",
       " 'TCGCGAGAGTAATCCC-2',\n",
       " 'CGTAGCGAGTCTCGGC-2',\n",
       " 'CGTAGGCGTCAGATAA-1',\n",
       " 'ACTATCTCAATCGGTT-2',\n",
       " 'CGCGGTAAGAGCTTCT-2',\n",
       " 'CTACACCTCTCATTCA-1',\n",
       " 'GTGTGCGGTGGTCTCG-1',\n",
       " 'AACTCTTCAATGGATA-1',\n",
       " 'CTAGCCTAGGGTTTCT-2',\n",
       " 'TAGAGCTCACATTAGC-1',\n",
       " 'ACGCCGATCACCTTAT-1',\n",
       " 'GATTCAGTCTTTAGTC-1',\n",
       " 'AGCGGTCCACCAACCG-2',\n",
       " 'CGCTGGATCCCGACTT-2',\n",
       " 'CTGGTCTCATCCCATC-2',\n",
       " 'TGGCTGGCATCGGAAG-2',\n",
       " 'TTGCCGTAGCGACGTA-1',\n",
       " 'CTGCTGTCACCGATAT-3',\n",
       " 'GGCGACTGTCGCATAT-2',\n",
       " 'CGGAGCTCACCAACCG-2',\n",
       " 'CGTCCATAGAGTGAGA-1',\n",
       " 'GACGTGCAGAATCTCC-2',\n",
       " 'AGGGAGTTCTGTTTGT-3',\n",
       " 'CCACCTATCTGCGTAA-1',\n",
       " 'AACGTTGCACCAACCG-1',\n",
       " 'TCTGAGAGTACAGACG-2',\n",
       " 'GGGTCTGGTACTCTCC-1',\n",
       " 'CCTACACCACGTGAGA-2',\n",
       " 'CATCGAATCAAGGTAA-2',\n",
       " 'TGAGCCGGTGCCTGTG-1',\n",
       " 'TGTTCCGGTTCTGTTT-2',\n",
       " 'CTAGAGTGTCATATGC-2',\n",
       " 'GAAATGACACAGACTT-1',\n",
       " 'GGATTACCAGGGCATA-1',\n",
       " 'CGACCTTGTTGGAGGT-2',\n",
       " 'GCGCCAATCGCGTAGC-3',\n",
       " 'CAGCTAATCAACGGCC-1',\n",
       " 'CTCGAAACACGTCTCT-2',\n",
       " 'TAAGCGTGTCAAAGAT-2',\n",
       " 'ATTATCCCATGGATGG-1',\n",
       " 'CTCTAATGTACAAGTA-1',\n",
       " 'GACGCGTTCTTAACCT-2',\n",
       " 'CCGGTAGTCGTTACAG-2',\n",
       " 'TTGACTTGTTGCCTCT-1',\n",
       " 'TGCCCTAAGCCCTAAT-1',\n",
       " 'TATCAGGAGCTGAACG-1',\n",
       " 'GAACGGACATCCTAGA-1',\n",
       " 'AGCTTGACAATTGCTG-2',\n",
       " 'TGGCTGGTCCGCAAGC-2',\n",
       " 'ATGCGATCATGACGGA-1',\n",
       " 'GTAGGCCAGTAATCCC-1',\n",
       " 'AAAGTAGGTCTGATTG-2',\n",
       " 'CCATTCGTCATCGGAT-2',\n",
       " 'ACCTTTACAAACCCAT-2',\n",
       " 'AGTGAGGCACAGTCGC-2',\n",
       " 'GGCCGATAGATATGCA-3',\n",
       " 'CCTACACCAGCGTTCG-1',\n",
       " 'TCAGCAAGTCATGCAT-3',\n",
       " 'CTGAAACAGAGAGCTC-1',\n",
       " 'CTACACCTCACAAACC-1',\n",
       " 'TCAGGATGTAGCGCAA-2',\n",
       " 'GTGCTTCAGACCCACC-1',\n",
       " 'CACAAACAGGAGTTGC-2',\n",
       " 'CAGAGAGGTTACAGAA-1',\n",
       " 'TAGACCAGTTCTGTTT-2',\n",
       " 'GTAGGCCCACTGAAGG-1',\n",
       " 'GCTTCCACACTGAAGG-3',\n",
       " 'TGTATTCCATGTTCCC-1',\n",
       " 'CACAAACAGATCACGG-1',\n",
       " 'ACTTACTGTTAGTGGG-1',\n",
       " 'CGAGCACTCGGCCGAT-1',\n",
       " 'CACACCTCAGGCAGTA-1',\n",
       " 'CCTTCCCAGCTGCAAG-2',\n",
       " 'TCGAGGCTCGCACTCT-1',\n",
       " 'GGCGTGTGTTGACGTT-3',\n",
       " 'GTCTTCGTCTTCGAGA-2',\n",
       " 'GTCTCGTAGATCCCAT-2',\n",
       " 'CGTAGGCTCTAGCACA-2',\n",
       " 'GACCAATAGTGAAGAG-1',\n",
       " 'GAATGAAGTTCGTCTC-1',\n",
       " 'CACATTTGTCTGCAAT-2',\n",
       " 'TGGGAAGCAAGTCTAC-1',\n",
       " 'ACTGCTCAGTGACTCT-2',\n",
       " 'TGTGGTAGTCATCCCT-1',\n",
       " 'GAGCAGAAGAGCAATT-2',\n",
       " 'CCTACCAGTGGCAAAC-1',\n",
       " 'ATTACTCGTAAATACG-2',\n",
       " 'CGTTGGGCACTATCTT-2',\n",
       " 'ATTTCTGCAAAGGCGT-3',\n",
       " 'GATTCAGGTGGTCCGT-1',\n",
       " 'GGGATGAGTGCCTGTG-2',\n",
       " 'AGGCCGTTCATTGCCC-2',\n",
       " 'GATCGCGTCTGCTTGC-1',\n",
       " 'CGAGAAGTCGGTTAAC-2',\n",
       " 'AGTTGGTAGCTCTCGG-1',\n",
       " 'ACGAGCCCAACACGCC-2',\n",
       " 'GGATGTTTCGAATGCT-1',\n",
       " 'AACCGCGCACCGGAAA-2',\n",
       " 'TGCTGCTGTAGGGTAC-2',\n",
       " 'GCTGCAGTCATCTGCC-2',\n",
       " 'AACTTTCAGTACTTGC-1',\n",
       " 'ACACCAACACACTGCG-2',\n",
       " 'TAGGCATGTGAAATCA-2',\n",
       " 'CTCGAGGTCTACCAGA-1',\n",
       " 'CGTGTCTCACAGAGGT-1',\n",
       " 'GGTATTGAGCAATATG-1',\n",
       " 'CCTTCCCGTAGCGTCC-1',\n",
       " 'AACTCTTAGACGACGT-2',\n",
       " 'TTAGTTCCAGACAGGT-3',\n",
       " 'TATGCCCGTTATTCTC-2',\n",
       " 'AACACGTCATTAACCG-2',\n",
       " 'ACATACGGTCAGAATA-2',\n",
       " 'AAACGGGCAGCTTAAC-1',\n",
       " 'GCGACCATCGTTTAGG-2',\n",
       " 'GGGTTGCTCTGCCCTA-1',\n",
       " 'CGGACACAGTCTTGCA-2',\n",
       " 'TACGGATTCATTTGGG-2',\n",
       " 'CGATTGACACAGACAG-1',\n",
       " 'ACCAGTAGTGCTGTAT-1',\n",
       " 'GTTAAGCAGTGTACCT-2',\n",
       " 'CATGACAGTAGCCTAT-2',\n",
       " 'TGTGGTAGTTTGTTTC-1',\n",
       " 'TGGACGCGTGAGCGAT-2',\n",
       " 'ACTGCTCGTTTGTGTG-2',\n",
       " 'ACGGAGATCGAGCCCA-2',\n",
       " 'ATTACTCTCGCCTGAG-3',\n",
       " 'TTATGCTCATGTCGAT-1',\n",
       " 'CCATGTCTCGATAGAA-2',\n",
       " 'TGACGGCAGGGTGTTG-2',\n",
       " 'CAGCATACAGGTCTCG-2',\n",
       " 'AGGTCCGCACCGGAAA-1',\n",
       " 'GAACCTAAGTAGATGT-1',\n",
       " 'CGTGTAATCTTTCCTC-1',\n",
       " 'AAGGAGCAGCAAATCA-2',\n",
       " 'TGGTTAGAGCTGTTCA-1',\n",
       " 'CGAGAAGGTGCAACGA-1',\n",
       " 'TTTGCGCCATCAGTCA-2',\n",
       " 'GACCAATCAAATACAG-1',\n",
       " 'TGAAAGAGTTGTTTGG-2',\n",
       " 'TGTGGTAAGATGTAAC-2',\n",
       " 'AAGGCAGTCAACCATG-2',\n",
       " 'AGGTCCGGTAGCCTCG-2',\n",
       " 'CACCTTGAGCTTTGGT-1',\n",
       " 'TGAGAGGGTTTGTTGG-2',\n",
       " 'TGGGCGTCAAGCGATG-3',\n",
       " 'ACTTTCAGTCAACATC-1',\n",
       " 'ACTATCTTCAAAGACA-2',\n",
       " 'CATCAGACAACGCACC-2',\n",
       " 'AAGTCTGCAAGGCTCC-2',\n",
       " 'AGGTCCGAGAGTGACC-1',\n",
       " 'ACCTTTAGTGCTCTTC-2',\n",
       " 'TGAGCCGTCATCGCTC-1',\n",
       " 'CATATGGAGCTGAAAT-1',\n",
       " 'GATCGCGAGGCACATG-1',\n",
       " 'CTGCCTAAGTTTCCTT-2',\n",
       " 'TTGACTTGTAGCGCTC-3',\n",
       " 'GACGGCTTCCACGTTC-1',\n",
       " 'TGAAAGAAGAGAACAG-1',\n",
       " 'TCAGCAATCCGCATAA-2',\n",
       " 'CCGTGGATCGTTGCCT-1',\n",
       " 'GACGGCTTCTGGTGTA-1',\n",
       " 'ACACTGAGTCGCTTCT-1',\n",
       " 'GTGGGTCTCCTTTCGG-2',\n",
       " 'TCAACGAGTGAGTGAC-1',\n",
       " 'TGGGCGTGTTAGATGA-1',\n",
       " 'CATATGGCAGACAAGC-2',\n",
       " 'GATGAGGTCTACTATC-2',\n",
       " 'TGACGGCAGGATTCGG-3',\n",
       " 'CGTGTAAAGATCCCGC-2',\n",
       " 'CTGCCTACAAGTCTAC-2',\n",
       " 'CCATTCGTCACGACTA-3',\n",
       " 'CATTCGCCACTGTTAG-2',\n",
       " 'AAACCTGGTTATGCGT-1',\n",
       " 'CCCAATCCATTTGCCC-2',\n",
       " 'CTACACCTCACCGGGT-2',\n",
       " 'CATATGGAGTCACGCC-2',\n",
       " 'AGTCTTTAGGAACTGC-2',\n",
       " 'CAACCTCCATGGTCAT-1',\n",
       " 'CTGCCTAAGTAGGTGC-1',\n",
       " 'CGAGCACTCCAAATGC-1',\n",
       " 'TCAGATGAGAATAGGG-1',\n",
       " 'ATCCGAACAGCTGTGC-2',\n",
       " 'ATAAGAGTCTTACCTA-2',\n",
       " 'GTAACTGGTTATGCGT-2',\n",
       " 'TGAGCATTCCGTAGGC-2',\n",
       " 'ATCCACCAGGAATCGC-1',\n",
       " 'CACCACTCACTCGACG-2',\n",
       " 'CCTTCGACATAGTAAG-2',\n",
       " 'GGGACCTAGGCCATAG-2',\n",
       " 'CACACTCGTACAGTTC-1',\n",
       " 'GGACAGACACGCATCG-2',\n",
       " 'ACACCAACACTGCCAG-1',\n",
       " 'TCCCGATTCTTCGGTC-2',\n",
       " 'CGGCTAGTCGTAGGAG-2',\n",
       " 'GATCGCGAGCGCTCCA-1',\n",
       " 'TTTGCGCGTCGACTGC-1',\n",
       " 'CATATTCGTGCCTGCA-2',\n",
       " 'GTTAAGCAGCTAACTC-2',\n",
       " 'ACGCCAGTCCCTAACC-1',\n",
       " 'CTACCCAGTCATGCAT-3',\n",
       " 'CAACCAAAGCACACAG-1',\n",
       " 'CTCGTACCAACTTGAC-2',\n",
       " 'AAAGTAGGTGACAAAT-1',\n",
       " 'CGCGGTAGTTCACCTC-2',\n",
       " 'AATCGGTTCCGCGGTA-2',\n",
       " 'CCACTACTCTCACATT-1',\n",
       " 'AGGGTGAAGAGCTATA-1',\n",
       " 'GCAAACTAGCTAGGCA-2',\n",
       " 'TCAGCAAGTCGTGGCT-3',\n",
       " 'ACAGCTATCACATAGC-2',\n",
       " 'TTTGTCAGTCCGTGAC-2',\n",
       " 'GCACTCTAGTACGATA-2',\n",
       " 'CGAACATCACGAGGTA-2',\n",
       " 'AAAGATGTCTTCGAGA-3',\n",
       " 'TGGTTCCTCTCCAACC-1',\n",
       " 'CGTGAGCTCGGATGTT-1',\n",
       " 'ACTGAACTCTAACTCT-2',\n",
       " 'TTAGTTCAGGATATAC-1',\n",
       " 'GGATGTTGTGGCAAAC-2',\n",
       " 'ACGATGTAGCTGCGAA-1',\n",
       " 'TTCTACAGTAGTGAAT-2',\n",
       " 'CGGACGTAGGCCCTTG-2',\n",
       " 'TCTTCGGAGCGATAGC-2',\n",
       " 'GAGTCCGTCGAGAACG-1',\n",
       " 'CCGGTAGGTCATCGGC-2',\n",
       " 'CGTTGGGGTTATTCTC-1',\n",
       " 'ATCGAGTGTGTTCGAT-1',\n",
       " 'CGGTTAATCTCGTATT-2',\n",
       " 'TAGTGGTTCTGTCTCG-1',\n",
       " 'CTTCTCTGTTAAGGGC-1',\n",
       " 'ACTTACTTCCAAGCCG-3',\n",
       " 'CCCTCCTCAAGGACAC-3',\n",
       " 'CTCCTAGTCTGGCGTG-2',\n",
       " 'TCCACACCAGCTCGAC-3',\n",
       " 'TGCTACCCACGGTTTA-3',\n",
       " 'CTTAACTGTTCCGTCT-1',\n",
       " 'TAGTTGGCAGGCAGTA-1',\n",
       " 'CACTCCATCGCCTGTT-3',\n",
       " 'CGTGTAATCATTATCC-3',\n",
       " 'GTTCATTTCGGAATCT-3',\n",
       " 'CTTCTCTAGTAGCCGA-3',\n",
       " 'GTTTCTAGTTCTGTTT-3',\n",
       " 'ACTTACTAGATCACGG-3',\n",
       " 'GCTCCTACAACCGCCA-3',\n",
       " 'GGAACTTTCGCTTGTC-3',\n",
       " 'CACACAAGTAGTAGTA-3',\n",
       " 'TCTTCGGAGCTAAACA-3',\n",
       " 'GACGTTATCTCCAGGG-3',\n",
       " 'CAGCTGGTCACAATGC-3',\n",
       " 'CAGAGAGTCCCGGATG-3',\n",
       " 'CACATTTTCGAACTGT-3',\n",
       " 'TGCACCTTCGACGGAA-3',\n",
       " 'ACTATCTGTCATACTG-3',\n",
       " 'GGACGTCCAGGGTACA-3',\n",
       " 'TTCTTAGTCACCAGGC-3',\n",
       " 'CGCGTTTTCCACGTGG-3',\n",
       " 'GGTGTTAGTGTGAAAT-3',\n",
       " 'GGCGTGTCAATAGCGG-3',\n",
       " 'GGATGTTCATGCATGT-3',\n",
       " 'CCTTCCCGTCAATGTC-3',\n",
       " 'GCTCTGTAGTGTCCCG-3',\n",
       " 'GCGGGTTCACATTCGA-3',\n",
       " 'CTCTACGGTTCGTCTC-3',\n",
       " 'GTTCTCGCAGGTCTCG-3',\n",
       " 'CCGTACTTCCCACTTG-3',\n",
       " 'TTCTCAATCAGCTTAG-2',\n",
       " 'CGAGCACAGTCGAGTG-3',\n",
       " 'ACGGGCTGTCAAGCGA-3',\n",
       " 'GGTGCGTCAAGTACCT-3',\n",
       " 'GACACGCCACGGTGTC-3',\n",
       " 'TGCCCTAGTTGCGCAC-2',\n",
       " 'CGTCAGGTCCGAATGT-3',\n",
       " 'CACATAGAGTCGATAA-2',\n",
       " 'GCGCAACTCTGCGACG-3',\n",
       " 'GTATTCTCATGCTGGC-3',\n",
       " 'AACTTTCAGTGGCACA-1',\n",
       " 'GCGCCAATCCGTCATC-3',\n",
       " 'AGAATAGAGTGTACGG-3',\n",
       " 'TGCGCAGGTCCGCTGA-3',\n",
       " 'AATCGGTCAGCCACCA-1',\n",
       " 'ACGGCCAAGGTAGCCA-1',\n",
       " 'CGCTGGAAGAAACGCC-3',\n",
       " 'TAGTTGGAGACCACGA-3',\n",
       " 'CATCAGAAGATGTGTA-3',\n",
       " 'ATTTCTGAGCCCGAAA-3',\n",
       " 'TTTATGCAGCCTCGTG-3',\n",
       " 'TCGTAGAAGACCTTTG-3',\n",
       " 'TCATTACGTGAGGGAG-3',\n",
       " 'GATGAGGAGCTATGCT-3',\n",
       " 'CGAGCCATCGAGAACG-3',\n",
       " 'TTTGCGCAGAGGTAGA-3',\n",
       " 'TGGGAAGGTATATGGA-3',\n",
       " 'TTCTCCTCAGCGTCCA-3',\n",
       " 'GCGCAACGTAAGGGCT-3',\n",
       " 'CCACCTAAGCGACGTA-3',\n",
       " 'ACGGCCAGTAAGAGAG-3',\n",
       " 'TTAGTTCCACGTAAGG-2',\n",
       " 'CTGTTTATCACTTCAT-3',\n",
       " 'ATCATCTTCCTTGACC-3',\n",
       " 'GTAACTGGTCCGAAGA-3',\n",
       " 'GGATTACCAGCTGTTA-3',\n",
       " 'TAGAGCTGTGCAGTAG-3',\n",
       " 'GCCTCTACACACCGCA-3',\n",
       " 'AAGGCAGTCACTCTTA-3',\n",
       " 'CAACCAAGTCCAGTGC-3',\n",
       " 'CGCCAAGCACAGAGGT-3',\n",
       " 'CTTAGGATCTAACTTC-3',\n",
       " 'TGTATTCGTTCTGAAC-3',\n",
       " 'TTCGAAGCAGCAGTTT-2',\n",
       " 'TGCACCTAGGAGTAGA-3',\n",
       " 'ACGAGCCGTTAAAGAC-3',\n",
       " 'ACGGGCTAGATCCCAT-2',\n",
       " 'GATCGATGTGATAAGT-3',\n",
       " 'CATCGGGTCACCCTCA-3',\n",
       " 'GAATAAGAGCTCTCGG-3',\n",
       " 'GAGGTGACAATGGACG-3',\n",
       " 'TTAGTTCGTTCCACTC-3',\n",
       " 'GACAGAGTCCCTAATT-3',\n",
       " 'ACTGAGTGTCTAGCCG-3',\n",
       " 'CCGTGGAAGAATGTTG-3',\n",
       " 'ACGAGCCGTATTAGCC-3',\n",
       " 'AGGGATGCAGATCGGA-3',\n",
       " 'TGACTAGCACAGAGGT-3',\n",
       " 'AGATCTGGTAAAGTCA-3',\n",
       " 'TGAGAGGCATCTACGA-3',\n",
       " 'AGTCTTTAGCCCAACC-3',\n",
       " 'CGTAGCGCATCCCACT-3',\n",
       " 'GATCGTAGTCAACATC-2',\n",
       " 'CGTGAGCAGTTGAGTA-3',\n",
       " 'CTGGTCTCAACGATCT-1',\n",
       " 'ATAGACCTCTTCATGT-3',\n",
       " 'CGTGTCTGTAGCGTGA-3',\n",
       " 'CGCGTTTAGAGTCTGG-3',\n",
       " 'GTATCTTCATCCGGGT-3',\n",
       " 'GTATCTTAGTCACGCC-3',\n",
       " 'AACACGTGTTCCCGAG-3',\n",
       " 'AGCCTAAAGACGCAAC-3',\n",
       " 'GGGCACTCAAACCTAC-3',\n",
       " 'CCTACCAAGTACGTTC-3',\n",
       " 'TTAACTCTCCTAGGGC-2',\n",
       " 'AAGACCTCAACCGCCA-3',\n",
       " 'TGCGGGTAGGGCTTGA-3',\n",
       " 'CGTGTCTGTACTTAGC-3',\n",
       " 'GAAATGAGTCCTAGCG-3',\n",
       " 'CTACATTCATGCCTAA-3',\n",
       " 'TTTACTGCAACACCTA-3',\n",
       " 'AAAGCAAAGGAGTTGC-3',\n",
       " 'ACACCCTCACGGTAAG-3',\n",
       " 'ACGGGCTCAAGAAGAG-3',\n",
       " 'ATTATCCTCGCGCCAA-3',\n",
       " 'ATTCTACGTTCATGGT-3',\n",
       " 'ACATCAGAGCGATAGC-3',\n",
       " 'CTCGAGGTCTCGTTTA-3',\n",
       " 'CTAAGACTCTTCAACT-3',\n",
       " 'GTTAAGCGTATTACCG-3',\n",
       " 'GACTAACGTTCGTCTC-3',\n",
       " 'ACACTGACATAAAGGT-3',\n",
       " 'CGTCACTAGCAGGCTA-3',\n",
       " 'GCAGCCATCTCTGCTG-3',\n",
       " 'CGACCTTCACCACCAG-3',\n",
       " 'TTCTACACATGCTGGC-3',\n",
       " 'TAGTTGGAGTCCAGGA-3',\n",
       " 'CTGGTCTCACAACGCC-3',\n",
       " 'TAAACCGGTGCCTTGG-3',\n",
       " 'TGCCAAAAGGGTATCG-3',\n",
       " 'CGAGCACGTATCTGCA-3',\n",
       " 'GACGCGTTCCTTAATC-3',\n",
       " 'GATCGTACAGATGGGT-3',\n",
       " 'ACACCAAGTGGCAAAC-1',\n",
       " 'GATCGATCACGAAAGC-3',\n",
       " 'ATGAGGGGTCAACATC-3',\n",
       " 'GCTGCAGAGCTGAAAT-3',\n",
       " 'AACTCAGGTTCCACTC-3',\n",
       " 'TCAGGTATCTCGCTTG-3',\n",
       " 'TCACAAGGTCAGAAGC-3',\n",
       " 'CCTTCCCGTCATGCCG-3',\n",
       " 'TAGAGCTCACCGATAT-3',\n",
       " 'GACACGCCAGCCTATA-3',\n",
       " 'CCATTCGAGGGATCTG-3',\n",
       " 'AACTCTTAGGCATGGT-3',\n",
       " 'AGCGTCGTCTTGACGA-1',\n",
       " 'ACGCCGAAGCAGCCTC-3',\n",
       " 'TGTGGTAAGGTCGGAT-3',\n",
       " 'CCAGCGACATCTACGA-3',\n",
       " 'ACGCAGCCATTGAGCT-3',\n",
       " 'ATCTACTTCGCGGATC-3',\n",
       " 'CAAGAAAGTAAACCTC-3',\n",
       " 'CCTATTAGTCGTTGTA-3',\n",
       " 'ACGTCAAAGTCTCGGC-3',\n",
       " 'AATCGGTTCCTCGCAT-3',\n",
       " 'CGGAGTCAGTGCAAGC-3',\n",
       " 'CACACTCTCGGTTAAC-3',\n",
       " 'TTTGCGCAGGAATGGA-3',\n",
       " 'CACATAGGTGTTTGTG-3',\n",
       " 'TGTTCCGTCATAGCAC-3',\n",
       " 'CGATCGGGTGAAATCA-3',\n",
       " 'AACTCAGCAGGTGGAT-3',\n",
       " 'GTGTTAGTCCCATTTA-3',\n",
       " 'ATAAGAGGTCAACATC-3',\n",
       " 'CTAGCCTGTCAACTGT-3',\n",
       " 'CAGCTAAAGGCCCTTG-3',\n",
       " 'CCGGGATAGAAGGTTT-3',\n",
       " 'CATATGGCATCACGTA-3',\n",
       " 'TGAGCATTCTTACCGC-3',\n",
       " 'TCGGTAAAGCCGCCTA-3',\n",
       " 'AATCCAGTCCAGAGGA-3',\n",
       " 'TTTACTGGTCTCTCTG-3',\n",
       " 'GTGTGCGTCCATGAGT-3',\n",
       " 'CACAAACCATATGGTC-3',\n",
       " 'ACCTTTATCACGACTA-3',\n",
       " 'CAAGGCCGTCAAGCGA-3',\n",
       " 'TTCTTAGCATCCCACT-3',\n",
       " 'TAGAGCTGTACCGCTG-3',\n",
       " 'GTCACAAAGCCCGAAA-3',\n",
       " 'TCTGAGAGTGTAACGG-3',\n",
       " 'CTCGGGAAGGCTAGAC-3',\n",
       " 'GTTCGGGAGCTCAACT-3',\n",
       " 'TACGGGCCAAGACACG-3',\n",
       " 'CTTCTCTCAGGCTGAA-1',\n",
       " 'GACCTGGAGTAATCCC-3',\n",
       " 'GGGACCTAGGGCTTGA-3',\n",
       " 'GTCACGGAGCGCTCCA-3',\n",
       " 'GACGTTACAGCATGAG-3',\n",
       " 'AACCATGCAGCTGTAT-3',\n",
       " 'ATTATCCTCCGCTGTT-3',\n",
       " 'CCAGCGAAGTGTGGCA-3',\n",
       " 'CCACGGAAGATCTGAA-3',\n",
       " 'GGGTTGCGTACTTCTT-3',\n",
       " 'TGATTTCAGGCAGGTT-3',\n",
       " 'CGCTGGACAATCAGAA-3',\n",
       " 'AGTGGGAAGAGAACAG-3',\n",
       " 'CAGTCCTAGAAACCAT-3',\n",
       " 'CCTCAGTGTGCCTGGT-3',\n",
       " 'GCGAGAAAGAGCAATT-3',\n",
       " 'GCAATCACAGCTGTAT-3',\n",
       " 'CCGGTAGGTACGCTGC-3',\n",
       " 'CGGGTCATCACGCATA-3',\n",
       " 'CCTTTCTTCTTGCATT-3',\n",
       " 'CTGTGCTGTGGTACAG-3',\n",
       " 'CGTCACTTCAGCTTAG-3',\n",
       " 'ATCTACTCACCTCGGA-3',\n",
       " 'ACTGAGTAGAGGTTAT-3',\n",
       " 'TATGCCCCAGGCTCAC-3',\n",
       " 'AAGTCTGGTTAGTGGG-3',\n",
       " 'CAACTAGTCAACGCTA-2',\n",
       " 'TTGGCAACAAGTCATC-3',\n",
       " 'GTCACGGAGAAACGCC-3',\n",
       " 'CGTTCTGTCTTCGGTC-3',\n",
       " 'CAACCTCAGATCGGGT-3',\n",
       " 'CTGGTCTTCCTACAGA-3',\n",
       " 'TATCTCAAGCATCATC-3',\n",
       " 'ACATGGTGTAAGTTCC-3',\n",
       " 'TACTTACAGACAAGCC-3',\n",
       " 'GCATGTATCACCTCGT-3',\n",
       " 'CAACCAATCTAACGGT-3',\n",
       " 'CCATGTCAGCACACAG-3',\n",
       " 'GAGTCCGGTAAACACA-3',\n",
       " 'GGGCATCTCACGAAGG-3',\n",
       " 'AGGCCACAGAGGTAGA-3',\n",
       " 'TCACGAATCAGTGCAT-3',\n",
       " 'CACAGGCTCTCGATGA-3',\n",
       " 'TCATTTGGTGCAGACA-3',\n",
       " 'GTTCGGGAGGCTAGGT-3',\n",
       " 'CTGGTCTTCTCTGCTG-3',\n",
       " 'TCATTACTCTTGCAAG-3',\n",
       " 'CTGTGCTGTACCGGCT-3',\n",
       " 'TCATTACGTTACGTCA-3',\n",
       " 'ATTTCTGCAGCCTGTG-3',\n",
       " 'TCTCTAAAGGCATTGG-3',\n",
       " 'CATTCGCTCAGTACGT-3',\n",
       " 'GTAACGTTCAACGCTA-3',\n",
       " 'TGGTTCCGTGAGGGTT-3',\n",
       " 'TTGTAGGAGGTGCACA-1',\n",
       " 'TCAATCTAGATCTGCT-1',\n",
       " 'CTGCTGTTCAGAGACG-2',\n",
       " 'ACGGGTCTCTCGCATC-2',\n",
       " 'CCTTTCTGTAATAGCA-1',\n",
       " 'TACGGGCCATGTTCCC-1',\n",
       " 'TTCTACATCTTGCAAG-2',\n",
       " 'GTTAAGCAGAACAATC-2',\n",
       " 'GGATTACCAGGGTTAG-1',\n",
       " 'AAATGCCGTCTAACGT-1',\n",
       " 'TAGGCATTCTGGGCCA-2',\n",
       " 'AGATTGCGTGAAAGAG-2',\n",
       " 'CACTCCAGTCTGGAGA-1',\n",
       " 'CGTTCTGCACATCCAA-1',\n",
       " 'GTCGGGTTCCACGTTC-2',\n",
       " 'TAGGCATGTTCGCTAA-1',\n",
       " 'AACTGGTAGTGGGTTG-2',\n",
       " 'CCCTCCTTCCTGTAGA-2',\n",
       " 'ACTTACTAGGAATTAC-1',\n",
       " 'TACGGATCACAACGCC-1',\n",
       " 'TGTGGTACACAGACAG-1',\n",
       " 'TCTTTCCGTCCGAAGA-1',\n",
       " 'CTCACACTCCGAGCCA-1',\n",
       " 'TCGTACCTCCGGGTGT-2',\n",
       " 'CATATTCTCTAACCGA-1',\n",
       " 'CGATGGCGTCCGTTAA-1',\n",
       " 'TGGTTCCAGACAAGCC-2',\n",
       " 'TCTTCGGTCTACTCAT-2',\n",
       " 'GGGACCTTCCAAATGC-1',\n",
       " 'AACTCCCGTTACGACT-1',\n",
       " 'GTACGTAAGCAGATCG-1',\n",
       " 'CGAGAAGGTAAACCTC-1',\n",
       " 'AGCGTCGCACCAGTTA-2',\n",
       " 'GCTCCTAAGACTAAGT-1',\n",
       " 'AGGCCGTCAAGCGATG-2',\n",
       " 'ACCAGTATCTTGAGAC-2',\n",
       " 'TCGGTAAGTCATATGC-1',\n",
       " 'TAGACCAAGTGACTCT-1',\n",
       " 'AGCATACTCCAATGGT-1',\n",
       " 'GATGAAATCAAAGTAG-2',\n",
       " 'GATGAGGCATTACGAC-1',\n",
       " 'AGGGATGTCGTAGGTT-2',\n",
       " 'CGACCTTCATGTAGTC-2',\n",
       " 'CTCATTACATGGTCTA-1',\n",
       " 'TGGGCGTAGCAGGTCA-1',\n",
       " 'TGTGTTTGTGCACTTA-2',\n",
       " 'ACTTTCACAGGACGTA-2',\n",
       " 'AGATTGCCACGCTTTC-2',\n",
       " 'CTACCCATCCACGTTC-1',\n",
       " 'GGATTACTCTGAAAGA-2',\n",
       " 'GGCGACTCAATCCAAC-1',\n",
       " 'TTCGGTCAGGAATCGC-1',\n",
       " 'TAAGTGCTCCGTCAAA-2',\n",
       " 'GTGCGGTGTCTTGCGG-1',\n",
       " 'GACTAACCAGTTTACG-2',\n",
       " 'GATCGATGTGTCTGAT-2',\n",
       " 'ACACTGACAGCCACCA-2',\n",
       " 'CATGACACAGATCCAT-1',\n",
       " 'ACGTCAAAGAAGATTC-2',\n",
       " 'CACCTTGGTTCGCTAA-2',\n",
       " 'CCTTACGCATGCTAGT-1',\n",
       " 'TTGGAACTCCACGACG-1',\n",
       " 'CACACCTAGAGTAATC-1',\n",
       " 'TCAGATGCATATACGC-1',\n",
       " 'CAGCGACTCTGCGTAA-2',\n",
       " 'CGTAGCGTCGTCTGAA-1',\n",
       " 'TCTCTAAGTGCAGTAG-1',\n",
       " 'CTGTTTAAGATCGGGT-2',\n",
       " 'GCTTCCACATTCCTCG-2',\n",
       " 'CGAATGTCACTGAAGG-1',\n",
       " 'CGGCTAGAGCTTATCG-2',\n",
       " 'TGAGAGGAGGAGTAGA-2',\n",
       " 'GTACTCCCATGCTAGT-1',\n",
       " 'CACACTCCAGCATACT-1',\n",
       " 'CCACCTACATCGTCGG-2',\n",
       " 'GGGTCTGTCACCGTAA-2',\n",
       " 'TTAGTTCTCAGAGACG-2',\n",
       " 'CTGATAGGTCCGTGAC-1',\n",
       " 'AAGGTTCCAAGCGTAG-1',\n",
       " 'AGGGAGTTCGCACTCT-2',\n",
       " 'TCAGCAATCACGACTA-2',\n",
       " 'TCAGCAAAGTTGCAGG-1',\n",
       " 'CTGCTGTGTAAGCACG-1',\n",
       " 'GTCTCGTCACTGTTAG-2',\n",
       " 'AGACGTTCATCGATGT-2',\n",
       " 'GTCCTCACAGTTCCCT-2',\n",
       " 'ACAGCCGAGCTGGAAC-2',\n",
       " 'AACTCCCTCAAGATCC-1',\n",
       " 'TTTACTGCAATCTACG-1',\n",
       " 'CTCACACGTACCGCTG-2',\n",
       " 'TGGCGCACACGTAAGG-2',\n",
       " 'CGTGTAATCACATGCA-1',\n",
       " 'CAGCGACTCCCATTAT-1',\n",
       " 'ACCGTAAAGAATTGTG-2',\n",
       " 'CACATAGAGCCCTAAT-1',\n",
       " 'GAAATGAAGGACCACA-2',\n",
       " 'TCGCGAGTCTGATTCT-2',\n",
       " 'ATTGGACAGGACTGGT-1',\n",
       " 'GCGGGTTAGTGTACGG-1',\n",
       " 'TCTGAGAGTGGACGAT-2',\n",
       " 'CATCGAACATGCCTAA-1',\n",
       " 'TAAACCGGTACGCTGC-1',\n",
       " 'ACCTTTATCCGCAGTG-1',\n",
       " 'CTACACCCAACGATCT-1',\n",
       " 'CTCGAGGCATCACGTA-1',\n",
       " 'GGGTCTGTCCCTCAGT-2',\n",
       " 'ACGCCGACATCCGGGT-1',\n",
       " 'TTGGAACTCCGTACAA-1',\n",
       " 'CCGTACTAGCCAGTAG-2',\n",
       " 'CCAGCGATCCTTTCTC-2',\n",
       " 'CATGCCTAGTGACATA-1',\n",
       " 'TACTTACGTTCAGGCC-1',\n",
       " 'GAGCAGATCATTATCC-2',\n",
       " 'TGCGCAGCAATCGGTT-1',\n",
       " 'CTGTGCTCAGCGATCC-1',\n",
       " 'CAACTAGGTACCAGTT-1',\n",
       " 'CCAGCGAAGATCTGCT-1',\n",
       " 'AGTTGGTAGTGGACGT-1',\n",
       " 'ACTGTCCAGTGCCAGA-1',\n",
       " 'AGATTGCGTGATGTGG-2',\n",
       " 'CCACGGACAGCTCGCA-2',\n",
       " 'ACCAGTATCTTACCTA-2',\n",
       " 'TACTTGTCACATGACT-1',\n",
       " 'GACTGCGCATCGGACC-2',\n",
       " 'CACAGGCGTTGCGTTA-2',\n",
       " 'CACACAATCTATGTGG-2',\n",
       " 'TTGACTTAGCTAGGCA-2',\n",
       " 'CTCGAAAGTTCCAACA-2',\n",
       " 'GAGCAGACACCAACCG-2',\n",
       " 'CCTACCAAGTCACGCC-2',\n",
       " 'GAATAAGTCCACGTGG-2',\n",
       " 'GAAACTCAGCACACAG-1',\n",
       " 'CCTTTCTCACCTCGTT-2',\n",
       " 'GAGTCCGAGGATGGAA-1',\n",
       " 'GGACGTCAGTTAGCGG-1',\n",
       " 'CGAGCACAGGTGACCA-2',\n",
       " 'TAGTGGTCACACTGCG-2',\n",
       " 'TGGCGCACACATTTCT-2',\n",
       " 'ATAACGCCAGAGTGTG-2',\n",
       " 'GTTTCTAAGACTTGAA-1',\n",
       " 'TTTGGTTAGAGCCCAA-2',\n",
       " 'GGGAATGTCCCTTGTG-2',\n",
       " 'ACAGCTAGTAGGGACT-2',\n",
       " 'CCTATTAGTTAGAACA-1',\n",
       " 'GCATACACAATAGAGT-2',\n",
       " 'GGGATGATCAGGCCCA-2',\n",
       " 'AGGGAGTAGCGTAATA-2',\n",
       " 'TCGAGGCGTTACGCGC-1',\n",
       " 'CCTCTGAGTCATTAGC-1',\n",
       " 'ACGAGCCCATCCTAGA-1',\n",
       " 'CTTAGGAGTACGAAAT-1',\n",
       " 'CATGACATCGCTAGCG-3',\n",
       " 'GTAACGTGTGCTAGCC-2',\n",
       " 'CACCAGGTCGTCCAGG-1',\n",
       " 'TACGGATAGTTAGGTA-1',\n",
       " 'GTCACGGTCTTGACGA-1',\n",
       " 'GAAACTCCAAGAAGAG-1',\n",
       " 'CCTTACGCAAACCCAT-1',\n",
       " 'GGACAAGCATGCGCAC-1',\n",
       " 'GCCTCTATCTTCCTTC-1',\n",
       " 'CTAGCCTGTGTGAAAT-1',\n",
       " 'GTCCTCACATTCTCAT-1',\n",
       " 'CTGCCTAAGGGTCTCC-1',\n",
       " 'TGGTTAGTCCCGACTT-2',\n",
       " 'TAGCCGGTCTCTAGGA-2',\n",
       " 'GTCACGGCAAACCTAC-2',\n",
       " 'TGTGTTTAGCGCTCCA-2',\n",
       " 'ATCATCTTCGAATCCA-1',\n",
       " 'CATATGGAGATGTCGG-2',\n",
       " 'CTGCGGAAGCCGGTAA-2',\n",
       " 'CGGCTAGGTGTTGAGG-2',\n",
       " 'AACTCTTAGACCGGAT-2',\n",
       " 'GAATGAAAGAAACGAG-2',\n",
       " 'CTCGAGGTCGCGGATC-1',\n",
       " 'ACGTCAATCACGCGGT-1',\n",
       " 'GCAGTTAAGAGACTTA-1',\n",
       " 'GGTGTTAAGTCGAGTG-2',\n",
       " 'TCGGTAATCATCTGTT-2',\n",
       " 'CTCGGAGCAGTAGAGC-2',\n",
       " 'ACACCCTCATCGACGC-1',\n",
       " 'TTCTCCTGTGCAGTAG-2',\n",
       " 'ACTGTCCAGATCTGCT-1',\n",
       " 'ATCTACTGTAGGGTAC-2',\n",
       " 'TACCTATTCATCATTC-1',\n",
       " 'TCGGGACAGACCTTTG-1',\n",
       " 'GGGAGATTCCGAATGT-1',\n",
       " 'GTTTCTAGTTCCATGA-2',\n",
       " 'GGACAGACAGACGCTC-2',\n",
       " 'CACAGGCGTTGTGGCC-2',\n",
       " 'CTAGAGTAGGAACTGC-1',\n",
       " 'TCGCGTTGTAGCGATG-1',\n",
       " 'CGGGTCAGTCCCTTGT-2',\n",
       " 'TCTATTGTCAGCTCTC-1',\n",
       " 'CGGTTAAAGCCAACAG-1',\n",
       " 'CTAGCCTAGATGCCTT-1',\n",
       " 'TTAGGACAGAGTACAT-1',\n",
       " 'TGGCGCACAGGTCCAC-2',\n",
       " 'CGGAGTCGTAGAGTGC-1',\n",
       " 'TAGGCATTCACGACTA-1',\n",
       " 'CGTCTACGTGGGTCAA-2',\n",
       " 'GGAAAGCGTGTGACGA-1',\n",
       " 'ATGCGATAGTGAAGTT-1',\n",
       " 'CACATTTCACCCATTC-1',\n",
       " 'CAACTAGAGGACTGGT-1',\n",
       " 'CAGCAGCGTAACGCGA-1',\n",
       " 'TCGTACCCATTCGACA-2',\n",
       " 'CTGCGGAGTCTAGCCG-2',\n",
       " 'ACGGGTCAGTTCCACA-1',\n",
       " 'CTGCGGATCGCGTAGC-1',\n",
       " 'CTTAACTCATCCTTGC-2',\n",
       " 'CGGGTCAAGCACAGGT-1',\n",
       " 'GGATGTTAGTAGCGGT-2',\n",
       " 'TCAGCTCTCTGTCTAT-2',\n",
       " 'TGACAACGTACTCGCG-2',\n",
       " 'CACACAATCGGAAACG-1',\n",
       " 'CCTACACCACCTGGTG-2',\n",
       " 'AAACGGGCAGTACACT-1',\n",
       " 'ACGATACTCAAGGTAA-1',\n",
       " 'CTCTGGTGTGTAAGTA-1',\n",
       " 'ATAACGCAGTTAGGTA-1',\n",
       " 'GGGAGATAGGGTATCG-2',\n",
       " 'ACTGTCCCACTTCTGC-2',\n",
       " 'GTCGTAACAGCCAGAA-1',\n",
       " 'AAGGTTCAGGGAAACA-1',\n",
       " 'TGACGGCCACCAACCG-2',\n",
       " 'AAGACCTCAAACAACA-2',\n",
       " 'AAAGCAAGTTTCCACC-1',\n",
       " 'TTTGTCACACACTGCG-1',\n",
       " 'GGTGTTAGTCGCGTGT-2',\n",
       " 'TACCTTACACCAGCAC-1',\n",
       " 'CTCTACGGTTGGACCC-1',\n",
       " 'CGAACATGTTAAGAAC-1',\n",
       " 'GGGACCTCACGCATCG-1',\n",
       " 'CATGCCTCATCGGTTA-2',\n",
       " 'AGAGCGAGTATTCGTG-2',\n",
       " 'TGCGTGGCAAACTGTC-1',\n",
       " 'TTAGGACCACAGAGGT-2',\n",
       " 'TGACTAGGTTTAGGAA-2',\n",
       " 'ACCCACTTCGAATGGG-1']"
      ]
     },
     "execution_count": 10,
     "metadata": {},
     "output_type": "execute_result"
    }
   ],
   "source": [
    "t=adata.obs['Celltype..minor.lineage.'].groupby(adata.obs['Celltype..minor.lineage.']).apply(lambda x: x.sample(239)).index\n",
    "ins = []\n",
    "for i,j in t:\n",
    "    ins.append(j)\n",
    "ins"
   ]
  },
  {
   "cell_type": "code",
   "execution_count": 12,
   "metadata": {},
   "outputs": [
    {
     "name": "stderr",
     "output_type": "stream",
     "text": [
      "2024-04-01 16:58:13.135985: I tensorflow/core/platform/cpu_feature_guard.cc:182] This TensorFlow binary is optimized to use available CPU instructions in performance-critical operations.\n",
      "To enable the following instructions: AVX2 AVX512F AVX512_VNNI FMA, in other operations, rebuild TensorFlow with the appropriate compiler flags.\n"
     ]
    },
    {
     "data": {
      "text/plain": [
       "(6, 10)"
      ]
     },
     "execution_count": 12,
     "metadata": {},
     "output_type": "execute_result"
    }
   ],
   "source": [
    "resolution = 1\n",
    "n_pca = 10\n",
    "preprocessing_cluster(adata,N_pcs=n_pca,resolution=resolution)\n",
    "\n",
    "inter_gene = sort_data(adata,adata)\n",
    "\n",
    "tmp1 = calculate_cluster_centroid_for_genes(adata,inter_gene,folder_path1)\n",
    "meta_list = calculate_cluster_celltype(adata,meta_col='Celltype..minor.lineage.');\n",
    "tmp1.shape"
   ]
  },
  {
   "cell_type": "code",
   "execution_count": 13,
   "metadata": {},
   "outputs": [],
   "source": [
    "def rotate(nodes,embeddings,epoches2,n,similarities):\n",
    "    deep_search_tree(root,0,[],root)\n",
    "    result1 = []\n",
    "    result2 = []\n",
    "\n",
    "    distances = []\n",
    "    for i in nodes:\n",
    "        if(int(i)>=n):\n",
    "            if(int(i.son[0]) <n and int(i.son[1])<n ):\n",
    "                for i1,j1 in itertools.combinations(i.subson,2):\n",
    "                    for j in i.rest(n):\n",
    "                        result1.append([[i1,j1],j,int(i),1,int(j)])\n",
    "                    \n",
    "    for i in nodes[:-1]:\n",
    "        if(int(i)>=n and len(i.son)>=2):\n",
    "            for i1 in range(len(i.subson)):\n",
    "                for i2 in range(i1+1,len(i.subson)):\n",
    "                    for j in i.rest(n):\n",
    "                        result2.append([[i.subson[i1],i.subson[i2]],j,int(i),0,int(i.f)])\n",
    "            \n",
    "    for i in nodes:\n",
    "        distances.append(i.distance_to_root);\n",
    "    distances = torch.tensor(distances)\n",
    "    print(len(result1),len(result2))\n",
    "    dataset_test1 = balance_dataset(similarities,len(result1),embeddings,distances,result1)\n",
    "    dataloader1 = data.DataLoader(dataset_test1, batch_size=1, shuffle=True, pin_memory=True)\n",
    "    \n",
    "    dataset_test2 = balance_dataset(similarities,min(1000,len(result2)),embeddings,distances,result2)\n",
    "    dataloader2 = data.DataLoader(dataset_test2, batch_size=1, shuffle=True, pin_memory=True)    \n",
    "    \n",
    "    model2 = balancehc(nodes1,torch.tensor(embeddings),hyperparamter = 1)\n",
    "    \n",
    "    Optimizer = getattr(optim, 'RAdam')\n",
    "    optimizer = Optimizer(model2.parameters(),0.0005)\n",
    "    train3(model2,dataloader1,dataloader2,optimizer,epoches2)\n",
    "    temp = model2.embeddings.weight.data\n",
    "    return temp"
   ]
  },
  {
   "cell_type": "code",
   "execution_count": 14,
   "metadata": {},
   "outputs": [],
   "source": [
    "def merge_points(similarities,root,nodes,embeddings,epoches,c1,c2,n):\n",
    "    root,_ = search_tree(root,c1,c2,n)\n",
    "    if(_ == True):\n",
    "        return embeddings,root\n",
    "    nodes_merge = [];\n",
    "    add_meta(root,[],nodes_merge)\n",
    "    print(nodes_merge)\n",
    "    for i in nodes_merge:\n",
    "        if(int(i)<n):\n",
    "            i.subson = [int(i)]\n",
    "        else:\n",
    "            i.subson=[]\n",
    "    deep_search_tree(root,0,[],root)\n",
    "    result1 = []\n",
    "    result2 = []\n",
    "\n",
    "    distances = []\n",
    "    for i in nodes_merge:\n",
    "        if(int(i)>=n):\n",
    "            if(int(i.son[0]) <n and int(i.son[1])<n ):\n",
    "                for i1,j1 in itertools.combinations(i.subson,2):\n",
    "                    for j in i.rest(n):\n",
    "                        result1.append([[i1,j1],j,int(i),1,int(j)])\n",
    "                    \n",
    "    for i in nodes_merge[1:]:\n",
    "        if(int(i)>=n and len(i.son)>=2):\n",
    "            for i1 in range(len(i.subson)):\n",
    "                for i2 in range(i1+1,len(i.subson)):\n",
    "                    for j in i.rest(n):\n",
    "                        result2.append([[i.subson[i1],i.subson[i2]],j,int(i),0,int(i.f)])\n",
    "            \n",
    "    for i in nodes:\n",
    "        distances.append(i.distance_to_root);\n",
    "    distances = torch.tensor(distances)\n",
    "    print(len(result1),len(result2))\n",
    "    model2 = balancehc(nodes,torch.tensor(embeddings),hyperparamter = 1)\n",
    "    if(len(result1) !=0 and len(result2)!=0):\n",
    "        \n",
    "        dataset_test1 = balance_dataset(similarities,len(result1),embeddings,distances,result1)\n",
    "        dataloader1 = data.DataLoader(dataset_test1, batch_size=1, shuffle=True, pin_memory=True)\n",
    "        \n",
    "        dataset_test2 = balance_dataset(similarities,min(1000,len(result2)),embeddings,distances,result2)\n",
    "        dataloader2 = data.DataLoader(dataset_test2, batch_size=1, shuffle=True, pin_memory=True)    \n",
    "        \n",
    "        \n",
    "        Optimizer = getattr(optim, 'RAdam')\n",
    "        optimizer = Optimizer(model2.parameters(),0.0005)\n",
    "        train3(model2,dataloader1,dataloader2,optimizer,epoches)\n",
    "    temp = model2.embeddings.weight.data\n",
    "    return temp,nodes_merge[0]"
   ]
  },
  {
   "cell_type": "code",
   "execution_count": 66,
   "metadata": {},
   "outputs": [
    {
     "data": {
      "text/plain": [
       "View of AnnData object with n_obs × n_vars = 1439 × 627\n",
       "    obs: 'orig.ident', 'nCount_RNA', 'nFeature_RNA', 'UMAP_1', 'UMAP_2', 'Celltype..malignancy.', 'Celltype..major.lineage.', 'Celltype..minor.lineage.', 'Cluster', 'Patient', 'Source', 'Gender', 'Stage', 'n_genes', 'leiden'\n",
       "    var: 'features', 'n_cells', 'highly_variable', 'means', 'dispersions', 'dispersions_norm'\n",
       "    uns: 'log1p', 'hvg', 'pca', 'neighbors', 'diffmap_evals', 'umap', 'leiden', 'paga', 'leiden_sizes'\n",
       "    obsm: 'X_pca', 'X_diffmap', 'X_umap'\n",
       "    varm: 'PCs'\n",
       "    obsp: 'distances', 'connectivities'"
      ]
     },
     "execution_count": 66,
     "metadata": {},
     "output_type": "execute_result"
    }
   ],
   "source": [
    "l1=[]\n",
    "for i in range(len(meta_list)):\n",
    "    if(meta_list[i]=='CD4Tn' or meta_list[i]=='Th2'or meta_list[i]=='Tfh'):\n",
    "        l1.append(str(i))\n",
    "l1\n",
    "nocd4 = adata[adata.obs[adata.obs['leiden'].isin(l1)].index]\n",
    "\n",
    "nocd4"
   ]
  },
  {
   "cell_type": "code",
   "execution_count": 67,
   "metadata": {},
   "outputs": [
    {
     "data": {
      "text/plain": [
       "View of AnnData object with n_obs × n_vars = 1567 × 627\n",
       "    obs: 'orig.ident', 'nCount_RNA', 'nFeature_RNA', 'UMAP_1', 'UMAP_2', 'Celltype..malignancy.', 'Celltype..major.lineage.', 'Celltype..minor.lineage.', 'Cluster', 'Patient', 'Source', 'Gender', 'Stage', 'n_genes', 'leiden'\n",
       "    var: 'features', 'n_cells', 'highly_variable', 'means', 'dispersions', 'dispersions_norm'\n",
       "    uns: 'log1p', 'hvg', 'pca', 'neighbors', 'diffmap_evals', 'umap', 'leiden', 'paga', 'leiden_sizes'\n",
       "    obsm: 'X_pca', 'X_diffmap', 'X_umap'\n",
       "    varm: 'PCs'\n",
       "    obsp: 'distances', 'connectivities'"
      ]
     },
     "execution_count": 67,
     "metadata": {},
     "output_type": "execute_result"
    }
   ],
   "source": [
    "l2=[]\n",
    "for i in range(len(meta_list)):\n",
    "    if(meta_list[i]=='Th17' or meta_list[i]=='CD4Tn'or meta_list[i]=='Tfh'):\n",
    "        l2.append(str(i))\n",
    "l2\n",
    "noth2 = adata[adata.obs[adata.obs['leiden'].isin(l2)].index]\n",
    "noth2"
   ]
  },
  {
   "cell_type": "code",
   "execution_count": 68,
   "metadata": {},
   "outputs": [
    {
     "data": {
      "text/plain": [
       "(['0', '2', '3', '4', '5'], ['0', '1', '2', '3', '4'])"
      ]
     },
     "execution_count": 68,
     "metadata": {},
     "output_type": "execute_result"
    }
   ],
   "source": [
    "l1,l2"
   ]
  },
  {
   "cell_type": "code",
   "execution_count": 69,
   "metadata": {},
   "outputs": [],
   "source": [
    "inter_gene = nocd4.var.index.tolist()\n",
    "\n",
    "tmp1 = calculate_cluster_centroid_for_genes(nocd4,inter_gene,'./datas/i/1/')\n",
    "tmp2 = calculate_cluster_centroid_for_genes(noth2,inter_gene,'./datas/i/2/')\n",
    "\n",
    "\n",
    "meta_list1 = calculate_cluster_celltype(nocd4,meta_col='Celltype..minor.lineage.');\n",
    "meta_list2 = calculate_cluster_celltype(noth2,meta_col='Celltype..minor.lineage.');"
   ]
  },
  {
   "cell_type": "code",
   "execution_count": 70,
   "metadata": {},
   "outputs": [
    {
     "name": "stdout",
     "output_type": "stream",
     "text": [
      "./datas/i/1/datas.data length:5\n",
      "Generating all pairs superset\n"
     ]
    }
   ],
   "source": [
    "data_path = './datas/i/1/' + 'datas.data'\n",
    "np.random.seed(1234)\n",
    "torch.manual_seed(1234)\n",
    "x, y_true, similarities = load_data(data_path,1,tmp1.shape[1]+1,0)\n",
    "print(\"{} length:{}\".format(data_path,len(y_true)));\n",
    "dataset = HCDataset(x, y_true, similarities, num_samples=50000)\n",
    "dataloader = data.DataLoader(dataset, batch_size=32, shuffle=True, pin_memory=True)\n",
    "model = HypHC(dataset.n_nodes, 2, 5e-2, 5e-2 ,0.999)\n",
    "\n",
    "# model.to(\"cpu\")\n",
    "Optimizer = getattr(optim, 'RAdam')\n",
    "optimizer = Optimizer(model.parameters(),0.0005)\n"
   ]
  },
  {
   "cell_type": "code",
   "execution_count": 71,
   "metadata": {},
   "outputs": [
    {
     "name": "stdout",
     "output_type": "stream",
     "text": [
      "\t Epoch 0 | average train loss: 0.822875\n",
      "Optimization finished.\n",
      "\t Epoch 1 | average train loss: 0.816289\n",
      "Optimization finished.\n",
      "\t Epoch 2 | average train loss: 0.800738\n",
      "Optimization finished.\n",
      "\t Epoch 3 | average train loss: 0.801798\n",
      "Optimization finished.\n",
      "\t Epoch 4 | average train loss: 0.799257\n",
      "Optimization finished.\n",
      "\t Epoch 5 | average train loss: 0.798994\n",
      "Optimization finished.\n",
      "\t Epoch 6 | average train loss: 0.794972\n",
      "Optimization finished.\n",
      "\t Epoch 7 | average train loss: 0.791045\n",
      "Optimization finished.\n",
      "\t Epoch 8 | average train loss: 0.793357\n",
      "Optimization finished.\n",
      "\t Epoch 9 | average train loss: 0.797366\n",
      "Optimization finished.\n",
      "\t Epoch 10 | average train loss: 0.796508\n",
      "Optimization finished.\n",
      "\t Epoch 11 | average train loss: 0.798387\n",
      "Optimization finished.\n",
      "\t Epoch 12 | average train loss: 0.796634\n",
      "Optimization finished.\n",
      "\t Epoch 13 | average train loss: 0.798791\n",
      "Optimization finished.\n",
      "\t Epoch 14 | average train loss: 0.792754\n",
      "Optimization finished.\n",
      "\t Epoch 15 | average train loss: 0.799426\n",
      "Optimization finished.\n",
      "\t Epoch 16 | average train loss: 0.790942\n",
      "Optimization finished.\n",
      "\t Epoch 17 | average train loss: 0.790979\n",
      "Optimization finished.\n",
      "\t Epoch 18 | average train loss: 0.795174\n",
      "Optimization finished.\n",
      "\t Epoch 19 | average train loss: 0.801228\n",
      "Optimization finished.\n",
      "\t Epoch 20 | average train loss: 0.787741\n",
      "Optimization finished.\n",
      "\t Epoch 21 | average train loss: 0.790041\n",
      "early stopping.\n"
     ]
    }
   ],
   "source": [
    "train(model,dataloader,optimizer,similarities,30);\n"
   ]
  },
  {
   "cell_type": "code",
   "execution_count": 72,
   "metadata": {},
   "outputs": [],
   "source": [
    "torch.save(model.state_dict(),'./datas/i/1/' +'model3.pth');\n"
   ]
  },
  {
   "cell_type": "code",
   "execution_count": 93,
   "metadata": {},
   "outputs": [
    {
     "data": {
      "text/plain": [
       "<All keys matched successfully>"
      ]
     },
     "execution_count": 93,
     "metadata": {},
     "output_type": "execute_result"
    }
   ],
   "source": [
    "params = torch.load(('./datas/i/1/'+'model3.pth'), map_location=torch.device('cpu'))\n",
    "model.load_state_dict(params)"
   ]
  },
  {
   "cell_type": "code",
   "execution_count": 94,
   "metadata": {},
   "outputs": [
    {
     "name": "stderr",
     "output_type": "stream",
     "text": [
      "/Users/dongjiajie/Desktop/alignment/fyp/hyperalignment/final/utils/mst.py:4: DeprecationWarning:\n",
      "\n",
      "`np.int` is a deprecated alias for the builtin `int`. To silence this warning, use `int` by itself. Doing this will not modify any behavior and is safe. When replacing `np.int`, you may wish to use e.g. `np.int64` or `np.int32` to specify the precision. If you wish to review your current use, check the release note link for additional information.\n",
      "Deprecated in NumPy 1.20; for more details and guidance: https://numpy.org/devdocs/release/1.20.0-notes.html#deprecations\n",
      "\n",
      "/Users/dongjiajie/Desktop/alignment/fyp/hyperalignment/final/utils/mst.py:10: DeprecationWarning:\n",
      "\n",
      "`np.int` is a deprecated alias for the builtin `int`. To silence this warning, use `int` by itself. Doing this will not modify any behavior and is safe. When replacing `np.int`, you may wish to use e.g. `np.int64` or `np.int32` to specify the precision. If you wish to review your current use, check the release note link for additional information.\n",
      "Deprecated in NumPy 1.20; for more details and guidance: https://numpy.org/devdocs/release/1.20.0-notes.html#deprecations\n",
      "\n",
      "/Users/dongjiajie/Desktop/alignment/fyp/hyperalignment/final/utils/mst.py:15: DeprecationWarning:\n",
      "\n",
      "`np.int` is a deprecated alias for the builtin `int`. To silence this warning, use `int` by itself. Doing this will not modify any behavior and is safe. When replacing `np.int`, you may wish to use e.g. `np.int64` or `np.int32` to specify the precision. If you wish to review your current use, check the release note link for additional information.\n",
      "Deprecated in NumPy 1.20; for more details and guidance: https://numpy.org/devdocs/release/1.20.0-notes.html#deprecations\n",
      "\n"
     ]
    },
    {
     "data": {
      "image/png": "[encoded data removed]",
      "text/plain": [
       "<Figure size 1500x1500 with 1 Axes>"
      ]
     },
     "metadata": {},
     "output_type": "display_data"
    }
   ],
   "source": [
    "model.eval()\n",
    "\n",
    "sim_fn = lambda x, y: torch.sum(x * y, dim=-1)\n",
    "n=len(x);\n",
    "leaves_embeddings = model.normalize_embeddings(model.embeddings.weight.data)\n",
    "leaves_embeddings = project(leaves_embeddings).detach().cpu()\n",
    "ijs = sl_np_mst_ij(leaves_embeddings,sim_fn)\n",
    "uf = UnionFind(n)\n",
    "uf.merge(ijs)\n",
    "\n",
    "tree = nx.DiGraph()\n",
    "for i, j in enumerate(uf.tree()[:-1]):\n",
    "    if(j!=-1):\n",
    "        tree.add_edge(j, i)\n",
    "\n",
    "n = len(leaves_embeddings)\n",
    "embeddings = complete_tree(tree, leaves_embeddings)\n",
    "colors = get_colors(meta_list1, 1234)\n",
    "fig = plt.figure(figsize=(15, 15))\n",
    "ax = fig.add_subplot(111)\n",
    "circle = plt.Circle((0, 0), 1.0, color='r', alpha=0.1)\n",
    "ax.add_artist(circle)\n",
    "ax.scatter(embeddings[:n, 0], embeddings[:n, 1], c=colors, s=50, alpha=0.6)\n",
    "# ax.scatter(embeddings[n:,0],embeddings[n:,1],color ='black',s=20,alpha=0.6)\n",
    "for n1, n2 in tree.edges():\n",
    "    x1 = embeddings[n1];\n",
    "    x2 = embeddings[n2]\n",
    "    plot_geodesic(x1,x2,ax)"
   ]
  },
  {
   "cell_type": "code",
   "execution_count": 95,
   "metadata": {},
   "outputs": [
    {
     "name": "stdout",
     "output_type": "stream",
     "text": [
      "{'CD4Tn': '#184e77', 'Th2': '#1a759f', 'Tfh': '#168aad', 'empty': '#fff'}\n"
     ]
    },
    {
     "data": {
      "application/vnd.plotly.v1+json": {
       "config": {
        "plotlyServerURL": "https://plot.ly"
       },
       "data": [
        {
         "hoverinfo": "text",
         "hovertext": [
          "0_CD4Tn"
         ],
         "legendgroup": "CD4Tn",
         "marker": {
          "color": "#184e77",
          "size": 10,
          "symbol": "circle-dot"
         },
         "mode": "markers+text",
         "name": "CD4Tn",
         "type": "scatter",
         "x": [
          6.625
         ],
         "y": [
          2
         ]
        },
        {
         "hoverinfo": "text",
         "hovertext": [
          "4_Th2"
         ],
         "legendgroup": "Th2",
         "marker": {
          "color": "#1a759f",
          "size": 10,
          "symbol": "circle-dot"
         },
         "mode": "markers+text",
         "name": "Th2",
         "type": "scatter",
         "x": [
          4.375
         ],
         "y": [
          2
         ]
        },
        {
         "hoverinfo": "text",
         "hovertext": [
          "3_Tfh",
          "1_Tfh",
          "2_Tfh"
         ],
         "legendgroup": "Tfh",
         "marker": {
          "color": "#168aad",
          "size": 10,
          "symbol": "circle-dot"
         },
         "mode": "markers+text",
         "name": "Tfh",
         "type": "scatter",
         "x": [
          2.125,
          8.3125,
          9.4375
         ],
         "y": [
          2,
          0.5,
          0.5
         ]
        },
        {
         "hoverinfo": "text",
         "hovertext": [
          "8",
          "6",
          "7",
          "5"
         ],
         "legendgroup": "empty",
         "marker": {
          "color": "#fff",
          "size": 10,
          "symbol": "circle-dot"
         },
         "mode": "markers+text",
         "name": "empty",
         "type": "scatter",
         "x": [
          5.5,
          3.25,
          7.75,
          8.875
         ],
         "y": [
          5,
          3.5,
          3.5,
          2
         ]
        }
       ],
       "layout": {
        "height": 500,
        "shapes": [
         {
          "layer": "below",
          "line": {
           "color": "#333",
           "width": 2
          },
          "type": "line",
          "x0": 5.5,
          "x1": 5.5,
          "y0": 5,
          "y1": 5
         },
         {
          "layer": "below",
          "line": {
           "color": "#333",
           "width": 2
          },
          "type": "line",
          "x0": 5.5,
          "x1": 3.25,
          "y0": 5,
          "y1": 3.5
         },
         {
          "layer": "below",
          "line": {
           "color": "#333",
           "width": 2
          },
          "type": "line",
          "x0": 3.25,
          "x1": 2.125,
          "y0": 3.5,
          "y1": 2
         },
         {
          "layer": "below",
          "line": {
           "color": "#333",
           "width": 2
          },
          "type": "line",
          "x0": 3.25,
          "x1": 4.375,
          "y0": 3.5,
          "y1": 2
         },
         {
          "layer": "below",
          "line": {
           "color": "#333",
           "width": 2
          },
          "type": "line",
          "x0": 5.5,
          "x1": 7.75,
          "y0": 5,
          "y1": 3.5
         },
         {
          "layer": "below",
          "line": {
           "color": "#333",
           "width": 2
          },
          "type": "line",
          "x0": 7.75,
          "x1": 6.625,
          "y0": 3.5,
          "y1": 2
         },
         {
          "layer": "below",
          "line": {
           "color": "#333",
           "width": 2
          },
          "type": "line",
          "x0": 7.75,
          "x1": 8.875,
          "y0": 3.5,
          "y1": 2
         },
         {
          "layer": "below",
          "line": {
           "color": "#333",
           "width": 2
          },
          "type": "line",
          "x0": 8.875,
          "x1": 8.3125,
          "y0": 2,
          "y1": 0.5
         },
         {
          "layer": "below",
          "line": {
           "color": "#333",
           "width": 2
          },
          "type": "line",
          "x0": 8.875,
          "x1": 9.4375,
          "y0": 2,
          "y1": 0.5
         }
        ],
        "template": {
         "data": {
          "bar": [
           {
            "error_x": {
             "color": "#2a3f5f"
            },
            "error_y": {
             "color": "#2a3f5f"
            },
            "marker": {
             "line": {
              "color": "#E5ECF6",
              "width": 0.5
             },
             "pattern": {
              "fillmode": "overlay",
              "size": 10,
              "solidity": 0.2
             }
            },
            "type": "bar"
           }
          ],
          "barpolar": [
           {
            "marker": {
             "line": {
              "color": "#E5ECF6",
              "width": 0.5
             },
             "pattern": {
              "fillmode": "overlay",
              "size": 10,
              "solidity": 0.2
             }
            },
            "type": "barpolar"
           }
          ],
          "carpet": [
           {
            "aaxis": {
             "endlinecolor": "#2a3f5f",
             "gridcolor": "white",
             "linecolor": "white",
             "minorgridcolor": "white",
             "startlinecolor": "#2a3f5f"
            },
            "baxis": {
             "endlinecolor": "#2a3f5f",
             "gridcolor": "white",
             "linecolor": "white",
             "minorgridcolor": "white",
             "startlinecolor": "#2a3f5f"
            },
            "type": "carpet"
           }
          ],
          "choropleth": [
           {
            "colorbar": {
             "outlinewidth": 0,
             "ticks": ""
            },
            "type": "choropleth"
           }
          ],
          "contour": [
           {
            "colorbar": {
             "outlinewidth": 0,
             "ticks": ""
            },
            "colorscale": [
             [
              0,
              "#0d0887"
             ],
             [
              0.1111111111111111,
              "#46039f"
             ],
             [
              0.2222222222222222,
              "#7201a8"
             ],
             [
              0.3333333333333333,
              "#9c179e"
             ],
             [
              0.4444444444444444,
              "#bd3786"
             ],
             [
              0.5555555555555556,
              "#d8576b"
             ],
             [
              0.6666666666666666,
              "#ed7953"
             ],
             [
              0.7777777777777778,
              "#fb9f3a"
             ],
             [
              0.8888888888888888,
              "#fdca26"
             ],
             [
              1,
              "#f0f921"
             ]
            ],
            "type": "contour"
           }
          ],
          "contourcarpet": [
           {
            "colorbar": {
             "outlinewidth": 0,
             "ticks": ""
            },
            "type": "contourcarpet"
           }
          ],
          "heatmap": [
           {
            "colorbar": {
             "outlinewidth": 0,
             "ticks": ""
            },
            "colorscale": [
             [
              0,
              "#0d0887"
             ],
             [
              0.1111111111111111,
              "#46039f"
             ],
             [
              0.2222222222222222,
              "#7201a8"
             ],
             [
              0.3333333333333333,
              "#9c179e"
             ],
             [
              0.4444444444444444,
              "#bd3786"
             ],
             [
              0.5555555555555556,
              "#d8576b"
             ],
             [
              0.6666666666666666,
              "#ed7953"
             ],
             [
              0.7777777777777778,
              "#fb9f3a"
             ],
             [
              0.8888888888888888,
              "#fdca26"
             ],
             [
              1,
              "#f0f921"
             ]
            ],
            "type": "heatmap"
           }
          ],
          "heatmapgl": [
           {
            "colorbar": {
             "outlinewidth": 0,
             "ticks": ""
            },
            "colorscale": [
             [
              0,
              "#0d0887"
             ],
             [
              0.1111111111111111,
              "#46039f"
             ],
             [
              0.2222222222222222,
              "#7201a8"
             ],
             [
              0.3333333333333333,
              "#9c179e"
             ],
             [
              0.4444444444444444,
              "#bd3786"
             ],
             [
              0.5555555555555556,
              "#d8576b"
             ],
             [
              0.6666666666666666,
              "#ed7953"
             ],
             [
              0.7777777777777778,
              "#fb9f3a"
             ],
             [
              0.8888888888888888,
              "#fdca26"
             ],
             [
              1,
              "#f0f921"
             ]
            ],
            "type": "heatmapgl"
           }
          ],
          "histogram": [
           {
            "marker": {
             "pattern": {
              "fillmode": "overlay",
              "size": 10,
              "solidity": 0.2
             }
            },
            "type": "histogram"
           }
          ],
          "histogram2d": [
           {
            "colorbar": {
             "outlinewidth": 0,
             "ticks": ""
            },
            "colorscale": [
             [
              0,
              "#0d0887"
             ],
             [
              0.1111111111111111,
              "#46039f"
             ],
             [
              0.2222222222222222,
              "#7201a8"
             ],
             [
              0.3333333333333333,
              "#9c179e"
             ],
             [
              0.4444444444444444,
              "#bd3786"
             ],
             [
              0.5555555555555556,
              "#d8576b"
             ],
             [
              0.6666666666666666,
              "#ed7953"
             ],
             [
              0.7777777777777778,
              "#fb9f3a"
             ],
             [
              0.8888888888888888,
              "#fdca26"
             ],
             [
              1,
              "#f0f921"
             ]
            ],
            "type": "histogram2d"
           }
          ],
          "histogram2dcontour": [
           {
            "colorbar": {
             "outlinewidth": 0,
             "ticks": ""
            },
            "colorscale": [
             [
              0,
              "#0d0887"
             ],
             [
              0.1111111111111111,
              "#46039f"
             ],
             [
              0.2222222222222222,
              "#7201a8"
             ],
             [
              0.3333333333333333,
              "#9c179e"
             ],
             [
              0.4444444444444444,
              "#bd3786"
             ],
             [
              0.5555555555555556,
              "#d8576b"
             ],
             [
              0.6666666666666666,
              "#ed7953"
             ],
             [
              0.7777777777777778,
              "#fb9f3a"
             ],
             [
              0.8888888888888888,
              "#fdca26"
             ],
             [
              1,
              "#f0f921"
             ]
            ],
            "type": "histogram2dcontour"
           }
          ],
          "mesh3d": [
           {
            "colorbar": {
             "outlinewidth": 0,
             "ticks": ""
            },
            "type": "mesh3d"
           }
          ],
          "parcoords": [
           {
            "line": {
             "colorbar": {
              "outlinewidth": 0,
              "ticks": ""
             }
            },
            "type": "parcoords"
           }
          ],
          "pie": [
           {
            "automargin": true,
            "type": "pie"
           }
          ],
          "scatter": [
           {
            "fillpattern": {
             "fillmode": "overlay",
             "size": 10,
             "solidity": 0.2
            },
            "type": "scatter"
           }
          ],
          "scatter3d": [
           {
            "line": {
             "colorbar": {
              "outlinewidth": 0,
              "ticks": ""
             }
            },
            "marker": {
             "colorbar": {
              "outlinewidth": 0,
              "ticks": ""
             }
            },
            "type": "scatter3d"
           }
          ],
          "scattercarpet": [
           {
            "marker": {
             "colorbar": {
              "outlinewidth": 0,
              "ticks": ""
             }
            },
            "type": "scattercarpet"
           }
          ],
          "scattergeo": [
           {
            "marker": {
             "colorbar": {
              "outlinewidth": 0,
              "ticks": ""
             }
            },
            "type": "scattergeo"
           }
          ],
          "scattergl": [
           {
            "marker": {
             "colorbar": {
              "outlinewidth": 0,
              "ticks": ""
             }
            },
            "type": "scattergl"
           }
          ],
          "scattermapbox": [
           {
            "marker": {
             "colorbar": {
              "outlinewidth": 0,
              "ticks": ""
             }
            },
            "type": "scattermapbox"
           }
          ],
          "scatterpolar": [
           {
            "marker": {
             "colorbar": {
              "outlinewidth": 0,
              "ticks": ""
             }
            },
            "type": "scatterpolar"
           }
          ],
          "scatterpolargl": [
           {
            "marker": {
             "colorbar": {
              "outlinewidth": 0,
              "ticks": ""
             }
            },
            "type": "scatterpolargl"
           }
          ],
          "scatterternary": [
           {
            "marker": {
             "colorbar": {
              "outlinewidth": 0,
              "ticks": ""
             }
            },
            "type": "scatterternary"
           }
          ],
          "surface": [
           {
            "colorbar": {
             "outlinewidth": 0,
             "ticks": ""
            },
            "colorscale": [
             [
              0,
              "#0d0887"
             ],
             [
              0.1111111111111111,
              "#46039f"
             ],
             [
              0.2222222222222222,
              "#7201a8"
             ],
             [
              0.3333333333333333,
              "#9c179e"
             ],
             [
              0.4444444444444444,
              "#bd3786"
             ],
             [
              0.5555555555555556,
              "#d8576b"
             ],
             [
              0.6666666666666666,
              "#ed7953"
             ],
             [
              0.7777777777777778,
              "#fb9f3a"
             ],
             [
              0.8888888888888888,
              "#fdca26"
             ],
             [
              1,
              "#f0f921"
             ]
            ],
            "type": "surface"
           }
          ],
          "table": [
           {
            "cells": {
             "fill": {
              "color": "#EBF0F8"
             },
             "line": {
              "color": "white"
             }
            },
            "header": {
             "fill": {
              "color": "#C8D4E3"
             },
             "line": {
              "color": "white"
             }
            },
            "type": "table"
           }
          ]
         },
         "layout": {
          "annotationdefaults": {
           "arrowcolor": "#2a3f5f",
           "arrowhead": 0,
           "arrowwidth": 1
          },
          "autotypenumbers": "strict",
          "coloraxis": {
           "colorbar": {
            "outlinewidth": 0,
            "ticks": ""
           }
          },
          "colorscale": {
           "diverging": [
            [
             0,
             "#8e0152"
            ],
            [
             0.1,
             "#c51b7d"
            ],
            [
             0.2,
             "#de77ae"
            ],
            [
             0.3,
             "#f1b6da"
            ],
            [
             0.4,
             "#fde0ef"
            ],
            [
             0.5,
             "#f7f7f7"
            ],
            [
             0.6,
             "#e6f5d0"
            ],
            [
             0.7,
             "#b8e186"
            ],
            [
             0.8,
             "#7fbc41"
            ],
            [
             0.9,
             "#4d9221"
            ],
            [
             1,
             "#276419"
            ]
           ],
           "sequential": [
            [
             0,
             "#0d0887"
            ],
            [
             0.1111111111111111,
             "#46039f"
            ],
            [
             0.2222222222222222,
             "#7201a8"
            ],
            [
             0.3333333333333333,
             "#9c179e"
            ],
            [
             0.4444444444444444,
             "#bd3786"
            ],
            [
             0.5555555555555556,
             "#d8576b"
            ],
            [
             0.6666666666666666,
             "#ed7953"
            ],
            [
             0.7777777777777778,
             "#fb9f3a"
            ],
            [
             0.8888888888888888,
             "#fdca26"
            ],
            [
             1,
             "#f0f921"
            ]
           ],
           "sequentialminus": [
            [
             0,
             "#0d0887"
            ],
            [
             0.1111111111111111,
             "#46039f"
            ],
            [
             0.2222222222222222,
             "#7201a8"
            ],
            [
             0.3333333333333333,
             "#9c179e"
            ],
            [
             0.4444444444444444,
             "#bd3786"
            ],
            [
             0.5555555555555556,
             "#d8576b"
            ],
            [
             0.6666666666666666,
             "#ed7953"
            ],
            [
             0.7777777777777778,
             "#fb9f3a"
            ],
            [
             0.8888888888888888,
             "#fdca26"
            ],
            [
             1,
             "#f0f921"
            ]
           ]
          },
          "colorway": [
           "#636efa",
           "#EF553B",
           "#00cc96",
           "#ab63fa",
           "#FFA15A",
           "#19d3f3",
           "#FF6692",
           "#B6E880",
           "#FF97FF",
           "#FECB52"
          ],
          "font": {
           "color": "#2a3f5f"
          },
          "geo": {
           "bgcolor": "white",
           "lakecolor": "white",
           "landcolor": "#E5ECF6",
           "showlakes": true,
           "showland": true,
           "subunitcolor": "white"
          },
          "hoverlabel": {
           "align": "left"
          },
          "hovermode": "closest",
          "mapbox": {
           "style": "light"
          },
          "paper_bgcolor": "white",
          "plot_bgcolor": "#E5ECF6",
          "polar": {
           "angularaxis": {
            "gridcolor": "white",
            "linecolor": "white",
            "ticks": ""
           },
           "bgcolor": "#E5ECF6",
           "radialaxis": {
            "gridcolor": "white",
            "linecolor": "white",
            "ticks": ""
           }
          },
          "scene": {
           "xaxis": {
            "backgroundcolor": "#E5ECF6",
            "gridcolor": "white",
            "gridwidth": 2,
            "linecolor": "white",
            "showbackground": true,
            "ticks": "",
            "zerolinecolor": "white"
           },
           "yaxis": {
            "backgroundcolor": "#E5ECF6",
            "gridcolor": "white",
            "gridwidth": 2,
            "linecolor": "white",
            "showbackground": true,
            "ticks": "",
            "zerolinecolor": "white"
           },
           "zaxis": {
            "backgroundcolor": "#E5ECF6",
            "gridcolor": "white",
            "gridwidth": 2,
            "linecolor": "white",
            "showbackground": true,
            "ticks": "",
            "zerolinecolor": "white"
           }
          },
          "shapedefaults": {
           "line": {
            "color": "#2a3f5f"
           }
          },
          "ternary": {
           "aaxis": {
            "gridcolor": "white",
            "linecolor": "white",
            "ticks": ""
           },
           "baxis": {
            "gridcolor": "white",
            "linecolor": "white",
            "ticks": ""
           },
           "bgcolor": "#E5ECF6",
           "caxis": {
            "gridcolor": "white",
            "linecolor": "white",
            "ticks": ""
           }
          },
          "title": {
           "x": 0.05
          },
          "xaxis": {
           "automargin": true,
           "gridcolor": "white",
           "linecolor": "white",
           "ticks": "",
           "title": {
            "standoff": 15
           },
           "zerolinecolor": "white",
           "zerolinewidth": 2
          },
          "yaxis": {
           "automargin": true,
           "gridcolor": "white",
           "linecolor": "white",
           "ticks": "",
           "title": {
            "standoff": 15
           },
           "zerolinecolor": "white",
           "zerolinewidth": 2
          }
         }
        },
        "width": 1000,
        "xaxis": {
         "showgrid": false,
         "showline": false,
         "showticklabels": false,
         "zeroline": false
        },
        "yaxis": {
         "showgrid": false,
         "showline": false,
         "showticklabels": false,
         "zeroline": false
        }
       }
      }
     },
     "metadata": {},
     "output_type": "display_data"
    }
   ],
   "source": [
    "\n",
    "nodes1 = [node(name=str(i),son=[]) for i in range(len(uf.tree()))]\n",
    "for i in range(n):\n",
    "    nodes1[i].subson=[i];\n",
    "for i,j in enumerate(uf.tree()):\n",
    "    if(j!=-1):\n",
    "        nodes1[j].son.append(nodes1[i])\n",
    "    nodes1[i].value=torch.tensor(embeddings[i]);\n",
    "    nodes1[i].hyper=torch.tensor(embeddings[i])\n",
    "root = nodes1[-1];\n",
    "add_meta(root,meta_list1,[])\n",
    "show_tree(root,color=['#184e77','#1a759f','#168aad',\"#34a0a4\",'#52b69a','#99d98c','#76c893','#99d98c']).show_fig()\n",
    "remove_meta(root);"
   ]
  },
  {
   "cell_type": "code",
   "execution_count": 76,
   "metadata": {},
   "outputs": [
    {
     "name": "stdout",
     "output_type": "stream",
     "text": [
      "6 12\n",
      "\t Epoch 0 | average train loss1: 0.352574\n"
     ]
    },
    {
     "name": "stderr",
     "output_type": "stream",
     "text": [
      "/Users/dongjiajie/Desktop/alignment/fyp/hyperalignment/final/datasets/balance_dataset.py:54: VisibleDeprecationWarning:\n",
      "\n",
      "Creating an ndarray from ragged nested sequences (which is a list-or-tuple of lists-or-tuples-or ndarrays with different lengths or shapes) is deprecated. If you meant to do this, you must specify 'dtype=object' when creating the ndarray.\n",
      "\n",
      "/Users/dongjiajie/Desktop/alignment/fyp/hyperalignment/final/model/balancehc.py:22: UserWarning:\n",
      "\n",
      "To copy construct from a tensor, it is recommended to use sourceTensor.clone().detach() or sourceTensor.clone().detach().requires_grad_(True), rather than torch.tensor(sourceTensor).\n",
      "\n"
     ]
    },
    {
     "name": "stdout",
     "output_type": "stream",
     "text": [
      "\t Epoch 0 | average train loss2: 0.336565\n",
      "\t Epoch 1 | average train loss1: 0.333526\n"
     ]
    },
    {
     "name": "stderr",
     "output_type": "stream",
     "text": [
      "/Users/dongjiajie/Desktop/alignment/fyp/hyperalignment/final/model/balancehc.py:46: UserWarning:\n",
      "\n",
      "To copy construct from a tensor, it is recommended to use sourceTensor.clone().detach() or sourceTensor.clone().detach().requires_grad_(True), rather than torch.tensor(sourceTensor).\n",
      "\n",
      "/Users/dongjiajie/Desktop/alignment/fyp/hyperalignment/final/model/balancehc.py:71: UserWarning:\n",
      "\n",
      "To copy construct from a tensor, it is recommended to use sourceTensor.clone().detach() or sourceTensor.clone().detach().requires_grad_(True), rather than torch.tensor(sourceTensor).\n",
      "\n",
      "/Users/dongjiajie/Desktop/alignment/fyp/hyperalignment/final/model/balancehc.py:92: UserWarning:\n",
      "\n",
      "To copy construct from a tensor, it is recommended to use sourceTensor.clone().detach() or sourceTensor.clone().detach().requires_grad_(True), rather than torch.tensor(sourceTensor).\n",
      "\n"
     ]
    },
    {
     "name": "stdout",
     "output_type": "stream",
     "text": [
      "\t Epoch 1 | average train loss2: 0.322120\n",
      "\t Epoch 2 | average train loss1: 0.326195\n",
      "\t Epoch 2 | average train loss2: 0.319139\n"
     ]
    }
   ],
   "source": [
    "temp = rotate(nodes1,embeddings,3,n,similarities)\n",
    "for i in nodes1:\n",
    "    i.hyper = temp[int(i)]\n",
    "    i.value =  temp[int(i)]\n",
    "embeddings = temp.numpy();\n",
    "root = nodes1[-1]"
   ]
  },
  {
   "cell_type": "code",
   "execution_count": 77,
   "metadata": {},
   "outputs": [
    {
     "name": "stdout",
     "output_type": "stream",
     "text": [
      "6 4\n",
      "5 1\n",
      "[8, 4, 3, 7, 0, 1, 2]\n",
      "6 6\n",
      "\t Epoch 0 | average train loss1: 0.309751\n",
      "\t Epoch 0 | average train loss2: 0.304479\n",
      "\t Epoch 1 | average train loss1: 0.306873\n",
      "\t Epoch 1 | average train loss2: 0.310898\n",
      "\t Epoch 2 | average train loss1: 0.306574\n",
      "\t Epoch 2 | average train loss2: 0.313725\n",
      "{'CD4Tn': '#184e77', 'Th2': '#1a759f', 'Tfh': '#168aad', 'empty': '#fff'}\n"
     ]
    },
    {
     "data": {
      "application/vnd.plotly.v1+json": {
       "config": {
        "plotlyServerURL": "https://plot.ly"
       },
       "data": [
        {
         "hoverinfo": "text",
         "hovertext": [
          "0_CD4Tn"
         ],
         "legendgroup": "CD4Tn",
         "marker": {
          "color": "#184e77",
          "size": 10,
          "symbol": "circle-dot"
         },
         "mode": "markers+text",
         "name": "CD4Tn",
         "type": "scatter",
         "x": [
          6.625
         ],
         "y": [
          2
         ]
        },
        {
         "hoverinfo": "text",
         "hovertext": [
          "4_Th2"
         ],
         "legendgroup": "Th2",
         "marker": {
          "color": "#1a759f",
          "size": 10,
          "symbol": "circle-dot"
         },
         "mode": "markers+text",
         "name": "Th2",
         "type": "scatter",
         "x": [
          3.25
         ],
         "y": [
          3.5
         ]
        },
        {
         "hoverinfo": "text",
         "hovertext": [
          "3_Tfh",
          "1_Tfh",
          "2_Tfh"
         ],
         "legendgroup": "Tfh",
         "marker": {
          "color": "#168aad",
          "size": 10,
          "symbol": "circle-dot"
         },
         "mode": "markers+text",
         "name": "Tfh",
         "type": "scatter",
         "x": [
          3.25,
          8.875,
          8.875
         ],
         "y": [
          2,
          2,
          0.5
         ]
        },
        {
         "hoverinfo": "text",
         "hovertext": [
          "8",
          "7"
         ],
         "legendgroup": "empty",
         "marker": {
          "color": "#fff",
          "size": 10,
          "symbol": "circle-dot"
         },
         "mode": "markers+text",
         "name": "empty",
         "type": "scatter",
         "x": [
          5.5,
          7.75
         ],
         "y": [
          5,
          3.5
         ]
        }
       ],
       "layout": {
        "height": 500,
        "shapes": [
         {
          "layer": "below",
          "line": {
           "color": "#333",
           "width": 2
          },
          "type": "line",
          "x0": 5.5,
          "x1": 5.5,
          "y0": 5,
          "y1": 5
         },
         {
          "layer": "below",
          "line": {
           "color": "#333",
           "width": 2
          },
          "type": "line",
          "x0": 5.5,
          "x1": 3.25,
          "y0": 5,
          "y1": 3.5
         },
         {
          "layer": "below",
          "line": {
           "color": "#333",
           "width": 2
          },
          "type": "line",
          "x0": 3.25,
          "x1": 3.25,
          "y0": 3.5,
          "y1": 2
         },
         {
          "layer": "below",
          "line": {
           "color": "#333",
           "width": 2
          },
          "type": "line",
          "x0": 5.5,
          "x1": 7.75,
          "y0": 5,
          "y1": 3.5
         },
         {
          "layer": "below",
          "line": {
           "color": "#333",
           "width": 2
          },
          "type": "line",
          "x0": 7.75,
          "x1": 6.625,
          "y0": 3.5,
          "y1": 2
         },
         {
          "layer": "below",
          "line": {
           "color": "#333",
           "width": 2
          },
          "type": "line",
          "x0": 7.75,
          "x1": 8.875,
          "y0": 3.5,
          "y1": 2
         },
         {
          "layer": "below",
          "line": {
           "color": "#333",
           "width": 2
          },
          "type": "line",
          "x0": 8.875,
          "x1": 8.875,
          "y0": 2,
          "y1": 0.5
         }
        ],
        "template": {
         "data": {
          "bar": [
           {
            "error_x": {
             "color": "#2a3f5f"
            },
            "error_y": {
             "color": "#2a3f5f"
            },
            "marker": {
             "line": {
              "color": "#E5ECF6",
              "width": 0.5
             },
             "pattern": {
              "fillmode": "overlay",
              "size": 10,
              "solidity": 0.2
             }
            },
            "type": "bar"
           }
          ],
          "barpolar": [
           {
            "marker": {
             "line": {
              "color": "#E5ECF6",
              "width": 0.5
             },
             "pattern": {
              "fillmode": "overlay",
              "size": 10,
              "solidity": 0.2
             }
            },
            "type": "barpolar"
           }
          ],
          "carpet": [
           {
            "aaxis": {
             "endlinecolor": "#2a3f5f",
             "gridcolor": "white",
             "linecolor": "white",
             "minorgridcolor": "white",
             "startlinecolor": "#2a3f5f"
            },
            "baxis": {
             "endlinecolor": "#2a3f5f",
             "gridcolor": "white",
             "linecolor": "white",
             "minorgridcolor": "white",
             "startlinecolor": "#2a3f5f"
            },
            "type": "carpet"
           }
          ],
          "choropleth": [
           {
            "colorbar": {
             "outlinewidth": 0,
             "ticks": ""
            },
            "type": "choropleth"
           }
          ],
          "contour": [
           {
            "colorbar": {
             "outlinewidth": 0,
             "ticks": ""
            },
            "colorscale": [
             [
              0,
              "#0d0887"
             ],
             [
              0.1111111111111111,
              "#46039f"
             ],
             [
              0.2222222222222222,
              "#7201a8"
             ],
             [
              0.3333333333333333,
              "#9c179e"
             ],
             [
              0.4444444444444444,
              "#bd3786"
             ],
             [
              0.5555555555555556,
              "#d8576b"
             ],
             [
              0.6666666666666666,
              "#ed7953"
             ],
             [
              0.7777777777777778,
              "#fb9f3a"
             ],
             [
              0.8888888888888888,
              "#fdca26"
             ],
             [
              1,
              "#f0f921"
             ]
            ],
            "type": "contour"
           }
          ],
          "contourcarpet": [
           {
            "colorbar": {
             "outlinewidth": 0,
             "ticks": ""
            },
            "type": "contourcarpet"
           }
          ],
          "heatmap": [
           {
            "colorbar": {
             "outlinewidth": 0,
             "ticks": ""
            },
            "colorscale": [
             [
              0,
              "#0d0887"
             ],
             [
              0.1111111111111111,
              "#46039f"
             ],
             [
              0.2222222222222222,
              "#7201a8"
             ],
             [
              0.3333333333333333,
              "#9c179e"
             ],
             [
              0.4444444444444444,
              "#bd3786"
             ],
             [
              0.5555555555555556,
              "#d8576b"
             ],
             [
              0.6666666666666666,
              "#ed7953"
             ],
             [
              0.7777777777777778,
              "#fb9f3a"
             ],
             [
              0.8888888888888888,
              "#fdca26"
             ],
             [
              1,
              "#f0f921"
             ]
            ],
            "type": "heatmap"
           }
          ],
          "heatmapgl": [
           {
            "colorbar": {
             "outlinewidth": 0,
             "ticks": ""
            },
            "colorscale": [
             [
              0,
              "#0d0887"
             ],
             [
              0.1111111111111111,
              "#46039f"
             ],
             [
              0.2222222222222222,
              "#7201a8"
             ],
             [
              0.3333333333333333,
              "#9c179e"
             ],
             [
              0.4444444444444444,
              "#bd3786"
             ],
             [
              0.5555555555555556,
              "#d8576b"
             ],
             [
              0.6666666666666666,
              "#ed7953"
             ],
             [
              0.7777777777777778,
              "#fb9f3a"
             ],
             [
              0.8888888888888888,
              "#fdca26"
             ],
             [
              1,
              "#f0f921"
             ]
            ],
            "type": "heatmapgl"
           }
          ],
          "histogram": [
           {
            "marker": {
             "pattern": {
              "fillmode": "overlay",
              "size": 10,
              "solidity": 0.2
             }
            },
            "type": "histogram"
           }
          ],
          "histogram2d": [
           {
            "colorbar": {
             "outlinewidth": 0,
             "ticks": ""
            },
            "colorscale": [
             [
              0,
              "#0d0887"
             ],
             [
              0.1111111111111111,
              "#46039f"
             ],
             [
              0.2222222222222222,
              "#7201a8"
             ],
             [
              0.3333333333333333,
              "#9c179e"
             ],
             [
              0.4444444444444444,
              "#bd3786"
             ],
             [
              0.5555555555555556,
              "#d8576b"
             ],
             [
              0.6666666666666666,
              "#ed7953"
             ],
             [
              0.7777777777777778,
              "#fb9f3a"
             ],
             [
              0.8888888888888888,
              "#fdca26"
             ],
             [
              1,
              "#f0f921"
             ]
            ],
            "type": "histogram2d"
           }
          ],
          "histogram2dcontour": [
           {
            "colorbar": {
             "outlinewidth": 0,
             "ticks": ""
            },
            "colorscale": [
             [
              0,
              "#0d0887"
             ],
             [
              0.1111111111111111,
              "#46039f"
             ],
             [
              0.2222222222222222,
              "#7201a8"
             ],
             [
              0.3333333333333333,
              "#9c179e"
             ],
             [
              0.4444444444444444,
              "#bd3786"
             ],
             [
              0.5555555555555556,
              "#d8576b"
             ],
             [
              0.6666666666666666,
              "#ed7953"
             ],
             [
              0.7777777777777778,
              "#fb9f3a"
             ],
             [
              0.8888888888888888,
              "#fdca26"
             ],
             [
              1,
              "#f0f921"
             ]
            ],
            "type": "histogram2dcontour"
           }
          ],
          "mesh3d": [
           {
            "colorbar": {
             "outlinewidth": 0,
             "ticks": ""
            },
            "type": "mesh3d"
           }
          ],
          "parcoords": [
           {
            "line": {
             "colorbar": {
              "outlinewidth": 0,
              "ticks": ""
             }
            },
            "type": "parcoords"
           }
          ],
          "pie": [
           {
            "automargin": true,
            "type": "pie"
           }
          ],
          "scatter": [
           {
            "fillpattern": {
             "fillmode": "overlay",
             "size": 10,
             "solidity": 0.2
            },
            "type": "scatter"
           }
          ],
          "scatter3d": [
           {
            "line": {
             "colorbar": {
              "outlinewidth": 0,
              "ticks": ""
             }
            },
            "marker": {
             "colorbar": {
              "outlinewidth": 0,
              "ticks": ""
             }
            },
            "type": "scatter3d"
           }
          ],
          "scattercarpet": [
           {
            "marker": {
             "colorbar": {
              "outlinewidth": 0,
              "ticks": ""
             }
            },
            "type": "scattercarpet"
           }
          ],
          "scattergeo": [
           {
            "marker": {
             "colorbar": {
              "outlinewidth": 0,
              "ticks": ""
             }
            },
            "type": "scattergeo"
           }
          ],
          "scattergl": [
           {
            "marker": {
             "colorbar": {
              "outlinewidth": 0,
              "ticks": ""
             }
            },
            "type": "scattergl"
           }
          ],
          "scattermapbox": [
           {
            "marker": {
             "colorbar": {
              "outlinewidth": 0,
              "ticks": ""
             }
            },
            "type": "scattermapbox"
           }
          ],
          "scatterpolar": [
           {
            "marker": {
             "colorbar": {
              "outlinewidth": 0,
              "ticks": ""
             }
            },
            "type": "scatterpolar"
           }
          ],
          "scatterpolargl": [
           {
            "marker": {
             "colorbar": {
              "outlinewidth": 0,
              "ticks": ""
             }
            },
            "type": "scatterpolargl"
           }
          ],
          "scatterternary": [
           {
            "marker": {
             "colorbar": {
              "outlinewidth": 0,
              "ticks": ""
             }
            },
            "type": "scatterternary"
           }
          ],
          "surface": [
           {
            "colorbar": {
             "outlinewidth": 0,
             "ticks": ""
            },
            "colorscale": [
             [
              0,
              "#0d0887"
             ],
             [
              0.1111111111111111,
              "#46039f"
             ],
             [
              0.2222222222222222,
              "#7201a8"
             ],
             [
              0.3333333333333333,
              "#9c179e"
             ],
             [
              0.4444444444444444,
              "#bd3786"
             ],
             [
              0.5555555555555556,
              "#d8576b"
             ],
             [
              0.6666666666666666,
              "#ed7953"
             ],
             [
              0.7777777777777778,
              "#fb9f3a"
             ],
             [
              0.8888888888888888,
              "#fdca26"
             ],
             [
              1,
              "#f0f921"
             ]
            ],
            "type": "surface"
           }
          ],
          "table": [
           {
            "cells": {
             "fill": {
              "color": "#EBF0F8"
             },
             "line": {
              "color": "white"
             }
            },
            "header": {
             "fill": {
              "color": "#C8D4E3"
             },
             "line": {
              "color": "white"
             }
            },
            "type": "table"
           }
          ]
         },
         "layout": {
          "annotationdefaults": {
           "arrowcolor": "#2a3f5f",
           "arrowhead": 0,
           "arrowwidth": 1
          },
          "autotypenumbers": "strict",
          "coloraxis": {
           "colorbar": {
            "outlinewidth": 0,
            "ticks": ""
           }
          },
          "colorscale": {
           "diverging": [
            [
             0,
             "#8e0152"
            ],
            [
             0.1,
             "#c51b7d"
            ],
            [
             0.2,
             "#de77ae"
            ],
            [
             0.3,
             "#f1b6da"
            ],
            [
             0.4,
             "#fde0ef"
            ],
            [
             0.5,
             "#f7f7f7"
            ],
            [
             0.6,
             "#e6f5d0"
            ],
            [
             0.7,
             "#b8e186"
            ],
            [
             0.8,
             "#7fbc41"
            ],
            [
             0.9,
             "#4d9221"
            ],
            [
             1,
             "#276419"
            ]
           ],
           "sequential": [
            [
             0,
             "#0d0887"
            ],
            [
             0.1111111111111111,
             "#46039f"
            ],
            [
             0.2222222222222222,
             "#7201a8"
            ],
            [
             0.3333333333333333,
             "#9c179e"
            ],
            [
             0.4444444444444444,
             "#bd3786"
            ],
            [
             0.5555555555555556,
             "#d8576b"
            ],
            [
             0.6666666666666666,
             "#ed7953"
            ],
            [
             0.7777777777777778,
             "#fb9f3a"
            ],
            [
             0.8888888888888888,
             "#fdca26"
            ],
            [
             1,
             "#f0f921"
            ]
           ],
           "sequentialminus": [
            [
             0,
             "#0d0887"
            ],
            [
             0.1111111111111111,
             "#46039f"
            ],
            [
             0.2222222222222222,
             "#7201a8"
            ],
            [
             0.3333333333333333,
             "#9c179e"
            ],
            [
             0.4444444444444444,
             "#bd3786"
            ],
            [
             0.5555555555555556,
             "#d8576b"
            ],
            [
             0.6666666666666666,
             "#ed7953"
            ],
            [
             0.7777777777777778,
             "#fb9f3a"
            ],
            [
             0.8888888888888888,
             "#fdca26"
            ],
            [
             1,
             "#f0f921"
            ]
           ]
          },
          "colorway": [
           "#636efa",
           "#EF553B",
           "#00cc96",
           "#ab63fa",
           "#FFA15A",
           "#19d3f3",
           "#FF6692",
           "#B6E880",
           "#FF97FF",
           "#FECB52"
          ],
          "font": {
           "color": "#2a3f5f"
          },
          "geo": {
           "bgcolor": "white",
           "lakecolor": "white",
           "landcolor": "#E5ECF6",
           "showlakes": true,
           "showland": true,
           "subunitcolor": "white"
          },
          "hoverlabel": {
           "align": "left"
          },
          "hovermode": "closest",
          "mapbox": {
           "style": "light"
          },
          "paper_bgcolor": "white",
          "plot_bgcolor": "#E5ECF6",
          "polar": {
           "angularaxis": {
            "gridcolor": "white",
            "linecolor": "white",
            "ticks": ""
           },
           "bgcolor": "#E5ECF6",
           "radialaxis": {
            "gridcolor": "white",
            "linecolor": "white",
            "ticks": ""
           }
          },
          "scene": {
           "xaxis": {
            "backgroundcolor": "#E5ECF6",
            "gridcolor": "white",
            "gridwidth": 2,
            "linecolor": "white",
            "showbackground": true,
            "ticks": "",
            "zerolinecolor": "white"
           },
           "yaxis": {
            "backgroundcolor": "#E5ECF6",
            "gridcolor": "white",
            "gridwidth": 2,
            "linecolor": "white",
            "showbackground": true,
            "ticks": "",
            "zerolinecolor": "white"
           },
           "zaxis": {
            "backgroundcolor": "#E5ECF6",
            "gridcolor": "white",
            "gridwidth": 2,
            "linecolor": "white",
            "showbackground": true,
            "ticks": "",
            "zerolinecolor": "white"
           }
          },
          "shapedefaults": {
           "line": {
            "color": "#2a3f5f"
           }
          },
          "ternary": {
           "aaxis": {
            "gridcolor": "white",
            "linecolor": "white",
            "ticks": ""
           },
           "baxis": {
            "gridcolor": "white",
            "linecolor": "white",
            "ticks": ""
           },
           "bgcolor": "#E5ECF6",
           "caxis": {
            "gridcolor": "white",
            "linecolor": "white",
            "ticks": ""
           }
          },
          "title": {
           "x": 0.05
          },
          "xaxis": {
           "automargin": true,
           "gridcolor": "white",
           "linecolor": "white",
           "ticks": "",
           "title": {
            "standoff": 15
           },
           "zerolinecolor": "white",
           "zerolinewidth": 2
          },
          "yaxis": {
           "automargin": true,
           "gridcolor": "white",
           "linecolor": "white",
           "ticks": "",
           "title": {
            "standoff": 15
           },
           "zerolinecolor": "white",
           "zerolinewidth": 2
          }
         }
        },
        "width": 1000,
        "xaxis": {
         "showgrid": false,
         "showline": false,
         "showticklabels": false,
         "zeroline": false
        },
        "yaxis": {
         "showgrid": false,
         "showline": false,
         "showticklabels": false,
         "zeroline": false
        }
       }
      }
     },
     "metadata": {},
     "output_type": "display_data"
    }
   ],
   "source": [
    "temp,root = merge_points(similarities,root,nodes1,embeddings,3,2,2,n)\n",
    "for i in nodes1:\n",
    "    i.hyper = temp[int(i)]\n",
    "    i.value =  temp[int(i)]\n",
    "embeddings = temp.numpy();\n",
    "add_meta(root,meta_list1,[])\n",
    "show_tree(root,color=['#184e77','#1a759f','#168aad',\"#34a0a4\",'#52b69a','#99d98c','#76c893','#99d98c']).show_fig()\n",
    "remove_meta(root);"
   ]
  },
  {
   "cell_type": "code",
   "execution_count": 78,
   "metadata": {},
   "outputs": [],
   "source": [
    "names = [];\n",
    "fathers = [];\n",
    "xys = [];\n",
    "search_merge_tree(root,-1,0,names,fathers,xys)\n",
    "np.save('./datas/i/1/'+\"dataname_merge.npy\",names)\n",
    "np.save('./datas/i/1/'+\"datalink_merge.npy\",fathers)\n",
    "np.save('./datas/i/1/'+\"dataxy_merge.npy\",[i.numpy() for i in xys]) "
   ]
  },
  {
   "cell_type": "code",
   "execution_count": 98,
   "metadata": {},
   "outputs": [
    {
     "name": "stdout",
     "output_type": "stream",
     "text": [
      "./datas/i/2/datas.data length:5\n",
      "Generating all pairs superset\n"
     ]
    }
   ],
   "source": [
    "data_path = './datas/i/2/' + 'datas.data'\n",
    "np.random.seed(1234)\n",
    "torch.manual_seed(1234)\n",
    "x, y_true, similarities = load_data(data_path,1,tmp2.shape[1]+1,0)\n",
    "print(\"{} length:{}\".format(data_path,len(y_true)));\n",
    "dataset = HCDataset(x, y_true, similarities, num_samples=50000)\n",
    "dataloader = data.DataLoader(dataset, batch_size=32, shuffle=True, pin_memory=True)\n",
    "model = HypHC(dataset.n_nodes, 2, 5e-2, 5e-2 ,0.999)\n",
    "\n",
    "# model.to(\"cpu\")\n",
    "Optimizer = getattr(optim, 'RAdam')\n",
    "optimizer = Optimizer(model.parameters(),0.0005)\n"
   ]
  },
  {
   "cell_type": "code",
   "execution_count": 99,
   "metadata": {},
   "outputs": [
    {
     "name": "stdout",
     "output_type": "stream",
     "text": [
      "\t Epoch 0 | average train loss: 0.858212\n",
      "Optimization finished.\n",
      "\t Epoch 1 | average train loss: 0.856962\n",
      "Optimization finished.\n",
      "\t Epoch 2 | average train loss: 0.854180\n",
      "Optimization finished.\n",
      "\t Epoch 3 | average train loss: 0.848414\n",
      "Optimization finished.\n",
      "\t Epoch 4 | average train loss: 0.849680\n",
      "Optimization finished.\n",
      "\t Epoch 5 | average train loss: 0.854683\n",
      "Optimization finished.\n",
      "\t Epoch 6 | average train loss: 0.845764\n",
      "Optimization finished.\n",
      "\t Epoch 7 | average train loss: 0.853722\n",
      "Optimization finished.\n",
      "\t Epoch 8 | average train loss: 0.855092\n",
      "Optimization finished.\n",
      "\t Epoch 9 | average train loss: 0.854017\n",
      "Optimization finished.\n",
      "\t Epoch 10 | average train loss: 0.856049\n",
      "Optimization finished.\n",
      "\t Epoch 11 | average train loss: 0.854591\n",
      "Optimization finished.\n",
      "\t Epoch 12 | average train loss: 0.852556\n",
      "Optimization finished.\n",
      "\t Epoch 13 | average train loss: 0.848206\n",
      "Optimization finished.\n",
      "\t Epoch 14 | average train loss: 0.852712\n",
      "Optimization finished.\n",
      "\t Epoch 15 | average train loss: 0.854411\n",
      "Optimization finished.\n",
      "\t Epoch 16 | average train loss: 0.854858\n",
      "Optimization finished.\n",
      "\t Epoch 17 | average train loss: 0.854154\n",
      "Optimization finished.\n",
      "\t Epoch 18 | average train loss: 0.854126\n",
      "Optimization finished.\n",
      "\t Epoch 19 | average train loss: 0.850948\n",
      "Optimization finished.\n",
      "\t Epoch 20 | average train loss: 0.855428\n",
      "Optimization finished.\n",
      "\t Epoch 21 | average train loss: 0.849227\n",
      "early stopping.\n"
     ]
    }
   ],
   "source": [
    "train(model,dataloader,optimizer,similarities,30);\n"
   ]
  },
  {
   "cell_type": "code",
   "execution_count": 100,
   "metadata": {},
   "outputs": [],
   "source": [
    "torch.save(model.state_dict(),'./datas/i/2/' +'model3.pth');\n"
   ]
  },
  {
   "cell_type": "code",
   "execution_count": 101,
   "metadata": {},
   "outputs": [
    {
     "data": {
      "text/plain": [
       "<All keys matched successfully>"
      ]
     },
     "execution_count": 101,
     "metadata": {},
     "output_type": "execute_result"
    }
   ],
   "source": [
    "params = torch.load(('./datas/i/2/'+'model3.pth'), map_location=torch.device('cpu'))\n",
    "model.load_state_dict(params)"
   ]
  },
  {
   "cell_type": "code",
   "execution_count": 102,
   "metadata": {},
   "outputs": [
    {
     "data": {
      "image/png": "[encoded data removed]",
      "text/plain": [
       "<Figure size 1500x1500 with 1 Axes>"
      ]
     },
     "metadata": {},
     "output_type": "display_data"
    }
   ],
   "source": [
    "model.eval()\n",
    "\n",
    "sim_fn = lambda x, y: torch.sum(x * y, dim=-1)\n",
    "n=len(x);\n",
    "leaves_embeddings = model.normalize_embeddings(model.embeddings.weight.data)\n",
    "leaves_embeddings = project(leaves_embeddings).detach().cpu()\n",
    "ijs = sl_np_mst_ij(leaves_embeddings,sim_fn)\n",
    "uf = UnionFind(n)\n",
    "uf.merge(ijs)\n",
    "\n",
    "tree = nx.DiGraph()\n",
    "for i, j in enumerate(uf.tree()[:-1]):\n",
    "    if(j!=-1):\n",
    "        tree.add_edge(j, i)\n",
    "\n",
    "n = len(leaves_embeddings)\n",
    "embeddings = complete_tree(tree, leaves_embeddings)\n",
    "colors = get_colors(meta_list2, 1234)\n",
    "fig = plt.figure(figsize=(15, 15))\n",
    "ax = fig.add_subplot(111)\n",
    "circle = plt.Circle((0, 0), 1.0, color='r', alpha=0.1)\n",
    "ax.add_artist(circle)\n",
    "ax.scatter(embeddings[:n, 0], embeddings[:n, 1], c=colors, s=50, alpha=0.6)\n",
    "# ax.scatter(embeddings[n:,0],embeddings[n:,1],color ='black',s=20,alpha=0.6)\n",
    "for n1, n2 in tree.edges():\n",
    "    x1 = embeddings[n1];\n",
    "    x2 = embeddings[n2]\n",
    "    plot_geodesic(x1,x2,ax)"
   ]
  },
  {
   "cell_type": "code",
   "execution_count": 103,
   "metadata": {},
   "outputs": [
    {
     "name": "stdout",
     "output_type": "stream",
     "text": [
      "{'CD4Tn': '#184e77', 'Tfh': '#1a759f', 'empty': '#fff', 'Th17': '#34a0a4'}\n"
     ]
    },
    {
     "data": {
      "application/vnd.plotly.v1+json": {
       "config": {
        "plotlyServerURL": "https://plot.ly"
       },
       "data": [
        {
         "hoverinfo": "text",
         "hovertext": [
          "0_CD4Tn"
         ],
         "legendgroup": "CD4Tn",
         "marker": {
          "color": "#184e77",
          "size": 10,
          "symbol": "circle-dot"
         },
         "mode": "markers+text",
         "name": "CD4Tn",
         "type": "scatter",
         "x": [
          6.625
         ],
         "y": [
          2
         ]
        },
        {
         "hoverinfo": "text",
         "hovertext": [
          "2_Tfh",
          "3_Tfh",
          "4_Tfh"
         ],
         "legendgroup": "Tfh",
         "marker": {
          "color": "#1a759f",
          "size": 10,
          "symbol": "circle-dot"
         },
         "mode": "markers+text",
         "name": "Tfh",
         "type": "scatter",
         "x": [
          3.8125,
          4.9375,
          8.875
         ],
         "y": [
          0.5,
          0.5,
          2
         ]
        },
        {
         "hoverinfo": "text",
         "hovertext": [
          "8",
          "6",
          "5",
          "7"
         ],
         "legendgroup": "empty",
         "marker": {
          "color": "#fff",
          "size": 10,
          "symbol": "circle-dot"
         },
         "mode": "markers+text",
         "name": "empty",
         "type": "scatter",
         "x": [
          5.5,
          3.25,
          4.375,
          7.75
         ],
         "y": [
          5,
          3.5,
          2,
          3.5
         ]
        },
        {
         "hoverinfo": "text",
         "hovertext": [
          "1_Th17"
         ],
         "legendgroup": "Th17",
         "marker": {
          "color": "#34a0a4",
          "size": 10,
          "symbol": "circle-dot"
         },
         "mode": "markers+text",
         "name": "Th17",
         "type": "scatter",
         "x": [
          2.125
         ],
         "y": [
          2
         ]
        }
       ],
       "layout": {
        "height": 500,
        "shapes": [
         {
          "layer": "below",
          "line": {
           "color": "#333",
           "width": 2
          },
          "type": "line",
          "x0": 5.5,
          "x1": 5.5,
          "y0": 5,
          "y1": 5
         },
         {
          "layer": "below",
          "line": {
           "color": "#333",
           "width": 2
          },
          "type": "line",
          "x0": 5.5,
          "x1": 3.25,
          "y0": 5,
          "y1": 3.5
         },
         {
          "layer": "below",
          "line": {
           "color": "#333",
           "width": 2
          },
          "type": "line",
          "x0": 3.25,
          "x1": 2.125,
          "y0": 3.5,
          "y1": 2
         },
         {
          "layer": "below",
          "line": {
           "color": "#333",
           "width": 2
          },
          "type": "line",
          "x0": 3.25,
          "x1": 4.375,
          "y0": 3.5,
          "y1": 2
         },
         {
          "layer": "below",
          "line": {
           "color": "#333",
           "width": 2
          },
          "type": "line",
          "x0": 4.375,
          "x1": 3.8125,
          "y0": 2,
          "y1": 0.5
         },
         {
          "layer": "below",
          "line": {
           "color": "#333",
           "width": 2
          },
          "type": "line",
          "x0": 4.375,
          "x1": 4.9375,
          "y0": 2,
          "y1": 0.5
         },
         {
          "layer": "below",
          "line": {
           "color": "#333",
           "width": 2
          },
          "type": "line",
          "x0": 5.5,
          "x1": 7.75,
          "y0": 5,
          "y1": 3.5
         },
         {
          "layer": "below",
          "line": {
           "color": "#333",
           "width": 2
          },
          "type": "line",
          "x0": 7.75,
          "x1": 6.625,
          "y0": 3.5,
          "y1": 2
         },
         {
          "layer": "below",
          "line": {
           "color": "#333",
           "width": 2
          },
          "type": "line",
          "x0": 7.75,
          "x1": 8.875,
          "y0": 3.5,
          "y1": 2
         }
        ],
        "template": {
         "data": {
          "bar": [
           {
            "error_x": {
             "color": "#2a3f5f"
            },
            "error_y": {
             "color": "#2a3f5f"
            },
            "marker": {
             "line": {
              "color": "#E5ECF6",
              "width": 0.5
             },
             "pattern": {
              "fillmode": "overlay",
              "size": 10,
              "solidity": 0.2
             }
            },
            "type": "bar"
           }
          ],
          "barpolar": [
           {
            "marker": {
             "line": {
              "color": "#E5ECF6",
              "width": 0.5
             },
             "pattern": {
              "fillmode": "overlay",
              "size": 10,
              "solidity": 0.2
             }
            },
            "type": "barpolar"
           }
          ],
          "carpet": [
           {
            "aaxis": {
             "endlinecolor": "#2a3f5f",
             "gridcolor": "white",
             "linecolor": "white",
             "minorgridcolor": "white",
             "startlinecolor": "#2a3f5f"
            },
            "baxis": {
             "endlinecolor": "#2a3f5f",
             "gridcolor": "white",
             "linecolor": "white",
             "minorgridcolor": "white",
             "startlinecolor": "#2a3f5f"
            },
            "type": "carpet"
           }
          ],
          "choropleth": [
           {
            "colorbar": {
             "outlinewidth": 0,
             "ticks": ""
            },
            "type": "choropleth"
           }
          ],
          "contour": [
           {
            "colorbar": {
             "outlinewidth": 0,
             "ticks": ""
            },
            "colorscale": [
             [
              0,
              "#0d0887"
             ],
             [
              0.1111111111111111,
              "#46039f"
             ],
             [
              0.2222222222222222,
              "#7201a8"
             ],
             [
              0.3333333333333333,
              "#9c179e"
             ],
             [
              0.4444444444444444,
              "#bd3786"
             ],
             [
              0.5555555555555556,
              "#d8576b"
             ],
             [
              0.6666666666666666,
              "#ed7953"
             ],
             [
              0.7777777777777778,
              "#fb9f3a"
             ],
             [
              0.8888888888888888,
              "#fdca26"
             ],
             [
              1,
              "#f0f921"
             ]
            ],
            "type": "contour"
           }
          ],
          "contourcarpet": [
           {
            "colorbar": {
             "outlinewidth": 0,
             "ticks": ""
            },
            "type": "contourcarpet"
           }
          ],
          "heatmap": [
           {
            "colorbar": {
             "outlinewidth": 0,
             "ticks": ""
            },
            "colorscale": [
             [
              0,
              "#0d0887"
             ],
             [
              0.1111111111111111,
              "#46039f"
             ],
             [
              0.2222222222222222,
              "#7201a8"
             ],
             [
              0.3333333333333333,
              "#9c179e"
             ],
             [
              0.4444444444444444,
              "#bd3786"
             ],
             [
              0.5555555555555556,
              "#d8576b"
             ],
             [
              0.6666666666666666,
              "#ed7953"
             ],
             [
              0.7777777777777778,
              "#fb9f3a"
             ],
             [
              0.8888888888888888,
              "#fdca26"
             ],
             [
              1,
              "#f0f921"
             ]
            ],
            "type": "heatmap"
           }
          ],
          "heatmapgl": [
           {
            "colorbar": {
             "outlinewidth": 0,
             "ticks": ""
            },
            "colorscale": [
             [
              0,
              "#0d0887"
             ],
             [
              0.1111111111111111,
              "#46039f"
             ],
             [
              0.2222222222222222,
              "#7201a8"
             ],
             [
              0.3333333333333333,
              "#9c179e"
             ],
             [
              0.4444444444444444,
              "#bd3786"
             ],
             [
              0.5555555555555556,
              "#d8576b"
             ],
             [
              0.6666666666666666,
              "#ed7953"
             ],
             [
              0.7777777777777778,
              "#fb9f3a"
             ],
             [
              0.8888888888888888,
              "#fdca26"
             ],
             [
              1,
              "#f0f921"
             ]
            ],
            "type": "heatmapgl"
           }
          ],
          "histogram": [
           {
            "marker": {
             "pattern": {
              "fillmode": "overlay",
              "size": 10,
              "solidity": 0.2
             }
            },
            "type": "histogram"
           }
          ],
          "histogram2d": [
           {
            "colorbar": {
             "outlinewidth": 0,
             "ticks": ""
            },
            "colorscale": [
             [
              0,
              "#0d0887"
             ],
             [
              0.1111111111111111,
              "#46039f"
             ],
             [
              0.2222222222222222,
              "#7201a8"
             ],
             [
              0.3333333333333333,
              "#9c179e"
             ],
             [
              0.4444444444444444,
              "#bd3786"
             ],
             [
              0.5555555555555556,
              "#d8576b"
             ],
             [
              0.6666666666666666,
              "#ed7953"
             ],
             [
              0.7777777777777778,
              "#fb9f3a"
             ],
             [
              0.8888888888888888,
              "#fdca26"
             ],
             [
              1,
              "#f0f921"
             ]
            ],
            "type": "histogram2d"
           }
          ],
          "histogram2dcontour": [
           {
            "colorbar": {
             "outlinewidth": 0,
             "ticks": ""
            },
            "colorscale": [
             [
              0,
              "#0d0887"
             ],
             [
              0.1111111111111111,
              "#46039f"
             ],
             [
              0.2222222222222222,
              "#7201a8"
             ],
             [
              0.3333333333333333,
              "#9c179e"
             ],
             [
              0.4444444444444444,
              "#bd3786"
             ],
             [
              0.5555555555555556,
              "#d8576b"
             ],
             [
              0.6666666666666666,
              "#ed7953"
             ],
             [
              0.7777777777777778,
              "#fb9f3a"
             ],
             [
              0.8888888888888888,
              "#fdca26"
             ],
             [
              1,
              "#f0f921"
             ]
            ],
            "type": "histogram2dcontour"
           }
          ],
          "mesh3d": [
           {
            "colorbar": {
             "outlinewidth": 0,
             "ticks": ""
            },
            "type": "mesh3d"
           }
          ],
          "parcoords": [
           {
            "line": {
             "colorbar": {
              "outlinewidth": 0,
              "ticks": ""
             }
            },
            "type": "parcoords"
           }
          ],
          "pie": [
           {
            "automargin": true,
            "type": "pie"
           }
          ],
          "scatter": [
           {
            "fillpattern": {
             "fillmode": "overlay",
             "size": 10,
             "solidity": 0.2
            },
            "type": "scatter"
           }
          ],
          "scatter3d": [
           {
            "line": {
             "colorbar": {
              "outlinewidth": 0,
              "ticks": ""
             }
            },
            "marker": {
             "colorbar": {
              "outlinewidth": 0,
              "ticks": ""
             }
            },
            "type": "scatter3d"
           }
          ],
          "scattercarpet": [
           {
            "marker": {
             "colorbar": {
              "outlinewidth": 0,
              "ticks": ""
             }
            },
            "type": "scattercarpet"
           }
          ],
          "scattergeo": [
           {
            "marker": {
             "colorbar": {
              "outlinewidth": 0,
              "ticks": ""
             }
            },
            "type": "scattergeo"
           }
          ],
          "scattergl": [
           {
            "marker": {
             "colorbar": {
              "outlinewidth": 0,
              "ticks": ""
             }
            },
            "type": "scattergl"
           }
          ],
          "scattermapbox": [
           {
            "marker": {
             "colorbar": {
              "outlinewidth": 0,
              "ticks": ""
             }
            },
            "type": "scattermapbox"
           }
          ],
          "scatterpolar": [
           {
            "marker": {
             "colorbar": {
              "outlinewidth": 0,
              "ticks": ""
             }
            },
            "type": "scatterpolar"
           }
          ],
          "scatterpolargl": [
           {
            "marker": {
             "colorbar": {
              "outlinewidth": 0,
              "ticks": ""
             }
            },
            "type": "scatterpolargl"
           }
          ],
          "scatterternary": [
           {
            "marker": {
             "colorbar": {
              "outlinewidth": 0,
              "ticks": ""
             }
            },
            "type": "scatterternary"
           }
          ],
          "surface": [
           {
            "colorbar": {
             "outlinewidth": 0,
             "ticks": ""
            },
            "colorscale": [
             [
              0,
              "#0d0887"
             ],
             [
              0.1111111111111111,
              "#46039f"
             ],
             [
              0.2222222222222222,
              "#7201a8"
             ],
             [
              0.3333333333333333,
              "#9c179e"
             ],
             [
              0.4444444444444444,
              "#bd3786"
             ],
             [
              0.5555555555555556,
              "#d8576b"
             ],
             [
              0.6666666666666666,
              "#ed7953"
             ],
             [
              0.7777777777777778,
              "#fb9f3a"
             ],
             [
              0.8888888888888888,
              "#fdca26"
             ],
             [
              1,
              "#f0f921"
             ]
            ],
            "type": "surface"
           }
          ],
          "table": [
           {
            "cells": {
             "fill": {
              "color": "#EBF0F8"
             },
             "line": {
              "color": "white"
             }
            },
            "header": {
             "fill": {
              "color": "#C8D4E3"
             },
             "line": {
              "color": "white"
             }
            },
            "type": "table"
           }
          ]
         },
         "layout": {
          "annotationdefaults": {
           "arrowcolor": "#2a3f5f",
           "arrowhead": 0,
           "arrowwidth": 1
          },
          "autotypenumbers": "strict",
          "coloraxis": {
           "colorbar": {
            "outlinewidth": 0,
            "ticks": ""
           }
          },
          "colorscale": {
           "diverging": [
            [
             0,
             "#8e0152"
            ],
            [
             0.1,
             "#c51b7d"
            ],
            [
             0.2,
             "#de77ae"
            ],
            [
             0.3,
             "#f1b6da"
            ],
            [
             0.4,
             "#fde0ef"
            ],
            [
             0.5,
             "#f7f7f7"
            ],
            [
             0.6,
             "#e6f5d0"
            ],
            [
             0.7,
             "#b8e186"
            ],
            [
             0.8,
             "#7fbc41"
            ],
            [
             0.9,
             "#4d9221"
            ],
            [
             1,
             "#276419"
            ]
           ],
           "sequential": [
            [
             0,
             "#0d0887"
            ],
            [
             0.1111111111111111,
             "#46039f"
            ],
            [
             0.2222222222222222,
             "#7201a8"
            ],
            [
             0.3333333333333333,
             "#9c179e"
            ],
            [
             0.4444444444444444,
             "#bd3786"
            ],
            [
             0.5555555555555556,
             "#d8576b"
            ],
            [
             0.6666666666666666,
             "#ed7953"
            ],
            [
             0.7777777777777778,
             "#fb9f3a"
            ],
            [
             0.8888888888888888,
             "#fdca26"
            ],
            [
             1,
             "#f0f921"
            ]
           ],
           "sequentialminus": [
            [
             0,
             "#0d0887"
            ],
            [
             0.1111111111111111,
             "#46039f"
            ],
            [
             0.2222222222222222,
             "#7201a8"
            ],
            [
             0.3333333333333333,
             "#9c179e"
            ],
            [
             0.4444444444444444,
             "#bd3786"
            ],
            [
             0.5555555555555556,
             "#d8576b"
            ],
            [
             0.6666666666666666,
             "#ed7953"
            ],
            [
             0.7777777777777778,
             "#fb9f3a"
            ],
            [
             0.8888888888888888,
             "#fdca26"
            ],
            [
             1,
             "#f0f921"
            ]
           ]
          },
          "colorway": [
           "#636efa",
           "#EF553B",
           "#00cc96",
           "#ab63fa",
           "#FFA15A",
           "#19d3f3",
           "#FF6692",
           "#B6E880",
           "#FF97FF",
           "#FECB52"
          ],
          "font": {
           "color": "#2a3f5f"
          },
          "geo": {
           "bgcolor": "white",
           "lakecolor": "white",
           "landcolor": "#E5ECF6",
           "showlakes": true,
           "showland": true,
           "subunitcolor": "white"
          },
          "hoverlabel": {
           "align": "left"
          },
          "hovermode": "closest",
          "mapbox": {
           "style": "light"
          },
          "paper_bgcolor": "white",
          "plot_bgcolor": "#E5ECF6",
          "polar": {
           "angularaxis": {
            "gridcolor": "white",
            "linecolor": "white",
            "ticks": ""
           },
           "bgcolor": "#E5ECF6",
           "radialaxis": {
            "gridcolor": "white",
            "linecolor": "white",
            "ticks": ""
           }
          },
          "scene": {
           "xaxis": {
            "backgroundcolor": "#E5ECF6",
            "gridcolor": "white",
            "gridwidth": 2,
            "linecolor": "white",
            "showbackground": true,
            "ticks": "",
            "zerolinecolor": "white"
           },
           "yaxis": {
            "backgroundcolor": "#E5ECF6",
            "gridcolor": "white",
            "gridwidth": 2,
            "linecolor": "white",
            "showbackground": true,
            "ticks": "",
            "zerolinecolor": "white"
           },
           "zaxis": {
            "backgroundcolor": "#E5ECF6",
            "gridcolor": "white",
            "gridwidth": 2,
            "linecolor": "white",
            "showbackground": true,
            "ticks": "",
            "zerolinecolor": "white"
           }
          },
          "shapedefaults": {
           "line": {
            "color": "#2a3f5f"
           }
          },
          "ternary": {
           "aaxis": {
            "gridcolor": "white",
            "linecolor": "white",
            "ticks": ""
           },
           "baxis": {
            "gridcolor": "white",
            "linecolor": "white",
            "ticks": ""
           },
           "bgcolor": "#E5ECF6",
           "caxis": {
            "gridcolor": "white",
            "linecolor": "white",
            "ticks": ""
           }
          },
          "title": {
           "x": 0.05
          },
          "xaxis": {
           "automargin": true,
           "gridcolor": "white",
           "linecolor": "white",
           "ticks": "",
           "title": {
            "standoff": 15
           },
           "zerolinecolor": "white",
           "zerolinewidth": 2
          },
          "yaxis": {
           "automargin": true,
           "gridcolor": "white",
           "linecolor": "white",
           "ticks": "",
           "title": {
            "standoff": 15
           },
           "zerolinecolor": "white",
           "zerolinewidth": 2
          }
         }
        },
        "width": 1000,
        "xaxis": {
         "showgrid": false,
         "showline": false,
         "showticklabels": false,
         "zeroline": false
        },
        "yaxis": {
         "showgrid": false,
         "showline": false,
         "showticklabels": false,
         "zeroline": false
        }
       }
      }
     },
     "metadata": {},
     "output_type": "display_data"
    }
   ],
   "source": [
    "\n",
    "nodes1 = [node(name=str(i),son=[]) for i in range(len(uf.tree()))]\n",
    "for i in range(n):\n",
    "    nodes1[i].subson=[i];\n",
    "for i,j in enumerate(uf.tree()):\n",
    "    if(j!=-1):\n",
    "        nodes1[j].son.append(nodes1[i])\n",
    "    nodes1[i].value=torch.tensor(embeddings[i]);\n",
    "    nodes1[i].hyper=torch.tensor(embeddings[i])\n",
    "root = nodes1[-1];\n",
    "add_meta(root,meta_list2,[])\n",
    "show_tree(root,color=['#184e77','#1a759f','#168aad',\"#34a0a4\",'#52b69a','#99d98c','#76c893','#99d98c']).show_fig()\n",
    "remove_meta(root);"
   ]
  },
  {
   "cell_type": "code",
   "execution_count": 104,
   "metadata": {},
   "outputs": [
    {
     "name": "stdout",
     "output_type": "stream",
     "text": [
      "6 12\n",
      "\t Epoch 0 | average train loss1: 0.359896\n",
      "\t Epoch 0 | average train loss2: 0.355468\n"
     ]
    },
    {
     "name": "stderr",
     "output_type": "stream",
     "text": [
      "/Users/dongjiajie/Desktop/alignment/fyp/hyperalignment/final/datasets/balance_dataset.py:54: VisibleDeprecationWarning:\n",
      "\n",
      "Creating an ndarray from ragged nested sequences (which is a list-or-tuple of lists-or-tuples-or ndarrays with different lengths or shapes) is deprecated. If you meant to do this, you must specify 'dtype=object' when creating the ndarray.\n",
      "\n",
      "/Users/dongjiajie/Desktop/alignment/fyp/hyperalignment/final/model/balancehc.py:22: UserWarning:\n",
      "\n",
      "To copy construct from a tensor, it is recommended to use sourceTensor.clone().detach() or sourceTensor.clone().detach().requires_grad_(True), rather than torch.tensor(sourceTensor).\n",
      "\n",
      "/Users/dongjiajie/Desktop/alignment/fyp/hyperalignment/final/model/balancehc.py:46: UserWarning:\n",
      "\n",
      "To copy construct from a tensor, it is recommended to use sourceTensor.clone().detach() or sourceTensor.clone().detach().requires_grad_(True), rather than torch.tensor(sourceTensor).\n",
      "\n"
     ]
    },
    {
     "name": "stdout",
     "output_type": "stream",
     "text": [
      "\t Epoch 1 | average train loss1: 0.359621\n",
      "\t Epoch 1 | average train loss2: 0.355174\n",
      "\t Epoch 2 | average train loss1: 0.358431\n"
     ]
    },
    {
     "name": "stderr",
     "output_type": "stream",
     "text": [
      "/Users/dongjiajie/Desktop/alignment/fyp/hyperalignment/final/model/balancehc.py:71: UserWarning:\n",
      "\n",
      "To copy construct from a tensor, it is recommended to use sourceTensor.clone().detach() or sourceTensor.clone().detach().requires_grad_(True), rather than torch.tensor(sourceTensor).\n",
      "\n",
      "/Users/dongjiajie/Desktop/alignment/fyp/hyperalignment/final/model/balancehc.py:92: UserWarning:\n",
      "\n",
      "To copy construct from a tensor, it is recommended to use sourceTensor.clone().detach() or sourceTensor.clone().detach().requires_grad_(True), rather than torch.tensor(sourceTensor).\n",
      "\n"
     ]
    },
    {
     "name": "stdout",
     "output_type": "stream",
     "text": [
      "\t Epoch 2 | average train loss2: 0.354735\n"
     ]
    }
   ],
   "source": [
    "temp = rotate(nodes1,embeddings,3,n,similarities)\n",
    "for i in nodes1:\n",
    "    i.hyper = temp[int(i)]\n",
    "    i.value =  temp[int(i)]\n",
    "embeddings = temp.numpy();\n",
    "root = nodes1[-1]"
   ]
  },
  {
   "cell_type": "code",
   "execution_count": 110,
   "metadata": {},
   "outputs": [
    {
     "data": {
      "text/plain": [
       "tensor([0.6192], dtype=torch.float64)"
      ]
     },
     "execution_count": 110,
     "metadata": {},
     "output_type": "execute_result"
    }
   ],
   "source": [
    "hyp_dist(nodes1[0].hyper,nodes1[4].hyper)"
   ]
  },
  {
   "cell_type": "code",
   "execution_count": 108,
   "metadata": {},
   "outputs": [
    {
     "name": "stdout",
     "output_type": "stream",
     "text": [
      "5 2\n",
      "[8, 6, 1, 2, 3, 7, 0, 4]\n",
      "9 9\n",
      "\t Epoch 0 | average train loss1: 0.348891\n",
      "\t Epoch 0 | average train loss2: 0.348520\n",
      "\t Epoch 1 | average train loss1: 0.348814\n"
     ]
    },
    {
     "name": "stderr",
     "output_type": "stream",
     "text": [
      "/Users/dongjiajie/Desktop/alignment/fyp/hyperalignment/final/model/balancehc.py:22: UserWarning:\n",
      "\n",
      "To copy construct from a tensor, it is recommended to use sourceTensor.clone().detach() or sourceTensor.clone().detach().requires_grad_(True), rather than torch.tensor(sourceTensor).\n",
      "\n",
      "/Users/dongjiajie/Desktop/alignment/fyp/hyperalignment/final/datasets/balance_dataset.py:54: VisibleDeprecationWarning:\n",
      "\n",
      "Creating an ndarray from ragged nested sequences (which is a list-or-tuple of lists-or-tuples-or ndarrays with different lengths or shapes) is deprecated. If you meant to do this, you must specify 'dtype=object' when creating the ndarray.\n",
      "\n",
      "/Users/dongjiajie/Desktop/alignment/fyp/hyperalignment/final/model/balancehc.py:46: UserWarning:\n",
      "\n",
      "To copy construct from a tensor, it is recommended to use sourceTensor.clone().detach() or sourceTensor.clone().detach().requires_grad_(True), rather than torch.tensor(sourceTensor).\n",
      "\n",
      "/Users/dongjiajie/Desktop/alignment/fyp/hyperalignment/final/model/balancehc.py:71: UserWarning:\n",
      "\n",
      "To copy construct from a tensor, it is recommended to use sourceTensor.clone().detach() or sourceTensor.clone().detach().requires_grad_(True), rather than torch.tensor(sourceTensor).\n",
      "\n",
      "/Users/dongjiajie/Desktop/alignment/fyp/hyperalignment/final/model/balancehc.py:92: UserWarning:\n",
      "\n",
      "To copy construct from a tensor, it is recommended to use sourceTensor.clone().detach() or sourceTensor.clone().detach().requires_grad_(True), rather than torch.tensor(sourceTensor).\n",
      "\n"
     ]
    },
    {
     "name": "stdout",
     "output_type": "stream",
     "text": [
      "\t Epoch 1 | average train loss2: 0.348011\n",
      "\t Epoch 2 | average train loss1: 0.349192\n",
      "\t Epoch 2 | average train loss2: 0.348123\n",
      "{'CD4Tn': '#184e77', 'Tfh': '#1a759f', 'empty': '#fff', 'Th17': '#34a0a4'}\n"
     ]
    },
    {
     "data": {
      "application/vnd.plotly.v1+json": {
       "config": {
        "plotlyServerURL": "https://plot.ly"
       },
       "data": [
        {
         "hoverinfo": "text",
         "hovertext": [
          "0_CD4Tn"
         ],
         "legendgroup": "CD4Tn",
         "marker": {
          "color": "#184e77",
          "size": 10,
          "symbol": "circle-dot"
         },
         "mode": "markers+text",
         "name": "CD4Tn",
         "type": "scatter",
         "x": [
          6.625
         ],
         "y": [
          2
         ]
        },
        {
         "hoverinfo": "text",
         "hovertext": [
          "2_Tfh",
          "3_Tfh",
          "4_Tfh"
         ],
         "legendgroup": "Tfh",
         "marker": {
          "color": "#1a759f",
          "size": 10,
          "symbol": "circle-dot"
         },
         "mode": "markers+text",
         "name": "Tfh",
         "type": "scatter",
         "x": [
          4.375,
          4.375,
          8.875
         ],
         "y": [
          2,
          0.5,
          2
         ]
        },
        {
         "hoverinfo": "text",
         "hovertext": [
          "8",
          "6",
          "7"
         ],
         "legendgroup": "empty",
         "marker": {
          "color": "#fff",
          "size": 10,
          "symbol": "circle-dot"
         },
         "mode": "markers+text",
         "name": "empty",
         "type": "scatter",
         "x": [
          5.5,
          3.25,
          7.75
         ],
         "y": [
          5,
          3.5,
          3.5
         ]
        },
        {
         "hoverinfo": "text",
         "hovertext": [
          "1_Th17"
         ],
         "legendgroup": "Th17",
         "marker": {
          "color": "#34a0a4",
          "size": 10,
          "symbol": "circle-dot"
         },
         "mode": "markers+text",
         "name": "Th17",
         "type": "scatter",
         "x": [
          2.125
         ],
         "y": [
          2
         ]
        }
       ],
       "layout": {
        "height": 500,
        "shapes": [
         {
          "layer": "below",
          "line": {
           "color": "#333",
           "width": 2
          },
          "type": "line",
          "x0": 5.5,
          "x1": 5.5,
          "y0": 5,
          "y1": 5
         },
         {
          "layer": "below",
          "line": {
           "color": "#333",
           "width": 2
          },
          "type": "line",
          "x0": 5.5,
          "x1": 3.25,
          "y0": 5,
          "y1": 3.5
         },
         {
          "layer": "below",
          "line": {
           "color": "#333",
           "width": 2
          },
          "type": "line",
          "x0": 3.25,
          "x1": 2.125,
          "y0": 3.5,
          "y1": 2
         },
         {
          "layer": "below",
          "line": {
           "color": "#333",
           "width": 2
          },
          "type": "line",
          "x0": 3.25,
          "x1": 4.375,
          "y0": 3.5,
          "y1": 2
         },
         {
          "layer": "below",
          "line": {
           "color": "#333",
           "width": 2
          },
          "type": "line",
          "x0": 4.375,
          "x1": 4.375,
          "y0": 2,
          "y1": 0.5
         },
         {
          "layer": "below",
          "line": {
           "color": "#333",
           "width": 2
          },
          "type": "line",
          "x0": 5.5,
          "x1": 7.75,
          "y0": 5,
          "y1": 3.5
         },
         {
          "layer": "below",
          "line": {
           "color": "#333",
           "width": 2
          },
          "type": "line",
          "x0": 7.75,
          "x1": 6.625,
          "y0": 3.5,
          "y1": 2
         },
         {
          "layer": "below",
          "line": {
           "color": "#333",
           "width": 2
          },
          "type": "line",
          "x0": 7.75,
          "x1": 8.875,
          "y0": 3.5,
          "y1": 2
         }
        ],
        "template": {
         "data": {
          "bar": [
           {
            "error_x": {
             "color": "#2a3f5f"
            },
            "error_y": {
             "color": "#2a3f5f"
            },
            "marker": {
             "line": {
              "color": "#E5ECF6",
              "width": 0.5
             },
             "pattern": {
              "fillmode": "overlay",
              "size": 10,
              "solidity": 0.2
             }
            },
            "type": "bar"
           }
          ],
          "barpolar": [
           {
            "marker": {
             "line": {
              "color": "#E5ECF6",
              "width": 0.5
             },
             "pattern": {
              "fillmode": "overlay",
              "size": 10,
              "solidity": 0.2
             }
            },
            "type": "barpolar"
           }
          ],
          "carpet": [
           {
            "aaxis": {
             "endlinecolor": "#2a3f5f",
             "gridcolor": "white",
             "linecolor": "white",
             "minorgridcolor": "white",
             "startlinecolor": "#2a3f5f"
            },
            "baxis": {
             "endlinecolor": "#2a3f5f",
             "gridcolor": "white",
             "linecolor": "white",
             "minorgridcolor": "white",
             "startlinecolor": "#2a3f5f"
            },
            "type": "carpet"
           }
          ],
          "choropleth": [
           {
            "colorbar": {
             "outlinewidth": 0,
             "ticks": ""
            },
            "type": "choropleth"
           }
          ],
          "contour": [
           {
            "colorbar": {
             "outlinewidth": 0,
             "ticks": ""
            },
            "colorscale": [
             [
              0,
              "#0d0887"
             ],
             [
              0.1111111111111111,
              "#46039f"
             ],
             [
              0.2222222222222222,
              "#7201a8"
             ],
             [
              0.3333333333333333,
              "#9c179e"
             ],
             [
              0.4444444444444444,
              "#bd3786"
             ],
             [
              0.5555555555555556,
              "#d8576b"
             ],
             [
              0.6666666666666666,
              "#ed7953"
             ],
             [
              0.7777777777777778,
              "#fb9f3a"
             ],
             [
              0.8888888888888888,
              "#fdca26"
             ],
             [
              1,
              "#f0f921"
             ]
            ],
            "type": "contour"
           }
          ],
          "contourcarpet": [
           {
            "colorbar": {
             "outlinewidth": 0,
             "ticks": ""
            },
            "type": "contourcarpet"
           }
          ],
          "heatmap": [
           {
            "colorbar": {
             "outlinewidth": 0,
             "ticks": ""
            },
            "colorscale": [
             [
              0,
              "#0d0887"
             ],
             [
              0.1111111111111111,
              "#46039f"
             ],
             [
              0.2222222222222222,
              "#7201a8"
             ],
             [
              0.3333333333333333,
              "#9c179e"
             ],
             [
              0.4444444444444444,
              "#bd3786"
             ],
             [
              0.5555555555555556,
              "#d8576b"
             ],
             [
              0.6666666666666666,
              "#ed7953"
             ],
             [
              0.7777777777777778,
              "#fb9f3a"
             ],
             [
              0.8888888888888888,
              "#fdca26"
             ],
             [
              1,
              "#f0f921"
             ]
            ],
            "type": "heatmap"
           }
          ],
          "heatmapgl": [
           {
            "colorbar": {
             "outlinewidth": 0,
             "ticks": ""
            },
            "colorscale": [
             [
              0,
              "#0d0887"
             ],
             [
              0.1111111111111111,
              "#46039f"
             ],
             [
              0.2222222222222222,
              "#7201a8"
             ],
             [
              0.3333333333333333,
              "#9c179e"
             ],
             [
              0.4444444444444444,
              "#bd3786"
             ],
             [
              0.5555555555555556,
              "#d8576b"
             ],
             [
              0.6666666666666666,
              "#ed7953"
             ],
             [
              0.7777777777777778,
              "#fb9f3a"
             ],
             [
              0.8888888888888888,
              "#fdca26"
             ],
             [
              1,
              "#f0f921"
             ]
            ],
            "type": "heatmapgl"
           }
          ],
          "histogram": [
           {
            "marker": {
             "pattern": {
              "fillmode": "overlay",
              "size": 10,
              "solidity": 0.2
             }
            },
            "type": "histogram"
           }
          ],
          "histogram2d": [
           {
            "colorbar": {
             "outlinewidth": 0,
             "ticks": ""
            },
            "colorscale": [
             [
              0,
              "#0d0887"
             ],
             [
              0.1111111111111111,
              "#46039f"
             ],
             [
              0.2222222222222222,
              "#7201a8"
             ],
             [
              0.3333333333333333,
              "#9c179e"
             ],
             [
              0.4444444444444444,
              "#bd3786"
             ],
             [
              0.5555555555555556,
              "#d8576b"
             ],
             [
              0.6666666666666666,
              "#ed7953"
             ],
             [
              0.7777777777777778,
              "#fb9f3a"
             ],
             [
              0.8888888888888888,
              "#fdca26"
             ],
             [
              1,
              "#f0f921"
             ]
            ],
            "type": "histogram2d"
           }
          ],
          "histogram2dcontour": [
           {
            "colorbar": {
             "outlinewidth": 0,
             "ticks": ""
            },
            "colorscale": [
             [
              0,
              "#0d0887"
             ],
             [
              0.1111111111111111,
              "#46039f"
             ],
             [
              0.2222222222222222,
              "#7201a8"
             ],
             [
              0.3333333333333333,
              "#9c179e"
             ],
             [
              0.4444444444444444,
              "#bd3786"
             ],
             [
              0.5555555555555556,
              "#d8576b"
             ],
             [
              0.6666666666666666,
              "#ed7953"
             ],
             [
              0.7777777777777778,
              "#fb9f3a"
             ],
             [
              0.8888888888888888,
              "#fdca26"
             ],
             [
              1,
              "#f0f921"
             ]
            ],
            "type": "histogram2dcontour"
           }
          ],
          "mesh3d": [
           {
            "colorbar": {
             "outlinewidth": 0,
             "ticks": ""
            },
            "type": "mesh3d"
           }
          ],
          "parcoords": [
           {
            "line": {
             "colorbar": {
              "outlinewidth": 0,
              "ticks": ""
             }
            },
            "type": "parcoords"
           }
          ],
          "pie": [
           {
            "automargin": true,
            "type": "pie"
           }
          ],
          "scatter": [
           {
            "fillpattern": {
             "fillmode": "overlay",
             "size": 10,
             "solidity": 0.2
            },
            "type": "scatter"
           }
          ],
          "scatter3d": [
           {
            "line": {
             "colorbar": {
              "outlinewidth": 0,
              "ticks": ""
             }
            },
            "marker": {
             "colorbar": {
              "outlinewidth": 0,
              "ticks": ""
             }
            },
            "type": "scatter3d"
           }
          ],
          "scattercarpet": [
           {
            "marker": {
             "colorbar": {
              "outlinewidth": 0,
              "ticks": ""
             }
            },
            "type": "scattercarpet"
           }
          ],
          "scattergeo": [
           {
            "marker": {
             "colorbar": {
              "outlinewidth": 0,
              "ticks": ""
             }
            },
            "type": "scattergeo"
           }
          ],
          "scattergl": [
           {
            "marker": {
             "colorbar": {
              "outlinewidth": 0,
              "ticks": ""
             }
            },
            "type": "scattergl"
           }
          ],
          "scattermapbox": [
           {
            "marker": {
             "colorbar": {
              "outlinewidth": 0,
              "ticks": ""
             }
            },
            "type": "scattermapbox"
           }
          ],
          "scatterpolar": [
           {
            "marker": {
             "colorbar": {
              "outlinewidth": 0,
              "ticks": ""
             }
            },
            "type": "scatterpolar"
           }
          ],
          "scatterpolargl": [
           {
            "marker": {
             "colorbar": {
              "outlinewidth": 0,
              "ticks": ""
             }
            },
            "type": "scatterpolargl"
           }
          ],
          "scatterternary": [
           {
            "marker": {
             "colorbar": {
              "outlinewidth": 0,
              "ticks": ""
             }
            },
            "type": "scatterternary"
           }
          ],
          "surface": [
           {
            "colorbar": {
             "outlinewidth": 0,
             "ticks": ""
            },
            "colorscale": [
             [
              0,
              "#0d0887"
             ],
             [
              0.1111111111111111,
              "#46039f"
             ],
             [
              0.2222222222222222,
              "#7201a8"
             ],
             [
              0.3333333333333333,
              "#9c179e"
             ],
             [
              0.4444444444444444,
              "#bd3786"
             ],
             [
              0.5555555555555556,
              "#d8576b"
             ],
             [
              0.6666666666666666,
              "#ed7953"
             ],
             [
              0.7777777777777778,
              "#fb9f3a"
             ],
             [
              0.8888888888888888,
              "#fdca26"
             ],
             [
              1,
              "#f0f921"
             ]
            ],
            "type": "surface"
           }
          ],
          "table": [
           {
            "cells": {
             "fill": {
              "color": "#EBF0F8"
             },
             "line": {
              "color": "white"
             }
            },
            "header": {
             "fill": {
              "color": "#C8D4E3"
             },
             "line": {
              "color": "white"
             }
            },
            "type": "table"
           }
          ]
         },
         "layout": {
          "annotationdefaults": {
           "arrowcolor": "#2a3f5f",
           "arrowhead": 0,
           "arrowwidth": 1
          },
          "autotypenumbers": "strict",
          "coloraxis": {
           "colorbar": {
            "outlinewidth": 0,
            "ticks": ""
           }
          },
          "colorscale": {
           "diverging": [
            [
             0,
             "#8e0152"
            ],
            [
             0.1,
             "#c51b7d"
            ],
            [
             0.2,
             "#de77ae"
            ],
            [
             0.3,
             "#f1b6da"
            ],
            [
             0.4,
             "#fde0ef"
            ],
            [
             0.5,
             "#f7f7f7"
            ],
            [
             0.6,
             "#e6f5d0"
            ],
            [
             0.7,
             "#b8e186"
            ],
            [
             0.8,
             "#7fbc41"
            ],
            [
             0.9,
             "#4d9221"
            ],
            [
             1,
             "#276419"
            ]
           ],
           "sequential": [
            [
             0,
             "#0d0887"
            ],
            [
             0.1111111111111111,
             "#46039f"
            ],
            [
             0.2222222222222222,
             "#7201a8"
            ],
            [
             0.3333333333333333,
             "#9c179e"
            ],
            [
             0.4444444444444444,
             "#bd3786"
            ],
            [
             0.5555555555555556,
             "#d8576b"
            ],
            [
             0.6666666666666666,
             "#ed7953"
            ],
            [
             0.7777777777777778,
             "#fb9f3a"
            ],
            [
             0.8888888888888888,
             "#fdca26"
            ],
            [
             1,
             "#f0f921"
            ]
           ],
           "sequentialminus": [
            [
             0,
             "#0d0887"
            ],
            [
             0.1111111111111111,
             "#46039f"
            ],
            [
             0.2222222222222222,
             "#7201a8"
            ],
            [
             0.3333333333333333,
             "#9c179e"
            ],
            [
             0.4444444444444444,
             "#bd3786"
            ],
            [
             0.5555555555555556,
             "#d8576b"
            ],
            [
             0.6666666666666666,
             "#ed7953"
            ],
            [
             0.7777777777777778,
             "#fb9f3a"
            ],
            [
             0.8888888888888888,
             "#fdca26"
            ],
            [
             1,
             "#f0f921"
            ]
           ]
          },
          "colorway": [
           "#636efa",
           "#EF553B",
           "#00cc96",
           "#ab63fa",
           "#FFA15A",
           "#19d3f3",
           "#FF6692",
           "#B6E880",
           "#FF97FF",
           "#FECB52"
          ],
          "font": {
           "color": "#2a3f5f"
          },
          "geo": {
           "bgcolor": "white",
           "lakecolor": "white",
           "landcolor": "#E5ECF6",
           "showlakes": true,
           "showland": true,
           "subunitcolor": "white"
          },
          "hoverlabel": {
           "align": "left"
          },
          "hovermode": "closest",
          "mapbox": {
           "style": "light"
          },
          "paper_bgcolor": "white",
          "plot_bgcolor": "#E5ECF6",
          "polar": {
           "angularaxis": {
            "gridcolor": "white",
            "linecolor": "white",
            "ticks": ""
           },
           "bgcolor": "#E5ECF6",
           "radialaxis": {
            "gridcolor": "white",
            "linecolor": "white",
            "ticks": ""
           }
          },
          "scene": {
           "xaxis": {
            "backgroundcolor": "#E5ECF6",
            "gridcolor": "white",
            "gridwidth": 2,
            "linecolor": "white",
            "showbackground": true,
            "ticks": "",
            "zerolinecolor": "white"
           },
           "yaxis": {
            "backgroundcolor": "#E5ECF6",
            "gridcolor": "white",
            "gridwidth": 2,
            "linecolor": "white",
            "showbackground": true,
            "ticks": "",
            "zerolinecolor": "white"
           },
           "zaxis": {
            "backgroundcolor": "#E5ECF6",
            "gridcolor": "white",
            "gridwidth": 2,
            "linecolor": "white",
            "showbackground": true,
            "ticks": "",
            "zerolinecolor": "white"
           }
          },
          "shapedefaults": {
           "line": {
            "color": "#2a3f5f"
           }
          },
          "ternary": {
           "aaxis": {
            "gridcolor": "white",
            "linecolor": "white",
            "ticks": ""
           },
           "baxis": {
            "gridcolor": "white",
            "linecolor": "white",
            "ticks": ""
           },
           "bgcolor": "#E5ECF6",
           "caxis": {
            "gridcolor": "white",
            "linecolor": "white",
            "ticks": ""
           }
          },
          "title": {
           "x": 0.05
          },
          "xaxis": {
           "automargin": true,
           "gridcolor": "white",
           "linecolor": "white",
           "ticks": "",
           "title": {
            "standoff": 15
           },
           "zerolinecolor": "white",
           "zerolinewidth": 2
          },
          "yaxis": {
           "automargin": true,
           "gridcolor": "white",
           "linecolor": "white",
           "ticks": "",
           "title": {
            "standoff": 15
           },
           "zerolinecolor": "white",
           "zerolinewidth": 2
          }
         }
        },
        "width": 1000,
        "xaxis": {
         "showgrid": false,
         "showline": false,
         "showticklabels": false,
         "zeroline": false
        },
        "yaxis": {
         "showgrid": false,
         "showline": false,
         "showticklabels": false,
         "zeroline": false
        }
       }
      }
     },
     "metadata": {},
     "output_type": "display_data"
    }
   ],
   "source": [
    "temp,root = merge_points(similarities,root,nodes1,embeddings,3,2,0.6,n)\n",
    "for i in nodes1:\n",
    "    i.hyper = temp[int(i)]\n",
    "    i.value =  temp[int(i)]\n",
    "embeddings = temp.numpy();\n",
    "add_meta(root,meta_list2,[])\n",
    "show_tree(root,color=['#184e77','#1a759f','#168aad',\"#34a0a4\",'#52b69a','#99d98c','#76c893','#99d98c']).show_fig()\n",
    "remove_meta(root);"
   ]
  },
  {
   "cell_type": "code",
   "execution_count": 111,
   "metadata": {},
   "outputs": [
    {
     "name": "stdout",
     "output_type": "stream",
     "text": [
      "6 1\n",
      "[8, 1, 2, 3, 7, 0, 4]\n",
      "3 3\n",
      "\t Epoch 0 | average train loss1: 0.347208\n",
      "\t Epoch 0 | average train loss2: 0.345943\n",
      "\t Epoch 1 | average train loss1: 0.346126\n",
      "\t Epoch 1 | average train loss2: 0.345903\n",
      "\t Epoch 2 | average train loss1: 0.346114\n",
      "\t Epoch 2 | average train loss2: 0.345732\n",
      "{'CD4Tn': '#184e77', 'Tfh': '#1a759f', 'empty': '#fff', 'Th17': '#34a0a4'}\n"
     ]
    },
    {
     "data": {
      "application/vnd.plotly.v1+json": {
       "config": {
        "plotlyServerURL": "https://plot.ly"
       },
       "data": [
        {
         "hoverinfo": "text",
         "hovertext": [
          "0_CD4Tn"
         ],
         "legendgroup": "CD4Tn",
         "marker": {
          "color": "#184e77",
          "size": 10,
          "symbol": "circle-dot"
         },
         "mode": "markers+text",
         "name": "CD4Tn",
         "type": "scatter",
         "x": [
          6.625
         ],
         "y": [
          2
         ]
        },
        {
         "hoverinfo": "text",
         "hovertext": [
          "2_Tfh",
          "3_Tfh",
          "4_Tfh"
         ],
         "legendgroup": "Tfh",
         "marker": {
          "color": "#1a759f",
          "size": 10,
          "symbol": "circle-dot"
         },
         "mode": "markers+text",
         "name": "Tfh",
         "type": "scatter",
         "x": [
          3.25,
          3.25,
          8.875
         ],
         "y": [
          2,
          0.5,
          2
         ]
        },
        {
         "hoverinfo": "text",
         "hovertext": [
          "8",
          "7"
         ],
         "legendgroup": "empty",
         "marker": {
          "color": "#fff",
          "size": 10,
          "symbol": "circle-dot"
         },
         "mode": "markers+text",
         "name": "empty",
         "type": "scatter",
         "x": [
          5.5,
          7.75
         ],
         "y": [
          5,
          3.5
         ]
        },
        {
         "hoverinfo": "text",
         "hovertext": [
          "1_Th17"
         ],
         "legendgroup": "Th17",
         "marker": {
          "color": "#34a0a4",
          "size": 10,
          "symbol": "circle-dot"
         },
         "mode": "markers+text",
         "name": "Th17",
         "type": "scatter",
         "x": [
          3.25
         ],
         "y": [
          3.5
         ]
        }
       ],
       "layout": {
        "height": 500,
        "shapes": [
         {
          "layer": "below",
          "line": {
           "color": "#333",
           "width": 2
          },
          "type": "line",
          "x0": 5.5,
          "x1": 5.5,
          "y0": 5,
          "y1": 5
         },
         {
          "layer": "below",
          "line": {
           "color": "#333",
           "width": 2
          },
          "type": "line",
          "x0": 5.5,
          "x1": 3.25,
          "y0": 5,
          "y1": 3.5
         },
         {
          "layer": "below",
          "line": {
           "color": "#333",
           "width": 2
          },
          "type": "line",
          "x0": 3.25,
          "x1": 3.25,
          "y0": 3.5,
          "y1": 2
         },
         {
          "layer": "below",
          "line": {
           "color": "#333",
           "width": 2
          },
          "type": "line",
          "x0": 3.25,
          "x1": 3.25,
          "y0": 2,
          "y1": 0.5
         },
         {
          "layer": "below",
          "line": {
           "color": "#333",
           "width": 2
          },
          "type": "line",
          "x0": 5.5,
          "x1": 7.75,
          "y0": 5,
          "y1": 3.5
         },
         {
          "layer": "below",
          "line": {
           "color": "#333",
           "width": 2
          },
          "type": "line",
          "x0": 7.75,
          "x1": 6.625,
          "y0": 3.5,
          "y1": 2
         },
         {
          "layer": "below",
          "line": {
           "color": "#333",
           "width": 2
          },
          "type": "line",
          "x0": 7.75,
          "x1": 8.875,
          "y0": 3.5,
          "y1": 2
         }
        ],
        "template": {
         "data": {
          "bar": [
           {
            "error_x": {
             "color": "#2a3f5f"
            },
            "error_y": {
             "color": "#2a3f5f"
            },
            "marker": {
             "line": {
              "color": "#E5ECF6",
              "width": 0.5
             },
             "pattern": {
              "fillmode": "overlay",
              "size": 10,
              "solidity": 0.2
             }
            },
            "type": "bar"
           }
          ],
          "barpolar": [
           {
            "marker": {
             "line": {
              "color": "#E5ECF6",
              "width": 0.5
             },
             "pattern": {
              "fillmode": "overlay",
              "size": 10,
              "solidity": 0.2
             }
            },
            "type": "barpolar"
           }
          ],
          "carpet": [
           {
            "aaxis": {
             "endlinecolor": "#2a3f5f",
             "gridcolor": "white",
             "linecolor": "white",
             "minorgridcolor": "white",
             "startlinecolor": "#2a3f5f"
            },
            "baxis": {
             "endlinecolor": "#2a3f5f",
             "gridcolor": "white",
             "linecolor": "white",
             "minorgridcolor": "white",
             "startlinecolor": "#2a3f5f"
            },
            "type": "carpet"
           }
          ],
          "choropleth": [
           {
            "colorbar": {
             "outlinewidth": 0,
             "ticks": ""
            },
            "type": "choropleth"
           }
          ],
          "contour": [
           {
            "colorbar": {
             "outlinewidth": 0,
             "ticks": ""
            },
            "colorscale": [
             [
              0,
              "#0d0887"
             ],
             [
              0.1111111111111111,
              "#46039f"
             ],
             [
              0.2222222222222222,
              "#7201a8"
             ],
             [
              0.3333333333333333,
              "#9c179e"
             ],
             [
              0.4444444444444444,
              "#bd3786"
             ],
             [
              0.5555555555555556,
              "#d8576b"
             ],
             [
              0.6666666666666666,
              "#ed7953"
             ],
             [
              0.7777777777777778,
              "#fb9f3a"
             ],
             [
              0.8888888888888888,
              "#fdca26"
             ],
             [
              1,
              "#f0f921"
             ]
            ],
            "type": "contour"
           }
          ],
          "contourcarpet": [
           {
            "colorbar": {
             "outlinewidth": 0,
             "ticks": ""
            },
            "type": "contourcarpet"
           }
          ],
          "heatmap": [
           {
            "colorbar": {
             "outlinewidth": 0,
             "ticks": ""
            },
            "colorscale": [
             [
              0,
              "#0d0887"
             ],
             [
              0.1111111111111111,
              "#46039f"
             ],
             [
              0.2222222222222222,
              "#7201a8"
             ],
             [
              0.3333333333333333,
              "#9c179e"
             ],
             [
              0.4444444444444444,
              "#bd3786"
             ],
             [
              0.5555555555555556,
              "#d8576b"
             ],
             [
              0.6666666666666666,
              "#ed7953"
             ],
             [
              0.7777777777777778,
              "#fb9f3a"
             ],
             [
              0.8888888888888888,
              "#fdca26"
             ],
             [
              1,
              "#f0f921"
             ]
            ],
            "type": "heatmap"
           }
          ],
          "heatmapgl": [
           {
            "colorbar": {
             "outlinewidth": 0,
             "ticks": ""
            },
            "colorscale": [
             [
              0,
              "#0d0887"
             ],
             [
              0.1111111111111111,
              "#46039f"
             ],
             [
              0.2222222222222222,
              "#7201a8"
             ],
             [
              0.3333333333333333,
              "#9c179e"
             ],
             [
              0.4444444444444444,
              "#bd3786"
             ],
             [
              0.5555555555555556,
              "#d8576b"
             ],
             [
              0.6666666666666666,
              "#ed7953"
             ],
             [
              0.7777777777777778,
              "#fb9f3a"
             ],
             [
              0.8888888888888888,
              "#fdca26"
             ],
             [
              1,
              "#f0f921"
             ]
            ],
            "type": "heatmapgl"
           }
          ],
          "histogram": [
           {
            "marker": {
             "pattern": {
              "fillmode": "overlay",
              "size": 10,
              "solidity": 0.2
             }
            },
            "type": "histogram"
           }
          ],
          "histogram2d": [
           {
            "colorbar": {
             "outlinewidth": 0,
             "ticks": ""
            },
            "colorscale": [
             [
              0,
              "#0d0887"
             ],
             [
              0.1111111111111111,
              "#46039f"
             ],
             [
              0.2222222222222222,
              "#7201a8"
             ],
             [
              0.3333333333333333,
              "#9c179e"
             ],
             [
              0.4444444444444444,
              "#bd3786"
             ],
             [
              0.5555555555555556,
              "#d8576b"
             ],
             [
              0.6666666666666666,
              "#ed7953"
             ],
             [
              0.7777777777777778,
              "#fb9f3a"
             ],
             [
              0.8888888888888888,
              "#fdca26"
             ],
             [
              1,
              "#f0f921"
             ]
            ],
            "type": "histogram2d"
           }
          ],
          "histogram2dcontour": [
           {
            "colorbar": {
             "outlinewidth": 0,
             "ticks": ""
            },
            "colorscale": [
             [
              0,
              "#0d0887"
             ],
             [
              0.1111111111111111,
              "#46039f"
             ],
             [
              0.2222222222222222,
              "#7201a8"
             ],
             [
              0.3333333333333333,
              "#9c179e"
             ],
             [
              0.4444444444444444,
              "#bd3786"
             ],
             [
              0.5555555555555556,
              "#d8576b"
             ],
             [
              0.6666666666666666,
              "#ed7953"
             ],
             [
              0.7777777777777778,
              "#fb9f3a"
             ],
             [
              0.8888888888888888,
              "#fdca26"
             ],
             [
              1,
              "#f0f921"
             ]
            ],
            "type": "histogram2dcontour"
           }
          ],
          "mesh3d": [
           {
            "colorbar": {
             "outlinewidth": 0,
             "ticks": ""
            },
            "type": "mesh3d"
           }
          ],
          "parcoords": [
           {
            "line": {
             "colorbar": {
              "outlinewidth": 0,
              "ticks": ""
             }
            },
            "type": "parcoords"
           }
          ],
          "pie": [
           {
            "automargin": true,
            "type": "pie"
           }
          ],
          "scatter": [
           {
            "fillpattern": {
             "fillmode": "overlay",
             "size": 10,
             "solidity": 0.2
            },
            "type": "scatter"
           }
          ],
          "scatter3d": [
           {
            "line": {
             "colorbar": {
              "outlinewidth": 0,
              "ticks": ""
             }
            },
            "marker": {
             "colorbar": {
              "outlinewidth": 0,
              "ticks": ""
             }
            },
            "type": "scatter3d"
           }
          ],
          "scattercarpet": [
           {
            "marker": {
             "colorbar": {
              "outlinewidth": 0,
              "ticks": ""
             }
            },
            "type": "scattercarpet"
           }
          ],
          "scattergeo": [
           {
            "marker": {
             "colorbar": {
              "outlinewidth": 0,
              "ticks": ""
             }
            },
            "type": "scattergeo"
           }
          ],
          "scattergl": [
           {
            "marker": {
             "colorbar": {
              "outlinewidth": 0,
              "ticks": ""
             }
            },
            "type": "scattergl"
           }
          ],
          "scattermapbox": [
           {
            "marker": {
             "colorbar": {
              "outlinewidth": 0,
              "ticks": ""
             }
            },
            "type": "scattermapbox"
           }
          ],
          "scatterpolar": [
           {
            "marker": {
             "colorbar": {
              "outlinewidth": 0,
              "ticks": ""
             }
            },
            "type": "scatterpolar"
           }
          ],
          "scatterpolargl": [
           {
            "marker": {
             "colorbar": {
              "outlinewidth": 0,
              "ticks": ""
             }
            },
            "type": "scatterpolargl"
           }
          ],
          "scatterternary": [
           {
            "marker": {
             "colorbar": {
              "outlinewidth": 0,
              "ticks": ""
             }
            },
            "type": "scatterternary"
           }
          ],
          "surface": [
           {
            "colorbar": {
             "outlinewidth": 0,
             "ticks": ""
            },
            "colorscale": [
             [
              0,
              "#0d0887"
             ],
             [
              0.1111111111111111,
              "#46039f"
             ],
             [
              0.2222222222222222,
              "#7201a8"
             ],
             [
              0.3333333333333333,
              "#9c179e"
             ],
             [
              0.4444444444444444,
              "#bd3786"
             ],
             [
              0.5555555555555556,
              "#d8576b"
             ],
             [
              0.6666666666666666,
              "#ed7953"
             ],
             [
              0.7777777777777778,
              "#fb9f3a"
             ],
             [
              0.8888888888888888,
              "#fdca26"
             ],
             [
              1,
              "#f0f921"
             ]
            ],
            "type": "surface"
           }
          ],
          "table": [
           {
            "cells": {
             "fill": {
              "color": "#EBF0F8"
             },
             "line": {
              "color": "white"
             }
            },
            "header": {
             "fill": {
              "color": "#C8D4E3"
             },
             "line": {
              "color": "white"
             }
            },
            "type": "table"
           }
          ]
         },
         "layout": {
          "annotationdefaults": {
           "arrowcolor": "#2a3f5f",
           "arrowhead": 0,
           "arrowwidth": 1
          },
          "autotypenumbers": "strict",
          "coloraxis": {
           "colorbar": {
            "outlinewidth": 0,
            "ticks": ""
           }
          },
          "colorscale": {
           "diverging": [
            [
             0,
             "#8e0152"
            ],
            [
             0.1,
             "#c51b7d"
            ],
            [
             0.2,
             "#de77ae"
            ],
            [
             0.3,
             "#f1b6da"
            ],
            [
             0.4,
             "#fde0ef"
            ],
            [
             0.5,
             "#f7f7f7"
            ],
            [
             0.6,
             "#e6f5d0"
            ],
            [
             0.7,
             "#b8e186"
            ],
            [
             0.8,
             "#7fbc41"
            ],
            [
             0.9,
             "#4d9221"
            ],
            [
             1,
             "#276419"
            ]
           ],
           "sequential": [
            [
             0,
             "#0d0887"
            ],
            [
             0.1111111111111111,
             "#46039f"
            ],
            [
             0.2222222222222222,
             "#7201a8"
            ],
            [
             0.3333333333333333,
             "#9c179e"
            ],
            [
             0.4444444444444444,
             "#bd3786"
            ],
            [
             0.5555555555555556,
             "#d8576b"
            ],
            [
             0.6666666666666666,
             "#ed7953"
            ],
            [
             0.7777777777777778,
             "#fb9f3a"
            ],
            [
             0.8888888888888888,
             "#fdca26"
            ],
            [
             1,
             "#f0f921"
            ]
           ],
           "sequentialminus": [
            [
             0,
             "#0d0887"
            ],
            [
             0.1111111111111111,
             "#46039f"
            ],
            [
             0.2222222222222222,
             "#7201a8"
            ],
            [
             0.3333333333333333,
             "#9c179e"
            ],
            [
             0.4444444444444444,
             "#bd3786"
            ],
            [
             0.5555555555555556,
             "#d8576b"
            ],
            [
             0.6666666666666666,
             "#ed7953"
            ],
            [
             0.7777777777777778,
             "#fb9f3a"
            ],
            [
             0.8888888888888888,
             "#fdca26"
            ],
            [
             1,
             "#f0f921"
            ]
           ]
          },
          "colorway": [
           "#636efa",
           "#EF553B",
           "#00cc96",
           "#ab63fa",
           "#FFA15A",
           "#19d3f3",
           "#FF6692",
           "#B6E880",
           "#FF97FF",
           "#FECB52"
          ],
          "font": {
           "color": "#2a3f5f"
          },
          "geo": {
           "bgcolor": "white",
           "lakecolor": "white",
           "landcolor": "#E5ECF6",
           "showlakes": true,
           "showland": true,
           "subunitcolor": "white"
          },
          "hoverlabel": {
           "align": "left"
          },
          "hovermode": "closest",
          "mapbox": {
           "style": "light"
          },
          "paper_bgcolor": "white",
          "plot_bgcolor": "#E5ECF6",
          "polar": {
           "angularaxis": {
            "gridcolor": "white",
            "linecolor": "white",
            "ticks": ""
           },
           "bgcolor": "#E5ECF6",
           "radialaxis": {
            "gridcolor": "white",
            "linecolor": "white",
            "ticks": ""
           }
          },
          "scene": {
           "xaxis": {
            "backgroundcolor": "#E5ECF6",
            "gridcolor": "white",
            "gridwidth": 2,
            "linecolor": "white",
            "showbackground": true,
            "ticks": "",
            "zerolinecolor": "white"
           },
           "yaxis": {
            "backgroundcolor": "#E5ECF6",
            "gridcolor": "white",
            "gridwidth": 2,
            "linecolor": "white",
            "showbackground": true,
            "ticks": "",
            "zerolinecolor": "white"
           },
           "zaxis": {
            "backgroundcolor": "#E5ECF6",
            "gridcolor": "white",
            "gridwidth": 2,
            "linecolor": "white",
            "showbackground": true,
            "ticks": "",
            "zerolinecolor": "white"
           }
          },
          "shapedefaults": {
           "line": {
            "color": "#2a3f5f"
           }
          },
          "ternary": {
           "aaxis": {
            "gridcolor": "white",
            "linecolor": "white",
            "ticks": ""
           },
           "baxis": {
            "gridcolor": "white",
            "linecolor": "white",
            "ticks": ""
           },
           "bgcolor": "#E5ECF6",
           "caxis": {
            "gridcolor": "white",
            "linecolor": "white",
            "ticks": ""
           }
          },
          "title": {
           "x": 0.05
          },
          "xaxis": {
           "automargin": true,
           "gridcolor": "white",
           "linecolor": "white",
           "ticks": "",
           "title": {
            "standoff": 15
           },
           "zerolinecolor": "white",
           "zerolinewidth": 2
          },
          "yaxis": {
           "automargin": true,
           "gridcolor": "white",
           "linecolor": "white",
           "ticks": "",
           "title": {
            "standoff": 15
           },
           "zerolinecolor": "white",
           "zerolinewidth": 2
          }
         }
        },
        "width": 1000,
        "xaxis": {
         "showgrid": false,
         "showline": false,
         "showticklabels": false,
         "zeroline": false
        },
        "yaxis": {
         "showgrid": false,
         "showline": false,
         "showticklabels": false,
         "zeroline": false
        }
       }
      }
     },
     "metadata": {},
     "output_type": "display_data"
    }
   ],
   "source": [
    "temp,root = merge_points(similarities,root,nodes1,embeddings,3,2,0.6,n)\n",
    "for i in nodes1:\n",
    "    i.hyper = temp[int(i)]\n",
    "    i.value =  temp[int(i)]\n",
    "embeddings = temp.numpy();\n",
    "add_meta(root,meta_list2,[])\n",
    "show_tree(root,color=['#184e77','#1a759f','#168aad',\"#34a0a4\",'#52b69a','#99d98c','#76c893','#99d98c']).show_fig()\n",
    "remove_meta(root);"
   ]
  },
  {
   "cell_type": "code",
   "execution_count": 112,
   "metadata": {},
   "outputs": [],
   "source": [
    "names = [];\n",
    "fathers = [];\n",
    "xys = [];\n",
    "search_merge_tree(root,-1,0,names,fathers,xys)\n",
    "np.save('./datas/i/2/'+\"dataname_merge.npy\",names)\n",
    "np.save('./datas/i/2/'+\"datalink_merge.npy\",fathers)\n",
    "np.save('./datas/i/2/'+\"dataxy_merge.npy\",[i.numpy() for i in xys]) "
   ]
  },
  {
   "cell_type": "code",
   "execution_count": null,
   "metadata": {},
   "outputs": [],
   "source": []
  },
  {
   "cell_type": "code",
   "execution_count": 113,
   "metadata": {},
   "outputs": [
    {
     "name": "stderr",
     "output_type": "stream",
     "text": [
      "/Users/dongjiajie/Desktop/alignment/fyp/hyperalignment/final/alignment.py:799: DeprecationWarning:\n",
      "\n",
      "`np.int` is a deprecated alias for the builtin `int`. To silence this warning, use `int` by itself. Doing this will not modify any behavior and is safe. When replacing `np.int`, you may wish to use e.g. `np.int64` or `np.int32` to specify the precision. If you wish to review your current use, check the release note link for additional information.\n",
      "Deprecated in NumPy 1.20; for more details and guidance: https://numpy.org/devdocs/release/1.20.0-notes.html#deprecations\n",
      "\n",
      "/Users/dongjiajie/Desktop/alignment/fyp/hyperalignment/final/alignment.py:799: DeprecationWarning:\n",
      "\n",
      "`np.int` is a deprecated alias for the builtin `int`. To silence this warning, use `int` by itself. Doing this will not modify any behavior and is safe. When replacing `np.int`, you may wish to use e.g. `np.int64` or `np.int32` to specify the precision. If you wish to review your current use, check the release note link for additional information.\n",
      "Deprecated in NumPy 1.20; for more details and guidance: https://numpy.org/devdocs/release/1.20.0-notes.html#deprecations\n",
      "\n"
     ]
    },
    {
     "name": "stdout",
     "output_type": "stream",
     "text": [
      "The mininum cost for alignment is 3.272727272727273\n",
      "The alignment edges list is [('8', '8'), ('7', '1_Th17'), ('1_Tfh', '2_Tfh'), ('2_Tfh', '3_Tfh'), ('4_Th2', '7'), ('3_Tfh', '4_Tfh')]\n",
      "average cost for one node:0.2337662337662338\n",
      "\n",
      "correct alignment rate:1.0\n"
     ]
    }
   ],
   "source": [
    "nodes1 = build_hyper_tree_from_folder('./datas/i/1/',True)\n",
    "nodes2 = build_hyper_tree_from_folder('./datas/i/2/',True)\n",
    "nodes_merge1 = [];\n",
    "nodes_merge2 = [];\n",
    "add_meta(nodes1[0],meta_list1,[])\n",
    "add_meta(nodes2[0],meta_list2,[])\n",
    "\n",
    "        \n",
    "\n",
    "rate,anslist,ans = run_alignment(nodes1,nodes2,'./datas/i/1/','./datas/i/2/',meta_list1,meta_list2);\n"
   ]
  },
  {
   "cell_type": "code",
   "execution_count": 114,
   "metadata": {},
   "outputs": [
    {
     "data": {
      "text/plain": [
       "[('8', '8'),\n",
       " ('7', '1_Th17'),\n",
       " ('1_Tfh', '2_Tfh'),\n",
       " ('2_Tfh', '3_Tfh'),\n",
       " ('4_Th2', '7'),\n",
       " ('3_Tfh', '4_Tfh')]"
      ]
     },
     "execution_count": 114,
     "metadata": {},
     "output_type": "execute_result"
    }
   ],
   "source": [
    "ans"
   ]
  },
  {
   "cell_type": "code",
   "execution_count": 115,
   "metadata": {},
   "outputs": [
    {
     "name": "stderr",
     "output_type": "stream",
     "text": [
      "/Users/dongjiajie/Desktop/alignment/fyp/hyperalignment/final/alignment.py:799: DeprecationWarning:\n",
      "\n",
      "`np.int` is a deprecated alias for the builtin `int`. To silence this warning, use `int` by itself. Doing this will not modify any behavior and is safe. When replacing `np.int`, you may wish to use e.g. `np.int64` or `np.int32` to specify the precision. If you wish to review your current use, check the release note link for additional information.\n",
      "Deprecated in NumPy 1.20; for more details and guidance: https://numpy.org/devdocs/release/1.20.0-notes.html#deprecations\n",
      "\n",
      "/Users/dongjiajie/Desktop/alignment/fyp/hyperalignment/final/alignment.py:799: DeprecationWarning:\n",
      "\n",
      "`np.int` is a deprecated alias for the builtin `int`. To silence this warning, use `int` by itself. Doing this will not modify any behavior and is safe. When replacing `np.int`, you may wish to use e.g. `np.int64` or `np.int32` to specify the precision. If you wish to review your current use, check the release note link for additional information.\n",
      "Deprecated in NumPy 1.20; for more details and guidance: https://numpy.org/devdocs/release/1.20.0-notes.html#deprecations\n",
      "\n"
     ]
    },
    {
     "name": "stdout",
     "output_type": "stream",
     "text": [
      "The mininum cost for alignment is 3.272727272727273\n",
      "The alignment edges list is [('8', '8'), ('7', '1_Th17'), ('1_Tfh', '2_Tfh'), ('2_Tfh', '3_Tfh'), ('4_Th2', '7'), ('3_Tfh', '4_Tfh')]\n"
     ]
    },
    {
     "data": {
      "application/vnd.plotly.v1+json": {
       "config": {
        "plotlyServerURL": "https://plot.ly"
       },
       "data": [
        {
         "hoverinfo": "text",
         "hovertext": [
          "connect 8",
          "connect 7",
          "connect 4_Tfh",
          "connect 1_Th17",
          "connect Empty",
          "connect 2_Tfh",
          "connect 3_Tfh",
          "connect 8",
          "connect 7",
          "connect 1_Tfh",
          "connect 2_Tfh",
          "connect 4_Th2",
          "connect Empty",
          "connect 3_Tfh"
         ],
         "marker": {
          "color": [
           1.6591591154961058,
           4.641697513921798,
           4.641697513921798,
           2.1223931250793324,
           3.7568914090292824,
           2.422095941993255,
           2.422095941993255,
           1.284843912437145,
           2.422095941993255,
           2.422095941993255,
           2.422095941993255,
           1.4211689666705813,
           3.7568914090292824,
           4.641697513921798
          ],
          "colorscale": [
           [
            0,
            "rgb(253, 224, 197)"
           ],
           [
            0.16666666666666666,
            "rgb(250, 203, 166)"
           ],
           [
            0.3333333333333333,
            "rgb(248, 181, 139)"
           ],
           [
            0.5,
            "rgb(245, 158, 114)"
           ],
           [
            0.6666666666666666,
            "rgb(242, 133, 93)"
           ],
           [
            0.8333333333333334,
            "rgb(239, 106, 76)"
           ],
           [
            1,
            "rgb(235, 74, 64)"
           ]
          ],
          "showscale": true,
          "size": 50,
          "symbol": "circle-dot"
         },
         "mode": "markers+text",
         "opacity": 0.8,
         "text": [
          "8",
          "4_Th2",
          "3_Tfh",
          "7",
          "0_CD4Tn",
          "1_Tfh",
          "2_Tfh",
          "8",
          "1_Th17",
          "2_Tfh",
          "3_Tfh",
          "7",
          "0_CD4Tn",
          "4_Tfh"
         ],
         "textfont": {
          "color": "#000000",
          "family": "sans serif",
          "size": 18
         },
         "type": "scatter",
         "x": [
          10.5,
          5.75,
          5.75,
          15.25,
          12.875,
          17.625,
          17.625,
          27.5,
          22.75,
          22.75,
          22.75,
          32.25,
          29.875,
          34.625
         ],
         "y": [
          5,
          3.5,
          2,
          3.5,
          2,
          2,
          0.5,
          3.5,
          2,
          0.5,
          -1,
          2,
          0.5,
          0.5
         ]
        }
       ],
       "layout": {
        "height": 500,
        "shapes": [
         {
          "layer": "below",
          "line": {
           "color": "#333",
           "width": 4
          },
          "type": "line",
          "x0": 10.5,
          "x1": 10.5,
          "y0": 5,
          "y1": 5
         },
         {
          "layer": "below",
          "line": {
           "color": "#333",
           "width": 4
          },
          "type": "line",
          "x0": 10.5,
          "x1": 5.75,
          "y0": 5,
          "y1": 3.5
         },
         {
          "layer": "below",
          "line": {
           "color": "#333",
           "width": 4
          },
          "type": "line",
          "x0": 5.75,
          "x1": 5.75,
          "y0": 3.5,
          "y1": 2
         },
         {
          "layer": "below",
          "line": {
           "color": "#333",
           "width": 4
          },
          "type": "line",
          "x0": 10.5,
          "x1": 15.25,
          "y0": 5,
          "y1": 3.5
         },
         {
          "layer": "below",
          "line": {
           "color": "#333",
           "width": 4
          },
          "type": "line",
          "x0": 15.25,
          "x1": 12.875,
          "y0": 3.5,
          "y1": 2
         },
         {
          "layer": "below",
          "line": {
           "color": "#333",
           "width": 4
          },
          "type": "line",
          "x0": 15.25,
          "x1": 17.625,
          "y0": 3.5,
          "y1": 2
         },
         {
          "layer": "below",
          "line": {
           "color": "#333",
           "width": 4
          },
          "type": "line",
          "x0": 17.625,
          "x1": 17.625,
          "y0": 2,
          "y1": 0.5
         },
         {
          "layer": "below",
          "line": {
           "color": "#333",
           "width": 4
          },
          "type": "line",
          "x0": 27.5,
          "x1": 27.5,
          "y0": 3.5,
          "y1": 3.5
         },
         {
          "layer": "below",
          "line": {
           "color": "#333",
           "width": 4
          },
          "type": "line",
          "x0": 27.5,
          "x1": 22.75,
          "y0": 3.5,
          "y1": 2
         },
         {
          "layer": "below",
          "line": {
           "color": "#333",
           "width": 4
          },
          "type": "line",
          "x0": 22.75,
          "x1": 22.75,
          "y0": 2,
          "y1": 0.5
         },
         {
          "layer": "below",
          "line": {
           "color": "#333",
           "width": 4
          },
          "type": "line",
          "x0": 22.75,
          "x1": 22.75,
          "y0": 0.5,
          "y1": -1
         },
         {
          "layer": "below",
          "line": {
           "color": "#333",
           "width": 4
          },
          "type": "line",
          "x0": 27.5,
          "x1": 32.25,
          "y0": 3.5,
          "y1": 2
         },
         {
          "layer": "below",
          "line": {
           "color": "#333",
           "width": 4
          },
          "type": "line",
          "x0": 32.25,
          "x1": 29.875,
          "y0": 2,
          "y1": 0.5
         },
         {
          "layer": "below",
          "line": {
           "color": "#333",
           "width": 4
          },
          "type": "line",
          "x0": 32.25,
          "x1": 34.625,
          "y0": 2,
          "y1": 0.5
         },
         {
          "layer": "below",
          "line": {
           "color": "#6175c1",
           "width": 4
          },
          "type": "line",
          "x0": 10.5,
          "x1": 27.5,
          "y0": 5,
          "y1": 3.5
         },
         {
          "layer": "below",
          "line": {
           "color": "#6175c1",
           "width": 4
          },
          "type": "line",
          "x0": 15.25,
          "x1": 22.75,
          "y0": 3.5,
          "y1": 2
         },
         {
          "layer": "below",
          "line": {
           "color": "#6175c1",
           "width": 4
          },
          "type": "line",
          "x0": 17.625,
          "x1": 22.75,
          "y0": 2,
          "y1": 0.5
         },
         {
          "layer": "below",
          "line": {
           "color": "#6175c1",
           "width": 4
          },
          "type": "line",
          "x0": 17.625,
          "x1": 22.75,
          "y0": 0.5,
          "y1": -1
         },
         {
          "layer": "below",
          "line": {
           "color": "#6175c1",
           "width": 4
          },
          "type": "line",
          "x0": 5.75,
          "x1": 32.25,
          "y0": 3.5,
          "y1": 2
         },
         {
          "layer": "below",
          "line": {
           "color": "#6175c1",
           "width": 4
          },
          "type": "line",
          "x0": 5.75,
          "x1": 34.625,
          "y0": 2,
          "y1": 0.5
         }
        ],
        "template": {
         "data": {
          "bar": [
           {
            "error_x": {
             "color": "#2a3f5f"
            },
            "error_y": {
             "color": "#2a3f5f"
            },
            "marker": {
             "line": {
              "color": "#E5ECF6",
              "width": 0.5
             },
             "pattern": {
              "fillmode": "overlay",
              "size": 10,
              "solidity": 0.2
             }
            },
            "type": "bar"
           }
          ],
          "barpolar": [
           {
            "marker": {
             "line": {
              "color": "#E5ECF6",
              "width": 0.5
             },
             "pattern": {
              "fillmode": "overlay",
              "size": 10,
              "solidity": 0.2
             }
            },
            "type": "barpolar"
           }
          ],
          "carpet": [
           {
            "aaxis": {
             "endlinecolor": "#2a3f5f",
             "gridcolor": "white",
             "linecolor": "white",
             "minorgridcolor": "white",
             "startlinecolor": "#2a3f5f"
            },
            "baxis": {
             "endlinecolor": "#2a3f5f",
             "gridcolor": "white",
             "linecolor": "white",
             "minorgridcolor": "white",
             "startlinecolor": "#2a3f5f"
            },
            "type": "carpet"
           }
          ],
          "choropleth": [
           {
            "colorbar": {
             "outlinewidth": 0,
             "ticks": ""
            },
            "type": "choropleth"
           }
          ],
          "contour": [
           {
            "colorbar": {
             "outlinewidth": 0,
             "ticks": ""
            },
            "colorscale": [
             [
              0,
              "#0d0887"
             ],
             [
              0.1111111111111111,
              "#46039f"
             ],
             [
              0.2222222222222222,
              "#7201a8"
             ],
             [
              0.3333333333333333,
              "#9c179e"
             ],
             [
              0.4444444444444444,
              "#bd3786"
             ],
             [
              0.5555555555555556,
              "#d8576b"
             ],
             [
              0.6666666666666666,
              "#ed7953"
             ],
             [
              0.7777777777777778,
              "#fb9f3a"
             ],
             [
              0.8888888888888888,
              "#fdca26"
             ],
             [
              1,
              "#f0f921"
             ]
            ],
            "type": "contour"
           }
          ],
          "contourcarpet": [
           {
            "colorbar": {
             "outlinewidth": 0,
             "ticks": ""
            },
            "type": "contourcarpet"
           }
          ],
          "heatmap": [
           {
            "colorbar": {
             "outlinewidth": 0,
             "ticks": ""
            },
            "colorscale": [
             [
              0,
              "#0d0887"
             ],
             [
              0.1111111111111111,
              "#46039f"
             ],
             [
              0.2222222222222222,
              "#7201a8"
             ],
             [
              0.3333333333333333,
              "#9c179e"
             ],
             [
              0.4444444444444444,
              "#bd3786"
             ],
             [
              0.5555555555555556,
              "#d8576b"
             ],
             [
              0.6666666666666666,
              "#ed7953"
             ],
             [
              0.7777777777777778,
              "#fb9f3a"
             ],
             [
              0.8888888888888888,
              "#fdca26"
             ],
             [
              1,
              "#f0f921"
             ]
            ],
            "type": "heatmap"
           }
          ],
          "heatmapgl": [
           {
            "colorbar": {
             "outlinewidth": 0,
             "ticks": ""
            },
            "colorscale": [
             [
              0,
              "#0d0887"
             ],
             [
              0.1111111111111111,
              "#46039f"
             ],
             [
              0.2222222222222222,
              "#7201a8"
             ],
             [
              0.3333333333333333,
              "#9c179e"
             ],
             [
              0.4444444444444444,
              "#bd3786"
             ],
             [
              0.5555555555555556,
              "#d8576b"
             ],
             [
              0.6666666666666666,
              "#ed7953"
             ],
             [
              0.7777777777777778,
              "#fb9f3a"
             ],
             [
              0.8888888888888888,
              "#fdca26"
             ],
             [
              1,
              "#f0f921"
             ]
            ],
            "type": "heatmapgl"
           }
          ],
          "histogram": [
           {
            "marker": {
             "pattern": {
              "fillmode": "overlay",
              "size": 10,
              "solidity": 0.2
             }
            },
            "type": "histogram"
           }
          ],
          "histogram2d": [
           {
            "colorbar": {
             "outlinewidth": 0,
             "ticks": ""
            },
            "colorscale": [
             [
              0,
              "#0d0887"
             ],
             [
              0.1111111111111111,
              "#46039f"
             ],
             [
              0.2222222222222222,
              "#7201a8"
             ],
             [
              0.3333333333333333,
              "#9c179e"
             ],
             [
              0.4444444444444444,
              "#bd3786"
             ],
             [
              0.5555555555555556,
              "#d8576b"
             ],
             [
              0.6666666666666666,
              "#ed7953"
             ],
             [
              0.7777777777777778,
              "#fb9f3a"
             ],
             [
              0.8888888888888888,
              "#fdca26"
             ],
             [
              1,
              "#f0f921"
             ]
            ],
            "type": "histogram2d"
           }
          ],
          "histogram2dcontour": [
           {
            "colorbar": {
             "outlinewidth": 0,
             "ticks": ""
            },
            "colorscale": [
             [
              0,
              "#0d0887"
             ],
             [
              0.1111111111111111,
              "#46039f"
             ],
             [
              0.2222222222222222,
              "#7201a8"
             ],
             [
              0.3333333333333333,
              "#9c179e"
             ],
             [
              0.4444444444444444,
              "#bd3786"
             ],
             [
              0.5555555555555556,
              "#d8576b"
             ],
             [
              0.6666666666666666,
              "#ed7953"
             ],
             [
              0.7777777777777778,
              "#fb9f3a"
             ],
             [
              0.8888888888888888,
              "#fdca26"
             ],
             [
              1,
              "#f0f921"
             ]
            ],
            "type": "histogram2dcontour"
           }
          ],
          "mesh3d": [
           {
            "colorbar": {
             "outlinewidth": 0,
             "ticks": ""
            },
            "type": "mesh3d"
           }
          ],
          "parcoords": [
           {
            "line": {
             "colorbar": {
              "outlinewidth": 0,
              "ticks": ""
             }
            },
            "type": "parcoords"
           }
          ],
          "pie": [
           {
            "automargin": true,
            "type": "pie"
           }
          ],
          "scatter": [
           {
            "fillpattern": {
             "fillmode": "overlay",
             "size": 10,
             "solidity": 0.2
            },
            "type": "scatter"
           }
          ],
          "scatter3d": [
           {
            "line": {
             "colorbar": {
              "outlinewidth": 0,
              "ticks": ""
             }
            },
            "marker": {
             "colorbar": {
              "outlinewidth": 0,
              "ticks": ""
             }
            },
            "type": "scatter3d"
           }
          ],
          "scattercarpet": [
           {
            "marker": {
             "colorbar": {
              "outlinewidth": 0,
              "ticks": ""
             }
            },
            "type": "scattercarpet"
           }
          ],
          "scattergeo": [
           {
            "marker": {
             "colorbar": {
              "outlinewidth": 0,
              "ticks": ""
             }
            },
            "type": "scattergeo"
           }
          ],
          "scattergl": [
           {
            "marker": {
             "colorbar": {
              "outlinewidth": 0,
              "ticks": ""
             }
            },
            "type": "scattergl"
           }
          ],
          "scattermapbox": [
           {
            "marker": {
             "colorbar": {
              "outlinewidth": 0,
              "ticks": ""
             }
            },
            "type": "scattermapbox"
           }
          ],
          "scatterpolar": [
           {
            "marker": {
             "colorbar": {
              "outlinewidth": 0,
              "ticks": ""
             }
            },
            "type": "scatterpolar"
           }
          ],
          "scatterpolargl": [
           {
            "marker": {
             "colorbar": {
              "outlinewidth": 0,
              "ticks": ""
             }
            },
            "type": "scatterpolargl"
           }
          ],
          "scatterternary": [
           {
            "marker": {
             "colorbar": {
              "outlinewidth": 0,
              "ticks": ""
             }
            },
            "type": "scatterternary"
           }
          ],
          "surface": [
           {
            "colorbar": {
             "outlinewidth": 0,
             "ticks": ""
            },
            "colorscale": [
             [
              0,
              "#0d0887"
             ],
             [
              0.1111111111111111,
              "#46039f"
             ],
             [
              0.2222222222222222,
              "#7201a8"
             ],
             [
              0.3333333333333333,
              "#9c179e"
             ],
             [
              0.4444444444444444,
              "#bd3786"
             ],
             [
              0.5555555555555556,
              "#d8576b"
             ],
             [
              0.6666666666666666,
              "#ed7953"
             ],
             [
              0.7777777777777778,
              "#fb9f3a"
             ],
             [
              0.8888888888888888,
              "#fdca26"
             ],
             [
              1,
              "#f0f921"
             ]
            ],
            "type": "surface"
           }
          ],
          "table": [
           {
            "cells": {
             "fill": {
              "color": "#EBF0F8"
             },
             "line": {
              "color": "white"
             }
            },
            "header": {
             "fill": {
              "color": "#C8D4E3"
             },
             "line": {
              "color": "white"
             }
            },
            "type": "table"
           }
          ]
         },
         "layout": {
          "annotationdefaults": {
           "arrowcolor": "#2a3f5f",
           "arrowhead": 0,
           "arrowwidth": 1
          },
          "autotypenumbers": "strict",
          "coloraxis": {
           "colorbar": {
            "outlinewidth": 0,
            "ticks": ""
           }
          },
          "colorscale": {
           "diverging": [
            [
             0,
             "#8e0152"
            ],
            [
             0.1,
             "#c51b7d"
            ],
            [
             0.2,
             "#de77ae"
            ],
            [
             0.3,
             "#f1b6da"
            ],
            [
             0.4,
             "#fde0ef"
            ],
            [
             0.5,
             "#f7f7f7"
            ],
            [
             0.6,
             "#e6f5d0"
            ],
            [
             0.7,
             "#b8e186"
            ],
            [
             0.8,
             "#7fbc41"
            ],
            [
             0.9,
             "#4d9221"
            ],
            [
             1,
             "#276419"
            ]
           ],
           "sequential": [
            [
             0,
             "#0d0887"
            ],
            [
             0.1111111111111111,
             "#46039f"
            ],
            [
             0.2222222222222222,
             "#7201a8"
            ],
            [
             0.3333333333333333,
             "#9c179e"
            ],
            [
             0.4444444444444444,
             "#bd3786"
            ],
            [
             0.5555555555555556,
             "#d8576b"
            ],
            [
             0.6666666666666666,
             "#ed7953"
            ],
            [
             0.7777777777777778,
             "#fb9f3a"
            ],
            [
             0.8888888888888888,
             "#fdca26"
            ],
            [
             1,
             "#f0f921"
            ]
           ],
           "sequentialminus": [
            [
             0,
             "#0d0887"
            ],
            [
             0.1111111111111111,
             "#46039f"
            ],
            [
             0.2222222222222222,
             "#7201a8"
            ],
            [
             0.3333333333333333,
             "#9c179e"
            ],
            [
             0.4444444444444444,
             "#bd3786"
            ],
            [
             0.5555555555555556,
             "#d8576b"
            ],
            [
             0.6666666666666666,
             "#ed7953"
            ],
            [
             0.7777777777777778,
             "#fb9f3a"
            ],
            [
             0.8888888888888888,
             "#fdca26"
            ],
            [
             1,
             "#f0f921"
            ]
           ]
          },
          "colorway": [
           "#636efa",
           "#EF553B",
           "#00cc96",
           "#ab63fa",
           "#FFA15A",
           "#19d3f3",
           "#FF6692",
           "#B6E880",
           "#FF97FF",
           "#FECB52"
          ],
          "font": {
           "color": "#2a3f5f"
          },
          "geo": {
           "bgcolor": "white",
           "lakecolor": "white",
           "landcolor": "#E5ECF6",
           "showlakes": true,
           "showland": true,
           "subunitcolor": "white"
          },
          "hoverlabel": {
           "align": "left"
          },
          "hovermode": "closest",
          "mapbox": {
           "style": "light"
          },
          "paper_bgcolor": "white",
          "plot_bgcolor": "#E5ECF6",
          "polar": {
           "angularaxis": {
            "gridcolor": "white",
            "linecolor": "white",
            "ticks": ""
           },
           "bgcolor": "#E5ECF6",
           "radialaxis": {
            "gridcolor": "white",
            "linecolor": "white",
            "ticks": ""
           }
          },
          "scene": {
           "xaxis": {
            "backgroundcolor": "#E5ECF6",
            "gridcolor": "white",
            "gridwidth": 2,
            "linecolor": "white",
            "showbackground": true,
            "ticks": "",
            "zerolinecolor": "white"
           },
           "yaxis": {
            "backgroundcolor": "#E5ECF6",
            "gridcolor": "white",
            "gridwidth": 2,
            "linecolor": "white",
            "showbackground": true,
            "ticks": "",
            "zerolinecolor": "white"
           },
           "zaxis": {
            "backgroundcolor": "#E5ECF6",
            "gridcolor": "white",
            "gridwidth": 2,
            "linecolor": "white",
            "showbackground": true,
            "ticks": "",
            "zerolinecolor": "white"
           }
          },
          "shapedefaults": {
           "line": {
            "color": "#2a3f5f"
           }
          },
          "ternary": {
           "aaxis": {
            "gridcolor": "white",
            "linecolor": "white",
            "ticks": ""
           },
           "baxis": {
            "gridcolor": "white",
            "linecolor": "white",
            "ticks": ""
           },
           "bgcolor": "#E5ECF6",
           "caxis": {
            "gridcolor": "white",
            "linecolor": "white",
            "ticks": ""
           }
          },
          "title": {
           "x": 0.05
          },
          "xaxis": {
           "automargin": true,
           "gridcolor": "white",
           "linecolor": "white",
           "ticks": "",
           "title": {
            "standoff": 15
           },
           "zerolinecolor": "white",
           "zerolinewidth": 2
          },
          "yaxis": {
           "automargin": true,
           "gridcolor": "white",
           "linecolor": "white",
           "ticks": "",
           "title": {
            "standoff": 15
           },
           "zerolinecolor": "white",
           "zerolinewidth": 2
          }
         }
        },
        "width": 1000,
        "xaxis": {
         "showgrid": false,
         "showline": false,
         "showticklabels": false,
         "zeroline": false
        },
        "yaxis": {
         "showgrid": false,
         "showline": false,
         "showticklabels": false,
         "zeroline": false
        }
       }
      }
     },
     "metadata": {},
     "output_type": "display_data"
    }
   ],
   "source": [
    "nodes1 = build_hyper_tree_from_folder('./datas/i/1/',True)\n",
    "nodes2 = build_hyper_tree_from_folder('./datas/i/2/',True)\n",
    "nodes_merge1 = [];\n",
    "nodes_merge2 = [];\n",
    "add_meta(nodes1[0],meta_list1,[])\n",
    "add_meta(nodes2[0],meta_list2,[])\n",
    "T=tree_alignment(nodes1[0],nodes2[0],1);\n",
    "minn = T.run_alignment();\n",
    "T.show_ans();\n",
    "ans = T.get_ans()\n",
    "t=show_graph(ans,nodes1[0],nodes2[0]);\n",
    "t.show_fig()"
   ]
  },
  {
   "cell_type": "code",
   "execution_count": 205,
   "metadata": {},
   "outputs": [
    {
     "data": {
      "text/plain": [
       "(array([[0.9386075]], dtype=float32), array([[0.94100225]], dtype=float32))"
      ]
     },
     "execution_count": 205,
     "metadata": {},
     "output_type": "execute_result"
    }
   ],
   "source": [
    "cosine_similarity(np.array(a2).reshape(1,-1),np.array(g).reshape(1,-1)),cosine_similarity(np.array(a1).reshape(1,-1),np.array(g).reshape(1,-1))\n"
   ]
  },
  {
   "cell_type": "code",
   "execution_count": 213,
   "metadata": {},
   "outputs": [
    {
     "data": {
      "text/plain": [
       "array([[0.91939384]], dtype=float32)"
      ]
     },
     "execution_count": 213,
     "metadata": {},
     "output_type": "execute_result"
    }
   ],
   "source": [
    "cosine_similarity(np.array(adata[adata.obs[adata.obs['leiden']=='5'].index].to_df().mean()).reshape(1,-1),np.array(g).reshape(1,-1))"
   ]
  },
  {
   "cell_type": "code",
   "execution_count": 227,
   "metadata": {},
   "outputs": [
    {
     "data": {
      "text/plain": [
       "['CD4Tn', 'Th17', 'Tfh', 'Tfh', 'Tfh', 'Th2']"
      ]
     },
     "execution_count": 227,
     "metadata": {},
     "output_type": "execute_result"
    }
   ],
   "source": [
    "meta_list"
   ]
  },
  {
   "cell_type": "code",
   "execution_count": 198,
   "metadata": {},
   "outputs": [
    {
     "data": {
      "text/plain": [
       "array([[0.9581606966]])"
      ]
     },
     "execution_count": 198,
     "metadata": {},
     "output_type": "execute_result"
    }
   ],
   "source": [
    "a1 = adata[adata.obs[adata.obs['leiden']=='0'].index].to_df().mean()\n",
    "a2 = adata[adata.obs[adata.obs['leiden']=='2'].index].to_df().mean()\n",
    "\n",
    "a=hyp_dist(nodes1[3].hyper,nodes1[4].hyper).numpy()\n",
    "b= hyp_dist(nodes1[3].hyper,nodes1[5].hyper).numpy()\n",
    "r = a1*a/(a+b) + a2*b/(a+b)\n",
    "g = adata[adata.obs[adata.obs['leiden']=='1'].index].to_df().mean()\n",
    "from sklearn.metrics.pairwise import cosine_similarity\n",
    "cosine_similarity(np.array(r).reshape(1,-1),np.array(g).reshape(1,-1))"
   ]
  },
  {
   "cell_type": "code",
   "execution_count": 214,
   "metadata": {},
   "outputs": [
    {
     "data": {
      "text/plain": [
       "array([[0.9565370398]])"
      ]
     },
     "execution_count": 214,
     "metadata": {},
     "output_type": "execute_result"
    }
   ],
   "source": [
    "a1 = adata[adata.obs[adata.obs['leiden']=='0'].index].to_df().mean()\n",
    "a2 = adata[adata.obs[adata.obs['leiden']=='4'].index].to_df().mean()\n",
    "\n",
    "a=hyp_dist(nodes2[4].hyper,nodes2[5].hyper).numpy()\n",
    "b= hyp_dist(nodes2[4].hyper,nodes2[6].hyper).numpy()\n",
    "r = a1*a/(a+b) + a2*b/(a+b)\n",
    "g = adata[adata.obs[adata.obs['leiden']=='5'].index].to_df().mean()\n",
    "from sklearn.metrics.pairwise import cosine_similarity\n",
    "cosine_similarity(np.array(r).reshape(1,-1),np.array(g).reshape(1,-1))"
   ]
  },
  {
   "cell_type": "code",
   "execution_count": 226,
   "metadata": {},
   "outputs": [
    {
     "data": {
      "text/plain": [
       "array([[0.9293215]], dtype=float32)"
      ]
     },
     "execution_count": 226,
     "metadata": {},
     "output_type": "execute_result"
    }
   ],
   "source": [
    "(cosine_similarity(np.array(adata[adata.obs[adata.obs['leiden']=='0'].index].to_df().mean()).reshape(1,-1),np.array(g).reshape(1,-1)) + cosine_similarity(np.array(adata[adata.obs[adata.obs['leiden']=='4'].index].to_df().mean()).reshape(1,-1),np.array(g).reshape(1,-1)) )/2"
   ]
  },
  {
   "cell_type": "code",
   "execution_count": 147,
   "metadata": {},
   "outputs": [
    {
     "data": {
      "text/plain": [
       "['CD4Tn', 'Th17', 'Tfh', 'Tfh', 'Tfh', 'Th2']"
      ]
     },
     "execution_count": 147,
     "metadata": {},
     "output_type": "execute_result"
    }
   ],
   "source": [
    "meta_list"
   ]
  },
  {
   "cell_type": "code",
   "execution_count": 127,
   "metadata": {},
   "outputs": [
    {
     "data": {
      "text/plain": [
       "(array([ 4.3086166382, -1.2421941757,  0.5259457231, -0.1321692616,\n",
       "         0.9548937678, -0.253051877 ,  0.3161777258, -0.0184609685,\n",
       "        -0.251460135 , -0.0681598634]),\n",
       " array([ 4.3086166382, -1.2421941757,  0.5259457231, -0.1321692616,\n",
       "         0.9548937678, -0.253051877 ,  0.3161777258, -0.0184609685,\n",
       "        -0.251460135 , -0.0681598634]))"
      ]
     },
     "execution_count": 127,
     "metadata": {},
     "output_type": "execute_result"
    }
   ],
   "source": [
    "nodes1[2].value,nodes2[6].value"
   ]
  },
  {
   "cell_type": "code",
   "execution_count": 124,
   "metadata": {},
   "outputs": [
    {
     "data": {
      "text/plain": [
       "array([ 4.3086166382, -1.2421941757,  0.5259457231, -0.1321692616,\n",
       "        0.9548937678, -0.253051877 ,  0.3161777258, -0.0184609685,\n",
       "       -0.251460135 , -0.0681598634])"
      ]
     },
     "execution_count": 124,
     "metadata": {},
     "output_type": "execute_result"
    }
   ],
   "source": [
    "nodes1[1].value "
   ]
  },
  {
   "cell_type": "code",
   "execution_count": 146,
   "metadata": {},
   "outputs": [
    {
     "data": {
      "text/plain": [
       "4.917666769074776"
      ]
     },
     "execution_count": 146,
     "metadata": {},
     "output_type": "execute_result"
    }
   ],
   "source": [
    "import math\n",
    "\n",
    "mea = 0\n",
    "for i,j in zip(nodes1[1].value,nodes2[4].value):\n",
    "    mea = mea + (i-j)**2\n",
    "    \n",
    "mea/math.sqrt(len(nodes1[1].value))\n",
    "    "
   ]
  },
  {
   "cell_type": "code",
   "execution_count": 140,
   "metadata": {},
   "outputs": [
    {
     "data": {
      "text/plain": [
       "array([ 0.4512535686, -0.9134253176, -0.1381763059, -0.1828279486,\n",
       "        0.8920344544, -0.2665275903,  0.1206566489,  0.1397370986,\n",
       "       -0.0424682715, -0.1630227761])"
      ]
     },
     "execution_count": 140,
     "metadata": {},
     "output_type": "execute_result"
    }
   ],
   "source": [
    "nodes2[4].value"
   ]
  },
  {
   "cell_type": "code",
   "execution_count": 137,
   "metadata": {},
   "outputs": [
    {
     "data": {
      "text/plain": [
       "(array([-3.4789896011, -0.5784447789, -0.8148460984, -0.2344437689,\n",
       "         0.8279874921, -0.2802579105, -0.0785585567,  0.3009241223,\n",
       "         0.1704722345, -0.2596780062]),\n",
       " array([ 4.3086166382, -1.2421941757,  0.5259457231, -0.1321692616,\n",
       "         0.9548937678, -0.253051877 ,  0.3161777258, -0.0184609685,\n",
       "        -0.251460135 , -0.0681598634]))"
      ]
     },
     "execution_count": 137,
     "metadata": {},
     "output_type": "execute_result"
    }
   ],
   "source": [
    "nodes2[5].value,nodes2[6].value"
   ]
  },
  {
   "cell_type": "code",
   "execution_count": 91,
   "metadata": {},
   "outputs": [
    {
     "data": {
      "text/plain": [
       "['CD4Tn', 'Th17', 'Tfh', 'Tfh', 'Tfh']"
      ]
     },
     "execution_count": 91,
     "metadata": {},
     "output_type": "execute_result"
    }
   ],
   "source": [
    "meta_list2"
   ]
  },
  {
   "cell_type": "code",
   "execution_count": 92,
   "metadata": {},
   "outputs": [
    {
     "data": {
      "text/plain": [
       "(7, 7)"
      ]
     },
     "execution_count": 92,
     "metadata": {},
     "output_type": "execute_result"
    }
   ],
   "source": [
    "len(nodes1),len(nodes2)"
   ]
  },
  {
   "cell_type": "code",
   "execution_count": null,
   "metadata": {},
   "outputs": [],
   "source": []
  },
  {
   "cell_type": "markdown",
   "metadata": {},
   "source": []
  },
  {
   "cell_type": "code",
   "execution_count": 236,
   "metadata": {},
   "outputs": [
    {
     "data": {
      "text/plain": [
       "125"
      ]
     },
     "execution_count": 236,
     "metadata": {},
     "output_type": "execute_result"
    }
   ],
   "source": [
    "a=3\n",
    "b=7\n",
    "c=0\n",
    "3*a*a+2*b*b+c*c"
   ]
  },
  {
   "cell_type": "code",
   "execution_count": 237,
   "metadata": {},
   "outputs": [
    {
     "data": {
      "text/plain": [
       "['CD4Tn', 'Tfh', 'Tfh', 'Tfh', 'Th2']"
      ]
     },
     "execution_count": 237,
     "metadata": {},
     "output_type": "execute_result"
    }
   ],
   "source": [
    "meta_list1 = ['CD4Tn', 'Tfh', 'Tfh', 'Tfh', 'Th2']\n"
   ]
  },
  {
   "cell_type": "code",
   "execution_count": 238,
   "metadata": {},
   "outputs": [
    {
     "data": {
      "text/plain": [
       "['CD4Tn', 'Th17', 'Tfh', 'Tfh', 'Tfh']"
      ]
     },
     "execution_count": 238,
     "metadata": {},
     "output_type": "execute_result"
    }
   ],
   "source": [
    "meta_list2 = ['CD4Tn', 'Th17', 'Tfh', 'Tfh', 'Tfh']"
   ]
  },
  {
   "cell_type": "code",
   "execution_count": null,
   "metadata": {},
   "outputs": [],
   "source": []
  }
 ],
 "metadata": {
  "kernelspec": {
   "display_name": "base",
   "language": "python",
   "name": "python3"
  },
  "language_info": {
   "codemirror_mode": {
    "name": "ipython",
    "version": 3
   },
   "file_extension": ".py",
   "mimetype": "text/x-python",
   "name": "python",
   "nbconvert_exporter": "python",
   "pygments_lexer": "ipython3",
   "version": "3.8.16"
  }
 },
 "nbformat": 4,
 "nbformat_minor": 2
}
