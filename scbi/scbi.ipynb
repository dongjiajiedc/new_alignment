{
 "cells": [
  {
   "cell_type": "code",
   "execution_count": 44,
   "metadata": {},
   "outputs": [],
   "source": [
    "import scib\n",
    "import scanpy as sc\n",
    "import numpy as np"
   ]
  },
  {
   "cell_type": "code",
   "execution_count": 62,
   "metadata": {},
   "outputs": [],
   "source": [
    "adata1 = sc.read_h5ad('../final/datas/120/1/sample1_small.h5')\n",
    "adata2 = sc.read_h5ad('../final/datas/120/2/sample1_small.h5')\n"
   ]
  },
  {
   "cell_type": "code",
   "execution_count": 120,
   "metadata": {},
   "outputs": [
    {
     "data": {
      "text/plain": [
       "(16701,)"
      ]
     },
     "execution_count": 120,
     "metadata": {},
     "output_type": "execute_result"
    }
   ],
   "source": [
    "adata1.X.mean(axis=0).shape"
   ]
  },
  {
   "cell_type": "code",
   "execution_count": 63,
   "metadata": {},
   "outputs": [
    {
     "name": "stdout",
     "output_type": "stream",
     "text": [
      "HVG\n",
      "Calculating 2000 HVGs for reduce_data.\n",
      "Computed 2000 highly variable genes\n",
      "PCA\n",
      "Nearest Neigbours\n"
     ]
    }
   ],
   "source": [
    "\n",
    "sc.tl.diffmap(adata1)\n",
    "adata1.X = np.array(adata1.X.todense())\n",
    "adata1.var['xroot'] = adata1.X.mean(axis=0)\n",
    "\n",
    "sc.tl.dpt(adata1)"
   ]
  },
  {
   "cell_type": "code",
   "execution_count": 26,
   "metadata": {},
   "outputs": [
    {
     "name": "stdout",
     "output_type": "stream",
     "text": [
      "HVG\n",
      "Calculating 2000 HVGs for reduce_data.\n",
      "Computed 2000 highly variable genes\n",
      "PCA\n",
      "Nearest Neigbours\n"
     ]
    }
   ],
   "source": [
    "scib.pp.reduce_data(\n",
    "    adata2, n_top_genes=2000, pca=True, neighbors=True\n",
    ")\n",
    "adata2.uns['iroot'] = 0\n",
    "\n",
    "sc.tl.dpt(adata2)"
   ]
  },
  {
   "cell_type": "code",
   "execution_count": 117,
   "metadata": {},
   "outputs": [
    {
     "data": {
      "text/plain": [
       "ArrayView([[0.        ],\n",
       "           [0.        ],\n",
       "           [0.        ],\n",
       "           ...,\n",
       "           [0.        ],\n",
       "           [0.        ],\n",
       "           [0.85771763]], dtype=float32)"
      ]
     },
     "execution_count": 117,
     "metadata": {},
     "output_type": "execute_result"
    }
   ],
   "source": [
    "temp.X"
   ]
  },
  {
   "cell_type": "code",
   "execution_count": 108,
   "metadata": {},
   "outputs": [
    {
     "name": "stderr",
     "output_type": "stream",
     "text": [
      "/Users/dongjiajie/opt/anaconda3/lib/python3.8/site-packages/scanpy/preprocessing/_highly_variable_genes.py:208: RuntimeWarning: invalid value encountered in log\n",
      "  dispersion = np.log(dispersion)\n"
     ]
    },
    {
     "data": {
      "text/plain": [
       "AnnData object with n_obs × n_vars = 5000 × 2163\n",
       "    obs: 'orig.ident', 'nCount_RNA', 'nFeature_RNA', 'UMAP_1', 'UMAP_2', 'Cluster', 'Celltype..malignancy.', 'Celltype..major.lineage.', 'Celltype..minor.lineage.', 'Patient', 'Sample', 'Tissue', 'celltype', 'dpt_pseudotime', 'leiden'\n",
       "    var: 'features', 'highly_variable', 'means', 'dispersions', 'dispersions_norm', 'xroot'\n",
       "    uns: 'hvg', 'pca', 'neighbors', 'diffmap_evals', 'iroot', 'umap', 'leiden', 'paga', 'leiden_sizes'\n",
       "    obsm: 'X_pca', 'X_diffmap', 'X_umap'\n",
       "    varm: 'PCs'\n",
       "    obsp: 'distances', 'connectivities'"
      ]
     },
     "execution_count": 108,
     "metadata": {},
     "output_type": "execute_result"
    }
   ],
   "source": [
    "temp = adata1.copy()\n",
    "sc.pp.highly_variable_genes(temp)\n",
    "hvg_mask = temp.var['highly_variable']\n",
    "temp = temp[:, hvg_mask]\n",
    "resolution = 1\n",
    "temp.raw = temp\n",
    "\n",
    "sc.pp.neighbors(temp, n_neighbors=10)\n",
    "sc.tl.diffmap(temp)\n",
    "sc.tl.umap(temp)\n",
    "sc.tl.leiden(temp,resolution=resolution)\n",
    "sc.tl.paga(temp, groups='leiden')\n",
    "\n",
    "sc.tl.diffmap(temp)\n",
    "temp.var['xroot'] = temp.X.mean(axis=0)\n",
    "\n",
    "sc.tl.dpt(temp)\n",
    "temp"
   ]
  },
  {
   "cell_type": "code",
   "execution_count": 109,
   "metadata": {},
   "outputs": [
    {
     "data": {
      "text/plain": [
       "AnnData object with n_obs × n_vars = 5000 × 2163\n",
       "    obs: 'orig.ident', 'nCount_RNA', 'nFeature_RNA', 'UMAP_1', 'UMAP_2', 'Cluster', 'Celltype..malignancy.', 'Celltype..major.lineage.', 'Celltype..minor.lineage.', 'Patient', 'Sample', 'Tissue', 'celltype', 'dpt_pseudotime', 'leiden'\n",
       "    var: 'features', 'highly_variable', 'means', 'dispersions', 'dispersions_norm', 'xroot'\n",
       "    uns: 'hvg', 'pca', 'neighbors', 'diffmap_evals', 'iroot', 'umap', 'leiden', 'paga', 'leiden_sizes'\n",
       "    obsm: 'X_pca', 'X_diffmap', 'X_umap'\n",
       "    varm: 'PCs'\n",
       "    obsp: 'distances', 'connectivities'"
      ]
     },
     "execution_count": 109,
     "metadata": {},
     "output_type": "execute_result"
    }
   ],
   "source": [
    "temp"
   ]
  },
  {
   "cell_type": "code",
   "execution_count": 113,
   "metadata": {},
   "outputs": [
    {
     "data": {
      "text/plain": [
       "Tcells_PP@TTCTACAGTCACTTCC    0.973626\n",
       "CART_RP@AAATGCCGTTTGCATG      0.930832\n",
       "Tcells_RP@AACACGTCACCGCTAG    0.923730\n",
       "CART_RP@CTGTTTAGTAAGAGAG      0.933739\n",
       "CART_PP@GACAGAGTCCGAATGT      0.958669\n",
       "                                ...   \n",
       "CART_PP@ATGAGGGAGTTCGCAT      0.971467\n",
       "Tcells_RP@GAGTCCGAGGATGCGT    0.921016\n",
       "Tcells_RP@CCCAGTTAGCCCTAAT    0.951880\n",
       "Tcells_PP@GATGAAAGTCAGCTAT    0.964571\n",
       "CART_PP@GACTGCGAGCGAGAAA      0.958101\n",
       "Name: dpt_pseudotime, Length: 5000, dtype: float32"
      ]
     },
     "execution_count": 113,
     "metadata": {},
     "output_type": "execute_result"
    }
   ],
   "source": [
    "temp.obs['dpt_pseudotime']"
   ]
  },
  {
   "cell_type": "code",
   "execution_count": 114,
   "metadata": {},
   "outputs": [
    {
     "data": {
      "text/plain": [
       "Tcells_PP@TTCTACAGTCACTTCC    0.972771\n",
       "CART_RP@AAATGCCGTTTGCATG      0.926696\n",
       "Tcells_RP@AACACGTCACCGCTAG    0.920380\n",
       "CART_RP@CTGTTTAGTAAGAGAG      0.936210\n",
       "CART_PP@GACAGAGTCCGAATGT      0.959647\n",
       "                                ...   \n",
       "CART_PP@ATGAGGGAGTTCGCAT      0.971101\n",
       "Tcells_RP@GAGTCCGAGGATGCGT    0.919207\n",
       "Tcells_RP@CCCAGTTAGCCCTAAT    0.945467\n",
       "Tcells_PP@GATGAAAGTCAGCTAT    0.969803\n",
       "CART_PP@GACTGCGAGCGAGAAA      0.963636\n",
       "Name: dpt_pseudotime, Length: 5000, dtype: float32"
      ]
     },
     "execution_count": 114,
     "metadata": {},
     "output_type": "execute_result"
    }
   ],
   "source": [
    "adata1.obs['dpt_pseudotime']"
   ]
  },
  {
   "cell_type": "code",
   "execution_count": 115,
   "metadata": {},
   "outputs": [
    {
     "name": "stderr",
     "output_type": "stream",
     "text": [
      "/Users/dongjiajie/opt/anaconda3/lib/python3.8/site-packages/scib/metrics/trajectory.py:120: ImplicitModificationWarning: Trying to modify attribute `.obs` of view, initializing view as actual.\n",
      "  n_components, adata_post.obs[\"neighborhood\"] = connected_components(\n"
     ]
    },
    {
     "data": {
      "text/plain": [
       "0.9933954568331236"
      ]
     },
     "execution_count": 115,
     "metadata": {},
     "output_type": "execute_result"
    }
   ],
   "source": [
    "scib.me.trajectory_conservation(adata1, temp, label_key=\"Celltype..major.lineage.\")\n"
   ]
  },
  {
   "cell_type": "code",
   "execution_count": 94,
   "metadata": {},
   "outputs": [
    {
     "name": "stderr",
     "output_type": "stream",
     "text": [
      "/Users/dongjiajie/opt/anaconda3/lib/python3.8/site-packages/scib/metrics/trajectory.py:120: ImplicitModificationWarning: Trying to modify attribute `.obs` of view, initializing view as actual.\n",
      "  n_components, adata_post.obs[\"neighborhood\"] = connected_components(\n"
     ]
    },
    {
     "data": {
      "text/plain": [
       "0.9998422340736213"
      ]
     },
     "execution_count": 94,
     "metadata": {},
     "output_type": "execute_result"
    }
   ],
   "source": [
    "scib.me.trajectory_conservation(adata1, adata1, label_key=\"Celltype..major.lineage.\")\n"
   ]
  },
  {
   "cell_type": "code",
   "execution_count": 10,
   "metadata": {},
   "outputs": [],
   "source": [
    "\n",
    "n_pcs = 1000\n",
    "resolution = 1\n",
    "adata1.raw = adata1\n",
    "\n",
    "sc.tl.pca(adata1, n_comps=n_pcs)\n",
    "sc.pp.neighbors(adata1, n_neighbors=10, n_pcs=n_pcs)\n",
    "sc.tl.diffmap(adata1)\n",
    "sc.tl.umap(adata1)\n",
    "sc.tl.leiden(adata1,resolution=resolution)\n",
    "sc.tl.paga(adata1, groups='leiden')"
   ]
  },
  {
   "cell_type": "code",
   "execution_count": 11,
   "metadata": {},
   "outputs": [],
   "source": [
    "\n",
    "adata2.raw = adata2\n",
    "sc.tl.pca(adata2,n_comps=n_pcs)\n",
    "sc.pp.neighbors(adata2, n_neighbors=10, n_pcs=n_pcs)\n",
    "sc.tl.diffmap(adata2)\n",
    "sc.tl.umap(adata2)\n",
    "sc.tl.leiden(adata2,resolution=resolution)\n",
    "sc.tl.paga(adata2, groups='leiden')"
   ]
  },
  {
   "cell_type": "code",
   "execution_count": null,
   "metadata": {},
   "outputs": [],
   "source": []
  }
 ],
 "metadata": {
  "kernelspec": {
   "display_name": "base",
   "language": "python",
   "name": "python3"
  },
  "language_info": {
   "codemirror_mode": {
    "name": "ipython",
    "version": 3
   },
   "file_extension": ".py",
   "mimetype": "text/x-python",
   "name": "python",
   "nbconvert_exporter": "python",
   "pygments_lexer": "ipython3",
   "version": "3.8.16"
  }
 },
 "nbformat": 4,
 "nbformat_minor": 2
}
