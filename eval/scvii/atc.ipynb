{
 "cells": [
  {
   "cell_type": "code",
   "execution_count": 1,
   "metadata": {},
   "outputs": [],
   "source": [
    "import scib\n",
    "import scanpy as sc\n",
    "import numpy as np"
   ]
  },
  {
   "cell_type": "code",
   "execution_count": 2,
   "metadata": {},
   "outputs": [
    {
     "name": "stderr",
     "output_type": "stream",
     "text": [
      "/Users/dongjiajie/opt/anaconda3/lib/python3.8/site-packages/h5py/_hl/dataset.py:767: DeprecationWarning: Passing None into shape arguments as an alias for () is deprecated.\n",
      "  arr = numpy.ndarray(selection.mshape, dtype=new_dtype)\n"
     ]
    },
    {
     "data": {
      "text/plain": [
       "AnnData object with n_obs × n_vars = 8926 × 801\n",
       "    obs: 'Celltype..major.lineage.', 'batch', '_scvi_batch', '_scvi_labels'\n",
       "    var: 'features', 'highly_variable', 'means-0', 'dispersions-0', 'dispersions_norm-0', 'means-1', 'dispersions-1', 'dispersions_norm-1'\n",
       "    uns: '_scvi_manager_uuid', '_scvi_uuid'\n",
       "    obsm: 'X_scVI'"
      ]
     },
     "execution_count": 2,
     "metadata": {},
     "output_type": "execute_result"
    }
   ],
   "source": [
    "adata = sc.read_h5ad('./out.h5ad')\n",
    "adata_after = adata.copy()\n",
    "adata"
   ]
  },
  {
   "cell_type": "code",
   "execution_count": 3,
   "metadata": {},
   "outputs": [
    {
     "name": "stderr",
     "output_type": "stream",
     "text": [
      "2024-04-01 01:38:50.150284: I tensorflow/core/platform/cpu_feature_guard.cc:182] This TensorFlow binary is optimized to use available CPU instructions in performance-critical operations.\n",
      "To enable the following instructions: AVX2 AVX512F AVX512_VNNI FMA, in other operations, rebuild TensorFlow with the appropriate compiler flags.\n"
     ]
    },
    {
     "data": {
      "text/plain": [
       "P_P_P0825_06591-0       0.000000\n",
       "P_T_P0309_01320-0       0.270671\n",
       "P_P_P0309_00967-0       0.017151\n",
       "P_P_P0825_06306-0       0.003421\n",
       "P_T_P0309_01280-0       0.708892\n",
       "                          ...   \n",
       "TTGGAACAGATAGTCA-1-1    0.215329\n",
       "TTGGAACCATGCAACT-1-1    0.163188\n",
       "TTTACTGCAGCAGTTT-1-1    0.203457\n",
       "TTTCCTCAGATGCGAC-1-1    0.209724\n",
       "TTTCCTCCAGCGTCCA-1-1    0.229816\n",
       "Name: dpt_pseudotime, Length: 8926, dtype: float32"
      ]
     },
     "execution_count": 3,
     "metadata": {},
     "output_type": "execute_result"
    }
   ],
   "source": [
    "sc.pp.neighbors(adata, n_neighbors=15,use_rep='X')\n",
    "sc.tl.diffmap(adata)\n",
    "\n",
    "adata.uns['iroot'] = 0\n",
    "sc.tl.dpt(adata)\n",
    "adata.obs['dpt_pseudotime']"
   ]
  },
  {
   "cell_type": "code",
   "execution_count": 4,
   "metadata": {},
   "outputs": [
    {
     "data": {
      "text/plain": [
       "P_P_P0825_06591-0       0.000000\n",
       "P_T_P0309_01320-0       0.217607\n",
       "P_P_P0309_00967-0       0.012634\n",
       "P_P_P0825_06306-0       0.002810\n",
       "P_T_P0309_01280-0       0.952882\n",
       "                          ...   \n",
       "TTGGAACAGATAGTCA-1-1    0.267665\n",
       "TTGGAACCATGCAACT-1-1    0.258014\n",
       "TTTACTGCAGCAGTTT-1-1    0.284957\n",
       "TTTCCTCAGATGCGAC-1-1    0.275582\n",
       "TTTCCTCCAGCGTCCA-1-1    0.267288\n",
       "Name: dpt_pseudotime, Length: 8926, dtype: float32"
      ]
     },
     "execution_count": 4,
     "metadata": {},
     "output_type": "execute_result"
    }
   ],
   "source": [
    "sc.pp.neighbors(adata_after, n_neighbors=15,use_rep='X_scVI')\n",
    "sc.tl.diffmap(adata_after)\n",
    "\n",
    "adata_after.uns['iroot'] = 0\n",
    "\n",
    "sc.tl.dpt(adata_after)\n",
    "adata_after.obs['dpt_pseudotime']"
   ]
  },
  {
   "cell_type": "code",
   "execution_count": 5,
   "metadata": {},
   "outputs": [
    {
     "name": "stderr",
     "output_type": "stream",
     "text": [
      "/Users/dongjiajie/opt/anaconda3/lib/python3.8/site-packages/scib/metrics/trajectory.py:120: ImplicitModificationWarning: Trying to modify attribute `.obs` of view, initializing view as actual.\n",
      "  n_components, adata_post.obs[\"neighborhood\"] = connected_components(\n",
      "/Users/dongjiajie/opt/anaconda3/lib/python3.8/contextlib.py:120: FutureWarning: X.dtype being converted to np.float32 from float64. In the next version of anndata (0.9) conversion will not be automatic. Pass dtype explicitly to avoid this warning. Pass `AnnData(X, dtype=X.dtype, ...)` to get the future behavour.\n",
      "  next(self.gen)\n"
     ]
    },
    {
     "data": {
      "text/plain": [
       "0.963967659887806"
      ]
     },
     "execution_count": 5,
     "metadata": {},
     "output_type": "execute_result"
    }
   ],
   "source": [
    "scib.me.trajectory_conservation(adata, adata_after, label_key=\"Celltype..major.lineage.\")\n"
   ]
  },
  {
   "cell_type": "code",
   "execution_count": 6,
   "metadata": {},
   "outputs": [
    {
     "data": {
      "text/plain": [
       "-49.13490296405788"
      ]
     },
     "execution_count": 6,
     "metadata": {},
     "output_type": "execute_result"
    }
   ],
   "source": [
    "0.8682375374860698 -30\n",
    "0.9027626700316712 -10\n",
    "0.8650970359421197 -50\n",
    " "
   ]
  },
  {
   "cell_type": "code",
   "execution_count": null,
   "metadata": {},
   "outputs": [],
   "source": []
  }
 ],
 "metadata": {
  "kernelspec": {
   "display_name": "base",
   "language": "python",
   "name": "python3"
  },
  "language_info": {
   "codemirror_mode": {
    "name": "ipython",
    "version": 3
   },
   "file_extension": ".py",
   "mimetype": "text/x-python",
   "name": "python",
   "nbconvert_exporter": "python",
   "pygments_lexer": "ipython3",
   "version": "3.8.16"
  }
 },
 "nbformat": 4,
 "nbformat_minor": 2
}
