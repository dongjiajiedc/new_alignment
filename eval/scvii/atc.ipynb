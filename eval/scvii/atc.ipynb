{
 "cells": [
  {
   "cell_type": "code",
   "execution_count": 1,
   "metadata": {},
   "outputs": [],
   "source": [
    "import scib\n",
    "import scanpy as sc\n",
    "import numpy as np"
   ]
  },
  {
   "cell_type": "code",
   "execution_count": 2,
   "metadata": {},
   "outputs": [
    {
     "name": "stderr",
     "output_type": "stream",
     "text": [
      "/Users/dongjiajie/opt/anaconda3/lib/python3.8/site-packages/h5py/_hl/dataset.py:767: DeprecationWarning: Passing None into shape arguments as an alias for () is deprecated.\n",
      "  arr = numpy.ndarray(selection.mshape, dtype=new_dtype)\n"
     ]
    },
    {
     "data": {
      "text/plain": [
       "AnnData object with n_obs × n_vars = 14035 × 1399\n",
       "    obs: 'orig.ident', 'nCount_RNA', 'nFeature_RNA', 'UMAP_1', 'UMAP_2', 'Celltype..malignancy.', 'Celltype..major.lineage.', 'Celltype..minor.lineage.', 'Cluster', 'Patient', 'batch', '_scvi_batch', '_scvi_labels'\n",
       "    var: 'features', 'highly_variable', 'means', 'dispersions', 'dispersions_norm'\n",
       "    uns: '_scvi_manager_uuid', '_scvi_uuid', 'hvg'\n",
       "    obsm: 'X_scVI'"
      ]
     },
     "execution_count": 2,
     "metadata": {},
     "output_type": "execute_result"
    }
   ],
   "source": [
    "adata = sc.read_h5ad('./out.h5ad')\n",
    "adata_after = adata.copy()\n",
    "adata"
   ]
  },
  {
   "cell_type": "code",
   "execution_count": 6,
   "metadata": {},
   "outputs": [
    {
     "data": {
      "text/plain": [
       "AAACCTGGTTATGCGT-1-0            0.000000\n",
       "AAACGGGCAGCTTAAC-1-0            0.167729\n",
       "AAACGGGCAGTACACT-1-0            0.081686\n",
       "AAACGGGCATACAGCT-1-0            0.145655\n",
       "AAAGATGAGGGTTCCC-1-0            0.096326\n",
       "                                  ...   \n",
       "CART_RP@GACTACACAACGCACC-1      0.092702\n",
       "CART_RP@CCTAAAGAGAAGCCCA-1      0.083934\n",
       "Tcells_RP@CTAAGACTCTTCCTTC-1    0.114062\n",
       "Tcells_RP@GGGACCTTCTTGTACT-1    0.120052\n",
       "CART_RP@CACATTTAGCTCTCGG-1      0.088351\n",
       "Name: dpt_pseudotime, Length: 14035, dtype: float32"
      ]
     },
     "execution_count": 6,
     "metadata": {},
     "output_type": "execute_result"
    }
   ],
   "source": [
    "sc.pp.neighbors(adata, n_neighbors=35,use_rep='X')\n",
    "sc.tl.diffmap(adata)\n",
    "\n",
    "adata.uns['iroot'] = 0\n",
    "sc.tl.dpt(adata)\n",
    "adata.obs['dpt_pseudotime']"
   ]
  },
  {
   "cell_type": "code",
   "execution_count": 7,
   "metadata": {},
   "outputs": [
    {
     "data": {
      "text/plain": [
       "AAACCTGGTTATGCGT-1-0            0.000000\n",
       "AAACGGGCAGCTTAAC-1-0            0.045123\n",
       "AAACGGGCAGTACACT-1-0            0.051584\n",
       "AAACGGGCATACAGCT-1-0            0.051128\n",
       "AAAGATGAGGGTTCCC-1-0            0.052192\n",
       "                                  ...   \n",
       "CART_RP@GACTACACAACGCACC-1      0.054756\n",
       "CART_RP@CCTAAAGAGAAGCCCA-1      0.056557\n",
       "Tcells_RP@CTAAGACTCTTCCTTC-1    0.058762\n",
       "Tcells_RP@GGGACCTTCTTGTACT-1    0.052245\n",
       "CART_RP@CACATTTAGCTCTCGG-1      0.053240\n",
       "Name: dpt_pseudotime, Length: 14035, dtype: float32"
      ]
     },
     "execution_count": 7,
     "metadata": {},
     "output_type": "execute_result"
    }
   ],
   "source": [
    "sc.pp.neighbors(adata_after, n_neighbors=35,use_rep='X_scVI')\n",
    "sc.tl.diffmap(adata_after)\n",
    "\n",
    "adata_after.uns['iroot'] = 0\n",
    "\n",
    "sc.tl.dpt(adata_after)\n",
    "adata_after.obs['dpt_pseudotime']"
   ]
  },
  {
   "cell_type": "code",
   "execution_count": 8,
   "metadata": {},
   "outputs": [
    {
     "name": "stderr",
     "output_type": "stream",
     "text": [
      "/Users/dongjiajie/opt/anaconda3/lib/python3.8/site-packages/scib/metrics/trajectory.py:120: ImplicitModificationWarning: Trying to modify attribute `.obs` of view, initializing view as actual.\n",
      "  n_components, adata_post.obs[\"neighborhood\"] = connected_components(\n",
      "/Users/dongjiajie/opt/anaconda3/lib/python3.8/contextlib.py:120: FutureWarning: X.dtype being converted to np.float32 from float64. In the next version of anndata (0.9) conversion will not be automatic. Pass dtype explicitly to avoid this warning. Pass `AnnData(X, dtype=X.dtype, ...)` to get the future behavour.\n",
      "  next(self.gen)\n"
     ]
    },
    {
     "data": {
      "text/plain": [
       "0.7868447456085952"
      ]
     },
     "execution_count": 8,
     "metadata": {},
     "output_type": "execute_result"
    }
   ],
   "source": [
    "scib.me.trajectory_conservation(adata, adata_after, label_key=\"Celltype..major.lineage.\")\n"
   ]
  },
  {
   "cell_type": "code",
   "execution_count": null,
   "metadata": {},
   "outputs": [],
   "source": []
  }
 ],
 "metadata": {
  "kernelspec": {
   "display_name": "base",
   "language": "python",
   "name": "python3"
  },
  "language_info": {
   "codemirror_mode": {
    "name": "ipython",
    "version": 3
   },
   "file_extension": ".py",
   "mimetype": "text/x-python",
   "name": "python",
   "nbconvert_exporter": "python",
   "pygments_lexer": "ipython3",
   "version": "3.8.16"
  }
 },
 "nbformat": 4,
 "nbformat_minor": 2
}
