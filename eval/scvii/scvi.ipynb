{
 "cells": [
  {
   "cell_type": "code",
   "execution_count": 1,
   "metadata": {},
   "outputs": [
    {
     "name": "stderr",
     "output_type": "stream",
     "text": [
      "/Users/dongjiajie/opt/anaconda3/envs/scvi/lib/python3.9/site-packages/tqdm/auto.py:21: TqdmWarning: IProgress not found. Please update jupyter and ipywidgets. See https://ipywidgets.readthedocs.io/en/stable/user_install.html\n",
      "  from .autonotebook import tqdm as notebook_tqdm\n"
     ]
    }
   ],
   "source": [
    "import numpy as np\n",
    "import scvi\n",
    "import scanpy as sc"
   ]
  },
  {
   "cell_type": "code",
   "execution_count": 2,
   "metadata": {},
   "outputs": [
    {
     "data": {
      "text/html": [
       "<div>\n",
       "<style scoped>\n",
       "    .dataframe tbody tr th:only-of-type {\n",
       "        vertical-align: middle;\n",
       "    }\n",
       "\n",
       "    .dataframe tbody tr th {\n",
       "        vertical-align: top;\n",
       "    }\n",
       "\n",
       "    .dataframe thead th {\n",
       "        text-align: right;\n",
       "    }\n",
       "</style>\n",
       "<table border=\"1\" class=\"dataframe\">\n",
       "  <thead>\n",
       "    <tr style=\"text-align: right;\">\n",
       "      <th></th>\n",
       "      <th>orig.ident</th>\n",
       "      <th>nCount_RNA</th>\n",
       "      <th>nFeature_RNA</th>\n",
       "      <th>UMAP_1</th>\n",
       "      <th>UMAP_2</th>\n",
       "      <th>Celltype..malignancy.</th>\n",
       "      <th>Celltype..major.lineage.</th>\n",
       "      <th>Celltype..minor.lineage.</th>\n",
       "      <th>Cluster</th>\n",
       "      <th>Patient</th>\n",
       "      <th>batch</th>\n",
       "    </tr>\n",
       "  </thead>\n",
       "  <tbody>\n",
       "    <tr>\n",
       "      <th>AAACCTGGTTATGCGT-1-0</th>\n",
       "      <td>0</td>\n",
       "      <td>1835.473014</td>\n",
       "      <td>818</td>\n",
       "      <td>2.966833</td>\n",
       "      <td>2.879237</td>\n",
       "      <td>Immune cells</td>\n",
       "      <td>CD4Tconv</td>\n",
       "      <td>Tfh</td>\n",
       "      <td>10</td>\n",
       "      <td>BRCA</td>\n",
       "      <td>0</td>\n",
       "    </tr>\n",
       "    <tr>\n",
       "      <th>AAACGGGCAGCTTAAC-1-0</th>\n",
       "      <td>0</td>\n",
       "      <td>2769.247269</td>\n",
       "      <td>1828</td>\n",
       "      <td>2.214523</td>\n",
       "      <td>5.780477</td>\n",
       "      <td>Immune cells</td>\n",
       "      <td>CD4Tconv</td>\n",
       "      <td>Tfh</td>\n",
       "      <td>5</td>\n",
       "      <td>BRCA</td>\n",
       "      <td>0</td>\n",
       "    </tr>\n",
       "    <tr>\n",
       "      <th>AAACGGGCAGTACACT-1-0</th>\n",
       "      <td>0</td>\n",
       "      <td>2300.195230</td>\n",
       "      <td>1247</td>\n",
       "      <td>-6.580025</td>\n",
       "      <td>-3.052252</td>\n",
       "      <td>Immune cells</td>\n",
       "      <td>CD4Tconv</td>\n",
       "      <td>Th2</td>\n",
       "      <td>7</td>\n",
       "      <td>BRCA</td>\n",
       "      <td>0</td>\n",
       "    </tr>\n",
       "    <tr>\n",
       "      <th>AAACGGGCATACAGCT-1-0</th>\n",
       "      <td>0</td>\n",
       "      <td>2600.824085</td>\n",
       "      <td>1717</td>\n",
       "      <td>1.769341</td>\n",
       "      <td>5.511085</td>\n",
       "      <td>Immune cells</td>\n",
       "      <td>CD4Tconv</td>\n",
       "      <td>Tfh</td>\n",
       "      <td>5</td>\n",
       "      <td>BRCA</td>\n",
       "      <td>0</td>\n",
       "    </tr>\n",
       "    <tr>\n",
       "      <th>AAAGATGAGGGTTCCC-1-0</th>\n",
       "      <td>0</td>\n",
       "      <td>1532.341577</td>\n",
       "      <td>650</td>\n",
       "      <td>-3.922672</td>\n",
       "      <td>-0.266676</td>\n",
       "      <td>Immune cells</td>\n",
       "      <td>CD4Tconv</td>\n",
       "      <td>CD4Tn</td>\n",
       "      <td>0</td>\n",
       "      <td>BRCA</td>\n",
       "      <td>0</td>\n",
       "    </tr>\n",
       "    <tr>\n",
       "      <th>...</th>\n",
       "      <td>...</td>\n",
       "      <td>...</td>\n",
       "      <td>...</td>\n",
       "      <td>...</td>\n",
       "      <td>...</td>\n",
       "      <td>...</td>\n",
       "      <td>...</td>\n",
       "      <td>...</td>\n",
       "      <td>...</td>\n",
       "      <td>...</td>\n",
       "      <td>...</td>\n",
       "    </tr>\n",
       "    <tr>\n",
       "      <th>CART_RP@GACTACACAACGCACC-1</th>\n",
       "      <td>0</td>\n",
       "      <td>2177.881567</td>\n",
       "      <td>1303</td>\n",
       "      <td>2.443463</td>\n",
       "      <td>-6.903719</td>\n",
       "      <td>Immune cells</td>\n",
       "      <td>CD8T</td>\n",
       "      <td>CD8Teff</td>\n",
       "      <td>0</td>\n",
       "      <td>CART_RP</td>\n",
       "      <td>1</td>\n",
       "    </tr>\n",
       "    <tr>\n",
       "      <th>CART_RP@CCTAAAGAGAAGCCCA-1</th>\n",
       "      <td>0</td>\n",
       "      <td>2197.588125</td>\n",
       "      <td>1174</td>\n",
       "      <td>3.233820</td>\n",
       "      <td>-4.767336</td>\n",
       "      <td>Immune cells</td>\n",
       "      <td>CD8T</td>\n",
       "      <td>CD8Teff</td>\n",
       "      <td>0</td>\n",
       "      <td>CART_RP</td>\n",
       "      <td>1</td>\n",
       "    </tr>\n",
       "    <tr>\n",
       "      <th>Tcells_RP@CTAAGACTCTTCCTTC-1</th>\n",
       "      <td>1</td>\n",
       "      <td>1738.492640</td>\n",
       "      <td>780</td>\n",
       "      <td>1.717936</td>\n",
       "      <td>-2.474303</td>\n",
       "      <td>Immune cells</td>\n",
       "      <td>CD8T</td>\n",
       "      <td>CD8Teff</td>\n",
       "      <td>6</td>\n",
       "      <td>Tcells_RP</td>\n",
       "      <td>1</td>\n",
       "    </tr>\n",
       "    <tr>\n",
       "      <th>Tcells_RP@GGGACCTTCTTGTACT-1</th>\n",
       "      <td>1</td>\n",
       "      <td>2112.413513</td>\n",
       "      <td>1347</td>\n",
       "      <td>-2.058749</td>\n",
       "      <td>-7.025738</td>\n",
       "      <td>Immune cells</td>\n",
       "      <td>CD8T</td>\n",
       "      <td>CD8Tn</td>\n",
       "      <td>4</td>\n",
       "      <td>Tcells_RP</td>\n",
       "      <td>1</td>\n",
       "    </tr>\n",
       "    <tr>\n",
       "      <th>CART_RP@CACATTTAGCTCTCGG-1</th>\n",
       "      <td>0</td>\n",
       "      <td>2186.673369</td>\n",
       "      <td>1279</td>\n",
       "      <td>-1.086260</td>\n",
       "      <td>-5.712404</td>\n",
       "      <td>Immune cells</td>\n",
       "      <td>CD8T</td>\n",
       "      <td>CD8Tn</td>\n",
       "      <td>4</td>\n",
       "      <td>CART_RP</td>\n",
       "      <td>1</td>\n",
       "    </tr>\n",
       "  </tbody>\n",
       "</table>\n",
       "<p>14035 rows × 11 columns</p>\n",
       "</div>"
      ],
      "text/plain": [
       "                              orig.ident   nCount_RNA  nFeature_RNA    UMAP_1  \\\n",
       "AAACCTGGTTATGCGT-1-0                   0  1835.473014           818  2.966833   \n",
       "AAACGGGCAGCTTAAC-1-0                   0  2769.247269          1828  2.214523   \n",
       "AAACGGGCAGTACACT-1-0                   0  2300.195230          1247 -6.580025   \n",
       "AAACGGGCATACAGCT-1-0                   0  2600.824085          1717  1.769341   \n",
       "AAAGATGAGGGTTCCC-1-0                   0  1532.341577           650 -3.922672   \n",
       "...                                  ...          ...           ...       ...   \n",
       "CART_RP@GACTACACAACGCACC-1             0  2177.881567          1303  2.443463   \n",
       "CART_RP@CCTAAAGAGAAGCCCA-1             0  2197.588125          1174  3.233820   \n",
       "Tcells_RP@CTAAGACTCTTCCTTC-1           1  1738.492640           780  1.717936   \n",
       "Tcells_RP@GGGACCTTCTTGTACT-1           1  2112.413513          1347 -2.058749   \n",
       "CART_RP@CACATTTAGCTCTCGG-1             0  2186.673369          1279 -1.086260   \n",
       "\n",
       "                                UMAP_2 Celltype..malignancy.  \\\n",
       "AAACCTGGTTATGCGT-1-0          2.879237          Immune cells   \n",
       "AAACGGGCAGCTTAAC-1-0          5.780477          Immune cells   \n",
       "AAACGGGCAGTACACT-1-0         -3.052252          Immune cells   \n",
       "AAACGGGCATACAGCT-1-0          5.511085          Immune cells   \n",
       "AAAGATGAGGGTTCCC-1-0         -0.266676          Immune cells   \n",
       "...                                ...                   ...   \n",
       "CART_RP@GACTACACAACGCACC-1   -6.903719          Immune cells   \n",
       "CART_RP@CCTAAAGAGAAGCCCA-1   -4.767336          Immune cells   \n",
       "Tcells_RP@CTAAGACTCTTCCTTC-1 -2.474303          Immune cells   \n",
       "Tcells_RP@GGGACCTTCTTGTACT-1 -7.025738          Immune cells   \n",
       "CART_RP@CACATTTAGCTCTCGG-1   -5.712404          Immune cells   \n",
       "\n",
       "                             Celltype..major.lineage.  \\\n",
       "AAACCTGGTTATGCGT-1-0                         CD4Tconv   \n",
       "AAACGGGCAGCTTAAC-1-0                         CD4Tconv   \n",
       "AAACGGGCAGTACACT-1-0                         CD4Tconv   \n",
       "AAACGGGCATACAGCT-1-0                         CD4Tconv   \n",
       "AAAGATGAGGGTTCCC-1-0                         CD4Tconv   \n",
       "...                                               ...   \n",
       "CART_RP@GACTACACAACGCACC-1                       CD8T   \n",
       "CART_RP@CCTAAAGAGAAGCCCA-1                       CD8T   \n",
       "Tcells_RP@CTAAGACTCTTCCTTC-1                     CD8T   \n",
       "Tcells_RP@GGGACCTTCTTGTACT-1                     CD8T   \n",
       "CART_RP@CACATTTAGCTCTCGG-1                       CD8T   \n",
       "\n",
       "                             Celltype..minor.lineage.  Cluster    Patient  \\\n",
       "AAACCTGGTTATGCGT-1-0                              Tfh       10       BRCA   \n",
       "AAACGGGCAGCTTAAC-1-0                              Tfh        5       BRCA   \n",
       "AAACGGGCAGTACACT-1-0                              Th2        7       BRCA   \n",
       "AAACGGGCATACAGCT-1-0                              Tfh        5       BRCA   \n",
       "AAAGATGAGGGTTCCC-1-0                            CD4Tn        0       BRCA   \n",
       "...                                               ...      ...        ...   \n",
       "CART_RP@GACTACACAACGCACC-1                    CD8Teff        0    CART_RP   \n",
       "CART_RP@CCTAAAGAGAAGCCCA-1                    CD8Teff        0    CART_RP   \n",
       "Tcells_RP@CTAAGACTCTTCCTTC-1                  CD8Teff        6  Tcells_RP   \n",
       "Tcells_RP@GGGACCTTCTTGTACT-1                    CD8Tn        4  Tcells_RP   \n",
       "CART_RP@CACATTTAGCTCTCGG-1                      CD8Tn        4    CART_RP   \n",
       "\n",
       "                             batch  \n",
       "AAACCTGGTTATGCGT-1-0             0  \n",
       "AAACGGGCAGCTTAAC-1-0             0  \n",
       "AAACGGGCAGTACACT-1-0             0  \n",
       "AAACGGGCATACAGCT-1-0             0  \n",
       "AAAGATGAGGGTTCCC-1-0             0  \n",
       "...                            ...  \n",
       "CART_RP@GACTACACAACGCACC-1       1  \n",
       "CART_RP@CCTAAAGAGAAGCCCA-1       1  \n",
       "Tcells_RP@CTAAGACTCTTCCTTC-1     1  \n",
       "Tcells_RP@GGGACCTTCTTGTACT-1     1  \n",
       "CART_RP@CACATTTAGCTCTCGG-1       1  \n",
       "\n",
       "[14035 rows x 11 columns]"
      ]
     },
     "execution_count": 2,
     "metadata": {},
     "output_type": "execute_result"
    }
   ],
   "source": [
    "adata = sc.read_h5ad('../datas/32/adata12.h5ad')\n",
    "adata.obs"
   ]
  },
  {
   "cell_type": "code",
   "execution_count": 5,
   "metadata": {},
   "outputs": [],
   "source": [
    "from typing import NamedTuple\n",
    "\n",
    "# scVI Manager Store Constants\n",
    "# ----------------------------\n",
    "# Keys for UUIDs used for referencing model class manager stores.\n",
    "\n",
    "_SCVI_UUID_KEY = \"_scvi_uuid\"\n",
    "_MANAGER_UUID_KEY = \"_scvi_manager_uuid\"\n",
    "\n",
    "# scVI Registry Constants\n",
    "# -----------------------\n",
    "# Keys used in the scVI registry.\n",
    "\n",
    "_SCVI_VERSION_KEY = \"scvi_version\"\n",
    "_MODEL_NAME_KEY = \"model_name\"\n",
    "_SETUP_METHOD_NAME = \"setup_method_name\"\n",
    "_SETUP_ARGS_KEY = \"setup_args\"\n",
    "_FIELD_REGISTRIES_KEY = \"field_registries\"\n",
    "_DATA_REGISTRY_KEY = \"data_registry\"\n",
    "_STATE_REGISTRY_KEY = \"state_registry\"\n",
    "_SUMMARY_STATS_KEY = \"summary_stats\"\n",
    "\n",
    "# scVI Data Registry Constants\n",
    "# ----------------------------\n",
    "# Keys used in the data registry.\n",
    "\n",
    "_DR_MOD_KEY = \"mod_key\"\n",
    "_DR_ATTR_NAME = \"attr_name\"\n",
    "_DR_ATTR_KEY = \"attr_key\"\n",
    "\n",
    "# AnnData Minification Constants\n",
    "# ------------------------\n",
    "# Constants used in handling adata minification.\n",
    "\n",
    "_ADATA_MINIFY_TYPE_UNS_KEY = \"_scvi_adata_minify_type\"\n",
    "\n",
    "\n",
    "class _ADATA_MINIFY_TYPE_NT(NamedTuple):\n",
    "    LATENT_POSTERIOR: str = \"latent_posterior_parameters\"\n",
    "\n",
    "\n",
    "ADATA_MINIFY_TYPE = _ADATA_MINIFY_TYPE_NT()\n",
    "\n",
    "# AnnData Object Constants\n",
    "# ------------------------\n",
    "# AnnData object attribute names.\n",
    "\n",
    "\n",
    "class _ADATA_ATTRS_NT(NamedTuple):\n",
    "    X: str = \"X\"\n",
    "    LAYERS: str = \"layers\"\n",
    "    OBS: str = \"obs\"\n",
    "    OBSM: str = \"obsm\"\n",
    "    VAR: str = \"var\"\n",
    "    VARM: str = \"varm\"\n",
    "    UNS: str = \"uns\"\n",
    "\n",
    "\n",
    "_ADATA_ATTRS = _ADATA_ATTRS_NT()"
   ]
  },
  {
   "cell_type": "code",
   "execution_count": 9,
   "metadata": {},
   "outputs": [],
   "source": [
    "t = adata.uns.get(_ADATA_MINIFY_TYPE_UNS_KEY, None)\n",
    "t"
   ]
  },
  {
   "cell_type": "code",
   "execution_count": 3,
   "metadata": {},
   "outputs": [
    {
     "name": "stderr",
     "output_type": "stream",
     "text": [
      "/Users/dongjiajie/opt/anaconda3/envs/scvi/lib/python3.9/abc.py:119: FutureWarning: SparseDataset is deprecated and will be removed in late 2024. It has been replaced by the public classes CSRDataset and CSCDataset.\n",
      "\n",
      "For instance checks, use `isinstance(X, (anndata.experimental.CSRDataset, anndata.experimental.CSCDataset))` instead.\n",
      "\n",
      "For creation, use `anndata.experimental.sparse_dataset(X)` instead.\n",
      "\n",
      "  return _abc_instancecheck(cls, instance)\n",
      "/Users/dongjiajie/opt/anaconda3/envs/scvi/lib/python3.9/site-packages/scvi/data/fields/_base_field.py:64: UserWarning: adata.X does not contain unnormalized count data. Are you sure this is what you want?\n",
      "  self.validate_field(adata)\n"
     ]
    }
   ],
   "source": [
    "scvi.model.SCVI.setup_anndata(adata, batch_key=\"batch\")\n",
    "vae = scvi.model.SCVI(adata, n_layers=2, n_latent=30, gene_likelihood=\"nb\")\n",
    "#Now we train scVI. This should take a couple of minutes on a Colab session\n",
    "# vae.train()"
   ]
  },
  {
   "cell_type": "code",
   "execution_count": 4,
   "metadata": {},
   "outputs": [
    {
     "data": {
      "text/html": [
       "<pre style=\"white-space:pre;overflow-x:auto;line-height:normal;font-family:Menlo,'DejaVu Sans Mono',consolas,'Courier New',monospace\">SCVI model with the following parameters: \n",
       "n_hidden: <span style=\"color: #008080; text-decoration-color: #008080; font-weight: bold\">128</span>, n_latent: <span style=\"color: #008080; text-decoration-color: #008080; font-weight: bold\">30</span>, n_layers: <span style=\"color: #008080; text-decoration-color: #008080; font-weight: bold\">2</span>, dropout_rate: <span style=\"color: #008080; text-decoration-color: #008080; font-weight: bold\">0.1</span>, dispersion: gene, gene_likelihood: nb, \n",
       "latent_distribution: normal.\n",
       "Training status: Not Trained\n",
       "Model's adata is minified?: <span style=\"color: #ff0000; text-decoration-color: #ff0000; font-style: italic\">False</span>\n",
       "</pre>\n"
      ],
      "text/plain": [
       "SCVI model with the following parameters: \n",
       "n_hidden: \u001b[1;36m128\u001b[0m, n_latent: \u001b[1;36m30\u001b[0m, n_layers: \u001b[1;36m2\u001b[0m, dropout_rate: \u001b[1;36m0.1\u001b[0m, dispersion: gene, gene_likelihood: nb, \n",
       "latent_distribution: normal.\n",
       "Training status: Not Trained\n",
       "Model's adata is minified?: \u001b[3;91mFalse\u001b[0m\n"
      ]
     },
     "metadata": {},
     "output_type": "display_data"
    },
    {
     "data": {
      "text/plain": []
     },
     "execution_count": 4,
     "metadata": {},
     "output_type": "execute_result"
    }
   ],
   "source": [
    "vae"
   ]
  },
  {
   "cell_type": "markdown",
   "metadata": {},
   "source": []
  },
  {
   "cell_type": "code",
   "execution_count": 5,
   "metadata": {},
   "outputs": [
    {
     "name": "stderr",
     "output_type": "stream",
     "text": [
      "GPU available: False, used: False\n",
      "TPU available: False, using: 0 TPU cores\n",
      "IPU available: False, using: 0 IPUs\n",
      "HPU available: False, using: 0 HPUs\n",
      "/Users/dongjiajie/opt/anaconda3/envs/scvi/lib/python3.9/site-packages/lightning/pytorch/trainer/connectors/data_connector.py:441: The 'train_dataloader' does not have many workers which may be a bottleneck. Consider increasing the value of the `num_workers` argument` to `num_workers=7` in the `DataLoader` to improve performance.\n"
     ]
    },
    {
     "name": "stdout",
     "output_type": "stream",
     "text": [
      "Epoch 50/50: 100%|██████████| 50/50 [02:14<00:00,  2.42s/it, v_num=1, train_loss_step=419, train_loss_epoch=426]"
     ]
    },
    {
     "name": "stderr",
     "output_type": "stream",
     "text": [
      "`Trainer.fit` stopped: `max_epochs=50` reached.\n"
     ]
    },
    {
     "name": "stdout",
     "output_type": "stream",
     "text": [
      "Epoch 50/50: 100%|██████████| 50/50 [02:14<00:00,  2.70s/it, v_num=1, train_loss_step=419, train_loss_epoch=426]\n"
     ]
    }
   ],
   "source": [
    "vae.train(max_epochs = 50)\n"
   ]
  },
  {
   "cell_type": "code",
   "execution_count": 6,
   "metadata": {},
   "outputs": [],
   "source": [
    "adata.obsm[\"X_scVI\"] = vae.get_latent_representation()\n"
   ]
  },
  {
   "cell_type": "markdown",
   "metadata": {},
   "source": []
  },
  {
   "cell_type": "code",
   "execution_count": 7,
   "metadata": {},
   "outputs": [],
   "source": [
    "adata.write_h5ad('out.h5ad')"
   ]
  }
 ],
 "metadata": {
  "kernelspec": {
   "display_name": "base",
   "language": "python",
   "name": "python3"
  },
  "language_info": {
   "codemirror_mode": {
    "name": "ipython",
    "version": 3
   },
   "file_extension": ".py",
   "mimetype": "text/x-python",
   "name": "python",
   "nbconvert_exporter": "python",
   "pygments_lexer": "ipython3",
   "version": "3.9.18"
  }
 },
 "nbformat": 4,
 "nbformat_minor": 2
}
