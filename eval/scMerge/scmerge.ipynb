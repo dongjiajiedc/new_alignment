{
 "cells": [
  {
   "cell_type": "code",
   "execution_count": 1,
   "metadata": {},
   "outputs": [],
   "source": [
    "import scib\n",
    "import scanpy as sc\n",
    "import numpy as np"
   ]
  },
  {
   "cell_type": "code",
   "execution_count": 2,
   "metadata": {},
   "outputs": [
    {
     "name": "stderr",
     "output_type": "stream",
     "text": [
      "/Users/dongjiajie/opt/anaconda3/lib/python3.8/site-packages/h5py/_hl/dataset.py:767: DeprecationWarning: Passing None into shape arguments as an alias for () is deprecated.\n",
      "  arr = numpy.ndarray(selection.mshape, dtype=new_dtype)\n"
     ]
    },
    {
     "data": {
      "text/plain": [
       "AnnData object with n_obs × n_vars = 10000 × 505\n",
       "    obs: 'Celltype..major.lineage.', 'batch'\n",
       "    var: 'features', 'highly_variable', 'means.0', 'dispersions.0', 'dispersions_norm.0', 'means.1', 'dispersions.1', 'dispersions_norm.1'\n",
       "    uns: 'X_name', 'ruvK', 'ruvK_optimal', 'scRep_res', 'timeReplicates', 'timeRuv'\n",
       "    layers: 'X', 'counts', 'logcounts'"
      ]
     },
     "execution_count": 2,
     "metadata": {},
     "output_type": "execute_result"
    }
   ],
   "source": [
    "adata_after = sc.read_h5ad('./after.h5ad')\n",
    "adata_after"
   ]
  },
  {
   "cell_type": "code",
   "execution_count": 3,
   "metadata": {},
   "outputs": [
    {
     "data": {
      "text/plain": [
       "(10000, 505)"
      ]
     },
     "execution_count": 3,
     "metadata": {},
     "output_type": "execute_result"
    }
   ],
   "source": [
    "adata_after.X.shape"
   ]
  },
  {
   "cell_type": "code",
   "execution_count": 4,
   "metadata": {},
   "outputs": [
    {
     "data": {
      "text/plain": [
       "AnnData object with n_obs × n_vars = 10000 × 505\n",
       "    obs: 'Celltype..major.lineage.', 'batch'\n",
       "    var: 'features', 'highly_variable', 'means.0', 'dispersions.0', 'dispersions_norm.0', 'means.1', 'dispersions.1', 'dispersions_norm.1'\n",
       "    uns: 'X_name', 'ruvK', 'ruvK_optimal', 'scRep_res', 'timeReplicates', 'timeRuv'\n",
       "    layers: 'X', 'counts', 'logcounts'"
      ]
     },
     "execution_count": 4,
     "metadata": {},
     "output_type": "execute_result"
    }
   ],
   "source": [
    "adata = adata_after.copy()\n",
    "adata.X = np.array(adata_after.layers['X'].todense())\n",
    "adata"
   ]
  },
  {
   "cell_type": "code",
   "execution_count": 5,
   "metadata": {},
   "outputs": [
    {
     "name": "stderr",
     "output_type": "stream",
     "text": [
      "2024-04-01 00:26:13.234960: I tensorflow/core/platform/cpu_feature_guard.cc:182] This TensorFlow binary is optimized to use available CPU instructions in performance-critical operations.\n",
      "To enable the following instructions: AVX2 AVX512F AVX512_VNNI FMA, in other operations, rebuild TensorFlow with the appropriate compiler flags.\n"
     ]
    },
    {
     "data": {
      "text/plain": [
       "TACAGTGAGCACCGCT-1-0                              0.000000\n",
       "ACAGCTAAGAGGGATA-2-0                              0.138165\n",
       "AAAGCAATCATGTCCC-1-0                              0.027363\n",
       "TATCAGGTCTGGTTCC-2-0                              0.072838\n",
       "GCTCTGTCAAGTACCT-2-0                              0.085062\n",
       "                                                    ...   \n",
       "GSM4274685@BMET11-Distal_CACCACTTCGAGGTAG-1-1     0.644713\n",
       "GSM4274707@BMM6-Benign_GATTCAGGTGAGTATA-1-1       0.401524\n",
       "GSM4274700@BMET8-Involved_GATCTAGAGAATAGGG-1-1    0.292026\n",
       "GSM4274704@BMM3-Benign_AGCATACTCAACGAAA-1-1       0.158804\n",
       "GSM4274690@BMET3-Involved_TGAAAGAGTCCAGTAT-1-1    0.151091\n",
       "Name: dpt_pseudotime, Length: 10000, dtype: float32"
      ]
     },
     "execution_count": 5,
     "metadata": {},
     "output_type": "execute_result"
    }
   ],
   "source": [
    "sc.pp.neighbors(adata,use_rep='X')\n",
    "sc.tl.diffmap(adata)\n",
    "\n",
    "adata.uns['iroot'] = 0\n",
    "# adata.var['xroot']= np.array(adata.X.todense()).mean(axis=0)\n",
    "sc.tl.dpt(adata)\n",
    "adata.obs['dpt_pseudotime']"
   ]
  },
  {
   "cell_type": "code",
   "execution_count": 6,
   "metadata": {},
   "outputs": [
    {
     "data": {
      "text/plain": [
       "TACAGTGAGCACCGCT-1-0                              0.000000\n",
       "ACAGCTAAGAGGGATA-2-0                              0.001440\n",
       "AAAGCAATCATGTCCC-1-0                              0.000973\n",
       "TATCAGGTCTGGTTCC-2-0                              0.002885\n",
       "GCTCTGTCAAGTACCT-2-0                              0.002747\n",
       "                                                    ...   \n",
       "GSM4274685@BMET11-Distal_CACCACTTCGAGGTAG-1-1     0.085486\n",
       "GSM4274707@BMM6-Benign_GATTCAGGTGAGTATA-1-1       0.002257\n",
       "GSM4274700@BMET8-Involved_GATCTAGAGAATAGGG-1-1    0.012461\n",
       "GSM4274704@BMM3-Benign_AGCATACTCAACGAAA-1-1       0.001923\n",
       "GSM4274690@BMET3-Involved_TGAAAGAGTCCAGTAT-1-1    0.007086\n",
       "Name: dpt_pseudotime, Length: 10000, dtype: float32"
      ]
     },
     "execution_count": 6,
     "metadata": {},
     "output_type": "execute_result"
    }
   ],
   "source": [
    "sc.pp.neighbors(adata_after,use_rep='X')\n",
    "sc.tl.diffmap(adata_after)\n",
    "\n",
    "adata_after.uns['iroot'] = 0\n",
    "sc.tl.dpt(adata_after)\n",
    "adata_after.obs['dpt_pseudotime']"
   ]
  },
  {
   "cell_type": "code",
   "execution_count": 7,
   "metadata": {},
   "outputs": [
    {
     "name": "stderr",
     "output_type": "stream",
     "text": [
      "/Users/dongjiajie/opt/anaconda3/lib/python3.8/site-packages/scib/metrics/trajectory.py:120: ImplicitModificationWarning: Trying to modify attribute `.obs` of view, initializing view as actual.\n",
      "  n_components, adata_post.obs[\"neighborhood\"] = connected_components(\n",
      "/Users/dongjiajie/opt/anaconda3/lib/python3.8/contextlib.py:120: FutureWarning: X.dtype being converted to np.float32 from float64. In the next version of anndata (0.9) conversion will not be automatic. Pass dtype explicitly to avoid this warning. Pass `AnnData(X, dtype=X.dtype, ...)` to get the future behavour.\n",
      "  next(self.gen)\n"
     ]
    },
    {
     "data": {
      "text/plain": [
       "0.5921099924579685"
      ]
     },
     "execution_count": 7,
     "metadata": {},
     "output_type": "execute_result"
    }
   ],
   "source": [
    "scib.me.trajectory_conservation(adata, adata_after, label_key=\"Celltype..major.lineage.\")\n"
   ]
  },
  {
   "cell_type": "code",
   "execution_count": null,
   "metadata": {},
   "outputs": [],
   "source": []
  }
 ],
 "metadata": {
  "kernelspec": {
   "display_name": "base",
   "language": "python",
   "name": "python3"
  },
  "language_info": {
   "codemirror_mode": {
    "name": "ipython",
    "version": 3
   },
   "file_extension": ".py",
   "mimetype": "text/x-python",
   "name": "python",
   "nbconvert_exporter": "python",
   "pygments_lexer": "ipython3",
   "version": "3.8.16"
  }
 },
 "nbformat": 4,
 "nbformat_minor": 2
}
