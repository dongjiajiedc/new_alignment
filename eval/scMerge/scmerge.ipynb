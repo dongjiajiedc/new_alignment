{
 "cells": [
  {
   "cell_type": "code",
   "execution_count": 2,
   "metadata": {},
   "outputs": [],
   "source": [
    "import scib\n",
    "import scanpy as sc\n",
    "import numpy as np"
   ]
  },
  {
   "cell_type": "code",
   "execution_count": 3,
   "metadata": {},
   "outputs": [
    {
     "name": "stderr",
     "output_type": "stream",
     "text": [
      "/Users/dongjiajie/opt/anaconda3/lib/python3.8/site-packages/h5py/_hl/dataset.py:767: DeprecationWarning: Passing None into shape arguments as an alias for () is deprecated.\n",
      "  arr = numpy.ndarray(selection.mshape, dtype=new_dtype)\n"
     ]
    },
    {
     "data": {
      "text/plain": [
       "AnnData object with n_obs × n_vars = 14035 × 1399\n",
       "    obs: 'orig.ident', 'nCount_RNA', 'nFeature_RNA', 'UMAP_1', 'UMAP_2', 'Celltype..malignancy.', 'Celltype..major.lineage.', 'Celltype..minor.lineage.', 'Cluster', 'Patient', 'batch'\n",
       "    var: 'features', 'highly_variable', 'means', 'dispersions', 'dispersions_norm'\n",
       "    uns: 'X_name', 'hvg', 'ruvK', 'ruvK_optimal', 'scRep_res', 'timeReplicates', 'timeRuv'\n",
       "    layers: 'X', 'counts', 'logcounts'"
      ]
     },
     "execution_count": 3,
     "metadata": {},
     "output_type": "execute_result"
    }
   ],
   "source": [
    "adata_after = sc.read_h5ad('./after.h5ad')\n",
    "adata_after"
   ]
  },
  {
   "cell_type": "code",
   "execution_count": 4,
   "metadata": {},
   "outputs": [
    {
     "data": {
      "text/plain": [
       "(14035, 1399)"
      ]
     },
     "execution_count": 4,
     "metadata": {},
     "output_type": "execute_result"
    }
   ],
   "source": [
    "adata_after.X.shape"
   ]
  },
  {
   "cell_type": "code",
   "execution_count": 5,
   "metadata": {},
   "outputs": [
    {
     "data": {
      "text/plain": [
       "AnnData object with n_obs × n_vars = 14035 × 1399\n",
       "    obs: 'orig.ident', 'nCount_RNA', 'nFeature_RNA', 'UMAP_1', 'UMAP_2', 'Celltype..malignancy.', 'Celltype..major.lineage.', 'Celltype..minor.lineage.', 'Cluster', 'Patient', 'batch'\n",
       "    var: 'features', 'highly_variable', 'means', 'dispersions', 'dispersions_norm'\n",
       "    uns: 'X_name', 'hvg', 'ruvK', 'ruvK_optimal', 'scRep_res', 'timeReplicates', 'timeRuv'\n",
       "    layers: 'X', 'counts', 'logcounts'"
      ]
     },
     "execution_count": 5,
     "metadata": {},
     "output_type": "execute_result"
    }
   ],
   "source": [
    "adata = adata_after.copy()\n",
    "adata.X = np.array(adata_after.layers['X'].todense())\n",
    "adata"
   ]
  },
  {
   "cell_type": "code",
   "execution_count": 28,
   "metadata": {},
   "outputs": [
    {
     "data": {
      "text/plain": [
       "AAACCTGGTTATGCGT-1-0            0.077236\n",
       "AAACGGGCAGCTTAAC-1-0            0.197089\n",
       "AAACGGGCAGTACACT-1-0            0.033106\n",
       "AAACGGGCATACAGCT-1-0            0.182526\n",
       "AAAGATGAGGGTTCCC-1-0            0.039814\n",
       "                                  ...   \n",
       "CART_RP@GACTACACAACGCACC-1      0.010483\n",
       "CART_RP@CCTAAAGAGAAGCCCA-1      0.022767\n",
       "Tcells_RP@CTAAGACTCTTCCTTC-1    0.022385\n",
       "Tcells_RP@GGGACCTTCTTGTACT-1    0.016870\n",
       "CART_RP@CACATTTAGCTCTCGG-1      0.019521\n",
       "Name: dpt_pseudotime, Length: 14035, dtype: float32"
      ]
     },
     "execution_count": 28,
     "metadata": {},
     "output_type": "execute_result"
    }
   ],
   "source": [
    "sc.pp.neighbors(adata,use_rep='X')\n",
    "sc.tl.diffmap(adata)\n",
    "\n",
    "adata.uns['iroot'] = 9999\n",
    "# adata.var['xroot']= np.array(adata.X.todense()).mean(axis=0)\n",
    "sc.tl.dpt(adata)\n",
    "adata.obs['dpt_pseudotime']"
   ]
  },
  {
   "cell_type": "code",
   "execution_count": 29,
   "metadata": {},
   "outputs": [
    {
     "data": {
      "text/plain": [
       "AAACCTGGTTATGCGT-1-0            0.000000\n",
       "AAACGGGCAGCTTAAC-1-0            0.000041\n",
       "AAACGGGCAGTACACT-1-0            0.000416\n",
       "AAACGGGCATACAGCT-1-0            0.000206\n",
       "AAAGATGAGGGTTCCC-1-0            0.000048\n",
       "                                  ...   \n",
       "CART_RP@GACTACACAACGCACC-1      0.000318\n",
       "CART_RP@CCTAAAGAGAAGCCCA-1      0.000057\n",
       "Tcells_RP@CTAAGACTCTTCCTTC-1    0.000825\n",
       "Tcells_RP@GGGACCTTCTTGTACT-1    0.000457\n",
       "CART_RP@CACATTTAGCTCTCGG-1      0.000159\n",
       "Name: dpt_pseudotime, Length: 14035, dtype: float32"
      ]
     },
     "execution_count": 29,
     "metadata": {},
     "output_type": "execute_result"
    }
   ],
   "source": [
    "sc.pp.neighbors(adata_after,use_rep='X')\n",
    "sc.tl.diffmap(adata_after)\n",
    "\n",
    "adata_after.uns['iroot'] = 0\n",
    "sc.tl.dpt(adata_after)\n",
    "adata_after.obs['dpt_pseudotime']"
   ]
  },
  {
   "cell_type": "code",
   "execution_count": 30,
   "metadata": {},
   "outputs": [
    {
     "name": "stderr",
     "output_type": "stream",
     "text": [
      "/Users/dongjiajie/opt/anaconda3/lib/python3.8/site-packages/scib/metrics/trajectory.py:120: ImplicitModificationWarning: Trying to modify attribute `.obs` of view, initializing view as actual.\n",
      "  n_components, adata_post.obs[\"neighborhood\"] = connected_components(\n",
      "/Users/dongjiajie/opt/anaconda3/lib/python3.8/contextlib.py:120: FutureWarning: X.dtype being converted to np.float32 from float64. In the next version of anndata (0.9) conversion will not be automatic. Pass dtype explicitly to avoid this warning. Pass `AnnData(X, dtype=X.dtype, ...)` to get the future behavour.\n",
      "  next(self.gen)\n"
     ]
    },
    {
     "data": {
      "text/plain": [
       "0.5986280640660694"
      ]
     },
     "execution_count": 30,
     "metadata": {},
     "output_type": "execute_result"
    }
   ],
   "source": [
    "scib.me.trajectory_conservation(adata, adata_after, label_key=\"Celltype..major.lineage.\")\n"
   ]
  },
  {
   "cell_type": "code",
   "execution_count": 18,
   "metadata": {},
   "outputs": [
    {
     "name": "stderr",
     "output_type": "stream",
     "text": [
      "/Users/dongjiajie/opt/anaconda3/lib/python3.8/site-packages/scanpy/tools/_dpt.py:18: FutureWarning: X.dtype being converted to np.float32 from float64. In the next version of anndata (0.9) conversion will not be automatic. Pass dtype explicitly to avoid this warning. Pass `AnnData(X, dtype=X.dtype, ...)` to get the future behavour.\n",
      "  adata.obsm['X_diffmap'] = dpt.eigen_basis\n"
     ]
    },
    {
     "data": {
      "text/plain": [
       "(5306,\n",
       " AnnData object with n_obs × n_vars = 14035 × 1399\n",
       "     obs: 'orig.ident', 'nCount_RNA', 'nFeature_RNA', 'UMAP_1', 'UMAP_2', 'Celltype..malignancy.', 'Celltype..major.lineage.', 'Celltype..minor.lineage.', 'Cluster', 'Patient', 'batch', 'dpt_pseudotime', 'neighborhood'\n",
       "     var: 'features', 'highly_variable', 'means', 'dispersions', 'dispersions_norm'\n",
       "     uns: 'X_name', 'hvg', 'ruvK', 'ruvK_optimal', 'scRep_res', 'timeReplicates', 'timeRuv', 'neighbors', 'diffmap_evals', 'iroot'\n",
       "     obsm: 'X_diffmap'\n",
       "     layers: 'X', 'counts', 'logcounts'\n",
       "     obsp: 'distances', 'connectivities')"
      ]
     },
     "execution_count": 18,
     "metadata": {},
     "output_type": "execute_result"
    }
   ],
   "source": [
    "get_root(adata_after,adata,\"Celltype..major.lineage.\")"
   ]
  },
  {
   "cell_type": "code",
   "execution_count": 16,
   "metadata": {},
   "outputs": [],
   "source": [
    "from scipy.sparse.csgraph import connected_components\n",
    "\n",
    "def get_root(adata_pre, adata_post, ct_key, pseudotime_key=\"dpt_pseudotime\", dpt_dim=3):\n",
    "    \n",
    "    \"\"\"Determine root cell for integrated adata based on unintegrated adata\n",
    "\n",
    "    :param adata_pre: unintegrated adata\n",
    "    :param adata_post: integrated adata\n",
    "    :param label_key: column in ``adata_pre.obs`` of the groups used to precompute the trajectory\n",
    "    :param pseudotime_key: column in ``adata_pre.obs`` in which the pseudotime is saved in.\n",
    "        Column can contain empty entries, the dataset will be subset to the cells with scores.\n",
    "    :param dpt_dim: number of diffmap dimensions used to determine root\n",
    "    \"\"\"\n",
    "    n_components, adata_post.obs[\"neighborhood\"] = connected_components(\n",
    "        csgraph=adata_post.obsp[\"connectivities\"], directed=False, return_labels=True\n",
    "    )\n",
    "\n",
    "    start_clust = adata_pre.obs.groupby(ct_key)[pseudotime_key].mean().idxmin()\n",
    "    min_dpt = adata_pre.obs[adata_pre.obs[ct_key] == start_clust].index\n",
    "    which_max_neigh = (\n",
    "        adata_post.obs[\"neighborhood\"]\n",
    "        == adata_post.obs[\"neighborhood\"].value_counts().idxmax()\n",
    "    )\n",
    "    min_dpt = [\n",
    "        value for value in min_dpt if value in adata_post.obs[which_max_neigh].index\n",
    "    ]\n",
    "\n",
    "    adata_post_ti = adata_post[which_max_neigh]\n",
    "\n",
    "    min_dpt = [adata_post_ti.obs_names.get_loc(i) for i in min_dpt]\n",
    "\n",
    "    # compute Diffmap for adata_post\n",
    "    sc.tl.diffmap(adata_post_ti)\n",
    "\n",
    "    # determine most extreme cell in adata_post Diffmap\n",
    "    min_dpt_cell = np.zeros(len(min_dpt))\n",
    "    for dim in np.arange(dpt_dim):\n",
    "\n",
    "        diffmap_mean = adata_post_ti.obsm[\"X_diffmap\"][:, dim].mean()\n",
    "        diffmap_min_dpt = adata_post_ti.obsm[\"X_diffmap\"][min_dpt, dim]\n",
    "\n",
    "        # count opt cell\n",
    "        if len(diffmap_min_dpt) == 0:\n",
    "            raise RootCellError(\"No root cell in largest component\")\n",
    "\n",
    "        # choose optimum function\n",
    "        if len(diffmap_min_dpt) > 0 and diffmap_min_dpt.mean() < diffmap_mean:\n",
    "            opt = np.argmin\n",
    "        else:\n",
    "            opt = np.argmax\n",
    "\n",
    "        min_dpt_cell[opt(diffmap_min_dpt)] += 1\n",
    "\n",
    "    # root cell is cell with max vote\n",
    "    return min_dpt[np.argmax(min_dpt_cell)], adata_post_ti"
   ]
  },
  {
   "cell_type": "code",
   "execution_count": null,
   "metadata": {},
   "outputs": [],
   "source": []
  },
  {
   "cell_type": "code",
   "execution_count": null,
   "metadata": {},
   "outputs": [],
   "source": []
  },
  {
   "cell_type": "code",
   "execution_count": null,
   "metadata": {},
   "outputs": [],
   "source": []
  }
 ],
 "metadata": {
  "kernelspec": {
   "display_name": "base",
   "language": "python",
   "name": "python3"
  },
  "language_info": {
   "codemirror_mode": {
    "name": "ipython",
    "version": 3
   },
   "file_extension": ".py",
   "mimetype": "text/x-python",
   "name": "python",
   "nbconvert_exporter": "python",
   "pygments_lexer": "ipython3",
   "version": "3.8.16"
  }
 },
 "nbformat": 4,
 "nbformat_minor": 2
}
