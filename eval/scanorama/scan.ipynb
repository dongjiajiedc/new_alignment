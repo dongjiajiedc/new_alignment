{
 "cells": [
  {
   "cell_type": "code",
   "execution_count": 1,
   "metadata": {},
   "outputs": [],
   "source": [
    "import scanpy as sc\n",
    "import anndata as an\n",
    "import pandas as pd\n",
    "import numpy as np\n",
    "import matplotlib.pyplot as plt\n",
    "import seaborn as sns\n",
    "import scanorama\n",
    "import scib\n",
    "\n",
    "from pathlib import Path"
   ]
  },
  {
   "cell_type": "code",
   "execution_count": 2,
   "metadata": {},
   "outputs": [],
   "source": [
    "adata1 = sc.read_h5ad('../datas/32/adata1.h5ad')\n",
    "adata2 = sc.read_h5ad('../datas/32/adata2.h5ad')\n"
   ]
  },
  {
   "cell_type": "code",
   "execution_count": 3,
   "metadata": {},
   "outputs": [
    {
     "name": "stdout",
     "output_type": "stream",
     "text": [
      "Found 1399 genes among all datasets\n",
      "[[0.         0.58956089]\n",
      " [0.         0.        ]]\n",
      "Processing datasets (0, 1)\n"
     ]
    },
    {
     "name": "stderr",
     "output_type": "stream",
     "text": [
      "/Users/dongjiajie/opt/anaconda3/lib/python3.8/site-packages/scanorama/scanorama.py:237: FutureWarning: X.dtype being converted to np.float32 from float64. In the next version of anndata (0.9) conversion will not be automatic. Pass dtype explicitly to avoid this warning. Pass `AnnData(X, dtype=X.dtype, ...)` to get the future behavour.\n",
      "  adata = AnnData(datasets[i])\n"
     ]
    }
   ],
   "source": [
    "adatas = [adata1, adata2]\n",
    "adatas_cor = scanorama.correct_scanpy(adatas, return_dimred=True)"
   ]
  },
  {
   "cell_type": "code",
   "execution_count": 8,
   "metadata": {},
   "outputs": [],
   "source": [
    "adata_after = sc.concat(\n",
    "    adatas_cor,\n",
    "    label=\"library_id\",\n",
    "    uns_merge=\"unique\",\n",
    ")\n",
    "adata = adata_after.copy()"
   ]
  },
  {
   "cell_type": "code",
   "execution_count": 12,
   "metadata": {},
   "outputs": [
    {
     "data": {
      "text/plain": [
       "AAACCTGGTTATGCGT-1-0            0.000000\n",
       "AAACGGGCAGCTTAAC-1-0            0.042154\n",
       "AAACGGGCAGTACACT-1-0            0.092056\n",
       "AAACGGGCATACAGCT-1-0            0.039538\n",
       "AAAGATGAGGGTTCCC-1-0            0.088561\n",
       "                                  ...   \n",
       "CART_RP@GACTACACAACGCACC-1      0.059755\n",
       "CART_RP@CCTAAAGAGAAGCCCA-1      0.063621\n",
       "Tcells_RP@CTAAGACTCTTCCTTC-1    0.072700\n",
       "Tcells_RP@GGGACCTTCTTGTACT-1    0.077206\n",
       "CART_RP@CACATTTAGCTCTCGG-1      0.056806\n",
       "Name: dpt_pseudotime, Length: 14035, dtype: float32"
      ]
     },
     "execution_count": 12,
     "metadata": {},
     "output_type": "execute_result"
    }
   ],
   "source": [
    "sc.pp.neighbors(adata, n_neighbors=15,use_rep='X')\n",
    "sc.tl.diffmap(adata)\n",
    "\n",
    "adata.uns['iroot'] = 0\n",
    "sc.tl.dpt(adata)\n",
    "adata.obs['dpt_pseudotime']"
   ]
  },
  {
   "cell_type": "code",
   "execution_count": 13,
   "metadata": {},
   "outputs": [
    {
     "data": {
      "text/plain": [
       "AnnData object with n_obs × n_vars = 14035 × 1399\n",
       "    obs: 'orig.ident', 'nCount_RNA', 'nFeature_RNA', 'UMAP_1', 'UMAP_2', 'Celltype..malignancy.', 'Celltype..major.lineage.', 'Celltype..minor.lineage.', 'Cluster', 'Patient', 'batch', 'library_id', 'dpt_pseudotime'\n",
       "    uns: 'hvg', 'neighbors', 'diffmap_evals', 'iroot'\n",
       "    obsm: 'X_scanorama', 'X_diffmap'\n",
       "    obsp: 'distances', 'connectivities'"
      ]
     },
     "execution_count": 13,
     "metadata": {},
     "output_type": "execute_result"
    }
   ],
   "source": [
    "sc.pp.neighbors(adata_after, use_rep='X_scanorama')\n",
    "sc.tl.diffmap(adata_after)\n",
    "\n",
    "adata_after.uns['iroot'] = 0\n",
    "\n",
    "sc.tl.dpt(adata_after)\n",
    "adata_after"
   ]
  },
  {
   "cell_type": "code",
   "execution_count": 14,
   "metadata": {},
   "outputs": [
    {
     "name": "stderr",
     "output_type": "stream",
     "text": [
      "/Users/dongjiajie/opt/anaconda3/lib/python3.8/site-packages/scib/metrics/trajectory.py:120: ImplicitModificationWarning: Trying to modify attribute `.obs` of view, initializing view as actual.\n",
      "  n_components, adata_post.obs[\"neighborhood\"] = connected_components(\n"
     ]
    },
    {
     "data": {
      "text/plain": [
       "0.7014703690574254"
      ]
     },
     "execution_count": 14,
     "metadata": {},
     "output_type": "execute_result"
    }
   ],
   "source": [
    "import scib\n",
    "\n",
    "scib.me.trajectory_conservation(adata, adata_after, label_key=\"Celltype..major.lineage.\")\n"
   ]
  },
  {
   "cell_type": "code",
   "execution_count": null,
   "metadata": {},
   "outputs": [],
   "source": []
  }
 ],
 "metadata": {
  "kernelspec": {
   "display_name": "base",
   "language": "python",
   "name": "python3"
  },
  "language_info": {
   "codemirror_mode": {
    "name": "ipython",
    "version": 3
   },
   "file_extension": ".py",
   "mimetype": "text/x-python",
   "name": "python",
   "nbconvert_exporter": "python",
   "pygments_lexer": "ipython3",
   "version": "3.8.16"
  }
 },
 "nbformat": 4,
 "nbformat_minor": 2
}
