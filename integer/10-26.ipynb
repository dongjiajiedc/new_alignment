{
 "cells": [
  {
   "cell_type": "code",
   "execution_count": 1,
   "metadata": {},
   "outputs": [],
   "source": [
    "from node import *\n",
    "import pulp as plp\n",
    "import numpy as np\n",
    "import pandas as pd"
   ]
  },
  {
   "cell_type": "code",
   "execution_count": 9,
   "metadata": {},
   "outputs": [],
   "source": [
    "d=node('d',[])\n",
    "b=node('b',[d])\n",
    "c=node('c',[])\n",
    "a=node('a',[b,c]);\n",
    "f=node('f',[])\n",
    "g=node('g',[])\n",
    "e=node('e',[f,g])"
   ]
  },
  {
   "cell_type": "code",
   "execution_count": 61,
   "metadata": {},
   "outputs": [
    {
     "data": {
      "text/plain": [
       "range(0, 3)"
      ]
     },
     "execution_count": 61,
     "metadata": {},
     "output_type": "execute_result"
    }
   ],
   "source": [
    "set_J"
   ]
  },
  {
   "cell_type": "code",
   "execution_count": 10,
   "metadata": {},
   "outputs": [],
   "source": [
    "n = 4\n",
    "m = 3\n",
    "set_I = range(0, n)\n",
    "set_J = range(0, m)\n",
    "c = {(i,j): 1 for i in set_I for j in set_J}"
   ]
  },
  {
   "cell_type": "code",
   "execution_count": 11,
   "metadata": {},
   "outputs": [],
   "source": [
    "def find_path_root(now,dfs,path,dfs_node,f):\n",
    "    now.path=path.copy();\n",
    "    now.f=f\n",
    "    now.dfs=dfs;\n",
    "    path.append(now);\n",
    "    dfs_node.append(now);\n",
    "    for i in now.son:\n",
    "        dfs=find_path_root(i,dfs+1,path,dfs_node,now);\n",
    "        \n",
    "    path.remove(now)\n",
    "    now.num_son = dfs-now.dfs;\n",
    "    return dfs"
   ]
  },
  {
   "cell_type": "code",
   "execution_count": 12,
   "metadata": {},
   "outputs": [
    {
     "data": {
      "text/plain": [
       "2"
      ]
     },
     "execution_count": 12,
     "metadata": {},
     "output_type": "execute_result"
    }
   ],
   "source": [
    "dfs_node1=[]\n",
    "dfs_node2=[]\n",
    "find_path_root(a,0,[],dfs_node1,a)\n",
    "find_path_root(e,0,[],dfs_node2,e)"
   ]
  },
  {
   "cell_type": "code",
   "execution_count": 18,
   "metadata": {},
   "outputs": [
    {
     "data": {
      "text/plain": [
       "(array([[0, 1, 2, 3],\n",
       "        [0, 1, 2, 3],\n",
       "        [0, 1, 2, 3]]),\n",
       " array([[0, 0, 0, 0],\n",
       "        [1, 1, 1, 1],\n",
       "        [2, 2, 2, 2]]))"
      ]
     },
     "execution_count": 18,
     "metadata": {},
     "output_type": "execute_result"
    }
   ],
   "source": [
    "i, j = np.meshgrid(np.arange(n, dtype=int), np.arange(m, dtype=int))\n",
    "i,j"
   ]
  },
  {
   "cell_type": "code",
   "execution_count": 84,
   "metadata": {},
   "outputs": [
    {
     "data": {
      "text/plain": [
       "[[0, 0, 0], [0, 0, 0], [0, 0, 0], [0, 0, 0]]"
      ]
     },
     "execution_count": 84,
     "metadata": {},
     "output_type": "execute_result"
    }
   ],
   "source": [
    "x_vars  = [[0 for j in set_J] for i in set_I]\n",
    "s= [[1 for j in set_J] for i in set_I]\n",
    "x_vars"
   ]
  },
  {
   "cell_type": "code",
   "execution_count": 132,
   "metadata": {},
   "outputs": [
    {
     "data": {
      "text/plain": [
       "True"
      ]
     },
     "execution_count": 132,
     "metadata": {},
     "output_type": "execute_result"
    }
   ],
   "source": [
    "np.array([x_vars[1][j] for j in set_J]).sum() !=1"
   ]
  },
  {
   "cell_type": "code",
   "execution_count": 184,
   "metadata": {},
   "outputs": [],
   "source": [
    "def search():\n",
    "    for i in set_I:\n",
    "        if(np.array([x_vars[i][j] for j in set_J]).sum()<1):\n",
    "            return False;\n",
    "        \n",
    "    for j in set_J:\n",
    "        if(np.array([x_vars[i][j] for i in set_I]).sum()<1):\n",
    "            return False\n",
    "\n",
    "    for i in dfs_node1:\n",
    "        for j in dfs_node2:\n",
    "            son_i = [dfs_node1[k] for k in range(i.dfs,i.dfs+i.num_son)];\n",
    "            son_j = [dfs_node2[k] for k in range(j.dfs,j.dfs+j.num_son)];\n",
    "            for k in i.path:\n",
    "                for l in j.path:\n",
    "                    if(k==[]or l==[]):\n",
    "                        continue;\n",
    "                    \n",
    "                    # print(i,j,k,l)\n",
    "                    if(x_vars[k.dfs][j.dfs]+x_vars[i.dfs][l.dfs]+x_vars[k.dfs][l.dfs]<x_vars[i.dfs][j.dfs]):\n",
    "                        return False;\n",
    "        for k in i.path:\n",
    "            for l in son_j:\n",
    "                if(k==[]or l==[]):\n",
    "                    continue;\n",
    "                if(x_vars[i.dfs][j.dfs]+x_vars[k.dfs][l.dfs]>1):\n",
    "                    return False\n",
    "        for k in son_i:\n",
    "            for l in j.path:\n",
    "                if(k==[]or l==[]):\n",
    "                    continue;\n",
    "                if(x_vars[i.dfs][j.dfs]+x_vars[k.dfs][l.dfs]>1):\n",
    "                    return False;\n",
    "        \n",
    "    return True\n",
    "\n",
    "            "
   ]
  },
  {
   "cell_type": "code",
   "execution_count": 185,
   "metadata": {},
   "outputs": [
    {
     "data": {
      "text/plain": [
       "[[1, 1, 1], [1, 1, 1], [1, 1, 1], [1, 1, 1]]"
      ]
     },
     "execution_count": 185,
     "metadata": {},
     "output_type": "execute_result"
    }
   ],
   "source": [
    "x_vars"
   ]
  },
  {
   "cell_type": "code",
   "execution_count": 186,
   "metadata": {},
   "outputs": [
    {
     "data": {
      "text/plain": [
       "(array([[1, 1, 0],\n",
       "        [1, 1, 0],\n",
       "        [1, 1, 1],\n",
       "        [1, 1, 1]]),\n",
       " 10)"
      ]
     },
     "execution_count": 186,
     "metadata": {},
     "output_type": "execute_result"
    }
   ],
   "source": [
    "ans=-1\n",
    "anslist=x_vars.copy();\n",
    "for i in range(pow(2,n*m)):\n",
    "    t=format(i,'0'+str(n*m)+'b')\n",
    "    for idx,j in enumerate(t):\n",
    "        x_vars[int(idx/m)][int(idx%m)]=int(j)\n",
    "    if(search()==True):\n",
    "        \n",
    "        if(ans<= (np.array(s)*np.array(x_vars)).sum() ):\n",
    "            ans= (np.array(s)*np.array(x_vars)).sum()\n",
    "            anslist= np.array(x_vars)\n",
    "anslist,ans"
   ]
  },
  {
   "cell_type": "code",
   "execution_count": 187,
   "metadata": {},
   "outputs": [
    {
     "name": "stdout",
     "output_type": "stream",
     "text": [
      "SOLUTION:\n",
      "\t\tx_0_0=1\n",
      "\t\tx_0_1=1\n",
      "\t\tx_0_2=0\n",
      "\t\tx_1_0=1\n",
      "\t\tx_1_1=1\n",
      "\t\tx_1_2=0\n",
      "\t\tx_2_0=1\n",
      "\t\tx_2_1=1\n",
      "\t\tx_2_2=1\n",
      "\t\tx_3_0=1\n",
      "\t\tx_3_1=1\n",
      "\t\tx_3_2=1\n",
      "OBJECTIVE VALUE: 10\n"
     ]
    }
   ],
   "source": [
    "print('SOLUTION:')\n",
    "for i in range(n*m):\n",
    "    print('\\t\\tx_{}_{}={}'.format(int(i/m),int(i%m),anslist[int(i/m)][int(i%m)]) )\n",
    "print(f'OBJECTIVE VALUE: {ans}')"
   ]
  },
  {
   "cell_type": "code",
   "execution_count": null,
   "metadata": {},
   "outputs": [],
   "source": []
  }
 ],
 "metadata": {
  "kernelspec": {
   "display_name": "base",
   "language": "python",
   "name": "python3"
  },
  "language_info": {
   "codemirror_mode": {
    "name": "ipython",
    "version": 3
   },
   "file_extension": ".py",
   "mimetype": "text/x-python",
   "name": "python",
   "nbconvert_exporter": "python",
   "pygments_lexer": "ipython3",
   "version": "3.8.16"
  }
 },
 "nbformat": 4,
 "nbformat_minor": 2
}
