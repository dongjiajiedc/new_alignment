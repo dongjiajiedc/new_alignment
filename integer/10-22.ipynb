{
 "cells": [
  {
   "cell_type": "code",
   "execution_count": 1,
   "metadata": {},
   "outputs": [],
   "source": [
    "from node import *\n",
    "import pulp as plp\n",
    "import numpy as np\n",
    "import pandas as pd"
   ]
  },
  {
   "cell_type": "code",
   "execution_count": 2,
   "metadata": {},
   "outputs": [],
   "source": [
    "d=node('d',[])\n",
    "b=node('b',[d])\n",
    "c=node('c',[])\n",
    "a=node('a',[b,c]);"
   ]
  },
  {
   "cell_type": "code",
   "execution_count": 3,
   "metadata": {},
   "outputs": [],
   "source": [
    "f=node('f',[])\n",
    "g=node('g',[])\n",
    "e=node('e',[f,g])"
   ]
  },
  {
   "cell_type": "code",
   "execution_count": null,
   "metadata": {},
   "outputs": [],
   "source": []
  },
  {
   "cell_type": "code",
   "execution_count": 4,
   "metadata": {},
   "outputs": [],
   "source": [
    "def find_path_root(now,dfs,path,dfs_node,f):\n",
    "    now.path=path.copy();\n",
    "    now.f=f\n",
    "    now.dfs=dfs;\n",
    "    path.append(now);\n",
    "    dfs_node.append(now);\n",
    "    for i in now.son:\n",
    "        dfs=find_path_root(i,dfs+1,path,dfs_node,now);\n",
    "        \n",
    "    path.remove(now)\n",
    "    now.num_son = dfs-now.dfs;\n",
    "    return dfs\n",
    "n = 4\n",
    "m = 3\n",
    "set_I = range(0, n)\n",
    "set_J = range(0, m)\n",
    "c = {(i,j): 1 for i in set_I for j in set_J}\n"
   ]
  },
  {
   "cell_type": "code",
   "execution_count": 5,
   "metadata": {},
   "outputs": [
    {
     "data": {
      "text/plain": [
       "2"
      ]
     },
     "execution_count": 5,
     "metadata": {},
     "output_type": "execute_result"
    }
   ],
   "source": [
    "dfs_node1=[]\n",
    "dfs_node2=[]\n",
    "find_path_root(a,0,[],dfs_node1,a)\n",
    "find_path_root(e,0,[],dfs_node2,e)"
   ]
  },
  {
   "cell_type": "markdown",
   "metadata": {},
   "source": []
  },
  {
   "cell_type": "code",
   "execution_count": 6,
   "metadata": {},
   "outputs": [],
   "source": [
    "x_vars  = {(i,j):plp.LpVariable(cat=plp.LpBinary, name=\"x_{0}_{1}\".format(i,j)) for i in set_I for j in set_J}\n"
   ]
  },
  {
   "cell_type": "code",
   "execution_count": 7,
   "metadata": {},
   "outputs": [
    {
     "name": "stdout",
     "output_type": "stream",
     "text": [
      "Welcome to the CBC MILP Solver \n",
      "Version: 2.10.3 \n",
      "Build Date: Dec 15 2019 \n",
      "\n",
      "command line - /Users/dongjiajie/opt/anaconda3/lib/python3.8/site-packages/pulp/solverdir/cbc/osx/64/cbc /var/folders/bm/69jvgsdj3rxch558kx9yp9y00000gn/T/bcdd7fb13d4a4ba18e1459bd6ac4a312-pulp.mps max timeMode elapsed branch printingOptions all solution /var/folders/bm/69jvgsdj3rxch558kx9yp9y00000gn/T/bcdd7fb13d4a4ba18e1459bd6ac4a312-pulp.sol (default strategy 1)\n",
      "At line 2 NAME          MODEL\n",
      "At line 3 ROWS\n",
      "At line 23 COLUMNS\n",
      "At line 117 RHS\n",
      "At line 136 BOUNDS\n",
      "At line 149 ENDATA\n",
      "Problem MODEL has 18 rows, 12 columns and 57 elements\n",
      "Coin0008I MODEL read with 0 errors\n",
      "Option for timeMode changed from cpu to elapsed\n",
      "Continuous objective value is 9 - 0.00 seconds\n",
      "Cgl0004I processed model has 15 rows, 11 columns (11 integer (11 of which binary)) and 47 elements\n",
      "Cutoff increment increased from 1e-05 to 0.9999\n",
      "Cbc0038I Initial state - 6 integers unsatisfied sum - 3\n",
      "Cbc0038I Solution found of -6\n",
      "Cbc0038I Before mini branch and bound, 5 integers at bound fixed and 0 continuous\n",
      "Cbc0038I Full problem 15 rows 11 columns, reduced to 10 rows 6 columns\n",
      "Cbc0038I Mini branch and bound improved solution from -6 to -8 (0.04 seconds)\n",
      "Cbc0038I Round again with cutoff of -8.99991\n",
      "Cbc0038I Reduced cost fixing fixed 1 variables on major pass 2\n",
      "Cbc0038I Pass   1: suminf.    2.99991 (6) obj. -8.99991 iterations 3\n",
      "Cbc0038I Pass   2: suminf.    0.00000 (0) obj. -9 iterations 5\n",
      "Cbc0038I Solution found of -9\n",
      "Cbc0038I Before mini branch and bound, 4 integers at bound fixed and 0 continuous\n",
      "Cbc0038I Mini branch and bound did not improve solution (0.04 seconds)\n",
      "Cbc0038I After 0.04 seconds - Feasibility pump exiting with objective of -9 - took 0.00 seconds\n",
      "Cbc0012I Integer solution of -9 found by feasibility pump after 0 iterations and 0 nodes (0.04 seconds)\n",
      "Cbc0001I Search completed - best objective -9, took 0 iterations and 0 nodes (0.04 seconds)\n",
      "Cbc0035I Maximum depth 0, 0 variables fixed on reduced cost\n",
      "Cuts at root node changed objective from -9 to -9\n",
      "Probing was tried 0 times and created 0 cuts of which 0 were active after adding rounds of cuts (0.000 seconds)\n",
      "Gomory was tried 0 times and created 0 cuts of which 0 were active after adding rounds of cuts (0.000 seconds)\n",
      "Knapsack was tried 0 times and created 0 cuts of which 0 were active after adding rounds of cuts (0.000 seconds)\n",
      "Clique was tried 0 times and created 0 cuts of which 0 were active after adding rounds of cuts (0.000 seconds)\n",
      "MixedIntegerRounding2 was tried 0 times and created 0 cuts of which 0 were active after adding rounds of cuts (0.000 seconds)\n",
      "FlowCover was tried 0 times and created 0 cuts of which 0 were active after adding rounds of cuts (0.000 seconds)\n",
      "TwoMirCuts was tried 0 times and created 0 cuts of which 0 were active after adding rounds of cuts (0.000 seconds)\n",
      "ZeroHalf was tried 0 times and created 0 cuts of which 0 were active after adding rounds of cuts (0.000 seconds)\n",
      "\n",
      "Result - Optimal solution found\n",
      "\n",
      "Objective value:                9.00000000\n",
      "Enumerated nodes:               0\n",
      "Total iterations:               0\n",
      "Time (CPU seconds):             0.01\n",
      "Time (Wallclock seconds):       0.04\n",
      "\n",
      "Option for printingOptions changed from normal to all\n",
      "Total time (CPU seconds):       0.01   (Wallclock seconds):       0.06\n",
      "\n"
     ]
    },
    {
     "name": "stderr",
     "output_type": "stream",
     "text": [
      "/Users/dongjiajie/opt/anaconda3/lib/python3.8/site-packages/pulp/pulp.py:1352: UserWarning: Spaces are not permitted in the name. Converted to '_'\n",
      "  warnings.warn(\"Spaces are not permitted in the name. Converted to '_'\")\n"
     ]
    },
    {
     "data": {
      "text/plain": [
       "1"
      ]
     },
     "execution_count": 7,
     "metadata": {},
     "output_type": "execute_result"
    }
   ],
   "source": [
    "opt_model = plp.LpProblem(name=\"MIP Model\")\n",
    "for i in set_I:\n",
    "    opt_model.addConstraint(\n",
    "    plp.LpConstraint(e=plp.lpSum(x_vars[i,j] for j in set_J),\n",
    "                     sense=plp.LpConstraintGE,\n",
    "                     rhs=1,\n",
    "                     name=\"constraintI{0}\".format(i)))\n",
    "\n",
    "for j in set_J:\n",
    "    opt_model.addConstraint(\n",
    "    plp.LpConstraint(e=plp.lpSum(x_vars[i,j] for i in set_I),\n",
    "                     sense=plp.LpConstraintGE,\n",
    "                     rhs=1,\n",
    "                     name=\"constraintJ{0}\".format(j))) \n",
    "for i in dfs_node1:\n",
    "    for j in dfs_node2:\n",
    "        son_i = [dfs_node1[k] for k in range(i.dfs,i.dfs+i.num_son)];\n",
    "        son_j = [dfs_node2[k] for k in range(j.dfs,j.dfs+j.num_son)];\n",
    "        for k in i.path:\n",
    "            for l in j.path:\n",
    "                if(k==[]or l==[]):\n",
    "                    continue;\n",
    "                # print(i,j,k,l)\n",
    "                opt_model.addConstraint(\n",
    "                plp.LpConstraint(e=x_vars[i.dfs,j.dfs]+x_vars[i.dfs,l.dfs]+x_vars[k.dfs,j.dfs],\n",
    "                                sense=plp.LpConstraintLE,\n",
    "                                rhs=2,\n",
    "                                name=\"constraint{}_{}_{}_{}_1\".format(i,j,k,l)))\n",
    "for i in dfs_node1:\n",
    "    if(len(i.son)==2):\n",
    "        l=i.son[0];\n",
    "        r=i.son[1];\n",
    "        for j in dfs_node2:\n",
    "            opt_model.addConstraint(\n",
    "            plp.LpConstraint(e=x_vars[l.dfs,j.dfs]+x_vars[r.dfs,j.dfs]-x_vars[i.dfs,j.dfs],\n",
    "                                sense=plp.LpConstraintLE,\n",
    "                                rhs=1,\n",
    "                                name=\"constraint{}_{}_{}_{}_1\".format(i,j,k,l)))\n",
    "                \n",
    "\n",
    "objective = plp.lpSum(x_vars[i,j] * c[i,j] for i in set_I for j in set_J)\n",
    "opt_model.sense = plp.LpMaximize\n",
    "opt_model.setObjective(objective)\n",
    "opt_model.solve()"
   ]
  },
  {
   "cell_type": "code",
   "execution_count": 8,
   "metadata": {},
   "outputs": [
    {
     "name": "stdout",
     "output_type": "stream",
     "text": [
      "SOLUTION:\n",
      "\t\tx_0_0 = 1.0\n",
      "\t\tx_0_1 = 1.0\n",
      "\t\tx_0_2 = 1.0\n",
      "\t\tx_1_0 = 0.0\n",
      "\t\tx_1_1 = 1.0\n",
      "\t\tx_1_2 = 1.0\n",
      "\t\tx_2_0 = 0.0\n",
      "\t\tx_2_1 = 1.0\n",
      "\t\tx_2_2 = 1.0\n",
      "\t\tx_3_0 = 0.0\n",
      "\t\tx_3_1 = 1.0\n",
      "\t\tx_3_2 = 1.0\n",
      "\n",
      "\n",
      "OBJECTIVE VALUE: 9.0\n"
     ]
    }
   ],
   "source": [
    "print('SOLUTION:')\n",
    "for v in opt_model.variables():\n",
    "    print(f'\\t\\t{v.name} = {v.varValue}')\n",
    "\n",
    "print('\\n') # Prints a blank line\n",
    "print(f'OBJECTIVE VALUE: {opt_model.objective.value()}')"
   ]
  },
  {
   "cell_type": "code",
   "execution_count": null,
   "metadata": {},
   "outputs": [],
   "source": []
  },
  {
   "cell_type": "code",
   "execution_count": 59,
   "metadata": {},
   "outputs": [
    {
     "data": {
      "text/plain": [
       "a_e"
      ]
     },
     "execution_count": 59,
     "metadata": {},
     "output_type": "execute_result"
    }
   ],
   "source": [
    "result_node = []\n",
    "for v in opt_model.variables():\n",
    "    if(v.value()==0):\n",
    "        continue\n",
    "    l = int(v.name.split('_')[1])\n",
    "    r = int(v.name.split('_')[2])\n",
    "    tn = newnode(dfs_node1[l],dfs_node2[r])\n",
    "    result_node.append(tn);\n",
    "    \n",
    "for i in range(len(result_node)):\n",
    "    for j in range(len(result_node)):\n",
    "        if(i==j):\n",
    "            continue\n",
    "        p1 = result_node[i]\n",
    "        p2 = result_node[j]\n",
    "        if((p1.node1 in p2.node1.path or p1.node1 == p2.node1) and (p1.node2 in p2.node2.path or p1.node2==p2.node2)):\n",
    "            result_node[i].edge.append(result_node[j])\n",
    "            result_node[j].indegree +=1\n",
    "\n",
    "def find_indgee(lists,indegree):\n",
    "    ans=[]\n",
    "    for i in lists:\n",
    "        if(i.indegree == indegree):\n",
    "            ans.append(i);\n",
    "    return ans;\n",
    "root=find_indgee(result_node,0)[0]\n",
    "root"
   ]
  },
  {
   "cell_type": "code",
   "execution_count": 65,
   "metadata": {},
   "outputs": [
    {
     "name": "stdout",
     "output_type": "stream",
     "text": [
      "a_e [a_f, a_g, b_f, b_g, d_f, d_g, c_f, c_g]\n",
      "[a_f, a_g]\n",
      "a_f [b_f, b_g, d_f, d_g, c_f, c_g]\n",
      "[b_f, c_f]\n",
      "a_g [b_g, d_f, d_g, c_g]\n",
      "[b_g, c_g]\n",
      "b_f [d_f, d_g]\n",
      "[d_f]\n",
      "c_f [d_g]\n",
      "[]\n",
      "b_g [d_g]\n",
      "[d_g]\n",
      "c_g []\n",
      "[]\n",
      "d_f []\n",
      "[]\n",
      "d_g []\n",
      "[]\n"
     ]
    }
   ],
   "source": [
    "vis = result_node.copy()\n",
    "nbs = find_indgee(vis,0)\n",
    "vis.remove(nbs[0]);\n",
    "while(len(nbs)!=0):\n",
    "    node = nbs[0]\n",
    "    nbs.pop(0)\n",
    "    sons = find_indgee(node.edge,1);\n",
    "    print(node,vis)\n",
    "    for i in sons:\n",
    "        i.f = node;\n",
    "    for i in node.edge:\n",
    "        i.indegree = i.indegree - 1;\n",
    "    rs = find_indgee(vis,0)\n",
    "    \n",
    "    print(rs)\n",
    "    for i in rs:\n",
    "        vis.remove(i)\n",
    "    nbs.extend(rs)\n"
   ]
  },
  {
   "cell_type": "code",
   "execution_count": 67,
   "metadata": {},
   "outputs": [
    {
     "name": "stdout",
     "output_type": "stream",
     "text": [
      "a_e None\n",
      "a_f a_e\n",
      "a_g a_e\n",
      "b_f a_f\n",
      "b_g a_g\n",
      "d_f b_f\n",
      "d_g b_g\n",
      "c_f a_f\n",
      "c_g a_g\n"
     ]
    }
   ],
   "source": [
    "for i in result_node:\n",
    "    print(i,i.f)"
   ]
  },
  {
   "cell_type": "code",
   "execution_count": null,
   "metadata": {},
   "outputs": [],
   "source": []
  },
  {
   "cell_type": "code",
   "execution_count": 11,
   "metadata": {},
   "outputs": [
    {
     "data": {
      "text/plain": [
       "1.0"
      ]
     },
     "execution_count": 11,
     "metadata": {},
     "output_type": "execute_result"
    }
   ],
   "source": [
    "opt_model.variables()[0].varValue"
   ]
  },
  {
   "cell_type": "code",
   "execution_count": 5,
   "metadata": {},
   "outputs": [],
   "source": [
    "c0=node('b7',[])\n",
    "d0=node('b8',[])\n",
    "f0=node('b3',[])\n",
    "h0=node('b5',[])\n",
    "b0=node('b6',[c0,d0])\n",
    "g0=node('b4',[h0])\n",
    "e0=node('b2',[f0,g0])\n",
    "a0=node('b1',[b0,e0])\n",
    "\n"
   ]
  },
  {
   "cell_type": "code",
   "execution_count": 6,
   "metadata": {},
   "outputs": [],
   "source": [
    "f1=node('r9',[])\n",
    "g1=node('r10',[])\n",
    "d1=node('r7',[])\n",
    "e1=node('r8',[f1,g1])\n",
    "c1=node('r6',[d1,e1])\n",
    "b1=node('r5',[c1])\n",
    "j1=node('r4',[])\n",
    "i1=node('r3',[j1])\n",
    "h1=node('r2',[i1])\n",
    "a1=node('r1',[b1,h1])"
   ]
  },
  {
   "cell_type": "code",
   "execution_count": 18,
   "metadata": {},
   "outputs": [],
   "source": [
    "def find_path_root(now,dfs,path,dfs_node,f):\n",
    "    now.path=path.copy();\n",
    "    now.f=f\n",
    "    now.dfs=dfs;\n",
    "    path.append(now);\n",
    "    dfs_node.append(now);\n",
    "    for i in now.son:\n",
    "        dfs=find_path_root(i,dfs+1,path,dfs_node,now);\n",
    "        \n",
    "    path.remove(now)\n",
    "    now.num_son = dfs-now.dfs;\n",
    "    return dfs\n",
    "n = 8\n",
    "m = 10\n",
    "set_I = range(0, n)\n",
    "set_J = range(0, m)\n",
    "c = {(i,j): 0 for i in set_I for j in set_J}\n"
   ]
  },
  {
   "cell_type": "code",
   "execution_count": 24,
   "metadata": {},
   "outputs": [],
   "source": [
    "temp = [(1,1),(5,8),(6,8),(7,9),(8,9),(7,10),(1,2),(1,3),(2,2),(3,2),(4,2),(1,4),(1,5),(1,6),(1,7)]\n",
    "for i,j in temp:\n",
    "    c[(i-1,j-1)]=10;"
   ]
  },
  {
   "cell_type": "code",
   "execution_count": 25,
   "metadata": {},
   "outputs": [],
   "source": [
    "dfs_node1=[]\n",
    "dfs_node2=[]\n",
    "find_path_root(a0,0,[],dfs_node1,a0)\n",
    "find_path_root(a1,0,[],dfs_node2,a1)\n",
    "x_vars  = {(i,j):plp.LpVariable(cat=plp.LpBinary, name=\"x_{0}_{1}\".format(dfs_node1[i],dfs_node2[j])) for i in set_I for j in set_J}\n"
   ]
  },
  {
   "cell_type": "code",
   "execution_count": 26,
   "metadata": {},
   "outputs": [
    {
     "name": "stdout",
     "output_type": "stream",
     "text": [
      "Welcome to the CBC MILP Solver \n",
      "Version: 2.10.3 \n",
      "Build Date: Dec 15 2019 \n",
      "\n",
      "command line - /Users/dongjiajie/opt/anaconda3/lib/python3.8/site-packages/pulp/solverdir/cbc/osx/64/cbc /var/folders/bm/69jvgsdj3rxch558kx9yp9y00000gn/T/c4e6385c4f6144ada8bb7fd58c48d0e8-pulp.mps max timeMode elapsed branch printingOptions all solution /var/folders/bm/69jvgsdj3rxch558kx9yp9y00000gn/T/c4e6385c4f6144ada8bb7fd58c48d0e8-pulp.sol (default strategy 1)\n",
      "At line 2 NAME          MODEL\n",
      "At line 3 ROWS\n",
      "At line 352 COLUMNS\n",
      "At line 1676 RHS\n",
      "At line 2024 BOUNDS\n",
      "At line 2105 ENDATA\n",
      "Problem MODEL has 347 rows, 80 columns and 1147 elements\n",
      "Coin0008I MODEL read with 0 errors\n",
      "Option for timeMode changed from cpu to elapsed\n",
      "Continuous objective value is 150 - 0.00 seconds\n",
      "Cgl0004I processed model has 344 rows, 79 columns (79 integer (79 of which binary)) and 1126 elements\n",
      "Cutoff increment increased from 1e-05 to 9.9999\n",
      "Cbc0045I 15 integer variables out of 79 objects (79 integer) have cost of -10 - high priority\n",
      "Cbc0045I branch on satisfied N create fake objective Y random cost Y\n",
      "Cbc0038I Initial state - 0 integers unsatisfied sum - 0\n",
      "Cbc0038I Solution found of -150\n",
      "Cbc0038I Before mini branch and bound, 79 integers at bound fixed and 0 continuous\n",
      "Cbc0038I Mini branch and bound did not improve solution (0.01 seconds)\n",
      "Cbc0038I After 0.01 seconds - Feasibility pump exiting with objective of -150 - took 0.00 seconds\n",
      "Cbc0012I Integer solution of -150 found by feasibility pump after 0 iterations and 0 nodes (0.01 seconds)\n",
      "Cbc0001I Search completed - best objective -150, took 0 iterations and 0 nodes (0.01 seconds)\n",
      "Cbc0035I Maximum depth 0, 0 variables fixed on reduced cost\n",
      "Cuts at root node changed objective from -150 to -150\n",
      "Probing was tried 0 times and created 0 cuts of which 0 were active after adding rounds of cuts (0.000 seconds)\n",
      "Gomory was tried 0 times and created 0 cuts of which 0 were active after adding rounds of cuts (0.000 seconds)\n",
      "Knapsack was tried 0 times and created 0 cuts of which 0 were active after adding rounds of cuts (0.000 seconds)\n",
      "Clique was tried 0 times and created 0 cuts of which 0 were active after adding rounds of cuts (0.000 seconds)\n",
      "MixedIntegerRounding2 was tried 0 times and created 0 cuts of which 0 were active after adding rounds of cuts (0.000 seconds)\n",
      "FlowCover was tried 0 times and created 0 cuts of which 0 were active after adding rounds of cuts (0.000 seconds)\n",
      "TwoMirCuts was tried 0 times and created 0 cuts of which 0 were active after adding rounds of cuts (0.000 seconds)\n",
      "ZeroHalf was tried 0 times and created 0 cuts of which 0 were active after adding rounds of cuts (0.000 seconds)\n",
      "\n",
      "Result - Optimal solution found\n",
      "\n",
      "Objective value:                150.00000000\n",
      "Enumerated nodes:               0\n",
      "Total iterations:               0\n",
      "Time (CPU seconds):             0.01\n",
      "Time (Wallclock seconds):       0.01\n",
      "\n",
      "Option for printingOptions changed from normal to all\n",
      "Total time (CPU seconds):       0.01   (Wallclock seconds):       0.01\n",
      "\n"
     ]
    },
    {
     "data": {
      "text/plain": [
       "1"
      ]
     },
     "execution_count": 26,
     "metadata": {},
     "output_type": "execute_result"
    }
   ],
   "source": [
    "opt_model = plp.LpProblem(name=\"MIP Model\")\n",
    "for i in set_I:\n",
    "    opt_model.addConstraint(\n",
    "    plp.LpConstraint(e=plp.lpSum(x_vars[i,j] for j in set_J),\n",
    "                     sense=plp.LpConstraintGE,\n",
    "                     rhs=1,\n",
    "                     name=\"constraintI{0}\".format(i)))\n",
    "\n",
    "for j in set_J:\n",
    "    opt_model.addConstraint(\n",
    "    plp.LpConstraint(e=plp.lpSum(x_vars[i,j] for i in set_I),\n",
    "                     sense=plp.LpConstraintGE,\n",
    "                     rhs=1,\n",
    "                     name=\"constraintJ{0}\".format(j))) \n",
    "for i in dfs_node1:\n",
    "    for j in dfs_node2:\n",
    "        son_i = [dfs_node1[k] for k in range(i.dfs,i.dfs+i.num_son)];\n",
    "        son_j = [dfs_node2[k] for k in range(j.dfs,j.dfs+j.num_son)];\n",
    "        for k in i.path:\n",
    "            for l in j.path:\n",
    "                if(k==[]or l==[]):\n",
    "                    continue;\n",
    "                # print(i,j,k,l)\n",
    "                opt_model.addConstraint(\n",
    "                plp.LpConstraint(e=x_vars[i.dfs,j.dfs]+x_vars[i.dfs,l.dfs]+x_vars[k.dfs,j.dfs],\n",
    "                                sense=plp.LpConstraintLE,\n",
    "                                rhs=2,\n",
    "                                name=\"constraint{}_{}_{}_{}_1\".format(i,j,k,l)))\n",
    "for i in dfs_node1:\n",
    "    if(len(i.son)==2):\n",
    "        l=i.son[0];\n",
    "        r=i.son[1];\n",
    "        for j in dfs_node2:\n",
    "            opt_model.addConstraint(\n",
    "            plp.LpConstraint(e=x_vars[l.dfs,j.dfs]+x_vars[r.dfs,j.dfs]-x_vars[i.dfs,j.dfs],\n",
    "                                sense=plp.LpConstraintLE,\n",
    "                                rhs=1,\n",
    "                                name=\"constraint{}_{}_{}_{}_1\".format(i,j,k,l)))\n",
    "                \n",
    "\n",
    "objective = plp.lpSum(x_vars[i,j] * c[i,j] for i in set_I for j in set_J)\n",
    "opt_model.sense = plp.LpMaximize\n",
    "opt_model.setObjective(objective)\n",
    "opt_model.solve()"
   ]
  },
  {
   "cell_type": "code",
   "execution_count": 27,
   "metadata": {},
   "outputs": [
    {
     "name": "stdout",
     "output_type": "stream",
     "text": [
      "SOLUTION:\n",
      "\t\tx_b1_r1 = 1.0\n",
      "\t\tx_b1_r10 = 1.0\n",
      "\t\tx_b1_r2 = 0.0\n",
      "\t\tx_b1_r3 = 0.0\n",
      "\t\tx_b1_r4 = 0.0\n",
      "\t\tx_b1_r5 = 1.0\n",
      "\t\tx_b1_r6 = 1.0\n",
      "\t\tx_b1_r7 = 1.0\n",
      "\t\tx_b1_r8 = 1.0\n",
      "\t\tx_b1_r9 = 1.0\n",
      "\t\tx_b2_r1 = 0.0\n",
      "\t\tx_b2_r10 = 0.0\n",
      "\t\tx_b2_r2 = 1.0\n",
      "\t\tx_b2_r3 = 0.0\n",
      "\t\tx_b2_r4 = 0.0\n",
      "\t\tx_b2_r5 = 0.0\n",
      "\t\tx_b2_r6 = 0.0\n",
      "\t\tx_b2_r7 = 0.0\n",
      "\t\tx_b2_r8 = 0.0\n",
      "\t\tx_b2_r9 = 0.0\n",
      "\t\tx_b3_r1 = 0.0\n",
      "\t\tx_b3_r10 = 0.0\n",
      "\t\tx_b3_r2 = 1.0\n",
      "\t\tx_b3_r3 = 0.0\n",
      "\t\tx_b3_r4 = 0.0\n",
      "\t\tx_b3_r5 = 0.0\n",
      "\t\tx_b3_r6 = 0.0\n",
      "\t\tx_b3_r7 = 0.0\n",
      "\t\tx_b3_r8 = 0.0\n",
      "\t\tx_b3_r9 = 0.0\n",
      "\t\tx_b4_r1 = 0.0\n",
      "\t\tx_b4_r10 = 0.0\n",
      "\t\tx_b4_r2 = 0.0\n",
      "\t\tx_b4_r3 = 1.0\n",
      "\t\tx_b4_r4 = 1.0\n",
      "\t\tx_b4_r5 = 0.0\n",
      "\t\tx_b4_r6 = 0.0\n",
      "\t\tx_b4_r7 = 0.0\n",
      "\t\tx_b4_r8 = 0.0\n",
      "\t\tx_b4_r9 = 0.0\n",
      "\t\tx_b5_r1 = 0.0\n",
      "\t\tx_b5_r10 = 0.0\n",
      "\t\tx_b5_r2 = 0.0\n",
      "\t\tx_b5_r3 = 1.0\n",
      "\t\tx_b5_r4 = 0.0\n",
      "\t\tx_b5_r5 = 0.0\n",
      "\t\tx_b5_r6 = 0.0\n",
      "\t\tx_b5_r7 = 0.0\n",
      "\t\tx_b5_r8 = 0.0\n",
      "\t\tx_b5_r9 = 0.0\n",
      "\t\tx_b6_r1 = 0.0\n",
      "\t\tx_b6_r10 = 0.0\n",
      "\t\tx_b6_r2 = 0.0\n",
      "\t\tx_b6_r3 = 0.0\n",
      "\t\tx_b6_r4 = 0.0\n",
      "\t\tx_b6_r5 = 1.0\n",
      "\t\tx_b6_r6 = 0.0\n",
      "\t\tx_b6_r7 = 0.0\n",
      "\t\tx_b6_r8 = 0.0\n",
      "\t\tx_b6_r9 = 0.0\n",
      "\t\tx_b7_r1 = 0.0\n",
      "\t\tx_b7_r10 = 0.0\n",
      "\t\tx_b7_r2 = 0.0\n",
      "\t\tx_b7_r3 = 0.0\n",
      "\t\tx_b7_r4 = 0.0\n",
      "\t\tx_b7_r5 = 1.0\n",
      "\t\tx_b7_r6 = 0.0\n",
      "\t\tx_b7_r7 = 0.0\n",
      "\t\tx_b7_r8 = 0.0\n",
      "\t\tx_b7_r9 = 0.0\n",
      "\t\tx_b8_r1 = 0.0\n",
      "\t\tx_b8_r10 = 0.0\n",
      "\t\tx_b8_r2 = 0.0\n",
      "\t\tx_b8_r3 = 0.0\n",
      "\t\tx_b8_r4 = 0.0\n",
      "\t\tx_b8_r5 = 0.0\n",
      "\t\tx_b8_r6 = 0.0\n",
      "\t\tx_b8_r7 = 0.0\n",
      "\t\tx_b8_r8 = 1.0\n",
      "\t\tx_b8_r9 = 0.0\n",
      "\n",
      "\n",
      "OBJECTIVE VALUE: 150.0\n"
     ]
    }
   ],
   "source": [
    "print('SOLUTION:')\n",
    "for v in opt_model.variables():\n",
    "    print(f'\\t\\t{v.name} = {v.varValue}')\n",
    "\n",
    "print('\\n') # Prints a blank line\n",
    "print(f'OBJECTIVE VALUE: {opt_model.objective.value()}')"
   ]
  },
  {
   "cell_type": "code",
   "execution_count": null,
   "metadata": {},
   "outputs": [],
   "source": []
  }
 ],
 "metadata": {
  "kernelspec": {
   "display_name": "capital",
   "language": "python",
   "name": "python3"
  },
  "language_info": {
   "codemirror_mode": {
    "name": "ipython",
    "version": 3
   },
   "file_extension": ".py",
   "mimetype": "text/x-python",
   "name": "python",
   "nbconvert_exporter": "python",
   "pygments_lexer": "ipython3",
   "version": "3.8.16"
  }
 },
 "nbformat": 4,
 "nbformat_minor": 2
}
