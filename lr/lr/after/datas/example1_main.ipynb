{
 "cells": [
  {
   "cell_type": "code",
   "execution_count": 1,
   "metadata": {},
   "outputs": [],
   "source": [
    "from core import *\n",
    "import warnings\n",
    "warnings.filterwarnings('ignore')"
   ]
  },
  {
   "cell_type": "code",
   "execution_count": 2,
   "metadata": {},
   "outputs": [],
   "source": [
    "cell_path1 = './lr/after/datas/all_a/all_a.h5ad' #path for single-cell data1\n",
    "folder_path1 = './lr/after/datas/all_a/'    #folder to save the results\n",
    "radius1 = 0 # parameter for converting into meta cell\n",
    "\n",
    "cell_path2 = './lr/after/datas/all_b/all_b.h5ad' #path for single-cell data2\n",
    "folder_path2 = './lr/after/datas/all_b/'  \n",
    "radius2 = 0\n",
    "\n",
    "resolution=0.4 #parameter for clustering\n",
    "method='average' # method we calcuclate the center value \n",
    " \n",
    "n_pca = 20 #pca number\n",
    "meta_col = 'batch' #celltype col in the single-cell file\n",
    "epoches1 = 10 #number for embedding\n",
    "epoches2 = 2 #number for rotation\n",
    "\n",
    "c1=0.5 # threshold for merging\n",
    "c2=1  # threshold for merging"
   ]
  },
  {
   "cell_type": "code",
   "execution_count": 58,
   "metadata": {},
   "outputs": [
    {
     "name": "stderr",
     "output_type": "stream",
     "text": [
      "100%|████████████████████████████████████| 800/800 [00:00<00:00, 1890390.54it/s]\n"
     ]
    }
   ],
   "source": [
    "merge_by_radius(cell_path1,folder_path1,radius1,method,meta_col)\n"
   ]
  },
  {
   "cell_type": "code",
   "execution_count": 59,
   "metadata": {},
   "outputs": [
    {
     "name": "stderr",
     "output_type": "stream",
     "text": [
      "100%|████████████████████████████████████| 800/800 [00:00<00:00, 2184533.33it/s]\n"
     ]
    }
   ],
   "source": [
    "merge_by_radius(cell_path2,folder_path2,radius2,method,meta_col)\n"
   ]
  },
  {
   "cell_type": "code",
   "execution_count": 3,
   "metadata": {},
   "outputs": [],
   "source": [
    "adata1 = sc.read_h5ad(folder_path1+ 'adata.h5ad')\n",
    "adata2 = sc.read_h5ad(folder_path2+ 'adata.h5ad')"
   ]
  },
  {
   "cell_type": "code",
   "execution_count": 4,
   "metadata": {},
   "outputs": [
    {
     "name": "stderr",
     "output_type": "stream",
     "text": [
      "2024-06-10 16:08:43.384658: I tensorflow/core/platform/cpu_feature_guard.cc:182] This TensorFlow binary is optimized to use available CPU instructions in performance-critical operations.\n",
      "To enable the following instructions: AVX2 AVX512F AVX512_VNNI FMA, in other operations, rebuild TensorFlow with the appropriate compiler flags.\n"
     ]
    }
   ],
   "source": [
    "preprocessing_cluster(adata1,N_pcs=n_pca,resolution=resolution)\n",
    "preprocessing_cluster(adata2,N_pcs=n_pca,resolution=resolution)\n",
    "\n",
    "inter_gene = sort_data(adata1,adata2)\n",
    "\n",
    "tmp1 = calculate_cluster_centroid_for_genes(adata1,inter_gene,folder_path1)\n",
    "tmp2 = calculate_cluster_centroid_for_genes(adata2,inter_gene,folder_path2)\n",
    "\n",
    "meta_list1 = calculate_cluster_celltype(adata1);\n",
    "meta_list2 = calculate_cluster_celltype(adata2);"
   ]
  },
  {
   "cell_type": "code",
   "execution_count": 5,
   "metadata": {},
   "outputs": [
    {
     "data": {
      "text/html": [
       "<div>\n",
       "<style scoped>\n",
       "    .dataframe tbody tr th:only-of-type {\n",
       "        vertical-align: middle;\n",
       "    }\n",
       "\n",
       "    .dataframe tbody tr th {\n",
       "        vertical-align: top;\n",
       "    }\n",
       "\n",
       "    .dataframe thead tr th {\n",
       "        text-align: left;\n",
       "    }\n",
       "\n",
       "    .dataframe thead tr:last-of-type th {\n",
       "        text-align: right;\n",
       "    }\n",
       "</style>\n",
       "<table border=\"1\" class=\"dataframe\">\n",
       "  <thead>\n",
       "    <tr>\n",
       "      <th></th>\n",
       "      <th colspan=\"4\" halign=\"left\">celltype</th>\n",
       "    </tr>\n",
       "    <tr>\n",
       "      <th></th>\n",
       "      <th>count</th>\n",
       "      <th>unique</th>\n",
       "      <th>top</th>\n",
       "      <th>freq</th>\n",
       "    </tr>\n",
       "    <tr>\n",
       "      <th>leiden</th>\n",
       "      <th></th>\n",
       "      <th></th>\n",
       "      <th></th>\n",
       "      <th></th>\n",
       "    </tr>\n",
       "  </thead>\n",
       "  <tbody>\n",
       "    <tr>\n",
       "      <th>0</th>\n",
       "      <td>200</td>\n",
       "      <td>1</td>\n",
       "      <td>1</td>\n",
       "      <td>200</td>\n",
       "    </tr>\n",
       "    <tr>\n",
       "      <th>1</th>\n",
       "      <td>200</td>\n",
       "      <td>1</td>\n",
       "      <td>2</td>\n",
       "      <td>200</td>\n",
       "    </tr>\n",
       "    <tr>\n",
       "      <th>2</th>\n",
       "      <td>200</td>\n",
       "      <td>1</td>\n",
       "      <td>3</td>\n",
       "      <td>200</td>\n",
       "    </tr>\n",
       "    <tr>\n",
       "      <th>3</th>\n",
       "      <td>200</td>\n",
       "      <td>1</td>\n",
       "      <td>0</td>\n",
       "      <td>200</td>\n",
       "    </tr>\n",
       "  </tbody>\n",
       "</table>\n",
       "</div>"
      ],
      "text/plain": [
       "       celltype                \n",
       "          count unique top freq\n",
       "leiden                         \n",
       "0           200      1   1  200\n",
       "1           200      1   2  200\n",
       "2           200      1   3  200\n",
       "3           200      1   0  200"
      ]
     },
     "execution_count": 5,
     "metadata": {},
     "output_type": "execute_result"
    }
   ],
   "source": [
    "adata1.obs.groupby('leiden').describe()"
   ]
  },
  {
   "cell_type": "code",
   "execution_count": 6,
   "metadata": {},
   "outputs": [
    {
     "data": {
      "text/html": [
       "<div>\n",
       "<style scoped>\n",
       "    .dataframe tbody tr th:only-of-type {\n",
       "        vertical-align: middle;\n",
       "    }\n",
       "\n",
       "    .dataframe tbody tr th {\n",
       "        vertical-align: top;\n",
       "    }\n",
       "\n",
       "    .dataframe thead tr th {\n",
       "        text-align: left;\n",
       "    }\n",
       "\n",
       "    .dataframe thead tr:last-of-type th {\n",
       "        text-align: right;\n",
       "    }\n",
       "</style>\n",
       "<table border=\"1\" class=\"dataframe\">\n",
       "  <thead>\n",
       "    <tr>\n",
       "      <th></th>\n",
       "      <th colspan=\"4\" halign=\"left\">celltype</th>\n",
       "    </tr>\n",
       "    <tr>\n",
       "      <th></th>\n",
       "      <th>count</th>\n",
       "      <th>unique</th>\n",
       "      <th>top</th>\n",
       "      <th>freq</th>\n",
       "    </tr>\n",
       "    <tr>\n",
       "      <th>leiden</th>\n",
       "      <th></th>\n",
       "      <th></th>\n",
       "      <th></th>\n",
       "      <th></th>\n",
       "    </tr>\n",
       "  </thead>\n",
       "  <tbody>\n",
       "    <tr>\n",
       "      <th>0</th>\n",
       "      <td>200</td>\n",
       "      <td>1</td>\n",
       "      <td>3</td>\n",
       "      <td>200</td>\n",
       "    </tr>\n",
       "    <tr>\n",
       "      <th>1</th>\n",
       "      <td>200</td>\n",
       "      <td>1</td>\n",
       "      <td>1</td>\n",
       "      <td>200</td>\n",
       "    </tr>\n",
       "    <tr>\n",
       "      <th>2</th>\n",
       "      <td>200</td>\n",
       "      <td>1</td>\n",
       "      <td>2</td>\n",
       "      <td>200</td>\n",
       "    </tr>\n",
       "    <tr>\n",
       "      <th>3</th>\n",
       "      <td>200</td>\n",
       "      <td>1</td>\n",
       "      <td>0</td>\n",
       "      <td>200</td>\n",
       "    </tr>\n",
       "  </tbody>\n",
       "</table>\n",
       "</div>"
      ],
      "text/plain": [
       "       celltype                \n",
       "          count unique top freq\n",
       "leiden                         \n",
       "0           200      1   3  200\n",
       "1           200      1   1  200\n",
       "2           200      1   2  200\n",
       "3           200      1   0  200"
      ]
     },
     "execution_count": 6,
     "metadata": {},
     "output_type": "execute_result"
    }
   ],
   "source": [
    "adata2.obs.groupby('leiden').describe()"
   ]
  },
  {
   "cell_type": "code",
   "execution_count": 7,
   "metadata": {},
   "outputs": [
    {
     "name": "stdout",
     "output_type": "stream",
     "text": [
      "./lr/after/datas/all_a/datas.data length:4\n",
      "Generating all pairs superset\n",
      "\t Epoch 0 | average train loss: 0.896430\n",
      "Optimization finished.\n",
      "\t Epoch 1 | average train loss: 0.902411\n",
      "Optimization finished.\n",
      "\t Epoch 2 | average train loss: 0.902368\n",
      "Optimization finished.\n",
      "\t Epoch 3 | average train loss: 0.902007\n",
      "Optimization finished.\n",
      "\t Epoch 4 | average train loss: 0.901593\n",
      "Optimization finished.\n",
      "\t Epoch 5 | average train loss: 0.899791\n",
      "Optimization finished.\n",
      "\t Epoch 6 | average train loss: 0.890219\n",
      "Optimization finished.\n",
      "\t Epoch 7 | average train loss: 0.891430\n",
      "Optimization finished.\n",
      "\t Epoch 8 | average train loss: 0.890606\n",
      "Optimization finished.\n",
      "\t Epoch 9 | average train loss: 0.890913\n",
      "Optimization finished.\n",
      "\t Epoch 0 | average train loss1: 0.311289\n",
      "\t Epoch 0 | average train loss2: 0.298144\n",
      "\t Epoch 1 | average train loss1: 0.286719\n",
      "\t Epoch 1 | average train loss2: 0.281726\n"
     ]
    },
    {
     "data": {
      "image/png": "[encoded data removed]",
      "text/plain": [
       "<Figure size 1500x1500 with 1 Axes>"
      ]
     },
     "metadata": {},
     "output_type": "display_data"
    }
   ],
   "source": [
    "embeddings1,nodes1 = get_Hyper_tree(folder_path1 +'datas.data',1,tmp1.shape[1]+1,0,epoches1,epoches2,meta_list1,save_path=folder_path1)"
   ]
  },
  {
   "cell_type": "code",
   "execution_count": 8,
   "metadata": {},
   "outputs": [
    {
     "name": "stdout",
     "output_type": "stream",
     "text": [
      "4 3\n",
      "5 2\n",
      "False\n",
      "6 3\n",
      "False\n",
      "True\n",
      "{'3': '#184e77', '1': '#1a759f', '0': '#168aad', '2': '#34a0a4', 'empty': '#fff'}\n"
     ]
    },
    {
     "data": {
      "application/vnd.plotly.v1+json": {
       "config": {
        "plotlyServerURL": "https://plot.ly"
       },
       "data": [
        {
         "hoverinfo": "text",
         "hovertext": [
          "2_3"
         ],
         "legendgroup": "3",
         "marker": {
          "color": "#184e77",
          "size": 10,
          "symbol": "circle-dot"
         },
         "mode": "markers+text",
         "name": "3",
         "type": "scatter",
         "x": [
          7.75
         ],
         "y": [
          3.5
         ]
        },
        {
         "hoverinfo": "text",
         "hovertext": [
          "0_1"
         ],
         "legendgroup": "1",
         "marker": {
          "color": "#1a759f",
          "size": 10,
          "symbol": "circle-dot"
         },
         "mode": "markers+text",
         "name": "1",
         "type": "scatter",
         "x": [
          7.75
         ],
         "y": [
          2
         ]
        },
        {
         "hoverinfo": "text",
         "hovertext": [
          "3_0"
         ],
         "legendgroup": "0",
         "marker": {
          "color": "#168aad",
          "size": 10,
          "symbol": "circle-dot"
         },
         "mode": "markers+text",
         "name": "0",
         "type": "scatter",
         "x": [
          5.5
         ],
         "y": [
          5
         ]
        },
        {
         "hoverinfo": "text",
         "hovertext": [
          "1_2"
         ],
         "legendgroup": "2",
         "marker": {
          "color": "#34a0a4",
          "size": 10,
          "symbol": "circle-dot"
         },
         "mode": "markers+text",
         "name": "2",
         "type": "scatter",
         "x": [
          3.25
         ],
         "y": [
          3.5
         ]
        }
       ],
       "layout": {
        "height": 500,
        "shapes": [
         {
          "layer": "below",
          "line": {
           "color": "#333",
           "width": 2
          },
          "type": "line",
          "x0": 5.5,
          "x1": 5.5,
          "y0": 5,
          "y1": 5
         },
         {
          "layer": "below",
          "line": {
           "color": "#333",
           "width": 2
          },
          "type": "line",
          "x0": 5.5,
          "x1": 3.25,
          "y0": 5,
          "y1": 3.5
         },
         {
          "layer": "below",
          "line": {
           "color": "#333",
           "width": 2
          },
          "type": "line",
          "x0": 5.5,
          "x1": 7.75,
          "y0": 5,
          "y1": 3.5
         },
         {
          "layer": "below",
          "line": {
           "color": "#333",
           "width": 2
          },
          "type": "line",
          "x0": 7.75,
          "x1": 7.75,
          "y0": 3.5,
          "y1": 2
         }
        ],
        "template": {
         "data": {
          "bar": [
           {
            "error_x": {
             "color": "#2a3f5f"
            },
            "error_y": {
             "color": "#2a3f5f"
            },
            "marker": {
             "line": {
              "color": "#E5ECF6",
              "width": 0.5
             },
             "pattern": {
              "fillmode": "overlay",
              "size": 10,
              "solidity": 0.2
             }
            },
            "type": "bar"
           }
          ],
          "barpolar": [
           {
            "marker": {
             "line": {
              "color": "#E5ECF6",
              "width": 0.5
             },
             "pattern": {
              "fillmode": "overlay",
              "size": 10,
              "solidity": 0.2
             }
            },
            "type": "barpolar"
           }
          ],
          "carpet": [
           {
            "aaxis": {
             "endlinecolor": "#2a3f5f",
             "gridcolor": "white",
             "linecolor": "white",
             "minorgridcolor": "white",
             "startlinecolor": "#2a3f5f"
            },
            "baxis": {
             "endlinecolor": "#2a3f5f",
             "gridcolor": "white",
             "linecolor": "white",
             "minorgridcolor": "white",
             "startlinecolor": "#2a3f5f"
            },
            "type": "carpet"
           }
          ],
          "choropleth": [
           {
            "colorbar": {
             "outlinewidth": 0,
             "ticks": ""
            },
            "type": "choropleth"
           }
          ],
          "contour": [
           {
            "colorbar": {
             "outlinewidth": 0,
             "ticks": ""
            },
            "colorscale": [
             [
              0,
              "#0d0887"
             ],
             [
              0.1111111111111111,
              "#46039f"
             ],
             [
              0.2222222222222222,
              "#7201a8"
             ],
             [
              0.3333333333333333,
              "#9c179e"
             ],
             [
              0.4444444444444444,
              "#bd3786"
             ],
             [
              0.5555555555555556,
              "#d8576b"
             ],
             [
              0.6666666666666666,
              "#ed7953"
             ],
             [
              0.7777777777777778,
              "#fb9f3a"
             ],
             [
              0.8888888888888888,
              "#fdca26"
             ],
             [
              1,
              "#f0f921"
             ]
            ],
            "type": "contour"
           }
          ],
          "contourcarpet": [
           {
            "colorbar": {
             "outlinewidth": 0,
             "ticks": ""
            },
            "type": "contourcarpet"
           }
          ],
          "heatmap": [
           {
            "colorbar": {
             "outlinewidth": 0,
             "ticks": ""
            },
            "colorscale": [
             [
              0,
              "#0d0887"
             ],
             [
              0.1111111111111111,
              "#46039f"
             ],
             [
              0.2222222222222222,
              "#7201a8"
             ],
             [
              0.3333333333333333,
              "#9c179e"
             ],
             [
              0.4444444444444444,
              "#bd3786"
             ],
             [
              0.5555555555555556,
              "#d8576b"
             ],
             [
              0.6666666666666666,
              "#ed7953"
             ],
             [
              0.7777777777777778,
              "#fb9f3a"
             ],
             [
              0.8888888888888888,
              "#fdca26"
             ],
             [
              1,
              "#f0f921"
             ]
            ],
            "type": "heatmap"
           }
          ],
          "heatmapgl": [
           {
            "colorbar": {
             "outlinewidth": 0,
             "ticks": ""
            },
            "colorscale": [
             [
              0,
              "#0d0887"
             ],
             [
              0.1111111111111111,
              "#46039f"
             ],
             [
              0.2222222222222222,
              "#7201a8"
             ],
             [
              0.3333333333333333,
              "#9c179e"
             ],
             [
              0.4444444444444444,
              "#bd3786"
             ],
             [
              0.5555555555555556,
              "#d8576b"
             ],
             [
              0.6666666666666666,
              "#ed7953"
             ],
             [
              0.7777777777777778,
              "#fb9f3a"
             ],
             [
              0.8888888888888888,
              "#fdca26"
             ],
             [
              1,
              "#f0f921"
             ]
            ],
            "type": "heatmapgl"
           }
          ],
          "histogram": [
           {
            "marker": {
             "pattern": {
              "fillmode": "overlay",
              "size": 10,
              "solidity": 0.2
             }
            },
            "type": "histogram"
           }
          ],
          "histogram2d": [
           {
            "colorbar": {
             "outlinewidth": 0,
             "ticks": ""
            },
            "colorscale": [
             [
              0,
              "#0d0887"
             ],
             [
              0.1111111111111111,
              "#46039f"
             ],
             [
              0.2222222222222222,
              "#7201a8"
             ],
             [
              0.3333333333333333,
              "#9c179e"
             ],
             [
              0.4444444444444444,
              "#bd3786"
             ],
             [
              0.5555555555555556,
              "#d8576b"
             ],
             [
              0.6666666666666666,
              "#ed7953"
             ],
             [
              0.7777777777777778,
              "#fb9f3a"
             ],
             [
              0.8888888888888888,
              "#fdca26"
             ],
             [
              1,
              "#f0f921"
             ]
            ],
            "type": "histogram2d"
           }
          ],
          "histogram2dcontour": [
           {
            "colorbar": {
             "outlinewidth": 0,
             "ticks": ""
            },
            "colorscale": [
             [
              0,
              "#0d0887"
             ],
             [
              0.1111111111111111,
              "#46039f"
             ],
             [
              0.2222222222222222,
              "#7201a8"
             ],
             [
              0.3333333333333333,
              "#9c179e"
             ],
             [
              0.4444444444444444,
              "#bd3786"
             ],
             [
              0.5555555555555556,
              "#d8576b"
             ],
             [
              0.6666666666666666,
              "#ed7953"
             ],
             [
              0.7777777777777778,
              "#fb9f3a"
             ],
             [
              0.8888888888888888,
              "#fdca26"
             ],
             [
              1,
              "#f0f921"
             ]
            ],
            "type": "histogram2dcontour"
           }
          ],
          "mesh3d": [
           {
            "colorbar": {
             "outlinewidth": 0,
             "ticks": ""
            },
            "type": "mesh3d"
           }
          ],
          "parcoords": [
           {
            "line": {
             "colorbar": {
              "outlinewidth": 0,
              "ticks": ""
             }
            },
            "type": "parcoords"
           }
          ],
          "pie": [
           {
            "automargin": true,
            "type": "pie"
           }
          ],
          "scatter": [
           {
            "fillpattern": {
             "fillmode": "overlay",
             "size": 10,
             "solidity": 0.2
            },
            "type": "scatter"
           }
          ],
          "scatter3d": [
           {
            "line": {
             "colorbar": {
              "outlinewidth": 0,
              "ticks": ""
             }
            },
            "marker": {
             "colorbar": {
              "outlinewidth": 0,
              "ticks": ""
             }
            },
            "type": "scatter3d"
           }
          ],
          "scattercarpet": [
           {
            "marker": {
             "colorbar": {
              "outlinewidth": 0,
              "ticks": ""
             }
            },
            "type": "scattercarpet"
           }
          ],
          "scattergeo": [
           {
            "marker": {
             "colorbar": {
              "outlinewidth": 0,
              "ticks": ""
             }
            },
            "type": "scattergeo"
           }
          ],
          "scattergl": [
           {
            "marker": {
             "colorbar": {
              "outlinewidth": 0,
              "ticks": ""
             }
            },
            "type": "scattergl"
           }
          ],
          "scattermapbox": [
           {
            "marker": {
             "colorbar": {
              "outlinewidth": 0,
              "ticks": ""
             }
            },
            "type": "scattermapbox"
           }
          ],
          "scatterpolar": [
           {
            "marker": {
             "colorbar": {
              "outlinewidth": 0,
              "ticks": ""
             }
            },
            "type": "scatterpolar"
           }
          ],
          "scatterpolargl": [
           {
            "marker": {
             "colorbar": {
              "outlinewidth": 0,
              "ticks": ""
             }
            },
            "type": "scatterpolargl"
           }
          ],
          "scatterternary": [
           {
            "marker": {
             "colorbar": {
              "outlinewidth": 0,
              "ticks": ""
             }
            },
            "type": "scatterternary"
           }
          ],
          "surface": [
           {
            "colorbar": {
             "outlinewidth": 0,
             "ticks": ""
            },
            "colorscale": [
             [
              0,
              "#0d0887"
             ],
             [
              0.1111111111111111,
              "#46039f"
             ],
             [
              0.2222222222222222,
              "#7201a8"
             ],
             [
              0.3333333333333333,
              "#9c179e"
             ],
             [
              0.4444444444444444,
              "#bd3786"
             ],
             [
              0.5555555555555556,
              "#d8576b"
             ],
             [
              0.6666666666666666,
              "#ed7953"
             ],
             [
              0.7777777777777778,
              "#fb9f3a"
             ],
             [
              0.8888888888888888,
              "#fdca26"
             ],
             [
              1,
              "#f0f921"
             ]
            ],
            "type": "surface"
           }
          ],
          "table": [
           {
            "cells": {
             "fill": {
              "color": "#EBF0F8"
             },
             "line": {
              "color": "white"
             }
            },
            "header": {
             "fill": {
              "color": "#C8D4E3"
             },
             "line": {
              "color": "white"
             }
            },
            "type": "table"
           }
          ]
         },
         "layout": {
          "annotationdefaults": {
           "arrowcolor": "#2a3f5f",
           "arrowhead": 0,
           "arrowwidth": 1
          },
          "autotypenumbers": "strict",
          "coloraxis": {
           "colorbar": {
            "outlinewidth": 0,
            "ticks": ""
           }
          },
          "colorscale": {
           "diverging": [
            [
             0,
             "#8e0152"
            ],
            [
             0.1,
             "#c51b7d"
            ],
            [
             0.2,
             "#de77ae"
            ],
            [
             0.3,
             "#f1b6da"
            ],
            [
             0.4,
             "#fde0ef"
            ],
            [
             0.5,
             "#f7f7f7"
            ],
            [
             0.6,
             "#e6f5d0"
            ],
            [
             0.7,
             "#b8e186"
            ],
            [
             0.8,
             "#7fbc41"
            ],
            [
             0.9,
             "#4d9221"
            ],
            [
             1,
             "#276419"
            ]
           ],
           "sequential": [
            [
             0,
             "#0d0887"
            ],
            [
             0.1111111111111111,
             "#46039f"
            ],
            [
             0.2222222222222222,
             "#7201a8"
            ],
            [
             0.3333333333333333,
             "#9c179e"
            ],
            [
             0.4444444444444444,
             "#bd3786"
            ],
            [
             0.5555555555555556,
             "#d8576b"
            ],
            [
             0.6666666666666666,
             "#ed7953"
            ],
            [
             0.7777777777777778,
             "#fb9f3a"
            ],
            [
             0.8888888888888888,
             "#fdca26"
            ],
            [
             1,
             "#f0f921"
            ]
           ],
           "sequentialminus": [
            [
             0,
             "#0d0887"
            ],
            [
             0.1111111111111111,
             "#46039f"
            ],
            [
             0.2222222222222222,
             "#7201a8"
            ],
            [
             0.3333333333333333,
             "#9c179e"
            ],
            [
             0.4444444444444444,
             "#bd3786"
            ],
            [
             0.5555555555555556,
             "#d8576b"
            ],
            [
             0.6666666666666666,
             "#ed7953"
            ],
            [
             0.7777777777777778,
             "#fb9f3a"
            ],
            [
             0.8888888888888888,
             "#fdca26"
            ],
            [
             1,
             "#f0f921"
            ]
           ]
          },
          "colorway": [
           "#636efa",
           "#EF553B",
           "#00cc96",
           "#ab63fa",
           "#FFA15A",
           "#19d3f3",
           "#FF6692",
           "#B6E880",
           "#FF97FF",
           "#FECB52"
          ],
          "font": {
           "color": "#2a3f5f"
          },
          "geo": {
           "bgcolor": "white",
           "lakecolor": "white",
           "landcolor": "#E5ECF6",
           "showlakes": true,
           "showland": true,
           "subunitcolor": "white"
          },
          "hoverlabel": {
           "align": "left"
          },
          "hovermode": "closest",
          "mapbox": {
           "style": "light"
          },
          "paper_bgcolor": "white",
          "plot_bgcolor": "#E5ECF6",
          "polar": {
           "angularaxis": {
            "gridcolor": "white",
            "linecolor": "white",
            "ticks": ""
           },
           "bgcolor": "#E5ECF6",
           "radialaxis": {
            "gridcolor": "white",
            "linecolor": "white",
            "ticks": ""
           }
          },
          "scene": {
           "xaxis": {
            "backgroundcolor": "#E5ECF6",
            "gridcolor": "white",
            "gridwidth": 2,
            "linecolor": "white",
            "showbackground": true,
            "ticks": "",
            "zerolinecolor": "white"
           },
           "yaxis": {
            "backgroundcolor": "#E5ECF6",
            "gridcolor": "white",
            "gridwidth": 2,
            "linecolor": "white",
            "showbackground": true,
            "ticks": "",
            "zerolinecolor": "white"
           },
           "zaxis": {
            "backgroundcolor": "#E5ECF6",
            "gridcolor": "white",
            "gridwidth": 2,
            "linecolor": "white",
            "showbackground": true,
            "ticks": "",
            "zerolinecolor": "white"
           }
          },
          "shapedefaults": {
           "line": {
            "color": "#2a3f5f"
           }
          },
          "ternary": {
           "aaxis": {
            "gridcolor": "white",
            "linecolor": "white",
            "ticks": ""
           },
           "baxis": {
            "gridcolor": "white",
            "linecolor": "white",
            "ticks": ""
           },
           "bgcolor": "#E5ECF6",
           "caxis": {
            "gridcolor": "white",
            "linecolor": "white",
            "ticks": ""
           }
          },
          "title": {
           "x": 0.05
          },
          "xaxis": {
           "automargin": true,
           "gridcolor": "white",
           "linecolor": "white",
           "ticks": "",
           "title": {
            "standoff": 15
           },
           "zerolinecolor": "white",
           "zerolinewidth": 2
          },
          "yaxis": {
           "automargin": true,
           "gridcolor": "white",
           "linecolor": "white",
           "ticks": "",
           "title": {
            "standoff": 15
           },
           "zerolinecolor": "white",
           "zerolinewidth": 2
          }
         }
        },
        "width": 1000,
        "xaxis": {
         "showgrid": false,
         "showline": false,
         "showticklabels": false,
         "zeroline": false
        },
        "yaxis": {
         "showgrid": false,
         "showline": false,
         "showticklabels": false,
         "zeroline": false
        }
       }
      }
     },
     "metadata": {},
     "output_type": "display_data"
    }
   ],
   "source": [
    "merge_points_with_c(embeddings1,nodes1,folder_path1 +'datas.data',1,tmp1.shape[1]+1,0,folder_path1,epoches2,c1,c2)\n",
    "nos1 = build_hyper_tree_from_folder(folder_path1,True)\n",
    "add_meta(nos1[0],meta_list1,[])\n",
    "show_tree(nos1[0],color=['#184e77','#1a759f','#168aad',\"#34a0a4\",'#52b69a','#99d98c','#76c893','#99d98c']).show_fig()\n",
    "remove_meta(nos1[0]);"
   ]
  },
  {
   "cell_type": "code",
   "execution_count": 9,
   "metadata": {},
   "outputs": [
    {
     "name": "stdout",
     "output_type": "stream",
     "text": [
      "./lr/after/datas/all_b/datas.data length:4\n",
      "Generating all pairs superset\n",
      "\t Epoch 0 | average train loss: 0.908778\n",
      "Optimization finished.\n",
      "\t Epoch 1 | average train loss: 0.907920\n",
      "Optimization finished.\n",
      "\t Epoch 2 | average train loss: 0.906620\n",
      "Optimization finished.\n",
      "\t Epoch 3 | average train loss: 0.909067\n",
      "Optimization finished.\n",
      "\t Epoch 4 | average train loss: 0.908213\n",
      "Optimization finished.\n",
      "\t Epoch 5 | average train loss: 0.908188\n",
      "Optimization finished.\n",
      "\t Epoch 6 | average train loss: 0.907219\n",
      "Optimization finished.\n",
      "\t Epoch 7 | average train loss: 0.905574\n",
      "Optimization finished.\n",
      "\t Epoch 8 | average train loss: 0.908992\n",
      "Optimization finished.\n",
      "\t Epoch 9 | average train loss: 0.908190\n",
      "Optimization finished.\n",
      "\t Epoch 0 | average train loss1: 0.328938\n",
      "\t Epoch 0 | average train loss2: 0.318234\n",
      "\t Epoch 1 | average train loss1: 0.328951\n",
      "\t Epoch 1 | average train loss2: 0.315757\n",
      "4 0\n",
      "False\n",
      "\t Epoch 0 | average train loss1: 0.361600\n",
      "\t Epoch 0 | average train loss2: 0.360512\n",
      "\t Epoch 1 | average train loss1: 0.348779\n",
      "\t Epoch 1 | average train loss2: 0.336255\n",
      "5 3\n",
      "False\n",
      "6 3\n",
      "False\n",
      "True\n",
      "{'3': '#184e77', '1': '#1a759f', '0': '#168aad', '2': '#34a0a4', 'empty': '#fff'}\n"
     ]
    },
    {
     "data": {
      "application/vnd.plotly.v1+json": {
       "config": {
        "plotlyServerURL": "https://plot.ly"
       },
       "data": [
        {
         "hoverinfo": "text",
         "hovertext": [
          "0_3"
         ],
         "legendgroup": "3",
         "marker": {
          "color": "#184e77",
          "size": 10,
          "symbol": "circle-dot"
         },
         "mode": "markers+text",
         "name": "3",
         "type": "scatter",
         "x": [
          3.25
         ],
         "y": [
          3.5
         ]
        },
        {
         "hoverinfo": "text",
         "hovertext": [
          "1_1"
         ],
         "legendgroup": "1",
         "marker": {
          "color": "#1a759f",
          "size": 10,
          "symbol": "circle-dot"
         },
         "mode": "markers+text",
         "name": "1",
         "type": "scatter",
         "x": [
          3.25
         ],
         "y": [
          2
         ]
        },
        {
         "hoverinfo": "text",
         "hovertext": [
          "3_0"
         ],
         "legendgroup": "0",
         "marker": {
          "color": "#168aad",
          "size": 10,
          "symbol": "circle-dot"
         },
         "mode": "markers+text",
         "name": "0",
         "type": "scatter",
         "x": [
          5.5
         ],
         "y": [
          5
         ]
        },
        {
         "hoverinfo": "text",
         "hovertext": [
          "2_2"
         ],
         "legendgroup": "2",
         "marker": {
          "color": "#34a0a4",
          "size": 10,
          "symbol": "circle-dot"
         },
         "mode": "markers+text",
         "name": "2",
         "type": "scatter",
         "x": [
          7.75
         ],
         "y": [
          3.5
         ]
        }
       ],
       "layout": {
        "height": 500,
        "shapes": [
         {
          "layer": "below",
          "line": {
           "color": "#333",
           "width": 2
          },
          "type": "line",
          "x0": 5.5,
          "x1": 5.5,
          "y0": 5,
          "y1": 5
         },
         {
          "layer": "below",
          "line": {
           "color": "#333",
           "width": 2
          },
          "type": "line",
          "x0": 5.5,
          "x1": 3.25,
          "y0": 5,
          "y1": 3.5
         },
         {
          "layer": "below",
          "line": {
           "color": "#333",
           "width": 2
          },
          "type": "line",
          "x0": 3.25,
          "x1": 3.25,
          "y0": 3.5,
          "y1": 2
         },
         {
          "layer": "below",
          "line": {
           "color": "#333",
           "width": 2
          },
          "type": "line",
          "x0": 5.5,
          "x1": 7.75,
          "y0": 5,
          "y1": 3.5
         }
        ],
        "template": {
         "data": {
          "bar": [
           {
            "error_x": {
             "color": "#2a3f5f"
            },
            "error_y": {
             "color": "#2a3f5f"
            },
            "marker": {
             "line": {
              "color": "#E5ECF6",
              "width": 0.5
             },
             "pattern": {
              "fillmode": "overlay",
              "size": 10,
              "solidity": 0.2
             }
            },
            "type": "bar"
           }
          ],
          "barpolar": [
           {
            "marker": {
             "line": {
              "color": "#E5ECF6",
              "width": 0.5
             },
             "pattern": {
              "fillmode": "overlay",
              "size": 10,
              "solidity": 0.2
             }
            },
            "type": "barpolar"
           }
          ],
          "carpet": [
           {
            "aaxis": {
             "endlinecolor": "#2a3f5f",
             "gridcolor": "white",
             "linecolor": "white",
             "minorgridcolor": "white",
             "startlinecolor": "#2a3f5f"
            },
            "baxis": {
             "endlinecolor": "#2a3f5f",
             "gridcolor": "white",
             "linecolor": "white",
             "minorgridcolor": "white",
             "startlinecolor": "#2a3f5f"
            },
            "type": "carpet"
           }
          ],
          "choropleth": [
           {
            "colorbar": {
             "outlinewidth": 0,
             "ticks": ""
            },
            "type": "choropleth"
           }
          ],
          "contour": [
           {
            "colorbar": {
             "outlinewidth": 0,
             "ticks": ""
            },
            "colorscale": [
             [
              0,
              "#0d0887"
             ],
             [
              0.1111111111111111,
              "#46039f"
             ],
             [
              0.2222222222222222,
              "#7201a8"
             ],
             [
              0.3333333333333333,
              "#9c179e"
             ],
             [
              0.4444444444444444,
              "#bd3786"
             ],
             [
              0.5555555555555556,
              "#d8576b"
             ],
             [
              0.6666666666666666,
              "#ed7953"
             ],
             [
              0.7777777777777778,
              "#fb9f3a"
             ],
             [
              0.8888888888888888,
              "#fdca26"
             ],
             [
              1,
              "#f0f921"
             ]
            ],
            "type": "contour"
           }
          ],
          "contourcarpet": [
           {
            "colorbar": {
             "outlinewidth": 0,
             "ticks": ""
            },
            "type": "contourcarpet"
           }
          ],
          "heatmap": [
           {
            "colorbar": {
             "outlinewidth": 0,
             "ticks": ""
            },
            "colorscale": [
             [
              0,
              "#0d0887"
             ],
             [
              0.1111111111111111,
              "#46039f"
             ],
             [
              0.2222222222222222,
              "#7201a8"
             ],
             [
              0.3333333333333333,
              "#9c179e"
             ],
             [
              0.4444444444444444,
              "#bd3786"
             ],
             [
              0.5555555555555556,
              "#d8576b"
             ],
             [
              0.6666666666666666,
              "#ed7953"
             ],
             [
              0.7777777777777778,
              "#fb9f3a"
             ],
             [
              0.8888888888888888,
              "#fdca26"
             ],
             [
              1,
              "#f0f921"
             ]
            ],
            "type": "heatmap"
           }
          ],
          "heatmapgl": [
           {
            "colorbar": {
             "outlinewidth": 0,
             "ticks": ""
            },
            "colorscale": [
             [
              0,
              "#0d0887"
             ],
             [
              0.1111111111111111,
              "#46039f"
             ],
             [
              0.2222222222222222,
              "#7201a8"
             ],
             [
              0.3333333333333333,
              "#9c179e"
             ],
             [
              0.4444444444444444,
              "#bd3786"
             ],
             [
              0.5555555555555556,
              "#d8576b"
             ],
             [
              0.6666666666666666,
              "#ed7953"
             ],
             [
              0.7777777777777778,
              "#fb9f3a"
             ],
             [
              0.8888888888888888,
              "#fdca26"
             ],
             [
              1,
              "#f0f921"
             ]
            ],
            "type": "heatmapgl"
           }
          ],
          "histogram": [
           {
            "marker": {
             "pattern": {
              "fillmode": "overlay",
              "size": 10,
              "solidity": 0.2
             }
            },
            "type": "histogram"
           }
          ],
          "histogram2d": [
           {
            "colorbar": {
             "outlinewidth": 0,
             "ticks": ""
            },
            "colorscale": [
             [
              0,
              "#0d0887"
             ],
             [
              0.1111111111111111,
              "#46039f"
             ],
             [
              0.2222222222222222,
              "#7201a8"
             ],
             [
              0.3333333333333333,
              "#9c179e"
             ],
             [
              0.4444444444444444,
              "#bd3786"
             ],
             [
              0.5555555555555556,
              "#d8576b"
             ],
             [
              0.6666666666666666,
              "#ed7953"
             ],
             [
              0.7777777777777778,
              "#fb9f3a"
             ],
             [
              0.8888888888888888,
              "#fdca26"
             ],
             [
              1,
              "#f0f921"
             ]
            ],
            "type": "histogram2d"
           }
          ],
          "histogram2dcontour": [
           {
            "colorbar": {
             "outlinewidth": 0,
             "ticks": ""
            },
            "colorscale": [
             [
              0,
              "#0d0887"
             ],
             [
              0.1111111111111111,
              "#46039f"
             ],
             [
              0.2222222222222222,
              "#7201a8"
             ],
             [
              0.3333333333333333,
              "#9c179e"
             ],
             [
              0.4444444444444444,
              "#bd3786"
             ],
             [
              0.5555555555555556,
              "#d8576b"
             ],
             [
              0.6666666666666666,
              "#ed7953"
             ],
             [
              0.7777777777777778,
              "#fb9f3a"
             ],
             [
              0.8888888888888888,
              "#fdca26"
             ],
             [
              1,
              "#f0f921"
             ]
            ],
            "type": "histogram2dcontour"
           }
          ],
          "mesh3d": [
           {
            "colorbar": {
             "outlinewidth": 0,
             "ticks": ""
            },
            "type": "mesh3d"
           }
          ],
          "parcoords": [
           {
            "line": {
             "colorbar": {
              "outlinewidth": 0,
              "ticks": ""
             }
            },
            "type": "parcoords"
           }
          ],
          "pie": [
           {
            "automargin": true,
            "type": "pie"
           }
          ],
          "scatter": [
           {
            "fillpattern": {
             "fillmode": "overlay",
             "size": 10,
             "solidity": 0.2
            },
            "type": "scatter"
           }
          ],
          "scatter3d": [
           {
            "line": {
             "colorbar": {
              "outlinewidth": 0,
              "ticks": ""
             }
            },
            "marker": {
             "colorbar": {
              "outlinewidth": 0,
              "ticks": ""
             }
            },
            "type": "scatter3d"
           }
          ],
          "scattercarpet": [
           {
            "marker": {
             "colorbar": {
              "outlinewidth": 0,
              "ticks": ""
             }
            },
            "type": "scattercarpet"
           }
          ],
          "scattergeo": [
           {
            "marker": {
             "colorbar": {
              "outlinewidth": 0,
              "ticks": ""
             }
            },
            "type": "scattergeo"
           }
          ],
          "scattergl": [
           {
            "marker": {
             "colorbar": {
              "outlinewidth": 0,
              "ticks": ""
             }
            },
            "type": "scattergl"
           }
          ],
          "scattermapbox": [
           {
            "marker": {
             "colorbar": {
              "outlinewidth": 0,
              "ticks": ""
             }
            },
            "type": "scattermapbox"
           }
          ],
          "scatterpolar": [
           {
            "marker": {
             "colorbar": {
              "outlinewidth": 0,
              "ticks": ""
             }
            },
            "type": "scatterpolar"
           }
          ],
          "scatterpolargl": [
           {
            "marker": {
             "colorbar": {
              "outlinewidth": 0,
              "ticks": ""
             }
            },
            "type": "scatterpolargl"
           }
          ],
          "scatterternary": [
           {
            "marker": {
             "colorbar": {
              "outlinewidth": 0,
              "ticks": ""
             }
            },
            "type": "scatterternary"
           }
          ],
          "surface": [
           {
            "colorbar": {
             "outlinewidth": 0,
             "ticks": ""
            },
            "colorscale": [
             [
              0,
              "#0d0887"
             ],
             [
              0.1111111111111111,
              "#46039f"
             ],
             [
              0.2222222222222222,
              "#7201a8"
             ],
             [
              0.3333333333333333,
              "#9c179e"
             ],
             [
              0.4444444444444444,
              "#bd3786"
             ],
             [
              0.5555555555555556,
              "#d8576b"
             ],
             [
              0.6666666666666666,
              "#ed7953"
             ],
             [
              0.7777777777777778,
              "#fb9f3a"
             ],
             [
              0.8888888888888888,
              "#fdca26"
             ],
             [
              1,
              "#f0f921"
             ]
            ],
            "type": "surface"
           }
          ],
          "table": [
           {
            "cells": {
             "fill": {
              "color": "#EBF0F8"
             },
             "line": {
              "color": "white"
             }
            },
            "header": {
             "fill": {
              "color": "#C8D4E3"
             },
             "line": {
              "color": "white"
             }
            },
            "type": "table"
           }
          ]
         },
         "layout": {
          "annotationdefaults": {
           "arrowcolor": "#2a3f5f",
           "arrowhead": 0,
           "arrowwidth": 1
          },
          "autotypenumbers": "strict",
          "coloraxis": {
           "colorbar": {
            "outlinewidth": 0,
            "ticks": ""
           }
          },
          "colorscale": {
           "diverging": [
            [
             0,
             "#8e0152"
            ],
            [
             0.1,
             "#c51b7d"
            ],
            [
             0.2,
             "#de77ae"
            ],
            [
             0.3,
             "#f1b6da"
            ],
            [
             0.4,
             "#fde0ef"
            ],
            [
             0.5,
             "#f7f7f7"
            ],
            [
             0.6,
             "#e6f5d0"
            ],
            [
             0.7,
             "#b8e186"
            ],
            [
             0.8,
             "#7fbc41"
            ],
            [
             0.9,
             "#4d9221"
            ],
            [
             1,
             "#276419"
            ]
           ],
           "sequential": [
            [
             0,
             "#0d0887"
            ],
            [
             0.1111111111111111,
             "#46039f"
            ],
            [
             0.2222222222222222,
             "#7201a8"
            ],
            [
             0.3333333333333333,
             "#9c179e"
            ],
            [
             0.4444444444444444,
             "#bd3786"
            ],
            [
             0.5555555555555556,
             "#d8576b"
            ],
            [
             0.6666666666666666,
             "#ed7953"
            ],
            [
             0.7777777777777778,
             "#fb9f3a"
            ],
            [
             0.8888888888888888,
             "#fdca26"
            ],
            [
             1,
             "#f0f921"
            ]
           ],
           "sequentialminus": [
            [
             0,
             "#0d0887"
            ],
            [
             0.1111111111111111,
             "#46039f"
            ],
            [
             0.2222222222222222,
             "#7201a8"
            ],
            [
             0.3333333333333333,
             "#9c179e"
            ],
            [
             0.4444444444444444,
             "#bd3786"
            ],
            [
             0.5555555555555556,
             "#d8576b"
            ],
            [
             0.6666666666666666,
             "#ed7953"
            ],
            [
             0.7777777777777778,
             "#fb9f3a"
            ],
            [
             0.8888888888888888,
             "#fdca26"
            ],
            [
             1,
             "#f0f921"
            ]
           ]
          },
          "colorway": [
           "#636efa",
           "#EF553B",
           "#00cc96",
           "#ab63fa",
           "#FFA15A",
           "#19d3f3",
           "#FF6692",
           "#B6E880",
           "#FF97FF",
           "#FECB52"
          ],
          "font": {
           "color": "#2a3f5f"
          },
          "geo": {
           "bgcolor": "white",
           "lakecolor": "white",
           "landcolor": "#E5ECF6",
           "showlakes": true,
           "showland": true,
           "subunitcolor": "white"
          },
          "hoverlabel": {
           "align": "left"
          },
          "hovermode": "closest",
          "mapbox": {
           "style": "light"
          },
          "paper_bgcolor": "white",
          "plot_bgcolor": "#E5ECF6",
          "polar": {
           "angularaxis": {
            "gridcolor": "white",
            "linecolor": "white",
            "ticks": ""
           },
           "bgcolor": "#E5ECF6",
           "radialaxis": {
            "gridcolor": "white",
            "linecolor": "white",
            "ticks": ""
           }
          },
          "scene": {
           "xaxis": {
            "backgroundcolor": "#E5ECF6",
            "gridcolor": "white",
            "gridwidth": 2,
            "linecolor": "white",
            "showbackground": true,
            "ticks": "",
            "zerolinecolor": "white"
           },
           "yaxis": {
            "backgroundcolor": "#E5ECF6",
            "gridcolor": "white",
            "gridwidth": 2,
            "linecolor": "white",
            "showbackground": true,
            "ticks": "",
            "zerolinecolor": "white"
           },
           "zaxis": {
            "backgroundcolor": "#E5ECF6",
            "gridcolor": "white",
            "gridwidth": 2,
            "linecolor": "white",
            "showbackground": true,
            "ticks": "",
            "zerolinecolor": "white"
           }
          },
          "shapedefaults": {
           "line": {
            "color": "#2a3f5f"
           }
          },
          "ternary": {
           "aaxis": {
            "gridcolor": "white",
            "linecolor": "white",
            "ticks": ""
           },
           "baxis": {
            "gridcolor": "white",
            "linecolor": "white",
            "ticks": ""
           },
           "bgcolor": "#E5ECF6",
           "caxis": {
            "gridcolor": "white",
            "linecolor": "white",
            "ticks": ""
           }
          },
          "title": {
           "x": 0.05
          },
          "xaxis": {
           "automargin": true,
           "gridcolor": "white",
           "linecolor": "white",
           "ticks": "",
           "title": {
            "standoff": 15
           },
           "zerolinecolor": "white",
           "zerolinewidth": 2
          },
          "yaxis": {
           "automargin": true,
           "gridcolor": "white",
           "linecolor": "white",
           "ticks": "",
           "title": {
            "standoff": 15
           },
           "zerolinecolor": "white",
           "zerolinewidth": 2
          }
         }
        },
        "width": 1000,
        "xaxis": {
         "showgrid": false,
         "showline": false,
         "showticklabels": false,
         "zeroline": false
        },
        "yaxis": {
         "showgrid": false,
         "showline": false,
         "showticklabels": false,
         "zeroline": false
        }
       }
      }
     },
     "metadata": {},
     "output_type": "display_data"
    },
    {
     "data": {
      "image/png": "[encoded data removed]",
      "text/plain": [
       "<Figure size 1500x1500 with 1 Axes>"
      ]
     },
     "metadata": {},
     "output_type": "display_data"
    }
   ],
   "source": [
    "embeddings2,nodes2 = get_Hyper_tree(folder_path2 +'datas.data',1,tmp2.shape[1]+1,0,epoches1,epoches2,meta_list2,save_path=folder_path2)\n",
    "merge_points_with_c(embeddings2,nodes2,folder_path2 +'datas.data',1,tmp2.shape[1]+1,0,folder_path2,epoches2,c1,c2)\n",
    "nos2 = build_hyper_tree_from_folder(folder_path2,True)\n",
    "add_meta(nos2[0],meta_list2,[])\n",
    "show_tree(nos2[0],color=['#184e77','#1a759f','#168aad',\"#34a0a4\",'#52b69a','#99d98c','#76c893','#99d98c']).show_fig()\n",
    "remove_meta(nos2[0]);"
   ]
  },
  {
   "cell_type": "code",
   "execution_count": 10,
   "metadata": {},
   "outputs": [
    {
     "data": {
      "text/plain": [
       "AxisArrays with keys: meta"
      ]
     },
     "execution_count": 10,
     "metadata": {},
     "output_type": "execute_result"
    }
   ],
   "source": [
    "datas1 = sc.read_h5ad('./lr/after/datas/all_a.h5ad')\n",
    "datas2 = sc.read_h5ad('./lr/after/datas/all_b.h5ad')\n",
    "\n",
    "datas1.obsm"
   ]
  },
  {
   "cell_type": "code",
   "execution_count": 11,
   "metadata": {},
   "outputs": [],
   "source": [
    "temp1 = datas1.obsm['meta']\n",
    "temp1.index = adata1.to_df().index\n",
    "temp2 = datas2.obsm['meta']\n",
    "temp2.index = adata2.to_df().index\n"
   ]
  },
  {
   "cell_type": "code",
   "execution_count": 12,
   "metadata": {},
   "outputs": [],
   "source": [
    "adata1.obsm['meta'] = temp1\n",
    "adata2.obsm['meta'] = temp2"
   ]
  },
  {
   "cell_type": "code",
   "execution_count": 13,
   "metadata": {},
   "outputs": [],
   "source": [
    "nodes1 = build_hyper_tree_from_folder(folder_path1,True)\n",
    "nodes2 = build_hyper_tree_from_folder(folder_path2,True)\n",
    "\n",
    "nodes_merge1 = [];\n",
    "nodes_merge2 = [];\n",
    "add_meta(nodes1[0],meta_list1,[])\n",
    "add_meta(nodes2[0],meta_list2,[])\n"
   ]
  },
  {
   "cell_type": "code",
   "execution_count": 14,
   "metadata": {},
   "outputs": [],
   "source": [
    "datas1.obs['leiden'] = adata1.obs['leiden'].tolist()\n",
    "datas2.obs['leiden'] = adata2.obs['leiden'].tolist()\n",
    "\n",
    "\n"
   ]
  },
  {
   "cell_type": "code",
   "execution_count": 15,
   "metadata": {},
   "outputs": [
    {
     "name": "stdout",
     "output_type": "stream",
     "text": [
      "start spilting data\n",
      "View of AnnData object with n_obs × n_vars = 600 × 8786\n",
      "    obs: 'batch', 'leiden'\n",
      "    obsm: 'meta'\n",
      "finish 1\n",
      "start filtering LRIs with spatial data\n",
      "reading data\n",
      "<bound method NDFrame.head of                 cell          x         y  cell_type\n",
      "0    cell1-0-1-0-0-0   6.373032  8.933043        1.0\n",
      "1    cell2-0-1-0-0-0   1.613726  8.248680        1.0\n",
      "2    cell3-0-1-0-0-0   1.373817  2.201218        1.0\n",
      "3    cell4-0-1-0-0-0   0.809356  9.415871        1.0\n",
      "4    cell5-0-1-0-0-0   2.810129  6.630638        1.0\n",
      "..               ...        ...       ...        ...\n",
      "595  cell196-1-1-0-1  11.378252  1.025635        2.0\n",
      "596  cell197-1-1-0-1   7.743184  2.681785        2.0\n",
      "597  cell198-1-1-0-1   9.194564  6.090764        2.0\n",
      "598  cell199-1-1-0-1  12.555637  7.740070        2.0\n",
      "599  cell200-1-1-0-1  12.855511  7.345174        2.0\n",
      "\n",
      "[600 rows x 4 columns]>\n",
      "DataFrame 中不存在名为 '_index' 的列。\n",
      "Index(['cell', 'x', 'y', 'cell_type'], dtype='object')\n",
      "st_gene_len----8786\n",
      "cell_name_list----600\n",
      "reading data done\n",
      "The unique celltype list is [1.0, 2.0]\n",
      "knn done\n",
      "all_pair_number ---- 600\n",
      "The cell pair number found between 1.0 and 1.0 is 3204\n",
      "per_exp-------(137566,)\n",
      "find ligand-recepotor pairs time-------------7\n",
      "receptor_gene---------1599\n",
      "lr_pair_sub---------(37433, 5)\n",
      "the number of valid pathway number between 1.0 and 1.0 is: 37433\n",
      "co_exp_ratio=-------(37433, 1)\n",
      "co_exp_value-------(37433, 1)\n",
      "co_exp_p-----(37433,)\n",
      "The ligand-recepotor pairs found between 1.0 and 1.0 with significant expression is 13382\n",
      "find significant expression ligand-recepotor pairs time-------------8\n",
      "find tf time-------------44\n",
      "tf------(225295, 6)\n",
      "path_score---(13302, 13)\n",
      "1.0 and 1.0 done. Data saved to lr/after/datas/temp/cci_result_1.0_1.0.pkl\n",
      "all_pair_number ---- 600\n",
      "The cell pair number found between 2.0 and 1.0 is 860\n",
      "per_exp-------(137566,)\n",
      "find ligand-recepotor pairs time-------------1\n",
      "receptor_gene---------1634\n",
      "lr_pair_sub---------(39662, 5)\n",
      "the number of valid pathway number between 2.0 and 1.0 is: 39662\n",
      "co_exp_ratio=-------(39662, 1)\n",
      "co_exp_value-------(39662, 1)\n",
      "co_exp_p-----(39662,)\n",
      "The ligand-recepotor pairs found between 2.0 and 1.0 with significant expression is 22676\n",
      "find significant expression ligand-recepotor pairs time-------------6\n",
      "find tf time-------------72\n",
      "tf------(376113, 6)\n",
      "path_score---(22675, 13)\n",
      "1.0 and 2.0 done. Data saved to lr/after/datas/temp/cci_result_2.0_1.0.pkl\n",
      "all_pair_number ---- 600\n",
      "The cell pair number found between 1.0 and 2.0 is 796\n",
      "per_exp-------(137566,)\n",
      "find ligand-recepotor pairs time-------------2\n",
      "receptor_gene---------3000\n",
      "lr_pair_sub---------(73743, 5)\n",
      "the number of valid pathway number between 1.0 and 2.0 is: 73743\n",
      "co_exp_ratio=-------(73743, 1)\n",
      "co_exp_value-------(73743, 1)\n",
      "co_exp_p-----(73743,)\n",
      "The ligand-recepotor pairs found between 1.0 and 2.0 with significant expression is 34986\n",
      "find significant expression ligand-recepotor pairs time-------------23\n",
      "find tf time-------------195\n",
      "tf------(1156980, 6)\n",
      "path_score---(34986, 13)\n",
      "2.0 and 1.0 done. Data saved to lr/after/datas/temp/cci_result_1.0_2.0.pkl\n",
      "all_pair_number ---- 600\n",
      "The cell pair number found between 2.0 and 2.0 is 1140\n",
      "per_exp-------(137566,)\n",
      "find ligand-recepotor pairs time-------------3\n",
      "receptor_gene---------2794\n",
      "lr_pair_sub---------(69716, 5)\n",
      "the number of valid pathway number between 2.0 and 2.0 is: 69716\n",
      "co_exp_ratio=-------(69716, 1)\n",
      "co_exp_value-------(69716, 1)\n",
      "co_exp_p-----(69716,)\n",
      "The ligand-recepotor pairs found between 2.0 and 2.0 with significant expression is 38705\n",
      "find significant expression ligand-recepotor pairs time-------------21\n",
      "find tf time-------------204\n",
      "tf------(1072175, 6)\n",
      "path_score---(38705, 13)\n",
      "2.0 and 2.0 done. Data saved to lr/after/datas/temp/cci_result_2.0_2.0.pkl\n",
      "Total running time is 597 seconds\n",
      "finish 2\n",
      "2_3 2_2 right\n",
      "start spilting data\n",
      "View of AnnData object with n_obs × n_vars = 400 × 8614\n",
      "    obs: 'batch', 'leiden'\n",
      "    obsm: 'meta'\n",
      "finish 1\n",
      "start filtering LRIs with spatial data\n",
      "reading data\n",
      "<bound method NDFrame.head of                 cell          x         y  cell_type\n",
      "0    cell1-0-1-0-0-0   6.373032  8.933043        1.0\n",
      "1    cell2-0-1-0-0-0   1.613726  8.248680        1.0\n",
      "2    cell3-0-1-0-0-0   1.373817  2.201218        1.0\n",
      "3    cell4-0-1-0-0-0   0.809356  9.415871        1.0\n",
      "4    cell5-0-1-0-0-0   2.810129  6.630638        1.0\n",
      "..               ...        ...       ...        ...\n",
      "395  cell196-1-1-0-1  11.378252  1.025635        2.0\n",
      "396  cell197-1-1-0-1   7.743184  2.681785        2.0\n",
      "397  cell198-1-1-0-1   9.194564  6.090764        2.0\n",
      "398  cell199-1-1-0-1  12.555637  7.740070        2.0\n",
      "399  cell200-1-1-0-1  12.855511  7.345174        2.0\n",
      "\n",
      "[400 rows x 4 columns]>\n",
      "DataFrame 中不存在名为 '_index' 的列。\n",
      "Index(['cell', 'x', 'y', 'cell_type'], dtype='object')\n",
      "st_gene_len----8614\n",
      "cell_name_list----400\n",
      "reading data done\n",
      "The unique celltype list is [1.0, 2.0]\n",
      "knn done\n",
      "all_pair_number ---- 400\n",
      "The cell pair number found between 1.0 and 1.0 is 1350\n",
      "per_exp-------(133141,)\n",
      "find ligand-recepotor pairs time-------------2\n",
      "receptor_gene---------1520\n",
      "lr_pair_sub---------(35204, 5)\n",
      "the number of valid pathway number between 1.0 and 1.0 is: 35204\n",
      "co_exp_ratio=-------(35204, 1)\n",
      "co_exp_value-------(35204, 1)\n",
      "co_exp_p-----(35204,)\n",
      "The ligand-recepotor pairs found between 1.0 and 1.0 with significant expression is 8142\n",
      "find significant expression ligand-recepotor pairs time-------------4\n",
      "find tf time-------------22\n",
      "tf------(184125, 6)\n",
      "path_score---(8133, 13)\n",
      "1.0 and 1.0 done. Data saved to lr/after/datas/temp/cci_result_1.0_1.0.pkl\n",
      "all_pair_number ---- 400\n",
      "The cell pair number found between 2.0 and 1.0 is 663\n",
      "per_exp-------(133141,)\n",
      "find ligand-recepotor pairs time-------------1\n",
      "receptor_gene---------1579\n",
      "lr_pair_sub---------(37492, 5)\n",
      "the number of valid pathway number between 2.0 and 1.0 is: 37492\n",
      "co_exp_ratio=-------(37492, 1)\n",
      "co_exp_value-------(37492, 1)\n",
      "co_exp_p-----(37492,)\n",
      "The ligand-recepotor pairs found between 2.0 and 1.0 with significant expression is 14279\n",
      "find significant expression ligand-recepotor pairs time-------------4\n",
      "find tf time-------------39\n",
      "tf------(287291, 6)\n",
      "path_score---(14251, 13)\n",
      "1.0 and 2.0 done. Data saved to lr/after/datas/temp/cci_result_2.0_1.0.pkl\n",
      "all_pair_number ---- 400\n",
      "The cell pair number found between 1.0 and 2.0 is 650\n",
      "per_exp-------(133141,)\n",
      "find ligand-recepotor pairs time-------------1\n",
      "receptor_gene---------2937\n",
      "lr_pair_sub---------(72009, 5)\n",
      "the number of valid pathway number between 1.0 and 2.0 is: 72009\n",
      "co_exp_ratio=-------(72009, 1)\n",
      "co_exp_value-------(72009, 1)\n",
      "co_exp_p-----(72009,)\n",
      "The ligand-recepotor pairs found between 1.0 and 2.0 with significant expression is 20342\n",
      "find significant expression ligand-recepotor pairs time-------------22\n",
      "find tf time-------------131\n",
      "tf------(642779, 6)\n",
      "path_score---(20342, 13)\n",
      "2.0 and 1.0 done. Data saved to lr/after/datas/temp/cci_result_1.0_2.0.pkl\n",
      "all_pair_number ---- 400\n",
      "The cell pair number found between 2.0 and 2.0 is 1337\n",
      "per_exp-------(133141,)\n",
      "find ligand-recepotor pairs time-------------3\n",
      "receptor_gene---------2832\n",
      "lr_pair_sub---------(69013, 5)\n",
      "the number of valid pathway number between 2.0 and 2.0 is: 69013\n",
      "co_exp_ratio=-------(69013, 1)\n",
      "co_exp_value-------(69013, 1)\n",
      "co_exp_p-----(69013,)\n",
      "The ligand-recepotor pairs found between 2.0 and 2.0 with significant expression is 43329\n",
      "find significant expression ligand-recepotor pairs time-------------23\n",
      "find tf time-------------290\n",
      "tf------(1185032, 6)\n",
      "path_score---(43329, 13)\n",
      "2.0 and 2.0 done. Data saved to lr/after/datas/temp/cci_result_2.0_2.0.pkl\n",
      "Total running time is 554 seconds\n",
      "finish 2\n",
      "0_1 2_2 right\n",
      "start spilting data\n",
      "View of AnnData object with n_obs × n_vars = 600 × 8786\n",
      "    obs: 'batch', 'leiden'\n",
      "    obsm: 'meta'\n",
      "finish 1\n",
      "start filtering LRIs with spatial data\n",
      "reading data\n",
      "<bound method NDFrame.head of               cell          x         y  cell_type\n",
      "0    cell1-0-1-0-0   6.373032  8.933043        1.0\n",
      "1    cell2-0-1-0-0   1.613726  8.248680        1.0\n",
      "2    cell3-0-1-0-0   1.373817  2.201218        1.0\n",
      "3    cell4-0-1-0-0   0.809356  9.415871        1.0\n",
      "4    cell5-0-1-0-0   2.810129  6.630638        1.0\n",
      "..             ...        ...       ...        ...\n",
      "595  cell196-1-1-1  11.378252  1.025635        2.0\n",
      "596  cell197-1-1-1   7.743184  2.681785        2.0\n",
      "597  cell198-1-1-1   9.194564  6.090764        2.0\n",
      "598  cell199-1-1-1  12.555637  7.740070        2.0\n",
      "599  cell200-1-1-1  12.855511  7.345174        2.0\n",
      "\n",
      "[600 rows x 4 columns]>\n",
      "DataFrame 中不存在名为 '_index' 的列。\n",
      "Index(['cell', 'x', 'y', 'cell_type'], dtype='object')\n",
      "st_gene_len----8786\n",
      "cell_name_list----600\n",
      "reading data done\n",
      "The unique celltype list is [1.0, 2.0]\n",
      "knn done\n",
      "all_pair_number ---- 600\n",
      "The cell pair number found between 1.0 and 1.0 is 1144\n",
      "per_exp-------(137566,)\n",
      "find ligand-recepotor pairs time-------------2\n",
      "receptor_gene---------1343\n",
      "lr_pair_sub---------(33514, 5)\n",
      "the number of valid pathway number between 1.0 and 1.0 is: 33514\n",
      "co_exp_ratio=-------(33514, 1)\n",
      "co_exp_value-------(33514, 1)\n",
      "co_exp_p-----(33514,)\n",
      "The ligand-recepotor pairs found between 1.0 and 1.0 with significant expression is 9912\n",
      "find significant expression ligand-recepotor pairs time-------------5\n",
      "find tf time-------------37\n",
      "tf------(193877, 6)\n",
      "path_score---(9912, 13)\n",
      "1.0 and 1.0 done. Data saved to lr/after/datas/temp/cci_result_1.0_1.0.pkl\n",
      "all_pair_number ---- 600\n",
      "The cell pair number found between 2.0 and 1.0 is 802\n",
      "per_exp-------(137566,)\n",
      "find ligand-recepotor pairs time-------------1\n",
      "receptor_gene---------1431\n",
      "lr_pair_sub---------(38544, 5)\n",
      "the number of valid pathway number between 2.0 and 1.0 is: 38544\n",
      "co_exp_ratio=-------(38544, 1)\n",
      "co_exp_value-------(38544, 1)\n",
      "co_exp_p-----(38544,)\n",
      "The ligand-recepotor pairs found between 2.0 and 1.0 with significant expression is 16174\n",
      "find significant expression ligand-recepotor pairs time-------------7\n",
      "find tf time-------------66\n",
      "tf------(272548, 6)\n",
      "path_score---(16174, 13)\n",
      "1.0 and 2.0 done. Data saved to lr/after/datas/temp/cci_result_2.0_1.0.pkl\n",
      "all_pair_number ---- 600\n",
      "The cell pair number found between 1.0 and 2.0 is 856\n",
      "per_exp-------(137566,)\n",
      "find ligand-recepotor pairs time-------------2\n",
      "receptor_gene---------3405\n",
      "lr_pair_sub---------(78767, 5)\n",
      "the number of valid pathway number between 1.0 and 2.0 is: 78767\n",
      "co_exp_ratio=-------(78767, 1)\n",
      "co_exp_value-------(78767, 1)\n",
      "co_exp_p-----(78767,)\n",
      "The ligand-recepotor pairs found between 1.0 and 2.0 with significant expression is 14996\n",
      "find significant expression ligand-recepotor pairs time-------------38\n",
      "find tf time-------------126\n",
      "tf------(691483, 6)\n",
      "path_score---(14996, 13)\n",
      "2.0 and 1.0 done. Data saved to lr/after/datas/temp/cci_result_1.0_2.0.pkl\n",
      "all_pair_number ---- 600\n",
      "The cell pair number found between 2.0 and 2.0 is 3198\n",
      "per_exp-------(137566,)\n",
      "find ligand-recepotor pairs time-------------12\n",
      "receptor_gene---------3217\n",
      "lr_pair_sub---------(73536, 5)\n",
      "the number of valid pathway number between 2.0 and 2.0 is: 73536\n",
      "co_exp_ratio=-------(73536, 1)\n",
      "co_exp_value-------(73536, 1)\n",
      "co_exp_p-----(73536,)\n",
      "The ligand-recepotor pairs found between 2.0 and 2.0 with significant expression is 51782\n",
      "find significant expression ligand-recepotor pairs time-------------39\n",
      "find tf time-------------347\n",
      "tf------(2285959, 6)\n",
      "path_score---(51781, 13)\n",
      "2.0 and 2.0 done. Data saved to lr/after/datas/temp/cci_result_2.0_2.0.pkl\n",
      "Total running time is 693 seconds\n",
      "finish 2\n",
      "1_2 0_3 right\n",
      "start spilting data\n",
      "View of AnnData object with n_obs × n_vars = 400 × 8614\n",
      "    obs: 'batch', 'leiden'\n",
      "    obsm: 'meta'\n",
      "finish 1\n",
      "start filtering LRIs with spatial data\n",
      "reading data\n",
      "<bound method NDFrame.head of                   cell          x         y  cell_type\n",
      "0        cell1-0-1-0-0   6.373032  8.933043        1.0\n",
      "1        cell2-0-1-0-0   1.613726  8.248680        1.0\n",
      "2        cell3-0-1-0-0   1.373817  2.201218        1.0\n",
      "3        cell4-0-1-0-0   0.809356  9.415871        1.0\n",
      "4        cell5-0-1-0-0   2.810129  6.630638        1.0\n",
      "..                 ...        ...       ...        ...\n",
      "395  cell196-1-1-0-0-1  11.378252  1.025635        2.0\n",
      "396  cell197-1-1-0-0-1   7.743184  2.681785        2.0\n",
      "397  cell198-1-1-0-0-1   9.194564  6.090764        2.0\n",
      "398  cell199-1-1-0-0-1  12.555637  7.740070        2.0\n",
      "399  cell200-1-1-0-0-1  12.855511  7.345174        2.0\n",
      "\n",
      "[400 rows x 4 columns]>\n",
      "DataFrame 中不存在名为 '_index' 的列。\n",
      "Index(['cell', 'x', 'y', 'cell_type'], dtype='object')\n",
      "st_gene_len----8614\n",
      "cell_name_list----400\n",
      "reading data done\n",
      "The unique celltype list is [1.0, 2.0]\n",
      "knn done\n",
      "all_pair_number ---- 400\n",
      "The cell pair number found between 1.0 and 1.0 is 1350\n",
      "per_exp-------(133141,)\n",
      "find ligand-recepotor pairs time-------------2\n",
      "receptor_gene---------1333\n",
      "lr_pair_sub---------(33698, 5)\n",
      "the number of valid pathway number between 1.0 and 1.0 is: 33698\n",
      "co_exp_ratio=-------(33698, 1)\n",
      "co_exp_value-------(33698, 1)\n",
      "co_exp_p-----(33698,)\n",
      "The ligand-recepotor pairs found between 1.0 and 1.0 with significant expression is 8316\n",
      "find significant expression ligand-recepotor pairs time-------------5\n",
      "find tf time-------------25\n",
      "tf------(152806, 6)\n",
      "path_score---(8316, 13)\n",
      "1.0 and 1.0 done. Data saved to lr/after/datas/temp/cci_result_1.0_1.0.pkl\n",
      "all_pair_number ---- 400\n",
      "The cell pair number found between 2.0 and 1.0 is 663\n",
      "per_exp-------(133141,)\n",
      "find ligand-recepotor pairs time-------------1\n",
      "receptor_gene---------1439\n",
      "lr_pair_sub---------(38213, 5)\n",
      "the number of valid pathway number between 2.0 and 1.0 is: 38213\n",
      "co_exp_ratio=-------(38213, 1)\n",
      "co_exp_value-------(38213, 1)\n",
      "co_exp_p-----(38213,)\n",
      "The ligand-recepotor pairs found between 2.0 and 1.0 with significant expression is 15893\n",
      "find significant expression ligand-recepotor pairs time-------------5\n",
      "find tf time-------------62\n",
      "tf------(235078, 6)\n",
      "path_score---(15893, 13)\n",
      "1.0 and 2.0 done. Data saved to lr/after/datas/temp/cci_result_2.0_1.0.pkl\n",
      "all_pair_number ---- 400\n",
      "The cell pair number found between 1.0 and 2.0 is 650\n",
      "per_exp-------(133141,)\n",
      "find ligand-recepotor pairs time-------------2\n",
      "receptor_gene---------2993\n",
      "lr_pair_sub---------(66218, 5)\n",
      "the number of valid pathway number between 1.0 and 2.0 is: 66218\n",
      "co_exp_ratio=-------(66218, 1)\n",
      "co_exp_value-------(66218, 1)\n",
      "co_exp_p-----(66218,)\n",
      "The ligand-recepotor pairs found between 1.0 and 2.0 with significant expression is 17245\n",
      "find significant expression ligand-recepotor pairs time-------------25\n",
      "find tf time-------------168\n",
      "tf------(712669, 6)\n",
      "path_score---(17244, 13)\n",
      "2.0 and 1.0 done. Data saved to lr/after/datas/temp/cci_result_1.0_2.0.pkl\n",
      "all_pair_number ---- 400\n",
      "The cell pair number found between 2.0 and 2.0 is 1337\n",
      "per_exp-------(133141,)\n",
      "find ligand-recepotor pairs time-------------3\n",
      "receptor_gene---------2912\n",
      "lr_pair_sub---------(64685, 5)\n",
      "the number of valid pathway number between 2.0 and 2.0 is: 64685\n",
      "co_exp_ratio=-------(64685, 1)\n",
      "co_exp_value-------(64685, 1)\n",
      "co_exp_p-----(64685,)\n",
      "The ligand-recepotor pairs found between 2.0 and 2.0 with significant expression is 41565\n",
      "find significant expression ligand-recepotor pairs time-------------20\n",
      "find tf time-------------229\n",
      "tf------(1614722, 6)\n",
      "path_score---(41562, 13)\n",
      "2.0 and 2.0 done. Data saved to lr/after/datas/temp/cci_result_2.0_2.0.pkl\n",
      "Total running time is 557 seconds\n",
      "finish 2\n",
      "1_2 1_1 right\n",
      "start spilting data\n",
      "View of AnnData object with n_obs × n_vars = 400 × 8436\n",
      "    obs: 'batch', 'leiden'\n",
      "    obsm: 'meta'\n",
      "finish 1\n",
      "start filtering LRIs with spatial data\n",
      "reading data\n",
      "<bound method NDFrame.head of                   cell          x         y  cell_type\n",
      "0      cell1-0-1-0-0-0   6.373032  8.933043        1.0\n",
      "1      cell2-0-1-0-0-0   1.613726  8.248680        1.0\n",
      "2      cell3-0-1-0-0-0   1.373817  2.201218        1.0\n",
      "3      cell4-0-1-0-0-0   0.809356  9.415871        1.0\n",
      "4      cell5-0-1-0-0-0   2.810129  6.630638        1.0\n",
      "..                 ...        ...       ...        ...\n",
      "395  cell196-1-1-0-0-1  11.378252  1.025635        2.0\n",
      "396  cell197-1-1-0-0-1   7.743184  2.681785        2.0\n",
      "397  cell198-1-1-0-0-1   9.194564  6.090764        2.0\n",
      "398  cell199-1-1-0-0-1  12.555637  7.740070        2.0\n",
      "399  cell200-1-1-0-0-1  12.855511  7.345174        2.0\n",
      "\n",
      "[400 rows x 4 columns]>\n",
      "DataFrame 中不存在名为 '_index' 的列。\n",
      "Index(['cell', 'x', 'y', 'cell_type'], dtype='object')\n",
      "st_gene_len----8436\n",
      "cell_name_list----400\n",
      "reading data done\n",
      "The unique celltype list is [1.0, 2.0]\n",
      "knn done\n",
      "all_pair_number ---- 400\n",
      "The cell pair number found between 1.0 and 1.0 is 1350\n",
      "per_exp-------(128076,)\n",
      "find ligand-recepotor pairs time-------------1\n",
      "receptor_gene---------0\n",
      "lr_pair_sub---------(0, 5)\n",
      "No ligand-recepotor pairs found between 1.0 and 1.0 because of no downstream transcriptional factors found for receptors!\n",
      "all_pair_number ---- 400\n",
      "The cell pair number found between 2.0 and 1.0 is 663\n",
      "per_exp-------(128076,)\n",
      "find ligand-recepotor pairs time-------------0\n",
      "receptor_gene---------0\n",
      "lr_pair_sub---------(0, 5)\n",
      "No ligand-recepotor pairs found between 2.0 and 1.0 because of no downstream transcriptional factors found for receptors!\n",
      "all_pair_number ---- 400\n",
      "The cell pair number found between 1.0 and 2.0 is 650\n",
      "per_exp-------(128076,)\n",
      "find ligand-recepotor pairs time-------------1\n",
      "receptor_gene---------963\n",
      "lr_pair_sub---------(26863, 5)\n",
      "the number of valid pathway number between 1.0 and 2.0 is: 26863\n",
      "co_exp_ratio=-------(26863, 1)\n",
      "co_exp_value-------(26863, 1)\n",
      "co_exp_p-----(26863,)\n",
      "The ligand-recepotor pairs found between 1.0 and 2.0 with significant expression is 2791\n",
      "find significant expression ligand-recepotor pairs time-------------4\n",
      "find tf time-------------9\n",
      "tf------(25439, 6)\n",
      "path_score---(2752, 13)\n",
      "2.0 and 1.0 done. Data saved to lr/after/datas/temp/cci_result_1.0_2.0.pkl\n",
      "all_pair_number ---- 400\n",
      "The cell pair number found between 2.0 and 2.0 is 1337\n",
      "per_exp-------(128076,)\n",
      "find ligand-recepotor pairs time-------------2\n",
      "receptor_gene---------786\n",
      "lr_pair_sub---------(21937, 5)\n",
      "the number of valid pathway number between 2.0 and 2.0 is: 21937\n",
      "co_exp_ratio=-------(21937, 1)\n",
      "co_exp_value-------(21937, 1)\n",
      "co_exp_p-----(21937,)\n",
      "The ligand-recepotor pairs found between 2.0 and 2.0 with significant expression is 16490\n",
      "find significant expression ligand-recepotor pairs time-------------4\n",
      "find tf time-------------48\n",
      "tf------(81054, 6)\n",
      "path_score---(16011, 13)\n",
      "2.0 and 2.0 done. Data saved to lr/after/datas/temp/cci_result_2.0_2.0.pkl\n",
      "Total running time is 74 seconds\n",
      "finish 2\n",
      "0_1 1_1 right\n",
      "start spilting data\n",
      "View of AnnData object with n_obs × n_vars = 800 × 8607\n",
      "    obs: 'batch', 'leiden'\n",
      "    obsm: 'meta'\n",
      "finish 1\n",
      "start filtering LRIs with spatial data\n",
      "reading data\n",
      "<bound method NDFrame.head of                 cell          x         y  cell_type\n",
      "0    cell1-0-1-0-0-0   6.373032  8.933043        1.0\n",
      "1    cell2-0-1-0-0-0   1.613726  8.248680        1.0\n",
      "2    cell3-0-1-0-0-0   1.373817  2.201218        1.0\n",
      "3    cell4-0-1-0-0-0   0.809356  9.415871        1.0\n",
      "4    cell5-0-1-0-0-0   2.810129  6.630638        1.0\n",
      "..               ...        ...       ...        ...\n",
      "795    cell196-1-1-1  11.378252  1.025635        2.0\n",
      "796    cell197-1-1-1   7.743184  2.681785        2.0\n",
      "797    cell198-1-1-1   9.194564  6.090764        2.0\n",
      "798    cell199-1-1-1  12.555637  7.740070        2.0\n",
      "799    cell200-1-1-1  12.855511  7.345174        2.0\n",
      "\n",
      "[800 rows x 4 columns]>\n",
      "DataFrame 中不存在名为 '_index' 的列。\n",
      "Index(['cell', 'x', 'y', 'cell_type'], dtype='object')\n",
      "st_gene_len----8607\n",
      "cell_name_list----800\n",
      "reading data done\n",
      "The unique celltype list is [1.0, 2.0]\n",
      "knn done\n",
      "all_pair_number ---- 800\n",
      "The cell pair number found between 1.0 and 1.0 is 2866\n",
      "per_exp-------(132401,)\n",
      "find ligand-recepotor pairs time-------------6\n",
      "receptor_gene---------1523\n",
      "lr_pair_sub---------(34496, 5)\n",
      "the number of valid pathway number between 1.0 and 1.0 is: 34496\n",
      "co_exp_ratio=-------(34496, 1)\n",
      "co_exp_value-------(34496, 1)\n",
      "co_exp_p-----(34496,)\n",
      "The ligand-recepotor pairs found between 1.0 and 1.0 with significant expression is 1119\n",
      "find significant expression ligand-recepotor pairs time-------------7\n",
      "find tf time-------------3\n",
      "tf------(18342, 6)\n",
      "path_score---(1110, 13)\n",
      "1.0 and 1.0 done. Data saved to lr/after/datas/temp/cci_result_1.0_1.0.pkl\n",
      "all_pair_number ---- 800\n",
      "The cell pair number found between 2.0 and 1.0 is 1132\n",
      "per_exp-------(132401,)\n",
      "find ligand-recepotor pairs time-------------2\n",
      "receptor_gene---------1575\n",
      "lr_pair_sub---------(38666, 5)\n",
      "the number of valid pathway number between 2.0 and 1.0 is: 38666\n",
      "co_exp_ratio=-------(38666, 1)\n",
      "co_exp_value-------(38666, 1)\n",
      "co_exp_p-----(38666,)\n",
      "The ligand-recepotor pairs found between 2.0 and 1.0 with significant expression is 17476\n",
      "find significant expression ligand-recepotor pairs time-------------7\n",
      "find tf time-------------59\n",
      "tf------(278895, 6)\n",
      "path_score---(17475, 13)\n",
      "1.0 and 2.0 done. Data saved to lr/after/datas/temp/cci_result_2.0_1.0.pkl\n",
      "all_pair_number ---- 800\n",
      "The cell pair number found between 1.0 and 2.0 is 1134\n",
      "per_exp-------(132401,)\n",
      "find ligand-recepotor pairs time-------------2\n",
      "receptor_gene---------3397\n",
      "lr_pair_sub---------(75920, 5)\n",
      "the number of valid pathway number between 1.0 and 2.0 is: 75920\n",
      "co_exp_ratio=-------(75920, 1)\n",
      "co_exp_value-------(75920, 1)\n",
      "co_exp_p-----(75920,)\n",
      "The ligand-recepotor pairs found between 1.0 and 2.0 with significant expression is 19472\n",
      "find significant expression ligand-recepotor pairs time-------------30\n",
      "find tf time-------------123\n",
      "tf------(850597, 6)\n",
      "path_score---(19472, 13)\n",
      "2.0 and 1.0 done. Data saved to lr/after/datas/temp/cci_result_1.0_2.0.pkl\n",
      "all_pair_number ---- 800\n",
      "The cell pair number found between 2.0 and 2.0 is 2868\n",
      "per_exp-------(132401,)\n",
      "find ligand-recepotor pairs time-------------8\n",
      "receptor_gene---------3213\n",
      "lr_pair_sub---------(71646, 5)\n",
      "the number of valid pathway number between 2.0 and 2.0 is: 71646\n",
      "co_exp_ratio=-------(71646, 1)\n",
      "co_exp_value-------(71646, 1)\n",
      "co_exp_p-----(71646,)\n",
      "The ligand-recepotor pairs found between 2.0 and 2.0 with significant expression is 53774\n",
      "find significant expression ligand-recepotor pairs time-------------29\n",
      "find tf time-------------266\n",
      "tf------(2221459, 6)\n",
      "path_score---(53771, 13)\n",
      "2.0 and 2.0 done. Data saved to lr/after/datas/temp/cci_result_2.0_2.0.pkl\n",
      "Total running time is 552 seconds\n",
      "finish 2\n",
      "2_3 0_3 right\n",
      "start spilting data\n",
      "View of AnnData object with n_obs × n_vars = 600 × 8607\n",
      "    obs: 'batch', 'leiden'\n",
      "    obsm: 'meta'\n",
      "finish 1\n",
      "start filtering LRIs with spatial data\n",
      "reading data\n",
      "<bound method NDFrame.head of                   cell          x         y  cell_type\n",
      "0      cell1-0-1-0-0-0   6.373032  8.933043        1.0\n",
      "1      cell2-0-1-0-0-0   1.613726  8.248680        1.0\n",
      "2      cell3-0-1-0-0-0   1.373817  2.201218        1.0\n",
      "3      cell4-0-1-0-0-0   0.809356  9.415871        1.0\n",
      "4      cell5-0-1-0-0-0   2.810129  6.630638        1.0\n",
      "..                 ...        ...       ...        ...\n",
      "595  cell196-1-1-0-0-1  11.378252  1.025635        2.0\n",
      "596  cell197-1-1-0-0-1   7.743184  2.681785        2.0\n",
      "597  cell198-1-1-0-0-1   9.194564  6.090764        2.0\n",
      "598  cell199-1-1-0-0-1  12.555637  7.740070        2.0\n",
      "599  cell200-1-1-0-0-1  12.855511  7.345174        2.0\n",
      "\n",
      "[600 rows x 4 columns]>\n",
      "DataFrame 中不存在名为 '_index' 的列。\n",
      "Index(['cell', 'x', 'y', 'cell_type'], dtype='object')\n",
      "st_gene_len----8607\n",
      "cell_name_list----600\n",
      "reading data done\n",
      "The unique celltype list is [1.0, 2.0]\n",
      "knn done\n",
      "all_pair_number ---- 600\n",
      "The cell pair number found between 1.0 and 1.0 is 3204\n",
      "per_exp-------(132401,)\n",
      "find ligand-recepotor pairs time-------------5\n",
      "receptor_gene---------1560\n",
      "lr_pair_sub---------(35271, 5)\n",
      "the number of valid pathway number between 1.0 and 1.0 is: 35271\n",
      "co_exp_ratio=-------(35271, 1)\n",
      "co_exp_value-------(35271, 1)\n",
      "co_exp_p-----(35271,)\n",
      "The ligand-recepotor pairs found between 1.0 and 1.0 with significant expression is 7209\n",
      "find significant expression ligand-recepotor pairs time-------------7\n",
      "find tf time-------------24\n",
      "tf------(129621, 6)\n",
      "path_score---(7201, 13)\n",
      "1.0 and 1.0 done. Data saved to lr/after/datas/temp/cci_result_1.0_1.0.pkl\n",
      "all_pair_number ---- 600\n",
      "The cell pair number found between 2.0 and 1.0 is 860\n",
      "per_exp-------(132401,)\n",
      "find ligand-recepotor pairs time-------------1\n",
      "receptor_gene---------1592\n",
      "lr_pair_sub---------(37068, 5)\n",
      "the number of valid pathway number between 2.0 and 1.0 is: 37068\n",
      "co_exp_ratio=-------(37068, 1)\n",
      "co_exp_value-------(37068, 1)\n",
      "co_exp_p-----(37068,)\n",
      "The ligand-recepotor pairs found between 2.0 and 1.0 with significant expression is 20879\n",
      "find significant expression ligand-recepotor pairs time-------------7\n",
      "find tf time-------------91\n",
      "tf------(344235, 6)\n",
      "path_score---(20876, 13)\n",
      "1.0 and 2.0 done. Data saved to lr/after/datas/temp/cci_result_2.0_1.0.pkl\n",
      "all_pair_number ---- 600\n",
      "The cell pair number found between 1.0 and 2.0 is 796\n",
      "per_exp-------(132401,)\n",
      "find ligand-recepotor pairs time-------------2\n",
      "receptor_gene---------3071\n",
      "lr_pair_sub---------(67649, 5)\n",
      "the number of valid pathway number between 1.0 and 2.0 is: 67649\n",
      "co_exp_ratio=-------(67649, 1)\n",
      "co_exp_value-------(67649, 1)\n",
      "co_exp_p-----(67649,)\n",
      "The ligand-recepotor pairs found between 1.0 and 2.0 with significant expression is 28827\n",
      "find significant expression ligand-recepotor pairs time-------------19\n",
      "find tf time-------------130\n",
      "tf------(1171445, 6)\n",
      "path_score---(28824, 13)\n",
      "2.0 and 1.0 done. Data saved to lr/after/datas/temp/cci_result_1.0_2.0.pkl\n",
      "all_pair_number ---- 600\n",
      "The cell pair number found between 2.0 and 2.0 is 1140\n",
      "per_exp-------(132401,)\n",
      "find ligand-recepotor pairs time-------------2\n",
      "receptor_gene---------2882\n",
      "lr_pair_sub---------(64352, 5)\n",
      "the number of valid pathway number between 2.0 and 2.0 is: 64352\n",
      "co_exp_ratio=-------(64352, 1)\n",
      "co_exp_value-------(64352, 1)\n",
      "co_exp_p-----(64352,)\n",
      "The ligand-recepotor pairs found between 2.0 and 2.0 with significant expression is 41573\n",
      "find significant expression ligand-recepotor pairs time-------------15\n",
      "find tf time-------------171\n",
      "tf------(1569922, 6)\n",
      "path_score---(41571, 13)\n",
      "2.0 and 2.0 done. Data saved to lr/after/datas/temp/cci_result_2.0_2.0.pkl\n",
      "Total running time is 484 seconds\n",
      "finish 2\n",
      "2_3 1_1 right\n",
      "start spilting data\n",
      "View of AnnData object with n_obs × n_vars = 600 × 8607\n",
      "    obs: 'batch', 'leiden'\n",
      "    obsm: 'meta'\n",
      "finish 1\n",
      "start filtering LRIs with spatial data\n",
      "reading data\n",
      "<bound method NDFrame.head of                 cell          x         y  cell_type\n",
      "0    cell1-0-1-0-0-0   6.373032  8.933043        1.0\n",
      "1    cell2-0-1-0-0-0   1.613726  8.248680        1.0\n",
      "2    cell3-0-1-0-0-0   1.373817  2.201218        1.0\n",
      "3    cell4-0-1-0-0-0   0.809356  9.415871        1.0\n",
      "4    cell5-0-1-0-0-0   2.810129  6.630638        1.0\n",
      "..               ...        ...       ...        ...\n",
      "595    cell196-1-1-1  11.378252  1.025635        2.0\n",
      "596    cell197-1-1-1   7.743184  2.681785        2.0\n",
      "597    cell198-1-1-1   9.194564  6.090764        2.0\n",
      "598    cell199-1-1-1  12.555637  7.740070        2.0\n",
      "599    cell200-1-1-1  12.855511  7.345174        2.0\n",
      "\n",
      "[600 rows x 4 columns]>\n",
      "DataFrame 中不存在名为 '_index' 的列。\n",
      "Index(['cell', 'x', 'y', 'cell_type'], dtype='object')\n",
      "st_gene_len----8607\n",
      "cell_name_list----600\n",
      "reading data done\n",
      "The unique celltype list is [1.0, 2.0]\n",
      "knn done\n",
      "all_pair_number ---- 600\n",
      "The cell pair number found between 1.0 and 1.0 is 1144\n",
      "per_exp-------(132401,)\n",
      "find ligand-recepotor pairs time-------------1\n",
      "receptor_gene---------1498\n",
      "lr_pair_sub---------(30259, 5)\n",
      "the number of valid pathway number between 1.0 and 1.0 is: 30259\n",
      "co_exp_ratio=-------(30259, 1)\n",
      "co_exp_value-------(30259, 1)\n",
      "co_exp_p-----(30259,)\n",
      "The ligand-recepotor pairs found between 1.0 and 1.0 with significant expression is 3677\n",
      "find significant expression ligand-recepotor pairs time-------------3\n",
      "find tf time-------------7\n",
      "tf------(84364, 6)\n",
      "path_score---(3671, 13)\n",
      "1.0 and 1.0 done. Data saved to lr/after/datas/temp/cci_result_1.0_1.0.pkl\n",
      "all_pair_number ---- 600\n",
      "The cell pair number found between 2.0 and 1.0 is 802\n",
      "per_exp-------(132401,)\n",
      "find ligand-recepotor pairs time-------------1\n",
      "receptor_gene---------1517\n",
      "lr_pair_sub---------(31968, 5)\n",
      "the number of valid pathway number between 2.0 and 1.0 is: 31968\n",
      "co_exp_ratio=-------(31968, 1)\n",
      "co_exp_value-------(31968, 1)\n",
      "co_exp_p-----(31968,)\n",
      "The ligand-recepotor pairs found between 2.0 and 1.0 with significant expression is 13403\n",
      "find significant expression ligand-recepotor pairs time-------------3\n",
      "find tf time-------------28\n",
      "tf------(289836, 6)\n",
      "path_score---(13400, 13)\n",
      "1.0 and 2.0 done. Data saved to lr/after/datas/temp/cci_result_2.0_1.0.pkl\n",
      "all_pair_number ---- 600\n",
      "The cell pair number found between 1.0 and 2.0 is 856\n",
      "per_exp-------(132401,)\n",
      "find ligand-recepotor pairs time-------------1\n",
      "receptor_gene---------3381\n",
      "lr_pair_sub---------(76974, 5)\n",
      "the number of valid pathway number between 1.0 and 2.0 is: 76974\n",
      "co_exp_ratio=-------(76974, 1)\n",
      "co_exp_value-------(76974, 1)\n",
      "co_exp_p-----(76974,)\n",
      "The ligand-recepotor pairs found between 1.0 and 2.0 with significant expression is 14097\n",
      "find significant expression ligand-recepotor pairs time-------------22\n",
      "find tf time-------------70\n",
      "tf------(620938, 6)\n",
      "path_score---(14096, 13)\n",
      "2.0 and 1.0 done. Data saved to lr/after/datas/temp/cci_result_1.0_2.0.pkl\n",
      "all_pair_number ---- 600\n",
      "The cell pair number found between 2.0 and 2.0 is 3198\n",
      "per_exp-------(132401,)\n",
      "find ligand-recepotor pairs time-------------7\n",
      "receptor_gene---------3180\n",
      "lr_pair_sub---------(71028, 5)\n",
      "the number of valid pathway number between 2.0 and 2.0 is: 71028\n",
      "co_exp_ratio=-------(71028, 1)\n",
      "co_exp_value-------(71028, 1)\n",
      "co_exp_p-----(71028,)\n",
      "The ligand-recepotor pairs found between 2.0 and 2.0 with significant expression is 43892\n",
      "find significant expression ligand-recepotor pairs time-------------21\n",
      "find tf time-------------196\n",
      "tf------(1844029, 6)\n",
      "path_score---(43892, 13)\n",
      "2.0 and 2.0 done. Data saved to lr/after/datas/temp/cci_result_2.0_2.0.pkl\n",
      "Total running time is 370 seconds\n",
      "finish 2\n",
      "0_1 0_3 right\n",
      "start spilting data\n",
      "View of AnnData object with n_obs × n_vars = 400 × 8418\n",
      "    obs: 'batch', 'leiden'\n",
      "    obsm: 'meta'\n",
      "finish 1\n",
      "start filtering LRIs with spatial data\n",
      "reading data\n",
      "<bound method NDFrame.head of                 cell          x         y  cell_type\n",
      "0      cell1-0-1-0-0   6.373032  8.933043        1.0\n",
      "1      cell2-0-1-0-0   1.613726  8.248680        1.0\n",
      "2      cell3-0-1-0-0   1.373817  2.201218        1.0\n",
      "3      cell4-0-1-0-0   0.809356  9.415871        1.0\n",
      "4      cell5-0-1-0-0   2.810129  6.630638        1.0\n",
      "..               ...        ...       ...        ...\n",
      "395  cell196-1-1-0-1  11.378252  1.025635        2.0\n",
      "396  cell197-1-1-0-1   7.743184  2.681785        2.0\n",
      "397  cell198-1-1-0-1   9.194564  6.090764        2.0\n",
      "398  cell199-1-1-0-1  12.555637  7.740070        2.0\n",
      "399  cell200-1-1-0-1  12.855511  7.345174        2.0\n",
      "\n",
      "[400 rows x 4 columns]>\n",
      "DataFrame 中不存在名为 '_index' 的列。\n",
      "Index(['cell', 'x', 'y', 'cell_type'], dtype='object')\n",
      "st_gene_len----8418\n",
      "cell_name_list----400\n",
      "reading data done\n",
      "The unique celltype list is [1.0, 2.0]\n",
      "knn done\n",
      "all_pair_number ---- 400\n",
      "The cell pair number found between 1.0 and 1.0 is 1350\n",
      "per_exp-------(126641,)\n",
      "find ligand-recepotor pairs time-------------1\n",
      "receptor_gene---------0\n",
      "lr_pair_sub---------(0, 5)\n",
      "No ligand-recepotor pairs found between 1.0 and 1.0 because of no downstream transcriptional factors found for receptors!\n",
      "all_pair_number ---- 400\n",
      "The cell pair number found between 2.0 and 1.0 is 663\n",
      "per_exp-------(126641,)\n",
      "find ligand-recepotor pairs time-------------0\n",
      "receptor_gene---------0\n",
      "lr_pair_sub---------(0, 5)\n",
      "No ligand-recepotor pairs found between 2.0 and 1.0 because of no downstream transcriptional factors found for receptors!\n",
      "all_pair_number ---- 400\n",
      "The cell pair number found between 1.0 and 2.0 is 650\n",
      "per_exp-------(126641,)\n",
      "find ligand-recepotor pairs time-------------0\n",
      "receptor_gene---------954\n",
      "lr_pair_sub---------(26353, 5)\n",
      "the number of valid pathway number between 1.0 and 2.0 is: 26353\n",
      "co_exp_ratio=-------(26353, 1)\n",
      "co_exp_value-------(26353, 1)\n",
      "co_exp_p-----(26353,)\n",
      "The ligand-recepotor pairs found between 1.0 and 2.0 with significant expression is 2764\n",
      "find significant expression ligand-recepotor pairs time-------------3\n",
      "find tf time-------------6\n",
      "tf------(24400, 6)\n",
      "path_score---(2725, 13)\n",
      "2.0 and 1.0 done. Data saved to lr/after/datas/temp/cci_result_1.0_2.0.pkl\n",
      "all_pair_number ---- 400\n",
      "The cell pair number found between 2.0 and 2.0 is 1337\n",
      "per_exp-------(126641,)\n",
      "find ligand-recepotor pairs time-------------1\n",
      "receptor_gene---------773\n",
      "lr_pair_sub---------(20642, 5)\n",
      "the number of valid pathway number between 2.0 and 2.0 is: 20642\n",
      "co_exp_ratio=-------(20642, 1)\n",
      "co_exp_value-------(20642, 1)\n",
      "co_exp_p-----(20642,)\n",
      "The ligand-recepotor pairs found between 2.0 and 2.0 with significant expression is 15578\n",
      "find significant expression ligand-recepotor pairs time-------------2\n",
      "find tf time-------------30\n",
      "tf------(67667, 6)\n",
      "path_score---(15098, 13)\n",
      "2.0 and 2.0 done. Data saved to lr/after/datas/temp/cci_result_2.0_2.0.pkl\n",
      "Total running time is 48 seconds\n",
      "finish 2\n",
      "1_2 2_2 right\n",
      "start spilting data\n",
      "View of AnnData object with n_obs × n_vars = 1600 × 8786\n",
      "    obs: 'batch', 'leiden'\n",
      "    obsm: 'meta'\n",
      "finish 1\n",
      "start filtering LRIs with spatial data\n",
      "reading data\n",
      "<bound method NDFrame.head of                  cell          x         y  cell_type\n",
      "0     cell1-0-0-0-0-0   6.373032  8.933043        1.0\n",
      "1     cell2-0-0-0-0-0   1.613726  8.248680        1.0\n",
      "2     cell3-0-0-0-0-0   1.373817  2.201218        1.0\n",
      "3     cell4-0-0-0-0-0   0.809356  9.415871        1.0\n",
      "4     cell5-0-0-0-0-0   2.810129  6.630638        1.0\n",
      "...               ...        ...       ...        ...\n",
      "1595    cell196-1-1-1  11.378252  1.025635        2.0\n",
      "1596    cell197-1-1-1   7.743184  2.681785        2.0\n",
      "1597    cell198-1-1-1   9.194564  6.090764        2.0\n",
      "1598    cell199-1-1-1  12.555637  7.740070        2.0\n",
      "1599    cell200-1-1-1  12.855511  7.345174        2.0\n",
      "\n",
      "[1600 rows x 4 columns]>\n",
      "DataFrame 中不存在名为 '_index' 的列。\n",
      "Index(['cell', 'x', 'y', 'cell_type'], dtype='object')\n",
      "st_gene_len----8786\n",
      "cell_name_list----1600\n",
      "reading data done\n",
      "The unique celltype list is [1.0, 2.0]\n",
      "knn done\n",
      "all_pair_number ---- 1600\n",
      "The cell pair number found between 1.0 and 1.0 is 6324\n",
      "per_exp-------(137566,)\n",
      "find ligand-recepotor pairs time-------------11\n",
      "receptor_gene---------1920\n",
      "lr_pair_sub---------(46083, 5)\n",
      "the number of valid pathway number between 1.0 and 1.0 is: 46083\n",
      "co_exp_ratio=-------(46083, 1)\n",
      "co_exp_value-------(46083, 1)\n",
      "co_exp_p-----(46083,)\n",
      "The ligand-recepotor pairs found between 1.0 and 1.0 with significant expression is 1778\n",
      "find significant expression ligand-recepotor pairs time-------------11\n",
      "find tf time-------------6\n",
      "tf------(15186, 6)\n",
      "path_score---(1774, 13)\n",
      "1.0 and 1.0 done. Data saved to lr/after/datas/temp/cci_result_1.0_1.0.pkl\n",
      "all_pair_number ---- 1600\n",
      "The cell pair number found between 2.0 and 1.0 is 1684\n",
      "per_exp-------(137566,)\n",
      "find ligand-recepotor pairs time-------------2\n",
      "receptor_gene---------1955\n",
      "lr_pair_sub---------(48338, 5)\n",
      "the number of valid pathway number between 2.0 and 1.0 is: 48338\n",
      "co_exp_ratio=-------(48338, 1)\n",
      "co_exp_value-------(48338, 1)\n",
      "co_exp_p-----(48338,)\n",
      "The ligand-recepotor pairs found between 2.0 and 1.0 with significant expression is 20029\n",
      "find significant expression ligand-recepotor pairs time-------------9\n",
      "find tf time-------------64\n",
      "tf------(191425, 6)\n",
      "path_score---(19633, 13)\n",
      "1.0 and 2.0 done. Data saved to lr/after/datas/temp/cci_result_2.0_1.0.pkl\n",
      "all_pair_number ---- 1600\n",
      "The cell pair number found between 1.0 and 2.0 is 1676\n",
      "per_exp-------(137566,)\n",
      "find ligand-recepotor pairs time-------------4\n",
      "receptor_gene---------3461\n",
      "lr_pair_sub---------(84664, 5)\n",
      "the number of valid pathway number between 1.0 and 2.0 is: 84664\n",
      "co_exp_ratio=-------(84664, 1)\n",
      "co_exp_value-------(84664, 1)\n",
      "co_exp_p-----(84664,)\n",
      "The ligand-recepotor pairs found between 1.0 and 2.0 with significant expression is 24644\n",
      "find significant expression ligand-recepotor pairs time-------------25\n",
      "find tf time-------------170\n",
      "tf------(837546, 6)\n",
      "path_score---(24643, 13)\n",
      "2.0 and 1.0 done. Data saved to lr/after/datas/temp/cci_result_1.0_2.0.pkl\n",
      "all_pair_number ---- 1600\n",
      "The cell pair number found between 2.0 and 2.0 is 6316\n",
      "per_exp-------(137566,)\n",
      "find ligand-recepotor pairs time-------------31\n",
      "receptor_gene---------3375\n",
      "lr_pair_sub---------(78850, 5)\n",
      "the number of valid pathway number between 2.0 and 2.0 is: 78850\n",
      "co_exp_ratio=-------(78850, 1)\n",
      "co_exp_value-------(78850, 1)\n",
      "co_exp_p-----(78850,)\n",
      "The ligand-recepotor pairs found between 2.0 and 2.0 with significant expression is 61577\n",
      "find significant expression ligand-recepotor pairs time-------------35\n",
      "find tf time-------------311\n",
      "tf------(2018899, 6)\n",
      "path_score---(61573, 13)\n",
      "2.0 and 2.0 done. Data saved to lr/after/datas/temp/cci_result_2.0_2.0.pkl\n",
      "Total running time is 691 seconds\n",
      "finish 2\n",
      "3_0 3_0 right\n",
      "start spilting data\n",
      "View of AnnData object with n_obs × n_vars = 1200 × 8786\n",
      "    obs: 'batch', 'leiden'\n",
      "    obsm: 'meta'\n",
      "finish 1\n",
      "start filtering LRIs with spatial data\n",
      "reading data\n",
      "<bound method NDFrame.head of                  cell          x         y  cell_type\n",
      "0     cell1-0-0-0-0-0   6.373032  8.933043        1.0\n",
      "1     cell2-0-0-0-0-0   1.613726  8.248680        1.0\n",
      "2     cell3-0-0-0-0-0   1.373817  2.201218        1.0\n",
      "3     cell4-0-0-0-0-0   0.809356  9.415871        1.0\n",
      "4     cell5-0-0-0-0-0   2.810129  6.630638        1.0\n",
      "...               ...        ...       ...        ...\n",
      "1195    cell196-1-1-1  11.378252  1.025635        2.0\n",
      "1196    cell197-1-1-1   7.743184  2.681785        2.0\n",
      "1197    cell198-1-1-1   9.194564  6.090764        2.0\n",
      "1198    cell199-1-1-1  12.555637  7.740070        2.0\n",
      "1199    cell200-1-1-1  12.855511  7.345174        2.0\n",
      "\n",
      "[1200 rows x 4 columns]>\n",
      "DataFrame 中不存在名为 '_index' 的列。\n",
      "Index(['cell', 'x', 'y', 'cell_type'], dtype='object')\n",
      "st_gene_len----8786\n",
      "cell_name_list----1200\n",
      "reading data done\n",
      "The unique celltype list is [1.0, 2.0]\n",
      "knn done\n",
      "all_pair_number ---- 1200\n",
      "The cell pair number found between 1.0 and 1.0 is 6776\n",
      "per_exp-------(137566,)\n",
      "find ligand-recepotor pairs time-------------13\n",
      "receptor_gene---------1950\n",
      "lr_pair_sub---------(46813, 5)\n",
      "the number of valid pathway number between 1.0 and 1.0 is: 46813\n",
      "co_exp_ratio=-------(46813, 1)\n",
      "co_exp_value-------(46813, 1)\n",
      "co_exp_p-----(46813,)\n",
      "The ligand-recepotor pairs found between 1.0 and 1.0 with significant expression is 6729\n",
      "find significant expression ligand-recepotor pairs time-------------12\n",
      "find tf time-------------22\n",
      "tf------(56692, 6)\n",
      "path_score---(6715, 13)\n",
      "1.0 and 1.0 done. Data saved to lr/after/datas/temp/cci_result_1.0_1.0.pkl\n",
      "all_pair_number ---- 1200\n",
      "The cell pair number found between 2.0 and 1.0 is 1426\n",
      "per_exp-------(137566,)\n",
      "find ligand-recepotor pairs time-------------2\n",
      "receptor_gene---------1972\n",
      "lr_pair_sub---------(49569, 5)\n",
      "the number of valid pathway number between 2.0 and 1.0 is: 49569\n",
      "co_exp_ratio=-------(49569, 1)\n",
      "co_exp_value-------(49569, 1)\n",
      "co_exp_p-----(49569,)\n",
      "The ligand-recepotor pairs found between 2.0 and 1.0 with significant expression is 24732\n",
      "find significant expression ligand-recepotor pairs time-------------10\n",
      "find tf time-------------85\n",
      "tf------(223318, 6)\n",
      "path_score---(24610, 13)\n",
      "1.0 and 2.0 done. Data saved to lr/after/datas/temp/cci_result_2.0_1.0.pkl\n",
      "all_pair_number ---- 1200\n",
      "The cell pair number found between 1.0 and 2.0 is 1224\n",
      "per_exp-------(137566,)\n",
      "find ligand-recepotor pairs time-------------3\n",
      "receptor_gene---------3362\n",
      "lr_pair_sub---------(77347, 5)\n",
      "the number of valid pathway number between 1.0 and 2.0 is: 77347\n",
      "co_exp_ratio=-------(77347, 1)\n",
      "co_exp_value-------(77347, 1)\n",
      "co_exp_p-----(77347,)\n",
      "The ligand-recepotor pairs found between 1.0 and 2.0 with significant expression is 36040\n",
      "find significant expression ligand-recepotor pairs time-------------23\n",
      "find tf time-------------176\n",
      "tf------(1606970, 6)\n",
      "path_score---(36040, 13)\n",
      "2.0 and 1.0 done. Data saved to lr/after/datas/temp/cci_result_1.0_2.0.pkl\n",
      "all_pair_number ---- 1200\n",
      "The cell pair number found between 2.0 and 2.0 is 2574\n",
      "per_exp-------(137566,)\n",
      "find ligand-recepotor pairs time-------------8\n",
      "receptor_gene---------3227\n",
      "lr_pair_sub---------(71628, 5)\n",
      "the number of valid pathway number between 2.0 and 2.0 is: 71628\n",
      "co_exp_ratio=-------(71628, 1)\n",
      "co_exp_value-------(71628, 1)\n",
      "co_exp_p-----(71628,)\n",
      "The ligand-recepotor pairs found between 2.0 and 2.0 with significant expression is 52516\n",
      "find significant expression ligand-recepotor pairs time-------------24\n",
      "find tf time-------------250\n",
      "tf------(2317278, 6)\n",
      "path_score---(52516, 13)\n",
      "2.0 and 2.0 done. Data saved to lr/after/datas/temp/cci_result_2.0_2.0.pkl\n",
      "Total running time is 638 seconds\n",
      "finish 2\n",
      "3_0 0_3 right\n",
      "start spilting data\n",
      "View of AnnData object with n_obs × n_vars = 1000 × 8786\n",
      "    obs: 'batch', 'leiden'\n",
      "    obsm: 'meta'\n",
      "finish 1\n",
      "start filtering LRIs with spatial data\n",
      "reading data\n",
      "<bound method NDFrame.head of                   cell          x         y  cell_type\n",
      "0      cell1-0-0-0-0-0   6.373032  8.933043        1.0\n",
      "1      cell2-0-0-0-0-0   1.613726  8.248680        1.0\n",
      "2      cell3-0-0-0-0-0   1.373817  2.201218        1.0\n",
      "3      cell4-0-0-0-0-0   0.809356  9.415871        1.0\n",
      "4      cell5-0-0-0-0-0   2.810129  6.630638        1.0\n",
      "..                 ...        ...       ...        ...\n",
      "995  cell196-1-1-0-0-1  11.378252  1.025635        2.0\n",
      "996  cell197-1-1-0-0-1   7.743184  2.681785        2.0\n",
      "997  cell198-1-1-0-0-1   9.194564  6.090764        2.0\n",
      "998  cell199-1-1-0-0-1  12.555637  7.740070        2.0\n",
      "999  cell200-1-1-0-0-1  12.855511  7.345174        2.0\n",
      "\n",
      "[1000 rows x 4 columns]>\n",
      "DataFrame 中不存在名为 '_index' 的列。\n",
      "Index(['cell', 'x', 'y', 'cell_type'], dtype='object')\n",
      "st_gene_len----8786\n",
      "cell_name_list----1000\n",
      "reading data done\n",
      "The unique celltype list is [1.0, 2.0]\n",
      "knn done\n",
      "all_pair_number ---- 1000\n",
      "The cell pair number found between 1.0 and 1.0 is 7208\n",
      "per_exp-------(137566,)\n",
      "find ligand-recepotor pairs time-------------14\n",
      "receptor_gene---------1962\n",
      "lr_pair_sub---------(46895, 5)\n",
      "the number of valid pathway number between 1.0 and 1.0 is: 46895\n",
      "co_exp_ratio=-------(46895, 1)\n",
      "co_exp_value-------(46895, 1)\n",
      "co_exp_p-----(46895,)\n",
      "The ligand-recepotor pairs found between 1.0 and 1.0 with significant expression is 9430\n",
      "find significant expression ligand-recepotor pairs time-------------13\n",
      "find tf time-------------33\n",
      "tf------(86704, 6)\n",
      "path_score---(9430, 13)\n",
      "1.0 and 1.0 done. Data saved to lr/after/datas/temp/cci_result_1.0_1.0.pkl\n",
      "all_pair_number ---- 1000\n",
      "The cell pair number found between 2.0 and 1.0 is 999\n",
      "per_exp-------(137566,)\n",
      "find ligand-recepotor pairs time-------------1\n",
      "receptor_gene---------1984\n",
      "lr_pair_sub---------(49569, 5)\n",
      "the number of valid pathway number between 2.0 and 1.0 is: 49569\n",
      "co_exp_ratio=-------(49569, 1)\n",
      "co_exp_value-------(49569, 1)\n",
      "co_exp_p-----(49569,)\n",
      "The ligand-recepotor pairs found between 2.0 and 1.0 with significant expression is 25689\n",
      "find significant expression ligand-recepotor pairs time-------------9\n",
      "find tf time-------------86\n",
      "tf------(231916, 6)\n",
      "path_score---(25601, 13)\n",
      "1.0 and 2.0 done. Data saved to lr/after/datas/temp/cci_result_2.0_1.0.pkl\n",
      "all_pair_number ---- 1000\n",
      "The cell pair number found between 1.0 and 2.0 is 792\n",
      "per_exp-------(137566,)\n",
      "find ligand-recepotor pairs time-------------1\n",
      "receptor_gene---------3046\n",
      "lr_pair_sub---------(68357, 5)\n",
      "the number of valid pathway number between 1.0 and 2.0 is: 68357\n",
      "co_exp_ratio=-------(68357, 1)\n",
      "co_exp_value-------(68357, 1)\n",
      "co_exp_p-----(68357,)\n",
      "The ligand-recepotor pairs found between 1.0 and 2.0 with significant expression is 37520\n",
      "find significant expression ligand-recepotor pairs time-------------17\n",
      "find tf time-------------165\n",
      "tf------(1598737, 6)\n",
      "path_score---(37517, 13)\n",
      "2.0 and 1.0 done. Data saved to lr/after/datas/temp/cci_result_1.0_2.0.pkl\n",
      "all_pair_number ---- 1000\n",
      "The cell pair number found between 2.0 and 2.0 is 1001\n",
      "per_exp-------(137566,)\n",
      "find ligand-recepotor pairs time-------------2\n",
      "receptor_gene---------2894\n",
      "lr_pair_sub---------(64234, 5)\n",
      "the number of valid pathway number between 2.0 and 2.0 is: 64234\n",
      "co_exp_ratio=-------(64234, 1)\n",
      "co_exp_value-------(64234, 1)\n",
      "co_exp_p-----(64234,)\n",
      "The ligand-recepotor pairs found between 2.0 and 2.0 with significant expression is 39681\n",
      "find significant expression ligand-recepotor pairs time-------------15\n",
      "find tf time-------------172\n",
      "tf------(1559823, 6)\n",
      "path_score---(39679, 13)\n",
      "2.0 and 2.0 done. Data saved to lr/after/datas/temp/cci_result_2.0_2.0.pkl\n",
      "Total running time is 538 seconds\n",
      "finish 2\n",
      "3_0 1_1 right\n",
      "start spilting data\n",
      "View of AnnData object with n_obs × n_vars = 1000 × 8786\n",
      "    obs: 'batch', 'leiden'\n",
      "    obsm: 'meta'\n",
      "finish 1\n",
      "start filtering LRIs with spatial data\n",
      "reading data\n",
      "<bound method NDFrame.head of                 cell          x         y  cell_type\n",
      "0    cell1-0-0-0-0-0   6.373032  8.933043        1.0\n",
      "1    cell2-0-0-0-0-0   1.613726  8.248680        1.0\n",
      "2    cell3-0-0-0-0-0   1.373817  2.201218        1.0\n",
      "3    cell4-0-0-0-0-0   0.809356  9.415871        1.0\n",
      "4    cell5-0-0-0-0-0   2.810129  6.630638        1.0\n",
      "..               ...        ...       ...        ...\n",
      "995  cell196-1-1-0-1  11.378252  1.025635        2.0\n",
      "996  cell197-1-1-0-1   7.743184  2.681785        2.0\n",
      "997  cell198-1-1-0-1   9.194564  6.090764        2.0\n",
      "998  cell199-1-1-0-1  12.555637  7.740070        2.0\n",
      "999  cell200-1-1-0-1  12.855511  7.345174        2.0\n",
      "\n",
      "[1000 rows x 4 columns]>\n",
      "DataFrame 中不存在名为 '_index' 的列。\n",
      "Index(['cell', 'x', 'y', 'cell_type'], dtype='object')\n",
      "st_gene_len----8786\n",
      "cell_name_list----1000\n",
      "reading data done\n",
      "The unique celltype list is [1.0, 2.0]\n",
      "knn done\n",
      "all_pair_number ---- 1000\n",
      "The cell pair number found between 1.0 and 1.0 is 7208\n",
      "per_exp-------(137566,)\n",
      "find ligand-recepotor pairs time-------------16\n",
      "receptor_gene---------1966\n",
      "lr_pair_sub---------(46895, 5)\n",
      "the number of valid pathway number between 1.0 and 1.0 is: 46895\n",
      "co_exp_ratio=-------(46895, 1)\n",
      "co_exp_value-------(46895, 1)\n",
      "co_exp_p-----(46895,)\n",
      "The ligand-recepotor pairs found between 1.0 and 1.0 with significant expression is 10316\n",
      "find significant expression ligand-recepotor pairs time-------------12\n",
      "find tf time-------------37\n",
      "tf------(109112, 6)\n",
      "path_score---(10245, 13)\n",
      "1.0 and 1.0 done. Data saved to lr/after/datas/temp/cci_result_1.0_1.0.pkl\n",
      "all_pair_number ---- 1000\n",
      "The cell pair number found between 2.0 and 1.0 is 999\n",
      "per_exp-------(137566,)\n",
      "find ligand-recepotor pairs time-------------1\n",
      "receptor_gene---------1990\n",
      "lr_pair_sub---------(49569, 5)\n",
      "the number of valid pathway number between 2.0 and 1.0 is: 49569\n",
      "co_exp_ratio=-------(49569, 1)\n",
      "co_exp_value-------(49569, 1)\n",
      "co_exp_p-----(49569,)\n",
      "The ligand-recepotor pairs found between 2.0 and 1.0 with significant expression is 24037\n",
      "find significant expression ligand-recepotor pairs time-------------10\n",
      "find tf time-------------81\n",
      "tf------(231768, 6)\n",
      "path_score---(23894, 13)\n",
      "1.0 and 2.0 done. Data saved to lr/after/datas/temp/cci_result_2.0_1.0.pkl\n",
      "all_pair_number ---- 1000\n",
      "The cell pair number found between 1.0 and 2.0 is 792\n",
      "per_exp-------(137566,)\n",
      "find ligand-recepotor pairs time-------------1\n",
      "receptor_gene---------2983\n",
      "lr_pair_sub---------(74116, 5)\n",
      "the number of valid pathway number between 1.0 and 2.0 is: 74116\n",
      "co_exp_ratio=-------(74116, 1)\n",
      "co_exp_value-------(74116, 1)\n",
      "co_exp_p-----(74116,)\n",
      "The ligand-recepotor pairs found between 1.0 and 2.0 with significant expression is 40916\n",
      "find significant expression ligand-recepotor pairs time-------------18\n",
      "find tf time-------------181\n",
      "tf------(1294543, 6)\n",
      "path_score---(40916, 13)\n",
      "2.0 and 1.0 done. Data saved to lr/after/datas/temp/cci_result_1.0_2.0.pkl\n",
      "all_pair_number ---- 1000\n",
      "The cell pair number found between 2.0 and 2.0 is 1001\n",
      "per_exp-------(137566,)\n",
      "find ligand-recepotor pairs time-------------2\n",
      "receptor_gene---------2795\n",
      "lr_pair_sub---------(68402, 5)\n",
      "the number of valid pathway number between 2.0 and 2.0 is: 68402\n",
      "co_exp_ratio=-------(68402, 1)\n",
      "co_exp_value-------(68402, 1)\n",
      "co_exp_p-----(68402,)\n",
      "The ligand-recepotor pairs found between 2.0 and 2.0 with significant expression is 42161\n",
      "find significant expression ligand-recepotor pairs time-------------17\n",
      "find tf time-------------175\n",
      "tf------(1154783, 6)\n",
      "path_score---(42161, 13)\n",
      "2.0 and 2.0 done. Data saved to lr/after/datas/temp/cci_result_2.0_2.0.pkl\n",
      "Total running time is 561 seconds\n",
      "finish 2\n",
      "3_0 2_2 right\n",
      "start spilting data\n",
      "View of AnnData object with n_obs × n_vars = 1000 × 8786\n",
      "    obs: 'batch', 'leiden'\n",
      "    obsm: 'meta'\n",
      "finish 1\n",
      "start filtering LRIs with spatial data\n",
      "reading data\n",
      "<bound method NDFrame.head of               cell          x         y  cell_type\n",
      "0    cell1-0-1-0-0   6.373032  8.933043        1.0\n",
      "1    cell2-0-1-0-0   1.613726  8.248680        1.0\n",
      "2    cell3-0-1-0-0   1.373817  2.201218        1.0\n",
      "3    cell4-0-1-0-0   0.809356  9.415871        1.0\n",
      "4    cell5-0-1-0-0   2.810129  6.630638        1.0\n",
      "..             ...        ...       ...        ...\n",
      "995  cell196-1-1-1  11.378252  1.025635        2.0\n",
      "996  cell197-1-1-1   7.743184  2.681785        2.0\n",
      "997  cell198-1-1-1   9.194564  6.090764        2.0\n",
      "998  cell199-1-1-1  12.555637  7.740070        2.0\n",
      "999  cell200-1-1-1  12.855511  7.345174        2.0\n",
      "\n",
      "[1000 rows x 4 columns]>\n",
      "DataFrame 中不存在名为 '_index' 的列。\n",
      "Index(['cell', 'x', 'y', 'cell_type'], dtype='object')\n",
      "st_gene_len----8786\n",
      "cell_name_list----1000\n",
      "reading data done\n",
      "The unique celltype list is [1.0, 2.0]\n",
      "knn done\n",
      "all_pair_number ---- 1000\n",
      "The cell pair number found between 1.0 and 1.0 is 983\n",
      "per_exp-------(137566,)\n",
      "find ligand-recepotor pairs time-------------1\n",
      "receptor_gene---------1341\n",
      "lr_pair_sub---------(32202, 5)\n",
      "the number of valid pathway number between 1.0 and 1.0 is: 32202\n",
      "co_exp_ratio=-------(32202, 1)\n",
      "co_exp_value-------(32202, 1)\n",
      "co_exp_p-----(32202,)\n",
      "The ligand-recepotor pairs found between 1.0 and 1.0 with significant expression is 6964\n",
      "find significant expression ligand-recepotor pairs time-------------4\n",
      "find tf time-------------15\n",
      "tf------(136084, 6)\n",
      "path_score---(6964, 13)\n",
      "1.0 and 1.0 done. Data saved to lr/after/datas/temp/cci_result_1.0_1.0.pkl\n",
      "all_pair_number ---- 1000\n",
      "The cell pair number found between 2.0 and 1.0 is 832\n",
      "per_exp-------(137566,)\n",
      "find ligand-recepotor pairs time-------------1\n",
      "receptor_gene---------1611\n",
      "lr_pair_sub---------(39667, 5)\n",
      "the number of valid pathway number between 2.0 and 1.0 is: 39667\n",
      "co_exp_ratio=-------(39667, 1)\n",
      "co_exp_value-------(39667, 1)\n",
      "co_exp_p-----(39667,)\n",
      "The ligand-recepotor pairs found between 2.0 and 1.0 with significant expression is 17193\n",
      "find significant expression ligand-recepotor pairs time-------------5\n",
      "find tf time-------------42\n",
      "tf------(300310, 6)\n",
      "path_score---(17193, 13)\n",
      "1.0 and 2.0 done. Data saved to lr/after/datas/temp/cci_result_2.0_1.0.pkl\n",
      "all_pair_number ---- 1000\n",
      "The cell pair number found between 1.0 and 2.0 is 1017\n",
      "per_exp-------(137566,)\n",
      "find ligand-recepotor pairs time-------------2\n",
      "receptor_gene---------3464\n",
      "lr_pair_sub---------(85429, 5)\n",
      "the number of valid pathway number between 1.0 and 2.0 is: 85429\n",
      "co_exp_ratio=-------(85429, 1)\n",
      "co_exp_value-------(85429, 1)\n",
      "co_exp_p-----(85429,)\n",
      "The ligand-recepotor pairs found between 1.0 and 2.0 with significant expression is 14033\n",
      "find significant expression ligand-recepotor pairs time-------------26\n",
      "find tf time-------------75\n",
      "tf------(520952, 6)\n",
      "path_score---(14032, 13)\n",
      "2.0 and 1.0 done. Data saved to lr/after/datas/temp/cci_result_1.0_2.0.pkl\n",
      "all_pair_number ---- 1000\n",
      "The cell pair number found between 2.0 and 2.0 is 7168\n",
      "per_exp-------(137566,)\n",
      "find ligand-recepotor pairs time-------------32\n",
      "receptor_gene---------3263\n",
      "lr_pair_sub---------(77269, 5)\n",
      "the number of valid pathway number between 2.0 and 2.0 is: 77269\n",
      "co_exp_ratio=-------(77269, 1)\n",
      "co_exp_value-------(77269, 1)\n",
      "co_exp_p-----(77269,)\n",
      "The ligand-recepotor pairs found between 2.0 and 2.0 with significant expression is 43746\n",
      "find significant expression ligand-recepotor pairs time-------------31\n",
      "find tf time-------------213\n",
      "tf------(1459137, 6)\n",
      "path_score---(43744, 13)\n",
      "2.0 and 2.0 done. Data saved to lr/after/datas/temp/cci_result_2.0_2.0.pkl\n",
      "Total running time is 456 seconds\n",
      "finish 2\n",
      "1_2 3_0 right\n",
      "start spilting data\n",
      "View of AnnData object with n_obs × n_vars = 1200 × 8786\n",
      "    obs: 'batch', 'leiden'\n",
      "    obsm: 'meta'\n",
      "finish 1\n",
      "start filtering LRIs with spatial data\n",
      "reading data\n",
      "<bound method NDFrame.head of                  cell          x         y  cell_type\n",
      "0     cell1-0-1-0-0-0   6.373032  8.933043        1.0\n",
      "1     cell2-0-1-0-0-0   1.613726  8.248680        1.0\n",
      "2     cell3-0-1-0-0-0   1.373817  2.201218        1.0\n",
      "3     cell4-0-1-0-0-0   0.809356  9.415871        1.0\n",
      "4     cell5-0-1-0-0-0   2.810129  6.630638        1.0\n",
      "...               ...        ...       ...        ...\n",
      "1195    cell196-1-1-1  11.378252  1.025635        2.0\n",
      "1196    cell197-1-1-1   7.743184  2.681785        2.0\n",
      "1197    cell198-1-1-1   9.194564  6.090764        2.0\n",
      "1198    cell199-1-1-1  12.555637  7.740070        2.0\n",
      "1199    cell200-1-1-1  12.855511  7.345174        2.0\n",
      "\n",
      "[1200 rows x 4 columns]>\n",
      "DataFrame 中不存在名为 '_index' 的列。\n",
      "Index(['cell', 'x', 'y', 'cell_type'], dtype='object')\n",
      "st_gene_len----8786\n",
      "cell_name_list----1200\n",
      "reading data done\n",
      "The unique celltype list is [1.0, 2.0]\n",
      "knn done\n",
      "all_pair_number ---- 1200\n",
      "The cell pair number found between 1.0 and 1.0 is 2554\n",
      "per_exp-------(137566,)\n",
      "find ligand-recepotor pairs time-------------4\n",
      "receptor_gene---------1520\n",
      "lr_pair_sub---------(34620, 5)\n",
      "the number of valid pathway number between 1.0 and 1.0 is: 34620\n",
      "co_exp_ratio=-------(34620, 1)\n",
      "co_exp_value-------(34620, 1)\n",
      "co_exp_p-----(34620,)\n",
      "The ligand-recepotor pairs found between 1.0 and 1.0 with significant expression is 9921\n",
      "find significant expression ligand-recepotor pairs time-------------5\n",
      "find tf time-------------23\n",
      "tf------(165575, 6)\n",
      "path_score---(9848, 13)\n",
      "1.0 and 1.0 done. Data saved to lr/after/datas/temp/cci_result_1.0_1.0.pkl\n",
      "all_pair_number ---- 1200\n",
      "The cell pair number found between 2.0 and 1.0 is 1248\n",
      "per_exp-------(137566,)\n",
      "find ligand-recepotor pairs time-------------2\n",
      "receptor_gene---------1594\n",
      "lr_pair_sub---------(38277, 5)\n",
      "the number of valid pathway number between 2.0 and 1.0 is: 38277\n",
      "co_exp_ratio=-------(38277, 1)\n",
      "co_exp_value-------(38277, 1)\n",
      "co_exp_p-----(38277,)\n",
      "The ligand-recepotor pairs found between 2.0 and 1.0 with significant expression is 22963\n",
      "find significant expression ligand-recepotor pairs time-------------5\n",
      "find tf time-------------56\n",
      "tf------(370343, 6)\n",
      "path_score---(22962, 13)\n",
      "1.0 and 2.0 done. Data saved to lr/after/datas/temp/cci_result_2.0_1.0.pkl\n",
      "all_pair_number ---- 1200\n",
      "The cell pair number found between 1.0 and 2.0 is 1446\n",
      "per_exp-------(137566,)\n",
      "find ligand-recepotor pairs time-------------4\n",
      "receptor_gene---------3440\n",
      "lr_pair_sub---------(86536, 5)\n",
      "the number of valid pathway number between 1.0 and 2.0 is: 86536\n",
      "co_exp_ratio=-------(86536, 1)\n",
      "co_exp_value-------(86536, 1)\n",
      "co_exp_p-----(86536,)\n",
      "The ligand-recepotor pairs found between 1.0 and 2.0 with significant expression is 22628\n",
      "find significant expression ligand-recepotor pairs time-------------26\n",
      "find tf time-------------115\n",
      "tf------(806500, 6)\n",
      "path_score---(22627, 13)\n",
      "2.0 and 1.0 done. Data saved to lr/after/datas/temp/cci_result_1.0_2.0.pkl\n",
      "all_pair_number ---- 1200\n",
      "The cell pair number found between 2.0 and 2.0 is 6752\n",
      "per_exp-------(137566,)\n",
      "find ligand-recepotor pairs time-------------45\n",
      "receptor_gene---------3279\n",
      "lr_pair_sub---------(77301, 5)\n",
      "the number of valid pathway number between 2.0 and 2.0 is: 77301\n",
      "co_exp_ratio=-------(77301, 1)\n",
      "co_exp_value-------(77301, 1)\n",
      "co_exp_p-----(77301,)\n",
      "The ligand-recepotor pairs found between 2.0 and 2.0 with significant expression is 41072\n",
      "find significant expression ligand-recepotor pairs time-------------36\n",
      "find tf time-------------261\n",
      "tf------(1286079, 6)\n",
      "path_score---(41069, 13)\n",
      "2.0 and 2.0 done. Data saved to lr/after/datas/temp/cci_result_2.0_2.0.pkl\n",
      "Total running time is 657 seconds\n",
      "finish 2\n",
      "2_3 3_0 right\n",
      "start spilting data\n",
      "View of AnnData object with n_obs × n_vars = 1000 × 8786\n",
      "    obs: 'batch', 'leiden'\n",
      "    obsm: 'meta'\n",
      "finish 1\n",
      "start filtering LRIs with spatial data\n",
      "reading data\n",
      "<bound method NDFrame.head of                 cell          x         y  cell_type\n",
      "0    cell1-0-1-0-0-0   6.373032  8.933043        1.0\n",
      "1    cell2-0-1-0-0-0   1.613726  8.248680        1.0\n",
      "2    cell3-0-1-0-0-0   1.373817  2.201218        1.0\n",
      "3    cell4-0-1-0-0-0   0.809356  9.415871        1.0\n",
      "4    cell5-0-1-0-0-0   2.810129  6.630638        1.0\n",
      "..               ...        ...       ...        ...\n",
      "995    cell196-1-1-1  11.378252  1.025635        2.0\n",
      "996    cell197-1-1-1   7.743184  2.681785        2.0\n",
      "997    cell198-1-1-1   9.194564  6.090764        2.0\n",
      "998    cell199-1-1-1  12.555637  7.740070        2.0\n",
      "999    cell200-1-1-1  12.855511  7.345174        2.0\n",
      "\n",
      "[1000 rows x 4 columns]>\n",
      "DataFrame 中不存在名为 '_index' 的列。\n",
      "Index(['cell', 'x', 'y', 'cell_type'], dtype='object')\n",
      "st_gene_len----8786\n",
      "cell_name_list----1000\n",
      "reading data done\n",
      "The unique celltype list is [1.0, 2.0]\n",
      "knn done\n",
      "all_pair_number ---- 1000\n",
      "The cell pair number found between 1.0 and 1.0 is 983\n",
      "per_exp-------(137566,)\n",
      "find ligand-recepotor pairs time-------------2\n",
      "receptor_gene---------1497\n",
      "lr_pair_sub---------(31950, 5)\n",
      "the number of valid pathway number between 1.0 and 1.0 is: 31950\n",
      "co_exp_ratio=-------(31950, 1)\n",
      "co_exp_value-------(31950, 1)\n",
      "co_exp_p-----(31950,)\n",
      "The ligand-recepotor pairs found between 1.0 and 1.0 with significant expression is 6576\n",
      "find significant expression ligand-recepotor pairs time-------------5\n",
      "find tf time-------------24\n",
      "tf------(156158, 6)\n",
      "path_score---(6564, 13)\n",
      "1.0 and 1.0 done. Data saved to lr/after/datas/temp/cci_result_1.0_1.0.pkl\n",
      "all_pair_number ---- 1000\n",
      "The cell pair number found between 2.0 and 1.0 is 832\n",
      "per_exp-------(137566,)\n",
      "find ligand-recepotor pairs time-------------2\n",
      "receptor_gene---------1652\n",
      "lr_pair_sub---------(38691, 5)\n",
      "the number of valid pathway number between 2.0 and 1.0 is: 38691\n",
      "co_exp_ratio=-------(38691, 1)\n",
      "co_exp_value-------(38691, 1)\n",
      "co_exp_p-----(38691,)\n",
      "The ligand-recepotor pairs found between 2.0 and 1.0 with significant expression is 14969\n",
      "find significant expression ligand-recepotor pairs time-------------6\n",
      "find tf time-------------63\n",
      "tf------(384845, 6)\n",
      "path_score---(14960, 13)\n",
      "1.0 and 2.0 done. Data saved to lr/after/datas/temp/cci_result_2.0_1.0.pkl\n",
      "all_pair_number ---- 1000\n",
      "The cell pair number found between 1.0 and 2.0 is 1017\n",
      "per_exp-------(137566,)\n",
      "find ligand-recepotor pairs time-------------3\n",
      "receptor_gene---------3448\n",
      "lr_pair_sub---------(85409, 5)\n",
      "the number of valid pathway number between 1.0 and 2.0 is: 85409\n",
      "co_exp_ratio=-------(85409, 1)\n",
      "co_exp_value-------(85409, 1)\n",
      "co_exp_p-----(85409,)\n",
      "The ligand-recepotor pairs found between 1.0 and 2.0 with significant expression is 15351\n",
      "find significant expression ligand-recepotor pairs time-------------36\n",
      "find tf time-------------104\n",
      "tf------(560446, 6)\n",
      "path_score---(15350, 13)\n",
      "2.0 and 1.0 done. Data saved to lr/after/datas/temp/cci_result_1.0_2.0.pkl\n",
      "all_pair_number ---- 1000\n",
      "The cell pair number found between 2.0 and 2.0 is 7168\n",
      "per_exp-------(137566,)\n",
      "find ligand-recepotor pairs time-------------40\n",
      "receptor_gene---------3247\n",
      "lr_pair_sub---------(77261, 5)\n",
      "the number of valid pathway number between 2.0 and 2.0 is: 77261\n",
      "co_exp_ratio=-------(77261, 1)\n",
      "co_exp_value-------(77261, 1)\n",
      "co_exp_p-----(77261,)\n",
      "The ligand-recepotor pairs found between 2.0 and 2.0 with significant expression is 44140\n",
      "find significant expression ligand-recepotor pairs time-------------40\n",
      "find tf time-------------282\n",
      "tf------(1412802, 6)\n",
      "path_score---(44138, 13)\n",
      "2.0 and 2.0 done. Data saved to lr/after/datas/temp/cci_result_2.0_2.0.pkl\n",
      "Total running time is 618 seconds\n",
      "finish 2\n",
      "0_1 3_0 right\n",
      "The mininum cost for alignment is 3.9444498969440405\n",
      "The alignment edges list is [('3_0', '3_0'), ('2_3', '0_3'), ('0_1', '1_1'), ('1_2', '2_2')]\n"
     ]
    }
   ],
   "source": [
    "T=tree_alignment(nodes1[0],nodes2[0],1,True,datas1,datas2);\n",
    "minn = T.run_alignment();\n",
    "T.show_ans();"
   ]
  },
  {
   "cell_type": "code",
   "execution_count": 23,
   "metadata": {},
   "outputs": [
    {
     "name": "stdout",
     "output_type": "stream",
     "text": [
      "{'3': '#f2a620', '1': '#ade041', '0': '#2e2190', '2': '#8f9f47', 'empty': '#fff'}\n"
     ]
    },
    {
     "data": {
      "application/vnd.plotly.v1+json": {
       "config": {
        "plotlyServerURL": "https://plot.ly"
       },
       "data": [
        {
         "hoverinfo": "text",
         "hovertext": [
          "connect 0_3",
          "connect 2_3"
         ],
         "legendgroup": "3",
         "marker": {
          "color": "#f2a620",
          "size": 35,
          "symbol": "circle-dot"
         },
         "mode": "markers+text",
         "name": "3",
         "text": [
          "2_3",
          "0_3"
         ],
         "textfont": {
          "color": "#000000",
          "family": "sans serif",
          "size": 15
         },
         "type": "scatter",
         "x": [
          15.25,
          22.75
         ],
         "y": [
          3.5,
          2
         ]
        },
        {
         "hoverinfo": "text",
         "hovertext": [
          "connect 1_1",
          "connect 0_1"
         ],
         "legendgroup": "1",
         "marker": {
          "color": "#ade041",
          "size": 35,
          "symbol": "circle-dot"
         },
         "mode": "markers+text",
         "name": "1",
         "text": [
          "0_1",
          "1_1"
         ],
         "textfont": {
          "color": "#000000",
          "family": "sans serif",
          "size": 15
         },
         "type": "scatter",
         "x": [
          15.25,
          22.75
         ],
         "y": [
          2,
          0.5
         ]
        },
        {
         "hoverinfo": "text",
         "hovertext": [
          "connect 3_0",
          "connect 3_0"
         ],
         "legendgroup": "0",
         "marker": {
          "color": "#2e2190",
          "size": 35,
          "symbol": "circle-dot"
         },
         "mode": "markers+text",
         "name": "0",
         "text": [
          "3_0",
          "3_0"
         ],
         "textfont": {
          "color": "#000000",
          "family": "sans serif",
          "size": 15
         },
         "type": "scatter",
         "x": [
          10.5,
          27.5
         ],
         "y": [
          5,
          3.5
         ]
        },
        {
         "hoverinfo": "text",
         "hovertext": [
          "connect 2_2",
          "connect 1_2"
         ],
         "legendgroup": "2",
         "marker": {
          "color": "#8f9f47",
          "size": 35,
          "symbol": "circle-dot"
         },
         "mode": "markers+text",
         "name": "2",
         "text": [
          "1_2",
          "2_2"
         ],
         "textfont": {
          "color": "#000000",
          "family": "sans serif",
          "size": 15
         },
         "type": "scatter",
         "x": [
          5.75,
          32.25
         ],
         "y": [
          3.5,
          2
         ]
        }
       ],
       "layout": {
        "height": 500,
        "shapes": [
         {
          "layer": "below",
          "line": {
           "color": "#333",
           "width": 4
          },
          "type": "line",
          "x0": 10.5,
          "x1": 10.5,
          "y0": 5,
          "y1": 5
         },
         {
          "layer": "below",
          "line": {
           "color": "#333",
           "width": 4
          },
          "type": "line",
          "x0": 10.5,
          "x1": 5.75,
          "y0": 5,
          "y1": 3.5
         },
         {
          "layer": "below",
          "line": {
           "color": "#333",
           "width": 4
          },
          "type": "line",
          "x0": 10.5,
          "x1": 15.25,
          "y0": 5,
          "y1": 3.5
         },
         {
          "layer": "below",
          "line": {
           "color": "#333",
           "width": 4
          },
          "type": "line",
          "x0": 15.25,
          "x1": 15.25,
          "y0": 3.5,
          "y1": 2
         },
         {
          "layer": "below",
          "line": {
           "color": "#333",
           "width": 4
          },
          "type": "line",
          "x0": 27.5,
          "x1": 27.5,
          "y0": 3.5,
          "y1": 3.5
         },
         {
          "layer": "below",
          "line": {
           "color": "#333",
           "width": 4
          },
          "type": "line",
          "x0": 27.5,
          "x1": 22.75,
          "y0": 3.5,
          "y1": 2
         },
         {
          "layer": "below",
          "line": {
           "color": "#333",
           "width": 4
          },
          "type": "line",
          "x0": 22.75,
          "x1": 22.75,
          "y0": 2,
          "y1": 0.5
         },
         {
          "layer": "below",
          "line": {
           "color": "#333",
           "width": 4
          },
          "type": "line",
          "x0": 27.5,
          "x1": 32.25,
          "y0": 3.5,
          "y1": 2
         },
         {
          "layer": "below",
          "line": {
           "color": "#6175c1",
           "width": 4
          },
          "type": "line",
          "x0": 10.5,
          "x1": 27.5,
          "y0": 5,
          "y1": 3.5
         },
         {
          "layer": "below",
          "line": {
           "color": "#6175c1",
           "width": 4
          },
          "type": "line",
          "x0": 15.25,
          "x1": 22.75,
          "y0": 3.5,
          "y1": 2
         },
         {
          "layer": "below",
          "line": {
           "color": "#6175c1",
           "width": 4
          },
          "type": "line",
          "x0": 15.25,
          "x1": 22.75,
          "y0": 2,
          "y1": 0.5
         },
         {
          "layer": "below",
          "line": {
           "color": "#6175c1",
           "width": 4
          },
          "type": "line",
          "x0": 5.75,
          "x1": 32.25,
          "y0": 3.5,
          "y1": 2
         }
        ],
        "template": {
         "data": {
          "bar": [
           {
            "error_x": {
             "color": "#2a3f5f"
            },
            "error_y": {
             "color": "#2a3f5f"
            },
            "marker": {
             "line": {
              "color": "#E5ECF6",
              "width": 0.5
             },
             "pattern": {
              "fillmode": "overlay",
              "size": 10,
              "solidity": 0.2
             }
            },
            "type": "bar"
           }
          ],
          "barpolar": [
           {
            "marker": {
             "line": {
              "color": "#E5ECF6",
              "width": 0.5
             },
             "pattern": {
              "fillmode": "overlay",
              "size": 10,
              "solidity": 0.2
             }
            },
            "type": "barpolar"
           }
          ],
          "carpet": [
           {
            "aaxis": {
             "endlinecolor": "#2a3f5f",
             "gridcolor": "white",
             "linecolor": "white",
             "minorgridcolor": "white",
             "startlinecolor": "#2a3f5f"
            },
            "baxis": {
             "endlinecolor": "#2a3f5f",
             "gridcolor": "white",
             "linecolor": "white",
             "minorgridcolor": "white",
             "startlinecolor": "#2a3f5f"
            },
            "type": "carpet"
           }
          ],
          "choropleth": [
           {
            "colorbar": {
             "outlinewidth": 0,
             "ticks": ""
            },
            "type": "choropleth"
           }
          ],
          "contour": [
           {
            "colorbar": {
             "outlinewidth": 0,
             "ticks": ""
            },
            "colorscale": [
             [
              0,
              "#0d0887"
             ],
             [
              0.1111111111111111,
              "#46039f"
             ],
             [
              0.2222222222222222,
              "#7201a8"
             ],
             [
              0.3333333333333333,
              "#9c179e"
             ],
             [
              0.4444444444444444,
              "#bd3786"
             ],
             [
              0.5555555555555556,
              "#d8576b"
             ],
             [
              0.6666666666666666,
              "#ed7953"
             ],
             [
              0.7777777777777778,
              "#fb9f3a"
             ],
             [
              0.8888888888888888,
              "#fdca26"
             ],
             [
              1,
              "#f0f921"
             ]
            ],
            "type": "contour"
           }
          ],
          "contourcarpet": [
           {
            "colorbar": {
             "outlinewidth": 0,
             "ticks": ""
            },
            "type": "contourcarpet"
           }
          ],
          "heatmap": [
           {
            "colorbar": {
             "outlinewidth": 0,
             "ticks": ""
            },
            "colorscale": [
             [
              0,
              "#0d0887"
             ],
             [
              0.1111111111111111,
              "#46039f"
             ],
             [
              0.2222222222222222,
              "#7201a8"
             ],
             [
              0.3333333333333333,
              "#9c179e"
             ],
             [
              0.4444444444444444,
              "#bd3786"
             ],
             [
              0.5555555555555556,
              "#d8576b"
             ],
             [
              0.6666666666666666,
              "#ed7953"
             ],
             [
              0.7777777777777778,
              "#fb9f3a"
             ],
             [
              0.8888888888888888,
              "#fdca26"
             ],
             [
              1,
              "#f0f921"
             ]
            ],
            "type": "heatmap"
           }
          ],
          "heatmapgl": [
           {
            "colorbar": {
             "outlinewidth": 0,
             "ticks": ""
            },
            "colorscale": [
             [
              0,
              "#0d0887"
             ],
             [
              0.1111111111111111,
              "#46039f"
             ],
             [
              0.2222222222222222,
              "#7201a8"
             ],
             [
              0.3333333333333333,
              "#9c179e"
             ],
             [
              0.4444444444444444,
              "#bd3786"
             ],
             [
              0.5555555555555556,
              "#d8576b"
             ],
             [
              0.6666666666666666,
              "#ed7953"
             ],
             [
              0.7777777777777778,
              "#fb9f3a"
             ],
             [
              0.8888888888888888,
              "#fdca26"
             ],
             [
              1,
              "#f0f921"
             ]
            ],
            "type": "heatmapgl"
           }
          ],
          "histogram": [
           {
            "marker": {
             "pattern": {
              "fillmode": "overlay",
              "size": 10,
              "solidity": 0.2
             }
            },
            "type": "histogram"
           }
          ],
          "histogram2d": [
           {
            "colorbar": {
             "outlinewidth": 0,
             "ticks": ""
            },
            "colorscale": [
             [
              0,
              "#0d0887"
             ],
             [
              0.1111111111111111,
              "#46039f"
             ],
             [
              0.2222222222222222,
              "#7201a8"
             ],
             [
              0.3333333333333333,
              "#9c179e"
             ],
             [
              0.4444444444444444,
              "#bd3786"
             ],
             [
              0.5555555555555556,
              "#d8576b"
             ],
             [
              0.6666666666666666,
              "#ed7953"
             ],
             [
              0.7777777777777778,
              "#fb9f3a"
             ],
             [
              0.8888888888888888,
              "#fdca26"
             ],
             [
              1,
              "#f0f921"
             ]
            ],
            "type": "histogram2d"
           }
          ],
          "histogram2dcontour": [
           {
            "colorbar": {
             "outlinewidth": 0,
             "ticks": ""
            },
            "colorscale": [
             [
              0,
              "#0d0887"
             ],
             [
              0.1111111111111111,
              "#46039f"
             ],
             [
              0.2222222222222222,
              "#7201a8"
             ],
             [
              0.3333333333333333,
              "#9c179e"
             ],
             [
              0.4444444444444444,
              "#bd3786"
             ],
             [
              0.5555555555555556,
              "#d8576b"
             ],
             [
              0.6666666666666666,
              "#ed7953"
             ],
             [
              0.7777777777777778,
              "#fb9f3a"
             ],
             [
              0.8888888888888888,
              "#fdca26"
             ],
             [
              1,
              "#f0f921"
             ]
            ],
            "type": "histogram2dcontour"
           }
          ],
          "mesh3d": [
           {
            "colorbar": {
             "outlinewidth": 0,
             "ticks": ""
            },
            "type": "mesh3d"
           }
          ],
          "parcoords": [
           {
            "line": {
             "colorbar": {
              "outlinewidth": 0,
              "ticks": ""
             }
            },
            "type": "parcoords"
           }
          ],
          "pie": [
           {
            "automargin": true,
            "type": "pie"
           }
          ],
          "scatter": [
           {
            "fillpattern": {
             "fillmode": "overlay",
             "size": 10,
             "solidity": 0.2
            },
            "type": "scatter"
           }
          ],
          "scatter3d": [
           {
            "line": {
             "colorbar": {
              "outlinewidth": 0,
              "ticks": ""
             }
            },
            "marker": {
             "colorbar": {
              "outlinewidth": 0,
              "ticks": ""
             }
            },
            "type": "scatter3d"
           }
          ],
          "scattercarpet": [
           {
            "marker": {
             "colorbar": {
              "outlinewidth": 0,
              "ticks": ""
             }
            },
            "type": "scattercarpet"
           }
          ],
          "scattergeo": [
           {
            "marker": {
             "colorbar": {
              "outlinewidth": 0,
              "ticks": ""
             }
            },
            "type": "scattergeo"
           }
          ],
          "scattergl": [
           {
            "marker": {
             "colorbar": {
              "outlinewidth": 0,
              "ticks": ""
             }
            },
            "type": "scattergl"
           }
          ],
          "scattermapbox": [
           {
            "marker": {
             "colorbar": {
              "outlinewidth": 0,
              "ticks": ""
             }
            },
            "type": "scattermapbox"
           }
          ],
          "scatterpolar": [
           {
            "marker": {
             "colorbar": {
              "outlinewidth": 0,
              "ticks": ""
             }
            },
            "type": "scatterpolar"
           }
          ],
          "scatterpolargl": [
           {
            "marker": {
             "colorbar": {
              "outlinewidth": 0,
              "ticks": ""
             }
            },
            "type": "scatterpolargl"
           }
          ],
          "scatterternary": [
           {
            "marker": {
             "colorbar": {
              "outlinewidth": 0,
              "ticks": ""
             }
            },
            "type": "scatterternary"
           }
          ],
          "surface": [
           {
            "colorbar": {
             "outlinewidth": 0,
             "ticks": ""
            },
            "colorscale": [
             [
              0,
              "#0d0887"
             ],
             [
              0.1111111111111111,
              "#46039f"
             ],
             [
              0.2222222222222222,
              "#7201a8"
             ],
             [
              0.3333333333333333,
              "#9c179e"
             ],
             [
              0.4444444444444444,
              "#bd3786"
             ],
             [
              0.5555555555555556,
              "#d8576b"
             ],
             [
              0.6666666666666666,
              "#ed7953"
             ],
             [
              0.7777777777777778,
              "#fb9f3a"
             ],
             [
              0.8888888888888888,
              "#fdca26"
             ],
             [
              1,
              "#f0f921"
             ]
            ],
            "type": "surface"
           }
          ],
          "table": [
           {
            "cells": {
             "fill": {
              "color": "#EBF0F8"
             },
             "line": {
              "color": "white"
             }
            },
            "header": {
             "fill": {
              "color": "#C8D4E3"
             },
             "line": {
              "color": "white"
             }
            },
            "type": "table"
           }
          ]
         },
         "layout": {
          "annotationdefaults": {
           "arrowcolor": "#2a3f5f",
           "arrowhead": 0,
           "arrowwidth": 1
          },
          "autotypenumbers": "strict",
          "coloraxis": {
           "colorbar": {
            "outlinewidth": 0,
            "ticks": ""
           }
          },
          "colorscale": {
           "diverging": [
            [
             0,
             "#8e0152"
            ],
            [
             0.1,
             "#c51b7d"
            ],
            [
             0.2,
             "#de77ae"
            ],
            [
             0.3,
             "#f1b6da"
            ],
            [
             0.4,
             "#fde0ef"
            ],
            [
             0.5,
             "#f7f7f7"
            ],
            [
             0.6,
             "#e6f5d0"
            ],
            [
             0.7,
             "#b8e186"
            ],
            [
             0.8,
             "#7fbc41"
            ],
            [
             0.9,
             "#4d9221"
            ],
            [
             1,
             "#276419"
            ]
           ],
           "sequential": [
            [
             0,
             "#0d0887"
            ],
            [
             0.1111111111111111,
             "#46039f"
            ],
            [
             0.2222222222222222,
             "#7201a8"
            ],
            [
             0.3333333333333333,
             "#9c179e"
            ],
            [
             0.4444444444444444,
             "#bd3786"
            ],
            [
             0.5555555555555556,
             "#d8576b"
            ],
            [
             0.6666666666666666,
             "#ed7953"
            ],
            [
             0.7777777777777778,
             "#fb9f3a"
            ],
            [
             0.8888888888888888,
             "#fdca26"
            ],
            [
             1,
             "#f0f921"
            ]
           ],
           "sequentialminus": [
            [
             0,
             "#0d0887"
            ],
            [
             0.1111111111111111,
             "#46039f"
            ],
            [
             0.2222222222222222,
             "#7201a8"
            ],
            [
             0.3333333333333333,
             "#9c179e"
            ],
            [
             0.4444444444444444,
             "#bd3786"
            ],
            [
             0.5555555555555556,
             "#d8576b"
            ],
            [
             0.6666666666666666,
             "#ed7953"
            ],
            [
             0.7777777777777778,
             "#fb9f3a"
            ],
            [
             0.8888888888888888,
             "#fdca26"
            ],
            [
             1,
             "#f0f921"
            ]
           ]
          },
          "colorway": [
           "#636efa",
           "#EF553B",
           "#00cc96",
           "#ab63fa",
           "#FFA15A",
           "#19d3f3",
           "#FF6692",
           "#B6E880",
           "#FF97FF",
           "#FECB52"
          ],
          "font": {
           "color": "#2a3f5f"
          },
          "geo": {
           "bgcolor": "white",
           "lakecolor": "white",
           "landcolor": "#E5ECF6",
           "showlakes": true,
           "showland": true,
           "subunitcolor": "white"
          },
          "hoverlabel": {
           "align": "left"
          },
          "hovermode": "closest",
          "mapbox": {
           "style": "light"
          },
          "paper_bgcolor": "white",
          "plot_bgcolor": "#E5ECF6",
          "polar": {
           "angularaxis": {
            "gridcolor": "white",
            "linecolor": "white",
            "ticks": ""
           },
           "bgcolor": "#E5ECF6",
           "radialaxis": {
            "gridcolor": "white",
            "linecolor": "white",
            "ticks": ""
           }
          },
          "scene": {
           "xaxis": {
            "backgroundcolor": "#E5ECF6",
            "gridcolor": "white",
            "gridwidth": 2,
            "linecolor": "white",
            "showbackground": true,
            "ticks": "",
            "zerolinecolor": "white"
           },
           "yaxis": {
            "backgroundcolor": "#E5ECF6",
            "gridcolor": "white",
            "gridwidth": 2,
            "linecolor": "white",
            "showbackground": true,
            "ticks": "",
            "zerolinecolor": "white"
           },
           "zaxis": {
            "backgroundcolor": "#E5ECF6",
            "gridcolor": "white",
            "gridwidth": 2,
            "linecolor": "white",
            "showbackground": true,
            "ticks": "",
            "zerolinecolor": "white"
           }
          },
          "shapedefaults": {
           "line": {
            "color": "#2a3f5f"
           }
          },
          "ternary": {
           "aaxis": {
            "gridcolor": "white",
            "linecolor": "white",
            "ticks": ""
           },
           "baxis": {
            "gridcolor": "white",
            "linecolor": "white",
            "ticks": ""
           },
           "bgcolor": "#E5ECF6",
           "caxis": {
            "gridcolor": "white",
            "linecolor": "white",
            "ticks": ""
           }
          },
          "title": {
           "x": 0.05
          },
          "xaxis": {
           "automargin": true,
           "gridcolor": "white",
           "linecolor": "white",
           "ticks": "",
           "title": {
            "standoff": 15
           },
           "zerolinecolor": "white",
           "zerolinewidth": 2
          },
          "yaxis": {
           "automargin": true,
           "gridcolor": "white",
           "linecolor": "white",
           "ticks": "",
           "title": {
            "standoff": 15
           },
           "zerolinecolor": "white",
           "zerolinewidth": 2
          }
         }
        },
        "width": 1000,
        "xaxis": {
         "showgrid": false,
         "showline": false,
         "showticklabels": false,
         "zeroline": false
        },
        "yaxis": {
         "showgrid": false,
         "showline": false,
         "showticklabels": false,
         "zeroline": false
        }
       }
      }
     },
     "metadata": {},
     "output_type": "display_data"
    }
   ],
   "source": [
    "ans = T.get_ans()\n",
    "G=show_graph(ans,nodes1[0],nodes2[0]);\n",
    "G.show_fig()"
   ]
  },
  {
   "cell_type": "code",
   "execution_count": 1,
   "metadata": {},
   "outputs": [
    {
     "ename": "NameError",
     "evalue": "name 'G' is not defined",
     "output_type": "error",
     "traceback": [
      "\u001b[0;31m---------------------------------------------------------------------------\u001b[0m",
      "\u001b[0;31mNameError\u001b[0m                                 Traceback (most recent call last)",
      "Cell \u001b[0;32mIn[1], line 1\u001b[0m\n\u001b[0;32m----> 1\u001b[0m \u001b[43mG\u001b[49m\n",
      "\u001b[0;31mNameError\u001b[0m: name 'G' is not defined"
     ]
    }
   ],
   "source": [
    "G"
   ]
  },
  {
   "cell_type": "code",
   "execution_count": 17,
   "metadata": {},
   "outputs": [
    {
     "data": {
      "text/plain": [
       "[('3_0', '3_0'), ('2_3', '0_3'), ('0_1', '1_1'), ('1_2', '2_2')]"
      ]
     },
     "execution_count": 17,
     "metadata": {},
     "output_type": "execute_result"
    }
   ],
   "source": [
    "T.anslist"
   ]
  },
  {
   "cell_type": "code",
   "execution_count": 18,
   "metadata": {},
   "outputs": [
    {
     "data": {
      "text/plain": [
       "{('2_3', '2_2'): 0.998649958513675,\n",
       " ('0_1', '2_2'): 0.9972338968251412,\n",
       " ('1_2', '0_3'): 0.9967740102210121,\n",
       " ('1_2', '1_1'): 0.9968559499547773,\n",
       " ('0_1', '1_1'): 0.9789170892785498,\n",
       " ('2_3', '0_3'): 0.9973066475601206,\n",
       " ('2_3', '1_1'): 0.9974635202716764,\n",
       " ('0_1', '0_3'): 0.9958266427722968,\n",
       " ('1_2', '2_2'): 0.9726675492875986,\n",
       " ('3_0', '3_0'): 0.9955586108177712,\n",
       " ('3_0', '0_3'): 0.9978831988552346,\n",
       " ('3_0', '1_1'): 0.9985713509261007,\n",
       " ('3_0', '2_2'): 0.9986882824670209,\n",
       " ('1_2', '3_0'): 0.9967031804834082,\n",
       " ('2_3', '3_0'): 0.9966413858184501,\n",
       " ('0_1', '3_0'): 0.9960286157061911}"
      ]
     },
     "execution_count": 18,
     "metadata": {},
     "output_type": "execute_result"
    }
   ],
   "source": [
    "T.lrcost"
   ]
  },
  {
   "cell_type": "code",
   "execution_count": null,
   "metadata": {},
   "outputs": [],
   "source": []
  },
  {
   "cell_type": "code",
   "execution_count": null,
   "metadata": {},
   "outputs": [],
   "source": [
    "for i1 in T.anslist:\n",
    "    i=i1[0]\n",
    "    j=i1[1]\n",
    "\n",
    "    if(len(i.split('_'))!=1 and len(j.split('_'))!=1):\n",
    "        t1  = i.split('_')[0]\n",
    "        t2 = j.split('_')[0]\n",
    "        t1 = str(round((1+int(t1)/100),2))\n",
    "        t2 = str(round((2+int(t2)/100),2))\n",
    "        print(i,j)\n",
    "        print(t1,t2)\n",
    "\n",
    "    else:\n",
    "        continue\n",
    "    df = './lr/after/datas/temp/cci_result_{}_{}.pkl'.format(t1,t2);\n",
    "    df2 = './lr/after/datas/temp/cci_result_{}_{}.pkl'.format(t2,t1);\n",
    "    if(os.path.isfile(df)):\n",
    "        t = pd.read_pickle(df)\n",
    "        print( t['lr_score']['score'].mean())\n",
    "        pass;\n",
    "    elif(os.path.isfile(df2)):\n",
    "        t = pd.read_pickle(df2)\n",
    "        print( t['lr_score']['score'].mean() )"
   ]
  },
  {
   "cell_type": "code",
   "execution_count": null,
   "metadata": {},
   "outputs": [],
   "source": [
    "round((1+ 14/100 ),2)"
   ]
  },
  {
   "cell_type": "code",
   "execution_count": null,
   "metadata": {},
   "outputs": [],
   "source": [
    "t1 = [1+int(i)/100 for i in datas1.obs['leiden'].tolist()]\n",
    "t2 = [2+int(i)/100 for i in datas2.obs['leiden'].tolist()]\n",
    "\n",
    "t1"
   ]
  },
  {
   "cell_type": "code",
   "execution_count": null,
   "metadata": {},
   "outputs": [],
   "source": [
    "datas1.obsm['meta']['cell_type']=t1\n",
    "datas2.obsm['meta']['cell_type']=t2\n",
    "\n",
    "datas1.obsm['meta'],datas2.obsm['meta'],"
   ]
  },
  {
   "cell_type": "code",
   "execution_count": null,
   "metadata": {},
   "outputs": [],
   "source": [
    "tdatas = datas1.concatenate(datas2)\n",
    "tdatas.obsm['meta']\n",
    "tdatas.write_h5ad('./lr/after/datas/temp/AN.h5ad')"
   ]
  },
  {
   "cell_type": "code",
   "execution_count": null,
   "metadata": {},
   "outputs": [],
   "source": [
    "tdatas.obsm['meta']['cell_type'].unique()"
   ]
  },
  {
   "cell_type": "code",
   "execution_count": null,
   "metadata": {},
   "outputs": [],
   "source": [
    "T.lrcost"
   ]
  },
  {
   "cell_type": "code",
   "execution_count": null,
   "metadata": {},
   "outputs": [],
   "source": [
    "\n",
    "\n",
    "\n",
    "\n",
    "n='temp'\n",
    "\n",
    "'python3 lr/after/CytoTour.py lr/after/datas/lr_database.csv lr/after/datas/pathways.tsv lr/after/datas/{}/split 10000 lr/after/datas/{}/AN.h5ad --out lr/after/datas/{}'.format(n,n,n)\n",
    "\n"
   ]
  },
  {
   "cell_type": "code",
   "execution_count": null,
   "metadata": {},
   "outputs": [],
   "source": [
    "'python3 lr/after/splith5ad.py lr/after/datas/{}/AN.h5ad lr/after/datas/{}/split lr/after/datas/pathways.tsv 10000'.format(n,n)\n"
   ]
  },
  {
   "cell_type": "code",
   "execution_count": null,
   "metadata": {},
   "outputs": [],
   "source": [
    "import glob\n",
    "files = glob.glob('./lr/after/datas/temp/*')\n",
    "files"
   ]
  },
  {
   "cell_type": "code",
   "execution_count": null,
   "metadata": {},
   "outputs": [],
   "source": [
    "rate,anslist,ans = run_alignment(nodes1,nodes2,folder_path1,folder_path2,meta_list1,meta_list2);\n"
   ]
  },
  {
   "cell_type": "code",
   "execution_count": null,
   "metadata": {},
   "outputs": [],
   "source": [
    "def lr_s(n):\n",
    "    \n",
    "    a1= 'python3 lr/after/splith5ad.py lr/after/datas/{}/AN.h5ad lr/after/datas/{} lr/after/datas/pathways.tsv 1000'.format(n,n)\n",
    "    a2 = 'python3 lr/after/CytoTour.py lr/after/datas/lr_database.csv lr/after/datas/pathways.tsv lr/after/datas/{} 1000 lr/after/datas/{}/AN.h5ad --out lr/after/datas/{}'.format(n,n,n)\n",
    "    return a1,a2 \n",
    "a1,a2 = lr_s('temp')\n",
    "os.system(a1)\n",
    "os.system(a2)\n",
    "df = pd.read_pickle('./lr/after/datas/temp/cci_result_1.0_2.0.pkl')\n",
    "df['lr_score']['score'].mean()"
   ]
  },
  {
   "cell_type": "code",
   "execution_count": null,
   "metadata": {},
   "outputs": [],
   "source": []
  },
  {
   "cell_type": "code",
   "execution_count": null,
   "metadata": {},
   "outputs": [],
   "source": [
    "df = pd.read_pickle('./lr/after/datas/temp/cci_result_1.0_2.0.pkl')\n",
    "df['lr_score']['score'].mean()"
   ]
  },
  {
   "cell_type": "code",
   "execution_count": 37,
   "metadata": {},
   "outputs": [
    {
     "data": {
      "text/plain": [
       "{('1_2', '2_0'): 0.9960990314043718,\n",
       " ('3_0', '3_1'): 0.997465347356729,\n",
       " ('3_0', '2_0'): 0.9980272504095742,\n",
       " ('1_2', '3_1'): 0.9965578555101393,\n",
       " ('2_1', '1_0'): 0.9932463684023263,\n",
       " ('2_1', '0_1'): 0.9941909952416116,\n",
       " ('1_2', '0_1'): 0.9955789725616552,\n",
       " ('3_0', '1_0'): 0.9955351807974113,\n",
       " ('3_0', '0_1'): 0.996755347767516,\n",
       " ('1_2', '1_0'): 0.9940038009670317,\n",
       " ('2_1', '3_1'): 0.9960402110171404,\n",
       " ('2_1', '2_0'): 0.9957231499741567,\n",
       " ('0_3', '6'): 0.9954311144739517,\n",
       " ('0_3', '1_0'): 0.9948801917897468,\n",
       " ('0_3', '0_1'): 0.9953882235263248,\n",
       " ('0_3', '3_1'): 0.9977763874486703,\n",
       " ('0_3', '2_0'): 0.9980321250373381,\n",
       " ('2_1', '6'): 0.994834643285722,\n",
       " ('3_0', '6'): 0.9938296771933006,\n",
       " ('1_2', '6'): 0.9956737269479787}"
      ]
     },
     "execution_count": 37,
     "metadata": {},
     "output_type": "execute_result"
    }
   ],
   "source": [
    "T.lrcost"
   ]
  },
  {
   "cell_type": "code",
   "execution_count": null,
   "metadata": {},
   "outputs": [],
   "source": []
  }
 ],
 "metadata": {
  "kernelspec": {
   "display_name": "base",
   "language": "python",
   "name": "python3"
  },
  "language_info": {
   "codemirror_mode": {
    "name": "ipython",
    "version": 3
   },
   "file_extension": ".py",
   "mimetype": "text/x-python",
   "name": "python",
   "nbconvert_exporter": "python",
   "pygments_lexer": "ipython3",
   "version": "3.8.16"
  }
 },
 "nbformat": 4,
 "nbformat_minor": 2
}
