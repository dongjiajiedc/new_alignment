{
 "cells": [
  {
   "cell_type": "code",
   "execution_count": 269,
   "metadata": {},
   "outputs": [],
   "source": [
    "from core import *\n",
    "import warnings\n",
    "warnings.filterwarnings('ignore')"
   ]
  },
  {
   "cell_type": "code",
   "execution_count": 270,
   "metadata": {},
   "outputs": [],
   "source": [
    "cell_path1 = './lr/after/datas/all_a/all_a.h5ad' #path for single-cell data1\n",
    "folder_path1 = './lr/after/datas/all_a/'    #folder to save the results\n",
    "radius1 = 0 # parameter for converting into meta cell\n",
    "\n",
    "cell_path2 = './lr/after/datas/all_b/all_b.h5ad' #path for single-cell data2\n",
    "folder_path2 = './lr/after/datas/all_b/'  \n",
    "radius2 = 0\n",
    "\n",
    "resolution=0.4 #parameter for clustering\n",
    "method='average' # method we calcuclate the center value \n",
    " \n",
    "n_pca = 40 #pca number\n",
    "meta_col= 'batch' #celltype col in the single-cell file\n",
    "epoches11 = 15 #number for embedding\n",
    "epoches21 = 2 #number for rotation\n",
    "\n",
    "epoches12 = 15 #number for embedding\n",
    "epoches22 = 2 #number for rotation\n",
    "\n",
    "c1=0.3 # threshold for merging\n",
    "c2=0.3  # threshold for merging"
   ]
  },
  {
   "cell_type": "code",
   "execution_count": 271,
   "metadata": {},
   "outputs": [
    {
     "name": "stderr",
     "output_type": "stream",
     "text": [
      "100%|██████████████████████████████████| 1000/1000 [00:00<00:00, 1037423.70it/s]\n"
     ]
    }
   ],
   "source": [
    "merge_by_radius(cell_path1,folder_path1,radius1,method,meta_col)\n"
   ]
  },
  {
   "cell_type": "code",
   "execution_count": 272,
   "metadata": {},
   "outputs": [
    {
     "name": "stderr",
     "output_type": "stream",
     "text": [
      "100%|██████████████████████████████████| 1000/1000 [00:00<00:00, 1579180.72it/s]\n"
     ]
    }
   ],
   "source": [
    "merge_by_radius(cell_path2,folder_path2,radius2,method,meta_col)\n"
   ]
  },
  {
   "cell_type": "code",
   "execution_count": 273,
   "metadata": {},
   "outputs": [],
   "source": [
    "adata1 = sc.read_h5ad(folder_path1+ 'adata.h5ad')\n",
    "adata2 = sc.read_h5ad(folder_path2+ 'adata.h5ad')"
   ]
  },
  {
   "cell_type": "code",
   "execution_count": 274,
   "metadata": {},
   "outputs": [],
   "source": [
    "preprocessing_cluster(adata1,N_pcs=n_pca,resolution=resolution)\n",
    "preprocessing_cluster(adata2,N_pcs=n_pca,resolution=resolution)\n",
    "\n",
    "inter_gene = sort_data(adata1,adata2)\n",
    "\n",
    "tmp1 = calculate_cluster_centroid_for_genes(adata1,inter_gene,folder_path1)\n",
    "tmp2 = calculate_cluster_centroid_for_genes(adata2,inter_gene,folder_path2)\n",
    "\n",
    "meta_list1 = calculate_cluster_celltype(adata1);\n",
    "meta_list2 = calculate_cluster_celltype(adata2);"
   ]
  },
  {
   "cell_type": "code",
   "execution_count": 275,
   "metadata": {},
   "outputs": [
    {
     "data": {
      "text/html": [
       "<div>\n",
       "<style scoped>\n",
       "    .dataframe tbody tr th:only-of-type {\n",
       "        vertical-align: middle;\n",
       "    }\n",
       "\n",
       "    .dataframe tbody tr th {\n",
       "        vertical-align: top;\n",
       "    }\n",
       "\n",
       "    .dataframe thead tr th {\n",
       "        text-align: left;\n",
       "    }\n",
       "\n",
       "    .dataframe thead tr:last-of-type th {\n",
       "        text-align: right;\n",
       "    }\n",
       "</style>\n",
       "<table border=\"1\" class=\"dataframe\">\n",
       "  <thead>\n",
       "    <tr>\n",
       "      <th></th>\n",
       "      <th colspan=\"4\" halign=\"left\">celltype</th>\n",
       "    </tr>\n",
       "    <tr>\n",
       "      <th></th>\n",
       "      <th>count</th>\n",
       "      <th>unique</th>\n",
       "      <th>top</th>\n",
       "      <th>freq</th>\n",
       "    </tr>\n",
       "    <tr>\n",
       "      <th>leiden</th>\n",
       "      <th></th>\n",
       "      <th></th>\n",
       "      <th></th>\n",
       "      <th></th>\n",
       "    </tr>\n",
       "  </thead>\n",
       "  <tbody>\n",
       "    <tr>\n",
       "      <th>0</th>\n",
       "      <td>200</td>\n",
       "      <td>1</td>\n",
       "      <td>4</td>\n",
       "      <td>200</td>\n",
       "    </tr>\n",
       "    <tr>\n",
       "      <th>1</th>\n",
       "      <td>200</td>\n",
       "      <td>1</td>\n",
       "      <td>1</td>\n",
       "      <td>200</td>\n",
       "    </tr>\n",
       "    <tr>\n",
       "      <th>2</th>\n",
       "      <td>200</td>\n",
       "      <td>1</td>\n",
       "      <td>0</td>\n",
       "      <td>200</td>\n",
       "    </tr>\n",
       "    <tr>\n",
       "      <th>3</th>\n",
       "      <td>200</td>\n",
       "      <td>1</td>\n",
       "      <td>2</td>\n",
       "      <td>200</td>\n",
       "    </tr>\n",
       "    <tr>\n",
       "      <th>4</th>\n",
       "      <td>200</td>\n",
       "      <td>1</td>\n",
       "      <td>3</td>\n",
       "      <td>200</td>\n",
       "    </tr>\n",
       "  </tbody>\n",
       "</table>\n",
       "</div>"
      ],
      "text/plain": [
       "       celltype                \n",
       "          count unique top freq\n",
       "leiden                         \n",
       "0           200      1   4  200\n",
       "1           200      1   1  200\n",
       "2           200      1   0  200\n",
       "3           200      1   2  200\n",
       "4           200      1   3  200"
      ]
     },
     "execution_count": 275,
     "metadata": {},
     "output_type": "execute_result"
    }
   ],
   "source": [
    "adata1.obs.groupby('leiden').describe()"
   ]
  },
  {
   "cell_type": "code",
   "execution_count": 276,
   "metadata": {},
   "outputs": [
    {
     "data": {
      "text/html": [
       "<div>\n",
       "<style scoped>\n",
       "    .dataframe tbody tr th:only-of-type {\n",
       "        vertical-align: middle;\n",
       "    }\n",
       "\n",
       "    .dataframe tbody tr th {\n",
       "        vertical-align: top;\n",
       "    }\n",
       "\n",
       "    .dataframe thead tr th {\n",
       "        text-align: left;\n",
       "    }\n",
       "\n",
       "    .dataframe thead tr:last-of-type th {\n",
       "        text-align: right;\n",
       "    }\n",
       "</style>\n",
       "<table border=\"1\" class=\"dataframe\">\n",
       "  <thead>\n",
       "    <tr>\n",
       "      <th></th>\n",
       "      <th colspan=\"4\" halign=\"left\">celltype</th>\n",
       "    </tr>\n",
       "    <tr>\n",
       "      <th></th>\n",
       "      <th>count</th>\n",
       "      <th>unique</th>\n",
       "      <th>top</th>\n",
       "      <th>freq</th>\n",
       "    </tr>\n",
       "    <tr>\n",
       "      <th>leiden</th>\n",
       "      <th></th>\n",
       "      <th></th>\n",
       "      <th></th>\n",
       "      <th></th>\n",
       "    </tr>\n",
       "  </thead>\n",
       "  <tbody>\n",
       "    <tr>\n",
       "      <th>0</th>\n",
       "      <td>200</td>\n",
       "      <td>1</td>\n",
       "      <td>3</td>\n",
       "      <td>200</td>\n",
       "    </tr>\n",
       "    <tr>\n",
       "      <th>1</th>\n",
       "      <td>200</td>\n",
       "      <td>1</td>\n",
       "      <td>2</td>\n",
       "      <td>200</td>\n",
       "    </tr>\n",
       "    <tr>\n",
       "      <th>2</th>\n",
       "      <td>200</td>\n",
       "      <td>1</td>\n",
       "      <td>4</td>\n",
       "      <td>200</td>\n",
       "    </tr>\n",
       "    <tr>\n",
       "      <th>3</th>\n",
       "      <td>200</td>\n",
       "      <td>1</td>\n",
       "      <td>1</td>\n",
       "      <td>200</td>\n",
       "    </tr>\n",
       "    <tr>\n",
       "      <th>4</th>\n",
       "      <td>200</td>\n",
       "      <td>1</td>\n",
       "      <td>0</td>\n",
       "      <td>200</td>\n",
       "    </tr>\n",
       "  </tbody>\n",
       "</table>\n",
       "</div>"
      ],
      "text/plain": [
       "       celltype                \n",
       "          count unique top freq\n",
       "leiden                         \n",
       "0           200      1   3  200\n",
       "1           200      1   2  200\n",
       "2           200      1   4  200\n",
       "3           200      1   1  200\n",
       "4           200      1   0  200"
      ]
     },
     "execution_count": 276,
     "metadata": {},
     "output_type": "execute_result"
    }
   ],
   "source": [
    "adata2.obs.groupby('leiden').describe()"
   ]
  },
  {
   "cell_type": "code",
   "execution_count": 277,
   "metadata": {},
   "outputs": [
    {
     "name": "stdout",
     "output_type": "stream",
     "text": [
      "./lr/after/datas/all_a/datas.data length:5\n",
      "Generating all pairs superset\n",
      "\t Epoch 0 | average train loss: 0.887144\n",
      "Optimization finished.\n",
      "\t Epoch 1 | average train loss: 0.872130\n",
      "Optimization finished.\n",
      "\t Epoch 2 | average train loss: 0.869346\n",
      "Optimization finished.\n",
      "\t Epoch 3 | average train loss: 0.871798\n",
      "Optimization finished.\n",
      "\t Epoch 4 | average train loss: 0.865776\n",
      "Optimization finished.\n",
      "\t Epoch 5 | average train loss: 0.866938\n",
      "Optimization finished.\n",
      "\t Epoch 6 | average train loss: 0.865654\n",
      "Optimization finished.\n",
      "\t Epoch 7 | average train loss: 0.869229\n",
      "Optimization finished.\n",
      "\t Epoch 8 | average train loss: 0.870219\n",
      "Optimization finished.\n",
      "\t Epoch 9 | average train loss: 0.868152\n",
      "Optimization finished.\n",
      "\t Epoch 10 | average train loss: 0.868443\n",
      "Optimization finished.\n",
      "\t Epoch 11 | average train loss: 0.869431\n",
      "Optimization finished.\n",
      "\t Epoch 12 | average train loss: 0.862574\n",
      "Optimization finished.\n",
      "\t Epoch 13 | average train loss: 0.871964\n",
      "Optimization finished.\n",
      "\t Epoch 14 | average train loss: 0.871423\n",
      "Optimization finished.\n",
      "\t Epoch 0 | average train loss1: 0.381141\n",
      "\t Epoch 0 | average train loss2: 0.326512\n",
      "\t Epoch 1 | average train loss1: 0.379407\n",
      "\t Epoch 1 | average train loss2: 0.325238\n"
     ]
    },
    {
     "data": {
      "image/png": "[encoded data removed]",
      "text/plain": [
       "<Figure size 1500x1500 with 1 Axes>"
      ]
     },
     "metadata": {},
     "output_type": "display_data"
    }
   ],
   "source": [
    "embeddings1,nodes1 = get_Hyper_tree(folder_path1 +'datas.data',1,tmp1.shape[1]+1,0,epoches11,epoches21,meta_list1,save_path=folder_path1)"
   ]
  },
  {
   "cell_type": "code",
   "execution_count": 278,
   "metadata": {},
   "outputs": [
    {
     "name": "stdout",
     "output_type": "stream",
     "text": [
      "5 0\n",
      "False\n",
      "\t Epoch 0 | average train loss1: 0.369070\n",
      "\t Epoch 0 | average train loss2: 0.298440\n",
      "\t Epoch 1 | average train loss1: 0.366736\n",
      "\t Epoch 1 | average train loss2: 0.297803\n",
      "True\n",
      "{'0': '#184e77', '4': '#1a759f', 'empty': '#fff', '2': '#34a0a4', '1': '#52b69a', '3': '#99d98c'}\n"
     ]
    },
    {
     "data": {
      "application/vnd.plotly.v1+json": {
       "config": {
        "plotlyServerURL": "https://plot.ly"
       },
       "data": [
        {
         "hoverinfo": "text",
         "hovertext": [
          "2_0"
         ],
         "legendgroup": "0",
         "marker": {
          "color": "#184e77",
          "size": 10,
          "symbol": "circle-dot"
         },
         "mode": "markers+text",
         "name": "0",
         "type": "scatter",
         "x": [
          3.25
         ],
         "y": [
          3.5
         ]
        },
        {
         "hoverinfo": "text",
         "hovertext": [
          "0_4"
         ],
         "legendgroup": "4",
         "marker": {
          "color": "#1a759f",
          "size": 10,
          "symbol": "circle-dot"
         },
         "mode": "markers+text",
         "name": "4",
         "type": "scatter",
         "x": [
          6.625
         ],
         "y": [
          2
         ]
        },
        {
         "hoverinfo": "text",
         "hovertext": [
          "8",
          "7",
          "6"
         ],
         "legendgroup": "empty",
         "marker": {
          "color": "#fff",
          "size": 10,
          "symbol": "circle-dot"
         },
         "mode": "markers+text",
         "name": "empty",
         "type": "scatter",
         "x": [
          5.5,
          7.75,
          8.875
         ],
         "y": [
          5,
          3.5,
          2
         ]
        },
        {
         "hoverinfo": "text",
         "hovertext": [
          "3_2"
         ],
         "legendgroup": "2",
         "marker": {
          "color": "#34a0a4",
          "size": 10,
          "symbol": "circle-dot"
         },
         "mode": "markers+text",
         "name": "2",
         "type": "scatter",
         "x": [
          8.3125
         ],
         "y": [
          0.5
         ]
        },
        {
         "hoverinfo": "text",
         "hovertext": [
          "1_1"
         ],
         "legendgroup": "1",
         "marker": {
          "color": "#52b69a",
          "size": 10,
          "symbol": "circle-dot"
         },
         "mode": "markers+text",
         "name": "1",
         "type": "scatter",
         "x": [
          6.625
         ],
         "y": [
          0.5
         ]
        },
        {
         "hoverinfo": "text",
         "hovertext": [
          "4_3"
         ],
         "legendgroup": "3",
         "marker": {
          "color": "#99d98c",
          "size": 10,
          "symbol": "circle-dot"
         },
         "mode": "markers+text",
         "name": "3",
         "type": "scatter",
         "x": [
          9.4375
         ],
         "y": [
          0.5
         ]
        }
       ],
       "layout": {
        "height": 500,
        "shapes": [
         {
          "layer": "below",
          "line": {
           "color": "#333",
           "width": 2
          },
          "type": "line",
          "x0": 5.5,
          "x1": 5.5,
          "y0": 5,
          "y1": 5
         },
         {
          "layer": "below",
          "line": {
           "color": "#333",
           "width": 2
          },
          "type": "line",
          "x0": 5.5,
          "x1": 3.25,
          "y0": 5,
          "y1": 3.5
         },
         {
          "layer": "below",
          "line": {
           "color": "#333",
           "width": 2
          },
          "type": "line",
          "x0": 5.5,
          "x1": 7.75,
          "y0": 5,
          "y1": 3.5
         },
         {
          "layer": "below",
          "line": {
           "color": "#333",
           "width": 2
          },
          "type": "line",
          "x0": 7.75,
          "x1": 6.625,
          "y0": 3.5,
          "y1": 2
         },
         {
          "layer": "below",
          "line": {
           "color": "#333",
           "width": 2
          },
          "type": "line",
          "x0": 6.625,
          "x1": 6.625,
          "y0": 2,
          "y1": 0.5
         },
         {
          "layer": "below",
          "line": {
           "color": "#333",
           "width": 2
          },
          "type": "line",
          "x0": 7.75,
          "x1": 8.875,
          "y0": 3.5,
          "y1": 2
         },
         {
          "layer": "below",
          "line": {
           "color": "#333",
           "width": 2
          },
          "type": "line",
          "x0": 8.875,
          "x1": 8.3125,
          "y0": 2,
          "y1": 0.5
         },
         {
          "layer": "below",
          "line": {
           "color": "#333",
           "width": 2
          },
          "type": "line",
          "x0": 8.875,
          "x1": 9.4375,
          "y0": 2,
          "y1": 0.5
         }
        ],
        "template": {
         "data": {
          "bar": [
           {
            "error_x": {
             "color": "#2a3f5f"
            },
            "error_y": {
             "color": "#2a3f5f"
            },
            "marker": {
             "line": {
              "color": "#E5ECF6",
              "width": 0.5
             },
             "pattern": {
              "fillmode": "overlay",
              "size": 10,
              "solidity": 0.2
             }
            },
            "type": "bar"
           }
          ],
          "barpolar": [
           {
            "marker": {
             "line": {
              "color": "#E5ECF6",
              "width": 0.5
             },
             "pattern": {
              "fillmode": "overlay",
              "size": 10,
              "solidity": 0.2
             }
            },
            "type": "barpolar"
           }
          ],
          "carpet": [
           {
            "aaxis": {
             "endlinecolor": "#2a3f5f",
             "gridcolor": "white",
             "linecolor": "white",
             "minorgridcolor": "white",
             "startlinecolor": "#2a3f5f"
            },
            "baxis": {
             "endlinecolor": "#2a3f5f",
             "gridcolor": "white",
             "linecolor": "white",
             "minorgridcolor": "white",
             "startlinecolor": "#2a3f5f"
            },
            "type": "carpet"
           }
          ],
          "choropleth": [
           {
            "colorbar": {
             "outlinewidth": 0,
             "ticks": ""
            },
            "type": "choropleth"
           }
          ],
          "contour": [
           {
            "colorbar": {
             "outlinewidth": 0,
             "ticks": ""
            },
            "colorscale": [
             [
              0,
              "#0d0887"
             ],
             [
              0.1111111111111111,
              "#46039f"
             ],
             [
              0.2222222222222222,
              "#7201a8"
             ],
             [
              0.3333333333333333,
              "#9c179e"
             ],
             [
              0.4444444444444444,
              "#bd3786"
             ],
             [
              0.5555555555555556,
              "#d8576b"
             ],
             [
              0.6666666666666666,
              "#ed7953"
             ],
             [
              0.7777777777777778,
              "#fb9f3a"
             ],
             [
              0.8888888888888888,
              "#fdca26"
             ],
             [
              1,
              "#f0f921"
             ]
            ],
            "type": "contour"
           }
          ],
          "contourcarpet": [
           {
            "colorbar": {
             "outlinewidth": 0,
             "ticks": ""
            },
            "type": "contourcarpet"
           }
          ],
          "heatmap": [
           {
            "colorbar": {
             "outlinewidth": 0,
             "ticks": ""
            },
            "colorscale": [
             [
              0,
              "#0d0887"
             ],
             [
              0.1111111111111111,
              "#46039f"
             ],
             [
              0.2222222222222222,
              "#7201a8"
             ],
             [
              0.3333333333333333,
              "#9c179e"
             ],
             [
              0.4444444444444444,
              "#bd3786"
             ],
             [
              0.5555555555555556,
              "#d8576b"
             ],
             [
              0.6666666666666666,
              "#ed7953"
             ],
             [
              0.7777777777777778,
              "#fb9f3a"
             ],
             [
              0.8888888888888888,
              "#fdca26"
             ],
             [
              1,
              "#f0f921"
             ]
            ],
            "type": "heatmap"
           }
          ],
          "heatmapgl": [
           {
            "colorbar": {
             "outlinewidth": 0,
             "ticks": ""
            },
            "colorscale": [
             [
              0,
              "#0d0887"
             ],
             [
              0.1111111111111111,
              "#46039f"
             ],
             [
              0.2222222222222222,
              "#7201a8"
             ],
             [
              0.3333333333333333,
              "#9c179e"
             ],
             [
              0.4444444444444444,
              "#bd3786"
             ],
             [
              0.5555555555555556,
              "#d8576b"
             ],
             [
              0.6666666666666666,
              "#ed7953"
             ],
             [
              0.7777777777777778,
              "#fb9f3a"
             ],
             [
              0.8888888888888888,
              "#fdca26"
             ],
             [
              1,
              "#f0f921"
             ]
            ],
            "type": "heatmapgl"
           }
          ],
          "histogram": [
           {
            "marker": {
             "pattern": {
              "fillmode": "overlay",
              "size": 10,
              "solidity": 0.2
             }
            },
            "type": "histogram"
           }
          ],
          "histogram2d": [
           {
            "colorbar": {
             "outlinewidth": 0,
             "ticks": ""
            },
            "colorscale": [
             [
              0,
              "#0d0887"
             ],
             [
              0.1111111111111111,
              "#46039f"
             ],
             [
              0.2222222222222222,
              "#7201a8"
             ],
             [
              0.3333333333333333,
              "#9c179e"
             ],
             [
              0.4444444444444444,
              "#bd3786"
             ],
             [
              0.5555555555555556,
              "#d8576b"
             ],
             [
              0.6666666666666666,
              "#ed7953"
             ],
             [
              0.7777777777777778,
              "#fb9f3a"
             ],
             [
              0.8888888888888888,
              "#fdca26"
             ],
             [
              1,
              "#f0f921"
             ]
            ],
            "type": "histogram2d"
           }
          ],
          "histogram2dcontour": [
           {
            "colorbar": {
             "outlinewidth": 0,
             "ticks": ""
            },
            "colorscale": [
             [
              0,
              "#0d0887"
             ],
             [
              0.1111111111111111,
              "#46039f"
             ],
             [
              0.2222222222222222,
              "#7201a8"
             ],
             [
              0.3333333333333333,
              "#9c179e"
             ],
             [
              0.4444444444444444,
              "#bd3786"
             ],
             [
              0.5555555555555556,
              "#d8576b"
             ],
             [
              0.6666666666666666,
              "#ed7953"
             ],
             [
              0.7777777777777778,
              "#fb9f3a"
             ],
             [
              0.8888888888888888,
              "#fdca26"
             ],
             [
              1,
              "#f0f921"
             ]
            ],
            "type": "histogram2dcontour"
           }
          ],
          "mesh3d": [
           {
            "colorbar": {
             "outlinewidth": 0,
             "ticks": ""
            },
            "type": "mesh3d"
           }
          ],
          "parcoords": [
           {
            "line": {
             "colorbar": {
              "outlinewidth": 0,
              "ticks": ""
             }
            },
            "type": "parcoords"
           }
          ],
          "pie": [
           {
            "automargin": true,
            "type": "pie"
           }
          ],
          "scatter": [
           {
            "fillpattern": {
             "fillmode": "overlay",
             "size": 10,
             "solidity": 0.2
            },
            "type": "scatter"
           }
          ],
          "scatter3d": [
           {
            "line": {
             "colorbar": {
              "outlinewidth": 0,
              "ticks": ""
             }
            },
            "marker": {
             "colorbar": {
              "outlinewidth": 0,
              "ticks": ""
             }
            },
            "type": "scatter3d"
           }
          ],
          "scattercarpet": [
           {
            "marker": {
             "colorbar": {
              "outlinewidth": 0,
              "ticks": ""
             }
            },
            "type": "scattercarpet"
           }
          ],
          "scattergeo": [
           {
            "marker": {
             "colorbar": {
              "outlinewidth": 0,
              "ticks": ""
             }
            },
            "type": "scattergeo"
           }
          ],
          "scattergl": [
           {
            "marker": {
             "colorbar": {
              "outlinewidth": 0,
              "ticks": ""
             }
            },
            "type": "scattergl"
           }
          ],
          "scattermapbox": [
           {
            "marker": {
             "colorbar": {
              "outlinewidth": 0,
              "ticks": ""
             }
            },
            "type": "scattermapbox"
           }
          ],
          "scatterpolar": [
           {
            "marker": {
             "colorbar": {
              "outlinewidth": 0,
              "ticks": ""
             }
            },
            "type": "scatterpolar"
           }
          ],
          "scatterpolargl": [
           {
            "marker": {
             "colorbar": {
              "outlinewidth": 0,
              "ticks": ""
             }
            },
            "type": "scatterpolargl"
           }
          ],
          "scatterternary": [
           {
            "marker": {
             "colorbar": {
              "outlinewidth": 0,
              "ticks": ""
             }
            },
            "type": "scatterternary"
           }
          ],
          "surface": [
           {
            "colorbar": {
             "outlinewidth": 0,
             "ticks": ""
            },
            "colorscale": [
             [
              0,
              "#0d0887"
             ],
             [
              0.1111111111111111,
              "#46039f"
             ],
             [
              0.2222222222222222,
              "#7201a8"
             ],
             [
              0.3333333333333333,
              "#9c179e"
             ],
             [
              0.4444444444444444,
              "#bd3786"
             ],
             [
              0.5555555555555556,
              "#d8576b"
             ],
             [
              0.6666666666666666,
              "#ed7953"
             ],
             [
              0.7777777777777778,
              "#fb9f3a"
             ],
             [
              0.8888888888888888,
              "#fdca26"
             ],
             [
              1,
              "#f0f921"
             ]
            ],
            "type": "surface"
           }
          ],
          "table": [
           {
            "cells": {
             "fill": {
              "color": "#EBF0F8"
             },
             "line": {
              "color": "white"
             }
            },
            "header": {
             "fill": {
              "color": "#C8D4E3"
             },
             "line": {
              "color": "white"
             }
            },
            "type": "table"
           }
          ]
         },
         "layout": {
          "annotationdefaults": {
           "arrowcolor": "#2a3f5f",
           "arrowhead": 0,
           "arrowwidth": 1
          },
          "autotypenumbers": "strict",
          "coloraxis": {
           "colorbar": {
            "outlinewidth": 0,
            "ticks": ""
           }
          },
          "colorscale": {
           "diverging": [
            [
             0,
             "#8e0152"
            ],
            [
             0.1,
             "#c51b7d"
            ],
            [
             0.2,
             "#de77ae"
            ],
            [
             0.3,
             "#f1b6da"
            ],
            [
             0.4,
             "#fde0ef"
            ],
            [
             0.5,
             "#f7f7f7"
            ],
            [
             0.6,
             "#e6f5d0"
            ],
            [
             0.7,
             "#b8e186"
            ],
            [
             0.8,
             "#7fbc41"
            ],
            [
             0.9,
             "#4d9221"
            ],
            [
             1,
             "#276419"
            ]
           ],
           "sequential": [
            [
             0,
             "#0d0887"
            ],
            [
             0.1111111111111111,
             "#46039f"
            ],
            [
             0.2222222222222222,
             "#7201a8"
            ],
            [
             0.3333333333333333,
             "#9c179e"
            ],
            [
             0.4444444444444444,
             "#bd3786"
            ],
            [
             0.5555555555555556,
             "#d8576b"
            ],
            [
             0.6666666666666666,
             "#ed7953"
            ],
            [
             0.7777777777777778,
             "#fb9f3a"
            ],
            [
             0.8888888888888888,
             "#fdca26"
            ],
            [
             1,
             "#f0f921"
            ]
           ],
           "sequentialminus": [
            [
             0,
             "#0d0887"
            ],
            [
             0.1111111111111111,
             "#46039f"
            ],
            [
             0.2222222222222222,
             "#7201a8"
            ],
            [
             0.3333333333333333,
             "#9c179e"
            ],
            [
             0.4444444444444444,
             "#bd3786"
            ],
            [
             0.5555555555555556,
             "#d8576b"
            ],
            [
             0.6666666666666666,
             "#ed7953"
            ],
            [
             0.7777777777777778,
             "#fb9f3a"
            ],
            [
             0.8888888888888888,
             "#fdca26"
            ],
            [
             1,
             "#f0f921"
            ]
           ]
          },
          "colorway": [
           "#636efa",
           "#EF553B",
           "#00cc96",
           "#ab63fa",
           "#FFA15A",
           "#19d3f3",
           "#FF6692",
           "#B6E880",
           "#FF97FF",
           "#FECB52"
          ],
          "font": {
           "color": "#2a3f5f"
          },
          "geo": {
           "bgcolor": "white",
           "lakecolor": "white",
           "landcolor": "#E5ECF6",
           "showlakes": true,
           "showland": true,
           "subunitcolor": "white"
          },
          "hoverlabel": {
           "align": "left"
          },
          "hovermode": "closest",
          "mapbox": {
           "style": "light"
          },
          "paper_bgcolor": "white",
          "plot_bgcolor": "#E5ECF6",
          "polar": {
           "angularaxis": {
            "gridcolor": "white",
            "linecolor": "white",
            "ticks": ""
           },
           "bgcolor": "#E5ECF6",
           "radialaxis": {
            "gridcolor": "white",
            "linecolor": "white",
            "ticks": ""
           }
          },
          "scene": {
           "xaxis": {
            "backgroundcolor": "#E5ECF6",
            "gridcolor": "white",
            "gridwidth": 2,
            "linecolor": "white",
            "showbackground": true,
            "ticks": "",
            "zerolinecolor": "white"
           },
           "yaxis": {
            "backgroundcolor": "#E5ECF6",
            "gridcolor": "white",
            "gridwidth": 2,
            "linecolor": "white",
            "showbackground": true,
            "ticks": "",
            "zerolinecolor": "white"
           },
           "zaxis": {
            "backgroundcolor": "#E5ECF6",
            "gridcolor": "white",
            "gridwidth": 2,
            "linecolor": "white",
            "showbackground": true,
            "ticks": "",
            "zerolinecolor": "white"
           }
          },
          "shapedefaults": {
           "line": {
            "color": "#2a3f5f"
           }
          },
          "ternary": {
           "aaxis": {
            "gridcolor": "white",
            "linecolor": "white",
            "ticks": ""
           },
           "baxis": {
            "gridcolor": "white",
            "linecolor": "white",
            "ticks": ""
           },
           "bgcolor": "#E5ECF6",
           "caxis": {
            "gridcolor": "white",
            "linecolor": "white",
            "ticks": ""
           }
          },
          "title": {
           "x": 0.05
          },
          "xaxis": {
           "automargin": true,
           "gridcolor": "white",
           "linecolor": "white",
           "ticks": "",
           "title": {
            "standoff": 15
           },
           "zerolinecolor": "white",
           "zerolinewidth": 2
          },
          "yaxis": {
           "automargin": true,
           "gridcolor": "white",
           "linecolor": "white",
           "ticks": "",
           "title": {
            "standoff": 15
           },
           "zerolinecolor": "white",
           "zerolinewidth": 2
          }
         }
        },
        "width": 1000,
        "xaxis": {
         "showgrid": false,
         "showline": false,
         "showticklabels": false,
         "zeroline": false
        },
        "yaxis": {
         "showgrid": false,
         "showline": false,
         "showticklabels": false,
         "zeroline": false
        }
       }
      }
     },
     "metadata": {},
     "output_type": "display_data"
    }
   ],
   "source": [
    "merge_points_with_c(embeddings1,nodes1,folder_path1 +'datas.data',1,tmp1.shape[1]+1,0,folder_path1,epoches21,c1,c2)\n",
    "nos1 = build_hyper_tree_from_folder(folder_path1,True)\n",
    "add_meta(nos1[0],meta_list1,[])\n",
    "show_tree(nos1[0],color=['#184e77','#1a759f','#168aad',\"#34a0a4\",'#52b69a','#99d98c','#76c893','#99d98c']).show_fig()\n",
    "remove_meta(nos1[0]);"
   ]
  },
  {
   "cell_type": "code",
   "execution_count": 279,
   "metadata": {},
   "outputs": [
    {
     "name": "stdout",
     "output_type": "stream",
     "text": [
      "./lr/after/datas/all_b/datas.data length:5\n",
      "Generating all pairs superset\n",
      "\t Epoch 0 | average train loss: 0.904399\n",
      "Optimization finished.\n",
      "\t Epoch 1 | average train loss: 0.902010\n",
      "Optimization finished.\n",
      "\t Epoch 2 | average train loss: 0.904384\n",
      "Optimization finished.\n",
      "\t Epoch 3 | average train loss: 0.901301\n",
      "Optimization finished.\n",
      "\t Epoch 4 | average train loss: 0.902665\n",
      "Optimization finished.\n",
      "\t Epoch 5 | average train loss: 0.904120\n",
      "Optimization finished.\n",
      "\t Epoch 6 | average train loss: 0.901430\n",
      "Optimization finished.\n",
      "\t Epoch 7 | average train loss: 0.903889\n",
      "Optimization finished.\n",
      "\t Epoch 8 | average train loss: 0.901973\n",
      "Optimization finished.\n",
      "\t Epoch 9 | average train loss: 0.902120\n",
      "Optimization finished.\n",
      "\t Epoch 10 | average train loss: 0.902603\n",
      "Optimization finished.\n",
      "\t Epoch 11 | average train loss: 0.903974\n",
      "Optimization finished.\n",
      "\t Epoch 12 | average train loss: 0.904422\n",
      "Optimization finished.\n",
      "\t Epoch 13 | average train loss: 0.901245\n",
      "Optimization finished.\n",
      "\t Epoch 14 | average train loss: 0.901064\n",
      "Optimization finished.\n",
      "\t Epoch 0 | average train loss1: 0.381105\n",
      "\t Epoch 0 | average train loss2: 0.375385\n",
      "\t Epoch 1 | average train loss1: 0.341671\n",
      "\t Epoch 1 | average train loss2: 0.363885\n"
     ]
    },
    {
     "data": {
      "image/png": "[encoded data removed]",
      "text/plain": [
       "<Figure size 1500x1500 with 1 Axes>"
      ]
     },
     "metadata": {},
     "output_type": "display_data"
    }
   ],
   "source": [
    "embeddings2,nodes2 = get_Hyper_tree(folder_path2 +'datas.data',1,tmp2.shape[1]+1,0,epoches12,epoches22,meta_list2,save_path=folder_path2)\n"
   ]
  },
  {
   "cell_type": "code",
   "execution_count": 280,
   "metadata": {},
   "outputs": [
    {
     "name": "stdout",
     "output_type": "stream",
     "text": [
      "6 4\n",
      "5 2\n",
      "False\n",
      "\t Epoch 0 | average train loss1: 0.379723\n",
      "\t Epoch 0 | average train loss2: 0.375622\n",
      "\t Epoch 1 | average train loss1: 0.377501\n",
      "\t Epoch 1 | average train loss2: 0.375750\n",
      "7 2\n",
      "False\n",
      "True\n",
      "{'0': '#184e77', '4': '#1a759f', 'empty': '#fff', '2': '#34a0a4', '1': '#52b69a', '3': '#99d98c'}\n"
     ]
    },
    {
     "data": {
      "application/vnd.plotly.v1+json": {
       "config": {
        "plotlyServerURL": "https://plot.ly"
       },
       "data": [
        {
         "hoverinfo": "text",
         "hovertext": [
          "4_0"
         ],
         "legendgroup": "0",
         "marker": {
          "color": "#184e77",
          "size": 10,
          "symbol": "circle-dot"
         },
         "mode": "markers+text",
         "name": "0",
         "type": "scatter",
         "x": [
          3.25
         ],
         "y": [
          3.5
         ]
        },
        {
         "hoverinfo": "text",
         "hovertext": [
          "2_4"
         ],
         "legendgroup": "4",
         "marker": {
          "color": "#1a759f",
          "size": 10,
          "symbol": "circle-dot"
         },
         "mode": "markers+text",
         "name": "4",
         "type": "scatter",
         "x": [
          7.75
         ],
         "y": [
          3.5
         ]
        },
        {
         "hoverinfo": "text",
         "hovertext": [
          "8"
         ],
         "legendgroup": "empty",
         "marker": {
          "color": "#fff",
          "size": 10,
          "symbol": "circle-dot"
         },
         "mode": "markers+text",
         "name": "empty",
         "type": "scatter",
         "x": [
          5.5
         ],
         "y": [
          5
         ]
        },
        {
         "hoverinfo": "text",
         "hovertext": [
          "1_2"
         ],
         "legendgroup": "2",
         "marker": {
          "color": "#34a0a4",
          "size": 10,
          "symbol": "circle-dot"
         },
         "mode": "markers+text",
         "name": "2",
         "type": "scatter",
         "x": [
          6.625
         ],
         "y": [
          2
         ]
        },
        {
         "hoverinfo": "text",
         "hovertext": [
          "3_1"
         ],
         "legendgroup": "1",
         "marker": {
          "color": "#52b69a",
          "size": 10,
          "symbol": "circle-dot"
         },
         "mode": "markers+text",
         "name": "1",
         "type": "scatter",
         "x": [
          8.875
         ],
         "y": [
          2
         ]
        },
        {
         "hoverinfo": "text",
         "hovertext": [
          "0_3"
         ],
         "legendgroup": "3",
         "marker": {
          "color": "#99d98c",
          "size": 10,
          "symbol": "circle-dot"
         },
         "mode": "markers+text",
         "name": "3",
         "type": "scatter",
         "x": [
          3.25
         ],
         "y": [
          2
         ]
        }
       ],
       "layout": {
        "height": 500,
        "shapes": [
         {
          "layer": "below",
          "line": {
           "color": "#333",
           "width": 2
          },
          "type": "line",
          "x0": 5.5,
          "x1": 5.5,
          "y0": 5,
          "y1": 5
         },
         {
          "layer": "below",
          "line": {
           "color": "#333",
           "width": 2
          },
          "type": "line",
          "x0": 5.5,
          "x1": 3.25,
          "y0": 5,
          "y1": 3.5
         },
         {
          "layer": "below",
          "line": {
           "color": "#333",
           "width": 2
          },
          "type": "line",
          "x0": 3.25,
          "x1": 3.25,
          "y0": 3.5,
          "y1": 2
         },
         {
          "layer": "below",
          "line": {
           "color": "#333",
           "width": 2
          },
          "type": "line",
          "x0": 5.5,
          "x1": 7.75,
          "y0": 5,
          "y1": 3.5
         },
         {
          "layer": "below",
          "line": {
           "color": "#333",
           "width": 2
          },
          "type": "line",
          "x0": 7.75,
          "x1": 6.625,
          "y0": 3.5,
          "y1": 2
         },
         {
          "layer": "below",
          "line": {
           "color": "#333",
           "width": 2
          },
          "type": "line",
          "x0": 7.75,
          "x1": 8.875,
          "y0": 3.5,
          "y1": 2
         }
        ],
        "template": {
         "data": {
          "bar": [
           {
            "error_x": {
             "color": "#2a3f5f"
            },
            "error_y": {
             "color": "#2a3f5f"
            },
            "marker": {
             "line": {
              "color": "#E5ECF6",
              "width": 0.5
             },
             "pattern": {
              "fillmode": "overlay",
              "size": 10,
              "solidity": 0.2
             }
            },
            "type": "bar"
           }
          ],
          "barpolar": [
           {
            "marker": {
             "line": {
              "color": "#E5ECF6",
              "width": 0.5
             },
             "pattern": {
              "fillmode": "overlay",
              "size": 10,
              "solidity": 0.2
             }
            },
            "type": "barpolar"
           }
          ],
          "carpet": [
           {
            "aaxis": {
             "endlinecolor": "#2a3f5f",
             "gridcolor": "white",
             "linecolor": "white",
             "minorgridcolor": "white",
             "startlinecolor": "#2a3f5f"
            },
            "baxis": {
             "endlinecolor": "#2a3f5f",
             "gridcolor": "white",
             "linecolor": "white",
             "minorgridcolor": "white",
             "startlinecolor": "#2a3f5f"
            },
            "type": "carpet"
           }
          ],
          "choropleth": [
           {
            "colorbar": {
             "outlinewidth": 0,
             "ticks": ""
            },
            "type": "choropleth"
           }
          ],
          "contour": [
           {
            "colorbar": {
             "outlinewidth": 0,
             "ticks": ""
            },
            "colorscale": [
             [
              0,
              "#0d0887"
             ],
             [
              0.1111111111111111,
              "#46039f"
             ],
             [
              0.2222222222222222,
              "#7201a8"
             ],
             [
              0.3333333333333333,
              "#9c179e"
             ],
             [
              0.4444444444444444,
              "#bd3786"
             ],
             [
              0.5555555555555556,
              "#d8576b"
             ],
             [
              0.6666666666666666,
              "#ed7953"
             ],
             [
              0.7777777777777778,
              "#fb9f3a"
             ],
             [
              0.8888888888888888,
              "#fdca26"
             ],
             [
              1,
              "#f0f921"
             ]
            ],
            "type": "contour"
           }
          ],
          "contourcarpet": [
           {
            "colorbar": {
             "outlinewidth": 0,
             "ticks": ""
            },
            "type": "contourcarpet"
           }
          ],
          "heatmap": [
           {
            "colorbar": {
             "outlinewidth": 0,
             "ticks": ""
            },
            "colorscale": [
             [
              0,
              "#0d0887"
             ],
             [
              0.1111111111111111,
              "#46039f"
             ],
             [
              0.2222222222222222,
              "#7201a8"
             ],
             [
              0.3333333333333333,
              "#9c179e"
             ],
             [
              0.4444444444444444,
              "#bd3786"
             ],
             [
              0.5555555555555556,
              "#d8576b"
             ],
             [
              0.6666666666666666,
              "#ed7953"
             ],
             [
              0.7777777777777778,
              "#fb9f3a"
             ],
             [
              0.8888888888888888,
              "#fdca26"
             ],
             [
              1,
              "#f0f921"
             ]
            ],
            "type": "heatmap"
           }
          ],
          "heatmapgl": [
           {
            "colorbar": {
             "outlinewidth": 0,
             "ticks": ""
            },
            "colorscale": [
             [
              0,
              "#0d0887"
             ],
             [
              0.1111111111111111,
              "#46039f"
             ],
             [
              0.2222222222222222,
              "#7201a8"
             ],
             [
              0.3333333333333333,
              "#9c179e"
             ],
             [
              0.4444444444444444,
              "#bd3786"
             ],
             [
              0.5555555555555556,
              "#d8576b"
             ],
             [
              0.6666666666666666,
              "#ed7953"
             ],
             [
              0.7777777777777778,
              "#fb9f3a"
             ],
             [
              0.8888888888888888,
              "#fdca26"
             ],
             [
              1,
              "#f0f921"
             ]
            ],
            "type": "heatmapgl"
           }
          ],
          "histogram": [
           {
            "marker": {
             "pattern": {
              "fillmode": "overlay",
              "size": 10,
              "solidity": 0.2
             }
            },
            "type": "histogram"
           }
          ],
          "histogram2d": [
           {
            "colorbar": {
             "outlinewidth": 0,
             "ticks": ""
            },
            "colorscale": [
             [
              0,
              "#0d0887"
             ],
             [
              0.1111111111111111,
              "#46039f"
             ],
             [
              0.2222222222222222,
              "#7201a8"
             ],
             [
              0.3333333333333333,
              "#9c179e"
             ],
             [
              0.4444444444444444,
              "#bd3786"
             ],
             [
              0.5555555555555556,
              "#d8576b"
             ],
             [
              0.6666666666666666,
              "#ed7953"
             ],
             [
              0.7777777777777778,
              "#fb9f3a"
             ],
             [
              0.8888888888888888,
              "#fdca26"
             ],
             [
              1,
              "#f0f921"
             ]
            ],
            "type": "histogram2d"
           }
          ],
          "histogram2dcontour": [
           {
            "colorbar": {
             "outlinewidth": 0,
             "ticks": ""
            },
            "colorscale": [
             [
              0,
              "#0d0887"
             ],
             [
              0.1111111111111111,
              "#46039f"
             ],
             [
              0.2222222222222222,
              "#7201a8"
             ],
             [
              0.3333333333333333,
              "#9c179e"
             ],
             [
              0.4444444444444444,
              "#bd3786"
             ],
             [
              0.5555555555555556,
              "#d8576b"
             ],
             [
              0.6666666666666666,
              "#ed7953"
             ],
             [
              0.7777777777777778,
              "#fb9f3a"
             ],
             [
              0.8888888888888888,
              "#fdca26"
             ],
             [
              1,
              "#f0f921"
             ]
            ],
            "type": "histogram2dcontour"
           }
          ],
          "mesh3d": [
           {
            "colorbar": {
             "outlinewidth": 0,
             "ticks": ""
            },
            "type": "mesh3d"
           }
          ],
          "parcoords": [
           {
            "line": {
             "colorbar": {
              "outlinewidth": 0,
              "ticks": ""
             }
            },
            "type": "parcoords"
           }
          ],
          "pie": [
           {
            "automargin": true,
            "type": "pie"
           }
          ],
          "scatter": [
           {
            "fillpattern": {
             "fillmode": "overlay",
             "size": 10,
             "solidity": 0.2
            },
            "type": "scatter"
           }
          ],
          "scatter3d": [
           {
            "line": {
             "colorbar": {
              "outlinewidth": 0,
              "ticks": ""
             }
            },
            "marker": {
             "colorbar": {
              "outlinewidth": 0,
              "ticks": ""
             }
            },
            "type": "scatter3d"
           }
          ],
          "scattercarpet": [
           {
            "marker": {
             "colorbar": {
              "outlinewidth": 0,
              "ticks": ""
             }
            },
            "type": "scattercarpet"
           }
          ],
          "scattergeo": [
           {
            "marker": {
             "colorbar": {
              "outlinewidth": 0,
              "ticks": ""
             }
            },
            "type": "scattergeo"
           }
          ],
          "scattergl": [
           {
            "marker": {
             "colorbar": {
              "outlinewidth": 0,
              "ticks": ""
             }
            },
            "type": "scattergl"
           }
          ],
          "scattermapbox": [
           {
            "marker": {
             "colorbar": {
              "outlinewidth": 0,
              "ticks": ""
             }
            },
            "type": "scattermapbox"
           }
          ],
          "scatterpolar": [
           {
            "marker": {
             "colorbar": {
              "outlinewidth": 0,
              "ticks": ""
             }
            },
            "type": "scatterpolar"
           }
          ],
          "scatterpolargl": [
           {
            "marker": {
             "colorbar": {
              "outlinewidth": 0,
              "ticks": ""
             }
            },
            "type": "scatterpolargl"
           }
          ],
          "scatterternary": [
           {
            "marker": {
             "colorbar": {
              "outlinewidth": 0,
              "ticks": ""
             }
            },
            "type": "scatterternary"
           }
          ],
          "surface": [
           {
            "colorbar": {
             "outlinewidth": 0,
             "ticks": ""
            },
            "colorscale": [
             [
              0,
              "#0d0887"
             ],
             [
              0.1111111111111111,
              "#46039f"
             ],
             [
              0.2222222222222222,
              "#7201a8"
             ],
             [
              0.3333333333333333,
              "#9c179e"
             ],
             [
              0.4444444444444444,
              "#bd3786"
             ],
             [
              0.5555555555555556,
              "#d8576b"
             ],
             [
              0.6666666666666666,
              "#ed7953"
             ],
             [
              0.7777777777777778,
              "#fb9f3a"
             ],
             [
              0.8888888888888888,
              "#fdca26"
             ],
             [
              1,
              "#f0f921"
             ]
            ],
            "type": "surface"
           }
          ],
          "table": [
           {
            "cells": {
             "fill": {
              "color": "#EBF0F8"
             },
             "line": {
              "color": "white"
             }
            },
            "header": {
             "fill": {
              "color": "#C8D4E3"
             },
             "line": {
              "color": "white"
             }
            },
            "type": "table"
           }
          ]
         },
         "layout": {
          "annotationdefaults": {
           "arrowcolor": "#2a3f5f",
           "arrowhead": 0,
           "arrowwidth": 1
          },
          "autotypenumbers": "strict",
          "coloraxis": {
           "colorbar": {
            "outlinewidth": 0,
            "ticks": ""
           }
          },
          "colorscale": {
           "diverging": [
            [
             0,
             "#8e0152"
            ],
            [
             0.1,
             "#c51b7d"
            ],
            [
             0.2,
             "#de77ae"
            ],
            [
             0.3,
             "#f1b6da"
            ],
            [
             0.4,
             "#fde0ef"
            ],
            [
             0.5,
             "#f7f7f7"
            ],
            [
             0.6,
             "#e6f5d0"
            ],
            [
             0.7,
             "#b8e186"
            ],
            [
             0.8,
             "#7fbc41"
            ],
            [
             0.9,
             "#4d9221"
            ],
            [
             1,
             "#276419"
            ]
           ],
           "sequential": [
            [
             0,
             "#0d0887"
            ],
            [
             0.1111111111111111,
             "#46039f"
            ],
            [
             0.2222222222222222,
             "#7201a8"
            ],
            [
             0.3333333333333333,
             "#9c179e"
            ],
            [
             0.4444444444444444,
             "#bd3786"
            ],
            [
             0.5555555555555556,
             "#d8576b"
            ],
            [
             0.6666666666666666,
             "#ed7953"
            ],
            [
             0.7777777777777778,
             "#fb9f3a"
            ],
            [
             0.8888888888888888,
             "#fdca26"
            ],
            [
             1,
             "#f0f921"
            ]
           ],
           "sequentialminus": [
            [
             0,
             "#0d0887"
            ],
            [
             0.1111111111111111,
             "#46039f"
            ],
            [
             0.2222222222222222,
             "#7201a8"
            ],
            [
             0.3333333333333333,
             "#9c179e"
            ],
            [
             0.4444444444444444,
             "#bd3786"
            ],
            [
             0.5555555555555556,
             "#d8576b"
            ],
            [
             0.6666666666666666,
             "#ed7953"
            ],
            [
             0.7777777777777778,
             "#fb9f3a"
            ],
            [
             0.8888888888888888,
             "#fdca26"
            ],
            [
             1,
             "#f0f921"
            ]
           ]
          },
          "colorway": [
           "#636efa",
           "#EF553B",
           "#00cc96",
           "#ab63fa",
           "#FFA15A",
           "#19d3f3",
           "#FF6692",
           "#B6E880",
           "#FF97FF",
           "#FECB52"
          ],
          "font": {
           "color": "#2a3f5f"
          },
          "geo": {
           "bgcolor": "white",
           "lakecolor": "white",
           "landcolor": "#E5ECF6",
           "showlakes": true,
           "showland": true,
           "subunitcolor": "white"
          },
          "hoverlabel": {
           "align": "left"
          },
          "hovermode": "closest",
          "mapbox": {
           "style": "light"
          },
          "paper_bgcolor": "white",
          "plot_bgcolor": "#E5ECF6",
          "polar": {
           "angularaxis": {
            "gridcolor": "white",
            "linecolor": "white",
            "ticks": ""
           },
           "bgcolor": "#E5ECF6",
           "radialaxis": {
            "gridcolor": "white",
            "linecolor": "white",
            "ticks": ""
           }
          },
          "scene": {
           "xaxis": {
            "backgroundcolor": "#E5ECF6",
            "gridcolor": "white",
            "gridwidth": 2,
            "linecolor": "white",
            "showbackground": true,
            "ticks": "",
            "zerolinecolor": "white"
           },
           "yaxis": {
            "backgroundcolor": "#E5ECF6",
            "gridcolor": "white",
            "gridwidth": 2,
            "linecolor": "white",
            "showbackground": true,
            "ticks": "",
            "zerolinecolor": "white"
           },
           "zaxis": {
            "backgroundcolor": "#E5ECF6",
            "gridcolor": "white",
            "gridwidth": 2,
            "linecolor": "white",
            "showbackground": true,
            "ticks": "",
            "zerolinecolor": "white"
           }
          },
          "shapedefaults": {
           "line": {
            "color": "#2a3f5f"
           }
          },
          "ternary": {
           "aaxis": {
            "gridcolor": "white",
            "linecolor": "white",
            "ticks": ""
           },
           "baxis": {
            "gridcolor": "white",
            "linecolor": "white",
            "ticks": ""
           },
           "bgcolor": "#E5ECF6",
           "caxis": {
            "gridcolor": "white",
            "linecolor": "white",
            "ticks": ""
           }
          },
          "title": {
           "x": 0.05
          },
          "xaxis": {
           "automargin": true,
           "gridcolor": "white",
           "linecolor": "white",
           "ticks": "",
           "title": {
            "standoff": 15
           },
           "zerolinecolor": "white",
           "zerolinewidth": 2
          },
          "yaxis": {
           "automargin": true,
           "gridcolor": "white",
           "linecolor": "white",
           "ticks": "",
           "title": {
            "standoff": 15
           },
           "zerolinecolor": "white",
           "zerolinewidth": 2
          }
         }
        },
        "width": 1000,
        "xaxis": {
         "showgrid": false,
         "showline": false,
         "showticklabels": false,
         "zeroline": false
        },
        "yaxis": {
         "showgrid": false,
         "showline": false,
         "showticklabels": false,
         "zeroline": false
        }
       }
      }
     },
     "metadata": {},
     "output_type": "display_data"
    }
   ],
   "source": [
    "merge_points_with_c(embeddings2,nodes2,folder_path2 +'datas.data',1,tmp2.shape[1]+1,0,folder_path2,epoches22,c1,c2)\n",
    "nos2 = build_hyper_tree_from_folder(folder_path2,True)\n",
    "add_meta(nos2[0],meta_list2,[])\n",
    "show_tree(nos2[0],color=['#184e77','#1a759f','#168aad',\"#34a0a4\",'#52b69a','#99d98c','#76c893','#99d98c']).show_fig()\n",
    "remove_meta(nos2[0]);"
   ]
  },
  {
   "cell_type": "code",
   "execution_count": 281,
   "metadata": {},
   "outputs": [
    {
     "data": {
      "text/plain": [
       "AxisArrays with keys: meta"
      ]
     },
     "execution_count": 281,
     "metadata": {},
     "output_type": "execute_result"
    }
   ],
   "source": [
    "datas1 = sc.read_h5ad('./lr/after/datas/all_a.h5ad')\n",
    "datas2 = sc.read_h5ad('./lr/after/datas/all_b.h5ad')\n",
    "\n",
    "datas1.obsm"
   ]
  },
  {
   "cell_type": "code",
   "execution_count": 282,
   "metadata": {},
   "outputs": [],
   "source": [
    "temp1 = datas1.obsm['meta']\n",
    "temp1.index = adata1.to_df().index\n",
    "temp2 = datas2.obsm['meta']\n",
    "temp2.index = adata2.to_df().index\n"
   ]
  },
  {
   "cell_type": "code",
   "execution_count": 283,
   "metadata": {},
   "outputs": [],
   "source": [
    "adata1.obsm['meta'] = temp1\n",
    "adata2.obsm['meta'] = temp2"
   ]
  },
  {
   "cell_type": "code",
   "execution_count": 284,
   "metadata": {},
   "outputs": [],
   "source": [
    "nodes1 = build_hyper_tree_from_folder(folder_path1,True)\n",
    "nodes2 = build_hyper_tree_from_folder(folder_path2,True)\n",
    "\n",
    "nodes_merge1 = [];\n",
    "nodes_merge2 = [];\n",
    "add_meta(nodes1[0],meta_list1,[])\n",
    "add_meta(nodes2[0],meta_list2,[])\n"
   ]
  },
  {
   "cell_type": "code",
   "execution_count": 285,
   "metadata": {},
   "outputs": [],
   "source": [
    "datas1.obs['leiden'] = adata1.obs['leiden'].tolist()\n",
    "datas2.obs['leiden'] = adata2.obs['leiden'].tolist()\n",
    "\n",
    "\n"
   ]
  },
  {
   "cell_type": "code",
   "execution_count": 286,
   "metadata": {},
   "outputs": [
    {
     "name": "stdout",
     "output_type": "stream",
     "text": [
      "start spilting data\n",
      "View of AnnData object with n_obs × n_vars = 600 × 8759\n",
      "    obs: 'batch', 'leiden'\n",
      "    obsm: 'meta'\n",
      "finish 1\n",
      "start filtering LRIs with spatial data\n",
      "reading data\n",
      "<bound method NDFrame.head of                     cell          x         y  cell_type\n",
      "0        cell1-0-1-0-0-0   6.075328  1.663968        1.0\n",
      "1        cell2-0-1-0-0-0   2.718012  6.883799        1.0\n",
      "2        cell3-0-1-0-0-0   3.592235  3.290633        1.0\n",
      "3        cell4-0-1-0-0-0   6.263617  9.143634        1.0\n",
      "4        cell5-0-1-0-0-0   4.884694  1.014029        1.0\n",
      "..                   ...        ...       ...        ...\n",
      "595  cell196-1-1-0-0-0-1   9.207182  8.112386        2.0\n",
      "596  cell197-1-1-0-0-0-1  12.661412  7.987338        2.0\n",
      "597  cell198-1-1-0-0-0-1  12.339630  3.525833        2.0\n",
      "598  cell199-1-1-0-0-0-1  10.001922  4.757707        2.0\n",
      "599  cell200-1-1-0-0-0-1   7.440846  1.781953        2.0\n",
      "\n",
      "[600 rows x 4 columns]>\n",
      "DataFrame 中不存在名为 '_index' 的列。\n",
      "Index(['cell', 'x', 'y', 'cell_type'], dtype='object')\n",
      "st_gene_len----8759\n",
      "cell_name_list----600\n",
      "reading data done\n",
      "The unique celltype list is [1.0, 2.0]\n",
      "knn done\n",
      "all_pair_number ---- 600\n",
      "The cell pair number found between 1.0 and 1.0 is 3258\n",
      "per_exp-------(137552,)\n",
      "find ligand-recepotor pairs time-------------8\n",
      "receptor_gene---------1482\n",
      "lr_pair_sub---------(37077, 5)\n",
      "the number of valid pathway number between 1.0 and 1.0 is: 37077\n",
      "co_exp_ratio=-------(37077, 1)\n",
      "co_exp_value-------(37077, 1)\n",
      "co_exp_p-----(37077,)\n",
      "The ligand-recepotor pairs found between 1.0 and 1.0 with significant expression is 12288\n",
      "find significant expression ligand-recepotor pairs time-------------6\n",
      "find tf time-------------33\n",
      "tf------(218894, 6)\n",
      "path_score---(12288, 13)\n",
      "1.0 and 1.0 done. Data saved to lr/after/datas/temp/cci_result_1.0_1.0.pkl\n",
      "all_pair_number ---- 600\n",
      "The cell pair number found between 2.0 and 1.0 is 838\n",
      "per_exp-------(137552,)\n",
      "find ligand-recepotor pairs time-------------1\n",
      "receptor_gene---------1504\n",
      "lr_pair_sub---------(39021, 5)\n",
      "the number of valid pathway number between 2.0 and 1.0 is: 39021\n",
      "co_exp_ratio=-------(39021, 1)\n",
      "co_exp_value-------(39021, 1)\n",
      "co_exp_p-----(39021,)\n",
      "The ligand-recepotor pairs found between 2.0 and 1.0 with significant expression is 21833\n",
      "find significant expression ligand-recepotor pairs time-------------5\n",
      "find tf time-------------58\n",
      "tf------(412214, 6)\n",
      "path_score---(21833, 13)\n",
      "1.0 and 2.0 done. Data saved to lr/after/datas/temp/cci_result_2.0_1.0.pkl\n",
      "all_pair_number ---- 600\n",
      "The cell pair number found between 1.0 and 2.0 is 742\n",
      "per_exp-------(137552,)\n",
      "find ligand-recepotor pairs time-------------1\n",
      "receptor_gene---------2732\n",
      "lr_pair_sub---------(63615, 5)\n",
      "the number of valid pathway number between 1.0 and 2.0 is: 63615\n",
      "co_exp_ratio=-------(63615, 1)\n",
      "co_exp_value-------(63615, 1)\n",
      "co_exp_p-----(63615,)\n",
      "The ligand-recepotor pairs found between 1.0 and 2.0 with significant expression is 25698\n",
      "find significant expression ligand-recepotor pairs time-------------17\n",
      "find tf time-------------113\n",
      "tf------(993331, 6)\n",
      "path_score---(25550, 13)\n",
      "2.0 and 1.0 done. Data saved to lr/after/datas/temp/cci_result_1.0_2.0.pkl\n",
      "all_pair_number ---- 600\n",
      "The cell pair number found between 2.0 and 2.0 is 1162\n",
      "per_exp-------(137552,)\n",
      "find ligand-recepotor pairs time-------------3\n",
      "receptor_gene---------2729\n",
      "lr_pair_sub---------(62196, 5)\n",
      "the number of valid pathway number between 2.0 and 2.0 is: 62196\n",
      "co_exp_ratio=-------(62196, 1)\n",
      "co_exp_value-------(62196, 1)\n",
      "co_exp_p-----(62196,)\n",
      "The ligand-recepotor pairs found between 2.0 and 2.0 with significant expression is 33313\n",
      "find significant expression ligand-recepotor pairs time-------------16\n",
      "find tf time-------------142\n",
      "tf------(1226975, 6)\n",
      "path_score---(33096, 13)\n",
      "2.0 and 2.0 done. Data saved to lr/after/datas/temp/cci_result_2.0_2.0.pkl\n",
      "Total running time is 412 seconds\n",
      "finish 2\n",
      "6 3_1 right\n",
      "start spilting data\n",
      "View of AnnData object with n_obs × n_vars = 400 × 8592\n",
      "    obs: 'batch', 'leiden'\n",
      "    obsm: 'meta'\n",
      "finish 1\n",
      "start filtering LRIs with spatial data\n",
      "reading data\n",
      "<bound method NDFrame.head of                     cell          x         y  cell_type\n",
      "0        cell1-0-1-0-0-0   6.075328  1.663968        1.0\n",
      "1        cell2-0-1-0-0-0   2.718012  6.883799        1.0\n",
      "2        cell3-0-1-0-0-0   3.592235  3.290633        1.0\n",
      "3        cell4-0-1-0-0-0   6.263617  9.143634        1.0\n",
      "4        cell5-0-1-0-0-0   4.884694  1.014029        1.0\n",
      "..                   ...        ...       ...        ...\n",
      "395  cell196-1-1-0-0-0-1   9.207182  8.112386        2.0\n",
      "396  cell197-1-1-0-0-0-1  12.661412  7.987338        2.0\n",
      "397  cell198-1-1-0-0-0-1  12.339630  3.525833        2.0\n",
      "398  cell199-1-1-0-0-0-1  10.001922  4.757707        2.0\n",
      "399  cell200-1-1-0-0-0-1   7.440846  1.781953        2.0\n",
      "\n",
      "[400 rows x 4 columns]>\n",
      "DataFrame 中不存在名为 '_index' 的列。\n",
      "Index(['cell', 'x', 'y', 'cell_type'], dtype='object')\n",
      "st_gene_len----8592\n",
      "cell_name_list----400\n",
      "reading data done\n",
      "The unique celltype list is [1.0, 2.0]\n",
      "knn done\n",
      "all_pair_number ---- 400\n",
      "The cell pair number found between 1.0 and 1.0 is 1362\n",
      "per_exp-------(132939,)\n",
      "find ligand-recepotor pairs time-------------2\n",
      "receptor_gene---------1399\n",
      "lr_pair_sub---------(36477, 5)\n",
      "the number of valid pathway number between 1.0 and 1.0 is: 36477\n",
      "co_exp_ratio=-------(36477, 1)\n",
      "co_exp_value-------(36477, 1)\n",
      "co_exp_p-----(36477,)\n",
      "The ligand-recepotor pairs found between 1.0 and 1.0 with significant expression is 7660\n",
      "find significant expression ligand-recepotor pairs time-------------4\n",
      "find tf time-------------17\n",
      "tf------(195632, 6)\n",
      "path_score---(7660, 13)\n",
      "1.0 and 1.0 done. Data saved to lr/after/datas/temp/cci_result_1.0_1.0.pkl\n",
      "all_pair_number ---- 400\n",
      "The cell pair number found between 2.0 and 1.0 is 641\n",
      "per_exp-------(132939,)\n",
      "find ligand-recepotor pairs time-------------1\n",
      "receptor_gene---------1452\n",
      "lr_pair_sub---------(39796, 5)\n",
      "the number of valid pathway number between 2.0 and 1.0 is: 39796\n",
      "co_exp_ratio=-------(39796, 1)\n",
      "co_exp_value-------(39796, 1)\n",
      "co_exp_p-----(39796,)\n",
      "The ligand-recepotor pairs found between 2.0 and 1.0 with significant expression is 17222\n",
      "find significant expression ligand-recepotor pairs time-------------4\n",
      "find tf time-------------38\n",
      "tf------(427876, 6)\n",
      "path_score---(17170, 13)\n",
      "1.0 and 2.0 done. Data saved to lr/after/datas/temp/cci_result_2.0_1.0.pkl\n",
      "all_pair_number ---- 400\n",
      "The cell pair number found between 1.0 and 2.0 is 638\n",
      "per_exp-------(132939,)\n",
      "find ligand-recepotor pairs time-------------1\n",
      "receptor_gene---------2713\n",
      "lr_pair_sub---------(60963, 5)\n",
      "the number of valid pathway number between 1.0 and 2.0 is: 60963\n",
      "co_exp_ratio=-------(60963, 1)\n",
      "co_exp_value-------(60963, 1)\n",
      "co_exp_p-----(60963,)\n",
      "The ligand-recepotor pairs found between 1.0 and 2.0 with significant expression is 11746\n",
      "find significant expression ligand-recepotor pairs time-------------16\n",
      "find tf time-------------50\n",
      "tf------(446845, 6)\n",
      "path_score---(11685, 13)\n",
      "2.0 and 1.0 done. Data saved to lr/after/datas/temp/cci_result_1.0_2.0.pkl\n",
      "all_pair_number ---- 400\n",
      "The cell pair number found between 2.0 and 2.0 is 1359\n",
      "per_exp-------(132939,)\n",
      "find ligand-recepotor pairs time-------------3\n",
      "receptor_gene---------2667\n",
      "lr_pair_sub---------(59863, 5)\n",
      "the number of valid pathway number between 2.0 and 2.0 is: 59863\n",
      "co_exp_ratio=-------(59863, 1)\n",
      "co_exp_value-------(59863, 1)\n",
      "co_exp_p-----(59863,)\n",
      "The ligand-recepotor pairs found between 2.0 and 2.0 with significant expression is 38683\n",
      "find significant expression ligand-recepotor pairs time-------------17\n",
      "find tf time-------------162\n",
      "tf------(1416852, 6)\n",
      "path_score---(38454, 13)\n",
      "2.0 and 2.0 done. Data saved to lr/after/datas/temp/cci_result_2.0_2.0.pkl\n",
      "Total running time is 322 seconds\n",
      "finish 2\n",
      "3_2 3_1 right\n",
      "start spilting data\n",
      "View of AnnData object with n_obs × n_vars = 400 × 8582\n",
      "    obs: 'batch', 'leiden'\n",
      "    obsm: 'meta'\n",
      "finish 1\n",
      "start filtering LRIs with spatial data\n",
      "reading data\n",
      "<bound method NDFrame.head of                     cell          x         y  cell_type\n",
      "0          cell1-0-1-0-0   6.075328  1.663968        1.0\n",
      "1          cell2-0-1-0-0   2.718012  6.883799        1.0\n",
      "2          cell3-0-1-0-0   3.592235  3.290633        1.0\n",
      "3          cell4-0-1-0-0   6.263617  9.143634        1.0\n",
      "4          cell5-0-1-0-0   4.884694  1.014029        1.0\n",
      "..                   ...        ...       ...        ...\n",
      "395  cell196-1-1-0-0-0-1   9.207182  8.112386        2.0\n",
      "396  cell197-1-1-0-0-0-1  12.661412  7.987338        2.0\n",
      "397  cell198-1-1-0-0-0-1  12.339630  3.525833        2.0\n",
      "398  cell199-1-1-0-0-0-1  10.001922  4.757707        2.0\n",
      "399  cell200-1-1-0-0-0-1   7.440846  1.781953        2.0\n",
      "\n",
      "[400 rows x 4 columns]>\n",
      "DataFrame 中不存在名为 '_index' 的列。\n",
      "Index(['cell', 'x', 'y', 'cell_type'], dtype='object')\n",
      "st_gene_len----8582\n",
      "cell_name_list----400\n",
      "reading data done\n",
      "The unique celltype list is [1.0, 2.0]\n",
      "knn done\n",
      "all_pair_number ---- 400\n",
      "The cell pair number found between 1.0 and 1.0 is 1362\n",
      "per_exp-------(131675,)\n",
      "find ligand-recepotor pairs time-------------2\n",
      "receptor_gene---------1320\n",
      "lr_pair_sub---------(33688, 5)\n",
      "the number of valid pathway number between 1.0 and 1.0 is: 33688\n",
      "co_exp_ratio=-------(33688, 1)\n",
      "co_exp_value-------(33688, 1)\n",
      "co_exp_p-----(33688,)\n",
      "The ligand-recepotor pairs found between 1.0 and 1.0 with significant expression is 8513\n",
      "find significant expression ligand-recepotor pairs time-------------4\n",
      "find tf time-------------18\n",
      "tf------(155855, 6)\n",
      "path_score---(8512, 13)\n",
      "1.0 and 1.0 done. Data saved to lr/after/datas/temp/cci_result_1.0_1.0.pkl\n",
      "all_pair_number ---- 400\n",
      "The cell pair number found between 2.0 and 1.0 is 641\n",
      "per_exp-------(131675,)\n",
      "find ligand-recepotor pairs time-------------1\n",
      "receptor_gene---------1360\n",
      "lr_pair_sub---------(35197, 5)\n",
      "the number of valid pathway number between 2.0 and 1.0 is: 35197\n",
      "co_exp_ratio=-------(35197, 1)\n",
      "co_exp_value-------(35197, 1)\n",
      "co_exp_p-----(35197,)\n",
      "The ligand-recepotor pairs found between 2.0 and 1.0 with significant expression is 13510\n",
      "find significant expression ligand-recepotor pairs time-------------4\n",
      "find tf time-------------31\n",
      "tf------(234377, 6)\n",
      "path_score---(13510, 13)\n",
      "1.0 and 2.0 done. Data saved to lr/after/datas/temp/cci_result_2.0_1.0.pkl\n",
      "all_pair_number ---- 400\n",
      "The cell pair number found between 1.0 and 2.0 is 638\n",
      "per_exp-------(131675,)\n",
      "find ligand-recepotor pairs time-------------1\n",
      "receptor_gene---------2712\n",
      "lr_pair_sub---------(61036, 5)\n",
      "the number of valid pathway number between 1.0 and 2.0 is: 61036\n",
      "co_exp_ratio=-------(61036, 1)\n",
      "co_exp_value-------(61036, 1)\n",
      "co_exp_p-----(61036,)\n",
      "The ligand-recepotor pairs found between 1.0 and 2.0 with significant expression is 15744\n",
      "find significant expression ligand-recepotor pairs time-------------17\n",
      "find tf time-------------65\n",
      "tf------(593464, 6)\n",
      "path_score---(15687, 13)\n",
      "2.0 and 1.0 done. Data saved to lr/after/datas/temp/cci_result_1.0_2.0.pkl\n",
      "all_pair_number ---- 400\n",
      "The cell pair number found between 2.0 and 2.0 is 1359\n",
      "per_exp-------(131675,)\n",
      "find ligand-recepotor pairs time-------------3\n",
      "receptor_gene---------2665\n",
      "lr_pair_sub---------(60411, 5)\n",
      "the number of valid pathway number between 2.0 and 2.0 is: 60411\n",
      "co_exp_ratio=-------(60411, 1)\n",
      "co_exp_value-------(60411, 1)\n",
      "co_exp_p-----(60411,)\n",
      "The ligand-recepotor pairs found between 2.0 and 2.0 with significant expression is 36624\n",
      "find significant expression ligand-recepotor pairs time-------------16\n",
      "find tf time-------------149\n",
      "tf------(1301755, 6)\n",
      "path_score---(36395, 13)\n",
      "2.0 and 2.0 done. Data saved to lr/after/datas/temp/cci_result_2.0_2.0.pkl\n",
      "Total running time is 317 seconds\n",
      "finish 2\n",
      "4_3 3_1 right\n",
      "start spilting data\n",
      "View of AnnData object with n_obs × n_vars = 600 × 8801\n",
      "    obs: 'batch', 'leiden'\n",
      "    obsm: 'meta'\n",
      "finish 1\n",
      "start filtering LRIs with spatial data\n",
      "reading data\n",
      "<bound method NDFrame.head of                   cell          x         y  cell_type\n",
      "0    cell1-0-1-0-0-0-0   6.075328  1.663968        1.0\n",
      "1    cell2-0-1-0-0-0-0   2.718012  6.883799        1.0\n",
      "2    cell3-0-1-0-0-0-0   3.592235  3.290633        1.0\n",
      "3    cell4-0-1-0-0-0-0   6.263617  9.143634        1.0\n",
      "4    cell5-0-1-0-0-0-0   4.884694  1.014029        1.0\n",
      "..                 ...        ...       ...        ...\n",
      "595  cell196-1-1-0-0-1   9.207182  8.112386        2.0\n",
      "596  cell197-1-1-0-0-1  12.661412  7.987338        2.0\n",
      "597  cell198-1-1-0-0-1  12.339630  3.525833        2.0\n",
      "598  cell199-1-1-0-0-1  10.001922  4.757707        2.0\n",
      "599  cell200-1-1-0-0-1   7.440846  1.781953        2.0\n",
      "\n",
      "[600 rows x 4 columns]>\n",
      "DataFrame 中不存在名为 '_index' 的列。\n",
      "Index(['cell', 'x', 'y', 'cell_type'], dtype='object')\n",
      "st_gene_len----8801\n",
      "cell_name_list----600\n",
      "reading data done\n",
      "The unique celltype list is [1.0, 2.0]\n",
      "knn done\n",
      "all_pair_number ---- 600\n",
      "The cell pair number found between 1.0 and 1.0 is 3258\n",
      "per_exp-------(138293,)\n",
      "find ligand-recepotor pairs time-------------6\n",
      "receptor_gene---------1425\n",
      "lr_pair_sub---------(36576, 5)\n",
      "the number of valid pathway number between 1.0 and 1.0 is: 36576\n",
      "co_exp_ratio=-------(36576, 1)\n",
      "co_exp_value-------(36576, 1)\n",
      "co_exp_p-----(36576,)\n",
      "The ligand-recepotor pairs found between 1.0 and 1.0 with significant expression is 16213\n",
      "find significant expression ligand-recepotor pairs time-------------6\n",
      "find tf time-------------40\n",
      "tf------(174279, 6)\n",
      "path_score---(16213, 13)\n",
      "1.0 and 1.0 done. Data saved to lr/after/datas/temp/cci_result_1.0_1.0.pkl\n",
      "all_pair_number ---- 600\n",
      "The cell pair number found between 2.0 and 1.0 is 838\n",
      "per_exp-------(138293,)\n",
      "find ligand-recepotor pairs time-------------1\n",
      "receptor_gene---------1455\n",
      "lr_pair_sub---------(36648, 5)\n",
      "the number of valid pathway number between 2.0 and 1.0 is: 36648\n",
      "co_exp_ratio=-------(36648, 1)\n",
      "co_exp_value-------(36648, 1)\n",
      "co_exp_p-----(36648,)\n",
      "The ligand-recepotor pairs found between 2.0 and 1.0 with significant expression is 16657\n",
      "find significant expression ligand-recepotor pairs time-------------5\n",
      "find tf time-------------41\n",
      "tf------(185690, 6)\n",
      "path_score---(16653, 13)\n",
      "1.0 and 2.0 done. Data saved to lr/after/datas/temp/cci_result_2.0_1.0.pkl\n",
      "all_pair_number ---- 600\n",
      "The cell pair number found between 1.0 and 2.0 is 742\n",
      "per_exp-------(138293,)\n",
      "find ligand-recepotor pairs time-------------1\n",
      "receptor_gene---------2783\n",
      "lr_pair_sub---------(73809, 5)\n",
      "the number of valid pathway number between 1.0 and 2.0 is: 73809\n",
      "co_exp_ratio=-------(73809, 1)\n",
      "co_exp_value-------(73809, 1)\n",
      "co_exp_p-----(73809,)\n",
      "The ligand-recepotor pairs found between 1.0 and 2.0 with significant expression is 34352\n",
      "find significant expression ligand-recepotor pairs time-------------17\n",
      "find tf time-------------146\n",
      "tf------(1506627, 6)\n",
      "path_score---(34339, 13)\n",
      "2.0 and 1.0 done. Data saved to lr/after/datas/temp/cci_result_1.0_2.0.pkl\n",
      "all_pair_number ---- 600\n",
      "The cell pair number found between 2.0 and 2.0 is 1162\n",
      "per_exp-------(138293,)\n",
      "find ligand-recepotor pairs time-------------2\n",
      "receptor_gene---------2801\n",
      "lr_pair_sub---------(71102, 5)\n",
      "the number of valid pathway number between 2.0 and 2.0 is: 71102\n",
      "co_exp_ratio=-------(71102, 1)\n",
      "co_exp_value-------(71102, 1)\n",
      "co_exp_p-----(71102,)\n",
      "The ligand-recepotor pairs found between 2.0 and 2.0 with significant expression is 32750\n",
      "find significant expression ligand-recepotor pairs time-------------17\n",
      "find tf time-------------140\n",
      "tf------(1405453, 6)\n",
      "path_score---(32731, 13)\n",
      "2.0 and 2.0 done. Data saved to lr/after/datas/temp/cci_result_2.0_2.0.pkl\n",
      "Total running time is 430 seconds\n",
      "finish 2\n",
      "0_4 1_2 right\n",
      "start spilting data\n",
      "View of AnnData object with n_obs × n_vars = 400 × 8598\n",
      "    obs: 'batch', 'leiden'\n",
      "    obsm: 'meta'\n",
      "finish 1\n",
      "start filtering LRIs with spatial data\n",
      "reading data\n",
      "<bound method NDFrame.head of                   cell          x         y  cell_type\n",
      "0    cell1-0-1-0-0-0-0   6.075328  1.663968        1.0\n",
      "1    cell2-0-1-0-0-0-0   2.718012  6.883799        1.0\n",
      "2    cell3-0-1-0-0-0-0   3.592235  3.290633        1.0\n",
      "3    cell4-0-1-0-0-0-0   6.263617  9.143634        1.0\n",
      "4    cell5-0-1-0-0-0-0   4.884694  1.014029        1.0\n",
      "..                 ...        ...       ...        ...\n",
      "395  cell196-1-1-0-0-1   9.207182  8.112386        2.0\n",
      "396  cell197-1-1-0-0-1  12.661412  7.987338        2.0\n",
      "397  cell198-1-1-0-0-1  12.339630  3.525833        2.0\n",
      "398  cell199-1-1-0-0-1  10.001922  4.757707        2.0\n",
      "399  cell200-1-1-0-0-1   7.440846  1.781953        2.0\n",
      "\n",
      "[400 rows x 4 columns]>\n",
      "DataFrame 中不存在名为 '_index' 的列。\n",
      "Index(['cell', 'x', 'y', 'cell_type'], dtype='object')\n",
      "st_gene_len----8598\n",
      "cell_name_list----400\n",
      "reading data done\n",
      "The unique celltype list is [1.0, 2.0]\n",
      "knn done\n",
      "all_pair_number ---- 400\n",
      "The cell pair number found between 1.0 and 1.0 is 1362\n",
      "per_exp-------(133079,)\n",
      "find ligand-recepotor pairs time-------------2\n",
      "receptor_gene---------1112\n",
      "lr_pair_sub---------(27899, 5)\n",
      "the number of valid pathway number between 1.0 and 1.0 is: 27899\n",
      "co_exp_ratio=-------(27899, 1)\n",
      "co_exp_value-------(27899, 1)\n",
      "co_exp_p-----(27899,)\n",
      "The ligand-recepotor pairs found between 1.0 and 1.0 with significant expression is 7813\n",
      "find significant expression ligand-recepotor pairs time-------------4\n",
      "find tf time-------------16\n",
      "tf------(169041, 6)\n",
      "path_score---(7806, 13)\n",
      "1.0 and 1.0 done. Data saved to lr/after/datas/temp/cci_result_1.0_1.0.pkl\n",
      "all_pair_number ---- 400\n",
      "The cell pair number found between 2.0 and 1.0 is 641\n",
      "per_exp-------(133079,)\n",
      "find ligand-recepotor pairs time-------------1\n",
      "receptor_gene---------1162\n",
      "lr_pair_sub---------(31436, 5)\n",
      "the number of valid pathway number between 2.0 and 1.0 is: 31436\n",
      "co_exp_ratio=-------(31436, 1)\n",
      "co_exp_value-------(31436, 1)\n",
      "co_exp_p-----(31436,)\n",
      "The ligand-recepotor pairs found between 2.0 and 1.0 with significant expression is 9628\n",
      "find significant expression ligand-recepotor pairs time-------------4\n",
      "find tf time-------------21\n",
      "tf------(187731, 6)\n",
      "path_score---(9620, 13)\n",
      "1.0 and 2.0 done. Data saved to lr/after/datas/temp/cci_result_2.0_1.0.pkl\n",
      "all_pair_number ---- 400\n",
      "The cell pair number found between 1.0 and 2.0 is 638\n",
      "per_exp-------(133079,)\n",
      "find ligand-recepotor pairs time-------------1\n",
      "receptor_gene---------2729\n",
      "lr_pair_sub---------(71875, 5)\n",
      "the number of valid pathway number between 1.0 and 2.0 is: 71875\n",
      "co_exp_ratio=-------(71875, 1)\n",
      "co_exp_value-------(71875, 1)\n",
      "co_exp_p-----(71875,)\n",
      "The ligand-recepotor pairs found between 1.0 and 2.0 with significant expression is 24269\n",
      "find significant expression ligand-recepotor pairs time-------------16\n",
      "find tf time-------------100\n",
      "tf------(1027720, 6)\n",
      "path_score---(24257, 13)\n",
      "2.0 and 1.0 done. Data saved to lr/after/datas/temp/cci_result_1.0_2.0.pkl\n",
      "all_pair_number ---- 400\n",
      "The cell pair number found between 2.0 and 2.0 is 1359\n",
      "per_exp-------(133079,)\n",
      "find ligand-recepotor pairs time-------------2\n",
      "receptor_gene---------2727\n",
      "lr_pair_sub---------(70385, 5)\n",
      "the number of valid pathway number between 2.0 and 2.0 is: 70385\n",
      "co_exp_ratio=-------(70385, 1)\n",
      "co_exp_value-------(70385, 1)\n",
      "co_exp_p-----(70385,)\n",
      "The ligand-recepotor pairs found between 2.0 and 2.0 with significant expression is 37279\n",
      "find significant expression ligand-recepotor pairs time-------------17\n",
      "find tf time-------------154\n",
      "tf------(1545344, 6)\n",
      "path_score---(37261, 13)\n",
      "2.0 and 2.0 done. Data saved to lr/after/datas/temp/cci_result_2.0_2.0.pkl\n",
      "Total running time is 345 seconds\n",
      "finish 2\n",
      "1_1 1_2 right\n",
      "start spilting data\n",
      "View of AnnData object with n_obs × n_vars = 600 × 8574\n",
      "    obs: 'batch', 'leiden'\n",
      "    obsm: 'meta'\n",
      "finish 1\n",
      "start filtering LRIs with spatial data\n",
      "reading data\n",
      "<bound method NDFrame.head of                   cell          x         y  cell_type\n",
      "0      cell1-0-1-0-0-0   6.075328  1.663968        1.0\n",
      "1      cell2-0-1-0-0-0   2.718012  6.883799        1.0\n",
      "2      cell3-0-1-0-0-0   3.592235  3.290633        1.0\n",
      "3      cell4-0-1-0-0-0   6.263617  9.143634        1.0\n",
      "4      cell5-0-1-0-0-0   4.884694  1.014029        1.0\n",
      "..                 ...        ...       ...        ...\n",
      "595  cell196-1-1-0-0-1   9.207182  8.112386        2.0\n",
      "596  cell197-1-1-0-0-1  12.661412  7.987338        2.0\n",
      "597  cell198-1-1-0-0-1  12.339630  3.525833        2.0\n",
      "598  cell199-1-1-0-0-1  10.001922  4.757707        2.0\n",
      "599  cell200-1-1-0-0-1   7.440846  1.781953        2.0\n",
      "\n",
      "[600 rows x 4 columns]>\n",
      "DataFrame 中不存在名为 '_index' 的列。\n",
      "Index(['cell', 'x', 'y', 'cell_type'], dtype='object')\n",
      "st_gene_len----8574\n",
      "cell_name_list----600\n",
      "reading data done\n",
      "The unique celltype list is [1.0, 2.0]\n",
      "knn done\n",
      "all_pair_number ---- 600\n",
      "The cell pair number found between 1.0 and 1.0 is 3258\n",
      "per_exp-------(131606,)\n",
      "find ligand-recepotor pairs time-------------6\n",
      "receptor_gene---------1472\n",
      "lr_pair_sub---------(36495, 5)\n",
      "the number of valid pathway number between 1.0 and 1.0 is: 36495\n",
      "co_exp_ratio=-------(36495, 1)\n",
      "co_exp_value-------(36495, 1)\n",
      "co_exp_p-----(36495,)\n",
      "The ligand-recepotor pairs found between 1.0 and 1.0 with significant expression is 8506\n",
      "find significant expression ligand-recepotor pairs time-------------6\n",
      "find tf time-------------20\n",
      "tf------(131052, 6)\n",
      "path_score---(8506, 13)\n",
      "1.0 and 1.0 done. Data saved to lr/after/datas/temp/cci_result_1.0_1.0.pkl\n",
      "all_pair_number ---- 600\n",
      "The cell pair number found between 2.0 and 1.0 is 838\n",
      "per_exp-------(131606,)\n",
      "find ligand-recepotor pairs time-------------1\n",
      "receptor_gene---------1492\n",
      "lr_pair_sub---------(38402, 5)\n",
      "the number of valid pathway number between 2.0 and 1.0 is: 38402\n",
      "co_exp_ratio=-------(38402, 1)\n",
      "co_exp_value-------(38402, 1)\n",
      "co_exp_p-----(38402,)\n",
      "The ligand-recepotor pairs found between 2.0 and 1.0 with significant expression is 16213\n",
      "find significant expression ligand-recepotor pairs time-------------5\n",
      "find tf time-------------40\n",
      "tf------(279997, 6)\n",
      "path_score---(16213, 13)\n",
      "1.0 and 2.0 done. Data saved to lr/after/datas/temp/cci_result_2.0_1.0.pkl\n",
      "all_pair_number ---- 600\n",
      "The cell pair number found between 1.0 and 2.0 is 742\n",
      "per_exp-------(131606,)\n",
      "find ligand-recepotor pairs time-------------1\n",
      "receptor_gene---------2742\n",
      "lr_pair_sub---------(72461, 5)\n",
      "the number of valid pathway number between 1.0 and 2.0 is: 72461\n",
      "co_exp_ratio=-------(72461, 1)\n",
      "co_exp_value-------(72461, 1)\n",
      "co_exp_p-----(72461,)\n",
      "The ligand-recepotor pairs found between 1.0 and 2.0 with significant expression is 32919\n",
      "find significant expression ligand-recepotor pairs time-------------17\n",
      "find tf time-------------137\n",
      "tf------(1421695, 6)\n",
      "path_score---(32917, 13)\n",
      "2.0 and 1.0 done. Data saved to lr/after/datas/temp/cci_result_1.0_2.0.pkl\n",
      "all_pair_number ---- 600\n",
      "The cell pair number found between 2.0 and 2.0 is 1162\n",
      "per_exp-------(131606,)\n",
      "find ligand-recepotor pairs time-------------2\n",
      "receptor_gene---------2792\n",
      "lr_pair_sub---------(69784, 5)\n",
      "the number of valid pathway number between 2.0 and 2.0 is: 69784\n",
      "co_exp_ratio=-------(69784, 1)\n",
      "co_exp_value-------(69784, 1)\n",
      "co_exp_p-----(69784,)\n",
      "The ligand-recepotor pairs found between 2.0 and 2.0 with significant expression is 36203\n",
      "find significant expression ligand-recepotor pairs time-------------16\n",
      "find tf time-------------151\n",
      "tf------(1520030, 6)\n",
      "path_score---(36202, 13)\n",
      "2.0 and 2.0 done. Data saved to lr/after/datas/temp/cci_result_2.0_2.0.pkl\n",
      "Total running time is 409 seconds\n",
      "finish 2\n",
      "6 1_2 right\n",
      "start spilting data\n",
      "View of AnnData object with n_obs × n_vars = 400 × 8256\n",
      "    obs: 'batch', 'leiden'\n",
      "    obsm: 'meta'\n",
      "finish 1\n",
      "start filtering LRIs with spatial data\n",
      "reading data\n",
      "<bound method NDFrame.head of                   cell          x         y  cell_type\n",
      "0      cell1-0-1-0-0-0   6.075328  1.663968        1.0\n",
      "1      cell2-0-1-0-0-0   2.718012  6.883799        1.0\n",
      "2      cell3-0-1-0-0-0   3.592235  3.290633        1.0\n",
      "3      cell4-0-1-0-0-0   6.263617  9.143634        1.0\n",
      "4      cell5-0-1-0-0-0   4.884694  1.014029        1.0\n",
      "..                 ...        ...       ...        ...\n",
      "395  cell196-1-1-0-0-1   9.207182  8.112386        2.0\n",
      "396  cell197-1-1-0-0-1  12.661412  7.987338        2.0\n",
      "397  cell198-1-1-0-0-1  12.339630  3.525833        2.0\n",
      "398  cell199-1-1-0-0-1  10.001922  4.757707        2.0\n",
      "399  cell200-1-1-0-0-1   7.440846  1.781953        2.0\n",
      "\n",
      "[400 rows x 4 columns]>\n",
      "DataFrame 中不存在名为 '_index' 的列。\n",
      "Index(['cell', 'x', 'y', 'cell_type'], dtype='object')\n",
      "st_gene_len----8256\n",
      "cell_name_list----400\n",
      "reading data done\n",
      "The unique celltype list is [1.0, 2.0]\n",
      "knn done\n",
      "all_pair_number ---- 400\n",
      "The cell pair number found between 1.0 and 1.0 is 1362\n",
      "per_exp-------(124352,)\n",
      "find ligand-recepotor pairs time-------------1\n",
      "receptor_gene---------1\n",
      "lr_pair_sub---------(0, 5)\n",
      "No ligand-recepotor pairs found between 1.0 and 1.0 because of no downstream transcriptional factors found for receptors!\n",
      "all_pair_number ---- 400\n",
      "The cell pair number found between 2.0 and 1.0 is 641\n",
      "per_exp-------(124352,)\n",
      "find ligand-recepotor pairs time-------------0\n",
      "receptor_gene---------1\n",
      "lr_pair_sub---------(0, 5)\n",
      "No ligand-recepotor pairs found between 2.0 and 1.0 because of no downstream transcriptional factors found for receptors!\n",
      "all_pair_number ---- 400\n",
      "The cell pair number found between 1.0 and 2.0 is 638\n",
      "per_exp-------(124352,)\n",
      "find ligand-recepotor pairs time-------------0\n",
      "receptor_gene---------912\n",
      "lr_pair_sub---------(21598, 5)\n",
      "the number of valid pathway number between 1.0 and 2.0 is: 21598\n",
      "co_exp_ratio=-------(21598, 1)\n",
      "co_exp_value-------(21598, 1)\n",
      "co_exp_p-----(21598,)\n",
      "The ligand-recepotor pairs found between 1.0 and 2.0 with significant expression is 1327\n",
      "find significant expression ligand-recepotor pairs time-------------2\n",
      "find tf time-------------2\n",
      "tf------(7511, 6)\n",
      "path_score---(1316, 13)\n",
      "2.0 and 1.0 done. Data saved to lr/after/datas/temp/cci_result_1.0_2.0.pkl\n",
      "all_pair_number ---- 400\n",
      "The cell pair number found between 2.0 and 2.0 is 1359\n",
      "per_exp-------(124352,)\n",
      "find ligand-recepotor pairs time-------------1\n",
      "receptor_gene---------834\n",
      "lr_pair_sub---------(16565, 5)\n",
      "the number of valid pathway number between 2.0 and 2.0 is: 16565\n",
      "co_exp_ratio=-------(16565, 1)\n",
      "co_exp_value-------(16565, 1)\n",
      "co_exp_p-----(16565,)\n",
      "The ligand-recepotor pairs found between 2.0 and 2.0 with significant expression is 12599\n",
      "find significant expression ligand-recepotor pairs time-------------2\n",
      "find tf time-------------24\n",
      "tf------(76975, 6)\n",
      "path_score---(12225, 13)\n",
      "2.0 and 2.0 done. Data saved to lr/after/datas/temp/cci_result_2.0_2.0.pkl\n",
      "Total running time is 38 seconds\n",
      "finish 2\n",
      "3_2 1_2 right\n",
      "start spilting data\n",
      "View of AnnData object with n_obs × n_vars = 400 × 8574\n",
      "    obs: 'batch', 'leiden'\n",
      "    obsm: 'meta'\n",
      "finish 1\n",
      "start filtering LRIs with spatial data\n",
      "reading data\n",
      "<bound method NDFrame.head of                   cell          x         y  cell_type\n",
      "0        cell1-0-1-0-0   6.075328  1.663968        1.0\n",
      "1        cell2-0-1-0-0   2.718012  6.883799        1.0\n",
      "2        cell3-0-1-0-0   3.592235  3.290633        1.0\n",
      "3        cell4-0-1-0-0   6.263617  9.143634        1.0\n",
      "4        cell5-0-1-0-0   4.884694  1.014029        1.0\n",
      "..                 ...        ...       ...        ...\n",
      "395  cell196-1-1-0-0-1   9.207182  8.112386        2.0\n",
      "396  cell197-1-1-0-0-1  12.661412  7.987338        2.0\n",
      "397  cell198-1-1-0-0-1  12.339630  3.525833        2.0\n",
      "398  cell199-1-1-0-0-1  10.001922  4.757707        2.0\n",
      "399  cell200-1-1-0-0-1   7.440846  1.781953        2.0\n",
      "\n",
      "[400 rows x 4 columns]>\n",
      "DataFrame 中不存在名为 '_index' 的列。\n",
      "Index(['cell', 'x', 'y', 'cell_type'], dtype='object')\n",
      "st_gene_len----8574\n",
      "cell_name_list----400\n",
      "reading data done\n",
      "The unique celltype list is [1.0, 2.0]\n",
      "knn done\n",
      "all_pair_number ---- 400\n",
      "The cell pair number found between 1.0 and 1.0 is 1362\n",
      "per_exp-------(131606,)\n",
      "find ligand-recepotor pairs time-------------2\n",
      "receptor_gene---------1313\n",
      "lr_pair_sub---------(33707, 5)\n",
      "the number of valid pathway number between 1.0 and 1.0 is: 33707\n",
      "co_exp_ratio=-------(33707, 1)\n",
      "co_exp_value-------(33707, 1)\n",
      "co_exp_p-----(33707,)\n",
      "The ligand-recepotor pairs found between 1.0 and 1.0 with significant expression is 10019\n",
      "find significant expression ligand-recepotor pairs time-------------3\n",
      "find tf time-------------20\n",
      "tf------(163753, 6)\n",
      "path_score---(10018, 13)\n",
      "1.0 and 1.0 done. Data saved to lr/after/datas/temp/cci_result_1.0_1.0.pkl\n",
      "all_pair_number ---- 400\n",
      "The cell pair number found between 2.0 and 1.0 is 641\n",
      "per_exp-------(131606,)\n",
      "find ligand-recepotor pairs time-------------1\n",
      "receptor_gene---------1355\n",
      "lr_pair_sub---------(35221, 5)\n",
      "the number of valid pathway number between 2.0 and 1.0 is: 35221\n",
      "co_exp_ratio=-------(35221, 1)\n",
      "co_exp_value-------(35221, 1)\n",
      "co_exp_p-----(35221,)\n",
      "The ligand-recepotor pairs found between 2.0 and 1.0 with significant expression is 11123\n",
      "find significant expression ligand-recepotor pairs time-------------3\n",
      "find tf time-------------23\n",
      "tf------(172295, 6)\n",
      "path_score---(11123, 13)\n",
      "1.0 and 2.0 done. Data saved to lr/after/datas/temp/cci_result_2.0_1.0.pkl\n",
      "all_pair_number ---- 400\n",
      "The cell pair number found between 1.0 and 2.0 is 638\n",
      "per_exp-------(131606,)\n",
      "find ligand-recepotor pairs time-------------1\n",
      "receptor_gene---------2722\n",
      "lr_pair_sub---------(71272, 5)\n",
      "the number of valid pathway number between 1.0 and 2.0 is: 71272\n",
      "co_exp_ratio=-------(71272, 1)\n",
      "co_exp_value-------(71272, 1)\n",
      "co_exp_p-----(71272,)\n",
      "The ligand-recepotor pairs found between 1.0 and 2.0 with significant expression is 24536\n",
      "find significant expression ligand-recepotor pairs time-------------16\n",
      "find tf time-------------102\n",
      "tf------(1052709, 6)\n",
      "path_score---(24535, 13)\n",
      "2.0 and 1.0 done. Data saved to lr/after/datas/temp/cci_result_1.0_2.0.pkl\n",
      "all_pair_number ---- 400\n",
      "The cell pair number found between 2.0 and 2.0 is 1359\n",
      "per_exp-------(131606,)\n",
      "find ligand-recepotor pairs time-------------2\n",
      "receptor_gene---------2718\n",
      "lr_pair_sub---------(70587, 5)\n",
      "the number of valid pathway number between 2.0 and 2.0 is: 70587\n",
      "co_exp_ratio=-------(70587, 1)\n",
      "co_exp_value-------(70587, 1)\n",
      "co_exp_p-----(70587,)\n",
      "The ligand-recepotor pairs found between 2.0 and 2.0 with significant expression is 35510\n",
      "find significant expression ligand-recepotor pairs time-------------16\n",
      "find tf time-------------156\n",
      "tf------(1486235, 6)\n",
      "path_score---(35510, 13)\n",
      "2.0 and 2.0 done. Data saved to lr/after/datas/temp/cci_result_2.0_2.0.pkl\n",
      "Total running time is 353 seconds\n",
      "finish 2\n",
      "4_3 1_2 right\n",
      "start spilting data\n",
      "View of AnnData object with n_obs × n_vars = 600 × 8627\n",
      "    obs: 'batch', 'leiden'\n",
      "    obsm: 'meta'\n",
      "finish 1\n",
      "start filtering LRIs with spatial data\n",
      "reading data\n",
      "<bound method NDFrame.head of                     cell          x         y  cell_type\n",
      "0      cell1-0-1-0-0-0-0   6.075328  1.663968        1.0\n",
      "1      cell2-0-1-0-0-0-0   2.718012  6.883799        1.0\n",
      "2      cell3-0-1-0-0-0-0   3.592235  3.290633        1.0\n",
      "3      cell4-0-1-0-0-0-0   6.263617  9.143634        1.0\n",
      "4      cell5-0-1-0-0-0-0   4.884694  1.014029        1.0\n",
      "..                   ...        ...       ...        ...\n",
      "595  cell196-1-1-0-0-0-1   9.207182  8.112386        2.0\n",
      "596  cell197-1-1-0-0-0-1  12.661412  7.987338        2.0\n",
      "597  cell198-1-1-0-0-0-1  12.339630  3.525833        2.0\n",
      "598  cell199-1-1-0-0-0-1  10.001922  4.757707        2.0\n",
      "599  cell200-1-1-0-0-0-1   7.440846  1.781953        2.0\n",
      "\n",
      "[600 rows x 4 columns]>\n",
      "DataFrame 中不存在名为 '_index' 的列。\n",
      "Index(['cell', 'x', 'y', 'cell_type'], dtype='object')\n",
      "st_gene_len----8627\n",
      "cell_name_list----600\n",
      "reading data done\n",
      "The unique celltype list is [1.0, 2.0]\n",
      "knn done\n",
      "all_pair_number ---- 600\n",
      "The cell pair number found between 1.0 and 1.0 is 3258\n",
      "per_exp-------(132402,)\n",
      "find ligand-recepotor pairs time-------------5\n",
      "receptor_gene---------1419\n",
      "lr_pair_sub---------(35906, 5)\n",
      "the number of valid pathway number between 1.0 and 1.0 is: 35906\n",
      "co_exp_ratio=-------(35906, 1)\n",
      "co_exp_value-------(35906, 1)\n",
      "co_exp_p-----(35906,)\n",
      "The ligand-recepotor pairs found between 1.0 and 1.0 with significant expression is 8057\n",
      "find significant expression ligand-recepotor pairs time-------------6\n",
      "find tf time-------------19\n",
      "tf------(88992, 6)\n",
      "path_score---(8057, 13)\n",
      "1.0 and 1.0 done. Data saved to lr/after/datas/temp/cci_result_1.0_1.0.pkl\n",
      "all_pair_number ---- 600\n",
      "The cell pair number found between 2.0 and 1.0 is 838\n",
      "per_exp-------(132402,)\n",
      "find ligand-recepotor pairs time-------------1\n",
      "receptor_gene---------1448\n",
      "lr_pair_sub---------(35597, 5)\n",
      "the number of valid pathway number between 2.0 and 1.0 is: 35597\n",
      "co_exp_ratio=-------(35597, 1)\n",
      "co_exp_value-------(35597, 1)\n",
      "co_exp_p-----(35597,)\n",
      "The ligand-recepotor pairs found between 2.0 and 1.0 with significant expression is 19949\n",
      "find significant expression ligand-recepotor pairs time-------------5\n",
      "find tf time-------------49\n",
      "tf------(231444, 6)\n",
      "path_score---(19945, 13)\n",
      "1.0 and 2.0 done. Data saved to lr/after/datas/temp/cci_result_2.0_1.0.pkl\n",
      "all_pair_number ---- 600\n",
      "The cell pair number found between 1.0 and 2.0 is 742\n",
      "per_exp-------(132402,)\n",
      "find ligand-recepotor pairs time-------------1\n",
      "receptor_gene---------2714\n",
      "lr_pair_sub---------(62328, 5)\n",
      "the number of valid pathway number between 1.0 and 2.0 is: 62328\n",
      "co_exp_ratio=-------(62328, 1)\n",
      "co_exp_value-------(62328, 1)\n",
      "co_exp_p-----(62328,)\n",
      "The ligand-recepotor pairs found between 1.0 and 2.0 with significant expression is 22499\n",
      "find significant expression ligand-recepotor pairs time-------------16\n",
      "find tf time-------------94\n",
      "tf------(820519, 6)\n",
      "path_score---(22499, 13)\n",
      "2.0 and 1.0 done. Data saved to lr/after/datas/temp/cci_result_1.0_2.0.pkl\n",
      "all_pair_number ---- 600\n",
      "The cell pair number found between 2.0 and 2.0 is 1162\n",
      "per_exp-------(132402,)\n",
      "find ligand-recepotor pairs time-------------2\n",
      "receptor_gene---------2715\n",
      "lr_pair_sub---------(60930, 5)\n",
      "the number of valid pathway number between 2.0 and 2.0 is: 60930\n",
      "co_exp_ratio=-------(60930, 1)\n",
      "co_exp_value-------(60930, 1)\n",
      "co_exp_p-----(60930,)\n",
      "The ligand-recepotor pairs found between 2.0 and 2.0 with significant expression is 39964\n",
      "find significant expression ligand-recepotor pairs time-------------15\n",
      "find tf time-------------161\n",
      "tf------(1463518, 6)\n",
      "path_score---(39964, 13)\n",
      "2.0 and 2.0 done. Data saved to lr/after/datas/temp/cci_result_2.0_2.0.pkl\n",
      "Total running time is 382 seconds\n",
      "finish 2\n",
      "0_4 3_1 right\n",
      "start spilting data\n",
      "View of AnnData object with n_obs × n_vars = 400 × 8419\n",
      "    obs: 'batch', 'leiden'\n",
      "    obsm: 'meta'\n",
      "finish 1\n",
      "start filtering LRIs with spatial data\n",
      "reading data\n",
      "<bound method NDFrame.head of                     cell          x         y  cell_type\n",
      "0      cell1-0-1-0-0-0-0   6.075328  1.663968        1.0\n",
      "1      cell2-0-1-0-0-0-0   2.718012  6.883799        1.0\n",
      "2      cell3-0-1-0-0-0-0   3.592235  3.290633        1.0\n",
      "3      cell4-0-1-0-0-0-0   6.263617  9.143634        1.0\n",
      "4      cell5-0-1-0-0-0-0   4.884694  1.014029        1.0\n",
      "..                   ...        ...       ...        ...\n",
      "395  cell196-1-1-0-0-0-1   9.207182  8.112386        2.0\n",
      "396  cell197-1-1-0-0-0-1  12.661412  7.987338        2.0\n",
      "397  cell198-1-1-0-0-0-1  12.339630  3.525833        2.0\n",
      "398  cell199-1-1-0-0-0-1  10.001922  4.757707        2.0\n",
      "399  cell200-1-1-0-0-0-1   7.440846  1.781953        2.0\n",
      "\n",
      "[400 rows x 4 columns]>\n",
      "DataFrame 中不存在名为 '_index' 的列。\n",
      "Index(['cell', 'x', 'y', 'cell_type'], dtype='object')\n",
      "st_gene_len----8419\n",
      "cell_name_list----400\n",
      "reading data done\n",
      "The unique celltype list is [1.0, 2.0]\n",
      "knn done\n",
      "all_pair_number ---- 400\n",
      "The cell pair number found between 1.0 and 1.0 is 1362\n",
      "per_exp-------(127228,)\n",
      "find ligand-recepotor pairs time-------------1\n",
      "receptor_gene---------1\n",
      "lr_pair_sub---------(0, 5)\n",
      "No ligand-recepotor pairs found between 1.0 and 1.0 because of no downstream transcriptional factors found for receptors!\n",
      "all_pair_number ---- 400\n",
      "The cell pair number found between 2.0 and 1.0 is 641\n",
      "per_exp-------(127228,)\n",
      "find ligand-recepotor pairs time-------------0\n",
      "receptor_gene---------1\n",
      "lr_pair_sub---------(0, 5)\n",
      "No ligand-recepotor pairs found between 2.0 and 1.0 because of no downstream transcriptional factors found for receptors!\n",
      "all_pair_number ---- 400\n",
      "The cell pair number found between 1.0 and 2.0 is 638\n",
      "per_exp-------(127228,)\n",
      "find ligand-recepotor pairs time-------------0\n",
      "receptor_gene---------946\n",
      "lr_pair_sub---------(25398, 5)\n",
      "the number of valid pathway number between 1.0 and 2.0 is: 25398\n",
      "co_exp_ratio=-------(25398, 1)\n",
      "co_exp_value-------(25398, 1)\n",
      "co_exp_p-----(25398,)\n",
      "The ligand-recepotor pairs found between 1.0 and 2.0 with significant expression is 2128\n",
      "find significant expression ligand-recepotor pairs time-------------2\n",
      "find tf time-------------4\n",
      "tf------(13156, 6)\n",
      "path_score---(2105, 13)\n",
      "2.0 and 1.0 done. Data saved to lr/after/datas/temp/cci_result_1.0_2.0.pkl\n",
      "all_pair_number ---- 400\n",
      "The cell pair number found between 2.0 and 2.0 is 1359\n",
      "per_exp-------(127228,)\n",
      "find ligand-recepotor pairs time-------------1\n",
      "receptor_gene---------851\n",
      "lr_pair_sub---------(19984, 5)\n",
      "the number of valid pathway number between 2.0 and 2.0 is: 19984\n",
      "co_exp_ratio=-------(19984, 1)\n",
      "co_exp_value-------(19984, 1)\n",
      "co_exp_p-----(19984,)\n",
      "The ligand-recepotor pairs found between 2.0 and 2.0 with significant expression is 14887\n",
      "find significant expression ligand-recepotor pairs time-------------2\n",
      "find tf time-------------28\n",
      "tf------(91869, 6)\n",
      "path_score---(14425, 13)\n",
      "2.0 and 2.0 done. Data saved to lr/after/datas/temp/cci_result_2.0_2.0.pkl\n",
      "Total running time is 44 seconds\n",
      "finish 2\n",
      "1_1 3_1 right\n",
      "start spilting data\n",
      "View of AnnData object with n_obs × n_vars = 1400 × 8961\n",
      "    obs: 'batch', 'leiden'\n",
      "    obsm: 'meta'\n",
      "finish 1\n",
      "start filtering LRIs with spatial data\n",
      "reading data\n",
      "<bound method NDFrame.head of                    cell          x         y  cell_type\n",
      "0     cell1-0-1-0-0-0-0   6.075328  1.663968        1.0\n",
      "1     cell2-0-1-0-0-0-0   2.718012  6.883799        1.0\n",
      "2     cell3-0-1-0-0-0-0   3.592235  3.290633        1.0\n",
      "3     cell4-0-1-0-0-0-0   6.263617  9.143634        1.0\n",
      "4     cell5-0-1-0-0-0-0   4.884694  1.014029        1.0\n",
      "...                 ...        ...       ...        ...\n",
      "1395      cell196-1-1-1   9.207182  8.112386        2.0\n",
      "1396      cell197-1-1-1  12.661412  7.987338        2.0\n",
      "1397      cell198-1-1-1  12.339630  3.525833        2.0\n",
      "1398      cell199-1-1-1  10.001922  4.757707        2.0\n",
      "1399      cell200-1-1-1   7.440846  1.781953        2.0\n",
      "\n",
      "[1400 rows x 4 columns]>\n",
      "DataFrame 中不存在名为 '_index' 的列。\n",
      "Index(['cell', 'x', 'y', 'cell_type'], dtype='object')\n",
      "st_gene_len----8961\n",
      "cell_name_list----1400\n",
      "reading data done\n",
      "The unique celltype list is [1.0, 2.0]\n",
      "knn done\n",
      "all_pair_number ---- 1400\n",
      "The cell pair number found between 1.0 and 1.0 is 6444\n",
      "per_exp-------(142852,)\n",
      "find ligand-recepotor pairs time-------------21\n",
      "receptor_gene---------2339\n",
      "lr_pair_sub---------(61279, 5)\n",
      "the number of valid pathway number between 1.0 and 1.0 is: 61279\n",
      "co_exp_ratio=-------(61279, 1)\n",
      "co_exp_value-------(61279, 1)\n",
      "co_exp_p-----(61279,)\n",
      "The ligand-recepotor pairs found between 1.0 and 1.0 with significant expression is 12748\n",
      "find significant expression ligand-recepotor pairs time-------------23\n",
      "find tf time-------------53\n",
      "tf------(120220, 6)\n",
      "path_score---(12748, 13)\n",
      "1.0 and 1.0 done. Data saved to lr/after/datas/temp/cci_result_1.0_1.0.pkl\n",
      "all_pair_number ---- 1400\n",
      "The cell pair number found between 2.0 and 1.0 is 1668\n",
      "per_exp-------(142852,)\n",
      "find ligand-recepotor pairs time-------------2\n",
      "receptor_gene---------2350\n",
      "lr_pair_sub---------(60116, 5)\n",
      "the number of valid pathway number between 2.0 and 1.0 is: 60116\n",
      "co_exp_ratio=-------(60116, 1)\n",
      "co_exp_value-------(60116, 1)\n",
      "co_exp_p-----(60116,)\n",
      "The ligand-recepotor pairs found between 2.0 and 1.0 with significant expression is 22539\n",
      "find significant expression ligand-recepotor pairs time-------------18\n",
      "find tf time-------------94\n",
      "tf------(225639, 6)\n",
      "path_score---(22539, 13)\n",
      "1.0 and 2.0 done. Data saved to lr/after/datas/temp/cci_result_2.0_1.0.pkl\n",
      "all_pair_number ---- 1400\n",
      "The cell pair number found between 1.0 and 2.0 is 1556\n",
      "per_exp-------(142852,)\n",
      "find ligand-recepotor pairs time-------------5\n",
      "receptor_gene---------3732\n",
      "lr_pair_sub---------(90985, 5)\n",
      "the number of valid pathway number between 1.0 and 2.0 is: 90985\n",
      "co_exp_ratio=-------(90985, 1)\n",
      "co_exp_value-------(90985, 1)\n",
      "co_exp_p-----(90985,)\n",
      "The ligand-recepotor pairs found between 1.0 and 2.0 with significant expression is 37877\n",
      "find significant expression ligand-recepotor pairs time-------------30\n",
      "find tf time-------------198\n",
      "tf------(1795494, 6)\n",
      "path_score---(37877, 13)\n",
      "2.0 and 1.0 done. Data saved to lr/after/datas/temp/cci_result_1.0_2.0.pkl\n",
      "all_pair_number ---- 1400\n",
      "The cell pair number found between 2.0 and 2.0 is 4332\n",
      "per_exp-------(142852,)\n",
      "find ligand-recepotor pairs time-------------21\n",
      "receptor_gene---------3647\n",
      "lr_pair_sub---------(87451, 5)\n",
      "the number of valid pathway number between 2.0 and 2.0 is: 87451\n",
      "co_exp_ratio=-------(87451, 1)\n",
      "co_exp_value-------(87451, 1)\n",
      "co_exp_p-----(87451,)\n",
      "The ligand-recepotor pairs found between 2.0 and 2.0 with significant expression is 55970\n",
      "find significant expression ligand-recepotor pairs time-------------36\n",
      "find tf time-------------287\n",
      "tf------(2344693, 6)\n",
      "path_score---(55967, 13)\n",
      "2.0 and 2.0 done. Data saved to lr/after/datas/temp/cci_result_2.0_2.0.pkl\n",
      "Total running time is 798 seconds\n",
      "finish 2\n",
      "7 2_4 right\n",
      "start spilting data\n",
      "View of AnnData object with n_obs × n_vars = 1000 × 8961\n",
      "    obs: 'batch', 'leiden'\n",
      "    obsm: 'meta'\n",
      "finish 1\n",
      "start filtering LRIs with spatial data\n",
      "reading data\n",
      "<bound method NDFrame.head of                   cell          x         y  cell_type\n",
      "0    cell1-0-1-0-0-0-0   6.075328  1.663968        1.0\n",
      "1    cell2-0-1-0-0-0-0   2.718012  6.883799        1.0\n",
      "2    cell3-0-1-0-0-0-0   3.592235  3.290633        1.0\n",
      "3    cell4-0-1-0-0-0-0   6.263617  9.143634        1.0\n",
      "4    cell5-0-1-0-0-0-0   4.884694  1.014029        1.0\n",
      "..                 ...        ...       ...        ...\n",
      "995  cell196-1-1-0-0-1   9.207182  8.112386        2.0\n",
      "996  cell197-1-1-0-0-1  12.661412  7.987338        2.0\n",
      "997  cell198-1-1-0-0-1  12.339630  3.525833        2.0\n",
      "998  cell199-1-1-0-0-1  10.001922  4.757707        2.0\n",
      "999  cell200-1-1-0-0-1   7.440846  1.781953        2.0\n",
      "\n",
      "[1000 rows x 4 columns]>\n",
      "DataFrame 中不存在名为 '_index' 的列。\n",
      "Index(['cell', 'x', 'y', 'cell_type'], dtype='object')\n",
      "st_gene_len----8961\n",
      "cell_name_list----1000\n",
      "reading data done\n",
      "The unique celltype list is [1.0, 2.0]\n",
      "knn done\n",
      "all_pair_number ---- 1000\n",
      "The cell pair number found between 1.0 and 1.0 is 7176\n",
      "per_exp-------(142852,)\n",
      "find ligand-recepotor pairs time-------------23\n",
      "receptor_gene---------2437\n",
      "lr_pair_sub---------(61373, 5)\n",
      "the number of valid pathway number between 1.0 and 1.0 is: 61373\n",
      "co_exp_ratio=-------(61373, 1)\n",
      "co_exp_value-------(61373, 1)\n",
      "co_exp_p-----(61373,)\n",
      "The ligand-recepotor pairs found between 1.0 and 1.0 with significant expression is 23973\n",
      "find significant expression ligand-recepotor pairs time-------------23\n",
      "find tf time-------------105\n",
      "tf------(222437, 6)\n",
      "path_score---(23973, 13)\n",
      "1.0 and 1.0 done. Data saved to lr/after/datas/temp/cci_result_1.0_1.0.pkl\n",
      "all_pair_number ---- 1000\n",
      "The cell pair number found between 2.0 and 1.0 is 1017\n",
      "per_exp-------(142852,)\n",
      "find ligand-recepotor pairs time-------------1\n",
      "receptor_gene---------2457\n",
      "lr_pair_sub---------(60712, 5)\n",
      "the number of valid pathway number between 2.0 and 1.0 is: 60712\n",
      "co_exp_ratio=-------(60712, 1)\n",
      "co_exp_value-------(60712, 1)\n",
      "co_exp_p-----(60712,)\n",
      "The ligand-recepotor pairs found between 2.0 and 1.0 with significant expression is 20180\n",
      "find significant expression ligand-recepotor pairs time-------------18\n",
      "find tf time-------------88\n",
      "tf------(199930, 6)\n",
      "path_score---(20180, 13)\n",
      "1.0 and 2.0 done. Data saved to lr/after/datas/temp/cci_result_2.0_1.0.pkl\n",
      "all_pair_number ---- 1000\n",
      "The cell pair number found between 1.0 and 2.0 is 824\n",
      "per_exp-------(142852,)\n",
      "find ligand-recepotor pairs time-------------1\n",
      "receptor_gene---------2837\n",
      "lr_pair_sub---------(74391, 5)\n",
      "the number of valid pathway number between 1.0 and 2.0 is: 74391\n",
      "co_exp_ratio=-------(74391, 1)\n",
      "co_exp_value-------(74391, 1)\n",
      "co_exp_p-----(74391,)\n",
      "The ligand-recepotor pairs found between 1.0 and 2.0 with significant expression is 44143\n",
      "find significant expression ligand-recepotor pairs time-------------17\n",
      "find tf time-------------195\n",
      "tf------(1986764, 6)\n",
      "path_score---(44140, 13)\n",
      "2.0 and 1.0 done. Data saved to lr/after/datas/temp/cci_result_1.0_2.0.pkl\n",
      "all_pair_number ---- 1000\n",
      "The cell pair number found between 2.0 and 2.0 is 983\n",
      "per_exp-------(142852,)\n",
      "find ligand-recepotor pairs time-------------2\n",
      "receptor_gene---------2811\n",
      "lr_pair_sub---------(71860, 5)\n",
      "the number of valid pathway number between 2.0 and 2.0 is: 71860\n",
      "co_exp_ratio=-------(71860, 1)\n",
      "co_exp_value-------(71860, 1)\n",
      "co_exp_p-----(71860,)\n",
      "The ligand-recepotor pairs found between 2.0 and 2.0 with significant expression is 30404\n",
      "find significant expression ligand-recepotor pairs time-------------16\n",
      "find tf time-------------129\n",
      "tf------(1318218, 6)\n",
      "path_score---(30395, 13)\n",
      "2.0 and 2.0 done. Data saved to lr/after/datas/temp/cci_result_2.0_2.0.pkl\n",
      "Total running time is 628 seconds\n",
      "finish 2\n",
      "7 1_2 right\n",
      "start spilting data\n",
      "View of AnnData object with n_obs × n_vars = 1000 × 8961\n",
      "    obs: 'batch', 'leiden'\n",
      "    obsm: 'meta'\n",
      "finish 1\n",
      "start filtering LRIs with spatial data\n",
      "reading data\n",
      "<bound method NDFrame.head of                     cell          x         y  cell_type\n",
      "0      cell1-0-1-0-0-0-0   6.075328  1.663968        1.0\n",
      "1      cell2-0-1-0-0-0-0   2.718012  6.883799        1.0\n",
      "2      cell3-0-1-0-0-0-0   3.592235  3.290633        1.0\n",
      "3      cell4-0-1-0-0-0-0   6.263617  9.143634        1.0\n",
      "4      cell5-0-1-0-0-0-0   4.884694  1.014029        1.0\n",
      "..                   ...        ...       ...        ...\n",
      "995  cell196-1-1-0-0-0-1   9.207182  8.112386        2.0\n",
      "996  cell197-1-1-0-0-0-1  12.661412  7.987338        2.0\n",
      "997  cell198-1-1-0-0-0-1  12.339630  3.525833        2.0\n",
      "998  cell199-1-1-0-0-0-1  10.001922  4.757707        2.0\n",
      "999  cell200-1-1-0-0-0-1   7.440846  1.781953        2.0\n",
      "\n",
      "[1000 rows x 4 columns]>\n",
      "DataFrame 中不存在名为 '_index' 的列。\n",
      "Index(['cell', 'x', 'y', 'cell_type'], dtype='object')\n",
      "st_gene_len----8961\n",
      "cell_name_list----1000\n",
      "reading data done\n",
      "The unique celltype list is [1.0, 2.0]\n",
      "knn done\n",
      "all_pair_number ---- 1000\n",
      "The cell pair number found between 1.0 and 1.0 is 7176\n",
      "per_exp-------(142852,)\n",
      "find ligand-recepotor pairs time-------------19\n",
      "receptor_gene---------2434\n",
      "lr_pair_sub---------(61373, 5)\n",
      "the number of valid pathway number between 1.0 and 1.0 is: 61373\n",
      "co_exp_ratio=-------(61373, 1)\n",
      "co_exp_value-------(61373, 1)\n",
      "co_exp_p-----(61373,)\n",
      "The ligand-recepotor pairs found between 1.0 and 1.0 with significant expression is 20880\n",
      "find significant expression ligand-recepotor pairs time-------------24\n",
      "find tf time-------------89\n",
      "tf------(231669, 6)\n",
      "path_score---(20880, 13)\n",
      "1.0 and 1.0 done. Data saved to lr/after/datas/temp/cci_result_1.0_1.0.pkl\n",
      "all_pair_number ---- 1000\n",
      "The cell pair number found between 2.0 and 1.0 is 1017\n",
      "per_exp-------(142852,)\n",
      "find ligand-recepotor pairs time-------------1\n",
      "receptor_gene---------2457\n",
      "lr_pair_sub---------(60712, 5)\n",
      "the number of valid pathway number between 2.0 and 1.0 is: 60712\n",
      "co_exp_ratio=-------(60712, 1)\n",
      "co_exp_value-------(60712, 1)\n",
      "co_exp_p-----(60712,)\n",
      "The ligand-recepotor pairs found between 2.0 and 1.0 with significant expression is 27781\n",
      "find significant expression ligand-recepotor pairs time-------------18\n",
      "find tf time-------------118\n",
      "tf------(294396, 6)\n",
      "path_score---(27781, 13)\n",
      "1.0 and 2.0 done. Data saved to lr/after/datas/temp/cci_result_2.0_1.0.pkl\n",
      "all_pair_number ---- 1000\n",
      "The cell pair number found between 1.0 and 2.0 is 824\n",
      "per_exp-------(142852,)\n",
      "find ligand-recepotor pairs time-------------1\n",
      "receptor_gene---------2797\n",
      "lr_pair_sub---------(63993, 5)\n",
      "the number of valid pathway number between 1.0 and 2.0 is: 63993\n",
      "co_exp_ratio=-------(63993, 1)\n",
      "co_exp_value-------(63993, 1)\n",
      "co_exp_p-----(63993,)\n",
      "The ligand-recepotor pairs found between 1.0 and 2.0 with significant expression is 35849\n",
      "find significant expression ligand-recepotor pairs time-------------16\n",
      "find tf time-------------152\n",
      "tf------(1370501, 6)\n",
      "path_score---(35849, 13)\n",
      "2.0 and 1.0 done. Data saved to lr/after/datas/temp/cci_result_1.0_2.0.pkl\n",
      "all_pair_number ---- 1000\n",
      "The cell pair number found between 2.0 and 2.0 is 983\n",
      "per_exp-------(142852,)\n",
      "find ligand-recepotor pairs time-------------2\n",
      "receptor_gene---------2745\n",
      "lr_pair_sub---------(63495, 5)\n",
      "the number of valid pathway number between 2.0 and 2.0 is: 63495\n",
      "co_exp_ratio=-------(63495, 1)\n",
      "co_exp_value-------(63495, 1)\n",
      "co_exp_p-----(63495,)\n",
      "The ligand-recepotor pairs found between 2.0 and 2.0 with significant expression is 32505\n",
      "find significant expression ligand-recepotor pairs time-------------16\n",
      "find tf time-------------133\n",
      "tf------(1222256, 6)\n",
      "path_score---(32505, 13)\n",
      "2.0 and 2.0 done. Data saved to lr/after/datas/temp/cci_result_2.0_2.0.pkl\n",
      "Total running time is 600 seconds\n",
      "finish 2\n",
      "7 3_1 right\n",
      "start spilting data\n",
      "View of AnnData object with n_obs × n_vars = 1000 × 8801\n",
      "    obs: 'batch', 'leiden'\n",
      "    obsm: 'meta'\n",
      "finish 1\n",
      "start filtering LRIs with spatial data\n",
      "reading data\n",
      "<bound method NDFrame.head of                   cell          x         y  cell_type\n",
      "0    cell1-0-1-0-0-0-0   6.075328  1.663968        1.0\n",
      "1    cell2-0-1-0-0-0-0   2.718012  6.883799        1.0\n",
      "2    cell3-0-1-0-0-0-0   3.592235  3.290633        1.0\n",
      "3    cell4-0-1-0-0-0-0   6.263617  9.143634        1.0\n",
      "4    cell5-0-1-0-0-0-0   4.884694  1.014029        1.0\n",
      "..                 ...        ...       ...        ...\n",
      "995      cell196-1-1-1   9.207182  8.112386        2.0\n",
      "996      cell197-1-1-1  12.661412  7.987338        2.0\n",
      "997      cell198-1-1-1  12.339630  3.525833        2.0\n",
      "998      cell199-1-1-1  10.001922  4.757707        2.0\n",
      "999      cell200-1-1-1   7.440846  1.781953        2.0\n",
      "\n",
      "[1000 rows x 4 columns]>\n",
      "DataFrame 中不存在名为 '_index' 的列。\n",
      "Index(['cell', 'x', 'y', 'cell_type'], dtype='object')\n",
      "st_gene_len----8801\n",
      "cell_name_list----1000\n",
      "reading data done\n",
      "The unique celltype list is [1.0, 2.0]\n",
      "knn done\n",
      "all_pair_number ---- 1000\n",
      "The cell pair number found between 1.0 and 1.0 is 2712\n",
      "per_exp-------(138293,)\n",
      "find ligand-recepotor pairs time-------------4\n",
      "receptor_gene---------1389\n",
      "lr_pair_sub---------(35323, 5)\n",
      "the number of valid pathway number between 1.0 and 1.0 is: 35323\n",
      "co_exp_ratio=-------(35323, 1)\n",
      "co_exp_value-------(35323, 1)\n",
      "co_exp_p-----(35323,)\n",
      "The ligand-recepotor pairs found between 1.0 and 1.0 with significant expression is 10393\n",
      "find significant expression ligand-recepotor pairs time-------------5\n",
      "find tf time-------------23\n",
      "tf------(118001, 6)\n",
      "path_score---(10393, 13)\n",
      "1.0 and 1.0 done. Data saved to lr/after/datas/temp/cci_result_1.0_1.0.pkl\n",
      "all_pair_number ---- 1000\n",
      "The cell pair number found between 2.0 and 1.0 is 1200\n",
      "per_exp-------(138293,)\n",
      "find ligand-recepotor pairs time-------------2\n",
      "receptor_gene---------1400\n",
      "lr_pair_sub---------(35065, 5)\n",
      "the number of valid pathway number between 2.0 and 1.0 is: 35065\n",
      "co_exp_ratio=-------(35065, 1)\n",
      "co_exp_value-------(35065, 1)\n",
      "co_exp_p-----(35065,)\n",
      "The ligand-recepotor pairs found between 2.0 and 1.0 with significant expression is 19139\n",
      "find significant expression ligand-recepotor pairs time-------------5\n",
      "find tf time-------------45\n",
      "tf------(219457, 6)\n",
      "path_score---(19139, 13)\n",
      "1.0 and 2.0 done. Data saved to lr/after/datas/temp/cci_result_2.0_1.0.pkl\n",
      "all_pair_number ---- 1000\n",
      "The cell pair number found between 1.0 and 2.0 is 1288\n",
      "per_exp-------(138293,)\n",
      "find ligand-recepotor pairs time-------------2\n",
      "receptor_gene---------3692\n",
      "lr_pair_sub---------(87105, 5)\n",
      "the number of valid pathway number between 1.0 and 2.0 is: 87105\n",
      "co_exp_ratio=-------(87105, 1)\n",
      "co_exp_value-------(87105, 1)\n",
      "co_exp_p-----(87105,)\n",
      "The ligand-recepotor pairs found between 1.0 and 2.0 with significant expression is 24787\n",
      "find significant expression ligand-recepotor pairs time-------------29\n",
      "find tf time-------------128\n",
      "tf------(1089701, 6)\n",
      "path_score---(24786, 13)\n",
      "2.0 and 1.0 done. Data saved to lr/after/datas/temp/cci_result_1.0_2.0.pkl\n",
      "all_pair_number ---- 1000\n",
      "The cell pair number found between 2.0 and 2.0 is 4800\n",
      "per_exp-------(138293,)\n",
      "find ligand-recepotor pairs time-------------16\n",
      "receptor_gene---------3605\n",
      "lr_pair_sub---------(85063, 5)\n",
      "the number of valid pathway number between 2.0 and 2.0 is: 85063\n",
      "co_exp_ratio=-------(85063, 1)\n",
      "co_exp_value-------(85063, 1)\n",
      "co_exp_p-----(85063,)\n",
      "The ligand-recepotor pairs found between 2.0 and 2.0 with significant expression is 54297\n",
      "find significant expression ligand-recepotor pairs time-------------33\n",
      "find tf time-------------270\n",
      "tf------(2222293, 6)\n",
      "path_score---(54294, 13)\n",
      "2.0 and 2.0 done. Data saved to lr/after/datas/temp/cci_result_2.0_2.0.pkl\n",
      "Total running time is 571 seconds\n",
      "finish 2\n",
      "0_4 2_4 right\n",
      "start spilting data\n",
      "View of AnnData object with n_obs × n_vars = 800 × 8801\n",
      "    obs: 'batch', 'leiden'\n",
      "    obsm: 'meta'\n",
      "finish 1\n",
      "start filtering LRIs with spatial data\n",
      "reading data\n",
      "<bound method NDFrame.head of                   cell          x         y  cell_type\n",
      "0    cell1-0-1-0-0-0-0   6.075328  1.663968        1.0\n",
      "1    cell2-0-1-0-0-0-0   2.718012  6.883799        1.0\n",
      "2    cell3-0-1-0-0-0-0   3.592235  3.290633        1.0\n",
      "3    cell4-0-1-0-0-0-0   6.263617  9.143634        1.0\n",
      "4    cell5-0-1-0-0-0-0   4.884694  1.014029        1.0\n",
      "..                 ...        ...       ...        ...\n",
      "795      cell196-1-1-1   9.207182  8.112386        2.0\n",
      "796      cell197-1-1-1  12.661412  7.987338        2.0\n",
      "797      cell198-1-1-1  12.339630  3.525833        2.0\n",
      "798      cell199-1-1-1  10.001922  4.757707        2.0\n",
      "799      cell200-1-1-1   7.440846  1.781953        2.0\n",
      "\n",
      "[800 rows x 4 columns]>\n",
      "DataFrame 中不存在名为 '_index' 的列。\n",
      "Index(['cell', 'x', 'y', 'cell_type'], dtype='object')\n",
      "st_gene_len----8801\n",
      "cell_name_list----800\n",
      "reading data done\n",
      "The unique celltype list is [1.0, 2.0]\n",
      "knn done\n",
      "all_pair_number ---- 800\n",
      "The cell pair number found between 1.0 and 1.0 is 1088\n",
      "per_exp-------(138293,)\n",
      "find ligand-recepotor pairs time-------------1\n",
      "receptor_gene---------1157\n",
      "lr_pair_sub---------(28734, 5)\n",
      "the number of valid pathway number between 1.0 and 1.0 is: 28734\n",
      "co_exp_ratio=-------(28734, 1)\n",
      "co_exp_value-------(28734, 1)\n",
      "co_exp_p-----(28734,)\n",
      "The ligand-recepotor pairs found between 1.0 and 1.0 with significant expression is 5554\n",
      "find significant expression ligand-recepotor pairs time-------------3\n",
      "find tf time-------------11\n",
      "tf------(134624, 6)\n",
      "path_score---(5549, 13)\n",
      "1.0 and 1.0 done. Data saved to lr/after/datas/temp/cci_result_1.0_1.0.pkl\n",
      "all_pair_number ---- 800\n",
      "The cell pair number found between 2.0 and 1.0 is 786\n",
      "per_exp-------(138293,)\n",
      "find ligand-recepotor pairs time-------------1\n",
      "receptor_gene---------1228\n",
      "lr_pair_sub---------(32912, 5)\n",
      "the number of valid pathway number between 2.0 and 1.0 is: 32912\n",
      "co_exp_ratio=-------(32912, 1)\n",
      "co_exp_value-------(32912, 1)\n",
      "co_exp_p-----(32912,)\n",
      "The ligand-recepotor pairs found between 2.0 and 1.0 with significant expression is 10999\n",
      "find significant expression ligand-recepotor pairs time-------------4\n",
      "find tf time-------------24\n",
      "tf------(260189, 6)\n",
      "path_score---(10999, 13)\n",
      "1.0 and 2.0 done. Data saved to lr/after/datas/temp/cci_result_2.0_1.0.pkl\n",
      "all_pair_number ---- 800\n",
      "The cell pair number found between 1.0 and 2.0 is 912\n",
      "per_exp-------(138293,)\n",
      "find ligand-recepotor pairs time-------------1\n",
      "receptor_gene---------3673\n",
      "lr_pair_sub---------(87110, 5)\n",
      "the number of valid pathway number between 1.0 and 2.0 is: 87110\n",
      "co_exp_ratio=-------(87110, 1)\n",
      "co_exp_value-------(87110, 1)\n",
      "co_exp_p-----(87110,)\n",
      "The ligand-recepotor pairs found between 1.0 and 2.0 with significant expression is 20315\n",
      "find significant expression ligand-recepotor pairs time-------------26\n",
      "find tf time-------------103\n",
      "tf------(879314, 6)\n",
      "path_score---(20315, 13)\n",
      "2.0 and 1.0 done. Data saved to lr/after/datas/temp/cci_result_1.0_2.0.pkl\n",
      "all_pair_number ---- 800\n",
      "The cell pair number found between 2.0 and 2.0 is 5214\n",
      "per_exp-------(138293,)\n",
      "find ligand-recepotor pairs time-------------20\n",
      "receptor_gene---------3628\n",
      "lr_pair_sub---------(85868, 5)\n",
      "the number of valid pathway number between 2.0 and 2.0 is: 85868\n",
      "co_exp_ratio=-------(85868, 1)\n",
      "co_exp_value-------(85868, 1)\n",
      "co_exp_p-----(85868,)\n",
      "The ligand-recepotor pairs found between 2.0 and 2.0 with significant expression is 51251\n",
      "find significant expression ligand-recepotor pairs time-------------34\n",
      "find tf time-------------260\n",
      "tf------(2144355, 6)\n",
      "path_score---(51247, 13)\n",
      "2.0 and 2.0 done. Data saved to lr/after/datas/temp/cci_result_2.0_2.0.pkl\n",
      "Total running time is 499 seconds\n",
      "finish 2\n",
      "1_1 2_4 right\n",
      "start spilting data\n",
      "View of AnnData object with n_obs × n_vars = 1000 × 8961\n",
      "    obs: 'batch', 'leiden'\n",
      "    obsm: 'meta'\n",
      "finish 1\n",
      "start filtering LRIs with spatial data\n",
      "reading data\n",
      "<bound method NDFrame.head of                 cell          x         y  cell_type\n",
      "0    cell1-0-1-0-0-0   6.075328  1.663968        1.0\n",
      "1    cell2-0-1-0-0-0   2.718012  6.883799        1.0\n",
      "2    cell3-0-1-0-0-0   3.592235  3.290633        1.0\n",
      "3    cell4-0-1-0-0-0   6.263617  9.143634        1.0\n",
      "4    cell5-0-1-0-0-0   4.884694  1.014029        1.0\n",
      "..               ...        ...       ...        ...\n",
      "995    cell196-1-1-1   9.207182  8.112386        2.0\n",
      "996    cell197-1-1-1  12.661412  7.987338        2.0\n",
      "997    cell198-1-1-1  12.339630  3.525833        2.0\n",
      "998    cell199-1-1-1  10.001922  4.757707        2.0\n",
      "999    cell200-1-1-1   7.440846  1.781953        2.0\n",
      "\n",
      "[1000 rows x 4 columns]>\n",
      "DataFrame 中不存在名为 '_index' 的列。\n",
      "Index(['cell', 'x', 'y', 'cell_type'], dtype='object')\n",
      "st_gene_len----8961\n",
      "cell_name_list----1000\n",
      "reading data done\n",
      "The unique celltype list is [1.0, 2.0]\n",
      "knn done\n",
      "all_pair_number ---- 1000\n",
      "The cell pair number found between 1.0 and 1.0 is 2712\n",
      "per_exp-------(142852,)\n",
      "find ligand-recepotor pairs time-------------4\n",
      "receptor_gene---------1426\n",
      "lr_pair_sub---------(37468, 5)\n",
      "the number of valid pathway number between 1.0 and 1.0 is: 37468\n",
      "co_exp_ratio=-------(37468, 1)\n",
      "co_exp_value-------(37468, 1)\n",
      "co_exp_p-----(37468,)\n",
      "The ligand-recepotor pairs found between 1.0 and 1.0 with significant expression is 13366\n",
      "find significant expression ligand-recepotor pairs time-------------5\n",
      "find tf time-------------32\n",
      "tf------(233364, 6)\n",
      "path_score---(13366, 13)\n",
      "1.0 and 1.0 done. Data saved to lr/after/datas/temp/cci_result_1.0_1.0.pkl\n",
      "all_pair_number ---- 1000\n",
      "The cell pair number found between 2.0 and 1.0 is 1200\n",
      "per_exp-------(142852,)\n",
      "find ligand-recepotor pairs time-------------1\n",
      "receptor_gene---------1456\n",
      "lr_pair_sub---------(37664, 5)\n",
      "the number of valid pathway number between 2.0 and 1.0 is: 37664\n",
      "co_exp_ratio=-------(37664, 1)\n",
      "co_exp_value-------(37664, 1)\n",
      "co_exp_p-----(37664,)\n",
      "The ligand-recepotor pairs found between 2.0 and 1.0 with significant expression is 22807\n",
      "find significant expression ligand-recepotor pairs time-------------5\n",
      "find tf time-------------54\n",
      "tf------(414325, 6)\n",
      "path_score---(22807, 13)\n",
      "1.0 and 2.0 done. Data saved to lr/after/datas/temp/cci_result_2.0_1.0.pkl\n",
      "all_pair_number ---- 1000\n",
      "The cell pair number found between 1.0 and 2.0 is 1288\n",
      "per_exp-------(142852,)\n",
      "find ligand-recepotor pairs time-------------2\n",
      "receptor_gene---------3685\n",
      "lr_pair_sub---------(88435, 5)\n",
      "the number of valid pathway number between 1.0 and 2.0 is: 88435\n",
      "co_exp_ratio=-------(88435, 1)\n",
      "co_exp_value-------(88435, 1)\n",
      "co_exp_p-----(88435,)\n",
      "The ligand-recepotor pairs found between 1.0 and 2.0 with significant expression is 29732\n",
      "find significant expression ligand-recepotor pairs time-------------28\n",
      "find tf time-------------153\n",
      "tf------(1347196, 6)\n",
      "path_score---(29729, 13)\n",
      "2.0 and 1.0 done. Data saved to lr/after/datas/temp/cci_result_1.0_2.0.pkl\n",
      "all_pair_number ---- 1000\n",
      "The cell pair number found between 2.0 and 2.0 is 4800\n",
      "per_exp-------(142852,)\n",
      "find ligand-recepotor pairs time-------------14\n",
      "receptor_gene---------3600\n",
      "lr_pair_sub---------(87043, 5)\n",
      "the number of valid pathway number between 2.0 and 2.0 is: 87043\n",
      "co_exp_ratio=-------(87043, 1)\n",
      "co_exp_value-------(87043, 1)\n",
      "co_exp_p-----(87043,)\n",
      "The ligand-recepotor pairs found between 2.0 and 2.0 with significant expression is 58732\n",
      "find significant expression ligand-recepotor pairs time-------------31\n",
      "find tf time-------------298\n",
      "tf------(2406606, 6)\n",
      "path_score---(58728, 13)\n",
      "2.0 and 2.0 done. Data saved to lr/after/datas/temp/cci_result_2.0_2.0.pkl\n",
      "Total running time is 637 seconds\n",
      "finish 2\n",
      "6 2_4 right\n",
      "start spilting data\n",
      "View of AnnData object with n_obs × n_vars = 800 × 8795\n",
      "    obs: 'batch', 'leiden'\n",
      "    obsm: 'meta'\n",
      "finish 1\n",
      "start filtering LRIs with spatial data\n",
      "reading data\n",
      "<bound method NDFrame.head of                 cell          x         y  cell_type\n",
      "0    cell1-0-1-0-0-0   6.075328  1.663968        1.0\n",
      "1    cell2-0-1-0-0-0   2.718012  6.883799        1.0\n",
      "2    cell3-0-1-0-0-0   3.592235  3.290633        1.0\n",
      "3    cell4-0-1-0-0-0   6.263617  9.143634        1.0\n",
      "4    cell5-0-1-0-0-0   4.884694  1.014029        1.0\n",
      "..               ...        ...       ...        ...\n",
      "795    cell196-1-1-1   9.207182  8.112386        2.0\n",
      "796    cell197-1-1-1  12.661412  7.987338        2.0\n",
      "797    cell198-1-1-1  12.339630  3.525833        2.0\n",
      "798    cell199-1-1-1  10.001922  4.757707        2.0\n",
      "799    cell200-1-1-1   7.440846  1.781953        2.0\n",
      "\n",
      "[800 rows x 4 columns]>\n",
      "DataFrame 中不存在名为 '_index' 的列。\n",
      "Index(['cell', 'x', 'y', 'cell_type'], dtype='object')\n",
      "st_gene_len----8795\n",
      "cell_name_list----800\n",
      "reading data done\n",
      "The unique celltype list is [1.0, 2.0]\n",
      "knn done\n",
      "all_pair_number ---- 800\n",
      "The cell pair number found between 1.0 and 1.0 is 1088\n",
      "per_exp-------(138151,)\n",
      "find ligand-recepotor pairs time-------------1\n",
      "receptor_gene---------1375\n",
      "lr_pair_sub---------(37325, 5)\n",
      "the number of valid pathway number between 1.0 and 1.0 is: 37325\n",
      "co_exp_ratio=-------(37325, 1)\n",
      "co_exp_value-------(37325, 1)\n",
      "co_exp_p-----(37325,)\n",
      "The ligand-recepotor pairs found between 1.0 and 1.0 with significant expression is 5546\n",
      "find significant expression ligand-recepotor pairs time-------------3\n",
      "find tf time-------------12\n",
      "tf------(142565, 6)\n",
      "path_score---(5545, 13)\n",
      "1.0 and 1.0 done. Data saved to lr/after/datas/temp/cci_result_1.0_1.0.pkl\n",
      "all_pair_number ---- 800\n",
      "The cell pair number found between 2.0 and 1.0 is 786\n",
      "per_exp-------(138151,)\n",
      "find ligand-recepotor pairs time-------------1\n",
      "receptor_gene---------1438\n",
      "lr_pair_sub---------(40812, 5)\n",
      "the number of valid pathway number between 2.0 and 1.0 is: 40812\n",
      "co_exp_ratio=-------(40812, 1)\n",
      "co_exp_value-------(40812, 1)\n",
      "co_exp_p-----(40812,)\n",
      "The ligand-recepotor pairs found between 2.0 and 1.0 with significant expression is 16953\n",
      "find significant expression ligand-recepotor pairs time-------------4\n",
      "find tf time-------------37\n",
      "tf------(430893, 6)\n",
      "path_score---(16946, 13)\n",
      "1.0 and 2.0 done. Data saved to lr/after/datas/temp/cci_result_2.0_1.0.pkl\n",
      "all_pair_number ---- 800\n",
      "The cell pair number found between 1.0 and 2.0 is 912\n",
      "per_exp-------(138151,)\n",
      "find ligand-recepotor pairs time-------------1\n",
      "receptor_gene---------3675\n",
      "lr_pair_sub---------(86630, 5)\n",
      "the number of valid pathway number between 1.0 and 2.0 is: 86630\n",
      "co_exp_ratio=-------(86630, 1)\n",
      "co_exp_value-------(86630, 1)\n",
      "co_exp_p-----(86630,)\n",
      "The ligand-recepotor pairs found between 1.0 and 2.0 with significant expression is 13940\n",
      "find significant expression ligand-recepotor pairs time-------------27\n",
      "find tf time-------------71\n",
      "tf------(591790, 6)\n",
      "path_score---(13940, 13)\n",
      "2.0 and 1.0 done. Data saved to lr/after/datas/temp/cci_result_1.0_2.0.pkl\n",
      "all_pair_number ---- 800\n",
      "The cell pair number found between 2.0 and 2.0 is 5214\n",
      "per_exp-------(138151,)\n",
      "find ligand-recepotor pairs time-------------17\n",
      "receptor_gene---------3636\n",
      "lr_pair_sub---------(85407, 5)\n",
      "the number of valid pathway number between 2.0 and 2.0 is: 85407\n",
      "co_exp_ratio=-------(85407, 1)\n",
      "co_exp_value-------(85407, 1)\n",
      "co_exp_p-----(85407,)\n",
      "The ligand-recepotor pairs found between 2.0 and 2.0 with significant expression is 51570\n",
      "find significant expression ligand-recepotor pairs time-------------31\n",
      "find tf time-------------260\n",
      "tf------(2138922, 6)\n",
      "path_score---(51567, 13)\n",
      "2.0 and 2.0 done. Data saved to lr/after/datas/temp/cci_result_2.0_2.0.pkl\n",
      "Total running time is 475 seconds\n",
      "finish 2\n",
      "3_2 2_4 right\n",
      "start spilting data\n",
      "View of AnnData object with n_obs × n_vars = 800 × 8961\n",
      "    obs: 'batch', 'leiden'\n",
      "    obsm: 'meta'\n",
      "finish 1\n",
      "start filtering LRIs with spatial data\n",
      "reading data\n",
      "<bound method NDFrame.head of               cell          x         y  cell_type\n",
      "0    cell1-0-1-0-0   6.075328  1.663968        1.0\n",
      "1    cell2-0-1-0-0   2.718012  6.883799        1.0\n",
      "2    cell3-0-1-0-0   3.592235  3.290633        1.0\n",
      "3    cell4-0-1-0-0   6.263617  9.143634        1.0\n",
      "4    cell5-0-1-0-0   4.884694  1.014029        1.0\n",
      "..             ...        ...       ...        ...\n",
      "795  cell196-1-1-1   9.207182  8.112386        2.0\n",
      "796  cell197-1-1-1  12.661412  7.987338        2.0\n",
      "797  cell198-1-1-1  12.339630  3.525833        2.0\n",
      "798  cell199-1-1-1  10.001922  4.757707        2.0\n",
      "799  cell200-1-1-1   7.440846  1.781953        2.0\n",
      "\n",
      "[800 rows x 4 columns]>\n",
      "DataFrame 中不存在名为 '_index' 的列。\n",
      "Index(['cell', 'x', 'y', 'cell_type'], dtype='object')\n",
      "st_gene_len----8961\n",
      "cell_name_list----800\n",
      "reading data done\n",
      "The unique celltype list is [1.0, 2.0]\n",
      "knn done\n",
      "all_pair_number ---- 800\n",
      "The cell pair number found between 1.0 and 1.0 is 1088\n",
      "per_exp-------(142852,)\n",
      "find ligand-recepotor pairs time-------------1\n",
      "receptor_gene---------1263\n",
      "lr_pair_sub---------(34940, 5)\n",
      "the number of valid pathway number between 1.0 and 1.0 is: 34940\n",
      "co_exp_ratio=-------(34940, 1)\n",
      "co_exp_value-------(34940, 1)\n",
      "co_exp_p-----(34940,)\n",
      "The ligand-recepotor pairs found between 1.0 and 1.0 with significant expression is 10572\n",
      "find significant expression ligand-recepotor pairs time-------------3\n",
      "find tf time-------------22\n",
      "tf------(202877, 6)\n",
      "path_score---(10572, 13)\n",
      "1.0 and 1.0 done. Data saved to lr/after/datas/temp/cci_result_1.0_1.0.pkl\n",
      "all_pair_number ---- 800\n",
      "The cell pair number found between 2.0 and 1.0 is 786\n",
      "per_exp-------(142852,)\n",
      "find ligand-recepotor pairs time-------------1\n",
      "receptor_gene---------1405\n",
      "lr_pair_sub---------(38568, 5)\n",
      "the number of valid pathway number between 2.0 and 1.0 is: 38568\n",
      "co_exp_ratio=-------(38568, 1)\n",
      "co_exp_value-------(38568, 1)\n",
      "co_exp_p-----(38568,)\n",
      "The ligand-recepotor pairs found between 2.0 and 1.0 with significant expression is 13732\n",
      "find significant expression ligand-recepotor pairs time-------------3\n",
      "find tf time-------------30\n",
      "tf------(243184, 6)\n",
      "path_score---(13732, 13)\n",
      "1.0 and 2.0 done. Data saved to lr/after/datas/temp/cci_result_2.0_1.0.pkl\n",
      "all_pair_number ---- 800\n",
      "The cell pair number found between 1.0 and 2.0 is 912\n",
      "per_exp-------(142852,)\n",
      "find ligand-recepotor pairs time-------------1\n",
      "receptor_gene---------3685\n",
      "lr_pair_sub---------(88258, 5)\n",
      "the number of valid pathway number between 1.0 and 2.0 is: 88258\n",
      "co_exp_ratio=-------(88258, 1)\n",
      "co_exp_value-------(88258, 1)\n",
      "co_exp_p-----(88258,)\n",
      "The ligand-recepotor pairs found between 1.0 and 2.0 with significant expression is 22367\n",
      "find significant expression ligand-recepotor pairs time-------------30\n",
      "find tf time-------------117\n",
      "tf------(985741, 6)\n",
      "path_score---(22367, 13)\n",
      "2.0 and 1.0 done. Data saved to lr/after/datas/temp/cci_result_1.0_2.0.pkl\n",
      "all_pair_number ---- 800\n",
      "The cell pair number found between 2.0 and 2.0 is 5214\n",
      "per_exp-------(142852,)\n",
      "find ligand-recepotor pairs time-------------20\n",
      "receptor_gene---------3651\n",
      "lr_pair_sub---------(87892, 5)\n",
      "the number of valid pathway number between 2.0 and 2.0 is: 87892\n",
      "co_exp_ratio=-------(87892, 1)\n",
      "co_exp_value-------(87892, 1)\n",
      "co_exp_p-----(87892,)\n",
      "The ligand-recepotor pairs found between 2.0 and 2.0 with significant expression is 60230\n",
      "find significant expression ligand-recepotor pairs time-------------32\n",
      "find tf time-------------308\n",
      "tf------(2534280, 6)\n",
      "path_score---(59424, 13)\n",
      "2.0 and 2.0 done. Data saved to lr/after/datas/temp/cci_result_2.0_2.0.pkl\n",
      "Total running time is 576 seconds\n",
      "finish 2\n",
      "4_3 2_4 right\n",
      "start spilting data\n",
      "View of AnnData object with n_obs × n_vars = 600 × 8402\n",
      "    obs: 'batch', 'leiden'\n",
      "    obsm: 'meta'\n",
      "finish 1\n",
      "start filtering LRIs with spatial data\n",
      "reading data\n",
      "<bound method NDFrame.head of                   cell          x         y  cell_type\n",
      "0    cell1-0-0-0-0-0-0   6.075328  1.663968        1.0\n",
      "1    cell2-0-0-0-0-0-0   2.718012  6.883799        1.0\n",
      "2    cell3-0-0-0-0-0-0   3.592235  3.290633        1.0\n",
      "3    cell4-0-0-0-0-0-0   6.263617  9.143634        1.0\n",
      "4    cell5-0-0-0-0-0-0   4.884694  1.014029        1.0\n",
      "..                 ...        ...       ...        ...\n",
      "595    cell196-1-1-0-1   9.207182  8.112386        2.0\n",
      "596    cell197-1-1-0-1  12.661412  7.987338        2.0\n",
      "597    cell198-1-1-0-1  12.339630  3.525833        2.0\n",
      "598    cell199-1-1-0-1  10.001922  4.757707        2.0\n",
      "599    cell200-1-1-0-1   7.440846  1.781953        2.0\n",
      "\n",
      "[600 rows x 4 columns]>\n",
      "DataFrame 中不存在名为 '_index' 的列。\n",
      "Index(['cell', 'x', 'y', 'cell_type'], dtype='object')\n",
      "st_gene_len----8402\n",
      "cell_name_list----600\n",
      "reading data done\n",
      "The unique celltype list is [1.0, 2.0]\n",
      "knn done\n",
      "all_pair_number ---- 600\n",
      "The cell pair number found between 1.0 and 1.0 is 1180\n",
      "per_exp-------(125972,)\n",
      "find ligand-recepotor pairs time-------------0\n",
      "receptor_gene---------0\n",
      "lr_pair_sub---------(0, 5)\n",
      "No ligand-recepotor pairs found between 1.0 and 1.0 because of no downstream transcriptional factors found for receptors!\n",
      "all_pair_number ---- 600\n",
      "The cell pair number found between 2.0 and 1.0 is 742\n",
      "per_exp-------(125972,)\n",
      "find ligand-recepotor pairs time-------------0\n",
      "receptor_gene---------0\n",
      "lr_pair_sub---------(0, 5)\n",
      "No ligand-recepotor pairs found between 2.0 and 1.0 because of no downstream transcriptional factors found for receptors!\n",
      "all_pair_number ---- 600\n",
      "The cell pair number found between 1.0 and 2.0 is 820\n",
      "per_exp-------(125972,)\n",
      "find ligand-recepotor pairs time-------------1\n",
      "receptor_gene---------2300\n",
      "lr_pair_sub---------(55061, 5)\n",
      "the number of valid pathway number between 1.0 and 2.0 is: 55061\n",
      "co_exp_ratio=-------(55061, 1)\n",
      "co_exp_value-------(55061, 1)\n",
      "co_exp_p-----(55061,)\n",
      "The ligand-recepotor pairs found between 1.0 and 2.0 with significant expression is 4377\n",
      "find significant expression ligand-recepotor pairs time-------------10\n",
      "find tf time-------------14\n",
      "tf------(110420, 6)\n",
      "path_score---(4377, 13)\n",
      "2.0 and 1.0 done. Data saved to lr/after/datas/temp/cci_result_1.0_2.0.pkl\n",
      "all_pair_number ---- 600\n",
      "The cell pair number found between 2.0 and 2.0 is 3258\n",
      "per_exp-------(125972,)\n",
      "find ligand-recepotor pairs time-------------4\n",
      "receptor_gene---------2214\n",
      "lr_pair_sub---------(51990, 5)\n",
      "the number of valid pathway number between 2.0 and 2.0 is: 51990\n",
      "co_exp_ratio=-------(51990, 1)\n",
      "co_exp_value-------(51990, 1)\n",
      "co_exp_p-----(51990,)\n",
      "The ligand-recepotor pairs found between 2.0 and 2.0 with significant expression is 42246\n",
      "find significant expression ligand-recepotor pairs time-------------12\n",
      "find tf time-------------144\n",
      "tf------(1213465, 6)\n",
      "path_score---(42246, 13)\n",
      "2.0 and 2.0 done. Data saved to lr/after/datas/temp/cci_result_2.0_2.0.pkl\n",
      "Total running time is 193 seconds\n",
      "finish 2\n",
      "2_0 4_0 right\n",
      "start spilting data\n",
      "View of AnnData object with n_obs × n_vars = 400 × 8402\n",
      "    obs: 'batch', 'leiden'\n",
      "    obsm: 'meta'\n",
      "finish 1\n",
      "start filtering LRIs with spatial data\n",
      "reading data\n",
      "<bound method NDFrame.head of                   cell          x         y  cell_type\n",
      "0    cell1-0-0-0-0-0-0   6.075328  1.663968        1.0\n",
      "1    cell2-0-0-0-0-0-0   2.718012  6.883799        1.0\n",
      "2    cell3-0-0-0-0-0-0   3.592235  3.290633        1.0\n",
      "3    cell4-0-0-0-0-0-0   6.263617  9.143634        1.0\n",
      "4    cell5-0-0-0-0-0-0   4.884694  1.014029        1.0\n",
      "..                 ...        ...       ...        ...\n",
      "395    cell196-1-1-0-1   9.207182  8.112386        2.0\n",
      "396    cell197-1-1-0-1  12.661412  7.987338        2.0\n",
      "397    cell198-1-1-0-1  12.339630  3.525833        2.0\n",
      "398    cell199-1-1-0-1  10.001922  4.757707        2.0\n",
      "399    cell200-1-1-0-1   7.440846  1.781953        2.0\n",
      "\n",
      "[400 rows x 4 columns]>\n",
      "DataFrame 中不存在名为 '_index' 的列。\n",
      "Index(['cell', 'x', 'y', 'cell_type'], dtype='object')\n",
      "st_gene_len----8402\n",
      "cell_name_list----400\n",
      "reading data done\n",
      "The unique celltype list is [1.0, 2.0]\n",
      "knn done\n",
      "all_pair_number ---- 400\n",
      "The cell pair number found between 1.0 and 1.0 is 1362\n",
      "per_exp-------(125972,)\n",
      "find ligand-recepotor pairs time-------------1\n",
      "receptor_gene---------1\n",
      "lr_pair_sub---------(0, 5)\n",
      "No ligand-recepotor pairs found between 1.0 and 1.0 because of no downstream transcriptional factors found for receptors!\n",
      "all_pair_number ---- 400\n",
      "The cell pair number found between 2.0 and 1.0 is 641\n",
      "per_exp-------(125972,)\n",
      "find ligand-recepotor pairs time-------------0\n",
      "receptor_gene---------0\n",
      "lr_pair_sub---------(0, 5)\n",
      "No ligand-recepotor pairs found between 2.0 and 1.0 because of no downstream transcriptional factors found for receptors!\n",
      "all_pair_number ---- 400\n",
      "The cell pair number found between 1.0 and 2.0 is 638\n",
      "per_exp-------(125972,)\n",
      "find ligand-recepotor pairs time-------------1\n",
      "receptor_gene---------2860\n",
      "lr_pair_sub---------(65656, 5)\n",
      "the number of valid pathway number between 1.0 and 2.0 is: 65656\n",
      "co_exp_ratio=-------(65656, 1)\n",
      "co_exp_value-------(65656, 1)\n",
      "co_exp_p-----(65656,)\n",
      "The ligand-recepotor pairs found between 1.0 and 2.0 with significant expression is 9558\n",
      "find significant expression ligand-recepotor pairs time-------------15\n",
      "find tf time-------------39\n",
      "tf------(362644, 6)\n",
      "path_score---(9558, 13)\n",
      "2.0 and 1.0 done. Data saved to lr/after/datas/temp/cci_result_1.0_2.0.pkl\n",
      "all_pair_number ---- 400\n",
      "The cell pair number found between 2.0 and 2.0 is 1359\n",
      "per_exp-------(125972,)\n",
      "find ligand-recepotor pairs time-------------2\n",
      "receptor_gene---------2792\n",
      "lr_pair_sub---------(65597, 5)\n",
      "the number of valid pathway number between 2.0 and 2.0 is: 65597\n",
      "co_exp_ratio=-------(65597, 1)\n",
      "co_exp_value-------(65597, 1)\n",
      "co_exp_p-----(65597,)\n",
      "The ligand-recepotor pairs found between 2.0 and 2.0 with significant expression is 50918\n",
      "find significant expression ligand-recepotor pairs time-------------15\n",
      "find tf time-------------203\n",
      "tf------(1679810, 6)\n",
      "path_score---(50908, 13)\n",
      "2.0 and 2.0 done. Data saved to lr/after/datas/temp/cci_result_2.0_2.0.pkl\n",
      "Total running time is 282 seconds\n",
      "finish 2\n",
      "2_0 0_3 right\n",
      "start spilting data\n",
      "View of AnnData object with n_obs × n_vars = 600 × 8787\n",
      "    obs: 'batch', 'leiden'\n",
      "    obsm: 'meta'\n",
      "finish 1\n",
      "start filtering LRIs with spatial data\n",
      "reading data\n",
      "<bound method NDFrame.head of                   cell          x         y  cell_type\n",
      "0    cell1-0-1-0-0-0-0   6.075328  1.663968        1.0\n",
      "1    cell2-0-1-0-0-0-0   2.718012  6.883799        1.0\n",
      "2    cell3-0-1-0-0-0-0   3.592235  3.290633        1.0\n",
      "3    cell4-0-1-0-0-0-0   6.263617  9.143634        1.0\n",
      "4    cell5-0-1-0-0-0-0   4.884694  1.014029        1.0\n",
      "..                 ...        ...       ...        ...\n",
      "595    cell196-1-1-0-1   9.207182  8.112386        2.0\n",
      "596    cell197-1-1-0-1  12.661412  7.987338        2.0\n",
      "597    cell198-1-1-0-1  12.339630  3.525833        2.0\n",
      "598    cell199-1-1-0-1  10.001922  4.757707        2.0\n",
      "599    cell200-1-1-0-1   7.440846  1.781953        2.0\n",
      "\n",
      "[600 rows x 4 columns]>\n",
      "DataFrame 中不存在名为 '_index' 的列。\n",
      "Index(['cell', 'x', 'y', 'cell_type'], dtype='object')\n",
      "st_gene_len----8787\n",
      "cell_name_list----600\n",
      "reading data done\n",
      "The unique celltype list is [1.0, 2.0]\n",
      "knn done\n",
      "all_pair_number ---- 600\n",
      "The cell pair number found between 1.0 and 1.0 is 3258\n",
      "per_exp-------(136871,)\n",
      "find ligand-recepotor pairs time-------------4\n",
      "receptor_gene---------1464\n",
      "lr_pair_sub---------(36922, 5)\n",
      "the number of valid pathway number between 1.0 and 1.0 is: 36922\n",
      "co_exp_ratio=-------(36922, 1)\n",
      "co_exp_value-------(36922, 1)\n",
      "co_exp_p-----(36922,)\n",
      "The ligand-recepotor pairs found between 1.0 and 1.0 with significant expression is 12727\n",
      "find significant expression ligand-recepotor pairs time-------------6\n",
      "find tf time-------------31\n",
      "tf------(144626, 6)\n",
      "path_score---(12727, 13)\n",
      "1.0 and 1.0 done. Data saved to lr/after/datas/temp/cci_result_1.0_1.0.pkl\n",
      "all_pair_number ---- 600\n",
      "The cell pair number found between 2.0 and 1.0 is 838\n",
      "per_exp-------(136871,)\n",
      "find ligand-recepotor pairs time-------------1\n",
      "receptor_gene---------1492\n",
      "lr_pair_sub---------(36997, 5)\n",
      "the number of valid pathway number between 2.0 and 1.0 is: 36997\n",
      "co_exp_ratio=-------(36997, 1)\n",
      "co_exp_value-------(36997, 1)\n",
      "co_exp_p-----(36997,)\n",
      "The ligand-recepotor pairs found between 2.0 and 1.0 with significant expression is 21311\n",
      "find significant expression ligand-recepotor pairs time-------------5\n",
      "find tf time-------------53\n",
      "tf------(252515, 6)\n",
      "path_score---(21307, 13)\n",
      "1.0 and 2.0 done. Data saved to lr/after/datas/temp/cci_result_2.0_1.0.pkl\n",
      "all_pair_number ---- 600\n",
      "The cell pair number found between 1.0 and 2.0 is 742\n",
      "per_exp-------(136871,)\n",
      "find ligand-recepotor pairs time-------------1\n",
      "receptor_gene---------2862\n",
      "lr_pair_sub---------(69347, 5)\n",
      "the number of valid pathway number between 1.0 and 2.0 is: 69347\n",
      "co_exp_ratio=-------(69347, 1)\n",
      "co_exp_value-------(69347, 1)\n",
      "co_exp_p-----(69347,)\n",
      "The ligand-recepotor pairs found between 1.0 and 2.0 with significant expression is 28887\n",
      "find significant expression ligand-recepotor pairs time-------------15\n",
      "find tf time-------------117\n",
      "tf------(1023503, 6)\n",
      "path_score---(28887, 13)\n",
      "2.0 and 1.0 done. Data saved to lr/after/datas/temp/cci_result_1.0_2.0.pkl\n",
      "all_pair_number ---- 600\n",
      "The cell pair number found between 2.0 and 2.0 is 1162\n",
      "per_exp-------(136871,)\n",
      "find ligand-recepotor pairs time-------------2\n",
      "receptor_gene---------2786\n",
      "lr_pair_sub---------(67133, 5)\n",
      "the number of valid pathway number between 2.0 and 2.0 is: 67133\n",
      "co_exp_ratio=-------(67133, 1)\n",
      "co_exp_value-------(67133, 1)\n",
      "co_exp_p-----(67133,)\n",
      "The ligand-recepotor pairs found between 2.0 and 2.0 with significant expression is 37547\n",
      "find significant expression ligand-recepotor pairs time-------------15\n",
      "find tf time-------------149\n",
      "tf------(1293307, 6)\n",
      "path_score---(37537, 13)\n",
      "2.0 and 2.0 done. Data saved to lr/after/datas/temp/cci_result_2.0_2.0.pkl\n",
      "Total running time is 409 seconds\n",
      "finish 2\n",
      "0_4 0_3 right\n",
      "start spilting data\n",
      "View of AnnData object with n_obs × n_vars = 400 × 8582\n",
      "    obs: 'batch', 'leiden'\n",
      "    obsm: 'meta'\n",
      "finish 1\n",
      "start filtering LRIs with spatial data\n",
      "reading data\n",
      "<bound method NDFrame.head of                   cell          x         y  cell_type\n",
      "0    cell1-0-1-0-0-0-0   6.075328  1.663968        1.0\n",
      "1    cell2-0-1-0-0-0-0   2.718012  6.883799        1.0\n",
      "2    cell3-0-1-0-0-0-0   3.592235  3.290633        1.0\n",
      "3    cell4-0-1-0-0-0-0   6.263617  9.143634        1.0\n",
      "4    cell5-0-1-0-0-0-0   4.884694  1.014029        1.0\n",
      "..                 ...        ...       ...        ...\n",
      "395    cell196-1-1-0-1   9.207182  8.112386        2.0\n",
      "396    cell197-1-1-0-1  12.661412  7.987338        2.0\n",
      "397    cell198-1-1-0-1  12.339630  3.525833        2.0\n",
      "398    cell199-1-1-0-1  10.001922  4.757707        2.0\n",
      "399    cell200-1-1-0-1   7.440846  1.781953        2.0\n",
      "\n",
      "[400 rows x 4 columns]>\n",
      "DataFrame 中不存在名为 '_index' 的列。\n",
      "Index(['cell', 'x', 'y', 'cell_type'], dtype='object')\n",
      "st_gene_len----8582\n",
      "cell_name_list----400\n",
      "reading data done\n",
      "The unique celltype list is [1.0, 2.0]\n",
      "knn done\n",
      "all_pair_number ---- 400\n",
      "The cell pair number found between 1.0 and 1.0 is 1362\n",
      "per_exp-------(131675,)\n",
      "find ligand-recepotor pairs time-------------2\n",
      "receptor_gene---------1183\n",
      "lr_pair_sub---------(27700, 5)\n",
      "the number of valid pathway number between 1.0 and 1.0 is: 27700\n",
      "co_exp_ratio=-------(27700, 1)\n",
      "co_exp_value-------(27700, 1)\n",
      "co_exp_p-----(27700,)\n",
      "The ligand-recepotor pairs found between 1.0 and 1.0 with significant expression is 6675\n",
      "find significant expression ligand-recepotor pairs time-------------4\n",
      "find tf time-------------14\n",
      "tf------(140969, 6)\n",
      "path_score---(6675, 13)\n",
      "1.0 and 1.0 done. Data saved to lr/after/datas/temp/cci_result_1.0_1.0.pkl\n",
      "all_pair_number ---- 400\n",
      "The cell pair number found between 2.0 and 1.0 is 641\n",
      "per_exp-------(131675,)\n",
      "find ligand-recepotor pairs time-------------1\n",
      "receptor_gene---------1240\n",
      "lr_pair_sub---------(31290, 5)\n",
      "the number of valid pathway number between 2.0 and 1.0 is: 31290\n",
      "co_exp_ratio=-------(31290, 1)\n",
      "co_exp_value-------(31290, 1)\n",
      "co_exp_p-----(31290,)\n",
      "The ligand-recepotor pairs found between 2.0 and 1.0 with significant expression is 11382\n",
      "find significant expression ligand-recepotor pairs time-------------4\n",
      "find tf time-------------24\n",
      "tf------(217414, 6)\n",
      "path_score---(11382, 13)\n",
      "1.0 and 2.0 done. Data saved to lr/after/datas/temp/cci_result_2.0_1.0.pkl\n",
      "all_pair_number ---- 400\n",
      "The cell pair number found between 1.0 and 2.0 is 638\n",
      "per_exp-------(131675,)\n",
      "find ligand-recepotor pairs time-------------1\n",
      "receptor_gene---------2821\n",
      "lr_pair_sub---------(66397, 5)\n",
      "the number of valid pathway number between 1.0 and 2.0 is: 66397\n",
      "co_exp_ratio=-------(66397, 1)\n",
      "co_exp_value-------(66397, 1)\n",
      "co_exp_p-----(66397,)\n",
      "The ligand-recepotor pairs found between 1.0 and 2.0 with significant expression is 16848\n",
      "find significant expression ligand-recepotor pairs time-------------16\n",
      "find tf time-------------69\n",
      "tf------(584517, 6)\n",
      "path_score---(16848, 13)\n",
      "2.0 and 1.0 done. Data saved to lr/after/datas/temp/cci_result_1.0_2.0.pkl\n",
      "all_pair_number ---- 400\n",
      "The cell pair number found between 2.0 and 2.0 is 1359\n",
      "per_exp-------(131675,)\n",
      "find ligand-recepotor pairs time-------------2\n",
      "receptor_gene---------2791\n",
      "lr_pair_sub---------(66433, 5)\n",
      "the number of valid pathway number between 2.0 and 2.0 is: 66433\n",
      "co_exp_ratio=-------(66433, 1)\n",
      "co_exp_value-------(66433, 1)\n",
      "co_exp_p-----(66433,)\n",
      "The ligand-recepotor pairs found between 2.0 and 2.0 with significant expression is 42577\n",
      "find significant expression ligand-recepotor pairs time-------------16\n",
      "find tf time-------------170\n",
      "tf------(1382544, 6)\n",
      "path_score---(42567, 13)\n",
      "2.0 and 2.0 done. Data saved to lr/after/datas/temp/cci_result_2.0_2.0.pkl\n",
      "Total running time is 329 seconds\n",
      "finish 2\n",
      "1_1 0_3 right\n",
      "start spilting data\n",
      "View of AnnData object with n_obs × n_vars = 600 × 8574\n",
      "    obs: 'batch', 'leiden'\n",
      "    obsm: 'meta'\n",
      "finish 1\n",
      "start filtering LRIs with spatial data\n",
      "reading data\n",
      "<bound method NDFrame.head of                 cell          x         y  cell_type\n",
      "0    cell1-0-1-0-0-0   6.075328  1.663968        1.0\n",
      "1    cell2-0-1-0-0-0   2.718012  6.883799        1.0\n",
      "2    cell3-0-1-0-0-0   3.592235  3.290633        1.0\n",
      "3    cell4-0-1-0-0-0   6.263617  9.143634        1.0\n",
      "4    cell5-0-1-0-0-0   4.884694  1.014029        1.0\n",
      "..               ...        ...       ...        ...\n",
      "595  cell196-1-1-0-1   9.207182  8.112386        2.0\n",
      "596  cell197-1-1-0-1  12.661412  7.987338        2.0\n",
      "597  cell198-1-1-0-1  12.339630  3.525833        2.0\n",
      "598  cell199-1-1-0-1  10.001922  4.757707        2.0\n",
      "599  cell200-1-1-0-1   7.440846  1.781953        2.0\n",
      "\n",
      "[600 rows x 4 columns]>\n",
      "DataFrame 中不存在名为 '_index' 的列。\n",
      "Index(['cell', 'x', 'y', 'cell_type'], dtype='object')\n",
      "st_gene_len----8574\n",
      "cell_name_list----600\n",
      "reading data done\n",
      "The unique celltype list is [1.0, 2.0]\n",
      "knn done\n",
      "all_pair_number ---- 600\n",
      "The cell pair number found between 1.0 and 1.0 is 3258\n",
      "per_exp-------(131606,)\n",
      "find ligand-recepotor pairs time-------------5\n",
      "receptor_gene---------1436\n",
      "lr_pair_sub---------(34600, 5)\n",
      "the number of valid pathway number between 1.0 and 1.0 is: 34600\n",
      "co_exp_ratio=-------(34600, 1)\n",
      "co_exp_value-------(34600, 1)\n",
      "co_exp_p-----(34600,)\n",
      "The ligand-recepotor pairs found between 1.0 and 1.0 with significant expression is 6759\n",
      "find significant expression ligand-recepotor pairs time-------------5\n",
      "find tf time-------------16\n",
      "tf------(124921, 6)\n",
      "path_score---(6759, 13)\n",
      "1.0 and 1.0 done. Data saved to lr/after/datas/temp/cci_result_1.0_1.0.pkl\n",
      "all_pair_number ---- 600\n",
      "The cell pair number found between 2.0 and 1.0 is 838\n",
      "per_exp-------(131606,)\n",
      "find ligand-recepotor pairs time-------------1\n",
      "receptor_gene---------1459\n",
      "lr_pair_sub---------(36847, 5)\n",
      "the number of valid pathway number between 2.0 and 1.0 is: 36847\n",
      "co_exp_ratio=-------(36847, 1)\n",
      "co_exp_value-------(36847, 1)\n",
      "co_exp_p-----(36847,)\n",
      "The ligand-recepotor pairs found between 2.0 and 1.0 with significant expression is 21129\n",
      "find significant expression ligand-recepotor pairs time-------------4\n",
      "find tf time-------------51\n",
      "tf------(381504, 6)\n",
      "path_score---(21129, 13)\n",
      "1.0 and 2.0 done. Data saved to lr/after/datas/temp/cci_result_2.0_1.0.pkl\n",
      "all_pair_number ---- 600\n",
      "The cell pair number found between 1.0 and 2.0 is 742\n",
      "per_exp-------(131606,)\n",
      "find ligand-recepotor pairs time-------------1\n",
      "receptor_gene---------2855\n",
      "lr_pair_sub---------(67595, 5)\n",
      "the number of valid pathway number between 1.0 and 2.0 is: 67595\n",
      "co_exp_ratio=-------(67595, 1)\n",
      "co_exp_value-------(67595, 1)\n",
      "co_exp_p-----(67595,)\n",
      "The ligand-recepotor pairs found between 1.0 and 2.0 with significant expression is 24008\n",
      "find significant expression ligand-recepotor pairs time-------------15\n",
      "find tf time-------------96\n",
      "tf------(820001, 6)\n",
      "path_score---(24008, 13)\n",
      "2.0 and 1.0 done. Data saved to lr/after/datas/temp/cci_result_1.0_2.0.pkl\n",
      "all_pair_number ---- 600\n",
      "The cell pair number found between 2.0 and 2.0 is 1162\n",
      "per_exp-------(131606,)\n",
      "find ligand-recepotor pairs time-------------2\n",
      "receptor_gene---------2776\n",
      "lr_pair_sub---------(65399, 5)\n",
      "the number of valid pathway number between 2.0 and 2.0 is: 65399\n",
      "co_exp_ratio=-------(65399, 1)\n",
      "co_exp_value-------(65399, 1)\n",
      "co_exp_p-----(65399,)\n",
      "The ligand-recepotor pairs found between 2.0 and 2.0 with significant expression is 42286\n",
      "find significant expression ligand-recepotor pairs time-------------15\n",
      "find tf time-------------165\n",
      "tf------(1410684, 6)\n",
      "path_score---(42286, 13)\n",
      "2.0 and 2.0 done. Data saved to lr/after/datas/temp/cci_result_2.0_2.0.pkl\n",
      "Total running time is 386 seconds\n",
      "finish 2\n",
      "6 0_3 right\n",
      "start spilting data\n",
      "View of AnnData object with n_obs × n_vars = 400 × 8568\n",
      "    obs: 'batch', 'leiden'\n",
      "    obsm: 'meta'\n",
      "finish 1\n",
      "start filtering LRIs with spatial data\n",
      "reading data\n",
      "<bound method NDFrame.head of                 cell          x         y  cell_type\n",
      "0    cell1-0-1-0-0-0   6.075328  1.663968        1.0\n",
      "1    cell2-0-1-0-0-0   2.718012  6.883799        1.0\n",
      "2    cell3-0-1-0-0-0   3.592235  3.290633        1.0\n",
      "3    cell4-0-1-0-0-0   6.263617  9.143634        1.0\n",
      "4    cell5-0-1-0-0-0   4.884694  1.014029        1.0\n",
      "..               ...        ...       ...        ...\n",
      "395  cell196-1-1-0-1   9.207182  8.112386        2.0\n",
      "396  cell197-1-1-0-1  12.661412  7.987338        2.0\n",
      "397  cell198-1-1-0-1  12.339630  3.525833        2.0\n",
      "398  cell199-1-1-0-1  10.001922  4.757707        2.0\n",
      "399  cell200-1-1-0-1   7.440846  1.781953        2.0\n",
      "\n",
      "[400 rows x 4 columns]>\n",
      "DataFrame 中不存在名为 '_index' 的列。\n",
      "Index(['cell', 'x', 'y', 'cell_type'], dtype='object')\n",
      "st_gene_len----8568\n",
      "cell_name_list----400\n",
      "reading data done\n",
      "The unique celltype list is [1.0, 2.0]\n",
      "knn done\n",
      "all_pair_number ---- 400\n",
      "The cell pair number found between 1.0 and 1.0 is 1362\n",
      "per_exp-------(131470,)\n",
      "find ligand-recepotor pairs time-------------2\n",
      "receptor_gene---------1390\n",
      "lr_pair_sub---------(35973, 5)\n",
      "the number of valid pathway number between 1.0 and 1.0 is: 35973\n",
      "co_exp_ratio=-------(35973, 1)\n",
      "co_exp_value-------(35973, 1)\n",
      "co_exp_p-----(35973,)\n",
      "The ligand-recepotor pairs found between 1.0 and 1.0 with significant expression is 7583\n",
      "find significant expression ligand-recepotor pairs time-------------4\n",
      "find tf time-------------16\n",
      "tf------(190478, 6)\n",
      "path_score---(7582, 13)\n",
      "1.0 and 1.0 done. Data saved to lr/after/datas/temp/cci_result_1.0_1.0.pkl\n",
      "all_pair_number ---- 400\n",
      "The cell pair number found between 2.0 and 1.0 is 641\n",
      "per_exp-------(131470,)\n",
      "find ligand-recepotor pairs time-------------1\n",
      "receptor_gene---------1446\n",
      "lr_pair_sub---------(39149, 5)\n",
      "the number of valid pathway number between 2.0 and 1.0 is: 39149\n",
      "co_exp_ratio=-------(39149, 1)\n",
      "co_exp_value-------(39149, 1)\n",
      "co_exp_p-----(39149,)\n",
      "The ligand-recepotor pairs found between 2.0 and 1.0 with significant expression is 16796\n",
      "find significant expression ligand-recepotor pairs time-------------4\n",
      "find tf time-------------37\n",
      "tf------(416726, 6)\n",
      "path_score---(16738, 13)\n",
      "1.0 and 2.0 done. Data saved to lr/after/datas/temp/cci_result_2.0_1.0.pkl\n",
      "all_pair_number ---- 400\n",
      "The cell pair number found between 1.0 and 2.0 is 638\n",
      "per_exp-------(131470,)\n",
      "find ligand-recepotor pairs time-------------1\n",
      "receptor_gene---------2855\n",
      "lr_pair_sub---------(66192, 5)\n",
      "the number of valid pathway number between 1.0 and 2.0 is: 66192\n",
      "co_exp_ratio=-------(66192, 1)\n",
      "co_exp_value-------(66192, 1)\n",
      "co_exp_p-----(66192,)\n",
      "The ligand-recepotor pairs found between 1.0 and 2.0 with significant expression is 12707\n",
      "find significant expression ligand-recepotor pairs time-------------15\n",
      "find tf time-------------54\n",
      "tf------(450307, 6)\n",
      "path_score---(12707, 13)\n",
      "2.0 and 1.0 done. Data saved to lr/after/datas/temp/cci_result_1.0_2.0.pkl\n",
      "all_pair_number ---- 400\n",
      "The cell pair number found between 2.0 and 2.0 is 1359\n",
      "per_exp-------(131470,)\n",
      "find ligand-recepotor pairs time-------------2\n",
      "receptor_gene---------2786\n",
      "lr_pair_sub---------(66129, 5)\n",
      "the number of valid pathway number between 2.0 and 2.0 is: 66129\n",
      "co_exp_ratio=-------(66129, 1)\n",
      "co_exp_value-------(66129, 1)\n",
      "co_exp_p-----(66129,)\n",
      "The ligand-recepotor pairs found between 2.0 and 2.0 with significant expression is 42325\n",
      "find significant expression ligand-recepotor pairs time-------------15\n",
      "find tf time-------------170\n",
      "tf------(1413982, 6)\n",
      "path_score---(42325, 13)\n",
      "2.0 and 2.0 done. Data saved to lr/after/datas/temp/cci_result_2.0_2.0.pkl\n",
      "Total running time is 328 seconds\n",
      "finish 2\n",
      "3_2 0_3 right\n",
      "start spilting data\n",
      "View of AnnData object with n_obs × n_vars = 400 × 8397\n",
      "    obs: 'batch', 'leiden'\n",
      "    obsm: 'meta'\n",
      "finish 1\n",
      "start filtering LRIs with spatial data\n",
      "reading data\n",
      "<bound method NDFrame.head of                 cell          x         y  cell_type\n",
      "0      cell1-0-1-0-0   6.075328  1.663968        1.0\n",
      "1      cell2-0-1-0-0   2.718012  6.883799        1.0\n",
      "2      cell3-0-1-0-0   3.592235  3.290633        1.0\n",
      "3      cell4-0-1-0-0   6.263617  9.143634        1.0\n",
      "4      cell5-0-1-0-0   4.884694  1.014029        1.0\n",
      "..               ...        ...       ...        ...\n",
      "395  cell196-1-1-0-1   9.207182  8.112386        2.0\n",
      "396  cell197-1-1-0-1  12.661412  7.987338        2.0\n",
      "397  cell198-1-1-0-1  12.339630  3.525833        2.0\n",
      "398  cell199-1-1-0-1  10.001922  4.757707        2.0\n",
      "399  cell200-1-1-0-1   7.440846  1.781953        2.0\n",
      "\n",
      "[400 rows x 4 columns]>\n",
      "DataFrame 中不存在名为 '_index' 的列。\n",
      "Index(['cell', 'x', 'y', 'cell_type'], dtype='object')\n",
      "st_gene_len----8397\n",
      "cell_name_list----400\n",
      "reading data done\n",
      "The unique celltype list is [1.0, 2.0]\n",
      "knn done\n",
      "all_pair_number ---- 400\n",
      "The cell pair number found between 1.0 and 1.0 is 1362\n",
      "per_exp-------(125813,)\n",
      "find ligand-recepotor pairs time-------------1\n",
      "receptor_gene---------1\n",
      "lr_pair_sub---------(0, 5)\n",
      "No ligand-recepotor pairs found between 1.0 and 1.0 because of no downstream transcriptional factors found for receptors!\n",
      "all_pair_number ---- 400\n",
      "The cell pair number found between 2.0 and 1.0 is 641\n",
      "per_exp-------(125813,)\n",
      "find ligand-recepotor pairs time-------------0\n",
      "receptor_gene---------1\n",
      "lr_pair_sub---------(0, 5)\n",
      "No ligand-recepotor pairs found between 2.0 and 1.0 because of no downstream transcriptional factors found for receptors!\n",
      "all_pair_number ---- 400\n",
      "The cell pair number found between 1.0 and 2.0 is 638\n",
      "per_exp-------(125813,)\n",
      "find ligand-recepotor pairs time-------------0\n",
      "receptor_gene---------956\n",
      "lr_pair_sub---------(26319, 5)\n",
      "the number of valid pathway number between 1.0 and 2.0 is: 26319\n",
      "co_exp_ratio=-------(26319, 1)\n",
      "co_exp_value-------(26319, 1)\n",
      "co_exp_p-----(26319,)\n",
      "The ligand-recepotor pairs found between 1.0 and 2.0 with significant expression is 2116\n",
      "find significant expression ligand-recepotor pairs time-------------2\n",
      "find tf time-------------4\n",
      "tf------(13090, 6)\n",
      "path_score---(2093, 13)\n",
      "2.0 and 1.0 done. Data saved to lr/after/datas/temp/cci_result_1.0_2.0.pkl\n",
      "all_pair_number ---- 400\n",
      "The cell pair number found between 2.0 and 2.0 is 1359\n",
      "per_exp-------(125813,)\n",
      "find ligand-recepotor pairs time-------------1\n",
      "receptor_gene---------861\n",
      "lr_pair_sub---------(20979, 5)\n",
      "the number of valid pathway number between 2.0 and 2.0 is: 20979\n",
      "co_exp_ratio=-------(20979, 1)\n",
      "co_exp_value-------(20979, 1)\n",
      "co_exp_p-----(20979,)\n",
      "The ligand-recepotor pairs found between 2.0 and 2.0 with significant expression is 15452\n",
      "find significant expression ligand-recepotor pairs time-------------2\n",
      "find tf time-------------29\n",
      "tf------(105536, 6)\n",
      "path_score---(14989, 13)\n",
      "2.0 and 2.0 done. Data saved to lr/after/datas/temp/cci_result_2.0_2.0.pkl\n",
      "Total running time is 45 seconds\n",
      "finish 2\n",
      "4_3 0_3 right\n",
      "start spilting data\n",
      "View of AnnData object with n_obs × n_vars = 1200 × 8961\n",
      "    obs: 'batch', 'leiden'\n",
      "    obsm: 'meta'\n",
      "finish 1\n",
      "start filtering LRIs with spatial data\n",
      "reading data\n",
      "<bound method NDFrame.head of                    cell          x         y  cell_type\n",
      "0     cell1-0-1-0-0-0-0   6.075328  1.663968        1.0\n",
      "1     cell2-0-1-0-0-0-0   2.718012  6.883799        1.0\n",
      "2     cell3-0-1-0-0-0-0   3.592235  3.290633        1.0\n",
      "3     cell4-0-1-0-0-0-0   6.263617  9.143634        1.0\n",
      "4     cell5-0-1-0-0-0-0   4.884694  1.014029        1.0\n",
      "...                 ...        ...       ...        ...\n",
      "1195    cell196-1-1-0-1   9.207182  8.112386        2.0\n",
      "1196    cell197-1-1-0-1  12.661412  7.987338        2.0\n",
      "1197    cell198-1-1-0-1  12.339630  3.525833        2.0\n",
      "1198    cell199-1-1-0-1  10.001922  4.757707        2.0\n",
      "1199    cell200-1-1-0-1   7.440846  1.781953        2.0\n",
      "\n",
      "[1200 rows x 4 columns]>\n",
      "DataFrame 中不存在名为 '_index' 的列。\n",
      "Index(['cell', 'x', 'y', 'cell_type'], dtype='object')\n",
      "st_gene_len----8961\n",
      "cell_name_list----1200\n",
      "reading data done\n",
      "The unique celltype list is [1.0, 2.0]\n",
      "knn done\n",
      "all_pair_number ---- 1200\n",
      "The cell pair number found between 1.0 and 1.0 is 6732\n",
      "per_exp-------(142852,)\n",
      "find ligand-recepotor pairs time-------------22\n",
      "receptor_gene---------2421\n",
      "lr_pair_sub---------(61373, 5)\n",
      "the number of valid pathway number between 1.0 and 1.0 is: 61373\n",
      "co_exp_ratio=-------(61373, 1)\n",
      "co_exp_value-------(61373, 1)\n",
      "co_exp_p-----(61373,)\n",
      "The ligand-recepotor pairs found between 1.0 and 1.0 with significant expression is 24995\n",
      "find significant expression ligand-recepotor pairs time-------------24\n",
      "find tf time-------------107\n",
      "tf------(273601, 6)\n",
      "path_score---(24995, 13)\n",
      "1.0 and 1.0 done. Data saved to lr/after/datas/temp/cci_result_1.0_1.0.pkl\n",
      "all_pair_number ---- 1200\n",
      "The cell pair number found between 2.0 and 1.0 is 1422\n",
      "per_exp-------(142852,)\n",
      "find ligand-recepotor pairs time-------------2\n",
      "receptor_gene---------2441\n",
      "lr_pair_sub---------(60232, 5)\n",
      "the number of valid pathway number between 2.0 and 1.0 is: 60232\n",
      "co_exp_ratio=-------(60232, 1)\n",
      "co_exp_value-------(60232, 1)\n",
      "co_exp_p-----(60232,)\n",
      "The ligand-recepotor pairs found between 2.0 and 1.0 with significant expression is 30587\n",
      "find significant expression ligand-recepotor pairs time-------------19\n",
      "find tf time-------------132\n",
      "tf------(333455, 6)\n",
      "path_score---(30587, 13)\n",
      "1.0 and 2.0 done. Data saved to lr/after/datas/temp/cci_result_2.0_1.0.pkl\n",
      "all_pair_number ---- 1200\n",
      "The cell pair number found between 1.0 and 2.0 is 1268\n",
      "per_exp-------(142852,)\n",
      "find ligand-recepotor pairs time-------------3\n",
      "receptor_gene---------2422\n",
      "lr_pair_sub---------(60729, 5)\n",
      "the number of valid pathway number between 1.0 and 2.0 is: 60729\n",
      "co_exp_ratio=-------(60729, 1)\n",
      "co_exp_value-------(60729, 1)\n",
      "co_exp_p-----(60729,)\n",
      "The ligand-recepotor pairs found between 1.0 and 2.0 with significant expression is 29264\n",
      "find significant expression ligand-recepotor pairs time-------------12\n",
      "find tf time-------------108\n",
      "tf------(829322, 6)\n",
      "path_score---(29264, 13)\n",
      "2.0 and 1.0 done. Data saved to lr/after/datas/temp/cci_result_1.0_2.0.pkl\n",
      "all_pair_number ---- 1200\n",
      "The cell pair number found between 2.0 and 2.0 is 2578\n",
      "per_exp-------(142852,)\n",
      "find ligand-recepotor pairs time-------------6\n",
      "receptor_gene---------2270\n",
      "lr_pair_sub---------(56706, 5)\n",
      "the number of valid pathway number between 2.0 and 2.0 is: 56706\n",
      "co_exp_ratio=-------(56706, 1)\n",
      "co_exp_value-------(56706, 1)\n",
      "co_exp_p-----(56706,)\n",
      "The ligand-recepotor pairs found between 2.0 and 2.0 with significant expression is 33314\n",
      "find significant expression ligand-recepotor pairs time-------------13\n",
      "find tf time-------------116\n",
      "tf------(959362, 6)\n",
      "path_score---(33314, 13)\n",
      "2.0 and 2.0 done. Data saved to lr/after/datas/temp/cci_result_2.0_2.0.pkl\n",
      "Total running time is 573 seconds\n",
      "finish 2\n",
      "7 4_0 right\n",
      "start spilting data\n",
      "View of AnnData object with n_obs × n_vars = 1000 × 8961\n",
      "    obs: 'batch', 'leiden'\n",
      "    obsm: 'meta'\n",
      "finish 1\n",
      "start filtering LRIs with spatial data\n",
      "reading data\n",
      "<bound method NDFrame.head of                   cell          x         y  cell_type\n",
      "0    cell1-0-1-0-0-0-0   6.075328  1.663968        1.0\n",
      "1    cell2-0-1-0-0-0-0   2.718012  6.883799        1.0\n",
      "2    cell3-0-1-0-0-0-0   3.592235  3.290633        1.0\n",
      "3    cell4-0-1-0-0-0-0   6.263617  9.143634        1.0\n",
      "4    cell5-0-1-0-0-0-0   4.884694  1.014029        1.0\n",
      "..                 ...        ...       ...        ...\n",
      "995    cell196-1-1-0-1   9.207182  8.112386        2.0\n",
      "996    cell197-1-1-0-1  12.661412  7.987338        2.0\n",
      "997    cell198-1-1-0-1  12.339630  3.525833        2.0\n",
      "998    cell199-1-1-0-1  10.001922  4.757707        2.0\n",
      "999    cell200-1-1-0-1   7.440846  1.781953        2.0\n",
      "\n",
      "[1000 rows x 4 columns]>\n",
      "DataFrame 中不存在名为 '_index' 的列。\n",
      "Index(['cell', 'x', 'y', 'cell_type'], dtype='object')\n",
      "st_gene_len----8961\n",
      "cell_name_list----1000\n",
      "reading data done\n",
      "The unique celltype list is [1.0, 2.0]\n",
      "knn done\n",
      "all_pair_number ---- 1000\n",
      "The cell pair number found between 1.0 and 1.0 is 7176\n",
      "per_exp-------(142852,)\n",
      "find ligand-recepotor pairs time-------------22\n",
      "receptor_gene---------2435\n",
      "lr_pair_sub---------(61373, 5)\n",
      "the number of valid pathway number between 1.0 and 1.0 is: 61373\n",
      "co_exp_ratio=-------(61373, 1)\n",
      "co_exp_value-------(61373, 1)\n",
      "co_exp_p-----(61373,)\n",
      "The ligand-recepotor pairs found between 1.0 and 1.0 with significant expression is 19023\n",
      "find significant expression ligand-recepotor pairs time-------------25\n",
      "find tf time-------------82\n",
      "tf------(214147, 6)\n",
      "path_score---(19023, 13)\n",
      "1.0 and 1.0 done. Data saved to lr/after/datas/temp/cci_result_1.0_1.0.pkl\n",
      "all_pair_number ---- 1000\n",
      "The cell pair number found between 2.0 and 1.0 is 1017\n",
      "per_exp-------(142852,)\n",
      "find ligand-recepotor pairs time-------------1\n",
      "receptor_gene---------2459\n",
      "lr_pair_sub---------(60712, 5)\n",
      "the number of valid pathway number between 2.0 and 1.0 is: 60712\n",
      "co_exp_ratio=-------(60712, 1)\n",
      "co_exp_value-------(60712, 1)\n",
      "co_exp_p-----(60712,)\n",
      "The ligand-recepotor pairs found between 2.0 and 1.0 with significant expression is 28268\n",
      "find significant expression ligand-recepotor pairs time-------------18\n",
      "find tf time-------------125\n",
      "tf------(304454, 6)\n",
      "path_score---(28268, 13)\n",
      "1.0 and 2.0 done. Data saved to lr/after/datas/temp/cci_result_2.0_1.0.pkl\n",
      "all_pair_number ---- 1000\n",
      "The cell pair number found between 1.0 and 2.0 is 824\n",
      "per_exp-------(142852,)\n",
      "find ligand-recepotor pairs time-------------1\n",
      "receptor_gene---------2912\n",
      "lr_pair_sub---------(68986, 5)\n",
      "the number of valid pathway number between 1.0 and 2.0 is: 68986\n",
      "co_exp_ratio=-------(68986, 1)\n",
      "co_exp_value-------(68986, 1)\n",
      "co_exp_p-----(68986,)\n",
      "The ligand-recepotor pairs found between 1.0 and 2.0 with significant expression is 38752\n",
      "find significant expression ligand-recepotor pairs time-------------17\n",
      "find tf time-------------163\n",
      "tf------(1413806, 6)\n",
      "path_score---(38752, 13)\n",
      "2.0 and 1.0 done. Data saved to lr/after/datas/temp/cci_result_1.0_2.0.pkl\n",
      "all_pair_number ---- 1000\n",
      "The cell pair number found between 2.0 and 2.0 is 983\n",
      "per_exp-------(142852,)\n",
      "find ligand-recepotor pairs time-------------2\n",
      "receptor_gene---------2781\n",
      "lr_pair_sub---------(67692, 5)\n",
      "the number of valid pathway number between 2.0 and 2.0 is: 67692\n",
      "co_exp_ratio=-------(67692, 1)\n",
      "co_exp_value-------(67692, 1)\n",
      "co_exp_p-----(67692,)\n",
      "The ligand-recepotor pairs found between 2.0 and 2.0 with significant expression is 35798\n",
      "find significant expression ligand-recepotor pairs time-------------15\n",
      "find tf time-------------143\n",
      "tf------(1229522, 6)\n",
      "path_score---(35791, 13)\n",
      "2.0 and 2.0 done. Data saved to lr/after/datas/temp/cci_result_2.0_2.0.pkl\n",
      "Total running time is 624 seconds\n",
      "finish 2\n",
      "7 0_3 right\n",
      "start spilting data\n",
      "View of AnnData object with n_obs × n_vars = 800 × 8787\n",
      "    obs: 'batch', 'leiden'\n",
      "    obsm: 'meta'\n",
      "finish 1\n",
      "start filtering LRIs with spatial data\n",
      "reading data\n",
      "<bound method NDFrame.head of                   cell          x         y  cell_type\n",
      "0    cell1-0-1-0-0-0-0   6.075328  1.663968        1.0\n",
      "1    cell2-0-1-0-0-0-0   2.718012  6.883799        1.0\n",
      "2    cell3-0-1-0-0-0-0   3.592235  3.290633        1.0\n",
      "3    cell4-0-1-0-0-0-0   6.263617  9.143634        1.0\n",
      "4    cell5-0-1-0-0-0-0   4.884694  1.014029        1.0\n",
      "..                 ...        ...       ...        ...\n",
      "795    cell196-1-1-0-1   9.207182  8.112386        2.0\n",
      "796    cell197-1-1-0-1  12.661412  7.987338        2.0\n",
      "797    cell198-1-1-0-1  12.339630  3.525833        2.0\n",
      "798    cell199-1-1-0-1  10.001922  4.757707        2.0\n",
      "799    cell200-1-1-0-1   7.440846  1.781953        2.0\n",
      "\n",
      "[800 rows x 4 columns]>\n",
      "DataFrame 中不存在名为 '_index' 的列。\n",
      "Index(['cell', 'x', 'y', 'cell_type'], dtype='object')\n",
      "st_gene_len----8787\n",
      "cell_name_list----800\n",
      "reading data done\n",
      "The unique celltype list is [1.0, 2.0]\n",
      "knn done\n",
      "all_pair_number ---- 800\n",
      "The cell pair number found between 1.0 and 1.0 is 2912\n",
      "per_exp-------(136871,)\n",
      "find ligand-recepotor pairs time-------------4\n",
      "receptor_gene---------1450\n",
      "lr_pair_sub---------(35659, 5)\n",
      "the number of valid pathway number between 1.0 and 1.0 is: 35659\n",
      "co_exp_ratio=-------(35659, 1)\n",
      "co_exp_value-------(35659, 1)\n",
      "co_exp_p-----(35659,)\n",
      "The ligand-recepotor pairs found between 1.0 and 1.0 with significant expression is 15850\n",
      "find significant expression ligand-recepotor pairs time-------------6\n",
      "find tf time-------------39\n",
      "tf------(175084, 6)\n",
      "path_score---(15850, 13)\n",
      "1.0 and 1.0 done. Data saved to lr/after/datas/temp/cci_result_1.0_1.0.pkl\n",
      "all_pair_number ---- 800\n",
      "The cell pair number found between 2.0 and 1.0 is 1094\n",
      "per_exp-------(136871,)\n",
      "find ligand-recepotor pairs time-------------1\n",
      "receptor_gene---------1499\n",
      "lr_pair_sub---------(37635, 5)\n",
      "the number of valid pathway number between 2.0 and 1.0 is: 37635\n",
      "co_exp_ratio=-------(37635, 1)\n",
      "co_exp_value-------(37635, 1)\n",
      "co_exp_p-----(37635,)\n",
      "The ligand-recepotor pairs found between 2.0 and 1.0 with significant expression is 22221\n",
      "find significant expression ligand-recepotor pairs time-------------5\n",
      "find tf time-------------56\n",
      "tf------(266305, 6)\n",
      "path_score---(22217, 13)\n",
      "1.0 and 2.0 done. Data saved to lr/after/datas/temp/cci_result_2.0_1.0.pkl\n",
      "all_pair_number ---- 800\n",
      "The cell pair number found between 1.0 and 2.0 is 1088\n",
      "per_exp-------(136871,)\n",
      "find ligand-recepotor pairs time-------------1\n",
      "receptor_gene---------2335\n",
      "lr_pair_sub---------(59462, 5)\n",
      "the number of valid pathway number between 1.0 and 2.0 is: 59462\n",
      "co_exp_ratio=-------(59462, 1)\n",
      "co_exp_value-------(59462, 1)\n",
      "co_exp_p-----(59462,)\n",
      "The ligand-recepotor pairs found between 1.0 and 2.0 with significant expression is 21766\n",
      "find significant expression ligand-recepotor pairs time-------------11\n",
      "find tf time-------------77\n",
      "tf------(611563, 6)\n",
      "path_score---(21766, 13)\n",
      "2.0 and 1.0 done. Data saved to lr/after/datas/temp/cci_result_1.0_2.0.pkl\n",
      "all_pair_number ---- 800\n",
      "The cell pair number found between 2.0 and 2.0 is 2906\n",
      "per_exp-------(136871,)\n",
      "find ligand-recepotor pairs time-------------5\n",
      "receptor_gene---------2239\n",
      "lr_pair_sub---------(55069, 5)\n",
      "the number of valid pathway number between 2.0 and 2.0 is: 55069\n",
      "co_exp_ratio=-------(55069, 1)\n",
      "co_exp_value-------(55069, 1)\n",
      "co_exp_p-----(55069,)\n",
      "The ligand-recepotor pairs found between 2.0 and 2.0 with significant expression is 33876\n",
      "find significant expression ligand-recepotor pairs time-------------13\n",
      "find tf time-------------118\n",
      "tf------(995052, 6)\n",
      "path_score---(33876, 13)\n",
      "2.0 and 2.0 done. Data saved to lr/after/datas/temp/cci_result_2.0_2.0.pkl\n",
      "Total running time is 346 seconds\n",
      "finish 2\n",
      "0_4 4_0 right\n",
      "start spilting data\n",
      "View of AnnData object with n_obs × n_vars = 600 × 8582\n",
      "    obs: 'batch', 'leiden'\n",
      "    obsm: 'meta'\n",
      "finish 1\n",
      "start filtering LRIs with spatial data\n",
      "reading data\n",
      "<bound method NDFrame.head of                   cell          x         y  cell_type\n",
      "0    cell1-0-1-0-0-0-0   6.075328  1.663968        1.0\n",
      "1    cell2-0-1-0-0-0-0   2.718012  6.883799        1.0\n",
      "2    cell3-0-1-0-0-0-0   3.592235  3.290633        1.0\n",
      "3    cell4-0-1-0-0-0-0   6.263617  9.143634        1.0\n",
      "4    cell5-0-1-0-0-0-0   4.884694  1.014029        1.0\n",
      "..                 ...        ...       ...        ...\n",
      "595    cell196-1-1-0-1   9.207182  8.112386        2.0\n",
      "596    cell197-1-1-0-1  12.661412  7.987338        2.0\n",
      "597    cell198-1-1-0-1  12.339630  3.525833        2.0\n",
      "598    cell199-1-1-0-1  10.001922  4.757707        2.0\n",
      "599    cell200-1-1-0-1   7.440846  1.781953        2.0\n",
      "\n",
      "[600 rows x 4 columns]>\n",
      "DataFrame 中不存在名为 '_index' 的列。\n",
      "Index(['cell', 'x', 'y', 'cell_type'], dtype='object')\n",
      "st_gene_len----8582\n",
      "cell_name_list----600\n",
      "reading data done\n",
      "The unique celltype list is [1.0, 2.0]\n",
      "knn done\n",
      "all_pair_number ---- 600\n",
      "The cell pair number found between 1.0 and 1.0 is 1180\n",
      "per_exp-------(131675,)\n",
      "find ligand-recepotor pairs time-------------1\n",
      "receptor_gene---------1117\n",
      "lr_pair_sub---------(27755, 5)\n",
      "the number of valid pathway number between 1.0 and 1.0 is: 27755\n",
      "co_exp_ratio=-------(27755, 1)\n",
      "co_exp_value-------(27755, 1)\n",
      "co_exp_p-----(27755,)\n",
      "The ligand-recepotor pairs found between 1.0 and 1.0 with significant expression is 8738\n",
      "find significant expression ligand-recepotor pairs time-------------4\n",
      "find tf time-------------19\n",
      "tf------(209417, 6)\n",
      "path_score---(8731, 13)\n",
      "1.0 and 1.0 done. Data saved to lr/after/datas/temp/cci_result_1.0_1.0.pkl\n",
      "all_pair_number ---- 600\n",
      "The cell pair number found between 2.0 and 1.0 is 742\n",
      "per_exp-------(131675,)\n",
      "find ligand-recepotor pairs time-------------1\n",
      "receptor_gene---------1171\n",
      "lr_pair_sub---------(32184, 5)\n",
      "the number of valid pathway number between 2.0 and 1.0 is: 32184\n",
      "co_exp_ratio=-------(32184, 1)\n",
      "co_exp_value-------(32184, 1)\n",
      "co_exp_p-----(32184,)\n",
      "The ligand-recepotor pairs found between 2.0 and 1.0 with significant expression is 10729\n",
      "find significant expression ligand-recepotor pairs time-------------4\n",
      "find tf time-------------23\n",
      "tf------(236660, 6)\n",
      "path_score---(10718, 13)\n",
      "1.0 and 2.0 done. Data saved to lr/after/datas/temp/cci_result_2.0_1.0.pkl\n",
      "all_pair_number ---- 600\n",
      "The cell pair number found between 1.0 and 2.0 is 820\n",
      "per_exp-------(131675,)\n",
      "find ligand-recepotor pairs time-------------1\n",
      "receptor_gene---------2261\n",
      "lr_pair_sub---------(55744, 5)\n",
      "the number of valid pathway number between 1.0 and 2.0 is: 55744\n",
      "co_exp_ratio=-------(55744, 1)\n",
      "co_exp_value-------(55744, 1)\n",
      "co_exp_p-----(55744,)\n",
      "The ligand-recepotor pairs found between 1.0 and 2.0 with significant expression is 10923\n",
      "find significant expression ligand-recepotor pairs time-------------10\n",
      "find tf time-------------36\n",
      "tf------(259600, 6)\n",
      "path_score---(10923, 13)\n",
      "2.0 and 1.0 done. Data saved to lr/after/datas/temp/cci_result_1.0_2.0.pkl\n",
      "all_pair_number ---- 600\n",
      "The cell pair number found between 2.0 and 2.0 is 3258\n",
      "per_exp-------(131675,)\n",
      "find ligand-recepotor pairs time-------------5\n",
      "receptor_gene---------2211\n",
      "lr_pair_sub---------(52634, 5)\n",
      "the number of valid pathway number between 2.0 and 2.0 is: 52634\n",
      "co_exp_ratio=-------(52634, 1)\n",
      "co_exp_value-------(52634, 1)\n",
      "co_exp_p-----(52634,)\n",
      "The ligand-recepotor pairs found between 2.0 and 2.0 with significant expression is 36429\n",
      "find significant expression ligand-recepotor pairs time-------------11\n",
      "find tf time-------------124\n",
      "tf------(1060411, 6)\n",
      "path_score---(36429, 13)\n",
      "2.0 and 2.0 done. Data saved to lr/after/datas/temp/cci_result_2.0_2.0.pkl\n",
      "Total running time is 248 seconds\n",
      "finish 2\n",
      "1_1 4_0 right\n",
      "start spilting data\n",
      "View of AnnData object with n_obs × n_vars = 800 × 8577\n",
      "    obs: 'batch', 'leiden'\n",
      "    obsm: 'meta'\n",
      "finish 1\n",
      "start filtering LRIs with spatial data\n",
      "reading data\n",
      "<bound method NDFrame.head of                 cell          x         y  cell_type\n",
      "0    cell1-0-1-0-0-0   6.075328  1.663968        1.0\n",
      "1    cell2-0-1-0-0-0   2.718012  6.883799        1.0\n",
      "2    cell3-0-1-0-0-0   3.592235  3.290633        1.0\n",
      "3    cell4-0-1-0-0-0   6.263617  9.143634        1.0\n",
      "4    cell5-0-1-0-0-0   4.884694  1.014029        1.0\n",
      "..               ...        ...       ...        ...\n",
      "795  cell196-1-1-0-1   9.207182  8.112386        2.0\n",
      "796  cell197-1-1-0-1  12.661412  7.987338        2.0\n",
      "797  cell198-1-1-0-1  12.339630  3.525833        2.0\n",
      "798  cell199-1-1-0-1  10.001922  4.757707        2.0\n",
      "799  cell200-1-1-0-1   7.440846  1.781953        2.0\n",
      "\n",
      "[800 rows x 4 columns]>\n",
      "DataFrame 中不存在名为 '_index' 的列。\n",
      "Index(['cell', 'x', 'y', 'cell_type'], dtype='object')\n",
      "st_gene_len----8577\n",
      "cell_name_list----800\n",
      "reading data done\n",
      "The unique celltype list is [1.0, 2.0]\n",
      "knn done\n",
      "all_pair_number ---- 800\n",
      "The cell pair number found between 1.0 and 1.0 is 2912\n",
      "per_exp-------(131732,)\n",
      "find ligand-recepotor pairs time-------------4\n",
      "receptor_gene---------1457\n",
      "lr_pair_sub---------(35636, 5)\n",
      "the number of valid pathway number between 1.0 and 1.0 is: 35636\n",
      "co_exp_ratio=-------(35636, 1)\n",
      "co_exp_value-------(35636, 1)\n",
      "co_exp_p-----(35636,)\n",
      "The ligand-recepotor pairs found between 1.0 and 1.0 with significant expression is 10452\n",
      "find significant expression ligand-recepotor pairs time-------------5\n",
      "find tf time-------------25\n",
      "tf------(196805, 6)\n",
      "path_score---(10452, 13)\n",
      "1.0 and 1.0 done. Data saved to lr/after/datas/temp/cci_result_1.0_1.0.pkl\n",
      "all_pair_number ---- 800\n",
      "The cell pair number found between 2.0 and 1.0 is 1094\n",
      "per_exp-------(131732,)\n",
      "find ligand-recepotor pairs time-------------1\n",
      "receptor_gene---------1512\n",
      "lr_pair_sub---------(37375, 5)\n",
      "the number of valid pathway number between 2.0 and 1.0 is: 37375\n",
      "co_exp_ratio=-------(37375, 1)\n",
      "co_exp_value-------(37375, 1)\n",
      "co_exp_p-----(37375,)\n",
      "The ligand-recepotor pairs found between 2.0 and 1.0 with significant expression is 20166\n",
      "find significant expression ligand-recepotor pairs time-------------5\n",
      "find tf time-------------50\n",
      "tf------(402389, 6)\n",
      "path_score---(20166, 13)\n",
      "1.0 and 2.0 done. Data saved to lr/after/datas/temp/cci_result_2.0_1.0.pkl\n",
      "all_pair_number ---- 800\n",
      "The cell pair number found between 1.0 and 2.0 is 1088\n",
      "per_exp-------(131732,)\n",
      "find ligand-recepotor pairs time-------------1\n",
      "receptor_gene---------2349\n",
      "lr_pair_sub---------(57694, 5)\n",
      "the number of valid pathway number between 1.0 and 2.0 is: 57694\n",
      "co_exp_ratio=-------(57694, 1)\n",
      "co_exp_value-------(57694, 1)\n",
      "co_exp_p-----(57694,)\n",
      "The ligand-recepotor pairs found between 1.0 and 2.0 with significant expression is 17045\n",
      "find significant expression ligand-recepotor pairs time-------------11\n",
      "find tf time-------------60\n",
      "tf------(452779, 6)\n",
      "path_score---(17045, 13)\n",
      "2.0 and 1.0 done. Data saved to lr/after/datas/temp/cci_result_1.0_2.0.pkl\n",
      "all_pair_number ---- 800\n",
      "The cell pair number found between 2.0 and 2.0 is 2906\n",
      "per_exp-------(131732,)\n",
      "find ligand-recepotor pairs time-------------4\n",
      "receptor_gene---------2215\n",
      "lr_pair_sub---------(53456, 5)\n",
      "the number of valid pathway number between 2.0 and 2.0 is: 53456\n",
      "co_exp_ratio=-------(53456, 1)\n",
      "co_exp_value-------(53456, 1)\n",
      "co_exp_p-----(53456,)\n",
      "The ligand-recepotor pairs found between 2.0 and 2.0 with significant expression is 34983\n",
      "find significant expression ligand-recepotor pairs time-------------11\n",
      "find tf time-------------122\n",
      "tf------(984987, 6)\n",
      "path_score---(34983, 13)\n",
      "2.0 and 2.0 done. Data saved to lr/after/datas/temp/cci_result_2.0_2.0.pkl\n",
      "Total running time is 310 seconds\n",
      "finish 2\n",
      "6 4_0 right\n",
      "start spilting data\n",
      "View of AnnData object with n_obs × n_vars = 600 × 8571\n",
      "    obs: 'batch', 'leiden'\n",
      "    obsm: 'meta'\n",
      "finish 1\n",
      "start filtering LRIs with spatial data\n",
      "reading data\n",
      "<bound method NDFrame.head of                 cell          x         y  cell_type\n",
      "0    cell1-0-1-0-0-0   6.075328  1.663968        1.0\n",
      "1    cell2-0-1-0-0-0   2.718012  6.883799        1.0\n",
      "2    cell3-0-1-0-0-0   3.592235  3.290633        1.0\n",
      "3    cell4-0-1-0-0-0   6.263617  9.143634        1.0\n",
      "4    cell5-0-1-0-0-0   4.884694  1.014029        1.0\n",
      "..               ...        ...       ...        ...\n",
      "595  cell196-1-1-0-1   9.207182  8.112386        2.0\n",
      "596  cell197-1-1-0-1  12.661412  7.987338        2.0\n",
      "597  cell198-1-1-0-1  12.339630  3.525833        2.0\n",
      "598  cell199-1-1-0-1  10.001922  4.757707        2.0\n",
      "599  cell200-1-1-0-1   7.440846  1.781953        2.0\n",
      "\n",
      "[600 rows x 4 columns]>\n",
      "DataFrame 中不存在名为 '_index' 的列。\n",
      "Index(['cell', 'x', 'y', 'cell_type'], dtype='object')\n",
      "st_gene_len----8571\n",
      "cell_name_list----600\n",
      "reading data done\n",
      "The unique celltype list is [1.0, 2.0]\n",
      "knn done\n",
      "all_pair_number ---- 600\n",
      "The cell pair number found between 1.0 and 1.0 is 1180\n",
      "per_exp-------(131596,)\n",
      "find ligand-recepotor pairs time-------------1\n",
      "receptor_gene---------1392\n",
      "lr_pair_sub---------(35954, 5)\n",
      "the number of valid pathway number between 1.0 and 1.0 is: 35954\n",
      "co_exp_ratio=-------(35954, 1)\n",
      "co_exp_value-------(35954, 1)\n",
      "co_exp_p-----(35954,)\n",
      "The ligand-recepotor pairs found between 1.0 and 1.0 with significant expression is 9867\n",
      "find significant expression ligand-recepotor pairs time-------------4\n",
      "find tf time-------------21\n",
      "tf------(264611, 6)\n",
      "path_score---(9821, 13)\n",
      "1.0 and 1.0 done. Data saved to lr/after/datas/temp/cci_result_1.0_1.0.pkl\n",
      "all_pair_number ---- 600\n",
      "The cell pair number found between 2.0 and 1.0 is 742\n",
      "per_exp-------(131596,)\n",
      "find ligand-recepotor pairs time-------------1\n",
      "receptor_gene---------1471\n",
      "lr_pair_sub---------(40481, 5)\n",
      "the number of valid pathway number between 2.0 and 1.0 is: 40481\n",
      "co_exp_ratio=-------(40481, 1)\n",
      "co_exp_value-------(40481, 1)\n",
      "co_exp_p-----(40481,)\n",
      "The ligand-recepotor pairs found between 2.0 and 1.0 with significant expression is 15879\n",
      "find significant expression ligand-recepotor pairs time-------------4\n",
      "find tf time-------------36\n",
      "tf------(407698, 6)\n",
      "path_score---(15873, 13)\n",
      "1.0 and 2.0 done. Data saved to lr/after/datas/temp/cci_result_2.0_1.0.pkl\n",
      "all_pair_number ---- 600\n",
      "The cell pair number found between 1.0 and 2.0 is 820\n",
      "per_exp-------(131596,)\n",
      "find ligand-recepotor pairs time-------------1\n",
      "receptor_gene---------2296\n",
      "lr_pair_sub---------(55714, 5)\n",
      "the number of valid pathway number between 1.0 and 2.0 is: 55714\n",
      "co_exp_ratio=-------(55714, 1)\n",
      "co_exp_value-------(55714, 1)\n",
      "co_exp_p-----(55714,)\n",
      "The ligand-recepotor pairs found between 1.0 and 2.0 with significant expression is 8989\n",
      "find significant expression ligand-recepotor pairs time-------------10\n",
      "find tf time-------------29\n",
      "tf------(221915, 6)\n",
      "path_score---(8989, 13)\n",
      "2.0 and 1.0 done. Data saved to lr/after/datas/temp/cci_result_1.0_2.0.pkl\n",
      "all_pair_number ---- 600\n",
      "The cell pair number found between 2.0 and 2.0 is 3258\n",
      "per_exp-------(131596,)\n",
      "find ligand-recepotor pairs time-------------5\n",
      "receptor_gene---------2212\n",
      "lr_pair_sub---------(52615, 5)\n",
      "the number of valid pathway number between 2.0 and 2.0 is: 52615\n",
      "co_exp_ratio=-------(52615, 1)\n",
      "co_exp_value-------(52615, 1)\n",
      "co_exp_p-----(52615,)\n",
      "The ligand-recepotor pairs found between 2.0 and 2.0 with significant expression is 35817\n",
      "find significant expression ligand-recepotor pairs time-------------12\n",
      "find tf time-------------122\n",
      "tf------(1060270, 6)\n",
      "path_score---(35817, 13)\n",
      "2.0 and 2.0 done. Data saved to lr/after/datas/temp/cci_result_2.0_2.0.pkl\n",
      "Total running time is 253 seconds\n",
      "finish 2\n",
      "3_2 4_0 right\n",
      "start spilting data\n",
      "View of AnnData object with n_obs × n_vars = 600 × 8402\n",
      "    obs: 'batch', 'leiden'\n",
      "    obsm: 'meta'\n",
      "finish 1\n",
      "start filtering LRIs with spatial data\n",
      "reading data\n",
      "<bound method NDFrame.head of                 cell          x         y  cell_type\n",
      "0      cell1-0-1-0-0   6.075328  1.663968        1.0\n",
      "1      cell2-0-1-0-0   2.718012  6.883799        1.0\n",
      "2      cell3-0-1-0-0   3.592235  3.290633        1.0\n",
      "3      cell4-0-1-0-0   6.263617  9.143634        1.0\n",
      "4      cell5-0-1-0-0   4.884694  1.014029        1.0\n",
      "..               ...        ...       ...        ...\n",
      "595  cell196-1-1-0-1   9.207182  8.112386        2.0\n",
      "596  cell197-1-1-0-1  12.661412  7.987338        2.0\n",
      "597  cell198-1-1-0-1  12.339630  3.525833        2.0\n",
      "598  cell199-1-1-0-1  10.001922  4.757707        2.0\n",
      "599  cell200-1-1-0-1   7.440846  1.781953        2.0\n",
      "\n",
      "[600 rows x 4 columns]>\n",
      "DataFrame 中不存在名为 '_index' 的列。\n",
      "Index(['cell', 'x', 'y', 'cell_type'], dtype='object')\n",
      "st_gene_len----8402\n",
      "cell_name_list----600\n",
      "reading data done\n",
      "The unique celltype list is [1.0, 2.0]\n",
      "knn done\n",
      "all_pair_number ---- 600\n",
      "The cell pair number found between 1.0 and 1.0 is 1180\n",
      "per_exp-------(125972,)\n",
      "find ligand-recepotor pairs time-------------1\n",
      "receptor_gene---------1296\n",
      "lr_pair_sub---------(31126, 5)\n",
      "the number of valid pathway number between 1.0 and 1.0 is: 31126\n",
      "co_exp_ratio=-------(31126, 1)\n",
      "co_exp_value-------(31126, 1)\n",
      "co_exp_p-----(31126,)\n",
      "The ligand-recepotor pairs found between 1.0 and 1.0 with significant expression is 4056\n",
      "find significant expression ligand-recepotor pairs time-------------3\n",
      "find tf time-------------8\n",
      "tf------(76493, 6)\n",
      "path_score---(4055, 13)\n",
      "1.0 and 1.0 done. Data saved to lr/after/datas/temp/cci_result_1.0_1.0.pkl\n",
      "all_pair_number ---- 600\n",
      "The cell pair number found between 2.0 and 1.0 is 742\n",
      "per_exp-------(125972,)\n",
      "find ligand-recepotor pairs time-------------1\n",
      "receptor_gene---------1364\n",
      "lr_pair_sub---------(31968, 5)\n",
      "the number of valid pathway number between 2.0 and 1.0 is: 31968\n",
      "co_exp_ratio=-------(31968, 1)\n",
      "co_exp_value-------(31968, 1)\n",
      "co_exp_p-----(31968,)\n",
      "The ligand-recepotor pairs found between 2.0 and 1.0 with significant expression is 12620\n",
      "find significant expression ligand-recepotor pairs time-------------3\n",
      "find tf time-------------26\n",
      "tf------(210063, 6)\n",
      "path_score---(12620, 13)\n",
      "1.0 and 2.0 done. Data saved to lr/after/datas/temp/cci_result_2.0_1.0.pkl\n",
      "all_pair_number ---- 600\n",
      "The cell pair number found between 1.0 and 2.0 is 820\n",
      "per_exp-------(125972,)\n",
      "find ligand-recepotor pairs time-------------1\n",
      "receptor_gene---------2242\n",
      "lr_pair_sub---------(53100, 5)\n",
      "the number of valid pathway number between 1.0 and 2.0 is: 53100\n",
      "co_exp_ratio=-------(53100, 1)\n",
      "co_exp_value-------(53100, 1)\n",
      "co_exp_p-----(53100,)\n",
      "The ligand-recepotor pairs found between 1.0 and 2.0 with significant expression is 9553\n",
      "find significant expression ligand-recepotor pairs time-------------9\n",
      "find tf time-------------31\n",
      "tf------(229663, 6)\n",
      "path_score---(9553, 13)\n",
      "2.0 and 1.0 done. Data saved to lr/after/datas/temp/cci_result_1.0_2.0.pkl\n",
      "all_pair_number ---- 600\n",
      "The cell pair number found between 2.0 and 2.0 is 3258\n",
      "per_exp-------(125972,)\n",
      "find ligand-recepotor pairs time-------------4\n",
      "receptor_gene---------2137\n",
      "lr_pair_sub---------(51459, 5)\n",
      "the number of valid pathway number between 2.0 and 2.0 is: 51459\n",
      "co_exp_ratio=-------(51459, 1)\n",
      "co_exp_value-------(51459, 1)\n",
      "co_exp_p-----(51459,)\n",
      "The ligand-recepotor pairs found between 2.0 and 2.0 with significant expression is 24735\n",
      "find significant expression ligand-recepotor pairs time-------------11\n",
      "find tf time-------------80\n",
      "tf------(637680, 6)\n",
      "path_score---(24735, 13)\n",
      "2.0 and 2.0 done. Data saved to lr/after/datas/temp/cci_result_2.0_2.0.pkl\n",
      "Total running time is 188 seconds\n",
      "finish 2\n",
      "4_3 4_0 right\n",
      "start spilting data\n",
      "View of AnnData object with n_obs × n_vars = 800 × 8801\n",
      "    obs: 'batch', 'leiden'\n",
      "    obsm: 'meta'\n",
      "finish 1\n",
      "start filtering LRIs with spatial data\n",
      "reading data\n",
      "<bound method NDFrame.head of                   cell          x         y  cell_type\n",
      "0    cell1-0-0-0-0-0-0   6.075328  1.663968        1.0\n",
      "1    cell2-0-0-0-0-0-0   2.718012  6.883799        1.0\n",
      "2    cell3-0-0-0-0-0-0   3.592235  3.290633        1.0\n",
      "3    cell4-0-0-0-0-0-0   6.263617  9.143634        1.0\n",
      "4    cell5-0-0-0-0-0-0   4.884694  1.014029        1.0\n",
      "..                 ...        ...       ...        ...\n",
      "795      cell196-1-1-1   9.207182  8.112386        2.0\n",
      "796      cell197-1-1-1  12.661412  7.987338        2.0\n",
      "797      cell198-1-1-1  12.339630  3.525833        2.0\n",
      "798      cell199-1-1-1  10.001922  4.757707        2.0\n",
      "799      cell200-1-1-1   7.440846  1.781953        2.0\n",
      "\n",
      "[800 rows x 4 columns]>\n",
      "DataFrame 中不存在名为 '_index' 的列。\n",
      "Index(['cell', 'x', 'y', 'cell_type'], dtype='object')\n",
      "st_gene_len----8801\n",
      "cell_name_list----800\n",
      "reading data done\n",
      "The unique celltype list is [1.0, 2.0]\n",
      "knn done\n",
      "all_pair_number ---- 800\n",
      "The cell pair number found between 1.0 and 1.0 is 1088\n",
      "per_exp-------(138293,)\n",
      "find ligand-recepotor pairs time-------------0\n",
      "receptor_gene---------0\n",
      "lr_pair_sub---------(0, 5)\n",
      "No ligand-recepotor pairs found between 1.0 and 1.0 because of no downstream transcriptional factors found for receptors!\n",
      "all_pair_number ---- 800\n",
      "The cell pair number found between 2.0 and 1.0 is 786\n",
      "per_exp-------(138293,)\n",
      "find ligand-recepotor pairs time-------------0\n",
      "receptor_gene---------0\n",
      "lr_pair_sub---------(0, 5)\n",
      "No ligand-recepotor pairs found between 2.0 and 1.0 because of no downstream transcriptional factors found for receptors!\n",
      "all_pair_number ---- 800\n",
      "The cell pair number found between 1.0 and 2.0 is 912\n",
      "per_exp-------(138293,)\n",
      "find ligand-recepotor pairs time-------------1\n",
      "receptor_gene---------3695\n",
      "lr_pair_sub---------(87125, 5)\n",
      "the number of valid pathway number between 1.0 and 2.0 is: 87125\n",
      "co_exp_ratio=-------(87125, 1)\n",
      "co_exp_value-------(87125, 1)\n",
      "co_exp_p-----(87125,)\n",
      "The ligand-recepotor pairs found between 1.0 and 2.0 with significant expression is 11274\n",
      "find significant expression ligand-recepotor pairs time-------------28\n",
      "find tf time-------------58\n",
      "tf------(496745, 6)\n",
      "path_score---(11274, 13)\n",
      "2.0 and 1.0 done. Data saved to lr/after/datas/temp/cci_result_1.0_2.0.pkl\n",
      "all_pair_number ---- 800\n",
      "The cell pair number found between 2.0 and 2.0 is 5214\n",
      "per_exp-------(138293,)\n",
      "find ligand-recepotor pairs time-------------21\n",
      "receptor_gene---------3657\n",
      "lr_pair_sub---------(85900, 5)\n",
      "the number of valid pathway number between 2.0 and 2.0 is: 85900\n",
      "co_exp_ratio=-------(85900, 1)\n",
      "co_exp_value-------(85900, 1)\n",
      "co_exp_p-----(85900,)\n",
      "The ligand-recepotor pairs found between 2.0 and 2.0 with significant expression is 70529\n",
      "find significant expression ligand-recepotor pairs time-------------32\n",
      "find tf time-------------355\n",
      "tf------(3002487, 6)\n",
      "path_score---(70524, 13)\n",
      "2.0 and 2.0 done. Data saved to lr/after/datas/temp/cci_result_2.0_2.0.pkl\n",
      "Total running time is 503 seconds\n",
      "finish 2\n",
      "2_0 2_4 right\n",
      "start spilting data\n",
      "View of AnnData object with n_obs × n_vars = 400 × 8416\n",
      "    obs: 'batch', 'leiden'\n",
      "    obsm: 'meta'\n",
      "finish 1\n",
      "start filtering LRIs with spatial data\n",
      "reading data\n",
      "<bound method NDFrame.head of                   cell          x         y  cell_type\n",
      "0    cell1-0-0-0-0-0-0   6.075328  1.663968        1.0\n",
      "1    cell2-0-0-0-0-0-0   2.718012  6.883799        1.0\n",
      "2    cell3-0-0-0-0-0-0   3.592235  3.290633        1.0\n",
      "3    cell4-0-0-0-0-0-0   6.263617  9.143634        1.0\n",
      "4    cell5-0-0-0-0-0-0   4.884694  1.014029        1.0\n",
      "..                 ...        ...       ...        ...\n",
      "395  cell196-1-1-0-0-1   9.207182  8.112386        2.0\n",
      "396  cell197-1-1-0-0-1  12.661412  7.987338        2.0\n",
      "397  cell198-1-1-0-0-1  12.339630  3.525833        2.0\n",
      "398  cell199-1-1-0-0-1  10.001922  4.757707        2.0\n",
      "399  cell200-1-1-0-0-1   7.440846  1.781953        2.0\n",
      "\n",
      "[400 rows x 4 columns]>\n",
      "DataFrame 中不存在名为 '_index' 的列。\n",
      "Index(['cell', 'x', 'y', 'cell_type'], dtype='object')\n",
      "st_gene_len----8416\n",
      "cell_name_list----400\n",
      "reading data done\n",
      "The unique celltype list is [1.0, 2.0]\n",
      "knn done\n",
      "all_pair_number ---- 400\n",
      "The cell pair number found between 1.0 and 1.0 is 1362\n",
      "per_exp-------(127361,)\n",
      "find ligand-recepotor pairs time-------------0\n",
      "receptor_gene---------0\n",
      "lr_pair_sub---------(0, 5)\n",
      "No ligand-recepotor pairs found between 1.0 and 1.0 because of no downstream transcriptional factors found for receptors!\n",
      "all_pair_number ---- 400\n",
      "The cell pair number found between 2.0 and 1.0 is 641\n",
      "per_exp-------(127361,)\n",
      "find ligand-recepotor pairs time-------------0\n",
      "receptor_gene---------0\n",
      "lr_pair_sub---------(0, 5)\n",
      "No ligand-recepotor pairs found between 2.0 and 1.0 because of no downstream transcriptional factors found for receptors!\n",
      "all_pair_number ---- 400\n",
      "The cell pair number found between 1.0 and 2.0 is 638\n",
      "per_exp-------(127361,)\n",
      "find ligand-recepotor pairs time-------------1\n",
      "receptor_gene---------2735\n",
      "lr_pair_sub---------(71015, 5)\n",
      "the number of valid pathway number between 1.0 and 2.0 is: 71015\n",
      "co_exp_ratio=-------(71015, 1)\n",
      "co_exp_value-------(71015, 1)\n",
      "co_exp_p-----(71015,)\n",
      "The ligand-recepotor pairs found between 1.0 and 2.0 with significant expression is 17026\n",
      "find significant expression ligand-recepotor pairs time-------------16\n",
      "find tf time-------------70\n",
      "tf------(728542, 6)\n",
      "path_score---(17020, 13)\n",
      "2.0 and 1.0 done. Data saved to lr/after/datas/temp/cci_result_1.0_2.0.pkl\n",
      "all_pair_number ---- 400\n",
      "The cell pair number found between 2.0 and 2.0 is 1359\n",
      "per_exp-------(127361,)\n",
      "find ligand-recepotor pairs time-------------2\n",
      "receptor_gene---------2730\n",
      "lr_pair_sub---------(69501, 5)\n",
      "the number of valid pathway number between 2.0 and 2.0 is: 69501\n",
      "co_exp_ratio=-------(69501, 1)\n",
      "co_exp_value-------(69501, 1)\n",
      "co_exp_p-----(69501,)\n",
      "The ligand-recepotor pairs found between 2.0 and 2.0 with significant expression is 46031\n",
      "find significant expression ligand-recepotor pairs time-------------17\n",
      "find tf time-------------195\n",
      "tf------(1905114, 6)\n",
      "path_score---(46007, 13)\n",
      "2.0 and 2.0 done. Data saved to lr/after/datas/temp/cci_result_2.0_2.0.pkl\n",
      "Total running time is 308 seconds\n",
      "finish 2\n",
      "2_0 1_2 right\n",
      "start spilting data\n",
      "View of AnnData object with n_obs × n_vars = 400 × 8421\n",
      "    obs: 'batch', 'leiden'\n",
      "    obsm: 'meta'\n",
      "finish 1\n",
      "start filtering LRIs with spatial data\n",
      "reading data\n",
      "<bound method NDFrame.head of                     cell          x         y  cell_type\n",
      "0      cell1-0-0-0-0-0-0   6.075328  1.663968        1.0\n",
      "1      cell2-0-0-0-0-0-0   2.718012  6.883799        1.0\n",
      "2      cell3-0-0-0-0-0-0   3.592235  3.290633        1.0\n",
      "3      cell4-0-0-0-0-0-0   6.263617  9.143634        1.0\n",
      "4      cell5-0-0-0-0-0-0   4.884694  1.014029        1.0\n",
      "..                   ...        ...       ...        ...\n",
      "395  cell196-1-1-0-0-0-1   9.207182  8.112386        2.0\n",
      "396  cell197-1-1-0-0-0-1  12.661412  7.987338        2.0\n",
      "397  cell198-1-1-0-0-0-1  12.339630  3.525833        2.0\n",
      "398  cell199-1-1-0-0-0-1  10.001922  4.757707        2.0\n",
      "399  cell200-1-1-0-0-0-1   7.440846  1.781953        2.0\n",
      "\n",
      "[400 rows x 4 columns]>\n",
      "DataFrame 中不存在名为 '_index' 的列。\n",
      "Index(['cell', 'x', 'y', 'cell_type'], dtype='object')\n",
      "st_gene_len----8421\n",
      "cell_name_list----400\n",
      "reading data done\n",
      "The unique celltype list is [1.0, 2.0]\n",
      "knn done\n",
      "all_pair_number ---- 400\n",
      "The cell pair number found between 1.0 and 1.0 is 1362\n",
      "per_exp-------(127292,)\n",
      "find ligand-recepotor pairs time-------------1\n",
      "receptor_gene---------1\n",
      "lr_pair_sub---------(0, 5)\n",
      "No ligand-recepotor pairs found between 1.0 and 1.0 because of no downstream transcriptional factors found for receptors!\n",
      "all_pair_number ---- 400\n",
      "The cell pair number found between 2.0 and 1.0 is 641\n",
      "per_exp-------(127292,)\n",
      "find ligand-recepotor pairs time-------------0\n",
      "receptor_gene---------1\n",
      "lr_pair_sub---------(0, 5)\n",
      "No ligand-recepotor pairs found between 2.0 and 1.0 because of no downstream transcriptional factors found for receptors!\n",
      "all_pair_number ---- 400\n",
      "The cell pair number found between 1.0 and 2.0 is 638\n",
      "per_exp-------(127292,)\n",
      "find ligand-recepotor pairs time-------------1\n",
      "receptor_gene---------2721\n",
      "lr_pair_sub---------(60217, 5)\n",
      "the number of valid pathway number between 1.0 and 2.0 is: 60217\n",
      "co_exp_ratio=-------(60217, 1)\n",
      "co_exp_value-------(60217, 1)\n",
      "co_exp_p-----(60217,)\n",
      "The ligand-recepotor pairs found between 1.0 and 2.0 with significant expression is 8421\n",
      "find significant expression ligand-recepotor pairs time-------------15\n",
      "find tf time-------------35\n",
      "tf------(331163, 6)\n",
      "path_score---(8411, 13)\n",
      "2.0 and 1.0 done. Data saved to lr/after/datas/temp/cci_result_1.0_2.0.pkl\n",
      "all_pair_number ---- 400\n",
      "The cell pair number found between 2.0 and 2.0 is 1359\n",
      "per_exp-------(127292,)\n",
      "find ligand-recepotor pairs time-------------2\n",
      "receptor_gene---------2675\n",
      "lr_pair_sub---------(59136, 5)\n",
      "the number of valid pathway number between 2.0 and 2.0 is: 59136\n",
      "co_exp_ratio=-------(59136, 1)\n",
      "co_exp_value-------(59136, 1)\n",
      "co_exp_p-----(59136,)\n",
      "The ligand-recepotor pairs found between 2.0 and 2.0 with significant expression is 45943\n",
      "find significant expression ligand-recepotor pairs time-------------16\n",
      "find tf time-------------185\n",
      "tf------(1649429, 6)\n",
      "path_score---(45685, 13)\n",
      "2.0 and 2.0 done. Data saved to lr/after/datas/temp/cci_result_2.0_2.0.pkl\n",
      "Total running time is 260 seconds\n",
      "finish 2\n",
      "2_0 3_1 right\n",
      "start spilting data\n",
      "View of AnnData object with n_obs × n_vars = 2000 × 8961\n",
      "    obs: 'batch', 'leiden'\n",
      "    obsm: 'meta'\n",
      "finish 1\n",
      "start filtering LRIs with spatial data\n",
      "reading data\n",
      "<bound method NDFrame.head of                    cell          x         y  cell_type\n",
      "0     cell1-0-0-0-0-0-0   6.075328  1.663968        1.0\n",
      "1     cell2-0-0-0-0-0-0   2.718012  6.883799        1.0\n",
      "2     cell3-0-0-0-0-0-0   3.592235  3.290633        1.0\n",
      "3     cell4-0-0-0-0-0-0   6.263617  9.143634        1.0\n",
      "4     cell5-0-0-0-0-0-0   4.884694  1.014029        1.0\n",
      "...                 ...        ...       ...        ...\n",
      "1995      cell196-1-1-1   9.207182  8.112386        2.0\n",
      "1996      cell197-1-1-1  12.661412  7.987338        2.0\n",
      "1997      cell198-1-1-1  12.339630  3.525833        2.0\n",
      "1998      cell199-1-1-1  10.001922  4.757707        2.0\n",
      "1999      cell200-1-1-1   7.440846  1.781953        2.0\n",
      "\n",
      "[2000 rows x 4 columns]>\n",
      "DataFrame 中不存在名为 '_index' 的列。\n",
      "Index(['cell', 'x', 'y', 'cell_type'], dtype='object')\n",
      "st_gene_len----8961\n",
      "cell_name_list----2000\n",
      "reading data done\n",
      "The unique celltype list is [1.0, 2.0]\n",
      "knn done\n",
      "all_pair_number ---- 2000\n",
      "The cell pair number found between 1.0 and 1.0 is 8180\n",
      "per_exp-------(142852,)\n",
      "find ligand-recepotor pairs time-------------22\n",
      "receptor_gene---------2289\n",
      "lr_pair_sub---------(59464, 5)\n",
      "the number of valid pathway number between 1.0 and 1.0 is: 59464\n",
      "co_exp_ratio=-------(59464, 1)\n",
      "co_exp_value-------(59464, 1)\n",
      "co_exp_p-----(59464,)\n",
      "The ligand-recepotor pairs found between 1.0 and 1.0 with significant expression is 1726\n",
      "find significant expression ligand-recepotor pairs time-------------21\n",
      "find tf time-------------7\n",
      "tf------(17127, 6)\n",
      "path_score---(1726, 13)\n",
      "1.0 and 1.0 done. Data saved to lr/after/datas/temp/cci_result_1.0_1.0.pkl\n",
      "all_pair_number ---- 2000\n",
      "The cell pair number found between 2.0 and 1.0 is 1825\n",
      "per_exp-------(142852,)\n",
      "find ligand-recepotor pairs time-------------2\n",
      "receptor_gene---------2316\n",
      "lr_pair_sub---------(59367, 5)\n",
      "the number of valid pathway number between 2.0 and 1.0 is: 59367\n",
      "co_exp_ratio=-------(59367, 1)\n",
      "co_exp_value-------(59367, 1)\n",
      "co_exp_p-----(59367,)\n",
      "The ligand-recepotor pairs found between 2.0 and 1.0 with significant expression is 22037\n",
      "find significant expression ligand-recepotor pairs time-------------18\n",
      "find tf time-------------93\n",
      "tf------(219138, 6)\n",
      "path_score---(22037, 13)\n",
      "1.0 and 2.0 done. Data saved to lr/after/datas/temp/cci_result_2.0_1.0.pkl\n",
      "all_pair_number ---- 2000\n",
      "The cell pair number found between 1.0 and 2.0 is 1820\n",
      "per_exp-------(142852,)\n",
      "find ligand-recepotor pairs time-------------3\n",
      "receptor_gene---------3718\n",
      "lr_pair_sub---------(96044, 5)\n",
      "the number of valid pathway number between 1.0 and 2.0 is: 96044\n",
      "co_exp_ratio=-------(96044, 1)\n",
      "co_exp_value-------(96044, 1)\n",
      "co_exp_p-----(96044,)\n",
      "The ligand-recepotor pairs found between 1.0 and 2.0 with significant expression is 25762\n",
      "find significant expression ligand-recepotor pairs time-------------33\n",
      "find tf time-------------150\n",
      "tf------(1151559, 6)\n",
      "path_score---(25762, 13)\n",
      "2.0 and 1.0 done. Data saved to lr/after/datas/temp/cci_result_1.0_2.0.pkl\n",
      "all_pair_number ---- 2000\n",
      "The cell pair number found between 2.0 and 2.0 is 8175\n",
      "per_exp-------(142852,)\n",
      "find ligand-recepotor pairs time-------------40\n",
      "receptor_gene---------3668\n",
      "lr_pair_sub---------(93553, 5)\n",
      "the number of valid pathway number between 2.0 and 2.0 is: 93553\n",
      "co_exp_ratio=-------(93553, 1)\n",
      "co_exp_value-------(93553, 1)\n",
      "co_exp_p-----(93553,)\n",
      "The ligand-recepotor pairs found between 2.0 and 2.0 with significant expression is 69139\n",
      "find significant expression ligand-recepotor pairs time-------------46\n",
      "find tf time-------------374\n",
      "tf------(2526181, 6)\n",
      "path_score---(69139, 13)\n",
      "2.0 and 2.0 done. Data saved to lr/after/datas/temp/cci_result_2.0_2.0.pkl\n",
      "Total running time is 820 seconds\n",
      "finish 2\n",
      "8 8 right\n",
      "start spilting data\n",
      "View of AnnData object with n_obs × n_vars = 1400 × 8961\n",
      "    obs: 'batch', 'leiden'\n",
      "    obsm: 'meta'\n",
      "finish 1\n",
      "start filtering LRIs with spatial data\n",
      "reading data\n",
      "<bound method NDFrame.head of                    cell          x         y  cell_type\n",
      "0     cell1-0-0-0-0-0-0   6.075328  1.663968        1.0\n",
      "1     cell2-0-0-0-0-0-0   2.718012  6.883799        1.0\n",
      "2     cell3-0-0-0-0-0-0   3.592235  3.290633        1.0\n",
      "3     cell4-0-0-0-0-0-0   6.263617  9.143634        1.0\n",
      "4     cell5-0-0-0-0-0-0   4.884694  1.014029        1.0\n",
      "...                 ...        ...       ...        ...\n",
      "1395    cell196-1-1-0-1   9.207182  8.112386        2.0\n",
      "1396    cell197-1-1-0-1  12.661412  7.987338        2.0\n",
      "1397    cell198-1-1-0-1  12.339630  3.525833        2.0\n",
      "1398    cell199-1-1-0-1  10.001922  4.757707        2.0\n",
      "1399    cell200-1-1-0-1   7.440846  1.781953        2.0\n",
      "\n",
      "[1400 rows x 4 columns]>\n",
      "DataFrame 中不存在名为 '_index' 的列。\n",
      "Index(['cell', 'x', 'y', 'cell_type'], dtype='object')\n",
      "st_gene_len----8961\n",
      "cell_name_list----1400\n",
      "reading data done\n",
      "The unique celltype list is [1.0, 2.0]\n",
      "knn done\n",
      "all_pair_number ---- 1400\n",
      "The cell pair number found between 1.0 and 1.0 is 8745\n",
      "per_exp-------(142852,)\n",
      "find ligand-recepotor pairs time-------------25\n",
      "receptor_gene---------2374\n",
      "lr_pair_sub---------(59956, 5)\n",
      "the number of valid pathway number between 1.0 and 1.0 is: 59956\n",
      "co_exp_ratio=-------(59956, 1)\n",
      "co_exp_value-------(59956, 1)\n",
      "co_exp_p-----(59956,)\n",
      "The ligand-recepotor pairs found between 1.0 and 1.0 with significant expression is 21093\n",
      "find significant expression ligand-recepotor pairs time-------------23\n",
      "find tf time-------------89\n",
      "tf------(224672, 6)\n",
      "path_score---(21093, 13)\n",
      "1.0 and 1.0 done. Data saved to lr/after/datas/temp/cci_result_1.0_1.0.pkl\n",
      "all_pair_number ---- 1400\n",
      "The cell pair number found between 2.0 and 1.0 is 1490\n",
      "per_exp-------(142852,)\n",
      "find ligand-recepotor pairs time-------------2\n",
      "receptor_gene---------2390\n",
      "lr_pair_sub---------(59879, 5)\n",
      "the number of valid pathway number between 2.0 and 1.0 is: 59879\n",
      "co_exp_ratio=-------(59879, 1)\n",
      "co_exp_value-------(59879, 1)\n",
      "co_exp_p-----(59879,)\n",
      "The ligand-recepotor pairs found between 2.0 and 1.0 with significant expression is 30008\n",
      "find significant expression ligand-recepotor pairs time-------------17\n",
      "find tf time-------------128\n",
      "tf------(316833, 6)\n",
      "path_score---(30008, 13)\n",
      "1.0 and 2.0 done. Data saved to lr/after/datas/temp/cci_result_2.0_1.0.pkl\n",
      "all_pair_number ---- 1400\n",
      "The cell pair number found between 1.0 and 2.0 is 1255\n",
      "per_exp-------(142852,)\n",
      "find ligand-recepotor pairs time-------------2\n",
      "receptor_gene---------2267\n",
      "lr_pair_sub---------(58722, 5)\n",
      "the number of valid pathway number between 1.0 and 2.0 is: 58722\n",
      "co_exp_ratio=-------(58722, 1)\n",
      "co_exp_value-------(58722, 1)\n",
      "co_exp_p-----(58722,)\n",
      "The ligand-recepotor pairs found between 1.0 and 2.0 with significant expression is 33810\n",
      "find significant expression ligand-recepotor pairs time-------------11\n",
      "find tf time-------------117\n",
      "tf------(814408, 6)\n",
      "path_score---(33809, 13)\n",
      "2.0 and 1.0 done. Data saved to lr/after/datas/temp/cci_result_1.0_2.0.pkl\n",
      "all_pair_number ---- 1400\n",
      "The cell pair number found between 2.0 and 2.0 is 2510\n",
      "per_exp-------(142852,)\n",
      "find ligand-recepotor pairs time-------------3\n",
      "receptor_gene---------2275\n",
      "lr_pair_sub---------(57166, 5)\n",
      "the number of valid pathway number between 2.0 and 2.0 is: 57166\n",
      "co_exp_ratio=-------(57166, 1)\n",
      "co_exp_value-------(57166, 1)\n",
      "co_exp_p-----(57166,)\n",
      "The ligand-recepotor pairs found between 2.0 and 2.0 with significant expression is 36552\n",
      "find significant expression ligand-recepotor pairs time-------------12\n",
      "find tf time-------------128\n",
      "tf------(1067505, 6)\n",
      "path_score---(36552, 13)\n",
      "2.0 and 2.0 done. Data saved to lr/after/datas/temp/cci_result_2.0_2.0.pkl\n",
      "Total running time is 568 seconds\n",
      "finish 2\n",
      "8 4_0 right\n",
      "start spilting data\n",
      "View of AnnData object with n_obs × n_vars = 1200 × 8961\n",
      "    obs: 'batch', 'leiden'\n",
      "    obsm: 'meta'\n",
      "finish 1\n",
      "start filtering LRIs with spatial data\n",
      "reading data\n",
      "<bound method NDFrame.head of                    cell          x         y  cell_type\n",
      "0     cell1-0-0-0-0-0-0   6.075328  1.663968        1.0\n",
      "1     cell2-0-0-0-0-0-0   2.718012  6.883799        1.0\n",
      "2     cell3-0-0-0-0-0-0   3.592235  3.290633        1.0\n",
      "3     cell4-0-0-0-0-0-0   6.263617  9.143634        1.0\n",
      "4     cell5-0-0-0-0-0-0   4.884694  1.014029        1.0\n",
      "...                 ...        ...       ...        ...\n",
      "1195    cell196-1-1-0-1   9.207182  8.112386        2.0\n",
      "1196    cell197-1-1-0-1  12.661412  7.987338        2.0\n",
      "1197    cell198-1-1-0-1  12.339630  3.525833        2.0\n",
      "1198    cell199-1-1-0-1  10.001922  4.757707        2.0\n",
      "1199    cell200-1-1-0-1   7.440846  1.781953        2.0\n",
      "\n",
      "[1200 rows x 4 columns]>\n",
      "DataFrame 中不存在名为 '_index' 的列。\n",
      "Index(['cell', 'x', 'y', 'cell_type'], dtype='object')\n",
      "st_gene_len----8961\n",
      "cell_name_list----1200\n",
      "reading data done\n",
      "The unique celltype list is [1.0, 2.0]\n",
      "knn done\n",
      "all_pair_number ---- 1200\n",
      "The cell pair number found between 1.0 and 1.0 is 9245\n",
      "per_exp-------(142852,)\n",
      "find ligand-recepotor pairs time-------------28\n",
      "receptor_gene---------2386\n",
      "lr_pair_sub---------(59956, 5)\n",
      "the number of valid pathway number between 1.0 and 1.0 is: 59956\n",
      "co_exp_ratio=-------(59956, 1)\n",
      "co_exp_value-------(59956, 1)\n",
      "co_exp_p-----(59956,)\n",
      "The ligand-recepotor pairs found between 1.0 and 1.0 with significant expression is 18583\n",
      "find significant expression ligand-recepotor pairs time-------------24\n",
      "find tf time-------------80\n",
      "tf------(203045, 6)\n",
      "path_score---(18583, 13)\n",
      "1.0 and 1.0 done. Data saved to lr/after/datas/temp/cci_result_1.0_1.0.pkl\n",
      "all_pair_number ---- 1200\n",
      "The cell pair number found between 2.0 and 1.0 is 1060\n",
      "per_exp-------(142852,)\n",
      "find ligand-recepotor pairs time-------------1\n",
      "receptor_gene---------2400\n",
      "lr_pair_sub---------(59811, 5)\n",
      "the number of valid pathway number between 2.0 and 1.0 is: 59811\n",
      "co_exp_ratio=-------(59811, 1)\n",
      "co_exp_value-------(59811, 1)\n",
      "co_exp_p-----(59811,)\n",
      "The ligand-recepotor pairs found between 2.0 and 1.0 with significant expression is 27472\n",
      "find significant expression ligand-recepotor pairs time-------------17\n",
      "find tf time-------------118\n",
      "tf------(282154, 6)\n",
      "path_score---(27472, 13)\n",
      "1.0 and 2.0 done. Data saved to lr/after/datas/temp/cci_result_2.0_1.0.pkl\n",
      "all_pair_number ---- 1200\n",
      "The cell pair number found between 1.0 and 2.0 is 755\n",
      "per_exp-------(142852,)\n",
      "find ligand-recepotor pairs time-------------1\n",
      "receptor_gene---------2812\n",
      "lr_pair_sub---------(69565, 5)\n",
      "the number of valid pathway number between 1.0 and 2.0 is: 69565\n",
      "co_exp_ratio=-------(69565, 1)\n",
      "co_exp_value-------(69565, 1)\n",
      "co_exp_p-----(69565,)\n",
      "The ligand-recepotor pairs found between 1.0 and 2.0 with significant expression is 38863\n",
      "find significant expression ligand-recepotor pairs time-------------16\n",
      "find tf time-------------159\n",
      "tf------(1443381, 6)\n",
      "path_score---(38863, 13)\n",
      "2.0 and 1.0 done. Data saved to lr/after/datas/temp/cci_result_1.0_2.0.pkl\n",
      "all_pair_number ---- 1200\n",
      "The cell pair number found between 2.0 and 2.0 is 940\n",
      "per_exp-------(142852,)\n",
      "find ligand-recepotor pairs time-------------2\n",
      "receptor_gene---------2768\n",
      "lr_pair_sub---------(66536, 5)\n",
      "the number of valid pathway number between 2.0 and 2.0 is: 66536\n",
      "co_exp_ratio=-------(66536, 1)\n",
      "co_exp_value-------(66536, 1)\n",
      "co_exp_p-----(66536,)\n",
      "The ligand-recepotor pairs found between 2.0 and 2.0 with significant expression is 38016\n",
      "find significant expression ligand-recepotor pairs time-------------15\n",
      "find tf time-------------154\n",
      "tf------(1293127, 6)\n",
      "path_score---(38009, 13)\n",
      "2.0 and 2.0 done. Data saved to lr/after/datas/temp/cci_result_2.0_2.0.pkl\n",
      "Total running time is 625 seconds\n",
      "finish 2\n",
      "8 0_3 right\n",
      "start spilting data\n",
      "View of AnnData object with n_obs × n_vars = 1600 × 8961\n",
      "    obs: 'batch', 'leiden'\n",
      "    obsm: 'meta'\n",
      "finish 1\n",
      "start filtering LRIs with spatial data\n",
      "reading data\n",
      "<bound method NDFrame.head of                    cell          x         y  cell_type\n",
      "0     cell1-0-0-0-0-0-0   6.075328  1.663968        1.0\n",
      "1     cell2-0-0-0-0-0-0   2.718012  6.883799        1.0\n",
      "2     cell3-0-0-0-0-0-0   3.592235  3.290633        1.0\n",
      "3     cell4-0-0-0-0-0-0   6.263617  9.143634        1.0\n",
      "4     cell5-0-0-0-0-0-0   4.884694  1.014029        1.0\n",
      "...                 ...        ...       ...        ...\n",
      "1595      cell196-1-1-1   9.207182  8.112386        2.0\n",
      "1596      cell197-1-1-1  12.661412  7.987338        2.0\n",
      "1597      cell198-1-1-1  12.339630  3.525833        2.0\n",
      "1598      cell199-1-1-1  10.001922  4.757707        2.0\n",
      "1599      cell200-1-1-1   7.440846  1.781953        2.0\n",
      "\n",
      "[1600 rows x 4 columns]>\n",
      "DataFrame 中不存在名为 '_index' 的列。\n",
      "Index(['cell', 'x', 'y', 'cell_type'], dtype='object')\n",
      "st_gene_len----8961\n",
      "cell_name_list----1600\n",
      "reading data done\n",
      "The unique celltype list is [1.0, 2.0]\n",
      "knn done\n",
      "all_pair_number ---- 1600\n",
      "The cell pair number found between 1.0 and 1.0 is 8450\n",
      "per_exp-------(142852,)\n",
      "find ligand-recepotor pairs time-------------22\n",
      "receptor_gene---------2298\n",
      "lr_pair_sub---------(59936, 5)\n",
      "the number of valid pathway number between 1.0 and 1.0 is: 59936\n",
      "co_exp_ratio=-------(59936, 1)\n",
      "co_exp_value-------(59936, 1)\n",
      "co_exp_p-----(59936,)\n",
      "The ligand-recepotor pairs found between 1.0 and 1.0 with significant expression is 9362\n",
      "find significant expression ligand-recepotor pairs time-------------22\n",
      "find tf time-------------38\n",
      "tf------(83830, 6)\n",
      "path_score---(9362, 13)\n",
      "1.0 and 1.0 done. Data saved to lr/after/datas/temp/cci_result_1.0_1.0.pkl\n",
      "all_pair_number ---- 1600\n",
      "The cell pair number found between 2.0 and 1.0 is 1767\n",
      "per_exp-------(142852,)\n",
      "find ligand-recepotor pairs time-------------2\n",
      "receptor_gene---------2320\n",
      "lr_pair_sub---------(59716, 5)\n",
      "the number of valid pathway number between 2.0 and 1.0 is: 59716\n",
      "co_exp_ratio=-------(59716, 1)\n",
      "co_exp_value-------(59716, 1)\n",
      "co_exp_p-----(59716,)\n",
      "The ligand-recepotor pairs found between 2.0 and 1.0 with significant expression is 21914\n",
      "find significant expression ligand-recepotor pairs time-------------17\n",
      "find tf time-------------91\n",
      "tf------(201088, 6)\n",
      "path_score---(21914, 13)\n",
      "1.0 and 2.0 done. Data saved to lr/after/datas/temp/cci_result_2.0_1.0.pkl\n",
      "all_pair_number ---- 1600\n",
      "The cell pair number found between 1.0 and 2.0 is 1550\n",
      "per_exp-------(142852,)\n",
      "find ligand-recepotor pairs time-------------3\n",
      "receptor_gene---------3672\n",
      "lr_pair_sub---------(88994, 5)\n",
      "the number of valid pathway number between 1.0 and 2.0 is: 88994\n",
      "co_exp_ratio=-------(88994, 1)\n",
      "co_exp_value-------(88994, 1)\n",
      "co_exp_p-----(88994,)\n",
      "The ligand-recepotor pairs found between 1.0 and 2.0 with significant expression is 39313\n",
      "find significant expression ligand-recepotor pairs time-------------27\n",
      "find tf time-------------212\n",
      "tf------(1813033, 6)\n",
      "path_score---(39310, 13)\n",
      "2.0 and 1.0 done. Data saved to lr/after/datas/temp/cci_result_1.0_2.0.pkl\n",
      "all_pair_number ---- 1600\n",
      "The cell pair number found between 2.0 and 2.0 is 4233\n",
      "per_exp-------(142852,)\n",
      "find ligand-recepotor pairs time-------------11\n",
      "receptor_gene---------3655\n",
      "lr_pair_sub---------(88545, 5)\n",
      "the number of valid pathway number between 2.0 and 2.0 is: 88545\n",
      "co_exp_ratio=-------(88545, 1)\n",
      "co_exp_value-------(88545, 1)\n",
      "co_exp_p-----(88545,)\n",
      "The ligand-recepotor pairs found between 2.0 and 2.0 with significant expression is 68940\n",
      "find significant expression ligand-recepotor pairs time-------------31\n",
      "find tf time-------------354\n",
      "tf------(2880801, 6)\n",
      "path_score---(68936, 13)\n",
      "2.0 and 2.0 done. Data saved to lr/after/datas/temp/cci_result_2.0_2.0.pkl\n",
      "Total running time is 842 seconds\n",
      "finish 2\n",
      "8 2_4 right\n",
      "start spilting data\n",
      "View of AnnData object with n_obs × n_vars = 1200 × 8961\n",
      "    obs: 'batch', 'leiden'\n",
      "    obsm: 'meta'\n",
      "finish 1\n",
      "start filtering LRIs with spatial data\n",
      "reading data\n",
      "<bound method NDFrame.head of                    cell          x         y  cell_type\n",
      "0     cell1-0-0-0-0-0-0   6.075328  1.663968        1.0\n",
      "1     cell2-0-0-0-0-0-0   2.718012  6.883799        1.0\n",
      "2     cell3-0-0-0-0-0-0   3.592235  3.290633        1.0\n",
      "3     cell4-0-0-0-0-0-0   6.263617  9.143634        1.0\n",
      "4     cell5-0-0-0-0-0-0   4.884694  1.014029        1.0\n",
      "...                 ...        ...       ...        ...\n",
      "1195  cell196-1-1-0-0-1   9.207182  8.112386        2.0\n",
      "1196  cell197-1-1-0-0-1  12.661412  7.987338        2.0\n",
      "1197  cell198-1-1-0-0-1  12.339630  3.525833        2.0\n",
      "1198  cell199-1-1-0-0-1  10.001922  4.757707        2.0\n",
      "1199  cell200-1-1-0-0-1   7.440846  1.781953        2.0\n",
      "\n",
      "[1200 rows x 4 columns]>\n",
      "DataFrame 中不存在名为 '_index' 的列。\n",
      "Index(['cell', 'x', 'y', 'cell_type'], dtype='object')\n",
      "st_gene_len----8961\n",
      "cell_name_list----1200\n",
      "reading data done\n",
      "The unique celltype list is [1.0, 2.0]\n",
      "knn done\n",
      "all_pair_number ---- 1200\n",
      "The cell pair number found between 1.0 and 1.0 is 9245\n",
      "per_exp-------(142852,)\n",
      "find ligand-recepotor pairs time-------------29\n",
      "receptor_gene---------2390\n",
      "lr_pair_sub---------(59956, 5)\n",
      "the number of valid pathway number between 1.0 and 1.0 is: 59956\n",
      "co_exp_ratio=-------(59956, 1)\n",
      "co_exp_value-------(59956, 1)\n",
      "co_exp_p-----(59956,)\n",
      "The ligand-recepotor pairs found between 1.0 and 1.0 with significant expression is 21452\n",
      "find significant expression ligand-recepotor pairs time-------------23\n",
      "find tf time-------------91\n",
      "tf------(175642, 6)\n",
      "path_score---(21452, 13)\n",
      "1.0 and 1.0 done. Data saved to lr/after/datas/temp/cci_result_1.0_1.0.pkl\n",
      "all_pair_number ---- 1200\n",
      "The cell pair number found between 2.0 and 1.0 is 1060\n",
      "per_exp-------(142852,)\n",
      "find ligand-recepotor pairs time-------------2\n",
      "receptor_gene---------2403\n",
      "lr_pair_sub---------(59811, 5)\n",
      "the number of valid pathway number between 2.0 and 1.0 is: 59811\n",
      "co_exp_ratio=-------(59811, 1)\n",
      "co_exp_value-------(59811, 1)\n",
      "co_exp_p-----(59811,)\n",
      "The ligand-recepotor pairs found between 2.0 and 1.0 with significant expression is 20067\n",
      "find significant expression ligand-recepotor pairs time-------------18\n",
      "find tf time-------------85\n",
      "tf------(185113, 6)\n",
      "path_score---(20067, 13)\n",
      "1.0 and 2.0 done. Data saved to lr/after/datas/temp/cci_result_2.0_1.0.pkl\n",
      "all_pair_number ---- 1200\n",
      "The cell pair number found between 1.0 and 2.0 is 755\n",
      "per_exp-------(142852,)\n",
      "find ligand-recepotor pairs time-------------1\n",
      "receptor_gene---------2771\n",
      "lr_pair_sub---------(74231, 5)\n",
      "the number of valid pathway number between 1.0 and 2.0 is: 74231\n",
      "co_exp_ratio=-------(74231, 1)\n",
      "co_exp_value-------(74231, 1)\n",
      "co_exp_p-----(74231,)\n",
      "The ligand-recepotor pairs found between 1.0 and 2.0 with significant expression is 43793\n",
      "find significant expression ligand-recepotor pairs time-------------15\n",
      "find tf time-------------187\n",
      "tf------(1922676, 6)\n",
      "path_score---(43790, 13)\n",
      "2.0 and 1.0 done. Data saved to lr/after/datas/temp/cci_result_1.0_2.0.pkl\n",
      "all_pair_number ---- 1200\n",
      "The cell pair number found between 2.0 and 2.0 is 940\n",
      "per_exp-------(142852,)\n",
      "find ligand-recepotor pairs time-------------2\n",
      "receptor_gene---------2799\n",
      "lr_pair_sub---------(71890, 5)\n",
      "the number of valid pathway number between 2.0 and 2.0 is: 71890\n",
      "co_exp_ratio=-------(71890, 1)\n",
      "co_exp_value-------(71890, 1)\n",
      "co_exp_p-----(71890,)\n",
      "The ligand-recepotor pairs found between 2.0 and 2.0 with significant expression is 33204\n",
      "find significant expression ligand-recepotor pairs time-------------16\n",
      "find tf time-------------137\n",
      "tf------(1426640, 6)\n",
      "path_score---(33193, 13)\n",
      "2.0 and 2.0 done. Data saved to lr/after/datas/temp/cci_result_2.0_2.0.pkl\n",
      "Total running time is 615 seconds\n",
      "finish 2\n",
      "8 1_2 right\n",
      "start spilting data\n",
      "View of AnnData object with n_obs × n_vars = 1200 × 8961\n",
      "    obs: 'batch', 'leiden'\n",
      "    obsm: 'meta'\n",
      "finish 1\n",
      "start filtering LRIs with spatial data\n",
      "reading data\n",
      "<bound method NDFrame.head of                      cell          x         y  cell_type\n",
      "0       cell1-0-0-0-0-0-0   6.075328  1.663968        1.0\n",
      "1       cell2-0-0-0-0-0-0   2.718012  6.883799        1.0\n",
      "2       cell3-0-0-0-0-0-0   3.592235  3.290633        1.0\n",
      "3       cell4-0-0-0-0-0-0   6.263617  9.143634        1.0\n",
      "4       cell5-0-0-0-0-0-0   4.884694  1.014029        1.0\n",
      "...                   ...        ...       ...        ...\n",
      "1195  cell196-1-1-0-0-0-1   9.207182  8.112386        2.0\n",
      "1196  cell197-1-1-0-0-0-1  12.661412  7.987338        2.0\n",
      "1197  cell198-1-1-0-0-0-1  12.339630  3.525833        2.0\n",
      "1198  cell199-1-1-0-0-0-1  10.001922  4.757707        2.0\n",
      "1199  cell200-1-1-0-0-0-1   7.440846  1.781953        2.0\n",
      "\n",
      "[1200 rows x 4 columns]>\n",
      "DataFrame 中不存在名为 '_index' 的列。\n",
      "Index(['cell', 'x', 'y', 'cell_type'], dtype='object')\n",
      "st_gene_len----8961\n",
      "cell_name_list----1200\n",
      "reading data done\n",
      "The unique celltype list is [1.0, 2.0]\n",
      "knn done\n",
      "all_pair_number ---- 1200\n",
      "The cell pair number found between 1.0 and 1.0 is 9245\n",
      "per_exp-------(142852,)\n",
      "find ligand-recepotor pairs time-------------25\n",
      "receptor_gene---------2389\n",
      "lr_pair_sub---------(59956, 5)\n",
      "the number of valid pathway number between 1.0 and 1.0 is: 59956\n",
      "co_exp_ratio=-------(59956, 1)\n",
      "co_exp_value-------(59956, 1)\n",
      "co_exp_p-----(59956,)\n",
      "The ligand-recepotor pairs found between 1.0 and 1.0 with significant expression is 19575\n",
      "find significant expression ligand-recepotor pairs time-------------24\n",
      "find tf time-------------82\n",
      "tf------(203832, 6)\n",
      "path_score---(19575, 13)\n",
      "1.0 and 1.0 done. Data saved to lr/after/datas/temp/cci_result_1.0_1.0.pkl\n",
      "all_pair_number ---- 1200\n",
      "The cell pair number found between 2.0 and 1.0 is 1060\n",
      "per_exp-------(142852,)\n",
      "find ligand-recepotor pairs time-------------1\n",
      "receptor_gene---------2403\n",
      "lr_pair_sub---------(59811, 5)\n",
      "the number of valid pathway number between 2.0 and 1.0 is: 59811\n",
      "co_exp_ratio=-------(59811, 1)\n",
      "co_exp_value-------(59811, 1)\n",
      "co_exp_p-----(59811,)\n",
      "The ligand-recepotor pairs found between 2.0 and 1.0 with significant expression is 26989\n",
      "find significant expression ligand-recepotor pairs time-------------18\n",
      "find tf time-------------115\n",
      "tf------(271521, 6)\n",
      "path_score---(26989, 13)\n",
      "1.0 and 2.0 done. Data saved to lr/after/datas/temp/cci_result_2.0_1.0.pkl\n",
      "all_pair_number ---- 1200\n",
      "The cell pair number found between 1.0 and 2.0 is 755\n",
      "per_exp-------(142852,)\n",
      "find ligand-recepotor pairs time-------------1\n",
      "receptor_gene---------2715\n",
      "lr_pair_sub---------(64124, 5)\n",
      "the number of valid pathway number between 1.0 and 2.0 is: 64124\n",
      "co_exp_ratio=-------(64124, 1)\n",
      "co_exp_value-------(64124, 1)\n",
      "co_exp_p-----(64124,)\n",
      "The ligand-recepotor pairs found between 1.0 and 2.0 with significant expression is 36645\n",
      "find significant expression ligand-recepotor pairs time-------------16\n",
      "find tf time-------------152\n",
      "tf------(1438833, 6)\n",
      "path_score---(36645, 13)\n",
      "2.0 and 1.0 done. Data saved to lr/after/datas/temp/cci_result_1.0_2.0.pkl\n",
      "all_pair_number ---- 1200\n",
      "The cell pair number found between 2.0 and 2.0 is 940\n",
      "per_exp-------(142852,)\n",
      "find ligand-recepotor pairs time-------------1\n",
      "receptor_gene---------2731\n",
      "lr_pair_sub---------(62581, 5)\n",
      "the number of valid pathway number between 2.0 and 2.0 is: 62581\n",
      "co_exp_ratio=-------(62581, 1)\n",
      "co_exp_value-------(62581, 1)\n",
      "co_exp_p-----(62581,)\n",
      "The ligand-recepotor pairs found between 2.0 and 2.0 with significant expression is 34825\n",
      "find significant expression ligand-recepotor pairs time-------------16\n",
      "find tf time-------------142\n",
      "tf------(1304096, 6)\n",
      "path_score---(34825, 13)\n",
      "2.0 and 2.0 done. Data saved to lr/after/datas/temp/cci_result_2.0_2.0.pkl\n",
      "Total running time is 603 seconds\n",
      "finish 2\n",
      "8 3_1 right\n",
      "start spilting data\n",
      "View of AnnData object with n_obs × n_vars = 1200 × 8961\n",
      "    obs: 'batch', 'leiden'\n",
      "    obsm: 'meta'\n",
      "finish 1\n",
      "start filtering LRIs with spatial data\n",
      "reading data\n",
      "<bound method NDFrame.head of                    cell          x         y  cell_type\n",
      "0     cell1-0-0-0-0-0-0   6.075328  1.663968        1.0\n",
      "1     cell2-0-0-0-0-0-0   2.718012  6.883799        1.0\n",
      "2     cell3-0-0-0-0-0-0   3.592235  3.290633        1.0\n",
      "3     cell4-0-0-0-0-0-0   6.263617  9.143634        1.0\n",
      "4     cell5-0-0-0-0-0-0   4.884694  1.014029        1.0\n",
      "...                 ...        ...       ...        ...\n",
      "1195      cell196-1-1-1   9.207182  8.112386        2.0\n",
      "1196      cell197-1-1-1  12.661412  7.987338        2.0\n",
      "1197      cell198-1-1-1  12.339630  3.525833        2.0\n",
      "1198      cell199-1-1-1  10.001922  4.757707        2.0\n",
      "1199      cell200-1-1-1   7.440846  1.781953        2.0\n",
      "\n",
      "[1200 rows x 4 columns]>\n",
      "DataFrame 中不存在名为 '_index' 的列。\n",
      "Index(['cell', 'x', 'y', 'cell_type'], dtype='object')\n",
      "st_gene_len----8961\n",
      "cell_name_list----1200\n",
      "reading data done\n",
      "The unique celltype list is [1.0, 2.0]\n",
      "knn done\n",
      "all_pair_number ---- 1200\n",
      "The cell pair number found between 1.0 and 1.0 is 981\n",
      "per_exp-------(142852,)\n",
      "find ligand-recepotor pairs time-------------0\n",
      "receptor_gene---------0\n",
      "lr_pair_sub---------(0, 5)\n",
      "No ligand-recepotor pairs found between 1.0 and 1.0 because of no downstream transcriptional factors found for receptors!\n",
      "all_pair_number ---- 1200\n",
      "The cell pair number found between 2.0 and 1.0 is 770\n",
      "per_exp-------(142852,)\n",
      "find ligand-recepotor pairs time-------------0\n",
      "receptor_gene---------0\n",
      "lr_pair_sub---------(0, 5)\n",
      "No ligand-recepotor pairs found between 2.0 and 1.0 because of no downstream transcriptional factors found for receptors!\n",
      "all_pair_number ---- 1200\n",
      "The cell pair number found between 1.0 and 2.0 is 1019\n",
      "per_exp-------(142852,)\n",
      "find ligand-recepotor pairs time-------------3\n",
      "receptor_gene---------3801\n",
      "lr_pair_sub---------(95146, 5)\n",
      "the number of valid pathway number between 1.0 and 2.0 is: 95146\n",
      "co_exp_ratio=-------(95146, 1)\n",
      "co_exp_value-------(95146, 1)\n",
      "co_exp_p-----(95146,)\n",
      "The ligand-recepotor pairs found between 1.0 and 2.0 with significant expression is 6966\n",
      "find significant expression ligand-recepotor pairs time-------------35\n",
      "find tf time-------------38\n",
      "tf------(267991, 6)\n",
      "path_score---(6966, 13)\n",
      "2.0 and 1.0 done. Data saved to lr/after/datas/temp/cci_result_1.0_2.0.pkl\n",
      "all_pair_number ---- 1200\n",
      "The cell pair number found between 2.0 and 2.0 is 9230\n",
      "per_exp-------(142852,)\n",
      "find ligand-recepotor pairs time-------------73\n",
      "receptor_gene---------3650\n",
      "lr_pair_sub---------(92778, 5)\n",
      "the number of valid pathway number between 2.0 and 2.0 is: 92778\n",
      "co_exp_ratio=-------(92778, 1)\n",
      "co_exp_value-------(92778, 1)\n",
      "co_exp_p-----(92778,)\n",
      "The ligand-recepotor pairs found between 2.0 and 2.0 with significant expression is 65032\n",
      "find significant expression ligand-recepotor pairs time-------------60\n",
      "find tf time-------------352\n",
      "tf------(2358935, 6)\n",
      "path_score---(65032, 13)\n",
      "2.0 and 2.0 done. Data saved to lr/after/datas/temp/cci_result_2.0_2.0.pkl\n",
      "Total running time is 568 seconds\n",
      "finish 2\n",
      "2_0 8 right\n",
      "start spilting data\n",
      "View of AnnData object with n_obs × n_vars = 1800 × 8961\n",
      "    obs: 'batch', 'leiden'\n",
      "    obsm: 'meta'\n",
      "finish 1\n",
      "start filtering LRIs with spatial data\n",
      "reading data\n",
      "<bound method NDFrame.head of                    cell          x         y  cell_type\n",
      "0     cell1-0-1-0-0-0-0   6.075328  1.663968        1.0\n",
      "1     cell2-0-1-0-0-0-0   2.718012  6.883799        1.0\n",
      "2     cell3-0-1-0-0-0-0   3.592235  3.290633        1.0\n",
      "3     cell4-0-1-0-0-0-0   6.263617  9.143634        1.0\n",
      "4     cell5-0-1-0-0-0-0   4.884694  1.014029        1.0\n",
      "...                 ...        ...       ...        ...\n",
      "1795      cell196-1-1-1   9.207182  8.112386        2.0\n",
      "1796      cell197-1-1-1  12.661412  7.987338        2.0\n",
      "1797      cell198-1-1-1  12.339630  3.525833        2.0\n",
      "1798      cell199-1-1-1  10.001922  4.757707        2.0\n",
      "1799      cell200-1-1-1   7.440846  1.781953        2.0\n",
      "\n",
      "[1800 rows x 4 columns]>\n",
      "DataFrame 中不存在名为 '_index' 的列。\n",
      "Index(['cell', 'x', 'y', 'cell_type'], dtype='object')\n",
      "st_gene_len----8961\n",
      "cell_name_list----1800\n",
      "reading data done\n",
      "The unique celltype list is [1.0, 2.0]\n",
      "knn done\n",
      "all_pair_number ---- 1800\n",
      "The cell pair number found between 1.0 and 1.0 is 6164\n",
      "per_exp-------(142852,)\n",
      "find ligand-recepotor pairs time-------------14\n",
      "receptor_gene---------2314\n",
      "lr_pair_sub---------(59974, 5)\n",
      "the number of valid pathway number between 1.0 and 1.0 is: 59974\n",
      "co_exp_ratio=-------(59974, 1)\n",
      "co_exp_value-------(59974, 1)\n",
      "co_exp_p-----(59974,)\n",
      "The ligand-recepotor pairs found between 1.0 and 1.0 with significant expression is 13937\n",
      "find significant expression ligand-recepotor pairs time-------------19\n",
      "find tf time-------------58\n",
      "tf------(144493, 6)\n",
      "path_score---(13937, 13)\n",
      "1.0 and 1.0 done. Data saved to lr/after/datas/temp/cci_result_1.0_1.0.pkl\n",
      "all_pair_number ---- 1800\n",
      "The cell pair number found between 2.0 and 1.0 is 1690\n",
      "per_exp-------(142852,)\n",
      "find ligand-recepotor pairs time-------------2\n",
      "receptor_gene---------2348\n",
      "lr_pair_sub---------(59419, 5)\n",
      "the number of valid pathway number between 2.0 and 1.0 is: 59419\n",
      "co_exp_ratio=-------(59419, 1)\n",
      "co_exp_value-------(59419, 1)\n",
      "co_exp_p-----(59419,)\n",
      "The ligand-recepotor pairs found between 2.0 and 1.0 with significant expression is 25720\n",
      "find significant expression ligand-recepotor pairs time-------------18\n",
      "find tf time-------------109\n",
      "tf------(277544, 6)\n",
      "path_score---(25720, 13)\n",
      "1.0 and 2.0 done. Data saved to lr/after/datas/temp/cci_result_2.0_1.0.pkl\n",
      "all_pair_number ---- 1800\n",
      "The cell pair number found between 1.0 and 2.0 is 1836\n",
      "per_exp-------(142852,)\n",
      "find ligand-recepotor pairs time-------------5\n",
      "receptor_gene---------3771\n",
      "lr_pair_sub---------(95000, 5)\n",
      "the number of valid pathway number between 1.0 and 2.0 is: 95000\n",
      "co_exp_ratio=-------(95000, 1)\n",
      "co_exp_value-------(95000, 1)\n",
      "co_exp_p-----(95000,)\n",
      "The ligand-recepotor pairs found between 1.0 and 2.0 with significant expression is 29072\n",
      "find significant expression ligand-recepotor pairs time-------------34\n",
      "find tf time-------------166\n",
      "tf------(1254424, 6)\n",
      "path_score---(29072, 13)\n",
      "2.0 and 1.0 done. Data saved to lr/after/datas/temp/cci_result_1.0_2.0.pkl\n",
      "all_pair_number ---- 1800\n",
      "The cell pair number found between 2.0 and 2.0 is 8310\n",
      "per_exp-------(142852,)\n",
      "find ligand-recepotor pairs time-------------55\n",
      "receptor_gene---------3636\n",
      "lr_pair_sub---------(92530, 5)\n",
      "the number of valid pathway number between 2.0 and 2.0 is: 92530\n",
      "co_exp_ratio=-------(92530, 1)\n",
      "co_exp_value-------(92530, 1)\n",
      "co_exp_p-----(92530,)\n",
      "The ligand-recepotor pairs found between 2.0 and 2.0 with significant expression is 54310\n",
      "find significant expression ligand-recepotor pairs time-------------56\n",
      "find tf time-------------294\n",
      "tf------(2027461, 6)\n",
      "path_score---(54310, 13)\n",
      "2.0 and 2.0 done. Data saved to lr/after/datas/temp/cci_result_2.0_2.0.pkl\n",
      "Total running time is 839 seconds\n",
      "finish 2\n",
      "7 8 right\n",
      "start spilting data\n",
      "View of AnnData object with n_obs × n_vars = 1400 × 8961\n",
      "    obs: 'batch', 'leiden'\n",
      "    obsm: 'meta'\n",
      "finish 1\n",
      "start filtering LRIs with spatial data\n",
      "reading data\n",
      "<bound method NDFrame.head of                    cell          x         y  cell_type\n",
      "0     cell1-0-1-0-0-0-0   6.075328  1.663968        1.0\n",
      "1     cell2-0-1-0-0-0-0   2.718012  6.883799        1.0\n",
      "2     cell3-0-1-0-0-0-0   3.592235  3.290633        1.0\n",
      "3     cell4-0-1-0-0-0-0   6.263617  9.143634        1.0\n",
      "4     cell5-0-1-0-0-0-0   4.884694  1.014029        1.0\n",
      "...                 ...        ...       ...        ...\n",
      "1395      cell196-1-1-1   9.207182  8.112386        2.0\n",
      "1396      cell197-1-1-1  12.661412  7.987338        2.0\n",
      "1397      cell198-1-1-1  12.339630  3.525833        2.0\n",
      "1398      cell199-1-1-1  10.001922  4.757707        2.0\n",
      "1399      cell200-1-1-1   7.440846  1.781953        2.0\n",
      "\n",
      "[1400 rows x 4 columns]>\n",
      "DataFrame 中不存在名为 '_index' 的列。\n",
      "Index(['cell', 'x', 'y', 'cell_type'], dtype='object')\n",
      "st_gene_len----8961\n",
      "cell_name_list----1400\n",
      "reading data done\n",
      "The unique celltype list is [1.0, 2.0]\n",
      "knn done\n",
      "all_pair_number ---- 1400\n",
      "The cell pair number found between 1.0 and 1.0 is 2508\n",
      "per_exp-------(142852,)\n",
      "find ligand-recepotor pairs time-------------3\n",
      "receptor_gene---------1388\n",
      "lr_pair_sub---------(35186, 5)\n",
      "the number of valid pathway number between 1.0 and 1.0 is: 35186\n",
      "co_exp_ratio=-------(35186, 1)\n",
      "co_exp_value-------(35186, 1)\n",
      "co_exp_p-----(35186,)\n",
      "The ligand-recepotor pairs found between 1.0 and 1.0 with significant expression is 11627\n",
      "find significant expression ligand-recepotor pairs time-------------5\n",
      "find tf time-------------27\n",
      "tf------(128863, 6)\n",
      "path_score---(11627, 13)\n",
      "1.0 and 1.0 done. Data saved to lr/after/datas/temp/cci_result_1.0_1.0.pkl\n",
      "all_pair_number ---- 1400\n",
      "The cell pair number found between 2.0 and 1.0 is 1280\n",
      "per_exp-------(142852,)\n",
      "find ligand-recepotor pairs time-------------2\n",
      "receptor_gene---------1434\n",
      "lr_pair_sub---------(36544, 5)\n",
      "the number of valid pathway number between 2.0 and 1.0 is: 36544\n",
      "co_exp_ratio=-------(36544, 1)\n",
      "co_exp_value-------(36544, 1)\n",
      "co_exp_p-----(36544,)\n",
      "The ligand-recepotor pairs found between 2.0 and 1.0 with significant expression is 25596\n",
      "find significant expression ligand-recepotor pairs time-------------5\n",
      "find tf time-------------61\n",
      "tf------(283261, 6)\n",
      "path_score---(25429, 13)\n",
      "1.0 and 2.0 done. Data saved to lr/after/datas/temp/cci_result_2.0_1.0.pkl\n",
      "all_pair_number ---- 1400\n",
      "The cell pair number found between 1.0 and 2.0 is 1492\n",
      "per_exp-------(142852,)\n",
      "find ligand-recepotor pairs time-------------4\n",
      "receptor_gene---------3781\n",
      "lr_pair_sub---------(95271, 5)\n",
      "the number of valid pathway number between 1.0 and 2.0 is: 95271\n",
      "co_exp_ratio=-------(95271, 1)\n",
      "co_exp_value-------(95271, 1)\n",
      "co_exp_p-----(95271,)\n",
      "The ligand-recepotor pairs found between 1.0 and 2.0 with significant expression is 22979\n",
      "find significant expression ligand-recepotor pairs time-------------33\n",
      "find tf time-------------127\n",
      "tf------(921779, 6)\n",
      "path_score---(22979, 13)\n",
      "2.0 and 1.0 done. Data saved to lr/after/datas/temp/cci_result_1.0_2.0.pkl\n",
      "all_pair_number ---- 1400\n",
      "The cell pair number found between 2.0 and 2.0 is 8720\n",
      "per_exp-------(142852,)\n",
      "find ligand-recepotor pairs time-------------63\n",
      "receptor_gene---------3650\n",
      "lr_pair_sub---------(93456, 5)\n",
      "the number of valid pathway number between 2.0 and 2.0 is: 93456\n",
      "co_exp_ratio=-------(93456, 1)\n",
      "co_exp_value-------(93456, 1)\n",
      "co_exp_p-----(93456,)\n",
      "The ligand-recepotor pairs found between 2.0 and 2.0 with significant expression is 48680\n",
      "find significant expression ligand-recepotor pairs time-------------56\n",
      "find tf time-------------268\n",
      "tf------(1883172, 6)\n",
      "path_score---(48680, 13)\n",
      "2.0 and 2.0 done. Data saved to lr/after/datas/temp/cci_result_2.0_2.0.pkl\n",
      "Total running time is 663 seconds\n",
      "finish 2\n",
      "0_4 8 right\n",
      "start spilting data\n",
      "View of AnnData object with n_obs × n_vars = 1200 × 8961\n",
      "    obs: 'batch', 'leiden'\n",
      "    obsm: 'meta'\n",
      "finish 1\n",
      "start filtering LRIs with spatial data\n",
      "reading data\n",
      "<bound method NDFrame.head of                    cell          x         y  cell_type\n",
      "0     cell1-0-1-0-0-0-0   6.075328  1.663968        1.0\n",
      "1     cell2-0-1-0-0-0-0   2.718012  6.883799        1.0\n",
      "2     cell3-0-1-0-0-0-0   3.592235  3.290633        1.0\n",
      "3     cell4-0-1-0-0-0-0   6.263617  9.143634        1.0\n",
      "4     cell5-0-1-0-0-0-0   4.884694  1.014029        1.0\n",
      "...                 ...        ...       ...        ...\n",
      "1195      cell196-1-1-1   9.207182  8.112386        2.0\n",
      "1196      cell197-1-1-1  12.661412  7.987338        2.0\n",
      "1197      cell198-1-1-1  12.339630  3.525833        2.0\n",
      "1198      cell199-1-1-1  10.001922  4.757707        2.0\n",
      "1199      cell200-1-1-1   7.440846  1.781953        2.0\n",
      "\n",
      "[1200 rows x 4 columns]>\n",
      "DataFrame 中不存在名为 '_index' 的列。\n",
      "Index(['cell', 'x', 'y', 'cell_type'], dtype='object')\n",
      "st_gene_len----8961\n",
      "cell_name_list----1200\n",
      "reading data done\n",
      "The unique celltype list is [1.0, 2.0]\n",
      "knn done\n",
      "all_pair_number ---- 1200\n",
      "The cell pair number found between 1.0 and 1.0 is 981\n",
      "per_exp-------(142852,)\n",
      "find ligand-recepotor pairs time-------------1\n",
      "receptor_gene---------1167\n",
      "lr_pair_sub---------(28972, 5)\n",
      "the number of valid pathway number between 1.0 and 1.0 is: 28972\n",
      "co_exp_ratio=-------(28972, 1)\n",
      "co_exp_value-------(28972, 1)\n",
      "co_exp_p-----(28972,)\n",
      "The ligand-recepotor pairs found between 1.0 and 1.0 with significant expression is 6794\n",
      "find significant expression ligand-recepotor pairs time-------------3\n",
      "find tf time-------------14\n",
      "tf------(158731, 6)\n",
      "path_score---(6787, 13)\n",
      "1.0 and 1.0 done. Data saved to lr/after/datas/temp/cci_result_1.0_1.0.pkl\n",
      "all_pair_number ---- 1200\n",
      "The cell pair number found between 2.0 and 1.0 is 770\n",
      "per_exp-------(142852,)\n",
      "find ligand-recepotor pairs time-------------1\n",
      "receptor_gene---------1191\n",
      "lr_pair_sub---------(33648, 5)\n",
      "the number of valid pathway number between 2.0 and 1.0 is: 33648\n",
      "co_exp_ratio=-------(33648, 1)\n",
      "co_exp_value-------(33648, 1)\n",
      "co_exp_p-----(33648,)\n",
      "The ligand-recepotor pairs found between 2.0 and 1.0 with significant expression is 12017\n",
      "find significant expression ligand-recepotor pairs time-------------5\n",
      "find tf time-------------27\n",
      "tf------(276596, 6)\n",
      "path_score---(12008, 13)\n",
      "1.0 and 2.0 done. Data saved to lr/after/datas/temp/cci_result_2.0_1.0.pkl\n",
      "all_pair_number ---- 1200\n",
      "The cell pair number found between 1.0 and 2.0 is 1019\n",
      "per_exp-------(142852,)\n",
      "find ligand-recepotor pairs time-------------3\n",
      "receptor_gene---------3779\n",
      "lr_pair_sub---------(95144, 5)\n",
      "the number of valid pathway number between 1.0 and 2.0 is: 95144\n",
      "co_exp_ratio=-------(95144, 1)\n",
      "co_exp_value-------(95144, 1)\n",
      "co_exp_p-----(95144,)\n",
      "The ligand-recepotor pairs found between 1.0 and 2.0 with significant expression is 17854\n",
      "find significant expression ligand-recepotor pairs time-------------32\n",
      "find tf time-------------98\n",
      "tf------(682365, 6)\n",
      "path_score---(17854, 13)\n",
      "2.0 and 1.0 done. Data saved to lr/after/datas/temp/cci_result_1.0_2.0.pkl\n",
      "all_pair_number ---- 1200\n",
      "The cell pair number found between 2.0 and 2.0 is 9230\n",
      "per_exp-------(142852,)\n",
      "find ligand-recepotor pairs time-------------67\n",
      "receptor_gene---------3627\n",
      "lr_pair_sub---------(92736, 5)\n",
      "the number of valid pathway number between 2.0 and 2.0 is: 92736\n",
      "co_exp_ratio=-------(92736, 1)\n",
      "co_exp_value-------(92736, 1)\n",
      "co_exp_p-----(92736,)\n",
      "The ligand-recepotor pairs found between 2.0 and 2.0 with significant expression is 48176\n",
      "find significant expression ligand-recepotor pairs time-------------59\n",
      "find tf time-------------263\n",
      "tf------(1762582, 6)\n",
      "path_score---(48176, 13)\n",
      "2.0 and 2.0 done. Data saved to lr/after/datas/temp/cci_result_2.0_2.0.pkl\n",
      "Total running time is 583 seconds\n",
      "finish 2\n",
      "1_1 8 right\n",
      "start spilting data\n",
      "View of AnnData object with n_obs × n_vars = 1400 × 8961\n",
      "    obs: 'batch', 'leiden'\n",
      "    obsm: 'meta'\n",
      "finish 1\n",
      "start filtering LRIs with spatial data\n",
      "reading data\n",
      "<bound method NDFrame.head of                  cell          x         y  cell_type\n",
      "0     cell1-0-1-0-0-0   6.075328  1.663968        1.0\n",
      "1     cell2-0-1-0-0-0   2.718012  6.883799        1.0\n",
      "2     cell3-0-1-0-0-0   3.592235  3.290633        1.0\n",
      "3     cell4-0-1-0-0-0   6.263617  9.143634        1.0\n",
      "4     cell5-0-1-0-0-0   4.884694  1.014029        1.0\n",
      "...               ...        ...       ...        ...\n",
      "1395    cell196-1-1-1   9.207182  8.112386        2.0\n",
      "1396    cell197-1-1-1  12.661412  7.987338        2.0\n",
      "1397    cell198-1-1-1  12.339630  3.525833        2.0\n",
      "1398    cell199-1-1-1  10.001922  4.757707        2.0\n",
      "1399    cell200-1-1-1   7.440846  1.781953        2.0\n",
      "\n",
      "[1400 rows x 4 columns]>\n",
      "DataFrame 中不存在名为 '_index' 的列。\n",
      "Index(['cell', 'x', 'y', 'cell_type'], dtype='object')\n",
      "st_gene_len----8961\n",
      "cell_name_list----1400\n",
      "reading data done\n",
      "The unique celltype list is [1.0, 2.0]\n",
      "knn done\n",
      "all_pair_number ---- 1400\n",
      "The cell pair number found between 1.0 and 1.0 is 2508\n",
      "per_exp-------(142852,)\n",
      "find ligand-recepotor pairs time-------------4\n",
      "receptor_gene---------1418\n",
      "lr_pair_sub---------(36297, 5)\n",
      "the number of valid pathway number between 1.0 and 1.0 is: 36297\n",
      "co_exp_ratio=-------(36297, 1)\n",
      "co_exp_value-------(36297, 1)\n",
      "co_exp_p-----(36297,)\n",
      "The ligand-recepotor pairs found between 1.0 and 1.0 with significant expression is 10991\n",
      "find significant expression ligand-recepotor pairs time-------------5\n",
      "find tf time-------------26\n",
      "tf------(192017, 6)\n",
      "path_score---(10991, 13)\n",
      "1.0 and 1.0 done. Data saved to lr/after/datas/temp/cci_result_1.0_1.0.pkl\n",
      "all_pair_number ---- 1400\n",
      "The cell pair number found between 2.0 and 1.0 is 1280\n",
      "per_exp-------(142852,)\n",
      "find ligand-recepotor pairs time-------------2\n",
      "receptor_gene---------1469\n",
      "lr_pair_sub---------(36541, 5)\n",
      "the number of valid pathway number between 2.0 and 1.0 is: 36541\n",
      "co_exp_ratio=-------(36541, 1)\n",
      "co_exp_value-------(36541, 1)\n",
      "co_exp_p-----(36541,)\n",
      "The ligand-recepotor pairs found between 2.0 and 1.0 with significant expression is 24849\n",
      "find significant expression ligand-recepotor pairs time-------------5\n",
      "find tf time-------------62\n",
      "tf------(487223, 6)\n",
      "path_score---(24849, 13)\n",
      "1.0 and 2.0 done. Data saved to lr/after/datas/temp/cci_result_2.0_1.0.pkl\n",
      "all_pair_number ---- 1400\n",
      "The cell pair number found between 1.0 and 2.0 is 1492\n",
      "per_exp-------(142852,)\n",
      "find ligand-recepotor pairs time-------------4\n",
      "receptor_gene---------3775\n",
      "lr_pair_sub---------(94439, 5)\n",
      "the number of valid pathway number between 1.0 and 2.0 is: 94439\n",
      "co_exp_ratio=-------(94439, 1)\n",
      "co_exp_value-------(94439, 1)\n",
      "co_exp_p-----(94439,)\n",
      "The ligand-recepotor pairs found between 1.0 and 2.0 with significant expression is 21730\n",
      "find significant expression ligand-recepotor pairs time-------------35\n",
      "find tf time-------------122\n",
      "tf------(867279, 6)\n",
      "path_score---(21730, 13)\n",
      "2.0 and 1.0 done. Data saved to lr/after/datas/temp/cci_result_1.0_2.0.pkl\n",
      "all_pair_number ---- 1400\n",
      "The cell pair number found between 2.0 and 2.0 is 8720\n",
      "per_exp-------(142852,)\n",
      "find ligand-recepotor pairs time-------------64\n",
      "receptor_gene---------3645\n",
      "lr_pair_sub---------(92581, 5)\n",
      "the number of valid pathway number between 2.0 and 2.0 is: 92581\n",
      "co_exp_ratio=-------(92581, 1)\n",
      "co_exp_value-------(92581, 1)\n",
      "co_exp_p-----(92581,)\n",
      "The ligand-recepotor pairs found between 2.0 and 2.0 with significant expression is 47805\n",
      "find significant expression ligand-recepotor pairs time-------------55\n",
      "find tf time-------------260\n",
      "tf------(1746450, 6)\n",
      "path_score---(47805, 13)\n",
      "2.0 and 2.0 done. Data saved to lr/after/datas/temp/cci_result_2.0_2.0.pkl\n",
      "Total running time is 653 seconds\n",
      "finish 2\n",
      "6 8 right\n",
      "start spilting data\n",
      "View of AnnData object with n_obs × n_vars = 1200 × 8955\n",
      "    obs: 'batch', 'leiden'\n",
      "    obsm: 'meta'\n",
      "finish 1\n",
      "start filtering LRIs with spatial data\n",
      "reading data\n",
      "<bound method NDFrame.head of                  cell          x         y  cell_type\n",
      "0     cell1-0-1-0-0-0   6.075328  1.663968        1.0\n",
      "1     cell2-0-1-0-0-0   2.718012  6.883799        1.0\n",
      "2     cell3-0-1-0-0-0   3.592235  3.290633        1.0\n",
      "3     cell4-0-1-0-0-0   6.263617  9.143634        1.0\n",
      "4     cell5-0-1-0-0-0   4.884694  1.014029        1.0\n",
      "...               ...        ...       ...        ...\n",
      "1195    cell196-1-1-1   9.207182  8.112386        2.0\n",
      "1196    cell197-1-1-1  12.661412  7.987338        2.0\n",
      "1197    cell198-1-1-1  12.339630  3.525833        2.0\n",
      "1198    cell199-1-1-1  10.001922  4.757707        2.0\n",
      "1199    cell200-1-1-1   7.440846  1.781953        2.0\n",
      "\n",
      "[1200 rows x 4 columns]>\n",
      "DataFrame 中不存在名为 '_index' 的列。\n",
      "Index(['cell', 'x', 'y', 'cell_type'], dtype='object')\n",
      "st_gene_len----8955\n",
      "cell_name_list----1200\n",
      "reading data done\n",
      "The unique celltype list is [1.0, 2.0]\n",
      "knn done\n",
      "all_pair_number ---- 1200\n",
      "The cell pair number found between 1.0 and 1.0 is 981\n",
      "per_exp-------(142709,)\n",
      "find ligand-recepotor pairs time-------------1\n",
      "receptor_gene---------1377\n",
      "lr_pair_sub---------(37178, 5)\n",
      "the number of valid pathway number between 1.0 and 1.0 is: 37178\n",
      "co_exp_ratio=-------(37178, 1)\n",
      "co_exp_value-------(37178, 1)\n",
      "co_exp_p-----(37178,)\n",
      "The ligand-recepotor pairs found between 1.0 and 1.0 with significant expression is 7036\n",
      "find significant expression ligand-recepotor pairs time-------------3\n",
      "find tf time-------------15\n",
      "tf------(178292, 6)\n",
      "path_score---(7013, 13)\n",
      "1.0 and 1.0 done. Data saved to lr/after/datas/temp/cci_result_1.0_1.0.pkl\n",
      "all_pair_number ---- 1200\n",
      "The cell pair number found between 2.0 and 1.0 is 770\n",
      "per_exp-------(142709,)\n",
      "find ligand-recepotor pairs time-------------1\n",
      "receptor_gene---------1472\n",
      "lr_pair_sub---------(40338, 5)\n",
      "the number of valid pathway number between 2.0 and 1.0 is: 40338\n",
      "co_exp_ratio=-------(40338, 1)\n",
      "co_exp_value-------(40338, 1)\n",
      "co_exp_p-----(40338,)\n",
      "The ligand-recepotor pairs found between 2.0 and 1.0 with significant expression is 17943\n",
      "find significant expression ligand-recepotor pairs time-------------4\n",
      "find tf time-------------41\n",
      "tf------(462077, 6)\n",
      "path_score---(17937, 13)\n",
      "1.0 and 2.0 done. Data saved to lr/after/datas/temp/cci_result_2.0_1.0.pkl\n",
      "all_pair_number ---- 1200\n",
      "The cell pair number found between 1.0 and 2.0 is 1019\n",
      "per_exp-------(142709,)\n",
      "find ligand-recepotor pairs time-------------3\n",
      "receptor_gene---------3793\n",
      "lr_pair_sub---------(94627, 5)\n",
      "the number of valid pathway number between 1.0 and 2.0 is: 94627\n",
      "co_exp_ratio=-------(94627, 1)\n",
      "co_exp_value-------(94627, 1)\n",
      "co_exp_p-----(94627,)\n",
      "The ligand-recepotor pairs found between 1.0 and 2.0 with significant expression is 13952\n",
      "find significant expression ligand-recepotor pairs time-------------32\n",
      "find tf time-------------78\n",
      "tf------(532414, 6)\n",
      "path_score---(13952, 13)\n",
      "2.0 and 1.0 done. Data saved to lr/after/datas/temp/cci_result_1.0_2.0.pkl\n",
      "all_pair_number ---- 1200\n",
      "The cell pair number found between 2.0 and 2.0 is 9230\n",
      "per_exp-------(142709,)\n",
      "find ligand-recepotor pairs time-------------69\n",
      "receptor_gene---------3642\n",
      "lr_pair_sub---------(92266, 5)\n",
      "the number of valid pathway number between 2.0 and 2.0 is: 92266\n",
      "co_exp_ratio=-------(92266, 1)\n",
      "co_exp_value-------(92266, 1)\n",
      "co_exp_p-----(92266,)\n",
      "The ligand-recepotor pairs found between 2.0 and 2.0 with significant expression is 47759\n",
      "find significant expression ligand-recepotor pairs time-------------60\n",
      "find tf time-------------259\n",
      "tf------(1731232, 6)\n",
      "path_score---(47759, 13)\n",
      "2.0 and 2.0 done. Data saved to lr/after/datas/temp/cci_result_2.0_2.0.pkl\n",
      "Total running time is 575 seconds\n",
      "finish 2\n",
      "3_2 8 right\n",
      "start spilting data\n",
      "View of AnnData object with n_obs × n_vars = 1200 × 8961\n",
      "    obs: 'batch', 'leiden'\n",
      "    obsm: 'meta'\n",
      "finish 1\n",
      "start filtering LRIs with spatial data\n",
      "reading data\n",
      "<bound method NDFrame.head of                cell          x         y  cell_type\n",
      "0     cell1-0-1-0-0   6.075328  1.663968        1.0\n",
      "1     cell2-0-1-0-0   2.718012  6.883799        1.0\n",
      "2     cell3-0-1-0-0   3.592235  3.290633        1.0\n",
      "3     cell4-0-1-0-0   6.263617  9.143634        1.0\n",
      "4     cell5-0-1-0-0   4.884694  1.014029        1.0\n",
      "...             ...        ...       ...        ...\n",
      "1195  cell196-1-1-1   9.207182  8.112386        2.0\n",
      "1196  cell197-1-1-1  12.661412  7.987338        2.0\n",
      "1197  cell198-1-1-1  12.339630  3.525833        2.0\n",
      "1198  cell199-1-1-1  10.001922  4.757707        2.0\n",
      "1199  cell200-1-1-1   7.440846  1.781953        2.0\n",
      "\n",
      "[1200 rows x 4 columns]>\n",
      "DataFrame 中不存在名为 '_index' 的列。\n",
      "Index(['cell', 'x', 'y', 'cell_type'], dtype='object')\n",
      "st_gene_len----8961\n",
      "cell_name_list----1200\n",
      "reading data done\n",
      "The unique celltype list is [1.0, 2.0]\n",
      "knn done\n",
      "all_pair_number ---- 1200\n",
      "The cell pair number found between 1.0 and 1.0 is 981\n",
      "per_exp-------(142852,)\n",
      "find ligand-recepotor pairs time-------------1\n",
      "receptor_gene---------1321\n",
      "lr_pair_sub---------(33153, 5)\n",
      "the number of valid pathway number between 1.0 and 1.0 is: 33153\n",
      "co_exp_ratio=-------(33153, 1)\n",
      "co_exp_value-------(33153, 1)\n",
      "co_exp_p-----(33153,)\n",
      "The ligand-recepotor pairs found between 1.0 and 1.0 with significant expression is 8400\n",
      "find significant expression ligand-recepotor pairs time-------------3\n",
      "find tf time-------------17\n",
      "tf------(156825, 6)\n",
      "path_score---(8400, 13)\n",
      "1.0 and 1.0 done. Data saved to lr/after/datas/temp/cci_result_1.0_1.0.pkl\n",
      "all_pair_number ---- 1200\n",
      "The cell pair number found between 2.0 and 1.0 is 770\n",
      "per_exp-------(142852,)\n",
      "find ligand-recepotor pairs time-------------1\n",
      "receptor_gene---------1449\n",
      "lr_pair_sub---------(36981, 5)\n",
      "the number of valid pathway number between 2.0 and 1.0 is: 36981\n",
      "co_exp_ratio=-------(36981, 1)\n",
      "co_exp_value-------(36981, 1)\n",
      "co_exp_p-----(36981,)\n",
      "The ligand-recepotor pairs found between 2.0 and 1.0 with significant expression is 14779\n",
      "find significant expression ligand-recepotor pairs time-------------4\n",
      "find tf time-------------31\n",
      "tf------(259314, 6)\n",
      "path_score---(14779, 13)\n",
      "1.0 and 2.0 done. Data saved to lr/after/datas/temp/cci_result_2.0_1.0.pkl\n",
      "all_pair_number ---- 1200\n",
      "The cell pair number found between 1.0 and 2.0 is 1019\n",
      "per_exp-------(142852,)\n",
      "find ligand-recepotor pairs time-------------3\n",
      "receptor_gene---------3801\n",
      "lr_pair_sub---------(95146, 5)\n",
      "the number of valid pathway number between 1.0 and 2.0 is: 95146\n",
      "co_exp_ratio=-------(95146, 1)\n",
      "co_exp_value-------(95146, 1)\n",
      "co_exp_p-----(95146,)\n",
      "The ligand-recepotor pairs found between 1.0 and 2.0 with significant expression is 18747\n",
      "find significant expression ligand-recepotor pairs time-------------32\n",
      "find tf time-------------103\n",
      "tf------(723850, 6)\n",
      "path_score---(18747, 13)\n",
      "2.0 and 1.0 done. Data saved to lr/after/datas/temp/cci_result_1.0_2.0.pkl\n",
      "all_pair_number ---- 1200\n",
      "The cell pair number found between 2.0 and 2.0 is 9230\n",
      "per_exp-------(142852,)\n",
      "find ligand-recepotor pairs time-------------72\n",
      "receptor_gene---------3649\n",
      "lr_pair_sub---------(92778, 5)\n",
      "the number of valid pathway number between 2.0 and 2.0 is: 92778\n",
      "co_exp_ratio=-------(92778, 1)\n",
      "co_exp_value-------(92778, 1)\n",
      "co_exp_p-----(92778,)\n",
      "The ligand-recepotor pairs found between 2.0 and 2.0 with significant expression is 46348\n",
      "find significant expression ligand-recepotor pairs time-------------59\n",
      "find tf time-------------251\n",
      "tf------(1700160, 6)\n",
      "path_score---(46348, 13)\n",
      "2.0 and 2.0 done. Data saved to lr/after/datas/temp/cci_result_2.0_2.0.pkl\n",
      "Total running time is 585 seconds\n",
      "finish 2\n",
      "4_3 8 right\n",
      "The mininum cost for alignment is 7.880060815705139\n",
      "The alignment edges list is [('7', '8'), ('6', '2_4'), ('4_3', '3_1'), ('3_2', '1_2'), ('0_4', '4_0'), ('1_1', '0_3')]\n"
     ]
    }
   ],
   "source": [
    "T=tree_alignment(nodes1[0],nodes2[0],1,True,datas1,datas2);\n",
    "minn = T.run_alignment();\n",
    "T.show_ans();"
   ]
  },
  {
   "cell_type": "code",
   "execution_count": 287,
   "metadata": {},
   "outputs": [
    {
     "name": "stdout",
     "output_type": "stream",
     "text": [
      "{'0': '#412b91', '4': '#7e1b8c', 'empty': '#fff', '2': '#250b1f', '1': '#658cea', '3': '#43040e'}\n"
     ]
    },
    {
     "data": {
      "application/vnd.plotly.v1+json": {
       "config": {
        "plotlyServerURL": "https://plot.ly"
       },
       "data": [
        {
         "hoverinfo": "text",
         "hovertext": [
          "connect Empty",
          "connect 0_4"
         ],
         "legendgroup": "0",
         "marker": {
          "color": "#412b91",
          "size": 35,
          "symbol": "circle-dot"
         },
         "mode": "markers+text",
         "name": "0",
         "text": [
          "2_0",
          "4_0"
         ],
         "textfont": {
          "color": "#000000",
          "family": "sans serif",
          "size": 15
         },
         "type": "scatter",
         "x": [
          5.75,
          22.75
         ],
         "y": [
          3.5,
          2
         ]
        },
        {
         "hoverinfo": "text",
         "hovertext": [
          "connect 4_0",
          "connect 6"
         ],
         "legendgroup": "4",
         "marker": {
          "color": "#7e1b8c",
          "size": 35,
          "symbol": "circle-dot"
         },
         "mode": "markers+text",
         "name": "4",
         "text": [
          "0_4",
          "2_4"
         ],
         "textfont": {
          "color": "#000000",
          "family": "sans serif",
          "size": 15
         },
         "type": "scatter",
         "x": [
          12.875,
          32.25
         ],
         "y": [
          2,
          2
         ]
        },
        {
         "hoverinfo": "text",
         "hovertext": [
          "connect Empty",
          "connect 8",
          "connect 2_4",
          "connect 7"
         ],
         "legendgroup": "empty",
         "marker": {
          "color": "#fff",
          "size": 35,
          "symbol": "circle-dot"
         },
         "mode": "markers+text",
         "name": "empty",
         "text": [
          "8",
          "7",
          "6",
          "8"
         ],
         "textfont": {
          "color": "#000000",
          "family": "sans serif",
          "size": 15
         },
         "type": "scatter",
         "x": [
          10.5,
          15.25,
          17.625,
          27.5
         ],
         "y": [
          5,
          3.5,
          2,
          3.5
         ]
        },
        {
         "hoverinfo": "text",
         "hovertext": [
          "connect 1_2",
          "connect 3_2"
         ],
         "legendgroup": "2",
         "marker": {
          "color": "#250b1f",
          "size": 35,
          "symbol": "circle-dot"
         },
         "mode": "markers+text",
         "name": "2",
         "text": [
          "3_2",
          "1_2"
         ],
         "textfont": {
          "color": "#000000",
          "family": "sans serif",
          "size": 15
         },
         "type": "scatter",
         "x": [
          16.4375,
          29.875
         ],
         "y": [
          0.5,
          0.5
         ]
        },
        {
         "hoverinfo": "text",
         "hovertext": [
          "connect 0_3",
          "connect 4_3"
         ],
         "legendgroup": "1",
         "marker": {
          "color": "#658cea",
          "size": 35,
          "symbol": "circle-dot"
         },
         "mode": "markers+text",
         "name": "1",
         "text": [
          "1_1",
          "3_1"
         ],
         "textfont": {
          "color": "#000000",
          "family": "sans serif",
          "size": 15
         },
         "type": "scatter",
         "x": [
          12.875,
          34.625
         ],
         "y": [
          0.5,
          0.5
         ]
        },
        {
         "hoverinfo": "text",
         "hovertext": [
          "connect 3_1",
          "connect 1_1"
         ],
         "legendgroup": "3",
         "marker": {
          "color": "#43040e",
          "size": 35,
          "symbol": "circle-dot"
         },
         "mode": "markers+text",
         "name": "3",
         "text": [
          "4_3",
          "0_3"
         ],
         "textfont": {
          "color": "#000000",
          "family": "sans serif",
          "size": 15
         },
         "type": "scatter",
         "x": [
          18.8125,
          22.75
         ],
         "y": [
          0.5,
          0.5
         ]
        }
       ],
       "layout": {
        "height": 500,
        "shapes": [
         {
          "layer": "below",
          "line": {
           "color": "#333",
           "width": 4
          },
          "type": "line",
          "x0": 10.5,
          "x1": 10.5,
          "y0": 5,
          "y1": 5
         },
         {
          "layer": "below",
          "line": {
           "color": "#333",
           "width": 4
          },
          "type": "line",
          "x0": 10.5,
          "x1": 5.75,
          "y0": 5,
          "y1": 3.5
         },
         {
          "layer": "below",
          "line": {
           "color": "#333",
           "width": 4
          },
          "type": "line",
          "x0": 10.5,
          "x1": 15.25,
          "y0": 5,
          "y1": 3.5
         },
         {
          "layer": "below",
          "line": {
           "color": "#333",
           "width": 4
          },
          "type": "line",
          "x0": 15.25,
          "x1": 12.875,
          "y0": 3.5,
          "y1": 2
         },
         {
          "layer": "below",
          "line": {
           "color": "#333",
           "width": 4
          },
          "type": "line",
          "x0": 12.875,
          "x1": 12.875,
          "y0": 2,
          "y1": 0.5
         },
         {
          "layer": "below",
          "line": {
           "color": "#333",
           "width": 4
          },
          "type": "line",
          "x0": 15.25,
          "x1": 17.625,
          "y0": 3.5,
          "y1": 2
         },
         {
          "layer": "below",
          "line": {
           "color": "#333",
           "width": 4
          },
          "type": "line",
          "x0": 17.625,
          "x1": 16.4375,
          "y0": 2,
          "y1": 0.5
         },
         {
          "layer": "below",
          "line": {
           "color": "#333",
           "width": 4
          },
          "type": "line",
          "x0": 17.625,
          "x1": 18.8125,
          "y0": 2,
          "y1": 0.5
         },
         {
          "layer": "below",
          "line": {
           "color": "#333",
           "width": 4
          },
          "type": "line",
          "x0": 27.5,
          "x1": 27.5,
          "y0": 3.5,
          "y1": 3.5
         },
         {
          "layer": "below",
          "line": {
           "color": "#333",
           "width": 4
          },
          "type": "line",
          "x0": 27.5,
          "x1": 22.75,
          "y0": 3.5,
          "y1": 2
         },
         {
          "layer": "below",
          "line": {
           "color": "#333",
           "width": 4
          },
          "type": "line",
          "x0": 22.75,
          "x1": 22.75,
          "y0": 2,
          "y1": 0.5
         },
         {
          "layer": "below",
          "line": {
           "color": "#333",
           "width": 4
          },
          "type": "line",
          "x0": 27.5,
          "x1": 32.25,
          "y0": 3.5,
          "y1": 2
         },
         {
          "layer": "below",
          "line": {
           "color": "#333",
           "width": 4
          },
          "type": "line",
          "x0": 32.25,
          "x1": 29.875,
          "y0": 2,
          "y1": 0.5
         },
         {
          "layer": "below",
          "line": {
           "color": "#333",
           "width": 4
          },
          "type": "line",
          "x0": 32.25,
          "x1": 34.625,
          "y0": 2,
          "y1": 0.5
         },
         {
          "layer": "below",
          "line": {
           "color": "#6175c1",
           "width": 4
          },
          "type": "line",
          "x0": 15.25,
          "x1": 27.5,
          "y0": 3.5,
          "y1": 3.5
         },
         {
          "layer": "below",
          "line": {
           "color": "#6175c1",
           "width": 4
          },
          "type": "line",
          "x0": 17.625,
          "x1": 32.25,
          "y0": 2,
          "y1": 2
         },
         {
          "layer": "below",
          "line": {
           "color": "#6175c1",
           "width": 4
          },
          "type": "line",
          "x0": 18.8125,
          "x1": 34.625,
          "y0": 0.5,
          "y1": 0.5
         },
         {
          "layer": "below",
          "line": {
           "color": "#6175c1",
           "width": 4
          },
          "type": "line",
          "x0": 16.4375,
          "x1": 29.875,
          "y0": 0.5,
          "y1": 0.5
         },
         {
          "layer": "below",
          "line": {
           "color": "#6175c1",
           "width": 4
          },
          "type": "line",
          "x0": 12.875,
          "x1": 22.75,
          "y0": 2,
          "y1": 2
         },
         {
          "layer": "below",
          "line": {
           "color": "#6175c1",
           "width": 4
          },
          "type": "line",
          "x0": 12.875,
          "x1": 22.75,
          "y0": 0.5,
          "y1": 0.5
         }
        ],
        "template": {
         "data": {
          "bar": [
           {
            "error_x": {
             "color": "#2a3f5f"
            },
            "error_y": {
             "color": "#2a3f5f"
            },
            "marker": {
             "line": {
              "color": "#E5ECF6",
              "width": 0.5
             },
             "pattern": {
              "fillmode": "overlay",
              "size": 10,
              "solidity": 0.2
             }
            },
            "type": "bar"
           }
          ],
          "barpolar": [
           {
            "marker": {
             "line": {
              "color": "#E5ECF6",
              "width": 0.5
             },
             "pattern": {
              "fillmode": "overlay",
              "size": 10,
              "solidity": 0.2
             }
            },
            "type": "barpolar"
           }
          ],
          "carpet": [
           {
            "aaxis": {
             "endlinecolor": "#2a3f5f",
             "gridcolor": "white",
             "linecolor": "white",
             "minorgridcolor": "white",
             "startlinecolor": "#2a3f5f"
            },
            "baxis": {
             "endlinecolor": "#2a3f5f",
             "gridcolor": "white",
             "linecolor": "white",
             "minorgridcolor": "white",
             "startlinecolor": "#2a3f5f"
            },
            "type": "carpet"
           }
          ],
          "choropleth": [
           {
            "colorbar": {
             "outlinewidth": 0,
             "ticks": ""
            },
            "type": "choropleth"
           }
          ],
          "contour": [
           {
            "colorbar": {
             "outlinewidth": 0,
             "ticks": ""
            },
            "colorscale": [
             [
              0,
              "#0d0887"
             ],
             [
              0.1111111111111111,
              "#46039f"
             ],
             [
              0.2222222222222222,
              "#7201a8"
             ],
             [
              0.3333333333333333,
              "#9c179e"
             ],
             [
              0.4444444444444444,
              "#bd3786"
             ],
             [
              0.5555555555555556,
              "#d8576b"
             ],
             [
              0.6666666666666666,
              "#ed7953"
             ],
             [
              0.7777777777777778,
              "#fb9f3a"
             ],
             [
              0.8888888888888888,
              "#fdca26"
             ],
             [
              1,
              "#f0f921"
             ]
            ],
            "type": "contour"
           }
          ],
          "contourcarpet": [
           {
            "colorbar": {
             "outlinewidth": 0,
             "ticks": ""
            },
            "type": "contourcarpet"
           }
          ],
          "heatmap": [
           {
            "colorbar": {
             "outlinewidth": 0,
             "ticks": ""
            },
            "colorscale": [
             [
              0,
              "#0d0887"
             ],
             [
              0.1111111111111111,
              "#46039f"
             ],
             [
              0.2222222222222222,
              "#7201a8"
             ],
             [
              0.3333333333333333,
              "#9c179e"
             ],
             [
              0.4444444444444444,
              "#bd3786"
             ],
             [
              0.5555555555555556,
              "#d8576b"
             ],
             [
              0.6666666666666666,
              "#ed7953"
             ],
             [
              0.7777777777777778,
              "#fb9f3a"
             ],
             [
              0.8888888888888888,
              "#fdca26"
             ],
             [
              1,
              "#f0f921"
             ]
            ],
            "type": "heatmap"
           }
          ],
          "heatmapgl": [
           {
            "colorbar": {
             "outlinewidth": 0,
             "ticks": ""
            },
            "colorscale": [
             [
              0,
              "#0d0887"
             ],
             [
              0.1111111111111111,
              "#46039f"
             ],
             [
              0.2222222222222222,
              "#7201a8"
             ],
             [
              0.3333333333333333,
              "#9c179e"
             ],
             [
              0.4444444444444444,
              "#bd3786"
             ],
             [
              0.5555555555555556,
              "#d8576b"
             ],
             [
              0.6666666666666666,
              "#ed7953"
             ],
             [
              0.7777777777777778,
              "#fb9f3a"
             ],
             [
              0.8888888888888888,
              "#fdca26"
             ],
             [
              1,
              "#f0f921"
             ]
            ],
            "type": "heatmapgl"
           }
          ],
          "histogram": [
           {
            "marker": {
             "pattern": {
              "fillmode": "overlay",
              "size": 10,
              "solidity": 0.2
             }
            },
            "type": "histogram"
           }
          ],
          "histogram2d": [
           {
            "colorbar": {
             "outlinewidth": 0,
             "ticks": ""
            },
            "colorscale": [
             [
              0,
              "#0d0887"
             ],
             [
              0.1111111111111111,
              "#46039f"
             ],
             [
              0.2222222222222222,
              "#7201a8"
             ],
             [
              0.3333333333333333,
              "#9c179e"
             ],
             [
              0.4444444444444444,
              "#bd3786"
             ],
             [
              0.5555555555555556,
              "#d8576b"
             ],
             [
              0.6666666666666666,
              "#ed7953"
             ],
             [
              0.7777777777777778,
              "#fb9f3a"
             ],
             [
              0.8888888888888888,
              "#fdca26"
             ],
             [
              1,
              "#f0f921"
             ]
            ],
            "type": "histogram2d"
           }
          ],
          "histogram2dcontour": [
           {
            "colorbar": {
             "outlinewidth": 0,
             "ticks": ""
            },
            "colorscale": [
             [
              0,
              "#0d0887"
             ],
             [
              0.1111111111111111,
              "#46039f"
             ],
             [
              0.2222222222222222,
              "#7201a8"
             ],
             [
              0.3333333333333333,
              "#9c179e"
             ],
             [
              0.4444444444444444,
              "#bd3786"
             ],
             [
              0.5555555555555556,
              "#d8576b"
             ],
             [
              0.6666666666666666,
              "#ed7953"
             ],
             [
              0.7777777777777778,
              "#fb9f3a"
             ],
             [
              0.8888888888888888,
              "#fdca26"
             ],
             [
              1,
              "#f0f921"
             ]
            ],
            "type": "histogram2dcontour"
           }
          ],
          "mesh3d": [
           {
            "colorbar": {
             "outlinewidth": 0,
             "ticks": ""
            },
            "type": "mesh3d"
           }
          ],
          "parcoords": [
           {
            "line": {
             "colorbar": {
              "outlinewidth": 0,
              "ticks": ""
             }
            },
            "type": "parcoords"
           }
          ],
          "pie": [
           {
            "automargin": true,
            "type": "pie"
           }
          ],
          "scatter": [
           {
            "fillpattern": {
             "fillmode": "overlay",
             "size": 10,
             "solidity": 0.2
            },
            "type": "scatter"
           }
          ],
          "scatter3d": [
           {
            "line": {
             "colorbar": {
              "outlinewidth": 0,
              "ticks": ""
             }
            },
            "marker": {
             "colorbar": {
              "outlinewidth": 0,
              "ticks": ""
             }
            },
            "type": "scatter3d"
           }
          ],
          "scattercarpet": [
           {
            "marker": {
             "colorbar": {
              "outlinewidth": 0,
              "ticks": ""
             }
            },
            "type": "scattercarpet"
           }
          ],
          "scattergeo": [
           {
            "marker": {
             "colorbar": {
              "outlinewidth": 0,
              "ticks": ""
             }
            },
            "type": "scattergeo"
           }
          ],
          "scattergl": [
           {
            "marker": {
             "colorbar": {
              "outlinewidth": 0,
              "ticks": ""
             }
            },
            "type": "scattergl"
           }
          ],
          "scattermapbox": [
           {
            "marker": {
             "colorbar": {
              "outlinewidth": 0,
              "ticks": ""
             }
            },
            "type": "scattermapbox"
           }
          ],
          "scatterpolar": [
           {
            "marker": {
             "colorbar": {
              "outlinewidth": 0,
              "ticks": ""
             }
            },
            "type": "scatterpolar"
           }
          ],
          "scatterpolargl": [
           {
            "marker": {
             "colorbar": {
              "outlinewidth": 0,
              "ticks": ""
             }
            },
            "type": "scatterpolargl"
           }
          ],
          "scatterternary": [
           {
            "marker": {
             "colorbar": {
              "outlinewidth": 0,
              "ticks": ""
             }
            },
            "type": "scatterternary"
           }
          ],
          "surface": [
           {
            "colorbar": {
             "outlinewidth": 0,
             "ticks": ""
            },
            "colorscale": [
             [
              0,
              "#0d0887"
             ],
             [
              0.1111111111111111,
              "#46039f"
             ],
             [
              0.2222222222222222,
              "#7201a8"
             ],
             [
              0.3333333333333333,
              "#9c179e"
             ],
             [
              0.4444444444444444,
              "#bd3786"
             ],
             [
              0.5555555555555556,
              "#d8576b"
             ],
             [
              0.6666666666666666,
              "#ed7953"
             ],
             [
              0.7777777777777778,
              "#fb9f3a"
             ],
             [
              0.8888888888888888,
              "#fdca26"
             ],
             [
              1,
              "#f0f921"
             ]
            ],
            "type": "surface"
           }
          ],
          "table": [
           {
            "cells": {
             "fill": {
              "color": "#EBF0F8"
             },
             "line": {
              "color": "white"
             }
            },
            "header": {
             "fill": {
              "color": "#C8D4E3"
             },
             "line": {
              "color": "white"
             }
            },
            "type": "table"
           }
          ]
         },
         "layout": {
          "annotationdefaults": {
           "arrowcolor": "#2a3f5f",
           "arrowhead": 0,
           "arrowwidth": 1
          },
          "autotypenumbers": "strict",
          "coloraxis": {
           "colorbar": {
            "outlinewidth": 0,
            "ticks": ""
           }
          },
          "colorscale": {
           "diverging": [
            [
             0,
             "#8e0152"
            ],
            [
             0.1,
             "#c51b7d"
            ],
            [
             0.2,
             "#de77ae"
            ],
            [
             0.3,
             "#f1b6da"
            ],
            [
             0.4,
             "#fde0ef"
            ],
            [
             0.5,
             "#f7f7f7"
            ],
            [
             0.6,
             "#e6f5d0"
            ],
            [
             0.7,
             "#b8e186"
            ],
            [
             0.8,
             "#7fbc41"
            ],
            [
             0.9,
             "#4d9221"
            ],
            [
             1,
             "#276419"
            ]
           ],
           "sequential": [
            [
             0,
             "#0d0887"
            ],
            [
             0.1111111111111111,
             "#46039f"
            ],
            [
             0.2222222222222222,
             "#7201a8"
            ],
            [
             0.3333333333333333,
             "#9c179e"
            ],
            [
             0.4444444444444444,
             "#bd3786"
            ],
            [
             0.5555555555555556,
             "#d8576b"
            ],
            [
             0.6666666666666666,
             "#ed7953"
            ],
            [
             0.7777777777777778,
             "#fb9f3a"
            ],
            [
             0.8888888888888888,
             "#fdca26"
            ],
            [
             1,
             "#f0f921"
            ]
           ],
           "sequentialminus": [
            [
             0,
             "#0d0887"
            ],
            [
             0.1111111111111111,
             "#46039f"
            ],
            [
             0.2222222222222222,
             "#7201a8"
            ],
            [
             0.3333333333333333,
             "#9c179e"
            ],
            [
             0.4444444444444444,
             "#bd3786"
            ],
            [
             0.5555555555555556,
             "#d8576b"
            ],
            [
             0.6666666666666666,
             "#ed7953"
            ],
            [
             0.7777777777777778,
             "#fb9f3a"
            ],
            [
             0.8888888888888888,
             "#fdca26"
            ],
            [
             1,
             "#f0f921"
            ]
           ]
          },
          "colorway": [
           "#636efa",
           "#EF553B",
           "#00cc96",
           "#ab63fa",
           "#FFA15A",
           "#19d3f3",
           "#FF6692",
           "#B6E880",
           "#FF97FF",
           "#FECB52"
          ],
          "font": {
           "color": "#2a3f5f"
          },
          "geo": {
           "bgcolor": "white",
           "lakecolor": "white",
           "landcolor": "#E5ECF6",
           "showlakes": true,
           "showland": true,
           "subunitcolor": "white"
          },
          "hoverlabel": {
           "align": "left"
          },
          "hovermode": "closest",
          "mapbox": {
           "style": "light"
          },
          "paper_bgcolor": "white",
          "plot_bgcolor": "#E5ECF6",
          "polar": {
           "angularaxis": {
            "gridcolor": "white",
            "linecolor": "white",
            "ticks": ""
           },
           "bgcolor": "#E5ECF6",
           "radialaxis": {
            "gridcolor": "white",
            "linecolor": "white",
            "ticks": ""
           }
          },
          "scene": {
           "xaxis": {
            "backgroundcolor": "#E5ECF6",
            "gridcolor": "white",
            "gridwidth": 2,
            "linecolor": "white",
            "showbackground": true,
            "ticks": "",
            "zerolinecolor": "white"
           },
           "yaxis": {
            "backgroundcolor": "#E5ECF6",
            "gridcolor": "white",
            "gridwidth": 2,
            "linecolor": "white",
            "showbackground": true,
            "ticks": "",
            "zerolinecolor": "white"
           },
           "zaxis": {
            "backgroundcolor": "#E5ECF6",
            "gridcolor": "white",
            "gridwidth": 2,
            "linecolor": "white",
            "showbackground": true,
            "ticks": "",
            "zerolinecolor": "white"
           }
          },
          "shapedefaults": {
           "line": {
            "color": "#2a3f5f"
           }
          },
          "ternary": {
           "aaxis": {
            "gridcolor": "white",
            "linecolor": "white",
            "ticks": ""
           },
           "baxis": {
            "gridcolor": "white",
            "linecolor": "white",
            "ticks": ""
           },
           "bgcolor": "#E5ECF6",
           "caxis": {
            "gridcolor": "white",
            "linecolor": "white",
            "ticks": ""
           }
          },
          "title": {
           "x": 0.05
          },
          "xaxis": {
           "automargin": true,
           "gridcolor": "white",
           "linecolor": "white",
           "ticks": "",
           "title": {
            "standoff": 15
           },
           "zerolinecolor": "white",
           "zerolinewidth": 2
          },
          "yaxis": {
           "automargin": true,
           "gridcolor": "white",
           "linecolor": "white",
           "ticks": "",
           "title": {
            "standoff": 15
           },
           "zerolinecolor": "white",
           "zerolinewidth": 2
          }
         }
        },
        "width": 1000,
        "xaxis": {
         "showgrid": false,
         "showline": false,
         "showticklabels": false,
         "zeroline": false
        },
        "yaxis": {
         "showgrid": false,
         "showline": false,
         "showticklabels": false,
         "zeroline": false
        }
       }
      }
     },
     "metadata": {},
     "output_type": "display_data"
    }
   ],
   "source": [
    "ans = T.get_ans()\n",
    "G=show_graph(ans,nodes1[0],nodes2[0]);\n",
    "G.show_fig()"
   ]
  },
  {
   "cell_type": "code",
   "execution_count": 288,
   "metadata": {},
   "outputs": [
    {
     "data": {
      "text/plain": [
       "<alignment.show_graph at 0x7fb836dd0520>"
      ]
     },
     "execution_count": 288,
     "metadata": {},
     "output_type": "execute_result"
    }
   ],
   "source": [
    "G"
   ]
  },
  {
   "cell_type": "code",
   "execution_count": 289,
   "metadata": {},
   "outputs": [
    {
     "data": {
      "text/plain": [
       "[('7', '8'),\n",
       " ('6', '2_4'),\n",
       " ('4_3', '3_1'),\n",
       " ('3_2', '1_2'),\n",
       " ('0_4', '4_0'),\n",
       " ('1_1', '0_3')]"
      ]
     },
     "execution_count": 289,
     "metadata": {},
     "output_type": "execute_result"
    }
   ],
   "source": [
    "T.anslist"
   ]
  },
  {
   "cell_type": "code",
   "execution_count": 290,
   "metadata": {},
   "outputs": [
    {
     "data": {
      "text/plain": [
       "{('6', '3_1'): 0.997953334222183,\n",
       " ('3_2', '3_1'): 0.9964659846014381,\n",
       " ('4_3', '3_1'): 0.9968930183252138,\n",
       " ('0_4', '1_2'): 0.9988025810201955,\n",
       " ('1_1', '1_2'): 0.9980859756902416,\n",
       " ('6', '1_2'): 0.9980020640729459,\n",
       " ('3_2', '1_2'): 0.8998317944078402,\n",
       " ('4_3', '1_2'): 0.9982837512769596,\n",
       " ('0_4', '3_1'): 0.9970146648221885,\n",
       " ('1_1', '3_1'): 0.9249227650805231,\n",
       " ('7', '2_4'): 0.9972608091369515,\n",
       " ('7', '1_2'): 0.9988800021400362,\n",
       " ('7', '3_1'): 0.9977995742024434,\n",
       " ('0_4', '2_4'): 0.9975535082166275,\n",
       " ('1_1', '2_4'): 0.9973935468551005,\n",
       " ('6', '2_4'): 0.9979877007123504,\n",
       " ('3_2', '2_4'): 0.9968750483266388,\n",
       " ('4_3', '2_4'): 0.9947986412395244,\n",
       " ('2_0', '4_0'): 0.9832034387834706,\n",
       " ('2_0', '0_3'): 0.9905645063411377,\n",
       " ('0_4', '0_3'): 0.9978219748108209,\n",
       " ('1_1', '0_3'): 0.9944937165834791,\n",
       " ('6', '0_3'): 0.9959558775954334,\n",
       " ('3_2', '0_3'): 0.9938146061645473,\n",
       " ('4_3', '0_3'): 0.9464760519756208,\n",
       " ('7', '4_0'): 0.9972187779904282,\n",
       " ('7', '0_3'): 0.9979541742182477,\n",
       " ('0_4', '4_0'): 0.9958027792771839,\n",
       " ('1_1', '4_0'): 0.9903830099673384,\n",
       " ('6', '4_0'): 0.9944733369285766,\n",
       " ('3_2', '4_0'): 0.9894682240867197,\n",
       " ('4_3', '4_0'): 0.9885485969270222,\n",
       " ('2_0', '2_4'): 0.9953083680525338,\n",
       " ('2_0', '1_2'): 0.996831230407579,\n",
       " ('2_0', '3_1'): 0.9939788527970175,\n",
       " ('8', '8'): 0.9959777986115758,\n",
       " ('8', '4_0'): 0.996725504296365,\n",
       " ('8', '0_3'): 0.998263204587163,\n",
       " ('8', '2_4'): 0.9972139278650032,\n",
       " ('8', '1_2'): 0.9989762235228957,\n",
       " ('8', '3_1'): 0.9980223695557168,\n",
       " ('2_0', '8'): 0.9908996470143173,\n",
       " ('7', '8'): 0.9950518063990715,\n",
       " ('0_4', '8'): 0.9971018469124476,\n",
       " ('1_1', '8'): 0.9962583299041572,\n",
       " ('6', '8'): 0.9967281039882008,\n",
       " ('3_2', '8'): 0.9955469113148144,\n",
       " ('4_3', '8'): 0.9962607944091044}"
      ]
     },
     "execution_count": 290,
     "metadata": {},
     "output_type": "execute_result"
    }
   ],
   "source": [
    "T.lrcost"
   ]
  },
  {
   "cell_type": "code",
   "execution_count": null,
   "metadata": {},
   "outputs": [],
   "source": []
  },
  {
   "cell_type": "code",
   "execution_count": null,
   "metadata": {},
   "outputs": [],
   "source": [
    "for i1 in T.anslist:\n",
    "    i=i1[0]\n",
    "    j=i1[1]\n",
    "\n",
    "    if(len(i.split('_'))!=1 and len(j.split('_'))!=1):\n",
    "        t1  = i.split('_')[0]\n",
    "        t2 = j.split('_')[0]\n",
    "        t1 = str(round((1+int(t1)/100),2))\n",
    "        t2 = str(round((2+int(t2)/100),2))\n",
    "        print(i,j)\n",
    "        print(t1,t2)\n",
    "\n",
    "    else:\n",
    "        continue\n",
    "    df = './lr/after/datas/temp/cci_result_{}_{}.pkl'.format(t1,t2);\n",
    "    df2 = './lr/after/datas/temp/cci_result_{}_{}.pkl'.format(t2,t1);\n",
    "    if(os.path.isfile(df)):\n",
    "        t = pd.read_pickle(df)\n",
    "        print( t['lr_score']['score'].mean())\n",
    "        pass;\n",
    "    elif(os.path.isfile(df2)):\n",
    "        t = pd.read_pickle(df2)\n",
    "        print( t['lr_score']['score'].mean() )"
   ]
  },
  {
   "cell_type": "code",
   "execution_count": null,
   "metadata": {},
   "outputs": [],
   "source": [
    "round((1+ 14/100 ),2)"
   ]
  },
  {
   "cell_type": "code",
   "execution_count": null,
   "metadata": {},
   "outputs": [],
   "source": [
    "t1 = [1+int(i)/100 for i in datas1.obs['leiden'].tolist()]\n",
    "t2 = [2+int(i)/100 for i in datas2.obs['leiden'].tolist()]\n",
    "\n",
    "t1"
   ]
  },
  {
   "cell_type": "code",
   "execution_count": null,
   "metadata": {},
   "outputs": [],
   "source": [
    "datas1.obsm['meta']['cell_type']=t1\n",
    "datas2.obsm['meta']['cell_type']=t2\n",
    "\n",
    "datas1.obsm['meta'],datas2.obsm['meta'],"
   ]
  },
  {
   "cell_type": "code",
   "execution_count": null,
   "metadata": {},
   "outputs": [],
   "source": [
    "tdatas = datas1.concatenate(datas2)\n",
    "tdatas.obsm['meta']\n",
    "tdatas.write_h5ad('./lr/after/datas/temp/AN.h5ad')"
   ]
  },
  {
   "cell_type": "code",
   "execution_count": null,
   "metadata": {},
   "outputs": [],
   "source": [
    "tdatas.obsm['meta']['cell_type'].unique()"
   ]
  },
  {
   "cell_type": "code",
   "execution_count": null,
   "metadata": {},
   "outputs": [],
   "source": [
    "T.lrcost"
   ]
  },
  {
   "cell_type": "code",
   "execution_count": null,
   "metadata": {},
   "outputs": [],
   "source": [
    "\n",
    "\n",
    "\n",
    "\n",
    "n='temp'\n",
    "\n",
    "'python3 lr/after/CytoTour.py lr/after/datas/lr_database.csv lr/after/datas/pathways.tsv lr/after/datas/{}/split 10000 lr/after/datas/{}/AN.h5ad --out lr/after/datas/{}'.format(n,n,n)\n",
    "\n"
   ]
  },
  {
   "cell_type": "code",
   "execution_count": null,
   "metadata": {},
   "outputs": [],
   "source": [
    "'python3 lr/after/splith5ad.py lr/after/datas/{}/AN.h5ad lr/after/datas/{}/split lr/after/datas/pathways.tsv 10000'.format(n,n)\n"
   ]
  },
  {
   "cell_type": "code",
   "execution_count": null,
   "metadata": {},
   "outputs": [],
   "source": [
    "import glob\n",
    "files = glob.glob('./lr/after/datas/temp/*')\n",
    "files"
   ]
  },
  {
   "cell_type": "code",
   "execution_count": null,
   "metadata": {},
   "outputs": [],
   "source": [
    "rate,anslist,ans = run_alignment(nodes1,nodes2,folder_path1,folder_path2,meta_list1,meta_list2);\n"
   ]
  },
  {
   "cell_type": "code",
   "execution_count": null,
   "metadata": {},
   "outputs": [],
   "source": [
    "def lr_s(n):\n",
    "    \n",
    "    a1= 'python3 lr/after/splith5ad.py lr/after/datas/{}/AN.h5ad lr/after/datas/{} lr/after/datas/pathways.tsv 1000'.format(n,n)\n",
    "    a2 = 'python3 lr/after/CytoTour.py lr/after/datas/lr_database.csv lr/after/datas/pathways.tsv lr/after/datas/{} 1000 lr/after/datas/{}/AN.h5ad --out lr/after/datas/{}'.format(n,n,n)\n",
    "    return a1,a2 \n",
    "a1,a2 = lr_s('temp')\n",
    "os.system(a1)\n",
    "os.system(a2)\n",
    "df = pd.read_pickle('./lr/after/datas/temp/cci_result_1.0_2.0.pkl')\n",
    "df['lr_score']['score'].mean()"
   ]
  },
  {
   "cell_type": "code",
   "execution_count": null,
   "metadata": {},
   "outputs": [],
   "source": []
  },
  {
   "cell_type": "code",
   "execution_count": null,
   "metadata": {},
   "outputs": [],
   "source": [
    "df = pd.read_pickle('./lr/after/datas/temp/cci_result_1.0_2.0.pkl')\n",
    "df['lr_score']['score'].mean()"
   ]
  },
  {
   "cell_type": "code",
   "execution_count": 37,
   "metadata": {},
   "outputs": [
    {
     "data": {
      "text/plain": [
       "{('1_2', '2_0'): 0.9960990314043718,\n",
       " ('3_0', '3_1'): 0.997465347356729,\n",
       " ('3_0', '2_0'): 0.9980272504095742,\n",
       " ('1_2', '3_1'): 0.9965578555101393,\n",
       " ('2_1', '1_0'): 0.9932463684023263,\n",
       " ('2_1', '0_1'): 0.9941909952416116,\n",
       " ('1_2', '0_1'): 0.9955789725616552,\n",
       " ('3_0', '1_0'): 0.9955351807974113,\n",
       " ('3_0', '0_1'): 0.996755347767516,\n",
       " ('1_2', '1_0'): 0.9940038009670317,\n",
       " ('2_1', '3_1'): 0.9960402110171404,\n",
       " ('2_1', '2_0'): 0.9957231499741567,\n",
       " ('0_3', '6'): 0.9954311144739517,\n",
       " ('0_3', '1_0'): 0.9948801917897468,\n",
       " ('0_3', '0_1'): 0.9953882235263248,\n",
       " ('0_3', '3_1'): 0.9977763874486703,\n",
       " ('0_3', '2_0'): 0.9980321250373381,\n",
       " ('2_1', '6'): 0.994834643285722,\n",
       " ('3_0', '6'): 0.9938296771933006,\n",
       " ('1_2', '6'): 0.9956737269479787}"
      ]
     },
     "execution_count": 37,
     "metadata": {},
     "output_type": "execute_result"
    }
   ],
   "source": [
    "T.lrcost"
   ]
  },
  {
   "cell_type": "code",
   "execution_count": null,
   "metadata": {},
   "outputs": [],
   "source": []
  }
 ],
 "metadata": {
  "kernelspec": {
   "display_name": "base",
   "language": "python",
   "name": "python3"
  },
  "language_info": {
   "codemirror_mode": {
    "name": "ipython",
    "version": 3
   },
   "file_extension": ".py",
   "mimetype": "text/x-python",
   "name": "python",
   "nbconvert_exporter": "python",
   "pygments_lexer": "ipython3",
   "version": "3.8.16"
  }
 },
 "nbformat": 4,
 "nbformat_minor": 2
}
