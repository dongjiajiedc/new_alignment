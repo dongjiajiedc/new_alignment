{
 "cells": [
  {
   "cell_type": "code",
   "execution_count": 19,
   "metadata": {},
   "outputs": [],
   "source": [
    "from core import *\n",
    "import warnings\n",
    "warnings.filterwarnings('ignore')"
   ]
  },
  {
   "cell_type": "code",
   "execution_count": 57,
   "metadata": {},
   "outputs": [],
   "source": [
    "cell_path1 = './lr/after/datas/all_a/all_a.h5ad' #path for single-cell data1\n",
    "folder_path1 = './lr/after/datas/all1/'    #folder to save the results\n",
    "radius1 = 0 # parameter for converting into meta cell\n",
    "\n",
    "cell_path2 = './lr/after/datas/all_b/all_b.h5ad' #path for single-cell data2\n",
    "folder_path2 = './lr/after/datas/all2/'  \n",
    "radius2 = 0\n",
    "\n",
    "resolution=0.3 #parameter for clustering\n",
    "method='average' # method we calcuclate the center value \n",
    " \n",
    "n_pca=10 #pca number\n",
    "meta_col = 'batch' #celltype col in the single-cell file\n",
    "epoches1 = 1 #number for embedding\n",
    "epoches2 = 0 #number for rotation\n",
    "\n",
    "c1=0.125 # threshold for merging\n",
    "c2=0.0  # threshold for merging"
   ]
  },
  {
   "cell_type": "code",
   "execution_count": 58,
   "metadata": {},
   "outputs": [
    {
     "name": "stderr",
     "output_type": "stream",
     "text": [
      "100%|████████████████████████████████████| 800/800 [00:00<00:00, 3318934.92it/s]\n"
     ]
    }
   ],
   "source": [
    "merge_by_radius(cell_path1,folder_path1,radius1,method,meta_col)\n"
   ]
  },
  {
   "cell_type": "code",
   "execution_count": 59,
   "metadata": {},
   "outputs": [
    {
     "name": "stderr",
     "output_type": "stream",
     "text": [
      "100%|████████████████████████████████████| 800/800 [00:00<00:00, 1673537.76it/s]\n"
     ]
    }
   ],
   "source": [
    "merge_by_radius(cell_path2,folder_path2,radius2,method,meta_col)\n"
   ]
  },
  {
   "cell_type": "code",
   "execution_count": 60,
   "metadata": {},
   "outputs": [],
   "source": [
    "adata1 = sc.read_h5ad(folder_path1+ 'adata.h5ad')\n",
    "adata2 = sc.read_h5ad(folder_path2+ 'adata.h5ad')"
   ]
  },
  {
   "cell_type": "code",
   "execution_count": null,
   "metadata": {},
   "outputs": [],
   "source": []
  },
  {
   "cell_type": "code",
   "execution_count": 65,
   "metadata": {},
   "outputs": [],
   "source": [
    "preprocessing_cluster(adata1,N_pcs=n_pca,resolution=resolution)\n",
    "preprocessing_cluster(adata2,N_pcs=n_pca,resolution=resolution)\n",
    "\n",
    "inter_gene = sort_data(adata1,adata2)\n",
    "\n",
    "tmp1 = calculate_cluster_centroid_for_genes(adata1,inter_gene,folder_path1)\n",
    "tmp2 = calculate_cluster_centroid_for_genes(adata2,inter_gene,folder_path2)\n",
    "\n",
    "meta_list1 = calculate_cluster_celltype(adata1);\n",
    "meta_list2 = calculate_cluster_celltype(adata2);"
   ]
  },
  {
   "cell_type": "code",
   "execution_count": 68,
   "metadata": {},
   "outputs": [],
   "source": [
    "adata1.obs['leiden'] = adata1.obs['celltype']\n",
    "adata2.obs['leiden'] = adata2.obs['celltype']"
   ]
  },
  {
   "cell_type": "code",
   "execution_count": 69,
   "metadata": {},
   "outputs": [],
   "source": [
    "\n",
    "inter_gene = sort_data(adata1,adata2)\n",
    "\n",
    "tmp1 = calculate_cluster_centroid_for_genes(adata1,inter_gene,folder_path1)\n",
    "tmp2 = calculate_cluster_centroid_for_genes(adata2,inter_gene,folder_path2)\n",
    "\n",
    "meta_list1 = calculate_cluster_celltype(adata1);\n",
    "meta_list2 = calculate_cluster_celltype(adata2);"
   ]
  },
  {
   "cell_type": "code",
   "execution_count": 70,
   "metadata": {},
   "outputs": [
    {
     "data": {
      "text/plain": [
       "array(['0', '3', '1', '2'], dtype='<U1')"
      ]
     },
     "execution_count": 70,
     "metadata": {},
     "output_type": "execute_result"
    }
   ],
   "source": [
    "names = np.load('./lr/after/datas/all_a/dataname.npy')\n",
    "names = np.array(['0','3','1','2'])\n",
    "names"
   ]
  },
  {
   "cell_type": "code",
   "execution_count": 71,
   "metadata": {},
   "outputs": [
    {
     "data": {
      "text/plain": [
       "array([-1,  0,  1,  0])"
      ]
     },
     "execution_count": 71,
     "metadata": {},
     "output_type": "execute_result"
    }
   ],
   "source": [
    "fathers = np.load('./lr/after/datas/all_a/datalink.npy')\n",
    "fathers = np.array([-1,0,1,0])\n",
    "fathers"
   ]
  },
  {
   "cell_type": "code",
   "execution_count": 72,
   "metadata": {},
   "outputs": [
    {
     "data": {
      "text/plain": [
       "array([[ 0.0002292302,  0.0018557151],\n",
       "       [-0.0102608452,  0.0024107302],\n",
       "       [-0.0101403088,  0.0002014315],\n",
       "       [-0.0101124933,  0.0022132014]])"
      ]
     },
     "execution_count": 72,
     "metadata": {},
     "output_type": "execute_result"
    }
   ],
   "source": [
    "xys = np.load('./lr/after/datas/all_a/dataxy.npy')\n",
    "xys = xys[:4]\n",
    "xys"
   ]
  },
  {
   "cell_type": "code",
   "execution_count": 87,
   "metadata": {},
   "outputs": [
    {
     "data": {
      "text/plain": [
       "'./lr/after/datas/all1/'"
      ]
     },
     "execution_count": 87,
     "metadata": {},
     "output_type": "execute_result"
    }
   ],
   "source": [
    "folder_path1"
   ]
  },
  {
   "cell_type": "code",
   "execution_count": 93,
   "metadata": {},
   "outputs": [
    {
     "data": {
      "text/plain": [
       "array(['0', '3', '1', '2'], dtype='<U1')"
      ]
     },
     "execution_count": 93,
     "metadata": {},
     "output_type": "execute_result"
    }
   ],
   "source": [
    "names"
   ]
  },
  {
   "cell_type": "code",
   "execution_count": 94,
   "metadata": {},
   "outputs": [],
   "source": [
    "np.save(folder_path1+\"dataname.npy\",names)\n",
    "np.save(folder_path1+\"datalink.npy\",fathers)\n",
    "np.save(folder_path1+\"dataxy.npy\",xys)"
   ]
  },
  {
   "cell_type": "code",
   "execution_count": 95,
   "metadata": {},
   "outputs": [],
   "source": [
    "np.save(folder_path2+\"dataname.npy\",names)\n",
    "np.save(folder_path2+\"datalink.npy\",fathers)\n",
    "np.save(folder_path2+\"dataxy.npy\",xys)"
   ]
  },
  {
   "cell_type": "code",
   "execution_count": 96,
   "metadata": {},
   "outputs": [
    {
     "data": {
      "text/plain": [
       "AxisArrays with keys: meta"
      ]
     },
     "execution_count": 96,
     "metadata": {},
     "output_type": "execute_result"
    }
   ],
   "source": [
    "datas1 = sc.read_h5ad('./lr/after/datas/all_a.h5ad')\n",
    "datas2 = sc.read_h5ad('./lr/after/datas/all_b.h5ad')\n",
    "\n",
    "datas1.obsm"
   ]
  },
  {
   "cell_type": "code",
   "execution_count": 97,
   "metadata": {},
   "outputs": [
    {
     "data": {
      "text/plain": [
       "AnnData object with n_obs × n_vars = 800 × 19738\n",
       "    obs: 'batch'\n",
       "    obsm: 'meta'"
      ]
     },
     "execution_count": 97,
     "metadata": {},
     "output_type": "execute_result"
    }
   ],
   "source": [
    "datas1"
   ]
  },
  {
   "cell_type": "code",
   "execution_count": 98,
   "metadata": {},
   "outputs": [
    {
     "data": {
      "text/plain": [
       "AnnData object with n_obs × n_vars = 800 × 2000\n",
       "    obs: 'celltype', 'leiden'\n",
       "    uns: 'pca', 'neighbors', 'diffmap_evals', 'umap', 'leiden', 'paga', 'leiden_sizes'\n",
       "    obsm: 'X_pca', 'X_diffmap', 'X_umap', 'meta'\n",
       "    varm: 'PCs'\n",
       "    obsp: 'distances', 'connectivities'"
      ]
     },
     "execution_count": 98,
     "metadata": {},
     "output_type": "execute_result"
    }
   ],
   "source": [
    "adata1"
   ]
  },
  {
   "cell_type": "code",
   "execution_count": 99,
   "metadata": {},
   "outputs": [],
   "source": [
    "temp1 = datas1.obsm['meta']\n",
    "temp1.index = adata1.to_df().index\n",
    "temp2 = datas2.obsm['meta']\n",
    "temp2.index = adata2.to_df().index\n"
   ]
  },
  {
   "cell_type": "code",
   "execution_count": 100,
   "metadata": {},
   "outputs": [],
   "source": [
    "adata1.obsm['meta'] = temp1\n",
    "adata2.obsm['meta'] = temp2"
   ]
  },
  {
   "cell_type": "code",
   "execution_count": 101,
   "metadata": {},
   "outputs": [
    {
     "data": {
      "text/plain": [
       "'./lr/after/datas/all1/'"
      ]
     },
     "execution_count": 101,
     "metadata": {},
     "output_type": "execute_result"
    }
   ],
   "source": [
    "folder_path1"
   ]
  },
  {
   "cell_type": "code",
   "execution_count": 105,
   "metadata": {},
   "outputs": [],
   "source": [
    "nodes1 = build_hyper_tree_from_folder(folder_path1,False)\n",
    "nodes2 = build_hyper_tree_from_folder(folder_path2,False)\n",
    "\n",
    "nodes_merge1 = [];\n",
    "nodes_merge2 = [];\n",
    "add_meta(nodes1[0],meta_list1,[])\n",
    "add_meta(nodes2[0],meta_list2,[])\n"
   ]
  },
  {
   "cell_type": "code",
   "execution_count": 106,
   "metadata": {},
   "outputs": [],
   "source": [
    "datas1.obs['leiden'] = adata1.obs['leiden'].tolist()\n",
    "datas2.obs['leiden'] = adata2.obs['leiden'].tolist()\n",
    "\n",
    "\n"
   ]
  },
  {
   "cell_type": "code",
   "execution_count": 108,
   "metadata": {},
   "outputs": [
    {
     "data": {
      "text/plain": [
       "[0_0, 3_3, 1_1, 2_2]"
      ]
     },
     "execution_count": 108,
     "metadata": {},
     "output_type": "execute_result"
    }
   ],
   "source": [
    "nodes2"
   ]
  },
  {
   "cell_type": "code",
   "execution_count": 109,
   "metadata": {},
   "outputs": [
    {
     "name": "stdout",
     "output_type": "stream",
     "text": [
      "start spilting data\n",
      "View of AnnData object with n_obs × n_vars = 400 × 8426\n",
      "    obs: 'batch', 'leiden'\n",
      "    obsm: 'meta'\n",
      "finish 1\n",
      "start filtering LRIs with spatial data\n",
      "reading data\n",
      "<bound method NDFrame.head of                 cell          x         y  cell_type\n",
      "0      cell1-0-1-0-0   6.373032  8.933043        1.0\n",
      "1      cell2-0-1-0-0   1.613726  8.248680        1.0\n",
      "2      cell3-0-1-0-0   1.373817  2.201218        1.0\n",
      "3      cell4-0-1-0-0   0.809356  9.415871        1.0\n",
      "4      cell5-0-1-0-0   2.810129  6.630638        1.0\n",
      "..               ...        ...       ...        ...\n",
      "395  cell196-1-1-0-1  11.378252  1.025635        2.0\n",
      "396  cell197-1-1-0-1   7.743184  2.681785        2.0\n",
      "397  cell198-1-1-0-1   9.194564  6.090764        2.0\n",
      "398  cell199-1-1-0-1  12.555637  7.740070        2.0\n",
      "399  cell200-1-1-0-1  12.855511  7.345174        2.0\n",
      "\n",
      "[400 rows x 4 columns]>\n",
      "DataFrame 中不存在名为 '_index' 的列。\n",
      "Index(['cell', 'x', 'y', 'cell_type'], dtype='object')\n",
      "st_gene_len----8426\n",
      "cell_name_list----400\n",
      "reading data done\n",
      "The unique celltype list is [1.0, 2.0]\n",
      "knn done\n",
      "all_pair_number ---- 400\n",
      "The cell pair number found between 1.0 and 1.0 is 1350\n",
      "per_exp-------(127706,)\n",
      "find ligand-recepotor pairs time-------------1\n",
      "receptor_gene---------0\n",
      "lr_pair_sub---------(0, 5)\n",
      "No ligand-recepotor pairs found between 1.0 and 1.0 because of no downstream transcriptional factors found for receptors!\n",
      "all_pair_number ---- 400\n",
      "The cell pair number found between 2.0 and 1.0 is 663\n",
      "per_exp-------(127706,)\n",
      "find ligand-recepotor pairs time-------------0\n",
      "receptor_gene---------0\n",
      "lr_pair_sub---------(0, 5)\n",
      "No ligand-recepotor pairs found between 2.0 and 1.0 because of no downstream transcriptional factors found for receptors!\n",
      "all_pair_number ---- 400\n",
      "The cell pair number found between 1.0 and 2.0 is 650\n",
      "per_exp-------(127706,)\n",
      "find ligand-recepotor pairs time-------------0\n",
      "receptor_gene---------954\n",
      "lr_pair_sub---------(26600, 5)\n",
      "the number of valid pathway number between 1.0 and 2.0 is: 26600\n",
      "co_exp_ratio=-------(26600, 1)\n",
      "co_exp_value-------(26600, 1)\n",
      "co_exp_p-----(26600,)\n",
      "The ligand-recepotor pairs found between 1.0 and 2.0 with significant expression is 2764\n",
      "find significant expression ligand-recepotor pairs time-------------3\n",
      "find tf time-------------6\n",
      "tf------(24400, 6)\n",
      "path_score---(2725, 13)\n",
      "2.0 and 1.0 done. Data saved to lr/after/datas/temp/cci_result_1.0_2.0.pkl\n",
      "all_pair_number ---- 400\n",
      "The cell pair number found between 2.0 and 2.0 is 1337\n",
      "per_exp-------(127706,)\n",
      "find ligand-recepotor pairs time-------------1\n",
      "receptor_gene---------773\n",
      "lr_pair_sub---------(20830, 5)\n",
      "the number of valid pathway number between 2.0 and 2.0 is: 20830\n",
      "co_exp_ratio=-------(20830, 1)\n",
      "co_exp_value-------(20830, 1)\n",
      "co_exp_p-----(20830,)\n",
      "The ligand-recepotor pairs found between 2.0 and 2.0 with significant expression is 15551\n",
      "find significant expression ligand-recepotor pairs time-------------2\n",
      "find tf time-------------31\n",
      "tf------(67532, 6)\n",
      "path_score---(15072, 13)\n",
      "2.0 and 2.0 done. Data saved to lr/after/datas/temp/cci_result_2.0_2.0.pkl\n",
      "Total running time is 51 seconds\n",
      "finish 2\n",
      "2_2 2_2 right\n",
      "start spilting data\n",
      "View of AnnData object with n_obs × n_vars = 400 × 8431\n",
      "    obs: 'batch', 'leiden'\n",
      "    obsm: 'meta'\n",
      "finish 1\n",
      "start filtering LRIs with spatial data\n",
      "reading data\n",
      "<bound method NDFrame.head of                   cell          x         y  cell_type\n",
      "0      cell1-0-1-0-0-0   6.373032  8.933043        1.0\n",
      "1      cell2-0-1-0-0-0   1.613726  8.248680        1.0\n",
      "2      cell3-0-1-0-0-0   1.373817  2.201218        1.0\n",
      "3      cell4-0-1-0-0-0   0.809356  9.415871        1.0\n",
      "4      cell5-0-1-0-0-0   2.810129  6.630638        1.0\n",
      "..                 ...        ...       ...        ...\n",
      "395  cell196-1-1-0-0-1  11.378252  1.025635        2.0\n",
      "396  cell197-1-1-0-0-1   7.743184  2.681785        2.0\n",
      "397  cell198-1-1-0-0-1   9.194564  6.090764        2.0\n",
      "398  cell199-1-1-0-0-1  12.555637  7.740070        2.0\n",
      "399  cell200-1-1-0-0-1  12.855511  7.345174        2.0\n",
      "\n",
      "[400 rows x 4 columns]>\n",
      "DataFrame 中不存在名为 '_index' 的列。\n",
      "Index(['cell', 'x', 'y', 'cell_type'], dtype='object')\n",
      "st_gene_len----8431\n",
      "cell_name_list----400\n",
      "reading data done\n",
      "The unique celltype list is [1.0, 2.0]\n",
      "knn done\n",
      "all_pair_number ---- 400\n",
      "The cell pair number found between 1.0 and 1.0 is 1350\n",
      "per_exp-------(126211,)\n",
      "find ligand-recepotor pairs time-------------1\n",
      "receptor_gene---------0\n",
      "lr_pair_sub---------(0, 5)\n",
      "No ligand-recepotor pairs found between 1.0 and 1.0 because of no downstream transcriptional factors found for receptors!\n",
      "all_pair_number ---- 400\n",
      "The cell pair number found between 2.0 and 1.0 is 663\n",
      "per_exp-------(126211,)\n",
      "find ligand-recepotor pairs time-------------0\n",
      "receptor_gene---------0\n",
      "lr_pair_sub---------(0, 5)\n",
      "No ligand-recepotor pairs found between 2.0 and 1.0 because of no downstream transcriptional factors found for receptors!\n",
      "all_pair_number ---- 400\n",
      "The cell pair number found between 1.0 and 2.0 is 650\n",
      "per_exp-------(126211,)\n",
      "find ligand-recepotor pairs time-------------0\n",
      "receptor_gene---------963\n",
      "lr_pair_sub---------(26710, 5)\n",
      "the number of valid pathway number between 1.0 and 2.0 is: 26710\n",
      "co_exp_ratio=-------(26710, 1)\n",
      "co_exp_value-------(26710, 1)\n",
      "co_exp_p-----(26710,)\n",
      "The ligand-recepotor pairs found between 1.0 and 2.0 with significant expression is 2792\n",
      "find significant expression ligand-recepotor pairs time-------------3\n",
      "find tf time-------------6\n",
      "tf------(25459, 6)\n",
      "path_score---(2753, 13)\n",
      "2.0 and 1.0 done. Data saved to lr/after/datas/temp/cci_result_1.0_2.0.pkl\n",
      "all_pair_number ---- 400\n",
      "The cell pair number found between 2.0 and 2.0 is 1337\n",
      "per_exp-------(126211,)\n",
      "find ligand-recepotor pairs time-------------1\n",
      "receptor_gene---------784\n",
      "lr_pair_sub---------(21435, 5)\n",
      "the number of valid pathway number between 2.0 and 2.0 is: 21435\n",
      "co_exp_ratio=-------(21435, 1)\n",
      "co_exp_value-------(21435, 1)\n",
      "co_exp_p-----(21435,)\n",
      "The ligand-recepotor pairs found between 2.0 and 2.0 with significant expression is 16273\n",
      "find significant expression ligand-recepotor pairs time-------------2\n",
      "find tf time-------------33\n",
      "tf------(78382, 6)\n",
      "path_score---(15794, 13)\n",
      "2.0 and 2.0 done. Data saved to lr/after/datas/temp/cci_result_2.0_2.0.pkl\n",
      "Total running time is 53 seconds\n",
      "finish 2\n",
      "1_1 1_1 right\n",
      "start spilting data\n",
      "View of AnnData object with n_obs × n_vars = 800 × 8608\n",
      "    obs: 'batch', 'leiden'\n",
      "    obsm: 'meta'\n",
      "finish 1\n",
      "start filtering LRIs with spatial data\n",
      "reading data\n",
      "<bound method NDFrame.head of                 cell          x         y  cell_type\n",
      "0    cell1-0-1-0-0-0   6.373032  8.933043        1.0\n",
      "1    cell2-0-1-0-0-0   1.613726  8.248680        1.0\n",
      "2    cell3-0-1-0-0-0   1.373817  2.201218        1.0\n",
      "3    cell4-0-1-0-0-0   0.809356  9.415871        1.0\n",
      "4    cell5-0-1-0-0-0   2.810129  6.630638        1.0\n",
      "..               ...        ...       ...        ...\n",
      "795    cell196-1-1-1  11.378252  1.025635        2.0\n",
      "796    cell197-1-1-1   7.743184  2.681785        2.0\n",
      "797    cell198-1-1-1   9.194564  6.090764        2.0\n",
      "798    cell199-1-1-1  12.555637  7.740070        2.0\n",
      "799    cell200-1-1-1  12.855511  7.345174        2.0\n",
      "\n",
      "[800 rows x 4 columns]>\n",
      "DataFrame 中不存在名为 '_index' 的列。\n",
      "Index(['cell', 'x', 'y', 'cell_type'], dtype='object')\n",
      "st_gene_len----8608\n",
      "cell_name_list----800\n",
      "reading data done\n",
      "The unique celltype list is [1.0, 2.0]\n",
      "knn done\n",
      "all_pair_number ---- 800\n",
      "The cell pair number found between 1.0 and 1.0 is 2866\n",
      "per_exp-------(131294,)\n",
      "find ligand-recepotor pairs time-------------5\n",
      "receptor_gene---------1513\n",
      "lr_pair_sub---------(35108, 5)\n",
      "the number of valid pathway number between 1.0 and 1.0 is: 35108\n",
      "co_exp_ratio=-------(35108, 1)\n",
      "co_exp_value-------(35108, 1)\n",
      "co_exp_p-----(35108,)\n",
      "The ligand-recepotor pairs found between 1.0 and 1.0 with significant expression is 1166\n",
      "find significant expression ligand-recepotor pairs time-------------5\n",
      "find tf time-------------2\n",
      "tf------(8589, 6)\n",
      "path_score---(1128, 13)\n",
      "1.0 and 1.0 done. Data saved to lr/after/datas/temp/cci_result_1.0_1.0.pkl\n",
      "all_pair_number ---- 800\n",
      "The cell pair number found between 2.0 and 1.0 is 1132\n",
      "per_exp-------(131294,)\n",
      "find ligand-recepotor pairs time-------------1\n",
      "receptor_gene---------1568\n",
      "lr_pair_sub---------(39650, 5)\n",
      "the number of valid pathway number between 2.0 and 1.0 is: 39650\n",
      "co_exp_ratio=-------(39650, 1)\n",
      "co_exp_value-------(39650, 1)\n",
      "co_exp_p-----(39650,)\n",
      "The ligand-recepotor pairs found between 2.0 and 1.0 with significant expression is 19436\n",
      "find significant expression ligand-recepotor pairs time-------------5\n",
      "find tf time-------------47\n",
      "tf------(138919, 6)\n",
      "path_score---(19416, 13)\n",
      "1.0 and 2.0 done. Data saved to lr/after/datas/temp/cci_result_2.0_1.0.pkl\n",
      "all_pair_number ---- 800\n",
      "The cell pair number found between 1.0 and 2.0 is 1134\n",
      "per_exp-------(131294,)\n",
      "find ligand-recepotor pairs time-------------2\n",
      "receptor_gene---------3412\n",
      "lr_pair_sub---------(76094, 5)\n",
      "the number of valid pathway number between 1.0 and 2.0 is: 76094\n",
      "co_exp_ratio=-------(76094, 1)\n",
      "co_exp_value-------(76094, 1)\n",
      "co_exp_p-----(76094,)\n",
      "The ligand-recepotor pairs found between 1.0 and 2.0 with significant expression is 17079\n",
      "find significant expression ligand-recepotor pairs time-------------24\n",
      "find tf time-------------83\n",
      "tf------(664637, 6)\n",
      "path_score---(17073, 13)\n",
      "2.0 and 1.0 done. Data saved to lr/after/datas/temp/cci_result_1.0_2.0.pkl\n",
      "all_pair_number ---- 800\n",
      "The cell pair number found between 2.0 and 2.0 is 2868\n",
      "per_exp-------(131294,)\n",
      "find ligand-recepotor pairs time-------------7\n",
      "receptor_gene---------3199\n",
      "lr_pair_sub---------(72986, 5)\n",
      "the number of valid pathway number between 2.0 and 2.0 is: 72986\n",
      "co_exp_ratio=-------(72986, 1)\n",
      "co_exp_value-------(72986, 1)\n",
      "co_exp_p-----(72986,)\n",
      "The ligand-recepotor pairs found between 2.0 and 2.0 with significant expression is 54461\n",
      "find significant expression ligand-recepotor pairs time-------------23\n",
      "find tf time-------------258\n",
      "tf------(1888178, 6)\n",
      "path_score---(54433, 13)\n",
      "2.0 and 2.0 done. Data saved to lr/after/datas/temp/cci_result_2.0_2.0.pkl\n",
      "Total running time is 472 seconds\n",
      "finish 2\n",
      "3_3 3_3 right\n",
      "start spilting data\n",
      "View of AnnData object with n_obs × n_vars = 600 × 8608\n",
      "    obs: 'batch', 'leiden'\n",
      "    obsm: 'meta'\n",
      "finish 1\n",
      "start filtering LRIs with spatial data\n",
      "reading data\n",
      "<bound method NDFrame.head of                   cell          x         y  cell_type\n",
      "0      cell1-0-1-0-0-0   6.373032  8.933043        1.0\n",
      "1      cell2-0-1-0-0-0   1.613726  8.248680        1.0\n",
      "2      cell3-0-1-0-0-0   1.373817  2.201218        1.0\n",
      "3      cell4-0-1-0-0-0   0.809356  9.415871        1.0\n",
      "4      cell5-0-1-0-0-0   2.810129  6.630638        1.0\n",
      "..                 ...        ...       ...        ...\n",
      "595  cell196-1-1-0-0-1  11.378252  1.025635        2.0\n",
      "596  cell197-1-1-0-0-1   7.743184  2.681785        2.0\n",
      "597  cell198-1-1-0-0-1   9.194564  6.090764        2.0\n",
      "598  cell199-1-1-0-0-1  12.555637  7.740070        2.0\n",
      "599  cell200-1-1-0-0-1  12.855511  7.345174        2.0\n",
      "\n",
      "[600 rows x 4 columns]>\n",
      "DataFrame 中不存在名为 '_index' 的列。\n",
      "Index(['cell', 'x', 'y', 'cell_type'], dtype='object')\n",
      "st_gene_len----8608\n",
      "cell_name_list----600\n",
      "reading data done\n",
      "The unique celltype list is [1.0, 2.0]\n",
      "knn done\n",
      "all_pair_number ---- 600\n",
      "The cell pair number found between 1.0 and 1.0 is 3204\n",
      "per_exp-------(131294,)\n",
      "find ligand-recepotor pairs time-------------5\n",
      "receptor_gene---------1488\n",
      "lr_pair_sub---------(35480, 5)\n",
      "the number of valid pathway number between 1.0 and 1.0 is: 35480\n",
      "co_exp_ratio=-------(35480, 1)\n",
      "co_exp_value-------(35480, 1)\n",
      "co_exp_p-----(35480,)\n",
      "The ligand-recepotor pairs found between 1.0 and 1.0 with significant expression is 6906\n",
      "find significant expression ligand-recepotor pairs time-------------5\n",
      "find tf time-------------16\n",
      "tf------(42004, 6)\n",
      "path_score---(6667, 13)\n",
      "1.0 and 1.0 done. Data saved to lr/after/datas/temp/cci_result_1.0_1.0.pkl\n",
      "all_pair_number ---- 600\n",
      "The cell pair number found between 2.0 and 1.0 is 860\n",
      "per_exp-------(131294,)\n",
      "find ligand-recepotor pairs time-------------1\n",
      "receptor_gene---------1521\n",
      "lr_pair_sub---------(38363, 5)\n",
      "the number of valid pathway number between 2.0 and 1.0 is: 38363\n",
      "co_exp_ratio=-------(38363, 1)\n",
      "co_exp_value-------(38363, 1)\n",
      "co_exp_p-----(38363,)\n",
      "The ligand-recepotor pairs found between 2.0 and 1.0 with significant expression is 21199\n",
      "find significant expression ligand-recepotor pairs time-------------4\n",
      "find tf time-------------51\n",
      "tf------(151819, 6)\n",
      "path_score---(21180, 13)\n",
      "1.0 and 2.0 done. Data saved to lr/after/datas/temp/cci_result_2.0_1.0.pkl\n",
      "all_pair_number ---- 600\n",
      "The cell pair number found between 1.0 and 2.0 is 796\n",
      "per_exp-------(131294,)\n",
      "find ligand-recepotor pairs time-------------1\n",
      "receptor_gene---------3042\n",
      "lr_pair_sub---------(72217, 5)\n",
      "the number of valid pathway number between 1.0 and 2.0 is: 72217\n",
      "co_exp_ratio=-------(72217, 1)\n",
      "co_exp_value-------(72217, 1)\n",
      "co_exp_p-----(72217,)\n",
      "The ligand-recepotor pairs found between 1.0 and 2.0 with significant expression is 30001\n",
      "find significant expression ligand-recepotor pairs time-------------17\n",
      "find tf time-------------131\n",
      "tf------(1066719, 6)\n",
      "path_score---(29983, 13)\n",
      "2.0 and 1.0 done. Data saved to lr/after/datas/temp/cci_result_1.0_2.0.pkl\n",
      "all_pair_number ---- 600\n",
      "The cell pair number found between 2.0 and 2.0 is 1140\n",
      "per_exp-------(131294,)\n",
      "find ligand-recepotor pairs time-------------2\n",
      "receptor_gene---------2848\n",
      "lr_pair_sub---------(68271, 5)\n",
      "the number of valid pathway number between 2.0 and 2.0 is: 68271\n",
      "co_exp_ratio=-------(68271, 1)\n",
      "co_exp_value-------(68271, 1)\n",
      "co_exp_p-----(68271,)\n",
      "The ligand-recepotor pairs found between 2.0 and 2.0 with significant expression is 44253\n",
      "find significant expression ligand-recepotor pairs time-------------16\n",
      "find tf time-------------185\n",
      "tf------(1318237, 6)\n",
      "path_score---(44223, 13)\n",
      "2.0 and 2.0 done. Data saved to lr/after/datas/temp/cci_result_2.0_2.0.pkl\n",
      "Total running time is 444 seconds\n",
      "finish 2\n",
      "3_3 1_1 right\n",
      "start spilting data\n",
      "View of AnnData object with n_obs × n_vars = 600 × 8608\n",
      "    obs: 'batch', 'leiden'\n",
      "    obsm: 'meta'\n",
      "finish 1\n",
      "start filtering LRIs with spatial data\n",
      "reading data\n",
      "<bound method NDFrame.head of                 cell          x         y  cell_type\n",
      "0    cell1-0-1-0-0-0   6.373032  8.933043        1.0\n",
      "1    cell2-0-1-0-0-0   1.613726  8.248680        1.0\n",
      "2    cell3-0-1-0-0-0   1.373817  2.201218        1.0\n",
      "3    cell4-0-1-0-0-0   0.809356  9.415871        1.0\n",
      "4    cell5-0-1-0-0-0   2.810129  6.630638        1.0\n",
      "..               ...        ...       ...        ...\n",
      "595    cell196-1-1-1  11.378252  1.025635        2.0\n",
      "596    cell197-1-1-1   7.743184  2.681785        2.0\n",
      "597    cell198-1-1-1   9.194564  6.090764        2.0\n",
      "598    cell199-1-1-1  12.555637  7.740070        2.0\n",
      "599    cell200-1-1-1  12.855511  7.345174        2.0\n",
      "\n",
      "[600 rows x 4 columns]>\n",
      "DataFrame 中不存在名为 '_index' 的列。\n",
      "Index(['cell', 'x', 'y', 'cell_type'], dtype='object')\n",
      "st_gene_len----8608\n",
      "cell_name_list----600\n",
      "reading data done\n",
      "The unique celltype list is [1.0, 2.0]\n",
      "knn done\n",
      "all_pair_number ---- 600\n",
      "The cell pair number found between 1.0 and 1.0 is 1144\n",
      "per_exp-------(131294,)\n",
      "find ligand-recepotor pairs time-------------1\n",
      "receptor_gene---------1309\n",
      "lr_pair_sub---------(32908, 5)\n",
      "the number of valid pathway number between 1.0 and 1.0 is: 32908\n",
      "co_exp_ratio=-------(32908, 1)\n",
      "co_exp_value-------(32908, 1)\n",
      "co_exp_p-----(32908,)\n",
      "The ligand-recepotor pairs found between 1.0 and 1.0 with significant expression is 3833\n",
      "find significant expression ligand-recepotor pairs time-------------3\n",
      "find tf time-------------8\n",
      "tf------(58505, 6)\n",
      "path_score---(3571, 13)\n",
      "1.0 and 1.0 done. Data saved to lr/after/datas/temp/cci_result_1.0_1.0.pkl\n",
      "all_pair_number ---- 600\n",
      "The cell pair number found between 2.0 and 1.0 is 802\n",
      "per_exp-------(131294,)\n",
      "find ligand-recepotor pairs time-------------1\n",
      "receptor_gene---------1404\n",
      "lr_pair_sub---------(36448, 5)\n",
      "the number of valid pathway number between 2.0 and 1.0 is: 36448\n",
      "co_exp_ratio=-------(36448, 1)\n",
      "co_exp_value-------(36448, 1)\n",
      "co_exp_p-----(36448,)\n",
      "The ligand-recepotor pairs found between 2.0 and 1.0 with significant expression is 16605\n",
      "find significant expression ligand-recepotor pairs time-------------4\n",
      "find tf time-------------36\n",
      "tf------(254943, 6)\n",
      "path_score---(15376, 13)\n",
      "1.0 and 2.0 done. Data saved to lr/after/datas/temp/cci_result_2.0_1.0.pkl\n",
      "all_pair_number ---- 600\n",
      "The cell pair number found between 1.0 and 2.0 is 856\n",
      "per_exp-------(131294,)\n",
      "find ligand-recepotor pairs time-------------1\n",
      "receptor_gene---------3383\n",
      "lr_pair_sub---------(77117, 5)\n",
      "the number of valid pathway number between 1.0 and 2.0 is: 77117\n",
      "co_exp_ratio=-------(77117, 1)\n",
      "co_exp_value-------(77117, 1)\n",
      "co_exp_p-----(77117,)\n",
      "The ligand-recepotor pairs found between 1.0 and 2.0 with significant expression is 12218\n",
      "find significant expression ligand-recepotor pairs time-------------22\n",
      "find tf time-------------60\n",
      "tf------(462718, 6)\n",
      "path_score---(12214, 13)\n",
      "2.0 and 1.0 done. Data saved to lr/after/datas/temp/cci_result_1.0_2.0.pkl\n",
      "all_pair_number ---- 600\n",
      "The cell pair number found between 2.0 and 2.0 is 3198\n",
      "per_exp-------(131294,)\n",
      "find ligand-recepotor pairs time-------------8\n",
      "receptor_gene---------3206\n",
      "lr_pair_sub---------(73010, 5)\n",
      "the number of valid pathway number between 2.0 and 2.0 is: 73010\n",
      "co_exp_ratio=-------(73010, 1)\n",
      "co_exp_value-------(73010, 1)\n",
      "co_exp_p-----(73010,)\n",
      "The ligand-recepotor pairs found between 2.0 and 2.0 with significant expression is 43675\n",
      "find significant expression ligand-recepotor pairs time-------------23\n",
      "find tf time-------------202\n",
      "tf------(1509042, 6)\n",
      "path_score---(43662, 13)\n",
      "2.0 and 2.0 done. Data saved to lr/after/datas/temp/cci_result_2.0_2.0.pkl\n",
      "Total running time is 378 seconds\n",
      "finish 2\n",
      "1_1 3_3 right\n",
      "start spilting data\n",
      "View of AnnData object with n_obs × n_vars = 600 × 8794\n",
      "    obs: 'batch', 'leiden'\n",
      "    obsm: 'meta'\n",
      "finish 1\n",
      "start filtering LRIs with spatial data\n",
      "reading data\n",
      "<bound method NDFrame.head of               cell          x         y  cell_type\n",
      "0    cell1-0-1-0-0   6.373032  8.933043        1.0\n",
      "1    cell2-0-1-0-0   1.613726  8.248680        1.0\n",
      "2    cell3-0-1-0-0   1.373817  2.201218        1.0\n",
      "3    cell4-0-1-0-0   0.809356  9.415871        1.0\n",
      "4    cell5-0-1-0-0   2.810129  6.630638        1.0\n",
      "..             ...        ...       ...        ...\n",
      "595  cell196-1-1-1  11.378252  1.025635        2.0\n",
      "596  cell197-1-1-1   7.743184  2.681785        2.0\n",
      "597  cell198-1-1-1   9.194564  6.090764        2.0\n",
      "598  cell199-1-1-1  12.555637  7.740070        2.0\n",
      "599  cell200-1-1-1  12.855511  7.345174        2.0\n",
      "\n",
      "[600 rows x 4 columns]>\n",
      "DataFrame 中不存在名为 '_index' 的列。\n",
      "Index(['cell', 'x', 'y', 'cell_type'], dtype='object')\n",
      "st_gene_len----8794\n",
      "cell_name_list----600\n",
      "reading data done\n",
      "The unique celltype list is [1.0, 2.0]\n",
      "knn done\n",
      "all_pair_number ---- 600\n",
      "The cell pair number found between 1.0 and 1.0 is 1144\n",
      "per_exp-------(137554,)\n",
      "find ligand-recepotor pairs time-------------1\n",
      "receptor_gene---------1417\n",
      "lr_pair_sub---------(41750, 5)\n",
      "the number of valid pathway number between 1.0 and 1.0 is: 41750\n",
      "co_exp_ratio=-------(41750, 1)\n",
      "co_exp_value-------(41750, 1)\n",
      "co_exp_p-----(41750,)\n",
      "The ligand-recepotor pairs found between 1.0 and 1.0 with significant expression is 11537\n",
      "find significant expression ligand-recepotor pairs time-------------4\n",
      "find tf time-------------27\n",
      "tf------(291389, 6)\n",
      "path_score---(11537, 13)\n",
      "1.0 and 1.0 done. Data saved to lr/after/datas/temp/cci_result_1.0_1.0.pkl\n",
      "all_pair_number ---- 600\n",
      "The cell pair number found between 2.0 and 1.0 is 802\n",
      "per_exp-------(137554,)\n",
      "find ligand-recepotor pairs time-------------1\n",
      "receptor_gene---------1432\n",
      "lr_pair_sub---------(44558, 5)\n",
      "the number of valid pathway number between 2.0 and 1.0 is: 44558\n",
      "co_exp_ratio=-------(44558, 1)\n",
      "co_exp_value-------(44558, 1)\n",
      "co_exp_p-----(44558,)\n",
      "The ligand-recepotor pairs found between 2.0 and 1.0 with significant expression is 17074\n",
      "find significant expression ligand-recepotor pairs time-------------4\n",
      "find tf time-------------40\n",
      "tf------(367730, 6)\n",
      "path_score---(17071, 13)\n",
      "1.0 and 2.0 done. Data saved to lr/after/datas/temp/cci_result_2.0_1.0.pkl\n",
      "all_pair_number ---- 600\n",
      "The cell pair number found between 1.0 and 2.0 is 856\n",
      "per_exp-------(137554,)\n",
      "find ligand-recepotor pairs time-------------1\n",
      "receptor_gene---------3413\n",
      "lr_pair_sub---------(79297, 5)\n",
      "the number of valid pathway number between 1.0 and 2.0 is: 79297\n",
      "co_exp_ratio=-------(79297, 1)\n",
      "co_exp_value-------(79297, 1)\n",
      "co_exp_p-----(79297,)\n",
      "The ligand-recepotor pairs found between 1.0 and 2.0 with significant expression is 15546\n",
      "find significant expression ligand-recepotor pairs time-------------24\n",
      "find tf time-------------80\n",
      "tf------(625164, 6)\n",
      "path_score---(15536, 13)\n",
      "2.0 and 1.0 done. Data saved to lr/after/datas/temp/cci_result_1.0_2.0.pkl\n",
      "all_pair_number ---- 600\n",
      "The cell pair number found between 2.0 and 2.0 is 3198\n",
      "per_exp-------(137554,)\n",
      "find ligand-recepotor pairs time-------------8\n",
      "receptor_gene---------3240\n",
      "lr_pair_sub---------(75796, 5)\n",
      "the number of valid pathway number between 2.0 and 2.0 is: 75796\n",
      "co_exp_ratio=-------(75796, 1)\n",
      "co_exp_value-------(75796, 1)\n",
      "co_exp_p-----(75796,)\n",
      "The ligand-recepotor pairs found between 2.0 and 2.0 with significant expression is 53932\n",
      "find significant expression ligand-recepotor pairs time-------------24\n",
      "find tf time-------------257\n",
      "tf------(1964690, 6)\n",
      "path_score---(53904, 13)\n",
      "2.0 and 2.0 done. Data saved to lr/after/datas/temp/cci_result_2.0_2.0.pkl\n",
      "Total running time is 481 seconds\n",
      "finish 2\n",
      "2_2 3_3 right\n",
      "start spilting data\n",
      "View of AnnData object with n_obs × n_vars = 400 × 8616\n",
      "    obs: 'batch', 'leiden'\n",
      "    obsm: 'meta'\n",
      "finish 1\n",
      "start filtering LRIs with spatial data\n",
      "reading data\n",
      "<bound method NDFrame.head of                   cell          x         y  cell_type\n",
      "0        cell1-0-1-0-0   6.373032  8.933043        1.0\n",
      "1        cell2-0-1-0-0   1.613726  8.248680        1.0\n",
      "2        cell3-0-1-0-0   1.373817  2.201218        1.0\n",
      "3        cell4-0-1-0-0   0.809356  9.415871        1.0\n",
      "4        cell5-0-1-0-0   2.810129  6.630638        1.0\n",
      "..                 ...        ...       ...        ...\n",
      "395  cell196-1-1-0-0-1  11.378252  1.025635        2.0\n",
      "396  cell197-1-1-0-0-1   7.743184  2.681785        2.0\n",
      "397  cell198-1-1-0-0-1   9.194564  6.090764        2.0\n",
      "398  cell199-1-1-0-0-1  12.555637  7.740070        2.0\n",
      "399  cell200-1-1-0-0-1  12.855511  7.345174        2.0\n",
      "\n",
      "[400 rows x 4 columns]>\n",
      "DataFrame 中不存在名为 '_index' 的列。\n",
      "Index(['cell', 'x', 'y', 'cell_type'], dtype='object')\n",
      "st_gene_len----8616\n",
      "cell_name_list----400\n",
      "reading data done\n",
      "The unique celltype list is [1.0, 2.0]\n",
      "knn done\n",
      "all_pair_number ---- 400\n",
      "The cell pair number found between 1.0 and 1.0 is 1350\n",
      "per_exp-------(132331,)\n",
      "find ligand-recepotor pairs time-------------2\n",
      "receptor_gene---------1397\n",
      "lr_pair_sub---------(41570, 5)\n",
      "the number of valid pathway number between 1.0 and 1.0 is: 41570\n",
      "co_exp_ratio=-------(41570, 1)\n",
      "co_exp_value-------(41570, 1)\n",
      "co_exp_p-----(41570,)\n",
      "The ligand-recepotor pairs found between 1.0 and 1.0 with significant expression is 9634\n",
      "find significant expression ligand-recepotor pairs time-------------4\n",
      "find tf time-------------21\n",
      "tf------(227134, 6)\n",
      "path_score---(9634, 13)\n",
      "1.0 and 1.0 done. Data saved to lr/after/datas/temp/cci_result_1.0_1.0.pkl\n",
      "all_pair_number ---- 400\n",
      "The cell pair number found between 2.0 and 1.0 is 663\n",
      "per_exp-------(132331,)\n",
      "find ligand-recepotor pairs time-------------1\n",
      "receptor_gene---------1437\n",
      "lr_pair_sub---------(42803, 5)\n",
      "the number of valid pathway number between 2.0 and 1.0 is: 42803\n",
      "co_exp_ratio=-------(42803, 1)\n",
      "co_exp_value-------(42803, 1)\n",
      "co_exp_p-----(42803,)\n",
      "The ligand-recepotor pairs found between 2.0 and 1.0 with significant expression is 16756\n",
      "find significant expression ligand-recepotor pairs time-------------4\n",
      "find tf time-------------38\n",
      "tf------(330172, 6)\n",
      "path_score---(16754, 13)\n",
      "1.0 and 2.0 done. Data saved to lr/after/datas/temp/cci_result_2.0_1.0.pkl\n",
      "all_pair_number ---- 400\n",
      "The cell pair number found between 1.0 and 2.0 is 650\n",
      "per_exp-------(132331,)\n",
      "find ligand-recepotor pairs time-------------1\n",
      "receptor_gene---------2955\n",
      "lr_pair_sub---------(69847, 5)\n",
      "the number of valid pathway number between 1.0 and 2.0 is: 69847\n",
      "co_exp_ratio=-------(69847, 1)\n",
      "co_exp_value-------(69847, 1)\n",
      "co_exp_p-----(69847,)\n",
      "The ligand-recepotor pairs found between 1.0 and 2.0 with significant expression is 19762\n",
      "find significant expression ligand-recepotor pairs time-------------16\n",
      "find tf time-------------86\n",
      "tf------(710171, 6)\n",
      "path_score---(19742, 13)\n",
      "2.0 and 1.0 done. Data saved to lr/after/datas/temp/cci_result_1.0_2.0.pkl\n",
      "all_pair_number ---- 400\n",
      "The cell pair number found between 2.0 and 2.0 is 1337\n",
      "per_exp-------(132331,)\n",
      "find ligand-recepotor pairs time-------------2\n",
      "receptor_gene---------2875\n",
      "lr_pair_sub---------(68355, 5)\n",
      "the number of valid pathway number between 2.0 and 2.0 is: 68355\n",
      "co_exp_ratio=-------(68355, 1)\n",
      "co_exp_value-------(68355, 1)\n",
      "co_exp_p-----(68355,)\n",
      "The ligand-recepotor pairs found between 2.0 and 2.0 with significant expression is 43739\n",
      "find significant expression ligand-recepotor pairs time-------------17\n",
      "find tf time-------------188\n",
      "tf------(1319771, 6)\n",
      "path_score---(43711, 13)\n",
      "2.0 and 2.0 done. Data saved to lr/after/datas/temp/cci_result_2.0_2.0.pkl\n",
      "Total running time is 388 seconds\n",
      "finish 2\n",
      "2_2 1_1 right\n",
      "start spilting data\n",
      "View of AnnData object with n_obs × n_vars = 600 × 8794\n",
      "    obs: 'batch', 'leiden'\n",
      "    obsm: 'meta'\n",
      "finish 1\n",
      "start filtering LRIs with spatial data\n",
      "reading data\n",
      "<bound method NDFrame.head of                 cell          x         y  cell_type\n",
      "0    cell1-0-1-0-0-0   6.373032  8.933043        1.0\n",
      "1    cell2-0-1-0-0-0   1.613726  8.248680        1.0\n",
      "2    cell3-0-1-0-0-0   1.373817  2.201218        1.0\n",
      "3    cell4-0-1-0-0-0   0.809356  9.415871        1.0\n",
      "4    cell5-0-1-0-0-0   2.810129  6.630638        1.0\n",
      "..               ...        ...       ...        ...\n",
      "595  cell196-1-1-0-1  11.378252  1.025635        2.0\n",
      "596  cell197-1-1-0-1   7.743184  2.681785        2.0\n",
      "597  cell198-1-1-0-1   9.194564  6.090764        2.0\n",
      "598  cell199-1-1-0-1  12.555637  7.740070        2.0\n",
      "599  cell200-1-1-0-1  12.855511  7.345174        2.0\n",
      "\n",
      "[600 rows x 4 columns]>\n",
      "DataFrame 中不存在名为 '_index' 的列。\n",
      "Index(['cell', 'x', 'y', 'cell_type'], dtype='object')\n",
      "st_gene_len----8794\n",
      "cell_name_list----600\n",
      "reading data done\n",
      "The unique celltype list is [1.0, 2.0]\n",
      "knn done\n",
      "all_pair_number ---- 600\n",
      "The cell pair number found between 1.0 and 1.0 is 3204\n",
      "per_exp-------(137554,)\n",
      "find ligand-recepotor pairs time-------------5\n",
      "receptor_gene---------1544\n",
      "lr_pair_sub---------(37402, 5)\n",
      "the number of valid pathway number between 1.0 and 1.0 is: 37402\n",
      "co_exp_ratio=-------(37402, 1)\n",
      "co_exp_value-------(37402, 1)\n",
      "co_exp_p-----(37402,)\n",
      "The ligand-recepotor pairs found between 1.0 and 1.0 with significant expression is 12639\n",
      "find significant expression ligand-recepotor pairs time-------------6\n",
      "find tf time-------------31\n",
      "tf------(95897, 6)\n",
      "path_score---(12335, 13)\n",
      "1.0 and 1.0 done. Data saved to lr/after/datas/temp/cci_result_1.0_1.0.pkl\n",
      "all_pair_number ---- 600\n",
      "The cell pair number found between 2.0 and 1.0 is 860\n",
      "per_exp-------(137554,)\n",
      "find ligand-recepotor pairs time-------------1\n",
      "receptor_gene---------1575\n",
      "lr_pair_sub---------(39383, 5)\n",
      "the number of valid pathway number between 2.0 and 1.0 is: 39383\n",
      "co_exp_ratio=-------(39383, 1)\n",
      "co_exp_value-------(39383, 1)\n",
      "co_exp_p-----(39383,)\n",
      "The ligand-recepotor pairs found between 2.0 and 1.0 with significant expression is 24120\n",
      "find significant expression ligand-recepotor pairs time-------------5\n",
      "find tf time-------------61\n",
      "tf------(198872, 6)\n",
      "path_score---(24099, 13)\n",
      "1.0 and 2.0 done. Data saved to lr/after/datas/temp/cci_result_2.0_1.0.pkl\n",
      "all_pair_number ---- 600\n",
      "The cell pair number found between 1.0 and 2.0 is 796\n",
      "per_exp-------(137554,)\n",
      "find ligand-recepotor pairs time-------------1\n",
      "receptor_gene---------2924\n",
      "lr_pair_sub---------(75553, 5)\n",
      "the number of valid pathway number between 1.0 and 2.0 is: 75553\n",
      "co_exp_ratio=-------(75553, 1)\n",
      "co_exp_value-------(75553, 1)\n",
      "co_exp_p-----(75553,)\n",
      "The ligand-recepotor pairs found between 1.0 and 2.0 with significant expression is 33676\n",
      "find significant expression ligand-recepotor pairs time-------------19\n",
      "find tf time-------------157\n",
      "tf------(1466352, 6)\n",
      "path_score---(33676, 13)\n",
      "2.0 and 1.0 done. Data saved to lr/after/datas/temp/cci_result_1.0_2.0.pkl\n",
      "all_pair_number ---- 600\n",
      "The cell pair number found between 2.0 and 2.0 is 1140\n",
      "per_exp-------(137554,)\n",
      "find ligand-recepotor pairs time-------------2\n",
      "receptor_gene---------2791\n",
      "lr_pair_sub---------(72707, 5)\n",
      "the number of valid pathway number between 2.0 and 2.0 is: 72707\n",
      "co_exp_ratio=-------(72707, 1)\n",
      "co_exp_value-------(72707, 1)\n",
      "co_exp_p-----(72707,)\n",
      "The ligand-recepotor pairs found between 2.0 and 2.0 with significant expression is 40123\n",
      "find significant expression ligand-recepotor pairs time-------------17\n",
      "find tf time-------------175\n",
      "tf------(1595473, 6)\n",
      "path_score---(40123, 13)\n",
      "2.0 and 2.0 done. Data saved to lr/after/datas/temp/cci_result_2.0_2.0.pkl\n",
      "Total running time is 490 seconds\n",
      "finish 2\n",
      "3_3 2_2 right\n",
      "start spilting data\n",
      "View of AnnData object with n_obs × n_vars = 400 × 8616\n",
      "    obs: 'batch', 'leiden'\n",
      "    obsm: 'meta'\n",
      "finish 1\n",
      "start filtering LRIs with spatial data\n",
      "reading data\n",
      "<bound method NDFrame.head of                 cell          x         y  cell_type\n",
      "0    cell1-0-1-0-0-0   6.373032  8.933043        1.0\n",
      "1    cell2-0-1-0-0-0   1.613726  8.248680        1.0\n",
      "2    cell3-0-1-0-0-0   1.373817  2.201218        1.0\n",
      "3    cell4-0-1-0-0-0   0.809356  9.415871        1.0\n",
      "4    cell5-0-1-0-0-0   2.810129  6.630638        1.0\n",
      "..               ...        ...       ...        ...\n",
      "395  cell196-1-1-0-1  11.378252  1.025635        2.0\n",
      "396  cell197-1-1-0-1   7.743184  2.681785        2.0\n",
      "397  cell198-1-1-0-1   9.194564  6.090764        2.0\n",
      "398  cell199-1-1-0-1  12.555637  7.740070        2.0\n",
      "399  cell200-1-1-0-1  12.855511  7.345174        2.0\n",
      "\n",
      "[400 rows x 4 columns]>\n",
      "DataFrame 中不存在名为 '_index' 的列。\n",
      "Index(['cell', 'x', 'y', 'cell_type'], dtype='object')\n",
      "st_gene_len----8616\n",
      "cell_name_list----400\n",
      "reading data done\n",
      "The unique celltype list is [1.0, 2.0]\n",
      "knn done\n",
      "all_pair_number ---- 400\n",
      "The cell pair number found between 1.0 and 1.0 is 1350\n",
      "per_exp-------(132331,)\n",
      "find ligand-recepotor pairs time-------------2\n",
      "receptor_gene---------1380\n",
      "lr_pair_sub---------(34963, 5)\n",
      "the number of valid pathway number between 1.0 and 1.0 is: 34963\n",
      "co_exp_ratio=-------(34963, 1)\n",
      "co_exp_value-------(34963, 1)\n",
      "co_exp_p-----(34963,)\n",
      "The ligand-recepotor pairs found between 1.0 and 1.0 with significant expression is 9276\n",
      "find significant expression ligand-recepotor pairs time-------------4\n",
      "find tf time-------------20\n",
      "tf------(153659, 6)\n",
      "path_score---(9265, 13)\n",
      "1.0 and 1.0 done. Data saved to lr/after/datas/temp/cci_result_1.0_1.0.pkl\n",
      "all_pair_number ---- 400\n",
      "The cell pair number found between 2.0 and 1.0 is 663\n",
      "per_exp-------(132331,)\n",
      "find ligand-recepotor pairs time-------------1\n",
      "receptor_gene---------1466\n",
      "lr_pair_sub---------(38561, 5)\n",
      "the number of valid pathway number between 2.0 and 1.0 is: 38561\n",
      "co_exp_ratio=-------(38561, 1)\n",
      "co_exp_value-------(38561, 1)\n",
      "co_exp_p-----(38561,)\n",
      "The ligand-recepotor pairs found between 2.0 and 1.0 with significant expression is 16655\n",
      "find significant expression ligand-recepotor pairs time-------------4\n",
      "find tf time-------------43\n",
      "tf------(259751, 6)\n",
      "path_score---(16630, 13)\n",
      "1.0 and 2.0 done. Data saved to lr/after/datas/temp/cci_result_2.0_1.0.pkl\n",
      "all_pair_number ---- 400\n",
      "The cell pair number found between 1.0 and 2.0 is 650\n",
      "per_exp-------(132331,)\n",
      "find ligand-recepotor pairs time-------------1\n",
      "receptor_gene---------2854\n",
      "lr_pair_sub---------(72600, 5)\n",
      "the number of valid pathway number between 1.0 and 2.0 is: 72600\n",
      "co_exp_ratio=-------(72600, 1)\n",
      "co_exp_value-------(72600, 1)\n",
      "co_exp_p-----(72600,)\n",
      "The ligand-recepotor pairs found between 1.0 and 2.0 with significant expression is 18511\n",
      "find significant expression ligand-recepotor pairs time-------------20\n",
      "find tf time-------------109\n",
      "tf------(751664, 6)\n",
      "path_score---(18511, 13)\n",
      "2.0 and 1.0 done. Data saved to lr/after/datas/temp/cci_result_1.0_2.0.pkl\n",
      "all_pair_number ---- 400\n",
      "The cell pair number found between 2.0 and 2.0 is 1337\n",
      "per_exp-------(132331,)\n",
      "find ligand-recepotor pairs time-------------4\n",
      "receptor_gene---------2813\n",
      "lr_pair_sub---------(71124, 5)\n",
      "the number of valid pathway number between 2.0 and 2.0 is: 71124\n",
      "co_exp_ratio=-------(71124, 1)\n",
      "co_exp_value-------(71124, 1)\n",
      "co_exp_p-----(71124,)\n",
      "The ligand-recepotor pairs found between 2.0 and 2.0 with significant expression is 46102\n",
      "find significant expression ligand-recepotor pairs time-------------19\n",
      "find tf time-------------263\n",
      "tf------(1751493, 6)\n",
      "path_score---(46102, 13)\n",
      "2.0 and 2.0 done. Data saved to lr/after/datas/temp/cci_result_2.0_2.0.pkl\n",
      "Total running time is 499 seconds\n",
      "finish 2\n",
      "1_1 2_2 right\n",
      "start spilting data\n",
      "View of AnnData object with n_obs × n_vars = 1600 × 8794\n",
      "    obs: 'batch', 'leiden'\n",
      "    obsm: 'meta'\n",
      "finish 1\n",
      "start filtering LRIs with spatial data\n",
      "reading data\n",
      "<bound method NDFrame.head of                  cell          x         y  cell_type\n",
      "0     cell1-0-0-0-0-0   6.373032  8.933043        1.0\n",
      "1     cell2-0-0-0-0-0   1.613726  8.248680        1.0\n",
      "2     cell3-0-0-0-0-0   1.373817  2.201218        1.0\n",
      "3     cell4-0-0-0-0-0   0.809356  9.415871        1.0\n",
      "4     cell5-0-0-0-0-0   2.810129  6.630638        1.0\n",
      "...               ...        ...       ...        ...\n",
      "1595    cell196-1-1-1  11.378252  1.025635        2.0\n",
      "1596    cell197-1-1-1   7.743184  2.681785        2.0\n",
      "1597    cell198-1-1-1   9.194564  6.090764        2.0\n",
      "1598    cell199-1-1-1  12.555637  7.740070        2.0\n",
      "1599    cell200-1-1-1  12.855511  7.345174        2.0\n",
      "\n",
      "[1600 rows x 4 columns]>\n",
      "DataFrame 中不存在名为 '_index' 的列。\n",
      "Index(['cell', 'x', 'y', 'cell_type'], dtype='object')\n",
      "st_gene_len----8794\n",
      "cell_name_list----1600\n",
      "reading data done\n",
      "The unique celltype list is [1.0, 2.0]\n",
      "knn done\n",
      "all_pair_number ---- 1600\n",
      "The cell pair number found between 1.0 and 1.0 is 6324\n",
      "per_exp-------(137554,)\n",
      "find ligand-recepotor pairs time-------------18\n",
      "receptor_gene---------1833\n",
      "lr_pair_sub---------(47071, 5)\n",
      "the number of valid pathway number between 1.0 and 1.0 is: 47071\n",
      "co_exp_ratio=-------(47071, 1)\n",
      "co_exp_value-------(47071, 1)\n",
      "co_exp_p-----(47071,)\n",
      "The ligand-recepotor pairs found between 1.0 and 1.0 with significant expression is 1870\n",
      "find significant expression ligand-recepotor pairs time-------------15\n",
      "find tf time-------------9\n",
      "tf------(18416, 6)\n",
      "path_score---(1835, 13)\n",
      "1.0 and 1.0 done. Data saved to lr/after/datas/temp/cci_result_1.0_1.0.pkl\n",
      "all_pair_number ---- 1600\n",
      "The cell pair number found between 2.0 and 1.0 is 1684\n",
      "per_exp-------(137554,)\n",
      "find ligand-recepotor pairs time-------------3\n",
      "receptor_gene---------1882\n",
      "lr_pair_sub---------(48998, 5)\n",
      "the number of valid pathway number between 2.0 and 1.0 is: 48998\n",
      "co_exp_ratio=-------(48998, 1)\n",
      "co_exp_value-------(48998, 1)\n",
      "co_exp_p-----(48998,)\n",
      "The ligand-recepotor pairs found between 2.0 and 1.0 with significant expression is 20806\n",
      "find significant expression ligand-recepotor pairs time-------------12\n",
      "find tf time-------------95\n",
      "tf------(189109, 6)\n",
      "path_score---(20550, 13)\n",
      "1.0 and 2.0 done. Data saved to lr/after/datas/temp/cci_result_2.0_1.0.pkl\n",
      "all_pair_number ---- 1600\n",
      "The cell pair number found between 1.0 and 2.0 is 1676\n",
      "per_exp-------(137554,)\n",
      "find ligand-recepotor pairs time-------------6\n",
      "receptor_gene---------3479\n",
      "lr_pair_sub---------(88146, 5)\n",
      "the number of valid pathway number between 1.0 and 2.0 is: 88146\n",
      "co_exp_ratio=-------(88146, 1)\n",
      "co_exp_value-------(88146, 1)\n",
      "co_exp_p-----(88146,)\n",
      "The ligand-recepotor pairs found between 1.0 and 2.0 with significant expression is 23434\n",
      "find significant expression ligand-recepotor pairs time-------------36\n",
      "find tf time-------------168\n",
      "tf------(856302, 6)\n",
      "path_score---(23346, 13)\n",
      "2.0 and 1.0 done. Data saved to lr/after/datas/temp/cci_result_1.0_2.0.pkl\n",
      "all_pair_number ---- 1600\n",
      "The cell pair number found between 2.0 and 2.0 is 6316\n",
      "per_exp-------(137554,)\n",
      "find ligand-recepotor pairs time-------------45\n",
      "receptor_gene---------3385\n",
      "lr_pair_sub---------(85823, 5)\n",
      "the number of valid pathway number between 2.0 and 2.0 is: 85823\n",
      "co_exp_ratio=-------(85823, 1)\n",
      "co_exp_value-------(85823, 1)\n",
      "co_exp_p-----(85823,)\n",
      "The ligand-recepotor pairs found between 2.0 and 2.0 with significant expression is 66397\n",
      "find significant expression ligand-recepotor pairs time-------------44\n",
      "find tf time-------------488\n",
      "tf------(2199047, 6)\n",
      "path_score---(66369, 13)\n",
      "2.0 and 2.0 done. Data saved to lr/after/datas/temp/cci_result_2.0_2.0.pkl\n",
      "Total running time is 951 seconds\n",
      "finish 2\n",
      "0_0 0_0 right\n",
      "start spilting data\n",
      "View of AnnData object with n_obs × n_vars = 1200 × 8794\n",
      "    obs: 'batch', 'leiden'\n",
      "    obsm: 'meta'\n",
      "finish 1\n",
      "start filtering LRIs with spatial data\n",
      "reading data\n",
      "<bound method NDFrame.head of                  cell          x         y  cell_type\n",
      "0     cell1-0-0-0-0-0   6.373032  8.933043        1.0\n",
      "1     cell2-0-0-0-0-0   1.613726  8.248680        1.0\n",
      "2     cell3-0-0-0-0-0   1.373817  2.201218        1.0\n",
      "3     cell4-0-0-0-0-0   0.809356  9.415871        1.0\n",
      "4     cell5-0-0-0-0-0   2.810129  6.630638        1.0\n",
      "...               ...        ...       ...        ...\n",
      "1195    cell196-1-1-1  11.378252  1.025635        2.0\n",
      "1196    cell197-1-1-1   7.743184  2.681785        2.0\n",
      "1197    cell198-1-1-1   9.194564  6.090764        2.0\n",
      "1198    cell199-1-1-1  12.555637  7.740070        2.0\n",
      "1199    cell200-1-1-1  12.855511  7.345174        2.0\n",
      "\n",
      "[1200 rows x 4 columns]>\n",
      "DataFrame 中不存在名为 '_index' 的列。\n",
      "Index(['cell', 'x', 'y', 'cell_type'], dtype='object')\n",
      "st_gene_len----8794\n",
      "cell_name_list----1200\n",
      "reading data done\n",
      "The unique celltype list is [1.0, 2.0]\n",
      "knn done\n",
      "all_pair_number ---- 1200\n",
      "The cell pair number found between 1.0 and 1.0 is 6776\n",
      "per_exp-------(137554,)\n",
      "find ligand-recepotor pairs time-------------17\n",
      "receptor_gene---------1847\n",
      "lr_pair_sub---------(47470, 5)\n",
      "the number of valid pathway number between 1.0 and 1.0 is: 47470\n",
      "co_exp_ratio=-------(47470, 1)\n",
      "co_exp_value-------(47470, 1)\n",
      "co_exp_p-----(47470,)\n",
      "The ligand-recepotor pairs found between 1.0 and 1.0 with significant expression is 6471\n",
      "find significant expression ligand-recepotor pairs time-------------15\n",
      "find tf time-------------32\n",
      "tf------(70263, 6)\n",
      "path_score---(6418, 13)\n",
      "1.0 and 1.0 done. Data saved to lr/after/datas/temp/cci_result_1.0_1.0.pkl\n",
      "all_pair_number ---- 1200\n",
      "The cell pair number found between 2.0 and 1.0 is 1426\n",
      "per_exp-------(137554,)\n",
      "find ligand-recepotor pairs time-------------2\n",
      "receptor_gene---------1882\n",
      "lr_pair_sub---------(48871, 5)\n",
      "the number of valid pathway number between 2.0 and 1.0 is: 48871\n",
      "co_exp_ratio=-------(48871, 1)\n",
      "co_exp_value-------(48871, 1)\n",
      "co_exp_p-----(48871,)\n",
      "The ligand-recepotor pairs found between 2.0 and 1.0 with significant expression is 24585\n",
      "find significant expression ligand-recepotor pairs time-------------13\n",
      "find tf time-------------119\n",
      "tf------(236398, 6)\n",
      "path_score---(24236, 13)\n",
      "1.0 and 2.0 done. Data saved to lr/after/datas/temp/cci_result_2.0_1.0.pkl\n",
      "all_pair_number ---- 1200\n",
      "The cell pair number found between 1.0 and 2.0 is 1224\n",
      "per_exp-------(137554,)\n",
      "find ligand-recepotor pairs time-------------5\n",
      "receptor_gene---------3363\n",
      "lr_pair_sub---------(77257, 5)\n",
      "the number of valid pathway number between 1.0 and 2.0 is: 77257\n",
      "co_exp_ratio=-------(77257, 1)\n",
      "co_exp_value-------(77257, 1)\n",
      "co_exp_p-----(77257,)\n",
      "The ligand-recepotor pairs found between 1.0 and 2.0 with significant expression is 35142\n",
      "find significant expression ligand-recepotor pairs time-------------35\n",
      "find tf time-------------252\n",
      "tf------(1392011, 6)\n",
      "path_score---(35120, 13)\n",
      "2.0 and 1.0 done. Data saved to lr/after/datas/temp/cci_result_1.0_2.0.pkl\n",
      "all_pair_number ---- 1200\n",
      "The cell pair number found between 2.0 and 2.0 is 2574\n",
      "per_exp-------(137554,)\n",
      "find ligand-recepotor pairs time-------------11\n",
      "receptor_gene---------3246\n",
      "lr_pair_sub---------(75017, 5)\n",
      "the number of valid pathway number between 2.0 and 2.0 is: 75017\n",
      "co_exp_ratio=-------(75017, 1)\n",
      "co_exp_value-------(75017, 1)\n",
      "co_exp_p-----(75017,)\n",
      "The ligand-recepotor pairs found between 2.0 and 2.0 with significant expression is 55901\n",
      "find significant expression ligand-recepotor pairs time-------------36\n",
      "find tf time-------------359\n",
      "tf------(2039548, 6)\n",
      "path_score---(55869, 13)\n",
      "2.0 and 2.0 done. Data saved to lr/after/datas/temp/cci_result_2.0_2.0.pkl\n",
      "Total running time is 907 seconds\n",
      "finish 2\n",
      "0_0 3_3 right\n",
      "start spilting data\n",
      "View of AnnData object with n_obs × n_vars = 1000 × 8794\n",
      "    obs: 'batch', 'leiden'\n",
      "    obsm: 'meta'\n",
      "finish 1\n",
      "start filtering LRIs with spatial data\n",
      "reading data\n",
      "<bound method NDFrame.head of                   cell          x         y  cell_type\n",
      "0      cell1-0-0-0-0-0   6.373032  8.933043        1.0\n",
      "1      cell2-0-0-0-0-0   1.613726  8.248680        1.0\n",
      "2      cell3-0-0-0-0-0   1.373817  2.201218        1.0\n",
      "3      cell4-0-0-0-0-0   0.809356  9.415871        1.0\n",
      "4      cell5-0-0-0-0-0   2.810129  6.630638        1.0\n",
      "..                 ...        ...       ...        ...\n",
      "995  cell196-1-1-0-0-1  11.378252  1.025635        2.0\n",
      "996  cell197-1-1-0-0-1   7.743184  2.681785        2.0\n",
      "997  cell198-1-1-0-0-1   9.194564  6.090764        2.0\n",
      "998  cell199-1-1-0-0-1  12.555637  7.740070        2.0\n",
      "999  cell200-1-1-0-0-1  12.855511  7.345174        2.0\n",
      "\n",
      "[1000 rows x 4 columns]>\n",
      "DataFrame 中不存在名为 '_index' 的列。\n",
      "Index(['cell', 'x', 'y', 'cell_type'], dtype='object')\n",
      "st_gene_len----8794\n",
      "cell_name_list----1000\n",
      "reading data done\n",
      "The unique celltype list is [1.0, 2.0]\n",
      "knn done\n",
      "all_pair_number ---- 1000\n",
      "The cell pair number found between 1.0 and 1.0 is 7208\n",
      "per_exp-------(137554,)\n",
      "find ligand-recepotor pairs time-------------18\n",
      "receptor_gene---------1912\n",
      "lr_pair_sub---------(47470, 5)\n",
      "the number of valid pathway number between 1.0 and 1.0 is: 47470\n",
      "co_exp_ratio=-------(47470, 1)\n",
      "co_exp_value-------(47470, 1)\n",
      "co_exp_p-----(47470,)\n",
      "The ligand-recepotor pairs found between 1.0 and 1.0 with significant expression is 9543\n",
      "find significant expression ligand-recepotor pairs time-------------13\n",
      "find tf time-------------36\n",
      "tf------(90761, 6)\n",
      "path_score---(9540, 13)\n",
      "1.0 and 1.0 done. Data saved to lr/after/datas/temp/cci_result_1.0_1.0.pkl\n",
      "all_pair_number ---- 1000\n",
      "The cell pair number found between 2.0 and 1.0 is 999\n",
      "per_exp-------(137554,)\n",
      "find ligand-recepotor pairs time-------------1\n",
      "receptor_gene---------1934\n",
      "lr_pair_sub---------(49630, 5)\n",
      "the number of valid pathway number between 2.0 and 1.0 is: 49630\n",
      "co_exp_ratio=-------(49630, 1)\n",
      "co_exp_value-------(49630, 1)\n",
      "co_exp_p-----(49630,)\n",
      "The ligand-recepotor pairs found between 2.0 and 1.0 with significant expression is 24931\n",
      "find significant expression ligand-recepotor pairs time-------------10\n",
      "find tf time-------------93\n",
      "tf------(225101, 6)\n",
      "path_score---(24681, 13)\n",
      "1.0 and 2.0 done. Data saved to lr/after/datas/temp/cci_result_2.0_1.0.pkl\n",
      "all_pair_number ---- 1000\n",
      "The cell pair number found between 1.0 and 2.0 is 792\n",
      "per_exp-------(137554,)\n",
      "find ligand-recepotor pairs time-------------1\n",
      "receptor_gene---------2977\n",
      "lr_pair_sub---------(72639, 5)\n",
      "the number of valid pathway number between 1.0 and 2.0 is: 72639\n",
      "co_exp_ratio=-------(72639, 1)\n",
      "co_exp_value-------(72639, 1)\n",
      "co_exp_p-----(72639,)\n",
      "The ligand-recepotor pairs found between 1.0 and 2.0 with significant expression is 39932\n",
      "find significant expression ligand-recepotor pairs time-------------18\n",
      "find tf time-------------200\n",
      "tf------(1438240, 6)\n",
      "path_score---(39905, 13)\n",
      "2.0 and 1.0 done. Data saved to lr/after/datas/temp/cci_result_1.0_2.0.pkl\n",
      "all_pair_number ---- 1000\n",
      "The cell pair number found between 2.0 and 2.0 is 1001\n",
      "per_exp-------(137554,)\n",
      "find ligand-recepotor pairs time-------------2\n",
      "receptor_gene---------2870\n",
      "lr_pair_sub---------(69349, 5)\n",
      "the number of valid pathway number between 2.0 and 2.0 is: 69349\n",
      "co_exp_ratio=-------(69349, 1)\n",
      "co_exp_value-------(69349, 1)\n",
      "co_exp_p-----(69349,)\n",
      "The ligand-recepotor pairs found between 2.0 and 2.0 with significant expression is 42592\n",
      "find significant expression ligand-recepotor pairs time-------------19\n",
      "find tf time-------------206\n",
      "tf------(1320122, 6)\n",
      "path_score---(42563, 13)\n",
      "2.0 and 2.0 done. Data saved to lr/after/datas/temp/cci_result_2.0_2.0.pkl\n",
      "Total running time is 628 seconds\n",
      "finish 2\n",
      "0_0 1_1 right\n",
      "start spilting data\n",
      "View of AnnData object with n_obs × n_vars = 1000 × 8794\n",
      "    obs: 'batch', 'leiden'\n",
      "    obsm: 'meta'\n",
      "finish 1\n",
      "start filtering LRIs with spatial data\n",
      "reading data\n",
      "<bound method NDFrame.head of                 cell          x         y  cell_type\n",
      "0    cell1-0-0-0-0-0   6.373032  8.933043        1.0\n",
      "1    cell2-0-0-0-0-0   1.613726  8.248680        1.0\n",
      "2    cell3-0-0-0-0-0   1.373817  2.201218        1.0\n",
      "3    cell4-0-0-0-0-0   0.809356  9.415871        1.0\n",
      "4    cell5-0-0-0-0-0   2.810129  6.630638        1.0\n",
      "..               ...        ...       ...        ...\n",
      "995  cell196-1-1-0-1  11.378252  1.025635        2.0\n",
      "996  cell197-1-1-0-1   7.743184  2.681785        2.0\n",
      "997  cell198-1-1-0-1   9.194564  6.090764        2.0\n",
      "998  cell199-1-1-0-1  12.555637  7.740070        2.0\n",
      "999  cell200-1-1-0-1  12.855511  7.345174        2.0\n",
      "\n",
      "[1000 rows x 4 columns]>\n",
      "DataFrame 中不存在名为 '_index' 的列。\n",
      "Index(['cell', 'x', 'y', 'cell_type'], dtype='object')\n",
      "st_gene_len----8794\n",
      "cell_name_list----1000\n",
      "reading data done\n",
      "The unique celltype list is [1.0, 2.0]\n",
      "knn done\n",
      "all_pair_number ---- 1000\n",
      "The cell pair number found between 1.0 and 1.0 is 7208\n",
      "per_exp-------(137554,)\n",
      "find ligand-recepotor pairs time-------------18\n",
      "receptor_gene---------1918\n",
      "lr_pair_sub---------(47470, 5)\n",
      "the number of valid pathway number between 1.0 and 1.0 is: 47470\n",
      "co_exp_ratio=-------(47470, 1)\n",
      "co_exp_value-------(47470, 1)\n",
      "co_exp_p-----(47470,)\n",
      "The ligand-recepotor pairs found between 1.0 and 1.0 with significant expression is 9064\n",
      "find significant expression ligand-recepotor pairs time-------------16\n",
      "find tf time-------------41\n",
      "tf------(68660, 6)\n",
      "path_score---(8788, 13)\n",
      "1.0 and 1.0 done. Data saved to lr/after/datas/temp/cci_result_1.0_1.0.pkl\n",
      "all_pair_number ---- 1000\n",
      "The cell pair number found between 2.0 and 1.0 is 999\n",
      "per_exp-------(137554,)\n",
      "find ligand-recepotor pairs time-------------1\n",
      "receptor_gene---------1939\n",
      "lr_pair_sub---------(49565, 5)\n",
      "the number of valid pathway number between 2.0 and 1.0 is: 49565\n",
      "co_exp_ratio=-------(49565, 1)\n",
      "co_exp_value-------(49565, 1)\n",
      "co_exp_p-----(49565,)\n",
      "The ligand-recepotor pairs found between 2.0 and 1.0 with significant expression is 25099\n",
      "find significant expression ligand-recepotor pairs time-------------11\n",
      "find tf time-------------103\n",
      "tf------(216125, 6)\n",
      "path_score---(24649, 13)\n",
      "1.0 and 2.0 done. Data saved to lr/after/datas/temp/cci_result_2.0_1.0.pkl\n",
      "all_pair_number ---- 1000\n",
      "The cell pair number found between 1.0 and 2.0 is 792\n",
      "per_exp-------(137554,)\n",
      "find ligand-recepotor pairs time-------------1\n",
      "receptor_gene---------2886\n",
      "lr_pair_sub---------(74716, 5)\n",
      "the number of valid pathway number between 1.0 and 2.0 is: 74716\n",
      "co_exp_ratio=-------(74716, 1)\n",
      "co_exp_value-------(74716, 1)\n",
      "co_exp_p-----(74716,)\n",
      "The ligand-recepotor pairs found between 1.0 and 2.0 with significant expression is 39786\n",
      "find significant expression ligand-recepotor pairs time-------------21\n",
      "find tf time-------------238\n",
      "tf------(1662011, 6)\n",
      "path_score---(39786, 13)\n",
      "2.0 and 1.0 done. Data saved to lr/after/datas/temp/cci_result_1.0_2.0.pkl\n",
      "all_pair_number ---- 1000\n",
      "The cell pair number found between 2.0 and 2.0 is 1001\n",
      "per_exp-------(137554,)\n",
      "find ligand-recepotor pairs time-------------3\n",
      "receptor_gene---------2791\n",
      "lr_pair_sub---------(71337, 5)\n",
      "the number of valid pathway number between 2.0 and 2.0 is: 71337\n",
      "co_exp_ratio=-------(71337, 1)\n",
      "co_exp_value-------(71337, 1)\n",
      "co_exp_p-----(71337,)\n",
      "The ligand-recepotor pairs found between 2.0 and 2.0 with significant expression is 44054\n",
      "find significant expression ligand-recepotor pairs time-------------20\n",
      "find tf time-------------224\n",
      "tf------(1745540, 6)\n",
      "path_score---(44054, 13)\n",
      "2.0 and 2.0 done. Data saved to lr/after/datas/temp/cci_result_2.0_2.0.pkl\n",
      "Total running time is 710 seconds\n",
      "finish 2\n",
      "0_0 2_2 right\n",
      "start spilting data\n",
      "View of AnnData object with n_obs × n_vars = 1200 × 8794\n",
      "    obs: 'batch', 'leiden'\n",
      "    obsm: 'meta'\n",
      "finish 1\n",
      "start filtering LRIs with spatial data\n",
      "reading data\n",
      "<bound method NDFrame.head of                  cell          x         y  cell_type\n",
      "0     cell1-0-1-0-0-0   6.373032  8.933043        1.0\n",
      "1     cell2-0-1-0-0-0   1.613726  8.248680        1.0\n",
      "2     cell3-0-1-0-0-0   1.373817  2.201218        1.0\n",
      "3     cell4-0-1-0-0-0   0.809356  9.415871        1.0\n",
      "4     cell5-0-1-0-0-0   2.810129  6.630638        1.0\n",
      "...               ...        ...       ...        ...\n",
      "1195    cell196-1-1-1  11.378252  1.025635        2.0\n",
      "1196    cell197-1-1-1   7.743184  2.681785        2.0\n",
      "1197    cell198-1-1-1   9.194564  6.090764        2.0\n",
      "1198    cell199-1-1-1  12.555637  7.740070        2.0\n",
      "1199    cell200-1-1-1  12.855511  7.345174        2.0\n",
      "\n",
      "[1200 rows x 4 columns]>\n",
      "DataFrame 中不存在名为 '_index' 的列。\n",
      "Index(['cell', 'x', 'y', 'cell_type'], dtype='object')\n",
      "st_gene_len----8794\n",
      "cell_name_list----1200\n",
      "reading data done\n",
      "The unique celltype list is [1.0, 2.0]\n",
      "knn done\n",
      "all_pair_number ---- 1200\n",
      "The cell pair number found between 1.0 and 1.0 is 2554\n",
      "per_exp-------(137554,)\n",
      "find ligand-recepotor pairs time-------------5\n",
      "receptor_gene---------1509\n",
      "lr_pair_sub---------(36063, 5)\n",
      "the number of valid pathway number between 1.0 and 1.0 is: 36063\n",
      "co_exp_ratio=-------(36063, 1)\n",
      "co_exp_value-------(36063, 1)\n",
      "co_exp_p-----(36063,)\n",
      "The ligand-recepotor pairs found between 1.0 and 1.0 with significant expression is 9947\n",
      "find significant expression ligand-recepotor pairs time-------------6\n",
      "find tf time-------------27\n",
      "tf------(74083, 6)\n",
      "path_score---(9635, 13)\n",
      "1.0 and 1.0 done. Data saved to lr/after/datas/temp/cci_result_1.0_1.0.pkl\n",
      "all_pair_number ---- 1200\n",
      "The cell pair number found between 2.0 and 1.0 is 1248\n",
      "per_exp-------(137554,)\n",
      "find ligand-recepotor pairs time-------------2\n",
      "receptor_gene---------1629\n",
      "lr_pair_sub---------(37927, 5)\n",
      "the number of valid pathway number between 2.0 and 1.0 is: 37927\n",
      "co_exp_ratio=-------(37927, 1)\n",
      "co_exp_value-------(37927, 1)\n",
      "co_exp_p-----(37927,)\n",
      "The ligand-recepotor pairs found between 2.0 and 1.0 with significant expression is 23231\n",
      "find significant expression ligand-recepotor pairs time-------------6\n",
      "find tf time-------------66\n",
      "tf------(177494, 6)\n",
      "path_score---(23209, 13)\n",
      "1.0 and 2.0 done. Data saved to lr/after/datas/temp/cci_result_2.0_1.0.pkl\n",
      "all_pair_number ---- 1200\n",
      "The cell pair number found between 1.0 and 2.0 is 1446\n",
      "per_exp-------(137554,)\n",
      "find ligand-recepotor pairs time-------------4\n",
      "receptor_gene---------3486\n",
      "lr_pair_sub---------(88543, 5)\n",
      "the number of valid pathway number between 1.0 and 2.0 is: 88543\n",
      "co_exp_ratio=-------(88543, 1)\n",
      "co_exp_value-------(88543, 1)\n",
      "co_exp_p-----(88543,)\n",
      "The ligand-recepotor pairs found between 1.0 and 2.0 with significant expression is 20946\n",
      "find significant expression ligand-recepotor pairs time-------------31\n",
      "find tf time-------------126\n",
      "tf------(755216, 6)\n",
      "path_score---(20940, 13)\n",
      "2.0 and 1.0 done. Data saved to lr/after/datas/temp/cci_result_1.0_2.0.pkl\n",
      "all_pair_number ---- 1200\n",
      "The cell pair number found between 2.0 and 2.0 is 6752\n",
      "per_exp-------(137554,)\n",
      "find ligand-recepotor pairs time-------------48\n",
      "receptor_gene---------3358\n",
      "lr_pair_sub---------(85470, 5)\n",
      "the number of valid pathway number between 2.0 and 2.0 is: 85470\n",
      "co_exp_ratio=-------(85470, 1)\n",
      "co_exp_value-------(85470, 1)\n",
      "co_exp_p-----(85470,)\n",
      "The ligand-recepotor pairs found between 2.0 and 2.0 with significant expression is 44252\n",
      "find significant expression ligand-recepotor pairs time-------------47\n",
      "find tf time-------------266\n",
      "tf------(1528474, 6)\n",
      "path_score---(44242, 13)\n",
      "2.0 and 2.0 done. Data saved to lr/after/datas/temp/cci_result_2.0_2.0.pkl\n",
      "Total running time is 644 seconds\n",
      "finish 2\n",
      "3_3 0_0 right\n",
      "start spilting data\n",
      "View of AnnData object with n_obs × n_vars = 1000 × 8794\n",
      "    obs: 'batch', 'leiden'\n",
      "    obsm: 'meta'\n",
      "finish 1\n",
      "start filtering LRIs with spatial data\n",
      "reading data\n",
      "<bound method NDFrame.head of                 cell          x         y  cell_type\n",
      "0    cell1-0-1-0-0-0   6.373032  8.933043        1.0\n",
      "1    cell2-0-1-0-0-0   1.613726  8.248680        1.0\n",
      "2    cell3-0-1-0-0-0   1.373817  2.201218        1.0\n",
      "3    cell4-0-1-0-0-0   0.809356  9.415871        1.0\n",
      "4    cell5-0-1-0-0-0   2.810129  6.630638        1.0\n",
      "..               ...        ...       ...        ...\n",
      "995    cell196-1-1-1  11.378252  1.025635        2.0\n",
      "996    cell197-1-1-1   7.743184  2.681785        2.0\n",
      "997    cell198-1-1-1   9.194564  6.090764        2.0\n",
      "998    cell199-1-1-1  12.555637  7.740070        2.0\n",
      "999    cell200-1-1-1  12.855511  7.345174        2.0\n",
      "\n",
      "[1000 rows x 4 columns]>\n",
      "DataFrame 中不存在名为 '_index' 的列。\n",
      "Index(['cell', 'x', 'y', 'cell_type'], dtype='object')\n",
      "st_gene_len----8794\n",
      "cell_name_list----1000\n",
      "reading data done\n",
      "The unique celltype list is [1.0, 2.0]\n",
      "knn done\n",
      "all_pair_number ---- 1000\n",
      "The cell pair number found between 1.0 and 1.0 is 983\n",
      "per_exp-------(137554,)\n",
      "find ligand-recepotor pairs time-------------1\n",
      "receptor_gene---------1345\n",
      "lr_pair_sub---------(32337, 5)\n",
      "the number of valid pathway number between 1.0 and 1.0 is: 32337\n",
      "co_exp_ratio=-------(32337, 1)\n",
      "co_exp_value-------(32337, 1)\n",
      "co_exp_p-----(32337,)\n",
      "The ligand-recepotor pairs found between 1.0 and 1.0 with significant expression is 7364\n",
      "find significant expression ligand-recepotor pairs time-------------4\n",
      "find tf time-------------19\n",
      "tf------(127849, 6)\n",
      "path_score---(7355, 13)\n",
      "1.0 and 1.0 done. Data saved to lr/after/datas/temp/cci_result_1.0_1.0.pkl\n",
      "all_pair_number ---- 1000\n",
      "The cell pair number found between 2.0 and 1.0 is 832\n",
      "per_exp-------(137554,)\n",
      "find ligand-recepotor pairs time-------------1\n",
      "receptor_gene---------1541\n",
      "lr_pair_sub---------(38800, 5)\n",
      "the number of valid pathway number between 2.0 and 1.0 is: 38800\n",
      "co_exp_ratio=-------(38800, 1)\n",
      "co_exp_value-------(38800, 1)\n",
      "co_exp_p-----(38800,)\n",
      "The ligand-recepotor pairs found between 2.0 and 1.0 with significant expression is 17651\n",
      "find significant expression ligand-recepotor pairs time-------------5\n",
      "find tf time-------------49\n",
      "tf------(313668, 6)\n",
      "path_score---(17624, 13)\n",
      "1.0 and 2.0 done. Data saved to lr/after/datas/temp/cci_result_2.0_1.0.pkl\n",
      "all_pair_number ---- 1000\n",
      "The cell pair number found between 1.0 and 2.0 is 1017\n",
      "per_exp-------(137554,)\n",
      "find ligand-recepotor pairs time-------------2\n",
      "receptor_gene---------3497\n",
      "lr_pair_sub---------(88135, 5)\n",
      "the number of valid pathway number between 1.0 and 2.0 is: 88135\n",
      "co_exp_ratio=-------(88135, 1)\n",
      "co_exp_value-------(88135, 1)\n",
      "co_exp_p-----(88135,)\n",
      "The ligand-recepotor pairs found between 1.0 and 2.0 with significant expression is 13094\n",
      "find significant expression ligand-recepotor pairs time-------------31\n",
      "find tf time-------------78\n",
      "tf------(463714, 6)\n",
      "path_score---(13090, 13)\n",
      "2.0 and 1.0 done. Data saved to lr/after/datas/temp/cci_result_1.0_2.0.pkl\n",
      "all_pair_number ---- 1000\n",
      "The cell pair number found between 2.0 and 2.0 is 7168\n",
      "per_exp-------(137554,)\n",
      "find ligand-recepotor pairs time-------------33\n",
      "receptor_gene---------3317\n",
      "lr_pair_sub---------(83124, 5)\n",
      "the number of valid pathway number between 2.0 and 2.0 is: 83124\n",
      "co_exp_ratio=-------(83124, 1)\n",
      "co_exp_value-------(83124, 1)\n",
      "co_exp_p-----(83124,)\n",
      "The ligand-recepotor pairs found between 2.0 and 2.0 with significant expression is 48338\n",
      "find significant expression ligand-recepotor pairs time-------------36\n",
      "find tf time-------------277\n",
      "tf------(1583429, 6)\n",
      "path_score---(48334, 13)\n",
      "2.0 and 2.0 done. Data saved to lr/after/datas/temp/cci_result_2.0_2.0.pkl\n",
      "Total running time is 546 seconds\n",
      "finish 2\n",
      "1_1 0_0 right\n",
      "start spilting data\n",
      "View of AnnData object with n_obs × n_vars = 1000 × 8794\n",
      "    obs: 'batch', 'leiden'\n",
      "    obsm: 'meta'\n",
      "finish 1\n",
      "start filtering LRIs with spatial data\n",
      "reading data\n",
      "<bound method NDFrame.head of               cell          x         y  cell_type\n",
      "0    cell1-0-1-0-0   6.373032  8.933043        1.0\n",
      "1    cell2-0-1-0-0   1.613726  8.248680        1.0\n",
      "2    cell3-0-1-0-0   1.373817  2.201218        1.0\n",
      "3    cell4-0-1-0-0   0.809356  9.415871        1.0\n",
      "4    cell5-0-1-0-0   2.810129  6.630638        1.0\n",
      "..             ...        ...       ...        ...\n",
      "995  cell196-1-1-1  11.378252  1.025635        2.0\n",
      "996  cell197-1-1-1   7.743184  2.681785        2.0\n",
      "997  cell198-1-1-1   9.194564  6.090764        2.0\n",
      "998  cell199-1-1-1  12.555637  7.740070        2.0\n",
      "999  cell200-1-1-1  12.855511  7.345174        2.0\n",
      "\n",
      "[1000 rows x 4 columns]>\n",
      "DataFrame 中不存在名为 '_index' 的列。\n",
      "Index(['cell', 'x', 'y', 'cell_type'], dtype='object')\n",
      "st_gene_len----8794\n",
      "cell_name_list----1000\n",
      "reading data done\n",
      "The unique celltype list is [1.0, 2.0]\n",
      "knn done\n",
      "all_pair_number ---- 1000\n",
      "The cell pair number found between 1.0 and 1.0 is 983\n",
      "per_exp-------(137554,)\n",
      "find ligand-recepotor pairs time-------------1\n",
      "receptor_gene---------1400\n",
      "lr_pair_sub---------(39720, 5)\n",
      "the number of valid pathway number between 1.0 and 1.0 is: 39720\n",
      "co_exp_ratio=-------(39720, 1)\n",
      "co_exp_value-------(39720, 1)\n",
      "co_exp_p-----(39720,)\n",
      "The ligand-recepotor pairs found between 1.0 and 1.0 with significant expression is 8097\n",
      "find significant expression ligand-recepotor pairs time-------------4\n",
      "find tf time-------------21\n",
      "tf------(195814, 6)\n",
      "path_score---(8097, 13)\n",
      "1.0 and 1.0 done. Data saved to lr/after/datas/temp/cci_result_1.0_1.0.pkl\n",
      "all_pair_number ---- 1000\n",
      "The cell pair number found between 2.0 and 1.0 is 832\n",
      "per_exp-------(137554,)\n",
      "find ligand-recepotor pairs time-------------1\n",
      "receptor_gene---------1598\n",
      "lr_pair_sub---------(46700, 5)\n",
      "the number of valid pathway number between 2.0 and 1.0 is: 46700\n",
      "co_exp_ratio=-------(46700, 1)\n",
      "co_exp_value-------(46700, 1)\n",
      "co_exp_p-----(46700,)\n",
      "The ligand-recepotor pairs found between 2.0 and 1.0 with significant expression is 17802\n",
      "find significant expression ligand-recepotor pairs time-------------5\n",
      "find tf time-------------49\n",
      "tf------(414200, 6)\n",
      "path_score---(17799, 13)\n",
      "1.0 and 2.0 done. Data saved to lr/after/datas/temp/cci_result_2.0_1.0.pkl\n",
      "all_pair_number ---- 1000\n",
      "The cell pair number found between 1.0 and 2.0 is 1017\n",
      "per_exp-------(137554,)\n",
      "find ligand-recepotor pairs time-------------2\n",
      "receptor_gene---------3481\n",
      "lr_pair_sub---------(86855, 5)\n",
      "the number of valid pathway number between 1.0 and 2.0 is: 86855\n",
      "co_exp_ratio=-------(86855, 1)\n",
      "co_exp_value-------(86855, 1)\n",
      "co_exp_p-----(86855,)\n",
      "The ligand-recepotor pairs found between 1.0 and 2.0 with significant expression is 14327\n",
      "find significant expression ligand-recepotor pairs time-------------31\n",
      "find tf time-------------85\n",
      "tf------(523095, 6)\n",
      "path_score---(14317, 13)\n",
      "2.0 and 1.0 done. Data saved to lr/after/datas/temp/cci_result_1.0_2.0.pkl\n",
      "all_pair_number ---- 1000\n",
      "The cell pair number found between 2.0 and 2.0 is 7168\n",
      "per_exp-------(137554,)\n",
      "find ligand-recepotor pairs time-------------31\n",
      "receptor_gene---------3295\n",
      "lr_pair_sub---------(83075, 5)\n",
      "the number of valid pathway number between 2.0 and 2.0 is: 83075\n",
      "co_exp_ratio=-------(83075, 1)\n",
      "co_exp_value-------(83075, 1)\n",
      "co_exp_p-----(83075,)\n",
      "The ligand-recepotor pairs found between 2.0 and 2.0 with significant expression is 46516\n",
      "find significant expression ligand-recepotor pairs time-------------35\n",
      "find tf time-------------262\n",
      "tf------(1563938, 6)\n",
      "path_score---(46491, 13)\n",
      "2.0 and 2.0 done. Data saved to lr/after/datas/temp/cci_result_2.0_2.0.pkl\n",
      "Total running time is 536 seconds\n",
      "finish 2\n",
      "2_2 0_0 right\n",
      "The mininum cost for alignment is 3.9427748756287824\n",
      "The alignment edges list is [('0_0', '0_0'), ('2_2', '2_2'), ('3_3', '3_3'), ('1_1', '1_1')]\n"
     ]
    }
   ],
   "source": [
    "T=tree_alignment(nodes1[0],nodes2[0],1,True,datas1,datas2);\n",
    "minn = T.run_alignment();\n",
    "T.show_ans();"
   ]
  },
  {
   "cell_type": "code",
   "execution_count": 110,
   "metadata": {},
   "outputs": [
    {
     "name": "stdout",
     "output_type": "stream",
     "text": [
      "{'2': '#eeea5e', '0': '#44d641', '1': '#cc4bc3', '3': '#6b252f', 'empty': '#fff'}\n"
     ]
    },
    {
     "data": {
      "application/vnd.plotly.v1+json": {
       "config": {
        "plotlyServerURL": "https://plot.ly"
       },
       "data": [
        {
         "hoverinfo": "text",
         "hovertext": [
          "connect 2_2",
          "connect 2_2"
         ],
         "legendgroup": "2",
         "marker": {
          "color": "#eeea5e",
          "size": 35,
          "symbol": "circle-dot"
         },
         "mode": "markers+text",
         "name": "2",
         "text": [
          "2_2",
          "2_2"
         ],
         "textfont": {
          "color": "#000000",
          "family": "sans serif",
          "size": 15
         },
         "type": "scatter",
         "x": [
          15.25,
          32.25
         ],
         "y": [
          3.5,
          2
         ]
        },
        {
         "hoverinfo": "text",
         "hovertext": [
          "connect 0_0",
          "connect 0_0"
         ],
         "legendgroup": "0",
         "marker": {
          "color": "#44d641",
          "size": 35,
          "symbol": "circle-dot"
         },
         "mode": "markers+text",
         "name": "0",
         "text": [
          "0_0",
          "0_0"
         ],
         "textfont": {
          "color": "#000000",
          "family": "sans serif",
          "size": 15
         },
         "type": "scatter",
         "x": [
          10.5,
          27.5
         ],
         "y": [
          5,
          3.5
         ]
        },
        {
         "hoverinfo": "text",
         "hovertext": [
          "connect 1_1",
          "connect 1_1"
         ],
         "legendgroup": "1",
         "marker": {
          "color": "#cc4bc3",
          "size": 35,
          "symbol": "circle-dot"
         },
         "mode": "markers+text",
         "name": "1",
         "text": [
          "1_1",
          "1_1"
         ],
         "textfont": {
          "color": "#000000",
          "family": "sans serif",
          "size": 15
         },
         "type": "scatter",
         "x": [
          5.75,
          22.75
         ],
         "y": [
          2,
          0.5
         ]
        },
        {
         "hoverinfo": "text",
         "hovertext": [
          "connect 3_3",
          "connect 3_3"
         ],
         "legendgroup": "3",
         "marker": {
          "color": "#6b252f",
          "size": 35,
          "symbol": "circle-dot"
         },
         "mode": "markers+text",
         "name": "3",
         "text": [
          "3_3",
          "3_3"
         ],
         "textfont": {
          "color": "#000000",
          "family": "sans serif",
          "size": 15
         },
         "type": "scatter",
         "x": [
          5.75,
          22.75
         ],
         "y": [
          3.5,
          2
         ]
        }
       ],
       "layout": {
        "height": 500,
        "shapes": [
         {
          "layer": "below",
          "line": {
           "color": "#333",
           "width": 4
          },
          "type": "line",
          "x0": 10.5,
          "x1": 10.5,
          "y0": 5,
          "y1": 5
         },
         {
          "layer": "below",
          "line": {
           "color": "#333",
           "width": 4
          },
          "type": "line",
          "x0": 10.5,
          "x1": 5.75,
          "y0": 5,
          "y1": 3.5
         },
         {
          "layer": "below",
          "line": {
           "color": "#333",
           "width": 4
          },
          "type": "line",
          "x0": 5.75,
          "x1": 5.75,
          "y0": 3.5,
          "y1": 2
         },
         {
          "layer": "below",
          "line": {
           "color": "#333",
           "width": 4
          },
          "type": "line",
          "x0": 10.5,
          "x1": 15.25,
          "y0": 5,
          "y1": 3.5
         },
         {
          "layer": "below",
          "line": {
           "color": "#333",
           "width": 4
          },
          "type": "line",
          "x0": 27.5,
          "x1": 27.5,
          "y0": 3.5,
          "y1": 3.5
         },
         {
          "layer": "below",
          "line": {
           "color": "#333",
           "width": 4
          },
          "type": "line",
          "x0": 27.5,
          "x1": 22.75,
          "y0": 3.5,
          "y1": 2
         },
         {
          "layer": "below",
          "line": {
           "color": "#333",
           "width": 4
          },
          "type": "line",
          "x0": 22.75,
          "x1": 22.75,
          "y0": 2,
          "y1": 0.5
         },
         {
          "layer": "below",
          "line": {
           "color": "#333",
           "width": 4
          },
          "type": "line",
          "x0": 27.5,
          "x1": 32.25,
          "y0": 3.5,
          "y1": 2
         },
         {
          "layer": "below",
          "line": {
           "color": "#6175c1",
           "width": 4
          },
          "type": "line",
          "x0": 10.5,
          "x1": 27.5,
          "y0": 5,
          "y1": 3.5
         },
         {
          "layer": "below",
          "line": {
           "color": "#6175c1",
           "width": 4
          },
          "type": "line",
          "x0": 15.25,
          "x1": 32.25,
          "y0": 3.5,
          "y1": 2
         },
         {
          "layer": "below",
          "line": {
           "color": "#6175c1",
           "width": 4
          },
          "type": "line",
          "x0": 5.75,
          "x1": 22.75,
          "y0": 3.5,
          "y1": 2
         },
         {
          "layer": "below",
          "line": {
           "color": "#6175c1",
           "width": 4
          },
          "type": "line",
          "x0": 5.75,
          "x1": 22.75,
          "y0": 2,
          "y1": 0.5
         }
        ],
        "template": {
         "data": {
          "bar": [
           {
            "error_x": {
             "color": "#2a3f5f"
            },
            "error_y": {
             "color": "#2a3f5f"
            },
            "marker": {
             "line": {
              "color": "#E5ECF6",
              "width": 0.5
             },
             "pattern": {
              "fillmode": "overlay",
              "size": 10,
              "solidity": 0.2
             }
            },
            "type": "bar"
           }
          ],
          "barpolar": [
           {
            "marker": {
             "line": {
              "color": "#E5ECF6",
              "width": 0.5
             },
             "pattern": {
              "fillmode": "overlay",
              "size": 10,
              "solidity": 0.2
             }
            },
            "type": "barpolar"
           }
          ],
          "carpet": [
           {
            "aaxis": {
             "endlinecolor": "#2a3f5f",
             "gridcolor": "white",
             "linecolor": "white",
             "minorgridcolor": "white",
             "startlinecolor": "#2a3f5f"
            },
            "baxis": {
             "endlinecolor": "#2a3f5f",
             "gridcolor": "white",
             "linecolor": "white",
             "minorgridcolor": "white",
             "startlinecolor": "#2a3f5f"
            },
            "type": "carpet"
           }
          ],
          "choropleth": [
           {
            "colorbar": {
             "outlinewidth": 0,
             "ticks": ""
            },
            "type": "choropleth"
           }
          ],
          "contour": [
           {
            "colorbar": {
             "outlinewidth": 0,
             "ticks": ""
            },
            "colorscale": [
             [
              0,
              "#0d0887"
             ],
             [
              0.1111111111111111,
              "#46039f"
             ],
             [
              0.2222222222222222,
              "#7201a8"
             ],
             [
              0.3333333333333333,
              "#9c179e"
             ],
             [
              0.4444444444444444,
              "#bd3786"
             ],
             [
              0.5555555555555556,
              "#d8576b"
             ],
             [
              0.6666666666666666,
              "#ed7953"
             ],
             [
              0.7777777777777778,
              "#fb9f3a"
             ],
             [
              0.8888888888888888,
              "#fdca26"
             ],
             [
              1,
              "#f0f921"
             ]
            ],
            "type": "contour"
           }
          ],
          "contourcarpet": [
           {
            "colorbar": {
             "outlinewidth": 0,
             "ticks": ""
            },
            "type": "contourcarpet"
           }
          ],
          "heatmap": [
           {
            "colorbar": {
             "outlinewidth": 0,
             "ticks": ""
            },
            "colorscale": [
             [
              0,
              "#0d0887"
             ],
             [
              0.1111111111111111,
              "#46039f"
             ],
             [
              0.2222222222222222,
              "#7201a8"
             ],
             [
              0.3333333333333333,
              "#9c179e"
             ],
             [
              0.4444444444444444,
              "#bd3786"
             ],
             [
              0.5555555555555556,
              "#d8576b"
             ],
             [
              0.6666666666666666,
              "#ed7953"
             ],
             [
              0.7777777777777778,
              "#fb9f3a"
             ],
             [
              0.8888888888888888,
              "#fdca26"
             ],
             [
              1,
              "#f0f921"
             ]
            ],
            "type": "heatmap"
           }
          ],
          "heatmapgl": [
           {
            "colorbar": {
             "outlinewidth": 0,
             "ticks": ""
            },
            "colorscale": [
             [
              0,
              "#0d0887"
             ],
             [
              0.1111111111111111,
              "#46039f"
             ],
             [
              0.2222222222222222,
              "#7201a8"
             ],
             [
              0.3333333333333333,
              "#9c179e"
             ],
             [
              0.4444444444444444,
              "#bd3786"
             ],
             [
              0.5555555555555556,
              "#d8576b"
             ],
             [
              0.6666666666666666,
              "#ed7953"
             ],
             [
              0.7777777777777778,
              "#fb9f3a"
             ],
             [
              0.8888888888888888,
              "#fdca26"
             ],
             [
              1,
              "#f0f921"
             ]
            ],
            "type": "heatmapgl"
           }
          ],
          "histogram": [
           {
            "marker": {
             "pattern": {
              "fillmode": "overlay",
              "size": 10,
              "solidity": 0.2
             }
            },
            "type": "histogram"
           }
          ],
          "histogram2d": [
           {
            "colorbar": {
             "outlinewidth": 0,
             "ticks": ""
            },
            "colorscale": [
             [
              0,
              "#0d0887"
             ],
             [
              0.1111111111111111,
              "#46039f"
             ],
             [
              0.2222222222222222,
              "#7201a8"
             ],
             [
              0.3333333333333333,
              "#9c179e"
             ],
             [
              0.4444444444444444,
              "#bd3786"
             ],
             [
              0.5555555555555556,
              "#d8576b"
             ],
             [
              0.6666666666666666,
              "#ed7953"
             ],
             [
              0.7777777777777778,
              "#fb9f3a"
             ],
             [
              0.8888888888888888,
              "#fdca26"
             ],
             [
              1,
              "#f0f921"
             ]
            ],
            "type": "histogram2d"
           }
          ],
          "histogram2dcontour": [
           {
            "colorbar": {
             "outlinewidth": 0,
             "ticks": ""
            },
            "colorscale": [
             [
              0,
              "#0d0887"
             ],
             [
              0.1111111111111111,
              "#46039f"
             ],
             [
              0.2222222222222222,
              "#7201a8"
             ],
             [
              0.3333333333333333,
              "#9c179e"
             ],
             [
              0.4444444444444444,
              "#bd3786"
             ],
             [
              0.5555555555555556,
              "#d8576b"
             ],
             [
              0.6666666666666666,
              "#ed7953"
             ],
             [
              0.7777777777777778,
              "#fb9f3a"
             ],
             [
              0.8888888888888888,
              "#fdca26"
             ],
             [
              1,
              "#f0f921"
             ]
            ],
            "type": "histogram2dcontour"
           }
          ],
          "mesh3d": [
           {
            "colorbar": {
             "outlinewidth": 0,
             "ticks": ""
            },
            "type": "mesh3d"
           }
          ],
          "parcoords": [
           {
            "line": {
             "colorbar": {
              "outlinewidth": 0,
              "ticks": ""
             }
            },
            "type": "parcoords"
           }
          ],
          "pie": [
           {
            "automargin": true,
            "type": "pie"
           }
          ],
          "scatter": [
           {
            "fillpattern": {
             "fillmode": "overlay",
             "size": 10,
             "solidity": 0.2
            },
            "type": "scatter"
           }
          ],
          "scatter3d": [
           {
            "line": {
             "colorbar": {
              "outlinewidth": 0,
              "ticks": ""
             }
            },
            "marker": {
             "colorbar": {
              "outlinewidth": 0,
              "ticks": ""
             }
            },
            "type": "scatter3d"
           }
          ],
          "scattercarpet": [
           {
            "marker": {
             "colorbar": {
              "outlinewidth": 0,
              "ticks": ""
             }
            },
            "type": "scattercarpet"
           }
          ],
          "scattergeo": [
           {
            "marker": {
             "colorbar": {
              "outlinewidth": 0,
              "ticks": ""
             }
            },
            "type": "scattergeo"
           }
          ],
          "scattergl": [
           {
            "marker": {
             "colorbar": {
              "outlinewidth": 0,
              "ticks": ""
             }
            },
            "type": "scattergl"
           }
          ],
          "scattermapbox": [
           {
            "marker": {
             "colorbar": {
              "outlinewidth": 0,
              "ticks": ""
             }
            },
            "type": "scattermapbox"
           }
          ],
          "scatterpolar": [
           {
            "marker": {
             "colorbar": {
              "outlinewidth": 0,
              "ticks": ""
             }
            },
            "type": "scatterpolar"
           }
          ],
          "scatterpolargl": [
           {
            "marker": {
             "colorbar": {
              "outlinewidth": 0,
              "ticks": ""
             }
            },
            "type": "scatterpolargl"
           }
          ],
          "scatterternary": [
           {
            "marker": {
             "colorbar": {
              "outlinewidth": 0,
              "ticks": ""
             }
            },
            "type": "scatterternary"
           }
          ],
          "surface": [
           {
            "colorbar": {
             "outlinewidth": 0,
             "ticks": ""
            },
            "colorscale": [
             [
              0,
              "#0d0887"
             ],
             [
              0.1111111111111111,
              "#46039f"
             ],
             [
              0.2222222222222222,
              "#7201a8"
             ],
             [
              0.3333333333333333,
              "#9c179e"
             ],
             [
              0.4444444444444444,
              "#bd3786"
             ],
             [
              0.5555555555555556,
              "#d8576b"
             ],
             [
              0.6666666666666666,
              "#ed7953"
             ],
             [
              0.7777777777777778,
              "#fb9f3a"
             ],
             [
              0.8888888888888888,
              "#fdca26"
             ],
             [
              1,
              "#f0f921"
             ]
            ],
            "type": "surface"
           }
          ],
          "table": [
           {
            "cells": {
             "fill": {
              "color": "#EBF0F8"
             },
             "line": {
              "color": "white"
             }
            },
            "header": {
             "fill": {
              "color": "#C8D4E3"
             },
             "line": {
              "color": "white"
             }
            },
            "type": "table"
           }
          ]
         },
         "layout": {
          "annotationdefaults": {
           "arrowcolor": "#2a3f5f",
           "arrowhead": 0,
           "arrowwidth": 1
          },
          "autotypenumbers": "strict",
          "coloraxis": {
           "colorbar": {
            "outlinewidth": 0,
            "ticks": ""
           }
          },
          "colorscale": {
           "diverging": [
            [
             0,
             "#8e0152"
            ],
            [
             0.1,
             "#c51b7d"
            ],
            [
             0.2,
             "#de77ae"
            ],
            [
             0.3,
             "#f1b6da"
            ],
            [
             0.4,
             "#fde0ef"
            ],
            [
             0.5,
             "#f7f7f7"
            ],
            [
             0.6,
             "#e6f5d0"
            ],
            [
             0.7,
             "#b8e186"
            ],
            [
             0.8,
             "#7fbc41"
            ],
            [
             0.9,
             "#4d9221"
            ],
            [
             1,
             "#276419"
            ]
           ],
           "sequential": [
            [
             0,
             "#0d0887"
            ],
            [
             0.1111111111111111,
             "#46039f"
            ],
            [
             0.2222222222222222,
             "#7201a8"
            ],
            [
             0.3333333333333333,
             "#9c179e"
            ],
            [
             0.4444444444444444,
             "#bd3786"
            ],
            [
             0.5555555555555556,
             "#d8576b"
            ],
            [
             0.6666666666666666,
             "#ed7953"
            ],
            [
             0.7777777777777778,
             "#fb9f3a"
            ],
            [
             0.8888888888888888,
             "#fdca26"
            ],
            [
             1,
             "#f0f921"
            ]
           ],
           "sequentialminus": [
            [
             0,
             "#0d0887"
            ],
            [
             0.1111111111111111,
             "#46039f"
            ],
            [
             0.2222222222222222,
             "#7201a8"
            ],
            [
             0.3333333333333333,
             "#9c179e"
            ],
            [
             0.4444444444444444,
             "#bd3786"
            ],
            [
             0.5555555555555556,
             "#d8576b"
            ],
            [
             0.6666666666666666,
             "#ed7953"
            ],
            [
             0.7777777777777778,
             "#fb9f3a"
            ],
            [
             0.8888888888888888,
             "#fdca26"
            ],
            [
             1,
             "#f0f921"
            ]
           ]
          },
          "colorway": [
           "#636efa",
           "#EF553B",
           "#00cc96",
           "#ab63fa",
           "#FFA15A",
           "#19d3f3",
           "#FF6692",
           "#B6E880",
           "#FF97FF",
           "#FECB52"
          ],
          "font": {
           "color": "#2a3f5f"
          },
          "geo": {
           "bgcolor": "white",
           "lakecolor": "white",
           "landcolor": "#E5ECF6",
           "showlakes": true,
           "showland": true,
           "subunitcolor": "white"
          },
          "hoverlabel": {
           "align": "left"
          },
          "hovermode": "closest",
          "mapbox": {
           "style": "light"
          },
          "paper_bgcolor": "white",
          "plot_bgcolor": "#E5ECF6",
          "polar": {
           "angularaxis": {
            "gridcolor": "white",
            "linecolor": "white",
            "ticks": ""
           },
           "bgcolor": "#E5ECF6",
           "radialaxis": {
            "gridcolor": "white",
            "linecolor": "white",
            "ticks": ""
           }
          },
          "scene": {
           "xaxis": {
            "backgroundcolor": "#E5ECF6",
            "gridcolor": "white",
            "gridwidth": 2,
            "linecolor": "white",
            "showbackground": true,
            "ticks": "",
            "zerolinecolor": "white"
           },
           "yaxis": {
            "backgroundcolor": "#E5ECF6",
            "gridcolor": "white",
            "gridwidth": 2,
            "linecolor": "white",
            "showbackground": true,
            "ticks": "",
            "zerolinecolor": "white"
           },
           "zaxis": {
            "backgroundcolor": "#E5ECF6",
            "gridcolor": "white",
            "gridwidth": 2,
            "linecolor": "white",
            "showbackground": true,
            "ticks": "",
            "zerolinecolor": "white"
           }
          },
          "shapedefaults": {
           "line": {
            "color": "#2a3f5f"
           }
          },
          "ternary": {
           "aaxis": {
            "gridcolor": "white",
            "linecolor": "white",
            "ticks": ""
           },
           "baxis": {
            "gridcolor": "white",
            "linecolor": "white",
            "ticks": ""
           },
           "bgcolor": "#E5ECF6",
           "caxis": {
            "gridcolor": "white",
            "linecolor": "white",
            "ticks": ""
           }
          },
          "title": {
           "x": 0.05
          },
          "xaxis": {
           "automargin": true,
           "gridcolor": "white",
           "linecolor": "white",
           "ticks": "",
           "title": {
            "standoff": 15
           },
           "zerolinecolor": "white",
           "zerolinewidth": 2
          },
          "yaxis": {
           "automargin": true,
           "gridcolor": "white",
           "linecolor": "white",
           "ticks": "",
           "title": {
            "standoff": 15
           },
           "zerolinecolor": "white",
           "zerolinewidth": 2
          }
         }
        },
        "width": 1000,
        "xaxis": {
         "showgrid": false,
         "showline": false,
         "showticklabels": false,
         "zeroline": false
        },
        "yaxis": {
         "showgrid": false,
         "showline": false,
         "showticklabels": false,
         "zeroline": false
        }
       }
      }
     },
     "metadata": {},
     "output_type": "display_data"
    }
   ],
   "source": [
    "ans = T.get_ans()\n",
    "G=show_graph(ans,nodes1[0],nodes2[0]);\n",
    "G.show_fig()"
   ]
  },
  {
   "cell_type": "code",
   "execution_count": 12,
   "metadata": {},
   "outputs": [
    {
     "data": {
      "text/html": [
       "<div>\n",
       "<style scoped>\n",
       "    .dataframe tbody tr th:only-of-type {\n",
       "        vertical-align: middle;\n",
       "    }\n",
       "\n",
       "    .dataframe tbody tr th {\n",
       "        vertical-align: top;\n",
       "    }\n",
       "\n",
       "    .dataframe thead th {\n",
       "        text-align: right;\n",
       "    }\n",
       "</style>\n",
       "<table border=\"1\" class=\"dataframe\">\n",
       "  <thead>\n",
       "    <tr style=\"text-align: right;\">\n",
       "      <th></th>\n",
       "      <th>batch</th>\n",
       "    </tr>\n",
       "    <tr>\n",
       "      <th>cell</th>\n",
       "      <th></th>\n",
       "    </tr>\n",
       "  </thead>\n",
       "  <tbody>\n",
       "    <tr>\n",
       "      <th>cell1-0-0-0-0</th>\n",
       "      <td>0</td>\n",
       "    </tr>\n",
       "    <tr>\n",
       "      <th>cell2-0-0-0-0</th>\n",
       "      <td>0</td>\n",
       "    </tr>\n",
       "    <tr>\n",
       "      <th>cell3-0-0-0-0</th>\n",
       "      <td>0</td>\n",
       "    </tr>\n",
       "    <tr>\n",
       "      <th>cell4-0-0-0-0</th>\n",
       "      <td>0</td>\n",
       "    </tr>\n",
       "    <tr>\n",
       "      <th>cell5-0-0-0-0</th>\n",
       "      <td>0</td>\n",
       "    </tr>\n",
       "    <tr>\n",
       "      <th>...</th>\n",
       "      <td>...</td>\n",
       "    </tr>\n",
       "    <tr>\n",
       "      <th>cell496-0-1</th>\n",
       "      <td>3</td>\n",
       "    </tr>\n",
       "    <tr>\n",
       "      <th>cell497-0-1</th>\n",
       "      <td>3</td>\n",
       "    </tr>\n",
       "    <tr>\n",
       "      <th>cell498-0-1</th>\n",
       "      <td>3</td>\n",
       "    </tr>\n",
       "    <tr>\n",
       "      <th>cell499-0-1</th>\n",
       "      <td>3</td>\n",
       "    </tr>\n",
       "    <tr>\n",
       "      <th>cell500-0-1</th>\n",
       "      <td>3</td>\n",
       "    </tr>\n",
       "  </tbody>\n",
       "</table>\n",
       "<p>2000 rows × 1 columns</p>\n",
       "</div>"
      ],
      "text/plain": [
       "              batch\n",
       "cell               \n",
       "cell1-0-0-0-0     0\n",
       "cell2-0-0-0-0     0\n",
       "cell3-0-0-0-0     0\n",
       "cell4-0-0-0-0     0\n",
       "cell5-0-0-0-0     0\n",
       "...             ...\n",
       "cell496-0-1       3\n",
       "cell497-0-1       3\n",
       "cell498-0-1       3\n",
       "cell499-0-1       3\n",
       "cell500-0-1       3\n",
       "\n",
       "[2000 rows x 1 columns]"
      ]
     },
     "execution_count": 12,
     "metadata": {},
     "output_type": "execute_result"
    }
   ],
   "source": [
    "datas1.obs"
   ]
  },
  {
   "cell_type": "code",
   "execution_count": 15,
   "metadata": {},
   "outputs": [
    {
     "data": {
      "text/plain": [
       "[1.0,\n",
       " 1.0,\n",
       " 1.02,\n",
       " 1.0,\n",
       " 1.0,\n",
       " 1.0,\n",
       " 1.02,\n",
       " 1.0,\n",
       " 1.03,\n",
       " 1.02,\n",
       " 1.02,\n",
       " 1.02,\n",
       " 1.01,\n",
       " 1.0,\n",
       " 1.02,\n",
       " 1.03,\n",
       " 1.01,\n",
       " 1.01,\n",
       " 1.0,\n",
       " 1.03,\n",
       " 1.01,\n",
       " 1.0,\n",
       " 1.01,\n",
       " 1.01,\n",
       " 1.03,\n",
       " 1.0,\n",
       " 1.0,\n",
       " 1.01,\n",
       " 1.03,\n",
       " 1.02,\n",
       " 1.02,\n",
       " 1.0,\n",
       " 1.03,\n",
       " 1.0,\n",
       " 1.01,\n",
       " 1.02,\n",
       " 1.0,\n",
       " 1.0,\n",
       " 1.01,\n",
       " 1.0,\n",
       " 1.01,\n",
       " 1.01,\n",
       " 1.0,\n",
       " 1.01,\n",
       " 1.02,\n",
       " 1.0,\n",
       " 1.02,\n",
       " 1.0,\n",
       " 1.03,\n",
       " 1.03,\n",
       " 1.01,\n",
       " 1.01,\n",
       " 1.02,\n",
       " 1.01,\n",
       " 1.0,\n",
       " 1.03,\n",
       " 1.01,\n",
       " 1.0,\n",
       " 1.01,\n",
       " 1.03,\n",
       " 1.0,\n",
       " 1.03,\n",
       " 1.03,\n",
       " 1.0,\n",
       " 1.03,\n",
       " 1.0,\n",
       " 1.0,\n",
       " 1.01,\n",
       " 1.02,\n",
       " 1.01,\n",
       " 1.03,\n",
       " 1.01,\n",
       " 1.01,\n",
       " 1.02,\n",
       " 1.02,\n",
       " 1.03,\n",
       " 1.02,\n",
       " 1.02,\n",
       " 1.0,\n",
       " 1.0,\n",
       " 1.0,\n",
       " 1.02,\n",
       " 1.01,\n",
       " 1.0,\n",
       " 1.02,\n",
       " 1.0,\n",
       " 1.0,\n",
       " 1.0,\n",
       " 1.0,\n",
       " 1.03,\n",
       " 1.02,\n",
       " 1.0,\n",
       " 1.02,\n",
       " 1.02,\n",
       " 1.01,\n",
       " 1.03,\n",
       " 1.0,\n",
       " 1.03,\n",
       " 1.02,\n",
       " 1.0,\n",
       " 1.01,\n",
       " 1.01,\n",
       " 1.02,\n",
       " 1.0,\n",
       " 1.01,\n",
       " 1.0,\n",
       " 1.0,\n",
       " 1.0,\n",
       " 1.02,\n",
       " 1.0,\n",
       " 1.02,\n",
       " 1.03,\n",
       " 1.02,\n",
       " 1.03,\n",
       " 1.0,\n",
       " 1.02,\n",
       " 1.02,\n",
       " 1.0,\n",
       " 1.03,\n",
       " 1.0,\n",
       " 1.0,\n",
       " 1.02,\n",
       " 1.02,\n",
       " 1.02,\n",
       " 1.03,\n",
       " 1.0,\n",
       " 1.0,\n",
       " 1.0,\n",
       " 1.01,\n",
       " 1.01,\n",
       " 1.02,\n",
       " 1.01,\n",
       " 1.03,\n",
       " 1.02,\n",
       " 1.02,\n",
       " 1.03,\n",
       " 1.03,\n",
       " 1.0,\n",
       " 1.0,\n",
       " 1.0,\n",
       " 1.0,\n",
       " 1.0,\n",
       " 1.01,\n",
       " 1.01,\n",
       " 1.0,\n",
       " 1.0,\n",
       " 1.01,\n",
       " 1.03,\n",
       " 1.0,\n",
       " 1.0,\n",
       " 1.02,\n",
       " 1.02,\n",
       " 1.03,\n",
       " 1.02,\n",
       " 1.0,\n",
       " 1.03,\n",
       " 1.01,\n",
       " 1.0,\n",
       " 1.01,\n",
       " 1.0,\n",
       " 1.01,\n",
       " 1.01,\n",
       " 1.0,\n",
       " 1.0,\n",
       " 1.02,\n",
       " 1.0,\n",
       " 1.03,\n",
       " 1.02,\n",
       " 1.0,\n",
       " 1.01,\n",
       " 1.01,\n",
       " 1.0,\n",
       " 1.02,\n",
       " 1.03,\n",
       " 1.03,\n",
       " 1.0,\n",
       " 1.03,\n",
       " 1.0,\n",
       " 1.0,\n",
       " 1.0,\n",
       " 1.01,\n",
       " 1.02,\n",
       " 1.01,\n",
       " 1.0,\n",
       " 1.01,\n",
       " 1.0,\n",
       " 1.03,\n",
       " 1.0,\n",
       " 1.0,\n",
       " 1.01,\n",
       " 1.03,\n",
       " 1.03,\n",
       " 1.0,\n",
       " 1.01,\n",
       " 1.02,\n",
       " 1.0,\n",
       " 1.0,\n",
       " 1.0,\n",
       " 1.01,\n",
       " 1.0,\n",
       " 1.01,\n",
       " 1.0,\n",
       " 1.02,\n",
       " 1.0,\n",
       " 1.0,\n",
       " 1.0,\n",
       " 1.01,\n",
       " 1.03,\n",
       " 1.01,\n",
       " 1.0,\n",
       " 1.0,\n",
       " 1.0,\n",
       " 1.0,\n",
       " 1.0,\n",
       " 1.02,\n",
       " 1.0,\n",
       " 1.03,\n",
       " 1.0,\n",
       " 1.03,\n",
       " 1.0,\n",
       " 1.01,\n",
       " 1.02,\n",
       " 1.0,\n",
       " 1.01,\n",
       " 1.01,\n",
       " 1.01,\n",
       " 1.0,\n",
       " 1.03,\n",
       " 1.01,\n",
       " 1.02,\n",
       " 1.03,\n",
       " 1.0,\n",
       " 1.02,\n",
       " 1.0,\n",
       " 1.0,\n",
       " 1.0,\n",
       " 1.01,\n",
       " 1.02,\n",
       " 1.01,\n",
       " 1.03,\n",
       " 1.02,\n",
       " 1.0,\n",
       " 1.0,\n",
       " 1.02,\n",
       " 1.0,\n",
       " 1.0,\n",
       " 1.02,\n",
       " 1.01,\n",
       " 1.0,\n",
       " 1.03,\n",
       " 1.03,\n",
       " 1.0,\n",
       " 1.03,\n",
       " 1.0,\n",
       " 1.02,\n",
       " 1.02,\n",
       " 1.02,\n",
       " 1.02,\n",
       " 1.01,\n",
       " 1.03,\n",
       " 1.0,\n",
       " 1.0,\n",
       " 1.03,\n",
       " 1.01,\n",
       " 1.0,\n",
       " 1.0,\n",
       " 1.0,\n",
       " 1.0,\n",
       " 1.0,\n",
       " 1.03,\n",
       " 1.0,\n",
       " 1.01,\n",
       " 1.01,\n",
       " 1.01,\n",
       " 1.02,\n",
       " 1.02,\n",
       " 1.0,\n",
       " 1.0,\n",
       " 1.02,\n",
       " 1.0,\n",
       " 1.0,\n",
       " 1.02,\n",
       " 1.0,\n",
       " 1.03,\n",
       " 1.02,\n",
       " 1.03,\n",
       " 1.0,\n",
       " 1.03,\n",
       " 1.02,\n",
       " 1.0,\n",
       " 1.0,\n",
       " 1.02,\n",
       " 1.0,\n",
       " 1.03,\n",
       " 1.02,\n",
       " 1.01,\n",
       " 1.01,\n",
       " 1.03,\n",
       " 1.01,\n",
       " 1.01,\n",
       " 1.02,\n",
       " 1.03,\n",
       " 1.01,\n",
       " 1.03,\n",
       " 1.03,\n",
       " 1.03,\n",
       " 1.02,\n",
       " 1.01,\n",
       " 1.03,\n",
       " 1.02,\n",
       " 1.0,\n",
       " 1.0,\n",
       " 1.03,\n",
       " 1.0,\n",
       " 1.03,\n",
       " 1.0,\n",
       " 1.01,\n",
       " 1.0,\n",
       " 1.0,\n",
       " 1.0,\n",
       " 1.02,\n",
       " 1.03,\n",
       " 1.0,\n",
       " 1.01,\n",
       " 1.0,\n",
       " 1.0,\n",
       " 1.03,\n",
       " 1.0,\n",
       " 1.01,\n",
       " 1.03,\n",
       " 1.0,\n",
       " 1.0,\n",
       " 1.02,\n",
       " 1.0,\n",
       " 1.01,\n",
       " 1.01,\n",
       " 1.03,\n",
       " 1.01,\n",
       " 1.02,\n",
       " 1.01,\n",
       " 1.0,\n",
       " 1.01,\n",
       " 1.01,\n",
       " 1.03,\n",
       " 1.0,\n",
       " 1.0,\n",
       " 1.03,\n",
       " 1.0,\n",
       " 1.03,\n",
       " 1.01,\n",
       " 1.0,\n",
       " 1.02,\n",
       " 1.0,\n",
       " 1.03,\n",
       " 1.02,\n",
       " 1.03,\n",
       " 1.01,\n",
       " 1.01,\n",
       " 1.0,\n",
       " 1.0,\n",
       " 1.01,\n",
       " 1.03,\n",
       " 1.03,\n",
       " 1.0,\n",
       " 1.03,\n",
       " 1.0,\n",
       " 1.0,\n",
       " 1.0,\n",
       " 1.01,\n",
       " 1.0,\n",
       " 1.03,\n",
       " 1.0,\n",
       " 1.0,\n",
       " 1.03,\n",
       " 1.02,\n",
       " 1.03,\n",
       " 1.02,\n",
       " 1.02,\n",
       " 1.02,\n",
       " 1.01,\n",
       " 1.0,\n",
       " 1.01,\n",
       " 1.02,\n",
       " 1.0,\n",
       " 1.0,\n",
       " 1.0,\n",
       " 1.03,\n",
       " 1.0,\n",
       " 1.01,\n",
       " 1.02,\n",
       " 1.02,\n",
       " 1.03,\n",
       " 1.01,\n",
       " 1.03,\n",
       " 1.01,\n",
       " 1.02,\n",
       " 1.0,\n",
       " 1.02,\n",
       " 1.0,\n",
       " 1.01,\n",
       " 1.0,\n",
       " 1.0,\n",
       " 1.0,\n",
       " 1.03,\n",
       " 1.03,\n",
       " 1.0,\n",
       " 1.01,\n",
       " 1.01,\n",
       " 1.0,\n",
       " 1.02,\n",
       " 1.01,\n",
       " 1.0,\n",
       " 1.01,\n",
       " 1.0,\n",
       " 1.0,\n",
       " 1.03,\n",
       " 1.03,\n",
       " 1.03,\n",
       " 1.01,\n",
       " 1.03,\n",
       " 1.0,\n",
       " 1.01,\n",
       " 1.03,\n",
       " 1.01,\n",
       " 1.01,\n",
       " 1.0,\n",
       " 1.0,\n",
       " 1.03,\n",
       " 1.01,\n",
       " 1.0,\n",
       " 1.01,\n",
       " 1.0,\n",
       " 1.02,\n",
       " 1.0,\n",
       " 1.02,\n",
       " 1.03,\n",
       " 1.01,\n",
       " 1.02,\n",
       " 1.0,\n",
       " 1.01,\n",
       " 1.03,\n",
       " 1.02,\n",
       " 1.01,\n",
       " 1.0,\n",
       " 1.01,\n",
       " 1.0,\n",
       " 1.01,\n",
       " 1.03,\n",
       " 1.03,\n",
       " 1.0,\n",
       " 1.0,\n",
       " 1.02,\n",
       " 1.0,\n",
       " 1.02,\n",
       " 1.0,\n",
       " 1.02,\n",
       " 1.01,\n",
       " 1.02,\n",
       " 1.03,\n",
       " 1.02,\n",
       " 1.0,\n",
       " 1.0,\n",
       " 1.01,\n",
       " 1.01,\n",
       " 1.0,\n",
       " 1.0,\n",
       " 1.02,\n",
       " 1.0,\n",
       " 1.0,\n",
       " 1.03,\n",
       " 1.02,\n",
       " 1.02,\n",
       " 1.0,\n",
       " 1.0,\n",
       " 1.01,\n",
       " 1.01,\n",
       " 1.01,\n",
       " 1.01,\n",
       " 1.02,\n",
       " 1.01,\n",
       " 1.0,\n",
       " 1.0,\n",
       " 1.03,\n",
       " 1.01,\n",
       " 1.0,\n",
       " 1.01,\n",
       " 1.0,\n",
       " 1.0,\n",
       " 1.0,\n",
       " 1.01,\n",
       " 1.01,\n",
       " 1.0,\n",
       " 1.0,\n",
       " 1.01,\n",
       " 1.0,\n",
       " 1.0,\n",
       " 1.03,\n",
       " 1.01,\n",
       " 1.03,\n",
       " 1.02,\n",
       " 1.0,\n",
       " 1.0,\n",
       " 1.02,\n",
       " 1.0,\n",
       " 1.0,\n",
       " 1.0,\n",
       " 1.02,\n",
       " 1.0,\n",
       " 1.03,\n",
       " 1.02,\n",
       " 1.02,\n",
       " 1.02,\n",
       " 1.01,\n",
       " 1.0,\n",
       " 1.02,\n",
       " 1.03,\n",
       " 1.01,\n",
       " 1.01,\n",
       " 1.0,\n",
       " 1.03,\n",
       " 1.01,\n",
       " 1.0,\n",
       " 1.01,\n",
       " 1.01,\n",
       " 1.03,\n",
       " 1.0,\n",
       " 1.0,\n",
       " 1.01,\n",
       " 1.03,\n",
       " 1.02,\n",
       " 1.02,\n",
       " 1.0,\n",
       " 1.03,\n",
       " 1.0,\n",
       " 1.01,\n",
       " 1.02,\n",
       " 1.0,\n",
       " 1.0,\n",
       " 1.01,\n",
       " 1.0,\n",
       " 1.01,\n",
       " 1.01,\n",
       " 1.0,\n",
       " 1.01,\n",
       " 1.02,\n",
       " 1.0,\n",
       " 1.02,\n",
       " 1.0,\n",
       " 1.03,\n",
       " 1.03,\n",
       " 1.01,\n",
       " 1.01,\n",
       " 1.02,\n",
       " 1.01,\n",
       " 1.0,\n",
       " 1.03,\n",
       " 1.01,\n",
       " 1.0,\n",
       " 1.01,\n",
       " 1.03,\n",
       " 1.0,\n",
       " 1.03,\n",
       " 1.03,\n",
       " 1.0,\n",
       " 1.03,\n",
       " 1.0,\n",
       " 1.0,\n",
       " 1.01,\n",
       " 1.02,\n",
       " 1.01,\n",
       " 1.03,\n",
       " 1.01,\n",
       " 1.01,\n",
       " 1.02,\n",
       " 1.02,\n",
       " 1.03,\n",
       " 1.02,\n",
       " 1.02,\n",
       " 1.0,\n",
       " 1.0,\n",
       " 1.0,\n",
       " 1.02,\n",
       " 1.01,\n",
       " 1.0,\n",
       " 1.02,\n",
       " 1.0,\n",
       " 1.0,\n",
       " 1.0,\n",
       " 1.0,\n",
       " 1.03,\n",
       " 1.02,\n",
       " 1.0,\n",
       " 1.02,\n",
       " 1.02,\n",
       " 1.01,\n",
       " 1.03,\n",
       " 1.0,\n",
       " 1.03,\n",
       " 1.02,\n",
       " 1.0,\n",
       " 1.01,\n",
       " 1.01,\n",
       " 1.02,\n",
       " 1.0,\n",
       " 1.01,\n",
       " 1.0,\n",
       " 1.0,\n",
       " 1.0,\n",
       " 1.02,\n",
       " 1.0,\n",
       " 1.02,\n",
       " 1.03,\n",
       " 1.02,\n",
       " 1.03,\n",
       " 1.0,\n",
       " 1.02,\n",
       " 1.02,\n",
       " 1.0,\n",
       " 1.03,\n",
       " 1.0,\n",
       " 1.0,\n",
       " 1.02,\n",
       " 1.02,\n",
       " 1.02,\n",
       " 1.03,\n",
       " 1.0,\n",
       " 1.0,\n",
       " 1.0,\n",
       " 1.01,\n",
       " 1.01,\n",
       " 1.02,\n",
       " 1.01,\n",
       " 1.03,\n",
       " 1.02,\n",
       " 1.02,\n",
       " 1.03,\n",
       " 1.03,\n",
       " 1.0,\n",
       " 1.0,\n",
       " 1.0,\n",
       " 1.0,\n",
       " 1.0,\n",
       " 1.01,\n",
       " 1.01,\n",
       " 1.0,\n",
       " 1.0,\n",
       " 1.01,\n",
       " 1.03,\n",
       " 1.0,\n",
       " 1.0,\n",
       " 1.02,\n",
       " 1.02,\n",
       " 1.03,\n",
       " 1.02,\n",
       " 1.0,\n",
       " 1.03,\n",
       " 1.01,\n",
       " 1.0,\n",
       " 1.01,\n",
       " 1.0,\n",
       " 1.01,\n",
       " 1.01,\n",
       " 1.0,\n",
       " 1.0,\n",
       " 1.02,\n",
       " 1.0,\n",
       " 1.03,\n",
       " 1.02,\n",
       " 1.0,\n",
       " 1.01,\n",
       " 1.01,\n",
       " 1.0,\n",
       " 1.02,\n",
       " 1.03,\n",
       " 1.03,\n",
       " 1.0,\n",
       " 1.03,\n",
       " 1.0,\n",
       " 1.0,\n",
       " 1.0,\n",
       " 1.01,\n",
       " 1.02,\n",
       " 1.01,\n",
       " 1.0,\n",
       " 1.01,\n",
       " 1.0,\n",
       " 1.03,\n",
       " 1.0,\n",
       " 1.0,\n",
       " 1.01,\n",
       " 1.03,\n",
       " 1.03,\n",
       " 1.0,\n",
       " 1.01,\n",
       " 1.02,\n",
       " 1.0,\n",
       " 1.0,\n",
       " 1.0,\n",
       " 1.01,\n",
       " 1.0,\n",
       " 1.01,\n",
       " 1.0,\n",
       " 1.02,\n",
       " 1.0,\n",
       " 1.0,\n",
       " 1.0,\n",
       " 1.01,\n",
       " 1.03,\n",
       " 1.01,\n",
       " 1.0,\n",
       " 1.0,\n",
       " 1.0,\n",
       " 1.0,\n",
       " 1.0,\n",
       " 1.02,\n",
       " 1.0,\n",
       " 1.03,\n",
       " 1.0,\n",
       " 1.03,\n",
       " 1.0,\n",
       " 1.01,\n",
       " 1.02,\n",
       " 1.0,\n",
       " 1.01,\n",
       " 1.01,\n",
       " 1.01,\n",
       " 1.0,\n",
       " 1.03,\n",
       " 1.01,\n",
       " 1.02,\n",
       " 1.03,\n",
       " 1.0,\n",
       " 1.02,\n",
       " 1.0,\n",
       " 1.0,\n",
       " 1.0,\n",
       " 1.01,\n",
       " 1.02,\n",
       " 1.01,\n",
       " 1.03,\n",
       " 1.02,\n",
       " 1.0,\n",
       " 1.0,\n",
       " 1.02,\n",
       " 1.0,\n",
       " 1.0,\n",
       " 1.02,\n",
       " 1.01,\n",
       " 1.0,\n",
       " 1.03,\n",
       " 1.03,\n",
       " 1.0,\n",
       " 1.03,\n",
       " 1.0,\n",
       " 1.02,\n",
       " 1.02,\n",
       " 1.02,\n",
       " 1.02,\n",
       " 1.01,\n",
       " 1.03,\n",
       " 1.0,\n",
       " 1.0,\n",
       " 1.03,\n",
       " 1.01,\n",
       " 1.0,\n",
       " 1.0,\n",
       " 1.0,\n",
       " 1.0,\n",
       " 1.0,\n",
       " 1.03,\n",
       " 1.0,\n",
       " 1.01,\n",
       " 1.01,\n",
       " 1.01,\n",
       " 1.02,\n",
       " 1.02,\n",
       " 1.0,\n",
       " 1.0,\n",
       " 1.02,\n",
       " 1.0,\n",
       " 1.0,\n",
       " 1.02,\n",
       " 1.0,\n",
       " 1.03,\n",
       " 1.02,\n",
       " 1.03,\n",
       " 1.0,\n",
       " 1.03,\n",
       " 1.02,\n",
       " 1.0,\n",
       " 1.0,\n",
       " 1.02,\n",
       " 1.0,\n",
       " 1.03,\n",
       " 1.02,\n",
       " 1.01,\n",
       " 1.01,\n",
       " 1.03,\n",
       " 1.01,\n",
       " 1.01,\n",
       " 1.02,\n",
       " 1.03,\n",
       " 1.01,\n",
       " 1.03,\n",
       " 1.03,\n",
       " 1.03,\n",
       " 1.02,\n",
       " 1.01,\n",
       " 1.03,\n",
       " 1.02,\n",
       " 1.0,\n",
       " 1.0,\n",
       " 1.03,\n",
       " 1.0,\n",
       " 1.03,\n",
       " 1.0,\n",
       " 1.01,\n",
       " 1.0,\n",
       " 1.0,\n",
       " 1.0,\n",
       " 1.02,\n",
       " 1.03,\n",
       " 1.0,\n",
       " 1.01,\n",
       " 1.0,\n",
       " 1.0,\n",
       " 1.03,\n",
       " 1.0,\n",
       " 1.01,\n",
       " 1.03,\n",
       " 1.0,\n",
       " 1.0,\n",
       " 1.02,\n",
       " 1.0,\n",
       " 1.01,\n",
       " 1.01,\n",
       " 1.03,\n",
       " 1.01,\n",
       " 1.02,\n",
       " 1.01,\n",
       " 1.0,\n",
       " 1.01,\n",
       " 1.01,\n",
       " 1.03,\n",
       " 1.0,\n",
       " 1.0,\n",
       " 1.03,\n",
       " 1.0,\n",
       " 1.03,\n",
       " 1.01,\n",
       " 1.0,\n",
       " 1.02,\n",
       " 1.0,\n",
       " 1.03,\n",
       " 1.02,\n",
       " 1.03,\n",
       " 1.01,\n",
       " 1.01,\n",
       " 1.0,\n",
       " 1.0,\n",
       " 1.01,\n",
       " 1.03,\n",
       " 1.03,\n",
       " 1.0,\n",
       " 1.03,\n",
       " 1.0,\n",
       " 1.0,\n",
       " 1.0,\n",
       " 1.01,\n",
       " 1.0,\n",
       " 1.03,\n",
       " 1.0,\n",
       " 1.0,\n",
       " 1.03,\n",
       " 1.02,\n",
       " 1.03,\n",
       " 1.02,\n",
       " 1.02,\n",
       " 1.02,\n",
       " 1.01,\n",
       " 1.0,\n",
       " 1.01,\n",
       " 1.02,\n",
       " 1.0,\n",
       " 1.0,\n",
       " 1.0,\n",
       " 1.03,\n",
       " 1.0,\n",
       " 1.01,\n",
       " 1.02,\n",
       " 1.02,\n",
       " 1.03,\n",
       " 1.01,\n",
       " 1.03,\n",
       " 1.01,\n",
       " 1.02,\n",
       " 1.0,\n",
       " 1.02,\n",
       " 1.0,\n",
       " 1.01,\n",
       " 1.0,\n",
       " 1.0,\n",
       " 1.0,\n",
       " 1.03,\n",
       " 1.03,\n",
       " 1.0,\n",
       " 1.01,\n",
       " 1.01,\n",
       " 1.0,\n",
       " 1.02,\n",
       " 1.01,\n",
       " 1.0,\n",
       " 1.01,\n",
       " 1.0,\n",
       " 1.0,\n",
       " 1.03,\n",
       " 1.03,\n",
       " 1.03,\n",
       " 1.01,\n",
       " 1.03,\n",
       " 1.0,\n",
       " 1.01,\n",
       " 1.03,\n",
       " 1.01,\n",
       " 1.01,\n",
       " 1.0,\n",
       " 1.0,\n",
       " 1.03,\n",
       " 1.01,\n",
       " 1.0,\n",
       " 1.01,\n",
       " 1.0,\n",
       " 1.02,\n",
       " 1.0,\n",
       " 1.02,\n",
       " 1.03,\n",
       " 1.01,\n",
       " 1.02,\n",
       " 1.0,\n",
       " 1.01,\n",
       " 1.03,\n",
       " 1.02,\n",
       " 1.01,\n",
       " 1.0,\n",
       " 1.01,\n",
       " 1.0,\n",
       " 1.01,\n",
       " 1.03,\n",
       " 1.03,\n",
       " 1.0,\n",
       " 1.0,\n",
       " 1.02,\n",
       " 1.0,\n",
       " 1.02,\n",
       " 1.0,\n",
       " 1.02,\n",
       " 1.01,\n",
       " 1.02,\n",
       " 1.03,\n",
       " 1.02,\n",
       " 1.0,\n",
       " 1.0,\n",
       " 1.01,\n",
       " 1.01,\n",
       " 1.0,\n",
       " 1.0,\n",
       " 1.02,\n",
       " 1.0,\n",
       " 1.0,\n",
       " 1.03,\n",
       " 1.02,\n",
       " 1.02,\n",
       " 1.0,\n",
       " 1.0,\n",
       " 1.01,\n",
       " 1.01,\n",
       " 1.01,\n",
       " 1.01,\n",
       " 1.02,\n",
       " 1.01,\n",
       " 1.0,\n",
       " 1.0,\n",
       " 1.03,\n",
       " 1.01,\n",
       " 1.0,\n",
       " 1.01,\n",
       " 1.0,\n",
       " 1.0,\n",
       " 1.0,\n",
       " 1.01,\n",
       " 1.01,\n",
       " 1.0,\n",
       " 1.0,\n",
       " 1.01,\n",
       " 1.0,\n",
       " 1.0,\n",
       " 1.03,\n",
       " 1.01,\n",
       " 1.03,\n",
       " 1.02,\n",
       " ...]"
      ]
     },
     "execution_count": 15,
     "metadata": {},
     "output_type": "execute_result"
    }
   ],
   "source": [
    "t1 = [1+int(i)/100 for i in datas1.obs['leiden'].tolist()]\n",
    "t2 = [2+int(i)/100 for i in datas2.obs['leiden'].tolist()]\n",
    "\n",
    "t1"
   ]
  },
  {
   "cell_type": "code",
   "execution_count": 16,
   "metadata": {},
   "outputs": [
    {
     "data": {
      "text/plain": [
       "(                    x         y  cell_type\n",
       " meta_label                                \n",
       " 0            0.964426  8.021405       1.00\n",
       " 1            6.955575  6.196758       1.00\n",
       " 2            4.854014  3.126034       1.02\n",
       " 3            4.588672  1.858687       1.00\n",
       " 4            6.527263  3.105629       1.00\n",
       " ...               ...       ...        ...\n",
       " 1995         9.263169  0.555852       1.00\n",
       " 1996         9.669555  3.791322       1.03\n",
       " 1997         9.320879  7.972610       1.01\n",
       " 1998        10.587842  3.240921       1.03\n",
       " 1999        12.626369  5.229619       1.02\n",
       " \n",
       " [2000 rows x 3 columns],\n",
       "                     x         y  cell_type\n",
       " meta_label                                \n",
       " 0           15.234337  4.520728       2.03\n",
       " 1           16.711325  1.565761       2.02\n",
       " 2           18.488227  8.491433       2.01\n",
       " 3           13.203376  7.788988       2.02\n",
       " 4           18.677738  4.831916       2.02\n",
       " ...               ...       ...        ...\n",
       " 1995        12.334517  8.577428       2.03\n",
       " 1996         7.354551  5.252379       2.00\n",
       " 1997        10.311259  0.957679       2.00\n",
       " 1998         9.323354  5.319976       2.03\n",
       " 1999         7.922245  0.447806       2.01\n",
       " \n",
       " [2000 rows x 3 columns])"
      ]
     },
     "execution_count": 16,
     "metadata": {},
     "output_type": "execute_result"
    }
   ],
   "source": [
    "datas1.obsm['meta']['cell_type']=t1\n",
    "datas2.obsm['meta']['cell_type']=t2\n",
    "\n",
    "datas1.obsm['meta'],datas2.obsm['meta'],"
   ]
  },
  {
   "cell_type": "code",
   "execution_count": 17,
   "metadata": {},
   "outputs": [],
   "source": [
    "tdatas = datas1.concatenate(datas2)\n",
    "tdatas.obsm['meta']\n",
    "tdatas.write_h5ad('./lr/after/datas/temp/AN.h5ad')"
   ]
  },
  {
   "cell_type": "code",
   "execution_count": 18,
   "metadata": {},
   "outputs": [
    {
     "data": {
      "text/plain": [
       "array([1.  , 1.02, 1.03, 1.01, 2.03, 2.02, 2.01, 2.  , 2.04])"
      ]
     },
     "execution_count": 18,
     "metadata": {},
     "output_type": "execute_result"
    }
   ],
   "source": [
    "tdatas.obsm['meta']['cell_type'].unique()"
   ]
  },
  {
   "cell_type": "code",
   "execution_count": 27,
   "metadata": {},
   "outputs": [
    {
     "data": {
      "text/plain": [
       "'python3 lr/after/CytoTour.py lr/after/datas/lr_database.csv lr/after/datas/pathways.tsv lr/after/datas/temp/split 10000 lr/after/datas/temp/AN.h5ad --out lr/after/datas/temp'"
      ]
     },
     "execution_count": 27,
     "metadata": {},
     "output_type": "execute_result"
    }
   ],
   "source": [
    "\n",
    "\n",
    "\n",
    "\n",
    "n='temp'\n",
    "\n",
    "'python3 lr/after/CytoTour.py lr/after/datas/lr_database.csv lr/after/datas/pathways.tsv lr/after/datas/{}/split 10000 lr/after/datas/{}/AN.h5ad --out lr/after/datas/{}'.format(n,n,n)\n",
    "\n"
   ]
  },
  {
   "cell_type": "code",
   "execution_count": 28,
   "metadata": {},
   "outputs": [
    {
     "data": {
      "text/plain": [
       "'python3 lr/after/splith5ad.py lr/after/datas/temp/AN.h5ad lr/after/datas/temp/split lr/after/datas/pathways.tsv 10000'"
      ]
     },
     "execution_count": 28,
     "metadata": {},
     "output_type": "execute_result"
    }
   ],
   "source": [
    "'python3 lr/after/splith5ad.py lr/after/datas/{}/AN.h5ad lr/after/datas/{}/split lr/after/datas/pathways.tsv 10000'.format(n,n)\n"
   ]
  },
  {
   "cell_type": "code",
   "execution_count": null,
   "metadata": {},
   "outputs": [],
   "source": [
    "import glob\n",
    "files = glob.glob('./lr/after/datas/temp/*')\n",
    "files"
   ]
  },
  {
   "cell_type": "code",
   "execution_count": null,
   "metadata": {},
   "outputs": [],
   "source": [
    "rate,anslist,ans = run_alignment(nodes1,nodes2,folder_path1,folder_path2,meta_list1,meta_list2);\n"
   ]
  },
  {
   "cell_type": "code",
   "execution_count": null,
   "metadata": {},
   "outputs": [],
   "source": [
    "def lr_s(n):\n",
    "    \n",
    "    a1= 'python3 lr/after/splith5ad.py lr/after/datas/{}/AN.h5ad lr/after/datas/{} lr/after/datas/pathways.tsv 1000'.format(n,n)\n",
    "    a2 = 'python3 lr/after/CytoTour.py lr/after/datas/lr_database.csv lr/after/datas/pathways.tsv lr/after/datas/{} 1000 lr/after/datas/{}/AN.h5ad --out lr/after/datas/{}'.format(n,n,n)\n",
    "    return a1,a2 \n",
    "a1,a2 = lr_s('temp')\n",
    "os.system(a1)\n",
    "os.system(a2)\n",
    "df = pd.read_pickle('./lr/after/datas/temp/cci_result_1.0_2.0.pkl')\n",
    "df['lr_score']['score'].mean()"
   ]
  },
  {
   "cell_type": "code",
   "execution_count": null,
   "metadata": {},
   "outputs": [],
   "source": []
  },
  {
   "cell_type": "code",
   "execution_count": null,
   "metadata": {},
   "outputs": [],
   "source": [
    "df = pd.read_pickle('./lr/after/datas/temp/cci_result_1.0_2.0.pkl')\n",
    "df['lr_score']['score'].mean()"
   ]
  },
  {
   "cell_type": "code",
   "execution_count": null,
   "metadata": {},
   "outputs": [],
   "source": []
  }
 ],
 "metadata": {
  "kernelspec": {
   "display_name": "base",
   "language": "python",
   "name": "python3"
  },
  "language_info": {
   "codemirror_mode": {
    "name": "ipython",
    "version": 3
   },
   "file_extension": ".py",
   "mimetype": "text/x-python",
   "name": "python",
   "nbconvert_exporter": "python",
   "pygments_lexer": "ipython3",
   "version": "3.8.16"
  }
 },
 "nbformat": 4,
 "nbformat_minor": 2
}
