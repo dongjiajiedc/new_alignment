{
 "cells": [
  {
   "cell_type": "code",
   "execution_count": 1,
   "metadata": {},
   "outputs": [],
   "source": [
    "from core import *\n",
    "import warnings\n",
    "warnings.filterwarnings('ignore')\n",
    "import biotite.sequence as seq\n"
   ]
  },
  {
   "cell_type": "code",
   "execution_count": 2,
   "metadata": {},
   "outputs": [],
   "source": [
    "cell_path1 = './lr/after/datas/tree3.h5ad' #path for single-cell data1\n",
    "folder_path1 = './lr/after/datas/t3/'    #folder to save the results\n",
    "radius1 = 0 # parameter for converting into meta cell\n",
    "\n",
    "cell_path2 = './lr/after/datas/all_b/all_b.h5ad' #path for single-cell data2\n",
    "folder_path2 = './lr/after/datas/all_b/'  \n",
    "radius2 = 0\n",
    "\n",
    "resolution=1 #parameter for clustering\n",
    "method='average' # method we calcuclate the center value \n",
    " \n",
    "learning_rate = 0.0005\n",
    "n_pca = 20 #pca number\n",
    "meta_col= 'celltype' #celltype col in the single-cell file\n",
    "epoches11 = 10 #number for embedding\n",
    "epoches21 = 2 #number for rotation\n",
    "\n",
    "# epoches12 = 15 #number for embedding\n",
    "# epoches22 = 2 #number for rotation\n",
    "\n",
    "c1=10 # threshold for merging\n",
    "c2=10  # threshold for merging"
   ]
  },
  {
   "cell_type": "code",
   "execution_count": 3,
   "metadata": {},
   "outputs": [
    {
     "name": "stderr",
     "output_type": "stream",
     "text": [
      "100%|██████████████████████████████████████| 140/140 [00:00<00:00, 84745.64it/s]\n"
     ]
    }
   ],
   "source": [
    "merge_by_radius(cell_path1,folder_path1,radius1,method,meta_col)"
   ]
  },
  {
   "cell_type": "code",
   "execution_count": 4,
   "metadata": {},
   "outputs": [],
   "source": [
    "adata1 = sc.read_h5ad(folder_path1+ 'adata.h5ad')\n"
   ]
  },
  {
   "cell_type": "code",
   "execution_count": 5,
   "metadata": {},
   "outputs": [],
   "source": [
    "# adata1.obs['leiden']=adata1.obs['celltype']\n",
    "# adata1.obs"
   ]
  },
  {
   "cell_type": "code",
   "execution_count": 6,
   "metadata": {},
   "outputs": [
    {
     "data": {
      "text/plain": [
       "AnnData object with n_obs × n_vars = 140 × 2000\n",
       "    obs: 'celltype'"
      ]
     },
     "execution_count": 6,
     "metadata": {},
     "output_type": "execute_result"
    }
   ],
   "source": [
    "adata1"
   ]
  },
  {
   "cell_type": "code",
   "execution_count": 7,
   "metadata": {},
   "outputs": [],
   "source": [
    "# adata1.obs['leiden']=adata1.obs['celltype']\n",
    "# meta_list1 = ['0','1','2','3','4']"
   ]
  },
  {
   "cell_type": "code",
   "execution_count": 8,
   "metadata": {},
   "outputs": [
    {
     "name": "stderr",
     "output_type": "stream",
     "text": [
      "2024-11-13 00:12:29.632403: I tensorflow/core/platform/cpu_feature_guard.cc:182] This TensorFlow binary is optimized to use available CPU instructions in performance-critical operations.\n",
      "To enable the following instructions: AVX2 AVX512F AVX512_VNNI FMA, in other operations, rebuild TensorFlow with the appropriate compiler flags.\n"
     ]
    }
   ],
   "source": [
    "preprocessing_cluster(adata1,N_pcs=n_pca,resolution=resolution)\n"
   ]
  },
  {
   "cell_type": "code",
   "execution_count": 9,
   "metadata": {},
   "outputs": [
    {
     "data": {
      "text/plain": [
       "['0', '1', '2', '3', '4', '5', '6']"
      ]
     },
     "execution_count": 9,
     "metadata": {},
     "output_type": "execute_result"
    }
   ],
   "source": [
    "# inter_gene = sort_data(adata1,adata1)\n",
    "inter_gene = adata1.var.index.tolist()\n",
    "adata1.obsm['X'] = adata1.X\n",
    "tmp1 = calculate_cluster_centroid_for_genes(adata1,inter_gene,folder_path1,X_dimension='X')\n",
    "meta_list1 = calculate_cluster_celltype(adata1,meta_col='leiden');\n",
    "meta_list1"
   ]
  },
  {
   "cell_type": "code",
   "execution_count": 10,
   "metadata": {},
   "outputs": [],
   "source": [
    "# # preprocessing_cluster(adata1,N_pcs=n_pca,resolution=resolution)\n",
    "# inter_gene = sort_data(adata1,adata1)\n",
    "# tmp1 = calculate_cluster_centroid_for_genes(adata1,inter_gene,folder_path1)\n",
    "# meta_list1 = calculate_cluster_celltype(adata1);\n",
    "# meta_list1"
   ]
  },
  {
   "cell_type": "code",
   "execution_count": 11,
   "metadata": {},
   "outputs": [
    {
     "data": {
      "text/html": [
       "<div>\n",
       "<style scoped>\n",
       "    .dataframe tbody tr th:only-of-type {\n",
       "        vertical-align: middle;\n",
       "    }\n",
       "\n",
       "    .dataframe tbody tr th {\n",
       "        vertical-align: top;\n",
       "    }\n",
       "\n",
       "    .dataframe thead tr th {\n",
       "        text-align: left;\n",
       "    }\n",
       "\n",
       "    .dataframe thead tr:last-of-type th {\n",
       "        text-align: right;\n",
       "    }\n",
       "</style>\n",
       "<table border=\"1\" class=\"dataframe\">\n",
       "  <thead>\n",
       "    <tr>\n",
       "      <th></th>\n",
       "      <th colspan=\"4\" halign=\"left\">celltype</th>\n",
       "    </tr>\n",
       "    <tr>\n",
       "      <th></th>\n",
       "      <th>count</th>\n",
       "      <th>unique</th>\n",
       "      <th>top</th>\n",
       "      <th>freq</th>\n",
       "    </tr>\n",
       "    <tr>\n",
       "      <th>leiden</th>\n",
       "      <th></th>\n",
       "      <th></th>\n",
       "      <th></th>\n",
       "      <th></th>\n",
       "    </tr>\n",
       "  </thead>\n",
       "  <tbody>\n",
       "    <tr>\n",
       "      <th>0</th>\n",
       "      <td>20</td>\n",
       "      <td>1</td>\n",
       "      <td>2</td>\n",
       "      <td>20</td>\n",
       "    </tr>\n",
       "    <tr>\n",
       "      <th>1</th>\n",
       "      <td>20</td>\n",
       "      <td>1</td>\n",
       "      <td>6</td>\n",
       "      <td>20</td>\n",
       "    </tr>\n",
       "    <tr>\n",
       "      <th>2</th>\n",
       "      <td>20</td>\n",
       "      <td>1</td>\n",
       "      <td>1</td>\n",
       "      <td>20</td>\n",
       "    </tr>\n",
       "    <tr>\n",
       "      <th>3</th>\n",
       "      <td>20</td>\n",
       "      <td>1</td>\n",
       "      <td>4</td>\n",
       "      <td>20</td>\n",
       "    </tr>\n",
       "    <tr>\n",
       "      <th>4</th>\n",
       "      <td>20</td>\n",
       "      <td>1</td>\n",
       "      <td>5</td>\n",
       "      <td>20</td>\n",
       "    </tr>\n",
       "    <tr>\n",
       "      <th>5</th>\n",
       "      <td>20</td>\n",
       "      <td>1</td>\n",
       "      <td>0</td>\n",
       "      <td>20</td>\n",
       "    </tr>\n",
       "    <tr>\n",
       "      <th>6</th>\n",
       "      <td>20</td>\n",
       "      <td>1</td>\n",
       "      <td>3</td>\n",
       "      <td>20</td>\n",
       "    </tr>\n",
       "  </tbody>\n",
       "</table>\n",
       "</div>"
      ],
      "text/plain": [
       "       celltype                \n",
       "          count unique top freq\n",
       "leiden                         \n",
       "0            20      1   2   20\n",
       "1            20      1   6   20\n",
       "2            20      1   1   20\n",
       "3            20      1   4   20\n",
       "4            20      1   5   20\n",
       "5            20      1   0   20\n",
       "6            20      1   3   20"
      ]
     },
     "execution_count": 11,
     "metadata": {},
     "output_type": "execute_result"
    }
   ],
   "source": [
    "adata1.obs.groupby('leiden').describe()"
   ]
  },
  {
   "cell_type": "code",
   "execution_count": 12,
   "metadata": {},
   "outputs": [
    {
     "name": "stdout",
     "output_type": "stream",
     "text": [
      "./lr/after/datas/t3/datas.data length:7\n",
      "Generating all pairs superset\n",
      "\t Epoch 0 | average train loss: 0.491315\n",
      "Dasgupta's cost:\t45.3325\n",
      "Optimization finished.\n",
      "\t Epoch 1 | average train loss: 0.430023\n",
      "Dasgupta's cost:\t45.1295\n",
      "Optimization finished.\n",
      "\t Epoch 2 | average train loss: 0.426448\n",
      "Dasgupta's cost:\t44.6487\n",
      "Optimization finished.\n",
      "\t Epoch 3 | average train loss: 0.425593\n",
      "Dasgupta's cost:\t44.5330\n",
      "Optimization finished.\n",
      "\t Epoch 4 | average train loss: 0.427958\n",
      "Dasgupta's cost:\t44.6487\n",
      "Optimization finished.\n",
      "\t Epoch 5 | average train loss: 0.424963\n",
      "Dasgupta's cost:\t44.4580\n",
      "Optimization finished.\n",
      "\t Epoch 6 | average train loss: 0.431392\n",
      "Dasgupta's cost:\t44.5418\n",
      "Optimization finished.\n",
      "\t Epoch 7 | average train loss: 0.428960\n",
      "Dasgupta's cost:\t44.4580\n",
      "Optimization finished.\n",
      "\t Epoch 8 | average train loss: 0.429948\n",
      "Dasgupta's cost:\t44.4580\n",
      "Optimization finished.\n",
      "\t Epoch 9 | average train loss: 0.430660\n",
      "Dasgupta's cost:\t44.4580\n",
      "Optimization finished.\n",
      "---\n",
      "0 best_cost: 44.45797846497411\n",
      "---\n",
      "\t Epoch 0 | average train loss: 0.484477\n",
      "Dasgupta's cost:\t44.8844\n",
      "Optimization finished.\n",
      "\t Epoch 1 | average train loss: 0.418798\n",
      "Dasgupta's cost:\t44.5077\n",
      "Optimization finished.\n",
      "\t Epoch 2 | average train loss: 0.429248\n",
      "Dasgupta's cost:\t45.2700\n",
      "Optimization finished.\n",
      "\t Epoch 3 | average train loss: 0.423535\n",
      "Dasgupta's cost:\t44.5077\n",
      "Optimization finished.\n",
      "\t Epoch 4 | average train loss: 0.426993\n",
      "Dasgupta's cost:\t44.5077\n",
      "Optimization finished.\n",
      "\t Epoch 5 | average train loss: 0.423938\n",
      "Dasgupta's cost:\t44.5077\n",
      "Optimization finished.\n",
      "\t Epoch 6 | average train loss: 0.423135\n",
      "Dasgupta's cost:\t44.5077\n",
      "Optimization finished.\n",
      "\t Epoch 7 | average train loss: 0.427126\n",
      "Dasgupta's cost:\t44.6122\n",
      "Optimization finished.\n",
      "\t Epoch 8 | average train loss: 0.426247\n",
      "Dasgupta's cost:\t44.6122\n",
      "Optimization finished.\n",
      "\t Epoch 9 | average train loss: 0.422645\n",
      "Dasgupta's cost:\t44.5077\n",
      "Optimization finished.\n",
      "---\n",
      "1 best_cost: 44.45797846497411\n",
      "---\n",
      "\t Epoch 0 | average train loss: 0.466053\n",
      "Dasgupta's cost:\t45.1295\n",
      "Optimization finished.\n",
      "\t Epoch 1 | average train loss: 0.416569\n",
      "Dasgupta's cost:\t45.1441\n",
      "Optimization finished.\n",
      "\t Epoch 2 | average train loss: 0.416925\n",
      "Dasgupta's cost:\t45.2113\n",
      "Optimization finished.\n",
      "\t Epoch 3 | average train loss: 0.415925\n",
      "Dasgupta's cost:\t45.2700\n",
      "Optimization finished.\n",
      "\t Epoch 4 | average train loss: 0.413545\n",
      "Dasgupta's cost:\t45.2700\n",
      "Optimization finished.\n",
      "\t Epoch 5 | average train loss: 0.415414\n",
      "Dasgupta's cost:\t44.6122\n",
      "Optimization finished.\n",
      "\t Epoch 6 | average train loss: 0.410275\n",
      "Dasgupta's cost:\t44.4580\n",
      "Optimization finished.\n",
      "\t Epoch 7 | average train loss: 0.412692\n",
      "Dasgupta's cost:\t45.2090\n",
      "Optimization finished.\n",
      "\t Epoch 8 | average train loss: 0.410291\n",
      "Dasgupta's cost:\t44.5077\n",
      "Optimization finished.\n",
      "\t Epoch 9 | average train loss: 0.410034\n",
      "Dasgupta's cost:\t44.4491\n",
      "Optimization finished.\n",
      "---\n",
      "2 best_cost: 44.44910893123542\n",
      "---\n",
      "\t Epoch 0 | average train loss: 0.466023\n",
      "Dasgupta's cost:\t44.5624\n",
      "Optimization finished.\n",
      "\t Epoch 1 | average train loss: 0.416103\n",
      "Dasgupta's cost:\t44.5624\n",
      "Optimization finished.\n",
      "\t Epoch 2 | average train loss: 0.412703\n",
      "Dasgupta's cost:\t45.2700\n",
      "Optimization finished.\n",
      "\t Epoch 3 | average train loss: 0.410168\n",
      "Dasgupta's cost:\t44.5536\n",
      "Optimization finished.\n",
      "\t Epoch 4 | average train loss: 0.416874\n",
      "Dasgupta's cost:\t44.6122\n",
      "Optimization finished.\n",
      "\t Epoch 5 | average train loss: 0.419954\n",
      "Dasgupta's cost:\t44.6122\n",
      "Optimization finished.\n",
      "\t Epoch 6 | average train loss: 0.418598\n",
      "Dasgupta's cost:\t44.5624\n",
      "Optimization finished.\n",
      "\t Epoch 7 | average train loss: 0.419475\n",
      "Dasgupta's cost:\t44.5077\n",
      "Optimization finished.\n",
      "\t Epoch 8 | average train loss: 0.427407\n",
      "Dasgupta's cost:\t45.2064\n",
      "Optimization finished.\n",
      "\t Epoch 9 | average train loss: 0.425771\n",
      "Dasgupta's cost:\t45.2064\n",
      "Optimization finished.\n",
      "---\n",
      "3 best_cost: 44.44910893123542\n",
      "---\n",
      "\t Epoch 0 | average train loss: 0.496969\n",
      "Dasgupta's cost:\t45.2064\n",
      "Optimization finished.\n",
      "\t Epoch 1 | average train loss: 0.410874\n",
      "Dasgupta's cost:\t44.8844\n",
      "Optimization finished.\n",
      "\t Epoch 2 | average train loss: 0.413544\n",
      "Dasgupta's cost:\t44.5624\n",
      "Optimization finished.\n",
      "\t Epoch 3 | average train loss: 0.415776\n",
      "Dasgupta's cost:\t44.5624\n",
      "Optimization finished.\n",
      "\t Epoch 4 | average train loss: 0.417382\n",
      "Dasgupta's cost:\t44.5624\n",
      "Optimization finished.\n",
      "\t Epoch 5 | average train loss: 0.417914\n",
      "Dasgupta's cost:\t44.8903\n",
      "Optimization finished.\n",
      "\t Epoch 6 | average train loss: 0.419711\n",
      "Dasgupta's cost:\t44.8844\n",
      "Optimization finished.\n",
      "\t Epoch 7 | average train loss: 0.422167\n",
      "Dasgupta's cost:\t45.1567\n",
      "Optimization finished.\n",
      "\t Epoch 8 | average train loss: 0.420724\n",
      "Dasgupta's cost:\t45.1567\n",
      "Optimization finished.\n",
      "\t Epoch 9 | average train loss: 0.420350\n",
      "Dasgupta's cost:\t45.2202\n",
      "Optimization finished.\n",
      "---\n",
      "4 best_cost: 44.44910893123542\n",
      "---\n"
     ]
    },
    {
     "data": {
      "image/png": "[encoded data removed]",
      "text/plain": [
       "<Figure size 1500x1500 with 1 Axes>"
      ]
     },
     "metadata": {},
     "output_type": "display_data"
    }
   ],
   "source": [
    "embeddings1,nodes1 = get_Hyper_tree(folder_path1 +'datas.data',1,tmp1.shape[1]+1,0,epoches11,0,meta_list1,save_path=folder_path1,learning_rate = learning_rate,multi = 5)"
   ]
  },
  {
   "cell_type": "code",
   "execution_count": 13,
   "metadata": {},
   "outputs": [
    {
     "name": "stdout",
     "output_type": "stream",
     "text": [
      "True\n",
      "{'1': '#184e77', '3': '#1a759f', '4': '#168aad', '5': '#34a0a4', 'empty': '#fff', '2': '#99d98c', '6': '#76c893', '0': '#99d98c'}\n"
     ]
    },
    {
     "data": {
      "application/vnd.plotly.v1+json": {
       "config": {
        "plotlyServerURL": "https://plot.ly"
       },
       "data": [
        {
         "hoverinfo": "text",
         "hovertext": [
          "1_1"
         ],
         "legendgroup": "1",
         "marker": {
          "color": "#184e77",
          "size": 10,
          "symbol": "circle-dot"
         },
         "mode": "markers+text",
         "name": "1",
         "type": "scatter",
         "x": [
          8.3125
         ],
         "y": [
          0.5
         ]
        },
        {
         "hoverinfo": "text",
         "hovertext": [
          "3_3"
         ],
         "legendgroup": "3",
         "marker": {
          "color": "#1a759f",
          "size": 10,
          "symbol": "circle-dot"
         },
         "mode": "markers+text",
         "name": "3",
         "type": "scatter",
         "x": [
          9.15625
         ],
         "y": [
          -1
         ]
        },
        {
         "hoverinfo": "text",
         "hovertext": [
          "4_4"
         ],
         "legendgroup": "4",
         "marker": {
          "color": "#168aad",
          "size": 10,
          "symbol": "circle-dot"
         },
         "mode": "markers+text",
         "name": "4",
         "type": "scatter",
         "x": [
          2.125
         ],
         "y": [
          2
         ]
        },
        {
         "hoverinfo": "text",
         "hovertext": [
          "5_5"
         ],
         "legendgroup": "5",
         "marker": {
          "color": "#34a0a4",
          "size": 10,
          "symbol": "circle-dot"
         },
         "mode": "markers+text",
         "name": "5",
         "type": "scatter",
         "x": [
          9.71875
         ],
         "y": [
          -1
         ]
        },
        {
         "hoverinfo": "text",
         "hovertext": [
          "12",
          "8",
          "7",
          "11",
          "10",
          "9"
         ],
         "legendgroup": "empty",
         "marker": {
          "color": "#fff",
          "size": 10,
          "symbol": "circle-dot"
         },
         "mode": "markers+text",
         "name": "empty",
         "type": "scatter",
         "x": [
          5.5,
          3.25,
          4.375,
          7.75,
          8.875,
          9.4375
         ],
         "y": [
          5,
          3.5,
          2,
          3.5,
          2,
          0.5
         ]
        },
        {
         "hoverinfo": "text",
         "hovertext": [
          "2_2"
         ],
         "legendgroup": "2",
         "marker": {
          "color": "#99d98c",
          "size": 10,
          "symbol": "circle-dot"
         },
         "mode": "markers+text",
         "name": "2",
         "type": "scatter",
         "x": [
          3.8125
         ],
         "y": [
          0.5
         ]
        },
        {
         "hoverinfo": "text",
         "hovertext": [
          "6_6"
         ],
         "legendgroup": "6",
         "marker": {
          "color": "#76c893",
          "size": 10,
          "symbol": "circle-dot"
         },
         "mode": "markers+text",
         "name": "6",
         "type": "scatter",
         "x": [
          4.9375
         ],
         "y": [
          0.5
         ]
        },
        {
         "hoverinfo": "text",
         "hovertext": [
          "0_0"
         ],
         "legendgroup": "0",
         "marker": {
          "color": "#99d98c",
          "size": 10,
          "symbol": "circle-dot"
         },
         "mode": "markers+text",
         "name": "0",
         "type": "scatter",
         "x": [
          6.625
         ],
         "y": [
          2
         ]
        }
       ],
       "layout": {
        "height": 500,
        "shapes": [
         {
          "layer": "below",
          "line": {
           "color": "#333",
           "width": 2
          },
          "type": "line",
          "x0": 5.5,
          "x1": 5.5,
          "y0": 5,
          "y1": 5
         },
         {
          "layer": "below",
          "line": {
           "color": "#333",
           "width": 2
          },
          "type": "line",
          "x0": 5.5,
          "x1": 3.25,
          "y0": 5,
          "y1": 3.5
         },
         {
          "layer": "below",
          "line": {
           "color": "#333",
           "width": 2
          },
          "type": "line",
          "x0": 3.25,
          "x1": 2.125,
          "y0": 3.5,
          "y1": 2
         },
         {
          "layer": "below",
          "line": {
           "color": "#333",
           "width": 2
          },
          "type": "line",
          "x0": 3.25,
          "x1": 4.375,
          "y0": 3.5,
          "y1": 2
         },
         {
          "layer": "below",
          "line": {
           "color": "#333",
           "width": 2
          },
          "type": "line",
          "x0": 4.375,
          "x1": 3.8125,
          "y0": 2,
          "y1": 0.5
         },
         {
          "layer": "below",
          "line": {
           "color": "#333",
           "width": 2
          },
          "type": "line",
          "x0": 4.375,
          "x1": 4.9375,
          "y0": 2,
          "y1": 0.5
         },
         {
          "layer": "below",
          "line": {
           "color": "#333",
           "width": 2
          },
          "type": "line",
          "x0": 5.5,
          "x1": 7.75,
          "y0": 5,
          "y1": 3.5
         },
         {
          "layer": "below",
          "line": {
           "color": "#333",
           "width": 2
          },
          "type": "line",
          "x0": 7.75,
          "x1": 6.625,
          "y0": 3.5,
          "y1": 2
         },
         {
          "layer": "below",
          "line": {
           "color": "#333",
           "width": 2
          },
          "type": "line",
          "x0": 7.75,
          "x1": 8.875,
          "y0": 3.5,
          "y1": 2
         },
         {
          "layer": "below",
          "line": {
           "color": "#333",
           "width": 2
          },
          "type": "line",
          "x0": 8.875,
          "x1": 8.3125,
          "y0": 2,
          "y1": 0.5
         },
         {
          "layer": "below",
          "line": {
           "color": "#333",
           "width": 2
          },
          "type": "line",
          "x0": 8.875,
          "x1": 9.4375,
          "y0": 2,
          "y1": 0.5
         },
         {
          "layer": "below",
          "line": {
           "color": "#333",
           "width": 2
          },
          "type": "line",
          "x0": 9.4375,
          "x1": 9.15625,
          "y0": 0.5,
          "y1": -1
         },
         {
          "layer": "below",
          "line": {
           "color": "#333",
           "width": 2
          },
          "type": "line",
          "x0": 9.4375,
          "x1": 9.71875,
          "y0": 0.5,
          "y1": -1
         }
        ],
        "template": {
         "data": {
          "bar": [
           {
            "error_x": {
             "color": "#2a3f5f"
            },
            "error_y": {
             "color": "#2a3f5f"
            },
            "marker": {
             "line": {
              "color": "#E5ECF6",
              "width": 0.5
             },
             "pattern": {
              "fillmode": "overlay",
              "size": 10,
              "solidity": 0.2
             }
            },
            "type": "bar"
           }
          ],
          "barpolar": [
           {
            "marker": {
             "line": {
              "color": "#E5ECF6",
              "width": 0.5
             },
             "pattern": {
              "fillmode": "overlay",
              "size": 10,
              "solidity": 0.2
             }
            },
            "type": "barpolar"
           }
          ],
          "carpet": [
           {
            "aaxis": {
             "endlinecolor": "#2a3f5f",
             "gridcolor": "white",
             "linecolor": "white",
             "minorgridcolor": "white",
             "startlinecolor": "#2a3f5f"
            },
            "baxis": {
             "endlinecolor": "#2a3f5f",
             "gridcolor": "white",
             "linecolor": "white",
             "minorgridcolor": "white",
             "startlinecolor": "#2a3f5f"
            },
            "type": "carpet"
           }
          ],
          "choropleth": [
           {
            "colorbar": {
             "outlinewidth": 0,
             "ticks": ""
            },
            "type": "choropleth"
           }
          ],
          "contour": [
           {
            "colorbar": {
             "outlinewidth": 0,
             "ticks": ""
            },
            "colorscale": [
             [
              0,
              "#0d0887"
             ],
             [
              0.1111111111111111,
              "#46039f"
             ],
             [
              0.2222222222222222,
              "#7201a8"
             ],
             [
              0.3333333333333333,
              "#9c179e"
             ],
             [
              0.4444444444444444,
              "#bd3786"
             ],
             [
              0.5555555555555556,
              "#d8576b"
             ],
             [
              0.6666666666666666,
              "#ed7953"
             ],
             [
              0.7777777777777778,
              "#fb9f3a"
             ],
             [
              0.8888888888888888,
              "#fdca26"
             ],
             [
              1,
              "#f0f921"
             ]
            ],
            "type": "contour"
           }
          ],
          "contourcarpet": [
           {
            "colorbar": {
             "outlinewidth": 0,
             "ticks": ""
            },
            "type": "contourcarpet"
           }
          ],
          "heatmap": [
           {
            "colorbar": {
             "outlinewidth": 0,
             "ticks": ""
            },
            "colorscale": [
             [
              0,
              "#0d0887"
             ],
             [
              0.1111111111111111,
              "#46039f"
             ],
             [
              0.2222222222222222,
              "#7201a8"
             ],
             [
              0.3333333333333333,
              "#9c179e"
             ],
             [
              0.4444444444444444,
              "#bd3786"
             ],
             [
              0.5555555555555556,
              "#d8576b"
             ],
             [
              0.6666666666666666,
              "#ed7953"
             ],
             [
              0.7777777777777778,
              "#fb9f3a"
             ],
             [
              0.8888888888888888,
              "#fdca26"
             ],
             [
              1,
              "#f0f921"
             ]
            ],
            "type": "heatmap"
           }
          ],
          "heatmapgl": [
           {
            "colorbar": {
             "outlinewidth": 0,
             "ticks": ""
            },
            "colorscale": [
             [
              0,
              "#0d0887"
             ],
             [
              0.1111111111111111,
              "#46039f"
             ],
             [
              0.2222222222222222,
              "#7201a8"
             ],
             [
              0.3333333333333333,
              "#9c179e"
             ],
             [
              0.4444444444444444,
              "#bd3786"
             ],
             [
              0.5555555555555556,
              "#d8576b"
             ],
             [
              0.6666666666666666,
              "#ed7953"
             ],
             [
              0.7777777777777778,
              "#fb9f3a"
             ],
             [
              0.8888888888888888,
              "#fdca26"
             ],
             [
              1,
              "#f0f921"
             ]
            ],
            "type": "heatmapgl"
           }
          ],
          "histogram": [
           {
            "marker": {
             "pattern": {
              "fillmode": "overlay",
              "size": 10,
              "solidity": 0.2
             }
            },
            "type": "histogram"
           }
          ],
          "histogram2d": [
           {
            "colorbar": {
             "outlinewidth": 0,
             "ticks": ""
            },
            "colorscale": [
             [
              0,
              "#0d0887"
             ],
             [
              0.1111111111111111,
              "#46039f"
             ],
             [
              0.2222222222222222,
              "#7201a8"
             ],
             [
              0.3333333333333333,
              "#9c179e"
             ],
             [
              0.4444444444444444,
              "#bd3786"
             ],
             [
              0.5555555555555556,
              "#d8576b"
             ],
             [
              0.6666666666666666,
              "#ed7953"
             ],
             [
              0.7777777777777778,
              "#fb9f3a"
             ],
             [
              0.8888888888888888,
              "#fdca26"
             ],
             [
              1,
              "#f0f921"
             ]
            ],
            "type": "histogram2d"
           }
          ],
          "histogram2dcontour": [
           {
            "colorbar": {
             "outlinewidth": 0,
             "ticks": ""
            },
            "colorscale": [
             [
              0,
              "#0d0887"
             ],
             [
              0.1111111111111111,
              "#46039f"
             ],
             [
              0.2222222222222222,
              "#7201a8"
             ],
             [
              0.3333333333333333,
              "#9c179e"
             ],
             [
              0.4444444444444444,
              "#bd3786"
             ],
             [
              0.5555555555555556,
              "#d8576b"
             ],
             [
              0.6666666666666666,
              "#ed7953"
             ],
             [
              0.7777777777777778,
              "#fb9f3a"
             ],
             [
              0.8888888888888888,
              "#fdca26"
             ],
             [
              1,
              "#f0f921"
             ]
            ],
            "type": "histogram2dcontour"
           }
          ],
          "mesh3d": [
           {
            "colorbar": {
             "outlinewidth": 0,
             "ticks": ""
            },
            "type": "mesh3d"
           }
          ],
          "parcoords": [
           {
            "line": {
             "colorbar": {
              "outlinewidth": 0,
              "ticks": ""
             }
            },
            "type": "parcoords"
           }
          ],
          "pie": [
           {
            "automargin": true,
            "type": "pie"
           }
          ],
          "scatter": [
           {
            "fillpattern": {
             "fillmode": "overlay",
             "size": 10,
             "solidity": 0.2
            },
            "type": "scatter"
           }
          ],
          "scatter3d": [
           {
            "line": {
             "colorbar": {
              "outlinewidth": 0,
              "ticks": ""
             }
            },
            "marker": {
             "colorbar": {
              "outlinewidth": 0,
              "ticks": ""
             }
            },
            "type": "scatter3d"
           }
          ],
          "scattercarpet": [
           {
            "marker": {
             "colorbar": {
              "outlinewidth": 0,
              "ticks": ""
             }
            },
            "type": "scattercarpet"
           }
          ],
          "scattergeo": [
           {
            "marker": {
             "colorbar": {
              "outlinewidth": 0,
              "ticks": ""
             }
            },
            "type": "scattergeo"
           }
          ],
          "scattergl": [
           {
            "marker": {
             "colorbar": {
              "outlinewidth": 0,
              "ticks": ""
             }
            },
            "type": "scattergl"
           }
          ],
          "scattermapbox": [
           {
            "marker": {
             "colorbar": {
              "outlinewidth": 0,
              "ticks": ""
             }
            },
            "type": "scattermapbox"
           }
          ],
          "scatterpolar": [
           {
            "marker": {
             "colorbar": {
              "outlinewidth": 0,
              "ticks": ""
             }
            },
            "type": "scatterpolar"
           }
          ],
          "scatterpolargl": [
           {
            "marker": {
             "colorbar": {
              "outlinewidth": 0,
              "ticks": ""
             }
            },
            "type": "scatterpolargl"
           }
          ],
          "scatterternary": [
           {
            "marker": {
             "colorbar": {
              "outlinewidth": 0,
              "ticks": ""
             }
            },
            "type": "scatterternary"
           }
          ],
          "surface": [
           {
            "colorbar": {
             "outlinewidth": 0,
             "ticks": ""
            },
            "colorscale": [
             [
              0,
              "#0d0887"
             ],
             [
              0.1111111111111111,
              "#46039f"
             ],
             [
              0.2222222222222222,
              "#7201a8"
             ],
             [
              0.3333333333333333,
              "#9c179e"
             ],
             [
              0.4444444444444444,
              "#bd3786"
             ],
             [
              0.5555555555555556,
              "#d8576b"
             ],
             [
              0.6666666666666666,
              "#ed7953"
             ],
             [
              0.7777777777777778,
              "#fb9f3a"
             ],
             [
              0.8888888888888888,
              "#fdca26"
             ],
             [
              1,
              "#f0f921"
             ]
            ],
            "type": "surface"
           }
          ],
          "table": [
           {
            "cells": {
             "fill": {
              "color": "#EBF0F8"
             },
             "line": {
              "color": "white"
             }
            },
            "header": {
             "fill": {
              "color": "#C8D4E3"
             },
             "line": {
              "color": "white"
             }
            },
            "type": "table"
           }
          ]
         },
         "layout": {
          "annotationdefaults": {
           "arrowcolor": "#2a3f5f",
           "arrowhead": 0,
           "arrowwidth": 1
          },
          "autotypenumbers": "strict",
          "coloraxis": {
           "colorbar": {
            "outlinewidth": 0,
            "ticks": ""
           }
          },
          "colorscale": {
           "diverging": [
            [
             0,
             "#8e0152"
            ],
            [
             0.1,
             "#c51b7d"
            ],
            [
             0.2,
             "#de77ae"
            ],
            [
             0.3,
             "#f1b6da"
            ],
            [
             0.4,
             "#fde0ef"
            ],
            [
             0.5,
             "#f7f7f7"
            ],
            [
             0.6,
             "#e6f5d0"
            ],
            [
             0.7,
             "#b8e186"
            ],
            [
             0.8,
             "#7fbc41"
            ],
            [
             0.9,
             "#4d9221"
            ],
            [
             1,
             "#276419"
            ]
           ],
           "sequential": [
            [
             0,
             "#0d0887"
            ],
            [
             0.1111111111111111,
             "#46039f"
            ],
            [
             0.2222222222222222,
             "#7201a8"
            ],
            [
             0.3333333333333333,
             "#9c179e"
            ],
            [
             0.4444444444444444,
             "#bd3786"
            ],
            [
             0.5555555555555556,
             "#d8576b"
            ],
            [
             0.6666666666666666,
             "#ed7953"
            ],
            [
             0.7777777777777778,
             "#fb9f3a"
            ],
            [
             0.8888888888888888,
             "#fdca26"
            ],
            [
             1,
             "#f0f921"
            ]
           ],
           "sequentialminus": [
            [
             0,
             "#0d0887"
            ],
            [
             0.1111111111111111,
             "#46039f"
            ],
            [
             0.2222222222222222,
             "#7201a8"
            ],
            [
             0.3333333333333333,
             "#9c179e"
            ],
            [
             0.4444444444444444,
             "#bd3786"
            ],
            [
             0.5555555555555556,
             "#d8576b"
            ],
            [
             0.6666666666666666,
             "#ed7953"
            ],
            [
             0.7777777777777778,
             "#fb9f3a"
            ],
            [
             0.8888888888888888,
             "#fdca26"
            ],
            [
             1,
             "#f0f921"
            ]
           ]
          },
          "colorway": [
           "#636efa",
           "#EF553B",
           "#00cc96",
           "#ab63fa",
           "#FFA15A",
           "#19d3f3",
           "#FF6692",
           "#B6E880",
           "#FF97FF",
           "#FECB52"
          ],
          "font": {
           "color": "#2a3f5f"
          },
          "geo": {
           "bgcolor": "white",
           "lakecolor": "white",
           "landcolor": "#E5ECF6",
           "showlakes": true,
           "showland": true,
           "subunitcolor": "white"
          },
          "hoverlabel": {
           "align": "left"
          },
          "hovermode": "closest",
          "mapbox": {
           "style": "light"
          },
          "paper_bgcolor": "white",
          "plot_bgcolor": "#E5ECF6",
          "polar": {
           "angularaxis": {
            "gridcolor": "white",
            "linecolor": "white",
            "ticks": ""
           },
           "bgcolor": "#E5ECF6",
           "radialaxis": {
            "gridcolor": "white",
            "linecolor": "white",
            "ticks": ""
           }
          },
          "scene": {
           "xaxis": {
            "backgroundcolor": "#E5ECF6",
            "gridcolor": "white",
            "gridwidth": 2,
            "linecolor": "white",
            "showbackground": true,
            "ticks": "",
            "zerolinecolor": "white"
           },
           "yaxis": {
            "backgroundcolor": "#E5ECF6",
            "gridcolor": "white",
            "gridwidth": 2,
            "linecolor": "white",
            "showbackground": true,
            "ticks": "",
            "zerolinecolor": "white"
           },
           "zaxis": {
            "backgroundcolor": "#E5ECF6",
            "gridcolor": "white",
            "gridwidth": 2,
            "linecolor": "white",
            "showbackground": true,
            "ticks": "",
            "zerolinecolor": "white"
           }
          },
          "shapedefaults": {
           "line": {
            "color": "#2a3f5f"
           }
          },
          "ternary": {
           "aaxis": {
            "gridcolor": "white",
            "linecolor": "white",
            "ticks": ""
           },
           "baxis": {
            "gridcolor": "white",
            "linecolor": "white",
            "ticks": ""
           },
           "bgcolor": "#E5ECF6",
           "caxis": {
            "gridcolor": "white",
            "linecolor": "white",
            "ticks": ""
           }
          },
          "title": {
           "x": 0.05
          },
          "xaxis": {
           "automargin": true,
           "gridcolor": "white",
           "linecolor": "white",
           "ticks": "",
           "title": {
            "standoff": 15
           },
           "zerolinecolor": "white",
           "zerolinewidth": 2
          },
          "yaxis": {
           "automargin": true,
           "gridcolor": "white",
           "linecolor": "white",
           "ticks": "",
           "title": {
            "standoff": 15
           },
           "zerolinecolor": "white",
           "zerolinewidth": 2
          }
         }
        },
        "width": 1000,
        "xaxis": {
         "showgrid": false,
         "showline": false,
         "showticklabels": false,
         "zeroline": false
        },
        "yaxis": {
         "showgrid": false,
         "showline": false,
         "showticklabels": false,
         "zeroline": false
        }
       }
      }
     },
     "metadata": {},
     "output_type": "display_data"
    }
   ],
   "source": [
    "merge_points_with_c(embeddings1,nodes1,folder_path1 +'datas.data',1,tmp1.shape[1]+1,0,folder_path1,epoches21,c1,-1)\n",
    "nos1 = build_hyper_tree_from_folder(folder_path1,True)\n",
    "add_meta(nos1[0],meta_list1,[])\n",
    "show_tree(nos1[0],color=['#184e77','#1a759f','#168aad',\"#34a0a4\",'#52b69a','#99d98c','#76c893','#99d98c']).show_fig()\n",
    "remove_meta(nos1[0]);"
   ]
  },
  {
   "cell_type": "code",
   "execution_count": 14,
   "metadata": {},
   "outputs": [],
   "source": [
    "# merge_points_with_c(embeddings1,nodes1,folder_path1 +'datas.data',1,tmp1.shape[1]+1,0,folder_path1,epoches21,1,1)\n",
    "# nos1 = build_hyper_tree_from_folder(folder_path1,True)\n",
    "# add_meta(nos1[0],meta_list1,[])\n",
    "# show_tree(nos1[0],color=['#184e77','#1a759f','#168aad',\"#34a0a4\",'#52b69a','#99d98c','#76c893','#99d98c']).show_fig()\n",
    "# remove_meta(nos1[0]);"
   ]
  },
  {
   "cell_type": "markdown",
   "metadata": {},
   "source": [
    "        0                       0\n",
    "   1        2               1       2\n",
    "  3 4                       4       0\n",
    "                            3"
   ]
  },
  {
   "cell_type": "code",
   "execution_count": 16,
   "metadata": {},
   "outputs": [],
   "source": [
    "X = np.array([[1.9995527864, 1.7542556889, 0.9892064807, 1.6836552229,\n",
    "        0.9895102962, 1.6515763829, 0.9893444771],\n",
    "       [1.7542556889, 1.9995527864, 0.9878904861, 1.7995472835,\n",
    "        0.987994611 , 1.7513944807, 0.9879354206],\n",
    "       [0.9892064807, 0.9878904861, 1.9995527864, 0.9877819725,\n",
    "        1.9065111633, 0.9879779436, 1.9361627998],\n",
    "       [1.6836552229, 1.7995472835, 0.9877819725, 1.9995527864,\n",
    "        0.9877536629, 1.8523854376, 0.9877651837],\n",
    "       [0.9895102962, 0.987994611 , 1.9065111633, 0.9877536629,\n",
    "        1.9995527864, 0.987877933 , 1.9316757064],\n",
    "       [1.6515763829, 1.7513944807, 0.9879779436, 1.8523854376,\n",
    "        0.987877933 , 1.9995527864, 0.9879277357],\n",
    "       [0.9893444771, 0.9879354206, 1.9361627998, 0.9877651837,\n",
    "        1.9316757064, 0.9879277357, 1.9995527864]])"
   ]
  },
  {
   "cell_type": "code",
   "execution_count": 17,
   "metadata": {},
   "outputs": [],
   "source": [
    "from sklearn.utils.extmath import randomized_svd\n",
    "U, Sigma, VT = randomized_svd(X, \n",
    "                              n_components=4,\n",
    "                              n_iter=5,\n",
    "                              random_state=None)\n",
    "U, Sigma, Vt = np.linalg.svd(X)\n",
    "sig = np.zeros((len(Sigma),len(Sigma)))\n",
    "for i in range(len(Sigma)):\n",
    "    sig[i][i] = (Sigma**0.5)[i]\n",
    "W=np.matmul(U,sig)\n"
   ]
  },
  {
   "cell_type": "code",
   "execution_count": 18,
   "metadata": {},
   "outputs": [],
   "source": [
    "U, Sigma, Vt = np.linalg.svd(X)\n",
    "sig = np.zeros((len(Sigma),len(Sigma)))\n",
    "for i in range(len(Sigma)):\n",
    "    sig[i][i] = (Sigma**0.5)[i]\n",
    "W=np.matmul(U,sig)\n"
   ]
  },
  {
   "cell_type": "code",
   "execution_count": 19,
   "metadata": {},
   "outputs": [],
   "source": [
    "from sklearn.decomposition import NMF\n",
    "model = NMF(n_components=7, init='random', random_state=0)\n",
    "W = model.fit_transform(X)\n",
    "H = model.components_\n"
   ]
  },
  {
   "cell_type": "code",
   "execution_count": 29,
   "metadata": {},
   "outputs": [
    {
     "data": {
      "text/plain": [
       "array([[0.7817198163, 0.0053374972, 0.183714396 , 0.0910215768,\n",
       "        0.5826622047, 0.          , 0.0857583135],\n",
       "       [0.6487596938, 0.          , 0.0533956962, 0.3145653865,\n",
       "        0.5981246479, 0.339644839 , 0.0647816783],\n",
       "       [0.5913634189, 0.4692680486, 0.4993232949, 0.0206970727,\n",
       "        0.0635569116, 0.4128711635, 0.0763059957],\n",
       "       [0.730172915 , 0.0514037588, 0.1893905793, 0.4258748013,\n",
       "        0.4548138379, 0.0185453139, 0.1994178377],\n",
       "       [0.52308231  , 0.51943366  , 0.4827633789, 0.0245407369,\n",
       "        0.0068524824, 0.2412364032, 0.405794139 ],\n",
       "       [0.5703066719, 0.1334514243, 0.3265227502, 0.4510964652,\n",
       "        0.5883121366, 0.0269206249, 0.          ],\n",
       "       [0.5449686462, 0.4811104163, 0.5172437781, 0.0182575225,\n",
       "        0.0072090873, 0.2974060023, 0.339359953 ]])"
      ]
     },
     "execution_count": 29,
     "metadata": {},
     "output_type": "execute_result"
    }
   ],
   "source": [
    "x"
   ]
  },
  {
   "cell_type": "code",
   "execution_count": 33,
   "metadata": {},
   "outputs": [
    {
     "data": {
      "text/plain": [
       "array([0.0902917615, 0.2230668565, 0.1708320205, 0.1830770566,\n",
       "       0.2666277865, 0.1596029336, 0.1418972841])"
      ]
     },
     "execution_count": 33,
     "metadata": {},
     "output_type": "execute_result"
    }
   ],
   "source": [
    "x.std(0)"
   ]
  },
  {
   "cell_type": "code",
   "execution_count": 21,
   "metadata": {},
   "outputs": [
    {
     "data": {
      "text/plain": [
       "array([[1.          , 0.9498251489, 0.8009890308, 0.9633635736,\n",
       "        0.7706967528, 0.9451830057, 0.7792855361],\n",
       "       [0.9498251489, 1.          , 0.8000063969, 0.9545188396,\n",
       "        0.7425866178, 0.9451768331, 0.7571120611],\n",
       "       [0.8009890308, 0.8000063969, 1.          , 0.8055406738,\n",
       "        0.9628239443, 0.8103829184, 0.9779188808],\n",
       "       [0.9633635736, 0.9545188396, 0.8055406738, 1.          ,\n",
       "        0.7995182467, 0.9726525462, 0.8024287273],\n",
       "       [0.7706967528, 0.7425866178, 0.9628239443, 0.7995182467,\n",
       "        1.          , 0.7734327961, 0.9973138221],\n",
       "       [0.9451830057, 0.9451768331, 0.8103829184, 0.9726525462,\n",
       "        0.7734327961, 1.          , 0.7821897195],\n",
       "       [0.7792855361, 0.7571120611, 0.9779188808, 0.8024287273,\n",
       "        0.9973138221, 0.7821897195, 1.          ]])"
      ]
     },
     "execution_count": 21,
     "metadata": {},
     "output_type": "execute_result"
    }
   ],
   "source": [
    "x = np.array(W, dtype=float)\n",
    "mean = x.mean(0)\n",
    "std = x.std(0)\n",
    "# x = (x - mean) / std\n",
    "\n",
    "if 1:\n",
    "    x = x / np.linalg.norm(x, axis=1, keepdims=True)\n",
    "x0 = x[None, :, :]\n",
    "x1 = x[:, None, :]\n",
    "cos = (x0 * x1).sum(-1)\n",
    "sim = 0.5 * (1 + cos)\n",
    "sim = np.triu(sim) + np.triu(sim).T\n",
    "sim[np.diag_indices_from(sim)] = 1.0\n",
    "# sim[sim > 1.0] = 1.0\n",
    "# sim = (sim - np.min(sim)) / (np.max(sim) - np.min(sim))\n",
    "sim"
   ]
  },
  {
   "cell_type": "code",
   "execution_count": null,
   "metadata": {},
   "outputs": [
    {
     "data": {
      "text/plain": [
       "array([[1.          , 0.9498251489, 0.8009890308, 0.9633635736,\n",
       "        0.7706967528, 0.9451830057, 0.7792855361],\n",
       "       [0.9498251489, 1.          , 0.8000063969, 0.9545188396,\n",
       "        0.7425866178, 0.9451768331, 0.7571120611],\n",
       "       [0.8009890308, 0.8000063969, 1.          , 0.8055406738,\n",
       "        0.9628239443, 0.8103829184, 0.9779188808],\n",
       "       [0.9633635736, 0.9545188396, 0.8055406738, 1.          ,\n",
       "        0.7995182467, 0.9726525462, 0.8024287273],\n",
       "       [0.7706967528, 0.7425866178, 0.9628239443, 0.7995182467,\n",
       "        1.          , 0.7734327961, 0.9973138221],\n",
       "       [0.9451830057, 0.9451768331, 0.8103829184, 0.9726525462,\n",
       "        0.7734327961, 1.          , 0.7821897195],\n",
       "       [0.7792855361, 0.7571120611, 0.9779188808, 0.8024287273,\n",
       "        0.9973138221, 0.7821897195, 1.          ]])"
      ]
     },
     "metadata": {},
     "output_type": "display_data"
    }
   ],
   "source": [
    "x = np.array(W, dtype=float)\n",
    "mean = x.mean(0)\n",
    "std = x.std(0)\n",
    "# x = (x - mean) / std\n",
    "\n",
    "if 1:\n",
    "    x = x / np.linalg.norm(x, axis=1, keepdims=True)\n",
    "x0 = x[None, :, :]\n",
    "x1 = x[:, None, :]\n",
    "cos = (x0 * x1).sum(-1)\n",
    "sim = 0.5 * (1 + cos)\n",
    "sim = np.triu(sim) + np.triu(sim).T\n",
    "sim[np.diag_indices_from(sim)] = 1.0\n",
    "# sim[sim > 1.0] = 1.0\n",
    "# sim = (sim - np.min(sim)) / (np.max(sim) - np.min(sim))\n",
    "sim"
   ]
  },
  {
   "cell_type": "code",
   "execution_count": 15,
   "metadata": {},
   "outputs": [
    {
     "data": {
      "text/plain": [
       "array([[1.          , 0.6711764603, 0.6900162101, 0.1588077407,\n",
       "        0.1318320224, 0.1775570413, 0.7631615254],\n",
       "       [0.6711764603, 1.          , 0.9905748315, 0.9379653167,\n",
       "        0.4119081643, 0.4292656836, 0.0538782745],\n",
       "       [0.6900162101, 0.9905748315, 1.          , 0.7182645562,\n",
       "        0.024856042 , 0.9721131229, 0.2540816301],\n",
       "       [0.1588077407, 0.9379653167, 0.7182645562, 1.          ,\n",
       "        0.5635607951, 0.0465315789, 0.9279726293],\n",
       "       [0.1318320224, 0.4119081643, 0.024856042 , 0.5635607951,\n",
       "        1.          , 0.9173544687, 0.8383115033],\n",
       "       [0.1775570413, 0.4292656836, 0.9721131229, 0.0465315789,\n",
       "        0.9173544687, 1.          , 0.1569245323],\n",
       "       [0.7631615254, 0.0538782745, 0.2540816301, 0.9279726293,\n",
       "        0.8383115033, 0.1569245323, 1.          ]])"
      ]
     },
     "execution_count": 15,
     "metadata": {},
     "output_type": "execute_result"
    }
   ],
   "source": [
    "b = np.random.rand(7,7);\n",
    "for i in range(7):\n",
    "    for j in range(7):\n",
    "        b[i][j] = b[j][i];\n",
    "    b[i][i] = 1;\n",
    "b"
   ]
  },
  {
   "cell_type": "code",
   "execution_count": 19,
   "metadata": {},
   "outputs": [
    {
     "data": {
      "text/plain": [
       "array([[4.4721359189e-04, 5.4592057843e-01, 1.2185303486e+00,\n",
       "        4.2641907997e-01, 1.2158178709e+00, 4.2529184633e-01,\n",
       "        1.2181831560e+00],\n",
       "       [5.4592057843e-01, 4.4721359189e-04, 1.2201244602e+00,\n",
       "        3.4769773757e-01, 1.2213074921e+00, 3.4909395054e-01,\n",
       "        1.2203517455e+00],\n",
       "       [1.2185303486e+00, 1.2201244602e+00, 4.4721359189e-04,\n",
       "        1.2216539464e+00, 2.5649000984e-01, 1.2216546665e+00,\n",
       "        9.8764318251e-02],\n",
       "       [4.2641907997e-01, 3.4769773757e-01, 1.2216539464e+00,\n",
       "        4.4721359189e-04, 1.2212894691e+00, 3.1547087540e-02,\n",
       "        1.2216528190e+00],\n",
       "       [1.2158178709e+00, 1.2213074921e+00, 2.5649000984e-01,\n",
       "        1.2212894691e+00, 4.4721359189e-04, 1.2212775905e+00,\n",
       "        2.3691689400e-01],\n",
       "       [4.2529184633e-01, 3.4909395054e-01, 1.2216546665e+00,\n",
       "        3.1547087540e-02, 1.2212775905e+00, 4.4721359189e-04,\n",
       "        1.2216516806e+00],\n",
       "       [1.2181831560e+00, 1.2203517455e+00, 9.8764318251e-02,\n",
       "        1.2216528190e+00, 2.3691689400e-01, 1.2216516806e+00,\n",
       "        4.4721359189e-04]])"
      ]
     },
     "execution_count": 19,
     "metadata": {},
     "output_type": "execute_result"
    }
   ],
   "source": [
    "a = [[0 for i in range(7)] for j in range(7)]\n",
    "for i in range(7):\n",
    "    for j in range(7):\n",
    "        a[i][j] = np.array(hyp_dist(embeddings1[i],embeddings1[j]))\n",
    "a=np.array(a).reshape(7,7);\n",
    "a"
   ]
  },
  {
   "cell_type": "code",
   "execution_count": 17,
   "metadata": {},
   "outputs": [],
   "source": [
    "sim  =np.array([[1.          , 0.6993498232, 0.0791033551, 0.416892978 ,\n",
    "        0.02713854  , 0.5690349794, 0.3811182727],\n",
    "       [0.6993498232, 1.          , 0.373046594 , 0.6258830845,\n",
    "        0.2210223475, 0.6541960115, 0.3309362028],\n",
    "       [0.0791033551, 0.373046594 , 1.          , 0.2203622748,\n",
    "        0.1203283188, 0.3685576821, 0.2609234535],\n",
    "       [0.416892978 , 0.6258830845, 0.2203622748, 1.          ,\n",
    "        0.1752739847, 0.9523846741, 0.6654910876],\n",
    "       [0.02713854  , 0.2210223475, 0.1203283188, 0.1752739847,\n",
    "        1.          , 0.1967704784, 0.1817954315],\n",
    "       [0.5690349794, 0.6541960115, 0.3685576821, 0.9523846741,\n",
    "        0.1967704784, 1.          , 0.3767999393],\n",
    "       [0.3811182727, 0.3309362028, 0.2609234535, 0.6654910876,\n",
    "        0.1817954315, 0.3767999393, 1.          ]])"
   ]
  },
  {
   "cell_type": "code",
   "execution_count": 18,
   "metadata": {},
   "outputs": [
    {
     "data": {
      "text/plain": [
       "array([[4.4721359189e-04, 3.4095801186e-01, 1.4002106141e+00,\n",
       "        3.1403413434e-01, 1.3878042325e+00, 3.0526039273e-01,\n",
       "        1.4003434030e+00],\n",
       "       [3.4095801186e-01, 4.4721359189e-04, 1.3977459694e+00,\n",
       "        1.3396000794e-01, 1.3935018355e+00, 1.5313947320e-01,\n",
       "        1.4011079981e+00],\n",
       "       [1.4002106141e+00, 1.3977459694e+00, 4.4721359189e-04,\n",
       "        1.3982252103e+00, 7.5725460265e-01, 1.3983651408e+00,\n",
       "        4.8624703236e-01],\n",
       "       [3.1403413434e-01, 1.3396000794e-01, 1.3982252103e+00,\n",
       "        4.4721359189e-04, 1.3927332297e+00, 7.4317607113e-02,\n",
       "        1.4010926540e+00],\n",
       "       [1.3878042325e+00, 1.3935018355e+00, 7.5725460265e-01,\n",
       "        1.3927332297e+00, 4.4721359189e-04, 1.3924894375e+00,\n",
       "        5.9554500399e-01],\n",
       "       [3.0526039273e-01, 1.5313947320e-01, 1.3983651408e+00,\n",
       "        7.4317607113e-02, 1.3924894375e+00, 4.4721359189e-04,\n",
       "        1.4010805608e+00],\n",
       "       [1.4003434030e+00, 1.4011079981e+00, 4.8624703236e-01,\n",
       "        1.4010926540e+00, 5.9554500399e-01, 1.4010805608e+00,\n",
       "        4.4721359189e-04]])"
      ]
     },
     "execution_count": 18,
     "metadata": {},
     "output_type": "execute_result"
    }
   ],
   "source": [
    "dist = [[0 for i in range(7)] for j in range(7)]\n",
    "for i in range(7):\n",
    "    for j in range(7):\n",
    "        dist[i][j] = np.array(hyp_dist(embeddings1[i],embeddings1[j]))\n",
    "dist=np.array(dist).reshape(7,7);\n",
    "dist\n"
   ]
  },
  {
   "cell_type": "code",
   "execution_count": 19,
   "metadata": {},
   "outputs": [],
   "source": [
    "import numpy as np\n",
    "import matplotlib.pyplot as plt\n",
    "\n",
    "# Define a function to calculate the Euclidean distance between two points\n",
    "def euclidean_distance(x1, x2):\n",
    "    return np.sqrt(np.sum((x1 - x2) ** 2))\n",
    "\n",
    "# Hierarchical clustering function\n",
    "def hierarchical_clustering(data):\n",
    "    ans = [];\n",
    "    distances = {}\n",
    "    father = {}\n",
    "    data_index = {}\n",
    "    current_label = len(data)\n",
    "    clusters = {i: [i] for i in range(len(data))}\n",
    "    for i in range(len(data)):\n",
    "        data_index[i] = data[i];\n",
    "    while len(clusters) > 1:\n",
    "        min_distance = np.inf\n",
    "        for i in clusters:\n",
    "            for j in clusters:\n",
    "                if i!=j and (i,j) not in distances:\n",
    "                # if i < j and (i, j) not in distances:\n",
    "                    distances[(i, j)] = hyp_dist(data_index[i], data_index[j])\n",
    "                elif (i,j) not in distances:\n",
    "                    distances[(i,i)]=0\n",
    "                \n",
    "        for i in clusters:\n",
    "            for j in clusters:       \n",
    "                sum = 0;\n",
    "                for k in clusters:\n",
    "                    sum += distances[(i, k)] + distances[(j,k)];\n",
    "                \n",
    "                q = (len(clusters)-2)*distances[(i, j)] - sum;\n",
    "                if i < j and distances[(i, j)] < min_distance:\n",
    "                    min_distance = distances[(i, j)]\n",
    "                    merge = (i, j)\n",
    "\n",
    "        i, j = merge\n",
    "        new_cluster = clusters[i] + clusters[j]\n",
    "        father[i] = current_label\n",
    "        father[j] = current_label\n",
    "        data_index[current_label] = np.array([data_index[i][0] + data_index[j][0],data_index[i][1] + data_index[j][1]])/2\n",
    "        del clusters[i]\n",
    "        del clusters[j]\n",
    "        clusters[current_label] = new_cluster\n",
    "\n",
    "        current_label += 1\n",
    "        # print(clusters)\n",
    "        ans.append(clusters.copy())\n",
    "        \n",
    "    # return list(clusters.values())\n",
    "    myKeys = list(father.keys())\n",
    "    myKeys.sort()\n",
    "    \n",
    "    # Sorted Dictionary\n",
    "    father = {i: father[i] for i in myKeys}\n",
    "    return father,data_index;\n",
    "\n",
    "# Generate some random data for clustering\n",
    "X = embeddings1[:7]  # 10 points in 2 dimensions\n",
    "\n",
    "# Perform hierarchical clustering\n",
    "father,X = hierarchical_clustering(X)\n"
   ]
  },
  {
   "cell_type": "code",
   "execution_count": 20,
   "metadata": {},
   "outputs": [],
   "source": [
    "X=[X[i] for i in X]"
   ]
  },
  {
   "cell_type": "code",
   "execution_count": 21,
   "metadata": {},
   "outputs": [
    {
     "data": {
      "text/plain": [
       "OutEdgeView([(9, 0), (9, 8), (8, 1), (8, 7), (10, 2), (10, 6), (7, 3), (7, 5), (11, 4), (11, 10), (12, 9), (12, 11)])"
      ]
     },
     "execution_count": 21,
     "metadata": {},
     "output_type": "execute_result"
    }
   ],
   "source": [
    "tree = nx.DiGraph()\n",
    "for i in father:\n",
    "    tree.add_edge(father[i], i)\n",
    "tree.edges()"
   ]
  },
  {
   "cell_type": "code",
   "execution_count": 22,
   "metadata": {},
   "outputs": [
    {
     "data": {
      "text/plain": [
       "{0: 9,\n",
       " 1: 8,\n",
       " 2: 10,\n",
       " 3: 7,\n",
       " 4: 11,\n",
       " 5: 7,\n",
       " 6: 10,\n",
       " 7: 8,\n",
       " 8: 9,\n",
       " 9: 12,\n",
       " 10: 11,\n",
       " 11: 12,\n",
       " 12: -1}"
      ]
     },
     "execution_count": 22,
     "metadata": {},
     "output_type": "execute_result"
    }
   ],
   "source": [
    "father[12]=-1\n",
    "father"
   ]
  },
  {
   "cell_type": "code",
   "execution_count": 23,
   "metadata": {},
   "outputs": [
    {
     "name": "stdout",
     "output_type": "stream",
     "text": [
      "9 0\n",
      "9 8\n",
      "8 1\n",
      "8 7\n",
      "10 2\n",
      "10 6\n",
      "7 3\n",
      "7 5\n",
      "11 4\n",
      "11 10\n",
      "12 9\n",
      "12 11\n"
     ]
    },
    {
     "data": {
      "image/png": "[encoded data removed]",
      "text/plain": [
       "<Figure size 1500x1500 with 1 Axes>"
      ]
     },
     "metadata": {},
     "output_type": "display_data"
    }
   ],
   "source": [
    "uf = [ father[i] for i in father]\n",
    "nodes1 = [node(name=str(i),son=[]) for i in range(len(uf))]\n",
    "n=7;\n",
    "for i in range(7):\n",
    "    nodes1[i].subson=[i];\n",
    "for i,j in enumerate(uf):\n",
    "    if(j!=-1):\n",
    "        nodes1[j].son.append(nodes1[i])\n",
    "    nodes1[i].value=torch.tensor(X[i])\n",
    "    nodes1[i].hyper=torch.tensor(X[i])\n",
    "root = nodes1[-1];\n",
    "X = np.array(X)\n",
    "fig = plt.figure(figsize=(15, 15))\n",
    "ax = fig.add_subplot(111)\n",
    "ax.scatter(X[:n, 0], X[:n, 1], c='black', s=50, alpha=0.6)\n",
    "ax.scatter(X[n:, 0], X[n:,1],color ='red',s=20,alpha=0.6)\n",
    "for n1, n2 in tree.edges():\n",
    "    print(n1,n2)\n",
    "    x1 = X[n1];\n",
    "    x2 = X[n2]\n",
    "    plot_geodesic(x1,x2,ax)"
   ]
  },
  {
   "cell_type": "code",
   "execution_count": 24,
   "metadata": {},
   "outputs": [],
   "source": [
    "names = [];\n",
    "fathers = [];\n",
    "xys = [];\n",
    "search_merge_tree(root,-1,0,names,fathers,xys)\n",
    "# np.save(save_path+\"dataname.npy\",names)\n",
    "# np.save(save_path+\"datalink.npy\",fathers)\n",
    "# np.save(save_path+\"dataxy.npy\",[i.numpy() for i in xys])"
   ]
  },
  {
   "cell_type": "code",
   "execution_count": 25,
   "metadata": {},
   "outputs": [],
   "source": [
    "np.save(folder_path1+\"dataname.npy\",names)\n",
    "np.save(folder_path1+\"datalink.npy\",fathers)\n",
    "np.save(folder_path1+\"dataxy.npy\",[i.numpy() for i in xys])"
   ]
  },
  {
   "cell_type": "code",
   "execution_count": 26,
   "metadata": {},
   "outputs": [
    {
     "data": {
      "text/plain": [
       "tensor([-0.0141,  0.0057], dtype=torch.float64)"
      ]
     },
     "execution_count": 26,
     "metadata": {},
     "output_type": "execute_result"
    }
   ],
   "source": [
    "root.value"
   ]
  },
  {
   "cell_type": "code",
   "execution_count": 27,
   "metadata": {},
   "outputs": [
    {
     "name": "stdout",
     "output_type": "stream",
     "text": [
      "{'0': '#184e77', '4': '#1a759f', '5': '#168aad', '3': '#34a0a4', 'empty': '#fff', '2': '#99d98c', '6': '#76c893', '1': '#99d98c'}\n"
     ]
    },
    {
     "data": {
      "application/vnd.plotly.v1+json": {
       "config": {
        "plotlyServerURL": "https://plot.ly"
       },
       "data": [
        {
         "hoverinfo": "text",
         "hovertext": [
          "0_0"
         ],
         "legendgroup": "0",
         "marker": {
          "color": "#184e77",
          "size": 10,
          "symbol": "circle-dot"
         },
         "mode": "markers+text",
         "name": "0",
         "type": "scatter",
         "x": [
          2.125
         ],
         "y": [
          2
         ]
        },
        {
         "hoverinfo": "text",
         "hovertext": [
          "4_4"
         ],
         "legendgroup": "4",
         "marker": {
          "color": "#1a759f",
          "size": 10,
          "symbol": "circle-dot"
         },
         "mode": "markers+text",
         "name": "4",
         "type": "scatter",
         "x": [
          6.625
         ],
         "y": [
          2
         ]
        },
        {
         "hoverinfo": "text",
         "hovertext": [
          "5_5"
         ],
         "legendgroup": "5",
         "marker": {
          "color": "#168aad",
          "size": 10,
          "symbol": "circle-dot"
         },
         "mode": "markers+text",
         "name": "5",
         "type": "scatter",
         "x": [
          5.21875
         ],
         "y": [
          -1
         ]
        },
        {
         "hoverinfo": "text",
         "hovertext": [
          "3_3"
         ],
         "legendgroup": "3",
         "marker": {
          "color": "#34a0a4",
          "size": 10,
          "symbol": "circle-dot"
         },
         "mode": "markers+text",
         "name": "3",
         "type": "scatter",
         "x": [
          4.65625
         ],
         "y": [
          -1
         ]
        },
        {
         "hoverinfo": "text",
         "hovertext": [
          "12",
          "9",
          "8",
          "7",
          "11",
          "10"
         ],
         "legendgroup": "empty",
         "marker": {
          "color": "#fff",
          "size": 10,
          "symbol": "circle-dot"
         },
         "mode": "markers+text",
         "name": "empty",
         "type": "scatter",
         "x": [
          5.5,
          3.25,
          4.375,
          4.9375,
          7.75,
          8.875
         ],
         "y": [
          5,
          3.5,
          2,
          0.5,
          3.5,
          2
         ]
        },
        {
         "hoverinfo": "text",
         "hovertext": [
          "2_2"
         ],
         "legendgroup": "2",
         "marker": {
          "color": "#99d98c",
          "size": 10,
          "symbol": "circle-dot"
         },
         "mode": "markers+text",
         "name": "2",
         "type": "scatter",
         "x": [
          8.3125
         ],
         "y": [
          0.5
         ]
        },
        {
         "hoverinfo": "text",
         "hovertext": [
          "6_6"
         ],
         "legendgroup": "6",
         "marker": {
          "color": "#76c893",
          "size": 10,
          "symbol": "circle-dot"
         },
         "mode": "markers+text",
         "name": "6",
         "type": "scatter",
         "x": [
          9.4375
         ],
         "y": [
          0.5
         ]
        },
        {
         "hoverinfo": "text",
         "hovertext": [
          "1_1"
         ],
         "legendgroup": "1",
         "marker": {
          "color": "#99d98c",
          "size": 10,
          "symbol": "circle-dot"
         },
         "mode": "markers+text",
         "name": "1",
         "type": "scatter",
         "x": [
          3.8125
         ],
         "y": [
          0.5
         ]
        }
       ],
       "layout": {
        "height": 500,
        "shapes": [
         {
          "layer": "below",
          "line": {
           "color": "#333",
           "width": 2
          },
          "type": "line",
          "x0": 5.5,
          "x1": 5.5,
          "y0": 5,
          "y1": 5
         },
         {
          "layer": "below",
          "line": {
           "color": "#333",
           "width": 2
          },
          "type": "line",
          "x0": 5.5,
          "x1": 3.25,
          "y0": 5,
          "y1": 3.5
         },
         {
          "layer": "below",
          "line": {
           "color": "#333",
           "width": 2
          },
          "type": "line",
          "x0": 3.25,
          "x1": 2.125,
          "y0": 3.5,
          "y1": 2
         },
         {
          "layer": "below",
          "line": {
           "color": "#333",
           "width": 2
          },
          "type": "line",
          "x0": 3.25,
          "x1": 4.375,
          "y0": 3.5,
          "y1": 2
         },
         {
          "layer": "below",
          "line": {
           "color": "#333",
           "width": 2
          },
          "type": "line",
          "x0": 4.375,
          "x1": 3.8125,
          "y0": 2,
          "y1": 0.5
         },
         {
          "layer": "below",
          "line": {
           "color": "#333",
           "width": 2
          },
          "type": "line",
          "x0": 4.375,
          "x1": 4.9375,
          "y0": 2,
          "y1": 0.5
         },
         {
          "layer": "below",
          "line": {
           "color": "#333",
           "width": 2
          },
          "type": "line",
          "x0": 4.9375,
          "x1": 4.65625,
          "y0": 0.5,
          "y1": -1
         },
         {
          "layer": "below",
          "line": {
           "color": "#333",
           "width": 2
          },
          "type": "line",
          "x0": 4.9375,
          "x1": 5.21875,
          "y0": 0.5,
          "y1": -1
         },
         {
          "layer": "below",
          "line": {
           "color": "#333",
           "width": 2
          },
          "type": "line",
          "x0": 5.5,
          "x1": 7.75,
          "y0": 5,
          "y1": 3.5
         },
         {
          "layer": "below",
          "line": {
           "color": "#333",
           "width": 2
          },
          "type": "line",
          "x0": 7.75,
          "x1": 6.625,
          "y0": 3.5,
          "y1": 2
         },
         {
          "layer": "below",
          "line": {
           "color": "#333",
           "width": 2
          },
          "type": "line",
          "x0": 7.75,
          "x1": 8.875,
          "y0": 3.5,
          "y1": 2
         },
         {
          "layer": "below",
          "line": {
           "color": "#333",
           "width": 2
          },
          "type": "line",
          "x0": 8.875,
          "x1": 8.3125,
          "y0": 2,
          "y1": 0.5
         },
         {
          "layer": "below",
          "line": {
           "color": "#333",
           "width": 2
          },
          "type": "line",
          "x0": 8.875,
          "x1": 9.4375,
          "y0": 2,
          "y1": 0.5
         }
        ],
        "template": {
         "data": {
          "bar": [
           {
            "error_x": {
             "color": "#2a3f5f"
            },
            "error_y": {
             "color": "#2a3f5f"
            },
            "marker": {
             "line": {
              "color": "#E5ECF6",
              "width": 0.5
             },
             "pattern": {
              "fillmode": "overlay",
              "size": 10,
              "solidity": 0.2
             }
            },
            "type": "bar"
           }
          ],
          "barpolar": [
           {
            "marker": {
             "line": {
              "color": "#E5ECF6",
              "width": 0.5
             },
             "pattern": {
              "fillmode": "overlay",
              "size": 10,
              "solidity": 0.2
             }
            },
            "type": "barpolar"
           }
          ],
          "carpet": [
           {
            "aaxis": {
             "endlinecolor": "#2a3f5f",
             "gridcolor": "white",
             "linecolor": "white",
             "minorgridcolor": "white",
             "startlinecolor": "#2a3f5f"
            },
            "baxis": {
             "endlinecolor": "#2a3f5f",
             "gridcolor": "white",
             "linecolor": "white",
             "minorgridcolor": "white",
             "startlinecolor": "#2a3f5f"
            },
            "type": "carpet"
           }
          ],
          "choropleth": [
           {
            "colorbar": {
             "outlinewidth": 0,
             "ticks": ""
            },
            "type": "choropleth"
           }
          ],
          "contour": [
           {
            "colorbar": {
             "outlinewidth": 0,
             "ticks": ""
            },
            "colorscale": [
             [
              0,
              "#0d0887"
             ],
             [
              0.1111111111111111,
              "#46039f"
             ],
             [
              0.2222222222222222,
              "#7201a8"
             ],
             [
              0.3333333333333333,
              "#9c179e"
             ],
             [
              0.4444444444444444,
              "#bd3786"
             ],
             [
              0.5555555555555556,
              "#d8576b"
             ],
             [
              0.6666666666666666,
              "#ed7953"
             ],
             [
              0.7777777777777778,
              "#fb9f3a"
             ],
             [
              0.8888888888888888,
              "#fdca26"
             ],
             [
              1,
              "#f0f921"
             ]
            ],
            "type": "contour"
           }
          ],
          "contourcarpet": [
           {
            "colorbar": {
             "outlinewidth": 0,
             "ticks": ""
            },
            "type": "contourcarpet"
           }
          ],
          "heatmap": [
           {
            "colorbar": {
             "outlinewidth": 0,
             "ticks": ""
            },
            "colorscale": [
             [
              0,
              "#0d0887"
             ],
             [
              0.1111111111111111,
              "#46039f"
             ],
             [
              0.2222222222222222,
              "#7201a8"
             ],
             [
              0.3333333333333333,
              "#9c179e"
             ],
             [
              0.4444444444444444,
              "#bd3786"
             ],
             [
              0.5555555555555556,
              "#d8576b"
             ],
             [
              0.6666666666666666,
              "#ed7953"
             ],
             [
              0.7777777777777778,
              "#fb9f3a"
             ],
             [
              0.8888888888888888,
              "#fdca26"
             ],
             [
              1,
              "#f0f921"
             ]
            ],
            "type": "heatmap"
           }
          ],
          "heatmapgl": [
           {
            "colorbar": {
             "outlinewidth": 0,
             "ticks": ""
            },
            "colorscale": [
             [
              0,
              "#0d0887"
             ],
             [
              0.1111111111111111,
              "#46039f"
             ],
             [
              0.2222222222222222,
              "#7201a8"
             ],
             [
              0.3333333333333333,
              "#9c179e"
             ],
             [
              0.4444444444444444,
              "#bd3786"
             ],
             [
              0.5555555555555556,
              "#d8576b"
             ],
             [
              0.6666666666666666,
              "#ed7953"
             ],
             [
              0.7777777777777778,
              "#fb9f3a"
             ],
             [
              0.8888888888888888,
              "#fdca26"
             ],
             [
              1,
              "#f0f921"
             ]
            ],
            "type": "heatmapgl"
           }
          ],
          "histogram": [
           {
            "marker": {
             "pattern": {
              "fillmode": "overlay",
              "size": 10,
              "solidity": 0.2
             }
            },
            "type": "histogram"
           }
          ],
          "histogram2d": [
           {
            "colorbar": {
             "outlinewidth": 0,
             "ticks": ""
            },
            "colorscale": [
             [
              0,
              "#0d0887"
             ],
             [
              0.1111111111111111,
              "#46039f"
             ],
             [
              0.2222222222222222,
              "#7201a8"
             ],
             [
              0.3333333333333333,
              "#9c179e"
             ],
             [
              0.4444444444444444,
              "#bd3786"
             ],
             [
              0.5555555555555556,
              "#d8576b"
             ],
             [
              0.6666666666666666,
              "#ed7953"
             ],
             [
              0.7777777777777778,
              "#fb9f3a"
             ],
             [
              0.8888888888888888,
              "#fdca26"
             ],
             [
              1,
              "#f0f921"
             ]
            ],
            "type": "histogram2d"
           }
          ],
          "histogram2dcontour": [
           {
            "colorbar": {
             "outlinewidth": 0,
             "ticks": ""
            },
            "colorscale": [
             [
              0,
              "#0d0887"
             ],
             [
              0.1111111111111111,
              "#46039f"
             ],
             [
              0.2222222222222222,
              "#7201a8"
             ],
             [
              0.3333333333333333,
              "#9c179e"
             ],
             [
              0.4444444444444444,
              "#bd3786"
             ],
             [
              0.5555555555555556,
              "#d8576b"
             ],
             [
              0.6666666666666666,
              "#ed7953"
             ],
             [
              0.7777777777777778,
              "#fb9f3a"
             ],
             [
              0.8888888888888888,
              "#fdca26"
             ],
             [
              1,
              "#f0f921"
             ]
            ],
            "type": "histogram2dcontour"
           }
          ],
          "mesh3d": [
           {
            "colorbar": {
             "outlinewidth": 0,
             "ticks": ""
            },
            "type": "mesh3d"
           }
          ],
          "parcoords": [
           {
            "line": {
             "colorbar": {
              "outlinewidth": 0,
              "ticks": ""
             }
            },
            "type": "parcoords"
           }
          ],
          "pie": [
           {
            "automargin": true,
            "type": "pie"
           }
          ],
          "scatter": [
           {
            "fillpattern": {
             "fillmode": "overlay",
             "size": 10,
             "solidity": 0.2
            },
            "type": "scatter"
           }
          ],
          "scatter3d": [
           {
            "line": {
             "colorbar": {
              "outlinewidth": 0,
              "ticks": ""
             }
            },
            "marker": {
             "colorbar": {
              "outlinewidth": 0,
              "ticks": ""
             }
            },
            "type": "scatter3d"
           }
          ],
          "scattercarpet": [
           {
            "marker": {
             "colorbar": {
              "outlinewidth": 0,
              "ticks": ""
             }
            },
            "type": "scattercarpet"
           }
          ],
          "scattergeo": [
           {
            "marker": {
             "colorbar": {
              "outlinewidth": 0,
              "ticks": ""
             }
            },
            "type": "scattergeo"
           }
          ],
          "scattergl": [
           {
            "marker": {
             "colorbar": {
              "outlinewidth": 0,
              "ticks": ""
             }
            },
            "type": "scattergl"
           }
          ],
          "scattermapbox": [
           {
            "marker": {
             "colorbar": {
              "outlinewidth": 0,
              "ticks": ""
             }
            },
            "type": "scattermapbox"
           }
          ],
          "scatterpolar": [
           {
            "marker": {
             "colorbar": {
              "outlinewidth": 0,
              "ticks": ""
             }
            },
            "type": "scatterpolar"
           }
          ],
          "scatterpolargl": [
           {
            "marker": {
             "colorbar": {
              "outlinewidth": 0,
              "ticks": ""
             }
            },
            "type": "scatterpolargl"
           }
          ],
          "scatterternary": [
           {
            "marker": {
             "colorbar": {
              "outlinewidth": 0,
              "ticks": ""
             }
            },
            "type": "scatterternary"
           }
          ],
          "surface": [
           {
            "colorbar": {
             "outlinewidth": 0,
             "ticks": ""
            },
            "colorscale": [
             [
              0,
              "#0d0887"
             ],
             [
              0.1111111111111111,
              "#46039f"
             ],
             [
              0.2222222222222222,
              "#7201a8"
             ],
             [
              0.3333333333333333,
              "#9c179e"
             ],
             [
              0.4444444444444444,
              "#bd3786"
             ],
             [
              0.5555555555555556,
              "#d8576b"
             ],
             [
              0.6666666666666666,
              "#ed7953"
             ],
             [
              0.7777777777777778,
              "#fb9f3a"
             ],
             [
              0.8888888888888888,
              "#fdca26"
             ],
             [
              1,
              "#f0f921"
             ]
            ],
            "type": "surface"
           }
          ],
          "table": [
           {
            "cells": {
             "fill": {
              "color": "#EBF0F8"
             },
             "line": {
              "color": "white"
             }
            },
            "header": {
             "fill": {
              "color": "#C8D4E3"
             },
             "line": {
              "color": "white"
             }
            },
            "type": "table"
           }
          ]
         },
         "layout": {
          "annotationdefaults": {
           "arrowcolor": "#2a3f5f",
           "arrowhead": 0,
           "arrowwidth": 1
          },
          "autotypenumbers": "strict",
          "coloraxis": {
           "colorbar": {
            "outlinewidth": 0,
            "ticks": ""
           }
          },
          "colorscale": {
           "diverging": [
            [
             0,
             "#8e0152"
            ],
            [
             0.1,
             "#c51b7d"
            ],
            [
             0.2,
             "#de77ae"
            ],
            [
             0.3,
             "#f1b6da"
            ],
            [
             0.4,
             "#fde0ef"
            ],
            [
             0.5,
             "#f7f7f7"
            ],
            [
             0.6,
             "#e6f5d0"
            ],
            [
             0.7,
             "#b8e186"
            ],
            [
             0.8,
             "#7fbc41"
            ],
            [
             0.9,
             "#4d9221"
            ],
            [
             1,
             "#276419"
            ]
           ],
           "sequential": [
            [
             0,
             "#0d0887"
            ],
            [
             0.1111111111111111,
             "#46039f"
            ],
            [
             0.2222222222222222,
             "#7201a8"
            ],
            [
             0.3333333333333333,
             "#9c179e"
            ],
            [
             0.4444444444444444,
             "#bd3786"
            ],
            [
             0.5555555555555556,
             "#d8576b"
            ],
            [
             0.6666666666666666,
             "#ed7953"
            ],
            [
             0.7777777777777778,
             "#fb9f3a"
            ],
            [
             0.8888888888888888,
             "#fdca26"
            ],
            [
             1,
             "#f0f921"
            ]
           ],
           "sequentialminus": [
            [
             0,
             "#0d0887"
            ],
            [
             0.1111111111111111,
             "#46039f"
            ],
            [
             0.2222222222222222,
             "#7201a8"
            ],
            [
             0.3333333333333333,
             "#9c179e"
            ],
            [
             0.4444444444444444,
             "#bd3786"
            ],
            [
             0.5555555555555556,
             "#d8576b"
            ],
            [
             0.6666666666666666,
             "#ed7953"
            ],
            [
             0.7777777777777778,
             "#fb9f3a"
            ],
            [
             0.8888888888888888,
             "#fdca26"
            ],
            [
             1,
             "#f0f921"
            ]
           ]
          },
          "colorway": [
           "#636efa",
           "#EF553B",
           "#00cc96",
           "#ab63fa",
           "#FFA15A",
           "#19d3f3",
           "#FF6692",
           "#B6E880",
           "#FF97FF",
           "#FECB52"
          ],
          "font": {
           "color": "#2a3f5f"
          },
          "geo": {
           "bgcolor": "white",
           "lakecolor": "white",
           "landcolor": "#E5ECF6",
           "showlakes": true,
           "showland": true,
           "subunitcolor": "white"
          },
          "hoverlabel": {
           "align": "left"
          },
          "hovermode": "closest",
          "mapbox": {
           "style": "light"
          },
          "paper_bgcolor": "white",
          "plot_bgcolor": "#E5ECF6",
          "polar": {
           "angularaxis": {
            "gridcolor": "white",
            "linecolor": "white",
            "ticks": ""
           },
           "bgcolor": "#E5ECF6",
           "radialaxis": {
            "gridcolor": "white",
            "linecolor": "white",
            "ticks": ""
           }
          },
          "scene": {
           "xaxis": {
            "backgroundcolor": "#E5ECF6",
            "gridcolor": "white",
            "gridwidth": 2,
            "linecolor": "white",
            "showbackground": true,
            "ticks": "",
            "zerolinecolor": "white"
           },
           "yaxis": {
            "backgroundcolor": "#E5ECF6",
            "gridcolor": "white",
            "gridwidth": 2,
            "linecolor": "white",
            "showbackground": true,
            "ticks": "",
            "zerolinecolor": "white"
           },
           "zaxis": {
            "backgroundcolor": "#E5ECF6",
            "gridcolor": "white",
            "gridwidth": 2,
            "linecolor": "white",
            "showbackground": true,
            "ticks": "",
            "zerolinecolor": "white"
           }
          },
          "shapedefaults": {
           "line": {
            "color": "#2a3f5f"
           }
          },
          "ternary": {
           "aaxis": {
            "gridcolor": "white",
            "linecolor": "white",
            "ticks": ""
           },
           "baxis": {
            "gridcolor": "white",
            "linecolor": "white",
            "ticks": ""
           },
           "bgcolor": "#E5ECF6",
           "caxis": {
            "gridcolor": "white",
            "linecolor": "white",
            "ticks": ""
           }
          },
          "title": {
           "x": 0.05
          },
          "xaxis": {
           "automargin": true,
           "gridcolor": "white",
           "linecolor": "white",
           "ticks": "",
           "title": {
            "standoff": 15
           },
           "zerolinecolor": "white",
           "zerolinewidth": 2
          },
          "yaxis": {
           "automargin": true,
           "gridcolor": "white",
           "linecolor": "white",
           "ticks": "",
           "title": {
            "standoff": 15
           },
           "zerolinecolor": "white",
           "zerolinewidth": 2
          }
         }
        },
        "width": 1000,
        "xaxis": {
         "showgrid": false,
         "showline": false,
         "showticklabels": false,
         "zeroline": false
        },
        "yaxis": {
         "showgrid": false,
         "showline": false,
         "showticklabels": false,
         "zeroline": false
        }
       }
      }
     },
     "metadata": {},
     "output_type": "display_data"
    }
   ],
   "source": [
    "nos1 = build_hyper_tree_from_folder(folder_path1,True)\n",
    "add_meta(nos1[0],meta_list1,[])\n",
    "show_tree(nos1[0],color=['#184e77','#1a759f','#168aad',\"#34a0a4\",'#52b69a','#99d98c','#76c893','#99d98c']).show_fig()\n",
    "remove_meta(nos1[0]);"
   ]
  },
  {
   "cell_type": "code",
   "execution_count": null,
   "metadata": {},
   "outputs": [],
   "source": []
  }
 ],
 "metadata": {
  "kernelspec": {
   "display_name": "base",
   "language": "python",
   "name": "python3"
  },
  "language_info": {
   "codemirror_mode": {
    "name": "ipython",
    "version": 3
   },
   "file_extension": ".py",
   "mimetype": "text/x-python",
   "name": "python",
   "nbconvert_exporter": "python",
   "pygments_lexer": "ipython3",
   "version": "3.8.16"
  }
 },
 "nbformat": 4,
 "nbformat_minor": 2
}
